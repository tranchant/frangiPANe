{
 "cells": [
  {
   "cell_type": "markdown",
   "metadata": {},
   "source": [
    "<a class=\"anchor\" id=\"home\"><img src=\"Images/frangiPANe.png\" width=50% align=right></a>"
   ]
  },
  {
   "cell_type": "markdown",
   "metadata": {},
   "source": [
    "***\n",
    "\n",
    "# <span style=\"color: #3987C4;\">Table of contents</span>\n",
    "<a class=\"anchor\" id=\"home\"></a>\n",
    "\n",
    "[I - What is frangiPANe?](#whatabout)\n",
    "\n",
    "* [Map-then-assembly approach](#approach)\n",
    "* [Requirements](#requirements)\n",
    "* [Data test](#datatest)\n",
    "* [License](#license)\n",
    "    \n",
    "[II - Preparing frangiPANe analysis](#howtoconfigure)\n",
    "* [Import python packages used by frangiPANe](#importpackages)\n",
    "* [Definition of input data used by frangiPANe workflow](#configinput)\n",
    "* [Creating frangiPANe output directory](#outputdir)\n",
    "* [Creating log file](#logfile)\n",
    "* [Preparing Genome Reference for next analysis](#reference)\n",
    "* [Analyzing Group File](#group)\n",
    "    \n",
    "[III - Workflow](#workflow)\n",
    "* [1 - Stats about raw data](#rawdata)\n",
    "* [2 - Mapping the individuals reads against the reference genome](#mapping)\n",
    "* [3 - Assembly of the individuals' reads that do not map (properly paired) on the reference genome](#assembly)\n",
    "* [4 - Removing Contamination](#contamination)\n",
    "* [5 - Reducing Sequence Redundancy](#redundancy)\n",
    "* [6 - Anchoring Clusters on reference genome](#anchoring)\n",
    "\n",
    "***\n",
    "\n",
    "[<img src=\"Images/up-arrow.png\" alt=\"Top\" width=2% align=\"right\">](#home \"Go back to the top\")\n",
    "\n",
    "# <span style=\"color: #3987C4;\"> I - What is frangiPANe ?  <a class=\"anchor\" id=\"whatabout\"></a></span>\n",
    "\n",
    "This tool allows the generation of a linear panreference, from paired-end short-reads and a reference genome using a Map-Then-Assembly approach.\n",
    "\n",
    "<img src=\"Images/frangiPANe_overview.jpg\" width=70%>\n",
    "\n",
    "### <span style=\"color: #919395\"> _Map-then-assembly approach_ <a class=\"anchor\" id=\"approach\"></a></span>\n",
    "\n",
    "<img src=\"Images/approachMapThenAssembly.jpg\" width=80%>\n",
    "\n",
    "### <span style=\"color: #919395\"> _Data test_ <a class=\"anchor\" id=\"datatest\"></a></span>\n",
    "\n",
    "<details>\n",
    "\n",
    "\n",
    "#### __Rice__ \n",
    "\n",
    "##### _Illumina sequenced dataset_\n",
    "\n",
    "3 African Rice whole-genome sequences (Cubry and al., 2018) were used (paired-end illumina, 2x101bp, ~35X) :\n",
    "\n",
    "* AA, _O. barthii_ (African Rice wild)\n",
    "* AB, _O. barthii_ (African Rice wild)\n",
    "* DT, _O. glaberrima_ (African Rice cultivated)\n",
    "\n",
    "><sub><sup>Cubry P, Tranchant-Dubreuil C, Thuillet AC, Monat C, Ndjiondjop MN, Labadie K, Cruaud C, Engelen S, Scarcelli N, Rhoné B, Burgarella C, Dupuy C, Larmande P, Wincker P, François O, Sabot F, Vigouroux Y. The Rise and Fall of African Rice Cultivation Revealed by Analysis of 246 New Genomes. Curr Biol. 2018 Jul 23;28(14):2274-2282.e6. doi: 10.1016/j.cub.2018.05.066. Epub 2018 Jul 5. PMID: 29983312.</sub></sup>\n",
    "\n",
    "##### _Genome Reference_\n",
    "\n",
    "_Oryza glaberrima_ (OMAPv2 sequence, ref)\n",
    "\n",
    "</details>\n",
    "\n",
    "### <span style=\"color: #919395\">_Requirements_ <a class=\"anchor\" id=\"requirements\"></a></span>\n",
    "\n",
    "<details>\n",
    "\n",
    "* python version\n",
    "\n",
    "* Python modules used\n",
    "    * os, io, subprocess\n",
    "    * Ipython\n",
    "    * ipywidgets\n",
    "    * trailets\n",
    "    * tkinter\n",
    "    * numpy, pandas\n",
    "    * matplotlib\n",
    "    * seaborn\n",
    "    * panel\n",
    "    \n",
    "* Bioinformatics software (version)\n",
    "    * ea-utils (fastq-stats [doc] (https://expressionanalysis.github.io/ea-utils/)] : Command-line tools for processing biological sequencing data. \n",
    "    * BWA [[doc](http://bio-bwa.sourceforge.net/bwa.shtml), [github](https://github.com/lh3/bwa)] : software package for mapping DNA sequences against a large reference genome\n",
    "    * Samtools [[doc](http://www.htslib.org/doc/samtools.html)] : suite of programs for interacting with high-throughput sequencing data : http://www.htslib.org/download/\n",
    "    * ABySS [[github](https://github.com/bcgsc/abyss)] : de novo sequence assembler intended for short paired-end reads and large genomes\n",
    "    * assembly-stats [[github](https://github.com/sanger-pathogens/assembly-stats)] \n",
    "    * cd_hit [[github](https://github.com/weizhongli/cdhit/blob/master/doc/cdhit-user-guide.wiki)]\n",
    "\n",
    "</details>\n",
    "\n",
    "### <span style=\"color: #919395\">_License_ <a class=\"anchor\" id=\"license\"></a></span>\n",
    "\n",
    "* Licencied under CeCill-C (http://www.cecill.info/licences/Licence_CeCILL-C_V1-en.html) and GPLv3\n",
    "* Intellectual property belongs to IRD, ... and SouthGreen development platform\n",
    "* Written by Clothilde Chenal and Christine Tranchant-Dubreuil\n",
    "* Copyright 2021"
   ]
  },
  {
   "cell_type": "markdown",
   "metadata": {},
   "source": [
    "nts/These/frangiPANeGIT/ricents/These/frangiPANeGIT/ricents/These/frangiPANeGIT/rice***\n",
    "\n",
    "[<img src=\"Images/up-arrow.png\" alt=\"Top\" width=2% align=\"right\">](#home \"Go back to the top\")\n",
    "\n",
    "# <span style=\"color: #3987C4;\">II - Preparing frangiPANe analysis <a class=\"anchor\" id=\"howtoconfigure\"></a></span>\n",
    "\n",
    "### <span style=\"color: #919395\"> _Import python packages used by frangiPANe_ </span>"
   ]
  },
  {
   "cell_type": "code",
   "execution_count": 1,
   "metadata": {},
   "outputs": [
    {
     "data": {
      "application/javascript": [
       "\n",
       "(function(root) {\n",
       "  function now() {\n",
       "    return new Date();\n",
       "  }\n",
       "\n",
       "  var force = true;\n",
       "\n",
       "  if (typeof root._bokeh_onload_callbacks === \"undefined\" || force === true) {\n",
       "    root._bokeh_onload_callbacks = [];\n",
       "    root._bokeh_is_loading = undefined;\n",
       "  }\n",
       "\n",
       "  if (typeof (root._bokeh_timeout) === \"undefined\" || force === true) {\n",
       "    root._bokeh_timeout = Date.now() + 5000;\n",
       "    root._bokeh_failed_load = false;\n",
       "  }\n",
       "\n",
       "  function run_callbacks() {\n",
       "    try {\n",
       "      root._bokeh_onload_callbacks.forEach(function(callback) {\n",
       "        if (callback != null)\n",
       "          callback();\n",
       "      });\n",
       "    } finally {\n",
       "      delete root._bokeh_onload_callbacks\n",
       "    }\n",
       "    console.debug(\"Bokeh: all callbacks have finished\");\n",
       "  }\n",
       "\n",
       "  function load_libs(css_urls, js_urls, js_modules, callback) {\n",
       "    if (css_urls == null) css_urls = [];\n",
       "    if (js_urls == null) js_urls = [];\n",
       "    if (js_modules == null) js_modules = [];\n",
       "\n",
       "    root._bokeh_onload_callbacks.push(callback);\n",
       "    if (root._bokeh_is_loading > 0) {\n",
       "      console.debug(\"Bokeh: BokehJS is being loaded, scheduling callback at\", now());\n",
       "      return null;\n",
       "    }\n",
       "    if (js_urls.length === 0 && js_modules.length === 0) {\n",
       "      run_callbacks();\n",
       "      return null;\n",
       "    }\n",
       "    console.debug(\"Bokeh: BokehJS not loaded, scheduling load and callback at\", now());\n",
       "    root._bokeh_is_loading = css_urls.length + js_urls.length + js_modules.length;\n",
       "\n",
       "    function on_load() {\n",
       "      root._bokeh_is_loading--;\n",
       "      if (root._bokeh_is_loading === 0) {\n",
       "        console.debug(\"Bokeh: all BokehJS libraries/stylesheets loaded\");\n",
       "        run_callbacks()\n",
       "      }\n",
       "    }\n",
       "\n",
       "    function on_error() {\n",
       "      console.error(\"failed to load \" + url);\n",
       "    }\n",
       "\n",
       "    for (var i = 0; i < css_urls.length; i++) {\n",
       "      var url = css_urls[i];\n",
       "      const element = document.createElement(\"link\");\n",
       "      element.onload = on_load;\n",
       "      element.onerror = on_error;\n",
       "      element.rel = \"stylesheet\";\n",
       "      element.type = \"text/css\";\n",
       "      element.href = url;\n",
       "      console.debug(\"Bokeh: injecting link tag for BokehJS stylesheet: \", url);\n",
       "      document.body.appendChild(element);\n",
       "    }\n",
       "\n",
       "    var skip = [];\n",
       "    if (window.requirejs) {\n",
       "      window.requirejs.config({'paths': {'tabulator': 'https://unpkg.com/tabulator-tables@4.9.3/dist/js/tabulator'}});\n",
       "      require([\"tabulator\"], function(Tabulator,) {\n",
       "        window.Tabulator = Tabulator;\n",
       "      })\n",
       "    }\n",
       "    if (((window['tabulator'] !== undefined) && (!(window['tabulator'] instanceof HTMLElement))) || window.requirejs) {\n",
       "      var urls = ['https://unpkg.com/tabulator-tables@4.9.3/dist/js/tabulator.js', 'https://unpkg.com/moment@2.27.0/moment.js'];\n",
       "      for (var i = 0; i < urls.length; i++) {\n",
       "        skip.push(urls[i])\n",
       "      }\n",
       "    }\n",
       "    for (var i = 0; i < js_urls.length; i++) {\n",
       "      var url = js_urls[i];\n",
       "      if (skip.indexOf(url) >= 0) { on_load(); continue; }\n",
       "      var element = document.createElement('script');\n",
       "      element.onload = on_load;\n",
       "      element.onerror = on_error;\n",
       "      element.async = false;\n",
       "      element.src = url;\n",
       "      console.debug(\"Bokeh: injecting script tag for BokehJS library: \", url);\n",
       "      document.head.appendChild(element);\n",
       "    }\n",
       "    for (var i = 0; i < js_modules.length; i++) {\n",
       "      var url = js_modules[i];\n",
       "      if (skip.indexOf(url) >= 0) { on_load(); continue; }\n",
       "      var element = document.createElement('script');\n",
       "      element.onload = on_load;\n",
       "      element.onerror = on_error;\n",
       "      element.async = false;\n",
       "      element.src = url;\n",
       "      element.type = \"module\";\n",
       "      console.debug(\"Bokeh: injecting script tag for BokehJS library: \", url);\n",
       "      document.head.appendChild(element);\n",
       "    }\n",
       "    if (!js_urls.length && !js_modules.length) {\n",
       "      on_load()\n",
       "    }\n",
       "  };\n",
       "\n",
       "  function inject_raw_css(css) {\n",
       "    const element = document.createElement(\"style\");\n",
       "    element.appendChild(document.createTextNode(css));\n",
       "    document.body.appendChild(element);\n",
       "  }\n",
       "\n",
       "  var js_urls = [\"https://unpkg.com/tabulator-tables@4.9.3/dist/js/tabulator.js\", \"https://unpkg.com/moment@2.27.0/moment.js\", \"https://cdn.bokeh.org/bokeh/release/bokeh-2.3.3.min.js\", \"https://cdn.bokeh.org/bokeh/release/bokeh-widgets-2.3.3.min.js\", \"https://cdn.bokeh.org/bokeh/release/bokeh-tables-2.3.3.min.js\", \"https://unpkg.com/@holoviz/panel@0.11.1/dist/panel.min.js\"];\n",
       "  var js_modules = [];\n",
       "  var css_urls = [\"https://unpkg.com/tabulator-tables@4.9.3/dist/css/tabulator_simple.min.css\", \"https://unpkg.com/@holoviz/panel@0.11.1/dist/css/widgets.css\", \"https://unpkg.com/@holoviz/panel@0.11.1/dist/css/loading.css\", \"https://unpkg.com/@holoviz/panel@0.11.1/dist/css/dataframe.css\", \"https://unpkg.com/@holoviz/panel@0.11.1/dist/css/alerts.css\", \"https://unpkg.com/@holoviz/panel@0.11.1/dist/css/markdown.css\", \"https://unpkg.com/@holoviz/panel@0.11.1/dist/css/json.css\", \"https://unpkg.com/@holoviz/panel@0.11.1/dist/css/card.css\"];\n",
       "  var inline_js = [\n",
       "    function(Bokeh) {\n",
       "      inject_raw_css(\"\\n    .bk.pn-loading.arcs:before {\\n      background-image: url(\\\"data:image/svg+xml;base64,PHN2ZyB4bWxucz0iaHR0cDovL3d3dy53My5vcmcvMjAwMC9zdmciIHhtbG5zOnhsaW5rPSJodHRwOi8vd3d3LnczLm9yZy8xOTk5L3hsaW5rIiBzdHlsZT0ibWFyZ2luOiBhdXRvOyBiYWNrZ3JvdW5kOiBub25lOyBkaXNwbGF5OiBibG9jazsgc2hhcGUtcmVuZGVyaW5nOiBhdXRvOyIgdmlld0JveD0iMCAwIDEwMCAxMDAiIHByZXNlcnZlQXNwZWN0UmF0aW89InhNaWRZTWlkIj4gIDxjaXJjbGUgY3g9IjUwIiBjeT0iNTAiIHI9IjMyIiBzdHJva2Utd2lkdGg9IjgiIHN0cm9rZT0iI2MzYzNjMyIgc3Ryb2tlLWRhc2hhcnJheT0iNTAuMjY1NDgyNDU3NDM2NjkgNTAuMjY1NDgyNDU3NDM2NjkiIGZpbGw9Im5vbmUiIHN0cm9rZS1saW5lY2FwPSJyb3VuZCI+ICAgIDxhbmltYXRlVHJhbnNmb3JtIGF0dHJpYnV0ZU5hbWU9InRyYW5zZm9ybSIgdHlwZT0icm90YXRlIiByZXBlYXRDb3VudD0iaW5kZWZpbml0ZSIgZHVyPSIxcyIga2V5VGltZXM9IjA7MSIgdmFsdWVzPSIwIDUwIDUwOzM2MCA1MCA1MCI+PC9hbmltYXRlVHJhbnNmb3JtPiAgPC9jaXJjbGU+PC9zdmc+\\\")\\n    }\\n    \");\n",
       "    },\n",
       "    function(Bokeh) {\n",
       "      Bokeh.set_log_level(\"info\");\n",
       "    },\n",
       "    function(Bokeh) {} // ensure no trailing comma for IE\n",
       "  ];\n",
       "\n",
       "  function run_inline_js() {\n",
       "    if ((root.Bokeh !== undefined) || (force === true)) {\n",
       "      for (var i = 0; i < inline_js.length; i++) {\n",
       "        inline_js[i].call(root, root.Bokeh);\n",
       "      }} else if (Date.now() < root._bokeh_timeout) {\n",
       "      setTimeout(run_inline_js, 100);\n",
       "    } else if (!root._bokeh_failed_load) {\n",
       "      console.log(\"Bokeh: BokehJS failed to load within specified timeout.\");\n",
       "      root._bokeh_failed_load = true;\n",
       "    }\n",
       "  }\n",
       "\n",
       "  if (root._bokeh_is_loading === 0) {\n",
       "    console.debug(\"Bokeh: BokehJS loaded, going straight to plotting\");\n",
       "    run_inline_js();\n",
       "  } else {\n",
       "    load_libs(css_urls, js_urls, js_modules, function() {\n",
       "      console.debug(\"Bokeh: BokehJS plotting callback run at\", now());\n",
       "      run_inline_js();\n",
       "    });\n",
       "  }\n",
       "}(window));"
      ],
      "application/vnd.holoviews_load.v0+json": "\n(function(root) {\n  function now() {\n    return new Date();\n  }\n\n  var force = true;\n\n  if (typeof root._bokeh_onload_callbacks === \"undefined\" || force === true) {\n    root._bokeh_onload_callbacks = [];\n    root._bokeh_is_loading = undefined;\n  }\n\n  if (typeof (root._bokeh_timeout) === \"undefined\" || force === true) {\n    root._bokeh_timeout = Date.now() + 5000;\n    root._bokeh_failed_load = false;\n  }\n\n  function run_callbacks() {\n    try {\n      root._bokeh_onload_callbacks.forEach(function(callback) {\n        if (callback != null)\n          callback();\n      });\n    } finally {\n      delete root._bokeh_onload_callbacks\n    }\n    console.debug(\"Bokeh: all callbacks have finished\");\n  }\n\n  function load_libs(css_urls, js_urls, js_modules, callback) {\n    if (css_urls == null) css_urls = [];\n    if (js_urls == null) js_urls = [];\n    if (js_modules == null) js_modules = [];\n\n    root._bokeh_onload_callbacks.push(callback);\n    if (root._bokeh_is_loading > 0) {\n      console.debug(\"Bokeh: BokehJS is being loaded, scheduling callback at\", now());\n      return null;\n    }\n    if (js_urls.length === 0 && js_modules.length === 0) {\n      run_callbacks();\n      return null;\n    }\n    console.debug(\"Bokeh: BokehJS not loaded, scheduling load and callback at\", now());\n    root._bokeh_is_loading = css_urls.length + js_urls.length + js_modules.length;\n\n    function on_load() {\n      root._bokeh_is_loading--;\n      if (root._bokeh_is_loading === 0) {\n        console.debug(\"Bokeh: all BokehJS libraries/stylesheets loaded\");\n        run_callbacks()\n      }\n    }\n\n    function on_error() {\n      console.error(\"failed to load \" + url);\n    }\n\n    for (var i = 0; i < css_urls.length; i++) {\n      var url = css_urls[i];\n      const element = document.createElement(\"link\");\n      element.onload = on_load;\n      element.onerror = on_error;\n      element.rel = \"stylesheet\";\n      element.type = \"text/css\";\n      element.href = url;\n      console.debug(\"Bokeh: injecting link tag for BokehJS stylesheet: \", url);\n      document.body.appendChild(element);\n    }\n\n    var skip = [];\n    if (window.requirejs) {\n      window.requirejs.config({'paths': {'tabulator': 'https://unpkg.com/tabulator-tables@4.9.3/dist/js/tabulator'}});\n      require([\"tabulator\"], function(Tabulator,) {\n        window.Tabulator = Tabulator;\n      })\n    }\n    if (((window['tabulator'] !== undefined) && (!(window['tabulator'] instanceof HTMLElement))) || window.requirejs) {\n      var urls = ['https://unpkg.com/tabulator-tables@4.9.3/dist/js/tabulator.js', 'https://unpkg.com/moment@2.27.0/moment.js'];\n      for (var i = 0; i < urls.length; i++) {\n        skip.push(urls[i])\n      }\n    }\n    for (var i = 0; i < js_urls.length; i++) {\n      var url = js_urls[i];\n      if (skip.indexOf(url) >= 0) { on_load(); continue; }\n      var element = document.createElement('script');\n      element.onload = on_load;\n      element.onerror = on_error;\n      element.async = false;\n      element.src = url;\n      console.debug(\"Bokeh: injecting script tag for BokehJS library: \", url);\n      document.head.appendChild(element);\n    }\n    for (var i = 0; i < js_modules.length; i++) {\n      var url = js_modules[i];\n      if (skip.indexOf(url) >= 0) { on_load(); continue; }\n      var element = document.createElement('script');\n      element.onload = on_load;\n      element.onerror = on_error;\n      element.async = false;\n      element.src = url;\n      element.type = \"module\";\n      console.debug(\"Bokeh: injecting script tag for BokehJS library: \", url);\n      document.head.appendChild(element);\n    }\n    if (!js_urls.length && !js_modules.length) {\n      on_load()\n    }\n  };\n\n  function inject_raw_css(css) {\n    const element = document.createElement(\"style\");\n    element.appendChild(document.createTextNode(css));\n    document.body.appendChild(element);\n  }\n\n  var js_urls = [\"https://unpkg.com/tabulator-tables@4.9.3/dist/js/tabulator.js\", \"https://unpkg.com/moment@2.27.0/moment.js\", \"https://cdn.bokeh.org/bokeh/release/bokeh-2.3.3.min.js\", \"https://cdn.bokeh.org/bokeh/release/bokeh-widgets-2.3.3.min.js\", \"https://cdn.bokeh.org/bokeh/release/bokeh-tables-2.3.3.min.js\", \"https://unpkg.com/@holoviz/panel@0.11.1/dist/panel.min.js\"];\n  var js_modules = [];\n  var css_urls = [\"https://unpkg.com/tabulator-tables@4.9.3/dist/css/tabulator_simple.min.css\", \"https://unpkg.com/@holoviz/panel@0.11.1/dist/css/widgets.css\", \"https://unpkg.com/@holoviz/panel@0.11.1/dist/css/loading.css\", \"https://unpkg.com/@holoviz/panel@0.11.1/dist/css/dataframe.css\", \"https://unpkg.com/@holoviz/panel@0.11.1/dist/css/alerts.css\", \"https://unpkg.com/@holoviz/panel@0.11.1/dist/css/markdown.css\", \"https://unpkg.com/@holoviz/panel@0.11.1/dist/css/json.css\", \"https://unpkg.com/@holoviz/panel@0.11.1/dist/css/card.css\"];\n  var inline_js = [\n    function(Bokeh) {\n      inject_raw_css(\"\\n    .bk.pn-loading.arcs:before {\\n      background-image: url(\\\"data:image/svg+xml;base64,PHN2ZyB4bWxucz0iaHR0cDovL3d3dy53My5vcmcvMjAwMC9zdmciIHhtbG5zOnhsaW5rPSJodHRwOi8vd3d3LnczLm9yZy8xOTk5L3hsaW5rIiBzdHlsZT0ibWFyZ2luOiBhdXRvOyBiYWNrZ3JvdW5kOiBub25lOyBkaXNwbGF5OiBibG9jazsgc2hhcGUtcmVuZGVyaW5nOiBhdXRvOyIgdmlld0JveD0iMCAwIDEwMCAxMDAiIHByZXNlcnZlQXNwZWN0UmF0aW89InhNaWRZTWlkIj4gIDxjaXJjbGUgY3g9IjUwIiBjeT0iNTAiIHI9IjMyIiBzdHJva2Utd2lkdGg9IjgiIHN0cm9rZT0iI2MzYzNjMyIgc3Ryb2tlLWRhc2hhcnJheT0iNTAuMjY1NDgyNDU3NDM2NjkgNTAuMjY1NDgyNDU3NDM2NjkiIGZpbGw9Im5vbmUiIHN0cm9rZS1saW5lY2FwPSJyb3VuZCI+ICAgIDxhbmltYXRlVHJhbnNmb3JtIGF0dHJpYnV0ZU5hbWU9InRyYW5zZm9ybSIgdHlwZT0icm90YXRlIiByZXBlYXRDb3VudD0iaW5kZWZpbml0ZSIgZHVyPSIxcyIga2V5VGltZXM9IjA7MSIgdmFsdWVzPSIwIDUwIDUwOzM2MCA1MCA1MCI+PC9hbmltYXRlVHJhbnNmb3JtPiAgPC9jaXJjbGU+PC9zdmc+\\\")\\n    }\\n    \");\n    },\n    function(Bokeh) {\n      Bokeh.set_log_level(\"info\");\n    },\n    function(Bokeh) {} // ensure no trailing comma for IE\n  ];\n\n  function run_inline_js() {\n    if ((root.Bokeh !== undefined) || (force === true)) {\n      for (var i = 0; i < inline_js.length; i++) {\n        inline_js[i].call(root, root.Bokeh);\n      }} else if (Date.now() < root._bokeh_timeout) {\n      setTimeout(run_inline_js, 100);\n    } else if (!root._bokeh_failed_load) {\n      console.log(\"Bokeh: BokehJS failed to load within specified timeout.\");\n      root._bokeh_failed_load = true;\n    }\n  }\n\n  if (root._bokeh_is_loading === 0) {\n    console.debug(\"Bokeh: BokehJS loaded, going straight to plotting\");\n    run_inline_js();\n  } else {\n    load_libs(css_urls, js_urls, js_modules, function() {\n      console.debug(\"Bokeh: BokehJS plotting callback run at\", now());\n      run_inline_js();\n    });\n  }\n}(window));"
     },
     "metadata": {},
     "output_type": "display_data"
    },
    {
     "data": {
      "application/javascript": [
       "\n",
       "if ((window.PyViz === undefined) || (window.PyViz instanceof HTMLElement)) {\n",
       "  window.PyViz = {comms: {}, comm_status:{}, kernels:{}, receivers: {}, plot_index: []}\n",
       "}\n",
       "\n",
       "\n",
       "    function JupyterCommManager() {\n",
       "    }\n",
       "\n",
       "    JupyterCommManager.prototype.register_target = function(plot_id, comm_id, msg_handler) {\n",
       "      if (window.comm_manager || ((window.Jupyter !== undefined) && (Jupyter.notebook.kernel != null))) {\n",
       "        var comm_manager = window.comm_manager || Jupyter.notebook.kernel.comm_manager;\n",
       "        comm_manager.register_target(comm_id, function(comm) {\n",
       "          comm.on_msg(msg_handler);\n",
       "        });\n",
       "      } else if ((plot_id in window.PyViz.kernels) && (window.PyViz.kernels[plot_id])) {\n",
       "        window.PyViz.kernels[plot_id].registerCommTarget(comm_id, function(comm) {\n",
       "          comm.onMsg = msg_handler;\n",
       "        });\n",
       "      } else if (typeof google != 'undefined' && google.colab.kernel != null) {\n",
       "        google.colab.kernel.comms.registerTarget(comm_id, (comm) => {\n",
       "          var messages = comm.messages[Symbol.asyncIterator]();\n",
       "          function processIteratorResult(result) {\n",
       "            var message = result.value;\n",
       "            console.log(message)\n",
       "            var content = {data: message.data, comm_id};\n",
       "            var buffers = []\n",
       "            for (var buffer of message.buffers || []) {\n",
       "              buffers.push(new DataView(buffer))\n",
       "            }\n",
       "            var metadata = message.metadata || {};\n",
       "            var msg = {content, buffers, metadata}\n",
       "            msg_handler(msg);\n",
       "            return messages.next().then(processIteratorResult);\n",
       "          }\n",
       "          return messages.next().then(processIteratorResult);\n",
       "        })\n",
       "      }\n",
       "    }\n",
       "\n",
       "    JupyterCommManager.prototype.get_client_comm = function(plot_id, comm_id, msg_handler) {\n",
       "      if (comm_id in window.PyViz.comms) {\n",
       "        return window.PyViz.comms[comm_id];\n",
       "      } else if (window.comm_manager || ((window.Jupyter !== undefined) && (Jupyter.notebook.kernel != null))) {\n",
       "        var comm_manager = window.comm_manager || Jupyter.notebook.kernel.comm_manager;\n",
       "        var comm = comm_manager.new_comm(comm_id, {}, {}, {}, comm_id);\n",
       "        if (msg_handler) {\n",
       "          comm.on_msg(msg_handler);\n",
       "        }\n",
       "      } else if ((plot_id in window.PyViz.kernels) && (window.PyViz.kernels[plot_id])) {\n",
       "        var comm = window.PyViz.kernels[plot_id].connectToComm(comm_id);\n",
       "        comm.open();\n",
       "        if (msg_handler) {\n",
       "          comm.onMsg = msg_handler;\n",
       "        }\n",
       "      } else if (typeof google != 'undefined' && google.colab.kernel != null) {\n",
       "        var comm_promise = google.colab.kernel.comms.open(comm_id)\n",
       "        comm_promise.then((comm) => {\n",
       "          window.PyViz.comms[comm_id] = comm;\n",
       "          if (msg_handler) {\n",
       "            var messages = comm.messages[Symbol.asyncIterator]();\n",
       "            function processIteratorResult(result) {\n",
       "              var message = result.value;\n",
       "              var content = {data: message.data};\n",
       "              var metadata = message.metadata || {comm_id};\n",
       "              var msg = {content, metadata}\n",
       "              msg_handler(msg);\n",
       "              return messages.next().then(processIteratorResult);\n",
       "            }\n",
       "            return messages.next().then(processIteratorResult);\n",
       "          }\n",
       "        }) \n",
       "        var sendClosure = (data, metadata, buffers, disposeOnDone) => {\n",
       "          return comm_promise.then((comm) => {\n",
       "            comm.send(data, metadata, buffers, disposeOnDone);\n",
       "          });\n",
       "        };\n",
       "        var comm = {\n",
       "          send: sendClosure\n",
       "        };\n",
       "      }\n",
       "      window.PyViz.comms[comm_id] = comm;\n",
       "      return comm;\n",
       "    }\n",
       "    window.PyViz.comm_manager = new JupyterCommManager();\n",
       "    \n",
       "\n",
       "\n",
       "var JS_MIME_TYPE = 'application/javascript';\n",
       "var HTML_MIME_TYPE = 'text/html';\n",
       "var EXEC_MIME_TYPE = 'application/vnd.holoviews_exec.v0+json';\n",
       "var CLASS_NAME = 'output';\n",
       "\n",
       "/**\n",
       " * Render data to the DOM node\n",
       " */\n",
       "function render(props, node) {\n",
       "  var div = document.createElement(\"div\");\n",
       "  var script = document.createElement(\"script\");\n",
       "  node.appendChild(div);\n",
       "  node.appendChild(script);\n",
       "}\n",
       "\n",
       "/**\n",
       " * Handle when a new output is added\n",
       " */\n",
       "function handle_add_output(event, handle) {\n",
       "  var output_area = handle.output_area;\n",
       "  var output = handle.output;\n",
       "  if ((output.data == undefined) || (!output.data.hasOwnProperty(EXEC_MIME_TYPE))) {\n",
       "    return\n",
       "  }\n",
       "  var id = output.metadata[EXEC_MIME_TYPE][\"id\"];\n",
       "  var toinsert = output_area.element.find(\".\" + CLASS_NAME.split(' ')[0]);\n",
       "  if (id !== undefined) {\n",
       "    var nchildren = toinsert.length;\n",
       "    var html_node = toinsert[nchildren-1].children[0];\n",
       "    html_node.innerHTML = output.data[HTML_MIME_TYPE];\n",
       "    var scripts = [];\n",
       "    var nodelist = html_node.querySelectorAll(\"script\");\n",
       "    for (var i in nodelist) {\n",
       "      if (nodelist.hasOwnProperty(i)) {\n",
       "        scripts.push(nodelist[i])\n",
       "      }\n",
       "    }\n",
       "\n",
       "    scripts.forEach( function (oldScript) {\n",
       "      var newScript = document.createElement(\"script\");\n",
       "      var attrs = [];\n",
       "      var nodemap = oldScript.attributes;\n",
       "      for (var j in nodemap) {\n",
       "        if (nodemap.hasOwnProperty(j)) {\n",
       "          attrs.push(nodemap[j])\n",
       "        }\n",
       "      }\n",
       "      attrs.forEach(function(attr) { newScript.setAttribute(attr.name, attr.value) });\n",
       "      newScript.appendChild(document.createTextNode(oldScript.innerHTML));\n",
       "      oldScript.parentNode.replaceChild(newScript, oldScript);\n",
       "    });\n",
       "    if (JS_MIME_TYPE in output.data) {\n",
       "      toinsert[nchildren-1].children[1].textContent = output.data[JS_MIME_TYPE];\n",
       "    }\n",
       "    output_area._hv_plot_id = id;\n",
       "    if ((window.Bokeh !== undefined) && (id in Bokeh.index)) {\n",
       "      window.PyViz.plot_index[id] = Bokeh.index[id];\n",
       "    } else {\n",
       "      window.PyViz.plot_index[id] = null;\n",
       "    }\n",
       "  } else if (output.metadata[EXEC_MIME_TYPE][\"server_id\"] !== undefined) {\n",
       "    var bk_div = document.createElement(\"div\");\n",
       "    bk_div.innerHTML = output.data[HTML_MIME_TYPE];\n",
       "    var script_attrs = bk_div.children[0].attributes;\n",
       "    for (var i = 0; i < script_attrs.length; i++) {\n",
       "      toinsert[toinsert.length - 1].childNodes[1].setAttribute(script_attrs[i].name, script_attrs[i].value);\n",
       "    }\n",
       "    // store reference to server id on output_area\n",
       "    output_area._bokeh_server_id = output.metadata[EXEC_MIME_TYPE][\"server_id\"];\n",
       "  }\n",
       "}\n",
       "\n",
       "/**\n",
       " * Handle when an output is cleared or removed\n",
       " */\n",
       "function handle_clear_output(event, handle) {\n",
       "  var id = handle.cell.output_area._hv_plot_id;\n",
       "  var server_id = handle.cell.output_area._bokeh_server_id;\n",
       "  if (((id === undefined) || !(id in PyViz.plot_index)) && (server_id !== undefined)) { return; }\n",
       "  var comm = window.PyViz.comm_manager.get_client_comm(\"hv-extension-comm\", \"hv-extension-comm\", function () {});\n",
       "  if (server_id !== null) {\n",
       "    comm.send({event_type: 'server_delete', 'id': server_id});\n",
       "    return;\n",
       "  } else if (comm !== null) {\n",
       "    comm.send({event_type: 'delete', 'id': id});\n",
       "  }\n",
       "  delete PyViz.plot_index[id];\n",
       "  if ((window.Bokeh !== undefined) & (id in window.Bokeh.index)) {\n",
       "    var doc = window.Bokeh.index[id].model.document\n",
       "    doc.clear();\n",
       "    const i = window.Bokeh.documents.indexOf(doc);\n",
       "    if (i > -1) {\n",
       "      window.Bokeh.documents.splice(i, 1);\n",
       "    }\n",
       "  }\n",
       "}\n",
       "\n",
       "/**\n",
       " * Handle kernel restart event\n",
       " */\n",
       "function handle_kernel_cleanup(event, handle) {\n",
       "  delete PyViz.comms[\"hv-extension-comm\"];\n",
       "  window.PyViz.plot_index = {}\n",
       "}\n",
       "\n",
       "/**\n",
       " * Handle update_display_data messages\n",
       " */\n",
       "function handle_update_output(event, handle) {\n",
       "  handle_clear_output(event, {cell: {output_area: handle.output_area}})\n",
       "  handle_add_output(event, handle)\n",
       "}\n",
       "\n",
       "function register_renderer(events, OutputArea) {\n",
       "  function append_mime(data, metadata, element) {\n",
       "    // create a DOM node to render to\n",
       "    var toinsert = this.create_output_subarea(\n",
       "    metadata,\n",
       "    CLASS_NAME,\n",
       "    EXEC_MIME_TYPE\n",
       "    );\n",
       "    this.keyboard_manager.register_events(toinsert);\n",
       "    // Render to node\n",
       "    var props = {data: data, metadata: metadata[EXEC_MIME_TYPE]};\n",
       "    render(props, toinsert[0]);\n",
       "    element.append(toinsert);\n",
       "    return toinsert\n",
       "  }\n",
       "\n",
       "  events.on('output_added.OutputArea', handle_add_output);\n",
       "  events.on('output_updated.OutputArea', handle_update_output);\n",
       "  events.on('clear_output.CodeCell', handle_clear_output);\n",
       "  events.on('delete.Cell', handle_clear_output);\n",
       "  events.on('kernel_ready.Kernel', handle_kernel_cleanup);\n",
       "\n",
       "  OutputArea.prototype.register_mime_type(EXEC_MIME_TYPE, append_mime, {\n",
       "    safe: true,\n",
       "    index: 0\n",
       "  });\n",
       "}\n",
       "\n",
       "if (window.Jupyter !== undefined) {\n",
       "  try {\n",
       "    var events = require('base/js/events');\n",
       "    var OutputArea = require('notebook/js/outputarea').OutputArea;\n",
       "    if (OutputArea.prototype.mime_types().indexOf(EXEC_MIME_TYPE) == -1) {\n",
       "      register_renderer(events, OutputArea);\n",
       "    }\n",
       "  } catch(err) {\n",
       "  }\n",
       "}\n"
      ],
      "application/vnd.holoviews_load.v0+json": "\nif ((window.PyViz === undefined) || (window.PyViz instanceof HTMLElement)) {\n  window.PyViz = {comms: {}, comm_status:{}, kernels:{}, receivers: {}, plot_index: []}\n}\n\n\n    function JupyterCommManager() {\n    }\n\n    JupyterCommManager.prototype.register_target = function(plot_id, comm_id, msg_handler) {\n      if (window.comm_manager || ((window.Jupyter !== undefined) && (Jupyter.notebook.kernel != null))) {\n        var comm_manager = window.comm_manager || Jupyter.notebook.kernel.comm_manager;\n        comm_manager.register_target(comm_id, function(comm) {\n          comm.on_msg(msg_handler);\n        });\n      } else if ((plot_id in window.PyViz.kernels) && (window.PyViz.kernels[plot_id])) {\n        window.PyViz.kernels[plot_id].registerCommTarget(comm_id, function(comm) {\n          comm.onMsg = msg_handler;\n        });\n      } else if (typeof google != 'undefined' && google.colab.kernel != null) {\n        google.colab.kernel.comms.registerTarget(comm_id, (comm) => {\n          var messages = comm.messages[Symbol.asyncIterator]();\n          function processIteratorResult(result) {\n            var message = result.value;\n            console.log(message)\n            var content = {data: message.data, comm_id};\n            var buffers = []\n            for (var buffer of message.buffers || []) {\n              buffers.push(new DataView(buffer))\n            }\n            var metadata = message.metadata || {};\n            var msg = {content, buffers, metadata}\n            msg_handler(msg);\n            return messages.next().then(processIteratorResult);\n          }\n          return messages.next().then(processIteratorResult);\n        })\n      }\n    }\n\n    JupyterCommManager.prototype.get_client_comm = function(plot_id, comm_id, msg_handler) {\n      if (comm_id in window.PyViz.comms) {\n        return window.PyViz.comms[comm_id];\n      } else if (window.comm_manager || ((window.Jupyter !== undefined) && (Jupyter.notebook.kernel != null))) {\n        var comm_manager = window.comm_manager || Jupyter.notebook.kernel.comm_manager;\n        var comm = comm_manager.new_comm(comm_id, {}, {}, {}, comm_id);\n        if (msg_handler) {\n          comm.on_msg(msg_handler);\n        }\n      } else if ((plot_id in window.PyViz.kernels) && (window.PyViz.kernels[plot_id])) {\n        var comm = window.PyViz.kernels[plot_id].connectToComm(comm_id);\n        comm.open();\n        if (msg_handler) {\n          comm.onMsg = msg_handler;\n        }\n      } else if (typeof google != 'undefined' && google.colab.kernel != null) {\n        var comm_promise = google.colab.kernel.comms.open(comm_id)\n        comm_promise.then((comm) => {\n          window.PyViz.comms[comm_id] = comm;\n          if (msg_handler) {\n            var messages = comm.messages[Symbol.asyncIterator]();\n            function processIteratorResult(result) {\n              var message = result.value;\n              var content = {data: message.data};\n              var metadata = message.metadata || {comm_id};\n              var msg = {content, metadata}\n              msg_handler(msg);\n              return messages.next().then(processIteratorResult);\n            }\n            return messages.next().then(processIteratorResult);\n          }\n        }) \n        var sendClosure = (data, metadata, buffers, disposeOnDone) => {\n          return comm_promise.then((comm) => {\n            comm.send(data, metadata, buffers, disposeOnDone);\n          });\n        };\n        var comm = {\n          send: sendClosure\n        };\n      }\n      window.PyViz.comms[comm_id] = comm;\n      return comm;\n    }\n    window.PyViz.comm_manager = new JupyterCommManager();\n    \n\n\nvar JS_MIME_TYPE = 'application/javascript';\nvar HTML_MIME_TYPE = 'text/html';\nvar EXEC_MIME_TYPE = 'application/vnd.holoviews_exec.v0+json';\nvar CLASS_NAME = 'output';\n\n/**\n * Render data to the DOM node\n */\nfunction render(props, node) {\n  var div = document.createElement(\"div\");\n  var script = document.createElement(\"script\");\n  node.appendChild(div);\n  node.appendChild(script);\n}\n\n/**\n * Handle when a new output is added\n */\nfunction handle_add_output(event, handle) {\n  var output_area = handle.output_area;\n  var output = handle.output;\n  if ((output.data == undefined) || (!output.data.hasOwnProperty(EXEC_MIME_TYPE))) {\n    return\n  }\n  var id = output.metadata[EXEC_MIME_TYPE][\"id\"];\n  var toinsert = output_area.element.find(\".\" + CLASS_NAME.split(' ')[0]);\n  if (id !== undefined) {\n    var nchildren = toinsert.length;\n    var html_node = toinsert[nchildren-1].children[0];\n    html_node.innerHTML = output.data[HTML_MIME_TYPE];\n    var scripts = [];\n    var nodelist = html_node.querySelectorAll(\"script\");\n    for (var i in nodelist) {\n      if (nodelist.hasOwnProperty(i)) {\n        scripts.push(nodelist[i])\n      }\n    }\n\n    scripts.forEach( function (oldScript) {\n      var newScript = document.createElement(\"script\");\n      var attrs = [];\n      var nodemap = oldScript.attributes;\n      for (var j in nodemap) {\n        if (nodemap.hasOwnProperty(j)) {\n          attrs.push(nodemap[j])\n        }\n      }\n      attrs.forEach(function(attr) { newScript.setAttribute(attr.name, attr.value) });\n      newScript.appendChild(document.createTextNode(oldScript.innerHTML));\n      oldScript.parentNode.replaceChild(newScript, oldScript);\n    });\n    if (JS_MIME_TYPE in output.data) {\n      toinsert[nchildren-1].children[1].textContent = output.data[JS_MIME_TYPE];\n    }\n    output_area._hv_plot_id = id;\n    if ((window.Bokeh !== undefined) && (id in Bokeh.index)) {\n      window.PyViz.plot_index[id] = Bokeh.index[id];\n    } else {\n      window.PyViz.plot_index[id] = null;\n    }\n  } else if (output.metadata[EXEC_MIME_TYPE][\"server_id\"] !== undefined) {\n    var bk_div = document.createElement(\"div\");\n    bk_div.innerHTML = output.data[HTML_MIME_TYPE];\n    var script_attrs = bk_div.children[0].attributes;\n    for (var i = 0; i < script_attrs.length; i++) {\n      toinsert[toinsert.length - 1].childNodes[1].setAttribute(script_attrs[i].name, script_attrs[i].value);\n    }\n    // store reference to server id on output_area\n    output_area._bokeh_server_id = output.metadata[EXEC_MIME_TYPE][\"server_id\"];\n  }\n}\n\n/**\n * Handle when an output is cleared or removed\n */\nfunction handle_clear_output(event, handle) {\n  var id = handle.cell.output_area._hv_plot_id;\n  var server_id = handle.cell.output_area._bokeh_server_id;\n  if (((id === undefined) || !(id in PyViz.plot_index)) && (server_id !== undefined)) { return; }\n  var comm = window.PyViz.comm_manager.get_client_comm(\"hv-extension-comm\", \"hv-extension-comm\", function () {});\n  if (server_id !== null) {\n    comm.send({event_type: 'server_delete', 'id': server_id});\n    return;\n  } else if (comm !== null) {\n    comm.send({event_type: 'delete', 'id': id});\n  }\n  delete PyViz.plot_index[id];\n  if ((window.Bokeh !== undefined) & (id in window.Bokeh.index)) {\n    var doc = window.Bokeh.index[id].model.document\n    doc.clear();\n    const i = window.Bokeh.documents.indexOf(doc);\n    if (i > -1) {\n      window.Bokeh.documents.splice(i, 1);\n    }\n  }\n}\n\n/**\n * Handle kernel restart event\n */\nfunction handle_kernel_cleanup(event, handle) {\n  delete PyViz.comms[\"hv-extension-comm\"];\n  window.PyViz.plot_index = {}\n}\n\n/**\n * Handle update_display_data messages\n */\nfunction handle_update_output(event, handle) {\n  handle_clear_output(event, {cell: {output_area: handle.output_area}})\n  handle_add_output(event, handle)\n}\n\nfunction register_renderer(events, OutputArea) {\n  function append_mime(data, metadata, element) {\n    // create a DOM node to render to\n    var toinsert = this.create_output_subarea(\n    metadata,\n    CLASS_NAME,\n    EXEC_MIME_TYPE\n    );\n    this.keyboard_manager.register_events(toinsert);\n    // Render to node\n    var props = {data: data, metadata: metadata[EXEC_MIME_TYPE]};\n    render(props, toinsert[0]);\n    element.append(toinsert);\n    return toinsert\n  }\n\n  events.on('output_added.OutputArea', handle_add_output);\n  events.on('output_updated.OutputArea', handle_update_output);\n  events.on('clear_output.CodeCell', handle_clear_output);\n  events.on('delete.Cell', handle_clear_output);\n  events.on('kernel_ready.Kernel', handle_kernel_cleanup);\n\n  OutputArea.prototype.register_mime_type(EXEC_MIME_TYPE, append_mime, {\n    safe: true,\n    index: 0\n  });\n}\n\nif (window.Jupyter !== undefined) {\n  try {\n    var events = require('base/js/events');\n    var OutputArea = require('notebook/js/outputarea').OutputArea;\n    if (OutputArea.prototype.mime_types().indexOf(EXEC_MIME_TYPE) == -1) {\n      register_renderer(events, OutputArea);\n    }\n  } catch(err) {\n  }\n}\n"
     },
     "metadata": {},
     "output_type": "display_data"
    },
    {
     "data": {},
     "metadata": {},
     "output_type": "display_data"
    },
    {
     "data": {
      "application/vnd.holoviews_exec.v0+json": "",
      "text/html": [
       "<div id='1002'>\n",
       "\n",
       "\n",
       "\n",
       "\n",
       "\n",
       "  <div class=\"bk-root\" id=\"f109cc30-f51d-402f-bfd8-5010c53f9a63\" data-root-id=\"1002\"></div>\n",
       "</div>\n",
       "<script type=\"application/javascript\">(function(root) {\n",
       "  function embed_document(root) {\n",
       "    var docs_json = {\"f3161f51-9555-4ae8-adae-d30713f92adf\":{\"defs\":[],\"roots\":{\"references\":[{\"attributes\":{\"css_classes\":[\"alert\",\"alert-success\",\"markdown\"],\"margin\":[0,0,25,0],\"name\":\"Alert00099\",\"sizing_mode\":\"stretch_width\",\"text\":\"&lt;p&gt;Import all python packages required successfully&lt;/p&gt;\"},\"id\":\"1002\",\"type\":\"panel.models.markup.HTML\"},{\"attributes\":{\"client_comm_id\":\"30b8a44289694b5980def05d353492d9\",\"comm_id\":\"83a64fd0bafb48048de169134b02e578\",\"plot_id\":\"1002\"},\"id\":\"1003\",\"type\":\"panel.models.comm_manager.CommManager\"},{\"attributes\":{\"reload\":false},\"id\":\"1004\",\"type\":\"panel.models.location.Location\"}],\"root_ids\":[\"1002\",\"1003\",\"1004\"]},\"title\":\"Bokeh Application\",\"version\":\"2.3.3\"}};\n",
       "    var render_items = [{\"docid\":\"f3161f51-9555-4ae8-adae-d30713f92adf\",\"root_ids\":[\"1002\"],\"roots\":{\"1002\":\"f109cc30-f51d-402f-bfd8-5010c53f9a63\"}}];\n",
       "    root.Bokeh.embed.embed_items_notebook(docs_json, render_items);\n",
       "  }\n",
       "  if (root.Bokeh !== undefined && root.Bokeh.Panel !== undefined) {\n",
       "    embed_document(root);\n",
       "  } else {\n",
       "    var attempts = 0;\n",
       "    var timer = setInterval(function(root) {\n",
       "      if (root.Bokeh !== undefined && root.Bokeh.Panel !== undefined) {\n",
       "        clearInterval(timer);\n",
       "        embed_document(root);\n",
       "      } else if (document.readyState == \"complete\") {\n",
       "        attempts++;\n",
       "        if (attempts > 100) {\n",
       "          clearInterval(timer);\n",
       "          console.log(\"Bokeh: ERROR: Unable to run BokehJS code because BokehJS library is missing\");\n",
       "        }\n",
       "      }\n",
       "    }, 10, root)\n",
       "  }\n",
       "})(window);</script>"
      ],
      "text/plain": [
       "Alert(str, alert_type='success', css_classes=['alert', 'alert-success']...], margin=(0, 0, 25, 0), sizing_mode='stretch_width')"
      ]
     },
     "metadata": {
      "application/vnd.holoviews_exec.v0+json": {
       "id": "1002"
      }
     },
     "output_type": "display_data"
    },
    {
     "data": {
      "text/html": [
       "<img src onerror=\"var cell = this.closest('.jp-CodeCell');var editor = cell.querySelector('.jp-Editor');editor.style.background='LightBlue';this.parentNode.removeChild(this)\">"
      ],
      "text/plain": [
       "<IPython.core.display.HTML object>"
      ]
     },
     "metadata": {},
     "output_type": "display_data"
    }
   ],
   "source": [
    "from tools.jupyter import dashboard_group\n",
    "from tools.jupyter import *\n",
    "from tools.frangiPANe import *\n",
    "\n",
    "import panel as pn\n",
    "\n",
    "pn.extension()\n",
    "\n",
    "add_css()\n",
    "\n",
    "text = \"Import all python packages required successfully\"\n",
    "display_alert(text,\"success\")\n",
    "bgc('LightBlue')"
   ]
  },
  {
   "cell_type": "markdown",
   "metadata": {},
   "source": [
    "### <span style=\"color: #919395\"> _Definition of input data used by frangiPANe workflow_  <a class=\"anchor\" id=\"configinput\"></a></span>\n",
    "\n",
    "<details>\n",
    "\n",
    "* __Project Name__ : the directory name that will contain all the results generated by this analysis\n",
    "* __Output Directory__ : the parent directory that will contain the __project_name__ directory\n",
    "* __Fastq Directory__ : the directory that contains .fastq files of all the individuals\n",
    "* __Reference File__ : the reference genome used to map all reads (fastq files). The reference genome have to be provided in a fasta format. The reference genome must be indexed by BWA for subsequent analyzes. The **REF**.amb, **REF**.ann, **REF**.bwt, **REF**.pac and **REF**.sa files are created.)\n",
    "* __Group File__ :  (It is common for several individuals to have different origins when building a pangenome. To exploit this diversity in the results, PANtoum needs a tabulated file (separator = tabulation, no header); the first column corresponds to the name of the individuals (should correspond to .fastq files) and the second to the group they belong. NB : It is possible to use only one group.)\n",
    "\n",
    "ex of samples with 2 groups : wild or cultivated\n",
    "    \n",
    "| sample  | group  |\n",
    "|---|---|\n",
    "| AA | wild | \n",
    "| AB  | wild | \n",
    "| CB  | cultivated |\n",
    "\n",
    "</details>\n",
    "\n",
    "Run the following cell and fill the parameters box"
   ]
  },
  {
   "cell_type": "code",
   "execution_count": 2,
   "metadata": {},
   "outputs": [
    {
     "data": {},
     "metadata": {},
     "output_type": "display_data"
    },
    {
     "data": {
      "application/vnd.holoviews_exec.v0+json": "",
      "text/html": [
       "<div id='1005'>\n",
       "\n",
       "\n",
       "\n",
       "\n",
       "\n",
       "  <div class=\"bk-root\" id=\"e426090c-ed12-40de-bb86-428ce323de1c\" data-root-id=\"1005\"></div>\n",
       "</div>\n",
       "<script type=\"application/javascript\">(function(root) {\n",
       "  function embed_document(root) {\n",
       "    var docs_json = {\"095894bf-b8c4-4d8d-a906-927901c63923\":{\"defs\":[],\"roots\":{\"references\":[{\"attributes\":{\"children\":[{\"id\":\"1009\"},{\"id\":\"1010\"}],\"margin\":[0,0,0,0],\"name\":\"Row00114\"},\"id\":\"1008\",\"type\":\"Row\"},{\"attributes\":{\"background\":\"#E3ECF1\",\"children\":[{\"id\":\"1006\"},{\"id\":\"1007\"}],\"css_classes\":[\"panel-widget-box\"],\"margin\":[5,5,5,5],\"name\":\"WidgetBox00118\"},\"id\":\"1005\",\"type\":\"Column\"},{\"attributes\":{\"css_classes\":[\"markdown\"],\"margin\":[5,5,5,5],\"name\":\"Markdown00116\",\"text\":\"&lt;h1&gt;INPUT FORM&lt;/h1&gt;\"},\"id\":\"1006\",\"type\":\"panel.models.markup.HTML\"},{\"attributes\":{\"children\":[{\"id\":\"1015\"},{\"id\":\"1016\"}],\"margin\":[0,0,0,0],\"name\":\"Row00113\"},\"id\":\"1014\",\"type\":\"Row\"},{\"attributes\":{\"client_comm_id\":\"e7630eb142de4193bf8fe6c085060787\",\"comm_id\":\"9f453dfd211641458a237fa25304775f\",\"plot_id\":\"1005\"},\"id\":\"1018\",\"type\":\"panel.models.comm_manager.CommManager\"},{\"attributes\":{\"children\":[{\"id\":\"1008\"},{\"id\":\"1011\"},{\"id\":\"1012\"},{\"id\":\"1013\"},{\"id\":\"1014\"},{\"id\":\"1017\"}],\"margin\":[0,0,0,0],\"min_width\":800,\"name\":\"Column00115\",\"width\":800},\"id\":\"1007\",\"type\":\"Column\"},{\"attributes\":{\"margin\":[5,10,5,10],\"max_length\":5000,\"placeholder\":\"Enter the file path here...\",\"title\":\"Reference file\"},\"id\":\"1013\",\"type\":\"TextInput\"},{\"attributes\":{\"margin\":[5,10,5,10],\"max_length\":5000,\"placeholder\":\"Enter the name here...\",\"title\":\"Project name :\"},\"id\":\"1009\",\"type\":\"TextInput\"},{\"attributes\":{\"button_type\":\"primary\",\"icon\":null,\"label\":\"INIT\",\"margin\":[5,10,5,10],\"min_width\":100,\"subscribed_events\":[\"button_click\"],\"width\":100},\"id\":\"1016\",\"type\":\"Button\"},{\"attributes\":{\"button_type\":\"primary\",\"icon\":null,\"label\":\"SAVE\",\"margin\":[5,10,5,10],\"min_width\":100,\"subscribed_events\":[\"button_click\"],\"width\":100},\"id\":\"1015\",\"type\":\"Button\"},{\"attributes\":{\"margin\":[5,10,5,10],\"max_length\":5000,\"placeholder\":\"Enter the directory path here...\",\"title\":\"Output directory :\"},\"id\":\"1010\",\"type\":\"TextInput\"},{\"attributes\":{\"css_classes\":[\"alert\",\"alert-warning\",\"markdown\"],\"height\":200,\"margin\":[0,0,25,0],\"name\":\"Alert00104\",\"sizing_mode\":\"stretch_width\",\"text\":\"&lt;p&gt;No filled&lt;/p&gt;\"},\"id\":\"1017\",\"type\":\"panel.models.markup.HTML\"},{\"attributes\":{\"margin\":[5,10,5,10],\"max_length\":5000,\"placeholder\":\"Enter the file path here...\",\"title\":\"Group file\"},\"id\":\"1012\",\"type\":\"TextInput\"},{\"attributes\":{\"margin\":[5,10,5,10],\"max_length\":5000,\"placeholder\":\"Enter the directory path here...\",\"title\":\"Fastq directory\"},\"id\":\"1011\",\"type\":\"TextInput\"}],\"root_ids\":[\"1005\",\"1018\"]},\"title\":\"Bokeh Application\",\"version\":\"2.3.3\"}};\n",
       "    var render_items = [{\"docid\":\"095894bf-b8c4-4d8d-a906-927901c63923\",\"root_ids\":[\"1005\"],\"roots\":{\"1005\":\"e426090c-ed12-40de-bb86-428ce323de1c\"}}];\n",
       "    root.Bokeh.embed.embed_items_notebook(docs_json, render_items);\n",
       "  }\n",
       "  if (root.Bokeh !== undefined && root.Bokeh.Panel !== undefined) {\n",
       "    embed_document(root);\n",
       "  } else {\n",
       "    var attempts = 0;\n",
       "    var timer = setInterval(function(root) {\n",
       "      if (root.Bokeh !== undefined && root.Bokeh.Panel !== undefined) {\n",
       "        clearInterval(timer);\n",
       "        embed_document(root);\n",
       "      } else if (document.readyState == \"complete\") {\n",
       "        attempts++;\n",
       "        if (attempts > 100) {\n",
       "          clearInterval(timer);\n",
       "          console.log(\"Bokeh: ERROR: Unable to run BokehJS code because BokehJS library is missing\");\n",
       "        }\n",
       "      }\n",
       "    }, 10, root)\n",
       "  }\n",
       "})(window);</script>"
      ],
      "text/plain": [
       "WidgetBox(background='#E3ECF1')\n",
       "    [0] Markdown(str)\n",
       "    [1] Column(width=800)\n",
       "        [0] Row\n",
       "            [0] TextInput(name='Project name :', placeholder='Enter the name here...')\n",
       "            [1] TextInput(name='Output directory :', placeholder='Enter the directory p...)\n",
       "        [1] TextInput(name='Fastq directory', placeholder='Enter the directory p...)\n",
       "        [2] TextInput(name='Group file', placeholder='Enter the file p...)\n",
       "        [3] TextInput(name='Reference file', placeholder='Enter the file p...)\n",
       "        [4] Row\n",
       "            [0] Button(button_type='primary', name='SAVE', width=100)\n",
       "            [1] Button(button_type='primary', name='INIT', width=100)\n",
       "        [5] Alert(str, alert_type='warning', css_classes=['alert', 'alert-warning']...], height=200, margin=(0, 0, 25, 0), sizing_mode='stretch_width')"
      ]
     },
     "metadata": {
      "application/vnd.holoviews_exec.v0+json": {
       "id": "1005"
      }
     },
     "output_type": "display_data"
    },
    {
     "data": {
      "text/html": [
       "<img src onerror=\"var cell = this.closest('.jp-CodeCell');var editor = cell.querySelector('.jp-Editor');editor.style.background='LightBlue';this.parentNode.removeChild(this)\">"
      ],
      "text/plain": [
       "<IPython.core.display.HTML object>"
      ]
     },
     "metadata": {},
     "output_type": "display_data"
    }
   ],
   "source": [
    "project_name, out_dir, ref_file, group_file, fastq_dir= box_config()\n",
    "bgc('LightBlue')"
   ]
  },
  {
   "cell_type": "markdown",
   "metadata": {},
   "source": [
    "### <span style=\"color: #919395\">_Creating frangiPANe output directory_<a class=\"anchor\" id=\"outputdirectory\"></a></span>\n",
    "\n",
    "<img src=\"Images/frangiPANe_output_tree.jpg\">\n",
    "\n",
    "Be careful : if the directory already exists, files and directory that were generated by previous analysis could be removed by new analysis steps\n",
    "\n",
    "In the log file,  all outputs generated by bioinformatics tools (eg: bwa index, mem, abyss) are saved"
   ]
  },
  {
   "cell_type": "code",
   "execution_count": 3,
   "metadata": {},
   "outputs": [
    {
     "ename": "PermissionError",
     "evalue": "[Errno 13] Permission denied: '/frangiPANe_'",
     "output_type": "error",
     "traceback": [
      "\u001b[0;31m---------------------------------------------------------------------------\u001b[0m",
      "\u001b[0;31mPermissionError\u001b[0m                           Traceback (most recent call last)",
      "\u001b[0;32m/tmp/ipykernel_4422/3137422264.py\u001b[0m in \u001b[0;36m<module>\u001b[0;34m\u001b[0m\n\u001b[1;32m      1\u001b[0m \u001b[0;31m#output_dir=\"/home/christine/Documents/These/frangiPANeGIT/frangiPANe_rice\"\u001b[0m\u001b[0;34m\u001b[0m\u001b[0;34m\u001b[0m\u001b[0;34m\u001b[0m\u001b[0m\n\u001b[1;32m      2\u001b[0m \u001b[0moutput_dir\u001b[0m \u001b[0;34m=\u001b[0m \u001b[0mout_dir\u001b[0m\u001b[0;34m.\u001b[0m\u001b[0mvalue\u001b[0m \u001b[0;34m+\u001b[0m \u001b[0;34m\"/frangiPANe_\"\u001b[0m \u001b[0;34m+\u001b[0m \u001b[0mproject_name\u001b[0m\u001b[0;34m.\u001b[0m\u001b[0mvalue\u001b[0m\u001b[0;34m\u001b[0m\u001b[0;34m\u001b[0m\u001b[0m\n\u001b[0;32m----> 3\u001b[0;31m \u001b[0mmake_dir\u001b[0m\u001b[0;34m(\u001b[0m\u001b[0moutput_dir\u001b[0m\u001b[0;34m)\u001b[0m\u001b[0;34m\u001b[0m\u001b[0;34m\u001b[0m\u001b[0m\n\u001b[0m\u001b[1;32m      4\u001b[0m \u001b[0mlogger\u001b[0m \u001b[0;34m=\u001b[0m \u001b[0minit_log\u001b[0m\u001b[0;34m(\u001b[0m\u001b[0moutput_dir\u001b[0m\u001b[0;34m,\u001b[0m\u001b[0mproject_name\u001b[0m\u001b[0;34m.\u001b[0m\u001b[0mvalue\u001b[0m\u001b[0;34m)\u001b[0m\u001b[0;34m\u001b[0m\u001b[0;34m\u001b[0m\u001b[0m\n\u001b[1;32m      5\u001b[0m \u001b[0mbgc\u001b[0m\u001b[0;34m(\u001b[0m\u001b[0;34m'LightBlue'\u001b[0m\u001b[0;34m)\u001b[0m\u001b[0;34m\u001b[0m\u001b[0;34m\u001b[0m\u001b[0m\n",
      "\u001b[0;32m~/Documents/These/frangiPANeGIT/frangiPANe/frangiPANe/tools/frangiPANe.py\u001b[0m in \u001b[0;36mmake_dir\u001b[0;34m(path)\u001b[0m\n\u001b[1;32m     32\u001b[0m \u001b[0;34m\u001b[0m\u001b[0m\n\u001b[1;32m     33\u001b[0m     \u001b[0;32mif\u001b[0m \u001b[0;32mnot\u001b[0m \u001b[0mos\u001b[0m\u001b[0;34m.\u001b[0m\u001b[0mpath\u001b[0m\u001b[0;34m.\u001b[0m\u001b[0mexists\u001b[0m\u001b[0;34m(\u001b[0m\u001b[0mpath\u001b[0m\u001b[0;34m)\u001b[0m\u001b[0;34m:\u001b[0m\u001b[0;34m\u001b[0m\u001b[0;34m\u001b[0m\u001b[0m\n\u001b[0;32m---> 34\u001b[0;31m         \u001b[0mos\u001b[0m\u001b[0;34m.\u001b[0m\u001b[0mmakedirs\u001b[0m\u001b[0;34m(\u001b[0m\u001b[0mpath\u001b[0m\u001b[0;34m)\u001b[0m\u001b[0;34m\u001b[0m\u001b[0;34m\u001b[0m\u001b[0m\n\u001b[0m\u001b[1;32m     35\u001b[0m         \u001b[0mat\u001b[0m \u001b[0;34m=\u001b[0m \u001b[0;34m\"success\"\u001b[0m\u001b[0;34m\u001b[0m\u001b[0;34m\u001b[0m\u001b[0m\n\u001b[1;32m     36\u001b[0m         \u001b[0mtext\u001b[0m \u001b[0;34m=\u001b[0m \u001b[0;34mf\"Directory {path} created\"\u001b[0m\u001b[0;34m\u001b[0m\u001b[0;34m\u001b[0m\u001b[0m\n",
      "\u001b[0;32m~/anaconda3/lib/python3.8/os.py\u001b[0m in \u001b[0;36mmakedirs\u001b[0;34m(name, mode, exist_ok)\u001b[0m\n\u001b[1;32m    221\u001b[0m             \u001b[0;32mreturn\u001b[0m\u001b[0;34m\u001b[0m\u001b[0;34m\u001b[0m\u001b[0m\n\u001b[1;32m    222\u001b[0m     \u001b[0;32mtry\u001b[0m\u001b[0;34m:\u001b[0m\u001b[0;34m\u001b[0m\u001b[0;34m\u001b[0m\u001b[0m\n\u001b[0;32m--> 223\u001b[0;31m         \u001b[0mmkdir\u001b[0m\u001b[0;34m(\u001b[0m\u001b[0mname\u001b[0m\u001b[0;34m,\u001b[0m \u001b[0mmode\u001b[0m\u001b[0;34m)\u001b[0m\u001b[0;34m\u001b[0m\u001b[0;34m\u001b[0m\u001b[0m\n\u001b[0m\u001b[1;32m    224\u001b[0m     \u001b[0;32mexcept\u001b[0m \u001b[0mOSError\u001b[0m\u001b[0;34m:\u001b[0m\u001b[0;34m\u001b[0m\u001b[0;34m\u001b[0m\u001b[0m\n\u001b[1;32m    225\u001b[0m         \u001b[0;31m# Cannot rely on checking for EEXIST, since the operating system\u001b[0m\u001b[0;34m\u001b[0m\u001b[0;34m\u001b[0m\u001b[0;34m\u001b[0m\u001b[0m\n",
      "\u001b[0;31mPermissionError\u001b[0m: [Errno 13] Permission denied: '/frangiPANe_'"
     ]
    }
   ],
   "source": [
    "#output_dir=\"/home/christine/Documents/These/frangiPANeGIT/frangiPANe_rice\"\n",
    "output_dir = out_dir.value + \"/frangiPANe_\" + project_name.value\n",
    "make_dir(output_dir)\n",
    "logger = init_log(output_dir,project_name.value)\n",
    "bgc('LightBlue')"
   ]
  },
  {
   "cell_type": "code",
   "execution_count": 3,
   "metadata": {},
   "outputs": [
    {
     "data": {},
     "metadata": {},
     "output_type": "display_data"
    },
    {
     "data": {
      "application/vnd.holoviews_exec.v0+json": "",
      "text/html": [
       "<div id='1019'>\n",
       "\n",
       "\n",
       "\n",
       "\n",
       "\n",
       "  <div class=\"bk-root\" id=\"68de6338-9394-4d73-922c-cbeb89bbc02d\" data-root-id=\"1019\"></div>\n",
       "</div>\n",
       "<script type=\"application/javascript\">(function(root) {\n",
       "  function embed_document(root) {\n",
       "    var docs_json = {\"140c3b81-2bc2-434c-b27d-e2eab351cda7\":{\"defs\":[],\"roots\":{\"references\":[{\"attributes\":{\"css_classes\":[\"alert\",\"alert-success\",\"markdown\"],\"margin\":[0,0,25,0],\"name\":\"Alert00121\",\"sizing_mode\":\"stretch_width\",\"text\":\"&lt;p&gt;Log /home/christine/Documents/These/frangiPANeGIT/frangiPANe_rice/frangiPANe_rice-25-10-2021_22:57:33.log created&lt;/p&gt;\"},\"id\":\"1019\",\"type\":\"panel.models.markup.HTML\"},{\"attributes\":{\"client_comm_id\":\"e04291914d744cc291ea9dc611c27499\",\"comm_id\":\"2fb2b06dcdf24170ae8cbf7764fed8fd\",\"plot_id\":\"1019\"},\"id\":\"1020\",\"type\":\"panel.models.comm_manager.CommManager\"}],\"root_ids\":[\"1019\",\"1020\"]},\"title\":\"Bokeh Application\",\"version\":\"2.3.3\"}};\n",
       "    var render_items = [{\"docid\":\"140c3b81-2bc2-434c-b27d-e2eab351cda7\",\"root_ids\":[\"1019\"],\"roots\":{\"1019\":\"68de6338-9394-4d73-922c-cbeb89bbc02d\"}}];\n",
       "    root.Bokeh.embed.embed_items_notebook(docs_json, render_items);\n",
       "  }\n",
       "  if (root.Bokeh !== undefined && root.Bokeh.Panel !== undefined) {\n",
       "    embed_document(root);\n",
       "  } else {\n",
       "    var attempts = 0;\n",
       "    var timer = setInterval(function(root) {\n",
       "      if (root.Bokeh !== undefined && root.Bokeh.Panel !== undefined) {\n",
       "        clearInterval(timer);\n",
       "        embed_document(root);\n",
       "      } else if (document.readyState == \"complete\") {\n",
       "        attempts++;\n",
       "        if (attempts > 100) {\n",
       "          clearInterval(timer);\n",
       "          console.log(\"Bokeh: ERROR: Unable to run BokehJS code because BokehJS library is missing\");\n",
       "        }\n",
       "      }\n",
       "    }, 10, root)\n",
       "  }\n",
       "})(window);</script>"
      ],
      "text/plain": [
       "Alert(str, alert_type='success', css_classes=['alert', 'alert-success']...], margin=(0, 0, 25, 0), sizing_mode='stretch_width')"
      ]
     },
     "metadata": {
      "application/vnd.holoviews_exec.v0+json": {
       "id": "1019"
      }
     },
     "output_type": "display_data"
    }
   ],
   "source": [
    "#### TO REMOVE\n",
    "project_name=\"rice\"\n",
    "output_dir=\"/home/christine/Documents/These/frangiPANeGIT/frangiPANe_rice\"\n",
    "fastq_dir=\"/home/christine/Documents/These/frangiPANeGIT/rice/fastq\"\n",
    "group_file=\"/home/christine/Documents/These/frangiPANeGIT/rice/rice_group.txt\"\n",
    "ref_file=\"/home/christine/Documents/These/frangiPANeGIT/rice/OglaRS2ADWL02.12chronly.fa\"\n",
    "logger = init_log(output_dir,project_name)"
   ]
  },
  {
   "cell_type": "markdown",
   "metadata": {},
   "source": [
    "### <span style=\"color: #919395\">_Preparing Genome Reference for next analysis_\n",
    "\n",
    "#### __Genome indexation__ and __Genome dashboard__\n",
    "\n",
    "This step is done with `bwa index` if index are absent. Indexation is required before performing reads mapping against genome reference."
   ]
  },
  {
   "cell_type": "code",
   "execution_count": null,
   "metadata": {},
   "outputs": [],
   "source": [
    "index_reference_genome(ref_file.value, logger)\n",
    "total_genome_size=dashboard_genome(ref_file.value)\n",
    "bgc('LightBlue')"
   ]
  },
  {
   "cell_type": "code",
   "execution_count": 4,
   "metadata": {},
   "outputs": [
    {
     "data": {},
     "metadata": {},
     "output_type": "display_data"
    },
    {
     "data": {
      "application/vnd.holoviews_exec.v0+json": "",
      "text/html": [
       "<div id='1021'>\n",
       "\n",
       "\n",
       "\n",
       "\n",
       "\n",
       "  <div class=\"bk-root\" id=\"4780df8d-9317-43b0-a756-95d9138467d3\" data-root-id=\"1021\"></div>\n",
       "</div>\n",
       "<script type=\"application/javascript\">(function(root) {\n",
       "  function embed_document(root) {\n",
       "    var docs_json = {\"e9890a10-224e-4791-9e5d-c502ccf937d7\":{\"defs\":[],\"roots\":{\"references\":[{\"attributes\":{\"css_classes\":[\"alert\",\"alert-info\",\"markdown\"],\"margin\":[0,0,25,0],\"name\":\"Alert00125\",\"sizing_mode\":\"stretch_width\",\"text\":\"&lt;p&gt;Searching index files for reference file /home/christine/Documents/These/frangiPANeGIT/rice/OglaRS2ADWL02.12chronly.fa&lt;/p&gt;\"},\"id\":\"1021\",\"type\":\"panel.models.markup.HTML\"},{\"attributes\":{\"client_comm_id\":\"08e27105c2da45cb86546b1a1503093d\",\"comm_id\":\"658ac031984c46c494d66e8aa3a78921\",\"plot_id\":\"1021\"},\"id\":\"1022\",\"type\":\"panel.models.comm_manager.CommManager\"}],\"root_ids\":[\"1021\",\"1022\"]},\"title\":\"Bokeh Application\",\"version\":\"2.3.3\"}};\n",
       "    var render_items = [{\"docid\":\"e9890a10-224e-4791-9e5d-c502ccf937d7\",\"root_ids\":[\"1021\"],\"roots\":{\"1021\":\"4780df8d-9317-43b0-a756-95d9138467d3\"}}];\n",
       "    root.Bokeh.embed.embed_items_notebook(docs_json, render_items);\n",
       "  }\n",
       "  if (root.Bokeh !== undefined && root.Bokeh.Panel !== undefined) {\n",
       "    embed_document(root);\n",
       "  } else {\n",
       "    var attempts = 0;\n",
       "    var timer = setInterval(function(root) {\n",
       "      if (root.Bokeh !== undefined && root.Bokeh.Panel !== undefined) {\n",
       "        clearInterval(timer);\n",
       "        embed_document(root);\n",
       "      } else if (document.readyState == \"complete\") {\n",
       "        attempts++;\n",
       "        if (attempts > 100) {\n",
       "          clearInterval(timer);\n",
       "          console.log(\"Bokeh: ERROR: Unable to run BokehJS code because BokehJS library is missing\");\n",
       "        }\n",
       "      }\n",
       "    }, 10, root)\n",
       "  }\n",
       "})(window);</script>"
      ],
      "text/plain": [
       "Alert(str, alert_type='info', css_classes=['alert', 'alert-info'], margin=(0, 0, 25, 0), sizing_mode='stretch_width')"
      ]
     },
     "metadata": {
      "application/vnd.holoviews_exec.v0+json": {
       "id": "1021"
      }
     },
     "output_type": "display_data"
    },
    {
     "data": {},
     "metadata": {},
     "output_type": "display_data"
    },
    {
     "data": {
      "application/vnd.holoviews_exec.v0+json": "",
      "text/html": [
       "<div id='1023'>\n",
       "\n",
       "\n",
       "\n",
       "\n",
       "\n",
       "  <div class=\"bk-root\" id=\"68ee5d64-7730-41d6-a1e0-8e72d57f9a26\" data-root-id=\"1023\"></div>\n",
       "</div>\n",
       "<script type=\"application/javascript\">(function(root) {\n",
       "  function embed_document(root) {\n",
       "    var docs_json = {\"25a2ff89-6b02-42ba-abee-7d001c551ccb\":{\"defs\":[],\"roots\":{\"references\":[{\"attributes\":{\"client_comm_id\":\"3ca5c67c157f4cccab4f124a09d89f62\",\"comm_id\":\"78098da6b37441ab865198ee25aa8389\",\"plot_id\":\"1023\"},\"id\":\"1024\",\"type\":\"panel.models.comm_manager.CommManager\"},{\"attributes\":{\"css_classes\":[\"alert\",\"alert-warning\",\"markdown\"],\"margin\":[0,0,25,0],\"name\":\"Alert00129\",\"sizing_mode\":\"stretch_width\",\"text\":\"&lt;p&gt;Index files already available (/home/christine/Documents/These/frangiPANeGIT/rice/OglaRS2ADWL02.12chronly.fa).... Skip Indexation Step&lt;/p&gt;\"},\"id\":\"1023\",\"type\":\"panel.models.markup.HTML\"}],\"root_ids\":[\"1023\",\"1024\"]},\"title\":\"Bokeh Application\",\"version\":\"2.3.3\"}};\n",
       "    var render_items = [{\"docid\":\"25a2ff89-6b02-42ba-abee-7d001c551ccb\",\"root_ids\":[\"1023\"],\"roots\":{\"1023\":\"68ee5d64-7730-41d6-a1e0-8e72d57f9a26\"}}];\n",
       "    root.Bokeh.embed.embed_items_notebook(docs_json, render_items);\n",
       "  }\n",
       "  if (root.Bokeh !== undefined && root.Bokeh.Panel !== undefined) {\n",
       "    embed_document(root);\n",
       "  } else {\n",
       "    var attempts = 0;\n",
       "    var timer = setInterval(function(root) {\n",
       "      if (root.Bokeh !== undefined && root.Bokeh.Panel !== undefined) {\n",
       "        clearInterval(timer);\n",
       "        embed_document(root);\n",
       "      } else if (document.readyState == \"complete\") {\n",
       "        attempts++;\n",
       "        if (attempts > 100) {\n",
       "          clearInterval(timer);\n",
       "          console.log(\"Bokeh: ERROR: Unable to run BokehJS code because BokehJS library is missing\");\n",
       "        }\n",
       "      }\n",
       "    }, 10, root)\n",
       "  }\n",
       "})(window);</script>"
      ],
      "text/plain": [
       "Alert(str, alert_type='warning', css_classes=['alert', 'alert-warning']...], margin=(0, 0, 25, 0), sizing_mode='stretch_width')"
      ]
     },
     "metadata": {
      "application/vnd.holoviews_exec.v0+json": {
       "id": "1023"
      }
     },
     "output_type": "display_data"
    },
    {
     "data": {},
     "metadata": {},
     "output_type": "display_data"
    },
    {
     "data": {
      "application/vnd.holoviews_exec.v0+json": "",
      "text/html": [
       "<div id='1025'>\n",
       "\n",
       "\n",
       "\n",
       "\n",
       "\n",
       "  <div class=\"bk-root\" id=\"c1798571-f77d-4afa-88df-56891cd0dba6\" data-root-id=\"1025\"></div>\n",
       "</div>\n",
       "<script type=\"application/javascript\">(function(root) {\n",
       "  function embed_document(root) {\n",
       "    var docs_json = {\"580afc4a-1ae5-413b-83ec-1366fc5b64a4\":{\"defs\":[],\"roots\":{\"references\":[{\"attributes\":{\"background\":\"WhiteSmoke\",\"children\":[{\"id\":\"1026\"},{\"id\":\"1027\"},{\"id\":\"1028\"}],\"margin\":[0,0,0,0],\"name\":\"Column00142\",\"sizing_mode\":\"stretch_both\"},\"id\":\"1025\",\"type\":\"Column\"},{\"attributes\":{\"css_classes\":[\"markdown\"],\"margin\":[5,5,5,5],\"name\":\"Markdown00140\",\"text\":\"&lt;h2&gt;Genome size (Mb) : 344.46&lt;/h2&gt;\"},\"id\":\"1027\",\"type\":\"panel.models.markup.HTML\"},{\"attributes\":{\"client_comm_id\":\"dc91ede5a05b4af5ad4e0f2c903bf49d\",\"comm_id\":\"bb938220efa3468798f29e8b6d24661c\",\"plot_id\":\"1025\"},\"id\":\"1031\",\"type\":\"panel.models.comm_manager.CommManager\"},{\"attributes\":{\"children\":[{\"id\":\"1029\"},{\"id\":\"1030\"}],\"margin\":[0,0,0,0],\"name\":\"Row00137\"},\"id\":\"1028\",\"type\":\"Row\"},{\"attributes\":{\"margin\":[5,5,5,5],\"name\":\"DataFrame00133\",\"text\":\"&lt;table border=&quot;0&quot; class=&quot;dataframe panel-df&quot;&gt;\\n  &lt;thead&gt;\\n    &lt;tr style=&quot;text-align: right;&quot;&gt;\\n      &lt;th&gt;&lt;/th&gt;\\n      &lt;th&gt;chr&lt;/th&gt;\\n      &lt;th&gt;size&lt;/th&gt;\\n    &lt;/tr&gt;\\n  &lt;/thead&gt;\\n  &lt;tbody&gt;\\n    &lt;tr&gt;\\n      &lt;th&gt;0&lt;/th&gt;\\n      &lt;td&gt;Chr01&lt;/td&gt;\\n      &lt;td&gt;39.66&lt;/td&gt;\\n    &lt;/tr&gt;\\n    &lt;tr&gt;\\n      &lt;th&gt;1&lt;/th&gt;\\n      &lt;td&gt;Chr02&lt;/td&gt;\\n      &lt;td&gt;34.45&lt;/td&gt;\\n    &lt;/tr&gt;\\n    &lt;tr&gt;\\n      &lt;th&gt;2&lt;/th&gt;\\n      &lt;td&gt;Chr03&lt;/td&gt;\\n      &lt;td&gt;35.53&lt;/td&gt;\\n    &lt;/tr&gt;\\n    &lt;tr&gt;\\n      &lt;th&gt;3&lt;/th&gt;\\n      &lt;td&gt;Chr04&lt;/td&gt;\\n      &lt;td&gt;31.57&lt;/td&gt;\\n    &lt;/tr&gt;\\n    &lt;tr&gt;\\n      &lt;th&gt;4&lt;/th&gt;\\n      &lt;td&gt;Chr05&lt;/td&gt;\\n      &lt;td&gt;26.27&lt;/td&gt;\\n    &lt;/tr&gt;\\n    &lt;tr&gt;\\n      &lt;th&gt;5&lt;/th&gt;\\n      &lt;td&gt;Chr06&lt;/td&gt;\\n      &lt;td&gt;29.28&lt;/td&gt;\\n    &lt;/tr&gt;\\n    &lt;tr&gt;\\n      &lt;th&gt;6&lt;/th&gt;\\n      &lt;td&gt;Chr07&lt;/td&gt;\\n      &lt;td&gt;26.60&lt;/td&gt;\\n    &lt;/tr&gt;\\n    &lt;tr&gt;\\n      &lt;th&gt;7&lt;/th&gt;\\n      &lt;td&gt;Chr08&lt;/td&gt;\\n      &lt;td&gt;25.47&lt;/td&gt;\\n    &lt;/tr&gt;\\n    &lt;tr&gt;\\n      &lt;th&gt;8&lt;/th&gt;\\n      &lt;td&gt;Chr09&lt;/td&gt;\\n      &lt;td&gt;21.80&lt;/td&gt;\\n    &lt;/tr&gt;\\n    &lt;tr&gt;\\n      &lt;th&gt;9&lt;/th&gt;\\n      &lt;td&gt;Chr10&lt;/td&gt;\\n      &lt;td&gt;22.42&lt;/td&gt;\\n    &lt;/tr&gt;\\n    &lt;tr&gt;\\n      &lt;th&gt;10&lt;/th&gt;\\n      &lt;td&gt;Chr11&lt;/td&gt;\\n      &lt;td&gt;26.39&lt;/td&gt;\\n    &lt;/tr&gt;\\n    &lt;tr&gt;\\n      &lt;th&gt;11&lt;/th&gt;\\n      &lt;td&gt;Chr12&lt;/td&gt;\\n      &lt;td&gt;25.02&lt;/td&gt;\\n    &lt;/tr&gt;\\n  &lt;/tbody&gt;\\n&lt;/table&gt;\"},\"id\":\"1030\",\"type\":\"panel.models.markup.HTML\"},{\"attributes\":{\"height\":432,\"margin\":[5,5,5,5],\"name\":\"Matplotlib00135\",\"text\":\"&lt;img src=&quot;data:image/png;base64,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&quot; width=&quot;576px&quot; height=&quot;432px&quot; alt=&quot;&quot;&gt;&lt;/img&gt;\",\"width\":576},\"id\":\"1029\",\"type\":\"panel.models.markup.HTML\"},{\"attributes\":{\"css_classes\":[\"markdown\"],\"margin\":[5,5,5,5],\"name\":\"Markdown00138\",\"text\":\"&lt;h1&gt;Reference genome file&lt;/h1&gt;\"},\"id\":\"1026\",\"type\":\"panel.models.markup.HTML\"}],\"root_ids\":[\"1025\",\"1031\"]},\"title\":\"Bokeh Application\",\"version\":\"2.3.3\"}};\n",
       "    var render_items = [{\"docid\":\"580afc4a-1ae5-413b-83ec-1366fc5b64a4\",\"root_ids\":[\"1025\"],\"roots\":{\"1025\":\"c1798571-f77d-4afa-88df-56891cd0dba6\"}}];\n",
       "    root.Bokeh.embed.embed_items_notebook(docs_json, render_items);\n",
       "  }\n",
       "  if (root.Bokeh !== undefined && root.Bokeh.Panel !== undefined) {\n",
       "    embed_document(root);\n",
       "  } else {\n",
       "    var attempts = 0;\n",
       "    var timer = setInterval(function(root) {\n",
       "      if (root.Bokeh !== undefined && root.Bokeh.Panel !== undefined) {\n",
       "        clearInterval(timer);\n",
       "        embed_document(root);\n",
       "      } else if (document.readyState == \"complete\") {\n",
       "        attempts++;\n",
       "        if (attempts > 100) {\n",
       "          clearInterval(timer);\n",
       "          console.log(\"Bokeh: ERROR: Unable to run BokehJS code because BokehJS library is missing\");\n",
       "        }\n",
       "      }\n",
       "    }, 10, root)\n",
       "  }\n",
       "})(window);</script>"
      ],
      "text/plain": [
       "Column(background='WhiteSmoke', sizing_mode='stretch_both')\n",
       "    [0] Markdown(str)\n",
       "    [1] Markdown(str)\n",
       "    [2] Row\n",
       "        [0] Matplotlib(Figure)\n",
       "        [1] DataFrame(DataFrame)"
      ]
     },
     "metadata": {
      "application/vnd.holoviews_exec.v0+json": {
       "id": "1025"
      }
     },
     "output_type": "display_data"
    },
    {
     "data": {
      "text/html": [
       "<img src onerror=\"var cell = this.closest('.jp-CodeCell');var editor = cell.querySelector('.jp-Editor');editor.style.background='LightBlue';this.parentNode.removeChild(this)\">"
      ],
      "text/plain": [
       "<IPython.core.display.HTML object>"
      ]
     },
     "metadata": {},
     "output_type": "display_data"
    }
   ],
   "source": [
    "index_reference_genome(ref_file, logger)\n",
    "total_genome_size=dashboard_genome(ref_file)\n",
    "bgc('LightBlue')"
   ]
  },
  {
   "cell_type": "markdown",
   "metadata": {},
   "source": [
    "### <span style=\"color: #919395\">_Analyzing Group File_</span> "
   ]
  },
  {
   "cell_type": "code",
   "execution_count": 4,
   "metadata": {},
   "outputs": [
    {
     "data": {},
     "metadata": {},
     "output_type": "display_data"
    },
    {
     "data": {
      "application/vnd.holoviews_exec.v0+json": "",
      "text/html": [
       "<div id='1018'>\n",
       "\n",
       "\n",
       "\n",
       "\n",
       "\n",
       "  <div class=\"bk-root\" id=\"978fe73e-44bc-4f95-aff1-f88aa296ad05\" data-root-id=\"1018\"></div>\n",
       "</div>\n",
       "<script type=\"application/javascript\">(function(root) {\n",
       "  function embed_document(root) {\n",
       "    var docs_json = {\"127e5351-7c22-4212-b239-0bac0085af06\":{\"defs\":[],\"roots\":{\"references\":[{\"attributes\":{\"client_comm_id\":\"b62bb4c56ff748fa848b96b4386a9667\",\"comm_id\":\"370aca1aa6834ee0854f9299c9ea56b6\",\"plot_id\":\"1018\"},\"id\":\"1019\",\"type\":\"panel.models.comm_manager.CommManager\"},{\"attributes\":{\"css_classes\":[\"alert\",\"alert-success\",\"markdown\"],\"margin\":[0,0,25,0],\"name\":\"Alert00128\",\"sizing_mode\":\"stretch_width\",\"text\":\"&lt;p&gt;Group file /home/christine/Documents/These/frangiPANeGIT/rice/rice_group.txt correctly read&lt;/p&gt;\"},\"id\":\"1018\",\"type\":\"panel.models.markup.HTML\"}],\"root_ids\":[\"1018\",\"1019\"]},\"title\":\"Bokeh Application\",\"version\":\"2.3.3\"}};\n",
       "    var render_items = [{\"docid\":\"127e5351-7c22-4212-b239-0bac0085af06\",\"root_ids\":[\"1018\"],\"roots\":{\"1018\":\"978fe73e-44bc-4f95-aff1-f88aa296ad05\"}}];\n",
       "    root.Bokeh.embed.embed_items_notebook(docs_json, render_items);\n",
       "  }\n",
       "  if (root.Bokeh !== undefined && root.Bokeh.Panel !== undefined) {\n",
       "    embed_document(root);\n",
       "  } else {\n",
       "    var attempts = 0;\n",
       "    var timer = setInterval(function(root) {\n",
       "      if (root.Bokeh !== undefined && root.Bokeh.Panel !== undefined) {\n",
       "        clearInterval(timer);\n",
       "        embed_document(root);\n",
       "      } else if (document.readyState == \"complete\") {\n",
       "        attempts++;\n",
       "        if (attempts > 100) {\n",
       "          clearInterval(timer);\n",
       "          console.log(\"Bokeh: ERROR: Unable to run BokehJS code because BokehJS library is missing\");\n",
       "        }\n",
       "      }\n",
       "    }, 10, root)\n",
       "  }\n",
       "})(window);</script>"
      ],
      "text/plain": [
       "Alert(str, alert_type='success', css_classes=['alert', 'alert-success']...], margin=(0, 0, 25, 0), sizing_mode='stretch_width')"
      ]
     },
     "metadata": {
      "application/vnd.holoviews_exec.v0+json": {
       "id": "1018"
      }
     },
     "output_type": "display_data"
    },
    {
     "data": {
      "application/javascript": [
       "\n",
       "(function(root) {\n",
       "  function now() {\n",
       "    return new Date();\n",
       "  }\n",
       "\n",
       "  var force = true;\n",
       "\n",
       "  if (typeof root._bokeh_onload_callbacks === \"undefined\" || force === true) {\n",
       "    root._bokeh_onload_callbacks = [];\n",
       "    root._bokeh_is_loading = undefined;\n",
       "  }\n",
       "\n",
       "  if (typeof (root._bokeh_timeout) === \"undefined\" || force === true) {\n",
       "    root._bokeh_timeout = Date.now() + 5000;\n",
       "    root._bokeh_failed_load = false;\n",
       "  }\n",
       "\n",
       "  function run_callbacks() {\n",
       "    try {\n",
       "      root._bokeh_onload_callbacks.forEach(function(callback) {\n",
       "        if (callback != null)\n",
       "          callback();\n",
       "      });\n",
       "    } finally {\n",
       "      delete root._bokeh_onload_callbacks\n",
       "    }\n",
       "    console.debug(\"Bokeh: all callbacks have finished\");\n",
       "  }\n",
       "\n",
       "  function load_libs(css_urls, js_urls, js_modules, callback) {\n",
       "    if (css_urls == null) css_urls = [];\n",
       "    if (js_urls == null) js_urls = [];\n",
       "    if (js_modules == null) js_modules = [];\n",
       "\n",
       "    root._bokeh_onload_callbacks.push(callback);\n",
       "    if (root._bokeh_is_loading > 0) {\n",
       "      console.debug(\"Bokeh: BokehJS is being loaded, scheduling callback at\", now());\n",
       "      return null;\n",
       "    }\n",
       "    if (js_urls.length === 0 && js_modules.length === 0) {\n",
       "      run_callbacks();\n",
       "      return null;\n",
       "    }\n",
       "    console.debug(\"Bokeh: BokehJS not loaded, scheduling load and callback at\", now());\n",
       "    root._bokeh_is_loading = css_urls.length + js_urls.length + js_modules.length;\n",
       "\n",
       "    function on_load() {\n",
       "      root._bokeh_is_loading--;\n",
       "      if (root._bokeh_is_loading === 0) {\n",
       "        console.debug(\"Bokeh: all BokehJS libraries/stylesheets loaded\");\n",
       "        run_callbacks()\n",
       "      }\n",
       "    }\n",
       "\n",
       "    function on_error() {\n",
       "      console.error(\"failed to load \" + url);\n",
       "    }\n",
       "\n",
       "    for (var i = 0; i < css_urls.length; i++) {\n",
       "      var url = css_urls[i];\n",
       "      const element = document.createElement(\"link\");\n",
       "      element.onload = on_load;\n",
       "      element.onerror = on_error;\n",
       "      element.rel = \"stylesheet\";\n",
       "      element.type = \"text/css\";\n",
       "      element.href = url;\n",
       "      console.debug(\"Bokeh: injecting link tag for BokehJS stylesheet: \", url);\n",
       "      document.body.appendChild(element);\n",
       "    }\n",
       "\n",
       "    var skip = [];\n",
       "    if (window.requirejs) {\n",
       "      window.requirejs.config({'paths': {'tabulator': 'https://unpkg.com/tabulator-tables@4.9.3/dist/js/tabulator'}});\n",
       "      require([], function() {\n",
       "      })\n",
       "    }\n",
       "    if (((window['tabulator'] !== undefined) && (!(window['tabulator'] instanceof HTMLElement))) || window.requirejs) {\n",
       "      var urls = ['https://unpkg.com/tabulator-tables@4.9.3/dist/js/tabulator.js', 'https://unpkg.com/moment@2.27.0/moment.js'];\n",
       "      for (var i = 0; i < urls.length; i++) {\n",
       "        skip.push(urls[i])\n",
       "      }\n",
       "    }\n",
       "    for (var i = 0; i < js_urls.length; i++) {\n",
       "      var url = js_urls[i];\n",
       "      if (skip.indexOf(url) >= 0) { on_load(); continue; }\n",
       "      var element = document.createElement('script');\n",
       "      element.onload = on_load;\n",
       "      element.onerror = on_error;\n",
       "      element.async = false;\n",
       "      element.src = url;\n",
       "      console.debug(\"Bokeh: injecting script tag for BokehJS library: \", url);\n",
       "      document.head.appendChild(element);\n",
       "    }\n",
       "    for (var i = 0; i < js_modules.length; i++) {\n",
       "      var url = js_modules[i];\n",
       "      if (skip.indexOf(url) >= 0) { on_load(); continue; }\n",
       "      var element = document.createElement('script');\n",
       "      element.onload = on_load;\n",
       "      element.onerror = on_error;\n",
       "      element.async = false;\n",
       "      element.src = url;\n",
       "      element.type = \"module\";\n",
       "      console.debug(\"Bokeh: injecting script tag for BokehJS library: \", url);\n",
       "      document.head.appendChild(element);\n",
       "    }\n",
       "    if (!js_urls.length && !js_modules.length) {\n",
       "      on_load()\n",
       "    }\n",
       "  };\n",
       "\n",
       "  function inject_raw_css(css) {\n",
       "    const element = document.createElement(\"style\");\n",
       "    element.appendChild(document.createTextNode(css));\n",
       "    document.body.appendChild(element);\n",
       "  }\n",
       "\n",
       "  var js_urls = [\"https://unpkg.com/tabulator-tables@4.9.3/dist/js/tabulator.js\", \"https://unpkg.com/moment@2.27.0/moment.js\", \"https://cdn.bokeh.org/bokeh/release/bokeh-2.3.3.min.js\", \"https://cdn.bokeh.org/bokeh/release/bokeh-widgets-2.3.3.min.js\", \"https://cdn.bokeh.org/bokeh/release/bokeh-tables-2.3.3.min.js\", \"https://unpkg.com/@holoviz/panel@0.11.1/dist/panel.min.js\"];\n",
       "  var js_modules = [];\n",
       "  var css_urls = [\"https://unpkg.com/tabulator-tables@4.9.3/dist/css/tabulator_simple.min.css\", \"https://unpkg.com/@holoviz/panel@0.11.1/dist/css/widgets.css\", \"https://unpkg.com/@holoviz/panel@0.11.1/dist/css/loading.css\", \"https://unpkg.com/@holoviz/panel@0.11.1/dist/css/dataframe.css\", \"https://unpkg.com/@holoviz/panel@0.11.1/dist/css/alerts.css\", \"https://unpkg.com/@holoviz/panel@0.11.1/dist/css/markdown.css\", \"https://unpkg.com/@holoviz/panel@0.11.1/dist/css/json.css\", \"https://unpkg.com/@holoviz/panel@0.11.1/dist/css/card.css\"];\n",
       "  var inline_js = [\n",
       "    function(Bokeh) {\n",
       "      inject_raw_css(\"\\n    .bk.pn-loading.arcs:before {\\n      background-image: url(\\\"data:image/svg+xml;base64,PHN2ZyB4bWxucz0iaHR0cDovL3d3dy53My5vcmcvMjAwMC9zdmciIHhtbG5zOnhsaW5rPSJodHRwOi8vd3d3LnczLm9yZy8xOTk5L3hsaW5rIiBzdHlsZT0ibWFyZ2luOiBhdXRvOyBiYWNrZ3JvdW5kOiBub25lOyBkaXNwbGF5OiBibG9jazsgc2hhcGUtcmVuZGVyaW5nOiBhdXRvOyIgdmlld0JveD0iMCAwIDEwMCAxMDAiIHByZXNlcnZlQXNwZWN0UmF0aW89InhNaWRZTWlkIj4gIDxjaXJjbGUgY3g9IjUwIiBjeT0iNTAiIHI9IjMyIiBzdHJva2Utd2lkdGg9IjgiIHN0cm9rZT0iI2MzYzNjMyIgc3Ryb2tlLWRhc2hhcnJheT0iNTAuMjY1NDgyNDU3NDM2NjkgNTAuMjY1NDgyNDU3NDM2NjkiIGZpbGw9Im5vbmUiIHN0cm9rZS1saW5lY2FwPSJyb3VuZCI+ICAgIDxhbmltYXRlVHJhbnNmb3JtIGF0dHJpYnV0ZU5hbWU9InRyYW5zZm9ybSIgdHlwZT0icm90YXRlIiByZXBlYXRDb3VudD0iaW5kZWZpbml0ZSIgZHVyPSIxcyIga2V5VGltZXM9IjA7MSIgdmFsdWVzPSIwIDUwIDUwOzM2MCA1MCA1MCI+PC9hbmltYXRlVHJhbnNmb3JtPiAgPC9jaXJjbGU+PC9zdmc+\\\")\\n    }\\n    \");\n",
       "    },\n",
       "    function(Bokeh) {\n",
       "      Bokeh.set_log_level(\"info\");\n",
       "    },\n",
       "    function(Bokeh) {} // ensure no trailing comma for IE\n",
       "  ];\n",
       "\n",
       "  function run_inline_js() {\n",
       "    if ((root.Bokeh !== undefined) || (force === true)) {\n",
       "      for (var i = 0; i < inline_js.length; i++) {\n",
       "        inline_js[i].call(root, root.Bokeh);\n",
       "      }} else if (Date.now() < root._bokeh_timeout) {\n",
       "      setTimeout(run_inline_js, 100);\n",
       "    } else if (!root._bokeh_failed_load) {\n",
       "      console.log(\"Bokeh: BokehJS failed to load within specified timeout.\");\n",
       "      root._bokeh_failed_load = true;\n",
       "    }\n",
       "  }\n",
       "\n",
       "  if (root._bokeh_is_loading === 0) {\n",
       "    console.debug(\"Bokeh: BokehJS loaded, going straight to plotting\");\n",
       "    run_inline_js();\n",
       "  } else {\n",
       "    load_libs(css_urls, js_urls, js_modules, function() {\n",
       "      console.debug(\"Bokeh: BokehJS plotting callback run at\", now());\n",
       "      run_inline_js();\n",
       "    });\n",
       "  }\n",
       "}(window));"
      ],
      "application/vnd.holoviews_load.v0+json": "\n(function(root) {\n  function now() {\n    return new Date();\n  }\n\n  var force = true;\n\n  if (typeof root._bokeh_onload_callbacks === \"undefined\" || force === true) {\n    root._bokeh_onload_callbacks = [];\n    root._bokeh_is_loading = undefined;\n  }\n\n  if (typeof (root._bokeh_timeout) === \"undefined\" || force === true) {\n    root._bokeh_timeout = Date.now() + 5000;\n    root._bokeh_failed_load = false;\n  }\n\n  function run_callbacks() {\n    try {\n      root._bokeh_onload_callbacks.forEach(function(callback) {\n        if (callback != null)\n          callback();\n      });\n    } finally {\n      delete root._bokeh_onload_callbacks\n    }\n    console.debug(\"Bokeh: all callbacks have finished\");\n  }\n\n  function load_libs(css_urls, js_urls, js_modules, callback) {\n    if (css_urls == null) css_urls = [];\n    if (js_urls == null) js_urls = [];\n    if (js_modules == null) js_modules = [];\n\n    root._bokeh_onload_callbacks.push(callback);\n    if (root._bokeh_is_loading > 0) {\n      console.debug(\"Bokeh: BokehJS is being loaded, scheduling callback at\", now());\n      return null;\n    }\n    if (js_urls.length === 0 && js_modules.length === 0) {\n      run_callbacks();\n      return null;\n    }\n    console.debug(\"Bokeh: BokehJS not loaded, scheduling load and callback at\", now());\n    root._bokeh_is_loading = css_urls.length + js_urls.length + js_modules.length;\n\n    function on_load() {\n      root._bokeh_is_loading--;\n      if (root._bokeh_is_loading === 0) {\n        console.debug(\"Bokeh: all BokehJS libraries/stylesheets loaded\");\n        run_callbacks()\n      }\n    }\n\n    function on_error() {\n      console.error(\"failed to load \" + url);\n    }\n\n    for (var i = 0; i < css_urls.length; i++) {\n      var url = css_urls[i];\n      const element = document.createElement(\"link\");\n      element.onload = on_load;\n      element.onerror = on_error;\n      element.rel = \"stylesheet\";\n      element.type = \"text/css\";\n      element.href = url;\n      console.debug(\"Bokeh: injecting link tag for BokehJS stylesheet: \", url);\n      document.body.appendChild(element);\n    }\n\n    var skip = [];\n    if (window.requirejs) {\n      window.requirejs.config({'paths': {'tabulator': 'https://unpkg.com/tabulator-tables@4.9.3/dist/js/tabulator'}});\n      require([], function() {\n      })\n    }\n    if (((window['tabulator'] !== undefined) && (!(window['tabulator'] instanceof HTMLElement))) || window.requirejs) {\n      var urls = ['https://unpkg.com/tabulator-tables@4.9.3/dist/js/tabulator.js', 'https://unpkg.com/moment@2.27.0/moment.js'];\n      for (var i = 0; i < urls.length; i++) {\n        skip.push(urls[i])\n      }\n    }\n    for (var i = 0; i < js_urls.length; i++) {\n      var url = js_urls[i];\n      if (skip.indexOf(url) >= 0) { on_load(); continue; }\n      var element = document.createElement('script');\n      element.onload = on_load;\n      element.onerror = on_error;\n      element.async = false;\n      element.src = url;\n      console.debug(\"Bokeh: injecting script tag for BokehJS library: \", url);\n      document.head.appendChild(element);\n    }\n    for (var i = 0; i < js_modules.length; i++) {\n      var url = js_modules[i];\n      if (skip.indexOf(url) >= 0) { on_load(); continue; }\n      var element = document.createElement('script');\n      element.onload = on_load;\n      element.onerror = on_error;\n      element.async = false;\n      element.src = url;\n      element.type = \"module\";\n      console.debug(\"Bokeh: injecting script tag for BokehJS library: \", url);\n      document.head.appendChild(element);\n    }\n    if (!js_urls.length && !js_modules.length) {\n      on_load()\n    }\n  };\n\n  function inject_raw_css(css) {\n    const element = document.createElement(\"style\");\n    element.appendChild(document.createTextNode(css));\n    document.body.appendChild(element);\n  }\n\n  var js_urls = [\"https://unpkg.com/tabulator-tables@4.9.3/dist/js/tabulator.js\", \"https://unpkg.com/moment@2.27.0/moment.js\", \"https://cdn.bokeh.org/bokeh/release/bokeh-2.3.3.min.js\", \"https://cdn.bokeh.org/bokeh/release/bokeh-widgets-2.3.3.min.js\", \"https://cdn.bokeh.org/bokeh/release/bokeh-tables-2.3.3.min.js\", \"https://unpkg.com/@holoviz/panel@0.11.1/dist/panel.min.js\"];\n  var js_modules = [];\n  var css_urls = [\"https://unpkg.com/tabulator-tables@4.9.3/dist/css/tabulator_simple.min.css\", \"https://unpkg.com/@holoviz/panel@0.11.1/dist/css/widgets.css\", \"https://unpkg.com/@holoviz/panel@0.11.1/dist/css/loading.css\", \"https://unpkg.com/@holoviz/panel@0.11.1/dist/css/dataframe.css\", \"https://unpkg.com/@holoviz/panel@0.11.1/dist/css/alerts.css\", \"https://unpkg.com/@holoviz/panel@0.11.1/dist/css/markdown.css\", \"https://unpkg.com/@holoviz/panel@0.11.1/dist/css/json.css\", \"https://unpkg.com/@holoviz/panel@0.11.1/dist/css/card.css\"];\n  var inline_js = [\n    function(Bokeh) {\n      inject_raw_css(\"\\n    .bk.pn-loading.arcs:before {\\n      background-image: url(\\\"data:image/svg+xml;base64,PHN2ZyB4bWxucz0iaHR0cDovL3d3dy53My5vcmcvMjAwMC9zdmciIHhtbG5zOnhsaW5rPSJodHRwOi8vd3d3LnczLm9yZy8xOTk5L3hsaW5rIiBzdHlsZT0ibWFyZ2luOiBhdXRvOyBiYWNrZ3JvdW5kOiBub25lOyBkaXNwbGF5OiBibG9jazsgc2hhcGUtcmVuZGVyaW5nOiBhdXRvOyIgdmlld0JveD0iMCAwIDEwMCAxMDAiIHByZXNlcnZlQXNwZWN0UmF0aW89InhNaWRZTWlkIj4gIDxjaXJjbGUgY3g9IjUwIiBjeT0iNTAiIHI9IjMyIiBzdHJva2Utd2lkdGg9IjgiIHN0cm9rZT0iI2MzYzNjMyIgc3Ryb2tlLWRhc2hhcnJheT0iNTAuMjY1NDgyNDU3NDM2NjkgNTAuMjY1NDgyNDU3NDM2NjkiIGZpbGw9Im5vbmUiIHN0cm9rZS1saW5lY2FwPSJyb3VuZCI+ICAgIDxhbmltYXRlVHJhbnNmb3JtIGF0dHJpYnV0ZU5hbWU9InRyYW5zZm9ybSIgdHlwZT0icm90YXRlIiByZXBlYXRDb3VudD0iaW5kZWZpbml0ZSIgZHVyPSIxcyIga2V5VGltZXM9IjA7MSIgdmFsdWVzPSIwIDUwIDUwOzM2MCA1MCA1MCI+PC9hbmltYXRlVHJhbnNmb3JtPiAgPC9jaXJjbGU+PC9zdmc+\\\")\\n    }\\n    \");\n    },\n    function(Bokeh) {\n      Bokeh.set_log_level(\"info\");\n    },\n    function(Bokeh) {} // ensure no trailing comma for IE\n  ];\n\n  function run_inline_js() {\n    if ((root.Bokeh !== undefined) || (force === true)) {\n      for (var i = 0; i < inline_js.length; i++) {\n        inline_js[i].call(root, root.Bokeh);\n      }} else if (Date.now() < root._bokeh_timeout) {\n      setTimeout(run_inline_js, 100);\n    } else if (!root._bokeh_failed_load) {\n      console.log(\"Bokeh: BokehJS failed to load within specified timeout.\");\n      root._bokeh_failed_load = true;\n    }\n  }\n\n  if (root._bokeh_is_loading === 0) {\n    console.debug(\"Bokeh: BokehJS loaded, going straight to plotting\");\n    run_inline_js();\n  } else {\n    load_libs(css_urls, js_urls, js_modules, function() {\n      console.debug(\"Bokeh: BokehJS plotting callback run at\", now());\n      run_inline_js();\n    });\n  }\n}(window));"
     },
     "metadata": {},
     "output_type": "display_data"
    },
    {
     "data": {
      "application/javascript": [
       "\n",
       "if ((window.PyViz === undefined) || (window.PyViz instanceof HTMLElement)) {\n",
       "  window.PyViz = {comms: {}, comm_status:{}, kernels:{}, receivers: {}, plot_index: []}\n",
       "}\n",
       "\n",
       "\n",
       "    function JupyterCommManager() {\n",
       "    }\n",
       "\n",
       "    JupyterCommManager.prototype.register_target = function(plot_id, comm_id, msg_handler) {\n",
       "      if (window.comm_manager || ((window.Jupyter !== undefined) && (Jupyter.notebook.kernel != null))) {\n",
       "        var comm_manager = window.comm_manager || Jupyter.notebook.kernel.comm_manager;\n",
       "        comm_manager.register_target(comm_id, function(comm) {\n",
       "          comm.on_msg(msg_handler);\n",
       "        });\n",
       "      } else if ((plot_id in window.PyViz.kernels) && (window.PyViz.kernels[plot_id])) {\n",
       "        window.PyViz.kernels[plot_id].registerCommTarget(comm_id, function(comm) {\n",
       "          comm.onMsg = msg_handler;\n",
       "        });\n",
       "      } else if (typeof google != 'undefined' && google.colab.kernel != null) {\n",
       "        google.colab.kernel.comms.registerTarget(comm_id, (comm) => {\n",
       "          var messages = comm.messages[Symbol.asyncIterator]();\n",
       "          function processIteratorResult(result) {\n",
       "            var message = result.value;\n",
       "            console.log(message)\n",
       "            var content = {data: message.data, comm_id};\n",
       "            var buffers = []\n",
       "            for (var buffer of message.buffers || []) {\n",
       "              buffers.push(new DataView(buffer))\n",
       "            }\n",
       "            var metadata = message.metadata || {};\n",
       "            var msg = {content, buffers, metadata}\n",
       "            msg_handler(msg);\n",
       "            return messages.next().then(processIteratorResult);\n",
       "          }\n",
       "          return messages.next().then(processIteratorResult);\n",
       "        })\n",
       "      }\n",
       "    }\n",
       "\n",
       "    JupyterCommManager.prototype.get_client_comm = function(plot_id, comm_id, msg_handler) {\n",
       "      if (comm_id in window.PyViz.comms) {\n",
       "        return window.PyViz.comms[comm_id];\n",
       "      } else if (window.comm_manager || ((window.Jupyter !== undefined) && (Jupyter.notebook.kernel != null))) {\n",
       "        var comm_manager = window.comm_manager || Jupyter.notebook.kernel.comm_manager;\n",
       "        var comm = comm_manager.new_comm(comm_id, {}, {}, {}, comm_id);\n",
       "        if (msg_handler) {\n",
       "          comm.on_msg(msg_handler);\n",
       "        }\n",
       "      } else if ((plot_id in window.PyViz.kernels) && (window.PyViz.kernels[plot_id])) {\n",
       "        var comm = window.PyViz.kernels[plot_id].connectToComm(comm_id);\n",
       "        comm.open();\n",
       "        if (msg_handler) {\n",
       "          comm.onMsg = msg_handler;\n",
       "        }\n",
       "      } else if (typeof google != 'undefined' && google.colab.kernel != null) {\n",
       "        var comm_promise = google.colab.kernel.comms.open(comm_id)\n",
       "        comm_promise.then((comm) => {\n",
       "          window.PyViz.comms[comm_id] = comm;\n",
       "          if (msg_handler) {\n",
       "            var messages = comm.messages[Symbol.asyncIterator]();\n",
       "            function processIteratorResult(result) {\n",
       "              var message = result.value;\n",
       "              var content = {data: message.data};\n",
       "              var metadata = message.metadata || {comm_id};\n",
       "              var msg = {content, metadata}\n",
       "              msg_handler(msg);\n",
       "              return messages.next().then(processIteratorResult);\n",
       "            }\n",
       "            return messages.next().then(processIteratorResult);\n",
       "          }\n",
       "        }) \n",
       "        var sendClosure = (data, metadata, buffers, disposeOnDone) => {\n",
       "          return comm_promise.then((comm) => {\n",
       "            comm.send(data, metadata, buffers, disposeOnDone);\n",
       "          });\n",
       "        };\n",
       "        var comm = {\n",
       "          send: sendClosure\n",
       "        };\n",
       "      }\n",
       "      window.PyViz.comms[comm_id] = comm;\n",
       "      return comm;\n",
       "    }\n",
       "    window.PyViz.comm_manager = new JupyterCommManager();\n",
       "    \n",
       "\n",
       "\n",
       "var JS_MIME_TYPE = 'application/javascript';\n",
       "var HTML_MIME_TYPE = 'text/html';\n",
       "var EXEC_MIME_TYPE = 'application/vnd.holoviews_exec.v0+json';\n",
       "var CLASS_NAME = 'output';\n",
       "\n",
       "/**\n",
       " * Render data to the DOM node\n",
       " */\n",
       "function render(props, node) {\n",
       "  var div = document.createElement(\"div\");\n",
       "  var script = document.createElement(\"script\");\n",
       "  node.appendChild(div);\n",
       "  node.appendChild(script);\n",
       "}\n",
       "\n",
       "/**\n",
       " * Handle when a new output is added\n",
       " */\n",
       "function handle_add_output(event, handle) {\n",
       "  var output_area = handle.output_area;\n",
       "  var output = handle.output;\n",
       "  if ((output.data == undefined) || (!output.data.hasOwnProperty(EXEC_MIME_TYPE))) {\n",
       "    return\n",
       "  }\n",
       "  var id = output.metadata[EXEC_MIME_TYPE][\"id\"];\n",
       "  var toinsert = output_area.element.find(\".\" + CLASS_NAME.split(' ')[0]);\n",
       "  if (id !== undefined) {\n",
       "    var nchildren = toinsert.length;\n",
       "    var html_node = toinsert[nchildren-1].children[0];\n",
       "    html_node.innerHTML = output.data[HTML_MIME_TYPE];\n",
       "    var scripts = [];\n",
       "    var nodelist = html_node.querySelectorAll(\"script\");\n",
       "    for (var i in nodelist) {\n",
       "      if (nodelist.hasOwnProperty(i)) {\n",
       "        scripts.push(nodelist[i])\n",
       "      }\n",
       "    }\n",
       "\n",
       "    scripts.forEach( function (oldScript) {\n",
       "      var newScript = document.createElement(\"script\");\n",
       "      var attrs = [];\n",
       "      var nodemap = oldScript.attributes;\n",
       "      for (var j in nodemap) {\n",
       "        if (nodemap.hasOwnProperty(j)) {\n",
       "          attrs.push(nodemap[j])\n",
       "        }\n",
       "      }\n",
       "      attrs.forEach(function(attr) { newScript.setAttribute(attr.name, attr.value) });\n",
       "      newScript.appendChild(document.createTextNode(oldScript.innerHTML));\n",
       "      oldScript.parentNode.replaceChild(newScript, oldScript);\n",
       "    });\n",
       "    if (JS_MIME_TYPE in output.data) {\n",
       "      toinsert[nchildren-1].children[1].textContent = output.data[JS_MIME_TYPE];\n",
       "    }\n",
       "    output_area._hv_plot_id = id;\n",
       "    if ((window.Bokeh !== undefined) && (id in Bokeh.index)) {\n",
       "      window.PyViz.plot_index[id] = Bokeh.index[id];\n",
       "    } else {\n",
       "      window.PyViz.plot_index[id] = null;\n",
       "    }\n",
       "  } else if (output.metadata[EXEC_MIME_TYPE][\"server_id\"] !== undefined) {\n",
       "    var bk_div = document.createElement(\"div\");\n",
       "    bk_div.innerHTML = output.data[HTML_MIME_TYPE];\n",
       "    var script_attrs = bk_div.children[0].attributes;\n",
       "    for (var i = 0; i < script_attrs.length; i++) {\n",
       "      toinsert[toinsert.length - 1].childNodes[1].setAttribute(script_attrs[i].name, script_attrs[i].value);\n",
       "    }\n",
       "    // store reference to server id on output_area\n",
       "    output_area._bokeh_server_id = output.metadata[EXEC_MIME_TYPE][\"server_id\"];\n",
       "  }\n",
       "}\n",
       "\n",
       "/**\n",
       " * Handle when an output is cleared or removed\n",
       " */\n",
       "function handle_clear_output(event, handle) {\n",
       "  var id = handle.cell.output_area._hv_plot_id;\n",
       "  var server_id = handle.cell.output_area._bokeh_server_id;\n",
       "  if (((id === undefined) || !(id in PyViz.plot_index)) && (server_id !== undefined)) { return; }\n",
       "  var comm = window.PyViz.comm_manager.get_client_comm(\"hv-extension-comm\", \"hv-extension-comm\", function () {});\n",
       "  if (server_id !== null) {\n",
       "    comm.send({event_type: 'server_delete', 'id': server_id});\n",
       "    return;\n",
       "  } else if (comm !== null) {\n",
       "    comm.send({event_type: 'delete', 'id': id});\n",
       "  }\n",
       "  delete PyViz.plot_index[id];\n",
       "  if ((window.Bokeh !== undefined) & (id in window.Bokeh.index)) {\n",
       "    var doc = window.Bokeh.index[id].model.document\n",
       "    doc.clear();\n",
       "    const i = window.Bokeh.documents.indexOf(doc);\n",
       "    if (i > -1) {\n",
       "      window.Bokeh.documents.splice(i, 1);\n",
       "    }\n",
       "  }\n",
       "}\n",
       "\n",
       "/**\n",
       " * Handle kernel restart event\n",
       " */\n",
       "function handle_kernel_cleanup(event, handle) {\n",
       "  delete PyViz.comms[\"hv-extension-comm\"];\n",
       "  window.PyViz.plot_index = {}\n",
       "}\n",
       "\n",
       "/**\n",
       " * Handle update_display_data messages\n",
       " */\n",
       "function handle_update_output(event, handle) {\n",
       "  handle_clear_output(event, {cell: {output_area: handle.output_area}})\n",
       "  handle_add_output(event, handle)\n",
       "}\n",
       "\n",
       "function register_renderer(events, OutputArea) {\n",
       "  function append_mime(data, metadata, element) {\n",
       "    // create a DOM node to render to\n",
       "    var toinsert = this.create_output_subarea(\n",
       "    metadata,\n",
       "    CLASS_NAME,\n",
       "    EXEC_MIME_TYPE\n",
       "    );\n",
       "    this.keyboard_manager.register_events(toinsert);\n",
       "    // Render to node\n",
       "    var props = {data: data, metadata: metadata[EXEC_MIME_TYPE]};\n",
       "    render(props, toinsert[0]);\n",
       "    element.append(toinsert);\n",
       "    return toinsert\n",
       "  }\n",
       "\n",
       "  events.on('output_added.OutputArea', handle_add_output);\n",
       "  events.on('output_updated.OutputArea', handle_update_output);\n",
       "  events.on('clear_output.CodeCell', handle_clear_output);\n",
       "  events.on('delete.Cell', handle_clear_output);\n",
       "  events.on('kernel_ready.Kernel', handle_kernel_cleanup);\n",
       "\n",
       "  OutputArea.prototype.register_mime_type(EXEC_MIME_TYPE, append_mime, {\n",
       "    safe: true,\n",
       "    index: 0\n",
       "  });\n",
       "}\n",
       "\n",
       "if (window.Jupyter !== undefined) {\n",
       "  try {\n",
       "    var events = require('base/js/events');\n",
       "    var OutputArea = require('notebook/js/outputarea').OutputArea;\n",
       "    if (OutputArea.prototype.mime_types().indexOf(EXEC_MIME_TYPE) == -1) {\n",
       "      register_renderer(events, OutputArea);\n",
       "    }\n",
       "  } catch(err) {\n",
       "  }\n",
       "}\n"
      ],
      "application/vnd.holoviews_load.v0+json": "\nif ((window.PyViz === undefined) || (window.PyViz instanceof HTMLElement)) {\n  window.PyViz = {comms: {}, comm_status:{}, kernels:{}, receivers: {}, plot_index: []}\n}\n\n\n    function JupyterCommManager() {\n    }\n\n    JupyterCommManager.prototype.register_target = function(plot_id, comm_id, msg_handler) {\n      if (window.comm_manager || ((window.Jupyter !== undefined) && (Jupyter.notebook.kernel != null))) {\n        var comm_manager = window.comm_manager || Jupyter.notebook.kernel.comm_manager;\n        comm_manager.register_target(comm_id, function(comm) {\n          comm.on_msg(msg_handler);\n        });\n      } else if ((plot_id in window.PyViz.kernels) && (window.PyViz.kernels[plot_id])) {\n        window.PyViz.kernels[plot_id].registerCommTarget(comm_id, function(comm) {\n          comm.onMsg = msg_handler;\n        });\n      } else if (typeof google != 'undefined' && google.colab.kernel != null) {\n        google.colab.kernel.comms.registerTarget(comm_id, (comm) => {\n          var messages = comm.messages[Symbol.asyncIterator]();\n          function processIteratorResult(result) {\n            var message = result.value;\n            console.log(message)\n            var content = {data: message.data, comm_id};\n            var buffers = []\n            for (var buffer of message.buffers || []) {\n              buffers.push(new DataView(buffer))\n            }\n            var metadata = message.metadata || {};\n            var msg = {content, buffers, metadata}\n            msg_handler(msg);\n            return messages.next().then(processIteratorResult);\n          }\n          return messages.next().then(processIteratorResult);\n        })\n      }\n    }\n\n    JupyterCommManager.prototype.get_client_comm = function(plot_id, comm_id, msg_handler) {\n      if (comm_id in window.PyViz.comms) {\n        return window.PyViz.comms[comm_id];\n      } else if (window.comm_manager || ((window.Jupyter !== undefined) && (Jupyter.notebook.kernel != null))) {\n        var comm_manager = window.comm_manager || Jupyter.notebook.kernel.comm_manager;\n        var comm = comm_manager.new_comm(comm_id, {}, {}, {}, comm_id);\n        if (msg_handler) {\n          comm.on_msg(msg_handler);\n        }\n      } else if ((plot_id in window.PyViz.kernels) && (window.PyViz.kernels[plot_id])) {\n        var comm = window.PyViz.kernels[plot_id].connectToComm(comm_id);\n        comm.open();\n        if (msg_handler) {\n          comm.onMsg = msg_handler;\n        }\n      } else if (typeof google != 'undefined' && google.colab.kernel != null) {\n        var comm_promise = google.colab.kernel.comms.open(comm_id)\n        comm_promise.then((comm) => {\n          window.PyViz.comms[comm_id] = comm;\n          if (msg_handler) {\n            var messages = comm.messages[Symbol.asyncIterator]();\n            function processIteratorResult(result) {\n              var message = result.value;\n              var content = {data: message.data};\n              var metadata = message.metadata || {comm_id};\n              var msg = {content, metadata}\n              msg_handler(msg);\n              return messages.next().then(processIteratorResult);\n            }\n            return messages.next().then(processIteratorResult);\n          }\n        }) \n        var sendClosure = (data, metadata, buffers, disposeOnDone) => {\n          return comm_promise.then((comm) => {\n            comm.send(data, metadata, buffers, disposeOnDone);\n          });\n        };\n        var comm = {\n          send: sendClosure\n        };\n      }\n      window.PyViz.comms[comm_id] = comm;\n      return comm;\n    }\n    window.PyViz.comm_manager = new JupyterCommManager();\n    \n\n\nvar JS_MIME_TYPE = 'application/javascript';\nvar HTML_MIME_TYPE = 'text/html';\nvar EXEC_MIME_TYPE = 'application/vnd.holoviews_exec.v0+json';\nvar CLASS_NAME = 'output';\n\n/**\n * Render data to the DOM node\n */\nfunction render(props, node) {\n  var div = document.createElement(\"div\");\n  var script = document.createElement(\"script\");\n  node.appendChild(div);\n  node.appendChild(script);\n}\n\n/**\n * Handle when a new output is added\n */\nfunction handle_add_output(event, handle) {\n  var output_area = handle.output_area;\n  var output = handle.output;\n  if ((output.data == undefined) || (!output.data.hasOwnProperty(EXEC_MIME_TYPE))) {\n    return\n  }\n  var id = output.metadata[EXEC_MIME_TYPE][\"id\"];\n  var toinsert = output_area.element.find(\".\" + CLASS_NAME.split(' ')[0]);\n  if (id !== undefined) {\n    var nchildren = toinsert.length;\n    var html_node = toinsert[nchildren-1].children[0];\n    html_node.innerHTML = output.data[HTML_MIME_TYPE];\n    var scripts = [];\n    var nodelist = html_node.querySelectorAll(\"script\");\n    for (var i in nodelist) {\n      if (nodelist.hasOwnProperty(i)) {\n        scripts.push(nodelist[i])\n      }\n    }\n\n    scripts.forEach( function (oldScript) {\n      var newScript = document.createElement(\"script\");\n      var attrs = [];\n      var nodemap = oldScript.attributes;\n      for (var j in nodemap) {\n        if (nodemap.hasOwnProperty(j)) {\n          attrs.push(nodemap[j])\n        }\n      }\n      attrs.forEach(function(attr) { newScript.setAttribute(attr.name, attr.value) });\n      newScript.appendChild(document.createTextNode(oldScript.innerHTML));\n      oldScript.parentNode.replaceChild(newScript, oldScript);\n    });\n    if (JS_MIME_TYPE in output.data) {\n      toinsert[nchildren-1].children[1].textContent = output.data[JS_MIME_TYPE];\n    }\n    output_area._hv_plot_id = id;\n    if ((window.Bokeh !== undefined) && (id in Bokeh.index)) {\n      window.PyViz.plot_index[id] = Bokeh.index[id];\n    } else {\n      window.PyViz.plot_index[id] = null;\n    }\n  } else if (output.metadata[EXEC_MIME_TYPE][\"server_id\"] !== undefined) {\n    var bk_div = document.createElement(\"div\");\n    bk_div.innerHTML = output.data[HTML_MIME_TYPE];\n    var script_attrs = bk_div.children[0].attributes;\n    for (var i = 0; i < script_attrs.length; i++) {\n      toinsert[toinsert.length - 1].childNodes[1].setAttribute(script_attrs[i].name, script_attrs[i].value);\n    }\n    // store reference to server id on output_area\n    output_area._bokeh_server_id = output.metadata[EXEC_MIME_TYPE][\"server_id\"];\n  }\n}\n\n/**\n * Handle when an output is cleared or removed\n */\nfunction handle_clear_output(event, handle) {\n  var id = handle.cell.output_area._hv_plot_id;\n  var server_id = handle.cell.output_area._bokeh_server_id;\n  if (((id === undefined) || !(id in PyViz.plot_index)) && (server_id !== undefined)) { return; }\n  var comm = window.PyViz.comm_manager.get_client_comm(\"hv-extension-comm\", \"hv-extension-comm\", function () {});\n  if (server_id !== null) {\n    comm.send({event_type: 'server_delete', 'id': server_id});\n    return;\n  } else if (comm !== null) {\n    comm.send({event_type: 'delete', 'id': id});\n  }\n  delete PyViz.plot_index[id];\n  if ((window.Bokeh !== undefined) & (id in window.Bokeh.index)) {\n    var doc = window.Bokeh.index[id].model.document\n    doc.clear();\n    const i = window.Bokeh.documents.indexOf(doc);\n    if (i > -1) {\n      window.Bokeh.documents.splice(i, 1);\n    }\n  }\n}\n\n/**\n * Handle kernel restart event\n */\nfunction handle_kernel_cleanup(event, handle) {\n  delete PyViz.comms[\"hv-extension-comm\"];\n  window.PyViz.plot_index = {}\n}\n\n/**\n * Handle update_display_data messages\n */\nfunction handle_update_output(event, handle) {\n  handle_clear_output(event, {cell: {output_area: handle.output_area}})\n  handle_add_output(event, handle)\n}\n\nfunction register_renderer(events, OutputArea) {\n  function append_mime(data, metadata, element) {\n    // create a DOM node to render to\n    var toinsert = this.create_output_subarea(\n    metadata,\n    CLASS_NAME,\n    EXEC_MIME_TYPE\n    );\n    this.keyboard_manager.register_events(toinsert);\n    // Render to node\n    var props = {data: data, metadata: metadata[EXEC_MIME_TYPE]};\n    render(props, toinsert[0]);\n    element.append(toinsert);\n    return toinsert\n  }\n\n  events.on('output_added.OutputArea', handle_add_output);\n  events.on('output_updated.OutputArea', handle_update_output);\n  events.on('clear_output.CodeCell', handle_clear_output);\n  events.on('delete.Cell', handle_clear_output);\n  events.on('kernel_ready.Kernel', handle_kernel_cleanup);\n\n  OutputArea.prototype.register_mime_type(EXEC_MIME_TYPE, append_mime, {\n    safe: true,\n    index: 0\n  });\n}\n\nif (window.Jupyter !== undefined) {\n  try {\n    var events = require('base/js/events');\n    var OutputArea = require('notebook/js/outputarea').OutputArea;\n    if (OutputArea.prototype.mime_types().indexOf(EXEC_MIME_TYPE) == -1) {\n      register_renderer(events, OutputArea);\n    }\n  } catch(err) {\n  }\n}\n"
     },
     "metadata": {},
     "output_type": "display_data"
    },
    {
     "data": {
      "application/vnd.holoviews_exec.v0+json": "",
      "text/html": [
       "<div id='1020'>\n",
       "\n",
       "\n",
       "\n",
       "\n",
       "\n",
       "  <div class=\"bk-root\" id=\"d8015c8a-efeb-4f85-8974-7f4c8bdc02b6\" data-root-id=\"1020\"></div>\n",
       "</div>\n",
       "<script type=\"application/javascript\">(function(root) {\n",
       "  function embed_document(root) {\n",
       "    var docs_json = {\"1523f36e-a7a2-4cc7-b027-1af2e97af599\":{\"defs\":[],\"roots\":{\"references\":[{\"attributes\":{\"children\":[{\"id\":\"1025\"}],\"margin\":[0,0,0,0],\"name\":\"Row00140\"},\"id\":\"1024\",\"type\":\"Row\"},{\"attributes\":{\"children\":[{\"id\":\"1023\"},{\"id\":\"1024\"}],\"margin\":[0,0,0,0],\"name\":\"Row00143\"},\"id\":\"1022\",\"type\":\"Row\"},{\"attributes\":{\"css_classes\":[\"markdown\"],\"margin\":[5,5,5,5],\"name\":\"Markdown00134\",\"text\":\"&lt;h2&gt;Samples : 3&lt;/h2&gt;\\n&lt;h4&gt;Group : O. barthii O. glaberrima&lt;/h4&gt;\"},\"id\":\"1023\",\"type\":\"panel.models.markup.HTML\"},{\"attributes\":{\"children\":[{\"id\":\"1030\"}],\"css_classes\":[\"scrollable\"],\"margin\":[0,0,0,0],\"max_height\":600,\"min_width\":800,\"name\":\"Row00151\",\"width\":800},\"id\":\"1029\",\"type\":\"Row\"},{\"attributes\":{\"js_property_callbacks\":{\"change:value\":[{\"id\":\"1033\"}]},\"margin\":[5,10,5,10],\"options\":[[\"O. barthii\",\"O. barthii\"],[\"O. glaberrima\",\"O. glaberrima\"]],\"title\":\"Species\",\"value\":\"O. barthii\"},\"id\":\"1028\",\"type\":\"Select\"},{\"attributes\":{\"height\":216,\"margin\":[5,5,5,5],\"name\":\"ParamMethod00136\",\"text\":\"&lt;img src=&quot;data:image/png;base64,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&quot; width=&quot;288px&quot; height=&quot;216px&quot; alt=&quot;&quot;&gt;&lt;/img&gt;\",\"width\":288},\"id\":\"1025\",\"type\":\"panel.models.markup.HTML\"},{\"attributes\":{\"children\":[{\"id\":\"1031\"}],\"margin\":[0,0,0,0],\"name\":\"Row00148\"},\"id\":\"1030\",\"type\":\"Row\"},{\"attributes\":{\"background\":\"WhiteSmoke\",\"children\":[{\"id\":\"1021\"},{\"id\":\"1022\"},{\"id\":\"1026\"},{\"id\":\"1029\"}],\"css_classes\":[\"scrollable\"],\"margin\":[0,0,0,0],\"name\":\"Column00160\",\"sizing_mode\":\"stretch_both\",\"tags\":[\"embedded\"],\"width\":800},\"id\":\"1020\",\"type\":\"Column\"},{\"attributes\":{\"code\":\"\\nvar state = null\\nfor (var root of cb_obj.document.roots()) {\\n  if (root.id == '1032') {\\n    state = root;\\n    break;\\n  }\\n}\\nif (!state) { return; }\\nstate.set_state(cb_obj, cb_obj.value)\\n\"},\"id\":\"1033\",\"type\":\"CustomJS\"},{\"attributes\":{\"children\":[{\"id\":\"1027\"},{\"id\":\"1028\"}],\"margin\":[5,5,5,5],\"min_width\":300,\"name\":\"\",\"width\":300},\"id\":\"1026\",\"type\":\"Column\"},{\"attributes\":{\"state\":{\"O. barthii\":{\"content\":\"{\\\"events\\\": [{\\\"attr\\\": \\\"text\\\", \\\"kind\\\": \\\"ModelChanged\\\", \\\"model\\\": {\\\"id\\\": \\\"1031\\\"}, \\\"new\\\": \\\"&lt;table border=&quot;0&quot; class=&quot;dataframe panel-df&quot;&gt;\\\\n  &lt;thead&gt;\\\\n    &lt;tr style=&quot;text-align: right;&quot;&gt;\\\\n      &lt;th&gt;&lt;/th&gt;\\\\n      &lt;th&gt;sample&lt;/th&gt;\\\\n      &lt;th&gt;Species&lt;/th&gt;\\\\n    &lt;/tr&gt;\\\\n  &lt;/thead&gt;\\\\n  &lt;tbody&gt;\\\\n    &lt;tr&gt;\\\\n      &lt;th&gt;0&lt;/th&gt;\\\\n      &lt;td&gt;AA&lt;/td&gt;\\\\n      &lt;td&gt;O. barthii&lt;/td&gt;\\\\n    &lt;/tr&gt;\\\\n    &lt;tr&gt;\\\\n      &lt;th&gt;1&lt;/th&gt;\\\\n      &lt;td&gt;AB&lt;/td&gt;\\\\n      &lt;td&gt;O. barthii&lt;/td&gt;\\\\n    &lt;/tr&gt;\\\\n  &lt;/tbody&gt;\\\\n&lt;/table&gt;\\\"}], \\\"references\\\": []}\",\"header\":\"{\\\"msgid\\\": \\\"1035\\\", \\\"msgtype\\\": \\\"PATCH-DOC\\\"}\",\"metadata\":\"{}\"},\"O. glaberrima\":{\"content\":\"{\\\"events\\\": [{\\\"attr\\\": \\\"text\\\", \\\"kind\\\": \\\"ModelChanged\\\", \\\"model\\\": {\\\"id\\\": \\\"1031\\\"}, \\\"new\\\": \\\"&lt;table border=&quot;0&quot; class=&quot;dataframe panel-df&quot;&gt;\\\\n  &lt;thead&gt;\\\\n    &lt;tr style=&quot;text-align: right;&quot;&gt;\\\\n      &lt;th&gt;&lt;/th&gt;\\\\n      &lt;th&gt;sample&lt;/th&gt;\\\\n      &lt;th&gt;Species&lt;/th&gt;\\\\n    &lt;/tr&gt;\\\\n  &lt;/thead&gt;\\\\n  &lt;tbody&gt;\\\\n    &lt;tr&gt;\\\\n      &lt;th&gt;2&lt;/th&gt;\\\\n      &lt;td&gt;DT&lt;/td&gt;\\\\n      &lt;td&gt;O. glaberrima&lt;/td&gt;\\\\n    &lt;/tr&gt;\\\\n  &lt;/tbody&gt;\\\\n&lt;/table&gt;\\\"}], \\\"references\\\": []}\",\"header\":\"{\\\"msgid\\\": \\\"1034\\\", \\\"msgtype\\\": \\\"PATCH-DOC\\\"}\",\"metadata\":\"{}\"}},\"values\":[\"O. barthii\"],\"widgets\":{\"1028\":0}},\"id\":\"1032\",\"type\":\"panel.models.state.State\"},{\"attributes\":{\"margin\":[5,5,5,5],\"name\":\"ParamMethod00144\",\"text\":\"&lt;table border=&quot;0&quot; class=&quot;dataframe panel-df&quot;&gt;\\n  &lt;thead&gt;\\n    &lt;tr style=&quot;text-align: right;&quot;&gt;\\n      &lt;th&gt;&lt;/th&gt;\\n      &lt;th&gt;sample&lt;/th&gt;\\n      &lt;th&gt;Species&lt;/th&gt;\\n    &lt;/tr&gt;\\n  &lt;/thead&gt;\\n  &lt;tbody&gt;\\n    &lt;tr&gt;\\n      &lt;th&gt;0&lt;/th&gt;\\n      &lt;td&gt;AA&lt;/td&gt;\\n      &lt;td&gt;O. barthii&lt;/td&gt;\\n    &lt;/tr&gt;\\n    &lt;tr&gt;\\n      &lt;th&gt;1&lt;/th&gt;\\n      &lt;td&gt;AB&lt;/td&gt;\\n      &lt;td&gt;O. barthii&lt;/td&gt;\\n    &lt;/tr&gt;\\n  &lt;/tbody&gt;\\n&lt;/table&gt;\"},\"id\":\"1031\",\"type\":\"panel.models.markup.HTML\"},{\"attributes\":{\"css_classes\":[\"markdown\"],\"margin\":[5,5,5,5],\"name\":\"Markdown00152\",\"text\":\"&lt;h1&gt;Population Group&lt;/h1&gt;\"},\"id\":\"1021\",\"type\":\"panel.models.markup.HTML\"},{\"attributes\":{\"margin\":[5,10,5,10],\"name\":\"\",\"text\":\"<b></b>\"},\"id\":\"1027\",\"type\":\"Div\"}],\"root_ids\":[\"1020\",\"1032\"]},\"title\":\"Bokeh Application\",\"version\":\"2.3.3\"}};\n",
       "    var render_items = [{\"docid\":\"1523f36e-a7a2-4cc7-b027-1af2e97af599\",\"root_ids\":[\"1020\"],\"roots\":{\"1020\":\"d8015c8a-efeb-4f85-8974-7f4c8bdc02b6\"}}];\n",
       "    root.Bokeh.embed.embed_items_notebook(docs_json, render_items);\n",
       "  }\n",
       "  if (root.Bokeh !== undefined && root.Bokeh.Panel !== undefined) {\n",
       "    embed_document(root);\n",
       "  } else {\n",
       "    var attempts = 0;\n",
       "    var timer = setInterval(function(root) {\n",
       "      if (root.Bokeh !== undefined && root.Bokeh.Panel !== undefined) {\n",
       "        clearInterval(timer);\n",
       "        embed_document(root);\n",
       "      } else if (document.readyState == \"complete\") {\n",
       "        attempts++;\n",
       "        if (attempts > 100) {\n",
       "          clearInterval(timer);\n",
       "          console.log(\"Bokeh: ERROR: Unable to run BokehJS code because BokehJS library is missing\");\n",
       "        }\n",
       "      }\n",
       "    }, 10, root)\n",
       "  }\n",
       "})(window);</script>"
      ]
     },
     "metadata": {
      "application/vnd.holoviews_exec.v0+json": {
       "id": "1020"
      }
     },
     "output_type": "display_data"
    },
    {
     "data": {
      "text/html": [
       "<img src onerror=\"var cell = this.closest('.jp-CodeCell');var editor = cell.querySelector('.jp-Editor');editor.style.background='LightBlue';this.parentNode.removeChild(this)\">"
      ],
      "text/plain": [
       "<IPython.core.display.HTML object>"
      ]
     },
     "metadata": {},
     "output_type": "display_data"
    }
   ],
   "source": [
    "# Reading group file\n",
    "id_dict, df_group = read_group_file(group_file.value,logger)\n",
    "# Group file dashboard\n",
    "dashboard_group(df_group)\n",
    "bgc('LightBlue')"
   ]
  },
  {
   "cell_type": "code",
   "execution_count": 5,
   "metadata": {},
   "outputs": [
    {
     "data": {},
     "metadata": {},
     "output_type": "display_data"
    },
    {
     "data": {
      "application/vnd.holoviews_exec.v0+json": "",
      "text/html": [
       "<div id='1032'>\n",
       "\n",
       "\n",
       "\n",
       "\n",
       "\n",
       "  <div class=\"bk-root\" id=\"317ddfac-da72-4d49-8564-83f826210aca\" data-root-id=\"1032\"></div>\n",
       "</div>\n",
       "<script type=\"application/javascript\">(function(root) {\n",
       "  function embed_document(root) {\n",
       "    var docs_json = {\"c67f5e90-f666-4ed0-bd50-01f97574aa51\":{\"defs\":[],\"roots\":{\"references\":[{\"attributes\":{\"client_comm_id\":\"5e3e0a38a40a4b958d833be03abda47d\",\"comm_id\":\"142c00ce5f724fc69b47e5817d471bd4\",\"plot_id\":\"1032\"},\"id\":\"1033\",\"type\":\"panel.models.comm_manager.CommManager\"},{\"attributes\":{\"css_classes\":[\"alert\",\"alert-success\",\"markdown\"],\"margin\":[0,0,25,0],\"name\":\"Alert00145\",\"sizing_mode\":\"stretch_width\",\"text\":\"&lt;p&gt;Group file /home/christine/Documents/These/frangiPANeGIT/rice/rice_group.txt correctly read&lt;/p&gt;\"},\"id\":\"1032\",\"type\":\"panel.models.markup.HTML\"}],\"root_ids\":[\"1032\",\"1033\"]},\"title\":\"Bokeh Application\",\"version\":\"2.3.3\"}};\n",
       "    var render_items = [{\"docid\":\"c67f5e90-f666-4ed0-bd50-01f97574aa51\",\"root_ids\":[\"1032\"],\"roots\":{\"1032\":\"317ddfac-da72-4d49-8564-83f826210aca\"}}];\n",
       "    root.Bokeh.embed.embed_items_notebook(docs_json, render_items);\n",
       "  }\n",
       "  if (root.Bokeh !== undefined && root.Bokeh.Panel !== undefined) {\n",
       "    embed_document(root);\n",
       "  } else {\n",
       "    var attempts = 0;\n",
       "    var timer = setInterval(function(root) {\n",
       "      if (root.Bokeh !== undefined && root.Bokeh.Panel !== undefined) {\n",
       "        clearInterval(timer);\n",
       "        embed_document(root);\n",
       "      } else if (document.readyState == \"complete\") {\n",
       "        attempts++;\n",
       "        if (attempts > 100) {\n",
       "          clearInterval(timer);\n",
       "          console.log(\"Bokeh: ERROR: Unable to run BokehJS code because BokehJS library is missing\");\n",
       "        }\n",
       "      }\n",
       "    }, 10, root)\n",
       "  }\n",
       "})(window);</script>"
      ],
      "text/plain": [
       "Alert(str, alert_type='success', css_classes=['alert', 'alert-success']...], margin=(0, 0, 25, 0), sizing_mode='stretch_width')"
      ]
     },
     "metadata": {
      "application/vnd.holoviews_exec.v0+json": {
       "id": "1032"
      }
     },
     "output_type": "display_data"
    },
    {
     "data": {
      "application/javascript": [
       "\n",
       "(function(root) {\n",
       "  function now() {\n",
       "    return new Date();\n",
       "  }\n",
       "\n",
       "  var force = true;\n",
       "\n",
       "  if (typeof root._bokeh_onload_callbacks === \"undefined\" || force === true) {\n",
       "    root._bokeh_onload_callbacks = [];\n",
       "    root._bokeh_is_loading = undefined;\n",
       "  }\n",
       "\n",
       "  if (typeof (root._bokeh_timeout) === \"undefined\" || force === true) {\n",
       "    root._bokeh_timeout = Date.now() + 5000;\n",
       "    root._bokeh_failed_load = false;\n",
       "  }\n",
       "\n",
       "  function run_callbacks() {\n",
       "    try {\n",
       "      root._bokeh_onload_callbacks.forEach(function(callback) {\n",
       "        if (callback != null)\n",
       "          callback();\n",
       "      });\n",
       "    } finally {\n",
       "      delete root._bokeh_onload_callbacks\n",
       "    }\n",
       "    console.debug(\"Bokeh: all callbacks have finished\");\n",
       "  }\n",
       "\n",
       "  function load_libs(css_urls, js_urls, js_modules, callback) {\n",
       "    if (css_urls == null) css_urls = [];\n",
       "    if (js_urls == null) js_urls = [];\n",
       "    if (js_modules == null) js_modules = [];\n",
       "\n",
       "    root._bokeh_onload_callbacks.push(callback);\n",
       "    if (root._bokeh_is_loading > 0) {\n",
       "      console.debug(\"Bokeh: BokehJS is being loaded, scheduling callback at\", now());\n",
       "      return null;\n",
       "    }\n",
       "    if (js_urls.length === 0 && js_modules.length === 0) {\n",
       "      run_callbacks();\n",
       "      return null;\n",
       "    }\n",
       "    console.debug(\"Bokeh: BokehJS not loaded, scheduling load and callback at\", now());\n",
       "    root._bokeh_is_loading = css_urls.length + js_urls.length + js_modules.length;\n",
       "\n",
       "    function on_load() {\n",
       "      root._bokeh_is_loading--;\n",
       "      if (root._bokeh_is_loading === 0) {\n",
       "        console.debug(\"Bokeh: all BokehJS libraries/stylesheets loaded\");\n",
       "        run_callbacks()\n",
       "      }\n",
       "    }\n",
       "\n",
       "    function on_error() {\n",
       "      console.error(\"failed to load \" + url);\n",
       "    }\n",
       "\n",
       "    for (var i = 0; i < css_urls.length; i++) {\n",
       "      var url = css_urls[i];\n",
       "      const element = document.createElement(\"link\");\n",
       "      element.onload = on_load;\n",
       "      element.onerror = on_error;\n",
       "      element.rel = \"stylesheet\";\n",
       "      element.type = \"text/css\";\n",
       "      element.href = url;\n",
       "      console.debug(\"Bokeh: injecting link tag for BokehJS stylesheet: \", url);\n",
       "      document.body.appendChild(element);\n",
       "    }\n",
       "\n",
       "    var skip = [];\n",
       "    if (window.requirejs) {\n",
       "      window.requirejs.config({'paths': {'tabulator': 'https://unpkg.com/tabulator-tables@4.9.3/dist/js/tabulator'}});\n",
       "      require([], function() {\n",
       "      })\n",
       "    }\n",
       "    if (((window['tabulator'] !== undefined) && (!(window['tabulator'] instanceof HTMLElement))) || window.requirejs) {\n",
       "      var urls = ['https://unpkg.com/tabulator-tables@4.9.3/dist/js/tabulator.js', 'https://unpkg.com/moment@2.27.0/moment.js'];\n",
       "      for (var i = 0; i < urls.length; i++) {\n",
       "        skip.push(urls[i])\n",
       "      }\n",
       "    }\n",
       "    for (var i = 0; i < js_urls.length; i++) {\n",
       "      var url = js_urls[i];\n",
       "      if (skip.indexOf(url) >= 0) { on_load(); continue; }\n",
       "      var element = document.createElement('script');\n",
       "      element.onload = on_load;\n",
       "      element.onerror = on_error;\n",
       "      element.async = false;\n",
       "      element.src = url;\n",
       "      console.debug(\"Bokeh: injecting script tag for BokehJS library: \", url);\n",
       "      document.head.appendChild(element);\n",
       "    }\n",
       "    for (var i = 0; i < js_modules.length; i++) {\n",
       "      var url = js_modules[i];\n",
       "      if (skip.indexOf(url) >= 0) { on_load(); continue; }\n",
       "      var element = document.createElement('script');\n",
       "      element.onload = on_load;\n",
       "      element.onerror = on_error;\n",
       "      element.async = false;\n",
       "      element.src = url;\n",
       "      element.type = \"module\";\n",
       "      console.debug(\"Bokeh: injecting script tag for BokehJS library: \", url);\n",
       "      document.head.appendChild(element);\n",
       "    }\n",
       "    if (!js_urls.length && !js_modules.length) {\n",
       "      on_load()\n",
       "    }\n",
       "  };\n",
       "\n",
       "  function inject_raw_css(css) {\n",
       "    const element = document.createElement(\"style\");\n",
       "    element.appendChild(document.createTextNode(css));\n",
       "    document.body.appendChild(element);\n",
       "  }\n",
       "\n",
       "  var js_urls = [\"https://unpkg.com/tabulator-tables@4.9.3/dist/js/tabulator.js\", \"https://unpkg.com/moment@2.27.0/moment.js\", \"https://cdn.bokeh.org/bokeh/release/bokeh-2.3.3.min.js\", \"https://cdn.bokeh.org/bokeh/release/bokeh-widgets-2.3.3.min.js\", \"https://cdn.bokeh.org/bokeh/release/bokeh-tables-2.3.3.min.js\", \"https://unpkg.com/@holoviz/panel@0.11.1/dist/panel.min.js\"];\n",
       "  var js_modules = [];\n",
       "  var css_urls = [\"https://unpkg.com/tabulator-tables@4.9.3/dist/css/tabulator_simple.min.css\", \"https://unpkg.com/@holoviz/panel@0.11.1/dist/css/widgets.css\", \"https://unpkg.com/@holoviz/panel@0.11.1/dist/css/loading.css\", \"https://unpkg.com/@holoviz/panel@0.11.1/dist/css/dataframe.css\", \"https://unpkg.com/@holoviz/panel@0.11.1/dist/css/alerts.css\", \"https://unpkg.com/@holoviz/panel@0.11.1/dist/css/markdown.css\", \"https://unpkg.com/@holoviz/panel@0.11.1/dist/css/json.css\", \"https://unpkg.com/@holoviz/panel@0.11.1/dist/css/card.css\"];\n",
       "  var inline_js = [\n",
       "    function(Bokeh) {\n",
       "      inject_raw_css(\"\\n    .bk.pn-loading.arcs:before {\\n      background-image: url(\\\"data:image/svg+xml;base64,PHN2ZyB4bWxucz0iaHR0cDovL3d3dy53My5vcmcvMjAwMC9zdmciIHhtbG5zOnhsaW5rPSJodHRwOi8vd3d3LnczLm9yZy8xOTk5L3hsaW5rIiBzdHlsZT0ibWFyZ2luOiBhdXRvOyBiYWNrZ3JvdW5kOiBub25lOyBkaXNwbGF5OiBibG9jazsgc2hhcGUtcmVuZGVyaW5nOiBhdXRvOyIgdmlld0JveD0iMCAwIDEwMCAxMDAiIHByZXNlcnZlQXNwZWN0UmF0aW89InhNaWRZTWlkIj4gIDxjaXJjbGUgY3g9IjUwIiBjeT0iNTAiIHI9IjMyIiBzdHJva2Utd2lkdGg9IjgiIHN0cm9rZT0iI2MzYzNjMyIgc3Ryb2tlLWRhc2hhcnJheT0iNTAuMjY1NDgyNDU3NDM2NjkgNTAuMjY1NDgyNDU3NDM2NjkiIGZpbGw9Im5vbmUiIHN0cm9rZS1saW5lY2FwPSJyb3VuZCI+ICAgIDxhbmltYXRlVHJhbnNmb3JtIGF0dHJpYnV0ZU5hbWU9InRyYW5zZm9ybSIgdHlwZT0icm90YXRlIiByZXBlYXRDb3VudD0iaW5kZWZpbml0ZSIgZHVyPSIxcyIga2V5VGltZXM9IjA7MSIgdmFsdWVzPSIwIDUwIDUwOzM2MCA1MCA1MCI+PC9hbmltYXRlVHJhbnNmb3JtPiAgPC9jaXJjbGU+PC9zdmc+\\\")\\n    }\\n    \");\n",
       "    },\n",
       "    function(Bokeh) {\n",
       "      Bokeh.set_log_level(\"info\");\n",
       "    },\n",
       "    function(Bokeh) {} // ensure no trailing comma for IE\n",
       "  ];\n",
       "\n",
       "  function run_inline_js() {\n",
       "    if ((root.Bokeh !== undefined) || (force === true)) {\n",
       "      for (var i = 0; i < inline_js.length; i++) {\n",
       "        inline_js[i].call(root, root.Bokeh);\n",
       "      }} else if (Date.now() < root._bokeh_timeout) {\n",
       "      setTimeout(run_inline_js, 100);\n",
       "    } else if (!root._bokeh_failed_load) {\n",
       "      console.log(\"Bokeh: BokehJS failed to load within specified timeout.\");\n",
       "      root._bokeh_failed_load = true;\n",
       "    }\n",
       "  }\n",
       "\n",
       "  if (root._bokeh_is_loading === 0) {\n",
       "    console.debug(\"Bokeh: BokehJS loaded, going straight to plotting\");\n",
       "    run_inline_js();\n",
       "  } else {\n",
       "    load_libs(css_urls, js_urls, js_modules, function() {\n",
       "      console.debug(\"Bokeh: BokehJS plotting callback run at\", now());\n",
       "      run_inline_js();\n",
       "    });\n",
       "  }\n",
       "}(window));"
      ],
      "application/vnd.holoviews_load.v0+json": "\n(function(root) {\n  function now() {\n    return new Date();\n  }\n\n  var force = true;\n\n  if (typeof root._bokeh_onload_callbacks === \"undefined\" || force === true) {\n    root._bokeh_onload_callbacks = [];\n    root._bokeh_is_loading = undefined;\n  }\n\n  if (typeof (root._bokeh_timeout) === \"undefined\" || force === true) {\n    root._bokeh_timeout = Date.now() + 5000;\n    root._bokeh_failed_load = false;\n  }\n\n  function run_callbacks() {\n    try {\n      root._bokeh_onload_callbacks.forEach(function(callback) {\n        if (callback != null)\n          callback();\n      });\n    } finally {\n      delete root._bokeh_onload_callbacks\n    }\n    console.debug(\"Bokeh: all callbacks have finished\");\n  }\n\n  function load_libs(css_urls, js_urls, js_modules, callback) {\n    if (css_urls == null) css_urls = [];\n    if (js_urls == null) js_urls = [];\n    if (js_modules == null) js_modules = [];\n\n    root._bokeh_onload_callbacks.push(callback);\n    if (root._bokeh_is_loading > 0) {\n      console.debug(\"Bokeh: BokehJS is being loaded, scheduling callback at\", now());\n      return null;\n    }\n    if (js_urls.length === 0 && js_modules.length === 0) {\n      run_callbacks();\n      return null;\n    }\n    console.debug(\"Bokeh: BokehJS not loaded, scheduling load and callback at\", now());\n    root._bokeh_is_loading = css_urls.length + js_urls.length + js_modules.length;\n\n    function on_load() {\n      root._bokeh_is_loading--;\n      if (root._bokeh_is_loading === 0) {\n        console.debug(\"Bokeh: all BokehJS libraries/stylesheets loaded\");\n        run_callbacks()\n      }\n    }\n\n    function on_error() {\n      console.error(\"failed to load \" + url);\n    }\n\n    for (var i = 0; i < css_urls.length; i++) {\n      var url = css_urls[i];\n      const element = document.createElement(\"link\");\n      element.onload = on_load;\n      element.onerror = on_error;\n      element.rel = \"stylesheet\";\n      element.type = \"text/css\";\n      element.href = url;\n      console.debug(\"Bokeh: injecting link tag for BokehJS stylesheet: \", url);\n      document.body.appendChild(element);\n    }\n\n    var skip = [];\n    if (window.requirejs) {\n      window.requirejs.config({'paths': {'tabulator': 'https://unpkg.com/tabulator-tables@4.9.3/dist/js/tabulator'}});\n      require([], function() {\n      })\n    }\n    if (((window['tabulator'] !== undefined) && (!(window['tabulator'] instanceof HTMLElement))) || window.requirejs) {\n      var urls = ['https://unpkg.com/tabulator-tables@4.9.3/dist/js/tabulator.js', 'https://unpkg.com/moment@2.27.0/moment.js'];\n      for (var i = 0; i < urls.length; i++) {\n        skip.push(urls[i])\n      }\n    }\n    for (var i = 0; i < js_urls.length; i++) {\n      var url = js_urls[i];\n      if (skip.indexOf(url) >= 0) { on_load(); continue; }\n      var element = document.createElement('script');\n      element.onload = on_load;\n      element.onerror = on_error;\n      element.async = false;\n      element.src = url;\n      console.debug(\"Bokeh: injecting script tag for BokehJS library: \", url);\n      document.head.appendChild(element);\n    }\n    for (var i = 0; i < js_modules.length; i++) {\n      var url = js_modules[i];\n      if (skip.indexOf(url) >= 0) { on_load(); continue; }\n      var element = document.createElement('script');\n      element.onload = on_load;\n      element.onerror = on_error;\n      element.async = false;\n      element.src = url;\n      element.type = \"module\";\n      console.debug(\"Bokeh: injecting script tag for BokehJS library: \", url);\n      document.head.appendChild(element);\n    }\n    if (!js_urls.length && !js_modules.length) {\n      on_load()\n    }\n  };\n\n  function inject_raw_css(css) {\n    const element = document.createElement(\"style\");\n    element.appendChild(document.createTextNode(css));\n    document.body.appendChild(element);\n  }\n\n  var js_urls = [\"https://unpkg.com/tabulator-tables@4.9.3/dist/js/tabulator.js\", \"https://unpkg.com/moment@2.27.0/moment.js\", \"https://cdn.bokeh.org/bokeh/release/bokeh-2.3.3.min.js\", \"https://cdn.bokeh.org/bokeh/release/bokeh-widgets-2.3.3.min.js\", \"https://cdn.bokeh.org/bokeh/release/bokeh-tables-2.3.3.min.js\", \"https://unpkg.com/@holoviz/panel@0.11.1/dist/panel.min.js\"];\n  var js_modules = [];\n  var css_urls = [\"https://unpkg.com/tabulator-tables@4.9.3/dist/css/tabulator_simple.min.css\", \"https://unpkg.com/@holoviz/panel@0.11.1/dist/css/widgets.css\", \"https://unpkg.com/@holoviz/panel@0.11.1/dist/css/loading.css\", \"https://unpkg.com/@holoviz/panel@0.11.1/dist/css/dataframe.css\", \"https://unpkg.com/@holoviz/panel@0.11.1/dist/css/alerts.css\", \"https://unpkg.com/@holoviz/panel@0.11.1/dist/css/markdown.css\", \"https://unpkg.com/@holoviz/panel@0.11.1/dist/css/json.css\", \"https://unpkg.com/@holoviz/panel@0.11.1/dist/css/card.css\"];\n  var inline_js = [\n    function(Bokeh) {\n      inject_raw_css(\"\\n    .bk.pn-loading.arcs:before {\\n      background-image: url(\\\"data:image/svg+xml;base64,PHN2ZyB4bWxucz0iaHR0cDovL3d3dy53My5vcmcvMjAwMC9zdmciIHhtbG5zOnhsaW5rPSJodHRwOi8vd3d3LnczLm9yZy8xOTk5L3hsaW5rIiBzdHlsZT0ibWFyZ2luOiBhdXRvOyBiYWNrZ3JvdW5kOiBub25lOyBkaXNwbGF5OiBibG9jazsgc2hhcGUtcmVuZGVyaW5nOiBhdXRvOyIgdmlld0JveD0iMCAwIDEwMCAxMDAiIHByZXNlcnZlQXNwZWN0UmF0aW89InhNaWRZTWlkIj4gIDxjaXJjbGUgY3g9IjUwIiBjeT0iNTAiIHI9IjMyIiBzdHJva2Utd2lkdGg9IjgiIHN0cm9rZT0iI2MzYzNjMyIgc3Ryb2tlLWRhc2hhcnJheT0iNTAuMjY1NDgyNDU3NDM2NjkgNTAuMjY1NDgyNDU3NDM2NjkiIGZpbGw9Im5vbmUiIHN0cm9rZS1saW5lY2FwPSJyb3VuZCI+ICAgIDxhbmltYXRlVHJhbnNmb3JtIGF0dHJpYnV0ZU5hbWU9InRyYW5zZm9ybSIgdHlwZT0icm90YXRlIiByZXBlYXRDb3VudD0iaW5kZWZpbml0ZSIgZHVyPSIxcyIga2V5VGltZXM9IjA7MSIgdmFsdWVzPSIwIDUwIDUwOzM2MCA1MCA1MCI+PC9hbmltYXRlVHJhbnNmb3JtPiAgPC9jaXJjbGU+PC9zdmc+\\\")\\n    }\\n    \");\n    },\n    function(Bokeh) {\n      Bokeh.set_log_level(\"info\");\n    },\n    function(Bokeh) {} // ensure no trailing comma for IE\n  ];\n\n  function run_inline_js() {\n    if ((root.Bokeh !== undefined) || (force === true)) {\n      for (var i = 0; i < inline_js.length; i++) {\n        inline_js[i].call(root, root.Bokeh);\n      }} else if (Date.now() < root._bokeh_timeout) {\n      setTimeout(run_inline_js, 100);\n    } else if (!root._bokeh_failed_load) {\n      console.log(\"Bokeh: BokehJS failed to load within specified timeout.\");\n      root._bokeh_failed_load = true;\n    }\n  }\n\n  if (root._bokeh_is_loading === 0) {\n    console.debug(\"Bokeh: BokehJS loaded, going straight to plotting\");\n    run_inline_js();\n  } else {\n    load_libs(css_urls, js_urls, js_modules, function() {\n      console.debug(\"Bokeh: BokehJS plotting callback run at\", now());\n      run_inline_js();\n    });\n  }\n}(window));"
     },
     "metadata": {},
     "output_type": "display_data"
    },
    {
     "data": {
      "application/javascript": [
       "\n",
       "if ((window.PyViz === undefined) || (window.PyViz instanceof HTMLElement)) {\n",
       "  window.PyViz = {comms: {}, comm_status:{}, kernels:{}, receivers: {}, plot_index: []}\n",
       "}\n",
       "\n",
       "\n",
       "    function JupyterCommManager() {\n",
       "    }\n",
       "\n",
       "    JupyterCommManager.prototype.register_target = function(plot_id, comm_id, msg_handler) {\n",
       "      if (window.comm_manager || ((window.Jupyter !== undefined) && (Jupyter.notebook.kernel != null))) {\n",
       "        var comm_manager = window.comm_manager || Jupyter.notebook.kernel.comm_manager;\n",
       "        comm_manager.register_target(comm_id, function(comm) {\n",
       "          comm.on_msg(msg_handler);\n",
       "        });\n",
       "      } else if ((plot_id in window.PyViz.kernels) && (window.PyViz.kernels[plot_id])) {\n",
       "        window.PyViz.kernels[plot_id].registerCommTarget(comm_id, function(comm) {\n",
       "          comm.onMsg = msg_handler;\n",
       "        });\n",
       "      } else if (typeof google != 'undefined' && google.colab.kernel != null) {\n",
       "        google.colab.kernel.comms.registerTarget(comm_id, (comm) => {\n",
       "          var messages = comm.messages[Symbol.asyncIterator]();\n",
       "          function processIteratorResult(result) {\n",
       "            var message = result.value;\n",
       "            console.log(message)\n",
       "            var content = {data: message.data, comm_id};\n",
       "            var buffers = []\n",
       "            for (var buffer of message.buffers || []) {\n",
       "              buffers.push(new DataView(buffer))\n",
       "            }\n",
       "            var metadata = message.metadata || {};\n",
       "            var msg = {content, buffers, metadata}\n",
       "            msg_handler(msg);\n",
       "            return messages.next().then(processIteratorResult);\n",
       "          }\n",
       "          return messages.next().then(processIteratorResult);\n",
       "        })\n",
       "      }\n",
       "    }\n",
       "\n",
       "    JupyterCommManager.prototype.get_client_comm = function(plot_id, comm_id, msg_handler) {\n",
       "      if (comm_id in window.PyViz.comms) {\n",
       "        return window.PyViz.comms[comm_id];\n",
       "      } else if (window.comm_manager || ((window.Jupyter !== undefined) && (Jupyter.notebook.kernel != null))) {\n",
       "        var comm_manager = window.comm_manager || Jupyter.notebook.kernel.comm_manager;\n",
       "        var comm = comm_manager.new_comm(comm_id, {}, {}, {}, comm_id);\n",
       "        if (msg_handler) {\n",
       "          comm.on_msg(msg_handler);\n",
       "        }\n",
       "      } else if ((plot_id in window.PyViz.kernels) && (window.PyViz.kernels[plot_id])) {\n",
       "        var comm = window.PyViz.kernels[plot_id].connectToComm(comm_id);\n",
       "        comm.open();\n",
       "        if (msg_handler) {\n",
       "          comm.onMsg = msg_handler;\n",
       "        }\n",
       "      } else if (typeof google != 'undefined' && google.colab.kernel != null) {\n",
       "        var comm_promise = google.colab.kernel.comms.open(comm_id)\n",
       "        comm_promise.then((comm) => {\n",
       "          window.PyViz.comms[comm_id] = comm;\n",
       "          if (msg_handler) {\n",
       "            var messages = comm.messages[Symbol.asyncIterator]();\n",
       "            function processIteratorResult(result) {\n",
       "              var message = result.value;\n",
       "              var content = {data: message.data};\n",
       "              var metadata = message.metadata || {comm_id};\n",
       "              var msg = {content, metadata}\n",
       "              msg_handler(msg);\n",
       "              return messages.next().then(processIteratorResult);\n",
       "            }\n",
       "            return messages.next().then(processIteratorResult);\n",
       "          }\n",
       "        }) \n",
       "        var sendClosure = (data, metadata, buffers, disposeOnDone) => {\n",
       "          return comm_promise.then((comm) => {\n",
       "            comm.send(data, metadata, buffers, disposeOnDone);\n",
       "          });\n",
       "        };\n",
       "        var comm = {\n",
       "          send: sendClosure\n",
       "        };\n",
       "      }\n",
       "      window.PyViz.comms[comm_id] = comm;\n",
       "      return comm;\n",
       "    }\n",
       "    window.PyViz.comm_manager = new JupyterCommManager();\n",
       "    \n",
       "\n",
       "\n",
       "var JS_MIME_TYPE = 'application/javascript';\n",
       "var HTML_MIME_TYPE = 'text/html';\n",
       "var EXEC_MIME_TYPE = 'application/vnd.holoviews_exec.v0+json';\n",
       "var CLASS_NAME = 'output';\n",
       "\n",
       "/**\n",
       " * Render data to the DOM node\n",
       " */\n",
       "function render(props, node) {\n",
       "  var div = document.createElement(\"div\");\n",
       "  var script = document.createElement(\"script\");\n",
       "  node.appendChild(div);\n",
       "  node.appendChild(script);\n",
       "}\n",
       "\n",
       "/**\n",
       " * Handle when a new output is added\n",
       " */\n",
       "function handle_add_output(event, handle) {\n",
       "  var output_area = handle.output_area;\n",
       "  var output = handle.output;\n",
       "  if ((output.data == undefined) || (!output.data.hasOwnProperty(EXEC_MIME_TYPE))) {\n",
       "    return\n",
       "  }\n",
       "  var id = output.metadata[EXEC_MIME_TYPE][\"id\"];\n",
       "  var toinsert = output_area.element.find(\".\" + CLASS_NAME.split(' ')[0]);\n",
       "  if (id !== undefined) {\n",
       "    var nchildren = toinsert.length;\n",
       "    var html_node = toinsert[nchildren-1].children[0];\n",
       "    html_node.innerHTML = output.data[HTML_MIME_TYPE];\n",
       "    var scripts = [];\n",
       "    var nodelist = html_node.querySelectorAll(\"script\");\n",
       "    for (var i in nodelist) {\n",
       "      if (nodelist.hasOwnProperty(i)) {\n",
       "        scripts.push(nodelist[i])\n",
       "      }\n",
       "    }\n",
       "\n",
       "    scripts.forEach( function (oldScript) {\n",
       "      var newScript = document.createElement(\"script\");\n",
       "      var attrs = [];\n",
       "      var nodemap = oldScript.attributes;\n",
       "      for (var j in nodemap) {\n",
       "        if (nodemap.hasOwnProperty(j)) {\n",
       "          attrs.push(nodemap[j])\n",
       "        }\n",
       "      }\n",
       "      attrs.forEach(function(attr) { newScript.setAttribute(attr.name, attr.value) });\n",
       "      newScript.appendChild(document.createTextNode(oldScript.innerHTML));\n",
       "      oldScript.parentNode.replaceChild(newScript, oldScript);\n",
       "    });\n",
       "    if (JS_MIME_TYPE in output.data) {\n",
       "      toinsert[nchildren-1].children[1].textContent = output.data[JS_MIME_TYPE];\n",
       "    }\n",
       "    output_area._hv_plot_id = id;\n",
       "    if ((window.Bokeh !== undefined) && (id in Bokeh.index)) {\n",
       "      window.PyViz.plot_index[id] = Bokeh.index[id];\n",
       "    } else {\n",
       "      window.PyViz.plot_index[id] = null;\n",
       "    }\n",
       "  } else if (output.metadata[EXEC_MIME_TYPE][\"server_id\"] !== undefined) {\n",
       "    var bk_div = document.createElement(\"div\");\n",
       "    bk_div.innerHTML = output.data[HTML_MIME_TYPE];\n",
       "    var script_attrs = bk_div.children[0].attributes;\n",
       "    for (var i = 0; i < script_attrs.length; i++) {\n",
       "      toinsert[toinsert.length - 1].childNodes[1].setAttribute(script_attrs[i].name, script_attrs[i].value);\n",
       "    }\n",
       "    // store reference to server id on output_area\n",
       "    output_area._bokeh_server_id = output.metadata[EXEC_MIME_TYPE][\"server_id\"];\n",
       "  }\n",
       "}\n",
       "\n",
       "/**\n",
       " * Handle when an output is cleared or removed\n",
       " */\n",
       "function handle_clear_output(event, handle) {\n",
       "  var id = handle.cell.output_area._hv_plot_id;\n",
       "  var server_id = handle.cell.output_area._bokeh_server_id;\n",
       "  if (((id === undefined) || !(id in PyViz.plot_index)) && (server_id !== undefined)) { return; }\n",
       "  var comm = window.PyViz.comm_manager.get_client_comm(\"hv-extension-comm\", \"hv-extension-comm\", function () {});\n",
       "  if (server_id !== null) {\n",
       "    comm.send({event_type: 'server_delete', 'id': server_id});\n",
       "    return;\n",
       "  } else if (comm !== null) {\n",
       "    comm.send({event_type: 'delete', 'id': id});\n",
       "  }\n",
       "  delete PyViz.plot_index[id];\n",
       "  if ((window.Bokeh !== undefined) & (id in window.Bokeh.index)) {\n",
       "    var doc = window.Bokeh.index[id].model.document\n",
       "    doc.clear();\n",
       "    const i = window.Bokeh.documents.indexOf(doc);\n",
       "    if (i > -1) {\n",
       "      window.Bokeh.documents.splice(i, 1);\n",
       "    }\n",
       "  }\n",
       "}\n",
       "\n",
       "/**\n",
       " * Handle kernel restart event\n",
       " */\n",
       "function handle_kernel_cleanup(event, handle) {\n",
       "  delete PyViz.comms[\"hv-extension-comm\"];\n",
       "  window.PyViz.plot_index = {}\n",
       "}\n",
       "\n",
       "/**\n",
       " * Handle update_display_data messages\n",
       " */\n",
       "function handle_update_output(event, handle) {\n",
       "  handle_clear_output(event, {cell: {output_area: handle.output_area}})\n",
       "  handle_add_output(event, handle)\n",
       "}\n",
       "\n",
       "function register_renderer(events, OutputArea) {\n",
       "  function append_mime(data, metadata, element) {\n",
       "    // create a DOM node to render to\n",
       "    var toinsert = this.create_output_subarea(\n",
       "    metadata,\n",
       "    CLASS_NAME,\n",
       "    EXEC_MIME_TYPE\n",
       "    );\n",
       "    this.keyboard_manager.register_events(toinsert);\n",
       "    // Render to node\n",
       "    var props = {data: data, metadata: metadata[EXEC_MIME_TYPE]};\n",
       "    render(props, toinsert[0]);\n",
       "    element.append(toinsert);\n",
       "    return toinsert\n",
       "  }\n",
       "\n",
       "  events.on('output_added.OutputArea', handle_add_output);\n",
       "  events.on('output_updated.OutputArea', handle_update_output);\n",
       "  events.on('clear_output.CodeCell', handle_clear_output);\n",
       "  events.on('delete.Cell', handle_clear_output);\n",
       "  events.on('kernel_ready.Kernel', handle_kernel_cleanup);\n",
       "\n",
       "  OutputArea.prototype.register_mime_type(EXEC_MIME_TYPE, append_mime, {\n",
       "    safe: true,\n",
       "    index: 0\n",
       "  });\n",
       "}\n",
       "\n",
       "if (window.Jupyter !== undefined) {\n",
       "  try {\n",
       "    var events = require('base/js/events');\n",
       "    var OutputArea = require('notebook/js/outputarea').OutputArea;\n",
       "    if (OutputArea.prototype.mime_types().indexOf(EXEC_MIME_TYPE) == -1) {\n",
       "      register_renderer(events, OutputArea);\n",
       "    }\n",
       "  } catch(err) {\n",
       "  }\n",
       "}\n"
      ],
      "application/vnd.holoviews_load.v0+json": "\nif ((window.PyViz === undefined) || (window.PyViz instanceof HTMLElement)) {\n  window.PyViz = {comms: {}, comm_status:{}, kernels:{}, receivers: {}, plot_index: []}\n}\n\n\n    function JupyterCommManager() {\n    }\n\n    JupyterCommManager.prototype.register_target = function(plot_id, comm_id, msg_handler) {\n      if (window.comm_manager || ((window.Jupyter !== undefined) && (Jupyter.notebook.kernel != null))) {\n        var comm_manager = window.comm_manager || Jupyter.notebook.kernel.comm_manager;\n        comm_manager.register_target(comm_id, function(comm) {\n          comm.on_msg(msg_handler);\n        });\n      } else if ((plot_id in window.PyViz.kernels) && (window.PyViz.kernels[plot_id])) {\n        window.PyViz.kernels[plot_id].registerCommTarget(comm_id, function(comm) {\n          comm.onMsg = msg_handler;\n        });\n      } else if (typeof google != 'undefined' && google.colab.kernel != null) {\n        google.colab.kernel.comms.registerTarget(comm_id, (comm) => {\n          var messages = comm.messages[Symbol.asyncIterator]();\n          function processIteratorResult(result) {\n            var message = result.value;\n            console.log(message)\n            var content = {data: message.data, comm_id};\n            var buffers = []\n            for (var buffer of message.buffers || []) {\n              buffers.push(new DataView(buffer))\n            }\n            var metadata = message.metadata || {};\n            var msg = {content, buffers, metadata}\n            msg_handler(msg);\n            return messages.next().then(processIteratorResult);\n          }\n          return messages.next().then(processIteratorResult);\n        })\n      }\n    }\n\n    JupyterCommManager.prototype.get_client_comm = function(plot_id, comm_id, msg_handler) {\n      if (comm_id in window.PyViz.comms) {\n        return window.PyViz.comms[comm_id];\n      } else if (window.comm_manager || ((window.Jupyter !== undefined) && (Jupyter.notebook.kernel != null))) {\n        var comm_manager = window.comm_manager || Jupyter.notebook.kernel.comm_manager;\n        var comm = comm_manager.new_comm(comm_id, {}, {}, {}, comm_id);\n        if (msg_handler) {\n          comm.on_msg(msg_handler);\n        }\n      } else if ((plot_id in window.PyViz.kernels) && (window.PyViz.kernels[plot_id])) {\n        var comm = window.PyViz.kernels[plot_id].connectToComm(comm_id);\n        comm.open();\n        if (msg_handler) {\n          comm.onMsg = msg_handler;\n        }\n      } else if (typeof google != 'undefined' && google.colab.kernel != null) {\n        var comm_promise = google.colab.kernel.comms.open(comm_id)\n        comm_promise.then((comm) => {\n          window.PyViz.comms[comm_id] = comm;\n          if (msg_handler) {\n            var messages = comm.messages[Symbol.asyncIterator]();\n            function processIteratorResult(result) {\n              var message = result.value;\n              var content = {data: message.data};\n              var metadata = message.metadata || {comm_id};\n              var msg = {content, metadata}\n              msg_handler(msg);\n              return messages.next().then(processIteratorResult);\n            }\n            return messages.next().then(processIteratorResult);\n          }\n        }) \n        var sendClosure = (data, metadata, buffers, disposeOnDone) => {\n          return comm_promise.then((comm) => {\n            comm.send(data, metadata, buffers, disposeOnDone);\n          });\n        };\n        var comm = {\n          send: sendClosure\n        };\n      }\n      window.PyViz.comms[comm_id] = comm;\n      return comm;\n    }\n    window.PyViz.comm_manager = new JupyterCommManager();\n    \n\n\nvar JS_MIME_TYPE = 'application/javascript';\nvar HTML_MIME_TYPE = 'text/html';\nvar EXEC_MIME_TYPE = 'application/vnd.holoviews_exec.v0+json';\nvar CLASS_NAME = 'output';\n\n/**\n * Render data to the DOM node\n */\nfunction render(props, node) {\n  var div = document.createElement(\"div\");\n  var script = document.createElement(\"script\");\n  node.appendChild(div);\n  node.appendChild(script);\n}\n\n/**\n * Handle when a new output is added\n */\nfunction handle_add_output(event, handle) {\n  var output_area = handle.output_area;\n  var output = handle.output;\n  if ((output.data == undefined) || (!output.data.hasOwnProperty(EXEC_MIME_TYPE))) {\n    return\n  }\n  var id = output.metadata[EXEC_MIME_TYPE][\"id\"];\n  var toinsert = output_area.element.find(\".\" + CLASS_NAME.split(' ')[0]);\n  if (id !== undefined) {\n    var nchildren = toinsert.length;\n    var html_node = toinsert[nchildren-1].children[0];\n    html_node.innerHTML = output.data[HTML_MIME_TYPE];\n    var scripts = [];\n    var nodelist = html_node.querySelectorAll(\"script\");\n    for (var i in nodelist) {\n      if (nodelist.hasOwnProperty(i)) {\n        scripts.push(nodelist[i])\n      }\n    }\n\n    scripts.forEach( function (oldScript) {\n      var newScript = document.createElement(\"script\");\n      var attrs = [];\n      var nodemap = oldScript.attributes;\n      for (var j in nodemap) {\n        if (nodemap.hasOwnProperty(j)) {\n          attrs.push(nodemap[j])\n        }\n      }\n      attrs.forEach(function(attr) { newScript.setAttribute(attr.name, attr.value) });\n      newScript.appendChild(document.createTextNode(oldScript.innerHTML));\n      oldScript.parentNode.replaceChild(newScript, oldScript);\n    });\n    if (JS_MIME_TYPE in output.data) {\n      toinsert[nchildren-1].children[1].textContent = output.data[JS_MIME_TYPE];\n    }\n    output_area._hv_plot_id = id;\n    if ((window.Bokeh !== undefined) && (id in Bokeh.index)) {\n      window.PyViz.plot_index[id] = Bokeh.index[id];\n    } else {\n      window.PyViz.plot_index[id] = null;\n    }\n  } else if (output.metadata[EXEC_MIME_TYPE][\"server_id\"] !== undefined) {\n    var bk_div = document.createElement(\"div\");\n    bk_div.innerHTML = output.data[HTML_MIME_TYPE];\n    var script_attrs = bk_div.children[0].attributes;\n    for (var i = 0; i < script_attrs.length; i++) {\n      toinsert[toinsert.length - 1].childNodes[1].setAttribute(script_attrs[i].name, script_attrs[i].value);\n    }\n    // store reference to server id on output_area\n    output_area._bokeh_server_id = output.metadata[EXEC_MIME_TYPE][\"server_id\"];\n  }\n}\n\n/**\n * Handle when an output is cleared or removed\n */\nfunction handle_clear_output(event, handle) {\n  var id = handle.cell.output_area._hv_plot_id;\n  var server_id = handle.cell.output_area._bokeh_server_id;\n  if (((id === undefined) || !(id in PyViz.plot_index)) && (server_id !== undefined)) { return; }\n  var comm = window.PyViz.comm_manager.get_client_comm(\"hv-extension-comm\", \"hv-extension-comm\", function () {});\n  if (server_id !== null) {\n    comm.send({event_type: 'server_delete', 'id': server_id});\n    return;\n  } else if (comm !== null) {\n    comm.send({event_type: 'delete', 'id': id});\n  }\n  delete PyViz.plot_index[id];\n  if ((window.Bokeh !== undefined) & (id in window.Bokeh.index)) {\n    var doc = window.Bokeh.index[id].model.document\n    doc.clear();\n    const i = window.Bokeh.documents.indexOf(doc);\n    if (i > -1) {\n      window.Bokeh.documents.splice(i, 1);\n    }\n  }\n}\n\n/**\n * Handle kernel restart event\n */\nfunction handle_kernel_cleanup(event, handle) {\n  delete PyViz.comms[\"hv-extension-comm\"];\n  window.PyViz.plot_index = {}\n}\n\n/**\n * Handle update_display_data messages\n */\nfunction handle_update_output(event, handle) {\n  handle_clear_output(event, {cell: {output_area: handle.output_area}})\n  handle_add_output(event, handle)\n}\n\nfunction register_renderer(events, OutputArea) {\n  function append_mime(data, metadata, element) {\n    // create a DOM node to render to\n    var toinsert = this.create_output_subarea(\n    metadata,\n    CLASS_NAME,\n    EXEC_MIME_TYPE\n    );\n    this.keyboard_manager.register_events(toinsert);\n    // Render to node\n    var props = {data: data, metadata: metadata[EXEC_MIME_TYPE]};\n    render(props, toinsert[0]);\n    element.append(toinsert);\n    return toinsert\n  }\n\n  events.on('output_added.OutputArea', handle_add_output);\n  events.on('output_updated.OutputArea', handle_update_output);\n  events.on('clear_output.CodeCell', handle_clear_output);\n  events.on('delete.Cell', handle_clear_output);\n  events.on('kernel_ready.Kernel', handle_kernel_cleanup);\n\n  OutputArea.prototype.register_mime_type(EXEC_MIME_TYPE, append_mime, {\n    safe: true,\n    index: 0\n  });\n}\n\nif (window.Jupyter !== undefined) {\n  try {\n    var events = require('base/js/events');\n    var OutputArea = require('notebook/js/outputarea').OutputArea;\n    if (OutputArea.prototype.mime_types().indexOf(EXEC_MIME_TYPE) == -1) {\n      register_renderer(events, OutputArea);\n    }\n  } catch(err) {\n  }\n}\n"
     },
     "metadata": {},
     "output_type": "display_data"
    },
    {
     "data": {
      "application/vnd.holoviews_exec.v0+json": "",
      "text/html": [
       "<div id='1034'>\n",
       "\n",
       "\n",
       "\n",
       "\n",
       "\n",
       "  <div class=\"bk-root\" id=\"14983f58-8d6e-4311-b82e-769a00112502\" data-root-id=\"1034\"></div>\n",
       "</div>\n",
       "<script type=\"application/javascript\">(function(root) {\n",
       "  function embed_document(root) {\n",
       "    var docs_json = {\"e61055d3-92bc-4e8e-a5c9-178d3620e565\":{\"defs\":[],\"roots\":{\"references\":[{\"attributes\":{\"state\":{\"O. barthii\":{\"content\":\"{\\\"events\\\": [{\\\"attr\\\": \\\"text\\\", \\\"kind\\\": \\\"ModelChanged\\\", \\\"model\\\": {\\\"id\\\": \\\"1045\\\"}, \\\"new\\\": \\\"&lt;table border=&quot;0&quot; class=&quot;dataframe panel-df&quot;&gt;\\\\n  &lt;thead&gt;\\\\n    &lt;tr style=&quot;text-align: right;&quot;&gt;\\\\n      &lt;th&gt;&lt;/th&gt;\\\\n      &lt;th&gt;sample&lt;/th&gt;\\\\n      &lt;th&gt;Species&lt;/th&gt;\\\\n    &lt;/tr&gt;\\\\n  &lt;/thead&gt;\\\\n  &lt;tbody&gt;\\\\n    &lt;tr&gt;\\\\n      &lt;th&gt;0&lt;/th&gt;\\\\n      &lt;td&gt;AA&lt;/td&gt;\\\\n      &lt;td&gt;O. barthii&lt;/td&gt;\\\\n    &lt;/tr&gt;\\\\n    &lt;tr&gt;\\\\n      &lt;th&gt;1&lt;/th&gt;\\\\n      &lt;td&gt;AB&lt;/td&gt;\\\\n      &lt;td&gt;O. barthii&lt;/td&gt;\\\\n    &lt;/tr&gt;\\\\n  &lt;/tbody&gt;\\\\n&lt;/table&gt;\\\"}], \\\"references\\\": []}\",\"header\":\"{\\\"msgid\\\": \\\"1049\\\", \\\"msgtype\\\": \\\"PATCH-DOC\\\"}\",\"metadata\":\"{}\"},\"O. glaberrima\":{\"content\":\"{\\\"events\\\": [{\\\"attr\\\": \\\"text\\\", \\\"kind\\\": \\\"ModelChanged\\\", \\\"model\\\": {\\\"id\\\": \\\"1045\\\"}, \\\"new\\\": \\\"&lt;table border=&quot;0&quot; class=&quot;dataframe panel-df&quot;&gt;\\\\n  &lt;thead&gt;\\\\n    &lt;tr style=&quot;text-align: right;&quot;&gt;\\\\n      &lt;th&gt;&lt;/th&gt;\\\\n      &lt;th&gt;sample&lt;/th&gt;\\\\n      &lt;th&gt;Species&lt;/th&gt;\\\\n    &lt;/tr&gt;\\\\n  &lt;/thead&gt;\\\\n  &lt;tbody&gt;\\\\n    &lt;tr&gt;\\\\n      &lt;th&gt;2&lt;/th&gt;\\\\n      &lt;td&gt;DT&lt;/td&gt;\\\\n      &lt;td&gt;O. glaberrima&lt;/td&gt;\\\\n    &lt;/tr&gt;\\\\n  &lt;/tbody&gt;\\\\n&lt;/table&gt;\\\"}], \\\"references\\\": []}\",\"header\":\"{\\\"msgid\\\": \\\"1048\\\", \\\"msgtype\\\": \\\"PATCH-DOC\\\"}\",\"metadata\":\"{}\"}},\"values\":[\"O. barthii\"],\"widgets\":{\"1042\":0}},\"id\":\"1046\",\"type\":\"panel.models.state.State\"},{\"attributes\":{\"children\":[{\"id\":\"1041\"},{\"id\":\"1042\"}],\"margin\":[5,5,5,5],\"min_width\":300,\"name\":\"\",\"width\":300},\"id\":\"1040\",\"type\":\"Column\"},{\"attributes\":{\"css_classes\":[\"markdown\"],\"margin\":[5,5,5,5],\"name\":\"Markdown00169\",\"text\":\"&lt;h1&gt;Population Group&lt;/h1&gt;\"},\"id\":\"1035\",\"type\":\"panel.models.markup.HTML\"},{\"attributes\":{\"height\":288,\"margin\":[5,5,5,5],\"name\":\"ParamMethod00153\",\"text\":\"&lt;img src=&quot;data:image/png;base64,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&quot; width=&quot;432px&quot; height=&quot;288px&quot; alt=&quot;&quot;&gt;&lt;/img&gt;\",\"width\":432},\"id\":\"1039\",\"type\":\"panel.models.markup.HTML\"},{\"attributes\":{\"js_property_callbacks\":{\"change:value\":[{\"id\":\"1047\"}]},\"margin\":[5,10,5,10],\"options\":[[\"O. barthii\",\"O. barthii\"],[\"O. glaberrima\",\"O. glaberrima\"]],\"title\":\"Species\",\"value\":\"O. barthii\"},\"id\":\"1042\",\"type\":\"Select\"},{\"attributes\":{\"children\":[{\"id\":\"1039\"}],\"margin\":[0,0,0,0],\"name\":\"Row00157\"},\"id\":\"1038\",\"type\":\"Row\"},{\"attributes\":{\"background\":\"WhiteSmoke\",\"children\":[{\"id\":\"1035\"},{\"id\":\"1036\"},{\"id\":\"1040\"},{\"id\":\"1043\"}],\"css_classes\":[\"scrollable\"],\"margin\":[0,0,0,0],\"name\":\"Column00177\",\"sizing_mode\":\"stretch_both\",\"tags\":[\"embedded\"]},\"id\":\"1034\",\"type\":\"Column\"},{\"attributes\":{\"children\":[{\"id\":\"1037\"},{\"id\":\"1038\"}],\"margin\":[0,0,0,0],\"name\":\"Row00160\"},\"id\":\"1036\",\"type\":\"Row\"},{\"attributes\":{\"css_classes\":[\"markdown\"],\"margin\":[5,5,5,5],\"name\":\"Markdown00151\",\"text\":\"&lt;h2&gt;Samples : 3&lt;/h2&gt;\\n&lt;h4&gt;Group : O. barthii O. glaberrima&lt;/h4&gt;\"},\"id\":\"1037\",\"type\":\"panel.models.markup.HTML\"},{\"attributes\":{\"margin\":[5,10,5,10],\"name\":\"\",\"text\":\"<b></b>\"},\"id\":\"1041\",\"type\":\"Div\"},{\"attributes\":{\"code\":\"\\nvar state = null\\nfor (var root of cb_obj.document.roots()) {\\n  if (root.id == '1046') {\\n    state = root;\\n    break;\\n  }\\n}\\nif (!state) { return; }\\nstate.set_state(cb_obj, cb_obj.value)\\n\"},\"id\":\"1047\",\"type\":\"CustomJS\"},{\"attributes\":{\"children\":[{\"id\":\"1045\"}],\"margin\":[0,0,0,0],\"name\":\"Row00165\"},\"id\":\"1044\",\"type\":\"Row\"},{\"attributes\":{\"children\":[{\"id\":\"1044\"}],\"css_classes\":[\"scrollable\"],\"height\":400,\"margin\":[0,0,0,0],\"name\":\"Row00168\",\"sizing_mode\":\"fixed\",\"width\":800},\"id\":\"1043\",\"type\":\"Row\"},{\"attributes\":{\"margin\":[5,5,5,5],\"name\":\"ParamMethod00161\",\"text\":\"&lt;table border=&quot;0&quot; class=&quot;dataframe panel-df&quot;&gt;\\n  &lt;thead&gt;\\n    &lt;tr style=&quot;text-align: right;&quot;&gt;\\n      &lt;th&gt;&lt;/th&gt;\\n      &lt;th&gt;sample&lt;/th&gt;\\n      &lt;th&gt;Species&lt;/th&gt;\\n    &lt;/tr&gt;\\n  &lt;/thead&gt;\\n  &lt;tbody&gt;\\n    &lt;tr&gt;\\n      &lt;th&gt;0&lt;/th&gt;\\n      &lt;td&gt;AA&lt;/td&gt;\\n      &lt;td&gt;O. barthii&lt;/td&gt;\\n    &lt;/tr&gt;\\n    &lt;tr&gt;\\n      &lt;th&gt;1&lt;/th&gt;\\n      &lt;td&gt;AB&lt;/td&gt;\\n      &lt;td&gt;O. barthii&lt;/td&gt;\\n    &lt;/tr&gt;\\n  &lt;/tbody&gt;\\n&lt;/table&gt;\"},\"id\":\"1045\",\"type\":\"panel.models.markup.HTML\"}],\"root_ids\":[\"1034\",\"1046\"]},\"title\":\"Bokeh Application\",\"version\":\"2.3.3\"}};\n",
       "    var render_items = [{\"docid\":\"e61055d3-92bc-4e8e-a5c9-178d3620e565\",\"root_ids\":[\"1034\"],\"roots\":{\"1034\":\"14983f58-8d6e-4311-b82e-769a00112502\"}}];\n",
       "    root.Bokeh.embed.embed_items_notebook(docs_json, render_items);\n",
       "  }\n",
       "  if (root.Bokeh !== undefined && root.Bokeh.Panel !== undefined) {\n",
       "    embed_document(root);\n",
       "  } else {\n",
       "    var attempts = 0;\n",
       "    var timer = setInterval(function(root) {\n",
       "      if (root.Bokeh !== undefined && root.Bokeh.Panel !== undefined) {\n",
       "        clearInterval(timer);\n",
       "        embed_document(root);\n",
       "      } else if (document.readyState == \"complete\") {\n",
       "        attempts++;\n",
       "        if (attempts > 100) {\n",
       "          clearInterval(timer);\n",
       "          console.log(\"Bokeh: ERROR: Unable to run BokehJS code because BokehJS library is missing\");\n",
       "        }\n",
       "      }\n",
       "    }, 10, root)\n",
       "  }\n",
       "})(window);</script>"
      ]
     },
     "metadata": {
      "application/vnd.holoviews_exec.v0+json": {
       "id": "1034"
      }
     },
     "output_type": "display_data"
    },
    {
     "data": {
      "text/html": [
       "<img src onerror=\"var cell = this.closest('.jp-CodeCell');var editor = cell.querySelector('.jp-Editor');editor.style.background='LightBlue';this.parentNode.removeChild(this)\">"
      ],
      "text/plain": [
       "<IPython.core.display.HTML object>"
      ]
     },
     "metadata": {},
     "output_type": "display_data"
    }
   ],
   "source": [
    "# Reading group file\n",
    "id_dict, df_group = read_group_file(group_file,logger)\n",
    "# Group file dashboard\n",
    "dashboard_group(df_group)\n",
    "bgc('LightBlue')"
   ]
  },
  {
   "cell_type": "markdown",
   "metadata": {},
   "source": [
    "***\n",
    "\n",
    "[<img src=\"Images/up-arrow.png\" alt=\"Top\" width=2% align=\"right\">](#home \"Go back to the top\")\n",
    "\n",
    "\n",
    "# <span style=\"color: #3987C4;\">III - frangiPANe Workflow <a class=\"anchor\" id=\"workflow\"></a></span>\n",
    "\n",
    "<img src=\"Images/approachMapThenAssembly.jpg\" width=60%>\n",
    "\n"
   ]
  },
  {
   "cell_type": "markdown",
   "metadata": {},
   "source": [
    "Only fastq files corresponding to samples described in the group file (contained in fastq directory) will be used in this workflow.\n",
    "\n",
    "Fastq naming convention: \n",
    "* sample_code_1.fastq, sample_code_R1.fastq\n",
    "* sample_code_1.fq, sample_code_R1.fq\n",
    "* sample_code_2.fastq, sample_code_R2.fastq\n",
    "* sample_code_2.fq, sample_code_R2.fq\n",
    "\n",
    "with sample_code read from the group file (1st column)"
   ]
  },
  {
   "cell_type": "markdown",
   "metadata": {
    "tags": []
   },
   "source": [
    "### <span style=\"color: #919395\"> _1 - Stats about raw data (fastq files)_\n",
    "\n",
    "#### __Generating fastq statistics with `fastq_stats`__"
   ]
  },
  {
   "cell_type": "markdown",
   "metadata": {},
   "source": [
    "After this stat analysis, several files have been created and saved into 00_fastq_stats directory :\n",
    "* one file (fastq-stat) by fastq file\n",
    "* one file with all stats : all_fastq-stats.csv\n",
    "\n",
    "```\n",
    "TODO : \n",
    "* Message si pas de fastq <-> group\n",
    "* Bilan nb fastq, nb group, nb match et si pairé\n",
    "* tester si fastq corrumpu avec eeautils\n",
    "* tester si etape a deja tournée correctement\n",
    "```"
   ]
  },
  {
   "cell_type": "code",
   "execution_count": 6,
   "metadata": {},
   "outputs": [
    {
     "data": {
      "text/html": [
       "<img src onerror=\"var cell = this.closest('.jp-CodeCell');var editor = cell.querySelector('.jp-Editor');editor.style.background='LightBlue';this.parentNode.removeChild(this)\">"
      ],
      "text/plain": [
       "<IPython.core.display.HTML object>"
      ]
     },
     "metadata": {},
     "output_type": "display_data"
    },
    {
     "data": {},
     "metadata": {},
     "output_type": "display_data"
    },
    {
     "data": {
      "application/vnd.holoviews_exec.v0+json": "",
      "text/html": [
       "<div id='1050'>\n",
       "\n",
       "\n",
       "\n",
       "\n",
       "\n",
       "  <div class=\"bk-root\" id=\"439a1045-31c9-4de9-b297-7a4a25d533a7\" data-root-id=\"1050\"></div>\n",
       "</div>\n",
       "<script type=\"application/javascript\">(function(root) {\n",
       "  function embed_document(root) {\n",
       "    var docs_json = {\"f6ea849f-ace9-4a0c-a9c1-e37e64d29b50\":{\"defs\":[],\"roots\":{\"references\":[{\"attributes\":{\"css_classes\":[\"markdown\"],\"margin\":[5,5,5,5],\"name\":\"Markdown00196\",\"text\":\"&lt;h3&gt;About read length&lt;/h3&gt;\\n&lt;ul&gt;\\n&lt;li&gt;Length read: 30 - 101&lt;/li&gt;\\n&lt;li&gt;Mean length read : 98.79&lt;/li&gt;\\n&lt;/ul&gt;\"},\"id\":\"1058\",\"type\":\"panel.models.markup.HTML\"},{\"attributes\":{\"css_classes\":[\"markdown\"],\"margin\":[5,5,5,5],\"name\":\"Markdown00204\",\"text\":\"&lt;h3&gt;About base ratio :&lt;/h3&gt;\"},\"id\":\"1062\",\"type\":\"panel.models.markup.HTML\"},{\"attributes\":{\"client_comm_id\":\"fc692e0f6568483285c6192422523146\",\"comm_id\":\"e1843389d27d4fd48db4431ee49acf08\",\"plot_id\":\"1050\"},\"id\":\"1065\",\"type\":\"panel.models.comm_manager.CommManager\"},{\"attributes\":{\"css_classes\":[\"markdown\"],\"margin\":[5,5,5,5],\"name\":\"Markdown00182\",\"text\":\"&lt;table&gt;\\n&lt;thead&gt;\\n&lt;tr&gt;\\n&lt;th align=&quot;left&quot;&gt;Pb sequenced by groups&lt;/th&gt;\\n&lt;th align=&quot;center&quot;&gt;&lt;/th&gt;\\n&lt;/tr&gt;\\n&lt;/thead&gt;\\n&lt;tbody&gt;\\n&lt;tr&gt;\\n&lt;td align=&quot;left&quot;&gt;O. barthii :&lt;/td&gt;\\n&lt;td align=&quot;center&quot;&gt;3182 Mb&lt;/td&gt;\\n&lt;/tr&gt;\\n&lt;/tbody&gt;\\n&lt;/table&gt;\"},\"id\":\"1054\",\"type\":\"panel.models.markup.HTML\"},{\"attributes\":{\"background\":\"WhiteSmoke\",\"children\":[{\"id\":\"1051\"},{\"id\":\"1052\"},{\"id\":\"1053\"},{\"id\":\"1054\"},{\"id\":\"1055\"},{\"id\":\"1056\"},{\"id\":\"1057\"},{\"id\":\"1058\"},{\"id\":\"1059\"},{\"id\":\"1060\"},{\"id\":\"1061\"},{\"id\":\"1062\"},{\"id\":\"1063\"},{\"id\":\"1064\"}],\"margin\":[0,0,0,0],\"name\":\"Column00208\",\"sizing_mode\":\"stretch_both\",\"width\":800},\"id\":\"1050\",\"type\":\"Column\"},{\"attributes\":{\"height\":288,\"margin\":[5,5,5,5],\"name\":\"Matplotlib00190\",\"text\":\"&lt;img src=&quot;data:image/png;base64,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&quot; width=&quot;432px&quot; height=&quot;288px&quot; alt=&quot;&quot;&gt;&lt;/img&gt;\",\"width\":432},\"id\":\"1055\",\"type\":\"panel.models.markup.HTML\"},{\"attributes\":{\"css_classes\":[\"markdown\"],\"margin\":[5,5,5,5],\"name\":\"Markdown00180\",\"text\":\"&lt;table&gt;\\n&lt;thead&gt;\\n&lt;tr&gt;\\n&lt;th align=&quot;left&quot;&gt;Samples by group&lt;/th&gt;\\n&lt;th align=&quot;center&quot;&gt;&lt;/th&gt;\\n&lt;/tr&gt;\\n&lt;/thead&gt;\\n&lt;tbody&gt;\\n&lt;tr&gt;\\n&lt;td align=&quot;left&quot;&gt;O. barthii :&lt;/td&gt;\\n&lt;td align=&quot;center&quot;&gt;2 samples&lt;/td&gt;\\n&lt;/tr&gt;\\n&lt;/tbody&gt;\\n&lt;/table&gt;\"},\"id\":\"1053\",\"type\":\"panel.models.markup.HTML\"},{\"attributes\":{\"height\":288,\"margin\":[5,5,5,5],\"name\":\"Matplotlib00202\",\"text\":\"&lt;img src=&quot;data:image/png;base64,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&quot; width=&quot;432px&quot; height=&quot;288px&quot; alt=&quot;&quot;&gt;&lt;/img&gt;\",\"width\":432},\"id\":\"1061\",\"type\":\"panel.models.markup.HTML\"},{\"attributes\":{\"css_classes\":[\"markdown\"],\"margin\":[5,5,5,5],\"name\":\"Markdown00200\",\"text\":\"&lt;h3&gt;About sequencing quality&lt;/h3&gt;\\n&lt;ul&gt;\\n&lt;li&gt;Quality: 2 - 41&lt;/li&gt;\\n&lt;li&gt;Mean quality : 37.4&lt;/li&gt;\\n&lt;/ul&gt;\"},\"id\":\"1060\",\"type\":\"panel.models.markup.HTML\"},{\"attributes\":{\"css_classes\":[\"markdown\"],\"margin\":[5,5,5,5],\"name\":\"Markdown00188\",\"text\":\"&lt;h3&gt;About population&lt;/h3&gt;\\n&lt;ul&gt;\\n&lt;li&gt;2 samples&lt;/li&gt;\\n&lt;li&gt;Total base sequenced : 3182 Mb&lt;/li&gt;\\n&lt;/ul&gt;\"},\"id\":\"1052\",\"type\":\"panel.models.markup.HTML\"},{\"attributes\":{\"margin\":[5,5,5,5],\"name\":\"DataFrame00184\",\"text\":\"&lt;table border=&quot;0&quot; class=&quot;dataframe panel-df&quot;&gt;\\n  &lt;thead&gt;\\n    &lt;tr style=&quot;text-align: right;&quot;&gt;\\n      &lt;th&gt;&lt;/th&gt;\\n      &lt;th&gt;sample&lt;/th&gt;\\n      &lt;th&gt;file&lt;/th&gt;\\n      &lt;th&gt;reads&lt;/th&gt;\\n      &lt;th&gt;len_mean&lt;/th&gt;\\n      &lt;th&gt;qual_mean&lt;/th&gt;\\n      &lt;th&gt;%A&lt;/th&gt;\\n      &lt;th&gt;%C&lt;/th&gt;\\n      &lt;th&gt;%G&lt;/th&gt;\\n      &lt;th&gt;%T&lt;/th&gt;\\n      &lt;th&gt;%N&lt;/th&gt;\\n      &lt;th&gt;total_bases&lt;/th&gt;\\n    &lt;/tr&gt;\\n  &lt;/thead&gt;\\n  &lt;tbody&gt;\\n    &lt;tr&gt;\\n      &lt;th&gt;0&lt;/th&gt;\\n      &lt;td&gt;AA&lt;/td&gt;\\n      &lt;td&gt;AA_1&lt;/td&gt;\\n      &lt;td&gt;7626555&lt;/td&gt;\\n      &lt;td&gt;99.3717&lt;/td&gt;\\n      &lt;td&gt;37.5410&lt;/td&gt;\\n      &lt;td&gt;29.7800&lt;/td&gt;\\n      &lt;td&gt;20.2682&lt;/td&gt;\\n      &lt;td&gt;20.2388&lt;/td&gt;\\n      &lt;td&gt;29.7128&lt;/td&gt;\\n      &lt;td&gt;0.0002&lt;/td&gt;\\n      &lt;td&gt;757863950&lt;/td&gt;\\n    &lt;/tr&gt;\\n    &lt;tr&gt;\\n      &lt;th&gt;1&lt;/th&gt;\\n      &lt;td&gt;AA&lt;/td&gt;\\n      &lt;td&gt;AA_2&lt;/td&gt;\\n      &lt;td&gt;7626555&lt;/td&gt;\\n      &lt;td&gt;97.8972&lt;/td&gt;\\n      &lt;td&gt;36.9710&lt;/td&gt;\\n      &lt;td&gt;29.7820&lt;/td&gt;\\n      &lt;td&gt;20.3202&lt;/td&gt;\\n      &lt;td&gt;20.2055&lt;/td&gt;\\n      &lt;td&gt;29.6910&lt;/td&gt;\\n      &lt;td&gt;0.0013&lt;/td&gt;\\n      &lt;td&gt;746618183&lt;/td&gt;\\n    &lt;/tr&gt;\\n    &lt;tr&gt;\\n      &lt;th&gt;2&lt;/th&gt;\\n      &lt;td&gt;AB&lt;/td&gt;\\n      &lt;td&gt;AB_1&lt;/td&gt;\\n      &lt;td&gt;8479259&lt;/td&gt;\\n      &lt;td&gt;99.7522&lt;/td&gt;\\n      &lt;td&gt;37.8390&lt;/td&gt;\\n      &lt;td&gt;29.8922&lt;/td&gt;\\n      &lt;td&gt;20.0937&lt;/td&gt;\\n      &lt;td&gt;20.1187&lt;/td&gt;\\n      &lt;td&gt;29.8911&lt;/td&gt;\\n      &lt;td&gt;0.0044&lt;/td&gt;\\n      &lt;td&gt;845824647&lt;/td&gt;\\n    &lt;/tr&gt;\\n    &lt;tr&gt;\\n      &lt;th&gt;3&lt;/th&gt;\\n      &lt;td&gt;AB&lt;/td&gt;\\n      &lt;td&gt;AB_2&lt;/td&gt;\\n      &lt;td&gt;8479259&lt;/td&gt;\\n      &lt;td&gt;98.1218&lt;/td&gt;\\n      &lt;td&gt;37.2392&lt;/td&gt;\\n      &lt;td&gt;29.9399&lt;/td&gt;\\n      &lt;td&gt;20.1444&lt;/td&gt;\\n      &lt;td&gt;20.0807&lt;/td&gt;\\n      &lt;td&gt;29.8344&lt;/td&gt;\\n      &lt;td&gt;0.0007&lt;/td&gt;\\n      &lt;td&gt;832000316&lt;/td&gt;\\n    &lt;/tr&gt;\\n  &lt;/tbody&gt;\\n&lt;/table&gt;\",\"width\":800},\"id\":\"1064\",\"type\":\"panel.models.markup.HTML\"},{\"attributes\":{\"css_classes\":[\"markdown\"],\"margin\":[5,5,5,5],\"name\":\"Markdown00186\",\"text\":\"&lt;h1&gt;Some statistics about fastq files&lt;/h1&gt;\"},\"id\":\"1051\",\"type\":\"panel.models.markup.HTML\"},{\"attributes\":{\"height\":288,\"margin\":[5,5,5,5],\"name\":\"Matplotlib00194\",\"text\":\"&lt;img src=&quot;data:image/png;base64,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&quot; width=&quot;432px&quot; height=&quot;288px&quot; alt=&quot;&quot;&gt;&lt;/img&gt;\",\"width\":432},\"id\":\"1057\",\"type\":\"panel.models.markup.HTML\"},{\"attributes\":{\"height\":288,\"margin\":[5,5,5,5],\"name\":\"Matplotlib00198\",\"text\":\"&lt;img src=&quot;data:image/png;base64,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&quot; width=&quot;432px&quot; height=&quot;288px&quot; alt=&quot;&quot;&gt;&lt;/img&gt;\",\"width\":432},\"id\":\"1059\",\"type\":\"panel.models.markup.HTML\"},{\"attributes\":{\"css_classes\":[\"markdown\"],\"margin\":[5,5,5,5],\"name\":\"Markdown00192\",\"text\":\"&lt;h3&gt;About Sequencing coverage&lt;/h3&gt;\\n&lt;ul&gt;\\n&lt;li&gt;x : 4 - 4 &lt;/li&gt;\\n&lt;li&gt;mean x : 4 &lt;/li&gt;\\n&lt;/ul&gt;\"},\"id\":\"1056\",\"type\":\"panel.models.markup.HTML\"},{\"attributes\":{\"height\":288,\"margin\":[5,5,5,5],\"name\":\"Matplotlib00206\",\"text\":\"&lt;img src=&quot;data:image/png;base64,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&quot; width=&quot;432px&quot; height=&quot;288px&quot; alt=&quot;&quot;&gt;&lt;/img&gt;\",\"width\":432},\"id\":\"1063\",\"type\":\"panel.models.markup.HTML\"}],\"root_ids\":[\"1050\",\"1065\"]},\"title\":\"Bokeh Application\",\"version\":\"2.3.3\"}};\n",
       "    var render_items = [{\"docid\":\"f6ea849f-ace9-4a0c-a9c1-e37e64d29b50\",\"root_ids\":[\"1050\"],\"roots\":{\"1050\":\"439a1045-31c9-4de9-b297-7a4a25d533a7\"}}];\n",
       "    root.Bokeh.embed.embed_items_notebook(docs_json, render_items);\n",
       "  }\n",
       "  if (root.Bokeh !== undefined && root.Bokeh.Panel !== undefined) {\n",
       "    embed_document(root);\n",
       "  } else {\n",
       "    var attempts = 0;\n",
       "    var timer = setInterval(function(root) {\n",
       "      if (root.Bokeh !== undefined && root.Bokeh.Panel !== undefined) {\n",
       "        clearInterval(timer);\n",
       "        embed_document(root);\n",
       "      } else if (document.readyState == \"complete\") {\n",
       "        attempts++;\n",
       "        if (attempts > 100) {\n",
       "          clearInterval(timer);\n",
       "          console.log(\"Bokeh: ERROR: Unable to run BokehJS code because BokehJS library is missing\");\n",
       "        }\n",
       "      }\n",
       "    }, 10, root)\n",
       "  }\n",
       "})(window);</script>"
      ],
      "text/plain": [
       "Column(background='WhiteSmoke', sizing_mode='stretch_both', width=800)\n",
       "    [0] Markdown(str)\n",
       "    [1] Markdown(str)\n",
       "    [2] Markdown(str)\n",
       "    [3] Markdown(str)\n",
       "    [4] Matplotlib(Figure)\n",
       "    [5] Markdown(str)\n",
       "    [6] Matplotlib(Figure)\n",
       "    [7] Markdown(str)\n",
       "    [8] Matplotlib(Figure)\n",
       "    [9] Markdown(str)\n",
       "    [10] Matplotlib(Figure)\n",
       "    [11] Markdown(str)\n",
       "    [12] Matplotlib(Figure)\n",
       "    [13] DataFrame(DataFrame, width=800)"
      ]
     },
     "metadata": {
      "application/vnd.holoviews_exec.v0+json": {
       "id": "1050"
      }
     },
     "output_type": "display_data"
    }
   ],
   "source": [
    "bgc('LightBlue')\n",
    "\n",
    "# Creating directory\n",
    "stat_dir = output_dir + \"/00-fastq_stats/\"\n",
    "\n",
    "# run fastq_stats\n",
    "#fastq_stats_dir(fastq_dir.value, stat_dir, df_group, logger)\n",
    "\n",
    "# merging all files generated by fastq_sample\n",
    "fastqstat_csv=stat_dir+\"all_fastq-stats.csv\"\n",
    "merge_fastqstat(fastqstat_csv, stat_dir,logger)\n",
    "\n",
    "#Raw data dashboard\n",
    "dashboard_fastq(fastqstat_csv,total_genome_size,df_group)"
   ]
  },
  {
   "cell_type": "markdown",
   "metadata": {
    "tags": []
   },
   "source": [
    "### <span style=\"color: #919395\">_2 - Mapping the individuals reads against the reference genome_  <a class=\"anchor\" id=\"mapping\"></a></span>\n"
   ]
  },
  {
   "cell_type": "markdown",
   "metadata": {},
   "source": [
    "#### __Mapping with `BWA mem` <a class=\"anchor\" id=\"mappingbwa\">__\n",
    "\n",
    "Options of bwa-mem : \n",
    "* -p : Assume the first input query file is interleaved paired-end FASTQ\n",
    "* -M : Mark shorter split hits as secondary\n",
    "* -t : Number of threads\n",
    "\n",
    "Options of samtools sort : \n",
    "* -@ : Set number of sorting and compression threads\n",
    "* -o : Write the final sorted output to FILE, rather than to standard output"
   ]
  },
  {
   "cell_type": "code",
   "execution_count": null,
   "metadata": {
    "tags": []
   },
   "outputs": [
    {
     "data": {
      "text/html": [
       "<img src onerror=\"var cell = this.closest('.jp-CodeCell');var editor = cell.querySelector('.jp-Editor');editor.style.background='LightBlue';this.parentNode.removeChild(this)\">"
      ],
      "text/plain": [
       "<IPython.core.display.HTML object>"
      ]
     },
     "metadata": {},
     "output_type": "display_data"
    }
   ],
   "source": [
    "bgc('LightBlue')\n",
    "\n",
    "cpu=6\n",
    "output_mapping_dir = output_dir + \"/01-mapping_against_reference/\"\n",
    "fastq2bam_dir(ref_file.value, fastq_dir.value, df_group, cpu, output_mapping_dir, logger)"
   ]
  },
  {
   "cell_type": "markdown",
   "metadata": {},
   "source": [
    "#### __Generating mapping stats <a class=\"anchor\" id=\"mappingstat\">__\n",
    "    \n",
    "Statistics are generated by `samtools flagstat` and they are saved into the directory _01_mapping-against_reference_ and the subdirectory _stat_\n",
    "\n",
    "* One \"flagtstat file\" is generated for each bam file (http://www.htslib.org/doc/samtools-flagstat.html).\n",
    "\n",
    "* _all_flagstat.csv_ file \n",
    "\n",
    "```bash\n",
    "sample MAPPED PAIRED UNMAPPED\n",
    "NL 98.68 94.50 0.59\n",
    "NF 98.16 96.61 0.38\n",
    "...\n",
    "```"
   ]
  },
  {
   "cell_type": "code",
   "execution_count": null,
   "metadata": {},
   "outputs": [
    {
     "data": {
      "text/html": [
       "<img src onerror=\"var cell = this.closest('.jp-CodeCell');var editor = cell.querySelector('.jp-Editor');editor.style.background='LightBlue';this.parentNode.removeChild(this)\">"
      ],
      "text/plain": [
       "<IPython.core.display.HTML object>"
      ]
     },
     "metadata": {},
     "output_type": "display_data"
    },
    {
     "data": {},
     "metadata": {},
     "output_type": "display_data"
    },
    {
     "data": {
      "application/vnd.holoviews_exec.v0+json": "",
      "text/html": [
       "<div id='1068'>\n",
       "\n",
       "\n",
       "\n",
       "\n",
       "\n",
       "  <div class=\"bk-root\" id=\"bbc00c71-6b2e-45be-8dad-910fb933983a\" data-root-id=\"1068\"></div>\n",
       "</div>\n",
       "<script type=\"application/javascript\">(function(root) {\n",
       "  function embed_document(root) {\n",
       "    var docs_json = {\"73fbe57f-2303-44fb-9684-dcfaf63c8f59\":{\"defs\":[],\"roots\":{\"references\":[{\"attributes\":{\"client_comm_id\":\"ea77b59e8cac4d77878fcd2d9cd3ab3a\",\"comm_id\":\"7b1a27cc5db04a609c32dd0f9f349595\",\"plot_id\":\"1068\"},\"id\":\"1069\",\"type\":\"panel.models.comm_manager.CommManager\"},{\"attributes\":{\"css_classes\":[\"alert\",\"alert-warning\",\"markdown\"],\"margin\":[0,0,25,0],\"name\":\"Alert00214\",\"sizing_mode\":\"stretch_width\",\"text\":\"&lt;h3&gt;warning&lt;/h3&gt;\\n&lt;hr&gt;\\n&lt;p&gt;Directory /home/christine/Documents/These/frangiPANeGIT/frangiPANe_rice/01-mapping_against_reference//stat/ already existed&lt;/p&gt;\"},\"id\":\"1068\",\"type\":\"panel.models.markup.HTML\"}],\"root_ids\":[\"1068\",\"1069\"]},\"title\":\"Bokeh Application\",\"version\":\"2.3.3\"}};\n",
       "    var render_items = [{\"docid\":\"73fbe57f-2303-44fb-9684-dcfaf63c8f59\",\"root_ids\":[\"1068\"],\"roots\":{\"1068\":\"bbc00c71-6b2e-45be-8dad-910fb933983a\"}}];\n",
       "    root.Bokeh.embed.embed_items_notebook(docs_json, render_items);\n",
       "  }\n",
       "  if (root.Bokeh !== undefined && root.Bokeh.Panel !== undefined) {\n",
       "    embed_document(root);\n",
       "  } else {\n",
       "    var attempts = 0;\n",
       "    var timer = setInterval(function(root) {\n",
       "      if (root.Bokeh !== undefined && root.Bokeh.Panel !== undefined) {\n",
       "        clearInterval(timer);\n",
       "        embed_document(root);\n",
       "      } else if (document.readyState == \"complete\") {\n",
       "        attempts++;\n",
       "        if (attempts > 100) {\n",
       "          clearInterval(timer);\n",
       "          console.log(\"Bokeh: ERROR: Unable to run BokehJS code because BokehJS library is missing\");\n",
       "        }\n",
       "      }\n",
       "    }, 10, root)\n",
       "  }\n",
       "})(window);</script>"
      ],
      "text/plain": [
       "Alert(str, alert_type='warning', css_classes=['alert', 'alert-warning']...], margin=(0, 0, 25, 0), sizing_mode='stretch_width')"
      ]
     },
     "metadata": {
      "application/vnd.holoviews_exec.v0+json": {
       "id": "1068"
      }
     },
     "output_type": "display_data"
    },
    {
     "data": {},
     "metadata": {},
     "output_type": "display_data"
    },
    {
     "data": {
      "application/vnd.holoviews_exec.v0+json": "",
      "text/html": [
       "<div id='1070'>\n",
       "\n",
       "\n",
       "\n",
       "\n",
       "\n",
       "  <div class=\"bk-root\" id=\"085c366b-a274-40d9-8e1f-cb53a0bce0fe\" data-root-id=\"1070\"></div>\n",
       "</div>\n",
       "<script type=\"application/javascript\">(function(root) {\n",
       "  function embed_document(root) {\n",
       "    var docs_json = {\"a35d34d0-ba1a-4054-aa5a-bb1b95b3d1fe\":{\"defs\":[],\"roots\":{\"references\":[{\"attributes\":{\"client_comm_id\":\"c293dc9ff44b44d793e0604901862c2e\",\"comm_id\":\"73cf32968eda4ee2b8331df78e82421b\",\"plot_id\":\"1070\"},\"id\":\"1071\",\"type\":\"panel.models.comm_manager.CommManager\"},{\"attributes\":{\"css_classes\":[\"alert\",\"alert-secondary\",\"markdown\"],\"margin\":[0,0,25,0],\"name\":\"Alert00218\",\"sizing_mode\":\"stretch_width\",\"text\":\"&lt;p&gt;Compiling mapping stat into an unique file&amp;hellip;&lt;/p&gt;\"},\"id\":\"1070\",\"type\":\"panel.models.markup.HTML\"}],\"root_ids\":[\"1070\",\"1071\"]},\"title\":\"Bokeh Application\",\"version\":\"2.3.3\"}};\n",
       "    var render_items = [{\"docid\":\"a35d34d0-ba1a-4054-aa5a-bb1b95b3d1fe\",\"root_ids\":[\"1070\"],\"roots\":{\"1070\":\"085c366b-a274-40d9-8e1f-cb53a0bce0fe\"}}];\n",
       "    root.Bokeh.embed.embed_items_notebook(docs_json, render_items);\n",
       "  }\n",
       "  if (root.Bokeh !== undefined && root.Bokeh.Panel !== undefined) {\n",
       "    embed_document(root);\n",
       "  } else {\n",
       "    var attempts = 0;\n",
       "    var timer = setInterval(function(root) {\n",
       "      if (root.Bokeh !== undefined && root.Bokeh.Panel !== undefined) {\n",
       "        clearInterval(timer);\n",
       "        embed_document(root);\n",
       "      } else if (document.readyState == \"complete\") {\n",
       "        attempts++;\n",
       "        if (attempts > 100) {\n",
       "          clearInterval(timer);\n",
       "          console.log(\"Bokeh: ERROR: Unable to run BokehJS code because BokehJS library is missing\");\n",
       "        }\n",
       "      }\n",
       "    }, 10, root)\n",
       "  }\n",
       "})(window);</script>"
      ],
      "text/plain": [
       "Alert(str, alert_type='secondary', css_classes=['alert', 'alert-secondary...], margin=(0, 0, 25, 0), sizing_mode='stretch_width')"
      ]
     },
     "metadata": {
      "application/vnd.holoviews_exec.v0+json": {
       "id": "1070"
      }
     },
     "output_type": "display_data"
    },
    {
     "data": {},
     "metadata": {},
     "output_type": "display_data"
    },
    {
     "data": {
      "application/vnd.holoviews_exec.v0+json": "",
      "text/html": [
       "<div id='1072'>\n",
       "\n",
       "\n",
       "\n",
       "\n",
       "\n",
       "  <div class=\"bk-root\" id=\"37ecbaca-cafb-446a-b64c-0bd3d26e3b90\" data-root-id=\"1072\"></div>\n",
       "</div>\n",
       "<script type=\"application/javascript\">(function(root) {\n",
       "  function embed_document(root) {\n",
       "    var docs_json = {\"2c0526b9-d71e-4c9b-8931-00706080e4e6\":{\"defs\":[],\"roots\":{\"references\":[{\"attributes\":{\"css_classes\":[\"alert\",\"alert-success\",\"markdown\"],\"margin\":[0,0,25,0],\"name\":\"Alert00222\",\"sizing_mode\":\"stretch_width\",\"text\":\"&lt;p&gt;Compiling successfully done. See /home/christine/Documents/These/frangiPANeGIT/frangiPANe_rice/01-mapping_against_reference//stat/all_flagstat.csv&lt;/p&gt;\"},\"id\":\"1072\",\"type\":\"panel.models.markup.HTML\"},{\"attributes\":{\"client_comm_id\":\"c339eb3ace4f42a1832c102f8a4233c8\",\"comm_id\":\"08e98f5af1c4429d893a57fe56206380\",\"plot_id\":\"1072\"},\"id\":\"1073\",\"type\":\"panel.models.comm_manager.CommManager\"}],\"root_ids\":[\"1072\",\"1073\"]},\"title\":\"Bokeh Application\",\"version\":\"2.3.3\"}};\n",
       "    var render_items = [{\"docid\":\"2c0526b9-d71e-4c9b-8931-00706080e4e6\",\"root_ids\":[\"1072\"],\"roots\":{\"1072\":\"37ecbaca-cafb-446a-b64c-0bd3d26e3b90\"}}];\n",
       "    root.Bokeh.embed.embed_items_notebook(docs_json, render_items);\n",
       "  }\n",
       "  if (root.Bokeh !== undefined && root.Bokeh.Panel !== undefined) {\n",
       "    embed_document(root);\n",
       "  } else {\n",
       "    var attempts = 0;\n",
       "    var timer = setInterval(function(root) {\n",
       "      if (root.Bokeh !== undefined && root.Bokeh.Panel !== undefined) {\n",
       "        clearInterval(timer);\n",
       "        embed_document(root);\n",
       "      } else if (document.readyState == \"complete\") {\n",
       "        attempts++;\n",
       "        if (attempts > 100) {\n",
       "          clearInterval(timer);\n",
       "          console.log(\"Bokeh: ERROR: Unable to run BokehJS code because BokehJS library is missing\");\n",
       "        }\n",
       "      }\n",
       "    }, 10, root)\n",
       "  }\n",
       "})(window);</script>"
      ],
      "text/plain": [
       "Alert(str, alert_type='success', css_classes=['alert', 'alert-success']...], margin=(0, 0, 25, 0), sizing_mode='stretch_width')"
      ]
     },
     "metadata": {
      "application/vnd.holoviews_exec.v0+json": {
       "id": "1072"
      }
     },
     "output_type": "display_data"
    }
   ],
   "source": [
    "bgc('LightBlue')\n",
    "\n",
    "stat_dir = output_mapping_dir + \"/stat/\"\n",
    "make_dir(stat_dir)\n",
    "\n",
    "logger.info(f\"MAPPING STAT :\")\n",
    "logger.info(f\"\\t\\tMapping stat directory : {stat_dir}\")\n",
    "\n",
    "for file_name in os.listdir(output_mapping_dir):\n",
    "    if \".bam\" in file_name:\n",
    "        samtools_flagstat(os.path.join(output_mapping_dir,file_name), stat_dir,logger)\n",
    "\n",
    "#### __Compiling stats into a unique tabulated file__\n",
    "merge_flagstat(output_dir=stat_dir, logger=logger)"
   ]
  },
  {
   "cell_type": "markdown",
   "metadata": {},
   "source": [
    "#### __Mapping dashboard__"
   ]
  },
  {
   "cell_type": "code",
   "execution_count": null,
   "metadata": {},
   "outputs": [
    {
     "data": {
      "text/html": [
       "<img src onerror=\"var cell = this.closest('.jp-CodeCell');var editor = cell.querySelector('.jp-Editor');editor.style.background='LightBlue';this.parentNode.removeChild(this)\">"
      ],
      "text/plain": [
       "<IPython.core.display.HTML object>"
      ]
     },
     "metadata": {},
     "output_type": "display_data"
    },
    {
     "data": {},
     "metadata": {},
     "output_type": "display_data"
    },
    {
     "data": {
      "application/vnd.holoviews_exec.v0+json": "",
      "text/html": [
       "<div id='1066'>\n",
       "\n",
       "\n",
       "\n",
       "\n",
       "\n",
       "  <div class=\"bk-root\" id=\"7cca7e67-a36b-4812-b7cf-6e1e4e74fdd9\" data-root-id=\"1066\"></div>\n",
       "</div>\n",
       "<script type=\"application/javascript\">(function(root) {\n",
       "  function embed_document(root) {\n",
       "    var docs_json = {\"66d2ec81-9829-41d7-8e6a-0897cb059ba4\":{\"defs\":[],\"roots\":{\"references\":[{\"attributes\":{\"margin\":[0,20,0,0],\"options\":[\"O. barthii\"],\"placeholder\":\"\",\"title\":\"Group\"},\"id\":\"1083\",\"type\":\"MultiChoice\"},{\"attributes\":{\"margin\":[5,5,5,5],\"name\":\"Str00233\"},\"id\":\"1086\",\"type\":\"panel.models.markup.HTML\"},{\"attributes\":{\"children\":[{\"id\":\"1079\"},{\"id\":\"1080\"}],\"margin\":[0,0,0,0],\"name\":\"Row00229\"},\"id\":\"1078\",\"type\":\"Row\"},{\"attributes\":{\"margin\":[5,5,5,5],\"name\":\"DataFrame00220\",\"text\":\"&lt;table border=&quot;0&quot; class=&quot;dataframe panel-df&quot;&gt;\\n  &lt;thead&gt;\\n    &lt;tr&gt;\\n      &lt;th&gt;&lt;/th&gt;\\n      &lt;th colspan=&quot;3&quot; halign=&quot;left&quot;&gt;PAIRED&lt;/th&gt;\\n    &lt;/tr&gt;\\n    &lt;tr&gt;\\n      &lt;th&gt;&lt;/th&gt;\\n      &lt;th&gt;mean&lt;/th&gt;\\n      &lt;th&gt;min&lt;/th&gt;\\n      &lt;th&gt;max&lt;/th&gt;\\n    &lt;/tr&gt;\\n    &lt;tr&gt;\\n      &lt;th&gt;Species&lt;/th&gt;\\n      &lt;th&gt;&lt;/th&gt;\\n      &lt;th&gt;&lt;/th&gt;\\n      &lt;th&gt;&lt;/th&gt;\\n    &lt;/tr&gt;\\n  &lt;/thead&gt;\\n  &lt;tbody&gt;\\n    &lt;tr&gt;\\n      &lt;th&gt;O. barthii&lt;/th&gt;\\n      &lt;td&gt;76.105&lt;/td&gt;\\n      &lt;td&gt;73.76&lt;/td&gt;\\n      &lt;td&gt;78.45&lt;/td&gt;\\n    &lt;/tr&gt;\\n  &lt;/tbody&gt;\\n&lt;/table&gt;\",\"width\":400},\"id\":\"1076\",\"type\":\"panel.models.markup.HTML\"},{\"attributes\":{\"css_classes\":[\"markdown\"],\"margin\":[5,5,5,5],\"name\":\"Markdown00242\",\"text\":\"&lt;p&gt;&lt;br /&gt;&lt;hr&gt;&lt;br /&gt;&lt;/p&gt;\\n&lt;h3&gt;Reads unmapped&lt;/h3&gt;\"},\"id\":\"1077\",\"type\":\"panel.models.markup.HTML\"},{\"attributes\":{\"client_comm_id\":\"fc5d957da50e4111921cb19eccc8809e\",\"comm_id\":\"40d64a6049474c1cbefb98fc332d0966\",\"plot_id\":\"1066\"},\"id\":\"1087\",\"type\":\"panel.models.comm_manager.CommManager\"},{\"attributes\":{\"css_classes\":[\"markdown\"],\"margin\":[5,5,5,5],\"name\":\"Markdown00222\",\"text\":\"&lt;p&gt;&lt;br /&gt;&lt;/p&gt;\\n&lt;ul&gt;\\n&lt;li&gt;min - max : 73.76 - 78.45 %&lt;/li&gt;\\n&lt;li&gt;mean : 76.1&lt;/li&gt;\\n&lt;/ul&gt;\"},\"id\":\"1075\",\"type\":\"panel.models.markup.HTML\"},{\"attributes\":{\"background\":\"WhiteSmoke\",\"children\":[{\"id\":\"1067\"},{\"id\":\"1068\"},{\"id\":\"1069\"},{\"id\":\"1070\"},{\"id\":\"1073\"},{\"id\":\"1074\"},{\"id\":\"1077\"},{\"id\":\"1078\"},{\"id\":\"1081\"},{\"id\":\"1082\"},{\"id\":\"1085\"}],\"margin\":[0,0,0,0],\"name\":\"Column00246\",\"sizing_mode\":\"stretch_both\",\"width\":800},\"id\":\"1066\",\"type\":\"Column\"},{\"attributes\":{\"children\":[{\"id\":\"1075\"},{\"id\":\"1076\"}],\"margin\":[0,0,0,0],\"name\":\"Row00224\"},\"id\":\"1074\",\"type\":\"Row\"},{\"attributes\":{\"children\":[{\"id\":\"1086\"}],\"margin\":[0,0,0,0],\"max_height\":400,\"min_width\":400,\"name\":\"Row00235\",\"width\":400},\"id\":\"1085\",\"type\":\"Row\"},{\"attributes\":{\"margin\":[5,5,5,5],\"name\":\"DataFrame00215\",\"text\":\"&lt;table border=&quot;0&quot; class=&quot;dataframe panel-df&quot;&gt;\\n  &lt;thead&gt;\\n    &lt;tr&gt;\\n      &lt;th&gt;&lt;/th&gt;\\n      &lt;th colspan=&quot;3&quot; halign=&quot;left&quot;&gt;MAPPED&lt;/th&gt;\\n    &lt;/tr&gt;\\n    &lt;tr&gt;\\n      &lt;th&gt;&lt;/th&gt;\\n      &lt;th&gt;mean&lt;/th&gt;\\n      &lt;th&gt;min&lt;/th&gt;\\n      &lt;th&gt;max&lt;/th&gt;\\n    &lt;/tr&gt;\\n    &lt;tr&gt;\\n      &lt;th&gt;Species&lt;/th&gt;\\n      &lt;th&gt;&lt;/th&gt;\\n      &lt;th&gt;&lt;/th&gt;\\n      &lt;th&gt;&lt;/th&gt;\\n    &lt;/tr&gt;\\n  &lt;/thead&gt;\\n  &lt;tbody&gt;\\n    &lt;tr&gt;\\n      &lt;th&gt;O. barthii&lt;/th&gt;\\n      &lt;td&gt;93.295&lt;/td&gt;\\n      &lt;td&gt;92.69&lt;/td&gt;\\n      &lt;td&gt;93.9&lt;/td&gt;\\n    &lt;/tr&gt;\\n  &lt;/tbody&gt;\\n&lt;/table&gt;\",\"width\":400},\"id\":\"1072\",\"type\":\"panel.models.markup.HTML\"},{\"attributes\":{\"css_classes\":[\"markdown\"],\"margin\":[5,5,5,5],\"name\":\"Markdown00240\",\"text\":\"&lt;p&gt;&lt;br /&gt;&lt;hr&gt;&lt;br /&gt;&lt;/p&gt;\\n&lt;h3&gt;Reads mapped properly paired&lt;/h3&gt;\"},\"id\":\"1073\",\"type\":\"panel.models.markup.HTML\"},{\"attributes\":{\"css_classes\":[\"markdown\"],\"margin\":[5,5,5,5],\"name\":\"Markdown00217\",\"text\":\"&lt;p&gt;&lt;br /&gt;&lt;/p&gt;\\n&lt;ul&gt;\\n&lt;li&gt;min - max : 92.69 - 93.9 %&lt;/li&gt;\\n&lt;li&gt;mean : 93.3&lt;/li&gt;\\n&lt;/ul&gt;\"},\"id\":\"1071\",\"type\":\"panel.models.markup.HTML\"},{\"attributes\":{\"margin\":[5,5,5,5],\"name\":\"DataFrame00225\",\"text\":\"&lt;table border=&quot;0&quot; class=&quot;dataframe panel-df&quot;&gt;\\n  &lt;thead&gt;\\n    &lt;tr&gt;\\n      &lt;th&gt;&lt;/th&gt;\\n      &lt;th colspan=&quot;3&quot; halign=&quot;left&quot;&gt;UNMAPPED&lt;/th&gt;\\n    &lt;/tr&gt;\\n    &lt;tr&gt;\\n      &lt;th&gt;&lt;/th&gt;\\n      &lt;th&gt;mean&lt;/th&gt;\\n      &lt;th&gt;min&lt;/th&gt;\\n      &lt;th&gt;max&lt;/th&gt;\\n    &lt;/tr&gt;\\n    &lt;tr&gt;\\n      &lt;th&gt;Species&lt;/th&gt;\\n      &lt;th&gt;&lt;/th&gt;\\n      &lt;th&gt;&lt;/th&gt;\\n      &lt;th&gt;&lt;/th&gt;\\n    &lt;/tr&gt;\\n  &lt;/thead&gt;\\n  &lt;tbody&gt;\\n    &lt;tr&gt;\\n      &lt;th&gt;O. barthii&lt;/th&gt;\\n      &lt;td&gt;2.79&lt;/td&gt;\\n      &lt;td&gt;2.51&lt;/td&gt;\\n      &lt;td&gt;3.07&lt;/td&gt;\\n    &lt;/tr&gt;\\n  &lt;/tbody&gt;\\n&lt;/table&gt;\",\"width\":400},\"id\":\"1080\",\"type\":\"panel.models.markup.HTML\"},{\"attributes\":{\"css_classes\":[\"markdown\"],\"margin\":[5,5,5,5],\"name\":\"Markdown00238\",\"text\":\"&lt;p&gt;&lt;br /&gt;&lt;hr&gt;&lt;br /&gt;&lt;/p&gt;\\n&lt;h3&gt;Reads mapped&lt;/h3&gt;\"},\"id\":\"1069\",\"type\":\"panel.models.markup.HTML\"},{\"attributes\":{\"children\":[{\"id\":\"1071\"},{\"id\":\"1072\"}],\"margin\":[0,0,0,0],\"name\":\"Row00219\"},\"id\":\"1070\",\"type\":\"Row\"},{\"attributes\":{\"css_classes\":[\"markdown\"],\"margin\":[5,5,5,5],\"name\":\"Markdown00236\",\"text\":\"&lt;h1&gt;Some statistics about mapping step&lt;/h1&gt;\"},\"id\":\"1067\",\"type\":\"panel.models.markup.HTML\"},{\"attributes\":{\"css_classes\":[\"markdown\"],\"margin\":[5,5,5,5],\"name\":\"Markdown00213\",\"text\":\"&lt;table&gt;\\n&lt;thead&gt;\\n&lt;tr&gt;\\n&lt;th align=&quot;left&quot;&gt;Samples by group&lt;/th&gt;\\n&lt;th align=&quot;center&quot;&gt;&lt;/th&gt;\\n&lt;/tr&gt;\\n&lt;/thead&gt;\\n&lt;tbody&gt;\\n&lt;tr&gt;\\n&lt;td align=&quot;left&quot;&gt;O. barthii :&lt;/td&gt;\\n&lt;td align=&quot;center&quot;&gt;2 samples&lt;/td&gt;\\n&lt;/tr&gt;\\n&lt;/tbody&gt;\\n&lt;/table&gt;\"},\"id\":\"1068\",\"type\":\"panel.models.markup.HTML\"},{\"attributes\":{\"css_classes\":[\"markdown\"],\"margin\":[5,5,5,5],\"name\":\"Markdown00227\",\"text\":\"&lt;p&gt;&lt;br /&gt;&lt;/p&gt;\\n&lt;ul&gt;\\n&lt;li&gt;min - max : 2.51 - 3.07 %&lt;/li&gt;\\n&lt;li&gt;mean : 2.79&lt;/li&gt;\\n&lt;/ul&gt;\"},\"id\":\"1079\",\"type\":\"panel.models.markup.HTML\"},{\"attributes\":{\"children\":[{\"id\":\"1083\"},{\"id\":\"1084\"}],\"margin\":[0,0,0,0],\"name\":\"Row00230\"},\"id\":\"1082\",\"type\":\"Row\"},{\"attributes\":{\"margin\":[0,20,0,0],\"options\":[\"AA\",\"AB\"],\"placeholder\":\"\",\"title\":\"Sample\"},\"id\":\"1084\",\"type\":\"MultiChoice\"},{\"attributes\":{\"height\":288,\"margin\":[5,5,5,5],\"name\":\"Matplotlib00244\",\"text\":\"&lt;img src=&quot;data:image/png;base64,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&quot; width=&quot;432px&quot; height=&quot;288px&quot; alt=&quot;&quot;&gt;&lt;/img&gt;\",\"width\":432},\"id\":\"1081\",\"type\":\"panel.models.markup.HTML\"}],\"root_ids\":[\"1066\",\"1087\"]},\"title\":\"Bokeh Application\",\"version\":\"2.3.3\"}};\n",
       "    var render_items = [{\"docid\":\"66d2ec81-9829-41d7-8e6a-0897cb059ba4\",\"root_ids\":[\"1066\"],\"roots\":{\"1066\":\"7cca7e67-a36b-4812-b7cf-6e1e4e74fdd9\"}}];\n",
       "    root.Bokeh.embed.embed_items_notebook(docs_json, render_items);\n",
       "  }\n",
       "  if (root.Bokeh !== undefined && root.Bokeh.Panel !== undefined) {\n",
       "    embed_document(root);\n",
       "  } else {\n",
       "    var attempts = 0;\n",
       "    var timer = setInterval(function(root) {\n",
       "      if (root.Bokeh !== undefined && root.Bokeh.Panel !== undefined) {\n",
       "        clearInterval(timer);\n",
       "        embed_document(root);\n",
       "      } else if (document.readyState == \"complete\") {\n",
       "        attempts++;\n",
       "        if (attempts > 100) {\n",
       "          clearInterval(timer);\n",
       "          console.log(\"Bokeh: ERROR: Unable to run BokehJS code because BokehJS library is missing\");\n",
       "        }\n",
       "      }\n",
       "    }, 10, root)\n",
       "  }\n",
       "})(window);</script>"
      ],
      "text/plain": [
       "Column(background='WhiteSmoke', sizing_mode='stretch_both', width=800)\n",
       "    [0] Markdown(str)\n",
       "    [1] Markdown(str)\n",
       "    [2] Markdown(str)\n",
       "    [3] Row\n",
       "        [0] Markdown(str)\n",
       "        [1] DataFrame(DataFrame, width=400)\n",
       "    [4] Markdown(str)\n",
       "    [5] Row\n",
       "        [0] Markdown(str)\n",
       "        [1] DataFrame(DataFrame, width=400)\n",
       "    [6] Markdown(str)\n",
       "    [7] Row\n",
       "        [0] Markdown(str)\n",
       "        [1] DataFrame(DataFrame, width=400)\n",
       "    [8] Matplotlib(Figure)\n",
       "    [9] Row\n",
       "        [0] MultiChoice(margin=(0, 20, 0, 0), name='Group', options=['O. barthii'])\n",
       "        [1] MultiChoice(margin=(0, 20, 0, 0), name='Sample', options=['AA', 'AB'])\n",
       "    [10] ParamFunction(function, max_height=400, width=400)"
      ]
     },
     "metadata": {
      "application/vnd.holoviews_exec.v0+json": {
       "id": "1066"
      }
     },
     "output_type": "display_data"
    }
   ],
   "source": [
    "bgc('LightBlue')\n",
    "\n",
    "#output_mapping_dir = output_dir + \"/01-mapping_against_reference/\"\n",
    "#stat_dir = output_mapping_dir + \"/stat/\"\n",
    "stat_file = stat_dir + \"all_flagstat.csv\"\n",
    "dashboard_flagstat(stat_file,df_group)"
   ]
  },
  {
   "cell_type": "markdown",
   "metadata": {},
   "source": [
    "[<img src=\"Images/up-arrow.png\" alt=\"Top\" width=2% align=\"right\">](#home \"Go back to the top\")\n",
    "\n",
    "\n",
    "### <span style=\"color: #919395\">3 - Assembly of the individuals' reads that do not map (properly) on the reference genome <a class=\"anchor\" id=\"assembly\"></a></span>\n",
    "\n",
    "#### __Creating assembly directory__"
   ]
  },
  {
   "cell_type": "code",
   "execution_count": 8,
   "metadata": {},
   "outputs": [
    {
     "data": {
      "text/html": [
       "<img src onerror=\"var cell = this.closest('.jp-CodeCell');var editor = cell.querySelector('.jp-Editor');editor.style.background='LightBlue';this.parentNode.removeChild(this)\">"
      ],
      "text/plain": [
       "<IPython.core.display.HTML object>"
      ]
     },
     "metadata": {},
     "output_type": "display_data"
    },
    {
     "data": {},
     "metadata": {},
     "output_type": "display_data"
    },
    {
     "data": {
      "application/vnd.holoviews_exec.v0+json": "",
      "text/html": [
       "<div id='1088'>\n",
       "\n",
       "\n",
       "\n",
       "\n",
       "\n",
       "  <div class=\"bk-root\" id=\"b87a27ef-449d-4eff-85d4-56f603f05ece\" data-root-id=\"1088\"></div>\n",
       "</div>\n",
       "<script type=\"application/javascript\">(function(root) {\n",
       "  function embed_document(root) {\n",
       "    var docs_json = {\"ef718754-a431-47b1-9114-c0debb763667\":{\"defs\":[],\"roots\":{\"references\":[{\"attributes\":{\"client_comm_id\":\"9091dede72a642f8b7e422ecbb36551f\",\"comm_id\":\"7f4049dfe7544f26b49bb8961f8ebb38\",\"plot_id\":\"1088\"},\"id\":\"1089\",\"type\":\"panel.models.comm_manager.CommManager\"},{\"attributes\":{\"css_classes\":[\"alert\",\"alert-warning\",\"markdown\"],\"margin\":[0,0,25,0],\"name\":\"Alert00249\",\"sizing_mode\":\"stretch_width\",\"text\":\"&lt;h3&gt;warning&lt;/h3&gt;\\n&lt;hr&gt;\\n&lt;p&gt;Directory /home/christine/Documents/These/frangiPANeGIT/frangiPANe_rice/02-assembly_unmapped_reads/ already existed&lt;/p&gt;\"},\"id\":\"1088\",\"type\":\"panel.models.markup.HTML\"}],\"root_ids\":[\"1088\",\"1089\"]},\"title\":\"Bokeh Application\",\"version\":\"2.3.3\"}};\n",
       "    var render_items = [{\"docid\":\"ef718754-a431-47b1-9114-c0debb763667\",\"root_ids\":[\"1088\"],\"roots\":{\"1088\":\"b87a27ef-449d-4eff-85d4-56f603f05ece\"}}];\n",
       "    root.Bokeh.embed.embed_items_notebook(docs_json, render_items);\n",
       "  }\n",
       "  if (root.Bokeh !== undefined && root.Bokeh.Panel !== undefined) {\n",
       "    embed_document(root);\n",
       "  } else {\n",
       "    var attempts = 0;\n",
       "    var timer = setInterval(function(root) {\n",
       "      if (root.Bokeh !== undefined && root.Bokeh.Panel !== undefined) {\n",
       "        clearInterval(timer);\n",
       "        embed_document(root);\n",
       "      } else if (document.readyState == \"complete\") {\n",
       "        attempts++;\n",
       "        if (attempts > 100) {\n",
       "          clearInterval(timer);\n",
       "          console.log(\"Bokeh: ERROR: Unable to run BokehJS code because BokehJS library is missing\");\n",
       "        }\n",
       "      }\n",
       "    }, 10, root)\n",
       "  }\n",
       "})(window);</script>"
      ],
      "text/plain": [
       "Alert(str, alert_type='warning', css_classes=['alert', 'alert-warning']...], margin=(0, 0, 25, 0), sizing_mode='stretch_width')"
      ]
     },
     "metadata": {
      "application/vnd.holoviews_exec.v0+json": {
       "id": "1088"
      }
     },
     "output_type": "display_data"
    },
    {
     "data": {},
     "metadata": {},
     "output_type": "display_data"
    },
    {
     "data": {
      "application/vnd.holoviews_exec.v0+json": "",
      "text/html": [
       "<div id='1090'>\n",
       "\n",
       "\n",
       "\n",
       "\n",
       "\n",
       "  <div class=\"bk-root\" id=\"d19746df-6902-410e-9a87-72fb377754e2\" data-root-id=\"1090\"></div>\n",
       "</div>\n",
       "<script type=\"application/javascript\">(function(root) {\n",
       "  function embed_document(root) {\n",
       "    var docs_json = {\"b584aa22-a9a2-4e8e-8a9c-e446b99f545c\":{\"defs\":[],\"roots\":{\"references\":[{\"attributes\":{\"client_comm_id\":\"4a73d5fda9d841c1bca4ecc36f9ef695\",\"comm_id\":\"431ffc2517854213a7bdb71c7eace46c\",\"plot_id\":\"1090\"},\"id\":\"1091\",\"type\":\"panel.models.comm_manager.CommManager\"},{\"attributes\":{\"css_classes\":[\"alert\",\"alert-warning\",\"markdown\"],\"margin\":[0,0,25,0],\"name\":\"Alert00253\",\"sizing_mode\":\"stretch_width\",\"text\":\"&lt;h3&gt;warning&lt;/h3&gt;\\n&lt;hr&gt;\\n&lt;p&gt;Directory /home/christine/Documents/These/frangiPANeGIT/frangiPANe_rice/02-assembly_unmapped_reads/bam_F0x2/ already existed&lt;/p&gt;\"},\"id\":\"1090\",\"type\":\"panel.models.markup.HTML\"}],\"root_ids\":[\"1090\",\"1091\"]},\"title\":\"Bokeh Application\",\"version\":\"2.3.3\"}};\n",
       "    var render_items = [{\"docid\":\"b584aa22-a9a2-4e8e-8a9c-e446b99f545c\",\"root_ids\":[\"1090\"],\"roots\":{\"1090\":\"d19746df-6902-410e-9a87-72fb377754e2\"}}];\n",
       "    root.Bokeh.embed.embed_items_notebook(docs_json, render_items);\n",
       "  }\n",
       "  if (root.Bokeh !== undefined && root.Bokeh.Panel !== undefined) {\n",
       "    embed_document(root);\n",
       "  } else {\n",
       "    var attempts = 0;\n",
       "    var timer = setInterval(function(root) {\n",
       "      if (root.Bokeh !== undefined && root.Bokeh.Panel !== undefined) {\n",
       "        clearInterval(timer);\n",
       "        embed_document(root);\n",
       "      } else if (document.readyState == \"complete\") {\n",
       "        attempts++;\n",
       "        if (attempts > 100) {\n",
       "          clearInterval(timer);\n",
       "          console.log(\"Bokeh: ERROR: Unable to run BokehJS code because BokehJS library is missing\");\n",
       "        }\n",
       "      }\n",
       "    }, 10, root)\n",
       "  }\n",
       "})(window);</script>"
      ],
      "text/plain": [
       "Alert(str, alert_type='warning', css_classes=['alert', 'alert-warning']...], margin=(0, 0, 25, 0), sizing_mode='stretch_width')"
      ]
     },
     "metadata": {
      "application/vnd.holoviews_exec.v0+json": {
       "id": "1090"
      }
     },
     "output_type": "display_data"
    }
   ],
   "source": [
    "bgc('LightBlue')\n",
    "\n",
    "output_assembly_dir = output_dir + \"/02-assembly_unmapped_reads/\"\n",
    "make_dir(output_assembly_dir)\n",
    "make_dir(output_assembly_dir + \"bam_F0x2/\")"
   ]
  },
  {
   "cell_type": "markdown",
   "metadata": {},
   "source": [
    "#### __Filtering .bam files with `samtools view`__ \n",
    "\n",
    "Options de samtools view : -b -h -F -@ -o"
   ]
  },
  {
   "cell_type": "code",
   "execution_count": 14,
   "metadata": {},
   "outputs": [
    {
     "data": {
      "text/html": [
       "<img src onerror=\"var cell = this.closest('.jp-CodeCell');var editor = cell.querySelector('.jp-Editor');editor.style.background='LightBlue';this.parentNode.removeChild(this)\">"
      ],
      "text/plain": [
       "<IPython.core.display.HTML object>"
      ]
     },
     "metadata": {},
     "output_type": "display_data"
    },
    {
     "data": {},
     "metadata": {},
     "output_type": "display_data"
    },
    {
     "data": {
      "application/vnd.holoviews_exec.v0+json": "",
      "text/html": [
       "<div id='1100'>\n",
       "\n",
       "\n",
       "\n",
       "\n",
       "\n",
       "  <div class=\"bk-root\" id=\"36a1c671-9ee3-4fc8-b7e0-671c4f96dc10\" data-root-id=\"1100\"></div>\n",
       "</div>\n",
       "<script type=\"application/javascript\">(function(root) {\n",
       "  function embed_document(root) {\n",
       "    var docs_json = {\"3bd295f3-4beb-46c5-b6ff-7b071a92e118\":{\"defs\":[],\"roots\":{\"references\":[{\"attributes\":{\"client_comm_id\":\"f35f25db5a2a4b5dabc1ec3e3032ce38\",\"comm_id\":\"a9692aa9646f4abcb58249031f8a16dd\",\"plot_id\":\"1100\"},\"id\":\"1101\",\"type\":\"panel.models.comm_manager.CommManager\"},{\"attributes\":{\"css_classes\":[\"alert\",\"alert-warning\",\"markdown\"],\"margin\":[0,0,25,0],\"name\":\"Alert00270\",\"sizing_mode\":\"stretch_width\",\"text\":\"&lt;p&gt;File /home/christine/Documents/These/frangiPANeGIT/frangiPANe_rice/02-assembly_unmapped_reads/bam_F0x2/AA_F0x2.bam already existed&lt;/p&gt;\"},\"id\":\"1100\",\"type\":\"panel.models.markup.HTML\"}],\"root_ids\":[\"1100\",\"1101\"]},\"title\":\"Bokeh Application\",\"version\":\"2.3.3\"}};\n",
       "    var render_items = [{\"docid\":\"3bd295f3-4beb-46c5-b6ff-7b071a92e118\",\"root_ids\":[\"1100\"],\"roots\":{\"1100\":\"36a1c671-9ee3-4fc8-b7e0-671c4f96dc10\"}}];\n",
       "    root.Bokeh.embed.embed_items_notebook(docs_json, render_items);\n",
       "  }\n",
       "  if (root.Bokeh !== undefined && root.Bokeh.Panel !== undefined) {\n",
       "    embed_document(root);\n",
       "  } else {\n",
       "    var attempts = 0;\n",
       "    var timer = setInterval(function(root) {\n",
       "      if (root.Bokeh !== undefined && root.Bokeh.Panel !== undefined) {\n",
       "        clearInterval(timer);\n",
       "        embed_document(root);\n",
       "      } else if (document.readyState == \"complete\") {\n",
       "        attempts++;\n",
       "        if (attempts > 100) {\n",
       "          clearInterval(timer);\n",
       "          console.log(\"Bokeh: ERROR: Unable to run BokehJS code because BokehJS library is missing\");\n",
       "        }\n",
       "      }\n",
       "    }, 10, root)\n",
       "  }\n",
       "})(window);</script>"
      ],
      "text/plain": [
       "Alert(str, alert_type='warning', css_classes=['alert', 'alert-warning']...], margin=(0, 0, 25, 0), sizing_mode='stretch_width')"
      ]
     },
     "metadata": {
      "application/vnd.holoviews_exec.v0+json": {
       "id": "1100"
      }
     },
     "output_type": "display_data"
    },
    {
     "data": {},
     "metadata": {},
     "output_type": "display_data"
    },
    {
     "data": {
      "application/vnd.holoviews_exec.v0+json": "",
      "text/html": [
       "<div id='1102'>\n",
       "\n",
       "\n",
       "\n",
       "\n",
       "\n",
       "  <div class=\"bk-root\" id=\"1d937000-2782-43f5-9c0c-6f7d775df1ba\" data-root-id=\"1102\"></div>\n",
       "</div>\n",
       "<script type=\"application/javascript\">(function(root) {\n",
       "  function embed_document(root) {\n",
       "    var docs_json = {\"9312878d-e74f-43a6-b0ef-fccc6db12b62\":{\"defs\":[],\"roots\":{\"references\":[{\"attributes\":{\"css_classes\":[\"alert\",\"alert-warning\",\"markdown\"],\"margin\":[0,0,25,0],\"name\":\"Alert00274\",\"sizing_mode\":\"stretch_width\",\"text\":\"&lt;p&gt;File /home/christine/Documents/These/frangiPANeGIT/frangiPANe_rice/02-assembly_unmapped_reads/bam_F0x2/AB_F0x2.bam already existed&lt;/p&gt;\"},\"id\":\"1102\",\"type\":\"panel.models.markup.HTML\"},{\"attributes\":{\"client_comm_id\":\"a3a0cfd80e884d21b79780f11ffe0064\",\"comm_id\":\"88235d2277884de1b3ad6d962325197a\",\"plot_id\":\"1102\"},\"id\":\"1103\",\"type\":\"panel.models.comm_manager.CommManager\"}],\"root_ids\":[\"1102\",\"1103\"]},\"title\":\"Bokeh Application\",\"version\":\"2.3.3\"}};\n",
       "    var render_items = [{\"docid\":\"9312878d-e74f-43a6-b0ef-fccc6db12b62\",\"root_ids\":[\"1102\"],\"roots\":{\"1102\":\"1d937000-2782-43f5-9c0c-6f7d775df1ba\"}}];\n",
       "    root.Bokeh.embed.embed_items_notebook(docs_json, render_items);\n",
       "  }\n",
       "  if (root.Bokeh !== undefined && root.Bokeh.Panel !== undefined) {\n",
       "    embed_document(root);\n",
       "  } else {\n",
       "    var attempts = 0;\n",
       "    var timer = setInterval(function(root) {\n",
       "      if (root.Bokeh !== undefined && root.Bokeh.Panel !== undefined) {\n",
       "        clearInterval(timer);\n",
       "        embed_document(root);\n",
       "      } else if (document.readyState == \"complete\") {\n",
       "        attempts++;\n",
       "        if (attempts > 100) {\n",
       "          clearInterval(timer);\n",
       "          console.log(\"Bokeh: ERROR: Unable to run BokehJS code because BokehJS library is missing\");\n",
       "        }\n",
       "      }\n",
       "    }, 10, root)\n",
       "  }\n",
       "})(window);</script>"
      ],
      "text/plain": [
       "Alert(str, alert_type='warning', css_classes=['alert', 'alert-warning']...], margin=(0, 0, 25, 0), sizing_mode='stretch_width')"
      ]
     },
     "metadata": {
      "application/vnd.holoviews_exec.v0+json": {
       "id": "1102"
      }
     },
     "output_type": "display_data"
    },
    {
     "data": {},
     "metadata": {},
     "output_type": "display_data"
    },
    {
     "data": {
      "application/vnd.holoviews_exec.v0+json": "",
      "text/html": [
       "<div id='1104'>\n",
       "\n",
       "\n",
       "\n",
       "\n",
       "\n",
       "  <div class=\"bk-root\" id=\"992ae325-83a3-405d-b54b-6768813f412d\" data-root-id=\"1104\"></div>\n",
       "</div>\n",
       "<script type=\"application/javascript\">(function(root) {\n",
       "  function embed_document(root) {\n",
       "    var docs_json = {\"f82b9dd8-252d-4502-9c1e-2807c0af6cf1\":{\"defs\":[],\"roots\":{\"references\":[{\"attributes\":{\"css_classes\":[\"alert\",\"alert-secondary\",\"markdown\"],\"margin\":[0,0,25,0],\"name\":\"Alert00278\",\"sizing_mode\":\"stretch_width\",\"text\":\"&lt;p&gt;FILTERING BAM FOR (/home/christine/Documents/These/frangiPANeGIT/frangiPANe_rice/01-mapping_against_reference/DT.bam)&amp;hellip; samtools view in progress&lt;/p&gt;\"},\"id\":\"1104\",\"type\":\"panel.models.markup.HTML\"},{\"attributes\":{\"client_comm_id\":\"36949fee85b24d618182ff00aafdfc6b\",\"comm_id\":\"e37a58e3f24544d7a0009d1e7ee4f6dd\",\"plot_id\":\"1104\"},\"id\":\"1105\",\"type\":\"panel.models.comm_manager.CommManager\"}],\"root_ids\":[\"1104\",\"1105\"]},\"title\":\"Bokeh Application\",\"version\":\"2.3.3\"}};\n",
       "    var render_items = [{\"docid\":\"f82b9dd8-252d-4502-9c1e-2807c0af6cf1\",\"root_ids\":[\"1104\"],\"roots\":{\"1104\":\"992ae325-83a3-405d-b54b-6768813f412d\"}}];\n",
       "    root.Bokeh.embed.embed_items_notebook(docs_json, render_items);\n",
       "  }\n",
       "  if (root.Bokeh !== undefined && root.Bokeh.Panel !== undefined) {\n",
       "    embed_document(root);\n",
       "  } else {\n",
       "    var attempts = 0;\n",
       "    var timer = setInterval(function(root) {\n",
       "      if (root.Bokeh !== undefined && root.Bokeh.Panel !== undefined) {\n",
       "        clearInterval(timer);\n",
       "        embed_document(root);\n",
       "      } else if (document.readyState == \"complete\") {\n",
       "        attempts++;\n",
       "        if (attempts > 100) {\n",
       "          clearInterval(timer);\n",
       "          console.log(\"Bokeh: ERROR: Unable to run BokehJS code because BokehJS library is missing\");\n",
       "        }\n",
       "      }\n",
       "    }, 10, root)\n",
       "  }\n",
       "})(window);</script>"
      ],
      "text/plain": [
       "Alert(str, alert_type='secondary', css_classes=['alert', 'alert-secondary...], margin=(0, 0, 25, 0), sizing_mode='stretch_width')"
      ]
     },
     "metadata": {
      "application/vnd.holoviews_exec.v0+json": {
       "id": "1104"
      }
     },
     "output_type": "display_data"
    },
    {
     "data": {},
     "metadata": {},
     "output_type": "display_data"
    },
    {
     "data": {
      "application/vnd.holoviews_exec.v0+json": "",
      "text/html": [
       "<div id='1106'>\n",
       "\n",
       "\n",
       "\n",
       "\n",
       "\n",
       "  <div class=\"bk-root\" id=\"5fd737a3-072d-431b-a3d6-de2d9bdabb66\" data-root-id=\"1106\"></div>\n",
       "</div>\n",
       "<script type=\"application/javascript\">(function(root) {\n",
       "  function embed_document(root) {\n",
       "    var docs_json = {\"950e1d79-82c4-445c-9609-7def09c5a9fc\":{\"defs\":[],\"roots\":{\"references\":[{\"attributes\":{\"client_comm_id\":\"7d6a0d82553a40ca8b9e86ea5c5ad906\",\"comm_id\":\"899cfa383fe54d68b657c9a9397dff8f\",\"plot_id\":\"1106\"},\"id\":\"1107\",\"type\":\"panel.models.comm_manager.CommManager\"},{\"attributes\":{\"css_classes\":[\"alert\",\"alert-danger\",\"markdown\"],\"margin\":[0,0,25,0],\"name\":\"Alert00282\",\"sizing_mode\":\"stretch_width\",\"text\":\"&lt;p&gt;FAILED EXECUTION : samtools view -b -h -F 0x2 -o /home/christine/Documents/These/frangiPANeGIT/frangiPANe_rice/02-assembly_unmapped_reads/bam_F0x2/DT_F0x2.bam -@ 6 /home/christine/Documents/These/frangiPANeGIT/frangiPANe_rice/01-mapping_against_reference/DT.bam&lt;/p&gt;\\n&lt;p&gt;[E::hts_open_format] Failed to open file &amp;ldquo;/home/christine/Documents/These/frangiPANeGIT/frangiPANe_rice/01-mapping_against_reference/DT.bam&amp;rdquo; : No such file or directory\\nsamtools view: failed to open &amp;ldquo;/home/christine/Documents/These/frangiPANeGIT/frangiPANe_rice/01-mapping_against_reference/DT.bam&amp;rdquo; for reading: No such file or directory&lt;/p&gt;\"},\"id\":\"1106\",\"type\":\"panel.models.markup.HTML\"}],\"root_ids\":[\"1106\",\"1107\"]},\"title\":\"Bokeh Application\",\"version\":\"2.3.3\"}};\n",
       "    var render_items = [{\"docid\":\"950e1d79-82c4-445c-9609-7def09c5a9fc\",\"root_ids\":[\"1106\"],\"roots\":{\"1106\":\"5fd737a3-072d-431b-a3d6-de2d9bdabb66\"}}];\n",
       "    root.Bokeh.embed.embed_items_notebook(docs_json, render_items);\n",
       "  }\n",
       "  if (root.Bokeh !== undefined && root.Bokeh.Panel !== undefined) {\n",
       "    embed_document(root);\n",
       "  } else {\n",
       "    var attempts = 0;\n",
       "    var timer = setInterval(function(root) {\n",
       "      if (root.Bokeh !== undefined && root.Bokeh.Panel !== undefined) {\n",
       "        clearInterval(timer);\n",
       "        embed_document(root);\n",
       "      } else if (document.readyState == \"complete\") {\n",
       "        attempts++;\n",
       "        if (attempts > 100) {\n",
       "          clearInterval(timer);\n",
       "          console.log(\"Bokeh: ERROR: Unable to run BokehJS code because BokehJS library is missing\");\n",
       "        }\n",
       "      }\n",
       "    }, 10, root)\n",
       "  }\n",
       "})(window);</script>"
      ],
      "text/plain": [
       "Alert(str, alert_type='danger', css_classes=['alert', 'alert-danger'], margin=(0, 0, 25, 0), sizing_mode='stretch_width')"
      ]
     },
     "metadata": {
      "application/vnd.holoviews_exec.v0+json": {
       "id": "1106"
      }
     },
     "output_type": "display_data"
    }
   ],
   "source": [
    "bgc('LightBlue')\n",
    "\n",
    "for id in id_dict : \n",
    "    bam_to_F0x2_bam(reference_genome=ref_file, \n",
    "                    bam_dir=output_mapping_dir, \n",
    "                    id=id, \n",
    "                    cpu=6, \n",
    "                    output_dir=output_assembly_dir + \"bam_F0x2/\", \n",
    "                    logger=logger)"
   ]
  },
  {
   "cell_type": "markdown",
   "metadata": {},
   "source": [
    "#### __Assembly with ABySS__"
   ]
  },
  {
   "cell_type": "markdown",
   "metadata": {
    "tags": []
   },
   "source": [
    "#### _Choosing optimal k_\n",
    "\n",
    "```control post form```"
   ]
  },
  {
   "cell_type": "code",
   "execution_count": 9,
   "metadata": {},
   "outputs": [
    {
     "data": {
      "text/html": [
       "<img src onerror=\"var cell = this.closest('.jp-CodeCell');var editor = cell.querySelector('.jp-Editor');editor.style.background='LightBlue';this.parentNode.removeChild(this)\">"
      ],
      "text/plain": [
       "<IPython.core.display.HTML object>"
      ]
     },
     "metadata": {},
     "output_type": "display_data"
    },
    {
     "data": {},
     "metadata": {},
     "output_type": "display_data"
    },
    {
     "data": {
      "application/vnd.holoviews_exec.v0+json": "",
      "text/html": [
       "<div id='1116'>\n",
       "\n",
       "\n",
       "\n",
       "\n",
       "\n",
       "  <div class=\"bk-root\" id=\"efe21bc3-2723-4bed-9f8e-0a8a973eed34\" data-root-id=\"1116\"></div>\n",
       "</div>\n",
       "<script type=\"application/javascript\">(function(root) {\n",
       "  function embed_document(root) {\n",
       "    var docs_json = {\"94445727-c070-4072-b35e-bc585a4cfda3\":{\"defs\":[],\"roots\":{\"references\":[{\"attributes\":{\"button_type\":\"primary\",\"icon\":null,\"label\":\"SAVE\",\"margin\":[5,10,5,10],\"min_width\":100,\"subscribed_events\":[\"button_click\"],\"width\":100},\"id\":\"1125\",\"type\":\"Button\"},{\"attributes\":{\"children\":[{\"id\":\"1125\"},{\"id\":\"1126\"}],\"margin\":[0,0,0,0],\"name\":\"Row00301\"},\"id\":\"1124\",\"type\":\"Row\"},{\"attributes\":{\"background\":\"#E3ECF1\",\"children\":[{\"id\":\"1117\"},{\"id\":\"1118\"}],\"css_classes\":[\"panel-widget-box\"],\"margin\":[5,5,5,5],\"name\":\"WidgetBox00306\"},\"id\":\"1116\",\"type\":\"Column\"},{\"attributes\":{\"client_comm_id\":\"32be00e1bede44bda9c2c24db5991369\",\"comm_id\":\"2cc992f0428041f383301a96cfa96396\",\"plot_id\":\"1116\"},\"id\":\"1128\",\"type\":\"panel.models.comm_manager.CommManager\"},{\"attributes\":{\"margin\":[5,10,5,10],\"options\":[\"AA\",\"AB\",\"DT\"],\"title\":\"Accession\"},\"id\":\"1122\",\"type\":\"MultiSelect\"},{\"attributes\":{\"end\":92,\"margin\":[5,10,5,10],\"start\":24,\"step\":4,\"title\":\"K-mer length\",\"value\":[64,68]},\"id\":\"1120\",\"type\":\"RangeSlider\"},{\"attributes\":{\"high\":10000,\"low\":100,\"margin\":[5,10,5,10],\"mode\":\"int\",\"placeholder\":\"0\",\"step\":100,\"title\":\"Minimal length to filter\",\"value\":300,\"value_throttled\":300},\"id\":\"1123\",\"type\":\"Spinner\"},{\"attributes\":{\"high\":10,\"low\":1,\"margin\":[5,10,5,10],\"mode\":\"int\",\"placeholder\":\"0\",\"title\":\"Step\",\"value\":4,\"value_throttled\":4},\"id\":\"1121\",\"type\":\"Spinner\"},{\"attributes\":{\"children\":[{\"id\":\"1120\"},{\"id\":\"1121\"}],\"margin\":[0,0,0,0],\"name\":\"Row00302\"},\"id\":\"1119\",\"type\":\"Row\"},{\"attributes\":{\"button_type\":\"primary\",\"icon\":null,\"label\":\"INIT\",\"margin\":[5,10,5,10],\"min_width\":100,\"subscribed_events\":[\"button_click\"],\"width\":100},\"id\":\"1126\",\"type\":\"Button\"},{\"attributes\":{\"css_classes\":[\"markdown\"],\"margin\":[5,5,5,5],\"name\":\"Markdown00304\",\"text\":\"&lt;h1&gt;INPUT FORM&lt;/h1&gt;\"},\"id\":\"1117\",\"type\":\"panel.models.markup.HTML\"},{\"attributes\":{\"css_classes\":[\"alert\",\"alert-warning\",\"markdown\"],\"height\":200,\"margin\":[0,0,25,0],\"name\":\"Alert00293\",\"sizing_mode\":\"stretch_width\",\"text\":\"&lt;p&gt;No filled&lt;/p&gt;\"},\"id\":\"1127\",\"type\":\"panel.models.markup.HTML\"},{\"attributes\":{\"children\":[{\"id\":\"1119\"},{\"id\":\"1122\"},{\"id\":\"1123\"},{\"id\":\"1124\"},{\"id\":\"1127\"}],\"margin\":[0,0,0,0],\"min_width\":800,\"name\":\"Column00303\",\"width\":800},\"id\":\"1118\",\"type\":\"Column\"}],\"root_ids\":[\"1116\",\"1128\"]},\"title\":\"Bokeh Application\",\"version\":\"2.3.3\"}};\n",
       "    var render_items = [{\"docid\":\"94445727-c070-4072-b35e-bc585a4cfda3\",\"root_ids\":[\"1116\"],\"roots\":{\"1116\":\"efe21bc3-2723-4bed-9f8e-0a8a973eed34\"}}];\n",
       "    root.Bokeh.embed.embed_items_notebook(docs_json, render_items);\n",
       "  }\n",
       "  if (root.Bokeh !== undefined && root.Bokeh.Panel !== undefined) {\n",
       "    embed_document(root);\n",
       "  } else {\n",
       "    var attempts = 0;\n",
       "    var timer = setInterval(function(root) {\n",
       "      if (root.Bokeh !== undefined && root.Bokeh.Panel !== undefined) {\n",
       "        clearInterval(timer);\n",
       "        embed_document(root);\n",
       "      } else if (document.readyState == \"complete\") {\n",
       "        attempts++;\n",
       "        if (attempts > 100) {\n",
       "          clearInterval(timer);\n",
       "          console.log(\"Bokeh: ERROR: Unable to run BokehJS code because BokehJS library is missing\");\n",
       "        }\n",
       "      }\n",
       "    }, 10, root)\n",
       "  }\n",
       "})(window);</script>"
      ],
      "text/plain": [
       "WidgetBox(background='#E3ECF1')\n",
       "    [0] Markdown(str)\n",
       "    [1] Column(width=800)\n",
       "        [0] Row\n",
       "            [0] RangeSlider(end=92, name='K-mer length', start=24, step=4, value=(64, 68))\n",
       "            [1] IntInput(end=10, name='Step', start=1, value=4)\n",
       "        [1] MultiSelect(name='Accession', options=['AA', 'AB', 'DT'])\n",
       "        [2] IntInput(end=10000, name='Minimal length t..., start=100, step=100, value=300)\n",
       "        [3] Row\n",
       "            [0] Button(button_type='primary', name='SAVE', width=100)\n",
       "            [1] Button(button_type='primary', name='INIT', width=100)\n",
       "        [4] Alert(str, alert_type='warning', css_classes=['alert', 'alert-warning']...], height=200, margin=(0, 0, 25, 0), sizing_mode='stretch_width')"
      ]
     },
     "metadata": {
      "application/vnd.holoviews_exec.v0+json": {
       "id": "1116"
      }
     },
     "output_type": "display_data"
    }
   ],
   "source": [
    "bgc('LightBlue')\n",
    "\n",
    "k,step,accession,length = box_config_abyss(df_group)"
   ]
  },
  {
   "cell_type": "markdown",
   "metadata": {},
   "source": [
    "##### Execute Abyss with several k"
   ]
  },
  {
   "cell_type": "code",
   "execution_count": 10,
   "metadata": {
    "scrolled": true
   },
   "outputs": [
    {
     "data": {
      "text/html": [
       "<img src onerror=\"var cell = this.closest('.jp-CodeCell');var editor = cell.querySelector('.jp-Editor');editor.style.background='LightBlue';this.parentNode.removeChild(this)\">"
      ],
      "text/plain": [
       "<IPython.core.display.HTML object>"
      ]
     },
     "metadata": {},
     "output_type": "display_data"
    },
    {
     "data": {},
     "metadata": {},
     "output_type": "display_data"
    },
    {
     "data": {
      "application/vnd.holoviews_exec.v0+json": "",
      "text/html": [
       "<div id='1130'>\n",
       "\n",
       "\n",
       "\n",
       "\n",
       "\n",
       "  <div class=\"bk-root\" id=\"fe51e428-fa71-4422-882c-704565091f21\" data-root-id=\"1130\"></div>\n",
       "</div>\n",
       "<script type=\"application/javascript\">(function(root) {\n",
       "  function embed_document(root) {\n",
       "    var docs_json = {\"955f02c7-cd73-43da-851d-744a89b12547\":{\"defs\":[],\"roots\":{\"references\":[{\"attributes\":{\"css_classes\":[\"alert\",\"alert-warning\",\"markdown\"],\"margin\":[0,0,25,0],\"name\":\"Alert00309\",\"sizing_mode\":\"stretch_width\",\"text\":\"&lt;h3&gt;warning&lt;/h3&gt;\\n&lt;hr&gt;\\n&lt;p&gt;Directory /home/christine/Documents/These/frangiPANeGIT/frangiPANe_rice/02-assembly_unmapped_reads/assembly_choosing_k/ already existed&lt;/p&gt;\"},\"id\":\"1130\",\"type\":\"panel.models.markup.HTML\"},{\"attributes\":{\"client_comm_id\":\"b4e34c9191f04a27a0b989816381e4f0\",\"comm_id\":\"d11525ab0aee453d91c90a0c76abaaa9\",\"plot_id\":\"1130\"},\"id\":\"1131\",\"type\":\"panel.models.comm_manager.CommManager\"}],\"root_ids\":[\"1130\",\"1131\"]},\"title\":\"Bokeh Application\",\"version\":\"2.3.3\"}};\n",
       "    var render_items = [{\"docid\":\"955f02c7-cd73-43da-851d-744a89b12547\",\"root_ids\":[\"1130\"],\"roots\":{\"1130\":\"fe51e428-fa71-4422-882c-704565091f21\"}}];\n",
       "    root.Bokeh.embed.embed_items_notebook(docs_json, render_items);\n",
       "  }\n",
       "  if (root.Bokeh !== undefined && root.Bokeh.Panel !== undefined) {\n",
       "    embed_document(root);\n",
       "  } else {\n",
       "    var attempts = 0;\n",
       "    var timer = setInterval(function(root) {\n",
       "      if (root.Bokeh !== undefined && root.Bokeh.Panel !== undefined) {\n",
       "        clearInterval(timer);\n",
       "        embed_document(root);\n",
       "      } else if (document.readyState == \"complete\") {\n",
       "        attempts++;\n",
       "        if (attempts > 100) {\n",
       "          clearInterval(timer);\n",
       "          console.log(\"Bokeh: ERROR: Unable to run BokehJS code because BokehJS library is missing\");\n",
       "        }\n",
       "      }\n",
       "    }, 10, root)\n",
       "  }\n",
       "})(window);</script>"
      ],
      "text/plain": [
       "Alert(str, alert_type='warning', css_classes=['alert', 'alert-warning']...], margin=(0, 0, 25, 0), sizing_mode='stretch_width')"
      ]
     },
     "metadata": {
      "application/vnd.holoviews_exec.v0+json": {
       "id": "1130"
      }
     },
     "output_type": "display_data"
    },
    {
     "data": {},
     "metadata": {},
     "output_type": "display_data"
    },
    {
     "data": {
      "application/vnd.holoviews_exec.v0+json": "",
      "text/html": [
       "<div id='1132'>\n",
       "\n",
       "\n",
       "\n",
       "\n",
       "\n",
       "  <div class=\"bk-root\" id=\"0c935372-a8cc-4917-9f8d-8f8c139524a5\" data-root-id=\"1132\"></div>\n",
       "</div>\n",
       "<script type=\"application/javascript\">(function(root) {\n",
       "  function embed_document(root) {\n",
       "    var docs_json = {\"74410eeb-1b28-4998-ac3c-a0e92a5227d7\":{\"defs\":[],\"roots\":{\"references\":[{\"attributes\":{\"client_comm_id\":\"ce4b1e11692d40ffbc157d7e986548a7\",\"comm_id\":\"9dc158f32151435ebd307aa5167b52e8\",\"plot_id\":\"1132\"},\"id\":\"1133\",\"type\":\"panel.models.comm_manager.CommManager\"},{\"attributes\":{\"css_classes\":[\"alert\",\"alert-warning\",\"markdown\"],\"margin\":[0,0,25,0],\"name\":\"Alert00313\",\"sizing_mode\":\"stretch_width\",\"text\":\"&lt;h3&gt;warning&lt;/h3&gt;\\n&lt;hr&gt;\\n&lt;p&gt;Directory /home/christine/Documents/These/frangiPANeGIT/frangiPANe_rice/02-assembly_unmapped_reads/assembly_choosing_k/abyss/ already existed&lt;/p&gt;\"},\"id\":\"1132\",\"type\":\"panel.models.markup.HTML\"}],\"root_ids\":[\"1132\",\"1133\"]},\"title\":\"Bokeh Application\",\"version\":\"2.3.3\"}};\n",
       "    var render_items = [{\"docid\":\"74410eeb-1b28-4998-ac3c-a0e92a5227d7\",\"root_ids\":[\"1132\"],\"roots\":{\"1132\":\"0c935372-a8cc-4917-9f8d-8f8c139524a5\"}}];\n",
       "    root.Bokeh.embed.embed_items_notebook(docs_json, render_items);\n",
       "  }\n",
       "  if (root.Bokeh !== undefined && root.Bokeh.Panel !== undefined) {\n",
       "    embed_document(root);\n",
       "  } else {\n",
       "    var attempts = 0;\n",
       "    var timer = setInterval(function(root) {\n",
       "      if (root.Bokeh !== undefined && root.Bokeh.Panel !== undefined) {\n",
       "        clearInterval(timer);\n",
       "        embed_document(root);\n",
       "      } else if (document.readyState == \"complete\") {\n",
       "        attempts++;\n",
       "        if (attempts > 100) {\n",
       "          clearInterval(timer);\n",
       "          console.log(\"Bokeh: ERROR: Unable to run BokehJS code because BokehJS library is missing\");\n",
       "        }\n",
       "      }\n",
       "    }, 10, root)\n",
       "  }\n",
       "})(window);</script>"
      ],
      "text/plain": [
       "Alert(str, alert_type='warning', css_classes=['alert', 'alert-warning']...], margin=(0, 0, 25, 0), sizing_mode='stretch_width')"
      ]
     },
     "metadata": {
      "application/vnd.holoviews_exec.v0+json": {
       "id": "1132"
      }
     },
     "output_type": "display_data"
    },
    {
     "name": "stdout",
     "output_type": "stream",
     "text": [
      "AA\n",
      "AB\n",
      "AA\n",
      "AB\n",
      "AA\n",
      "AB\n"
     ]
    },
    {
     "data": {},
     "metadata": {},
     "output_type": "display_data"
    },
    {
     "data": {
      "application/vnd.holoviews_exec.v0+json": "",
      "text/html": [
       "<div id='1134'>\n",
       "\n",
       "\n",
       "\n",
       "\n",
       "\n",
       "  <div class=\"bk-root\" id=\"440786ef-af7b-4c9d-9dcb-0c3403de38fb\" data-root-id=\"1134\"></div>\n",
       "</div>\n",
       "<script type=\"application/javascript\">(function(root) {\n",
       "  function embed_document(root) {\n",
       "    var docs_json = {\"3a9a05f2-5c26-4269-80cb-4b9dab35fa0d\":{\"defs\":[],\"roots\":{\"references\":[{\"attributes\":{\"client_comm_id\":\"74b76a4e7bd04b2f945e3c35a6efe9e5\",\"comm_id\":\"c6603aa047464b25a0490ecf1472d131\",\"plot_id\":\"1134\"},\"id\":\"1135\",\"type\":\"panel.models.comm_manager.CommManager\"},{\"attributes\":{\"css_classes\":[\"alert\",\"alert-warning\",\"markdown\"],\"margin\":[0,0,25,0],\"name\":\"Alert00317\",\"sizing_mode\":\"stretch_width\",\"text\":\"&lt;h3&gt;warning&lt;/h3&gt;\\n&lt;hr&gt;\\n&lt;p&gt;Directory /home/christine/Documents/These/frangiPANeGIT/frangiPANe_rice/02-assembly_unmapped_reads/assembly_choosing_k/fasta_test/ already existed&lt;/p&gt;\"},\"id\":\"1134\",\"type\":\"panel.models.markup.HTML\"}],\"root_ids\":[\"1134\",\"1135\"]},\"title\":\"Bokeh Application\",\"version\":\"2.3.3\"}};\n",
       "    var render_items = [{\"docid\":\"3a9a05f2-5c26-4269-80cb-4b9dab35fa0d\",\"root_ids\":[\"1134\"],\"roots\":{\"1134\":\"440786ef-af7b-4c9d-9dcb-0c3403de38fb\"}}];\n",
       "    root.Bokeh.embed.embed_items_notebook(docs_json, render_items);\n",
       "  }\n",
       "  if (root.Bokeh !== undefined && root.Bokeh.Panel !== undefined) {\n",
       "    embed_document(root);\n",
       "  } else {\n",
       "    var attempts = 0;\n",
       "    var timer = setInterval(function(root) {\n",
       "      if (root.Bokeh !== undefined && root.Bokeh.Panel !== undefined) {\n",
       "        clearInterval(timer);\n",
       "        embed_document(root);\n",
       "      } else if (document.readyState == \"complete\") {\n",
       "        attempts++;\n",
       "        if (attempts > 100) {\n",
       "          clearInterval(timer);\n",
       "          console.log(\"Bokeh: ERROR: Unable to run BokehJS code because BokehJS library is missing\");\n",
       "        }\n",
       "      }\n",
       "    }, 10, root)\n",
       "  }\n",
       "})(window);</script>"
      ],
      "text/plain": [
       "Alert(str, alert_type='warning', css_classes=['alert', 'alert-warning']...], margin=(0, 0, 25, 0), sizing_mode='stretch_width')"
      ]
     },
     "metadata": {
      "application/vnd.holoviews_exec.v0+json": {
       "id": "1134"
      }
     },
     "output_type": "display_data"
    },
    {
     "data": {
      "text/plain": [
       "'File /home/christine/Documents/These/frangiPANeGIT/frangiPANe_rice/02-assembly_unmapped_reads/assembly_choosing_k/fasta_test/AA_k60_thr300.fasta already existed'"
      ]
     },
     "metadata": {},
     "output_type": "display_data"
    },
    {
     "data": {
      "text/plain": [
       "'warning'"
      ]
     },
     "metadata": {},
     "output_type": "display_data"
    },
    {
     "data": {
      "text/plain": [
       "'File /home/christine/Documents/These/frangiPANeGIT/frangiPANe_rice/02-assembly_unmapped_reads/assembly_choosing_k/fasta_test/AB_k60_thr300.fasta already existed'"
      ]
     },
     "metadata": {},
     "output_type": "display_data"
    },
    {
     "data": {
      "text/plain": [
       "'warning'"
      ]
     },
     "metadata": {},
     "output_type": "display_data"
    },
    {
     "data": {
      "text/plain": [
       "'File /home/christine/Documents/These/frangiPANeGIT/frangiPANe_rice/02-assembly_unmapped_reads/assembly_choosing_k/fasta_test/AA_k64_thr300.fasta already existed'"
      ]
     },
     "metadata": {},
     "output_type": "display_data"
    },
    {
     "data": {
      "text/plain": [
       "'warning'"
      ]
     },
     "metadata": {},
     "output_type": "display_data"
    },
    {
     "data": {
      "text/plain": [
       "'File /home/christine/Documents/These/frangiPANeGIT/frangiPANe_rice/02-assembly_unmapped_reads/assembly_choosing_k/fasta_test/AB_k64_thr300.fasta already existed'"
      ]
     },
     "metadata": {},
     "output_type": "display_data"
    },
    {
     "data": {
      "text/plain": [
       "'warning'"
      ]
     },
     "metadata": {},
     "output_type": "display_data"
    },
    {
     "data": {
      "text/plain": [
       "'File /home/christine/Documents/These/frangiPANeGIT/frangiPANe_rice/02-assembly_unmapped_reads/assembly_choosing_k/fasta_test/AA_k68_thr300.fasta already existed'"
      ]
     },
     "metadata": {},
     "output_type": "display_data"
    },
    {
     "data": {
      "text/plain": [
       "'warning'"
      ]
     },
     "metadata": {},
     "output_type": "display_data"
    },
    {
     "data": {
      "text/plain": [
       "'File /home/christine/Documents/These/frangiPANeGIT/frangiPANe_rice/02-assembly_unmapped_reads/assembly_choosing_k/fasta_test/AB_k68_thr300.fasta already existed'"
      ]
     },
     "metadata": {},
     "output_type": "display_data"
    },
    {
     "data": {
      "text/plain": [
       "'warning'"
      ]
     },
     "metadata": {},
     "output_type": "display_data"
    }
   ],
   "source": [
    "bgc('LightBlue')\n",
    "\n",
    "make_dir(output_assembly_dir + \"assembly_choosing_k/\")\n",
    "make_dir(output_assembly_dir + \"assembly_choosing_k/abyss/\")\n",
    "\n",
    "kmin=int(k.value[0])\n",
    "kmax=int(k.value[1])\n",
    "st=step.value\n",
    "threshold =  length.value\n",
    "\n",
    "for k in range(kmin, kmax, step.value) :\n",
    "    for id in accession.value : ### INDIVIDUS TEST\n",
    "        print(id)\n",
    "        #abyss_pe(project_name=project_name.value, id=id, k=k, bam_dir=output_assembly_dir + \"bam_F0x2/\", \n",
    "        #        output_dir=output_assembly_dir + \"assembly_choosing_k/abyss/\", logger=logger) \n",
    "        \n",
    "\n",
    "make_dir(output_assembly_dir + \"assembly_choosing_k/fasta_test/\")\n",
    "logger.info(f\"FILTERING SEQUENCES >= THRESHOLD ({threshold})\")\n",
    "\n",
    "for k in range(kmin, kmax, step.value) :\n",
    "    for id in accession.value : \n",
    "        filter_fastq_threshold(file=output_assembly_dir + \"assembly_choosing_k/abyss/\" + id + \"_k\" + str(k) + \"/\" + project_name.value+ \"_\" + id + \"_\" + str(k) + \"-contigs.fa\", \n",
    "                               threshold=threshold, \n",
    "                               output_file=output_assembly_dir + \"assembly_choosing_k/fasta_test/\" + id + \"_k\" + str(k) + \"_thr\" + str(threshold) + \".fasta\") "
   ]
  },
  {
   "cell_type": "markdown",
   "metadata": {},
   "source": [
    "##### Stats\n",
    "\n",
    "Using assembly-stats. NB : L50 is called n50n "
   ]
  },
  {
   "cell_type": "code",
   "execution_count": 14,
   "metadata": {},
   "outputs": [
    {
     "data": {
      "text/html": [
       "<img src onerror=\"var cell = this.closest('.jp-CodeCell');var editor = cell.querySelector('.jp-Editor');editor.style.background='LightBlue';this.parentNode.removeChild(this)\">"
      ],
      "text/plain": [
       "<IPython.core.display.HTML object>"
      ]
     },
     "metadata": {},
     "output_type": "display_data"
    },
    {
     "data": {},
     "metadata": {},
     "output_type": "display_data"
    },
    {
     "data": {
      "application/vnd.holoviews_exec.v0+json": "",
      "text/html": [
       "<div id='1136'>\n",
       "\n",
       "\n",
       "\n",
       "\n",
       "\n",
       "  <div class=\"bk-root\" id=\"5f4edaa1-9a76-4cb2-af55-941bc4ba5a4d\" data-root-id=\"1136\"></div>\n",
       "</div>\n",
       "<script type=\"application/javascript\">(function(root) {\n",
       "  function embed_document(root) {\n",
       "    var docs_json = {\"a887c391-8daf-4b18-8773-a3861c055ce6\":{\"defs\":[],\"roots\":{\"references\":[{\"attributes\":{\"css_classes\":[\"alert\",\"alert-warning\",\"markdown\"],\"margin\":[0,0,25,0],\"name\":\"Alert00321\",\"sizing_mode\":\"stretch_width\",\"text\":\"&lt;h3&gt;warning&lt;/h3&gt;\\n&lt;hr&gt;\\n&lt;p&gt;Directory /home/christine/Documents/These/frangiPANeGIT/frangiPANe_rice/02-assembly_unmapped_reads/assembly_choosing_k/plots/ already existed&lt;/p&gt;\"},\"id\":\"1136\",\"type\":\"panel.models.markup.HTML\"},{\"attributes\":{\"client_comm_id\":\"ce69c0481d1d4bbe932103e5eef8ab74\",\"comm_id\":\"088b109e8a0241f4b8e3748dc625fcbf\",\"plot_id\":\"1136\"},\"id\":\"1137\",\"type\":\"panel.models.comm_manager.CommManager\"}],\"root_ids\":[\"1136\",\"1137\"]},\"title\":\"Bokeh Application\",\"version\":\"2.3.3\"}};\n",
       "    var render_items = [{\"docid\":\"a887c391-8daf-4b18-8773-a3861c055ce6\",\"root_ids\":[\"1136\"],\"roots\":{\"1136\":\"5f4edaa1-9a76-4cb2-af55-941bc4ba5a4d\"}}];\n",
       "    root.Bokeh.embed.embed_items_notebook(docs_json, render_items);\n",
       "  }\n",
       "  if (root.Bokeh !== undefined && root.Bokeh.Panel !== undefined) {\n",
       "    embed_document(root);\n",
       "  } else {\n",
       "    var attempts = 0;\n",
       "    var timer = setInterval(function(root) {\n",
       "      if (root.Bokeh !== undefined && root.Bokeh.Panel !== undefined) {\n",
       "        clearInterval(timer);\n",
       "        embed_document(root);\n",
       "      } else if (document.readyState == \"complete\") {\n",
       "        attempts++;\n",
       "        if (attempts > 100) {\n",
       "          clearInterval(timer);\n",
       "          console.log(\"Bokeh: ERROR: Unable to run BokehJS code because BokehJS library is missing\");\n",
       "        }\n",
       "      }\n",
       "    }, 10, root)\n",
       "  }\n",
       "})(window);</script>"
      ],
      "text/plain": [
       "Alert(str, alert_type='warning', css_classes=['alert', 'alert-warning']...], margin=(0, 0, 25, 0), sizing_mode='stretch_width')"
      ]
     },
     "metadata": {
      "application/vnd.holoviews_exec.v0+json": {
       "id": "1136"
      }
     },
     "output_type": "display_data"
    },
    {
     "data": {},
     "metadata": {},
     "output_type": "display_data"
    },
    {
     "data": {
      "application/vnd.holoviews_exec.v0+json": "",
      "text/html": [
       "<div id='1138'>\n",
       "\n",
       "\n",
       "\n",
       "\n",
       "\n",
       "  <div class=\"bk-root\" id=\"3c1bee44-82ab-4f03-aa79-ab69da896cdc\" data-root-id=\"1138\"></div>\n",
       "</div>\n",
       "<script type=\"application/javascript\">(function(root) {\n",
       "  function embed_document(root) {\n",
       "    var docs_json = {\"b9d38ff1-ab38-4ed9-885a-98d5b62f2f60\":{\"defs\":[],\"roots\":{\"references\":[{\"attributes\":{\"css_classes\":[\"alert\",\"alert-success\",\"markdown\"],\"margin\":[0,0,25,0],\"name\":\"Alert00325\",\"sizing_mode\":\"stretch_width\",\"text\":\"&lt;p&gt;SUCCESSFULL ASSEMBLY-STATS : assembly-stats -s /home/christine/Documents/These/frangiPANeGIT/frangiPANe_rice/02-assembly_unmapped_reads/assembly_choosing_k/fasta_test/AA_k60_thr300.fasta&lt;/p&gt;\"},\"id\":\"1138\",\"type\":\"panel.models.markup.HTML\"},{\"attributes\":{\"client_comm_id\":\"1b32e0c57b574c97a05bda630938d073\",\"comm_id\":\"7db5a7b1113c46629b61f7cf6261ed98\",\"plot_id\":\"1138\"},\"id\":\"1139\",\"type\":\"panel.models.comm_manager.CommManager\"}],\"root_ids\":[\"1138\",\"1139\"]},\"title\":\"Bokeh Application\",\"version\":\"2.3.3\"}};\n",
       "    var render_items = [{\"docid\":\"b9d38ff1-ab38-4ed9-885a-98d5b62f2f60\",\"root_ids\":[\"1138\"],\"roots\":{\"1138\":\"3c1bee44-82ab-4f03-aa79-ab69da896cdc\"}}];\n",
       "    root.Bokeh.embed.embed_items_notebook(docs_json, render_items);\n",
       "  }\n",
       "  if (root.Bokeh !== undefined && root.Bokeh.Panel !== undefined) {\n",
       "    embed_document(root);\n",
       "  } else {\n",
       "    var attempts = 0;\n",
       "    var timer = setInterval(function(root) {\n",
       "      if (root.Bokeh !== undefined && root.Bokeh.Panel !== undefined) {\n",
       "        clearInterval(timer);\n",
       "        embed_document(root);\n",
       "      } else if (document.readyState == \"complete\") {\n",
       "        attempts++;\n",
       "        if (attempts > 100) {\n",
       "          clearInterval(timer);\n",
       "          console.log(\"Bokeh: ERROR: Unable to run BokehJS code because BokehJS library is missing\");\n",
       "        }\n",
       "      }\n",
       "    }, 10, root)\n",
       "  }\n",
       "})(window);</script>"
      ],
      "text/plain": [
       "Alert(str, alert_type='success', css_classes=['alert', 'alert-success']...], margin=(0, 0, 25, 0), sizing_mode='stretch_width')"
      ]
     },
     "metadata": {
      "application/vnd.holoviews_exec.v0+json": {
       "id": "1138"
      }
     },
     "output_type": "display_data"
    },
    {
     "data": {},
     "metadata": {},
     "output_type": "display_data"
    },
    {
     "data": {
      "application/vnd.holoviews_exec.v0+json": "",
      "text/html": [
       "<div id='1140'>\n",
       "\n",
       "\n",
       "\n",
       "\n",
       "\n",
       "  <div class=\"bk-root\" id=\"cdf1ab17-d1c4-4dca-87fd-92d7ee0a9258\" data-root-id=\"1140\"></div>\n",
       "</div>\n",
       "<script type=\"application/javascript\">(function(root) {\n",
       "  function embed_document(root) {\n",
       "    var docs_json = {\"fc2dc83d-b952-48d7-9114-ddcb2a8f41a0\":{\"defs\":[],\"roots\":{\"references\":[{\"attributes\":{\"client_comm_id\":\"ebc269a35a0b4733aaadb13b45711f4b\",\"comm_id\":\"900e7c34ea0a452099ed1c5089a663da\",\"plot_id\":\"1140\"},\"id\":\"1141\",\"type\":\"panel.models.comm_manager.CommManager\"},{\"attributes\":{\"css_classes\":[\"alert\",\"alert-success\",\"markdown\"],\"margin\":[0,0,25,0],\"name\":\"Alert00329\",\"sizing_mode\":\"stretch_width\",\"text\":\"&lt;p&gt;SUCCESSFULL ASSEMBLY-STATS : assembly-stats -s /home/christine/Documents/These/frangiPANeGIT/frangiPANe_rice/02-assembly_unmapped_reads/assembly_choosing_k/fasta_test/AB_k60_thr300.fasta&lt;/p&gt;\"},\"id\":\"1140\",\"type\":\"panel.models.markup.HTML\"}],\"root_ids\":[\"1140\",\"1141\"]},\"title\":\"Bokeh Application\",\"version\":\"2.3.3\"}};\n",
       "    var render_items = [{\"docid\":\"fc2dc83d-b952-48d7-9114-ddcb2a8f41a0\",\"root_ids\":[\"1140\"],\"roots\":{\"1140\":\"cdf1ab17-d1c4-4dca-87fd-92d7ee0a9258\"}}];\n",
       "    root.Bokeh.embed.embed_items_notebook(docs_json, render_items);\n",
       "  }\n",
       "  if (root.Bokeh !== undefined && root.Bokeh.Panel !== undefined) {\n",
       "    embed_document(root);\n",
       "  } else {\n",
       "    var attempts = 0;\n",
       "    var timer = setInterval(function(root) {\n",
       "      if (root.Bokeh !== undefined && root.Bokeh.Panel !== undefined) {\n",
       "        clearInterval(timer);\n",
       "        embed_document(root);\n",
       "      } else if (document.readyState == \"complete\") {\n",
       "        attempts++;\n",
       "        if (attempts > 100) {\n",
       "          clearInterval(timer);\n",
       "          console.log(\"Bokeh: ERROR: Unable to run BokehJS code because BokehJS library is missing\");\n",
       "        }\n",
       "      }\n",
       "    }, 10, root)\n",
       "  }\n",
       "})(window);</script>"
      ],
      "text/plain": [
       "Alert(str, alert_type='success', css_classes=['alert', 'alert-success']...], margin=(0, 0, 25, 0), sizing_mode='stretch_width')"
      ]
     },
     "metadata": {
      "application/vnd.holoviews_exec.v0+json": {
       "id": "1140"
      }
     },
     "output_type": "display_data"
    },
    {
     "data": {},
     "metadata": {},
     "output_type": "display_data"
    },
    {
     "data": {
      "application/vnd.holoviews_exec.v0+json": "",
      "text/html": [
       "<div id='1142'>\n",
       "\n",
       "\n",
       "\n",
       "\n",
       "\n",
       "  <div class=\"bk-root\" id=\"5be07aed-ad24-4e36-8d9e-966989f55f1f\" data-root-id=\"1142\"></div>\n",
       "</div>\n",
       "<script type=\"application/javascript\">(function(root) {\n",
       "  function embed_document(root) {\n",
       "    var docs_json = {\"621978f0-2f6f-4a17-b4be-5b36be118686\":{\"defs\":[],\"roots\":{\"references\":[{\"attributes\":{\"client_comm_id\":\"3b0ef7e86396424bad1d64ca6361442a\",\"comm_id\":\"b7f9100dd5d34819a81ef3572c068694\",\"plot_id\":\"1142\"},\"id\":\"1143\",\"type\":\"panel.models.comm_manager.CommManager\"},{\"attributes\":{\"css_classes\":[\"alert\",\"alert-success\",\"markdown\"],\"margin\":[0,0,25,0],\"name\":\"Alert00333\",\"sizing_mode\":\"stretch_width\",\"text\":\"&lt;p&gt;SUCCESSFULL ASSEMBLY-STATS : assembly-stats -s /home/christine/Documents/These/frangiPANeGIT/frangiPANe_rice/02-assembly_unmapped_reads/assembly_choosing_k/fasta_test/AA_k64_thr300.fasta&lt;/p&gt;\"},\"id\":\"1142\",\"type\":\"panel.models.markup.HTML\"}],\"root_ids\":[\"1142\",\"1143\"]},\"title\":\"Bokeh Application\",\"version\":\"2.3.3\"}};\n",
       "    var render_items = [{\"docid\":\"621978f0-2f6f-4a17-b4be-5b36be118686\",\"root_ids\":[\"1142\"],\"roots\":{\"1142\":\"5be07aed-ad24-4e36-8d9e-966989f55f1f\"}}];\n",
       "    root.Bokeh.embed.embed_items_notebook(docs_json, render_items);\n",
       "  }\n",
       "  if (root.Bokeh !== undefined && root.Bokeh.Panel !== undefined) {\n",
       "    embed_document(root);\n",
       "  } else {\n",
       "    var attempts = 0;\n",
       "    var timer = setInterval(function(root) {\n",
       "      if (root.Bokeh !== undefined && root.Bokeh.Panel !== undefined) {\n",
       "        clearInterval(timer);\n",
       "        embed_document(root);\n",
       "      } else if (document.readyState == \"complete\") {\n",
       "        attempts++;\n",
       "        if (attempts > 100) {\n",
       "          clearInterval(timer);\n",
       "          console.log(\"Bokeh: ERROR: Unable to run BokehJS code because BokehJS library is missing\");\n",
       "        }\n",
       "      }\n",
       "    }, 10, root)\n",
       "  }\n",
       "})(window);</script>"
      ],
      "text/plain": [
       "Alert(str, alert_type='success', css_classes=['alert', 'alert-success']...], margin=(0, 0, 25, 0), sizing_mode='stretch_width')"
      ]
     },
     "metadata": {
      "application/vnd.holoviews_exec.v0+json": {
       "id": "1142"
      }
     },
     "output_type": "display_data"
    },
    {
     "data": {},
     "metadata": {},
     "output_type": "display_data"
    },
    {
     "data": {
      "application/vnd.holoviews_exec.v0+json": "",
      "text/html": [
       "<div id='1144'>\n",
       "\n",
       "\n",
       "\n",
       "\n",
       "\n",
       "  <div class=\"bk-root\" id=\"2e0226b0-58a2-4cd1-b6ac-240d6e1804bb\" data-root-id=\"1144\"></div>\n",
       "</div>\n",
       "<script type=\"application/javascript\">(function(root) {\n",
       "  function embed_document(root) {\n",
       "    var docs_json = {\"3ad28cf0-e625-4de7-89df-5add62f3824f\":{\"defs\":[],\"roots\":{\"references\":[{\"attributes\":{\"css_classes\":[\"alert\",\"alert-success\",\"markdown\"],\"margin\":[0,0,25,0],\"name\":\"Alert00337\",\"sizing_mode\":\"stretch_width\",\"text\":\"&lt;p&gt;SUCCESSFULL ASSEMBLY-STATS : assembly-stats -s /home/christine/Documents/These/frangiPANeGIT/frangiPANe_rice/02-assembly_unmapped_reads/assembly_choosing_k/fasta_test/AB_k64_thr300.fasta&lt;/p&gt;\"},\"id\":\"1144\",\"type\":\"panel.models.markup.HTML\"},{\"attributes\":{\"client_comm_id\":\"9e6d188948ee437ea2c4b8d18009dd3d\",\"comm_id\":\"6bb29a0d740b49469ed194a8057a1fcc\",\"plot_id\":\"1144\"},\"id\":\"1145\",\"type\":\"panel.models.comm_manager.CommManager\"}],\"root_ids\":[\"1144\",\"1145\"]},\"title\":\"Bokeh Application\",\"version\":\"2.3.3\"}};\n",
       "    var render_items = [{\"docid\":\"3ad28cf0-e625-4de7-89df-5add62f3824f\",\"root_ids\":[\"1144\"],\"roots\":{\"1144\":\"2e0226b0-58a2-4cd1-b6ac-240d6e1804bb\"}}];\n",
       "    root.Bokeh.embed.embed_items_notebook(docs_json, render_items);\n",
       "  }\n",
       "  if (root.Bokeh !== undefined && root.Bokeh.Panel !== undefined) {\n",
       "    embed_document(root);\n",
       "  } else {\n",
       "    var attempts = 0;\n",
       "    var timer = setInterval(function(root) {\n",
       "      if (root.Bokeh !== undefined && root.Bokeh.Panel !== undefined) {\n",
       "        clearInterval(timer);\n",
       "        embed_document(root);\n",
       "      } else if (document.readyState == \"complete\") {\n",
       "        attempts++;\n",
       "        if (attempts > 100) {\n",
       "          clearInterval(timer);\n",
       "          console.log(\"Bokeh: ERROR: Unable to run BokehJS code because BokehJS library is missing\");\n",
       "        }\n",
       "      }\n",
       "    }, 10, root)\n",
       "  }\n",
       "})(window);</script>"
      ],
      "text/plain": [
       "Alert(str, alert_type='success', css_classes=['alert', 'alert-success']...], margin=(0, 0, 25, 0), sizing_mode='stretch_width')"
      ]
     },
     "metadata": {
      "application/vnd.holoviews_exec.v0+json": {
       "id": "1144"
      }
     },
     "output_type": "display_data"
    },
    {
     "data": {},
     "metadata": {},
     "output_type": "display_data"
    },
    {
     "data": {
      "application/vnd.holoviews_exec.v0+json": "",
      "text/html": [
       "<div id='1146'>\n",
       "\n",
       "\n",
       "\n",
       "\n",
       "\n",
       "  <div class=\"bk-root\" id=\"ec4dfa3e-05cc-4d2c-b684-50edf5abe221\" data-root-id=\"1146\"></div>\n",
       "</div>\n",
       "<script type=\"application/javascript\">(function(root) {\n",
       "  function embed_document(root) {\n",
       "    var docs_json = {\"5625bacc-ef71-41e6-bb15-428a0fb0c9db\":{\"defs\":[],\"roots\":{\"references\":[{\"attributes\":{\"css_classes\":[\"alert\",\"alert-success\",\"markdown\"],\"margin\":[0,0,25,0],\"name\":\"Alert00341\",\"sizing_mode\":\"stretch_width\",\"text\":\"&lt;p&gt;SUCCESSFULL ASSEMBLY-STATS : assembly-stats -s /home/christine/Documents/These/frangiPANeGIT/frangiPANe_rice/02-assembly_unmapped_reads/assembly_choosing_k/fasta_test/AA_k68_thr300.fasta&lt;/p&gt;\"},\"id\":\"1146\",\"type\":\"panel.models.markup.HTML\"},{\"attributes\":{\"client_comm_id\":\"caaf7fd409e546ec8ee0c41d1b8ca58d\",\"comm_id\":\"1e28bb49fe7c4537bbf4f0d146f588cb\",\"plot_id\":\"1146\"},\"id\":\"1147\",\"type\":\"panel.models.comm_manager.CommManager\"}],\"root_ids\":[\"1146\",\"1147\"]},\"title\":\"Bokeh Application\",\"version\":\"2.3.3\"}};\n",
       "    var render_items = [{\"docid\":\"5625bacc-ef71-41e6-bb15-428a0fb0c9db\",\"root_ids\":[\"1146\"],\"roots\":{\"1146\":\"ec4dfa3e-05cc-4d2c-b684-50edf5abe221\"}}];\n",
       "    root.Bokeh.embed.embed_items_notebook(docs_json, render_items);\n",
       "  }\n",
       "  if (root.Bokeh !== undefined && root.Bokeh.Panel !== undefined) {\n",
       "    embed_document(root);\n",
       "  } else {\n",
       "    var attempts = 0;\n",
       "    var timer = setInterval(function(root) {\n",
       "      if (root.Bokeh !== undefined && root.Bokeh.Panel !== undefined) {\n",
       "        clearInterval(timer);\n",
       "        embed_document(root);\n",
       "      } else if (document.readyState == \"complete\") {\n",
       "        attempts++;\n",
       "        if (attempts > 100) {\n",
       "          clearInterval(timer);\n",
       "          console.log(\"Bokeh: ERROR: Unable to run BokehJS code because BokehJS library is missing\");\n",
       "        }\n",
       "      }\n",
       "    }, 10, root)\n",
       "  }\n",
       "})(window);</script>"
      ],
      "text/plain": [
       "Alert(str, alert_type='success', css_classes=['alert', 'alert-success']...], margin=(0, 0, 25, 0), sizing_mode='stretch_width')"
      ]
     },
     "metadata": {
      "application/vnd.holoviews_exec.v0+json": {
       "id": "1146"
      }
     },
     "output_type": "display_data"
    },
    {
     "data": {},
     "metadata": {},
     "output_type": "display_data"
    },
    {
     "data": {
      "application/vnd.holoviews_exec.v0+json": "",
      "text/html": [
       "<div id='1148'>\n",
       "\n",
       "\n",
       "\n",
       "\n",
       "\n",
       "  <div class=\"bk-root\" id=\"93230c4e-6fdc-44b9-bc21-187bae7fe6c1\" data-root-id=\"1148\"></div>\n",
       "</div>\n",
       "<script type=\"application/javascript\">(function(root) {\n",
       "  function embed_document(root) {\n",
       "    var docs_json = {\"616ffe2b-288c-4f70-a439-bf78512e5f5d\":{\"defs\":[],\"roots\":{\"references\":[{\"attributes\":{\"client_comm_id\":\"7a05068e9ad34f6990b51e90128ef2a7\",\"comm_id\":\"7835f76f54594e14b7fd7ca641581e52\",\"plot_id\":\"1148\"},\"id\":\"1149\",\"type\":\"panel.models.comm_manager.CommManager\"},{\"attributes\":{\"css_classes\":[\"alert\",\"alert-success\",\"markdown\"],\"margin\":[0,0,25,0],\"name\":\"Alert00345\",\"sizing_mode\":\"stretch_width\",\"text\":\"&lt;p&gt;SUCCESSFULL ASSEMBLY-STATS : assembly-stats -s /home/christine/Documents/These/frangiPANeGIT/frangiPANe_rice/02-assembly_unmapped_reads/assembly_choosing_k/fasta_test/AB_k68_thr300.fasta&lt;/p&gt;\"},\"id\":\"1148\",\"type\":\"panel.models.markup.HTML\"}],\"root_ids\":[\"1148\",\"1149\"]},\"title\":\"Bokeh Application\",\"version\":\"2.3.3\"}};\n",
       "    var render_items = [{\"docid\":\"616ffe2b-288c-4f70-a439-bf78512e5f5d\",\"root_ids\":[\"1148\"],\"roots\":{\"1148\":\"93230c4e-6fdc-44b9-bc21-187bae7fe6c1\"}}];\n",
       "    root.Bokeh.embed.embed_items_notebook(docs_json, render_items);\n",
       "  }\n",
       "  if (root.Bokeh !== undefined && root.Bokeh.Panel !== undefined) {\n",
       "    embed_document(root);\n",
       "  } else {\n",
       "    var attempts = 0;\n",
       "    var timer = setInterval(function(root) {\n",
       "      if (root.Bokeh !== undefined && root.Bokeh.Panel !== undefined) {\n",
       "        clearInterval(timer);\n",
       "        embed_document(root);\n",
       "      } else if (document.readyState == \"complete\") {\n",
       "        attempts++;\n",
       "        if (attempts > 100) {\n",
       "          clearInterval(timer);\n",
       "          console.log(\"Bokeh: ERROR: Unable to run BokehJS code because BokehJS library is missing\");\n",
       "        }\n",
       "      }\n",
       "    }, 10, root)\n",
       "  }\n",
       "})(window);</script>"
      ],
      "text/plain": [
       "Alert(str, alert_type='success', css_classes=['alert', 'alert-success']...], margin=(0, 0, 25, 0), sizing_mode='stretch_width')"
      ]
     },
     "metadata": {
      "application/vnd.holoviews_exec.v0+json": {
       "id": "1148"
      }
     },
     "output_type": "display_data"
    }
   ],
   "source": [
    "bgc('LightBlue')\n",
    "\n",
    "make_dir(output_assembly_dir + \"assembly_choosing_k/plots/\")\n",
    "\n",
    "stat_len, stats_N_hide, stats_N, stats_L_hide, stats_L, stats_gap, stats = def_stats()\n",
    "create_stats_files(stats=stats,\n",
    "                  output_dir=output_assembly_dir + \"assembly_choosing_k/plots/\")\n",
    "\n",
    "# for k in range(32, 97, 8) : \n",
    "for k in range(kmin, kmax, step.value) :\n",
    "    for id in accession.value :\n",
    "        fill_stats_files(input_dir=output_assembly_dir + \"assembly_choosing_k/fasta_test/\",\n",
    "                id=id,\n",
    "                k=k,\n",
    "                output_dir=output_assembly_dir + \"assembly_choosing_k/plots/\",\n",
    "                threshold=threshold,\n",
    "                logger=logger)"
   ]
  },
  {
   "cell_type": "markdown",
   "metadata": {},
   "source": [
    "How to choose k ? DASHBOARD + function\n",
    "   * total_length : +++\n",
    "   * N50 : +++\n",
    "   * L50 : ---"
   ]
  },
  {
   "cell_type": "code",
   "execution_count": 15,
   "metadata": {},
   "outputs": [
    {
     "data": {
      "text/html": [
       "<img src onerror=\"var cell = this.closest('.jp-CodeCell');var editor = cell.querySelector('.jp-Editor');editor.style.background='LightBlue';this.parentNode.removeChild(this)\">"
      ],
      "text/plain": [
       "<IPython.core.display.HTML object>"
      ]
     },
     "metadata": {},
     "output_type": "display_data"
    },
    {
     "data": {
      "image/png": "[encoded data removed]",
      "text/plain": [
       "<Figure size 815.75x360 with 2 Axes>"
      ]
     },
     "metadata": {},
     "output_type": "display_data"
    },
    {
     "data": {
      "image/png": "[encoded data removed]",
      "text/plain": [
       "<Figure size 796.875x360 with 2 Axes>"
      ]
     },
     "metadata": {},
     "output_type": "display_data"
    },
    {
     "data": {
      "image/png": "[encoded data removed]",
      "text/plain": [
       "<Figure size 794.875x360 with 2 Axes>"
      ]
     },
     "metadata": {},
     "output_type": "display_data"
    }
   ],
   "source": [
    "bgc('LightBlue')\n",
    "\n",
    "stat_len_df = pd.read_csv(output_assembly_dir + \"assembly_choosing_k/plots/assembly-stats-\" + stat_len[0] + \".csv\", sep='\\t')\n",
    "\n",
    "size = sns.relplot(x='k', y='value', hue='stat', data=stat_len_df, col='id', kind=\"line\")\n",
    "size.savefig(output_assembly_dir + \"assembly_choosing_k/plots/stat_len.png\")\n",
    "\n",
    "\n",
    "stats_N_files = []\n",
    "for stat in stats_N : \n",
    "    stats_N_files.append(output_assembly_dir + \"assembly_choosing_k/plots/assembly-stats-\" + stat + \".csv\")\n",
    "stats_N_df = pd.concat([pd.read_csv(f, sep='\\t') for f in stats_N_files], ignore_index = True)\n",
    "\n",
    "size = sns.relplot(x='k', y='value', hue='stat', data=stats_N_df, col='id', kind=\"line\")\n",
    "size.savefig(output_assembly_dir + \"assembly_choosing_k/plots/stat_N.png\")\n",
    "\n",
    "stats_L_files = []\n",
    "for stat in stats_L : \n",
    "    stats_L_files.append(output_assembly_dir + \"assembly_choosing_k/plots/assembly-stats-\" + stat + \".csv\")\n",
    "stats_L_df = pd.concat([pd.read_csv(f, sep='\\t') for f in stats_L_files], ignore_index = True)\n",
    "\n",
    "size = sns.relplot(x='k', y='value', hue='stat', data=stats_L_df, col='id', kind=\"line\")\n",
    "size.savefig(output_assembly_dir + \"assembly_choosing_k/plots/stat_L.png\")\n",
    "\n"
   ]
  },
  {
   "cell_type": "markdown",
   "metadata": {},
   "source": [
    "```PUT BOX TO SELECT k```"
   ]
  },
  {
   "cell_type": "code",
   "execution_count": 16,
   "metadata": {},
   "outputs": [
    {
     "data": {
      "text/html": [
       "<img src onerror=\"var cell = this.closest('.jp-CodeCell');var editor = cell.querySelector('.jp-Editor');editor.style.background='LightBlue';this.parentNode.removeChild(this)\">"
      ],
      "text/plain": [
       "<IPython.core.display.HTML object>"
      ]
     },
     "metadata": {},
     "output_type": "display_data"
    },
    {
     "data": {},
     "metadata": {},
     "output_type": "display_data"
    },
    {
     "data": {
      "application/vnd.holoviews_exec.v0+json": "",
      "text/html": [
       "<div id='1150'>\n",
       "\n",
       "\n",
       "\n",
       "\n",
       "\n",
       "  <div class=\"bk-root\" id=\"e3552db8-7645-4c24-9079-260950d2310b\" data-root-id=\"1150\"></div>\n",
       "</div>\n",
       "<script type=\"application/javascript\">(function(root) {\n",
       "  function embed_document(root) {\n",
       "    var docs_json = {\"479a517e-af6c-48c5-9837-ea48825725a8\":{\"defs\":[],\"roots\":{\"references\":[{\"attributes\":{\"css_classes\":[\"alert\",\"alert-warning\",\"markdown\"],\"height\":200,\"margin\":[0,0,25,0],\"name\":\"Alert00349\",\"sizing_mode\":\"stretch_width\",\"text\":\"&lt;p&gt;No filled&lt;/p&gt;\"},\"id\":\"1157\",\"type\":\"panel.models.markup.HTML\"},{\"attributes\":{\"button_type\":\"primary\",\"icon\":null,\"label\":\"SAVE\",\"margin\":[5,10,5,10],\"min_width\":100,\"subscribed_events\":[\"button_click\"],\"width\":100},\"id\":\"1155\",\"type\":\"Button\"},{\"attributes\":{\"css_classes\":[\"markdown\"],\"margin\":[5,5,5,5],\"name\":\"Markdown00356\",\"text\":\"&lt;h1&gt;INPUT FORM&lt;/h1&gt;\"},\"id\":\"1151\",\"type\":\"panel.models.markup.HTML\"},{\"attributes\":{\"children\":[{\"id\":\"1155\"},{\"id\":\"1156\"}],\"margin\":[0,0,0,0],\"name\":\"Row00354\"},\"id\":\"1154\",\"type\":\"Row\"},{\"attributes\":{\"children\":[{\"id\":\"1153\"},{\"id\":\"1154\"},{\"id\":\"1157\"}],\"margin\":[0,0,0,0],\"min_width\":800,\"name\":\"Column00355\",\"width\":800},\"id\":\"1152\",\"type\":\"Column\"},{\"attributes\":{\"client_comm_id\":\"3587930ff6a14627bf4f42360433e58d\",\"comm_id\":\"758d097e09be41108901b59b2aaa16a9\",\"plot_id\":\"1150\"},\"id\":\"1158\",\"type\":\"panel.models.comm_manager.CommManager\"},{\"attributes\":{\"background\":\"#E3ECF1\",\"children\":[{\"id\":\"1151\"},{\"id\":\"1152\"}],\"css_classes\":[\"panel-widget-box\"],\"margin\":[5,5,5,5],\"name\":\"WidgetBox00358\"},\"id\":\"1150\",\"type\":\"Column\"},{\"attributes\":{\"button_type\":\"primary\",\"icon\":null,\"label\":\"INIT\",\"margin\":[5,10,5,10],\"min_width\":100,\"subscribed_events\":[\"button_click\"],\"width\":100},\"id\":\"1156\",\"type\":\"Button\"},{\"attributes\":{\"high\":92,\"low\":24,\"margin\":[5,10,5,10],\"mode\":\"int\",\"placeholder\":\"0\",\"title\":\"K-mer length\",\"value\":64,\"value_throttled\":64},\"id\":\"1153\",\"type\":\"Spinner\"}],\"root_ids\":[\"1150\",\"1158\"]},\"title\":\"Bokeh Application\",\"version\":\"2.3.3\"}};\n",
       "    var render_items = [{\"docid\":\"479a517e-af6c-48c5-9837-ea48825725a8\",\"root_ids\":[\"1150\"],\"roots\":{\"1150\":\"e3552db8-7645-4c24-9079-260950d2310b\"}}];\n",
       "    root.Bokeh.embed.embed_items_notebook(docs_json, render_items);\n",
       "  }\n",
       "  if (root.Bokeh !== undefined && root.Bokeh.Panel !== undefined) {\n",
       "    embed_document(root);\n",
       "  } else {\n",
       "    var attempts = 0;\n",
       "    var timer = setInterval(function(root) {\n",
       "      if (root.Bokeh !== undefined && root.Bokeh.Panel !== undefined) {\n",
       "        clearInterval(timer);\n",
       "        embed_document(root);\n",
       "      } else if (document.readyState == \"complete\") {\n",
       "        attempts++;\n",
       "        if (attempts > 100) {\n",
       "          clearInterval(timer);\n",
       "          console.log(\"Bokeh: ERROR: Unable to run BokehJS code because BokehJS library is missing\");\n",
       "        }\n",
       "      }\n",
       "    }, 10, root)\n",
       "  }\n",
       "})(window);</script>"
      ],
      "text/plain": [
       "WidgetBox(background='#E3ECF1')\n",
       "    [0] Markdown(str)\n",
       "    [1] Column(width=800)\n",
       "        [0] IntInput(end=92, name='K-mer length', start=24, value=64)\n",
       "        [1] Row\n",
       "            [0] Button(button_type='primary', name='SAVE', width=100)\n",
       "            [1] Button(button_type='primary', name='INIT', width=100)\n",
       "        [2] Alert(str, alert_type='warning', css_classes=['alert', 'alert-warning']...], height=200, margin=(0, 0, 25, 0), sizing_mode='stretch_width')"
      ]
     },
     "metadata": {
      "application/vnd.holoviews_exec.v0+json": {
       "id": "1150"
      }
     },
     "output_type": "display_data"
    }
   ],
   "source": [
    "bgc('LightBlue')\n",
    "k = box_config_abyss2()\n",
    "#accession.value = ['AA','AB']"
   ]
  },
  {
   "cell_type": "markdown",
   "metadata": {},
   "source": [
    "display(df.iloc[1])KBOARD\n",
    "   * total_length : +++\n",
    "   * N50 : +++#\n",
    "   \n",
    "### Running ABySS for each individual"
   ]
  },
  {
   "cell_type": "code",
   "execution_count": 44,
   "metadata": {},
   "outputs": [
    {
     "name": "stdout",
     "output_type": "stream",
     "text": [
      "0 AA\n",
      "1 AB\n",
      "2 DT\n"
     ]
    }
   ],
   "source": [
    "#display(df_group.iloc[1])\n",
    "for index, row in df_group.iterrows() :\n",
    "    print(index,row['sample'])"
   ]
  },
  {
   "cell_type": "code",
   "execution_count": 43,
   "metadata": {},
   "outputs": [
    {
     "data": {
      "text/html": [
       "<img src onerror=\"var cell = this.closest('.jp-CodeCell');var editor = cell.querySelector('.jp-Editor');editor.style.background='LightBlue';this.parentNode.removeChild(this)\">"
      ],
      "text/plain": [
       "<IPython.core.display.HTML object>"
      ]
     },
     "metadata": {},
     "output_type": "display_data"
    },
    {
     "name": "stdout",
     "output_type": "stream",
     "text": [
      "AA\n"
     ]
    }
   ],
   "source": [
    "bgc('LightBlue')\n",
    "!mkdir $output_assembly_dir\"assembly_all_contigs/\"\n",
    "\n",
    "#for id in df_group :\n",
    "for index, row in df_group.iterrows() :\n",
    "    #print(row['sample'])\n",
    "    id = row['sample']\n",
    "    if index==2 :\n",
    "        continue\n",
    "        \n",
    "    if id in accession.value :\n",
    "        id_folder = output_assembly_dir + \"assembly_choosing_k/abyss/\" + id + \"_k\" + str(k.value) + \"/\"\n",
    "        target_folder = output_assembly_dir + \"assembly_all_contigs/\"\n",
    "        \n",
    "        print(row['sample'])\n",
    "        cmd = f\"scp -r { id_folder } { target_folder }\"\n",
    "        process = subprocess.run(cmd, shell=True, capture_output=True, text=True)\n",
    "\n",
    "        if process.returncode:\n",
    "            log = f'FAILED EXECUTION : {cmd}\\n{process.stdout}\\n{process.stderr}'\n",
    "            raise ValueError(log)\n",
    "        else:\n",
    "            #display(msg_button(f\"SUCCESSFUL INDEXATION: {cmd}\", 'green', 'classic'))\n",
    "            logger.info(f\"\\t\\tLog : {process.stdout + process.stderr}\\n\")\n",
    "            break\n",
    "            \n",
    "    else : \n",
    "        abyss_pe(project_name=project_name, \n",
    "                 id=id, \n",
    "                 k=k.value, \n",
    "                 bam_dir=output_assembly_dir + \"bam_F0x2/\", \n",
    "                 output_dir=output_assembly_dir + \"assembly_all_contigs/\", logger=logger) \n",
    "        \n"
   ]
  },
  {
   "cell_type": "markdown",
   "metadata": {},
   "source": [
    "`TODO : PUT TABLE SYNTHESE`\n",
    "\n",
    "[<img src=\"Images/up-arrow.png\" alt=\"Top\" width=2% align=\"right\">](#home \"Go back to the top\")\n",
    "    \n",
    "### <span style=\"color: #919395\"> 4 - Removing contamination<a class=\"anchor\" id=\"contamination\"></a></span>"
   ]
  },
  {
   "cell_type": "markdown",
   "metadata": {},
   "source": [
    "#### __VecScreen__"
   ]
  },
  {
   "cell_type": "markdown",
   "metadata": {},
   "source": [
    "#### __BLASTn__"
   ]
  },
  {
   "cell_type": "markdown",
   "metadata": {},
   "source": [
    "[<img src=\"Images/up-arrow.png\" alt=\"Top\" width=2% align=\"right\">](#home \"Go back to the top\")\n",
    "    \n",
    "### <span style=\"color: #919395\"> 5 - Reducing Sequence Redundancy<a class=\"anchor\" id=\"redundancy\"></a></span>\n",
    "\n",
    "frangiPANe uses CD-HIT to cluster sequences and to reduce sequence redundancy (inter and intra-species).\n",
    "\n",
    "#### __Create clustering directory__"
   ]
  },
  {
   "cell_type": "code",
   "execution_count": 9,
   "metadata": {},
   "outputs": [
    {
     "data": {},
     "metadata": {},
     "output_type": "display_data"
    },
    {
     "data": {
      "application/vnd.holoviews_exec.v0+json": "",
      "text/html": [
       "<div id='1092'>\n",
       "\n",
       "\n",
       "\n",
       "\n",
       "\n",
       "  <div class=\"bk-root\" id=\"0c0e2bda-c39a-4094-bcfb-07dd68728bba\" data-root-id=\"1092\"></div>\n",
       "</div>\n",
       "<script type=\"application/javascript\">(function(root) {\n",
       "  function embed_document(root) {\n",
       "    var docs_json = {\"eea98506-2853-4733-82da-fc65565c6786\":{\"defs\":[],\"roots\":{\"references\":[{\"attributes\":{\"css_classes\":[\"alert\",\"alert-warning\",\"markdown\"],\"margin\":[0,0,25,0],\"name\":\"Alert00257\",\"sizing_mode\":\"stretch_width\",\"text\":\"&lt;h3&gt;warning&lt;/h3&gt;\\n&lt;hr&gt;\\n&lt;p&gt;Directory /home/christine/Documents/These/frangiPANeGIT/frangiPANe_rice03-clustering/ already existed&lt;/p&gt;\"},\"id\":\"1092\",\"type\":\"panel.models.markup.HTML\"},{\"attributes\":{\"client_comm_id\":\"eba07f2454494765adf3e77aadccf470\",\"comm_id\":\"ab8f7c54307644a2bcc7f1f49c025f8c\",\"plot_id\":\"1092\"},\"id\":\"1093\",\"type\":\"panel.models.comm_manager.CommManager\"}],\"root_ids\":[\"1092\",\"1093\"]},\"title\":\"Bokeh Application\",\"version\":\"2.3.3\"}};\n",
       "    var render_items = [{\"docid\":\"eea98506-2853-4733-82da-fc65565c6786\",\"root_ids\":[\"1092\"],\"roots\":{\"1092\":\"0c0e2bda-c39a-4094-bcfb-07dd68728bba\"}}];\n",
       "    root.Bokeh.embed.embed_items_notebook(docs_json, render_items);\n",
       "  }\n",
       "  if (root.Bokeh !== undefined && root.Bokeh.Panel !== undefined) {\n",
       "    embed_document(root);\n",
       "  } else {\n",
       "    var attempts = 0;\n",
       "    var timer = setInterval(function(root) {\n",
       "      if (root.Bokeh !== undefined && root.Bokeh.Panel !== undefined) {\n",
       "        clearInterval(timer);\n",
       "        embed_document(root);\n",
       "      } else if (document.readyState == \"complete\") {\n",
       "        attempts++;\n",
       "        if (attempts > 100) {\n",
       "          clearInterval(timer);\n",
       "          console.log(\"Bokeh: ERROR: Unable to run BokehJS code because BokehJS library is missing\");\n",
       "        }\n",
       "      }\n",
       "    }, 10, root)\n",
       "  }\n",
       "})(window);</script>"
      ],
      "text/plain": [
       "Alert(str, alert_type='warning', css_classes=['alert', 'alert-warning']...], margin=(0, 0, 25, 0), sizing_mode='stretch_width')"
      ]
     },
     "metadata": {
      "application/vnd.holoviews_exec.v0+json": {
       "id": "1092"
      }
     },
     "output_type": "display_data"
    }
   ],
   "source": [
    "output_clustering_dir = output_dir + \"03-clustering/\"\n",
    "make_dir(output_clustering_dir)"
   ]
  },
  {
   "cell_type": "markdown",
   "metadata": {},
   "source": [
    "#### __Merge all contigs__\n"
   ]
  },
  {
   "cell_type": "code",
   "execution_count": null,
   "metadata": {},
   "outputs": [],
   "source": [
    "# TODO a remonter et definir dans la partie assemblage\n",
    "#output_assembly_dir = output_dir + \"/02-assembly_unmapped_reads/\"\n",
    "#output_clustering_dir = output_dir + \"03-clustering/\"\n",
    "output_assembly_contigs = output_assembly_dir + \"assembly_all_contigs\""
   ]
  },
  {
   "cell_type": "code",
   "execution_count": 11,
   "metadata": {},
   "outputs": [
    {
     "data": {},
     "metadata": {},
     "output_type": "display_data"
    },
    {
     "data": {
      "application/vnd.holoviews_exec.v0+json": "",
      "text/html": [
       "<div id='1094'>\n",
       "\n",
       "\n",
       "\n",
       "\n",
       "\n",
       "  <div class=\"bk-root\" id=\"31ea6754-59ef-4ab4-94d2-9149e818a398\" data-root-id=\"1094\"></div>\n",
       "</div>\n",
       "<script type=\"application/javascript\">(function(root) {\n",
       "  function embed_document(root) {\n",
       "    var docs_json = {\"25d6ee13-34a7-4608-8fdd-27f6ccd72381\":{\"defs\":[],\"roots\":{\"references\":[{\"attributes\":{\"css_classes\":[\"alert\",\"alert-secondary\",\"markdown\"],\"margin\":[0,0,25,0],\"name\":\"Alert00261\",\"sizing_mode\":\"stretch_width\",\"text\":\"&lt;p&gt;Copying all contigs from each sample into dir_clustering on progress&amp;hellip;&lt;/p&gt;\"},\"id\":\"1094\",\"type\":\"panel.models.markup.HTML\"},{\"attributes\":{\"client_comm_id\":\"73be5c377b3c4588bbd9c74c3e31ad80\",\"comm_id\":\"1923aabbe83e47d9a00ec28a1528ee58\",\"plot_id\":\"1094\"},\"id\":\"1095\",\"type\":\"panel.models.comm_manager.CommManager\"}],\"root_ids\":[\"1094\",\"1095\"]},\"title\":\"Bokeh Application\",\"version\":\"2.3.3\"}};\n",
       "    var render_items = [{\"docid\":\"25d6ee13-34a7-4608-8fdd-27f6ccd72381\",\"root_ids\":[\"1094\"],\"roots\":{\"1094\":\"31ea6754-59ef-4ab4-94d2-9149e818a398\"}}];\n",
       "    root.Bokeh.embed.embed_items_notebook(docs_json, render_items);\n",
       "  }\n",
       "  if (root.Bokeh !== undefined && root.Bokeh.Panel !== undefined) {\n",
       "    embed_document(root);\n",
       "  } else {\n",
       "    var attempts = 0;\n",
       "    var timer = setInterval(function(root) {\n",
       "      if (root.Bokeh !== undefined && root.Bokeh.Panel !== undefined) {\n",
       "        clearInterval(timer);\n",
       "        embed_document(root);\n",
       "      } else if (document.readyState == \"complete\") {\n",
       "        attempts++;\n",
       "        if (attempts > 100) {\n",
       "          clearInterval(timer);\n",
       "          console.log(\"Bokeh: ERROR: Unable to run BokehJS code because BokehJS library is missing\");\n",
       "        }\n",
       "      }\n",
       "    }, 10, root)\n",
       "  }\n",
       "})(window);</script>"
      ],
      "text/plain": [
       "Alert(str, alert_type='secondary', css_classes=['alert', 'alert-secondary...], margin=(0, 0, 25, 0), sizing_mode='stretch_width')"
      ]
     },
     "metadata": {
      "application/vnd.holoviews_exec.v0+json": {
       "id": "1094"
      }
     },
     "output_type": "display_data"
    },
    {
     "data": {},
     "metadata": {},
     "output_type": "display_data"
    },
    {
     "data": {
      "application/vnd.holoviews_exec.v0+json": "",
      "text/html": [
       "<div id='1096'>\n",
       "\n",
       "\n",
       "\n",
       "\n",
       "\n",
       "  <div class=\"bk-root\" id=\"26371be9-c6fd-495e-9576-9e69d9a5ef6c\" data-root-id=\"1096\"></div>\n",
       "</div>\n",
       "<script type=\"application/javascript\">(function(root) {\n",
       "  function embed_document(root) {\n",
       "    var docs_json = {\"23a3d4e2-1268-4c73-ba2f-a34d47a36208\":{\"defs\":[],\"roots\":{\"references\":[{\"attributes\":{\"client_comm_id\":\"55900557c6874d639f026e848e8f73cf\",\"comm_id\":\"19fa3fc83c9b449dbd3f5ad61e455572\",\"plot_id\":\"1096\"},\"id\":\"1097\",\"type\":\"panel.models.comm_manager.CommManager\"},{\"attributes\":{\"css_classes\":[\"alert\",\"alert-info\",\"markdown\"],\"margin\":[0,0,25,0],\"name\":\"Alert00265\",\"sizing_mode\":\"stretch_width\",\"text\":\"&lt;p&gt;Copying all contigs into dir_clustering done&lt;/p&gt;\"},\"id\":\"1096\",\"type\":\"panel.models.markup.HTML\"}],\"root_ids\":[\"1096\",\"1097\"]},\"title\":\"Bokeh Application\",\"version\":\"2.3.3\"}};\n",
       "    var render_items = [{\"docid\":\"23a3d4e2-1268-4c73-ba2f-a34d47a36208\",\"root_ids\":[\"1096\"],\"roots\":{\"1096\":\"26371be9-c6fd-495e-9576-9e69d9a5ef6c\"}}];\n",
       "    root.Bokeh.embed.embed_items_notebook(docs_json, render_items);\n",
       "  }\n",
       "  if (root.Bokeh !== undefined && root.Bokeh.Panel !== undefined) {\n",
       "    embed_document(root);\n",
       "  } else {\n",
       "    var attempts = 0;\n",
       "    var timer = setInterval(function(root) {\n",
       "      if (root.Bokeh !== undefined && root.Bokeh.Panel !== undefined) {\n",
       "        clearInterval(timer);\n",
       "        embed_document(root);\n",
       "      } else if (document.readyState == \"complete\") {\n",
       "        attempts++;\n",
       "        if (attempts > 100) {\n",
       "          clearInterval(timer);\n",
       "          console.log(\"Bokeh: ERROR: Unable to run BokehJS code because BokehJS library is missing\");\n",
       "        }\n",
       "      }\n",
       "    }, 10, root)\n",
       "  }\n",
       "})(window);</script>"
      ],
      "text/plain": [
       "Alert(str, alert_type='info', css_classes=['alert', 'alert-info'], margin=(0, 0, 25, 0), sizing_mode='stretch_width')"
      ]
     },
     "metadata": {
      "application/vnd.holoviews_exec.v0+json": {
       "id": "1096"
      }
     },
     "output_type": "display_data"
    },
    {
     "data": {},
     "metadata": {},
     "output_type": "display_data"
    },
    {
     "data": {
      "application/vnd.holoviews_exec.v0+json": "",
      "text/html": [
       "<div id='1098'>\n",
       "\n",
       "\n",
       "\n",
       "\n",
       "\n",
       "  <div class=\"bk-root\" id=\"ecd6f7b1-8212-4b8c-8238-3dbbf8b63ddc\" data-root-id=\"1098\"></div>\n",
       "</div>\n",
       "<script type=\"application/javascript\">(function(root) {\n",
       "  function embed_document(root) {\n",
       "    var docs_json = {\"5a266e6f-4465-4319-85bd-2f3067ce0dd9\":{\"defs\":[],\"roots\":{\"references\":[{\"attributes\":{\"client_comm_id\":\"1aa5a873c65c409999d7af6ecfa4344c\",\"comm_id\":\"45c516d61246460d80adfda9e30e87d9\",\"plot_id\":\"1098\"},\"id\":\"1099\",\"type\":\"panel.models.comm_manager.CommManager\"},{\"attributes\":{\"css_classes\":[\"alert\",\"alert-secondary\",\"markdown\"],\"margin\":[0,0,25,0],\"name\":\"Alert00269\",\"sizing_mode\":\"stretch_width\",\"text\":\"&lt;p&gt;Merging all contigs from each sample into one file&amp;hellip; on progress&lt;/p&gt;\"},\"id\":\"1098\",\"type\":\"panel.models.markup.HTML\"}],\"root_ids\":[\"1098\",\"1099\"]},\"title\":\"Bokeh Application\",\"version\":\"2.3.3\"}};\n",
       "    var render_items = [{\"docid\":\"5a266e6f-4465-4319-85bd-2f3067ce0dd9\",\"root_ids\":[\"1098\"],\"roots\":{\"1098\":\"ecd6f7b1-8212-4b8c-8238-3dbbf8b63ddc\"}}];\n",
       "    root.Bokeh.embed.embed_items_notebook(docs_json, render_items);\n",
       "  }\n",
       "  if (root.Bokeh !== undefined && root.Bokeh.Panel !== undefined) {\n",
       "    embed_document(root);\n",
       "  } else {\n",
       "    var attempts = 0;\n",
       "    var timer = setInterval(function(root) {\n",
       "      if (root.Bokeh !== undefined && root.Bokeh.Panel !== undefined) {\n",
       "        clearInterval(timer);\n",
       "        embed_document(root);\n",
       "      } else if (document.readyState == \"complete\") {\n",
       "        attempts++;\n",
       "        if (attempts > 100) {\n",
       "          clearInterval(timer);\n",
       "          console.log(\"Bokeh: ERROR: Unable to run BokehJS code because BokehJS library is missing\");\n",
       "        }\n",
       "      }\n",
       "    }, 10, root)\n",
       "  }\n",
       "})(window);</script>"
      ],
      "text/plain": [
       "Alert(str, alert_type='secondary', css_classes=['alert', 'alert-secondary...], margin=(0, 0, 25, 0), sizing_mode='stretch_width')"
      ]
     },
     "metadata": {
      "application/vnd.holoviews_exec.v0+json": {
       "id": "1098"
      }
     },
     "output_type": "display_data"
    },
    {
     "data": {},
     "metadata": {},
     "output_type": "display_data"
    },
    {
     "data": {
      "application/vnd.holoviews_exec.v0+json": "",
      "text/html": [
       "<div id='1100'>\n",
       "\n",
       "\n",
       "\n",
       "\n",
       "\n",
       "  <div class=\"bk-root\" id=\"20b587e3-f90a-4cf3-ad56-ed8138bd88d9\" data-root-id=\"1100\"></div>\n",
       "</div>\n",
       "<script type=\"application/javascript\">(function(root) {\n",
       "  function embed_document(root) {\n",
       "    var docs_json = {\"c6fc1a0e-eb6a-4648-b506-74310dae86de\":{\"defs\":[],\"roots\":{\"references\":[{\"attributes\":{\"css_classes\":[\"alert\",\"alert-success\",\"markdown\"],\"margin\":[0,0,25,0],\"name\":\"Alert00273\",\"sizing_mode\":\"stretch_width\",\"text\":\"&lt;p&gt;fasta file succesfully done /home/christine/Documents/These/frangiPANeGIT/frangiPANe_rice03-clustering/riceallContigs.fa&lt;/p&gt;\"},\"id\":\"1100\",\"type\":\"panel.models.markup.HTML\"},{\"attributes\":{\"client_comm_id\":\"457aee1407114eee87e7a10a4d684baf\",\"comm_id\":\"3f853c9953a0413a96a1953695a4f1fc\",\"plot_id\":\"1100\"},\"id\":\"1101\",\"type\":\"panel.models.comm_manager.CommManager\"}],\"root_ids\":[\"1100\",\"1101\"]},\"title\":\"Bokeh Application\",\"version\":\"2.3.3\"}};\n",
       "    var render_items = [{\"docid\":\"c6fc1a0e-eb6a-4648-b506-74310dae86de\",\"root_ids\":[\"1100\"],\"roots\":{\"1100\":\"20b587e3-f90a-4cf3-ad56-ed8138bd88d9\"}}];\n",
       "    root.Bokeh.embed.embed_items_notebook(docs_json, render_items);\n",
       "  }\n",
       "  if (root.Bokeh !== undefined && root.Bokeh.Panel !== undefined) {\n",
       "    embed_document(root);\n",
       "  } else {\n",
       "    var attempts = 0;\n",
       "    var timer = setInterval(function(root) {\n",
       "      if (root.Bokeh !== undefined && root.Bokeh.Panel !== undefined) {\n",
       "        clearInterval(timer);\n",
       "        embed_document(root);\n",
       "      } else if (document.readyState == \"complete\") {\n",
       "        attempts++;\n",
       "        if (attempts > 100) {\n",
       "          clearInterval(timer);\n",
       "          console.log(\"Bokeh: ERROR: Unable to run BokehJS code because BokehJS library is missing\");\n",
       "        }\n",
       "      }\n",
       "    }, 10, root)\n",
       "  }\n",
       "})(window);</script>"
      ],
      "text/plain": [
       "Alert(str, alert_type='success', css_classes=['alert', 'alert-success']...], margin=(0, 0, 25, 0), sizing_mode='stretch_width')"
      ]
     },
     "metadata": {
      "application/vnd.holoviews_exec.v0+json": {
       "id": "1100"
      }
     },
     "output_type": "display_data"
    }
   ],
   "source": [
    "copy_cluster(output_assembly_contigs,output_clustering_dir)\n",
    "### ADD logger\n",
    "\n",
    "merged_contigs = output_clustering_dir+project_name+\"allContigs.fa\"    \n",
    "merging_cluster(output_clustering_dir,merged_contigs)\n",
    "\n",
    "# TODO CD : CHECK NB SEQUENCE OK ET PRINT DANS LE MSG + add logger"
   ]
  },
  {
   "cell_type": "markdown",
   "metadata": {},
   "source": [
    "#### __Run clustering__\n"
   ]
  },
  {
   "cell_type": "code",
   "execution_count": 12,
   "metadata": {},
   "outputs": [
    {
     "data": {},
     "metadata": {},
     "output_type": "display_data"
    },
    {
     "data": {
      "application/vnd.holoviews_exec.v0+json": "",
      "text/html": [
       "<div id='1102'>\n",
       "\n",
       "\n",
       "\n",
       "\n",
       "\n",
       "  <div class=\"bk-root\" id=\"918e35f0-e87e-4be9-80c9-f1b56ef8a8ae\" data-root-id=\"1102\"></div>\n",
       "</div>\n",
       "<script type=\"application/javascript\">(function(root) {\n",
       "  function embed_document(root) {\n",
       "    var docs_json = {\"37eb41b1-db9b-4ac4-84c6-f4c0f0f17ad7\":{\"defs\":[],\"roots\":{\"references\":[{\"attributes\":{\"css_classes\":[\"alert\",\"alert-secondary\",\"markdown\"],\"margin\":[0,0,25,0],\"name\":\"Alert00277\",\"sizing_mode\":\"stretch_width\",\"text\":\"&lt;p&gt;Clustering all contigs with cdhit-est.. on progress&lt;/p&gt;\"},\"id\":\"1102\",\"type\":\"panel.models.markup.HTML\"},{\"attributes\":{\"client_comm_id\":\"15c7cfcb7d7d433fbde3e73e5f32a740\",\"comm_id\":\"4b3502cef3bc4d388335766f42843cd6\",\"plot_id\":\"1102\"},\"id\":\"1103\",\"type\":\"panel.models.comm_manager.CommManager\"}],\"root_ids\":[\"1102\",\"1103\"]},\"title\":\"Bokeh Application\",\"version\":\"2.3.3\"}};\n",
       "    var render_items = [{\"docid\":\"37eb41b1-db9b-4ac4-84c6-f4c0f0f17ad7\",\"root_ids\":[\"1102\"],\"roots\":{\"1102\":\"918e35f0-e87e-4be9-80c9-f1b56ef8a8ae\"}}];\n",
       "    root.Bokeh.embed.embed_items_notebook(docs_json, render_items);\n",
       "  }\n",
       "  if (root.Bokeh !== undefined && root.Bokeh.Panel !== undefined) {\n",
       "    embed_document(root);\n",
       "  } else {\n",
       "    var attempts = 0;\n",
       "    var timer = setInterval(function(root) {\n",
       "      if (root.Bokeh !== undefined && root.Bokeh.Panel !== undefined) {\n",
       "        clearInterval(timer);\n",
       "        embed_document(root);\n",
       "      } else if (document.readyState == \"complete\") {\n",
       "        attempts++;\n",
       "        if (attempts > 100) {\n",
       "          clearInterval(timer);\n",
       "          console.log(\"Bokeh: ERROR: Unable to run BokehJS code because BokehJS library is missing\");\n",
       "        }\n",
       "      }\n",
       "    }, 10, root)\n",
       "  }\n",
       "})(window);</script>"
      ],
      "text/plain": [
       "Alert(str, alert_type='secondary', css_classes=['alert', 'alert-secondary...], margin=(0, 0, 25, 0), sizing_mode='stretch_width')"
      ]
     },
     "metadata": {
      "application/vnd.holoviews_exec.v0+json": {
       "id": "1102"
      }
     },
     "output_type": "display_data"
    },
    {
     "data": {},
     "metadata": {},
     "output_type": "display_data"
    },
    {
     "data": {
      "application/vnd.holoviews_exec.v0+json": "",
      "text/html": [
       "<div id='1104'>\n",
       "\n",
       "\n",
       "\n",
       "\n",
       "\n",
       "  <div class=\"bk-root\" id=\"d550b8db-e22d-4472-b7f4-2d7e4a6a4c01\" data-root-id=\"1104\"></div>\n",
       "</div>\n",
       "<script type=\"application/javascript\">(function(root) {\n",
       "  function embed_document(root) {\n",
       "    var docs_json = {\"8bc06f4a-7742-4e99-83be-30016963af49\":{\"defs\":[],\"roots\":{\"references\":[{\"attributes\":{\"css_classes\":[\"alert\",\"alert-success\",\"markdown\"],\"margin\":[0,0,25,0],\"name\":\"Alert00281\",\"sizing_mode\":\"stretch_width\",\"text\":\"&lt;p&gt;Clustering successfully done !&lt;/p&gt;\"},\"id\":\"1104\",\"type\":\"panel.models.markup.HTML\"},{\"attributes\":{\"client_comm_id\":\"7d6eb1de26894b3e9b400c8a6ca4cac9\",\"comm_id\":\"44fd96c69d1b4501b361ae020702d568\",\"plot_id\":\"1104\"},\"id\":\"1105\",\"type\":\"panel.models.comm_manager.CommManager\"}],\"root_ids\":[\"1104\",\"1105\"]},\"title\":\"Bokeh Application\",\"version\":\"2.3.3\"}};\n",
       "    var render_items = [{\"docid\":\"8bc06f4a-7742-4e99-83be-30016963af49\",\"root_ids\":[\"1104\"],\"roots\":{\"1104\":\"d550b8db-e22d-4472-b7f4-2d7e4a6a4c01\"}}];\n",
       "    root.Bokeh.embed.embed_items_notebook(docs_json, render_items);\n",
       "  }\n",
       "  if (root.Bokeh !== undefined && root.Bokeh.Panel !== undefined) {\n",
       "    embed_document(root);\n",
       "  } else {\n",
       "    var attempts = 0;\n",
       "    var timer = setInterval(function(root) {\n",
       "      if (root.Bokeh !== undefined && root.Bokeh.Panel !== undefined) {\n",
       "        clearInterval(timer);\n",
       "        embed_document(root);\n",
       "      } else if (document.readyState == \"complete\") {\n",
       "        attempts++;\n",
       "        if (attempts > 100) {\n",
       "          clearInterval(timer);\n",
       "          console.log(\"Bokeh: ERROR: Unable to run BokehJS code because BokehJS library is missing\");\n",
       "        }\n",
       "      }\n",
       "    }, 10, root)\n",
       "  }\n",
       "})(window);</script>"
      ],
      "text/plain": [
       "Alert(str, alert_type='success', css_classes=['alert', 'alert-success']...], margin=(0, 0, 25, 0), sizing_mode='stretch_width')"
      ]
     },
     "metadata": {
      "application/vnd.holoviews_exec.v0+json": {
       "id": "1104"
      }
     },
     "output_type": "display_data"
    }
   ],
   "source": [
    "cdhit_fasta = output_clustering_dir+project_name+\"clusters.cdhit\"  \n",
    "cdhit(merged_contigs,0.8,0.95, cdhit_fasta, logger)"
   ]
  },
  {
   "cell_type": "markdown",
   "metadata": {},
   "source": [
    "#### __Analyzing cdhit results__"
   ]
  },
  {
   "cell_type": "code",
   "execution_count": 13,
   "metadata": {},
   "outputs": [],
   "source": [
    "cdhit_fasta = output_clustering_dir+project_name+\"clusters.cdhit\"  \n",
    "cdhit_cluster = cdhit_fasta + \".clstr\"\n",
    "cdhit_csv=cdhit_fasta + \".csv\"\n",
    "df_cdhit=parse_cdhit(cdhit_cluster, df_group, cdhit_csv)"
   ]
  },
  {
   "cell_type": "markdown",
   "metadata": {},
   "source": [
    "#### __Dasboard__\n"
   ]
  },
  {
   "cell_type": "code",
   "execution_count": 14,
   "metadata": {},
   "outputs": [
    {
     "data": {},
     "metadata": {},
     "output_type": "display_data"
    },
    {
     "data": {
      "application/vnd.holoviews_exec.v0+json": "",
      "text/html": [
       "<div id='1106'>\n",
       "\n",
       "\n",
       "\n",
       "\n",
       "\n",
       "  <div class=\"bk-root\" id=\"1789bd84-0e3a-45ab-bd0d-984ec6a8360d\" data-root-id=\"1106\"></div>\n",
       "</div>\n",
       "<script type=\"application/javascript\">(function(root) {\n",
       "  function embed_document(root) {\n",
       "    var docs_json = {\"4f8c227f-a27d-454b-802e-865a510fb71c\":{\"defs\":[],\"roots\":{\"references\":[{\"attributes\":{\"css_classes\":[\"markdown\"],\"margin\":[5,5,5,5],\"name\":\"Markdown00285\",\"text\":\"&lt;h3&gt;9012 sequences&lt;/h3&gt;\\n&lt;ul&gt;\\n&lt;li&gt;min -  max length : 64 bp - 25310 bp&lt;/li&gt;\\n&lt;li&gt;mean length : 546 bp&lt;/li&gt;\\n&lt;/ul&gt;\"},\"id\":\"1108\",\"type\":\"panel.models.markup.HTML\"},{\"attributes\":{\"height\":360,\"margin\":[5,5,5,5],\"name\":\"Matplotlib00296\",\"text\":\"&lt;img src=&quot;data:image/png;base64,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&quot; width=&quot;720px&quot; height=&quot;360px&quot; alt=&quot;&quot;&gt;&lt;/img&gt;\",\"width\":720},\"id\":\"1113\",\"type\":\"panel.models.markup.HTML\"},{\"attributes\":{\"css_classes\":[\"markdown\"],\"margin\":[5,5,5,5],\"name\":\"Markdown00287\",\"text\":\"&lt;h3&gt;887 clusters&lt;/h3&gt;\\n&lt;ul&gt;\\n&lt;li&gt;min - max length : 64 bp - 618 bp&lt;/li&gt;\\n&lt;li&gt;mean length : 131&lt;/li&gt;\\n&lt;li&gt;from 2 to  59&lt;/li&gt;\\n&lt;li&gt;with ~ 3 sequences&lt;/li&gt;\\n&lt;/ul&gt;\"},\"id\":\"1110\",\"type\":\"panel.models.markup.HTML\"},{\"attributes\":{\"client_comm_id\":\"c416141c95934fc39bb15d42e9774159\",\"comm_id\":\"04af1a452cf7470285054b7c816bca21\",\"plot_id\":\"1106\"},\"id\":\"1115\",\"type\":\"panel.models.comm_manager.CommManager\"},{\"attributes\":{\"children\":[{\"id\":\"1110\"},{\"id\":\"1111\"}],\"margin\":[0,0,0,0],\"name\":\"Row00291\"},\"id\":\"1109\",\"type\":\"Row\"},{\"attributes\":{\"background\":\"WhiteSmoke\",\"children\":[{\"id\":\"1107\"},{\"id\":\"1108\"},{\"id\":\"1109\"},{\"id\":\"1112\"},{\"id\":\"1113\"},{\"id\":\"1114\"}],\"margin\":[0,0,0,0],\"name\":\"Column00300\",\"sizing_mode\":\"stretch_both\",\"width\":800},\"id\":\"1106\",\"type\":\"Column\"},{\"attributes\":{\"css_classes\":[\"markdown\"],\"margin\":[5,5,5,5],\"name\":\"Markdown00289\",\"text\":\"&lt;h3&gt;8125 singletons&lt;/h3&gt;\\n&lt;ul&gt;\\n&lt;li&gt;min - max length : 64 bp -  25310 bp&lt;/li&gt;\\n&lt;li&gt;mean length : 592 bp&lt;/li&gt;\\n&lt;/ul&gt;\"},\"id\":\"1111\",\"type\":\"panel.models.markup.HTML\"},{\"attributes\":{\"height\":360,\"margin\":[5,5,5,5],\"name\":\"Matplotlib00298\",\"text\":\"&lt;img src=&quot;data:image/png;base64,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&quot; width=&quot;720px&quot; height=&quot;360px&quot; alt=&quot;&quot;&gt;&lt;/img&gt;\",\"width\":720},\"id\":\"1114\",\"type\":\"panel.models.markup.HTML\"},{\"attributes\":{\"height\":360,\"margin\":[5,5,5,5],\"name\":\"Matplotlib00294\",\"text\":\"&lt;img src=&quot;data:image/png;base64,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&quot; width=&quot;720px&quot; height=&quot;360px&quot; alt=&quot;&quot;&gt;&lt;/img&gt;\",\"width\":720},\"id\":\"1112\",\"type\":\"panel.models.markup.HTML\"},{\"attributes\":{\"css_classes\":[\"markdown\"],\"margin\":[5,5,5,5],\"name\":\"Markdown00292\",\"text\":\"&lt;h1&gt;Some statistics about clustering step&lt;/h1&gt;\"},\"id\":\"1107\",\"type\":\"panel.models.markup.HTML\"}],\"root_ids\":[\"1106\",\"1115\"]},\"title\":\"Bokeh Application\",\"version\":\"2.3.3\"}};\n",
       "    var render_items = [{\"docid\":\"4f8c227f-a27d-454b-802e-865a510fb71c\",\"root_ids\":[\"1106\"],\"roots\":{\"1106\":\"1789bd84-0e3a-45ab-bd0d-984ec6a8360d\"}}];\n",
       "    root.Bokeh.embed.embed_items_notebook(docs_json, render_items);\n",
       "  }\n",
       "  if (root.Bokeh !== undefined && root.Bokeh.Panel !== undefined) {\n",
       "    embed_document(root);\n",
       "  } else {\n",
       "    var attempts = 0;\n",
       "    var timer = setInterval(function(root) {\n",
       "      if (root.Bokeh !== undefined && root.Bokeh.Panel !== undefined) {\n",
       "        clearInterval(timer);\n",
       "        embed_document(root);\n",
       "      } else if (document.readyState == \"complete\") {\n",
       "        attempts++;\n",
       "        if (attempts > 100) {\n",
       "          clearInterval(timer);\n",
       "          console.log(\"Bokeh: ERROR: Unable to run BokehJS code because BokehJS library is missing\");\n",
       "        }\n",
       "      }\n",
       "    }, 10, root)\n",
       "  }\n",
       "})(window);</script>"
      ],
      "text/plain": [
       "Column(background='WhiteSmoke', sizing_mode='stretch_both', width=800)\n",
       "    [0] Markdown(str)\n",
       "    [1] Markdown(str)\n",
       "    [2] Row\n",
       "        [0] Markdown(str)\n",
       "        [1] Markdown(str)\n",
       "    [3] Matplotlib(Figure)\n",
       "    [4] Matplotlib(Figure)\n",
       "    [5] Matplotlib(Figure)"
      ]
     },
     "metadata": {
      "application/vnd.holoviews_exec.v0+json": {
       "id": "1106"
      }
     },
     "output_type": "display_data"
    }
   ],
   "source": [
    "dashboard_cdhit(df_cdhit)"
   ]
  },
  {
   "cell_type": "markdown",
   "metadata": {},
   "source": [
    "[<img src=\"Images/up-arrow.png\" alt=\"Top\" width=2% align=\"right\">](#home \"Go back to the top\")\n",
    "    \n",
    "### <span style=\"color: #919395\"> 6 - Anchoring Clusters on Reference Genome<a class=\"anchor\" id=\"anchoring\"></a></span>\n",
    "\n",
    "#### __Generating panreference__\n",
    "\n",
    "#### __Mapping against panreference__\n",
    "\n",
    "#### __Anchoring contigs on reference genome__\n",
    "\n",
    "#### __Panreference dashboard__\n",
    "\n",
    "---\n"
   ]
  }
 ],
 "metadata": {
  "hide_input": false,
  "kernelspec": {
   "display_name": "Python 3 (ipykernel)",
   "language": "python",
   "name": "python3"
  },
  "language_info": {
   "codemirror_mode": {
    "name": "ipython",
    "version": 3
   },
   "file_extension": ".py",
   "mimetype": "text/x-python",
   "name": "python",
   "nbconvert_exporter": "python",
   "pygments_lexer": "ipython3",
   "version": "3.8.5"
  }
 },
 "nbformat": 4,
 "nbformat_minor": 4
}
