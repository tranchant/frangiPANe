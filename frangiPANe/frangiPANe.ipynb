{
 "cells": [
  {
   "cell_type": "markdown",
   "metadata": {},
   "source": [
    "<a class=\"anchor\" id=\"home\"><img src=\"Images/frangiPANe.png\" width=50% align=right></a>"
   ]
  },
  {
   "cell_type": "markdown",
   "metadata": {},
   "source": [
    "***\n",
    "\n",
    "# <span style=\"color: #3987C4;\">Table of contents</span>\n",
    "<a class=\"anchor\" id=\"home\"></a>\n",
    "\n",
    "[I - What is frangiPANe?](#whatabout)\n",
    "\n",
    "* [Map-then-assembly approach](#approach)\n",
    "* [Requirements](#requirements)\n",
    "* [Data test](#datatest)\n",
    "* [License](#license)\n",
    "    \n",
    "[II - Preparing frangiPANe analysis](#howtoconfigure)\n",
    "* [Import python packages used by frangiPANe](#importpackages)\n",
    "* [Definition of input data used by frangiPANe workflow](#configinput)\n",
    "* [Creating frangiPANe output directory](#outputdir)\n",
    "* [Creating log file](#logfile)\n",
    "* [Preparing Genome Reference for next analysis](#reference)\n",
    "* [Analyzing Group File](#group)\n",
    "    \n",
    "[III - Workflow](#workflow)\n",
    "* [1 - Stats about raw data](#rawdata)\n",
    "* [2 - Mapping the individuals reads against the reference genome](#mapping)\n",
    "* [3 - Assembly of the individuals' reads that do not map (properly paired) on the reference genome](#assembly)\n",
    "* [4 - Removing Contamination](#contamination)\n",
    "* [5 - Reducing Sequence Redundancy](#redundancy)\n",
    "* [6 - Anchoring Clusters on reference genome](#anchoring)\n",
    "\n",
    "***\n",
    "\n",
    "[<img src=\"Images/up-arrow.png\" alt=\"Top\" width=2% align=\"right\">](#home \"Go back to the top\")\n",
    "\n",
    "# <span style=\"color: #3987C4;\"> I - What is frangiPANe ?  <a class=\"anchor\" id=\"whatabout\"></a></span>\n",
    "\n",
    "This tool allows the generation of a linear panreference, from paired-end short-reads and a reference genome using a Map-Then-Assembly approach.\n",
    "\n",
    "<img src=\"Images/frangiPANe_overview.jpg\" width=70%>\n",
    "\n",
    "### <span style=\"color: #919395\"> _Map-then-assembly approach_ <a class=\"anchor\" id=\"approach\"></a></span>\n",
    "\n",
    "<img src=\"Images/approachMapThenAssembly.jpg\" width=80%>\n",
    "\n",
    "### <span style=\"color: #919395\"> _Data test_ <a class=\"anchor\" id=\"datatest\"></a></span>\n",
    "\n",
    "<details>\n",
    "\n",
    "\n",
    "#### __Rice__ \n",
    "\n",
    "##### _Illumina sequenced dataset_\n",
    "\n",
    "3 African Rice whole-genome sequences (Cubry and al., 2018) were used (paired-end illumina, 2x101bp, ~35X) :\n",
    "\n",
    "* AA, _O. barthii_ (African Rice wild)\n",
    "* AB, _O. barthii_ (African Rice wild)\n",
    "* DT, _O. glaberrima_ (African Rice cultivated)\n",
    "\n",
    "><sub><sup>Cubry P, Tranchant-Dubreuil C, Thuillet AC, Monat C, Ndjiondjop MN, Labadie K, Cruaud C, Engelen S, Scarcelli N, Rhoné B, Burgarella C, Dupuy C, Larmande P, Wincker P, François O, Sabot F, Vigouroux Y. The Rise and Fall of African Rice Cultivation Revealed by Analysis of 246 New Genomes. Curr Biol. 2018 Jul 23;28(14):2274-2282.e6. doi: 10.1016/j.cub.2018.05.066. Epub 2018 Jul 5. PMID: 29983312.</sub></sup>\n",
    "\n",
    "##### _Genome Reference_\n",
    "\n",
    "_Oryza glaberrima_ (OMAPv2 sequence, ref)\n",
    "\n",
    "</details>\n",
    "\n",
    "### <span style=\"color: #919395\">_Requirements_ <a class=\"anchor\" id=\"requirements\"></a></span>\n",
    "\n",
    "<details>\n",
    "\n",
    "* python version\n",
    "\n",
    "* Python modules used\n",
    "    * os, io, subprocess\n",
    "    * Ipython\n",
    "    * ipywidgets\n",
    "    * trailets\n",
    "    * tkinter\n",
    "    * numpy, pandas\n",
    "    * matplotlib\n",
    "    * seaborn\n",
    "    * panel\n",
    "    \n",
    "* Bioinformatics software (version)\n",
    "    * ea-utils (fastq-stats [doc] (https://expressionanalysis.github.io/ea-utils/)] : Command-line tools for processing biological sequencing data. \n",
    "    * BWA [[doc](http://bio-bwa.sourceforge.net/bwa.shtml), [github](https://github.com/lh3/bwa)] : software package for mapping DNA sequences against a large reference genome\n",
    "    * Samtools [[doc](http://www.htslib.org/doc/samtools.html)] : suite of programs for interacting with high-throughput sequencing data : http://www.htslib.org/download/\n",
    "    * ABySS [[github](https://github.com/bcgsc/abyss)] : de novo sequence assembler intended for short paired-end reads and large genomes\n",
    "    * assembly-stats [[github](https://github.com/sanger-pathogens/assembly-stats)] \n",
    "    * cd_hit [[github](https://github.com/weizhongli/cdhit/blob/master/doc/cdhit-user-guide.wiki)]\n",
    "\n",
    "</details>\n",
    "\n",
    "### <span style=\"color: #919395\">_License_ <a class=\"anchor\" id=\"license\"></a></span>\n",
    "\n",
    "* Licencied under CeCill-C (http://www.cecill.info/licences/Licence_CeCILL-C_V1-en.html) and GPLv3\n",
    "* Intellectual property belongs to IRD, ... and SouthGreen development platform\n",
    "* Written by Clothilde Chenal and Christine Tranchant-Dubreuil\n",
    "* Copyright 2021"
   ]
  },
  {
   "cell_type": "markdown",
   "metadata": {},
   "source": [
    "nts/These/frangiPANeGIT/ricents/These/frangiPANeGIT/ricents/These/frangiPANeGIT/rice***\n",
    "\n",
    "[<img src=\"Images/up-arrow.png\" alt=\"Top\" width=2% align=\"right\">](#home \"Go back to the top\")\n",
    "\n",
    "# <span style=\"color: #3987C4;\">II - Preparing frangiPANe analysis <a class=\"anchor\" id=\"howtoconfigure\"></a></span>\n",
    "\n",
    "### <span style=\"color: #919395\"> _Import python packages used by frangiPANe_ </span>"
   ]
  },
  {
   "cell_type": "code",
   "execution_count": 1,
   "metadata": {},
   "outputs": [
    {
     "data": {
      "application/javascript": [
       "\n",
       "(function(root) {\n",
       "  function now() {\n",
       "    return new Date();\n",
       "  }\n",
       "\n",
       "  var force = true;\n",
       "\n",
       "  if (typeof root._bokeh_onload_callbacks === \"undefined\" || force === true) {\n",
       "    root._bokeh_onload_callbacks = [];\n",
       "    root._bokeh_is_loading = undefined;\n",
       "  }\n",
       "\n",
       "  if (typeof (root._bokeh_timeout) === \"undefined\" || force === true) {\n",
       "    root._bokeh_timeout = Date.now() + 5000;\n",
       "    root._bokeh_failed_load = false;\n",
       "  }\n",
       "\n",
       "  function run_callbacks() {\n",
       "    try {\n",
       "      root._bokeh_onload_callbacks.forEach(function(callback) {\n",
       "        if (callback != null)\n",
       "          callback();\n",
       "      });\n",
       "    } finally {\n",
       "      delete root._bokeh_onload_callbacks\n",
       "    }\n",
       "    console.debug(\"Bokeh: all callbacks have finished\");\n",
       "  }\n",
       "\n",
       "  function load_libs(css_urls, js_urls, js_modules, callback) {\n",
       "    if (css_urls == null) css_urls = [];\n",
       "    if (js_urls == null) js_urls = [];\n",
       "    if (js_modules == null) js_modules = [];\n",
       "\n",
       "    root._bokeh_onload_callbacks.push(callback);\n",
       "    if (root._bokeh_is_loading > 0) {\n",
       "      console.debug(\"Bokeh: BokehJS is being loaded, scheduling callback at\", now());\n",
       "      return null;\n",
       "    }\n",
       "    if (js_urls.length === 0 && js_modules.length === 0) {\n",
       "      run_callbacks();\n",
       "      return null;\n",
       "    }\n",
       "    console.debug(\"Bokeh: BokehJS not loaded, scheduling load and callback at\", now());\n",
       "    root._bokeh_is_loading = css_urls.length + js_urls.length + js_modules.length;\n",
       "\n",
       "    function on_load() {\n",
       "      root._bokeh_is_loading--;\n",
       "      if (root._bokeh_is_loading === 0) {\n",
       "        console.debug(\"Bokeh: all BokehJS libraries/stylesheets loaded\");\n",
       "        run_callbacks()\n",
       "      }\n",
       "    }\n",
       "\n",
       "    function on_error() {\n",
       "      console.error(\"failed to load \" + url);\n",
       "    }\n",
       "\n",
       "    for (var i = 0; i < css_urls.length; i++) {\n",
       "      var url = css_urls[i];\n",
       "      const element = document.createElement(\"link\");\n",
       "      element.onload = on_load;\n",
       "      element.onerror = on_error;\n",
       "      element.rel = \"stylesheet\";\n",
       "      element.type = \"text/css\";\n",
       "      element.href = url;\n",
       "      console.debug(\"Bokeh: injecting link tag for BokehJS stylesheet: \", url);\n",
       "      document.body.appendChild(element);\n",
       "    }\n",
       "\n",
       "    var skip = [];\n",
       "    if (window.requirejs) {\n",
       "      window.requirejs.config({'paths': {'tabulator': 'https://unpkg.com/tabulator-tables@4.9.3/dist/js/tabulator'}});\n",
       "      require([\"tabulator\"], function(Tabulator,) {\n",
       "        window.Tabulator = Tabulator;\n",
       "      })\n",
       "    }\n",
       "    if (((window['tabulator'] !== undefined) && (!(window['tabulator'] instanceof HTMLElement))) || window.requirejs) {\n",
       "      var urls = ['https://unpkg.com/tabulator-tables@4.9.3/dist/js/tabulator.js', 'https://unpkg.com/moment@2.27.0/moment.js'];\n",
       "      for (var i = 0; i < urls.length; i++) {\n",
       "        skip.push(urls[i])\n",
       "      }\n",
       "    }\n",
       "    for (var i = 0; i < js_urls.length; i++) {\n",
       "      var url = js_urls[i];\n",
       "      if (skip.indexOf(url) >= 0) { on_load(); continue; }\n",
       "      var element = document.createElement('script');\n",
       "      element.onload = on_load;\n",
       "      element.onerror = on_error;\n",
       "      element.async = false;\n",
       "      element.src = url;\n",
       "      console.debug(\"Bokeh: injecting script tag for BokehJS library: \", url);\n",
       "      document.head.appendChild(element);\n",
       "    }\n",
       "    for (var i = 0; i < js_modules.length; i++) {\n",
       "      var url = js_modules[i];\n",
       "      if (skip.indexOf(url) >= 0) { on_load(); continue; }\n",
       "      var element = document.createElement('script');\n",
       "      element.onload = on_load;\n",
       "      element.onerror = on_error;\n",
       "      element.async = false;\n",
       "      element.src = url;\n",
       "      element.type = \"module\";\n",
       "      console.debug(\"Bokeh: injecting script tag for BokehJS library: \", url);\n",
       "      document.head.appendChild(element);\n",
       "    }\n",
       "    if (!js_urls.length && !js_modules.length) {\n",
       "      on_load()\n",
       "    }\n",
       "  };\n",
       "\n",
       "  function inject_raw_css(css) {\n",
       "    const element = document.createElement(\"style\");\n",
       "    element.appendChild(document.createTextNode(css));\n",
       "    document.body.appendChild(element);\n",
       "  }\n",
       "\n",
       "  var js_urls = [\"https://unpkg.com/tabulator-tables@4.9.3/dist/js/tabulator.js\", \"https://unpkg.com/moment@2.27.0/moment.js\", \"https://cdn.bokeh.org/bokeh/release/bokeh-2.3.3.min.js\", \"https://cdn.bokeh.org/bokeh/release/bokeh-widgets-2.3.3.min.js\", \"https://cdn.bokeh.org/bokeh/release/bokeh-tables-2.3.3.min.js\", \"https://unpkg.com/@holoviz/panel@0.11.1/dist/panel.min.js\"];\n",
       "  var js_modules = [];\n",
       "  var css_urls = [\"https://unpkg.com/tabulator-tables@4.9.3/dist/css/tabulator_simple.min.css\", \"https://unpkg.com/@holoviz/panel@0.11.1/dist/css/widgets.css\", \"https://unpkg.com/@holoviz/panel@0.11.1/dist/css/loading.css\", \"https://unpkg.com/@holoviz/panel@0.11.1/dist/css/dataframe.css\", \"https://unpkg.com/@holoviz/panel@0.11.1/dist/css/alerts.css\", \"https://unpkg.com/@holoviz/panel@0.11.1/dist/css/markdown.css\", \"https://unpkg.com/@holoviz/panel@0.11.1/dist/css/json.css\", \"https://unpkg.com/@holoviz/panel@0.11.1/dist/css/card.css\"];\n",
       "  var inline_js = [\n",
       "    function(Bokeh) {\n",
       "      inject_raw_css(\"\\n    .bk.pn-loading.arcs:before {\\n      background-image: url(\\\"data:image/svg+xml;base64,PHN2ZyB4bWxucz0iaHR0cDovL3d3dy53My5vcmcvMjAwMC9zdmciIHhtbG5zOnhsaW5rPSJodHRwOi8vd3d3LnczLm9yZy8xOTk5L3hsaW5rIiBzdHlsZT0ibWFyZ2luOiBhdXRvOyBiYWNrZ3JvdW5kOiBub25lOyBkaXNwbGF5OiBibG9jazsgc2hhcGUtcmVuZGVyaW5nOiBhdXRvOyIgdmlld0JveD0iMCAwIDEwMCAxMDAiIHByZXNlcnZlQXNwZWN0UmF0aW89InhNaWRZTWlkIj4gIDxjaXJjbGUgY3g9IjUwIiBjeT0iNTAiIHI9IjMyIiBzdHJva2Utd2lkdGg9IjgiIHN0cm9rZT0iI2MzYzNjMyIgc3Ryb2tlLWRhc2hhcnJheT0iNTAuMjY1NDgyNDU3NDM2NjkgNTAuMjY1NDgyNDU3NDM2NjkiIGZpbGw9Im5vbmUiIHN0cm9rZS1saW5lY2FwPSJyb3VuZCI+ICAgIDxhbmltYXRlVHJhbnNmb3JtIGF0dHJpYnV0ZU5hbWU9InRyYW5zZm9ybSIgdHlwZT0icm90YXRlIiByZXBlYXRDb3VudD0iaW5kZWZpbml0ZSIgZHVyPSIxcyIga2V5VGltZXM9IjA7MSIgdmFsdWVzPSIwIDUwIDUwOzM2MCA1MCA1MCI+PC9hbmltYXRlVHJhbnNmb3JtPiAgPC9jaXJjbGU+PC9zdmc+\\\")\\n    }\\n    \");\n",
       "    },\n",
       "    function(Bokeh) {\n",
       "      Bokeh.set_log_level(\"info\");\n",
       "    },\n",
       "    function(Bokeh) {} // ensure no trailing comma for IE\n",
       "  ];\n",
       "\n",
       "  function run_inline_js() {\n",
       "    if ((root.Bokeh !== undefined) || (force === true)) {\n",
       "      for (var i = 0; i < inline_js.length; i++) {\n",
       "        inline_js[i].call(root, root.Bokeh);\n",
       "      }} else if (Date.now() < root._bokeh_timeout) {\n",
       "      setTimeout(run_inline_js, 100);\n",
       "    } else if (!root._bokeh_failed_load) {\n",
       "      console.log(\"Bokeh: BokehJS failed to load within specified timeout.\");\n",
       "      root._bokeh_failed_load = true;\n",
       "    }\n",
       "  }\n",
       "\n",
       "  if (root._bokeh_is_loading === 0) {\n",
       "    console.debug(\"Bokeh: BokehJS loaded, going straight to plotting\");\n",
       "    run_inline_js();\n",
       "  } else {\n",
       "    load_libs(css_urls, js_urls, js_modules, function() {\n",
       "      console.debug(\"Bokeh: BokehJS plotting callback run at\", now());\n",
       "      run_inline_js();\n",
       "    });\n",
       "  }\n",
       "}(window));"
      ],
      "application/vnd.holoviews_load.v0+json": "\n(function(root) {\n  function now() {\n    return new Date();\n  }\n\n  var force = true;\n\n  if (typeof root._bokeh_onload_callbacks === \"undefined\" || force === true) {\n    root._bokeh_onload_callbacks = [];\n    root._bokeh_is_loading = undefined;\n  }\n\n  if (typeof (root._bokeh_timeout) === \"undefined\" || force === true) {\n    root._bokeh_timeout = Date.now() + 5000;\n    root._bokeh_failed_load = false;\n  }\n\n  function run_callbacks() {\n    try {\n      root._bokeh_onload_callbacks.forEach(function(callback) {\n        if (callback != null)\n          callback();\n      });\n    } finally {\n      delete root._bokeh_onload_callbacks\n    }\n    console.debug(\"Bokeh: all callbacks have finished\");\n  }\n\n  function load_libs(css_urls, js_urls, js_modules, callback) {\n    if (css_urls == null) css_urls = [];\n    if (js_urls == null) js_urls = [];\n    if (js_modules == null) js_modules = [];\n\n    root._bokeh_onload_callbacks.push(callback);\n    if (root._bokeh_is_loading > 0) {\n      console.debug(\"Bokeh: BokehJS is being loaded, scheduling callback at\", now());\n      return null;\n    }\n    if (js_urls.length === 0 && js_modules.length === 0) {\n      run_callbacks();\n      return null;\n    }\n    console.debug(\"Bokeh: BokehJS not loaded, scheduling load and callback at\", now());\n    root._bokeh_is_loading = css_urls.length + js_urls.length + js_modules.length;\n\n    function on_load() {\n      root._bokeh_is_loading--;\n      if (root._bokeh_is_loading === 0) {\n        console.debug(\"Bokeh: all BokehJS libraries/stylesheets loaded\");\n        run_callbacks()\n      }\n    }\n\n    function on_error() {\n      console.error(\"failed to load \" + url);\n    }\n\n    for (var i = 0; i < css_urls.length; i++) {\n      var url = css_urls[i];\n      const element = document.createElement(\"link\");\n      element.onload = on_load;\n      element.onerror = on_error;\n      element.rel = \"stylesheet\";\n      element.type = \"text/css\";\n      element.href = url;\n      console.debug(\"Bokeh: injecting link tag for BokehJS stylesheet: \", url);\n      document.body.appendChild(element);\n    }\n\n    var skip = [];\n    if (window.requirejs) {\n      window.requirejs.config({'paths': {'tabulator': 'https://unpkg.com/tabulator-tables@4.9.3/dist/js/tabulator'}});\n      require([\"tabulator\"], function(Tabulator,) {\n        window.Tabulator = Tabulator;\n      })\n    }\n    if (((window['tabulator'] !== undefined) && (!(window['tabulator'] instanceof HTMLElement))) || window.requirejs) {\n      var urls = ['https://unpkg.com/tabulator-tables@4.9.3/dist/js/tabulator.js', 'https://unpkg.com/moment@2.27.0/moment.js'];\n      for (var i = 0; i < urls.length; i++) {\n        skip.push(urls[i])\n      }\n    }\n    for (var i = 0; i < js_urls.length; i++) {\n      var url = js_urls[i];\n      if (skip.indexOf(url) >= 0) { on_load(); continue; }\n      var element = document.createElement('script');\n      element.onload = on_load;\n      element.onerror = on_error;\n      element.async = false;\n      element.src = url;\n      console.debug(\"Bokeh: injecting script tag for BokehJS library: \", url);\n      document.head.appendChild(element);\n    }\n    for (var i = 0; i < js_modules.length; i++) {\n      var url = js_modules[i];\n      if (skip.indexOf(url) >= 0) { on_load(); continue; }\n      var element = document.createElement('script');\n      element.onload = on_load;\n      element.onerror = on_error;\n      element.async = false;\n      element.src = url;\n      element.type = \"module\";\n      console.debug(\"Bokeh: injecting script tag for BokehJS library: \", url);\n      document.head.appendChild(element);\n    }\n    if (!js_urls.length && !js_modules.length) {\n      on_load()\n    }\n  };\n\n  function inject_raw_css(css) {\n    const element = document.createElement(\"style\");\n    element.appendChild(document.createTextNode(css));\n    document.body.appendChild(element);\n  }\n\n  var js_urls = [\"https://unpkg.com/tabulator-tables@4.9.3/dist/js/tabulator.js\", \"https://unpkg.com/moment@2.27.0/moment.js\", \"https://cdn.bokeh.org/bokeh/release/bokeh-2.3.3.min.js\", \"https://cdn.bokeh.org/bokeh/release/bokeh-widgets-2.3.3.min.js\", \"https://cdn.bokeh.org/bokeh/release/bokeh-tables-2.3.3.min.js\", \"https://unpkg.com/@holoviz/panel@0.11.1/dist/panel.min.js\"];\n  var js_modules = [];\n  var css_urls = [\"https://unpkg.com/tabulator-tables@4.9.3/dist/css/tabulator_simple.min.css\", \"https://unpkg.com/@holoviz/panel@0.11.1/dist/css/widgets.css\", \"https://unpkg.com/@holoviz/panel@0.11.1/dist/css/loading.css\", \"https://unpkg.com/@holoviz/panel@0.11.1/dist/css/dataframe.css\", \"https://unpkg.com/@holoviz/panel@0.11.1/dist/css/alerts.css\", \"https://unpkg.com/@holoviz/panel@0.11.1/dist/css/markdown.css\", \"https://unpkg.com/@holoviz/panel@0.11.1/dist/css/json.css\", \"https://unpkg.com/@holoviz/panel@0.11.1/dist/css/card.css\"];\n  var inline_js = [\n    function(Bokeh) {\n      inject_raw_css(\"\\n    .bk.pn-loading.arcs:before {\\n      background-image: url(\\\"data:image/svg+xml;base64,PHN2ZyB4bWxucz0iaHR0cDovL3d3dy53My5vcmcvMjAwMC9zdmciIHhtbG5zOnhsaW5rPSJodHRwOi8vd3d3LnczLm9yZy8xOTk5L3hsaW5rIiBzdHlsZT0ibWFyZ2luOiBhdXRvOyBiYWNrZ3JvdW5kOiBub25lOyBkaXNwbGF5OiBibG9jazsgc2hhcGUtcmVuZGVyaW5nOiBhdXRvOyIgdmlld0JveD0iMCAwIDEwMCAxMDAiIHByZXNlcnZlQXNwZWN0UmF0aW89InhNaWRZTWlkIj4gIDxjaXJjbGUgY3g9IjUwIiBjeT0iNTAiIHI9IjMyIiBzdHJva2Utd2lkdGg9IjgiIHN0cm9rZT0iI2MzYzNjMyIgc3Ryb2tlLWRhc2hhcnJheT0iNTAuMjY1NDgyNDU3NDM2NjkgNTAuMjY1NDgyNDU3NDM2NjkiIGZpbGw9Im5vbmUiIHN0cm9rZS1saW5lY2FwPSJyb3VuZCI+ICAgIDxhbmltYXRlVHJhbnNmb3JtIGF0dHJpYnV0ZU5hbWU9InRyYW5zZm9ybSIgdHlwZT0icm90YXRlIiByZXBlYXRDb3VudD0iaW5kZWZpbml0ZSIgZHVyPSIxcyIga2V5VGltZXM9IjA7MSIgdmFsdWVzPSIwIDUwIDUwOzM2MCA1MCA1MCI+PC9hbmltYXRlVHJhbnNmb3JtPiAgPC9jaXJjbGU+PC9zdmc+\\\")\\n    }\\n    \");\n    },\n    function(Bokeh) {\n      Bokeh.set_log_level(\"info\");\n    },\n    function(Bokeh) {} // ensure no trailing comma for IE\n  ];\n\n  function run_inline_js() {\n    if ((root.Bokeh !== undefined) || (force === true)) {\n      for (var i = 0; i < inline_js.length; i++) {\n        inline_js[i].call(root, root.Bokeh);\n      }} else if (Date.now() < root._bokeh_timeout) {\n      setTimeout(run_inline_js, 100);\n    } else if (!root._bokeh_failed_load) {\n      console.log(\"Bokeh: BokehJS failed to load within specified timeout.\");\n      root._bokeh_failed_load = true;\n    }\n  }\n\n  if (root._bokeh_is_loading === 0) {\n    console.debug(\"Bokeh: BokehJS loaded, going straight to plotting\");\n    run_inline_js();\n  } else {\n    load_libs(css_urls, js_urls, js_modules, function() {\n      console.debug(\"Bokeh: BokehJS plotting callback run at\", now());\n      run_inline_js();\n    });\n  }\n}(window));"
     },
     "metadata": {},
     "output_type": "display_data"
    },
    {
     "data": {
      "application/javascript": [
       "\n",
       "if ((window.PyViz === undefined) || (window.PyViz instanceof HTMLElement)) {\n",
       "  window.PyViz = {comms: {}, comm_status:{}, kernels:{}, receivers: {}, plot_index: []}\n",
       "}\n",
       "\n",
       "\n",
       "    function JupyterCommManager() {\n",
       "    }\n",
       "\n",
       "    JupyterCommManager.prototype.register_target = function(plot_id, comm_id, msg_handler) {\n",
       "      if (window.comm_manager || ((window.Jupyter !== undefined) && (Jupyter.notebook.kernel != null))) {\n",
       "        var comm_manager = window.comm_manager || Jupyter.notebook.kernel.comm_manager;\n",
       "        comm_manager.register_target(comm_id, function(comm) {\n",
       "          comm.on_msg(msg_handler);\n",
       "        });\n",
       "      } else if ((plot_id in window.PyViz.kernels) && (window.PyViz.kernels[plot_id])) {\n",
       "        window.PyViz.kernels[plot_id].registerCommTarget(comm_id, function(comm) {\n",
       "          comm.onMsg = msg_handler;\n",
       "        });\n",
       "      } else if (typeof google != 'undefined' && google.colab.kernel != null) {\n",
       "        google.colab.kernel.comms.registerTarget(comm_id, (comm) => {\n",
       "          var messages = comm.messages[Symbol.asyncIterator]();\n",
       "          function processIteratorResult(result) {\n",
       "            var message = result.value;\n",
       "            console.log(message)\n",
       "            var content = {data: message.data, comm_id};\n",
       "            var buffers = []\n",
       "            for (var buffer of message.buffers || []) {\n",
       "              buffers.push(new DataView(buffer))\n",
       "            }\n",
       "            var metadata = message.metadata || {};\n",
       "            var msg = {content, buffers, metadata}\n",
       "            msg_handler(msg);\n",
       "            return messages.next().then(processIteratorResult);\n",
       "          }\n",
       "          return messages.next().then(processIteratorResult);\n",
       "        })\n",
       "      }\n",
       "    }\n",
       "\n",
       "    JupyterCommManager.prototype.get_client_comm = function(plot_id, comm_id, msg_handler) {\n",
       "      if (comm_id in window.PyViz.comms) {\n",
       "        return window.PyViz.comms[comm_id];\n",
       "      } else if (window.comm_manager || ((window.Jupyter !== undefined) && (Jupyter.notebook.kernel != null))) {\n",
       "        var comm_manager = window.comm_manager || Jupyter.notebook.kernel.comm_manager;\n",
       "        var comm = comm_manager.new_comm(comm_id, {}, {}, {}, comm_id);\n",
       "        if (msg_handler) {\n",
       "          comm.on_msg(msg_handler);\n",
       "        }\n",
       "      } else if ((plot_id in window.PyViz.kernels) && (window.PyViz.kernels[plot_id])) {\n",
       "        var comm = window.PyViz.kernels[plot_id].connectToComm(comm_id);\n",
       "        comm.open();\n",
       "        if (msg_handler) {\n",
       "          comm.onMsg = msg_handler;\n",
       "        }\n",
       "      } else if (typeof google != 'undefined' && google.colab.kernel != null) {\n",
       "        var comm_promise = google.colab.kernel.comms.open(comm_id)\n",
       "        comm_promise.then((comm) => {\n",
       "          window.PyViz.comms[comm_id] = comm;\n",
       "          if (msg_handler) {\n",
       "            var messages = comm.messages[Symbol.asyncIterator]();\n",
       "            function processIteratorResult(result) {\n",
       "              var message = result.value;\n",
       "              var content = {data: message.data};\n",
       "              var metadata = message.metadata || {comm_id};\n",
       "              var msg = {content, metadata}\n",
       "              msg_handler(msg);\n",
       "              return messages.next().then(processIteratorResult);\n",
       "            }\n",
       "            return messages.next().then(processIteratorResult);\n",
       "          }\n",
       "        }) \n",
       "        var sendClosure = (data, metadata, buffers, disposeOnDone) => {\n",
       "          return comm_promise.then((comm) => {\n",
       "            comm.send(data, metadata, buffers, disposeOnDone);\n",
       "          });\n",
       "        };\n",
       "        var comm = {\n",
       "          send: sendClosure\n",
       "        };\n",
       "      }\n",
       "      window.PyViz.comms[comm_id] = comm;\n",
       "      return comm;\n",
       "    }\n",
       "    window.PyViz.comm_manager = new JupyterCommManager();\n",
       "    \n",
       "\n",
       "\n",
       "var JS_MIME_TYPE = 'application/javascript';\n",
       "var HTML_MIME_TYPE = 'text/html';\n",
       "var EXEC_MIME_TYPE = 'application/vnd.holoviews_exec.v0+json';\n",
       "var CLASS_NAME = 'output';\n",
       "\n",
       "/**\n",
       " * Render data to the DOM node\n",
       " */\n",
       "function render(props, node) {\n",
       "  var div = document.createElement(\"div\");\n",
       "  var script = document.createElement(\"script\");\n",
       "  node.appendChild(div);\n",
       "  node.appendChild(script);\n",
       "}\n",
       "\n",
       "/**\n",
       " * Handle when a new output is added\n",
       " */\n",
       "function handle_add_output(event, handle) {\n",
       "  var output_area = handle.output_area;\n",
       "  var output = handle.output;\n",
       "  if ((output.data == undefined) || (!output.data.hasOwnProperty(EXEC_MIME_TYPE))) {\n",
       "    return\n",
       "  }\n",
       "  var id = output.metadata[EXEC_MIME_TYPE][\"id\"];\n",
       "  var toinsert = output_area.element.find(\".\" + CLASS_NAME.split(' ')[0]);\n",
       "  if (id !== undefined) {\n",
       "    var nchildren = toinsert.length;\n",
       "    var html_node = toinsert[nchildren-1].children[0];\n",
       "    html_node.innerHTML = output.data[HTML_MIME_TYPE];\n",
       "    var scripts = [];\n",
       "    var nodelist = html_node.querySelectorAll(\"script\");\n",
       "    for (var i in nodelist) {\n",
       "      if (nodelist.hasOwnProperty(i)) {\n",
       "        scripts.push(nodelist[i])\n",
       "      }\n",
       "    }\n",
       "\n",
       "    scripts.forEach( function (oldScript) {\n",
       "      var newScript = document.createElement(\"script\");\n",
       "      var attrs = [];\n",
       "      var nodemap = oldScript.attributes;\n",
       "      for (var j in nodemap) {\n",
       "        if (nodemap.hasOwnProperty(j)) {\n",
       "          attrs.push(nodemap[j])\n",
       "        }\n",
       "      }\n",
       "      attrs.forEach(function(attr) { newScript.setAttribute(attr.name, attr.value) });\n",
       "      newScript.appendChild(document.createTextNode(oldScript.innerHTML));\n",
       "      oldScript.parentNode.replaceChild(newScript, oldScript);\n",
       "    });\n",
       "    if (JS_MIME_TYPE in output.data) {\n",
       "      toinsert[nchildren-1].children[1].textContent = output.data[JS_MIME_TYPE];\n",
       "    }\n",
       "    output_area._hv_plot_id = id;\n",
       "    if ((window.Bokeh !== undefined) && (id in Bokeh.index)) {\n",
       "      window.PyViz.plot_index[id] = Bokeh.index[id];\n",
       "    } else {\n",
       "      window.PyViz.plot_index[id] = null;\n",
       "    }\n",
       "  } else if (output.metadata[EXEC_MIME_TYPE][\"server_id\"] !== undefined) {\n",
       "    var bk_div = document.createElement(\"div\");\n",
       "    bk_div.innerHTML = output.data[HTML_MIME_TYPE];\n",
       "    var script_attrs = bk_div.children[0].attributes;\n",
       "    for (var i = 0; i < script_attrs.length; i++) {\n",
       "      toinsert[toinsert.length - 1].childNodes[1].setAttribute(script_attrs[i].name, script_attrs[i].value);\n",
       "    }\n",
       "    // store reference to server id on output_area\n",
       "    output_area._bokeh_server_id = output.metadata[EXEC_MIME_TYPE][\"server_id\"];\n",
       "  }\n",
       "}\n",
       "\n",
       "/**\n",
       " * Handle when an output is cleared or removed\n",
       " */\n",
       "function handle_clear_output(event, handle) {\n",
       "  var id = handle.cell.output_area._hv_plot_id;\n",
       "  var server_id = handle.cell.output_area._bokeh_server_id;\n",
       "  if (((id === undefined) || !(id in PyViz.plot_index)) && (server_id !== undefined)) { return; }\n",
       "  var comm = window.PyViz.comm_manager.get_client_comm(\"hv-extension-comm\", \"hv-extension-comm\", function () {});\n",
       "  if (server_id !== null) {\n",
       "    comm.send({event_type: 'server_delete', 'id': server_id});\n",
       "    return;\n",
       "  } else if (comm !== null) {\n",
       "    comm.send({event_type: 'delete', 'id': id});\n",
       "  }\n",
       "  delete PyViz.plot_index[id];\n",
       "  if ((window.Bokeh !== undefined) & (id in window.Bokeh.index)) {\n",
       "    var doc = window.Bokeh.index[id].model.document\n",
       "    doc.clear();\n",
       "    const i = window.Bokeh.documents.indexOf(doc);\n",
       "    if (i > -1) {\n",
       "      window.Bokeh.documents.splice(i, 1);\n",
       "    }\n",
       "  }\n",
       "}\n",
       "\n",
       "/**\n",
       " * Handle kernel restart event\n",
       " */\n",
       "function handle_kernel_cleanup(event, handle) {\n",
       "  delete PyViz.comms[\"hv-extension-comm\"];\n",
       "  window.PyViz.plot_index = {}\n",
       "}\n",
       "\n",
       "/**\n",
       " * Handle update_display_data messages\n",
       " */\n",
       "function handle_update_output(event, handle) {\n",
       "  handle_clear_output(event, {cell: {output_area: handle.output_area}})\n",
       "  handle_add_output(event, handle)\n",
       "}\n",
       "\n",
       "function register_renderer(events, OutputArea) {\n",
       "  function append_mime(data, metadata, element) {\n",
       "    // create a DOM node to render to\n",
       "    var toinsert = this.create_output_subarea(\n",
       "    metadata,\n",
       "    CLASS_NAME,\n",
       "    EXEC_MIME_TYPE\n",
       "    );\n",
       "    this.keyboard_manager.register_events(toinsert);\n",
       "    // Render to node\n",
       "    var props = {data: data, metadata: metadata[EXEC_MIME_TYPE]};\n",
       "    render(props, toinsert[0]);\n",
       "    element.append(toinsert);\n",
       "    return toinsert\n",
       "  }\n",
       "\n",
       "  events.on('output_added.OutputArea', handle_add_output);\n",
       "  events.on('output_updated.OutputArea', handle_update_output);\n",
       "  events.on('clear_output.CodeCell', handle_clear_output);\n",
       "  events.on('delete.Cell', handle_clear_output);\n",
       "  events.on('kernel_ready.Kernel', handle_kernel_cleanup);\n",
       "\n",
       "  OutputArea.prototype.register_mime_type(EXEC_MIME_TYPE, append_mime, {\n",
       "    safe: true,\n",
       "    index: 0\n",
       "  });\n",
       "}\n",
       "\n",
       "if (window.Jupyter !== undefined) {\n",
       "  try {\n",
       "    var events = require('base/js/events');\n",
       "    var OutputArea = require('notebook/js/outputarea').OutputArea;\n",
       "    if (OutputArea.prototype.mime_types().indexOf(EXEC_MIME_TYPE) == -1) {\n",
       "      register_renderer(events, OutputArea);\n",
       "    }\n",
       "  } catch(err) {\n",
       "  }\n",
       "}\n"
      ],
      "application/vnd.holoviews_load.v0+json": "\nif ((window.PyViz === undefined) || (window.PyViz instanceof HTMLElement)) {\n  window.PyViz = {comms: {}, comm_status:{}, kernels:{}, receivers: {}, plot_index: []}\n}\n\n\n    function JupyterCommManager() {\n    }\n\n    JupyterCommManager.prototype.register_target = function(plot_id, comm_id, msg_handler) {\n      if (window.comm_manager || ((window.Jupyter !== undefined) && (Jupyter.notebook.kernel != null))) {\n        var comm_manager = window.comm_manager || Jupyter.notebook.kernel.comm_manager;\n        comm_manager.register_target(comm_id, function(comm) {\n          comm.on_msg(msg_handler);\n        });\n      } else if ((plot_id in window.PyViz.kernels) && (window.PyViz.kernels[plot_id])) {\n        window.PyViz.kernels[plot_id].registerCommTarget(comm_id, function(comm) {\n          comm.onMsg = msg_handler;\n        });\n      } else if (typeof google != 'undefined' && google.colab.kernel != null) {\n        google.colab.kernel.comms.registerTarget(comm_id, (comm) => {\n          var messages = comm.messages[Symbol.asyncIterator]();\n          function processIteratorResult(result) {\n            var message = result.value;\n            console.log(message)\n            var content = {data: message.data, comm_id};\n            var buffers = []\n            for (var buffer of message.buffers || []) {\n              buffers.push(new DataView(buffer))\n            }\n            var metadata = message.metadata || {};\n            var msg = {content, buffers, metadata}\n            msg_handler(msg);\n            return messages.next().then(processIteratorResult);\n          }\n          return messages.next().then(processIteratorResult);\n        })\n      }\n    }\n\n    JupyterCommManager.prototype.get_client_comm = function(plot_id, comm_id, msg_handler) {\n      if (comm_id in window.PyViz.comms) {\n        return window.PyViz.comms[comm_id];\n      } else if (window.comm_manager || ((window.Jupyter !== undefined) && (Jupyter.notebook.kernel != null))) {\n        var comm_manager = window.comm_manager || Jupyter.notebook.kernel.comm_manager;\n        var comm = comm_manager.new_comm(comm_id, {}, {}, {}, comm_id);\n        if (msg_handler) {\n          comm.on_msg(msg_handler);\n        }\n      } else if ((plot_id in window.PyViz.kernels) && (window.PyViz.kernels[plot_id])) {\n        var comm = window.PyViz.kernels[plot_id].connectToComm(comm_id);\n        comm.open();\n        if (msg_handler) {\n          comm.onMsg = msg_handler;\n        }\n      } else if (typeof google != 'undefined' && google.colab.kernel != null) {\n        var comm_promise = google.colab.kernel.comms.open(comm_id)\n        comm_promise.then((comm) => {\n          window.PyViz.comms[comm_id] = comm;\n          if (msg_handler) {\n            var messages = comm.messages[Symbol.asyncIterator]();\n            function processIteratorResult(result) {\n              var message = result.value;\n              var content = {data: message.data};\n              var metadata = message.metadata || {comm_id};\n              var msg = {content, metadata}\n              msg_handler(msg);\n              return messages.next().then(processIteratorResult);\n            }\n            return messages.next().then(processIteratorResult);\n          }\n        }) \n        var sendClosure = (data, metadata, buffers, disposeOnDone) => {\n          return comm_promise.then((comm) => {\n            comm.send(data, metadata, buffers, disposeOnDone);\n          });\n        };\n        var comm = {\n          send: sendClosure\n        };\n      }\n      window.PyViz.comms[comm_id] = comm;\n      return comm;\n    }\n    window.PyViz.comm_manager = new JupyterCommManager();\n    \n\n\nvar JS_MIME_TYPE = 'application/javascript';\nvar HTML_MIME_TYPE = 'text/html';\nvar EXEC_MIME_TYPE = 'application/vnd.holoviews_exec.v0+json';\nvar CLASS_NAME = 'output';\n\n/**\n * Render data to the DOM node\n */\nfunction render(props, node) {\n  var div = document.createElement(\"div\");\n  var script = document.createElement(\"script\");\n  node.appendChild(div);\n  node.appendChild(script);\n}\n\n/**\n * Handle when a new output is added\n */\nfunction handle_add_output(event, handle) {\n  var output_area = handle.output_area;\n  var output = handle.output;\n  if ((output.data == undefined) || (!output.data.hasOwnProperty(EXEC_MIME_TYPE))) {\n    return\n  }\n  var id = output.metadata[EXEC_MIME_TYPE][\"id\"];\n  var toinsert = output_area.element.find(\".\" + CLASS_NAME.split(' ')[0]);\n  if (id !== undefined) {\n    var nchildren = toinsert.length;\n    var html_node = toinsert[nchildren-1].children[0];\n    html_node.innerHTML = output.data[HTML_MIME_TYPE];\n    var scripts = [];\n    var nodelist = html_node.querySelectorAll(\"script\");\n    for (var i in nodelist) {\n      if (nodelist.hasOwnProperty(i)) {\n        scripts.push(nodelist[i])\n      }\n    }\n\n    scripts.forEach( function (oldScript) {\n      var newScript = document.createElement(\"script\");\n      var attrs = [];\n      var nodemap = oldScript.attributes;\n      for (var j in nodemap) {\n        if (nodemap.hasOwnProperty(j)) {\n          attrs.push(nodemap[j])\n        }\n      }\n      attrs.forEach(function(attr) { newScript.setAttribute(attr.name, attr.value) });\n      newScript.appendChild(document.createTextNode(oldScript.innerHTML));\n      oldScript.parentNode.replaceChild(newScript, oldScript);\n    });\n    if (JS_MIME_TYPE in output.data) {\n      toinsert[nchildren-1].children[1].textContent = output.data[JS_MIME_TYPE];\n    }\n    output_area._hv_plot_id = id;\n    if ((window.Bokeh !== undefined) && (id in Bokeh.index)) {\n      window.PyViz.plot_index[id] = Bokeh.index[id];\n    } else {\n      window.PyViz.plot_index[id] = null;\n    }\n  } else if (output.metadata[EXEC_MIME_TYPE][\"server_id\"] !== undefined) {\n    var bk_div = document.createElement(\"div\");\n    bk_div.innerHTML = output.data[HTML_MIME_TYPE];\n    var script_attrs = bk_div.children[0].attributes;\n    for (var i = 0; i < script_attrs.length; i++) {\n      toinsert[toinsert.length - 1].childNodes[1].setAttribute(script_attrs[i].name, script_attrs[i].value);\n    }\n    // store reference to server id on output_area\n    output_area._bokeh_server_id = output.metadata[EXEC_MIME_TYPE][\"server_id\"];\n  }\n}\n\n/**\n * Handle when an output is cleared or removed\n */\nfunction handle_clear_output(event, handle) {\n  var id = handle.cell.output_area._hv_plot_id;\n  var server_id = handle.cell.output_area._bokeh_server_id;\n  if (((id === undefined) || !(id in PyViz.plot_index)) && (server_id !== undefined)) { return; }\n  var comm = window.PyViz.comm_manager.get_client_comm(\"hv-extension-comm\", \"hv-extension-comm\", function () {});\n  if (server_id !== null) {\n    comm.send({event_type: 'server_delete', 'id': server_id});\n    return;\n  } else if (comm !== null) {\n    comm.send({event_type: 'delete', 'id': id});\n  }\n  delete PyViz.plot_index[id];\n  if ((window.Bokeh !== undefined) & (id in window.Bokeh.index)) {\n    var doc = window.Bokeh.index[id].model.document\n    doc.clear();\n    const i = window.Bokeh.documents.indexOf(doc);\n    if (i > -1) {\n      window.Bokeh.documents.splice(i, 1);\n    }\n  }\n}\n\n/**\n * Handle kernel restart event\n */\nfunction handle_kernel_cleanup(event, handle) {\n  delete PyViz.comms[\"hv-extension-comm\"];\n  window.PyViz.plot_index = {}\n}\n\n/**\n * Handle update_display_data messages\n */\nfunction handle_update_output(event, handle) {\n  handle_clear_output(event, {cell: {output_area: handle.output_area}})\n  handle_add_output(event, handle)\n}\n\nfunction register_renderer(events, OutputArea) {\n  function append_mime(data, metadata, element) {\n    // create a DOM node to render to\n    var toinsert = this.create_output_subarea(\n    metadata,\n    CLASS_NAME,\n    EXEC_MIME_TYPE\n    );\n    this.keyboard_manager.register_events(toinsert);\n    // Render to node\n    var props = {data: data, metadata: metadata[EXEC_MIME_TYPE]};\n    render(props, toinsert[0]);\n    element.append(toinsert);\n    return toinsert\n  }\n\n  events.on('output_added.OutputArea', handle_add_output);\n  events.on('output_updated.OutputArea', handle_update_output);\n  events.on('clear_output.CodeCell', handle_clear_output);\n  events.on('delete.Cell', handle_clear_output);\n  events.on('kernel_ready.Kernel', handle_kernel_cleanup);\n\n  OutputArea.prototype.register_mime_type(EXEC_MIME_TYPE, append_mime, {\n    safe: true,\n    index: 0\n  });\n}\n\nif (window.Jupyter !== undefined) {\n  try {\n    var events = require('base/js/events');\n    var OutputArea = require('notebook/js/outputarea').OutputArea;\n    if (OutputArea.prototype.mime_types().indexOf(EXEC_MIME_TYPE) == -1) {\n      register_renderer(events, OutputArea);\n    }\n  } catch(err) {\n  }\n}\n"
     },
     "metadata": {},
     "output_type": "display_data"
    },
    {
     "data": {},
     "metadata": {},
     "output_type": "display_data"
    },
    {
     "data": {
      "application/vnd.holoviews_exec.v0+json": "",
      "text/html": [
       "<div id='1002'>\n",
       "\n",
       "\n",
       "\n",
       "\n",
       "\n",
       "  <div class=\"bk-root\" id=\"cadbfc4c-c74d-430e-917d-e7ab529c2996\" data-root-id=\"1002\"></div>\n",
       "</div>\n",
       "<script type=\"application/javascript\">(function(root) {\n",
       "  function embed_document(root) {\n",
       "    var docs_json = {\"1ad73f15-f616-4804-a3cb-1b6795690210\":{\"defs\":[],\"roots\":{\"references\":[{\"attributes\":{\"client_comm_id\":\"7a1c7b3614d54c0faa95eb00a9a98b6c\",\"comm_id\":\"4e6d371ab17743a6b737cb51e5719564\",\"plot_id\":\"1002\"},\"id\":\"1003\",\"type\":\"panel.models.comm_manager.CommManager\"},{\"attributes\":{\"css_classes\":[\"alert\",\"alert-success\",\"markdown\"],\"margin\":[0,0,25,0],\"name\":\"Alert00099\",\"sizing_mode\":\"stretch_width\",\"text\":\"&lt;p&gt;Import all python packages required successfully&lt;/p&gt;\"},\"id\":\"1002\",\"type\":\"panel.models.markup.HTML\"},{\"attributes\":{\"reload\":false},\"id\":\"1004\",\"type\":\"panel.models.location.Location\"}],\"root_ids\":[\"1002\",\"1003\",\"1004\"]},\"title\":\"Bokeh Application\",\"version\":\"2.3.3\"}};\n",
       "    var render_items = [{\"docid\":\"1ad73f15-f616-4804-a3cb-1b6795690210\",\"root_ids\":[\"1002\"],\"roots\":{\"1002\":\"cadbfc4c-c74d-430e-917d-e7ab529c2996\"}}];\n",
       "    root.Bokeh.embed.embed_items_notebook(docs_json, render_items);\n",
       "  }\n",
       "  if (root.Bokeh !== undefined && root.Bokeh.Panel !== undefined) {\n",
       "    embed_document(root);\n",
       "  } else {\n",
       "    var attempts = 0;\n",
       "    var timer = setInterval(function(root) {\n",
       "      if (root.Bokeh !== undefined && root.Bokeh.Panel !== undefined) {\n",
       "        clearInterval(timer);\n",
       "        embed_document(root);\n",
       "      } else if (document.readyState == \"complete\") {\n",
       "        attempts++;\n",
       "        if (attempts > 100) {\n",
       "          clearInterval(timer);\n",
       "          console.log(\"Bokeh: ERROR: Unable to run BokehJS code because BokehJS library is missing\");\n",
       "        }\n",
       "      }\n",
       "    }, 10, root)\n",
       "  }\n",
       "})(window);</script>"
      ],
      "text/plain": [
       "Alert(str, alert_type='success', css_classes=['alert', 'alert-success']...], margin=(0, 0, 25, 0), sizing_mode='stretch_width')"
      ]
     },
     "metadata": {
      "application/vnd.holoviews_exec.v0+json": {
       "id": "1002"
      }
     },
     "output_type": "display_data"
    },
    {
     "data": {
      "text/html": [
       "<img src onerror=\"var cell = this.closest('.jp-CodeCell');var editor = cell.querySelector('.jp-Editor');editor.style.background='LightBlue';this.parentNode.removeChild(this)\">"
      ],
      "text/plain": [
       "<IPython.core.display.HTML object>"
      ]
     },
     "metadata": {},
     "output_type": "display_data"
    }
   ],
   "source": [
    "from tools.jupyter import dashboard_group\n",
    "from tools.jupyter import *\n",
    "from tools.frangiPANe import *\n",
    "\n",
    "import panel as pn\n",
    "pn.extension()\n",
    "\n",
    "add_css()\n",
    "\n",
    "text = \"Import all python packages required successfully\"\n",
    "display_alert(text,\"success\")\n",
    "bgc('LightBlue')"
   ]
  },
  {
   "cell_type": "markdown",
   "metadata": {},
   "source": [
    "### <span style=\"color: #919395\"> _Definition of input data used by frangiPANe workflow_  <a class=\"anchor\" id=\"configinput\"></a></span>\n",
    "\n",
    "<details>\n",
    "\n",
    "* __Project Name__ : the directory name that will contain all the results generated by this analysis\n",
    "* __Output Directory__ : the parent directory that will contain the __project_name__ directory\n",
    "* __Fastq Directory__ : the directory that contains .fastq files of all the individuals\n",
    "* __Reference File__ : the reference genome used to map all reads (fastq files). The reference genome have to be provided in a fasta format. The reference genome must be indexed by BWA for subsequent analyzes. The **REF**.amb, **REF**.ann, **REF**.bwt, **REF**.pac and **REF**.sa files are created.)\n",
    "* __Group File__ :  (It is common for several individuals to have different origins when building a pangenome. To exploit this diversity in the results, PANtoum needs a tabulated file (separator = tabulation, no header); the first column corresponds to the name of the individuals (should correspond to .fastq files) and the second to the group they belong. NB : It is possible to use only one group.)\n",
    "\n",
    "ex of samples with 2 groups : wild or cultivated\n",
    "    \n",
    "| sample  | group  |\n",
    "|---|---|\n",
    "| AA | wild | \n",
    "| AB  | wild | \n",
    "| CB  | cultivated |\n",
    "\n",
    "</details>\n",
    "\n",
    "Run the following cell and fill the parameters box"
   ]
  },
  {
   "cell_type": "code",
   "execution_count": 2,
   "metadata": {},
   "outputs": [
    {
     "data": {},
     "metadata": {},
     "output_type": "display_data"
    },
    {
     "data": {
      "application/vnd.holoviews_exec.v0+json": "",
      "text/html": [
       "<div id='1005'>\n",
       "\n",
       "\n",
       "\n",
       "\n",
       "\n",
       "  <div class=\"bk-root\" id=\"496af9fd-b4f2-4988-819f-6ead2607aac6\" data-root-id=\"1005\"></div>\n",
       "</div>\n",
       "<script type=\"application/javascript\">(function(root) {\n",
       "  function embed_document(root) {\n",
       "    var docs_json = {\"f1dde2f8-9a18-4669-9102-51b38bdf5d42\":{\"defs\":[],\"roots\":{\"references\":[{\"attributes\":{\"margin\":[5,10,5,10],\"max_length\":5000,\"placeholder\":\"Enter the file path here...\",\"title\":\"Reference file\"},\"id\":\"1013\",\"type\":\"TextInput\"},{\"attributes\":{\"css_classes\":[\"alert\",\"alert-warning\",\"markdown\"],\"height\":200,\"margin\":[0,0,25,0],\"name\":\"Alert00104\",\"sizing_mode\":\"stretch_width\",\"text\":\"&lt;p&gt;No filled&lt;/p&gt;\"},\"id\":\"1017\",\"type\":\"panel.models.markup.HTML\"},{\"attributes\":{\"margin\":[5,10,5,10],\"max_length\":5000,\"placeholder\":\"Enter the directory path here...\",\"title\":\"Fastq directory\"},\"id\":\"1011\",\"type\":\"TextInput\"},{\"attributes\":{\"children\":[{\"id\":\"1009\"},{\"id\":\"1010\"}],\"margin\":[0,0,0,0],\"name\":\"Row00114\"},\"id\":\"1008\",\"type\":\"Row\"},{\"attributes\":{\"children\":[{\"id\":\"1015\"},{\"id\":\"1016\"}],\"margin\":[0,0,0,0],\"name\":\"Row00113\"},\"id\":\"1014\",\"type\":\"Row\"},{\"attributes\":{\"button_type\":\"primary\",\"icon\":null,\"label\":\"INIT\",\"margin\":[5,10,5,10],\"min_width\":100,\"subscribed_events\":[\"button_click\"],\"width\":100},\"id\":\"1016\",\"type\":\"Button\"},{\"attributes\":{\"css_classes\":[\"markdown\"],\"margin\":[5,5,5,5],\"name\":\"Markdown00116\",\"text\":\"&lt;h1&gt;INPUT FORM&lt;/h1&gt;\"},\"id\":\"1006\",\"type\":\"panel.models.markup.HTML\"},{\"attributes\":{\"button_type\":\"primary\",\"icon\":null,\"label\":\"SAVE\",\"margin\":[5,10,5,10],\"min_width\":100,\"subscribed_events\":[\"button_click\"],\"width\":100},\"id\":\"1015\",\"type\":\"Button\"},{\"attributes\":{\"margin\":[5,10,5,10],\"max_length\":5000,\"placeholder\":\"Enter the file path here...\",\"title\":\"Group file\"},\"id\":\"1012\",\"type\":\"TextInput\"},{\"attributes\":{\"children\":[{\"id\":\"1008\"},{\"id\":\"1011\"},{\"id\":\"1012\"},{\"id\":\"1013\"},{\"id\":\"1014\"},{\"id\":\"1017\"}],\"margin\":[0,0,0,0],\"min_width\":800,\"name\":\"Column00115\",\"width\":800},\"id\":\"1007\",\"type\":\"Column\"},{\"attributes\":{\"margin\":[5,10,5,10],\"max_length\":5000,\"placeholder\":\"Enter the name here...\",\"title\":\"Project name :\"},\"id\":\"1009\",\"type\":\"TextInput\"},{\"attributes\":{\"client_comm_id\":\"f6ba6029a21741fc936331577bb2f42f\",\"comm_id\":\"d4817d58194c4416b47245864d834f66\",\"plot_id\":\"1005\"},\"id\":\"1018\",\"type\":\"panel.models.comm_manager.CommManager\"},{\"attributes\":{\"background\":\"#E3ECF1\",\"children\":[{\"id\":\"1006\"},{\"id\":\"1007\"}],\"css_classes\":[\"panel-widget-box\"],\"margin\":[5,5,5,5],\"name\":\"WidgetBox00118\"},\"id\":\"1005\",\"type\":\"Column\"},{\"attributes\":{\"margin\":[5,10,5,10],\"max_length\":5000,\"placeholder\":\"Enter the directory path here...\",\"title\":\"Output directory :\"},\"id\":\"1010\",\"type\":\"TextInput\"}],\"root_ids\":[\"1005\",\"1018\"]},\"title\":\"Bokeh Application\",\"version\":\"2.3.3\"}};\n",
       "    var render_items = [{\"docid\":\"f1dde2f8-9a18-4669-9102-51b38bdf5d42\",\"root_ids\":[\"1005\"],\"roots\":{\"1005\":\"496af9fd-b4f2-4988-819f-6ead2607aac6\"}}];\n",
       "    root.Bokeh.embed.embed_items_notebook(docs_json, render_items);\n",
       "  }\n",
       "  if (root.Bokeh !== undefined && root.Bokeh.Panel !== undefined) {\n",
       "    embed_document(root);\n",
       "  } else {\n",
       "    var attempts = 0;\n",
       "    var timer = setInterval(function(root) {\n",
       "      if (root.Bokeh !== undefined && root.Bokeh.Panel !== undefined) {\n",
       "        clearInterval(timer);\n",
       "        embed_document(root);\n",
       "      } else if (document.readyState == \"complete\") {\n",
       "        attempts++;\n",
       "        if (attempts > 100) {\n",
       "          clearInterval(timer);\n",
       "          console.log(\"Bokeh: ERROR: Unable to run BokehJS code because BokehJS library is missing\");\n",
       "        }\n",
       "      }\n",
       "    }, 10, root)\n",
       "  }\n",
       "})(window);</script>"
      ],
      "text/plain": [
       "WidgetBox(background='#E3ECF1')\n",
       "    [0] Markdown(str)\n",
       "    [1] Column(width=800)\n",
       "        [0] Row\n",
       "            [0] TextInput(name='Project name :', placeholder='Enter the name here...')\n",
       "            [1] TextInput(name='Output directory :', placeholder='Enter the directory p...)\n",
       "        [1] TextInput(name='Fastq directory', placeholder='Enter the directory p...)\n",
       "        [2] TextInput(name='Group file', placeholder='Enter the file p...)\n",
       "        [3] TextInput(name='Reference file', placeholder='Enter the file p...)\n",
       "        [4] Row\n",
       "            [0] Button(button_type='primary', name='SAVE', width=100)\n",
       "            [1] Button(button_type='primary', name='INIT', width=100)\n",
       "        [5] Alert(str, alert_type='warning', css_classes=['alert', 'alert-warning']...], height=200, margin=(0, 0, 25, 0), sizing_mode='stretch_width')"
      ]
     },
     "metadata": {
      "application/vnd.holoviews_exec.v0+json": {
       "id": "1005"
      }
     },
     "output_type": "display_data"
    },
    {
     "data": {
      "text/html": [
       "<img src onerror=\"var cell = this.closest('.jp-CodeCell');var editor = cell.querySelector('.jp-Editor');editor.style.background='LightBlue';this.parentNode.removeChild(this)\">"
      ],
      "text/plain": [
       "<IPython.core.display.HTML object>"
      ]
     },
     "metadata": {},
     "output_type": "display_data"
    }
   ],
   "source": [
    "project_name, out_dir, ref_file, group_file, fastq_dir= box_config()\n",
    "bgc('LightBlue')"
   ]
  },
  {
   "cell_type": "markdown",
   "metadata": {},
   "source": [
    "### <span style=\"color: #919395\">_Creating frangiPANe output directory_<a class=\"anchor\" id=\"outputdirectory\"></a></span>\n",
    "\n",
    "<img src=\"Images/frangiPANe_output_tree.jpg\">\n",
    "\n",
    "Be careful : if the directory already exists, files and directory that were generated by previous analysis could be removed by new analysis steps\n",
    "\n",
    "In the log file,  all outputs generated by bioinformatics tools (eg: bwa index, mem, abyss) are saved"
   ]
  },
  {
   "cell_type": "code",
   "execution_count": null,
   "metadata": {},
   "outputs": [
    {
     "data": {},
     "metadata": {},
     "output_type": "display_data"
    },
    {
     "data": {
      "application/vnd.holoviews_exec.v0+json": "",
      "text/html": [
       "<div id='1019'>\n",
       "\n",
       "\n",
       "\n",
       "\n",
       "\n",
       "  <div class=\"bk-root\" id=\"e21110b0-7aa6-4f24-82dc-08dabc3f20c2\" data-root-id=\"1019\"></div>\n",
       "</div>\n",
       "<script type=\"application/javascript\">(function(root) {\n",
       "  function embed_document(root) {\n",
       "    var docs_json = {\"c93c5d95-49fc-41f8-9b72-c043ad04ec82\":{\"defs\":[],\"roots\":{\"references\":[{\"attributes\":{\"css_classes\":[\"alert\",\"alert-warning\",\"markdown\"],\"margin\":[0,0,25,0],\"name\":\"Alert00121\",\"sizing_mode\":\"stretch_width\",\"text\":\"&lt;h3&gt;warning&lt;/h3&gt;\\n&lt;hr&gt;\\n&lt;p&gt;Directory /home/christine/Documents/These/frangiPANeGIT/frangiPANe_rice already existed&lt;/p&gt;\"},\"id\":\"1019\",\"type\":\"panel.models.markup.HTML\"},{\"attributes\":{\"client_comm_id\":\"1d28dc64c73344179a1837a8c46597e6\",\"comm_id\":\"3fbe07849d354e719ffd58c6b89f7d9c\",\"plot_id\":\"1019\"},\"id\":\"1020\",\"type\":\"panel.models.comm_manager.CommManager\"}],\"root_ids\":[\"1019\",\"1020\"]},\"title\":\"Bokeh Application\",\"version\":\"2.3.3\"}};\n",
       "    var render_items = [{\"docid\":\"c93c5d95-49fc-41f8-9b72-c043ad04ec82\",\"root_ids\":[\"1019\"],\"roots\":{\"1019\":\"e21110b0-7aa6-4f24-82dc-08dabc3f20c2\"}}];\n",
       "    root.Bokeh.embed.embed_items_notebook(docs_json, render_items);\n",
       "  }\n",
       "  if (root.Bokeh !== undefined && root.Bokeh.Panel !== undefined) {\n",
       "    embed_document(root);\n",
       "  } else {\n",
       "    var attempts = 0;\n",
       "    var timer = setInterval(function(root) {\n",
       "      if (root.Bokeh !== undefined && root.Bokeh.Panel !== undefined) {\n",
       "        clearInterval(timer);\n",
       "        embed_document(root);\n",
       "      } else if (document.readyState == \"complete\") {\n",
       "        attempts++;\n",
       "        if (attempts > 100) {\n",
       "          clearInterval(timer);\n",
       "          console.log(\"Bokeh: ERROR: Unable to run BokehJS code because BokehJS library is missing\");\n",
       "        }\n",
       "      }\n",
       "    }, 10, root)\n",
       "  }\n",
       "})(window);</script>"
      ],
      "text/plain": [
       "Alert(str, alert_type='warning', css_classes=['alert', 'alert-warning']...], margin=(0, 0, 25, 0), sizing_mode='stretch_width')"
      ]
     },
     "metadata": {
      "application/vnd.holoviews_exec.v0+json": {
       "id": "1019"
      }
     },
     "output_type": "display_data"
    },
    {
     "data": {},
     "metadata": {},
     "output_type": "display_data"
    },
    {
     "data": {
      "application/vnd.holoviews_exec.v0+json": "",
      "text/html": [
       "<div id='1021'>\n",
       "\n",
       "\n",
       "\n",
       "\n",
       "\n",
       "  <div class=\"bk-root\" id=\"59256ebe-1923-451e-87d5-baeccbad8825\" data-root-id=\"1021\"></div>\n",
       "</div>\n",
       "<script type=\"application/javascript\">(function(root) {\n",
       "  function embed_document(root) {\n",
       "    var docs_json = {\"cf198b78-9f8f-41cc-9a69-694ca5677f4a\":{\"defs\":[],\"roots\":{\"references\":[{\"attributes\":{\"client_comm_id\":\"9cb8afb1cb3748c78c134589281b3aca\",\"comm_id\":\"f41aa3ab2f7b432dbc5ddc6ceab4b35a\",\"plot_id\":\"1021\"},\"id\":\"1022\",\"type\":\"panel.models.comm_manager.CommManager\"},{\"attributes\":{\"css_classes\":[\"alert\",\"alert-success\",\"markdown\"],\"margin\":[0,0,25,0],\"name\":\"Alert00125\",\"sizing_mode\":\"stretch_width\",\"text\":\"&lt;p&gt;Log /home/christine/Documents/These/frangiPANeGIT/frangiPANe_rice/frangiPANe_-20-10-2021_12:38:54.log created&lt;/p&gt;\"},\"id\":\"1021\",\"type\":\"panel.models.markup.HTML\"}],\"root_ids\":[\"1021\",\"1022\"]},\"title\":\"Bokeh Application\",\"version\":\"2.3.3\"}};\n",
       "    var render_items = [{\"docid\":\"cf198b78-9f8f-41cc-9a69-694ca5677f4a\",\"root_ids\":[\"1021\"],\"roots\":{\"1021\":\"59256ebe-1923-451e-87d5-baeccbad8825\"}}];\n",
       "    root.Bokeh.embed.embed_items_notebook(docs_json, render_items);\n",
       "  }\n",
       "  if (root.Bokeh !== undefined && root.Bokeh.Panel !== undefined) {\n",
       "    embed_document(root);\n",
       "  } else {\n",
       "    var attempts = 0;\n",
       "    var timer = setInterval(function(root) {\n",
       "      if (root.Bokeh !== undefined && root.Bokeh.Panel !== undefined) {\n",
       "        clearInterval(timer);\n",
       "        embed_document(root);\n",
       "      } else if (document.readyState == \"complete\") {\n",
       "        attempts++;\n",
       "        if (attempts > 100) {\n",
       "          clearInterval(timer);\n",
       "          console.log(\"Bokeh: ERROR: Unable to run BokehJS code because BokehJS library is missing\");\n",
       "        }\n",
       "      }\n",
       "    }, 10, root)\n",
       "  }\n",
       "})(window);</script>"
      ],
      "text/plain": [
       "Alert(str, alert_type='success', css_classes=['alert', 'alert-success']...], margin=(0, 0, 25, 0), sizing_mode='stretch_width')"
      ]
     },
     "metadata": {
      "application/vnd.holoviews_exec.v0+json": {
       "id": "1021"
      }
     },
     "output_type": "display_data"
    },
    {
     "data": {
      "text/html": [
       "<img src onerror=\"var cell = this.closest('.jp-CodeCell');var editor = cell.querySelector('.jp-Editor');editor.style.background='LightBlue';this.parentNode.removeChild(this)\">"
      ],
      "text/plain": [
       "<IPython.core.display.HTML object>"
      ]
     },
     "metadata": {},
     "output_type": "display_data"
    }
   ],
   "source": [
    "#output_dir=\"/home/christine/Documents/These/frangiPANeGIT/frangiPANe_rice\"\n",
    "output_dir = out_dir.value + \"/frangiPANe_\" + project_name.value\n",
    "make_dir(output_dir)\n",
    "logger = init_log(output_dir,project_name.value)\n",
    "bgc('LightBlue')"
   ]
  },
  {
   "cell_type": "code",
   "execution_count": 5,
   "metadata": {},
   "outputs": [],
   "source": [
    "#### TO REMOVE\n",
    "project_name=\"rice\"\n",
    "output_dir=\"/home/christine/Documents/These/frangiPANeGIT/frangiPANe_rice\"\n",
    "fastq_dir=\"/home/christine/Documents/These/frangiPANeGIT/rice/fastq\"\n",
    "group_file=\"/home/christine/Documents/These/frangiPANeGIT/rice/rice_group.txt\"\n",
    "ref_file=\"/home/christine/Documents/These/frangiPANeGIT/rice/OglaRS2ADWL02.12chronly.fa\""
   ]
  },
  {
   "cell_type": "markdown",
   "metadata": {},
   "source": [
    "### <span style=\"color: #919395\">_Preparing Genome Reference for next analysis_\n",
    "\n",
    "#### __Genome indexation__ and __Genome dashboard__\n",
    "\n",
    "This step is done with `bwa index` if index are absent. Indexation is required before performing reads mapping against genome reference."
   ]
  },
  {
   "cell_type": "code",
   "execution_count": null,
   "metadata": {},
   "outputs": [
    {
     "data": {},
     "metadata": {},
     "output_type": "display_data"
    },
    {
     "data": {
      "application/vnd.holoviews_exec.v0+json": "",
      "text/html": [
       "<div id='1023'>\n",
       "\n",
       "\n",
       "\n",
       "\n",
       "\n",
       "  <div class=\"bk-root\" id=\"86742cb4-df6d-4738-b80e-58ca3170c07f\" data-root-id=\"1023\"></div>\n",
       "</div>\n",
       "<script type=\"application/javascript\">(function(root) {\n",
       "  function embed_document(root) {\n",
       "    var docs_json = {\"c5526290-ef42-4595-b571-21f1d71c044a\":{\"defs\":[],\"roots\":{\"references\":[{\"attributes\":{\"css_classes\":[\"alert\",\"alert-info\",\"markdown\"],\"margin\":[0,0,25,0],\"name\":\"Alert00129\",\"sizing_mode\":\"stretch_width\",\"text\":\"&lt;p&gt;Searching index files for reference file /home/christine/Documents/These/frangiPANeGIT/rice/OglaRS2ADWL02.12chronly.fa&lt;/p&gt;\"},\"id\":\"1023\",\"type\":\"panel.models.markup.HTML\"},{\"attributes\":{\"client_comm_id\":\"0d83c51ae5bc429f946b7d2dba008ac9\",\"comm_id\":\"d6048adf89c44b6eba8adf8d26ebcab6\",\"plot_id\":\"1023\"},\"id\":\"1024\",\"type\":\"panel.models.comm_manager.CommManager\"}],\"root_ids\":[\"1023\",\"1024\"]},\"title\":\"Bokeh Application\",\"version\":\"2.3.3\"}};\n",
       "    var render_items = [{\"docid\":\"c5526290-ef42-4595-b571-21f1d71c044a\",\"root_ids\":[\"1023\"],\"roots\":{\"1023\":\"86742cb4-df6d-4738-b80e-58ca3170c07f\"}}];\n",
       "    root.Bokeh.embed.embed_items_notebook(docs_json, render_items);\n",
       "  }\n",
       "  if (root.Bokeh !== undefined && root.Bokeh.Panel !== undefined) {\n",
       "    embed_document(root);\n",
       "  } else {\n",
       "    var attempts = 0;\n",
       "    var timer = setInterval(function(root) {\n",
       "      if (root.Bokeh !== undefined && root.Bokeh.Panel !== undefined) {\n",
       "        clearInterval(timer);\n",
       "        embed_document(root);\n",
       "      } else if (document.readyState == \"complete\") {\n",
       "        attempts++;\n",
       "        if (attempts > 100) {\n",
       "          clearInterval(timer);\n",
       "          console.log(\"Bokeh: ERROR: Unable to run BokehJS code because BokehJS library is missing\");\n",
       "        }\n",
       "      }\n",
       "    }, 10, root)\n",
       "  }\n",
       "})(window);</script>"
      ],
      "text/plain": [
       "Alert(str, alert_type='info', css_classes=['alert', 'alert-info'], margin=(0, 0, 25, 0), sizing_mode='stretch_width')"
      ]
     },
     "metadata": {
      "application/vnd.holoviews_exec.v0+json": {
       "id": "1023"
      }
     },
     "output_type": "display_data"
    },
    {
     "data": {},
     "metadata": {},
     "output_type": "display_data"
    },
    {
     "data": {
      "application/vnd.holoviews_exec.v0+json": "",
      "text/html": [
       "<div id='1025'>\n",
       "\n",
       "\n",
       "\n",
       "\n",
       "\n",
       "  <div class=\"bk-root\" id=\"1627a58e-522b-4166-bfb3-fc063b5cf498\" data-root-id=\"1025\"></div>\n",
       "</div>\n",
       "<script type=\"application/javascript\">(function(root) {\n",
       "  function embed_document(root) {\n",
       "    var docs_json = {\"3e1a4733-d286-4c47-afd0-1edb64ea9e60\":{\"defs\":[],\"roots\":{\"references\":[{\"attributes\":{\"css_classes\":[\"alert\",\"alert-warning\",\"markdown\"],\"margin\":[0,0,25,0],\"name\":\"Alert00133\",\"sizing_mode\":\"stretch_width\",\"text\":\"&lt;p&gt;Index files already available (/home/christine/Documents/These/frangiPANeGIT/rice/OglaRS2ADWL02.12chronly.fa).... Skip Indexation Step&lt;/p&gt;\"},\"id\":\"1025\",\"type\":\"panel.models.markup.HTML\"},{\"attributes\":{\"client_comm_id\":\"496e05bb509646f59abc58591ca7d150\",\"comm_id\":\"bec55d806f7a4442b463e2d1ba998257\",\"plot_id\":\"1025\"},\"id\":\"1026\",\"type\":\"panel.models.comm_manager.CommManager\"}],\"root_ids\":[\"1025\",\"1026\"]},\"title\":\"Bokeh Application\",\"version\":\"2.3.3\"}};\n",
       "    var render_items = [{\"docid\":\"3e1a4733-d286-4c47-afd0-1edb64ea9e60\",\"root_ids\":[\"1025\"],\"roots\":{\"1025\":\"1627a58e-522b-4166-bfb3-fc063b5cf498\"}}];\n",
       "    root.Bokeh.embed.embed_items_notebook(docs_json, render_items);\n",
       "  }\n",
       "  if (root.Bokeh !== undefined && root.Bokeh.Panel !== undefined) {\n",
       "    embed_document(root);\n",
       "  } else {\n",
       "    var attempts = 0;\n",
       "    var timer = setInterval(function(root) {\n",
       "      if (root.Bokeh !== undefined && root.Bokeh.Panel !== undefined) {\n",
       "        clearInterval(timer);\n",
       "        embed_document(root);\n",
       "      } else if (document.readyState == \"complete\") {\n",
       "        attempts++;\n",
       "        if (attempts > 100) {\n",
       "          clearInterval(timer);\n",
       "          console.log(\"Bokeh: ERROR: Unable to run BokehJS code because BokehJS library is missing\");\n",
       "        }\n",
       "      }\n",
       "    }, 10, root)\n",
       "  }\n",
       "})(window);</script>"
      ],
      "text/plain": [
       "Alert(str, alert_type='warning', css_classes=['alert', 'alert-warning']...], margin=(0, 0, 25, 0), sizing_mode='stretch_width')"
      ]
     },
     "metadata": {
      "application/vnd.holoviews_exec.v0+json": {
       "id": "1025"
      }
     },
     "output_type": "display_data"
    },
    {
     "data": {},
     "metadata": {},
     "output_type": "display_data"
    },
    {
     "data": {
      "application/vnd.holoviews_exec.v0+json": "",
      "text/html": [
       "<div id='1027'>\n",
       "\n",
       "\n",
       "\n",
       "\n",
       "\n",
       "  <div class=\"bk-root\" id=\"0ea0c0bc-f3cd-4f0a-8174-7216fceeefdc\" data-root-id=\"1027\"></div>\n",
       "</div>\n",
       "<script type=\"application/javascript\">(function(root) {\n",
       "  function embed_document(root) {\n",
       "    var docs_json = {\"edf387b2-291e-43e5-b851-76f958a3264d\":{\"defs\":[],\"roots\":{\"references\":[{\"attributes\":{\"css_classes\":[\"markdown\"],\"margin\":[5,5,5,5],\"name\":\"Markdown00142\",\"text\":\"&lt;h1&gt;Reference genome file&lt;/h1&gt;\"},\"id\":\"1028\",\"type\":\"panel.models.markup.HTML\"},{\"attributes\":{\"children\":[{\"id\":\"1031\"},{\"id\":\"1032\"}],\"margin\":[0,0,0,0],\"name\":\"Row00141\"},\"id\":\"1030\",\"type\":\"Row\"},{\"attributes\":{\"margin\":[5,5,5,5],\"name\":\"DataFrame00137\",\"text\":\"&lt;table border=&quot;0&quot; class=&quot;dataframe panel-df&quot;&gt;\\n  &lt;thead&gt;\\n    &lt;tr style=&quot;text-align: right;&quot;&gt;\\n      &lt;th&gt;&lt;/th&gt;\\n      &lt;th&gt;chr&lt;/th&gt;\\n      &lt;th&gt;size&lt;/th&gt;\\n    &lt;/tr&gt;\\n  &lt;/thead&gt;\\n  &lt;tbody&gt;\\n    &lt;tr&gt;\\n      &lt;th&gt;0&lt;/th&gt;\\n      &lt;td&gt;Chr01&lt;/td&gt;\\n      &lt;td&gt;39.66&lt;/td&gt;\\n    &lt;/tr&gt;\\n    &lt;tr&gt;\\n      &lt;th&gt;1&lt;/th&gt;\\n      &lt;td&gt;Chr02&lt;/td&gt;\\n      &lt;td&gt;34.45&lt;/td&gt;\\n    &lt;/tr&gt;\\n    &lt;tr&gt;\\n      &lt;th&gt;2&lt;/th&gt;\\n      &lt;td&gt;Chr03&lt;/td&gt;\\n      &lt;td&gt;35.53&lt;/td&gt;\\n    &lt;/tr&gt;\\n    &lt;tr&gt;\\n      &lt;th&gt;3&lt;/th&gt;\\n      &lt;td&gt;Chr04&lt;/td&gt;\\n      &lt;td&gt;31.57&lt;/td&gt;\\n    &lt;/tr&gt;\\n    &lt;tr&gt;\\n      &lt;th&gt;4&lt;/th&gt;\\n      &lt;td&gt;Chr05&lt;/td&gt;\\n      &lt;td&gt;26.27&lt;/td&gt;\\n    &lt;/tr&gt;\\n    &lt;tr&gt;\\n      &lt;th&gt;5&lt;/th&gt;\\n      &lt;td&gt;Chr06&lt;/td&gt;\\n      &lt;td&gt;29.28&lt;/td&gt;\\n    &lt;/tr&gt;\\n    &lt;tr&gt;\\n      &lt;th&gt;6&lt;/th&gt;\\n      &lt;td&gt;Chr07&lt;/td&gt;\\n      &lt;td&gt;26.60&lt;/td&gt;\\n    &lt;/tr&gt;\\n    &lt;tr&gt;\\n      &lt;th&gt;7&lt;/th&gt;\\n      &lt;td&gt;Chr08&lt;/td&gt;\\n      &lt;td&gt;25.47&lt;/td&gt;\\n    &lt;/tr&gt;\\n    &lt;tr&gt;\\n      &lt;th&gt;8&lt;/th&gt;\\n      &lt;td&gt;Chr09&lt;/td&gt;\\n      &lt;td&gt;21.80&lt;/td&gt;\\n    &lt;/tr&gt;\\n    &lt;tr&gt;\\n      &lt;th&gt;9&lt;/th&gt;\\n      &lt;td&gt;Chr10&lt;/td&gt;\\n      &lt;td&gt;22.42&lt;/td&gt;\\n    &lt;/tr&gt;\\n    &lt;tr&gt;\\n      &lt;th&gt;10&lt;/th&gt;\\n      &lt;td&gt;Chr11&lt;/td&gt;\\n      &lt;td&gt;26.39&lt;/td&gt;\\n    &lt;/tr&gt;\\n    &lt;tr&gt;\\n      &lt;th&gt;11&lt;/th&gt;\\n      &lt;td&gt;Chr12&lt;/td&gt;\\n      &lt;td&gt;25.02&lt;/td&gt;\\n    &lt;/tr&gt;\\n  &lt;/tbody&gt;\\n&lt;/table&gt;\"},\"id\":\"1032\",\"type\":\"panel.models.markup.HTML\"},{\"attributes\":{\"height\":432,\"margin\":[5,5,5,5],\"name\":\"Matplotlib00139\",\"text\":\"&lt;img src=&quot;data:image/png;base64,iVBORw0KGgoAAAANSUhEUgAABIAAAANgCAYAAABUSxNWAAAAOXRFWHRTb2Z0d2FyZQBNYXRwbG90bGliIHZlcnNpb24zLjQuMywgaHR0cHM6Ly9tYXRwbG90bGliLm9yZy/MnkTPAAAACXBIWXMAABYlAAAWJQFJUiTwAAA9VklEQVR4nO3de5h253w3/O9PbrFJm0Rik1epSG0S+qKJPU0iVBO1F0+9bRUVWrQaxNNWi2h5D16PqqDUplKhDW8UfWyrIoJQlZQ0dqnGbVcRERKyoYnz+WOt0TFm7nvuybWZ65zP5ziuY8211rmu9Ztfrsx9zXfWOle11gIAAABAv64x7wIAAAAAmC4BEAAAAEDnBEAAAAAAnRMAAQAAAHROAAQAAADQOQEQAAAAQOcEQAAAAACdEwABAAAAdE4ABAAAANA5ARAAAABA5wRAAAAAAJ0TAAEAAAB0TgAEAAAA0DkBEAAAAEDnBEAAAAAAnRMAAQAAAHROAAQAAADQOQEQAAAAQOcEQAAAAACdEwABAAAAdE4ABAAAANA5ARAAAABA5wRAAAAAAJ0TAAEAAAB0TgAEAAAA0DkBEAAAAEDnBEAAAAAAnRMAAQAAAHROAAQAAADQOQEQAAAAQOcEQAAAAACdEwABAAAAdE4ABAAAANA5ARAAAABA5wRAAAAAAJ0TAAEAAAB0TgAEAAAA0DkBEAAAAEDnBEAAAAAAnRMAAQAAAHROAAQAAADQOQEQAAAAQOcEQAAAAACdEwABAAAAdE4ABAAAANA5ARAAAABA5wRAAAAAAJ0TAAEAAAB0TgAEAAAA0DkBEAAAAEDnBEAAAAAAnRMAAQAAAHROAAQAAADQOQEQAAAAQOcEQAAAAACdEwABAAAAdE4ABAAAANA5ARAAAABA5wRAAAAAAJ0TAAEAAAB0TgAEAAAA0DkBEAAAAEDnBEAAAAAAnRMAAQAAAHROAAQAAADQOQEQAAAAQOcEQAAAAACdEwABAAAAdE4ABAAAANA5ARAAAABA5wRAAAAAAJ0TAAEAAAB0TgAEAAAA0DkBEAAAAEDnBEAAAAAAnRMAAQAAAHROAAQAAADQOQEQAAAAQOcEQAAAAACdEwABAAAAdE4ABAAAANA5ARAAAABA5wRAAAAAAJ0TAAEAAAB0TgAEAAAA0DkBEAAAAEDnBEAAAAAAnRMAAQAAAHROAAQAAADQOQEQAAAAQOcEQAAAAACdEwABAAAAdE4ABAAAANA5ARAAAABA5wRAAAAAAJ0TAAEAAAB0TgAEAAAA0DkBEAAAAEDnBEAAAAAAnRMAAQAAAHROAAQAAADQOQEQAAAAQOe2zbsAFldVfTHJnkm2z7kUAAAAJm//JJe01m4+70K4+gRAXB17Xuc619nnoIMO2mfehQAAADBZn/3sZ3P55ZfPuwwmRADE1bH9oIMO2ufMM8+cdx0AAABM2CGHHJKzzjpr+7zrYDLMAQQAAADQOQEQAAAAQOcEQAAAAACdEwABAAAAdE4ABAAAANA5ARAAAABA5wRAAAAAAJ0TAAEAAAB0TgAEAAAA0DkBEAAAAEDnBEAAAAAAnRMAAQAAAHROAAQAAADQOQEQAAAAQOcEQAAAAACdEwABAAAAdE4ABAAAANA5AdACq6pHVlUbH8esMebuVfWuqrqoqi6rqrOr6tiq2m3W9QIAAADzIQBaUFV10yQvTfK9HYx5UJLTkxya5K1JXp5k9yQvTnLyDMoEAAAANgEB0AKqqkryuiTfSvLKNcbsmeTVSa5Kcnhr7bGttacnuUOSjyY5uqoeMZuKAQAAgHkSAC2mJyc5Isljkly6xpijk9wgycmttU8srWytXZHkT8anT5hmkQAAAMDmIABaMFV1UJLnJ3lJa+30HQw9Yly+Z5Vtpye5LMndq+paEy4RAAAA2GS2zbsA1q+qtiU5KcmXkzxjJ8NvPS7PXbmhtXZlVX0xyW2THJDkszs57plrbDpwJzUAAAAAm4AAaLE8K8kvJLlna+3ynYzda1xevMb2pfV7T6AuAAAAYBMTAC2IqrpzhrN+XtRa++gkXnJctp0NbK0dskZNZyY5eAK1AAAAAFNkDqAFsOzSr3OTPHOduy2d4bPXGtv3XDEOAAAA6JQAaDH8VJJbJTkoyRVV1ZYeSZ49jnn1uO4vxuefH5e3WvliY6B08yRXJjlvqpUDAAAAc+cSsMXw/SSvXWPbwRnmBfpwhtBn6fKwU5P8epIjk/zdin0OTXLdJKe31r4/8WoBAACATUUAtADGCZ+PWW1bVR2fIQD6m9baa5ZtOiXJC5I8oqpe2lr7xDj+2kmeO455xdSKBgAAADYNAVCnWmuXVNXjMgRBp1XVyUkuSvLADLeIPyXJm6ZZwzdf8YZpvvymc4Mn/Ma8SwAAAIBVmQOoY621tyU5LMnpSR6W5PeS/FeSpyZ5RGttp3cAAwAAABafM4AWXGvt+CTH72D7R5Lcb1b1AAAAAJuPM4AAAAAAOicAAgAAAOicAAgAAACgcwIgAAAAgM4JgAAAAAA6JwACAAAA6JwACAAAAKBzAiAAAACAzgmAAAAAADonAAIAAADonAAIAAAAoHMCIAAAAIDOCYAAAAAAOicAAgAAAOicAAgAAACgcwIgAAAAgM4JgAAAAAA6JwACAAAA6JwACAAAAKBzAiAAAACAzgmAAAAAADonAAIAAADonAAIAAAAoHMCIAAAAIDOCYAAAAAAOicAAgAAAOicAAgAAACgcwIgAAAAgM4JgAAAAAA6JwACAAAA6JwACAAAAKBzAiAAAACAzgmAAAAAADonAAIAAADonAAIAAAAoHMCIAAAAIDOCYAAAAAAOicAAgAAAOicAAgAAACgcwIgAAAAgM4JgAAAAAA6JwACAAAA6JwACAAAAKBzAiAAAACAzgmAAAAAADonAAIAAADonAAIAAAAoHMCIAAAAIDOCYAAAAAAOicAAgAAAOicAAgAAACgcwIgAAAAgM4JgAAAAAA6JwACAAAA6JwACAAAAKBzAiAAAACAzgmAAAAAADonAAIAAADonAAIAAAAoHMCIAAAAIDOCYAAAAAAOrdt3gUArNd7X3u/eZcwU7/82HfNuwQAAKATzgACAAAA6JwAaIFU1Quq6v1V9ZWquryqLqqqf62qZ1fVvivG7l9VbQePk+f1fQAAAACz5RKwxfKUJGcleV+SC5LskeSuSY5P8viqumtr7Ssr9vlUkret8lrnTK9MAAAAYDMRAC2WPVtrV6xcWVXPS/KMJH+U5IkrNn+ytXb8DGoDAAAANimXgC2Q1cKf0ZvH5S1nVQsAAACwOJwB1IcHjMuzV9l246r67ST7JvlWko+21lYbBwAAAHRKALSAquq4JD+VZK8kd0xyzwzhz/NXGf5L42P5/qcleVRr7cvTrRQAAADYDARAi+m4JDda9vw9SR7dWvvmsnWXJfmzDBNAnzeuu12GCaPvleT9VXWH1tqlOztYVZ25xqYDd61sAAAAYB7MAbSAWmv7tdYqyX5JHprkgCT/WlUHLxtzQWvtWa21s1pr3xkfpye5b5J/TnKLJMfMo34AAABgtgRAC6y19o3W2lszhDr7Jnn9Ova5MslrxqeHrvM4h6z2SPK5jdYOAAAAzI4AqAOttS8l+UyS21bV9dexy9KlYntMryoAAABgsxAA9ePG4/KqdYy967g8b4ejAAAAgC4IgBZEVR1YVfutsv4aVfW8JDdMckZr7dvj+rtU1e6rjD8iyVPGp2+YZs0AAADA5uAuYIvjyCQvrKrTk/xHkm9luBPYYRkmgT4/yeOWjX9BhkvCTkvy1XHd7ZIcMX79zNbaGTOoGwAAAJgzAdDi+Kckr0pyjyS3T7J3kkuTnJvkpCQntNYuWjb+pCQPSXKnJEcluWaSbyR5c5KXtdY+NLPKAQAAgLkSAC2I1to5SZ60C+Nfm+S106sIAAAAWBQCINgEvnzC0fMuYWZ+9smnzLsEAACALcck0AAAAACdEwABAAAAdE4ABAAAANA5ARAAAABA5wRAAAAAAJ0TAAEAAAB0TgAEAAAA0DkBEAAAAEDnBEAAAAAAnRMAAQAAAHROAAQAAADQOQEQAAAAQOcEQAAAAACdEwABAAAAdE4ABAAAANA5ARAAAABA5wRAAAAAAJ0TAAEAAAB0TgAEAAAA0DkBEAAAAEDnBEAAAAAAnRMAAQAAAHROAAQAAADQOQEQAAAAQOcEQAAAAACdEwABAAAAdE4ABAAAANA5ARAAAABA5wRAAAAAAJ0TAAEAAAB0TgAEAAAA0DkBEAAAAEDnBEAAAAAAnRMAAQAAAHROAAQAAADQOQEQAAAAQOcEQAAAAACdEwABAAAAdE4ABAAAANA5ARAAAABA5wRAAAAAAJ0TAAEAAAB0TgAEAAAA0DkBEAAAAEDnts27AAAm769O+uV5lzAzv/3I9867BAAA2PScAQQAAADQOQEQAAAAQOcEQAAAAACdEwABAAAAdE4ABAAAANA5ARAAAABA5wRAAAAAAJ0TAAEAAAB0TgAEAAAA0DkBEAAAAEDnBEAAAAAAnRMAAQAAAHROAAQAAADQOQEQAAAAQOcEQAAAAACdEwABAAAAdE4ABAAAANA5ARAAAABA5wRAC6SqXlBV76+qr1TV5VV1UVX9a1U9u6r2XWOfu1fVu8axl1XV2VV1bFXtNuv6AQAAgPkQAC2WpyTZI8n7krwkyRuTXJnk+CRnV9VNlw+uqgclOT3JoUnemuTlSXZP8uIkJ8+sagAAAGCuts27AHbJnq21K1aurKrnJXlGkj9K8sRx3Z5JXp3kqiSHt9Y+Ma5/ZpJTkxxdVY9orQmCAAAAoHPOAFogq4U/ozePy1suW3d0khskOXkp/Fn2Gn8yPn3CxIsEAAAANh0BUB8eMC7PXrbuiHH5nlXGn57ksiR3r6prTbMwAAAAYP5cAraAquq4JD+VZK8kd0xyzwzhz/OXDbv1uDx35f6ttSur6otJbpvkgCSf3cnxzlxj04G7VjkAAAAwDwKgxXRckhste/6eJI9urX1z2bq9xuXFa7zG0vq9J1saAAAAsNkIgBZQa22/JKmqGyW5e4Yzf/61qu7fWjtrnS9TSy+3juMdsuoLDGcGHbzO4wEAAABzYg6gBdZa+0Zr7a1J7ptk3ySvX7Z56QyfvX5ix8GeK8YBAAAAnRIAdaC19qUkn0ly26q6/rj68+PyVivHV9W2JDdPcmWS82ZSJAAAADA3AqB+3HhcXjUuTx2XR64y9tAk101yRmvt+9MuDAAAAJgvAdCCqKoDq2q/VdZfo6qel+SGGQKdb4+bTklyYZJHVNUdl42/dpLnjk9fMeWyAQAAgE3AJNCL48gkL6yq05P8R5JvZbgT2GEZbuV+fpLHLQ1urV1SVY/LEASdVlUnJ7koyQMz3CL+lCRvmul3AAAAAMyFAGhx/FOSVyW5R5LbZ7h9+6VJzk1yUpITWmsXLd+htfa2qjosyR8neViSayf5QpKnjuN3egcwAAAAYPEJgBZEa+2cJE/awH4fSXK/yVcEAAAALApzAAEAAAB0TgAEAAAA0DmXgAEAO/Qrb33hvEuYqXc+5OnzLgEAYOKcAQQAAADQOQEQAAAAQOcEQAAAAACdEwABAAAAdE4ABAAAANA5ARAAAABA5wRAAAAAAJ0TAAEAAAB0TgAEAAAA0DkBEAAAAEDnBEAAAAAAnRMAAQAAAHROAAQAAADQOQEQAAAAQOcEQAAAAACdEwABAAAAdE4ABAAAANA5ARAAAABA5wRAAAAAAJ0TAAEAAAB0TgAEAAAA0DkBEAAAAEDnBEAAAAAAnRMAAQAAAHROAAQAAADQOQEQAAAAQOcEQAAAAACdEwABAAAAdE4ABAAAANA5ARAAAABA5wRAAAAAAJ0TAAEAAAB0TgAEAAAA0DkBEAAAAEDnBEAAAAAAnRMAAQAAAHROAAQAAADQOQEQAAAAQOcEQAAAAACdEwABAAAAdE4ABAAAANC5bfMuAACgF/c/5Y3zLmFm3nH0r8+7BABgFzgDCAAAAKBzAiAAAACAzgmAAAAAADpnDiAAAIAtYPtfnD/vEmZq/2P3m3cJsKkIgADYsh7z1iPnXcJMve4h75l3CQAAzIlLwAAAAAA6JwACAAAA6JwACAAAAKBzAiAAAACAzgmAAAAAADonAAIAAADonAAIAAAAoHMCIAAAAIDOCYAAAAAAOicAAgAAAOicAAgAAACgcwIgAAAAgM5tm3cBAABsLQ8+5f3zLmGm3nb0veddAgA4A2hRVNW+VXVMVb21qr5QVZdX1cVV9eGqemxVXWPF+P2rqu3gcfK8vhcAAABgtpwBtDgenuQVSb6e5ANJvpzkRkkemuQ1SY6qqoe31tqK/T6V5G2rvN450ysVAAAA2EwEQIvj3CQPTPLO1toPl1ZW1TOSfDzJwzKEQW9Zsd8nW2vHz6pIAAAAYPNxCdiCaK2d2lr738vDn3H9+UleOT49fOaFAQAAAJueM4D68F/j8spVtt24qn47yb5JvpXko621s2dWGQAAADB3AqAFV1Xbkvzm+PQ9qwz5pfGxfJ/TkjyqtfbldR7jzDU2HbjOMgEAAIA5EgAtvucn+fkk72qtvXfZ+suS/FmGCaDPG9fdLsnxSe6V5P1VdYfW2qWzKxUAAGDz+8ZLPjrvEmbmRr9/t3mXwIwIgBZYVT05ydOSfC7JI5dva61dkORZK3Y5varum+TDSe6S5JgkL9nZcVprh6xx/DOTHLzrlQMAAACzZBLoBVVVT8oQ3nwmyb1aaxetZ7/W2pUZbhufJIdOqTwAAABgExEALaCqOjbJy5KckyH8OX8XX+Kb43KPSdYFAAAAbE4CoAVTVX+Q5MVJPpkh/LlgAy9z13F53g5HAQAAAF0QAC2Qqnpmhkmfz0xy79bahTsYe5eq2n2V9Uckecr49A1TKRQAAADYVEwCvSCq6lFJ/jTJVUk+lOTJVbVy2PbW2onj1y9Ictvxlu9fHdfdLskR49fPbK2dMc2aAQAAgM1BALQ4bj4ud0ty7BpjPpjkxPHrk5I8JMmdkhyV5JpJvpHkzUle1lr70LQKBQAAADYXAdCCaK0dn+T4XRj/2iSvnVY9AAAAwOIwBxAAAABA5wRAAAAAAJ0TAAEAAAB0TgAEAAAA0DkBEAAAAEDnBEAAAAAAnRMAAQAAAHROAAQAAADQOQEQAAAAQOcEQAAAAACdEwABAAAAdE4ABAAAANA5ARAAAABA5wRAAAAAAJ0TAAEAAAB0TgAEAAAA0DkBEAAAAEDnBEAAAAAAnRMAAQAAAHROAAQAAADQOQEQAAAAQOcEQAAAAACdEwABAAAAdE4ABAAAANA5ARAAAABA5wRAAAAAAJ0TAAEAAAB0TgAEAAAA0DkBEAAAAEDnBEAAAAAAnRMAAQAAAHROAAQAAADQuW3zLgAAAODqePebLpx3CTN11K9ef94lAAvIGUAAAAAAnRMAAQAAAHROAAQAAADQOQEQAAAAQOcEQAAAAACdEwABAAAAdE4ABAAAANA5ARAAAABA57bNu4DeVNUNkjwsyUFJ9mitHbNs/c2T/Ftr7fI5lggAAABsMQKgCaqqxyY5Icm1k1SSluSYcfONknw0yeOTvHYuBQIAsFCe/NavzLuEmTnhITeddwkAXXMJ2IRU1S8leVWSc5M8JMkrlm9vrZ2T5NNJHjzz4gAAAIAtzRlAk/MHSb6e5LDW2iVV9QurjDk7yd1mWxYAAACw1TkDaHLumOQdrbVLdjDmq0n2m1E9AAAAAEkEQJO0e5JLdzJm7yRXTb8UAAAAgP8mAJqc7UkO2cmYuyT5/PRLAQAAAPhvAqDJeXuSX6yqh6+2saoek+R2Sd4y06oAAACALc8k0JPz/yV5RJK/q6qjk+yVJFX1u0l+MclDk/x7kpfOrUIAAABgSxIATUhr7dtVdViS1ydZfhbQCePyQ0l+rbW2s3mCAAAAACZKADRBrbUvJzm8qm6X4Xbv+ya5OMnHWmtnzrU4AAAAYMsSAE1Ba+3sJGfPuw4AAACAxCTQE1NVz6qq46pq9x2MOayqnjXLugAAAAAEQJNzfJIXJDm1qvZdY8zhSZ49q4IAAAAAEgHQpH0xyd2TfLSqbjHvYgAAAAASAdCkvT7JbyW5WYYQ6J5zrgcAAABAADRprbUTk9wvyTWTvK+qHjHfigAAAICtTgA0Ba2192e4FOwbSd5YVc+Yc0kAAADAFuY28FPSWvtMVd0lyTuS/FlV/VySr8+5LAAAAGALEgBNUWvtG1V1aJK/S/KYJJfPuSQAAABgC3IJ2JS11i5P8pAkJyS5zpzLAQAAALYgZwBNSGttzTCttdaSHFtVb0xy3dlVBQAAAOAMoJlqrf1La+2DG9m3qvatqmOq6q1V9YWquryqLq6qD1fVY6tq1f+WVXX3qnpXVV1UVZdV1dlVdWxV7Xb1vhsAAABgUTgDaHE8PMkrMkwk/YEkX05yoyQPTfKaJEdV1cPHs42SJFX1oCRvSXJFkjcluSjJA5K8OMk9xtcEAAAAOicA2qCq+mGSHya5TWvt3PF528luyXBF2Eb6fm6SByZ5Z2vth8vqeEaSjyd5WIYw6C3j+j2TvDrJVUkOb619Ylz/zCSnJjm6qh7RWjt5A7UAAAAAC0QAtHGnZwh8LlvxfCpaa6eusf78qnplkuclOTxjAJTk6CQ3SPL6pfBnHH9FVf1JkvcneUISARAAAAB0TgC0Qa21w3f0fMb+a1xeuWzdEePyPauMPz1DcHX3qrpWa+370ywOAAAAmC+TQE9ZVV2/qh5SVb88jYmXq2pbkt8cny4Pe249Ls9duU9r7cokX8wQAB4w6ZoAAACAzcUZQBNSVU9I8ugkR7XWLhrXHZIhlNlnHPaJqjqitXbpBA/9/CQ/n+RdrbX3Llu/17i8eI39ltbvvbMDVNWZa2w6cD0FAgAAAPPlDKDJ+dUMEzxftGzdC5NcL8nrkrwryZ2S/M6kDlhVT07ytCSfS/LIXd19XE5t3iIAAABgc3AG0OTcMsk7l55U1fWTHJbkNa213x7X/XOSX0vyoqt7sKp6UpKXJPlMknuvCJ6S/z7DZ6+sbs8V49bUWjtkjRrOTHLwzqsFAAAA5skZQJOzb5ILlj2/x7h867J1H0pys6t7oKo6NsnLkpyT5F6ttfNXGfb5cXmrVfbfluTmGSaNPu/q1gMAAABsbgKgybkoyfWXPT8syQ+TnLFsXUty7atzkKr6gyQvTvLJDOHPBWsMXbpt/JGrbDs0yXWTnOEOYAAAANA/AdDkfDbJA6pq36raO8OcQP/SWrtk2Zj9k6x2ts66VNUzM0z6fGaGy74u3MHwU5JcmOQRVXXHZa9x7STPHZ++YqO1AAAAAIvDHECT85Ikb0vy1QyXVl03yR8sbRxvAX/P/PgZQetWVY9K8qdJrspwKdmTq2rlsO2ttROTpLV2SVU9LkMQdFpVnZzhLKUHZrhF/ClJ3rSRWgAAAIDFIgCakNbaP1TV7yR5/Ljqja21Nywbcp8Ml3+99yd2Xp+bj8vdkhy7xpgPJjlxWU1vq6rDkvxxkoeNx/9CkqcmOaG15g5gAAAAsAUIgCaotfaqJK9aY9t7M9wSfqOvfXyS4zew30eS3G+jxwUAAAAWnzmAAAAAADonAAIAAADonAAIAAAAoHMCIAAAAIDOCYAAAAAAOicAAgAAAOicAAgAAACgcwIgAAAAgM4JgAAAAAA6JwACAAAA6JwACAAAAKBzAiAAAACAzgmAAAAAADonAAIAAADonAAIAAAAoHMCIAAAAIDOCYAAAAAAOicAAgAAAOicAAgAAACgcwIgAAAAgM4JgAAAAAA6JwACAAAA6JwACAAAAKBzAiAAAACAzgmAAAAAADonAAIAAADonAAIAAAAoHMCIAAAAIDOCYAAAAAAOicAAgAAAOicAAgAAACgcwIgAAAAgM4JgAAAAAA6JwACAAAA6JwACAAAAKBzAiAAAACAzgmAAAAAADonAAIAAADonAAIAAAAoHMCIAAAAIDOCYAAAAAAOicAAgAAAOicAAgAAACgcwIgAAAAgM4JgAAAAAA6JwACAAAA6JwACAAAAKBzAiAAAACAzgmAAAAAADonAAIAAADonAAIAAAAoHMCIAAAAIDOCYAAAAAAOicAAgAAAOicAAgAAACgcwIgAAAAgM4JgAAAAAA6JwACAAAA6JwACAAAAKBzAiAAAACAzgmAAAAAADonAAIAAADonAAIAAAAoHMCIAAAAIDOCYAWSFUdXVUvraoPVdUlVdWq6g1rjN1/3L7W4+RZ1w8AAADMx7Z5F8Au+ZMkt0/yvSRfTXLgOvb5VJK3rbL+nMmVBQAAAGxmAqDF8pQMwc8XkhyW5APr2OeTrbXjp1kUAAAAsLkJgBZIa+1HgU9VzbMUAAAAYIEIgPp346r67ST7JvlWko+21s6ec00AAADADAmA+vdL4+NHquq0JI9qrX15PS9QVWeusWk9cxABAAAAc+YuYP26LMmfJTkkyfXGx9K8QYcneX9V7TG36gAAAICZcQZQp1prFyR51orVp1fVfZN8OMldkhyT5CXreK1DVls/nhl08NUsFQAAAJgyZwBtMa21K5O8Znx66DxrAQAAAGZDALQ1fXNcugQMAAAAtgAB0NZ013F53lyrAAAAAGZCANSpqrpLVe2+yvojkjxlfPqG2VYFAAAAzINJoBdIVT04yYPHp/uNy7tV1Ynj1xe21o4bv35BktuOt3z/6rjudkmOGL9+ZmvtjGnWCwAAAGwOAqDFcockj1qx7oDxkSRfSrIUAJ2U5CFJ7pTkqCTXTPKNJG9O8rLW2oemXSwAAACwOQiAFkhr7fgkx69z7GuTvHaa9QAAAACLwRxAAAAAAJ0TAAEAAAB0TgAEAAAA0DkBEAAAAEDnBEAAAAAAnRMAAQAAAHROAAQAAADQOQEQAAAAQOcEQAAAAACdEwABAAAAdE4ABAAAANA5ARAAAABA5wRAAAAAAJ0TAAEAAAB0TgAEAAAA0DkBEAAAAEDnBEAAAAAAnRMAAQAAAHROAAQAAADQOQEQAAAAQOcEQAAAAACdEwABAAAAdE4ABAAAANA5ARAAAABA5wRAAAAAAJ0TAAEAAAB0TgAEAAAA0DkBEAAAAEDnBEAAAAAAnRMAAQAAAHROAAQAAADQOQEQAAAAQOcEQAAAAACdEwABAAAAdE4ABAAAANA5ARAAAABA5wRAAAAAAJ0TAAEAAAB0TgAEAAAA0DkBEAAAAEDnBEAAAAAAnRMAAQAAAHROAAQAAADQOQEQAAAAQOcEQAAAAACdEwABAAAAdE4ABAAAANA5ARAAAABA5wRAAAAAAJ0TAAEAAAB0TgAEAAAA0DkBEAAAAEDnBEAAAAAAnRMAAQAAAHROAAQAAADQOQEQAAAAQOcEQAAAAACdEwABAAAAdE4ABAAAANA5ARAAAABA5wRAAAAAAJ0TAAEAAAB0TgAEAAAA0DkB0AKpqqOr6qVV9aGquqSqWlW9YSf73L2q3lVVF1XVZVV1dlUdW1W7zapuAAAAYL62zbsAdsmfJLl9ku8l+WqSA3c0uKoelOQtSa5I8qYkFyV5QJIXJ7lHkodPs1gAAABgc3AG0GJ5SpJbJdkzyRN2NLCq9kzy6iRXJTm8tfbY1trTk9whyUeTHF1Vj5huuQAAAMBmIABaIK21D7TW/r211tYx/OgkN0hycmvtE8te44oMZxIlOwmRAAAAgD4IgPp1xLh8zyrbTk9yWZK7V9W1ZlcSAAAAMA/mAOrXrcfluSs3tNaurKovJrltkgOSfHZHL1RVZ66xaYdzEAEAAACbgzOA+rXXuLx4je1L6/eefikAAADAPDkDaOuqcbnT+YRaa4es+gLDmUEHT7IoAAAAYPKcAdSvpTN89lpj+54rxgEAAACdEgD16/Pj8lYrN1TVtiQ3T3JlkvNmWRQAAAAwewKgfp06Lo9cZduhSa6b5IzW2vdnVxIAAAAwDwKgfp2S5MIkj6iqOy6trKprJ3nu+PQV8ygMAAAAmC2TQC+QqnpwkgePT/cbl3erqhPHry9srR2XJK21S6rqcRmCoNOq6uQkFyV5YIZbxJ+S5E2zqRwAAACYJwHQYrlDkketWHfA+EiSLyU5bmlDa+1tVXVYkj9O8rAk107yhSRPTXJCa22ndwADAAAAFp8AaIG01o5Pcvwu7vORJPebRj0AAADAYjAHEAAAAEDnBEAAAAAAnRMAAQAAAHROAAQAAADQOQEQAAAAQOcEQAAAAACdEwABAAAAdE4ABAAAANA5ARAAAABA5wRAAAAAAJ0TAAEAAAB0TgAEAAAA0DkBEAAAAEDnBEAAAAAAnRMAAQAAAHROAAQAAADQOQEQAAAAQOcEQAAAAACdEwABAAAAdE4ABAAAANA5ARAAAABA5wRAAAAAAJ0TAAEAAAB0TgAEAAAA0DkBEAAAAEDnBEAAAAAAnRMAAQAAAHROAAQAAADQOQEQAAAAQOcEQAAAAACdEwABAAAAdE4ABAAAANA5ARAAAABA5wRAAAAAAJ0TAAEAAAB0TgAEAAAA0DkBEAAAAEDnBEAAAAAAnRMAAQAAAHROAAQAAADQOQEQAAAAQOcEQAAAAACdEwABAAAAdE4ABAAAANA5ARAAAABA5wRAAAAAAJ0TAAEAAAB0TgAEAAAA0DkBEAAAAEDnBEAAAAAAnRMAAQAAAHROAAQAAADQOQEQAAAAQOcEQAAAAACdEwABAAAAdE4ABAAAANA5ARAAAABA5wRAAAAAAJ0TAAEAAAB0TgAEAAAA0DkBEAAAAEDnBEAAAAAAnRMAAQAAAHROANS5qtpeVW2Nx/nzrg8AAACYvm3zLoCZuDjJX6yy/nszrgMAAACYAwHQ1vCd1trx8y4CAAAAmA+XgAEAAAB0zhlAW8O1quo3kvxskkuTnJ3k9NbaVfMtCwAAAJgFAdDWsF+Sk1as+2JVPaa19sF5FAQAAADMjgCof69L8qEkn07y3SQHJPndJI9P8u6qultr7VM7eoGqOnONTQdOslAAAABgOgRAnWutPWfFqnOS/E5VfS/J05Icn+Qhs64LAAAAmB0B0Nb1ygwB0KE7G9haO2S19eOZQQdPuC4AAABgwtwFbOu6YFzuMdcqAAAAgKkTAG1ddxuX5821CgAAAGDqBEAdq6rbVtU+q6y/WZKXjU/fMNuqAAAAgFkzB1DfHp7kD6vqA0m+mOEuYD+X5FeSXDvJu5L8r/mVBwAAAMyCAKhvH0hy6yS/kOGSrz2SfCfJh5OclOSk1lqbW3UAAADATAiAOtZa+2CSD867DgAAAGC+zAEEAAAA0DkBEAAAAEDnBEAAAAAAnRMAAQAAAHROAAQAAADQOQEQAAAAQOcEQAAAAACdEwABAAAAdE4ABAAAANA5ARAAAABA5wRAAAAAAJ0TAAEAAAB0TgAEAAAA0DkBEAAAAEDnBEAAAAAAnRMAAQAAAHROAAQAAADQOQEQAAAAQOcEQAAAAACdEwABAAAAdE4ABAAAANA5ARAAAABA5wRAAAAAAJ0TAAEAAAB0TgAEAAAA0DkBEAAAAEDnBEAAAAAAnRMAAQAAAHROAAQAAADQOQEQAAAAQOcEQAAAAACdEwABAAAAdE4ABAAAANA5ARAAAABA5wRAAAAAAJ0TAAEAAAB0TgAEAAAA0DkBEAAAAEDnBEAAAAAAnRMAAQAAAHROAAQAAADQOQEQAAAAQOcEQAAAAACdEwABAAAAdE4ABAAAANA5ARAAAABA5wRAAAAAAJ0TAAEAAAB0TgAEAAAA0DkBEAAAAEDnBEAAAAAAnRMAAQAAAHROAAQAAADQOQEQAAAAQOcEQAAAAACdEwABAAAAdE4ABAAAANA5ARAAAABA5wRAAAAAAJ0TAAEAAAB0TgAEAAAA0DkBEAAAAEDnBEAAAAAAnRMAAQAAAHROALQFVNVNquqvq+o/q+r7VbW9qv6iqq4379oAAACA6ds27wKYrqr6uSRnJLlhkrcn+VySOyf5/SRHVtU9WmvfmmOJAAAAwJQ5A6h/f5kh/Hlya+3BrbU/bK0dkeTFSW6d5HlzrQ4AAACYOgFQx6rqgCT3TbI9yctXbH52kkuTPLKq9phxaQAAAMAMCYD6dsS4/MfW2g+Xb2itfTfJR5JcN8ldZ10YAAAAMDvVWpt3DUxJVb0wyXFJjmutvWiV7S9L8qQkT2ytvWIHr3PmGptuf53rXGe3gw46aNWNV37zol0veoFtu8E+G973BxecN8FKNrfdb3jAhve95MIvTLCSzW/P699iw/teeNG/T7CSze36+9xyw/t+6Ttb6z11s7039p76wne+MeFKNrdb7H2jDe/7hW9vnX/7bnG9jf+79x/f/u4EK9n8fu56P73hfb/ynR9MsJLN7aZ7777hfS/59pUTrGTz2/N6G5vK9QcX/NeEK9ncdr/hNTe875UXXDrBSja3bTdc+4KQz372s7n88ssvaq3tO8OSmBKTQPdtr3F58Rrbl9bvvcHXv+ryyy+/+Kyzztq+wf2n4cBx+bmZH/kr22d+yKtpPr366lkzPdwEzO899eWF6tXc+vTl7QvVp2SOvfpWFqpXc+vTWfnarA95dc2lV2d9cfssDzcJ83tPfXHWR7xa5tanb876gFff/D4jeE+tz1dnfsSra06fz3e4df8kl8ykDqZOALS11bjc4WlgrbVDZlDLRCydrbRINc+LXq2PPq2PPq2fXq2PPq2fXq2PPq2PPq2fXq2PPq2fXjFt5gDq29IZPnutsX3PFeMAAACADgmA+vb5cXmrNbYvTZxx7gxqAQAAAOZEANS3D4zL+1bVj/23rqqfTnKPJJcn+disCwMAAABmRwDUsdbafyT5xwwTdz1pxebnJNkjyetba1tninsAAADYgkwC3b8nJjkjyQlVde8kn01ylyT3ynDp1x/PsTYAAABgBqq1Hd4Aig5U1U2T/GmSI5Psm+TrSd6W5DmttYvmWBoAAAAwAwIgAAAAgM6ZAwgAAACgcwIgAAAAgM4JgAAAAAA6JwACAAAA6JwACAAAAKBzAiA2narav6paVZ0471o2M31aP71aH31aP71aH31aH31aP71aH31aP71aH31aH31isxMAMTNVdWBVvbSqzqmqi6vqB1X1n1X1zqp6bFVdewY17FNVf1FV26vq++Px/7qqbrLG+MdW1V9V1T9X1WXjD/TnTrnGhepTVf1MVf1eVb172fhvVdX7quqhU65z0Xq15zj2Q+O4K6rqgqr6eFUdW1V7TKnGherTGvs/c/z/r1XVfaZY58L1allfVnt8bEo1Llyflu33wPHn1TfH/b5SVf9QVXedQo0L1aeqOn4n76dWVf8xpToXqlfj+N2q6tfHn+nn1/A54dyqel1V3XZKNS5in65ZVU+rqk+OPfpuVZ1RVb8x5Trn2quq+qWqelFVvb+qLhr///nwOva7TVW9uYbPB1dU1eer6jlVdZ0p1blwfaot+Pl8V/tUc/x8zua2bd4FsDVU1bOSPDtD6PixJH+T5HtJbpTk8CSvSfKEJHecYg37Jjkjya2SnJrk5CQHJnlMkl+pqru11s5bsduLkuyV5NtJ/jPJz02rvrHGRezT7yX5gyRfTPKBJOcnuVmShya5T1W9uLX21CnUuYi92ifJ45P8S5J3JvlmhvfXEUlenORx4z6XTLDGRezTyv0PTvLMse6fmmKdi9yrLyU5cZX1X51CjQvZp6q6RpJXJnlckq8k+fsk3xrrvmuSQ8bvZ1I1LmKfTtvByz0gycFJ3j2FOhexV0nyt0n+R4b/z/4+yXeT/N9JHpXk16rqqNbaqROsceH6VFW7Z3jPHJFke/7759T9kpxUVQf3+hkhyZOSPCjJFUm+kOR6O9uhqu6Soa/XTHJKhp9VRyR5VpJ7V9W9W2vfn1SBi9qnbMHP59n1Ps3l8zkLoLXm4THVR5JnJGlJvpzkLmuMuX+SD4xf7z+OP3HCdfzV+Lp/vmL9k8f171llnyOT3Gz8+tHjuOfq04+tf2iSw1Z5nYOSXDzuc4hetSTZLck113itN4z7/M+t3qcVY66d5NMZfuF4/Tj+PpOsb9F7Na4/bdI96bBPTx+3vT7J7qtsX/X/za3WpzVeZ7cMv4i2JLfznmpJcqdx/TlJrrti22PGbafqU44d15+RZI9l6/dI8s/jtsM7fU/dLcltx/9/lo7x4R2M3y3JZ8ZxD1y2/hoZwqCW5A+3ep/Gfbbi5/NdfT/N/PO5x2I85l6AR9+P8QfUD8bHz+9k7LWW7dMy/JVo/wx/XbowQ+L9iST3X2XfpR/+jx7/UTht6YfbuH2PJJdlSOt/esW+18iQjrckB+ygvqn9A9NTn1bs86px/NP0aqff14PG8a/Wpx8b8+Jx/1uNdbVMOABa9F5lRgHQIvcpyZ4Zzs74ylJt+rT+n1EZzv5pST6qVz9a/6vjupescrx9xm3/pk85fVz3K6sc7/7jtrf09p5ao66d/cJ+xDjmg6tsO2Dctj1JbeU+7eAY3X4+n0SfVuw/8c/nHovzMAcQ0/aYDKexvqW1ds6OBrafPKX1Zkk+nuGH3ElJ3pTk55O8varutcbLHJ3kHRk+6L8yyZvH9XdLcp0kH2mtfXfFcX+Y5B/Hp2u97rT12qf/GpdXrnP8evTaqweMy7PXOX5nFr5P47F+P8kftdbO3dH3cDUtfK+S7F1Vv1VVz6iqJ9UU5rPJYvfpgRkuHzw5yTWq6uiq+sOxV7ff0feyAYvcp7U8fly+ah1jd8Ui9+rT4/KIVeZmuf+4/KcdfU+7YJH7tN+4XO3S1aV19177O9plm6VXG3HEuHzPKrWel+TcscYDrsYxlixyn2ap1z5N4/M5C8IcQEzbPcfl+zew7+FJjm+tPWdpRVX9bYZ/GJ+e4XrWle6X5H6ttZX/eN56XK71S+S/j8tbbaDOSeiuT1W1Z5KHZfgLwz/uZPiuWPheVdW2JH8yPt0nyaFJbj8e/9U7/S7WZ6H7VFV7Zfjr2YeSnLALtW/EQvdqdPskr12+oqo+leSRrbV/29E3sAsWuU93Gpf/leSzGT6Y/0hVvSXJb7bWLtvxt7Eui9ynn1BVP5PkqAx/jX7TjsZuwML2qrV2TlW9OMlTknyuqpZ+abtthr/gn5z//jl/dS1snzKc+XDLJDfP8P/ecktBxl5VtV9r7fwdfB/rtVl6tRHr6e+txsfVnYx9kfs0S931aYqfz1kQzgBi2v6vcbmRiUi/lOTHZvRvrb03wzW4d15jn7ev8UNzr3F58Rr7La3fexdrnJSu+lRVlWFCvBsleUVrbeWHvqujh15tyzCZ4LMzTNJ3+wx/HXpga+2KtYrfRYvep5cm2TfJY1obzleeokXv1Z8nuUeSGyT56QxhxykZ3lenjr/AT8Ii9+mG4/J/Zph8/S4ZenWXDKfkPyzJX65d/i5Z5D6t5pgMc068YUIB2XIL3as2TKD6Oxn+33tihglX75/kU0n+prV26Y6/hXVb5D69Y1w+Y/mZUlV13SR/vGzceib+XY/N0quNmOVn1UXu0yx11acpfz5nQQiAmLYalxv5Be6TrbWrVln/laz9QeHjGzhOcvXqnITe+vSiJA/PcPbGpO8wsPC9aq1d0VqrDD+Db5Lhmu/7JPlEVe2/weOt+/jrMNc+jbcnfWSGCbHXvDvYBC1sr5Kktfa01toZrbULW2vfa619orX28CRvSXL9JMdt8HjrOv46zbtPu43Ly5M8oLX28bFXH89wedj3kjxyQmHZIvfpxwcMd077rfHppC//WlcNOzDvn1NVVSckeXmSP01y0wyh4i+O495dVU/a4PF2evxdMO/31EuSnJUhpP50Vb2sql6e4RK6W2a4g1OSrFbjpGpYr1n2aiMm+Vm15z5NUm99mubncxaEAIhpW/qH/SYb2Pc7a6y/Mmu/d9c6fXjpryZ7rbF9zxXjZq2bPlXVCzOcEn96htNYJ3a70lE3vWqDr7XW/ibD3RpuneRla43fRQvZp6raJ8NdZk5N8oodVjk5C9mrdXjluDx0neN3ZpH79O1x+bGVl5m01r6e4W5E18hkbuG7yH1a6agkP5uhb5Oan2y5Re7VozKcwXlCa+35rbWvjqHihzPM6XZ5kudX1U+t8Zq7YmH7NJ4FdWiGMyF+kORxSf6fDGfe3XVZDd9c4zV31Wbp1UbM8rPqIvdplrrp0ww+n7MgBEBM24fH5SQn+NuRtRL6z4/LteY6uOW4nOZEszvSRZ/G+RCOy3Bd81Gtte9tuMK1ddGrnzhIax/L8GHh8PUWthOL2qefzXDWyhFJflhVbemR4ReuJHnfuO7Yq1nzkkXt1c4s/UK1xzrH78wi92lpn++ssc9SQLRyMt+NWOQ+rbQ0+fNf7WpR67TIvVqa6Pkn5vEYQ8bPZZh4/NYrt2/AIvcprbVLW2vPbK0d2Fq7Vmttn/EsxasyTBL9hdbat1e+2AZtll5txCw/qy5yn2apiz7N6PM5C0IAxLS9LsOkmw+rqtvsaGBVXWuKdXwsw1/j7lFVP73iuNdIct/x6WoTss3CQvdpPBX+5UmOTfK+DLd7nfRcEUsWuldrGV9jz0zujgyL2qdvZZjMeLXH0gSj7x6f7/COHLtgUXu1M0t3ApvUZXSL3KelCTxvu8ZrLq3fPoH6FrlPy8fcOMmvZDjbYFp3olnkXi3Vc4M1XnNp/Q8mUN8i92lHHjcu3ziZ8pJsnl5txKnj8siVG6rqgAzB0JcymZ/pi9ynWVroPs348zkLQgDEVLXWtic5PsnuSd5ZVaueXl9VR2b4pW5adXwvwyS7e4z1LPe7GW7R+N4ZzTfyExa5T+OEcq/KMAHmuzNMZHz5FGvcnsXt1R2qau9Vat09w6Vf10jyzgnVtz0L2KfW2ldaa8es9khyxrjfn4/rJnKL5UXt1VjTwVX1E2f4VNXtkjxvfPqGCdW3PQvap9bap5J8JMlBVXXMinqPSXJQhrvq/MsE6tueBe3TCo/NMHfSSdP6hWHBe/WhcfnU8a6FP1JVv5PhkpHzk3xmAvVtz+L2aemuQ1mx7n5JnpbkaxnmCZpUjduzCXq1QR/McKe0Q6vqgUsrx3DtBePTV07ixggL3qeZWeQ+zfrzOYvDbeCZutba/1vDba+fneRfquqMDNd+fy/DLPSHZjit9RNTLuUZGS6veWpV3SHDRGsHJXlQkguS/MRkjeMvBku3gLzFuHxAVS1dC/y51trzJ1HcAvfpWRnuEnN5kk8m+cPh35wf88nW2tsmVeAC9+rRSR5fVadl+Cved5LcOMNfTffLcPr3pCbsXeQ+zdwC9+rJSR5aVadmmFjy+0kOzPAX5N2SvDrJ302quAXuUzIEGh9O8uoaJhr/dJLbZLjt7mVJHr3GhJ27bMH7tPQL52PHp9OY/PlHFrhXf5nk15PcLsm5VfUPGX6mH5zhEtarkjzJeypJ8rmqOjvDZXHfzzDX1hEZLlN9wAQv/0qyeXpVVffM8PkoGS4HTJJbVtWJy2p99LKvr6qqx2Q4E+iUqjolwx2j7p2hZx9J8uJJ1beofRr32XKfzzfQp5l/PmdBtNY8PGbyyPAB4aUZLtu4JMNp0V/PkEo/Nsm1xnH7Z7gG9sQ1Xue04a37Y+sePe7z6J3UsE+GvzR9adnx/zrJTdYYf+L4ums9TtvqfVpHj9ascQv26h4ZLl36dIY5R65MclGGX0qPS3Jdfdrhayy91+4zjT4tYq+SPDjJ3yf5wop6/3eGv/bp04/vc9MMt8D92rjP+Un+NslB+vRj+xw1vvZHp/Ue6qFXGX4Je1aGX64uzXCpyH9muGTuzvr0o/EvTPJvY72XZ/hjx/9KcoOe31PLxqz5WGO/2yT5/5NcmCEwOzfJc5JcR59+tM+JO9nntK3ep3X0aGqfzz0296PGNwgAAAAAnTIHEAAAAEDnBEAAAAAAnRMAAQAAAHROAAQAAADQOQEQAAAAQOcEQAAAAACdEwABAAAAdE4ABAAAANA5ARAAAABA5wRAAAAAAJ0TAAEAAAB0TgAEALCKqtq/qlpVnTjvWgAAri4BEAAAAEDnBEAAAAAAnRMAAQAAAHROAAQAbElVdeeqelNVfa2qvl9VX6+qf6yq/7HK2P2r6uSqurCqrqiqT1TV/VcZ9+hx3qBHV9WRVXVaVV1cVW023xUAwOoEQADAllNVj0tyRpIHj8sXJXlnkhsmeeKK4TdL8vEk+yc5Kcmbkvx8krdX1b3WOMTRSd6R5LtJXpnkzRP9BgAAdtG2eRcAADBLVXWbJH+Z5JIkv9ha+/SK7TdZscvhSY5vrT1n2Zi/TfKeJE9P8oFVDnO/JPdrrb1ngqUDAGyYM4AAgK3mCRn+CPZnK8OfJGmtfXXFqi8lee6KMe9N8uUkd17jGG8X/gAAm4kACADYau46Lt+9zvGfbK1dtcr6ryS53hr7fHyXqwIAmCIBEACw1ew9Lr+2zvHfWWP9lVn7s9T5u1APAMDUCYAAgK3mO+PyZ6Z4DHf9AgA2FQEQALDVfGxcHjXXKgAAZkgABABsNa/IcPnWM8c7gv2YVe4CBgCw8NwGHgDYUlprn6mqJyZ5ZZJ/raq3J/n3JPsmuWOS7ya51xxLBACYOAEQALDltNZeXVXnJDkuyeFJHpzkwiRnJ3nN/CoDAJiOas0chQAAAAA9MwcQAAAAQOcEQAAAAACdEwABAAAAdE4ABAAAANA5ARAAAABA5wRAAAAAAJ0TAAEAAAB0TgAEAAAA0DkBEAAAAEDnBEAAAAAAnRMAAQAAAHROAAQAAADQOQEQAAAAQOcEQAAAAACdEwABAAAAdE4ABAAAANA5ARAAAABA5wRAAAAAAJ0TAAEAAAB0TgAEAAAA0DkBEAAAAEDnBEAAAAAAnRMAAQAAAHROAAQAAADQOQEQAAAAQOcEQAAAAACdEwABAAAAdE4ABAAAANA5ARAAAABA5wRAAAAAAJ0TAAEAAAB0TgAEAAAA0DkBEAAAAEDnBEAAAAAAnRMAAQAAAHROAAQAAADQOQEQAAAAQOcEQAAAAACdEwABAAAAdE4ABAAAANA5ARAAAABA5wRAAAAAAJ0TAAEAAAB0TgAEAAAA0DkBEAAAAEDnBEAAAAAAnRMAAQAAAHROAAQAAADQOQEQAAAAQOcEQAAAAACdEwABAAAAdO7/AM0PwHzWEnVeAAAAAElFTkSuQmCC&quot; width=&quot;576px&quot; height=&quot;432px&quot; alt=&quot;&quot;&gt;&lt;/img&gt;\",\"width\":576},\"id\":\"1031\",\"type\":\"panel.models.markup.HTML\"},{\"attributes\":{\"background\":\"WhiteSmoke\",\"children\":[{\"id\":\"1028\"},{\"id\":\"1029\"},{\"id\":\"1030\"}],\"margin\":[0,0,0,0],\"name\":\"Column00146\",\"sizing_mode\":\"stretch_both\"},\"id\":\"1027\",\"type\":\"Column\"},{\"attributes\":{\"client_comm_id\":\"6ab751f79de242c78a45a5902812a076\",\"comm_id\":\"86c47f6671474ea4b203b0e1758d6563\",\"plot_id\":\"1027\"},\"id\":\"1033\",\"type\":\"panel.models.comm_manager.CommManager\"},{\"attributes\":{\"css_classes\":[\"markdown\"],\"margin\":[5,5,5,5],\"name\":\"Markdown00144\",\"text\":\"&lt;h2&gt;Genome size (Mb) : 344.46&lt;/h2&gt;\"},\"id\":\"1029\",\"type\":\"panel.models.markup.HTML\"}],\"root_ids\":[\"1027\",\"1033\"]},\"title\":\"Bokeh Application\",\"version\":\"2.3.3\"}};\n",
       "    var render_items = [{\"docid\":\"edf387b2-291e-43e5-b851-76f958a3264d\",\"root_ids\":[\"1027\"],\"roots\":{\"1027\":\"0ea0c0bc-f3cd-4f0a-8174-7216fceeefdc\"}}];\n",
       "    root.Bokeh.embed.embed_items_notebook(docs_json, render_items);\n",
       "  }\n",
       "  if (root.Bokeh !== undefined && root.Bokeh.Panel !== undefined) {\n",
       "    embed_document(root);\n",
       "  } else {\n",
       "    var attempts = 0;\n",
       "    var timer = setInterval(function(root) {\n",
       "      if (root.Bokeh !== undefined && root.Bokeh.Panel !== undefined) {\n",
       "        clearInterval(timer);\n",
       "        embed_document(root);\n",
       "      } else if (document.readyState == \"complete\") {\n",
       "        attempts++;\n",
       "        if (attempts > 100) {\n",
       "          clearInterval(timer);\n",
       "          console.log(\"Bokeh: ERROR: Unable to run BokehJS code because BokehJS library is missing\");\n",
       "        }\n",
       "      }\n",
       "    }, 10, root)\n",
       "  }\n",
       "})(window);</script>"
      ],
      "text/plain": [
       "Column(background='WhiteSmoke', sizing_mode='stretch_both')\n",
       "    [0] Markdown(str)\n",
       "    [1] Markdown(str)\n",
       "    [2] Row\n",
       "        [0] Matplotlib(Figure)\n",
       "        [1] DataFrame(DataFrame)"
      ]
     },
     "metadata": {
      "application/vnd.holoviews_exec.v0+json": {
       "id": "1027"
      }
     },
     "output_type": "display_data"
    },
    {
     "data": {
      "text/html": [
       "<img src onerror=\"var cell = this.closest('.jp-CodeCell');var editor = cell.querySelector('.jp-Editor');editor.style.background='LightBlue';this.parentNode.removeChild(this)\">"
      ],
      "text/plain": [
       "<IPython.core.display.HTML object>"
      ]
     },
     "metadata": {},
     "output_type": "display_data"
    }
   ],
   "source": [
    "index_reference_genome(ref_file.value, logger)\n",
    "total_genome_size=dashboard_genome(ref_file.value)\n",
    "bgc('LightBlue')"
   ]
  },
  {
   "cell_type": "markdown",
   "metadata": {},
   "source": [
    "### <span style=\"color: #919395\">_Analyzing Group File_</span> "
   ]
  },
  {
   "cell_type": "code",
   "execution_count": null,
   "metadata": {},
   "outputs": [
    {
     "data": {},
     "metadata": {},
     "output_type": "display_data"
    },
    {
     "data": {
      "application/vnd.holoviews_exec.v0+json": "",
      "text/html": [
       "<div id='1034'>\n",
       "\n",
       "\n",
       "\n",
       "\n",
       "\n",
       "  <div class=\"bk-root\" id=\"1632a247-c434-40b2-9119-af305abe3ae0\" data-root-id=\"1034\"></div>\n",
       "</div>\n",
       "<script type=\"application/javascript\">(function(root) {\n",
       "  function embed_document(root) {\n",
       "    var docs_json = {\"d2a12ce5-0b4a-4f5f-a9a5-0b6f3382cd11\":{\"defs\":[],\"roots\":{\"references\":[{\"attributes\":{\"css_classes\":[\"alert\",\"alert-success\",\"markdown\"],\"margin\":[0,0,25,0],\"name\":\"Alert00149\",\"sizing_mode\":\"stretch_width\",\"text\":\"&lt;p&gt;Group file /home/christine/Documents/These/frangiPANeGIT/rice/rice_group.txt correctly read&lt;/p&gt;\"},\"id\":\"1034\",\"type\":\"panel.models.markup.HTML\"},{\"attributes\":{\"client_comm_id\":\"2e368684a2434b50b200f7cf81f58d8f\",\"comm_id\":\"8533386a94fb4bc2a3e2519330b32434\",\"plot_id\":\"1034\"},\"id\":\"1035\",\"type\":\"panel.models.comm_manager.CommManager\"}],\"root_ids\":[\"1034\",\"1035\"]},\"title\":\"Bokeh Application\",\"version\":\"2.3.3\"}};\n",
       "    var render_items = [{\"docid\":\"d2a12ce5-0b4a-4f5f-a9a5-0b6f3382cd11\",\"root_ids\":[\"1034\"],\"roots\":{\"1034\":\"1632a247-c434-40b2-9119-af305abe3ae0\"}}];\n",
       "    root.Bokeh.embed.embed_items_notebook(docs_json, render_items);\n",
       "  }\n",
       "  if (root.Bokeh !== undefined && root.Bokeh.Panel !== undefined) {\n",
       "    embed_document(root);\n",
       "  } else {\n",
       "    var attempts = 0;\n",
       "    var timer = setInterval(function(root) {\n",
       "      if (root.Bokeh !== undefined && root.Bokeh.Panel !== undefined) {\n",
       "        clearInterval(timer);\n",
       "        embed_document(root);\n",
       "      } else if (document.readyState == \"complete\") {\n",
       "        attempts++;\n",
       "        if (attempts > 100) {\n",
       "          clearInterval(timer);\n",
       "          console.log(\"Bokeh: ERROR: Unable to run BokehJS code because BokehJS library is missing\");\n",
       "        }\n",
       "      }\n",
       "    }, 10, root)\n",
       "  }\n",
       "})(window);</script>"
      ],
      "text/plain": [
       "Alert(str, alert_type='success', css_classes=['alert', 'alert-success']...], margin=(0, 0, 25, 0), sizing_mode='stretch_width')"
      ]
     },
     "metadata": {
      "application/vnd.holoviews_exec.v0+json": {
       "id": "1034"
      }
     },
     "output_type": "display_data"
    },
    {
     "data": {
      "application/javascript": [
       "\n",
       "(function(root) {\n",
       "  function now() {\n",
       "    return new Date();\n",
       "  }\n",
       "\n",
       "  var force = true;\n",
       "\n",
       "  if (typeof root._bokeh_onload_callbacks === \"undefined\" || force === true) {\n",
       "    root._bokeh_onload_callbacks = [];\n",
       "    root._bokeh_is_loading = undefined;\n",
       "  }\n",
       "\n",
       "  if (typeof (root._bokeh_timeout) === \"undefined\" || force === true) {\n",
       "    root._bokeh_timeout = Date.now() + 5000;\n",
       "    root._bokeh_failed_load = false;\n",
       "  }\n",
       "\n",
       "  function run_callbacks() {\n",
       "    try {\n",
       "      root._bokeh_onload_callbacks.forEach(function(callback) {\n",
       "        if (callback != null)\n",
       "          callback();\n",
       "      });\n",
       "    } finally {\n",
       "      delete root._bokeh_onload_callbacks\n",
       "    }\n",
       "    console.debug(\"Bokeh: all callbacks have finished\");\n",
       "  }\n",
       "\n",
       "  function load_libs(css_urls, js_urls, js_modules, callback) {\n",
       "    if (css_urls == null) css_urls = [];\n",
       "    if (js_urls == null) js_urls = [];\n",
       "    if (js_modules == null) js_modules = [];\n",
       "\n",
       "    root._bokeh_onload_callbacks.push(callback);\n",
       "    if (root._bokeh_is_loading > 0) {\n",
       "      console.debug(\"Bokeh: BokehJS is being loaded, scheduling callback at\", now());\n",
       "      return null;\n",
       "    }\n",
       "    if (js_urls.length === 0 && js_modules.length === 0) {\n",
       "      run_callbacks();\n",
       "      return null;\n",
       "    }\n",
       "    console.debug(\"Bokeh: BokehJS not loaded, scheduling load and callback at\", now());\n",
       "    root._bokeh_is_loading = css_urls.length + js_urls.length + js_modules.length;\n",
       "\n",
       "    function on_load() {\n",
       "      root._bokeh_is_loading--;\n",
       "      if (root._bokeh_is_loading === 0) {\n",
       "        console.debug(\"Bokeh: all BokehJS libraries/stylesheets loaded\");\n",
       "        run_callbacks()\n",
       "      }\n",
       "    }\n",
       "\n",
       "    function on_error() {\n",
       "      console.error(\"failed to load \" + url);\n",
       "    }\n",
       "\n",
       "    for (var i = 0; i < css_urls.length; i++) {\n",
       "      var url = css_urls[i];\n",
       "      const element = document.createElement(\"link\");\n",
       "      element.onload = on_load;\n",
       "      element.onerror = on_error;\n",
       "      element.rel = \"stylesheet\";\n",
       "      element.type = \"text/css\";\n",
       "      element.href = url;\n",
       "      console.debug(\"Bokeh: injecting link tag for BokehJS stylesheet: \", url);\n",
       "      document.body.appendChild(element);\n",
       "    }\n",
       "\n",
       "    var skip = [];\n",
       "    if (window.requirejs) {\n",
       "      window.requirejs.config({'paths': {'tabulator': 'https://unpkg.com/tabulator-tables@4.9.3/dist/js/tabulator'}});\n",
       "      require([], function() {\n",
       "      })\n",
       "    }\n",
       "    if (((window['tabulator'] !== undefined) && (!(window['tabulator'] instanceof HTMLElement))) || window.requirejs) {\n",
       "      var urls = ['https://unpkg.com/tabulator-tables@4.9.3/dist/js/tabulator.js', 'https://unpkg.com/moment@2.27.0/moment.js'];\n",
       "      for (var i = 0; i < urls.length; i++) {\n",
       "        skip.push(urls[i])\n",
       "      }\n",
       "    }\n",
       "    for (var i = 0; i < js_urls.length; i++) {\n",
       "      var url = js_urls[i];\n",
       "      if (skip.indexOf(url) >= 0) { on_load(); continue; }\n",
       "      var element = document.createElement('script');\n",
       "      element.onload = on_load;\n",
       "      element.onerror = on_error;\n",
       "      element.async = false;\n",
       "      element.src = url;\n",
       "      console.debug(\"Bokeh: injecting script tag for BokehJS library: \", url);\n",
       "      document.head.appendChild(element);\n",
       "    }\n",
       "    for (var i = 0; i < js_modules.length; i++) {\n",
       "      var url = js_modules[i];\n",
       "      if (skip.indexOf(url) >= 0) { on_load(); continue; }\n",
       "      var element = document.createElement('script');\n",
       "      element.onload = on_load;\n",
       "      element.onerror = on_error;\n",
       "      element.async = false;\n",
       "      element.src = url;\n",
       "      element.type = \"module\";\n",
       "      console.debug(\"Bokeh: injecting script tag for BokehJS library: \", url);\n",
       "      document.head.appendChild(element);\n",
       "    }\n",
       "    if (!js_urls.length && !js_modules.length) {\n",
       "      on_load()\n",
       "    }\n",
       "  };\n",
       "\n",
       "  function inject_raw_css(css) {\n",
       "    const element = document.createElement(\"style\");\n",
       "    element.appendChild(document.createTextNode(css));\n",
       "    document.body.appendChild(element);\n",
       "  }\n",
       "\n",
       "  var js_urls = [\"https://unpkg.com/tabulator-tables@4.9.3/dist/js/tabulator.js\", \"https://unpkg.com/moment@2.27.0/moment.js\", \"https://cdn.bokeh.org/bokeh/release/bokeh-2.3.3.min.js\", \"https://cdn.bokeh.org/bokeh/release/bokeh-widgets-2.3.3.min.js\", \"https://cdn.bokeh.org/bokeh/release/bokeh-tables-2.3.3.min.js\", \"https://unpkg.com/@holoviz/panel@0.11.1/dist/panel.min.js\"];\n",
       "  var js_modules = [];\n",
       "  var css_urls = [\"https://unpkg.com/tabulator-tables@4.9.3/dist/css/tabulator_simple.min.css\", \"https://unpkg.com/@holoviz/panel@0.11.1/dist/css/widgets.css\", \"https://unpkg.com/@holoviz/panel@0.11.1/dist/css/loading.css\", \"https://unpkg.com/@holoviz/panel@0.11.1/dist/css/dataframe.css\", \"https://unpkg.com/@holoviz/panel@0.11.1/dist/css/alerts.css\", \"https://unpkg.com/@holoviz/panel@0.11.1/dist/css/markdown.css\", \"https://unpkg.com/@holoviz/panel@0.11.1/dist/css/json.css\", \"https://unpkg.com/@holoviz/panel@0.11.1/dist/css/card.css\"];\n",
       "  var inline_js = [\n",
       "    function(Bokeh) {\n",
       "      inject_raw_css(\"\\n    .bk.pn-loading.arcs:before {\\n      background-image: url(\\\"data:image/svg+xml;base64,PHN2ZyB4bWxucz0iaHR0cDovL3d3dy53My5vcmcvMjAwMC9zdmciIHhtbG5zOnhsaW5rPSJodHRwOi8vd3d3LnczLm9yZy8xOTk5L3hsaW5rIiBzdHlsZT0ibWFyZ2luOiBhdXRvOyBiYWNrZ3JvdW5kOiBub25lOyBkaXNwbGF5OiBibG9jazsgc2hhcGUtcmVuZGVyaW5nOiBhdXRvOyIgdmlld0JveD0iMCAwIDEwMCAxMDAiIHByZXNlcnZlQXNwZWN0UmF0aW89InhNaWRZTWlkIj4gIDxjaXJjbGUgY3g9IjUwIiBjeT0iNTAiIHI9IjMyIiBzdHJva2Utd2lkdGg9IjgiIHN0cm9rZT0iI2MzYzNjMyIgc3Ryb2tlLWRhc2hhcnJheT0iNTAuMjY1NDgyNDU3NDM2NjkgNTAuMjY1NDgyNDU3NDM2NjkiIGZpbGw9Im5vbmUiIHN0cm9rZS1saW5lY2FwPSJyb3VuZCI+ICAgIDxhbmltYXRlVHJhbnNmb3JtIGF0dHJpYnV0ZU5hbWU9InRyYW5zZm9ybSIgdHlwZT0icm90YXRlIiByZXBlYXRDb3VudD0iaW5kZWZpbml0ZSIgZHVyPSIxcyIga2V5VGltZXM9IjA7MSIgdmFsdWVzPSIwIDUwIDUwOzM2MCA1MCA1MCI+PC9hbmltYXRlVHJhbnNmb3JtPiAgPC9jaXJjbGU+PC9zdmc+\\\")\\n    }\\n    \");\n",
       "    },\n",
       "    function(Bokeh) {\n",
       "      Bokeh.set_log_level(\"info\");\n",
       "    },\n",
       "    function(Bokeh) {} // ensure no trailing comma for IE\n",
       "  ];\n",
       "\n",
       "  function run_inline_js() {\n",
       "    if ((root.Bokeh !== undefined) || (force === true)) {\n",
       "      for (var i = 0; i < inline_js.length; i++) {\n",
       "        inline_js[i].call(root, root.Bokeh);\n",
       "      }} else if (Date.now() < root._bokeh_timeout) {\n",
       "      setTimeout(run_inline_js, 100);\n",
       "    } else if (!root._bokeh_failed_load) {\n",
       "      console.log(\"Bokeh: BokehJS failed to load within specified timeout.\");\n",
       "      root._bokeh_failed_load = true;\n",
       "    }\n",
       "  }\n",
       "\n",
       "  if (root._bokeh_is_loading === 0) {\n",
       "    console.debug(\"Bokeh: BokehJS loaded, going straight to plotting\");\n",
       "    run_inline_js();\n",
       "  } else {\n",
       "    load_libs(css_urls, js_urls, js_modules, function() {\n",
       "      console.debug(\"Bokeh: BokehJS plotting callback run at\", now());\n",
       "      run_inline_js();\n",
       "    });\n",
       "  }\n",
       "}(window));"
      ],
      "application/vnd.holoviews_load.v0+json": "\n(function(root) {\n  function now() {\n    return new Date();\n  }\n\n  var force = true;\n\n  if (typeof root._bokeh_onload_callbacks === \"undefined\" || force === true) {\n    root._bokeh_onload_callbacks = [];\n    root._bokeh_is_loading = undefined;\n  }\n\n  if (typeof (root._bokeh_timeout) === \"undefined\" || force === true) {\n    root._bokeh_timeout = Date.now() + 5000;\n    root._bokeh_failed_load = false;\n  }\n\n  function run_callbacks() {\n    try {\n      root._bokeh_onload_callbacks.forEach(function(callback) {\n        if (callback != null)\n          callback();\n      });\n    } finally {\n      delete root._bokeh_onload_callbacks\n    }\n    console.debug(\"Bokeh: all callbacks have finished\");\n  }\n\n  function load_libs(css_urls, js_urls, js_modules, callback) {\n    if (css_urls == null) css_urls = [];\n    if (js_urls == null) js_urls = [];\n    if (js_modules == null) js_modules = [];\n\n    root._bokeh_onload_callbacks.push(callback);\n    if (root._bokeh_is_loading > 0) {\n      console.debug(\"Bokeh: BokehJS is being loaded, scheduling callback at\", now());\n      return null;\n    }\n    if (js_urls.length === 0 && js_modules.length === 0) {\n      run_callbacks();\n      return null;\n    }\n    console.debug(\"Bokeh: BokehJS not loaded, scheduling load and callback at\", now());\n    root._bokeh_is_loading = css_urls.length + js_urls.length + js_modules.length;\n\n    function on_load() {\n      root._bokeh_is_loading--;\n      if (root._bokeh_is_loading === 0) {\n        console.debug(\"Bokeh: all BokehJS libraries/stylesheets loaded\");\n        run_callbacks()\n      }\n    }\n\n    function on_error() {\n      console.error(\"failed to load \" + url);\n    }\n\n    for (var i = 0; i < css_urls.length; i++) {\n      var url = css_urls[i];\n      const element = document.createElement(\"link\");\n      element.onload = on_load;\n      element.onerror = on_error;\n      element.rel = \"stylesheet\";\n      element.type = \"text/css\";\n      element.href = url;\n      console.debug(\"Bokeh: injecting link tag for BokehJS stylesheet: \", url);\n      document.body.appendChild(element);\n    }\n\n    var skip = [];\n    if (window.requirejs) {\n      window.requirejs.config({'paths': {'tabulator': 'https://unpkg.com/tabulator-tables@4.9.3/dist/js/tabulator'}});\n      require([], function() {\n      })\n    }\n    if (((window['tabulator'] !== undefined) && (!(window['tabulator'] instanceof HTMLElement))) || window.requirejs) {\n      var urls = ['https://unpkg.com/tabulator-tables@4.9.3/dist/js/tabulator.js', 'https://unpkg.com/moment@2.27.0/moment.js'];\n      for (var i = 0; i < urls.length; i++) {\n        skip.push(urls[i])\n      }\n    }\n    for (var i = 0; i < js_urls.length; i++) {\n      var url = js_urls[i];\n      if (skip.indexOf(url) >= 0) { on_load(); continue; }\n      var element = document.createElement('script');\n      element.onload = on_load;\n      element.onerror = on_error;\n      element.async = false;\n      element.src = url;\n      console.debug(\"Bokeh: injecting script tag for BokehJS library: \", url);\n      document.head.appendChild(element);\n    }\n    for (var i = 0; i < js_modules.length; i++) {\n      var url = js_modules[i];\n      if (skip.indexOf(url) >= 0) { on_load(); continue; }\n      var element = document.createElement('script');\n      element.onload = on_load;\n      element.onerror = on_error;\n      element.async = false;\n      element.src = url;\n      element.type = \"module\";\n      console.debug(\"Bokeh: injecting script tag for BokehJS library: \", url);\n      document.head.appendChild(element);\n    }\n    if (!js_urls.length && !js_modules.length) {\n      on_load()\n    }\n  };\n\n  function inject_raw_css(css) {\n    const element = document.createElement(\"style\");\n    element.appendChild(document.createTextNode(css));\n    document.body.appendChild(element);\n  }\n\n  var js_urls = [\"https://unpkg.com/tabulator-tables@4.9.3/dist/js/tabulator.js\", \"https://unpkg.com/moment@2.27.0/moment.js\", \"https://cdn.bokeh.org/bokeh/release/bokeh-2.3.3.min.js\", \"https://cdn.bokeh.org/bokeh/release/bokeh-widgets-2.3.3.min.js\", \"https://cdn.bokeh.org/bokeh/release/bokeh-tables-2.3.3.min.js\", \"https://unpkg.com/@holoviz/panel@0.11.1/dist/panel.min.js\"];\n  var js_modules = [];\n  var css_urls = [\"https://unpkg.com/tabulator-tables@4.9.3/dist/css/tabulator_simple.min.css\", \"https://unpkg.com/@holoviz/panel@0.11.1/dist/css/widgets.css\", \"https://unpkg.com/@holoviz/panel@0.11.1/dist/css/loading.css\", \"https://unpkg.com/@holoviz/panel@0.11.1/dist/css/dataframe.css\", \"https://unpkg.com/@holoviz/panel@0.11.1/dist/css/alerts.css\", \"https://unpkg.com/@holoviz/panel@0.11.1/dist/css/markdown.css\", \"https://unpkg.com/@holoviz/panel@0.11.1/dist/css/json.css\", \"https://unpkg.com/@holoviz/panel@0.11.1/dist/css/card.css\"];\n  var inline_js = [\n    function(Bokeh) {\n      inject_raw_css(\"\\n    .bk.pn-loading.arcs:before {\\n      background-image: url(\\\"data:image/svg+xml;base64,PHN2ZyB4bWxucz0iaHR0cDovL3d3dy53My5vcmcvMjAwMC9zdmciIHhtbG5zOnhsaW5rPSJodHRwOi8vd3d3LnczLm9yZy8xOTk5L3hsaW5rIiBzdHlsZT0ibWFyZ2luOiBhdXRvOyBiYWNrZ3JvdW5kOiBub25lOyBkaXNwbGF5OiBibG9jazsgc2hhcGUtcmVuZGVyaW5nOiBhdXRvOyIgdmlld0JveD0iMCAwIDEwMCAxMDAiIHByZXNlcnZlQXNwZWN0UmF0aW89InhNaWRZTWlkIj4gIDxjaXJjbGUgY3g9IjUwIiBjeT0iNTAiIHI9IjMyIiBzdHJva2Utd2lkdGg9IjgiIHN0cm9rZT0iI2MzYzNjMyIgc3Ryb2tlLWRhc2hhcnJheT0iNTAuMjY1NDgyNDU3NDM2NjkgNTAuMjY1NDgyNDU3NDM2NjkiIGZpbGw9Im5vbmUiIHN0cm9rZS1saW5lY2FwPSJyb3VuZCI+ICAgIDxhbmltYXRlVHJhbnNmb3JtIGF0dHJpYnV0ZU5hbWU9InRyYW5zZm9ybSIgdHlwZT0icm90YXRlIiByZXBlYXRDb3VudD0iaW5kZWZpbml0ZSIgZHVyPSIxcyIga2V5VGltZXM9IjA7MSIgdmFsdWVzPSIwIDUwIDUwOzM2MCA1MCA1MCI+PC9hbmltYXRlVHJhbnNmb3JtPiAgPC9jaXJjbGU+PC9zdmc+\\\")\\n    }\\n    \");\n    },\n    function(Bokeh) {\n      Bokeh.set_log_level(\"info\");\n    },\n    function(Bokeh) {} // ensure no trailing comma for IE\n  ];\n\n  function run_inline_js() {\n    if ((root.Bokeh !== undefined) || (force === true)) {\n      for (var i = 0; i < inline_js.length; i++) {\n        inline_js[i].call(root, root.Bokeh);\n      }} else if (Date.now() < root._bokeh_timeout) {\n      setTimeout(run_inline_js, 100);\n    } else if (!root._bokeh_failed_load) {\n      console.log(\"Bokeh: BokehJS failed to load within specified timeout.\");\n      root._bokeh_failed_load = true;\n    }\n  }\n\n  if (root._bokeh_is_loading === 0) {\n    console.debug(\"Bokeh: BokehJS loaded, going straight to plotting\");\n    run_inline_js();\n  } else {\n    load_libs(css_urls, js_urls, js_modules, function() {\n      console.debug(\"Bokeh: BokehJS plotting callback run at\", now());\n      run_inline_js();\n    });\n  }\n}(window));"
     },
     "metadata": {},
     "output_type": "display_data"
    },
    {
     "data": {
      "application/javascript": [
       "\n",
       "if ((window.PyViz === undefined) || (window.PyViz instanceof HTMLElement)) {\n",
       "  window.PyViz = {comms: {}, comm_status:{}, kernels:{}, receivers: {}, plot_index: []}\n",
       "}\n",
       "\n",
       "\n",
       "    function JupyterCommManager() {\n",
       "    }\n",
       "\n",
       "    JupyterCommManager.prototype.register_target = function(plot_id, comm_id, msg_handler) {\n",
       "      if (window.comm_manager || ((window.Jupyter !== undefined) && (Jupyter.notebook.kernel != null))) {\n",
       "        var comm_manager = window.comm_manager || Jupyter.notebook.kernel.comm_manager;\n",
       "        comm_manager.register_target(comm_id, function(comm) {\n",
       "          comm.on_msg(msg_handler);\n",
       "        });\n",
       "      } else if ((plot_id in window.PyViz.kernels) && (window.PyViz.kernels[plot_id])) {\n",
       "        window.PyViz.kernels[plot_id].registerCommTarget(comm_id, function(comm) {\n",
       "          comm.onMsg = msg_handler;\n",
       "        });\n",
       "      } else if (typeof google != 'undefined' && google.colab.kernel != null) {\n",
       "        google.colab.kernel.comms.registerTarget(comm_id, (comm) => {\n",
       "          var messages = comm.messages[Symbol.asyncIterator]();\n",
       "          function processIteratorResult(result) {\n",
       "            var message = result.value;\n",
       "            console.log(message)\n",
       "            var content = {data: message.data, comm_id};\n",
       "            var buffers = []\n",
       "            for (var buffer of message.buffers || []) {\n",
       "              buffers.push(new DataView(buffer))\n",
       "            }\n",
       "            var metadata = message.metadata || {};\n",
       "            var msg = {content, buffers, metadata}\n",
       "            msg_handler(msg);\n",
       "            return messages.next().then(processIteratorResult);\n",
       "          }\n",
       "          return messages.next().then(processIteratorResult);\n",
       "        })\n",
       "      }\n",
       "    }\n",
       "\n",
       "    JupyterCommManager.prototype.get_client_comm = function(plot_id, comm_id, msg_handler) {\n",
       "      if (comm_id in window.PyViz.comms) {\n",
       "        return window.PyViz.comms[comm_id];\n",
       "      } else if (window.comm_manager || ((window.Jupyter !== undefined) && (Jupyter.notebook.kernel != null))) {\n",
       "        var comm_manager = window.comm_manager || Jupyter.notebook.kernel.comm_manager;\n",
       "        var comm = comm_manager.new_comm(comm_id, {}, {}, {}, comm_id);\n",
       "        if (msg_handler) {\n",
       "          comm.on_msg(msg_handler);\n",
       "        }\n",
       "      } else if ((plot_id in window.PyViz.kernels) && (window.PyViz.kernels[plot_id])) {\n",
       "        var comm = window.PyViz.kernels[plot_id].connectToComm(comm_id);\n",
       "        comm.open();\n",
       "        if (msg_handler) {\n",
       "          comm.onMsg = msg_handler;\n",
       "        }\n",
       "      } else if (typeof google != 'undefined' && google.colab.kernel != null) {\n",
       "        var comm_promise = google.colab.kernel.comms.open(comm_id)\n",
       "        comm_promise.then((comm) => {\n",
       "          window.PyViz.comms[comm_id] = comm;\n",
       "          if (msg_handler) {\n",
       "            var messages = comm.messages[Symbol.asyncIterator]();\n",
       "            function processIteratorResult(result) {\n",
       "              var message = result.value;\n",
       "              var content = {data: message.data};\n",
       "              var metadata = message.metadata || {comm_id};\n",
       "              var msg = {content, metadata}\n",
       "              msg_handler(msg);\n",
       "              return messages.next().then(processIteratorResult);\n",
       "            }\n",
       "            return messages.next().then(processIteratorResult);\n",
       "          }\n",
       "        }) \n",
       "        var sendClosure = (data, metadata, buffers, disposeOnDone) => {\n",
       "          return comm_promise.then((comm) => {\n",
       "            comm.send(data, metadata, buffers, disposeOnDone);\n",
       "          });\n",
       "        };\n",
       "        var comm = {\n",
       "          send: sendClosure\n",
       "        };\n",
       "      }\n",
       "      window.PyViz.comms[comm_id] = comm;\n",
       "      return comm;\n",
       "    }\n",
       "    window.PyViz.comm_manager = new JupyterCommManager();\n",
       "    \n",
       "\n",
       "\n",
       "var JS_MIME_TYPE = 'application/javascript';\n",
       "var HTML_MIME_TYPE = 'text/html';\n",
       "var EXEC_MIME_TYPE = 'application/vnd.holoviews_exec.v0+json';\n",
       "var CLASS_NAME = 'output';\n",
       "\n",
       "/**\n",
       " * Render data to the DOM node\n",
       " */\n",
       "function render(props, node) {\n",
       "  var div = document.createElement(\"div\");\n",
       "  var script = document.createElement(\"script\");\n",
       "  node.appendChild(div);\n",
       "  node.appendChild(script);\n",
       "}\n",
       "\n",
       "/**\n",
       " * Handle when a new output is added\n",
       " */\n",
       "function handle_add_output(event, handle) {\n",
       "  var output_area = handle.output_area;\n",
       "  var output = handle.output;\n",
       "  if ((output.data == undefined) || (!output.data.hasOwnProperty(EXEC_MIME_TYPE))) {\n",
       "    return\n",
       "  }\n",
       "  var id = output.metadata[EXEC_MIME_TYPE][\"id\"];\n",
       "  var toinsert = output_area.element.find(\".\" + CLASS_NAME.split(' ')[0]);\n",
       "  if (id !== undefined) {\n",
       "    var nchildren = toinsert.length;\n",
       "    var html_node = toinsert[nchildren-1].children[0];\n",
       "    html_node.innerHTML = output.data[HTML_MIME_TYPE];\n",
       "    var scripts = [];\n",
       "    var nodelist = html_node.querySelectorAll(\"script\");\n",
       "    for (var i in nodelist) {\n",
       "      if (nodelist.hasOwnProperty(i)) {\n",
       "        scripts.push(nodelist[i])\n",
       "      }\n",
       "    }\n",
       "\n",
       "    scripts.forEach( function (oldScript) {\n",
       "      var newScript = document.createElement(\"script\");\n",
       "      var attrs = [];\n",
       "      var nodemap = oldScript.attributes;\n",
       "      for (var j in nodemap) {\n",
       "        if (nodemap.hasOwnProperty(j)) {\n",
       "          attrs.push(nodemap[j])\n",
       "        }\n",
       "      }\n",
       "      attrs.forEach(function(attr) { newScript.setAttribute(attr.name, attr.value) });\n",
       "      newScript.appendChild(document.createTextNode(oldScript.innerHTML));\n",
       "      oldScript.parentNode.replaceChild(newScript, oldScript);\n",
       "    });\n",
       "    if (JS_MIME_TYPE in output.data) {\n",
       "      toinsert[nchildren-1].children[1].textContent = output.data[JS_MIME_TYPE];\n",
       "    }\n",
       "    output_area._hv_plot_id = id;\n",
       "    if ((window.Bokeh !== undefined) && (id in Bokeh.index)) {\n",
       "      window.PyViz.plot_index[id] = Bokeh.index[id];\n",
       "    } else {\n",
       "      window.PyViz.plot_index[id] = null;\n",
       "    }\n",
       "  } else if (output.metadata[EXEC_MIME_TYPE][\"server_id\"] !== undefined) {\n",
       "    var bk_div = document.createElement(\"div\");\n",
       "    bk_div.innerHTML = output.data[HTML_MIME_TYPE];\n",
       "    var script_attrs = bk_div.children[0].attributes;\n",
       "    for (var i = 0; i < script_attrs.length; i++) {\n",
       "      toinsert[toinsert.length - 1].childNodes[1].setAttribute(script_attrs[i].name, script_attrs[i].value);\n",
       "    }\n",
       "    // store reference to server id on output_area\n",
       "    output_area._bokeh_server_id = output.metadata[EXEC_MIME_TYPE][\"server_id\"];\n",
       "  }\n",
       "}\n",
       "\n",
       "/**\n",
       " * Handle when an output is cleared or removed\n",
       " */\n",
       "function handle_clear_output(event, handle) {\n",
       "  var id = handle.cell.output_area._hv_plot_id;\n",
       "  var server_id = handle.cell.output_area._bokeh_server_id;\n",
       "  if (((id === undefined) || !(id in PyViz.plot_index)) && (server_id !== undefined)) { return; }\n",
       "  var comm = window.PyViz.comm_manager.get_client_comm(\"hv-extension-comm\", \"hv-extension-comm\", function () {});\n",
       "  if (server_id !== null) {\n",
       "    comm.send({event_type: 'server_delete', 'id': server_id});\n",
       "    return;\n",
       "  } else if (comm !== null) {\n",
       "    comm.send({event_type: 'delete', 'id': id});\n",
       "  }\n",
       "  delete PyViz.plot_index[id];\n",
       "  if ((window.Bokeh !== undefined) & (id in window.Bokeh.index)) {\n",
       "    var doc = window.Bokeh.index[id].model.document\n",
       "    doc.clear();\n",
       "    const i = window.Bokeh.documents.indexOf(doc);\n",
       "    if (i > -1) {\n",
       "      window.Bokeh.documents.splice(i, 1);\n",
       "    }\n",
       "  }\n",
       "}\n",
       "\n",
       "/**\n",
       " * Handle kernel restart event\n",
       " */\n",
       "function handle_kernel_cleanup(event, handle) {\n",
       "  delete PyViz.comms[\"hv-extension-comm\"];\n",
       "  window.PyViz.plot_index = {}\n",
       "}\n",
       "\n",
       "/**\n",
       " * Handle update_display_data messages\n",
       " */\n",
       "function handle_update_output(event, handle) {\n",
       "  handle_clear_output(event, {cell: {output_area: handle.output_area}})\n",
       "  handle_add_output(event, handle)\n",
       "}\n",
       "\n",
       "function register_renderer(events, OutputArea) {\n",
       "  function append_mime(data, metadata, element) {\n",
       "    // create a DOM node to render to\n",
       "    var toinsert = this.create_output_subarea(\n",
       "    metadata,\n",
       "    CLASS_NAME,\n",
       "    EXEC_MIME_TYPE\n",
       "    );\n",
       "    this.keyboard_manager.register_events(toinsert);\n",
       "    // Render to node\n",
       "    var props = {data: data, metadata: metadata[EXEC_MIME_TYPE]};\n",
       "    render(props, toinsert[0]);\n",
       "    element.append(toinsert);\n",
       "    return toinsert\n",
       "  }\n",
       "\n",
       "  events.on('output_added.OutputArea', handle_add_output);\n",
       "  events.on('output_updated.OutputArea', handle_update_output);\n",
       "  events.on('clear_output.CodeCell', handle_clear_output);\n",
       "  events.on('delete.Cell', handle_clear_output);\n",
       "  events.on('kernel_ready.Kernel', handle_kernel_cleanup);\n",
       "\n",
       "  OutputArea.prototype.register_mime_type(EXEC_MIME_TYPE, append_mime, {\n",
       "    safe: true,\n",
       "    index: 0\n",
       "  });\n",
       "}\n",
       "\n",
       "if (window.Jupyter !== undefined) {\n",
       "  try {\n",
       "    var events = require('base/js/events');\n",
       "    var OutputArea = require('notebook/js/outputarea').OutputArea;\n",
       "    if (OutputArea.prototype.mime_types().indexOf(EXEC_MIME_TYPE) == -1) {\n",
       "      register_renderer(events, OutputArea);\n",
       "    }\n",
       "  } catch(err) {\n",
       "  }\n",
       "}\n"
      ],
      "application/vnd.holoviews_load.v0+json": "\nif ((window.PyViz === undefined) || (window.PyViz instanceof HTMLElement)) {\n  window.PyViz = {comms: {}, comm_status:{}, kernels:{}, receivers: {}, plot_index: []}\n}\n\n\n    function JupyterCommManager() {\n    }\n\n    JupyterCommManager.prototype.register_target = function(plot_id, comm_id, msg_handler) {\n      if (window.comm_manager || ((window.Jupyter !== undefined) && (Jupyter.notebook.kernel != null))) {\n        var comm_manager = window.comm_manager || Jupyter.notebook.kernel.comm_manager;\n        comm_manager.register_target(comm_id, function(comm) {\n          comm.on_msg(msg_handler);\n        });\n      } else if ((plot_id in window.PyViz.kernels) && (window.PyViz.kernels[plot_id])) {\n        window.PyViz.kernels[plot_id].registerCommTarget(comm_id, function(comm) {\n          comm.onMsg = msg_handler;\n        });\n      } else if (typeof google != 'undefined' && google.colab.kernel != null) {\n        google.colab.kernel.comms.registerTarget(comm_id, (comm) => {\n          var messages = comm.messages[Symbol.asyncIterator]();\n          function processIteratorResult(result) {\n            var message = result.value;\n            console.log(message)\n            var content = {data: message.data, comm_id};\n            var buffers = []\n            for (var buffer of message.buffers || []) {\n              buffers.push(new DataView(buffer))\n            }\n            var metadata = message.metadata || {};\n            var msg = {content, buffers, metadata}\n            msg_handler(msg);\n            return messages.next().then(processIteratorResult);\n          }\n          return messages.next().then(processIteratorResult);\n        })\n      }\n    }\n\n    JupyterCommManager.prototype.get_client_comm = function(plot_id, comm_id, msg_handler) {\n      if (comm_id in window.PyViz.comms) {\n        return window.PyViz.comms[comm_id];\n      } else if (window.comm_manager || ((window.Jupyter !== undefined) && (Jupyter.notebook.kernel != null))) {\n        var comm_manager = window.comm_manager || Jupyter.notebook.kernel.comm_manager;\n        var comm = comm_manager.new_comm(comm_id, {}, {}, {}, comm_id);\n        if (msg_handler) {\n          comm.on_msg(msg_handler);\n        }\n      } else if ((plot_id in window.PyViz.kernels) && (window.PyViz.kernels[plot_id])) {\n        var comm = window.PyViz.kernels[plot_id].connectToComm(comm_id);\n        comm.open();\n        if (msg_handler) {\n          comm.onMsg = msg_handler;\n        }\n      } else if (typeof google != 'undefined' && google.colab.kernel != null) {\n        var comm_promise = google.colab.kernel.comms.open(comm_id)\n        comm_promise.then((comm) => {\n          window.PyViz.comms[comm_id] = comm;\n          if (msg_handler) {\n            var messages = comm.messages[Symbol.asyncIterator]();\n            function processIteratorResult(result) {\n              var message = result.value;\n              var content = {data: message.data};\n              var metadata = message.metadata || {comm_id};\n              var msg = {content, metadata}\n              msg_handler(msg);\n              return messages.next().then(processIteratorResult);\n            }\n            return messages.next().then(processIteratorResult);\n          }\n        }) \n        var sendClosure = (data, metadata, buffers, disposeOnDone) => {\n          return comm_promise.then((comm) => {\n            comm.send(data, metadata, buffers, disposeOnDone);\n          });\n        };\n        var comm = {\n          send: sendClosure\n        };\n      }\n      window.PyViz.comms[comm_id] = comm;\n      return comm;\n    }\n    window.PyViz.comm_manager = new JupyterCommManager();\n    \n\n\nvar JS_MIME_TYPE = 'application/javascript';\nvar HTML_MIME_TYPE = 'text/html';\nvar EXEC_MIME_TYPE = 'application/vnd.holoviews_exec.v0+json';\nvar CLASS_NAME = 'output';\n\n/**\n * Render data to the DOM node\n */\nfunction render(props, node) {\n  var div = document.createElement(\"div\");\n  var script = document.createElement(\"script\");\n  node.appendChild(div);\n  node.appendChild(script);\n}\n\n/**\n * Handle when a new output is added\n */\nfunction handle_add_output(event, handle) {\n  var output_area = handle.output_area;\n  var output = handle.output;\n  if ((output.data == undefined) || (!output.data.hasOwnProperty(EXEC_MIME_TYPE))) {\n    return\n  }\n  var id = output.metadata[EXEC_MIME_TYPE][\"id\"];\n  var toinsert = output_area.element.find(\".\" + CLASS_NAME.split(' ')[0]);\n  if (id !== undefined) {\n    var nchildren = toinsert.length;\n    var html_node = toinsert[nchildren-1].children[0];\n    html_node.innerHTML = output.data[HTML_MIME_TYPE];\n    var scripts = [];\n    var nodelist = html_node.querySelectorAll(\"script\");\n    for (var i in nodelist) {\n      if (nodelist.hasOwnProperty(i)) {\n        scripts.push(nodelist[i])\n      }\n    }\n\n    scripts.forEach( function (oldScript) {\n      var newScript = document.createElement(\"script\");\n      var attrs = [];\n      var nodemap = oldScript.attributes;\n      for (var j in nodemap) {\n        if (nodemap.hasOwnProperty(j)) {\n          attrs.push(nodemap[j])\n        }\n      }\n      attrs.forEach(function(attr) { newScript.setAttribute(attr.name, attr.value) });\n      newScript.appendChild(document.createTextNode(oldScript.innerHTML));\n      oldScript.parentNode.replaceChild(newScript, oldScript);\n    });\n    if (JS_MIME_TYPE in output.data) {\n      toinsert[nchildren-1].children[1].textContent = output.data[JS_MIME_TYPE];\n    }\n    output_area._hv_plot_id = id;\n    if ((window.Bokeh !== undefined) && (id in Bokeh.index)) {\n      window.PyViz.plot_index[id] = Bokeh.index[id];\n    } else {\n      window.PyViz.plot_index[id] = null;\n    }\n  } else if (output.metadata[EXEC_MIME_TYPE][\"server_id\"] !== undefined) {\n    var bk_div = document.createElement(\"div\");\n    bk_div.innerHTML = output.data[HTML_MIME_TYPE];\n    var script_attrs = bk_div.children[0].attributes;\n    for (var i = 0; i < script_attrs.length; i++) {\n      toinsert[toinsert.length - 1].childNodes[1].setAttribute(script_attrs[i].name, script_attrs[i].value);\n    }\n    // store reference to server id on output_area\n    output_area._bokeh_server_id = output.metadata[EXEC_MIME_TYPE][\"server_id\"];\n  }\n}\n\n/**\n * Handle when an output is cleared or removed\n */\nfunction handle_clear_output(event, handle) {\n  var id = handle.cell.output_area._hv_plot_id;\n  var server_id = handle.cell.output_area._bokeh_server_id;\n  if (((id === undefined) || !(id in PyViz.plot_index)) && (server_id !== undefined)) { return; }\n  var comm = window.PyViz.comm_manager.get_client_comm(\"hv-extension-comm\", \"hv-extension-comm\", function () {});\n  if (server_id !== null) {\n    comm.send({event_type: 'server_delete', 'id': server_id});\n    return;\n  } else if (comm !== null) {\n    comm.send({event_type: 'delete', 'id': id});\n  }\n  delete PyViz.plot_index[id];\n  if ((window.Bokeh !== undefined) & (id in window.Bokeh.index)) {\n    var doc = window.Bokeh.index[id].model.document\n    doc.clear();\n    const i = window.Bokeh.documents.indexOf(doc);\n    if (i > -1) {\n      window.Bokeh.documents.splice(i, 1);\n    }\n  }\n}\n\n/**\n * Handle kernel restart event\n */\nfunction handle_kernel_cleanup(event, handle) {\n  delete PyViz.comms[\"hv-extension-comm\"];\n  window.PyViz.plot_index = {}\n}\n\n/**\n * Handle update_display_data messages\n */\nfunction handle_update_output(event, handle) {\n  handle_clear_output(event, {cell: {output_area: handle.output_area}})\n  handle_add_output(event, handle)\n}\n\nfunction register_renderer(events, OutputArea) {\n  function append_mime(data, metadata, element) {\n    // create a DOM node to render to\n    var toinsert = this.create_output_subarea(\n    metadata,\n    CLASS_NAME,\n    EXEC_MIME_TYPE\n    );\n    this.keyboard_manager.register_events(toinsert);\n    // Render to node\n    var props = {data: data, metadata: metadata[EXEC_MIME_TYPE]};\n    render(props, toinsert[0]);\n    element.append(toinsert);\n    return toinsert\n  }\n\n  events.on('output_added.OutputArea', handle_add_output);\n  events.on('output_updated.OutputArea', handle_update_output);\n  events.on('clear_output.CodeCell', handle_clear_output);\n  events.on('delete.Cell', handle_clear_output);\n  events.on('kernel_ready.Kernel', handle_kernel_cleanup);\n\n  OutputArea.prototype.register_mime_type(EXEC_MIME_TYPE, append_mime, {\n    safe: true,\n    index: 0\n  });\n}\n\nif (window.Jupyter !== undefined) {\n  try {\n    var events = require('base/js/events');\n    var OutputArea = require('notebook/js/outputarea').OutputArea;\n    if (OutputArea.prototype.mime_types().indexOf(EXEC_MIME_TYPE) == -1) {\n      register_renderer(events, OutputArea);\n    }\n  } catch(err) {\n  }\n}\n"
     },
     "metadata": {},
     "output_type": "display_data"
    },
    {
     "data": {
      "application/vnd.holoviews_exec.v0+json": "",
      "text/html": [
       "<div id='1036'>\n",
       "\n",
       "\n",
       "\n",
       "\n",
       "\n",
       "  <div class=\"bk-root\" id=\"3a6e12c5-e4d8-45d7-a564-aee773d38d69\" data-root-id=\"1036\"></div>\n",
       "</div>\n",
       "<script type=\"application/javascript\">(function(root) {\n",
       "  function embed_document(root) {\n",
       "    var docs_json = {\"87ca4d80-084c-4f24-a24d-b80ba9d9a8a7\":{\"defs\":[],\"roots\":{\"references\":[{\"attributes\":{\"children\":[{\"id\":\"1039\"},{\"id\":\"1040\"}],\"margin\":[0,0,0,0],\"name\":\"Row00164\"},\"id\":\"1038\",\"type\":\"Row\"},{\"attributes\":{\"css_classes\":[\"markdown\"],\"margin\":[5,5,5,5],\"name\":\"Markdown00155\",\"text\":\"&lt;h2&gt;Samples : 3&lt;/h2&gt;\\n&lt;h4&gt;Group : O. barthii O. glaberrima&lt;/h4&gt;\"},\"id\":\"1039\",\"type\":\"panel.models.markup.HTML\"},{\"attributes\":{\"children\":[{\"id\":\"1046\"}],\"css_classes\":[\"scrollable\"],\"margin\":[0,0,0,0],\"max_height\":600,\"min_width\":800,\"name\":\"Row00172\",\"width\":800},\"id\":\"1045\",\"type\":\"Row\"},{\"attributes\":{\"js_property_callbacks\":{\"change:value\":[{\"id\":\"1049\"}]},\"margin\":[5,10,5,10],\"options\":[[\"O. barthii\",\"O. barthii\"],[\"O. glaberrima\",\"O. glaberrima\"]],\"title\":\"Species\",\"value\":\"O. barthii\"},\"id\":\"1044\",\"type\":\"Select\"},{\"attributes\":{\"children\":[{\"id\":\"1047\"}],\"margin\":[0,0,0,0],\"name\":\"Row00169\"},\"id\":\"1046\",\"type\":\"Row\"},{\"attributes\":{\"margin\":[5,5,5,5],\"name\":\"ParamMethod00165\",\"text\":\"&lt;table border=&quot;0&quot; class=&quot;dataframe panel-df&quot;&gt;\\n  &lt;thead&gt;\\n    &lt;tr style=&quot;text-align: right;&quot;&gt;\\n      &lt;th&gt;&lt;/th&gt;\\n      &lt;th&gt;sample&lt;/th&gt;\\n      &lt;th&gt;Species&lt;/th&gt;\\n    &lt;/tr&gt;\\n  &lt;/thead&gt;\\n  &lt;tbody&gt;\\n    &lt;tr&gt;\\n      &lt;th&gt;0&lt;/th&gt;\\n      &lt;td&gt;AA&lt;/td&gt;\\n      &lt;td&gt;O. barthii&lt;/td&gt;\\n    &lt;/tr&gt;\\n    &lt;tr&gt;\\n      &lt;th&gt;1&lt;/th&gt;\\n      &lt;td&gt;AB&lt;/td&gt;\\n      &lt;td&gt;O. barthii&lt;/td&gt;\\n    &lt;/tr&gt;\\n  &lt;/tbody&gt;\\n&lt;/table&gt;\"},\"id\":\"1047\",\"type\":\"panel.models.markup.HTML\"},{\"attributes\":{\"code\":\"\\nvar state = null\\nfor (var root of cb_obj.document.roots()) {\\n  if (root.id == '1048') {\\n    state = root;\\n    break;\\n  }\\n}\\nif (!state) { return; }\\nstate.set_state(cb_obj, cb_obj.value)\\n\"},\"id\":\"1049\",\"type\":\"CustomJS\"},{\"attributes\":{\"children\":[{\"id\":\"1043\"},{\"id\":\"1044\"}],\"margin\":[5,5,5,5],\"min_width\":300,\"name\":\"\",\"width\":300},\"id\":\"1042\",\"type\":\"Column\"},{\"attributes\":{\"css_classes\":[\"markdown\"],\"margin\":[5,5,5,5],\"name\":\"Markdown00173\",\"text\":\"&lt;h1&gt;Population Group&lt;/h1&gt;\"},\"id\":\"1037\",\"type\":\"panel.models.markup.HTML\"},{\"attributes\":{\"state\":{\"O. barthii\":{\"content\":\"{\\\"events\\\": [{\\\"attr\\\": \\\"text\\\", \\\"kind\\\": \\\"ModelChanged\\\", \\\"model\\\": {\\\"id\\\": \\\"1047\\\"}, \\\"new\\\": \\\"&lt;table border=&quot;0&quot; class=&quot;dataframe panel-df&quot;&gt;\\\\n  &lt;thead&gt;\\\\n    &lt;tr style=&quot;text-align: right;&quot;&gt;\\\\n      &lt;th&gt;&lt;/th&gt;\\\\n      &lt;th&gt;sample&lt;/th&gt;\\\\n      &lt;th&gt;Species&lt;/th&gt;\\\\n    &lt;/tr&gt;\\\\n  &lt;/thead&gt;\\\\n  &lt;tbody&gt;\\\\n    &lt;tr&gt;\\\\n      &lt;th&gt;0&lt;/th&gt;\\\\n      &lt;td&gt;AA&lt;/td&gt;\\\\n      &lt;td&gt;O. barthii&lt;/td&gt;\\\\n    &lt;/tr&gt;\\\\n    &lt;tr&gt;\\\\n      &lt;th&gt;1&lt;/th&gt;\\\\n      &lt;td&gt;AB&lt;/td&gt;\\\\n      &lt;td&gt;O. barthii&lt;/td&gt;\\\\n    &lt;/tr&gt;\\\\n  &lt;/tbody&gt;\\\\n&lt;/table&gt;\\\"}], \\\"references\\\": []}\",\"header\":\"{\\\"msgid\\\": \\\"1051\\\", \\\"msgtype\\\": \\\"PATCH-DOC\\\"}\",\"metadata\":\"{}\"},\"O. glaberrima\":{\"content\":\"{\\\"events\\\": [{\\\"attr\\\": \\\"text\\\", \\\"kind\\\": \\\"ModelChanged\\\", \\\"model\\\": {\\\"id\\\": \\\"1047\\\"}, \\\"new\\\": \\\"&lt;table border=&quot;0&quot; class=&quot;dataframe panel-df&quot;&gt;\\\\n  &lt;thead&gt;\\\\n    &lt;tr style=&quot;text-align: right;&quot;&gt;\\\\n      &lt;th&gt;&lt;/th&gt;\\\\n      &lt;th&gt;sample&lt;/th&gt;\\\\n      &lt;th&gt;Species&lt;/th&gt;\\\\n    &lt;/tr&gt;\\\\n  &lt;/thead&gt;\\\\n  &lt;tbody&gt;\\\\n    &lt;tr&gt;\\\\n      &lt;th&gt;2&lt;/th&gt;\\\\n      &lt;td&gt;DT&lt;/td&gt;\\\\n      &lt;td&gt;O. glaberrima&lt;/td&gt;\\\\n    &lt;/tr&gt;\\\\n  &lt;/tbody&gt;\\\\n&lt;/table&gt;\\\"}], \\\"references\\\": []}\",\"header\":\"{\\\"msgid\\\": \\\"1050\\\", \\\"msgtype\\\": \\\"PATCH-DOC\\\"}\",\"metadata\":\"{}\"}},\"values\":[\"O. barthii\"],\"widgets\":{\"1044\":0}},\"id\":\"1048\",\"type\":\"panel.models.state.State\"},{\"attributes\":{\"margin\":[5,10,5,10],\"name\":\"\",\"text\":\"<b></b>\"},\"id\":\"1043\",\"type\":\"Div\"},{\"attributes\":{\"children\":[{\"id\":\"1041\"}],\"margin\":[0,0,0,0],\"name\":\"Row00161\"},\"id\":\"1040\",\"type\":\"Row\"},{\"attributes\":{\"background\":\"WhiteSmoke\",\"children\":[{\"id\":\"1037\"},{\"id\":\"1038\"},{\"id\":\"1042\"},{\"id\":\"1045\"}],\"css_classes\":[\"scrollable\"],\"margin\":[0,0,0,0],\"name\":\"Column00181\",\"sizing_mode\":\"stretch_both\",\"tags\":[\"embedded\"],\"width\":800},\"id\":\"1036\",\"type\":\"Column\"},{\"attributes\":{\"height\":216,\"margin\":[5,5,5,5],\"name\":\"ParamMethod00157\",\"text\":\"&lt;img src=&quot;data:image/png;base64,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&quot; width=&quot;288px&quot; height=&quot;216px&quot; alt=&quot;&quot;&gt;&lt;/img&gt;\",\"width\":288},\"id\":\"1041\",\"type\":\"panel.models.markup.HTML\"}],\"root_ids\":[\"1036\",\"1048\"]},\"title\":\"Bokeh Application\",\"version\":\"2.3.3\"}};\n",
       "    var render_items = [{\"docid\":\"87ca4d80-084c-4f24-a24d-b80ba9d9a8a7\",\"root_ids\":[\"1036\"],\"roots\":{\"1036\":\"3a6e12c5-e4d8-45d7-a564-aee773d38d69\"}}];\n",
       "    root.Bokeh.embed.embed_items_notebook(docs_json, render_items);\n",
       "  }\n",
       "  if (root.Bokeh !== undefined && root.Bokeh.Panel !== undefined) {\n",
       "    embed_document(root);\n",
       "  } else {\n",
       "    var attempts = 0;\n",
       "    var timer = setInterval(function(root) {\n",
       "      if (root.Bokeh !== undefined && root.Bokeh.Panel !== undefined) {\n",
       "        clearInterval(timer);\n",
       "        embed_document(root);\n",
       "      } else if (document.readyState == \"complete\") {\n",
       "        attempts++;\n",
       "        if (attempts > 100) {\n",
       "          clearInterval(timer);\n",
       "          console.log(\"Bokeh: ERROR: Unable to run BokehJS code because BokehJS library is missing\");\n",
       "        }\n",
       "      }\n",
       "    }, 10, root)\n",
       "  }\n",
       "})(window);</script>"
      ]
     },
     "metadata": {
      "application/vnd.holoviews_exec.v0+json": {
       "id": "1036"
      }
     },
     "output_type": "display_data"
    },
    {
     "data": {
      "text/html": [
       "<img src onerror=\"var cell = this.closest('.jp-CodeCell');var editor = cell.querySelector('.jp-Editor');editor.style.background='LightBlue';this.parentNode.removeChild(this)\">"
      ],
      "text/plain": [
       "<IPython.core.display.HTML object>"
      ]
     },
     "metadata": {},
     "output_type": "display_data"
    }
   ],
   "source": [
    "# Reading group file\n",
    "id_dict, df_group = read_group_file(group_file.value,logger)\n",
    "# Group file dashboard\n",
    "dashboard_group(df_group)\n",
    "bgc('LightBlue')"
   ]
  },
  {
   "cell_type": "markdown",
   "metadata": {},
   "source": [
    "***\n",
    "\n",
    "[<img src=\"Images/up-arrow.png\" alt=\"Top\" width=2% align=\"right\">](#home \"Go back to the top\")\n",
    "\n",
    "\n",
    "# <span style=\"color: #3987C4;\">III - frangiPANe Workflow <a class=\"anchor\" id=\"workflow\"></a></span>\n",
    "\n",
    "<img src=\"Images/approachMapThenAssembly.jpg\" width=60%>\n",
    "\n"
   ]
  },
  {
   "cell_type": "markdown",
   "metadata": {},
   "source": [
    "Only fastq files corresponding to samples described in the group file (contained in fastq directory) will be used in this workflow.\n",
    "\n",
    "Fastq naming convention: \n",
    "* sample_code_1.fastq, sample_code_R1.fastq\n",
    "* sample_code_1.fq, sample_code_R1.fq\n",
    "* sample_code_2.fastq, sample_code_R2.fastq\n",
    "* sample_code_2.fq, sample_code_R2.fq\n",
    "\n",
    "with sample_code read from the group file (1st column)"
   ]
  },
  {
   "cell_type": "markdown",
   "metadata": {
    "tags": []
   },
   "source": [
    "### <span style=\"color: #919395\"> _1 - Stats about raw data (fastq files)_\n",
    "\n",
    "#### __Generating fastq statistics with `fastq_stats`__"
   ]
  },
  {
   "cell_type": "markdown",
   "metadata": {},
   "source": [
    "After this stat analysis, several files have been created and saved into 00_fastq_stats directory :\n",
    "* one file (fastq-stat) by fastq file\n",
    "* one file with all stats : all_fastq-stats.csv\n",
    "\n",
    "```\n",
    "TODO : \n",
    "* Message si pas de fastq <-> group\n",
    "* Bilan nb fastq, nb group, nb match et si pairé\n",
    "* tester si fastq corrumpu avec eeautils\n",
    "* tester si etape a deja tournée correctement\n",
    "```"
   ]
  },
  {
   "cell_type": "code",
   "execution_count": 8,
   "metadata": {},
   "outputs": [
    {
     "data": {
      "text/html": [
       "<img src onerror=\"var cell = this.closest('.jp-CodeCell');var editor = cell.querySelector('.jp-Editor');editor.style.background='LightBlue';this.parentNode.removeChild(this)\">"
      ],
      "text/plain": [
       "<IPython.core.display.HTML object>"
      ]
     },
     "metadata": {},
     "output_type": "display_data"
    },
    {
     "data": {},
     "metadata": {},
     "output_type": "display_data"
    },
    {
     "data": {
      "application/vnd.holoviews_exec.v0+json": "",
      "text/html": [
       "<div id='1052'>\n",
       "\n",
       "\n",
       "\n",
       "\n",
       "\n",
       "  <div class=\"bk-root\" id=\"f18e7cc6-887b-41ab-aa87-9718a62600d2\" data-root-id=\"1052\"></div>\n",
       "</div>\n",
       "<script type=\"application/javascript\">(function(root) {\n",
       "  function embed_document(root) {\n",
       "    var docs_json = {\"2309167c-328e-4c14-904c-71466cdb4d4b\":{\"defs\":[],\"roots\":{\"references\":[{\"attributes\":{\"css_classes\":[\"markdown\"],\"margin\":[5,5,5,5],\"name\":\"Markdown00189\",\"text\":\"&lt;h1&gt;Some statistics about fastq files&lt;/h1&gt;\"},\"id\":\"1053\",\"type\":\"panel.models.markup.HTML\"},{\"attributes\":{\"css_classes\":[\"markdown\"],\"margin\":[5,5,5,5],\"name\":\"Markdown00207\",\"text\":\"&lt;h3&gt;About base ratio :&lt;/h3&gt;\"},\"id\":\"1064\",\"type\":\"panel.models.markup.HTML\"},{\"attributes\":{\"client_comm_id\":\"4811bd28ece748d9b98d09aab8afa796\",\"comm_id\":\"1c1ee307f11b4cc49ac03631feecd2c5\",\"plot_id\":\"1052\"},\"id\":\"1067\",\"type\":\"panel.models.comm_manager.CommManager\"},{\"attributes\":{\"css_classes\":[\"markdown\"],\"margin\":[5,5,5,5],\"name\":\"Markdown00203\",\"text\":\"&lt;h3&gt;About sequencing quality&lt;/h3&gt;\\n&lt;ul&gt;\\n&lt;li&gt;Quality: 2 - 41&lt;/li&gt;\\n&lt;li&gt;Mean quality : 37.4&lt;/li&gt;\\n&lt;/ul&gt;\"},\"id\":\"1062\",\"type\":\"panel.models.markup.HTML\"},{\"attributes\":{\"css_classes\":[\"markdown\"],\"margin\":[5,5,5,5],\"name\":\"Markdown00199\",\"text\":\"&lt;h3&gt;About read length&lt;/h3&gt;\\n&lt;ul&gt;\\n&lt;li&gt;Length read: 30 - 101&lt;/li&gt;\\n&lt;li&gt;Mean length read : 98.79&lt;/li&gt;\\n&lt;/ul&gt;\"},\"id\":\"1060\",\"type\":\"panel.models.markup.HTML\"},{\"attributes\":{\"height\":360,\"margin\":[5,5,5,5],\"name\":\"Matplotlib00209\",\"text\":\"&lt;img src=&quot;data:image/png;base64,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&quot; width=&quot;720px&quot; height=&quot;360px&quot; alt=&quot;&quot;&gt;&lt;/img&gt;\",\"width\":720},\"id\":\"1065\",\"type\":\"panel.models.markup.HTML\"},{\"attributes\":{\"height\":360,\"margin\":[5,5,5,5],\"name\":\"Matplotlib00201\",\"text\":\"&lt;img src=&quot;data:image/png;base64,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&quot; width=&quot;720px&quot; height=&quot;360px&quot; alt=&quot;&quot;&gt;&lt;/img&gt;\",\"width\":720},\"id\":\"1061\",\"type\":\"panel.models.markup.HTML\"},{\"attributes\":{\"css_classes\":[\"markdown\"],\"margin\":[5,5,5,5],\"name\":\"Markdown00185\",\"text\":\"&lt;table&gt;\\n&lt;thead&gt;\\n&lt;tr&gt;\\n&lt;th align=&quot;left&quot;&gt;Pb sequenced by groups&lt;/th&gt;\\n&lt;th align=&quot;center&quot;&gt;&lt;/th&gt;\\n&lt;/tr&gt;\\n&lt;/thead&gt;\\n&lt;tbody&gt;\\n&lt;tr&gt;\\n&lt;td align=&quot;left&quot;&gt;O. barthii :&lt;/td&gt;\\n&lt;td align=&quot;center&quot;&gt;3182 Mb&lt;/td&gt;\\n&lt;/tr&gt;\\n&lt;/tbody&gt;\\n&lt;/table&gt;\"},\"id\":\"1056\",\"type\":\"panel.models.markup.HTML\"},{\"attributes\":{\"height\":360,\"margin\":[5,5,5,5],\"name\":\"Matplotlib00193\",\"text\":\"&lt;img src=&quot;data:image/png;base64,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&quot; width=&quot;720px&quot; height=&quot;360px&quot; alt=&quot;&quot;&gt;&lt;/img&gt;\",\"width\":720},\"id\":\"1057\",\"type\":\"panel.models.markup.HTML\"},{\"attributes\":{\"css_classes\":[\"markdown\"],\"margin\":[5,5,5,5],\"name\":\"Markdown00195\",\"text\":\"&lt;h3&gt;About Sequencing coverage&lt;/h3&gt;\\n&lt;ul&gt;\\n&lt;li&gt;x : 4 - 4 &lt;/li&gt;\\n&lt;li&gt;mean x : 4 &lt;/li&gt;\\n&lt;/ul&gt;\"},\"id\":\"1058\",\"type\":\"panel.models.markup.HTML\"},{\"attributes\":{\"height\":360,\"margin\":[5,5,5,5],\"name\":\"Matplotlib00205\",\"text\":\"&lt;img src=&quot;data:image/png;base64,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&quot; width=&quot;720px&quot; height=&quot;360px&quot; alt=&quot;&quot;&gt;&lt;/img&gt;\",\"width\":720},\"id\":\"1063\",\"type\":\"panel.models.markup.HTML\"},{\"attributes\":{\"css_classes\":[\"markdown\"],\"margin\":[5,5,5,5],\"name\":\"Markdown00183\",\"text\":\"&lt;table&gt;\\n&lt;thead&gt;\\n&lt;tr&gt;\\n&lt;th align=&quot;left&quot;&gt;Samples by group&lt;/th&gt;\\n&lt;th align=&quot;center&quot;&gt;&lt;/th&gt;\\n&lt;/tr&gt;\\n&lt;/thead&gt;\\n&lt;tbody&gt;\\n&lt;tr&gt;\\n&lt;td align=&quot;left&quot;&gt;O. barthii :&lt;/td&gt;\\n&lt;td align=&quot;center&quot;&gt;2 samples&lt;/td&gt;\\n&lt;/tr&gt;\\n&lt;/tbody&gt;\\n&lt;/table&gt;\"},\"id\":\"1055\",\"type\":\"panel.models.markup.HTML\"},{\"attributes\":{\"margin\":[5,5,5,5],\"name\":\"DataFrame00187\",\"text\":\"&lt;table border=&quot;0&quot; class=&quot;dataframe panel-df&quot;&gt;\\n  &lt;thead&gt;\\n    &lt;tr style=&quot;text-align: right;&quot;&gt;\\n      &lt;th&gt;&lt;/th&gt;\\n      &lt;th&gt;sample&lt;/th&gt;\\n      &lt;th&gt;file&lt;/th&gt;\\n      &lt;th&gt;reads&lt;/th&gt;\\n      &lt;th&gt;len_mean&lt;/th&gt;\\n      &lt;th&gt;qual_mean&lt;/th&gt;\\n      &lt;th&gt;%A&lt;/th&gt;\\n      &lt;th&gt;%C&lt;/th&gt;\\n      &lt;th&gt;%G&lt;/th&gt;\\n      &lt;th&gt;%T&lt;/th&gt;\\n      &lt;th&gt;%N&lt;/th&gt;\\n      &lt;th&gt;total_bases&lt;/th&gt;\\n    &lt;/tr&gt;\\n  &lt;/thead&gt;\\n  &lt;tbody&gt;\\n    &lt;tr&gt;\\n      &lt;th&gt;0&lt;/th&gt;\\n      &lt;td&gt;AA&lt;/td&gt;\\n      &lt;td&gt;AA_1&lt;/td&gt;\\n      &lt;td&gt;7626555&lt;/td&gt;\\n      &lt;td&gt;99.3717&lt;/td&gt;\\n      &lt;td&gt;37.5410&lt;/td&gt;\\n      &lt;td&gt;29.7800&lt;/td&gt;\\n      &lt;td&gt;20.2682&lt;/td&gt;\\n      &lt;td&gt;20.2388&lt;/td&gt;\\n      &lt;td&gt;29.7128&lt;/td&gt;\\n      &lt;td&gt;0.0002&lt;/td&gt;\\n      &lt;td&gt;757863950&lt;/td&gt;\\n    &lt;/tr&gt;\\n    &lt;tr&gt;\\n      &lt;th&gt;1&lt;/th&gt;\\n      &lt;td&gt;AA&lt;/td&gt;\\n      &lt;td&gt;AA_2&lt;/td&gt;\\n      &lt;td&gt;7626555&lt;/td&gt;\\n      &lt;td&gt;97.8972&lt;/td&gt;\\n      &lt;td&gt;36.9710&lt;/td&gt;\\n      &lt;td&gt;29.7820&lt;/td&gt;\\n      &lt;td&gt;20.3202&lt;/td&gt;\\n      &lt;td&gt;20.2055&lt;/td&gt;\\n      &lt;td&gt;29.6910&lt;/td&gt;\\n      &lt;td&gt;0.0013&lt;/td&gt;\\n      &lt;td&gt;746618183&lt;/td&gt;\\n    &lt;/tr&gt;\\n    &lt;tr&gt;\\n      &lt;th&gt;2&lt;/th&gt;\\n      &lt;td&gt;AB&lt;/td&gt;\\n      &lt;td&gt;AB_1&lt;/td&gt;\\n      &lt;td&gt;8479259&lt;/td&gt;\\n      &lt;td&gt;99.7522&lt;/td&gt;\\n      &lt;td&gt;37.8390&lt;/td&gt;\\n      &lt;td&gt;29.8922&lt;/td&gt;\\n      &lt;td&gt;20.0937&lt;/td&gt;\\n      &lt;td&gt;20.1187&lt;/td&gt;\\n      &lt;td&gt;29.8911&lt;/td&gt;\\n      &lt;td&gt;0.0044&lt;/td&gt;\\n      &lt;td&gt;845824647&lt;/td&gt;\\n    &lt;/tr&gt;\\n    &lt;tr&gt;\\n      &lt;th&gt;3&lt;/th&gt;\\n      &lt;td&gt;AB&lt;/td&gt;\\n      &lt;td&gt;AB_2&lt;/td&gt;\\n      &lt;td&gt;8479259&lt;/td&gt;\\n      &lt;td&gt;98.1218&lt;/td&gt;\\n      &lt;td&gt;37.2392&lt;/td&gt;\\n      &lt;td&gt;29.9399&lt;/td&gt;\\n      &lt;td&gt;20.1444&lt;/td&gt;\\n      &lt;td&gt;20.0807&lt;/td&gt;\\n      &lt;td&gt;29.8344&lt;/td&gt;\\n      &lt;td&gt;0.0007&lt;/td&gt;\\n      &lt;td&gt;832000316&lt;/td&gt;\\n    &lt;/tr&gt;\\n  &lt;/tbody&gt;\\n&lt;/table&gt;\",\"width\":800},\"id\":\"1066\",\"type\":\"panel.models.markup.HTML\"},{\"attributes\":{\"background\":\"WhiteSmoke\",\"children\":[{\"id\":\"1053\"},{\"id\":\"1054\"},{\"id\":\"1055\"},{\"id\":\"1056\"},{\"id\":\"1057\"},{\"id\":\"1058\"},{\"id\":\"1059\"},{\"id\":\"1060\"},{\"id\":\"1061\"},{\"id\":\"1062\"},{\"id\":\"1063\"},{\"id\":\"1064\"},{\"id\":\"1065\"},{\"id\":\"1066\"}],\"margin\":[0,0,0,0],\"name\":\"Column00211\",\"sizing_mode\":\"stretch_both\",\"width\":800},\"id\":\"1052\",\"type\":\"Column\"},{\"attributes\":{\"css_classes\":[\"markdown\"],\"margin\":[5,5,5,5],\"name\":\"Markdown00191\",\"text\":\"&lt;h3&gt;About population&lt;/h3&gt;\\n&lt;ul&gt;\\n&lt;li&gt;2 samples&lt;/li&gt;\\n&lt;li&gt;Total base sequenced : 3182 Mb&lt;/li&gt;\\n&lt;/ul&gt;\"},\"id\":\"1054\",\"type\":\"panel.models.markup.HTML\"},{\"attributes\":{\"height\":360,\"margin\":[5,5,5,5],\"name\":\"Matplotlib00197\",\"text\":\"&lt;img src=&quot;data:image/png;base64,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&quot; width=&quot;720px&quot; height=&quot;360px&quot; alt=&quot;&quot;&gt;&lt;/img&gt;\",\"width\":720},\"id\":\"1059\",\"type\":\"panel.models.markup.HTML\"}],\"root_ids\":[\"1052\",\"1067\"]},\"title\":\"Bokeh Application\",\"version\":\"2.3.3\"}};\n",
       "    var render_items = [{\"docid\":\"2309167c-328e-4c14-904c-71466cdb4d4b\",\"root_ids\":[\"1052\"],\"roots\":{\"1052\":\"f18e7cc6-887b-41ab-aa87-9718a62600d2\"}}];\n",
       "    root.Bokeh.embed.embed_items_notebook(docs_json, render_items);\n",
       "  }\n",
       "  if (root.Bokeh !== undefined && root.Bokeh.Panel !== undefined) {\n",
       "    embed_document(root);\n",
       "  } else {\n",
       "    var attempts = 0;\n",
       "    var timer = setInterval(function(root) {\n",
       "      if (root.Bokeh !== undefined && root.Bokeh.Panel !== undefined) {\n",
       "        clearInterval(timer);\n",
       "        embed_document(root);\n",
       "      } else if (document.readyState == \"complete\") {\n",
       "        attempts++;\n",
       "        if (attempts > 100) {\n",
       "          clearInterval(timer);\n",
       "          console.log(\"Bokeh: ERROR: Unable to run BokehJS code because BokehJS library is missing\");\n",
       "        }\n",
       "      }\n",
       "    }, 10, root)\n",
       "  }\n",
       "})(window);</script>"
      ],
      "text/plain": [
       "Column(background='WhiteSmoke', sizing_mode='stretch_both', width=800)\n",
       "    [0] Markdown(str)\n",
       "    [1] Markdown(str)\n",
       "    [2] Markdown(str)\n",
       "    [3] Markdown(str)\n",
       "    [4] Matplotlib(Figure)\n",
       "    [5] Markdown(str)\n",
       "    [6] Matplotlib(Figure)\n",
       "    [7] Markdown(str)\n",
       "    [8] Matplotlib(Figure)\n",
       "    [9] Markdown(str)\n",
       "    [10] Matplotlib(Figure)\n",
       "    [11] Markdown(str)\n",
       "    [12] Matplotlib(Figure)\n",
       "    [13] DataFrame(DataFrame, width=800)"
      ]
     },
     "metadata": {
      "application/vnd.holoviews_exec.v0+json": {
       "id": "1052"
      }
     },
     "output_type": "display_data"
    }
   ],
   "source": [
    "bgc('LightBlue')\n",
    "\n",
    "# Creating directory\n",
    "stat_dir = output_dir + \"/00-fastq_stats/\"\n",
    "\n",
    "# run fastq_stats\n",
    "fastq_stats_dir(fastq_dir.value, stat_dir, df_group, logger)\n",
    "\n",
    "# merging all files generated by fastq_sample\n",
    "fastqstat_csv=stat_dir+\"all_fastq-stats.csv\"\n",
    "merge_fastqstat(fastqstat_csv, stat_dir,logger)\n",
    "\n",
    "#Raw data dashboard\n",
    "dashboard_fastq(fastqstat_csv,total_genome_size,df_group)"
   ]
  },
  {
   "cell_type": "markdown",
   "metadata": {
    "tags": []
   },
   "source": [
    "### <span style=\"color: #919395\">_2 - Mapping the individuals reads against the reference genome_  <a class=\"anchor\" id=\"mapping\"></a></span>\n"
   ]
  },
  {
   "cell_type": "markdown",
   "metadata": {},
   "source": [
    "#### __Mapping with `BWA mem` <a class=\"anchor\" id=\"mappingbwa\">__\n",
    "\n",
    "Options of bwa-mem : \n",
    "* -p : Assume the first input query file is interleaved paired-end FASTQ\n",
    "* -M : Mark shorter split hits as secondary\n",
    "* -t : Number of threads\n",
    "\n",
    "Options of samtools sort : \n",
    "* -@ : Set number of sorting and compression threads\n",
    "* -o : Write the final sorted output to FILE, rather than to standard output"
   ]
  },
  {
   "cell_type": "code",
   "execution_count": 8,
   "metadata": {
    "tags": []
   },
   "outputs": [
    {
     "data": {
      "text/html": [
       "<img src onerror=\"var cell = this.closest('.jp-CodeCell');var editor = cell.querySelector('.jp-Editor');editor.style.background='LightBlue';this.parentNode.removeChild(this)\">"
      ],
      "text/plain": [
       "<IPython.core.display.HTML object>"
      ]
     },
     "metadata": {},
     "output_type": "display_data"
    }
   ],
   "source": [
    "bgc('LightBlue')\n",
    "\n",
    "cpu=6\n",
    "output_mapping_dir = output_dir + \"/01-mapping_against_reference/\"\n",
    "fastq2bam_dir(ref_file.value, fastq_dir.value, df_group, cpu, output_mapping_dir, logger)"
   ]
  },
  {
   "cell_type": "markdown",
   "metadata": {},
   "source": [
    "#### __Generating mapping stats <a class=\"anchor\" id=\"mappingstat\">__\n",
    "    \n",
    "Statistics are generated by `samtools flagstat` and they are saved into the directory _01_mapping-against_reference_ and the subdirectory _stat_\n",
    "\n",
    "* One \"flagtstat file\" is generated for each bam file (http://www.htslib.org/doc/samtools-flagstat.html).\n",
    "\n",
    "* _all_flagstat.csv_ file \n",
    "\n",
    "```bash\n",
    "sample MAPPED PAIRED UNMAPPED\n",
    "NL 98.68 94.50 0.59\n",
    "NF 98.16 96.61 0.38\n",
    "...\n",
    "```"
   ]
  },
  {
   "cell_type": "code",
   "execution_count": null,
   "metadata": {},
   "outputs": [
    {
     "data": {
      "text/html": [
       "<img src onerror=\"var cell = this.closest('.jp-CodeCell');var editor = cell.querySelector('.jp-Editor');editor.style.background='LightBlue';this.parentNode.removeChild(this)\">"
      ],
      "text/plain": [
       "<IPython.core.display.HTML object>"
      ]
     },
     "metadata": {},
     "output_type": "display_data"
    },
    {
     "data": {},
     "metadata": {},
     "output_type": "display_data"
    },
    {
     "data": {
      "application/vnd.holoviews_exec.v0+json": "",
      "text/html": [
       "<div id='1092'>\n",
       "\n",
       "\n",
       "\n",
       "\n",
       "\n",
       "  <div class=\"bk-root\" id=\"929535f8-80ed-4059-b462-f8e548c873ae\" data-root-id=\"1092\"></div>\n",
       "</div>\n",
       "<script type=\"application/javascript\">(function(root) {\n",
       "  function embed_document(root) {\n",
       "    var docs_json = {\"28f9cf3f-dc7f-4e6e-9607-30b0ebfa87d8\":{\"defs\":[],\"roots\":{\"references\":[{\"attributes\":{\"css_classes\":[\"alert\",\"alert-warning\",\"markdown\"],\"margin\":[0,0,25,0],\"name\":\"Alert00262\",\"sizing_mode\":\"stretch_width\",\"text\":\"&lt;h3&gt;warning&lt;/h3&gt;\\n&lt;hr&gt;\\n&lt;p&gt;Directory /home/christine/Documents/These/frangiPANeGIT/frangiPANe_rice/01-mapping_against_reference//stat/ already existed&lt;/p&gt;\"},\"id\":\"1092\",\"type\":\"panel.models.markup.HTML\"},{\"attributes\":{\"client_comm_id\":\"ff767cf3b2664d6e9c083ed635c4eaba\",\"comm_id\":\"444a16978bb64b1ba35521fbf6932678\",\"plot_id\":\"1092\"},\"id\":\"1093\",\"type\":\"panel.models.comm_manager.CommManager\"}],\"root_ids\":[\"1092\",\"1093\"]},\"title\":\"Bokeh Application\",\"version\":\"2.3.3\"}};\n",
       "    var render_items = [{\"docid\":\"28f9cf3f-dc7f-4e6e-9607-30b0ebfa87d8\",\"root_ids\":[\"1092\"],\"roots\":{\"1092\":\"929535f8-80ed-4059-b462-f8e548c873ae\"}}];\n",
       "    root.Bokeh.embed.embed_items_notebook(docs_json, render_items);\n",
       "  }\n",
       "  if (root.Bokeh !== undefined && root.Bokeh.Panel !== undefined) {\n",
       "    embed_document(root);\n",
       "  } else {\n",
       "    var attempts = 0;\n",
       "    var timer = setInterval(function(root) {\n",
       "      if (root.Bokeh !== undefined && root.Bokeh.Panel !== undefined) {\n",
       "        clearInterval(timer);\n",
       "        embed_document(root);\n",
       "      } else if (document.readyState == \"complete\") {\n",
       "        attempts++;\n",
       "        if (attempts > 100) {\n",
       "          clearInterval(timer);\n",
       "          console.log(\"Bokeh: ERROR: Unable to run BokehJS code because BokehJS library is missing\");\n",
       "        }\n",
       "      }\n",
       "    }, 10, root)\n",
       "  }\n",
       "})(window);</script>"
      ],
      "text/plain": [
       "Alert(str, alert_type='warning', css_classes=['alert', 'alert-warning']...], margin=(0, 0, 25, 0), sizing_mode='stretch_width')"
      ]
     },
     "metadata": {
      "application/vnd.holoviews_exec.v0+json": {
       "id": "1092"
      }
     },
     "output_type": "display_data"
    },
    {
     "data": {},
     "metadata": {},
     "output_type": "display_data"
    },
    {
     "data": {
      "application/vnd.holoviews_exec.v0+json": "",
      "text/html": [
       "<div id='1094'>\n",
       "\n",
       "\n",
       "\n",
       "\n",
       "\n",
       "  <div class=\"bk-root\" id=\"34e65897-c25d-4b53-a895-380c38f9b6c3\" data-root-id=\"1094\"></div>\n",
       "</div>\n",
       "<script type=\"application/javascript\">(function(root) {\n",
       "  function embed_document(root) {\n",
       "    var docs_json = {\"f255724d-23ad-4d5a-b721-a8c22b69d48b\":{\"defs\":[],\"roots\":{\"references\":[{\"attributes\":{\"css_classes\":[\"alert\",\"alert-secondary\",\"markdown\"],\"margin\":[0,0,25,0],\"name\":\"Alert00266\",\"sizing_mode\":\"stretch_width\",\"text\":\"&lt;p&gt;Generating mapping stat (with samtools flagstat) for AA.bam&amp;hellip;&lt;/p&gt;\"},\"id\":\"1094\",\"type\":\"panel.models.markup.HTML\"},{\"attributes\":{\"client_comm_id\":\"b2f3bf2b41c8477a9e89087bb40b1651\",\"comm_id\":\"16add0a1e10a4ff5a5012a499bfdb621\",\"plot_id\":\"1094\"},\"id\":\"1095\",\"type\":\"panel.models.comm_manager.CommManager\"}],\"root_ids\":[\"1094\",\"1095\"]},\"title\":\"Bokeh Application\",\"version\":\"2.3.3\"}};\n",
       "    var render_items = [{\"docid\":\"f255724d-23ad-4d5a-b721-a8c22b69d48b\",\"root_ids\":[\"1094\"],\"roots\":{\"1094\":\"34e65897-c25d-4b53-a895-380c38f9b6c3\"}}];\n",
       "    root.Bokeh.embed.embed_items_notebook(docs_json, render_items);\n",
       "  }\n",
       "  if (root.Bokeh !== undefined && root.Bokeh.Panel !== undefined) {\n",
       "    embed_document(root);\n",
       "  } else {\n",
       "    var attempts = 0;\n",
       "    var timer = setInterval(function(root) {\n",
       "      if (root.Bokeh !== undefined && root.Bokeh.Panel !== undefined) {\n",
       "        clearInterval(timer);\n",
       "        embed_document(root);\n",
       "      } else if (document.readyState == \"complete\") {\n",
       "        attempts++;\n",
       "        if (attempts > 100) {\n",
       "          clearInterval(timer);\n",
       "          console.log(\"Bokeh: ERROR: Unable to run BokehJS code because BokehJS library is missing\");\n",
       "        }\n",
       "      }\n",
       "    }, 10, root)\n",
       "  }\n",
       "})(window);</script>"
      ],
      "text/plain": [
       "Alert(str, alert_type='secondary', css_classes=['alert', 'alert-secondary...], margin=(0, 0, 25, 0), sizing_mode='stretch_width')"
      ]
     },
     "metadata": {
      "application/vnd.holoviews_exec.v0+json": {
       "id": "1094"
      }
     },
     "output_type": "display_data"
    },
    {
     "data": {},
     "metadata": {},
     "output_type": "display_data"
    },
    {
     "data": {
      "application/vnd.holoviews_exec.v0+json": "",
      "text/html": [
       "<div id='1096'>\n",
       "\n",
       "\n",
       "\n",
       "\n",
       "\n",
       "  <div class=\"bk-root\" id=\"328e29d1-cfae-494a-b624-9e4a3d7051c0\" data-root-id=\"1096\"></div>\n",
       "</div>\n",
       "<script type=\"application/javascript\">(function(root) {\n",
       "  function embed_document(root) {\n",
       "    var docs_json = {\"82e420eb-15f9-4275-90dc-bf3546f11dd0\":{\"defs\":[],\"roots\":{\"references\":[{\"attributes\":{\"css_classes\":[\"alert\",\"alert-success\",\"markdown\"],\"margin\":[0,0,25,0],\"name\":\"Alert00270\",\"sizing_mode\":\"stretch_width\",\"text\":\"&lt;p&gt;samtools flagstat executed successfully (AA.bam.samtoolsFlagstat)&lt;/p&gt;\"},\"id\":\"1096\",\"type\":\"panel.models.markup.HTML\"},{\"attributes\":{\"client_comm_id\":\"a9f023cc7c7544198143003aaff50f6d\",\"comm_id\":\"d76ee4fe19844f819a741bb3cea9c8ab\",\"plot_id\":\"1096\"},\"id\":\"1097\",\"type\":\"panel.models.comm_manager.CommManager\"}],\"root_ids\":[\"1096\",\"1097\"]},\"title\":\"Bokeh Application\",\"version\":\"2.3.3\"}};\n",
       "    var render_items = [{\"docid\":\"82e420eb-15f9-4275-90dc-bf3546f11dd0\",\"root_ids\":[\"1096\"],\"roots\":{\"1096\":\"328e29d1-cfae-494a-b624-9e4a3d7051c0\"}}];\n",
       "    root.Bokeh.embed.embed_items_notebook(docs_json, render_items);\n",
       "  }\n",
       "  if (root.Bokeh !== undefined && root.Bokeh.Panel !== undefined) {\n",
       "    embed_document(root);\n",
       "  } else {\n",
       "    var attempts = 0;\n",
       "    var timer = setInterval(function(root) {\n",
       "      if (root.Bokeh !== undefined && root.Bokeh.Panel !== undefined) {\n",
       "        clearInterval(timer);\n",
       "        embed_document(root);\n",
       "      } else if (document.readyState == \"complete\") {\n",
       "        attempts++;\n",
       "        if (attempts > 100) {\n",
       "          clearInterval(timer);\n",
       "          console.log(\"Bokeh: ERROR: Unable to run BokehJS code because BokehJS library is missing\");\n",
       "        }\n",
       "      }\n",
       "    }, 10, root)\n",
       "  }\n",
       "})(window);</script>"
      ],
      "text/plain": [
       "Alert(str, alert_type='success', css_classes=['alert', 'alert-success']...], margin=(0, 0, 25, 0), sizing_mode='stretch_width')"
      ]
     },
     "metadata": {
      "application/vnd.holoviews_exec.v0+json": {
       "id": "1096"
      }
     },
     "output_type": "display_data"
    },
    {
     "data": {},
     "metadata": {},
     "output_type": "display_data"
    },
    {
     "data": {
      "application/vnd.holoviews_exec.v0+json": "",
      "text/html": [
       "<div id='1098'>\n",
       "\n",
       "\n",
       "\n",
       "\n",
       "\n",
       "  <div class=\"bk-root\" id=\"7e955f56-302b-4193-8f58-ed2b29ffd4f4\" data-root-id=\"1098\"></div>\n",
       "</div>\n",
       "<script type=\"application/javascript\">(function(root) {\n",
       "  function embed_document(root) {\n",
       "    var docs_json = {\"779e49c0-278d-42cf-b4ae-11804f932589\":{\"defs\":[],\"roots\":{\"references\":[{\"attributes\":{\"css_classes\":[\"alert\",\"alert-secondary\",\"markdown\"],\"margin\":[0,0,25,0],\"name\":\"Alert00274\",\"sizing_mode\":\"stretch_width\",\"text\":\"&lt;p&gt;Generating mapping stat (with samtools flagstat) for AB.bam&amp;hellip;&lt;/p&gt;\"},\"id\":\"1098\",\"type\":\"panel.models.markup.HTML\"},{\"attributes\":{\"client_comm_id\":\"5a1d1e666fc34d00be4e3fd8adbb6146\",\"comm_id\":\"a5f8925beb3e45ef965e049347228006\",\"plot_id\":\"1098\"},\"id\":\"1099\",\"type\":\"panel.models.comm_manager.CommManager\"}],\"root_ids\":[\"1098\",\"1099\"]},\"title\":\"Bokeh Application\",\"version\":\"2.3.3\"}};\n",
       "    var render_items = [{\"docid\":\"779e49c0-278d-42cf-b4ae-11804f932589\",\"root_ids\":[\"1098\"],\"roots\":{\"1098\":\"7e955f56-302b-4193-8f58-ed2b29ffd4f4\"}}];\n",
       "    root.Bokeh.embed.embed_items_notebook(docs_json, render_items);\n",
       "  }\n",
       "  if (root.Bokeh !== undefined && root.Bokeh.Panel !== undefined) {\n",
       "    embed_document(root);\n",
       "  } else {\n",
       "    var attempts = 0;\n",
       "    var timer = setInterval(function(root) {\n",
       "      if (root.Bokeh !== undefined && root.Bokeh.Panel !== undefined) {\n",
       "        clearInterval(timer);\n",
       "        embed_document(root);\n",
       "      } else if (document.readyState == \"complete\") {\n",
       "        attempts++;\n",
       "        if (attempts > 100) {\n",
       "          clearInterval(timer);\n",
       "          console.log(\"Bokeh: ERROR: Unable to run BokehJS code because BokehJS library is missing\");\n",
       "        }\n",
       "      }\n",
       "    }, 10, root)\n",
       "  }\n",
       "})(window);</script>"
      ],
      "text/plain": [
       "Alert(str, alert_type='secondary', css_classes=['alert', 'alert-secondary...], margin=(0, 0, 25, 0), sizing_mode='stretch_width')"
      ]
     },
     "metadata": {
      "application/vnd.holoviews_exec.v0+json": {
       "id": "1098"
      }
     },
     "output_type": "display_data"
    },
    {
     "data": {},
     "metadata": {},
     "output_type": "display_data"
    },
    {
     "data": {
      "application/vnd.holoviews_exec.v0+json": "",
      "text/html": [
       "<div id='1100'>\n",
       "\n",
       "\n",
       "\n",
       "\n",
       "\n",
       "  <div class=\"bk-root\" id=\"570a28f4-71a4-468a-bc47-9124e9260f0d\" data-root-id=\"1100\"></div>\n",
       "</div>\n",
       "<script type=\"application/javascript\">(function(root) {\n",
       "  function embed_document(root) {\n",
       "    var docs_json = {\"eacd89b2-fa3a-450b-8c84-e4e818fba6c0\":{\"defs\":[],\"roots\":{\"references\":[{\"attributes\":{\"client_comm_id\":\"24af0b7a5ff04768b7f51df4066ffe40\",\"comm_id\":\"6c1350ead80f44f8990b611617e37d4c\",\"plot_id\":\"1100\"},\"id\":\"1101\",\"type\":\"panel.models.comm_manager.CommManager\"},{\"attributes\":{\"css_classes\":[\"alert\",\"alert-success\",\"markdown\"],\"margin\":[0,0,25,0],\"name\":\"Alert00278\",\"sizing_mode\":\"stretch_width\",\"text\":\"&lt;p&gt;samtools flagstat executed successfully (AB.bam.samtoolsFlagstat)&lt;/p&gt;\"},\"id\":\"1100\",\"type\":\"panel.models.markup.HTML\"}],\"root_ids\":[\"1100\",\"1101\"]},\"title\":\"Bokeh Application\",\"version\":\"2.3.3\"}};\n",
       "    var render_items = [{\"docid\":\"eacd89b2-fa3a-450b-8c84-e4e818fba6c0\",\"root_ids\":[\"1100\"],\"roots\":{\"1100\":\"570a28f4-71a4-468a-bc47-9124e9260f0d\"}}];\n",
       "    root.Bokeh.embed.embed_items_notebook(docs_json, render_items);\n",
       "  }\n",
       "  if (root.Bokeh !== undefined && root.Bokeh.Panel !== undefined) {\n",
       "    embed_document(root);\n",
       "  } else {\n",
       "    var attempts = 0;\n",
       "    var timer = setInterval(function(root) {\n",
       "      if (root.Bokeh !== undefined && root.Bokeh.Panel !== undefined) {\n",
       "        clearInterval(timer);\n",
       "        embed_document(root);\n",
       "      } else if (document.readyState == \"complete\") {\n",
       "        attempts++;\n",
       "        if (attempts > 100) {\n",
       "          clearInterval(timer);\n",
       "          console.log(\"Bokeh: ERROR: Unable to run BokehJS code because BokehJS library is missing\");\n",
       "        }\n",
       "      }\n",
       "    }, 10, root)\n",
       "  }\n",
       "})(window);</script>"
      ],
      "text/plain": [
       "Alert(str, alert_type='success', css_classes=['alert', 'alert-success']...], margin=(0, 0, 25, 0), sizing_mode='stretch_width')"
      ]
     },
     "metadata": {
      "application/vnd.holoviews_exec.v0+json": {
       "id": "1100"
      }
     },
     "output_type": "display_data"
    },
    {
     "data": {},
     "metadata": {},
     "output_type": "display_data"
    },
    {
     "data": {
      "application/vnd.holoviews_exec.v0+json": "",
      "text/html": [
       "<div id='1102'>\n",
       "\n",
       "\n",
       "\n",
       "\n",
       "\n",
       "  <div class=\"bk-root\" id=\"e8c089c2-8fe5-4827-bdda-5c2125fe0e4d\" data-root-id=\"1102\"></div>\n",
       "</div>\n",
       "<script type=\"application/javascript\">(function(root) {\n",
       "  function embed_document(root) {\n",
       "    var docs_json = {\"10324de9-1be4-41f4-bbf4-698850319fb7\":{\"defs\":[],\"roots\":{\"references\":[{\"attributes\":{\"client_comm_id\":\"d7ff853e33af420baa8637b1ef45cedb\",\"comm_id\":\"c64a2bcbebf643d6a007f7eda7164f94\",\"plot_id\":\"1102\"},\"id\":\"1103\",\"type\":\"panel.models.comm_manager.CommManager\"},{\"attributes\":{\"css_classes\":[\"alert\",\"alert-secondary\",\"markdown\"],\"margin\":[0,0,25,0],\"name\":\"Alert00282\",\"sizing_mode\":\"stretch_width\",\"text\":\"&lt;p&gt;Compiling mapping stat into an unique file&amp;hellip;&lt;/p&gt;\"},\"id\":\"1102\",\"type\":\"panel.models.markup.HTML\"}],\"root_ids\":[\"1102\",\"1103\"]},\"title\":\"Bokeh Application\",\"version\":\"2.3.3\"}};\n",
       "    var render_items = [{\"docid\":\"10324de9-1be4-41f4-bbf4-698850319fb7\",\"root_ids\":[\"1102\"],\"roots\":{\"1102\":\"e8c089c2-8fe5-4827-bdda-5c2125fe0e4d\"}}];\n",
       "    root.Bokeh.embed.embed_items_notebook(docs_json, render_items);\n",
       "  }\n",
       "  if (root.Bokeh !== undefined && root.Bokeh.Panel !== undefined) {\n",
       "    embed_document(root);\n",
       "  } else {\n",
       "    var attempts = 0;\n",
       "    var timer = setInterval(function(root) {\n",
       "      if (root.Bokeh !== undefined && root.Bokeh.Panel !== undefined) {\n",
       "        clearInterval(timer);\n",
       "        embed_document(root);\n",
       "      } else if (document.readyState == \"complete\") {\n",
       "        attempts++;\n",
       "        if (attempts > 100) {\n",
       "          clearInterval(timer);\n",
       "          console.log(\"Bokeh: ERROR: Unable to run BokehJS code because BokehJS library is missing\");\n",
       "        }\n",
       "      }\n",
       "    }, 10, root)\n",
       "  }\n",
       "})(window);</script>"
      ],
      "text/plain": [
       "Alert(str, alert_type='secondary', css_classes=['alert', 'alert-secondary...], margin=(0, 0, 25, 0), sizing_mode='stretch_width')"
      ]
     },
     "metadata": {
      "application/vnd.holoviews_exec.v0+json": {
       "id": "1102"
      }
     },
     "output_type": "display_data"
    },
    {
     "data": {},
     "metadata": {},
     "output_type": "display_data"
    },
    {
     "data": {
      "application/vnd.holoviews_exec.v0+json": "",
      "text/html": [
       "<div id='1104'>\n",
       "\n",
       "\n",
       "\n",
       "\n",
       "\n",
       "  <div class=\"bk-root\" id=\"ddf92c95-d83f-49fb-8647-a1074c7804bd\" data-root-id=\"1104\"></div>\n",
       "</div>\n",
       "<script type=\"application/javascript\">(function(root) {\n",
       "  function embed_document(root) {\n",
       "    var docs_json = {\"529dbaa8-9b6c-4aab-906b-b39ff3207f34\":{\"defs\":[],\"roots\":{\"references\":[{\"attributes\":{\"css_classes\":[\"alert\",\"alert-success\",\"markdown\"],\"margin\":[0,0,25,0],\"name\":\"Alert00286\",\"sizing_mode\":\"stretch_width\",\"text\":\"&lt;p&gt;Compiling successfully done. See /home/christine/Documents/These/frangiPANeGIT/frangiPANe_rice/01-mapping_against_reference//stat/all_flagstat.csv&lt;/p&gt;\"},\"id\":\"1104\",\"type\":\"panel.models.markup.HTML\"},{\"attributes\":{\"client_comm_id\":\"c07401cd3ab345cdb2109915bd96dcd1\",\"comm_id\":\"d7307f38c9414b7889e8fa081f05813b\",\"plot_id\":\"1104\"},\"id\":\"1105\",\"type\":\"panel.models.comm_manager.CommManager\"}],\"root_ids\":[\"1104\",\"1105\"]},\"title\":\"Bokeh Application\",\"version\":\"2.3.3\"}};\n",
       "    var render_items = [{\"docid\":\"529dbaa8-9b6c-4aab-906b-b39ff3207f34\",\"root_ids\":[\"1104\"],\"roots\":{\"1104\":\"ddf92c95-d83f-49fb-8647-a1074c7804bd\"}}];\n",
       "    root.Bokeh.embed.embed_items_notebook(docs_json, render_items);\n",
       "  }\n",
       "  if (root.Bokeh !== undefined && root.Bokeh.Panel !== undefined) {\n",
       "    embed_document(root);\n",
       "  } else {\n",
       "    var attempts = 0;\n",
       "    var timer = setInterval(function(root) {\n",
       "      if (root.Bokeh !== undefined && root.Bokeh.Panel !== undefined) {\n",
       "        clearInterval(timer);\n",
       "        embed_document(root);\n",
       "      } else if (document.readyState == \"complete\") {\n",
       "        attempts++;\n",
       "        if (attempts > 100) {\n",
       "          clearInterval(timer);\n",
       "          console.log(\"Bokeh: ERROR: Unable to run BokehJS code because BokehJS library is missing\");\n",
       "        }\n",
       "      }\n",
       "    }, 10, root)\n",
       "  }\n",
       "})(window);</script>"
      ],
      "text/plain": [
       "Alert(str, alert_type='success', css_classes=['alert', 'alert-success']...], margin=(0, 0, 25, 0), sizing_mode='stretch_width')"
      ]
     },
     "metadata": {
      "application/vnd.holoviews_exec.v0+json": {
       "id": "1104"
      }
     },
     "output_type": "display_data"
    }
   ],
   "source": [
    "bgc('LightBlue')\n",
    "\n",
    "stat_dir = output_mapping_dir + \"/stat/\"\n",
    "make_dir(stat_dir)\n",
    "\n",
    "logger.info(f\"MAPPING STAT :\")\n",
    "logger.info(f\"\\t\\tMapping stat directory : {stat_dir}\")\n",
    "\n",
    "for file_name in os.listdir(output_mapping_dir):\n",
    "    if \".bam\" in file_name:\n",
    "        samtools_flagstat(os.path.join(output_mapping_dir,file_name), stat_dir,logger)\n",
    "\n",
    "#### __Compiling stats into a unique tabulated file__\n",
    "merge_flagstat(output_dir=stat_dir, logger=logger)"
   ]
  },
  {
   "cell_type": "markdown",
   "metadata": {},
   "source": [
    "#### __Mapping dashboard__"
   ]
  },
  {
   "cell_type": "code",
   "execution_count": 9,
   "metadata": {},
   "outputs": [
    {
     "data": {
      "text/html": [
       "<img src onerror=\"var cell = this.closest('.jp-CodeCell');var editor = cell.querySelector('.jp-Editor');editor.style.background='LightBlue';this.parentNode.removeChild(this)\">"
      ],
      "text/plain": [
       "<IPython.core.display.HTML object>"
      ]
     },
     "metadata": {},
     "output_type": "display_data"
    },
    {
     "data": {},
     "metadata": {},
     "output_type": "display_data"
    },
    {
     "data": {
      "application/vnd.holoviews_exec.v0+json": "",
      "text/html": [
       "<div id='1068'>\n",
       "\n",
       "\n",
       "\n",
       "\n",
       "\n",
       "  <div class=\"bk-root\" id=\"bd29238d-e8eb-4a6f-8fa9-e7d1383a4d61\" data-root-id=\"1068\"></div>\n",
       "</div>\n",
       "<script type=\"application/javascript\">(function(root) {\n",
       "  function embed_document(root) {\n",
       "    var docs_json = {\"9fab0283-04ee-404c-b00e-bc1731ba85fa\":{\"defs\":[],\"roots\":{\"references\":[{\"attributes\":{\"background\":\"WhiteSmoke\",\"children\":[{\"id\":\"1069\"},{\"id\":\"1070\"},{\"id\":\"1071\"},{\"id\":\"1072\"},{\"id\":\"1075\"},{\"id\":\"1076\"},{\"id\":\"1079\"},{\"id\":\"1080\"},{\"id\":\"1083\"},{\"id\":\"1084\"},{\"id\":\"1087\"}],\"margin\":[0,0,0,0],\"name\":\"Column00249\",\"sizing_mode\":\"stretch_both\",\"width\":800},\"id\":\"1068\",\"type\":\"Column\"},{\"attributes\":{\"css_classes\":[\"markdown\"],\"margin\":[5,5,5,5],\"name\":\"Markdown00220\",\"text\":\"&lt;p&gt;&lt;br /&gt;&lt;/p&gt;\\n&lt;ul&gt;\\n&lt;li&gt;min - max : 92.69 - 93.9 %&lt;/li&gt;\\n&lt;li&gt;mean : 93.3&lt;/li&gt;\\n&lt;/ul&gt;\"},\"id\":\"1073\",\"type\":\"panel.models.markup.HTML\"},{\"attributes\":{\"children\":[{\"id\":\"1085\"},{\"id\":\"1086\"}],\"margin\":[0,0,0,0],\"name\":\"Row00233\"},\"id\":\"1084\",\"type\":\"Row\"},{\"attributes\":{\"css_classes\":[\"markdown\"],\"margin\":[5,5,5,5],\"name\":\"Markdown00239\",\"text\":\"&lt;h1&gt;Some statistics about mapping step&lt;/h1&gt;\"},\"id\":\"1069\",\"type\":\"panel.models.markup.HTML\"},{\"attributes\":{\"css_classes\":[\"markdown\"],\"margin\":[5,5,5,5],\"name\":\"Markdown00216\",\"text\":\"&lt;table&gt;\\n&lt;thead&gt;\\n&lt;tr&gt;\\n&lt;th align=&quot;left&quot;&gt;Samples by group&lt;/th&gt;\\n&lt;th align=&quot;center&quot;&gt;&lt;/th&gt;\\n&lt;/tr&gt;\\n&lt;/thead&gt;\\n&lt;tbody&gt;\\n&lt;tr&gt;\\n&lt;td align=&quot;left&quot;&gt;O. barthii :&lt;/td&gt;\\n&lt;td align=&quot;center&quot;&gt;2 samples&lt;/td&gt;\\n&lt;/tr&gt;\\n&lt;/tbody&gt;\\n&lt;/table&gt;\"},\"id\":\"1070\",\"type\":\"panel.models.markup.HTML\"},{\"attributes\":{\"children\":[{\"id\":\"1073\"},{\"id\":\"1074\"}],\"margin\":[0,0,0,0],\"name\":\"Row00222\"},\"id\":\"1072\",\"type\":\"Row\"},{\"attributes\":{\"client_comm_id\":\"b27614f134fa4563aeea917317c85fda\",\"comm_id\":\"7f22f1304bdd4e5eb8acc1b73993d0d6\",\"plot_id\":\"1068\"},\"id\":\"1089\",\"type\":\"panel.models.comm_manager.CommManager\"},{\"attributes\":{\"height\":360,\"margin\":[5,5,5,5],\"name\":\"Matplotlib00247\",\"text\":\"&lt;img src=&quot;data:image/png;base64,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&quot; width=&quot;864px&quot; height=&quot;360px&quot; alt=&quot;&quot;&gt;&lt;/img&gt;\",\"width\":864},\"id\":\"1083\",\"type\":\"panel.models.markup.HTML\"},{\"attributes\":{\"children\":[{\"id\":\"1077\"},{\"id\":\"1078\"}],\"margin\":[0,0,0,0],\"name\":\"Row00227\"},\"id\":\"1076\",\"type\":\"Row\"},{\"attributes\":{\"margin\":[5,5,5,5],\"name\":\"Str00236\"},\"id\":\"1088\",\"type\":\"panel.models.markup.HTML\"},{\"attributes\":{\"children\":[{\"id\":\"1088\"}],\"margin\":[0,0,0,0],\"max_height\":400,\"min_width\":400,\"name\":\"Row00238\",\"width\":400},\"id\":\"1087\",\"type\":\"Row\"},{\"attributes\":{\"css_classes\":[\"markdown\"],\"margin\":[5,5,5,5],\"name\":\"Markdown00241\",\"text\":\"&lt;p&gt;&lt;br /&gt;&lt;hr&gt;&lt;br /&gt;&lt;/p&gt;\\n&lt;h3&gt;Reads mapped&lt;/h3&gt;\"},\"id\":\"1071\",\"type\":\"panel.models.markup.HTML\"},{\"attributes\":{\"margin\":[0,20,0,0],\"options\":[\"O. barthii\"],\"placeholder\":\"\",\"title\":\"Group\"},\"id\":\"1085\",\"type\":\"MultiChoice\"},{\"attributes\":{\"css_classes\":[\"markdown\"],\"margin\":[5,5,5,5],\"name\":\"Markdown00225\",\"text\":\"&lt;p&gt;&lt;br /&gt;&lt;/p&gt;\\n&lt;ul&gt;\\n&lt;li&gt;min - max : 73.76 - 78.45 %&lt;/li&gt;\\n&lt;li&gt;mean : 76.1&lt;/li&gt;\\n&lt;/ul&gt;\"},\"id\":\"1077\",\"type\":\"panel.models.markup.HTML\"},{\"attributes\":{\"css_classes\":[\"markdown\"],\"margin\":[5,5,5,5],\"name\":\"Markdown00245\",\"text\":\"&lt;p&gt;&lt;br /&gt;&lt;hr&gt;&lt;br /&gt;&lt;/p&gt;\\n&lt;h3&gt;Reads unmapped&lt;/h3&gt;\"},\"id\":\"1079\",\"type\":\"panel.models.markup.HTML\"},{\"attributes\":{\"margin\":[5,5,5,5],\"name\":\"DataFrame00228\",\"text\":\"&lt;table border=&quot;0&quot; class=&quot;dataframe panel-df&quot;&gt;\\n  &lt;thead&gt;\\n    &lt;tr&gt;\\n      &lt;th&gt;&lt;/th&gt;\\n      &lt;th colspan=&quot;3&quot; halign=&quot;left&quot;&gt;UNMAPPED&lt;/th&gt;\\n    &lt;/tr&gt;\\n    &lt;tr&gt;\\n      &lt;th&gt;&lt;/th&gt;\\n      &lt;th&gt;mean&lt;/th&gt;\\n      &lt;th&gt;min&lt;/th&gt;\\n      &lt;th&gt;max&lt;/th&gt;\\n    &lt;/tr&gt;\\n    &lt;tr&gt;\\n      &lt;th&gt;Species&lt;/th&gt;\\n      &lt;th&gt;&lt;/th&gt;\\n      &lt;th&gt;&lt;/th&gt;\\n      &lt;th&gt;&lt;/th&gt;\\n    &lt;/tr&gt;\\n  &lt;/thead&gt;\\n  &lt;tbody&gt;\\n    &lt;tr&gt;\\n      &lt;th&gt;O. barthii&lt;/th&gt;\\n      &lt;td&gt;2.79&lt;/td&gt;\\n      &lt;td&gt;2.51&lt;/td&gt;\\n      &lt;td&gt;3.07&lt;/td&gt;\\n    &lt;/tr&gt;\\n  &lt;/tbody&gt;\\n&lt;/table&gt;\",\"width\":400},\"id\":\"1082\",\"type\":\"panel.models.markup.HTML\"},{\"attributes\":{\"margin\":[5,5,5,5],\"name\":\"DataFrame00223\",\"text\":\"&lt;table border=&quot;0&quot; class=&quot;dataframe panel-df&quot;&gt;\\n  &lt;thead&gt;\\n    &lt;tr&gt;\\n      &lt;th&gt;&lt;/th&gt;\\n      &lt;th colspan=&quot;3&quot; halign=&quot;left&quot;&gt;PAIRED&lt;/th&gt;\\n    &lt;/tr&gt;\\n    &lt;tr&gt;\\n      &lt;th&gt;&lt;/th&gt;\\n      &lt;th&gt;mean&lt;/th&gt;\\n      &lt;th&gt;min&lt;/th&gt;\\n      &lt;th&gt;max&lt;/th&gt;\\n    &lt;/tr&gt;\\n    &lt;tr&gt;\\n      &lt;th&gt;Species&lt;/th&gt;\\n      &lt;th&gt;&lt;/th&gt;\\n      &lt;th&gt;&lt;/th&gt;\\n      &lt;th&gt;&lt;/th&gt;\\n    &lt;/tr&gt;\\n  &lt;/thead&gt;\\n  &lt;tbody&gt;\\n    &lt;tr&gt;\\n      &lt;th&gt;O. barthii&lt;/th&gt;\\n      &lt;td&gt;76.105&lt;/td&gt;\\n      &lt;td&gt;73.76&lt;/td&gt;\\n      &lt;td&gt;78.45&lt;/td&gt;\\n    &lt;/tr&gt;\\n  &lt;/tbody&gt;\\n&lt;/table&gt;\",\"width\":400},\"id\":\"1078\",\"type\":\"panel.models.markup.HTML\"},{\"attributes\":{\"css_classes\":[\"markdown\"],\"margin\":[5,5,5,5],\"name\":\"Markdown00230\",\"text\":\"&lt;p&gt;&lt;br /&gt;&lt;/p&gt;\\n&lt;ul&gt;\\n&lt;li&gt;min - max : 2.51 - 3.07 %&lt;/li&gt;\\n&lt;li&gt;mean : 2.79&lt;/li&gt;\\n&lt;/ul&gt;\"},\"id\":\"1081\",\"type\":\"panel.models.markup.HTML\"},{\"attributes\":{\"margin\":[0,20,0,0],\"options\":[\"AA\",\"AB\"],\"placeholder\":\"\",\"title\":\"Sample\"},\"id\":\"1086\",\"type\":\"MultiChoice\"},{\"attributes\":{\"css_classes\":[\"markdown\"],\"margin\":[5,5,5,5],\"name\":\"Markdown00243\",\"text\":\"&lt;p&gt;&lt;br /&gt;&lt;hr&gt;&lt;br /&gt;&lt;/p&gt;\\n&lt;h3&gt;Reads mapped properly paired&lt;/h3&gt;\"},\"id\":\"1075\",\"type\":\"panel.models.markup.HTML\"},{\"attributes\":{\"children\":[{\"id\":\"1081\"},{\"id\":\"1082\"}],\"margin\":[0,0,0,0],\"name\":\"Row00232\"},\"id\":\"1080\",\"type\":\"Row\"},{\"attributes\":{\"margin\":[5,5,5,5],\"name\":\"DataFrame00218\",\"text\":\"&lt;table border=&quot;0&quot; class=&quot;dataframe panel-df&quot;&gt;\\n  &lt;thead&gt;\\n    &lt;tr&gt;\\n      &lt;th&gt;&lt;/th&gt;\\n      &lt;th colspan=&quot;3&quot; halign=&quot;left&quot;&gt;MAPPED&lt;/th&gt;\\n    &lt;/tr&gt;\\n    &lt;tr&gt;\\n      &lt;th&gt;&lt;/th&gt;\\n      &lt;th&gt;mean&lt;/th&gt;\\n      &lt;th&gt;min&lt;/th&gt;\\n      &lt;th&gt;max&lt;/th&gt;\\n    &lt;/tr&gt;\\n    &lt;tr&gt;\\n      &lt;th&gt;Species&lt;/th&gt;\\n      &lt;th&gt;&lt;/th&gt;\\n      &lt;th&gt;&lt;/th&gt;\\n      &lt;th&gt;&lt;/th&gt;\\n    &lt;/tr&gt;\\n  &lt;/thead&gt;\\n  &lt;tbody&gt;\\n    &lt;tr&gt;\\n      &lt;th&gt;O. barthii&lt;/th&gt;\\n      &lt;td&gt;93.295&lt;/td&gt;\\n      &lt;td&gt;92.69&lt;/td&gt;\\n      &lt;td&gt;93.9&lt;/td&gt;\\n    &lt;/tr&gt;\\n  &lt;/tbody&gt;\\n&lt;/table&gt;\",\"width\":400},\"id\":\"1074\",\"type\":\"panel.models.markup.HTML\"}],\"root_ids\":[\"1068\",\"1089\"]},\"title\":\"Bokeh Application\",\"version\":\"2.3.3\"}};\n",
       "    var render_items = [{\"docid\":\"9fab0283-04ee-404c-b00e-bc1731ba85fa\",\"root_ids\":[\"1068\"],\"roots\":{\"1068\":\"bd29238d-e8eb-4a6f-8fa9-e7d1383a4d61\"}}];\n",
       "    root.Bokeh.embed.embed_items_notebook(docs_json, render_items);\n",
       "  }\n",
       "  if (root.Bokeh !== undefined && root.Bokeh.Panel !== undefined) {\n",
       "    embed_document(root);\n",
       "  } else {\n",
       "    var attempts = 0;\n",
       "    var timer = setInterval(function(root) {\n",
       "      if (root.Bokeh !== undefined && root.Bokeh.Panel !== undefined) {\n",
       "        clearInterval(timer);\n",
       "        embed_document(root);\n",
       "      } else if (document.readyState == \"complete\") {\n",
       "        attempts++;\n",
       "        if (attempts > 100) {\n",
       "          clearInterval(timer);\n",
       "          console.log(\"Bokeh: ERROR: Unable to run BokehJS code because BokehJS library is missing\");\n",
       "        }\n",
       "      }\n",
       "    }, 10, root)\n",
       "  }\n",
       "})(window);</script>"
      ],
      "text/plain": [
       "Column(background='WhiteSmoke', sizing_mode='stretch_both', width=800)\n",
       "    [0] Markdown(str)\n",
       "    [1] Markdown(str)\n",
       "    [2] Markdown(str)\n",
       "    [3] Row\n",
       "        [0] Markdown(str)\n",
       "        [1] DataFrame(DataFrame, width=400)\n",
       "    [4] Markdown(str)\n",
       "    [5] Row\n",
       "        [0] Markdown(str)\n",
       "        [1] DataFrame(DataFrame, width=400)\n",
       "    [6] Markdown(str)\n",
       "    [7] Row\n",
       "        [0] Markdown(str)\n",
       "        [1] DataFrame(DataFrame, width=400)\n",
       "    [8] Matplotlib(Figure)\n",
       "    [9] Row\n",
       "        [0] MultiChoice(margin=(0, 20, 0, 0), name='Group', options=['O. barthii'])\n",
       "        [1] MultiChoice(margin=(0, 20, 0, 0), name='Sample', options=['AA', 'AB'])\n",
       "    [10] ParamFunction(function, max_height=400, width=400)"
      ]
     },
     "metadata": {
      "application/vnd.holoviews_exec.v0+json": {
       "id": "1068"
      }
     },
     "output_type": "display_data"
    }
   ],
   "source": [
    "bgc('LightBlue')\n",
    "\n",
    "#output_mapping_dir = output_dir + \"/01-mapping_against_reference/\"\n",
    "#stat_dir = output_mapping_dir + \"/stat/\"\n",
    "stat_file = stat_dir + \"all_flagstat.csv\"\n",
    "dashboard_flagstat(stat_file,df_group)"
   ]
  },
  {
   "cell_type": "markdown",
   "metadata": {},
   "source": [
    "[<img src=\"Images/up-arrow.png\" alt=\"Top\" width=2% align=\"right\">](#home \"Go back to the top\")\n",
    "\n",
    "\n",
    "### <span style=\"color: #919395\">3 - Assembly of the individuals' reads that do not map (properly) on the reference genome <a class=\"anchor\" id=\"assembly\"></a></span>\n",
    "\n",
    "#### __Creating assembly directory__"
   ]
  },
  {
   "cell_type": "code",
   "execution_count": 11,
   "metadata": {},
   "outputs": [
    {
     "data": {
      "text/html": [
       "<img src onerror=\"var cell = this.closest('.jp-CodeCell');var editor = cell.querySelector('.jp-Editor');editor.style.background='LightBlue';this.parentNode.removeChild(this)\">"
      ],
      "text/plain": [
       "<IPython.core.display.HTML object>"
      ]
     },
     "metadata": {},
     "output_type": "display_data"
    },
    {
     "data": {},
     "metadata": {},
     "output_type": "display_data"
    },
    {
     "data": {
      "application/vnd.holoviews_exec.v0+json": "",
      "text/html": [
       "<div id='1090'>\n",
       "\n",
       "\n",
       "\n",
       "\n",
       "\n",
       "  <div class=\"bk-root\" id=\"6a798b42-a629-4793-b755-764f67c16405\" data-root-id=\"1090\"></div>\n",
       "</div>\n",
       "<script type=\"application/javascript\">(function(root) {\n",
       "  function embed_document(root) {\n",
       "    var docs_json = {\"d370dbd7-e658-4a55-8d5c-fdb2963309ff\":{\"defs\":[],\"roots\":{\"references\":[{\"attributes\":{\"client_comm_id\":\"750b2d3be4a24cbdbc25eb8a9a48c75d\",\"comm_id\":\"547d83389ae448108ed21cfc6d3aa83b\",\"plot_id\":\"1090\"},\"id\":\"1091\",\"type\":\"panel.models.comm_manager.CommManager\"},{\"attributes\":{\"css_classes\":[\"alert\",\"alert-warning\",\"markdown\"],\"margin\":[0,0,25,0],\"name\":\"Alert00252\",\"sizing_mode\":\"stretch_width\",\"text\":\"&lt;h3&gt;warning&lt;/h3&gt;\\n&lt;hr&gt;\\n&lt;p&gt;Directory /home/christine/Documents/These/frangiPANeGIT/frangiPANe_rice/02-assembly_unmapped_reads/ already existed&lt;/p&gt;\"},\"id\":\"1090\",\"type\":\"panel.models.markup.HTML\"}],\"root_ids\":[\"1090\",\"1091\"]},\"title\":\"Bokeh Application\",\"version\":\"2.3.3\"}};\n",
       "    var render_items = [{\"docid\":\"d370dbd7-e658-4a55-8d5c-fdb2963309ff\",\"root_ids\":[\"1090\"],\"roots\":{\"1090\":\"6a798b42-a629-4793-b755-764f67c16405\"}}];\n",
       "    root.Bokeh.embed.embed_items_notebook(docs_json, render_items);\n",
       "  }\n",
       "  if (root.Bokeh !== undefined && root.Bokeh.Panel !== undefined) {\n",
       "    embed_document(root);\n",
       "  } else {\n",
       "    var attempts = 0;\n",
       "    var timer = setInterval(function(root) {\n",
       "      if (root.Bokeh !== undefined && root.Bokeh.Panel !== undefined) {\n",
       "        clearInterval(timer);\n",
       "        embed_document(root);\n",
       "      } else if (document.readyState == \"complete\") {\n",
       "        attempts++;\n",
       "        if (attempts > 100) {\n",
       "          clearInterval(timer);\n",
       "          console.log(\"Bokeh: ERROR: Unable to run BokehJS code because BokehJS library is missing\");\n",
       "        }\n",
       "      }\n",
       "    }, 10, root)\n",
       "  }\n",
       "})(window);</script>"
      ],
      "text/plain": [
       "Alert(str, alert_type='warning', css_classes=['alert', 'alert-warning']...], margin=(0, 0, 25, 0), sizing_mode='stretch_width')"
      ]
     },
     "metadata": {
      "application/vnd.holoviews_exec.v0+json": {
       "id": "1090"
      }
     },
     "output_type": "display_data"
    },
    {
     "data": {},
     "metadata": {},
     "output_type": "display_data"
    },
    {
     "data": {
      "application/vnd.holoviews_exec.v0+json": "",
      "text/html": [
       "<div id='1092'>\n",
       "\n",
       "\n",
       "\n",
       "\n",
       "\n",
       "  <div class=\"bk-root\" id=\"ae5c5010-b768-4147-9960-6170436dcc01\" data-root-id=\"1092\"></div>\n",
       "</div>\n",
       "<script type=\"application/javascript\">(function(root) {\n",
       "  function embed_document(root) {\n",
       "    var docs_json = {\"536920a0-2b01-4a39-b2c9-e258d76444cf\":{\"defs\":[],\"roots\":{\"references\":[{\"attributes\":{\"client_comm_id\":\"ebd30b872a8d47cf8023edc0793ada56\",\"comm_id\":\"da4a0c783ca54ca4bb7bc5f4fa699823\",\"plot_id\":\"1092\"},\"id\":\"1093\",\"type\":\"panel.models.comm_manager.CommManager\"},{\"attributes\":{\"css_classes\":[\"alert\",\"alert-warning\",\"markdown\"],\"margin\":[0,0,25,0],\"name\":\"Alert00256\",\"sizing_mode\":\"stretch_width\",\"text\":\"&lt;h3&gt;warning&lt;/h3&gt;\\n&lt;hr&gt;\\n&lt;p&gt;Directory /home/christine/Documents/These/frangiPANeGIT/frangiPANe_rice/02-assembly_unmapped_reads/bam_F0x2/ already existed&lt;/p&gt;\"},\"id\":\"1092\",\"type\":\"panel.models.markup.HTML\"}],\"root_ids\":[\"1092\",\"1093\"]},\"title\":\"Bokeh Application\",\"version\":\"2.3.3\"}};\n",
       "    var render_items = [{\"docid\":\"536920a0-2b01-4a39-b2c9-e258d76444cf\",\"root_ids\":[\"1092\"],\"roots\":{\"1092\":\"ae5c5010-b768-4147-9960-6170436dcc01\"}}];\n",
       "    root.Bokeh.embed.embed_items_notebook(docs_json, render_items);\n",
       "  }\n",
       "  if (root.Bokeh !== undefined && root.Bokeh.Panel !== undefined) {\n",
       "    embed_document(root);\n",
       "  } else {\n",
       "    var attempts = 0;\n",
       "    var timer = setInterval(function(root) {\n",
       "      if (root.Bokeh !== undefined && root.Bokeh.Panel !== undefined) {\n",
       "        clearInterval(timer);\n",
       "        embed_document(root);\n",
       "      } else if (document.readyState == \"complete\") {\n",
       "        attempts++;\n",
       "        if (attempts > 100) {\n",
       "          clearInterval(timer);\n",
       "          console.log(\"Bokeh: ERROR: Unable to run BokehJS code because BokehJS library is missing\");\n",
       "        }\n",
       "      }\n",
       "    }, 10, root)\n",
       "  }\n",
       "})(window);</script>"
      ],
      "text/plain": [
       "Alert(str, alert_type='warning', css_classes=['alert', 'alert-warning']...], margin=(0, 0, 25, 0), sizing_mode='stretch_width')"
      ]
     },
     "metadata": {
      "application/vnd.holoviews_exec.v0+json": {
       "id": "1092"
      }
     },
     "output_type": "display_data"
    }
   ],
   "source": [
    "bgc('LightBlue')\n",
    "\n",
    "output_assembly_dir = output_dir + \"/02-assembly_unmapped_reads/\"\n",
    "make_dir(output_assembly_dir)\n",
    "make_dir(output_assembly_dir + \"bam_F0x2/\")"
   ]
  },
  {
   "cell_type": "markdown",
   "metadata": {},
   "source": [
    "#### __Filtering .bam files with `samtools view`__ \n",
    "\n",
    "Options de samtools view : -b -h -F -@ -o"
   ]
  },
  {
   "cell_type": "code",
   "execution_count": 14,
   "metadata": {},
   "outputs": [
    {
     "data": {
      "text/html": [
       "<img src onerror=\"var cell = this.closest('.jp-CodeCell');var editor = cell.querySelector('.jp-Editor');editor.style.background='LightBlue';this.parentNode.removeChild(this)\">"
      ],
      "text/plain": [
       "<IPython.core.display.HTML object>"
      ]
     },
     "metadata": {},
     "output_type": "display_data"
    },
    {
     "data": {},
     "metadata": {},
     "output_type": "display_data"
    },
    {
     "data": {
      "application/vnd.holoviews_exec.v0+json": "",
      "text/html": [
       "<div id='1100'>\n",
       "\n",
       "\n",
       "\n",
       "\n",
       "\n",
       "  <div class=\"bk-root\" id=\"36a1c671-9ee3-4fc8-b7e0-671c4f96dc10\" data-root-id=\"1100\"></div>\n",
       "</div>\n",
       "<script type=\"application/javascript\">(function(root) {\n",
       "  function embed_document(root) {\n",
       "    var docs_json = {\"3bd295f3-4beb-46c5-b6ff-7b071a92e118\":{\"defs\":[],\"roots\":{\"references\":[{\"attributes\":{\"client_comm_id\":\"f35f25db5a2a4b5dabc1ec3e3032ce38\",\"comm_id\":\"a9692aa9646f4abcb58249031f8a16dd\",\"plot_id\":\"1100\"},\"id\":\"1101\",\"type\":\"panel.models.comm_manager.CommManager\"},{\"attributes\":{\"css_classes\":[\"alert\",\"alert-warning\",\"markdown\"],\"margin\":[0,0,25,0],\"name\":\"Alert00270\",\"sizing_mode\":\"stretch_width\",\"text\":\"&lt;p&gt;File /home/christine/Documents/These/frangiPANeGIT/frangiPANe_rice/02-assembly_unmapped_reads/bam_F0x2/AA_F0x2.bam already existed&lt;/p&gt;\"},\"id\":\"1100\",\"type\":\"panel.models.markup.HTML\"}],\"root_ids\":[\"1100\",\"1101\"]},\"title\":\"Bokeh Application\",\"version\":\"2.3.3\"}};\n",
       "    var render_items = [{\"docid\":\"3bd295f3-4beb-46c5-b6ff-7b071a92e118\",\"root_ids\":[\"1100\"],\"roots\":{\"1100\":\"36a1c671-9ee3-4fc8-b7e0-671c4f96dc10\"}}];\n",
       "    root.Bokeh.embed.embed_items_notebook(docs_json, render_items);\n",
       "  }\n",
       "  if (root.Bokeh !== undefined && root.Bokeh.Panel !== undefined) {\n",
       "    embed_document(root);\n",
       "  } else {\n",
       "    var attempts = 0;\n",
       "    var timer = setInterval(function(root) {\n",
       "      if (root.Bokeh !== undefined && root.Bokeh.Panel !== undefined) {\n",
       "        clearInterval(timer);\n",
       "        embed_document(root);\n",
       "      } else if (document.readyState == \"complete\") {\n",
       "        attempts++;\n",
       "        if (attempts > 100) {\n",
       "          clearInterval(timer);\n",
       "          console.log(\"Bokeh: ERROR: Unable to run BokehJS code because BokehJS library is missing\");\n",
       "        }\n",
       "      }\n",
       "    }, 10, root)\n",
       "  }\n",
       "})(window);</script>"
      ],
      "text/plain": [
       "Alert(str, alert_type='warning', css_classes=['alert', 'alert-warning']...], margin=(0, 0, 25, 0), sizing_mode='stretch_width')"
      ]
     },
     "metadata": {
      "application/vnd.holoviews_exec.v0+json": {
       "id": "1100"
      }
     },
     "output_type": "display_data"
    },
    {
     "data": {},
     "metadata": {},
     "output_type": "display_data"
    },
    {
     "data": {
      "application/vnd.holoviews_exec.v0+json": "",
      "text/html": [
       "<div id='1102'>\n",
       "\n",
       "\n",
       "\n",
       "\n",
       "\n",
       "  <div class=\"bk-root\" id=\"1d937000-2782-43f5-9c0c-6f7d775df1ba\" data-root-id=\"1102\"></div>\n",
       "</div>\n",
       "<script type=\"application/javascript\">(function(root) {\n",
       "  function embed_document(root) {\n",
       "    var docs_json = {\"9312878d-e74f-43a6-b0ef-fccc6db12b62\":{\"defs\":[],\"roots\":{\"references\":[{\"attributes\":{\"css_classes\":[\"alert\",\"alert-warning\",\"markdown\"],\"margin\":[0,0,25,0],\"name\":\"Alert00274\",\"sizing_mode\":\"stretch_width\",\"text\":\"&lt;p&gt;File /home/christine/Documents/These/frangiPANeGIT/frangiPANe_rice/02-assembly_unmapped_reads/bam_F0x2/AB_F0x2.bam already existed&lt;/p&gt;\"},\"id\":\"1102\",\"type\":\"panel.models.markup.HTML\"},{\"attributes\":{\"client_comm_id\":\"a3a0cfd80e884d21b79780f11ffe0064\",\"comm_id\":\"88235d2277884de1b3ad6d962325197a\",\"plot_id\":\"1102\"},\"id\":\"1103\",\"type\":\"panel.models.comm_manager.CommManager\"}],\"root_ids\":[\"1102\",\"1103\"]},\"title\":\"Bokeh Application\",\"version\":\"2.3.3\"}};\n",
       "    var render_items = [{\"docid\":\"9312878d-e74f-43a6-b0ef-fccc6db12b62\",\"root_ids\":[\"1102\"],\"roots\":{\"1102\":\"1d937000-2782-43f5-9c0c-6f7d775df1ba\"}}];\n",
       "    root.Bokeh.embed.embed_items_notebook(docs_json, render_items);\n",
       "  }\n",
       "  if (root.Bokeh !== undefined && root.Bokeh.Panel !== undefined) {\n",
       "    embed_document(root);\n",
       "  } else {\n",
       "    var attempts = 0;\n",
       "    var timer = setInterval(function(root) {\n",
       "      if (root.Bokeh !== undefined && root.Bokeh.Panel !== undefined) {\n",
       "        clearInterval(timer);\n",
       "        embed_document(root);\n",
       "      } else if (document.readyState == \"complete\") {\n",
       "        attempts++;\n",
       "        if (attempts > 100) {\n",
       "          clearInterval(timer);\n",
       "          console.log(\"Bokeh: ERROR: Unable to run BokehJS code because BokehJS library is missing\");\n",
       "        }\n",
       "      }\n",
       "    }, 10, root)\n",
       "  }\n",
       "})(window);</script>"
      ],
      "text/plain": [
       "Alert(str, alert_type='warning', css_classes=['alert', 'alert-warning']...], margin=(0, 0, 25, 0), sizing_mode='stretch_width')"
      ]
     },
     "metadata": {
      "application/vnd.holoviews_exec.v0+json": {
       "id": "1102"
      }
     },
     "output_type": "display_data"
    },
    {
     "data": {},
     "metadata": {},
     "output_type": "display_data"
    },
    {
     "data": {
      "application/vnd.holoviews_exec.v0+json": "",
      "text/html": [
       "<div id='1104'>\n",
       "\n",
       "\n",
       "\n",
       "\n",
       "\n",
       "  <div class=\"bk-root\" id=\"992ae325-83a3-405d-b54b-6768813f412d\" data-root-id=\"1104\"></div>\n",
       "</div>\n",
       "<script type=\"application/javascript\">(function(root) {\n",
       "  function embed_document(root) {\n",
       "    var docs_json = {\"f82b9dd8-252d-4502-9c1e-2807c0af6cf1\":{\"defs\":[],\"roots\":{\"references\":[{\"attributes\":{\"css_classes\":[\"alert\",\"alert-secondary\",\"markdown\"],\"margin\":[0,0,25,0],\"name\":\"Alert00278\",\"sizing_mode\":\"stretch_width\",\"text\":\"&lt;p&gt;FILTERING BAM FOR (/home/christine/Documents/These/frangiPANeGIT/frangiPANe_rice/01-mapping_against_reference/DT.bam)&amp;hellip; samtools view in progress&lt;/p&gt;\"},\"id\":\"1104\",\"type\":\"panel.models.markup.HTML\"},{\"attributes\":{\"client_comm_id\":\"36949fee85b24d618182ff00aafdfc6b\",\"comm_id\":\"e37a58e3f24544d7a0009d1e7ee4f6dd\",\"plot_id\":\"1104\"},\"id\":\"1105\",\"type\":\"panel.models.comm_manager.CommManager\"}],\"root_ids\":[\"1104\",\"1105\"]},\"title\":\"Bokeh Application\",\"version\":\"2.3.3\"}};\n",
       "    var render_items = [{\"docid\":\"f82b9dd8-252d-4502-9c1e-2807c0af6cf1\",\"root_ids\":[\"1104\"],\"roots\":{\"1104\":\"992ae325-83a3-405d-b54b-6768813f412d\"}}];\n",
       "    root.Bokeh.embed.embed_items_notebook(docs_json, render_items);\n",
       "  }\n",
       "  if (root.Bokeh !== undefined && root.Bokeh.Panel !== undefined) {\n",
       "    embed_document(root);\n",
       "  } else {\n",
       "    var attempts = 0;\n",
       "    var timer = setInterval(function(root) {\n",
       "      if (root.Bokeh !== undefined && root.Bokeh.Panel !== undefined) {\n",
       "        clearInterval(timer);\n",
       "        embed_document(root);\n",
       "      } else if (document.readyState == \"complete\") {\n",
       "        attempts++;\n",
       "        if (attempts > 100) {\n",
       "          clearInterval(timer);\n",
       "          console.log(\"Bokeh: ERROR: Unable to run BokehJS code because BokehJS library is missing\");\n",
       "        }\n",
       "      }\n",
       "    }, 10, root)\n",
       "  }\n",
       "})(window);</script>"
      ],
      "text/plain": [
       "Alert(str, alert_type='secondary', css_classes=['alert', 'alert-secondary...], margin=(0, 0, 25, 0), sizing_mode='stretch_width')"
      ]
     },
     "metadata": {
      "application/vnd.holoviews_exec.v0+json": {
       "id": "1104"
      }
     },
     "output_type": "display_data"
    },
    {
     "data": {},
     "metadata": {},
     "output_type": "display_data"
    },
    {
     "data": {
      "application/vnd.holoviews_exec.v0+json": "",
      "text/html": [
       "<div id='1106'>\n",
       "\n",
       "\n",
       "\n",
       "\n",
       "\n",
       "  <div class=\"bk-root\" id=\"5fd737a3-072d-431b-a3d6-de2d9bdabb66\" data-root-id=\"1106\"></div>\n",
       "</div>\n",
       "<script type=\"application/javascript\">(function(root) {\n",
       "  function embed_document(root) {\n",
       "    var docs_json = {\"950e1d79-82c4-445c-9609-7def09c5a9fc\":{\"defs\":[],\"roots\":{\"references\":[{\"attributes\":{\"client_comm_id\":\"7d6a0d82553a40ca8b9e86ea5c5ad906\",\"comm_id\":\"899cfa383fe54d68b657c9a9397dff8f\",\"plot_id\":\"1106\"},\"id\":\"1107\",\"type\":\"panel.models.comm_manager.CommManager\"},{\"attributes\":{\"css_classes\":[\"alert\",\"alert-danger\",\"markdown\"],\"margin\":[0,0,25,0],\"name\":\"Alert00282\",\"sizing_mode\":\"stretch_width\",\"text\":\"&lt;p&gt;FAILED EXECUTION : samtools view -b -h -F 0x2 -o /home/christine/Documents/These/frangiPANeGIT/frangiPANe_rice/02-assembly_unmapped_reads/bam_F0x2/DT_F0x2.bam -@ 6 /home/christine/Documents/These/frangiPANeGIT/frangiPANe_rice/01-mapping_against_reference/DT.bam&lt;/p&gt;\\n&lt;p&gt;[E::hts_open_format] Failed to open file &amp;ldquo;/home/christine/Documents/These/frangiPANeGIT/frangiPANe_rice/01-mapping_against_reference/DT.bam&amp;rdquo; : No such file or directory\\nsamtools view: failed to open &amp;ldquo;/home/christine/Documents/These/frangiPANeGIT/frangiPANe_rice/01-mapping_against_reference/DT.bam&amp;rdquo; for reading: No such file or directory&lt;/p&gt;\"},\"id\":\"1106\",\"type\":\"panel.models.markup.HTML\"}],\"root_ids\":[\"1106\",\"1107\"]},\"title\":\"Bokeh Application\",\"version\":\"2.3.3\"}};\n",
       "    var render_items = [{\"docid\":\"950e1d79-82c4-445c-9609-7def09c5a9fc\",\"root_ids\":[\"1106\"],\"roots\":{\"1106\":\"5fd737a3-072d-431b-a3d6-de2d9bdabb66\"}}];\n",
       "    root.Bokeh.embed.embed_items_notebook(docs_json, render_items);\n",
       "  }\n",
       "  if (root.Bokeh !== undefined && root.Bokeh.Panel !== undefined) {\n",
       "    embed_document(root);\n",
       "  } else {\n",
       "    var attempts = 0;\n",
       "    var timer = setInterval(function(root) {\n",
       "      if (root.Bokeh !== undefined && root.Bokeh.Panel !== undefined) {\n",
       "        clearInterval(timer);\n",
       "        embed_document(root);\n",
       "      } else if (document.readyState == \"complete\") {\n",
       "        attempts++;\n",
       "        if (attempts > 100) {\n",
       "          clearInterval(timer);\n",
       "          console.log(\"Bokeh: ERROR: Unable to run BokehJS code because BokehJS library is missing\");\n",
       "        }\n",
       "      }\n",
       "    }, 10, root)\n",
       "  }\n",
       "})(window);</script>"
      ],
      "text/plain": [
       "Alert(str, alert_type='danger', css_classes=['alert', 'alert-danger'], margin=(0, 0, 25, 0), sizing_mode='stretch_width')"
      ]
     },
     "metadata": {
      "application/vnd.holoviews_exec.v0+json": {
       "id": "1106"
      }
     },
     "output_type": "display_data"
    }
   ],
   "source": [
    "bgc('LightBlue')\n",
    "\n",
    "for id in id_dict : \n",
    "    bam_to_F0x2_bam(reference_genome=ref_file, \n",
    "                    bam_dir=output_mapping_dir, \n",
    "                    id=id, \n",
    "                    cpu=6, \n",
    "                    output_dir=output_assembly_dir + \"bam_F0x2/\", \n",
    "                    logger=logger)"
   ]
  },
  {
   "cell_type": "markdown",
   "metadata": {},
   "source": [
    "#### __Assembly with ABySS__"
   ]
  },
  {
   "cell_type": "markdown",
   "metadata": {
    "tags": []
   },
   "source": [
    "#### _Choosing optimal k_\n",
    "\n",
    "```ORDER SAMPLE+ control post form```"
   ]
  },
  {
   "cell_type": "code",
   "execution_count": 43,
   "metadata": {},
   "outputs": [
    {
     "data": {},
     "metadata": {},
     "output_type": "display_data"
    },
    {
     "data": {
      "application/vnd.holoviews_exec.v0+json": "",
      "text/html": [
       "<div id='1302'>\n",
       "\n",
       "\n",
       "\n",
       "\n",
       "\n",
       "  <div class=\"bk-root\" id=\"a92843e0-113b-432b-88d0-49cfeeb084c1\" data-root-id=\"1302\"></div>\n",
       "</div>\n",
       "<script type=\"application/javascript\">(function(root) {\n",
       "  function embed_document(root) {\n",
       "    var docs_json = {\"aca715ea-be69-48f7-94e8-5e14259ccbb4\":{\"defs\":[],\"roots\":{\"references\":[{\"attributes\":{\"client_comm_id\":\"604e41578f5f4bedb466d9053cf77430\",\"comm_id\":\"b0bd75ed49a54955a27dd9b740469761\",\"plot_id\":\"1302\"},\"id\":\"1313\",\"type\":\"panel.models.comm_manager.CommManager\"},{\"attributes\":{\"button_type\":\"primary\",\"icon\":null,\"label\":\"INIT\",\"margin\":[5,10,5,10],\"min_width\":100,\"subscribed_events\":[\"button_click\"],\"width\":100},\"id\":\"1311\",\"type\":\"Button\"},{\"attributes\":{\"margin\":[5,10,5,10],\"options\":[\"AA\",\"AB\",\"DT\"],\"title\":\"Accession\"},\"id\":\"1308\",\"type\":\"MultiSelect\"},{\"attributes\":{\"children\":[{\"id\":\"1310\"},{\"id\":\"1311\"}],\"margin\":[0,0,0,0],\"name\":\"Row00536\"},\"id\":\"1309\",\"type\":\"Row\"},{\"attributes\":{\"children\":[{\"id\":\"1305\"},{\"id\":\"1308\"},{\"id\":\"1309\"},{\"id\":\"1312\"}],\"margin\":[0,0,0,0],\"min_width\":800,\"name\":\"Column00538\",\"width\":800},\"id\":\"1304\",\"type\":\"Column\"},{\"attributes\":{\"css_classes\":[\"markdown\"],\"margin\":[5,5,5,5],\"name\":\"Markdown00539\",\"text\":\"&lt;h1&gt;INPUT FORM&lt;/h1&gt;\"},\"id\":\"1303\",\"type\":\"panel.models.markup.HTML\"},{\"attributes\":{\"button_type\":\"primary\",\"icon\":null,\"label\":\"SAVE\",\"margin\":[5,10,5,10],\"min_width\":100,\"subscribed_events\":[\"button_click\"],\"width\":100},\"id\":\"1310\",\"type\":\"Button\"},{\"attributes\":{\"high\":10,\"low\":1,\"margin\":[5,10,5,10],\"mode\":\"int\",\"placeholder\":\"0\",\"title\":\"Step\",\"value\":4,\"value_throttled\":4},\"id\":\"1307\",\"type\":\"Spinner\"},{\"attributes\":{\"background\":\"#E3ECF1\",\"children\":[{\"id\":\"1303\"},{\"id\":\"1304\"}],\"css_classes\":[\"panel-widget-box\"],\"margin\":[5,5,5,5],\"name\":\"WidgetBox00541\"},\"id\":\"1302\",\"type\":\"Column\"},{\"attributes\":{\"children\":[{\"id\":\"1306\"},{\"id\":\"1307\"}],\"margin\":[0,0,0,0],\"name\":\"Row00537\"},\"id\":\"1305\",\"type\":\"Row\"},{\"attributes\":{\"end\":92,\"margin\":[5,10,5,10],\"start\":24,\"step\":4,\"title\":\"K-mer length\",\"value\":[64,68]},\"id\":\"1306\",\"type\":\"RangeSlider\"},{\"attributes\":{\"css_classes\":[\"alert\",\"alert-warning\",\"markdown\"],\"height\":200,\"margin\":[0,0,25,0],\"name\":\"Alert00529\",\"sizing_mode\":\"stretch_width\",\"text\":\"&lt;p&gt;No filled&lt;/p&gt;\"},\"id\":\"1312\",\"type\":\"panel.models.markup.HTML\"}],\"root_ids\":[\"1302\",\"1313\"]},\"title\":\"Bokeh Application\",\"version\":\"2.3.3\"}};\n",
       "    var render_items = [{\"docid\":\"aca715ea-be69-48f7-94e8-5e14259ccbb4\",\"root_ids\":[\"1302\"],\"roots\":{\"1302\":\"a92843e0-113b-432b-88d0-49cfeeb084c1\"}}];\n",
       "    root.Bokeh.embed.embed_items_notebook(docs_json, render_items);\n",
       "  }\n",
       "  if (root.Bokeh !== undefined && root.Bokeh.Panel !== undefined) {\n",
       "    embed_document(root);\n",
       "  } else {\n",
       "    var attempts = 0;\n",
       "    var timer = setInterval(function(root) {\n",
       "      if (root.Bokeh !== undefined && root.Bokeh.Panel !== undefined) {\n",
       "        clearInterval(timer);\n",
       "        embed_document(root);\n",
       "      } else if (document.readyState == \"complete\") {\n",
       "        attempts++;\n",
       "        if (attempts > 100) {\n",
       "          clearInterval(timer);\n",
       "          console.log(\"Bokeh: ERROR: Unable to run BokehJS code because BokehJS library is missing\");\n",
       "        }\n",
       "      }\n",
       "    }, 10, root)\n",
       "  }\n",
       "})(window);</script>"
      ],
      "text/plain": [
       "WidgetBox(background='#E3ECF1')\n",
       "    [0] Markdown(str)\n",
       "    [1] Column(width=800)\n",
       "        [0] Row\n",
       "            [0] RangeSlider(end=92, name='K-mer length', start=24, step=4, value=(64, 68))\n",
       "            [1] IntInput(end=10, name='Step', start=1, value=4)\n",
       "        [1] MultiSelect(name='Accession', options=['AA', 'AB', 'DT'])\n",
       "        [2] Row\n",
       "            [0] Button(button_type='primary', name='SAVE', width=100)\n",
       "            [1] Button(button_type='primary', name='INIT', width=100)\n",
       "        [3] Alert(str, alert_type='warning', css_classes=['alert', 'alert-warning']...], height=200, margin=(0, 0, 25, 0), sizing_mode='stretch_width')"
      ]
     },
     "metadata": {
      "application/vnd.holoviews_exec.v0+json": {
       "id": "1302"
      }
     },
     "output_type": "display_data"
    }
   ],
   "source": [
    "# cmd result\n",
    "text = \"No filled\"\n",
    "at = 'warning'\n",
    "result = pn.pane.Alert(text.format(alert_type=at), alert_type=at, height=200)\n",
    "\n",
    "# buton\n",
    "print_btn = pn.widgets.Button(name='SAVE', width=100, button_type='primary')\n",
    "init_btn = pn.widgets.Button(name='INIT', width=100, button_type='primary')\n",
    "\n",
    "# form\n",
    "k = pn.widgets.RangeSlider(name='K-mer length', start=24, end=92, step=4, value=(64, 68))\n",
    "step = pn.widgets.IntInput(name='Step', value=4, step=1, start=1, end=10)\n",
    "accession = pn.widgets.MultiSelect(name='Accession', options=list(df_group['sample']), size=4)\n",
    "\n",
    "def print_value(event):\n",
    "\n",
    "    at = 'success'\n",
    "    text = f\"\"\"\n",
    "        ### k successfully filled\n",
    "\n",
    "        <hr>\n",
    "         * k : {k.value}\n",
    "         * step : { step.value }\n",
    "         * Accession : { accession.value }\n",
    "    \"\"\"\n",
    "\n",
    "    result.object = text.format(alert_type=\"success\")\n",
    "    return\n",
    "\n",
    "def reinit_form(event):\n",
    "    ki.value=(64,68)\n",
    "    accession.value =  list()\n",
    "    step.value = 4\n",
    "    text = \"empty\"\n",
    "    return\n",
    "    \n",
    "print_btn.param.watch(print_value, 'clicks')\n",
    "init_btn.param.watch(reinit_form, 'clicks')\n",
    "\n",
    "button = pn.Row(print_btn, init_btn)\n",
    "row1 = pn.Row(k, step)\n",
    "col1 = pn.Column(row1,accession,button, result, width=800)\n",
    "\n",
    "# box\n",
    "tab = pn.WidgetBox('# INPUT FORM', col1, background='#E3ECF1')\n",
    "display(tab)"
   ]
  },
  {
   "cell_type": "code",
   "execution_count": 26,
   "metadata": {},
   "outputs": [
    {
     "name": "stdout",
     "output_type": "stream",
     "text": [
      "56 76\n",
      "24 92\n"
     ]
    }
   ],
   "source": [
    "id_test = [\"AA\", \"AB\"]\n",
    "print(ki.value[0],ki.value[1])\n",
    "print(ki.start,ki.end)"
   ]
  },
  {
   "cell_type": "code",
   "execution_count": 12,
   "metadata": {},
   "outputs": [
    {
     "data": {},
     "metadata": {},
     "output_type": "display_data"
    },
    {
     "data": {
      "application/vnd.holoviews_exec.v0+json": "",
      "text/html": [
       "<div id='1094'>\n",
       "\n",
       "\n",
       "\n",
       "\n",
       "\n",
       "  <div class=\"bk-root\" id=\"a3293756-5305-4d6f-be9f-5c3bdf348426\" data-root-id=\"1094\"></div>\n",
       "</div>\n",
       "<script type=\"application/javascript\">(function(root) {\n",
       "  function embed_document(root) {\n",
       "    var docs_json = {\"d9c0df8d-c01c-41d3-8f8c-37788b552265\":{\"defs\":[],\"roots\":{\"references\":[{\"attributes\":{\"end\":92,\"margin\":[5,10,5,10],\"start\":24,\"step\":4,\"title\":\"K-mer length\",\"value\":[64,68]},\"id\":\"1098\",\"type\":\"RangeSlider\"},{\"attributes\":{\"children\":[{\"id\":\"1102\"},{\"id\":\"1103\"}],\"margin\":[0,0,0,0],\"name\":\"Row00267\"},\"id\":\"1101\",\"type\":\"Row\"},{\"attributes\":{\"high\":10,\"low\":1,\"margin\":[5,10,5,10],\"mode\":\"int\",\"placeholder\":\"0\",\"title\":\"Step\",\"value\":4,\"value_throttled\":4},\"id\":\"1099\",\"type\":\"Spinner\"},{\"attributes\":{\"button_type\":\"primary\",\"icon\":null,\"label\":\"SAVE\",\"margin\":[5,10,5,10],\"min_width\":100,\"subscribed_events\":[\"button_click\"],\"width\":100},\"id\":\"1102\",\"type\":\"Button\"},{\"attributes\":{\"children\":[{\"id\":\"1098\"},{\"id\":\"1099\"}],\"margin\":[0,0,0,0],\"name\":\"Row00268\"},\"id\":\"1097\",\"type\":\"Row\"},{\"attributes\":{\"css_classes\":[\"alert\",\"alert-warning\",\"markdown\"],\"height\":200,\"margin\":[0,0,25,0],\"name\":\"Alert00260\",\"sizing_mode\":\"stretch_width\",\"text\":\"&lt;p&gt;No filled&lt;/p&gt;\"},\"id\":\"1104\",\"type\":\"panel.models.markup.HTML\"},{\"attributes\":{\"button_type\":\"primary\",\"icon\":null,\"label\":\"INIT\",\"margin\":[5,10,5,10],\"min_width\":100,\"subscribed_events\":[\"button_click\"],\"width\":100},\"id\":\"1103\",\"type\":\"Button\"},{\"attributes\":{\"children\":[{\"id\":\"1097\"},{\"id\":\"1100\"},{\"id\":\"1101\"},{\"id\":\"1104\"}],\"margin\":[0,0,0,0],\"min_width\":800,\"name\":\"Column00269\",\"width\":800},\"id\":\"1096\",\"type\":\"Column\"},{\"attributes\":{\"css_classes\":[\"markdown\"],\"margin\":[5,5,5,5],\"name\":\"Markdown00270\",\"text\":\"&lt;h1&gt;INPUT FORM&lt;/h1&gt;\"},\"id\":\"1095\",\"type\":\"panel.models.markup.HTML\"},{\"attributes\":{\"background\":\"#E3ECF1\",\"children\":[{\"id\":\"1095\"},{\"id\":\"1096\"}],\"css_classes\":[\"panel-widget-box\"],\"margin\":[5,5,5,5],\"name\":\"WidgetBox00272\"},\"id\":\"1094\",\"type\":\"Column\"},{\"attributes\":{\"margin\":[5,10,5,10],\"options\":[\"AA\",\"AB\",\"DT\"],\"title\":\"Accession\"},\"id\":\"1100\",\"type\":\"MultiSelect\"},{\"attributes\":{\"client_comm_id\":\"6c577b3a5d5441d48589dea571445ef9\",\"comm_id\":\"071be41564f04654bc73ff24ec004ece\",\"plot_id\":\"1094\"},\"id\":\"1105\",\"type\":\"panel.models.comm_manager.CommManager\"}],\"root_ids\":[\"1094\",\"1105\"]},\"title\":\"Bokeh Application\",\"version\":\"2.3.3\"}};\n",
       "    var render_items = [{\"docid\":\"d9c0df8d-c01c-41d3-8f8c-37788b552265\",\"root_ids\":[\"1094\"],\"roots\":{\"1094\":\"a3293756-5305-4d6f-be9f-5c3bdf348426\"}}];\n",
       "    root.Bokeh.embed.embed_items_notebook(docs_json, render_items);\n",
       "  }\n",
       "  if (root.Bokeh !== undefined && root.Bokeh.Panel !== undefined) {\n",
       "    embed_document(root);\n",
       "  } else {\n",
       "    var attempts = 0;\n",
       "    var timer = setInterval(function(root) {\n",
       "      if (root.Bokeh !== undefined && root.Bokeh.Panel !== undefined) {\n",
       "        clearInterval(timer);\n",
       "        embed_document(root);\n",
       "      } else if (document.readyState == \"complete\") {\n",
       "        attempts++;\n",
       "        if (attempts > 100) {\n",
       "          clearInterval(timer);\n",
       "          console.log(\"Bokeh: ERROR: Unable to run BokehJS code because BokehJS library is missing\");\n",
       "        }\n",
       "      }\n",
       "    }, 10, root)\n",
       "  }\n",
       "})(window);</script>"
      ],
      "text/plain": [
       "WidgetBox(background='#E3ECF1')\n",
       "    [0] Markdown(str)\n",
       "    [1] Column(width=800)\n",
       "        [0] Row\n",
       "            [0] RangeSlider(end=92, name='K-mer length', start=24, step=4, value=(64, 68))\n",
       "            [1] IntInput(end=10, name='Step', start=1, value=4)\n",
       "        [1] MultiSelect(name='Accession', options=['AA', 'AB', 'DT'])\n",
       "        [2] Row\n",
       "            [0] Button(button_type='primary', name='SAVE', width=100)\n",
       "            [1] Button(button_type='primary', name='INIT', width=100)\n",
       "        [3] Alert(str, alert_type='warning', css_classes=['alert', 'alert-warning']...], height=200, margin=(0, 0, 25, 0), sizing_mode='stretch_width')"
      ]
     },
     "metadata": {
      "application/vnd.holoviews_exec.v0+json": {
       "id": "1094"
      }
     },
     "output_type": "display_data"
    }
   ],
   "source": [
    "k,step,accession = box_config_abyss(df_group)"
   ]
  },
  {
   "cell_type": "code",
   "execution_count": 18,
   "metadata": {},
   "outputs": [
    {
     "name": "stdout",
     "output_type": "stream",
     "text": [
      "(60.00000000000001, 72) ['AA', 'AB'] 4\n"
     ]
    }
   ],
   "source": [
    "print(k.value, accession.value, step.value)"
   ]
  },
  {
   "cell_type": "markdown",
   "metadata": {},
   "source": [
    "##### ABySS : k(32 -> 96, 8)"
   ]
  },
  {
   "cell_type": "code",
   "execution_count": 20,
   "metadata": {
    "scrolled": true
   },
   "outputs": [
    {
     "data": {},
     "metadata": {},
     "output_type": "display_data"
    },
    {
     "data": {
      "application/vnd.holoviews_exec.v0+json": "",
      "text/html": [
       "<div id='1111'>\n",
       "\n",
       "\n",
       "\n",
       "\n",
       "\n",
       "  <div class=\"bk-root\" id=\"6c522207-8042-4d03-a94b-00ab344c9810\" data-root-id=\"1111\"></div>\n",
       "</div>\n",
       "<script type=\"application/javascript\">(function(root) {\n",
       "  function embed_document(root) {\n",
       "    var docs_json = {\"7e4c2e68-c185-45b1-bf5b-bb255d7a2d13\":{\"defs\":[],\"roots\":{\"references\":[{\"attributes\":{\"css_classes\":[\"alert\",\"alert-warning\",\"markdown\"],\"margin\":[0,0,25,0],\"name\":\"Alert00283\",\"sizing_mode\":\"stretch_width\",\"text\":\"&lt;h3&gt;warning&lt;/h3&gt;\\n&lt;hr&gt;\\n&lt;p&gt;Directory /home/christine/Documents/These/frangiPANeGIT/frangiPANe_rice/02-assembly_unmapped_reads/assembly_choosing_k/ already existed&lt;/p&gt;\"},\"id\":\"1111\",\"type\":\"panel.models.markup.HTML\"},{\"attributes\":{\"client_comm_id\":\"6e2f43d784924e2fb7201ed120c1e629\",\"comm_id\":\"da8b419a4b7a4abba1a3e720133d137b\",\"plot_id\":\"1111\"},\"id\":\"1112\",\"type\":\"panel.models.comm_manager.CommManager\"}],\"root_ids\":[\"1111\",\"1112\"]},\"title\":\"Bokeh Application\",\"version\":\"2.3.3\"}};\n",
       "    var render_items = [{\"docid\":\"7e4c2e68-c185-45b1-bf5b-bb255d7a2d13\",\"root_ids\":[\"1111\"],\"roots\":{\"1111\":\"6c522207-8042-4d03-a94b-00ab344c9810\"}}];\n",
       "    root.Bokeh.embed.embed_items_notebook(docs_json, render_items);\n",
       "  }\n",
       "  if (root.Bokeh !== undefined && root.Bokeh.Panel !== undefined) {\n",
       "    embed_document(root);\n",
       "  } else {\n",
       "    var attempts = 0;\n",
       "    var timer = setInterval(function(root) {\n",
       "      if (root.Bokeh !== undefined && root.Bokeh.Panel !== undefined) {\n",
       "        clearInterval(timer);\n",
       "        embed_document(root);\n",
       "      } else if (document.readyState == \"complete\") {\n",
       "        attempts++;\n",
       "        if (attempts > 100) {\n",
       "          clearInterval(timer);\n",
       "          console.log(\"Bokeh: ERROR: Unable to run BokehJS code because BokehJS library is missing\");\n",
       "        }\n",
       "      }\n",
       "    }, 10, root)\n",
       "  }\n",
       "})(window);</script>"
      ],
      "text/plain": [
       "Alert(str, alert_type='warning', css_classes=['alert', 'alert-warning']...], margin=(0, 0, 25, 0), sizing_mode='stretch_width')"
      ]
     },
     "metadata": {
      "application/vnd.holoviews_exec.v0+json": {
       "id": "1111"
      }
     },
     "output_type": "display_data"
    },
    {
     "data": {},
     "metadata": {},
     "output_type": "display_data"
    },
    {
     "data": {
      "application/vnd.holoviews_exec.v0+json": "",
      "text/html": [
       "<div id='1113'>\n",
       "\n",
       "\n",
       "\n",
       "\n",
       "\n",
       "  <div class=\"bk-root\" id=\"a4d2bc0d-419a-4e17-a44b-080bc652d71d\" data-root-id=\"1113\"></div>\n",
       "</div>\n",
       "<script type=\"application/javascript\">(function(root) {\n",
       "  function embed_document(root) {\n",
       "    var docs_json = {\"47269101-5650-4608-b8f1-acc69445636e\":{\"defs\":[],\"roots\":{\"references\":[{\"attributes\":{\"client_comm_id\":\"658abfade6934f959705a146c1e5ecf2\",\"comm_id\":\"a83311f6cb174ebdbbdb303c794335c5\",\"plot_id\":\"1113\"},\"id\":\"1114\",\"type\":\"panel.models.comm_manager.CommManager\"},{\"attributes\":{\"css_classes\":[\"alert\",\"alert-warning\",\"markdown\"],\"margin\":[0,0,25,0],\"name\":\"Alert00287\",\"sizing_mode\":\"stretch_width\",\"text\":\"&lt;h3&gt;warning&lt;/h3&gt;\\n&lt;hr&gt;\\n&lt;p&gt;Directory /home/christine/Documents/These/frangiPANeGIT/frangiPANe_rice/02-assembly_unmapped_reads/assembly_choosing_k/abyss/ already existed&lt;/p&gt;\"},\"id\":\"1113\",\"type\":\"panel.models.markup.HTML\"}],\"root_ids\":[\"1113\",\"1114\"]},\"title\":\"Bokeh Application\",\"version\":\"2.3.3\"}};\n",
       "    var render_items = [{\"docid\":\"47269101-5650-4608-b8f1-acc69445636e\",\"root_ids\":[\"1113\"],\"roots\":{\"1113\":\"a4d2bc0d-419a-4e17-a44b-080bc652d71d\"}}];\n",
       "    root.Bokeh.embed.embed_items_notebook(docs_json, render_items);\n",
       "  }\n",
       "  if (root.Bokeh !== undefined && root.Bokeh.Panel !== undefined) {\n",
       "    embed_document(root);\n",
       "  } else {\n",
       "    var attempts = 0;\n",
       "    var timer = setInterval(function(root) {\n",
       "      if (root.Bokeh !== undefined && root.Bokeh.Panel !== undefined) {\n",
       "        clearInterval(timer);\n",
       "        embed_document(root);\n",
       "      } else if (document.readyState == \"complete\") {\n",
       "        attempts++;\n",
       "        if (attempts > 100) {\n",
       "          clearInterval(timer);\n",
       "          console.log(\"Bokeh: ERROR: Unable to run BokehJS code because BokehJS library is missing\");\n",
       "        }\n",
       "      }\n",
       "    }, 10, root)\n",
       "  }\n",
       "})(window);</script>"
      ],
      "text/plain": [
       "Alert(str, alert_type='warning', css_classes=['alert', 'alert-warning']...], margin=(0, 0, 25, 0), sizing_mode='stretch_width')"
      ]
     },
     "metadata": {
      "application/vnd.holoviews_exec.v0+json": {
       "id": "1113"
      }
     },
     "output_type": "display_data"
    },
    {
     "data": {},
     "metadata": {},
     "output_type": "display_data"
    },
    {
     "data": {
      "application/vnd.holoviews_exec.v0+json": "",
      "text/html": [
       "<div id='1115'>\n",
       "\n",
       "\n",
       "\n",
       "\n",
       "\n",
       "  <div class=\"bk-root\" id=\"93609fff-634b-4db4-ad5b-f1fed89e043e\" data-root-id=\"1115\"></div>\n",
       "</div>\n",
       "<script type=\"application/javascript\">(function(root) {\n",
       "  function embed_document(root) {\n",
       "    var docs_json = {\"09516208-78cc-492d-98ff-c09fac69815f\":{\"defs\":[],\"roots\":{\"references\":[{\"attributes\":{\"client_comm_id\":\"49b1183d33b648d79d1731ccf72bbce2\",\"comm_id\":\"ccab0d26b09f41c299551fe4858812d3\",\"plot_id\":\"1115\"},\"id\":\"1116\",\"type\":\"panel.models.comm_manager.CommManager\"},{\"attributes\":{\"css_classes\":[\"alert\",\"alert-success\",\"markdown\"],\"margin\":[0,0,25,0],\"name\":\"Alert00291\",\"sizing_mode\":\"stretch_width\",\"text\":\"&lt;p&gt;Directory /home/christine/Documents/These/frangiPANeGIT/frangiPANe_rice/02-assembly_unmapped_reads/assembly_choosing_k/abyss/AA_k60/ created&lt;/p&gt;\"},\"id\":\"1115\",\"type\":\"panel.models.markup.HTML\"}],\"root_ids\":[\"1115\",\"1116\"]},\"title\":\"Bokeh Application\",\"version\":\"2.3.3\"}};\n",
       "    var render_items = [{\"docid\":\"09516208-78cc-492d-98ff-c09fac69815f\",\"root_ids\":[\"1115\"],\"roots\":{\"1115\":\"93609fff-634b-4db4-ad5b-f1fed89e043e\"}}];\n",
       "    root.Bokeh.embed.embed_items_notebook(docs_json, render_items);\n",
       "  }\n",
       "  if (root.Bokeh !== undefined && root.Bokeh.Panel !== undefined) {\n",
       "    embed_document(root);\n",
       "  } else {\n",
       "    var attempts = 0;\n",
       "    var timer = setInterval(function(root) {\n",
       "      if (root.Bokeh !== undefined && root.Bokeh.Panel !== undefined) {\n",
       "        clearInterval(timer);\n",
       "        embed_document(root);\n",
       "      } else if (document.readyState == \"complete\") {\n",
       "        attempts++;\n",
       "        if (attempts > 100) {\n",
       "          clearInterval(timer);\n",
       "          console.log(\"Bokeh: ERROR: Unable to run BokehJS code because BokehJS library is missing\");\n",
       "        }\n",
       "      }\n",
       "    }, 10, root)\n",
       "  }\n",
       "})(window);</script>"
      ],
      "text/plain": [
       "Alert(str, alert_type='success', css_classes=['alert', 'alert-success']...], margin=(0, 0, 25, 0), sizing_mode='stretch_width')"
      ]
     },
     "metadata": {
      "application/vnd.holoviews_exec.v0+json": {
       "id": "1115"
      }
     },
     "output_type": "display_data"
    },
    {
     "data": {},
     "metadata": {},
     "output_type": "display_data"
    },
    {
     "data": {
      "application/vnd.holoviews_exec.v0+json": "",
      "text/html": [
       "<div id='1117'>\n",
       "\n",
       "\n",
       "\n",
       "\n",
       "\n",
       "  <div class=\"bk-root\" id=\"68069c51-1698-4e27-9b73-12ada088e317\" data-root-id=\"1117\"></div>\n",
       "</div>\n",
       "<script type=\"application/javascript\">(function(root) {\n",
       "  function embed_document(root) {\n",
       "    var docs_json = {\"14e3bcfc-26a9-49f8-9e93-41b09552482e\":{\"defs\":[],\"roots\":{\"references\":[{\"attributes\":{\"client_comm_id\":\"bf0630dec3904ac1bfa46598d93cd85d\",\"comm_id\":\"912578270f074f1a93363a7d6d4938ca\",\"plot_id\":\"1117\"},\"id\":\"1118\",\"type\":\"panel.models.comm_manager.CommManager\"},{\"attributes\":{\"css_classes\":[\"alert\",\"alert-secondary\",\"markdown\"],\"margin\":[0,0,25,0],\"name\":\"Alert00295\",\"sizing_mode\":\"stretch_width\",\"text\":\"&lt;p&gt;ASSEMBLY FOR AA_F0x2.bam (60)&amp;hellip; ABySS in progress&lt;/p&gt;\"},\"id\":\"1117\",\"type\":\"panel.models.markup.HTML\"}],\"root_ids\":[\"1117\",\"1118\"]},\"title\":\"Bokeh Application\",\"version\":\"2.3.3\"}};\n",
       "    var render_items = [{\"docid\":\"14e3bcfc-26a9-49f8-9e93-41b09552482e\",\"root_ids\":[\"1117\"],\"roots\":{\"1117\":\"68069c51-1698-4e27-9b73-12ada088e317\"}}];\n",
       "    root.Bokeh.embed.embed_items_notebook(docs_json, render_items);\n",
       "  }\n",
       "  if (root.Bokeh !== undefined && root.Bokeh.Panel !== undefined) {\n",
       "    embed_document(root);\n",
       "  } else {\n",
       "    var attempts = 0;\n",
       "    var timer = setInterval(function(root) {\n",
       "      if (root.Bokeh !== undefined && root.Bokeh.Panel !== undefined) {\n",
       "        clearInterval(timer);\n",
       "        embed_document(root);\n",
       "      } else if (document.readyState == \"complete\") {\n",
       "        attempts++;\n",
       "        if (attempts > 100) {\n",
       "          clearInterval(timer);\n",
       "          console.log(\"Bokeh: ERROR: Unable to run BokehJS code because BokehJS library is missing\");\n",
       "        }\n",
       "      }\n",
       "    }, 10, root)\n",
       "  }\n",
       "})(window);</script>"
      ],
      "text/plain": [
       "Alert(str, alert_type='secondary', css_classes=['alert', 'alert-secondary...], margin=(0, 0, 25, 0), sizing_mode='stretch_width')"
      ]
     },
     "metadata": {
      "application/vnd.holoviews_exec.v0+json": {
       "id": "1117"
      }
     },
     "output_type": "display_data"
    },
    {
     "data": {},
     "metadata": {},
     "output_type": "display_data"
    },
    {
     "data": {
      "application/vnd.holoviews_exec.v0+json": "",
      "text/html": [
       "<div id='1119'>\n",
       "\n",
       "\n",
       "\n",
       "\n",
       "\n",
       "  <div class=\"bk-root\" id=\"f9694aed-877f-4c40-be33-6d793e1fe21e\" data-root-id=\"1119\"></div>\n",
       "</div>\n",
       "<script type=\"application/javascript\">(function(root) {\n",
       "  function embed_document(root) {\n",
       "    var docs_json = {\"8fa601b8-5559-4183-a16a-890ce987870a\":{\"defs\":[],\"roots\":{\"references\":[{\"attributes\":{\"css_classes\":[\"alert\",\"alert-success\",\"markdown\"],\"margin\":[0,0,25,0],\"name\":\"Alert00299\",\"sizing_mode\":\"stretch_width\",\"text\":\"&lt;p&gt;SUCCESSFULL ASSEMBLY : abyss-pe -C /home/christine/Documents/These/frangiPANeGIT/frangiPANe_rice/02-assembly_unmapped_reads/assembly_choosing_k/abyss/AA_k60/ name=rice_AA_60 k=60 in=/home/christine/Documents/These/frangiPANeGIT/frangiPANe_rice/02-assembly_unmapped_reads/bam_F0x2/AA_F0x2.bam&lt;/p&gt;\"},\"id\":\"1119\",\"type\":\"panel.models.markup.HTML\"},{\"attributes\":{\"client_comm_id\":\"fc8f242d80214a73ba1299277e1fbcb1\",\"comm_id\":\"bdd3c352c8044d26a7f1418120b9b882\",\"plot_id\":\"1119\"},\"id\":\"1120\",\"type\":\"panel.models.comm_manager.CommManager\"}],\"root_ids\":[\"1119\",\"1120\"]},\"title\":\"Bokeh Application\",\"version\":\"2.3.3\"}};\n",
       "    var render_items = [{\"docid\":\"8fa601b8-5559-4183-a16a-890ce987870a\",\"root_ids\":[\"1119\"],\"roots\":{\"1119\":\"f9694aed-877f-4c40-be33-6d793e1fe21e\"}}];\n",
       "    root.Bokeh.embed.embed_items_notebook(docs_json, render_items);\n",
       "  }\n",
       "  if (root.Bokeh !== undefined && root.Bokeh.Panel !== undefined) {\n",
       "    embed_document(root);\n",
       "  } else {\n",
       "    var attempts = 0;\n",
       "    var timer = setInterval(function(root) {\n",
       "      if (root.Bokeh !== undefined && root.Bokeh.Panel !== undefined) {\n",
       "        clearInterval(timer);\n",
       "        embed_document(root);\n",
       "      } else if (document.readyState == \"complete\") {\n",
       "        attempts++;\n",
       "        if (attempts > 100) {\n",
       "          clearInterval(timer);\n",
       "          console.log(\"Bokeh: ERROR: Unable to run BokehJS code because BokehJS library is missing\");\n",
       "        }\n",
       "      }\n",
       "    }, 10, root)\n",
       "  }\n",
       "})(window);</script>"
      ],
      "text/plain": [
       "Alert(str, alert_type='success', css_classes=['alert', 'alert-success']...], margin=(0, 0, 25, 0), sizing_mode='stretch_width')"
      ]
     },
     "metadata": {
      "application/vnd.holoviews_exec.v0+json": {
       "id": "1119"
      }
     },
     "output_type": "display_data"
    },
    {
     "data": {},
     "metadata": {},
     "output_type": "display_data"
    },
    {
     "data": {
      "application/vnd.holoviews_exec.v0+json": "",
      "text/html": [
       "<div id='1121'>\n",
       "\n",
       "\n",
       "\n",
       "\n",
       "\n",
       "  <div class=\"bk-root\" id=\"c71c059c-90d4-49d1-b7a5-5836b74fcbbc\" data-root-id=\"1121\"></div>\n",
       "</div>\n",
       "<script type=\"application/javascript\">(function(root) {\n",
       "  function embed_document(root) {\n",
       "    var docs_json = {\"3b33a12d-f3e7-407b-b154-6574440c091b\":{\"defs\":[],\"roots\":{\"references\":[{\"attributes\":{\"css_classes\":[\"alert\",\"alert-success\",\"markdown\"],\"margin\":[0,0,25,0],\"name\":\"Alert00303\",\"sizing_mode\":\"stretch_width\",\"text\":\"&lt;p&gt;Directory /home/christine/Documents/These/frangiPANeGIT/frangiPANe_rice/02-assembly_unmapped_reads/assembly_choosing_k/abyss/AB_k60/ created&lt;/p&gt;\"},\"id\":\"1121\",\"type\":\"panel.models.markup.HTML\"},{\"attributes\":{\"client_comm_id\":\"2357fbbb91b44da9ad3ddbebbddd5a12\",\"comm_id\":\"e9df8f9f98c04920bc78f5ed3de10fd3\",\"plot_id\":\"1121\"},\"id\":\"1122\",\"type\":\"panel.models.comm_manager.CommManager\"}],\"root_ids\":[\"1121\",\"1122\"]},\"title\":\"Bokeh Application\",\"version\":\"2.3.3\"}};\n",
       "    var render_items = [{\"docid\":\"3b33a12d-f3e7-407b-b154-6574440c091b\",\"root_ids\":[\"1121\"],\"roots\":{\"1121\":\"c71c059c-90d4-49d1-b7a5-5836b74fcbbc\"}}];\n",
       "    root.Bokeh.embed.embed_items_notebook(docs_json, render_items);\n",
       "  }\n",
       "  if (root.Bokeh !== undefined && root.Bokeh.Panel !== undefined) {\n",
       "    embed_document(root);\n",
       "  } else {\n",
       "    var attempts = 0;\n",
       "    var timer = setInterval(function(root) {\n",
       "      if (root.Bokeh !== undefined && root.Bokeh.Panel !== undefined) {\n",
       "        clearInterval(timer);\n",
       "        embed_document(root);\n",
       "      } else if (document.readyState == \"complete\") {\n",
       "        attempts++;\n",
       "        if (attempts > 100) {\n",
       "          clearInterval(timer);\n",
       "          console.log(\"Bokeh: ERROR: Unable to run BokehJS code because BokehJS library is missing\");\n",
       "        }\n",
       "      }\n",
       "    }, 10, root)\n",
       "  }\n",
       "})(window);</script>"
      ],
      "text/plain": [
       "Alert(str, alert_type='success', css_classes=['alert', 'alert-success']...], margin=(0, 0, 25, 0), sizing_mode='stretch_width')"
      ]
     },
     "metadata": {
      "application/vnd.holoviews_exec.v0+json": {
       "id": "1121"
      }
     },
     "output_type": "display_data"
    },
    {
     "data": {},
     "metadata": {},
     "output_type": "display_data"
    },
    {
     "data": {
      "application/vnd.holoviews_exec.v0+json": "",
      "text/html": [
       "<div id='1123'>\n",
       "\n",
       "\n",
       "\n",
       "\n",
       "\n",
       "  <div class=\"bk-root\" id=\"af963e25-6c70-4dc1-ac8f-31c03332f319\" data-root-id=\"1123\"></div>\n",
       "</div>\n",
       "<script type=\"application/javascript\">(function(root) {\n",
       "  function embed_document(root) {\n",
       "    var docs_json = {\"c173d9d5-6df3-4d96-8899-b5dc90694d14\":{\"defs\":[],\"roots\":{\"references\":[{\"attributes\":{\"client_comm_id\":\"fc7456e26d094b4292129f4867ee803b\",\"comm_id\":\"9a6e64a2e2484659ba421b3d6e729d57\",\"plot_id\":\"1123\"},\"id\":\"1124\",\"type\":\"panel.models.comm_manager.CommManager\"},{\"attributes\":{\"css_classes\":[\"alert\",\"alert-secondary\",\"markdown\"],\"margin\":[0,0,25,0],\"name\":\"Alert00307\",\"sizing_mode\":\"stretch_width\",\"text\":\"&lt;p&gt;ASSEMBLY FOR AB_F0x2.bam (60)&amp;hellip; ABySS in progress&lt;/p&gt;\"},\"id\":\"1123\",\"type\":\"panel.models.markup.HTML\"}],\"root_ids\":[\"1123\",\"1124\"]},\"title\":\"Bokeh Application\",\"version\":\"2.3.3\"}};\n",
       "    var render_items = [{\"docid\":\"c173d9d5-6df3-4d96-8899-b5dc90694d14\",\"root_ids\":[\"1123\"],\"roots\":{\"1123\":\"af963e25-6c70-4dc1-ac8f-31c03332f319\"}}];\n",
       "    root.Bokeh.embed.embed_items_notebook(docs_json, render_items);\n",
       "  }\n",
       "  if (root.Bokeh !== undefined && root.Bokeh.Panel !== undefined) {\n",
       "    embed_document(root);\n",
       "  } else {\n",
       "    var attempts = 0;\n",
       "    var timer = setInterval(function(root) {\n",
       "      if (root.Bokeh !== undefined && root.Bokeh.Panel !== undefined) {\n",
       "        clearInterval(timer);\n",
       "        embed_document(root);\n",
       "      } else if (document.readyState == \"complete\") {\n",
       "        attempts++;\n",
       "        if (attempts > 100) {\n",
       "          clearInterval(timer);\n",
       "          console.log(\"Bokeh: ERROR: Unable to run BokehJS code because BokehJS library is missing\");\n",
       "        }\n",
       "      }\n",
       "    }, 10, root)\n",
       "  }\n",
       "})(window);</script>"
      ],
      "text/plain": [
       "Alert(str, alert_type='secondary', css_classes=['alert', 'alert-secondary...], margin=(0, 0, 25, 0), sizing_mode='stretch_width')"
      ]
     },
     "metadata": {
      "application/vnd.holoviews_exec.v0+json": {
       "id": "1123"
      }
     },
     "output_type": "display_data"
    },
    {
     "data": {},
     "metadata": {},
     "output_type": "display_data"
    },
    {
     "data": {
      "application/vnd.holoviews_exec.v0+json": "",
      "text/html": [
       "<div id='1125'>\n",
       "\n",
       "\n",
       "\n",
       "\n",
       "\n",
       "  <div class=\"bk-root\" id=\"4e78b317-03bf-4572-8280-7c62ef031770\" data-root-id=\"1125\"></div>\n",
       "</div>\n",
       "<script type=\"application/javascript\">(function(root) {\n",
       "  function embed_document(root) {\n",
       "    var docs_json = {\"6d34c0c5-fc0a-4efe-bb32-5defed67c09d\":{\"defs\":[],\"roots\":{\"references\":[{\"attributes\":{\"client_comm_id\":\"16a79be344b24511b636e7210a66508d\",\"comm_id\":\"adc20512b5c341719db3a4776aaf42aa\",\"plot_id\":\"1125\"},\"id\":\"1126\",\"type\":\"panel.models.comm_manager.CommManager\"},{\"attributes\":{\"css_classes\":[\"alert\",\"alert-success\",\"markdown\"],\"margin\":[0,0,25,0],\"name\":\"Alert00311\",\"sizing_mode\":\"stretch_width\",\"text\":\"&lt;p&gt;SUCCESSFULL ASSEMBLY : abyss-pe -C /home/christine/Documents/These/frangiPANeGIT/frangiPANe_rice/02-assembly_unmapped_reads/assembly_choosing_k/abyss/AB_k60/ name=rice_AB_60 k=60 in=/home/christine/Documents/These/frangiPANeGIT/frangiPANe_rice/02-assembly_unmapped_reads/bam_F0x2/AB_F0x2.bam&lt;/p&gt;\"},\"id\":\"1125\",\"type\":\"panel.models.markup.HTML\"}],\"root_ids\":[\"1125\",\"1126\"]},\"title\":\"Bokeh Application\",\"version\":\"2.3.3\"}};\n",
       "    var render_items = [{\"docid\":\"6d34c0c5-fc0a-4efe-bb32-5defed67c09d\",\"root_ids\":[\"1125\"],\"roots\":{\"1125\":\"4e78b317-03bf-4572-8280-7c62ef031770\"}}];\n",
       "    root.Bokeh.embed.embed_items_notebook(docs_json, render_items);\n",
       "  }\n",
       "  if (root.Bokeh !== undefined && root.Bokeh.Panel !== undefined) {\n",
       "    embed_document(root);\n",
       "  } else {\n",
       "    var attempts = 0;\n",
       "    var timer = setInterval(function(root) {\n",
       "      if (root.Bokeh !== undefined && root.Bokeh.Panel !== undefined) {\n",
       "        clearInterval(timer);\n",
       "        embed_document(root);\n",
       "      } else if (document.readyState == \"complete\") {\n",
       "        attempts++;\n",
       "        if (attempts > 100) {\n",
       "          clearInterval(timer);\n",
       "          console.log(\"Bokeh: ERROR: Unable to run BokehJS code because BokehJS library is missing\");\n",
       "        }\n",
       "      }\n",
       "    }, 10, root)\n",
       "  }\n",
       "})(window);</script>"
      ],
      "text/plain": [
       "Alert(str, alert_type='success', css_classes=['alert', 'alert-success']...], margin=(0, 0, 25, 0), sizing_mode='stretch_width')"
      ]
     },
     "metadata": {
      "application/vnd.holoviews_exec.v0+json": {
       "id": "1125"
      }
     },
     "output_type": "display_data"
    },
    {
     "data": {},
     "metadata": {},
     "output_type": "display_data"
    },
    {
     "data": {
      "application/vnd.holoviews_exec.v0+json": "",
      "text/html": [
       "<div id='1127'>\n",
       "\n",
       "\n",
       "\n",
       "\n",
       "\n",
       "  <div class=\"bk-root\" id=\"4be64678-304c-41e8-9769-0884bf7e4167\" data-root-id=\"1127\"></div>\n",
       "</div>\n",
       "<script type=\"application/javascript\">(function(root) {\n",
       "  function embed_document(root) {\n",
       "    var docs_json = {\"359aea60-ae46-4b27-aef7-7fe1c14edb3d\":{\"defs\":[],\"roots\":{\"references\":[{\"attributes\":{\"client_comm_id\":\"09d1947fc3ca4d0eb385690acf0b696f\",\"comm_id\":\"6348eb3b1f204030aa9df81ba17e73e8\",\"plot_id\":\"1127\"},\"id\":\"1128\",\"type\":\"panel.models.comm_manager.CommManager\"},{\"attributes\":{\"css_classes\":[\"alert\",\"alert-success\",\"markdown\"],\"margin\":[0,0,25,0],\"name\":\"Alert00315\",\"sizing_mode\":\"stretch_width\",\"text\":\"&lt;p&gt;Directory /home/christine/Documents/These/frangiPANeGIT/frangiPANe_rice/02-assembly_unmapped_reads/assembly_choosing_k/abyss/AA_k64/ created&lt;/p&gt;\"},\"id\":\"1127\",\"type\":\"panel.models.markup.HTML\"}],\"root_ids\":[\"1127\",\"1128\"]},\"title\":\"Bokeh Application\",\"version\":\"2.3.3\"}};\n",
       "    var render_items = [{\"docid\":\"359aea60-ae46-4b27-aef7-7fe1c14edb3d\",\"root_ids\":[\"1127\"],\"roots\":{\"1127\":\"4be64678-304c-41e8-9769-0884bf7e4167\"}}];\n",
       "    root.Bokeh.embed.embed_items_notebook(docs_json, render_items);\n",
       "  }\n",
       "  if (root.Bokeh !== undefined && root.Bokeh.Panel !== undefined) {\n",
       "    embed_document(root);\n",
       "  } else {\n",
       "    var attempts = 0;\n",
       "    var timer = setInterval(function(root) {\n",
       "      if (root.Bokeh !== undefined && root.Bokeh.Panel !== undefined) {\n",
       "        clearInterval(timer);\n",
       "        embed_document(root);\n",
       "      } else if (document.readyState == \"complete\") {\n",
       "        attempts++;\n",
       "        if (attempts > 100) {\n",
       "          clearInterval(timer);\n",
       "          console.log(\"Bokeh: ERROR: Unable to run BokehJS code because BokehJS library is missing\");\n",
       "        }\n",
       "      }\n",
       "    }, 10, root)\n",
       "  }\n",
       "})(window);</script>"
      ],
      "text/plain": [
       "Alert(str, alert_type='success', css_classes=['alert', 'alert-success']...], margin=(0, 0, 25, 0), sizing_mode='stretch_width')"
      ]
     },
     "metadata": {
      "application/vnd.holoviews_exec.v0+json": {
       "id": "1127"
      }
     },
     "output_type": "display_data"
    },
    {
     "data": {},
     "metadata": {},
     "output_type": "display_data"
    },
    {
     "data": {
      "application/vnd.holoviews_exec.v0+json": "",
      "text/html": [
       "<div id='1129'>\n",
       "\n",
       "\n",
       "\n",
       "\n",
       "\n",
       "  <div class=\"bk-root\" id=\"d344acbf-3e4b-405e-8930-c08e586c8692\" data-root-id=\"1129\"></div>\n",
       "</div>\n",
       "<script type=\"application/javascript\">(function(root) {\n",
       "  function embed_document(root) {\n",
       "    var docs_json = {\"5a6ffbd4-a6db-4442-a2b6-f7f0765948cc\":{\"defs\":[],\"roots\":{\"references\":[{\"attributes\":{\"css_classes\":[\"alert\",\"alert-secondary\",\"markdown\"],\"margin\":[0,0,25,0],\"name\":\"Alert00319\",\"sizing_mode\":\"stretch_width\",\"text\":\"&lt;p&gt;ASSEMBLY FOR AA_F0x2.bam (64)&amp;hellip; ABySS in progress&lt;/p&gt;\"},\"id\":\"1129\",\"type\":\"panel.models.markup.HTML\"},{\"attributes\":{\"client_comm_id\":\"b5a89f51ee6d4ebb9cf41a511018f8f1\",\"comm_id\":\"96dd9b06d5ca445ca9db38b28485132b\",\"plot_id\":\"1129\"},\"id\":\"1130\",\"type\":\"panel.models.comm_manager.CommManager\"}],\"root_ids\":[\"1129\",\"1130\"]},\"title\":\"Bokeh Application\",\"version\":\"2.3.3\"}};\n",
       "    var render_items = [{\"docid\":\"5a6ffbd4-a6db-4442-a2b6-f7f0765948cc\",\"root_ids\":[\"1129\"],\"roots\":{\"1129\":\"d344acbf-3e4b-405e-8930-c08e586c8692\"}}];\n",
       "    root.Bokeh.embed.embed_items_notebook(docs_json, render_items);\n",
       "  }\n",
       "  if (root.Bokeh !== undefined && root.Bokeh.Panel !== undefined) {\n",
       "    embed_document(root);\n",
       "  } else {\n",
       "    var attempts = 0;\n",
       "    var timer = setInterval(function(root) {\n",
       "      if (root.Bokeh !== undefined && root.Bokeh.Panel !== undefined) {\n",
       "        clearInterval(timer);\n",
       "        embed_document(root);\n",
       "      } else if (document.readyState == \"complete\") {\n",
       "        attempts++;\n",
       "        if (attempts > 100) {\n",
       "          clearInterval(timer);\n",
       "          console.log(\"Bokeh: ERROR: Unable to run BokehJS code because BokehJS library is missing\");\n",
       "        }\n",
       "      }\n",
       "    }, 10, root)\n",
       "  }\n",
       "})(window);</script>"
      ],
      "text/plain": [
       "Alert(str, alert_type='secondary', css_classes=['alert', 'alert-secondary...], margin=(0, 0, 25, 0), sizing_mode='stretch_width')"
      ]
     },
     "metadata": {
      "application/vnd.holoviews_exec.v0+json": {
       "id": "1129"
      }
     },
     "output_type": "display_data"
    },
    {
     "data": {},
     "metadata": {},
     "output_type": "display_data"
    },
    {
     "data": {
      "application/vnd.holoviews_exec.v0+json": "",
      "text/html": [
       "<div id='1131'>\n",
       "\n",
       "\n",
       "\n",
       "\n",
       "\n",
       "  <div class=\"bk-root\" id=\"f6052246-8da0-4d83-a916-59fdee37f16c\" data-root-id=\"1131\"></div>\n",
       "</div>\n",
       "<script type=\"application/javascript\">(function(root) {\n",
       "  function embed_document(root) {\n",
       "    var docs_json = {\"706c03c0-793c-4537-a069-f3d68afe36f1\":{\"defs\":[],\"roots\":{\"references\":[{\"attributes\":{\"client_comm_id\":\"af8eb78b45f14a62b752085c3bd7020c\",\"comm_id\":\"2edd402a3a294089829c582e9fb66b2b\",\"plot_id\":\"1131\"},\"id\":\"1132\",\"type\":\"panel.models.comm_manager.CommManager\"},{\"attributes\":{\"css_classes\":[\"alert\",\"alert-success\",\"markdown\"],\"margin\":[0,0,25,0],\"name\":\"Alert00323\",\"sizing_mode\":\"stretch_width\",\"text\":\"&lt;p&gt;SUCCESSFULL ASSEMBLY : abyss-pe -C /home/christine/Documents/These/frangiPANeGIT/frangiPANe_rice/02-assembly_unmapped_reads/assembly_choosing_k/abyss/AA_k64/ name=rice_AA_64 k=64 in=/home/christine/Documents/These/frangiPANeGIT/frangiPANe_rice/02-assembly_unmapped_reads/bam_F0x2/AA_F0x2.bam&lt;/p&gt;\"},\"id\":\"1131\",\"type\":\"panel.models.markup.HTML\"}],\"root_ids\":[\"1131\",\"1132\"]},\"title\":\"Bokeh Application\",\"version\":\"2.3.3\"}};\n",
       "    var render_items = [{\"docid\":\"706c03c0-793c-4537-a069-f3d68afe36f1\",\"root_ids\":[\"1131\"],\"roots\":{\"1131\":\"f6052246-8da0-4d83-a916-59fdee37f16c\"}}];\n",
       "    root.Bokeh.embed.embed_items_notebook(docs_json, render_items);\n",
       "  }\n",
       "  if (root.Bokeh !== undefined && root.Bokeh.Panel !== undefined) {\n",
       "    embed_document(root);\n",
       "  } else {\n",
       "    var attempts = 0;\n",
       "    var timer = setInterval(function(root) {\n",
       "      if (root.Bokeh !== undefined && root.Bokeh.Panel !== undefined) {\n",
       "        clearInterval(timer);\n",
       "        embed_document(root);\n",
       "      } else if (document.readyState == \"complete\") {\n",
       "        attempts++;\n",
       "        if (attempts > 100) {\n",
       "          clearInterval(timer);\n",
       "          console.log(\"Bokeh: ERROR: Unable to run BokehJS code because BokehJS library is missing\");\n",
       "        }\n",
       "      }\n",
       "    }, 10, root)\n",
       "  }\n",
       "})(window);</script>"
      ],
      "text/plain": [
       "Alert(str, alert_type='success', css_classes=['alert', 'alert-success']...], margin=(0, 0, 25, 0), sizing_mode='stretch_width')"
      ]
     },
     "metadata": {
      "application/vnd.holoviews_exec.v0+json": {
       "id": "1131"
      }
     },
     "output_type": "display_data"
    },
    {
     "data": {},
     "metadata": {},
     "output_type": "display_data"
    },
    {
     "data": {
      "application/vnd.holoviews_exec.v0+json": "",
      "text/html": [
       "<div id='1133'>\n",
       "\n",
       "\n",
       "\n",
       "\n",
       "\n",
       "  <div class=\"bk-root\" id=\"906c74ae-399d-4b65-9c2a-080875a5a143\" data-root-id=\"1133\"></div>\n",
       "</div>\n",
       "<script type=\"application/javascript\">(function(root) {\n",
       "  function embed_document(root) {\n",
       "    var docs_json = {\"56add637-a932-4913-b5c6-da9a4e04a2e2\":{\"defs\":[],\"roots\":{\"references\":[{\"attributes\":{\"css_classes\":[\"alert\",\"alert-success\",\"markdown\"],\"margin\":[0,0,25,0],\"name\":\"Alert00327\",\"sizing_mode\":\"stretch_width\",\"text\":\"&lt;p&gt;Directory /home/christine/Documents/These/frangiPANeGIT/frangiPANe_rice/02-assembly_unmapped_reads/assembly_choosing_k/abyss/AB_k64/ created&lt;/p&gt;\"},\"id\":\"1133\",\"type\":\"panel.models.markup.HTML\"},{\"attributes\":{\"client_comm_id\":\"8cd80ec98817439caf998b54d88eed58\",\"comm_id\":\"4d2f8e4d085648f58bf1970e3a211f55\",\"plot_id\":\"1133\"},\"id\":\"1134\",\"type\":\"panel.models.comm_manager.CommManager\"}],\"root_ids\":[\"1133\",\"1134\"]},\"title\":\"Bokeh Application\",\"version\":\"2.3.3\"}};\n",
       "    var render_items = [{\"docid\":\"56add637-a932-4913-b5c6-da9a4e04a2e2\",\"root_ids\":[\"1133\"],\"roots\":{\"1133\":\"906c74ae-399d-4b65-9c2a-080875a5a143\"}}];\n",
       "    root.Bokeh.embed.embed_items_notebook(docs_json, render_items);\n",
       "  }\n",
       "  if (root.Bokeh !== undefined && root.Bokeh.Panel !== undefined) {\n",
       "    embed_document(root);\n",
       "  } else {\n",
       "    var attempts = 0;\n",
       "    var timer = setInterval(function(root) {\n",
       "      if (root.Bokeh !== undefined && root.Bokeh.Panel !== undefined) {\n",
       "        clearInterval(timer);\n",
       "        embed_document(root);\n",
       "      } else if (document.readyState == \"complete\") {\n",
       "        attempts++;\n",
       "        if (attempts > 100) {\n",
       "          clearInterval(timer);\n",
       "          console.log(\"Bokeh: ERROR: Unable to run BokehJS code because BokehJS library is missing\");\n",
       "        }\n",
       "      }\n",
       "    }, 10, root)\n",
       "  }\n",
       "})(window);</script>"
      ],
      "text/plain": [
       "Alert(str, alert_type='success', css_classes=['alert', 'alert-success']...], margin=(0, 0, 25, 0), sizing_mode='stretch_width')"
      ]
     },
     "metadata": {
      "application/vnd.holoviews_exec.v0+json": {
       "id": "1133"
      }
     },
     "output_type": "display_data"
    },
    {
     "data": {},
     "metadata": {},
     "output_type": "display_data"
    },
    {
     "data": {
      "application/vnd.holoviews_exec.v0+json": "",
      "text/html": [
       "<div id='1135'>\n",
       "\n",
       "\n",
       "\n",
       "\n",
       "\n",
       "  <div class=\"bk-root\" id=\"fbab5ebe-5b5b-491f-b6bf-1a8ee45c9859\" data-root-id=\"1135\"></div>\n",
       "</div>\n",
       "<script type=\"application/javascript\">(function(root) {\n",
       "  function embed_document(root) {\n",
       "    var docs_json = {\"989343df-8f90-4ded-8aa2-c8059590e145\":{\"defs\":[],\"roots\":{\"references\":[{\"attributes\":{\"css_classes\":[\"alert\",\"alert-secondary\",\"markdown\"],\"margin\":[0,0,25,0],\"name\":\"Alert00331\",\"sizing_mode\":\"stretch_width\",\"text\":\"&lt;p&gt;ASSEMBLY FOR AB_F0x2.bam (64)&amp;hellip; ABySS in progress&lt;/p&gt;\"},\"id\":\"1135\",\"type\":\"panel.models.markup.HTML\"},{\"attributes\":{\"client_comm_id\":\"d7a18615435449deb5d85b4481f4d1c5\",\"comm_id\":\"7a19d915aa7042509b30550c9ab7ae93\",\"plot_id\":\"1135\"},\"id\":\"1136\",\"type\":\"panel.models.comm_manager.CommManager\"}],\"root_ids\":[\"1135\",\"1136\"]},\"title\":\"Bokeh Application\",\"version\":\"2.3.3\"}};\n",
       "    var render_items = [{\"docid\":\"989343df-8f90-4ded-8aa2-c8059590e145\",\"root_ids\":[\"1135\"],\"roots\":{\"1135\":\"fbab5ebe-5b5b-491f-b6bf-1a8ee45c9859\"}}];\n",
       "    root.Bokeh.embed.embed_items_notebook(docs_json, render_items);\n",
       "  }\n",
       "  if (root.Bokeh !== undefined && root.Bokeh.Panel !== undefined) {\n",
       "    embed_document(root);\n",
       "  } else {\n",
       "    var attempts = 0;\n",
       "    var timer = setInterval(function(root) {\n",
       "      if (root.Bokeh !== undefined && root.Bokeh.Panel !== undefined) {\n",
       "        clearInterval(timer);\n",
       "        embed_document(root);\n",
       "      } else if (document.readyState == \"complete\") {\n",
       "        attempts++;\n",
       "        if (attempts > 100) {\n",
       "          clearInterval(timer);\n",
       "          console.log(\"Bokeh: ERROR: Unable to run BokehJS code because BokehJS library is missing\");\n",
       "        }\n",
       "      }\n",
       "    }, 10, root)\n",
       "  }\n",
       "})(window);</script>"
      ],
      "text/plain": [
       "Alert(str, alert_type='secondary', css_classes=['alert', 'alert-secondary...], margin=(0, 0, 25, 0), sizing_mode='stretch_width')"
      ]
     },
     "metadata": {
      "application/vnd.holoviews_exec.v0+json": {
       "id": "1135"
      }
     },
     "output_type": "display_data"
    },
    {
     "data": {},
     "metadata": {},
     "output_type": "display_data"
    },
    {
     "data": {
      "application/vnd.holoviews_exec.v0+json": "",
      "text/html": [
       "<div id='1137'>\n",
       "\n",
       "\n",
       "\n",
       "\n",
       "\n",
       "  <div class=\"bk-root\" id=\"7b6aff2c-e8f9-4485-96bc-75ee5cbac57d\" data-root-id=\"1137\"></div>\n",
       "</div>\n",
       "<script type=\"application/javascript\">(function(root) {\n",
       "  function embed_document(root) {\n",
       "    var docs_json = {\"64832d6b-d8e9-4096-8745-91ac550b89ac\":{\"defs\":[],\"roots\":{\"references\":[{\"attributes\":{\"client_comm_id\":\"cae14b9196b84c598864c44278d5da5f\",\"comm_id\":\"6717edd8134f43449b59bfeac2551f8e\",\"plot_id\":\"1137\"},\"id\":\"1138\",\"type\":\"panel.models.comm_manager.CommManager\"},{\"attributes\":{\"css_classes\":[\"alert\",\"alert-success\",\"markdown\"],\"margin\":[0,0,25,0],\"name\":\"Alert00335\",\"sizing_mode\":\"stretch_width\",\"text\":\"&lt;p&gt;SUCCESSFULL ASSEMBLY : abyss-pe -C /home/christine/Documents/These/frangiPANeGIT/frangiPANe_rice/02-assembly_unmapped_reads/assembly_choosing_k/abyss/AB_k64/ name=rice_AB_64 k=64 in=/home/christine/Documents/These/frangiPANeGIT/frangiPANe_rice/02-assembly_unmapped_reads/bam_F0x2/AB_F0x2.bam&lt;/p&gt;\"},\"id\":\"1137\",\"type\":\"panel.models.markup.HTML\"}],\"root_ids\":[\"1137\",\"1138\"]},\"title\":\"Bokeh Application\",\"version\":\"2.3.3\"}};\n",
       "    var render_items = [{\"docid\":\"64832d6b-d8e9-4096-8745-91ac550b89ac\",\"root_ids\":[\"1137\"],\"roots\":{\"1137\":\"7b6aff2c-e8f9-4485-96bc-75ee5cbac57d\"}}];\n",
       "    root.Bokeh.embed.embed_items_notebook(docs_json, render_items);\n",
       "  }\n",
       "  if (root.Bokeh !== undefined && root.Bokeh.Panel !== undefined) {\n",
       "    embed_document(root);\n",
       "  } else {\n",
       "    var attempts = 0;\n",
       "    var timer = setInterval(function(root) {\n",
       "      if (root.Bokeh !== undefined && root.Bokeh.Panel !== undefined) {\n",
       "        clearInterval(timer);\n",
       "        embed_document(root);\n",
       "      } else if (document.readyState == \"complete\") {\n",
       "        attempts++;\n",
       "        if (attempts > 100) {\n",
       "          clearInterval(timer);\n",
       "          console.log(\"Bokeh: ERROR: Unable to run BokehJS code because BokehJS library is missing\");\n",
       "        }\n",
       "      }\n",
       "    }, 10, root)\n",
       "  }\n",
       "})(window);</script>"
      ],
      "text/plain": [
       "Alert(str, alert_type='success', css_classes=['alert', 'alert-success']...], margin=(0, 0, 25, 0), sizing_mode='stretch_width')"
      ]
     },
     "metadata": {
      "application/vnd.holoviews_exec.v0+json": {
       "id": "1137"
      }
     },
     "output_type": "display_data"
    },
    {
     "data": {},
     "metadata": {},
     "output_type": "display_data"
    },
    {
     "data": {
      "application/vnd.holoviews_exec.v0+json": "",
      "text/html": [
       "<div id='1139'>\n",
       "\n",
       "\n",
       "\n",
       "\n",
       "\n",
       "  <div class=\"bk-root\" id=\"0c781588-f34a-4177-8200-2c205284c3ba\" data-root-id=\"1139\"></div>\n",
       "</div>\n",
       "<script type=\"application/javascript\">(function(root) {\n",
       "  function embed_document(root) {\n",
       "    var docs_json = {\"9b77e90e-5194-49f4-bda8-325c9c530083\":{\"defs\":[],\"roots\":{\"references\":[{\"attributes\":{\"css_classes\":[\"alert\",\"alert-success\",\"markdown\"],\"margin\":[0,0,25,0],\"name\":\"Alert00339\",\"sizing_mode\":\"stretch_width\",\"text\":\"&lt;p&gt;Directory /home/christine/Documents/These/frangiPANeGIT/frangiPANe_rice/02-assembly_unmapped_reads/assembly_choosing_k/abyss/AA_k68/ created&lt;/p&gt;\"},\"id\":\"1139\",\"type\":\"panel.models.markup.HTML\"},{\"attributes\":{\"client_comm_id\":\"31a4cda0618a411a9a5e8537961a0e9a\",\"comm_id\":\"9432a00cbe704b498ca018e65dd8259f\",\"plot_id\":\"1139\"},\"id\":\"1140\",\"type\":\"panel.models.comm_manager.CommManager\"}],\"root_ids\":[\"1139\",\"1140\"]},\"title\":\"Bokeh Application\",\"version\":\"2.3.3\"}};\n",
       "    var render_items = [{\"docid\":\"9b77e90e-5194-49f4-bda8-325c9c530083\",\"root_ids\":[\"1139\"],\"roots\":{\"1139\":\"0c781588-f34a-4177-8200-2c205284c3ba\"}}];\n",
       "    root.Bokeh.embed.embed_items_notebook(docs_json, render_items);\n",
       "  }\n",
       "  if (root.Bokeh !== undefined && root.Bokeh.Panel !== undefined) {\n",
       "    embed_document(root);\n",
       "  } else {\n",
       "    var attempts = 0;\n",
       "    var timer = setInterval(function(root) {\n",
       "      if (root.Bokeh !== undefined && root.Bokeh.Panel !== undefined) {\n",
       "        clearInterval(timer);\n",
       "        embed_document(root);\n",
       "      } else if (document.readyState == \"complete\") {\n",
       "        attempts++;\n",
       "        if (attempts > 100) {\n",
       "          clearInterval(timer);\n",
       "          console.log(\"Bokeh: ERROR: Unable to run BokehJS code because BokehJS library is missing\");\n",
       "        }\n",
       "      }\n",
       "    }, 10, root)\n",
       "  }\n",
       "})(window);</script>"
      ],
      "text/plain": [
       "Alert(str, alert_type='success', css_classes=['alert', 'alert-success']...], margin=(0, 0, 25, 0), sizing_mode='stretch_width')"
      ]
     },
     "metadata": {
      "application/vnd.holoviews_exec.v0+json": {
       "id": "1139"
      }
     },
     "output_type": "display_data"
    },
    {
     "data": {},
     "metadata": {},
     "output_type": "display_data"
    },
    {
     "data": {
      "application/vnd.holoviews_exec.v0+json": "",
      "text/html": [
       "<div id='1141'>\n",
       "\n",
       "\n",
       "\n",
       "\n",
       "\n",
       "  <div class=\"bk-root\" id=\"6215fcc8-067e-4500-a4d9-9b52e083290d\" data-root-id=\"1141\"></div>\n",
       "</div>\n",
       "<script type=\"application/javascript\">(function(root) {\n",
       "  function embed_document(root) {\n",
       "    var docs_json = {\"9bedf4de-f913-4bdc-a2d6-cc773ed0b4b8\":{\"defs\":[],\"roots\":{\"references\":[{\"attributes\":{\"css_classes\":[\"alert\",\"alert-secondary\",\"markdown\"],\"margin\":[0,0,25,0],\"name\":\"Alert00343\",\"sizing_mode\":\"stretch_width\",\"text\":\"&lt;p&gt;ASSEMBLY FOR AA_F0x2.bam (68)&amp;hellip; ABySS in progress&lt;/p&gt;\"},\"id\":\"1141\",\"type\":\"panel.models.markup.HTML\"},{\"attributes\":{\"client_comm_id\":\"92097c10622b4cd28380ed48b35295d0\",\"comm_id\":\"7d62c0de52bc4b239eb8e4c0530a411b\",\"plot_id\":\"1141\"},\"id\":\"1142\",\"type\":\"panel.models.comm_manager.CommManager\"}],\"root_ids\":[\"1141\",\"1142\"]},\"title\":\"Bokeh Application\",\"version\":\"2.3.3\"}};\n",
       "    var render_items = [{\"docid\":\"9bedf4de-f913-4bdc-a2d6-cc773ed0b4b8\",\"root_ids\":[\"1141\"],\"roots\":{\"1141\":\"6215fcc8-067e-4500-a4d9-9b52e083290d\"}}];\n",
       "    root.Bokeh.embed.embed_items_notebook(docs_json, render_items);\n",
       "  }\n",
       "  if (root.Bokeh !== undefined && root.Bokeh.Panel !== undefined) {\n",
       "    embed_document(root);\n",
       "  } else {\n",
       "    var attempts = 0;\n",
       "    var timer = setInterval(function(root) {\n",
       "      if (root.Bokeh !== undefined && root.Bokeh.Panel !== undefined) {\n",
       "        clearInterval(timer);\n",
       "        embed_document(root);\n",
       "      } else if (document.readyState == \"complete\") {\n",
       "        attempts++;\n",
       "        if (attempts > 100) {\n",
       "          clearInterval(timer);\n",
       "          console.log(\"Bokeh: ERROR: Unable to run BokehJS code because BokehJS library is missing\");\n",
       "        }\n",
       "      }\n",
       "    }, 10, root)\n",
       "  }\n",
       "})(window);</script>"
      ],
      "text/plain": [
       "Alert(str, alert_type='secondary', css_classes=['alert', 'alert-secondary...], margin=(0, 0, 25, 0), sizing_mode='stretch_width')"
      ]
     },
     "metadata": {
      "application/vnd.holoviews_exec.v0+json": {
       "id": "1141"
      }
     },
     "output_type": "display_data"
    },
    {
     "data": {},
     "metadata": {},
     "output_type": "display_data"
    },
    {
     "data": {
      "application/vnd.holoviews_exec.v0+json": "",
      "text/html": [
       "<div id='1143'>\n",
       "\n",
       "\n",
       "\n",
       "\n",
       "\n",
       "  <div class=\"bk-root\" id=\"083c4c7b-1bf8-485e-aaa4-a0cb77f7091f\" data-root-id=\"1143\"></div>\n",
       "</div>\n",
       "<script type=\"application/javascript\">(function(root) {\n",
       "  function embed_document(root) {\n",
       "    var docs_json = {\"c497cacd-7451-4379-ada7-2a329701fa0b\":{\"defs\":[],\"roots\":{\"references\":[{\"attributes\":{\"client_comm_id\":\"8bc26bbeeab34ca5a720937acae91709\",\"comm_id\":\"ae3e4121822e42719b08be47c591b4bf\",\"plot_id\":\"1143\"},\"id\":\"1144\",\"type\":\"panel.models.comm_manager.CommManager\"},{\"attributes\":{\"css_classes\":[\"alert\",\"alert-success\",\"markdown\"],\"margin\":[0,0,25,0],\"name\":\"Alert00347\",\"sizing_mode\":\"stretch_width\",\"text\":\"&lt;p&gt;SUCCESSFULL ASSEMBLY : abyss-pe -C /home/christine/Documents/These/frangiPANeGIT/frangiPANe_rice/02-assembly_unmapped_reads/assembly_choosing_k/abyss/AA_k68/ name=rice_AA_68 k=68 in=/home/christine/Documents/These/frangiPANeGIT/frangiPANe_rice/02-assembly_unmapped_reads/bam_F0x2/AA_F0x2.bam&lt;/p&gt;\"},\"id\":\"1143\",\"type\":\"panel.models.markup.HTML\"}],\"root_ids\":[\"1143\",\"1144\"]},\"title\":\"Bokeh Application\",\"version\":\"2.3.3\"}};\n",
       "    var render_items = [{\"docid\":\"c497cacd-7451-4379-ada7-2a329701fa0b\",\"root_ids\":[\"1143\"],\"roots\":{\"1143\":\"083c4c7b-1bf8-485e-aaa4-a0cb77f7091f\"}}];\n",
       "    root.Bokeh.embed.embed_items_notebook(docs_json, render_items);\n",
       "  }\n",
       "  if (root.Bokeh !== undefined && root.Bokeh.Panel !== undefined) {\n",
       "    embed_document(root);\n",
       "  } else {\n",
       "    var attempts = 0;\n",
       "    var timer = setInterval(function(root) {\n",
       "      if (root.Bokeh !== undefined && root.Bokeh.Panel !== undefined) {\n",
       "        clearInterval(timer);\n",
       "        embed_document(root);\n",
       "      } else if (document.readyState == \"complete\") {\n",
       "        attempts++;\n",
       "        if (attempts > 100) {\n",
       "          clearInterval(timer);\n",
       "          console.log(\"Bokeh: ERROR: Unable to run BokehJS code because BokehJS library is missing\");\n",
       "        }\n",
       "      }\n",
       "    }, 10, root)\n",
       "  }\n",
       "})(window);</script>"
      ],
      "text/plain": [
       "Alert(str, alert_type='success', css_classes=['alert', 'alert-success']...], margin=(0, 0, 25, 0), sizing_mode='stretch_width')"
      ]
     },
     "metadata": {
      "application/vnd.holoviews_exec.v0+json": {
       "id": "1143"
      }
     },
     "output_type": "display_data"
    },
    {
     "data": {},
     "metadata": {},
     "output_type": "display_data"
    },
    {
     "data": {
      "application/vnd.holoviews_exec.v0+json": "",
      "text/html": [
       "<div id='1145'>\n",
       "\n",
       "\n",
       "\n",
       "\n",
       "\n",
       "  <div class=\"bk-root\" id=\"79ea09a8-75e8-4d8b-a9ec-b34d3ef13bc0\" data-root-id=\"1145\"></div>\n",
       "</div>\n",
       "<script type=\"application/javascript\">(function(root) {\n",
       "  function embed_document(root) {\n",
       "    var docs_json = {\"02ea4169-b60b-4c56-8688-c6c15fbd7132\":{\"defs\":[],\"roots\":{\"references\":[{\"attributes\":{\"client_comm_id\":\"799f60b09a554210a963a57aa295615c\",\"comm_id\":\"6ef6f3746c894a1ea999bd4510a8b597\",\"plot_id\":\"1145\"},\"id\":\"1146\",\"type\":\"panel.models.comm_manager.CommManager\"},{\"attributes\":{\"css_classes\":[\"alert\",\"alert-success\",\"markdown\"],\"margin\":[0,0,25,0],\"name\":\"Alert00351\",\"sizing_mode\":\"stretch_width\",\"text\":\"&lt;p&gt;Directory /home/christine/Documents/These/frangiPANeGIT/frangiPANe_rice/02-assembly_unmapped_reads/assembly_choosing_k/abyss/AB_k68/ created&lt;/p&gt;\"},\"id\":\"1145\",\"type\":\"panel.models.markup.HTML\"}],\"root_ids\":[\"1145\",\"1146\"]},\"title\":\"Bokeh Application\",\"version\":\"2.3.3\"}};\n",
       "    var render_items = [{\"docid\":\"02ea4169-b60b-4c56-8688-c6c15fbd7132\",\"root_ids\":[\"1145\"],\"roots\":{\"1145\":\"79ea09a8-75e8-4d8b-a9ec-b34d3ef13bc0\"}}];\n",
       "    root.Bokeh.embed.embed_items_notebook(docs_json, render_items);\n",
       "  }\n",
       "  if (root.Bokeh !== undefined && root.Bokeh.Panel !== undefined) {\n",
       "    embed_document(root);\n",
       "  } else {\n",
       "    var attempts = 0;\n",
       "    var timer = setInterval(function(root) {\n",
       "      if (root.Bokeh !== undefined && root.Bokeh.Panel !== undefined) {\n",
       "        clearInterval(timer);\n",
       "        embed_document(root);\n",
       "      } else if (document.readyState == \"complete\") {\n",
       "        attempts++;\n",
       "        if (attempts > 100) {\n",
       "          clearInterval(timer);\n",
       "          console.log(\"Bokeh: ERROR: Unable to run BokehJS code because BokehJS library is missing\");\n",
       "        }\n",
       "      }\n",
       "    }, 10, root)\n",
       "  }\n",
       "})(window);</script>"
      ],
      "text/plain": [
       "Alert(str, alert_type='success', css_classes=['alert', 'alert-success']...], margin=(0, 0, 25, 0), sizing_mode='stretch_width')"
      ]
     },
     "metadata": {
      "application/vnd.holoviews_exec.v0+json": {
       "id": "1145"
      }
     },
     "output_type": "display_data"
    },
    {
     "data": {},
     "metadata": {},
     "output_type": "display_data"
    },
    {
     "data": {
      "application/vnd.holoviews_exec.v0+json": "",
      "text/html": [
       "<div id='1147'>\n",
       "\n",
       "\n",
       "\n",
       "\n",
       "\n",
       "  <div class=\"bk-root\" id=\"bb44ca9e-e031-4fdb-9b54-6805e4b13f05\" data-root-id=\"1147\"></div>\n",
       "</div>\n",
       "<script type=\"application/javascript\">(function(root) {\n",
       "  function embed_document(root) {\n",
       "    var docs_json = {\"58e2531f-bd09-4d27-894a-e6f31b568cf7\":{\"defs\":[],\"roots\":{\"references\":[{\"attributes\":{\"client_comm_id\":\"1144f295add84f5d88ce6bcb12979e29\",\"comm_id\":\"0562eb158535426c9e0999740656d4af\",\"plot_id\":\"1147\"},\"id\":\"1148\",\"type\":\"panel.models.comm_manager.CommManager\"},{\"attributes\":{\"css_classes\":[\"alert\",\"alert-secondary\",\"markdown\"],\"margin\":[0,0,25,0],\"name\":\"Alert00355\",\"sizing_mode\":\"stretch_width\",\"text\":\"&lt;p&gt;ASSEMBLY FOR AB_F0x2.bam (68)&amp;hellip; ABySS in progress&lt;/p&gt;\"},\"id\":\"1147\",\"type\":\"panel.models.markup.HTML\"}],\"root_ids\":[\"1147\",\"1148\"]},\"title\":\"Bokeh Application\",\"version\":\"2.3.3\"}};\n",
       "    var render_items = [{\"docid\":\"58e2531f-bd09-4d27-894a-e6f31b568cf7\",\"root_ids\":[\"1147\"],\"roots\":{\"1147\":\"bb44ca9e-e031-4fdb-9b54-6805e4b13f05\"}}];\n",
       "    root.Bokeh.embed.embed_items_notebook(docs_json, render_items);\n",
       "  }\n",
       "  if (root.Bokeh !== undefined && root.Bokeh.Panel !== undefined) {\n",
       "    embed_document(root);\n",
       "  } else {\n",
       "    var attempts = 0;\n",
       "    var timer = setInterval(function(root) {\n",
       "      if (root.Bokeh !== undefined && root.Bokeh.Panel !== undefined) {\n",
       "        clearInterval(timer);\n",
       "        embed_document(root);\n",
       "      } else if (document.readyState == \"complete\") {\n",
       "        attempts++;\n",
       "        if (attempts > 100) {\n",
       "          clearInterval(timer);\n",
       "          console.log(\"Bokeh: ERROR: Unable to run BokehJS code because BokehJS library is missing\");\n",
       "        }\n",
       "      }\n",
       "    }, 10, root)\n",
       "  }\n",
       "})(window);</script>"
      ],
      "text/plain": [
       "Alert(str, alert_type='secondary', css_classes=['alert', 'alert-secondary...], margin=(0, 0, 25, 0), sizing_mode='stretch_width')"
      ]
     },
     "metadata": {
      "application/vnd.holoviews_exec.v0+json": {
       "id": "1147"
      }
     },
     "output_type": "display_data"
    },
    {
     "data": {},
     "metadata": {},
     "output_type": "display_data"
    },
    {
     "data": {
      "application/vnd.holoviews_exec.v0+json": "",
      "text/html": [
       "<div id='1149'>\n",
       "\n",
       "\n",
       "\n",
       "\n",
       "\n",
       "  <div class=\"bk-root\" id=\"0719d1f9-cccc-4cd4-82ba-fb902349ce87\" data-root-id=\"1149\"></div>\n",
       "</div>\n",
       "<script type=\"application/javascript\">(function(root) {\n",
       "  function embed_document(root) {\n",
       "    var docs_json = {\"6e2acb8f-33a1-4aeb-a80d-568b7118635f\":{\"defs\":[],\"roots\":{\"references\":[{\"attributes\":{\"css_classes\":[\"alert\",\"alert-success\",\"markdown\"],\"margin\":[0,0,25,0],\"name\":\"Alert00359\",\"sizing_mode\":\"stretch_width\",\"text\":\"&lt;p&gt;SUCCESSFULL ASSEMBLY : abyss-pe -C /home/christine/Documents/These/frangiPANeGIT/frangiPANe_rice/02-assembly_unmapped_reads/assembly_choosing_k/abyss/AB_k68/ name=rice_AB_68 k=68 in=/home/christine/Documents/These/frangiPANeGIT/frangiPANe_rice/02-assembly_unmapped_reads/bam_F0x2/AB_F0x2.bam&lt;/p&gt;\"},\"id\":\"1149\",\"type\":\"panel.models.markup.HTML\"},{\"attributes\":{\"client_comm_id\":\"5d485a71894d438f86a76e1abe751f30\",\"comm_id\":\"cb5da4c860e748ab8ef90397ab9a7039\",\"plot_id\":\"1149\"},\"id\":\"1150\",\"type\":\"panel.models.comm_manager.CommManager\"}],\"root_ids\":[\"1149\",\"1150\"]},\"title\":\"Bokeh Application\",\"version\":\"2.3.3\"}};\n",
       "    var render_items = [{\"docid\":\"6e2acb8f-33a1-4aeb-a80d-568b7118635f\",\"root_ids\":[\"1149\"],\"roots\":{\"1149\":\"0719d1f9-cccc-4cd4-82ba-fb902349ce87\"}}];\n",
       "    root.Bokeh.embed.embed_items_notebook(docs_json, render_items);\n",
       "  }\n",
       "  if (root.Bokeh !== undefined && root.Bokeh.Panel !== undefined) {\n",
       "    embed_document(root);\n",
       "  } else {\n",
       "    var attempts = 0;\n",
       "    var timer = setInterval(function(root) {\n",
       "      if (root.Bokeh !== undefined && root.Bokeh.Panel !== undefined) {\n",
       "        clearInterval(timer);\n",
       "        embed_document(root);\n",
       "      } else if (document.readyState == \"complete\") {\n",
       "        attempts++;\n",
       "        if (attempts > 100) {\n",
       "          clearInterval(timer);\n",
       "          console.log(\"Bokeh: ERROR: Unable to run BokehJS code because BokehJS library is missing\");\n",
       "        }\n",
       "      }\n",
       "    }, 10, root)\n",
       "  }\n",
       "})(window);</script>"
      ],
      "text/plain": [
       "Alert(str, alert_type='success', css_classes=['alert', 'alert-success']...], margin=(0, 0, 25, 0), sizing_mode='stretch_width')"
      ]
     },
     "metadata": {
      "application/vnd.holoviews_exec.v0+json": {
       "id": "1149"
      }
     },
     "output_type": "display_data"
    }
   ],
   "source": [
    "make_dir(output_assembly_dir + \"assembly_choosing_k/\")\n",
    "make_dir(output_assembly_dir + \"assembly_choosing_k/abyss/\")\n",
    "\n",
    "kmin=int(k.value[0])\n",
    "kmax=int(k.value[1])\n",
    "\n",
    "# for k in range(32, 97, 8) : \n",
    "for k in range(kmin, kmax, step.value) :\n",
    "    for id in accession.value : ### INDIVIDUS TEST\n",
    "        #print(id)\n",
    "        abyss_pe(project_name=project_name.value, id=id, k=k, bam_dir=output_assembly_dir + \"bam_F0x2/\", \n",
    "                output_dir=output_assembly_dir + \"assembly_choosing_k/abyss/\", logger=logger) "
   ]
  },
  {
   "cell_type": "markdown",
   "metadata": {},
   "source": [
    "##### Filter .fastq files\n",
    "\n",
    "   * contigs : https://github.com/bcgsc/abyss/wiki/ABySS-File-Formats#description-of-rows\n",
    "   * extract sequence (length >= threshold)"
   ]
  },
  {
   "cell_type": "code",
   "execution_count": null,
   "metadata": {},
   "outputs": [
    {
     "data": {},
     "metadata": {},
     "output_type": "display_data"
    },
    {
     "data": {
      "application/vnd.holoviews_exec.v0+json": "",
      "text/html": [
       "<div id='1151'>\n",
       "\n",
       "\n",
       "\n",
       "\n",
       "\n",
       "  <div class=\"bk-root\" id=\"2398c38c-d7ff-4f5f-8cee-e352cf8cc1bb\" data-root-id=\"1151\"></div>\n",
       "</div>\n",
       "<script type=\"application/javascript\">(function(root) {\n",
       "  function embed_document(root) {\n",
       "    var docs_json = {\"3296aa5f-57f5-44ac-a73e-5cc557985062\":{\"defs\":[],\"roots\":{\"references\":[{\"attributes\":{\"client_comm_id\":\"46925fa2fb0345b4814ff45e74b59068\",\"comm_id\":\"275e67e2550441e0ad7de0aaa0387236\",\"plot_id\":\"1151\"},\"id\":\"1152\",\"type\":\"panel.models.comm_manager.CommManager\"},{\"attributes\":{\"css_classes\":[\"alert\",\"alert-warning\",\"markdown\"],\"margin\":[0,0,25,0],\"name\":\"Alert00363\",\"sizing_mode\":\"stretch_width\",\"text\":\"&lt;h3&gt;warning&lt;/h3&gt;\\n&lt;hr&gt;\\n&lt;p&gt;Directory /home/christine/Documents/These/frangiPANeGIT/frangiPANe_rice/02-assembly_unmapped_reads/assembly_choosing_k/fasta_test/ already existed&lt;/p&gt;\"},\"id\":\"1151\",\"type\":\"panel.models.markup.HTML\"}],\"root_ids\":[\"1151\",\"1152\"]},\"title\":\"Bokeh Application\",\"version\":\"2.3.3\"}};\n",
       "    var render_items = [{\"docid\":\"3296aa5f-57f5-44ac-a73e-5cc557985062\",\"root_ids\":[\"1151\"],\"roots\":{\"1151\":\"2398c38c-d7ff-4f5f-8cee-e352cf8cc1bb\"}}];\n",
       "    root.Bokeh.embed.embed_items_notebook(docs_json, render_items);\n",
       "  }\n",
       "  if (root.Bokeh !== undefined && root.Bokeh.Panel !== undefined) {\n",
       "    embed_document(root);\n",
       "  } else {\n",
       "    var attempts = 0;\n",
       "    var timer = setInterval(function(root) {\n",
       "      if (root.Bokeh !== undefined && root.Bokeh.Panel !== undefined) {\n",
       "        clearInterval(timer);\n",
       "        embed_document(root);\n",
       "      } else if (document.readyState == \"complete\") {\n",
       "        attempts++;\n",
       "        if (attempts > 100) {\n",
       "          clearInterval(timer);\n",
       "          console.log(\"Bokeh: ERROR: Unable to run BokehJS code because BokehJS library is missing\");\n",
       "        }\n",
       "      }\n",
       "    }, 10, root)\n",
       "  }\n",
       "})(window);</script>"
      ],
      "text/plain": [
       "Alert(str, alert_type='warning', css_classes=['alert', 'alert-warning']...], margin=(0, 0, 25, 0), sizing_mode='stretch_width')"
      ]
     },
     "metadata": {
      "application/vnd.holoviews_exec.v0+json": {
       "id": "1151"
      }
     },
     "output_type": "display_data"
    },
    {
     "data": {
      "text/plain": [
       "'File /home/christine/Documents/These/frangiPANeGIT/frangiPANe_rice/02-assembly_unmapped_reads/assembly_choosing_k/fasta_test/AA_k64_thr300.fasta already existed'"
      ]
     },
     "metadata": {},
     "output_type": "display_data"
    },
    {
     "data": {
      "text/plain": [
       "'warning'"
      ]
     },
     "metadata": {},
     "output_type": "display_data"
    },
    {
     "data": {
      "text/plain": [
       "'File /home/christine/Documents/These/frangiPANeGIT/frangiPANe_rice/02-assembly_unmapped_reads/assembly_choosing_k/fasta_test/AB_k64_thr300.fasta already existed'"
      ]
     },
     "metadata": {},
     "output_type": "display_data"
    },
    {
     "data": {
      "text/plain": [
       "'warning'"
      ]
     },
     "metadata": {},
     "output_type": "display_data"
    }
   ],
   "source": [
    "make_dir(output_assembly_dir + \"assembly_choosing_k/fasta_test/\")\n",
    "\n",
    "threshold = 300\n",
    "\n",
    "logger.info(f\"FILTERING SEQUENCES >= THRESHOLD ({threshold})\")\n",
    "\n",
    "for k in range(kmin, kmax, step.value) :\n",
    "    for id in accession.value : \n",
    "        filter_fastq_threshold(file=output_assembly_dir + \"assembly_choosing_k/abyss/\" + id + \"_k\" + str(k) + \"/\" + project_name.value + \"_\" + id + \"_\" + str(k) + \"-contigs.fa\", \n",
    "                               threshold=threshold, \n",
    "                               output_file=output_assembly_dir + \"assembly_choosing_k/fasta_test/\" + id + \"_k\" + str(k) + \"_thr\" + str(threshold) + \".fasta\") "
   ]
  },
  {
   "cell_type": "markdown",
   "metadata": {},
   "source": [
    "##### Stats\n",
    "\n",
    "Using assembly-stats. NB : L50 is called n50n "
   ]
  },
  {
   "cell_type": "code",
   "execution_count": 23,
   "metadata": {},
   "outputs": [
    {
     "data": {},
     "metadata": {},
     "output_type": "display_data"
    },
    {
     "data": {
      "application/vnd.holoviews_exec.v0+json": "",
      "text/html": [
       "<div id='1155'>\n",
       "\n",
       "\n",
       "\n",
       "\n",
       "\n",
       "  <div class=\"bk-root\" id=\"e5a93e40-0ccd-450a-89a9-d385136d993f\" data-root-id=\"1155\"></div>\n",
       "</div>\n",
       "<script type=\"application/javascript\">(function(root) {\n",
       "  function embed_document(root) {\n",
       "    var docs_json = {\"abca314b-361c-40be-b2d5-cb5123b65593\":{\"defs\":[],\"roots\":{\"references\":[{\"attributes\":{\"client_comm_id\":\"a09aad7b27144ae29e3349e99741e735\",\"comm_id\":\"1c582d4422e44257a46e70fa1d24d91b\",\"plot_id\":\"1155\"},\"id\":\"1156\",\"type\":\"panel.models.comm_manager.CommManager\"},{\"attributes\":{\"css_classes\":[\"alert\",\"alert-warning\",\"markdown\"],\"margin\":[0,0,25,0],\"name\":\"Alert00371\",\"sizing_mode\":\"stretch_width\",\"text\":\"&lt;h3&gt;warning&lt;/h3&gt;\\n&lt;hr&gt;\\n&lt;p&gt;Directory /home/christine/Documents/These/frangiPANeGIT/frangiPANe_rice/02-assembly_unmapped_reads/assembly_choosing_k/plots/ already existed&lt;/p&gt;\"},\"id\":\"1155\",\"type\":\"panel.models.markup.HTML\"}],\"root_ids\":[\"1155\",\"1156\"]},\"title\":\"Bokeh Application\",\"version\":\"2.3.3\"}};\n",
       "    var render_items = [{\"docid\":\"abca314b-361c-40be-b2d5-cb5123b65593\",\"root_ids\":[\"1155\"],\"roots\":{\"1155\":\"e5a93e40-0ccd-450a-89a9-d385136d993f\"}}];\n",
       "    root.Bokeh.embed.embed_items_notebook(docs_json, render_items);\n",
       "  }\n",
       "  if (root.Bokeh !== undefined && root.Bokeh.Panel !== undefined) {\n",
       "    embed_document(root);\n",
       "  } else {\n",
       "    var attempts = 0;\n",
       "    var timer = setInterval(function(root) {\n",
       "      if (root.Bokeh !== undefined && root.Bokeh.Panel !== undefined) {\n",
       "        clearInterval(timer);\n",
       "        embed_document(root);\n",
       "      } else if (document.readyState == \"complete\") {\n",
       "        attempts++;\n",
       "        if (attempts > 100) {\n",
       "          clearInterval(timer);\n",
       "          console.log(\"Bokeh: ERROR: Unable to run BokehJS code because BokehJS library is missing\");\n",
       "        }\n",
       "      }\n",
       "    }, 10, root)\n",
       "  }\n",
       "})(window);</script>"
      ],
      "text/plain": [
       "Alert(str, alert_type='warning', css_classes=['alert', 'alert-warning']...], margin=(0, 0, 25, 0), sizing_mode='stretch_width')"
      ]
     },
     "metadata": {
      "application/vnd.holoviews_exec.v0+json": {
       "id": "1155"
      }
     },
     "output_type": "display_data"
    },
    {
     "data": {},
     "metadata": {},
     "output_type": "display_data"
    },
    {
     "data": {
      "application/vnd.holoviews_exec.v0+json": "",
      "text/html": [
       "<div id='1157'>\n",
       "\n",
       "\n",
       "\n",
       "\n",
       "\n",
       "  <div class=\"bk-root\" id=\"8000654f-ceb5-4767-b5c0-0784df2bce79\" data-root-id=\"1157\"></div>\n",
       "</div>\n",
       "<script type=\"application/javascript\">(function(root) {\n",
       "  function embed_document(root) {\n",
       "    var docs_json = {\"3248b758-deaf-492b-8846-65e951e731b8\":{\"defs\":[],\"roots\":{\"references\":[{\"attributes\":{\"client_comm_id\":\"7604d9d3089a422aad0a5e1ba3d58b52\",\"comm_id\":\"9016fe596e7d4f0583697a5489bba2ba\",\"plot_id\":\"1157\"},\"id\":\"1158\",\"type\":\"panel.models.comm_manager.CommManager\"},{\"attributes\":{\"css_classes\":[\"alert\",\"alert-success\",\"markdown\"],\"margin\":[0,0,25,0],\"name\":\"Alert00375\",\"sizing_mode\":\"stretch_width\",\"text\":\"&lt;p&gt;SUCCESSFULL ASSEMBLY-STATS : assembly-stats -s /home/christine/Documents/These/frangiPANeGIT/frangiPANe_rice/02-assembly_unmapped_reads/assembly_choosing_k/fasta_test/AA_k60_thr300.fasta&lt;/p&gt;\"},\"id\":\"1157\",\"type\":\"panel.models.markup.HTML\"}],\"root_ids\":[\"1157\",\"1158\"]},\"title\":\"Bokeh Application\",\"version\":\"2.3.3\"}};\n",
       "    var render_items = [{\"docid\":\"3248b758-deaf-492b-8846-65e951e731b8\",\"root_ids\":[\"1157\"],\"roots\":{\"1157\":\"8000654f-ceb5-4767-b5c0-0784df2bce79\"}}];\n",
       "    root.Bokeh.embed.embed_items_notebook(docs_json, render_items);\n",
       "  }\n",
       "  if (root.Bokeh !== undefined && root.Bokeh.Panel !== undefined) {\n",
       "    embed_document(root);\n",
       "  } else {\n",
       "    var attempts = 0;\n",
       "    var timer = setInterval(function(root) {\n",
       "      if (root.Bokeh !== undefined && root.Bokeh.Panel !== undefined) {\n",
       "        clearInterval(timer);\n",
       "        embed_document(root);\n",
       "      } else if (document.readyState == \"complete\") {\n",
       "        attempts++;\n",
       "        if (attempts > 100) {\n",
       "          clearInterval(timer);\n",
       "          console.log(\"Bokeh: ERROR: Unable to run BokehJS code because BokehJS library is missing\");\n",
       "        }\n",
       "      }\n",
       "    }, 10, root)\n",
       "  }\n",
       "})(window);</script>"
      ],
      "text/plain": [
       "Alert(str, alert_type='success', css_classes=['alert', 'alert-success']...], margin=(0, 0, 25, 0), sizing_mode='stretch_width')"
      ]
     },
     "metadata": {
      "application/vnd.holoviews_exec.v0+json": {
       "id": "1157"
      }
     },
     "output_type": "display_data"
    },
    {
     "data": {},
     "metadata": {},
     "output_type": "display_data"
    },
    {
     "data": {
      "application/vnd.holoviews_exec.v0+json": "",
      "text/html": [
       "<div id='1159'>\n",
       "\n",
       "\n",
       "\n",
       "\n",
       "\n",
       "  <div class=\"bk-root\" id=\"2169a56a-72ee-44d1-8ea1-af0500fe4820\" data-root-id=\"1159\"></div>\n",
       "</div>\n",
       "<script type=\"application/javascript\">(function(root) {\n",
       "  function embed_document(root) {\n",
       "    var docs_json = {\"ebbe21d3-91b0-4ba2-b4ac-d2e79e9a84c6\":{\"defs\":[],\"roots\":{\"references\":[{\"attributes\":{\"css_classes\":[\"alert\",\"alert-success\",\"markdown\"],\"margin\":[0,0,25,0],\"name\":\"Alert00379\",\"sizing_mode\":\"stretch_width\",\"text\":\"&lt;p&gt;SUCCESSFULL ASSEMBLY-STATS : assembly-stats -s /home/christine/Documents/These/frangiPANeGIT/frangiPANe_rice/02-assembly_unmapped_reads/assembly_choosing_k/fasta_test/AB_k60_thr300.fasta&lt;/p&gt;\"},\"id\":\"1159\",\"type\":\"panel.models.markup.HTML\"},{\"attributes\":{\"client_comm_id\":\"884149613aa546638cf4f13b3b67423c\",\"comm_id\":\"4de487dc734240c79a9cdd4573a361ea\",\"plot_id\":\"1159\"},\"id\":\"1160\",\"type\":\"panel.models.comm_manager.CommManager\"}],\"root_ids\":[\"1159\",\"1160\"]},\"title\":\"Bokeh Application\",\"version\":\"2.3.3\"}};\n",
       "    var render_items = [{\"docid\":\"ebbe21d3-91b0-4ba2-b4ac-d2e79e9a84c6\",\"root_ids\":[\"1159\"],\"roots\":{\"1159\":\"2169a56a-72ee-44d1-8ea1-af0500fe4820\"}}];\n",
       "    root.Bokeh.embed.embed_items_notebook(docs_json, render_items);\n",
       "  }\n",
       "  if (root.Bokeh !== undefined && root.Bokeh.Panel !== undefined) {\n",
       "    embed_document(root);\n",
       "  } else {\n",
       "    var attempts = 0;\n",
       "    var timer = setInterval(function(root) {\n",
       "      if (root.Bokeh !== undefined && root.Bokeh.Panel !== undefined) {\n",
       "        clearInterval(timer);\n",
       "        embed_document(root);\n",
       "      } else if (document.readyState == \"complete\") {\n",
       "        attempts++;\n",
       "        if (attempts > 100) {\n",
       "          clearInterval(timer);\n",
       "          console.log(\"Bokeh: ERROR: Unable to run BokehJS code because BokehJS library is missing\");\n",
       "        }\n",
       "      }\n",
       "    }, 10, root)\n",
       "  }\n",
       "})(window);</script>"
      ],
      "text/plain": [
       "Alert(str, alert_type='success', css_classes=['alert', 'alert-success']...], margin=(0, 0, 25, 0), sizing_mode='stretch_width')"
      ]
     },
     "metadata": {
      "application/vnd.holoviews_exec.v0+json": {
       "id": "1159"
      }
     },
     "output_type": "display_data"
    },
    {
     "data": {},
     "metadata": {},
     "output_type": "display_data"
    },
    {
     "data": {
      "application/vnd.holoviews_exec.v0+json": "",
      "text/html": [
       "<div id='1161'>\n",
       "\n",
       "\n",
       "\n",
       "\n",
       "\n",
       "  <div class=\"bk-root\" id=\"26d475d5-16aa-422d-b1d9-570d1ce133f1\" data-root-id=\"1161\"></div>\n",
       "</div>\n",
       "<script type=\"application/javascript\">(function(root) {\n",
       "  function embed_document(root) {\n",
       "    var docs_json = {\"33a4c366-f7af-4c54-b2d5-59fbdf9417e1\":{\"defs\":[],\"roots\":{\"references\":[{\"attributes\":{\"client_comm_id\":\"f775868563e94ba9b1b0738da6fc7e33\",\"comm_id\":\"10654626593c49fab43b22fc7d6d8137\",\"plot_id\":\"1161\"},\"id\":\"1162\",\"type\":\"panel.models.comm_manager.CommManager\"},{\"attributes\":{\"css_classes\":[\"alert\",\"alert-success\",\"markdown\"],\"margin\":[0,0,25,0],\"name\":\"Alert00383\",\"sizing_mode\":\"stretch_width\",\"text\":\"&lt;p&gt;SUCCESSFULL ASSEMBLY-STATS : assembly-stats -s /home/christine/Documents/These/frangiPANeGIT/frangiPANe_rice/02-assembly_unmapped_reads/assembly_choosing_k/fasta_test/AA_k64_thr300.fasta&lt;/p&gt;\"},\"id\":\"1161\",\"type\":\"panel.models.markup.HTML\"}],\"root_ids\":[\"1161\",\"1162\"]},\"title\":\"Bokeh Application\",\"version\":\"2.3.3\"}};\n",
       "    var render_items = [{\"docid\":\"33a4c366-f7af-4c54-b2d5-59fbdf9417e1\",\"root_ids\":[\"1161\"],\"roots\":{\"1161\":\"26d475d5-16aa-422d-b1d9-570d1ce133f1\"}}];\n",
       "    root.Bokeh.embed.embed_items_notebook(docs_json, render_items);\n",
       "  }\n",
       "  if (root.Bokeh !== undefined && root.Bokeh.Panel !== undefined) {\n",
       "    embed_document(root);\n",
       "  } else {\n",
       "    var attempts = 0;\n",
       "    var timer = setInterval(function(root) {\n",
       "      if (root.Bokeh !== undefined && root.Bokeh.Panel !== undefined) {\n",
       "        clearInterval(timer);\n",
       "        embed_document(root);\n",
       "      } else if (document.readyState == \"complete\") {\n",
       "        attempts++;\n",
       "        if (attempts > 100) {\n",
       "          clearInterval(timer);\n",
       "          console.log(\"Bokeh: ERROR: Unable to run BokehJS code because BokehJS library is missing\");\n",
       "        }\n",
       "      }\n",
       "    }, 10, root)\n",
       "  }\n",
       "})(window);</script>"
      ],
      "text/plain": [
       "Alert(str, alert_type='success', css_classes=['alert', 'alert-success']...], margin=(0, 0, 25, 0), sizing_mode='stretch_width')"
      ]
     },
     "metadata": {
      "application/vnd.holoviews_exec.v0+json": {
       "id": "1161"
      }
     },
     "output_type": "display_data"
    },
    {
     "data": {},
     "metadata": {},
     "output_type": "display_data"
    },
    {
     "data": {
      "application/vnd.holoviews_exec.v0+json": "",
      "text/html": [
       "<div id='1163'>\n",
       "\n",
       "\n",
       "\n",
       "\n",
       "\n",
       "  <div class=\"bk-root\" id=\"532e68e7-4b08-4b2a-8b7c-3b51cd0ee699\" data-root-id=\"1163\"></div>\n",
       "</div>\n",
       "<script type=\"application/javascript\">(function(root) {\n",
       "  function embed_document(root) {\n",
       "    var docs_json = {\"c45b16bb-1e2f-4204-bd5a-c6e424ec3d6f\":{\"defs\":[],\"roots\":{\"references\":[{\"attributes\":{\"css_classes\":[\"alert\",\"alert-success\",\"markdown\"],\"margin\":[0,0,25,0],\"name\":\"Alert00387\",\"sizing_mode\":\"stretch_width\",\"text\":\"&lt;p&gt;SUCCESSFULL ASSEMBLY-STATS : assembly-stats -s /home/christine/Documents/These/frangiPANeGIT/frangiPANe_rice/02-assembly_unmapped_reads/assembly_choosing_k/fasta_test/AB_k64_thr300.fasta&lt;/p&gt;\"},\"id\":\"1163\",\"type\":\"panel.models.markup.HTML\"},{\"attributes\":{\"client_comm_id\":\"102a56b0ad334c6fa87e7987d8d4ead9\",\"comm_id\":\"2e4973f63f464c53b89489d7db2cc5e8\",\"plot_id\":\"1163\"},\"id\":\"1164\",\"type\":\"panel.models.comm_manager.CommManager\"}],\"root_ids\":[\"1163\",\"1164\"]},\"title\":\"Bokeh Application\",\"version\":\"2.3.3\"}};\n",
       "    var render_items = [{\"docid\":\"c45b16bb-1e2f-4204-bd5a-c6e424ec3d6f\",\"root_ids\":[\"1163\"],\"roots\":{\"1163\":\"532e68e7-4b08-4b2a-8b7c-3b51cd0ee699\"}}];\n",
       "    root.Bokeh.embed.embed_items_notebook(docs_json, render_items);\n",
       "  }\n",
       "  if (root.Bokeh !== undefined && root.Bokeh.Panel !== undefined) {\n",
       "    embed_document(root);\n",
       "  } else {\n",
       "    var attempts = 0;\n",
       "    var timer = setInterval(function(root) {\n",
       "      if (root.Bokeh !== undefined && root.Bokeh.Panel !== undefined) {\n",
       "        clearInterval(timer);\n",
       "        embed_document(root);\n",
       "      } else if (document.readyState == \"complete\") {\n",
       "        attempts++;\n",
       "        if (attempts > 100) {\n",
       "          clearInterval(timer);\n",
       "          console.log(\"Bokeh: ERROR: Unable to run BokehJS code because BokehJS library is missing\");\n",
       "        }\n",
       "      }\n",
       "    }, 10, root)\n",
       "  }\n",
       "})(window);</script>"
      ],
      "text/plain": [
       "Alert(str, alert_type='success', css_classes=['alert', 'alert-success']...], margin=(0, 0, 25, 0), sizing_mode='stretch_width')"
      ]
     },
     "metadata": {
      "application/vnd.holoviews_exec.v0+json": {
       "id": "1163"
      }
     },
     "output_type": "display_data"
    },
    {
     "data": {},
     "metadata": {},
     "output_type": "display_data"
    },
    {
     "data": {
      "application/vnd.holoviews_exec.v0+json": "",
      "text/html": [
       "<div id='1165'>\n",
       "\n",
       "\n",
       "\n",
       "\n",
       "\n",
       "  <div class=\"bk-root\" id=\"dc9f960b-53df-4b4b-93f4-7e2ba2f7d160\" data-root-id=\"1165\"></div>\n",
       "</div>\n",
       "<script type=\"application/javascript\">(function(root) {\n",
       "  function embed_document(root) {\n",
       "    var docs_json = {\"d999b1f3-b764-451d-962a-d1462f3bd2c3\":{\"defs\":[],\"roots\":{\"references\":[{\"attributes\":{\"css_classes\":[\"alert\",\"alert-success\",\"markdown\"],\"margin\":[0,0,25,0],\"name\":\"Alert00391\",\"sizing_mode\":\"stretch_width\",\"text\":\"&lt;p&gt;SUCCESSFULL ASSEMBLY-STATS : assembly-stats -s /home/christine/Documents/These/frangiPANeGIT/frangiPANe_rice/02-assembly_unmapped_reads/assembly_choosing_k/fasta_test/AA_k68_thr300.fasta&lt;/p&gt;\"},\"id\":\"1165\",\"type\":\"panel.models.markup.HTML\"},{\"attributes\":{\"client_comm_id\":\"a40465b2a88f4ab0818959dcaecacff6\",\"comm_id\":\"6968bc68119e4962b99825d41bf03fe7\",\"plot_id\":\"1165\"},\"id\":\"1166\",\"type\":\"panel.models.comm_manager.CommManager\"}],\"root_ids\":[\"1165\",\"1166\"]},\"title\":\"Bokeh Application\",\"version\":\"2.3.3\"}};\n",
       "    var render_items = [{\"docid\":\"d999b1f3-b764-451d-962a-d1462f3bd2c3\",\"root_ids\":[\"1165\"],\"roots\":{\"1165\":\"dc9f960b-53df-4b4b-93f4-7e2ba2f7d160\"}}];\n",
       "    root.Bokeh.embed.embed_items_notebook(docs_json, render_items);\n",
       "  }\n",
       "  if (root.Bokeh !== undefined && root.Bokeh.Panel !== undefined) {\n",
       "    embed_document(root);\n",
       "  } else {\n",
       "    var attempts = 0;\n",
       "    var timer = setInterval(function(root) {\n",
       "      if (root.Bokeh !== undefined && root.Bokeh.Panel !== undefined) {\n",
       "        clearInterval(timer);\n",
       "        embed_document(root);\n",
       "      } else if (document.readyState == \"complete\") {\n",
       "        attempts++;\n",
       "        if (attempts > 100) {\n",
       "          clearInterval(timer);\n",
       "          console.log(\"Bokeh: ERROR: Unable to run BokehJS code because BokehJS library is missing\");\n",
       "        }\n",
       "      }\n",
       "    }, 10, root)\n",
       "  }\n",
       "})(window);</script>"
      ],
      "text/plain": [
       "Alert(str, alert_type='success', css_classes=['alert', 'alert-success']...], margin=(0, 0, 25, 0), sizing_mode='stretch_width')"
      ]
     },
     "metadata": {
      "application/vnd.holoviews_exec.v0+json": {
       "id": "1165"
      }
     },
     "output_type": "display_data"
    },
    {
     "data": {},
     "metadata": {},
     "output_type": "display_data"
    },
    {
     "data": {
      "application/vnd.holoviews_exec.v0+json": "",
      "text/html": [
       "<div id='1167'>\n",
       "\n",
       "\n",
       "\n",
       "\n",
       "\n",
       "  <div class=\"bk-root\" id=\"3ac4a4b3-5dda-496d-ac5b-0f83eb4c9813\" data-root-id=\"1167\"></div>\n",
       "</div>\n",
       "<script type=\"application/javascript\">(function(root) {\n",
       "  function embed_document(root) {\n",
       "    var docs_json = {\"c38605d2-2990-4db4-a069-2d21a82169e6\":{\"defs\":[],\"roots\":{\"references\":[{\"attributes\":{\"css_classes\":[\"alert\",\"alert-success\",\"markdown\"],\"margin\":[0,0,25,0],\"name\":\"Alert00395\",\"sizing_mode\":\"stretch_width\",\"text\":\"&lt;p&gt;SUCCESSFULL ASSEMBLY-STATS : assembly-stats -s /home/christine/Documents/These/frangiPANeGIT/frangiPANe_rice/02-assembly_unmapped_reads/assembly_choosing_k/fasta_test/AB_k68_thr300.fasta&lt;/p&gt;\"},\"id\":\"1167\",\"type\":\"panel.models.markup.HTML\"},{\"attributes\":{\"client_comm_id\":\"052f9bbba5c042019cac7420bf23cc1b\",\"comm_id\":\"028dad09f46c4b11bf8c7a3a814c3fde\",\"plot_id\":\"1167\"},\"id\":\"1168\",\"type\":\"panel.models.comm_manager.CommManager\"}],\"root_ids\":[\"1167\",\"1168\"]},\"title\":\"Bokeh Application\",\"version\":\"2.3.3\"}};\n",
       "    var render_items = [{\"docid\":\"c38605d2-2990-4db4-a069-2d21a82169e6\",\"root_ids\":[\"1167\"],\"roots\":{\"1167\":\"3ac4a4b3-5dda-496d-ac5b-0f83eb4c9813\"}}];\n",
       "    root.Bokeh.embed.embed_items_notebook(docs_json, render_items);\n",
       "  }\n",
       "  if (root.Bokeh !== undefined && root.Bokeh.Panel !== undefined) {\n",
       "    embed_document(root);\n",
       "  } else {\n",
       "    var attempts = 0;\n",
       "    var timer = setInterval(function(root) {\n",
       "      if (root.Bokeh !== undefined && root.Bokeh.Panel !== undefined) {\n",
       "        clearInterval(timer);\n",
       "        embed_document(root);\n",
       "      } else if (document.readyState == \"complete\") {\n",
       "        attempts++;\n",
       "        if (attempts > 100) {\n",
       "          clearInterval(timer);\n",
       "          console.log(\"Bokeh: ERROR: Unable to run BokehJS code because BokehJS library is missing\");\n",
       "        }\n",
       "      }\n",
       "    }, 10, root)\n",
       "  }\n",
       "})(window);</script>"
      ],
      "text/plain": [
       "Alert(str, alert_type='success', css_classes=['alert', 'alert-success']...], margin=(0, 0, 25, 0), sizing_mode='stretch_width')"
      ]
     },
     "metadata": {
      "application/vnd.holoviews_exec.v0+json": {
       "id": "1167"
      }
     },
     "output_type": "display_data"
    }
   ],
   "source": [
    "make_dir(output_assembly_dir + \"assembly_choosing_k/plots/\")\n",
    "\n",
    "stat_len, stats_N_hide, stats_N, stats_L_hide, stats_L, stats_gap, stats = def_stats()\n",
    "create_stats_files(stats=stats,\n",
    "                  output_dir=output_assembly_dir + \"assembly_choosing_k/plots/\")\n",
    "\n",
    "# for k in range(32, 97, 8) : \n",
    "for k in range(kmin, kmax, step.value) :\n",
    "    for id in accession.value :\n",
    "        fill_stats_files(input_dir=output_assembly_dir + \"assembly_choosing_k/fasta_test/\",\n",
    "                id=id,\n",
    "                k=k,\n",
    "                output_dir=output_assembly_dir + \"assembly_choosing_k/plots/\",\n",
    "                threshold=threshold,\n",
    "                logger=logger)"
   ]
  },
  {
   "cell_type": "markdown",
   "metadata": {},
   "source": [
    "How to choose k ?\n",
    "   * total_length : +++\n",
    "   * N50 : +++\n",
    "   * L50 : ---"
   ]
  },
  {
   "cell_type": "markdown",
   "metadata": {},
   "source": [
    "```Definitions ?```"
   ]
  },
  {
   "cell_type": "code",
   "execution_count": 24,
   "metadata": {},
   "outputs": [
    {
     "data": {
      "image/png": "[encoded data removed]",
      "text/plain": [
       "<Figure size 815.75x360 with 2 Axes>"
      ]
     },
     "metadata": {},
     "output_type": "display_data"
    }
   ],
   "source": [
    "stat_len_df = pd.read_csv(output_assembly_dir + \"assembly_choosing_k/plots/assembly-stats-\" + stat_len[0] + \".csv\", sep='\\t')\n",
    "\n",
    "size = sns.relplot(x='k', y='value', hue='stat', data=stat_len_df, col='id', kind=\"line\")\n",
    "size.savefig(output_assembly_dir + \"assembly_choosing_k/plots/stat_len.png\")\n"
   ]
  },
  {
   "cell_type": "code",
   "execution_count": 25,
   "metadata": {},
   "outputs": [
    {
     "data": {
      "image/png": "[encoded data removed]",
      "text/plain": [
       "<Figure size 796.875x360 with 2 Axes>"
      ]
     },
     "metadata": {},
     "output_type": "display_data"
    }
   ],
   "source": [
    "stats_N_files = []\n",
    "for stat in stats_N : \n",
    "    stats_N_files.append(output_assembly_dir + \"assembly_choosing_k/plots/assembly-stats-\" + stat + \".csv\")\n",
    "stats_N_df = pd.concat([pd.read_csv(f, sep='\\t') for f in stats_N_files], ignore_index = True)\n",
    "\n",
    "size = sns.relplot(x='k', y='value', hue='stat', data=stats_N_df, col='id', kind=\"line\")\n",
    "size.savefig(output_assembly_dir + \"assembly_choosing_k/plots/stat_N.png\")\n",
    "\n"
   ]
  },
  {
   "cell_type": "code",
   "execution_count": 26,
   "metadata": {},
   "outputs": [
    {
     "data": {
      "image/png": "[encoded data removed]",
      "text/plain": [
       "<Figure size 794.875x360 with 2 Axes>"
      ]
     },
     "metadata": {},
     "output_type": "display_data"
    }
   ],
   "source": [
    "stats_L_files = []\n",
    "for stat in stats_L : \n",
    "    stats_L_files.append(output_assembly_dir + \"assembly_choosing_k/plots/assembly-stats-\" + stat + \".csv\")\n",
    "stats_L_df = pd.concat([pd.read_csv(f, sep='\\t') for f in stats_L_files], ignore_index = True)\n",
    "\n",
    "size = sns.relplot(x='k', y='value', hue='stat', data=stats_L_df, col='id', kind=\"line\")\n",
    "size.savefig(output_assembly_dir + \"assembly_choosing_k/plots/stat_L.png\")\n",
    "\n"
   ]
  },
  {
   "cell_type": "markdown",
   "metadata": {},
   "source": [
    "```PUT BOX TO SELECT k```"
   ]
  },
  {
   "cell_type": "code",
   "execution_count": 21,
   "metadata": {},
   "outputs": [],
   "source": [
    "k = 64 ### box ?"
   ]
  },
  {
   "cell_type": "markdown",
   "metadata": {},
   "source": [
    "#### Running ABySS for each individual"
   ]
  },
  {
   "cell_type": "code",
   "execution_count": 22,
   "metadata": {
    "scrolled": true,
    "tags": []
   },
   "outputs": [
    {
     "name": "stdout",
     "output_type": "stream",
     "text": [
      "cp: impossible d'évaluer '/home/christine/Documents/These/frangiPANeGIT/frangiPANe_rice/02-assembly_unmapped_reads/assembly_choosing_k/AA_k64/': Aucun fichier ou dossier de ce type\n",
      "cp: impossible d'évaluer '/home/christine/Documents/These/frangiPANeGIT/frangiPANe_rice/02-assembly_unmapped_reads/assembly_choosing_k/AB_k64/': Aucun fichier ou dossier de ce type\n"
     ]
    },
    {
     "ename": "TypeError",
     "evalue": "abyss_pe() missing 1 required positional argument: 'logger'",
     "output_type": "error",
     "traceback": [
      "\u001b[0;31m---------------------------------------------------------------------------\u001b[0m",
      "\u001b[0;31mTypeError\u001b[0m                                 Traceback (most recent call last)",
      "\u001b[0;32m/tmp/ipykernel_74883/482453804.py\u001b[0m in \u001b[0;36m<module>\u001b[0;34m\u001b[0m\n\u001b[1;32m      7\u001b[0m         \u001b[0mget_ipython\u001b[0m\u001b[0;34m(\u001b[0m\u001b[0;34m)\u001b[0m\u001b[0;34m.\u001b[0m\u001b[0msystem\u001b[0m\u001b[0;34m(\u001b[0m\u001b[0;34m'scp -r $id_folder $target_folder'\u001b[0m\u001b[0;34m)\u001b[0m\u001b[0;34m\u001b[0m\u001b[0;34m\u001b[0m\u001b[0m\n\u001b[1;32m      8\u001b[0m     \u001b[0;32melse\u001b[0m \u001b[0;34m:\u001b[0m\u001b[0;34m\u001b[0m\u001b[0;34m\u001b[0m\u001b[0m\n\u001b[0;32m----> 9\u001b[0;31m         abyss_pe(project_name=project_name, \n\u001b[0m\u001b[1;32m     10\u001b[0m                  \u001b[0mid\u001b[0m\u001b[0;34m=\u001b[0m\u001b[0mid\u001b[0m\u001b[0;34m,\u001b[0m\u001b[0;34m\u001b[0m\u001b[0;34m\u001b[0m\u001b[0m\n\u001b[1;32m     11\u001b[0m                  \u001b[0mk\u001b[0m\u001b[0;34m=\u001b[0m\u001b[0mk\u001b[0m\u001b[0;34m,\u001b[0m\u001b[0;34m\u001b[0m\u001b[0;34m\u001b[0m\u001b[0m\n",
      "\u001b[0;31mTypeError\u001b[0m: abyss_pe() missing 1 required positional argument: 'logger'"
     ]
    }
   ],
   "source": [
    "!mkdir $output_assembly_dir\"assembly_all_contigs/\"\n",
    "\n",
    "for id in id_dict :\n",
    "    if id in id_test :\n",
    "        id_folder = output_assembly_dir + \"assembly_choosing_k/\" + id + \"_k\" + str(k) + \"/\"\n",
    "        target_folder = output_assembly_dir + \"assembly_all_contigs/\"\n",
    "        !scp -r $id_folder $target_folder\n",
    "    else : \n",
    "        abyss_pe(project_name=project_name, \n",
    "                 id=id, \n",
    "                 k=k, \n",
    "                 bam_dir=output_assembly_dir + \"bam_F0x2/\", \n",
    "                 output_dir=output_assembly_dir + \"assembly_all_contigs/\") \n",
    "        \n",
    "# rm -r $output_assembly_dir\"assembly_choosing_k/abyss/\""
   ]
  },
  {
   "cell_type": "code",
   "execution_count": null,
   "metadata": {},
   "outputs": [],
   "source": [
    "!mkdir $output_assembly_dir\"assembly_all_contigs/\"\n",
    "\n",
    "for id in id_dict :\n",
    "    abyss_pe(project_name=project_name, \n",
    "                 id=id, \n",
    "                 k=k, \n",
    "                 bam_dir=output_assembly_dir + \"bam_F0x2/\", \n",
    "                 output_dir=output_assembly_dir + \"assembly_all_contigs/\",\n",
    "                logger=logger) \n",
    "        "
   ]
  },
  {
   "cell_type": "markdown",
   "metadata": {},
   "source": [
    "`TODO : PUT TABLE SYNTHESE`\n",
    "\n",
    "[<img src=\"Images/up-arrow.png\" alt=\"Top\" width=2% align=\"right\">](#home \"Go back to the top\")\n",
    "    \n",
    "### <span style=\"color: #919395\"> 4 - Removing contamination<a class=\"anchor\" id=\"contamination\"></a></span>"
   ]
  },
  {
   "cell_type": "markdown",
   "metadata": {},
   "source": [
    "#### __VecScreen__"
   ]
  },
  {
   "cell_type": "markdown",
   "metadata": {},
   "source": [
    "#### __BLASTn__"
   ]
  },
  {
   "cell_type": "markdown",
   "metadata": {},
   "source": [
    "#### __Control of the assembly with long reads (optionnal)__"
   ]
  },
  {
   "cell_type": "markdown",
   "metadata": {},
   "source": [
    "[<img src=\"Images/up-arrow.png\" alt=\"Top\" width=2% align=\"right\">](#home \"Go back to the top\")\n",
    "    \n",
    "### <span style=\"color: #919395\"> 5 - Reducing Sequence Redundancy<a class=\"anchor\" id=\"redundancy\"></a></span>\n",
    "\n",
    "frangiPANe uses CD-HIT to cluster sequences and to reduce sequence redundancy (inter and intra-species).\n",
    "\n",
    "#### __Create clustering directory__"
   ]
  },
  {
   "cell_type": "code",
   "execution_count": 30,
   "metadata": {},
   "outputs": [
    {
     "data": {},
     "metadata": {},
     "output_type": "display_data"
    },
    {
     "data": {
      "application/vnd.holoviews_exec.v0+json": "",
      "text/html": [
       "<div id='1705'>\n",
       "\n",
       "\n",
       "\n",
       "\n",
       "\n",
       "  <div class=\"bk-root\" id=\"22a5f7af-58eb-4655-8791-0c5d7a8e8ef4\" data-root-id=\"1705\"></div>\n",
       "</div>\n",
       "<script type=\"application/javascript\">(function(root) {\n",
       "  function embed_document(root) {\n",
       "    var docs_json = {\"93052ceb-babc-4aae-86eb-cba2b17d009f\":{\"defs\":[{\"extends\":null,\"module\":null,\"name\":\"DataModel\",\"overrides\":[],\"properties\":[]}],\"roots\":{\"references\":[{\"attributes\":{\"css_classes\":[\"alert\",\"alert-success\",\"markdown\"],\"margin\":[0,0,25,0],\"name\":\"Alert01481\",\"sizing_mode\":\"stretch_width\",\"text\":\"&lt;p&gt;Directory /home/christine/Documents/These/Book/yapluka/PANTOUM/frangiPANe_rice3/03-clustering/ created&lt;/p&gt;\"},\"id\":\"1705\",\"type\":\"panel.models.markup.HTML\"},{\"attributes\":{\"client_comm_id\":\"afe87c6c8f964309ab215a9782118c1b\",\"comm_id\":\"8a2ba2fa5a9a48ba8e51d33b0073a594\",\"plot_id\":\"1705\"},\"id\":\"1706\",\"type\":\"panel.models.comm_manager.CommManager\"}],\"root_ids\":[\"1705\",\"1706\"]},\"title\":\"Bokeh Application\",\"version\":\"2.3.0\"}};\n",
       "    var render_items = [{\"docid\":\"93052ceb-babc-4aae-86eb-cba2b17d009f\",\"root_ids\":[\"1705\"],\"roots\":{\"1705\":\"22a5f7af-58eb-4655-8791-0c5d7a8e8ef4\"}}];\n",
       "    root.Bokeh.embed.embed_items_notebook(docs_json, render_items);\n",
       "  }\n",
       "  if (root.Bokeh !== undefined && root.Bokeh.Panel !== undefined) {\n",
       "    embed_document(root);\n",
       "  } else {\n",
       "    var attempts = 0;\n",
       "    var timer = setInterval(function(root) {\n",
       "      if (root.Bokeh !== undefined && root.Bokeh.Panel !== undefined) {\n",
       "        clearInterval(timer);\n",
       "        embed_document(root);\n",
       "      } else if (document.readyState == \"complete\") {\n",
       "        attempts++;\n",
       "        if (attempts > 100) {\n",
       "          clearInterval(timer);\n",
       "          console.log(\"Bokeh: ERROR: Unable to run BokehJS code because BokehJS library is missing\");\n",
       "        }\n",
       "      }\n",
       "    }, 10, root)\n",
       "  }\n",
       "})(window);</script>"
      ],
      "text/plain": [
       "Alert(str, alert_type='success', css_classes=['alert', 'alert-success']...], margin=(0, 0, 25, 0), sizing_mode='stretch_width')"
      ]
     },
     "metadata": {
      "application/vnd.holoviews_exec.v0+json": {
       "id": "1705"
      }
     },
     "output_type": "display_data"
    }
   ],
   "source": [
    "output_clustering_dir = output_dir + \"03-clustering/\"\n",
    "make_dir(output_clustering_dir)"
   ]
  },
  {
   "cell_type": "markdown",
   "metadata": {},
   "source": [
    "#### __Merge all contigs__\n"
   ]
  },
  {
   "cell_type": "code",
   "execution_count": 7,
   "metadata": {},
   "outputs": [],
   "source": [
    "# TODO a remonter et definir dans la partie assemblage\n",
    "#output_assembly_dir = output_dir + \"/02-assembly_unmapped_reads/\"\n",
    "#output_clustering_dir = output_dir + \"03-clustering/\"\n",
    "output_assembly_contigs = output_assembly_dir + \"assembly_all_contigs\""
   ]
  },
  {
   "cell_type": "code",
   "execution_count": 18,
   "metadata": {},
   "outputs": [
    {
     "data": {},
     "metadata": {},
     "output_type": "display_data"
    },
    {
     "data": {
      "application/vnd.holoviews_exec.v0+json": "",
      "text/html": [
       "<div id='1080'>\n",
       "\n",
       "\n",
       "\n",
       "\n",
       "\n",
       "  <div class=\"bk-root\" id=\"6ade18fc-8446-475a-9a9c-8677e5775dc9\" data-root-id=\"1080\"></div>\n",
       "</div>\n",
       "<script type=\"application/javascript\">(function(root) {\n",
       "  function embed_document(root) {\n",
       "    var docs_json = {\"9baf2af7-68a0-45ec-9afa-fd1e53d40aae\":{\"defs\":[{\"extends\":null,\"module\":null,\"name\":\"DataModel\",\"overrides\":[],\"properties\":[]}],\"roots\":{\"references\":[{\"attributes\":{\"css_classes\":[\"alert\",\"alert-secondary\",\"markdown\"],\"margin\":[0,0,25,0],\"name\":\"Alert00237\",\"sizing_mode\":\"stretch_width\",\"text\":\"&lt;p&gt;Copying all contigs from each sample into dir_clustering on progress&amp;hellip;&lt;/p&gt;\"},\"id\":\"1080\",\"type\":\"panel.models.markup.HTML\"},{\"attributes\":{\"client_comm_id\":\"7b75d8a8000546568a7e3f8ac77a1f84\",\"comm_id\":\"3b22b50adcb746ae9285d02bbf87c319\",\"plot_id\":\"1080\"},\"id\":\"1081\",\"type\":\"panel.models.comm_manager.CommManager\"}],\"root_ids\":[\"1080\",\"1081\"]},\"title\":\"Bokeh Application\",\"version\":\"2.3.0\"}};\n",
       "    var render_items = [{\"docid\":\"9baf2af7-68a0-45ec-9afa-fd1e53d40aae\",\"root_ids\":[\"1080\"],\"roots\":{\"1080\":\"6ade18fc-8446-475a-9a9c-8677e5775dc9\"}}];\n",
       "    root.Bokeh.embed.embed_items_notebook(docs_json, render_items);\n",
       "  }\n",
       "  if (root.Bokeh !== undefined && root.Bokeh.Panel !== undefined) {\n",
       "    embed_document(root);\n",
       "  } else {\n",
       "    var attempts = 0;\n",
       "    var timer = setInterval(function(root) {\n",
       "      if (root.Bokeh !== undefined && root.Bokeh.Panel !== undefined) {\n",
       "        clearInterval(timer);\n",
       "        embed_document(root);\n",
       "      } else if (document.readyState == \"complete\") {\n",
       "        attempts++;\n",
       "        if (attempts > 100) {\n",
       "          clearInterval(timer);\n",
       "          console.log(\"Bokeh: ERROR: Unable to run BokehJS code because BokehJS library is missing\");\n",
       "        }\n",
       "      }\n",
       "    }, 10, root)\n",
       "  }\n",
       "})(window);</script>"
      ],
      "text/plain": [
       "Alert(str, alert_type='secondary', css_classes=['alert', 'alert-secondary...], margin=(0, 0, 25, 0), sizing_mode='stretch_width')"
      ]
     },
     "metadata": {
      "application/vnd.holoviews_exec.v0+json": {
       "id": "1080"
      }
     },
     "output_type": "display_data"
    },
    {
     "data": {},
     "metadata": {},
     "output_type": "display_data"
    },
    {
     "data": {
      "application/vnd.holoviews_exec.v0+json": "",
      "text/html": [
       "<div id='1082'>\n",
       "\n",
       "\n",
       "\n",
       "\n",
       "\n",
       "  <div class=\"bk-root\" id=\"9ff79bba-d230-4122-8f47-d2979bf64208\" data-root-id=\"1082\"></div>\n",
       "</div>\n",
       "<script type=\"application/javascript\">(function(root) {\n",
       "  function embed_document(root) {\n",
       "    var docs_json = {\"b117674e-160d-45c2-904b-04f4547a3366\":{\"defs\":[{\"extends\":null,\"module\":null,\"name\":\"DataModel\",\"overrides\":[],\"properties\":[]}],\"roots\":{\"references\":[{\"attributes\":{\"client_comm_id\":\"185a2b8013b1444faa45b0a51cd4e860\",\"comm_id\":\"bf9e1fe22c464d7692e1358ff210b3da\",\"plot_id\":\"1082\"},\"id\":\"1083\",\"type\":\"panel.models.comm_manager.CommManager\"},{\"attributes\":{\"css_classes\":[\"alert\",\"alert-info\",\"markdown\"],\"margin\":[0,0,25,0],\"name\":\"Alert00241\",\"sizing_mode\":\"stretch_width\",\"text\":\"&lt;p&gt;Copying all contigs into dir_clustering done&lt;/p&gt;\"},\"id\":\"1082\",\"type\":\"panel.models.markup.HTML\"}],\"root_ids\":[\"1082\",\"1083\"]},\"title\":\"Bokeh Application\",\"version\":\"2.3.0\"}};\n",
       "    var render_items = [{\"docid\":\"b117674e-160d-45c2-904b-04f4547a3366\",\"root_ids\":[\"1082\"],\"roots\":{\"1082\":\"9ff79bba-d230-4122-8f47-d2979bf64208\"}}];\n",
       "    root.Bokeh.embed.embed_items_notebook(docs_json, render_items);\n",
       "  }\n",
       "  if (root.Bokeh !== undefined && root.Bokeh.Panel !== undefined) {\n",
       "    embed_document(root);\n",
       "  } else {\n",
       "    var attempts = 0;\n",
       "    var timer = setInterval(function(root) {\n",
       "      if (root.Bokeh !== undefined && root.Bokeh.Panel !== undefined) {\n",
       "        clearInterval(timer);\n",
       "        embed_document(root);\n",
       "      } else if (document.readyState == \"complete\") {\n",
       "        attempts++;\n",
       "        if (attempts > 100) {\n",
       "          clearInterval(timer);\n",
       "          console.log(\"Bokeh: ERROR: Unable to run BokehJS code because BokehJS library is missing\");\n",
       "        }\n",
       "      }\n",
       "    }, 10, root)\n",
       "  }\n",
       "})(window);</script>"
      ],
      "text/plain": [
       "Alert(str, alert_type='info', css_classes=['alert', 'alert-info'], margin=(0, 0, 25, 0), sizing_mode='stretch_width')"
      ]
     },
     "metadata": {
      "application/vnd.holoviews_exec.v0+json": {
       "id": "1082"
      }
     },
     "output_type": "display_data"
    }
   ],
   "source": [
    "copy_cluster(output_assembly_contigs,output_clustering_dir)\n",
    "### ADD logger"
   ]
  },
  {
   "cell_type": "code",
   "execution_count": 8,
   "metadata": {},
   "outputs": [
    {
     "data": {},
     "metadata": {},
     "output_type": "display_data"
    },
    {
     "data": {
      "application/vnd.holoviews_exec.v0+json": "",
      "text/html": [
       "<div id='1011'>\n",
       "\n",
       "\n",
       "\n",
       "\n",
       "\n",
       "  <div class=\"bk-root\" id=\"e83a807d-c703-42d5-8cef-2f0516bc4d03\" data-root-id=\"1011\"></div>\n",
       "</div>\n",
       "<script type=\"application/javascript\">(function(root) {\n",
       "  function embed_document(root) {\n",
       "    var docs_json = {\"89c9f83c-5ad0-4cfa-9268-ff2b969a0fc0\":{\"defs\":[{\"extends\":null,\"module\":null,\"name\":\"DataModel\",\"overrides\":[],\"properties\":[]}],\"roots\":{\"references\":[{\"attributes\":{\"css_classes\":[\"alert\",\"alert-secondary\",\"markdown\"],\"margin\":[0,0,25,0],\"name\":\"Alert00116\",\"sizing_mode\":\"stretch_width\",\"text\":\"&lt;p&gt;Merging all contigs from each sample into one file&amp;hellip; on progress&lt;/p&gt;\"},\"id\":\"1011\",\"type\":\"panel.models.markup.HTML\"},{\"attributes\":{\"client_comm_id\":\"9ab85f78b96b4c8fb060510e15a6e512\",\"comm_id\":\"94573ce42f464386939b667812d5624a\",\"plot_id\":\"1011\"},\"id\":\"1012\",\"type\":\"panel.models.comm_manager.CommManager\"}],\"root_ids\":[\"1011\",\"1012\"]},\"title\":\"Bokeh Application\",\"version\":\"2.3.0\"}};\n",
       "    var render_items = [{\"docid\":\"89c9f83c-5ad0-4cfa-9268-ff2b969a0fc0\",\"root_ids\":[\"1011\"],\"roots\":{\"1011\":\"e83a807d-c703-42d5-8cef-2f0516bc4d03\"}}];\n",
       "    root.Bokeh.embed.embed_items_notebook(docs_json, render_items);\n",
       "  }\n",
       "  if (root.Bokeh !== undefined && root.Bokeh.Panel !== undefined) {\n",
       "    embed_document(root);\n",
       "  } else {\n",
       "    var attempts = 0;\n",
       "    var timer = setInterval(function(root) {\n",
       "      if (root.Bokeh !== undefined && root.Bokeh.Panel !== undefined) {\n",
       "        clearInterval(timer);\n",
       "        embed_document(root);\n",
       "      } else if (document.readyState == \"complete\") {\n",
       "        attempts++;\n",
       "        if (attempts > 100) {\n",
       "          clearInterval(timer);\n",
       "          console.log(\"Bokeh: ERROR: Unable to run BokehJS code because BokehJS library is missing\");\n",
       "        }\n",
       "      }\n",
       "    }, 10, root)\n",
       "  }\n",
       "})(window);</script>"
      ],
      "text/plain": [
       "Alert(str, alert_type='secondary', css_classes=['alert', 'alert-secondary...], margin=(0, 0, 25, 0), sizing_mode='stretch_width')"
      ]
     },
     "metadata": {
      "application/vnd.holoviews_exec.v0+json": {
       "id": "1011"
      }
     },
     "output_type": "display_data"
    },
    {
     "data": {},
     "metadata": {},
     "output_type": "display_data"
    },
    {
     "data": {
      "application/vnd.holoviews_exec.v0+json": "",
      "text/html": [
       "<div id='1013'>\n",
       "\n",
       "\n",
       "\n",
       "\n",
       "\n",
       "  <div class=\"bk-root\" id=\"be9c4164-c085-494b-9ee4-9e5f3a3ffa2d\" data-root-id=\"1013\"></div>\n",
       "</div>\n",
       "<script type=\"application/javascript\">(function(root) {\n",
       "  function embed_document(root) {\n",
       "    var docs_json = {\"96951dbd-3c5d-41a1-89cb-5c6fde2082f6\":{\"defs\":[{\"extends\":null,\"module\":null,\"name\":\"DataModel\",\"overrides\":[],\"properties\":[]}],\"roots\":{\"references\":[{\"attributes\":{\"client_comm_id\":\"c9a6583af8c0459697580a3f1295f7d3\",\"comm_id\":\"d0b09de0d8fd42a98ceed360c366d6eb\",\"plot_id\":\"1013\"},\"id\":\"1014\",\"type\":\"panel.models.comm_manager.CommManager\"},{\"attributes\":{\"css_classes\":[\"alert\",\"alert-success\",\"markdown\"],\"margin\":[0,0,25,0],\"name\":\"Alert00120\",\"sizing_mode\":\"stretch_width\",\"text\":\"&lt;p&gt;fasta file succesfully done /home/christine/Documents/These/Book/yapluka/PANTOUM/frangiPANe_rice3/03-clustering/rice3allContigs.fa&lt;/p&gt;\"},\"id\":\"1013\",\"type\":\"panel.models.markup.HTML\"}],\"root_ids\":[\"1013\",\"1014\"]},\"title\":\"Bokeh Application\",\"version\":\"2.3.0\"}};\n",
       "    var render_items = [{\"docid\":\"96951dbd-3c5d-41a1-89cb-5c6fde2082f6\",\"root_ids\":[\"1013\"],\"roots\":{\"1013\":\"be9c4164-c085-494b-9ee4-9e5f3a3ffa2d\"}}];\n",
       "    root.Bokeh.embed.embed_items_notebook(docs_json, render_items);\n",
       "  }\n",
       "  if (root.Bokeh !== undefined && root.Bokeh.Panel !== undefined) {\n",
       "    embed_document(root);\n",
       "  } else {\n",
       "    var attempts = 0;\n",
       "    var timer = setInterval(function(root) {\n",
       "      if (root.Bokeh !== undefined && root.Bokeh.Panel !== undefined) {\n",
       "        clearInterval(timer);\n",
       "        embed_document(root);\n",
       "      } else if (document.readyState == \"complete\") {\n",
       "        attempts++;\n",
       "        if (attempts > 100) {\n",
       "          clearInterval(timer);\n",
       "          console.log(\"Bokeh: ERROR: Unable to run BokehJS code because BokehJS library is missing\");\n",
       "        }\n",
       "      }\n",
       "    }, 10, root)\n",
       "  }\n",
       "})(window);</script>"
      ],
      "text/plain": [
       "Alert(str, alert_type='success', css_classes=['alert', 'alert-success']...], margin=(0, 0, 25, 0), sizing_mode='stretch_width')"
      ]
     },
     "metadata": {
      "application/vnd.holoviews_exec.v0+json": {
       "id": "1013"
      }
     },
     "output_type": "display_data"
    }
   ],
   "source": [
    "merged_contigs = output_clustering_dir+project_name+\"allContigs.fa\"    \n",
    "merging_cluster(output_clustering_dir,merged_contigs)\n",
    "\n",
    "# TODO CD : CHECK NB SEQUENCE OK ET PRINT DANS LE MSG + add logger"
   ]
  },
  {
   "cell_type": "markdown",
   "metadata": {},
   "source": [
    "#### __Run clustering__\n"
   ]
  },
  {
   "cell_type": "code",
   "execution_count": 34,
   "metadata": {},
   "outputs": [
    {
     "data": {},
     "metadata": {},
     "output_type": "display_data"
    },
    {
     "data": {
      "application/vnd.holoviews_exec.v0+json": "",
      "text/html": [
       "<div id='1715'>\n",
       "\n",
       "\n",
       "\n",
       "\n",
       "\n",
       "  <div class=\"bk-root\" id=\"b37cf984-331d-4026-af00-8e46693ea2dc\" data-root-id=\"1715\"></div>\n",
       "</div>\n",
       "<script type=\"application/javascript\">(function(root) {\n",
       "  function embed_document(root) {\n",
       "    var docs_json = {\"4e3c829f-2c1e-4c52-b5a4-af0dfe96403f\":{\"defs\":[{\"extends\":null,\"module\":null,\"name\":\"DataModel\",\"overrides\":[],\"properties\":[]}],\"roots\":{\"references\":[{\"attributes\":{\"client_comm_id\":\"c196040b2a984bac8ef5cb4ce3c77bf2\",\"comm_id\":\"19613d38e4304a7688a02f7422868cce\",\"plot_id\":\"1715\"},\"id\":\"1716\",\"type\":\"panel.models.comm_manager.CommManager\"},{\"attributes\":{\"css_classes\":[\"alert\",\"alert-secondary\",\"markdown\"],\"margin\":[0,0,25,0],\"name\":\"Alert01501\",\"sizing_mode\":\"stretch_width\",\"text\":\"&lt;p&gt;Clustering all contigs with cdhit-est.. on progress&lt;/p&gt;\"},\"id\":\"1715\",\"type\":\"panel.models.markup.HTML\"}],\"root_ids\":[\"1715\",\"1716\"]},\"title\":\"Bokeh Application\",\"version\":\"2.3.0\"}};\n",
       "    var render_items = [{\"docid\":\"4e3c829f-2c1e-4c52-b5a4-af0dfe96403f\",\"root_ids\":[\"1715\"],\"roots\":{\"1715\":\"b37cf984-331d-4026-af00-8e46693ea2dc\"}}];\n",
       "    root.Bokeh.embed.embed_items_notebook(docs_json, render_items);\n",
       "  }\n",
       "  if (root.Bokeh !== undefined && root.Bokeh.Panel !== undefined) {\n",
       "    embed_document(root);\n",
       "  } else {\n",
       "    var attempts = 0;\n",
       "    var timer = setInterval(function(root) {\n",
       "      if (root.Bokeh !== undefined && root.Bokeh.Panel !== undefined) {\n",
       "        clearInterval(timer);\n",
       "        embed_document(root);\n",
       "      } else if (document.readyState == \"complete\") {\n",
       "        attempts++;\n",
       "        if (attempts > 100) {\n",
       "          clearInterval(timer);\n",
       "          console.log(\"Bokeh: ERROR: Unable to run BokehJS code because BokehJS library is missing\");\n",
       "        }\n",
       "      }\n",
       "    }, 10, root)\n",
       "  }\n",
       "})(window);</script>"
      ],
      "text/plain": [
       "Alert(str, alert_type='secondary', css_classes=['alert', 'alert-secondary...], margin=(0, 0, 25, 0), sizing_mode='stretch_width')"
      ]
     },
     "metadata": {
      "application/vnd.holoviews_exec.v0+json": {
       "id": "1715"
      }
     },
     "output_type": "display_data"
    },
    {
     "data": {},
     "metadata": {},
     "output_type": "display_data"
    },
    {
     "data": {
      "application/vnd.holoviews_exec.v0+json": "",
      "text/html": [
       "<div id='1717'>\n",
       "\n",
       "\n",
       "\n",
       "\n",
       "\n",
       "  <div class=\"bk-root\" id=\"15e1a313-28d8-4637-8029-f06c12dd0ed0\" data-root-id=\"1717\"></div>\n",
       "</div>\n",
       "<script type=\"application/javascript\">(function(root) {\n",
       "  function embed_document(root) {\n",
       "    var docs_json = {\"ba4c61ea-02c8-45f3-b9ee-5a5f1691206d\":{\"defs\":[{\"extends\":null,\"module\":null,\"name\":\"DataModel\",\"overrides\":[],\"properties\":[]}],\"roots\":{\"references\":[{\"attributes\":{\"css_classes\":[\"alert\",\"alert-success\",\"markdown\"],\"margin\":[0,0,25,0],\"name\":\"Alert01505\",\"sizing_mode\":\"stretch_width\",\"text\":\"&lt;p&gt;Clustering successfully done !&lt;/p&gt;\"},\"id\":\"1717\",\"type\":\"panel.models.markup.HTML\"},{\"attributes\":{\"client_comm_id\":\"77cb2a5d0da34fb8bf116981a831ac48\",\"comm_id\":\"c4c00a0a67774e56926de6f92920b5f7\",\"plot_id\":\"1717\"},\"id\":\"1718\",\"type\":\"panel.models.comm_manager.CommManager\"}],\"root_ids\":[\"1717\",\"1718\"]},\"title\":\"Bokeh Application\",\"version\":\"2.3.0\"}};\n",
       "    var render_items = [{\"docid\":\"ba4c61ea-02c8-45f3-b9ee-5a5f1691206d\",\"root_ids\":[\"1717\"],\"roots\":{\"1717\":\"15e1a313-28d8-4637-8029-f06c12dd0ed0\"}}];\n",
       "    root.Bokeh.embed.embed_items_notebook(docs_json, render_items);\n",
       "  }\n",
       "  if (root.Bokeh !== undefined && root.Bokeh.Panel !== undefined) {\n",
       "    embed_document(root);\n",
       "  } else {\n",
       "    var attempts = 0;\n",
       "    var timer = setInterval(function(root) {\n",
       "      if (root.Bokeh !== undefined && root.Bokeh.Panel !== undefined) {\n",
       "        clearInterval(timer);\n",
       "        embed_document(root);\n",
       "      } else if (document.readyState == \"complete\") {\n",
       "        attempts++;\n",
       "        if (attempts > 100) {\n",
       "          clearInterval(timer);\n",
       "          console.log(\"Bokeh: ERROR: Unable to run BokehJS code because BokehJS library is missing\");\n",
       "        }\n",
       "      }\n",
       "    }, 10, root)\n",
       "  }\n",
       "})(window);</script>"
      ],
      "text/plain": [
       "Alert(str, alert_type='success', css_classes=['alert', 'alert-success']...], margin=(0, 0, 25, 0), sizing_mode='stretch_width')"
      ]
     },
     "metadata": {
      "application/vnd.holoviews_exec.v0+json": {
       "id": "1717"
      }
     },
     "output_type": "display_data"
    }
   ],
   "source": [
    "cdhit_fasta = output_clustering_dir+project_name+\"clusters.cdhit\"  \n",
    "cdhit(merged_contigs,0.8,0.95, cdhit_fasta, logger)"
   ]
  },
  {
   "cell_type": "markdown",
   "metadata": {},
   "source": [
    "#### __Analyzing cdhit results__"
   ]
  },
  {
   "cell_type": "code",
   "execution_count": 10,
   "metadata": {},
   "outputs": [],
   "source": [
    "cdhit_fasta = output_clustering_dir+project_name+\"clusters.cdhit\"  \n",
    "cdhit_cluster = cdhit_fasta + \".clstr\"\n",
    "cdhit_csv=cdhit_fasta + \".csv\"\n",
    "df_cdhit=parse_cdhit(cdhit_cluster, df_group, cdhit_csv)"
   ]
  },
  {
   "cell_type": "markdown",
   "metadata": {},
   "source": [
    "#### __Dasboard__\n"
   ]
  },
  {
   "cell_type": "code",
   "execution_count": 11,
   "metadata": {},
   "outputs": [
    {
     "data": {},
     "metadata": {},
     "output_type": "display_data"
    },
    {
     "data": {
      "application/vnd.holoviews_exec.v0+json": "",
      "text/html": [
       "<div id='1015'>\n",
       "\n",
       "\n",
       "\n",
       "\n",
       "\n",
       "  <div class=\"bk-root\" id=\"cc6dd142-1a0b-4580-95dd-7341ee7ab7f2\" data-root-id=\"1015\"></div>\n",
       "</div>\n",
       "<script type=\"application/javascript\">(function(root) {\n",
       "  function embed_document(root) {\n",
       "    var docs_json = {\"85317276-44b0-48b7-8ca4-74f43a2e8340\":{\"defs\":[{\"extends\":null,\"module\":null,\"name\":\"DataModel\",\"overrides\":[],\"properties\":[]}],\"roots\":{\"references\":[{\"attributes\":{\"css_classes\":[\"markdown\"],\"margin\":[5,5,5,5],\"name\":\"Markdown00126\",\"text\":\"&lt;h3&gt;6020 clusters&lt;/h3&gt;\\n&lt;ul&gt;\\n&lt;li&gt;min - max length : 64 bp - 25823 bp&lt;/li&gt;\\n&lt;li&gt;mean length : 285&lt;/li&gt;\\n&lt;li&gt;from 2 to  336&lt;/li&gt;\\n&lt;li&gt;with ~ 4 sequences&lt;/li&gt;\\n&lt;/ul&gt;\"},\"id\":\"1019\",\"type\":\"panel.models.markup.HTML\"},{\"attributes\":{\"height\":360,\"margin\":[5,5,5,5],\"name\":\"Matplotlib00137\",\"text\":\"&lt;img src=&quot;data:image/png;base64,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&quot; width=&quot;720px&quot; height=&quot;360px&quot; alt=&quot;&quot;&gt;&lt;/img&gt;\",\"width\":720},\"id\":\"1023\",\"type\":\"panel.models.markup.HTML\"},{\"attributes\":{\"css_classes\":[\"markdown\"],\"margin\":[5,5,5,5],\"name\":\"Markdown00128\",\"text\":\"&lt;h3&gt;32961 singletons&lt;/h3&gt;\\n&lt;ul&gt;\\n&lt;li&gt;min - max length : 64 bp -  23869 bp&lt;/li&gt;\\n&lt;li&gt;mean length : 520 bp&lt;/li&gt;\\n&lt;/ul&gt;\"},\"id\":\"1020\",\"type\":\"panel.models.markup.HTML\"},{\"attributes\":{\"client_comm_id\":\"8e50aa23ee68498580a553db5b864a7a\",\"comm_id\":\"9abdcb543897439f89661c261ffc508b\",\"plot_id\":\"1015\"},\"id\":\"1024\",\"type\":\"panel.models.comm_manager.CommManager\"},{\"attributes\":{\"height\":360,\"margin\":[5,5,5,5],\"name\":\"Matplotlib00133\",\"text\":\"&lt;img src=&quot;data:image/png;base64,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&quot; width=&quot;720px&quot; height=&quot;360px&quot; alt=&quot;&quot;&gt;&lt;/img&gt;\",\"width\":720},\"id\":\"1021\",\"type\":\"panel.models.markup.HTML\"},{\"attributes\":{\"css_classes\":[\"markdown\"],\"margin\":[5,5,5,5],\"name\":\"Markdown00124\",\"text\":\"&lt;h3&gt;38981 sequences&lt;/h3&gt;\\n&lt;ul&gt;\\n&lt;li&gt;min -  max length : 64 bp - 25823 bp&lt;/li&gt;\\n&lt;li&gt;mean length : 484 bp&lt;/li&gt;\\n&lt;/ul&gt;\"},\"id\":\"1017\",\"type\":\"panel.models.markup.HTML\"},{\"attributes\":{\"background\":\"WhiteSmoke\",\"children\":[{\"id\":\"1016\"},{\"id\":\"1017\"},{\"id\":\"1018\"},{\"id\":\"1021\"},{\"id\":\"1022\"},{\"id\":\"1023\"}],\"margin\":[0,0,0,0],\"name\":\"Column00139\",\"sizing_mode\":\"stretch_both\",\"width\":800},\"id\":\"1015\",\"type\":\"Column\"},{\"attributes\":{\"height\":360,\"margin\":[5,5,5,5],\"name\":\"Matplotlib00135\",\"text\":\"&lt;img src=&quot;data:image/png;base64,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&quot; width=&quot;720px&quot; height=&quot;360px&quot; alt=&quot;&quot;&gt;&lt;/img&gt;\",\"width\":720},\"id\":\"1022\",\"type\":\"panel.models.markup.HTML\"},{\"attributes\":{\"css_classes\":[\"markdown\"],\"margin\":[5,5,5,5],\"name\":\"Markdown00131\",\"text\":\"&lt;h1&gt;Some statistics about clustering step&lt;/h1&gt;\"},\"id\":\"1016\",\"type\":\"panel.models.markup.HTML\"},{\"attributes\":{\"children\":[{\"id\":\"1019\"},{\"id\":\"1020\"}],\"margin\":[0,0,0,0],\"name\":\"Row00130\"},\"id\":\"1018\",\"type\":\"Row\"}],\"root_ids\":[\"1015\",\"1024\"]},\"title\":\"Bokeh Application\",\"version\":\"2.3.0\"}};\n",
       "    var render_items = [{\"docid\":\"85317276-44b0-48b7-8ca4-74f43a2e8340\",\"root_ids\":[\"1015\"],\"roots\":{\"1015\":\"cc6dd142-1a0b-4580-95dd-7341ee7ab7f2\"}}];\n",
       "    root.Bokeh.embed.embed_items_notebook(docs_json, render_items);\n",
       "  }\n",
       "  if (root.Bokeh !== undefined && root.Bokeh.Panel !== undefined) {\n",
       "    embed_document(root);\n",
       "  } else {\n",
       "    var attempts = 0;\n",
       "    var timer = setInterval(function(root) {\n",
       "      if (root.Bokeh !== undefined && root.Bokeh.Panel !== undefined) {\n",
       "        clearInterval(timer);\n",
       "        embed_document(root);\n",
       "      } else if (document.readyState == \"complete\") {\n",
       "        attempts++;\n",
       "        if (attempts > 100) {\n",
       "          clearInterval(timer);\n",
       "          console.log(\"Bokeh: ERROR: Unable to run BokehJS code because BokehJS library is missing\");\n",
       "        }\n",
       "      }\n",
       "    }, 10, root)\n",
       "  }\n",
       "})(window);</script>"
      ],
      "text/plain": [
       "Column(background='WhiteSmoke', sizing_mode='stretch_both', width=800)\n",
       "    [0] Markdown(str)\n",
       "    [1] Markdown(str)\n",
       "    [2] Row\n",
       "        [0] Markdown(str)\n",
       "        [1] Markdown(str)\n",
       "    [3] Matplotlib(Figure)\n",
       "    [4] Matplotlib(Figure)\n",
       "    [5] Matplotlib(Figure)"
      ]
     },
     "metadata": {
      "application/vnd.holoviews_exec.v0+json": {
       "id": "1015"
      }
     },
     "output_type": "display_data"
    }
   ],
   "source": [
    "dashboard_cdhit(df_cdhit)"
   ]
  },
  {
   "cell_type": "markdown",
   "metadata": {},
   "source": [
    "[<img src=\"Images/up-arrow.png\" alt=\"Top\" width=2% align=\"right\">](#home \"Go back to the top\")\n",
    "    \n",
    "### <span style=\"color: #919395\"> 6 - Anchoring Clusters on Reference Genome<a class=\"anchor\" id=\"anchoring\"></a></span>\n",
    "\n",
    "#### __Generating panreference__\n",
    "\n",
    "#### __Mapping against panreference__\n",
    "\n",
    "#### __Anchoring contigs on reference genome__\n",
    "\n",
    "#### __Panreference dashboard__\n",
    "\n",
    "---\n"
   ]
  }
 ],
 "metadata": {
  "hide_input": false,
  "kernelspec": {
   "display_name": "Python 3 (ipykernel)",
   "language": "python",
   "name": "python3"
  },
  "language_info": {
   "codemirror_mode": {
    "name": "ipython",
    "version": 3
   },
   "file_extension": ".py",
   "mimetype": "text/x-python",
   "name": "python",
   "nbconvert_exporter": "python",
   "pygments_lexer": "ipython3",
   "version": "3.8.5"
  }
 },
 "nbformat": 4,
 "nbformat_minor": 4
}
