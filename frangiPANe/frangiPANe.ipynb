{
 "cells": [
  {
   "cell_type": "markdown",
   "metadata": {},
   "source": [
    "<a class=\"anchor\" id=\"home\"><img src=\"Images/frangiPANe.png\" width=50% align=right></a>"
   ]
  },
  {
   "cell_type": "markdown",
   "metadata": {},
   "source": [
    "***\n",
    "\n",
    "# <span style=\"color: #3987C4;\">Table of contents</span>\n",
    "<a class=\"anchor\" id=\"home\"></a>\n",
    "\n",
    "[I - What is frangiPANe?](#whatabout)\n",
    "\n",
    "* [Map-then-assembly approach](#approach)\n",
    "* [Requirements](#requirements)\n",
    "* [Data test](#datatest)\n",
    "* [License](#license)\n",
    "    \n",
    "[II - Preparing frangiPANe analysis](#howtoconfigure)\n",
    "* [Import python packages used by frangiPANe](#importpackages)\n",
    "* [Definition of input data used by frangiPANe workflow](#configinput)\n",
    "* [Creating frangiPANe output directory](#outputdir)\n",
    "* [Creating log file](#logfile)\n",
    "* [Preparing Genome Reference for next analysis](#reference)\n",
    "* [Analyzing Group File](#group)\n",
    "    \n",
    "[III - Workflow](#workflow)\n",
    "* [1 - Stats about raw data](#rawdata)\n",
    "* [2 - Mapping the individuals reads against the reference genome](#mapping)\n",
    "* [3 - Assembly of the individuals' reads that do not map (properly paired) on the reference genome](#assembly)\n",
    "* [4 - Removing Contamination](#contamination)\n",
    "* [5 - Reducing Sequence Redundancy](#redundancy)\n",
    "* [6 - Anchoring Clusters on reference genome](#anchoring)\n",
    "\n",
    "***\n",
    "\n",
    "[<img src=\"Images/up-arrow.png\" alt=\"Top\" width=2% align=\"right\">](#home \"Go back to the top\")\n",
    "\n",
    "# <span style=\"color: #3987C4;\"> I - What is frangiPANe ?  <a class=\"anchor\" id=\"whatabout\"></a></span>\n",
    "\n",
    "This tool allows the generation of a linear panreference, from paired-end short-reads and a reference genome using a Map-Then-Assembly approach.\n",
    "\n",
    "<img src=\"Images/frangiPANe_overview.jpg\" width=70%>\n",
    "\n",
    "### <span style=\"color: #919395\"> _Map-then-assembly approach_ <a class=\"anchor\" id=\"approach\"></a></span>\n",
    "\n",
    "<img src=\"Images/approachMapThenAssembly.jpg\" width=80%>\n",
    "\n",
    "### <span style=\"color: #919395\"> _Data test_ <a class=\"anchor\" id=\"datatest\"></a></span>\n",
    "\n",
    "<details>\n",
    "\n",
    "\n",
    "#### __Rice__ \n",
    "\n",
    "##### _Illumina sequenced dataset_\n",
    "\n",
    "3 African Rice whole-genome sequences (Cubry and al., 2018) were used (paired-end illumina, 2x101bp, ~35X) :\n",
    "\n",
    "* AA, _O. barthii_ (African Rice wild)\n",
    "* AB, _O. barthii_ (African Rice wild)\n",
    "* DT, _O. glaberrima_ (African Rice cultivated)\n",
    "\n",
    "><sub><sup>Cubry P, Tranchant-Dubreuil C, Thuillet AC, Monat C, Ndjiondjop MN, Labadie K, Cruaud C, Engelen S, Scarcelli N, Rhoné B, Burgarella C, Dupuy C, Larmande P, Wincker P, François O, Sabot F, Vigouroux Y. The Rise and Fall of African Rice Cultivation Revealed by Analysis of 246 New Genomes. Curr Biol. 2018 Jul 23;28(14):2274-2282.e6. doi: 10.1016/j.cub.2018.05.066. Epub 2018 Jul 5. PMID: 29983312.</sub></sup>\n",
    "\n",
    "##### _Genome Reference_\n",
    "\n",
    "_Oryza glaberrima_ (OMAPv2 sequence, ref)\n",
    "\n",
    "</details>\n",
    "\n",
    "### <span style=\"color: #919395\">_Requirements_ <a class=\"anchor\" id=\"requirements\"></a></span>\n",
    "\n",
    "<details>\n",
    "\n",
    "* python version\n",
    "\n",
    "* Python modules used\n",
    "    * os, io, subprocess\n",
    "    * Ipython\n",
    "    * ipywidgets\n",
    "    * trailets\n",
    "    * tkinter\n",
    "    * numpy, pandas\n",
    "    * matplotlib\n",
    "    * seaborn\n",
    "    * panel\n",
    "    \n",
    "* Bioinformatics software (version)\n",
    "    * ea-utils (fastq-stats [doc] (https://expressionanalysis.github.io/ea-utils/)] : Command-line tools for processing biological sequencing data. \n",
    "    * BWA [[doc](http://bio-bwa.sourceforge.net/bwa.shtml), [github](https://github.com/lh3/bwa)] : software package for mapping DNA sequences against a large reference genome\n",
    "    * Samtools [[doc](http://www.htslib.org/doc/samtools.html)] : suite of programs for interacting with high-throughput sequencing data : http://www.htslib.org/download/\n",
    "    * ABySS [[github](https://github.com/bcgsc/abyss)] : de novo sequence assembler intended for short paired-end reads and large genomes\n",
    "    * assembly-stats [[github](https://github.com/sanger-pathogens/assembly-stats)] \n",
    "    * cd_hit [[github](https://github.com/weizhongli/cdhit/blob/master/doc/cdhit-user-guide.wiki)]\n",
    "\n",
    "</details>\n",
    "\n",
    "### <span style=\"color: #919395\">_License_ <a class=\"anchor\" id=\"license\"></a></span>\n",
    "\n",
    "* Licencied under CeCill-C (http://www.cecill.info/licences/Licence_CeCILL-C_V1-en.html) and GPLv3\n",
    "* Intellectual property belongs to IRD, ... and SouthGreen development platform\n",
    "* Written by Clothilde Chenal and Christine Tranchant-Dubreuil\n",
    "* Copyright 2021"
   ]
  },
  {
   "cell_type": "markdown",
   "metadata": {},
   "source": [
    "***\n",
    "\n",
    "[<img src=\"Images/up-arrow.png\" alt=\"Top\" width=2% align=\"right\">](#home \"Go back to the top\")\n",
    "\n",
    "# <span style=\"color: #3987C4;\">II - Preparing frangiPANe analysis <a class=\"anchor\" id=\"howtoconfigure\"></a></span>\n",
    "\n",
    "### <span style=\"color: #919395\"> _Import python packages used by frangiPANe_ </span>"
   ]
  },
  {
   "cell_type": "code",
   "execution_count": 1,
   "metadata": {},
   "outputs": [
    {
     "data": {
      "application/javascript": [
       "\n",
       "(function(root) {\n",
       "  function now() {\n",
       "    return new Date();\n",
       "  }\n",
       "\n",
       "  var force = true;\n",
       "\n",
       "  if (typeof root._bokeh_onload_callbacks === \"undefined\" || force === true) {\n",
       "    root._bokeh_onload_callbacks = [];\n",
       "    root._bokeh_is_loading = undefined;\n",
       "  }\n",
       "\n",
       "  if (typeof (root._bokeh_timeout) === \"undefined\" || force === true) {\n",
       "    root._bokeh_timeout = Date.now() + 5000;\n",
       "    root._bokeh_failed_load = false;\n",
       "  }\n",
       "\n",
       "  function run_callbacks() {\n",
       "    try {\n",
       "      root._bokeh_onload_callbacks.forEach(function(callback) {\n",
       "        if (callback != null)\n",
       "          callback();\n",
       "      });\n",
       "    } finally {\n",
       "      delete root._bokeh_onload_callbacks\n",
       "    }\n",
       "    console.debug(\"Bokeh: all callbacks have finished\");\n",
       "  }\n",
       "\n",
       "  function load_libs(css_urls, js_urls, js_modules, callback) {\n",
       "    if (css_urls == null) css_urls = [];\n",
       "    if (js_urls == null) js_urls = [];\n",
       "    if (js_modules == null) js_modules = [];\n",
       "\n",
       "    root._bokeh_onload_callbacks.push(callback);\n",
       "    if (root._bokeh_is_loading > 0) {\n",
       "      console.debug(\"Bokeh: BokehJS is being loaded, scheduling callback at\", now());\n",
       "      return null;\n",
       "    }\n",
       "    if (js_urls.length === 0 && js_modules.length === 0) {\n",
       "      run_callbacks();\n",
       "      return null;\n",
       "    }\n",
       "    console.debug(\"Bokeh: BokehJS not loaded, scheduling load and callback at\", now());\n",
       "    root._bokeh_is_loading = css_urls.length + js_urls.length + js_modules.length;\n",
       "\n",
       "    function on_load() {\n",
       "      root._bokeh_is_loading--;\n",
       "      if (root._bokeh_is_loading === 0) {\n",
       "        console.debug(\"Bokeh: all BokehJS libraries/stylesheets loaded\");\n",
       "        run_callbacks()\n",
       "      }\n",
       "    }\n",
       "\n",
       "    function on_error() {\n",
       "      console.error(\"failed to load \" + url);\n",
       "    }\n",
       "\n",
       "    for (var i = 0; i < css_urls.length; i++) {\n",
       "      var url = css_urls[i];\n",
       "      const element = document.createElement(\"link\");\n",
       "      element.onload = on_load;\n",
       "      element.onerror = on_error;\n",
       "      element.rel = \"stylesheet\";\n",
       "      element.type = \"text/css\";\n",
       "      element.href = url;\n",
       "      console.debug(\"Bokeh: injecting link tag for BokehJS stylesheet: \", url);\n",
       "      document.body.appendChild(element);\n",
       "    }\n",
       "\n",
       "    var skip = [];\n",
       "    if (window.requirejs) {\n",
       "      window.requirejs.config({'packages': {}, 'paths': {}, 'shim': {}});\n",
       "      \n",
       "    }\n",
       "    for (var i = 0; i < js_urls.length; i++) {\n",
       "      var url = js_urls[i];\n",
       "      if (skip.indexOf(url) >= 0) { on_load(); continue; }\n",
       "      var element = document.createElement('script');\n",
       "      element.onload = on_load;\n",
       "      element.onerror = on_error;\n",
       "      element.async = false;\n",
       "      element.src = url;\n",
       "      console.debug(\"Bokeh: injecting script tag for BokehJS library: \", url);\n",
       "      document.head.appendChild(element);\n",
       "    }\n",
       "    for (var i = 0; i < js_modules.length; i++) {\n",
       "      var url = js_modules[i];\n",
       "      if (skip.indexOf(url) >= 0) { on_load(); continue; }\n",
       "      var element = document.createElement('script');\n",
       "      element.onload = on_load;\n",
       "      element.onerror = on_error;\n",
       "      element.async = false;\n",
       "      element.src = url;\n",
       "      element.type = \"module\";\n",
       "      console.debug(\"Bokeh: injecting script tag for BokehJS library: \", url);\n",
       "      document.head.appendChild(element);\n",
       "    }\n",
       "    if (!js_urls.length && !js_modules.length) {\n",
       "      on_load()\n",
       "    }\n",
       "  };\n",
       "\n",
       "  function inject_raw_css(css) {\n",
       "    const element = document.createElement(\"style\");\n",
       "    element.appendChild(document.createTextNode(css));\n",
       "    document.body.appendChild(element);\n",
       "  }\n",
       "\n",
       "  var js_urls = [\"https://cdn.bokeh.org/bokeh/release/bokeh-2.4.0.min.js\", \"https://cdn.bokeh.org/bokeh/release/bokeh-gl-2.4.0.min.js\", \"https://cdn.bokeh.org/bokeh/release/bokeh-widgets-2.4.0.min.js\", \"https://cdn.bokeh.org/bokeh/release/bokeh-tables-2.4.0.min.js\", \"https://cdn.bokeh.org/bokeh/release/bokeh-mathjax-2.4.0.min.js\", \"https://unpkg.com/@holoviz/panel@0.12.4/dist/panel.min.js\"];\n",
       "  var js_modules = [];\n",
       "  var css_urls = [\"https://unpkg.com/@holoviz/panel@0.12.4/dist/css/dataframe.css\", \"https://unpkg.com/@holoviz/panel@0.12.4/dist/css/loading.css\", \"https://unpkg.com/@holoviz/panel@0.12.4/dist/css/alerts.css\", \"https://unpkg.com/@holoviz/panel@0.12.4/dist/css/widgets.css\", \"https://unpkg.com/@holoviz/panel@0.12.4/dist/css/markdown.css\", \"https://unpkg.com/@holoviz/panel@0.12.4/dist/css/card.css\", \"https://unpkg.com/@holoviz/panel@0.12.4/dist/css/json.css\"];\n",
       "  var inline_js = [\n",
       "    function(Bokeh) {\n",
       "      inject_raw_css(\"\\n    .bk.pn-loading.arcs:before {\\n      background-image: url(\\\"data:image/svg+xml;base64,PHN2ZyB4bWxucz0iaHR0cDovL3d3dy53My5vcmcvMjAwMC9zdmciIHhtbG5zOnhsaW5rPSJodHRwOi8vd3d3LnczLm9yZy8xOTk5L3hsaW5rIiBzdHlsZT0ibWFyZ2luOiBhdXRvOyBiYWNrZ3JvdW5kOiBub25lOyBkaXNwbGF5OiBibG9jazsgc2hhcGUtcmVuZGVyaW5nOiBhdXRvOyIgdmlld0JveD0iMCAwIDEwMCAxMDAiIHByZXNlcnZlQXNwZWN0UmF0aW89InhNaWRZTWlkIj4gIDxjaXJjbGUgY3g9IjUwIiBjeT0iNTAiIHI9IjMyIiBzdHJva2Utd2lkdGg9IjgiIHN0cm9rZT0iI2MzYzNjMyIgc3Ryb2tlLWRhc2hhcnJheT0iNTAuMjY1NDgyNDU3NDM2NjkgNTAuMjY1NDgyNDU3NDM2NjkiIGZpbGw9Im5vbmUiIHN0cm9rZS1saW5lY2FwPSJyb3VuZCI+ICAgIDxhbmltYXRlVHJhbnNmb3JtIGF0dHJpYnV0ZU5hbWU9InRyYW5zZm9ybSIgdHlwZT0icm90YXRlIiByZXBlYXRDb3VudD0iaW5kZWZpbml0ZSIgZHVyPSIxcyIga2V5VGltZXM9IjA7MSIgdmFsdWVzPSIwIDUwIDUwOzM2MCA1MCA1MCI+PC9hbmltYXRlVHJhbnNmb3JtPiAgPC9jaXJjbGU+PC9zdmc+\\\")\\n    }\\n    \");\n",
       "    },\n",
       "    function(Bokeh) {\n",
       "      Bokeh.set_log_level(\"info\");\n",
       "    },\n",
       "    function(Bokeh) {} // ensure no trailing comma for IE\n",
       "  ];\n",
       "\n",
       "  function run_inline_js() {\n",
       "    if ((root.Bokeh !== undefined) || (force === true)) {\n",
       "      for (var i = 0; i < inline_js.length; i++) {\n",
       "        inline_js[i].call(root, root.Bokeh);\n",
       "      }} else if (Date.now() < root._bokeh_timeout) {\n",
       "      setTimeout(run_inline_js, 100);\n",
       "    } else if (!root._bokeh_failed_load) {\n",
       "      console.log(\"Bokeh: BokehJS failed to load within specified timeout.\");\n",
       "      root._bokeh_failed_load = true;\n",
       "    }\n",
       "  }\n",
       "\n",
       "  if (root._bokeh_is_loading === 0) {\n",
       "    console.debug(\"Bokeh: BokehJS loaded, going straight to plotting\");\n",
       "    run_inline_js();\n",
       "  } else {\n",
       "    load_libs(css_urls, js_urls, js_modules, function() {\n",
       "      console.debug(\"Bokeh: BokehJS plotting callback run at\", now());\n",
       "      run_inline_js();\n",
       "    });\n",
       "  }\n",
       "}(window));"
      ],
      "application/vnd.holoviews_load.v0+json": "\n(function(root) {\n  function now() {\n    return new Date();\n  }\n\n  var force = true;\n\n  if (typeof root._bokeh_onload_callbacks === \"undefined\" || force === true) {\n    root._bokeh_onload_callbacks = [];\n    root._bokeh_is_loading = undefined;\n  }\n\n  if (typeof (root._bokeh_timeout) === \"undefined\" || force === true) {\n    root._bokeh_timeout = Date.now() + 5000;\n    root._bokeh_failed_load = false;\n  }\n\n  function run_callbacks() {\n    try {\n      root._bokeh_onload_callbacks.forEach(function(callback) {\n        if (callback != null)\n          callback();\n      });\n    } finally {\n      delete root._bokeh_onload_callbacks\n    }\n    console.debug(\"Bokeh: all callbacks have finished\");\n  }\n\n  function load_libs(css_urls, js_urls, js_modules, callback) {\n    if (css_urls == null) css_urls = [];\n    if (js_urls == null) js_urls = [];\n    if (js_modules == null) js_modules = [];\n\n    root._bokeh_onload_callbacks.push(callback);\n    if (root._bokeh_is_loading > 0) {\n      console.debug(\"Bokeh: BokehJS is being loaded, scheduling callback at\", now());\n      return null;\n    }\n    if (js_urls.length === 0 && js_modules.length === 0) {\n      run_callbacks();\n      return null;\n    }\n    console.debug(\"Bokeh: BokehJS not loaded, scheduling load and callback at\", now());\n    root._bokeh_is_loading = css_urls.length + js_urls.length + js_modules.length;\n\n    function on_load() {\n      root._bokeh_is_loading--;\n      if (root._bokeh_is_loading === 0) {\n        console.debug(\"Bokeh: all BokehJS libraries/stylesheets loaded\");\n        run_callbacks()\n      }\n    }\n\n    function on_error() {\n      console.error(\"failed to load \" + url);\n    }\n\n    for (var i = 0; i < css_urls.length; i++) {\n      var url = css_urls[i];\n      const element = document.createElement(\"link\");\n      element.onload = on_load;\n      element.onerror = on_error;\n      element.rel = \"stylesheet\";\n      element.type = \"text/css\";\n      element.href = url;\n      console.debug(\"Bokeh: injecting link tag for BokehJS stylesheet: \", url);\n      document.body.appendChild(element);\n    }\n\n    var skip = [];\n    if (window.requirejs) {\n      window.requirejs.config({'packages': {}, 'paths': {}, 'shim': {}});\n      \n    }\n    for (var i = 0; i < js_urls.length; i++) {\n      var url = js_urls[i];\n      if (skip.indexOf(url) >= 0) { on_load(); continue; }\n      var element = document.createElement('script');\n      element.onload = on_load;\n      element.onerror = on_error;\n      element.async = false;\n      element.src = url;\n      console.debug(\"Bokeh: injecting script tag for BokehJS library: \", url);\n      document.head.appendChild(element);\n    }\n    for (var i = 0; i < js_modules.length; i++) {\n      var url = js_modules[i];\n      if (skip.indexOf(url) >= 0) { on_load(); continue; }\n      var element = document.createElement('script');\n      element.onload = on_load;\n      element.onerror = on_error;\n      element.async = false;\n      element.src = url;\n      element.type = \"module\";\n      console.debug(\"Bokeh: injecting script tag for BokehJS library: \", url);\n      document.head.appendChild(element);\n    }\n    if (!js_urls.length && !js_modules.length) {\n      on_load()\n    }\n  };\n\n  function inject_raw_css(css) {\n    const element = document.createElement(\"style\");\n    element.appendChild(document.createTextNode(css));\n    document.body.appendChild(element);\n  }\n\n  var js_urls = [\"https://cdn.bokeh.org/bokeh/release/bokeh-2.4.0.min.js\", \"https://cdn.bokeh.org/bokeh/release/bokeh-gl-2.4.0.min.js\", \"https://cdn.bokeh.org/bokeh/release/bokeh-widgets-2.4.0.min.js\", \"https://cdn.bokeh.org/bokeh/release/bokeh-tables-2.4.0.min.js\", \"https://cdn.bokeh.org/bokeh/release/bokeh-mathjax-2.4.0.min.js\", \"https://unpkg.com/@holoviz/panel@0.12.4/dist/panel.min.js\"];\n  var js_modules = [];\n  var css_urls = [\"https://unpkg.com/@holoviz/panel@0.12.4/dist/css/dataframe.css\", \"https://unpkg.com/@holoviz/panel@0.12.4/dist/css/loading.css\", \"https://unpkg.com/@holoviz/panel@0.12.4/dist/css/alerts.css\", \"https://unpkg.com/@holoviz/panel@0.12.4/dist/css/widgets.css\", \"https://unpkg.com/@holoviz/panel@0.12.4/dist/css/markdown.css\", \"https://unpkg.com/@holoviz/panel@0.12.4/dist/css/card.css\", \"https://unpkg.com/@holoviz/panel@0.12.4/dist/css/json.css\"];\n  var inline_js = [\n    function(Bokeh) {\n      inject_raw_css(\"\\n    .bk.pn-loading.arcs:before {\\n      background-image: url(\\\"data:image/svg+xml;base64,PHN2ZyB4bWxucz0iaHR0cDovL3d3dy53My5vcmcvMjAwMC9zdmciIHhtbG5zOnhsaW5rPSJodHRwOi8vd3d3LnczLm9yZy8xOTk5L3hsaW5rIiBzdHlsZT0ibWFyZ2luOiBhdXRvOyBiYWNrZ3JvdW5kOiBub25lOyBkaXNwbGF5OiBibG9jazsgc2hhcGUtcmVuZGVyaW5nOiBhdXRvOyIgdmlld0JveD0iMCAwIDEwMCAxMDAiIHByZXNlcnZlQXNwZWN0UmF0aW89InhNaWRZTWlkIj4gIDxjaXJjbGUgY3g9IjUwIiBjeT0iNTAiIHI9IjMyIiBzdHJva2Utd2lkdGg9IjgiIHN0cm9rZT0iI2MzYzNjMyIgc3Ryb2tlLWRhc2hhcnJheT0iNTAuMjY1NDgyNDU3NDM2NjkgNTAuMjY1NDgyNDU3NDM2NjkiIGZpbGw9Im5vbmUiIHN0cm9rZS1saW5lY2FwPSJyb3VuZCI+ICAgIDxhbmltYXRlVHJhbnNmb3JtIGF0dHJpYnV0ZU5hbWU9InRyYW5zZm9ybSIgdHlwZT0icm90YXRlIiByZXBlYXRDb3VudD0iaW5kZWZpbml0ZSIgZHVyPSIxcyIga2V5VGltZXM9IjA7MSIgdmFsdWVzPSIwIDUwIDUwOzM2MCA1MCA1MCI+PC9hbmltYXRlVHJhbnNmb3JtPiAgPC9jaXJjbGU+PC9zdmc+\\\")\\n    }\\n    \");\n    },\n    function(Bokeh) {\n      Bokeh.set_log_level(\"info\");\n    },\n    function(Bokeh) {} // ensure no trailing comma for IE\n  ];\n\n  function run_inline_js() {\n    if ((root.Bokeh !== undefined) || (force === true)) {\n      for (var i = 0; i < inline_js.length; i++) {\n        inline_js[i].call(root, root.Bokeh);\n      }} else if (Date.now() < root._bokeh_timeout) {\n      setTimeout(run_inline_js, 100);\n    } else if (!root._bokeh_failed_load) {\n      console.log(\"Bokeh: BokehJS failed to load within specified timeout.\");\n      root._bokeh_failed_load = true;\n    }\n  }\n\n  if (root._bokeh_is_loading === 0) {\n    console.debug(\"Bokeh: BokehJS loaded, going straight to plotting\");\n    run_inline_js();\n  } else {\n    load_libs(css_urls, js_urls, js_modules, function() {\n      console.debug(\"Bokeh: BokehJS plotting callback run at\", now());\n      run_inline_js();\n    });\n  }\n}(window));"
     },
     "metadata": {},
     "output_type": "display_data"
    },
    {
     "data": {
      "application/javascript": [
       "\n",
       "if ((window.PyViz === undefined) || (window.PyViz instanceof HTMLElement)) {\n",
       "  window.PyViz = {comms: {}, comm_status:{}, kernels:{}, receivers: {}, plot_index: []}\n",
       "}\n",
       "\n",
       "\n",
       "    function JupyterCommManager() {\n",
       "    }\n",
       "\n",
       "    JupyterCommManager.prototype.register_target = function(plot_id, comm_id, msg_handler) {\n",
       "      if (window.comm_manager || ((window.Jupyter !== undefined) && (Jupyter.notebook.kernel != null))) {\n",
       "        var comm_manager = window.comm_manager || Jupyter.notebook.kernel.comm_manager;\n",
       "        comm_manager.register_target(comm_id, function(comm) {\n",
       "          comm.on_msg(msg_handler);\n",
       "        });\n",
       "      } else if ((plot_id in window.PyViz.kernels) && (window.PyViz.kernels[plot_id])) {\n",
       "        window.PyViz.kernels[plot_id].registerCommTarget(comm_id, function(comm) {\n",
       "          comm.onMsg = msg_handler;\n",
       "        });\n",
       "      } else if (typeof google != 'undefined' && google.colab.kernel != null) {\n",
       "        google.colab.kernel.comms.registerTarget(comm_id, (comm) => {\n",
       "          var messages = comm.messages[Symbol.asyncIterator]();\n",
       "          function processIteratorResult(result) {\n",
       "            var message = result.value;\n",
       "            console.log(message)\n",
       "            var content = {data: message.data, comm_id};\n",
       "            var buffers = []\n",
       "            for (var buffer of message.buffers || []) {\n",
       "              buffers.push(new DataView(buffer))\n",
       "            }\n",
       "            var metadata = message.metadata || {};\n",
       "            var msg = {content, buffers, metadata}\n",
       "            msg_handler(msg);\n",
       "            return messages.next().then(processIteratorResult);\n",
       "          }\n",
       "          return messages.next().then(processIteratorResult);\n",
       "        })\n",
       "      }\n",
       "    }\n",
       "\n",
       "    JupyterCommManager.prototype.get_client_comm = function(plot_id, comm_id, msg_handler) {\n",
       "      if (comm_id in window.PyViz.comms) {\n",
       "        return window.PyViz.comms[comm_id];\n",
       "      } else if (window.comm_manager || ((window.Jupyter !== undefined) && (Jupyter.notebook.kernel != null))) {\n",
       "        var comm_manager = window.comm_manager || Jupyter.notebook.kernel.comm_manager;\n",
       "        var comm = comm_manager.new_comm(comm_id, {}, {}, {}, comm_id);\n",
       "        if (msg_handler) {\n",
       "          comm.on_msg(msg_handler);\n",
       "        }\n",
       "      } else if ((plot_id in window.PyViz.kernels) && (window.PyViz.kernels[plot_id])) {\n",
       "        var comm = window.PyViz.kernels[plot_id].connectToComm(comm_id);\n",
       "        comm.open();\n",
       "        if (msg_handler) {\n",
       "          comm.onMsg = msg_handler;\n",
       "        }\n",
       "      } else if (typeof google != 'undefined' && google.colab.kernel != null) {\n",
       "        var comm_promise = google.colab.kernel.comms.open(comm_id)\n",
       "        comm_promise.then((comm) => {\n",
       "          window.PyViz.comms[comm_id] = comm;\n",
       "          if (msg_handler) {\n",
       "            var messages = comm.messages[Symbol.asyncIterator]();\n",
       "            function processIteratorResult(result) {\n",
       "              var message = result.value;\n",
       "              var content = {data: message.data};\n",
       "              var metadata = message.metadata || {comm_id};\n",
       "              var msg = {content, metadata}\n",
       "              msg_handler(msg);\n",
       "              return messages.next().then(processIteratorResult);\n",
       "            }\n",
       "            return messages.next().then(processIteratorResult);\n",
       "          }\n",
       "        }) \n",
       "        var sendClosure = (data, metadata, buffers, disposeOnDone) => {\n",
       "          return comm_promise.then((comm) => {\n",
       "            comm.send(data, metadata, buffers, disposeOnDone);\n",
       "          });\n",
       "        };\n",
       "        var comm = {\n",
       "          send: sendClosure\n",
       "        };\n",
       "      }\n",
       "      window.PyViz.comms[comm_id] = comm;\n",
       "      return comm;\n",
       "    }\n",
       "    window.PyViz.comm_manager = new JupyterCommManager();\n",
       "    \n",
       "\n",
       "\n",
       "var JS_MIME_TYPE = 'application/javascript';\n",
       "var HTML_MIME_TYPE = 'text/html';\n",
       "var EXEC_MIME_TYPE = 'application/vnd.holoviews_exec.v0+json';\n",
       "var CLASS_NAME = 'output';\n",
       "\n",
       "/**\n",
       " * Render data to the DOM node\n",
       " */\n",
       "function render(props, node) {\n",
       "  var div = document.createElement(\"div\");\n",
       "  var script = document.createElement(\"script\");\n",
       "  node.appendChild(div);\n",
       "  node.appendChild(script);\n",
       "}\n",
       "\n",
       "/**\n",
       " * Handle when a new output is added\n",
       " */\n",
       "function handle_add_output(event, handle) {\n",
       "  var output_area = handle.output_area;\n",
       "  var output = handle.output;\n",
       "  if ((output.data == undefined) || (!output.data.hasOwnProperty(EXEC_MIME_TYPE))) {\n",
       "    return\n",
       "  }\n",
       "  var id = output.metadata[EXEC_MIME_TYPE][\"id\"];\n",
       "  var toinsert = output_area.element.find(\".\" + CLASS_NAME.split(' ')[0]);\n",
       "  if (id !== undefined) {\n",
       "    var nchildren = toinsert.length;\n",
       "    var html_node = toinsert[nchildren-1].children[0];\n",
       "    html_node.innerHTML = output.data[HTML_MIME_TYPE];\n",
       "    var scripts = [];\n",
       "    var nodelist = html_node.querySelectorAll(\"script\");\n",
       "    for (var i in nodelist) {\n",
       "      if (nodelist.hasOwnProperty(i)) {\n",
       "        scripts.push(nodelist[i])\n",
       "      }\n",
       "    }\n",
       "\n",
       "    scripts.forEach( function (oldScript) {\n",
       "      var newScript = document.createElement(\"script\");\n",
       "      var attrs = [];\n",
       "      var nodemap = oldScript.attributes;\n",
       "      for (var j in nodemap) {\n",
       "        if (nodemap.hasOwnProperty(j)) {\n",
       "          attrs.push(nodemap[j])\n",
       "        }\n",
       "      }\n",
       "      attrs.forEach(function(attr) { newScript.setAttribute(attr.name, attr.value) });\n",
       "      newScript.appendChild(document.createTextNode(oldScript.innerHTML));\n",
       "      oldScript.parentNode.replaceChild(newScript, oldScript);\n",
       "    });\n",
       "    if (JS_MIME_TYPE in output.data) {\n",
       "      toinsert[nchildren-1].children[1].textContent = output.data[JS_MIME_TYPE];\n",
       "    }\n",
       "    output_area._hv_plot_id = id;\n",
       "    if ((window.Bokeh !== undefined) && (id in Bokeh.index)) {\n",
       "      window.PyViz.plot_index[id] = Bokeh.index[id];\n",
       "    } else {\n",
       "      window.PyViz.plot_index[id] = null;\n",
       "    }\n",
       "  } else if (output.metadata[EXEC_MIME_TYPE][\"server_id\"] !== undefined) {\n",
       "    var bk_div = document.createElement(\"div\");\n",
       "    bk_div.innerHTML = output.data[HTML_MIME_TYPE];\n",
       "    var script_attrs = bk_div.children[0].attributes;\n",
       "    for (var i = 0; i < script_attrs.length; i++) {\n",
       "      toinsert[toinsert.length - 1].childNodes[1].setAttribute(script_attrs[i].name, script_attrs[i].value);\n",
       "    }\n",
       "    // store reference to server id on output_area\n",
       "    output_area._bokeh_server_id = output.metadata[EXEC_MIME_TYPE][\"server_id\"];\n",
       "  }\n",
       "}\n",
       "\n",
       "/**\n",
       " * Handle when an output is cleared or removed\n",
       " */\n",
       "function handle_clear_output(event, handle) {\n",
       "  var id = handle.cell.output_area._hv_plot_id;\n",
       "  var server_id = handle.cell.output_area._bokeh_server_id;\n",
       "  if (((id === undefined) || !(id in PyViz.plot_index)) && (server_id !== undefined)) { return; }\n",
       "  var comm = window.PyViz.comm_manager.get_client_comm(\"hv-extension-comm\", \"hv-extension-comm\", function () {});\n",
       "  if (server_id !== null) {\n",
       "    comm.send({event_type: 'server_delete', 'id': server_id});\n",
       "    return;\n",
       "  } else if (comm !== null) {\n",
       "    comm.send({event_type: 'delete', 'id': id});\n",
       "  }\n",
       "  delete PyViz.plot_index[id];\n",
       "  if ((window.Bokeh !== undefined) & (id in window.Bokeh.index)) {\n",
       "    var doc = window.Bokeh.index[id].model.document\n",
       "    doc.clear();\n",
       "    const i = window.Bokeh.documents.indexOf(doc);\n",
       "    if (i > -1) {\n",
       "      window.Bokeh.documents.splice(i, 1);\n",
       "    }\n",
       "  }\n",
       "}\n",
       "\n",
       "/**\n",
       " * Handle kernel restart event\n",
       " */\n",
       "function handle_kernel_cleanup(event, handle) {\n",
       "  delete PyViz.comms[\"hv-extension-comm\"];\n",
       "  window.PyViz.plot_index = {}\n",
       "}\n",
       "\n",
       "/**\n",
       " * Handle update_display_data messages\n",
       " */\n",
       "function handle_update_output(event, handle) {\n",
       "  handle_clear_output(event, {cell: {output_area: handle.output_area}})\n",
       "  handle_add_output(event, handle)\n",
       "}\n",
       "\n",
       "function register_renderer(events, OutputArea) {\n",
       "  function append_mime(data, metadata, element) {\n",
       "    // create a DOM node to render to\n",
       "    var toinsert = this.create_output_subarea(\n",
       "    metadata,\n",
       "    CLASS_NAME,\n",
       "    EXEC_MIME_TYPE\n",
       "    );\n",
       "    this.keyboard_manager.register_events(toinsert);\n",
       "    // Render to node\n",
       "    var props = {data: data, metadata: metadata[EXEC_MIME_TYPE]};\n",
       "    render(props, toinsert[0]);\n",
       "    element.append(toinsert);\n",
       "    return toinsert\n",
       "  }\n",
       "\n",
       "  events.on('output_added.OutputArea', handle_add_output);\n",
       "  events.on('output_updated.OutputArea', handle_update_output);\n",
       "  events.on('clear_output.CodeCell', handle_clear_output);\n",
       "  events.on('delete.Cell', handle_clear_output);\n",
       "  events.on('kernel_ready.Kernel', handle_kernel_cleanup);\n",
       "\n",
       "  OutputArea.prototype.register_mime_type(EXEC_MIME_TYPE, append_mime, {\n",
       "    safe: true,\n",
       "    index: 0\n",
       "  });\n",
       "}\n",
       "\n",
       "if (window.Jupyter !== undefined) {\n",
       "  try {\n",
       "    var events = require('base/js/events');\n",
       "    var OutputArea = require('notebook/js/outputarea').OutputArea;\n",
       "    if (OutputArea.prototype.mime_types().indexOf(EXEC_MIME_TYPE) == -1) {\n",
       "      register_renderer(events, OutputArea);\n",
       "    }\n",
       "  } catch(err) {\n",
       "  }\n",
       "}\n"
      ],
      "application/vnd.holoviews_load.v0+json": "\nif ((window.PyViz === undefined) || (window.PyViz instanceof HTMLElement)) {\n  window.PyViz = {comms: {}, comm_status:{}, kernels:{}, receivers: {}, plot_index: []}\n}\n\n\n    function JupyterCommManager() {\n    }\n\n    JupyterCommManager.prototype.register_target = function(plot_id, comm_id, msg_handler) {\n      if (window.comm_manager || ((window.Jupyter !== undefined) && (Jupyter.notebook.kernel != null))) {\n        var comm_manager = window.comm_manager || Jupyter.notebook.kernel.comm_manager;\n        comm_manager.register_target(comm_id, function(comm) {\n          comm.on_msg(msg_handler);\n        });\n      } else if ((plot_id in window.PyViz.kernels) && (window.PyViz.kernels[plot_id])) {\n        window.PyViz.kernels[plot_id].registerCommTarget(comm_id, function(comm) {\n          comm.onMsg = msg_handler;\n        });\n      } else if (typeof google != 'undefined' && google.colab.kernel != null) {\n        google.colab.kernel.comms.registerTarget(comm_id, (comm) => {\n          var messages = comm.messages[Symbol.asyncIterator]();\n          function processIteratorResult(result) {\n            var message = result.value;\n            console.log(message)\n            var content = {data: message.data, comm_id};\n            var buffers = []\n            for (var buffer of message.buffers || []) {\n              buffers.push(new DataView(buffer))\n            }\n            var metadata = message.metadata || {};\n            var msg = {content, buffers, metadata}\n            msg_handler(msg);\n            return messages.next().then(processIteratorResult);\n          }\n          return messages.next().then(processIteratorResult);\n        })\n      }\n    }\n\n    JupyterCommManager.prototype.get_client_comm = function(plot_id, comm_id, msg_handler) {\n      if (comm_id in window.PyViz.comms) {\n        return window.PyViz.comms[comm_id];\n      } else if (window.comm_manager || ((window.Jupyter !== undefined) && (Jupyter.notebook.kernel != null))) {\n        var comm_manager = window.comm_manager || Jupyter.notebook.kernel.comm_manager;\n        var comm = comm_manager.new_comm(comm_id, {}, {}, {}, comm_id);\n        if (msg_handler) {\n          comm.on_msg(msg_handler);\n        }\n      } else if ((plot_id in window.PyViz.kernels) && (window.PyViz.kernels[plot_id])) {\n        var comm = window.PyViz.kernels[plot_id].connectToComm(comm_id);\n        comm.open();\n        if (msg_handler) {\n          comm.onMsg = msg_handler;\n        }\n      } else if (typeof google != 'undefined' && google.colab.kernel != null) {\n        var comm_promise = google.colab.kernel.comms.open(comm_id)\n        comm_promise.then((comm) => {\n          window.PyViz.comms[comm_id] = comm;\n          if (msg_handler) {\n            var messages = comm.messages[Symbol.asyncIterator]();\n            function processIteratorResult(result) {\n              var message = result.value;\n              var content = {data: message.data};\n              var metadata = message.metadata || {comm_id};\n              var msg = {content, metadata}\n              msg_handler(msg);\n              return messages.next().then(processIteratorResult);\n            }\n            return messages.next().then(processIteratorResult);\n          }\n        }) \n        var sendClosure = (data, metadata, buffers, disposeOnDone) => {\n          return comm_promise.then((comm) => {\n            comm.send(data, metadata, buffers, disposeOnDone);\n          });\n        };\n        var comm = {\n          send: sendClosure\n        };\n      }\n      window.PyViz.comms[comm_id] = comm;\n      return comm;\n    }\n    window.PyViz.comm_manager = new JupyterCommManager();\n    \n\n\nvar JS_MIME_TYPE = 'application/javascript';\nvar HTML_MIME_TYPE = 'text/html';\nvar EXEC_MIME_TYPE = 'application/vnd.holoviews_exec.v0+json';\nvar CLASS_NAME = 'output';\n\n/**\n * Render data to the DOM node\n */\nfunction render(props, node) {\n  var div = document.createElement(\"div\");\n  var script = document.createElement(\"script\");\n  node.appendChild(div);\n  node.appendChild(script);\n}\n\n/**\n * Handle when a new output is added\n */\nfunction handle_add_output(event, handle) {\n  var output_area = handle.output_area;\n  var output = handle.output;\n  if ((output.data == undefined) || (!output.data.hasOwnProperty(EXEC_MIME_TYPE))) {\n    return\n  }\n  var id = output.metadata[EXEC_MIME_TYPE][\"id\"];\n  var toinsert = output_area.element.find(\".\" + CLASS_NAME.split(' ')[0]);\n  if (id !== undefined) {\n    var nchildren = toinsert.length;\n    var html_node = toinsert[nchildren-1].children[0];\n    html_node.innerHTML = output.data[HTML_MIME_TYPE];\n    var scripts = [];\n    var nodelist = html_node.querySelectorAll(\"script\");\n    for (var i in nodelist) {\n      if (nodelist.hasOwnProperty(i)) {\n        scripts.push(nodelist[i])\n      }\n    }\n\n    scripts.forEach( function (oldScript) {\n      var newScript = document.createElement(\"script\");\n      var attrs = [];\n      var nodemap = oldScript.attributes;\n      for (var j in nodemap) {\n        if (nodemap.hasOwnProperty(j)) {\n          attrs.push(nodemap[j])\n        }\n      }\n      attrs.forEach(function(attr) { newScript.setAttribute(attr.name, attr.value) });\n      newScript.appendChild(document.createTextNode(oldScript.innerHTML));\n      oldScript.parentNode.replaceChild(newScript, oldScript);\n    });\n    if (JS_MIME_TYPE in output.data) {\n      toinsert[nchildren-1].children[1].textContent = output.data[JS_MIME_TYPE];\n    }\n    output_area._hv_plot_id = id;\n    if ((window.Bokeh !== undefined) && (id in Bokeh.index)) {\n      window.PyViz.plot_index[id] = Bokeh.index[id];\n    } else {\n      window.PyViz.plot_index[id] = null;\n    }\n  } else if (output.metadata[EXEC_MIME_TYPE][\"server_id\"] !== undefined) {\n    var bk_div = document.createElement(\"div\");\n    bk_div.innerHTML = output.data[HTML_MIME_TYPE];\n    var script_attrs = bk_div.children[0].attributes;\n    for (var i = 0; i < script_attrs.length; i++) {\n      toinsert[toinsert.length - 1].childNodes[1].setAttribute(script_attrs[i].name, script_attrs[i].value);\n    }\n    // store reference to server id on output_area\n    output_area._bokeh_server_id = output.metadata[EXEC_MIME_TYPE][\"server_id\"];\n  }\n}\n\n/**\n * Handle when an output is cleared or removed\n */\nfunction handle_clear_output(event, handle) {\n  var id = handle.cell.output_area._hv_plot_id;\n  var server_id = handle.cell.output_area._bokeh_server_id;\n  if (((id === undefined) || !(id in PyViz.plot_index)) && (server_id !== undefined)) { return; }\n  var comm = window.PyViz.comm_manager.get_client_comm(\"hv-extension-comm\", \"hv-extension-comm\", function () {});\n  if (server_id !== null) {\n    comm.send({event_type: 'server_delete', 'id': server_id});\n    return;\n  } else if (comm !== null) {\n    comm.send({event_type: 'delete', 'id': id});\n  }\n  delete PyViz.plot_index[id];\n  if ((window.Bokeh !== undefined) & (id in window.Bokeh.index)) {\n    var doc = window.Bokeh.index[id].model.document\n    doc.clear();\n    const i = window.Bokeh.documents.indexOf(doc);\n    if (i > -1) {\n      window.Bokeh.documents.splice(i, 1);\n    }\n  }\n}\n\n/**\n * Handle kernel restart event\n */\nfunction handle_kernel_cleanup(event, handle) {\n  delete PyViz.comms[\"hv-extension-comm\"];\n  window.PyViz.plot_index = {}\n}\n\n/**\n * Handle update_display_data messages\n */\nfunction handle_update_output(event, handle) {\n  handle_clear_output(event, {cell: {output_area: handle.output_area}})\n  handle_add_output(event, handle)\n}\n\nfunction register_renderer(events, OutputArea) {\n  function append_mime(data, metadata, element) {\n    // create a DOM node to render to\n    var toinsert = this.create_output_subarea(\n    metadata,\n    CLASS_NAME,\n    EXEC_MIME_TYPE\n    );\n    this.keyboard_manager.register_events(toinsert);\n    // Render to node\n    var props = {data: data, metadata: metadata[EXEC_MIME_TYPE]};\n    render(props, toinsert[0]);\n    element.append(toinsert);\n    return toinsert\n  }\n\n  events.on('output_added.OutputArea', handle_add_output);\n  events.on('output_updated.OutputArea', handle_update_output);\n  events.on('clear_output.CodeCell', handle_clear_output);\n  events.on('delete.Cell', handle_clear_output);\n  events.on('kernel_ready.Kernel', handle_kernel_cleanup);\n\n  OutputArea.prototype.register_mime_type(EXEC_MIME_TYPE, append_mime, {\n    safe: true,\n    index: 0\n  });\n}\n\nif (window.Jupyter !== undefined) {\n  try {\n    var events = require('base/js/events');\n    var OutputArea = require('notebook/js/outputarea').OutputArea;\n    if (OutputArea.prototype.mime_types().indexOf(EXEC_MIME_TYPE) == -1) {\n      register_renderer(events, OutputArea);\n    }\n  } catch(err) {\n  }\n}\n"
     },
     "metadata": {},
     "output_type": "display_data"
    },
    {
     "data": {},
     "metadata": {},
     "output_type": "display_data"
    },
    {
     "data": {
      "application/vnd.holoviews_exec.v0+json": "",
      "text/html": [
       "<div id='1002'>\n",
       "\n",
       "\n",
       "\n",
       "\n",
       "\n",
       "  <div class=\"bk-root\" id=\"0099d239-4ed5-4630-9cfd-a046181868d4\" data-root-id=\"1002\"></div>\n",
       "</div>\n",
       "<script type=\"application/javascript\">(function(root) {\n",
       "  function embed_document(root) {\n",
       "    var docs_json = {\"67055b84-1fa6-427a-b24a-6dd5f09605bd\":{\"defs\":[{\"extends\":null,\"module\":null,\"name\":\"ReactiveHTML1\",\"overrides\":[],\"properties\":[]},{\"extends\":null,\"module\":null,\"name\":\"FlexBox1\",\"overrides\":[],\"properties\":[{\"default\":\"flex-start\",\"kind\":null,\"name\":\"align_content\"},{\"default\":\"flex-start\",\"kind\":null,\"name\":\"align_items\"},{\"default\":\"row\",\"kind\":null,\"name\":\"flex_direction\"},{\"default\":\"wrap\",\"kind\":null,\"name\":\"flex_wrap\"},{\"default\":\"flex-start\",\"kind\":null,\"name\":\"justify_content\"}]},{\"extends\":null,\"module\":null,\"name\":\"TemplateActions1\",\"overrides\":[],\"properties\":[{\"default\":0,\"kind\":null,\"name\":\"open_modal\"},{\"default\":0,\"kind\":null,\"name\":\"close_modal\"}]},{\"extends\":null,\"module\":null,\"name\":\"MaterialTemplateActions1\",\"overrides\":[],\"properties\":[{\"default\":0,\"kind\":null,\"name\":\"open_modal\"},{\"default\":0,\"kind\":null,\"name\":\"close_modal\"}]}],\"roots\":{\"references\":[{\"attributes\":{\"css_classes\":[\"alert\",\"alert-success\",\"markdown\"],\"margin\":[0,0,25,0],\"name\":\"Alert00101\",\"sizing_mode\":\"stretch_width\",\"text\":\"&lt;p&gt;Import all python packages required successfully&lt;/p&gt;\"},\"id\":\"1002\",\"type\":\"panel.models.markup.HTML\"},{\"attributes\":{\"client_comm_id\":\"dab271553c64496e8f07044f10650e0d\",\"comm_id\":\"c1498a3353be4dcbab0c196eb1101170\",\"plot_id\":\"1002\"},\"id\":\"1003\",\"type\":\"panel.models.comm_manager.CommManager\"},{\"attributes\":{\"reload\":false},\"id\":\"1004\",\"type\":\"panel.models.location.Location\"}],\"root_ids\":[\"1002\",\"1003\",\"1004\"]},\"title\":\"Bokeh Application\",\"version\":\"2.4.0\"}};\n",
       "    var render_items = [{\"docid\":\"67055b84-1fa6-427a-b24a-6dd5f09605bd\",\"root_ids\":[\"1002\"],\"roots\":{\"1002\":\"0099d239-4ed5-4630-9cfd-a046181868d4\"}}];\n",
       "    root.Bokeh.embed.embed_items_notebook(docs_json, render_items);\n",
       "  }\n",
       "  if (root.Bokeh !== undefined && root.Bokeh.Panel !== undefined) {\n",
       "    embed_document(root);\n",
       "  } else {\n",
       "    var attempts = 0;\n",
       "    var timer = setInterval(function(root) {\n",
       "      if (root.Bokeh !== undefined && root.Bokeh.Panel !== undefined) {\n",
       "        clearInterval(timer);\n",
       "        embed_document(root);\n",
       "      } else if (document.readyState == \"complete\") {\n",
       "        attempts++;\n",
       "        if (attempts > 200) {\n",
       "          clearInterval(timer);\n",
       "          console.log(\"Bokeh: ERROR: Unable to run BokehJS code because BokehJS library is missing\");\n",
       "        }\n",
       "      }\n",
       "    }, 25, root)\n",
       "  }\n",
       "})(window);</script>"
      ],
      "text/plain": [
       "Alert(str, alert_type='success', css_classes=['alert', 'alert-success']...], margin=(0, 0, 25, 0), sizing_mode='stretch_width')"
      ]
     },
     "metadata": {
      "application/vnd.holoviews_exec.v0+json": {
       "id": "1002"
      }
     },
     "output_type": "display_data"
    }
   ],
   "source": [
    "from tools.jupyter import dashboard_group\n",
    "from tools.jupyter import *\n",
    "from tools.frangiPANe import *\n",
    "\n",
    "import panel as pn\n",
    "pn.extension()\n",
    "\n",
    "add_css()\n",
    "\n",
    "text = \"Import all python packages required successfully\"\n",
    "display_alert(text,\"success\")"
   ]
  },
  {
   "cell_type": "markdown",
   "metadata": {},
   "source": [
    "### <span style=\"color: #919395\"> _Definition of input data used by frangiPANe workflow_  <a class=\"anchor\" id=\"configinput\"></a></span>\n",
    "\n",
    "<details>\n",
    "\n",
    "* __Project Name__ : the directory name that will contain all the results generated by this analysis\n",
    "* __Output Directory__ : the parent directory that will contain the __project_name__ directory\n",
    "* __Fastq Directory__ : the directory that contains .fastq files of all the individuals\n",
    "* __Reference File__ : the reference genome used to map all reads (fastq files). The reference genome have to be provided in a fasta format. The reference genome must be indexed by BWA for subsequent analyzes. The **REF**.amb, **REF**.ann, **REF**.bwt, **REF**.pac and **REF**.sa files are created.)\n",
    "* __Group File__ :  (It is common for several individuals to have different origins when building a pangenome. To exploit this diversity in the results, PANtoum needs a tabulated file (separator = tabulation, no header); the first column corresponds to the name of the individuals (should correspond to .fastq files) and the second to the group they belong. NB : It is possible to use only one group.)\n",
    "\n",
    "ex of samples with 2 groups : wild or cultivated\n",
    "    \n",
    "| sample  | group  |\n",
    "|---|---|\n",
    "| AA | wild | \n",
    "| AB  | wild | \n",
    "| CB  | cultivated |\n",
    "\n",
    "</details>\n",
    "\n",
    "Run the following cell and fill the parameters box"
   ]
  },
  {
   "cell_type": "code",
   "execution_count": 2,
   "metadata": {},
   "outputs": [
    {
     "data": {
      "text/html": [
       "<script>\n",
       "    code_show=true; \n",
       "    function code_toggle() {\n",
       "        if (code_show){\n",
       "            $('div.cell.code_cell.rendered.selected div.input').hide();\n",
       "        } else {\n",
       "            $('div.cell.code_cell.rendered.selected div.input').show();\n",
       "        }\n",
       "        code_show = !code_show\n",
       "    } \n",
       "\n",
       "    $( document ).ready(code_toggle);\n",
       "    </script>\n",
       "\n",
       "    <a href=\"javascript:code_toggle()\">[raw code]</a>"
      ],
      "text/plain": [
       "<IPython.core.display.HTML object>"
      ]
     },
     "metadata": {},
     "output_type": "display_data"
    },
    {
     "data": {
      "application/vnd.jupyter.widget-view+json": {
       "model_id": "ea1bca390e5748dd889314ff8adf4e86",
       "version_major": 2,
       "version_minor": 0
      },
      "text/plain": [
       "Tab(children=(VBox(children=(HTML(value=\"<b><center><FONT face = 'WildWest' color='#255E7A'>INPUT & OUTPUT DAT…"
      ]
     },
     "metadata": {},
     "output_type": "display_data"
    }
   ],
   "source": [
    "hide_cell()\n",
    "project_namew, out_dirw, reference_genomew, group_filew, fastq_dirw, cpu= box_config()"
   ]
  },
  {
   "cell_type": "code",
   "execution_count": 2,
   "metadata": {},
   "outputs": [
    {
     "ename": "NameError",
     "evalue": "name 'out_dirw' is not defined",
     "output_type": "error",
     "traceback": [
      "\u001b[0;31m---------------------------------------------------------------------------\u001b[0m",
      "\u001b[0;31mNameError\u001b[0m                                 Traceback (most recent call last)",
      "\u001b[0;32m/tmp/ipykernel_65/147636850.py\u001b[0m in \u001b[0;36m<module>\u001b[0;34m\u001b[0m\n\u001b[1;32m      1\u001b[0m \u001b[0;31m#if hasattr(out_dirw, 'dir') and hasattr(project_namew,'value'):\u001b[0m\u001b[0;34m\u001b[0m\u001b[0;34m\u001b[0m\u001b[0m\n\u001b[0;32m----> 2\u001b[0;31m \u001b[0mhost_dir\u001b[0m \u001b[0;34m=\u001b[0m \u001b[0mout_dirw\u001b[0m\u001b[0;34m.\u001b[0m\u001b[0mdir\u001b[0m\u001b[0;34m\u001b[0m\u001b[0;34m\u001b[0m\u001b[0m\n\u001b[0m\u001b[1;32m      3\u001b[0m \u001b[0mproject_name\u001b[0m \u001b[0;34m=\u001b[0m \u001b[0mproject_namew\u001b[0m\u001b[0;34m.\u001b[0m\u001b[0mvalue\u001b[0m\u001b[0;34m\u001b[0m\u001b[0;34m\u001b[0m\u001b[0m\n\u001b[1;32m      4\u001b[0m \u001b[0moutput_dir\u001b[0m \u001b[0;34m=\u001b[0m \u001b[0mhost_dir\u001b[0m \u001b[0;34m+\u001b[0m \u001b[0;34m\"/frangiPANe_\"\u001b[0m \u001b[0;34m+\u001b[0m \u001b[0mproject_name\u001b[0m\u001b[0;34m\u001b[0m\u001b[0;34m\u001b[0m\u001b[0m\n\u001b[1;32m      5\u001b[0m \u001b[0;34m\u001b[0m\u001b[0m\n",
      "\u001b[0;31mNameError\u001b[0m: name 'out_dirw' is not defined"
     ]
    }
   ],
   "source": [
    "#if hasattr(out_dirw, 'dir') and hasattr(project_namew,'value'):\n",
    "host_dir = out_dirw.dir\n",
    "project_name = project_namew.value\n",
    "output_dir = host_dir + \"/frangiPANe_\" + project_name\n",
    "    \n",
    "#elif hasattr(reference_genomew, 'file'):\n",
    "reference_genome = reference_genomew.file\n",
    "    \n",
    "#elif hasattr(fastq_dirw, 'dir'):\n",
    "fastq_dir = fastq_dirw.dir\n",
    "    \n",
    "#elif hasattr(group_filew, 'file'):\n",
    "group_file = group_filew.file\n",
    "                                        \n",
    "#elif hasattr(cpu,'value'):\n",
    "cpu = cpu.value\n",
    "    \n",
    "#else:\n",
    "#text=f\"Output directory don't set !!!!\"\"\"\n",
    "#pn.pane.Alert(text, alert_type=\"danger\")\n",
    "\n",
    "\n",
    "text = f\"\"\"\n",
    "### All fields successfully filled \n",
    "\n",
    "<hr>\n",
    "\n",
    "* PROJECT NAME : {project_name}\n",
    "* HOST DIR : {host_dir}\n",
    "* OUTPUT DIR : {output_dir}\n",
    "* REFERENCE GENOME : {reference_genome}\n",
    "* FASTQ DIR : {fastq_dir}\n",
    "* GROUP FILE : {group_file}\n",
    "* CPU : {cpu}\n",
    "\"\"\"\n",
    "\n",
    "display_alert(text,\"success\")\n"
   ]
  },
  {
   "cell_type": "code",
   "execution_count": 3,
   "metadata": {},
   "outputs": [
    {
     "data": {},
     "metadata": {},
     "output_type": "display_data"
    },
    {
     "data": {
      "application/vnd.holoviews_exec.v0+json": "",
      "text/html": [
       "<div id='1005'>\n",
       "\n",
       "\n",
       "\n",
       "\n",
       "\n",
       "  <div class=\"bk-root\" id=\"2bf14767-8bd6-43f8-ade6-d8675099cc7e\" data-root-id=\"1005\"></div>\n",
       "</div>\n",
       "<script type=\"application/javascript\">(function(root) {\n",
       "  function embed_document(root) {\n",
       "    var docs_json = {\"bf7852f2-64a1-4e21-8190-12035128ac37\":{\"defs\":[{\"extends\":null,\"module\":null,\"name\":\"ReactiveHTML1\",\"overrides\":[],\"properties\":[]},{\"extends\":null,\"module\":null,\"name\":\"FlexBox1\",\"overrides\":[],\"properties\":[{\"default\":\"flex-start\",\"kind\":null,\"name\":\"align_content\"},{\"default\":\"flex-start\",\"kind\":null,\"name\":\"align_items\"},{\"default\":\"row\",\"kind\":null,\"name\":\"flex_direction\"},{\"default\":\"wrap\",\"kind\":null,\"name\":\"flex_wrap\"},{\"default\":\"flex-start\",\"kind\":null,\"name\":\"justify_content\"}]},{\"extends\":null,\"module\":null,\"name\":\"TemplateActions1\",\"overrides\":[],\"properties\":[{\"default\":0,\"kind\":null,\"name\":\"open_modal\"},{\"default\":0,\"kind\":null,\"name\":\"close_modal\"}]},{\"extends\":null,\"module\":null,\"name\":\"MaterialTemplateActions1\",\"overrides\":[],\"properties\":[{\"default\":0,\"kind\":null,\"name\":\"open_modal\"},{\"default\":0,\"kind\":null,\"name\":\"close_modal\"}]}],\"roots\":{\"references\":[{\"attributes\":{\"css_classes\":[\"alert\",\"alert-success\",\"markdown\"],\"margin\":[0,0,25,0],\"name\":\"Alert00106\",\"sizing_mode\":\"stretch_width\",\"text\":\"&lt;h3&gt;All input data saved successfully&lt;/h3&gt;\\n&lt;hr&gt;\\n\\n&lt;ul&gt;\\n&lt;li&gt;PROJECT NAME : rice&lt;/li&gt;\\n&lt;li&gt;HOST DIR : /home/jovyan/&lt;/li&gt;\\n&lt;li&gt;OUTPUT DIR : /home/jovyan/frangiPANe_rice/&lt;/li&gt;\\n&lt;li&gt;REFERENCE GENOME : /home/jovyan/rice/OglaRS2ADWL02.12chronly.fa&lt;/li&gt;\\n&lt;li&gt;FASTQ DIR : /home/jovyan/rice&lt;/li&gt;\\n&lt;li&gt;GROUP FILE : /home/jovyan/rice/rice_group_all.txt&lt;/li&gt;\\n&lt;li&gt;CPU : 6&lt;/li&gt;\\n&lt;/ul&gt;\"},\"id\":\"1005\",\"type\":\"panel.models.markup.HTML\"},{\"attributes\":{\"client_comm_id\":\"9ce0241e531b4485923caa3cf87ef4ac\",\"comm_id\":\"f95655e6ab5d41f49fe69dc1bdefcba8\",\"plot_id\":\"1005\"},\"id\":\"1006\",\"type\":\"panel.models.comm_manager.CommManager\"}],\"root_ids\":[\"1005\",\"1006\"]},\"title\":\"Bokeh Application\",\"version\":\"2.4.0\"}};\n",
       "    var render_items = [{\"docid\":\"bf7852f2-64a1-4e21-8190-12035128ac37\",\"root_ids\":[\"1005\"],\"roots\":{\"1005\":\"2bf14767-8bd6-43f8-ade6-d8675099cc7e\"}}];\n",
       "    root.Bokeh.embed.embed_items_notebook(docs_json, render_items);\n",
       "  }\n",
       "  if (root.Bokeh !== undefined && root.Bokeh.Panel !== undefined) {\n",
       "    embed_document(root);\n",
       "  } else {\n",
       "    var attempts = 0;\n",
       "    var timer = setInterval(function(root) {\n",
       "      if (root.Bokeh !== undefined && root.Bokeh.Panel !== undefined) {\n",
       "        clearInterval(timer);\n",
       "        embed_document(root);\n",
       "      } else if (document.readyState == \"complete\") {\n",
       "        attempts++;\n",
       "        if (attempts > 200) {\n",
       "          clearInterval(timer);\n",
       "          console.log(\"Bokeh: ERROR: Unable to run BokehJS code because BokehJS library is missing\");\n",
       "        }\n",
       "      }\n",
       "    }, 25, root)\n",
       "  }\n",
       "})(window);</script>"
      ],
      "text/plain": [
       "Alert(str, alert_type='success', css_classes=['alert', 'alert-success']...], margin=(0, 0, 25, 0), sizing_mode='stretch_width')"
      ]
     },
     "metadata": {
      "application/vnd.holoviews_exec.v0+json": {
       "id": "1005"
      }
     },
     "output_type": "display_data"
    }
   ],
   "source": [
    "#  A SUPPRIMER APRES MAIS UTILE POUR TESTER SANS PASSER PAR BOX : CHRISTINE\n",
    "project_name=\"rice\" \n",
    "host_dir=\"/home/jovyan/\"\n",
    "output_dir=\"/home/jovyan/frangiPANe_rice/\" \n",
    "reference_genome=\"/home/jovyan/rice/OglaRS2ADWL02.12chronly.fa\"\n",
    "fastq_dir=\"/home/jovyan/rice\"\n",
    "group_file=\"/home/jovyan/rice/rice_group_all.txt\"\n",
    "cpu = 6\n",
    "\n",
    "text = f\"\"\"\n",
    "### All input data saved successfully \n",
    "\n",
    "<hr>\n",
    "\n",
    "* PROJECT NAME : {project_name}\n",
    "* HOST DIR : {host_dir}\n",
    "* OUTPUT DIR : {output_dir}\n",
    "* REFERENCE GENOME : {reference_genome}\n",
    "* FASTQ DIR : {fastq_dir}\n",
    "* GROUP FILE : {group_file}\n",
    "* CPU : {cpu}\n",
    "\"\"\"\n",
    "\n",
    "display_alert(text,\"success\")"
   ]
  },
  {
   "cell_type": "markdown",
   "metadata": {},
   "source": [
    "### <span style=\"color: #919395\">_Creating frangiPANe output directory_<a class=\"anchor\" id=\"outputdirectory\"></a></span>\n",
    "\n",
    "<img src=\"Images/frangiPANe_output_tree.jpg\">\n",
    "\n",
    "Be careful : if the directory already exists, files and directory that were generated by previous analysis could be removed by new analysis steps"
   ]
  },
  {
   "cell_type": "code",
   "execution_count": 4,
   "metadata": {},
   "outputs": [
    {
     "data": {},
     "metadata": {},
     "output_type": "display_data"
    },
    {
     "data": {
      "application/vnd.holoviews_exec.v0+json": "",
      "text/html": [
       "<div id='1007'>\n",
       "\n",
       "\n",
       "\n",
       "\n",
       "\n",
       "  <div class=\"bk-root\" id=\"7a3cb0f9-82d0-458e-a699-31b3633596a1\" data-root-id=\"1007\"></div>\n",
       "</div>\n",
       "<script type=\"application/javascript\">(function(root) {\n",
       "  function embed_document(root) {\n",
       "    var docs_json = {\"04154fe9-33a7-4870-9bc5-f54b0e6ad806\":{\"defs\":[{\"extends\":null,\"module\":null,\"name\":\"ReactiveHTML1\",\"overrides\":[],\"properties\":[]},{\"extends\":null,\"module\":null,\"name\":\"FlexBox1\",\"overrides\":[],\"properties\":[{\"default\":\"flex-start\",\"kind\":null,\"name\":\"align_content\"},{\"default\":\"flex-start\",\"kind\":null,\"name\":\"align_items\"},{\"default\":\"row\",\"kind\":null,\"name\":\"flex_direction\"},{\"default\":\"wrap\",\"kind\":null,\"name\":\"flex_wrap\"},{\"default\":\"flex-start\",\"kind\":null,\"name\":\"justify_content\"}]},{\"extends\":null,\"module\":null,\"name\":\"TemplateActions1\",\"overrides\":[],\"properties\":[{\"default\":0,\"kind\":null,\"name\":\"open_modal\"},{\"default\":0,\"kind\":null,\"name\":\"close_modal\"}]},{\"extends\":null,\"module\":null,\"name\":\"MaterialTemplateActions1\",\"overrides\":[],\"properties\":[{\"default\":0,\"kind\":null,\"name\":\"open_modal\"},{\"default\":0,\"kind\":null,\"name\":\"close_modal\"}]}],\"roots\":{\"references\":[{\"attributes\":{\"css_classes\":[\"alert\",\"alert-warning\",\"markdown\"],\"margin\":[0,0,25,0],\"name\":\"Alert00110\",\"sizing_mode\":\"stretch_width\",\"text\":\"&lt;h3&gt;warning&lt;/h3&gt;\\n&lt;hr&gt;\\n&lt;p&gt;Directory /home/jovyan/frangiPANe_rice/ already existed&lt;/p&gt;\"},\"id\":\"1007\",\"type\":\"panel.models.markup.HTML\"},{\"attributes\":{\"client_comm_id\":\"9a571a2ee66b4763b50a50026af3fbef\",\"comm_id\":\"584eee9c6f204eecba1ff93c939e6e5d\",\"plot_id\":\"1007\"},\"id\":\"1008\",\"type\":\"panel.models.comm_manager.CommManager\"}],\"root_ids\":[\"1007\",\"1008\"]},\"title\":\"Bokeh Application\",\"version\":\"2.4.0\"}};\n",
       "    var render_items = [{\"docid\":\"04154fe9-33a7-4870-9bc5-f54b0e6ad806\",\"root_ids\":[\"1007\"],\"roots\":{\"1007\":\"7a3cb0f9-82d0-458e-a699-31b3633596a1\"}}];\n",
       "    root.Bokeh.embed.embed_items_notebook(docs_json, render_items);\n",
       "  }\n",
       "  if (root.Bokeh !== undefined && root.Bokeh.Panel !== undefined) {\n",
       "    embed_document(root);\n",
       "  } else {\n",
       "    var attempts = 0;\n",
       "    var timer = setInterval(function(root) {\n",
       "      if (root.Bokeh !== undefined && root.Bokeh.Panel !== undefined) {\n",
       "        clearInterval(timer);\n",
       "        embed_document(root);\n",
       "      } else if (document.readyState == \"complete\") {\n",
       "        attempts++;\n",
       "        if (attempts > 200) {\n",
       "          clearInterval(timer);\n",
       "          console.log(\"Bokeh: ERROR: Unable to run BokehJS code because BokehJS library is missing\");\n",
       "        }\n",
       "      }\n",
       "    }, 25, root)\n",
       "  }\n",
       "})(window);</script>"
      ],
      "text/plain": [
       "Alert(str, alert_type='warning', css_classes=['alert', 'alert-warning']...], margin=(0, 0, 25, 0), sizing_mode='stretch_width')"
      ]
     },
     "metadata": {
      "application/vnd.holoviews_exec.v0+json": {
       "id": "1007"
      }
     },
     "output_type": "display_data"
    }
   ],
   "source": [
    "make_dir(output_dir)"
   ]
  },
  {
   "cell_type": "markdown",
   "metadata": {},
   "source": [
    "### <span style=\"color: #919395\">_Creating log file_</span>\n",
    "\n",
    "Saved all outputs generated by bioinformatics tools (eg: bwa index, mem, abyss)"
   ]
  },
  {
   "cell_type": "code",
   "execution_count": 5,
   "metadata": {},
   "outputs": [
    {
     "data": {},
     "metadata": {},
     "output_type": "display_data"
    },
    {
     "data": {
      "application/vnd.holoviews_exec.v0+json": "",
      "text/html": [
       "<div id='1009'>\n",
       "\n",
       "\n",
       "\n",
       "\n",
       "\n",
       "  <div class=\"bk-root\" id=\"fd8eb739-e8d6-4575-8a5c-0c56398abe16\" data-root-id=\"1009\"></div>\n",
       "</div>\n",
       "<script type=\"application/javascript\">(function(root) {\n",
       "  function embed_document(root) {\n",
       "    var docs_json = {\"6032a659-c296-4ba9-9743-d0b984a318ae\":{\"defs\":[{\"extends\":null,\"module\":null,\"name\":\"ReactiveHTML1\",\"overrides\":[],\"properties\":[]},{\"extends\":null,\"module\":null,\"name\":\"FlexBox1\",\"overrides\":[],\"properties\":[{\"default\":\"flex-start\",\"kind\":null,\"name\":\"align_content\"},{\"default\":\"flex-start\",\"kind\":null,\"name\":\"align_items\"},{\"default\":\"row\",\"kind\":null,\"name\":\"flex_direction\"},{\"default\":\"wrap\",\"kind\":null,\"name\":\"flex_wrap\"},{\"default\":\"flex-start\",\"kind\":null,\"name\":\"justify_content\"}]},{\"extends\":null,\"module\":null,\"name\":\"TemplateActions1\",\"overrides\":[],\"properties\":[{\"default\":0,\"kind\":null,\"name\":\"open_modal\"},{\"default\":0,\"kind\":null,\"name\":\"close_modal\"}]},{\"extends\":null,\"module\":null,\"name\":\"MaterialTemplateActions1\",\"overrides\":[],\"properties\":[{\"default\":0,\"kind\":null,\"name\":\"open_modal\"},{\"default\":0,\"kind\":null,\"name\":\"close_modal\"}]}],\"roots\":{\"references\":[{\"attributes\":{\"css_classes\":[\"alert\",\"alert-success\",\"markdown\"],\"margin\":[0,0,25,0],\"name\":\"Alert00114\",\"sizing_mode\":\"stretch_width\",\"text\":\"&lt;p&gt;Log /home/jovyan/frangiPANe_rice/frangiPANe_rice-15-10-2021_21:23:00.log created&lt;/p&gt;\"},\"id\":\"1009\",\"type\":\"panel.models.markup.HTML\"},{\"attributes\":{\"client_comm_id\":\"a7159a6327d94ab69f83cec710ab114c\",\"comm_id\":\"5e2fbec5e36446b391e702f96963692b\",\"plot_id\":\"1009\"},\"id\":\"1010\",\"type\":\"panel.models.comm_manager.CommManager\"}],\"root_ids\":[\"1009\",\"1010\"]},\"title\":\"Bokeh Application\",\"version\":\"2.4.0\"}};\n",
       "    var render_items = [{\"docid\":\"6032a659-c296-4ba9-9743-d0b984a318ae\",\"root_ids\":[\"1009\"],\"roots\":{\"1009\":\"fd8eb739-e8d6-4575-8a5c-0c56398abe16\"}}];\n",
       "    root.Bokeh.embed.embed_items_notebook(docs_json, render_items);\n",
       "  }\n",
       "  if (root.Bokeh !== undefined && root.Bokeh.Panel !== undefined) {\n",
       "    embed_document(root);\n",
       "  } else {\n",
       "    var attempts = 0;\n",
       "    var timer = setInterval(function(root) {\n",
       "      if (root.Bokeh !== undefined && root.Bokeh.Panel !== undefined) {\n",
       "        clearInterval(timer);\n",
       "        embed_document(root);\n",
       "      } else if (document.readyState == \"complete\") {\n",
       "        attempts++;\n",
       "        if (attempts > 200) {\n",
       "          clearInterval(timer);\n",
       "          console.log(\"Bokeh: ERROR: Unable to run BokehJS code because BokehJS library is missing\");\n",
       "        }\n",
       "      }\n",
       "    }, 25, root)\n",
       "  }\n",
       "})(window);</script>"
      ],
      "text/plain": [
       "Alert(str, alert_type='success', css_classes=['alert', 'alert-success']...], margin=(0, 0, 25, 0), sizing_mode='stretch_width')"
      ]
     },
     "metadata": {
      "application/vnd.holoviews_exec.v0+json": {
       "id": "1009"
      }
     },
     "output_type": "display_data"
    }
   ],
   "source": [
    "logger = init_log(output_dir,project_name)\n",
    "#logger.info(log_parameter)"
   ]
  },
  {
   "cell_type": "markdown",
   "metadata": {},
   "source": [
    "### <span style=\"color: #919395\">_Preparing Genome Reference for next analysis_\n",
    "\n",
    "#### __Genome indexation__\n",
    "\n",
    "This step is done with `bwa index` if index are absent. Indexation is required before performing reads mapping against genome reference."
   ]
  },
  {
   "cell_type": "code",
   "execution_count": 7,
   "metadata": {},
   "outputs": [
    {
     "data": {},
     "metadata": {},
     "output_type": "display_data"
    },
    {
     "data": {
      "application/vnd.holoviews_exec.v0+json": "",
      "text/html": [
       "<div id='1015'>\n",
       "\n",
       "\n",
       "\n",
       "\n",
       "\n",
       "  <div class=\"bk-root\" id=\"5d976acf-e476-4fff-8ab2-e72f414c40c0\" data-root-id=\"1015\"></div>\n",
       "</div>\n",
       "<script type=\"application/javascript\">(function(root) {\n",
       "  function embed_document(root) {\n",
       "    var docs_json = {\"bb955188-d36f-4f21-83d4-b3c9dd89fc65\":{\"defs\":[{\"extends\":null,\"module\":null,\"name\":\"ReactiveHTML1\",\"overrides\":[],\"properties\":[]},{\"extends\":null,\"module\":null,\"name\":\"FlexBox1\",\"overrides\":[],\"properties\":[{\"default\":\"flex-start\",\"kind\":null,\"name\":\"align_content\"},{\"default\":\"flex-start\",\"kind\":null,\"name\":\"align_items\"},{\"default\":\"row\",\"kind\":null,\"name\":\"flex_direction\"},{\"default\":\"wrap\",\"kind\":null,\"name\":\"flex_wrap\"},{\"default\":\"flex-start\",\"kind\":null,\"name\":\"justify_content\"}]},{\"extends\":null,\"module\":null,\"name\":\"TemplateActions1\",\"overrides\":[],\"properties\":[{\"default\":0,\"kind\":null,\"name\":\"open_modal\"},{\"default\":0,\"kind\":null,\"name\":\"close_modal\"}]},{\"extends\":null,\"module\":null,\"name\":\"MaterialTemplateActions1\",\"overrides\":[],\"properties\":[{\"default\":0,\"kind\":null,\"name\":\"open_modal\"},{\"default\":0,\"kind\":null,\"name\":\"close_modal\"}]}],\"roots\":{\"references\":[{\"attributes\":{\"client_comm_id\":\"7252066dc86e4b939570c522306f2247\",\"comm_id\":\"c3d65107561748b498286621d377620e\",\"plot_id\":\"1015\"},\"id\":\"1016\",\"type\":\"panel.models.comm_manager.CommManager\"},{\"attributes\":{\"css_classes\":[\"alert\",\"alert-info\",\"markdown\"],\"margin\":[0,0,25,0],\"name\":\"Alert00126\",\"sizing_mode\":\"stretch_width\",\"text\":\"&lt;p&gt;Searching index files for reference file /home/jovyan/rice/OglaRS2ADWL02.12chronly.fa&lt;/p&gt;\"},\"id\":\"1015\",\"type\":\"panel.models.markup.HTML\"}],\"root_ids\":[\"1015\",\"1016\"]},\"title\":\"Bokeh Application\",\"version\":\"2.4.0\"}};\n",
       "    var render_items = [{\"docid\":\"bb955188-d36f-4f21-83d4-b3c9dd89fc65\",\"root_ids\":[\"1015\"],\"roots\":{\"1015\":\"5d976acf-e476-4fff-8ab2-e72f414c40c0\"}}];\n",
       "    root.Bokeh.embed.embed_items_notebook(docs_json, render_items);\n",
       "  }\n",
       "  if (root.Bokeh !== undefined && root.Bokeh.Panel !== undefined) {\n",
       "    embed_document(root);\n",
       "  } else {\n",
       "    var attempts = 0;\n",
       "    var timer = setInterval(function(root) {\n",
       "      if (root.Bokeh !== undefined && root.Bokeh.Panel !== undefined) {\n",
       "        clearInterval(timer);\n",
       "        embed_document(root);\n",
       "      } else if (document.readyState == \"complete\") {\n",
       "        attempts++;\n",
       "        if (attempts > 200) {\n",
       "          clearInterval(timer);\n",
       "          console.log(\"Bokeh: ERROR: Unable to run BokehJS code because BokehJS library is missing\");\n",
       "        }\n",
       "      }\n",
       "    }, 25, root)\n",
       "  }\n",
       "})(window);</script>"
      ],
      "text/plain": [
       "Alert(str, alert_type='info', css_classes=['alert', 'alert-info'], margin=(0, 0, 25, 0), sizing_mode='stretch_width')"
      ]
     },
     "metadata": {
      "application/vnd.holoviews_exec.v0+json": {
       "id": "1015"
      }
     },
     "output_type": "display_data"
    },
    {
     "data": {},
     "metadata": {},
     "output_type": "display_data"
    },
    {
     "data": {
      "application/vnd.holoviews_exec.v0+json": "",
      "text/html": [
       "<div id='1017'>\n",
       "\n",
       "\n",
       "\n",
       "\n",
       "\n",
       "  <div class=\"bk-root\" id=\"ecaf0eaa-a694-4906-9345-80d92c040964\" data-root-id=\"1017\"></div>\n",
       "</div>\n",
       "<script type=\"application/javascript\">(function(root) {\n",
       "  function embed_document(root) {\n",
       "    var docs_json = {\"e3a49018-b1d3-4c51-9c89-ce9365365f8b\":{\"defs\":[{\"extends\":null,\"module\":null,\"name\":\"ReactiveHTML1\",\"overrides\":[],\"properties\":[]},{\"extends\":null,\"module\":null,\"name\":\"FlexBox1\",\"overrides\":[],\"properties\":[{\"default\":\"flex-start\",\"kind\":null,\"name\":\"align_content\"},{\"default\":\"flex-start\",\"kind\":null,\"name\":\"align_items\"},{\"default\":\"row\",\"kind\":null,\"name\":\"flex_direction\"},{\"default\":\"wrap\",\"kind\":null,\"name\":\"flex_wrap\"},{\"default\":\"flex-start\",\"kind\":null,\"name\":\"justify_content\"}]},{\"extends\":null,\"module\":null,\"name\":\"TemplateActions1\",\"overrides\":[],\"properties\":[{\"default\":0,\"kind\":null,\"name\":\"open_modal\"},{\"default\":0,\"kind\":null,\"name\":\"close_modal\"}]},{\"extends\":null,\"module\":null,\"name\":\"MaterialTemplateActions1\",\"overrides\":[],\"properties\":[{\"default\":0,\"kind\":null,\"name\":\"open_modal\"},{\"default\":0,\"kind\":null,\"name\":\"close_modal\"}]}],\"roots\":{\"references\":[{\"attributes\":{\"client_comm_id\":\"8c990a643d6e402780724a3aa888a0aa\",\"comm_id\":\"65d428fb089344db9497168c40f14f92\",\"plot_id\":\"1017\"},\"id\":\"1018\",\"type\":\"panel.models.comm_manager.CommManager\"},{\"attributes\":{\"css_classes\":[\"alert\",\"alert-secondary\",\"markdown\"],\"margin\":[0,0,25,0],\"name\":\"Alert00130\",\"sizing_mode\":\"stretch_width\",\"text\":\"&lt;p&gt;Indexation in progress with bwa index&amp;hellip;&lt;/p&gt;\"},\"id\":\"1017\",\"type\":\"panel.models.markup.HTML\"}],\"root_ids\":[\"1017\",\"1018\"]},\"title\":\"Bokeh Application\",\"version\":\"2.4.0\"}};\n",
       "    var render_items = [{\"docid\":\"e3a49018-b1d3-4c51-9c89-ce9365365f8b\",\"root_ids\":[\"1017\"],\"roots\":{\"1017\":\"ecaf0eaa-a694-4906-9345-80d92c040964\"}}];\n",
       "    root.Bokeh.embed.embed_items_notebook(docs_json, render_items);\n",
       "  }\n",
       "  if (root.Bokeh !== undefined && root.Bokeh.Panel !== undefined) {\n",
       "    embed_document(root);\n",
       "  } else {\n",
       "    var attempts = 0;\n",
       "    var timer = setInterval(function(root) {\n",
       "      if (root.Bokeh !== undefined && root.Bokeh.Panel !== undefined) {\n",
       "        clearInterval(timer);\n",
       "        embed_document(root);\n",
       "      } else if (document.readyState == \"complete\") {\n",
       "        attempts++;\n",
       "        if (attempts > 200) {\n",
       "          clearInterval(timer);\n",
       "          console.log(\"Bokeh: ERROR: Unable to run BokehJS code because BokehJS library is missing\");\n",
       "        }\n",
       "      }\n",
       "    }, 25, root)\n",
       "  }\n",
       "})(window);</script>"
      ],
      "text/plain": [
       "Alert(str, alert_type='secondary', css_classes=['alert', 'alert-secondary...], margin=(0, 0, 25, 0), sizing_mode='stretch_width')"
      ]
     },
     "metadata": {
      "application/vnd.holoviews_exec.v0+json": {
       "id": "1017"
      }
     },
     "output_type": "display_data"
    },
    {
     "ename": "TypeError",
     "evalue": "exceptions must derive from BaseException",
     "output_type": "error",
     "traceback": [
      "\u001b[0;31m---------------------------------------------------------------------------\u001b[0m",
      "\u001b[0;31mTypeError\u001b[0m                                 Traceback (most recent call last)",
      "\u001b[0;32m/tmp/ipykernel_65/3528714757.py\u001b[0m in \u001b[0;36m<module>\u001b[0;34m\u001b[0m\n\u001b[0;32m----> 1\u001b[0;31m \u001b[0mindex_reference_genome\u001b[0m\u001b[0;34m(\u001b[0m\u001b[0mreference_genome\u001b[0m\u001b[0;34m,\u001b[0m \u001b[0mlogger\u001b[0m\u001b[0;34m)\u001b[0m\u001b[0;34m\u001b[0m\u001b[0;34m\u001b[0m\u001b[0m\n\u001b[0m",
      "\u001b[0;32m~/frangiPANe/tools/frangiPANe.py\u001b[0m in \u001b[0;36mindex_reference_genome\u001b[0;34m(file, logger)\u001b[0m\n\u001b[1;32m     79\u001b[0m             \u001b[0;32mif\u001b[0m \u001b[0mprocess\u001b[0m\u001b[0;34m.\u001b[0m\u001b[0mreturncode\u001b[0m\u001b[0;34m:\u001b[0m\u001b[0;34m\u001b[0m\u001b[0;34m\u001b[0m\u001b[0m\n\u001b[1;32m     80\u001b[0m                 \u001b[0mlog\u001b[0m \u001b[0;34m=\u001b[0m \u001b[0;34mf'FAILED EXECUTION : {cmd}\\n{process.stdout}\\n{process.stderr}'\u001b[0m\u001b[0;34m\u001b[0m\u001b[0;34m\u001b[0m\u001b[0m\n\u001b[0;32m---> 81\u001b[0;31m                 \u001b[0;32mraise\u001b[0m \u001b[0mlog\u001b[0m\u001b[0;34m\u001b[0m\u001b[0;34m\u001b[0m\u001b[0m\n\u001b[0m\u001b[1;32m     82\u001b[0m             \u001b[0;32melse\u001b[0m\u001b[0;34m:\u001b[0m\u001b[0;34m\u001b[0m\u001b[0;34m\u001b[0m\u001b[0m\n\u001b[1;32m     83\u001b[0m                 \u001b[0;31m#display(msg_button(f\"SUCCESSFUL INDEXATION: {cmd}\", 'green', 'classic'))\u001b[0m\u001b[0;34m\u001b[0m\u001b[0;34m\u001b[0m\u001b[0m\n",
      "\u001b[0;31mTypeError\u001b[0m: exceptions must derive from BaseException"
     ]
    }
   ],
   "source": [
    "index_reference_genome(reference_genome, logger)"
   ]
  },
  {
   "cell_type": "markdown",
   "metadata": {},
   "source": [
    "#### __Genome Reference dashboard__"
   ]
  },
  {
   "cell_type": "code",
   "execution_count": 13,
   "metadata": {},
   "outputs": [
    {
     "data": {},
     "metadata": {},
     "output_type": "display_data"
    },
    {
     "data": {
      "application/vnd.holoviews_exec.v0+json": "",
      "text/html": [
       "<div id='1022'>\n",
       "\n",
       "\n",
       "\n",
       "\n",
       "\n",
       "  <div class=\"bk-root\" id=\"634d290d-8232-458f-b5a5-b1ebd16418cd\" data-root-id=\"1022\"></div>\n",
       "</div>\n",
       "<script type=\"application/javascript\">(function(root) {\n",
       "  function embed_document(root) {\n",
       "    var docs_json = {\"e6c675a4-23c3-4e03-8b04-b538234ab7ab\":{\"defs\":[],\"roots\":{\"references\":[{\"attributes\":{\"css_classes\":[\"markdown\"],\"margin\":[5,5,5,5],\"name\":\"Markdown00145\",\"text\":\"&lt;h2&gt;Genome size (Mb) : 344.46&lt;/h2&gt;\"},\"id\":\"1024\",\"type\":\"panel.models.markup.HTML\"},{\"attributes\":{\"css_classes\":[\"markdown\"],\"margin\":[5,5,5,5],\"name\":\"Markdown00143\",\"text\":\"&lt;h1&gt;Reference genome file&lt;/h1&gt;\"},\"id\":\"1023\",\"type\":\"panel.models.markup.HTML\"},{\"attributes\":{\"margin\":[5,5,5,5],\"name\":\"DataFrame00138\",\"text\":\"&lt;table border=&quot;0&quot; class=&quot;dataframe panel-df&quot;&gt;\\n  &lt;thead&gt;\\n    &lt;tr style=&quot;text-align: right;&quot;&gt;\\n      &lt;th&gt;&lt;/th&gt;\\n      &lt;th&gt;chr&lt;/th&gt;\\n      &lt;th&gt;size&lt;/th&gt;\\n    &lt;/tr&gt;\\n  &lt;/thead&gt;\\n  &lt;tbody&gt;\\n    &lt;tr&gt;\\n      &lt;th&gt;0&lt;/th&gt;\\n      &lt;td&gt;Chr01&lt;/td&gt;\\n      &lt;td&gt;39.66&lt;/td&gt;\\n    &lt;/tr&gt;\\n    &lt;tr&gt;\\n      &lt;th&gt;1&lt;/th&gt;\\n      &lt;td&gt;Chr02&lt;/td&gt;\\n      &lt;td&gt;34.45&lt;/td&gt;\\n    &lt;/tr&gt;\\n    &lt;tr&gt;\\n      &lt;th&gt;2&lt;/th&gt;\\n      &lt;td&gt;Chr03&lt;/td&gt;\\n      &lt;td&gt;35.53&lt;/td&gt;\\n    &lt;/tr&gt;\\n    &lt;tr&gt;\\n      &lt;th&gt;3&lt;/th&gt;\\n      &lt;td&gt;Chr04&lt;/td&gt;\\n      &lt;td&gt;31.57&lt;/td&gt;\\n    &lt;/tr&gt;\\n    &lt;tr&gt;\\n      &lt;th&gt;4&lt;/th&gt;\\n      &lt;td&gt;Chr05&lt;/td&gt;\\n      &lt;td&gt;26.27&lt;/td&gt;\\n    &lt;/tr&gt;\\n    &lt;tr&gt;\\n      &lt;th&gt;5&lt;/th&gt;\\n      &lt;td&gt;Chr06&lt;/td&gt;\\n      &lt;td&gt;29.28&lt;/td&gt;\\n    &lt;/tr&gt;\\n    &lt;tr&gt;\\n      &lt;th&gt;6&lt;/th&gt;\\n      &lt;td&gt;Chr07&lt;/td&gt;\\n      &lt;td&gt;26.60&lt;/td&gt;\\n    &lt;/tr&gt;\\n    &lt;tr&gt;\\n      &lt;th&gt;7&lt;/th&gt;\\n      &lt;td&gt;Chr08&lt;/td&gt;\\n      &lt;td&gt;25.47&lt;/td&gt;\\n    &lt;/tr&gt;\\n    &lt;tr&gt;\\n      &lt;th&gt;8&lt;/th&gt;\\n      &lt;td&gt;Chr09&lt;/td&gt;\\n      &lt;td&gt;21.80&lt;/td&gt;\\n    &lt;/tr&gt;\\n    &lt;tr&gt;\\n      &lt;th&gt;9&lt;/th&gt;\\n      &lt;td&gt;Chr10&lt;/td&gt;\\n      &lt;td&gt;22.42&lt;/td&gt;\\n    &lt;/tr&gt;\\n    &lt;tr&gt;\\n      &lt;th&gt;10&lt;/th&gt;\\n      &lt;td&gt;Chr11&lt;/td&gt;\\n      &lt;td&gt;26.39&lt;/td&gt;\\n    &lt;/tr&gt;\\n    &lt;tr&gt;\\n      &lt;th&gt;11&lt;/th&gt;\\n      &lt;td&gt;Chr12&lt;/td&gt;\\n      &lt;td&gt;25.02&lt;/td&gt;\\n    &lt;/tr&gt;\\n  &lt;/tbody&gt;\\n&lt;/table&gt;\"},\"id\":\"1027\",\"type\":\"panel.models.markup.HTML\"},{\"attributes\":{\"children\":[{\"id\":\"1026\"},{\"id\":\"1027\"}],\"margin\":[0,0,0,0],\"name\":\"Row00142\"},\"id\":\"1025\",\"type\":\"Row\"},{\"attributes\":{\"background\":\"WhiteSmoke\",\"children\":[{\"id\":\"1023\"},{\"id\":\"1024\"},{\"id\":\"1025\"}],\"margin\":[0,0,0,0],\"name\":\"Column00147\",\"sizing_mode\":\"stretch_both\"},\"id\":\"1022\",\"type\":\"Column\"},{\"attributes\":{\"height\":432,\"margin\":[5,5,5,5],\"name\":\"Matplotlib00140\",\"text\":\"&lt;img src=&quot;data:image/png;base64,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&quot; width=&quot;576px&quot; height=&quot;432px&quot; alt=&quot;&quot;&gt;&lt;/img&gt;\",\"width\":576},\"id\":\"1026\",\"type\":\"panel.models.markup.HTML\"},{\"attributes\":{\"client_comm_id\":\"ed8778cea79c4f298b1688765ae936ac\",\"comm_id\":\"3b3e7d32f8d849fd8d069a4752ea829d\",\"plot_id\":\"1022\"},\"id\":\"1028\",\"type\":\"panel.models.comm_manager.CommManager\"}],\"root_ids\":[\"1022\",\"1028\"]},\"title\":\"Bokeh Application\",\"version\":\"2.3.3\"}};\n",
       "    var render_items = [{\"docid\":\"e6c675a4-23c3-4e03-8b04-b538234ab7ab\",\"root_ids\":[\"1022\"],\"roots\":{\"1022\":\"634d290d-8232-458f-b5a5-b1ebd16418cd\"}}];\n",
       "    root.Bokeh.embed.embed_items_notebook(docs_json, render_items);\n",
       "  }\n",
       "  if (root.Bokeh !== undefined && root.Bokeh.Panel !== undefined) {\n",
       "    embed_document(root);\n",
       "  } else {\n",
       "    var attempts = 0;\n",
       "    var timer = setInterval(function(root) {\n",
       "      if (root.Bokeh !== undefined && root.Bokeh.Panel !== undefined) {\n",
       "        clearInterval(timer);\n",
       "        embed_document(root);\n",
       "      } else if (document.readyState == \"complete\") {\n",
       "        attempts++;\n",
       "        if (attempts > 100) {\n",
       "          clearInterval(timer);\n",
       "          console.log(\"Bokeh: ERROR: Unable to run BokehJS code because BokehJS library is missing\");\n",
       "        }\n",
       "      }\n",
       "    }, 10, root)\n",
       "  }\n",
       "})(window);</script>"
      ],
      "text/plain": [
       "Column(background='WhiteSmoke', sizing_mode='stretch_both')\n",
       "    [0] Markdown(str)\n",
       "    [1] Markdown(str)\n",
       "    [2] Row\n",
       "        [0] Matplotlib(Figure)\n",
       "        [1] DataFrame(DataFrame)"
      ]
     },
     "metadata": {
      "application/vnd.holoviews_exec.v0+json": {
       "id": "1022"
      }
     },
     "output_type": "display_data"
    }
   ],
   "source": [
    "total_genome_size=dashboard_genome(reference_genome)"
   ]
  },
  {
   "cell_type": "markdown",
   "metadata": {},
   "source": [
    "### <span style=\"color: #919395\">_Analyzing Group File_</span> "
   ]
  },
  {
   "cell_type": "markdown",
   "metadata": {},
   "source": [
    "#### __Reading Group file__\n"
   ]
  },
  {
   "cell_type": "code",
   "execution_count": 14,
   "metadata": {},
   "outputs": [
    {
     "data": {},
     "metadata": {},
     "output_type": "display_data"
    },
    {
     "data": {
      "application/vnd.holoviews_exec.v0+json": "",
      "text/html": [
       "<div id='1029'>\n",
       "\n",
       "\n",
       "\n",
       "\n",
       "\n",
       "  <div class=\"bk-root\" id=\"41193edd-bf04-4dc5-892c-42dec96ea1bf\" data-root-id=\"1029\"></div>\n",
       "</div>\n",
       "<script type=\"application/javascript\">(function(root) {\n",
       "  function embed_document(root) {\n",
       "    var docs_json = {\"935e7304-0a05-4da0-96b4-e9e82b493962\":{\"defs\":[],\"roots\":{\"references\":[{\"attributes\":{\"client_comm_id\":\"b4425359a36a49bfb83b7b08477a3ea4\",\"comm_id\":\"31368f82db9f4a0198d230d10b50dae7\",\"plot_id\":\"1029\"},\"id\":\"1030\",\"type\":\"panel.models.comm_manager.CommManager\"},{\"attributes\":{\"css_classes\":[\"alert\",\"alert-success\",\"markdown\"],\"margin\":[0,0,25,0],\"name\":\"Alert00150\",\"sizing_mode\":\"stretch_width\",\"text\":\"&lt;p&gt;Group file /home/christine/Documents/These/Book/yapluka/PANTOUM/frangiPANe_data_test/rice/rice_group_all.txt correctly read&lt;/p&gt;\"},\"id\":\"1029\",\"type\":\"panel.models.markup.HTML\"}],\"root_ids\":[\"1029\",\"1030\"]},\"title\":\"Bokeh Application\",\"version\":\"2.3.3\"}};\n",
       "    var render_items = [{\"docid\":\"935e7304-0a05-4da0-96b4-e9e82b493962\",\"root_ids\":[\"1029\"],\"roots\":{\"1029\":\"41193edd-bf04-4dc5-892c-42dec96ea1bf\"}}];\n",
       "    root.Bokeh.embed.embed_items_notebook(docs_json, render_items);\n",
       "  }\n",
       "  if (root.Bokeh !== undefined && root.Bokeh.Panel !== undefined) {\n",
       "    embed_document(root);\n",
       "  } else {\n",
       "    var attempts = 0;\n",
       "    var timer = setInterval(function(root) {\n",
       "      if (root.Bokeh !== undefined && root.Bokeh.Panel !== undefined) {\n",
       "        clearInterval(timer);\n",
       "        embed_document(root);\n",
       "      } else if (document.readyState == \"complete\") {\n",
       "        attempts++;\n",
       "        if (attempts > 100) {\n",
       "          clearInterval(timer);\n",
       "          console.log(\"Bokeh: ERROR: Unable to run BokehJS code because BokehJS library is missing\");\n",
       "        }\n",
       "      }\n",
       "    }, 10, root)\n",
       "  }\n",
       "})(window);</script>"
      ],
      "text/plain": [
       "Alert(str, alert_type='success', css_classes=['alert', 'alert-success']...], margin=(0, 0, 25, 0), sizing_mode='stretch_width')"
      ]
     },
     "metadata": {
      "application/vnd.holoviews_exec.v0+json": {
       "id": "1029"
      }
     },
     "output_type": "display_data"
    }
   ],
   "source": [
    "id_dict, df_group = read_group_file(group_file,logger)"
   ]
  },
  {
   "cell_type": "markdown",
   "metadata": {},
   "source": [
    "#### __Group file dashboard__"
   ]
  },
  {
   "cell_type": "code",
   "execution_count": 15,
   "metadata": {},
   "outputs": [
    {
     "data": {
      "application/javascript": [
       "\n",
       "(function(root) {\n",
       "  function now() {\n",
       "    return new Date();\n",
       "  }\n",
       "\n",
       "  var force = true;\n",
       "\n",
       "  if (typeof root._bokeh_onload_callbacks === \"undefined\" || force === true) {\n",
       "    root._bokeh_onload_callbacks = [];\n",
       "    root._bokeh_is_loading = undefined;\n",
       "  }\n",
       "\n",
       "  if (typeof (root._bokeh_timeout) === \"undefined\" || force === true) {\n",
       "    root._bokeh_timeout = Date.now() + 5000;\n",
       "    root._bokeh_failed_load = false;\n",
       "  }\n",
       "\n",
       "  function run_callbacks() {\n",
       "    try {\n",
       "      root._bokeh_onload_callbacks.forEach(function(callback) {\n",
       "        if (callback != null)\n",
       "          callback();\n",
       "      });\n",
       "    } finally {\n",
       "      delete root._bokeh_onload_callbacks\n",
       "    }\n",
       "    console.debug(\"Bokeh: all callbacks have finished\");\n",
       "  }\n",
       "\n",
       "  function load_libs(css_urls, js_urls, js_modules, callback) {\n",
       "    if (css_urls == null) css_urls = [];\n",
       "    if (js_urls == null) js_urls = [];\n",
       "    if (js_modules == null) js_modules = [];\n",
       "\n",
       "    root._bokeh_onload_callbacks.push(callback);\n",
       "    if (root._bokeh_is_loading > 0) {\n",
       "      console.debug(\"Bokeh: BokehJS is being loaded, scheduling callback at\", now());\n",
       "      return null;\n",
       "    }\n",
       "    if (js_urls.length === 0 && js_modules.length === 0) {\n",
       "      run_callbacks();\n",
       "      return null;\n",
       "    }\n",
       "    console.debug(\"Bokeh: BokehJS not loaded, scheduling load and callback at\", now());\n",
       "    root._bokeh_is_loading = css_urls.length + js_urls.length + js_modules.length;\n",
       "\n",
       "    function on_load() {\n",
       "      root._bokeh_is_loading--;\n",
       "      if (root._bokeh_is_loading === 0) {\n",
       "        console.debug(\"Bokeh: all BokehJS libraries/stylesheets loaded\");\n",
       "        run_callbacks()\n",
       "      }\n",
       "    }\n",
       "\n",
       "    function on_error() {\n",
       "      console.error(\"failed to load \" + url);\n",
       "    }\n",
       "\n",
       "    for (var i = 0; i < css_urls.length; i++) {\n",
       "      var url = css_urls[i];\n",
       "      const element = document.createElement(\"link\");\n",
       "      element.onload = on_load;\n",
       "      element.onerror = on_error;\n",
       "      element.rel = \"stylesheet\";\n",
       "      element.type = \"text/css\";\n",
       "      element.href = url;\n",
       "      console.debug(\"Bokeh: injecting link tag for BokehJS stylesheet: \", url);\n",
       "      document.body.appendChild(element);\n",
       "    }\n",
       "\n",
       "    var skip = [];\n",
       "    if (window.requirejs) {\n",
       "      window.requirejs.config({'paths': {'tabulator': 'https://unpkg.com/tabulator-tables@4.9.3/dist/js/tabulator'}});\n",
       "      require([], function() {\n",
       "      })\n",
       "    }\n",
       "    if (((window['tabulator'] !== undefined) && (!(window['tabulator'] instanceof HTMLElement))) || window.requirejs) {\n",
       "      var urls = ['https://unpkg.com/tabulator-tables@4.9.3/dist/js/tabulator.js', 'https://unpkg.com/moment@2.27.0/moment.js'];\n",
       "      for (var i = 0; i < urls.length; i++) {\n",
       "        skip.push(urls[i])\n",
       "      }\n",
       "    }\n",
       "    for (var i = 0; i < js_urls.length; i++) {\n",
       "      var url = js_urls[i];\n",
       "      if (skip.indexOf(url) >= 0) { on_load(); continue; }\n",
       "      var element = document.createElement('script');\n",
       "      element.onload = on_load;\n",
       "      element.onerror = on_error;\n",
       "      element.async = false;\n",
       "      element.src = url;\n",
       "      console.debug(\"Bokeh: injecting script tag for BokehJS library: \", url);\n",
       "      document.head.appendChild(element);\n",
       "    }\n",
       "    for (var i = 0; i < js_modules.length; i++) {\n",
       "      var url = js_modules[i];\n",
       "      if (skip.indexOf(url) >= 0) { on_load(); continue; }\n",
       "      var element = document.createElement('script');\n",
       "      element.onload = on_load;\n",
       "      element.onerror = on_error;\n",
       "      element.async = false;\n",
       "      element.src = url;\n",
       "      element.type = \"module\";\n",
       "      console.debug(\"Bokeh: injecting script tag for BokehJS library: \", url);\n",
       "      document.head.appendChild(element);\n",
       "    }\n",
       "    if (!js_urls.length && !js_modules.length) {\n",
       "      on_load()\n",
       "    }\n",
       "  };\n",
       "\n",
       "  function inject_raw_css(css) {\n",
       "    const element = document.createElement(\"style\");\n",
       "    element.appendChild(document.createTextNode(css));\n",
       "    document.body.appendChild(element);\n",
       "  }\n",
       "\n",
       "  var js_urls = [\"https://unpkg.com/tabulator-tables@4.9.3/dist/js/tabulator.js\", \"https://unpkg.com/moment@2.27.0/moment.js\", \"https://cdn.bokeh.org/bokeh/release/bokeh-2.3.3.min.js\", \"https://cdn.bokeh.org/bokeh/release/bokeh-widgets-2.3.3.min.js\", \"https://cdn.bokeh.org/bokeh/release/bokeh-tables-2.3.3.min.js\", \"https://unpkg.com/@holoviz/panel@0.11.1/dist/panel.min.js\"];\n",
       "  var js_modules = [];\n",
       "  var css_urls = [\"https://unpkg.com/tabulator-tables@4.9.3/dist/css/tabulator_simple.min.css\", \"https://unpkg.com/@holoviz/panel@0.11.1/dist/css/widgets.css\", \"https://unpkg.com/@holoviz/panel@0.11.1/dist/css/loading.css\", \"https://unpkg.com/@holoviz/panel@0.11.1/dist/css/dataframe.css\", \"https://unpkg.com/@holoviz/panel@0.11.1/dist/css/alerts.css\", \"https://unpkg.com/@holoviz/panel@0.11.1/dist/css/markdown.css\", \"https://unpkg.com/@holoviz/panel@0.11.1/dist/css/json.css\", \"https://unpkg.com/@holoviz/panel@0.11.1/dist/css/card.css\"];\n",
       "  var inline_js = [\n",
       "    function(Bokeh) {\n",
       "      inject_raw_css(\"\\n    .bk.pn-loading.arcs:before {\\n      background-image: url(\\\"data:image/svg+xml;base64,PHN2ZyB4bWxucz0iaHR0cDovL3d3dy53My5vcmcvMjAwMC9zdmciIHhtbG5zOnhsaW5rPSJodHRwOi8vd3d3LnczLm9yZy8xOTk5L3hsaW5rIiBzdHlsZT0ibWFyZ2luOiBhdXRvOyBiYWNrZ3JvdW5kOiBub25lOyBkaXNwbGF5OiBibG9jazsgc2hhcGUtcmVuZGVyaW5nOiBhdXRvOyIgdmlld0JveD0iMCAwIDEwMCAxMDAiIHByZXNlcnZlQXNwZWN0UmF0aW89InhNaWRZTWlkIj4gIDxjaXJjbGUgY3g9IjUwIiBjeT0iNTAiIHI9IjMyIiBzdHJva2Utd2lkdGg9IjgiIHN0cm9rZT0iI2MzYzNjMyIgc3Ryb2tlLWRhc2hhcnJheT0iNTAuMjY1NDgyNDU3NDM2NjkgNTAuMjY1NDgyNDU3NDM2NjkiIGZpbGw9Im5vbmUiIHN0cm9rZS1saW5lY2FwPSJyb3VuZCI+ICAgIDxhbmltYXRlVHJhbnNmb3JtIGF0dHJpYnV0ZU5hbWU9InRyYW5zZm9ybSIgdHlwZT0icm90YXRlIiByZXBlYXRDb3VudD0iaW5kZWZpbml0ZSIgZHVyPSIxcyIga2V5VGltZXM9IjA7MSIgdmFsdWVzPSIwIDUwIDUwOzM2MCA1MCA1MCI+PC9hbmltYXRlVHJhbnNmb3JtPiAgPC9jaXJjbGU+PC9zdmc+\\\")\\n    }\\n    \");\n",
       "    },\n",
       "    function(Bokeh) {\n",
       "      Bokeh.set_log_level(\"info\");\n",
       "    },\n",
       "    function(Bokeh) {} // ensure no trailing comma for IE\n",
       "  ];\n",
       "\n",
       "  function run_inline_js() {\n",
       "    if ((root.Bokeh !== undefined) || (force === true)) {\n",
       "      for (var i = 0; i < inline_js.length; i++) {\n",
       "        inline_js[i].call(root, root.Bokeh);\n",
       "      }} else if (Date.now() < root._bokeh_timeout) {\n",
       "      setTimeout(run_inline_js, 100);\n",
       "    } else if (!root._bokeh_failed_load) {\n",
       "      console.log(\"Bokeh: BokehJS failed to load within specified timeout.\");\n",
       "      root._bokeh_failed_load = true;\n",
       "    }\n",
       "  }\n",
       "\n",
       "  if (root._bokeh_is_loading === 0) {\n",
       "    console.debug(\"Bokeh: BokehJS loaded, going straight to plotting\");\n",
       "    run_inline_js();\n",
       "  } else {\n",
       "    load_libs(css_urls, js_urls, js_modules, function() {\n",
       "      console.debug(\"Bokeh: BokehJS plotting callback run at\", now());\n",
       "      run_inline_js();\n",
       "    });\n",
       "  }\n",
       "}(window));"
      ],
      "application/vnd.holoviews_load.v0+json": "\n(function(root) {\n  function now() {\n    return new Date();\n  }\n\n  var force = true;\n\n  if (typeof root._bokeh_onload_callbacks === \"undefined\" || force === true) {\n    root._bokeh_onload_callbacks = [];\n    root._bokeh_is_loading = undefined;\n  }\n\n  if (typeof (root._bokeh_timeout) === \"undefined\" || force === true) {\n    root._bokeh_timeout = Date.now() + 5000;\n    root._bokeh_failed_load = false;\n  }\n\n  function run_callbacks() {\n    try {\n      root._bokeh_onload_callbacks.forEach(function(callback) {\n        if (callback != null)\n          callback();\n      });\n    } finally {\n      delete root._bokeh_onload_callbacks\n    }\n    console.debug(\"Bokeh: all callbacks have finished\");\n  }\n\n  function load_libs(css_urls, js_urls, js_modules, callback) {\n    if (css_urls == null) css_urls = [];\n    if (js_urls == null) js_urls = [];\n    if (js_modules == null) js_modules = [];\n\n    root._bokeh_onload_callbacks.push(callback);\n    if (root._bokeh_is_loading > 0) {\n      console.debug(\"Bokeh: BokehJS is being loaded, scheduling callback at\", now());\n      return null;\n    }\n    if (js_urls.length === 0 && js_modules.length === 0) {\n      run_callbacks();\n      return null;\n    }\n    console.debug(\"Bokeh: BokehJS not loaded, scheduling load and callback at\", now());\n    root._bokeh_is_loading = css_urls.length + js_urls.length + js_modules.length;\n\n    function on_load() {\n      root._bokeh_is_loading--;\n      if (root._bokeh_is_loading === 0) {\n        console.debug(\"Bokeh: all BokehJS libraries/stylesheets loaded\");\n        run_callbacks()\n      }\n    }\n\n    function on_error() {\n      console.error(\"failed to load \" + url);\n    }\n\n    for (var i = 0; i < css_urls.length; i++) {\n      var url = css_urls[i];\n      const element = document.createElement(\"link\");\n      element.onload = on_load;\n      element.onerror = on_error;\n      element.rel = \"stylesheet\";\n      element.type = \"text/css\";\n      element.href = url;\n      console.debug(\"Bokeh: injecting link tag for BokehJS stylesheet: \", url);\n      document.body.appendChild(element);\n    }\n\n    var skip = [];\n    if (window.requirejs) {\n      window.requirejs.config({'paths': {'tabulator': 'https://unpkg.com/tabulator-tables@4.9.3/dist/js/tabulator'}});\n      require([], function() {\n      })\n    }\n    if (((window['tabulator'] !== undefined) && (!(window['tabulator'] instanceof HTMLElement))) || window.requirejs) {\n      var urls = ['https://unpkg.com/tabulator-tables@4.9.3/dist/js/tabulator.js', 'https://unpkg.com/moment@2.27.0/moment.js'];\n      for (var i = 0; i < urls.length; i++) {\n        skip.push(urls[i])\n      }\n    }\n    for (var i = 0; i < js_urls.length; i++) {\n      var url = js_urls[i];\n      if (skip.indexOf(url) >= 0) { on_load(); continue; }\n      var element = document.createElement('script');\n      element.onload = on_load;\n      element.onerror = on_error;\n      element.async = false;\n      element.src = url;\n      console.debug(\"Bokeh: injecting script tag for BokehJS library: \", url);\n      document.head.appendChild(element);\n    }\n    for (var i = 0; i < js_modules.length; i++) {\n      var url = js_modules[i];\n      if (skip.indexOf(url) >= 0) { on_load(); continue; }\n      var element = document.createElement('script');\n      element.onload = on_load;\n      element.onerror = on_error;\n      element.async = false;\n      element.src = url;\n      element.type = \"module\";\n      console.debug(\"Bokeh: injecting script tag for BokehJS library: \", url);\n      document.head.appendChild(element);\n    }\n    if (!js_urls.length && !js_modules.length) {\n      on_load()\n    }\n  };\n\n  function inject_raw_css(css) {\n    const element = document.createElement(\"style\");\n    element.appendChild(document.createTextNode(css));\n    document.body.appendChild(element);\n  }\n\n  var js_urls = [\"https://unpkg.com/tabulator-tables@4.9.3/dist/js/tabulator.js\", \"https://unpkg.com/moment@2.27.0/moment.js\", \"https://cdn.bokeh.org/bokeh/release/bokeh-2.3.3.min.js\", \"https://cdn.bokeh.org/bokeh/release/bokeh-widgets-2.3.3.min.js\", \"https://cdn.bokeh.org/bokeh/release/bokeh-tables-2.3.3.min.js\", \"https://unpkg.com/@holoviz/panel@0.11.1/dist/panel.min.js\"];\n  var js_modules = [];\n  var css_urls = [\"https://unpkg.com/tabulator-tables@4.9.3/dist/css/tabulator_simple.min.css\", \"https://unpkg.com/@holoviz/panel@0.11.1/dist/css/widgets.css\", \"https://unpkg.com/@holoviz/panel@0.11.1/dist/css/loading.css\", \"https://unpkg.com/@holoviz/panel@0.11.1/dist/css/dataframe.css\", \"https://unpkg.com/@holoviz/panel@0.11.1/dist/css/alerts.css\", \"https://unpkg.com/@holoviz/panel@0.11.1/dist/css/markdown.css\", \"https://unpkg.com/@holoviz/panel@0.11.1/dist/css/json.css\", \"https://unpkg.com/@holoviz/panel@0.11.1/dist/css/card.css\"];\n  var inline_js = [\n    function(Bokeh) {\n      inject_raw_css(\"\\n    .bk.pn-loading.arcs:before {\\n      background-image: url(\\\"data:image/svg+xml;base64,PHN2ZyB4bWxucz0iaHR0cDovL3d3dy53My5vcmcvMjAwMC9zdmciIHhtbG5zOnhsaW5rPSJodHRwOi8vd3d3LnczLm9yZy8xOTk5L3hsaW5rIiBzdHlsZT0ibWFyZ2luOiBhdXRvOyBiYWNrZ3JvdW5kOiBub25lOyBkaXNwbGF5OiBibG9jazsgc2hhcGUtcmVuZGVyaW5nOiBhdXRvOyIgdmlld0JveD0iMCAwIDEwMCAxMDAiIHByZXNlcnZlQXNwZWN0UmF0aW89InhNaWRZTWlkIj4gIDxjaXJjbGUgY3g9IjUwIiBjeT0iNTAiIHI9IjMyIiBzdHJva2Utd2lkdGg9IjgiIHN0cm9rZT0iI2MzYzNjMyIgc3Ryb2tlLWRhc2hhcnJheT0iNTAuMjY1NDgyNDU3NDM2NjkgNTAuMjY1NDgyNDU3NDM2NjkiIGZpbGw9Im5vbmUiIHN0cm9rZS1saW5lY2FwPSJyb3VuZCI+ICAgIDxhbmltYXRlVHJhbnNmb3JtIGF0dHJpYnV0ZU5hbWU9InRyYW5zZm9ybSIgdHlwZT0icm90YXRlIiByZXBlYXRDb3VudD0iaW5kZWZpbml0ZSIgZHVyPSIxcyIga2V5VGltZXM9IjA7MSIgdmFsdWVzPSIwIDUwIDUwOzM2MCA1MCA1MCI+PC9hbmltYXRlVHJhbnNmb3JtPiAgPC9jaXJjbGU+PC9zdmc+\\\")\\n    }\\n    \");\n    },\n    function(Bokeh) {\n      Bokeh.set_log_level(\"info\");\n    },\n    function(Bokeh) {} // ensure no trailing comma for IE\n  ];\n\n  function run_inline_js() {\n    if ((root.Bokeh !== undefined) || (force === true)) {\n      for (var i = 0; i < inline_js.length; i++) {\n        inline_js[i].call(root, root.Bokeh);\n      }} else if (Date.now() < root._bokeh_timeout) {\n      setTimeout(run_inline_js, 100);\n    } else if (!root._bokeh_failed_load) {\n      console.log(\"Bokeh: BokehJS failed to load within specified timeout.\");\n      root._bokeh_failed_load = true;\n    }\n  }\n\n  if (root._bokeh_is_loading === 0) {\n    console.debug(\"Bokeh: BokehJS loaded, going straight to plotting\");\n    run_inline_js();\n  } else {\n    load_libs(css_urls, js_urls, js_modules, function() {\n      console.debug(\"Bokeh: BokehJS plotting callback run at\", now());\n      run_inline_js();\n    });\n  }\n}(window));"
     },
     "metadata": {},
     "output_type": "display_data"
    },
    {
     "data": {
      "application/javascript": [
       "\n",
       "if ((window.PyViz === undefined) || (window.PyViz instanceof HTMLElement)) {\n",
       "  window.PyViz = {comms: {}, comm_status:{}, kernels:{}, receivers: {}, plot_index: []}\n",
       "}\n",
       "\n",
       "\n",
       "    function JupyterCommManager() {\n",
       "    }\n",
       "\n",
       "    JupyterCommManager.prototype.register_target = function(plot_id, comm_id, msg_handler) {\n",
       "      if (window.comm_manager || ((window.Jupyter !== undefined) && (Jupyter.notebook.kernel != null))) {\n",
       "        var comm_manager = window.comm_manager || Jupyter.notebook.kernel.comm_manager;\n",
       "        comm_manager.register_target(comm_id, function(comm) {\n",
       "          comm.on_msg(msg_handler);\n",
       "        });\n",
       "      } else if ((plot_id in window.PyViz.kernels) && (window.PyViz.kernels[plot_id])) {\n",
       "        window.PyViz.kernels[plot_id].registerCommTarget(comm_id, function(comm) {\n",
       "          comm.onMsg = msg_handler;\n",
       "        });\n",
       "      } else if (typeof google != 'undefined' && google.colab.kernel != null) {\n",
       "        google.colab.kernel.comms.registerTarget(comm_id, (comm) => {\n",
       "          var messages = comm.messages[Symbol.asyncIterator]();\n",
       "          function processIteratorResult(result) {\n",
       "            var message = result.value;\n",
       "            console.log(message)\n",
       "            var content = {data: message.data, comm_id};\n",
       "            var buffers = []\n",
       "            for (var buffer of message.buffers || []) {\n",
       "              buffers.push(new DataView(buffer))\n",
       "            }\n",
       "            var metadata = message.metadata || {};\n",
       "            var msg = {content, buffers, metadata}\n",
       "            msg_handler(msg);\n",
       "            return messages.next().then(processIteratorResult);\n",
       "          }\n",
       "          return messages.next().then(processIteratorResult);\n",
       "        })\n",
       "      }\n",
       "    }\n",
       "\n",
       "    JupyterCommManager.prototype.get_client_comm = function(plot_id, comm_id, msg_handler) {\n",
       "      if (comm_id in window.PyViz.comms) {\n",
       "        return window.PyViz.comms[comm_id];\n",
       "      } else if (window.comm_manager || ((window.Jupyter !== undefined) && (Jupyter.notebook.kernel != null))) {\n",
       "        var comm_manager = window.comm_manager || Jupyter.notebook.kernel.comm_manager;\n",
       "        var comm = comm_manager.new_comm(comm_id, {}, {}, {}, comm_id);\n",
       "        if (msg_handler) {\n",
       "          comm.on_msg(msg_handler);\n",
       "        }\n",
       "      } else if ((plot_id in window.PyViz.kernels) && (window.PyViz.kernels[plot_id])) {\n",
       "        var comm = window.PyViz.kernels[plot_id].connectToComm(comm_id);\n",
       "        comm.open();\n",
       "        if (msg_handler) {\n",
       "          comm.onMsg = msg_handler;\n",
       "        }\n",
       "      } else if (typeof google != 'undefined' && google.colab.kernel != null) {\n",
       "        var comm_promise = google.colab.kernel.comms.open(comm_id)\n",
       "        comm_promise.then((comm) => {\n",
       "          window.PyViz.comms[comm_id] = comm;\n",
       "          if (msg_handler) {\n",
       "            var messages = comm.messages[Symbol.asyncIterator]();\n",
       "            function processIteratorResult(result) {\n",
       "              var message = result.value;\n",
       "              var content = {data: message.data};\n",
       "              var metadata = message.metadata || {comm_id};\n",
       "              var msg = {content, metadata}\n",
       "              msg_handler(msg);\n",
       "              return messages.next().then(processIteratorResult);\n",
       "            }\n",
       "            return messages.next().then(processIteratorResult);\n",
       "          }\n",
       "        }) \n",
       "        var sendClosure = (data, metadata, buffers, disposeOnDone) => {\n",
       "          return comm_promise.then((comm) => {\n",
       "            comm.send(data, metadata, buffers, disposeOnDone);\n",
       "          });\n",
       "        };\n",
       "        var comm = {\n",
       "          send: sendClosure\n",
       "        };\n",
       "      }\n",
       "      window.PyViz.comms[comm_id] = comm;\n",
       "      return comm;\n",
       "    }\n",
       "    window.PyViz.comm_manager = new JupyterCommManager();\n",
       "    \n",
       "\n",
       "\n",
       "var JS_MIME_TYPE = 'application/javascript';\n",
       "var HTML_MIME_TYPE = 'text/html';\n",
       "var EXEC_MIME_TYPE = 'application/vnd.holoviews_exec.v0+json';\n",
       "var CLASS_NAME = 'output';\n",
       "\n",
       "/**\n",
       " * Render data to the DOM node\n",
       " */\n",
       "function render(props, node) {\n",
       "  var div = document.createElement(\"div\");\n",
       "  var script = document.createElement(\"script\");\n",
       "  node.appendChild(div);\n",
       "  node.appendChild(script);\n",
       "}\n",
       "\n",
       "/**\n",
       " * Handle when a new output is added\n",
       " */\n",
       "function handle_add_output(event, handle) {\n",
       "  var output_area = handle.output_area;\n",
       "  var output = handle.output;\n",
       "  if ((output.data == undefined) || (!output.data.hasOwnProperty(EXEC_MIME_TYPE))) {\n",
       "    return\n",
       "  }\n",
       "  var id = output.metadata[EXEC_MIME_TYPE][\"id\"];\n",
       "  var toinsert = output_area.element.find(\".\" + CLASS_NAME.split(' ')[0]);\n",
       "  if (id !== undefined) {\n",
       "    var nchildren = toinsert.length;\n",
       "    var html_node = toinsert[nchildren-1].children[0];\n",
       "    html_node.innerHTML = output.data[HTML_MIME_TYPE];\n",
       "    var scripts = [];\n",
       "    var nodelist = html_node.querySelectorAll(\"script\");\n",
       "    for (var i in nodelist) {\n",
       "      if (nodelist.hasOwnProperty(i)) {\n",
       "        scripts.push(nodelist[i])\n",
       "      }\n",
       "    }\n",
       "\n",
       "    scripts.forEach( function (oldScript) {\n",
       "      var newScript = document.createElement(\"script\");\n",
       "      var attrs = [];\n",
       "      var nodemap = oldScript.attributes;\n",
       "      for (var j in nodemap) {\n",
       "        if (nodemap.hasOwnProperty(j)) {\n",
       "          attrs.push(nodemap[j])\n",
       "        }\n",
       "      }\n",
       "      attrs.forEach(function(attr) { newScript.setAttribute(attr.name, attr.value) });\n",
       "      newScript.appendChild(document.createTextNode(oldScript.innerHTML));\n",
       "      oldScript.parentNode.replaceChild(newScript, oldScript);\n",
       "    });\n",
       "    if (JS_MIME_TYPE in output.data) {\n",
       "      toinsert[nchildren-1].children[1].textContent = output.data[JS_MIME_TYPE];\n",
       "    }\n",
       "    output_area._hv_plot_id = id;\n",
       "    if ((window.Bokeh !== undefined) && (id in Bokeh.index)) {\n",
       "      window.PyViz.plot_index[id] = Bokeh.index[id];\n",
       "    } else {\n",
       "      window.PyViz.plot_index[id] = null;\n",
       "    }\n",
       "  } else if (output.metadata[EXEC_MIME_TYPE][\"server_id\"] !== undefined) {\n",
       "    var bk_div = document.createElement(\"div\");\n",
       "    bk_div.innerHTML = output.data[HTML_MIME_TYPE];\n",
       "    var script_attrs = bk_div.children[0].attributes;\n",
       "    for (var i = 0; i < script_attrs.length; i++) {\n",
       "      toinsert[toinsert.length - 1].childNodes[1].setAttribute(script_attrs[i].name, script_attrs[i].value);\n",
       "    }\n",
       "    // store reference to server id on output_area\n",
       "    output_area._bokeh_server_id = output.metadata[EXEC_MIME_TYPE][\"server_id\"];\n",
       "  }\n",
       "}\n",
       "\n",
       "/**\n",
       " * Handle when an output is cleared or removed\n",
       " */\n",
       "function handle_clear_output(event, handle) {\n",
       "  var id = handle.cell.output_area._hv_plot_id;\n",
       "  var server_id = handle.cell.output_area._bokeh_server_id;\n",
       "  if (((id === undefined) || !(id in PyViz.plot_index)) && (server_id !== undefined)) { return; }\n",
       "  var comm = window.PyViz.comm_manager.get_client_comm(\"hv-extension-comm\", \"hv-extension-comm\", function () {});\n",
       "  if (server_id !== null) {\n",
       "    comm.send({event_type: 'server_delete', 'id': server_id});\n",
       "    return;\n",
       "  } else if (comm !== null) {\n",
       "    comm.send({event_type: 'delete', 'id': id});\n",
       "  }\n",
       "  delete PyViz.plot_index[id];\n",
       "  if ((window.Bokeh !== undefined) & (id in window.Bokeh.index)) {\n",
       "    var doc = window.Bokeh.index[id].model.document\n",
       "    doc.clear();\n",
       "    const i = window.Bokeh.documents.indexOf(doc);\n",
       "    if (i > -1) {\n",
       "      window.Bokeh.documents.splice(i, 1);\n",
       "    }\n",
       "  }\n",
       "}\n",
       "\n",
       "/**\n",
       " * Handle kernel restart event\n",
       " */\n",
       "function handle_kernel_cleanup(event, handle) {\n",
       "  delete PyViz.comms[\"hv-extension-comm\"];\n",
       "  window.PyViz.plot_index = {}\n",
       "}\n",
       "\n",
       "/**\n",
       " * Handle update_display_data messages\n",
       " */\n",
       "function handle_update_output(event, handle) {\n",
       "  handle_clear_output(event, {cell: {output_area: handle.output_area}})\n",
       "  handle_add_output(event, handle)\n",
       "}\n",
       "\n",
       "function register_renderer(events, OutputArea) {\n",
       "  function append_mime(data, metadata, element) {\n",
       "    // create a DOM node to render to\n",
       "    var toinsert = this.create_output_subarea(\n",
       "    metadata,\n",
       "    CLASS_NAME,\n",
       "    EXEC_MIME_TYPE\n",
       "    );\n",
       "    this.keyboard_manager.register_events(toinsert);\n",
       "    // Render to node\n",
       "    var props = {data: data, metadata: metadata[EXEC_MIME_TYPE]};\n",
       "    render(props, toinsert[0]);\n",
       "    element.append(toinsert);\n",
       "    return toinsert\n",
       "  }\n",
       "\n",
       "  events.on('output_added.OutputArea', handle_add_output);\n",
       "  events.on('output_updated.OutputArea', handle_update_output);\n",
       "  events.on('clear_output.CodeCell', handle_clear_output);\n",
       "  events.on('delete.Cell', handle_clear_output);\n",
       "  events.on('kernel_ready.Kernel', handle_kernel_cleanup);\n",
       "\n",
       "  OutputArea.prototype.register_mime_type(EXEC_MIME_TYPE, append_mime, {\n",
       "    safe: true,\n",
       "    index: 0\n",
       "  });\n",
       "}\n",
       "\n",
       "if (window.Jupyter !== undefined) {\n",
       "  try {\n",
       "    var events = require('base/js/events');\n",
       "    var OutputArea = require('notebook/js/outputarea').OutputArea;\n",
       "    if (OutputArea.prototype.mime_types().indexOf(EXEC_MIME_TYPE) == -1) {\n",
       "      register_renderer(events, OutputArea);\n",
       "    }\n",
       "  } catch(err) {\n",
       "  }\n",
       "}\n"
      ],
      "application/vnd.holoviews_load.v0+json": "\nif ((window.PyViz === undefined) || (window.PyViz instanceof HTMLElement)) {\n  window.PyViz = {comms: {}, comm_status:{}, kernels:{}, receivers: {}, plot_index: []}\n}\n\n\n    function JupyterCommManager() {\n    }\n\n    JupyterCommManager.prototype.register_target = function(plot_id, comm_id, msg_handler) {\n      if (window.comm_manager || ((window.Jupyter !== undefined) && (Jupyter.notebook.kernel != null))) {\n        var comm_manager = window.comm_manager || Jupyter.notebook.kernel.comm_manager;\n        comm_manager.register_target(comm_id, function(comm) {\n          comm.on_msg(msg_handler);\n        });\n      } else if ((plot_id in window.PyViz.kernels) && (window.PyViz.kernels[plot_id])) {\n        window.PyViz.kernels[plot_id].registerCommTarget(comm_id, function(comm) {\n          comm.onMsg = msg_handler;\n        });\n      } else if (typeof google != 'undefined' && google.colab.kernel != null) {\n        google.colab.kernel.comms.registerTarget(comm_id, (comm) => {\n          var messages = comm.messages[Symbol.asyncIterator]();\n          function processIteratorResult(result) {\n            var message = result.value;\n            console.log(message)\n            var content = {data: message.data, comm_id};\n            var buffers = []\n            for (var buffer of message.buffers || []) {\n              buffers.push(new DataView(buffer))\n            }\n            var metadata = message.metadata || {};\n            var msg = {content, buffers, metadata}\n            msg_handler(msg);\n            return messages.next().then(processIteratorResult);\n          }\n          return messages.next().then(processIteratorResult);\n        })\n      }\n    }\n\n    JupyterCommManager.prototype.get_client_comm = function(plot_id, comm_id, msg_handler) {\n      if (comm_id in window.PyViz.comms) {\n        return window.PyViz.comms[comm_id];\n      } else if (window.comm_manager || ((window.Jupyter !== undefined) && (Jupyter.notebook.kernel != null))) {\n        var comm_manager = window.comm_manager || Jupyter.notebook.kernel.comm_manager;\n        var comm = comm_manager.new_comm(comm_id, {}, {}, {}, comm_id);\n        if (msg_handler) {\n          comm.on_msg(msg_handler);\n        }\n      } else if ((plot_id in window.PyViz.kernels) && (window.PyViz.kernels[plot_id])) {\n        var comm = window.PyViz.kernels[plot_id].connectToComm(comm_id);\n        comm.open();\n        if (msg_handler) {\n          comm.onMsg = msg_handler;\n        }\n      } else if (typeof google != 'undefined' && google.colab.kernel != null) {\n        var comm_promise = google.colab.kernel.comms.open(comm_id)\n        comm_promise.then((comm) => {\n          window.PyViz.comms[comm_id] = comm;\n          if (msg_handler) {\n            var messages = comm.messages[Symbol.asyncIterator]();\n            function processIteratorResult(result) {\n              var message = result.value;\n              var content = {data: message.data};\n              var metadata = message.metadata || {comm_id};\n              var msg = {content, metadata}\n              msg_handler(msg);\n              return messages.next().then(processIteratorResult);\n            }\n            return messages.next().then(processIteratorResult);\n          }\n        }) \n        var sendClosure = (data, metadata, buffers, disposeOnDone) => {\n          return comm_promise.then((comm) => {\n            comm.send(data, metadata, buffers, disposeOnDone);\n          });\n        };\n        var comm = {\n          send: sendClosure\n        };\n      }\n      window.PyViz.comms[comm_id] = comm;\n      return comm;\n    }\n    window.PyViz.comm_manager = new JupyterCommManager();\n    \n\n\nvar JS_MIME_TYPE = 'application/javascript';\nvar HTML_MIME_TYPE = 'text/html';\nvar EXEC_MIME_TYPE = 'application/vnd.holoviews_exec.v0+json';\nvar CLASS_NAME = 'output';\n\n/**\n * Render data to the DOM node\n */\nfunction render(props, node) {\n  var div = document.createElement(\"div\");\n  var script = document.createElement(\"script\");\n  node.appendChild(div);\n  node.appendChild(script);\n}\n\n/**\n * Handle when a new output is added\n */\nfunction handle_add_output(event, handle) {\n  var output_area = handle.output_area;\n  var output = handle.output;\n  if ((output.data == undefined) || (!output.data.hasOwnProperty(EXEC_MIME_TYPE))) {\n    return\n  }\n  var id = output.metadata[EXEC_MIME_TYPE][\"id\"];\n  var toinsert = output_area.element.find(\".\" + CLASS_NAME.split(' ')[0]);\n  if (id !== undefined) {\n    var nchildren = toinsert.length;\n    var html_node = toinsert[nchildren-1].children[0];\n    html_node.innerHTML = output.data[HTML_MIME_TYPE];\n    var scripts = [];\n    var nodelist = html_node.querySelectorAll(\"script\");\n    for (var i in nodelist) {\n      if (nodelist.hasOwnProperty(i)) {\n        scripts.push(nodelist[i])\n      }\n    }\n\n    scripts.forEach( function (oldScript) {\n      var newScript = document.createElement(\"script\");\n      var attrs = [];\n      var nodemap = oldScript.attributes;\n      for (var j in nodemap) {\n        if (nodemap.hasOwnProperty(j)) {\n          attrs.push(nodemap[j])\n        }\n      }\n      attrs.forEach(function(attr) { newScript.setAttribute(attr.name, attr.value) });\n      newScript.appendChild(document.createTextNode(oldScript.innerHTML));\n      oldScript.parentNode.replaceChild(newScript, oldScript);\n    });\n    if (JS_MIME_TYPE in output.data) {\n      toinsert[nchildren-1].children[1].textContent = output.data[JS_MIME_TYPE];\n    }\n    output_area._hv_plot_id = id;\n    if ((window.Bokeh !== undefined) && (id in Bokeh.index)) {\n      window.PyViz.plot_index[id] = Bokeh.index[id];\n    } else {\n      window.PyViz.plot_index[id] = null;\n    }\n  } else if (output.metadata[EXEC_MIME_TYPE][\"server_id\"] !== undefined) {\n    var bk_div = document.createElement(\"div\");\n    bk_div.innerHTML = output.data[HTML_MIME_TYPE];\n    var script_attrs = bk_div.children[0].attributes;\n    for (var i = 0; i < script_attrs.length; i++) {\n      toinsert[toinsert.length - 1].childNodes[1].setAttribute(script_attrs[i].name, script_attrs[i].value);\n    }\n    // store reference to server id on output_area\n    output_area._bokeh_server_id = output.metadata[EXEC_MIME_TYPE][\"server_id\"];\n  }\n}\n\n/**\n * Handle when an output is cleared or removed\n */\nfunction handle_clear_output(event, handle) {\n  var id = handle.cell.output_area._hv_plot_id;\n  var server_id = handle.cell.output_area._bokeh_server_id;\n  if (((id === undefined) || !(id in PyViz.plot_index)) && (server_id !== undefined)) { return; }\n  var comm = window.PyViz.comm_manager.get_client_comm(\"hv-extension-comm\", \"hv-extension-comm\", function () {});\n  if (server_id !== null) {\n    comm.send({event_type: 'server_delete', 'id': server_id});\n    return;\n  } else if (comm !== null) {\n    comm.send({event_type: 'delete', 'id': id});\n  }\n  delete PyViz.plot_index[id];\n  if ((window.Bokeh !== undefined) & (id in window.Bokeh.index)) {\n    var doc = window.Bokeh.index[id].model.document\n    doc.clear();\n    const i = window.Bokeh.documents.indexOf(doc);\n    if (i > -1) {\n      window.Bokeh.documents.splice(i, 1);\n    }\n  }\n}\n\n/**\n * Handle kernel restart event\n */\nfunction handle_kernel_cleanup(event, handle) {\n  delete PyViz.comms[\"hv-extension-comm\"];\n  window.PyViz.plot_index = {}\n}\n\n/**\n * Handle update_display_data messages\n */\nfunction handle_update_output(event, handle) {\n  handle_clear_output(event, {cell: {output_area: handle.output_area}})\n  handle_add_output(event, handle)\n}\n\nfunction register_renderer(events, OutputArea) {\n  function append_mime(data, metadata, element) {\n    // create a DOM node to render to\n    var toinsert = this.create_output_subarea(\n    metadata,\n    CLASS_NAME,\n    EXEC_MIME_TYPE\n    );\n    this.keyboard_manager.register_events(toinsert);\n    // Render to node\n    var props = {data: data, metadata: metadata[EXEC_MIME_TYPE]};\n    render(props, toinsert[0]);\n    element.append(toinsert);\n    return toinsert\n  }\n\n  events.on('output_added.OutputArea', handle_add_output);\n  events.on('output_updated.OutputArea', handle_update_output);\n  events.on('clear_output.CodeCell', handle_clear_output);\n  events.on('delete.Cell', handle_clear_output);\n  events.on('kernel_ready.Kernel', handle_kernel_cleanup);\n\n  OutputArea.prototype.register_mime_type(EXEC_MIME_TYPE, append_mime, {\n    safe: true,\n    index: 0\n  });\n}\n\nif (window.Jupyter !== undefined) {\n  try {\n    var events = require('base/js/events');\n    var OutputArea = require('notebook/js/outputarea').OutputArea;\n    if (OutputArea.prototype.mime_types().indexOf(EXEC_MIME_TYPE) == -1) {\n      register_renderer(events, OutputArea);\n    }\n  } catch(err) {\n  }\n}\n"
     },
     "metadata": {},
     "output_type": "display_data"
    },
    {
     "data": {
      "application/vnd.holoviews_exec.v0+json": "",
      "text/html": [
       "<div id='1031'>\n",
       "\n",
       "\n",
       "\n",
       "\n",
       "\n",
       "  <div class=\"bk-root\" id=\"1cc5fc32-340a-483b-be03-e3ea6efe03f3\" data-root-id=\"1031\"></div>\n",
       "</div>\n",
       "<script type=\"application/javascript\">(function(root) {\n",
       "  function embed_document(root) {\n",
       "    var docs_json = {\"a100a00a-4bcd-434d-b693-9dd0fbc5dbe0\":{\"defs\":[],\"roots\":{\"references\":[{\"attributes\":{\"state\":{\"O. barthii\":{\"content\":\"{\\\"events\\\": [{\\\"attr\\\": \\\"text\\\", \\\"kind\\\": \\\"ModelChanged\\\", \\\"model\\\": {\\\"id\\\": \\\"1042\\\"}, \\\"new\\\": \\\"&lt;table border=&quot;0&quot; class=&quot;dataframe panel-df&quot;&gt;\\\\n  &lt;thead&gt;\\\\n    &lt;tr style=&quot;text-align: right;&quot;&gt;\\\\n      &lt;th&gt;&lt;/th&gt;\\\\n      &lt;th&gt;sample&lt;/th&gt;\\\\n      &lt;th&gt;Species&lt;/th&gt;\\\\n    &lt;/tr&gt;\\\\n  &lt;/thead&gt;\\\\n  &lt;tbody&gt;\\\\n    &lt;tr&gt;\\\\n      &lt;th&gt;164&lt;/th&gt;\\\\n      &lt;td&gt;AA&lt;/td&gt;\\\\n      &lt;td&gt;O. barthii&lt;/td&gt;\\\\n    &lt;/tr&gt;\\\\n    &lt;tr&gt;\\\\n      &lt;th&gt;165&lt;/th&gt;\\\\n      &lt;td&gt;AB&lt;/td&gt;\\\\n      &lt;td&gt;O. barthii&lt;/td&gt;\\\\n    &lt;/tr&gt;\\\\n    &lt;tr&gt;\\\\n      &lt;th&gt;166&lt;/th&gt;\\\\n      &lt;td&gt;AC&lt;/td&gt;\\\\n      &lt;td&gt;O. barthii&lt;/td&gt;\\\\n    &lt;/tr&gt;\\\\n    &lt;tr&gt;\\\\n      &lt;th&gt;167&lt;/th&gt;\\\\n      &lt;td&gt;AD&lt;/td&gt;\\\\n      &lt;td&gt;O. barthii&lt;/td&gt;\\\\n    &lt;/tr&gt;\\\\n    &lt;tr&gt;\\\\n      &lt;th&gt;168&lt;/th&gt;\\\\n      &lt;td&gt;AEbis&lt;/td&gt;\\\\n      &lt;td&gt;O. barthii&lt;/td&gt;\\\\n    &lt;/tr&gt;\\\\n    &lt;tr&gt;\\\\n      &lt;th&gt;169&lt;/th&gt;\\\\n      &lt;td&gt;AE&lt;/td&gt;\\\\n      &lt;td&gt;O. barthii&lt;/td&gt;\\\\n    &lt;/tr&gt;\\\\n    &lt;tr&gt;\\\\n      &lt;th&gt;170&lt;/th&gt;\\\\n      &lt;td&gt;AF&lt;/td&gt;\\\\n      &lt;td&gt;O. barthii&lt;/td&gt;\\\\n    &lt;/tr&gt;\\\\n    &lt;tr&gt;\\\\n      &lt;th&gt;171&lt;/th&gt;\\\\n      &lt;td&gt;AG&lt;/td&gt;\\\\n      &lt;td&gt;O. barthii&lt;/td&gt;\\\\n    &lt;/tr&gt;\\\\n    &lt;tr&gt;\\\\n      &lt;th&gt;172&lt;/th&gt;\\\\n      &lt;td&gt;AH&lt;/td&gt;\\\\n      &lt;td&gt;O. barthii&lt;/td&gt;\\\\n    &lt;/tr&gt;\\\\n    &lt;tr&gt;\\\\n      &lt;th&gt;173&lt;/th&gt;\\\\n      &lt;td&gt;AI&lt;/td&gt;\\\\n      &lt;td&gt;O. barthii&lt;/td&gt;\\\\n    &lt;/tr&gt;\\\\n    &lt;tr&gt;\\\\n      &lt;th&gt;174&lt;/th&gt;\\\\n      &lt;td&gt;AK&lt;/td&gt;\\\\n      &lt;td&gt;O. barthii&lt;/td&gt;\\\\n    &lt;/tr&gt;\\\\n    &lt;tr&gt;\\\\n      &lt;th&gt;175&lt;/th&gt;\\\\n      &lt;td&gt;AL&lt;/td&gt;\\\\n      &lt;td&gt;O. barthii&lt;/td&gt;\\\\n    &lt;/tr&gt;\\\\n    &lt;tr&gt;\\\\n      &lt;th&gt;176&lt;/th&gt;\\\\n      &lt;td&gt;AM&lt;/td&gt;\\\\n      &lt;td&gt;O. barthii&lt;/td&gt;\\\\n    &lt;/tr&gt;\\\\n    &lt;tr&gt;\\\\n      &lt;th&gt;177&lt;/th&gt;\\\\n      &lt;td&gt;AN&lt;/td&gt;\\\\n      &lt;td&gt;O. barthii&lt;/td&gt;\\\\n    &lt;/tr&gt;\\\\n    &lt;tr&gt;\\\\n      &lt;th&gt;178&lt;/th&gt;\\\\n      &lt;td&gt;AP&lt;/td&gt;\\\\n      &lt;td&gt;O. barthii&lt;/td&gt;\\\\n    &lt;/tr&gt;\\\\n    &lt;tr&gt;\\\\n      &lt;th&gt;179&lt;/th&gt;\\\\n      &lt;td&gt;AQ&lt;/td&gt;\\\\n      &lt;td&gt;O. barthii&lt;/td&gt;\\\\n    &lt;/tr&gt;\\\\n    &lt;tr&gt;\\\\n      &lt;th&gt;180&lt;/th&gt;\\\\n      &lt;td&gt;AR&lt;/td&gt;\\\\n      &lt;td&gt;O. barthii&lt;/td&gt;\\\\n    &lt;/tr&gt;\\\\n    &lt;tr&gt;\\\\n      &lt;th&gt;181&lt;/th&gt;\\\\n      &lt;td&gt;AS&lt;/td&gt;\\\\n      &lt;td&gt;O. barthii&lt;/td&gt;\\\\n    &lt;/tr&gt;\\\\n    &lt;tr&gt;\\\\n      &lt;th&gt;182&lt;/th&gt;\\\\n      &lt;td&gt;AT&lt;/td&gt;\\\\n      &lt;td&gt;O. barthii&lt;/td&gt;\\\\n    &lt;/tr&gt;\\\\n    &lt;tr&gt;\\\\n      &lt;th&gt;183&lt;/th&gt;\\\\n      &lt;td&gt;AV&lt;/td&gt;\\\\n      &lt;td&gt;O. barthii&lt;/td&gt;\\\\n    &lt;/tr&gt;\\\\n    &lt;tr&gt;\\\\n      &lt;th&gt;184&lt;/th&gt;\\\\n      &lt;td&gt;BA&lt;/td&gt;\\\\n      &lt;td&gt;O. barthii&lt;/td&gt;\\\\n    &lt;/tr&gt;\\\\n    &lt;tr&gt;\\\\n      &lt;th&gt;185&lt;/th&gt;\\\\n      &lt;td&gt;BB&lt;/td&gt;\\\\n      &lt;td&gt;O. barthii&lt;/td&gt;\\\\n    &lt;/tr&gt;\\\\n    &lt;tr&gt;\\\\n      &lt;th&gt;186&lt;/th&gt;\\\\n      &lt;td&gt;BC&lt;/td&gt;\\\\n      &lt;td&gt;O. barthii&lt;/td&gt;\\\\n    &lt;/tr&gt;\\\\n    &lt;tr&gt;\\\\n      &lt;th&gt;187&lt;/th&gt;\\\\n      &lt;td&gt;BD&lt;/td&gt;\\\\n      &lt;td&gt;O. barthii&lt;/td&gt;\\\\n    &lt;/tr&gt;\\\\n    &lt;tr&gt;\\\\n      &lt;th&gt;188&lt;/th&gt;\\\\n      &lt;td&gt;BE&lt;/td&gt;\\\\n      &lt;td&gt;O. barthii&lt;/td&gt;\\\\n    &lt;/tr&gt;\\\\n    &lt;tr&gt;\\\\n      &lt;th&gt;189&lt;/th&gt;\\\\n      &lt;td&gt;BF&lt;/td&gt;\\\\n      &lt;td&gt;O. barthii&lt;/td&gt;\\\\n    &lt;/tr&gt;\\\\n    &lt;tr&gt;\\\\n      &lt;th&gt;190&lt;/th&gt;\\\\n      &lt;td&gt;BG&lt;/td&gt;\\\\n      &lt;td&gt;O. barthii&lt;/td&gt;\\\\n    &lt;/tr&gt;\\\\n    &lt;tr&gt;\\\\n      &lt;th&gt;191&lt;/th&gt;\\\\n      &lt;td&gt;BH&lt;/td&gt;\\\\n      &lt;td&gt;O. barthii&lt;/td&gt;\\\\n    &lt;/tr&gt;\\\\n    &lt;tr&gt;\\\\n      &lt;th&gt;192&lt;/th&gt;\\\\n      &lt;td&gt;BI&lt;/td&gt;\\\\n      &lt;td&gt;O. barthii&lt;/td&gt;\\\\n    &lt;/tr&gt;\\\\n    &lt;tr&gt;\\\\n      &lt;th&gt;193&lt;/th&gt;\\\\n      &lt;td&gt;BK&lt;/td&gt;\\\\n      &lt;td&gt;O. barthii&lt;/td&gt;\\\\n    &lt;/tr&gt;\\\\n    &lt;tr&gt;\\\\n      &lt;th&gt;194&lt;/th&gt;\\\\n      &lt;td&gt;BL&lt;/td&gt;\\\\n      &lt;td&gt;O. barthii&lt;/td&gt;\\\\n    &lt;/tr&gt;\\\\n    &lt;tr&gt;\\\\n      &lt;th&gt;195&lt;/th&gt;\\\\n      &lt;td&gt;BM&lt;/td&gt;\\\\n      &lt;td&gt;O. barthii&lt;/td&gt;\\\\n    &lt;/tr&gt;\\\\n    &lt;tr&gt;\\\\n      &lt;th&gt;196&lt;/th&gt;\\\\n      &lt;td&gt;BN&lt;/td&gt;\\\\n      &lt;td&gt;O. barthii&lt;/td&gt;\\\\n    &lt;/tr&gt;\\\\n    &lt;tr&gt;\\\\n      &lt;th&gt;197&lt;/th&gt;\\\\n      &lt;td&gt;BP&lt;/td&gt;\\\\n      &lt;td&gt;O. barthii&lt;/td&gt;\\\\n    &lt;/tr&gt;\\\\n    &lt;tr&gt;\\\\n      &lt;th&gt;198&lt;/th&gt;\\\\n      &lt;td&gt;BQ&lt;/td&gt;\\\\n      &lt;td&gt;O. barthii&lt;/td&gt;\\\\n    &lt;/tr&gt;\\\\n    &lt;tr&gt;\\\\n      &lt;th&gt;199&lt;/th&gt;\\\\n      &lt;td&gt;BR&lt;/td&gt;\\\\n      &lt;td&gt;O. barthii&lt;/td&gt;\\\\n    &lt;/tr&gt;\\\\n    &lt;tr&gt;\\\\n      &lt;th&gt;200&lt;/th&gt;\\\\n      &lt;td&gt;BS&lt;/td&gt;\\\\n      &lt;td&gt;O. barthii&lt;/td&gt;\\\\n    &lt;/tr&gt;\\\\n    &lt;tr&gt;\\\\n      &lt;th&gt;201&lt;/th&gt;\\\\n      &lt;td&gt;BT&lt;/td&gt;\\\\n      &lt;td&gt;O. barthii&lt;/td&gt;\\\\n    &lt;/tr&gt;\\\\n    &lt;tr&gt;\\\\n      &lt;th&gt;202&lt;/th&gt;\\\\n      &lt;td&gt;BV&lt;/td&gt;\\\\n      &lt;td&gt;O. barthii&lt;/td&gt;\\\\n    &lt;/tr&gt;\\\\n    &lt;tr&gt;\\\\n      &lt;th&gt;203&lt;/th&gt;\\\\n      &lt;td&gt;CA&lt;/td&gt;\\\\n      &lt;td&gt;O. barthii&lt;/td&gt;\\\\n    &lt;/tr&gt;\\\\n    &lt;tr&gt;\\\\n      &lt;th&gt;204&lt;/th&gt;\\\\n      &lt;td&gt;CBbis&lt;/td&gt;\\\\n      &lt;td&gt;O. barthii&lt;/td&gt;\\\\n    &lt;/tr&gt;\\\\n    &lt;tr&gt;\\\\n      &lt;th&gt;205&lt;/th&gt;\\\\n      &lt;td&gt;CB&lt;/td&gt;\\\\n      &lt;td&gt;O. barthii&lt;/td&gt;\\\\n    &lt;/tr&gt;\\\\n    &lt;tr&gt;\\\\n      &lt;th&gt;206&lt;/th&gt;\\\\n      &lt;td&gt;CC&lt;/td&gt;\\\\n      &lt;td&gt;O. barthii&lt;/td&gt;\\\\n    &lt;/tr&gt;\\\\n    &lt;tr&gt;\\\\n      &lt;th&gt;207&lt;/th&gt;\\\\n      &lt;td&gt;CD&lt;/td&gt;\\\\n      &lt;td&gt;O. barthii&lt;/td&gt;\\\\n    &lt;/tr&gt;\\\\n    &lt;tr&gt;\\\\n      &lt;th&gt;208&lt;/th&gt;\\\\n      &lt;td&gt;CE&lt;/td&gt;\\\\n      &lt;td&gt;O. barthii&lt;/td&gt;\\\\n    &lt;/tr&gt;\\\\n    &lt;tr&gt;\\\\n      &lt;th&gt;209&lt;/th&gt;\\\\n      &lt;td&gt;CF&lt;/td&gt;\\\\n      &lt;td&gt;O. barthii&lt;/td&gt;\\\\n    &lt;/tr&gt;\\\\n    &lt;tr&gt;\\\\n      &lt;th&gt;210&lt;/th&gt;\\\\n      &lt;td&gt;CG&lt;/td&gt;\\\\n      &lt;td&gt;O. barthii&lt;/td&gt;\\\\n    &lt;/tr&gt;\\\\n    &lt;tr&gt;\\\\n      &lt;th&gt;211&lt;/th&gt;\\\\n      &lt;td&gt;CH&lt;/td&gt;\\\\n      &lt;td&gt;O. barthii&lt;/td&gt;\\\\n    &lt;/tr&gt;\\\\n    &lt;tr&gt;\\\\n      &lt;th&gt;212&lt;/th&gt;\\\\n      &lt;td&gt;CI&lt;/td&gt;\\\\n      &lt;td&gt;O. barthii&lt;/td&gt;\\\\n    &lt;/tr&gt;\\\\n    &lt;tr&gt;\\\\n      &lt;th&gt;213&lt;/th&gt;\\\\n      &lt;td&gt;CK&lt;/td&gt;\\\\n      &lt;td&gt;O. barthii&lt;/td&gt;\\\\n    &lt;/tr&gt;\\\\n    &lt;tr&gt;\\\\n      &lt;th&gt;214&lt;/th&gt;\\\\n      &lt;td&gt;CL&lt;/td&gt;\\\\n      &lt;td&gt;O. barthii&lt;/td&gt;\\\\n    &lt;/tr&gt;\\\\n    &lt;tr&gt;\\\\n      &lt;th&gt;215&lt;/th&gt;\\\\n      &lt;td&gt;CM&lt;/td&gt;\\\\n      &lt;td&gt;O. barthii&lt;/td&gt;\\\\n    &lt;/tr&gt;\\\\n    &lt;tr&gt;\\\\n      &lt;th&gt;216&lt;/th&gt;\\\\n      &lt;td&gt;CN&lt;/td&gt;\\\\n      &lt;td&gt;O. barthii&lt;/td&gt;\\\\n    &lt;/tr&gt;\\\\n    &lt;tr&gt;\\\\n      &lt;th&gt;217&lt;/th&gt;\\\\n      &lt;td&gt;CP&lt;/td&gt;\\\\n      &lt;td&gt;O. barthii&lt;/td&gt;\\\\n    &lt;/tr&gt;\\\\n    &lt;tr&gt;\\\\n      &lt;th&gt;218&lt;/th&gt;\\\\n      &lt;td&gt;CQ&lt;/td&gt;\\\\n      &lt;td&gt;O. barthii&lt;/td&gt;\\\\n    &lt;/tr&gt;\\\\n    &lt;tr&gt;\\\\n      &lt;th&gt;219&lt;/th&gt;\\\\n      &lt;td&gt;CR&lt;/td&gt;\\\\n      &lt;td&gt;O. barthii&lt;/td&gt;\\\\n    &lt;/tr&gt;\\\\n    &lt;tr&gt;\\\\n      &lt;th&gt;220&lt;/th&gt;\\\\n      &lt;td&gt;CS&lt;/td&gt;\\\\n      &lt;td&gt;O. barthii&lt;/td&gt;\\\\n    &lt;/tr&gt;\\\\n    &lt;tr&gt;\\\\n      &lt;th&gt;221&lt;/th&gt;\\\\n      &lt;td&gt;CT&lt;/td&gt;\\\\n      &lt;td&gt;O. barthii&lt;/td&gt;\\\\n    &lt;/tr&gt;\\\\n    &lt;tr&gt;\\\\n      &lt;th&gt;222&lt;/th&gt;\\\\n      &lt;td&gt;CV&lt;/td&gt;\\\\n      &lt;td&gt;O. barthii&lt;/td&gt;\\\\n    &lt;/tr&gt;\\\\n    &lt;tr&gt;\\\\n      &lt;th&gt;223&lt;/th&gt;\\\\n      &lt;td&gt;DA&lt;/td&gt;\\\\n      &lt;td&gt;O. barthii&lt;/td&gt;\\\\n    &lt;/tr&gt;\\\\n    &lt;tr&gt;\\\\n      &lt;th&gt;224&lt;/th&gt;\\\\n      &lt;td&gt;DB&lt;/td&gt;\\\\n      &lt;td&gt;O. barthii&lt;/td&gt;\\\\n    &lt;/tr&gt;\\\\n    &lt;tr&gt;\\\\n      &lt;th&gt;225&lt;/th&gt;\\\\n      &lt;td&gt;DC&lt;/td&gt;\\\\n      &lt;td&gt;O. barthii&lt;/td&gt;\\\\n    &lt;/tr&gt;\\\\n    &lt;tr&gt;\\\\n      &lt;th&gt;226&lt;/th&gt;\\\\n      &lt;td&gt;DD&lt;/td&gt;\\\\n      &lt;td&gt;O. barthii&lt;/td&gt;\\\\n    &lt;/tr&gt;\\\\n    &lt;tr&gt;\\\\n      &lt;th&gt;227&lt;/th&gt;\\\\n      &lt;td&gt;DE&lt;/td&gt;\\\\n      &lt;td&gt;O. barthii&lt;/td&gt;\\\\n    &lt;/tr&gt;\\\\n    &lt;tr&gt;\\\\n      &lt;th&gt;228&lt;/th&gt;\\\\n      &lt;td&gt;DF&lt;/td&gt;\\\\n      &lt;td&gt;O. barthii&lt;/td&gt;\\\\n    &lt;/tr&gt;\\\\n    &lt;tr&gt;\\\\n      &lt;th&gt;229&lt;/th&gt;\\\\n      &lt;td&gt;DG&lt;/td&gt;\\\\n      &lt;td&gt;O. barthii&lt;/td&gt;\\\\n    &lt;/tr&gt;\\\\n    &lt;tr&gt;\\\\n      &lt;th&gt;230&lt;/th&gt;\\\\n      &lt;td&gt;DH&lt;/td&gt;\\\\n      &lt;td&gt;O. barthii&lt;/td&gt;\\\\n    &lt;/tr&gt;\\\\n    &lt;tr&gt;\\\\n      &lt;th&gt;231&lt;/th&gt;\\\\n      &lt;td&gt;DI&lt;/td&gt;\\\\n      &lt;td&gt;O. barthii&lt;/td&gt;\\\\n    &lt;/tr&gt;\\\\n    &lt;tr&gt;\\\\n      &lt;th&gt;232&lt;/th&gt;\\\\n      &lt;td&gt;DK&lt;/td&gt;\\\\n      &lt;td&gt;O. barthii&lt;/td&gt;\\\\n    &lt;/tr&gt;\\\\n    &lt;tr&gt;\\\\n      &lt;th&gt;233&lt;/th&gt;\\\\n      &lt;td&gt;DL&lt;/td&gt;\\\\n      &lt;td&gt;O. barthii&lt;/td&gt;\\\\n    &lt;/tr&gt;\\\\n    &lt;tr&gt;\\\\n      &lt;th&gt;234&lt;/th&gt;\\\\n      &lt;td&gt;DM&lt;/td&gt;\\\\n      &lt;td&gt;O. barthii&lt;/td&gt;\\\\n    &lt;/tr&gt;\\\\n    &lt;tr&gt;\\\\n      &lt;th&gt;235&lt;/th&gt;\\\\n      &lt;td&gt;DN&lt;/td&gt;\\\\n      &lt;td&gt;O. barthii&lt;/td&gt;\\\\n    &lt;/tr&gt;\\\\n    &lt;tr&gt;\\\\n      &lt;th&gt;236&lt;/th&gt;\\\\n      &lt;td&gt;NK&lt;/td&gt;\\\\n      &lt;td&gt;O. barthii&lt;/td&gt;\\\\n    &lt;/tr&gt;\\\\n    &lt;tr&gt;\\\\n      &lt;th&gt;237&lt;/th&gt;\\\\n      &lt;td&gt;NL&lt;/td&gt;\\\\n      &lt;td&gt;O. barthii&lt;/td&gt;\\\\n    &lt;/tr&gt;\\\\n    &lt;tr&gt;\\\\n      &lt;th&gt;238&lt;/th&gt;\\\\n      &lt;td&gt;NM&lt;/td&gt;\\\\n      &lt;td&gt;O. barthii&lt;/td&gt;\\\\n    &lt;/tr&gt;\\\\n    &lt;tr&gt;\\\\n      &lt;th&gt;239&lt;/th&gt;\\\\n      &lt;td&gt;NN&lt;/td&gt;\\\\n      &lt;td&gt;O. barthii&lt;/td&gt;\\\\n    &lt;/tr&gt;\\\\n    &lt;tr&gt;\\\\n      &lt;th&gt;240&lt;/th&gt;\\\\n      &lt;td&gt;NP&lt;/td&gt;\\\\n      &lt;td&gt;O. barthii&lt;/td&gt;\\\\n    &lt;/tr&gt;\\\\n    &lt;tr&gt;\\\\n      &lt;th&gt;241&lt;/th&gt;\\\\n      &lt;td&gt;NQ&lt;/td&gt;\\\\n      &lt;td&gt;O. barthii&lt;/td&gt;\\\\n    &lt;/tr&gt;\\\\n    &lt;tr&gt;\\\\n      &lt;th&gt;242&lt;/th&gt;\\\\n      &lt;td&gt;NR&lt;/td&gt;\\\\n      &lt;td&gt;O. barthii&lt;/td&gt;\\\\n    &lt;/tr&gt;\\\\n    &lt;tr&gt;\\\\n      &lt;th&gt;243&lt;/th&gt;\\\\n      &lt;td&gt;NS&lt;/td&gt;\\\\n      &lt;td&gt;O. barthii&lt;/td&gt;\\\\n    &lt;/tr&gt;\\\\n    &lt;tr&gt;\\\\n      &lt;th&gt;244&lt;/th&gt;\\\\n      &lt;td&gt;NT&lt;/td&gt;\\\\n      &lt;td&gt;O. barthii&lt;/td&gt;\\\\n    &lt;/tr&gt;\\\\n    &lt;tr&gt;\\\\n      &lt;th&gt;245&lt;/th&gt;\\\\n      &lt;td&gt;NV&lt;/td&gt;\\\\n      &lt;td&gt;O. barthii&lt;/td&gt;\\\\n    &lt;/tr&gt;\\\\n    &lt;tr&gt;\\\\n      &lt;th&gt;246&lt;/th&gt;\\\\n      &lt;td&gt;RO&lt;/td&gt;\\\\n      &lt;td&gt;O. barthii&lt;/td&gt;\\\\n    &lt;/tr&gt;\\\\n    &lt;tr&gt;\\\\n      &lt;th&gt;247&lt;/th&gt;\\\\n      &lt;td&gt;SO&lt;/td&gt;\\\\n      &lt;td&gt;O. barthii&lt;/td&gt;\\\\n    &lt;/tr&gt;\\\\n    &lt;tr&gt;\\\\n      &lt;th&gt;248&lt;/th&gt;\\\\n      &lt;td&gt;TO&lt;/td&gt;\\\\n      &lt;td&gt;O. barthii&lt;/td&gt;\\\\n    &lt;/tr&gt;\\\\n    &lt;tr&gt;\\\\n      &lt;th&gt;249&lt;/th&gt;\\\\n      &lt;td&gt;VO&lt;/td&gt;\\\\n      &lt;td&gt;O. barthii&lt;/td&gt;\\\\n    &lt;/tr&gt;\\\\n  &lt;/tbody&gt;\\\\n&lt;/table&gt;\\\"}], \\\"references\\\": []}\",\"header\":\"{\\\"msgid\\\": \\\"1045\\\", \\\"msgtype\\\": \\\"PATCH-DOC\\\"}\",\"metadata\":\"{}\"},\"O. glaberrima\":{\"content\":\"{\\\"events\\\": [{\\\"attr\\\": \\\"text\\\", \\\"kind\\\": \\\"ModelChanged\\\", \\\"model\\\": {\\\"id\\\": \\\"1042\\\"}, \\\"new\\\": \\\"&lt;table border=&quot;0&quot; class=&quot;dataframe panel-df&quot;&gt;\\\\n  &lt;thead&gt;\\\\n    &lt;tr style=&quot;text-align: right;&quot;&gt;\\\\n      &lt;th&gt;&lt;/th&gt;\\\\n      &lt;th&gt;sample&lt;/th&gt;\\\\n      &lt;th&gt;Species&lt;/th&gt;\\\\n    &lt;/tr&gt;\\\\n  &lt;/thead&gt;\\\\n  &lt;tbody&gt;\\\\n    &lt;tr&gt;\\\\n      &lt;th&gt;0&lt;/th&gt;\\\\n      &lt;td&gt;DT&lt;/td&gt;\\\\n      &lt;td&gt;O. glaberrima&lt;/td&gt;\\\\n    &lt;/tr&gt;\\\\n    &lt;tr&gt;\\\\n      &lt;th&gt;1&lt;/th&gt;\\\\n      &lt;td&gt;DV&lt;/td&gt;\\\\n      &lt;td&gt;O. glaberrima&lt;/td&gt;\\\\n    &lt;/tr&gt;\\\\n    &lt;tr&gt;\\\\n      &lt;th&gt;2&lt;/th&gt;\\\\n      &lt;td&gt;EA&lt;/td&gt;\\\\n      &lt;td&gt;O. glaberrima&lt;/td&gt;\\\\n    &lt;/tr&gt;\\\\n    &lt;tr&gt;\\\\n      &lt;th&gt;3&lt;/th&gt;\\\\n      &lt;td&gt;EB&lt;/td&gt;\\\\n      &lt;td&gt;O. glaberrima&lt;/td&gt;\\\\n    &lt;/tr&gt;\\\\n    &lt;tr&gt;\\\\n      &lt;th&gt;4&lt;/th&gt;\\\\n      &lt;td&gt;EC&lt;/td&gt;\\\\n      &lt;td&gt;O. glaberrima&lt;/td&gt;\\\\n    &lt;/tr&gt;\\\\n    &lt;tr&gt;\\\\n      &lt;th&gt;5&lt;/th&gt;\\\\n      &lt;td&gt;ED&lt;/td&gt;\\\\n      &lt;td&gt;O. glaberrima&lt;/td&gt;\\\\n    &lt;/tr&gt;\\\\n    &lt;tr&gt;\\\\n      &lt;th&gt;6&lt;/th&gt;\\\\n      &lt;td&gt;EE&lt;/td&gt;\\\\n      &lt;td&gt;O. glaberrima&lt;/td&gt;\\\\n    &lt;/tr&gt;\\\\n    &lt;tr&gt;\\\\n      &lt;th&gt;7&lt;/th&gt;\\\\n      &lt;td&gt;EF&lt;/td&gt;\\\\n      &lt;td&gt;O. glaberrima&lt;/td&gt;\\\\n    &lt;/tr&gt;\\\\n    &lt;tr&gt;\\\\n      &lt;th&gt;8&lt;/th&gt;\\\\n      &lt;td&gt;EG&lt;/td&gt;\\\\n      &lt;td&gt;O. glaberrima&lt;/td&gt;\\\\n    &lt;/tr&gt;\\\\n    &lt;tr&gt;\\\\n      &lt;th&gt;9&lt;/th&gt;\\\\n      &lt;td&gt;EH&lt;/td&gt;\\\\n      &lt;td&gt;O. glaberrima&lt;/td&gt;\\\\n    &lt;/tr&gt;\\\\n    &lt;tr&gt;\\\\n      &lt;th&gt;10&lt;/th&gt;\\\\n      &lt;td&gt;EI&lt;/td&gt;\\\\n      &lt;td&gt;O. glaberrima&lt;/td&gt;\\\\n    &lt;/tr&gt;\\\\n    &lt;tr&gt;\\\\n      &lt;th&gt;11&lt;/th&gt;\\\\n      &lt;td&gt;EK&lt;/td&gt;\\\\n      &lt;td&gt;O. glaberrima&lt;/td&gt;\\\\n    &lt;/tr&gt;\\\\n    &lt;tr&gt;\\\\n      &lt;th&gt;12&lt;/th&gt;\\\\n      &lt;td&gt;EL&lt;/td&gt;\\\\n      &lt;td&gt;O. glaberrima&lt;/td&gt;\\\\n    &lt;/tr&gt;\\\\n    &lt;tr&gt;\\\\n      &lt;th&gt;13&lt;/th&gt;\\\\n      &lt;td&gt;EM&lt;/td&gt;\\\\n      &lt;td&gt;O. glaberrima&lt;/td&gt;\\\\n    &lt;/tr&gt;\\\\n    &lt;tr&gt;\\\\n      &lt;th&gt;14&lt;/th&gt;\\\\n      &lt;td&gt;EN&lt;/td&gt;\\\\n      &lt;td&gt;O. glaberrima&lt;/td&gt;\\\\n    &lt;/tr&gt;\\\\n    &lt;tr&gt;\\\\n      &lt;th&gt;15&lt;/th&gt;\\\\n      &lt;td&gt;EP&lt;/td&gt;\\\\n      &lt;td&gt;O. glaberrima&lt;/td&gt;\\\\n    &lt;/tr&gt;\\\\n    &lt;tr&gt;\\\\n      &lt;th&gt;16&lt;/th&gt;\\\\n      &lt;td&gt;EQ&lt;/td&gt;\\\\n      &lt;td&gt;O. glaberrima&lt;/td&gt;\\\\n    &lt;/tr&gt;\\\\n    &lt;tr&gt;\\\\n      &lt;th&gt;17&lt;/th&gt;\\\\n      &lt;td&gt;ER&lt;/td&gt;\\\\n      &lt;td&gt;O. glaberrima&lt;/td&gt;\\\\n    &lt;/tr&gt;\\\\n    &lt;tr&gt;\\\\n      &lt;th&gt;18&lt;/th&gt;\\\\n      &lt;td&gt;ES&lt;/td&gt;\\\\n      &lt;td&gt;O. glaberrima&lt;/td&gt;\\\\n    &lt;/tr&gt;\\\\n    &lt;tr&gt;\\\\n      &lt;th&gt;19&lt;/th&gt;\\\\n      &lt;td&gt;ET&lt;/td&gt;\\\\n      &lt;td&gt;O. glaberrima&lt;/td&gt;\\\\n    &lt;/tr&gt;\\\\n    &lt;tr&gt;\\\\n      &lt;th&gt;20&lt;/th&gt;\\\\n      &lt;td&gt;EV&lt;/td&gt;\\\\n      &lt;td&gt;O. glaberrima&lt;/td&gt;\\\\n    &lt;/tr&gt;\\\\n    &lt;tr&gt;\\\\n      &lt;th&gt;21&lt;/th&gt;\\\\n      &lt;td&gt;FA&lt;/td&gt;\\\\n      &lt;td&gt;O. glaberrima&lt;/td&gt;\\\\n    &lt;/tr&gt;\\\\n    &lt;tr&gt;\\\\n      &lt;th&gt;22&lt;/th&gt;\\\\n      &lt;td&gt;FB&lt;/td&gt;\\\\n      &lt;td&gt;O. glaberrima&lt;/td&gt;\\\\n    &lt;/tr&gt;\\\\n    &lt;tr&gt;\\\\n      &lt;th&gt;23&lt;/th&gt;\\\\n      &lt;td&gt;FC&lt;/td&gt;\\\\n      &lt;td&gt;O. glaberrima&lt;/td&gt;\\\\n    &lt;/tr&gt;\\\\n    &lt;tr&gt;\\\\n      &lt;th&gt;24&lt;/th&gt;\\\\n      &lt;td&gt;FD&lt;/td&gt;\\\\n      &lt;td&gt;O. glaberrima&lt;/td&gt;\\\\n    &lt;/tr&gt;\\\\n    &lt;tr&gt;\\\\n      &lt;th&gt;25&lt;/th&gt;\\\\n      &lt;td&gt;FE&lt;/td&gt;\\\\n      &lt;td&gt;O. glaberrima&lt;/td&gt;\\\\n    &lt;/tr&gt;\\\\n    &lt;tr&gt;\\\\n      &lt;th&gt;26&lt;/th&gt;\\\\n      &lt;td&gt;FF&lt;/td&gt;\\\\n      &lt;td&gt;O. glaberrima&lt;/td&gt;\\\\n    &lt;/tr&gt;\\\\n    &lt;tr&gt;\\\\n      &lt;th&gt;27&lt;/th&gt;\\\\n      &lt;td&gt;FG&lt;/td&gt;\\\\n      &lt;td&gt;O. glaberrima&lt;/td&gt;\\\\n    &lt;/tr&gt;\\\\n    &lt;tr&gt;\\\\n      &lt;th&gt;28&lt;/th&gt;\\\\n      &lt;td&gt;FH&lt;/td&gt;\\\\n      &lt;td&gt;O. glaberrima&lt;/td&gt;\\\\n    &lt;/tr&gt;\\\\n    &lt;tr&gt;\\\\n      &lt;th&gt;29&lt;/th&gt;\\\\n      &lt;td&gt;FI&lt;/td&gt;\\\\n      &lt;td&gt;O. glaberrima&lt;/td&gt;\\\\n    &lt;/tr&gt;\\\\n    &lt;tr&gt;\\\\n      &lt;th&gt;30&lt;/th&gt;\\\\n      &lt;td&gt;FK&lt;/td&gt;\\\\n      &lt;td&gt;O. glaberrima&lt;/td&gt;\\\\n    &lt;/tr&gt;\\\\n    &lt;tr&gt;\\\\n      &lt;th&gt;31&lt;/th&gt;\\\\n      &lt;td&gt;FL&lt;/td&gt;\\\\n      &lt;td&gt;O. glaberrima&lt;/td&gt;\\\\n    &lt;/tr&gt;\\\\n    &lt;tr&gt;\\\\n      &lt;th&gt;32&lt;/th&gt;\\\\n      &lt;td&gt;FM&lt;/td&gt;\\\\n      &lt;td&gt;O. glaberrima&lt;/td&gt;\\\\n    &lt;/tr&gt;\\\\n    &lt;tr&gt;\\\\n      &lt;th&gt;33&lt;/th&gt;\\\\n      &lt;td&gt;FN&lt;/td&gt;\\\\n      &lt;td&gt;O. glaberrima&lt;/td&gt;\\\\n    &lt;/tr&gt;\\\\n    &lt;tr&gt;\\\\n      &lt;th&gt;34&lt;/th&gt;\\\\n      &lt;td&gt;FP&lt;/td&gt;\\\\n      &lt;td&gt;O. glaberrima&lt;/td&gt;\\\\n    &lt;/tr&gt;\\\\n    &lt;tr&gt;\\\\n      &lt;th&gt;35&lt;/th&gt;\\\\n      &lt;td&gt;FQ&lt;/td&gt;\\\\n      &lt;td&gt;O. glaberrima&lt;/td&gt;\\\\n    &lt;/tr&gt;\\\\n    &lt;tr&gt;\\\\n      &lt;th&gt;36&lt;/th&gt;\\\\n      &lt;td&gt;FR&lt;/td&gt;\\\\n      &lt;td&gt;O. glaberrima&lt;/td&gt;\\\\n    &lt;/tr&gt;\\\\n    &lt;tr&gt;\\\\n      &lt;th&gt;37&lt;/th&gt;\\\\n      &lt;td&gt;FS&lt;/td&gt;\\\\n      &lt;td&gt;O. glaberrima&lt;/td&gt;\\\\n    &lt;/tr&gt;\\\\n    &lt;tr&gt;\\\\n      &lt;th&gt;38&lt;/th&gt;\\\\n      &lt;td&gt;FT&lt;/td&gt;\\\\n      &lt;td&gt;O. glaberrima&lt;/td&gt;\\\\n    &lt;/tr&gt;\\\\n    &lt;tr&gt;\\\\n      &lt;th&gt;39&lt;/th&gt;\\\\n      &lt;td&gt;FV&lt;/td&gt;\\\\n      &lt;td&gt;O. glaberrima&lt;/td&gt;\\\\n    &lt;/tr&gt;\\\\n    &lt;tr&gt;\\\\n      &lt;th&gt;40&lt;/th&gt;\\\\n      &lt;td&gt;GA&lt;/td&gt;\\\\n      &lt;td&gt;O. glaberrima&lt;/td&gt;\\\\n    &lt;/tr&gt;\\\\n    &lt;tr&gt;\\\\n      &lt;th&gt;41&lt;/th&gt;\\\\n      &lt;td&gt;GB&lt;/td&gt;\\\\n      &lt;td&gt;O. glaberrima&lt;/td&gt;\\\\n    &lt;/tr&gt;\\\\n    &lt;tr&gt;\\\\n      &lt;th&gt;42&lt;/th&gt;\\\\n      &lt;td&gt;GC&lt;/td&gt;\\\\n      &lt;td&gt;O. glaberrima&lt;/td&gt;\\\\n    &lt;/tr&gt;\\\\n    &lt;tr&gt;\\\\n      &lt;th&gt;43&lt;/th&gt;\\\\n      &lt;td&gt;GD&lt;/td&gt;\\\\n      &lt;td&gt;O. glaberrima&lt;/td&gt;\\\\n    &lt;/tr&gt;\\\\n    &lt;tr&gt;\\\\n      &lt;th&gt;44&lt;/th&gt;\\\\n      &lt;td&gt;GE&lt;/td&gt;\\\\n      &lt;td&gt;O. glaberrima&lt;/td&gt;\\\\n    &lt;/tr&gt;\\\\n    &lt;tr&gt;\\\\n      &lt;th&gt;45&lt;/th&gt;\\\\n      &lt;td&gt;GF&lt;/td&gt;\\\\n      &lt;td&gt;O. glaberrima&lt;/td&gt;\\\\n    &lt;/tr&gt;\\\\n    &lt;tr&gt;\\\\n      &lt;th&gt;46&lt;/th&gt;\\\\n      &lt;td&gt;GG&lt;/td&gt;\\\\n      &lt;td&gt;O. glaberrima&lt;/td&gt;\\\\n    &lt;/tr&gt;\\\\n    &lt;tr&gt;\\\\n      &lt;th&gt;47&lt;/th&gt;\\\\n      &lt;td&gt;GH&lt;/td&gt;\\\\n      &lt;td&gt;O. glaberrima&lt;/td&gt;\\\\n    &lt;/tr&gt;\\\\n    &lt;tr&gt;\\\\n      &lt;th&gt;48&lt;/th&gt;\\\\n      &lt;td&gt;GI&lt;/td&gt;\\\\n      &lt;td&gt;O. glaberrima&lt;/td&gt;\\\\n    &lt;/tr&gt;\\\\n    &lt;tr&gt;\\\\n      &lt;th&gt;49&lt;/th&gt;\\\\n      &lt;td&gt;GK&lt;/td&gt;\\\\n      &lt;td&gt;O. glaberrima&lt;/td&gt;\\\\n    &lt;/tr&gt;\\\\n    &lt;tr&gt;\\\\n      &lt;th&gt;50&lt;/th&gt;\\\\n      &lt;td&gt;GL&lt;/td&gt;\\\\n      &lt;td&gt;O. glaberrima&lt;/td&gt;\\\\n    &lt;/tr&gt;\\\\n    &lt;tr&gt;\\\\n      &lt;th&gt;51&lt;/th&gt;\\\\n      &lt;td&gt;GM&lt;/td&gt;\\\\n      &lt;td&gt;O. glaberrima&lt;/td&gt;\\\\n    &lt;/tr&gt;\\\\n    &lt;tr&gt;\\\\n      &lt;th&gt;52&lt;/th&gt;\\\\n      &lt;td&gt;GN&lt;/td&gt;\\\\n      &lt;td&gt;O. glaberrima&lt;/td&gt;\\\\n    &lt;/tr&gt;\\\\n    &lt;tr&gt;\\\\n      &lt;th&gt;53&lt;/th&gt;\\\\n      &lt;td&gt;GP&lt;/td&gt;\\\\n      &lt;td&gt;O. glaberrima&lt;/td&gt;\\\\n    &lt;/tr&gt;\\\\n    &lt;tr&gt;\\\\n      &lt;th&gt;54&lt;/th&gt;\\\\n      &lt;td&gt;GQ&lt;/td&gt;\\\\n      &lt;td&gt;O. glaberrima&lt;/td&gt;\\\\n    &lt;/tr&gt;\\\\n    &lt;tr&gt;\\\\n      &lt;th&gt;55&lt;/th&gt;\\\\n      &lt;td&gt;GR&lt;/td&gt;\\\\n      &lt;td&gt;O. glaberrima&lt;/td&gt;\\\\n    &lt;/tr&gt;\\\\n    &lt;tr&gt;\\\\n      &lt;th&gt;56&lt;/th&gt;\\\\n      &lt;td&gt;GS&lt;/td&gt;\\\\n      &lt;td&gt;O. glaberrima&lt;/td&gt;\\\\n    &lt;/tr&gt;\\\\n    &lt;tr&gt;\\\\n      &lt;th&gt;57&lt;/th&gt;\\\\n      &lt;td&gt;GT&lt;/td&gt;\\\\n      &lt;td&gt;O. glaberrima&lt;/td&gt;\\\\n    &lt;/tr&gt;\\\\n    &lt;tr&gt;\\\\n      &lt;th&gt;58&lt;/th&gt;\\\\n      &lt;td&gt;GV&lt;/td&gt;\\\\n      &lt;td&gt;O. glaberrima&lt;/td&gt;\\\\n    &lt;/tr&gt;\\\\n    &lt;tr&gt;\\\\n      &lt;th&gt;59&lt;/th&gt;\\\\n      &lt;td&gt;HA&lt;/td&gt;\\\\n      &lt;td&gt;O. glaberrima&lt;/td&gt;\\\\n    &lt;/tr&gt;\\\\n    &lt;tr&gt;\\\\n      &lt;th&gt;60&lt;/th&gt;\\\\n      &lt;td&gt;HB&lt;/td&gt;\\\\n      &lt;td&gt;O. glaberrima&lt;/td&gt;\\\\n    &lt;/tr&gt;\\\\n    &lt;tr&gt;\\\\n      &lt;th&gt;61&lt;/th&gt;\\\\n      &lt;td&gt;HC&lt;/td&gt;\\\\n      &lt;td&gt;O. glaberrima&lt;/td&gt;\\\\n    &lt;/tr&gt;\\\\n    &lt;tr&gt;\\\\n      &lt;th&gt;62&lt;/th&gt;\\\\n      &lt;td&gt;HD&lt;/td&gt;\\\\n      &lt;td&gt;O. glaberrima&lt;/td&gt;\\\\n    &lt;/tr&gt;\\\\n    &lt;tr&gt;\\\\n      &lt;th&gt;63&lt;/th&gt;\\\\n      &lt;td&gt;HE&lt;/td&gt;\\\\n      &lt;td&gt;O. glaberrima&lt;/td&gt;\\\\n    &lt;/tr&gt;\\\\n    &lt;tr&gt;\\\\n      &lt;th&gt;64&lt;/th&gt;\\\\n      &lt;td&gt;HF&lt;/td&gt;\\\\n      &lt;td&gt;O. glaberrima&lt;/td&gt;\\\\n    &lt;/tr&gt;\\\\n    &lt;tr&gt;\\\\n      &lt;th&gt;65&lt;/th&gt;\\\\n      &lt;td&gt;HG&lt;/td&gt;\\\\n      &lt;td&gt;O. glaberrima&lt;/td&gt;\\\\n    &lt;/tr&gt;\\\\n    &lt;tr&gt;\\\\n      &lt;th&gt;66&lt;/th&gt;\\\\n      &lt;td&gt;HH&lt;/td&gt;\\\\n      &lt;td&gt;O. glaberrima&lt;/td&gt;\\\\n    &lt;/tr&gt;\\\\n    &lt;tr&gt;\\\\n      &lt;th&gt;67&lt;/th&gt;\\\\n      &lt;td&gt;HI&lt;/td&gt;\\\\n      &lt;td&gt;O. glaberrima&lt;/td&gt;\\\\n    &lt;/tr&gt;\\\\n    &lt;tr&gt;\\\\n      &lt;th&gt;68&lt;/th&gt;\\\\n      &lt;td&gt;HK&lt;/td&gt;\\\\n      &lt;td&gt;O. glaberrima&lt;/td&gt;\\\\n    &lt;/tr&gt;\\\\n    &lt;tr&gt;\\\\n      &lt;th&gt;69&lt;/th&gt;\\\\n      &lt;td&gt;HL&lt;/td&gt;\\\\n      &lt;td&gt;O. glaberrima&lt;/td&gt;\\\\n    &lt;/tr&gt;\\\\n    &lt;tr&gt;\\\\n      &lt;th&gt;70&lt;/th&gt;\\\\n      &lt;td&gt;HM&lt;/td&gt;\\\\n      &lt;td&gt;O. glaberrima&lt;/td&gt;\\\\n    &lt;/tr&gt;\\\\n    &lt;tr&gt;\\\\n      &lt;th&gt;71&lt;/th&gt;\\\\n      &lt;td&gt;HN&lt;/td&gt;\\\\n      &lt;td&gt;O. glaberrima&lt;/td&gt;\\\\n    &lt;/tr&gt;\\\\n    &lt;tr&gt;\\\\n      &lt;th&gt;72&lt;/th&gt;\\\\n      &lt;td&gt;HP&lt;/td&gt;\\\\n      &lt;td&gt;O. glaberrima&lt;/td&gt;\\\\n    &lt;/tr&gt;\\\\n    &lt;tr&gt;\\\\n      &lt;th&gt;73&lt;/th&gt;\\\\n      &lt;td&gt;HQ&lt;/td&gt;\\\\n      &lt;td&gt;O. glaberrima&lt;/td&gt;\\\\n    &lt;/tr&gt;\\\\n    &lt;tr&gt;\\\\n      &lt;th&gt;74&lt;/th&gt;\\\\n      &lt;td&gt;HR&lt;/td&gt;\\\\n      &lt;td&gt;O. glaberrima&lt;/td&gt;\\\\n    &lt;/tr&gt;\\\\n    &lt;tr&gt;\\\\n      &lt;th&gt;75&lt;/th&gt;\\\\n      &lt;td&gt;HS&lt;/td&gt;\\\\n      &lt;td&gt;O. glaberrima&lt;/td&gt;\\\\n    &lt;/tr&gt;\\\\n    &lt;tr&gt;\\\\n      &lt;th&gt;76&lt;/th&gt;\\\\n      &lt;td&gt;HT&lt;/td&gt;\\\\n      &lt;td&gt;O. glaberrima&lt;/td&gt;\\\\n    &lt;/tr&gt;\\\\n    &lt;tr&gt;\\\\n      &lt;th&gt;77&lt;/th&gt;\\\\n      &lt;td&gt;HV&lt;/td&gt;\\\\n      &lt;td&gt;O. glaberrima&lt;/td&gt;\\\\n    &lt;/tr&gt;\\\\n    &lt;tr&gt;\\\\n      &lt;th&gt;78&lt;/th&gt;\\\\n      &lt;td&gt;IA&lt;/td&gt;\\\\n      &lt;td&gt;O. glaberrima&lt;/td&gt;\\\\n    &lt;/tr&gt;\\\\n    &lt;tr&gt;\\\\n      &lt;th&gt;79&lt;/th&gt;\\\\n      &lt;td&gt;IB&lt;/td&gt;\\\\n      &lt;td&gt;O. glaberrima&lt;/td&gt;\\\\n    &lt;/tr&gt;\\\\n    &lt;tr&gt;\\\\n      &lt;th&gt;80&lt;/th&gt;\\\\n      &lt;td&gt;IC&lt;/td&gt;\\\\n      &lt;td&gt;O. glaberrima&lt;/td&gt;\\\\n    &lt;/tr&gt;\\\\n    &lt;tr&gt;\\\\n      &lt;th&gt;81&lt;/th&gt;\\\\n      &lt;td&gt;ID&lt;/td&gt;\\\\n      &lt;td&gt;O. glaberrima&lt;/td&gt;\\\\n    &lt;/tr&gt;\\\\n    &lt;tr&gt;\\\\n      &lt;th&gt;82&lt;/th&gt;\\\\n      &lt;td&gt;IE&lt;/td&gt;\\\\n      &lt;td&gt;O. glaberrima&lt;/td&gt;\\\\n    &lt;/tr&gt;\\\\n    &lt;tr&gt;\\\\n      &lt;th&gt;83&lt;/th&gt;\\\\n      &lt;td&gt;IF&lt;/td&gt;\\\\n      &lt;td&gt;O. glaberrima&lt;/td&gt;\\\\n    &lt;/tr&gt;\\\\n    &lt;tr&gt;\\\\n      &lt;th&gt;84&lt;/th&gt;\\\\n      &lt;td&gt;IG&lt;/td&gt;\\\\n      &lt;td&gt;O. glaberrima&lt;/td&gt;\\\\n    &lt;/tr&gt;\\\\n    &lt;tr&gt;\\\\n      &lt;th&gt;85&lt;/th&gt;\\\\n      &lt;td&gt;IH&lt;/td&gt;\\\\n      &lt;td&gt;O. glaberrima&lt;/td&gt;\\\\n    &lt;/tr&gt;\\\\n    &lt;tr&gt;\\\\n      &lt;th&gt;86&lt;/th&gt;\\\\n      &lt;td&gt;II&lt;/td&gt;\\\\n      &lt;td&gt;O. glaberrima&lt;/td&gt;\\\\n    &lt;/tr&gt;\\\\n    &lt;tr&gt;\\\\n      &lt;th&gt;87&lt;/th&gt;\\\\n      &lt;td&gt;IK&lt;/td&gt;\\\\n      &lt;td&gt;O. glaberrima&lt;/td&gt;\\\\n    &lt;/tr&gt;\\\\n    &lt;tr&gt;\\\\n      &lt;th&gt;88&lt;/th&gt;\\\\n      &lt;td&gt;IL&lt;/td&gt;\\\\n      &lt;td&gt;O. glaberrima&lt;/td&gt;\\\\n    &lt;/tr&gt;\\\\n    &lt;tr&gt;\\\\n      &lt;th&gt;89&lt;/th&gt;\\\\n      &lt;td&gt;IM&lt;/td&gt;\\\\n      &lt;td&gt;O. glaberrima&lt;/td&gt;\\\\n    &lt;/tr&gt;\\\\n    &lt;tr&gt;\\\\n      &lt;th&gt;90&lt;/th&gt;\\\\n      &lt;td&gt;IN&lt;/td&gt;\\\\n      &lt;td&gt;O. glaberrima&lt;/td&gt;\\\\n    &lt;/tr&gt;\\\\n    &lt;tr&gt;\\\\n      &lt;th&gt;91&lt;/th&gt;\\\\n      &lt;td&gt;IP&lt;/td&gt;\\\\n      &lt;td&gt;O. glaberrima&lt;/td&gt;\\\\n    &lt;/tr&gt;\\\\n    &lt;tr&gt;\\\\n      &lt;th&gt;92&lt;/th&gt;\\\\n      &lt;td&gt;IQ&lt;/td&gt;\\\\n      &lt;td&gt;O. glaberrima&lt;/td&gt;\\\\n    &lt;/tr&gt;\\\\n    &lt;tr&gt;\\\\n      &lt;th&gt;93&lt;/th&gt;\\\\n      &lt;td&gt;IR&lt;/td&gt;\\\\n      &lt;td&gt;O. glaberrima&lt;/td&gt;\\\\n    &lt;/tr&gt;\\\\n    &lt;tr&gt;\\\\n      &lt;th&gt;94&lt;/th&gt;\\\\n      &lt;td&gt;IS&lt;/td&gt;\\\\n      &lt;td&gt;O. glaberrima&lt;/td&gt;\\\\n    &lt;/tr&gt;\\\\n    &lt;tr&gt;\\\\n      &lt;th&gt;95&lt;/th&gt;\\\\n      &lt;td&gt;IT&lt;/td&gt;\\\\n      &lt;td&gt;O. glaberrima&lt;/td&gt;\\\\n    &lt;/tr&gt;\\\\n    &lt;tr&gt;\\\\n      &lt;th&gt;96&lt;/th&gt;\\\\n      &lt;td&gt;IV&lt;/td&gt;\\\\n      &lt;td&gt;O. glaberrima&lt;/td&gt;\\\\n    &lt;/tr&gt;\\\\n    &lt;tr&gt;\\\\n      &lt;th&gt;97&lt;/th&gt;\\\\n      &lt;td&gt;KA&lt;/td&gt;\\\\n      &lt;td&gt;O. glaberrima&lt;/td&gt;\\\\n    &lt;/tr&gt;\\\\n    &lt;tr&gt;\\\\n      &lt;th&gt;98&lt;/th&gt;\\\\n      &lt;td&gt;KBbis&lt;/td&gt;\\\\n      &lt;td&gt;O. glaberrima&lt;/td&gt;\\\\n    &lt;/tr&gt;\\\\n    &lt;tr&gt;\\\\n      &lt;th&gt;99&lt;/th&gt;\\\\n      &lt;td&gt;KB&lt;/td&gt;\\\\n      &lt;td&gt;O. glaberrima&lt;/td&gt;\\\\n    &lt;/tr&gt;\\\\n    &lt;tr&gt;\\\\n      &lt;th&gt;100&lt;/th&gt;\\\\n      &lt;td&gt;KC&lt;/td&gt;\\\\n      &lt;td&gt;O. glaberrima&lt;/td&gt;\\\\n    &lt;/tr&gt;\\\\n    &lt;tr&gt;\\\\n      &lt;th&gt;101&lt;/th&gt;\\\\n      &lt;td&gt;KD&lt;/td&gt;\\\\n      &lt;td&gt;O. glaberrima&lt;/td&gt;\\\\n    &lt;/tr&gt;\\\\n    &lt;tr&gt;\\\\n      &lt;th&gt;102&lt;/th&gt;\\\\n      &lt;td&gt;KE&lt;/td&gt;\\\\n      &lt;td&gt;O. glaberrima&lt;/td&gt;\\\\n    &lt;/tr&gt;\\\\n    &lt;tr&gt;\\\\n      &lt;th&gt;103&lt;/th&gt;\\\\n      &lt;td&gt;KF&lt;/td&gt;\\\\n      &lt;td&gt;O. glaberrima&lt;/td&gt;\\\\n    &lt;/tr&gt;\\\\n    &lt;tr&gt;\\\\n      &lt;th&gt;104&lt;/th&gt;\\\\n      &lt;td&gt;KG&lt;/td&gt;\\\\n      &lt;td&gt;O. glaberrima&lt;/td&gt;\\\\n    &lt;/tr&gt;\\\\n    &lt;tr&gt;\\\\n      &lt;th&gt;105&lt;/th&gt;\\\\n      &lt;td&gt;KH&lt;/td&gt;\\\\n      &lt;td&gt;O. glaberrima&lt;/td&gt;\\\\n    &lt;/tr&gt;\\\\n    &lt;tr&gt;\\\\n      &lt;th&gt;106&lt;/th&gt;\\\\n      &lt;td&gt;KI&lt;/td&gt;\\\\n      &lt;td&gt;O. glaberrima&lt;/td&gt;\\\\n    &lt;/tr&gt;\\\\n    &lt;tr&gt;\\\\n      &lt;th&gt;107&lt;/th&gt;\\\\n      &lt;td&gt;KK&lt;/td&gt;\\\\n      &lt;td&gt;O. glaberrima&lt;/td&gt;\\\\n    &lt;/tr&gt;\\\\n    &lt;tr&gt;\\\\n      &lt;th&gt;108&lt;/th&gt;\\\\n      &lt;td&gt;KL&lt;/td&gt;\\\\n      &lt;td&gt;O. glaberrima&lt;/td&gt;\\\\n    &lt;/tr&gt;\\\\n    &lt;tr&gt;\\\\n      &lt;th&gt;109&lt;/th&gt;\\\\n      &lt;td&gt;KM&lt;/td&gt;\\\\n      &lt;td&gt;O. glaberrima&lt;/td&gt;\\\\n    &lt;/tr&gt;\\\\n    &lt;tr&gt;\\\\n      &lt;th&gt;110&lt;/th&gt;\\\\n      &lt;td&gt;KN&lt;/td&gt;\\\\n      &lt;td&gt;O. glaberrima&lt;/td&gt;\\\\n    &lt;/tr&gt;\\\\n    &lt;tr&gt;\\\\n      &lt;th&gt;111&lt;/th&gt;\\\\n      &lt;td&gt;KP&lt;/td&gt;\\\\n      &lt;td&gt;O. glaberrima&lt;/td&gt;\\\\n    &lt;/tr&gt;\\\\n    &lt;tr&gt;\\\\n      &lt;th&gt;112&lt;/th&gt;\\\\n      &lt;td&gt;KQ&lt;/td&gt;\\\\n      &lt;td&gt;O. glaberrima&lt;/td&gt;\\\\n    &lt;/tr&gt;\\\\n    &lt;tr&gt;\\\\n      &lt;th&gt;113&lt;/th&gt;\\\\n      &lt;td&gt;KR&lt;/td&gt;\\\\n      &lt;td&gt;O. glaberrima&lt;/td&gt;\\\\n    &lt;/tr&gt;\\\\n    &lt;tr&gt;\\\\n      &lt;th&gt;114&lt;/th&gt;\\\\n      &lt;td&gt;KS&lt;/td&gt;\\\\n      &lt;td&gt;O. glaberrima&lt;/td&gt;\\\\n    &lt;/tr&gt;\\\\n    &lt;tr&gt;\\\\n      &lt;th&gt;115&lt;/th&gt;\\\\n      &lt;td&gt;KT&lt;/td&gt;\\\\n      &lt;td&gt;O. glaberrima&lt;/td&gt;\\\\n    &lt;/tr&gt;\\\\n    &lt;tr&gt;\\\\n      &lt;th&gt;116&lt;/th&gt;\\\\n      &lt;td&gt;KV&lt;/td&gt;\\\\n      &lt;td&gt;O. glaberrima&lt;/td&gt;\\\\n    &lt;/tr&gt;\\\\n    &lt;tr&gt;\\\\n      &lt;th&gt;117&lt;/th&gt;\\\\n      &lt;td&gt;LA&lt;/td&gt;\\\\n      &lt;td&gt;O. glaberrima&lt;/td&gt;\\\\n    &lt;/tr&gt;\\\\n    &lt;tr&gt;\\\\n      &lt;th&gt;118&lt;/th&gt;\\\\n      &lt;td&gt;LB&lt;/td&gt;\\\\n      &lt;td&gt;O. glaberrima&lt;/td&gt;\\\\n    &lt;/tr&gt;\\\\n    &lt;tr&gt;\\\\n      &lt;th&gt;119&lt;/th&gt;\\\\n      &lt;td&gt;LC&lt;/td&gt;\\\\n      &lt;td&gt;O. glaberrima&lt;/td&gt;\\\\n    &lt;/tr&gt;\\\\n    &lt;tr&gt;\\\\n      &lt;th&gt;120&lt;/th&gt;\\\\n      &lt;td&gt;LD&lt;/td&gt;\\\\n      &lt;td&gt;O. glaberrima&lt;/td&gt;\\\\n    &lt;/tr&gt;\\\\n    &lt;tr&gt;\\\\n      &lt;th&gt;121&lt;/th&gt;\\\\n      &lt;td&gt;LE&lt;/td&gt;\\\\n      &lt;td&gt;O. glaberrima&lt;/td&gt;\\\\n    &lt;/tr&gt;\\\\n    &lt;tr&gt;\\\\n      &lt;th&gt;122&lt;/th&gt;\\\\n      &lt;td&gt;LF&lt;/td&gt;\\\\n      &lt;td&gt;O. glaberrima&lt;/td&gt;\\\\n    &lt;/tr&gt;\\\\n    &lt;tr&gt;\\\\n      &lt;th&gt;123&lt;/th&gt;\\\\n      &lt;td&gt;LG&lt;/td&gt;\\\\n      &lt;td&gt;O. glaberrima&lt;/td&gt;\\\\n    &lt;/tr&gt;\\\\n    &lt;tr&gt;\\\\n      &lt;th&gt;124&lt;/th&gt;\\\\n      &lt;td&gt;LH&lt;/td&gt;\\\\n      &lt;td&gt;O. glaberrima&lt;/td&gt;\\\\n    &lt;/tr&gt;\\\\n    &lt;tr&gt;\\\\n      &lt;th&gt;125&lt;/th&gt;\\\\n      &lt;td&gt;LI&lt;/td&gt;\\\\n      &lt;td&gt;O. glaberrima&lt;/td&gt;\\\\n    &lt;/tr&gt;\\\\n    &lt;tr&gt;\\\\n      &lt;th&gt;126&lt;/th&gt;\\\\n      &lt;td&gt;LK&lt;/td&gt;\\\\n      &lt;td&gt;O. glaberrima&lt;/td&gt;\\\\n    &lt;/tr&gt;\\\\n    &lt;tr&gt;\\\\n      &lt;th&gt;127&lt;/th&gt;\\\\n      &lt;td&gt;LL&lt;/td&gt;\\\\n      &lt;td&gt;O. glaberrima&lt;/td&gt;\\\\n    &lt;/tr&gt;\\\\n    &lt;tr&gt;\\\\n      &lt;th&gt;128&lt;/th&gt;\\\\n      &lt;td&gt;LM&lt;/td&gt;\\\\n      &lt;td&gt;O. glaberrima&lt;/td&gt;\\\\n    &lt;/tr&gt;\\\\n    &lt;tr&gt;\\\\n      &lt;th&gt;129&lt;/th&gt;\\\\n      &lt;td&gt;LN&lt;/td&gt;\\\\n      &lt;td&gt;O. glaberrima&lt;/td&gt;\\\\n    &lt;/tr&gt;\\\\n    &lt;tr&gt;\\\\n      &lt;th&gt;130&lt;/th&gt;\\\\n      &lt;td&gt;LP&lt;/td&gt;\\\\n      &lt;td&gt;O. glaberrima&lt;/td&gt;\\\\n    &lt;/tr&gt;\\\\n    &lt;tr&gt;\\\\n      &lt;th&gt;131&lt;/th&gt;\\\\n      &lt;td&gt;LQ&lt;/td&gt;\\\\n      &lt;td&gt;O. glaberrima&lt;/td&gt;\\\\n    &lt;/tr&gt;\\\\n    &lt;tr&gt;\\\\n      &lt;th&gt;132&lt;/th&gt;\\\\n      &lt;td&gt;LR&lt;/td&gt;\\\\n      &lt;td&gt;O. glaberrima&lt;/td&gt;\\\\n    &lt;/tr&gt;\\\\n    &lt;tr&gt;\\\\n      &lt;th&gt;133&lt;/th&gt;\\\\n      &lt;td&gt;LS&lt;/td&gt;\\\\n      &lt;td&gt;O. glaberrima&lt;/td&gt;\\\\n    &lt;/tr&gt;\\\\n    &lt;tr&gt;\\\\n      &lt;th&gt;134&lt;/th&gt;\\\\n      &lt;td&gt;LT&lt;/td&gt;\\\\n      &lt;td&gt;O. glaberrima&lt;/td&gt;\\\\n    &lt;/tr&gt;\\\\n    &lt;tr&gt;\\\\n      &lt;th&gt;135&lt;/th&gt;\\\\n      &lt;td&gt;LV&lt;/td&gt;\\\\n      &lt;td&gt;O. glaberrima&lt;/td&gt;\\\\n    &lt;/tr&gt;\\\\n    &lt;tr&gt;\\\\n      &lt;th&gt;136&lt;/th&gt;\\\\n      &lt;td&gt;MA&lt;/td&gt;\\\\n      &lt;td&gt;O. glaberrima&lt;/td&gt;\\\\n    &lt;/tr&gt;\\\\n    &lt;tr&gt;\\\\n      &lt;th&gt;137&lt;/th&gt;\\\\n      &lt;td&gt;MB&lt;/td&gt;\\\\n      &lt;td&gt;O. glaberrima&lt;/td&gt;\\\\n    &lt;/tr&gt;\\\\n    &lt;tr&gt;\\\\n      &lt;th&gt;138&lt;/th&gt;\\\\n      &lt;td&gt;MC&lt;/td&gt;\\\\n      &lt;td&gt;O. glaberrima&lt;/td&gt;\\\\n    &lt;/tr&gt;\\\\n    &lt;tr&gt;\\\\n      &lt;th&gt;139&lt;/th&gt;\\\\n      &lt;td&gt;MD&lt;/td&gt;\\\\n      &lt;td&gt;O. glaberrima&lt;/td&gt;\\\\n    &lt;/tr&gt;\\\\n    &lt;tr&gt;\\\\n      &lt;th&gt;140&lt;/th&gt;\\\\n      &lt;td&gt;ME&lt;/td&gt;\\\\n      &lt;td&gt;O. glaberrima&lt;/td&gt;\\\\n    &lt;/tr&gt;\\\\n    &lt;tr&gt;\\\\n      &lt;th&gt;141&lt;/th&gt;\\\\n      &lt;td&gt;MF&lt;/td&gt;\\\\n      &lt;td&gt;O. glaberrima&lt;/td&gt;\\\\n    &lt;/tr&gt;\\\\n    &lt;tr&gt;\\\\n      &lt;th&gt;142&lt;/th&gt;\\\\n      &lt;td&gt;MG&lt;/td&gt;\\\\n      &lt;td&gt;O. glaberrima&lt;/td&gt;\\\\n    &lt;/tr&gt;\\\\n    &lt;tr&gt;\\\\n      &lt;th&gt;143&lt;/th&gt;\\\\n      &lt;td&gt;MH&lt;/td&gt;\\\\n      &lt;td&gt;O. glaberrima&lt;/td&gt;\\\\n    &lt;/tr&gt;\\\\n    &lt;tr&gt;\\\\n      &lt;th&gt;144&lt;/th&gt;\\\\n      &lt;td&gt;MI&lt;/td&gt;\\\\n      &lt;td&gt;O. glaberrima&lt;/td&gt;\\\\n    &lt;/tr&gt;\\\\n    &lt;tr&gt;\\\\n      &lt;th&gt;145&lt;/th&gt;\\\\n      &lt;td&gt;MK&lt;/td&gt;\\\\n      &lt;td&gt;O. glaberrima&lt;/td&gt;\\\\n    &lt;/tr&gt;\\\\n    &lt;tr&gt;\\\\n      &lt;th&gt;146&lt;/th&gt;\\\\n      &lt;td&gt;ML&lt;/td&gt;\\\\n      &lt;td&gt;O. glaberrima&lt;/td&gt;\\\\n    &lt;/tr&gt;\\\\n    &lt;tr&gt;\\\\n      &lt;th&gt;147&lt;/th&gt;\\\\n      &lt;td&gt;MM&lt;/td&gt;\\\\n      &lt;td&gt;O. glaberrima&lt;/td&gt;\\\\n    &lt;/tr&gt;\\\\n    &lt;tr&gt;\\\\n      &lt;th&gt;148&lt;/th&gt;\\\\n      &lt;td&gt;MP&lt;/td&gt;\\\\n      &lt;td&gt;O. glaberrima&lt;/td&gt;\\\\n    &lt;/tr&gt;\\\\n    &lt;tr&gt;\\\\n      &lt;th&gt;149&lt;/th&gt;\\\\n      &lt;td&gt;MQ&lt;/td&gt;\\\\n      &lt;td&gt;O. glaberrima&lt;/td&gt;\\\\n    &lt;/tr&gt;\\\\n    &lt;tr&gt;\\\\n      &lt;th&gt;150&lt;/th&gt;\\\\n      &lt;td&gt;MR&lt;/td&gt;\\\\n      &lt;td&gt;O. glaberrima&lt;/td&gt;\\\\n    &lt;/tr&gt;\\\\n    &lt;tr&gt;\\\\n      &lt;th&gt;151&lt;/th&gt;\\\\n      &lt;td&gt;MS&lt;/td&gt;\\\\n      &lt;td&gt;O. glaberrima&lt;/td&gt;\\\\n    &lt;/tr&gt;\\\\n    &lt;tr&gt;\\\\n      &lt;th&gt;152&lt;/th&gt;\\\\n      &lt;td&gt;MT&lt;/td&gt;\\\\n      &lt;td&gt;O. glaberrima&lt;/td&gt;\\\\n    &lt;/tr&gt;\\\\n    &lt;tr&gt;\\\\n      &lt;th&gt;153&lt;/th&gt;\\\\n      &lt;td&gt;MV&lt;/td&gt;\\\\n      &lt;td&gt;O. glaberrima&lt;/td&gt;\\\\n    &lt;/tr&gt;\\\\n    &lt;tr&gt;\\\\n      &lt;th&gt;154&lt;/th&gt;\\\\n      &lt;td&gt;NaN&lt;/td&gt;\\\\n      &lt;td&gt;O. glaberrima&lt;/td&gt;\\\\n    &lt;/tr&gt;\\\\n    &lt;tr&gt;\\\\n      &lt;th&gt;155&lt;/th&gt;\\\\n      &lt;td&gt;NB&lt;/td&gt;\\\\n      &lt;td&gt;O. glaberrima&lt;/td&gt;\\\\n    &lt;/tr&gt;\\\\n    &lt;tr&gt;\\\\n      &lt;th&gt;156&lt;/th&gt;\\\\n      &lt;td&gt;NC&lt;/td&gt;\\\\n      &lt;td&gt;O. glaberrima&lt;/td&gt;\\\\n    &lt;/tr&gt;\\\\n    &lt;tr&gt;\\\\n      &lt;th&gt;157&lt;/th&gt;\\\\n      &lt;td&gt;ND&lt;/td&gt;\\\\n      &lt;td&gt;O. glaberrima&lt;/td&gt;\\\\n    &lt;/tr&gt;\\\\n    &lt;tr&gt;\\\\n      &lt;th&gt;158&lt;/th&gt;\\\\n      &lt;td&gt;NE&lt;/td&gt;\\\\n      &lt;td&gt;O. glaberrima&lt;/td&gt;\\\\n    &lt;/tr&gt;\\\\n    &lt;tr&gt;\\\\n      &lt;th&gt;159&lt;/th&gt;\\\\n      &lt;td&gt;NF&lt;/td&gt;\\\\n      &lt;td&gt;O. glaberrima&lt;/td&gt;\\\\n    &lt;/tr&gt;\\\\n    &lt;tr&gt;\\\\n      &lt;th&gt;160&lt;/th&gt;\\\\n      &lt;td&gt;NG&lt;/td&gt;\\\\n      &lt;td&gt;O. glaberrima&lt;/td&gt;\\\\n    &lt;/tr&gt;\\\\n    &lt;tr&gt;\\\\n      &lt;th&gt;161&lt;/th&gt;\\\\n      &lt;td&gt;NH&lt;/td&gt;\\\\n      &lt;td&gt;O. glaberrima&lt;/td&gt;\\\\n    &lt;/tr&gt;\\\\n    &lt;tr&gt;\\\\n      &lt;th&gt;162&lt;/th&gt;\\\\n      &lt;td&gt;NI&lt;/td&gt;\\\\n      &lt;td&gt;O. glaberrima&lt;/td&gt;\\\\n    &lt;/tr&gt;\\\\n    &lt;tr&gt;\\\\n      &lt;th&gt;163&lt;/th&gt;\\\\n      &lt;td&gt;TOG5681&lt;/td&gt;\\\\n      &lt;td&gt;O. glaberrima&lt;/td&gt;\\\\n    &lt;/tr&gt;\\\\n  &lt;/tbody&gt;\\\\n&lt;/table&gt;\\\"}], \\\"references\\\": []}\",\"header\":\"{\\\"msgid\\\": \\\"1046\\\", \\\"msgtype\\\": \\\"PATCH-DOC\\\"}\",\"metadata\":\"{}\"}},\"values\":[\"O. glaberrima\"],\"widgets\":{\"1039\":0}},\"id\":\"1043\",\"type\":\"panel.models.state.State\"},{\"attributes\":{\"children\":[{\"id\":\"1034\"},{\"id\":\"1035\"}],\"margin\":[0,0,0,0],\"name\":\"Row00165\"},\"id\":\"1033\",\"type\":\"Row\"},{\"attributes\":{\"children\":[{\"id\":\"1036\"}],\"margin\":[0,0,0,0],\"name\":\"Row00162\"},\"id\":\"1035\",\"type\":\"Row\"},{\"attributes\":{\"children\":[{\"id\":\"1041\"}],\"css_classes\":[\"scrollable\"],\"margin\":[0,0,0,0],\"max_height\":400,\"min_width\":800,\"name\":\"Row00173\",\"width\":800},\"id\":\"1040\",\"type\":\"Row\"},{\"attributes\":{\"margin\":[5,5,5,5],\"name\":\"ParamMethod00166\",\"text\":\"&lt;table border=&quot;0&quot; class=&quot;dataframe panel-df&quot;&gt;\\n  &lt;thead&gt;\\n    &lt;tr style=&quot;text-align: right;&quot;&gt;\\n      &lt;th&gt;&lt;/th&gt;\\n      &lt;th&gt;sample&lt;/th&gt;\\n      &lt;th&gt;Species&lt;/th&gt;\\n    &lt;/tr&gt;\\n  &lt;/thead&gt;\\n  &lt;tbody&gt;\\n    &lt;tr&gt;\\n      &lt;th&gt;0&lt;/th&gt;\\n      &lt;td&gt;DT&lt;/td&gt;\\n      &lt;td&gt;O. glaberrima&lt;/td&gt;\\n    &lt;/tr&gt;\\n    &lt;tr&gt;\\n      &lt;th&gt;1&lt;/th&gt;\\n      &lt;td&gt;DV&lt;/td&gt;\\n      &lt;td&gt;O. glaberrima&lt;/td&gt;\\n    &lt;/tr&gt;\\n    &lt;tr&gt;\\n      &lt;th&gt;2&lt;/th&gt;\\n      &lt;td&gt;EA&lt;/td&gt;\\n      &lt;td&gt;O. glaberrima&lt;/td&gt;\\n    &lt;/tr&gt;\\n    &lt;tr&gt;\\n      &lt;th&gt;3&lt;/th&gt;\\n      &lt;td&gt;EB&lt;/td&gt;\\n      &lt;td&gt;O. glaberrima&lt;/td&gt;\\n    &lt;/tr&gt;\\n    &lt;tr&gt;\\n      &lt;th&gt;4&lt;/th&gt;\\n      &lt;td&gt;EC&lt;/td&gt;\\n      &lt;td&gt;O. glaberrima&lt;/td&gt;\\n    &lt;/tr&gt;\\n    &lt;tr&gt;\\n      &lt;th&gt;5&lt;/th&gt;\\n      &lt;td&gt;ED&lt;/td&gt;\\n      &lt;td&gt;O. glaberrima&lt;/td&gt;\\n    &lt;/tr&gt;\\n    &lt;tr&gt;\\n      &lt;th&gt;6&lt;/th&gt;\\n      &lt;td&gt;EE&lt;/td&gt;\\n      &lt;td&gt;O. glaberrima&lt;/td&gt;\\n    &lt;/tr&gt;\\n    &lt;tr&gt;\\n      &lt;th&gt;7&lt;/th&gt;\\n      &lt;td&gt;EF&lt;/td&gt;\\n      &lt;td&gt;O. glaberrima&lt;/td&gt;\\n    &lt;/tr&gt;\\n    &lt;tr&gt;\\n      &lt;th&gt;8&lt;/th&gt;\\n      &lt;td&gt;EG&lt;/td&gt;\\n      &lt;td&gt;O. glaberrima&lt;/td&gt;\\n    &lt;/tr&gt;\\n    &lt;tr&gt;\\n      &lt;th&gt;9&lt;/th&gt;\\n      &lt;td&gt;EH&lt;/td&gt;\\n      &lt;td&gt;O. glaberrima&lt;/td&gt;\\n    &lt;/tr&gt;\\n    &lt;tr&gt;\\n      &lt;th&gt;10&lt;/th&gt;\\n      &lt;td&gt;EI&lt;/td&gt;\\n      &lt;td&gt;O. glaberrima&lt;/td&gt;\\n    &lt;/tr&gt;\\n    &lt;tr&gt;\\n      &lt;th&gt;11&lt;/th&gt;\\n      &lt;td&gt;EK&lt;/td&gt;\\n      &lt;td&gt;O. glaberrima&lt;/td&gt;\\n    &lt;/tr&gt;\\n    &lt;tr&gt;\\n      &lt;th&gt;12&lt;/th&gt;\\n      &lt;td&gt;EL&lt;/td&gt;\\n      &lt;td&gt;O. glaberrima&lt;/td&gt;\\n    &lt;/tr&gt;\\n    &lt;tr&gt;\\n      &lt;th&gt;13&lt;/th&gt;\\n      &lt;td&gt;EM&lt;/td&gt;\\n      &lt;td&gt;O. glaberrima&lt;/td&gt;\\n    &lt;/tr&gt;\\n    &lt;tr&gt;\\n      &lt;th&gt;14&lt;/th&gt;\\n      &lt;td&gt;EN&lt;/td&gt;\\n      &lt;td&gt;O. glaberrima&lt;/td&gt;\\n    &lt;/tr&gt;\\n    &lt;tr&gt;\\n      &lt;th&gt;15&lt;/th&gt;\\n      &lt;td&gt;EP&lt;/td&gt;\\n      &lt;td&gt;O. glaberrima&lt;/td&gt;\\n    &lt;/tr&gt;\\n    &lt;tr&gt;\\n      &lt;th&gt;16&lt;/th&gt;\\n      &lt;td&gt;EQ&lt;/td&gt;\\n      &lt;td&gt;O. glaberrima&lt;/td&gt;\\n    &lt;/tr&gt;\\n    &lt;tr&gt;\\n      &lt;th&gt;17&lt;/th&gt;\\n      &lt;td&gt;ER&lt;/td&gt;\\n      &lt;td&gt;O. glaberrima&lt;/td&gt;\\n    &lt;/tr&gt;\\n    &lt;tr&gt;\\n      &lt;th&gt;18&lt;/th&gt;\\n      &lt;td&gt;ES&lt;/td&gt;\\n      &lt;td&gt;O. glaberrima&lt;/td&gt;\\n    &lt;/tr&gt;\\n    &lt;tr&gt;\\n      &lt;th&gt;19&lt;/th&gt;\\n      &lt;td&gt;ET&lt;/td&gt;\\n      &lt;td&gt;O. glaberrima&lt;/td&gt;\\n    &lt;/tr&gt;\\n    &lt;tr&gt;\\n      &lt;th&gt;20&lt;/th&gt;\\n      &lt;td&gt;EV&lt;/td&gt;\\n      &lt;td&gt;O. glaberrima&lt;/td&gt;\\n    &lt;/tr&gt;\\n    &lt;tr&gt;\\n      &lt;th&gt;21&lt;/th&gt;\\n      &lt;td&gt;FA&lt;/td&gt;\\n      &lt;td&gt;O. glaberrima&lt;/td&gt;\\n    &lt;/tr&gt;\\n    &lt;tr&gt;\\n      &lt;th&gt;22&lt;/th&gt;\\n      &lt;td&gt;FB&lt;/td&gt;\\n      &lt;td&gt;O. glaberrima&lt;/td&gt;\\n    &lt;/tr&gt;\\n    &lt;tr&gt;\\n      &lt;th&gt;23&lt;/th&gt;\\n      &lt;td&gt;FC&lt;/td&gt;\\n      &lt;td&gt;O. glaberrima&lt;/td&gt;\\n    &lt;/tr&gt;\\n    &lt;tr&gt;\\n      &lt;th&gt;24&lt;/th&gt;\\n      &lt;td&gt;FD&lt;/td&gt;\\n      &lt;td&gt;O. glaberrima&lt;/td&gt;\\n    &lt;/tr&gt;\\n    &lt;tr&gt;\\n      &lt;th&gt;25&lt;/th&gt;\\n      &lt;td&gt;FE&lt;/td&gt;\\n      &lt;td&gt;O. glaberrima&lt;/td&gt;\\n    &lt;/tr&gt;\\n    &lt;tr&gt;\\n      &lt;th&gt;26&lt;/th&gt;\\n      &lt;td&gt;FF&lt;/td&gt;\\n      &lt;td&gt;O. glaberrima&lt;/td&gt;\\n    &lt;/tr&gt;\\n    &lt;tr&gt;\\n      &lt;th&gt;27&lt;/th&gt;\\n      &lt;td&gt;FG&lt;/td&gt;\\n      &lt;td&gt;O. glaberrima&lt;/td&gt;\\n    &lt;/tr&gt;\\n    &lt;tr&gt;\\n      &lt;th&gt;28&lt;/th&gt;\\n      &lt;td&gt;FH&lt;/td&gt;\\n      &lt;td&gt;O. glaberrima&lt;/td&gt;\\n    &lt;/tr&gt;\\n    &lt;tr&gt;\\n      &lt;th&gt;29&lt;/th&gt;\\n      &lt;td&gt;FI&lt;/td&gt;\\n      &lt;td&gt;O. glaberrima&lt;/td&gt;\\n    &lt;/tr&gt;\\n    &lt;tr&gt;\\n      &lt;th&gt;30&lt;/th&gt;\\n      &lt;td&gt;FK&lt;/td&gt;\\n      &lt;td&gt;O. glaberrima&lt;/td&gt;\\n    &lt;/tr&gt;\\n    &lt;tr&gt;\\n      &lt;th&gt;31&lt;/th&gt;\\n      &lt;td&gt;FL&lt;/td&gt;\\n      &lt;td&gt;O. glaberrima&lt;/td&gt;\\n    &lt;/tr&gt;\\n    &lt;tr&gt;\\n      &lt;th&gt;32&lt;/th&gt;\\n      &lt;td&gt;FM&lt;/td&gt;\\n      &lt;td&gt;O. glaberrima&lt;/td&gt;\\n    &lt;/tr&gt;\\n    &lt;tr&gt;\\n      &lt;th&gt;33&lt;/th&gt;\\n      &lt;td&gt;FN&lt;/td&gt;\\n      &lt;td&gt;O. glaberrima&lt;/td&gt;\\n    &lt;/tr&gt;\\n    &lt;tr&gt;\\n      &lt;th&gt;34&lt;/th&gt;\\n      &lt;td&gt;FP&lt;/td&gt;\\n      &lt;td&gt;O. glaberrima&lt;/td&gt;\\n    &lt;/tr&gt;\\n    &lt;tr&gt;\\n      &lt;th&gt;35&lt;/th&gt;\\n      &lt;td&gt;FQ&lt;/td&gt;\\n      &lt;td&gt;O. glaberrima&lt;/td&gt;\\n    &lt;/tr&gt;\\n    &lt;tr&gt;\\n      &lt;th&gt;36&lt;/th&gt;\\n      &lt;td&gt;FR&lt;/td&gt;\\n      &lt;td&gt;O. glaberrima&lt;/td&gt;\\n    &lt;/tr&gt;\\n    &lt;tr&gt;\\n      &lt;th&gt;37&lt;/th&gt;\\n      &lt;td&gt;FS&lt;/td&gt;\\n      &lt;td&gt;O. glaberrima&lt;/td&gt;\\n    &lt;/tr&gt;\\n    &lt;tr&gt;\\n      &lt;th&gt;38&lt;/th&gt;\\n      &lt;td&gt;FT&lt;/td&gt;\\n      &lt;td&gt;O. glaberrima&lt;/td&gt;\\n    &lt;/tr&gt;\\n    &lt;tr&gt;\\n      &lt;th&gt;39&lt;/th&gt;\\n      &lt;td&gt;FV&lt;/td&gt;\\n      &lt;td&gt;O. glaberrima&lt;/td&gt;\\n    &lt;/tr&gt;\\n    &lt;tr&gt;\\n      &lt;th&gt;40&lt;/th&gt;\\n      &lt;td&gt;GA&lt;/td&gt;\\n      &lt;td&gt;O. glaberrima&lt;/td&gt;\\n    &lt;/tr&gt;\\n    &lt;tr&gt;\\n      &lt;th&gt;41&lt;/th&gt;\\n      &lt;td&gt;GB&lt;/td&gt;\\n      &lt;td&gt;O. glaberrima&lt;/td&gt;\\n    &lt;/tr&gt;\\n    &lt;tr&gt;\\n      &lt;th&gt;42&lt;/th&gt;\\n      &lt;td&gt;GC&lt;/td&gt;\\n      &lt;td&gt;O. glaberrima&lt;/td&gt;\\n    &lt;/tr&gt;\\n    &lt;tr&gt;\\n      &lt;th&gt;43&lt;/th&gt;\\n      &lt;td&gt;GD&lt;/td&gt;\\n      &lt;td&gt;O. glaberrima&lt;/td&gt;\\n    &lt;/tr&gt;\\n    &lt;tr&gt;\\n      &lt;th&gt;44&lt;/th&gt;\\n      &lt;td&gt;GE&lt;/td&gt;\\n      &lt;td&gt;O. glaberrima&lt;/td&gt;\\n    &lt;/tr&gt;\\n    &lt;tr&gt;\\n      &lt;th&gt;45&lt;/th&gt;\\n      &lt;td&gt;GF&lt;/td&gt;\\n      &lt;td&gt;O. glaberrima&lt;/td&gt;\\n    &lt;/tr&gt;\\n    &lt;tr&gt;\\n      &lt;th&gt;46&lt;/th&gt;\\n      &lt;td&gt;GG&lt;/td&gt;\\n      &lt;td&gt;O. glaberrima&lt;/td&gt;\\n    &lt;/tr&gt;\\n    &lt;tr&gt;\\n      &lt;th&gt;47&lt;/th&gt;\\n      &lt;td&gt;GH&lt;/td&gt;\\n      &lt;td&gt;O. glaberrima&lt;/td&gt;\\n    &lt;/tr&gt;\\n    &lt;tr&gt;\\n      &lt;th&gt;48&lt;/th&gt;\\n      &lt;td&gt;GI&lt;/td&gt;\\n      &lt;td&gt;O. glaberrima&lt;/td&gt;\\n    &lt;/tr&gt;\\n    &lt;tr&gt;\\n      &lt;th&gt;49&lt;/th&gt;\\n      &lt;td&gt;GK&lt;/td&gt;\\n      &lt;td&gt;O. glaberrima&lt;/td&gt;\\n    &lt;/tr&gt;\\n    &lt;tr&gt;\\n      &lt;th&gt;50&lt;/th&gt;\\n      &lt;td&gt;GL&lt;/td&gt;\\n      &lt;td&gt;O. glaberrima&lt;/td&gt;\\n    &lt;/tr&gt;\\n    &lt;tr&gt;\\n      &lt;th&gt;51&lt;/th&gt;\\n      &lt;td&gt;GM&lt;/td&gt;\\n      &lt;td&gt;O. glaberrima&lt;/td&gt;\\n    &lt;/tr&gt;\\n    &lt;tr&gt;\\n      &lt;th&gt;52&lt;/th&gt;\\n      &lt;td&gt;GN&lt;/td&gt;\\n      &lt;td&gt;O. glaberrima&lt;/td&gt;\\n    &lt;/tr&gt;\\n    &lt;tr&gt;\\n      &lt;th&gt;53&lt;/th&gt;\\n      &lt;td&gt;GP&lt;/td&gt;\\n      &lt;td&gt;O. glaberrima&lt;/td&gt;\\n    &lt;/tr&gt;\\n    &lt;tr&gt;\\n      &lt;th&gt;54&lt;/th&gt;\\n      &lt;td&gt;GQ&lt;/td&gt;\\n      &lt;td&gt;O. glaberrima&lt;/td&gt;\\n    &lt;/tr&gt;\\n    &lt;tr&gt;\\n      &lt;th&gt;55&lt;/th&gt;\\n      &lt;td&gt;GR&lt;/td&gt;\\n      &lt;td&gt;O. glaberrima&lt;/td&gt;\\n    &lt;/tr&gt;\\n    &lt;tr&gt;\\n      &lt;th&gt;56&lt;/th&gt;\\n      &lt;td&gt;GS&lt;/td&gt;\\n      &lt;td&gt;O. glaberrima&lt;/td&gt;\\n    &lt;/tr&gt;\\n    &lt;tr&gt;\\n      &lt;th&gt;57&lt;/th&gt;\\n      &lt;td&gt;GT&lt;/td&gt;\\n      &lt;td&gt;O. glaberrima&lt;/td&gt;\\n    &lt;/tr&gt;\\n    &lt;tr&gt;\\n      &lt;th&gt;58&lt;/th&gt;\\n      &lt;td&gt;GV&lt;/td&gt;\\n      &lt;td&gt;O. glaberrima&lt;/td&gt;\\n    &lt;/tr&gt;\\n    &lt;tr&gt;\\n      &lt;th&gt;59&lt;/th&gt;\\n      &lt;td&gt;HA&lt;/td&gt;\\n      &lt;td&gt;O. glaberrima&lt;/td&gt;\\n    &lt;/tr&gt;\\n    &lt;tr&gt;\\n      &lt;th&gt;60&lt;/th&gt;\\n      &lt;td&gt;HB&lt;/td&gt;\\n      &lt;td&gt;O. glaberrima&lt;/td&gt;\\n    &lt;/tr&gt;\\n    &lt;tr&gt;\\n      &lt;th&gt;61&lt;/th&gt;\\n      &lt;td&gt;HC&lt;/td&gt;\\n      &lt;td&gt;O. glaberrima&lt;/td&gt;\\n    &lt;/tr&gt;\\n    &lt;tr&gt;\\n      &lt;th&gt;62&lt;/th&gt;\\n      &lt;td&gt;HD&lt;/td&gt;\\n      &lt;td&gt;O. glaberrima&lt;/td&gt;\\n    &lt;/tr&gt;\\n    &lt;tr&gt;\\n      &lt;th&gt;63&lt;/th&gt;\\n      &lt;td&gt;HE&lt;/td&gt;\\n      &lt;td&gt;O. glaberrima&lt;/td&gt;\\n    &lt;/tr&gt;\\n    &lt;tr&gt;\\n      &lt;th&gt;64&lt;/th&gt;\\n      &lt;td&gt;HF&lt;/td&gt;\\n      &lt;td&gt;O. glaberrima&lt;/td&gt;\\n    &lt;/tr&gt;\\n    &lt;tr&gt;\\n      &lt;th&gt;65&lt;/th&gt;\\n      &lt;td&gt;HG&lt;/td&gt;\\n      &lt;td&gt;O. glaberrima&lt;/td&gt;\\n    &lt;/tr&gt;\\n    &lt;tr&gt;\\n      &lt;th&gt;66&lt;/th&gt;\\n      &lt;td&gt;HH&lt;/td&gt;\\n      &lt;td&gt;O. glaberrima&lt;/td&gt;\\n    &lt;/tr&gt;\\n    &lt;tr&gt;\\n      &lt;th&gt;67&lt;/th&gt;\\n      &lt;td&gt;HI&lt;/td&gt;\\n      &lt;td&gt;O. glaberrima&lt;/td&gt;\\n    &lt;/tr&gt;\\n    &lt;tr&gt;\\n      &lt;th&gt;68&lt;/th&gt;\\n      &lt;td&gt;HK&lt;/td&gt;\\n      &lt;td&gt;O. glaberrima&lt;/td&gt;\\n    &lt;/tr&gt;\\n    &lt;tr&gt;\\n      &lt;th&gt;69&lt;/th&gt;\\n      &lt;td&gt;HL&lt;/td&gt;\\n      &lt;td&gt;O. glaberrima&lt;/td&gt;\\n    &lt;/tr&gt;\\n    &lt;tr&gt;\\n      &lt;th&gt;70&lt;/th&gt;\\n      &lt;td&gt;HM&lt;/td&gt;\\n      &lt;td&gt;O. glaberrima&lt;/td&gt;\\n    &lt;/tr&gt;\\n    &lt;tr&gt;\\n      &lt;th&gt;71&lt;/th&gt;\\n      &lt;td&gt;HN&lt;/td&gt;\\n      &lt;td&gt;O. glaberrima&lt;/td&gt;\\n    &lt;/tr&gt;\\n    &lt;tr&gt;\\n      &lt;th&gt;72&lt;/th&gt;\\n      &lt;td&gt;HP&lt;/td&gt;\\n      &lt;td&gt;O. glaberrima&lt;/td&gt;\\n    &lt;/tr&gt;\\n    &lt;tr&gt;\\n      &lt;th&gt;73&lt;/th&gt;\\n      &lt;td&gt;HQ&lt;/td&gt;\\n      &lt;td&gt;O. glaberrima&lt;/td&gt;\\n    &lt;/tr&gt;\\n    &lt;tr&gt;\\n      &lt;th&gt;74&lt;/th&gt;\\n      &lt;td&gt;HR&lt;/td&gt;\\n      &lt;td&gt;O. glaberrima&lt;/td&gt;\\n    &lt;/tr&gt;\\n    &lt;tr&gt;\\n      &lt;th&gt;75&lt;/th&gt;\\n      &lt;td&gt;HS&lt;/td&gt;\\n      &lt;td&gt;O. glaberrima&lt;/td&gt;\\n    &lt;/tr&gt;\\n    &lt;tr&gt;\\n      &lt;th&gt;76&lt;/th&gt;\\n      &lt;td&gt;HT&lt;/td&gt;\\n      &lt;td&gt;O. glaberrima&lt;/td&gt;\\n    &lt;/tr&gt;\\n    &lt;tr&gt;\\n      &lt;th&gt;77&lt;/th&gt;\\n      &lt;td&gt;HV&lt;/td&gt;\\n      &lt;td&gt;O. glaberrima&lt;/td&gt;\\n    &lt;/tr&gt;\\n    &lt;tr&gt;\\n      &lt;th&gt;78&lt;/th&gt;\\n      &lt;td&gt;IA&lt;/td&gt;\\n      &lt;td&gt;O. glaberrima&lt;/td&gt;\\n    &lt;/tr&gt;\\n    &lt;tr&gt;\\n      &lt;th&gt;79&lt;/th&gt;\\n      &lt;td&gt;IB&lt;/td&gt;\\n      &lt;td&gt;O. glaberrima&lt;/td&gt;\\n    &lt;/tr&gt;\\n    &lt;tr&gt;\\n      &lt;th&gt;80&lt;/th&gt;\\n      &lt;td&gt;IC&lt;/td&gt;\\n      &lt;td&gt;O. glaberrima&lt;/td&gt;\\n    &lt;/tr&gt;\\n    &lt;tr&gt;\\n      &lt;th&gt;81&lt;/th&gt;\\n      &lt;td&gt;ID&lt;/td&gt;\\n      &lt;td&gt;O. glaberrima&lt;/td&gt;\\n    &lt;/tr&gt;\\n    &lt;tr&gt;\\n      &lt;th&gt;82&lt;/th&gt;\\n      &lt;td&gt;IE&lt;/td&gt;\\n      &lt;td&gt;O. glaberrima&lt;/td&gt;\\n    &lt;/tr&gt;\\n    &lt;tr&gt;\\n      &lt;th&gt;83&lt;/th&gt;\\n      &lt;td&gt;IF&lt;/td&gt;\\n      &lt;td&gt;O. glaberrima&lt;/td&gt;\\n    &lt;/tr&gt;\\n    &lt;tr&gt;\\n      &lt;th&gt;84&lt;/th&gt;\\n      &lt;td&gt;IG&lt;/td&gt;\\n      &lt;td&gt;O. glaberrima&lt;/td&gt;\\n    &lt;/tr&gt;\\n    &lt;tr&gt;\\n      &lt;th&gt;85&lt;/th&gt;\\n      &lt;td&gt;IH&lt;/td&gt;\\n      &lt;td&gt;O. glaberrima&lt;/td&gt;\\n    &lt;/tr&gt;\\n    &lt;tr&gt;\\n      &lt;th&gt;86&lt;/th&gt;\\n      &lt;td&gt;II&lt;/td&gt;\\n      &lt;td&gt;O. glaberrima&lt;/td&gt;\\n    &lt;/tr&gt;\\n    &lt;tr&gt;\\n      &lt;th&gt;87&lt;/th&gt;\\n      &lt;td&gt;IK&lt;/td&gt;\\n      &lt;td&gt;O. glaberrima&lt;/td&gt;\\n    &lt;/tr&gt;\\n    &lt;tr&gt;\\n      &lt;th&gt;88&lt;/th&gt;\\n      &lt;td&gt;IL&lt;/td&gt;\\n      &lt;td&gt;O. glaberrima&lt;/td&gt;\\n    &lt;/tr&gt;\\n    &lt;tr&gt;\\n      &lt;th&gt;89&lt;/th&gt;\\n      &lt;td&gt;IM&lt;/td&gt;\\n      &lt;td&gt;O. glaberrima&lt;/td&gt;\\n    &lt;/tr&gt;\\n    &lt;tr&gt;\\n      &lt;th&gt;90&lt;/th&gt;\\n      &lt;td&gt;IN&lt;/td&gt;\\n      &lt;td&gt;O. glaberrima&lt;/td&gt;\\n    &lt;/tr&gt;\\n    &lt;tr&gt;\\n      &lt;th&gt;91&lt;/th&gt;\\n      &lt;td&gt;IP&lt;/td&gt;\\n      &lt;td&gt;O. glaberrima&lt;/td&gt;\\n    &lt;/tr&gt;\\n    &lt;tr&gt;\\n      &lt;th&gt;92&lt;/th&gt;\\n      &lt;td&gt;IQ&lt;/td&gt;\\n      &lt;td&gt;O. glaberrima&lt;/td&gt;\\n    &lt;/tr&gt;\\n    &lt;tr&gt;\\n      &lt;th&gt;93&lt;/th&gt;\\n      &lt;td&gt;IR&lt;/td&gt;\\n      &lt;td&gt;O. glaberrima&lt;/td&gt;\\n    &lt;/tr&gt;\\n    &lt;tr&gt;\\n      &lt;th&gt;94&lt;/th&gt;\\n      &lt;td&gt;IS&lt;/td&gt;\\n      &lt;td&gt;O. glaberrima&lt;/td&gt;\\n    &lt;/tr&gt;\\n    &lt;tr&gt;\\n      &lt;th&gt;95&lt;/th&gt;\\n      &lt;td&gt;IT&lt;/td&gt;\\n      &lt;td&gt;O. glaberrima&lt;/td&gt;\\n    &lt;/tr&gt;\\n    &lt;tr&gt;\\n      &lt;th&gt;96&lt;/th&gt;\\n      &lt;td&gt;IV&lt;/td&gt;\\n      &lt;td&gt;O. glaberrima&lt;/td&gt;\\n    &lt;/tr&gt;\\n    &lt;tr&gt;\\n      &lt;th&gt;97&lt;/th&gt;\\n      &lt;td&gt;KA&lt;/td&gt;\\n      &lt;td&gt;O. glaberrima&lt;/td&gt;\\n    &lt;/tr&gt;\\n    &lt;tr&gt;\\n      &lt;th&gt;98&lt;/th&gt;\\n      &lt;td&gt;KBbis&lt;/td&gt;\\n      &lt;td&gt;O. glaberrima&lt;/td&gt;\\n    &lt;/tr&gt;\\n    &lt;tr&gt;\\n      &lt;th&gt;99&lt;/th&gt;\\n      &lt;td&gt;KB&lt;/td&gt;\\n      &lt;td&gt;O. glaberrima&lt;/td&gt;\\n    &lt;/tr&gt;\\n    &lt;tr&gt;\\n      &lt;th&gt;100&lt;/th&gt;\\n      &lt;td&gt;KC&lt;/td&gt;\\n      &lt;td&gt;O. glaberrima&lt;/td&gt;\\n    &lt;/tr&gt;\\n    &lt;tr&gt;\\n      &lt;th&gt;101&lt;/th&gt;\\n      &lt;td&gt;KD&lt;/td&gt;\\n      &lt;td&gt;O. glaberrima&lt;/td&gt;\\n    &lt;/tr&gt;\\n    &lt;tr&gt;\\n      &lt;th&gt;102&lt;/th&gt;\\n      &lt;td&gt;KE&lt;/td&gt;\\n      &lt;td&gt;O. glaberrima&lt;/td&gt;\\n    &lt;/tr&gt;\\n    &lt;tr&gt;\\n      &lt;th&gt;103&lt;/th&gt;\\n      &lt;td&gt;KF&lt;/td&gt;\\n      &lt;td&gt;O. glaberrima&lt;/td&gt;\\n    &lt;/tr&gt;\\n    &lt;tr&gt;\\n      &lt;th&gt;104&lt;/th&gt;\\n      &lt;td&gt;KG&lt;/td&gt;\\n      &lt;td&gt;O. glaberrima&lt;/td&gt;\\n    &lt;/tr&gt;\\n    &lt;tr&gt;\\n      &lt;th&gt;105&lt;/th&gt;\\n      &lt;td&gt;KH&lt;/td&gt;\\n      &lt;td&gt;O. glaberrima&lt;/td&gt;\\n    &lt;/tr&gt;\\n    &lt;tr&gt;\\n      &lt;th&gt;106&lt;/th&gt;\\n      &lt;td&gt;KI&lt;/td&gt;\\n      &lt;td&gt;O. glaberrima&lt;/td&gt;\\n    &lt;/tr&gt;\\n    &lt;tr&gt;\\n      &lt;th&gt;107&lt;/th&gt;\\n      &lt;td&gt;KK&lt;/td&gt;\\n      &lt;td&gt;O. glaberrima&lt;/td&gt;\\n    &lt;/tr&gt;\\n    &lt;tr&gt;\\n      &lt;th&gt;108&lt;/th&gt;\\n      &lt;td&gt;KL&lt;/td&gt;\\n      &lt;td&gt;O. glaberrima&lt;/td&gt;\\n    &lt;/tr&gt;\\n    &lt;tr&gt;\\n      &lt;th&gt;109&lt;/th&gt;\\n      &lt;td&gt;KM&lt;/td&gt;\\n      &lt;td&gt;O. glaberrima&lt;/td&gt;\\n    &lt;/tr&gt;\\n    &lt;tr&gt;\\n      &lt;th&gt;110&lt;/th&gt;\\n      &lt;td&gt;KN&lt;/td&gt;\\n      &lt;td&gt;O. glaberrima&lt;/td&gt;\\n    &lt;/tr&gt;\\n    &lt;tr&gt;\\n      &lt;th&gt;111&lt;/th&gt;\\n      &lt;td&gt;KP&lt;/td&gt;\\n      &lt;td&gt;O. glaberrima&lt;/td&gt;\\n    &lt;/tr&gt;\\n    &lt;tr&gt;\\n      &lt;th&gt;112&lt;/th&gt;\\n      &lt;td&gt;KQ&lt;/td&gt;\\n      &lt;td&gt;O. glaberrima&lt;/td&gt;\\n    &lt;/tr&gt;\\n    &lt;tr&gt;\\n      &lt;th&gt;113&lt;/th&gt;\\n      &lt;td&gt;KR&lt;/td&gt;\\n      &lt;td&gt;O. glaberrima&lt;/td&gt;\\n    &lt;/tr&gt;\\n    &lt;tr&gt;\\n      &lt;th&gt;114&lt;/th&gt;\\n      &lt;td&gt;KS&lt;/td&gt;\\n      &lt;td&gt;O. glaberrima&lt;/td&gt;\\n    &lt;/tr&gt;\\n    &lt;tr&gt;\\n      &lt;th&gt;115&lt;/th&gt;\\n      &lt;td&gt;KT&lt;/td&gt;\\n      &lt;td&gt;O. glaberrima&lt;/td&gt;\\n    &lt;/tr&gt;\\n    &lt;tr&gt;\\n      &lt;th&gt;116&lt;/th&gt;\\n      &lt;td&gt;KV&lt;/td&gt;\\n      &lt;td&gt;O. glaberrima&lt;/td&gt;\\n    &lt;/tr&gt;\\n    &lt;tr&gt;\\n      &lt;th&gt;117&lt;/th&gt;\\n      &lt;td&gt;LA&lt;/td&gt;\\n      &lt;td&gt;O. glaberrima&lt;/td&gt;\\n    &lt;/tr&gt;\\n    &lt;tr&gt;\\n      &lt;th&gt;118&lt;/th&gt;\\n      &lt;td&gt;LB&lt;/td&gt;\\n      &lt;td&gt;O. glaberrima&lt;/td&gt;\\n    &lt;/tr&gt;\\n    &lt;tr&gt;\\n      &lt;th&gt;119&lt;/th&gt;\\n      &lt;td&gt;LC&lt;/td&gt;\\n      &lt;td&gt;O. glaberrima&lt;/td&gt;\\n    &lt;/tr&gt;\\n    &lt;tr&gt;\\n      &lt;th&gt;120&lt;/th&gt;\\n      &lt;td&gt;LD&lt;/td&gt;\\n      &lt;td&gt;O. glaberrima&lt;/td&gt;\\n    &lt;/tr&gt;\\n    &lt;tr&gt;\\n      &lt;th&gt;121&lt;/th&gt;\\n      &lt;td&gt;LE&lt;/td&gt;\\n      &lt;td&gt;O. glaberrima&lt;/td&gt;\\n    &lt;/tr&gt;\\n    &lt;tr&gt;\\n      &lt;th&gt;122&lt;/th&gt;\\n      &lt;td&gt;LF&lt;/td&gt;\\n      &lt;td&gt;O. glaberrima&lt;/td&gt;\\n    &lt;/tr&gt;\\n    &lt;tr&gt;\\n      &lt;th&gt;123&lt;/th&gt;\\n      &lt;td&gt;LG&lt;/td&gt;\\n      &lt;td&gt;O. glaberrima&lt;/td&gt;\\n    &lt;/tr&gt;\\n    &lt;tr&gt;\\n      &lt;th&gt;124&lt;/th&gt;\\n      &lt;td&gt;LH&lt;/td&gt;\\n      &lt;td&gt;O. glaberrima&lt;/td&gt;\\n    &lt;/tr&gt;\\n    &lt;tr&gt;\\n      &lt;th&gt;125&lt;/th&gt;\\n      &lt;td&gt;LI&lt;/td&gt;\\n      &lt;td&gt;O. glaberrima&lt;/td&gt;\\n    &lt;/tr&gt;\\n    &lt;tr&gt;\\n      &lt;th&gt;126&lt;/th&gt;\\n      &lt;td&gt;LK&lt;/td&gt;\\n      &lt;td&gt;O. glaberrima&lt;/td&gt;\\n    &lt;/tr&gt;\\n    &lt;tr&gt;\\n      &lt;th&gt;127&lt;/th&gt;\\n      &lt;td&gt;LL&lt;/td&gt;\\n      &lt;td&gt;O. glaberrima&lt;/td&gt;\\n    &lt;/tr&gt;\\n    &lt;tr&gt;\\n      &lt;th&gt;128&lt;/th&gt;\\n      &lt;td&gt;LM&lt;/td&gt;\\n      &lt;td&gt;O. glaberrima&lt;/td&gt;\\n    &lt;/tr&gt;\\n    &lt;tr&gt;\\n      &lt;th&gt;129&lt;/th&gt;\\n      &lt;td&gt;LN&lt;/td&gt;\\n      &lt;td&gt;O. glaberrima&lt;/td&gt;\\n    &lt;/tr&gt;\\n    &lt;tr&gt;\\n      &lt;th&gt;130&lt;/th&gt;\\n      &lt;td&gt;LP&lt;/td&gt;\\n      &lt;td&gt;O. glaberrima&lt;/td&gt;\\n    &lt;/tr&gt;\\n    &lt;tr&gt;\\n      &lt;th&gt;131&lt;/th&gt;\\n      &lt;td&gt;LQ&lt;/td&gt;\\n      &lt;td&gt;O. glaberrima&lt;/td&gt;\\n    &lt;/tr&gt;\\n    &lt;tr&gt;\\n      &lt;th&gt;132&lt;/th&gt;\\n      &lt;td&gt;LR&lt;/td&gt;\\n      &lt;td&gt;O. glaberrima&lt;/td&gt;\\n    &lt;/tr&gt;\\n    &lt;tr&gt;\\n      &lt;th&gt;133&lt;/th&gt;\\n      &lt;td&gt;LS&lt;/td&gt;\\n      &lt;td&gt;O. glaberrima&lt;/td&gt;\\n    &lt;/tr&gt;\\n    &lt;tr&gt;\\n      &lt;th&gt;134&lt;/th&gt;\\n      &lt;td&gt;LT&lt;/td&gt;\\n      &lt;td&gt;O. glaberrima&lt;/td&gt;\\n    &lt;/tr&gt;\\n    &lt;tr&gt;\\n      &lt;th&gt;135&lt;/th&gt;\\n      &lt;td&gt;LV&lt;/td&gt;\\n      &lt;td&gt;O. glaberrima&lt;/td&gt;\\n    &lt;/tr&gt;\\n    &lt;tr&gt;\\n      &lt;th&gt;136&lt;/th&gt;\\n      &lt;td&gt;MA&lt;/td&gt;\\n      &lt;td&gt;O. glaberrima&lt;/td&gt;\\n    &lt;/tr&gt;\\n    &lt;tr&gt;\\n      &lt;th&gt;137&lt;/th&gt;\\n      &lt;td&gt;MB&lt;/td&gt;\\n      &lt;td&gt;O. glaberrima&lt;/td&gt;\\n    &lt;/tr&gt;\\n    &lt;tr&gt;\\n      &lt;th&gt;138&lt;/th&gt;\\n      &lt;td&gt;MC&lt;/td&gt;\\n      &lt;td&gt;O. glaberrima&lt;/td&gt;\\n    &lt;/tr&gt;\\n    &lt;tr&gt;\\n      &lt;th&gt;139&lt;/th&gt;\\n      &lt;td&gt;MD&lt;/td&gt;\\n      &lt;td&gt;O. glaberrima&lt;/td&gt;\\n    &lt;/tr&gt;\\n    &lt;tr&gt;\\n      &lt;th&gt;140&lt;/th&gt;\\n      &lt;td&gt;ME&lt;/td&gt;\\n      &lt;td&gt;O. glaberrima&lt;/td&gt;\\n    &lt;/tr&gt;\\n    &lt;tr&gt;\\n      &lt;th&gt;141&lt;/th&gt;\\n      &lt;td&gt;MF&lt;/td&gt;\\n      &lt;td&gt;O. glaberrima&lt;/td&gt;\\n    &lt;/tr&gt;\\n    &lt;tr&gt;\\n      &lt;th&gt;142&lt;/th&gt;\\n      &lt;td&gt;MG&lt;/td&gt;\\n      &lt;td&gt;O. glaberrima&lt;/td&gt;\\n    &lt;/tr&gt;\\n    &lt;tr&gt;\\n      &lt;th&gt;143&lt;/th&gt;\\n      &lt;td&gt;MH&lt;/td&gt;\\n      &lt;td&gt;O. glaberrima&lt;/td&gt;\\n    &lt;/tr&gt;\\n    &lt;tr&gt;\\n      &lt;th&gt;144&lt;/th&gt;\\n      &lt;td&gt;MI&lt;/td&gt;\\n      &lt;td&gt;O. glaberrima&lt;/td&gt;\\n    &lt;/tr&gt;\\n    &lt;tr&gt;\\n      &lt;th&gt;145&lt;/th&gt;\\n      &lt;td&gt;MK&lt;/td&gt;\\n      &lt;td&gt;O. glaberrima&lt;/td&gt;\\n    &lt;/tr&gt;\\n    &lt;tr&gt;\\n      &lt;th&gt;146&lt;/th&gt;\\n      &lt;td&gt;ML&lt;/td&gt;\\n      &lt;td&gt;O. glaberrima&lt;/td&gt;\\n    &lt;/tr&gt;\\n    &lt;tr&gt;\\n      &lt;th&gt;147&lt;/th&gt;\\n      &lt;td&gt;MM&lt;/td&gt;\\n      &lt;td&gt;O. glaberrima&lt;/td&gt;\\n    &lt;/tr&gt;\\n    &lt;tr&gt;\\n      &lt;th&gt;148&lt;/th&gt;\\n      &lt;td&gt;MP&lt;/td&gt;\\n      &lt;td&gt;O. glaberrima&lt;/td&gt;\\n    &lt;/tr&gt;\\n    &lt;tr&gt;\\n      &lt;th&gt;149&lt;/th&gt;\\n      &lt;td&gt;MQ&lt;/td&gt;\\n      &lt;td&gt;O. glaberrima&lt;/td&gt;\\n    &lt;/tr&gt;\\n    &lt;tr&gt;\\n      &lt;th&gt;150&lt;/th&gt;\\n      &lt;td&gt;MR&lt;/td&gt;\\n      &lt;td&gt;O. glaberrima&lt;/td&gt;\\n    &lt;/tr&gt;\\n    &lt;tr&gt;\\n      &lt;th&gt;151&lt;/th&gt;\\n      &lt;td&gt;MS&lt;/td&gt;\\n      &lt;td&gt;O. glaberrima&lt;/td&gt;\\n    &lt;/tr&gt;\\n    &lt;tr&gt;\\n      &lt;th&gt;152&lt;/th&gt;\\n      &lt;td&gt;MT&lt;/td&gt;\\n      &lt;td&gt;O. glaberrima&lt;/td&gt;\\n    &lt;/tr&gt;\\n    &lt;tr&gt;\\n      &lt;th&gt;153&lt;/th&gt;\\n      &lt;td&gt;MV&lt;/td&gt;\\n      &lt;td&gt;O. glaberrima&lt;/td&gt;\\n    &lt;/tr&gt;\\n    &lt;tr&gt;\\n      &lt;th&gt;154&lt;/th&gt;\\n      &lt;td&gt;NaN&lt;/td&gt;\\n      &lt;td&gt;O. glaberrima&lt;/td&gt;\\n    &lt;/tr&gt;\\n    &lt;tr&gt;\\n      &lt;th&gt;155&lt;/th&gt;\\n      &lt;td&gt;NB&lt;/td&gt;\\n      &lt;td&gt;O. glaberrima&lt;/td&gt;\\n    &lt;/tr&gt;\\n    &lt;tr&gt;\\n      &lt;th&gt;156&lt;/th&gt;\\n      &lt;td&gt;NC&lt;/td&gt;\\n      &lt;td&gt;O. glaberrima&lt;/td&gt;\\n    &lt;/tr&gt;\\n    &lt;tr&gt;\\n      &lt;th&gt;157&lt;/th&gt;\\n      &lt;td&gt;ND&lt;/td&gt;\\n      &lt;td&gt;O. glaberrima&lt;/td&gt;\\n    &lt;/tr&gt;\\n    &lt;tr&gt;\\n      &lt;th&gt;158&lt;/th&gt;\\n      &lt;td&gt;NE&lt;/td&gt;\\n      &lt;td&gt;O. glaberrima&lt;/td&gt;\\n    &lt;/tr&gt;\\n    &lt;tr&gt;\\n      &lt;th&gt;159&lt;/th&gt;\\n      &lt;td&gt;NF&lt;/td&gt;\\n      &lt;td&gt;O. glaberrima&lt;/td&gt;\\n    &lt;/tr&gt;\\n    &lt;tr&gt;\\n      &lt;th&gt;160&lt;/th&gt;\\n      &lt;td&gt;NG&lt;/td&gt;\\n      &lt;td&gt;O. glaberrima&lt;/td&gt;\\n    &lt;/tr&gt;\\n    &lt;tr&gt;\\n      &lt;th&gt;161&lt;/th&gt;\\n      &lt;td&gt;NH&lt;/td&gt;\\n      &lt;td&gt;O. glaberrima&lt;/td&gt;\\n    &lt;/tr&gt;\\n    &lt;tr&gt;\\n      &lt;th&gt;162&lt;/th&gt;\\n      &lt;td&gt;NI&lt;/td&gt;\\n      &lt;td&gt;O. glaberrima&lt;/td&gt;\\n    &lt;/tr&gt;\\n    &lt;tr&gt;\\n      &lt;th&gt;163&lt;/th&gt;\\n      &lt;td&gt;TOG5681&lt;/td&gt;\\n      &lt;td&gt;O. glaberrima&lt;/td&gt;\\n    &lt;/tr&gt;\\n  &lt;/tbody&gt;\\n&lt;/table&gt;\"},\"id\":\"1042\",\"type\":\"panel.models.markup.HTML\"},{\"attributes\":{\"css_classes\":[\"markdown\"],\"margin\":[5,5,5,5],\"name\":\"Markdown00174\",\"text\":\"&lt;h1&gt;Population Group&lt;/h1&gt;\"},\"id\":\"1032\",\"type\":\"panel.models.markup.HTML\"},{\"attributes\":{\"css_classes\":[\"markdown\"],\"margin\":[5,5,5,5],\"name\":\"Markdown00156\",\"text\":\"&lt;h2&gt;Samples : 249&lt;/h2&gt;\\n&lt;h4&gt;Group : O. glaberrima O. barthii&lt;/h4&gt;\"},\"id\":\"1034\",\"type\":\"panel.models.markup.HTML\"},{\"attributes\":{\"height\":216,\"margin\":[5,5,5,5],\"name\":\"ParamMethod00158\",\"text\":\"&lt;img src=&quot;data:image/png;base64,iVBORw0KGgoAAAANSUhEUgAAAkAAAAGwCAYAAABB4NqyAAAAOXRFWHRTb2Z0d2FyZQBNYXRwbG90bGliIHZlcnNpb24zLjQuMywgaHR0cHM6Ly9tYXRwbG90bGliLm9yZy/MnkTPAAAACXBIWXMAABYlAAAWJQFJUiTwAAAaEElEQVR4nO3dfZRkdX3n8c93mIioAcGjwUdGo0bUJK4QRBQFEx/I+pj1KR5dcdHVmKhssq6aIxGPJpvdNfExEc8qzlmNT9GjqAE1CiM+xCVg0LhBJcrwoBBAZFB5UOC3f9w70jTV01M93VPd/Xu9zqlzmXtv3frdqjs97666t6jWWgAAerJh1gMAANjdBBAA0B0BBAB0RwABAN0RQABAdwQQANAdAQQAdEcAAQDdEUAAQHcEEADQHQEEAHRHAAEA3RFAAEB3BBAA0B0BBAB0RwABAN0RQABAdwQQANAdAQQAdEcAAQDdEUAAQHcEEADQHQEEAHRHAAEA3RFAAEB3BBAA0B0BBAB0RwABAN0RQABAdwQQANAdAQQAdEcAAQDdEUAAQHcEEADQHQEEAHRHAAEA3RFAAEB3BBAA0B0BBAB0RwABAN0RQABAdwQQANAdAQQAdEcAAQDdEUAAQHcEEADQHQEEAHRHAAEA3RFAAEB3BBAA0J2Nsx7AalZV5yXZO8nWGQ8FAHaHTUmuaq3dc9YDWWkCaMf23muvvfY78MAD95v1QABgpZ1zzjm55pprZj2M3UIA7djWAw88cL+zzjpr1uMAgBV30EEH5atf/erWWY9jd3AOEADQHQEEAHRHAAEA3RFAAEB3BBAA0B0BBAB0RwABAN0RQABAdwQQANAdAQQAdEcAAQDdEUAAQHcEEADQHQEEAHRn46wHsNpdfeEFOfOlL5r1MADgFg5+ywmzHsKa5R0gAKA7AggA6I4AAgC6I4AAgO4IIACgOwIIAOiOAAIAuiOAAIDuCCAAoDsCCADojgACALojgACA7gggAKA7AggA6I4AAgC6I4AAgO4IIACgOwIIAOiOAAIAuiOAAIDuCCAAoDsCCADojgACALojgACA7gggAKA7AggA6I4AAgC6I4AAgO4IIACgOwIIAOiOAAIAuiOAAIDuCCAAoDsCCADojgACALojgACA7gggAKA7AggA6I4AAgC6I4AAgO4IIACgOwIIAOiOAAIAuiOAAIDuCCAAoDsCCADojgACALojgACA7gggAKA7AggA6I4AAgC6I4AAgO4IIACgOwIIAOiOAAIAuiOAAIDuCCAAoDsrFkBVdXRVtao6eqUeAwBgKbwDBAB0Z+MKbvujSb6S5OIVfAwAgKmtWAC11rYl2bZS2wcAWKoNVfWOqrrL/AVVtWU8h+dWVfUnVfWtqrquqjbv5PKJ5wBV1dbxdruqemNVXVhV11TV2VX15HGdjVX1x1V1blVdW1Xfqao/mDDGW1XVH1TVyVV1/vj4V1TVZ6vqqOV/ugCA9WBjkucneUJVHdpau2DCOh9J8htJTknysSSXTrl8kl9I8vdJ9ktyUpJbJfndJB+pqsckeXGSh4zbvC7J05K8taoua619cM529kvy5iRfHrd3WZI7J3lCkpOr6gWttXfuxHgAgI5sTPLoDPHw5iRPmbDOAUke2Fq7fIFtLLZ8krsk+WqSI1pr1yVJVb0nyelJ/jbJd8ZtXjku+8sk30zyyiRzA+iHSQ5orV00d+NVtU+SLyX5n1X1N621a3Y0mKo6a4FF95tinwCANWJDa+3UJB/P8C7QL05Y57hF4max5Qs5dnv8JElr7QtJzkuyb5JXbI+fcdl3MwTNr1bVHnPmXzc/fsb525KcOG7rN5YwNgBgHdtYVccnuVOSPZLcN8n8d0POWGQbiy2f5MrW2ncmzP9+kntOGEOSfC/DGPcf/ztJUlUPSPLyJI/I8PHXrefd766LDaa1dtCk+eM7Qw9e7P4AwNqyMclr5vz5dhPWuWSRbSy2fJKFrg67Pvn5OzgTl2U4fyhJUlWHJjk1w358LsM7WVcluTHJg5I8KcmeSxgfALCObWyt1Y5WaK21XVm+wl6dZK8kR7bWtsxdUFWvyhBAAAA3s9a/CfreSa6YHz+jR+7msQAAa8SG5Offp3P4rAezBFuT7FdVvzZ3ZlUdk+SxMxkRALDqbayqjyU5PMN36Ky1y77flCF0vlhVH8pwbtHBSR6e5MNJnjq7oQEAq9WGDB8jfTjDlw+uKa21T2X40sN/SfKMJMdk+OLEI5P83QyHBgCsYhtbaw+ctKC1dsSO7rgTyzcn2Txh/qalbLO1dnSSoyfM/2SST064y+mTHh8AYK2fBA0AMDUBBAB0RwABAN0RQABAdwQQANAdAQQAdEcAAQDdEUAAQHcEEADQHQEEAHRHAAEA3RFAAEB3BBAA0B0BBAB0RwABAN0RQABAdwQQANAdAQQAdEcAAQDdEUAAQHcEEADQHQEEAHRHAAEA3RFAAEB3BBAA0B0BBAB0RwABAN0RQABAdwQQANAdAQQAdEcAAQDdEUAAQHcEEADQHQEEAHRHAAEA3RFAAEB3BBAA0B0BBAB0RwABAN0RQABAdwQQANAdAQQAdEcAAQDdEUAAQHcEEADQHQEEAHRHAAEA3RFAAEB3BBAA0B0BBAB0RwABAN0RQABAdwQQANAdAQQAdEcAAQDdEUAAQHcEEADQnY2zHsBqd5u73yMHv+WEWQ8DAFhG3gECALojgACA7gggAKA7AggA6I4AAgC6I4AAgO4IIACgOwIIAOiOAAIAuiOAAIDuCCAAoDsCCADojgACALojgACA7gggAKA7AggA6I4AAgC6I4AAgO4IIACgOwIIAOiOAAIAuiOAAIDuCCAAoDsCCADojgACALojgACA7gggAKA7AggA6I4AAgC6I4AAgO4IIACgOxtnPYDV7oKfXJ0XffnMWQ8DunPCYQfPegjAOuYdIACgOwIIAOiOAAIAuiOAAIDuCCAAoDsCCADojgACALojgACA7gggAKA7AggA6I4AAgC6I4AAgO4IIACgOwIIAOiOAAIAuiOAAIDuCCAAoDsCCADojgACALojgACA7gggAKA7AggA6I4AAgC6I4AAgO4IIACgOwIIAOiOAAIAuiOAAIDuCCAAoDsCCADojgACALojgACA7gggAKA7AggA6I4AAgC6I4AAgO4IIACgOwIIAOiOAAIAuiOAAIDuCCAAoDsCCADojgACALojgACA7gggAKA7AggA6I4AAgC6I4AAgO4IIACgOwIIAOiOAAIAuiOAAIDuCCAAoDsCCADojgACALojgACA7gggAKA7qyqAqmpTVbWq2jzFfY4e73P0vPlbq2rrMg8RAFgHdnsAjbGyZXc/LgDAdhtnPYBl8NEkX0ly8bz5vzmDsQAAa8CaD6DW2rYk2ybM/84MhgMArAEbqurSqjqxqvafv7CqDqqqN1fV16rqiqq6tqrOraq/qKp9J6z/8/NxqupxVbWlqrbNmdfGVR85ztt+O37CtjZV1Qeq6vLxcc+sqsfv6DHnzXcOEAAw0cYk30ryvCRHVNVDWmuXzVn+giRPSfL5JJ9NskeSByf5wyRHjev/aMJ2n5rkcUlOSXJCkk1Jzk7y2iSvSXJ+ks1z1t8y7/4HJDkjyXeTvCfJfkmekeSkqvqt1tppS9pbAIAkG1trh1fVG5Mcm+TPkxwzZ/l/T/L7rbUb5t6pqo5J8s4kL07yPyZs97eT/HZr7VPz5p9dVa9JsrW1dvwOxnVEkuNba6+d85jvS/KpJC9PsqwBVFVnLbDofsv5OADA6rD9KrDjM5xH86yq2nP7wtba+fPjZ3RikquSPHaB7Z40IX6mcX6S18+d0Vr7dJILkhyyC9sFABhOgm6tbauqs5M8MsmBGT6uSlX9QpIXJnlmkvsn2Sc3v3T+rgts94xdHNfZC4TXhUkeuovbvoXW2kGT5o/vDD14uR8PAJituVeBXTJO95kz74MZzgH6bpKTxnWuG5cdm2TPTHbJAvN31pULzL8+q+zLGwGAtWduAG2/CmxbklTVwRni57MZzuf52fYVq2pDkv+2g+22HSwDAJipDUlSVfskeVCSa5OcMy679zj9+Nz4GR2SZK8lPuaNGa4mAwCYibknQe+T5P2tte0fcW0dp0fMvUNV3SnJX+3CY/4gyd134f4AALtkY1V9IcnDMwTPK+cs+8ckX0ryO1X15SRfTPJLSY7K8N1B31/iY34uyTOr6hNJzspwXs/prbXTl7g9AICpbMjwXTebkxzWWrt0+4LxKqwnJnl7krskeWmGUHpnhsvf538strNeluT9GT5GOy7J65I8aonbAgCY2sbW2h0XWthauyLDlx1OsmnC+ptz8294nrTNS5M8a4FlW5PUDu57xM4+ZmvtFuMDAEhcUg4AdEgAAQDdEUAAQHcEEADQHQEEAHRHAAEA3RFAAEB3BBAA0B0BBAB0RwABAN0RQABAdwQQANAdAQQAdEcAAQDdEUAAQHcEEADQHQEEAHRHAAEA3RFAAEB3BBAA0B0BBAB0RwABAN0RQABAdwQQANAdAQQAdEcAAQDdEUAAQHcEEADQHQEEAHRHAAEA3RFAAEB3BBAA0B0BBAB0RwABAN0RQABAdwQQANAdAQQAdEcAAQDdEUAAQHcEEADQHQEEAHRHAAEA3RFAAEB3BBAA0B0BBAB0RwABAN0RQABAdwQQANAdAQQAdEcAAQDdEUAAQHcEEADQHQEEAHRHAAEA3RFAAEB3BBAA0B0BBAB0Z+OsB7Da3eO2t8kJhx0862EAAMvIO0AAQHcEEADQHQEEAHRHAAEA3RFAAEB3BBAA0B0BBAB0RwABAN0RQABAdwQQANAdAQQAdEcAAQDdEUAAQHcEEADQnWqtzXoMq1ZV/WCvvfba78ADD5z1UABgxZ1zzjm55pprrmit3WHWY1lpAmgHquq6JHsk+dqsxzJD9xun35zpKGar9+eg9/1PPAeJ5yDp4znYlOSq1to9Zz2QlbZx1gNY5b6RJK21g2Y9kFmpqrMSz0HS73PQ+/4nnoPEc5B4DtYb5wABAN0RQABAdwQQANAdAQQAdEcAAQDdcRk8ANAd7wABAN0RQABAdwQQANAdAQQAdEcAAQDdEUAAQHcEEADQHQE0QVXdrapOrKrvV9V1VbW1qt5UVfvOemzLparuUFXPr6qPVtW/VtU1VbWtqr5YVcdU1YZ562+qqraD2wdmtS9LNb6uC+3PJQvc57CqOrmqrqiqq6vq61V1bFXtsbvHv6uq6uhFXtNWVTfMWX/NHgNV9dSqemtVfaGqrhrH+95F7jP1a11Vz62qM6rqx+Pfpy1V9fjl36PpTfMcVNV9quoVVXVqVV1YVT+tqn+rqpOq6sgF7rPY8fSild3DxU35HCz5eF/NxwE32TjrAaw2VfXLSb6c5E5JTkryzSSHJHlZksdV1cNaaz+Y4RCXy9OSvD3JxUlOS3JBkl9K8jtJ3pnkqKp6WrvlN2V+LcnHJmzvGys31BW1LcmbJsz/8fwZVfWkJB9Jcm2SDya5IskTkrwxycMyPKdrydlJXrvAssOTPCrJKROWrcVj4NVJfj3D63pRkvvtaOWlvNZV9YYkfzRu/38nuVWSZyb5RFW9pLX2tuXamSWa5jl4XZJnJPmXJCdn2P9fSfLEJE+sqpe11t6ywH1PynBszXfm0oa9rKY6DkZTHe9r4Dhgu9aa25xbkk8naUleMm/+X47zT5j1GJdpPx+V4Qf6hnnz988QQy3Jf5gzf9M4b/Osx76Mz8HWJFt3ct29k1ya5LokB8+Zf+sMwdySPHPW+7SMz80/jPv0xPVwDCQ5Msl9klSSI8b9eO9yvdZJDhvn/2uSfec9Zz/IEFKb1tBzcHSSfzdh/iOT/HR8bu484T4tydGzfr2X6TmY+nhfC8eB2003H4HNUVX3SvKYDP8w/tW8xa9J8pMkz6mq2+7moS271tqprbVPtNZunDf/kiQnjH88YrcPbPV6apI7JvlAa+3nv8m21q7N8FtlkvzeLAa23KrqgUkOTfK9JH834+Esi9baaa21c9v4r9EilvJab/94509baz+cc5+tGX6W7JnkeUsc/rKY5jlorW1urf3ThPmfT7Ilw7sahy3/KFfWlMfBUqz644Cb+Ajs5h41Tj8zIQx+VFVfyhBIhyb53O4e3G70s3F6/YRld6mqFya5Q4bfaP6htfb13Tay5bdnVT07yT0yBO7Xk5zeWrth3nrbj41PTdjG6UmuTnJYVe3ZWrtuxUa7e7xwnL5rwvOQrL9jYL6lvNY7us8pSY4b13nNcg50Rnb08yFJHlRVx2Z4x+x7SU5rrV20Owa2QqY53ns6DtY8AXRzvzJOv73A8nMzBNB9s04DqKo2JvmP4x8n/SV+9Hibe58tSZ7bWrtgZUe3IvZP8p55886rqueNv+1ut+Cx0Vq7vqrOS/KAJPdKcs6KjHQ3qKq9kjw7yY0ZzgWbZL0dA/NN9VqP7wjfNcmPW2sXT9jeueP0visx2N2pqg5I8psZIvD0BVZ72bw/31BV70xy7Pgu2lqzU8d7T8fBeuEjsJvbZ5xuW2D59vm3X/mhzMyfJ3lgkpNba5+eM//qDCdGHpRk3/H2yAwnUB+R5HNr8KPBd2f4Yb5/ktsm+dUk78jwef0pVfXrc9bt5dh4eoZ9OKW1duG8ZevxGJhk2te6i2OjqvZM8jcZPsY5fu5HPKPzkrwkQ0DeNsldMhxPWzO8q3jibhvs8pj2eO/iOFhPBNB0apyu1OfHM1VVL81w9cI3kzxn7rLW2qWttT9prX21tXbleDs9wzti/zfJvZM8f7cPehe01l47ngv1b621q1tr32itvSjDCe97JTl+is2tl2PjP4/Td8xfsB6PgSVa6mu9Zo+N8dL/92S4Au6DSd4wf53W2udba29rrX17/Pt0cWvtbzOcePzDJL8775eKVW0Fj/c1exysNwLo5rYX+j4LLN973nrrRlX9fpI3Z7js9cjW2hU7c7/W2vW56aOSR6zQ8Ha37SeBz92fdX9sVNX9M5zYelGGS593yjo8BqZ9rRdbf7F3Bla1MX7em+HS/w8lefY0JxGP7yRuP57W/PGxg+N9XR8H65EAurlvjdOFPqO9zzhd6ByhNWk8YfFtGb7X4sjxSrBpXDZO18PHH8lwCXRy8/1Z8NgYz5u6Z4aTQr+7skNbUYud/Lwj6+kYmOq1bq39JMPJvrerqjtP2N6a/bkx7u/7M3yPzfuSPGsMgGmtp+MjmbA/6/k4WK8E0M2dNk4fU7f8JuRfzPD27zVJvrK7B7ZSquoVGb7c7ewM8XPpju8x0aHjdC3/4z/XQ8fp3P05dZw+bsL6j0hymyRfXqtXgFXVrTN87HljknctYRPr6RhYymu9o/scNW+dNaGqbpXkwxne+fk/SZ6zhDDe7iHjdD0cH8nCx/u6Ow7Wtd31hUNr5ZZOvghx3Kfjxn06M8l+i6z7kCS3mjD/URm+3KslOWzW+zTFvj9g0j4nOSDD1RotyR/Pmb93ht/61uUXIWaIn5bkE+v9GMjOfRHiVK911tgX4O3Ec7Bnhu+Aahk+7tmwE9s8fMK8SvKqcTuXJdl71vs+xXMw9fG+1o6D3m81vjiMJvyvMM7J8BfhyAxvXR7W1sH/CqOqnptkc5Ibkrw1kz+X3tpa2zyuvyVDNGzJcI5Ikvxabvrei+Naa69fsQEvs6o6PskrM7zrd16SHyX55ST/PsM/dCcneUpr7adz7vPkDL8RX5vkAxn+9wBPzHDVy4eTPL2t0b9QVfWFJA/P8M3Pn1hgnS1Zo8fA+No9efzj/kkem+G39y+M8y5vrf3XeetP9VpX1V8k+cMMz82HM3xZ4DMyfH/MzP8XCNM8B1X17gzf7Hx5kr/O5BN3t7TWtszZfsvwM/IfM3wUtE+Gd80fmOGKqqe01j6zjLs0tSmfgy1ZwvG+2o8D5ph1ga3GW5K7Z7hE+uIMX/t+foYThHf4LslaumW4wqktctsyZ/1jknwywyWtP87w2/EFGa4IucVvfqv9luFy1vdnuOLtygxf7nZZkr/P8D1ItcD9HpYhjn6Y4ePQf07yX5LsMet92oXn4sDx9b5wR/uxlo+BnTjety7Ha53kuRkC4CcZovrzSR4/6/2f9jnI8I/+Yj8fjp+3/f817u/3M4Tj1ePfr7cludes938Jz8GSj/fVfBy43XTzDhAA0B0nQQMA3RFAAEB3BBAA0B0BBAB0RwABAN0RQABAdwQQANAdAQQAdEcAAQDdEUAAQHcEEADQHQEEAHRHAAHdqKqjq6pV1dGzHgswWwIIAOiOAAIAuiOAgKlV1SFV9cGq+l5VXVdVF1fVZ6rq6fPWe3pVnV5V26rqmqr656p6VVXtOWGbraq2LPB4m8flm+bM2zTO2zz+9weq6vKquraqzqyqx8/bxpYk7x7/+O7xvm3+doE+bJz1AIC1papekOTtSW5I8vEk5ya5U5KDk7w4yYfG9f4syauSXJ7kfUl+nOSoJH+W5LFV9ejW2s+WYUgHJDkjyXeTvCfJfkmekeSkqvqt1tpp43qbk1yZ5ElJTkpy9pxtXLkM4wDWEAEE7LSqun+Sv05yVZLDW2v/b97yu43Th2aInwuTHNJau2Sc/6okH03y+CQvzxBDu+qIJMe31l47ZxzvS/Kp8TFOS5LW2uaqSoYA+lhrbfMyPDawRvkIDJjG72X4xel18+MnSVprF43/+Z/G6eu3x8+4/Pokf5TkxiTPX6YxnZ/k9fPG8ekkFyQ5ZJkeA1hnBBAwjUPH6SmLrPfgcXrq/AWttW8nuSjJPavq9sswprNbazdMmH9hkn2XYfvAOiSAgGncfpx+b5H19hmnFy+w/OJ56+2KKxeYf338jAMW4IcDMI0rx+ldF1lv2zjdf4Hld563XpK0LHxe4u0XGxjANAQQMI2vjNOjFlnvn8bpEfMXVNW9k9wtyXmttSvnLPphkrtPWH+PJA+acpwL2f5R2R7LtD1gjRJAwDTenuGjpePGK8JuZvtVYElOHKevrqo7zlm+R5I3ZPjZ8655dz8jyT2q6jHz5r86w6Xuy+EH4/Qey7Q9YI36/4BlfIWtm0TAAAAAAElFTkSuQmCC&quot; width=&quot;288px&quot; height=&quot;216px&quot; alt=&quot;&quot;&gt;&lt;/img&gt;\",\"width\":288},\"id\":\"1036\",\"type\":\"panel.models.markup.HTML\"},{\"attributes\":{\"children\":[{\"id\":\"1042\"}],\"margin\":[0,0,0,0],\"name\":\"Row00170\"},\"id\":\"1041\",\"type\":\"Row\"},{\"attributes\":{\"js_property_callbacks\":{\"change:value\":[{\"id\":\"1044\"}]},\"margin\":[5,10,5,10],\"options\":[[\"O. glaberrima\",\"O. glaberrima\"],[\"O. barthii\",\"O. barthii\"]],\"title\":\"Species\",\"value\":\"O. glaberrima\"},\"id\":\"1039\",\"type\":\"Select\"},{\"attributes\":{\"margin\":[5,10,5,10],\"name\":\"\",\"text\":\"<b></b>\"},\"id\":\"1038\",\"type\":\"Div\"},{\"attributes\":{\"background\":\"WhiteSmoke\",\"children\":[{\"id\":\"1032\"},{\"id\":\"1033\"},{\"id\":\"1037\"},{\"id\":\"1040\"}],\"css_classes\":[\"scrollable\"],\"margin\":[0,0,0,0],\"name\":\"Column00182\",\"sizing_mode\":\"stretch_both\",\"tags\":[\"embedded\"],\"width\":800},\"id\":\"1031\",\"type\":\"Column\"},{\"attributes\":{\"code\":\"\\nvar state = null\\nfor (var root of cb_obj.document.roots()) {\\n  if (root.id == '1043') {\\n    state = root;\\n    break;\\n  }\\n}\\nif (!state) { return; }\\nstate.set_state(cb_obj, cb_obj.value)\\n\"},\"id\":\"1044\",\"type\":\"CustomJS\"},{\"attributes\":{\"children\":[{\"id\":\"1038\"},{\"id\":\"1039\"}],\"margin\":[5,5,5,5],\"min_width\":300,\"name\":\"\",\"width\":300},\"id\":\"1037\",\"type\":\"Column\"}],\"root_ids\":[\"1031\",\"1043\"]},\"title\":\"Bokeh Application\",\"version\":\"2.3.3\"}};\n",
       "    var render_items = [{\"docid\":\"a100a00a-4bcd-434d-b693-9dd0fbc5dbe0\",\"root_ids\":[\"1031\"],\"roots\":{\"1031\":\"1cc5fc32-340a-483b-be03-e3ea6efe03f3\"}}];\n",
       "    root.Bokeh.embed.embed_items_notebook(docs_json, render_items);\n",
       "  }\n",
       "  if (root.Bokeh !== undefined && root.Bokeh.Panel !== undefined) {\n",
       "    embed_document(root);\n",
       "  } else {\n",
       "    var attempts = 0;\n",
       "    var timer = setInterval(function(root) {\n",
       "      if (root.Bokeh !== undefined && root.Bokeh.Panel !== undefined) {\n",
       "        clearInterval(timer);\n",
       "        embed_document(root);\n",
       "      } else if (document.readyState == \"complete\") {\n",
       "        attempts++;\n",
       "        if (attempts > 100) {\n",
       "          clearInterval(timer);\n",
       "          console.log(\"Bokeh: ERROR: Unable to run BokehJS code because BokehJS library is missing\");\n",
       "        }\n",
       "      }\n",
       "    }, 10, root)\n",
       "  }\n",
       "})(window);</script>"
      ]
     },
     "metadata": {
      "application/vnd.holoviews_exec.v0+json": {
       "id": "1031"
      }
     },
     "output_type": "display_data"
    }
   ],
   "source": [
    "dashboard_group(df_group)"
   ]
  },
  {
   "cell_type": "markdown",
   "metadata": {},
   "source": [
    "***\n",
    "\n",
    "[<img src=\"Images/up-arrow.png\" alt=\"Top\" width=2% align=\"right\">](#home \"Go back to the top\")\n",
    "\n",
    "\n",
    "# <span style=\"color: #3987C4;\">III - frangiPANe Workflow <a class=\"anchor\" id=\"workflow\"></a></span>\n",
    "\n",
    "<img src=\"Images/approachMapThenAssembly.jpg\" width=60%>\n",
    "\n"
   ]
  },
  {
   "cell_type": "markdown",
   "metadata": {},
   "source": [
    "Only fastq files corresponding to samples described in the group file (contained in fastq directory) will be used in this workflow.\n",
    "\n",
    "Fastq naming convention: \n",
    "* sample_code_1.fastq, sample_code_R1.fastq\n",
    "* sample_code_1.fq, sample_code_R1.fq\n",
    "* sample_code_2.fastq, sample_code_R2.fastq\n",
    "* sample_code_2.fq, sample_code_R2.fq\n",
    "\n",
    "with sample_code read from the group file (1st column)\n",
    "\n"
   ]
  },
  {
   "cell_type": "markdown",
   "metadata": {},
   "source": [
    "### <span style=\"color: #919395\"> _1 - Stats about raw data (fastq files)_\n",
    "\n",
    "#### __Creating directory__"
   ]
  },
  {
   "cell_type": "code",
   "execution_count": 16,
   "metadata": {},
   "outputs": [],
   "source": [
    "stat_dir = output_dir + \"/00-fastq_stats/\""
   ]
  },
  {
   "cell_type": "markdown",
   "metadata": {},
   "source": [
    "#### __Generating fastq statistics with `fastq_stats`__"
   ]
  },
  {
   "cell_type": "code",
   "execution_count": 17,
   "metadata": {},
   "outputs": [
    {
     "data": {},
     "metadata": {},
     "output_type": "display_data"
    },
    {
     "data": {
      "application/vnd.holoviews_exec.v0+json": "",
      "text/html": [
       "<div id='1047'>\n",
       "\n",
       "\n",
       "\n",
       "\n",
       "\n",
       "  <div class=\"bk-root\" id=\"14bc0c14-188e-4100-80dc-ef48d22f0702\" data-root-id=\"1047\"></div>\n",
       "</div>\n",
       "<script type=\"application/javascript\">(function(root) {\n",
       "  function embed_document(root) {\n",
       "    var docs_json = {\"9a32b96d-cb61-439b-922d-7f44bc2b49c7\":{\"defs\":[],\"roots\":{\"references\":[{\"attributes\":{\"css_classes\":[\"alert\",\"alert-success\",\"markdown\"],\"margin\":[0,0,25,0],\"name\":\"Alert00184\",\"sizing_mode\":\"stretch_width\",\"text\":\"&lt;p&gt;Directory /home/christine/Documents/These/Book/yapluka/PANTOUM/frangiPANe_rice3//00-fastq_stats/ created&lt;/p&gt;\"},\"id\":\"1047\",\"type\":\"panel.models.markup.HTML\"},{\"attributes\":{\"client_comm_id\":\"a77fbd57ebf6408c8c5c2b87f5449162\",\"comm_id\":\"ac297cd0f7db4fc38e14e59e168c9fba\",\"plot_id\":\"1047\"},\"id\":\"1048\",\"type\":\"panel.models.comm_manager.CommManager\"}],\"root_ids\":[\"1047\",\"1048\"]},\"title\":\"Bokeh Application\",\"version\":\"2.3.3\"}};\n",
       "    var render_items = [{\"docid\":\"9a32b96d-cb61-439b-922d-7f44bc2b49c7\",\"root_ids\":[\"1047\"],\"roots\":{\"1047\":\"14bc0c14-188e-4100-80dc-ef48d22f0702\"}}];\n",
       "    root.Bokeh.embed.embed_items_notebook(docs_json, render_items);\n",
       "  }\n",
       "  if (root.Bokeh !== undefined && root.Bokeh.Panel !== undefined) {\n",
       "    embed_document(root);\n",
       "  } else {\n",
       "    var attempts = 0;\n",
       "    var timer = setInterval(function(root) {\n",
       "      if (root.Bokeh !== undefined && root.Bokeh.Panel !== undefined) {\n",
       "        clearInterval(timer);\n",
       "        embed_document(root);\n",
       "      } else if (document.readyState == \"complete\") {\n",
       "        attempts++;\n",
       "        if (attempts > 100) {\n",
       "          clearInterval(timer);\n",
       "          console.log(\"Bokeh: ERROR: Unable to run BokehJS code because BokehJS library is missing\");\n",
       "        }\n",
       "      }\n",
       "    }, 10, root)\n",
       "  }\n",
       "})(window);</script>"
      ],
      "text/plain": [
       "Alert(str, alert_type='success', css_classes=['alert', 'alert-success']...], margin=(0, 0, 25, 0), sizing_mode='stretch_width')"
      ]
     },
     "metadata": {
      "application/vnd.holoviews_exec.v0+json": {
       "id": "1047"
      }
     },
     "output_type": "display_data"
    },
    {
     "data": {},
     "metadata": {},
     "output_type": "display_data"
    },
    {
     "data": {
      "application/vnd.holoviews_exec.v0+json": "",
      "text/html": [
       "<div id='1049'>\n",
       "\n",
       "\n",
       "\n",
       "\n",
       "\n",
       "  <div class=\"bk-root\" id=\"33c1b183-c52f-4164-bd21-302c6a17bd39\" data-root-id=\"1049\"></div>\n",
       "</div>\n",
       "<script type=\"application/javascript\">(function(root) {\n",
       "  function embed_document(root) {\n",
       "    var docs_json = {\"e41baace-4587-4422-83b7-b301becb29d9\":{\"defs\":[],\"roots\":{\"references\":[{\"attributes\":{\"css_classes\":[\"alert\",\"alert-info\",\"markdown\"],\"margin\":[0,0,25,0],\"name\":\"Alert00188\",\"sizing_mode\":\"stretch_width\",\"text\":\"&lt;p&gt;Generating some stat about raw data into (/home/christine/Documents/These/Book/yapluka/PANTOUM/frangiPANe_rice3//00-fastq_stats/)&amp;hellip;&lt;/p&gt;\"},\"id\":\"1049\",\"type\":\"panel.models.markup.HTML\"},{\"attributes\":{\"client_comm_id\":\"ba2db0dd5d714b52908a8c3ce81d2154\",\"comm_id\":\"ebe50462d5ab43d8b675c12a1c7fa65a\",\"plot_id\":\"1049\"},\"id\":\"1050\",\"type\":\"panel.models.comm_manager.CommManager\"}],\"root_ids\":[\"1049\",\"1050\"]},\"title\":\"Bokeh Application\",\"version\":\"2.3.3\"}};\n",
       "    var render_items = [{\"docid\":\"e41baace-4587-4422-83b7-b301becb29d9\",\"root_ids\":[\"1049\"],\"roots\":{\"1049\":\"33c1b183-c52f-4164-bd21-302c6a17bd39\"}}];\n",
       "    root.Bokeh.embed.embed_items_notebook(docs_json, render_items);\n",
       "  }\n",
       "  if (root.Bokeh !== undefined && root.Bokeh.Panel !== undefined) {\n",
       "    embed_document(root);\n",
       "  } else {\n",
       "    var attempts = 0;\n",
       "    var timer = setInterval(function(root) {\n",
       "      if (root.Bokeh !== undefined && root.Bokeh.Panel !== undefined) {\n",
       "        clearInterval(timer);\n",
       "        embed_document(root);\n",
       "      } else if (document.readyState == \"complete\") {\n",
       "        attempts++;\n",
       "        if (attempts > 100) {\n",
       "          clearInterval(timer);\n",
       "          console.log(\"Bokeh: ERROR: Unable to run BokehJS code because BokehJS library is missing\");\n",
       "        }\n",
       "      }\n",
       "    }, 10, root)\n",
       "  }\n",
       "})(window);</script>"
      ],
      "text/plain": [
       "Alert(str, alert_type='info', css_classes=['alert', 'alert-info'], margin=(0, 0, 25, 0), sizing_mode='stretch_width')"
      ]
     },
     "metadata": {
      "application/vnd.holoviews_exec.v0+json": {
       "id": "1049"
      }
     },
     "output_type": "display_data"
    },
    {
     "data": {},
     "metadata": {},
     "output_type": "display_data"
    },
    {
     "data": {
      "application/vnd.holoviews_exec.v0+json": "",
      "text/html": [
       "<div id='1051'>\n",
       "\n",
       "\n",
       "\n",
       "\n",
       "\n",
       "  <div class=\"bk-root\" id=\"fd99f9c5-a8c4-45f8-8e42-f114cf8ae641\" data-root-id=\"1051\"></div>\n",
       "</div>\n",
       "<script type=\"application/javascript\">(function(root) {\n",
       "  function embed_document(root) {\n",
       "    var docs_json = {\"9d6bfcfc-2a86-47e5-89cb-31f3a50b272c\":{\"defs\":[],\"roots\":{\"references\":[{\"attributes\":{\"client_comm_id\":\"534accb3f63c4609be97b0d7cd892143\",\"comm_id\":\"fe41f98a97da4ee1b81f65583111bcc9\",\"plot_id\":\"1051\"},\"id\":\"1052\",\"type\":\"panel.models.comm_manager.CommManager\"},{\"attributes\":{\"css_classes\":[\"alert\",\"alert-info\",\"markdown\"],\"margin\":[0,0,25,0],\"name\":\"Alert00192\",\"sizing_mode\":\"stretch_width\",\"text\":\"&lt;p&gt;Reading fastq directory (/home/christine/Documents/These/Book/yapluka/PANTOUM/frangiPANe_data_test/rice) and group file&amp;hellip;&lt;/p&gt;\"},\"id\":\"1051\",\"type\":\"panel.models.markup.HTML\"}],\"root_ids\":[\"1051\",\"1052\"]},\"title\":\"Bokeh Application\",\"version\":\"2.3.3\"}};\n",
       "    var render_items = [{\"docid\":\"9d6bfcfc-2a86-47e5-89cb-31f3a50b272c\",\"root_ids\":[\"1051\"],\"roots\":{\"1051\":\"fd99f9c5-a8c4-45f8-8e42-f114cf8ae641\"}}];\n",
       "    root.Bokeh.embed.embed_items_notebook(docs_json, render_items);\n",
       "  }\n",
       "  if (root.Bokeh !== undefined && root.Bokeh.Panel !== undefined) {\n",
       "    embed_document(root);\n",
       "  } else {\n",
       "    var attempts = 0;\n",
       "    var timer = setInterval(function(root) {\n",
       "      if (root.Bokeh !== undefined && root.Bokeh.Panel !== undefined) {\n",
       "        clearInterval(timer);\n",
       "        embed_document(root);\n",
       "      } else if (document.readyState == \"complete\") {\n",
       "        attempts++;\n",
       "        if (attempts > 100) {\n",
       "          clearInterval(timer);\n",
       "          console.log(\"Bokeh: ERROR: Unable to run BokehJS code because BokehJS library is missing\");\n",
       "        }\n",
       "      }\n",
       "    }, 10, root)\n",
       "  }\n",
       "})(window);</script>"
      ],
      "text/plain": [
       "Alert(str, alert_type='info', css_classes=['alert', 'alert-info'], margin=(0, 0, 25, 0), sizing_mode='stretch_width')"
      ]
     },
     "metadata": {
      "application/vnd.holoviews_exec.v0+json": {
       "id": "1051"
      }
     },
     "output_type": "display_data"
    },
    {
     "data": {},
     "metadata": {},
     "output_type": "display_data"
    },
    {
     "data": {
      "application/vnd.holoviews_exec.v0+json": "",
      "text/html": [
       "<div id='1053'>\n",
       "\n",
       "\n",
       "\n",
       "\n",
       "\n",
       "  <div class=\"bk-root\" id=\"6b5687a1-aa19-49ed-b4e2-d96a8d81d1d2\" data-root-id=\"1053\"></div>\n",
       "</div>\n",
       "<script type=\"application/javascript\">(function(root) {\n",
       "  function embed_document(root) {\n",
       "    var docs_json = {\"69405388-eb3e-4de2-9400-4f7cdd9c34f1\":{\"defs\":[],\"roots\":{\"references\":[{\"attributes\":{\"client_comm_id\":\"548af3705f654740914fb9ebd6118112\",\"comm_id\":\"2b93d946434a4c90a06352a5aeae9b34\",\"plot_id\":\"1053\"},\"id\":\"1054\",\"type\":\"panel.models.comm_manager.CommManager\"},{\"attributes\":{\"css_classes\":[\"alert\",\"alert-secondary\",\"markdown\"],\"margin\":[0,0,25,0],\"name\":\"Alert00196\",\"sizing_mode\":\"stretch_width\",\"text\":\"&lt;p&gt;In progress for AB_2.fastq&amp;hellip;&lt;/p&gt;\"},\"id\":\"1053\",\"type\":\"panel.models.markup.HTML\"}],\"root_ids\":[\"1053\",\"1054\"]},\"title\":\"Bokeh Application\",\"version\":\"2.3.3\"}};\n",
       "    var render_items = [{\"docid\":\"69405388-eb3e-4de2-9400-4f7cdd9c34f1\",\"root_ids\":[\"1053\"],\"roots\":{\"1053\":\"6b5687a1-aa19-49ed-b4e2-d96a8d81d1d2\"}}];\n",
       "    root.Bokeh.embed.embed_items_notebook(docs_json, render_items);\n",
       "  }\n",
       "  if (root.Bokeh !== undefined && root.Bokeh.Panel !== undefined) {\n",
       "    embed_document(root);\n",
       "  } else {\n",
       "    var attempts = 0;\n",
       "    var timer = setInterval(function(root) {\n",
       "      if (root.Bokeh !== undefined && root.Bokeh.Panel !== undefined) {\n",
       "        clearInterval(timer);\n",
       "        embed_document(root);\n",
       "      } else if (document.readyState == \"complete\") {\n",
       "        attempts++;\n",
       "        if (attempts > 100) {\n",
       "          clearInterval(timer);\n",
       "          console.log(\"Bokeh: ERROR: Unable to run BokehJS code because BokehJS library is missing\");\n",
       "        }\n",
       "      }\n",
       "    }, 10, root)\n",
       "  }\n",
       "})(window);</script>"
      ],
      "text/plain": [
       "Alert(str, alert_type='secondary', css_classes=['alert', 'alert-secondary...], margin=(0, 0, 25, 0), sizing_mode='stretch_width')"
      ]
     },
     "metadata": {
      "application/vnd.holoviews_exec.v0+json": {
       "id": "1053"
      }
     },
     "output_type": "display_data"
    },
    {
     "data": {},
     "metadata": {},
     "output_type": "display_data"
    },
    {
     "data": {
      "application/vnd.holoviews_exec.v0+json": "",
      "text/html": [
       "<div id='1055'>\n",
       "\n",
       "\n",
       "\n",
       "\n",
       "\n",
       "  <div class=\"bk-root\" id=\"b86457ee-cc8e-42de-acaa-b2d1b15876dd\" data-root-id=\"1055\"></div>\n",
       "</div>\n",
       "<script type=\"application/javascript\">(function(root) {\n",
       "  function embed_document(root) {\n",
       "    var docs_json = {\"e1a7fe3b-ae3e-425f-a136-96ef3d682f82\":{\"defs\":[],\"roots\":{\"references\":[{\"attributes\":{\"client_comm_id\":\"10c1ac657b35487ea722e5a367cacbb4\",\"comm_id\":\"f70e8badad014ff1824c3f8172658176\",\"plot_id\":\"1055\"},\"id\":\"1056\",\"type\":\"panel.models.comm_manager.CommManager\"},{\"attributes\":{\"css_classes\":[\"alert\",\"alert-success\",\"markdown\"],\"margin\":[0,0,25,0],\"name\":\"Alert00200\",\"sizing_mode\":\"stretch_width\",\"text\":\"&lt;p&gt;fastq_stats executed successfully (/home/christine/Documents/These/Book/yapluka/PANTOUM/frangiPANe_rice3//00-fastq_stats/AB_2.fastq.fastqstat)&lt;/p&gt;\"},\"id\":\"1055\",\"type\":\"panel.models.markup.HTML\"}],\"root_ids\":[\"1055\",\"1056\"]},\"title\":\"Bokeh Application\",\"version\":\"2.3.3\"}};\n",
       "    var render_items = [{\"docid\":\"e1a7fe3b-ae3e-425f-a136-96ef3d682f82\",\"root_ids\":[\"1055\"],\"roots\":{\"1055\":\"b86457ee-cc8e-42de-acaa-b2d1b15876dd\"}}];\n",
       "    root.Bokeh.embed.embed_items_notebook(docs_json, render_items);\n",
       "  }\n",
       "  if (root.Bokeh !== undefined && root.Bokeh.Panel !== undefined) {\n",
       "    embed_document(root);\n",
       "  } else {\n",
       "    var attempts = 0;\n",
       "    var timer = setInterval(function(root) {\n",
       "      if (root.Bokeh !== undefined && root.Bokeh.Panel !== undefined) {\n",
       "        clearInterval(timer);\n",
       "        embed_document(root);\n",
       "      } else if (document.readyState == \"complete\") {\n",
       "        attempts++;\n",
       "        if (attempts > 100) {\n",
       "          clearInterval(timer);\n",
       "          console.log(\"Bokeh: ERROR: Unable to run BokehJS code because BokehJS library is missing\");\n",
       "        }\n",
       "      }\n",
       "    }, 10, root)\n",
       "  }\n",
       "})(window);</script>"
      ],
      "text/plain": [
       "Alert(str, alert_type='success', css_classes=['alert', 'alert-success']...], margin=(0, 0, 25, 0), sizing_mode='stretch_width')"
      ]
     },
     "metadata": {
      "application/vnd.holoviews_exec.v0+json": {
       "id": "1055"
      }
     },
     "output_type": "display_data"
    },
    {
     "data": {},
     "metadata": {},
     "output_type": "display_data"
    },
    {
     "data": {
      "application/vnd.holoviews_exec.v0+json": "",
      "text/html": [
       "<div id='1057'>\n",
       "\n",
       "\n",
       "\n",
       "\n",
       "\n",
       "  <div class=\"bk-root\" id=\"6074d8e7-7360-4aae-b0d9-b7479e727bea\" data-root-id=\"1057\"></div>\n",
       "</div>\n",
       "<script type=\"application/javascript\">(function(root) {\n",
       "  function embed_document(root) {\n",
       "    var docs_json = {\"04d9dbf9-a38e-4b45-bd3d-a7d56571e264\":{\"defs\":[],\"roots\":{\"references\":[{\"attributes\":{\"client_comm_id\":\"15bb8a020fe74cc7a28bf85259afcf78\",\"comm_id\":\"45d71b9faa3040c6a3271e42d2d9fc8f\",\"plot_id\":\"1057\"},\"id\":\"1058\",\"type\":\"panel.models.comm_manager.CommManager\"},{\"attributes\":{\"css_classes\":[\"alert\",\"alert-secondary\",\"markdown\"],\"margin\":[0,0,25,0],\"name\":\"Alert00204\",\"sizing_mode\":\"stretch_width\",\"text\":\"&lt;p&gt;In progress for DT_2.fastq&amp;hellip;&lt;/p&gt;\"},\"id\":\"1057\",\"type\":\"panel.models.markup.HTML\"}],\"root_ids\":[\"1057\",\"1058\"]},\"title\":\"Bokeh Application\",\"version\":\"2.3.3\"}};\n",
       "    var render_items = [{\"docid\":\"04d9dbf9-a38e-4b45-bd3d-a7d56571e264\",\"root_ids\":[\"1057\"],\"roots\":{\"1057\":\"6074d8e7-7360-4aae-b0d9-b7479e727bea\"}}];\n",
       "    root.Bokeh.embed.embed_items_notebook(docs_json, render_items);\n",
       "  }\n",
       "  if (root.Bokeh !== undefined && root.Bokeh.Panel !== undefined) {\n",
       "    embed_document(root);\n",
       "  } else {\n",
       "    var attempts = 0;\n",
       "    var timer = setInterval(function(root) {\n",
       "      if (root.Bokeh !== undefined && root.Bokeh.Panel !== undefined) {\n",
       "        clearInterval(timer);\n",
       "        embed_document(root);\n",
       "      } else if (document.readyState == \"complete\") {\n",
       "        attempts++;\n",
       "        if (attempts > 100) {\n",
       "          clearInterval(timer);\n",
       "          console.log(\"Bokeh: ERROR: Unable to run BokehJS code because BokehJS library is missing\");\n",
       "        }\n",
       "      }\n",
       "    }, 10, root)\n",
       "  }\n",
       "})(window);</script>"
      ],
      "text/plain": [
       "Alert(str, alert_type='secondary', css_classes=['alert', 'alert-secondary...], margin=(0, 0, 25, 0), sizing_mode='stretch_width')"
      ]
     },
     "metadata": {
      "application/vnd.holoviews_exec.v0+json": {
       "id": "1057"
      }
     },
     "output_type": "display_data"
    },
    {
     "data": {},
     "metadata": {},
     "output_type": "display_data"
    },
    {
     "data": {
      "application/vnd.holoviews_exec.v0+json": "",
      "text/html": [
       "<div id='1059'>\n",
       "\n",
       "\n",
       "\n",
       "\n",
       "\n",
       "  <div class=\"bk-root\" id=\"83eddaa0-069b-4afc-b83f-8f0bcbeb5008\" data-root-id=\"1059\"></div>\n",
       "</div>\n",
       "<script type=\"application/javascript\">(function(root) {\n",
       "  function embed_document(root) {\n",
       "    var docs_json = {\"27065f51-580e-421c-83e0-5d396c4db46c\":{\"defs\":[],\"roots\":{\"references\":[{\"attributes\":{\"css_classes\":[\"alert\",\"alert-success\",\"markdown\"],\"margin\":[0,0,25,0],\"name\":\"Alert00208\",\"sizing_mode\":\"stretch_width\",\"text\":\"&lt;p&gt;fastq_stats executed successfully (/home/christine/Documents/These/Book/yapluka/PANTOUM/frangiPANe_rice3//00-fastq_stats/DT_2.fastq.fastqstat)&lt;/p&gt;\"},\"id\":\"1059\",\"type\":\"panel.models.markup.HTML\"},{\"attributes\":{\"client_comm_id\":\"3b37424c6bb84a4a88eb0e1757d29c3c\",\"comm_id\":\"bd25a952cdc54e8ea9a21167b3c74d31\",\"plot_id\":\"1059\"},\"id\":\"1060\",\"type\":\"panel.models.comm_manager.CommManager\"}],\"root_ids\":[\"1059\",\"1060\"]},\"title\":\"Bokeh Application\",\"version\":\"2.3.3\"}};\n",
       "    var render_items = [{\"docid\":\"27065f51-580e-421c-83e0-5d396c4db46c\",\"root_ids\":[\"1059\"],\"roots\":{\"1059\":\"83eddaa0-069b-4afc-b83f-8f0bcbeb5008\"}}];\n",
       "    root.Bokeh.embed.embed_items_notebook(docs_json, render_items);\n",
       "  }\n",
       "  if (root.Bokeh !== undefined && root.Bokeh.Panel !== undefined) {\n",
       "    embed_document(root);\n",
       "  } else {\n",
       "    var attempts = 0;\n",
       "    var timer = setInterval(function(root) {\n",
       "      if (root.Bokeh !== undefined && root.Bokeh.Panel !== undefined) {\n",
       "        clearInterval(timer);\n",
       "        embed_document(root);\n",
       "      } else if (document.readyState == \"complete\") {\n",
       "        attempts++;\n",
       "        if (attempts > 100) {\n",
       "          clearInterval(timer);\n",
       "          console.log(\"Bokeh: ERROR: Unable to run BokehJS code because BokehJS library is missing\");\n",
       "        }\n",
       "      }\n",
       "    }, 10, root)\n",
       "  }\n",
       "})(window);</script>"
      ],
      "text/plain": [
       "Alert(str, alert_type='success', css_classes=['alert', 'alert-success']...], margin=(0, 0, 25, 0), sizing_mode='stretch_width')"
      ]
     },
     "metadata": {
      "application/vnd.holoviews_exec.v0+json": {
       "id": "1059"
      }
     },
     "output_type": "display_data"
    },
    {
     "data": {},
     "metadata": {},
     "output_type": "display_data"
    },
    {
     "data": {
      "application/vnd.holoviews_exec.v0+json": "",
      "text/html": [
       "<div id='1061'>\n",
       "\n",
       "\n",
       "\n",
       "\n",
       "\n",
       "  <div class=\"bk-root\" id=\"a6dacd6e-7ce2-459e-a04a-df26bfa6f504\" data-root-id=\"1061\"></div>\n",
       "</div>\n",
       "<script type=\"application/javascript\">(function(root) {\n",
       "  function embed_document(root) {\n",
       "    var docs_json = {\"685b3d9f-d458-4800-b514-d3dd4c5f0c4e\":{\"defs\":[],\"roots\":{\"references\":[{\"attributes\":{\"css_classes\":[\"alert\",\"alert-secondary\",\"markdown\"],\"margin\":[0,0,25,0],\"name\":\"Alert00212\",\"sizing_mode\":\"stretch_width\",\"text\":\"&lt;p&gt;In progress for AB_1.fastq&amp;hellip;&lt;/p&gt;\"},\"id\":\"1061\",\"type\":\"panel.models.markup.HTML\"},{\"attributes\":{\"client_comm_id\":\"a8c07c30ceec4b968bebdaa62eb5821b\",\"comm_id\":\"ddbae9ff79ca401a85b0ef852c6b8f5b\",\"plot_id\":\"1061\"},\"id\":\"1062\",\"type\":\"panel.models.comm_manager.CommManager\"}],\"root_ids\":[\"1061\",\"1062\"]},\"title\":\"Bokeh Application\",\"version\":\"2.3.3\"}};\n",
       "    var render_items = [{\"docid\":\"685b3d9f-d458-4800-b514-d3dd4c5f0c4e\",\"root_ids\":[\"1061\"],\"roots\":{\"1061\":\"a6dacd6e-7ce2-459e-a04a-df26bfa6f504\"}}];\n",
       "    root.Bokeh.embed.embed_items_notebook(docs_json, render_items);\n",
       "  }\n",
       "  if (root.Bokeh !== undefined && root.Bokeh.Panel !== undefined) {\n",
       "    embed_document(root);\n",
       "  } else {\n",
       "    var attempts = 0;\n",
       "    var timer = setInterval(function(root) {\n",
       "      if (root.Bokeh !== undefined && root.Bokeh.Panel !== undefined) {\n",
       "        clearInterval(timer);\n",
       "        embed_document(root);\n",
       "      } else if (document.readyState == \"complete\") {\n",
       "        attempts++;\n",
       "        if (attempts > 100) {\n",
       "          clearInterval(timer);\n",
       "          console.log(\"Bokeh: ERROR: Unable to run BokehJS code because BokehJS library is missing\");\n",
       "        }\n",
       "      }\n",
       "    }, 10, root)\n",
       "  }\n",
       "})(window);</script>"
      ],
      "text/plain": [
       "Alert(str, alert_type='secondary', css_classes=['alert', 'alert-secondary...], margin=(0, 0, 25, 0), sizing_mode='stretch_width')"
      ]
     },
     "metadata": {
      "application/vnd.holoviews_exec.v0+json": {
       "id": "1061"
      }
     },
     "output_type": "display_data"
    },
    {
     "data": {},
     "metadata": {},
     "output_type": "display_data"
    },
    {
     "data": {
      "application/vnd.holoviews_exec.v0+json": "",
      "text/html": [
       "<div id='1063'>\n",
       "\n",
       "\n",
       "\n",
       "\n",
       "\n",
       "  <div class=\"bk-root\" id=\"4b23793c-c0de-46e4-aae1-48e97b97642a\" data-root-id=\"1063\"></div>\n",
       "</div>\n",
       "<script type=\"application/javascript\">(function(root) {\n",
       "  function embed_document(root) {\n",
       "    var docs_json = {\"c21e7ce8-3475-4fbe-875f-3257cbaa12f5\":{\"defs\":[],\"roots\":{\"references\":[{\"attributes\":{\"client_comm_id\":\"d9aac2fd4cb54ecb92f780904692d356\",\"comm_id\":\"60e61101026742e2b46b4c7e0edf7c93\",\"plot_id\":\"1063\"},\"id\":\"1064\",\"type\":\"panel.models.comm_manager.CommManager\"},{\"attributes\":{\"css_classes\":[\"alert\",\"alert-success\",\"markdown\"],\"margin\":[0,0,25,0],\"name\":\"Alert00216\",\"sizing_mode\":\"stretch_width\",\"text\":\"&lt;p&gt;fastq_stats executed successfully (/home/christine/Documents/These/Book/yapluka/PANTOUM/frangiPANe_rice3//00-fastq_stats/AB_1.fastq.fastqstat)&lt;/p&gt;\"},\"id\":\"1063\",\"type\":\"panel.models.markup.HTML\"}],\"root_ids\":[\"1063\",\"1064\"]},\"title\":\"Bokeh Application\",\"version\":\"2.3.3\"}};\n",
       "    var render_items = [{\"docid\":\"c21e7ce8-3475-4fbe-875f-3257cbaa12f5\",\"root_ids\":[\"1063\"],\"roots\":{\"1063\":\"4b23793c-c0de-46e4-aae1-48e97b97642a\"}}];\n",
       "    root.Bokeh.embed.embed_items_notebook(docs_json, render_items);\n",
       "  }\n",
       "  if (root.Bokeh !== undefined && root.Bokeh.Panel !== undefined) {\n",
       "    embed_document(root);\n",
       "  } else {\n",
       "    var attempts = 0;\n",
       "    var timer = setInterval(function(root) {\n",
       "      if (root.Bokeh !== undefined && root.Bokeh.Panel !== undefined) {\n",
       "        clearInterval(timer);\n",
       "        embed_document(root);\n",
       "      } else if (document.readyState == \"complete\") {\n",
       "        attempts++;\n",
       "        if (attempts > 100) {\n",
       "          clearInterval(timer);\n",
       "          console.log(\"Bokeh: ERROR: Unable to run BokehJS code because BokehJS library is missing\");\n",
       "        }\n",
       "      }\n",
       "    }, 10, root)\n",
       "  }\n",
       "})(window);</script>"
      ],
      "text/plain": [
       "Alert(str, alert_type='success', css_classes=['alert', 'alert-success']...], margin=(0, 0, 25, 0), sizing_mode='stretch_width')"
      ]
     },
     "metadata": {
      "application/vnd.holoviews_exec.v0+json": {
       "id": "1063"
      }
     },
     "output_type": "display_data"
    },
    {
     "data": {},
     "metadata": {},
     "output_type": "display_data"
    },
    {
     "data": {
      "application/vnd.holoviews_exec.v0+json": "",
      "text/html": [
       "<div id='1065'>\n",
       "\n",
       "\n",
       "\n",
       "\n",
       "\n",
       "  <div class=\"bk-root\" id=\"81a63398-4956-4a1c-8c81-06d7f6ef6665\" data-root-id=\"1065\"></div>\n",
       "</div>\n",
       "<script type=\"application/javascript\">(function(root) {\n",
       "  function embed_document(root) {\n",
       "    var docs_json = {\"d8dd7bf4-bcab-4476-a6ad-5da1652c6a15\":{\"defs\":[],\"roots\":{\"references\":[{\"attributes\":{\"client_comm_id\":\"492a48d2a4364ea38906456fb201f156\",\"comm_id\":\"4b5a55ebf392449d9149ce035e42bbd5\",\"plot_id\":\"1065\"},\"id\":\"1066\",\"type\":\"panel.models.comm_manager.CommManager\"},{\"attributes\":{\"css_classes\":[\"alert\",\"alert-secondary\",\"markdown\"],\"margin\":[0,0,25,0],\"name\":\"Alert00220\",\"sizing_mode\":\"stretch_width\",\"text\":\"&lt;p&gt;In progress for AA_1.fastq&amp;hellip;&lt;/p&gt;\"},\"id\":\"1065\",\"type\":\"panel.models.markup.HTML\"}],\"root_ids\":[\"1065\",\"1066\"]},\"title\":\"Bokeh Application\",\"version\":\"2.3.3\"}};\n",
       "    var render_items = [{\"docid\":\"d8dd7bf4-bcab-4476-a6ad-5da1652c6a15\",\"root_ids\":[\"1065\"],\"roots\":{\"1065\":\"81a63398-4956-4a1c-8c81-06d7f6ef6665\"}}];\n",
       "    root.Bokeh.embed.embed_items_notebook(docs_json, render_items);\n",
       "  }\n",
       "  if (root.Bokeh !== undefined && root.Bokeh.Panel !== undefined) {\n",
       "    embed_document(root);\n",
       "  } else {\n",
       "    var attempts = 0;\n",
       "    var timer = setInterval(function(root) {\n",
       "      if (root.Bokeh !== undefined && root.Bokeh.Panel !== undefined) {\n",
       "        clearInterval(timer);\n",
       "        embed_document(root);\n",
       "      } else if (document.readyState == \"complete\") {\n",
       "        attempts++;\n",
       "        if (attempts > 100) {\n",
       "          clearInterval(timer);\n",
       "          console.log(\"Bokeh: ERROR: Unable to run BokehJS code because BokehJS library is missing\");\n",
       "        }\n",
       "      }\n",
       "    }, 10, root)\n",
       "  }\n",
       "})(window);</script>"
      ],
      "text/plain": [
       "Alert(str, alert_type='secondary', css_classes=['alert', 'alert-secondary...], margin=(0, 0, 25, 0), sizing_mode='stretch_width')"
      ]
     },
     "metadata": {
      "application/vnd.holoviews_exec.v0+json": {
       "id": "1065"
      }
     },
     "output_type": "display_data"
    },
    {
     "data": {},
     "metadata": {},
     "output_type": "display_data"
    },
    {
     "data": {
      "application/vnd.holoviews_exec.v0+json": "",
      "text/html": [
       "<div id='1067'>\n",
       "\n",
       "\n",
       "\n",
       "\n",
       "\n",
       "  <div class=\"bk-root\" id=\"3425bca2-2049-4ef7-8def-f8d8f93f6263\" data-root-id=\"1067\"></div>\n",
       "</div>\n",
       "<script type=\"application/javascript\">(function(root) {\n",
       "  function embed_document(root) {\n",
       "    var docs_json = {\"761982a0-9146-4fa0-ab0c-7805b2c90508\":{\"defs\":[],\"roots\":{\"references\":[{\"attributes\":{\"client_comm_id\":\"a0b07292956b4c08a52110d751e3b4c1\",\"comm_id\":\"915b4cdfc1c942b0b964502bf26354da\",\"plot_id\":\"1067\"},\"id\":\"1068\",\"type\":\"panel.models.comm_manager.CommManager\"},{\"attributes\":{\"css_classes\":[\"alert\",\"alert-success\",\"markdown\"],\"margin\":[0,0,25,0],\"name\":\"Alert00224\",\"sizing_mode\":\"stretch_width\",\"text\":\"&lt;p&gt;fastq_stats executed successfully (/home/christine/Documents/These/Book/yapluka/PANTOUM/frangiPANe_rice3//00-fastq_stats/AA_1.fastq.fastqstat)&lt;/p&gt;\"},\"id\":\"1067\",\"type\":\"panel.models.markup.HTML\"}],\"root_ids\":[\"1067\",\"1068\"]},\"title\":\"Bokeh Application\",\"version\":\"2.3.3\"}};\n",
       "    var render_items = [{\"docid\":\"761982a0-9146-4fa0-ab0c-7805b2c90508\",\"root_ids\":[\"1067\"],\"roots\":{\"1067\":\"3425bca2-2049-4ef7-8def-f8d8f93f6263\"}}];\n",
       "    root.Bokeh.embed.embed_items_notebook(docs_json, render_items);\n",
       "  }\n",
       "  if (root.Bokeh !== undefined && root.Bokeh.Panel !== undefined) {\n",
       "    embed_document(root);\n",
       "  } else {\n",
       "    var attempts = 0;\n",
       "    var timer = setInterval(function(root) {\n",
       "      if (root.Bokeh !== undefined && root.Bokeh.Panel !== undefined) {\n",
       "        clearInterval(timer);\n",
       "        embed_document(root);\n",
       "      } else if (document.readyState == \"complete\") {\n",
       "        attempts++;\n",
       "        if (attempts > 100) {\n",
       "          clearInterval(timer);\n",
       "          console.log(\"Bokeh: ERROR: Unable to run BokehJS code because BokehJS library is missing\");\n",
       "        }\n",
       "      }\n",
       "    }, 10, root)\n",
       "  }\n",
       "})(window);</script>"
      ],
      "text/plain": [
       "Alert(str, alert_type='success', css_classes=['alert', 'alert-success']...], margin=(0, 0, 25, 0), sizing_mode='stretch_width')"
      ]
     },
     "metadata": {
      "application/vnd.holoviews_exec.v0+json": {
       "id": "1067"
      }
     },
     "output_type": "display_data"
    },
    {
     "data": {},
     "metadata": {},
     "output_type": "display_data"
    },
    {
     "data": {
      "application/vnd.holoviews_exec.v0+json": "",
      "text/html": [
       "<div id='1069'>\n",
       "\n",
       "\n",
       "\n",
       "\n",
       "\n",
       "  <div class=\"bk-root\" id=\"b93a741a-7fe8-4294-a816-433b7365ad0c\" data-root-id=\"1069\"></div>\n",
       "</div>\n",
       "<script type=\"application/javascript\">(function(root) {\n",
       "  function embed_document(root) {\n",
       "    var docs_json = {\"1dbc3bb9-3b61-44bb-b7ec-313cacd965d6\":{\"defs\":[],\"roots\":{\"references\":[{\"attributes\":{\"client_comm_id\":\"f6701056637c46278530c80ca4cd70ed\",\"comm_id\":\"f49d6c9ff9964f818fde4b71382f94cd\",\"plot_id\":\"1069\"},\"id\":\"1070\",\"type\":\"panel.models.comm_manager.CommManager\"},{\"attributes\":{\"css_classes\":[\"alert\",\"alert-secondary\",\"markdown\"],\"margin\":[0,0,25,0],\"name\":\"Alert00228\",\"sizing_mode\":\"stretch_width\",\"text\":\"&lt;p&gt;In progress for AA_2.fastq&amp;hellip;&lt;/p&gt;\"},\"id\":\"1069\",\"type\":\"panel.models.markup.HTML\"}],\"root_ids\":[\"1069\",\"1070\"]},\"title\":\"Bokeh Application\",\"version\":\"2.3.3\"}};\n",
       "    var render_items = [{\"docid\":\"1dbc3bb9-3b61-44bb-b7ec-313cacd965d6\",\"root_ids\":[\"1069\"],\"roots\":{\"1069\":\"b93a741a-7fe8-4294-a816-433b7365ad0c\"}}];\n",
       "    root.Bokeh.embed.embed_items_notebook(docs_json, render_items);\n",
       "  }\n",
       "  if (root.Bokeh !== undefined && root.Bokeh.Panel !== undefined) {\n",
       "    embed_document(root);\n",
       "  } else {\n",
       "    var attempts = 0;\n",
       "    var timer = setInterval(function(root) {\n",
       "      if (root.Bokeh !== undefined && root.Bokeh.Panel !== undefined) {\n",
       "        clearInterval(timer);\n",
       "        embed_document(root);\n",
       "      } else if (document.readyState == \"complete\") {\n",
       "        attempts++;\n",
       "        if (attempts > 100) {\n",
       "          clearInterval(timer);\n",
       "          console.log(\"Bokeh: ERROR: Unable to run BokehJS code because BokehJS library is missing\");\n",
       "        }\n",
       "      }\n",
       "    }, 10, root)\n",
       "  }\n",
       "})(window);</script>"
      ],
      "text/plain": [
       "Alert(str, alert_type='secondary', css_classes=['alert', 'alert-secondary...], margin=(0, 0, 25, 0), sizing_mode='stretch_width')"
      ]
     },
     "metadata": {
      "application/vnd.holoviews_exec.v0+json": {
       "id": "1069"
      }
     },
     "output_type": "display_data"
    },
    {
     "data": {},
     "metadata": {},
     "output_type": "display_data"
    },
    {
     "data": {
      "application/vnd.holoviews_exec.v0+json": "",
      "text/html": [
       "<div id='1071'>\n",
       "\n",
       "\n",
       "\n",
       "\n",
       "\n",
       "  <div class=\"bk-root\" id=\"d49524f6-c396-4def-8cce-ad372741d85e\" data-root-id=\"1071\"></div>\n",
       "</div>\n",
       "<script type=\"application/javascript\">(function(root) {\n",
       "  function embed_document(root) {\n",
       "    var docs_json = {\"f4470669-4d66-4347-b817-2f6c14322746\":{\"defs\":[],\"roots\":{\"references\":[{\"attributes\":{\"css_classes\":[\"alert\",\"alert-success\",\"markdown\"],\"margin\":[0,0,25,0],\"name\":\"Alert00232\",\"sizing_mode\":\"stretch_width\",\"text\":\"&lt;p&gt;fastq_stats executed successfully (/home/christine/Documents/These/Book/yapluka/PANTOUM/frangiPANe_rice3//00-fastq_stats/AA_2.fastq.fastqstat)&lt;/p&gt;\"},\"id\":\"1071\",\"type\":\"panel.models.markup.HTML\"},{\"attributes\":{\"client_comm_id\":\"4456f135fa8c4f4c9528523181b81c94\",\"comm_id\":\"0f870fb8263f48b38fceeed938fb54ca\",\"plot_id\":\"1071\"},\"id\":\"1072\",\"type\":\"panel.models.comm_manager.CommManager\"}],\"root_ids\":[\"1071\",\"1072\"]},\"title\":\"Bokeh Application\",\"version\":\"2.3.3\"}};\n",
       "    var render_items = [{\"docid\":\"f4470669-4d66-4347-b817-2f6c14322746\",\"root_ids\":[\"1071\"],\"roots\":{\"1071\":\"d49524f6-c396-4def-8cce-ad372741d85e\"}}];\n",
       "    root.Bokeh.embed.embed_items_notebook(docs_json, render_items);\n",
       "  }\n",
       "  if (root.Bokeh !== undefined && root.Bokeh.Panel !== undefined) {\n",
       "    embed_document(root);\n",
       "  } else {\n",
       "    var attempts = 0;\n",
       "    var timer = setInterval(function(root) {\n",
       "      if (root.Bokeh !== undefined && root.Bokeh.Panel !== undefined) {\n",
       "        clearInterval(timer);\n",
       "        embed_document(root);\n",
       "      } else if (document.readyState == \"complete\") {\n",
       "        attempts++;\n",
       "        if (attempts > 100) {\n",
       "          clearInterval(timer);\n",
       "          console.log(\"Bokeh: ERROR: Unable to run BokehJS code because BokehJS library is missing\");\n",
       "        }\n",
       "      }\n",
       "    }, 10, root)\n",
       "  }\n",
       "})(window);</script>"
      ],
      "text/plain": [
       "Alert(str, alert_type='success', css_classes=['alert', 'alert-success']...], margin=(0, 0, 25, 0), sizing_mode='stretch_width')"
      ]
     },
     "metadata": {
      "application/vnd.holoviews_exec.v0+json": {
       "id": "1071"
      }
     },
     "output_type": "display_data"
    },
    {
     "data": {},
     "metadata": {},
     "output_type": "display_data"
    },
    {
     "data": {
      "application/vnd.holoviews_exec.v0+json": "",
      "text/html": [
       "<div id='1073'>\n",
       "\n",
       "\n",
       "\n",
       "\n",
       "\n",
       "  <div class=\"bk-root\" id=\"3ea852ce-eab2-4821-aec2-1087ff3204ca\" data-root-id=\"1073\"></div>\n",
       "</div>\n",
       "<script type=\"application/javascript\">(function(root) {\n",
       "  function embed_document(root) {\n",
       "    var docs_json = {\"a68373f1-c8a7-4f9d-b4ab-3ff47505c46d\":{\"defs\":[],\"roots\":{\"references\":[{\"attributes\":{\"client_comm_id\":\"eac092b67fe5482c87b372806a6495e6\",\"comm_id\":\"52e2703a261f4a3ba2fa50bf38d2d2e8\",\"plot_id\":\"1073\"},\"id\":\"1074\",\"type\":\"panel.models.comm_manager.CommManager\"},{\"attributes\":{\"css_classes\":[\"alert\",\"alert-secondary\",\"markdown\"],\"margin\":[0,0,25,0],\"name\":\"Alert00236\",\"sizing_mode\":\"stretch_width\",\"text\":\"&lt;p&gt;In progress for DT_1.fastq&amp;hellip;&lt;/p&gt;\"},\"id\":\"1073\",\"type\":\"panel.models.markup.HTML\"}],\"root_ids\":[\"1073\",\"1074\"]},\"title\":\"Bokeh Application\",\"version\":\"2.3.3\"}};\n",
       "    var render_items = [{\"docid\":\"a68373f1-c8a7-4f9d-b4ab-3ff47505c46d\",\"root_ids\":[\"1073\"],\"roots\":{\"1073\":\"3ea852ce-eab2-4821-aec2-1087ff3204ca\"}}];\n",
       "    root.Bokeh.embed.embed_items_notebook(docs_json, render_items);\n",
       "  }\n",
       "  if (root.Bokeh !== undefined && root.Bokeh.Panel !== undefined) {\n",
       "    embed_document(root);\n",
       "  } else {\n",
       "    var attempts = 0;\n",
       "    var timer = setInterval(function(root) {\n",
       "      if (root.Bokeh !== undefined && root.Bokeh.Panel !== undefined) {\n",
       "        clearInterval(timer);\n",
       "        embed_document(root);\n",
       "      } else if (document.readyState == \"complete\") {\n",
       "        attempts++;\n",
       "        if (attempts > 100) {\n",
       "          clearInterval(timer);\n",
       "          console.log(\"Bokeh: ERROR: Unable to run BokehJS code because BokehJS library is missing\");\n",
       "        }\n",
       "      }\n",
       "    }, 10, root)\n",
       "  }\n",
       "})(window);</script>"
      ],
      "text/plain": [
       "Alert(str, alert_type='secondary', css_classes=['alert', 'alert-secondary...], margin=(0, 0, 25, 0), sizing_mode='stretch_width')"
      ]
     },
     "metadata": {
      "application/vnd.holoviews_exec.v0+json": {
       "id": "1073"
      }
     },
     "output_type": "display_data"
    },
    {
     "data": {},
     "metadata": {},
     "output_type": "display_data"
    },
    {
     "data": {
      "application/vnd.holoviews_exec.v0+json": "",
      "text/html": [
       "<div id='1075'>\n",
       "\n",
       "\n",
       "\n",
       "\n",
       "\n",
       "  <div class=\"bk-root\" id=\"2c4c5ae3-be18-4778-8398-42a543240456\" data-root-id=\"1075\"></div>\n",
       "</div>\n",
       "<script type=\"application/javascript\">(function(root) {\n",
       "  function embed_document(root) {\n",
       "    var docs_json = {\"6b74127d-5f48-472f-bd65-39621e9067a8\":{\"defs\":[],\"roots\":{\"references\":[{\"attributes\":{\"client_comm_id\":\"79ef3642919c4dab97f043292af42d41\",\"comm_id\":\"69b42e2a30de43f09b9e77dff12323d8\",\"plot_id\":\"1075\"},\"id\":\"1076\",\"type\":\"panel.models.comm_manager.CommManager\"},{\"attributes\":{\"css_classes\":[\"alert\",\"alert-success\",\"markdown\"],\"margin\":[0,0,25,0],\"name\":\"Alert00240\",\"sizing_mode\":\"stretch_width\",\"text\":\"&lt;p&gt;fastq_stats executed successfully (/home/christine/Documents/These/Book/yapluka/PANTOUM/frangiPANe_rice3//00-fastq_stats/DT_1.fastq.fastqstat)&lt;/p&gt;\"},\"id\":\"1075\",\"type\":\"panel.models.markup.HTML\"}],\"root_ids\":[\"1075\",\"1076\"]},\"title\":\"Bokeh Application\",\"version\":\"2.3.3\"}};\n",
       "    var render_items = [{\"docid\":\"6b74127d-5f48-472f-bd65-39621e9067a8\",\"root_ids\":[\"1075\"],\"roots\":{\"1075\":\"2c4c5ae3-be18-4778-8398-42a543240456\"}}];\n",
       "    root.Bokeh.embed.embed_items_notebook(docs_json, render_items);\n",
       "  }\n",
       "  if (root.Bokeh !== undefined && root.Bokeh.Panel !== undefined) {\n",
       "    embed_document(root);\n",
       "  } else {\n",
       "    var attempts = 0;\n",
       "    var timer = setInterval(function(root) {\n",
       "      if (root.Bokeh !== undefined && root.Bokeh.Panel !== undefined) {\n",
       "        clearInterval(timer);\n",
       "        embed_document(root);\n",
       "      } else if (document.readyState == \"complete\") {\n",
       "        attempts++;\n",
       "        if (attempts > 100) {\n",
       "          clearInterval(timer);\n",
       "          console.log(\"Bokeh: ERROR: Unable to run BokehJS code because BokehJS library is missing\");\n",
       "        }\n",
       "      }\n",
       "    }, 10, root)\n",
       "  }\n",
       "})(window);</script>"
      ],
      "text/plain": [
       "Alert(str, alert_type='success', css_classes=['alert', 'alert-success']...], margin=(0, 0, 25, 0), sizing_mode='stretch_width')"
      ]
     },
     "metadata": {
      "application/vnd.holoviews_exec.v0+json": {
       "id": "1075"
      }
     },
     "output_type": "display_data"
    },
    {
     "data": {},
     "metadata": {},
     "output_type": "display_data"
    },
    {
     "data": {
      "application/vnd.holoviews_exec.v0+json": "",
      "text/html": [
       "<div id='1077'>\n",
       "\n",
       "\n",
       "\n",
       "\n",
       "\n",
       "  <div class=\"bk-root\" id=\"06e11cd4-fd68-4bf8-8f02-78c648ee7c46\" data-root-id=\"1077\"></div>\n",
       "</div>\n",
       "<script type=\"application/javascript\">(function(root) {\n",
       "  function embed_document(root) {\n",
       "    var docs_json = {\"fb68300e-7429-4998-b39d-8f45aeed8eb4\":{\"defs\":[],\"roots\":{\"references\":[{\"attributes\":{\"css_classes\":[\"alert\",\"alert-success\",\"markdown\"],\"margin\":[0,0,25,0],\"name\":\"Alert00244\",\"sizing_mode\":\"stretch_width\",\"text\":\"&lt;h3&gt;All stat files generated successfully with fastq-stat&lt;/h3&gt;\\n&lt;hr&gt;\\n\\n&lt;ul&gt;\\n&lt;li&gt;FASTQ DIR : /home/christine/Documents/These/Book/yapluka/PANTOUM/frangiPANe_data_test/rice&lt;/li&gt;\\n&lt;li&gt;STAT DIR : /home/christine/Documents/These/Book/yapluka/PANTOUM/frangiPANe_rice3//00-fastq_stats/&lt;/li&gt;\\n&lt;/ul&gt;\"},\"id\":\"1077\",\"type\":\"panel.models.markup.HTML\"},{\"attributes\":{\"client_comm_id\":\"671e29f0227a43df9d84ba10e7889d16\",\"comm_id\":\"603e2543e26440faa27c9f269534fdcd\",\"plot_id\":\"1077\"},\"id\":\"1078\",\"type\":\"panel.models.comm_manager.CommManager\"}],\"root_ids\":[\"1077\",\"1078\"]},\"title\":\"Bokeh Application\",\"version\":\"2.3.3\"}};\n",
       "    var render_items = [{\"docid\":\"fb68300e-7429-4998-b39d-8f45aeed8eb4\",\"root_ids\":[\"1077\"],\"roots\":{\"1077\":\"06e11cd4-fd68-4bf8-8f02-78c648ee7c46\"}}];\n",
       "    root.Bokeh.embed.embed_items_notebook(docs_json, render_items);\n",
       "  }\n",
       "  if (root.Bokeh !== undefined && root.Bokeh.Panel !== undefined) {\n",
       "    embed_document(root);\n",
       "  } else {\n",
       "    var attempts = 0;\n",
       "    var timer = setInterval(function(root) {\n",
       "      if (root.Bokeh !== undefined && root.Bokeh.Panel !== undefined) {\n",
       "        clearInterval(timer);\n",
       "        embed_document(root);\n",
       "      } else if (document.readyState == \"complete\") {\n",
       "        attempts++;\n",
       "        if (attempts > 100) {\n",
       "          clearInterval(timer);\n",
       "          console.log(\"Bokeh: ERROR: Unable to run BokehJS code because BokehJS library is missing\");\n",
       "        }\n",
       "      }\n",
       "    }, 10, root)\n",
       "  }\n",
       "})(window);</script>"
      ],
      "text/plain": [
       "Alert(str, alert_type='success', css_classes=['alert', 'alert-success']...], margin=(0, 0, 25, 0), sizing_mode='stretch_width')"
      ]
     },
     "metadata": {
      "application/vnd.holoviews_exec.v0+json": {
       "id": "1077"
      }
     },
     "output_type": "display_data"
    }
   ],
   "source": [
    "fastq_stats_dir(fastq_dir, stat_dir, df_group, logger)"
   ]
  },
  {
   "cell_type": "markdown",
   "metadata": {},
   "source": [
    "#### __Merging all files generated by fastq_stat (one by sample)__"
   ]
  },
  {
   "cell_type": "code",
   "execution_count": 18,
   "metadata": {},
   "outputs": [],
   "source": [
    "fastqstat_csv=stat_dir+\"all_fastq-stats.csv\"\n",
    "merge_fastqstat(fastqstat_csv, stat_dir,logger)"
   ]
  },
  {
   "cell_type": "markdown",
   "metadata": {},
   "source": [
    "After this stat analysis, several files have been created and saved into 00_fastq_stats directory :\n",
    "* one file (fastq-stat) by fastq file\n",
    "* one file with all stats : all_fastq-stats.csv\n",
    "\n",
    "```\n",
    "TODO : \n",
    "* Message si pas de fastq <-> group\n",
    "* Bilan nb fastq, nb group, nb match et si pairé\n",
    "* tester si fastq corrumpu avec eeautils\n",
    "```"
   ]
  },
  {
   "cell_type": "markdown",
   "metadata": {
    "tags": []
   },
   "source": [
    "#### __Raw data dashboard__"
   ]
  },
  {
   "cell_type": "code",
   "execution_count": 19,
   "metadata": {},
   "outputs": [
    {
     "data": {},
     "metadata": {},
     "output_type": "display_data"
    },
    {
     "data": {
      "application/vnd.holoviews_exec.v0+json": "",
      "text/html": [
       "<div id='1079'>\n",
       "\n",
       "\n",
       "\n",
       "\n",
       "\n",
       "  <div class=\"bk-root\" id=\"873ae16d-907d-4fcc-8fd8-284a7562b3a9\" data-root-id=\"1079\"></div>\n",
       "</div>\n",
       "<script type=\"application/javascript\">(function(root) {\n",
       "  function embed_document(root) {\n",
       "    var docs_json = {\"f1042845-4a9d-4345-afbe-b7efb5403ca9\":{\"defs\":[],\"roots\":{\"references\":[{\"attributes\":{\"client_comm_id\":\"fbea95c0542141daade5419677f4c6d5\",\"comm_id\":\"f8f9ca6649634ffa90988496556e99db\",\"plot_id\":\"1079\"},\"id\":\"1094\",\"type\":\"panel.models.comm_manager.CommManager\"},{\"attributes\":{\"height\":360,\"margin\":[5,5,5,5],\"name\":\"Matplotlib00266\",\"text\":\"&lt;img src=&quot;data:image/png;base64,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&quot; width=&quot;720px&quot; height=&quot;360px&quot; alt=&quot;&quot;&gt;&lt;/img&gt;\",\"width\":720},\"id\":\"1088\",\"type\":\"panel.models.markup.HTML\"},{\"attributes\":{\"css_classes\":[\"markdown\"],\"margin\":[5,5,5,5],\"name\":\"Markdown00250\",\"text\":\"&lt;table&gt;\\n&lt;thead&gt;\\n&lt;tr&gt;\\n&lt;th align=&quot;left&quot;&gt;Pb sequenced by groups&lt;/th&gt;\\n&lt;th align=&quot;center&quot;&gt;&lt;/th&gt;\\n&lt;/tr&gt;\\n&lt;/thead&gt;\\n&lt;tbody&gt;\\n&lt;tr&gt;\\n&lt;td align=&quot;left&quot;&gt;O. barthii :&lt;/td&gt;\\n&lt;td align=&quot;center&quot;&gt;21842 Mb&lt;/td&gt;\\n&lt;/tr&gt;\\n&lt;tr&gt;\\n&lt;td align=&quot;left&quot;&gt;O. glaberrima :&lt;/td&gt;\\n&lt;td align=&quot;center&quot;&gt;12776 Mb&lt;/td&gt;\\n&lt;/tr&gt;\\n&lt;/tbody&gt;\\n&lt;/table&gt;\"},\"id\":\"1083\",\"type\":\"panel.models.markup.HTML\"},{\"attributes\":{\"css_classes\":[\"markdown\"],\"margin\":[5,5,5,5],\"name\":\"Markdown00254\",\"text\":\"&lt;h1&gt;Some statistics about fastq files&lt;/h1&gt;\"},\"id\":\"1080\",\"type\":\"panel.models.markup.HTML\"},{\"attributes\":{\"css_classes\":[\"markdown\"],\"margin\":[5,5,5,5],\"name\":\"Markdown00260\",\"text\":\"&lt;h3&gt;About Sequencing coverage&lt;/h3&gt;\\n&lt;ul&gt;\\n&lt;li&gt;x : 29 - 37 &lt;/li&gt;\\n&lt;li&gt;mean x : 33 &lt;/li&gt;\\n&lt;/ul&gt;\"},\"id\":\"1085\",\"type\":\"panel.models.markup.HTML\"},{\"attributes\":{\"css_classes\":[\"markdown\"],\"margin\":[5,5,5,5],\"name\":\"Markdown00268\",\"text\":\"&lt;h3&gt;About sequencing quality&lt;/h3&gt;\\n&lt;ul&gt;\\n&lt;li&gt;Quality: 2 - 41&lt;/li&gt;\\n&lt;li&gt;Mean quality : 37.5&lt;/li&gt;\\n&lt;/ul&gt;\"},\"id\":\"1089\",\"type\":\"panel.models.markup.HTML\"},{\"attributes\":{\"height\":360,\"margin\":[5,5,5,5],\"name\":\"Matplotlib00258\",\"text\":\"&lt;img src=&quot;data:image/png;base64,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&quot; width=&quot;720px&quot; height=&quot;360px&quot; alt=&quot;&quot;&gt;&lt;/img&gt;\",\"width\":720},\"id\":\"1084\",\"type\":\"panel.models.markup.HTML\"},{\"attributes\":{\"background\":\"WhiteSmoke\",\"children\":[{\"id\":\"1080\"},{\"id\":\"1081\"},{\"id\":\"1082\"},{\"id\":\"1083\"},{\"id\":\"1084\"},{\"id\":\"1085\"},{\"id\":\"1086\"},{\"id\":\"1087\"},{\"id\":\"1088\"},{\"id\":\"1089\"},{\"id\":\"1090\"},{\"id\":\"1091\"},{\"id\":\"1092\"},{\"id\":\"1093\"}],\"margin\":[0,0,0,0],\"name\":\"Column00276\",\"sizing_mode\":\"stretch_both\",\"width\":800},\"id\":\"1079\",\"type\":\"Column\"},{\"attributes\":{\"height\":360,\"margin\":[5,5,5,5],\"name\":\"Matplotlib00270\",\"text\":\"&lt;img src=&quot;data:image/png;base64,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&quot; width=&quot;720px&quot; height=&quot;360px&quot; alt=&quot;&quot;&gt;&lt;/img&gt;\",\"width\":720},\"id\":\"1090\",\"type\":\"panel.models.markup.HTML\"},{\"attributes\":{\"css_classes\":[\"markdown\"],\"margin\":[5,5,5,5],\"name\":\"Markdown00272\",\"text\":\"&lt;h3&gt;About base ratio :&lt;/h3&gt;\"},\"id\":\"1091\",\"type\":\"panel.models.markup.HTML\"},{\"attributes\":{\"css_classes\":[\"markdown\"],\"margin\":[5,5,5,5],\"name\":\"Markdown00248\",\"text\":\"&lt;table&gt;\\n&lt;thead&gt;\\n&lt;tr&gt;\\n&lt;th align=&quot;left&quot;&gt;Samples by group&lt;/th&gt;\\n&lt;th align=&quot;center&quot;&gt;&lt;/th&gt;\\n&lt;/tr&gt;\\n&lt;/thead&gt;\\n&lt;tbody&gt;\\n&lt;tr&gt;\\n&lt;td align=&quot;left&quot;&gt;O. barthii :&lt;/td&gt;\\n&lt;td align=&quot;center&quot;&gt;2 samples&lt;/td&gt;\\n&lt;/tr&gt;\\n&lt;tr&gt;\\n&lt;td align=&quot;left&quot;&gt;O. glaberrima :&lt;/td&gt;\\n&lt;td align=&quot;center&quot;&gt;1 samples&lt;/td&gt;\\n&lt;/tr&gt;\\n&lt;/tbody&gt;\\n&lt;/table&gt;\"},\"id\":\"1082\",\"type\":\"panel.models.markup.HTML\"},{\"attributes\":{\"margin\":[5,5,5,5],\"name\":\"DataFrame00252\",\"text\":\"&lt;table border=&quot;0&quot; class=&quot;dataframe panel-df&quot;&gt;\\n  &lt;thead&gt;\\n    &lt;tr style=&quot;text-align: right;&quot;&gt;\\n      &lt;th&gt;&lt;/th&gt;\\n      &lt;th&gt;sample&lt;/th&gt;\\n      &lt;th&gt;file&lt;/th&gt;\\n      &lt;th&gt;reads&lt;/th&gt;\\n      &lt;th&gt;len_mean&lt;/th&gt;\\n      &lt;th&gt;qual_mean&lt;/th&gt;\\n      &lt;th&gt;%A&lt;/th&gt;\\n      &lt;th&gt;%C&lt;/th&gt;\\n      &lt;th&gt;%G&lt;/th&gt;\\n      &lt;th&gt;%T&lt;/th&gt;\\n      &lt;th&gt;%N&lt;/th&gt;\\n      &lt;th&gt;total_bases&lt;/th&gt;\\n    &lt;/tr&gt;\\n  &lt;/thead&gt;\\n  &lt;tbody&gt;\\n    &lt;tr&gt;\\n      &lt;th&gt;0&lt;/th&gt;\\n      &lt;td&gt;DT&lt;/td&gt;\\n      &lt;td&gt;DT_1&lt;/td&gt;\\n      &lt;td&gt;64567104&lt;/td&gt;\\n      &lt;td&gt;99.4959&lt;/td&gt;\\n      &lt;td&gt;37.7995&lt;/td&gt;\\n      &lt;td&gt;29.3905&lt;/td&gt;\\n      &lt;td&gt;20.7890&lt;/td&gt;\\n      &lt;td&gt;20.5498&lt;/td&gt;\\n      &lt;td&gt;29.2690&lt;/td&gt;\\n      &lt;td&gt;0.0016&lt;/td&gt;\\n      &lt;td&gt;6424163178&lt;/td&gt;\\n    &lt;/tr&gt;\\n    &lt;tr&gt;\\n      &lt;th&gt;1&lt;/th&gt;\\n      &lt;td&gt;DT&lt;/td&gt;\\n      &lt;td&gt;DT_2&lt;/td&gt;\\n      &lt;td&gt;64567104&lt;/td&gt;\\n      &lt;td&gt;98.3795&lt;/td&gt;\\n      &lt;td&gt;37.3075&lt;/td&gt;\\n      &lt;td&gt;29.3120&lt;/td&gt;\\n      &lt;td&gt;20.8437&lt;/td&gt;\\n      &lt;td&gt;20.6734&lt;/td&gt;\\n      &lt;td&gt;29.1706&lt;/td&gt;\\n      &lt;td&gt;0.0004&lt;/td&gt;\\n      &lt;td&gt;6352078118&lt;/td&gt;\\n    &lt;/tr&gt;\\n    &lt;tr&gt;\\n      &lt;th&gt;2&lt;/th&gt;\\n      &lt;td&gt;AA&lt;/td&gt;\\n      &lt;td&gt;AA_1&lt;/td&gt;\\n      &lt;td&gt;59702522&lt;/td&gt;\\n      &lt;td&gt;99.4463&lt;/td&gt;\\n      &lt;td&gt;37.5898&lt;/td&gt;\\n      &lt;td&gt;29.7371&lt;/td&gt;\\n      &lt;td&gt;20.2784&lt;/td&gt;\\n      &lt;td&gt;20.2512&lt;/td&gt;\\n      &lt;td&gt;29.7332&lt;/td&gt;\\n      &lt;td&gt;0.0002&lt;/td&gt;\\n      &lt;td&gt;5937193058&lt;/td&gt;\\n    &lt;/tr&gt;\\n    &lt;tr&gt;\\n      &lt;th&gt;3&lt;/th&gt;\\n      &lt;td&gt;AA&lt;/td&gt;\\n      &lt;td&gt;AA_2&lt;/td&gt;\\n      &lt;td&gt;59702522&lt;/td&gt;\\n      &lt;td&gt;98.1749&lt;/td&gt;\\n      &lt;td&gt;37.0712&lt;/td&gt;\\n      &lt;td&gt;29.7326&lt;/td&gt;\\n      &lt;td&gt;20.3420&lt;/td&gt;\\n      &lt;td&gt;20.2237&lt;/td&gt;\\n      &lt;td&gt;29.7003&lt;/td&gt;\\n      &lt;td&gt;0.0014&lt;/td&gt;\\n      &lt;td&gt;5861289005&lt;/td&gt;\\n    &lt;/tr&gt;\\n    &lt;tr&gt;\\n      &lt;th&gt;4&lt;/th&gt;\\n      &lt;td&gt;AB&lt;/td&gt;\\n      &lt;td&gt;AB_1&lt;/td&gt;\\n      &lt;td&gt;50654417&lt;/td&gt;\\n      &lt;td&gt;99.8513&lt;/td&gt;\\n      &lt;td&gt;37.8873&lt;/td&gt;\\n      &lt;td&gt;29.8623&lt;/td&gt;\\n      &lt;td&gt;20.1090&lt;/td&gt;\\n      &lt;td&gt;20.1090&lt;/td&gt;\\n      &lt;td&gt;29.9154&lt;/td&gt;\\n      &lt;td&gt;0.0043&lt;/td&gt;\\n      &lt;td&gt;5057907857&lt;/td&gt;\\n    &lt;/tr&gt;\\n    &lt;tr&gt;\\n      &lt;th&gt;5&lt;/th&gt;\\n      &lt;td&gt;AB&lt;/td&gt;\\n      &lt;td&gt;AB_2&lt;/td&gt;\\n      &lt;td&gt;50654417&lt;/td&gt;\\n      &lt;td&gt;98.4247&lt;/td&gt;\\n      &lt;td&gt;37.3385&lt;/td&gt;\\n      &lt;td&gt;29.9033&lt;/td&gt;\\n      &lt;td&gt;20.1510&lt;/td&gt;\\n      &lt;td&gt;20.0919&lt;/td&gt;\\n      &lt;td&gt;29.8531&lt;/td&gt;\\n      &lt;td&gt;0.0007&lt;/td&gt;\\n      &lt;td&gt;4985644346&lt;/td&gt;\\n    &lt;/tr&gt;\\n  &lt;/tbody&gt;\\n&lt;/table&gt;\",\"width\":800},\"id\":\"1093\",\"type\":\"panel.models.markup.HTML\"},{\"attributes\":{\"css_classes\":[\"markdown\"],\"margin\":[5,5,5,5],\"name\":\"Markdown00256\",\"text\":\"&lt;h3&gt;About population&lt;/h3&gt;\\n&lt;ul&gt;\\n&lt;li&gt;3 samples&lt;/li&gt;\\n&lt;li&gt;Total base sequenced : 34618 Mb&lt;/li&gt;\\n&lt;/ul&gt;\"},\"id\":\"1081\",\"type\":\"panel.models.markup.HTML\"},{\"attributes\":{\"height\":360,\"margin\":[5,5,5,5],\"name\":\"Matplotlib00262\",\"text\":\"&lt;img src=&quot;data:image/png;base64,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&quot; width=&quot;720px&quot; height=&quot;360px&quot; alt=&quot;&quot;&gt;&lt;/img&gt;\",\"width\":720},\"id\":\"1086\",\"type\":\"panel.models.markup.HTML\"},{\"attributes\":{\"height\":360,\"margin\":[5,5,5,5],\"name\":\"Matplotlib00274\",\"text\":\"&lt;img src=&quot;data:image/png;base64,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&quot; width=&quot;720px&quot; height=&quot;360px&quot; alt=&quot;&quot;&gt;&lt;/img&gt;\",\"width\":720},\"id\":\"1092\",\"type\":\"panel.models.markup.HTML\"},{\"attributes\":{\"css_classes\":[\"markdown\"],\"margin\":[5,5,5,5],\"name\":\"Markdown00264\",\"text\":\"&lt;h3&gt;About read length&lt;/h3&gt;\\n&lt;ul&gt;\\n&lt;li&gt;Length read: 30 - 101&lt;/li&gt;\\n&lt;li&gt;Mean length read : 98.96&lt;/li&gt;\\n&lt;/ul&gt;\"},\"id\":\"1087\",\"type\":\"panel.models.markup.HTML\"}],\"root_ids\":[\"1079\",\"1094\"]},\"title\":\"Bokeh Application\",\"version\":\"2.3.3\"}};\n",
       "    var render_items = [{\"docid\":\"f1042845-4a9d-4345-afbe-b7efb5403ca9\",\"root_ids\":[\"1079\"],\"roots\":{\"1079\":\"873ae16d-907d-4fcc-8fd8-284a7562b3a9\"}}];\n",
       "    root.Bokeh.embed.embed_items_notebook(docs_json, render_items);\n",
       "  }\n",
       "  if (root.Bokeh !== undefined && root.Bokeh.Panel !== undefined) {\n",
       "    embed_document(root);\n",
       "  } else {\n",
       "    var attempts = 0;\n",
       "    var timer = setInterval(function(root) {\n",
       "      if (root.Bokeh !== undefined && root.Bokeh.Panel !== undefined) {\n",
       "        clearInterval(timer);\n",
       "        embed_document(root);\n",
       "      } else if (document.readyState == \"complete\") {\n",
       "        attempts++;\n",
       "        if (attempts > 100) {\n",
       "          clearInterval(timer);\n",
       "          console.log(\"Bokeh: ERROR: Unable to run BokehJS code because BokehJS library is missing\");\n",
       "        }\n",
       "      }\n",
       "    }, 10, root)\n",
       "  }\n",
       "})(window);</script>"
      ],
      "text/plain": [
       "Column(background='WhiteSmoke', sizing_mode='stretch_both', width=800)\n",
       "    [0] Markdown(str)\n",
       "    [1] Markdown(str)\n",
       "    [2] Markdown(str)\n",
       "    [3] Markdown(str)\n",
       "    [4] Matplotlib(Figure)\n",
       "    [5] Markdown(str)\n",
       "    [6] Matplotlib(Figure)\n",
       "    [7] Markdown(str)\n",
       "    [8] Matplotlib(Figure)\n",
       "    [9] Markdown(str)\n",
       "    [10] Matplotlib(Figure)\n",
       "    [11] Markdown(str)\n",
       "    [12] Matplotlib(Figure)\n",
       "    [13] DataFrame(DataFrame, width=800)"
      ]
     },
     "metadata": {
      "application/vnd.holoviews_exec.v0+json": {
       "id": "1079"
      }
     },
     "output_type": "display_data"
    }
   ],
   "source": [
    "dashboard_fastq(fastqstat_csv,total_genome_size,df_group)"
   ]
  },
  {
   "cell_type": "markdown",
   "metadata": {
    "tags": []
   },
   "source": [
    "### <span style=\"color: #919395\">_2 - Mapping the individuals reads against the reference genome_  <a class=\"anchor\" id=\"mapping\"></a></span>\n",
    "\n",
    "#### __Creating output directories used for this analysis step__"
   ]
  },
  {
   "cell_type": "code",
   "execution_count": 20,
   "metadata": {},
   "outputs": [],
   "source": [
    "output_mapping_dir = output_dir + \"/01-mapping_against_reference/\""
   ]
  },
  {
   "cell_type": "markdown",
   "metadata": {},
   "source": [
    "#### __Mapping with `BWA mem` <a class=\"anchor\" id=\"mappingbwa\">__\n",
    "\n",
    "Options of bwa-mem : \n",
    "* -p : Assume the first input query file is interleaved paired-end FASTQ\n",
    "* -M : Mark shorter split hits as secondary\n",
    "* -t : Number of threads\n",
    "\n",
    "Options of samtools sort : \n",
    "* -@ : Set number of sorting and compression threads\n",
    "* -o : Write the final sorted output to FILE, rather than to standard output"
   ]
  },
  {
   "cell_type": "code",
   "execution_count": 21,
   "metadata": {
    "tags": []
   },
   "outputs": [
    {
     "data": {},
     "metadata": {},
     "output_type": "display_data"
    },
    {
     "data": {
      "application/vnd.holoviews_exec.v0+json": "",
      "text/html": [
       "<div id='1095'>\n",
       "\n",
       "\n",
       "\n",
       "\n",
       "\n",
       "  <div class=\"bk-root\" id=\"95e813ab-fb51-4399-a45b-2bb0bab14fd5\" data-root-id=\"1095\"></div>\n",
       "</div>\n",
       "<script type=\"application/javascript\">(function(root) {\n",
       "  function embed_document(root) {\n",
       "    var docs_json = {\"b9dfcf33-6e9d-4868-8165-fb7d2b30c1ac\":{\"defs\":[],\"roots\":{\"references\":[{\"attributes\":{\"client_comm_id\":\"2e3bc03cedae40ff80cc326df5bd05c0\",\"comm_id\":\"cad846351f7c484ca937cc40918133c8\",\"plot_id\":\"1095\"},\"id\":\"1096\",\"type\":\"panel.models.comm_manager.CommManager\"},{\"attributes\":{\"css_classes\":[\"alert\",\"alert-success\",\"markdown\"],\"margin\":[0,0,25,0],\"name\":\"Alert00279\",\"sizing_mode\":\"stretch_width\",\"text\":\"&lt;p&gt;Directory /home/christine/Documents/These/Book/yapluka/PANTOUM/frangiPANe_rice3//01-mapping_against_reference/ created&lt;/p&gt;\"},\"id\":\"1095\",\"type\":\"panel.models.markup.HTML\"}],\"root_ids\":[\"1095\",\"1096\"]},\"title\":\"Bokeh Application\",\"version\":\"2.3.3\"}};\n",
       "    var render_items = [{\"docid\":\"b9dfcf33-6e9d-4868-8165-fb7d2b30c1ac\",\"root_ids\":[\"1095\"],\"roots\":{\"1095\":\"95e813ab-fb51-4399-a45b-2bb0bab14fd5\"}}];\n",
       "    root.Bokeh.embed.embed_items_notebook(docs_json, render_items);\n",
       "  }\n",
       "  if (root.Bokeh !== undefined && root.Bokeh.Panel !== undefined) {\n",
       "    embed_document(root);\n",
       "  } else {\n",
       "    var attempts = 0;\n",
       "    var timer = setInterval(function(root) {\n",
       "      if (root.Bokeh !== undefined && root.Bokeh.Panel !== undefined) {\n",
       "        clearInterval(timer);\n",
       "        embed_document(root);\n",
       "      } else if (document.readyState == \"complete\") {\n",
       "        attempts++;\n",
       "        if (attempts > 100) {\n",
       "          clearInterval(timer);\n",
       "          console.log(\"Bokeh: ERROR: Unable to run BokehJS code because BokehJS library is missing\");\n",
       "        }\n",
       "      }\n",
       "    }, 10, root)\n",
       "  }\n",
       "})(window);</script>"
      ],
      "text/plain": [
       "Alert(str, alert_type='success', css_classes=['alert', 'alert-success']...], margin=(0, 0, 25, 0), sizing_mode='stretch_width')"
      ]
     },
     "metadata": {
      "application/vnd.holoviews_exec.v0+json": {
       "id": "1095"
      }
     },
     "output_type": "display_data"
    },
    {
     "data": {},
     "metadata": {},
     "output_type": "display_data"
    },
    {
     "data": {
      "application/vnd.holoviews_exec.v0+json": "",
      "text/html": [
       "<div id='1097'>\n",
       "\n",
       "\n",
       "\n",
       "\n",
       "\n",
       "  <div class=\"bk-root\" id=\"bf938689-16c7-48e8-8410-4904a172faef\" data-root-id=\"1097\"></div>\n",
       "</div>\n",
       "<script type=\"application/javascript\">(function(root) {\n",
       "  function embed_document(root) {\n",
       "    var docs_json = {\"59da8848-5180-43dd-b588-7685fa9ed9f2\":{\"defs\":[],\"roots\":{\"references\":[{\"attributes\":{\"client_comm_id\":\"e3fd0ac5c23342079fcccd40a8667147\",\"comm_id\":\"c0f4d1c9618143769fee66897b581fe2\",\"plot_id\":\"1097\"},\"id\":\"1098\",\"type\":\"panel.models.comm_manager.CommManager\"},{\"attributes\":{\"css_classes\":[\"alert\",\"alert-info\",\"markdown\"],\"margin\":[0,0,25,0],\"name\":\"Alert00283\",\"sizing_mode\":\"stretch_width\",\"text\":\"&lt;p&gt;Starting mapping with bwa mem in /home/christine/Documents/These/Book/yapluka/PANTOUM/frangiPANe_rice3//01-mapping_against_reference/&amp;hellip;&lt;/p&gt;\"},\"id\":\"1097\",\"type\":\"panel.models.markup.HTML\"}],\"root_ids\":[\"1097\",\"1098\"]},\"title\":\"Bokeh Application\",\"version\":\"2.3.3\"}};\n",
       "    var render_items = [{\"docid\":\"59da8848-5180-43dd-b588-7685fa9ed9f2\",\"root_ids\":[\"1097\"],\"roots\":{\"1097\":\"bf938689-16c7-48e8-8410-4904a172faef\"}}];\n",
       "    root.Bokeh.embed.embed_items_notebook(docs_json, render_items);\n",
       "  }\n",
       "  if (root.Bokeh !== undefined && root.Bokeh.Panel !== undefined) {\n",
       "    embed_document(root);\n",
       "  } else {\n",
       "    var attempts = 0;\n",
       "    var timer = setInterval(function(root) {\n",
       "      if (root.Bokeh !== undefined && root.Bokeh.Panel !== undefined) {\n",
       "        clearInterval(timer);\n",
       "        embed_document(root);\n",
       "      } else if (document.readyState == \"complete\") {\n",
       "        attempts++;\n",
       "        if (attempts > 100) {\n",
       "          clearInterval(timer);\n",
       "          console.log(\"Bokeh: ERROR: Unable to run BokehJS code because BokehJS library is missing\");\n",
       "        }\n",
       "      }\n",
       "    }, 10, root)\n",
       "  }\n",
       "})(window);</script>"
      ],
      "text/plain": [
       "Alert(str, alert_type='info', css_classes=['alert', 'alert-info'], margin=(0, 0, 25, 0), sizing_mode='stretch_width')"
      ]
     },
     "metadata": {
      "application/vnd.holoviews_exec.v0+json": {
       "id": "1097"
      }
     },
     "output_type": "display_data"
    },
    {
     "data": {},
     "metadata": {},
     "output_type": "display_data"
    },
    {
     "data": {
      "application/vnd.holoviews_exec.v0+json": "",
      "text/html": [
       "<div id='1099'>\n",
       "\n",
       "\n",
       "\n",
       "\n",
       "\n",
       "  <div class=\"bk-root\" id=\"6f13f2ff-6da7-41b1-b846-6f89895c39b9\" data-root-id=\"1099\"></div>\n",
       "</div>\n",
       "<script type=\"application/javascript\">(function(root) {\n",
       "  function embed_document(root) {\n",
       "    var docs_json = {\"3a270897-699d-4181-81b2-180aeb0bfe0c\":{\"defs\":[],\"roots\":{\"references\":[{\"attributes\":{\"client_comm_id\":\"dcc64d30d94a4000b1e790603daa1b18\",\"comm_id\":\"da713d31f6dd47ecb07ff37d8d524d33\",\"plot_id\":\"1099\"},\"id\":\"1100\",\"type\":\"panel.models.comm_manager.CommManager\"},{\"attributes\":{\"css_classes\":[\"alert\",\"alert-secondary\",\"markdown\"],\"margin\":[0,0,25,0],\"name\":\"Alert00287\",\"sizing_mode\":\"stretch_width\",\"text\":\"&lt;p&gt;Mapping with bwa mem on progress for AB&amp;hellip;&lt;/p&gt;\"},\"id\":\"1099\",\"type\":\"panel.models.markup.HTML\"}],\"root_ids\":[\"1099\",\"1100\"]},\"title\":\"Bokeh Application\",\"version\":\"2.3.3\"}};\n",
       "    var render_items = [{\"docid\":\"3a270897-699d-4181-81b2-180aeb0bfe0c\",\"root_ids\":[\"1099\"],\"roots\":{\"1099\":\"6f13f2ff-6da7-41b1-b846-6f89895c39b9\"}}];\n",
       "    root.Bokeh.embed.embed_items_notebook(docs_json, render_items);\n",
       "  }\n",
       "  if (root.Bokeh !== undefined && root.Bokeh.Panel !== undefined) {\n",
       "    embed_document(root);\n",
       "  } else {\n",
       "    var attempts = 0;\n",
       "    var timer = setInterval(function(root) {\n",
       "      if (root.Bokeh !== undefined && root.Bokeh.Panel !== undefined) {\n",
       "        clearInterval(timer);\n",
       "        embed_document(root);\n",
       "      } else if (document.readyState == \"complete\") {\n",
       "        attempts++;\n",
       "        if (attempts > 100) {\n",
       "          clearInterval(timer);\n",
       "          console.log(\"Bokeh: ERROR: Unable to run BokehJS code because BokehJS library is missing\");\n",
       "        }\n",
       "      }\n",
       "    }, 10, root)\n",
       "  }\n",
       "})(window);</script>"
      ],
      "text/plain": [
       "Alert(str, alert_type='secondary', css_classes=['alert', 'alert-secondary...], margin=(0, 0, 25, 0), sizing_mode='stretch_width')"
      ]
     },
     "metadata": {
      "application/vnd.holoviews_exec.v0+json": {
       "id": "1099"
      }
     },
     "output_type": "display_data"
    },
    {
     "data": {},
     "metadata": {},
     "output_type": "display_data"
    },
    {
     "data": {
      "application/vnd.holoviews_exec.v0+json": "",
      "text/html": [
       "<div id='1101'>\n",
       "\n",
       "\n",
       "\n",
       "\n",
       "\n",
       "  <div class=\"bk-root\" id=\"987846a7-bb4a-45df-9a35-686fb89affee\" data-root-id=\"1101\"></div>\n",
       "</div>\n",
       "<script type=\"application/javascript\">(function(root) {\n",
       "  function embed_document(root) {\n",
       "    var docs_json = {\"2d000f25-423e-408b-9a4f-4669cd55fe70\":{\"defs\":[],\"roots\":{\"references\":[{\"attributes\":{\"client_comm_id\":\"28151f77c1b34987b9776d819631f2ef\",\"comm_id\":\"00c3d85c9d7040bc9eba8a0fd2ec4ddd\",\"plot_id\":\"1101\"},\"id\":\"1102\",\"type\":\"panel.models.comm_manager.CommManager\"},{\"attributes\":{\"css_classes\":[\"alert\",\"alert-success\",\"markdown\"],\"margin\":[0,0,25,0],\"name\":\"Alert00291\",\"sizing_mode\":\"stretch_width\",\"text\":\"&lt;p&gt;bwa mem executed successfully (/home/christine/Documents/These/Book/yapluka/PANTOUM/frangiPANe_rice3//01-mapping_against_reference/AB.sam)&lt;/p&gt;\"},\"id\":\"1101\",\"type\":\"panel.models.markup.HTML\"}],\"root_ids\":[\"1101\",\"1102\"]},\"title\":\"Bokeh Application\",\"version\":\"2.3.3\"}};\n",
       "    var render_items = [{\"docid\":\"2d000f25-423e-408b-9a4f-4669cd55fe70\",\"root_ids\":[\"1101\"],\"roots\":{\"1101\":\"987846a7-bb4a-45df-9a35-686fb89affee\"}}];\n",
       "    root.Bokeh.embed.embed_items_notebook(docs_json, render_items);\n",
       "  }\n",
       "  if (root.Bokeh !== undefined && root.Bokeh.Panel !== undefined) {\n",
       "    embed_document(root);\n",
       "  } else {\n",
       "    var attempts = 0;\n",
       "    var timer = setInterval(function(root) {\n",
       "      if (root.Bokeh !== undefined && root.Bokeh.Panel !== undefined) {\n",
       "        clearInterval(timer);\n",
       "        embed_document(root);\n",
       "      } else if (document.readyState == \"complete\") {\n",
       "        attempts++;\n",
       "        if (attempts > 100) {\n",
       "          clearInterval(timer);\n",
       "          console.log(\"Bokeh: ERROR: Unable to run BokehJS code because BokehJS library is missing\");\n",
       "        }\n",
       "      }\n",
       "    }, 10, root)\n",
       "  }\n",
       "})(window);</script>"
      ],
      "text/plain": [
       "Alert(str, alert_type='success', css_classes=['alert', 'alert-success']...], margin=(0, 0, 25, 0), sizing_mode='stretch_width')"
      ]
     },
     "metadata": {
      "application/vnd.holoviews_exec.v0+json": {
       "id": "1101"
      }
     },
     "output_type": "display_data"
    },
    {
     "data": {},
     "metadata": {},
     "output_type": "display_data"
    },
    {
     "data": {
      "application/vnd.holoviews_exec.v0+json": "",
      "text/html": [
       "<div id='1103'>\n",
       "\n",
       "\n",
       "\n",
       "\n",
       "\n",
       "  <div class=\"bk-root\" id=\"037a7610-579b-4c2c-9802-57303fc54b80\" data-root-id=\"1103\"></div>\n",
       "</div>\n",
       "<script type=\"application/javascript\">(function(root) {\n",
       "  function embed_document(root) {\n",
       "    var docs_json = {\"8b730011-7361-4b6e-a9c4-f97bb15108c3\":{\"defs\":[],\"roots\":{\"references\":[{\"attributes\":{\"client_comm_id\":\"449db994b86d4994ba9ab6cd6b927038\",\"comm_id\":\"a7048fc11be1421580457f8e48d64f41\",\"plot_id\":\"1103\"},\"id\":\"1104\",\"type\":\"panel.models.comm_manager.CommManager\"},{\"attributes\":{\"css_classes\":[\"alert\",\"alert-secondary\",\"markdown\"],\"margin\":[0,0,25,0],\"name\":\"Alert00295\",\"sizing_mode\":\"stretch_width\",\"text\":\"&lt;p&gt;Sort sam file with samtools sort on progress for AB&amp;hellip;&lt;/p&gt;\"},\"id\":\"1103\",\"type\":\"panel.models.markup.HTML\"}],\"root_ids\":[\"1103\",\"1104\"]},\"title\":\"Bokeh Application\",\"version\":\"2.3.3\"}};\n",
       "    var render_items = [{\"docid\":\"8b730011-7361-4b6e-a9c4-f97bb15108c3\",\"root_ids\":[\"1103\"],\"roots\":{\"1103\":\"037a7610-579b-4c2c-9802-57303fc54b80\"}}];\n",
       "    root.Bokeh.embed.embed_items_notebook(docs_json, render_items);\n",
       "  }\n",
       "  if (root.Bokeh !== undefined && root.Bokeh.Panel !== undefined) {\n",
       "    embed_document(root);\n",
       "  } else {\n",
       "    var attempts = 0;\n",
       "    var timer = setInterval(function(root) {\n",
       "      if (root.Bokeh !== undefined && root.Bokeh.Panel !== undefined) {\n",
       "        clearInterval(timer);\n",
       "        embed_document(root);\n",
       "      } else if (document.readyState == \"complete\") {\n",
       "        attempts++;\n",
       "        if (attempts > 100) {\n",
       "          clearInterval(timer);\n",
       "          console.log(\"Bokeh: ERROR: Unable to run BokehJS code because BokehJS library is missing\");\n",
       "        }\n",
       "      }\n",
       "    }, 10, root)\n",
       "  }\n",
       "})(window);</script>"
      ],
      "text/plain": [
       "Alert(str, alert_type='secondary', css_classes=['alert', 'alert-secondary...], margin=(0, 0, 25, 0), sizing_mode='stretch_width')"
      ]
     },
     "metadata": {
      "application/vnd.holoviews_exec.v0+json": {
       "id": "1103"
      }
     },
     "output_type": "display_data"
    },
    {
     "data": {},
     "metadata": {},
     "output_type": "display_data"
    },
    {
     "data": {
      "application/vnd.holoviews_exec.v0+json": "",
      "text/html": [
       "<div id='1105'>\n",
       "\n",
       "\n",
       "\n",
       "\n",
       "\n",
       "  <div class=\"bk-root\" id=\"56b8fe5b-2d31-432c-bb16-76ee669c994e\" data-root-id=\"1105\"></div>\n",
       "</div>\n",
       "<script type=\"application/javascript\">(function(root) {\n",
       "  function embed_document(root) {\n",
       "    var docs_json = {\"24482e51-5ad8-471a-a658-ed165563dec3\":{\"defs\":[],\"roots\":{\"references\":[{\"attributes\":{\"css_classes\":[\"alert\",\"alert-success\",\"markdown\"],\"margin\":[0,0,25,0],\"name\":\"Alert00299\",\"sizing_mode\":\"stretch_width\",\"text\":\"&lt;p&gt;Sort Sam file into bam successfully done (/home/christine/Documents/These/Book/yapluka/PANTOUM/frangiPANe_rice3//01-mapping_against_reference/AB.bam)&lt;/p&gt;\"},\"id\":\"1105\",\"type\":\"panel.models.markup.HTML\"},{\"attributes\":{\"client_comm_id\":\"75148ecd21b5462c860768b0f91406cd\",\"comm_id\":\"29d61228df23455fa8c5a5d0c18aa1b9\",\"plot_id\":\"1105\"},\"id\":\"1106\",\"type\":\"panel.models.comm_manager.CommManager\"}],\"root_ids\":[\"1105\",\"1106\"]},\"title\":\"Bokeh Application\",\"version\":\"2.3.3\"}};\n",
       "    var render_items = [{\"docid\":\"24482e51-5ad8-471a-a658-ed165563dec3\",\"root_ids\":[\"1105\"],\"roots\":{\"1105\":\"56b8fe5b-2d31-432c-bb16-76ee669c994e\"}}];\n",
       "    root.Bokeh.embed.embed_items_notebook(docs_json, render_items);\n",
       "  }\n",
       "  if (root.Bokeh !== undefined && root.Bokeh.Panel !== undefined) {\n",
       "    embed_document(root);\n",
       "  } else {\n",
       "    var attempts = 0;\n",
       "    var timer = setInterval(function(root) {\n",
       "      if (root.Bokeh !== undefined && root.Bokeh.Panel !== undefined) {\n",
       "        clearInterval(timer);\n",
       "        embed_document(root);\n",
       "      } else if (document.readyState == \"complete\") {\n",
       "        attempts++;\n",
       "        if (attempts > 100) {\n",
       "          clearInterval(timer);\n",
       "          console.log(\"Bokeh: ERROR: Unable to run BokehJS code because BokehJS library is missing\");\n",
       "        }\n",
       "      }\n",
       "    }, 10, root)\n",
       "  }\n",
       "})(window);</script>"
      ],
      "text/plain": [
       "Alert(str, alert_type='success', css_classes=['alert', 'alert-success']...], margin=(0, 0, 25, 0), sizing_mode='stretch_width')"
      ]
     },
     "metadata": {
      "application/vnd.holoviews_exec.v0+json": {
       "id": "1105"
      }
     },
     "output_type": "display_data"
    },
    {
     "data": {},
     "metadata": {},
     "output_type": "display_data"
    },
    {
     "data": {
      "application/vnd.holoviews_exec.v0+json": "",
      "text/html": [
       "<div id='1107'>\n",
       "\n",
       "\n",
       "\n",
       "\n",
       "\n",
       "  <div class=\"bk-root\" id=\"234cf728-aaef-438e-ae80-b05ec9457c18\" data-root-id=\"1107\"></div>\n",
       "</div>\n",
       "<script type=\"application/javascript\">(function(root) {\n",
       "  function embed_document(root) {\n",
       "    var docs_json = {\"c2f3cf3b-19a4-413e-9140-3eeb20ba2507\":{\"defs\":[],\"roots\":{\"references\":[{\"attributes\":{\"css_classes\":[\"alert\",\"alert-secondary\",\"markdown\"],\"margin\":[0,0,25,0],\"name\":\"Alert00303\",\"sizing_mode\":\"stretch_width\",\"text\":\"&lt;p&gt;Mapping with bwa mem on progress for AA&amp;hellip;&lt;/p&gt;\"},\"id\":\"1107\",\"type\":\"panel.models.markup.HTML\"},{\"attributes\":{\"client_comm_id\":\"216db6c322c242ff81a04a9cf93ecb3f\",\"comm_id\":\"f4894feeaf534f458fc1fda6802e470f\",\"plot_id\":\"1107\"},\"id\":\"1108\",\"type\":\"panel.models.comm_manager.CommManager\"}],\"root_ids\":[\"1107\",\"1108\"]},\"title\":\"Bokeh Application\",\"version\":\"2.3.3\"}};\n",
       "    var render_items = [{\"docid\":\"c2f3cf3b-19a4-413e-9140-3eeb20ba2507\",\"root_ids\":[\"1107\"],\"roots\":{\"1107\":\"234cf728-aaef-438e-ae80-b05ec9457c18\"}}];\n",
       "    root.Bokeh.embed.embed_items_notebook(docs_json, render_items);\n",
       "  }\n",
       "  if (root.Bokeh !== undefined && root.Bokeh.Panel !== undefined) {\n",
       "    embed_document(root);\n",
       "  } else {\n",
       "    var attempts = 0;\n",
       "    var timer = setInterval(function(root) {\n",
       "      if (root.Bokeh !== undefined && root.Bokeh.Panel !== undefined) {\n",
       "        clearInterval(timer);\n",
       "        embed_document(root);\n",
       "      } else if (document.readyState == \"complete\") {\n",
       "        attempts++;\n",
       "        if (attempts > 100) {\n",
       "          clearInterval(timer);\n",
       "          console.log(\"Bokeh: ERROR: Unable to run BokehJS code because BokehJS library is missing\");\n",
       "        }\n",
       "      }\n",
       "    }, 10, root)\n",
       "  }\n",
       "})(window);</script>"
      ],
      "text/plain": [
       "Alert(str, alert_type='secondary', css_classes=['alert', 'alert-secondary...], margin=(0, 0, 25, 0), sizing_mode='stretch_width')"
      ]
     },
     "metadata": {
      "application/vnd.holoviews_exec.v0+json": {
       "id": "1107"
      }
     },
     "output_type": "display_data"
    },
    {
     "data": {},
     "metadata": {},
     "output_type": "display_data"
    },
    {
     "data": {
      "application/vnd.holoviews_exec.v0+json": "",
      "text/html": [
       "<div id='1109'>\n",
       "\n",
       "\n",
       "\n",
       "\n",
       "\n",
       "  <div class=\"bk-root\" id=\"cd7d662c-7229-47ec-9276-e6114f724903\" data-root-id=\"1109\"></div>\n",
       "</div>\n",
       "<script type=\"application/javascript\">(function(root) {\n",
       "  function embed_document(root) {\n",
       "    var docs_json = {\"743d8556-0f88-4635-987b-b8bf2720bced\":{\"defs\":[],\"roots\":{\"references\":[{\"attributes\":{\"client_comm_id\":\"fe7775ead7364c8289e64b025ec18a1b\",\"comm_id\":\"0b23cb8ae8ad48118e49dcae3746ddae\",\"plot_id\":\"1109\"},\"id\":\"1110\",\"type\":\"panel.models.comm_manager.CommManager\"},{\"attributes\":{\"css_classes\":[\"alert\",\"alert-success\",\"markdown\"],\"margin\":[0,0,25,0],\"name\":\"Alert00307\",\"sizing_mode\":\"stretch_width\",\"text\":\"&lt;p&gt;bwa mem executed successfully (/home/christine/Documents/These/Book/yapluka/PANTOUM/frangiPANe_rice3//01-mapping_against_reference/AA.sam)&lt;/p&gt;\"},\"id\":\"1109\",\"type\":\"panel.models.markup.HTML\"}],\"root_ids\":[\"1109\",\"1110\"]},\"title\":\"Bokeh Application\",\"version\":\"2.3.3\"}};\n",
       "    var render_items = [{\"docid\":\"743d8556-0f88-4635-987b-b8bf2720bced\",\"root_ids\":[\"1109\"],\"roots\":{\"1109\":\"cd7d662c-7229-47ec-9276-e6114f724903\"}}];\n",
       "    root.Bokeh.embed.embed_items_notebook(docs_json, render_items);\n",
       "  }\n",
       "  if (root.Bokeh !== undefined && root.Bokeh.Panel !== undefined) {\n",
       "    embed_document(root);\n",
       "  } else {\n",
       "    var attempts = 0;\n",
       "    var timer = setInterval(function(root) {\n",
       "      if (root.Bokeh !== undefined && root.Bokeh.Panel !== undefined) {\n",
       "        clearInterval(timer);\n",
       "        embed_document(root);\n",
       "      } else if (document.readyState == \"complete\") {\n",
       "        attempts++;\n",
       "        if (attempts > 100) {\n",
       "          clearInterval(timer);\n",
       "          console.log(\"Bokeh: ERROR: Unable to run BokehJS code because BokehJS library is missing\");\n",
       "        }\n",
       "      }\n",
       "    }, 10, root)\n",
       "  }\n",
       "})(window);</script>"
      ],
      "text/plain": [
       "Alert(str, alert_type='success', css_classes=['alert', 'alert-success']...], margin=(0, 0, 25, 0), sizing_mode='stretch_width')"
      ]
     },
     "metadata": {
      "application/vnd.holoviews_exec.v0+json": {
       "id": "1109"
      }
     },
     "output_type": "display_data"
    },
    {
     "data": {},
     "metadata": {},
     "output_type": "display_data"
    },
    {
     "data": {
      "application/vnd.holoviews_exec.v0+json": "",
      "text/html": [
       "<div id='1111'>\n",
       "\n",
       "\n",
       "\n",
       "\n",
       "\n",
       "  <div class=\"bk-root\" id=\"b3b3e0ab-a7ec-499d-b8a0-ec7f81b177bf\" data-root-id=\"1111\"></div>\n",
       "</div>\n",
       "<script type=\"application/javascript\">(function(root) {\n",
       "  function embed_document(root) {\n",
       "    var docs_json = {\"fe2beeb6-ff96-4fe8-bace-17c633240844\":{\"defs\":[],\"roots\":{\"references\":[{\"attributes\":{\"client_comm_id\":\"9ad58183c00e427dae2a5ff7314e8b28\",\"comm_id\":\"2185edb2d8fc4b48a7766150420d9fcc\",\"plot_id\":\"1111\"},\"id\":\"1112\",\"type\":\"panel.models.comm_manager.CommManager\"},{\"attributes\":{\"css_classes\":[\"alert\",\"alert-secondary\",\"markdown\"],\"margin\":[0,0,25,0],\"name\":\"Alert00311\",\"sizing_mode\":\"stretch_width\",\"text\":\"&lt;p&gt;Sort sam file with samtools sort on progress for AA&amp;hellip;&lt;/p&gt;\"},\"id\":\"1111\",\"type\":\"panel.models.markup.HTML\"}],\"root_ids\":[\"1111\",\"1112\"]},\"title\":\"Bokeh Application\",\"version\":\"2.3.3\"}};\n",
       "    var render_items = [{\"docid\":\"fe2beeb6-ff96-4fe8-bace-17c633240844\",\"root_ids\":[\"1111\"],\"roots\":{\"1111\":\"b3b3e0ab-a7ec-499d-b8a0-ec7f81b177bf\"}}];\n",
       "    root.Bokeh.embed.embed_items_notebook(docs_json, render_items);\n",
       "  }\n",
       "  if (root.Bokeh !== undefined && root.Bokeh.Panel !== undefined) {\n",
       "    embed_document(root);\n",
       "  } else {\n",
       "    var attempts = 0;\n",
       "    var timer = setInterval(function(root) {\n",
       "      if (root.Bokeh !== undefined && root.Bokeh.Panel !== undefined) {\n",
       "        clearInterval(timer);\n",
       "        embed_document(root);\n",
       "      } else if (document.readyState == \"complete\") {\n",
       "        attempts++;\n",
       "        if (attempts > 100) {\n",
       "          clearInterval(timer);\n",
       "          console.log(\"Bokeh: ERROR: Unable to run BokehJS code because BokehJS library is missing\");\n",
       "        }\n",
       "      }\n",
       "    }, 10, root)\n",
       "  }\n",
       "})(window);</script>"
      ],
      "text/plain": [
       "Alert(str, alert_type='secondary', css_classes=['alert', 'alert-secondary...], margin=(0, 0, 25, 0), sizing_mode='stretch_width')"
      ]
     },
     "metadata": {
      "application/vnd.holoviews_exec.v0+json": {
       "id": "1111"
      }
     },
     "output_type": "display_data"
    },
    {
     "data": {},
     "metadata": {},
     "output_type": "display_data"
    },
    {
     "data": {
      "application/vnd.holoviews_exec.v0+json": "",
      "text/html": [
       "<div id='1113'>\n",
       "\n",
       "\n",
       "\n",
       "\n",
       "\n",
       "  <div class=\"bk-root\" id=\"2514f294-a511-440c-b7bf-6155a6f5e99f\" data-root-id=\"1113\"></div>\n",
       "</div>\n",
       "<script type=\"application/javascript\">(function(root) {\n",
       "  function embed_document(root) {\n",
       "    var docs_json = {\"b4f6eaac-629d-4986-90ff-8801cad28973\":{\"defs\":[],\"roots\":{\"references\":[{\"attributes\":{\"client_comm_id\":\"9f7eebfaef9e4135a53213e3c0b11669\",\"comm_id\":\"8060e860f434466e904c1a6d5ee8e968\",\"plot_id\":\"1113\"},\"id\":\"1114\",\"type\":\"panel.models.comm_manager.CommManager\"},{\"attributes\":{\"css_classes\":[\"alert\",\"alert-success\",\"markdown\"],\"margin\":[0,0,25,0],\"name\":\"Alert00315\",\"sizing_mode\":\"stretch_width\",\"text\":\"&lt;p&gt;Sort Sam file into bam successfully done (/home/christine/Documents/These/Book/yapluka/PANTOUM/frangiPANe_rice3//01-mapping_against_reference/AA.bam)&lt;/p&gt;\"},\"id\":\"1113\",\"type\":\"panel.models.markup.HTML\"}],\"root_ids\":[\"1113\",\"1114\"]},\"title\":\"Bokeh Application\",\"version\":\"2.3.3\"}};\n",
       "    var render_items = [{\"docid\":\"b4f6eaac-629d-4986-90ff-8801cad28973\",\"root_ids\":[\"1113\"],\"roots\":{\"1113\":\"2514f294-a511-440c-b7bf-6155a6f5e99f\"}}];\n",
       "    root.Bokeh.embed.embed_items_notebook(docs_json, render_items);\n",
       "  }\n",
       "  if (root.Bokeh !== undefined && root.Bokeh.Panel !== undefined) {\n",
       "    embed_document(root);\n",
       "  } else {\n",
       "    var attempts = 0;\n",
       "    var timer = setInterval(function(root) {\n",
       "      if (root.Bokeh !== undefined && root.Bokeh.Panel !== undefined) {\n",
       "        clearInterval(timer);\n",
       "        embed_document(root);\n",
       "      } else if (document.readyState == \"complete\") {\n",
       "        attempts++;\n",
       "        if (attempts > 100) {\n",
       "          clearInterval(timer);\n",
       "          console.log(\"Bokeh: ERROR: Unable to run BokehJS code because BokehJS library is missing\");\n",
       "        }\n",
       "      }\n",
       "    }, 10, root)\n",
       "  }\n",
       "})(window);</script>"
      ],
      "text/plain": [
       "Alert(str, alert_type='success', css_classes=['alert', 'alert-success']...], margin=(0, 0, 25, 0), sizing_mode='stretch_width')"
      ]
     },
     "metadata": {
      "application/vnd.holoviews_exec.v0+json": {
       "id": "1113"
      }
     },
     "output_type": "display_data"
    },
    {
     "data": {},
     "metadata": {},
     "output_type": "display_data"
    },
    {
     "data": {
      "application/vnd.holoviews_exec.v0+json": "",
      "text/html": [
       "<div id='1115'>\n",
       "\n",
       "\n",
       "\n",
       "\n",
       "\n",
       "  <div class=\"bk-root\" id=\"33c1fe56-59f1-45f2-ac67-71d23f6a4eb7\" data-root-id=\"1115\"></div>\n",
       "</div>\n",
       "<script type=\"application/javascript\">(function(root) {\n",
       "  function embed_document(root) {\n",
       "    var docs_json = {\"ebd028e2-4de6-4114-9c79-f766156ed114\":{\"defs\":[],\"roots\":{\"references\":[{\"attributes\":{\"css_classes\":[\"alert\",\"alert-secondary\",\"markdown\"],\"margin\":[0,0,25,0],\"name\":\"Alert00319\",\"sizing_mode\":\"stretch_width\",\"text\":\"&lt;p&gt;Mapping with bwa mem on progress for DT&amp;hellip;&lt;/p&gt;\"},\"id\":\"1115\",\"type\":\"panel.models.markup.HTML\"},{\"attributes\":{\"client_comm_id\":\"300aae871ace4eb1a5988b4d0e83f692\",\"comm_id\":\"91c7bd98b6ea4215a86a7156c71f02f9\",\"plot_id\":\"1115\"},\"id\":\"1116\",\"type\":\"panel.models.comm_manager.CommManager\"}],\"root_ids\":[\"1115\",\"1116\"]},\"title\":\"Bokeh Application\",\"version\":\"2.3.3\"}};\n",
       "    var render_items = [{\"docid\":\"ebd028e2-4de6-4114-9c79-f766156ed114\",\"root_ids\":[\"1115\"],\"roots\":{\"1115\":\"33c1fe56-59f1-45f2-ac67-71d23f6a4eb7\"}}];\n",
       "    root.Bokeh.embed.embed_items_notebook(docs_json, render_items);\n",
       "  }\n",
       "  if (root.Bokeh !== undefined && root.Bokeh.Panel !== undefined) {\n",
       "    embed_document(root);\n",
       "  } else {\n",
       "    var attempts = 0;\n",
       "    var timer = setInterval(function(root) {\n",
       "      if (root.Bokeh !== undefined && root.Bokeh.Panel !== undefined) {\n",
       "        clearInterval(timer);\n",
       "        embed_document(root);\n",
       "      } else if (document.readyState == \"complete\") {\n",
       "        attempts++;\n",
       "        if (attempts > 100) {\n",
       "          clearInterval(timer);\n",
       "          console.log(\"Bokeh: ERROR: Unable to run BokehJS code because BokehJS library is missing\");\n",
       "        }\n",
       "      }\n",
       "    }, 10, root)\n",
       "  }\n",
       "})(window);</script>"
      ],
      "text/plain": [
       "Alert(str, alert_type='secondary', css_classes=['alert', 'alert-secondary...], margin=(0, 0, 25, 0), sizing_mode='stretch_width')"
      ]
     },
     "metadata": {
      "application/vnd.holoviews_exec.v0+json": {
       "id": "1115"
      }
     },
     "output_type": "display_data"
    },
    {
     "data": {},
     "metadata": {},
     "output_type": "display_data"
    },
    {
     "data": {
      "application/vnd.holoviews_exec.v0+json": "",
      "text/html": [
       "<div id='1117'>\n",
       "\n",
       "\n",
       "\n",
       "\n",
       "\n",
       "  <div class=\"bk-root\" id=\"b00a25cb-3e61-4eae-860c-5a6bae3e62c2\" data-root-id=\"1117\"></div>\n",
       "</div>\n",
       "<script type=\"application/javascript\">(function(root) {\n",
       "  function embed_document(root) {\n",
       "    var docs_json = {\"21f786a4-7e4d-4227-a11c-07cf25e55e33\":{\"defs\":[],\"roots\":{\"references\":[{\"attributes\":{\"client_comm_id\":\"ed3b35ab365647b381a33200f383d993\",\"comm_id\":\"ac38c5b8b2654fd7bf4bee9dd30e4b8b\",\"plot_id\":\"1117\"},\"id\":\"1118\",\"type\":\"panel.models.comm_manager.CommManager\"},{\"attributes\":{\"css_classes\":[\"alert\",\"alert-success\",\"markdown\"],\"margin\":[0,0,25,0],\"name\":\"Alert00323\",\"sizing_mode\":\"stretch_width\",\"text\":\"&lt;p&gt;bwa mem executed successfully (/home/christine/Documents/These/Book/yapluka/PANTOUM/frangiPANe_rice3//01-mapping_against_reference/DT.sam)&lt;/p&gt;\"},\"id\":\"1117\",\"type\":\"panel.models.markup.HTML\"}],\"root_ids\":[\"1117\",\"1118\"]},\"title\":\"Bokeh Application\",\"version\":\"2.3.3\"}};\n",
       "    var render_items = [{\"docid\":\"21f786a4-7e4d-4227-a11c-07cf25e55e33\",\"root_ids\":[\"1117\"],\"roots\":{\"1117\":\"b00a25cb-3e61-4eae-860c-5a6bae3e62c2\"}}];\n",
       "    root.Bokeh.embed.embed_items_notebook(docs_json, render_items);\n",
       "  }\n",
       "  if (root.Bokeh !== undefined && root.Bokeh.Panel !== undefined) {\n",
       "    embed_document(root);\n",
       "  } else {\n",
       "    var attempts = 0;\n",
       "    var timer = setInterval(function(root) {\n",
       "      if (root.Bokeh !== undefined && root.Bokeh.Panel !== undefined) {\n",
       "        clearInterval(timer);\n",
       "        embed_document(root);\n",
       "      } else if (document.readyState == \"complete\") {\n",
       "        attempts++;\n",
       "        if (attempts > 100) {\n",
       "          clearInterval(timer);\n",
       "          console.log(\"Bokeh: ERROR: Unable to run BokehJS code because BokehJS library is missing\");\n",
       "        }\n",
       "      }\n",
       "    }, 10, root)\n",
       "  }\n",
       "})(window);</script>"
      ],
      "text/plain": [
       "Alert(str, alert_type='success', css_classes=['alert', 'alert-success']...], margin=(0, 0, 25, 0), sizing_mode='stretch_width')"
      ]
     },
     "metadata": {
      "application/vnd.holoviews_exec.v0+json": {
       "id": "1117"
      }
     },
     "output_type": "display_data"
    },
    {
     "data": {},
     "metadata": {},
     "output_type": "display_data"
    },
    {
     "data": {
      "application/vnd.holoviews_exec.v0+json": "",
      "text/html": [
       "<div id='1119'>\n",
       "\n",
       "\n",
       "\n",
       "\n",
       "\n",
       "  <div class=\"bk-root\" id=\"8cdfe5ed-0d02-4552-b311-4d79219b01ce\" data-root-id=\"1119\"></div>\n",
       "</div>\n",
       "<script type=\"application/javascript\">(function(root) {\n",
       "  function embed_document(root) {\n",
       "    var docs_json = {\"c10f4ef6-6c82-47e4-bfc5-893ed679cf3c\":{\"defs\":[],\"roots\":{\"references\":[{\"attributes\":{\"client_comm_id\":\"cd560df6aef74779b14e2e628cb4bb05\",\"comm_id\":\"e0fadff3fd074faf81edbd589febdff1\",\"plot_id\":\"1119\"},\"id\":\"1120\",\"type\":\"panel.models.comm_manager.CommManager\"},{\"attributes\":{\"css_classes\":[\"alert\",\"alert-secondary\",\"markdown\"],\"margin\":[0,0,25,0],\"name\":\"Alert00327\",\"sizing_mode\":\"stretch_width\",\"text\":\"&lt;p&gt;Sort sam file with samtools sort on progress for DT&amp;hellip;&lt;/p&gt;\"},\"id\":\"1119\",\"type\":\"panel.models.markup.HTML\"}],\"root_ids\":[\"1119\",\"1120\"]},\"title\":\"Bokeh Application\",\"version\":\"2.3.3\"}};\n",
       "    var render_items = [{\"docid\":\"c10f4ef6-6c82-47e4-bfc5-893ed679cf3c\",\"root_ids\":[\"1119\"],\"roots\":{\"1119\":\"8cdfe5ed-0d02-4552-b311-4d79219b01ce\"}}];\n",
       "    root.Bokeh.embed.embed_items_notebook(docs_json, render_items);\n",
       "  }\n",
       "  if (root.Bokeh !== undefined && root.Bokeh.Panel !== undefined) {\n",
       "    embed_document(root);\n",
       "  } else {\n",
       "    var attempts = 0;\n",
       "    var timer = setInterval(function(root) {\n",
       "      if (root.Bokeh !== undefined && root.Bokeh.Panel !== undefined) {\n",
       "        clearInterval(timer);\n",
       "        embed_document(root);\n",
       "      } else if (document.readyState == \"complete\") {\n",
       "        attempts++;\n",
       "        if (attempts > 100) {\n",
       "          clearInterval(timer);\n",
       "          console.log(\"Bokeh: ERROR: Unable to run BokehJS code because BokehJS library is missing\");\n",
       "        }\n",
       "      }\n",
       "    }, 10, root)\n",
       "  }\n",
       "})(window);</script>"
      ],
      "text/plain": [
       "Alert(str, alert_type='secondary', css_classes=['alert', 'alert-secondary...], margin=(0, 0, 25, 0), sizing_mode='stretch_width')"
      ]
     },
     "metadata": {
      "application/vnd.holoviews_exec.v0+json": {
       "id": "1119"
      }
     },
     "output_type": "display_data"
    },
    {
     "data": {},
     "metadata": {},
     "output_type": "display_data"
    },
    {
     "data": {
      "application/vnd.holoviews_exec.v0+json": "",
      "text/html": [
       "<div id='1121'>\n",
       "\n",
       "\n",
       "\n",
       "\n",
       "\n",
       "  <div class=\"bk-root\" id=\"a5bbd488-fd52-4f92-84ff-2cd175bcd21c\" data-root-id=\"1121\"></div>\n",
       "</div>\n",
       "<script type=\"application/javascript\">(function(root) {\n",
       "  function embed_document(root) {\n",
       "    var docs_json = {\"88ce4b7c-22bc-4d48-a070-782374359bc1\":{\"defs\":[],\"roots\":{\"references\":[{\"attributes\":{\"css_classes\":[\"alert\",\"alert-danger\",\"markdown\"],\"margin\":[0,0,25,0],\"name\":\"Alert00331\",\"sizing_mode\":\"stretch_width\",\"text\":\"&lt;p&gt;Failed execution (/home/christine/Documents/These/Book/yapluka/PANTOUM/frangiPANe_rice3//01-mapping_against_reference/DT.sam).... see log file, resolve the problem and try again&lt;/p&gt;\"},\"id\":\"1121\",\"type\":\"panel.models.markup.HTML\"},{\"attributes\":{\"client_comm_id\":\"10af5e442e524fc583e196861ae12a64\",\"comm_id\":\"4f093ede6ba641159ad0601f9da8919e\",\"plot_id\":\"1121\"},\"id\":\"1122\",\"type\":\"panel.models.comm_manager.CommManager\"}],\"root_ids\":[\"1121\",\"1122\"]},\"title\":\"Bokeh Application\",\"version\":\"2.3.3\"}};\n",
       "    var render_items = [{\"docid\":\"88ce4b7c-22bc-4d48-a070-782374359bc1\",\"root_ids\":[\"1121\"],\"roots\":{\"1121\":\"a5bbd488-fd52-4f92-84ff-2cd175bcd21c\"}}];\n",
       "    root.Bokeh.embed.embed_items_notebook(docs_json, render_items);\n",
       "  }\n",
       "  if (root.Bokeh !== undefined && root.Bokeh.Panel !== undefined) {\n",
       "    embed_document(root);\n",
       "  } else {\n",
       "    var attempts = 0;\n",
       "    var timer = setInterval(function(root) {\n",
       "      if (root.Bokeh !== undefined && root.Bokeh.Panel !== undefined) {\n",
       "        clearInterval(timer);\n",
       "        embed_document(root);\n",
       "      } else if (document.readyState == \"complete\") {\n",
       "        attempts++;\n",
       "        if (attempts > 100) {\n",
       "          clearInterval(timer);\n",
       "          console.log(\"Bokeh: ERROR: Unable to run BokehJS code because BokehJS library is missing\");\n",
       "        }\n",
       "      }\n",
       "    }, 10, root)\n",
       "  }\n",
       "})(window);</script>"
      ],
      "text/plain": [
       "Alert(str, alert_type='danger', css_classes=['alert', 'alert-danger'], margin=(0, 0, 25, 0), sizing_mode='stretch_width')"
      ]
     },
     "metadata": {
      "application/vnd.holoviews_exec.v0+json": {
       "id": "1121"
      }
     },
     "output_type": "display_data"
    },
    {
     "data": {},
     "metadata": {},
     "output_type": "display_data"
    },
    {
     "data": {
      "application/vnd.holoviews_exec.v0+json": "",
      "text/html": [
       "<div id='1123'>\n",
       "\n",
       "\n",
       "\n",
       "\n",
       "\n",
       "  <div class=\"bk-root\" id=\"6d2d3a3d-b115-4ff6-862f-979d527d8b25\" data-root-id=\"1123\"></div>\n",
       "</div>\n",
       "<script type=\"application/javascript\">(function(root) {\n",
       "  function embed_document(root) {\n",
       "    var docs_json = {\"8657fbc0-78af-427e-aba3-15b380701631\":{\"defs\":[],\"roots\":{\"references\":[{\"attributes\":{\"css_classes\":[\"alert\",\"alert-success\",\"markdown\"],\"margin\":[0,0,25,0],\"name\":\"Alert00335\",\"sizing_mode\":\"stretch_width\",\"text\":\"&lt;h3&gt;Mapping step done with bwa mem and samtools sort&lt;/h3&gt;\\n&lt;hr&gt;\\n\\n&lt;ul&gt;\\n&lt;li&gt;FASTQ DIR : /home/christine/Documents/These/Book/yapluka/PANTOUM/frangiPANe_data_test/rice&lt;/li&gt;\\n&lt;li&gt;BAM DIR : /home/christine/Documents/These/Book/yapluka/PANTOUM/frangiPANe_rice3//01-mapping_against_reference/&lt;/li&gt;\\n&lt;/ul&gt;\"},\"id\":\"1123\",\"type\":\"panel.models.markup.HTML\"},{\"attributes\":{\"client_comm_id\":\"b389cb440fbf45faa51af8c2b03bdb10\",\"comm_id\":\"d21496b94593484d9be1cb1acf264e20\",\"plot_id\":\"1123\"},\"id\":\"1124\",\"type\":\"panel.models.comm_manager.CommManager\"}],\"root_ids\":[\"1123\",\"1124\"]},\"title\":\"Bokeh Application\",\"version\":\"2.3.3\"}};\n",
       "    var render_items = [{\"docid\":\"8657fbc0-78af-427e-aba3-15b380701631\",\"root_ids\":[\"1123\"],\"roots\":{\"1123\":\"6d2d3a3d-b115-4ff6-862f-979d527d8b25\"}}];\n",
       "    root.Bokeh.embed.embed_items_notebook(docs_json, render_items);\n",
       "  }\n",
       "  if (root.Bokeh !== undefined && root.Bokeh.Panel !== undefined) {\n",
       "    embed_document(root);\n",
       "  } else {\n",
       "    var attempts = 0;\n",
       "    var timer = setInterval(function(root) {\n",
       "      if (root.Bokeh !== undefined && root.Bokeh.Panel !== undefined) {\n",
       "        clearInterval(timer);\n",
       "        embed_document(root);\n",
       "      } else if (document.readyState == \"complete\") {\n",
       "        attempts++;\n",
       "        if (attempts > 100) {\n",
       "          clearInterval(timer);\n",
       "          console.log(\"Bokeh: ERROR: Unable to run BokehJS code because BokehJS library is missing\");\n",
       "        }\n",
       "      }\n",
       "    }, 10, root)\n",
       "  }\n",
       "})(window);</script>"
      ],
      "text/plain": [
       "Alert(str, alert_type='success', css_classes=['alert', 'alert-success']...], margin=(0, 0, 25, 0), sizing_mode='stretch_width')"
      ]
     },
     "metadata": {
      "application/vnd.holoviews_exec.v0+json": {
       "id": "1123"
      }
     },
     "output_type": "display_data"
    }
   ],
   "source": [
    "fastq2bam_dir(reference_genome, fastq_dir, df_group, cpu, output_mapping_dir, logger)"
   ]
  },
  {
   "cell_type": "markdown",
   "metadata": {},
   "source": [
    "#### __Generating mapping stats <a class=\"anchor\" id=\"mappingstat\">__\n",
    "    \n",
    "Statistics are generated by `samtools flagstat` and they are saved into the directory _01_mapping-against_reference_ and the subdirectory _stat_"
   ]
  },
  {
   "cell_type": "code",
   "execution_count": 22,
   "metadata": {},
   "outputs": [
    {
     "data": {},
     "metadata": {},
     "output_type": "display_data"
    },
    {
     "data": {
      "application/vnd.holoviews_exec.v0+json": "",
      "text/html": [
       "<div id='1125'>\n",
       "\n",
       "\n",
       "\n",
       "\n",
       "\n",
       "  <div class=\"bk-root\" id=\"c998757b-cde4-4431-b23f-31d4eec53e25\" data-root-id=\"1125\"></div>\n",
       "</div>\n",
       "<script type=\"application/javascript\">(function(root) {\n",
       "  function embed_document(root) {\n",
       "    var docs_json = {\"3673dce6-cc78-46be-84f6-811e359ea0c5\":{\"defs\":[],\"roots\":{\"references\":[{\"attributes\":{\"css_classes\":[\"alert\",\"alert-success\",\"markdown\"],\"margin\":[0,0,25,0],\"name\":\"Alert00339\",\"sizing_mode\":\"stretch_width\",\"text\":\"&lt;p&gt;Directory /home/christine/Documents/These/Book/yapluka/PANTOUM/frangiPANe_rice3//01-mapping_against_reference//stat/ created&lt;/p&gt;\"},\"id\":\"1125\",\"type\":\"panel.models.markup.HTML\"},{\"attributes\":{\"client_comm_id\":\"cd38c8202821413cb134cd1fcf50ed4f\",\"comm_id\":\"45431a22eafe424886e44194148832c5\",\"plot_id\":\"1125\"},\"id\":\"1126\",\"type\":\"panel.models.comm_manager.CommManager\"}],\"root_ids\":[\"1125\",\"1126\"]},\"title\":\"Bokeh Application\",\"version\":\"2.3.3\"}};\n",
       "    var render_items = [{\"docid\":\"3673dce6-cc78-46be-84f6-811e359ea0c5\",\"root_ids\":[\"1125\"],\"roots\":{\"1125\":\"c998757b-cde4-4431-b23f-31d4eec53e25\"}}];\n",
       "    root.Bokeh.embed.embed_items_notebook(docs_json, render_items);\n",
       "  }\n",
       "  if (root.Bokeh !== undefined && root.Bokeh.Panel !== undefined) {\n",
       "    embed_document(root);\n",
       "  } else {\n",
       "    var attempts = 0;\n",
       "    var timer = setInterval(function(root) {\n",
       "      if (root.Bokeh !== undefined && root.Bokeh.Panel !== undefined) {\n",
       "        clearInterval(timer);\n",
       "        embed_document(root);\n",
       "      } else if (document.readyState == \"complete\") {\n",
       "        attempts++;\n",
       "        if (attempts > 100) {\n",
       "          clearInterval(timer);\n",
       "          console.log(\"Bokeh: ERROR: Unable to run BokehJS code because BokehJS library is missing\");\n",
       "        }\n",
       "      }\n",
       "    }, 10, root)\n",
       "  }\n",
       "})(window);</script>"
      ],
      "text/plain": [
       "Alert(str, alert_type='success', css_classes=['alert', 'alert-success']...], margin=(0, 0, 25, 0), sizing_mode='stretch_width')"
      ]
     },
     "metadata": {
      "application/vnd.holoviews_exec.v0+json": {
       "id": "1125"
      }
     },
     "output_type": "display_data"
    }
   ],
   "source": [
    "stat_dir = output_mapping_dir + \"/stat/\"\n",
    "make_dir(stat_dir)"
   ]
  },
  {
   "cell_type": "code",
   "execution_count": 23,
   "metadata": {},
   "outputs": [
    {
     "data": {},
     "metadata": {},
     "output_type": "display_data"
    },
    {
     "data": {
      "application/vnd.holoviews_exec.v0+json": "",
      "text/html": [
       "<div id='1127'>\n",
       "\n",
       "\n",
       "\n",
       "\n",
       "\n",
       "  <div class=\"bk-root\" id=\"8b46be8c-7b9e-4237-af41-0b523d1092da\" data-root-id=\"1127\"></div>\n",
       "</div>\n",
       "<script type=\"application/javascript\">(function(root) {\n",
       "  function embed_document(root) {\n",
       "    var docs_json = {\"e59cb804-c601-4194-9709-e2d953854a99\":{\"defs\":[],\"roots\":{\"references\":[{\"attributes\":{\"client_comm_id\":\"7245027fdc434c2cb9f72320f83e3b6b\",\"comm_id\":\"40fd0534d08d4b40817019955dab3822\",\"plot_id\":\"1127\"},\"id\":\"1128\",\"type\":\"panel.models.comm_manager.CommManager\"},{\"attributes\":{\"css_classes\":[\"alert\",\"alert-secondary\",\"markdown\"],\"margin\":[0,0,25,0],\"name\":\"Alert00343\",\"sizing_mode\":\"stretch_width\",\"text\":\"&lt;p&gt;Generating mapping stat (with samtools flagstat) for AA.bam&amp;hellip;&lt;/p&gt;\"},\"id\":\"1127\",\"type\":\"panel.models.markup.HTML\"}],\"root_ids\":[\"1127\",\"1128\"]},\"title\":\"Bokeh Application\",\"version\":\"2.3.3\"}};\n",
       "    var render_items = [{\"docid\":\"e59cb804-c601-4194-9709-e2d953854a99\",\"root_ids\":[\"1127\"],\"roots\":{\"1127\":\"8b46be8c-7b9e-4237-af41-0b523d1092da\"}}];\n",
       "    root.Bokeh.embed.embed_items_notebook(docs_json, render_items);\n",
       "  }\n",
       "  if (root.Bokeh !== undefined && root.Bokeh.Panel !== undefined) {\n",
       "    embed_document(root);\n",
       "  } else {\n",
       "    var attempts = 0;\n",
       "    var timer = setInterval(function(root) {\n",
       "      if (root.Bokeh !== undefined && root.Bokeh.Panel !== undefined) {\n",
       "        clearInterval(timer);\n",
       "        embed_document(root);\n",
       "      } else if (document.readyState == \"complete\") {\n",
       "        attempts++;\n",
       "        if (attempts > 100) {\n",
       "          clearInterval(timer);\n",
       "          console.log(\"Bokeh: ERROR: Unable to run BokehJS code because BokehJS library is missing\");\n",
       "        }\n",
       "      }\n",
       "    }, 10, root)\n",
       "  }\n",
       "})(window);</script>"
      ],
      "text/plain": [
       "Alert(str, alert_type='secondary', css_classes=['alert', 'alert-secondary...], margin=(0, 0, 25, 0), sizing_mode='stretch_width')"
      ]
     },
     "metadata": {
      "application/vnd.holoviews_exec.v0+json": {
       "id": "1127"
      }
     },
     "output_type": "display_data"
    },
    {
     "data": {},
     "metadata": {},
     "output_type": "display_data"
    },
    {
     "data": {
      "application/vnd.holoviews_exec.v0+json": "",
      "text/html": [
       "<div id='1129'>\n",
       "\n",
       "\n",
       "\n",
       "\n",
       "\n",
       "  <div class=\"bk-root\" id=\"d33c1f4f-72cf-4baa-8a3d-5231a84d03c7\" data-root-id=\"1129\"></div>\n",
       "</div>\n",
       "<script type=\"application/javascript\">(function(root) {\n",
       "  function embed_document(root) {\n",
       "    var docs_json = {\"b3e8e87d-1731-4c43-a553-d467a3a9fe11\":{\"defs\":[],\"roots\":{\"references\":[{\"attributes\":{\"client_comm_id\":\"58b343eed00a4d298ae1ad445dcc38e0\",\"comm_id\":\"e34d62ac6d3d4c5290a7020eb1282831\",\"plot_id\":\"1129\"},\"id\":\"1130\",\"type\":\"panel.models.comm_manager.CommManager\"},{\"attributes\":{\"css_classes\":[\"alert\",\"alert-success\",\"markdown\"],\"margin\":[0,0,25,0],\"name\":\"Alert00347\",\"sizing_mode\":\"stretch_width\",\"text\":\"&lt;p&gt;samtools flagstat executed successfully (AA.bam.samtoolsFlagstat)&lt;/p&gt;\"},\"id\":\"1129\",\"type\":\"panel.models.markup.HTML\"}],\"root_ids\":[\"1129\",\"1130\"]},\"title\":\"Bokeh Application\",\"version\":\"2.3.3\"}};\n",
       "    var render_items = [{\"docid\":\"b3e8e87d-1731-4c43-a553-d467a3a9fe11\",\"root_ids\":[\"1129\"],\"roots\":{\"1129\":\"d33c1f4f-72cf-4baa-8a3d-5231a84d03c7\"}}];\n",
       "    root.Bokeh.embed.embed_items_notebook(docs_json, render_items);\n",
       "  }\n",
       "  if (root.Bokeh !== undefined && root.Bokeh.Panel !== undefined) {\n",
       "    embed_document(root);\n",
       "  } else {\n",
       "    var attempts = 0;\n",
       "    var timer = setInterval(function(root) {\n",
       "      if (root.Bokeh !== undefined && root.Bokeh.Panel !== undefined) {\n",
       "        clearInterval(timer);\n",
       "        embed_document(root);\n",
       "      } else if (document.readyState == \"complete\") {\n",
       "        attempts++;\n",
       "        if (attempts > 100) {\n",
       "          clearInterval(timer);\n",
       "          console.log(\"Bokeh: ERROR: Unable to run BokehJS code because BokehJS library is missing\");\n",
       "        }\n",
       "      }\n",
       "    }, 10, root)\n",
       "  }\n",
       "})(window);</script>"
      ],
      "text/plain": [
       "Alert(str, alert_type='success', css_classes=['alert', 'alert-success']...], margin=(0, 0, 25, 0), sizing_mode='stretch_width')"
      ]
     },
     "metadata": {
      "application/vnd.holoviews_exec.v0+json": {
       "id": "1129"
      }
     },
     "output_type": "display_data"
    },
    {
     "data": {},
     "metadata": {},
     "output_type": "display_data"
    },
    {
     "data": {
      "application/vnd.holoviews_exec.v0+json": "",
      "text/html": [
       "<div id='1131'>\n",
       "\n",
       "\n",
       "\n",
       "\n",
       "\n",
       "  <div class=\"bk-root\" id=\"23242ed6-caa1-4d34-bf50-144c2e3efe1e\" data-root-id=\"1131\"></div>\n",
       "</div>\n",
       "<script type=\"application/javascript\">(function(root) {\n",
       "  function embed_document(root) {\n",
       "    var docs_json = {\"5715d3e3-61d8-4299-8372-5d7835a7a6ff\":{\"defs\":[],\"roots\":{\"references\":[{\"attributes\":{\"css_classes\":[\"alert\",\"alert-secondary\",\"markdown\"],\"margin\":[0,0,25,0],\"name\":\"Alert00351\",\"sizing_mode\":\"stretch_width\",\"text\":\"&lt;p&gt;Generating mapping stat (with samtools flagstat) for DT.bam&amp;hellip;&lt;/p&gt;\"},\"id\":\"1131\",\"type\":\"panel.models.markup.HTML\"},{\"attributes\":{\"client_comm_id\":\"a3a0130d6333491ab3c33ffb04bd4143\",\"comm_id\":\"f902bab298c649cb97d81d43d1d44a43\",\"plot_id\":\"1131\"},\"id\":\"1132\",\"type\":\"panel.models.comm_manager.CommManager\"}],\"root_ids\":[\"1131\",\"1132\"]},\"title\":\"Bokeh Application\",\"version\":\"2.3.3\"}};\n",
       "    var render_items = [{\"docid\":\"5715d3e3-61d8-4299-8372-5d7835a7a6ff\",\"root_ids\":[\"1131\"],\"roots\":{\"1131\":\"23242ed6-caa1-4d34-bf50-144c2e3efe1e\"}}];\n",
       "    root.Bokeh.embed.embed_items_notebook(docs_json, render_items);\n",
       "  }\n",
       "  if (root.Bokeh !== undefined && root.Bokeh.Panel !== undefined) {\n",
       "    embed_document(root);\n",
       "  } else {\n",
       "    var attempts = 0;\n",
       "    var timer = setInterval(function(root) {\n",
       "      if (root.Bokeh !== undefined && root.Bokeh.Panel !== undefined) {\n",
       "        clearInterval(timer);\n",
       "        embed_document(root);\n",
       "      } else if (document.readyState == \"complete\") {\n",
       "        attempts++;\n",
       "        if (attempts > 100) {\n",
       "          clearInterval(timer);\n",
       "          console.log(\"Bokeh: ERROR: Unable to run BokehJS code because BokehJS library is missing\");\n",
       "        }\n",
       "      }\n",
       "    }, 10, root)\n",
       "  }\n",
       "})(window);</script>"
      ],
      "text/plain": [
       "Alert(str, alert_type='secondary', css_classes=['alert', 'alert-secondary...], margin=(0, 0, 25, 0), sizing_mode='stretch_width')"
      ]
     },
     "metadata": {
      "application/vnd.holoviews_exec.v0+json": {
       "id": "1131"
      }
     },
     "output_type": "display_data"
    },
    {
     "data": {},
     "metadata": {},
     "output_type": "display_data"
    },
    {
     "data": {
      "application/vnd.holoviews_exec.v0+json": "",
      "text/html": [
       "<div id='1133'>\n",
       "\n",
       "\n",
       "\n",
       "\n",
       "\n",
       "  <div class=\"bk-root\" id=\"ca747557-3c1b-4559-8aae-c4e3f587a87a\" data-root-id=\"1133\"></div>\n",
       "</div>\n",
       "<script type=\"application/javascript\">(function(root) {\n",
       "  function embed_document(root) {\n",
       "    var docs_json = {\"745d9ad6-3b9b-4a5f-929c-df7b960c14d1\":{\"defs\":[],\"roots\":{\"references\":[{\"attributes\":{\"css_classes\":[\"alert\",\"alert-success\",\"markdown\"],\"margin\":[0,0,25,0],\"name\":\"Alert00355\",\"sizing_mode\":\"stretch_width\",\"text\":\"&lt;p&gt;samtools flagstat executed successfully (DT.bam.samtoolsFlagstat)&lt;/p&gt;\"},\"id\":\"1133\",\"type\":\"panel.models.markup.HTML\"},{\"attributes\":{\"client_comm_id\":\"da3cb0c368284a219b44fb97a0d4a810\",\"comm_id\":\"e3251eaac60444cca593ce7f1c9f90b5\",\"plot_id\":\"1133\"},\"id\":\"1134\",\"type\":\"panel.models.comm_manager.CommManager\"}],\"root_ids\":[\"1133\",\"1134\"]},\"title\":\"Bokeh Application\",\"version\":\"2.3.3\"}};\n",
       "    var render_items = [{\"docid\":\"745d9ad6-3b9b-4a5f-929c-df7b960c14d1\",\"root_ids\":[\"1133\"],\"roots\":{\"1133\":\"ca747557-3c1b-4559-8aae-c4e3f587a87a\"}}];\n",
       "    root.Bokeh.embed.embed_items_notebook(docs_json, render_items);\n",
       "  }\n",
       "  if (root.Bokeh !== undefined && root.Bokeh.Panel !== undefined) {\n",
       "    embed_document(root);\n",
       "  } else {\n",
       "    var attempts = 0;\n",
       "    var timer = setInterval(function(root) {\n",
       "      if (root.Bokeh !== undefined && root.Bokeh.Panel !== undefined) {\n",
       "        clearInterval(timer);\n",
       "        embed_document(root);\n",
       "      } else if (document.readyState == \"complete\") {\n",
       "        attempts++;\n",
       "        if (attempts > 100) {\n",
       "          clearInterval(timer);\n",
       "          console.log(\"Bokeh: ERROR: Unable to run BokehJS code because BokehJS library is missing\");\n",
       "        }\n",
       "      }\n",
       "    }, 10, root)\n",
       "  }\n",
       "})(window);</script>"
      ],
      "text/plain": [
       "Alert(str, alert_type='success', css_classes=['alert', 'alert-success']...], margin=(0, 0, 25, 0), sizing_mode='stretch_width')"
      ]
     },
     "metadata": {
      "application/vnd.holoviews_exec.v0+json": {
       "id": "1133"
      }
     },
     "output_type": "display_data"
    },
    {
     "data": {},
     "metadata": {},
     "output_type": "display_data"
    },
    {
     "data": {
      "application/vnd.holoviews_exec.v0+json": "",
      "text/html": [
       "<div id='1135'>\n",
       "\n",
       "\n",
       "\n",
       "\n",
       "\n",
       "  <div class=\"bk-root\" id=\"588219b2-22c3-4e3c-ae38-911f3fb10d5f\" data-root-id=\"1135\"></div>\n",
       "</div>\n",
       "<script type=\"application/javascript\">(function(root) {\n",
       "  function embed_document(root) {\n",
       "    var docs_json = {\"5aa0728d-599a-4bec-b193-e304392bfbf8\":{\"defs\":[],\"roots\":{\"references\":[{\"attributes\":{\"css_classes\":[\"alert\",\"alert-secondary\",\"markdown\"],\"margin\":[0,0,25,0],\"name\":\"Alert00359\",\"sizing_mode\":\"stretch_width\",\"text\":\"&lt;p&gt;Generating mapping stat (with samtools flagstat) for AB.bam&amp;hellip;&lt;/p&gt;\"},\"id\":\"1135\",\"type\":\"panel.models.markup.HTML\"},{\"attributes\":{\"client_comm_id\":\"a05fddb96a9f463f8e435f4159caa40e\",\"comm_id\":\"2eafe4b848cb4f4199f8fb45409210f7\",\"plot_id\":\"1135\"},\"id\":\"1136\",\"type\":\"panel.models.comm_manager.CommManager\"}],\"root_ids\":[\"1135\",\"1136\"]},\"title\":\"Bokeh Application\",\"version\":\"2.3.3\"}};\n",
       "    var render_items = [{\"docid\":\"5aa0728d-599a-4bec-b193-e304392bfbf8\",\"root_ids\":[\"1135\"],\"roots\":{\"1135\":\"588219b2-22c3-4e3c-ae38-911f3fb10d5f\"}}];\n",
       "    root.Bokeh.embed.embed_items_notebook(docs_json, render_items);\n",
       "  }\n",
       "  if (root.Bokeh !== undefined && root.Bokeh.Panel !== undefined) {\n",
       "    embed_document(root);\n",
       "  } else {\n",
       "    var attempts = 0;\n",
       "    var timer = setInterval(function(root) {\n",
       "      if (root.Bokeh !== undefined && root.Bokeh.Panel !== undefined) {\n",
       "        clearInterval(timer);\n",
       "        embed_document(root);\n",
       "      } else if (document.readyState == \"complete\") {\n",
       "        attempts++;\n",
       "        if (attempts > 100) {\n",
       "          clearInterval(timer);\n",
       "          console.log(\"Bokeh: ERROR: Unable to run BokehJS code because BokehJS library is missing\");\n",
       "        }\n",
       "      }\n",
       "    }, 10, root)\n",
       "  }\n",
       "})(window);</script>"
      ],
      "text/plain": [
       "Alert(str, alert_type='secondary', css_classes=['alert', 'alert-secondary...], margin=(0, 0, 25, 0), sizing_mode='stretch_width')"
      ]
     },
     "metadata": {
      "application/vnd.holoviews_exec.v0+json": {
       "id": "1135"
      }
     },
     "output_type": "display_data"
    },
    {
     "data": {},
     "metadata": {},
     "output_type": "display_data"
    },
    {
     "data": {
      "application/vnd.holoviews_exec.v0+json": "",
      "text/html": [
       "<div id='1137'>\n",
       "\n",
       "\n",
       "\n",
       "\n",
       "\n",
       "  <div class=\"bk-root\" id=\"6643688f-c2e5-4a66-8a30-2c99c02478a1\" data-root-id=\"1137\"></div>\n",
       "</div>\n",
       "<script type=\"application/javascript\">(function(root) {\n",
       "  function embed_document(root) {\n",
       "    var docs_json = {\"3c9c0a79-a923-4b3a-b9b2-f023087ac404\":{\"defs\":[],\"roots\":{\"references\":[{\"attributes\":{\"client_comm_id\":\"ba44c16b77eb44f283dce0d912983f15\",\"comm_id\":\"4249a3d5de7843e78218df1f3ecec021\",\"plot_id\":\"1137\"},\"id\":\"1138\",\"type\":\"panel.models.comm_manager.CommManager\"},{\"attributes\":{\"css_classes\":[\"alert\",\"alert-success\",\"markdown\"],\"margin\":[0,0,25,0],\"name\":\"Alert00363\",\"sizing_mode\":\"stretch_width\",\"text\":\"&lt;p&gt;samtools flagstat executed successfully (AB.bam.samtoolsFlagstat)&lt;/p&gt;\"},\"id\":\"1137\",\"type\":\"panel.models.markup.HTML\"}],\"root_ids\":[\"1137\",\"1138\"]},\"title\":\"Bokeh Application\",\"version\":\"2.3.3\"}};\n",
       "    var render_items = [{\"docid\":\"3c9c0a79-a923-4b3a-b9b2-f023087ac404\",\"root_ids\":[\"1137\"],\"roots\":{\"1137\":\"6643688f-c2e5-4a66-8a30-2c99c02478a1\"}}];\n",
       "    root.Bokeh.embed.embed_items_notebook(docs_json, render_items);\n",
       "  }\n",
       "  if (root.Bokeh !== undefined && root.Bokeh.Panel !== undefined) {\n",
       "    embed_document(root);\n",
       "  } else {\n",
       "    var attempts = 0;\n",
       "    var timer = setInterval(function(root) {\n",
       "      if (root.Bokeh !== undefined && root.Bokeh.Panel !== undefined) {\n",
       "        clearInterval(timer);\n",
       "        embed_document(root);\n",
       "      } else if (document.readyState == \"complete\") {\n",
       "        attempts++;\n",
       "        if (attempts > 100) {\n",
       "          clearInterval(timer);\n",
       "          console.log(\"Bokeh: ERROR: Unable to run BokehJS code because BokehJS library is missing\");\n",
       "        }\n",
       "      }\n",
       "    }, 10, root)\n",
       "  }\n",
       "})(window);</script>"
      ],
      "text/plain": [
       "Alert(str, alert_type='success', css_classes=['alert', 'alert-success']...], margin=(0, 0, 25, 0), sizing_mode='stretch_width')"
      ]
     },
     "metadata": {
      "application/vnd.holoviews_exec.v0+json": {
       "id": "1137"
      }
     },
     "output_type": "display_data"
    }
   ],
   "source": [
    "logger.info(f\"MAPPING STAT :\")\n",
    "logger.info(f\"\\t\\tMapping stat directory : {stat_dir}\")\n",
    "\n",
    "for file_name in os.listdir(output_mapping_dir):\n",
    "    if \".bam\" in file_name:\n",
    "        samtools_flagstat(os.path.join(output_mapping_dir,file_name), stat_dir,logger)"
   ]
  },
  {
   "cell_type": "markdown",
   "metadata": {},
   "source": [
    "* One \"flagtstat file\" is generated for each bam file (http://www.htslib.org/doc/samtools-flagstat.html).\n",
    "\n",
    "```bash\n",
    "59804394 + 0 in total (QC-passed reads + QC-failed reads)\n",
    "101872 + 0 secondary\n",
    "0 + 0 supplementary\n",
    "0 + 0 duplicates\n",
    "59238869 + 0 mapped (99.05% : N/A)\n",
    "0 + 0 paired in sequencing\n",
    "0 + 0 read1\n",
    "0 + 0 read2\n",
    "0 + 0 properly paired (N/A : N/A)\n",
    "0 + 0 with itself and mate mapped\n",
    "0 + 0 singletons (N/A : N/A)\n",
    "0 + 0 with mate mapped to a different chr\n",
    "0 + 0 with mate mapped to a different chr (mapQ>=5)\n",
    " ```\n",
    "    "
   ]
  },
  {
   "cell_type": "markdown",
   "metadata": {},
   "source": [
    "#### __Compiling stats into a unique tabulated file__\n"
   ]
  },
  {
   "cell_type": "code",
   "execution_count": 13,
   "metadata": {},
   "outputs": [
    {
     "data": {},
     "metadata": {},
     "output_type": "display_data"
    },
    {
     "data": {
      "application/vnd.holoviews_exec.v0+json": "",
      "text/html": [
       "<div id='1050'>\n",
       "\n",
       "\n",
       "\n",
       "\n",
       "\n",
       "  <div class=\"bk-root\" id=\"94009b1f-c94b-48ea-b2ea-c970b2058ea2\" data-root-id=\"1050\"></div>\n",
       "</div>\n",
       "<script type=\"application/javascript\">(function(root) {\n",
       "  function embed_document(root) {\n",
       "    var docs_json = {\"e1cf4692-fded-41c0-8a64-6763b2b6508e\":{\"defs\":[{\"extends\":null,\"module\":null,\"name\":\"DataModel\",\"overrides\":[],\"properties\":[]}],\"roots\":{\"references\":[{\"attributes\":{\"client_comm_id\":\"b2358a2bc3f34cba8907294a3782f327\",\"comm_id\":\"81f27d104ebe4fcb82ca7e87cb35bc5c\",\"plot_id\":\"1050\"},\"id\":\"1051\",\"type\":\"panel.models.comm_manager.CommManager\"},{\"attributes\":{\"css_classes\":[\"alert\",\"alert-secondary\",\"markdown\"],\"margin\":[0,0,25,0],\"name\":\"Alert00189\",\"sizing_mode\":\"stretch_width\",\"text\":\"&lt;p&gt;Compiling mapping stat into an unique file&amp;hellip;&lt;/p&gt;\"},\"id\":\"1050\",\"type\":\"panel.models.markup.HTML\"}],\"root_ids\":[\"1050\",\"1051\"]},\"title\":\"Bokeh Application\",\"version\":\"2.3.0\"}};\n",
       "    var render_items = [{\"docid\":\"e1cf4692-fded-41c0-8a64-6763b2b6508e\",\"root_ids\":[\"1050\"],\"roots\":{\"1050\":\"94009b1f-c94b-48ea-b2ea-c970b2058ea2\"}}];\n",
       "    root.Bokeh.embed.embed_items_notebook(docs_json, render_items);\n",
       "  }\n",
       "  if (root.Bokeh !== undefined && root.Bokeh.Panel !== undefined) {\n",
       "    embed_document(root);\n",
       "  } else {\n",
       "    var attempts = 0;\n",
       "    var timer = setInterval(function(root) {\n",
       "      if (root.Bokeh !== undefined && root.Bokeh.Panel !== undefined) {\n",
       "        clearInterval(timer);\n",
       "        embed_document(root);\n",
       "      } else if (document.readyState == \"complete\") {\n",
       "        attempts++;\n",
       "        if (attempts > 100) {\n",
       "          clearInterval(timer);\n",
       "          console.log(\"Bokeh: ERROR: Unable to run BokehJS code because BokehJS library is missing\");\n",
       "        }\n",
       "      }\n",
       "    }, 10, root)\n",
       "  }\n",
       "})(window);</script>"
      ],
      "text/plain": [
       "Alert(str, alert_type='secondary', css_classes=['alert', 'alert-secondary...], margin=(0, 0, 25, 0), sizing_mode='stretch_width')"
      ]
     },
     "metadata": {
      "application/vnd.holoviews_exec.v0+json": {
       "id": "1050"
      }
     },
     "output_type": "display_data"
    },
    {
     "data": {},
     "metadata": {},
     "output_type": "display_data"
    },
    {
     "data": {
      "application/vnd.holoviews_exec.v0+json": "",
      "text/html": [
       "<div id='1052'>\n",
       "\n",
       "\n",
       "\n",
       "\n",
       "\n",
       "  <div class=\"bk-root\" id=\"e771bfbb-8674-45fb-91fe-6c73d057aed6\" data-root-id=\"1052\"></div>\n",
       "</div>\n",
       "<script type=\"application/javascript\">(function(root) {\n",
       "  function embed_document(root) {\n",
       "    var docs_json = {\"578e3bd7-5251-41c0-b09f-324eb58a2404\":{\"defs\":[{\"extends\":null,\"module\":null,\"name\":\"DataModel\",\"overrides\":[],\"properties\":[]}],\"roots\":{\"references\":[{\"attributes\":{\"css_classes\":[\"alert\",\"alert-success\",\"markdown\"],\"margin\":[0,0,25,0],\"name\":\"Alert00193\",\"sizing_mode\":\"stretch_width\",\"text\":\"&lt;p&gt;Compiling successfully done. See /home/christine/Documents/These/Book/yapluka/PANTOUM/frangiPANe_rice3//00-fastq_stats/all_flagstat.csv&lt;/p&gt;\"},\"id\":\"1052\",\"type\":\"panel.models.markup.HTML\"},{\"attributes\":{\"client_comm_id\":\"5851e3a86ae846c89836fdd871de349d\",\"comm_id\":\"17b62c02699a477a91591c1b9d957d48\",\"plot_id\":\"1052\"},\"id\":\"1053\",\"type\":\"panel.models.comm_manager.CommManager\"}],\"root_ids\":[\"1052\",\"1053\"]},\"title\":\"Bokeh Application\",\"version\":\"2.3.0\"}};\n",
       "    var render_items = [{\"docid\":\"578e3bd7-5251-41c0-b09f-324eb58a2404\",\"root_ids\":[\"1052\"],\"roots\":{\"1052\":\"e771bfbb-8674-45fb-91fe-6c73d057aed6\"}}];\n",
       "    root.Bokeh.embed.embed_items_notebook(docs_json, render_items);\n",
       "  }\n",
       "  if (root.Bokeh !== undefined && root.Bokeh.Panel !== undefined) {\n",
       "    embed_document(root);\n",
       "  } else {\n",
       "    var attempts = 0;\n",
       "    var timer = setInterval(function(root) {\n",
       "      if (root.Bokeh !== undefined && root.Bokeh.Panel !== undefined) {\n",
       "        clearInterval(timer);\n",
       "        embed_document(root);\n",
       "      } else if (document.readyState == \"complete\") {\n",
       "        attempts++;\n",
       "        if (attempts > 100) {\n",
       "          clearInterval(timer);\n",
       "          console.log(\"Bokeh: ERROR: Unable to run BokehJS code because BokehJS library is missing\");\n",
       "        }\n",
       "      }\n",
       "    }, 10, root)\n",
       "  }\n",
       "})(window);</script>"
      ],
      "text/plain": [
       "Alert(str, alert_type='success', css_classes=['alert', 'alert-success']...], margin=(0, 0, 25, 0), sizing_mode='stretch_width')"
      ]
     },
     "metadata": {
      "application/vnd.holoviews_exec.v0+json": {
       "id": "1052"
      }
     },
     "output_type": "display_data"
    }
   ],
   "source": [
    "merge_flagstat(output_dir=stat_dir, logger=logger)"
   ]
  },
  {
   "cell_type": "markdown",
   "metadata": {
    "tags": []
   },
   "source": [
    "* _all_flagstat.csv_ file \n",
    "\n",
    "```bash\n",
    "sample MAPPED PAIRED UNMAPPED\n",
    "NL 98.68 94.50 0.59\n",
    "NF 98.16 96.61 0.38\n",
    "FV 98.85 97.39 0.40\n",
    "CG 98.41 95.66 0.68\n",
    "LQ 99.05 97.27 0.40\n",
    "ME 98.97 97.15 0.45\n",
    "HL 97.79 95.32 0.84\n",
    "AI 98.63 96.23 0.57\n",
    "FS 98.75 97.14 0.43\n",
    "BM 98.09 94.62 0.84\n",
    "```\n",
    "\n",
    "#### __Mapping dashboard__"
   ]
  },
  {
   "cell_type": "code",
   "execution_count": 15,
   "metadata": {},
   "outputs": [
    {
     "data": {},
     "metadata": {},
     "output_type": "display_data"
    },
    {
     "data": {
      "application/vnd.holoviews_exec.v0+json": "",
      "text/html": [
       "<div id='1054'>\n",
       "\n",
       "\n",
       "\n",
       "\n",
       "\n",
       "  <div class=\"bk-root\" id=\"9c6ce47a-5b7f-42d7-8446-e79a7d9d006f\" data-root-id=\"1054\"></div>\n",
       "</div>\n",
       "<script type=\"application/javascript\">(function(root) {\n",
       "  function embed_document(root) {\n",
       "    var docs_json = {\"1b3c318f-9177-4057-be40-31dc9eb0cd06\":{\"defs\":[{\"extends\":null,\"module\":null,\"name\":\"DataModel\",\"overrides\":[],\"properties\":[]}],\"roots\":{\"references\":[{\"attributes\":{\"margin\":[5,5,5,5],\"name\":\"DataFrame00211\",\"text\":\"&lt;table border=&quot;0&quot; class=&quot;dataframe panel-df&quot;&gt;\\n  &lt;thead&gt;\\n    &lt;tr&gt;\\n      &lt;th&gt;&lt;/th&gt;\\n      &lt;th colspan=&quot;3&quot; halign=&quot;left&quot;&gt;UNMAPPED&lt;/th&gt;\\n    &lt;/tr&gt;\\n    &lt;tr&gt;\\n      &lt;th&gt;&lt;/th&gt;\\n      &lt;th&gt;mean&lt;/th&gt;\\n      &lt;th&gt;min&lt;/th&gt;\\n      &lt;th&gt;max&lt;/th&gt;\\n    &lt;/tr&gt;\\n    &lt;tr&gt;\\n      &lt;th&gt;Species&lt;/th&gt;\\n      &lt;th&gt;&lt;/th&gt;\\n      &lt;th&gt;&lt;/th&gt;\\n      &lt;th&gt;&lt;/th&gt;\\n    &lt;/tr&gt;\\n  &lt;/thead&gt;\\n  &lt;tbody&gt;\\n    &lt;tr&gt;\\n      &lt;th&gt;O. barthii&lt;/th&gt;\\n      &lt;td&gt;0.45&lt;/td&gt;\\n      &lt;td&gt;0.35&lt;/td&gt;\\n      &lt;td&gt;0.55&lt;/td&gt;\\n    &lt;/tr&gt;\\n    &lt;tr&gt;\\n      &lt;th&gt;O. glaberrima&lt;/th&gt;\\n      &lt;td&gt;0.40&lt;/td&gt;\\n      &lt;td&gt;0.40&lt;/td&gt;\\n      &lt;td&gt;0.40&lt;/td&gt;\\n    &lt;/tr&gt;\\n  &lt;/tbody&gt;\\n&lt;/table&gt;\",\"width\":400},\"id\":\"1068\",\"type\":\"panel.models.markup.HTML\"},{\"attributes\":{\"css_classes\":[\"markdown\"],\"margin\":[5,5,5,5],\"name\":\"Markdown00199\",\"text\":\"&lt;table&gt;\\n&lt;thead&gt;\\n&lt;tr&gt;\\n&lt;th align=&quot;left&quot;&gt;Samples by group&lt;/th&gt;\\n&lt;th align=&quot;center&quot;&gt;&lt;/th&gt;\\n&lt;/tr&gt;\\n&lt;/thead&gt;\\n&lt;tbody&gt;\\n&lt;tr&gt;\\n&lt;td align=&quot;left&quot;&gt;O. barthii :&lt;/td&gt;\\n&lt;td align=&quot;center&quot;&gt;2 samples&lt;/td&gt;\\n&lt;/tr&gt;\\n&lt;tr&gt;\\n&lt;td align=&quot;left&quot;&gt;O. glaberrima :&lt;/td&gt;\\n&lt;td align=&quot;center&quot;&gt;1 samples&lt;/td&gt;\\n&lt;/tr&gt;\\n&lt;/tbody&gt;\\n&lt;/table&gt;\"},\"id\":\"1056\",\"type\":\"panel.models.markup.HTML\"},{\"attributes\":{\"background\":\"WhiteSmoke\",\"children\":[{\"id\":\"1055\"},{\"id\":\"1056\"},{\"id\":\"1057\"},{\"id\":\"1058\"},{\"id\":\"1061\"},{\"id\":\"1062\"},{\"id\":\"1065\"},{\"id\":\"1066\"},{\"id\":\"1069\"},{\"id\":\"1070\"},{\"id\":\"1073\"}],\"margin\":[0,0,0,0],\"name\":\"Column00232\",\"sizing_mode\":\"stretch_both\",\"width\":800},\"id\":\"1054\",\"type\":\"Column\"},{\"attributes\":{\"css_classes\":[\"markdown\"],\"margin\":[5,5,5,5],\"name\":\"Markdown00226\",\"text\":\"&lt;p&gt;&lt;br /&gt;&lt;hr&gt;&lt;br /&gt;&lt;/p&gt;\\n&lt;h3&gt;Reads mapped properly paired&lt;/h3&gt;\"},\"id\":\"1061\",\"type\":\"panel.models.markup.HTML\"},{\"attributes\":{\"margin\":[0,20,0,0],\"options\":[\"AA\",\"AB\",\"DT\"],\"placeholder\":\"\",\"title\":\"Sample\"},\"id\":\"1072\",\"type\":\"MultiChoice\"},{\"attributes\":{\"client_comm_id\":\"17efda14badb409dbef21c0b891c2a7e\",\"comm_id\":\"2e110a04313543898021f9bdbdb3c714\",\"plot_id\":\"1054\"},\"id\":\"1075\",\"type\":\"panel.models.comm_manager.CommManager\"},{\"attributes\":{\"children\":[{\"id\":\"1059\"},{\"id\":\"1060\"}],\"margin\":[0,0,0,0],\"name\":\"Row00205\"},\"id\":\"1058\",\"type\":\"Row\"},{\"attributes\":{\"children\":[{\"id\":\"1071\"},{\"id\":\"1072\"}],\"margin\":[0,0,0,0],\"name\":\"Row00216\"},\"id\":\"1070\",\"type\":\"Row\"},{\"attributes\":{\"margin\":[5,5,5,5],\"name\":\"DataFrame00201\",\"text\":\"&lt;table border=&quot;0&quot; class=&quot;dataframe panel-df&quot;&gt;\\n  &lt;thead&gt;\\n    &lt;tr&gt;\\n      &lt;th&gt;&lt;/th&gt;\\n      &lt;th colspan=&quot;3&quot; halign=&quot;left&quot;&gt;MAPPED&lt;/th&gt;\\n    &lt;/tr&gt;\\n    &lt;tr&gt;\\n      &lt;th&gt;&lt;/th&gt;\\n      &lt;th&gt;mean&lt;/th&gt;\\n      &lt;th&gt;min&lt;/th&gt;\\n      &lt;th&gt;max&lt;/th&gt;\\n    &lt;/tr&gt;\\n    &lt;tr&gt;\\n      &lt;th&gt;Species&lt;/th&gt;\\n      &lt;th&gt;&lt;/th&gt;\\n      &lt;th&gt;&lt;/th&gt;\\n      &lt;th&gt;&lt;/th&gt;\\n    &lt;/tr&gt;\\n  &lt;/thead&gt;\\n  &lt;tbody&gt;\\n    &lt;tr&gt;\\n      &lt;th&gt;O. barthii&lt;/th&gt;\\n      &lt;td&gt;98.95&lt;/td&gt;\\n      &lt;td&gt;98.72&lt;/td&gt;\\n      &lt;td&gt;99.18&lt;/td&gt;\\n    &lt;/tr&gt;\\n    &lt;tr&gt;\\n      &lt;th&gt;O. glaberrima&lt;/th&gt;\\n      &lt;td&gt;99.18&lt;/td&gt;\\n      &lt;td&gt;99.18&lt;/td&gt;\\n      &lt;td&gt;99.18&lt;/td&gt;\\n    &lt;/tr&gt;\\n  &lt;/tbody&gt;\\n&lt;/table&gt;\",\"width\":400},\"id\":\"1060\",\"type\":\"panel.models.markup.HTML\"},{\"attributes\":{\"children\":[{\"id\":\"1074\"}],\"margin\":[0,0,0,0],\"max_height\":400,\"min_width\":400,\"name\":\"Row00221\",\"width\":400},\"id\":\"1073\",\"type\":\"Row\"},{\"attributes\":{\"margin\":[5,5,5,5],\"name\":\"DataFrame00206\",\"text\":\"&lt;table border=&quot;0&quot; class=&quot;dataframe panel-df&quot;&gt;\\n  &lt;thead&gt;\\n    &lt;tr&gt;\\n      &lt;th&gt;&lt;/th&gt;\\n      &lt;th colspan=&quot;3&quot; halign=&quot;left&quot;&gt;PAIRED&lt;/th&gt;\\n    &lt;/tr&gt;\\n    &lt;tr&gt;\\n      &lt;th&gt;&lt;/th&gt;\\n      &lt;th&gt;mean&lt;/th&gt;\\n      &lt;th&gt;min&lt;/th&gt;\\n      &lt;th&gt;max&lt;/th&gt;\\n    &lt;/tr&gt;\\n    &lt;tr&gt;\\n      &lt;th&gt;Species&lt;/th&gt;\\n      &lt;th&gt;&lt;/th&gt;\\n      &lt;th&gt;&lt;/th&gt;\\n      &lt;th&gt;&lt;/th&gt;\\n    &lt;/tr&gt;\\n  &lt;/thead&gt;\\n  &lt;tbody&gt;\\n    &lt;tr&gt;\\n      &lt;th&gt;O. barthii&lt;/th&gt;\\n      &lt;td&gt;95.945&lt;/td&gt;\\n      &lt;td&gt;94.97&lt;/td&gt;\\n      &lt;td&gt;96.92&lt;/td&gt;\\n    &lt;/tr&gt;\\n    &lt;tr&gt;\\n      &lt;th&gt;O. glaberrima&lt;/th&gt;\\n      &lt;td&gt;96.350&lt;/td&gt;\\n      &lt;td&gt;96.35&lt;/td&gt;\\n      &lt;td&gt;96.35&lt;/td&gt;\\n    &lt;/tr&gt;\\n  &lt;/tbody&gt;\\n&lt;/table&gt;\",\"width\":400},\"id\":\"1064\",\"type\":\"panel.models.markup.HTML\"},{\"attributes\":{\"css_classes\":[\"markdown\"],\"margin\":[5,5,5,5],\"name\":\"Markdown00213\",\"text\":\"&lt;p&gt;&lt;br /&gt;&lt;/p&gt;\\n&lt;ul&gt;\\n&lt;li&gt;min - max : 0.35 - 0.55 %&lt;/li&gt;\\n&lt;li&gt;mean : 0.43&lt;/li&gt;\\n&lt;/ul&gt;\"},\"id\":\"1067\",\"type\":\"panel.models.markup.HTML\"},{\"attributes\":{\"css_classes\":[\"markdown\"],\"margin\":[5,5,5,5],\"name\":\"Markdown00203\",\"text\":\"&lt;p&gt;&lt;br /&gt;&lt;/p&gt;\\n&lt;ul&gt;\\n&lt;li&gt;min - max : 98.72 - 99.18 %&lt;/li&gt;\\n&lt;li&gt;mean : 99.03&lt;/li&gt;\\n&lt;/ul&gt;\"},\"id\":\"1059\",\"type\":\"panel.models.markup.HTML\"},{\"attributes\":{\"css_classes\":[\"markdown\"],\"margin\":[5,5,5,5],\"name\":\"Markdown00208\",\"text\":\"&lt;p&gt;&lt;br /&gt;&lt;/p&gt;\\n&lt;ul&gt;\\n&lt;li&gt;min - max : 94.97 - 96.92 %&lt;/li&gt;\\n&lt;li&gt;mean : 96.08&lt;/li&gt;\\n&lt;/ul&gt;\"},\"id\":\"1063\",\"type\":\"panel.models.markup.HTML\"},{\"attributes\":{\"margin\":[5,5,5,5],\"name\":\"Str00219\"},\"id\":\"1074\",\"type\":\"panel.models.markup.HTML\"},{\"attributes\":{\"children\":[{\"id\":\"1063\"},{\"id\":\"1064\"}],\"margin\":[0,0,0,0],\"name\":\"Row00210\"},\"id\":\"1062\",\"type\":\"Row\"},{\"attributes\":{\"css_classes\":[\"markdown\"],\"margin\":[5,5,5,5],\"name\":\"Markdown00222\",\"text\":\"&lt;h1&gt;Some statistics about mapping step&lt;/h1&gt;\"},\"id\":\"1055\",\"type\":\"panel.models.markup.HTML\"},{\"attributes\":{\"height\":360,\"margin\":[5,5,5,5],\"name\":\"Matplotlib00230\",\"text\":\"&lt;img src=&quot;data:image/png;base64,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&quot; width=&quot;864px&quot; height=&quot;360px&quot; alt=&quot;&quot;&gt;&lt;/img&gt;\",\"width\":864},\"id\":\"1069\",\"type\":\"panel.models.markup.HTML\"},{\"attributes\":{\"children\":[{\"id\":\"1067\"},{\"id\":\"1068\"}],\"margin\":[0,0,0,0],\"name\":\"Row00215\"},\"id\":\"1066\",\"type\":\"Row\"},{\"attributes\":{\"css_classes\":[\"markdown\"],\"margin\":[5,5,5,5],\"name\":\"Markdown00224\",\"text\":\"&lt;p&gt;&lt;br /&gt;&lt;hr&gt;&lt;br /&gt;&lt;/p&gt;\\n&lt;h3&gt;Reads mapped&lt;/h3&gt;\"},\"id\":\"1057\",\"type\":\"panel.models.markup.HTML\"},{\"attributes\":{\"margin\":[0,20,0,0],\"options\":[\"O. barthii\",\"O. glaberrima\"],\"placeholder\":\"\",\"title\":\"Group\"},\"id\":\"1071\",\"type\":\"MultiChoice\"},{\"attributes\":{\"css_classes\":[\"markdown\"],\"margin\":[5,5,5,5],\"name\":\"Markdown00228\",\"text\":\"&lt;p&gt;&lt;br /&gt;&lt;hr&gt;&lt;br /&gt;&lt;/p&gt;\\n&lt;h3&gt;Reads unmapped&lt;/h3&gt;\"},\"id\":\"1065\",\"type\":\"panel.models.markup.HTML\"}],\"root_ids\":[\"1054\",\"1075\"]},\"title\":\"Bokeh Application\",\"version\":\"2.3.0\"}};\n",
       "    var render_items = [{\"docid\":\"1b3c318f-9177-4057-be40-31dc9eb0cd06\",\"root_ids\":[\"1054\"],\"roots\":{\"1054\":\"9c6ce47a-5b7f-42d7-8446-e79a7d9d006f\"}}];\n",
       "    root.Bokeh.embed.embed_items_notebook(docs_json, render_items);\n",
       "  }\n",
       "  if (root.Bokeh !== undefined && root.Bokeh.Panel !== undefined) {\n",
       "    embed_document(root);\n",
       "  } else {\n",
       "    var attempts = 0;\n",
       "    var timer = setInterval(function(root) {\n",
       "      if (root.Bokeh !== undefined && root.Bokeh.Panel !== undefined) {\n",
       "        clearInterval(timer);\n",
       "        embed_document(root);\n",
       "      } else if (document.readyState == \"complete\") {\n",
       "        attempts++;\n",
       "        if (attempts > 100) {\n",
       "          clearInterval(timer);\n",
       "          console.log(\"Bokeh: ERROR: Unable to run BokehJS code because BokehJS library is missing\");\n",
       "        }\n",
       "      }\n",
       "    }, 10, root)\n",
       "  }\n",
       "})(window);</script>"
      ],
      "text/plain": [
       "Column(background='WhiteSmoke', sizing_mode='stretch_both', width=800)\n",
       "    [0] Markdown(str)\n",
       "    [1] Markdown(str)\n",
       "    [2] Markdown(str)\n",
       "    [3] Row\n",
       "        [0] Markdown(str)\n",
       "        [1] DataFrame(DataFrame, width=400)\n",
       "    [4] Markdown(str)\n",
       "    [5] Row\n",
       "        [0] Markdown(str)\n",
       "        [1] DataFrame(DataFrame, width=400)\n",
       "    [6] Markdown(str)\n",
       "    [7] Row\n",
       "        [0] Markdown(str)\n",
       "        [1] DataFrame(DataFrame, width=400)\n",
       "    [8] Matplotlib(Figure)\n",
       "    [9] Row\n",
       "        [0] MultiChoice(margin=(0, 20, 0, 0), name='Group', options=['O. barthii', ...])\n",
       "        [1] MultiChoice(margin=(0, 20, 0, 0), name='Sample', options=['AA', 'AB', 'DT'])\n",
       "    [10] ParamFunction(function, max_height=400, width=400)"
      ]
     },
     "metadata": {
      "application/vnd.holoviews_exec.v0+json": {
       "id": "1054"
      }
     },
     "output_type": "display_data"
    }
   ],
   "source": [
    "#stat_dir = output_mapping_dir + \"/stat/\"\n",
    "stat_file = stat_dir + \"all_flagstat.csv\"\n",
    "dashboard_flagstat(stat_file,df_group)"
   ]
  },
  {
   "cell_type": "markdown",
   "metadata": {},
   "source": [
    "[<img src=\"Images/up-arrow.png\" alt=\"Top\" width=2% align=\"right\">](#home \"Go back to the top\")\n",
    "\n",
    "\n",
    "### <span style=\"color: #919395\">3 - Assembly of the individuals' reads that do not map (properly) on the reference genome <a class=\"anchor\" id=\"assembly\"></a></span>\n",
    "\n",
    "#### __Creating assembly directory__"
   ]
  },
  {
   "cell_type": "code",
   "execution_count": 21,
   "metadata": {},
   "outputs": [
    {
     "data": {},
     "metadata": {},
     "output_type": "display_data"
    },
    {
     "data": {
      "application/vnd.holoviews_exec.v0+json": "",
      "text/html": [
       "<div id='1183'>\n",
       "\n",
       "\n",
       "\n",
       "\n",
       "\n",
       "  <div class=\"bk-root\" id=\"3a281fb8-0aff-4ef7-961d-466764550062\" data-root-id=\"1183\"></div>\n",
       "</div>\n",
       "<script type=\"application/javascript\">(function(root) {\n",
       "  function embed_document(root) {\n",
       "    var docs_json = {\"75a1cb18-8922-47b4-929d-f7fcb216b1fa\":{\"defs\":[{\"extends\":null,\"module\":null,\"name\":\"DataModel\",\"overrides\":[],\"properties\":[]}],\"roots\":{\"references\":[{\"attributes\":{\"css_classes\":[\"alert\",\"alert-success\",\"markdown\"],\"margin\":[0,0,25,0],\"name\":\"Alert00439\",\"sizing_mode\":\"stretch_width\",\"text\":\"&lt;p&gt;Directory /home/christine/Documents/These/Book/yapluka/PANTOUM/frangiPANe_rice3//02-assembly_unmapped_reads/ created&lt;/p&gt;\"},\"id\":\"1183\",\"type\":\"panel.models.markup.HTML\"},{\"attributes\":{\"client_comm_id\":\"51e0a4d5a2034e59bd88e9bc37511ae8\",\"comm_id\":\"8d79a6644ed243ff868bea726f19efee\",\"plot_id\":\"1183\"},\"id\":\"1184\",\"type\":\"panel.models.comm_manager.CommManager\"}],\"root_ids\":[\"1183\",\"1184\"]},\"title\":\"Bokeh Application\",\"version\":\"2.3.0\"}};\n",
       "    var render_items = [{\"docid\":\"75a1cb18-8922-47b4-929d-f7fcb216b1fa\",\"root_ids\":[\"1183\"],\"roots\":{\"1183\":\"3a281fb8-0aff-4ef7-961d-466764550062\"}}];\n",
       "    root.Bokeh.embed.embed_items_notebook(docs_json, render_items);\n",
       "  }\n",
       "  if (root.Bokeh !== undefined && root.Bokeh.Panel !== undefined) {\n",
       "    embed_document(root);\n",
       "  } else {\n",
       "    var attempts = 0;\n",
       "    var timer = setInterval(function(root) {\n",
       "      if (root.Bokeh !== undefined && root.Bokeh.Panel !== undefined) {\n",
       "        clearInterval(timer);\n",
       "        embed_document(root);\n",
       "      } else if (document.readyState == \"complete\") {\n",
       "        attempts++;\n",
       "        if (attempts > 100) {\n",
       "          clearInterval(timer);\n",
       "          console.log(\"Bokeh: ERROR: Unable to run BokehJS code because BokehJS library is missing\");\n",
       "        }\n",
       "      }\n",
       "    }, 10, root)\n",
       "  }\n",
       "})(window);</script>"
      ],
      "text/plain": [
       "Alert(str, alert_type='success', css_classes=['alert', 'alert-success']...], margin=(0, 0, 25, 0), sizing_mode='stretch_width')"
      ]
     },
     "metadata": {
      "application/vnd.holoviews_exec.v0+json": {
       "id": "1183"
      }
     },
     "output_type": "display_data"
    },
    {
     "data": {},
     "metadata": {},
     "output_type": "display_data"
    },
    {
     "data": {
      "application/vnd.holoviews_exec.v0+json": "",
      "text/html": [
       "<div id='1185'>\n",
       "\n",
       "\n",
       "\n",
       "\n",
       "\n",
       "  <div class=\"bk-root\" id=\"a1edc3d4-8732-4b0d-88a0-288a2a571ba3\" data-root-id=\"1185\"></div>\n",
       "</div>\n",
       "<script type=\"application/javascript\">(function(root) {\n",
       "  function embed_document(root) {\n",
       "    var docs_json = {\"7e1bd2d9-65e7-4ddc-baf9-4b51b963386f\":{\"defs\":[{\"extends\":null,\"module\":null,\"name\":\"DataModel\",\"overrides\":[],\"properties\":[]}],\"roots\":{\"references\":[{\"attributes\":{\"client_comm_id\":\"28f69dbed6284df2b2d8ed5007c7ada4\",\"comm_id\":\"e86b12b7482947b1af480efece7415b9\",\"plot_id\":\"1185\"},\"id\":\"1186\",\"type\":\"panel.models.comm_manager.CommManager\"},{\"attributes\":{\"css_classes\":[\"alert\",\"alert-success\",\"markdown\"],\"margin\":[0,0,25,0],\"name\":\"Alert00443\",\"sizing_mode\":\"stretch_width\",\"text\":\"&lt;p&gt;Directory /home/christine/Documents/These/Book/yapluka/PANTOUM/frangiPANe_rice3//02-assembly_unmapped_reads/bam_F0x2/ created&lt;/p&gt;\"},\"id\":\"1185\",\"type\":\"panel.models.markup.HTML\"}],\"root_ids\":[\"1185\",\"1186\"]},\"title\":\"Bokeh Application\",\"version\":\"2.3.0\"}};\n",
       "    var render_items = [{\"docid\":\"7e1bd2d9-65e7-4ddc-baf9-4b51b963386f\",\"root_ids\":[\"1185\"],\"roots\":{\"1185\":\"a1edc3d4-8732-4b0d-88a0-288a2a571ba3\"}}];\n",
       "    root.Bokeh.embed.embed_items_notebook(docs_json, render_items);\n",
       "  }\n",
       "  if (root.Bokeh !== undefined && root.Bokeh.Panel !== undefined) {\n",
       "    embed_document(root);\n",
       "  } else {\n",
       "    var attempts = 0;\n",
       "    var timer = setInterval(function(root) {\n",
       "      if (root.Bokeh !== undefined && root.Bokeh.Panel !== undefined) {\n",
       "        clearInterval(timer);\n",
       "        embed_document(root);\n",
       "      } else if (document.readyState == \"complete\") {\n",
       "        attempts++;\n",
       "        if (attempts > 100) {\n",
       "          clearInterval(timer);\n",
       "          console.log(\"Bokeh: ERROR: Unable to run BokehJS code because BokehJS library is missing\");\n",
       "        }\n",
       "      }\n",
       "    }, 10, root)\n",
       "  }\n",
       "})(window);</script>"
      ],
      "text/plain": [
       "Alert(str, alert_type='success', css_classes=['alert', 'alert-success']...], margin=(0, 0, 25, 0), sizing_mode='stretch_width')"
      ]
     },
     "metadata": {
      "application/vnd.holoviews_exec.v0+json": {
       "id": "1185"
      }
     },
     "output_type": "display_data"
    }
   ],
   "source": [
    "output_assembly_dir = output_dir + \"/02-assembly_unmapped_reads/\"\n",
    "make_dir(output_assembly_dir)\n",
    "make_dir(output_assembly_dir + \"bam_F0x2/\")"
   ]
  },
  {
   "cell_type": "markdown",
   "metadata": {},
   "source": [
    "#### __Filtering .bam files with `samtools view`__ \n",
    "\n",
    "Options de samtools view : \n",
    "   - -b : Output in the BAM format\n",
    "   - -h : Include the header in the output\n",
    "   - -F: Do not output alignments with any bits set in INT present in the FLAG field. INT can be specified in hex by beginning with '0x' (i.e. /^0x[0-9A-F]+/) or in octal by beginning with '0' (i.e. /^0[0-7]+/) [0].\n",
    "   - -@ : Number of BAM compression threads to use in addition to main thread \n",
    "   - -o : Output to FILE [stdout]"
   ]
  },
  {
   "cell_type": "code",
   "execution_count": null,
   "metadata": {},
   "outputs": [],
   "source": [
    "for id in id_dict : \n",
    "    bam_to_F0x2_bam(reference_genome=reference_genome, \n",
    "                    bam_dir=output_mapping_dir, \n",
    "                    id=id, \n",
    "                    cpu=cpu, \n",
    "                    output_dir=output_assembly_dir + \"bam_F0x2/\", \n",
    "                    logger=logger)"
   ]
  },
  {
   "cell_type": "markdown",
   "metadata": {},
   "source": [
    "#### __Assembly with ABySS__"
   ]
  },
  {
   "cell_type": "markdown",
   "metadata": {},
   "source": [
    "#### _Choosing optimal k_\n",
    "\n",
    "```PUT BOX TO SELECT SEVERAL IDs + min, max for k```"
   ]
  },
  {
   "cell_type": "code",
   "execution_count": null,
   "metadata": {},
   "outputs": [],
   "source": [
    "id_test = [\"4-X\", \"78-X\", \"200-X\"]"
   ]
  },
  {
   "cell_type": "markdown",
   "metadata": {},
   "source": [
    "##### ABySS : k(32 -> 96, 8)"
   ]
  },
  {
   "cell_type": "code",
   "execution_count": null,
   "metadata": {
    "scrolled": true
   },
   "outputs": [],
   "source": [
    "make_dir(output_assembly_dir + \"assembly_choosing_k/\")\n",
    "make_dir(output_assembly_dir + \"assembly_choosing_k/abyss/\")\n",
    "\n",
    "# for k in range(32, 97, 8) : \n",
    "for k in range(40, 57, 8) :\n",
    "    for id in id_test : ### INDIVIDUS TEST\n",
    "        abyss_pe(project_name=project_name, \n",
    "                 id=id, \n",
    "                 k=k, \n",
    "                 bam_dir=output_assembly_dir + \"bam_F0x2/\", \n",
    "                 output_dir=output_assembly_dir + \"assembly_choosing_k/abyss/\", \n",
    "                 logger=logger) "
   ]
  },
  {
   "cell_type": "markdown",
   "metadata": {},
   "source": [
    "##### Filter .fastq files\n",
    "\n",
    "   * contigs : https://github.com/bcgsc/abyss/wiki/ABySS-File-Formats#description-of-rows\n",
    "   * extract sequence (length >= threshold)"
   ]
  },
  {
   "cell_type": "code",
   "execution_count": null,
   "metadata": {},
   "outputs": [],
   "source": [
    "make_dir(output_assembly_dir + \"assembly_choosing_k/fasta_test/\")\n",
    "\n",
    "threshold = 300\n",
    "\n",
    "logger.info(f\"FILTERING SEQUENCES >= THRESHOLD ({threshold})\")\n",
    "\n",
    "# for k in range(32, 97, 8) : \n",
    "for k in range(40, 57, 8) :\n",
    "    for id in id_test : \n",
    "        filter_fastq_threshold(file=output_assembly_dir + \"assembly_choosing_k/abyss/\" + id + \"_k\" + str(k) + \"/\" + project_name + \"_\" + id + \"_\" + str(k) + \"-contigs.fa\", \n",
    "                               threshold=threshold, \n",
    "                               output_file=output_assembly_dir + \"assembly_choosing_k/fasta_test/\" + id + \"_k\" + str(k) + \"_thr\" + str(threshold) + \".fasta\") "
   ]
  },
  {
   "cell_type": "markdown",
   "metadata": {},
   "source": [
    "##### Stats\n",
    "\n",
    "Using assembly-stats. NB : L50 is called n50n "
   ]
  },
  {
   "cell_type": "code",
   "execution_count": null,
   "metadata": {},
   "outputs": [],
   "source": [
    "make_dir(output_assembly_dir + \"assembly_choosing_k/plots/\")\n",
    "\n",
    "stat_len, stats_N_hide, stats_N, stats_L_hide, stats_L, stats_gap, stats = def_stats()\n",
    "create_stats_files(stats=stats,\n",
    "                  output_dir=output_assembly_dir + \"assembly_choosing_k/plots/\")\n",
    "\n",
    "# for k in range(32, 97, 8) : \n",
    "for k in range(40, 57, 8) :\n",
    "    for id in id_test :\n",
    "        fill_stats_files(input_dir=output_assembly_dir + \"assembly_choosing_k/fasta_test/\",\n",
    "                id=id,\n",
    "                k=k,\n",
    "                output_dir=output_assembly_dir + \"assembly_choosing_k/plots/\",\n",
    "                threshold=threshold,\n",
    "                logger=logger)"
   ]
  },
  {
   "cell_type": "markdown",
   "metadata": {},
   "source": [
    "How to choose k ?\n",
    "   * total_length : +++\n",
    "   * N50 : +++\n",
    "   * L50 : ---"
   ]
  },
  {
   "cell_type": "markdown",
   "metadata": {},
   "source": [
    "```Definitions ?```"
   ]
  },
  {
   "cell_type": "code",
   "execution_count": null,
   "metadata": {},
   "outputs": [],
   "source": [
    "stat_len_df = pd.read_csv(output_assembly_dir + \"assembly_choosing_k/plots/assembly-stats-\" + stat_len[0] + \".csv\", sep='\\t')\n",
    "\n",
    "size = sns.relplot(x='k', y='value', hue='stat', data=stat_len_df, col='id', kind=\"line\")\n",
    "size.savefig(output_assembly_dir + \"assembly_choosing_k/plots/stat_len.png\")\n",
    "\n",
    "hide_cell()"
   ]
  },
  {
   "cell_type": "code",
   "execution_count": null,
   "metadata": {},
   "outputs": [],
   "source": [
    "stats_N_files = []\n",
    "for stat in stats_N : \n",
    "    stats_N_files.append(output_assembly_dir + \"assembly_choosing_k/plots/assembly-stats-\" + stat + \".csv\")\n",
    "stats_N_df = pd.concat([pd.read_csv(f, sep='\\t') for f in stats_N_files], ignore_index = True)\n",
    "\n",
    "size = sns.relplot(x='k', y='value', hue='stat', data=stats_N_df, col='id', kind=\"line\")\n",
    "size.savefig(output_assembly_dir + \"assembly_choosing_k/plots/stat_N.png\")\n",
    "\n",
    "\n",
    "hide_cell()"
   ]
  },
  {
   "cell_type": "code",
   "execution_count": null,
   "metadata": {},
   "outputs": [],
   "source": [
    "stats_L_files = []\n",
    "for stat in stats_L : \n",
    "    stats_L_files.append(output_assembly_dir + \"assembly_choosing_k/plots/assembly-stats-\" + stat + \".csv\")\n",
    "stats_L_df = pd.concat([pd.read_csv(f, sep='\\t') for f in stats_L_files], ignore_index = True)\n",
    "\n",
    "size = sns.relplot(x='k', y='value', hue='stat', data=stats_L_df, col='id', kind=\"line\")\n",
    "size.savefig(output_assembly_dir + \"assembly_choosing_k/plots/stat_L.png\")\n",
    "\n",
    "\n",
    "hide_cell()"
   ]
  },
  {
   "cell_type": "markdown",
   "metadata": {},
   "source": [
    "```PUT BOX TO SELECT k```"
   ]
  },
  {
   "cell_type": "code",
   "execution_count": 24,
   "metadata": {},
   "outputs": [],
   "source": [
    "k = 64 ### box ?"
   ]
  },
  {
   "cell_type": "markdown",
   "metadata": {},
   "source": [
    "#### Running ABySS for each individual"
   ]
  },
  {
   "cell_type": "code",
   "execution_count": null,
   "metadata": {
    "scrolled": true,
    "tags": []
   },
   "outputs": [],
   "source": [
    "!mkdir $output_assembly_dir\"assembly_all_contigs/\"\n",
    "\n",
    "for id in id_dict :\n",
    "    if id in id_test :\n",
    "        id_folder = output_assembly_dir + \"assembly_choosing_k/\" + id + \"_k\" + str(k) + \"/\"\n",
    "        target_folder = output_assembly_dir + \"assembly_all_contigs/\"\n",
    "        !scp -r $id_folder $target_folder\n",
    "    else : \n",
    "        abyss_pe(project_name=project_name, \n",
    "                 id=id, \n",
    "                 k=k, \n",
    "                 bam_dir=output_assembly_dir + \"bam_F0x2/\", \n",
    "                 output_dir=output_assembly_dir + \"assembly_all_contigs/\") \n",
    "        \n",
    "# rm -r $output_assembly_dir\"assembly_choosing_k/abyss/\""
   ]
  },
  {
   "cell_type": "code",
   "execution_count": null,
   "metadata": {},
   "outputs": [],
   "source": [
    "!mkdir $output_assembly_dir\"assembly_all_contigs/\"\n",
    "\n",
    "for id in id_dict :\n",
    "    abyss_pe(project_name=project_name, \n",
    "                 id=id, \n",
    "                 k=k, \n",
    "                 bam_dir=output_assembly_dir + \"bam_F0x2/\", \n",
    "                 output_dir=output_assembly_dir + \"assembly_all_contigs/\",\n",
    "                logger=logger) \n",
    "        "
   ]
  },
  {
   "cell_type": "markdown",
   "metadata": {},
   "source": [
    "`TODO : PUT TABLE SYNTHESE`\n",
    "\n",
    "[<img src=\"Images/up-arrow.png\" alt=\"Top\" width=2% align=\"right\">](#home \"Go back to the top\")\n",
    "    \n",
    "### <span style=\"color: #919395\"> 4 - Removing contamination<a class=\"anchor\" id=\"contamination\"></a></span>"
   ]
  },
  {
   "cell_type": "markdown",
   "metadata": {},
   "source": [
    "#### __VecScreen__"
   ]
  },
  {
   "cell_type": "markdown",
   "metadata": {},
   "source": [
    "#### __BLASTn__"
   ]
  },
  {
   "cell_type": "markdown",
   "metadata": {},
   "source": [
    "#### __Control of the assembly with long reads (optionnal)__"
   ]
  },
  {
   "cell_type": "markdown",
   "metadata": {},
   "source": [
    "[<img src=\"Images/up-arrow.png\" alt=\"Top\" width=2% align=\"right\">](#home \"Go back to the top\")\n",
    "    \n",
    "### <span style=\"color: #919395\"> 5 - Reducing Sequence Redundancy<a class=\"anchor\" id=\"redundancy\"></a></span>\n",
    "\n",
    "frangiPANe uses CD-HIT to cluster sequences and to reduce sequence redundancy (inter and intra-species).\n",
    "\n",
    "#### __Create clustering directory__"
   ]
  },
  {
   "cell_type": "code",
   "execution_count": 30,
   "metadata": {},
   "outputs": [
    {
     "data": {},
     "metadata": {},
     "output_type": "display_data"
    },
    {
     "data": {
      "application/vnd.holoviews_exec.v0+json": "",
      "text/html": [
       "<div id='1705'>\n",
       "\n",
       "\n",
       "\n",
       "\n",
       "\n",
       "  <div class=\"bk-root\" id=\"22a5f7af-58eb-4655-8791-0c5d7a8e8ef4\" data-root-id=\"1705\"></div>\n",
       "</div>\n",
       "<script type=\"application/javascript\">(function(root) {\n",
       "  function embed_document(root) {\n",
       "    var docs_json = {\"93052ceb-babc-4aae-86eb-cba2b17d009f\":{\"defs\":[{\"extends\":null,\"module\":null,\"name\":\"DataModel\",\"overrides\":[],\"properties\":[]}],\"roots\":{\"references\":[{\"attributes\":{\"css_classes\":[\"alert\",\"alert-success\",\"markdown\"],\"margin\":[0,0,25,0],\"name\":\"Alert01481\",\"sizing_mode\":\"stretch_width\",\"text\":\"&lt;p&gt;Directory /home/christine/Documents/These/Book/yapluka/PANTOUM/frangiPANe_rice3/03-clustering/ created&lt;/p&gt;\"},\"id\":\"1705\",\"type\":\"panel.models.markup.HTML\"},{\"attributes\":{\"client_comm_id\":\"afe87c6c8f964309ab215a9782118c1b\",\"comm_id\":\"8a2ba2fa5a9a48ba8e51d33b0073a594\",\"plot_id\":\"1705\"},\"id\":\"1706\",\"type\":\"panel.models.comm_manager.CommManager\"}],\"root_ids\":[\"1705\",\"1706\"]},\"title\":\"Bokeh Application\",\"version\":\"2.3.0\"}};\n",
       "    var render_items = [{\"docid\":\"93052ceb-babc-4aae-86eb-cba2b17d009f\",\"root_ids\":[\"1705\"],\"roots\":{\"1705\":\"22a5f7af-58eb-4655-8791-0c5d7a8e8ef4\"}}];\n",
       "    root.Bokeh.embed.embed_items_notebook(docs_json, render_items);\n",
       "  }\n",
       "  if (root.Bokeh !== undefined && root.Bokeh.Panel !== undefined) {\n",
       "    embed_document(root);\n",
       "  } else {\n",
       "    var attempts = 0;\n",
       "    var timer = setInterval(function(root) {\n",
       "      if (root.Bokeh !== undefined && root.Bokeh.Panel !== undefined) {\n",
       "        clearInterval(timer);\n",
       "        embed_document(root);\n",
       "      } else if (document.readyState == \"complete\") {\n",
       "        attempts++;\n",
       "        if (attempts > 100) {\n",
       "          clearInterval(timer);\n",
       "          console.log(\"Bokeh: ERROR: Unable to run BokehJS code because BokehJS library is missing\");\n",
       "        }\n",
       "      }\n",
       "    }, 10, root)\n",
       "  }\n",
       "})(window);</script>"
      ],
      "text/plain": [
       "Alert(str, alert_type='success', css_classes=['alert', 'alert-success']...], margin=(0, 0, 25, 0), sizing_mode='stretch_width')"
      ]
     },
     "metadata": {
      "application/vnd.holoviews_exec.v0+json": {
       "id": "1705"
      }
     },
     "output_type": "display_data"
    }
   ],
   "source": [
    "output_clustering_dir = output_dir + \"03-clustering/\"\n",
    "make_dir(output_clustering_dir)"
   ]
  },
  {
   "cell_type": "markdown",
   "metadata": {},
   "source": [
    "#### __Merge all contigs__\n"
   ]
  },
  {
   "cell_type": "code",
   "execution_count": 7,
   "metadata": {},
   "outputs": [],
   "source": [
    "# TODO a remonter et definir dans la partie assemblage\n",
    "#output_assembly_dir = output_dir + \"/02-assembly_unmapped_reads/\"\n",
    "#output_clustering_dir = output_dir + \"03-clustering/\"\n",
    "output_assembly_contigs = output_assembly_dir + \"assembly_all_contigs\""
   ]
  },
  {
   "cell_type": "code",
   "execution_count": 18,
   "metadata": {},
   "outputs": [
    {
     "data": {},
     "metadata": {},
     "output_type": "display_data"
    },
    {
     "data": {
      "application/vnd.holoviews_exec.v0+json": "",
      "text/html": [
       "<div id='1080'>\n",
       "\n",
       "\n",
       "\n",
       "\n",
       "\n",
       "  <div class=\"bk-root\" id=\"6ade18fc-8446-475a-9a9c-8677e5775dc9\" data-root-id=\"1080\"></div>\n",
       "</div>\n",
       "<script type=\"application/javascript\">(function(root) {\n",
       "  function embed_document(root) {\n",
       "    var docs_json = {\"9baf2af7-68a0-45ec-9afa-fd1e53d40aae\":{\"defs\":[{\"extends\":null,\"module\":null,\"name\":\"DataModel\",\"overrides\":[],\"properties\":[]}],\"roots\":{\"references\":[{\"attributes\":{\"css_classes\":[\"alert\",\"alert-secondary\",\"markdown\"],\"margin\":[0,0,25,0],\"name\":\"Alert00237\",\"sizing_mode\":\"stretch_width\",\"text\":\"&lt;p&gt;Copying all contigs from each sample into dir_clustering on progress&amp;hellip;&lt;/p&gt;\"},\"id\":\"1080\",\"type\":\"panel.models.markup.HTML\"},{\"attributes\":{\"client_comm_id\":\"7b75d8a8000546568a7e3f8ac77a1f84\",\"comm_id\":\"3b22b50adcb746ae9285d02bbf87c319\",\"plot_id\":\"1080\"},\"id\":\"1081\",\"type\":\"panel.models.comm_manager.CommManager\"}],\"root_ids\":[\"1080\",\"1081\"]},\"title\":\"Bokeh Application\",\"version\":\"2.3.0\"}};\n",
       "    var render_items = [{\"docid\":\"9baf2af7-68a0-45ec-9afa-fd1e53d40aae\",\"root_ids\":[\"1080\"],\"roots\":{\"1080\":\"6ade18fc-8446-475a-9a9c-8677e5775dc9\"}}];\n",
       "    root.Bokeh.embed.embed_items_notebook(docs_json, render_items);\n",
       "  }\n",
       "  if (root.Bokeh !== undefined && root.Bokeh.Panel !== undefined) {\n",
       "    embed_document(root);\n",
       "  } else {\n",
       "    var attempts = 0;\n",
       "    var timer = setInterval(function(root) {\n",
       "      if (root.Bokeh !== undefined && root.Bokeh.Panel !== undefined) {\n",
       "        clearInterval(timer);\n",
       "        embed_document(root);\n",
       "      } else if (document.readyState == \"complete\") {\n",
       "        attempts++;\n",
       "        if (attempts > 100) {\n",
       "          clearInterval(timer);\n",
       "          console.log(\"Bokeh: ERROR: Unable to run BokehJS code because BokehJS library is missing\");\n",
       "        }\n",
       "      }\n",
       "    }, 10, root)\n",
       "  }\n",
       "})(window);</script>"
      ],
      "text/plain": [
       "Alert(str, alert_type='secondary', css_classes=['alert', 'alert-secondary...], margin=(0, 0, 25, 0), sizing_mode='stretch_width')"
      ]
     },
     "metadata": {
      "application/vnd.holoviews_exec.v0+json": {
       "id": "1080"
      }
     },
     "output_type": "display_data"
    },
    {
     "data": {},
     "metadata": {},
     "output_type": "display_data"
    },
    {
     "data": {
      "application/vnd.holoviews_exec.v0+json": "",
      "text/html": [
       "<div id='1082'>\n",
       "\n",
       "\n",
       "\n",
       "\n",
       "\n",
       "  <div class=\"bk-root\" id=\"9ff79bba-d230-4122-8f47-d2979bf64208\" data-root-id=\"1082\"></div>\n",
       "</div>\n",
       "<script type=\"application/javascript\">(function(root) {\n",
       "  function embed_document(root) {\n",
       "    var docs_json = {\"b117674e-160d-45c2-904b-04f4547a3366\":{\"defs\":[{\"extends\":null,\"module\":null,\"name\":\"DataModel\",\"overrides\":[],\"properties\":[]}],\"roots\":{\"references\":[{\"attributes\":{\"client_comm_id\":\"185a2b8013b1444faa45b0a51cd4e860\",\"comm_id\":\"bf9e1fe22c464d7692e1358ff210b3da\",\"plot_id\":\"1082\"},\"id\":\"1083\",\"type\":\"panel.models.comm_manager.CommManager\"},{\"attributes\":{\"css_classes\":[\"alert\",\"alert-info\",\"markdown\"],\"margin\":[0,0,25,0],\"name\":\"Alert00241\",\"sizing_mode\":\"stretch_width\",\"text\":\"&lt;p&gt;Copying all contigs into dir_clustering done&lt;/p&gt;\"},\"id\":\"1082\",\"type\":\"panel.models.markup.HTML\"}],\"root_ids\":[\"1082\",\"1083\"]},\"title\":\"Bokeh Application\",\"version\":\"2.3.0\"}};\n",
       "    var render_items = [{\"docid\":\"b117674e-160d-45c2-904b-04f4547a3366\",\"root_ids\":[\"1082\"],\"roots\":{\"1082\":\"9ff79bba-d230-4122-8f47-d2979bf64208\"}}];\n",
       "    root.Bokeh.embed.embed_items_notebook(docs_json, render_items);\n",
       "  }\n",
       "  if (root.Bokeh !== undefined && root.Bokeh.Panel !== undefined) {\n",
       "    embed_document(root);\n",
       "  } else {\n",
       "    var attempts = 0;\n",
       "    var timer = setInterval(function(root) {\n",
       "      if (root.Bokeh !== undefined && root.Bokeh.Panel !== undefined) {\n",
       "        clearInterval(timer);\n",
       "        embed_document(root);\n",
       "      } else if (document.readyState == \"complete\") {\n",
       "        attempts++;\n",
       "        if (attempts > 100) {\n",
       "          clearInterval(timer);\n",
       "          console.log(\"Bokeh: ERROR: Unable to run BokehJS code because BokehJS library is missing\");\n",
       "        }\n",
       "      }\n",
       "    }, 10, root)\n",
       "  }\n",
       "})(window);</script>"
      ],
      "text/plain": [
       "Alert(str, alert_type='info', css_classes=['alert', 'alert-info'], margin=(0, 0, 25, 0), sizing_mode='stretch_width')"
      ]
     },
     "metadata": {
      "application/vnd.holoviews_exec.v0+json": {
       "id": "1082"
      }
     },
     "output_type": "display_data"
    }
   ],
   "source": [
    "copy_cluster(output_assembly_contigs,output_clustering_dir)\n",
    "### ADD logger"
   ]
  },
  {
   "cell_type": "code",
   "execution_count": 8,
   "metadata": {},
   "outputs": [
    {
     "data": {},
     "metadata": {},
     "output_type": "display_data"
    },
    {
     "data": {
      "application/vnd.holoviews_exec.v0+json": "",
      "text/html": [
       "<div id='1011'>\n",
       "\n",
       "\n",
       "\n",
       "\n",
       "\n",
       "  <div class=\"bk-root\" id=\"e83a807d-c703-42d5-8cef-2f0516bc4d03\" data-root-id=\"1011\"></div>\n",
       "</div>\n",
       "<script type=\"application/javascript\">(function(root) {\n",
       "  function embed_document(root) {\n",
       "    var docs_json = {\"89c9f83c-5ad0-4cfa-9268-ff2b969a0fc0\":{\"defs\":[{\"extends\":null,\"module\":null,\"name\":\"DataModel\",\"overrides\":[],\"properties\":[]}],\"roots\":{\"references\":[{\"attributes\":{\"css_classes\":[\"alert\",\"alert-secondary\",\"markdown\"],\"margin\":[0,0,25,0],\"name\":\"Alert00116\",\"sizing_mode\":\"stretch_width\",\"text\":\"&lt;p&gt;Merging all contigs from each sample into one file&amp;hellip; on progress&lt;/p&gt;\"},\"id\":\"1011\",\"type\":\"panel.models.markup.HTML\"},{\"attributes\":{\"client_comm_id\":\"9ab85f78b96b4c8fb060510e15a6e512\",\"comm_id\":\"94573ce42f464386939b667812d5624a\",\"plot_id\":\"1011\"},\"id\":\"1012\",\"type\":\"panel.models.comm_manager.CommManager\"}],\"root_ids\":[\"1011\",\"1012\"]},\"title\":\"Bokeh Application\",\"version\":\"2.3.0\"}};\n",
       "    var render_items = [{\"docid\":\"89c9f83c-5ad0-4cfa-9268-ff2b969a0fc0\",\"root_ids\":[\"1011\"],\"roots\":{\"1011\":\"e83a807d-c703-42d5-8cef-2f0516bc4d03\"}}];\n",
       "    root.Bokeh.embed.embed_items_notebook(docs_json, render_items);\n",
       "  }\n",
       "  if (root.Bokeh !== undefined && root.Bokeh.Panel !== undefined) {\n",
       "    embed_document(root);\n",
       "  } else {\n",
       "    var attempts = 0;\n",
       "    var timer = setInterval(function(root) {\n",
       "      if (root.Bokeh !== undefined && root.Bokeh.Panel !== undefined) {\n",
       "        clearInterval(timer);\n",
       "        embed_document(root);\n",
       "      } else if (document.readyState == \"complete\") {\n",
       "        attempts++;\n",
       "        if (attempts > 100) {\n",
       "          clearInterval(timer);\n",
       "          console.log(\"Bokeh: ERROR: Unable to run BokehJS code because BokehJS library is missing\");\n",
       "        }\n",
       "      }\n",
       "    }, 10, root)\n",
       "  }\n",
       "})(window);</script>"
      ],
      "text/plain": [
       "Alert(str, alert_type='secondary', css_classes=['alert', 'alert-secondary...], margin=(0, 0, 25, 0), sizing_mode='stretch_width')"
      ]
     },
     "metadata": {
      "application/vnd.holoviews_exec.v0+json": {
       "id": "1011"
      }
     },
     "output_type": "display_data"
    },
    {
     "data": {},
     "metadata": {},
     "output_type": "display_data"
    },
    {
     "data": {
      "application/vnd.holoviews_exec.v0+json": "",
      "text/html": [
       "<div id='1013'>\n",
       "\n",
       "\n",
       "\n",
       "\n",
       "\n",
       "  <div class=\"bk-root\" id=\"be9c4164-c085-494b-9ee4-9e5f3a3ffa2d\" data-root-id=\"1013\"></div>\n",
       "</div>\n",
       "<script type=\"application/javascript\">(function(root) {\n",
       "  function embed_document(root) {\n",
       "    var docs_json = {\"96951dbd-3c5d-41a1-89cb-5c6fde2082f6\":{\"defs\":[{\"extends\":null,\"module\":null,\"name\":\"DataModel\",\"overrides\":[],\"properties\":[]}],\"roots\":{\"references\":[{\"attributes\":{\"client_comm_id\":\"c9a6583af8c0459697580a3f1295f7d3\",\"comm_id\":\"d0b09de0d8fd42a98ceed360c366d6eb\",\"plot_id\":\"1013\"},\"id\":\"1014\",\"type\":\"panel.models.comm_manager.CommManager\"},{\"attributes\":{\"css_classes\":[\"alert\",\"alert-success\",\"markdown\"],\"margin\":[0,0,25,0],\"name\":\"Alert00120\",\"sizing_mode\":\"stretch_width\",\"text\":\"&lt;p&gt;fasta file succesfully done /home/christine/Documents/These/Book/yapluka/PANTOUM/frangiPANe_rice3/03-clustering/rice3allContigs.fa&lt;/p&gt;\"},\"id\":\"1013\",\"type\":\"panel.models.markup.HTML\"}],\"root_ids\":[\"1013\",\"1014\"]},\"title\":\"Bokeh Application\",\"version\":\"2.3.0\"}};\n",
       "    var render_items = [{\"docid\":\"96951dbd-3c5d-41a1-89cb-5c6fde2082f6\",\"root_ids\":[\"1013\"],\"roots\":{\"1013\":\"be9c4164-c085-494b-9ee4-9e5f3a3ffa2d\"}}];\n",
       "    root.Bokeh.embed.embed_items_notebook(docs_json, render_items);\n",
       "  }\n",
       "  if (root.Bokeh !== undefined && root.Bokeh.Panel !== undefined) {\n",
       "    embed_document(root);\n",
       "  } else {\n",
       "    var attempts = 0;\n",
       "    var timer = setInterval(function(root) {\n",
       "      if (root.Bokeh !== undefined && root.Bokeh.Panel !== undefined) {\n",
       "        clearInterval(timer);\n",
       "        embed_document(root);\n",
       "      } else if (document.readyState == \"complete\") {\n",
       "        attempts++;\n",
       "        if (attempts > 100) {\n",
       "          clearInterval(timer);\n",
       "          console.log(\"Bokeh: ERROR: Unable to run BokehJS code because BokehJS library is missing\");\n",
       "        }\n",
       "      }\n",
       "    }, 10, root)\n",
       "  }\n",
       "})(window);</script>"
      ],
      "text/plain": [
       "Alert(str, alert_type='success', css_classes=['alert', 'alert-success']...], margin=(0, 0, 25, 0), sizing_mode='stretch_width')"
      ]
     },
     "metadata": {
      "application/vnd.holoviews_exec.v0+json": {
       "id": "1013"
      }
     },
     "output_type": "display_data"
    }
   ],
   "source": [
    "merged_contigs = output_clustering_dir+project_name+\"allContigs.fa\"    \n",
    "merging_cluster(output_clustering_dir,merged_contigs)\n",
    "\n",
    "# TODO CD : CHECK NB SEQUENCE OK ET PRINT DANS LE MSG + add logger"
   ]
  },
  {
   "cell_type": "markdown",
   "metadata": {},
   "source": [
    "#### __Run clustering__\n"
   ]
  },
  {
   "cell_type": "code",
   "execution_count": 34,
   "metadata": {},
   "outputs": [
    {
     "data": {},
     "metadata": {},
     "output_type": "display_data"
    },
    {
     "data": {
      "application/vnd.holoviews_exec.v0+json": "",
      "text/html": [
       "<div id='1715'>\n",
       "\n",
       "\n",
       "\n",
       "\n",
       "\n",
       "  <div class=\"bk-root\" id=\"b37cf984-331d-4026-af00-8e46693ea2dc\" data-root-id=\"1715\"></div>\n",
       "</div>\n",
       "<script type=\"application/javascript\">(function(root) {\n",
       "  function embed_document(root) {\n",
       "    var docs_json = {\"4e3c829f-2c1e-4c52-b5a4-af0dfe96403f\":{\"defs\":[{\"extends\":null,\"module\":null,\"name\":\"DataModel\",\"overrides\":[],\"properties\":[]}],\"roots\":{\"references\":[{\"attributes\":{\"client_comm_id\":\"c196040b2a984bac8ef5cb4ce3c77bf2\",\"comm_id\":\"19613d38e4304a7688a02f7422868cce\",\"plot_id\":\"1715\"},\"id\":\"1716\",\"type\":\"panel.models.comm_manager.CommManager\"},{\"attributes\":{\"css_classes\":[\"alert\",\"alert-secondary\",\"markdown\"],\"margin\":[0,0,25,0],\"name\":\"Alert01501\",\"sizing_mode\":\"stretch_width\",\"text\":\"&lt;p&gt;Clustering all contigs with cdhit-est.. on progress&lt;/p&gt;\"},\"id\":\"1715\",\"type\":\"panel.models.markup.HTML\"}],\"root_ids\":[\"1715\",\"1716\"]},\"title\":\"Bokeh Application\",\"version\":\"2.3.0\"}};\n",
       "    var render_items = [{\"docid\":\"4e3c829f-2c1e-4c52-b5a4-af0dfe96403f\",\"root_ids\":[\"1715\"],\"roots\":{\"1715\":\"b37cf984-331d-4026-af00-8e46693ea2dc\"}}];\n",
       "    root.Bokeh.embed.embed_items_notebook(docs_json, render_items);\n",
       "  }\n",
       "  if (root.Bokeh !== undefined && root.Bokeh.Panel !== undefined) {\n",
       "    embed_document(root);\n",
       "  } else {\n",
       "    var attempts = 0;\n",
       "    var timer = setInterval(function(root) {\n",
       "      if (root.Bokeh !== undefined && root.Bokeh.Panel !== undefined) {\n",
       "        clearInterval(timer);\n",
       "        embed_document(root);\n",
       "      } else if (document.readyState == \"complete\") {\n",
       "        attempts++;\n",
       "        if (attempts > 100) {\n",
       "          clearInterval(timer);\n",
       "          console.log(\"Bokeh: ERROR: Unable to run BokehJS code because BokehJS library is missing\");\n",
       "        }\n",
       "      }\n",
       "    }, 10, root)\n",
       "  }\n",
       "})(window);</script>"
      ],
      "text/plain": [
       "Alert(str, alert_type='secondary', css_classes=['alert', 'alert-secondary...], margin=(0, 0, 25, 0), sizing_mode='stretch_width')"
      ]
     },
     "metadata": {
      "application/vnd.holoviews_exec.v0+json": {
       "id": "1715"
      }
     },
     "output_type": "display_data"
    },
    {
     "data": {},
     "metadata": {},
     "output_type": "display_data"
    },
    {
     "data": {
      "application/vnd.holoviews_exec.v0+json": "",
      "text/html": [
       "<div id='1717'>\n",
       "\n",
       "\n",
       "\n",
       "\n",
       "\n",
       "  <div class=\"bk-root\" id=\"15e1a313-28d8-4637-8029-f06c12dd0ed0\" data-root-id=\"1717\"></div>\n",
       "</div>\n",
       "<script type=\"application/javascript\">(function(root) {\n",
       "  function embed_document(root) {\n",
       "    var docs_json = {\"ba4c61ea-02c8-45f3-b9ee-5a5f1691206d\":{\"defs\":[{\"extends\":null,\"module\":null,\"name\":\"DataModel\",\"overrides\":[],\"properties\":[]}],\"roots\":{\"references\":[{\"attributes\":{\"css_classes\":[\"alert\",\"alert-success\",\"markdown\"],\"margin\":[0,0,25,0],\"name\":\"Alert01505\",\"sizing_mode\":\"stretch_width\",\"text\":\"&lt;p&gt;Clustering successfully done !&lt;/p&gt;\"},\"id\":\"1717\",\"type\":\"panel.models.markup.HTML\"},{\"attributes\":{\"client_comm_id\":\"77cb2a5d0da34fb8bf116981a831ac48\",\"comm_id\":\"c4c00a0a67774e56926de6f92920b5f7\",\"plot_id\":\"1717\"},\"id\":\"1718\",\"type\":\"panel.models.comm_manager.CommManager\"}],\"root_ids\":[\"1717\",\"1718\"]},\"title\":\"Bokeh Application\",\"version\":\"2.3.0\"}};\n",
       "    var render_items = [{\"docid\":\"ba4c61ea-02c8-45f3-b9ee-5a5f1691206d\",\"root_ids\":[\"1717\"],\"roots\":{\"1717\":\"15e1a313-28d8-4637-8029-f06c12dd0ed0\"}}];\n",
       "    root.Bokeh.embed.embed_items_notebook(docs_json, render_items);\n",
       "  }\n",
       "  if (root.Bokeh !== undefined && root.Bokeh.Panel !== undefined) {\n",
       "    embed_document(root);\n",
       "  } else {\n",
       "    var attempts = 0;\n",
       "    var timer = setInterval(function(root) {\n",
       "      if (root.Bokeh !== undefined && root.Bokeh.Panel !== undefined) {\n",
       "        clearInterval(timer);\n",
       "        embed_document(root);\n",
       "      } else if (document.readyState == \"complete\") {\n",
       "        attempts++;\n",
       "        if (attempts > 100) {\n",
       "          clearInterval(timer);\n",
       "          console.log(\"Bokeh: ERROR: Unable to run BokehJS code because BokehJS library is missing\");\n",
       "        }\n",
       "      }\n",
       "    }, 10, root)\n",
       "  }\n",
       "})(window);</script>"
      ],
      "text/plain": [
       "Alert(str, alert_type='success', css_classes=['alert', 'alert-success']...], margin=(0, 0, 25, 0), sizing_mode='stretch_width')"
      ]
     },
     "metadata": {
      "application/vnd.holoviews_exec.v0+json": {
       "id": "1717"
      }
     },
     "output_type": "display_data"
    }
   ],
   "source": [
    "cdhit_fasta = output_clustering_dir+project_name+\"clusters.cdhit\"  \n",
    "cdhit(merged_contigs,0.8,0.95, cdhit_fasta, logger)"
   ]
  },
  {
   "cell_type": "markdown",
   "metadata": {},
   "source": [
    "#### __Analyzing cdhit results__"
   ]
  },
  {
   "cell_type": "code",
   "execution_count": 10,
   "metadata": {},
   "outputs": [],
   "source": [
    "cdhit_fasta = output_clustering_dir+project_name+\"clusters.cdhit\"  \n",
    "cdhit_cluster = cdhit_fasta + \".clstr\"\n",
    "cdhit_csv=cdhit_fasta + \".csv\"\n",
    "df_cdhit=parse_cdhit(cdhit_cluster, df_group, cdhit_csv)"
   ]
  },
  {
   "cell_type": "markdown",
   "metadata": {},
   "source": [
    "#### __Dasboard__\n"
   ]
  },
  {
   "cell_type": "code",
   "execution_count": 11,
   "metadata": {},
   "outputs": [
    {
     "data": {},
     "metadata": {},
     "output_type": "display_data"
    },
    {
     "data": {
      "application/vnd.holoviews_exec.v0+json": "",
      "text/html": [
       "<div id='1015'>\n",
       "\n",
       "\n",
       "\n",
       "\n",
       "\n",
       "  <div class=\"bk-root\" id=\"cc6dd142-1a0b-4580-95dd-7341ee7ab7f2\" data-root-id=\"1015\"></div>\n",
       "</div>\n",
       "<script type=\"application/javascript\">(function(root) {\n",
       "  function embed_document(root) {\n",
       "    var docs_json = {\"85317276-44b0-48b7-8ca4-74f43a2e8340\":{\"defs\":[{\"extends\":null,\"module\":null,\"name\":\"DataModel\",\"overrides\":[],\"properties\":[]}],\"roots\":{\"references\":[{\"attributes\":{\"css_classes\":[\"markdown\"],\"margin\":[5,5,5,5],\"name\":\"Markdown00126\",\"text\":\"&lt;h3&gt;6020 clusters&lt;/h3&gt;\\n&lt;ul&gt;\\n&lt;li&gt;min - max length : 64 bp - 25823 bp&lt;/li&gt;\\n&lt;li&gt;mean length : 285&lt;/li&gt;\\n&lt;li&gt;from 2 to  336&lt;/li&gt;\\n&lt;li&gt;with ~ 4 sequences&lt;/li&gt;\\n&lt;/ul&gt;\"},\"id\":\"1019\",\"type\":\"panel.models.markup.HTML\"},{\"attributes\":{\"height\":360,\"margin\":[5,5,5,5],\"name\":\"Matplotlib00137\",\"text\":\"&lt;img src=&quot;data:image/png;base64,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&quot; width=&quot;720px&quot; height=&quot;360px&quot; alt=&quot;&quot;&gt;&lt;/img&gt;\",\"width\":720},\"id\":\"1023\",\"type\":\"panel.models.markup.HTML\"},{\"attributes\":{\"css_classes\":[\"markdown\"],\"margin\":[5,5,5,5],\"name\":\"Markdown00128\",\"text\":\"&lt;h3&gt;32961 singletons&lt;/h3&gt;\\n&lt;ul&gt;\\n&lt;li&gt;min - max length : 64 bp -  23869 bp&lt;/li&gt;\\n&lt;li&gt;mean length : 520 bp&lt;/li&gt;\\n&lt;/ul&gt;\"},\"id\":\"1020\",\"type\":\"panel.models.markup.HTML\"},{\"attributes\":{\"client_comm_id\":\"8e50aa23ee68498580a553db5b864a7a\",\"comm_id\":\"9abdcb543897439f89661c261ffc508b\",\"plot_id\":\"1015\"},\"id\":\"1024\",\"type\":\"panel.models.comm_manager.CommManager\"},{\"attributes\":{\"height\":360,\"margin\":[5,5,5,5],\"name\":\"Matplotlib00133\",\"text\":\"&lt;img src=&quot;data:image/png;base64,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&quot; width=&quot;720px&quot; height=&quot;360px&quot; alt=&quot;&quot;&gt;&lt;/img&gt;\",\"width\":720},\"id\":\"1021\",\"type\":\"panel.models.markup.HTML\"},{\"attributes\":{\"css_classes\":[\"markdown\"],\"margin\":[5,5,5,5],\"name\":\"Markdown00124\",\"text\":\"&lt;h3&gt;38981 sequences&lt;/h3&gt;\\n&lt;ul&gt;\\n&lt;li&gt;min -  max length : 64 bp - 25823 bp&lt;/li&gt;\\n&lt;li&gt;mean length : 484 bp&lt;/li&gt;\\n&lt;/ul&gt;\"},\"id\":\"1017\",\"type\":\"panel.models.markup.HTML\"},{\"attributes\":{\"background\":\"WhiteSmoke\",\"children\":[{\"id\":\"1016\"},{\"id\":\"1017\"},{\"id\":\"1018\"},{\"id\":\"1021\"},{\"id\":\"1022\"},{\"id\":\"1023\"}],\"margin\":[0,0,0,0],\"name\":\"Column00139\",\"sizing_mode\":\"stretch_both\",\"width\":800},\"id\":\"1015\",\"type\":\"Column\"},{\"attributes\":{\"height\":360,\"margin\":[5,5,5,5],\"name\":\"Matplotlib00135\",\"text\":\"&lt;img src=&quot;data:image/png;base64,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&quot; width=&quot;720px&quot; height=&quot;360px&quot; alt=&quot;&quot;&gt;&lt;/img&gt;\",\"width\":720},\"id\":\"1022\",\"type\":\"panel.models.markup.HTML\"},{\"attributes\":{\"css_classes\":[\"markdown\"],\"margin\":[5,5,5,5],\"name\":\"Markdown00131\",\"text\":\"&lt;h1&gt;Some statistics about clustering step&lt;/h1&gt;\"},\"id\":\"1016\",\"type\":\"panel.models.markup.HTML\"},{\"attributes\":{\"children\":[{\"id\":\"1019\"},{\"id\":\"1020\"}],\"margin\":[0,0,0,0],\"name\":\"Row00130\"},\"id\":\"1018\",\"type\":\"Row\"}],\"root_ids\":[\"1015\",\"1024\"]},\"title\":\"Bokeh Application\",\"version\":\"2.3.0\"}};\n",
       "    var render_items = [{\"docid\":\"85317276-44b0-48b7-8ca4-74f43a2e8340\",\"root_ids\":[\"1015\"],\"roots\":{\"1015\":\"cc6dd142-1a0b-4580-95dd-7341ee7ab7f2\"}}];\n",
       "    root.Bokeh.embed.embed_items_notebook(docs_json, render_items);\n",
       "  }\n",
       "  if (root.Bokeh !== undefined && root.Bokeh.Panel !== undefined) {\n",
       "    embed_document(root);\n",
       "  } else {\n",
       "    var attempts = 0;\n",
       "    var timer = setInterval(function(root) {\n",
       "      if (root.Bokeh !== undefined && root.Bokeh.Panel !== undefined) {\n",
       "        clearInterval(timer);\n",
       "        embed_document(root);\n",
       "      } else if (document.readyState == \"complete\") {\n",
       "        attempts++;\n",
       "        if (attempts > 100) {\n",
       "          clearInterval(timer);\n",
       "          console.log(\"Bokeh: ERROR: Unable to run BokehJS code because BokehJS library is missing\");\n",
       "        }\n",
       "      }\n",
       "    }, 10, root)\n",
       "  }\n",
       "})(window);</script>"
      ],
      "text/plain": [
       "Column(background='WhiteSmoke', sizing_mode='stretch_both', width=800)\n",
       "    [0] Markdown(str)\n",
       "    [1] Markdown(str)\n",
       "    [2] Row\n",
       "        [0] Markdown(str)\n",
       "        [1] Markdown(str)\n",
       "    [3] Matplotlib(Figure)\n",
       "    [4] Matplotlib(Figure)\n",
       "    [5] Matplotlib(Figure)"
      ]
     },
     "metadata": {
      "application/vnd.holoviews_exec.v0+json": {
       "id": "1015"
      }
     },
     "output_type": "display_data"
    }
   ],
   "source": [
    "dashboard_cdhit(df_cdhit)"
   ]
  },
  {
   "cell_type": "markdown",
   "metadata": {},
   "source": [
    "[<img src=\"Images/up-arrow.png\" alt=\"Top\" width=2% align=\"right\">](#home \"Go back to the top\")\n",
    "    \n",
    "### <span style=\"color: #919395\"> 6 - Anchoring Clusters on Reference Genome<a class=\"anchor\" id=\"anchoring\"></a></span>\n",
    "\n",
    "#### __Generating panreference__\n",
    "\n",
    "#### __Mapping against panreference__\n",
    "\n",
    "#### __Anchoring contigs on reference genome__\n",
    "\n",
    "#### __Panreference dashboard__\n",
    "\n",
    "---\n"
   ]
  }
 ],
 "metadata": {
  "hide_input": false,
  "kernelspec": {
   "display_name": "Python 3 (ipykernel)",
   "language": "python",
   "name": "python3"
  },
  "language_info": {
   "codemirror_mode": {
    "name": "ipython",
    "version": 3
   },
   "file_extension": ".py",
   "mimetype": "text/x-python",
   "name": "python",
   "nbconvert_exporter": "python",
   "pygments_lexer": "ipython3",
   "version": "3.9.7"
  }
 },
 "nbformat": 4,
 "nbformat_minor": 4
}
