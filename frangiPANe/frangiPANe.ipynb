{
 "cells": [
  {
   "cell_type": "markdown",
   "metadata": {},
   "source": [
    "<a class=\"anchor\" id=\"home\"><img src=\"Images/frangiPANe.png\" width=50% align=right></a>"
   ]
  },
  {
   "cell_type": "markdown",
   "metadata": {},
   "source": [
    "***\n",
    "\n",
    "# <span style=\"color: #3987C4;\">Table of contents</span>\n",
    "<a class=\"anchor\" id=\"home\"></a>\n",
    "\n",
    "[I - What is frangiPANe?](#whatabout)\n",
    "\n",
    "* [Map-then-assembly approach](#approach)\n",
    "* [Requirements](#requirements)\n",
    "* [Data test](#datatest)\n",
    "* [License](#license)\n",
    "    \n",
    "[II - Preparing frangiPANe analysis](#howtoconfigure)\n",
    "* [Import python packages used by frangiPANe](#importpackages)\n",
    "* [Definition of input data used by frangiPANe workflow](#configinput)\n",
    "* [Creating frangiPANe output directory](#outputdir)\n",
    "* [Creating log file](#logfile)\n",
    "* [Preparing Genome Reference for next analysis](#reference)\n",
    "* [Analyzing Group File](#group)\n",
    "    \n",
    "[III - Workflow](#workflow)\n",
    "* [1 - Stats about raw data](#rawdata)\n",
    "* [2 - Mapping the individuals reads against the reference genome](#mapping)\n",
    "* [3 - Assembly of the individuals' reads that do not map (properly paired) on the reference genome](#assembly)\n",
    "* [4 - Removing Contamination](#contamination)\n",
    "* [5 - Reducing Sequence Redundancy](#redundancy)\n",
    "* [6 - Anchoring Clusters on reference genome](#anchoring)\n",
    "\n",
    "***\n",
    "\n",
    "[<img src=\"Images/up-arrow.png\" alt=\"Top\" width=2% align=\"right\">](#home \"Go back to the top\")\n",
    "\n",
    "# <span style=\"color: #3987C4;\"> I - What is frangiPANe ?  <a class=\"anchor\" id=\"whatabout\"></a></span>\n",
    "\n",
    "This tool allows the generation of a linear panreference, from paired-end short-reads and a reference genome using a Map-Then-Assembly approach.\n",
    "\n",
    "<img src=\"Images/frangiPANe_overview.jpg\" width=70%>\n",
    "\n",
    "### <span style=\"color: #919395\"> _Map-then-assembly approach_ <a class=\"anchor\" id=\"approach\"></a></span>\n",
    "\n",
    "<img src=\"Images/approachMapThenAssembly.jpg\" width=80%>\n",
    "\n",
    "### <span style=\"color: #919395\"> _Data test_ <a class=\"anchor\" id=\"datatest\"></a></span>\n",
    "\n",
    "<details>\n",
    "\n",
    "\n",
    "#### __Rice__ \n",
    "\n",
    "##### _Illumina sequenced dataset_\n",
    "\n",
    "3 African Rice whole-genome sequences (Cubry and al., 2018) were used (paired-end illumina, 2x101bp, ~35X) :\n",
    "\n",
    "* AA, _O. barthii_ (African Rice wild)\n",
    "* AB, _O. barthii_ (African Rice wild)\n",
    "* DT, _O. glaberrima_ (African Rice cultivated)\n",
    "\n",
    "><sub><sup>Cubry P, Tranchant-Dubreuil C, Thuillet AC, Monat C, Ndjiondjop MN, Labadie K, Cruaud C, Engelen S, Scarcelli N, Rhoné B, Burgarella C, Dupuy C, Larmande P, Wincker P, François O, Sabot F, Vigouroux Y. The Rise and Fall of African Rice Cultivation Revealed by Analysis of 246 New Genomes. Curr Biol. 2018 Jul 23;28(14):2274-2282.e6. doi: 10.1016/j.cub.2018.05.066. Epub 2018 Jul 5. PMID: 29983312.</sub></sup>\n",
    "\n",
    "##### _Genome Reference_\n",
    "\n",
    "_Oryza glaberrima_ (OMAPv2 sequence, ref)\n",
    "\n",
    "</details>\n",
    "\n",
    "### <span style=\"color: #919395\">_Requirements_ <a class=\"anchor\" id=\"requirements\"></a></span>\n",
    "\n",
    "<details>\n",
    "\n",
    "* python version\n",
    "\n",
    "* Python modules used\n",
    "    * os, io, subprocess\n",
    "    * Ipython\n",
    "    * ipywidgets\n",
    "    * trailets\n",
    "    * tkinter\n",
    "    * numpy, pandas\n",
    "    * matplotlib\n",
    "    * seaborn\n",
    "    * panel\n",
    "    \n",
    "* Bioinformatics software (version)\n",
    "    * ea-utils (fastq-stats [doc] (https://expressionanalysis.github.io/ea-utils/)] : Command-line tools for processing biological sequencing data. \n",
    "    * BWA [[doc](http://bio-bwa.sourceforge.net/bwa.shtml), [github](https://github.com/lh3/bwa)] : software package for mapping DNA sequences against a large reference genome\n",
    "    * Samtools [[doc](http://www.htslib.org/doc/samtools.html)] : suite of programs for interacting with high-throughput sequencing data : http://www.htslib.org/download/\n",
    "    * ABySS [[github](https://github.com/bcgsc/abyss)] : de novo sequence assembler intended for short paired-end reads and large genomes\n",
    "    * assembly-stats [[github](https://github.com/sanger-pathogens/assembly-stats)] \n",
    "    * cd_hit [[github](https://github.com/weizhongli/cdhit/blob/master/doc/cdhit-user-guide.wiki)]\n",
    "\n",
    "</details>\n",
    "\n",
    "### <span style=\"color: #919395\">_License_ <a class=\"anchor\" id=\"license\"></a></span>\n",
    "\n",
    "* Licencied under CeCill-C (http://www.cecill.info/licences/Licence_CeCILL-C_V1-en.html) and GPLv3\n",
    "* Intellectual property belongs to IRD, ... and SouthGreen development platform\n",
    "* Written by Clothilde Chenal and Christine Tranchant-Dubreuil\n",
    "* Copyright 2021"
   ]
  },
  {
   "cell_type": "markdown",
   "metadata": {},
   "source": [
    "from IPython.display import Javascript\n",
    "Javascript(\"Jupyter.notebook.execute_cells([2])\")nts/These/frangiPANeGIT/ricents/These/frangiPANeGIT/ricents/These/frangiPANeGIT/rice***\n",
    "\n",
    "[<img src=\"Images/up-arrow.png\" alt=\"Top\" width=2% align=\"right\">](#home \"Go back to the top\")\n",
    "\n",
    "# <span style=\"color: #3987C4;\">II - Preparing frangiPANe analysis <a class=\"anchor\" id=\"howtoconfigure\"></a></span>\n",
    "\n",
    "### <span style=\"color: #919395\"> _Import python packages used by frangiPANe_ </span>"
   ]
  },
  {
   "cell_type": "code",
   "execution_count": 1,
   "metadata": {
    "tags": [
     "plotcell"
    ]
   },
   "outputs": [
    {
     "data": {
      "application/javascript": [
       "\n",
       "(function(root) {\n",
       "  function now() {\n",
       "    return new Date();\n",
       "  }\n",
       "\n",
       "  var force = true;\n",
       "\n",
       "  if (typeof root._bokeh_onload_callbacks === \"undefined\" || force === true) {\n",
       "    root._bokeh_onload_callbacks = [];\n",
       "    root._bokeh_is_loading = undefined;\n",
       "  }\n",
       "\n",
       "  if (typeof (root._bokeh_timeout) === \"undefined\" || force === true) {\n",
       "    root._bokeh_timeout = Date.now() + 5000;\n",
       "    root._bokeh_failed_load = false;\n",
       "  }\n",
       "\n",
       "  function run_callbacks() {\n",
       "    try {\n",
       "      root._bokeh_onload_callbacks.forEach(function(callback) {\n",
       "        if (callback != null)\n",
       "          callback();\n",
       "      });\n",
       "    } finally {\n",
       "      delete root._bokeh_onload_callbacks\n",
       "    }\n",
       "    console.debug(\"Bokeh: all callbacks have finished\");\n",
       "  }\n",
       "\n",
       "  function load_libs(css_urls, js_urls, js_modules, callback) {\n",
       "    if (css_urls == null) css_urls = [];\n",
       "    if (js_urls == null) js_urls = [];\n",
       "    if (js_modules == null) js_modules = [];\n",
       "\n",
       "    root._bokeh_onload_callbacks.push(callback);\n",
       "    if (root._bokeh_is_loading > 0) {\n",
       "      console.debug(\"Bokeh: BokehJS is being loaded, scheduling callback at\", now());\n",
       "      return null;\n",
       "    }\n",
       "    if (js_urls.length === 0 && js_modules.length === 0) {\n",
       "      run_callbacks();\n",
       "      return null;\n",
       "    }\n",
       "    console.debug(\"Bokeh: BokehJS not loaded, scheduling load and callback at\", now());\n",
       "    root._bokeh_is_loading = css_urls.length + js_urls.length + js_modules.length;\n",
       "\n",
       "    function on_load() {\n",
       "      root._bokeh_is_loading--;\n",
       "      if (root._bokeh_is_loading === 0) {\n",
       "        console.debug(\"Bokeh: all BokehJS libraries/stylesheets loaded\");\n",
       "        run_callbacks()\n",
       "      }\n",
       "    }\n",
       "\n",
       "    function on_error() {\n",
       "      console.error(\"failed to load \" + url);\n",
       "    }\n",
       "\n",
       "    for (var i = 0; i < css_urls.length; i++) {\n",
       "      var url = css_urls[i];\n",
       "      const element = document.createElement(\"link\");\n",
       "      element.onload = on_load;\n",
       "      element.onerror = on_error;\n",
       "      element.rel = \"stylesheet\";\n",
       "      element.type = \"text/css\";\n",
       "      element.href = url;\n",
       "      console.debug(\"Bokeh: injecting link tag for BokehJS stylesheet: \", url);\n",
       "      document.body.appendChild(element);\n",
       "    }\n",
       "\n",
       "    var skip = [];\n",
       "    if (window.requirejs) {\n",
       "      window.requirejs.config({'paths': {'tabulator': 'https://unpkg.com/tabulator-tables@4.9.3/dist/js/tabulator'}});\n",
       "      require([\"tabulator\"], function(Tabulator,) {\n",
       "        window.Tabulator = Tabulator;\n",
       "      })\n",
       "    }\n",
       "    if (((window['tabulator'] !== undefined) && (!(window['tabulator'] instanceof HTMLElement))) || window.requirejs) {\n",
       "      var urls = ['https://unpkg.com/tabulator-tables@4.9.3/dist/js/tabulator.js', 'https://unpkg.com/moment@2.27.0/moment.js'];\n",
       "      for (var i = 0; i < urls.length; i++) {\n",
       "        skip.push(urls[i])\n",
       "      }\n",
       "    }\n",
       "    for (var i = 0; i < js_urls.length; i++) {\n",
       "      var url = js_urls[i];\n",
       "      if (skip.indexOf(url) >= 0) { on_load(); continue; }\n",
       "      var element = document.createElement('script');\n",
       "      element.onload = on_load;\n",
       "      element.onerror = on_error;\n",
       "      element.async = false;\n",
       "      element.src = url;\n",
       "      console.debug(\"Bokeh: injecting script tag for BokehJS library: \", url);\n",
       "      document.head.appendChild(element);\n",
       "    }\n",
       "    for (var i = 0; i < js_modules.length; i++) {\n",
       "      var url = js_modules[i];\n",
       "      if (skip.indexOf(url) >= 0) { on_load(); continue; }\n",
       "      var element = document.createElement('script');\n",
       "      element.onload = on_load;\n",
       "      element.onerror = on_error;\n",
       "      element.async = false;\n",
       "      element.src = url;\n",
       "      element.type = \"module\";\n",
       "      console.debug(\"Bokeh: injecting script tag for BokehJS library: \", url);\n",
       "      document.head.appendChild(element);\n",
       "    }\n",
       "    if (!js_urls.length && !js_modules.length) {\n",
       "      on_load()\n",
       "    }\n",
       "  };\n",
       "\n",
       "  function inject_raw_css(css) {\n",
       "    const element = document.createElement(\"style\");\n",
       "    element.appendChild(document.createTextNode(css));\n",
       "    document.body.appendChild(element);\n",
       "  }\n",
       "\n",
       "  var js_urls = [\"https://unpkg.com/tabulator-tables@4.9.3/dist/js/tabulator.js\", \"https://unpkg.com/moment@2.27.0/moment.js\", \"https://cdn.bokeh.org/bokeh/release/bokeh-2.3.3.min.js\", \"https://cdn.bokeh.org/bokeh/release/bokeh-widgets-2.3.3.min.js\", \"https://cdn.bokeh.org/bokeh/release/bokeh-tables-2.3.3.min.js\", \"https://unpkg.com/@holoviz/panel@0.11.1/dist/panel.min.js\"];\n",
       "  var js_modules = [];\n",
       "  var css_urls = [\"https://unpkg.com/tabulator-tables@4.9.3/dist/css/tabulator_simple.min.css\", \"https://unpkg.com/@holoviz/panel@0.11.1/dist/css/widgets.css\", \"https://unpkg.com/@holoviz/panel@0.11.1/dist/css/loading.css\", \"https://unpkg.com/@holoviz/panel@0.11.1/dist/css/dataframe.css\", \"https://unpkg.com/@holoviz/panel@0.11.1/dist/css/alerts.css\", \"https://unpkg.com/@holoviz/panel@0.11.1/dist/css/markdown.css\", \"https://unpkg.com/@holoviz/panel@0.11.1/dist/css/json.css\", \"https://unpkg.com/@holoviz/panel@0.11.1/dist/css/card.css\"];\n",
       "  var inline_js = [\n",
       "    function(Bokeh) {\n",
       "      inject_raw_css(\"\\n    .bk.pn-loading.arcs:before {\\n      background-image: url(\\\"data:image/svg+xml;base64,PHN2ZyB4bWxucz0iaHR0cDovL3d3dy53My5vcmcvMjAwMC9zdmciIHhtbG5zOnhsaW5rPSJodHRwOi8vd3d3LnczLm9yZy8xOTk5L3hsaW5rIiBzdHlsZT0ibWFyZ2luOiBhdXRvOyBiYWNrZ3JvdW5kOiBub25lOyBkaXNwbGF5OiBibG9jazsgc2hhcGUtcmVuZGVyaW5nOiBhdXRvOyIgdmlld0JveD0iMCAwIDEwMCAxMDAiIHByZXNlcnZlQXNwZWN0UmF0aW89InhNaWRZTWlkIj4gIDxjaXJjbGUgY3g9IjUwIiBjeT0iNTAiIHI9IjMyIiBzdHJva2Utd2lkdGg9IjgiIHN0cm9rZT0iI2MzYzNjMyIgc3Ryb2tlLWRhc2hhcnJheT0iNTAuMjY1NDgyNDU3NDM2NjkgNTAuMjY1NDgyNDU3NDM2NjkiIGZpbGw9Im5vbmUiIHN0cm9rZS1saW5lY2FwPSJyb3VuZCI+ICAgIDxhbmltYXRlVHJhbnNmb3JtIGF0dHJpYnV0ZU5hbWU9InRyYW5zZm9ybSIgdHlwZT0icm90YXRlIiByZXBlYXRDb3VudD0iaW5kZWZpbml0ZSIgZHVyPSIxcyIga2V5VGltZXM9IjA7MSIgdmFsdWVzPSIwIDUwIDUwOzM2MCA1MCA1MCI+PC9hbmltYXRlVHJhbnNmb3JtPiAgPC9jaXJjbGU+PC9zdmc+\\\")\\n    }\\n    \");\n",
       "    },\n",
       "    function(Bokeh) {\n",
       "      Bokeh.set_log_level(\"info\");\n",
       "    },\n",
       "    function(Bokeh) {} // ensure no trailing comma for IE\n",
       "  ];\n",
       "\n",
       "  function run_inline_js() {\n",
       "    if ((root.Bokeh !== undefined) || (force === true)) {\n",
       "      for (var i = 0; i < inline_js.length; i++) {\n",
       "        inline_js[i].call(root, root.Bokeh);\n",
       "      }} else if (Date.now() < root._bokeh_timeout) {\n",
       "      setTimeout(run_inline_js, 100);\n",
       "    } else if (!root._bokeh_failed_load) {\n",
       "      console.log(\"Bokeh: BokehJS failed to load within specified timeout.\");\n",
       "      root._bokeh_failed_load = true;\n",
       "    }\n",
       "  }\n",
       "\n",
       "  if (root._bokeh_is_loading === 0) {\n",
       "    console.debug(\"Bokeh: BokehJS loaded, going straight to plotting\");\n",
       "    run_inline_js();\n",
       "  } else {\n",
       "    load_libs(css_urls, js_urls, js_modules, function() {\n",
       "      console.debug(\"Bokeh: BokehJS plotting callback run at\", now());\n",
       "      run_inline_js();\n",
       "    });\n",
       "  }\n",
       "}(window));"
      ],
      "application/vnd.holoviews_load.v0+json": "\n(function(root) {\n  function now() {\n    return new Date();\n  }\n\n  var force = true;\n\n  if (typeof root._bokeh_onload_callbacks === \"undefined\" || force === true) {\n    root._bokeh_onload_callbacks = [];\n    root._bokeh_is_loading = undefined;\n  }\n\n  if (typeof (root._bokeh_timeout) === \"undefined\" || force === true) {\n    root._bokeh_timeout = Date.now() + 5000;\n    root._bokeh_failed_load = false;\n  }\n\n  function run_callbacks() {\n    try {\n      root._bokeh_onload_callbacks.forEach(function(callback) {\n        if (callback != null)\n          callback();\n      });\n    } finally {\n      delete root._bokeh_onload_callbacks\n    }\n    console.debug(\"Bokeh: all callbacks have finished\");\n  }\n\n  function load_libs(css_urls, js_urls, js_modules, callback) {\n    if (css_urls == null) css_urls = [];\n    if (js_urls == null) js_urls = [];\n    if (js_modules == null) js_modules = [];\n\n    root._bokeh_onload_callbacks.push(callback);\n    if (root._bokeh_is_loading > 0) {\n      console.debug(\"Bokeh: BokehJS is being loaded, scheduling callback at\", now());\n      return null;\n    }\n    if (js_urls.length === 0 && js_modules.length === 0) {\n      run_callbacks();\n      return null;\n    }\n    console.debug(\"Bokeh: BokehJS not loaded, scheduling load and callback at\", now());\n    root._bokeh_is_loading = css_urls.length + js_urls.length + js_modules.length;\n\n    function on_load() {\n      root._bokeh_is_loading--;\n      if (root._bokeh_is_loading === 0) {\n        console.debug(\"Bokeh: all BokehJS libraries/stylesheets loaded\");\n        run_callbacks()\n      }\n    }\n\n    function on_error() {\n      console.error(\"failed to load \" + url);\n    }\n\n    for (var i = 0; i < css_urls.length; i++) {\n      var url = css_urls[i];\n      const element = document.createElement(\"link\");\n      element.onload = on_load;\n      element.onerror = on_error;\n      element.rel = \"stylesheet\";\n      element.type = \"text/css\";\n      element.href = url;\n      console.debug(\"Bokeh: injecting link tag for BokehJS stylesheet: \", url);\n      document.body.appendChild(element);\n    }\n\n    var skip = [];\n    if (window.requirejs) {\n      window.requirejs.config({'paths': {'tabulator': 'https://unpkg.com/tabulator-tables@4.9.3/dist/js/tabulator'}});\n      require([\"tabulator\"], function(Tabulator,) {\n        window.Tabulator = Tabulator;\n      })\n    }\n    if (((window['tabulator'] !== undefined) && (!(window['tabulator'] instanceof HTMLElement))) || window.requirejs) {\n      var urls = ['https://unpkg.com/tabulator-tables@4.9.3/dist/js/tabulator.js', 'https://unpkg.com/moment@2.27.0/moment.js'];\n      for (var i = 0; i < urls.length; i++) {\n        skip.push(urls[i])\n      }\n    }\n    for (var i = 0; i < js_urls.length; i++) {\n      var url = js_urls[i];\n      if (skip.indexOf(url) >= 0) { on_load(); continue; }\n      var element = document.createElement('script');\n      element.onload = on_load;\n      element.onerror = on_error;\n      element.async = false;\n      element.src = url;\n      console.debug(\"Bokeh: injecting script tag for BokehJS library: \", url);\n      document.head.appendChild(element);\n    }\n    for (var i = 0; i < js_modules.length; i++) {\n      var url = js_modules[i];\n      if (skip.indexOf(url) >= 0) { on_load(); continue; }\n      var element = document.createElement('script');\n      element.onload = on_load;\n      element.onerror = on_error;\n      element.async = false;\n      element.src = url;\n      element.type = \"module\";\n      console.debug(\"Bokeh: injecting script tag for BokehJS library: \", url);\n      document.head.appendChild(element);\n    }\n    if (!js_urls.length && !js_modules.length) {\n      on_load()\n    }\n  };\n\n  function inject_raw_css(css) {\n    const element = document.createElement(\"style\");\n    element.appendChild(document.createTextNode(css));\n    document.body.appendChild(element);\n  }\n\n  var js_urls = [\"https://unpkg.com/tabulator-tables@4.9.3/dist/js/tabulator.js\", \"https://unpkg.com/moment@2.27.0/moment.js\", \"https://cdn.bokeh.org/bokeh/release/bokeh-2.3.3.min.js\", \"https://cdn.bokeh.org/bokeh/release/bokeh-widgets-2.3.3.min.js\", \"https://cdn.bokeh.org/bokeh/release/bokeh-tables-2.3.3.min.js\", \"https://unpkg.com/@holoviz/panel@0.11.1/dist/panel.min.js\"];\n  var js_modules = [];\n  var css_urls = [\"https://unpkg.com/tabulator-tables@4.9.3/dist/css/tabulator_simple.min.css\", \"https://unpkg.com/@holoviz/panel@0.11.1/dist/css/widgets.css\", \"https://unpkg.com/@holoviz/panel@0.11.1/dist/css/loading.css\", \"https://unpkg.com/@holoviz/panel@0.11.1/dist/css/dataframe.css\", \"https://unpkg.com/@holoviz/panel@0.11.1/dist/css/alerts.css\", \"https://unpkg.com/@holoviz/panel@0.11.1/dist/css/markdown.css\", \"https://unpkg.com/@holoviz/panel@0.11.1/dist/css/json.css\", \"https://unpkg.com/@holoviz/panel@0.11.1/dist/css/card.css\"];\n  var inline_js = [\n    function(Bokeh) {\n      inject_raw_css(\"\\n    .bk.pn-loading.arcs:before {\\n      background-image: url(\\\"data:image/svg+xml;base64,PHN2ZyB4bWxucz0iaHR0cDovL3d3dy53My5vcmcvMjAwMC9zdmciIHhtbG5zOnhsaW5rPSJodHRwOi8vd3d3LnczLm9yZy8xOTk5L3hsaW5rIiBzdHlsZT0ibWFyZ2luOiBhdXRvOyBiYWNrZ3JvdW5kOiBub25lOyBkaXNwbGF5OiBibG9jazsgc2hhcGUtcmVuZGVyaW5nOiBhdXRvOyIgdmlld0JveD0iMCAwIDEwMCAxMDAiIHByZXNlcnZlQXNwZWN0UmF0aW89InhNaWRZTWlkIj4gIDxjaXJjbGUgY3g9IjUwIiBjeT0iNTAiIHI9IjMyIiBzdHJva2Utd2lkdGg9IjgiIHN0cm9rZT0iI2MzYzNjMyIgc3Ryb2tlLWRhc2hhcnJheT0iNTAuMjY1NDgyNDU3NDM2NjkgNTAuMjY1NDgyNDU3NDM2NjkiIGZpbGw9Im5vbmUiIHN0cm9rZS1saW5lY2FwPSJyb3VuZCI+ICAgIDxhbmltYXRlVHJhbnNmb3JtIGF0dHJpYnV0ZU5hbWU9InRyYW5zZm9ybSIgdHlwZT0icm90YXRlIiByZXBlYXRDb3VudD0iaW5kZWZpbml0ZSIgZHVyPSIxcyIga2V5VGltZXM9IjA7MSIgdmFsdWVzPSIwIDUwIDUwOzM2MCA1MCA1MCI+PC9hbmltYXRlVHJhbnNmb3JtPiAgPC9jaXJjbGU+PC9zdmc+\\\")\\n    }\\n    \");\n    },\n    function(Bokeh) {\n      Bokeh.set_log_level(\"info\");\n    },\n    function(Bokeh) {} // ensure no trailing comma for IE\n  ];\n\n  function run_inline_js() {\n    if ((root.Bokeh !== undefined) || (force === true)) {\n      for (var i = 0; i < inline_js.length; i++) {\n        inline_js[i].call(root, root.Bokeh);\n      }} else if (Date.now() < root._bokeh_timeout) {\n      setTimeout(run_inline_js, 100);\n    } else if (!root._bokeh_failed_load) {\n      console.log(\"Bokeh: BokehJS failed to load within specified timeout.\");\n      root._bokeh_failed_load = true;\n    }\n  }\n\n  if (root._bokeh_is_loading === 0) {\n    console.debug(\"Bokeh: BokehJS loaded, going straight to plotting\");\n    run_inline_js();\n  } else {\n    load_libs(css_urls, js_urls, js_modules, function() {\n      console.debug(\"Bokeh: BokehJS plotting callback run at\", now());\n      run_inline_js();\n    });\n  }\n}(window));"
     },
     "metadata": {},
     "output_type": "display_data"
    },
    {
     "data": {
      "application/javascript": [
       "\n",
       "if ((window.PyViz === undefined) || (window.PyViz instanceof HTMLElement)) {\n",
       "  window.PyViz = {comms: {}, comm_status:{}, kernels:{}, receivers: {}, plot_index: []}\n",
       "}\n",
       "\n",
       "\n",
       "    function JupyterCommManager() {\n",
       "    }\n",
       "\n",
       "    JupyterCommManager.prototype.register_target = function(plot_id, comm_id, msg_handler) {\n",
       "      if (window.comm_manager || ((window.Jupyter !== undefined) && (Jupyter.notebook.kernel != null))) {\n",
       "        var comm_manager = window.comm_manager || Jupyter.notebook.kernel.comm_manager;\n",
       "        comm_manager.register_target(comm_id, function(comm) {\n",
       "          comm.on_msg(msg_handler);\n",
       "        });\n",
       "      } else if ((plot_id in window.PyViz.kernels) && (window.PyViz.kernels[plot_id])) {\n",
       "        window.PyViz.kernels[plot_id].registerCommTarget(comm_id, function(comm) {\n",
       "          comm.onMsg = msg_handler;\n",
       "        });\n",
       "      } else if (typeof google != 'undefined' && google.colab.kernel != null) {\n",
       "        google.colab.kernel.comms.registerTarget(comm_id, (comm) => {\n",
       "          var messages = comm.messages[Symbol.asyncIterator]();\n",
       "          function processIteratorResult(result) {\n",
       "            var message = result.value;\n",
       "            console.log(message)\n",
       "            var content = {data: message.data, comm_id};\n",
       "            var buffers = []\n",
       "            for (var buffer of message.buffers || []) {\n",
       "              buffers.push(new DataView(buffer))\n",
       "            }\n",
       "            var metadata = message.metadata || {};\n",
       "            var msg = {content, buffers, metadata}\n",
       "            msg_handler(msg);\n",
       "            return messages.next().then(processIteratorResult);\n",
       "          }\n",
       "          return messages.next().then(processIteratorResult);\n",
       "        })\n",
       "      }\n",
       "    }\n",
       "\n",
       "    JupyterCommManager.prototype.get_client_comm = function(plot_id, comm_id, msg_handler) {\n",
       "      if (comm_id in window.PyViz.comms) {\n",
       "        return window.PyViz.comms[comm_id];\n",
       "      } else if (window.comm_manager || ((window.Jupyter !== undefined) && (Jupyter.notebook.kernel != null))) {\n",
       "        var comm_manager = window.comm_manager || Jupyter.notebook.kernel.comm_manager;\n",
       "        var comm = comm_manager.new_comm(comm_id, {}, {}, {}, comm_id);\n",
       "        if (msg_handler) {\n",
       "          comm.on_msg(msg_handler);\n",
       "        }\n",
       "      } else if ((plot_id in window.PyViz.kernels) && (window.PyViz.kernels[plot_id])) {\n",
       "        var comm = window.PyViz.kernels[plot_id].connectToComm(comm_id);\n",
       "        comm.open();\n",
       "        if (msg_handler) {\n",
       "          comm.onMsg = msg_handler;\n",
       "        }\n",
       "      } else if (typeof google != 'undefined' && google.colab.kernel != null) {\n",
       "        var comm_promise = google.colab.kernel.comms.open(comm_id)\n",
       "        comm_promise.then((comm) => {\n",
       "          window.PyViz.comms[comm_id] = comm;\n",
       "          if (msg_handler) {\n",
       "            var messages = comm.messages[Symbol.asyncIterator]();\n",
       "            function processIteratorResult(result) {\n",
       "              var message = result.value;\n",
       "              var content = {data: message.data};\n",
       "              var metadata = message.metadata || {comm_id};\n",
       "              var msg = {content, metadata}\n",
       "              msg_handler(msg);\n",
       "              return messages.next().then(processIteratorResult);\n",
       "            }\n",
       "            return messages.next().then(processIteratorResult);\n",
       "          }\n",
       "        }) \n",
       "        var sendClosure = (data, metadata, buffers, disposeOnDone) => {\n",
       "          return comm_promise.then((comm) => {\n",
       "            comm.send(data, metadata, buffers, disposeOnDone);\n",
       "          });\n",
       "        };\n",
       "        var comm = {\n",
       "          send: sendClosure\n",
       "        };\n",
       "      }\n",
       "      window.PyViz.comms[comm_id] = comm;\n",
       "      return comm;\n",
       "    }\n",
       "    window.PyViz.comm_manager = new JupyterCommManager();\n",
       "    \n",
       "\n",
       "\n",
       "var JS_MIME_TYPE = 'application/javascript';\n",
       "var HTML_MIME_TYPE = 'text/html';\n",
       "var EXEC_MIME_TYPE = 'application/vnd.holoviews_exec.v0+json';\n",
       "var CLASS_NAME = 'output';\n",
       "\n",
       "/**\n",
       " * Render data to the DOM node\n",
       " */\n",
       "function render(props, node) {\n",
       "  var div = document.createElement(\"div\");\n",
       "  var script = document.createElement(\"script\");\n",
       "  node.appendChild(div);\n",
       "  node.appendChild(script);\n",
       "}\n",
       "\n",
       "/**\n",
       " * Handle when a new output is added\n",
       " */\n",
       "function handle_add_output(event, handle) {\n",
       "  var output_area = handle.output_area;\n",
       "  var output = handle.output;\n",
       "  if ((output.data == undefined) || (!output.data.hasOwnProperty(EXEC_MIME_TYPE))) {\n",
       "    return\n",
       "  }\n",
       "  var id = output.metadata[EXEC_MIME_TYPE][\"id\"];\n",
       "  var toinsert = output_area.element.find(\".\" + CLASS_NAME.split(' ')[0]);\n",
       "  if (id !== undefined) {\n",
       "    var nchildren = toinsert.length;\n",
       "    var html_node = toinsert[nchildren-1].children[0];\n",
       "    html_node.innerHTML = output.data[HTML_MIME_TYPE];\n",
       "    var scripts = [];\n",
       "    var nodelist = html_node.querySelectorAll(\"script\");\n",
       "    for (var i in nodelist) {\n",
       "      if (nodelist.hasOwnProperty(i)) {\n",
       "        scripts.push(nodelist[i])\n",
       "      }\n",
       "    }\n",
       "\n",
       "    scripts.forEach( function (oldScript) {\n",
       "      var newScript = document.createElement(\"script\");\n",
       "      var attrs = [];\n",
       "      var nodemap = oldScript.attributes;\n",
       "      for (var j in nodemap) {\n",
       "        if (nodemap.hasOwnProperty(j)) {\n",
       "          attrs.push(nodemap[j])\n",
       "        }\n",
       "      }\n",
       "      attrs.forEach(function(attr) { newScript.setAttribute(attr.name, attr.value) });\n",
       "      newScript.appendChild(document.createTextNode(oldScript.innerHTML));\n",
       "      oldScript.parentNode.replaceChild(newScript, oldScript);\n",
       "    });\n",
       "    if (JS_MIME_TYPE in output.data) {\n",
       "      toinsert[nchildren-1].children[1].textContent = output.data[JS_MIME_TYPE];\n",
       "    }\n",
       "    output_area._hv_plot_id = id;\n",
       "    if ((window.Bokeh !== undefined) && (id in Bokeh.index)) {\n",
       "      window.PyViz.plot_index[id] = Bokeh.index[id];\n",
       "    } else {\n",
       "      window.PyViz.plot_index[id] = null;\n",
       "    }\n",
       "  } else if (output.metadata[EXEC_MIME_TYPE][\"server_id\"] !== undefined) {\n",
       "    var bk_div = document.createElement(\"div\");\n",
       "    bk_div.innerHTML = output.data[HTML_MIME_TYPE];\n",
       "    var script_attrs = bk_div.children[0].attributes;\n",
       "    for (var i = 0; i < script_attrs.length; i++) {\n",
       "      toinsert[toinsert.length - 1].childNodes[1].setAttribute(script_attrs[i].name, script_attrs[i].value);\n",
       "    }\n",
       "    // store reference to server id on output_area\n",
       "    output_area._bokeh_server_id = output.metadata[EXEC_MIME_TYPE][\"server_id\"];\n",
       "  }\n",
       "}\n",
       "\n",
       "/**\n",
       " * Handle when an output is cleared or removed\n",
       " */\n",
       "function handle_clear_output(event, handle) {\n",
       "  var id = handle.cell.output_area._hv_plot_id;\n",
       "  var server_id = handle.cell.output_area._bokeh_server_id;\n",
       "  if (((id === undefined) || !(id in PyViz.plot_index)) && (server_id !== undefined)) { return; }\n",
       "  var comm = window.PyViz.comm_manager.get_client_comm(\"hv-extension-comm\", \"hv-extension-comm\", function () {});\n",
       "  if (server_id !== null) {\n",
       "    comm.send({event_type: 'server_delete', 'id': server_id});\n",
       "    return;\n",
       "  } else if (comm !== null) {\n",
       "    comm.send({event_type: 'delete', 'id': id});\n",
       "  }\n",
       "  delete PyViz.plot_index[id];\n",
       "  if ((window.Bokeh !== undefined) & (id in window.Bokeh.index)) {\n",
       "    var doc = window.Bokeh.index[id].model.document\n",
       "    doc.clear();\n",
       "    const i = window.Bokeh.documents.indexOf(doc);\n",
       "    if (i > -1) {\n",
       "      window.Bokeh.documents.splice(i, 1);\n",
       "    }\n",
       "  }\n",
       "}\n",
       "\n",
       "/**\n",
       " * Handle kernel restart event\n",
       " */\n",
       "function handle_kernel_cleanup(event, handle) {\n",
       "  delete PyViz.comms[\"hv-extension-comm\"];\n",
       "  window.PyViz.plot_index = {}\n",
       "}\n",
       "\n",
       "/**\n",
       " * Handle update_display_data messages\n",
       " */\n",
       "function handle_update_output(event, handle) {\n",
       "  handle_clear_output(event, {cell: {output_area: handle.output_area}})\n",
       "  handle_add_output(event, handle)\n",
       "}\n",
       "\n",
       "function register_renderer(events, OutputArea) {\n",
       "  function append_mime(data, metadata, element) {\n",
       "    // create a DOM node to render to\n",
       "    var toinsert = this.create_output_subarea(\n",
       "    metadata,\n",
       "    CLASS_NAME,\n",
       "    EXEC_MIME_TYPE\n",
       "    );\n",
       "    this.keyboard_manager.register_events(toinsert);\n",
       "    // Render to node\n",
       "    var props = {data: data, metadata: metadata[EXEC_MIME_TYPE]};\n",
       "    render(props, toinsert[0]);\n",
       "    element.append(toinsert);\n",
       "    return toinsert\n",
       "  }\n",
       "\n",
       "  events.on('output_added.OutputArea', handle_add_output);\n",
       "  events.on('output_updated.OutputArea', handle_update_output);\n",
       "  events.on('clear_output.CodeCell', handle_clear_output);\n",
       "  events.on('delete.Cell', handle_clear_output);\n",
       "  events.on('kernel_ready.Kernel', handle_kernel_cleanup);\n",
       "\n",
       "  OutputArea.prototype.register_mime_type(EXEC_MIME_TYPE, append_mime, {\n",
       "    safe: true,\n",
       "    index: 0\n",
       "  });\n",
       "}\n",
       "\n",
       "if (window.Jupyter !== undefined) {\n",
       "  try {\n",
       "    var events = require('base/js/events');\n",
       "    var OutputArea = require('notebook/js/outputarea').OutputArea;\n",
       "    if (OutputArea.prototype.mime_types().indexOf(EXEC_MIME_TYPE) == -1) {\n",
       "      register_renderer(events, OutputArea);\n",
       "    }\n",
       "  } catch(err) {\n",
       "  }\n",
       "}\n"
      ],
      "application/vnd.holoviews_load.v0+json": "\nif ((window.PyViz === undefined) || (window.PyViz instanceof HTMLElement)) {\n  window.PyViz = {comms: {}, comm_status:{}, kernels:{}, receivers: {}, plot_index: []}\n}\n\n\n    function JupyterCommManager() {\n    }\n\n    JupyterCommManager.prototype.register_target = function(plot_id, comm_id, msg_handler) {\n      if (window.comm_manager || ((window.Jupyter !== undefined) && (Jupyter.notebook.kernel != null))) {\n        var comm_manager = window.comm_manager || Jupyter.notebook.kernel.comm_manager;\n        comm_manager.register_target(comm_id, function(comm) {\n          comm.on_msg(msg_handler);\n        });\n      } else if ((plot_id in window.PyViz.kernels) && (window.PyViz.kernels[plot_id])) {\n        window.PyViz.kernels[plot_id].registerCommTarget(comm_id, function(comm) {\n          comm.onMsg = msg_handler;\n        });\n      } else if (typeof google != 'undefined' && google.colab.kernel != null) {\n        google.colab.kernel.comms.registerTarget(comm_id, (comm) => {\n          var messages = comm.messages[Symbol.asyncIterator]();\n          function processIteratorResult(result) {\n            var message = result.value;\n            console.log(message)\n            var content = {data: message.data, comm_id};\n            var buffers = []\n            for (var buffer of message.buffers || []) {\n              buffers.push(new DataView(buffer))\n            }\n            var metadata = message.metadata || {};\n            var msg = {content, buffers, metadata}\n            msg_handler(msg);\n            return messages.next().then(processIteratorResult);\n          }\n          return messages.next().then(processIteratorResult);\n        })\n      }\n    }\n\n    JupyterCommManager.prototype.get_client_comm = function(plot_id, comm_id, msg_handler) {\n      if (comm_id in window.PyViz.comms) {\n        return window.PyViz.comms[comm_id];\n      } else if (window.comm_manager || ((window.Jupyter !== undefined) && (Jupyter.notebook.kernel != null))) {\n        var comm_manager = window.comm_manager || Jupyter.notebook.kernel.comm_manager;\n        var comm = comm_manager.new_comm(comm_id, {}, {}, {}, comm_id);\n        if (msg_handler) {\n          comm.on_msg(msg_handler);\n        }\n      } else if ((plot_id in window.PyViz.kernels) && (window.PyViz.kernels[plot_id])) {\n        var comm = window.PyViz.kernels[plot_id].connectToComm(comm_id);\n        comm.open();\n        if (msg_handler) {\n          comm.onMsg = msg_handler;\n        }\n      } else if (typeof google != 'undefined' && google.colab.kernel != null) {\n        var comm_promise = google.colab.kernel.comms.open(comm_id)\n        comm_promise.then((comm) => {\n          window.PyViz.comms[comm_id] = comm;\n          if (msg_handler) {\n            var messages = comm.messages[Symbol.asyncIterator]();\n            function processIteratorResult(result) {\n              var message = result.value;\n              var content = {data: message.data};\n              var metadata = message.metadata || {comm_id};\n              var msg = {content, metadata}\n              msg_handler(msg);\n              return messages.next().then(processIteratorResult);\n            }\n            return messages.next().then(processIteratorResult);\n          }\n        }) \n        var sendClosure = (data, metadata, buffers, disposeOnDone) => {\n          return comm_promise.then((comm) => {\n            comm.send(data, metadata, buffers, disposeOnDone);\n          });\n        };\n        var comm = {\n          send: sendClosure\n        };\n      }\n      window.PyViz.comms[comm_id] = comm;\n      return comm;\n    }\n    window.PyViz.comm_manager = new JupyterCommManager();\n    \n\n\nvar JS_MIME_TYPE = 'application/javascript';\nvar HTML_MIME_TYPE = 'text/html';\nvar EXEC_MIME_TYPE = 'application/vnd.holoviews_exec.v0+json';\nvar CLASS_NAME = 'output';\n\n/**\n * Render data to the DOM node\n */\nfunction render(props, node) {\n  var div = document.createElement(\"div\");\n  var script = document.createElement(\"script\");\n  node.appendChild(div);\n  node.appendChild(script);\n}\n\n/**\n * Handle when a new output is added\n */\nfunction handle_add_output(event, handle) {\n  var output_area = handle.output_area;\n  var output = handle.output;\n  if ((output.data == undefined) || (!output.data.hasOwnProperty(EXEC_MIME_TYPE))) {\n    return\n  }\n  var id = output.metadata[EXEC_MIME_TYPE][\"id\"];\n  var toinsert = output_area.element.find(\".\" + CLASS_NAME.split(' ')[0]);\n  if (id !== undefined) {\n    var nchildren = toinsert.length;\n    var html_node = toinsert[nchildren-1].children[0];\n    html_node.innerHTML = output.data[HTML_MIME_TYPE];\n    var scripts = [];\n    var nodelist = html_node.querySelectorAll(\"script\");\n    for (var i in nodelist) {\n      if (nodelist.hasOwnProperty(i)) {\n        scripts.push(nodelist[i])\n      }\n    }\n\n    scripts.forEach( function (oldScript) {\n      var newScript = document.createElement(\"script\");\n      var attrs = [];\n      var nodemap = oldScript.attributes;\n      for (var j in nodemap) {\n        if (nodemap.hasOwnProperty(j)) {\n          attrs.push(nodemap[j])\n        }\n      }\n      attrs.forEach(function(attr) { newScript.setAttribute(attr.name, attr.value) });\n      newScript.appendChild(document.createTextNode(oldScript.innerHTML));\n      oldScript.parentNode.replaceChild(newScript, oldScript);\n    });\n    if (JS_MIME_TYPE in output.data) {\n      toinsert[nchildren-1].children[1].textContent = output.data[JS_MIME_TYPE];\n    }\n    output_area._hv_plot_id = id;\n    if ((window.Bokeh !== undefined) && (id in Bokeh.index)) {\n      window.PyViz.plot_index[id] = Bokeh.index[id];\n    } else {\n      window.PyViz.plot_index[id] = null;\n    }\n  } else if (output.metadata[EXEC_MIME_TYPE][\"server_id\"] !== undefined) {\n    var bk_div = document.createElement(\"div\");\n    bk_div.innerHTML = output.data[HTML_MIME_TYPE];\n    var script_attrs = bk_div.children[0].attributes;\n    for (var i = 0; i < script_attrs.length; i++) {\n      toinsert[toinsert.length - 1].childNodes[1].setAttribute(script_attrs[i].name, script_attrs[i].value);\n    }\n    // store reference to server id on output_area\n    output_area._bokeh_server_id = output.metadata[EXEC_MIME_TYPE][\"server_id\"];\n  }\n}\n\n/**\n * Handle when an output is cleared or removed\n */\nfunction handle_clear_output(event, handle) {\n  var id = handle.cell.output_area._hv_plot_id;\n  var server_id = handle.cell.output_area._bokeh_server_id;\n  if (((id === undefined) || !(id in PyViz.plot_index)) && (server_id !== undefined)) { return; }\n  var comm = window.PyViz.comm_manager.get_client_comm(\"hv-extension-comm\", \"hv-extension-comm\", function () {});\n  if (server_id !== null) {\n    comm.send({event_type: 'server_delete', 'id': server_id});\n    return;\n  } else if (comm !== null) {\n    comm.send({event_type: 'delete', 'id': id});\n  }\n  delete PyViz.plot_index[id];\n  if ((window.Bokeh !== undefined) & (id in window.Bokeh.index)) {\n    var doc = window.Bokeh.index[id].model.document\n    doc.clear();\n    const i = window.Bokeh.documents.indexOf(doc);\n    if (i > -1) {\n      window.Bokeh.documents.splice(i, 1);\n    }\n  }\n}\n\n/**\n * Handle kernel restart event\n */\nfunction handle_kernel_cleanup(event, handle) {\n  delete PyViz.comms[\"hv-extension-comm\"];\n  window.PyViz.plot_index = {}\n}\n\n/**\n * Handle update_display_data messages\n */\nfunction handle_update_output(event, handle) {\n  handle_clear_output(event, {cell: {output_area: handle.output_area}})\n  handle_add_output(event, handle)\n}\n\nfunction register_renderer(events, OutputArea) {\n  function append_mime(data, metadata, element) {\n    // create a DOM node to render to\n    var toinsert = this.create_output_subarea(\n    metadata,\n    CLASS_NAME,\n    EXEC_MIME_TYPE\n    );\n    this.keyboard_manager.register_events(toinsert);\n    // Render to node\n    var props = {data: data, metadata: metadata[EXEC_MIME_TYPE]};\n    render(props, toinsert[0]);\n    element.append(toinsert);\n    return toinsert\n  }\n\n  events.on('output_added.OutputArea', handle_add_output);\n  events.on('output_updated.OutputArea', handle_update_output);\n  events.on('clear_output.CodeCell', handle_clear_output);\n  events.on('delete.Cell', handle_clear_output);\n  events.on('kernel_ready.Kernel', handle_kernel_cleanup);\n\n  OutputArea.prototype.register_mime_type(EXEC_MIME_TYPE, append_mime, {\n    safe: true,\n    index: 0\n  });\n}\n\nif (window.Jupyter !== undefined) {\n  try {\n    var events = require('base/js/events');\n    var OutputArea = require('notebook/js/outputarea').OutputArea;\n    if (OutputArea.prototype.mime_types().indexOf(EXEC_MIME_TYPE) == -1) {\n      register_renderer(events, OutputArea);\n    }\n  } catch(err) {\n  }\n}\n"
     },
     "metadata": {},
     "output_type": "display_data"
    },
    {
     "data": {},
     "metadata": {},
     "output_type": "display_data"
    },
    {
     "data": {
      "application/vnd.holoviews_exec.v0+json": "",
      "text/html": [
       "<div id='1002'>\n",
       "\n",
       "\n",
       "\n",
       "\n",
       "\n",
       "  <div class=\"bk-root\" id=\"54ee9946-3391-4701-adc7-2b27248c86e1\" data-root-id=\"1002\"></div>\n",
       "</div>\n",
       "<script type=\"application/javascript\">(function(root) {\n",
       "  function embed_document(root) {\n",
       "    var docs_json = {\"e662efdf-f512-453e-89a1-75155c053d4f\":{\"defs\":[],\"roots\":{\"references\":[{\"attributes\":{\"css_classes\":[\"alert\",\"alert-success\",\"markdown\"],\"margin\":[0,0,25,0],\"name\":\"Alert00099\",\"sizing_mode\":\"stretch_width\",\"text\":\"&lt;p&gt;Import all python packages required successfully&lt;/p&gt;\"},\"id\":\"1002\",\"type\":\"panel.models.markup.HTML\"},{\"attributes\":{\"reload\":false},\"id\":\"1004\",\"type\":\"panel.models.location.Location\"},{\"attributes\":{\"client_comm_id\":\"ff59398f727a47108e7034b190a69a3e\",\"comm_id\":\"1d01d93803ba420f993446f1c08fc75a\",\"plot_id\":\"1002\"},\"id\":\"1003\",\"type\":\"panel.models.comm_manager.CommManager\"}],\"root_ids\":[\"1002\",\"1003\",\"1004\"]},\"title\":\"Bokeh Application\",\"version\":\"2.3.3\"}};\n",
       "    var render_items = [{\"docid\":\"e662efdf-f512-453e-89a1-75155c053d4f\",\"root_ids\":[\"1002\"],\"roots\":{\"1002\":\"54ee9946-3391-4701-adc7-2b27248c86e1\"}}];\n",
       "    root.Bokeh.embed.embed_items_notebook(docs_json, render_items);\n",
       "  }\n",
       "  if (root.Bokeh !== undefined && root.Bokeh.Panel !== undefined) {\n",
       "    embed_document(root);\n",
       "  } else {\n",
       "    var attempts = 0;\n",
       "    var timer = setInterval(function(root) {\n",
       "      if (root.Bokeh !== undefined && root.Bokeh.Panel !== undefined) {\n",
       "        clearInterval(timer);\n",
       "        embed_document(root);\n",
       "      } else if (document.readyState == \"complete\") {\n",
       "        attempts++;\n",
       "        if (attempts > 100) {\n",
       "          clearInterval(timer);\n",
       "          console.log(\"Bokeh: ERROR: Unable to run BokehJS code because BokehJS library is missing\");\n",
       "        }\n",
       "      }\n",
       "    }, 10, root)\n",
       "  }\n",
       "})(window);</script>"
      ],
      "text/plain": [
       "Alert(str, alert_type='success', css_classes=['alert', 'alert-success']...], margin=(0, 0, 25, 0), sizing_mode='stretch_width')"
      ]
     },
     "metadata": {
      "application/vnd.holoviews_exec.v0+json": {
       "id": "1002"
      }
     },
     "output_type": "display_data"
    },
    {
     "data": {
      "text/html": [
       "<img src onerror=\"var cell = this.closest('.jp-CodeCell');var editor = cell.querySelector('.jp-Editor');editor.style.background='LightBlue';this.parentNode.removeChild(this)\">"
      ],
      "text/plain": [
       "<IPython.core.display.HTML object>"
      ]
     },
     "metadata": {},
     "output_type": "display_data"
    }
   ],
   "source": [
    "from tools.jupyter import *\n",
    "from tools.frangiPANe import *\n",
    "\n",
    "import panel as pn\n",
    "\n",
    "pn.extension()\n",
    "\n",
    "add_css()\n",
    "\n",
    "file_saved=\"frangiPANe.p\"\n",
    "text = \"Import all python packages required successfully\"\n",
    "output_dir = None\n",
    "output_mapping_dir = None\n",
    "total_genome_size= None\n",
    "k = None\n",
    "display_alert(text,\"success\")\n",
    "bgc('LightBlue')"
   ]
  },
  {
   "cell_type": "markdown",
   "metadata": {},
   "source": [
    "### <span style=\"color: #919395\"> _Definition of input data used by frangiPANe workflow_  <a class=\"anchor\" id=\"configinput\"></a></span>\n",
    "\n",
    "<details>\n",
    "\n",
    "* __Project Name__ : the directory name that will contain all the results generated by this analysis\n",
    "* __Output Directory__ : the parent directory that will contain the __project_name__ directory\n",
    "* __Fastq Directory__ : the directory that contains .fastq files of all the individuals\n",
    "* __Reference File__ : the reference genome used to map all reads (fastq files). The reference genome have to be provided in a fasta format. The reference genome must be indexed by BWA for subsequent analyzes. The **REF**.amb, **REF**.ann, **REF**.bwt, **REF**.pac and **REF**.sa files are created.)\n",
    "* __Group File__ :  (It is common for several individuals to have different origins when building a pangenome. To exploit this diversity in the results, PANtoum needs a tabulated file (separator = tabulation, no header); the first column corresponds to the name of the individuals (should correspond to .fastq files) and the second to the group they belong. NB : It is possible to use only one group.)\n",
    "\n",
    "ex of samples with 2 groups : wild or cultivated\n",
    "    \n",
    "| sample  | group  |\n",
    "|---|---|\n",
    "| AA | wild | \n",
    "| AB  | wild | \n",
    "| CB  | cultivated |\n",
    "\n",
    "</details>\n",
    "\n",
    "Run the following cell and fill the parameters box"
   ]
  },
  {
   "cell_type": "code",
   "execution_count": 2,
   "metadata": {},
   "outputs": [
    {
     "data": {},
     "metadata": {},
     "output_type": "display_data"
    },
    {
     "data": {
      "application/vnd.holoviews_exec.v0+json": "",
      "text/html": [
       "<div id='1005'>\n",
       "\n",
       "\n",
       "\n",
       "\n",
       "\n",
       "  <div class=\"bk-root\" id=\"4d7176d4-fd34-4444-b2c2-c8e732d3c37e\" data-root-id=\"1005\"></div>\n",
       "</div>\n",
       "<script type=\"application/javascript\">(function(root) {\n",
       "  function embed_document(root) {\n",
       "    var docs_json = {\"2193735d-609d-4e76-8af2-cc8d96c590f0\":{\"defs\":[],\"roots\":{\"references\":[{\"attributes\":{\"margin\":[5,10,5,10],\"max_length\":5000,\"placeholder\":\"Enter the directory path here...\",\"title\":\"Fastq directory\"},\"id\":\"1011\",\"type\":\"TextInput\"},{\"attributes\":{\"children\":[{\"id\":\"1008\"},{\"id\":\"1011\"},{\"id\":\"1012\"},{\"id\":\"1013\"},{\"id\":\"1014\"},{\"id\":\"1015\"},{\"id\":\"1016\"},{\"id\":\"1020\"}],\"margin\":[0,0,0,0],\"min_width\":800,\"name\":\"Column00118\",\"width\":800},\"id\":\"1007\",\"type\":\"Column\"},{\"attributes\":{\"button_type\":\"primary\",\"icon\":null,\"label\":\"SAVE\",\"margin\":[5,10,5,10],\"min_width\":100,\"subscribed_events\":[\"button_click\"],\"width\":100},\"id\":\"1017\",\"type\":\"Button\"},{\"attributes\":{\"background\":\"#E3ECF1\",\"children\":[{\"id\":\"1006\"},{\"id\":\"1007\"}],\"css_classes\":[\"panel-widget-box\"],\"margin\":[5,5,5,5],\"name\":\"WidgetBox00121\"},\"id\":\"1005\",\"type\":\"Column\"},{\"attributes\":{\"margin\":[5,10,5,10],\"max_length\":5000,\"placeholder\":\"Enter the directory path here...\",\"title\":\"Output directory :\"},\"id\":\"1010\",\"type\":\"TextInput\"},{\"attributes\":{\"button_type\":\"primary\",\"icon\":null,\"label\":\"LOAD\",\"margin\":[5,10,5,10],\"min_width\":100,\"subscribed_events\":[\"button_click\"],\"width\":100},\"id\":\"1018\",\"type\":\"Button\"},{\"attributes\":{\"children\":[{\"id\":\"1009\"},{\"id\":\"1010\"}],\"margin\":[0,0,0,0],\"name\":\"Row00117\"},\"id\":\"1008\",\"type\":\"Row\"},{\"attributes\":{\"css_classes\":[\"markdown\"],\"margin\":[5,5,5,5],\"name\":\"Markdown00119\",\"text\":\"&lt;h1&gt;INPUT FORM&lt;/h1&gt;\"},\"id\":\"1006\",\"type\":\"panel.models.markup.HTML\"},{\"attributes\":{\"margin\":[5,10,5,10],\"max_length\":5000,\"placeholder\":\"Enter the file path here...\",\"title\":\"Univec file\"},\"id\":\"1014\",\"type\":\"TextInput\"},{\"attributes\":{\"end\":36,\"margin\":[5,10,5,10],\"start\":1,\"title\":\"CPU number\",\"value\":6},\"id\":\"1015\",\"type\":\"Slider\"},{\"attributes\":{\"margin\":[5,10,5,10],\"max_length\":5000,\"placeholder\":\"Enter the file path here...\",\"title\":\"Reference file\"},\"id\":\"1013\",\"type\":\"TextInput\"},{\"attributes\":{\"button_type\":\"primary\",\"icon\":null,\"label\":\"INIT\",\"margin\":[5,10,5,10],\"min_width\":100,\"subscribed_events\":[\"button_click\"],\"width\":100},\"id\":\"1019\",\"type\":\"Button\"},{\"attributes\":{\"client_comm_id\":\"0bd377ef902e40e5a4edf0bf286e3189\",\"comm_id\":\"86f9f5efc1fb4fecaf842122ee8e66dd\",\"plot_id\":\"1005\"},\"id\":\"1021\",\"type\":\"panel.models.comm_manager.CommManager\"},{\"attributes\":{\"children\":[{\"id\":\"1017\"},{\"id\":\"1018\"},{\"id\":\"1019\"}],\"margin\":[0,0,0,0],\"name\":\"Row00116\"},\"id\":\"1016\",\"type\":\"Row\"},{\"attributes\":{\"margin\":[5,10,5,10],\"max_length\":5000,\"placeholder\":\"Enter the file path here...\",\"title\":\"Group file\"},\"id\":\"1012\",\"type\":\"TextInput\"},{\"attributes\":{\"css_classes\":[\"alert\",\"alert-warning\",\"markdown\"],\"height\":200,\"margin\":[0,0,25,0],\"name\":\"Alert00104\",\"sizing_mode\":\"stretch_width\",\"text\":\"&lt;p&gt;No filled&lt;/p&gt;\"},\"id\":\"1020\",\"type\":\"panel.models.markup.HTML\"},{\"attributes\":{\"margin\":[5,10,5,10],\"max_length\":5000,\"placeholder\":\"Enter the name here...\",\"title\":\"Project name :\"},\"id\":\"1009\",\"type\":\"TextInput\"}],\"root_ids\":[\"1005\",\"1021\"]},\"title\":\"Bokeh Application\",\"version\":\"2.3.3\"}};\n",
       "    var render_items = [{\"docid\":\"2193735d-609d-4e76-8af2-cc8d96c590f0\",\"root_ids\":[\"1005\"],\"roots\":{\"1005\":\"4d7176d4-fd34-4444-b2c2-c8e732d3c37e\"}}];\n",
       "    root.Bokeh.embed.embed_items_notebook(docs_json, render_items);\n",
       "  }\n",
       "  if (root.Bokeh !== undefined && root.Bokeh.Panel !== undefined) {\n",
       "    embed_document(root);\n",
       "  } else {\n",
       "    var attempts = 0;\n",
       "    var timer = setInterval(function(root) {\n",
       "      if (root.Bokeh !== undefined && root.Bokeh.Panel !== undefined) {\n",
       "        clearInterval(timer);\n",
       "        embed_document(root);\n",
       "      } else if (document.readyState == \"complete\") {\n",
       "        attempts++;\n",
       "        if (attempts > 100) {\n",
       "          clearInterval(timer);\n",
       "          console.log(\"Bokeh: ERROR: Unable to run BokehJS code because BokehJS library is missing\");\n",
       "        }\n",
       "      }\n",
       "    }, 10, root)\n",
       "  }\n",
       "})(window);</script>"
      ],
      "text/plain": [
       "WidgetBox(background='#E3ECF1')\n",
       "    [0] Markdown(str)\n",
       "    [1] Column(width=800)\n",
       "        [0] Row\n",
       "            [0] TextInput(name='Project name :', placeholder='Enter the name here...')\n",
       "            [1] TextInput(name='Output directory :', placeholder='Enter the directory p...)\n",
       "        [1] TextInput(name='Fastq directory', placeholder='Enter the directory p...)\n",
       "        [2] TextInput(name='Group file', placeholder='Enter the file p...)\n",
       "        [3] TextInput(name='Reference file', placeholder='Enter the file p...)\n",
       "        [4] TextInput(name='Univec file', placeholder='Enter the file p...)\n",
       "        [5] IntSlider(end=36, name='CPU number', start=1, value=6)\n",
       "        [6] Row\n",
       "            [0] Button(button_type='primary', name='SAVE', width=100)\n",
       "            [1] Button(button_type='primary', name='LOAD', width=100)\n",
       "            [2] Button(button_type='primary', name='INIT', width=100)\n",
       "        [7] Alert(str, alert_type='warning', css_classes=['alert', 'alert-warning']...], height=200, margin=(0, 0, 25, 0), sizing_mode='stretch_width')"
      ]
     },
     "metadata": {
      "application/vnd.holoviews_exec.v0+json": {
       "id": "1005"
      }
     },
     "output_type": "display_data"
    },
    {
     "data": {
      "text/html": [
       "<img src onerror=\"var cell = this.closest('.jp-CodeCell');var editor = cell.querySelector('.jp-Editor');editor.style.background='LightBlue';this.parentNode.removeChild(this)\">"
      ],
      "text/plain": [
       "<IPython.core.display.HTML object>"
      ]
     },
     "metadata": {},
     "output_type": "display_data"
    }
   ],
   "source": [
    "project_name, out_dir, ref_file, vec_file, group_file, fastq_dir,cpus = box_config()\n",
    "bgc('LightBlue')"
   ]
  },
  {
   "cell_type": "markdown",
   "metadata": {},
   "source": [
    "### <span style=\"color: #919395\">_Creating frangiPANe output directory_<a class=\"anchor\" id=\"outputdirectory\"></a></span>\n",
    "\n",
    "<img src=\"Images/frangiPANe_output_tree.jpg\">\n",
    "\n",
    "Be careful : if the directory already exists, files and directory that were generated by previous analysis could be removed by new analysis steps\n",
    "\n",
    "In the log file,  all outputs generated by bioinformatics tools (eg: bwa index, mem, abyss) are saved"
   ]
  },
  {
   "cell_type": "code",
   "execution_count": 3,
   "metadata": {},
   "outputs": [
    {
     "data": {},
     "metadata": {},
     "output_type": "display_data"
    },
    {
     "data": {
      "application/vnd.holoviews_exec.v0+json": "",
      "text/html": [
       "<div id='1029'>\n",
       "\n",
       "\n",
       "\n",
       "\n",
       "\n",
       "  <div class=\"bk-root\" id=\"4adc3cd9-7e83-4c35-aa5d-bd97487476d7\" data-root-id=\"1029\"></div>\n",
       "</div>\n",
       "<script type=\"application/javascript\">(function(root) {\n",
       "  function embed_document(root) {\n",
       "    var docs_json = {\"edf7ab4d-89c8-4482-83e9-12c00cb62907\":{\"defs\":[],\"roots\":{\"references\":[{\"attributes\":{\"css_classes\":[\"alert\",\"alert-warning\",\"markdown\"],\"margin\":[0,0,25,0],\"name\":\"Alert00124\",\"sizing_mode\":\"stretch_width\",\"text\":\"&lt;h3&gt;warning&lt;/h3&gt;\\n&lt;hr&gt;\\n&lt;p&gt;Directory /home/christine/Documents/These/frangiPANeGIT2/frangiPANe_PANRice already existed&lt;/p&gt;\"},\"id\":\"1029\",\"type\":\"panel.models.markup.HTML\"},{\"attributes\":{\"client_comm_id\":\"cebea1e645e441149fc3d88d96d02b04\",\"comm_id\":\"a4c7d0e201554b538862be4ca5861804\",\"plot_id\":\"1029\"},\"id\":\"1030\",\"type\":\"panel.models.comm_manager.CommManager\"}],\"root_ids\":[\"1029\",\"1030\"]},\"title\":\"Bokeh Application\",\"version\":\"2.3.3\"}};\n",
       "    var render_items = [{\"docid\":\"edf7ab4d-89c8-4482-83e9-12c00cb62907\",\"root_ids\":[\"1029\"],\"roots\":{\"1029\":\"4adc3cd9-7e83-4c35-aa5d-bd97487476d7\"}}];\n",
       "    root.Bokeh.embed.embed_items_notebook(docs_json, render_items);\n",
       "  }\n",
       "  if (root.Bokeh !== undefined && root.Bokeh.Panel !== undefined) {\n",
       "    embed_document(root);\n",
       "  } else {\n",
       "    var attempts = 0;\n",
       "    var timer = setInterval(function(root) {\n",
       "      if (root.Bokeh !== undefined && root.Bokeh.Panel !== undefined) {\n",
       "        clearInterval(timer);\n",
       "        embed_document(root);\n",
       "      } else if (document.readyState == \"complete\") {\n",
       "        attempts++;\n",
       "        if (attempts > 100) {\n",
       "          clearInterval(timer);\n",
       "          console.log(\"Bokeh: ERROR: Unable to run BokehJS code because BokehJS library is missing\");\n",
       "        }\n",
       "      }\n",
       "    }, 10, root)\n",
       "  }\n",
       "})(window);</script>"
      ],
      "text/plain": [
       "Alert(str, alert_type='warning', css_classes=['alert', 'alert-warning']...], margin=(0, 0, 25, 0), sizing_mode='stretch_width')"
      ]
     },
     "metadata": {
      "application/vnd.holoviews_exec.v0+json": {
       "id": "1029"
      }
     },
     "output_type": "display_data"
    },
    {
     "data": {},
     "metadata": {},
     "output_type": "display_data"
    },
    {
     "data": {
      "application/vnd.holoviews_exec.v0+json": "",
      "text/html": [
       "<div id='1031'>\n",
       "\n",
       "\n",
       "\n",
       "\n",
       "\n",
       "  <div class=\"bk-root\" id=\"507a7319-4b5f-4cf6-a05e-e388db2cdc5b\" data-root-id=\"1031\"></div>\n",
       "</div>\n",
       "<script type=\"application/javascript\">(function(root) {\n",
       "  function embed_document(root) {\n",
       "    var docs_json = {\"2ddb90fa-ebb7-4292-891f-000777c500c0\":{\"defs\":[],\"roots\":{\"references\":[{\"attributes\":{\"css_classes\":[\"alert\",\"alert-success\",\"markdown\"],\"margin\":[0,0,25,0],\"name\":\"Alert00128\",\"sizing_mode\":\"stretch_width\",\"text\":\"&lt;p&gt;Log /home/christine/Documents/These/frangiPANeGIT2/frangiPANe_PANRice/frangiPANe_PANRice-12-03-2022_14:50:30.log created&lt;/p&gt;\"},\"id\":\"1031\",\"type\":\"panel.models.markup.HTML\"},{\"attributes\":{\"client_comm_id\":\"dea8019c837541048cf24e9379d7648d\",\"comm_id\":\"e4bb78a78e9e4c83a02b56686fc48568\",\"plot_id\":\"1031\"},\"id\":\"1032\",\"type\":\"panel.models.comm_manager.CommManager\"}],\"root_ids\":[\"1031\",\"1032\"]},\"title\":\"Bokeh Application\",\"version\":\"2.3.3\"}};\n",
       "    var render_items = [{\"docid\":\"2ddb90fa-ebb7-4292-891f-000777c500c0\",\"root_ids\":[\"1031\"],\"roots\":{\"1031\":\"507a7319-4b5f-4cf6-a05e-e388db2cdc5b\"}}];\n",
       "    root.Bokeh.embed.embed_items_notebook(docs_json, render_items);\n",
       "  }\n",
       "  if (root.Bokeh !== undefined && root.Bokeh.Panel !== undefined) {\n",
       "    embed_document(root);\n",
       "  } else {\n",
       "    var attempts = 0;\n",
       "    var timer = setInterval(function(root) {\n",
       "      if (root.Bokeh !== undefined && root.Bokeh.Panel !== undefined) {\n",
       "        clearInterval(timer);\n",
       "        embed_document(root);\n",
       "      } else if (document.readyState == \"complete\") {\n",
       "        attempts++;\n",
       "        if (attempts > 100) {\n",
       "          clearInterval(timer);\n",
       "          console.log(\"Bokeh: ERROR: Unable to run BokehJS code because BokehJS library is missing\");\n",
       "        }\n",
       "      }\n",
       "    }, 10, root)\n",
       "  }\n",
       "})(window);</script>"
      ],
      "text/plain": [
       "Alert(str, alert_type='success', css_classes=['alert', 'alert-success']...], margin=(0, 0, 25, 0), sizing_mode='stretch_width')"
      ]
     },
     "metadata": {
      "application/vnd.holoviews_exec.v0+json": {
       "id": "1031"
      }
     },
     "output_type": "display_data"
    },
    {
     "data": {
      "text/html": [
       "<img src onerror=\"var cell = this.closest('.jp-CodeCell');var editor = cell.querySelector('.jp-Editor');editor.style.background='LightBlue';this.parentNode.removeChild(this)\">"
      ],
      "text/plain": [
       "<IPython.core.display.HTML object>"
      ]
     },
     "metadata": {},
     "output_type": "display_data"
    }
   ],
   "source": [
    "if not out_dir.value:\n",
    "    text = \"Fill the form in the previous cell !\"\n",
    "    display_alert(text,\"danger\")\n",
    "else:\n",
    "    cpu = cpus.value\n",
    "    output_dir = out_dir.value + \"/frangiPANe_\" + project_name.value\n",
    "    make_dir(output_dir)\n",
    "    logger = init_log(output_dir,project_name.value)\n",
    "    df_group = None\n",
    "bgc('LightBlue')"
   ]
  },
  {
   "cell_type": "markdown",
   "metadata": {},
   "source": [
    "### <span style=\"color: #919395\">_Preparing Genome Reference for next analysis_\n",
    "\n",
    "#### __Genome indexation__ and __Genome dashboard__\n",
    "\n",
    "This step is done with `bwa index` if index are absent. Indexation is required before performing reads mapping against genome reference."
   ]
  },
  {
   "cell_type": "code",
   "execution_count": 4,
   "metadata": {},
   "outputs": [
    {
     "data": {},
     "metadata": {},
     "output_type": "display_data"
    },
    {
     "data": {
      "application/vnd.holoviews_exec.v0+json": "",
      "text/html": [
       "<div id='1033'>\n",
       "\n",
       "\n",
       "\n",
       "\n",
       "\n",
       "  <div class=\"bk-root\" id=\"6a09d129-ce99-4471-ac20-186a355cd4bf\" data-root-id=\"1033\"></div>\n",
       "</div>\n",
       "<script type=\"application/javascript\">(function(root) {\n",
       "  function embed_document(root) {\n",
       "    var docs_json = {\"91e4ff7a-6f81-43af-9579-c0eef8085842\":{\"defs\":[],\"roots\":{\"references\":[{\"attributes\":{\"css_classes\":[\"alert\",\"alert-info\",\"markdown\"],\"margin\":[0,0,25,0],\"name\":\"Alert00132\",\"sizing_mode\":\"stretch_width\",\"text\":\"&lt;p&gt;Searching index files for reference file /home/christine/Documents/These/frangiPANeGIT/rice/OglaRS2ADWL02.12chronly.fa&lt;/p&gt;\"},\"id\":\"1033\",\"type\":\"panel.models.markup.HTML\"},{\"attributes\":{\"client_comm_id\":\"0418a9c9bd3a461fbd743218a400d523\",\"comm_id\":\"04d6deda2d734992a6d3e3183d8eb6c2\",\"plot_id\":\"1033\"},\"id\":\"1034\",\"type\":\"panel.models.comm_manager.CommManager\"}],\"root_ids\":[\"1033\",\"1034\"]},\"title\":\"Bokeh Application\",\"version\":\"2.3.3\"}};\n",
       "    var render_items = [{\"docid\":\"91e4ff7a-6f81-43af-9579-c0eef8085842\",\"root_ids\":[\"1033\"],\"roots\":{\"1033\":\"6a09d129-ce99-4471-ac20-186a355cd4bf\"}}];\n",
       "    root.Bokeh.embed.embed_items_notebook(docs_json, render_items);\n",
       "  }\n",
       "  if (root.Bokeh !== undefined && root.Bokeh.Panel !== undefined) {\n",
       "    embed_document(root);\n",
       "  } else {\n",
       "    var attempts = 0;\n",
       "    var timer = setInterval(function(root) {\n",
       "      if (root.Bokeh !== undefined && root.Bokeh.Panel !== undefined) {\n",
       "        clearInterval(timer);\n",
       "        embed_document(root);\n",
       "      } else if (document.readyState == \"complete\") {\n",
       "        attempts++;\n",
       "        if (attempts > 100) {\n",
       "          clearInterval(timer);\n",
       "          console.log(\"Bokeh: ERROR: Unable to run BokehJS code because BokehJS library is missing\");\n",
       "        }\n",
       "      }\n",
       "    }, 10, root)\n",
       "  }\n",
       "})(window);</script>"
      ],
      "text/plain": [
       "Alert(str, alert_type='info', css_classes=['alert', 'alert-info'], margin=(0, 0, 25, 0), sizing_mode='stretch_width')"
      ]
     },
     "metadata": {
      "application/vnd.holoviews_exec.v0+json": {
       "id": "1033"
      }
     },
     "output_type": "display_data"
    },
    {
     "data": {},
     "metadata": {},
     "output_type": "display_data"
    },
    {
     "data": {
      "application/vnd.holoviews_exec.v0+json": "",
      "text/html": [
       "<div id='1035'>\n",
       "\n",
       "\n",
       "\n",
       "\n",
       "\n",
       "  <div class=\"bk-root\" id=\"d13031e1-5c8d-4a68-a560-8983233ee468\" data-root-id=\"1035\"></div>\n",
       "</div>\n",
       "<script type=\"application/javascript\">(function(root) {\n",
       "  function embed_document(root) {\n",
       "    var docs_json = {\"1ce5c53a-5fc1-4791-8f67-0a4d9fc114ad\":{\"defs\":[],\"roots\":{\"references\":[{\"attributes\":{\"client_comm_id\":\"21122558dca24805a1c3b13857525988\",\"comm_id\":\"09f55e02e6b4447083977c0b402aad3e\",\"plot_id\":\"1035\"},\"id\":\"1036\",\"type\":\"panel.models.comm_manager.CommManager\"},{\"attributes\":{\"css_classes\":[\"alert\",\"alert-warning\",\"markdown\"],\"margin\":[0,0,25,0],\"name\":\"Alert00136\",\"sizing_mode\":\"stretch_width\",\"text\":\"&lt;p&gt;Index files already available (/home/christine/Documents/These/frangiPANeGIT/rice/OglaRS2ADWL02.12chronly.fa).... Skip Indexation Step&lt;/p&gt;\"},\"id\":\"1035\",\"type\":\"panel.models.markup.HTML\"}],\"root_ids\":[\"1035\",\"1036\"]},\"title\":\"Bokeh Application\",\"version\":\"2.3.3\"}};\n",
       "    var render_items = [{\"docid\":\"1ce5c53a-5fc1-4791-8f67-0a4d9fc114ad\",\"root_ids\":[\"1035\"],\"roots\":{\"1035\":\"d13031e1-5c8d-4a68-a560-8983233ee468\"}}];\n",
       "    root.Bokeh.embed.embed_items_notebook(docs_json, render_items);\n",
       "  }\n",
       "  if (root.Bokeh !== undefined && root.Bokeh.Panel !== undefined) {\n",
       "    embed_document(root);\n",
       "  } else {\n",
       "    var attempts = 0;\n",
       "    var timer = setInterval(function(root) {\n",
       "      if (root.Bokeh !== undefined && root.Bokeh.Panel !== undefined) {\n",
       "        clearInterval(timer);\n",
       "        embed_document(root);\n",
       "      } else if (document.readyState == \"complete\") {\n",
       "        attempts++;\n",
       "        if (attempts > 100) {\n",
       "          clearInterval(timer);\n",
       "          console.log(\"Bokeh: ERROR: Unable to run BokehJS code because BokehJS library is missing\");\n",
       "        }\n",
       "      }\n",
       "    }, 10, root)\n",
       "  }\n",
       "})(window);</script>"
      ],
      "text/plain": [
       "Alert(str, alert_type='warning', css_classes=['alert', 'alert-warning']...], margin=(0, 0, 25, 0), sizing_mode='stretch_width')"
      ]
     },
     "metadata": {
      "application/vnd.holoviews_exec.v0+json": {
       "id": "1035"
      }
     },
     "output_type": "display_data"
    },
    {
     "data": {},
     "metadata": {},
     "output_type": "display_data"
    },
    {
     "data": {
      "application/vnd.holoviews_exec.v0+json": "",
      "text/html": [
       "<div id='1037'>\n",
       "\n",
       "\n",
       "\n",
       "\n",
       "\n",
       "  <div class=\"bk-root\" id=\"2aa00858-d75a-448c-874c-ea6686855843\" data-root-id=\"1037\"></div>\n",
       "</div>\n",
       "<script type=\"application/javascript\">(function(root) {\n",
       "  function embed_document(root) {\n",
       "    var docs_json = {\"00e05e5d-8f04-43b1-9acc-ca78dd8a7313\":{\"defs\":[],\"roots\":{\"references\":[{\"attributes\":{\"client_comm_id\":\"dc8e2795b8be44a99d48f9974c31bf56\",\"comm_id\":\"b591c51a1528492da349039c1b3b4ceb\",\"plot_id\":\"1037\"},\"id\":\"1043\",\"type\":\"panel.models.comm_manager.CommManager\"},{\"attributes\":{\"css_classes\":[\"markdown\"],\"margin\":[5,5,5,5],\"name\":\"Markdown00147\",\"text\":\"&lt;h2&gt;Genome size (Mb) : 344.46&lt;/h2&gt;\"},\"id\":\"1039\",\"type\":\"panel.models.markup.HTML\"},{\"attributes\":{\"background\":\"WhiteSmoke\",\"children\":[{\"id\":\"1038\"},{\"id\":\"1039\"},{\"id\":\"1040\"}],\"margin\":[0,0,0,0],\"name\":\"Column00149\",\"sizing_mode\":\"stretch_both\"},\"id\":\"1037\",\"type\":\"Column\"},{\"attributes\":{\"height\":432,\"margin\":[5,5,5,5],\"name\":\"Matplotlib00142\",\"text\":\"&lt;img src=&quot;data:image/png;base64,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&quot; width=&quot;576px&quot; height=&quot;432px&quot; alt=&quot;&quot;&gt;&lt;/img&gt;\",\"width\":576},\"id\":\"1041\",\"type\":\"panel.models.markup.HTML\"},{\"attributes\":{\"margin\":[5,5,5,5],\"name\":\"DataFrame00140\",\"text\":\"&lt;table border=&quot;0&quot; class=&quot;dataframe panel-df&quot;&gt;\\n  &lt;thead&gt;\\n    &lt;tr style=&quot;text-align: right;&quot;&gt;\\n      &lt;th&gt;&lt;/th&gt;\\n      &lt;th&gt;chr&lt;/th&gt;\\n      &lt;th&gt;size&lt;/th&gt;\\n    &lt;/tr&gt;\\n  &lt;/thead&gt;\\n  &lt;tbody&gt;\\n    &lt;tr&gt;\\n      &lt;th&gt;0&lt;/th&gt;\\n      &lt;td&gt;Chr01&lt;/td&gt;\\n      &lt;td&gt;39.66&lt;/td&gt;\\n    &lt;/tr&gt;\\n    &lt;tr&gt;\\n      &lt;th&gt;1&lt;/th&gt;\\n      &lt;td&gt;Chr02&lt;/td&gt;\\n      &lt;td&gt;34.45&lt;/td&gt;\\n    &lt;/tr&gt;\\n    &lt;tr&gt;\\n      &lt;th&gt;2&lt;/th&gt;\\n      &lt;td&gt;Chr03&lt;/td&gt;\\n      &lt;td&gt;35.53&lt;/td&gt;\\n    &lt;/tr&gt;\\n    &lt;tr&gt;\\n      &lt;th&gt;3&lt;/th&gt;\\n      &lt;td&gt;Chr04&lt;/td&gt;\\n      &lt;td&gt;31.57&lt;/td&gt;\\n    &lt;/tr&gt;\\n    &lt;tr&gt;\\n      &lt;th&gt;4&lt;/th&gt;\\n      &lt;td&gt;Chr05&lt;/td&gt;\\n      &lt;td&gt;26.27&lt;/td&gt;\\n    &lt;/tr&gt;\\n    &lt;tr&gt;\\n      &lt;th&gt;5&lt;/th&gt;\\n      &lt;td&gt;Chr06&lt;/td&gt;\\n      &lt;td&gt;29.28&lt;/td&gt;\\n    &lt;/tr&gt;\\n    &lt;tr&gt;\\n      &lt;th&gt;6&lt;/th&gt;\\n      &lt;td&gt;Chr07&lt;/td&gt;\\n      &lt;td&gt;26.60&lt;/td&gt;\\n    &lt;/tr&gt;\\n    &lt;tr&gt;\\n      &lt;th&gt;7&lt;/th&gt;\\n      &lt;td&gt;Chr08&lt;/td&gt;\\n      &lt;td&gt;25.47&lt;/td&gt;\\n    &lt;/tr&gt;\\n    &lt;tr&gt;\\n      &lt;th&gt;8&lt;/th&gt;\\n      &lt;td&gt;Chr09&lt;/td&gt;\\n      &lt;td&gt;21.80&lt;/td&gt;\\n    &lt;/tr&gt;\\n    &lt;tr&gt;\\n      &lt;th&gt;9&lt;/th&gt;\\n      &lt;td&gt;Chr10&lt;/td&gt;\\n      &lt;td&gt;22.42&lt;/td&gt;\\n    &lt;/tr&gt;\\n    &lt;tr&gt;\\n      &lt;th&gt;10&lt;/th&gt;\\n      &lt;td&gt;Chr11&lt;/td&gt;\\n      &lt;td&gt;26.39&lt;/td&gt;\\n    &lt;/tr&gt;\\n    &lt;tr&gt;\\n      &lt;th&gt;11&lt;/th&gt;\\n      &lt;td&gt;Chr12&lt;/td&gt;\\n      &lt;td&gt;25.02&lt;/td&gt;\\n    &lt;/tr&gt;\\n  &lt;/tbody&gt;\\n&lt;/table&gt;\"},\"id\":\"1042\",\"type\":\"panel.models.markup.HTML\"},{\"attributes\":{\"css_classes\":[\"markdown\"],\"margin\":[5,5,5,5],\"name\":\"Markdown00145\",\"text\":\"&lt;h1&gt;Reference genome file&lt;/h1&gt;\"},\"id\":\"1038\",\"type\":\"panel.models.markup.HTML\"},{\"attributes\":{\"children\":[{\"id\":\"1041\"},{\"id\":\"1042\"}],\"margin\":[0,0,0,0],\"name\":\"Row00144\"},\"id\":\"1040\",\"type\":\"Row\"}],\"root_ids\":[\"1037\",\"1043\"]},\"title\":\"Bokeh Application\",\"version\":\"2.3.3\"}};\n",
       "    var render_items = [{\"docid\":\"00e05e5d-8f04-43b1-9acc-ca78dd8a7313\",\"root_ids\":[\"1037\"],\"roots\":{\"1037\":\"2aa00858-d75a-448c-874c-ea6686855843\"}}];\n",
       "    root.Bokeh.embed.embed_items_notebook(docs_json, render_items);\n",
       "  }\n",
       "  if (root.Bokeh !== undefined && root.Bokeh.Panel !== undefined) {\n",
       "    embed_document(root);\n",
       "  } else {\n",
       "    var attempts = 0;\n",
       "    var timer = setInterval(function(root) {\n",
       "      if (root.Bokeh !== undefined && root.Bokeh.Panel !== undefined) {\n",
       "        clearInterval(timer);\n",
       "        embed_document(root);\n",
       "      } else if (document.readyState == \"complete\") {\n",
       "        attempts++;\n",
       "        if (attempts > 100) {\n",
       "          clearInterval(timer);\n",
       "          console.log(\"Bokeh: ERROR: Unable to run BokehJS code because BokehJS library is missing\");\n",
       "        }\n",
       "      }\n",
       "    }, 10, root)\n",
       "  }\n",
       "})(window);</script>"
      ],
      "text/plain": [
       "Column(background='WhiteSmoke', sizing_mode='stretch_both')\n",
       "    [0] Markdown(str)\n",
       "    [1] Markdown(str)\n",
       "    [2] Row\n",
       "        [0] Matplotlib(Figure)\n",
       "        [1] DataFrame(DataFrame)"
      ]
     },
     "metadata": {
      "application/vnd.holoviews_exec.v0+json": {
       "id": "1037"
      }
     },
     "output_type": "display_data"
    },
    {
     "data": {
      "text/html": [
       "<img src onerror=\"var cell = this.closest('.jp-CodeCell');var editor = cell.querySelector('.jp-Editor');editor.style.background='LightBlue';this.parentNode.removeChild(this)\">"
      ],
      "text/plain": [
       "<IPython.core.display.HTML object>"
      ]
     },
     "metadata": {},
     "output_type": "display_data"
    }
   ],
   "source": [
    "if not ref_file.value:\n",
    "    text = \"Fill the form with the reference file in the previous cell !\"\n",
    "    display_alert(text,\"danger\")\n",
    "elif not output_dir:\n",
    "    text = \"Creating frangiPANe output directory is required to continue !\"\n",
    "    display_alert(text,\"danger\")\n",
    "else:\n",
    "    index_reference_genome(ref_file.value, logger)\n",
    "    total_genome_size=dashboard_genome(ref_file.value)\n",
    "bgc('LightBlue')"
   ]
  },
  {
   "cell_type": "markdown",
   "metadata": {},
   "source": [
    "### <span style=\"color: #919395\">_Analyzing Group File_</span> "
   ]
  },
  {
   "cell_type": "code",
   "execution_count": 5,
   "metadata": {},
   "outputs": [
    {
     "data": {},
     "metadata": {},
     "output_type": "display_data"
    },
    {
     "data": {
      "application/vnd.holoviews_exec.v0+json": "",
      "text/html": [
       "<div id='1044'>\n",
       "\n",
       "\n",
       "\n",
       "\n",
       "\n",
       "  <div class=\"bk-root\" id=\"66ac2a53-2e9a-457f-b4cf-ed7587236edd\" data-root-id=\"1044\"></div>\n",
       "</div>\n",
       "<script type=\"application/javascript\">(function(root) {\n",
       "  function embed_document(root) {\n",
       "    var docs_json = {\"0ac1e6f3-9a2d-49b0-957a-206b68b5752c\":{\"defs\":[],\"roots\":{\"references\":[{\"attributes\":{\"css_classes\":[\"alert\",\"alert-success\",\"markdown\"],\"margin\":[0,0,25,0],\"name\":\"Alert00152\",\"sizing_mode\":\"stretch_width\",\"text\":\"&lt;p&gt;Group file /home/christine/Documents/These/frangiPANeGIT/rice/rice_group.txt correctly read&lt;/p&gt;\"},\"id\":\"1044\",\"type\":\"panel.models.markup.HTML\"},{\"attributes\":{\"client_comm_id\":\"3bcfcc9513b744b4a638fbf85ef53ed9\",\"comm_id\":\"118559de17f141719a644b314d3c759a\",\"plot_id\":\"1044\"},\"id\":\"1045\",\"type\":\"panel.models.comm_manager.CommManager\"}],\"root_ids\":[\"1044\",\"1045\"]},\"title\":\"Bokeh Application\",\"version\":\"2.3.3\"}};\n",
       "    var render_items = [{\"docid\":\"0ac1e6f3-9a2d-49b0-957a-206b68b5752c\",\"root_ids\":[\"1044\"],\"roots\":{\"1044\":\"66ac2a53-2e9a-457f-b4cf-ed7587236edd\"}}];\n",
       "    root.Bokeh.embed.embed_items_notebook(docs_json, render_items);\n",
       "  }\n",
       "  if (root.Bokeh !== undefined && root.Bokeh.Panel !== undefined) {\n",
       "    embed_document(root);\n",
       "  } else {\n",
       "    var attempts = 0;\n",
       "    var timer = setInterval(function(root) {\n",
       "      if (root.Bokeh !== undefined && root.Bokeh.Panel !== undefined) {\n",
       "        clearInterval(timer);\n",
       "        embed_document(root);\n",
       "      } else if (document.readyState == \"complete\") {\n",
       "        attempts++;\n",
       "        if (attempts > 100) {\n",
       "          clearInterval(timer);\n",
       "          console.log(\"Bokeh: ERROR: Unable to run BokehJS code because BokehJS library is missing\");\n",
       "        }\n",
       "      }\n",
       "    }, 10, root)\n",
       "  }\n",
       "})(window);</script>"
      ],
      "text/plain": [
       "Alert(str, alert_type='success', css_classes=['alert', 'alert-success']...], margin=(0, 0, 25, 0), sizing_mode='stretch_width')"
      ]
     },
     "metadata": {
      "application/vnd.holoviews_exec.v0+json": {
       "id": "1044"
      }
     },
     "output_type": "display_data"
    },
    {
     "data": {
      "application/javascript": [
       "\n",
       "(function(root) {\n",
       "  function now() {\n",
       "    return new Date();\n",
       "  }\n",
       "\n",
       "  var force = true;\n",
       "\n",
       "  if (typeof root._bokeh_onload_callbacks === \"undefined\" || force === true) {\n",
       "    root._bokeh_onload_callbacks = [];\n",
       "    root._bokeh_is_loading = undefined;\n",
       "  }\n",
       "\n",
       "  if (typeof (root._bokeh_timeout) === \"undefined\" || force === true) {\n",
       "    root._bokeh_timeout = Date.now() + 5000;\n",
       "    root._bokeh_failed_load = false;\n",
       "  }\n",
       "\n",
       "  function run_callbacks() {\n",
       "    try {\n",
       "      root._bokeh_onload_callbacks.forEach(function(callback) {\n",
       "        if (callback != null)\n",
       "          callback();\n",
       "      });\n",
       "    } finally {\n",
       "      delete root._bokeh_onload_callbacks\n",
       "    }\n",
       "    console.debug(\"Bokeh: all callbacks have finished\");\n",
       "  }\n",
       "\n",
       "  function load_libs(css_urls, js_urls, js_modules, callback) {\n",
       "    if (css_urls == null) css_urls = [];\n",
       "    if (js_urls == null) js_urls = [];\n",
       "    if (js_modules == null) js_modules = [];\n",
       "\n",
       "    root._bokeh_onload_callbacks.push(callback);\n",
       "    if (root._bokeh_is_loading > 0) {\n",
       "      console.debug(\"Bokeh: BokehJS is being loaded, scheduling callback at\", now());\n",
       "      return null;\n",
       "    }\n",
       "    if (js_urls.length === 0 && js_modules.length === 0) {\n",
       "      run_callbacks();\n",
       "      return null;\n",
       "    }\n",
       "    console.debug(\"Bokeh: BokehJS not loaded, scheduling load and callback at\", now());\n",
       "    root._bokeh_is_loading = css_urls.length + js_urls.length + js_modules.length;\n",
       "\n",
       "    function on_load() {\n",
       "      root._bokeh_is_loading--;\n",
       "      if (root._bokeh_is_loading === 0) {\n",
       "        console.debug(\"Bokeh: all BokehJS libraries/stylesheets loaded\");\n",
       "        run_callbacks()\n",
       "      }\n",
       "    }\n",
       "\n",
       "    function on_error() {\n",
       "      console.error(\"failed to load \" + url);\n",
       "    }\n",
       "\n",
       "    for (var i = 0; i < css_urls.length; i++) {\n",
       "      var url = css_urls[i];\n",
       "      const element = document.createElement(\"link\");\n",
       "      element.onload = on_load;\n",
       "      element.onerror = on_error;\n",
       "      element.rel = \"stylesheet\";\n",
       "      element.type = \"text/css\";\n",
       "      element.href = url;\n",
       "      console.debug(\"Bokeh: injecting link tag for BokehJS stylesheet: \", url);\n",
       "      document.body.appendChild(element);\n",
       "    }\n",
       "\n",
       "    var skip = [];\n",
       "    if (window.requirejs) {\n",
       "      window.requirejs.config({'paths': {'tabulator': 'https://unpkg.com/tabulator-tables@4.9.3/dist/js/tabulator'}});\n",
       "      require([], function() {\n",
       "      })\n",
       "    }\n",
       "    if (((window['tabulator'] !== undefined) && (!(window['tabulator'] instanceof HTMLElement))) || window.requirejs) {\n",
       "      var urls = ['https://unpkg.com/tabulator-tables@4.9.3/dist/js/tabulator.js', 'https://unpkg.com/moment@2.27.0/moment.js'];\n",
       "      for (var i = 0; i < urls.length; i++) {\n",
       "        skip.push(urls[i])\n",
       "      }\n",
       "    }\n",
       "    for (var i = 0; i < js_urls.length; i++) {\n",
       "      var url = js_urls[i];\n",
       "      if (skip.indexOf(url) >= 0) { on_load(); continue; }\n",
       "      var element = document.createElement('script');\n",
       "      element.onload = on_load;\n",
       "      element.onerror = on_error;\n",
       "      element.async = false;\n",
       "      element.src = url;\n",
       "      console.debug(\"Bokeh: injecting script tag for BokehJS library: \", url);\n",
       "      document.head.appendChild(element);\n",
       "    }\n",
       "    for (var i = 0; i < js_modules.length; i++) {\n",
       "      var url = js_modules[i];\n",
       "      if (skip.indexOf(url) >= 0) { on_load(); continue; }\n",
       "      var element = document.createElement('script');\n",
       "      element.onload = on_load;\n",
       "      element.onerror = on_error;\n",
       "      element.async = false;\n",
       "      element.src = url;\n",
       "      element.type = \"module\";\n",
       "      console.debug(\"Bokeh: injecting script tag for BokehJS library: \", url);\n",
       "      document.head.appendChild(element);\n",
       "    }\n",
       "    if (!js_urls.length && !js_modules.length) {\n",
       "      on_load()\n",
       "    }\n",
       "  };\n",
       "\n",
       "  function inject_raw_css(css) {\n",
       "    const element = document.createElement(\"style\");\n",
       "    element.appendChild(document.createTextNode(css));\n",
       "    document.body.appendChild(element);\n",
       "  }\n",
       "\n",
       "  var js_urls = [\"https://unpkg.com/tabulator-tables@4.9.3/dist/js/tabulator.js\", \"https://unpkg.com/moment@2.27.0/moment.js\", \"https://cdn.bokeh.org/bokeh/release/bokeh-2.3.3.min.js\", \"https://cdn.bokeh.org/bokeh/release/bokeh-widgets-2.3.3.min.js\", \"https://cdn.bokeh.org/bokeh/release/bokeh-tables-2.3.3.min.js\", \"https://unpkg.com/@holoviz/panel@0.11.1/dist/panel.min.js\"];\n",
       "  var js_modules = [];\n",
       "  var css_urls = [\"https://unpkg.com/tabulator-tables@4.9.3/dist/css/tabulator_simple.min.css\", \"https://unpkg.com/@holoviz/panel@0.11.1/dist/css/widgets.css\", \"https://unpkg.com/@holoviz/panel@0.11.1/dist/css/loading.css\", \"https://unpkg.com/@holoviz/panel@0.11.1/dist/css/dataframe.css\", \"https://unpkg.com/@holoviz/panel@0.11.1/dist/css/alerts.css\", \"https://unpkg.com/@holoviz/panel@0.11.1/dist/css/markdown.css\", \"https://unpkg.com/@holoviz/panel@0.11.1/dist/css/json.css\", \"https://unpkg.com/@holoviz/panel@0.11.1/dist/css/card.css\"];\n",
       "  var inline_js = [\n",
       "    function(Bokeh) {\n",
       "      inject_raw_css(\"\\n    .bk.pn-loading.arcs:before {\\n      background-image: url(\\\"data:image/svg+xml;base64,PHN2ZyB4bWxucz0iaHR0cDovL3d3dy53My5vcmcvMjAwMC9zdmciIHhtbG5zOnhsaW5rPSJodHRwOi8vd3d3LnczLm9yZy8xOTk5L3hsaW5rIiBzdHlsZT0ibWFyZ2luOiBhdXRvOyBiYWNrZ3JvdW5kOiBub25lOyBkaXNwbGF5OiBibG9jazsgc2hhcGUtcmVuZGVyaW5nOiBhdXRvOyIgdmlld0JveD0iMCAwIDEwMCAxMDAiIHByZXNlcnZlQXNwZWN0UmF0aW89InhNaWRZTWlkIj4gIDxjaXJjbGUgY3g9IjUwIiBjeT0iNTAiIHI9IjMyIiBzdHJva2Utd2lkdGg9IjgiIHN0cm9rZT0iI2MzYzNjMyIgc3Ryb2tlLWRhc2hhcnJheT0iNTAuMjY1NDgyNDU3NDM2NjkgNTAuMjY1NDgyNDU3NDM2NjkiIGZpbGw9Im5vbmUiIHN0cm9rZS1saW5lY2FwPSJyb3VuZCI+ICAgIDxhbmltYXRlVHJhbnNmb3JtIGF0dHJpYnV0ZU5hbWU9InRyYW5zZm9ybSIgdHlwZT0icm90YXRlIiByZXBlYXRDb3VudD0iaW5kZWZpbml0ZSIgZHVyPSIxcyIga2V5VGltZXM9IjA7MSIgdmFsdWVzPSIwIDUwIDUwOzM2MCA1MCA1MCI+PC9hbmltYXRlVHJhbnNmb3JtPiAgPC9jaXJjbGU+PC9zdmc+\\\")\\n    }\\n    \");\n",
       "    },\n",
       "    function(Bokeh) {\n",
       "      Bokeh.set_log_level(\"info\");\n",
       "    },\n",
       "    function(Bokeh) {} // ensure no trailing comma for IE\n",
       "  ];\n",
       "\n",
       "  function run_inline_js() {\n",
       "    if ((root.Bokeh !== undefined) || (force === true)) {\n",
       "      for (var i = 0; i < inline_js.length; i++) {\n",
       "        inline_js[i].call(root, root.Bokeh);\n",
       "      }} else if (Date.now() < root._bokeh_timeout) {\n",
       "      setTimeout(run_inline_js, 100);\n",
       "    } else if (!root._bokeh_failed_load) {\n",
       "      console.log(\"Bokeh: BokehJS failed to load within specified timeout.\");\n",
       "      root._bokeh_failed_load = true;\n",
       "    }\n",
       "  }\n",
       "\n",
       "  if (root._bokeh_is_loading === 0) {\n",
       "    console.debug(\"Bokeh: BokehJS loaded, going straight to plotting\");\n",
       "    run_inline_js();\n",
       "  } else {\n",
       "    load_libs(css_urls, js_urls, js_modules, function() {\n",
       "      console.debug(\"Bokeh: BokehJS plotting callback run at\", now());\n",
       "      run_inline_js();\n",
       "    });\n",
       "  }\n",
       "}(window));"
      ],
      "application/vnd.holoviews_load.v0+json": "\n(function(root) {\n  function now() {\n    return new Date();\n  }\n\n  var force = true;\n\n  if (typeof root._bokeh_onload_callbacks === \"undefined\" || force === true) {\n    root._bokeh_onload_callbacks = [];\n    root._bokeh_is_loading = undefined;\n  }\n\n  if (typeof (root._bokeh_timeout) === \"undefined\" || force === true) {\n    root._bokeh_timeout = Date.now() + 5000;\n    root._bokeh_failed_load = false;\n  }\n\n  function run_callbacks() {\n    try {\n      root._bokeh_onload_callbacks.forEach(function(callback) {\n        if (callback != null)\n          callback();\n      });\n    } finally {\n      delete root._bokeh_onload_callbacks\n    }\n    console.debug(\"Bokeh: all callbacks have finished\");\n  }\n\n  function load_libs(css_urls, js_urls, js_modules, callback) {\n    if (css_urls == null) css_urls = [];\n    if (js_urls == null) js_urls = [];\n    if (js_modules == null) js_modules = [];\n\n    root._bokeh_onload_callbacks.push(callback);\n    if (root._bokeh_is_loading > 0) {\n      console.debug(\"Bokeh: BokehJS is being loaded, scheduling callback at\", now());\n      return null;\n    }\n    if (js_urls.length === 0 && js_modules.length === 0) {\n      run_callbacks();\n      return null;\n    }\n    console.debug(\"Bokeh: BokehJS not loaded, scheduling load and callback at\", now());\n    root._bokeh_is_loading = css_urls.length + js_urls.length + js_modules.length;\n\n    function on_load() {\n      root._bokeh_is_loading--;\n      if (root._bokeh_is_loading === 0) {\n        console.debug(\"Bokeh: all BokehJS libraries/stylesheets loaded\");\n        run_callbacks()\n      }\n    }\n\n    function on_error() {\n      console.error(\"failed to load \" + url);\n    }\n\n    for (var i = 0; i < css_urls.length; i++) {\n      var url = css_urls[i];\n      const element = document.createElement(\"link\");\n      element.onload = on_load;\n      element.onerror = on_error;\n      element.rel = \"stylesheet\";\n      element.type = \"text/css\";\n      element.href = url;\n      console.debug(\"Bokeh: injecting link tag for BokehJS stylesheet: \", url);\n      document.body.appendChild(element);\n    }\n\n    var skip = [];\n    if (window.requirejs) {\n      window.requirejs.config({'paths': {'tabulator': 'https://unpkg.com/tabulator-tables@4.9.3/dist/js/tabulator'}});\n      require([], function() {\n      })\n    }\n    if (((window['tabulator'] !== undefined) && (!(window['tabulator'] instanceof HTMLElement))) || window.requirejs) {\n      var urls = ['https://unpkg.com/tabulator-tables@4.9.3/dist/js/tabulator.js', 'https://unpkg.com/moment@2.27.0/moment.js'];\n      for (var i = 0; i < urls.length; i++) {\n        skip.push(urls[i])\n      }\n    }\n    for (var i = 0; i < js_urls.length; i++) {\n      var url = js_urls[i];\n      if (skip.indexOf(url) >= 0) { on_load(); continue; }\n      var element = document.createElement('script');\n      element.onload = on_load;\n      element.onerror = on_error;\n      element.async = false;\n      element.src = url;\n      console.debug(\"Bokeh: injecting script tag for BokehJS library: \", url);\n      document.head.appendChild(element);\n    }\n    for (var i = 0; i < js_modules.length; i++) {\n      var url = js_modules[i];\n      if (skip.indexOf(url) >= 0) { on_load(); continue; }\n      var element = document.createElement('script');\n      element.onload = on_load;\n      element.onerror = on_error;\n      element.async = false;\n      element.src = url;\n      element.type = \"module\";\n      console.debug(\"Bokeh: injecting script tag for BokehJS library: \", url);\n      document.head.appendChild(element);\n    }\n    if (!js_urls.length && !js_modules.length) {\n      on_load()\n    }\n  };\n\n  function inject_raw_css(css) {\n    const element = document.createElement(\"style\");\n    element.appendChild(document.createTextNode(css));\n    document.body.appendChild(element);\n  }\n\n  var js_urls = [\"https://unpkg.com/tabulator-tables@4.9.3/dist/js/tabulator.js\", \"https://unpkg.com/moment@2.27.0/moment.js\", \"https://cdn.bokeh.org/bokeh/release/bokeh-2.3.3.min.js\", \"https://cdn.bokeh.org/bokeh/release/bokeh-widgets-2.3.3.min.js\", \"https://cdn.bokeh.org/bokeh/release/bokeh-tables-2.3.3.min.js\", \"https://unpkg.com/@holoviz/panel@0.11.1/dist/panel.min.js\"];\n  var js_modules = [];\n  var css_urls = [\"https://unpkg.com/tabulator-tables@4.9.3/dist/css/tabulator_simple.min.css\", \"https://unpkg.com/@holoviz/panel@0.11.1/dist/css/widgets.css\", \"https://unpkg.com/@holoviz/panel@0.11.1/dist/css/loading.css\", \"https://unpkg.com/@holoviz/panel@0.11.1/dist/css/dataframe.css\", \"https://unpkg.com/@holoviz/panel@0.11.1/dist/css/alerts.css\", \"https://unpkg.com/@holoviz/panel@0.11.1/dist/css/markdown.css\", \"https://unpkg.com/@holoviz/panel@0.11.1/dist/css/json.css\", \"https://unpkg.com/@holoviz/panel@0.11.1/dist/css/card.css\"];\n  var inline_js = [\n    function(Bokeh) {\n      inject_raw_css(\"\\n    .bk.pn-loading.arcs:before {\\n      background-image: url(\\\"data:image/svg+xml;base64,PHN2ZyB4bWxucz0iaHR0cDovL3d3dy53My5vcmcvMjAwMC9zdmciIHhtbG5zOnhsaW5rPSJodHRwOi8vd3d3LnczLm9yZy8xOTk5L3hsaW5rIiBzdHlsZT0ibWFyZ2luOiBhdXRvOyBiYWNrZ3JvdW5kOiBub25lOyBkaXNwbGF5OiBibG9jazsgc2hhcGUtcmVuZGVyaW5nOiBhdXRvOyIgdmlld0JveD0iMCAwIDEwMCAxMDAiIHByZXNlcnZlQXNwZWN0UmF0aW89InhNaWRZTWlkIj4gIDxjaXJjbGUgY3g9IjUwIiBjeT0iNTAiIHI9IjMyIiBzdHJva2Utd2lkdGg9IjgiIHN0cm9rZT0iI2MzYzNjMyIgc3Ryb2tlLWRhc2hhcnJheT0iNTAuMjY1NDgyNDU3NDM2NjkgNTAuMjY1NDgyNDU3NDM2NjkiIGZpbGw9Im5vbmUiIHN0cm9rZS1saW5lY2FwPSJyb3VuZCI+ICAgIDxhbmltYXRlVHJhbnNmb3JtIGF0dHJpYnV0ZU5hbWU9InRyYW5zZm9ybSIgdHlwZT0icm90YXRlIiByZXBlYXRDb3VudD0iaW5kZWZpbml0ZSIgZHVyPSIxcyIga2V5VGltZXM9IjA7MSIgdmFsdWVzPSIwIDUwIDUwOzM2MCA1MCA1MCI+PC9hbmltYXRlVHJhbnNmb3JtPiAgPC9jaXJjbGU+PC9zdmc+\\\")\\n    }\\n    \");\n    },\n    function(Bokeh) {\n      Bokeh.set_log_level(\"info\");\n    },\n    function(Bokeh) {} // ensure no trailing comma for IE\n  ];\n\n  function run_inline_js() {\n    if ((root.Bokeh !== undefined) || (force === true)) {\n      for (var i = 0; i < inline_js.length; i++) {\n        inline_js[i].call(root, root.Bokeh);\n      }} else if (Date.now() < root._bokeh_timeout) {\n      setTimeout(run_inline_js, 100);\n    } else if (!root._bokeh_failed_load) {\n      console.log(\"Bokeh: BokehJS failed to load within specified timeout.\");\n      root._bokeh_failed_load = true;\n    }\n  }\n\n  if (root._bokeh_is_loading === 0) {\n    console.debug(\"Bokeh: BokehJS loaded, going straight to plotting\");\n    run_inline_js();\n  } else {\n    load_libs(css_urls, js_urls, js_modules, function() {\n      console.debug(\"Bokeh: BokehJS plotting callback run at\", now());\n      run_inline_js();\n    });\n  }\n}(window));"
     },
     "metadata": {},
     "output_type": "display_data"
    },
    {
     "data": {
      "application/javascript": [
       "\n",
       "if ((window.PyViz === undefined) || (window.PyViz instanceof HTMLElement)) {\n",
       "  window.PyViz = {comms: {}, comm_status:{}, kernels:{}, receivers: {}, plot_index: []}\n",
       "}\n",
       "\n",
       "\n",
       "    function JupyterCommManager() {\n",
       "    }\n",
       "\n",
       "    JupyterCommManager.prototype.register_target = function(plot_id, comm_id, msg_handler) {\n",
       "      if (window.comm_manager || ((window.Jupyter !== undefined) && (Jupyter.notebook.kernel != null))) {\n",
       "        var comm_manager = window.comm_manager || Jupyter.notebook.kernel.comm_manager;\n",
       "        comm_manager.register_target(comm_id, function(comm) {\n",
       "          comm.on_msg(msg_handler);\n",
       "        });\n",
       "      } else if ((plot_id in window.PyViz.kernels) && (window.PyViz.kernels[plot_id])) {\n",
       "        window.PyViz.kernels[plot_id].registerCommTarget(comm_id, function(comm) {\n",
       "          comm.onMsg = msg_handler;\n",
       "        });\n",
       "      } else if (typeof google != 'undefined' && google.colab.kernel != null) {\n",
       "        google.colab.kernel.comms.registerTarget(comm_id, (comm) => {\n",
       "          var messages = comm.messages[Symbol.asyncIterator]();\n",
       "          function processIteratorResult(result) {\n",
       "            var message = result.value;\n",
       "            console.log(message)\n",
       "            var content = {data: message.data, comm_id};\n",
       "            var buffers = []\n",
       "            for (var buffer of message.buffers || []) {\n",
       "              buffers.push(new DataView(buffer))\n",
       "            }\n",
       "            var metadata = message.metadata || {};\n",
       "            var msg = {content, buffers, metadata}\n",
       "            msg_handler(msg);\n",
       "            return messages.next().then(processIteratorResult);\n",
       "          }\n",
       "          return messages.next().then(processIteratorResult);\n",
       "        })\n",
       "      }\n",
       "    }\n",
       "\n",
       "    JupyterCommManager.prototype.get_client_comm = function(plot_id, comm_id, msg_handler) {\n",
       "      if (comm_id in window.PyViz.comms) {\n",
       "        return window.PyViz.comms[comm_id];\n",
       "      } else if (window.comm_manager || ((window.Jupyter !== undefined) && (Jupyter.notebook.kernel != null))) {\n",
       "        var comm_manager = window.comm_manager || Jupyter.notebook.kernel.comm_manager;\n",
       "        var comm = comm_manager.new_comm(comm_id, {}, {}, {}, comm_id);\n",
       "        if (msg_handler) {\n",
       "          comm.on_msg(msg_handler);\n",
       "        }\n",
       "      } else if ((plot_id in window.PyViz.kernels) && (window.PyViz.kernels[plot_id])) {\n",
       "        var comm = window.PyViz.kernels[plot_id].connectToComm(comm_id);\n",
       "        comm.open();\n",
       "        if (msg_handler) {\n",
       "          comm.onMsg = msg_handler;\n",
       "        }\n",
       "      } else if (typeof google != 'undefined' && google.colab.kernel != null) {\n",
       "        var comm_promise = google.colab.kernel.comms.open(comm_id)\n",
       "        comm_promise.then((comm) => {\n",
       "          window.PyViz.comms[comm_id] = comm;\n",
       "          if (msg_handler) {\n",
       "            var messages = comm.messages[Symbol.asyncIterator]();\n",
       "            function processIteratorResult(result) {\n",
       "              var message = result.value;\n",
       "              var content = {data: message.data};\n",
       "              var metadata = message.metadata || {comm_id};\n",
       "              var msg = {content, metadata}\n",
       "              msg_handler(msg);\n",
       "              return messages.next().then(processIteratorResult);\n",
       "            }\n",
       "            return messages.next().then(processIteratorResult);\n",
       "          }\n",
       "        }) \n",
       "        var sendClosure = (data, metadata, buffers, disposeOnDone) => {\n",
       "          return comm_promise.then((comm) => {\n",
       "            comm.send(data, metadata, buffers, disposeOnDone);\n",
       "          });\n",
       "        };\n",
       "        var comm = {\n",
       "          send: sendClosure\n",
       "        };\n",
       "      }\n",
       "      window.PyViz.comms[comm_id] = comm;\n",
       "      return comm;\n",
       "    }\n",
       "    window.PyViz.comm_manager = new JupyterCommManager();\n",
       "    \n",
       "\n",
       "\n",
       "var JS_MIME_TYPE = 'application/javascript';\n",
       "var HTML_MIME_TYPE = 'text/html';\n",
       "var EXEC_MIME_TYPE = 'application/vnd.holoviews_exec.v0+json';\n",
       "var CLASS_NAME = 'output';\n",
       "\n",
       "/**\n",
       " * Render data to the DOM node\n",
       " */\n",
       "function render(props, node) {\n",
       "  var div = document.createElement(\"div\");\n",
       "  var script = document.createElement(\"script\");\n",
       "  node.appendChild(div);\n",
       "  node.appendChild(script);\n",
       "}\n",
       "\n",
       "/**\n",
       " * Handle when a new output is added\n",
       " */\n",
       "function handle_add_output(event, handle) {\n",
       "  var output_area = handle.output_area;\n",
       "  var output = handle.output;\n",
       "  if ((output.data == undefined) || (!output.data.hasOwnProperty(EXEC_MIME_TYPE))) {\n",
       "    return\n",
       "  }\n",
       "  var id = output.metadata[EXEC_MIME_TYPE][\"id\"];\n",
       "  var toinsert = output_area.element.find(\".\" + CLASS_NAME.split(' ')[0]);\n",
       "  if (id !== undefined) {\n",
       "    var nchildren = toinsert.length;\n",
       "    var html_node = toinsert[nchildren-1].children[0];\n",
       "    html_node.innerHTML = output.data[HTML_MIME_TYPE];\n",
       "    var scripts = [];\n",
       "    var nodelist = html_node.querySelectorAll(\"script\");\n",
       "    for (var i in nodelist) {\n",
       "      if (nodelist.hasOwnProperty(i)) {\n",
       "        scripts.push(nodelist[i])\n",
       "      }\n",
       "    }\n",
       "\n",
       "    scripts.forEach( function (oldScript) {\n",
       "      var newScript = document.createElement(\"script\");\n",
       "      var attrs = [];\n",
       "      var nodemap = oldScript.attributes;\n",
       "      for (var j in nodemap) {\n",
       "        if (nodemap.hasOwnProperty(j)) {\n",
       "          attrs.push(nodemap[j])\n",
       "        }\n",
       "      }\n",
       "      attrs.forEach(function(attr) { newScript.setAttribute(attr.name, attr.value) });\n",
       "      newScript.appendChild(document.createTextNode(oldScript.innerHTML));\n",
       "      oldScript.parentNode.replaceChild(newScript, oldScript);\n",
       "    });\n",
       "    if (JS_MIME_TYPE in output.data) {\n",
       "      toinsert[nchildren-1].children[1].textContent = output.data[JS_MIME_TYPE];\n",
       "    }\n",
       "    output_area._hv_plot_id = id;\n",
       "    if ((window.Bokeh !== undefined) && (id in Bokeh.index)) {\n",
       "      window.PyViz.plot_index[id] = Bokeh.index[id];\n",
       "    } else {\n",
       "      window.PyViz.plot_index[id] = null;\n",
       "    }\n",
       "  } else if (output.metadata[EXEC_MIME_TYPE][\"server_id\"] !== undefined) {\n",
       "    var bk_div = document.createElement(\"div\");\n",
       "    bk_div.innerHTML = output.data[HTML_MIME_TYPE];\n",
       "    var script_attrs = bk_div.children[0].attributes;\n",
       "    for (var i = 0; i < script_attrs.length; i++) {\n",
       "      toinsert[toinsert.length - 1].childNodes[1].setAttribute(script_attrs[i].name, script_attrs[i].value);\n",
       "    }\n",
       "    // store reference to server id on output_area\n",
       "    output_area._bokeh_server_id = output.metadata[EXEC_MIME_TYPE][\"server_id\"];\n",
       "  }\n",
       "}\n",
       "\n",
       "/**\n",
       " * Handle when an output is cleared or removed\n",
       " */\n",
       "function handle_clear_output(event, handle) {\n",
       "  var id = handle.cell.output_area._hv_plot_id;\n",
       "  var server_id = handle.cell.output_area._bokeh_server_id;\n",
       "  if (((id === undefined) || !(id in PyViz.plot_index)) && (server_id !== undefined)) { return; }\n",
       "  var comm = window.PyViz.comm_manager.get_client_comm(\"hv-extension-comm\", \"hv-extension-comm\", function () {});\n",
       "  if (server_id !== null) {\n",
       "    comm.send({event_type: 'server_delete', 'id': server_id});\n",
       "    return;\n",
       "  } else if (comm !== null) {\n",
       "    comm.send({event_type: 'delete', 'id': id});\n",
       "  }\n",
       "  delete PyViz.plot_index[id];\n",
       "  if ((window.Bokeh !== undefined) & (id in window.Bokeh.index)) {\n",
       "    var doc = window.Bokeh.index[id].model.document\n",
       "    doc.clear();\n",
       "    const i = window.Bokeh.documents.indexOf(doc);\n",
       "    if (i > -1) {\n",
       "      window.Bokeh.documents.splice(i, 1);\n",
       "    }\n",
       "  }\n",
       "}\n",
       "\n",
       "/**\n",
       " * Handle kernel restart event\n",
       " */\n",
       "function handle_kernel_cleanup(event, handle) {\n",
       "  delete PyViz.comms[\"hv-extension-comm\"];\n",
       "  window.PyViz.plot_index = {}\n",
       "}\n",
       "\n",
       "/**\n",
       " * Handle update_display_data messages\n",
       " */\n",
       "function handle_update_output(event, handle) {\n",
       "  handle_clear_output(event, {cell: {output_area: handle.output_area}})\n",
       "  handle_add_output(event, handle)\n",
       "}\n",
       "\n",
       "function register_renderer(events, OutputArea) {\n",
       "  function append_mime(data, metadata, element) {\n",
       "    // create a DOM node to render to\n",
       "    var toinsert = this.create_output_subarea(\n",
       "    metadata,\n",
       "    CLASS_NAME,\n",
       "    EXEC_MIME_TYPE\n",
       "    );\n",
       "    this.keyboard_manager.register_events(toinsert);\n",
       "    // Render to node\n",
       "    var props = {data: data, metadata: metadata[EXEC_MIME_TYPE]};\n",
       "    render(props, toinsert[0]);\n",
       "    element.append(toinsert);\n",
       "    return toinsert\n",
       "  }\n",
       "\n",
       "  events.on('output_added.OutputArea', handle_add_output);\n",
       "  events.on('output_updated.OutputArea', handle_update_output);\n",
       "  events.on('clear_output.CodeCell', handle_clear_output);\n",
       "  events.on('delete.Cell', handle_clear_output);\n",
       "  events.on('kernel_ready.Kernel', handle_kernel_cleanup);\n",
       "\n",
       "  OutputArea.prototype.register_mime_type(EXEC_MIME_TYPE, append_mime, {\n",
       "    safe: true,\n",
       "    index: 0\n",
       "  });\n",
       "}\n",
       "\n",
       "if (window.Jupyter !== undefined) {\n",
       "  try {\n",
       "    var events = require('base/js/events');\n",
       "    var OutputArea = require('notebook/js/outputarea').OutputArea;\n",
       "    if (OutputArea.prototype.mime_types().indexOf(EXEC_MIME_TYPE) == -1) {\n",
       "      register_renderer(events, OutputArea);\n",
       "    }\n",
       "  } catch(err) {\n",
       "  }\n",
       "}\n"
      ],
      "application/vnd.holoviews_load.v0+json": "\nif ((window.PyViz === undefined) || (window.PyViz instanceof HTMLElement)) {\n  window.PyViz = {comms: {}, comm_status:{}, kernels:{}, receivers: {}, plot_index: []}\n}\n\n\n    function JupyterCommManager() {\n    }\n\n    JupyterCommManager.prototype.register_target = function(plot_id, comm_id, msg_handler) {\n      if (window.comm_manager || ((window.Jupyter !== undefined) && (Jupyter.notebook.kernel != null))) {\n        var comm_manager = window.comm_manager || Jupyter.notebook.kernel.comm_manager;\n        comm_manager.register_target(comm_id, function(comm) {\n          comm.on_msg(msg_handler);\n        });\n      } else if ((plot_id in window.PyViz.kernels) && (window.PyViz.kernels[plot_id])) {\n        window.PyViz.kernels[plot_id].registerCommTarget(comm_id, function(comm) {\n          comm.onMsg = msg_handler;\n        });\n      } else if (typeof google != 'undefined' && google.colab.kernel != null) {\n        google.colab.kernel.comms.registerTarget(comm_id, (comm) => {\n          var messages = comm.messages[Symbol.asyncIterator]();\n          function processIteratorResult(result) {\n            var message = result.value;\n            console.log(message)\n            var content = {data: message.data, comm_id};\n            var buffers = []\n            for (var buffer of message.buffers || []) {\n              buffers.push(new DataView(buffer))\n            }\n            var metadata = message.metadata || {};\n            var msg = {content, buffers, metadata}\n            msg_handler(msg);\n            return messages.next().then(processIteratorResult);\n          }\n          return messages.next().then(processIteratorResult);\n        })\n      }\n    }\n\n    JupyterCommManager.prototype.get_client_comm = function(plot_id, comm_id, msg_handler) {\n      if (comm_id in window.PyViz.comms) {\n        return window.PyViz.comms[comm_id];\n      } else if (window.comm_manager || ((window.Jupyter !== undefined) && (Jupyter.notebook.kernel != null))) {\n        var comm_manager = window.comm_manager || Jupyter.notebook.kernel.comm_manager;\n        var comm = comm_manager.new_comm(comm_id, {}, {}, {}, comm_id);\n        if (msg_handler) {\n          comm.on_msg(msg_handler);\n        }\n      } else if ((plot_id in window.PyViz.kernels) && (window.PyViz.kernels[plot_id])) {\n        var comm = window.PyViz.kernels[plot_id].connectToComm(comm_id);\n        comm.open();\n        if (msg_handler) {\n          comm.onMsg = msg_handler;\n        }\n      } else if (typeof google != 'undefined' && google.colab.kernel != null) {\n        var comm_promise = google.colab.kernel.comms.open(comm_id)\n        comm_promise.then((comm) => {\n          window.PyViz.comms[comm_id] = comm;\n          if (msg_handler) {\n            var messages = comm.messages[Symbol.asyncIterator]();\n            function processIteratorResult(result) {\n              var message = result.value;\n              var content = {data: message.data};\n              var metadata = message.metadata || {comm_id};\n              var msg = {content, metadata}\n              msg_handler(msg);\n              return messages.next().then(processIteratorResult);\n            }\n            return messages.next().then(processIteratorResult);\n          }\n        }) \n        var sendClosure = (data, metadata, buffers, disposeOnDone) => {\n          return comm_promise.then((comm) => {\n            comm.send(data, metadata, buffers, disposeOnDone);\n          });\n        };\n        var comm = {\n          send: sendClosure\n        };\n      }\n      window.PyViz.comms[comm_id] = comm;\n      return comm;\n    }\n    window.PyViz.comm_manager = new JupyterCommManager();\n    \n\n\nvar JS_MIME_TYPE = 'application/javascript';\nvar HTML_MIME_TYPE = 'text/html';\nvar EXEC_MIME_TYPE = 'application/vnd.holoviews_exec.v0+json';\nvar CLASS_NAME = 'output';\n\n/**\n * Render data to the DOM node\n */\nfunction render(props, node) {\n  var div = document.createElement(\"div\");\n  var script = document.createElement(\"script\");\n  node.appendChild(div);\n  node.appendChild(script);\n}\n\n/**\n * Handle when a new output is added\n */\nfunction handle_add_output(event, handle) {\n  var output_area = handle.output_area;\n  var output = handle.output;\n  if ((output.data == undefined) || (!output.data.hasOwnProperty(EXEC_MIME_TYPE))) {\n    return\n  }\n  var id = output.metadata[EXEC_MIME_TYPE][\"id\"];\n  var toinsert = output_area.element.find(\".\" + CLASS_NAME.split(' ')[0]);\n  if (id !== undefined) {\n    var nchildren = toinsert.length;\n    var html_node = toinsert[nchildren-1].children[0];\n    html_node.innerHTML = output.data[HTML_MIME_TYPE];\n    var scripts = [];\n    var nodelist = html_node.querySelectorAll(\"script\");\n    for (var i in nodelist) {\n      if (nodelist.hasOwnProperty(i)) {\n        scripts.push(nodelist[i])\n      }\n    }\n\n    scripts.forEach( function (oldScript) {\n      var newScript = document.createElement(\"script\");\n      var attrs = [];\n      var nodemap = oldScript.attributes;\n      for (var j in nodemap) {\n        if (nodemap.hasOwnProperty(j)) {\n          attrs.push(nodemap[j])\n        }\n      }\n      attrs.forEach(function(attr) { newScript.setAttribute(attr.name, attr.value) });\n      newScript.appendChild(document.createTextNode(oldScript.innerHTML));\n      oldScript.parentNode.replaceChild(newScript, oldScript);\n    });\n    if (JS_MIME_TYPE in output.data) {\n      toinsert[nchildren-1].children[1].textContent = output.data[JS_MIME_TYPE];\n    }\n    output_area._hv_plot_id = id;\n    if ((window.Bokeh !== undefined) && (id in Bokeh.index)) {\n      window.PyViz.plot_index[id] = Bokeh.index[id];\n    } else {\n      window.PyViz.plot_index[id] = null;\n    }\n  } else if (output.metadata[EXEC_MIME_TYPE][\"server_id\"] !== undefined) {\n    var bk_div = document.createElement(\"div\");\n    bk_div.innerHTML = output.data[HTML_MIME_TYPE];\n    var script_attrs = bk_div.children[0].attributes;\n    for (var i = 0; i < script_attrs.length; i++) {\n      toinsert[toinsert.length - 1].childNodes[1].setAttribute(script_attrs[i].name, script_attrs[i].value);\n    }\n    // store reference to server id on output_area\n    output_area._bokeh_server_id = output.metadata[EXEC_MIME_TYPE][\"server_id\"];\n  }\n}\n\n/**\n * Handle when an output is cleared or removed\n */\nfunction handle_clear_output(event, handle) {\n  var id = handle.cell.output_area._hv_plot_id;\n  var server_id = handle.cell.output_area._bokeh_server_id;\n  if (((id === undefined) || !(id in PyViz.plot_index)) && (server_id !== undefined)) { return; }\n  var comm = window.PyViz.comm_manager.get_client_comm(\"hv-extension-comm\", \"hv-extension-comm\", function () {});\n  if (server_id !== null) {\n    comm.send({event_type: 'server_delete', 'id': server_id});\n    return;\n  } else if (comm !== null) {\n    comm.send({event_type: 'delete', 'id': id});\n  }\n  delete PyViz.plot_index[id];\n  if ((window.Bokeh !== undefined) & (id in window.Bokeh.index)) {\n    var doc = window.Bokeh.index[id].model.document\n    doc.clear();\n    const i = window.Bokeh.documents.indexOf(doc);\n    if (i > -1) {\n      window.Bokeh.documents.splice(i, 1);\n    }\n  }\n}\n\n/**\n * Handle kernel restart event\n */\nfunction handle_kernel_cleanup(event, handle) {\n  delete PyViz.comms[\"hv-extension-comm\"];\n  window.PyViz.plot_index = {}\n}\n\n/**\n * Handle update_display_data messages\n */\nfunction handle_update_output(event, handle) {\n  handle_clear_output(event, {cell: {output_area: handle.output_area}})\n  handle_add_output(event, handle)\n}\n\nfunction register_renderer(events, OutputArea) {\n  function append_mime(data, metadata, element) {\n    // create a DOM node to render to\n    var toinsert = this.create_output_subarea(\n    metadata,\n    CLASS_NAME,\n    EXEC_MIME_TYPE\n    );\n    this.keyboard_manager.register_events(toinsert);\n    // Render to node\n    var props = {data: data, metadata: metadata[EXEC_MIME_TYPE]};\n    render(props, toinsert[0]);\n    element.append(toinsert);\n    return toinsert\n  }\n\n  events.on('output_added.OutputArea', handle_add_output);\n  events.on('output_updated.OutputArea', handle_update_output);\n  events.on('clear_output.CodeCell', handle_clear_output);\n  events.on('delete.Cell', handle_clear_output);\n  events.on('kernel_ready.Kernel', handle_kernel_cleanup);\n\n  OutputArea.prototype.register_mime_type(EXEC_MIME_TYPE, append_mime, {\n    safe: true,\n    index: 0\n  });\n}\n\nif (window.Jupyter !== undefined) {\n  try {\n    var events = require('base/js/events');\n    var OutputArea = require('notebook/js/outputarea').OutputArea;\n    if (OutputArea.prototype.mime_types().indexOf(EXEC_MIME_TYPE) == -1) {\n      register_renderer(events, OutputArea);\n    }\n  } catch(err) {\n  }\n}\n"
     },
     "metadata": {},
     "output_type": "display_data"
    },
    {
     "data": {
      "application/vnd.holoviews_exec.v0+json": "",
      "text/html": [
       "<div id='1046'>\n",
       "\n",
       "\n",
       "\n",
       "\n",
       "\n",
       "  <div class=\"bk-root\" id=\"d4f0346b-104a-4ffd-adfa-33c60dc09a34\" data-root-id=\"1046\"></div>\n",
       "</div>\n",
       "<script type=\"application/javascript\">(function(root) {\n",
       "  function embed_document(root) {\n",
       "    var docs_json = {\"69e8f2b9-1554-44f7-b5ea-8aa2cbd8a6a4\":{\"defs\":[],\"roots\":{\"references\":[{\"attributes\":{\"code\":\"\\nvar state = null\\nfor (var root of cb_obj.document.roots()) {\\n  if (root.id == '1058') {\\n    state = root;\\n    break;\\n  }\\n}\\nif (!state) { return; }\\nstate.set_state(cb_obj, cb_obj.value)\\n\"},\"id\":\"1059\",\"type\":\"CustomJS\"},{\"attributes\":{\"children\":[{\"id\":\"1057\"}],\"margin\":[0,0,0,0],\"name\":\"Row00172\"},\"id\":\"1056\",\"type\":\"Row\"},{\"attributes\":{\"children\":[{\"id\":\"1051\"}],\"margin\":[0,0,0,0],\"name\":\"Row00164\"},\"id\":\"1050\",\"type\":\"Row\"},{\"attributes\":{\"state\":{\"O. barthii\":{\"content\":\"{\\\"events\\\": [{\\\"attr\\\": \\\"text\\\", \\\"kind\\\": \\\"ModelChanged\\\", \\\"model\\\": {\\\"id\\\": \\\"1057\\\"}, \\\"new\\\": \\\"&lt;table border=&quot;0&quot; class=&quot;dataframe panel-df&quot;&gt;\\\\n  &lt;thead&gt;\\\\n    &lt;tr style=&quot;text-align: right;&quot;&gt;\\\\n      &lt;th&gt;&lt;/th&gt;\\\\n      &lt;th&gt;sample&lt;/th&gt;\\\\n      &lt;th&gt;Species&lt;/th&gt;\\\\n    &lt;/tr&gt;\\\\n  &lt;/thead&gt;\\\\n  &lt;tbody&gt;\\\\n    &lt;tr&gt;\\\\n      &lt;th&gt;0&lt;/th&gt;\\\\n      &lt;td&gt;AA&lt;/td&gt;\\\\n      &lt;td&gt;O. barthii&lt;/td&gt;\\\\n    &lt;/tr&gt;\\\\n  &lt;/tbody&gt;\\\\n&lt;/table&gt;\\\"}], \\\"references\\\": []}\",\"header\":\"{\\\"msgid\\\": \\\"1061\\\", \\\"msgtype\\\": \\\"PATCH-DOC\\\"}\",\"metadata\":\"{}\"},\"O. glaberrima\":{\"content\":\"{\\\"events\\\": [{\\\"attr\\\": \\\"text\\\", \\\"kind\\\": \\\"ModelChanged\\\", \\\"model\\\": {\\\"id\\\": \\\"1057\\\"}, \\\"new\\\": \\\"&lt;table border=&quot;0&quot; class=&quot;dataframe panel-df&quot;&gt;\\\\n  &lt;thead&gt;\\\\n    &lt;tr style=&quot;text-align: right;&quot;&gt;\\\\n      &lt;th&gt;&lt;/th&gt;\\\\n      &lt;th&gt;sample&lt;/th&gt;\\\\n      &lt;th&gt;Species&lt;/th&gt;\\\\n    &lt;/tr&gt;\\\\n  &lt;/thead&gt;\\\\n  &lt;tbody&gt;\\\\n    &lt;tr&gt;\\\\n      &lt;th&gt;1&lt;/th&gt;\\\\n      &lt;td&gt;AB&lt;/td&gt;\\\\n      &lt;td&gt;O. glaberrima&lt;/td&gt;\\\\n    &lt;/tr&gt;\\\\n  &lt;/tbody&gt;\\\\n&lt;/table&gt;\\\"}], \\\"references\\\": []}\",\"header\":\"{\\\"msgid\\\": \\\"1060\\\", \\\"msgtype\\\": \\\"PATCH-DOC\\\"}\",\"metadata\":\"{}\"}},\"values\":[\"O. barthii\"],\"widgets\":{\"1054\":0}},\"id\":\"1058\",\"type\":\"panel.models.state.State\"},{\"attributes\":{\"children\":[{\"id\":\"1049\"},{\"id\":\"1050\"}],\"margin\":[0,0,0,0],\"name\":\"Row00167\"},\"id\":\"1048\",\"type\":\"Row\"},{\"attributes\":{\"css_classes\":[\"markdown\"],\"margin\":[5,5,5,5],\"name\":\"Markdown00158\",\"text\":\"&lt;h2&gt;Samples : 2&lt;/h2&gt;\\n&lt;h4&gt;Group : O. barthii O. glaberrima&lt;/h4&gt;\"},\"id\":\"1049\",\"type\":\"panel.models.markup.HTML\"},{\"attributes\":{\"height\":288,\"margin\":[5,5,5,5],\"name\":\"ParamMethod00160\",\"text\":\"&lt;img src=&quot;data:image/png;base64,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&quot; width=&quot;432px&quot; height=&quot;288px&quot; alt=&quot;&quot;&gt;&lt;/img&gt;\",\"width\":432},\"id\":\"1051\",\"type\":\"panel.models.markup.HTML\"},{\"attributes\":{\"children\":[{\"id\":\"1056\"}],\"css_classes\":[\"scrollable\"],\"height\":400,\"margin\":[0,0,0,0],\"name\":\"Row00175\",\"sizing_mode\":\"fixed\",\"width\":800},\"id\":\"1055\",\"type\":\"Row\"},{\"attributes\":{\"js_property_callbacks\":{\"change:value\":[{\"id\":\"1059\"}]},\"margin\":[5,10,5,10],\"options\":[[\"O. barthii\",\"O. barthii\"],[\"O. glaberrima\",\"O. glaberrima\"]],\"title\":\"Species\",\"value\":\"O. barthii\"},\"id\":\"1054\",\"type\":\"Select\"},{\"attributes\":{\"margin\":[5,10,5,10],\"name\":\"\",\"text\":\"<b></b>\"},\"id\":\"1053\",\"type\":\"Div\"},{\"attributes\":{\"background\":\"WhiteSmoke\",\"children\":[{\"id\":\"1047\"},{\"id\":\"1048\"},{\"id\":\"1052\"},{\"id\":\"1055\"}],\"css_classes\":[\"scrollable\"],\"margin\":[0,0,0,0],\"name\":\"Column00184\",\"sizing_mode\":\"stretch_both\",\"tags\":[\"embedded\"]},\"id\":\"1046\",\"type\":\"Column\"},{\"attributes\":{\"children\":[{\"id\":\"1053\"},{\"id\":\"1054\"}],\"margin\":[5,5,5,5],\"min_width\":300,\"name\":\"\",\"width\":300},\"id\":\"1052\",\"type\":\"Column\"},{\"attributes\":{\"margin\":[5,5,5,5],\"name\":\"ParamMethod00168\",\"text\":\"&lt;table border=&quot;0&quot; class=&quot;dataframe panel-df&quot;&gt;\\n  &lt;thead&gt;\\n    &lt;tr style=&quot;text-align: right;&quot;&gt;\\n      &lt;th&gt;&lt;/th&gt;\\n      &lt;th&gt;sample&lt;/th&gt;\\n      &lt;th&gt;Species&lt;/th&gt;\\n    &lt;/tr&gt;\\n  &lt;/thead&gt;\\n  &lt;tbody&gt;\\n    &lt;tr&gt;\\n      &lt;th&gt;0&lt;/th&gt;\\n      &lt;td&gt;AA&lt;/td&gt;\\n      &lt;td&gt;O. barthii&lt;/td&gt;\\n    &lt;/tr&gt;\\n  &lt;/tbody&gt;\\n&lt;/table&gt;\"},\"id\":\"1057\",\"type\":\"panel.models.markup.HTML\"},{\"attributes\":{\"css_classes\":[\"markdown\"],\"margin\":[5,5,5,5],\"name\":\"Markdown00176\",\"text\":\"&lt;h1&gt;Population Group&lt;/h1&gt;\"},\"id\":\"1047\",\"type\":\"panel.models.markup.HTML\"}],\"root_ids\":[\"1046\",\"1058\"]},\"title\":\"Bokeh Application\",\"version\":\"2.3.3\"}};\n",
       "    var render_items = [{\"docid\":\"69e8f2b9-1554-44f7-b5ea-8aa2cbd8a6a4\",\"root_ids\":[\"1046\"],\"roots\":{\"1046\":\"d4f0346b-104a-4ffd-adfa-33c60dc09a34\"}}];\n",
       "    root.Bokeh.embed.embed_items_notebook(docs_json, render_items);\n",
       "  }\n",
       "  if (root.Bokeh !== undefined && root.Bokeh.Panel !== undefined) {\n",
       "    embed_document(root);\n",
       "  } else {\n",
       "    var attempts = 0;\n",
       "    var timer = setInterval(function(root) {\n",
       "      if (root.Bokeh !== undefined && root.Bokeh.Panel !== undefined) {\n",
       "        clearInterval(timer);\n",
       "        embed_document(root);\n",
       "      } else if (document.readyState == \"complete\") {\n",
       "        attempts++;\n",
       "        if (attempts > 100) {\n",
       "          clearInterval(timer);\n",
       "          console.log(\"Bokeh: ERROR: Unable to run BokehJS code because BokehJS library is missing\");\n",
       "        }\n",
       "      }\n",
       "    }, 10, root)\n",
       "  }\n",
       "})(window);</script>"
      ]
     },
     "metadata": {
      "application/vnd.holoviews_exec.v0+json": {
       "id": "1046"
      }
     },
     "output_type": "display_data"
    },
    {
     "data": {
      "text/html": [
       "<img src onerror=\"var cell = this.closest('.jp-CodeCell');var editor = cell.querySelector('.jp-Editor');editor.style.background='LightBlue';this.parentNode.removeChild(this)\">"
      ],
      "text/plain": [
       "<IPython.core.display.HTML object>"
      ]
     },
     "metadata": {},
     "output_type": "display_data"
    }
   ],
   "source": [
    "if not group_file.value:\n",
    "    text = \"Fill the form with the group file in the previous cell !\"\n",
    "    display_alert(text,\"danger\")\n",
    "elif not output_dir:\n",
    "    text = \"Creating frangiPANe output directory is required to continue !\"\n",
    "    display_alert(text,\"danger\")\n",
    "else:\n",
    "    # Reading group file\n",
    "    id_dict, df_group = read_group_file(group_file.value,logger)\n",
    "    # Group file dashboard\n",
    "    dashboard_group(df_group)\n",
    "bgc('LightBlue')"
   ]
  },
  {
   "cell_type": "markdown",
   "metadata": {},
   "source": [
    "***\n",
    "\n",
    "[<img src=\"Images/up-arrow.png\" alt=\"Top\" width=2% align=\"right\">](#home \"Go back to the top\")\n",
    "\n",
    "\n",
    "# <span style=\"color: #3987C4;\">III - frangiPANe Workflow <a class=\"anchor\" id=\"workflow\"></a></span>\n",
    "\n",
    "<img src=\"Images/approachMapThenAssembly.jpg\" width=60%>\n",
    "\n"
   ]
  },
  {
   "cell_type": "markdown",
   "metadata": {},
   "source": [
    "Only fastq files corresponding to samples described in the group file (contained in fastq directory) will be used in this workflow.\n",
    "\n",
    "Fastq naming convention: \n",
    "* sample_code_1.fastq, sample_code_R1.fastq\n",
    "* sample_code_1.fq, sample_code_R1.fq\n",
    "* sample_code_2.fastq, sample_code_R2.fastq\n",
    "* sample_code_2.fq, sample_code_R2.fq\n",
    "\n",
    "with sample_code read from the group file (1st column)"
   ]
  },
  {
   "cell_type": "markdown",
   "metadata": {
    "tags": []
   },
   "source": [
    "### <span style=\"color: #919395\"> _1 - Stats about raw data (fastq files)_\n",
    "\n",
    "#### __Generating fastq statistics with `fastq_stats`__"
   ]
  },
  {
   "cell_type": "markdown",
   "metadata": {},
   "source": [
    "After this stat analysis, several files have been created and saved into 00_fastq_stats directory :\n",
    "* one file (fastq-stat) by fastq file\n",
    "* one file with all stats : all_fastq-stats.csv"
   ]
  },
  {
   "cell_type": "code",
   "execution_count": 6,
   "metadata": {},
   "outputs": [
    {
     "data": {},
     "metadata": {},
     "output_type": "display_data"
    },
    {
     "data": {
      "application/vnd.holoviews_exec.v0+json": "",
      "text/html": [
       "<div id='1062'>\n",
       "\n",
       "\n",
       "\n",
       "\n",
       "\n",
       "  <div class=\"bk-root\" id=\"fb7e7e4f-3d90-452e-b2f5-4010e975901c\" data-root-id=\"1062\"></div>\n",
       "</div>\n",
       "<script type=\"application/javascript\">(function(root) {\n",
       "  function embed_document(root) {\n",
       "    var docs_json = {\"049a747a-fb52-4366-9daf-517080504e39\":{\"defs\":[],\"roots\":{\"references\":[{\"attributes\":{\"client_comm_id\":\"2a4db1e0508644dfadbeabdf5afe07b6\",\"comm_id\":\"6a04a343741e428c8c73f677989a5b83\",\"plot_id\":\"1062\"},\"id\":\"1063\",\"type\":\"panel.models.comm_manager.CommManager\"},{\"attributes\":{\"css_classes\":[\"alert\",\"alert-warning\",\"markdown\"],\"margin\":[0,0,25,0],\"name\":\"Alert00186\",\"sizing_mode\":\"stretch_width\",\"text\":\"&lt;h3&gt;warning&lt;/h3&gt;\\n&lt;hr&gt;\\n&lt;p&gt;Directory /home/christine/Documents/These/frangiPANeGIT2/frangiPANe_PANRice/00-fastq_stats already existed&lt;/p&gt;\"},\"id\":\"1062\",\"type\":\"panel.models.markup.HTML\"}],\"root_ids\":[\"1062\",\"1063\"]},\"title\":\"Bokeh Application\",\"version\":\"2.3.3\"}};\n",
       "    var render_items = [{\"docid\":\"049a747a-fb52-4366-9daf-517080504e39\",\"root_ids\":[\"1062\"],\"roots\":{\"1062\":\"fb7e7e4f-3d90-452e-b2f5-4010e975901c\"}}];\n",
       "    root.Bokeh.embed.embed_items_notebook(docs_json, render_items);\n",
       "  }\n",
       "  if (root.Bokeh !== undefined && root.Bokeh.Panel !== undefined) {\n",
       "    embed_document(root);\n",
       "  } else {\n",
       "    var attempts = 0;\n",
       "    var timer = setInterval(function(root) {\n",
       "      if (root.Bokeh !== undefined && root.Bokeh.Panel !== undefined) {\n",
       "        clearInterval(timer);\n",
       "        embed_document(root);\n",
       "      } else if (document.readyState == \"complete\") {\n",
       "        attempts++;\n",
       "        if (attempts > 100) {\n",
       "          clearInterval(timer);\n",
       "          console.log(\"Bokeh: ERROR: Unable to run BokehJS code because BokehJS library is missing\");\n",
       "        }\n",
       "      }\n",
       "    }, 10, root)\n",
       "  }\n",
       "})(window);</script>"
      ],
      "text/plain": [
       "Alert(str, alert_type='warning', css_classes=['alert', 'alert-warning']...], margin=(0, 0, 25, 0), sizing_mode='stretch_width')"
      ]
     },
     "metadata": {
      "application/vnd.holoviews_exec.v0+json": {
       "id": "1062"
      }
     },
     "output_type": "display_data"
    },
    {
     "data": {},
     "metadata": {},
     "output_type": "display_data"
    },
    {
     "data": {
      "application/vnd.holoviews_exec.v0+json": "",
      "text/html": [
       "<div id='1064'>\n",
       "\n",
       "\n",
       "\n",
       "\n",
       "\n",
       "  <div class=\"bk-root\" id=\"24e8bd85-c22e-4d6d-b949-48be7647f61f\" data-root-id=\"1064\"></div>\n",
       "</div>\n",
       "<script type=\"application/javascript\">(function(root) {\n",
       "  function embed_document(root) {\n",
       "    var docs_json = {\"8575820d-ddd7-4b43-b9fb-832248542e53\":{\"defs\":[],\"roots\":{\"references\":[{\"attributes\":{\"client_comm_id\":\"09d9301aba0846dda8d25a7c09a55102\",\"comm_id\":\"d9260aa2a3094cfd8b19ab7c50052037\",\"plot_id\":\"1064\"},\"id\":\"1065\",\"type\":\"panel.models.comm_manager.CommManager\"},{\"attributes\":{\"css_classes\":[\"alert\",\"alert-info\",\"markdown\"],\"margin\":[0,0,25,0],\"name\":\"Alert00190\",\"sizing_mode\":\"stretch_width\",\"text\":\"&lt;p&gt;Generating some stat about raw data into (/home/christine/Documents/These/frangiPANeGIT2/frangiPANe_PANRice/00-fastq_stats)&amp;hellip;&lt;/p&gt;\"},\"id\":\"1064\",\"type\":\"panel.models.markup.HTML\"}],\"root_ids\":[\"1064\",\"1065\"]},\"title\":\"Bokeh Application\",\"version\":\"2.3.3\"}};\n",
       "    var render_items = [{\"docid\":\"8575820d-ddd7-4b43-b9fb-832248542e53\",\"root_ids\":[\"1064\"],\"roots\":{\"1064\":\"24e8bd85-c22e-4d6d-b949-48be7647f61f\"}}];\n",
       "    root.Bokeh.embed.embed_items_notebook(docs_json, render_items);\n",
       "  }\n",
       "  if (root.Bokeh !== undefined && root.Bokeh.Panel !== undefined) {\n",
       "    embed_document(root);\n",
       "  } else {\n",
       "    var attempts = 0;\n",
       "    var timer = setInterval(function(root) {\n",
       "      if (root.Bokeh !== undefined && root.Bokeh.Panel !== undefined) {\n",
       "        clearInterval(timer);\n",
       "        embed_document(root);\n",
       "      } else if (document.readyState == \"complete\") {\n",
       "        attempts++;\n",
       "        if (attempts > 100) {\n",
       "          clearInterval(timer);\n",
       "          console.log(\"Bokeh: ERROR: Unable to run BokehJS code because BokehJS library is missing\");\n",
       "        }\n",
       "      }\n",
       "    }, 10, root)\n",
       "  }\n",
       "})(window);</script>"
      ],
      "text/plain": [
       "Alert(str, alert_type='info', css_classes=['alert', 'alert-info'], margin=(0, 0, 25, 0), sizing_mode='stretch_width')"
      ]
     },
     "metadata": {
      "application/vnd.holoviews_exec.v0+json": {
       "id": "1064"
      }
     },
     "output_type": "display_data"
    },
    {
     "data": {},
     "metadata": {},
     "output_type": "display_data"
    },
    {
     "data": {
      "application/vnd.holoviews_exec.v0+json": "",
      "text/html": [
       "<div id='1066'>\n",
       "\n",
       "\n",
       "\n",
       "\n",
       "\n",
       "  <div class=\"bk-root\" id=\"74cedd34-5ea8-4e2b-b474-3ed670e32fc2\" data-root-id=\"1066\"></div>\n",
       "</div>\n",
       "<script type=\"application/javascript\">(function(root) {\n",
       "  function embed_document(root) {\n",
       "    var docs_json = {\"f33eda6b-e0c7-43a5-8b7f-3b18c8a679c2\":{\"defs\":[],\"roots\":{\"references\":[{\"attributes\":{\"client_comm_id\":\"5d10077a3c4e4a7c9e3f357d3c800f28\",\"comm_id\":\"fd864e17031a412089f0e9103d4de102\",\"plot_id\":\"1066\"},\"id\":\"1067\",\"type\":\"panel.models.comm_manager.CommManager\"},{\"attributes\":{\"css_classes\":[\"alert\",\"alert-info\",\"markdown\"],\"margin\":[0,0,25,0],\"name\":\"Alert00194\",\"sizing_mode\":\"stretch_width\",\"text\":\"&lt;p&gt;Reading fastq directory (/home/christine/Documents/These/frangiPANeGIT/rice/fastq2) and group file&amp;hellip;&lt;/p&gt;\"},\"id\":\"1066\",\"type\":\"panel.models.markup.HTML\"}],\"root_ids\":[\"1066\",\"1067\"]},\"title\":\"Bokeh Application\",\"version\":\"2.3.3\"}};\n",
       "    var render_items = [{\"docid\":\"f33eda6b-e0c7-43a5-8b7f-3b18c8a679c2\",\"root_ids\":[\"1066\"],\"roots\":{\"1066\":\"74cedd34-5ea8-4e2b-b474-3ed670e32fc2\"}}];\n",
       "    root.Bokeh.embed.embed_items_notebook(docs_json, render_items);\n",
       "  }\n",
       "  if (root.Bokeh !== undefined && root.Bokeh.Panel !== undefined) {\n",
       "    embed_document(root);\n",
       "  } else {\n",
       "    var attempts = 0;\n",
       "    var timer = setInterval(function(root) {\n",
       "      if (root.Bokeh !== undefined && root.Bokeh.Panel !== undefined) {\n",
       "        clearInterval(timer);\n",
       "        embed_document(root);\n",
       "      } else if (document.readyState == \"complete\") {\n",
       "        attempts++;\n",
       "        if (attempts > 100) {\n",
       "          clearInterval(timer);\n",
       "          console.log(\"Bokeh: ERROR: Unable to run BokehJS code because BokehJS library is missing\");\n",
       "        }\n",
       "      }\n",
       "    }, 10, root)\n",
       "  }\n",
       "})(window);</script>"
      ],
      "text/plain": [
       "Alert(str, alert_type='info', css_classes=['alert', 'alert-info'], margin=(0, 0, 25, 0), sizing_mode='stretch_width')"
      ]
     },
     "metadata": {
      "application/vnd.holoviews_exec.v0+json": {
       "id": "1066"
      }
     },
     "output_type": "display_data"
    },
    {
     "data": {},
     "metadata": {},
     "output_type": "display_data"
    },
    {
     "data": {
      "application/vnd.holoviews_exec.v0+json": "",
      "text/html": [
       "<div id='1068'>\n",
       "\n",
       "\n",
       "\n",
       "\n",
       "\n",
       "  <div class=\"bk-root\" id=\"13f2cbb1-92b2-425e-9967-a05e44cce96f\" data-root-id=\"1068\"></div>\n",
       "</div>\n",
       "<script type=\"application/javascript\">(function(root) {\n",
       "  function embed_document(root) {\n",
       "    var docs_json = {\"326d5819-9e7e-402a-b9b1-b5d3064f85ee\":{\"defs\":[],\"roots\":{\"references\":[{\"attributes\":{\"css_classes\":[\"alert\",\"alert-warning\",\"markdown\"],\"margin\":[0,0,25,0],\"name\":\"Alert00198\",\"sizing_mode\":\"stretch_width\",\"text\":\"&lt;p&gt;Fastq stats previously runned for (/home/christine/Documents/These/frangiPANeGIT2/frangiPANe_PANRice/00-fastq_stats/AA_1.fastq.gz.fastqstat)&lt;/p&gt;\"},\"id\":\"1068\",\"type\":\"panel.models.markup.HTML\"},{\"attributes\":{\"client_comm_id\":\"a0cf738a7b0f43c0a366ea3aba85abe5\",\"comm_id\":\"8a35baa5db5f41b885563e4199ab234e\",\"plot_id\":\"1068\"},\"id\":\"1069\",\"type\":\"panel.models.comm_manager.CommManager\"}],\"root_ids\":[\"1068\",\"1069\"]},\"title\":\"Bokeh Application\",\"version\":\"2.3.3\"}};\n",
       "    var render_items = [{\"docid\":\"326d5819-9e7e-402a-b9b1-b5d3064f85ee\",\"root_ids\":[\"1068\"],\"roots\":{\"1068\":\"13f2cbb1-92b2-425e-9967-a05e44cce96f\"}}];\n",
       "    root.Bokeh.embed.embed_items_notebook(docs_json, render_items);\n",
       "  }\n",
       "  if (root.Bokeh !== undefined && root.Bokeh.Panel !== undefined) {\n",
       "    embed_document(root);\n",
       "  } else {\n",
       "    var attempts = 0;\n",
       "    var timer = setInterval(function(root) {\n",
       "      if (root.Bokeh !== undefined && root.Bokeh.Panel !== undefined) {\n",
       "        clearInterval(timer);\n",
       "        embed_document(root);\n",
       "      } else if (document.readyState == \"complete\") {\n",
       "        attempts++;\n",
       "        if (attempts > 100) {\n",
       "          clearInterval(timer);\n",
       "          console.log(\"Bokeh: ERROR: Unable to run BokehJS code because BokehJS library is missing\");\n",
       "        }\n",
       "      }\n",
       "    }, 10, root)\n",
       "  }\n",
       "})(window);</script>"
      ],
      "text/plain": [
       "Alert(str, alert_type='warning', css_classes=['alert', 'alert-warning']...], margin=(0, 0, 25, 0), sizing_mode='stretch_width')"
      ]
     },
     "metadata": {
      "application/vnd.holoviews_exec.v0+json": {
       "id": "1068"
      }
     },
     "output_type": "display_data"
    },
    {
     "data": {},
     "metadata": {},
     "output_type": "display_data"
    },
    {
     "data": {
      "application/vnd.holoviews_exec.v0+json": "",
      "text/html": [
       "<div id='1070'>\n",
       "\n",
       "\n",
       "\n",
       "\n",
       "\n",
       "  <div class=\"bk-root\" id=\"837d0398-1a25-48c1-8f88-5b7d250fa91f\" data-root-id=\"1070\"></div>\n",
       "</div>\n",
       "<script type=\"application/javascript\">(function(root) {\n",
       "  function embed_document(root) {\n",
       "    var docs_json = {\"bb91c35c-458a-42fc-ae85-1a05ebda3fcf\":{\"defs\":[],\"roots\":{\"references\":[{\"attributes\":{\"client_comm_id\":\"883f523d655240bfb6b8117d80656eb8\",\"comm_id\":\"bdb32d783a7e4c7f8f3b1c2caeb0dbc4\",\"plot_id\":\"1070\"},\"id\":\"1071\",\"type\":\"panel.models.comm_manager.CommManager\"},{\"attributes\":{\"css_classes\":[\"alert\",\"alert-warning\",\"markdown\"],\"margin\":[0,0,25,0],\"name\":\"Alert00202\",\"sizing_mode\":\"stretch_width\",\"text\":\"&lt;p&gt;Read group AB0 in this file (AB0_1.fastq.gz) not in group file.... Skip fastq stats&lt;/p&gt;\"},\"id\":\"1070\",\"type\":\"panel.models.markup.HTML\"}],\"root_ids\":[\"1070\",\"1071\"]},\"title\":\"Bokeh Application\",\"version\":\"2.3.3\"}};\n",
       "    var render_items = [{\"docid\":\"bb91c35c-458a-42fc-ae85-1a05ebda3fcf\",\"root_ids\":[\"1070\"],\"roots\":{\"1070\":\"837d0398-1a25-48c1-8f88-5b7d250fa91f\"}}];\n",
       "    root.Bokeh.embed.embed_items_notebook(docs_json, render_items);\n",
       "  }\n",
       "  if (root.Bokeh !== undefined && root.Bokeh.Panel !== undefined) {\n",
       "    embed_document(root);\n",
       "  } else {\n",
       "    var attempts = 0;\n",
       "    var timer = setInterval(function(root) {\n",
       "      if (root.Bokeh !== undefined && root.Bokeh.Panel !== undefined) {\n",
       "        clearInterval(timer);\n",
       "        embed_document(root);\n",
       "      } else if (document.readyState == \"complete\") {\n",
       "        attempts++;\n",
       "        if (attempts > 100) {\n",
       "          clearInterval(timer);\n",
       "          console.log(\"Bokeh: ERROR: Unable to run BokehJS code because BokehJS library is missing\");\n",
       "        }\n",
       "      }\n",
       "    }, 10, root)\n",
       "  }\n",
       "})(window);</script>"
      ],
      "text/plain": [
       "Alert(str, alert_type='warning', css_classes=['alert', 'alert-warning']...], margin=(0, 0, 25, 0), sizing_mode='stretch_width')"
      ]
     },
     "metadata": {
      "application/vnd.holoviews_exec.v0+json": {
       "id": "1070"
      }
     },
     "output_type": "display_data"
    },
    {
     "data": {},
     "metadata": {},
     "output_type": "display_data"
    },
    {
     "data": {
      "application/vnd.holoviews_exec.v0+json": "",
      "text/html": [
       "<div id='1072'>\n",
       "\n",
       "\n",
       "\n",
       "\n",
       "\n",
       "  <div class=\"bk-root\" id=\"231b18c9-f2d6-444a-a402-7fc739c59505\" data-root-id=\"1072\"></div>\n",
       "</div>\n",
       "<script type=\"application/javascript\">(function(root) {\n",
       "  function embed_document(root) {\n",
       "    var docs_json = {\"55aa4c73-b416-4de6-aa7f-663aceb2713e\":{\"defs\":[],\"roots\":{\"references\":[{\"attributes\":{\"css_classes\":[\"alert\",\"alert-warning\",\"markdown\"],\"margin\":[0,0,25,0],\"name\":\"Alert00206\",\"sizing_mode\":\"stretch_width\",\"text\":\"&lt;p&gt;Read group DT in this file (DT_1.fastq.gz) not in group file.... Skip fastq stats&lt;/p&gt;\"},\"id\":\"1072\",\"type\":\"panel.models.markup.HTML\"},{\"attributes\":{\"client_comm_id\":\"dfb05619451245489ae7b4b36c4cb17b\",\"comm_id\":\"ea49e2560dfe4051a276719e5e032eca\",\"plot_id\":\"1072\"},\"id\":\"1073\",\"type\":\"panel.models.comm_manager.CommManager\"}],\"root_ids\":[\"1072\",\"1073\"]},\"title\":\"Bokeh Application\",\"version\":\"2.3.3\"}};\n",
       "    var render_items = [{\"docid\":\"55aa4c73-b416-4de6-aa7f-663aceb2713e\",\"root_ids\":[\"1072\"],\"roots\":{\"1072\":\"231b18c9-f2d6-444a-a402-7fc739c59505\"}}];\n",
       "    root.Bokeh.embed.embed_items_notebook(docs_json, render_items);\n",
       "  }\n",
       "  if (root.Bokeh !== undefined && root.Bokeh.Panel !== undefined) {\n",
       "    embed_document(root);\n",
       "  } else {\n",
       "    var attempts = 0;\n",
       "    var timer = setInterval(function(root) {\n",
       "      if (root.Bokeh !== undefined && root.Bokeh.Panel !== undefined) {\n",
       "        clearInterval(timer);\n",
       "        embed_document(root);\n",
       "      } else if (document.readyState == \"complete\") {\n",
       "        attempts++;\n",
       "        if (attempts > 100) {\n",
       "          clearInterval(timer);\n",
       "          console.log(\"Bokeh: ERROR: Unable to run BokehJS code because BokehJS library is missing\");\n",
       "        }\n",
       "      }\n",
       "    }, 10, root)\n",
       "  }\n",
       "})(window);</script>"
      ],
      "text/plain": [
       "Alert(str, alert_type='warning', css_classes=['alert', 'alert-warning']...], margin=(0, 0, 25, 0), sizing_mode='stretch_width')"
      ]
     },
     "metadata": {
      "application/vnd.holoviews_exec.v0+json": {
       "id": "1072"
      }
     },
     "output_type": "display_data"
    },
    {
     "data": {},
     "metadata": {},
     "output_type": "display_data"
    },
    {
     "data": {
      "application/vnd.holoviews_exec.v0+json": "",
      "text/html": [
       "<div id='1074'>\n",
       "\n",
       "\n",
       "\n",
       "\n",
       "\n",
       "  <div class=\"bk-root\" id=\"3de56899-450d-4a5c-8678-279d0c537b0e\" data-root-id=\"1074\"></div>\n",
       "</div>\n",
       "<script type=\"application/javascript\">(function(root) {\n",
       "  function embed_document(root) {\n",
       "    var docs_json = {\"90458a97-a932-4447-85e9-92144fcfe385\":{\"defs\":[],\"roots\":{\"references\":[{\"attributes\":{\"css_classes\":[\"alert\",\"alert-warning\",\"markdown\"],\"margin\":[0,0,25,0],\"name\":\"Alert00210\",\"sizing_mode\":\"stretch_width\",\"text\":\"&lt;p&gt;Read group AB0 in this file (AB0_2.fastq.gz) not in group file.... Skip fastq stats&lt;/p&gt;\"},\"id\":\"1074\",\"type\":\"panel.models.markup.HTML\"},{\"attributes\":{\"client_comm_id\":\"6fb93a2296104e6b92bc7dce32f8afdd\",\"comm_id\":\"cbbc4f6fc6cf4499a56af0cf2c39653c\",\"plot_id\":\"1074\"},\"id\":\"1075\",\"type\":\"panel.models.comm_manager.CommManager\"}],\"root_ids\":[\"1074\",\"1075\"]},\"title\":\"Bokeh Application\",\"version\":\"2.3.3\"}};\n",
       "    var render_items = [{\"docid\":\"90458a97-a932-4447-85e9-92144fcfe385\",\"root_ids\":[\"1074\"],\"roots\":{\"1074\":\"3de56899-450d-4a5c-8678-279d0c537b0e\"}}];\n",
       "    root.Bokeh.embed.embed_items_notebook(docs_json, render_items);\n",
       "  }\n",
       "  if (root.Bokeh !== undefined && root.Bokeh.Panel !== undefined) {\n",
       "    embed_document(root);\n",
       "  } else {\n",
       "    var attempts = 0;\n",
       "    var timer = setInterval(function(root) {\n",
       "      if (root.Bokeh !== undefined && root.Bokeh.Panel !== undefined) {\n",
       "        clearInterval(timer);\n",
       "        embed_document(root);\n",
       "      } else if (document.readyState == \"complete\") {\n",
       "        attempts++;\n",
       "        if (attempts > 100) {\n",
       "          clearInterval(timer);\n",
       "          console.log(\"Bokeh: ERROR: Unable to run BokehJS code because BokehJS library is missing\");\n",
       "        }\n",
       "      }\n",
       "    }, 10, root)\n",
       "  }\n",
       "})(window);</script>"
      ],
      "text/plain": [
       "Alert(str, alert_type='warning', css_classes=['alert', 'alert-warning']...], margin=(0, 0, 25, 0), sizing_mode='stretch_width')"
      ]
     },
     "metadata": {
      "application/vnd.holoviews_exec.v0+json": {
       "id": "1074"
      }
     },
     "output_type": "display_data"
    },
    {
     "data": {},
     "metadata": {},
     "output_type": "display_data"
    },
    {
     "data": {
      "application/vnd.holoviews_exec.v0+json": "",
      "text/html": [
       "<div id='1076'>\n",
       "\n",
       "\n",
       "\n",
       "\n",
       "\n",
       "  <div class=\"bk-root\" id=\"f685b272-dda0-4485-a571-98f44435b499\" data-root-id=\"1076\"></div>\n",
       "</div>\n",
       "<script type=\"application/javascript\">(function(root) {\n",
       "  function embed_document(root) {\n",
       "    var docs_json = {\"1d6e86f4-7811-4d6c-b784-e56ef3838516\":{\"defs\":[],\"roots\":{\"references\":[{\"attributes\":{\"css_classes\":[\"alert\",\"alert-warning\",\"markdown\"],\"margin\":[0,0,25,0],\"name\":\"Alert00214\",\"sizing_mode\":\"stretch_width\",\"text\":\"&lt;p&gt;Read group DT in this file (DT_2.fastq.gz) not in group file.... Skip fastq stats&lt;/p&gt;\"},\"id\":\"1076\",\"type\":\"panel.models.markup.HTML\"},{\"attributes\":{\"client_comm_id\":\"55b4caa90619456c86c63647eee2147b\",\"comm_id\":\"989e6ee3bb794944a13827b2b9e200db\",\"plot_id\":\"1076\"},\"id\":\"1077\",\"type\":\"panel.models.comm_manager.CommManager\"}],\"root_ids\":[\"1076\",\"1077\"]},\"title\":\"Bokeh Application\",\"version\":\"2.3.3\"}};\n",
       "    var render_items = [{\"docid\":\"1d6e86f4-7811-4d6c-b784-e56ef3838516\",\"root_ids\":[\"1076\"],\"roots\":{\"1076\":\"f685b272-dda0-4485-a571-98f44435b499\"}}];\n",
       "    root.Bokeh.embed.embed_items_notebook(docs_json, render_items);\n",
       "  }\n",
       "  if (root.Bokeh !== undefined && root.Bokeh.Panel !== undefined) {\n",
       "    embed_document(root);\n",
       "  } else {\n",
       "    var attempts = 0;\n",
       "    var timer = setInterval(function(root) {\n",
       "      if (root.Bokeh !== undefined && root.Bokeh.Panel !== undefined) {\n",
       "        clearInterval(timer);\n",
       "        embed_document(root);\n",
       "      } else if (document.readyState == \"complete\") {\n",
       "        attempts++;\n",
       "        if (attempts > 100) {\n",
       "          clearInterval(timer);\n",
       "          console.log(\"Bokeh: ERROR: Unable to run BokehJS code because BokehJS library is missing\");\n",
       "        }\n",
       "      }\n",
       "    }, 10, root)\n",
       "  }\n",
       "})(window);</script>"
      ],
      "text/plain": [
       "Alert(str, alert_type='warning', css_classes=['alert', 'alert-warning']...], margin=(0, 0, 25, 0), sizing_mode='stretch_width')"
      ]
     },
     "metadata": {
      "application/vnd.holoviews_exec.v0+json": {
       "id": "1076"
      }
     },
     "output_type": "display_data"
    },
    {
     "data": {},
     "metadata": {},
     "output_type": "display_data"
    },
    {
     "data": {
      "application/vnd.holoviews_exec.v0+json": "",
      "text/html": [
       "<div id='1078'>\n",
       "\n",
       "\n",
       "\n",
       "\n",
       "\n",
       "  <div class=\"bk-root\" id=\"4cdce4c1-d848-42e0-9192-629305efad45\" data-root-id=\"1078\"></div>\n",
       "</div>\n",
       "<script type=\"application/javascript\">(function(root) {\n",
       "  function embed_document(root) {\n",
       "    var docs_json = {\"10328bc0-1da2-40b1-9c6a-e617f7b41590\":{\"defs\":[],\"roots\":{\"references\":[{\"attributes\":{\"client_comm_id\":\"007a2dd462724cda89fe29effa3c588d\",\"comm_id\":\"090096b764d04bb392a40ae57629471d\",\"plot_id\":\"1078\"},\"id\":\"1079\",\"type\":\"panel.models.comm_manager.CommManager\"},{\"attributes\":{\"css_classes\":[\"alert\",\"alert-warning\",\"markdown\"],\"margin\":[0,0,25,0],\"name\":\"Alert00218\",\"sizing_mode\":\"stretch_width\",\"text\":\"&lt;p&gt;Fastq stats previously runned for (/home/christine/Documents/These/frangiPANeGIT2/frangiPANe_PANRice/00-fastq_stats/AB_1.fastq.gz.fastqstat)&lt;/p&gt;\"},\"id\":\"1078\",\"type\":\"panel.models.markup.HTML\"}],\"root_ids\":[\"1078\",\"1079\"]},\"title\":\"Bokeh Application\",\"version\":\"2.3.3\"}};\n",
       "    var render_items = [{\"docid\":\"10328bc0-1da2-40b1-9c6a-e617f7b41590\",\"root_ids\":[\"1078\"],\"roots\":{\"1078\":\"4cdce4c1-d848-42e0-9192-629305efad45\"}}];\n",
       "    root.Bokeh.embed.embed_items_notebook(docs_json, render_items);\n",
       "  }\n",
       "  if (root.Bokeh !== undefined && root.Bokeh.Panel !== undefined) {\n",
       "    embed_document(root);\n",
       "  } else {\n",
       "    var attempts = 0;\n",
       "    var timer = setInterval(function(root) {\n",
       "      if (root.Bokeh !== undefined && root.Bokeh.Panel !== undefined) {\n",
       "        clearInterval(timer);\n",
       "        embed_document(root);\n",
       "      } else if (document.readyState == \"complete\") {\n",
       "        attempts++;\n",
       "        if (attempts > 100) {\n",
       "          clearInterval(timer);\n",
       "          console.log(\"Bokeh: ERROR: Unable to run BokehJS code because BokehJS library is missing\");\n",
       "        }\n",
       "      }\n",
       "    }, 10, root)\n",
       "  }\n",
       "})(window);</script>"
      ],
      "text/plain": [
       "Alert(str, alert_type='warning', css_classes=['alert', 'alert-warning']...], margin=(0, 0, 25, 0), sizing_mode='stretch_width')"
      ]
     },
     "metadata": {
      "application/vnd.holoviews_exec.v0+json": {
       "id": "1078"
      }
     },
     "output_type": "display_data"
    },
    {
     "data": {},
     "metadata": {},
     "output_type": "display_data"
    },
    {
     "data": {
      "application/vnd.holoviews_exec.v0+json": "",
      "text/html": [
       "<div id='1080'>\n",
       "\n",
       "\n",
       "\n",
       "\n",
       "\n",
       "  <div class=\"bk-root\" id=\"4f911a0d-d0fc-4eb4-9d33-5bef291878d5\" data-root-id=\"1080\"></div>\n",
       "</div>\n",
       "<script type=\"application/javascript\">(function(root) {\n",
       "  function embed_document(root) {\n",
       "    var docs_json = {\"da72f723-125e-4a3a-93ac-2120a2a98c16\":{\"defs\":[],\"roots\":{\"references\":[{\"attributes\":{\"client_comm_id\":\"ede0dabc9a794229b652a8005da46b6f\",\"comm_id\":\"0359f0124593477f946e59653dfd2957\",\"plot_id\":\"1080\"},\"id\":\"1081\",\"type\":\"panel.models.comm_manager.CommManager\"},{\"attributes\":{\"css_classes\":[\"alert\",\"alert-warning\",\"markdown\"],\"margin\":[0,0,25,0],\"name\":\"Alert00222\",\"sizing_mode\":\"stretch_width\",\"text\":\"&lt;p&gt;Fastq stats previously runned for (/home/christine/Documents/These/frangiPANeGIT2/frangiPANe_PANRice/00-fastq_stats/AB_2.fastq.gz.fastqstat)&lt;/p&gt;\"},\"id\":\"1080\",\"type\":\"panel.models.markup.HTML\"}],\"root_ids\":[\"1080\",\"1081\"]},\"title\":\"Bokeh Application\",\"version\":\"2.3.3\"}};\n",
       "    var render_items = [{\"docid\":\"da72f723-125e-4a3a-93ac-2120a2a98c16\",\"root_ids\":[\"1080\"],\"roots\":{\"1080\":\"4f911a0d-d0fc-4eb4-9d33-5bef291878d5\"}}];\n",
       "    root.Bokeh.embed.embed_items_notebook(docs_json, render_items);\n",
       "  }\n",
       "  if (root.Bokeh !== undefined && root.Bokeh.Panel !== undefined) {\n",
       "    embed_document(root);\n",
       "  } else {\n",
       "    var attempts = 0;\n",
       "    var timer = setInterval(function(root) {\n",
       "      if (root.Bokeh !== undefined && root.Bokeh.Panel !== undefined) {\n",
       "        clearInterval(timer);\n",
       "        embed_document(root);\n",
       "      } else if (document.readyState == \"complete\") {\n",
       "        attempts++;\n",
       "        if (attempts > 100) {\n",
       "          clearInterval(timer);\n",
       "          console.log(\"Bokeh: ERROR: Unable to run BokehJS code because BokehJS library is missing\");\n",
       "        }\n",
       "      }\n",
       "    }, 10, root)\n",
       "  }\n",
       "})(window);</script>"
      ],
      "text/plain": [
       "Alert(str, alert_type='warning', css_classes=['alert', 'alert-warning']...], margin=(0, 0, 25, 0), sizing_mode='stretch_width')"
      ]
     },
     "metadata": {
      "application/vnd.holoviews_exec.v0+json": {
       "id": "1080"
      }
     },
     "output_type": "display_data"
    },
    {
     "data": {},
     "metadata": {},
     "output_type": "display_data"
    },
    {
     "data": {
      "application/vnd.holoviews_exec.v0+json": "",
      "text/html": [
       "<div id='1082'>\n",
       "\n",
       "\n",
       "\n",
       "\n",
       "\n",
       "  <div class=\"bk-root\" id=\"d617d8dc-df89-421f-9a59-52ed10b3e1e0\" data-root-id=\"1082\"></div>\n",
       "</div>\n",
       "<script type=\"application/javascript\">(function(root) {\n",
       "  function embed_document(root) {\n",
       "    var docs_json = {\"c3c631dc-4ead-4303-b0db-523cdb1a7b00\":{\"defs\":[],\"roots\":{\"references\":[{\"attributes\":{\"client_comm_id\":\"be6b266fe87d4f258c0330cb74b74015\",\"comm_id\":\"e066cbae9b4d415f917097045cbfdc8f\",\"plot_id\":\"1082\"},\"id\":\"1083\",\"type\":\"panel.models.comm_manager.CommManager\"},{\"attributes\":{\"css_classes\":[\"alert\",\"alert-warning\",\"markdown\"],\"margin\":[0,0,25,0],\"name\":\"Alert00226\",\"sizing_mode\":\"stretch_width\",\"text\":\"&lt;p&gt;Fastq stats previously runned for (/home/christine/Documents/These/frangiPANeGIT2/frangiPANe_PANRice/00-fastq_stats/AA_2.fastq.gz.fastqstat)&lt;/p&gt;\"},\"id\":\"1082\",\"type\":\"panel.models.markup.HTML\"}],\"root_ids\":[\"1082\",\"1083\"]},\"title\":\"Bokeh Application\",\"version\":\"2.3.3\"}};\n",
       "    var render_items = [{\"docid\":\"c3c631dc-4ead-4303-b0db-523cdb1a7b00\",\"root_ids\":[\"1082\"],\"roots\":{\"1082\":\"d617d8dc-df89-421f-9a59-52ed10b3e1e0\"}}];\n",
       "    root.Bokeh.embed.embed_items_notebook(docs_json, render_items);\n",
       "  }\n",
       "  if (root.Bokeh !== undefined && root.Bokeh.Panel !== undefined) {\n",
       "    embed_document(root);\n",
       "  } else {\n",
       "    var attempts = 0;\n",
       "    var timer = setInterval(function(root) {\n",
       "      if (root.Bokeh !== undefined && root.Bokeh.Panel !== undefined) {\n",
       "        clearInterval(timer);\n",
       "        embed_document(root);\n",
       "      } else if (document.readyState == \"complete\") {\n",
       "        attempts++;\n",
       "        if (attempts > 100) {\n",
       "          clearInterval(timer);\n",
       "          console.log(\"Bokeh: ERROR: Unable to run BokehJS code because BokehJS library is missing\");\n",
       "        }\n",
       "      }\n",
       "    }, 10, root)\n",
       "  }\n",
       "})(window);</script>"
      ],
      "text/plain": [
       "Alert(str, alert_type='warning', css_classes=['alert', 'alert-warning']...], margin=(0, 0, 25, 0), sizing_mode='stretch_width')"
      ]
     },
     "metadata": {
      "application/vnd.holoviews_exec.v0+json": {
       "id": "1082"
      }
     },
     "output_type": "display_data"
    },
    {
     "data": {},
     "metadata": {},
     "output_type": "display_data"
    },
    {
     "data": {
      "application/vnd.holoviews_exec.v0+json": "",
      "text/html": [
       "<div id='1084'>\n",
       "\n",
       "\n",
       "\n",
       "\n",
       "\n",
       "  <div class=\"bk-root\" id=\"6b1c0535-a399-47af-80ca-e90cd777b38d\" data-root-id=\"1084\"></div>\n",
       "</div>\n",
       "<script type=\"application/javascript\">(function(root) {\n",
       "  function embed_document(root) {\n",
       "    var docs_json = {\"c74edf66-abd0-43ec-9a7d-187348fa61e4\":{\"defs\":[],\"roots\":{\"references\":[{\"attributes\":{\"client_comm_id\":\"8436854cb05e4aab883cefd0862f0633\",\"comm_id\":\"d3aa4d2733274a91881ebb38fde93f74\",\"plot_id\":\"1084\"},\"id\":\"1085\",\"type\":\"panel.models.comm_manager.CommManager\"},{\"attributes\":{\"css_classes\":[\"alert\",\"alert-success\",\"markdown\"],\"margin\":[0,0,25,0],\"name\":\"Alert00230\",\"sizing_mode\":\"stretch_width\",\"text\":\"&lt;h3&gt;All stat files generated successfully with fastq-stat&lt;/h3&gt;\\n&lt;hr&gt;\\n\\n&lt;ul&gt;\\n&lt;li&gt;FASTQ DIR : /home/christine/Documents/These/frangiPANeGIT/rice/fastq2&lt;/li&gt;\\n&lt;li&gt;STAT DIR : /home/christine/Documents/These/frangiPANeGIT2/frangiPANe_PANRice/00-fastq_stats&lt;/li&gt;\\n&lt;/ul&gt;\"},\"id\":\"1084\",\"type\":\"panel.models.markup.HTML\"}],\"root_ids\":[\"1084\",\"1085\"]},\"title\":\"Bokeh Application\",\"version\":\"2.3.3\"}};\n",
       "    var render_items = [{\"docid\":\"c74edf66-abd0-43ec-9a7d-187348fa61e4\",\"root_ids\":[\"1084\"],\"roots\":{\"1084\":\"6b1c0535-a399-47af-80ca-e90cd777b38d\"}}];\n",
       "    root.Bokeh.embed.embed_items_notebook(docs_json, render_items);\n",
       "  }\n",
       "  if (root.Bokeh !== undefined && root.Bokeh.Panel !== undefined) {\n",
       "    embed_document(root);\n",
       "  } else {\n",
       "    var attempts = 0;\n",
       "    var timer = setInterval(function(root) {\n",
       "      if (root.Bokeh !== undefined && root.Bokeh.Panel !== undefined) {\n",
       "        clearInterval(timer);\n",
       "        embed_document(root);\n",
       "      } else if (document.readyState == \"complete\") {\n",
       "        attempts++;\n",
       "        if (attempts > 100) {\n",
       "          clearInterval(timer);\n",
       "          console.log(\"Bokeh: ERROR: Unable to run BokehJS code because BokehJS library is missing\");\n",
       "        }\n",
       "      }\n",
       "    }, 10, root)\n",
       "  }\n",
       "})(window);</script>"
      ],
      "text/plain": [
       "Alert(str, alert_type='success', css_classes=['alert', 'alert-success']...], margin=(0, 0, 25, 0), sizing_mode='stretch_width')"
      ]
     },
     "metadata": {
      "application/vnd.holoviews_exec.v0+json": {
       "id": "1084"
      }
     },
     "output_type": "display_data"
    },
    {
     "data": {},
     "metadata": {},
     "output_type": "display_data"
    },
    {
     "data": {
      "application/vnd.holoviews_exec.v0+json": "",
      "text/html": [
       "<div id='1086'>\n",
       "\n",
       "\n",
       "\n",
       "\n",
       "\n",
       "  <div class=\"bk-root\" id=\"00e99fd2-355b-4cbd-8943-1d7df239e5a1\" data-root-id=\"1086\"></div>\n",
       "</div>\n",
       "<script type=\"application/javascript\">(function(root) {\n",
       "  function embed_document(root) {\n",
       "    var docs_json = {\"8641a1b3-a960-4a77-9ff5-b590cc45306a\":{\"defs\":[],\"roots\":{\"references\":[{\"attributes\":{\"height\":288,\"margin\":[5,5,5,5],\"name\":\"Matplotlib00256\",\"text\":\"&lt;img src=&quot;data:image/png;base64,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&quot; width=&quot;432px&quot; height=&quot;288px&quot; alt=&quot;&quot;&gt;&lt;/img&gt;\",\"width\":432},\"id\":\"1103\",\"type\":\"panel.models.markup.HTML\"},{\"attributes\":{\"background\":\"WhiteSmoke\",\"children\":[{\"id\":\"1087\"},{\"id\":\"1088\"},{\"id\":\"1092\"},{\"id\":\"1096\"},{\"id\":\"1100\"},{\"id\":\"1104\"},{\"id\":\"1108\"},{\"id\":\"1112\"}],\"margin\":[0,0,0,0],\"name\":\"Column00275\",\"sizing_mode\":\"stretch_both\",\"width\":800},\"id\":\"1086\",\"type\":\"Column\"},{\"attributes\":{\"height\":288,\"margin\":[5,5,5,5],\"name\":\"Matplotlib00268\",\"text\":\"&lt;img src=&quot;data:image/png;base64,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&quot; width=&quot;432px&quot; height=&quot;288px&quot; alt=&quot;&quot;&gt;&lt;/img&gt;\",\"width\":432},\"id\":\"1111\",\"type\":\"panel.models.markup.HTML\"},{\"attributes\":{\"children\":[{\"id\":\"1109\"},{\"id\":\"1110\"},{\"id\":\"1111\"}],\"margin\":[0,0,0,0],\"min_width\":800,\"name\":\"Row00270\",\"width\":800},\"id\":\"1108\",\"type\":\"Row\"},{\"attributes\":{\"margin\":[5,5,5,5],\"name\":\"Spacer00247\",\"sizing_mode\":\"stretch_both\",\"width\":100},\"id\":\"1098\",\"type\":\"Spacer\"},{\"attributes\":{\"css_classes\":[\"markdown\"],\"margin\":[5,5,5,5],\"name\":\"Markdown00273\",\"text\":\"&lt;h1&gt;Some statistics about fastq files&lt;/h1&gt;\"},\"id\":\"1087\",\"type\":\"panel.models.markup.HTML\"},{\"attributes\":{\"css_classes\":[\"markdown\"],\"margin\":[5,5,5,5],\"name\":\"Markdown00241\",\"text\":\"&lt;table&gt;\\n&lt;thead&gt;\\n&lt;tr&gt;\\n&lt;th align=&quot;left&quot;&gt;Pb sequenced by groups&lt;/th&gt;\\n&lt;th align=&quot;center&quot;&gt;&lt;/th&gt;\\n&lt;/tr&gt;\\n&lt;/thead&gt;\\n&lt;tbody&gt;\\n&lt;tr&gt;\\n&lt;td align=&quot;left&quot;&gt;O. barthii :&lt;/td&gt;\\n&lt;td align=&quot;center&quot;&gt;713 Mb&lt;/td&gt;\\n&lt;/tr&gt;\\n&lt;tr&gt;\\n&lt;td align=&quot;left&quot;&gt;O. glaberrima :&lt;/td&gt;\\n&lt;td align=&quot;center&quot;&gt;884 Mb&lt;/td&gt;\\n&lt;/tr&gt;\\n&lt;/tbody&gt;\\n&lt;/table&gt;\"},\"id\":\"1093\",\"type\":\"panel.models.markup.HTML\"},{\"attributes\":{\"css_classes\":[\"markdown\"],\"margin\":[5,5,5,5],\"name\":\"Markdown00248\",\"text\":\"&lt;h3&gt;About Sequencing coverage&lt;/h3&gt;\\n&lt;ul&gt;\\n&lt;li&gt;x : 2 - 2 &lt;/li&gt;\\n&lt;li&gt;mean x : 2 &lt;/li&gt;\\n&lt;/ul&gt;\"},\"id\":\"1097\",\"type\":\"panel.models.markup.HTML\"},{\"attributes\":{\"margin\":[5,5,5,5],\"name\":\"Spacer00265\",\"sizing_mode\":\"stretch_both\",\"width\":100},\"id\":\"1110\",\"type\":\"Spacer\"},{\"attributes\":{\"client_comm_id\":\"bd649199dcd44416abdb6f70dd8c4a53\",\"comm_id\":\"eac001f73c3041f4ac45f113aeb857f8\",\"plot_id\":\"1086\"},\"id\":\"1113\",\"type\":\"panel.models.comm_manager.CommManager\"},{\"attributes\":{\"css_classes\":[\"markdown\"],\"margin\":[5,5,5,5],\"name\":\"Markdown00266\",\"text\":\"&lt;h3&gt;About base ratio&lt;/h3&gt;\"},\"id\":\"1109\",\"type\":\"panel.models.markup.HTML\"},{\"attributes\":{\"height\":288,\"margin\":[5,5,5,5],\"name\":\"Matplotlib00244\",\"text\":\"&lt;img src=&quot;data:image/png;base64,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&quot; width=&quot;432px&quot; height=&quot;288px&quot; alt=&quot;&quot;&gt;&lt;/img&gt;\",\"width\":432},\"id\":\"1095\",\"type\":\"panel.models.markup.HTML\"},{\"attributes\":{\"height\":288,\"margin\":[5,5,5,5],\"name\":\"Matplotlib00262\",\"text\":\"&lt;img src=&quot;data:image/png;base64,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&quot; width=&quot;432px&quot; height=&quot;288px&quot; alt=&quot;&quot;&gt;&lt;/img&gt;\",\"width\":432},\"id\":\"1107\",\"type\":\"panel.models.markup.HTML\"},{\"attributes\":{\"css_classes\":[\"markdown\"],\"margin\":[5,5,5,5],\"name\":\"Markdown00254\",\"text\":\"&lt;h3&gt;About read length&lt;/h3&gt;\\n&lt;ul&gt;\\n&lt;li&gt;Length read: 30 - 101&lt;/li&gt;\\n&lt;li&gt;Mean length read : 98.56&lt;/li&gt;\\n&lt;/ul&gt;\"},\"id\":\"1101\",\"type\":\"panel.models.markup.HTML\"},{\"attributes\":{\"css_classes\":[\"markdown\"],\"margin\":[5,5,5,5],\"name\":\"Markdown00236\",\"text\":\"&lt;table&gt;\\n&lt;thead&gt;\\n&lt;tr&gt;\\n&lt;th align=&quot;left&quot;&gt;Samples by group&lt;/th&gt;\\n&lt;th align=&quot;center&quot;&gt;&lt;/th&gt;\\n&lt;/tr&gt;\\n&lt;/thead&gt;\\n&lt;tbody&gt;\\n&lt;tr&gt;\\n&lt;td align=&quot;left&quot;&gt;O. glaberrima :&lt;/td&gt;\\n&lt;td align=&quot;center&quot;&gt;1 samples&lt;/td&gt;\\n&lt;/tr&gt;\\n&lt;tr&gt;\\n&lt;td align=&quot;left&quot;&gt;O. barthii :&lt;/td&gt;\\n&lt;td align=&quot;center&quot;&gt;1 samples&lt;/td&gt;\\n&lt;/tr&gt;\\n&lt;/tbody&gt;\\n&lt;/table&gt;\"},\"id\":\"1091\",\"type\":\"panel.models.markup.HTML\"},{\"attributes\":{\"margin\":[5,5,5,5],\"name\":\"Spacer00259\",\"sizing_mode\":\"stretch_both\",\"width\":100},\"id\":\"1106\",\"type\":\"Spacer\"},{\"attributes\":{\"margin\":[5,5,5,5],\"name\":\"Spacer00253\",\"sizing_mode\":\"stretch_both\",\"width\":100},\"id\":\"1102\",\"type\":\"Spacer\"},{\"attributes\":{\"css_classes\":[\"markdown\"],\"margin\":[5,5,5,5],\"name\":\"Markdown00260\",\"text\":\"&lt;h3&gt;About sequencing quality&lt;/h3&gt;\\n&lt;ul&gt;\\n&lt;li&gt;Quality: 2 - 41&lt;/li&gt;\\n&lt;li&gt;Mean quality : 37.31&lt;/li&gt;\\n&lt;/ul&gt;\"},\"id\":\"1105\",\"type\":\"panel.models.markup.HTML\"},{\"attributes\":{\"children\":[{\"id\":\"1101\"},{\"id\":\"1102\"},{\"id\":\"1103\"}],\"margin\":[0,0,0,0],\"min_width\":800,\"name\":\"Row00258\",\"width\":800},\"id\":\"1100\",\"type\":\"Row\"},{\"attributes\":{\"height\":288,\"margin\":[5,5,5,5],\"name\":\"Matplotlib00250\",\"text\":\"&lt;img src=&quot;data:image/png;base64,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&quot; width=&quot;432px&quot; height=&quot;288px&quot; alt=&quot;&quot;&gt;&lt;/img&gt;\",\"width\":432},\"id\":\"1099\",\"type\":\"panel.models.markup.HTML\"},{\"attributes\":{\"css_classes\":[\"markdown\"],\"margin\":[5,5,5,5],\"name\":\"Markdown00238\",\"text\":\"&lt;h3&gt;About population&lt;/h3&gt;\\n&lt;ul&gt;\\n&lt;li&gt;2 samples&lt;/li&gt;\\n&lt;li&gt;Total base sequenced : 1598 Mb&lt;/li&gt;\\n&lt;/ul&gt;\"},\"id\":\"1089\",\"type\":\"panel.models.markup.HTML\"},{\"attributes\":{\"children\":[{\"id\":\"1097\"},{\"id\":\"1098\"},{\"id\":\"1099\"}],\"margin\":[0,0,0,0],\"min_width\":800,\"name\":\"Row00252\",\"width\":800},\"id\":\"1096\",\"type\":\"Row\"},{\"attributes\":{\"margin\":[5,5,5,5],\"name\":\"DataFrame00271\",\"text\":\"&lt;table border=&quot;0&quot; class=&quot;dataframe panel-df&quot;&gt;\\n  &lt;thead&gt;\\n    &lt;tr style=&quot;text-align: right;&quot;&gt;\\n      &lt;th&gt;&lt;/th&gt;\\n      &lt;th&gt;sample&lt;/th&gt;\\n      &lt;th&gt;file&lt;/th&gt;\\n      &lt;th&gt;reads&lt;/th&gt;\\n      &lt;th&gt;len_mean&lt;/th&gt;\\n      &lt;th&gt;qual_mean&lt;/th&gt;\\n      &lt;th&gt;%A&lt;/th&gt;\\n      &lt;th&gt;%C&lt;/th&gt;\\n      &lt;th&gt;%G&lt;/th&gt;\\n      &lt;th&gt;%T&lt;/th&gt;\\n      &lt;th&gt;%N&lt;/th&gt;\\n      &lt;th&gt;total_bases&lt;/th&gt;\\n    &lt;/tr&gt;\\n  &lt;/thead&gt;\\n  &lt;tbody&gt;\\n    &lt;tr&gt;\\n      &lt;th&gt;0&lt;/th&gt;\\n      &lt;td&gt;AA&lt;/td&gt;\\n      &lt;td&gt;AA_1&lt;/td&gt;\\n      &lt;td&gt;3626555&lt;/td&gt;\\n      &lt;td&gt;99.2708&lt;/td&gt;\\n      &lt;td&gt;37.4818&lt;/td&gt;\\n      &lt;td&gt;29.8366&lt;/td&gt;\\n      &lt;td&gt;20.2502&lt;/td&gt;\\n      &lt;td&gt;20.2295&lt;/td&gt;\\n      &lt;td&gt;29.6835&lt;/td&gt;\\n      &lt;td&gt;0.0002&lt;/td&gt;\\n      &lt;td&gt;360011192&lt;/td&gt;\\n    &lt;/tr&gt;\\n    &lt;tr&gt;\\n      &lt;th&gt;1&lt;/th&gt;\\n      &lt;td&gt;AA&lt;/td&gt;\\n      &lt;td&gt;AA_2&lt;/td&gt;\\n      &lt;td&gt;3626555&lt;/td&gt;\\n      &lt;td&gt;97.5486&lt;/td&gt;\\n      &lt;td&gt;36.8486&lt;/td&gt;\\n      &lt;td&gt;29.8488&lt;/td&gt;\\n      &lt;td&gt;20.2938&lt;/td&gt;\\n      &lt;td&gt;20.1847&lt;/td&gt;\\n      &lt;td&gt;29.6715&lt;/td&gt;\\n      &lt;td&gt;0.0013&lt;/td&gt;\\n      &lt;td&gt;353765544&lt;/td&gt;\\n    &lt;/tr&gt;\\n    &lt;tr&gt;\\n      &lt;th&gt;2&lt;/th&gt;\\n      &lt;td&gt;AB&lt;/td&gt;\\n      &lt;td&gt;AB_1&lt;/td&gt;\\n      &lt;td&gt;4479259&lt;/td&gt;\\n      &lt;td&gt;99.6406&lt;/td&gt;\\n      &lt;td&gt;37.7900&lt;/td&gt;\\n      &lt;td&gt;29.9176&lt;/td&gt;\\n      &lt;td&gt;20.0866&lt;/td&gt;\\n      &lt;td&gt;20.1322&lt;/td&gt;\\n      &lt;td&gt;29.8592&lt;/td&gt;\\n      &lt;td&gt;0.0044&lt;/td&gt;\\n      &lt;td&gt;446315929&lt;/td&gt;\\n    &lt;/tr&gt;\\n    &lt;tr&gt;\\n      &lt;th&gt;3&lt;/th&gt;\\n      &lt;td&gt;AB&lt;/td&gt;\\n      &lt;td&gt;AB_2&lt;/td&gt;\\n      &lt;td&gt;4479259&lt;/td&gt;\\n      &lt;td&gt;97.7883&lt;/td&gt;\\n      &lt;td&gt;37.1370&lt;/td&gt;\\n      &lt;td&gt;29.9797&lt;/td&gt;\\n      &lt;td&gt;20.1346&lt;/td&gt;\\n      &lt;td&gt;20.0694&lt;/td&gt;\\n      &lt;td&gt;29.8157&lt;/td&gt;\\n      &lt;td&gt;0.0007&lt;/td&gt;\\n      &lt;td&gt;438019045&lt;/td&gt;\\n    &lt;/tr&gt;\\n  &lt;/tbody&gt;\\n&lt;/table&gt;\",\"width\":800},\"id\":\"1112\",\"type\":\"panel.models.markup.HTML\"},{\"attributes\":{\"children\":[{\"id\":\"1089\"},{\"id\":\"1090\"},{\"id\":\"1091\"}],\"margin\":[0,0,0,0],\"min_width\":800,\"name\":\"Row00240\",\"width\":800},\"id\":\"1088\",\"type\":\"Row\"},{\"attributes\":{\"children\":[{\"id\":\"1093\"},{\"id\":\"1094\"},{\"id\":\"1095\"}],\"margin\":[0,0,0,0],\"min_width\":800,\"name\":\"Row00246\",\"width\":800},\"id\":\"1092\",\"type\":\"Row\"},{\"attributes\":{\"margin\":[5,5,5,5],\"name\":\"Spacer00235\",\"sizing_mode\":\"stretch_both\",\"width\":100},\"id\":\"1090\",\"type\":\"Spacer\"},{\"attributes\":{\"children\":[{\"id\":\"1105\"},{\"id\":\"1106\"},{\"id\":\"1107\"}],\"margin\":[0,0,0,0],\"min_width\":800,\"name\":\"Row00264\",\"width\":800},\"id\":\"1104\",\"type\":\"Row\"},{\"attributes\":{\"margin\":[5,5,5,5],\"name\":\"Spacer00243\",\"sizing_mode\":\"stretch_both\",\"width\":100},\"id\":\"1094\",\"type\":\"Spacer\"}],\"root_ids\":[\"1086\",\"1113\"]},\"title\":\"Bokeh Application\",\"version\":\"2.3.3\"}};\n",
       "    var render_items = [{\"docid\":\"8641a1b3-a960-4a77-9ff5-b590cc45306a\",\"root_ids\":[\"1086\"],\"roots\":{\"1086\":\"00e99fd2-355b-4cbd-8943-1d7df239e5a1\"}}];\n",
       "    root.Bokeh.embed.embed_items_notebook(docs_json, render_items);\n",
       "  }\n",
       "  if (root.Bokeh !== undefined && root.Bokeh.Panel !== undefined) {\n",
       "    embed_document(root);\n",
       "  } else {\n",
       "    var attempts = 0;\n",
       "    var timer = setInterval(function(root) {\n",
       "      if (root.Bokeh !== undefined && root.Bokeh.Panel !== undefined) {\n",
       "        clearInterval(timer);\n",
       "        embed_document(root);\n",
       "      } else if (document.readyState == \"complete\") {\n",
       "        attempts++;\n",
       "        if (attempts > 100) {\n",
       "          clearInterval(timer);\n",
       "          console.log(\"Bokeh: ERROR: Unable to run BokehJS code because BokehJS library is missing\");\n",
       "        }\n",
       "      }\n",
       "    }, 10, root)\n",
       "  }\n",
       "})(window);</script>"
      ],
      "text/plain": [
       "Column(background='WhiteSmoke', sizing_mode='stretch_both', width=800)\n",
       "    [0] Markdown(str)\n",
       "    [1] Row(width=800)\n",
       "        [0] Markdown(str)\n",
       "        [1] Spacer(sizing_mode='stretch_both', width=100)\n",
       "        [2] Markdown(str)\n",
       "    [2] Row(width=800)\n",
       "        [0] Markdown(str)\n",
       "        [1] Spacer(sizing_mode='stretch_both', width=100)\n",
       "        [2] Matplotlib(Figure)\n",
       "    [3] Row(width=800)\n",
       "        [0] Markdown(str)\n",
       "        [1] Spacer(sizing_mode='stretch_both', width=100)\n",
       "        [2] Matplotlib(Figure)\n",
       "    [4] Row(width=800)\n",
       "        [0] Markdown(str)\n",
       "        [1] Spacer(sizing_mode='stretch_both', width=100)\n",
       "        [2] Matplotlib(Figure)\n",
       "    [5] Row(width=800)\n",
       "        [0] Markdown(str)\n",
       "        [1] Spacer(sizing_mode='stretch_both', width=100)\n",
       "        [2] Matplotlib(Figure)\n",
       "    [6] Row(width=800)\n",
       "        [0] Markdown(str)\n",
       "        [1] Spacer(sizing_mode='stretch_both', width=100)\n",
       "        [2] Matplotlib(Figure)\n",
       "    [7] DataFrame(DataFrame, width=800)"
      ]
     },
     "metadata": {
      "application/vnd.holoviews_exec.v0+json": {
       "id": "1086"
      }
     },
     "output_type": "display_data"
    },
    {
     "data": {
      "text/html": [
       "<img src onerror=\"var cell = this.closest('.jp-CodeCell');var editor = cell.querySelector('.jp-Editor');editor.style.background='LightBlue';this.parentNode.removeChild(this)\">"
      ],
      "text/plain": [
       "<IPython.core.display.HTML object>"
      ]
     },
     "metadata": {},
     "output_type": "display_data"
    }
   ],
   "source": [
    "if df_group is None:\n",
    "    text = \"Analyzing Group File is required to continue !\"\n",
    "    display_alert(text,\"danger\")\n",
    "    \n",
    "elif not fastq_dir.value:\n",
    "    text = \"Fill the form with the fastq directory in the previous cell !\"\n",
    "    display_alert(text,\"danger\")\n",
    "\n",
    "elif not output_dir:\n",
    "    text = \"Creating frangiPANe output directory is required to continue !\"\n",
    "    display_alert(text,\"danger\")\n",
    "elif not total_genome_size:\n",
    "    text = \"Genome indexation and _Genome dashboard is required to continue !\"\n",
    "    display_alert(text,\"danger\")\n",
    "else:\n",
    "    # Creating directory\n",
    "    stat_dir = os.path.join(output_dir,\"00-fastq_stats\")\n",
    "    fastqstat_csv=os.path.join(stat_dir,\"all_fastq-stats.csv\")\n",
    "    \n",
    "    # run fastq_stats\n",
    "    fastq_stats_dir(fastq_dir.value, stat_dir, df_group, logger)\n",
    "\n",
    "    # merging all files generated by fastq_sample\n",
    "    merge_fastqstat(fastqstat_csv, stat_dir,logger)\n",
    "\n",
    "    #Raw data dashboard\n",
    "    dashboard_fastq(fastqstat_csv,total_genome_size,df_group)\n",
    "\n",
    "bgc('LightBlue')"
   ]
  },
  {
   "cell_type": "markdown",
   "metadata": {
    "tags": []
   },
   "source": [
    "### <span style=\"color: #919395\">_2 - Mapping the individuals reads against the reference genome_  <a class=\"anchor\" id=\"mapping\"></a></span>\n"
   ]
  },
  {
   "cell_type": "markdown",
   "metadata": {},
   "source": [
    "#### __Mapping with `BWA mem` <a class=\"anchor\" id=\"mappingbwa\">__\n"
   ]
  },
  {
   "cell_type": "code",
   "execution_count": 7,
   "metadata": {
    "tags": []
   },
   "outputs": [
    {
     "data": {},
     "metadata": {},
     "output_type": "display_data"
    },
    {
     "data": {
      "application/vnd.holoviews_exec.v0+json": "",
      "text/html": [
       "<div id='1114'>\n",
       "\n",
       "\n",
       "\n",
       "\n",
       "\n",
       "  <div class=\"bk-root\" id=\"d109036b-e3f8-45bc-bc41-dccda8706ed2\" data-root-id=\"1114\"></div>\n",
       "</div>\n",
       "<script type=\"application/javascript\">(function(root) {\n",
       "  function embed_document(root) {\n",
       "    var docs_json = {\"618911be-d6b5-4ca1-a8c6-7dce6c2f96ba\":{\"defs\":[],\"roots\":{\"references\":[{\"attributes\":{\"css_classes\":[\"alert\",\"alert-warning\",\"markdown\"],\"margin\":[0,0,25,0],\"name\":\"Alert00278\",\"sizing_mode\":\"stretch_width\",\"text\":\"&lt;h3&gt;warning&lt;/h3&gt;\\n&lt;hr&gt;\\n&lt;p&gt;Directory /home/christine/Documents/These/frangiPANeGIT2/frangiPANe_PANRice/01-mapping_against_reference already existed&lt;/p&gt;\"},\"id\":\"1114\",\"type\":\"panel.models.markup.HTML\"},{\"attributes\":{\"client_comm_id\":\"512b15348e6e48d090045203076d5ec6\",\"comm_id\":\"f79514ef9a8a41a9ba7ee2ae46931c2e\",\"plot_id\":\"1114\"},\"id\":\"1115\",\"type\":\"panel.models.comm_manager.CommManager\"}],\"root_ids\":[\"1114\",\"1115\"]},\"title\":\"Bokeh Application\",\"version\":\"2.3.3\"}};\n",
       "    var render_items = [{\"docid\":\"618911be-d6b5-4ca1-a8c6-7dce6c2f96ba\",\"root_ids\":[\"1114\"],\"roots\":{\"1114\":\"d109036b-e3f8-45bc-bc41-dccda8706ed2\"}}];\n",
       "    root.Bokeh.embed.embed_items_notebook(docs_json, render_items);\n",
       "  }\n",
       "  if (root.Bokeh !== undefined && root.Bokeh.Panel !== undefined) {\n",
       "    embed_document(root);\n",
       "  } else {\n",
       "    var attempts = 0;\n",
       "    var timer = setInterval(function(root) {\n",
       "      if (root.Bokeh !== undefined && root.Bokeh.Panel !== undefined) {\n",
       "        clearInterval(timer);\n",
       "        embed_document(root);\n",
       "      } else if (document.readyState == \"complete\") {\n",
       "        attempts++;\n",
       "        if (attempts > 100) {\n",
       "          clearInterval(timer);\n",
       "          console.log(\"Bokeh: ERROR: Unable to run BokehJS code because BokehJS library is missing\");\n",
       "        }\n",
       "      }\n",
       "    }, 10, root)\n",
       "  }\n",
       "})(window);</script>"
      ],
      "text/plain": [
       "Alert(str, alert_type='warning', css_classes=['alert', 'alert-warning']...], margin=(0, 0, 25, 0), sizing_mode='stretch_width')"
      ]
     },
     "metadata": {
      "application/vnd.holoviews_exec.v0+json": {
       "id": "1114"
      }
     },
     "output_type": "display_data"
    },
    {
     "data": {},
     "metadata": {},
     "output_type": "display_data"
    },
    {
     "data": {
      "application/vnd.holoviews_exec.v0+json": "",
      "text/html": [
       "<div id='1116'>\n",
       "\n",
       "\n",
       "\n",
       "\n",
       "\n",
       "  <div class=\"bk-root\" id=\"d4bc3a2d-b169-4e24-9b91-727f1ad81cc8\" data-root-id=\"1116\"></div>\n",
       "</div>\n",
       "<script type=\"application/javascript\">(function(root) {\n",
       "  function embed_document(root) {\n",
       "    var docs_json = {\"aaba8ac9-88f3-48a5-b585-5c00324e4a5a\":{\"defs\":[],\"roots\":{\"references\":[{\"attributes\":{\"client_comm_id\":\"c4ff2c386b494654ac553d9835edb104\",\"comm_id\":\"65e34a9122014bc79cb87adef271ef1f\",\"plot_id\":\"1116\"},\"id\":\"1117\",\"type\":\"panel.models.comm_manager.CommManager\"},{\"attributes\":{\"css_classes\":[\"alert\",\"alert-info\",\"markdown\"],\"margin\":[0,0,25,0],\"name\":\"Alert00282\",\"sizing_mode\":\"stretch_width\",\"text\":\"&lt;p&gt;Starting mapping with bwa mem in /home/christine/Documents/These/frangiPANeGIT2/frangiPANe_PANRice/01-mapping_against_reference&amp;hellip;&lt;/p&gt;\"},\"id\":\"1116\",\"type\":\"panel.models.markup.HTML\"}],\"root_ids\":[\"1116\",\"1117\"]},\"title\":\"Bokeh Application\",\"version\":\"2.3.3\"}};\n",
       "    var render_items = [{\"docid\":\"aaba8ac9-88f3-48a5-b585-5c00324e4a5a\",\"root_ids\":[\"1116\"],\"roots\":{\"1116\":\"d4bc3a2d-b169-4e24-9b91-727f1ad81cc8\"}}];\n",
       "    root.Bokeh.embed.embed_items_notebook(docs_json, render_items);\n",
       "  }\n",
       "  if (root.Bokeh !== undefined && root.Bokeh.Panel !== undefined) {\n",
       "    embed_document(root);\n",
       "  } else {\n",
       "    var attempts = 0;\n",
       "    var timer = setInterval(function(root) {\n",
       "      if (root.Bokeh !== undefined && root.Bokeh.Panel !== undefined) {\n",
       "        clearInterval(timer);\n",
       "        embed_document(root);\n",
       "      } else if (document.readyState == \"complete\") {\n",
       "        attempts++;\n",
       "        if (attempts > 100) {\n",
       "          clearInterval(timer);\n",
       "          console.log(\"Bokeh: ERROR: Unable to run BokehJS code because BokehJS library is missing\");\n",
       "        }\n",
       "      }\n",
       "    }, 10, root)\n",
       "  }\n",
       "})(window);</script>"
      ],
      "text/plain": [
       "Alert(str, alert_type='info', css_classes=['alert', 'alert-info'], margin=(0, 0, 25, 0), sizing_mode='stretch_width')"
      ]
     },
     "metadata": {
      "application/vnd.holoviews_exec.v0+json": {
       "id": "1116"
      }
     },
     "output_type": "display_data"
    },
    {
     "data": {},
     "metadata": {},
     "output_type": "display_data"
    },
    {
     "data": {
      "application/vnd.holoviews_exec.v0+json": "",
      "text/html": [
       "<div id='1118'>\n",
       "\n",
       "\n",
       "\n",
       "\n",
       "\n",
       "  <div class=\"bk-root\" id=\"c243d10e-3cd4-4a1d-8dc3-72c382e1d40b\" data-root-id=\"1118\"></div>\n",
       "</div>\n",
       "<script type=\"application/javascript\">(function(root) {\n",
       "  function embed_document(root) {\n",
       "    var docs_json = {\"e0e0fcb9-a74b-4d22-8115-b1cf98376f87\":{\"defs\":[],\"roots\":{\"references\":[{\"attributes\":{\"client_comm_id\":\"5b575f8415f841fa88ed2fff55c81cdd\",\"comm_id\":\"2f5fa2a3f118467fab99691f1a46bb09\",\"plot_id\":\"1118\"},\"id\":\"1119\",\"type\":\"panel.models.comm_manager.CommManager\"},{\"attributes\":{\"css_classes\":[\"alert\",\"alert-secondary\",\"markdown\"],\"margin\":[0,0,25,0],\"name\":\"Alert00286\",\"sizing_mode\":\"stretch_width\",\"text\":\"&lt;p&gt;Mapping in progress for AA&amp;hellip;&lt;/p&gt;\"},\"id\":\"1118\",\"type\":\"panel.models.markup.HTML\"}],\"root_ids\":[\"1118\",\"1119\"]},\"title\":\"Bokeh Application\",\"version\":\"2.3.3\"}};\n",
       "    var render_items = [{\"docid\":\"e0e0fcb9-a74b-4d22-8115-b1cf98376f87\",\"root_ids\":[\"1118\"],\"roots\":{\"1118\":\"c243d10e-3cd4-4a1d-8dc3-72c382e1d40b\"}}];\n",
       "    root.Bokeh.embed.embed_items_notebook(docs_json, render_items);\n",
       "  }\n",
       "  if (root.Bokeh !== undefined && root.Bokeh.Panel !== undefined) {\n",
       "    embed_document(root);\n",
       "  } else {\n",
       "    var attempts = 0;\n",
       "    var timer = setInterval(function(root) {\n",
       "      if (root.Bokeh !== undefined && root.Bokeh.Panel !== undefined) {\n",
       "        clearInterval(timer);\n",
       "        embed_document(root);\n",
       "      } else if (document.readyState == \"complete\") {\n",
       "        attempts++;\n",
       "        if (attempts > 100) {\n",
       "          clearInterval(timer);\n",
       "          console.log(\"Bokeh: ERROR: Unable to run BokehJS code because BokehJS library is missing\");\n",
       "        }\n",
       "      }\n",
       "    }, 10, root)\n",
       "  }\n",
       "})(window);</script>"
      ],
      "text/plain": [
       "Alert(str, alert_type='secondary', css_classes=['alert', 'alert-secondary...], margin=(0, 0, 25, 0), sizing_mode='stretch_width')"
      ]
     },
     "metadata": {
      "application/vnd.holoviews_exec.v0+json": {
       "id": "1118"
      }
     },
     "output_type": "display_data"
    },
    {
     "data": {},
     "metadata": {},
     "output_type": "display_data"
    },
    {
     "data": {
      "application/vnd.holoviews_exec.v0+json": "",
      "text/html": [
       "<div id='1120'>\n",
       "\n",
       "\n",
       "\n",
       "\n",
       "\n",
       "  <div class=\"bk-root\" id=\"2f7577f1-537e-4481-bcb2-a3639ca7b74b\" data-root-id=\"1120\"></div>\n",
       "</div>\n",
       "<script type=\"application/javascript\">(function(root) {\n",
       "  function embed_document(root) {\n",
       "    var docs_json = {\"201cf2d1-a922-4242-b87f-133412fa3b69\":{\"defs\":[],\"roots\":{\"references\":[{\"attributes\":{\"css_classes\":[\"alert\",\"alert-warning\",\"markdown\"],\"margin\":[0,0,25,0],\"name\":\"Alert00290\",\"sizing_mode\":\"stretch_width\",\"text\":\"&lt;p&gt;Mapping previously runned for (/home/christine/Documents/These/frangiPANeGIT2/frangiPANe_PANRice/01-mapping_against_reference/AA.bam)&lt;/p&gt;\"},\"id\":\"1120\",\"type\":\"panel.models.markup.HTML\"},{\"attributes\":{\"client_comm_id\":\"226b0b41749b46b9873520f68a8dff25\",\"comm_id\":\"ef5e93bc38a94d328b71cb9f3f4c9169\",\"plot_id\":\"1120\"},\"id\":\"1121\",\"type\":\"panel.models.comm_manager.CommManager\"}],\"root_ids\":[\"1120\",\"1121\"]},\"title\":\"Bokeh Application\",\"version\":\"2.3.3\"}};\n",
       "    var render_items = [{\"docid\":\"201cf2d1-a922-4242-b87f-133412fa3b69\",\"root_ids\":[\"1120\"],\"roots\":{\"1120\":\"2f7577f1-537e-4481-bcb2-a3639ca7b74b\"}}];\n",
       "    root.Bokeh.embed.embed_items_notebook(docs_json, render_items);\n",
       "  }\n",
       "  if (root.Bokeh !== undefined && root.Bokeh.Panel !== undefined) {\n",
       "    embed_document(root);\n",
       "  } else {\n",
       "    var attempts = 0;\n",
       "    var timer = setInterval(function(root) {\n",
       "      if (root.Bokeh !== undefined && root.Bokeh.Panel !== undefined) {\n",
       "        clearInterval(timer);\n",
       "        embed_document(root);\n",
       "      } else if (document.readyState == \"complete\") {\n",
       "        attempts++;\n",
       "        if (attempts > 100) {\n",
       "          clearInterval(timer);\n",
       "          console.log(\"Bokeh: ERROR: Unable to run BokehJS code because BokehJS library is missing\");\n",
       "        }\n",
       "      }\n",
       "    }, 10, root)\n",
       "  }\n",
       "})(window);</script>"
      ],
      "text/plain": [
       "Alert(str, alert_type='warning', css_classes=['alert', 'alert-warning']...], margin=(0, 0, 25, 0), sizing_mode='stretch_width')"
      ]
     },
     "metadata": {
      "application/vnd.holoviews_exec.v0+json": {
       "id": "1120"
      }
     },
     "output_type": "display_data"
    },
    {
     "data": {},
     "metadata": {},
     "output_type": "display_data"
    },
    {
     "data": {
      "application/vnd.holoviews_exec.v0+json": "",
      "text/html": [
       "<div id='1122'>\n",
       "\n",
       "\n",
       "\n",
       "\n",
       "\n",
       "  <div class=\"bk-root\" id=\"dddf5a23-51d3-452c-8daa-608f1bcb9ca0\" data-root-id=\"1122\"></div>\n",
       "</div>\n",
       "<script type=\"application/javascript\">(function(root) {\n",
       "  function embed_document(root) {\n",
       "    var docs_json = {\"a60a48df-a1b0-49ad-9a0e-82d5212a535c\":{\"defs\":[],\"roots\":{\"references\":[{\"attributes\":{\"client_comm_id\":\"adad58c037d9445dad3d84beba74bed5\",\"comm_id\":\"24a241aab0b84de7aa6d3aff98a9d5a1\",\"plot_id\":\"1122\"},\"id\":\"1123\",\"type\":\"panel.models.comm_manager.CommManager\"},{\"attributes\":{\"css_classes\":[\"alert\",\"alert-secondary\",\"markdown\"],\"margin\":[0,0,25,0],\"name\":\"Alert00294\",\"sizing_mode\":\"stretch_width\",\"text\":\"&lt;p&gt;Mapping in progress for AB&amp;hellip;&lt;/p&gt;\"},\"id\":\"1122\",\"type\":\"panel.models.markup.HTML\"}],\"root_ids\":[\"1122\",\"1123\"]},\"title\":\"Bokeh Application\",\"version\":\"2.3.3\"}};\n",
       "    var render_items = [{\"docid\":\"a60a48df-a1b0-49ad-9a0e-82d5212a535c\",\"root_ids\":[\"1122\"],\"roots\":{\"1122\":\"dddf5a23-51d3-452c-8daa-608f1bcb9ca0\"}}];\n",
       "    root.Bokeh.embed.embed_items_notebook(docs_json, render_items);\n",
       "  }\n",
       "  if (root.Bokeh !== undefined && root.Bokeh.Panel !== undefined) {\n",
       "    embed_document(root);\n",
       "  } else {\n",
       "    var attempts = 0;\n",
       "    var timer = setInterval(function(root) {\n",
       "      if (root.Bokeh !== undefined && root.Bokeh.Panel !== undefined) {\n",
       "        clearInterval(timer);\n",
       "        embed_document(root);\n",
       "      } else if (document.readyState == \"complete\") {\n",
       "        attempts++;\n",
       "        if (attempts > 100) {\n",
       "          clearInterval(timer);\n",
       "          console.log(\"Bokeh: ERROR: Unable to run BokehJS code because BokehJS library is missing\");\n",
       "        }\n",
       "      }\n",
       "    }, 10, root)\n",
       "  }\n",
       "})(window);</script>"
      ],
      "text/plain": [
       "Alert(str, alert_type='secondary', css_classes=['alert', 'alert-secondary...], margin=(0, 0, 25, 0), sizing_mode='stretch_width')"
      ]
     },
     "metadata": {
      "application/vnd.holoviews_exec.v0+json": {
       "id": "1122"
      }
     },
     "output_type": "display_data"
    },
    {
     "data": {},
     "metadata": {},
     "output_type": "display_data"
    },
    {
     "data": {
      "application/vnd.holoviews_exec.v0+json": "",
      "text/html": [
       "<div id='1124'>\n",
       "\n",
       "\n",
       "\n",
       "\n",
       "\n",
       "  <div class=\"bk-root\" id=\"0c8c721a-deb8-4e17-8cea-8367b63bb7de\" data-root-id=\"1124\"></div>\n",
       "</div>\n",
       "<script type=\"application/javascript\">(function(root) {\n",
       "  function embed_document(root) {\n",
       "    var docs_json = {\"4600a77c-96c6-4c40-9576-4a397b8a3ecc\":{\"defs\":[],\"roots\":{\"references\":[{\"attributes\":{\"client_comm_id\":\"9e3676499419438381c9bae48364f2d9\",\"comm_id\":\"61e679a9be724d9585f423cd1509738e\",\"plot_id\":\"1124\"},\"id\":\"1125\",\"type\":\"panel.models.comm_manager.CommManager\"},{\"attributes\":{\"css_classes\":[\"alert\",\"alert-warning\",\"markdown\"],\"margin\":[0,0,25,0],\"name\":\"Alert00298\",\"sizing_mode\":\"stretch_width\",\"text\":\"&lt;p&gt;Mapping previously runned for (/home/christine/Documents/These/frangiPANeGIT2/frangiPANe_PANRice/01-mapping_against_reference/AB.bam)&lt;/p&gt;\"},\"id\":\"1124\",\"type\":\"panel.models.markup.HTML\"}],\"root_ids\":[\"1124\",\"1125\"]},\"title\":\"Bokeh Application\",\"version\":\"2.3.3\"}};\n",
       "    var render_items = [{\"docid\":\"4600a77c-96c6-4c40-9576-4a397b8a3ecc\",\"root_ids\":[\"1124\"],\"roots\":{\"1124\":\"0c8c721a-deb8-4e17-8cea-8367b63bb7de\"}}];\n",
       "    root.Bokeh.embed.embed_items_notebook(docs_json, render_items);\n",
       "  }\n",
       "  if (root.Bokeh !== undefined && root.Bokeh.Panel !== undefined) {\n",
       "    embed_document(root);\n",
       "  } else {\n",
       "    var attempts = 0;\n",
       "    var timer = setInterval(function(root) {\n",
       "      if (root.Bokeh !== undefined && root.Bokeh.Panel !== undefined) {\n",
       "        clearInterval(timer);\n",
       "        embed_document(root);\n",
       "      } else if (document.readyState == \"complete\") {\n",
       "        attempts++;\n",
       "        if (attempts > 100) {\n",
       "          clearInterval(timer);\n",
       "          console.log(\"Bokeh: ERROR: Unable to run BokehJS code because BokehJS library is missing\");\n",
       "        }\n",
       "      }\n",
       "    }, 10, root)\n",
       "  }\n",
       "})(window);</script>"
      ],
      "text/plain": [
       "Alert(str, alert_type='warning', css_classes=['alert', 'alert-warning']...], margin=(0, 0, 25, 0), sizing_mode='stretch_width')"
      ]
     },
     "metadata": {
      "application/vnd.holoviews_exec.v0+json": {
       "id": "1124"
      }
     },
     "output_type": "display_data"
    },
    {
     "data": {},
     "metadata": {},
     "output_type": "display_data"
    },
    {
     "data": {
      "application/vnd.holoviews_exec.v0+json": "",
      "text/html": [
       "<div id='1126'>\n",
       "\n",
       "\n",
       "\n",
       "\n",
       "\n",
       "  <div class=\"bk-root\" id=\"7ee187c7-af3c-4e5e-a558-353e1269d115\" data-root-id=\"1126\"></div>\n",
       "</div>\n",
       "<script type=\"application/javascript\">(function(root) {\n",
       "  function embed_document(root) {\n",
       "    var docs_json = {\"a8f41888-f57d-4129-9d8a-4ea82a08adad\":{\"defs\":[],\"roots\":{\"references\":[{\"attributes\":{\"client_comm_id\":\"aafa8436e99e474da782982400cd3bdb\",\"comm_id\":\"22752977d1dd4925b15b11e9b46ce6f5\",\"plot_id\":\"1126\"},\"id\":\"1127\",\"type\":\"panel.models.comm_manager.CommManager\"},{\"attributes\":{\"css_classes\":[\"alert\",\"alert-success\",\"markdown\"],\"margin\":[0,0,25,0],\"name\":\"Alert00302\",\"sizing_mode\":\"stretch_width\",\"text\":\"&lt;h3&gt;Mapping step done with bwa mem and samtools sort&lt;/h3&gt;\\n&lt;hr&gt;\\n\\n&lt;ul&gt;\\n&lt;li&gt;FASTQ DIR : /home/christine/Documents/These/frangiPANeGIT/rice/fastq2&lt;/li&gt;\\n&lt;li&gt;BAM DIR : /home/christine/Documents/These/frangiPANeGIT2/frangiPANe_PANRice/01-mapping_against_reference&lt;/li&gt;\\n&lt;/ul&gt;\"},\"id\":\"1126\",\"type\":\"panel.models.markup.HTML\"}],\"root_ids\":[\"1126\",\"1127\"]},\"title\":\"Bokeh Application\",\"version\":\"2.3.3\"}};\n",
       "    var render_items = [{\"docid\":\"a8f41888-f57d-4129-9d8a-4ea82a08adad\",\"root_ids\":[\"1126\"],\"roots\":{\"1126\":\"7ee187c7-af3c-4e5e-a558-353e1269d115\"}}];\n",
       "    root.Bokeh.embed.embed_items_notebook(docs_json, render_items);\n",
       "  }\n",
       "  if (root.Bokeh !== undefined && root.Bokeh.Panel !== undefined) {\n",
       "    embed_document(root);\n",
       "  } else {\n",
       "    var attempts = 0;\n",
       "    var timer = setInterval(function(root) {\n",
       "      if (root.Bokeh !== undefined && root.Bokeh.Panel !== undefined) {\n",
       "        clearInterval(timer);\n",
       "        embed_document(root);\n",
       "      } else if (document.readyState == \"complete\") {\n",
       "        attempts++;\n",
       "        if (attempts > 100) {\n",
       "          clearInterval(timer);\n",
       "          console.log(\"Bokeh: ERROR: Unable to run BokehJS code because BokehJS library is missing\");\n",
       "        }\n",
       "      }\n",
       "    }, 10, root)\n",
       "  }\n",
       "})(window);</script>"
      ],
      "text/plain": [
       "Alert(str, alert_type='success', css_classes=['alert', 'alert-success']...], margin=(0, 0, 25, 0), sizing_mode='stretch_width')"
      ]
     },
     "metadata": {
      "application/vnd.holoviews_exec.v0+json": {
       "id": "1126"
      }
     },
     "output_type": "display_data"
    },
    {
     "data": {
      "text/html": [
       "<img src onerror=\"var cell = this.closest('.jp-CodeCell');var editor = cell.querySelector('.jp-Editor');editor.style.background='LightBlue';this.parentNode.removeChild(this)\">"
      ],
      "text/plain": [
       "<IPython.core.display.HTML object>"
      ]
     },
     "metadata": {},
     "output_type": "display_data"
    }
   ],
   "source": [
    "if not output_dir:\n",
    "    text = \"Creating frangiPANe output directory is required to continue !\"\n",
    "    display_alert(text,\"danger\")\n",
    "elif df_group is None:\n",
    "    text = \"Analyzing Group File is required to continue !\"\n",
    "    display_alert(text,\"danger\")\n",
    "elif not ref_file.value or not fastq_dir.value:\n",
    "    text = \"Fill the form with the group file in the previous cell !\"\n",
    "    display_alert(text,\"danger\")\n",
    "else:\n",
    "    # Creating directory\n",
    "    output_mapping_dir = os.path.join(output_dir,\"01-mapping_against_reference\")\n",
    "\n",
    "    # Mapping\n",
    "    fastq2bam_dir(ref_file.value, fastq_dir.value, df_group, cpu, output_mapping_dir, logger)\n",
    "    \n",
    "    bgc('LightBlue')"
   ]
  },
  {
   "cell_type": "markdown",
   "metadata": {
    "tags": []
   },
   "source": [
    "#### __Generating mapping stats <a class=\"anchor\" id=\"mappingstat\">__\n",
    "    \n",
    "Statistics are generated by `samtools flagstat` and they are saved into the directory _01_mapping-against_reference_ and the subdirectory _stat_\n",
    "\n",
    "* One \"flagtstat file\" is generated for each bam file (http://www.htslib.org/doc/samtools-flagstat.html).\n",
    "\n",
    "* _all_flagstat.csv_ file compiling all the stats\n"
   ]
  },
  {
   "cell_type": "code",
   "execution_count": 8,
   "metadata": {},
   "outputs": [
    {
     "data": {},
     "metadata": {},
     "output_type": "display_data"
    },
    {
     "data": {
      "application/vnd.holoviews_exec.v0+json": "",
      "text/html": [
       "<div id='1128'>\n",
       "\n",
       "\n",
       "\n",
       "\n",
       "\n",
       "  <div class=\"bk-root\" id=\"220b3604-7af7-45c1-b3a3-eddf8231a14c\" data-root-id=\"1128\"></div>\n",
       "</div>\n",
       "<script type=\"application/javascript\">(function(root) {\n",
       "  function embed_document(root) {\n",
       "    var docs_json = {\"b03d5c76-11b0-473a-b84e-859ed0d56291\":{\"defs\":[],\"roots\":{\"references\":[{\"attributes\":{\"css_classes\":[\"alert\",\"alert-warning\",\"markdown\"],\"margin\":[0,0,25,0],\"name\":\"Alert00306\",\"sizing_mode\":\"stretch_width\",\"text\":\"&lt;h3&gt;warning&lt;/h3&gt;\\n&lt;hr&gt;\\n&lt;p&gt;Directory /home/christine/Documents/These/frangiPANeGIT2/frangiPANe_PANRice/01-mapping_against_reference/stat already existed&lt;/p&gt;\"},\"id\":\"1128\",\"type\":\"panel.models.markup.HTML\"},{\"attributes\":{\"client_comm_id\":\"f9d2c0ec019846efab79e8e633b4a020\",\"comm_id\":\"339e59ef59154f589097a063b6be80a6\",\"plot_id\":\"1128\"},\"id\":\"1129\",\"type\":\"panel.models.comm_manager.CommManager\"}],\"root_ids\":[\"1128\",\"1129\"]},\"title\":\"Bokeh Application\",\"version\":\"2.3.3\"}};\n",
       "    var render_items = [{\"docid\":\"b03d5c76-11b0-473a-b84e-859ed0d56291\",\"root_ids\":[\"1128\"],\"roots\":{\"1128\":\"220b3604-7af7-45c1-b3a3-eddf8231a14c\"}}];\n",
       "    root.Bokeh.embed.embed_items_notebook(docs_json, render_items);\n",
       "  }\n",
       "  if (root.Bokeh !== undefined && root.Bokeh.Panel !== undefined) {\n",
       "    embed_document(root);\n",
       "  } else {\n",
       "    var attempts = 0;\n",
       "    var timer = setInterval(function(root) {\n",
       "      if (root.Bokeh !== undefined && root.Bokeh.Panel !== undefined) {\n",
       "        clearInterval(timer);\n",
       "        embed_document(root);\n",
       "      } else if (document.readyState == \"complete\") {\n",
       "        attempts++;\n",
       "        if (attempts > 100) {\n",
       "          clearInterval(timer);\n",
       "          console.log(\"Bokeh: ERROR: Unable to run BokehJS code because BokehJS library is missing\");\n",
       "        }\n",
       "      }\n",
       "    }, 10, root)\n",
       "  }\n",
       "})(window);</script>"
      ],
      "text/plain": [
       "Alert(str, alert_type='warning', css_classes=['alert', 'alert-warning']...], margin=(0, 0, 25, 0), sizing_mode='stretch_width')"
      ]
     },
     "metadata": {
      "application/vnd.holoviews_exec.v0+json": {
       "id": "1128"
      }
     },
     "output_type": "display_data"
    },
    {
     "data": {},
     "metadata": {},
     "output_type": "display_data"
    },
    {
     "data": {
      "application/vnd.holoviews_exec.v0+json": "",
      "text/html": [
       "<div id='1130'>\n",
       "\n",
       "\n",
       "\n",
       "\n",
       "\n",
       "  <div class=\"bk-root\" id=\"a2ae7257-531f-4e23-b3f9-66c73aaa5207\" data-root-id=\"1130\"></div>\n",
       "</div>\n",
       "<script type=\"application/javascript\">(function(root) {\n",
       "  function embed_document(root) {\n",
       "    var docs_json = {\"d6d670b4-d5ce-4b43-8fea-5d5709ed97cf\":{\"defs\":[],\"roots\":{\"references\":[{\"attributes\":{\"css_classes\":[\"alert\",\"alert-secondary\",\"markdown\"],\"margin\":[0,0,25,0],\"name\":\"Alert00310\",\"sizing_mode\":\"stretch_width\",\"text\":\"&lt;p&gt;Generating mapping stat (with samtools flagstat) for AA.bam&amp;hellip;&lt;/p&gt;\"},\"id\":\"1130\",\"type\":\"panel.models.markup.HTML\"},{\"attributes\":{\"client_comm_id\":\"beda84b8e4554d61a23ffa7113e5a68d\",\"comm_id\":\"2b1507b9950e45849bb79ec3b3a43eef\",\"plot_id\":\"1130\"},\"id\":\"1131\",\"type\":\"panel.models.comm_manager.CommManager\"}],\"root_ids\":[\"1130\",\"1131\"]},\"title\":\"Bokeh Application\",\"version\":\"2.3.3\"}};\n",
       "    var render_items = [{\"docid\":\"d6d670b4-d5ce-4b43-8fea-5d5709ed97cf\",\"root_ids\":[\"1130\"],\"roots\":{\"1130\":\"a2ae7257-531f-4e23-b3f9-66c73aaa5207\"}}];\n",
       "    root.Bokeh.embed.embed_items_notebook(docs_json, render_items);\n",
       "  }\n",
       "  if (root.Bokeh !== undefined && root.Bokeh.Panel !== undefined) {\n",
       "    embed_document(root);\n",
       "  } else {\n",
       "    var attempts = 0;\n",
       "    var timer = setInterval(function(root) {\n",
       "      if (root.Bokeh !== undefined && root.Bokeh.Panel !== undefined) {\n",
       "        clearInterval(timer);\n",
       "        embed_document(root);\n",
       "      } else if (document.readyState == \"complete\") {\n",
       "        attempts++;\n",
       "        if (attempts > 100) {\n",
       "          clearInterval(timer);\n",
       "          console.log(\"Bokeh: ERROR: Unable to run BokehJS code because BokehJS library is missing\");\n",
       "        }\n",
       "      }\n",
       "    }, 10, root)\n",
       "  }\n",
       "})(window);</script>"
      ],
      "text/plain": [
       "Alert(str, alert_type='secondary', css_classes=['alert', 'alert-secondary...], margin=(0, 0, 25, 0), sizing_mode='stretch_width')"
      ]
     },
     "metadata": {
      "application/vnd.holoviews_exec.v0+json": {
       "id": "1130"
      }
     },
     "output_type": "display_data"
    },
    {
     "data": {},
     "metadata": {},
     "output_type": "display_data"
    },
    {
     "data": {
      "application/vnd.holoviews_exec.v0+json": "",
      "text/html": [
       "<div id='1132'>\n",
       "\n",
       "\n",
       "\n",
       "\n",
       "\n",
       "  <div class=\"bk-root\" id=\"6cf7fdac-70a6-435d-a2ae-fa4b74427623\" data-root-id=\"1132\"></div>\n",
       "</div>\n",
       "<script type=\"application/javascript\">(function(root) {\n",
       "  function embed_document(root) {\n",
       "    var docs_json = {\"2d2613f5-1e8f-4af6-a0ec-bb1f91053f5d\":{\"defs\":[],\"roots\":{\"references\":[{\"attributes\":{\"css_classes\":[\"alert\",\"alert-warning\",\"markdown\"],\"margin\":[0,0,25,0],\"name\":\"Alert00314\",\"sizing_mode\":\"stretch_width\",\"text\":\"&lt;p&gt;Stat previously executed for (AA.bam)&lt;/p&gt;\"},\"id\":\"1132\",\"type\":\"panel.models.markup.HTML\"},{\"attributes\":{\"client_comm_id\":\"df6356b9b96b4e89b19eebf4d0dd7dfb\",\"comm_id\":\"0273b4a789ac4d34b4b64db8e2c9de16\",\"plot_id\":\"1132\"},\"id\":\"1133\",\"type\":\"panel.models.comm_manager.CommManager\"}],\"root_ids\":[\"1132\",\"1133\"]},\"title\":\"Bokeh Application\",\"version\":\"2.3.3\"}};\n",
       "    var render_items = [{\"docid\":\"2d2613f5-1e8f-4af6-a0ec-bb1f91053f5d\",\"root_ids\":[\"1132\"],\"roots\":{\"1132\":\"6cf7fdac-70a6-435d-a2ae-fa4b74427623\"}}];\n",
       "    root.Bokeh.embed.embed_items_notebook(docs_json, render_items);\n",
       "  }\n",
       "  if (root.Bokeh !== undefined && root.Bokeh.Panel !== undefined) {\n",
       "    embed_document(root);\n",
       "  } else {\n",
       "    var attempts = 0;\n",
       "    var timer = setInterval(function(root) {\n",
       "      if (root.Bokeh !== undefined && root.Bokeh.Panel !== undefined) {\n",
       "        clearInterval(timer);\n",
       "        embed_document(root);\n",
       "      } else if (document.readyState == \"complete\") {\n",
       "        attempts++;\n",
       "        if (attempts > 100) {\n",
       "          clearInterval(timer);\n",
       "          console.log(\"Bokeh: ERROR: Unable to run BokehJS code because BokehJS library is missing\");\n",
       "        }\n",
       "      }\n",
       "    }, 10, root)\n",
       "  }\n",
       "})(window);</script>"
      ],
      "text/plain": [
       "Alert(str, alert_type='warning', css_classes=['alert', 'alert-warning']...], margin=(0, 0, 25, 0), sizing_mode='stretch_width')"
      ]
     },
     "metadata": {
      "application/vnd.holoviews_exec.v0+json": {
       "id": "1132"
      }
     },
     "output_type": "display_data"
    },
    {
     "data": {},
     "metadata": {},
     "output_type": "display_data"
    },
    {
     "data": {
      "application/vnd.holoviews_exec.v0+json": "",
      "text/html": [
       "<div id='1134'>\n",
       "\n",
       "\n",
       "\n",
       "\n",
       "\n",
       "  <div class=\"bk-root\" id=\"424f8f9f-9552-410e-8446-4bc255f93286\" data-root-id=\"1134\"></div>\n",
       "</div>\n",
       "<script type=\"application/javascript\">(function(root) {\n",
       "  function embed_document(root) {\n",
       "    var docs_json = {\"427ecdeb-a43b-4b0d-877f-2bdd797b765a\":{\"defs\":[],\"roots\":{\"references\":[{\"attributes\":{\"client_comm_id\":\"7cfc27caf04149daba52850da86941cd\",\"comm_id\":\"857b5f3dcafe461fbaa46e3ad58fd2ef\",\"plot_id\":\"1134\"},\"id\":\"1135\",\"type\":\"panel.models.comm_manager.CommManager\"},{\"attributes\":{\"css_classes\":[\"alert\",\"alert-secondary\",\"markdown\"],\"margin\":[0,0,25,0],\"name\":\"Alert00318\",\"sizing_mode\":\"stretch_width\",\"text\":\"&lt;p&gt;Generating mapping stat (with samtools flagstat) for DT.bam&amp;hellip;&lt;/p&gt;\"},\"id\":\"1134\",\"type\":\"panel.models.markup.HTML\"}],\"root_ids\":[\"1134\",\"1135\"]},\"title\":\"Bokeh Application\",\"version\":\"2.3.3\"}};\n",
       "    var render_items = [{\"docid\":\"427ecdeb-a43b-4b0d-877f-2bdd797b765a\",\"root_ids\":[\"1134\"],\"roots\":{\"1134\":\"424f8f9f-9552-410e-8446-4bc255f93286\"}}];\n",
       "    root.Bokeh.embed.embed_items_notebook(docs_json, render_items);\n",
       "  }\n",
       "  if (root.Bokeh !== undefined && root.Bokeh.Panel !== undefined) {\n",
       "    embed_document(root);\n",
       "  } else {\n",
       "    var attempts = 0;\n",
       "    var timer = setInterval(function(root) {\n",
       "      if (root.Bokeh !== undefined && root.Bokeh.Panel !== undefined) {\n",
       "        clearInterval(timer);\n",
       "        embed_document(root);\n",
       "      } else if (document.readyState == \"complete\") {\n",
       "        attempts++;\n",
       "        if (attempts > 100) {\n",
       "          clearInterval(timer);\n",
       "          console.log(\"Bokeh: ERROR: Unable to run BokehJS code because BokehJS library is missing\");\n",
       "        }\n",
       "      }\n",
       "    }, 10, root)\n",
       "  }\n",
       "})(window);</script>"
      ],
      "text/plain": [
       "Alert(str, alert_type='secondary', css_classes=['alert', 'alert-secondary...], margin=(0, 0, 25, 0), sizing_mode='stretch_width')"
      ]
     },
     "metadata": {
      "application/vnd.holoviews_exec.v0+json": {
       "id": "1134"
      }
     },
     "output_type": "display_data"
    },
    {
     "data": {},
     "metadata": {},
     "output_type": "display_data"
    },
    {
     "data": {
      "application/vnd.holoviews_exec.v0+json": "",
      "text/html": [
       "<div id='1136'>\n",
       "\n",
       "\n",
       "\n",
       "\n",
       "\n",
       "  <div class=\"bk-root\" id=\"1846c219-96de-40b0-af63-dbeaaf3a741d\" data-root-id=\"1136\"></div>\n",
       "</div>\n",
       "<script type=\"application/javascript\">(function(root) {\n",
       "  function embed_document(root) {\n",
       "    var docs_json = {\"ef046453-cd4e-441b-871f-c64b3ddad5fa\":{\"defs\":[],\"roots\":{\"references\":[{\"attributes\":{\"client_comm_id\":\"6e0cccd5ea2b4c51b7014b5db3152957\",\"comm_id\":\"781e1686d9794604bbcf17e8fd6ff7b2\",\"plot_id\":\"1136\"},\"id\":\"1137\",\"type\":\"panel.models.comm_manager.CommManager\"},{\"attributes\":{\"css_classes\":[\"alert\",\"alert-warning\",\"markdown\"],\"margin\":[0,0,25,0],\"name\":\"Alert00322\",\"sizing_mode\":\"stretch_width\",\"text\":\"&lt;p&gt;Stat previously executed for (DT.bam)&lt;/p&gt;\"},\"id\":\"1136\",\"type\":\"panel.models.markup.HTML\"}],\"root_ids\":[\"1136\",\"1137\"]},\"title\":\"Bokeh Application\",\"version\":\"2.3.3\"}};\n",
       "    var render_items = [{\"docid\":\"ef046453-cd4e-441b-871f-c64b3ddad5fa\",\"root_ids\":[\"1136\"],\"roots\":{\"1136\":\"1846c219-96de-40b0-af63-dbeaaf3a741d\"}}];\n",
       "    root.Bokeh.embed.embed_items_notebook(docs_json, render_items);\n",
       "  }\n",
       "  if (root.Bokeh !== undefined && root.Bokeh.Panel !== undefined) {\n",
       "    embed_document(root);\n",
       "  } else {\n",
       "    var attempts = 0;\n",
       "    var timer = setInterval(function(root) {\n",
       "      if (root.Bokeh !== undefined && root.Bokeh.Panel !== undefined) {\n",
       "        clearInterval(timer);\n",
       "        embed_document(root);\n",
       "      } else if (document.readyState == \"complete\") {\n",
       "        attempts++;\n",
       "        if (attempts > 100) {\n",
       "          clearInterval(timer);\n",
       "          console.log(\"Bokeh: ERROR: Unable to run BokehJS code because BokehJS library is missing\");\n",
       "        }\n",
       "      }\n",
       "    }, 10, root)\n",
       "  }\n",
       "})(window);</script>"
      ],
      "text/plain": [
       "Alert(str, alert_type='warning', css_classes=['alert', 'alert-warning']...], margin=(0, 0, 25, 0), sizing_mode='stretch_width')"
      ]
     },
     "metadata": {
      "application/vnd.holoviews_exec.v0+json": {
       "id": "1136"
      }
     },
     "output_type": "display_data"
    },
    {
     "data": {},
     "metadata": {},
     "output_type": "display_data"
    },
    {
     "data": {
      "application/vnd.holoviews_exec.v0+json": "",
      "text/html": [
       "<div id='1138'>\n",
       "\n",
       "\n",
       "\n",
       "\n",
       "\n",
       "  <div class=\"bk-root\" id=\"64c98c51-f25c-408b-8650-e4d5cd6a1295\" data-root-id=\"1138\"></div>\n",
       "</div>\n",
       "<script type=\"application/javascript\">(function(root) {\n",
       "  function embed_document(root) {\n",
       "    var docs_json = {\"5400d69c-2516-4c87-9eaa-8cb7ea8c7843\":{\"defs\":[],\"roots\":{\"references\":[{\"attributes\":{\"client_comm_id\":\"926056df81584f25a0e91366212be73f\",\"comm_id\":\"4fb4ff1f9a5a45bab2283e41301c72f1\",\"plot_id\":\"1138\"},\"id\":\"1139\",\"type\":\"panel.models.comm_manager.CommManager\"},{\"attributes\":{\"css_classes\":[\"alert\",\"alert-secondary\",\"markdown\"],\"margin\":[0,0,25,0],\"name\":\"Alert00326\",\"sizing_mode\":\"stretch_width\",\"text\":\"&lt;p&gt;Generating mapping stat (with samtools flagstat) for AB.bam&amp;hellip;&lt;/p&gt;\"},\"id\":\"1138\",\"type\":\"panel.models.markup.HTML\"}],\"root_ids\":[\"1138\",\"1139\"]},\"title\":\"Bokeh Application\",\"version\":\"2.3.3\"}};\n",
       "    var render_items = [{\"docid\":\"5400d69c-2516-4c87-9eaa-8cb7ea8c7843\",\"root_ids\":[\"1138\"],\"roots\":{\"1138\":\"64c98c51-f25c-408b-8650-e4d5cd6a1295\"}}];\n",
       "    root.Bokeh.embed.embed_items_notebook(docs_json, render_items);\n",
       "  }\n",
       "  if (root.Bokeh !== undefined && root.Bokeh.Panel !== undefined) {\n",
       "    embed_document(root);\n",
       "  } else {\n",
       "    var attempts = 0;\n",
       "    var timer = setInterval(function(root) {\n",
       "      if (root.Bokeh !== undefined && root.Bokeh.Panel !== undefined) {\n",
       "        clearInterval(timer);\n",
       "        embed_document(root);\n",
       "      } else if (document.readyState == \"complete\") {\n",
       "        attempts++;\n",
       "        if (attempts > 100) {\n",
       "          clearInterval(timer);\n",
       "          console.log(\"Bokeh: ERROR: Unable to run BokehJS code because BokehJS library is missing\");\n",
       "        }\n",
       "      }\n",
       "    }, 10, root)\n",
       "  }\n",
       "})(window);</script>"
      ],
      "text/plain": [
       "Alert(str, alert_type='secondary', css_classes=['alert', 'alert-secondary...], margin=(0, 0, 25, 0), sizing_mode='stretch_width')"
      ]
     },
     "metadata": {
      "application/vnd.holoviews_exec.v0+json": {
       "id": "1138"
      }
     },
     "output_type": "display_data"
    },
    {
     "data": {},
     "metadata": {},
     "output_type": "display_data"
    },
    {
     "data": {
      "application/vnd.holoviews_exec.v0+json": "",
      "text/html": [
       "<div id='1140'>\n",
       "\n",
       "\n",
       "\n",
       "\n",
       "\n",
       "  <div class=\"bk-root\" id=\"595eb677-c5e7-4532-87b3-2091d04b3871\" data-root-id=\"1140\"></div>\n",
       "</div>\n",
       "<script type=\"application/javascript\">(function(root) {\n",
       "  function embed_document(root) {\n",
       "    var docs_json = {\"e2124b78-fb17-40ac-a2b7-69a48faa529e\":{\"defs\":[],\"roots\":{\"references\":[{\"attributes\":{\"css_classes\":[\"alert\",\"alert-warning\",\"markdown\"],\"margin\":[0,0,25,0],\"name\":\"Alert00330\",\"sizing_mode\":\"stretch_width\",\"text\":\"&lt;p&gt;Stat previously executed for (AB.bam)&lt;/p&gt;\"},\"id\":\"1140\",\"type\":\"panel.models.markup.HTML\"},{\"attributes\":{\"client_comm_id\":\"9a658df1c32540828ea65abfc9ebd6bf\",\"comm_id\":\"ffc2aa5dbafd44f4a4e2c44f6b690272\",\"plot_id\":\"1140\"},\"id\":\"1141\",\"type\":\"panel.models.comm_manager.CommManager\"}],\"root_ids\":[\"1140\",\"1141\"]},\"title\":\"Bokeh Application\",\"version\":\"2.3.3\"}};\n",
       "    var render_items = [{\"docid\":\"e2124b78-fb17-40ac-a2b7-69a48faa529e\",\"root_ids\":[\"1140\"],\"roots\":{\"1140\":\"595eb677-c5e7-4532-87b3-2091d04b3871\"}}];\n",
       "    root.Bokeh.embed.embed_items_notebook(docs_json, render_items);\n",
       "  }\n",
       "  if (root.Bokeh !== undefined && root.Bokeh.Panel !== undefined) {\n",
       "    embed_document(root);\n",
       "  } else {\n",
       "    var attempts = 0;\n",
       "    var timer = setInterval(function(root) {\n",
       "      if (root.Bokeh !== undefined && root.Bokeh.Panel !== undefined) {\n",
       "        clearInterval(timer);\n",
       "        embed_document(root);\n",
       "      } else if (document.readyState == \"complete\") {\n",
       "        attempts++;\n",
       "        if (attempts > 100) {\n",
       "          clearInterval(timer);\n",
       "          console.log(\"Bokeh: ERROR: Unable to run BokehJS code because BokehJS library is missing\");\n",
       "        }\n",
       "      }\n",
       "    }, 10, root)\n",
       "  }\n",
       "})(window);</script>"
      ],
      "text/plain": [
       "Alert(str, alert_type='warning', css_classes=['alert', 'alert-warning']...], margin=(0, 0, 25, 0), sizing_mode='stretch_width')"
      ]
     },
     "metadata": {
      "application/vnd.holoviews_exec.v0+json": {
       "id": "1140"
      }
     },
     "output_type": "display_data"
    },
    {
     "data": {},
     "metadata": {},
     "output_type": "display_data"
    },
    {
     "data": {
      "application/vnd.holoviews_exec.v0+json": "",
      "text/html": [
       "<div id='1142'>\n",
       "\n",
       "\n",
       "\n",
       "\n",
       "\n",
       "  <div class=\"bk-root\" id=\"165081c2-cb61-48e8-91dc-aeb888b46a70\" data-root-id=\"1142\"></div>\n",
       "</div>\n",
       "<script type=\"application/javascript\">(function(root) {\n",
       "  function embed_document(root) {\n",
       "    var docs_json = {\"57623330-1261-4899-acea-f6b448e56495\":{\"defs\":[],\"roots\":{\"references\":[{\"attributes\":{\"client_comm_id\":\"9e65405fd0334df5830a829be5a6754d\",\"comm_id\":\"e97a8c48976a4638897d200263c368c1\",\"plot_id\":\"1142\"},\"id\":\"1143\",\"type\":\"panel.models.comm_manager.CommManager\"},{\"attributes\":{\"css_classes\":[\"alert\",\"alert-secondary\",\"markdown\"],\"margin\":[0,0,25,0],\"name\":\"Alert00334\",\"sizing_mode\":\"stretch_width\",\"text\":\"&lt;p&gt;Compiling mapping stat into an unique file&amp;hellip;&lt;/p&gt;\"},\"id\":\"1142\",\"type\":\"panel.models.markup.HTML\"}],\"root_ids\":[\"1142\",\"1143\"]},\"title\":\"Bokeh Application\",\"version\":\"2.3.3\"}};\n",
       "    var render_items = [{\"docid\":\"57623330-1261-4899-acea-f6b448e56495\",\"root_ids\":[\"1142\"],\"roots\":{\"1142\":\"165081c2-cb61-48e8-91dc-aeb888b46a70\"}}];\n",
       "    root.Bokeh.embed.embed_items_notebook(docs_json, render_items);\n",
       "  }\n",
       "  if (root.Bokeh !== undefined && root.Bokeh.Panel !== undefined) {\n",
       "    embed_document(root);\n",
       "  } else {\n",
       "    var attempts = 0;\n",
       "    var timer = setInterval(function(root) {\n",
       "      if (root.Bokeh !== undefined && root.Bokeh.Panel !== undefined) {\n",
       "        clearInterval(timer);\n",
       "        embed_document(root);\n",
       "      } else if (document.readyState == \"complete\") {\n",
       "        attempts++;\n",
       "        if (attempts > 100) {\n",
       "          clearInterval(timer);\n",
       "          console.log(\"Bokeh: ERROR: Unable to run BokehJS code because BokehJS library is missing\");\n",
       "        }\n",
       "      }\n",
       "    }, 10, root)\n",
       "  }\n",
       "})(window);</script>"
      ],
      "text/plain": [
       "Alert(str, alert_type='secondary', css_classes=['alert', 'alert-secondary...], margin=(0, 0, 25, 0), sizing_mode='stretch_width')"
      ]
     },
     "metadata": {
      "application/vnd.holoviews_exec.v0+json": {
       "id": "1142"
      }
     },
     "output_type": "display_data"
    },
    {
     "data": {},
     "metadata": {},
     "output_type": "display_data"
    },
    {
     "data": {
      "application/vnd.holoviews_exec.v0+json": "",
      "text/html": [
       "<div id='1144'>\n",
       "\n",
       "\n",
       "\n",
       "\n",
       "\n",
       "  <div class=\"bk-root\" id=\"831df4b1-9d38-4631-b3c1-4232a65f1eaa\" data-root-id=\"1144\"></div>\n",
       "</div>\n",
       "<script type=\"application/javascript\">(function(root) {\n",
       "  function embed_document(root) {\n",
       "    var docs_json = {\"3bc58f0d-0cce-4ee1-94eb-06ed640c79e8\":{\"defs\":[],\"roots\":{\"references\":[{\"attributes\":{\"client_comm_id\":\"1ec9305334634e5e990b39304d105b16\",\"comm_id\":\"6f77b61f34a84110826164998b325e7a\",\"plot_id\":\"1144\"},\"id\":\"1145\",\"type\":\"panel.models.comm_manager.CommManager\"},{\"attributes\":{\"css_classes\":[\"alert\",\"alert-success\",\"markdown\"],\"margin\":[0,0,25,0],\"name\":\"Alert00338\",\"sizing_mode\":\"stretch_width\",\"text\":\"&lt;p&gt;Compiling successfully done. See /home/christine/Documents/These/frangiPANeGIT2/frangiPANe_PANRice/01-mapping_against_reference/stat/all_flagstat.csv&lt;/p&gt;\"},\"id\":\"1144\",\"type\":\"panel.models.markup.HTML\"}],\"root_ids\":[\"1144\",\"1145\"]},\"title\":\"Bokeh Application\",\"version\":\"2.3.3\"}};\n",
       "    var render_items = [{\"docid\":\"3bc58f0d-0cce-4ee1-94eb-06ed640c79e8\",\"root_ids\":[\"1144\"],\"roots\":{\"1144\":\"831df4b1-9d38-4631-b3c1-4232a65f1eaa\"}}];\n",
       "    root.Bokeh.embed.embed_items_notebook(docs_json, render_items);\n",
       "  }\n",
       "  if (root.Bokeh !== undefined && root.Bokeh.Panel !== undefined) {\n",
       "    embed_document(root);\n",
       "  } else {\n",
       "    var attempts = 0;\n",
       "    var timer = setInterval(function(root) {\n",
       "      if (root.Bokeh !== undefined && root.Bokeh.Panel !== undefined) {\n",
       "        clearInterval(timer);\n",
       "        embed_document(root);\n",
       "      } else if (document.readyState == \"complete\") {\n",
       "        attempts++;\n",
       "        if (attempts > 100) {\n",
       "          clearInterval(timer);\n",
       "          console.log(\"Bokeh: ERROR: Unable to run BokehJS code because BokehJS library is missing\");\n",
       "        }\n",
       "      }\n",
       "    }, 10, root)\n",
       "  }\n",
       "})(window);</script>"
      ],
      "text/plain": [
       "Alert(str, alert_type='success', css_classes=['alert', 'alert-success']...], margin=(0, 0, 25, 0), sizing_mode='stretch_width')"
      ]
     },
     "metadata": {
      "application/vnd.holoviews_exec.v0+json": {
       "id": "1144"
      }
     },
     "output_type": "display_data"
    },
    {
     "data": {},
     "metadata": {},
     "output_type": "display_data"
    },
    {
     "data": {
      "application/vnd.holoviews_exec.v0+json": "",
      "text/html": [
       "<div id='1146'>\n",
       "\n",
       "\n",
       "\n",
       "\n",
       "\n",
       "  <div class=\"bk-root\" id=\"8bfaa9b5-941e-464b-985e-ba15fe90107a\" data-root-id=\"1146\"></div>\n",
       "</div>\n",
       "<script type=\"application/javascript\">(function(root) {\n",
       "  function embed_document(root) {\n",
       "    var docs_json = {\"551b1e32-9789-44ba-8f6f-d27fbaffe36b\":{\"defs\":[],\"roots\":{\"references\":[{\"attributes\":{\"css_classes\":[\"markdown\"],\"margin\":[5,5,5,5],\"name\":\"Markdown00369\",\"text\":\"&lt;p&gt;&lt;br /&gt;&lt;hr&gt;&lt;br /&gt;&lt;/p&gt;\\n&lt;h3&gt;Reads mapped&lt;/h3&gt;\"},\"id\":\"1149\",\"type\":\"panel.models.markup.HTML\"},{\"attributes\":{\"margin\":[0,20,0,0],\"options\":[\"AA\",\"AB\"],\"placeholder\":\"\",\"title\":\"Sample\"},\"id\":\"1164\",\"type\":\"MultiChoice\"},{\"attributes\":{\"client_comm_id\":\"3bec113930b24d6db723d5ae47ffb55f\",\"comm_id\":\"077cf970fcde469e8797ceccd44ee20c\",\"plot_id\":\"1146\"},\"id\":\"1167\",\"type\":\"panel.models.comm_manager.CommManager\"},{\"attributes\":{\"children\":[{\"id\":\"1159\"},{\"id\":\"1160\"}],\"margin\":[0,0,0,0],\"name\":\"Row00360\"},\"id\":\"1158\",\"type\":\"Row\"},{\"attributes\":{\"margin\":[0,20,0,0],\"options\":[\"O. barthii\",\"O. glaberrima\"],\"placeholder\":\"\",\"title\":\"Group\"},\"id\":\"1163\",\"type\":\"MultiChoice\"},{\"attributes\":{\"margin\":[5,5,5,5],\"name\":\"DataFrame00346\",\"text\":\"&lt;table border=&quot;0&quot; class=&quot;dataframe panel-df&quot;&gt;\\n  &lt;thead&gt;\\n    &lt;tr&gt;\\n      &lt;th&gt;&lt;/th&gt;\\n      &lt;th colspan=&quot;3&quot; halign=&quot;left&quot;&gt;MAPPED&lt;/th&gt;\\n    &lt;/tr&gt;\\n    &lt;tr&gt;\\n      &lt;th&gt;&lt;/th&gt;\\n      &lt;th&gt;mean&lt;/th&gt;\\n      &lt;th&gt;min&lt;/th&gt;\\n      &lt;th&gt;max&lt;/th&gt;\\n    &lt;/tr&gt;\\n    &lt;tr&gt;\\n      &lt;th&gt;Species&lt;/th&gt;\\n      &lt;th&gt;&lt;/th&gt;\\n      &lt;th&gt;&lt;/th&gt;\\n      &lt;th&gt;&lt;/th&gt;\\n    &lt;/tr&gt;\\n  &lt;/thead&gt;\\n  &lt;tbody&gt;\\n    &lt;tr&gt;\\n      &lt;th&gt;O. barthii&lt;/th&gt;\\n      &lt;td&gt;87.35&lt;/td&gt;\\n      &lt;td&gt;87.35&lt;/td&gt;\\n      &lt;td&gt;87.35&lt;/td&gt;\\n    &lt;/tr&gt;\\n    &lt;tr&gt;\\n      &lt;th&gt;O. glaberrima&lt;/th&gt;\\n      &lt;td&gt;86.35&lt;/td&gt;\\n      &lt;td&gt;86.35&lt;/td&gt;\\n      &lt;td&gt;86.35&lt;/td&gt;\\n    &lt;/tr&gt;\\n  &lt;/tbody&gt;\\n&lt;/table&gt;\",\"width\":400},\"id\":\"1152\",\"type\":\"panel.models.markup.HTML\"},{\"attributes\":{\"css_classes\":[\"markdown\"],\"margin\":[5,5,5,5],\"name\":\"Markdown00371\",\"text\":\"&lt;p&gt;&lt;br /&gt;&lt;hr&gt;&lt;br /&gt;&lt;/p&gt;\\n&lt;h3&gt;Reads mapped properly paired&lt;/h3&gt;\"},\"id\":\"1153\",\"type\":\"panel.models.markup.HTML\"},{\"attributes\":{\"css_classes\":[\"markdown\"],\"margin\":[5,5,5,5],\"name\":\"Markdown00348\",\"text\":\"&lt;p&gt;&lt;br /&gt;&lt;/p&gt;\\n&lt;ul&gt;\\n&lt;li&gt;min - max : 86.35 - 87.35 %&lt;/li&gt;\\n&lt;li&gt;mean : 86.85&lt;/li&gt;\\n&lt;/ul&gt;\"},\"id\":\"1151\",\"type\":\"panel.models.markup.HTML\"},{\"attributes\":{\"background\":\"WhiteSmoke\",\"children\":[{\"id\":\"1147\"},{\"id\":\"1148\"},{\"id\":\"1149\"},{\"id\":\"1150\"},{\"id\":\"1153\"},{\"id\":\"1154\"},{\"id\":\"1157\"},{\"id\":\"1158\"},{\"id\":\"1161\"},{\"id\":\"1162\"},{\"id\":\"1165\"}],\"margin\":[0,0,0,0],\"name\":\"Column00377\",\"sizing_mode\":\"stretch_both\",\"width\":800},\"id\":\"1146\",\"type\":\"Column\"},{\"attributes\":{\"children\":[{\"id\":\"1155\"},{\"id\":\"1156\"}],\"margin\":[0,0,0,0],\"name\":\"Row00355\"},\"id\":\"1154\",\"type\":\"Row\"},{\"attributes\":{\"css_classes\":[\"markdown\"],\"margin\":[5,5,5,5],\"name\":\"Markdown00353\",\"text\":\"&lt;p&gt;&lt;br /&gt;&lt;/p&gt;\\n&lt;ul&gt;\\n&lt;li&gt;min - max : 50.98 - 55.18 %&lt;/li&gt;\\n&lt;li&gt;mean : 53.08&lt;/li&gt;\\n&lt;/ul&gt;\"},\"id\":\"1155\",\"type\":\"panel.models.markup.HTML\"},{\"attributes\":{\"css_classes\":[\"markdown\"],\"margin\":[5,5,5,5],\"name\":\"Markdown00344\",\"text\":\"&lt;table&gt;\\n&lt;thead&gt;\\n&lt;tr&gt;\\n&lt;th align=&quot;left&quot;&gt;Samples by group&lt;/th&gt;\\n&lt;th align=&quot;center&quot;&gt;&lt;/th&gt;\\n&lt;/tr&gt;\\n&lt;/thead&gt;\\n&lt;tbody&gt;\\n&lt;tr&gt;\\n&lt;td align=&quot;left&quot;&gt;O. glaberrima :&lt;/td&gt;\\n&lt;td align=&quot;center&quot;&gt;1 samples&lt;/td&gt;\\n&lt;/tr&gt;\\n&lt;tr&gt;\\n&lt;td align=&quot;left&quot;&gt;O. barthii :&lt;/td&gt;\\n&lt;td align=&quot;center&quot;&gt;1 samples&lt;/td&gt;\\n&lt;/tr&gt;\\n&lt;/tbody&gt;\\n&lt;/table&gt;\"},\"id\":\"1148\",\"type\":\"panel.models.markup.HTML\"},{\"attributes\":{\"children\":[{\"id\":\"1151\"},{\"id\":\"1152\"}],\"margin\":[0,0,0,0],\"name\":\"Row00350\"},\"id\":\"1150\",\"type\":\"Row\"},{\"attributes\":{\"css_classes\":[\"markdown\"],\"margin\":[5,5,5,5],\"name\":\"Markdown00367\",\"text\":\"&lt;h1&gt;Some statistics about mapping step&lt;/h1&gt;\"},\"id\":\"1147\",\"type\":\"panel.models.markup.HTML\"},{\"attributes\":{\"margin\":[5,5,5,5],\"name\":\"Str00364\"},\"id\":\"1166\",\"type\":\"panel.models.markup.HTML\"},{\"attributes\":{\"css_classes\":[\"markdown\"],\"margin\":[5,5,5,5],\"name\":\"Markdown00373\",\"text\":\"&lt;p&gt;&lt;br /&gt;&lt;hr&gt;&lt;br /&gt;&lt;/p&gt;\\n&lt;h3&gt;Reads unmapped&lt;/h3&gt;\"},\"id\":\"1157\",\"type\":\"panel.models.markup.HTML\"},{\"attributes\":{\"height\":288,\"margin\":[5,5,5,5],\"name\":\"Matplotlib00375\",\"text\":\"&lt;img src=&quot;data:image/png;base64,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&quot; width=&quot;432px&quot; height=&quot;288px&quot; alt=&quot;&quot;&gt;&lt;/img&gt;\",\"width\":432},\"id\":\"1161\",\"type\":\"panel.models.markup.HTML\"},{\"attributes\":{\"children\":[{\"id\":\"1163\"},{\"id\":\"1164\"}],\"margin\":[0,0,0,0],\"name\":\"Row00361\"},\"id\":\"1162\",\"type\":\"Row\"},{\"attributes\":{\"children\":[{\"id\":\"1166\"}],\"margin\":[0,0,0,0],\"max_height\":400,\"min_width\":400,\"name\":\"Row00366\",\"width\":400},\"id\":\"1165\",\"type\":\"Row\"},{\"attributes\":{\"margin\":[5,5,5,5],\"name\":\"DataFrame00356\",\"text\":\"&lt;table border=&quot;0&quot; class=&quot;dataframe panel-df&quot;&gt;\\n  &lt;thead&gt;\\n    &lt;tr&gt;\\n      &lt;th&gt;&lt;/th&gt;\\n      &lt;th colspan=&quot;3&quot; halign=&quot;left&quot;&gt;UNMAPPED&lt;/th&gt;\\n    &lt;/tr&gt;\\n    &lt;tr&gt;\\n      &lt;th&gt;&lt;/th&gt;\\n      &lt;th&gt;mean&lt;/th&gt;\\n      &lt;th&gt;min&lt;/th&gt;\\n      &lt;th&gt;max&lt;/th&gt;\\n    &lt;/tr&gt;\\n    &lt;tr&gt;\\n      &lt;th&gt;Species&lt;/th&gt;\\n      &lt;th&gt;&lt;/th&gt;\\n      &lt;th&gt;&lt;/th&gt;\\n      &lt;th&gt;&lt;/th&gt;\\n    &lt;/tr&gt;\\n  &lt;/thead&gt;\\n  &lt;tbody&gt;\\n    &lt;tr&gt;\\n      &lt;th&gt;O. barthii&lt;/th&gt;\\n      &lt;td&gt;5.24&lt;/td&gt;\\n      &lt;td&gt;5.24&lt;/td&gt;\\n      &lt;td&gt;5.24&lt;/td&gt;\\n    &lt;/tr&gt;\\n    &lt;tr&gt;\\n      &lt;th&gt;O. glaberrima&lt;/th&gt;\\n      &lt;td&gt;5.78&lt;/td&gt;\\n      &lt;td&gt;5.78&lt;/td&gt;\\n      &lt;td&gt;5.78&lt;/td&gt;\\n    &lt;/tr&gt;\\n  &lt;/tbody&gt;\\n&lt;/table&gt;\",\"width\":400},\"id\":\"1160\",\"type\":\"panel.models.markup.HTML\"},{\"attributes\":{\"css_classes\":[\"markdown\"],\"margin\":[5,5,5,5],\"name\":\"Markdown00358\",\"text\":\"&lt;p&gt;&lt;br /&gt;&lt;/p&gt;\\n&lt;ul&gt;\\n&lt;li&gt;min - max : 5.24 - 5.78 %&lt;/li&gt;\\n&lt;li&gt;mean : 5.51&lt;/li&gt;\\n&lt;/ul&gt;\"},\"id\":\"1159\",\"type\":\"panel.models.markup.HTML\"},{\"attributes\":{\"margin\":[5,5,5,5],\"name\":\"DataFrame00351\",\"text\":\"&lt;table border=&quot;0&quot; class=&quot;dataframe panel-df&quot;&gt;\\n  &lt;thead&gt;\\n    &lt;tr&gt;\\n      &lt;th&gt;&lt;/th&gt;\\n      &lt;th colspan=&quot;3&quot; halign=&quot;left&quot;&gt;PAIRED&lt;/th&gt;\\n    &lt;/tr&gt;\\n    &lt;tr&gt;\\n      &lt;th&gt;&lt;/th&gt;\\n      &lt;th&gt;mean&lt;/th&gt;\\n      &lt;th&gt;min&lt;/th&gt;\\n      &lt;th&gt;max&lt;/th&gt;\\n    &lt;/tr&gt;\\n    &lt;tr&gt;\\n      &lt;th&gt;Species&lt;/th&gt;\\n      &lt;th&gt;&lt;/th&gt;\\n      &lt;th&gt;&lt;/th&gt;\\n      &lt;th&gt;&lt;/th&gt;\\n    &lt;/tr&gt;\\n  &lt;/thead&gt;\\n  &lt;tbody&gt;\\n    &lt;tr&gt;\\n      &lt;th&gt;O. barthii&lt;/th&gt;\\n      &lt;td&gt;55.18&lt;/td&gt;\\n      &lt;td&gt;55.18&lt;/td&gt;\\n      &lt;td&gt;55.18&lt;/td&gt;\\n    &lt;/tr&gt;\\n    &lt;tr&gt;\\n      &lt;th&gt;O. glaberrima&lt;/th&gt;\\n      &lt;td&gt;50.98&lt;/td&gt;\\n      &lt;td&gt;50.98&lt;/td&gt;\\n      &lt;td&gt;50.98&lt;/td&gt;\\n    &lt;/tr&gt;\\n  &lt;/tbody&gt;\\n&lt;/table&gt;\",\"width\":400},\"id\":\"1156\",\"type\":\"panel.models.markup.HTML\"}],\"root_ids\":[\"1146\",\"1167\"]},\"title\":\"Bokeh Application\",\"version\":\"2.3.3\"}};\n",
       "    var render_items = [{\"docid\":\"551b1e32-9789-44ba-8f6f-d27fbaffe36b\",\"root_ids\":[\"1146\"],\"roots\":{\"1146\":\"8bfaa9b5-941e-464b-985e-ba15fe90107a\"}}];\n",
       "    root.Bokeh.embed.embed_items_notebook(docs_json, render_items);\n",
       "  }\n",
       "  if (root.Bokeh !== undefined && root.Bokeh.Panel !== undefined) {\n",
       "    embed_document(root);\n",
       "  } else {\n",
       "    var attempts = 0;\n",
       "    var timer = setInterval(function(root) {\n",
       "      if (root.Bokeh !== undefined && root.Bokeh.Panel !== undefined) {\n",
       "        clearInterval(timer);\n",
       "        embed_document(root);\n",
       "      } else if (document.readyState == \"complete\") {\n",
       "        attempts++;\n",
       "        if (attempts > 100) {\n",
       "          clearInterval(timer);\n",
       "          console.log(\"Bokeh: ERROR: Unable to run BokehJS code because BokehJS library is missing\");\n",
       "        }\n",
       "      }\n",
       "    }, 10, root)\n",
       "  }\n",
       "})(window);</script>"
      ],
      "text/plain": [
       "Column(background='WhiteSmoke', sizing_mode='stretch_both', width=800)\n",
       "    [0] Markdown(str)\n",
       "    [1] Markdown(str)\n",
       "    [2] Markdown(str)\n",
       "    [3] Row\n",
       "        [0] Markdown(str)\n",
       "        [1] DataFrame(DataFrame, width=400)\n",
       "    [4] Markdown(str)\n",
       "    [5] Row\n",
       "        [0] Markdown(str)\n",
       "        [1] DataFrame(DataFrame, width=400)\n",
       "    [6] Markdown(str)\n",
       "    [7] Row\n",
       "        [0] Markdown(str)\n",
       "        [1] DataFrame(DataFrame, width=400)\n",
       "    [8] Matplotlib(Figure)\n",
       "    [9] Row\n",
       "        [0] MultiChoice(margin=(0, 20, 0, 0), name='Group', options=['O. barthii', ...])\n",
       "        [1] MultiChoice(margin=(0, 20, 0, 0), name='Sample', options=['AA', 'AB'])\n",
       "    [10] ParamFunction(function, max_height=400, width=400)"
      ]
     },
     "metadata": {
      "application/vnd.holoviews_exec.v0+json": {
       "id": "1146"
      }
     },
     "output_type": "display_data"
    },
    {
     "data": {
      "text/html": [
       "<img src onerror=\"var cell = this.closest('.jp-CodeCell');var editor = cell.querySelector('.jp-Editor');editor.style.background='LightBlue';this.parentNode.removeChild(this)\">"
      ],
      "text/plain": [
       "<IPython.core.display.HTML object>"
      ]
     },
     "metadata": {},
     "output_type": "display_data"
    }
   ],
   "source": [
    "if not output_mapping_dir:\n",
    "    text = \"Previous cell ...Mapping with bwa mem... has to be executed even if the mapping were already done !\"\n",
    "    display_alert(text,\"danger\")\n",
    "else :    \n",
    "    stat_dir = os.path.join(output_mapping_dir,\"stat\")\n",
    "    make_dir(stat_dir)\n",
    "\n",
    "    logger.info(f\"MAPPING STAT :\")\n",
    "    logger.info(f\"\\t\\tMapping stat directory : {stat_dir}\")\n",
    "\n",
    "    for file_name in os.listdir(output_mapping_dir):\n",
    "        if \".bam\" in file_name:\n",
    "            samtools_flagstat(os.path.join(output_mapping_dir,file_name), stat_dir,logger)\n",
    "\n",
    "    #### __Compiling stats into a unique tabulated file__\n",
    "    merge_flagstat(output_dir=stat_dir, logger=logger)\n",
    "    #add_variable(file,'dash_mappingStat',1)\n",
    "\n",
    "    ### Dashboard\n",
    "    stat_file = os.path.join(stat_dir,\"all_flagstat.csv\")\n",
    "    dashboard_flagstat(stat_file,df_group)\n",
    "\n",
    "bgc('LightBlue')"
   ]
  },
  {
   "cell_type": "markdown",
   "metadata": {},
   "source": [
    "[<img src=\"Images/up-arrow.png\" alt=\"Top\" width=2% align=\"right\">](#home \"Go back to the top\")\n",
    "\n",
    "\n",
    "### <span style=\"color: #919395\">3 - Assembly of the individuals' reads that do not map (properly) on the reference genome <a class=\"anchor\" id=\"assembly\"></a></span>\n",
    "\n",
    "#### __Extracting unmapped reads with `samtools view`__ \n",
    "\n",
    "Options de samtools view : -b -h -F -@ -o"
   ]
  },
  {
   "cell_type": "code",
   "execution_count": 9,
   "metadata": {},
   "outputs": [
    {
     "data": {},
     "metadata": {},
     "output_type": "display_data"
    },
    {
     "data": {
      "application/vnd.holoviews_exec.v0+json": "",
      "text/html": [
       "<div id='1168'>\n",
       "\n",
       "\n",
       "\n",
       "\n",
       "\n",
       "  <div class=\"bk-root\" id=\"1672ae7a-a357-44c1-aa9f-5b488dc8df55\" data-root-id=\"1168\"></div>\n",
       "</div>\n",
       "<script type=\"application/javascript\">(function(root) {\n",
       "  function embed_document(root) {\n",
       "    var docs_json = {\"d6f07810-e7a4-4def-b982-c7ccd271e905\":{\"defs\":[],\"roots\":{\"references\":[{\"attributes\":{\"client_comm_id\":\"7cfa2f8c9a144d768e2833ee80142da4\",\"comm_id\":\"32b1ebc781c14f49935ddc87cc0f3dc5\",\"plot_id\":\"1168\"},\"id\":\"1169\",\"type\":\"panel.models.comm_manager.CommManager\"},{\"attributes\":{\"css_classes\":[\"alert\",\"alert-warning\",\"markdown\"],\"margin\":[0,0,25,0],\"name\":\"Alert00380\",\"sizing_mode\":\"stretch_width\",\"text\":\"&lt;h3&gt;warning&lt;/h3&gt;\\n&lt;hr&gt;\\n&lt;p&gt;Directory /home/christine/Documents/These/frangiPANeGIT2/frangiPANe_PANRice/01-mapping_against_reference/bam_F0x2 already existed&lt;/p&gt;\"},\"id\":\"1168\",\"type\":\"panel.models.markup.HTML\"}],\"root_ids\":[\"1168\",\"1169\"]},\"title\":\"Bokeh Application\",\"version\":\"2.3.3\"}};\n",
       "    var render_items = [{\"docid\":\"d6f07810-e7a4-4def-b982-c7ccd271e905\",\"root_ids\":[\"1168\"],\"roots\":{\"1168\":\"1672ae7a-a357-44c1-aa9f-5b488dc8df55\"}}];\n",
       "    root.Bokeh.embed.embed_items_notebook(docs_json, render_items);\n",
       "  }\n",
       "  if (root.Bokeh !== undefined && root.Bokeh.Panel !== undefined) {\n",
       "    embed_document(root);\n",
       "  } else {\n",
       "    var attempts = 0;\n",
       "    var timer = setInterval(function(root) {\n",
       "      if (root.Bokeh !== undefined && root.Bokeh.Panel !== undefined) {\n",
       "        clearInterval(timer);\n",
       "        embed_document(root);\n",
       "      } else if (document.readyState == \"complete\") {\n",
       "        attempts++;\n",
       "        if (attempts > 100) {\n",
       "          clearInterval(timer);\n",
       "          console.log(\"Bokeh: ERROR: Unable to run BokehJS code because BokehJS library is missing\");\n",
       "        }\n",
       "      }\n",
       "    }, 10, root)\n",
       "  }\n",
       "})(window);</script>"
      ],
      "text/plain": [
       "Alert(str, alert_type='warning', css_classes=['alert', 'alert-warning']...], margin=(0, 0, 25, 0), sizing_mode='stretch_width')"
      ]
     },
     "metadata": {
      "application/vnd.holoviews_exec.v0+json": {
       "id": "1168"
      }
     },
     "output_type": "display_data"
    },
    {
     "data": {},
     "metadata": {},
     "output_type": "display_data"
    },
    {
     "data": {
      "application/vnd.holoviews_exec.v0+json": "",
      "text/html": [
       "<div id='1170'>\n",
       "\n",
       "\n",
       "\n",
       "\n",
       "\n",
       "  <div class=\"bk-root\" id=\"fae645de-570a-4044-83ca-e5a3dad63d22\" data-root-id=\"1170\"></div>\n",
       "</div>\n",
       "<script type=\"application/javascript\">(function(root) {\n",
       "  function embed_document(root) {\n",
       "    var docs_json = {\"3f418b84-da0c-4a9c-817a-67fb48568d5e\":{\"defs\":[],\"roots\":{\"references\":[{\"attributes\":{\"css_classes\":[\"alert\",\"alert-warning\",\"markdown\"],\"margin\":[0,0,25,0],\"name\":\"Alert00384\",\"sizing_mode\":\"stretch_width\",\"text\":\"&lt;p&gt;File /home/christine/Documents/These/frangiPANeGIT2/frangiPANe_PANRice/01-mapping_against_reference/bam_F0x2/AA_F0x2.bam already existed&lt;/p&gt;\"},\"id\":\"1170\",\"type\":\"panel.models.markup.HTML\"},{\"attributes\":{\"client_comm_id\":\"5b533ecdb04e472d8b1a8883ad202c02\",\"comm_id\":\"f00e99994b27499cb449b6d6ad6e2e92\",\"plot_id\":\"1170\"},\"id\":\"1171\",\"type\":\"panel.models.comm_manager.CommManager\"}],\"root_ids\":[\"1170\",\"1171\"]},\"title\":\"Bokeh Application\",\"version\":\"2.3.3\"}};\n",
       "    var render_items = [{\"docid\":\"3f418b84-da0c-4a9c-817a-67fb48568d5e\",\"root_ids\":[\"1170\"],\"roots\":{\"1170\":\"fae645de-570a-4044-83ca-e5a3dad63d22\"}}];\n",
       "    root.Bokeh.embed.embed_items_notebook(docs_json, render_items);\n",
       "  }\n",
       "  if (root.Bokeh !== undefined && root.Bokeh.Panel !== undefined) {\n",
       "    embed_document(root);\n",
       "  } else {\n",
       "    var attempts = 0;\n",
       "    var timer = setInterval(function(root) {\n",
       "      if (root.Bokeh !== undefined && root.Bokeh.Panel !== undefined) {\n",
       "        clearInterval(timer);\n",
       "        embed_document(root);\n",
       "      } else if (document.readyState == \"complete\") {\n",
       "        attempts++;\n",
       "        if (attempts > 100) {\n",
       "          clearInterval(timer);\n",
       "          console.log(\"Bokeh: ERROR: Unable to run BokehJS code because BokehJS library is missing\");\n",
       "        }\n",
       "      }\n",
       "    }, 10, root)\n",
       "  }\n",
       "})(window);</script>"
      ],
      "text/plain": [
       "Alert(str, alert_type='warning', css_classes=['alert', 'alert-warning']...], margin=(0, 0, 25, 0), sizing_mode='stretch_width')"
      ]
     },
     "metadata": {
      "application/vnd.holoviews_exec.v0+json": {
       "id": "1170"
      }
     },
     "output_type": "display_data"
    },
    {
     "data": {},
     "metadata": {},
     "output_type": "display_data"
    },
    {
     "data": {
      "application/vnd.holoviews_exec.v0+json": "",
      "text/html": [
       "<div id='1172'>\n",
       "\n",
       "\n",
       "\n",
       "\n",
       "\n",
       "  <div class=\"bk-root\" id=\"6f869238-369d-449f-82dd-8e5ed71798db\" data-root-id=\"1172\"></div>\n",
       "</div>\n",
       "<script type=\"application/javascript\">(function(root) {\n",
       "  function embed_document(root) {\n",
       "    var docs_json = {\"e3c27829-d018-46ea-8bca-6520a5ceb056\":{\"defs\":[],\"roots\":{\"references\":[{\"attributes\":{\"css_classes\":[\"alert\",\"alert-warning\",\"markdown\"],\"margin\":[0,0,25,0],\"name\":\"Alert00388\",\"sizing_mode\":\"stretch_width\",\"text\":\"&lt;p&gt;File /home/christine/Documents/These/frangiPANeGIT2/frangiPANe_PANRice/01-mapping_against_reference/bam_F0x2/AB_F0x2.bam already existed&lt;/p&gt;\"},\"id\":\"1172\",\"type\":\"panel.models.markup.HTML\"},{\"attributes\":{\"client_comm_id\":\"79487679c5e74e489cfd46f4d14ab2a1\",\"comm_id\":\"b53124910dd34d92bd5852b8ca30f5d5\",\"plot_id\":\"1172\"},\"id\":\"1173\",\"type\":\"panel.models.comm_manager.CommManager\"}],\"root_ids\":[\"1172\",\"1173\"]},\"title\":\"Bokeh Application\",\"version\":\"2.3.3\"}};\n",
       "    var render_items = [{\"docid\":\"e3c27829-d018-46ea-8bca-6520a5ceb056\",\"root_ids\":[\"1172\"],\"roots\":{\"1172\":\"6f869238-369d-449f-82dd-8e5ed71798db\"}}];\n",
       "    root.Bokeh.embed.embed_items_notebook(docs_json, render_items);\n",
       "  }\n",
       "  if (root.Bokeh !== undefined && root.Bokeh.Panel !== undefined) {\n",
       "    embed_document(root);\n",
       "  } else {\n",
       "    var attempts = 0;\n",
       "    var timer = setInterval(function(root) {\n",
       "      if (root.Bokeh !== undefined && root.Bokeh.Panel !== undefined) {\n",
       "        clearInterval(timer);\n",
       "        embed_document(root);\n",
       "      } else if (document.readyState == \"complete\") {\n",
       "        attempts++;\n",
       "        if (attempts > 100) {\n",
       "          clearInterval(timer);\n",
       "          console.log(\"Bokeh: ERROR: Unable to run BokehJS code because BokehJS library is missing\");\n",
       "        }\n",
       "      }\n",
       "    }, 10, root)\n",
       "  }\n",
       "})(window);</script>"
      ],
      "text/plain": [
       "Alert(str, alert_type='warning', css_classes=['alert', 'alert-warning']...], margin=(0, 0, 25, 0), sizing_mode='stretch_width')"
      ]
     },
     "metadata": {
      "application/vnd.holoviews_exec.v0+json": {
       "id": "1172"
      }
     },
     "output_type": "display_data"
    },
    {
     "data": {},
     "metadata": {},
     "output_type": "display_data"
    },
    {
     "data": {
      "application/vnd.holoviews_exec.v0+json": "",
      "text/html": [
       "<div id='1174'>\n",
       "\n",
       "\n",
       "\n",
       "\n",
       "\n",
       "  <div class=\"bk-root\" id=\"1d5e5228-f7ca-4b28-b530-6afa983cba0f\" data-root-id=\"1174\"></div>\n",
       "</div>\n",
       "<script type=\"application/javascript\">(function(root) {\n",
       "  function embed_document(root) {\n",
       "    var docs_json = {\"d16c2a06-9bbe-4cbb-a614-f3897b0b26a2\":{\"defs\":[],\"roots\":{\"references\":[{\"attributes\":{\"client_comm_id\":\"15a50b6750d0460bbec09e3dfb4a8c1f\",\"comm_id\":\"78be36c1baab489aa07e893cbf501470\",\"plot_id\":\"1174\"},\"id\":\"1175\",\"type\":\"panel.models.comm_manager.CommManager\"},{\"attributes\":{\"css_classes\":[\"alert\",\"alert-success\",\"markdown\"],\"margin\":[0,0,25,0],\"name\":\"Alert00392\",\"sizing_mode\":\"stretch_width\",\"text\":\"&lt;h3&gt;Extracting unmapped reads&lt;/h3&gt;\\n&lt;hr&gt;\\n&lt;ul&gt;\\n&lt;li&gt;BAM DIR : /home/christine/Documents/These/frangiPANeGIT2/frangiPANe_PANRice/01-mapping_against_reference&lt;/li&gt;\\n&lt;li&gt;FILTERED BAM DIR : /home/christine/Documents/These/frangiPANeGIT2/frangiPANe_PANRice/01-mapping_against_reference/bam_F0x2&lt;/li&gt;\\n&lt;/ul&gt;\"},\"id\":\"1174\",\"type\":\"panel.models.markup.HTML\"}],\"root_ids\":[\"1174\",\"1175\"]},\"title\":\"Bokeh Application\",\"version\":\"2.3.3\"}};\n",
       "    var render_items = [{\"docid\":\"d16c2a06-9bbe-4cbb-a614-f3897b0b26a2\",\"root_ids\":[\"1174\"],\"roots\":{\"1174\":\"1d5e5228-f7ca-4b28-b530-6afa983cba0f\"}}];\n",
       "    root.Bokeh.embed.embed_items_notebook(docs_json, render_items);\n",
       "  }\n",
       "  if (root.Bokeh !== undefined && root.Bokeh.Panel !== undefined) {\n",
       "    embed_document(root);\n",
       "  } else {\n",
       "    var attempts = 0;\n",
       "    var timer = setInterval(function(root) {\n",
       "      if (root.Bokeh !== undefined && root.Bokeh.Panel !== undefined) {\n",
       "        clearInterval(timer);\n",
       "        embed_document(root);\n",
       "      } else if (document.readyState == \"complete\") {\n",
       "        attempts++;\n",
       "        if (attempts > 100) {\n",
       "          clearInterval(timer);\n",
       "          console.log(\"Bokeh: ERROR: Unable to run BokehJS code because BokehJS library is missing\");\n",
       "        }\n",
       "      }\n",
       "    }, 10, root)\n",
       "  }\n",
       "})(window);</script>"
      ],
      "text/plain": [
       "Alert(str, alert_type='success', css_classes=['alert', 'alert-success']...], margin=(0, 0, 25, 0), sizing_mode='stretch_width')"
      ]
     },
     "metadata": {
      "application/vnd.holoviews_exec.v0+json": {
       "id": "1174"
      }
     },
     "output_type": "display_data"
    },
    {
     "data": {
      "text/html": [
       "<img src onerror=\"var cell = this.closest('.jp-CodeCell');var editor = cell.querySelector('.jp-Editor');editor.style.background='LightBlue';this.parentNode.removeChild(this)\">"
      ],
      "text/plain": [
       "<IPython.core.display.HTML object>"
      ]
     },
     "metadata": {},
     "output_type": "display_data"
    }
   ],
   "source": [
    "# Creating subdirectory\n",
    "output_filtered_bam = os.path.join(output_mapping_dir,\"bam_F0x2\")\n",
    "make_dir(output_filtered_bam)\n",
    "\n",
    "# Get unmapped reads only\n",
    "bam_to_F0x2_bam_dir(output_mapping_dir,id_dict, cpu, output_filtered_bam, logger)\n",
    "\n",
    "bgc('LightBlue')"
   ]
  },
  {
   "cell_type": "markdown",
   "metadata": {},
   "source": [
    "#### __ABYSS test to choose k-mer value__"
   ]
  },
  {
   "cell_type": "markdown",
   "metadata": {
    "tags": []
   },
   "source": [
    "#### _Choosing optimal k_\n"
   ]
  },
  {
   "cell_type": "code",
   "execution_count": 10,
   "metadata": {},
   "outputs": [
    {
     "data": {},
     "metadata": {},
     "output_type": "display_data"
    },
    {
     "data": {
      "application/vnd.holoviews_exec.v0+json": "",
      "text/html": [
       "<div id='1176'>\n",
       "\n",
       "\n",
       "\n",
       "\n",
       "\n",
       "  <div class=\"bk-root\" id=\"fca69d19-b93c-4949-b89a-e2923ca35492\" data-root-id=\"1176\"></div>\n",
       "</div>\n",
       "<script type=\"application/javascript\">(function(root) {\n",
       "  function embed_document(root) {\n",
       "    var docs_json = {\"88b5fb95-b46c-46f9-bdf2-ce244d59f3b3\":{\"defs\":[],\"roots\":{\"references\":[{\"attributes\":{\"children\":[{\"id\":\"1180\"},{\"id\":\"1181\"}],\"margin\":[0,0,0,0],\"name\":\"Row00405\"},\"id\":\"1179\",\"type\":\"Row\"},{\"attributes\":{\"end\":92,\"margin\":[5,10,5,10],\"start\":24,\"step\":4,\"title\":\"K-mer length\",\"value\":[64,68]},\"id\":\"1180\",\"type\":\"RangeSlider\"},{\"attributes\":{\"client_comm_id\":\"cfee31c00d204c20a86b209a44de2e44\",\"comm_id\":\"dccf08d396594aa18d7c5c9171c5afc9\",\"plot_id\":\"1176\"},\"id\":\"1188\",\"type\":\"panel.models.comm_manager.CommManager\"},{\"attributes\":{\"children\":[{\"id\":\"1179\"},{\"id\":\"1182\"},{\"id\":\"1183\"},{\"id\":\"1184\"},{\"id\":\"1187\"}],\"margin\":[0,0,0,0],\"min_width\":800,\"name\":\"Column00406\",\"width\":800},\"id\":\"1178\",\"type\":\"Column\"},{\"attributes\":{\"css_classes\":[\"alert\",\"alert-warning\",\"markdown\"],\"height\":200,\"margin\":[0,0,25,0],\"name\":\"Alert00396\",\"sizing_mode\":\"stretch_width\",\"text\":\"&lt;p&gt;No filled&lt;/p&gt;\"},\"id\":\"1187\",\"type\":\"panel.models.markup.HTML\"},{\"attributes\":{\"button_type\":\"primary\",\"icon\":null,\"label\":\"SAVE\",\"margin\":[5,10,5,10],\"min_width\":100,\"subscribed_events\":[\"button_click\"],\"width\":100},\"id\":\"1185\",\"type\":\"Button\"},{\"attributes\":{\"margin\":[5,10,5,10],\"options\":[\"AA\",\"AB\"],\"title\":\"Accession\",\"value\":[\"AA\",\"AB\"]},\"id\":\"1182\",\"type\":\"MultiSelect\"},{\"attributes\":{\"children\":[{\"id\":\"1185\"},{\"id\":\"1186\"}],\"margin\":[0,0,0,0],\"name\":\"Row00404\"},\"id\":\"1184\",\"type\":\"Row\"},{\"attributes\":{\"button_type\":\"primary\",\"icon\":null,\"label\":\"INIT\",\"margin\":[5,10,5,10],\"min_width\":100,\"subscribed_events\":[\"button_click\"],\"width\":100},\"id\":\"1186\",\"type\":\"Button\"},{\"attributes\":{\"high\":10,\"low\":1,\"margin\":[5,10,5,10],\"mode\":\"int\",\"placeholder\":\"0\",\"title\":\"Step\",\"value\":4,\"value_throttled\":4},\"id\":\"1181\",\"type\":\"Spinner\"},{\"attributes\":{\"background\":\"#E3ECF1\",\"children\":[{\"id\":\"1177\"},{\"id\":\"1178\"}],\"css_classes\":[\"panel-widget-box\"],\"margin\":[5,5,5,5],\"name\":\"WidgetBox00409\"},\"id\":\"1176\",\"type\":\"Column\"},{\"attributes\":{\"high\":10000,\"low\":100,\"margin\":[5,10,5,10],\"mode\":\"int\",\"placeholder\":\"0\",\"step\":100,\"title\":\"Minimal length to filter\",\"value\":300,\"value_throttled\":300},\"id\":\"1183\",\"type\":\"Spinner\"},{\"attributes\":{\"css_classes\":[\"markdown\"],\"margin\":[5,5,5,5],\"name\":\"Markdown00407\",\"text\":\"&lt;h1&gt;INPUT FORM&lt;/h1&gt;\"},\"id\":\"1177\",\"type\":\"panel.models.markup.HTML\"}],\"root_ids\":[\"1176\",\"1188\"]},\"title\":\"Bokeh Application\",\"version\":\"2.3.3\"}};\n",
       "    var render_items = [{\"docid\":\"88b5fb95-b46c-46f9-bdf2-ce244d59f3b3\",\"root_ids\":[\"1176\"],\"roots\":{\"1176\":\"fca69d19-b93c-4949-b89a-e2923ca35492\"}}];\n",
       "    root.Bokeh.embed.embed_items_notebook(docs_json, render_items);\n",
       "  }\n",
       "  if (root.Bokeh !== undefined && root.Bokeh.Panel !== undefined) {\n",
       "    embed_document(root);\n",
       "  } else {\n",
       "    var attempts = 0;\n",
       "    var timer = setInterval(function(root) {\n",
       "      if (root.Bokeh !== undefined && root.Bokeh.Panel !== undefined) {\n",
       "        clearInterval(timer);\n",
       "        embed_document(root);\n",
       "      } else if (document.readyState == \"complete\") {\n",
       "        attempts++;\n",
       "        if (attempts > 100) {\n",
       "          clearInterval(timer);\n",
       "          console.log(\"Bokeh: ERROR: Unable to run BokehJS code because BokehJS library is missing\");\n",
       "        }\n",
       "      }\n",
       "    }, 10, root)\n",
       "  }\n",
       "})(window);</script>"
      ],
      "text/plain": [
       "WidgetBox(background='#E3ECF1')\n",
       "    [0] Markdown(str)\n",
       "    [1] Column(width=800)\n",
       "        [0] Row\n",
       "            [0] RangeSlider(end=92, name='K-mer length', start=24, step=4, value=(64, 68))\n",
       "            [1] IntInput(end=10, name='Step', start=1, value=4)\n",
       "        [1] MultiSelect(name='Accession', options=['AA', 'AB'], value=['AA', 'AB'])\n",
       "        [2] IntInput(end=10000, name='Minimal length t..., start=100, step=100, value=300)\n",
       "        [3] Row\n",
       "            [0] Button(button_type='primary', name='SAVE', width=100)\n",
       "            [1] Button(button_type='primary', name='INIT', width=100)\n",
       "        [4] Alert(str, alert_type='warning', css_classes=['alert', 'alert-warning']...], height=200, margin=(0, 0, 25, 0), sizing_mode='stretch_width')"
      ]
     },
     "metadata": {
      "application/vnd.holoviews_exec.v0+json": {
       "id": "1176"
      }
     },
     "output_type": "display_data"
    },
    {
     "data": {
      "text/html": [
       "<img src onerror=\"var cell = this.closest('.jp-CodeCell');var editor = cell.querySelector('.jp-Editor');editor.style.background='LightBlue';this.parentNode.removeChild(this)\">"
      ],
      "text/plain": [
       "<IPython.core.display.HTML object>"
      ]
     },
     "metadata": {},
     "output_type": "display_data"
    }
   ],
   "source": [
    "k,step,accession,length = box_config_abyss(df_group)\n",
    "bgc('LightBlue')"
   ]
  },
  {
   "cell_type": "markdown",
   "metadata": {},
   "source": [
    "##### Execute Abyss with several k\n",
    "\n",
    "TODO : ADD TEST TO REMOVE ADDITIONAL SAMPLES FROM PREVIOUS RUNS + test if k filled"
   ]
  },
  {
   "cell_type": "code",
   "execution_count": 11,
   "metadata": {
    "scrolled": true
   },
   "outputs": [
    {
     "data": {},
     "metadata": {},
     "output_type": "display_data"
    },
    {
     "data": {
      "application/vnd.holoviews_exec.v0+json": "",
      "text/html": [
       "<div id='1190'>\n",
       "\n",
       "\n",
       "\n",
       "\n",
       "\n",
       "  <div class=\"bk-root\" id=\"5c8edbd2-d5c5-4a23-9fbd-b901ab849e01\" data-root-id=\"1190\"></div>\n",
       "</div>\n",
       "<script type=\"application/javascript\">(function(root) {\n",
       "  function embed_document(root) {\n",
       "    var docs_json = {\"1c932a0f-a123-4cca-9359-0bee3a4cbf6f\":{\"defs\":[],\"roots\":{\"references\":[{\"attributes\":{\"css_classes\":[\"alert\",\"alert-warning\",\"markdown\"],\"margin\":[0,0,25,0],\"name\":\"Alert00412\",\"sizing_mode\":\"stretch_width\",\"text\":\"&lt;h3&gt;warning&lt;/h3&gt;\\n&lt;hr&gt;\\n&lt;p&gt;Directory /home/christine/Documents/These/frangiPANeGIT2/frangiPANe_PANRice/02-assembly_unmapped_reads already existed&lt;/p&gt;\"},\"id\":\"1190\",\"type\":\"panel.models.markup.HTML\"},{\"attributes\":{\"client_comm_id\":\"38b37b2f171b4375af32c3eb1efa7f23\",\"comm_id\":\"144d6d343fa34f5c9bf4570e10334d90\",\"plot_id\":\"1190\"},\"id\":\"1191\",\"type\":\"panel.models.comm_manager.CommManager\"}],\"root_ids\":[\"1190\",\"1191\"]},\"title\":\"Bokeh Application\",\"version\":\"2.3.3\"}};\n",
       "    var render_items = [{\"docid\":\"1c932a0f-a123-4cca-9359-0bee3a4cbf6f\",\"root_ids\":[\"1190\"],\"roots\":{\"1190\":\"5c8edbd2-d5c5-4a23-9fbd-b901ab849e01\"}}];\n",
       "    root.Bokeh.embed.embed_items_notebook(docs_json, render_items);\n",
       "  }\n",
       "  if (root.Bokeh !== undefined && root.Bokeh.Panel !== undefined) {\n",
       "    embed_document(root);\n",
       "  } else {\n",
       "    var attempts = 0;\n",
       "    var timer = setInterval(function(root) {\n",
       "      if (root.Bokeh !== undefined && root.Bokeh.Panel !== undefined) {\n",
       "        clearInterval(timer);\n",
       "        embed_document(root);\n",
       "      } else if (document.readyState == \"complete\") {\n",
       "        attempts++;\n",
       "        if (attempts > 100) {\n",
       "          clearInterval(timer);\n",
       "          console.log(\"Bokeh: ERROR: Unable to run BokehJS code because BokehJS library is missing\");\n",
       "        }\n",
       "      }\n",
       "    }, 10, root)\n",
       "  }\n",
       "})(window);</script>"
      ],
      "text/plain": [
       "Alert(str, alert_type='warning', css_classes=['alert', 'alert-warning']...], margin=(0, 0, 25, 0), sizing_mode='stretch_width')"
      ]
     },
     "metadata": {
      "application/vnd.holoviews_exec.v0+json": {
       "id": "1190"
      }
     },
     "output_type": "display_data"
    },
    {
     "data": {},
     "metadata": {},
     "output_type": "display_data"
    },
    {
     "data": {
      "application/vnd.holoviews_exec.v0+json": "",
      "text/html": [
       "<div id='1192'>\n",
       "\n",
       "\n",
       "\n",
       "\n",
       "\n",
       "  <div class=\"bk-root\" id=\"a13883fc-49d9-4f48-95f1-c68bc49f268c\" data-root-id=\"1192\"></div>\n",
       "</div>\n",
       "<script type=\"application/javascript\">(function(root) {\n",
       "  function embed_document(root) {\n",
       "    var docs_json = {\"dad25a02-d65c-40db-a775-d54b3be5ade1\":{\"defs\":[],\"roots\":{\"references\":[{\"attributes\":{\"css_classes\":[\"alert\",\"alert-warning\",\"markdown\"],\"margin\":[0,0,25,0],\"name\":\"Alert00416\",\"sizing_mode\":\"stretch_width\",\"text\":\"&lt;h3&gt;warning&lt;/h3&gt;\\n&lt;hr&gt;\\n&lt;p&gt;Directory /home/christine/Documents/These/frangiPANeGIT2/frangiPANe_PANRice/02-assembly_unmapped_reads/01-choosing_k already existed&lt;/p&gt;\"},\"id\":\"1192\",\"type\":\"panel.models.markup.HTML\"},{\"attributes\":{\"client_comm_id\":\"8c3a48f256214afd9f0f96f16b9f22b6\",\"comm_id\":\"7d9efe8a559343ff8bc53c9a3b168dcc\",\"plot_id\":\"1192\"},\"id\":\"1193\",\"type\":\"panel.models.comm_manager.CommManager\"}],\"root_ids\":[\"1192\",\"1193\"]},\"title\":\"Bokeh Application\",\"version\":\"2.3.3\"}};\n",
       "    var render_items = [{\"docid\":\"dad25a02-d65c-40db-a775-d54b3be5ade1\",\"root_ids\":[\"1192\"],\"roots\":{\"1192\":\"a13883fc-49d9-4f48-95f1-c68bc49f268c\"}}];\n",
       "    root.Bokeh.embed.embed_items_notebook(docs_json, render_items);\n",
       "  }\n",
       "  if (root.Bokeh !== undefined && root.Bokeh.Panel !== undefined) {\n",
       "    embed_document(root);\n",
       "  } else {\n",
       "    var attempts = 0;\n",
       "    var timer = setInterval(function(root) {\n",
       "      if (root.Bokeh !== undefined && root.Bokeh.Panel !== undefined) {\n",
       "        clearInterval(timer);\n",
       "        embed_document(root);\n",
       "      } else if (document.readyState == \"complete\") {\n",
       "        attempts++;\n",
       "        if (attempts > 100) {\n",
       "          clearInterval(timer);\n",
       "          console.log(\"Bokeh: ERROR: Unable to run BokehJS code because BokehJS library is missing\");\n",
       "        }\n",
       "      }\n",
       "    }, 10, root)\n",
       "  }\n",
       "})(window);</script>"
      ],
      "text/plain": [
       "Alert(str, alert_type='warning', css_classes=['alert', 'alert-warning']...], margin=(0, 0, 25, 0), sizing_mode='stretch_width')"
      ]
     },
     "metadata": {
      "application/vnd.holoviews_exec.v0+json": {
       "id": "1192"
      }
     },
     "output_type": "display_data"
    },
    {
     "data": {},
     "metadata": {},
     "output_type": "display_data"
    },
    {
     "data": {
      "application/vnd.holoviews_exec.v0+json": "",
      "text/html": [
       "<div id='1194'>\n",
       "\n",
       "\n",
       "\n",
       "\n",
       "\n",
       "  <div class=\"bk-root\" id=\"138d7418-788e-4a8d-9db9-8fc099eb9536\" data-root-id=\"1194\"></div>\n",
       "</div>\n",
       "<script type=\"application/javascript\">(function(root) {\n",
       "  function embed_document(root) {\n",
       "    var docs_json = {\"08880277-c625-48dd-8717-a5dfe38f8048\":{\"defs\":[],\"roots\":{\"references\":[{\"attributes\":{\"css_classes\":[\"alert\",\"alert-warning\",\"markdown\"],\"margin\":[0,0,25,0],\"name\":\"Alert00420\",\"sizing_mode\":\"stretch_width\",\"text\":\"&lt;h3&gt;warning&lt;/h3&gt;\\n&lt;hr&gt;\\n&lt;p&gt;Directory /home/christine/Documents/These/frangiPANeGIT2/frangiPANe_PANRice/02-assembly_unmapped_reads/01-choosing_k/fasta already existed&lt;/p&gt;\"},\"id\":\"1194\",\"type\":\"panel.models.markup.HTML\"},{\"attributes\":{\"client_comm_id\":\"2e9a0c9996054446ab105c4610dbe98b\",\"comm_id\":\"2407ad2dbb534160938191400afc303e\",\"plot_id\":\"1194\"},\"id\":\"1195\",\"type\":\"panel.models.comm_manager.CommManager\"}],\"root_ids\":[\"1194\",\"1195\"]},\"title\":\"Bokeh Application\",\"version\":\"2.3.3\"}};\n",
       "    var render_items = [{\"docid\":\"08880277-c625-48dd-8717-a5dfe38f8048\",\"root_ids\":[\"1194\"],\"roots\":{\"1194\":\"138d7418-788e-4a8d-9db9-8fc099eb9536\"}}];\n",
       "    root.Bokeh.embed.embed_items_notebook(docs_json, render_items);\n",
       "  }\n",
       "  if (root.Bokeh !== undefined && root.Bokeh.Panel !== undefined) {\n",
       "    embed_document(root);\n",
       "  } else {\n",
       "    var attempts = 0;\n",
       "    var timer = setInterval(function(root) {\n",
       "      if (root.Bokeh !== undefined && root.Bokeh.Panel !== undefined) {\n",
       "        clearInterval(timer);\n",
       "        embed_document(root);\n",
       "      } else if (document.readyState == \"complete\") {\n",
       "        attempts++;\n",
       "        if (attempts > 100) {\n",
       "          clearInterval(timer);\n",
       "          console.log(\"Bokeh: ERROR: Unable to run BokehJS code because BokehJS library is missing\");\n",
       "        }\n",
       "      }\n",
       "    }, 10, root)\n",
       "  }\n",
       "})(window);</script>"
      ],
      "text/plain": [
       "Alert(str, alert_type='warning', css_classes=['alert', 'alert-warning']...], margin=(0, 0, 25, 0), sizing_mode='stretch_width')"
      ]
     },
     "metadata": {
      "application/vnd.holoviews_exec.v0+json": {
       "id": "1194"
      }
     },
     "output_type": "display_data"
    },
    {
     "data": {},
     "metadata": {},
     "output_type": "display_data"
    },
    {
     "data": {
      "application/vnd.holoviews_exec.v0+json": "",
      "text/html": [
       "<div id='1196'>\n",
       "\n",
       "\n",
       "\n",
       "\n",
       "\n",
       "  <div class=\"bk-root\" id=\"68ffa066-fb12-483e-b24d-bbafd08d13f6\" data-root-id=\"1196\"></div>\n",
       "</div>\n",
       "<script type=\"application/javascript\">(function(root) {\n",
       "  function embed_document(root) {\n",
       "    var docs_json = {\"f3aeeeca-6f65-4033-94c8-96e5669fe142\":{\"defs\":[],\"roots\":{\"references\":[{\"attributes\":{\"css_classes\":[\"alert\",\"alert-warning\",\"markdown\"],\"margin\":[0,0,25,0],\"name\":\"Alert00424\",\"sizing_mode\":\"stretch_width\",\"text\":\"&lt;h3&gt;warning&lt;/h3&gt;\\n&lt;hr&gt;\\n&lt;p&gt;Directory /home/christine/Documents/These/frangiPANeGIT2/frangiPANe_PANRice/02-assembly_unmapped_reads/01-choosing_k/AA_k64 already existed&lt;/p&gt;\"},\"id\":\"1196\",\"type\":\"panel.models.markup.HTML\"},{\"attributes\":{\"client_comm_id\":\"519ffdd53be54c7fadd5603d0aca3511\",\"comm_id\":\"3a8169241a5c4d80ba3aa91915a582b1\",\"plot_id\":\"1196\"},\"id\":\"1197\",\"type\":\"panel.models.comm_manager.CommManager\"}],\"root_ids\":[\"1196\",\"1197\"]},\"title\":\"Bokeh Application\",\"version\":\"2.3.3\"}};\n",
       "    var render_items = [{\"docid\":\"f3aeeeca-6f65-4033-94c8-96e5669fe142\",\"root_ids\":[\"1196\"],\"roots\":{\"1196\":\"68ffa066-fb12-483e-b24d-bbafd08d13f6\"}}];\n",
       "    root.Bokeh.embed.embed_items_notebook(docs_json, render_items);\n",
       "  }\n",
       "  if (root.Bokeh !== undefined && root.Bokeh.Panel !== undefined) {\n",
       "    embed_document(root);\n",
       "  } else {\n",
       "    var attempts = 0;\n",
       "    var timer = setInterval(function(root) {\n",
       "      if (root.Bokeh !== undefined && root.Bokeh.Panel !== undefined) {\n",
       "        clearInterval(timer);\n",
       "        embed_document(root);\n",
       "      } else if (document.readyState == \"complete\") {\n",
       "        attempts++;\n",
       "        if (attempts > 100) {\n",
       "          clearInterval(timer);\n",
       "          console.log(\"Bokeh: ERROR: Unable to run BokehJS code because BokehJS library is missing\");\n",
       "        }\n",
       "      }\n",
       "    }, 10, root)\n",
       "  }\n",
       "})(window);</script>"
      ],
      "text/plain": [
       "Alert(str, alert_type='warning', css_classes=['alert', 'alert-warning']...], margin=(0, 0, 25, 0), sizing_mode='stretch_width')"
      ]
     },
     "metadata": {
      "application/vnd.holoviews_exec.v0+json": {
       "id": "1196"
      }
     },
     "output_type": "display_data"
    },
    {
     "data": {},
     "metadata": {},
     "output_type": "display_data"
    },
    {
     "data": {
      "application/vnd.holoviews_exec.v0+json": "",
      "text/html": [
       "<div id='1198'>\n",
       "\n",
       "\n",
       "\n",
       "\n",
       "\n",
       "  <div class=\"bk-root\" id=\"7dd7530f-130b-4763-b45a-babd83ce152a\" data-root-id=\"1198\"></div>\n",
       "</div>\n",
       "<script type=\"application/javascript\">(function(root) {\n",
       "  function embed_document(root) {\n",
       "    var docs_json = {\"6ff1a992-c6dc-46f3-b120-8ecfec457622\":{\"defs\":[],\"roots\":{\"references\":[{\"attributes\":{\"css_classes\":[\"alert\",\"alert-warning\",\"markdown\"],\"margin\":[0,0,25,0],\"name\":\"Alert00428\",\"sizing_mode\":\"stretch_width\",\"text\":\"&lt;p&gt;File /home/christine/Documents/These/frangiPANeGIT2/frangiPANe_PANRice/02-assembly_unmapped_reads/01-choosing_k/AA_k64/PANRice_AA_64-contigs.fa already existed&lt;/p&gt;\"},\"id\":\"1198\",\"type\":\"panel.models.markup.HTML\"},{\"attributes\":{\"client_comm_id\":\"6ec95d02cb6d489686300f5a3b08a990\",\"comm_id\":\"f7669b5998bd4830a9fc276d6bcf7139\",\"plot_id\":\"1198\"},\"id\":\"1199\",\"type\":\"panel.models.comm_manager.CommManager\"}],\"root_ids\":[\"1198\",\"1199\"]},\"title\":\"Bokeh Application\",\"version\":\"2.3.3\"}};\n",
       "    var render_items = [{\"docid\":\"6ff1a992-c6dc-46f3-b120-8ecfec457622\",\"root_ids\":[\"1198\"],\"roots\":{\"1198\":\"7dd7530f-130b-4763-b45a-babd83ce152a\"}}];\n",
       "    root.Bokeh.embed.embed_items_notebook(docs_json, render_items);\n",
       "  }\n",
       "  if (root.Bokeh !== undefined && root.Bokeh.Panel !== undefined) {\n",
       "    embed_document(root);\n",
       "  } else {\n",
       "    var attempts = 0;\n",
       "    var timer = setInterval(function(root) {\n",
       "      if (root.Bokeh !== undefined && root.Bokeh.Panel !== undefined) {\n",
       "        clearInterval(timer);\n",
       "        embed_document(root);\n",
       "      } else if (document.readyState == \"complete\") {\n",
       "        attempts++;\n",
       "        if (attempts > 100) {\n",
       "          clearInterval(timer);\n",
       "          console.log(\"Bokeh: ERROR: Unable to run BokehJS code because BokehJS library is missing\");\n",
       "        }\n",
       "      }\n",
       "    }, 10, root)\n",
       "  }\n",
       "})(window);</script>"
      ],
      "text/plain": [
       "Alert(str, alert_type='warning', css_classes=['alert', 'alert-warning']...], margin=(0, 0, 25, 0), sizing_mode='stretch_width')"
      ]
     },
     "metadata": {
      "application/vnd.holoviews_exec.v0+json": {
       "id": "1198"
      }
     },
     "output_type": "display_data"
    },
    {
     "data": {},
     "metadata": {},
     "output_type": "display_data"
    },
    {
     "data": {
      "application/vnd.holoviews_exec.v0+json": "",
      "text/html": [
       "<div id='1200'>\n",
       "\n",
       "\n",
       "\n",
       "\n",
       "\n",
       "  <div class=\"bk-root\" id=\"1c015db0-427f-4e83-b967-dbf6ba36416c\" data-root-id=\"1200\"></div>\n",
       "</div>\n",
       "<script type=\"application/javascript\">(function(root) {\n",
       "  function embed_document(root) {\n",
       "    var docs_json = {\"957e16a6-3d9d-4876-97db-1f93739c0bbc\":{\"defs\":[],\"roots\":{\"references\":[{\"attributes\":{\"client_comm_id\":\"cd275b9863e8448386593d546e051167\",\"comm_id\":\"92050ca76ab942b7856fbdcbae29cdb4\",\"plot_id\":\"1200\"},\"id\":\"1201\",\"type\":\"panel.models.comm_manager.CommManager\"},{\"attributes\":{\"css_classes\":[\"alert\",\"alert-warning\",\"markdown\"],\"margin\":[0,0,25,0],\"name\":\"Alert00432\",\"sizing_mode\":\"stretch_width\",\"text\":\"&lt;h3&gt;warning&lt;/h3&gt;\\n&lt;hr&gt;\\n&lt;p&gt;Directory /home/christine/Documents/These/frangiPANeGIT2/frangiPANe_PANRice/02-assembly_unmapped_reads/01-choosing_k/AA_k68 already existed&lt;/p&gt;\"},\"id\":\"1200\",\"type\":\"panel.models.markup.HTML\"}],\"root_ids\":[\"1200\",\"1201\"]},\"title\":\"Bokeh Application\",\"version\":\"2.3.3\"}};\n",
       "    var render_items = [{\"docid\":\"957e16a6-3d9d-4876-97db-1f93739c0bbc\",\"root_ids\":[\"1200\"],\"roots\":{\"1200\":\"1c015db0-427f-4e83-b967-dbf6ba36416c\"}}];\n",
       "    root.Bokeh.embed.embed_items_notebook(docs_json, render_items);\n",
       "  }\n",
       "  if (root.Bokeh !== undefined && root.Bokeh.Panel !== undefined) {\n",
       "    embed_document(root);\n",
       "  } else {\n",
       "    var attempts = 0;\n",
       "    var timer = setInterval(function(root) {\n",
       "      if (root.Bokeh !== undefined && root.Bokeh.Panel !== undefined) {\n",
       "        clearInterval(timer);\n",
       "        embed_document(root);\n",
       "      } else if (document.readyState == \"complete\") {\n",
       "        attempts++;\n",
       "        if (attempts > 100) {\n",
       "          clearInterval(timer);\n",
       "          console.log(\"Bokeh: ERROR: Unable to run BokehJS code because BokehJS library is missing\");\n",
       "        }\n",
       "      }\n",
       "    }, 10, root)\n",
       "  }\n",
       "})(window);</script>"
      ],
      "text/plain": [
       "Alert(str, alert_type='warning', css_classes=['alert', 'alert-warning']...], margin=(0, 0, 25, 0), sizing_mode='stretch_width')"
      ]
     },
     "metadata": {
      "application/vnd.holoviews_exec.v0+json": {
       "id": "1200"
      }
     },
     "output_type": "display_data"
    },
    {
     "data": {},
     "metadata": {},
     "output_type": "display_data"
    },
    {
     "data": {
      "application/vnd.holoviews_exec.v0+json": "",
      "text/html": [
       "<div id='1202'>\n",
       "\n",
       "\n",
       "\n",
       "\n",
       "\n",
       "  <div class=\"bk-root\" id=\"b1e3e5ad-3178-4e1f-a9ee-fdf2df06da54\" data-root-id=\"1202\"></div>\n",
       "</div>\n",
       "<script type=\"application/javascript\">(function(root) {\n",
       "  function embed_document(root) {\n",
       "    var docs_json = {\"6246f1b0-2d91-41c6-8c83-9dea28a721ff\":{\"defs\":[],\"roots\":{\"references\":[{\"attributes\":{\"css_classes\":[\"alert\",\"alert-warning\",\"markdown\"],\"margin\":[0,0,25,0],\"name\":\"Alert00436\",\"sizing_mode\":\"stretch_width\",\"text\":\"&lt;p&gt;File /home/christine/Documents/These/frangiPANeGIT2/frangiPANe_PANRice/02-assembly_unmapped_reads/01-choosing_k/AA_k68/PANRice_AA_68-contigs.fa already existed&lt;/p&gt;\"},\"id\":\"1202\",\"type\":\"panel.models.markup.HTML\"},{\"attributes\":{\"client_comm_id\":\"ce90f67df171414fa4e203d8ebee7ad2\",\"comm_id\":\"00d418915b2f4e7d84d55c5d9e010469\",\"plot_id\":\"1202\"},\"id\":\"1203\",\"type\":\"panel.models.comm_manager.CommManager\"}],\"root_ids\":[\"1202\",\"1203\"]},\"title\":\"Bokeh Application\",\"version\":\"2.3.3\"}};\n",
       "    var render_items = [{\"docid\":\"6246f1b0-2d91-41c6-8c83-9dea28a721ff\",\"root_ids\":[\"1202\"],\"roots\":{\"1202\":\"b1e3e5ad-3178-4e1f-a9ee-fdf2df06da54\"}}];\n",
       "    root.Bokeh.embed.embed_items_notebook(docs_json, render_items);\n",
       "  }\n",
       "  if (root.Bokeh !== undefined && root.Bokeh.Panel !== undefined) {\n",
       "    embed_document(root);\n",
       "  } else {\n",
       "    var attempts = 0;\n",
       "    var timer = setInterval(function(root) {\n",
       "      if (root.Bokeh !== undefined && root.Bokeh.Panel !== undefined) {\n",
       "        clearInterval(timer);\n",
       "        embed_document(root);\n",
       "      } else if (document.readyState == \"complete\") {\n",
       "        attempts++;\n",
       "        if (attempts > 100) {\n",
       "          clearInterval(timer);\n",
       "          console.log(\"Bokeh: ERROR: Unable to run BokehJS code because BokehJS library is missing\");\n",
       "        }\n",
       "      }\n",
       "    }, 10, root)\n",
       "  }\n",
       "})(window);</script>"
      ],
      "text/plain": [
       "Alert(str, alert_type='warning', css_classes=['alert', 'alert-warning']...], margin=(0, 0, 25, 0), sizing_mode='stretch_width')"
      ]
     },
     "metadata": {
      "application/vnd.holoviews_exec.v0+json": {
       "id": "1202"
      }
     },
     "output_type": "display_data"
    },
    {
     "data": {},
     "metadata": {},
     "output_type": "display_data"
    },
    {
     "data": {
      "application/vnd.holoviews_exec.v0+json": "",
      "text/html": [
       "<div id='1204'>\n",
       "\n",
       "\n",
       "\n",
       "\n",
       "\n",
       "  <div class=\"bk-root\" id=\"a60a9000-d0d5-490b-b798-6f36ab603549\" data-root-id=\"1204\"></div>\n",
       "</div>\n",
       "<script type=\"application/javascript\">(function(root) {\n",
       "  function embed_document(root) {\n",
       "    var docs_json = {\"2c74f578-797d-431d-ac93-5f086675a780\":{\"defs\":[],\"roots\":{\"references\":[{\"attributes\":{\"client_comm_id\":\"48bb0eb18ca34bc7baa571c3f35be37e\",\"comm_id\":\"18248253f4564bac91b844ef5119be11\",\"plot_id\":\"1204\"},\"id\":\"1205\",\"type\":\"panel.models.comm_manager.CommManager\"},{\"attributes\":{\"css_classes\":[\"alert\",\"alert-warning\",\"markdown\"],\"margin\":[0,0,25,0],\"name\":\"Alert00440\",\"sizing_mode\":\"stretch_width\",\"text\":\"&lt;p&gt;File /home/christine/Documents/These/frangiPANeGIT2/frangiPANe_PANRice/02-assembly_unmapped_reads/01-choosing_k/fasta/AA_k68_thr300-contigs.fasta already existed&lt;/p&gt;\"},\"id\":\"1204\",\"type\":\"panel.models.markup.HTML\"}],\"root_ids\":[\"1204\",\"1205\"]},\"title\":\"Bokeh Application\",\"version\":\"2.3.3\"}};\n",
       "    var render_items = [{\"docid\":\"2c74f578-797d-431d-ac93-5f086675a780\",\"root_ids\":[\"1204\"],\"roots\":{\"1204\":\"a60a9000-d0d5-490b-b798-6f36ab603549\"}}];\n",
       "    root.Bokeh.embed.embed_items_notebook(docs_json, render_items);\n",
       "  }\n",
       "  if (root.Bokeh !== undefined && root.Bokeh.Panel !== undefined) {\n",
       "    embed_document(root);\n",
       "  } else {\n",
       "    var attempts = 0;\n",
       "    var timer = setInterval(function(root) {\n",
       "      if (root.Bokeh !== undefined && root.Bokeh.Panel !== undefined) {\n",
       "        clearInterval(timer);\n",
       "        embed_document(root);\n",
       "      } else if (document.readyState == \"complete\") {\n",
       "        attempts++;\n",
       "        if (attempts > 100) {\n",
       "          clearInterval(timer);\n",
       "          console.log(\"Bokeh: ERROR: Unable to run BokehJS code because BokehJS library is missing\");\n",
       "        }\n",
       "      }\n",
       "    }, 10, root)\n",
       "  }\n",
       "})(window);</script>"
      ],
      "text/plain": [
       "Alert(str, alert_type='warning', css_classes=['alert', 'alert-warning']...], margin=(0, 0, 25, 0), sizing_mode='stretch_width')"
      ]
     },
     "metadata": {
      "application/vnd.holoviews_exec.v0+json": {
       "id": "1204"
      }
     },
     "output_type": "display_data"
    },
    {
     "data": {},
     "metadata": {},
     "output_type": "display_data"
    },
    {
     "data": {
      "application/vnd.holoviews_exec.v0+json": "",
      "text/html": [
       "<div id='1206'>\n",
       "\n",
       "\n",
       "\n",
       "\n",
       "\n",
       "  <div class=\"bk-root\" id=\"9712ab34-b9eb-486c-839b-309dd0867e98\" data-root-id=\"1206\"></div>\n",
       "</div>\n",
       "<script type=\"application/javascript\">(function(root) {\n",
       "  function embed_document(root) {\n",
       "    var docs_json = {\"572ffdcf-ff03-4ab5-b0d6-b133849bb525\":{\"defs\":[],\"roots\":{\"references\":[{\"attributes\":{\"css_classes\":[\"alert\",\"alert-success\",\"markdown\"],\"margin\":[0,0,25,0],\"name\":\"Alert00444\",\"sizing_mode\":\"stretch_width\",\"text\":\"&lt;h3&gt;Extracting fasta sequences and filtering on length &amp;gt; 300 bp&lt;/h3&gt;\\n&lt;hr&gt;\\n\\n&lt;ul&gt;\\n&lt;li&gt;BAM INPUT DIR : /home/christine/Documents/These/frangiPANeGIT2/frangiPANe_PANRice/01-mapping_against_reference/bam_F0x2&lt;/li&gt;\\n&lt;li&gt;ABYSS DIR : /home/christine/Documents/These/frangiPANeGIT2/frangiPANe_PANRice/02-assembly_unmapped_reads/01-choosing_k&lt;/li&gt;\\n&lt;li&gt;FASTA DIR : /home/christine/Documents/These/frangiPANeGIT2/frangiPANe_PANRice/02-assembly_unmapped_reads/01-choosing_k/fasta&lt;/li&gt;\\n&lt;/ul&gt;\"},\"id\":\"1206\",\"type\":\"panel.models.markup.HTML\"},{\"attributes\":{\"client_comm_id\":\"d590b50653be43be8b530c12d6f0e9df\",\"comm_id\":\"62d7bf5bbb834288b5e0e150af0f535d\",\"plot_id\":\"1206\"},\"id\":\"1207\",\"type\":\"panel.models.comm_manager.CommManager\"}],\"root_ids\":[\"1206\",\"1207\"]},\"title\":\"Bokeh Application\",\"version\":\"2.3.3\"}};\n",
       "    var render_items = [{\"docid\":\"572ffdcf-ff03-4ab5-b0d6-b133849bb525\",\"root_ids\":[\"1206\"],\"roots\":{\"1206\":\"9712ab34-b9eb-486c-839b-309dd0867e98\"}}];\n",
       "    root.Bokeh.embed.embed_items_notebook(docs_json, render_items);\n",
       "  }\n",
       "  if (root.Bokeh !== undefined && root.Bokeh.Panel !== undefined) {\n",
       "    embed_document(root);\n",
       "  } else {\n",
       "    var attempts = 0;\n",
       "    var timer = setInterval(function(root) {\n",
       "      if (root.Bokeh !== undefined && root.Bokeh.Panel !== undefined) {\n",
       "        clearInterval(timer);\n",
       "        embed_document(root);\n",
       "      } else if (document.readyState == \"complete\") {\n",
       "        attempts++;\n",
       "        if (attempts > 100) {\n",
       "          clearInterval(timer);\n",
       "          console.log(\"Bokeh: ERROR: Unable to run BokehJS code because BokehJS library is missing\");\n",
       "        }\n",
       "      }\n",
       "    }, 10, root)\n",
       "  }\n",
       "})(window);</script>"
      ],
      "text/plain": [
       "Alert(str, alert_type='success', css_classes=['alert', 'alert-success']...], margin=(0, 0, 25, 0), sizing_mode='stretch_width')"
      ]
     },
     "metadata": {
      "application/vnd.holoviews_exec.v0+json": {
       "id": "1206"
      }
     },
     "output_type": "display_data"
    },
    {
     "data": {
      "text/html": [
       "<img src onerror=\"var cell = this.closest('.jp-CodeCell');var editor = cell.querySelector('.jp-Editor');editor.style.background='LightBlue';this.parentNode.removeChild(this)\">"
      ],
      "text/plain": [
       "<IPython.core.display.HTML object>"
      ]
     },
     "metadata": {},
     "output_type": "display_data"
    }
   ],
   "source": [
    "output_assembly_dir = os.path.join(output_dir,\"02-assembly_unmapped_reads\")\n",
    "make_dir(output_assembly_dir)\n",
    "    \n",
    "output_assembly_test= os.path.join(output_assembly_dir,\"01-choosing_k\")\n",
    "make_dir(output_assembly_test)\n",
    "\n",
    "output_assembly_fasta = os.path.join(output_assembly_test,\"fasta\")\n",
    "make_dir(output_assembly_fasta)\n",
    "\n",
    "if not accession.value:\n",
    "    text = \"Fill the form in the previous cell, select one or several accessions and save your results !\"\n",
    "    display_alert(text,\"danger\")\n",
    "else:\n",
    "    kmin=int(k.value[0])\n",
    "    kmax=int(k.value[1])+1\n",
    "    st=step.value\n",
    "    threshold =  length.value\n",
    "\n",
    "    for k in range(kmin, kmax, step.value) :\n",
    "        for id in accession.value : ### INDIVIDUS TEST\n",
    "            abyss_pe(project_name.value, id, k, output_filtered_bam, output_assembly_test, logger) \n",
    "            filter_fastq_threshold(output_assembly_test + \"/\" + id + \"_k\" + str(k) + \"/\" + project_name.value+ \"_\" + id + \"_\" + str(k) + \"-contigs.fa\",\n",
    "                               output_assembly_fasta + \"/\" + id + \"_k\" + str(k) + \"_thr\" + str(threshold) + \"-contigs.fasta\", threshold)\n",
    "\n",
    "    text = f\"\"\"\n",
    "### Extracting fasta sequences and filtering on length > { threshold } bp \n",
    "<hr>\n",
    "\n",
    "* BAM INPUT DIR : {output_filtered_bam}\n",
    "* ABYSS DIR : {output_assembly_test}\n",
    "* FASTA DIR : {output_assembly_fasta}\n",
    "\"\"\"\n",
    "\n",
    "display_alert(text, \"success\")\n",
    "bgc('LightBlue')"
   ]
  },
  {
   "cell_type": "markdown",
   "metadata": {},
   "source": [
    "#### _Stats and plots of abyss test_\n"
   ]
  },
  {
   "cell_type": "code",
   "execution_count": 12,
   "metadata": {
    "tags": []
   },
   "outputs": [
    {
     "data": {},
     "metadata": {},
     "output_type": "display_data"
    },
    {
     "data": {
      "application/vnd.holoviews_exec.v0+json": "",
      "text/html": [
       "<div id='1208'>\n",
       "\n",
       "\n",
       "\n",
       "\n",
       "\n",
       "  <div class=\"bk-root\" id=\"ee6e5a5a-be25-43bf-97eb-5cbf2d4cffe4\" data-root-id=\"1208\"></div>\n",
       "</div>\n",
       "<script type=\"application/javascript\">(function(root) {\n",
       "  function embed_document(root) {\n",
       "    var docs_json = {\"721040f3-4e77-4203-aebf-08d12eb4b45e\":{\"defs\":[],\"roots\":{\"references\":[{\"attributes\":{\"client_comm_id\":\"25dbb02b76f647e6994cf2aff9e3c4db\",\"comm_id\":\"97c7feabefdf4e6780c49c062a744776\",\"plot_id\":\"1208\"},\"id\":\"1209\",\"type\":\"panel.models.comm_manager.CommManager\"},{\"attributes\":{\"css_classes\":[\"alert\",\"alert-warning\",\"markdown\"],\"margin\":[0,0,25,0],\"name\":\"Alert00448\",\"sizing_mode\":\"stretch_width\",\"text\":\"&lt;h3&gt;warning&lt;/h3&gt;\\n&lt;hr&gt;\\n&lt;p&gt;Directory /home/christine/Documents/These/frangiPANeGIT2/frangiPANe_PANRice/02-assembly_unmapped_reads/01-choosing_k/plots already existed&lt;/p&gt;\"},\"id\":\"1208\",\"type\":\"panel.models.markup.HTML\"}],\"root_ids\":[\"1208\",\"1209\"]},\"title\":\"Bokeh Application\",\"version\":\"2.3.3\"}};\n",
       "    var render_items = [{\"docid\":\"721040f3-4e77-4203-aebf-08d12eb4b45e\",\"root_ids\":[\"1208\"],\"roots\":{\"1208\":\"ee6e5a5a-be25-43bf-97eb-5cbf2d4cffe4\"}}];\n",
       "    root.Bokeh.embed.embed_items_notebook(docs_json, render_items);\n",
       "  }\n",
       "  if (root.Bokeh !== undefined && root.Bokeh.Panel !== undefined) {\n",
       "    embed_document(root);\n",
       "  } else {\n",
       "    var attempts = 0;\n",
       "    var timer = setInterval(function(root) {\n",
       "      if (root.Bokeh !== undefined && root.Bokeh.Panel !== undefined) {\n",
       "        clearInterval(timer);\n",
       "        embed_document(root);\n",
       "      } else if (document.readyState == \"complete\") {\n",
       "        attempts++;\n",
       "        if (attempts > 100) {\n",
       "          clearInterval(timer);\n",
       "          console.log(\"Bokeh: ERROR: Unable to run BokehJS code because BokehJS library is missing\");\n",
       "        }\n",
       "      }\n",
       "    }, 10, root)\n",
       "  }\n",
       "})(window);</script>"
      ],
      "text/plain": [
       "Alert(str, alert_type='warning', css_classes=['alert', 'alert-warning']...], margin=(0, 0, 25, 0), sizing_mode='stretch_width')"
      ]
     },
     "metadata": {
      "application/vnd.holoviews_exec.v0+json": {
       "id": "1208"
      }
     },
     "output_type": "display_data"
    },
    {
     "data": {},
     "metadata": {},
     "output_type": "display_data"
    },
    {
     "data": {
      "application/vnd.holoviews_exec.v0+json": "",
      "text/html": [
       "<div id='1210'>\n",
       "\n",
       "\n",
       "\n",
       "\n",
       "\n",
       "  <div class=\"bk-root\" id=\"76bfe4e0-c9ce-4dd7-9b5d-cf94aea4729e\" data-root-id=\"1210\"></div>\n",
       "</div>\n",
       "<script type=\"application/javascript\">(function(root) {\n",
       "  function embed_document(root) {\n",
       "    var docs_json = {\"86fdc3aa-1b73-4562-82c8-72f6fd8e5a77\":{\"defs\":[],\"roots\":{\"references\":[{\"attributes\":{\"css_classes\":[\"alert\",\"alert-secondary\",\"markdown\"],\"margin\":[0,0,25,0],\"name\":\"Alert00452\",\"sizing_mode\":\"stretch_width\",\"text\":\"&lt;p&gt;Generating stat (with assembly-stats) for /home/christine/Documents/These/frangiPANeGIT2/frangiPANe_PANRice/02-assembly_unmapped_reads/01-choosing_k/fasta/AA_k64_thr300-contigs.fasta&amp;hellip;&lt;/p&gt;\"},\"id\":\"1210\",\"type\":\"panel.models.markup.HTML\"},{\"attributes\":{\"client_comm_id\":\"d83ffb8f50944d19a459c0dbd1090761\",\"comm_id\":\"e15592875b6c418b9d04816d7ba26c44\",\"plot_id\":\"1210\"},\"id\":\"1211\",\"type\":\"panel.models.comm_manager.CommManager\"}],\"root_ids\":[\"1210\",\"1211\"]},\"title\":\"Bokeh Application\",\"version\":\"2.3.3\"}};\n",
       "    var render_items = [{\"docid\":\"86fdc3aa-1b73-4562-82c8-72f6fd8e5a77\",\"root_ids\":[\"1210\"],\"roots\":{\"1210\":\"76bfe4e0-c9ce-4dd7-9b5d-cf94aea4729e\"}}];\n",
       "    root.Bokeh.embed.embed_items_notebook(docs_json, render_items);\n",
       "  }\n",
       "  if (root.Bokeh !== undefined && root.Bokeh.Panel !== undefined) {\n",
       "    embed_document(root);\n",
       "  } else {\n",
       "    var attempts = 0;\n",
       "    var timer = setInterval(function(root) {\n",
       "      if (root.Bokeh !== undefined && root.Bokeh.Panel !== undefined) {\n",
       "        clearInterval(timer);\n",
       "        embed_document(root);\n",
       "      } else if (document.readyState == \"complete\") {\n",
       "        attempts++;\n",
       "        if (attempts > 100) {\n",
       "          clearInterval(timer);\n",
       "          console.log(\"Bokeh: ERROR: Unable to run BokehJS code because BokehJS library is missing\");\n",
       "        }\n",
       "      }\n",
       "    }, 10, root)\n",
       "  }\n",
       "})(window);</script>"
      ],
      "text/plain": [
       "Alert(str, alert_type='secondary', css_classes=['alert', 'alert-secondary...], margin=(0, 0, 25, 0), sizing_mode='stretch_width')"
      ]
     },
     "metadata": {
      "application/vnd.holoviews_exec.v0+json": {
       "id": "1210"
      }
     },
     "output_type": "display_data"
    },
    {
     "data": {},
     "metadata": {},
     "output_type": "display_data"
    },
    {
     "data": {
      "application/vnd.holoviews_exec.v0+json": "",
      "text/html": [
       "<div id='1212'>\n",
       "\n",
       "\n",
       "\n",
       "\n",
       "\n",
       "  <div class=\"bk-root\" id=\"b09e36a7-9064-4153-be41-12aa6487810f\" data-root-id=\"1212\"></div>\n",
       "</div>\n",
       "<script type=\"application/javascript\">(function(root) {\n",
       "  function embed_document(root) {\n",
       "    var docs_json = {\"74f7ef60-664e-460e-9748-87dc38a37939\":{\"defs\":[],\"roots\":{\"references\":[{\"attributes\":{\"client_comm_id\":\"13b0e92dc1a348c4b9eb061bd48d4089\",\"comm_id\":\"b31d5ebecbd94eec8b782d5bf1b45bd3\",\"plot_id\":\"1212\"},\"id\":\"1213\",\"type\":\"panel.models.comm_manager.CommManager\"},{\"attributes\":{\"css_classes\":[\"alert\",\"alert-success\",\"markdown\"],\"margin\":[0,0,25,0],\"name\":\"Alert00456\",\"sizing_mode\":\"stretch_width\",\"text\":\"&lt;p&gt;assembly-stats successfully done (/home/christine/Documents/These/frangiPANeGIT2/frangiPANe_PANRice/02-assembly_unmapped_reads/01-choosing_k/fasta/AA_k64_thr300-contigs.fasta)&lt;/p&gt;\"},\"id\":\"1212\",\"type\":\"panel.models.markup.HTML\"}],\"root_ids\":[\"1212\",\"1213\"]},\"title\":\"Bokeh Application\",\"version\":\"2.3.3\"}};\n",
       "    var render_items = [{\"docid\":\"74f7ef60-664e-460e-9748-87dc38a37939\",\"root_ids\":[\"1212\"],\"roots\":{\"1212\":\"b09e36a7-9064-4153-be41-12aa6487810f\"}}];\n",
       "    root.Bokeh.embed.embed_items_notebook(docs_json, render_items);\n",
       "  }\n",
       "  if (root.Bokeh !== undefined && root.Bokeh.Panel !== undefined) {\n",
       "    embed_document(root);\n",
       "  } else {\n",
       "    var attempts = 0;\n",
       "    var timer = setInterval(function(root) {\n",
       "      if (root.Bokeh !== undefined && root.Bokeh.Panel !== undefined) {\n",
       "        clearInterval(timer);\n",
       "        embed_document(root);\n",
       "      } else if (document.readyState == \"complete\") {\n",
       "        attempts++;\n",
       "        if (attempts > 100) {\n",
       "          clearInterval(timer);\n",
       "          console.log(\"Bokeh: ERROR: Unable to run BokehJS code because BokehJS library is missing\");\n",
       "        }\n",
       "      }\n",
       "    }, 10, root)\n",
       "  }\n",
       "})(window);</script>"
      ],
      "text/plain": [
       "Alert(str, alert_type='success', css_classes=['alert', 'alert-success']...], margin=(0, 0, 25, 0), sizing_mode='stretch_width')"
      ]
     },
     "metadata": {
      "application/vnd.holoviews_exec.v0+json": {
       "id": "1212"
      }
     },
     "output_type": "display_data"
    },
    {
     "data": {},
     "metadata": {},
     "output_type": "display_data"
    },
    {
     "data": {
      "application/vnd.holoviews_exec.v0+json": "",
      "text/html": [
       "<div id='1214'>\n",
       "\n",
       "\n",
       "\n",
       "\n",
       "\n",
       "  <div class=\"bk-root\" id=\"abe54c5d-6291-4fda-863e-e0caa51f3bc8\" data-root-id=\"1214\"></div>\n",
       "</div>\n",
       "<script type=\"application/javascript\">(function(root) {\n",
       "  function embed_document(root) {\n",
       "    var docs_json = {\"2406e879-33df-4ed5-bda0-81fcb3381179\":{\"defs\":[],\"roots\":{\"references\":[{\"attributes\":{\"css_classes\":[\"alert\",\"alert-secondary\",\"markdown\"],\"margin\":[0,0,25,0],\"name\":\"Alert00460\",\"sizing_mode\":\"stretch_width\",\"text\":\"&lt;p&gt;Generating stat (with assembly-stats) for /home/christine/Documents/These/frangiPANeGIT2/frangiPANe_PANRice/02-assembly_unmapped_reads/01-choosing_k/fasta/AA_k68_thr300-contigs.fasta&amp;hellip;&lt;/p&gt;\"},\"id\":\"1214\",\"type\":\"panel.models.markup.HTML\"},{\"attributes\":{\"client_comm_id\":\"e8c37ae87b6a4113abc4f186de93e7c7\",\"comm_id\":\"6af6c74108da4a8e8b8146a3eeb3ac5a\",\"plot_id\":\"1214\"},\"id\":\"1215\",\"type\":\"panel.models.comm_manager.CommManager\"}],\"root_ids\":[\"1214\",\"1215\"]},\"title\":\"Bokeh Application\",\"version\":\"2.3.3\"}};\n",
       "    var render_items = [{\"docid\":\"2406e879-33df-4ed5-bda0-81fcb3381179\",\"root_ids\":[\"1214\"],\"roots\":{\"1214\":\"abe54c5d-6291-4fda-863e-e0caa51f3bc8\"}}];\n",
       "    root.Bokeh.embed.embed_items_notebook(docs_json, render_items);\n",
       "  }\n",
       "  if (root.Bokeh !== undefined && root.Bokeh.Panel !== undefined) {\n",
       "    embed_document(root);\n",
       "  } else {\n",
       "    var attempts = 0;\n",
       "    var timer = setInterval(function(root) {\n",
       "      if (root.Bokeh !== undefined && root.Bokeh.Panel !== undefined) {\n",
       "        clearInterval(timer);\n",
       "        embed_document(root);\n",
       "      } else if (document.readyState == \"complete\") {\n",
       "        attempts++;\n",
       "        if (attempts > 100) {\n",
       "          clearInterval(timer);\n",
       "          console.log(\"Bokeh: ERROR: Unable to run BokehJS code because BokehJS library is missing\");\n",
       "        }\n",
       "      }\n",
       "    }, 10, root)\n",
       "  }\n",
       "})(window);</script>"
      ],
      "text/plain": [
       "Alert(str, alert_type='secondary', css_classes=['alert', 'alert-secondary...], margin=(0, 0, 25, 0), sizing_mode='stretch_width')"
      ]
     },
     "metadata": {
      "application/vnd.holoviews_exec.v0+json": {
       "id": "1214"
      }
     },
     "output_type": "display_data"
    },
    {
     "data": {},
     "metadata": {},
     "output_type": "display_data"
    },
    {
     "data": {
      "application/vnd.holoviews_exec.v0+json": "",
      "text/html": [
       "<div id='1216'>\n",
       "\n",
       "\n",
       "\n",
       "\n",
       "\n",
       "  <div class=\"bk-root\" id=\"5805ef17-7f6b-4a87-b25f-19138f84be79\" data-root-id=\"1216\"></div>\n",
       "</div>\n",
       "<script type=\"application/javascript\">(function(root) {\n",
       "  function embed_document(root) {\n",
       "    var docs_json = {\"7a0828ad-29c5-4eac-ba58-486a3a235fd9\":{\"defs\":[],\"roots\":{\"references\":[{\"attributes\":{\"css_classes\":[\"alert\",\"alert-success\",\"markdown\"],\"margin\":[0,0,25,0],\"name\":\"Alert00464\",\"sizing_mode\":\"stretch_width\",\"text\":\"&lt;p&gt;assembly-stats successfully done (/home/christine/Documents/These/frangiPANeGIT2/frangiPANe_PANRice/02-assembly_unmapped_reads/01-choosing_k/fasta/AA_k68_thr300-contigs.fasta)&lt;/p&gt;\"},\"id\":\"1216\",\"type\":\"panel.models.markup.HTML\"},{\"attributes\":{\"client_comm_id\":\"16ef52553c3e48668f9c256e50481879\",\"comm_id\":\"6d271dc79df746d39c9629197ecb7f39\",\"plot_id\":\"1216\"},\"id\":\"1217\",\"type\":\"panel.models.comm_manager.CommManager\"}],\"root_ids\":[\"1216\",\"1217\"]},\"title\":\"Bokeh Application\",\"version\":\"2.3.3\"}};\n",
       "    var render_items = [{\"docid\":\"7a0828ad-29c5-4eac-ba58-486a3a235fd9\",\"root_ids\":[\"1216\"],\"roots\":{\"1216\":\"5805ef17-7f6b-4a87-b25f-19138f84be79\"}}];\n",
       "    root.Bokeh.embed.embed_items_notebook(docs_json, render_items);\n",
       "  }\n",
       "  if (root.Bokeh !== undefined && root.Bokeh.Panel !== undefined) {\n",
       "    embed_document(root);\n",
       "  } else {\n",
       "    var attempts = 0;\n",
       "    var timer = setInterval(function(root) {\n",
       "      if (root.Bokeh !== undefined && root.Bokeh.Panel !== undefined) {\n",
       "        clearInterval(timer);\n",
       "        embed_document(root);\n",
       "      } else if (document.readyState == \"complete\") {\n",
       "        attempts++;\n",
       "        if (attempts > 100) {\n",
       "          clearInterval(timer);\n",
       "          console.log(\"Bokeh: ERROR: Unable to run BokehJS code because BokehJS library is missing\");\n",
       "        }\n",
       "      }\n",
       "    }, 10, root)\n",
       "  }\n",
       "})(window);</script>"
      ],
      "text/plain": [
       "Alert(str, alert_type='success', css_classes=['alert', 'alert-success']...], margin=(0, 0, 25, 0), sizing_mode='stretch_width')"
      ]
     },
     "metadata": {
      "application/vnd.holoviews_exec.v0+json": {
       "id": "1216"
      }
     },
     "output_type": "display_data"
    },
    {
     "data": {},
     "metadata": {},
     "output_type": "display_data"
    },
    {
     "data": {
      "application/vnd.holoviews_exec.v0+json": "",
      "text/html": [
       "<div id='1218'>\n",
       "\n",
       "\n",
       "\n",
       "\n",
       "\n",
       "  <div class=\"bk-root\" id=\"ebeab3b4-9452-41ed-9b06-ba7a194bcabd\" data-root-id=\"1218\"></div>\n",
       "</div>\n",
       "<script type=\"application/javascript\">(function(root) {\n",
       "  function embed_document(root) {\n",
       "    var docs_json = {\"17d8b73b-4351-4105-a9a1-3df1acd6f205\":{\"defs\":[],\"roots\":{\"references\":[{\"attributes\":{\"children\":[{\"id\":\"1221\"}],\"margin\":[0,0,0,0],\"name\":\"Row00470\"},\"id\":\"1220\",\"type\":\"Row\"},{\"attributes\":{\"css_classes\":[\"markdown\"],\"margin\":[5,5,5,5],\"name\":\"Markdown00468\",\"text\":\"&lt;table&gt;\\n&lt;thead&gt;\\n&lt;tr&gt;\\n&lt;th align=&quot;left&quot;&gt;Total length assembled&lt;/th&gt;\\n&lt;th align=&quot;center&quot;&gt;&lt;/th&gt;\\n&lt;/tr&gt;\\n&lt;/thead&gt;\\n&lt;tbody&gt;\\n&lt;tr&gt;\\n&lt;td&gt;&lt;/td&gt;\\n&lt;td&gt;&lt;/td&gt;\\n&lt;/tr&gt;\\n&lt;/tbody&gt;\\n&lt;/table&gt;\"},\"id\":\"1221\",\"type\":\"panel.models.markup.HTML\"},{\"attributes\":{\"height\":360,\"margin\":[5,5,5,5],\"name\":\"Matplotlib00471\",\"text\":\"&lt;img src=&quot;data:image/png;base64,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&quot; width=&quot;455px&quot; height=&quot;360px&quot; alt=&quot;&quot;&gt;&lt;/img&gt;\",\"width\":455},\"id\":\"1223\",\"type\":\"panel.models.markup.HTML\"},{\"attributes\":{\"css_classes\":[\"markdown\"],\"margin\":[5,5,5,5],\"name\":\"Markdown00474\",\"text\":\"&lt;table&gt;\\n&lt;thead&gt;\\n&lt;tr&gt;\\n&lt;th align=&quot;left&quot;&gt;N assembled&lt;/th&gt;\\n&lt;th align=&quot;center&quot;&gt;&lt;/th&gt;\\n&lt;/tr&gt;\\n&lt;/thead&gt;\\n&lt;tbody&gt;\\n&lt;tr&gt;\\n&lt;td&gt;&lt;/td&gt;\\n&lt;td&gt;&lt;/td&gt;\\n&lt;/tr&gt;\\n&lt;/tbody&gt;\\n&lt;/table&gt;\"},\"id\":\"1225\",\"type\":\"panel.models.markup.HTML\"},{\"attributes\":{\"children\":[{\"id\":\"1231\"}],\"margin\":[0,0,0,0],\"min_width\":800,\"name\":\"Row00485\",\"width\":800},\"id\":\"1230\",\"type\":\"Row\"},{\"attributes\":{\"background\":\"WhiteSmoke\",\"children\":[{\"id\":\"1219\"},{\"id\":\"1220\"},{\"id\":\"1222\"},{\"id\":\"1224\"},{\"id\":\"1226\"},{\"id\":\"1228\"},{\"id\":\"1230\"}],\"margin\":[0,0,0,0],\"name\":\"Column00488\",\"sizing_mode\":\"stretch_both\",\"width\":800},\"id\":\"1218\",\"type\":\"Column\"},{\"attributes\":{\"children\":[{\"id\":\"1223\"}],\"margin\":[0,0,0,0],\"min_width\":800,\"name\":\"Row00473\",\"width\":800},\"id\":\"1222\",\"type\":\"Row\"},{\"attributes\":{\"height\":360,\"margin\":[5,5,5,5],\"name\":\"Matplotlib00477\",\"text\":\"&lt;img src=&quot;data:image/png;base64,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&quot; width=&quot;436px&quot; height=&quot;360px&quot; alt=&quot;&quot;&gt;&lt;/img&gt;\",\"width\":436},\"id\":\"1227\",\"type\":\"panel.models.markup.HTML\"},{\"attributes\":{\"client_comm_id\":\"2d6efa99c1a84f1eb8febb1617a84201\",\"comm_id\":\"d750467808904f74ac79f521edf57757\",\"plot_id\":\"1218\"},\"id\":\"1232\",\"type\":\"panel.models.comm_manager.CommManager\"},{\"attributes\":{\"children\":[{\"id\":\"1227\"}],\"margin\":[0,0,0,0],\"min_width\":800,\"name\":\"Row00479\",\"width\":800},\"id\":\"1226\",\"type\":\"Row\"},{\"attributes\":{\"height\":360,\"margin\":[5,5,5,5],\"name\":\"Matplotlib00483\",\"text\":\"&lt;img src=&quot;data:image/png;base64,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&quot; width=&quot;434px&quot; height=&quot;360px&quot; alt=&quot;&quot;&gt;&lt;/img&gt;\",\"width\":434},\"id\":\"1231\",\"type\":\"panel.models.markup.HTML\"},{\"attributes\":{\"css_classes\":[\"markdown\"],\"margin\":[5,5,5,5],\"name\":\"Markdown00486\",\"text\":\"&lt;h1&gt;Some statistics about abyss assembly&lt;/h1&gt;\"},\"id\":\"1219\",\"type\":\"panel.models.markup.HTML\"},{\"attributes\":{\"css_classes\":[\"markdown\"],\"margin\":[5,5,5,5],\"name\":\"Markdown00480\",\"text\":\"&lt;table&gt;\\n&lt;thead&gt;\\n&lt;tr&gt;\\n&lt;th align=&quot;left&quot;&gt;TL assembled&lt;/th&gt;\\n&lt;th align=&quot;center&quot;&gt;&lt;/th&gt;\\n&lt;/tr&gt;\\n&lt;/thead&gt;\\n&lt;tbody&gt;\\n&lt;tr&gt;\\n&lt;td&gt;&lt;/td&gt;\\n&lt;td&gt;&lt;/td&gt;\\n&lt;/tr&gt;\\n&lt;/tbody&gt;\\n&lt;/table&gt;\"},\"id\":\"1229\",\"type\":\"panel.models.markup.HTML\"},{\"attributes\":{\"children\":[{\"id\":\"1225\"}],\"margin\":[0,0,0,0],\"name\":\"Row00476\"},\"id\":\"1224\",\"type\":\"Row\"},{\"attributes\":{\"children\":[{\"id\":\"1229\"}],\"margin\":[0,0,0,0],\"name\":\"Row00482\"},\"id\":\"1228\",\"type\":\"Row\"}],\"root_ids\":[\"1218\",\"1232\"]},\"title\":\"Bokeh Application\",\"version\":\"2.3.3\"}};\n",
       "    var render_items = [{\"docid\":\"17d8b73b-4351-4105-a9a1-3df1acd6f205\",\"root_ids\":[\"1218\"],\"roots\":{\"1218\":\"ebeab3b4-9452-41ed-9b06-ba7a194bcabd\"}}];\n",
       "    root.Bokeh.embed.embed_items_notebook(docs_json, render_items);\n",
       "  }\n",
       "  if (root.Bokeh !== undefined && root.Bokeh.Panel !== undefined) {\n",
       "    embed_document(root);\n",
       "  } else {\n",
       "    var attempts = 0;\n",
       "    var timer = setInterval(function(root) {\n",
       "      if (root.Bokeh !== undefined && root.Bokeh.Panel !== undefined) {\n",
       "        clearInterval(timer);\n",
       "        embed_document(root);\n",
       "      } else if (document.readyState == \"complete\") {\n",
       "        attempts++;\n",
       "        if (attempts > 100) {\n",
       "          clearInterval(timer);\n",
       "          console.log(\"Bokeh: ERROR: Unable to run BokehJS code because BokehJS library is missing\");\n",
       "        }\n",
       "      }\n",
       "    }, 10, root)\n",
       "  }\n",
       "})(window);</script>"
      ],
      "text/plain": [
       "Column(background='WhiteSmoke', sizing_mode='stretch_both', width=800)\n",
       "    [0] Markdown(str)\n",
       "    [1] Row\n",
       "        [0] Markdown(str)\n",
       "    [2] Row(width=800)\n",
       "        [0] Matplotlib(Figure)\n",
       "    [3] Row\n",
       "        [0] Markdown(str)\n",
       "    [4] Row(width=800)\n",
       "        [0] Matplotlib(Figure)\n",
       "    [5] Row\n",
       "        [0] Markdown(str)\n",
       "    [6] Row(width=800)\n",
       "        [0] Matplotlib(Figure)"
      ]
     },
     "metadata": {
      "application/vnd.holoviews_exec.v0+json": {
       "id": "1218"
      }
     },
     "output_type": "display_data"
    },
    {
     "data": {
      "text/html": [
       "<img src onerror=\"var cell = this.closest('.jp-CodeCell');var editor = cell.querySelector('.jp-Editor');editor.style.background='LightBlue';this.parentNode.removeChild(this)\">"
      ],
      "text/plain": [
       "<IPython.core.display.HTML object>"
      ]
     },
     "metadata": {},
     "output_type": "display_data"
    },
    {
     "data": {
      "text/plain": [
       "<Figure size 432x288 with 0 Axes>"
      ]
     },
     "metadata": {},
     "output_type": "display_data"
    },
    {
     "data": {
      "text/plain": [
       "<Figure size 432x288 with 0 Axes>"
      ]
     },
     "metadata": {},
     "output_type": "display_data"
    },
    {
     "data": {
      "text/plain": [
       "<Figure size 432x288 with 0 Axes>"
      ]
     },
     "metadata": {},
     "output_type": "display_data"
    }
   ],
   "source": [
    "#  create stats file\n",
    "output_assembly_testplots = os.path.join(output_assembly_test,\"plots\") \n",
    "make_dir(output_assembly_testplots)\n",
    "\n",
    "stat_len, stats_N_hide, stats_N, stats_L_hide, stats_L, stats_gap, stats = def_stats()\n",
    "create_stats_files(stats, output_assembly_testplots)\n",
    "\n",
    "for k in range(kmin, kmax, step.value) :\n",
    "    for id in accession.value :\n",
    "        fill_stats_files(output_assembly_fasta, id, k, output_assembly_testplots, threshold, logger)\n",
    "        \n",
    "dashboard_ab(stat_len,stats_N,stats_L,output_assembly_testplots)\n",
    "\n",
    "bgc('LightBlue')"
   ]
  },
  {
   "cell_type": "markdown",
   "metadata": {},
   "source": [
    "#### __Assembly step 2 : assembly with the final k value__\n",
    "\n",
    "### Running ABySS for each individual\n"
   ]
  },
  {
   "cell_type": "code",
   "execution_count": 14,
   "metadata": {},
   "outputs": [
    {
     "data": {},
     "metadata": {},
     "output_type": "display_data"
    },
    {
     "data": {
      "application/vnd.holoviews_exec.v0+json": "",
      "text/html": [
       "<div id='1233'>\n",
       "\n",
       "\n",
       "\n",
       "\n",
       "\n",
       "  <div class=\"bk-root\" id=\"6e86ea8e-dd36-469c-adb2-4f0a0254d56f\" data-root-id=\"1233\"></div>\n",
       "</div>\n",
       "<script type=\"application/javascript\">(function(root) {\n",
       "  function embed_document(root) {\n",
       "    var docs_json = {\"32116232-1f68-4ffe-bcf1-1669ce7c7608\":{\"defs\":[],\"roots\":{\"references\":[{\"attributes\":{\"button_type\":\"primary\",\"icon\":null,\"label\":\"INIT\",\"margin\":[5,10,5,10],\"min_width\":100,\"subscribed_events\":[\"button_click\"],\"width\":100},\"id\":\"1239\",\"type\":\"Button\"},{\"attributes\":{\"button_type\":\"primary\",\"icon\":null,\"label\":\"SAVE\",\"margin\":[5,10,5,10],\"min_width\":100,\"subscribed_events\":[\"button_click\"],\"width\":100},\"id\":\"1238\",\"type\":\"Button\"},{\"attributes\":{\"children\":[{\"id\":\"1236\"},{\"id\":\"1237\"},{\"id\":\"1240\"}],\"margin\":[0,0,0,0],\"min_width\":800,\"name\":\"Column00497\",\"width\":800},\"id\":\"1235\",\"type\":\"Column\"},{\"attributes\":{\"css_classes\":[\"markdown\"],\"margin\":[5,5,5,5],\"name\":\"Markdown00498\",\"text\":\"&lt;h1&gt;INPUT FORM&lt;/h1&gt;\"},\"id\":\"1234\",\"type\":\"panel.models.markup.HTML\"},{\"attributes\":{\"client_comm_id\":\"a80528431f6f48f087a6b799ce5da5b5\",\"comm_id\":\"ff64c7d7aed24e8e90b7a8fc5b2a9777\",\"plot_id\":\"1233\"},\"id\":\"1241\",\"type\":\"panel.models.comm_manager.CommManager\"},{\"attributes\":{\"high\":92,\"low\":24,\"margin\":[5,10,5,10],\"mode\":\"int\",\"placeholder\":\"0\",\"title\":\"K-mer length\",\"value\":64,\"value_throttled\":64},\"id\":\"1236\",\"type\":\"Spinner\"},{\"attributes\":{\"css_classes\":[\"alert\",\"alert-warning\",\"markdown\"],\"height\":200,\"margin\":[0,0,25,0],\"name\":\"Alert00491\",\"sizing_mode\":\"stretch_width\",\"text\":\"&lt;p&gt;No filled&lt;/p&gt;\"},\"id\":\"1240\",\"type\":\"panel.models.markup.HTML\"},{\"attributes\":{\"children\":[{\"id\":\"1238\"},{\"id\":\"1239\"}],\"margin\":[0,0,0,0],\"name\":\"Row00496\"},\"id\":\"1237\",\"type\":\"Row\"},{\"attributes\":{\"background\":\"#E3ECF1\",\"children\":[{\"id\":\"1234\"},{\"id\":\"1235\"}],\"css_classes\":[\"panel-widget-box\"],\"margin\":[5,5,5,5],\"name\":\"WidgetBox00500\"},\"id\":\"1233\",\"type\":\"Column\"}],\"root_ids\":[\"1233\",\"1241\"]},\"title\":\"Bokeh Application\",\"version\":\"2.3.3\"}};\n",
       "    var render_items = [{\"docid\":\"32116232-1f68-4ffe-bcf1-1669ce7c7608\",\"root_ids\":[\"1233\"],\"roots\":{\"1233\":\"6e86ea8e-dd36-469c-adb2-4f0a0254d56f\"}}];\n",
       "    root.Bokeh.embed.embed_items_notebook(docs_json, render_items);\n",
       "  }\n",
       "  if (root.Bokeh !== undefined && root.Bokeh.Panel !== undefined) {\n",
       "    embed_document(root);\n",
       "  } else {\n",
       "    var attempts = 0;\n",
       "    var timer = setInterval(function(root) {\n",
       "      if (root.Bokeh !== undefined && root.Bokeh.Panel !== undefined) {\n",
       "        clearInterval(timer);\n",
       "        embed_document(root);\n",
       "      } else if (document.readyState == \"complete\") {\n",
       "        attempts++;\n",
       "        if (attempts > 100) {\n",
       "          clearInterval(timer);\n",
       "          console.log(\"Bokeh: ERROR: Unable to run BokehJS code because BokehJS library is missing\");\n",
       "        }\n",
       "      }\n",
       "    }, 10, root)\n",
       "  }\n",
       "})(window);</script>"
      ],
      "text/plain": [
       "WidgetBox(background='#E3ECF1')\n",
       "    [0] Markdown(str)\n",
       "    [1] Column(width=800)\n",
       "        [0] IntInput(end=92, name='K-mer length', start=24, value=64)\n",
       "        [1] Row\n",
       "            [0] Button(button_type='primary', name='SAVE', width=100)\n",
       "            [1] Button(button_type='primary', name='INIT', width=100)\n",
       "        [2] Alert(str, alert_type='warning', css_classes=['alert', 'alert-warning']...], height=200, margin=(0, 0, 25, 0), sizing_mode='stretch_width')"
      ]
     },
     "metadata": {
      "application/vnd.holoviews_exec.v0+json": {
       "id": "1233"
      }
     },
     "output_type": "display_data"
    },
    {
     "data": {
      "text/html": [
       "<img src onerror=\"var cell = this.closest('.jp-CodeCell');var editor = cell.querySelector('.jp-Editor');editor.style.background='LightBlue';this.parentNode.removeChild(this)\">"
      ],
      "text/plain": [
       "<IPython.core.display.HTML object>"
      ]
     },
     "metadata": {},
     "output_type": "display_data"
    }
   ],
   "source": [
    "k2 = box_config_abyss2()\n",
    "bgc('LightBlue')"
   ]
  },
  {
   "cell_type": "markdown",
   "metadata": {},
   "source": [
    "check group -> debug DT"
   ]
  },
  {
   "cell_type": "code",
   "execution_count": 15,
   "metadata": {},
   "outputs": [
    {
     "data": {},
     "metadata": {},
     "output_type": "display_data"
    },
    {
     "data": {
      "application/vnd.holoviews_exec.v0+json": "",
      "text/html": [
       "<div id='1243'>\n",
       "\n",
       "\n",
       "\n",
       "\n",
       "\n",
       "  <div class=\"bk-root\" id=\"3b109a07-b2a1-489d-9982-47e95f95e44b\" data-root-id=\"1243\"></div>\n",
       "</div>\n",
       "<script type=\"application/javascript\">(function(root) {\n",
       "  function embed_document(root) {\n",
       "    var docs_json = {\"42f3aac8-fa18-47da-80f6-99df13c93db6\":{\"defs\":[],\"roots\":{\"references\":[{\"attributes\":{\"css_classes\":[\"alert\",\"alert-warning\",\"markdown\"],\"margin\":[0,0,25,0],\"name\":\"Alert00503\",\"sizing_mode\":\"stretch_width\",\"text\":\"&lt;h3&gt;warning&lt;/h3&gt;\\n&lt;hr&gt;\\n&lt;p&gt;Directory /home/christine/Documents/These/frangiPANeGIT2/frangiPANe_PANRice/02-assembly_unmapped_reads/02-final_abyss already existed&lt;/p&gt;\"},\"id\":\"1243\",\"type\":\"panel.models.markup.HTML\"},{\"attributes\":{\"client_comm_id\":\"9589a39c280b4de29bfdb5327c861579\",\"comm_id\":\"d3e9721d456f47e3be12190c5acf1f93\",\"plot_id\":\"1243\"},\"id\":\"1244\",\"type\":\"panel.models.comm_manager.CommManager\"}],\"root_ids\":[\"1243\",\"1244\"]},\"title\":\"Bokeh Application\",\"version\":\"2.3.3\"}};\n",
       "    var render_items = [{\"docid\":\"42f3aac8-fa18-47da-80f6-99df13c93db6\",\"root_ids\":[\"1243\"],\"roots\":{\"1243\":\"3b109a07-b2a1-489d-9982-47e95f95e44b\"}}];\n",
       "    root.Bokeh.embed.embed_items_notebook(docs_json, render_items);\n",
       "  }\n",
       "  if (root.Bokeh !== undefined && root.Bokeh.Panel !== undefined) {\n",
       "    embed_document(root);\n",
       "  } else {\n",
       "    var attempts = 0;\n",
       "    var timer = setInterval(function(root) {\n",
       "      if (root.Bokeh !== undefined && root.Bokeh.Panel !== undefined) {\n",
       "        clearInterval(timer);\n",
       "        embed_document(root);\n",
       "      } else if (document.readyState == \"complete\") {\n",
       "        attempts++;\n",
       "        if (attempts > 100) {\n",
       "          clearInterval(timer);\n",
       "          console.log(\"Bokeh: ERROR: Unable to run BokehJS code because BokehJS library is missing\");\n",
       "        }\n",
       "      }\n",
       "    }, 10, root)\n",
       "  }\n",
       "})(window);</script>"
      ],
      "text/plain": [
       "Alert(str, alert_type='warning', css_classes=['alert', 'alert-warning']...], margin=(0, 0, 25, 0), sizing_mode='stretch_width')"
      ]
     },
     "metadata": {
      "application/vnd.holoviews_exec.v0+json": {
       "id": "1243"
      }
     },
     "output_type": "display_data"
    },
    {
     "data": {},
     "metadata": {},
     "output_type": "display_data"
    },
    {
     "data": {
      "application/vnd.holoviews_exec.v0+json": "",
      "text/html": [
       "<div id='1245'>\n",
       "\n",
       "\n",
       "\n",
       "\n",
       "\n",
       "  <div class=\"bk-root\" id=\"6758b9cd-7c2b-491d-b223-1042fab6a688\" data-root-id=\"1245\"></div>\n",
       "</div>\n",
       "<script type=\"application/javascript\">(function(root) {\n",
       "  function embed_document(root) {\n",
       "    var docs_json = {\"a9af102c-9efc-4980-b3e3-4784d41d27e0\":{\"defs\":[],\"roots\":{\"references\":[{\"attributes\":{\"client_comm_id\":\"dda72da25cf04edaa763b9cc1bbbfb56\",\"comm_id\":\"fb7e43f2051a42468b096f3da45a9450\",\"plot_id\":\"1245\"},\"id\":\"1246\",\"type\":\"panel.models.comm_manager.CommManager\"},{\"attributes\":{\"css_classes\":[\"alert\",\"alert-warning\",\"markdown\"],\"margin\":[0,0,25,0],\"name\":\"Alert00507\",\"sizing_mode\":\"stretch_width\",\"text\":\"&lt;h3&gt;warning&lt;/h3&gt;\\n&lt;hr&gt;\\n&lt;p&gt;Directory /home/christine/Documents/These/frangiPANeGIT2/frangiPANe_PANRice/02-assembly_unmapped_reads/02-final_abyss/fasta/ already existed&lt;/p&gt;\"},\"id\":\"1245\",\"type\":\"panel.models.markup.HTML\"}],\"root_ids\":[\"1245\",\"1246\"]},\"title\":\"Bokeh Application\",\"version\":\"2.3.3\"}};\n",
       "    var render_items = [{\"docid\":\"a9af102c-9efc-4980-b3e3-4784d41d27e0\",\"root_ids\":[\"1245\"],\"roots\":{\"1245\":\"6758b9cd-7c2b-491d-b223-1042fab6a688\"}}];\n",
       "    root.Bokeh.embed.embed_items_notebook(docs_json, render_items);\n",
       "  }\n",
       "  if (root.Bokeh !== undefined && root.Bokeh.Panel !== undefined) {\n",
       "    embed_document(root);\n",
       "  } else {\n",
       "    var attempts = 0;\n",
       "    var timer = setInterval(function(root) {\n",
       "      if (root.Bokeh !== undefined && root.Bokeh.Panel !== undefined) {\n",
       "        clearInterval(timer);\n",
       "        embed_document(root);\n",
       "      } else if (document.readyState == \"complete\") {\n",
       "        attempts++;\n",
       "        if (attempts > 100) {\n",
       "          clearInterval(timer);\n",
       "          console.log(\"Bokeh: ERROR: Unable to run BokehJS code because BokehJS library is missing\");\n",
       "        }\n",
       "      }\n",
       "    }, 10, root)\n",
       "  }\n",
       "})(window);</script>"
      ],
      "text/plain": [
       "Alert(str, alert_type='warning', css_classes=['alert', 'alert-warning']...], margin=(0, 0, 25, 0), sizing_mode='stretch_width')"
      ]
     },
     "metadata": {
      "application/vnd.holoviews_exec.v0+json": {
       "id": "1245"
      }
     },
     "output_type": "display_data"
    },
    {
     "data": {},
     "metadata": {},
     "output_type": "display_data"
    },
    {
     "data": {
      "application/vnd.holoviews_exec.v0+json": "",
      "text/html": [
       "<div id='1247'>\n",
       "\n",
       "\n",
       "\n",
       "\n",
       "\n",
       "  <div class=\"bk-root\" id=\"a6e3a769-0d7e-4676-84ce-4ef08ab0250a\" data-root-id=\"1247\"></div>\n",
       "</div>\n",
       "<script type=\"application/javascript\">(function(root) {\n",
       "  function embed_document(root) {\n",
       "    var docs_json = {\"2fbef595-8232-4a52-a964-4f894d8e44c4\":{\"defs\":[],\"roots\":{\"references\":[{\"attributes\":{\"client_comm_id\":\"3bff9792b3ad409791d4dc2c92e70fba\",\"comm_id\":\"ec6f331f4e8447aebe357f68469f0577\",\"plot_id\":\"1247\"},\"id\":\"1248\",\"type\":\"panel.models.comm_manager.CommManager\"},{\"attributes\":{\"css_classes\":[\"alert\",\"alert-warning\",\"markdown\"],\"margin\":[0,0,25,0],\"name\":\"Alert00511\",\"sizing_mode\":\"stretch_width\",\"text\":\"&lt;h3&gt;warning&lt;/h3&gt;\\n&lt;hr&gt;\\n&lt;p&gt;Symbolic Link of this directory /home/christine/Documents/These/frangiPANeGIT2/frangiPANe_PANRice/02-assembly_unmapped_reads/02-final_abyss/AA_k64 already existed&lt;/p&gt;\"},\"id\":\"1247\",\"type\":\"panel.models.markup.HTML\"}],\"root_ids\":[\"1247\",\"1248\"]},\"title\":\"Bokeh Application\",\"version\":\"2.3.3\"}};\n",
       "    var render_items = [{\"docid\":\"2fbef595-8232-4a52-a964-4f894d8e44c4\",\"root_ids\":[\"1247\"],\"roots\":{\"1247\":\"a6e3a769-0d7e-4676-84ce-4ef08ab0250a\"}}];\n",
       "    root.Bokeh.embed.embed_items_notebook(docs_json, render_items);\n",
       "  }\n",
       "  if (root.Bokeh !== undefined && root.Bokeh.Panel !== undefined) {\n",
       "    embed_document(root);\n",
       "  } else {\n",
       "    var attempts = 0;\n",
       "    var timer = setInterval(function(root) {\n",
       "      if (root.Bokeh !== undefined && root.Bokeh.Panel !== undefined) {\n",
       "        clearInterval(timer);\n",
       "        embed_document(root);\n",
       "      } else if (document.readyState == \"complete\") {\n",
       "        attempts++;\n",
       "        if (attempts > 100) {\n",
       "          clearInterval(timer);\n",
       "          console.log(\"Bokeh: ERROR: Unable to run BokehJS code because BokehJS library is missing\");\n",
       "        }\n",
       "      }\n",
       "    }, 10, root)\n",
       "  }\n",
       "})(window);</script>"
      ],
      "text/plain": [
       "Alert(str, alert_type='warning', css_classes=['alert', 'alert-warning']...], margin=(0, 0, 25, 0), sizing_mode='stretch_width')"
      ]
     },
     "metadata": {
      "application/vnd.holoviews_exec.v0+json": {
       "id": "1247"
      }
     },
     "output_type": "display_data"
    },
    {
     "data": {},
     "metadata": {},
     "output_type": "display_data"
    },
    {
     "data": {
      "application/vnd.holoviews_exec.v0+json": "",
      "text/html": [
       "<div id='1249'>\n",
       "\n",
       "\n",
       "\n",
       "\n",
       "\n",
       "  <div class=\"bk-root\" id=\"691a3137-ee10-4002-9aea-5ab88d2b64af\" data-root-id=\"1249\"></div>\n",
       "</div>\n",
       "<script type=\"application/javascript\">(function(root) {\n",
       "  function embed_document(root) {\n",
       "    var docs_json = {\"309d0489-aa9f-42b0-a371-e5c189af2cde\":{\"defs\":[],\"roots\":{\"references\":[{\"attributes\":{\"css_classes\":[\"alert\",\"alert-warning\",\"markdown\"],\"margin\":[0,0,25,0],\"name\":\"Alert00515\",\"sizing_mode\":\"stretch_width\",\"text\":\"&lt;h3&gt;warning&lt;/h3&gt;\\n&lt;hr&gt;\\n&lt;p&gt;Directory /home/christine/Documents/These/frangiPANeGIT2/frangiPANe_PANRice/02-assembly_unmapped_reads/02-final_abyss/AB_k64 already existed&lt;/p&gt;\"},\"id\":\"1249\",\"type\":\"panel.models.markup.HTML\"},{\"attributes\":{\"client_comm_id\":\"89cfc714a89c4d5f99804a54675c55c7\",\"comm_id\":\"062996cd752647c5969e2c45297b79e9\",\"plot_id\":\"1249\"},\"id\":\"1250\",\"type\":\"panel.models.comm_manager.CommManager\"}],\"root_ids\":[\"1249\",\"1250\"]},\"title\":\"Bokeh Application\",\"version\":\"2.3.3\"}};\n",
       "    var render_items = [{\"docid\":\"309d0489-aa9f-42b0-a371-e5c189af2cde\",\"root_ids\":[\"1249\"],\"roots\":{\"1249\":\"691a3137-ee10-4002-9aea-5ab88d2b64af\"}}];\n",
       "    root.Bokeh.embed.embed_items_notebook(docs_json, render_items);\n",
       "  }\n",
       "  if (root.Bokeh !== undefined && root.Bokeh.Panel !== undefined) {\n",
       "    embed_document(root);\n",
       "  } else {\n",
       "    var attempts = 0;\n",
       "    var timer = setInterval(function(root) {\n",
       "      if (root.Bokeh !== undefined && root.Bokeh.Panel !== undefined) {\n",
       "        clearInterval(timer);\n",
       "        embed_document(root);\n",
       "      } else if (document.readyState == \"complete\") {\n",
       "        attempts++;\n",
       "        if (attempts > 100) {\n",
       "          clearInterval(timer);\n",
       "          console.log(\"Bokeh: ERROR: Unable to run BokehJS code because BokehJS library is missing\");\n",
       "        }\n",
       "      }\n",
       "    }, 10, root)\n",
       "  }\n",
       "})(window);</script>"
      ],
      "text/plain": [
       "Alert(str, alert_type='warning', css_classes=['alert', 'alert-warning']...], margin=(0, 0, 25, 0), sizing_mode='stretch_width')"
      ]
     },
     "metadata": {
      "application/vnd.holoviews_exec.v0+json": {
       "id": "1249"
      }
     },
     "output_type": "display_data"
    },
    {
     "data": {},
     "metadata": {},
     "output_type": "display_data"
    },
    {
     "data": {
      "application/vnd.holoviews_exec.v0+json": "",
      "text/html": [
       "<div id='1251'>\n",
       "\n",
       "\n",
       "\n",
       "\n",
       "\n",
       "  <div class=\"bk-root\" id=\"28e66e77-f8fb-42fe-9b7c-de2f5ce1cb31\" data-root-id=\"1251\"></div>\n",
       "</div>\n",
       "<script type=\"application/javascript\">(function(root) {\n",
       "  function embed_document(root) {\n",
       "    var docs_json = {\"30975c79-8572-4177-bc8b-1ab2613c2286\":{\"defs\":[],\"roots\":{\"references\":[{\"attributes\":{\"css_classes\":[\"alert\",\"alert-warning\",\"markdown\"],\"margin\":[0,0,25,0],\"name\":\"Alert00519\",\"sizing_mode\":\"stretch_width\",\"text\":\"&lt;p&gt;File /home/christine/Documents/These/frangiPANeGIT2/frangiPANe_PANRice/02-assembly_unmapped_reads/02-final_abyss/AB_k64/PANRice_AB_64-contigs.fa already existed&lt;/p&gt;\"},\"id\":\"1251\",\"type\":\"panel.models.markup.HTML\"},{\"attributes\":{\"client_comm_id\":\"c6516b545b5e4ec5b62ad03c2fc1fb97\",\"comm_id\":\"765d7dae7e324bd7bf6bbb9e8c22a826\",\"plot_id\":\"1251\"},\"id\":\"1252\",\"type\":\"panel.models.comm_manager.CommManager\"}],\"root_ids\":[\"1251\",\"1252\"]},\"title\":\"Bokeh Application\",\"version\":\"2.3.3\"}};\n",
       "    var render_items = [{\"docid\":\"30975c79-8572-4177-bc8b-1ab2613c2286\",\"root_ids\":[\"1251\"],\"roots\":{\"1251\":\"28e66e77-f8fb-42fe-9b7c-de2f5ce1cb31\"}}];\n",
       "    root.Bokeh.embed.embed_items_notebook(docs_json, render_items);\n",
       "  }\n",
       "  if (root.Bokeh !== undefined && root.Bokeh.Panel !== undefined) {\n",
       "    embed_document(root);\n",
       "  } else {\n",
       "    var attempts = 0;\n",
       "    var timer = setInterval(function(root) {\n",
       "      if (root.Bokeh !== undefined && root.Bokeh.Panel !== undefined) {\n",
       "        clearInterval(timer);\n",
       "        embed_document(root);\n",
       "      } else if (document.readyState == \"complete\") {\n",
       "        attempts++;\n",
       "        if (attempts > 100) {\n",
       "          clearInterval(timer);\n",
       "          console.log(\"Bokeh: ERROR: Unable to run BokehJS code because BokehJS library is missing\");\n",
       "        }\n",
       "      }\n",
       "    }, 10, root)\n",
       "  }\n",
       "})(window);</script>"
      ],
      "text/plain": [
       "Alert(str, alert_type='warning', css_classes=['alert', 'alert-warning']...], margin=(0, 0, 25, 0), sizing_mode='stretch_width')"
      ]
     },
     "metadata": {
      "application/vnd.holoviews_exec.v0+json": {
       "id": "1251"
      }
     },
     "output_type": "display_data"
    },
    {
     "data": {},
     "metadata": {},
     "output_type": "display_data"
    },
    {
     "data": {
      "application/vnd.holoviews_exec.v0+json": "",
      "text/html": [
       "<div id='1253'>\n",
       "\n",
       "\n",
       "\n",
       "\n",
       "\n",
       "  <div class=\"bk-root\" id=\"c96d0a1e-4684-4ce1-b6d3-b45d7fc66e19\" data-root-id=\"1253\"></div>\n",
       "</div>\n",
       "<script type=\"application/javascript\">(function(root) {\n",
       "  function embed_document(root) {\n",
       "    var docs_json = {\"cf3b546b-e402-4e79-985b-442ec06390bb\":{\"defs\":[],\"roots\":{\"references\":[{\"attributes\":{\"css_classes\":[\"alert\",\"alert-warning\",\"markdown\"],\"margin\":[0,0,25,0],\"name\":\"Alert00523\",\"sizing_mode\":\"stretch_width\",\"text\":\"&lt;p&gt;File /home/christine/Documents/These/frangiPANeGIT2/frangiPANe_PANRice/02-assembly_unmapped_reads/02-final_abyss/fasta//AB_k64_thr300-contigs.fasta already existed&lt;/p&gt;\"},\"id\":\"1253\",\"type\":\"panel.models.markup.HTML\"},{\"attributes\":{\"client_comm_id\":\"0ef7bceddbd84777acfaf01b03673267\",\"comm_id\":\"0f02b57b688e402492265b34613aa33d\",\"plot_id\":\"1253\"},\"id\":\"1254\",\"type\":\"panel.models.comm_manager.CommManager\"}],\"root_ids\":[\"1253\",\"1254\"]},\"title\":\"Bokeh Application\",\"version\":\"2.3.3\"}};\n",
       "    var render_items = [{\"docid\":\"cf3b546b-e402-4e79-985b-442ec06390bb\",\"root_ids\":[\"1253\"],\"roots\":{\"1253\":\"c96d0a1e-4684-4ce1-b6d3-b45d7fc66e19\"}}];\n",
       "    root.Bokeh.embed.embed_items_notebook(docs_json, render_items);\n",
       "  }\n",
       "  if (root.Bokeh !== undefined && root.Bokeh.Panel !== undefined) {\n",
       "    embed_document(root);\n",
       "  } else {\n",
       "    var attempts = 0;\n",
       "    var timer = setInterval(function(root) {\n",
       "      if (root.Bokeh !== undefined && root.Bokeh.Panel !== undefined) {\n",
       "        clearInterval(timer);\n",
       "        embed_document(root);\n",
       "      } else if (document.readyState == \"complete\") {\n",
       "        attempts++;\n",
       "        if (attempts > 100) {\n",
       "          clearInterval(timer);\n",
       "          console.log(\"Bokeh: ERROR: Unable to run BokehJS code because BokehJS library is missing\");\n",
       "        }\n",
       "      }\n",
       "    }, 10, root)\n",
       "  }\n",
       "})(window);</script>"
      ],
      "text/plain": [
       "Alert(str, alert_type='warning', css_classes=['alert', 'alert-warning']...], margin=(0, 0, 25, 0), sizing_mode='stretch_width')"
      ]
     },
     "metadata": {
      "application/vnd.holoviews_exec.v0+json": {
       "id": "1253"
      }
     },
     "output_type": "display_data"
    },
    {
     "data": {},
     "metadata": {},
     "output_type": "display_data"
    },
    {
     "data": {
      "application/vnd.holoviews_exec.v0+json": "",
      "text/html": [
       "<div id='1255'>\n",
       "\n",
       "\n",
       "\n",
       "\n",
       "\n",
       "  <div class=\"bk-root\" id=\"f3cbdcba-58f9-46c9-9d38-f5157cf1824a\" data-root-id=\"1255\"></div>\n",
       "</div>\n",
       "<script type=\"application/javascript\">(function(root) {\n",
       "  function embed_document(root) {\n",
       "    var docs_json = {\"369efe1a-b660-4480-97c4-bc72835c5cc9\":{\"defs\":[],\"roots\":{\"references\":[{\"attributes\":{\"css_classes\":[\"alert\",\"alert-success\",\"markdown\"],\"margin\":[0,0,25,0],\"name\":\"Alert00527\",\"sizing_mode\":\"stretch_width\",\"text\":\"&lt;h3&gt;Assembly with abyss and fixed khmer&lt;/h3&gt;\\n&lt;hr&gt;\\n\\n&lt;ul&gt;\\n&lt;li&gt;BAM DIR : /home/christine/Documents/These/frangiPANeGIT2/frangiPANe_PANRice/01-mapping_against_reference/bam_F0x2&lt;/li&gt;\\n&lt;li&gt;ABYSS DIR : /home/christine/Documents/These/frangiPANeGIT2/frangiPANe_PANRice/02-assembly_unmapped_reads/02-final_abyss&lt;/li&gt;\\n&lt;/ul&gt;\"},\"id\":\"1255\",\"type\":\"panel.models.markup.HTML\"},{\"attributes\":{\"client_comm_id\":\"44199b70c6704b03a9ae937148bee6ae\",\"comm_id\":\"c77a1e14442043988ed0b59b153307ed\",\"plot_id\":\"1255\"},\"id\":\"1256\",\"type\":\"panel.models.comm_manager.CommManager\"}],\"root_ids\":[\"1255\",\"1256\"]},\"title\":\"Bokeh Application\",\"version\":\"2.3.3\"}};\n",
       "    var render_items = [{\"docid\":\"369efe1a-b660-4480-97c4-bc72835c5cc9\",\"root_ids\":[\"1255\"],\"roots\":{\"1255\":\"f3cbdcba-58f9-46c9-9d38-f5157cf1824a\"}}];\n",
       "    root.Bokeh.embed.embed_items_notebook(docs_json, render_items);\n",
       "  }\n",
       "  if (root.Bokeh !== undefined && root.Bokeh.Panel !== undefined) {\n",
       "    embed_document(root);\n",
       "  } else {\n",
       "    var attempts = 0;\n",
       "    var timer = setInterval(function(root) {\n",
       "      if (root.Bokeh !== undefined && root.Bokeh.Panel !== undefined) {\n",
       "        clearInterval(timer);\n",
       "        embed_document(root);\n",
       "      } else if (document.readyState == \"complete\") {\n",
       "        attempts++;\n",
       "        if (attempts > 100) {\n",
       "          clearInterval(timer);\n",
       "          console.log(\"Bokeh: ERROR: Unable to run BokehJS code because BokehJS library is missing\");\n",
       "        }\n",
       "      }\n",
       "    }, 10, root)\n",
       "  }\n",
       "})(window);</script>"
      ],
      "text/plain": [
       "Alert(str, alert_type='success', css_classes=['alert', 'alert-success']...], margin=(0, 0, 25, 0), sizing_mode='stretch_width')"
      ]
     },
     "metadata": {
      "application/vnd.holoviews_exec.v0+json": {
       "id": "1255"
      }
     },
     "output_type": "display_data"
    },
    {
     "data": {
      "text/html": [
       "<img src onerror=\"var cell = this.closest('.jp-CodeCell');var editor = cell.querySelector('.jp-Editor');editor.style.background='LightBlue';this.parentNode.removeChild(this)\">"
      ],
      "text/plain": [
       "<IPython.core.display.HTML object>"
      ]
     },
     "metadata": {},
     "output_type": "display_data"
    }
   ],
   "source": [
    "import glob\n",
    "\n",
    "output_assembly_ctgs = os.path.join(output_assembly_dir,\"02-final_abyss\") \n",
    "make_dir(output_assembly_ctgs)\n",
    "\n",
    "output_assembly_ffasta = os.path.join(output_assembly_ctgs,\"fasta/\")\n",
    "make_dir(output_assembly_ffasta)\n",
    "         \n",
    "kfinal = int(k2.value) \n",
    "\n",
    "#for id in df_group :\n",
    "for index, row in df_group.iterrows() :\n",
    "\n",
    "    id = row['sample']\n",
    "    id_folder =  id + \"_k\" + str(kfinal)      \n",
    "         \n",
    "    if index==2 :\n",
    "        continue\n",
    "        \n",
    "    if id in accession.value :\n",
    "        \n",
    "        ln_dir=os.path.join(output_assembly_ctgs,id_folder)\n",
    "        if not os.path.exists(ln_dir):\n",
    "            os.symlink(os.path.join(output_assembly_test,id_folder),  os.path.join(ln_dir))\n",
    "        else:\n",
    "            at = \"warning\"\n",
    "            text = f\"\"\"### {at }\n",
    "<hr>\n",
    "Symbolic Link of this directory {ln_dir} already existed\"\"\"\n",
    "\n",
    "            display_alert(text,at)\n",
    "        \n",
    "        files = glob.iglob(os.path.join(output_assembly_fasta, f\"*{id_folder}*.fasta\"))\n",
    "        for file in files:\n",
    "            #print(file)\n",
    "            if os.path.isfile(file):\n",
    "                shutil.copy(file, output_assembly_ffasta)\n",
    "                os.remove(file)\n",
    "    else : \n",
    "        abyss_pe(project_name.value, id, kfinal, output_filtered_bam, output_assembly_ctgs, logger) \n",
    "        filter_fastq_threshold(output_assembly_ctgs + \"/\" + id_folder + \"/\" + project_name.value+ \"_\" + id + \"_\" + str(kfinal) + \"-contigs.fa\",\n",
    "                               output_assembly_ffasta + \"/\" + id_folder + \"_thr\" + str(threshold) + \"-contigs.fasta\", threshold)\n",
    "        \n",
    "text = f\"\"\"\n",
    "    ### Assembly with abyss and fixed khmer\n",
    "    \n",
    "    <hr>\n",
    "\n",
    "    * BAM DIR : {output_filtered_bam}\n",
    "    * ABYSS DIR : {output_assembly_ctgs}\n",
    "    \"\"\"\n",
    "\n",
    "display_alert(text, \"success\")\n",
    "\n",
    "bgc('LightBlue')"
   ]
  },
  {
   "cell_type": "code",
   "execution_count": 19,
   "metadata": {},
   "outputs": [
    {
     "data": {},
     "metadata": {},
     "output_type": "display_data"
    },
    {
     "data": {
      "application/vnd.holoviews_exec.v0+json": "",
      "text/html": [
       "<div id='1261'>\n",
       "\n",
       "\n",
       "\n",
       "\n",
       "\n",
       "  <div class=\"bk-root\" id=\"8bca1e00-5464-4ddf-8974-274a838b8449\" data-root-id=\"1261\"></div>\n",
       "</div>\n",
       "<script type=\"application/javascript\">(function(root) {\n",
       "  function embed_document(root) {\n",
       "    var docs_json = {\"cf29c02c-aedd-4612-9669-30d57af5a907\":{\"defs\":[],\"roots\":{\"references\":[{\"attributes\":{\"client_comm_id\":\"157edcbd17ad4874aaee37015456338f\",\"comm_id\":\"a6b97601373b451199dc4b00d9870a88\",\"plot_id\":\"1261\"},\"id\":\"1262\",\"type\":\"panel.models.comm_manager.CommManager\"},{\"attributes\":{\"css_classes\":[\"alert\",\"alert-secondary\",\"markdown\"],\"margin\":[0,0,25,0],\"name\":\"Alert00539\",\"sizing_mode\":\"stretch_width\",\"text\":\"&lt;p&gt;Generating abyss stat (with assembly-stat) for fasta files in /home/christine/Documents/These/frangiPANeGIT2/frangiPANe_PANRice/02-assembly_unmapped_reads/02-final_abyss/fasta/&amp;hellip;&lt;/p&gt;\"},\"id\":\"1261\",\"type\":\"panel.models.markup.HTML\"}],\"root_ids\":[\"1261\",\"1262\"]},\"title\":\"Bokeh Application\",\"version\":\"2.3.3\"}};\n",
       "    var render_items = [{\"docid\":\"cf29c02c-aedd-4612-9669-30d57af5a907\",\"root_ids\":[\"1261\"],\"roots\":{\"1261\":\"8bca1e00-5464-4ddf-8974-274a838b8449\"}}];\n",
       "    root.Bokeh.embed.embed_items_notebook(docs_json, render_items);\n",
       "  }\n",
       "  if (root.Bokeh !== undefined && root.Bokeh.Panel !== undefined) {\n",
       "    embed_document(root);\n",
       "  } else {\n",
       "    var attempts = 0;\n",
       "    var timer = setInterval(function(root) {\n",
       "      if (root.Bokeh !== undefined && root.Bokeh.Panel !== undefined) {\n",
       "        clearInterval(timer);\n",
       "        embed_document(root);\n",
       "      } else if (document.readyState == \"complete\") {\n",
       "        attempts++;\n",
       "        if (attempts > 100) {\n",
       "          clearInterval(timer);\n",
       "          console.log(\"Bokeh: ERROR: Unable to run BokehJS code because BokehJS library is missing\");\n",
       "        }\n",
       "      }\n",
       "    }, 10, root)\n",
       "  }\n",
       "})(window);</script>"
      ],
      "text/plain": [
       "Alert(str, alert_type='secondary', css_classes=['alert', 'alert-secondary...], margin=(0, 0, 25, 0), sizing_mode='stretch_width')"
      ]
     },
     "metadata": {
      "application/vnd.holoviews_exec.v0+json": {
       "id": "1261"
      }
     },
     "output_type": "display_data"
    },
    {
     "data": {},
     "metadata": {},
     "output_type": "display_data"
    },
    {
     "data": {
      "application/vnd.holoviews_exec.v0+json": "",
      "text/html": [
       "<div id='1263'>\n",
       "\n",
       "\n",
       "\n",
       "\n",
       "\n",
       "  <div class=\"bk-root\" id=\"ef1c3189-8dee-42be-8dbb-4566f7ac6da3\" data-root-id=\"1263\"></div>\n",
       "</div>\n",
       "<script type=\"application/javascript\">(function(root) {\n",
       "  function embed_document(root) {\n",
       "    var docs_json = {\"7953a11d-7bda-4ee3-bbd2-291822882125\":{\"defs\":[],\"roots\":{\"references\":[{\"attributes\":{\"client_comm_id\":\"fdca078dbf3946fb8e816c3990da05b0\",\"comm_id\":\"c9129cb24a024d1197ab411b40e4516a\",\"plot_id\":\"1263\"},\"id\":\"1264\",\"type\":\"panel.models.comm_manager.CommManager\"},{\"attributes\":{\"css_classes\":[\"alert\",\"alert-success\",\"markdown\"],\"margin\":[0,0,25,0],\"name\":\"Alert00543\",\"sizing_mode\":\"stretch_width\",\"text\":\"&lt;p&gt;stat executed successfully&lt;/p&gt;\"},\"id\":\"1263\",\"type\":\"panel.models.markup.HTML\"}],\"root_ids\":[\"1263\",\"1264\"]},\"title\":\"Bokeh Application\",\"version\":\"2.3.3\"}};\n",
       "    var render_items = [{\"docid\":\"7953a11d-7bda-4ee3-bbd2-291822882125\",\"root_ids\":[\"1263\"],\"roots\":{\"1263\":\"ef1c3189-8dee-42be-8dbb-4566f7ac6da3\"}}];\n",
       "    root.Bokeh.embed.embed_items_notebook(docs_json, render_items);\n",
       "  }\n",
       "  if (root.Bokeh !== undefined && root.Bokeh.Panel !== undefined) {\n",
       "    embed_document(root);\n",
       "  } else {\n",
       "    var attempts = 0;\n",
       "    var timer = setInterval(function(root) {\n",
       "      if (root.Bokeh !== undefined && root.Bokeh.Panel !== undefined) {\n",
       "        clearInterval(timer);\n",
       "        embed_document(root);\n",
       "      } else if (document.readyState == \"complete\") {\n",
       "        attempts++;\n",
       "        if (attempts > 100) {\n",
       "          clearInterval(timer);\n",
       "          console.log(\"Bokeh: ERROR: Unable to run BokehJS code because BokehJS library is missing\");\n",
       "        }\n",
       "      }\n",
       "    }, 10, root)\n",
       "  }\n",
       "})(window);</script>"
      ],
      "text/plain": [
       "Alert(str, alert_type='success', css_classes=['alert', 'alert-success']...], margin=(0, 0, 25, 0), sizing_mode='stretch_width')"
      ]
     },
     "metadata": {
      "application/vnd.holoviews_exec.v0+json": {
       "id": "1263"
      }
     },
     "output_type": "display_data"
    }
   ],
   "source": [
    "def fasta_stats(fasta_dir, stat_file, logger):\n",
    "\n",
    "    text = f\"Generating abyss stat (with assembly-stat) for fasta files in {fasta_dir}...\"\n",
    "    display_alert(text, \"secondary\")\n",
    "\n",
    "    if not os.path.exists(stat_file):\n",
    "\n",
    "        cmd = f'assembly-stats -t {fasta_dir}*fasta > {stat_file}'\n",
    "        process = subprocess.run(cmd, shell=True, capture_output=True, text=True)\n",
    "        logger.info(f\"\\t\\t\\tassembly-stats cmd : {cmd}\")\n",
    "\n",
    "        if process.returncode:\n",
    "            text = f\"Failed execution.... see log file, resolve the problem and try again\"\n",
    "            at = 'danger'\n",
    "        else:\n",
    "            at = 'success'\n",
    "            text = f\"stat executed successfully\"\n",
    "\n",
    "        logger.info(f\"\\t\\t\\tLog assembly-stats : {process.stdout + process.stderr}\")\n",
    "        display_alert(text, at)\n",
    "    else:\n",
    "        text = f\"Stat previously executed with ({stat_file})\"\n",
    "        at = 'warning'\n",
    "        display_alert(text, at)\n",
    "        \n",
    "#stat_dir = os.path.abspath(os.path.join(fasta_dir, os.pardir)) \n",
    "#os.path.join(stat_dir, bam + \".samtoolsFlagstat\")\n",
    "\n",
    "stat_file=os.path.join(output_assembly_dir,\"02-final_abyss.stats\") \n",
    "fasta_stats(output_assembly_ffasta, stat_file, logger)"
   ]
  },
  {
   "cell_type": "markdown",
   "metadata": {
    "tags": []
   },
   "source": [
    "`TODO : PUT TABLE SYNTHESE`\n",
    "\n",
    "[<img src=\"Images/up-arrow.png\" alt=\"Top\" width=2% align=\"right\">](#home \"Go back to the top\")\n",
    "    \n",
    "### <span style=\"color: #919395\"> 4 - Removing contamination<a class=\"anchor\" id=\"contamination\"></a></span>"
   ]
  },
  {
   "cell_type": "markdown",
   "metadata": {},
   "source": [
    "#### __VecScreen__\n",
    "\n",
    "[BDD UniVec_Core](https://ftp.ncbi.nlm.nih.gov/pub/UniVec/UniVec_Core) + makeblastdb -in UniVec_Core -dbtype nucl\n",
    "VecScreen parameters :\n",
    "   * -i  Query File\n",
    "   * -o  Output File\n",
    "   * -d  Database\n",
    "   * -f  Output format [3 = Text list, no alignments]\n",
    "   \n",
    "sudo apt install ncbi-tools-bin\n"
   ]
  },
  {
   "cell_type": "code",
   "execution_count": 15,
   "metadata": {},
   "outputs": [
    {
     "data": {},
     "metadata": {},
     "output_type": "display_data"
    },
    {
     "data": {
      "application/vnd.holoviews_exec.v0+json": "",
      "text/html": [
       "<div id='1257'>\n",
       "\n",
       "\n",
       "\n",
       "\n",
       "\n",
       "  <div class=\"bk-root\" id=\"6ac4d321-5ad1-4758-b583-94b5f086da59\" data-root-id=\"1257\"></div>\n",
       "</div>\n",
       "<script type=\"application/javascript\">(function(root) {\n",
       "  function embed_document(root) {\n",
       "    var docs_json = {\"ae34312a-ccda-4731-9836-d19a1a78253c\":{\"defs\":[],\"roots\":{\"references\":[{\"attributes\":{\"css_classes\":[\"alert\",\"alert-warning\",\"markdown\"],\"margin\":[0,0,25,0],\"name\":\"Alert00531\",\"sizing_mode\":\"stretch_width\",\"text\":\"&lt;h3&gt;warning&lt;/h3&gt;\\n&lt;hr&gt;\\n&lt;p&gt;Directory /home/christine/Documents/These/frangiPANeGIT2/frangiPANe_PANRice/03-check_contamination already existed&lt;/p&gt;\"},\"id\":\"1257\",\"type\":\"panel.models.markup.HTML\"},{\"attributes\":{\"client_comm_id\":\"6383f903b1c542a6b45e378891cbc936\",\"comm_id\":\"6098afea3e3546fd8e26ceaba90f79ea\",\"plot_id\":\"1257\"},\"id\":\"1258\",\"type\":\"panel.models.comm_manager.CommManager\"}],\"root_ids\":[\"1257\",\"1258\"]},\"title\":\"Bokeh Application\",\"version\":\"2.3.3\"}};\n",
       "    var render_items = [{\"docid\":\"ae34312a-ccda-4731-9836-d19a1a78253c\",\"root_ids\":[\"1257\"],\"roots\":{\"1257\":\"6ac4d321-5ad1-4758-b583-94b5f086da59\"}}];\n",
       "    root.Bokeh.embed.embed_items_notebook(docs_json, render_items);\n",
       "  }\n",
       "  if (root.Bokeh !== undefined && root.Bokeh.Panel !== undefined) {\n",
       "    embed_document(root);\n",
       "  } else {\n",
       "    var attempts = 0;\n",
       "    var timer = setInterval(function(root) {\n",
       "      if (root.Bokeh !== undefined && root.Bokeh.Panel !== undefined) {\n",
       "        clearInterval(timer);\n",
       "        embed_document(root);\n",
       "      } else if (document.readyState == \"complete\") {\n",
       "        attempts++;\n",
       "        if (attempts > 100) {\n",
       "          clearInterval(timer);\n",
       "          console.log(\"Bokeh: ERROR: Unable to run BokehJS code because BokehJS library is missing\");\n",
       "        }\n",
       "      }\n",
       "    }, 10, root)\n",
       "  }\n",
       "})(window);</script>"
      ],
      "text/plain": [
       "Alert(str, alert_type='warning', css_classes=['alert', 'alert-warning']...], margin=(0, 0, 25, 0), sizing_mode='stretch_width')"
      ]
     },
     "metadata": {
      "application/vnd.holoviews_exec.v0+json": {
       "id": "1257"
      }
     },
     "output_type": "display_data"
    },
    {
     "data": {},
     "metadata": {},
     "output_type": "display_data"
    },
    {
     "data": {
      "application/vnd.holoviews_exec.v0+json": "",
      "text/html": [
       "<div id='1259'>\n",
       "\n",
       "\n",
       "\n",
       "\n",
       "\n",
       "  <div class=\"bk-root\" id=\"de0ec2ae-18c8-4e66-a15e-76cdd45dccb3\" data-root-id=\"1259\"></div>\n",
       "</div>\n",
       "<script type=\"application/javascript\">(function(root) {\n",
       "  function embed_document(root) {\n",
       "    var docs_json = {\"a047ca7e-f3fc-4b8e-a094-fc4d31256dbe\":{\"defs\":[],\"roots\":{\"references\":[{\"attributes\":{\"client_comm_id\":\"5d4a3cf659b64fa5acf5917461822182\",\"comm_id\":\"2ffd604a0a874a7091c039b3a704ff44\",\"plot_id\":\"1259\"},\"id\":\"1260\",\"type\":\"panel.models.comm_manager.CommManager\"},{\"attributes\":{\"css_classes\":[\"alert\",\"alert-warning\",\"markdown\"],\"margin\":[0,0,25,0],\"name\":\"Alert00535\",\"sizing_mode\":\"stretch_width\",\"text\":\"&lt;h3&gt;warning&lt;/h3&gt;\\n&lt;hr&gt;\\n&lt;p&gt;Directory /home/christine/Documents/These/frangiPANeGIT2/frangiPANe_PANRice/03-check_contamination/01-vecscreen already existed&lt;/p&gt;\"},\"id\":\"1259\",\"type\":\"panel.models.markup.HTML\"}],\"root_ids\":[\"1259\",\"1260\"]},\"title\":\"Bokeh Application\",\"version\":\"2.3.3\"}};\n",
       "    var render_items = [{\"docid\":\"a047ca7e-f3fc-4b8e-a094-fc4d31256dbe\",\"root_ids\":[\"1259\"],\"roots\":{\"1259\":\"de0ec2ae-18c8-4e66-a15e-76cdd45dccb3\"}}];\n",
       "    root.Bokeh.embed.embed_items_notebook(docs_json, render_items);\n",
       "  }\n",
       "  if (root.Bokeh !== undefined && root.Bokeh.Panel !== undefined) {\n",
       "    embed_document(root);\n",
       "  } else {\n",
       "    var attempts = 0;\n",
       "    var timer = setInterval(function(root) {\n",
       "      if (root.Bokeh !== undefined && root.Bokeh.Panel !== undefined) {\n",
       "        clearInterval(timer);\n",
       "        embed_document(root);\n",
       "      } else if (document.readyState == \"complete\") {\n",
       "        attempts++;\n",
       "        if (attempts > 100) {\n",
       "          clearInterval(timer);\n",
       "          console.log(\"Bokeh: ERROR: Unable to run BokehJS code because BokehJS library is missing\");\n",
       "        }\n",
       "      }\n",
       "    }, 10, root)\n",
       "  }\n",
       "})(window);</script>"
      ],
      "text/plain": [
       "Alert(str, alert_type='warning', css_classes=['alert', 'alert-warning']...], margin=(0, 0, 25, 0), sizing_mode='stretch_width')"
      ]
     },
     "metadata": {
      "application/vnd.holoviews_exec.v0+json": {
       "id": "1259"
      }
     },
     "output_type": "display_data"
    },
    {
     "data": {},
     "metadata": {},
     "output_type": "display_data"
    },
    {
     "data": {
      "application/vnd.holoviews_exec.v0+json": "",
      "text/html": [
       "<div id='1261'>\n",
       "\n",
       "\n",
       "\n",
       "\n",
       "\n",
       "  <div class=\"bk-root\" id=\"b244772f-32ec-41fb-8600-cb0dfc59394b\" data-root-id=\"1261\"></div>\n",
       "</div>\n",
       "<script type=\"application/javascript\">(function(root) {\n",
       "  function embed_document(root) {\n",
       "    var docs_json = {\"d50b8b9a-8296-4acc-baaf-178b4ae0c15a\":{\"defs\":[],\"roots\":{\"references\":[{\"attributes\":{\"css_classes\":[\"alert\",\"alert-info\",\"markdown\"],\"margin\":[0,0,25,0],\"name\":\"Alert00539\",\"sizing_mode\":\"stretch_width\",\"text\":\"&lt;p&gt;Searching index files for reference file /home/christine/Documents/These/frangiPANeGIT/rice/bank/UniVec_Core&lt;/p&gt;\"},\"id\":\"1261\",\"type\":\"panel.models.markup.HTML\"},{\"attributes\":{\"client_comm_id\":\"dc644f602f3c4f439f2f836a2ef15e8c\",\"comm_id\":\"0b1f01008ea04eb58c9d52287cba6009\",\"plot_id\":\"1261\"},\"id\":\"1262\",\"type\":\"panel.models.comm_manager.CommManager\"}],\"root_ids\":[\"1261\",\"1262\"]},\"title\":\"Bokeh Application\",\"version\":\"2.3.3\"}};\n",
       "    var render_items = [{\"docid\":\"d50b8b9a-8296-4acc-baaf-178b4ae0c15a\",\"root_ids\":[\"1261\"],\"roots\":{\"1261\":\"b244772f-32ec-41fb-8600-cb0dfc59394b\"}}];\n",
       "    root.Bokeh.embed.embed_items_notebook(docs_json, render_items);\n",
       "  }\n",
       "  if (root.Bokeh !== undefined && root.Bokeh.Panel !== undefined) {\n",
       "    embed_document(root);\n",
       "  } else {\n",
       "    var attempts = 0;\n",
       "    var timer = setInterval(function(root) {\n",
       "      if (root.Bokeh !== undefined && root.Bokeh.Panel !== undefined) {\n",
       "        clearInterval(timer);\n",
       "        embed_document(root);\n",
       "      } else if (document.readyState == \"complete\") {\n",
       "        attempts++;\n",
       "        if (attempts > 100) {\n",
       "          clearInterval(timer);\n",
       "          console.log(\"Bokeh: ERROR: Unable to run BokehJS code because BokehJS library is missing\");\n",
       "        }\n",
       "      }\n",
       "    }, 10, root)\n",
       "  }\n",
       "})(window);</script>"
      ],
      "text/plain": [
       "Alert(str, alert_type='info', css_classes=['alert', 'alert-info'], margin=(0, 0, 25, 0), sizing_mode='stretch_width')"
      ]
     },
     "metadata": {
      "application/vnd.holoviews_exec.v0+json": {
       "id": "1261"
      }
     },
     "output_type": "display_data"
    },
    {
     "data": {},
     "metadata": {},
     "output_type": "display_data"
    },
    {
     "data": {
      "application/vnd.holoviews_exec.v0+json": "",
      "text/html": [
       "<div id='1263'>\n",
       "\n",
       "\n",
       "\n",
       "\n",
       "\n",
       "  <div class=\"bk-root\" id=\"67405cfc-c96a-44e8-ad65-e1d9295b83fb\" data-root-id=\"1263\"></div>\n",
       "</div>\n",
       "<script type=\"application/javascript\">(function(root) {\n",
       "  function embed_document(root) {\n",
       "    var docs_json = {\"1527067f-c081-4116-ad88-fd29bfeec25b\":{\"defs\":[],\"roots\":{\"references\":[{\"attributes\":{\"css_classes\":[\"alert\",\"alert-warning\",\"markdown\"],\"margin\":[0,0,25,0],\"name\":\"Alert00543\",\"sizing_mode\":\"stretch_width\",\"text\":\"&lt;p&gt;Index files already available (/home/christine/Documents/These/frangiPANeGIT/rice/bank/UniVec_Core).... Skip Indexation Step&lt;/p&gt;\"},\"id\":\"1263\",\"type\":\"panel.models.markup.HTML\"},{\"attributes\":{\"client_comm_id\":\"43ee6dfa232b4336a3ef7ce134678783\",\"comm_id\":\"157618f7b7be4d3998c879fb8d858b5b\",\"plot_id\":\"1263\"},\"id\":\"1264\",\"type\":\"panel.models.comm_manager.CommManager\"}],\"root_ids\":[\"1263\",\"1264\"]},\"title\":\"Bokeh Application\",\"version\":\"2.3.3\"}};\n",
       "    var render_items = [{\"docid\":\"1527067f-c081-4116-ad88-fd29bfeec25b\",\"root_ids\":[\"1263\"],\"roots\":{\"1263\":\"67405cfc-c96a-44e8-ad65-e1d9295b83fb\"}}];\n",
       "    root.Bokeh.embed.embed_items_notebook(docs_json, render_items);\n",
       "  }\n",
       "  if (root.Bokeh !== undefined && root.Bokeh.Panel !== undefined) {\n",
       "    embed_document(root);\n",
       "  } else {\n",
       "    var attempts = 0;\n",
       "    var timer = setInterval(function(root) {\n",
       "      if (root.Bokeh !== undefined && root.Bokeh.Panel !== undefined) {\n",
       "        clearInterval(timer);\n",
       "        embed_document(root);\n",
       "      } else if (document.readyState == \"complete\") {\n",
       "        attempts++;\n",
       "        if (attempts > 100) {\n",
       "          clearInterval(timer);\n",
       "          console.log(\"Bokeh: ERROR: Unable to run BokehJS code because BokehJS library is missing\");\n",
       "        }\n",
       "      }\n",
       "    }, 10, root)\n",
       "  }\n",
       "})(window);</script>"
      ],
      "text/plain": [
       "Alert(str, alert_type='warning', css_classes=['alert', 'alert-warning']...], margin=(0, 0, 25, 0), sizing_mode='stretch_width')"
      ]
     },
     "metadata": {
      "application/vnd.holoviews_exec.v0+json": {
       "id": "1263"
      }
     },
     "output_type": "display_data"
    },
    {
     "data": {
      "text/html": [
       "<img src onerror=\"var cell = this.closest('.jp-CodeCell');var editor = cell.querySelector('.jp-Editor');editor.style.background='LightBlue';this.parentNode.removeChild(this)\">"
      ],
      "text/plain": [
       "<IPython.core.display.HTML object>"
      ]
     },
     "metadata": {},
     "output_type": "display_data"
    }
   ],
   "source": [
    "output_contamination = os.path.join(output_dir,\"03-check_contamination\")\n",
    "make_dir(output_contamination)\n",
    "\n",
    "output_vecscreen = os.path.join(output_contamination,\"01-vecscreen\")\n",
    "make_dir(output_vecscreen)\n",
    "\n",
    "index_blast(vec_file.value,logger)\n",
    "    \n",
    "for index, row in df_group.iterrows() :\n",
    "    id = row['sample']\n",
    "    run_vecscreen(fasta_dir=output_assembly_ffasta,\n",
    "                  id=id,\n",
    "                  k=kfinal,\n",
    "                  threshold=threshold,\n",
    "                  output_dir=output_vecscreen,\n",
    "                  bank=vec_file.value, logger=logger)\n",
    "bgc('LightBlue')\n"
   ]
  },
  {
   "cell_type": "markdown",
   "metadata": {},
   "source": [
    "#### __BLASTn__"
   ]
  },
  {
   "cell_type": "markdown",
   "metadata": {
    "tags": []
   },
   "source": [
    "[<img src=\"Images/up-arrow.png\" alt=\"Top\" width=2% align=\"right\">](#home \"Go back to the top\")\n",
    "    \n",
    "### <span style=\"color: #919395\"> 5 - Reducing Sequence Redundancy<a class=\"anchor\" id=\"redundancy\"></a></span>\n",
    "\n",
    "frangiPANe uses CD-HIT to cluster sequences and to reduce sequence redundancy (inter and intra-species).\n",
    "\n",
    "`pb count seq cluster`\n",
    "\n",
    "`msg dashboard, stat on progress`\n"
   ]
  },
  {
   "cell_type": "markdown",
   "metadata": {},
   "source": [
    "#### __Merge all contigs__\n"
   ]
  },
  {
   "cell_type": "code",
   "execution_count": 17,
   "metadata": {},
   "outputs": [
    {
     "data": {},
     "metadata": {},
     "output_type": "display_data"
    },
    {
     "data": {
      "application/vnd.holoviews_exec.v0+json": "",
      "text/html": [
       "<div id='1275'>\n",
       "\n",
       "\n",
       "\n",
       "\n",
       "\n",
       "  <div class=\"bk-root\" id=\"78124411-1e42-434a-8c80-6491aa02457f\" data-root-id=\"1275\"></div>\n",
       "</div>\n",
       "<script type=\"application/javascript\">(function(root) {\n",
       "  function embed_document(root) {\n",
       "    var docs_json = {\"df90e46d-88c9-4c48-bd89-1f51c440e497\":{\"defs\":[],\"roots\":{\"references\":[{\"attributes\":{\"client_comm_id\":\"56e515f0264441e092ef822f8a3bcafc\",\"comm_id\":\"6f44b77f95104cf39828a46d6e3fa204\",\"plot_id\":\"1275\"},\"id\":\"1276\",\"type\":\"panel.models.comm_manager.CommManager\"},{\"attributes\":{\"css_classes\":[\"alert\",\"alert-warning\",\"markdown\"],\"margin\":[0,0,25,0],\"name\":\"Alert00567\",\"sizing_mode\":\"stretch_width\",\"text\":\"&lt;h3&gt;warning&lt;/h3&gt;\\n&lt;hr&gt;\\n&lt;p&gt;Directory /home/christine/Documents/These/frangiPANeGIT2/frangiPANe_PANRice/04-clustering already existed&lt;/p&gt;\"},\"id\":\"1275\",\"type\":\"panel.models.markup.HTML\"}],\"root_ids\":[\"1275\",\"1276\"]},\"title\":\"Bokeh Application\",\"version\":\"2.3.3\"}};\n",
       "    var render_items = [{\"docid\":\"df90e46d-88c9-4c48-bd89-1f51c440e497\",\"root_ids\":[\"1275\"],\"roots\":{\"1275\":\"78124411-1e42-434a-8c80-6491aa02457f\"}}];\n",
       "    root.Bokeh.embed.embed_items_notebook(docs_json, render_items);\n",
       "  }\n",
       "  if (root.Bokeh !== undefined && root.Bokeh.Panel !== undefined) {\n",
       "    embed_document(root);\n",
       "  } else {\n",
       "    var attempts = 0;\n",
       "    var timer = setInterval(function(root) {\n",
       "      if (root.Bokeh !== undefined && root.Bokeh.Panel !== undefined) {\n",
       "        clearInterval(timer);\n",
       "        embed_document(root);\n",
       "      } else if (document.readyState == \"complete\") {\n",
       "        attempts++;\n",
       "        if (attempts > 100) {\n",
       "          clearInterval(timer);\n",
       "          console.log(\"Bokeh: ERROR: Unable to run BokehJS code because BokehJS library is missing\");\n",
       "        }\n",
       "      }\n",
       "    }, 10, root)\n",
       "  }\n",
       "})(window);</script>"
      ],
      "text/plain": [
       "Alert(str, alert_type='warning', css_classes=['alert', 'alert-warning']...], margin=(0, 0, 25, 0), sizing_mode='stretch_width')"
      ]
     },
     "metadata": {
      "application/vnd.holoviews_exec.v0+json": {
       "id": "1275"
      }
     },
     "output_type": "display_data"
    },
    {
     "data": {},
     "metadata": {},
     "output_type": "display_data"
    },
    {
     "data": {
      "application/vnd.holoviews_exec.v0+json": "",
      "text/html": [
       "<div id='1277'>\n",
       "\n",
       "\n",
       "\n",
       "\n",
       "\n",
       "  <div class=\"bk-root\" id=\"41cb28e0-26c1-4e35-8477-24d265c99eb9\" data-root-id=\"1277\"></div>\n",
       "</div>\n",
       "<script type=\"application/javascript\">(function(root) {\n",
       "  function embed_document(root) {\n",
       "    var docs_json = {\"4b4390a8-261b-4234-9c35-a18a9d42b823\":{\"defs\":[],\"roots\":{\"references\":[{\"attributes\":{\"css_classes\":[\"alert\",\"alert-secondary\",\"markdown\"],\"margin\":[0,0,25,0],\"name\":\"Alert00571\",\"sizing_mode\":\"stretch_width\",\"text\":\"&lt;p&gt;Copying all contigs from each sample into dir_clustering on progress&amp;hellip;&lt;/p&gt;\"},\"id\":\"1277\",\"type\":\"panel.models.markup.HTML\"},{\"attributes\":{\"client_comm_id\":\"a7bf528345744c34b747ff2b94830b55\",\"comm_id\":\"d495038e06ab43f5aa615dbbe87e6e25\",\"plot_id\":\"1277\"},\"id\":\"1278\",\"type\":\"panel.models.comm_manager.CommManager\"}],\"root_ids\":[\"1277\",\"1278\"]},\"title\":\"Bokeh Application\",\"version\":\"2.3.3\"}};\n",
       "    var render_items = [{\"docid\":\"4b4390a8-261b-4234-9c35-a18a9d42b823\",\"root_ids\":[\"1277\"],\"roots\":{\"1277\":\"41cb28e0-26c1-4e35-8477-24d265c99eb9\"}}];\n",
       "    root.Bokeh.embed.embed_items_notebook(docs_json, render_items);\n",
       "  }\n",
       "  if (root.Bokeh !== undefined && root.Bokeh.Panel !== undefined) {\n",
       "    embed_document(root);\n",
       "  } else {\n",
       "    var attempts = 0;\n",
       "    var timer = setInterval(function(root) {\n",
       "      if (root.Bokeh !== undefined && root.Bokeh.Panel !== undefined) {\n",
       "        clearInterval(timer);\n",
       "        embed_document(root);\n",
       "      } else if (document.readyState == \"complete\") {\n",
       "        attempts++;\n",
       "        if (attempts > 100) {\n",
       "          clearInterval(timer);\n",
       "          console.log(\"Bokeh: ERROR: Unable to run BokehJS code because BokehJS library is missing\");\n",
       "        }\n",
       "      }\n",
       "    }, 10, root)\n",
       "  }\n",
       "})(window);</script>"
      ],
      "text/plain": [
       "Alert(str, alert_type='secondary', css_classes=['alert', 'alert-secondary...], margin=(0, 0, 25, 0), sizing_mode='stretch_width')"
      ]
     },
     "metadata": {
      "application/vnd.holoviews_exec.v0+json": {
       "id": "1277"
      }
     },
     "output_type": "display_data"
    },
    {
     "data": {},
     "metadata": {},
     "output_type": "display_data"
    },
    {
     "data": {
      "application/vnd.holoviews_exec.v0+json": "",
      "text/html": [
       "<div id='1279'>\n",
       "\n",
       "\n",
       "\n",
       "\n",
       "\n",
       "  <div class=\"bk-root\" id=\"5dcdf15b-8e5e-4fa3-a6aa-12dbe965bb34\" data-root-id=\"1279\"></div>\n",
       "</div>\n",
       "<script type=\"application/javascript\">(function(root) {\n",
       "  function embed_document(root) {\n",
       "    var docs_json = {\"d444df90-72fa-4a10-9626-62130e6dfdb2\":{\"defs\":[],\"roots\":{\"references\":[{\"attributes\":{\"client_comm_id\":\"4c887b649588416d865f41e1107fd4da\",\"comm_id\":\"572c1aa80e884e778bb5ead7fc9d9959\",\"plot_id\":\"1279\"},\"id\":\"1280\",\"type\":\"panel.models.comm_manager.CommManager\"},{\"attributes\":{\"css_classes\":[\"alert\",\"alert-info\",\"markdown\"],\"margin\":[0,0,25,0],\"name\":\"Alert00575\",\"sizing_mode\":\"stretch_width\",\"text\":\"&lt;p&gt;Copying all contigs into dir_clustering done&lt;/p&gt;\"},\"id\":\"1279\",\"type\":\"panel.models.markup.HTML\"}],\"root_ids\":[\"1279\",\"1280\"]},\"title\":\"Bokeh Application\",\"version\":\"2.3.3\"}};\n",
       "    var render_items = [{\"docid\":\"d444df90-72fa-4a10-9626-62130e6dfdb2\",\"root_ids\":[\"1279\"],\"roots\":{\"1279\":\"5dcdf15b-8e5e-4fa3-a6aa-12dbe965bb34\"}}];\n",
       "    root.Bokeh.embed.embed_items_notebook(docs_json, render_items);\n",
       "  }\n",
       "  if (root.Bokeh !== undefined && root.Bokeh.Panel !== undefined) {\n",
       "    embed_document(root);\n",
       "  } else {\n",
       "    var attempts = 0;\n",
       "    var timer = setInterval(function(root) {\n",
       "      if (root.Bokeh !== undefined && root.Bokeh.Panel !== undefined) {\n",
       "        clearInterval(timer);\n",
       "        embed_document(root);\n",
       "      } else if (document.readyState == \"complete\") {\n",
       "        attempts++;\n",
       "        if (attempts > 100) {\n",
       "          clearInterval(timer);\n",
       "          console.log(\"Bokeh: ERROR: Unable to run BokehJS code because BokehJS library is missing\");\n",
       "        }\n",
       "      }\n",
       "    }, 10, root)\n",
       "  }\n",
       "})(window);</script>"
      ],
      "text/plain": [
       "Alert(str, alert_type='info', css_classes=['alert', 'alert-info'], margin=(0, 0, 25, 0), sizing_mode='stretch_width')"
      ]
     },
     "metadata": {
      "application/vnd.holoviews_exec.v0+json": {
       "id": "1279"
      }
     },
     "output_type": "display_data"
    },
    {
     "data": {},
     "metadata": {},
     "output_type": "display_data"
    },
    {
     "data": {
      "application/vnd.holoviews_exec.v0+json": "",
      "text/html": [
       "<div id='1281'>\n",
       "\n",
       "\n",
       "\n",
       "\n",
       "\n",
       "  <div class=\"bk-root\" id=\"6c63f954-1151-4fb2-b524-e84562c5a906\" data-root-id=\"1281\"></div>\n",
       "</div>\n",
       "<script type=\"application/javascript\">(function(root) {\n",
       "  function embed_document(root) {\n",
       "    var docs_json = {\"8212d83a-96f8-4289-9049-7dc2f4410ab0\":{\"defs\":[],\"roots\":{\"references\":[{\"attributes\":{\"client_comm_id\":\"de7af899044a4ef6b1af7b8d623ef5f9\",\"comm_id\":\"56d3f759377d497e8aa8a80904a524dd\",\"plot_id\":\"1281\"},\"id\":\"1282\",\"type\":\"panel.models.comm_manager.CommManager\"},{\"attributes\":{\"css_classes\":[\"alert\",\"alert-secondary\",\"markdown\"],\"margin\":[0,0,25,0],\"name\":\"Alert00579\",\"sizing_mode\":\"stretch_width\",\"text\":\"&lt;p&gt;Merging all contigs from each sample into one file&amp;hellip; on progress&lt;/p&gt;\"},\"id\":\"1281\",\"type\":\"panel.models.markup.HTML\"}],\"root_ids\":[\"1281\",\"1282\"]},\"title\":\"Bokeh Application\",\"version\":\"2.3.3\"}};\n",
       "    var render_items = [{\"docid\":\"8212d83a-96f8-4289-9049-7dc2f4410ab0\",\"root_ids\":[\"1281\"],\"roots\":{\"1281\":\"6c63f954-1151-4fb2-b524-e84562c5a906\"}}];\n",
       "    root.Bokeh.embed.embed_items_notebook(docs_json, render_items);\n",
       "  }\n",
       "  if (root.Bokeh !== undefined && root.Bokeh.Panel !== undefined) {\n",
       "    embed_document(root);\n",
       "  } else {\n",
       "    var attempts = 0;\n",
       "    var timer = setInterval(function(root) {\n",
       "      if (root.Bokeh !== undefined && root.Bokeh.Panel !== undefined) {\n",
       "        clearInterval(timer);\n",
       "        embed_document(root);\n",
       "      } else if (document.readyState == \"complete\") {\n",
       "        attempts++;\n",
       "        if (attempts > 100) {\n",
       "          clearInterval(timer);\n",
       "          console.log(\"Bokeh: ERROR: Unable to run BokehJS code because BokehJS library is missing\");\n",
       "        }\n",
       "      }\n",
       "    }, 10, root)\n",
       "  }\n",
       "})(window);</script>"
      ],
      "text/plain": [
       "Alert(str, alert_type='secondary', css_classes=['alert', 'alert-secondary...], margin=(0, 0, 25, 0), sizing_mode='stretch_width')"
      ]
     },
     "metadata": {
      "application/vnd.holoviews_exec.v0+json": {
       "id": "1281"
      }
     },
     "output_type": "display_data"
    },
    {
     "data": {},
     "metadata": {},
     "output_type": "display_data"
    },
    {
     "data": {
      "application/vnd.holoviews_exec.v0+json": "",
      "text/html": [
       "<div id='1283'>\n",
       "\n",
       "\n",
       "\n",
       "\n",
       "\n",
       "  <div class=\"bk-root\" id=\"aa6ca60b-9684-471b-b30b-7983137b1d89\" data-root-id=\"1283\"></div>\n",
       "</div>\n",
       "<script type=\"application/javascript\">(function(root) {\n",
       "  function embed_document(root) {\n",
       "    var docs_json = {\"8c752fe3-1bbe-4349-95a4-17877aae58b8\":{\"defs\":[],\"roots\":{\"references\":[{\"attributes\":{\"css_classes\":[\"alert\",\"alert-success\",\"markdown\"],\"margin\":[0,0,25,0],\"name\":\"Alert00583\",\"sizing_mode\":\"stretch_width\",\"text\":\"&lt;p&gt;fasta file successfully done /home/christine/Documents/These/frangiPANeGIT2/frangiPANe_PANRice/04-clustering/PANRice_allContigs.fa&lt;/p&gt;\"},\"id\":\"1283\",\"type\":\"panel.models.markup.HTML\"},{\"attributes\":{\"client_comm_id\":\"17a00961e30944cfa81f122c3846f202\",\"comm_id\":\"01436c1fb0a24a229fa7b153d58da541\",\"plot_id\":\"1283\"},\"id\":\"1284\",\"type\":\"panel.models.comm_manager.CommManager\"}],\"root_ids\":[\"1283\",\"1284\"]},\"title\":\"Bokeh Application\",\"version\":\"2.3.3\"}};\n",
       "    var render_items = [{\"docid\":\"8c752fe3-1bbe-4349-95a4-17877aae58b8\",\"root_ids\":[\"1283\"],\"roots\":{\"1283\":\"aa6ca60b-9684-471b-b30b-7983137b1d89\"}}];\n",
       "    root.Bokeh.embed.embed_items_notebook(docs_json, render_items);\n",
       "  }\n",
       "  if (root.Bokeh !== undefined && root.Bokeh.Panel !== undefined) {\n",
       "    embed_document(root);\n",
       "  } else {\n",
       "    var attempts = 0;\n",
       "    var timer = setInterval(function(root) {\n",
       "      if (root.Bokeh !== undefined && root.Bokeh.Panel !== undefined) {\n",
       "        clearInterval(timer);\n",
       "        embed_document(root);\n",
       "      } else if (document.readyState == \"complete\") {\n",
       "        attempts++;\n",
       "        if (attempts > 100) {\n",
       "          clearInterval(timer);\n",
       "          console.log(\"Bokeh: ERROR: Unable to run BokehJS code because BokehJS library is missing\");\n",
       "        }\n",
       "      }\n",
       "    }, 10, root)\n",
       "  }\n",
       "})(window);</script>"
      ],
      "text/plain": [
       "Alert(str, alert_type='success', css_classes=['alert', 'alert-success']...], margin=(0, 0, 25, 0), sizing_mode='stretch_width')"
      ]
     },
     "metadata": {
      "application/vnd.holoviews_exec.v0+json": {
       "id": "1283"
      }
     },
     "output_type": "display_data"
    },
    {
     "data": {
      "text/html": [
       "<img src onerror=\"var cell = this.closest('.jp-CodeCell');var editor = cell.querySelector('.jp-Editor');editor.style.background='LightBlue';this.parentNode.removeChild(this)\">"
      ],
      "text/plain": [
       "<IPython.core.display.HTML object>"
      ]
     },
     "metadata": {},
     "output_type": "display_data"
    }
   ],
   "source": [
    "### create clustering directory\n",
    "output_clustering_dir = os.path.join(output_dir,\"04-clustering\")\n",
    "make_dir(output_clustering_dir)\n",
    "\n",
    "copy_cluster(output_vecscreen,output_clustering_dir)\n",
    "      \n",
    "### ADD logger\n",
    "\n",
    "merged_contigs = os.path.join(output_clustering_dir,project_name.value+\"_allContigs.fa\")  \n",
    "merging_cluster(output_clustering_dir,merged_contigs)\n",
    "\n",
    "bgc('LightBlue')"
   ]
  },
  {
   "cell_type": "code",
   "execution_count": null,
   "metadata": {},
   "outputs": [],
   "source": [
    "STAT"
   ]
  },
  {
   "cell_type": "code",
   "execution_count": 20,
   "metadata": {},
   "outputs": [
    {
     "data": {},
     "metadata": {},
     "output_type": "display_data"
    },
    {
     "data": {
      "application/vnd.holoviews_exec.v0+json": "",
      "text/html": [
       "<div id='1303'>\n",
       "\n",
       "\n",
       "\n",
       "\n",
       "\n",
       "  <div class=\"bk-root\" id=\"43307f4c-808b-4786-b5bb-8114f0bd55f9\" data-root-id=\"1303\"></div>\n",
       "</div>\n",
       "<script type=\"application/javascript\">(function(root) {\n",
       "  function embed_document(root) {\n",
       "    var docs_json = {\"04dd35ba-654f-4891-9e78-6583071982ea\":{\"defs\":[],\"roots\":{\"references\":[{\"attributes\":{\"client_comm_id\":\"204914f1c2c940e0a0f915290435c54e\",\"comm_id\":\"a3a0198c32124db4a467d46d1f09f35c\",\"plot_id\":\"1303\"},\"id\":\"1304\",\"type\":\"panel.models.comm_manager.CommManager\"},{\"attributes\":{\"css_classes\":[\"alert\",\"alert-secondary\",\"markdown\"],\"margin\":[0,0,25,0],\"name\":\"Alert00621\",\"sizing_mode\":\"stretch_width\",\"text\":\"&lt;p&gt;Clustering all contigs with cdhit-est.. on progress&lt;/p&gt;\"},\"id\":\"1303\",\"type\":\"panel.models.markup.HTML\"}],\"root_ids\":[\"1303\",\"1304\"]},\"title\":\"Bokeh Application\",\"version\":\"2.3.3\"}};\n",
       "    var render_items = [{\"docid\":\"04dd35ba-654f-4891-9e78-6583071982ea\",\"root_ids\":[\"1303\"],\"roots\":{\"1303\":\"43307f4c-808b-4786-b5bb-8114f0bd55f9\"}}];\n",
       "    root.Bokeh.embed.embed_items_notebook(docs_json, render_items);\n",
       "  }\n",
       "  if (root.Bokeh !== undefined && root.Bokeh.Panel !== undefined) {\n",
       "    embed_document(root);\n",
       "  } else {\n",
       "    var attempts = 0;\n",
       "    var timer = setInterval(function(root) {\n",
       "      if (root.Bokeh !== undefined && root.Bokeh.Panel !== undefined) {\n",
       "        clearInterval(timer);\n",
       "        embed_document(root);\n",
       "      } else if (document.readyState == \"complete\") {\n",
       "        attempts++;\n",
       "        if (attempts > 100) {\n",
       "          clearInterval(timer);\n",
       "          console.log(\"Bokeh: ERROR: Unable to run BokehJS code because BokehJS library is missing\");\n",
       "        }\n",
       "      }\n",
       "    }, 10, root)\n",
       "  }\n",
       "})(window);</script>"
      ],
      "text/plain": [
       "Alert(str, alert_type='secondary', css_classes=['alert', 'alert-secondary...], margin=(0, 0, 25, 0), sizing_mode='stretch_width')"
      ]
     },
     "metadata": {
      "application/vnd.holoviews_exec.v0+json": {
       "id": "1303"
      }
     },
     "output_type": "display_data"
    },
    {
     "data": {},
     "metadata": {},
     "output_type": "display_data"
    },
    {
     "data": {
      "application/vnd.holoviews_exec.v0+json": "",
      "text/html": [
       "<div id='1305'>\n",
       "\n",
       "\n",
       "\n",
       "\n",
       "\n",
       "  <div class=\"bk-root\" id=\"69a3b58a-ae8f-46d5-b386-06f48d37e142\" data-root-id=\"1305\"></div>\n",
       "</div>\n",
       "<script type=\"application/javascript\">(function(root) {\n",
       "  function embed_document(root) {\n",
       "    var docs_json = {\"4565a976-db1d-412a-8b29-23074af52953\":{\"defs\":[],\"roots\":{\"references\":[{\"attributes\":{\"client_comm_id\":\"23a3243456b24e62ab45b73d4f68f83d\",\"comm_id\":\"46e0653fdf5d40d88fb48aa52b8991d9\",\"plot_id\":\"1305\"},\"id\":\"1306\",\"type\":\"panel.models.comm_manager.CommManager\"},{\"attributes\":{\"css_classes\":[\"alert\",\"alert-success\",\"markdown\"],\"margin\":[0,0,25,0],\"name\":\"Alert00625\",\"sizing_mode\":\"stretch_width\",\"text\":\"&lt;p&gt;Clustering successfully done !&lt;/p&gt;\"},\"id\":\"1305\",\"type\":\"panel.models.markup.HTML\"}],\"root_ids\":[\"1305\",\"1306\"]},\"title\":\"Bokeh Application\",\"version\":\"2.3.3\"}};\n",
       "    var render_items = [{\"docid\":\"4565a976-db1d-412a-8b29-23074af52953\",\"root_ids\":[\"1305\"],\"roots\":{\"1305\":\"69a3b58a-ae8f-46d5-b386-06f48d37e142\"}}];\n",
       "    root.Bokeh.embed.embed_items_notebook(docs_json, render_items);\n",
       "  }\n",
       "  if (root.Bokeh !== undefined && root.Bokeh.Panel !== undefined) {\n",
       "    embed_document(root);\n",
       "  } else {\n",
       "    var attempts = 0;\n",
       "    var timer = setInterval(function(root) {\n",
       "      if (root.Bokeh !== undefined && root.Bokeh.Panel !== undefined) {\n",
       "        clearInterval(timer);\n",
       "        embed_document(root);\n",
       "      } else if (document.readyState == \"complete\") {\n",
       "        attempts++;\n",
       "        if (attempts > 100) {\n",
       "          clearInterval(timer);\n",
       "          console.log(\"Bokeh: ERROR: Unable to run BokehJS code because BokehJS library is missing\");\n",
       "        }\n",
       "      }\n",
       "    }, 10, root)\n",
       "  }\n",
       "})(window);</script>"
      ],
      "text/plain": [
       "Alert(str, alert_type='success', css_classes=['alert', 'alert-success']...], margin=(0, 0, 25, 0), sizing_mode='stretch_width')"
      ]
     },
     "metadata": {
      "application/vnd.holoviews_exec.v0+json": {
       "id": "1305"
      }
     },
     "output_type": "display_data"
    },
    {
     "data": {},
     "metadata": {},
     "output_type": "display_data"
    },
    {
     "data": {
      "application/vnd.holoviews_exec.v0+json": "",
      "text/html": [
       "<div id='1307'>\n",
       "\n",
       "\n",
       "\n",
       "\n",
       "\n",
       "  <div class=\"bk-root\" id=\"3f9b5f85-e140-48fd-b7c0-8309eb55e523\" data-root-id=\"1307\"></div>\n",
       "</div>\n",
       "<script type=\"application/javascript\">(function(root) {\n",
       "  function embed_document(root) {\n",
       "    var docs_json = {\"c7f190c0-d143-49fd-9373-270ccf8beb45\":{\"defs\":[],\"roots\":{\"references\":[{\"attributes\":{\"css_classes\":[\"markdown\"],\"margin\":[5,5,5,5],\"name\":\"Markdown00629\",\"text\":\"&lt;h3&gt;8971 sequences&lt;/h3&gt;\\n&lt;ul&gt;\\n&lt;li&gt;min -  max length : 300 bp - 25694 bp&lt;/li&gt;\\n&lt;li&gt;mean length : 1150 bp&lt;/li&gt;\\n&lt;/ul&gt;\"},\"id\":\"1309\",\"type\":\"panel.models.markup.HTML\"},{\"attributes\":{\"css_classes\":[\"markdown\"],\"margin\":[5,5,5,5],\"name\":\"Markdown00631\",\"text\":\"&lt;h3&gt;230 clusters&lt;/h3&gt;\\n&lt;ul&gt;\\n&lt;li&gt;min - max length : 302 bp - 25694 bp&lt;/li&gt;\\n&lt;li&gt;mean length : 1735&lt;/li&gt;\\n&lt;li&gt;from 2 to  6&lt;/li&gt;\\n&lt;li&gt;with ~ 2 sequences&lt;/li&gt;\\n&lt;/ul&gt;\"},\"id\":\"1311\",\"type\":\"panel.models.markup.HTML\"},{\"attributes\":{\"height\":360,\"margin\":[5,5,5,5],\"name\":\"Matplotlib00638\",\"text\":\"&lt;img src=&quot;data:image/png;base64,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&quot; width=&quot;720px&quot; height=&quot;360px&quot; alt=&quot;&quot;&gt;&lt;/img&gt;\",\"width\":720},\"id\":\"1313\",\"type\":\"panel.models.markup.HTML\"},{\"attributes\":{\"client_comm_id\":\"0d9b41fc22a343bda333e752500ed407\",\"comm_id\":\"b9d4d018b42a4858aa50d87371ee2b63\",\"plot_id\":\"1307\"},\"id\":\"1316\",\"type\":\"panel.models.comm_manager.CommManager\"},{\"attributes\":{\"css_classes\":[\"markdown\"],\"margin\":[5,5,5,5],\"name\":\"Markdown00636\",\"text\":\"&lt;h1&gt;Some statistics about clustering step&lt;/h1&gt;\"},\"id\":\"1308\",\"type\":\"panel.models.markup.HTML\"},{\"attributes\":{\"height\":360,\"margin\":[5,5,5,5],\"name\":\"Matplotlib00642\",\"text\":\"&lt;img src=&quot;data:image/png;base64,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&quot; width=&quot;720px&quot; height=&quot;360px&quot; alt=&quot;&quot;&gt;&lt;/img&gt;\",\"width\":720},\"id\":\"1315\",\"type\":\"panel.models.markup.HTML\"},{\"attributes\":{\"css_classes\":[\"markdown\"],\"margin\":[5,5,5,5],\"name\":\"Markdown00633\",\"text\":\"&lt;h3&gt;8741 singletons&lt;/h3&gt;\\n&lt;ul&gt;\\n&lt;li&gt;min - max length : 300 bp -  24809 bp&lt;/li&gt;\\n&lt;li&gt;mean length : 1135 bp&lt;/li&gt;\\n&lt;/ul&gt;\"},\"id\":\"1312\",\"type\":\"panel.models.markup.HTML\"},{\"attributes\":{\"height\":360,\"margin\":[5,5,5,5],\"name\":\"Matplotlib00640\",\"text\":\"&lt;img src=&quot;data:image/png;base64,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&quot; width=&quot;720px&quot; height=&quot;360px&quot; alt=&quot;&quot;&gt;&lt;/img&gt;\",\"width\":720},\"id\":\"1314\",\"type\":\"panel.models.markup.HTML\"},{\"attributes\":{\"background\":\"WhiteSmoke\",\"children\":[{\"id\":\"1308\"},{\"id\":\"1309\"},{\"id\":\"1310\"},{\"id\":\"1313\"},{\"id\":\"1314\"},{\"id\":\"1315\"}],\"margin\":[0,0,0,0],\"name\":\"Column00644\",\"sizing_mode\":\"stretch_both\",\"width\":800},\"id\":\"1307\",\"type\":\"Column\"},{\"attributes\":{\"children\":[{\"id\":\"1311\"},{\"id\":\"1312\"}],\"margin\":[0,0,0,0],\"name\":\"Row00635\"},\"id\":\"1310\",\"type\":\"Row\"}],\"root_ids\":[\"1307\",\"1316\"]},\"title\":\"Bokeh Application\",\"version\":\"2.3.3\"}};\n",
       "    var render_items = [{\"docid\":\"c7f190c0-d143-49fd-9373-270ccf8beb45\",\"root_ids\":[\"1307\"],\"roots\":{\"1307\":\"3f9b5f85-e140-48fd-b7c0-8309eb55e523\"}}];\n",
       "    root.Bokeh.embed.embed_items_notebook(docs_json, render_items);\n",
       "  }\n",
       "  if (root.Bokeh !== undefined && root.Bokeh.Panel !== undefined) {\n",
       "    embed_document(root);\n",
       "  } else {\n",
       "    var attempts = 0;\n",
       "    var timer = setInterval(function(root) {\n",
       "      if (root.Bokeh !== undefined && root.Bokeh.Panel !== undefined) {\n",
       "        clearInterval(timer);\n",
       "        embed_document(root);\n",
       "      } else if (document.readyState == \"complete\") {\n",
       "        attempts++;\n",
       "        if (attempts > 100) {\n",
       "          clearInterval(timer);\n",
       "          console.log(\"Bokeh: ERROR: Unable to run BokehJS code because BokehJS library is missing\");\n",
       "        }\n",
       "      }\n",
       "    }, 10, root)\n",
       "  }\n",
       "})(window);</script>"
      ],
      "text/plain": [
       "Column(background='WhiteSmoke', sizing_mode='stretch_both', width=800)\n",
       "    [0] Markdown(str)\n",
       "    [1] Markdown(str)\n",
       "    [2] Row\n",
       "        [0] Markdown(str)\n",
       "        [1] Markdown(str)\n",
       "    [3] Matplotlib(Figure)\n",
       "    [4] Matplotlib(Figure)\n",
       "    [5] Matplotlib(Figure)"
      ]
     },
     "metadata": {
      "application/vnd.holoviews_exec.v0+json": {
       "id": "1307"
      }
     },
     "output_type": "display_data"
    },
    {
     "data": {
      "text/html": [
       "<img src onerror=\"var cell = this.closest('.jp-CodeCell');var editor = cell.querySelector('.jp-Editor');editor.style.background='LightBlue';this.parentNode.removeChild(this)\">"
      ],
      "text/plain": [
       "<IPython.core.display.HTML object>"
      ]
     },
     "metadata": {},
     "output_type": "display_data"
    }
   ],
   "source": [
    "\n",
    "# TODO CD : CHECK NB SEQUENCE OK ET PRINT DANS LE MSG + add logger\n",
    "\n",
    "# Run clustering\n",
    "cdhit_fasta = os.path.join(output_clustering_dir,project_name.value+\"_clusters.cdhit\")  \n",
    "cdhit(merged_contigs,0.8,0.95, cdhit_fasta, logger)\n",
    "\n",
    "# Analysing\n",
    "cdhit_cluster = cdhit_fasta + \".clstr\"\n",
    "cdhit_csv = cdhit_fasta + \".csv\"\n",
    "df_cdhit=parse_cdhit(cdhit_cluster, df_group, cdhit_csv)\n",
    "\n",
    "#Dashboard\n",
    "dashboard_cdhit(df_cdhit)\n",
    "\n",
    "bgc('LightBlue')"
   ]
  },
  {
   "cell_type": "markdown",
   "metadata": {},
   "source": [
    "[<img src=\"Images/up-arrow.png\" alt=\"Top\" width=2% align=\"right\">](#home \"Go back to the top\")\n",
    "    \n",
    "### <span style=\"color: #919395\"> 6 - Anchoring Clusters on Reference Genome<a class=\"anchor\" id=\"anchoring\"></a></span>\n",
    "\n",
    "#### __Generating panreference__\n",
    "\n",
    "---\n"
   ]
  },
  {
   "cell_type": "code",
   "execution_count": 21,
   "metadata": {},
   "outputs": [
    {
     "data": {},
     "metadata": {},
     "output_type": "display_data"
    },
    {
     "data": {
      "application/vnd.holoviews_exec.v0+json": "",
      "text/html": [
       "<div id='1317'>\n",
       "\n",
       "\n",
       "\n",
       "\n",
       "\n",
       "  <div class=\"bk-root\" id=\"68ae153a-cb11-45da-99ec-dbd7571a5f43\" data-root-id=\"1317\"></div>\n",
       "</div>\n",
       "<script type=\"application/javascript\">(function(root) {\n",
       "  function embed_document(root) {\n",
       "    var docs_json = {\"3cc4b9c4-4243-4302-8605-7b999e880a02\":{\"defs\":[],\"roots\":{\"references\":[{\"attributes\":{\"client_comm_id\":\"68d709d5125d428e9c192a59a4dcd478\",\"comm_id\":\"77ee418e85a1480eaee6fa5d933bc28d\",\"plot_id\":\"1317\"},\"id\":\"1318\",\"type\":\"panel.models.comm_manager.CommManager\"},{\"attributes\":{\"css_classes\":[\"alert\",\"alert-success\",\"markdown\"],\"margin\":[0,0,25,0],\"name\":\"Alert00647\",\"sizing_mode\":\"stretch_width\",\"text\":\"&lt;p&gt;Directory /home/christine/Documents/These/frangiPANeGIT2/frangiPANe_PANRice/05-panreference/ created&lt;/p&gt;\"},\"id\":\"1317\",\"type\":\"panel.models.markup.HTML\"}],\"root_ids\":[\"1317\",\"1318\"]},\"title\":\"Bokeh Application\",\"version\":\"2.3.3\"}};\n",
       "    var render_items = [{\"docid\":\"3cc4b9c4-4243-4302-8605-7b999e880a02\",\"root_ids\":[\"1317\"],\"roots\":{\"1317\":\"68ae153a-cb11-45da-99ec-dbd7571a5f43\"}}];\n",
       "    root.Bokeh.embed.embed_items_notebook(docs_json, render_items);\n",
       "  }\n",
       "  if (root.Bokeh !== undefined && root.Bokeh.Panel !== undefined) {\n",
       "    embed_document(root);\n",
       "  } else {\n",
       "    var attempts = 0;\n",
       "    var timer = setInterval(function(root) {\n",
       "      if (root.Bokeh !== undefined && root.Bokeh.Panel !== undefined) {\n",
       "        clearInterval(timer);\n",
       "        embed_document(root);\n",
       "      } else if (document.readyState == \"complete\") {\n",
       "        attempts++;\n",
       "        if (attempts > 100) {\n",
       "          clearInterval(timer);\n",
       "          console.log(\"Bokeh: ERROR: Unable to run BokehJS code because BokehJS library is missing\");\n",
       "        }\n",
       "      }\n",
       "    }, 10, root)\n",
       "  }\n",
       "})(window);</script>"
      ],
      "text/plain": [
       "Alert(str, alert_type='success', css_classes=['alert', 'alert-success']...], margin=(0, 0, 25, 0), sizing_mode='stretch_width')"
      ]
     },
     "metadata": {
      "application/vnd.holoviews_exec.v0+json": {
       "id": "1317"
      }
     },
     "output_type": "display_data"
    },
    {
     "data": {},
     "metadata": {},
     "output_type": "display_data"
    },
    {
     "data": {
      "application/vnd.holoviews_exec.v0+json": "",
      "text/html": [
       "<div id='1319'>\n",
       "\n",
       "\n",
       "\n",
       "\n",
       "\n",
       "  <div class=\"bk-root\" id=\"f2060b10-56e7-4173-bf75-3ab3be5ea8a6\" data-root-id=\"1319\"></div>\n",
       "</div>\n",
       "<script type=\"application/javascript\">(function(root) {\n",
       "  function embed_document(root) {\n",
       "    var docs_json = {\"7bc3d42a-47e1-413b-bbb5-3a255d9a6145\":{\"defs\":[],\"roots\":{\"references\":[{\"attributes\":{\"client_comm_id\":\"4c6c99c8fc8a4a57a756f4f4c5ec5330\",\"comm_id\":\"9d23ee93757c417fba2c51f599f7611f\",\"plot_id\":\"1319\"},\"id\":\"1320\",\"type\":\"panel.models.comm_manager.CommManager\"},{\"attributes\":{\"css_classes\":[\"alert\",\"alert-success\",\"markdown\"],\"margin\":[0,0,25,0],\"name\":\"Alert00651\",\"sizing_mode\":\"stretch_width\",\"text\":\"&lt;p&gt;Panreference file successfully created : /home/christine/Documents/These/frangiPANeGIT2/frangiPANe_PANRice/05-panreference/PANRice_panref.fasta&lt;/p&gt;\"},\"id\":\"1319\",\"type\":\"panel.models.markup.HTML\"}],\"root_ids\":[\"1319\",\"1320\"]},\"title\":\"Bokeh Application\",\"version\":\"2.3.3\"}};\n",
       "    var render_items = [{\"docid\":\"7bc3d42a-47e1-413b-bbb5-3a255d9a6145\",\"root_ids\":[\"1319\"],\"roots\":{\"1319\":\"f2060b10-56e7-4173-bf75-3ab3be5ea8a6\"}}];\n",
       "    root.Bokeh.embed.embed_items_notebook(docs_json, render_items);\n",
       "  }\n",
       "  if (root.Bokeh !== undefined && root.Bokeh.Panel !== undefined) {\n",
       "    embed_document(root);\n",
       "  } else {\n",
       "    var attempts = 0;\n",
       "    var timer = setInterval(function(root) {\n",
       "      if (root.Bokeh !== undefined && root.Bokeh.Panel !== undefined) {\n",
       "        clearInterval(timer);\n",
       "        embed_document(root);\n",
       "      } else if (document.readyState == \"complete\") {\n",
       "        attempts++;\n",
       "        if (attempts > 100) {\n",
       "          clearInterval(timer);\n",
       "          console.log(\"Bokeh: ERROR: Unable to run BokehJS code because BokehJS library is missing\");\n",
       "        }\n",
       "      }\n",
       "    }, 10, root)\n",
       "  }\n",
       "})(window);</script>"
      ],
      "text/plain": [
       "Alert(str, alert_type='success', css_classes=['alert', 'alert-success']...], margin=(0, 0, 25, 0), sizing_mode='stretch_width')"
      ]
     },
     "metadata": {
      "application/vnd.holoviews_exec.v0+json": {
       "id": "1319"
      }
     },
     "output_type": "display_data"
    },
    {
     "data": {},
     "metadata": {},
     "output_type": "display_data"
    },
    {
     "data": {
      "application/vnd.holoviews_exec.v0+json": "",
      "text/html": [
       "<div id='1321'>\n",
       "\n",
       "\n",
       "\n",
       "\n",
       "\n",
       "  <div class=\"bk-root\" id=\"adf0ae70-615d-4edb-b7d7-5cbd57d91d6c\" data-root-id=\"1321\"></div>\n",
       "</div>\n",
       "<script type=\"application/javascript\">(function(root) {\n",
       "  function embed_document(root) {\n",
       "    var docs_json = {\"7b06d0ba-b5f9-4cec-a9ab-d5a5facaefab\":{\"defs\":[],\"roots\":{\"references\":[{\"attributes\":{\"css_classes\":[\"alert\",\"alert-info\",\"markdown\"],\"margin\":[0,0,25,0],\"name\":\"Alert00655\",\"sizing_mode\":\"stretch_width\",\"text\":\"&lt;p&gt;Searching index files for reference file /home/christine/Documents/These/frangiPANeGIT2/frangiPANe_PANRice/05-panreference/PANRice_panref.fasta&lt;/p&gt;\"},\"id\":\"1321\",\"type\":\"panel.models.markup.HTML\"},{\"attributes\":{\"client_comm_id\":\"15eb65f6a0f541bcb70dcc7d9d907d47\",\"comm_id\":\"d88b4a9f6f3944019abbd7d207c92093\",\"plot_id\":\"1321\"},\"id\":\"1322\",\"type\":\"panel.models.comm_manager.CommManager\"}],\"root_ids\":[\"1321\",\"1322\"]},\"title\":\"Bokeh Application\",\"version\":\"2.3.3\"}};\n",
       "    var render_items = [{\"docid\":\"7b06d0ba-b5f9-4cec-a9ab-d5a5facaefab\",\"root_ids\":[\"1321\"],\"roots\":{\"1321\":\"adf0ae70-615d-4edb-b7d7-5cbd57d91d6c\"}}];\n",
       "    root.Bokeh.embed.embed_items_notebook(docs_json, render_items);\n",
       "  }\n",
       "  if (root.Bokeh !== undefined && root.Bokeh.Panel !== undefined) {\n",
       "    embed_document(root);\n",
       "  } else {\n",
       "    var attempts = 0;\n",
       "    var timer = setInterval(function(root) {\n",
       "      if (root.Bokeh !== undefined && root.Bokeh.Panel !== undefined) {\n",
       "        clearInterval(timer);\n",
       "        embed_document(root);\n",
       "      } else if (document.readyState == \"complete\") {\n",
       "        attempts++;\n",
       "        if (attempts > 100) {\n",
       "          clearInterval(timer);\n",
       "          console.log(\"Bokeh: ERROR: Unable to run BokehJS code because BokehJS library is missing\");\n",
       "        }\n",
       "      }\n",
       "    }, 10, root)\n",
       "  }\n",
       "})(window);</script>"
      ],
      "text/plain": [
       "Alert(str, alert_type='info', css_classes=['alert', 'alert-info'], margin=(0, 0, 25, 0), sizing_mode='stretch_width')"
      ]
     },
     "metadata": {
      "application/vnd.holoviews_exec.v0+json": {
       "id": "1321"
      }
     },
     "output_type": "display_data"
    },
    {
     "data": {},
     "metadata": {},
     "output_type": "display_data"
    },
    {
     "data": {
      "application/vnd.holoviews_exec.v0+json": "",
      "text/html": [
       "<div id='1323'>\n",
       "\n",
       "\n",
       "\n",
       "\n",
       "\n",
       "  <div class=\"bk-root\" id=\"b771531c-02ee-45d2-9964-90d81f28c24c\" data-root-id=\"1323\"></div>\n",
       "</div>\n",
       "<script type=\"application/javascript\">(function(root) {\n",
       "  function embed_document(root) {\n",
       "    var docs_json = {\"ba388e77-b4b4-4f3d-9260-d73ef6d5c036\":{\"defs\":[],\"roots\":{\"references\":[{\"attributes\":{\"client_comm_id\":\"5e3d854827e34df7a7628df3ffe6015b\",\"comm_id\":\"3924c62d0a1448fdb5d59f5819f75523\",\"plot_id\":\"1323\"},\"id\":\"1324\",\"type\":\"panel.models.comm_manager.CommManager\"},{\"attributes\":{\"css_classes\":[\"alert\",\"alert-secondary\",\"markdown\"],\"margin\":[0,0,25,0],\"name\":\"Alert00659\",\"sizing_mode\":\"stretch_width\",\"text\":\"&lt;p&gt;Indexation in progress with bwa index&amp;hellip;&lt;/p&gt;\"},\"id\":\"1323\",\"type\":\"panel.models.markup.HTML\"}],\"root_ids\":[\"1323\",\"1324\"]},\"title\":\"Bokeh Application\",\"version\":\"2.3.3\"}};\n",
       "    var render_items = [{\"docid\":\"ba388e77-b4b4-4f3d-9260-d73ef6d5c036\",\"root_ids\":[\"1323\"],\"roots\":{\"1323\":\"b771531c-02ee-45d2-9964-90d81f28c24c\"}}];\n",
       "    root.Bokeh.embed.embed_items_notebook(docs_json, render_items);\n",
       "  }\n",
       "  if (root.Bokeh !== undefined && root.Bokeh.Panel !== undefined) {\n",
       "    embed_document(root);\n",
       "  } else {\n",
       "    var attempts = 0;\n",
       "    var timer = setInterval(function(root) {\n",
       "      if (root.Bokeh !== undefined && root.Bokeh.Panel !== undefined) {\n",
       "        clearInterval(timer);\n",
       "        embed_document(root);\n",
       "      } else if (document.readyState == \"complete\") {\n",
       "        attempts++;\n",
       "        if (attempts > 100) {\n",
       "          clearInterval(timer);\n",
       "          console.log(\"Bokeh: ERROR: Unable to run BokehJS code because BokehJS library is missing\");\n",
       "        }\n",
       "      }\n",
       "    }, 10, root)\n",
       "  }\n",
       "})(window);</script>"
      ],
      "text/plain": [
       "Alert(str, alert_type='secondary', css_classes=['alert', 'alert-secondary...], margin=(0, 0, 25, 0), sizing_mode='stretch_width')"
      ]
     },
     "metadata": {
      "application/vnd.holoviews_exec.v0+json": {
       "id": "1323"
      }
     },
     "output_type": "display_data"
    },
    {
     "data": {},
     "metadata": {},
     "output_type": "display_data"
    },
    {
     "data": {
      "application/vnd.holoviews_exec.v0+json": "",
      "text/html": [
       "<div id='1325'>\n",
       "\n",
       "\n",
       "\n",
       "\n",
       "\n",
       "  <div class=\"bk-root\" id=\"8254aec4-50e6-4814-8caa-9bf179d86bad\" data-root-id=\"1325\"></div>\n",
       "</div>\n",
       "<script type=\"application/javascript\">(function(root) {\n",
       "  function embed_document(root) {\n",
       "    var docs_json = {\"c8b978fa-40e3-47d7-b216-e6340629d6c0\":{\"defs\":[],\"roots\":{\"references\":[{\"attributes\":{\"css_classes\":[\"alert\",\"alert-success\",\"markdown\"],\"margin\":[0,0,25,0],\"name\":\"Alert00663\",\"sizing_mode\":\"stretch_width\",\"text\":\"&lt;h3&gt;indexation with bwa index Successful&lt;/h3&gt;\\n&lt;hr&gt;\\n\\n&lt;ul&gt;\\n&lt;li&gt;REFERENCE GENOME : /home/christine/Documents/These/frangiPANeGIT2/frangiPANe_PANRice/05-panreference/PANRice_panref.fasta&lt;/li&gt;\\n&lt;li&gt;COMMAND :  bwa index /home/christine/Documents/These/frangiPANeGIT2/frangiPANe_PANRice/05-panreference/PANRice_panref.fasta&lt;/li&gt;\\n&lt;li&gt;Log bwa into log file&lt;/li&gt;\\n&lt;/ul&gt;\"},\"id\":\"1325\",\"type\":\"panel.models.markup.HTML\"},{\"attributes\":{\"client_comm_id\":\"f3f78fedff09460694c0b5bed2b4aee2\",\"comm_id\":\"c01075ee57d048de883a70515e424778\",\"plot_id\":\"1325\"},\"id\":\"1326\",\"type\":\"panel.models.comm_manager.CommManager\"}],\"root_ids\":[\"1325\",\"1326\"]},\"title\":\"Bokeh Application\",\"version\":\"2.3.3\"}};\n",
       "    var render_items = [{\"docid\":\"c8b978fa-40e3-47d7-b216-e6340629d6c0\",\"root_ids\":[\"1325\"],\"roots\":{\"1325\":\"8254aec4-50e6-4814-8caa-9bf179d86bad\"}}];\n",
       "    root.Bokeh.embed.embed_items_notebook(docs_json, render_items);\n",
       "  }\n",
       "  if (root.Bokeh !== undefined && root.Bokeh.Panel !== undefined) {\n",
       "    embed_document(root);\n",
       "  } else {\n",
       "    var attempts = 0;\n",
       "    var timer = setInterval(function(root) {\n",
       "      if (root.Bokeh !== undefined && root.Bokeh.Panel !== undefined) {\n",
       "        clearInterval(timer);\n",
       "        embed_document(root);\n",
       "      } else if (document.readyState == \"complete\") {\n",
       "        attempts++;\n",
       "        if (attempts > 100) {\n",
       "          clearInterval(timer);\n",
       "          console.log(\"Bokeh: ERROR: Unable to run BokehJS code because BokehJS library is missing\");\n",
       "        }\n",
       "      }\n",
       "    }, 10, root)\n",
       "  }\n",
       "})(window);</script>"
      ],
      "text/plain": [
       "Alert(str, alert_type='success', css_classes=['alert', 'alert-success']...], margin=(0, 0, 25, 0), sizing_mode='stretch_width')"
      ]
     },
     "metadata": {
      "application/vnd.holoviews_exec.v0+json": {
       "id": "1325"
      }
     },
     "output_type": "display_data"
    },
    {
     "data": {
      "text/html": [
       "<img src onerror=\"var cell = this.closest('.jp-CodeCell');var editor = cell.querySelector('.jp-Editor');editor.style.background='LightBlue';this.parentNode.removeChild(this)\">"
      ],
      "text/plain": [
       "<IPython.core.display.HTML object>"
      ]
     },
     "metadata": {},
     "output_type": "display_data"
    }
   ],
   "source": [
    "### create  directory\n",
    "output_panref_dir = output_dir + \"/05-panreference/\"\n",
    "make_dir(output_panref_dir)\n",
    "\n",
    "panref_fasta = output_panref_dir + project_name.value+\"_panref.fasta\"\n",
    "filenames = [ref_file.value, cdhit_fasta]\n",
    "\n",
    "with open(panref_fasta, 'w') as outfile:\n",
    "    for fname in filenames:\n",
    "        with open(fname) as infile:\n",
    "            for line in infile:\n",
    "                outfile.write(line)\n",
    "\n",
    "display_alert(f\"Panreference file successfully created : {panref_fasta}\", \"success\")\n",
    "\n",
    "index_reference_genome(panref_fasta, logger)\n",
    "#total_genome_size=dashboard_genome(panref_fasta)\n",
    "\n",
    "bgc('LightBlue')"
   ]
  },
  {
   "cell_type": "markdown",
   "metadata": {},
   "source": [
    "#### __Mapping against panreference__\n"
   ]
  },
  {
   "cell_type": "code",
   "execution_count": 22,
   "metadata": {},
   "outputs": [
    {
     "data": {
      "text/html": [
       "<img src onerror=\"var cell = this.closest('.jp-CodeCell');var editor = cell.querySelector('.jp-Editor');editor.style.background='LightBlue';this.parentNode.removeChild(this)\">"
      ],
      "text/plain": [
       "<IPython.core.display.HTML object>"
      ]
     },
     "metadata": {},
     "output_type": "display_data"
    },
    {
     "data": {},
     "metadata": {},
     "output_type": "display_data"
    },
    {
     "data": {
      "application/vnd.holoviews_exec.v0+json": "",
      "text/html": [
       "<div id='1327'>\n",
       "\n",
       "\n",
       "\n",
       "\n",
       "\n",
       "  <div class=\"bk-root\" id=\"3e4b1df7-c00d-49ab-8045-ebf8575f1c8b\" data-root-id=\"1327\"></div>\n",
       "</div>\n",
       "<script type=\"application/javascript\">(function(root) {\n",
       "  function embed_document(root) {\n",
       "    var docs_json = {\"1179944e-37c2-45e7-8e2b-73ad5f068c24\":{\"defs\":[],\"roots\":{\"references\":[{\"attributes\":{\"client_comm_id\":\"60e129d22bad455f83c4f2374d59cb74\",\"comm_id\":\"fa4dcfef20dd4273b8fcdfa221325f0e\",\"plot_id\":\"1327\"},\"id\":\"1328\",\"type\":\"panel.models.comm_manager.CommManager\"},{\"attributes\":{\"css_classes\":[\"alert\",\"alert-success\",\"markdown\"],\"margin\":[0,0,25,0],\"name\":\"Alert00667\",\"sizing_mode\":\"stretch_width\",\"text\":\"&lt;p&gt;Directory /home/christine/Documents/These/frangiPANeGIT2/frangiPANe_PANRice/05-panreference//mapping/ created&lt;/p&gt;\"},\"id\":\"1327\",\"type\":\"panel.models.markup.HTML\"}],\"root_ids\":[\"1327\",\"1328\"]},\"title\":\"Bokeh Application\",\"version\":\"2.3.3\"}};\n",
       "    var render_items = [{\"docid\":\"1179944e-37c2-45e7-8e2b-73ad5f068c24\",\"root_ids\":[\"1327\"],\"roots\":{\"1327\":\"3e4b1df7-c00d-49ab-8045-ebf8575f1c8b\"}}];\n",
       "    root.Bokeh.embed.embed_items_notebook(docs_json, render_items);\n",
       "  }\n",
       "  if (root.Bokeh !== undefined && root.Bokeh.Panel !== undefined) {\n",
       "    embed_document(root);\n",
       "  } else {\n",
       "    var attempts = 0;\n",
       "    var timer = setInterval(function(root) {\n",
       "      if (root.Bokeh !== undefined && root.Bokeh.Panel !== undefined) {\n",
       "        clearInterval(timer);\n",
       "        embed_document(root);\n",
       "      } else if (document.readyState == \"complete\") {\n",
       "        attempts++;\n",
       "        if (attempts > 100) {\n",
       "          clearInterval(timer);\n",
       "          console.log(\"Bokeh: ERROR: Unable to run BokehJS code because BokehJS library is missing\");\n",
       "        }\n",
       "      }\n",
       "    }, 10, root)\n",
       "  }\n",
       "})(window);</script>"
      ],
      "text/plain": [
       "Alert(str, alert_type='success', css_classes=['alert', 'alert-success']...], margin=(0, 0, 25, 0), sizing_mode='stretch_width')"
      ]
     },
     "metadata": {
      "application/vnd.holoviews_exec.v0+json": {
       "id": "1327"
      }
     },
     "output_type": "display_data"
    },
    {
     "data": {},
     "metadata": {},
     "output_type": "display_data"
    },
    {
     "data": {
      "application/vnd.holoviews_exec.v0+json": "",
      "text/html": [
       "<div id='1329'>\n",
       "\n",
       "\n",
       "\n",
       "\n",
       "\n",
       "  <div class=\"bk-root\" id=\"0fd5de34-3cb2-4ceb-91cc-3f34087a6140\" data-root-id=\"1329\"></div>\n",
       "</div>\n",
       "<script type=\"application/javascript\">(function(root) {\n",
       "  function embed_document(root) {\n",
       "    var docs_json = {\"8ab9c27b-5bd0-4733-bae9-dbe1bf76a4f7\":{\"defs\":[],\"roots\":{\"references\":[{\"attributes\":{\"css_classes\":[\"alert\",\"alert-info\",\"markdown\"],\"margin\":[0,0,25,0],\"name\":\"Alert00671\",\"sizing_mode\":\"stretch_width\",\"text\":\"&lt;p&gt;Starting mapping with bwa mem in /home/christine/Documents/These/frangiPANeGIT2/frangiPANe_PANRice/05-panreference//mapping/&amp;hellip;&lt;/p&gt;\"},\"id\":\"1329\",\"type\":\"panel.models.markup.HTML\"},{\"attributes\":{\"client_comm_id\":\"cb7c12c2e4eb4596aada90104a68ded1\",\"comm_id\":\"f48087a5e30b492c9a33c791ac1f5587\",\"plot_id\":\"1329\"},\"id\":\"1330\",\"type\":\"panel.models.comm_manager.CommManager\"}],\"root_ids\":[\"1329\",\"1330\"]},\"title\":\"Bokeh Application\",\"version\":\"2.3.3\"}};\n",
       "    var render_items = [{\"docid\":\"8ab9c27b-5bd0-4733-bae9-dbe1bf76a4f7\",\"root_ids\":[\"1329\"],\"roots\":{\"1329\":\"0fd5de34-3cb2-4ceb-91cc-3f34087a6140\"}}];\n",
       "    root.Bokeh.embed.embed_items_notebook(docs_json, render_items);\n",
       "  }\n",
       "  if (root.Bokeh !== undefined && root.Bokeh.Panel !== undefined) {\n",
       "    embed_document(root);\n",
       "  } else {\n",
       "    var attempts = 0;\n",
       "    var timer = setInterval(function(root) {\n",
       "      if (root.Bokeh !== undefined && root.Bokeh.Panel !== undefined) {\n",
       "        clearInterval(timer);\n",
       "        embed_document(root);\n",
       "      } else if (document.readyState == \"complete\") {\n",
       "        attempts++;\n",
       "        if (attempts > 100) {\n",
       "          clearInterval(timer);\n",
       "          console.log(\"Bokeh: ERROR: Unable to run BokehJS code because BokehJS library is missing\");\n",
       "        }\n",
       "      }\n",
       "    }, 10, root)\n",
       "  }\n",
       "})(window);</script>"
      ],
      "text/plain": [
       "Alert(str, alert_type='info', css_classes=['alert', 'alert-info'], margin=(0, 0, 25, 0), sizing_mode='stretch_width')"
      ]
     },
     "metadata": {
      "application/vnd.holoviews_exec.v0+json": {
       "id": "1329"
      }
     },
     "output_type": "display_data"
    },
    {
     "data": {},
     "metadata": {},
     "output_type": "display_data"
    },
    {
     "data": {
      "application/vnd.holoviews_exec.v0+json": "",
      "text/html": [
       "<div id='1331'>\n",
       "\n",
       "\n",
       "\n",
       "\n",
       "\n",
       "  <div class=\"bk-root\" id=\"495e1c48-4706-4b9c-91d0-5a079febe044\" data-root-id=\"1331\"></div>\n",
       "</div>\n",
       "<script type=\"application/javascript\">(function(root) {\n",
       "  function embed_document(root) {\n",
       "    var docs_json = {\"925ed8a7-9b09-4270-93a4-8548c4def0b3\":{\"defs\":[],\"roots\":{\"references\":[{\"attributes\":{\"client_comm_id\":\"709c517304b34cf888b8c5ca14a7c0fc\",\"comm_id\":\"d83d4982a1c14b688e7149816a1bcce6\",\"plot_id\":\"1331\"},\"id\":\"1332\",\"type\":\"panel.models.comm_manager.CommManager\"},{\"attributes\":{\"css_classes\":[\"alert\",\"alert-secondary\",\"markdown\"],\"margin\":[0,0,25,0],\"name\":\"Alert00675\",\"sizing_mode\":\"stretch_width\",\"text\":\"&lt;p&gt;Mapping in progress for AA&amp;hellip;&lt;/p&gt;\"},\"id\":\"1331\",\"type\":\"panel.models.markup.HTML\"}],\"root_ids\":[\"1331\",\"1332\"]},\"title\":\"Bokeh Application\",\"version\":\"2.3.3\"}};\n",
       "    var render_items = [{\"docid\":\"925ed8a7-9b09-4270-93a4-8548c4def0b3\",\"root_ids\":[\"1331\"],\"roots\":{\"1331\":\"495e1c48-4706-4b9c-91d0-5a079febe044\"}}];\n",
       "    root.Bokeh.embed.embed_items_notebook(docs_json, render_items);\n",
       "  }\n",
       "  if (root.Bokeh !== undefined && root.Bokeh.Panel !== undefined) {\n",
       "    embed_document(root);\n",
       "  } else {\n",
       "    var attempts = 0;\n",
       "    var timer = setInterval(function(root) {\n",
       "      if (root.Bokeh !== undefined && root.Bokeh.Panel !== undefined) {\n",
       "        clearInterval(timer);\n",
       "        embed_document(root);\n",
       "      } else if (document.readyState == \"complete\") {\n",
       "        attempts++;\n",
       "        if (attempts > 100) {\n",
       "          clearInterval(timer);\n",
       "          console.log(\"Bokeh: ERROR: Unable to run BokehJS code because BokehJS library is missing\");\n",
       "        }\n",
       "      }\n",
       "    }, 10, root)\n",
       "  }\n",
       "})(window);</script>"
      ],
      "text/plain": [
       "Alert(str, alert_type='secondary', css_classes=['alert', 'alert-secondary...], margin=(0, 0, 25, 0), sizing_mode='stretch_width')"
      ]
     },
     "metadata": {
      "application/vnd.holoviews_exec.v0+json": {
       "id": "1331"
      }
     },
     "output_type": "display_data"
    },
    {
     "data": {},
     "metadata": {},
     "output_type": "display_data"
    },
    {
     "data": {
      "application/vnd.holoviews_exec.v0+json": "",
      "text/html": [
       "<div id='1333'>\n",
       "\n",
       "\n",
       "\n",
       "\n",
       "\n",
       "  <div class=\"bk-root\" id=\"175ff8f9-9d31-42a5-bf05-ac59e4ad1e19\" data-root-id=\"1333\"></div>\n",
       "</div>\n",
       "<script type=\"application/javascript\">(function(root) {\n",
       "  function embed_document(root) {\n",
       "    var docs_json = {\"9c53f44c-bb8c-4eca-94d5-f028bfde00dc\":{\"defs\":[],\"roots\":{\"references\":[{\"attributes\":{\"client_comm_id\":\"f02a0e16f145434fa5fa4905dd482546\",\"comm_id\":\"c739cd2dcd5d419382c0582c07de6ba5\",\"plot_id\":\"1333\"},\"id\":\"1334\",\"type\":\"panel.models.comm_manager.CommManager\"},{\"attributes\":{\"css_classes\":[\"alert\",\"alert-success\",\"markdown\"],\"margin\":[0,0,25,0],\"name\":\"Alert00679\",\"sizing_mode\":\"stretch_width\",\"text\":\"&lt;p&gt;bwa mem executed successfully (/home/christine/Documents/These/frangiPANeGIT2/frangiPANe_PANRice/05-panreference//mapping/AA.sam)&lt;/p&gt;\"},\"id\":\"1333\",\"type\":\"panel.models.markup.HTML\"}],\"root_ids\":[\"1333\",\"1334\"]},\"title\":\"Bokeh Application\",\"version\":\"2.3.3\"}};\n",
       "    var render_items = [{\"docid\":\"9c53f44c-bb8c-4eca-94d5-f028bfde00dc\",\"root_ids\":[\"1333\"],\"roots\":{\"1333\":\"175ff8f9-9d31-42a5-bf05-ac59e4ad1e19\"}}];\n",
       "    root.Bokeh.embed.embed_items_notebook(docs_json, render_items);\n",
       "  }\n",
       "  if (root.Bokeh !== undefined && root.Bokeh.Panel !== undefined) {\n",
       "    embed_document(root);\n",
       "  } else {\n",
       "    var attempts = 0;\n",
       "    var timer = setInterval(function(root) {\n",
       "      if (root.Bokeh !== undefined && root.Bokeh.Panel !== undefined) {\n",
       "        clearInterval(timer);\n",
       "        embed_document(root);\n",
       "      } else if (document.readyState == \"complete\") {\n",
       "        attempts++;\n",
       "        if (attempts > 100) {\n",
       "          clearInterval(timer);\n",
       "          console.log(\"Bokeh: ERROR: Unable to run BokehJS code because BokehJS library is missing\");\n",
       "        }\n",
       "      }\n",
       "    }, 10, root)\n",
       "  }\n",
       "})(window);</script>"
      ],
      "text/plain": [
       "Alert(str, alert_type='success', css_classes=['alert', 'alert-success']...], margin=(0, 0, 25, 0), sizing_mode='stretch_width')"
      ]
     },
     "metadata": {
      "application/vnd.holoviews_exec.v0+json": {
       "id": "1333"
      }
     },
     "output_type": "display_data"
    },
    {
     "data": {},
     "metadata": {},
     "output_type": "display_data"
    },
    {
     "data": {
      "application/vnd.holoviews_exec.v0+json": "",
      "text/html": [
       "<div id='1335'>\n",
       "\n",
       "\n",
       "\n",
       "\n",
       "\n",
       "  <div class=\"bk-root\" id=\"82c54411-e2b2-495b-83b6-c6ef32020dec\" data-root-id=\"1335\"></div>\n",
       "</div>\n",
       "<script type=\"application/javascript\">(function(root) {\n",
       "  function embed_document(root) {\n",
       "    var docs_json = {\"06fe2a99-58cc-43b8-a960-f73555f63ded\":{\"defs\":[],\"roots\":{\"references\":[{\"attributes\":{\"css_classes\":[\"alert\",\"alert-secondary\",\"markdown\"],\"margin\":[0,0,25,0],\"name\":\"Alert00683\",\"sizing_mode\":\"stretch_width\",\"text\":\"&lt;p&gt;Sort bam file in progress for AA&amp;hellip;&lt;/p&gt;\"},\"id\":\"1335\",\"type\":\"panel.models.markup.HTML\"},{\"attributes\":{\"client_comm_id\":\"81dd979b421947ec9cbdb1504347c28e\",\"comm_id\":\"7069d9a4f286454a87c233d5dfa213a0\",\"plot_id\":\"1335\"},\"id\":\"1336\",\"type\":\"panel.models.comm_manager.CommManager\"}],\"root_ids\":[\"1335\",\"1336\"]},\"title\":\"Bokeh Application\",\"version\":\"2.3.3\"}};\n",
       "    var render_items = [{\"docid\":\"06fe2a99-58cc-43b8-a960-f73555f63ded\",\"root_ids\":[\"1335\"],\"roots\":{\"1335\":\"82c54411-e2b2-495b-83b6-c6ef32020dec\"}}];\n",
       "    root.Bokeh.embed.embed_items_notebook(docs_json, render_items);\n",
       "  }\n",
       "  if (root.Bokeh !== undefined && root.Bokeh.Panel !== undefined) {\n",
       "    embed_document(root);\n",
       "  } else {\n",
       "    var attempts = 0;\n",
       "    var timer = setInterval(function(root) {\n",
       "      if (root.Bokeh !== undefined && root.Bokeh.Panel !== undefined) {\n",
       "        clearInterval(timer);\n",
       "        embed_document(root);\n",
       "      } else if (document.readyState == \"complete\") {\n",
       "        attempts++;\n",
       "        if (attempts > 100) {\n",
       "          clearInterval(timer);\n",
       "          console.log(\"Bokeh: ERROR: Unable to run BokehJS code because BokehJS library is missing\");\n",
       "        }\n",
       "      }\n",
       "    }, 10, root)\n",
       "  }\n",
       "})(window);</script>"
      ],
      "text/plain": [
       "Alert(str, alert_type='secondary', css_classes=['alert', 'alert-secondary...], margin=(0, 0, 25, 0), sizing_mode='stretch_width')"
      ]
     },
     "metadata": {
      "application/vnd.holoviews_exec.v0+json": {
       "id": "1335"
      }
     },
     "output_type": "display_data"
    },
    {
     "data": {},
     "metadata": {},
     "output_type": "display_data"
    },
    {
     "data": {
      "application/vnd.holoviews_exec.v0+json": "",
      "text/html": [
       "<div id='1337'>\n",
       "\n",
       "\n",
       "\n",
       "\n",
       "\n",
       "  <div class=\"bk-root\" id=\"2b223e53-d800-4acc-9a12-06bfc693f379\" data-root-id=\"1337\"></div>\n",
       "</div>\n",
       "<script type=\"application/javascript\">(function(root) {\n",
       "  function embed_document(root) {\n",
       "    var docs_json = {\"fd4d2b7c-44bd-4b37-9798-10785dbe8ba1\":{\"defs\":[],\"roots\":{\"references\":[{\"attributes\":{\"css_classes\":[\"alert\",\"alert-success\",\"markdown\"],\"margin\":[0,0,25,0],\"name\":\"Alert00687\",\"sizing_mode\":\"stretch_width\",\"text\":\"&lt;p&gt;Sort bam file  successfully executed (/home/christine/Documents/These/frangiPANeGIT2/frangiPANe_PANRice/05-panreference//mapping/AA.bam)&lt;/p&gt;\"},\"id\":\"1337\",\"type\":\"panel.models.markup.HTML\"},{\"attributes\":{\"client_comm_id\":\"1e56319f784641f5a49fbd67ed83dd54\",\"comm_id\":\"2cac46f750d74bcd9de8d695ee4cb2d7\",\"plot_id\":\"1337\"},\"id\":\"1338\",\"type\":\"panel.models.comm_manager.CommManager\"}],\"root_ids\":[\"1337\",\"1338\"]},\"title\":\"Bokeh Application\",\"version\":\"2.3.3\"}};\n",
       "    var render_items = [{\"docid\":\"fd4d2b7c-44bd-4b37-9798-10785dbe8ba1\",\"root_ids\":[\"1337\"],\"roots\":{\"1337\":\"2b223e53-d800-4acc-9a12-06bfc693f379\"}}];\n",
       "    root.Bokeh.embed.embed_items_notebook(docs_json, render_items);\n",
       "  }\n",
       "  if (root.Bokeh !== undefined && root.Bokeh.Panel !== undefined) {\n",
       "    embed_document(root);\n",
       "  } else {\n",
       "    var attempts = 0;\n",
       "    var timer = setInterval(function(root) {\n",
       "      if (root.Bokeh !== undefined && root.Bokeh.Panel !== undefined) {\n",
       "        clearInterval(timer);\n",
       "        embed_document(root);\n",
       "      } else if (document.readyState == \"complete\") {\n",
       "        attempts++;\n",
       "        if (attempts > 100) {\n",
       "          clearInterval(timer);\n",
       "          console.log(\"Bokeh: ERROR: Unable to run BokehJS code because BokehJS library is missing\");\n",
       "        }\n",
       "      }\n",
       "    }, 10, root)\n",
       "  }\n",
       "})(window);</script>"
      ],
      "text/plain": [
       "Alert(str, alert_type='success', css_classes=['alert', 'alert-success']...], margin=(0, 0, 25, 0), sizing_mode='stretch_width')"
      ]
     },
     "metadata": {
      "application/vnd.holoviews_exec.v0+json": {
       "id": "1337"
      }
     },
     "output_type": "display_data"
    },
    {
     "data": {},
     "metadata": {},
     "output_type": "display_data"
    },
    {
     "data": {
      "application/vnd.holoviews_exec.v0+json": "",
      "text/html": [
       "<div id='1339'>\n",
       "\n",
       "\n",
       "\n",
       "\n",
       "\n",
       "  <div class=\"bk-root\" id=\"e7b030f1-151c-41b2-ba7f-f72d9b1387b2\" data-root-id=\"1339\"></div>\n",
       "</div>\n",
       "<script type=\"application/javascript\">(function(root) {\n",
       "  function embed_document(root) {\n",
       "    var docs_json = {\"19dc523f-ec54-4e4a-9559-c482e1ca1b09\":{\"defs\":[],\"roots\":{\"references\":[{\"attributes\":{\"css_classes\":[\"alert\",\"alert-secondary\",\"markdown\"],\"margin\":[0,0,25,0],\"name\":\"Alert00691\",\"sizing_mode\":\"stretch_width\",\"text\":\"&lt;p&gt;Mapping in progress for AB&amp;hellip;&lt;/p&gt;\"},\"id\":\"1339\",\"type\":\"panel.models.markup.HTML\"},{\"attributes\":{\"client_comm_id\":\"f1f5ad3baf5b4b2bb8ef02b49d6ef20d\",\"comm_id\":\"00a844ba799648039958118e0da4225c\",\"plot_id\":\"1339\"},\"id\":\"1340\",\"type\":\"panel.models.comm_manager.CommManager\"}],\"root_ids\":[\"1339\",\"1340\"]},\"title\":\"Bokeh Application\",\"version\":\"2.3.3\"}};\n",
       "    var render_items = [{\"docid\":\"19dc523f-ec54-4e4a-9559-c482e1ca1b09\",\"root_ids\":[\"1339\"],\"roots\":{\"1339\":\"e7b030f1-151c-41b2-ba7f-f72d9b1387b2\"}}];\n",
       "    root.Bokeh.embed.embed_items_notebook(docs_json, render_items);\n",
       "  }\n",
       "  if (root.Bokeh !== undefined && root.Bokeh.Panel !== undefined) {\n",
       "    embed_document(root);\n",
       "  } else {\n",
       "    var attempts = 0;\n",
       "    var timer = setInterval(function(root) {\n",
       "      if (root.Bokeh !== undefined && root.Bokeh.Panel !== undefined) {\n",
       "        clearInterval(timer);\n",
       "        embed_document(root);\n",
       "      } else if (document.readyState == \"complete\") {\n",
       "        attempts++;\n",
       "        if (attempts > 100) {\n",
       "          clearInterval(timer);\n",
       "          console.log(\"Bokeh: ERROR: Unable to run BokehJS code because BokehJS library is missing\");\n",
       "        }\n",
       "      }\n",
       "    }, 10, root)\n",
       "  }\n",
       "})(window);</script>"
      ],
      "text/plain": [
       "Alert(str, alert_type='secondary', css_classes=['alert', 'alert-secondary...], margin=(0, 0, 25, 0), sizing_mode='stretch_width')"
      ]
     },
     "metadata": {
      "application/vnd.holoviews_exec.v0+json": {
       "id": "1339"
      }
     },
     "output_type": "display_data"
    },
    {
     "data": {},
     "metadata": {},
     "output_type": "display_data"
    },
    {
     "data": {
      "application/vnd.holoviews_exec.v0+json": "",
      "text/html": [
       "<div id='1341'>\n",
       "\n",
       "\n",
       "\n",
       "\n",
       "\n",
       "  <div class=\"bk-root\" id=\"2ac83648-bcfb-4483-8dbc-153b91b6db9b\" data-root-id=\"1341\"></div>\n",
       "</div>\n",
       "<script type=\"application/javascript\">(function(root) {\n",
       "  function embed_document(root) {\n",
       "    var docs_json = {\"89850a43-ba30-4760-827c-2d164585a177\":{\"defs\":[],\"roots\":{\"references\":[{\"attributes\":{\"css_classes\":[\"alert\",\"alert-success\",\"markdown\"],\"margin\":[0,0,25,0],\"name\":\"Alert00695\",\"sizing_mode\":\"stretch_width\",\"text\":\"&lt;p&gt;bwa mem executed successfully (/home/christine/Documents/These/frangiPANeGIT2/frangiPANe_PANRice/05-panreference//mapping/AB.sam)&lt;/p&gt;\"},\"id\":\"1341\",\"type\":\"panel.models.markup.HTML\"},{\"attributes\":{\"client_comm_id\":\"88d68ab15bfb4831ae88ec1c7a7a7353\",\"comm_id\":\"1f1e7e8fe7f344e99c3e3be1ac11d04b\",\"plot_id\":\"1341\"},\"id\":\"1342\",\"type\":\"panel.models.comm_manager.CommManager\"}],\"root_ids\":[\"1341\",\"1342\"]},\"title\":\"Bokeh Application\",\"version\":\"2.3.3\"}};\n",
       "    var render_items = [{\"docid\":\"89850a43-ba30-4760-827c-2d164585a177\",\"root_ids\":[\"1341\"],\"roots\":{\"1341\":\"2ac83648-bcfb-4483-8dbc-153b91b6db9b\"}}];\n",
       "    root.Bokeh.embed.embed_items_notebook(docs_json, render_items);\n",
       "  }\n",
       "  if (root.Bokeh !== undefined && root.Bokeh.Panel !== undefined) {\n",
       "    embed_document(root);\n",
       "  } else {\n",
       "    var attempts = 0;\n",
       "    var timer = setInterval(function(root) {\n",
       "      if (root.Bokeh !== undefined && root.Bokeh.Panel !== undefined) {\n",
       "        clearInterval(timer);\n",
       "        embed_document(root);\n",
       "      } else if (document.readyState == \"complete\") {\n",
       "        attempts++;\n",
       "        if (attempts > 100) {\n",
       "          clearInterval(timer);\n",
       "          console.log(\"Bokeh: ERROR: Unable to run BokehJS code because BokehJS library is missing\");\n",
       "        }\n",
       "      }\n",
       "    }, 10, root)\n",
       "  }\n",
       "})(window);</script>"
      ],
      "text/plain": [
       "Alert(str, alert_type='success', css_classes=['alert', 'alert-success']...], margin=(0, 0, 25, 0), sizing_mode='stretch_width')"
      ]
     },
     "metadata": {
      "application/vnd.holoviews_exec.v0+json": {
       "id": "1341"
      }
     },
     "output_type": "display_data"
    },
    {
     "data": {},
     "metadata": {},
     "output_type": "display_data"
    },
    {
     "data": {
      "application/vnd.holoviews_exec.v0+json": "",
      "text/html": [
       "<div id='1343'>\n",
       "\n",
       "\n",
       "\n",
       "\n",
       "\n",
       "  <div class=\"bk-root\" id=\"fe064838-0fb7-4f0c-830c-1faba735dbdf\" data-root-id=\"1343\"></div>\n",
       "</div>\n",
       "<script type=\"application/javascript\">(function(root) {\n",
       "  function embed_document(root) {\n",
       "    var docs_json = {\"b93bae38-6b7f-4bb1-a027-647169bdd67d\":{\"defs\":[],\"roots\":{\"references\":[{\"attributes\":{\"css_classes\":[\"alert\",\"alert-secondary\",\"markdown\"],\"margin\":[0,0,25,0],\"name\":\"Alert00699\",\"sizing_mode\":\"stretch_width\",\"text\":\"&lt;p&gt;Sort bam file in progress for AB&amp;hellip;&lt;/p&gt;\"},\"id\":\"1343\",\"type\":\"panel.models.markup.HTML\"},{\"attributes\":{\"client_comm_id\":\"cc754d4c59a547cc9574f8393a2860d3\",\"comm_id\":\"637f3d774e044373be296aac1a1d5716\",\"plot_id\":\"1343\"},\"id\":\"1344\",\"type\":\"panel.models.comm_manager.CommManager\"}],\"root_ids\":[\"1343\",\"1344\"]},\"title\":\"Bokeh Application\",\"version\":\"2.3.3\"}};\n",
       "    var render_items = [{\"docid\":\"b93bae38-6b7f-4bb1-a027-647169bdd67d\",\"root_ids\":[\"1343\"],\"roots\":{\"1343\":\"fe064838-0fb7-4f0c-830c-1faba735dbdf\"}}];\n",
       "    root.Bokeh.embed.embed_items_notebook(docs_json, render_items);\n",
       "  }\n",
       "  if (root.Bokeh !== undefined && root.Bokeh.Panel !== undefined) {\n",
       "    embed_document(root);\n",
       "  } else {\n",
       "    var attempts = 0;\n",
       "    var timer = setInterval(function(root) {\n",
       "      if (root.Bokeh !== undefined && root.Bokeh.Panel !== undefined) {\n",
       "        clearInterval(timer);\n",
       "        embed_document(root);\n",
       "      } else if (document.readyState == \"complete\") {\n",
       "        attempts++;\n",
       "        if (attempts > 100) {\n",
       "          clearInterval(timer);\n",
       "          console.log(\"Bokeh: ERROR: Unable to run BokehJS code because BokehJS library is missing\");\n",
       "        }\n",
       "      }\n",
       "    }, 10, root)\n",
       "  }\n",
       "})(window);</script>"
      ],
      "text/plain": [
       "Alert(str, alert_type='secondary', css_classes=['alert', 'alert-secondary...], margin=(0, 0, 25, 0), sizing_mode='stretch_width')"
      ]
     },
     "metadata": {
      "application/vnd.holoviews_exec.v0+json": {
       "id": "1343"
      }
     },
     "output_type": "display_data"
    },
    {
     "data": {},
     "metadata": {},
     "output_type": "display_data"
    },
    {
     "data": {
      "application/vnd.holoviews_exec.v0+json": "",
      "text/html": [
       "<div id='1345'>\n",
       "\n",
       "\n",
       "\n",
       "\n",
       "\n",
       "  <div class=\"bk-root\" id=\"0a0a78a5-64c6-4972-a705-898c9a2ff953\" data-root-id=\"1345\"></div>\n",
       "</div>\n",
       "<script type=\"application/javascript\">(function(root) {\n",
       "  function embed_document(root) {\n",
       "    var docs_json = {\"4050c58d-fb9f-48c1-b590-671be254782d\":{\"defs\":[],\"roots\":{\"references\":[{\"attributes\":{\"client_comm_id\":\"b00d03fba6d14861ba6e0c574aeb1e0b\",\"comm_id\":\"3dab2fa2b8b7480ca74e337b3b76215c\",\"plot_id\":\"1345\"},\"id\":\"1346\",\"type\":\"panel.models.comm_manager.CommManager\"},{\"attributes\":{\"css_classes\":[\"alert\",\"alert-success\",\"markdown\"],\"margin\":[0,0,25,0],\"name\":\"Alert00703\",\"sizing_mode\":\"stretch_width\",\"text\":\"&lt;p&gt;Sort bam file  successfully executed (/home/christine/Documents/These/frangiPANeGIT2/frangiPANe_PANRice/05-panreference//mapping/AB.bam)&lt;/p&gt;\"},\"id\":\"1345\",\"type\":\"panel.models.markup.HTML\"}],\"root_ids\":[\"1345\",\"1346\"]},\"title\":\"Bokeh Application\",\"version\":\"2.3.3\"}};\n",
       "    var render_items = [{\"docid\":\"4050c58d-fb9f-48c1-b590-671be254782d\",\"root_ids\":[\"1345\"],\"roots\":{\"1345\":\"0a0a78a5-64c6-4972-a705-898c9a2ff953\"}}];\n",
       "    root.Bokeh.embed.embed_items_notebook(docs_json, render_items);\n",
       "  }\n",
       "  if (root.Bokeh !== undefined && root.Bokeh.Panel !== undefined) {\n",
       "    embed_document(root);\n",
       "  } else {\n",
       "    var attempts = 0;\n",
       "    var timer = setInterval(function(root) {\n",
       "      if (root.Bokeh !== undefined && root.Bokeh.Panel !== undefined) {\n",
       "        clearInterval(timer);\n",
       "        embed_document(root);\n",
       "      } else if (document.readyState == \"complete\") {\n",
       "        attempts++;\n",
       "        if (attempts > 100) {\n",
       "          clearInterval(timer);\n",
       "          console.log(\"Bokeh: ERROR: Unable to run BokehJS code because BokehJS library is missing\");\n",
       "        }\n",
       "      }\n",
       "    }, 10, root)\n",
       "  }\n",
       "})(window);</script>"
      ],
      "text/plain": [
       "Alert(str, alert_type='success', css_classes=['alert', 'alert-success']...], margin=(0, 0, 25, 0), sizing_mode='stretch_width')"
      ]
     },
     "metadata": {
      "application/vnd.holoviews_exec.v0+json": {
       "id": "1345"
      }
     },
     "output_type": "display_data"
    },
    {
     "data": {},
     "metadata": {},
     "output_type": "display_data"
    },
    {
     "data": {
      "application/vnd.holoviews_exec.v0+json": "",
      "text/html": [
       "<div id='1347'>\n",
       "\n",
       "\n",
       "\n",
       "\n",
       "\n",
       "  <div class=\"bk-root\" id=\"f1bf8852-f5a3-4b41-ac7d-7cdd555e33db\" data-root-id=\"1347\"></div>\n",
       "</div>\n",
       "<script type=\"application/javascript\">(function(root) {\n",
       "  function embed_document(root) {\n",
       "    var docs_json = {\"0e2135ec-07c9-4183-a98a-3d9a6764af58\":{\"defs\":[],\"roots\":{\"references\":[{\"attributes\":{\"css_classes\":[\"alert\",\"alert-success\",\"markdown\"],\"margin\":[0,0,25,0],\"name\":\"Alert00707\",\"sizing_mode\":\"stretch_width\",\"text\":\"&lt;h3&gt;Mapping step done with bwa mem and samtools sort&lt;/h3&gt;\\n&lt;hr&gt;\\n\\n&lt;ul&gt;\\n&lt;li&gt;FASTQ DIR : /home/christine/Documents/These/frangiPANeGIT/rice/fastq2&lt;/li&gt;\\n&lt;li&gt;BAM DIR : /home/christine/Documents/These/frangiPANeGIT2/frangiPANe_PANRice/05-panreference//mapping/&lt;/li&gt;\\n&lt;/ul&gt;\"},\"id\":\"1347\",\"type\":\"panel.models.markup.HTML\"},{\"attributes\":{\"client_comm_id\":\"dcfe901a9c60470b8b50d24418834e4e\",\"comm_id\":\"fbe35ae2fa9a483285cc47d7dc7832c6\",\"plot_id\":\"1347\"},\"id\":\"1348\",\"type\":\"panel.models.comm_manager.CommManager\"}],\"root_ids\":[\"1347\",\"1348\"]},\"title\":\"Bokeh Application\",\"version\":\"2.3.3\"}};\n",
       "    var render_items = [{\"docid\":\"0e2135ec-07c9-4183-a98a-3d9a6764af58\",\"root_ids\":[\"1347\"],\"roots\":{\"1347\":\"f1bf8852-f5a3-4b41-ac7d-7cdd555e33db\"}}];\n",
       "    root.Bokeh.embed.embed_items_notebook(docs_json, render_items);\n",
       "  }\n",
       "  if (root.Bokeh !== undefined && root.Bokeh.Panel !== undefined) {\n",
       "    embed_document(root);\n",
       "  } else {\n",
       "    var attempts = 0;\n",
       "    var timer = setInterval(function(root) {\n",
       "      if (root.Bokeh !== undefined && root.Bokeh.Panel !== undefined) {\n",
       "        clearInterval(timer);\n",
       "        embed_document(root);\n",
       "      } else if (document.readyState == \"complete\") {\n",
       "        attempts++;\n",
       "        if (attempts > 100) {\n",
       "          clearInterval(timer);\n",
       "          console.log(\"Bokeh: ERROR: Unable to run BokehJS code because BokehJS library is missing\");\n",
       "        }\n",
       "      }\n",
       "    }, 10, root)\n",
       "  }\n",
       "})(window);</script>"
      ],
      "text/plain": [
       "Alert(str, alert_type='success', css_classes=['alert', 'alert-success']...], margin=(0, 0, 25, 0), sizing_mode='stretch_width')"
      ]
     },
     "metadata": {
      "application/vnd.holoviews_exec.v0+json": {
       "id": "1347"
      }
     },
     "output_type": "display_data"
    },
    {
     "data": {},
     "metadata": {},
     "output_type": "display_data"
    },
    {
     "data": {
      "application/vnd.holoviews_exec.v0+json": "",
      "text/html": [
       "<div id='1349'>\n",
       "\n",
       "\n",
       "\n",
       "\n",
       "\n",
       "  <div class=\"bk-root\" id=\"9b9e4615-3908-49f1-b2c8-d845998f823a\" data-root-id=\"1349\"></div>\n",
       "</div>\n",
       "<script type=\"application/javascript\">(function(root) {\n",
       "  function embed_document(root) {\n",
       "    var docs_json = {\"cb5c7a33-6715-43b6-82d9-4ada70ae8d4c\":{\"defs\":[],\"roots\":{\"references\":[{\"attributes\":{\"client_comm_id\":\"5d53e2c23fd8473d8b9e5d90419c9bf6\",\"comm_id\":\"3b30e46aba834eafa11d58c1009306fa\",\"plot_id\":\"1349\"},\"id\":\"1350\",\"type\":\"panel.models.comm_manager.CommManager\"},{\"attributes\":{\"css_classes\":[\"alert\",\"alert-success\",\"markdown\"],\"margin\":[0,0,25,0],\"name\":\"Alert00711\",\"sizing_mode\":\"stretch_width\",\"text\":\"&lt;p&gt;Directory /home/christine/Documents/These/frangiPANeGIT2/frangiPANe_PANRice/05-panreference//mapping_stat/ created&lt;/p&gt;\"},\"id\":\"1349\",\"type\":\"panel.models.markup.HTML\"}],\"root_ids\":[\"1349\",\"1350\"]},\"title\":\"Bokeh Application\",\"version\":\"2.3.3\"}};\n",
       "    var render_items = [{\"docid\":\"cb5c7a33-6715-43b6-82d9-4ada70ae8d4c\",\"root_ids\":[\"1349\"],\"roots\":{\"1349\":\"9b9e4615-3908-49f1-b2c8-d845998f823a\"}}];\n",
       "    root.Bokeh.embed.embed_items_notebook(docs_json, render_items);\n",
       "  }\n",
       "  if (root.Bokeh !== undefined && root.Bokeh.Panel !== undefined) {\n",
       "    embed_document(root);\n",
       "  } else {\n",
       "    var attempts = 0;\n",
       "    var timer = setInterval(function(root) {\n",
       "      if (root.Bokeh !== undefined && root.Bokeh.Panel !== undefined) {\n",
       "        clearInterval(timer);\n",
       "        embed_document(root);\n",
       "      } else if (document.readyState == \"complete\") {\n",
       "        attempts++;\n",
       "        if (attempts > 100) {\n",
       "          clearInterval(timer);\n",
       "          console.log(\"Bokeh: ERROR: Unable to run BokehJS code because BokehJS library is missing\");\n",
       "        }\n",
       "      }\n",
       "    }, 10, root)\n",
       "  }\n",
       "})(window);</script>"
      ],
      "text/plain": [
       "Alert(str, alert_type='success', css_classes=['alert', 'alert-success']...], margin=(0, 0, 25, 0), sizing_mode='stretch_width')"
      ]
     },
     "metadata": {
      "application/vnd.holoviews_exec.v0+json": {
       "id": "1349"
      }
     },
     "output_type": "display_data"
    },
    {
     "data": {},
     "metadata": {},
     "output_type": "display_data"
    },
    {
     "data": {
      "application/vnd.holoviews_exec.v0+json": "",
      "text/html": [
       "<div id='1351'>\n",
       "\n",
       "\n",
       "\n",
       "\n",
       "\n",
       "  <div class=\"bk-root\" id=\"2981d6df-b7eb-4ebd-acaf-79f1afcd5d3a\" data-root-id=\"1351\"></div>\n",
       "</div>\n",
       "<script type=\"application/javascript\">(function(root) {\n",
       "  function embed_document(root) {\n",
       "    var docs_json = {\"350ee867-3b5e-4596-bdf0-16ae3b576dc6\":{\"defs\":[],\"roots\":{\"references\":[{\"attributes\":{\"client_comm_id\":\"a84452e4f0d94d08b32e7e3333fce782\",\"comm_id\":\"ec2073bf037a40dc85c94e16f036b63c\",\"plot_id\":\"1351\"},\"id\":\"1352\",\"type\":\"panel.models.comm_manager.CommManager\"},{\"attributes\":{\"css_classes\":[\"alert\",\"alert-secondary\",\"markdown\"],\"margin\":[0,0,25,0],\"name\":\"Alert00715\",\"sizing_mode\":\"stretch_width\",\"text\":\"&lt;p&gt;Bam indexing AA.bam&amp;hellip;&lt;/p&gt;\"},\"id\":\"1351\",\"type\":\"panel.models.markup.HTML\"}],\"root_ids\":[\"1351\",\"1352\"]},\"title\":\"Bokeh Application\",\"version\":\"2.3.3\"}};\n",
       "    var render_items = [{\"docid\":\"350ee867-3b5e-4596-bdf0-16ae3b576dc6\",\"root_ids\":[\"1351\"],\"roots\":{\"1351\":\"2981d6df-b7eb-4ebd-acaf-79f1afcd5d3a\"}}];\n",
       "    root.Bokeh.embed.embed_items_notebook(docs_json, render_items);\n",
       "  }\n",
       "  if (root.Bokeh !== undefined && root.Bokeh.Panel !== undefined) {\n",
       "    embed_document(root);\n",
       "  } else {\n",
       "    var attempts = 0;\n",
       "    var timer = setInterval(function(root) {\n",
       "      if (root.Bokeh !== undefined && root.Bokeh.Panel !== undefined) {\n",
       "        clearInterval(timer);\n",
       "        embed_document(root);\n",
       "      } else if (document.readyState == \"complete\") {\n",
       "        attempts++;\n",
       "        if (attempts > 100) {\n",
       "          clearInterval(timer);\n",
       "          console.log(\"Bokeh: ERROR: Unable to run BokehJS code because BokehJS library is missing\");\n",
       "        }\n",
       "      }\n",
       "    }, 10, root)\n",
       "  }\n",
       "})(window);</script>"
      ],
      "text/plain": [
       "Alert(str, alert_type='secondary', css_classes=['alert', 'alert-secondary...], margin=(0, 0, 25, 0), sizing_mode='stretch_width')"
      ]
     },
     "metadata": {
      "application/vnd.holoviews_exec.v0+json": {
       "id": "1351"
      }
     },
     "output_type": "display_data"
    },
    {
     "data": {},
     "metadata": {},
     "output_type": "display_data"
    },
    {
     "data": {
      "application/vnd.holoviews_exec.v0+json": "",
      "text/html": [
       "<div id='1353'>\n",
       "\n",
       "\n",
       "\n",
       "\n",
       "\n",
       "  <div class=\"bk-root\" id=\"14aebfd4-e060-4994-b46e-787214c2dbf4\" data-root-id=\"1353\"></div>\n",
       "</div>\n",
       "<script type=\"application/javascript\">(function(root) {\n",
       "  function embed_document(root) {\n",
       "    var docs_json = {\"49f0d8ab-5043-4af2-be81-a8dba5602be0\":{\"defs\":[],\"roots\":{\"references\":[{\"attributes\":{\"client_comm_id\":\"7f703e533f47474b80aa3922676b16ca\",\"comm_id\":\"30c505046dba4e6a95497b71320cb536\",\"plot_id\":\"1353\"},\"id\":\"1354\",\"type\":\"panel.models.comm_manager.CommManager\"},{\"attributes\":{\"css_classes\":[\"alert\",\"alert-success\",\"markdown\"],\"margin\":[0,0,25,0],\"name\":\"Alert00719\",\"sizing_mode\":\"stretch_width\",\"text\":\"&lt;p&gt;samtools index executed successfully)&lt;/p&gt;\"},\"id\":\"1353\",\"type\":\"panel.models.markup.HTML\"}],\"root_ids\":[\"1353\",\"1354\"]},\"title\":\"Bokeh Application\",\"version\":\"2.3.3\"}};\n",
       "    var render_items = [{\"docid\":\"49f0d8ab-5043-4af2-be81-a8dba5602be0\",\"root_ids\":[\"1353\"],\"roots\":{\"1353\":\"14aebfd4-e060-4994-b46e-787214c2dbf4\"}}];\n",
       "    root.Bokeh.embed.embed_items_notebook(docs_json, render_items);\n",
       "  }\n",
       "  if (root.Bokeh !== undefined && root.Bokeh.Panel !== undefined) {\n",
       "    embed_document(root);\n",
       "  } else {\n",
       "    var attempts = 0;\n",
       "    var timer = setInterval(function(root) {\n",
       "      if (root.Bokeh !== undefined && root.Bokeh.Panel !== undefined) {\n",
       "        clearInterval(timer);\n",
       "        embed_document(root);\n",
       "      } else if (document.readyState == \"complete\") {\n",
       "        attempts++;\n",
       "        if (attempts > 100) {\n",
       "          clearInterval(timer);\n",
       "          console.log(\"Bokeh: ERROR: Unable to run BokehJS code because BokehJS library is missing\");\n",
       "        }\n",
       "      }\n",
       "    }, 10, root)\n",
       "  }\n",
       "})(window);</script>"
      ],
      "text/plain": [
       "Alert(str, alert_type='success', css_classes=['alert', 'alert-success']...], margin=(0, 0, 25, 0), sizing_mode='stretch_width')"
      ]
     },
     "metadata": {
      "application/vnd.holoviews_exec.v0+json": {
       "id": "1353"
      }
     },
     "output_type": "display_data"
    },
    {
     "data": {},
     "metadata": {},
     "output_type": "display_data"
    },
    {
     "data": {
      "application/vnd.holoviews_exec.v0+json": "",
      "text/html": [
       "<div id='1355'>\n",
       "\n",
       "\n",
       "\n",
       "\n",
       "\n",
       "  <div class=\"bk-root\" id=\"2d3aaff8-aed6-475e-a9b2-af17be3e477c\" data-root-id=\"1355\"></div>\n",
       "</div>\n",
       "<script type=\"application/javascript\">(function(root) {\n",
       "  function embed_document(root) {\n",
       "    var docs_json = {\"e3c8b9c2-6fa5-452d-bb48-496d0cd498d6\":{\"defs\":[],\"roots\":{\"references\":[{\"attributes\":{\"client_comm_id\":\"164d97d419874764a40e010bb97a4276\",\"comm_id\":\"1bcac3685d044dbf8cd213583896f98a\",\"plot_id\":\"1355\"},\"id\":\"1356\",\"type\":\"panel.models.comm_manager.CommManager\"},{\"attributes\":{\"css_classes\":[\"alert\",\"alert-secondary\",\"markdown\"],\"margin\":[0,0,25,0],\"name\":\"Alert00723\",\"sizing_mode\":\"stretch_width\",\"text\":\"&lt;p&gt;Bam indexing AB.bam&amp;hellip;&lt;/p&gt;\"},\"id\":\"1355\",\"type\":\"panel.models.markup.HTML\"}],\"root_ids\":[\"1355\",\"1356\"]},\"title\":\"Bokeh Application\",\"version\":\"2.3.3\"}};\n",
       "    var render_items = [{\"docid\":\"e3c8b9c2-6fa5-452d-bb48-496d0cd498d6\",\"root_ids\":[\"1355\"],\"roots\":{\"1355\":\"2d3aaff8-aed6-475e-a9b2-af17be3e477c\"}}];\n",
       "    root.Bokeh.embed.embed_items_notebook(docs_json, render_items);\n",
       "  }\n",
       "  if (root.Bokeh !== undefined && root.Bokeh.Panel !== undefined) {\n",
       "    embed_document(root);\n",
       "  } else {\n",
       "    var attempts = 0;\n",
       "    var timer = setInterval(function(root) {\n",
       "      if (root.Bokeh !== undefined && root.Bokeh.Panel !== undefined) {\n",
       "        clearInterval(timer);\n",
       "        embed_document(root);\n",
       "      } else if (document.readyState == \"complete\") {\n",
       "        attempts++;\n",
       "        if (attempts > 100) {\n",
       "          clearInterval(timer);\n",
       "          console.log(\"Bokeh: ERROR: Unable to run BokehJS code because BokehJS library is missing\");\n",
       "        }\n",
       "      }\n",
       "    }, 10, root)\n",
       "  }\n",
       "})(window);</script>"
      ],
      "text/plain": [
       "Alert(str, alert_type='secondary', css_classes=['alert', 'alert-secondary...], margin=(0, 0, 25, 0), sizing_mode='stretch_width')"
      ]
     },
     "metadata": {
      "application/vnd.holoviews_exec.v0+json": {
       "id": "1355"
      }
     },
     "output_type": "display_data"
    },
    {
     "data": {},
     "metadata": {},
     "output_type": "display_data"
    },
    {
     "data": {
      "application/vnd.holoviews_exec.v0+json": "",
      "text/html": [
       "<div id='1357'>\n",
       "\n",
       "\n",
       "\n",
       "\n",
       "\n",
       "  <div class=\"bk-root\" id=\"77d59261-efc1-496d-b7b8-62e66eb98618\" data-root-id=\"1357\"></div>\n",
       "</div>\n",
       "<script type=\"application/javascript\">(function(root) {\n",
       "  function embed_document(root) {\n",
       "    var docs_json = {\"e69522cb-15d4-441e-8af9-99029715bb68\":{\"defs\":[],\"roots\":{\"references\":[{\"attributes\":{\"client_comm_id\":\"db7e36bf7e1d467581083bf39e3ae33e\",\"comm_id\":\"58adeefc659c4916a18c0300127d440c\",\"plot_id\":\"1357\"},\"id\":\"1358\",\"type\":\"panel.models.comm_manager.CommManager\"},{\"attributes\":{\"css_classes\":[\"alert\",\"alert-success\",\"markdown\"],\"margin\":[0,0,25,0],\"name\":\"Alert00727\",\"sizing_mode\":\"stretch_width\",\"text\":\"&lt;p&gt;samtools index executed successfully)&lt;/p&gt;\"},\"id\":\"1357\",\"type\":\"panel.models.markup.HTML\"}],\"root_ids\":[\"1357\",\"1358\"]},\"title\":\"Bokeh Application\",\"version\":\"2.3.3\"}};\n",
       "    var render_items = [{\"docid\":\"e69522cb-15d4-441e-8af9-99029715bb68\",\"root_ids\":[\"1357\"],\"roots\":{\"1357\":\"77d59261-efc1-496d-b7b8-62e66eb98618\"}}];\n",
       "    root.Bokeh.embed.embed_items_notebook(docs_json, render_items);\n",
       "  }\n",
       "  if (root.Bokeh !== undefined && root.Bokeh.Panel !== undefined) {\n",
       "    embed_document(root);\n",
       "  } else {\n",
       "    var attempts = 0;\n",
       "    var timer = setInterval(function(root) {\n",
       "      if (root.Bokeh !== undefined && root.Bokeh.Panel !== undefined) {\n",
       "        clearInterval(timer);\n",
       "        embed_document(root);\n",
       "      } else if (document.readyState == \"complete\") {\n",
       "        attempts++;\n",
       "        if (attempts > 100) {\n",
       "          clearInterval(timer);\n",
       "          console.log(\"Bokeh: ERROR: Unable to run BokehJS code because BokehJS library is missing\");\n",
       "        }\n",
       "      }\n",
       "    }, 10, root)\n",
       "  }\n",
       "})(window);</script>"
      ],
      "text/plain": [
       "Alert(str, alert_type='success', css_classes=['alert', 'alert-success']...], margin=(0, 0, 25, 0), sizing_mode='stretch_width')"
      ]
     },
     "metadata": {
      "application/vnd.holoviews_exec.v0+json": {
       "id": "1357"
      }
     },
     "output_type": "display_data"
    }
   ],
   "source": [
    "bgc('LightBlue')\n",
    "\n",
    "output_panrefmapping_dir = output_panref_dir + \"/mapping/\"\n",
    "fastq2bam_dir(panref_fasta, fastq_dir.value, df_group, cpu, output_panrefmapping_dir, logger)\n",
    "\n",
    "stat2_dir = output_panref_dir + \"/mapping_stat/\"\n",
    "make_dir(stat2_dir)\n",
    "\n",
    "logger.info(f\"MAPPING STAT :\")\n",
    "logger.info(f\"\\t\\tMapping stat directory : {stat_dir}\")\n",
    "\n",
    "for file_name in os.listdir(output_panrefmapping_dir):\n",
    "    if \".bam\" in file_name:\n",
    "        samtools_index(os.path.join(output_panrefmapping_dir,file_name),logger)\n"
   ]
  },
  {
   "cell_type": "markdown",
   "metadata": {},
   "source": [
    "#### __Anchoring contigs on reference genome__\n",
    "\n",
    "#### __Panreference dashboard__"
   ]
  },
  {
   "cell_type": "code",
   "execution_count": 26,
   "metadata": {},
   "outputs": [
    {
     "data": {},
     "metadata": {},
     "output_type": "display_data"
    },
    {
     "data": {
      "application/vnd.holoviews_exec.v0+json": "",
      "text/html": [
       "<div id='1361'>\n",
       "\n",
       "\n",
       "\n",
       "\n",
       "\n",
       "  <div class=\"bk-root\" id=\"7b4c7e88-b413-404c-987d-e14f666f6ef7\" data-root-id=\"1361\"></div>\n",
       "</div>\n",
       "<script type=\"application/javascript\">(function(root) {\n",
       "  function embed_document(root) {\n",
       "    var docs_json = {\"bcd4facc-dfac-4fa1-a45c-04df94ab9ced\":{\"defs\":[],\"roots\":{\"references\":[{\"attributes\":{\"client_comm_id\":\"0a2496cb58a745e8a430e91ce8529ac2\",\"comm_id\":\"150a2a3c9f8449afad12e59954c777b9\",\"plot_id\":\"1361\"},\"id\":\"1362\",\"type\":\"panel.models.comm_manager.CommManager\"},{\"attributes\":{\"css_classes\":[\"alert\",\"alert-warning\",\"markdown\"],\"margin\":[0,0,25,0],\"name\":\"Alert00735\",\"sizing_mode\":\"stretch_width\",\"text\":\"&lt;h3&gt;warning&lt;/h3&gt;\\n&lt;hr&gt;\\n&lt;p&gt;Directory /home/christine/Documents/These/frangiPANeGIT2/frangiPANe_PANRice/05-panreference//placement/ already existed&lt;/p&gt;\"},\"id\":\"1361\",\"type\":\"panel.models.markup.HTML\"}],\"root_ids\":[\"1361\",\"1362\"]},\"title\":\"Bokeh Application\",\"version\":\"2.3.3\"}};\n",
       "    var render_items = [{\"docid\":\"bcd4facc-dfac-4fa1-a45c-04df94ab9ced\",\"root_ids\":[\"1361\"],\"roots\":{\"1361\":\"7b4c7e88-b413-404c-987d-e14f666f6ef7\"}}];\n",
       "    root.Bokeh.embed.embed_items_notebook(docs_json, render_items);\n",
       "  }\n",
       "  if (root.Bokeh !== undefined && root.Bokeh.Panel !== undefined) {\n",
       "    embed_document(root);\n",
       "  } else {\n",
       "    var attempts = 0;\n",
       "    var timer = setInterval(function(root) {\n",
       "      if (root.Bokeh !== undefined && root.Bokeh.Panel !== undefined) {\n",
       "        clearInterval(timer);\n",
       "        embed_document(root);\n",
       "      } else if (document.readyState == \"complete\") {\n",
       "        attempts++;\n",
       "        if (attempts > 100) {\n",
       "          clearInterval(timer);\n",
       "          console.log(\"Bokeh: ERROR: Unable to run BokehJS code because BokehJS library is missing\");\n",
       "        }\n",
       "      }\n",
       "    }, 10, root)\n",
       "  }\n",
       "})(window);</script>"
      ],
      "text/plain": [
       "Alert(str, alert_type='warning', css_classes=['alert', 'alert-warning']...], margin=(0, 0, 25, 0), sizing_mode='stretch_width')"
      ]
     },
     "metadata": {
      "application/vnd.holoviews_exec.v0+json": {
       "id": "1361"
      }
     },
     "output_type": "display_data"
    },
    {
     "data": {},
     "metadata": {},
     "output_type": "display_data"
    },
    {
     "data": {
      "application/vnd.holoviews_exec.v0+json": "",
      "text/html": [
       "<div id='1363'>\n",
       "\n",
       "\n",
       "\n",
       "\n",
       "\n",
       "  <div class=\"bk-root\" id=\"d3051777-e67a-47f8-8e2e-890d01f6f044\" data-root-id=\"1363\"></div>\n",
       "</div>\n",
       "<script type=\"application/javascript\">(function(root) {\n",
       "  function embed_document(root) {\n",
       "    var docs_json = {\"1b70c8bb-bcf3-47e7-9cc4-b50b5a60255d\":{\"defs\":[],\"roots\":{\"references\":[{\"attributes\":{\"css_classes\":[\"alert\",\"alert-secondary\",\"markdown\"],\"margin\":[0,0,25,0],\"name\":\"Alert00739\",\"sizing_mode\":\"stretch_width\",\"text\":\"&lt;p&gt;Anchoring indexing&amp;hellip;&lt;/p&gt;\"},\"id\":\"1363\",\"type\":\"panel.models.markup.HTML\"},{\"attributes\":{\"client_comm_id\":\"eaae8918bb47474aa4ae990366fc5729\",\"comm_id\":\"d0b82ee41d67471cb6944a9cbfbc6af9\",\"plot_id\":\"1363\"},\"id\":\"1364\",\"type\":\"panel.models.comm_manager.CommManager\"}],\"root_ids\":[\"1363\",\"1364\"]},\"title\":\"Bokeh Application\",\"version\":\"2.3.3\"}};\n",
       "    var render_items = [{\"docid\":\"1b70c8bb-bcf3-47e7-9cc4-b50b5a60255d\",\"root_ids\":[\"1363\"],\"roots\":{\"1363\":\"d3051777-e67a-47f8-8e2e-890d01f6f044\"}}];\n",
       "    root.Bokeh.embed.embed_items_notebook(docs_json, render_items);\n",
       "  }\n",
       "  if (root.Bokeh !== undefined && root.Bokeh.Panel !== undefined) {\n",
       "    embed_document(root);\n",
       "  } else {\n",
       "    var attempts = 0;\n",
       "    var timer = setInterval(function(root) {\n",
       "      if (root.Bokeh !== undefined && root.Bokeh.Panel !== undefined) {\n",
       "        clearInterval(timer);\n",
       "        embed_document(root);\n",
       "      } else if (document.readyState == \"complete\") {\n",
       "        attempts++;\n",
       "        if (attempts > 100) {\n",
       "          clearInterval(timer);\n",
       "          console.log(\"Bokeh: ERROR: Unable to run BokehJS code because BokehJS library is missing\");\n",
       "        }\n",
       "      }\n",
       "    }, 10, root)\n",
       "  }\n",
       "})(window);</script>"
      ],
      "text/plain": [
       "Alert(str, alert_type='secondary', css_classes=['alert', 'alert-secondary...], margin=(0, 0, 25, 0), sizing_mode='stretch_width')"
      ]
     },
     "metadata": {
      "application/vnd.holoviews_exec.v0+json": {
       "id": "1363"
      }
     },
     "output_type": "display_data"
    },
    {
     "data": {},
     "metadata": {},
     "output_type": "display_data"
    },
    {
     "data": {
      "application/vnd.holoviews_exec.v0+json": "",
      "text/html": [
       "<div id='1365'>\n",
       "\n",
       "\n",
       "\n",
       "\n",
       "\n",
       "  <div class=\"bk-root\" id=\"a4118b59-1a3d-4f4b-8e5a-ddacfa06c1c5\" data-root-id=\"1365\"></div>\n",
       "</div>\n",
       "<script type=\"application/javascript\">(function(root) {\n",
       "  function embed_document(root) {\n",
       "    var docs_json = {\"3542a82f-538f-4f06-a4c7-2b795ca5f8cf\":{\"defs\":[],\"roots\":{\"references\":[{\"attributes\":{\"client_comm_id\":\"7044fb23864b4bbc9d3778fb67f16bcc\",\"comm_id\":\"f02195d695184e9484026a5d977deeee\",\"plot_id\":\"1365\"},\"id\":\"1366\",\"type\":\"panel.models.comm_manager.CommManager\"},{\"attributes\":{\"css_classes\":[\"alert\",\"alert-success\",\"markdown\"],\"margin\":[0,0,25,0],\"name\":\"Alert00743\",\"sizing_mode\":\"stretch_width\",\"text\":\"&lt;p&gt;script executed successfully)&lt;/p&gt;\"},\"id\":\"1365\",\"type\":\"panel.models.markup.HTML\"}],\"root_ids\":[\"1365\",\"1366\"]},\"title\":\"Bokeh Application\",\"version\":\"2.3.3\"}};\n",
       "    var render_items = [{\"docid\":\"3542a82f-538f-4f06-a4c7-2b795ca5f8cf\",\"root_ids\":[\"1365\"],\"roots\":{\"1365\":\"a4118b59-1a3d-4f4b-8e5a-ddacfa06c1c5\"}}];\n",
       "    root.Bokeh.embed.embed_items_notebook(docs_json, render_items);\n",
       "  }\n",
       "  if (root.Bokeh !== undefined && root.Bokeh.Panel !== undefined) {\n",
       "    embed_document(root);\n",
       "  } else {\n",
       "    var attempts = 0;\n",
       "    var timer = setInterval(function(root) {\n",
       "      if (root.Bokeh !== undefined && root.Bokeh.Panel !== undefined) {\n",
       "        clearInterval(timer);\n",
       "        embed_document(root);\n",
       "      } else if (document.readyState == \"complete\") {\n",
       "        attempts++;\n",
       "        if (attempts > 100) {\n",
       "          clearInterval(timer);\n",
       "          console.log(\"Bokeh: ERROR: Unable to run BokehJS code because BokehJS library is missing\");\n",
       "        }\n",
       "      }\n",
       "    }, 10, root)\n",
       "  }\n",
       "})(window);</script>"
      ],
      "text/plain": [
       "Alert(str, alert_type='success', css_classes=['alert', 'alert-success']...], margin=(0, 0, 25, 0), sizing_mode='stretch_width')"
      ]
     },
     "metadata": {
      "application/vnd.holoviews_exec.v0+json": {
       "id": "1365"
      }
     },
     "output_type": "display_data"
    }
   ],
   "source": [
    "\n",
    "panrefposi_dir = output_panref_dir + \"/placement/\"\n",
    "make_dir(panrefposi_dir)\n",
    "\n",
    "panrefposi_file = panrefposi_dir + \"ctgs_on_ref.csv\"\n",
    "\n",
    "#logger.info(f\"MAPPING STAT :\")\n",
    "#logger.info(f\"\\t\\tMapping stat directory : {stat_dir}\")\n",
    "\n",
    "for file_name in os.listdir(output_panrefmapping_dir):\n",
    "    if \".bam\" in file_name and not os.path.exists(os.path.join(output_panrefmapping_dir,file_name)):\n",
    "        samtools_index(os.path.join(output_panrefmapping_dir,file_name),logger)\n",
    "\n",
    "text=f\"Anchoring indexing...\"\n",
    "display_alert(text, \"secondary\")\n",
    "\n",
    "cmd = f'tools/parseBamv7.py -b {output_panrefmapping_dir} -d 15 -o {panrefposi_file}'\n",
    "process = subprocess.run(cmd, shell=True, capture_output=True, text=True)\n",
    "logger.info(f\"\\t\\t\\placement cmd : {cmd}\")\n",
    "\n",
    "if process.returncode:\n",
    "    text = f\"Failed execution.... see log file, resolve the problem and try again\"\n",
    "    at = 'danger'\n",
    "else:\n",
    "    at = 'success'\n",
    "    text = f\"script executed successfully)\"\n",
    "logger.info(f\"\\t\\t\\tLog : {process.stdout + process.stderr}\")\n",
    "display_alert(text, at)\n",
    "    "
   ]
  },
  {
   "cell_type": "code",
   "execution_count": null,
   "metadata": {},
   "outputs": [],
   "source": []
  }
 ],
 "metadata": {
  "hide_input": false,
  "kernelspec": {
   "display_name": "Python 3 (ipykernel)",
   "language": "python",
   "name": "python3"
  },
  "language_info": {
   "codemirror_mode": {
    "name": "ipython",
    "version": 3
   },
   "file_extension": ".py",
   "mimetype": "text/x-python",
   "name": "python",
   "nbconvert_exporter": "python",
   "pygments_lexer": "ipython3",
   "version": "3.8.5"
  }
 },
 "nbformat": 4,
 "nbformat_minor": 4
}
