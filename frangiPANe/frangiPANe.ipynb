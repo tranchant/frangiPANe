{
 "cells": [
  {
   "cell_type": "markdown",
   "metadata": {},
   "source": [
    "<a class=\"anchor\" id=\"home\"><img src=\"Images/frangiPANe.png\" width=50% align=right></a>"
   ]
  },
  {
   "cell_type": "markdown",
   "metadata": {},
   "source": [
    "***\n",
    "\n",
    "# <span style=\"color: #3987C4;\">Table of contents</span>\n",
    "<a class=\"anchor\" id=\"home\"></a>\n",
    "\n",
    "[I - What is frangiPANe?](#whatabout)\n",
    "\n",
    "* [Map-then-assembly approach](#approach)\n",
    "* [Requirements](#requirements)\n",
    "* [Data test](#datatest)\n",
    "* [License](#license)\n",
    "    \n",
    "[II - Preparing frangiPANe analysis](#howtoconfigure)\n",
    "* [Import python packages used by frangiPANe](#importpackages)\n",
    "* [Definition of input data used by frangiPANe workflow](#configinput)\n",
    "* [Creating frangiPANe output directory](#outputdir)\n",
    "* [Creating log file](#logfile)\n",
    "* [Preparing Genome Reference for next analysis](#reference)\n",
    "* [Analyzing Group File](#group)\n",
    "    \n",
    "[III - Workflow](#workflow)\n",
    "* [1 - Stats about raw data](#rawdata)\n",
    "* [2 - Mapping the individuals reads against the reference genome](#mapping)\n",
    "* [3 - Assembly of the individuals' reads that do not map (properly paired) on the reference genome](#assembly)\n",
    "* [4 - Removing Contamination](#contamination)\n",
    "* [5 - Reducing Sequence Redundancy](#redundancy)\n",
    "* [6 - Anchoring Clusters on reference genome](#anchoring)\n",
    "\n",
    "***\n",
    "\n",
    "[<img src=\"Images/up-arrow.png\" alt=\"Top\" width=2% align=\"right\">](#home \"Go back to the top\")\n",
    "\n",
    "# <span style=\"color: #3987C4;\"> I - What is frangiPANe ?  <a class=\"anchor\" id=\"whatabout\"></a></span>\n",
    "\n",
    "This tool allows the generation of a linear panreference, from paired-end short-reads and a reference genome using a Map-Then-Assembly approach.\n",
    "\n",
    "<img src=\"Images/frangiPANe_overview.jpg\" width=70%>\n",
    "\n",
    "### <span style=\"color: #919395\"> _Map-then-assembly approach_ <a class=\"anchor\" id=\"approach\"></a></span>\n",
    "\n",
    "<img src=\"Images/approachMapThenAssembly.jpg\" width=80%>\n",
    "\n",
    "### <span style=\"color: #919395\"> _Data test_ <a class=\"anchor\" id=\"datatest\"></a></span>\n",
    "\n",
    "<details>\n",
    "\n",
    "\n",
    "#### __Rice__ \n",
    "\n",
    "##### _Illumina sequenced dataset_\n",
    "\n",
    "3 African Rice whole-genome sequences (Cubry and al., 2018) were used (paired-end illumina, 2x101bp, ~35X) :\n",
    "\n",
    "* AA, _O. barthii_ (African Rice wild)\n",
    "* AB, _O. barthii_ (African Rice wild)\n",
    "* DT, _O. glaberrima_ (African Rice cultivated)\n",
    "\n",
    "><sub><sup>Cubry P, Tranchant-Dubreuil C, Thuillet AC, Monat C, Ndjiondjop MN, Labadie K, Cruaud C, Engelen S, Scarcelli N, Rhoné B, Burgarella C, Dupuy C, Larmande P, Wincker P, François O, Sabot F, Vigouroux Y. The Rise and Fall of African Rice Cultivation Revealed by Analysis of 246 New Genomes. Curr Biol. 2018 Jul 23;28(14):2274-2282.e6. doi: 10.1016/j.cub.2018.05.066. Epub 2018 Jul 5. PMID: 29983312.</sub></sup>\n",
    "\n",
    "##### _Genome Reference_\n",
    "\n",
    "_Oryza glaberrima_ (OMAPv2 sequence, ref)\n",
    "\n",
    "</details>\n",
    "\n",
    "### <span style=\"color: #919395\">_Requirements_ <a class=\"anchor\" id=\"requirements\"></a></span>\n",
    "\n",
    "<details>\n",
    "\n",
    "* python version\n",
    "\n",
    "* Python modules used\n",
    "    * os, io, subprocess\n",
    "    * Ipython\n",
    "    * ipywidgets\n",
    "    * trailets\n",
    "    * tkinter\n",
    "    * numpy, pandas\n",
    "    * matplotlib\n",
    "    * seaborn\n",
    "    * panel\n",
    "    \n",
    "* Bioinformatics software (version)\n",
    "    * ea-utils (fastq-stats [doc] (https://expressionanalysis.github.io/ea-utils/)] : Command-line tools for processing biological sequencing data. \n",
    "    * BWA [[doc](http://bio-bwa.sourceforge.net/bwa.shtml), [github](https://github.com/lh3/bwa)] : software package for mapping DNA sequences against a large reference genome\n",
    "    * Samtools [[doc](http://www.htslib.org/doc/samtools.html)] : suite of programs for interacting with high-throughput sequencing data : http://www.htslib.org/download/\n",
    "    * ABySS [[github](https://github.com/bcgsc/abyss)] : de novo sequence assembler intended for short paired-end reads and large genomes\n",
    "    * assembly-stats [[github](https://github.com/sanger-pathogens/assembly-stats)] \n",
    "    * cd_hit [[github](https://github.com/weizhongli/cdhit/blob/master/doc/cdhit-user-guide.wiki)]\n",
    "\n",
    "</details>\n",
    "\n",
    "### <span style=\"color: #919395\">_License_ <a class=\"anchor\" id=\"license\"></a></span>\n",
    "\n",
    "* Licencied under CeCill-C (http://www.cecill.info/licences/Licence_CeCILL-C_V1-en.html) and GPLv3\n",
    "* Intellectual property belongs to IRD, ... and SouthGreen development platform\n",
    "* Written by Clothilde Chenal and Christine Tranchant-Dubreuil\n",
    "* Copyright 2021"
   ]
  },
  {
   "cell_type": "markdown",
   "metadata": {},
   "source": [
    "nts/These/frangiPANeGIT/ricents/These/frangiPANeGIT/ricents/These/frangiPANeGIT/rice***\n",
    "\n",
    "[<img src=\"Images/up-arrow.png\" alt=\"Top\" width=2% align=\"right\">](#home \"Go back to the top\")\n",
    "\n",
    "# <span style=\"color: #3987C4;\">II - Preparing frangiPANe analysis <a class=\"anchor\" id=\"howtoconfigure\"></a></span>\n",
    "\n",
    "### <span style=\"color: #919395\"> _Import python packages used by frangiPANe_ </span>"
   ]
  },
  {
   "cell_type": "code",
   "execution_count": 1,
   "metadata": {},
   "outputs": [
    {
     "data": {
      "application/javascript": [
       "\n",
       "(function(root) {\n",
       "  function now() {\n",
       "    return new Date();\n",
       "  }\n",
       "\n",
       "  var force = true;\n",
       "\n",
       "  if (typeof root._bokeh_onload_callbacks === \"undefined\" || force === true) {\n",
       "    root._bokeh_onload_callbacks = [];\n",
       "    root._bokeh_is_loading = undefined;\n",
       "  }\n",
       "\n",
       "  if (typeof (root._bokeh_timeout) === \"undefined\" || force === true) {\n",
       "    root._bokeh_timeout = Date.now() + 5000;\n",
       "    root._bokeh_failed_load = false;\n",
       "  }\n",
       "\n",
       "  function run_callbacks() {\n",
       "    try {\n",
       "      root._bokeh_onload_callbacks.forEach(function(callback) {\n",
       "        if (callback != null)\n",
       "          callback();\n",
       "      });\n",
       "    } finally {\n",
       "      delete root._bokeh_onload_callbacks\n",
       "    }\n",
       "    console.debug(\"Bokeh: all callbacks have finished\");\n",
       "  }\n",
       "\n",
       "  function load_libs(css_urls, js_urls, js_modules, callback) {\n",
       "    if (css_urls == null) css_urls = [];\n",
       "    if (js_urls == null) js_urls = [];\n",
       "    if (js_modules == null) js_modules = [];\n",
       "\n",
       "    root._bokeh_onload_callbacks.push(callback);\n",
       "    if (root._bokeh_is_loading > 0) {\n",
       "      console.debug(\"Bokeh: BokehJS is being loaded, scheduling callback at\", now());\n",
       "      return null;\n",
       "    }\n",
       "    if (js_urls.length === 0 && js_modules.length === 0) {\n",
       "      run_callbacks();\n",
       "      return null;\n",
       "    }\n",
       "    console.debug(\"Bokeh: BokehJS not loaded, scheduling load and callback at\", now());\n",
       "    root._bokeh_is_loading = css_urls.length + js_urls.length + js_modules.length;\n",
       "\n",
       "    function on_load() {\n",
       "      root._bokeh_is_loading--;\n",
       "      if (root._bokeh_is_loading === 0) {\n",
       "        console.debug(\"Bokeh: all BokehJS libraries/stylesheets loaded\");\n",
       "        run_callbacks()\n",
       "      }\n",
       "    }\n",
       "\n",
       "    function on_error() {\n",
       "      console.error(\"failed to load \" + url);\n",
       "    }\n",
       "\n",
       "    for (var i = 0; i < css_urls.length; i++) {\n",
       "      var url = css_urls[i];\n",
       "      const element = document.createElement(\"link\");\n",
       "      element.onload = on_load;\n",
       "      element.onerror = on_error;\n",
       "      element.rel = \"stylesheet\";\n",
       "      element.type = \"text/css\";\n",
       "      element.href = url;\n",
       "      console.debug(\"Bokeh: injecting link tag for BokehJS stylesheet: \", url);\n",
       "      document.body.appendChild(element);\n",
       "    }\n",
       "\n",
       "    var skip = [];\n",
       "    if (window.requirejs) {\n",
       "      window.requirejs.config({'paths': {'tabulator': 'https://unpkg.com/tabulator-tables@4.9.3/dist/js/tabulator'}});\n",
       "      require([\"tabulator\"], function(Tabulator,) {\n",
       "        window.Tabulator = Tabulator;\n",
       "      })\n",
       "    }\n",
       "    if (((window['tabulator'] !== undefined) && (!(window['tabulator'] instanceof HTMLElement))) || window.requirejs) {\n",
       "      var urls = ['https://unpkg.com/tabulator-tables@4.9.3/dist/js/tabulator.js', 'https://unpkg.com/moment@2.27.0/moment.js'];\n",
       "      for (var i = 0; i < urls.length; i++) {\n",
       "        skip.push(urls[i])\n",
       "      }\n",
       "    }\n",
       "    for (var i = 0; i < js_urls.length; i++) {\n",
       "      var url = js_urls[i];\n",
       "      if (skip.indexOf(url) >= 0) { on_load(); continue; }\n",
       "      var element = document.createElement('script');\n",
       "      element.onload = on_load;\n",
       "      element.onerror = on_error;\n",
       "      element.async = false;\n",
       "      element.src = url;\n",
       "      console.debug(\"Bokeh: injecting script tag for BokehJS library: \", url);\n",
       "      document.head.appendChild(element);\n",
       "    }\n",
       "    for (var i = 0; i < js_modules.length; i++) {\n",
       "      var url = js_modules[i];\n",
       "      if (skip.indexOf(url) >= 0) { on_load(); continue; }\n",
       "      var element = document.createElement('script');\n",
       "      element.onload = on_load;\n",
       "      element.onerror = on_error;\n",
       "      element.async = false;\n",
       "      element.src = url;\n",
       "      element.type = \"module\";\n",
       "      console.debug(\"Bokeh: injecting script tag for BokehJS library: \", url);\n",
       "      document.head.appendChild(element);\n",
       "    }\n",
       "    if (!js_urls.length && !js_modules.length) {\n",
       "      on_load()\n",
       "    }\n",
       "  };\n",
       "\n",
       "  function inject_raw_css(css) {\n",
       "    const element = document.createElement(\"style\");\n",
       "    element.appendChild(document.createTextNode(css));\n",
       "    document.body.appendChild(element);\n",
       "  }\n",
       "\n",
       "  var js_urls = [\"https://unpkg.com/tabulator-tables@4.9.3/dist/js/tabulator.js\", \"https://unpkg.com/moment@2.27.0/moment.js\", \"https://cdn.bokeh.org/bokeh/release/bokeh-2.3.3.min.js\", \"https://cdn.bokeh.org/bokeh/release/bokeh-widgets-2.3.3.min.js\", \"https://cdn.bokeh.org/bokeh/release/bokeh-tables-2.3.3.min.js\", \"https://unpkg.com/@holoviz/panel@0.11.1/dist/panel.min.js\"];\n",
       "  var js_modules = [];\n",
       "  var css_urls = [\"https://unpkg.com/tabulator-tables@4.9.3/dist/css/tabulator_simple.min.css\", \"https://unpkg.com/@holoviz/panel@0.11.1/dist/css/widgets.css\", \"https://unpkg.com/@holoviz/panel@0.11.1/dist/css/loading.css\", \"https://unpkg.com/@holoviz/panel@0.11.1/dist/css/dataframe.css\", \"https://unpkg.com/@holoviz/panel@0.11.1/dist/css/alerts.css\", \"https://unpkg.com/@holoviz/panel@0.11.1/dist/css/markdown.css\", \"https://unpkg.com/@holoviz/panel@0.11.1/dist/css/json.css\", \"https://unpkg.com/@holoviz/panel@0.11.1/dist/css/card.css\"];\n",
       "  var inline_js = [\n",
       "    function(Bokeh) {\n",
       "      inject_raw_css(\"\\n    .bk.pn-loading.arcs:before {\\n      background-image: url(\\\"data:image/svg+xml;base64,PHN2ZyB4bWxucz0iaHR0cDovL3d3dy53My5vcmcvMjAwMC9zdmciIHhtbG5zOnhsaW5rPSJodHRwOi8vd3d3LnczLm9yZy8xOTk5L3hsaW5rIiBzdHlsZT0ibWFyZ2luOiBhdXRvOyBiYWNrZ3JvdW5kOiBub25lOyBkaXNwbGF5OiBibG9jazsgc2hhcGUtcmVuZGVyaW5nOiBhdXRvOyIgdmlld0JveD0iMCAwIDEwMCAxMDAiIHByZXNlcnZlQXNwZWN0UmF0aW89InhNaWRZTWlkIj4gIDxjaXJjbGUgY3g9IjUwIiBjeT0iNTAiIHI9IjMyIiBzdHJva2Utd2lkdGg9IjgiIHN0cm9rZT0iI2MzYzNjMyIgc3Ryb2tlLWRhc2hhcnJheT0iNTAuMjY1NDgyNDU3NDM2NjkgNTAuMjY1NDgyNDU3NDM2NjkiIGZpbGw9Im5vbmUiIHN0cm9rZS1saW5lY2FwPSJyb3VuZCI+ICAgIDxhbmltYXRlVHJhbnNmb3JtIGF0dHJpYnV0ZU5hbWU9InRyYW5zZm9ybSIgdHlwZT0icm90YXRlIiByZXBlYXRDb3VudD0iaW5kZWZpbml0ZSIgZHVyPSIxcyIga2V5VGltZXM9IjA7MSIgdmFsdWVzPSIwIDUwIDUwOzM2MCA1MCA1MCI+PC9hbmltYXRlVHJhbnNmb3JtPiAgPC9jaXJjbGU+PC9zdmc+\\\")\\n    }\\n    \");\n",
       "    },\n",
       "    function(Bokeh) {\n",
       "      Bokeh.set_log_level(\"info\");\n",
       "    },\n",
       "    function(Bokeh) {} // ensure no trailing comma for IE\n",
       "  ];\n",
       "\n",
       "  function run_inline_js() {\n",
       "    if ((root.Bokeh !== undefined) || (force === true)) {\n",
       "      for (var i = 0; i < inline_js.length; i++) {\n",
       "        inline_js[i].call(root, root.Bokeh);\n",
       "      }} else if (Date.now() < root._bokeh_timeout) {\n",
       "      setTimeout(run_inline_js, 100);\n",
       "    } else if (!root._bokeh_failed_load) {\n",
       "      console.log(\"Bokeh: BokehJS failed to load within specified timeout.\");\n",
       "      root._bokeh_failed_load = true;\n",
       "    }\n",
       "  }\n",
       "\n",
       "  if (root._bokeh_is_loading === 0) {\n",
       "    console.debug(\"Bokeh: BokehJS loaded, going straight to plotting\");\n",
       "    run_inline_js();\n",
       "  } else {\n",
       "    load_libs(css_urls, js_urls, js_modules, function() {\n",
       "      console.debug(\"Bokeh: BokehJS plotting callback run at\", now());\n",
       "      run_inline_js();\n",
       "    });\n",
       "  }\n",
       "}(window));"
      ],
      "application/vnd.holoviews_load.v0+json": "\n(function(root) {\n  function now() {\n    return new Date();\n  }\n\n  var force = true;\n\n  if (typeof root._bokeh_onload_callbacks === \"undefined\" || force === true) {\n    root._bokeh_onload_callbacks = [];\n    root._bokeh_is_loading = undefined;\n  }\n\n  if (typeof (root._bokeh_timeout) === \"undefined\" || force === true) {\n    root._bokeh_timeout = Date.now() + 5000;\n    root._bokeh_failed_load = false;\n  }\n\n  function run_callbacks() {\n    try {\n      root._bokeh_onload_callbacks.forEach(function(callback) {\n        if (callback != null)\n          callback();\n      });\n    } finally {\n      delete root._bokeh_onload_callbacks\n    }\n    console.debug(\"Bokeh: all callbacks have finished\");\n  }\n\n  function load_libs(css_urls, js_urls, js_modules, callback) {\n    if (css_urls == null) css_urls = [];\n    if (js_urls == null) js_urls = [];\n    if (js_modules == null) js_modules = [];\n\n    root._bokeh_onload_callbacks.push(callback);\n    if (root._bokeh_is_loading > 0) {\n      console.debug(\"Bokeh: BokehJS is being loaded, scheduling callback at\", now());\n      return null;\n    }\n    if (js_urls.length === 0 && js_modules.length === 0) {\n      run_callbacks();\n      return null;\n    }\n    console.debug(\"Bokeh: BokehJS not loaded, scheduling load and callback at\", now());\n    root._bokeh_is_loading = css_urls.length + js_urls.length + js_modules.length;\n\n    function on_load() {\n      root._bokeh_is_loading--;\n      if (root._bokeh_is_loading === 0) {\n        console.debug(\"Bokeh: all BokehJS libraries/stylesheets loaded\");\n        run_callbacks()\n      }\n    }\n\n    function on_error() {\n      console.error(\"failed to load \" + url);\n    }\n\n    for (var i = 0; i < css_urls.length; i++) {\n      var url = css_urls[i];\n      const element = document.createElement(\"link\");\n      element.onload = on_load;\n      element.onerror = on_error;\n      element.rel = \"stylesheet\";\n      element.type = \"text/css\";\n      element.href = url;\n      console.debug(\"Bokeh: injecting link tag for BokehJS stylesheet: \", url);\n      document.body.appendChild(element);\n    }\n\n    var skip = [];\n    if (window.requirejs) {\n      window.requirejs.config({'paths': {'tabulator': 'https://unpkg.com/tabulator-tables@4.9.3/dist/js/tabulator'}});\n      require([\"tabulator\"], function(Tabulator,) {\n        window.Tabulator = Tabulator;\n      })\n    }\n    if (((window['tabulator'] !== undefined) && (!(window['tabulator'] instanceof HTMLElement))) || window.requirejs) {\n      var urls = ['https://unpkg.com/tabulator-tables@4.9.3/dist/js/tabulator.js', 'https://unpkg.com/moment@2.27.0/moment.js'];\n      for (var i = 0; i < urls.length; i++) {\n        skip.push(urls[i])\n      }\n    }\n    for (var i = 0; i < js_urls.length; i++) {\n      var url = js_urls[i];\n      if (skip.indexOf(url) >= 0) { on_load(); continue; }\n      var element = document.createElement('script');\n      element.onload = on_load;\n      element.onerror = on_error;\n      element.async = false;\n      element.src = url;\n      console.debug(\"Bokeh: injecting script tag for BokehJS library: \", url);\n      document.head.appendChild(element);\n    }\n    for (var i = 0; i < js_modules.length; i++) {\n      var url = js_modules[i];\n      if (skip.indexOf(url) >= 0) { on_load(); continue; }\n      var element = document.createElement('script');\n      element.onload = on_load;\n      element.onerror = on_error;\n      element.async = false;\n      element.src = url;\n      element.type = \"module\";\n      console.debug(\"Bokeh: injecting script tag for BokehJS library: \", url);\n      document.head.appendChild(element);\n    }\n    if (!js_urls.length && !js_modules.length) {\n      on_load()\n    }\n  };\n\n  function inject_raw_css(css) {\n    const element = document.createElement(\"style\");\n    element.appendChild(document.createTextNode(css));\n    document.body.appendChild(element);\n  }\n\n  var js_urls = [\"https://unpkg.com/tabulator-tables@4.9.3/dist/js/tabulator.js\", \"https://unpkg.com/moment@2.27.0/moment.js\", \"https://cdn.bokeh.org/bokeh/release/bokeh-2.3.3.min.js\", \"https://cdn.bokeh.org/bokeh/release/bokeh-widgets-2.3.3.min.js\", \"https://cdn.bokeh.org/bokeh/release/bokeh-tables-2.3.3.min.js\", \"https://unpkg.com/@holoviz/panel@0.11.1/dist/panel.min.js\"];\n  var js_modules = [];\n  var css_urls = [\"https://unpkg.com/tabulator-tables@4.9.3/dist/css/tabulator_simple.min.css\", \"https://unpkg.com/@holoviz/panel@0.11.1/dist/css/widgets.css\", \"https://unpkg.com/@holoviz/panel@0.11.1/dist/css/loading.css\", \"https://unpkg.com/@holoviz/panel@0.11.1/dist/css/dataframe.css\", \"https://unpkg.com/@holoviz/panel@0.11.1/dist/css/alerts.css\", \"https://unpkg.com/@holoviz/panel@0.11.1/dist/css/markdown.css\", \"https://unpkg.com/@holoviz/panel@0.11.1/dist/css/json.css\", \"https://unpkg.com/@holoviz/panel@0.11.1/dist/css/card.css\"];\n  var inline_js = [\n    function(Bokeh) {\n      inject_raw_css(\"\\n    .bk.pn-loading.arcs:before {\\n      background-image: url(\\\"data:image/svg+xml;base64,PHN2ZyB4bWxucz0iaHR0cDovL3d3dy53My5vcmcvMjAwMC9zdmciIHhtbG5zOnhsaW5rPSJodHRwOi8vd3d3LnczLm9yZy8xOTk5L3hsaW5rIiBzdHlsZT0ibWFyZ2luOiBhdXRvOyBiYWNrZ3JvdW5kOiBub25lOyBkaXNwbGF5OiBibG9jazsgc2hhcGUtcmVuZGVyaW5nOiBhdXRvOyIgdmlld0JveD0iMCAwIDEwMCAxMDAiIHByZXNlcnZlQXNwZWN0UmF0aW89InhNaWRZTWlkIj4gIDxjaXJjbGUgY3g9IjUwIiBjeT0iNTAiIHI9IjMyIiBzdHJva2Utd2lkdGg9IjgiIHN0cm9rZT0iI2MzYzNjMyIgc3Ryb2tlLWRhc2hhcnJheT0iNTAuMjY1NDgyNDU3NDM2NjkgNTAuMjY1NDgyNDU3NDM2NjkiIGZpbGw9Im5vbmUiIHN0cm9rZS1saW5lY2FwPSJyb3VuZCI+ICAgIDxhbmltYXRlVHJhbnNmb3JtIGF0dHJpYnV0ZU5hbWU9InRyYW5zZm9ybSIgdHlwZT0icm90YXRlIiByZXBlYXRDb3VudD0iaW5kZWZpbml0ZSIgZHVyPSIxcyIga2V5VGltZXM9IjA7MSIgdmFsdWVzPSIwIDUwIDUwOzM2MCA1MCA1MCI+PC9hbmltYXRlVHJhbnNmb3JtPiAgPC9jaXJjbGU+PC9zdmc+\\\")\\n    }\\n    \");\n    },\n    function(Bokeh) {\n      Bokeh.set_log_level(\"info\");\n    },\n    function(Bokeh) {} // ensure no trailing comma for IE\n  ];\n\n  function run_inline_js() {\n    if ((root.Bokeh !== undefined) || (force === true)) {\n      for (var i = 0; i < inline_js.length; i++) {\n        inline_js[i].call(root, root.Bokeh);\n      }} else if (Date.now() < root._bokeh_timeout) {\n      setTimeout(run_inline_js, 100);\n    } else if (!root._bokeh_failed_load) {\n      console.log(\"Bokeh: BokehJS failed to load within specified timeout.\");\n      root._bokeh_failed_load = true;\n    }\n  }\n\n  if (root._bokeh_is_loading === 0) {\n    console.debug(\"Bokeh: BokehJS loaded, going straight to plotting\");\n    run_inline_js();\n  } else {\n    load_libs(css_urls, js_urls, js_modules, function() {\n      console.debug(\"Bokeh: BokehJS plotting callback run at\", now());\n      run_inline_js();\n    });\n  }\n}(window));"
     },
     "metadata": {},
     "output_type": "display_data"
    },
    {
     "data": {
      "application/javascript": [
       "\n",
       "if ((window.PyViz === undefined) || (window.PyViz instanceof HTMLElement)) {\n",
       "  window.PyViz = {comms: {}, comm_status:{}, kernels:{}, receivers: {}, plot_index: []}\n",
       "}\n",
       "\n",
       "\n",
       "    function JupyterCommManager() {\n",
       "    }\n",
       "\n",
       "    JupyterCommManager.prototype.register_target = function(plot_id, comm_id, msg_handler) {\n",
       "      if (window.comm_manager || ((window.Jupyter !== undefined) && (Jupyter.notebook.kernel != null))) {\n",
       "        var comm_manager = window.comm_manager || Jupyter.notebook.kernel.comm_manager;\n",
       "        comm_manager.register_target(comm_id, function(comm) {\n",
       "          comm.on_msg(msg_handler);\n",
       "        });\n",
       "      } else if ((plot_id in window.PyViz.kernels) && (window.PyViz.kernels[plot_id])) {\n",
       "        window.PyViz.kernels[plot_id].registerCommTarget(comm_id, function(comm) {\n",
       "          comm.onMsg = msg_handler;\n",
       "        });\n",
       "      } else if (typeof google != 'undefined' && google.colab.kernel != null) {\n",
       "        google.colab.kernel.comms.registerTarget(comm_id, (comm) => {\n",
       "          var messages = comm.messages[Symbol.asyncIterator]();\n",
       "          function processIteratorResult(result) {\n",
       "            var message = result.value;\n",
       "            console.log(message)\n",
       "            var content = {data: message.data, comm_id};\n",
       "            var buffers = []\n",
       "            for (var buffer of message.buffers || []) {\n",
       "              buffers.push(new DataView(buffer))\n",
       "            }\n",
       "            var metadata = message.metadata || {};\n",
       "            var msg = {content, buffers, metadata}\n",
       "            msg_handler(msg);\n",
       "            return messages.next().then(processIteratorResult);\n",
       "          }\n",
       "          return messages.next().then(processIteratorResult);\n",
       "        })\n",
       "      }\n",
       "    }\n",
       "\n",
       "    JupyterCommManager.prototype.get_client_comm = function(plot_id, comm_id, msg_handler) {\n",
       "      if (comm_id in window.PyViz.comms) {\n",
       "        return window.PyViz.comms[comm_id];\n",
       "      } else if (window.comm_manager || ((window.Jupyter !== undefined) && (Jupyter.notebook.kernel != null))) {\n",
       "        var comm_manager = window.comm_manager || Jupyter.notebook.kernel.comm_manager;\n",
       "        var comm = comm_manager.new_comm(comm_id, {}, {}, {}, comm_id);\n",
       "        if (msg_handler) {\n",
       "          comm.on_msg(msg_handler);\n",
       "        }\n",
       "      } else if ((plot_id in window.PyViz.kernels) && (window.PyViz.kernels[plot_id])) {\n",
       "        var comm = window.PyViz.kernels[plot_id].connectToComm(comm_id);\n",
       "        comm.open();\n",
       "        if (msg_handler) {\n",
       "          comm.onMsg = msg_handler;\n",
       "        }\n",
       "      } else if (typeof google != 'undefined' && google.colab.kernel != null) {\n",
       "        var comm_promise = google.colab.kernel.comms.open(comm_id)\n",
       "        comm_promise.then((comm) => {\n",
       "          window.PyViz.comms[comm_id] = comm;\n",
       "          if (msg_handler) {\n",
       "            var messages = comm.messages[Symbol.asyncIterator]();\n",
       "            function processIteratorResult(result) {\n",
       "              var message = result.value;\n",
       "              var content = {data: message.data};\n",
       "              var metadata = message.metadata || {comm_id};\n",
       "              var msg = {content, metadata}\n",
       "              msg_handler(msg);\n",
       "              return messages.next().then(processIteratorResult);\n",
       "            }\n",
       "            return messages.next().then(processIteratorResult);\n",
       "          }\n",
       "        }) \n",
       "        var sendClosure = (data, metadata, buffers, disposeOnDone) => {\n",
       "          return comm_promise.then((comm) => {\n",
       "            comm.send(data, metadata, buffers, disposeOnDone);\n",
       "          });\n",
       "        };\n",
       "        var comm = {\n",
       "          send: sendClosure\n",
       "        };\n",
       "      }\n",
       "      window.PyViz.comms[comm_id] = comm;\n",
       "      return comm;\n",
       "    }\n",
       "    window.PyViz.comm_manager = new JupyterCommManager();\n",
       "    \n",
       "\n",
       "\n",
       "var JS_MIME_TYPE = 'application/javascript';\n",
       "var HTML_MIME_TYPE = 'text/html';\n",
       "var EXEC_MIME_TYPE = 'application/vnd.holoviews_exec.v0+json';\n",
       "var CLASS_NAME = 'output';\n",
       "\n",
       "/**\n",
       " * Render data to the DOM node\n",
       " */\n",
       "function render(props, node) {\n",
       "  var div = document.createElement(\"div\");\n",
       "  var script = document.createElement(\"script\");\n",
       "  node.appendChild(div);\n",
       "  node.appendChild(script);\n",
       "}\n",
       "\n",
       "/**\n",
       " * Handle when a new output is added\n",
       " */\n",
       "function handle_add_output(event, handle) {\n",
       "  var output_area = handle.output_area;\n",
       "  var output = handle.output;\n",
       "  if ((output.data == undefined) || (!output.data.hasOwnProperty(EXEC_MIME_TYPE))) {\n",
       "    return\n",
       "  }\n",
       "  var id = output.metadata[EXEC_MIME_TYPE][\"id\"];\n",
       "  var toinsert = output_area.element.find(\".\" + CLASS_NAME.split(' ')[0]);\n",
       "  if (id !== undefined) {\n",
       "    var nchildren = toinsert.length;\n",
       "    var html_node = toinsert[nchildren-1].children[0];\n",
       "    html_node.innerHTML = output.data[HTML_MIME_TYPE];\n",
       "    var scripts = [];\n",
       "    var nodelist = html_node.querySelectorAll(\"script\");\n",
       "    for (var i in nodelist) {\n",
       "      if (nodelist.hasOwnProperty(i)) {\n",
       "        scripts.push(nodelist[i])\n",
       "      }\n",
       "    }\n",
       "\n",
       "    scripts.forEach( function (oldScript) {\n",
       "      var newScript = document.createElement(\"script\");\n",
       "      var attrs = [];\n",
       "      var nodemap = oldScript.attributes;\n",
       "      for (var j in nodemap) {\n",
       "        if (nodemap.hasOwnProperty(j)) {\n",
       "          attrs.push(nodemap[j])\n",
       "        }\n",
       "      }\n",
       "      attrs.forEach(function(attr) { newScript.setAttribute(attr.name, attr.value) });\n",
       "      newScript.appendChild(document.createTextNode(oldScript.innerHTML));\n",
       "      oldScript.parentNode.replaceChild(newScript, oldScript);\n",
       "    });\n",
       "    if (JS_MIME_TYPE in output.data) {\n",
       "      toinsert[nchildren-1].children[1].textContent = output.data[JS_MIME_TYPE];\n",
       "    }\n",
       "    output_area._hv_plot_id = id;\n",
       "    if ((window.Bokeh !== undefined) && (id in Bokeh.index)) {\n",
       "      window.PyViz.plot_index[id] = Bokeh.index[id];\n",
       "    } else {\n",
       "      window.PyViz.plot_index[id] = null;\n",
       "    }\n",
       "  } else if (output.metadata[EXEC_MIME_TYPE][\"server_id\"] !== undefined) {\n",
       "    var bk_div = document.createElement(\"div\");\n",
       "    bk_div.innerHTML = output.data[HTML_MIME_TYPE];\n",
       "    var script_attrs = bk_div.children[0].attributes;\n",
       "    for (var i = 0; i < script_attrs.length; i++) {\n",
       "      toinsert[toinsert.length - 1].childNodes[1].setAttribute(script_attrs[i].name, script_attrs[i].value);\n",
       "    }\n",
       "    // store reference to server id on output_area\n",
       "    output_area._bokeh_server_id = output.metadata[EXEC_MIME_TYPE][\"server_id\"];\n",
       "  }\n",
       "}\n",
       "\n",
       "/**\n",
       " * Handle when an output is cleared or removed\n",
       " */\n",
       "function handle_clear_output(event, handle) {\n",
       "  var id = handle.cell.output_area._hv_plot_id;\n",
       "  var server_id = handle.cell.output_area._bokeh_server_id;\n",
       "  if (((id === undefined) || !(id in PyViz.plot_index)) && (server_id !== undefined)) { return; }\n",
       "  var comm = window.PyViz.comm_manager.get_client_comm(\"hv-extension-comm\", \"hv-extension-comm\", function () {});\n",
       "  if (server_id !== null) {\n",
       "    comm.send({event_type: 'server_delete', 'id': server_id});\n",
       "    return;\n",
       "  } else if (comm !== null) {\n",
       "    comm.send({event_type: 'delete', 'id': id});\n",
       "  }\n",
       "  delete PyViz.plot_index[id];\n",
       "  if ((window.Bokeh !== undefined) & (id in window.Bokeh.index)) {\n",
       "    var doc = window.Bokeh.index[id].model.document\n",
       "    doc.clear();\n",
       "    const i = window.Bokeh.documents.indexOf(doc);\n",
       "    if (i > -1) {\n",
       "      window.Bokeh.documents.splice(i, 1);\n",
       "    }\n",
       "  }\n",
       "}\n",
       "\n",
       "/**\n",
       " * Handle kernel restart event\n",
       " */\n",
       "function handle_kernel_cleanup(event, handle) {\n",
       "  delete PyViz.comms[\"hv-extension-comm\"];\n",
       "  window.PyViz.plot_index = {}\n",
       "}\n",
       "\n",
       "/**\n",
       " * Handle update_display_data messages\n",
       " */\n",
       "function handle_update_output(event, handle) {\n",
       "  handle_clear_output(event, {cell: {output_area: handle.output_area}})\n",
       "  handle_add_output(event, handle)\n",
       "}\n",
       "\n",
       "function register_renderer(events, OutputArea) {\n",
       "  function append_mime(data, metadata, element) {\n",
       "    // create a DOM node to render to\n",
       "    var toinsert = this.create_output_subarea(\n",
       "    metadata,\n",
       "    CLASS_NAME,\n",
       "    EXEC_MIME_TYPE\n",
       "    );\n",
       "    this.keyboard_manager.register_events(toinsert);\n",
       "    // Render to node\n",
       "    var props = {data: data, metadata: metadata[EXEC_MIME_TYPE]};\n",
       "    render(props, toinsert[0]);\n",
       "    element.append(toinsert);\n",
       "    return toinsert\n",
       "  }\n",
       "\n",
       "  events.on('output_added.OutputArea', handle_add_output);\n",
       "  events.on('output_updated.OutputArea', handle_update_output);\n",
       "  events.on('clear_output.CodeCell', handle_clear_output);\n",
       "  events.on('delete.Cell', handle_clear_output);\n",
       "  events.on('kernel_ready.Kernel', handle_kernel_cleanup);\n",
       "\n",
       "  OutputArea.prototype.register_mime_type(EXEC_MIME_TYPE, append_mime, {\n",
       "    safe: true,\n",
       "    index: 0\n",
       "  });\n",
       "}\n",
       "\n",
       "if (window.Jupyter !== undefined) {\n",
       "  try {\n",
       "    var events = require('base/js/events');\n",
       "    var OutputArea = require('notebook/js/outputarea').OutputArea;\n",
       "    if (OutputArea.prototype.mime_types().indexOf(EXEC_MIME_TYPE) == -1) {\n",
       "      register_renderer(events, OutputArea);\n",
       "    }\n",
       "  } catch(err) {\n",
       "  }\n",
       "}\n"
      ],
      "application/vnd.holoviews_load.v0+json": "\nif ((window.PyViz === undefined) || (window.PyViz instanceof HTMLElement)) {\n  window.PyViz = {comms: {}, comm_status:{}, kernels:{}, receivers: {}, plot_index: []}\n}\n\n\n    function JupyterCommManager() {\n    }\n\n    JupyterCommManager.prototype.register_target = function(plot_id, comm_id, msg_handler) {\n      if (window.comm_manager || ((window.Jupyter !== undefined) && (Jupyter.notebook.kernel != null))) {\n        var comm_manager = window.comm_manager || Jupyter.notebook.kernel.comm_manager;\n        comm_manager.register_target(comm_id, function(comm) {\n          comm.on_msg(msg_handler);\n        });\n      } else if ((plot_id in window.PyViz.kernels) && (window.PyViz.kernels[plot_id])) {\n        window.PyViz.kernels[plot_id].registerCommTarget(comm_id, function(comm) {\n          comm.onMsg = msg_handler;\n        });\n      } else if (typeof google != 'undefined' && google.colab.kernel != null) {\n        google.colab.kernel.comms.registerTarget(comm_id, (comm) => {\n          var messages = comm.messages[Symbol.asyncIterator]();\n          function processIteratorResult(result) {\n            var message = result.value;\n            console.log(message)\n            var content = {data: message.data, comm_id};\n            var buffers = []\n            for (var buffer of message.buffers || []) {\n              buffers.push(new DataView(buffer))\n            }\n            var metadata = message.metadata || {};\n            var msg = {content, buffers, metadata}\n            msg_handler(msg);\n            return messages.next().then(processIteratorResult);\n          }\n          return messages.next().then(processIteratorResult);\n        })\n      }\n    }\n\n    JupyterCommManager.prototype.get_client_comm = function(plot_id, comm_id, msg_handler) {\n      if (comm_id in window.PyViz.comms) {\n        return window.PyViz.comms[comm_id];\n      } else if (window.comm_manager || ((window.Jupyter !== undefined) && (Jupyter.notebook.kernel != null))) {\n        var comm_manager = window.comm_manager || Jupyter.notebook.kernel.comm_manager;\n        var comm = comm_manager.new_comm(comm_id, {}, {}, {}, comm_id);\n        if (msg_handler) {\n          comm.on_msg(msg_handler);\n        }\n      } else if ((plot_id in window.PyViz.kernels) && (window.PyViz.kernels[plot_id])) {\n        var comm = window.PyViz.kernels[plot_id].connectToComm(comm_id);\n        comm.open();\n        if (msg_handler) {\n          comm.onMsg = msg_handler;\n        }\n      } else if (typeof google != 'undefined' && google.colab.kernel != null) {\n        var comm_promise = google.colab.kernel.comms.open(comm_id)\n        comm_promise.then((comm) => {\n          window.PyViz.comms[comm_id] = comm;\n          if (msg_handler) {\n            var messages = comm.messages[Symbol.asyncIterator]();\n            function processIteratorResult(result) {\n              var message = result.value;\n              var content = {data: message.data};\n              var metadata = message.metadata || {comm_id};\n              var msg = {content, metadata}\n              msg_handler(msg);\n              return messages.next().then(processIteratorResult);\n            }\n            return messages.next().then(processIteratorResult);\n          }\n        }) \n        var sendClosure = (data, metadata, buffers, disposeOnDone) => {\n          return comm_promise.then((comm) => {\n            comm.send(data, metadata, buffers, disposeOnDone);\n          });\n        };\n        var comm = {\n          send: sendClosure\n        };\n      }\n      window.PyViz.comms[comm_id] = comm;\n      return comm;\n    }\n    window.PyViz.comm_manager = new JupyterCommManager();\n    \n\n\nvar JS_MIME_TYPE = 'application/javascript';\nvar HTML_MIME_TYPE = 'text/html';\nvar EXEC_MIME_TYPE = 'application/vnd.holoviews_exec.v0+json';\nvar CLASS_NAME = 'output';\n\n/**\n * Render data to the DOM node\n */\nfunction render(props, node) {\n  var div = document.createElement(\"div\");\n  var script = document.createElement(\"script\");\n  node.appendChild(div);\n  node.appendChild(script);\n}\n\n/**\n * Handle when a new output is added\n */\nfunction handle_add_output(event, handle) {\n  var output_area = handle.output_area;\n  var output = handle.output;\n  if ((output.data == undefined) || (!output.data.hasOwnProperty(EXEC_MIME_TYPE))) {\n    return\n  }\n  var id = output.metadata[EXEC_MIME_TYPE][\"id\"];\n  var toinsert = output_area.element.find(\".\" + CLASS_NAME.split(' ')[0]);\n  if (id !== undefined) {\n    var nchildren = toinsert.length;\n    var html_node = toinsert[nchildren-1].children[0];\n    html_node.innerHTML = output.data[HTML_MIME_TYPE];\n    var scripts = [];\n    var nodelist = html_node.querySelectorAll(\"script\");\n    for (var i in nodelist) {\n      if (nodelist.hasOwnProperty(i)) {\n        scripts.push(nodelist[i])\n      }\n    }\n\n    scripts.forEach( function (oldScript) {\n      var newScript = document.createElement(\"script\");\n      var attrs = [];\n      var nodemap = oldScript.attributes;\n      for (var j in nodemap) {\n        if (nodemap.hasOwnProperty(j)) {\n          attrs.push(nodemap[j])\n        }\n      }\n      attrs.forEach(function(attr) { newScript.setAttribute(attr.name, attr.value) });\n      newScript.appendChild(document.createTextNode(oldScript.innerHTML));\n      oldScript.parentNode.replaceChild(newScript, oldScript);\n    });\n    if (JS_MIME_TYPE in output.data) {\n      toinsert[nchildren-1].children[1].textContent = output.data[JS_MIME_TYPE];\n    }\n    output_area._hv_plot_id = id;\n    if ((window.Bokeh !== undefined) && (id in Bokeh.index)) {\n      window.PyViz.plot_index[id] = Bokeh.index[id];\n    } else {\n      window.PyViz.plot_index[id] = null;\n    }\n  } else if (output.metadata[EXEC_MIME_TYPE][\"server_id\"] !== undefined) {\n    var bk_div = document.createElement(\"div\");\n    bk_div.innerHTML = output.data[HTML_MIME_TYPE];\n    var script_attrs = bk_div.children[0].attributes;\n    for (var i = 0; i < script_attrs.length; i++) {\n      toinsert[toinsert.length - 1].childNodes[1].setAttribute(script_attrs[i].name, script_attrs[i].value);\n    }\n    // store reference to server id on output_area\n    output_area._bokeh_server_id = output.metadata[EXEC_MIME_TYPE][\"server_id\"];\n  }\n}\n\n/**\n * Handle when an output is cleared or removed\n */\nfunction handle_clear_output(event, handle) {\n  var id = handle.cell.output_area._hv_plot_id;\n  var server_id = handle.cell.output_area._bokeh_server_id;\n  if (((id === undefined) || !(id in PyViz.plot_index)) && (server_id !== undefined)) { return; }\n  var comm = window.PyViz.comm_manager.get_client_comm(\"hv-extension-comm\", \"hv-extension-comm\", function () {});\n  if (server_id !== null) {\n    comm.send({event_type: 'server_delete', 'id': server_id});\n    return;\n  } else if (comm !== null) {\n    comm.send({event_type: 'delete', 'id': id});\n  }\n  delete PyViz.plot_index[id];\n  if ((window.Bokeh !== undefined) & (id in window.Bokeh.index)) {\n    var doc = window.Bokeh.index[id].model.document\n    doc.clear();\n    const i = window.Bokeh.documents.indexOf(doc);\n    if (i > -1) {\n      window.Bokeh.documents.splice(i, 1);\n    }\n  }\n}\n\n/**\n * Handle kernel restart event\n */\nfunction handle_kernel_cleanup(event, handle) {\n  delete PyViz.comms[\"hv-extension-comm\"];\n  window.PyViz.plot_index = {}\n}\n\n/**\n * Handle update_display_data messages\n */\nfunction handle_update_output(event, handle) {\n  handle_clear_output(event, {cell: {output_area: handle.output_area}})\n  handle_add_output(event, handle)\n}\n\nfunction register_renderer(events, OutputArea) {\n  function append_mime(data, metadata, element) {\n    // create a DOM node to render to\n    var toinsert = this.create_output_subarea(\n    metadata,\n    CLASS_NAME,\n    EXEC_MIME_TYPE\n    );\n    this.keyboard_manager.register_events(toinsert);\n    // Render to node\n    var props = {data: data, metadata: metadata[EXEC_MIME_TYPE]};\n    render(props, toinsert[0]);\n    element.append(toinsert);\n    return toinsert\n  }\n\n  events.on('output_added.OutputArea', handle_add_output);\n  events.on('output_updated.OutputArea', handle_update_output);\n  events.on('clear_output.CodeCell', handle_clear_output);\n  events.on('delete.Cell', handle_clear_output);\n  events.on('kernel_ready.Kernel', handle_kernel_cleanup);\n\n  OutputArea.prototype.register_mime_type(EXEC_MIME_TYPE, append_mime, {\n    safe: true,\n    index: 0\n  });\n}\n\nif (window.Jupyter !== undefined) {\n  try {\n    var events = require('base/js/events');\n    var OutputArea = require('notebook/js/outputarea').OutputArea;\n    if (OutputArea.prototype.mime_types().indexOf(EXEC_MIME_TYPE) == -1) {\n      register_renderer(events, OutputArea);\n    }\n  } catch(err) {\n  }\n}\n"
     },
     "metadata": {},
     "output_type": "display_data"
    },
    {
     "data": {},
     "metadata": {},
     "output_type": "display_data"
    },
    {
     "data": {
      "application/vnd.holoviews_exec.v0+json": "",
      "text/html": [
       "<div id='1002'>\n",
       "\n",
       "\n",
       "\n",
       "\n",
       "\n",
       "  <div class=\"bk-root\" id=\"524e2e6a-1173-4d8d-9f4c-18983ed94db2\" data-root-id=\"1002\"></div>\n",
       "</div>\n",
       "<script type=\"application/javascript\">(function(root) {\n",
       "  function embed_document(root) {\n",
       "    var docs_json = {\"98c97aa4-a837-4590-8331-5882120f4328\":{\"defs\":[],\"roots\":{\"references\":[{\"attributes\":{\"reload\":false},\"id\":\"1004\",\"type\":\"panel.models.location.Location\"},{\"attributes\":{\"client_comm_id\":\"b18bb78591d24767a866b8f4570dd9a2\",\"comm_id\":\"aa998cabd0fe43c2afc0ad6c60d5c7e6\",\"plot_id\":\"1002\"},\"id\":\"1003\",\"type\":\"panel.models.comm_manager.CommManager\"},{\"attributes\":{\"css_classes\":[\"alert\",\"alert-success\",\"markdown\"],\"margin\":[0,0,25,0],\"name\":\"Alert00099\",\"sizing_mode\":\"stretch_width\",\"text\":\"&lt;p&gt;Import all python packages required successfully&lt;/p&gt;\"},\"id\":\"1002\",\"type\":\"panel.models.markup.HTML\"}],\"root_ids\":[\"1002\",\"1003\",\"1004\"]},\"title\":\"Bokeh Application\",\"version\":\"2.3.3\"}};\n",
       "    var render_items = [{\"docid\":\"98c97aa4-a837-4590-8331-5882120f4328\",\"root_ids\":[\"1002\"],\"roots\":{\"1002\":\"524e2e6a-1173-4d8d-9f4c-18983ed94db2\"}}];\n",
       "    root.Bokeh.embed.embed_items_notebook(docs_json, render_items);\n",
       "  }\n",
       "  if (root.Bokeh !== undefined && root.Bokeh.Panel !== undefined) {\n",
       "    embed_document(root);\n",
       "  } else {\n",
       "    var attempts = 0;\n",
       "    var timer = setInterval(function(root) {\n",
       "      if (root.Bokeh !== undefined && root.Bokeh.Panel !== undefined) {\n",
       "        clearInterval(timer);\n",
       "        embed_document(root);\n",
       "      } else if (document.readyState == \"complete\") {\n",
       "        attempts++;\n",
       "        if (attempts > 100) {\n",
       "          clearInterval(timer);\n",
       "          console.log(\"Bokeh: ERROR: Unable to run BokehJS code because BokehJS library is missing\");\n",
       "        }\n",
       "      }\n",
       "    }, 10, root)\n",
       "  }\n",
       "})(window);</script>"
      ],
      "text/plain": [
       "Alert(str, alert_type='success', css_classes=['alert', 'alert-success']...], margin=(0, 0, 25, 0), sizing_mode='stretch_width')"
      ]
     },
     "metadata": {
      "application/vnd.holoviews_exec.v0+json": {
       "id": "1002"
      }
     },
     "output_type": "display_data"
    },
    {
     "data": {
      "text/html": [
       "<img src onerror=\"var cell = this.closest('.jp-CodeCell');var editor = cell.querySelector('.jp-Editor');editor.style.background='LightBlue';this.parentNode.removeChild(this)\">"
      ],
      "text/plain": [
       "<IPython.core.display.HTML object>"
      ]
     },
     "metadata": {},
     "output_type": "display_data"
    }
   ],
   "source": [
    "from tools.jupyter import dashboard_group\n",
    "from tools.jupyter import *\n",
    "from tools.frangiPANe import *\n",
    "\n",
    "import panel as pn\n",
    "\n",
    "pn.extension()\n",
    "\n",
    "add_css()\n",
    "\n",
    "text = \"Import all python packages required successfully\"\n",
    "display_alert(text,\"success\")\n",
    "bgc('LightBlue')"
   ]
  },
  {
   "cell_type": "markdown",
   "metadata": {},
   "source": [
    "### <span style=\"color: #919395\"> _Definition of input data used by frangiPANe workflow_  <a class=\"anchor\" id=\"configinput\"></a></span>\n",
    "\n",
    "<details>\n",
    "\n",
    "* __Project Name__ : the directory name that will contain all the results generated by this analysis\n",
    "* __Output Directory__ : the parent directory that will contain the __project_name__ directory\n",
    "* __Fastq Directory__ : the directory that contains .fastq files of all the individuals\n",
    "* __Reference File__ : the reference genome used to map all reads (fastq files). The reference genome have to be provided in a fasta format. The reference genome must be indexed by BWA for subsequent analyzes. The **REF**.amb, **REF**.ann, **REF**.bwt, **REF**.pac and **REF**.sa files are created.)\n",
    "* __Group File__ :  (It is common for several individuals to have different origins when building a pangenome. To exploit this diversity in the results, PANtoum needs a tabulated file (separator = tabulation, no header); the first column corresponds to the name of the individuals (should correspond to .fastq files) and the second to the group they belong. NB : It is possible to use only one group.)\n",
    "\n",
    "ex of samples with 2 groups : wild or cultivated\n",
    "    \n",
    "| sample  | group  |\n",
    "|---|---|\n",
    "| AA | wild | \n",
    "| AB  | wild | \n",
    "| CB  | cultivated |\n",
    "\n",
    "</details>\n",
    "\n",
    "Run the following cell and fill the parameters box"
   ]
  },
  {
   "cell_type": "code",
   "execution_count": 2,
   "metadata": {},
   "outputs": [
    {
     "data": {},
     "metadata": {},
     "output_type": "display_data"
    },
    {
     "data": {
      "application/vnd.holoviews_exec.v0+json": "",
      "text/html": [
       "<div id='1005'>\n",
       "\n",
       "\n",
       "\n",
       "\n",
       "\n",
       "  <div class=\"bk-root\" id=\"22a56ee9-42ba-4100-babd-a3262bd95858\" data-root-id=\"1005\"></div>\n",
       "</div>\n",
       "<script type=\"application/javascript\">(function(root) {\n",
       "  function embed_document(root) {\n",
       "    var docs_json = {\"49f38938-009c-4ee1-947c-41385a237c46\":{\"defs\":[],\"roots\":{\"references\":[{\"attributes\":{\"background\":\"#E3ECF1\",\"children\":[{\"id\":\"1006\"},{\"id\":\"1007\"}],\"css_classes\":[\"panel-widget-box\"],\"margin\":[5,5,5,5],\"name\":\"WidgetBox00118\"},\"id\":\"1005\",\"type\":\"Column\"},{\"attributes\":{\"css_classes\":[\"markdown\"],\"margin\":[5,5,5,5],\"name\":\"Markdown00116\",\"text\":\"&lt;h1&gt;INPUT FORM&lt;/h1&gt;\"},\"id\":\"1006\",\"type\":\"panel.models.markup.HTML\"},{\"attributes\":{\"button_type\":\"primary\",\"icon\":null,\"label\":\"INIT\",\"margin\":[5,10,5,10],\"min_width\":100,\"subscribed_events\":[\"button_click\"],\"width\":100},\"id\":\"1016\",\"type\":\"Button\"},{\"attributes\":{\"margin\":[5,10,5,10],\"max_length\":5000,\"placeholder\":\"Enter the file path here...\",\"title\":\"Reference file\"},\"id\":\"1013\",\"type\":\"TextInput\"},{\"attributes\":{\"margin\":[5,10,5,10],\"max_length\":5000,\"placeholder\":\"Enter the file path here...\",\"title\":\"Group file\"},\"id\":\"1012\",\"type\":\"TextInput\"},{\"attributes\":{\"css_classes\":[\"alert\",\"alert-warning\",\"markdown\"],\"height\":200,\"margin\":[0,0,25,0],\"name\":\"Alert00104\",\"sizing_mode\":\"stretch_width\",\"text\":\"&lt;p&gt;No filled&lt;/p&gt;\"},\"id\":\"1017\",\"type\":\"panel.models.markup.HTML\"},{\"attributes\":{\"children\":[{\"id\":\"1008\"},{\"id\":\"1011\"},{\"id\":\"1012\"},{\"id\":\"1013\"},{\"id\":\"1014\"},{\"id\":\"1017\"}],\"margin\":[0,0,0,0],\"min_width\":800,\"name\":\"Column00115\",\"width\":800},\"id\":\"1007\",\"type\":\"Column\"},{\"attributes\":{\"margin\":[5,10,5,10],\"max_length\":5000,\"placeholder\":\"Enter the name here...\",\"title\":\"Project name :\"},\"id\":\"1009\",\"type\":\"TextInput\"},{\"attributes\":{\"button_type\":\"primary\",\"icon\":null,\"label\":\"SAVE\",\"margin\":[5,10,5,10],\"min_width\":100,\"subscribed_events\":[\"button_click\"],\"width\":100},\"id\":\"1015\",\"type\":\"Button\"},{\"attributes\":{\"children\":[{\"id\":\"1015\"},{\"id\":\"1016\"}],\"margin\":[0,0,0,0],\"name\":\"Row00113\"},\"id\":\"1014\",\"type\":\"Row\"},{\"attributes\":{\"margin\":[5,10,5,10],\"max_length\":5000,\"placeholder\":\"Enter the directory path here...\",\"title\":\"Output directory :\"},\"id\":\"1010\",\"type\":\"TextInput\"},{\"attributes\":{\"client_comm_id\":\"e30deec33fe247109b443812733ee1f4\",\"comm_id\":\"2c8f54182eb440f188806e1ce7f4c060\",\"plot_id\":\"1005\"},\"id\":\"1018\",\"type\":\"panel.models.comm_manager.CommManager\"},{\"attributes\":{\"margin\":[5,10,5,10],\"max_length\":5000,\"placeholder\":\"Enter the directory path here...\",\"title\":\"Fastq directory\"},\"id\":\"1011\",\"type\":\"TextInput\"},{\"attributes\":{\"children\":[{\"id\":\"1009\"},{\"id\":\"1010\"}],\"margin\":[0,0,0,0],\"name\":\"Row00114\"},\"id\":\"1008\",\"type\":\"Row\"}],\"root_ids\":[\"1005\",\"1018\"]},\"title\":\"Bokeh Application\",\"version\":\"2.3.3\"}};\n",
       "    var render_items = [{\"docid\":\"49f38938-009c-4ee1-947c-41385a237c46\",\"root_ids\":[\"1005\"],\"roots\":{\"1005\":\"22a56ee9-42ba-4100-babd-a3262bd95858\"}}];\n",
       "    root.Bokeh.embed.embed_items_notebook(docs_json, render_items);\n",
       "  }\n",
       "  if (root.Bokeh !== undefined && root.Bokeh.Panel !== undefined) {\n",
       "    embed_document(root);\n",
       "  } else {\n",
       "    var attempts = 0;\n",
       "    var timer = setInterval(function(root) {\n",
       "      if (root.Bokeh !== undefined && root.Bokeh.Panel !== undefined) {\n",
       "        clearInterval(timer);\n",
       "        embed_document(root);\n",
       "      } else if (document.readyState == \"complete\") {\n",
       "        attempts++;\n",
       "        if (attempts > 100) {\n",
       "          clearInterval(timer);\n",
       "          console.log(\"Bokeh: ERROR: Unable to run BokehJS code because BokehJS library is missing\");\n",
       "        }\n",
       "      }\n",
       "    }, 10, root)\n",
       "  }\n",
       "})(window);</script>"
      ],
      "text/plain": [
       "WidgetBox(background='#E3ECF1')\n",
       "    [0] Markdown(str)\n",
       "    [1] Column(width=800)\n",
       "        [0] Row\n",
       "            [0] TextInput(name='Project name :', placeholder='Enter the name here...')\n",
       "            [1] TextInput(name='Output directory :', placeholder='Enter the directory p...)\n",
       "        [1] TextInput(name='Fastq directory', placeholder='Enter the directory p...)\n",
       "        [2] TextInput(name='Group file', placeholder='Enter the file p...)\n",
       "        [3] TextInput(name='Reference file', placeholder='Enter the file p...)\n",
       "        [4] Row\n",
       "            [0] Button(button_type='primary', name='SAVE', width=100)\n",
       "            [1] Button(button_type='primary', name='INIT', width=100)\n",
       "        [5] Alert(str, alert_type='warning', css_classes=['alert', 'alert-warning']...], height=200, margin=(0, 0, 25, 0), sizing_mode='stretch_width')"
      ]
     },
     "metadata": {
      "application/vnd.holoviews_exec.v0+json": {
       "id": "1005"
      }
     },
     "output_type": "display_data"
    },
    {
     "data": {
      "text/html": [
       "<img src onerror=\"var cell = this.closest('.jp-CodeCell');var editor = cell.querySelector('.jp-Editor');editor.style.background='LightBlue';this.parentNode.removeChild(this)\">"
      ],
      "text/plain": [
       "<IPython.core.display.HTML object>"
      ]
     },
     "metadata": {},
     "output_type": "display_data"
    }
   ],
   "source": [
    "project_name, out_dir, ref_file, group_file, fastq_dir= box_config()\n",
    "bgc('LightBlue')"
   ]
  },
  {
   "cell_type": "markdown",
   "metadata": {},
   "source": [
    "### <span style=\"color: #919395\">_Creating frangiPANe output directory_<a class=\"anchor\" id=\"outputdirectory\"></a></span>\n",
    "\n",
    "<img src=\"Images/frangiPANe_output_tree.jpg\">\n",
    "\n",
    "Be careful : if the directory already exists, files and directory that were generated by previous analysis could be removed by new analysis steps\n",
    "\n",
    "In the log file,  all outputs generated by bioinformatics tools (eg: bwa index, mem, abyss) are saved"
   ]
  },
  {
   "cell_type": "code",
   "execution_count": null,
   "metadata": {},
   "outputs": [
    {
     "data": {},
     "metadata": {},
     "output_type": "display_data"
    },
    {
     "data": {
      "application/vnd.holoviews_exec.v0+json": "",
      "text/html": [
       "<div id='1019'>\n",
       "\n",
       "\n",
       "\n",
       "\n",
       "\n",
       "  <div class=\"bk-root\" id=\"5cef4002-72e1-45a9-9c5d-357079f1d022\" data-root-id=\"1019\"></div>\n",
       "</div>\n",
       "<script type=\"application/javascript\">(function(root) {\n",
       "  function embed_document(root) {\n",
       "    var docs_json = {\"8f87b27a-e297-4862-b88c-6cabf47f391f\":{\"defs\":[],\"roots\":{\"references\":[{\"attributes\":{\"css_classes\":[\"alert\",\"alert-warning\",\"markdown\"],\"margin\":[0,0,25,0],\"name\":\"Alert00121\",\"sizing_mode\":\"stretch_width\",\"text\":\"&lt;h3&gt;warning&lt;/h3&gt;\\n&lt;hr&gt;\\n&lt;p&gt;Directory /home/christine/Documents/These/frangiPANeGIT/frangiPANe_rice already existed&lt;/p&gt;\"},\"id\":\"1019\",\"type\":\"panel.models.markup.HTML\"},{\"attributes\":{\"client_comm_id\":\"e8bf8ec4d9244aee8310e0951091d8d0\",\"comm_id\":\"4bdcfcee9693478d9f5dcf54b1fe2226\",\"plot_id\":\"1019\"},\"id\":\"1020\",\"type\":\"panel.models.comm_manager.CommManager\"}],\"root_ids\":[\"1019\",\"1020\"]},\"title\":\"Bokeh Application\",\"version\":\"2.3.3\"}};\n",
       "    var render_items = [{\"docid\":\"8f87b27a-e297-4862-b88c-6cabf47f391f\",\"root_ids\":[\"1019\"],\"roots\":{\"1019\":\"5cef4002-72e1-45a9-9c5d-357079f1d022\"}}];\n",
       "    root.Bokeh.embed.embed_items_notebook(docs_json, render_items);\n",
       "  }\n",
       "  if (root.Bokeh !== undefined && root.Bokeh.Panel !== undefined) {\n",
       "    embed_document(root);\n",
       "  } else {\n",
       "    var attempts = 0;\n",
       "    var timer = setInterval(function(root) {\n",
       "      if (root.Bokeh !== undefined && root.Bokeh.Panel !== undefined) {\n",
       "        clearInterval(timer);\n",
       "        embed_document(root);\n",
       "      } else if (document.readyState == \"complete\") {\n",
       "        attempts++;\n",
       "        if (attempts > 100) {\n",
       "          clearInterval(timer);\n",
       "          console.log(\"Bokeh: ERROR: Unable to run BokehJS code because BokehJS library is missing\");\n",
       "        }\n",
       "      }\n",
       "    }, 10, root)\n",
       "  }\n",
       "})(window);</script>"
      ],
      "text/plain": [
       "Alert(str, alert_type='warning', css_classes=['alert', 'alert-warning']...], margin=(0, 0, 25, 0), sizing_mode='stretch_width')"
      ]
     },
     "metadata": {
      "application/vnd.holoviews_exec.v0+json": {
       "id": "1019"
      }
     },
     "output_type": "display_data"
    },
    {
     "data": {},
     "metadata": {},
     "output_type": "display_data"
    },
    {
     "data": {
      "application/vnd.holoviews_exec.v0+json": "",
      "text/html": [
       "<div id='1021'>\n",
       "\n",
       "\n",
       "\n",
       "\n",
       "\n",
       "  <div class=\"bk-root\" id=\"268707bd-675d-474c-9727-d5eee218cd6f\" data-root-id=\"1021\"></div>\n",
       "</div>\n",
       "<script type=\"application/javascript\">(function(root) {\n",
       "  function embed_document(root) {\n",
       "    var docs_json = {\"fd88ae79-10e8-4972-9a14-42912a29b7d5\":{\"defs\":[],\"roots\":{\"references\":[{\"attributes\":{\"css_classes\":[\"alert\",\"alert-success\",\"markdown\"],\"margin\":[0,0,25,0],\"name\":\"Alert00125\",\"sizing_mode\":\"stretch_width\",\"text\":\"&lt;p&gt;Log /home/christine/Documents/These/frangiPANeGIT/frangiPANe_rice/frangiPANe_-23-10-2021_13:05:53.log created&lt;/p&gt;\"},\"id\":\"1021\",\"type\":\"panel.models.markup.HTML\"},{\"attributes\":{\"client_comm_id\":\"83d9879679d6424f9db0f3ebe4534766\",\"comm_id\":\"a54b86dc19344462961a25f9f011562a\",\"plot_id\":\"1021\"},\"id\":\"1022\",\"type\":\"panel.models.comm_manager.CommManager\"}],\"root_ids\":[\"1021\",\"1022\"]},\"title\":\"Bokeh Application\",\"version\":\"2.3.3\"}};\n",
       "    var render_items = [{\"docid\":\"fd88ae79-10e8-4972-9a14-42912a29b7d5\",\"root_ids\":[\"1021\"],\"roots\":{\"1021\":\"268707bd-675d-474c-9727-d5eee218cd6f\"}}];\n",
       "    root.Bokeh.embed.embed_items_notebook(docs_json, render_items);\n",
       "  }\n",
       "  if (root.Bokeh !== undefined && root.Bokeh.Panel !== undefined) {\n",
       "    embed_document(root);\n",
       "  } else {\n",
       "    var attempts = 0;\n",
       "    var timer = setInterval(function(root) {\n",
       "      if (root.Bokeh !== undefined && root.Bokeh.Panel !== undefined) {\n",
       "        clearInterval(timer);\n",
       "        embed_document(root);\n",
       "      } else if (document.readyState == \"complete\") {\n",
       "        attempts++;\n",
       "        if (attempts > 100) {\n",
       "          clearInterval(timer);\n",
       "          console.log(\"Bokeh: ERROR: Unable to run BokehJS code because BokehJS library is missing\");\n",
       "        }\n",
       "      }\n",
       "    }, 10, root)\n",
       "  }\n",
       "})(window);</script>"
      ],
      "text/plain": [
       "Alert(str, alert_type='success', css_classes=['alert', 'alert-success']...], margin=(0, 0, 25, 0), sizing_mode='stretch_width')"
      ]
     },
     "metadata": {
      "application/vnd.holoviews_exec.v0+json": {
       "id": "1021"
      }
     },
     "output_type": "display_data"
    },
    {
     "data": {
      "text/html": [
       "<img src onerror=\"var cell = this.closest('.jp-CodeCell');var editor = cell.querySelector('.jp-Editor');editor.style.background='LightBlue';this.parentNode.removeChild(this)\">"
      ],
      "text/plain": [
       "<IPython.core.display.HTML object>"
      ]
     },
     "metadata": {},
     "output_type": "display_data"
    }
   ],
   "source": [
    "#output_dir=\"/home/christine/Documents/These/frangiPANeGIT/frangiPANe_rice\"\n",
    "output_dir = out_dir.value + \"/frangiPANe_\" + project_name.value\n",
    "make_dir(output_dir)\n",
    "logger = init_log(output_dir,project_name.value)\n",
    "bgc('LightBlue')"
   ]
  },
  {
   "cell_type": "code",
   "execution_count": 3,
   "metadata": {},
   "outputs": [
    {
     "data": {},
     "metadata": {},
     "output_type": "display_data"
    },
    {
     "data": {
      "application/vnd.holoviews_exec.v0+json": "",
      "text/html": [
       "<div id='1019'>\n",
       "\n",
       "\n",
       "\n",
       "\n",
       "\n",
       "  <div class=\"bk-root\" id=\"85badb9b-dac6-4fae-9279-a73c04fa3591\" data-root-id=\"1019\"></div>\n",
       "</div>\n",
       "<script type=\"application/javascript\">(function(root) {\n",
       "  function embed_document(root) {\n",
       "    var docs_json = {\"5d5f5b9e-3954-455a-8011-49b9c6777879\":{\"defs\":[],\"roots\":{\"references\":[{\"attributes\":{\"css_classes\":[\"alert\",\"alert-success\",\"markdown\"],\"margin\":[0,0,25,0],\"name\":\"Alert00121\",\"sizing_mode\":\"stretch_width\",\"text\":\"&lt;p&gt;Log /home/christine/Documents/These/frangiPANeGIT/frangiPANe_rice/frangiPANe_rice-24-10-2021_22:14:15.log created&lt;/p&gt;\"},\"id\":\"1019\",\"type\":\"panel.models.markup.HTML\"},{\"attributes\":{\"client_comm_id\":\"d58878af268647aa8838efb32384de7c\",\"comm_id\":\"ba9ff991c3214c8d8753c8c01fd58fa3\",\"plot_id\":\"1019\"},\"id\":\"1020\",\"type\":\"panel.models.comm_manager.CommManager\"}],\"root_ids\":[\"1019\",\"1020\"]},\"title\":\"Bokeh Application\",\"version\":\"2.3.3\"}};\n",
       "    var render_items = [{\"docid\":\"5d5f5b9e-3954-455a-8011-49b9c6777879\",\"root_ids\":[\"1019\"],\"roots\":{\"1019\":\"85badb9b-dac6-4fae-9279-a73c04fa3591\"}}];\n",
       "    root.Bokeh.embed.embed_items_notebook(docs_json, render_items);\n",
       "  }\n",
       "  if (root.Bokeh !== undefined && root.Bokeh.Panel !== undefined) {\n",
       "    embed_document(root);\n",
       "  } else {\n",
       "    var attempts = 0;\n",
       "    var timer = setInterval(function(root) {\n",
       "      if (root.Bokeh !== undefined && root.Bokeh.Panel !== undefined) {\n",
       "        clearInterval(timer);\n",
       "        embed_document(root);\n",
       "      } else if (document.readyState == \"complete\") {\n",
       "        attempts++;\n",
       "        if (attempts > 100) {\n",
       "          clearInterval(timer);\n",
       "          console.log(\"Bokeh: ERROR: Unable to run BokehJS code because BokehJS library is missing\");\n",
       "        }\n",
       "      }\n",
       "    }, 10, root)\n",
       "  }\n",
       "})(window);</script>"
      ],
      "text/plain": [
       "Alert(str, alert_type='success', css_classes=['alert', 'alert-success']...], margin=(0, 0, 25, 0), sizing_mode='stretch_width')"
      ]
     },
     "metadata": {
      "application/vnd.holoviews_exec.v0+json": {
       "id": "1019"
      }
     },
     "output_type": "display_data"
    }
   ],
   "source": [
    "#### TO REMOVE\n",
    "project_name=\"rice\"\n",
    "output_dir=\"/home/christine/Documents/These/frangiPANeGIT/frangiPANe_rice\"\n",
    "fastq_dir=\"/home/christine/Documents/These/frangiPANeGIT/rice/fastq\"\n",
    "group_file=\"/home/christine/Documents/These/frangiPANeGIT/rice/rice_group.txt\"\n",
    "ref_file=\"/home/christine/Documents/These/frangiPANeGIT/rice/OglaRS2ADWL02.12chronly.fa\"\n",
    "logger = init_log(output_dir,project_name)"
   ]
  },
  {
   "cell_type": "markdown",
   "metadata": {},
   "source": [
    "### <span style=\"color: #919395\">_Preparing Genome Reference for next analysis_\n",
    "\n",
    "#### __Genome indexation__ and __Genome dashboard__\n",
    "\n",
    "This step is done with `bwa index` if index are absent. Indexation is required before performing reads mapping against genome reference."
   ]
  },
  {
   "cell_type": "code",
   "execution_count": 5,
   "metadata": {},
   "outputs": [
    {
     "ename": "AttributeError",
     "evalue": "'str' object has no attribute 'value'",
     "output_type": "error",
     "traceback": [
      "\u001b[0;31m---------------------------------------------------------------------------\u001b[0m",
      "\u001b[0;31mAttributeError\u001b[0m                            Traceback (most recent call last)",
      "\u001b[0;32m/tmp/ipykernel_4895/2030980057.py\u001b[0m in \u001b[0;36m<module>\u001b[0;34m\u001b[0m\n\u001b[0;32m----> 1\u001b[0;31m \u001b[0mindex_reference_genome\u001b[0m\u001b[0;34m(\u001b[0m\u001b[0mref_file\u001b[0m\u001b[0;34m.\u001b[0m\u001b[0mvalue\u001b[0m\u001b[0;34m,\u001b[0m \u001b[0mlogger\u001b[0m\u001b[0;34m)\u001b[0m\u001b[0;34m\u001b[0m\u001b[0;34m\u001b[0m\u001b[0m\n\u001b[0m\u001b[1;32m      2\u001b[0m \u001b[0mtotal_genome_size\u001b[0m\u001b[0;34m=\u001b[0m\u001b[0mdashboard_genome\u001b[0m\u001b[0;34m(\u001b[0m\u001b[0mref_file\u001b[0m\u001b[0;34m.\u001b[0m\u001b[0mvalue\u001b[0m\u001b[0;34m)\u001b[0m\u001b[0;34m\u001b[0m\u001b[0;34m\u001b[0m\u001b[0m\n\u001b[1;32m      3\u001b[0m \u001b[0mbgc\u001b[0m\u001b[0;34m(\u001b[0m\u001b[0;34m'LightBlue'\u001b[0m\u001b[0;34m)\u001b[0m\u001b[0;34m\u001b[0m\u001b[0;34m\u001b[0m\u001b[0m\n",
      "\u001b[0;31mAttributeError\u001b[0m: 'str' object has no attribute 'value'"
     ]
    }
   ],
   "source": [
    "index_reference_genome(ref_file.value, logger)\n",
    "total_genome_size=dashboard_genome(ref_file.value)\n",
    "bgc('LightBlue')"
   ]
  },
  {
   "cell_type": "code",
   "execution_count": 4,
   "metadata": {},
   "outputs": [
    {
     "data": {},
     "metadata": {},
     "output_type": "display_data"
    },
    {
     "data": {
      "application/vnd.holoviews_exec.v0+json": "",
      "text/html": [
       "<div id='1021'>\n",
       "\n",
       "\n",
       "\n",
       "\n",
       "\n",
       "  <div class=\"bk-root\" id=\"12b1a8c6-ccf4-4179-8828-b9d4999061c5\" data-root-id=\"1021\"></div>\n",
       "</div>\n",
       "<script type=\"application/javascript\">(function(root) {\n",
       "  function embed_document(root) {\n",
       "    var docs_json = {\"9bc4acbb-485a-4600-872a-66e4473955bb\":{\"defs\":[],\"roots\":{\"references\":[{\"attributes\":{\"css_classes\":[\"alert\",\"alert-info\",\"markdown\"],\"margin\":[0,0,25,0],\"name\":\"Alert00125\",\"sizing_mode\":\"stretch_width\",\"text\":\"&lt;p&gt;Searching index files for reference file /home/christine/Documents/These/frangiPANeGIT/rice/OglaRS2ADWL02.12chronly.fa&lt;/p&gt;\"},\"id\":\"1021\",\"type\":\"panel.models.markup.HTML\"},{\"attributes\":{\"client_comm_id\":\"c51930c1e74249369375eade14c741ab\",\"comm_id\":\"4c61f1e74c8b4413847a01e74cf7669c\",\"plot_id\":\"1021\"},\"id\":\"1022\",\"type\":\"panel.models.comm_manager.CommManager\"}],\"root_ids\":[\"1021\",\"1022\"]},\"title\":\"Bokeh Application\",\"version\":\"2.3.3\"}};\n",
       "    var render_items = [{\"docid\":\"9bc4acbb-485a-4600-872a-66e4473955bb\",\"root_ids\":[\"1021\"],\"roots\":{\"1021\":\"12b1a8c6-ccf4-4179-8828-b9d4999061c5\"}}];\n",
       "    root.Bokeh.embed.embed_items_notebook(docs_json, render_items);\n",
       "  }\n",
       "  if (root.Bokeh !== undefined && root.Bokeh.Panel !== undefined) {\n",
       "    embed_document(root);\n",
       "  } else {\n",
       "    var attempts = 0;\n",
       "    var timer = setInterval(function(root) {\n",
       "      if (root.Bokeh !== undefined && root.Bokeh.Panel !== undefined) {\n",
       "        clearInterval(timer);\n",
       "        embed_document(root);\n",
       "      } else if (document.readyState == \"complete\") {\n",
       "        attempts++;\n",
       "        if (attempts > 100) {\n",
       "          clearInterval(timer);\n",
       "          console.log(\"Bokeh: ERROR: Unable to run BokehJS code because BokehJS library is missing\");\n",
       "        }\n",
       "      }\n",
       "    }, 10, root)\n",
       "  }\n",
       "})(window);</script>"
      ],
      "text/plain": [
       "Alert(str, alert_type='info', css_classes=['alert', 'alert-info'], margin=(0, 0, 25, 0), sizing_mode='stretch_width')"
      ]
     },
     "metadata": {
      "application/vnd.holoviews_exec.v0+json": {
       "id": "1021"
      }
     },
     "output_type": "display_data"
    },
    {
     "data": {},
     "metadata": {},
     "output_type": "display_data"
    },
    {
     "data": {
      "application/vnd.holoviews_exec.v0+json": "",
      "text/html": [
       "<div id='1023'>\n",
       "\n",
       "\n",
       "\n",
       "\n",
       "\n",
       "  <div class=\"bk-root\" id=\"036c30da-7855-4e9e-b8df-506171b71dd9\" data-root-id=\"1023\"></div>\n",
       "</div>\n",
       "<script type=\"application/javascript\">(function(root) {\n",
       "  function embed_document(root) {\n",
       "    var docs_json = {\"1a7a600e-13b4-4b92-8765-c19972f0cdb8\":{\"defs\":[],\"roots\":{\"references\":[{\"attributes\":{\"css_classes\":[\"alert\",\"alert-warning\",\"markdown\"],\"margin\":[0,0,25,0],\"name\":\"Alert00129\",\"sizing_mode\":\"stretch_width\",\"text\":\"&lt;p&gt;Index files already available (/home/christine/Documents/These/frangiPANeGIT/rice/OglaRS2ADWL02.12chronly.fa).... Skip Indexation Step&lt;/p&gt;\"},\"id\":\"1023\",\"type\":\"panel.models.markup.HTML\"},{\"attributes\":{\"client_comm_id\":\"57bcae5479e74135a8c87d3bc052d53e\",\"comm_id\":\"946666a209e64b1886729662734f1b1c\",\"plot_id\":\"1023\"},\"id\":\"1024\",\"type\":\"panel.models.comm_manager.CommManager\"}],\"root_ids\":[\"1023\",\"1024\"]},\"title\":\"Bokeh Application\",\"version\":\"2.3.3\"}};\n",
       "    var render_items = [{\"docid\":\"1a7a600e-13b4-4b92-8765-c19972f0cdb8\",\"root_ids\":[\"1023\"],\"roots\":{\"1023\":\"036c30da-7855-4e9e-b8df-506171b71dd9\"}}];\n",
       "    root.Bokeh.embed.embed_items_notebook(docs_json, render_items);\n",
       "  }\n",
       "  if (root.Bokeh !== undefined && root.Bokeh.Panel !== undefined) {\n",
       "    embed_document(root);\n",
       "  } else {\n",
       "    var attempts = 0;\n",
       "    var timer = setInterval(function(root) {\n",
       "      if (root.Bokeh !== undefined && root.Bokeh.Panel !== undefined) {\n",
       "        clearInterval(timer);\n",
       "        embed_document(root);\n",
       "      } else if (document.readyState == \"complete\") {\n",
       "        attempts++;\n",
       "        if (attempts > 100) {\n",
       "          clearInterval(timer);\n",
       "          console.log(\"Bokeh: ERROR: Unable to run BokehJS code because BokehJS library is missing\");\n",
       "        }\n",
       "      }\n",
       "    }, 10, root)\n",
       "  }\n",
       "})(window);</script>"
      ],
      "text/plain": [
       "Alert(str, alert_type='warning', css_classes=['alert', 'alert-warning']...], margin=(0, 0, 25, 0), sizing_mode='stretch_width')"
      ]
     },
     "metadata": {
      "application/vnd.holoviews_exec.v0+json": {
       "id": "1023"
      }
     },
     "output_type": "display_data"
    },
    {
     "data": {},
     "metadata": {},
     "output_type": "display_data"
    },
    {
     "data": {
      "application/vnd.holoviews_exec.v0+json": "",
      "text/html": [
       "<div id='1025'>\n",
       "\n",
       "\n",
       "\n",
       "\n",
       "\n",
       "  <div class=\"bk-root\" id=\"46f9e119-16e4-49c4-a355-096e828f6d82\" data-root-id=\"1025\"></div>\n",
       "</div>\n",
       "<script type=\"application/javascript\">(function(root) {\n",
       "  function embed_document(root) {\n",
       "    var docs_json = {\"603aa1ad-733a-45ad-be00-6822a7aea17e\":{\"defs\":[],\"roots\":{\"references\":[{\"attributes\":{\"css_classes\":[\"markdown\"],\"margin\":[5,5,5,5],\"name\":\"Markdown00140\",\"text\":\"&lt;h2&gt;Genome size (Mb) : 344.46&lt;/h2&gt;\"},\"id\":\"1027\",\"type\":\"panel.models.markup.HTML\"},{\"attributes\":{\"background\":\"WhiteSmoke\",\"children\":[{\"id\":\"1026\"},{\"id\":\"1027\"},{\"id\":\"1028\"}],\"margin\":[0,0,0,0],\"name\":\"Column00142\",\"sizing_mode\":\"stretch_both\"},\"id\":\"1025\",\"type\":\"Column\"},{\"attributes\":{\"children\":[{\"id\":\"1029\"},{\"id\":\"1030\"}],\"margin\":[0,0,0,0],\"name\":\"Row00137\"},\"id\":\"1028\",\"type\":\"Row\"},{\"attributes\":{\"css_classes\":[\"markdown\"],\"margin\":[5,5,5,5],\"name\":\"Markdown00138\",\"text\":\"&lt;h1&gt;Reference genome file&lt;/h1&gt;\"},\"id\":\"1026\",\"type\":\"panel.models.markup.HTML\"},{\"attributes\":{\"height\":432,\"margin\":[5,5,5,5],\"name\":\"Matplotlib00135\",\"text\":\"&lt;img src=&quot;data:image/png;base64,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&quot; width=&quot;576px&quot; height=&quot;432px&quot; alt=&quot;&quot;&gt;&lt;/img&gt;\",\"width\":576},\"id\":\"1029\",\"type\":\"panel.models.markup.HTML\"},{\"attributes\":{\"margin\":[5,5,5,5],\"name\":\"DataFrame00133\",\"text\":\"&lt;table border=&quot;0&quot; class=&quot;dataframe panel-df&quot;&gt;\\n  &lt;thead&gt;\\n    &lt;tr style=&quot;text-align: right;&quot;&gt;\\n      &lt;th&gt;&lt;/th&gt;\\n      &lt;th&gt;chr&lt;/th&gt;\\n      &lt;th&gt;size&lt;/th&gt;\\n    &lt;/tr&gt;\\n  &lt;/thead&gt;\\n  &lt;tbody&gt;\\n    &lt;tr&gt;\\n      &lt;th&gt;0&lt;/th&gt;\\n      &lt;td&gt;Chr01&lt;/td&gt;\\n      &lt;td&gt;39.66&lt;/td&gt;\\n    &lt;/tr&gt;\\n    &lt;tr&gt;\\n      &lt;th&gt;1&lt;/th&gt;\\n      &lt;td&gt;Chr02&lt;/td&gt;\\n      &lt;td&gt;34.45&lt;/td&gt;\\n    &lt;/tr&gt;\\n    &lt;tr&gt;\\n      &lt;th&gt;2&lt;/th&gt;\\n      &lt;td&gt;Chr03&lt;/td&gt;\\n      &lt;td&gt;35.53&lt;/td&gt;\\n    &lt;/tr&gt;\\n    &lt;tr&gt;\\n      &lt;th&gt;3&lt;/th&gt;\\n      &lt;td&gt;Chr04&lt;/td&gt;\\n      &lt;td&gt;31.57&lt;/td&gt;\\n    &lt;/tr&gt;\\n    &lt;tr&gt;\\n      &lt;th&gt;4&lt;/th&gt;\\n      &lt;td&gt;Chr05&lt;/td&gt;\\n      &lt;td&gt;26.27&lt;/td&gt;\\n    &lt;/tr&gt;\\n    &lt;tr&gt;\\n      &lt;th&gt;5&lt;/th&gt;\\n      &lt;td&gt;Chr06&lt;/td&gt;\\n      &lt;td&gt;29.28&lt;/td&gt;\\n    &lt;/tr&gt;\\n    &lt;tr&gt;\\n      &lt;th&gt;6&lt;/th&gt;\\n      &lt;td&gt;Chr07&lt;/td&gt;\\n      &lt;td&gt;26.60&lt;/td&gt;\\n    &lt;/tr&gt;\\n    &lt;tr&gt;\\n      &lt;th&gt;7&lt;/th&gt;\\n      &lt;td&gt;Chr08&lt;/td&gt;\\n      &lt;td&gt;25.47&lt;/td&gt;\\n    &lt;/tr&gt;\\n    &lt;tr&gt;\\n      &lt;th&gt;8&lt;/th&gt;\\n      &lt;td&gt;Chr09&lt;/td&gt;\\n      &lt;td&gt;21.80&lt;/td&gt;\\n    &lt;/tr&gt;\\n    &lt;tr&gt;\\n      &lt;th&gt;9&lt;/th&gt;\\n      &lt;td&gt;Chr10&lt;/td&gt;\\n      &lt;td&gt;22.42&lt;/td&gt;\\n    &lt;/tr&gt;\\n    &lt;tr&gt;\\n      &lt;th&gt;10&lt;/th&gt;\\n      &lt;td&gt;Chr11&lt;/td&gt;\\n      &lt;td&gt;26.39&lt;/td&gt;\\n    &lt;/tr&gt;\\n    &lt;tr&gt;\\n      &lt;th&gt;11&lt;/th&gt;\\n      &lt;td&gt;Chr12&lt;/td&gt;\\n      &lt;td&gt;25.02&lt;/td&gt;\\n    &lt;/tr&gt;\\n  &lt;/tbody&gt;\\n&lt;/table&gt;\"},\"id\":\"1030\",\"type\":\"panel.models.markup.HTML\"},{\"attributes\":{\"client_comm_id\":\"6e8de2b4d25a425e847d84a9ac5bd8e1\",\"comm_id\":\"034aa1f707fa434a96a20b535b71ed52\",\"plot_id\":\"1025\"},\"id\":\"1031\",\"type\":\"panel.models.comm_manager.CommManager\"}],\"root_ids\":[\"1025\",\"1031\"]},\"title\":\"Bokeh Application\",\"version\":\"2.3.3\"}};\n",
       "    var render_items = [{\"docid\":\"603aa1ad-733a-45ad-be00-6822a7aea17e\",\"root_ids\":[\"1025\"],\"roots\":{\"1025\":\"46f9e119-16e4-49c4-a355-096e828f6d82\"}}];\n",
       "    root.Bokeh.embed.embed_items_notebook(docs_json, render_items);\n",
       "  }\n",
       "  if (root.Bokeh !== undefined && root.Bokeh.Panel !== undefined) {\n",
       "    embed_document(root);\n",
       "  } else {\n",
       "    var attempts = 0;\n",
       "    var timer = setInterval(function(root) {\n",
       "      if (root.Bokeh !== undefined && root.Bokeh.Panel !== undefined) {\n",
       "        clearInterval(timer);\n",
       "        embed_document(root);\n",
       "      } else if (document.readyState == \"complete\") {\n",
       "        attempts++;\n",
       "        if (attempts > 100) {\n",
       "          clearInterval(timer);\n",
       "          console.log(\"Bokeh: ERROR: Unable to run BokehJS code because BokehJS library is missing\");\n",
       "        }\n",
       "      }\n",
       "    }, 10, root)\n",
       "  }\n",
       "})(window);</script>"
      ],
      "text/plain": [
       "Column(background='WhiteSmoke', sizing_mode='stretch_both')\n",
       "    [0] Markdown(str)\n",
       "    [1] Markdown(str)\n",
       "    [2] Row\n",
       "        [0] Matplotlib(Figure)\n",
       "        [1] DataFrame(DataFrame)"
      ]
     },
     "metadata": {
      "application/vnd.holoviews_exec.v0+json": {
       "id": "1025"
      }
     },
     "output_type": "display_data"
    },
    {
     "data": {
      "text/html": [
       "<img src onerror=\"var cell = this.closest('.jp-CodeCell');var editor = cell.querySelector('.jp-Editor');editor.style.background='LightBlue';this.parentNode.removeChild(this)\">"
      ],
      "text/plain": [
       "<IPython.core.display.HTML object>"
      ]
     },
     "metadata": {},
     "output_type": "display_data"
    }
   ],
   "source": [
    "index_reference_genome(ref_file, logger)\n",
    "total_genome_size=dashboard_genome(ref_file)\n",
    "bgc('LightBlue')"
   ]
  },
  {
   "cell_type": "markdown",
   "metadata": {},
   "source": [
    "### <span style=\"color: #919395\">_Analyzing Group File_</span> "
   ]
  },
  {
   "cell_type": "code",
   "execution_count": 4,
   "metadata": {},
   "outputs": [
    {
     "data": {},
     "metadata": {},
     "output_type": "display_data"
    },
    {
     "data": {
      "application/vnd.holoviews_exec.v0+json": "",
      "text/html": [
       "<div id='1018'>\n",
       "\n",
       "\n",
       "\n",
       "\n",
       "\n",
       "  <div class=\"bk-root\" id=\"978fe73e-44bc-4f95-aff1-f88aa296ad05\" data-root-id=\"1018\"></div>\n",
       "</div>\n",
       "<script type=\"application/javascript\">(function(root) {\n",
       "  function embed_document(root) {\n",
       "    var docs_json = {\"127e5351-7c22-4212-b239-0bac0085af06\":{\"defs\":[],\"roots\":{\"references\":[{\"attributes\":{\"client_comm_id\":\"b62bb4c56ff748fa848b96b4386a9667\",\"comm_id\":\"370aca1aa6834ee0854f9299c9ea56b6\",\"plot_id\":\"1018\"},\"id\":\"1019\",\"type\":\"panel.models.comm_manager.CommManager\"},{\"attributes\":{\"css_classes\":[\"alert\",\"alert-success\",\"markdown\"],\"margin\":[0,0,25,0],\"name\":\"Alert00128\",\"sizing_mode\":\"stretch_width\",\"text\":\"&lt;p&gt;Group file /home/christine/Documents/These/frangiPANeGIT/rice/rice_group.txt correctly read&lt;/p&gt;\"},\"id\":\"1018\",\"type\":\"panel.models.markup.HTML\"}],\"root_ids\":[\"1018\",\"1019\"]},\"title\":\"Bokeh Application\",\"version\":\"2.3.3\"}};\n",
       "    var render_items = [{\"docid\":\"127e5351-7c22-4212-b239-0bac0085af06\",\"root_ids\":[\"1018\"],\"roots\":{\"1018\":\"978fe73e-44bc-4f95-aff1-f88aa296ad05\"}}];\n",
       "    root.Bokeh.embed.embed_items_notebook(docs_json, render_items);\n",
       "  }\n",
       "  if (root.Bokeh !== undefined && root.Bokeh.Panel !== undefined) {\n",
       "    embed_document(root);\n",
       "  } else {\n",
       "    var attempts = 0;\n",
       "    var timer = setInterval(function(root) {\n",
       "      if (root.Bokeh !== undefined && root.Bokeh.Panel !== undefined) {\n",
       "        clearInterval(timer);\n",
       "        embed_document(root);\n",
       "      } else if (document.readyState == \"complete\") {\n",
       "        attempts++;\n",
       "        if (attempts > 100) {\n",
       "          clearInterval(timer);\n",
       "          console.log(\"Bokeh: ERROR: Unable to run BokehJS code because BokehJS library is missing\");\n",
       "        }\n",
       "      }\n",
       "    }, 10, root)\n",
       "  }\n",
       "})(window);</script>"
      ],
      "text/plain": [
       "Alert(str, alert_type='success', css_classes=['alert', 'alert-success']...], margin=(0, 0, 25, 0), sizing_mode='stretch_width')"
      ]
     },
     "metadata": {
      "application/vnd.holoviews_exec.v0+json": {
       "id": "1018"
      }
     },
     "output_type": "display_data"
    },
    {
     "data": {
      "application/javascript": [
       "\n",
       "(function(root) {\n",
       "  function now() {\n",
       "    return new Date();\n",
       "  }\n",
       "\n",
       "  var force = true;\n",
       "\n",
       "  if (typeof root._bokeh_onload_callbacks === \"undefined\" || force === true) {\n",
       "    root._bokeh_onload_callbacks = [];\n",
       "    root._bokeh_is_loading = undefined;\n",
       "  }\n",
       "\n",
       "  if (typeof (root._bokeh_timeout) === \"undefined\" || force === true) {\n",
       "    root._bokeh_timeout = Date.now() + 5000;\n",
       "    root._bokeh_failed_load = false;\n",
       "  }\n",
       "\n",
       "  function run_callbacks() {\n",
       "    try {\n",
       "      root._bokeh_onload_callbacks.forEach(function(callback) {\n",
       "        if (callback != null)\n",
       "          callback();\n",
       "      });\n",
       "    } finally {\n",
       "      delete root._bokeh_onload_callbacks\n",
       "    }\n",
       "    console.debug(\"Bokeh: all callbacks have finished\");\n",
       "  }\n",
       "\n",
       "  function load_libs(css_urls, js_urls, js_modules, callback) {\n",
       "    if (css_urls == null) css_urls = [];\n",
       "    if (js_urls == null) js_urls = [];\n",
       "    if (js_modules == null) js_modules = [];\n",
       "\n",
       "    root._bokeh_onload_callbacks.push(callback);\n",
       "    if (root._bokeh_is_loading > 0) {\n",
       "      console.debug(\"Bokeh: BokehJS is being loaded, scheduling callback at\", now());\n",
       "      return null;\n",
       "    }\n",
       "    if (js_urls.length === 0 && js_modules.length === 0) {\n",
       "      run_callbacks();\n",
       "      return null;\n",
       "    }\n",
       "    console.debug(\"Bokeh: BokehJS not loaded, scheduling load and callback at\", now());\n",
       "    root._bokeh_is_loading = css_urls.length + js_urls.length + js_modules.length;\n",
       "\n",
       "    function on_load() {\n",
       "      root._bokeh_is_loading--;\n",
       "      if (root._bokeh_is_loading === 0) {\n",
       "        console.debug(\"Bokeh: all BokehJS libraries/stylesheets loaded\");\n",
       "        run_callbacks()\n",
       "      }\n",
       "    }\n",
       "\n",
       "    function on_error() {\n",
       "      console.error(\"failed to load \" + url);\n",
       "    }\n",
       "\n",
       "    for (var i = 0; i < css_urls.length; i++) {\n",
       "      var url = css_urls[i];\n",
       "      const element = document.createElement(\"link\");\n",
       "      element.onload = on_load;\n",
       "      element.onerror = on_error;\n",
       "      element.rel = \"stylesheet\";\n",
       "      element.type = \"text/css\";\n",
       "      element.href = url;\n",
       "      console.debug(\"Bokeh: injecting link tag for BokehJS stylesheet: \", url);\n",
       "      document.body.appendChild(element);\n",
       "    }\n",
       "\n",
       "    var skip = [];\n",
       "    if (window.requirejs) {\n",
       "      window.requirejs.config({'paths': {'tabulator': 'https://unpkg.com/tabulator-tables@4.9.3/dist/js/tabulator'}});\n",
       "      require([], function() {\n",
       "      })\n",
       "    }\n",
       "    if (((window['tabulator'] !== undefined) && (!(window['tabulator'] instanceof HTMLElement))) || window.requirejs) {\n",
       "      var urls = ['https://unpkg.com/tabulator-tables@4.9.3/dist/js/tabulator.js', 'https://unpkg.com/moment@2.27.0/moment.js'];\n",
       "      for (var i = 0; i < urls.length; i++) {\n",
       "        skip.push(urls[i])\n",
       "      }\n",
       "    }\n",
       "    for (var i = 0; i < js_urls.length; i++) {\n",
       "      var url = js_urls[i];\n",
       "      if (skip.indexOf(url) >= 0) { on_load(); continue; }\n",
       "      var element = document.createElement('script');\n",
       "      element.onload = on_load;\n",
       "      element.onerror = on_error;\n",
       "      element.async = false;\n",
       "      element.src = url;\n",
       "      console.debug(\"Bokeh: injecting script tag for BokehJS library: \", url);\n",
       "      document.head.appendChild(element);\n",
       "    }\n",
       "    for (var i = 0; i < js_modules.length; i++) {\n",
       "      var url = js_modules[i];\n",
       "      if (skip.indexOf(url) >= 0) { on_load(); continue; }\n",
       "      var element = document.createElement('script');\n",
       "      element.onload = on_load;\n",
       "      element.onerror = on_error;\n",
       "      element.async = false;\n",
       "      element.src = url;\n",
       "      element.type = \"module\";\n",
       "      console.debug(\"Bokeh: injecting script tag for BokehJS library: \", url);\n",
       "      document.head.appendChild(element);\n",
       "    }\n",
       "    if (!js_urls.length && !js_modules.length) {\n",
       "      on_load()\n",
       "    }\n",
       "  };\n",
       "\n",
       "  function inject_raw_css(css) {\n",
       "    const element = document.createElement(\"style\");\n",
       "    element.appendChild(document.createTextNode(css));\n",
       "    document.body.appendChild(element);\n",
       "  }\n",
       "\n",
       "  var js_urls = [\"https://unpkg.com/tabulator-tables@4.9.3/dist/js/tabulator.js\", \"https://unpkg.com/moment@2.27.0/moment.js\", \"https://cdn.bokeh.org/bokeh/release/bokeh-2.3.3.min.js\", \"https://cdn.bokeh.org/bokeh/release/bokeh-widgets-2.3.3.min.js\", \"https://cdn.bokeh.org/bokeh/release/bokeh-tables-2.3.3.min.js\", \"https://unpkg.com/@holoviz/panel@0.11.1/dist/panel.min.js\"];\n",
       "  var js_modules = [];\n",
       "  var css_urls = [\"https://unpkg.com/tabulator-tables@4.9.3/dist/css/tabulator_simple.min.css\", \"https://unpkg.com/@holoviz/panel@0.11.1/dist/css/widgets.css\", \"https://unpkg.com/@holoviz/panel@0.11.1/dist/css/loading.css\", \"https://unpkg.com/@holoviz/panel@0.11.1/dist/css/dataframe.css\", \"https://unpkg.com/@holoviz/panel@0.11.1/dist/css/alerts.css\", \"https://unpkg.com/@holoviz/panel@0.11.1/dist/css/markdown.css\", \"https://unpkg.com/@holoviz/panel@0.11.1/dist/css/json.css\", \"https://unpkg.com/@holoviz/panel@0.11.1/dist/css/card.css\"];\n",
       "  var inline_js = [\n",
       "    function(Bokeh) {\n",
       "      inject_raw_css(\"\\n    .bk.pn-loading.arcs:before {\\n      background-image: url(\\\"data:image/svg+xml;base64,PHN2ZyB4bWxucz0iaHR0cDovL3d3dy53My5vcmcvMjAwMC9zdmciIHhtbG5zOnhsaW5rPSJodHRwOi8vd3d3LnczLm9yZy8xOTk5L3hsaW5rIiBzdHlsZT0ibWFyZ2luOiBhdXRvOyBiYWNrZ3JvdW5kOiBub25lOyBkaXNwbGF5OiBibG9jazsgc2hhcGUtcmVuZGVyaW5nOiBhdXRvOyIgdmlld0JveD0iMCAwIDEwMCAxMDAiIHByZXNlcnZlQXNwZWN0UmF0aW89InhNaWRZTWlkIj4gIDxjaXJjbGUgY3g9IjUwIiBjeT0iNTAiIHI9IjMyIiBzdHJva2Utd2lkdGg9IjgiIHN0cm9rZT0iI2MzYzNjMyIgc3Ryb2tlLWRhc2hhcnJheT0iNTAuMjY1NDgyNDU3NDM2NjkgNTAuMjY1NDgyNDU3NDM2NjkiIGZpbGw9Im5vbmUiIHN0cm9rZS1saW5lY2FwPSJyb3VuZCI+ICAgIDxhbmltYXRlVHJhbnNmb3JtIGF0dHJpYnV0ZU5hbWU9InRyYW5zZm9ybSIgdHlwZT0icm90YXRlIiByZXBlYXRDb3VudD0iaW5kZWZpbml0ZSIgZHVyPSIxcyIga2V5VGltZXM9IjA7MSIgdmFsdWVzPSIwIDUwIDUwOzM2MCA1MCA1MCI+PC9hbmltYXRlVHJhbnNmb3JtPiAgPC9jaXJjbGU+PC9zdmc+\\\")\\n    }\\n    \");\n",
       "    },\n",
       "    function(Bokeh) {\n",
       "      Bokeh.set_log_level(\"info\");\n",
       "    },\n",
       "    function(Bokeh) {} // ensure no trailing comma for IE\n",
       "  ];\n",
       "\n",
       "  function run_inline_js() {\n",
       "    if ((root.Bokeh !== undefined) || (force === true)) {\n",
       "      for (var i = 0; i < inline_js.length; i++) {\n",
       "        inline_js[i].call(root, root.Bokeh);\n",
       "      }} else if (Date.now() < root._bokeh_timeout) {\n",
       "      setTimeout(run_inline_js, 100);\n",
       "    } else if (!root._bokeh_failed_load) {\n",
       "      console.log(\"Bokeh: BokehJS failed to load within specified timeout.\");\n",
       "      root._bokeh_failed_load = true;\n",
       "    }\n",
       "  }\n",
       "\n",
       "  if (root._bokeh_is_loading === 0) {\n",
       "    console.debug(\"Bokeh: BokehJS loaded, going straight to plotting\");\n",
       "    run_inline_js();\n",
       "  } else {\n",
       "    load_libs(css_urls, js_urls, js_modules, function() {\n",
       "      console.debug(\"Bokeh: BokehJS plotting callback run at\", now());\n",
       "      run_inline_js();\n",
       "    });\n",
       "  }\n",
       "}(window));"
      ],
      "application/vnd.holoviews_load.v0+json": "\n(function(root) {\n  function now() {\n    return new Date();\n  }\n\n  var force = true;\n\n  if (typeof root._bokeh_onload_callbacks === \"undefined\" || force === true) {\n    root._bokeh_onload_callbacks = [];\n    root._bokeh_is_loading = undefined;\n  }\n\n  if (typeof (root._bokeh_timeout) === \"undefined\" || force === true) {\n    root._bokeh_timeout = Date.now() + 5000;\n    root._bokeh_failed_load = false;\n  }\n\n  function run_callbacks() {\n    try {\n      root._bokeh_onload_callbacks.forEach(function(callback) {\n        if (callback != null)\n          callback();\n      });\n    } finally {\n      delete root._bokeh_onload_callbacks\n    }\n    console.debug(\"Bokeh: all callbacks have finished\");\n  }\n\n  function load_libs(css_urls, js_urls, js_modules, callback) {\n    if (css_urls == null) css_urls = [];\n    if (js_urls == null) js_urls = [];\n    if (js_modules == null) js_modules = [];\n\n    root._bokeh_onload_callbacks.push(callback);\n    if (root._bokeh_is_loading > 0) {\n      console.debug(\"Bokeh: BokehJS is being loaded, scheduling callback at\", now());\n      return null;\n    }\n    if (js_urls.length === 0 && js_modules.length === 0) {\n      run_callbacks();\n      return null;\n    }\n    console.debug(\"Bokeh: BokehJS not loaded, scheduling load and callback at\", now());\n    root._bokeh_is_loading = css_urls.length + js_urls.length + js_modules.length;\n\n    function on_load() {\n      root._bokeh_is_loading--;\n      if (root._bokeh_is_loading === 0) {\n        console.debug(\"Bokeh: all BokehJS libraries/stylesheets loaded\");\n        run_callbacks()\n      }\n    }\n\n    function on_error() {\n      console.error(\"failed to load \" + url);\n    }\n\n    for (var i = 0; i < css_urls.length; i++) {\n      var url = css_urls[i];\n      const element = document.createElement(\"link\");\n      element.onload = on_load;\n      element.onerror = on_error;\n      element.rel = \"stylesheet\";\n      element.type = \"text/css\";\n      element.href = url;\n      console.debug(\"Bokeh: injecting link tag for BokehJS stylesheet: \", url);\n      document.body.appendChild(element);\n    }\n\n    var skip = [];\n    if (window.requirejs) {\n      window.requirejs.config({'paths': {'tabulator': 'https://unpkg.com/tabulator-tables@4.9.3/dist/js/tabulator'}});\n      require([], function() {\n      })\n    }\n    if (((window['tabulator'] !== undefined) && (!(window['tabulator'] instanceof HTMLElement))) || window.requirejs) {\n      var urls = ['https://unpkg.com/tabulator-tables@4.9.3/dist/js/tabulator.js', 'https://unpkg.com/moment@2.27.0/moment.js'];\n      for (var i = 0; i < urls.length; i++) {\n        skip.push(urls[i])\n      }\n    }\n    for (var i = 0; i < js_urls.length; i++) {\n      var url = js_urls[i];\n      if (skip.indexOf(url) >= 0) { on_load(); continue; }\n      var element = document.createElement('script');\n      element.onload = on_load;\n      element.onerror = on_error;\n      element.async = false;\n      element.src = url;\n      console.debug(\"Bokeh: injecting script tag for BokehJS library: \", url);\n      document.head.appendChild(element);\n    }\n    for (var i = 0; i < js_modules.length; i++) {\n      var url = js_modules[i];\n      if (skip.indexOf(url) >= 0) { on_load(); continue; }\n      var element = document.createElement('script');\n      element.onload = on_load;\n      element.onerror = on_error;\n      element.async = false;\n      element.src = url;\n      element.type = \"module\";\n      console.debug(\"Bokeh: injecting script tag for BokehJS library: \", url);\n      document.head.appendChild(element);\n    }\n    if (!js_urls.length && !js_modules.length) {\n      on_load()\n    }\n  };\n\n  function inject_raw_css(css) {\n    const element = document.createElement(\"style\");\n    element.appendChild(document.createTextNode(css));\n    document.body.appendChild(element);\n  }\n\n  var js_urls = [\"https://unpkg.com/tabulator-tables@4.9.3/dist/js/tabulator.js\", \"https://unpkg.com/moment@2.27.0/moment.js\", \"https://cdn.bokeh.org/bokeh/release/bokeh-2.3.3.min.js\", \"https://cdn.bokeh.org/bokeh/release/bokeh-widgets-2.3.3.min.js\", \"https://cdn.bokeh.org/bokeh/release/bokeh-tables-2.3.3.min.js\", \"https://unpkg.com/@holoviz/panel@0.11.1/dist/panel.min.js\"];\n  var js_modules = [];\n  var css_urls = [\"https://unpkg.com/tabulator-tables@4.9.3/dist/css/tabulator_simple.min.css\", \"https://unpkg.com/@holoviz/panel@0.11.1/dist/css/widgets.css\", \"https://unpkg.com/@holoviz/panel@0.11.1/dist/css/loading.css\", \"https://unpkg.com/@holoviz/panel@0.11.1/dist/css/dataframe.css\", \"https://unpkg.com/@holoviz/panel@0.11.1/dist/css/alerts.css\", \"https://unpkg.com/@holoviz/panel@0.11.1/dist/css/markdown.css\", \"https://unpkg.com/@holoviz/panel@0.11.1/dist/css/json.css\", \"https://unpkg.com/@holoviz/panel@0.11.1/dist/css/card.css\"];\n  var inline_js = [\n    function(Bokeh) {\n      inject_raw_css(\"\\n    .bk.pn-loading.arcs:before {\\n      background-image: url(\\\"data:image/svg+xml;base64,PHN2ZyB4bWxucz0iaHR0cDovL3d3dy53My5vcmcvMjAwMC9zdmciIHhtbG5zOnhsaW5rPSJodHRwOi8vd3d3LnczLm9yZy8xOTk5L3hsaW5rIiBzdHlsZT0ibWFyZ2luOiBhdXRvOyBiYWNrZ3JvdW5kOiBub25lOyBkaXNwbGF5OiBibG9jazsgc2hhcGUtcmVuZGVyaW5nOiBhdXRvOyIgdmlld0JveD0iMCAwIDEwMCAxMDAiIHByZXNlcnZlQXNwZWN0UmF0aW89InhNaWRZTWlkIj4gIDxjaXJjbGUgY3g9IjUwIiBjeT0iNTAiIHI9IjMyIiBzdHJva2Utd2lkdGg9IjgiIHN0cm9rZT0iI2MzYzNjMyIgc3Ryb2tlLWRhc2hhcnJheT0iNTAuMjY1NDgyNDU3NDM2NjkgNTAuMjY1NDgyNDU3NDM2NjkiIGZpbGw9Im5vbmUiIHN0cm9rZS1saW5lY2FwPSJyb3VuZCI+ICAgIDxhbmltYXRlVHJhbnNmb3JtIGF0dHJpYnV0ZU5hbWU9InRyYW5zZm9ybSIgdHlwZT0icm90YXRlIiByZXBlYXRDb3VudD0iaW5kZWZpbml0ZSIgZHVyPSIxcyIga2V5VGltZXM9IjA7MSIgdmFsdWVzPSIwIDUwIDUwOzM2MCA1MCA1MCI+PC9hbmltYXRlVHJhbnNmb3JtPiAgPC9jaXJjbGU+PC9zdmc+\\\")\\n    }\\n    \");\n    },\n    function(Bokeh) {\n      Bokeh.set_log_level(\"info\");\n    },\n    function(Bokeh) {} // ensure no trailing comma for IE\n  ];\n\n  function run_inline_js() {\n    if ((root.Bokeh !== undefined) || (force === true)) {\n      for (var i = 0; i < inline_js.length; i++) {\n        inline_js[i].call(root, root.Bokeh);\n      }} else if (Date.now() < root._bokeh_timeout) {\n      setTimeout(run_inline_js, 100);\n    } else if (!root._bokeh_failed_load) {\n      console.log(\"Bokeh: BokehJS failed to load within specified timeout.\");\n      root._bokeh_failed_load = true;\n    }\n  }\n\n  if (root._bokeh_is_loading === 0) {\n    console.debug(\"Bokeh: BokehJS loaded, going straight to plotting\");\n    run_inline_js();\n  } else {\n    load_libs(css_urls, js_urls, js_modules, function() {\n      console.debug(\"Bokeh: BokehJS plotting callback run at\", now());\n      run_inline_js();\n    });\n  }\n}(window));"
     },
     "metadata": {},
     "output_type": "display_data"
    },
    {
     "data": {
      "application/javascript": [
       "\n",
       "if ((window.PyViz === undefined) || (window.PyViz instanceof HTMLElement)) {\n",
       "  window.PyViz = {comms: {}, comm_status:{}, kernels:{}, receivers: {}, plot_index: []}\n",
       "}\n",
       "\n",
       "\n",
       "    function JupyterCommManager() {\n",
       "    }\n",
       "\n",
       "    JupyterCommManager.prototype.register_target = function(plot_id, comm_id, msg_handler) {\n",
       "      if (window.comm_manager || ((window.Jupyter !== undefined) && (Jupyter.notebook.kernel != null))) {\n",
       "        var comm_manager = window.comm_manager || Jupyter.notebook.kernel.comm_manager;\n",
       "        comm_manager.register_target(comm_id, function(comm) {\n",
       "          comm.on_msg(msg_handler);\n",
       "        });\n",
       "      } else if ((plot_id in window.PyViz.kernels) && (window.PyViz.kernels[plot_id])) {\n",
       "        window.PyViz.kernels[plot_id].registerCommTarget(comm_id, function(comm) {\n",
       "          comm.onMsg = msg_handler;\n",
       "        });\n",
       "      } else if (typeof google != 'undefined' && google.colab.kernel != null) {\n",
       "        google.colab.kernel.comms.registerTarget(comm_id, (comm) => {\n",
       "          var messages = comm.messages[Symbol.asyncIterator]();\n",
       "          function processIteratorResult(result) {\n",
       "            var message = result.value;\n",
       "            console.log(message)\n",
       "            var content = {data: message.data, comm_id};\n",
       "            var buffers = []\n",
       "            for (var buffer of message.buffers || []) {\n",
       "              buffers.push(new DataView(buffer))\n",
       "            }\n",
       "            var metadata = message.metadata || {};\n",
       "            var msg = {content, buffers, metadata}\n",
       "            msg_handler(msg);\n",
       "            return messages.next().then(processIteratorResult);\n",
       "          }\n",
       "          return messages.next().then(processIteratorResult);\n",
       "        })\n",
       "      }\n",
       "    }\n",
       "\n",
       "    JupyterCommManager.prototype.get_client_comm = function(plot_id, comm_id, msg_handler) {\n",
       "      if (comm_id in window.PyViz.comms) {\n",
       "        return window.PyViz.comms[comm_id];\n",
       "      } else if (window.comm_manager || ((window.Jupyter !== undefined) && (Jupyter.notebook.kernel != null))) {\n",
       "        var comm_manager = window.comm_manager || Jupyter.notebook.kernel.comm_manager;\n",
       "        var comm = comm_manager.new_comm(comm_id, {}, {}, {}, comm_id);\n",
       "        if (msg_handler) {\n",
       "          comm.on_msg(msg_handler);\n",
       "        }\n",
       "      } else if ((plot_id in window.PyViz.kernels) && (window.PyViz.kernels[plot_id])) {\n",
       "        var comm = window.PyViz.kernels[plot_id].connectToComm(comm_id);\n",
       "        comm.open();\n",
       "        if (msg_handler) {\n",
       "          comm.onMsg = msg_handler;\n",
       "        }\n",
       "      } else if (typeof google != 'undefined' && google.colab.kernel != null) {\n",
       "        var comm_promise = google.colab.kernel.comms.open(comm_id)\n",
       "        comm_promise.then((comm) => {\n",
       "          window.PyViz.comms[comm_id] = comm;\n",
       "          if (msg_handler) {\n",
       "            var messages = comm.messages[Symbol.asyncIterator]();\n",
       "            function processIteratorResult(result) {\n",
       "              var message = result.value;\n",
       "              var content = {data: message.data};\n",
       "              var metadata = message.metadata || {comm_id};\n",
       "              var msg = {content, metadata}\n",
       "              msg_handler(msg);\n",
       "              return messages.next().then(processIteratorResult);\n",
       "            }\n",
       "            return messages.next().then(processIteratorResult);\n",
       "          }\n",
       "        }) \n",
       "        var sendClosure = (data, metadata, buffers, disposeOnDone) => {\n",
       "          return comm_promise.then((comm) => {\n",
       "            comm.send(data, metadata, buffers, disposeOnDone);\n",
       "          });\n",
       "        };\n",
       "        var comm = {\n",
       "          send: sendClosure\n",
       "        };\n",
       "      }\n",
       "      window.PyViz.comms[comm_id] = comm;\n",
       "      return comm;\n",
       "    }\n",
       "    window.PyViz.comm_manager = new JupyterCommManager();\n",
       "    \n",
       "\n",
       "\n",
       "var JS_MIME_TYPE = 'application/javascript';\n",
       "var HTML_MIME_TYPE = 'text/html';\n",
       "var EXEC_MIME_TYPE = 'application/vnd.holoviews_exec.v0+json';\n",
       "var CLASS_NAME = 'output';\n",
       "\n",
       "/**\n",
       " * Render data to the DOM node\n",
       " */\n",
       "function render(props, node) {\n",
       "  var div = document.createElement(\"div\");\n",
       "  var script = document.createElement(\"script\");\n",
       "  node.appendChild(div);\n",
       "  node.appendChild(script);\n",
       "}\n",
       "\n",
       "/**\n",
       " * Handle when a new output is added\n",
       " */\n",
       "function handle_add_output(event, handle) {\n",
       "  var output_area = handle.output_area;\n",
       "  var output = handle.output;\n",
       "  if ((output.data == undefined) || (!output.data.hasOwnProperty(EXEC_MIME_TYPE))) {\n",
       "    return\n",
       "  }\n",
       "  var id = output.metadata[EXEC_MIME_TYPE][\"id\"];\n",
       "  var toinsert = output_area.element.find(\".\" + CLASS_NAME.split(' ')[0]);\n",
       "  if (id !== undefined) {\n",
       "    var nchildren = toinsert.length;\n",
       "    var html_node = toinsert[nchildren-1].children[0];\n",
       "    html_node.innerHTML = output.data[HTML_MIME_TYPE];\n",
       "    var scripts = [];\n",
       "    var nodelist = html_node.querySelectorAll(\"script\");\n",
       "    for (var i in nodelist) {\n",
       "      if (nodelist.hasOwnProperty(i)) {\n",
       "        scripts.push(nodelist[i])\n",
       "      }\n",
       "    }\n",
       "\n",
       "    scripts.forEach( function (oldScript) {\n",
       "      var newScript = document.createElement(\"script\");\n",
       "      var attrs = [];\n",
       "      var nodemap = oldScript.attributes;\n",
       "      for (var j in nodemap) {\n",
       "        if (nodemap.hasOwnProperty(j)) {\n",
       "          attrs.push(nodemap[j])\n",
       "        }\n",
       "      }\n",
       "      attrs.forEach(function(attr) { newScript.setAttribute(attr.name, attr.value) });\n",
       "      newScript.appendChild(document.createTextNode(oldScript.innerHTML));\n",
       "      oldScript.parentNode.replaceChild(newScript, oldScript);\n",
       "    });\n",
       "    if (JS_MIME_TYPE in output.data) {\n",
       "      toinsert[nchildren-1].children[1].textContent = output.data[JS_MIME_TYPE];\n",
       "    }\n",
       "    output_area._hv_plot_id = id;\n",
       "    if ((window.Bokeh !== undefined) && (id in Bokeh.index)) {\n",
       "      window.PyViz.plot_index[id] = Bokeh.index[id];\n",
       "    } else {\n",
       "      window.PyViz.plot_index[id] = null;\n",
       "    }\n",
       "  } else if (output.metadata[EXEC_MIME_TYPE][\"server_id\"] !== undefined) {\n",
       "    var bk_div = document.createElement(\"div\");\n",
       "    bk_div.innerHTML = output.data[HTML_MIME_TYPE];\n",
       "    var script_attrs = bk_div.children[0].attributes;\n",
       "    for (var i = 0; i < script_attrs.length; i++) {\n",
       "      toinsert[toinsert.length - 1].childNodes[1].setAttribute(script_attrs[i].name, script_attrs[i].value);\n",
       "    }\n",
       "    // store reference to server id on output_area\n",
       "    output_area._bokeh_server_id = output.metadata[EXEC_MIME_TYPE][\"server_id\"];\n",
       "  }\n",
       "}\n",
       "\n",
       "/**\n",
       " * Handle when an output is cleared or removed\n",
       " */\n",
       "function handle_clear_output(event, handle) {\n",
       "  var id = handle.cell.output_area._hv_plot_id;\n",
       "  var server_id = handle.cell.output_area._bokeh_server_id;\n",
       "  if (((id === undefined) || !(id in PyViz.plot_index)) && (server_id !== undefined)) { return; }\n",
       "  var comm = window.PyViz.comm_manager.get_client_comm(\"hv-extension-comm\", \"hv-extension-comm\", function () {});\n",
       "  if (server_id !== null) {\n",
       "    comm.send({event_type: 'server_delete', 'id': server_id});\n",
       "    return;\n",
       "  } else if (comm !== null) {\n",
       "    comm.send({event_type: 'delete', 'id': id});\n",
       "  }\n",
       "  delete PyViz.plot_index[id];\n",
       "  if ((window.Bokeh !== undefined) & (id in window.Bokeh.index)) {\n",
       "    var doc = window.Bokeh.index[id].model.document\n",
       "    doc.clear();\n",
       "    const i = window.Bokeh.documents.indexOf(doc);\n",
       "    if (i > -1) {\n",
       "      window.Bokeh.documents.splice(i, 1);\n",
       "    }\n",
       "  }\n",
       "}\n",
       "\n",
       "/**\n",
       " * Handle kernel restart event\n",
       " */\n",
       "function handle_kernel_cleanup(event, handle) {\n",
       "  delete PyViz.comms[\"hv-extension-comm\"];\n",
       "  window.PyViz.plot_index = {}\n",
       "}\n",
       "\n",
       "/**\n",
       " * Handle update_display_data messages\n",
       " */\n",
       "function handle_update_output(event, handle) {\n",
       "  handle_clear_output(event, {cell: {output_area: handle.output_area}})\n",
       "  handle_add_output(event, handle)\n",
       "}\n",
       "\n",
       "function register_renderer(events, OutputArea) {\n",
       "  function append_mime(data, metadata, element) {\n",
       "    // create a DOM node to render to\n",
       "    var toinsert = this.create_output_subarea(\n",
       "    metadata,\n",
       "    CLASS_NAME,\n",
       "    EXEC_MIME_TYPE\n",
       "    );\n",
       "    this.keyboard_manager.register_events(toinsert);\n",
       "    // Render to node\n",
       "    var props = {data: data, metadata: metadata[EXEC_MIME_TYPE]};\n",
       "    render(props, toinsert[0]);\n",
       "    element.append(toinsert);\n",
       "    return toinsert\n",
       "  }\n",
       "\n",
       "  events.on('output_added.OutputArea', handle_add_output);\n",
       "  events.on('output_updated.OutputArea', handle_update_output);\n",
       "  events.on('clear_output.CodeCell', handle_clear_output);\n",
       "  events.on('delete.Cell', handle_clear_output);\n",
       "  events.on('kernel_ready.Kernel', handle_kernel_cleanup);\n",
       "\n",
       "  OutputArea.prototype.register_mime_type(EXEC_MIME_TYPE, append_mime, {\n",
       "    safe: true,\n",
       "    index: 0\n",
       "  });\n",
       "}\n",
       "\n",
       "if (window.Jupyter !== undefined) {\n",
       "  try {\n",
       "    var events = require('base/js/events');\n",
       "    var OutputArea = require('notebook/js/outputarea').OutputArea;\n",
       "    if (OutputArea.prototype.mime_types().indexOf(EXEC_MIME_TYPE) == -1) {\n",
       "      register_renderer(events, OutputArea);\n",
       "    }\n",
       "  } catch(err) {\n",
       "  }\n",
       "}\n"
      ],
      "application/vnd.holoviews_load.v0+json": "\nif ((window.PyViz === undefined) || (window.PyViz instanceof HTMLElement)) {\n  window.PyViz = {comms: {}, comm_status:{}, kernels:{}, receivers: {}, plot_index: []}\n}\n\n\n    function JupyterCommManager() {\n    }\n\n    JupyterCommManager.prototype.register_target = function(plot_id, comm_id, msg_handler) {\n      if (window.comm_manager || ((window.Jupyter !== undefined) && (Jupyter.notebook.kernel != null))) {\n        var comm_manager = window.comm_manager || Jupyter.notebook.kernel.comm_manager;\n        comm_manager.register_target(comm_id, function(comm) {\n          comm.on_msg(msg_handler);\n        });\n      } else if ((plot_id in window.PyViz.kernels) && (window.PyViz.kernels[plot_id])) {\n        window.PyViz.kernels[plot_id].registerCommTarget(comm_id, function(comm) {\n          comm.onMsg = msg_handler;\n        });\n      } else if (typeof google != 'undefined' && google.colab.kernel != null) {\n        google.colab.kernel.comms.registerTarget(comm_id, (comm) => {\n          var messages = comm.messages[Symbol.asyncIterator]();\n          function processIteratorResult(result) {\n            var message = result.value;\n            console.log(message)\n            var content = {data: message.data, comm_id};\n            var buffers = []\n            for (var buffer of message.buffers || []) {\n              buffers.push(new DataView(buffer))\n            }\n            var metadata = message.metadata || {};\n            var msg = {content, buffers, metadata}\n            msg_handler(msg);\n            return messages.next().then(processIteratorResult);\n          }\n          return messages.next().then(processIteratorResult);\n        })\n      }\n    }\n\n    JupyterCommManager.prototype.get_client_comm = function(plot_id, comm_id, msg_handler) {\n      if (comm_id in window.PyViz.comms) {\n        return window.PyViz.comms[comm_id];\n      } else if (window.comm_manager || ((window.Jupyter !== undefined) && (Jupyter.notebook.kernel != null))) {\n        var comm_manager = window.comm_manager || Jupyter.notebook.kernel.comm_manager;\n        var comm = comm_manager.new_comm(comm_id, {}, {}, {}, comm_id);\n        if (msg_handler) {\n          comm.on_msg(msg_handler);\n        }\n      } else if ((plot_id in window.PyViz.kernels) && (window.PyViz.kernels[plot_id])) {\n        var comm = window.PyViz.kernels[plot_id].connectToComm(comm_id);\n        comm.open();\n        if (msg_handler) {\n          comm.onMsg = msg_handler;\n        }\n      } else if (typeof google != 'undefined' && google.colab.kernel != null) {\n        var comm_promise = google.colab.kernel.comms.open(comm_id)\n        comm_promise.then((comm) => {\n          window.PyViz.comms[comm_id] = comm;\n          if (msg_handler) {\n            var messages = comm.messages[Symbol.asyncIterator]();\n            function processIteratorResult(result) {\n              var message = result.value;\n              var content = {data: message.data};\n              var metadata = message.metadata || {comm_id};\n              var msg = {content, metadata}\n              msg_handler(msg);\n              return messages.next().then(processIteratorResult);\n            }\n            return messages.next().then(processIteratorResult);\n          }\n        }) \n        var sendClosure = (data, metadata, buffers, disposeOnDone) => {\n          return comm_promise.then((comm) => {\n            comm.send(data, metadata, buffers, disposeOnDone);\n          });\n        };\n        var comm = {\n          send: sendClosure\n        };\n      }\n      window.PyViz.comms[comm_id] = comm;\n      return comm;\n    }\n    window.PyViz.comm_manager = new JupyterCommManager();\n    \n\n\nvar JS_MIME_TYPE = 'application/javascript';\nvar HTML_MIME_TYPE = 'text/html';\nvar EXEC_MIME_TYPE = 'application/vnd.holoviews_exec.v0+json';\nvar CLASS_NAME = 'output';\n\n/**\n * Render data to the DOM node\n */\nfunction render(props, node) {\n  var div = document.createElement(\"div\");\n  var script = document.createElement(\"script\");\n  node.appendChild(div);\n  node.appendChild(script);\n}\n\n/**\n * Handle when a new output is added\n */\nfunction handle_add_output(event, handle) {\n  var output_area = handle.output_area;\n  var output = handle.output;\n  if ((output.data == undefined) || (!output.data.hasOwnProperty(EXEC_MIME_TYPE))) {\n    return\n  }\n  var id = output.metadata[EXEC_MIME_TYPE][\"id\"];\n  var toinsert = output_area.element.find(\".\" + CLASS_NAME.split(' ')[0]);\n  if (id !== undefined) {\n    var nchildren = toinsert.length;\n    var html_node = toinsert[nchildren-1].children[0];\n    html_node.innerHTML = output.data[HTML_MIME_TYPE];\n    var scripts = [];\n    var nodelist = html_node.querySelectorAll(\"script\");\n    for (var i in nodelist) {\n      if (nodelist.hasOwnProperty(i)) {\n        scripts.push(nodelist[i])\n      }\n    }\n\n    scripts.forEach( function (oldScript) {\n      var newScript = document.createElement(\"script\");\n      var attrs = [];\n      var nodemap = oldScript.attributes;\n      for (var j in nodemap) {\n        if (nodemap.hasOwnProperty(j)) {\n          attrs.push(nodemap[j])\n        }\n      }\n      attrs.forEach(function(attr) { newScript.setAttribute(attr.name, attr.value) });\n      newScript.appendChild(document.createTextNode(oldScript.innerHTML));\n      oldScript.parentNode.replaceChild(newScript, oldScript);\n    });\n    if (JS_MIME_TYPE in output.data) {\n      toinsert[nchildren-1].children[1].textContent = output.data[JS_MIME_TYPE];\n    }\n    output_area._hv_plot_id = id;\n    if ((window.Bokeh !== undefined) && (id in Bokeh.index)) {\n      window.PyViz.plot_index[id] = Bokeh.index[id];\n    } else {\n      window.PyViz.plot_index[id] = null;\n    }\n  } else if (output.metadata[EXEC_MIME_TYPE][\"server_id\"] !== undefined) {\n    var bk_div = document.createElement(\"div\");\n    bk_div.innerHTML = output.data[HTML_MIME_TYPE];\n    var script_attrs = bk_div.children[0].attributes;\n    for (var i = 0; i < script_attrs.length; i++) {\n      toinsert[toinsert.length - 1].childNodes[1].setAttribute(script_attrs[i].name, script_attrs[i].value);\n    }\n    // store reference to server id on output_area\n    output_area._bokeh_server_id = output.metadata[EXEC_MIME_TYPE][\"server_id\"];\n  }\n}\n\n/**\n * Handle when an output is cleared or removed\n */\nfunction handle_clear_output(event, handle) {\n  var id = handle.cell.output_area._hv_plot_id;\n  var server_id = handle.cell.output_area._bokeh_server_id;\n  if (((id === undefined) || !(id in PyViz.plot_index)) && (server_id !== undefined)) { return; }\n  var comm = window.PyViz.comm_manager.get_client_comm(\"hv-extension-comm\", \"hv-extension-comm\", function () {});\n  if (server_id !== null) {\n    comm.send({event_type: 'server_delete', 'id': server_id});\n    return;\n  } else if (comm !== null) {\n    comm.send({event_type: 'delete', 'id': id});\n  }\n  delete PyViz.plot_index[id];\n  if ((window.Bokeh !== undefined) & (id in window.Bokeh.index)) {\n    var doc = window.Bokeh.index[id].model.document\n    doc.clear();\n    const i = window.Bokeh.documents.indexOf(doc);\n    if (i > -1) {\n      window.Bokeh.documents.splice(i, 1);\n    }\n  }\n}\n\n/**\n * Handle kernel restart event\n */\nfunction handle_kernel_cleanup(event, handle) {\n  delete PyViz.comms[\"hv-extension-comm\"];\n  window.PyViz.plot_index = {}\n}\n\n/**\n * Handle update_display_data messages\n */\nfunction handle_update_output(event, handle) {\n  handle_clear_output(event, {cell: {output_area: handle.output_area}})\n  handle_add_output(event, handle)\n}\n\nfunction register_renderer(events, OutputArea) {\n  function append_mime(data, metadata, element) {\n    // create a DOM node to render to\n    var toinsert = this.create_output_subarea(\n    metadata,\n    CLASS_NAME,\n    EXEC_MIME_TYPE\n    );\n    this.keyboard_manager.register_events(toinsert);\n    // Render to node\n    var props = {data: data, metadata: metadata[EXEC_MIME_TYPE]};\n    render(props, toinsert[0]);\n    element.append(toinsert);\n    return toinsert\n  }\n\n  events.on('output_added.OutputArea', handle_add_output);\n  events.on('output_updated.OutputArea', handle_update_output);\n  events.on('clear_output.CodeCell', handle_clear_output);\n  events.on('delete.Cell', handle_clear_output);\n  events.on('kernel_ready.Kernel', handle_kernel_cleanup);\n\n  OutputArea.prototype.register_mime_type(EXEC_MIME_TYPE, append_mime, {\n    safe: true,\n    index: 0\n  });\n}\n\nif (window.Jupyter !== undefined) {\n  try {\n    var events = require('base/js/events');\n    var OutputArea = require('notebook/js/outputarea').OutputArea;\n    if (OutputArea.prototype.mime_types().indexOf(EXEC_MIME_TYPE) == -1) {\n      register_renderer(events, OutputArea);\n    }\n  } catch(err) {\n  }\n}\n"
     },
     "metadata": {},
     "output_type": "display_data"
    },
    {
     "data": {
      "application/vnd.holoviews_exec.v0+json": "",
      "text/html": [
       "<div id='1020'>\n",
       "\n",
       "\n",
       "\n",
       "\n",
       "\n",
       "  <div class=\"bk-root\" id=\"d8015c8a-efeb-4f85-8974-7f4c8bdc02b6\" data-root-id=\"1020\"></div>\n",
       "</div>\n",
       "<script type=\"application/javascript\">(function(root) {\n",
       "  function embed_document(root) {\n",
       "    var docs_json = {\"1523f36e-a7a2-4cc7-b027-1af2e97af599\":{\"defs\":[],\"roots\":{\"references\":[{\"attributes\":{\"children\":[{\"id\":\"1025\"}],\"margin\":[0,0,0,0],\"name\":\"Row00140\"},\"id\":\"1024\",\"type\":\"Row\"},{\"attributes\":{\"children\":[{\"id\":\"1023\"},{\"id\":\"1024\"}],\"margin\":[0,0,0,0],\"name\":\"Row00143\"},\"id\":\"1022\",\"type\":\"Row\"},{\"attributes\":{\"css_classes\":[\"markdown\"],\"margin\":[5,5,5,5],\"name\":\"Markdown00134\",\"text\":\"&lt;h2&gt;Samples : 3&lt;/h2&gt;\\n&lt;h4&gt;Group : O. barthii O. glaberrima&lt;/h4&gt;\"},\"id\":\"1023\",\"type\":\"panel.models.markup.HTML\"},{\"attributes\":{\"children\":[{\"id\":\"1030\"}],\"css_classes\":[\"scrollable\"],\"margin\":[0,0,0,0],\"max_height\":600,\"min_width\":800,\"name\":\"Row00151\",\"width\":800},\"id\":\"1029\",\"type\":\"Row\"},{\"attributes\":{\"js_property_callbacks\":{\"change:value\":[{\"id\":\"1033\"}]},\"margin\":[5,10,5,10],\"options\":[[\"O. barthii\",\"O. barthii\"],[\"O. glaberrima\",\"O. glaberrima\"]],\"title\":\"Species\",\"value\":\"O. barthii\"},\"id\":\"1028\",\"type\":\"Select\"},{\"attributes\":{\"height\":216,\"margin\":[5,5,5,5],\"name\":\"ParamMethod00136\",\"text\":\"&lt;img src=&quot;data:image/png;base64,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&quot; width=&quot;288px&quot; height=&quot;216px&quot; alt=&quot;&quot;&gt;&lt;/img&gt;\",\"width\":288},\"id\":\"1025\",\"type\":\"panel.models.markup.HTML\"},{\"attributes\":{\"children\":[{\"id\":\"1031\"}],\"margin\":[0,0,0,0],\"name\":\"Row00148\"},\"id\":\"1030\",\"type\":\"Row\"},{\"attributes\":{\"background\":\"WhiteSmoke\",\"children\":[{\"id\":\"1021\"},{\"id\":\"1022\"},{\"id\":\"1026\"},{\"id\":\"1029\"}],\"css_classes\":[\"scrollable\"],\"margin\":[0,0,0,0],\"name\":\"Column00160\",\"sizing_mode\":\"stretch_both\",\"tags\":[\"embedded\"],\"width\":800},\"id\":\"1020\",\"type\":\"Column\"},{\"attributes\":{\"code\":\"\\nvar state = null\\nfor (var root of cb_obj.document.roots()) {\\n  if (root.id == '1032') {\\n    state = root;\\n    break;\\n  }\\n}\\nif (!state) { return; }\\nstate.set_state(cb_obj, cb_obj.value)\\n\"},\"id\":\"1033\",\"type\":\"CustomJS\"},{\"attributes\":{\"children\":[{\"id\":\"1027\"},{\"id\":\"1028\"}],\"margin\":[5,5,5,5],\"min_width\":300,\"name\":\"\",\"width\":300},\"id\":\"1026\",\"type\":\"Column\"},{\"attributes\":{\"state\":{\"O. barthii\":{\"content\":\"{\\\"events\\\": [{\\\"attr\\\": \\\"text\\\", \\\"kind\\\": \\\"ModelChanged\\\", \\\"model\\\": {\\\"id\\\": \\\"1031\\\"}, \\\"new\\\": \\\"&lt;table border=&quot;0&quot; class=&quot;dataframe panel-df&quot;&gt;\\\\n  &lt;thead&gt;\\\\n    &lt;tr style=&quot;text-align: right;&quot;&gt;\\\\n      &lt;th&gt;&lt;/th&gt;\\\\n      &lt;th&gt;sample&lt;/th&gt;\\\\n      &lt;th&gt;Species&lt;/th&gt;\\\\n    &lt;/tr&gt;\\\\n  &lt;/thead&gt;\\\\n  &lt;tbody&gt;\\\\n    &lt;tr&gt;\\\\n      &lt;th&gt;0&lt;/th&gt;\\\\n      &lt;td&gt;AA&lt;/td&gt;\\\\n      &lt;td&gt;O. barthii&lt;/td&gt;\\\\n    &lt;/tr&gt;\\\\n    &lt;tr&gt;\\\\n      &lt;th&gt;1&lt;/th&gt;\\\\n      &lt;td&gt;AB&lt;/td&gt;\\\\n      &lt;td&gt;O. barthii&lt;/td&gt;\\\\n    &lt;/tr&gt;\\\\n  &lt;/tbody&gt;\\\\n&lt;/table&gt;\\\"}], \\\"references\\\": []}\",\"header\":\"{\\\"msgid\\\": \\\"1035\\\", \\\"msgtype\\\": \\\"PATCH-DOC\\\"}\",\"metadata\":\"{}\"},\"O. glaberrima\":{\"content\":\"{\\\"events\\\": [{\\\"attr\\\": \\\"text\\\", \\\"kind\\\": \\\"ModelChanged\\\", \\\"model\\\": {\\\"id\\\": \\\"1031\\\"}, \\\"new\\\": \\\"&lt;table border=&quot;0&quot; class=&quot;dataframe panel-df&quot;&gt;\\\\n  &lt;thead&gt;\\\\n    &lt;tr style=&quot;text-align: right;&quot;&gt;\\\\n      &lt;th&gt;&lt;/th&gt;\\\\n      &lt;th&gt;sample&lt;/th&gt;\\\\n      &lt;th&gt;Species&lt;/th&gt;\\\\n    &lt;/tr&gt;\\\\n  &lt;/thead&gt;\\\\n  &lt;tbody&gt;\\\\n    &lt;tr&gt;\\\\n      &lt;th&gt;2&lt;/th&gt;\\\\n      &lt;td&gt;DT&lt;/td&gt;\\\\n      &lt;td&gt;O. glaberrima&lt;/td&gt;\\\\n    &lt;/tr&gt;\\\\n  &lt;/tbody&gt;\\\\n&lt;/table&gt;\\\"}], \\\"references\\\": []}\",\"header\":\"{\\\"msgid\\\": \\\"1034\\\", \\\"msgtype\\\": \\\"PATCH-DOC\\\"}\",\"metadata\":\"{}\"}},\"values\":[\"O. barthii\"],\"widgets\":{\"1028\":0}},\"id\":\"1032\",\"type\":\"panel.models.state.State\"},{\"attributes\":{\"margin\":[5,5,5,5],\"name\":\"ParamMethod00144\",\"text\":\"&lt;table border=&quot;0&quot; class=&quot;dataframe panel-df&quot;&gt;\\n  &lt;thead&gt;\\n    &lt;tr style=&quot;text-align: right;&quot;&gt;\\n      &lt;th&gt;&lt;/th&gt;\\n      &lt;th&gt;sample&lt;/th&gt;\\n      &lt;th&gt;Species&lt;/th&gt;\\n    &lt;/tr&gt;\\n  &lt;/thead&gt;\\n  &lt;tbody&gt;\\n    &lt;tr&gt;\\n      &lt;th&gt;0&lt;/th&gt;\\n      &lt;td&gt;AA&lt;/td&gt;\\n      &lt;td&gt;O. barthii&lt;/td&gt;\\n    &lt;/tr&gt;\\n    &lt;tr&gt;\\n      &lt;th&gt;1&lt;/th&gt;\\n      &lt;td&gt;AB&lt;/td&gt;\\n      &lt;td&gt;O. barthii&lt;/td&gt;\\n    &lt;/tr&gt;\\n  &lt;/tbody&gt;\\n&lt;/table&gt;\"},\"id\":\"1031\",\"type\":\"panel.models.markup.HTML\"},{\"attributes\":{\"css_classes\":[\"markdown\"],\"margin\":[5,5,5,5],\"name\":\"Markdown00152\",\"text\":\"&lt;h1&gt;Population Group&lt;/h1&gt;\"},\"id\":\"1021\",\"type\":\"panel.models.markup.HTML\"},{\"attributes\":{\"margin\":[5,10,5,10],\"name\":\"\",\"text\":\"<b></b>\"},\"id\":\"1027\",\"type\":\"Div\"}],\"root_ids\":[\"1020\",\"1032\"]},\"title\":\"Bokeh Application\",\"version\":\"2.3.3\"}};\n",
       "    var render_items = [{\"docid\":\"1523f36e-a7a2-4cc7-b027-1af2e97af599\",\"root_ids\":[\"1020\"],\"roots\":{\"1020\":\"d8015c8a-efeb-4f85-8974-7f4c8bdc02b6\"}}];\n",
       "    root.Bokeh.embed.embed_items_notebook(docs_json, render_items);\n",
       "  }\n",
       "  if (root.Bokeh !== undefined && root.Bokeh.Panel !== undefined) {\n",
       "    embed_document(root);\n",
       "  } else {\n",
       "    var attempts = 0;\n",
       "    var timer = setInterval(function(root) {\n",
       "      if (root.Bokeh !== undefined && root.Bokeh.Panel !== undefined) {\n",
       "        clearInterval(timer);\n",
       "        embed_document(root);\n",
       "      } else if (document.readyState == \"complete\") {\n",
       "        attempts++;\n",
       "        if (attempts > 100) {\n",
       "          clearInterval(timer);\n",
       "          console.log(\"Bokeh: ERROR: Unable to run BokehJS code because BokehJS library is missing\");\n",
       "        }\n",
       "      }\n",
       "    }, 10, root)\n",
       "  }\n",
       "})(window);</script>"
      ]
     },
     "metadata": {
      "application/vnd.holoviews_exec.v0+json": {
       "id": "1020"
      }
     },
     "output_type": "display_data"
    },
    {
     "data": {
      "text/html": [
       "<img src onerror=\"var cell = this.closest('.jp-CodeCell');var editor = cell.querySelector('.jp-Editor');editor.style.background='LightBlue';this.parentNode.removeChild(this)\">"
      ],
      "text/plain": [
       "<IPython.core.display.HTML object>"
      ]
     },
     "metadata": {},
     "output_type": "display_data"
    }
   ],
   "source": [
    "# Reading group file\n",
    "id_dict, df_group = read_group_file(group_file.value,logger)\n",
    "# Group file dashboard\n",
    "dashboard_group(df_group)\n",
    "bgc('LightBlue')"
   ]
  },
  {
   "cell_type": "code",
   "execution_count": 5,
   "metadata": {},
   "outputs": [
    {
     "data": {},
     "metadata": {},
     "output_type": "display_data"
    },
    {
     "data": {
      "application/vnd.holoviews_exec.v0+json": "",
      "text/html": [
       "<div id='1032'>\n",
       "\n",
       "\n",
       "\n",
       "\n",
       "\n",
       "  <div class=\"bk-root\" id=\"3faf08ae-b1d9-47bb-b468-d3b6ae6c8992\" data-root-id=\"1032\"></div>\n",
       "</div>\n",
       "<script type=\"application/javascript\">(function(root) {\n",
       "  function embed_document(root) {\n",
       "    var docs_json = {\"9af83e36-b434-4721-9209-052d52ee3c99\":{\"defs\":[],\"roots\":{\"references\":[{\"attributes\":{\"css_classes\":[\"alert\",\"alert-success\",\"markdown\"],\"margin\":[0,0,25,0],\"name\":\"Alert00145\",\"sizing_mode\":\"stretch_width\",\"text\":\"&lt;p&gt;Group file /home/christine/Documents/These/frangiPANeGIT/rice/rice_group.txt correctly read&lt;/p&gt;\"},\"id\":\"1032\",\"type\":\"panel.models.markup.HTML\"},{\"attributes\":{\"client_comm_id\":\"bacdd6fee84e4a5281549ffe11861709\",\"comm_id\":\"f4fc2cb4bd954d1a8c06413488948373\",\"plot_id\":\"1032\"},\"id\":\"1033\",\"type\":\"panel.models.comm_manager.CommManager\"}],\"root_ids\":[\"1032\",\"1033\"]},\"title\":\"Bokeh Application\",\"version\":\"2.3.3\"}};\n",
       "    var render_items = [{\"docid\":\"9af83e36-b434-4721-9209-052d52ee3c99\",\"root_ids\":[\"1032\"],\"roots\":{\"1032\":\"3faf08ae-b1d9-47bb-b468-d3b6ae6c8992\"}}];\n",
       "    root.Bokeh.embed.embed_items_notebook(docs_json, render_items);\n",
       "  }\n",
       "  if (root.Bokeh !== undefined && root.Bokeh.Panel !== undefined) {\n",
       "    embed_document(root);\n",
       "  } else {\n",
       "    var attempts = 0;\n",
       "    var timer = setInterval(function(root) {\n",
       "      if (root.Bokeh !== undefined && root.Bokeh.Panel !== undefined) {\n",
       "        clearInterval(timer);\n",
       "        embed_document(root);\n",
       "      } else if (document.readyState == \"complete\") {\n",
       "        attempts++;\n",
       "        if (attempts > 100) {\n",
       "          clearInterval(timer);\n",
       "          console.log(\"Bokeh: ERROR: Unable to run BokehJS code because BokehJS library is missing\");\n",
       "        }\n",
       "      }\n",
       "    }, 10, root)\n",
       "  }\n",
       "})(window);</script>"
      ],
      "text/plain": [
       "Alert(str, alert_type='success', css_classes=['alert', 'alert-success']...], margin=(0, 0, 25, 0), sizing_mode='stretch_width')"
      ]
     },
     "metadata": {
      "application/vnd.holoviews_exec.v0+json": {
       "id": "1032"
      }
     },
     "output_type": "display_data"
    },
    {
     "data": {
      "application/javascript": [
       "\n",
       "(function(root) {\n",
       "  function now() {\n",
       "    return new Date();\n",
       "  }\n",
       "\n",
       "  var force = true;\n",
       "\n",
       "  if (typeof root._bokeh_onload_callbacks === \"undefined\" || force === true) {\n",
       "    root._bokeh_onload_callbacks = [];\n",
       "    root._bokeh_is_loading = undefined;\n",
       "  }\n",
       "\n",
       "  if (typeof (root._bokeh_timeout) === \"undefined\" || force === true) {\n",
       "    root._bokeh_timeout = Date.now() + 5000;\n",
       "    root._bokeh_failed_load = false;\n",
       "  }\n",
       "\n",
       "  function run_callbacks() {\n",
       "    try {\n",
       "      root._bokeh_onload_callbacks.forEach(function(callback) {\n",
       "        if (callback != null)\n",
       "          callback();\n",
       "      });\n",
       "    } finally {\n",
       "      delete root._bokeh_onload_callbacks\n",
       "    }\n",
       "    console.debug(\"Bokeh: all callbacks have finished\");\n",
       "  }\n",
       "\n",
       "  function load_libs(css_urls, js_urls, js_modules, callback) {\n",
       "    if (css_urls == null) css_urls = [];\n",
       "    if (js_urls == null) js_urls = [];\n",
       "    if (js_modules == null) js_modules = [];\n",
       "\n",
       "    root._bokeh_onload_callbacks.push(callback);\n",
       "    if (root._bokeh_is_loading > 0) {\n",
       "      console.debug(\"Bokeh: BokehJS is being loaded, scheduling callback at\", now());\n",
       "      return null;\n",
       "    }\n",
       "    if (js_urls.length === 0 && js_modules.length === 0) {\n",
       "      run_callbacks();\n",
       "      return null;\n",
       "    }\n",
       "    console.debug(\"Bokeh: BokehJS not loaded, scheduling load and callback at\", now());\n",
       "    root._bokeh_is_loading = css_urls.length + js_urls.length + js_modules.length;\n",
       "\n",
       "    function on_load() {\n",
       "      root._bokeh_is_loading--;\n",
       "      if (root._bokeh_is_loading === 0) {\n",
       "        console.debug(\"Bokeh: all BokehJS libraries/stylesheets loaded\");\n",
       "        run_callbacks()\n",
       "      }\n",
       "    }\n",
       "\n",
       "    function on_error() {\n",
       "      console.error(\"failed to load \" + url);\n",
       "    }\n",
       "\n",
       "    for (var i = 0; i < css_urls.length; i++) {\n",
       "      var url = css_urls[i];\n",
       "      const element = document.createElement(\"link\");\n",
       "      element.onload = on_load;\n",
       "      element.onerror = on_error;\n",
       "      element.rel = \"stylesheet\";\n",
       "      element.type = \"text/css\";\n",
       "      element.href = url;\n",
       "      console.debug(\"Bokeh: injecting link tag for BokehJS stylesheet: \", url);\n",
       "      document.body.appendChild(element);\n",
       "    }\n",
       "\n",
       "    var skip = [];\n",
       "    if (window.requirejs) {\n",
       "      window.requirejs.config({'paths': {'tabulator': 'https://unpkg.com/tabulator-tables@4.9.3/dist/js/tabulator'}});\n",
       "      require([], function() {\n",
       "      })\n",
       "    }\n",
       "    if (((window['tabulator'] !== undefined) && (!(window['tabulator'] instanceof HTMLElement))) || window.requirejs) {\n",
       "      var urls = ['https://unpkg.com/tabulator-tables@4.9.3/dist/js/tabulator.js', 'https://unpkg.com/moment@2.27.0/moment.js'];\n",
       "      for (var i = 0; i < urls.length; i++) {\n",
       "        skip.push(urls[i])\n",
       "      }\n",
       "    }\n",
       "    for (var i = 0; i < js_urls.length; i++) {\n",
       "      var url = js_urls[i];\n",
       "      if (skip.indexOf(url) >= 0) { on_load(); continue; }\n",
       "      var element = document.createElement('script');\n",
       "      element.onload = on_load;\n",
       "      element.onerror = on_error;\n",
       "      element.async = false;\n",
       "      element.src = url;\n",
       "      console.debug(\"Bokeh: injecting script tag for BokehJS library: \", url);\n",
       "      document.head.appendChild(element);\n",
       "    }\n",
       "    for (var i = 0; i < js_modules.length; i++) {\n",
       "      var url = js_modules[i];\n",
       "      if (skip.indexOf(url) >= 0) { on_load(); continue; }\n",
       "      var element = document.createElement('script');\n",
       "      element.onload = on_load;\n",
       "      element.onerror = on_error;\n",
       "      element.async = false;\n",
       "      element.src = url;\n",
       "      element.type = \"module\";\n",
       "      console.debug(\"Bokeh: injecting script tag for BokehJS library: \", url);\n",
       "      document.head.appendChild(element);\n",
       "    }\n",
       "    if (!js_urls.length && !js_modules.length) {\n",
       "      on_load()\n",
       "    }\n",
       "  };\n",
       "\n",
       "  function inject_raw_css(css) {\n",
       "    const element = document.createElement(\"style\");\n",
       "    element.appendChild(document.createTextNode(css));\n",
       "    document.body.appendChild(element);\n",
       "  }\n",
       "\n",
       "  var js_urls = [\"https://unpkg.com/tabulator-tables@4.9.3/dist/js/tabulator.js\", \"https://unpkg.com/moment@2.27.0/moment.js\", \"https://cdn.bokeh.org/bokeh/release/bokeh-2.3.3.min.js\", \"https://cdn.bokeh.org/bokeh/release/bokeh-widgets-2.3.3.min.js\", \"https://cdn.bokeh.org/bokeh/release/bokeh-tables-2.3.3.min.js\", \"https://unpkg.com/@holoviz/panel@0.11.1/dist/panel.min.js\"];\n",
       "  var js_modules = [];\n",
       "  var css_urls = [\"https://unpkg.com/tabulator-tables@4.9.3/dist/css/tabulator_simple.min.css\", \"https://unpkg.com/@holoviz/panel@0.11.1/dist/css/widgets.css\", \"https://unpkg.com/@holoviz/panel@0.11.1/dist/css/loading.css\", \"https://unpkg.com/@holoviz/panel@0.11.1/dist/css/dataframe.css\", \"https://unpkg.com/@holoviz/panel@0.11.1/dist/css/alerts.css\", \"https://unpkg.com/@holoviz/panel@0.11.1/dist/css/markdown.css\", \"https://unpkg.com/@holoviz/panel@0.11.1/dist/css/json.css\", \"https://unpkg.com/@holoviz/panel@0.11.1/dist/css/card.css\"];\n",
       "  var inline_js = [\n",
       "    function(Bokeh) {\n",
       "      inject_raw_css(\"\\n    .bk.pn-loading.arcs:before {\\n      background-image: url(\\\"data:image/svg+xml;base64,PHN2ZyB4bWxucz0iaHR0cDovL3d3dy53My5vcmcvMjAwMC9zdmciIHhtbG5zOnhsaW5rPSJodHRwOi8vd3d3LnczLm9yZy8xOTk5L3hsaW5rIiBzdHlsZT0ibWFyZ2luOiBhdXRvOyBiYWNrZ3JvdW5kOiBub25lOyBkaXNwbGF5OiBibG9jazsgc2hhcGUtcmVuZGVyaW5nOiBhdXRvOyIgdmlld0JveD0iMCAwIDEwMCAxMDAiIHByZXNlcnZlQXNwZWN0UmF0aW89InhNaWRZTWlkIj4gIDxjaXJjbGUgY3g9IjUwIiBjeT0iNTAiIHI9IjMyIiBzdHJva2Utd2lkdGg9IjgiIHN0cm9rZT0iI2MzYzNjMyIgc3Ryb2tlLWRhc2hhcnJheT0iNTAuMjY1NDgyNDU3NDM2NjkgNTAuMjY1NDgyNDU3NDM2NjkiIGZpbGw9Im5vbmUiIHN0cm9rZS1saW5lY2FwPSJyb3VuZCI+ICAgIDxhbmltYXRlVHJhbnNmb3JtIGF0dHJpYnV0ZU5hbWU9InRyYW5zZm9ybSIgdHlwZT0icm90YXRlIiByZXBlYXRDb3VudD0iaW5kZWZpbml0ZSIgZHVyPSIxcyIga2V5VGltZXM9IjA7MSIgdmFsdWVzPSIwIDUwIDUwOzM2MCA1MCA1MCI+PC9hbmltYXRlVHJhbnNmb3JtPiAgPC9jaXJjbGU+PC9zdmc+\\\")\\n    }\\n    \");\n",
       "    },\n",
       "    function(Bokeh) {\n",
       "      Bokeh.set_log_level(\"info\");\n",
       "    },\n",
       "    function(Bokeh) {} // ensure no trailing comma for IE\n",
       "  ];\n",
       "\n",
       "  function run_inline_js() {\n",
       "    if ((root.Bokeh !== undefined) || (force === true)) {\n",
       "      for (var i = 0; i < inline_js.length; i++) {\n",
       "        inline_js[i].call(root, root.Bokeh);\n",
       "      }} else if (Date.now() < root._bokeh_timeout) {\n",
       "      setTimeout(run_inline_js, 100);\n",
       "    } else if (!root._bokeh_failed_load) {\n",
       "      console.log(\"Bokeh: BokehJS failed to load within specified timeout.\");\n",
       "      root._bokeh_failed_load = true;\n",
       "    }\n",
       "  }\n",
       "\n",
       "  if (root._bokeh_is_loading === 0) {\n",
       "    console.debug(\"Bokeh: BokehJS loaded, going straight to plotting\");\n",
       "    run_inline_js();\n",
       "  } else {\n",
       "    load_libs(css_urls, js_urls, js_modules, function() {\n",
       "      console.debug(\"Bokeh: BokehJS plotting callback run at\", now());\n",
       "      run_inline_js();\n",
       "    });\n",
       "  }\n",
       "}(window));"
      ],
      "application/vnd.holoviews_load.v0+json": "\n(function(root) {\n  function now() {\n    return new Date();\n  }\n\n  var force = true;\n\n  if (typeof root._bokeh_onload_callbacks === \"undefined\" || force === true) {\n    root._bokeh_onload_callbacks = [];\n    root._bokeh_is_loading = undefined;\n  }\n\n  if (typeof (root._bokeh_timeout) === \"undefined\" || force === true) {\n    root._bokeh_timeout = Date.now() + 5000;\n    root._bokeh_failed_load = false;\n  }\n\n  function run_callbacks() {\n    try {\n      root._bokeh_onload_callbacks.forEach(function(callback) {\n        if (callback != null)\n          callback();\n      });\n    } finally {\n      delete root._bokeh_onload_callbacks\n    }\n    console.debug(\"Bokeh: all callbacks have finished\");\n  }\n\n  function load_libs(css_urls, js_urls, js_modules, callback) {\n    if (css_urls == null) css_urls = [];\n    if (js_urls == null) js_urls = [];\n    if (js_modules == null) js_modules = [];\n\n    root._bokeh_onload_callbacks.push(callback);\n    if (root._bokeh_is_loading > 0) {\n      console.debug(\"Bokeh: BokehJS is being loaded, scheduling callback at\", now());\n      return null;\n    }\n    if (js_urls.length === 0 && js_modules.length === 0) {\n      run_callbacks();\n      return null;\n    }\n    console.debug(\"Bokeh: BokehJS not loaded, scheduling load and callback at\", now());\n    root._bokeh_is_loading = css_urls.length + js_urls.length + js_modules.length;\n\n    function on_load() {\n      root._bokeh_is_loading--;\n      if (root._bokeh_is_loading === 0) {\n        console.debug(\"Bokeh: all BokehJS libraries/stylesheets loaded\");\n        run_callbacks()\n      }\n    }\n\n    function on_error() {\n      console.error(\"failed to load \" + url);\n    }\n\n    for (var i = 0; i < css_urls.length; i++) {\n      var url = css_urls[i];\n      const element = document.createElement(\"link\");\n      element.onload = on_load;\n      element.onerror = on_error;\n      element.rel = \"stylesheet\";\n      element.type = \"text/css\";\n      element.href = url;\n      console.debug(\"Bokeh: injecting link tag for BokehJS stylesheet: \", url);\n      document.body.appendChild(element);\n    }\n\n    var skip = [];\n    if (window.requirejs) {\n      window.requirejs.config({'paths': {'tabulator': 'https://unpkg.com/tabulator-tables@4.9.3/dist/js/tabulator'}});\n      require([], function() {\n      })\n    }\n    if (((window['tabulator'] !== undefined) && (!(window['tabulator'] instanceof HTMLElement))) || window.requirejs) {\n      var urls = ['https://unpkg.com/tabulator-tables@4.9.3/dist/js/tabulator.js', 'https://unpkg.com/moment@2.27.0/moment.js'];\n      for (var i = 0; i < urls.length; i++) {\n        skip.push(urls[i])\n      }\n    }\n    for (var i = 0; i < js_urls.length; i++) {\n      var url = js_urls[i];\n      if (skip.indexOf(url) >= 0) { on_load(); continue; }\n      var element = document.createElement('script');\n      element.onload = on_load;\n      element.onerror = on_error;\n      element.async = false;\n      element.src = url;\n      console.debug(\"Bokeh: injecting script tag for BokehJS library: \", url);\n      document.head.appendChild(element);\n    }\n    for (var i = 0; i < js_modules.length; i++) {\n      var url = js_modules[i];\n      if (skip.indexOf(url) >= 0) { on_load(); continue; }\n      var element = document.createElement('script');\n      element.onload = on_load;\n      element.onerror = on_error;\n      element.async = false;\n      element.src = url;\n      element.type = \"module\";\n      console.debug(\"Bokeh: injecting script tag for BokehJS library: \", url);\n      document.head.appendChild(element);\n    }\n    if (!js_urls.length && !js_modules.length) {\n      on_load()\n    }\n  };\n\n  function inject_raw_css(css) {\n    const element = document.createElement(\"style\");\n    element.appendChild(document.createTextNode(css));\n    document.body.appendChild(element);\n  }\n\n  var js_urls = [\"https://unpkg.com/tabulator-tables@4.9.3/dist/js/tabulator.js\", \"https://unpkg.com/moment@2.27.0/moment.js\", \"https://cdn.bokeh.org/bokeh/release/bokeh-2.3.3.min.js\", \"https://cdn.bokeh.org/bokeh/release/bokeh-widgets-2.3.3.min.js\", \"https://cdn.bokeh.org/bokeh/release/bokeh-tables-2.3.3.min.js\", \"https://unpkg.com/@holoviz/panel@0.11.1/dist/panel.min.js\"];\n  var js_modules = [];\n  var css_urls = [\"https://unpkg.com/tabulator-tables@4.9.3/dist/css/tabulator_simple.min.css\", \"https://unpkg.com/@holoviz/panel@0.11.1/dist/css/widgets.css\", \"https://unpkg.com/@holoviz/panel@0.11.1/dist/css/loading.css\", \"https://unpkg.com/@holoviz/panel@0.11.1/dist/css/dataframe.css\", \"https://unpkg.com/@holoviz/panel@0.11.1/dist/css/alerts.css\", \"https://unpkg.com/@holoviz/panel@0.11.1/dist/css/markdown.css\", \"https://unpkg.com/@holoviz/panel@0.11.1/dist/css/json.css\", \"https://unpkg.com/@holoviz/panel@0.11.1/dist/css/card.css\"];\n  var inline_js = [\n    function(Bokeh) {\n      inject_raw_css(\"\\n    .bk.pn-loading.arcs:before {\\n      background-image: url(\\\"data:image/svg+xml;base64,PHN2ZyB4bWxucz0iaHR0cDovL3d3dy53My5vcmcvMjAwMC9zdmciIHhtbG5zOnhsaW5rPSJodHRwOi8vd3d3LnczLm9yZy8xOTk5L3hsaW5rIiBzdHlsZT0ibWFyZ2luOiBhdXRvOyBiYWNrZ3JvdW5kOiBub25lOyBkaXNwbGF5OiBibG9jazsgc2hhcGUtcmVuZGVyaW5nOiBhdXRvOyIgdmlld0JveD0iMCAwIDEwMCAxMDAiIHByZXNlcnZlQXNwZWN0UmF0aW89InhNaWRZTWlkIj4gIDxjaXJjbGUgY3g9IjUwIiBjeT0iNTAiIHI9IjMyIiBzdHJva2Utd2lkdGg9IjgiIHN0cm9rZT0iI2MzYzNjMyIgc3Ryb2tlLWRhc2hhcnJheT0iNTAuMjY1NDgyNDU3NDM2NjkgNTAuMjY1NDgyNDU3NDM2NjkiIGZpbGw9Im5vbmUiIHN0cm9rZS1saW5lY2FwPSJyb3VuZCI+ICAgIDxhbmltYXRlVHJhbnNmb3JtIGF0dHJpYnV0ZU5hbWU9InRyYW5zZm9ybSIgdHlwZT0icm90YXRlIiByZXBlYXRDb3VudD0iaW5kZWZpbml0ZSIgZHVyPSIxcyIga2V5VGltZXM9IjA7MSIgdmFsdWVzPSIwIDUwIDUwOzM2MCA1MCA1MCI+PC9hbmltYXRlVHJhbnNmb3JtPiAgPC9jaXJjbGU+PC9zdmc+\\\")\\n    }\\n    \");\n    },\n    function(Bokeh) {\n      Bokeh.set_log_level(\"info\");\n    },\n    function(Bokeh) {} // ensure no trailing comma for IE\n  ];\n\n  function run_inline_js() {\n    if ((root.Bokeh !== undefined) || (force === true)) {\n      for (var i = 0; i < inline_js.length; i++) {\n        inline_js[i].call(root, root.Bokeh);\n      }} else if (Date.now() < root._bokeh_timeout) {\n      setTimeout(run_inline_js, 100);\n    } else if (!root._bokeh_failed_load) {\n      console.log(\"Bokeh: BokehJS failed to load within specified timeout.\");\n      root._bokeh_failed_load = true;\n    }\n  }\n\n  if (root._bokeh_is_loading === 0) {\n    console.debug(\"Bokeh: BokehJS loaded, going straight to plotting\");\n    run_inline_js();\n  } else {\n    load_libs(css_urls, js_urls, js_modules, function() {\n      console.debug(\"Bokeh: BokehJS plotting callback run at\", now());\n      run_inline_js();\n    });\n  }\n}(window));"
     },
     "metadata": {},
     "output_type": "display_data"
    },
    {
     "data": {
      "application/javascript": [
       "\n",
       "if ((window.PyViz === undefined) || (window.PyViz instanceof HTMLElement)) {\n",
       "  window.PyViz = {comms: {}, comm_status:{}, kernels:{}, receivers: {}, plot_index: []}\n",
       "}\n",
       "\n",
       "\n",
       "    function JupyterCommManager() {\n",
       "    }\n",
       "\n",
       "    JupyterCommManager.prototype.register_target = function(plot_id, comm_id, msg_handler) {\n",
       "      if (window.comm_manager || ((window.Jupyter !== undefined) && (Jupyter.notebook.kernel != null))) {\n",
       "        var comm_manager = window.comm_manager || Jupyter.notebook.kernel.comm_manager;\n",
       "        comm_manager.register_target(comm_id, function(comm) {\n",
       "          comm.on_msg(msg_handler);\n",
       "        });\n",
       "      } else if ((plot_id in window.PyViz.kernels) && (window.PyViz.kernels[plot_id])) {\n",
       "        window.PyViz.kernels[plot_id].registerCommTarget(comm_id, function(comm) {\n",
       "          comm.onMsg = msg_handler;\n",
       "        });\n",
       "      } else if (typeof google != 'undefined' && google.colab.kernel != null) {\n",
       "        google.colab.kernel.comms.registerTarget(comm_id, (comm) => {\n",
       "          var messages = comm.messages[Symbol.asyncIterator]();\n",
       "          function processIteratorResult(result) {\n",
       "            var message = result.value;\n",
       "            console.log(message)\n",
       "            var content = {data: message.data, comm_id};\n",
       "            var buffers = []\n",
       "            for (var buffer of message.buffers || []) {\n",
       "              buffers.push(new DataView(buffer))\n",
       "            }\n",
       "            var metadata = message.metadata || {};\n",
       "            var msg = {content, buffers, metadata}\n",
       "            msg_handler(msg);\n",
       "            return messages.next().then(processIteratorResult);\n",
       "          }\n",
       "          return messages.next().then(processIteratorResult);\n",
       "        })\n",
       "      }\n",
       "    }\n",
       "\n",
       "    JupyterCommManager.prototype.get_client_comm = function(plot_id, comm_id, msg_handler) {\n",
       "      if (comm_id in window.PyViz.comms) {\n",
       "        return window.PyViz.comms[comm_id];\n",
       "      } else if (window.comm_manager || ((window.Jupyter !== undefined) && (Jupyter.notebook.kernel != null))) {\n",
       "        var comm_manager = window.comm_manager || Jupyter.notebook.kernel.comm_manager;\n",
       "        var comm = comm_manager.new_comm(comm_id, {}, {}, {}, comm_id);\n",
       "        if (msg_handler) {\n",
       "          comm.on_msg(msg_handler);\n",
       "        }\n",
       "      } else if ((plot_id in window.PyViz.kernels) && (window.PyViz.kernels[plot_id])) {\n",
       "        var comm = window.PyViz.kernels[plot_id].connectToComm(comm_id);\n",
       "        comm.open();\n",
       "        if (msg_handler) {\n",
       "          comm.onMsg = msg_handler;\n",
       "        }\n",
       "      } else if (typeof google != 'undefined' && google.colab.kernel != null) {\n",
       "        var comm_promise = google.colab.kernel.comms.open(comm_id)\n",
       "        comm_promise.then((comm) => {\n",
       "          window.PyViz.comms[comm_id] = comm;\n",
       "          if (msg_handler) {\n",
       "            var messages = comm.messages[Symbol.asyncIterator]();\n",
       "            function processIteratorResult(result) {\n",
       "              var message = result.value;\n",
       "              var content = {data: message.data};\n",
       "              var metadata = message.metadata || {comm_id};\n",
       "              var msg = {content, metadata}\n",
       "              msg_handler(msg);\n",
       "              return messages.next().then(processIteratorResult);\n",
       "            }\n",
       "            return messages.next().then(processIteratorResult);\n",
       "          }\n",
       "        }) \n",
       "        var sendClosure = (data, metadata, buffers, disposeOnDone) => {\n",
       "          return comm_promise.then((comm) => {\n",
       "            comm.send(data, metadata, buffers, disposeOnDone);\n",
       "          });\n",
       "        };\n",
       "        var comm = {\n",
       "          send: sendClosure\n",
       "        };\n",
       "      }\n",
       "      window.PyViz.comms[comm_id] = comm;\n",
       "      return comm;\n",
       "    }\n",
       "    window.PyViz.comm_manager = new JupyterCommManager();\n",
       "    \n",
       "\n",
       "\n",
       "var JS_MIME_TYPE = 'application/javascript';\n",
       "var HTML_MIME_TYPE = 'text/html';\n",
       "var EXEC_MIME_TYPE = 'application/vnd.holoviews_exec.v0+json';\n",
       "var CLASS_NAME = 'output';\n",
       "\n",
       "/**\n",
       " * Render data to the DOM node\n",
       " */\n",
       "function render(props, node) {\n",
       "  var div = document.createElement(\"div\");\n",
       "  var script = document.createElement(\"script\");\n",
       "  node.appendChild(div);\n",
       "  node.appendChild(script);\n",
       "}\n",
       "\n",
       "/**\n",
       " * Handle when a new output is added\n",
       " */\n",
       "function handle_add_output(event, handle) {\n",
       "  var output_area = handle.output_area;\n",
       "  var output = handle.output;\n",
       "  if ((output.data == undefined) || (!output.data.hasOwnProperty(EXEC_MIME_TYPE))) {\n",
       "    return\n",
       "  }\n",
       "  var id = output.metadata[EXEC_MIME_TYPE][\"id\"];\n",
       "  var toinsert = output_area.element.find(\".\" + CLASS_NAME.split(' ')[0]);\n",
       "  if (id !== undefined) {\n",
       "    var nchildren = toinsert.length;\n",
       "    var html_node = toinsert[nchildren-1].children[0];\n",
       "    html_node.innerHTML = output.data[HTML_MIME_TYPE];\n",
       "    var scripts = [];\n",
       "    var nodelist = html_node.querySelectorAll(\"script\");\n",
       "    for (var i in nodelist) {\n",
       "      if (nodelist.hasOwnProperty(i)) {\n",
       "        scripts.push(nodelist[i])\n",
       "      }\n",
       "    }\n",
       "\n",
       "    scripts.forEach( function (oldScript) {\n",
       "      var newScript = document.createElement(\"script\");\n",
       "      var attrs = [];\n",
       "      var nodemap = oldScript.attributes;\n",
       "      for (var j in nodemap) {\n",
       "        if (nodemap.hasOwnProperty(j)) {\n",
       "          attrs.push(nodemap[j])\n",
       "        }\n",
       "      }\n",
       "      attrs.forEach(function(attr) { newScript.setAttribute(attr.name, attr.value) });\n",
       "      newScript.appendChild(document.createTextNode(oldScript.innerHTML));\n",
       "      oldScript.parentNode.replaceChild(newScript, oldScript);\n",
       "    });\n",
       "    if (JS_MIME_TYPE in output.data) {\n",
       "      toinsert[nchildren-1].children[1].textContent = output.data[JS_MIME_TYPE];\n",
       "    }\n",
       "    output_area._hv_plot_id = id;\n",
       "    if ((window.Bokeh !== undefined) && (id in Bokeh.index)) {\n",
       "      window.PyViz.plot_index[id] = Bokeh.index[id];\n",
       "    } else {\n",
       "      window.PyViz.plot_index[id] = null;\n",
       "    }\n",
       "  } else if (output.metadata[EXEC_MIME_TYPE][\"server_id\"] !== undefined) {\n",
       "    var bk_div = document.createElement(\"div\");\n",
       "    bk_div.innerHTML = output.data[HTML_MIME_TYPE];\n",
       "    var script_attrs = bk_div.children[0].attributes;\n",
       "    for (var i = 0; i < script_attrs.length; i++) {\n",
       "      toinsert[toinsert.length - 1].childNodes[1].setAttribute(script_attrs[i].name, script_attrs[i].value);\n",
       "    }\n",
       "    // store reference to server id on output_area\n",
       "    output_area._bokeh_server_id = output.metadata[EXEC_MIME_TYPE][\"server_id\"];\n",
       "  }\n",
       "}\n",
       "\n",
       "/**\n",
       " * Handle when an output is cleared or removed\n",
       " */\n",
       "function handle_clear_output(event, handle) {\n",
       "  var id = handle.cell.output_area._hv_plot_id;\n",
       "  var server_id = handle.cell.output_area._bokeh_server_id;\n",
       "  if (((id === undefined) || !(id in PyViz.plot_index)) && (server_id !== undefined)) { return; }\n",
       "  var comm = window.PyViz.comm_manager.get_client_comm(\"hv-extension-comm\", \"hv-extension-comm\", function () {});\n",
       "  if (server_id !== null) {\n",
       "    comm.send({event_type: 'server_delete', 'id': server_id});\n",
       "    return;\n",
       "  } else if (comm !== null) {\n",
       "    comm.send({event_type: 'delete', 'id': id});\n",
       "  }\n",
       "  delete PyViz.plot_index[id];\n",
       "  if ((window.Bokeh !== undefined) & (id in window.Bokeh.index)) {\n",
       "    var doc = window.Bokeh.index[id].model.document\n",
       "    doc.clear();\n",
       "    const i = window.Bokeh.documents.indexOf(doc);\n",
       "    if (i > -1) {\n",
       "      window.Bokeh.documents.splice(i, 1);\n",
       "    }\n",
       "  }\n",
       "}\n",
       "\n",
       "/**\n",
       " * Handle kernel restart event\n",
       " */\n",
       "function handle_kernel_cleanup(event, handle) {\n",
       "  delete PyViz.comms[\"hv-extension-comm\"];\n",
       "  window.PyViz.plot_index = {}\n",
       "}\n",
       "\n",
       "/**\n",
       " * Handle update_display_data messages\n",
       " */\n",
       "function handle_update_output(event, handle) {\n",
       "  handle_clear_output(event, {cell: {output_area: handle.output_area}})\n",
       "  handle_add_output(event, handle)\n",
       "}\n",
       "\n",
       "function register_renderer(events, OutputArea) {\n",
       "  function append_mime(data, metadata, element) {\n",
       "    // create a DOM node to render to\n",
       "    var toinsert = this.create_output_subarea(\n",
       "    metadata,\n",
       "    CLASS_NAME,\n",
       "    EXEC_MIME_TYPE\n",
       "    );\n",
       "    this.keyboard_manager.register_events(toinsert);\n",
       "    // Render to node\n",
       "    var props = {data: data, metadata: metadata[EXEC_MIME_TYPE]};\n",
       "    render(props, toinsert[0]);\n",
       "    element.append(toinsert);\n",
       "    return toinsert\n",
       "  }\n",
       "\n",
       "  events.on('output_added.OutputArea', handle_add_output);\n",
       "  events.on('output_updated.OutputArea', handle_update_output);\n",
       "  events.on('clear_output.CodeCell', handle_clear_output);\n",
       "  events.on('delete.Cell', handle_clear_output);\n",
       "  events.on('kernel_ready.Kernel', handle_kernel_cleanup);\n",
       "\n",
       "  OutputArea.prototype.register_mime_type(EXEC_MIME_TYPE, append_mime, {\n",
       "    safe: true,\n",
       "    index: 0\n",
       "  });\n",
       "}\n",
       "\n",
       "if (window.Jupyter !== undefined) {\n",
       "  try {\n",
       "    var events = require('base/js/events');\n",
       "    var OutputArea = require('notebook/js/outputarea').OutputArea;\n",
       "    if (OutputArea.prototype.mime_types().indexOf(EXEC_MIME_TYPE) == -1) {\n",
       "      register_renderer(events, OutputArea);\n",
       "    }\n",
       "  } catch(err) {\n",
       "  }\n",
       "}\n"
      ],
      "application/vnd.holoviews_load.v0+json": "\nif ((window.PyViz === undefined) || (window.PyViz instanceof HTMLElement)) {\n  window.PyViz = {comms: {}, comm_status:{}, kernels:{}, receivers: {}, plot_index: []}\n}\n\n\n    function JupyterCommManager() {\n    }\n\n    JupyterCommManager.prototype.register_target = function(plot_id, comm_id, msg_handler) {\n      if (window.comm_manager || ((window.Jupyter !== undefined) && (Jupyter.notebook.kernel != null))) {\n        var comm_manager = window.comm_manager || Jupyter.notebook.kernel.comm_manager;\n        comm_manager.register_target(comm_id, function(comm) {\n          comm.on_msg(msg_handler);\n        });\n      } else if ((plot_id in window.PyViz.kernels) && (window.PyViz.kernels[plot_id])) {\n        window.PyViz.kernels[plot_id].registerCommTarget(comm_id, function(comm) {\n          comm.onMsg = msg_handler;\n        });\n      } else if (typeof google != 'undefined' && google.colab.kernel != null) {\n        google.colab.kernel.comms.registerTarget(comm_id, (comm) => {\n          var messages = comm.messages[Symbol.asyncIterator]();\n          function processIteratorResult(result) {\n            var message = result.value;\n            console.log(message)\n            var content = {data: message.data, comm_id};\n            var buffers = []\n            for (var buffer of message.buffers || []) {\n              buffers.push(new DataView(buffer))\n            }\n            var metadata = message.metadata || {};\n            var msg = {content, buffers, metadata}\n            msg_handler(msg);\n            return messages.next().then(processIteratorResult);\n          }\n          return messages.next().then(processIteratorResult);\n        })\n      }\n    }\n\n    JupyterCommManager.prototype.get_client_comm = function(plot_id, comm_id, msg_handler) {\n      if (comm_id in window.PyViz.comms) {\n        return window.PyViz.comms[comm_id];\n      } else if (window.comm_manager || ((window.Jupyter !== undefined) && (Jupyter.notebook.kernel != null))) {\n        var comm_manager = window.comm_manager || Jupyter.notebook.kernel.comm_manager;\n        var comm = comm_manager.new_comm(comm_id, {}, {}, {}, comm_id);\n        if (msg_handler) {\n          comm.on_msg(msg_handler);\n        }\n      } else if ((plot_id in window.PyViz.kernels) && (window.PyViz.kernels[plot_id])) {\n        var comm = window.PyViz.kernels[plot_id].connectToComm(comm_id);\n        comm.open();\n        if (msg_handler) {\n          comm.onMsg = msg_handler;\n        }\n      } else if (typeof google != 'undefined' && google.colab.kernel != null) {\n        var comm_promise = google.colab.kernel.comms.open(comm_id)\n        comm_promise.then((comm) => {\n          window.PyViz.comms[comm_id] = comm;\n          if (msg_handler) {\n            var messages = comm.messages[Symbol.asyncIterator]();\n            function processIteratorResult(result) {\n              var message = result.value;\n              var content = {data: message.data};\n              var metadata = message.metadata || {comm_id};\n              var msg = {content, metadata}\n              msg_handler(msg);\n              return messages.next().then(processIteratorResult);\n            }\n            return messages.next().then(processIteratorResult);\n          }\n        }) \n        var sendClosure = (data, metadata, buffers, disposeOnDone) => {\n          return comm_promise.then((comm) => {\n            comm.send(data, metadata, buffers, disposeOnDone);\n          });\n        };\n        var comm = {\n          send: sendClosure\n        };\n      }\n      window.PyViz.comms[comm_id] = comm;\n      return comm;\n    }\n    window.PyViz.comm_manager = new JupyterCommManager();\n    \n\n\nvar JS_MIME_TYPE = 'application/javascript';\nvar HTML_MIME_TYPE = 'text/html';\nvar EXEC_MIME_TYPE = 'application/vnd.holoviews_exec.v0+json';\nvar CLASS_NAME = 'output';\n\n/**\n * Render data to the DOM node\n */\nfunction render(props, node) {\n  var div = document.createElement(\"div\");\n  var script = document.createElement(\"script\");\n  node.appendChild(div);\n  node.appendChild(script);\n}\n\n/**\n * Handle when a new output is added\n */\nfunction handle_add_output(event, handle) {\n  var output_area = handle.output_area;\n  var output = handle.output;\n  if ((output.data == undefined) || (!output.data.hasOwnProperty(EXEC_MIME_TYPE))) {\n    return\n  }\n  var id = output.metadata[EXEC_MIME_TYPE][\"id\"];\n  var toinsert = output_area.element.find(\".\" + CLASS_NAME.split(' ')[0]);\n  if (id !== undefined) {\n    var nchildren = toinsert.length;\n    var html_node = toinsert[nchildren-1].children[0];\n    html_node.innerHTML = output.data[HTML_MIME_TYPE];\n    var scripts = [];\n    var nodelist = html_node.querySelectorAll(\"script\");\n    for (var i in nodelist) {\n      if (nodelist.hasOwnProperty(i)) {\n        scripts.push(nodelist[i])\n      }\n    }\n\n    scripts.forEach( function (oldScript) {\n      var newScript = document.createElement(\"script\");\n      var attrs = [];\n      var nodemap = oldScript.attributes;\n      for (var j in nodemap) {\n        if (nodemap.hasOwnProperty(j)) {\n          attrs.push(nodemap[j])\n        }\n      }\n      attrs.forEach(function(attr) { newScript.setAttribute(attr.name, attr.value) });\n      newScript.appendChild(document.createTextNode(oldScript.innerHTML));\n      oldScript.parentNode.replaceChild(newScript, oldScript);\n    });\n    if (JS_MIME_TYPE in output.data) {\n      toinsert[nchildren-1].children[1].textContent = output.data[JS_MIME_TYPE];\n    }\n    output_area._hv_plot_id = id;\n    if ((window.Bokeh !== undefined) && (id in Bokeh.index)) {\n      window.PyViz.plot_index[id] = Bokeh.index[id];\n    } else {\n      window.PyViz.plot_index[id] = null;\n    }\n  } else if (output.metadata[EXEC_MIME_TYPE][\"server_id\"] !== undefined) {\n    var bk_div = document.createElement(\"div\");\n    bk_div.innerHTML = output.data[HTML_MIME_TYPE];\n    var script_attrs = bk_div.children[0].attributes;\n    for (var i = 0; i < script_attrs.length; i++) {\n      toinsert[toinsert.length - 1].childNodes[1].setAttribute(script_attrs[i].name, script_attrs[i].value);\n    }\n    // store reference to server id on output_area\n    output_area._bokeh_server_id = output.metadata[EXEC_MIME_TYPE][\"server_id\"];\n  }\n}\n\n/**\n * Handle when an output is cleared or removed\n */\nfunction handle_clear_output(event, handle) {\n  var id = handle.cell.output_area._hv_plot_id;\n  var server_id = handle.cell.output_area._bokeh_server_id;\n  if (((id === undefined) || !(id in PyViz.plot_index)) && (server_id !== undefined)) { return; }\n  var comm = window.PyViz.comm_manager.get_client_comm(\"hv-extension-comm\", \"hv-extension-comm\", function () {});\n  if (server_id !== null) {\n    comm.send({event_type: 'server_delete', 'id': server_id});\n    return;\n  } else if (comm !== null) {\n    comm.send({event_type: 'delete', 'id': id});\n  }\n  delete PyViz.plot_index[id];\n  if ((window.Bokeh !== undefined) & (id in window.Bokeh.index)) {\n    var doc = window.Bokeh.index[id].model.document\n    doc.clear();\n    const i = window.Bokeh.documents.indexOf(doc);\n    if (i > -1) {\n      window.Bokeh.documents.splice(i, 1);\n    }\n  }\n}\n\n/**\n * Handle kernel restart event\n */\nfunction handle_kernel_cleanup(event, handle) {\n  delete PyViz.comms[\"hv-extension-comm\"];\n  window.PyViz.plot_index = {}\n}\n\n/**\n * Handle update_display_data messages\n */\nfunction handle_update_output(event, handle) {\n  handle_clear_output(event, {cell: {output_area: handle.output_area}})\n  handle_add_output(event, handle)\n}\n\nfunction register_renderer(events, OutputArea) {\n  function append_mime(data, metadata, element) {\n    // create a DOM node to render to\n    var toinsert = this.create_output_subarea(\n    metadata,\n    CLASS_NAME,\n    EXEC_MIME_TYPE\n    );\n    this.keyboard_manager.register_events(toinsert);\n    // Render to node\n    var props = {data: data, metadata: metadata[EXEC_MIME_TYPE]};\n    render(props, toinsert[0]);\n    element.append(toinsert);\n    return toinsert\n  }\n\n  events.on('output_added.OutputArea', handle_add_output);\n  events.on('output_updated.OutputArea', handle_update_output);\n  events.on('clear_output.CodeCell', handle_clear_output);\n  events.on('delete.Cell', handle_clear_output);\n  events.on('kernel_ready.Kernel', handle_kernel_cleanup);\n\n  OutputArea.prototype.register_mime_type(EXEC_MIME_TYPE, append_mime, {\n    safe: true,\n    index: 0\n  });\n}\n\nif (window.Jupyter !== undefined) {\n  try {\n    var events = require('base/js/events');\n    var OutputArea = require('notebook/js/outputarea').OutputArea;\n    if (OutputArea.prototype.mime_types().indexOf(EXEC_MIME_TYPE) == -1) {\n      register_renderer(events, OutputArea);\n    }\n  } catch(err) {\n  }\n}\n"
     },
     "metadata": {},
     "output_type": "display_data"
    },
    {
     "data": {
      "application/vnd.holoviews_exec.v0+json": "",
      "text/html": [
       "<div id='1034'>\n",
       "\n",
       "\n",
       "\n",
       "\n",
       "\n",
       "  <div class=\"bk-root\" id=\"13ad509c-f727-4fe4-b318-b86533dac277\" data-root-id=\"1034\"></div>\n",
       "</div>\n",
       "<script type=\"application/javascript\">(function(root) {\n",
       "  function embed_document(root) {\n",
       "    var docs_json = {\"3ba5a2f9-ae5e-49aa-8efd-71a384738773\":{\"defs\":[],\"roots\":{\"references\":[{\"attributes\":{\"css_classes\":[\"markdown\"],\"margin\":[5,5,5,5],\"name\":\"Markdown00151\",\"text\":\"&lt;h2&gt;Samples : 3&lt;/h2&gt;\\n&lt;h4&gt;Group : O. barthii O. glaberrima&lt;/h4&gt;\"},\"id\":\"1037\",\"type\":\"panel.models.markup.HTML\"},{\"attributes\":{\"code\":\"\\nvar state = null\\nfor (var root of cb_obj.document.roots()) {\\n  if (root.id == '1046') {\\n    state = root;\\n    break;\\n  }\\n}\\nif (!state) { return; }\\nstate.set_state(cb_obj, cb_obj.value)\\n\"},\"id\":\"1047\",\"type\":\"CustomJS\"},{\"attributes\":{\"margin\":[5,5,5,5],\"name\":\"ParamMethod00161\",\"text\":\"&lt;table border=&quot;0&quot; class=&quot;dataframe panel-df&quot;&gt;\\n  &lt;thead&gt;\\n    &lt;tr style=&quot;text-align: right;&quot;&gt;\\n      &lt;th&gt;&lt;/th&gt;\\n      &lt;th&gt;sample&lt;/th&gt;\\n      &lt;th&gt;Species&lt;/th&gt;\\n    &lt;/tr&gt;\\n  &lt;/thead&gt;\\n  &lt;tbody&gt;\\n    &lt;tr&gt;\\n      &lt;th&gt;0&lt;/th&gt;\\n      &lt;td&gt;AA&lt;/td&gt;\\n      &lt;td&gt;O. barthii&lt;/td&gt;\\n    &lt;/tr&gt;\\n    &lt;tr&gt;\\n      &lt;th&gt;1&lt;/th&gt;\\n      &lt;td&gt;AB&lt;/td&gt;\\n      &lt;td&gt;O. barthii&lt;/td&gt;\\n    &lt;/tr&gt;\\n  &lt;/tbody&gt;\\n&lt;/table&gt;\"},\"id\":\"1045\",\"type\":\"panel.models.markup.HTML\"},{\"attributes\":{\"height\":288,\"margin\":[5,5,5,5],\"name\":\"ParamMethod00153\",\"text\":\"&lt;img src=&quot;data:image/png;base64,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&quot; width=&quot;432px&quot; height=&quot;288px&quot; alt=&quot;&quot;&gt;&lt;/img&gt;\",\"width\":432},\"id\":\"1039\",\"type\":\"panel.models.markup.HTML\"},{\"attributes\":{\"children\":[{\"id\":\"1041\"},{\"id\":\"1042\"}],\"margin\":[5,5,5,5],\"min_width\":300,\"name\":\"\",\"width\":300},\"id\":\"1040\",\"type\":\"Column\"},{\"attributes\":{\"state\":{\"O. barthii\":{\"content\":\"{\\\"events\\\": [{\\\"attr\\\": \\\"text\\\", \\\"kind\\\": \\\"ModelChanged\\\", \\\"model\\\": {\\\"id\\\": \\\"1045\\\"}, \\\"new\\\": \\\"&lt;table border=&quot;0&quot; class=&quot;dataframe panel-df&quot;&gt;\\\\n  &lt;thead&gt;\\\\n    &lt;tr style=&quot;text-align: right;&quot;&gt;\\\\n      &lt;th&gt;&lt;/th&gt;\\\\n      &lt;th&gt;sample&lt;/th&gt;\\\\n      &lt;th&gt;Species&lt;/th&gt;\\\\n    &lt;/tr&gt;\\\\n  &lt;/thead&gt;\\\\n  &lt;tbody&gt;\\\\n    &lt;tr&gt;\\\\n      &lt;th&gt;0&lt;/th&gt;\\\\n      &lt;td&gt;AA&lt;/td&gt;\\\\n      &lt;td&gt;O. barthii&lt;/td&gt;\\\\n    &lt;/tr&gt;\\\\n    &lt;tr&gt;\\\\n      &lt;th&gt;1&lt;/th&gt;\\\\n      &lt;td&gt;AB&lt;/td&gt;\\\\n      &lt;td&gt;O. barthii&lt;/td&gt;\\\\n    &lt;/tr&gt;\\\\n  &lt;/tbody&gt;\\\\n&lt;/table&gt;\\\"}], \\\"references\\\": []}\",\"header\":\"{\\\"msgid\\\": \\\"1049\\\", \\\"msgtype\\\": \\\"PATCH-DOC\\\"}\",\"metadata\":\"{}\"},\"O. glaberrima\":{\"content\":\"{\\\"events\\\": [{\\\"attr\\\": \\\"text\\\", \\\"kind\\\": \\\"ModelChanged\\\", \\\"model\\\": {\\\"id\\\": \\\"1045\\\"}, \\\"new\\\": \\\"&lt;table border=&quot;0&quot; class=&quot;dataframe panel-df&quot;&gt;\\\\n  &lt;thead&gt;\\\\n    &lt;tr style=&quot;text-align: right;&quot;&gt;\\\\n      &lt;th&gt;&lt;/th&gt;\\\\n      &lt;th&gt;sample&lt;/th&gt;\\\\n      &lt;th&gt;Species&lt;/th&gt;\\\\n    &lt;/tr&gt;\\\\n  &lt;/thead&gt;\\\\n  &lt;tbody&gt;\\\\n    &lt;tr&gt;\\\\n      &lt;th&gt;2&lt;/th&gt;\\\\n      &lt;td&gt;DT&lt;/td&gt;\\\\n      &lt;td&gt;O. glaberrima&lt;/td&gt;\\\\n    &lt;/tr&gt;\\\\n  &lt;/tbody&gt;\\\\n&lt;/table&gt;\\\"}], \\\"references\\\": []}\",\"header\":\"{\\\"msgid\\\": \\\"1048\\\", \\\"msgtype\\\": \\\"PATCH-DOC\\\"}\",\"metadata\":\"{}\"}},\"values\":[\"O. barthii\"],\"widgets\":{\"1042\":0}},\"id\":\"1046\",\"type\":\"panel.models.state.State\"},{\"attributes\":{\"css_classes\":[\"markdown\"],\"margin\":[5,5,5,5],\"name\":\"Markdown00169\",\"text\":\"&lt;h1&gt;Population Group&lt;/h1&gt;\"},\"id\":\"1035\",\"type\":\"panel.models.markup.HTML\"},{\"attributes\":{\"margin\":[5,10,5,10],\"name\":\"\",\"text\":\"<b></b>\"},\"id\":\"1041\",\"type\":\"Div\"},{\"attributes\":{\"js_property_callbacks\":{\"change:value\":[{\"id\":\"1047\"}]},\"margin\":[5,10,5,10],\"options\":[[\"O. barthii\",\"O. barthii\"],[\"O. glaberrima\",\"O. glaberrima\"]],\"title\":\"Species\",\"value\":\"O. barthii\"},\"id\":\"1042\",\"type\":\"Select\"},{\"attributes\":{\"children\":[{\"id\":\"1039\"}],\"margin\":[0,0,0,0],\"name\":\"Row00157\"},\"id\":\"1038\",\"type\":\"Row\"},{\"attributes\":{\"background\":\"WhiteSmoke\",\"children\":[{\"id\":\"1035\"},{\"id\":\"1036\"},{\"id\":\"1040\"},{\"id\":\"1043\"}],\"css_classes\":[\"scrollable\"],\"margin\":[0,0,0,0],\"name\":\"Column00177\",\"sizing_mode\":\"stretch_both\",\"tags\":[\"embedded\"]},\"id\":\"1034\",\"type\":\"Column\"},{\"attributes\":{\"children\":[{\"id\":\"1044\"}],\"css_classes\":[\"scrollable\"],\"height\":400,\"margin\":[0,0,0,0],\"name\":\"Row00168\",\"sizing_mode\":\"fixed\",\"width\":800},\"id\":\"1043\",\"type\":\"Row\"},{\"attributes\":{\"children\":[{\"id\":\"1045\"}],\"margin\":[0,0,0,0],\"name\":\"Row00165\"},\"id\":\"1044\",\"type\":\"Row\"},{\"attributes\":{\"children\":[{\"id\":\"1037\"},{\"id\":\"1038\"}],\"margin\":[0,0,0,0],\"name\":\"Row00160\"},\"id\":\"1036\",\"type\":\"Row\"}],\"root_ids\":[\"1034\",\"1046\"]},\"title\":\"Bokeh Application\",\"version\":\"2.3.3\"}};\n",
       "    var render_items = [{\"docid\":\"3ba5a2f9-ae5e-49aa-8efd-71a384738773\",\"root_ids\":[\"1034\"],\"roots\":{\"1034\":\"13ad509c-f727-4fe4-b318-b86533dac277\"}}];\n",
       "    root.Bokeh.embed.embed_items_notebook(docs_json, render_items);\n",
       "  }\n",
       "  if (root.Bokeh !== undefined && root.Bokeh.Panel !== undefined) {\n",
       "    embed_document(root);\n",
       "  } else {\n",
       "    var attempts = 0;\n",
       "    var timer = setInterval(function(root) {\n",
       "      if (root.Bokeh !== undefined && root.Bokeh.Panel !== undefined) {\n",
       "        clearInterval(timer);\n",
       "        embed_document(root);\n",
       "      } else if (document.readyState == \"complete\") {\n",
       "        attempts++;\n",
       "        if (attempts > 100) {\n",
       "          clearInterval(timer);\n",
       "          console.log(\"Bokeh: ERROR: Unable to run BokehJS code because BokehJS library is missing\");\n",
       "        }\n",
       "      }\n",
       "    }, 10, root)\n",
       "  }\n",
       "})(window);</script>"
      ]
     },
     "metadata": {
      "application/vnd.holoviews_exec.v0+json": {
       "id": "1034"
      }
     },
     "output_type": "display_data"
    },
    {
     "data": {
      "text/html": [
       "<img src onerror=\"var cell = this.closest('.jp-CodeCell');var editor = cell.querySelector('.jp-Editor');editor.style.background='LightBlue';this.parentNode.removeChild(this)\">"
      ],
      "text/plain": [
       "<IPython.core.display.HTML object>"
      ]
     },
     "metadata": {},
     "output_type": "display_data"
    }
   ],
   "source": [
    "# Reading group file\n",
    "id_dict, df_group = read_group_file(group_file,logger)\n",
    "# Group file dashboard\n",
    "dashboard_group(df_group)\n",
    "bgc('LightBlue')"
   ]
  },
  {
   "cell_type": "markdown",
   "metadata": {},
   "source": [
    "***\n",
    "\n",
    "[<img src=\"Images/up-arrow.png\" alt=\"Top\" width=2% align=\"right\">](#home \"Go back to the top\")\n",
    "\n",
    "\n",
    "# <span style=\"color: #3987C4;\">III - frangiPANe Workflow <a class=\"anchor\" id=\"workflow\"></a></span>\n",
    "\n",
    "<img src=\"Images/approachMapThenAssembly.jpg\" width=60%>\n",
    "\n"
   ]
  },
  {
   "cell_type": "markdown",
   "metadata": {},
   "source": [
    "Only fastq files corresponding to samples described in the group file (contained in fastq directory) will be used in this workflow.\n",
    "\n",
    "Fastq naming convention: \n",
    "* sample_code_1.fastq, sample_code_R1.fastq\n",
    "* sample_code_1.fq, sample_code_R1.fq\n",
    "* sample_code_2.fastq, sample_code_R2.fastq\n",
    "* sample_code_2.fq, sample_code_R2.fq\n",
    "\n",
    "with sample_code read from the group file (1st column)"
   ]
  },
  {
   "cell_type": "markdown",
   "metadata": {
    "tags": []
   },
   "source": [
    "### <span style=\"color: #919395\"> _1 - Stats about raw data (fastq files)_\n",
    "\n",
    "#### __Generating fastq statistics with `fastq_stats`__"
   ]
  },
  {
   "cell_type": "markdown",
   "metadata": {},
   "source": [
    "After this stat analysis, several files have been created and saved into 00_fastq_stats directory :\n",
    "* one file (fastq-stat) by fastq file\n",
    "* one file with all stats : all_fastq-stats.csv\n",
    "\n",
    "```\n",
    "TODO : \n",
    "* Message si pas de fastq <-> group\n",
    "* Bilan nb fastq, nb group, nb match et si pairé\n",
    "* tester si fastq corrumpu avec eeautils\n",
    "* tester si etape a deja tournée correctement\n",
    "```"
   ]
  },
  {
   "cell_type": "code",
   "execution_count": 6,
   "metadata": {},
   "outputs": [
    {
     "data": {
      "text/html": [
       "<img src onerror=\"var cell = this.closest('.jp-CodeCell');var editor = cell.querySelector('.jp-Editor');editor.style.background='LightBlue';this.parentNode.removeChild(this)\">"
      ],
      "text/plain": [
       "<IPython.core.display.HTML object>"
      ]
     },
     "metadata": {},
     "output_type": "display_data"
    },
    {
     "data": {},
     "metadata": {},
     "output_type": "display_data"
    },
    {
     "data": {
      "application/vnd.holoviews_exec.v0+json": "",
      "text/html": [
       "<div id='1050'>\n",
       "\n",
       "\n",
       "\n",
       "\n",
       "\n",
       "  <div class=\"bk-root\" id=\"e50dad73-ef2c-4c89-ae14-7feb9eae77fc\" data-root-id=\"1050\"></div>\n",
       "</div>\n",
       "<script type=\"application/javascript\">(function(root) {\n",
       "  function embed_document(root) {\n",
       "    var docs_json = {\"54b00f27-3396-494f-b070-6aee358733b3\":{\"defs\":[],\"roots\":{\"references\":[{\"attributes\":{\"css_classes\":[\"markdown\"],\"margin\":[5,5,5,5],\"name\":\"Markdown00182\",\"text\":\"&lt;table&gt;\\n&lt;thead&gt;\\n&lt;tr&gt;\\n&lt;th align=&quot;left&quot;&gt;Pb sequenced by groups&lt;/th&gt;\\n&lt;th align=&quot;center&quot;&gt;&lt;/th&gt;\\n&lt;/tr&gt;\\n&lt;/thead&gt;\\n&lt;tbody&gt;\\n&lt;tr&gt;\\n&lt;td align=&quot;left&quot;&gt;O. barthii :&lt;/td&gt;\\n&lt;td align=&quot;center&quot;&gt;3182 Mb&lt;/td&gt;\\n&lt;/tr&gt;\\n&lt;/tbody&gt;\\n&lt;/table&gt;\"},\"id\":\"1054\",\"type\":\"panel.models.markup.HTML\"},{\"attributes\":{\"css_classes\":[\"markdown\"],\"margin\":[5,5,5,5],\"name\":\"Markdown00192\",\"text\":\"&lt;h3&gt;About Sequencing coverage&lt;/h3&gt;\\n&lt;ul&gt;\\n&lt;li&gt;x : 4 - 4 &lt;/li&gt;\\n&lt;li&gt;mean x : 4 &lt;/li&gt;\\n&lt;/ul&gt;\"},\"id\":\"1056\",\"type\":\"panel.models.markup.HTML\"},{\"attributes\":{\"client_comm_id\":\"d04a3aeec6074745b87751e58841190c\",\"comm_id\":\"a4f0914d462748c5b34b2c406dc77692\",\"plot_id\":\"1050\"},\"id\":\"1065\",\"type\":\"panel.models.comm_manager.CommManager\"},{\"attributes\":{\"css_classes\":[\"markdown\"],\"margin\":[5,5,5,5],\"name\":\"Markdown00186\",\"text\":\"&lt;h1&gt;Some statistics about fastq files&lt;/h1&gt;\"},\"id\":\"1051\",\"type\":\"panel.models.markup.HTML\"},{\"attributes\":{\"height\":288,\"margin\":[5,5,5,5],\"name\":\"Matplotlib00194\",\"text\":\"&lt;img src=&quot;data:image/png;base64,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&quot; width=&quot;432px&quot; height=&quot;288px&quot; alt=&quot;&quot;&gt;&lt;/img&gt;\",\"width\":432},\"id\":\"1057\",\"type\":\"panel.models.markup.HTML\"},{\"attributes\":{\"css_classes\":[\"markdown\"],\"margin\":[5,5,5,5],\"name\":\"Markdown00180\",\"text\":\"&lt;table&gt;\\n&lt;thead&gt;\\n&lt;tr&gt;\\n&lt;th align=&quot;left&quot;&gt;Samples by group&lt;/th&gt;\\n&lt;th align=&quot;center&quot;&gt;&lt;/th&gt;\\n&lt;/tr&gt;\\n&lt;/thead&gt;\\n&lt;tbody&gt;\\n&lt;tr&gt;\\n&lt;td align=&quot;left&quot;&gt;O. barthii :&lt;/td&gt;\\n&lt;td align=&quot;center&quot;&gt;2 samples&lt;/td&gt;\\n&lt;/tr&gt;\\n&lt;/tbody&gt;\\n&lt;/table&gt;\"},\"id\":\"1053\",\"type\":\"panel.models.markup.HTML\"},{\"attributes\":{\"height\":288,\"margin\":[5,5,5,5],\"name\":\"Matplotlib00198\",\"text\":\"&lt;img src=&quot;data:image/png;base64,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&quot; width=&quot;432px&quot; height=&quot;288px&quot; alt=&quot;&quot;&gt;&lt;/img&gt;\",\"width\":432},\"id\":\"1059\",\"type\":\"panel.models.markup.HTML\"},{\"attributes\":{\"height\":288,\"margin\":[5,5,5,5],\"name\":\"Matplotlib00206\",\"text\":\"&lt;img src=&quot;data:image/png;base64,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&quot; width=&quot;432px&quot; height=&quot;288px&quot; alt=&quot;&quot;&gt;&lt;/img&gt;\",\"width\":432},\"id\":\"1063\",\"type\":\"panel.models.markup.HTML\"},{\"attributes\":{\"css_classes\":[\"markdown\"],\"margin\":[5,5,5,5],\"name\":\"Markdown00204\",\"text\":\"&lt;h3&gt;About base ratio :&lt;/h3&gt;\"},\"id\":\"1062\",\"type\":\"panel.models.markup.HTML\"},{\"attributes\":{\"css_classes\":[\"markdown\"],\"margin\":[5,5,5,5],\"name\":\"Markdown00200\",\"text\":\"&lt;h3&gt;About sequencing quality&lt;/h3&gt;\\n&lt;ul&gt;\\n&lt;li&gt;Quality: 2 - 41&lt;/li&gt;\\n&lt;li&gt;Mean quality : 37.4&lt;/li&gt;\\n&lt;/ul&gt;\"},\"id\":\"1060\",\"type\":\"panel.models.markup.HTML\"},{\"attributes\":{\"height\":288,\"margin\":[5,5,5,5],\"name\":\"Matplotlib00202\",\"text\":\"&lt;img src=&quot;data:image/png;base64,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&quot; width=&quot;432px&quot; height=&quot;288px&quot; alt=&quot;&quot;&gt;&lt;/img&gt;\",\"width\":432},\"id\":\"1061\",\"type\":\"panel.models.markup.HTML\"},{\"attributes\":{\"css_classes\":[\"markdown\"],\"margin\":[5,5,5,5],\"name\":\"Markdown00188\",\"text\":\"&lt;h3&gt;About population&lt;/h3&gt;\\n&lt;ul&gt;\\n&lt;li&gt;2 samples&lt;/li&gt;\\n&lt;li&gt;Total base sequenced : 3182 Mb&lt;/li&gt;\\n&lt;/ul&gt;\"},\"id\":\"1052\",\"type\":\"panel.models.markup.HTML\"},{\"attributes\":{\"background\":\"WhiteSmoke\",\"children\":[{\"id\":\"1051\"},{\"id\":\"1052\"},{\"id\":\"1053\"},{\"id\":\"1054\"},{\"id\":\"1055\"},{\"id\":\"1056\"},{\"id\":\"1057\"},{\"id\":\"1058\"},{\"id\":\"1059\"},{\"id\":\"1060\"},{\"id\":\"1061\"},{\"id\":\"1062\"},{\"id\":\"1063\"},{\"id\":\"1064\"}],\"margin\":[0,0,0,0],\"name\":\"Column00208\",\"sizing_mode\":\"stretch_both\",\"width\":800},\"id\":\"1050\",\"type\":\"Column\"},{\"attributes\":{\"margin\":[5,5,5,5],\"name\":\"DataFrame00184\",\"text\":\"&lt;table border=&quot;0&quot; class=&quot;dataframe panel-df&quot;&gt;\\n  &lt;thead&gt;\\n    &lt;tr style=&quot;text-align: right;&quot;&gt;\\n      &lt;th&gt;&lt;/th&gt;\\n      &lt;th&gt;sample&lt;/th&gt;\\n      &lt;th&gt;file&lt;/th&gt;\\n      &lt;th&gt;reads&lt;/th&gt;\\n      &lt;th&gt;len_mean&lt;/th&gt;\\n      &lt;th&gt;qual_mean&lt;/th&gt;\\n      &lt;th&gt;%A&lt;/th&gt;\\n      &lt;th&gt;%C&lt;/th&gt;\\n      &lt;th&gt;%G&lt;/th&gt;\\n      &lt;th&gt;%T&lt;/th&gt;\\n      &lt;th&gt;%N&lt;/th&gt;\\n      &lt;th&gt;total_bases&lt;/th&gt;\\n    &lt;/tr&gt;\\n  &lt;/thead&gt;\\n  &lt;tbody&gt;\\n    &lt;tr&gt;\\n      &lt;th&gt;0&lt;/th&gt;\\n      &lt;td&gt;AA&lt;/td&gt;\\n      &lt;td&gt;AA_1&lt;/td&gt;\\n      &lt;td&gt;7626555&lt;/td&gt;\\n      &lt;td&gt;99.3717&lt;/td&gt;\\n      &lt;td&gt;37.5410&lt;/td&gt;\\n      &lt;td&gt;29.7800&lt;/td&gt;\\n      &lt;td&gt;20.2682&lt;/td&gt;\\n      &lt;td&gt;20.2388&lt;/td&gt;\\n      &lt;td&gt;29.7128&lt;/td&gt;\\n      &lt;td&gt;0.0002&lt;/td&gt;\\n      &lt;td&gt;757863950&lt;/td&gt;\\n    &lt;/tr&gt;\\n    &lt;tr&gt;\\n      &lt;th&gt;1&lt;/th&gt;\\n      &lt;td&gt;AA&lt;/td&gt;\\n      &lt;td&gt;AA_2&lt;/td&gt;\\n      &lt;td&gt;7626555&lt;/td&gt;\\n      &lt;td&gt;97.8972&lt;/td&gt;\\n      &lt;td&gt;36.9710&lt;/td&gt;\\n      &lt;td&gt;29.7820&lt;/td&gt;\\n      &lt;td&gt;20.3202&lt;/td&gt;\\n      &lt;td&gt;20.2055&lt;/td&gt;\\n      &lt;td&gt;29.6910&lt;/td&gt;\\n      &lt;td&gt;0.0013&lt;/td&gt;\\n      &lt;td&gt;746618183&lt;/td&gt;\\n    &lt;/tr&gt;\\n    &lt;tr&gt;\\n      &lt;th&gt;2&lt;/th&gt;\\n      &lt;td&gt;AB&lt;/td&gt;\\n      &lt;td&gt;AB_1&lt;/td&gt;\\n      &lt;td&gt;8479259&lt;/td&gt;\\n      &lt;td&gt;99.7522&lt;/td&gt;\\n      &lt;td&gt;37.8390&lt;/td&gt;\\n      &lt;td&gt;29.8922&lt;/td&gt;\\n      &lt;td&gt;20.0937&lt;/td&gt;\\n      &lt;td&gt;20.1187&lt;/td&gt;\\n      &lt;td&gt;29.8911&lt;/td&gt;\\n      &lt;td&gt;0.0044&lt;/td&gt;\\n      &lt;td&gt;845824647&lt;/td&gt;\\n    &lt;/tr&gt;\\n    &lt;tr&gt;\\n      &lt;th&gt;3&lt;/th&gt;\\n      &lt;td&gt;AB&lt;/td&gt;\\n      &lt;td&gt;AB_2&lt;/td&gt;\\n      &lt;td&gt;8479259&lt;/td&gt;\\n      &lt;td&gt;98.1218&lt;/td&gt;\\n      &lt;td&gt;37.2392&lt;/td&gt;\\n      &lt;td&gt;29.9399&lt;/td&gt;\\n      &lt;td&gt;20.1444&lt;/td&gt;\\n      &lt;td&gt;20.0807&lt;/td&gt;\\n      &lt;td&gt;29.8344&lt;/td&gt;\\n      &lt;td&gt;0.0007&lt;/td&gt;\\n      &lt;td&gt;832000316&lt;/td&gt;\\n    &lt;/tr&gt;\\n  &lt;/tbody&gt;\\n&lt;/table&gt;\",\"width\":800},\"id\":\"1064\",\"type\":\"panel.models.markup.HTML\"},{\"attributes\":{\"height\":288,\"margin\":[5,5,5,5],\"name\":\"Matplotlib00190\",\"text\":\"&lt;img src=&quot;data:image/png;base64,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&quot; width=&quot;432px&quot; height=&quot;288px&quot; alt=&quot;&quot;&gt;&lt;/img&gt;\",\"width\":432},\"id\":\"1055\",\"type\":\"panel.models.markup.HTML\"},{\"attributes\":{\"css_classes\":[\"markdown\"],\"margin\":[5,5,5,5],\"name\":\"Markdown00196\",\"text\":\"&lt;h3&gt;About read length&lt;/h3&gt;\\n&lt;ul&gt;\\n&lt;li&gt;Length read: 30 - 101&lt;/li&gt;\\n&lt;li&gt;Mean length read : 98.79&lt;/li&gt;\\n&lt;/ul&gt;\"},\"id\":\"1058\",\"type\":\"panel.models.markup.HTML\"}],\"root_ids\":[\"1050\",\"1065\"]},\"title\":\"Bokeh Application\",\"version\":\"2.3.3\"}};\n",
       "    var render_items = [{\"docid\":\"54b00f27-3396-494f-b070-6aee358733b3\",\"root_ids\":[\"1050\"],\"roots\":{\"1050\":\"e50dad73-ef2c-4c89-ae14-7feb9eae77fc\"}}];\n",
       "    root.Bokeh.embed.embed_items_notebook(docs_json, render_items);\n",
       "  }\n",
       "  if (root.Bokeh !== undefined && root.Bokeh.Panel !== undefined) {\n",
       "    embed_document(root);\n",
       "  } else {\n",
       "    var attempts = 0;\n",
       "    var timer = setInterval(function(root) {\n",
       "      if (root.Bokeh !== undefined && root.Bokeh.Panel !== undefined) {\n",
       "        clearInterval(timer);\n",
       "        embed_document(root);\n",
       "      } else if (document.readyState == \"complete\") {\n",
       "        attempts++;\n",
       "        if (attempts > 100) {\n",
       "          clearInterval(timer);\n",
       "          console.log(\"Bokeh: ERROR: Unable to run BokehJS code because BokehJS library is missing\");\n",
       "        }\n",
       "      }\n",
       "    }, 10, root)\n",
       "  }\n",
       "})(window);</script>"
      ],
      "text/plain": [
       "Column(background='WhiteSmoke', sizing_mode='stretch_both', width=800)\n",
       "    [0] Markdown(str)\n",
       "    [1] Markdown(str)\n",
       "    [2] Markdown(str)\n",
       "    [3] Markdown(str)\n",
       "    [4] Matplotlib(Figure)\n",
       "    [5] Markdown(str)\n",
       "    [6] Matplotlib(Figure)\n",
       "    [7] Markdown(str)\n",
       "    [8] Matplotlib(Figure)\n",
       "    [9] Markdown(str)\n",
       "    [10] Matplotlib(Figure)\n",
       "    [11] Markdown(str)\n",
       "    [12] Matplotlib(Figure)\n",
       "    [13] DataFrame(DataFrame, width=800)"
      ]
     },
     "metadata": {
      "application/vnd.holoviews_exec.v0+json": {
       "id": "1050"
      }
     },
     "output_type": "display_data"
    }
   ],
   "source": [
    "bgc('LightBlue')\n",
    "\n",
    "# Creating directory\n",
    "stat_dir = output_dir + \"/00-fastq_stats/\"\n",
    "\n",
    "# run fastq_stats\n",
    "#fastq_stats_dir(fastq_dir.value, stat_dir, df_group, logger)\n",
    "\n",
    "# merging all files generated by fastq_sample\n",
    "fastqstat_csv=stat_dir+\"all_fastq-stats.csv\"\n",
    "merge_fastqstat(fastqstat_csv, stat_dir,logger)\n",
    "\n",
    "#Raw data dashboard\n",
    "dashboard_fastq(fastqstat_csv,total_genome_size,df_group)"
   ]
  },
  {
   "cell_type": "markdown",
   "metadata": {
    "tags": []
   },
   "source": [
    "### <span style=\"color: #919395\">_2 - Mapping the individuals reads against the reference genome_  <a class=\"anchor\" id=\"mapping\"></a></span>\n"
   ]
  },
  {
   "cell_type": "markdown",
   "metadata": {},
   "source": [
    "#### __Mapping with `BWA mem` <a class=\"anchor\" id=\"mappingbwa\">__\n",
    "\n",
    "Options of bwa-mem : \n",
    "* -p : Assume the first input query file is interleaved paired-end FASTQ\n",
    "* -M : Mark shorter split hits as secondary\n",
    "* -t : Number of threads\n",
    "\n",
    "Options of samtools sort : \n",
    "* -@ : Set number of sorting and compression threads\n",
    "* -o : Write the final sorted output to FILE, rather than to standard output"
   ]
  },
  {
   "cell_type": "code",
   "execution_count": null,
   "metadata": {
    "tags": []
   },
   "outputs": [
    {
     "data": {
      "text/html": [
       "<img src onerror=\"var cell = this.closest('.jp-CodeCell');var editor = cell.querySelector('.jp-Editor');editor.style.background='LightBlue';this.parentNode.removeChild(this)\">"
      ],
      "text/plain": [
       "<IPython.core.display.HTML object>"
      ]
     },
     "metadata": {},
     "output_type": "display_data"
    }
   ],
   "source": [
    "bgc('LightBlue')\n",
    "\n",
    "cpu=6\n",
    "output_mapping_dir = output_dir + \"/01-mapping_against_reference/\"\n",
    "fastq2bam_dir(ref_file.value, fastq_dir.value, df_group, cpu, output_mapping_dir, logger)"
   ]
  },
  {
   "cell_type": "markdown",
   "metadata": {},
   "source": [
    "#### __Generating mapping stats <a class=\"anchor\" id=\"mappingstat\">__\n",
    "    \n",
    "Statistics are generated by `samtools flagstat` and they are saved into the directory _01_mapping-against_reference_ and the subdirectory _stat_\n",
    "\n",
    "* One \"flagtstat file\" is generated for each bam file (http://www.htslib.org/doc/samtools-flagstat.html).\n",
    "\n",
    "* _all_flagstat.csv_ file \n",
    "\n",
    "```bash\n",
    "sample MAPPED PAIRED UNMAPPED\n",
    "NL 98.68 94.50 0.59\n",
    "NF 98.16 96.61 0.38\n",
    "...\n",
    "```"
   ]
  },
  {
   "cell_type": "code",
   "execution_count": null,
   "metadata": {},
   "outputs": [
    {
     "data": {
      "text/html": [
       "<img src onerror=\"var cell = this.closest('.jp-CodeCell');var editor = cell.querySelector('.jp-Editor');editor.style.background='LightBlue';this.parentNode.removeChild(this)\">"
      ],
      "text/plain": [
       "<IPython.core.display.HTML object>"
      ]
     },
     "metadata": {},
     "output_type": "display_data"
    },
    {
     "data": {},
     "metadata": {},
     "output_type": "display_data"
    },
    {
     "data": {
      "application/vnd.holoviews_exec.v0+json": "",
      "text/html": [
       "<div id='1068'>\n",
       "\n",
       "\n",
       "\n",
       "\n",
       "\n",
       "  <div class=\"bk-root\" id=\"bbc00c71-6b2e-45be-8dad-910fb933983a\" data-root-id=\"1068\"></div>\n",
       "</div>\n",
       "<script type=\"application/javascript\">(function(root) {\n",
       "  function embed_document(root) {\n",
       "    var docs_json = {\"73fbe57f-2303-44fb-9684-dcfaf63c8f59\":{\"defs\":[],\"roots\":{\"references\":[{\"attributes\":{\"client_comm_id\":\"ea77b59e8cac4d77878fcd2d9cd3ab3a\",\"comm_id\":\"7b1a27cc5db04a609c32dd0f9f349595\",\"plot_id\":\"1068\"},\"id\":\"1069\",\"type\":\"panel.models.comm_manager.CommManager\"},{\"attributes\":{\"css_classes\":[\"alert\",\"alert-warning\",\"markdown\"],\"margin\":[0,0,25,0],\"name\":\"Alert00214\",\"sizing_mode\":\"stretch_width\",\"text\":\"&lt;h3&gt;warning&lt;/h3&gt;\\n&lt;hr&gt;\\n&lt;p&gt;Directory /home/christine/Documents/These/frangiPANeGIT/frangiPANe_rice/01-mapping_against_reference//stat/ already existed&lt;/p&gt;\"},\"id\":\"1068\",\"type\":\"panel.models.markup.HTML\"}],\"root_ids\":[\"1068\",\"1069\"]},\"title\":\"Bokeh Application\",\"version\":\"2.3.3\"}};\n",
       "    var render_items = [{\"docid\":\"73fbe57f-2303-44fb-9684-dcfaf63c8f59\",\"root_ids\":[\"1068\"],\"roots\":{\"1068\":\"bbc00c71-6b2e-45be-8dad-910fb933983a\"}}];\n",
       "    root.Bokeh.embed.embed_items_notebook(docs_json, render_items);\n",
       "  }\n",
       "  if (root.Bokeh !== undefined && root.Bokeh.Panel !== undefined) {\n",
       "    embed_document(root);\n",
       "  } else {\n",
       "    var attempts = 0;\n",
       "    var timer = setInterval(function(root) {\n",
       "      if (root.Bokeh !== undefined && root.Bokeh.Panel !== undefined) {\n",
       "        clearInterval(timer);\n",
       "        embed_document(root);\n",
       "      } else if (document.readyState == \"complete\") {\n",
       "        attempts++;\n",
       "        if (attempts > 100) {\n",
       "          clearInterval(timer);\n",
       "          console.log(\"Bokeh: ERROR: Unable to run BokehJS code because BokehJS library is missing\");\n",
       "        }\n",
       "      }\n",
       "    }, 10, root)\n",
       "  }\n",
       "})(window);</script>"
      ],
      "text/plain": [
       "Alert(str, alert_type='warning', css_classes=['alert', 'alert-warning']...], margin=(0, 0, 25, 0), sizing_mode='stretch_width')"
      ]
     },
     "metadata": {
      "application/vnd.holoviews_exec.v0+json": {
       "id": "1068"
      }
     },
     "output_type": "display_data"
    },
    {
     "data": {},
     "metadata": {},
     "output_type": "display_data"
    },
    {
     "data": {
      "application/vnd.holoviews_exec.v0+json": "",
      "text/html": [
       "<div id='1070'>\n",
       "\n",
       "\n",
       "\n",
       "\n",
       "\n",
       "  <div class=\"bk-root\" id=\"085c366b-a274-40d9-8e1f-cb53a0bce0fe\" data-root-id=\"1070\"></div>\n",
       "</div>\n",
       "<script type=\"application/javascript\">(function(root) {\n",
       "  function embed_document(root) {\n",
       "    var docs_json = {\"a35d34d0-ba1a-4054-aa5a-bb1b95b3d1fe\":{\"defs\":[],\"roots\":{\"references\":[{\"attributes\":{\"client_comm_id\":\"c293dc9ff44b44d793e0604901862c2e\",\"comm_id\":\"73cf32968eda4ee2b8331df78e82421b\",\"plot_id\":\"1070\"},\"id\":\"1071\",\"type\":\"panel.models.comm_manager.CommManager\"},{\"attributes\":{\"css_classes\":[\"alert\",\"alert-secondary\",\"markdown\"],\"margin\":[0,0,25,0],\"name\":\"Alert00218\",\"sizing_mode\":\"stretch_width\",\"text\":\"&lt;p&gt;Compiling mapping stat into an unique file&amp;hellip;&lt;/p&gt;\"},\"id\":\"1070\",\"type\":\"panel.models.markup.HTML\"}],\"root_ids\":[\"1070\",\"1071\"]},\"title\":\"Bokeh Application\",\"version\":\"2.3.3\"}};\n",
       "    var render_items = [{\"docid\":\"a35d34d0-ba1a-4054-aa5a-bb1b95b3d1fe\",\"root_ids\":[\"1070\"],\"roots\":{\"1070\":\"085c366b-a274-40d9-8e1f-cb53a0bce0fe\"}}];\n",
       "    root.Bokeh.embed.embed_items_notebook(docs_json, render_items);\n",
       "  }\n",
       "  if (root.Bokeh !== undefined && root.Bokeh.Panel !== undefined) {\n",
       "    embed_document(root);\n",
       "  } else {\n",
       "    var attempts = 0;\n",
       "    var timer = setInterval(function(root) {\n",
       "      if (root.Bokeh !== undefined && root.Bokeh.Panel !== undefined) {\n",
       "        clearInterval(timer);\n",
       "        embed_document(root);\n",
       "      } else if (document.readyState == \"complete\") {\n",
       "        attempts++;\n",
       "        if (attempts > 100) {\n",
       "          clearInterval(timer);\n",
       "          console.log(\"Bokeh: ERROR: Unable to run BokehJS code because BokehJS library is missing\");\n",
       "        }\n",
       "      }\n",
       "    }, 10, root)\n",
       "  }\n",
       "})(window);</script>"
      ],
      "text/plain": [
       "Alert(str, alert_type='secondary', css_classes=['alert', 'alert-secondary...], margin=(0, 0, 25, 0), sizing_mode='stretch_width')"
      ]
     },
     "metadata": {
      "application/vnd.holoviews_exec.v0+json": {
       "id": "1070"
      }
     },
     "output_type": "display_data"
    },
    {
     "data": {},
     "metadata": {},
     "output_type": "display_data"
    },
    {
     "data": {
      "application/vnd.holoviews_exec.v0+json": "",
      "text/html": [
       "<div id='1072'>\n",
       "\n",
       "\n",
       "\n",
       "\n",
       "\n",
       "  <div class=\"bk-root\" id=\"37ecbaca-cafb-446a-b64c-0bd3d26e3b90\" data-root-id=\"1072\"></div>\n",
       "</div>\n",
       "<script type=\"application/javascript\">(function(root) {\n",
       "  function embed_document(root) {\n",
       "    var docs_json = {\"2c0526b9-d71e-4c9b-8931-00706080e4e6\":{\"defs\":[],\"roots\":{\"references\":[{\"attributes\":{\"css_classes\":[\"alert\",\"alert-success\",\"markdown\"],\"margin\":[0,0,25,0],\"name\":\"Alert00222\",\"sizing_mode\":\"stretch_width\",\"text\":\"&lt;p&gt;Compiling successfully done. See /home/christine/Documents/These/frangiPANeGIT/frangiPANe_rice/01-mapping_against_reference//stat/all_flagstat.csv&lt;/p&gt;\"},\"id\":\"1072\",\"type\":\"panel.models.markup.HTML\"},{\"attributes\":{\"client_comm_id\":\"c339eb3ace4f42a1832c102f8a4233c8\",\"comm_id\":\"08e98f5af1c4429d893a57fe56206380\",\"plot_id\":\"1072\"},\"id\":\"1073\",\"type\":\"panel.models.comm_manager.CommManager\"}],\"root_ids\":[\"1072\",\"1073\"]},\"title\":\"Bokeh Application\",\"version\":\"2.3.3\"}};\n",
       "    var render_items = [{\"docid\":\"2c0526b9-d71e-4c9b-8931-00706080e4e6\",\"root_ids\":[\"1072\"],\"roots\":{\"1072\":\"37ecbaca-cafb-446a-b64c-0bd3d26e3b90\"}}];\n",
       "    root.Bokeh.embed.embed_items_notebook(docs_json, render_items);\n",
       "  }\n",
       "  if (root.Bokeh !== undefined && root.Bokeh.Panel !== undefined) {\n",
       "    embed_document(root);\n",
       "  } else {\n",
       "    var attempts = 0;\n",
       "    var timer = setInterval(function(root) {\n",
       "      if (root.Bokeh !== undefined && root.Bokeh.Panel !== undefined) {\n",
       "        clearInterval(timer);\n",
       "        embed_document(root);\n",
       "      } else if (document.readyState == \"complete\") {\n",
       "        attempts++;\n",
       "        if (attempts > 100) {\n",
       "          clearInterval(timer);\n",
       "          console.log(\"Bokeh: ERROR: Unable to run BokehJS code because BokehJS library is missing\");\n",
       "        }\n",
       "      }\n",
       "    }, 10, root)\n",
       "  }\n",
       "})(window);</script>"
      ],
      "text/plain": [
       "Alert(str, alert_type='success', css_classes=['alert', 'alert-success']...], margin=(0, 0, 25, 0), sizing_mode='stretch_width')"
      ]
     },
     "metadata": {
      "application/vnd.holoviews_exec.v0+json": {
       "id": "1072"
      }
     },
     "output_type": "display_data"
    }
   ],
   "source": [
    "bgc('LightBlue')\n",
    "\n",
    "stat_dir = output_mapping_dir + \"/stat/\"\n",
    "make_dir(stat_dir)\n",
    "\n",
    "logger.info(f\"MAPPING STAT :\")\n",
    "logger.info(f\"\\t\\tMapping stat directory : {stat_dir}\")\n",
    "\n",
    "for file_name in os.listdir(output_mapping_dir):\n",
    "    if \".bam\" in file_name:\n",
    "        samtools_flagstat(os.path.join(output_mapping_dir,file_name), stat_dir,logger)\n",
    "\n",
    "#### __Compiling stats into a unique tabulated file__\n",
    "merge_flagstat(output_dir=stat_dir, logger=logger)"
   ]
  },
  {
   "cell_type": "markdown",
   "metadata": {},
   "source": [
    "#### __Mapping dashboard__"
   ]
  },
  {
   "cell_type": "code",
   "execution_count": 7,
   "metadata": {},
   "outputs": [
    {
     "data": {
      "text/html": [
       "<img src onerror=\"var cell = this.closest('.jp-CodeCell');var editor = cell.querySelector('.jp-Editor');editor.style.background='LightBlue';this.parentNode.removeChild(this)\">"
      ],
      "text/plain": [
       "<IPython.core.display.HTML object>"
      ]
     },
     "metadata": {},
     "output_type": "display_data"
    },
    {
     "data": {},
     "metadata": {},
     "output_type": "display_data"
    },
    {
     "data": {
      "application/vnd.holoviews_exec.v0+json": "",
      "text/html": [
       "<div id='1066'>\n",
       "\n",
       "\n",
       "\n",
       "\n",
       "\n",
       "  <div class=\"bk-root\" id=\"0e2e01e9-4b23-4bc0-b57a-3a1656f92e03\" data-root-id=\"1066\"></div>\n",
       "</div>\n",
       "<script type=\"application/javascript\">(function(root) {\n",
       "  function embed_document(root) {\n",
       "    var docs_json = {\"39d5f1ce-164a-4898-b84e-d9b9c04c9c99\":{\"defs\":[],\"roots\":{\"references\":[{\"attributes\":{\"css_classes\":[\"markdown\"],\"margin\":[5,5,5,5],\"name\":\"Markdown00242\",\"text\":\"&lt;p&gt;&lt;br /&gt;&lt;hr&gt;&lt;br /&gt;&lt;/p&gt;\\n&lt;h3&gt;Reads unmapped&lt;/h3&gt;\"},\"id\":\"1077\",\"type\":\"panel.models.markup.HTML\"},{\"attributes\":{\"css_classes\":[\"markdown\"],\"margin\":[5,5,5,5],\"name\":\"Markdown00227\",\"text\":\"&lt;p&gt;&lt;br /&gt;&lt;/p&gt;\\n&lt;ul&gt;\\n&lt;li&gt;min - max : 2.51 - 3.07 %&lt;/li&gt;\\n&lt;li&gt;mean : 2.79&lt;/li&gt;\\n&lt;/ul&gt;\"},\"id\":\"1079\",\"type\":\"panel.models.markup.HTML\"},{\"attributes\":{\"background\":\"WhiteSmoke\",\"children\":[{\"id\":\"1067\"},{\"id\":\"1068\"},{\"id\":\"1069\"},{\"id\":\"1070\"},{\"id\":\"1073\"},{\"id\":\"1074\"},{\"id\":\"1077\"},{\"id\":\"1078\"},{\"id\":\"1081\"},{\"id\":\"1082\"},{\"id\":\"1085\"}],\"margin\":[0,0,0,0],\"name\":\"Column00246\",\"sizing_mode\":\"stretch_both\",\"width\":800},\"id\":\"1066\",\"type\":\"Column\"},{\"attributes\":{\"children\":[{\"id\":\"1075\"},{\"id\":\"1076\"}],\"margin\":[0,0,0,0],\"name\":\"Row00224\"},\"id\":\"1074\",\"type\":\"Row\"},{\"attributes\":{\"margin\":[5,5,5,5],\"name\":\"DataFrame00215\",\"text\":\"&lt;table border=&quot;0&quot; class=&quot;dataframe panel-df&quot;&gt;\\n  &lt;thead&gt;\\n    &lt;tr&gt;\\n      &lt;th&gt;&lt;/th&gt;\\n      &lt;th colspan=&quot;3&quot; halign=&quot;left&quot;&gt;MAPPED&lt;/th&gt;\\n    &lt;/tr&gt;\\n    &lt;tr&gt;\\n      &lt;th&gt;&lt;/th&gt;\\n      &lt;th&gt;mean&lt;/th&gt;\\n      &lt;th&gt;min&lt;/th&gt;\\n      &lt;th&gt;max&lt;/th&gt;\\n    &lt;/tr&gt;\\n    &lt;tr&gt;\\n      &lt;th&gt;Species&lt;/th&gt;\\n      &lt;th&gt;&lt;/th&gt;\\n      &lt;th&gt;&lt;/th&gt;\\n      &lt;th&gt;&lt;/th&gt;\\n    &lt;/tr&gt;\\n  &lt;/thead&gt;\\n  &lt;tbody&gt;\\n    &lt;tr&gt;\\n      &lt;th&gt;O. barthii&lt;/th&gt;\\n      &lt;td&gt;93.295&lt;/td&gt;\\n      &lt;td&gt;92.69&lt;/td&gt;\\n      &lt;td&gt;93.9&lt;/td&gt;\\n    &lt;/tr&gt;\\n  &lt;/tbody&gt;\\n&lt;/table&gt;\",\"width\":400},\"id\":\"1072\",\"type\":\"panel.models.markup.HTML\"},{\"attributes\":{\"css_classes\":[\"markdown\"],\"margin\":[5,5,5,5],\"name\":\"Markdown00238\",\"text\":\"&lt;p&gt;&lt;br /&gt;&lt;hr&gt;&lt;br /&gt;&lt;/p&gt;\\n&lt;h3&gt;Reads mapped&lt;/h3&gt;\"},\"id\":\"1069\",\"type\":\"panel.models.markup.HTML\"},{\"attributes\":{\"children\":[{\"id\":\"1086\"}],\"margin\":[0,0,0,0],\"max_height\":400,\"min_width\":400,\"name\":\"Row00235\",\"width\":400},\"id\":\"1085\",\"type\":\"Row\"},{\"attributes\":{\"css_classes\":[\"markdown\"],\"margin\":[5,5,5,5],\"name\":\"Markdown00217\",\"text\":\"&lt;p&gt;&lt;br /&gt;&lt;/p&gt;\\n&lt;ul&gt;\\n&lt;li&gt;min - max : 92.69 - 93.9 %&lt;/li&gt;\\n&lt;li&gt;mean : 93.3&lt;/li&gt;\\n&lt;/ul&gt;\"},\"id\":\"1071\",\"type\":\"panel.models.markup.HTML\"},{\"attributes\":{\"margin\":[5,5,5,5],\"name\":\"DataFrame00225\",\"text\":\"&lt;table border=&quot;0&quot; class=&quot;dataframe panel-df&quot;&gt;\\n  &lt;thead&gt;\\n    &lt;tr&gt;\\n      &lt;th&gt;&lt;/th&gt;\\n      &lt;th colspan=&quot;3&quot; halign=&quot;left&quot;&gt;UNMAPPED&lt;/th&gt;\\n    &lt;/tr&gt;\\n    &lt;tr&gt;\\n      &lt;th&gt;&lt;/th&gt;\\n      &lt;th&gt;mean&lt;/th&gt;\\n      &lt;th&gt;min&lt;/th&gt;\\n      &lt;th&gt;max&lt;/th&gt;\\n    &lt;/tr&gt;\\n    &lt;tr&gt;\\n      &lt;th&gt;Species&lt;/th&gt;\\n      &lt;th&gt;&lt;/th&gt;\\n      &lt;th&gt;&lt;/th&gt;\\n      &lt;th&gt;&lt;/th&gt;\\n    &lt;/tr&gt;\\n  &lt;/thead&gt;\\n  &lt;tbody&gt;\\n    &lt;tr&gt;\\n      &lt;th&gt;O. barthii&lt;/th&gt;\\n      &lt;td&gt;2.79&lt;/td&gt;\\n      &lt;td&gt;2.51&lt;/td&gt;\\n      &lt;td&gt;3.07&lt;/td&gt;\\n    &lt;/tr&gt;\\n  &lt;/tbody&gt;\\n&lt;/table&gt;\",\"width\":400},\"id\":\"1080\",\"type\":\"panel.models.markup.HTML\"},{\"attributes\":{\"children\":[{\"id\":\"1079\"},{\"id\":\"1080\"}],\"margin\":[0,0,0,0],\"name\":\"Row00229\"},\"id\":\"1078\",\"type\":\"Row\"},{\"attributes\":{\"css_classes\":[\"markdown\"],\"margin\":[5,5,5,5],\"name\":\"Markdown00213\",\"text\":\"&lt;table&gt;\\n&lt;thead&gt;\\n&lt;tr&gt;\\n&lt;th align=&quot;left&quot;&gt;Samples by group&lt;/th&gt;\\n&lt;th align=&quot;center&quot;&gt;&lt;/th&gt;\\n&lt;/tr&gt;\\n&lt;/thead&gt;\\n&lt;tbody&gt;\\n&lt;tr&gt;\\n&lt;td align=&quot;left&quot;&gt;O. barthii :&lt;/td&gt;\\n&lt;td align=&quot;center&quot;&gt;2 samples&lt;/td&gt;\\n&lt;/tr&gt;\\n&lt;/tbody&gt;\\n&lt;/table&gt;\"},\"id\":\"1068\",\"type\":\"panel.models.markup.HTML\"},{\"attributes\":{\"children\":[{\"id\":\"1071\"},{\"id\":\"1072\"}],\"margin\":[0,0,0,0],\"name\":\"Row00219\"},\"id\":\"1070\",\"type\":\"Row\"},{\"attributes\":{\"css_classes\":[\"markdown\"],\"margin\":[5,5,5,5],\"name\":\"Markdown00236\",\"text\":\"&lt;h1&gt;Some statistics about mapping step&lt;/h1&gt;\"},\"id\":\"1067\",\"type\":\"panel.models.markup.HTML\"},{\"attributes\":{\"css_classes\":[\"markdown\"],\"margin\":[5,5,5,5],\"name\":\"Markdown00240\",\"text\":\"&lt;p&gt;&lt;br /&gt;&lt;hr&gt;&lt;br /&gt;&lt;/p&gt;\\n&lt;h3&gt;Reads mapped properly paired&lt;/h3&gt;\"},\"id\":\"1073\",\"type\":\"panel.models.markup.HTML\"},{\"attributes\":{\"height\":288,\"margin\":[5,5,5,5],\"name\":\"Matplotlib00244\",\"text\":\"&lt;img src=&quot;data:image/png;base64,iVBORw0KGgoAAAANSUhEUgAAA2AAAAJACAYAAADrSQUmAAAAOXRFWHRTb2Z0d2FyZQBNYXRwbG90bGliIHZlcnNpb24zLjQuMywgaHR0cHM6Ly9tYXRwbG90bGliLm9yZy/MnkTPAAAACXBIWXMAABYlAAAWJQFJUiTwAABUPElEQVR4nO3dd3xUVf7/8fdMZtJIQgJBRUAS0AAivRdFEaQpRXS/oICKlK8F0MWGX1xdV8VdXREQsewqRaSodFiUIgIqJDSxRKUkhF4SQhpMptzfH/wyy5hCCMmdhLyej8c+Hsy959z7uZO4j/vOOfdci2EYhgAAAAAAZc7q7wIAAAAAoLIggAEAAACASQhgAAAAAGASAhgAAAAAmIQABgAAAAAmIYABAAAAgEkIYAAAAABgEgIYAAAAAJiEAAYAAAAAJiGAAQAAAIBJCGAAAAAAYBICGAAAAACYhAAGAAAAACYhgAEAAACASQhgAAAAAGASAhgAAAAAmIQABgAAAAAmIYABAAAAgEkIYAAAAABgEgIYAAAAAJiEAAYAAAAAJiGAAQAAAIBJCGAAAAAAYBICGAAAAACYhAAGAAAAACYhgAEAAACASQhgAAAAAGASAhgAAAAAmIQABgAAAAAmIYABAAAAgEkIYAAAAABgEgIYAAAAAJiEAAYAAAAAJiGAAQAAAIBJCGAAAAAAYBICGAAAAACYhAAGAAAAACYhgAFAJdGgQQM1aNBAhw4d8ncpKELXrl3VoEEDbd261d+llMhzzz2nBg0aaNq0af4uBQDKJZu/CwCA8ua5557T4sWL820PDQ3VtddeqzZt2mjo0KGqX7++H6oD/CMjI0OzZs2SJI0ZM8bP1QBAxcUIGAAUwm63Kzo6WtHR0apevbrOnTunvXv3at68eerXr5/+85//+LtEwDQZGRl655139M477xTZrkaNGoqNjVVUVJRJlQFAxcIIGAAUokWLFpozZ473s9Pp1Pfff6+XXnpJhw8f1vPPP6927dqpWrVqfqwSKF/Gjx+v8ePH+7sMACi3GAEDgGKy2+265ZZb9Oabb0qScnJy9OWXX/q5KgAAUJEwAgYAl6hFixYKDQ1VTk6O9u3bV2Cb3NxcLVy4UKtWrdLevXuVk5OjGjVqqH379hoxYkSBz4/l5ubqu+++09q1a7V7924dP35cOTk5io6OVsuWLfXQQw/ppptuKrQuj8ejuXPn6rPPPlNycrJCQ0PVvHlzjR49Wi1atCjx9TZo0ECStG7dOuXm5mr69OnaunWrMjMzFRsbqwcffFD9+/eXJBmGoYULF2rBggVKSkqS3W5Xp06d9PTTT+vaa6/Nd+zs7Gxt3LhRa9eu1W+//aZjx44pNzdXV199tdq3b6+HH35YMTExF60rJydHM2bMUHx8vDIyMlSrVi3dddddGjlypAIDA/P1HTp0qOLj4zVp0iTdfvvtmj59utatW6cTJ04oKipKXbp00ZgxY3TVVVcV+r1kZ2drzpw5WrNmjZKTk5Wbm6uaNWvqlltu0cMPP6yaNWsW2nfZsmX65JNPtGfPHtntdjVs2FDDhw/XrbfeWmifi+natasOHz6s2bNnKyYmRjNmzNCmTZt0/Phx1a9fX0uXLpUknThxQmvXrtWGDRuUnJys48ePKyAgQNddd526du2qBx98UBEREQV+X3nyvvs8jz/+uPe5sLxnKC/cdqHc3FzNnTtXq1at0v79++V0OlWzZk3deuutGjFihGrUqFHi7wAAKgICGABcBrfbnW/biRMnNHLkSP3666+SJKvVqpCQEB05ckSLFi3SypUr9eabb+qOO+7w6fftt9/qf//3f72fQ0JCZLFYdOTIER05ckSrV6/Wq6++6g07F3K5XBo7dqzWrVsnSbLZbHK73fr666+1adMmTZ48+bKvdffu3Zo4caKys7MVHh4uh8OhxMREPfvss0pLS9NDDz2kp556SitWrJDdbpfdbteZM2e0atUq7dq1S4sWLcr3XNDixYv1t7/9zfu5SpUq8ng8SklJUUpKilasWKHp06erY8eOhda1c+dO/eUvf1FOTo7CwsJkGIaSkpI0depUbdy4UR999JGqVKlSYN/09HTdc889SklJUXBwsGw2m44fP66FCxdq7dq1+uSTTwoMy/v27dPIkSN1+PBhSee/78DAQB04cEBz5szRsmXLNGPGDLVq1Spf35dffllz586VdP53w2azKT4+Xlu3btX//d//XfwHcRHJyckaN26cTp8+rZCQENntdp/9r7zyis/IbUREhLKyspSYmKjExEQtX75cc+bM0TXXXONtU7VqVUVFRen06dOSpOjoaJ9jhoaGFqu2tLQ0Pfzww/rll18kSYGBgbLb7UpOTtbMmTO1ePFiffDBB2revHlJLh0AKgYDAODj2WefNeLi4owhQ4YUuH/btm1GXFycERcXZ/z73//22Zebm2sMHDjQiIuLM+6//34jISHBcDgchmEYxsmTJ43XX3/diIuLM5o1a2YcOHDAp++WLVuM5557zvjuu++MtLQ07/bDhw8br776qhEXF2c0adLEOHz4cL6a3n33XSMuLs5o2LCh8a9//cvIyckxDMMwUlJSjIcfftho1aqVt+aDBw9e0veR169Vq1bG6NGjjZSUFMMwDCMzM9P4y1/+4r2eyZMnG82bNzeWLFliOBwOw+PxGAkJCUanTp2MuLg44+9//3u+Yy9fvtz429/+ZuzYscPIyMgwDMMwPB6PsXfvXmP8+PFGXFyc0b59eyM7O7vIugYOHGj8+uuvhmEYhsPhML744gujadOmRlxcnDFx4sR8fYcMGeLt26FDB2P9+vWG2+02DMMwtm7danTt2tWIi4sz+vTpY+Tm5vr0zcjIMG677TYjLi7OePTRR42ff/7ZcDqdhmEYxsGDB42nn37aiIuLMzp27GicOXPGp+/SpUu9db/++uve/SdPnjSeeeYZo3HjxkazZs2MuLg4Y8uWLZf0c8qrqXnz5sadd95pbN++3bsvOTnZ++8333zTePfdd409e/YY586dMwzj/O/t1q1bvb+7I0eOzHf8gwcPemsvSt5/P1OnTs237+GHHzbi4uKMNm3aGKtWrTJcLpdhGIaxe/du48477/R+b6mpqZd07QBQkRDAAOAPCgtgubm5xsaNG703uo0bNzaOHj3q02bhwoVGXFycMXDgQG/w+qMXX3zRiIuLM/76179eUl0TJkww4uLijGnTpvlsz87ONlq2bFnoTa/D4TB69+592QHsjjvu8AaNPG632+jevbu3zeLFi/P1X7x4sREXF2d07dr1ks7r8XiMBx980IiLizMWLVpUaF0dOnQwTp8+nW//F1984Q2lhw4d8tmXF8AaNGhgJCQk5Ou7b98+o3HjxkZcXJyxZMkSn31vvfWWERcXZzzyyCOGx+MpsPaRI0cacXFxxr/+9S+f68n7rp599tkir/dyAljr1q2NkydPXlLfPKdPnzbat29vxMXFeYN2nssNYAkJCd7+33zzTb5+J0+eNNq0aWPExcUZb7/9donqB4CKgEU4AKAQO3fuVKdOndSpUyd17NhRTZs21YgRI3T48GFZrVa99NJLPtO0JHnfH3b//fcX+OyRJN15552Szk85vBRdu3aVJO3YscNn+7fffqusrCwFBgbqwQcfzNcvMDBQw4cPv6RzFWT48OGy2XxnrlutVrVv316SdM0116hv3775+nXo0EGSdOjQIeXk5BT7fBaLRV26dJGU/5ovNGjQIEVGRubb3r9/f11zzTXyeDxas2ZNgX1bt26t1q1b59ter1499ejRQ5LyLbSyZMkSSdKDDz4oi8VS4HH79OkjSfruu++82xITE3XgwAFJ0qhRo/L1sVgsGj16dIHHuxT9+vXLN0WwuCIjI73PC+7ateuya7nQ6tWrJUk33XSTbrnllnz7o6OjNWjQIEniFQ8Armg8AwYAhXA6nTp16lS+7ZGRkfrwww/VtGlTn+0ul0u7d++WJL3++uve1RL/KO+5sWPHjuXbl56errlz52rTpk1KSkpSZmZmvufMTpw44fP5559/liQ1atRI4eHhBZ6zbdu2BW6/FHFxcQVuz1uG//rrr5fVmv/veheGgczMzHzPCx07dkxz5szR999/r5SUFGVnZ8vj8fi0+eM1X6iwa7NarWrdurVWrFjhfeaouH3z9v2x79GjR70/t3HjxhV4vdL535289nnyfk7Vq1dXvXr1CuzXsmVL2Ww2uVyuQuu6mOIsuLJ7927NmzdPO3fu9C728kdFfeclkfc9tmvXrtA27du31/vvv6/k5GTl5OQU+9kyAKhICGAAUIi2bdt63wOWm5ur/fv3691339WXX36piRMnas6cOapataq3/ZkzZ7w33unp6Rc9/rlz53w+7927Vw888IBP6KtSpYqCg4NlsVjkdDp15syZfDfLaWlpklTkin1XX331Reu5mMJWpwsICCjWfum/wSRPfHy8Ro8e7XNN4eHhCgoKknT+O8rKyipy5Kyoa8v7TvK+o0vpm7fvwr4nT570/ruwY17owp9x3gIWRZ0zMDBQUVFRPue5VBd7L92///1vvfHGGzIMQ9L5n0/VqlW9i3VkZmbK4XDo7NmzJa6hIHnfV3G+c8MwdPr0aQIYgCsSAQwAiiEwMFANGzbUlClTNGLECG3evFl/+ctfNGXKFG+bC0dtli5dqoYNG17SOSZMmKBTp06pcePGevLJJ9WyZUuf1fu+//77AqcYVlROp1NPP/20cnJy1LFjRz322GNq0qSJN3xJ0meffaaJEyf6pb68gHKhC3/G27dvV1hYmCnnvRSFjcpJ0p49e/Tmm2/KMAwNGTJEgwcPVmxsrE9Ifvrpp7Vs2bLLrqMwubm5ZXJcAKgoeAYMAC6BxWLRxIkTFRAQoNWrV/u8GykyMtJ7I1vY+8EKc+TIEe3evVsBAQGaMWOGbr755nxLpxc0HVL674hHUVPGjh8/fkn1mGHXrl06duyYIiMj9e6776p169Y+4UuSUlNTL3qcoq47b19ho0JF9c0bhbqwb/Xq1b3/3rt370Vru1DeEvxFnTM3N7dYo6cl9eWXX8rj8ahz58564YUXdP311/uEL6l433lJ5H2PR44cKbRN3u+pxWLJ98oCALhSEMAA4BLFxsaqV69ekuTzfi273e59UfJXX311ScfMe66oWrVqhU7RunBBhws1btxY0vlFHrKysgpsk5CQcEn1mCHvmmNiYhQSElJgm8Ku+UKFXZthGNq+fbsk6cYbbyywzYUBurB9F/atU6eO95m2S/0Z5/2cTp06paSkpALb7Ny587Ke/7qYvIBT2PeRk5NT6OIbF46slWR0LO+cCQkJhfbfsmWLpPO/E0w/BHClIoABQAmMGDFC0vnV+bZu3erdPmDAAEnnb87zbiYLc+bMGe+/8xbPOHXqVIEjEL/99ptWrFhR4HE6d+6ssLAw5ebmatasWfn25+bm6uOPP77IFZkv75qTk5PlcDjy7d+8ebPPd1uYefPmKSMjI9/2pUuX6ujRo7Jarfleep0nISGhwBUWk5OTvasf9uzZ02df3s943rx5RY50GoahzMxM7+dGjRqpbt26kqQPP/ywwPYffPBBoccrDXlTJn///fcC97/33nvKzs4usq+kAr/vi8n7Hvfs2eN9YfiFTp06pfnz50uS9w8cAHAlIoABQAk0atRIHTt2lCTNmDHDu/2ee+5R8+bN5fF49L//+7+aNWuWz5Sy1NRUrVixQkOHDtXs2bO92+vXr69rrrlGhmHoiSee8C5X7nQ69dVXX2n48OGFjgiEhIR4A+H06dP18ccfexd/OHTokB5//HGf1fjKi5YtWyokJETp6el65plnvFPzzp07p88//1xjxowpcHn5P3I4HBoxYoQ3VDidTi1evFgvvfSSpPM/k2uvvbbAvmFhYRozZoy++eYb76jMtm3bNHLkSOXm5uqGG27IFwZGjRqlOnXqKCcnR0OGDNHixYt9QsvRo0e1cOFC3X333T7L31ssFj3++OOSpC+++EJvvPGGN8icOnVKzz//vLZu3VroaGBp6NSpkyRpw4YNeu+997wLbaSlpenvf/+73n///UK/84iICO+iJosWLbrkc7du3Vo333yzJOn555/X6tWrvSt8/vTTTxo+fLjOnDmj6OhoDRs27JKPDwAVBYtwAEAJjRgxQt99952+//577dy5Uy1atJDdbte7776rxx9/XDt27NBrr72mSZMmKSIiQk6n02c1vwuX47ZarZo4caLGjh2r+Ph43XHHHapSpYpyc3PldDp17bXX6plnntEzzzxTYC0jR47Ujz/+qHXr1nmXwA8NDVVGRoZsNpsmT56sMWPGlPl3cikiIiL05z//Wa+++qpWr16t1atXKzw8XGfPnpXL5VKjRo00cOBAvfLKK0Ue58UXX9QLL7ygu+66S+Hh4Tp37px3tcXmzZvrueeeK7Tvo48+qnnz5mnUqFEKDg6W1Wr1/oyqVaumt99+27s64IV1//vf/9Yjjzyiffv26bnnntPzzz+viIgInTt3zmflwz++J6xv377atWuX5s6dq3/961/6+OOPFRYWpoyMDBmGof/7v//TzJkzdfjw4Uv6Lourc+fOuuOOO/TVV19p8uTJevvttxUREeE9/8CBA+XxeLzvs/uje++9V9OnT9frr7+uqVOnep/TGjZsWLEWiPnHP/6h4cOHKzExUePGjVNQUJBsNps3wFatWlXvvPMOz38BuKIxAgYAJdSpUyfvcy0XjoJVr15dn3zyid5880116dJF1atX997U16tXT/fcc48++OCDfC/d7d69u2bNmqVOnTqpSpUqcrlcqlWrloYPH67Fixfne+nzhWw2m6ZNm6aJEyeqQYMGCggIkNVq1a233qo5c+YUOgXP34YNG6Z33nnHOxrmdrtVr149jRkzRvPnz8+3EElBWrRooYULF6pXr14KDAyUxWJRbGysxo4dqzlz5hR5jMjISH3++ed64IEHVL16dTmdTl111VX605/+pCVLluj6668vsF/dunW1ZMkSvfjii2rXrp2qVq2qrKwsBQQEqEGDBho6dKg++eQT9evXL1/fv/zlL3rjjTfUrFkzBQYGyjAMtWnTRu+//74pIz+TJ0/W+PHjVb9+fdlsNhmGoZYtW+rvf/+7XnvttSL7PvbYY3rqqafUoEEDGYahw4cP6/Dhwz5TLYtSrVo1LViwQM8995xuuukm2Ww2OZ1OxcTE6IEHHtCKFSuK9R4zAKjILEZZrTMLAEAZatCggSRp3bp1ql279iX1HTp0qOLj4zVp0iTdfffdZVEeAAAFYgQMAAAAAExCAAMAAAAAkxDAAAAAAMAkBDAAAAAAMAmLcAAAAACASRgBAwAAAACTEMAAAAAAwCQEMAAAAAAwCQEMAAAAAExCAAMAAAAAk9j8XQAAAACAisPj8SgtLU2ZmZlyOBxiUfVLQwCrYAzDkMvlMfWcNtv5gVKzzwsAAFCZ+fMezGazymKx5Nvu8Xh08OBBZWdny+MxRPa6dASwCsbl8ig9PcfUc0ZGhkqS6ecFAACozPx5DxYZGSq7PSDf9rS0NGVnZ0uyqlq16goKCpbVylNNl4IABgAAAKBYMjMz5fEYqlatukJCQv1dToVEXAUAAABQLOef+ZKCgoL9XUqFRQADAAAAUCx5C24w7bDk+OYAAAAAwCQEMAAAAAAwCQEMAAAAAExCAAMAAAAAk7AMPQAAAABcovbtW0qSLBaLPvtsiWrXrlNgu0cfHaUdO7ZJkiZOfIkRMAAAAAAoiYAAmwzD0PLlSwrcn5KSop07tysg4L/jXgQwAAAAAOXOvpPZ+nTbIX34XbI+3XZI+05m+7ukfKpVq6ZGjW7UihXL5XK58u1ftmyxDMNQ5843e7cxBREAAABAubE1+bQ++C5ZOw6eybevZZ2qGtUxRu1iovxQWcH69Rug119/Vd9+u0ldutzm3e5yObVq1Qo1adJMsbH19M03X0tiBAwXYbcHyG0YynV7FBhsl83GrwwAAADKxuIfjurRhT8UGL4kacfBM3p04Q9asvuoyZUVrnv3ngoJCdGyZYt9tm/cuFFpaanq12+Az3buplEguz1AgVWClOb0aPLaPfrrikT96/sDclissocEEsQAAABQqrYmn9YrX/4mj1F0O48h/W31b9qafNqcwi6iSpUq6tath7Zs+V4nThz3bl+2bJGqVAlTt27dfdpzF4187IEB8tgDNHLOdnX95zd6f+N+Ldx2UNPW71WHv6/Xs4t/ko0QBgAAgFL0wXfJFw1feTyG9OF3yWVaz6Xo12+A3G63li9fKkk6evSI4uO3qkePXgoODvFpyx00fFitFtmC7Lr3ve8Vn5SWb79hSF/+fEwPz9qmwNAgP1QIAACAK82+k9mFTjsszPaDZ8rNwhw33dRE9etfr+XLl8rj8WjZsiXyeDz5ph9KBDD8gS3QpvkJBy/6yxyflKatSakKCmIdFwAAAFyerQdKNp2wpP3KQr9+d+vYsaPasuU7rVixTA0bNlKDBg3ztSOAwYfNHqCZxRzO/XBTklxWfoUAAABKm9VqkcVy/iW/leGxj+zc/Eu4l2W/stCrVx8FBQXr9ddf1cmTJ9S//90Ftrvyf5q4JAEBVh06fbZYbROPZiiwEvwfAgAAgFns9gAFBNsVEBKob/ac0tpfjyvNaSioSpACr+CZR1UCS3ZtJe1XFsLDw9W16+06ceK4QkJC1L17zwLblZ+KUS5YLcVva7NaZBTzQUkAAAAUzR5okyfAqheW/qwvfz4m1wUrUtxUK0Iv3tlYN0SHynnO6ccqy0a7uiV7r1dJ+5WV0aMf1a23dlVkZJSqVKlSYBuGL+DjbK5bzWpXLVbbDvWqy+lyl3FFAAAAVz6bzSrDFqC+07/Vyh+P+oQvSfrpcIYGfbhFPxzJkO0KHAmrX6OKWtYp3j1onlZ1qqp+jYJDjr9cc01Ndelym5o1a15oGwIYfLncGnVLvWI1/d8u9RXg8ZRxQQAAAFc+wxagvy7/pchHQdweQ2Pn71JQkF2WS5i1VFGM6hhT7NlYVos0smNMmdZTViyGwSSyisTpdCs9PafMjm+xSMFhwXpiwS6tTTxRaLsHO8boz91ukCPbUWa1AAAAVAZWq0X20CC1fmWtct0X/+P2tMHN1SW2mhyOsluAIjIyVHZ7QL7tiYmJcrk8ql07pkzOu/iHoxd9GbPVIr3Qs4H6N61ZJjWUNUbA4MMwpNycXL39P8316K31FRHiO8RdIzxIf7nzRo3vHifn2Vw/VQkAAHDlCAiw6qfDZ4oVviRp/a8ndeU9BXbegGY19e6fmqlVIdMRW9Wpqnf/1KzChi+JRThQALfbI0e2QyM7xujx267XzoPpOp2Tq6vCg9T42qpy5jrlyD7HAhwAAAClwGI5P72wuNweQ7qC78PaxUSpXUyU9p3M1tYDp5Wd61KVQJva1Y0qd898lQQBDAXyeAx5HE65c51qFxMlyaLs7HPKySjeEvUAAAAoHrfb0A1XhxW7fZNaVWWzSFf6XKT6NapcEYHrj5iCiCIZRt7/DOXmsuIhAABAaXO7PQoKsKpDveoXbRsYYNWfWteWy8l9WUVFAAMAAAD8LMDj0Yt33aggW9G35493rS+P2yPPJUxZRPlCAAMAAAD8zOFw6eqwQC0Y1V7XRATn2x9ks+qpO+L0UMcYuR1X6hIclQPPgAEAAADlgOucU3Ujg7VufBdtS07TV78cl9NtqPG1Ebq7RS25XG45sh0shFbBEcAAAACAcsLlcMnlcKlFzXC1iakmwzDkdrqUm+Ng2uEVgimIAAAAQDnjcLhkt1oUGGCV45yL8HUFIYABAAAAgEkIYAAAAABgEgIYAAAAAJiEAAYAAAAAJiGAAQAAAIBJWIYeAAAAAC5R+/YtfT5brVaFh0fo+uuv11139VfPnr0L7EcAAwAAAIASevjhUZIkl8ullJQD2rhxg7Zv36Zff03UE0+M92l7+PAhAhgAAACA8sea+pvsBzfJkpslIzBMzjo3y1O9gb/LymfkyP/1+ZyQsFVjxz6qBQs+1Z/+NFjXXnutd9/SpYsJYAAAAADKD1vKJgXHT5b98JZ8+5y12utc2yfluu5mP1RWPG3atFPdujFKTk5SYuLP3gDmcrm0cuVyFuEAAAAAUD4E/vSpwpYMlv3wFhl/2GdIsh/eorAlgxX48zx/lFdshnG+eovF4t22adM3Sk09RQADAAAA4H+2lE0KXf+MLIZHkmT5w/68zxbDo9B1T8uWssnU+oorPn6rUlIOyGKxqFGjG73bly5dJIlFOAAAAACUA8Hxk73h62IshkfB8W8rqxxMRfzww/ck+S7CYRiGBg26XzVrnp9+ePToEcXHb1XdujEEMAAAAAD+ZU39zTvt8I8jXwU5Px3xe1lTf/P7whz//vcHks5PNwwPD1ezZi1011391KtXH2+bZcuWyOPxqE+fuwhgAAAAAPzLfvD8dMLihK8L29kPbpLDzwFsy5YdRe53u91asWKZrFarevbsQwADAAAA4F+W3CxT+5np22836eTJE5Kkvn17EsAAAAAA+JcRGGZqPzPlLb7RqdPNqlatOgEMAAAAgH8565xfTONSngGzXNCvvDpx4ri2bPleEREReu21fygoKIhl6AEAAAD4l6d6Azlrtb+kZ8CctTr4fQGOi1m6dLHcbrd69OitoKAgSSKAAQAAAPC/c22flGEpXjwxLFada/tE2RZ0mTwej1asWCZJ6tu3v3e7xch7TTMqBKfTrfT0HFPPGRkZKkmmnxcAAKAy8+c9WGRkqOz2gHzbExMT5XJ5VLt2TJmcN/CnT70vY/7jdMS8z4bFqpzb31Bu48FlUkNZ4xkwAAAAAOVC7k33yRNRR8Hxb8t++HuffXnTDs+1fUKucvAC5pIigAEAAAAoN1zX3ays624+/3Lmg5tkyc2SERgmZ52by/0zX8VBAAMAAABQ7niqN/D7S5bLAotwAAAAAIBJCGAAAAAAYBICGAAAAACYhAAGAAAAACYhgAEAAACASQhgAAAAAGASAhgAAAAAmIQABgAAAAAmIYABAAAAgEkIYAAAAABgEgIYAAAAAJiEAAYAAAAAl2j79m1q376lHnlkZKFtjhw5ovbtW6p//z7ebQQwAAAAADCJzd8FAAAAAMAfJWXs1/ZTCcp2ZauKrYpaRbdRbEQ9f5d12QhgAAAAAMqN7ScTNPP3j/RD6s58+5pVb6EH44arVY02fqisdDAFEQAAAEC5sOLAMo3/flyB4UuSfkjdqfHfj9PKlOUmV1Z6CGAAAAAA/G77yQS9+cPr8shTZDuPPHpj1yRtP5lgUmWliwAGAAAAwO9m/v7RRcNXHo88mvX7R2VcUdngGbCL2LBhg2bPnq29e/cqPT1dNWrUUOPGjfXQQw+pRYsW+drv2LFDM2bM0A8//CCHw6HrrrtOAwcO1NChQxUQEOCHKwAAAADKt6SM/YVOOyzMrtSdSsrYX+EW5mAErAhvvPGGRo8erZ9//lk333yzhg0bpsaNG2v9+vUaPHiwli5d6tN+7dq1GjJkiLZt26Zu3brpvvvuk9Pp1KRJk/Tkk0/66SoAAACA8m37qZJNJyxpv9JgtVokSYZR+Khd3j6r9b+xixGwQpw8eVIfffSRoqOjtWzZMlWvXt27b8uWLXrggQc0depU9evXT5KUlZWlF154QVarVbNnz1aTJk0kSU888YQeeOABffnll1q5cqX69OlT4PkAAACAyirblW1qv9IQFhYuSTpz5kyhbdLT033aSoyAFerIkSPyeDxq2rSpT/iSpPbt26tKlSpKS0vzblu9erXS0tLUp08fb/iSpKCgII0bN06SNG/ePHOKBwAAACqQKrYqpvYrDdddV1eBgYFKSUnRmTPpBbb56afdkqQbbrjBu40AVoi6devKbrfrxx9/9AlakpSQkKDs7Gx17NjRu23Lli2SpJtvvjnfsdq0aaOQkBDt3LlTubm5ZVs4AAAAUMG0ii7Ze71K2q80BAUFqVu3HnK7XZo27W0ZhuGz/8SJ4/rkk9mSpD59+nq3MwWxEJGRkXrqqaf0+uuvq0+fPurWrZsiIyOVkpKi9evXq1OnTnr55Ze97ZOSkiRJMTEx+Y5ls9lUu3Zt7dmzRwcPHlT9+vVLXJfNZlVkZGiJ+5f0nJJMPy8AAEBl5s97sLxzmyU2op6aVW9xSQtxNK/ewu8LcIwb96QSE3/WihXL9OOPu9W27fmZcseOHdXGjd8oJydbQ4c+qJYtW3n7EMCK8OCDD6p27dp6/vnntXDhQu/2unXrasCAAT5TE7OysiRJ4eHh+Y4jSWFhYZKkjIyMMqy49Fktks6dkWQowLDKExieL90DAAAAl+vBuOEa//24Yi1Fb5VVD8QNN6GqolWtGql//3u2Fi6cp2+++VorVy6Xw+FQ1apV1aJFSw0ceK86duzs04cAVoQPP/xQkydP1tChQzVkyBBFR0dr//79euutt/TUU08pMTFRzzzzzCUd02KxXFZNLpdH6ek5l3WM4ggOsqhKkEXau1aWXXOks+myhF0ttR4h1WmrzHMW5ea6y7wOAACAyipv5MuMe7+Czm23m/sKpVY12uipZs9d9GXMVln1dPMJalXDf9MPLxQaGqoHH3xYDz74cLHaE8AKsXXrVr355pvq3r27JkyY4N3euHFjvfPOO+rRo4c+/vhjDR48WHXq1PGOcGVmZhZ4vIuNkJUnIUEWheYek/XDO6XMoz77rL+ukGo0UPiwFcoKDJODEAYAAIBScmfdvqoZWlOzfv9IuwqYjti8egs9EDe83ISvkiCAFWLDhg2SpHbt2uXbFxISoqZNm2rNmjX65ZdfVKdOHcXGxuqnn35ScnKybrrpJp/2LpdLhw4dks1mU506dcwov8QCAqwKDXDI+tEdUk5qwY1O/ibrzJ4KH7VJuU6JGYkAAAAoLa1qtFGrGm2UlLFf208lKNuVrSq2KmoV3cbvz3yVBgJYIfJWK/zjCoh58rbb7XZJ55emX758uTZt2qQ777zTp21CQoLOnj2rNm3aKDAwsAyrvnwhdrcs308rPHzlSd0nI3GZguv101kHo2AAAAAoXbER9a6IwPVHLENfiFatzq9UsnDhQh0/ftxn3zfffKMdO3YoKChILVq0kCT17NlTUVFRWrlypX788UdvW4fDoSlTpkiSBg8ebFL1JRccZJdlx6xitbXGv6+QAJbVBwAAAIqLEbBC9OzZU5999pm+++479erVS927d1d0dLT27dunDRs2yDAMjR8/XlFRUZLOr3L4yiuvaOzYsRo2bJh69+6tqlWrav369UpKSlKPHj3Uu3dvP19VMVh08dGvPGlJstjsUjFWqgEAAAAgWQzWFC+U0+nU3LlztWrVKu3du1fnzp1T1apV1bRpUw0dOlSdO3fO12f79u167733tGvXLjkcDtWtW1cDBw7U0KFDFRBw+SvJOJ3uMl0JJzoqSJZXryreg13hNeV5NF6pWZe3siMAAADyK4+rICYmJsrl8qh27RjTa7pSEMAqmLIOYFEhLtkWPyztW3fRtkabEcq95S/KOMdMVgAAgNJGALsycecMHzmeYHk6//niDS0WGR3HKsfFLFYAAIDKIu+dth4Pj6CUFAEMPhwOlzxXN5XRcVyR7Yw+k+WyR8rl4j8+AACAyiIoKEgWi+RwnPN3KRUWAQz5nDlrlefmp+W5Z6Z0TRPfnXU7yjNshVyNBurMWX59AAAAKpPw8HBZrRalp6fq7NlseTwe8UTTpeEZsAqmrJ8By2OxSMFBAQqxuWR1ZkuOTBkhUfJY7DrrDtI5h6vMawAAAKjMyuMzYB6PRwcPHlR2drY8HqNY67bBFw/woECGIZ0959ZZWRQZeZUUcpUyMs7K4zEkEb4AAAAqI6vVqjp16igtLU2ZmZlyOByMgF0iAhiK7Xz4AgAAQGVmtVoVHR2t6Ohof5dSIfEQDwAAAACYhAAGAAAAACYhgAEAAACASQhgAAAAAGASAhgAAAAAmIQABgAAAJQzNluArFaLrFaLAgNZuPxKwk8TAAAAKCeCAgNUxe6U5exJWeJXS+5chV/TTKrTVuccbmU7LP4uEZeJAAYAAACUAyFBUqj7lKyfDpcOJXi3WyQpvKaCe7wme2w3pecQwioypiACAAAAfma3ByjUyJD1g1t8wpdX5lFZP39Itj0rFR7kNr9AlBoCGAAAAOBnVWwOWVc9JZ09XWQ7y6rxCgqyyWJhFKyiIoABAAAAfmS1WhRg8Uh7vrx449xs6acvFBxIAKuoCGAAAACAH9lsVunYj5KneFMLLcmbZFNuGVeFskIAAwAAACoUw98F4DIQwAAAAAA/crk8slxzk2Qp3q25UbezXJbAMq4KZYUABgAAAPiRx2PIZQRIN9xx8cb2UKnJvTrnYBSsoiKAAQAAAH6W4w6Sp/ebUnBkke2Mnn+XI9ctwyCAVVQEMAAAAMDPcnPdOmuNlGfUBunaFvkbhF0lY8AHcjfsr8xz3MJXZDZ/FwAAAABAynFI7sCrVGXoUlkyj8ny+38k1zkZ17aUYjrJ4XArK4fl5ys6i8H4ZYXidLqVnp5j6jkjI0MlyfTzAgAAVFZ2e4DCw4MlSdnZDjkcLlPPHxkZKrs9wNRzVhaMgAEAAADljNPplsdzfpzE7PCFssUEUgAAAAAwCQEMAAAAAExCAAMAAAAAkxDAAAAAAMAkBDAAAAAAMAkBDAAAAABMQgADAAAAAJMQwAAAAADAJAQwAAAAADAJAQwAAAAATEIAAwAAAACTEMAAAAAAwCQEMAAAAAAwCQEMAAAAAExCAAMAAAAAkxDAAAAAAMAkBDAAAAAAMAkBDAAAAABMQgADAAAAAJMQwAAAAADAJAQwAAAAADAJAQwAAAAATEIAAwAAAACTEMAAAAAAwCQEMAAAAAAwCQEMAAAAAExCAAMAAAAAkxDAAAAAAMAkBDAAAAAAMAkBDAAAAABMQgADAAAAAJMQwAAAAADAJAQwAAAAADAJAQwAAAAATEIAAwAAAACTEMAAAAAAwCQEMAAAAAAwCQEMAAAAAExCAAMAAAAAkxDAAAAAAMAkBDAAAAAAMAkBDAAAAABMQgADAAAAAJMQwAAAAADAJAQwAAAAADCJzd8FVATbtm3TrFmztHPnTqWnpysyMlJxcXF64IEH1KVLF5+2O3bs0IwZM/TDDz/I4XDouuuu08CBAzV06FAFBAT46QoAAAAAlAcEsIt49913NWXKFEVFRem2225TjRo1dPr0af3yyy/aunWrTwBbu3atxo4dq6CgIPXq1UtVq1bV119/rUmTJmnHjh2aOnWqH68EAAAAgL9ZDMMw/F1EefWf//xHTzzxhDp27Khp06YpLCzMZ7/T6ZTdbpckZWVlqXv37srMzNS8efPUpEkTSZLD4dADDzygnTt36q233lKfPn0uqyan06309JzLOsaliowMlSTTzwsAAFCZ+fMeLDIyVHY7s7fKAs+AFcLj8ejNN99USEiI/vnPf+YLX5K84UuSVq9erbS0NPXp08cbviQpKChI48aNkyTNmzev7AsHAAAAUG4xBbEQO3bs0KFDh9SjRw9FRERow4YN+v333xUUFKSmTZuqRYsWPu23bNkiSbr55pvzHatNmzYKCQnRzp07lZubq8DAQFOuAQAAAED5QgArxE8//SRJio6O1oABA/T777/77G/Tpo2mTp2qatWqSZKSkpIkSTExMfmOZbPZVLt2be3Zs0cHDx5U/fr1y7Z4AAAAAOUSAawQqampkqT58+erdu3amjlzppo2baojR47o9ddf1+bNmzVu3DjNmTNH0vlnwCQpPDy8wOPlTWHMyMi4rLpsNqt3PrBZbLbzM1XNPi8AAEBl5s97sLxzo/TxzRbC7XZLkgzD0NSpU9WhQwdVqVJFN9xwg6ZPn65rrrlG8fHx2rlz5yUd12KxlEW5AAAAACoARsAKUbVqVUlSnTp11LBhQ599wcHB6ty5sz7//HPt3r1bLVq08I5wZWZmFni8i42QFZfL5WEVRAAAgEqAVRCvTIyAFSI2NlZS4YEpIiJC0vll5i9sn5ycnK+ty+XSoUOHZLPZVKdOnTKoFgAAAEBFQAArROvWrWWz2XTgwAHl5ubm279nzx5JUq1atSRJ7du3lyRt2rQpX9uEhASdPXtWLVq0YAVEAAAAoBIjgBWiWrVq6tWrlzIzMzV9+nSffd9++602b96s8PBw77LzPXv2VFRUlFauXKkff/zR29bhcGjKlCmSpMGDB5t3AQAAAADKHYthGIa/iyivUlNTNXjwYB04cECtW7dW06ZNdfjwYa1du1YWi0VvvvmmevXq5W2/du1ajR07VkFBQerdu7eqVq2q9evXKykpST169NCUKVMuexEOp9PNM2AAAACVAM+AXZkIYBeRnp6uGTNmaM2aNTpx4oSqVKmili1bavTo0WrevHm+9tu3b9d7772nXbt2yeFwqG7duho4cKCGDh2qgIDL/yUmgAEAAFQOBLArEwGsgiGAAQAAVA4EsCsTz4ABAAAAgEkIYAAAAABgEgIYAAAAAJiEAAYAAAAAJiGAAQAAAIBJCGAAAAAAYBICGAAAAACYhAAGAAAAACYhgAEAAACASQhgAAAAAGASAhgAAAAAmIQABgAAAAAmIYABAAAAgEkIYAAAAABgEgIYAAAAAJiEAAYAAAAAJiGAAQAAAIBJCGAAAAAAYBICGAAAAACYhAAGAAAAACYhgAEAAACASQhgAAAAAGASAhgAAAAAmMTm7wJKg9Pp1P79+5WZmamwsDDVr19fdrvd32UBAAAAgI8KHcCysrL0j3/8Q8uWLZPD4fBuDwoKUt++ffXUU08pIiLCjxUCAAAAwH9ZDMMw/F1ESWRlZWnw4MHas2ePqlSpohtvvFE1atTQyZMnlZiYqKysLF1//fWaP3++wsLC/F1uqXE63UpPzzH1nJGRoZJk+nkBAAAqM3/eg0VGhspuDzD9vJVBhR0Be//997Vnzx4NHjxYTz75pM9IV2Zmpt5++23NnTtX77//vsaPH+/HSgEAAADgvAo7AtajRw9FRUVp/vz5hbYZNGiQTp8+rS+//NLEysoWI2AAAACVAyNgV6YKuwri0aNH1bZt2yLbtG3bVkePHjWpIgAAAAAoWoUNYCEhIUpNTS2yTVpamkJCQkyqCAAAAACKVmED2E033aTVq1crOTm5wP0pKSn6z3/+o5tuusncwgAAAACgEBV2EY4RI0Zo+PDhuueeezRkyBC1a9dOV111lU6ePKn4+Hh98sknysnJ0cMPP+zvUgEAAABAUgVehEOS5s+fr1dffVUul8tnu2EYstlsev7553Xffff5qbqywSIcAAAAlQOLcFyZKnQAk6QjR45o6dKlSkxMVGZmpsLDw9WoUSP17dtXtWrV8nd5pY4ABgAAUDkQwK5MFT6AVTYEMAAAgMqBAHZlqrCLcAAAAABARVNhFuFISEiQJDVt2lRBQUHez8XRpk2bsioLAAAAAIqtwkxBbNiwoSwWi1atWqXY2Fjv5+JITEws4+rMwxREAACAyoEpiFemCjMC9thjj8lisSgqKsrnMwAAAABUFBVmBAznMQIGAABQOTACdmWqsItwHDlyRFlZWUW2ycrK0pEjR0yqCAAAAACKVmED2O23365Zs2YV2WbOnDm6/fbbTaoIAAAAAIpWYQOYYRhi9iQAAACAiqTCBrDiSE1NVUhIiL/LAAAAAABJFWgVRElasmSJz+dff/013zZJcrvdOnr0qJYuXaq4uDhzigMAAACAi6hQqyAW991feZcUEhKiadOmqXPnzmVdmmlYBREAAKByYBXEK1OFGgGbNGmSpPMB6/nnn1e3bt0KXGTDarUqMjJSLVq0UEREhNllAgAAAECBKlQAGzBggPffixcvVrdu3dS/f3//FQQAAAAAl6BCBbALzZkzx98lAAAAAMAluaJXQQQAAACA8qTCjoBJUk5Ojj799FNt3rxZx48fV25ubr42FotFa9eu9UN1AAAAAOCrwgawjIwM3Xfffdq7d6/CwsKUlZWl8PBwOZ1OnTt3TpJ01VVXyWarsJcIAAAA4ApTYacgzpgxQ3v37tWrr76qhIQESdIDDzygnTt3av78+brxxht13XXX6T//+Y+fKwUAAACA8ypsAFu/fr3atGmjgQMH+rwbzGKxqHnz5vrwww+1f/9+zZgxw49VAgAAAMB/VdgAdvToUd14443ez1arVU6n0/u5evXquuWWW7Rq1Sp/lAcAAAAA+VTYABYSEiKr9b/lh4eH6+TJkz5tqlevruPHj5tdGgAAAAAUqMIGsGuuuUbHjh3zfq5fv762bdsmt9vt3bZ9+3ZFR0f7ozwAAAAAyKfCBrA2bdooISFBhmFIknr37q2UlBSNGjVKc+fO1dixY/XDDz+oS5cufq4UAAAAAM6rsGu0DxgwQE6nU8eOHVPNmjU1aNAgbdmyRWvXrtW3334rSWrZsqWeeOIJ/xYKAAAAAP+fxcgbQqpgEhISFBYWpkaNGvls/+mnn5SSkqJatWqpSZMmPs+JXQmcTrfS03NMPWdkZKgkmX5eAACAysyf92CRkaGy2wNMP29lUGHTybBhw7Rw4cJ822+66Sb17t1bzZo1u+LCFwAAAICKrcImlKioKAUFBfm7DAAAAAAotgobwNq2baudO3f6uwwAAAAAKLYKG8CeeOIJJSUl6e233/Z5ATMAAAAAlFcVdhGOCRMmKCUlRTt27FD16tXVsGFD1ahRI187i8Wi1157zQ8Vlg0W4QAAAKgcWITjylRhA1jDhg2L1c5isSgxMbGMqzEPAQwAAKByIIBdmSrse8DWrVvn7xIAAAAA4JJU2ABWq1Ytf5cAAAAAAJekwi7CAQAAAAAVDQEMAAAAAExCAAMAAAAAkxDAAAAAAMAkBLBLsGTJEjVo0EANGjTQZ599VmCbHTt2aOTIkWrbtq2aNWumu+66SzNnzpTb7Ta5WgAAAADlDQGsmI4ePapXXnlFoaGhhbZZu3athgwZom3btqlbt26677775HQ6NWnSJD355JMmVgsAAACgPCKAFYNhGJowYYIiIyM1aNCgAttkZWXphRdekNVq1ezZs/Xaa6/p2Wef1dKlS9WiRQt9+eWXWrlypcmVAwAAAChPCGDFMHv2bG3ZskWTJk0qdARs9erVSktLU58+fdSkSRPv9qCgII0bN06SNG/ePFPqBQAAAFA+EcAuYt++ffrnP/+pYcOGqU2bNoW227JliyTp5ptvzrevTZs2CgkJ0c6dO5Wbm1tmtQIAAAAo32z+LqA8c7lcevrpp1WzZk39+c9/LrJtUlKSJCkmJibfPpvNptq1a2vPnj06ePCg6tevX+KabDarIiMLfw6tLNhs53O62ecFAACozPx5D5Z3bpQ+AlgRpk+frsTERH366acKDg4usm1WVpYkKTw8vMD9YWFhkqSMjIzSLRIAAABAhUEAK8Tu3bv1/vvv66GHHlKLFi1K7bgWi+Wy+rtcHqWn55RSNcWT91cXs88LAABQmfnzHiwyMlR2e4Dp560MGFssQN7Uw5iYGD3xxBPF6pM3wpWZmVng/ouNkAEAAAC48hHACpCTk6Pk5GTt27dPTZo08b58uUGDBnrnnXckSRMnTlSDBg306quvSpJiY2MlScnJyfmO53K5dOjQIdlsNtWpU8e06wAAAABQvjAFsQCBgYG65557Ctz3yy+/6JdfflGrVq0UGxvrnZ7Yvn17LV++XJs2bdKdd97p0ychIUFnz55VmzZtFBgYWOb1AwAAACifCGAFCA4O9o5s/dG0adP0yy+/aMCAAbr33nu923v27Kk333xTK1eu1JAhQ7zvAnM4HJoyZYokafDgwWVfPAAAAIByiwBWSsLCwvTKK69o7NixGjZsmHr37q2qVatq/fr1SkpKUo8ePdS7d29/lwkAAADAjwhgpahbt26aM2eO3nvvPX311VdyOByqW7euJkyYoKFDh172CogAAAAAKjaLYRiGv4tA8TmdbpahBwAAqARYhv7KxCqIAAAAAGASAhgAAAAAmIQABgAAAAAmIYABAAAAgEkIYAAAAABgEgIYAAAAAJiEAAYAAAAAJiGAAQAAAIBJCGAAAAAAYBICGAAAAACYhAAGAAAAACYhgAEAAACASQhgAAAAAGASAhgAAAAAmIQABgAAAAAmIYABAAAAgEkIYAAAAABgEgIYAAAAAJiEAAYAAAAAJiGAAQAAAIBJCGAAAAAAYBICGAAAAACYhAAGAAAAACYhgAEAAACASQhgAAAAAGASAhgAAAAAmIQABgAAAAAmIYABAAAAgEkIYAAAAABgEgIYAAAAAJiEAAYAAAAAJiGAAQAAAIBJCGAAAAAAYBICGAAAAACYhAAGAAAAACYhgAEAAACASQhgAAAAAGASAhgAAAAAmIQABgAAAAAmIYABAAAAgEkIYAAAAABgEgIYAAAAAJiEAAYAAAAAJiGAAQAAAIBJCGAAAAAAYBICGAAAAACYhAAGAAAAACYhgAEAAACASQhgAAAAAGASAhgAAAAAmIQABgAAAAAmIYABAAAAgEkIYAAAAABgEgIYAAAAAJiEAAYAAAAAJiGAAQAAAIBJCGAAAAAAYBICGAAAAACYhAAGAAAAACYhgAEAAACASQhgAAAAAGASAhgAAAAAmIQABgAAAAAmIYABAAAAgEkIYAAAAABgEgIYAAAAAJiEAAYAAAAAJiGAAQAAAIBJCGAAAAAAYBICGAAAAACYhAAGAAAAACax+buA8ur06dNau3atNmzYoN9//13Hjx+X3W5XXFyc7r77bg0cOFBWa/78umPHDs2YMUM//PCDHA6HrrvuOg0cOFBDhw5VQECAH64EAAAAQHlhMQzD8HcR5dG8efP00ksvqUaNGmrXrp2uvfZanTp1SmvWrFFmZqZ69OihKVOmyGKxePusXbtWY8eOVVBQkHr16qWqVavq66+/VlJSknr06KGpU6dedl1Op1vp6TmXfZxLERkZKkmmnxcAAKAy8+c9WGRkqOx2Bg/KAgGsEN9//73Onj2rW2+91Wek6+TJk7r33nt19OhRTZ06VT169JAkZWVlqXv37srMzNS8efPUpEkTSZLD4dADDzygnTt36q233lKfPn0uqy4CGAAAQOVAALsy8QxYITp06KCuXbvmm2ZYo0YNDRo0SJIUHx/v3b569WqlpaWpT58+3vAlSUFBQRo3bpyk86NqAAAAACovAlgJ2GznH5278JmuLVu2SJJuvvnmfO3btGmjkJAQ7dy5U7m5ueYUCQAAAKDcIYBdIpfLpaVLl0ryDVtJSUmSpJiYmHx9bDabateuLZfLpYMHD5pSJwAAAIDyh1UQL9E///lP/f777+rSpYtPAMvKypIkhYeHF9gvLCxMkpSRkXFZ57fZrN75wGax2c7ndLPPCwAAUJn58x4s79wofXyzl2D27Nn66KOPVK9ePf3jH/8o0TEuXDURAAAAQOXCCFgxzZ07V6+++qquv/56zZw5U5GRkT7780a4MjMzC+x/sRGy4nK5PKyCCAAAUAmwCuKViRGwYpg5c6ZefvllxcXFafbs2apRo0a+NrGxsZKk5OTkfPtcLpcOHTokm82mOnXqlHW5AAAAAMopAthFfPDBB5o0aZIaNWqkWbNmqXr16gW2a9++vSRp06ZN+fYlJCTo7NmzatGihQIDA8u0XgAAAADlFwGsCNOnT9c///lPNW7cWDNnzlS1atUKbduzZ09FRUVp5cqV+vHHH73bHQ6HpkyZIkkaPHhwmdcMAAAAoPyyGIZh+LuI8mjx4sV67rnnFBAQoCFDhhT47FatWrV09913ez+vXbtWY8eOVVBQkHr37q2qVatq/fr1SkpKUo8ePTRlypTLXoTD6XTzDBgAAEAlwDNgVyYW4SjEoUOHJElut1uzZs0qsE3btm19Ali3bt00Z84cvffee/rqq6/kcDhUt25dTZgwQUOHDmUFRAAAAKCSYwSsgmEEDAAAoHJgBOzKxDNgAAAAAGASAhgAAAAAmIQABgAAAAAmIYABAAAAgEkIYAAAAABgEgIYAAAAAJiEAAYAAAAAJiGAAQAAAIBJCGAAAAAAYBICGAAAAACYhAAGAAAAACYhgAEAAACASQhgAAAAAGASAhgAAAAAmIQABgAAAAAmIYABAAAAgEkIYAAAAABgEgIYAAAAAJiEAAYAAAAAJiGAAQAAAIBJCGAAAAAAYBICGAAAAACYhAAGAAAAACYhgAEAAACASQhgAAAAAGASAhgAAAAAmIQABgAAAAAmIYABAAAAgEkIYAAAAABgEgIYAAAAAJiEAAYAAAAAJiGAAQAAAIBJCGAAAAAAYBICGAAAAACYhAAGAAAAACYhgAEAAACASQhgAAAAAGASAhgAAAAAmIQABgAAAAAmIYABAAAAgEkIYAAAAABgEgIYAAAAAJiEAAYAAAAAJiGAAQAAAIBJCGAAAAAAYBICGAAAAACYhAAGAAAAACYhgAEAAACASQhgAAAAAGASAhgAAAAAmIQABgAAAAAmIYABAAAAgEkIYAAAAABgEgIYAAAAAJiEAAYAAAAAJiGAAQAAAIBJCGAAAAAAYBICGAAAAACYxObvAgAAAAD8l8UiBQYG6Kw7R5KhwGCr3E6L3G6Pv0tDKSCAAQAAAOWELVgKCg7Q+pT12nBog1wel26IvEGDGg6W3bDJfdYqj8fwd5m4DBbDMPgJViBOp1vp6TmmnjMyMlQWi5SRcY6/vAAAAJQRe6iUmP6Tntr4lDJyM3z2WS1W3d/ofj3a9DE5sowyD2GRkaGy2wPK9ByVFSNgKJDFItmDrLIFSUfPHlZmbqaigqIUHhouIzdADofb3yUCAABcMYKCApScvU+PrntULsOVb7/H8GjOL3NklVUjGo+SJ9vihypRGhgBq2DMGAGzWi0KCpO+OvCVPvr5Ix3IOODdd2O1G/VIs0fVskZL5WZL/PYAAABcvsBwQ4+tf1Q/nPyhyHYBlgB9/acNMnJscrvL7kaMEbCywyqIyCewijR5x2S9+P2LPuFLkn5J+0Vjvn5cS/Yvlj3UTwUCAABcQQICrMpyZl00fEmS23Drs98WKsDOCFhFRQCDj6Agm3an7tbC3xcW2e6NbW/ojPO0bDb+MgIAAHA5AgIsSj6TXOz2e9L3yCVn2RWEMkUAgw+PPVcf/fTvYrX96OePpED+4wcAALgchiEFBgQWu31gQKAsYgSsoiKAwUdoYKjij8UXq+3GQxsZAQMAALhMLpdHjao3VHBAcLHa335dN9kMexlXhbJCAIMPj1H81Q0dboesFv76AgAAcDkMw5DT6Vbv2N4XbVs9uLra12zPitQVGAEMPgzj/H/YxVE3oq6c7vzLpAIAAOAS5do0vvV41atar9AmgdZAvX3r23Kc5f6rIiOAwYfD4dK9cfcWq+2QRkNkdTH8DQAAcLlcLo88ZwM0p9cn+p+4/1GILcS7zyKLOtTsoHl95iumSn25HH4sFJeN94BVMGX9HrCAAItsVTzqv7S/Tp49WWi76yOv19zenyrnjIt3gQEAAJSSgACrLIFuBQYGaN+ZfXJ6XLou/DrZZZfVFSiHw5zRL94DVnYIYBWMGS9itgdZlW1J14g1I3Qo81C+/TdWv1HvdXtflnOBcjqZfwwAAFDaLBaLIiPPj4JlZJwt05cuF4QAVnYIYGXg2LFjmjJlijZt2qT09HRdddVVuv322/X444+ratWql3VsMwKYJAUGWmULseiHk7u0aM8iZeRmqHpIdQ1ucJ/qR9aT66xFubmELwAAgLISGRkqSabc+xV0bgJY2SCAlbKUlBQNGjRIqampuv3221WvXj3t3r1bW7duVWxsrObNm6eoqKgSH9+sAJYnKMgmBbpkyCO3SwpwByo3lwc/AQAAyhoB7Mpk83cBV5q//vWvSk1N1cSJEzV06FDv9kmTJmnmzJmaPHmyXn75ZT9WeGkcDpciQ/7/f/yZOXKL8AUAAACUFKsglqKDBw9q8+bNqlWrlu6//36ffWPGjFFoaKiWLVumnBzz/4oBAAAAwP8IYKVoy5YtkqTOnTvLavX9asPCwtSyZUudPXtWP/zwgz/KAwAAAOBnTEEsRfv375ckxcTEFLi/bt262rx5s5KSktShQ4cSncNms3rnA5vFZjsfJs0+LwAAQGXmz3uwvHOj9PHNlqKsrCxJUnh4eIH787ZnZmaaVhMAAACA8oMRMBPlLThpsVhKfAyXy2P6Sjj+XIEHAACgsmIVxCsTI2ClKCwsTFLhI1x5I2R57QAAAABULgSwUlSvXj1JUnJycoH7Dxw4IEmKjY01qyQAAAAA5QgBrBS1a9dOkrR582Z5PB6ffVlZWdqxY4eCg4PVrFkzf5QHAAAAwM8IYKXouuuuU+fOnXX48GHNnTvXZ9+0adOUk5Ojfv36KTSU1QQBAACAyshi5K0MgVKRkpKiQYMGKTU1Vbfffrvq16+vH374QVu3blVMTIzmz5+vqKioEh/f6XSzCAcAAEAlwCIcVyYCWBk4evSopk6dqk2bNik9PV01atTQ7bffrscff1yRkZGXdWwCGAAAQOVAALsyEcAqGMMw5HJ5Lt6wFOW9iM/s8wIAAFRm/rwHs9msl/XqJBSOAAYAAAAAJmERDgAAAAAwCQEMAAAAAExCAAMAAAAAkxDAAAAAAMAkBDAAAAAAMAkBDAAAAABMQgADAAAAAJMQwAAAAADAJAQwAAAAADAJAQwAAAAATEIAAwAAAACTEMAAAAAAwCQEMAAAAAAwCQEMAAAAAExCAIMkacaMGWrQoIEaNGig/fv3F6vPsmXLvH02b95cxhUCAABceYpzD7Zo0SJvmwv/16JFCw0YMEDvvfeezp49a3LlKCkCGGQYhj7//HNZLBZJ0meffVasfgsXLvT2WbhwYZnVBwAAcCW61Huwhg0b6vHHH9fjjz+uRx99VHfeeadOnjypyZMna8SIEXK73WaUjctEAIM2b96sQ4cOacCAAYqOjtbixYuVm5tbZJ/9+/crISFBHTp0UOPGjbV+/XqdOnXKpIoBAAAqvku9B2vUqJHGjBmjMWPGaNy4cfrb3/6mVatWqWbNmtq2bZu2bdtmYvUoKQIYvH9tuffee3XXXXfp9OnTWrt2bbH63H333RowYICcTqcWLVpU5rUCAABcKUpyD/ZHERERatKkiSQpLS2t1GtE6SOAVXKnTp3S+vXrFRMTo5YtW+ruu++WJC1YsKDQPrm5uVq8eLHCwsLUvXt33XnnnbLb7fr8889lGIZZpQMAAFRYJbkHK0hmZqZ+/PFHWa1W3XjjjWVRKkqZzd8FwL8WLVokp9Pp/Y8+Li5OjRs31tatW3XgwAHVrVs3X581a9bo9OnT+p//+R8FBwcrODhYt912m7766itt2bJFHTp0MPsyAAAAKpSS3IMlJiZq2rRpkiSPx6PU1FR9/fXXysrK0sSJEwvsg/KHEbBKzDAMffbZZ7Jarerfv793+4ABA7z7CpL3l5kBAwb49JFYjAMAAOBiSnoP9uuvv+qdd97RO++8o3fffVcLFizQiRMn1LVrV7Vv396k6nG5CGCV2JYtW5SSkqKOHTvq6quv9m7Pm1K4ePFiOZ1Onz4HDhxQfHy8YmNj1aJFC+/2W265RdHR0VqzZg3zjwEAAIpQknsw6XxA++2337z/+/bbb/XGG29o8+bNuvfee/Xzzz+beRkoIQJYJZY3kpU39J0nKipKXbt21alTp7Ru3TqffQsXLpRhGPn62Gw29e3bV06nU4sXLy7bwgEAACqwktyDFSQ6Olp9+/bVU089pezsbL311ltlUi9Kl8Vg1YRKKS0tTbfcckuBf125UKdOnfTRRx9JkpxOp7p06aLU1NQi+8TExOjLL78stVoBAACuFCW5B1u0aJEmTJigAQMG6PXXX8/X9rffflPfvn0VERGhhISEMqkbpYdFOCqpvKHtxo0bq1GjRgW2Wb9+vb777jsdPHhQderU0bp165SamqrY2Fi1atWqwD5bt25VcnKy4uPj1bZt27K8BAAAgAqnJPdgF5ORkSHp/MIcKP8IYJVU3sOdL730kpo2bVpgm7ffflszZszQ559/rieffNK7wMbYsWPVu3fvQo87ceJELViwgAAGAADwByW5ByuK2+3W7NmzJYl7rwqCKYiV0NatWzVs2DDFxcVp+fLlhbY7dOiQunXrpujoaH3yySfq2bOnIiMjtXHjRgUGBhbYJycnR507d5bT6dSmTZsUGRlZRlcBAABQsZTkHmzDhg1atmyZJkyYoIYNG6pbt27edqmpqdqyZYuSkpIUFRWlTz/9VPXq1TPjUnAZGAGrhPJGsu69994i29WuXVsdO3bUt99+q8cee0yGYahfv36Fhi9JCg0NVZ8+fbRw4UItWbJEDz74YGmWDgAAUGGV5B7s66+/9m7/9ddf9euvv3o/BwUFqVatWho2bJhGjBjhs6Iiyi9GwAAAAADAJCxDDwAAAAAmIYABAAAAgEkIYAAAAABgEgIYAAAAAJiEAAYAAAAAJiGAAQAAAIBJCGAAAAAAYBICGAAAAACYhAAGAAAAACYhgAEAAACASQhgAAAAAGASAhgAAJegQYMGGjp0qL/LAABUUAQwAAAAADAJAQwAAAAATEIAAwAAAACT2PxdAADgyrRu3TrNnj1b+/btU3p6uiIjIxUTE6NevXrp/vvvlyT99NNPWrJkieLj43Xs2DGdPXtWNWvWVNeuXfXII4+oatWqPsdctGiRJkyYoEmTJunqq6/W9OnTlZiYqKCgIN12222aMGGCIiIi9Msvv2jKlCnasWOHXC6X2rVrp4kTJ6p27do+xxs6dKji4+P1448/avr06Vq+fLlOnDiha665Rv3799eoUaMUGBhYrOt1uVxasGCBli5dqr1798rtdis2Nlb33HOP7rvvPlmt/M0TAMAIGACgDCxYsECPPvqo9u3bp9tuu03Dhw9Xly5ddO7cOS1atMjbbuHChVq1apViY2N19913a9CgQapRo4Y+/vhjDR48WFlZWQUef/369Ro9erSqVaumQYMGKSYmRosWLdJjjz2mXbt26b777pPL5dI999yjli1b6uuvv9bo0aPl8XgKPN64ceP0xRdfqGvXrhoyZIgsFoumTZumsWPHyjCMi16v0+nU6NGj9fLLLysjI0N33nmn/vSnP8nj8ehvf/ubnn322ZJ9kQCAKw4jYACAUrdgwQLZ7XYtXbpU1atX99mXlpbm/ffo0aP14osvKiAgwKfNZ599pokTJ+rTTz/VqFGj8h1//fr1mjlzptq2bStJ8ng8evjhh/Xdd99p1KhRevnll9W3b19v++eff15ffPGF1q9fr27duuU73v79+7Vy5UrviNuTTz6pYcOG6euvv9bSpUvVv3//Iq/3vffe0+bNmzVkyBA9//zz3utxu9164YUX9MUXX6hHjx4FnhsAULkwAgYAKBM2m002W/6/81WrVs3771q1auULX5J0zz33KCwsTJs3by7w2H369PGGL0myWq3q16+fJOmGG27wCV+SvAHq119/LfB4f5zuGBQUpD//+c+SpC+++KLAPnk8Ho8++eQT1ahRQxMmTPC5noCAAD333HOyWCxavnx5kccBAFQOjIABAErdXXfdpddff119+vRR79691bZtW7Vs2dInfEnnp+4tWLBAK1eu1L59+5SZmekzTfD48eMFHv+mm27Kt+2qq66SJDVu3DjfvquvvlqSdOzYsQKPd2GYy9O6dWvZbDYlJiYWcpXnJSUlKT09XTExMZoxY0aBbYKDg7V///4ijwMAqBwIYACAUvfQQw8pKipKn376qebMmaNZs2bJYrGoTZs2euaZZ9SkSRNJ56f6rVmzRnXq1NHtt9+u6Oho76IXs2bNktPpLPD44eHh+bbljTwVtc/lchV4vOjo6AL7REZGKjU1tchrTU9PlyQlJyfrnXfeKbRddnZ2kccBAFQOBDAAQJno37+/+vfvr4yMDO3cuVNr1qzRF198oREjRmjVqlU6cuSI1qxZo44dO+qDDz6Q3W739vV4PPrXv/5lWq2nTp3Stdde67PN7XYrPT1dYWFhRfbNC3zdu3cvMoABACARwAAAZSwiIkJdunRRly5d5PF49MUXX2jbtm3e0aiuXbv6hC9J2r17t86dO2dajfHx8fkW2sirsVGjRkX2rVevniIiIrRr1y45nc581wIAwIVYhAMAUOo2btxY4HS/vBUQg4ODVatWLUnnw8+FUlNT9fLLL5d9kReYMWOGzpw54/3scDj01ltvSZIGDhxYZF+bzaYhQ4bo5MmTeuWVVwoMjidOnNDevXtLt2gAQIXECBgAoNT9+c9/VlBQkFq1aqVatWrJMAxt27ZNP/74oxo3bqyOHTvKarWqZcuW+uqrrzRo0CC1bNlSqamp2rhxo2JjY72LapihXr166tOnj3r27CmbzaZ169YpJSVFt956q3d1xaI8+uij+vXXXzV//nx9/fXXat++va6++mqlpqbqwIED2rFjh5588kldf/31JlwNAKA8I4ABAErd+PHjtXnzZv3888/65ptvFBQUpGuvvVZPPfWUBg8e7J2mN2PGDL399tvauHGj5syZo6uvvlr33nuvHnnkEfXp08e0eqdMmaLp06dr+fLlOnHihK6++mqNGTNGo0aNksViuWh/u92ud999V0uXLtXixYu1YcMG5eTkKCoqSrVr19a4ceN01113mXAlAIDyzmIYhuHvIgAA8IehQ4cqPj5ev/32m79LAQBUEjwDBgAAAAAmIYABAAAAgEkIYAAAAABgEp4BAwAAAACTMAIGAAAAACYhgAEAAACASQhgAAAAAGASAhgAAAAAmIQABgAAAAAmIYABAAAAgEkIYAAAAABgEgIYAAAAAJiEAAYAAAAAJiGAAQAAAIBJCGAAAAAAYJL/B4j8pUX9yOnQAAAAAElFTkSuQmCC&quot; width=&quot;432px&quot; height=&quot;288px&quot; alt=&quot;&quot;&gt;&lt;/img&gt;\",\"width\":432},\"id\":\"1081\",\"type\":\"panel.models.markup.HTML\"},{\"attributes\":{\"margin\":[0,20,0,0],\"options\":[\"O. barthii\"],\"placeholder\":\"\",\"title\":\"Group\"},\"id\":\"1083\",\"type\":\"MultiChoice\"},{\"attributes\":{\"margin\":[5,5,5,5],\"name\":\"Str00233\"},\"id\":\"1086\",\"type\":\"panel.models.markup.HTML\"},{\"attributes\":{\"margin\":[5,5,5,5],\"name\":\"DataFrame00220\",\"text\":\"&lt;table border=&quot;0&quot; class=&quot;dataframe panel-df&quot;&gt;\\n  &lt;thead&gt;\\n    &lt;tr&gt;\\n      &lt;th&gt;&lt;/th&gt;\\n      &lt;th colspan=&quot;3&quot; halign=&quot;left&quot;&gt;PAIRED&lt;/th&gt;\\n    &lt;/tr&gt;\\n    &lt;tr&gt;\\n      &lt;th&gt;&lt;/th&gt;\\n      &lt;th&gt;mean&lt;/th&gt;\\n      &lt;th&gt;min&lt;/th&gt;\\n      &lt;th&gt;max&lt;/th&gt;\\n    &lt;/tr&gt;\\n    &lt;tr&gt;\\n      &lt;th&gt;Species&lt;/th&gt;\\n      &lt;th&gt;&lt;/th&gt;\\n      &lt;th&gt;&lt;/th&gt;\\n      &lt;th&gt;&lt;/th&gt;\\n    &lt;/tr&gt;\\n  &lt;/thead&gt;\\n  &lt;tbody&gt;\\n    &lt;tr&gt;\\n      &lt;th&gt;O. barthii&lt;/th&gt;\\n      &lt;td&gt;76.105&lt;/td&gt;\\n      &lt;td&gt;73.76&lt;/td&gt;\\n      &lt;td&gt;78.45&lt;/td&gt;\\n    &lt;/tr&gt;\\n  &lt;/tbody&gt;\\n&lt;/table&gt;\",\"width\":400},\"id\":\"1076\",\"type\":\"panel.models.markup.HTML\"},{\"attributes\":{\"client_comm_id\":\"7e113ee793e84290b19d9ba5ec3ce87c\",\"comm_id\":\"b3f9db42a30344d6b3577d3f551b018d\",\"plot_id\":\"1066\"},\"id\":\"1087\",\"type\":\"panel.models.comm_manager.CommManager\"},{\"attributes\":{\"children\":[{\"id\":\"1083\"},{\"id\":\"1084\"}],\"margin\":[0,0,0,0],\"name\":\"Row00230\"},\"id\":\"1082\",\"type\":\"Row\"},{\"attributes\":{\"css_classes\":[\"markdown\"],\"margin\":[5,5,5,5],\"name\":\"Markdown00222\",\"text\":\"&lt;p&gt;&lt;br /&gt;&lt;/p&gt;\\n&lt;ul&gt;\\n&lt;li&gt;min - max : 73.76 - 78.45 %&lt;/li&gt;\\n&lt;li&gt;mean : 76.1&lt;/li&gt;\\n&lt;/ul&gt;\"},\"id\":\"1075\",\"type\":\"panel.models.markup.HTML\"},{\"attributes\":{\"margin\":[0,20,0,0],\"options\":[\"AA\",\"AB\"],\"placeholder\":\"\",\"title\":\"Sample\"},\"id\":\"1084\",\"type\":\"MultiChoice\"}],\"root_ids\":[\"1066\",\"1087\"]},\"title\":\"Bokeh Application\",\"version\":\"2.3.3\"}};\n",
       "    var render_items = [{\"docid\":\"39d5f1ce-164a-4898-b84e-d9b9c04c9c99\",\"root_ids\":[\"1066\"],\"roots\":{\"1066\":\"0e2e01e9-4b23-4bc0-b57a-3a1656f92e03\"}}];\n",
       "    root.Bokeh.embed.embed_items_notebook(docs_json, render_items);\n",
       "  }\n",
       "  if (root.Bokeh !== undefined && root.Bokeh.Panel !== undefined) {\n",
       "    embed_document(root);\n",
       "  } else {\n",
       "    var attempts = 0;\n",
       "    var timer = setInterval(function(root) {\n",
       "      if (root.Bokeh !== undefined && root.Bokeh.Panel !== undefined) {\n",
       "        clearInterval(timer);\n",
       "        embed_document(root);\n",
       "      } else if (document.readyState == \"complete\") {\n",
       "        attempts++;\n",
       "        if (attempts > 100) {\n",
       "          clearInterval(timer);\n",
       "          console.log(\"Bokeh: ERROR: Unable to run BokehJS code because BokehJS library is missing\");\n",
       "        }\n",
       "      }\n",
       "    }, 10, root)\n",
       "  }\n",
       "})(window);</script>"
      ],
      "text/plain": [
       "Column(background='WhiteSmoke', sizing_mode='stretch_both', width=800)\n",
       "    [0] Markdown(str)\n",
       "    [1] Markdown(str)\n",
       "    [2] Markdown(str)\n",
       "    [3] Row\n",
       "        [0] Markdown(str)\n",
       "        [1] DataFrame(DataFrame, width=400)\n",
       "    [4] Markdown(str)\n",
       "    [5] Row\n",
       "        [0] Markdown(str)\n",
       "        [1] DataFrame(DataFrame, width=400)\n",
       "    [6] Markdown(str)\n",
       "    [7] Row\n",
       "        [0] Markdown(str)\n",
       "        [1] DataFrame(DataFrame, width=400)\n",
       "    [8] Matplotlib(Figure)\n",
       "    [9] Row\n",
       "        [0] MultiChoice(margin=(0, 20, 0, 0), name='Group', options=['O. barthii'])\n",
       "        [1] MultiChoice(margin=(0, 20, 0, 0), name='Sample', options=['AA', 'AB'])\n",
       "    [10] ParamFunction(function, max_height=400, width=400)"
      ]
     },
     "metadata": {
      "application/vnd.holoviews_exec.v0+json": {
       "id": "1066"
      }
     },
     "output_type": "display_data"
    }
   ],
   "source": [
    "bgc('LightBlue')\n",
    "\n",
    "#output_mapping_dir = output_dir + \"/01-mapping_against_reference/\"\n",
    "#stat_dir = output_mapping_dir + \"/stat/\"\n",
    "stat_file = stat_dir + \"all_flagstat.csv\"\n",
    "dashboard_flagstat(stat_file,df_group)"
   ]
  },
  {
   "cell_type": "markdown",
   "metadata": {},
   "source": [
    "[<img src=\"Images/up-arrow.png\" alt=\"Top\" width=2% align=\"right\">](#home \"Go back to the top\")\n",
    "\n",
    "\n",
    "### <span style=\"color: #919395\">3 - Assembly of the individuals' reads that do not map (properly) on the reference genome <a class=\"anchor\" id=\"assembly\"></a></span>\n",
    "\n",
    "#### __Creating assembly directory__"
   ]
  },
  {
   "cell_type": "code",
   "execution_count": 11,
   "metadata": {},
   "outputs": [
    {
     "data": {
      "text/html": [
       "<img src onerror=\"var cell = this.closest('.jp-CodeCell');var editor = cell.querySelector('.jp-Editor');editor.style.background='LightBlue';this.parentNode.removeChild(this)\">"
      ],
      "text/plain": [
       "<IPython.core.display.HTML object>"
      ]
     },
     "metadata": {},
     "output_type": "display_data"
    },
    {
     "data": {},
     "metadata": {},
     "output_type": "display_data"
    },
    {
     "data": {
      "application/vnd.holoviews_exec.v0+json": "",
      "text/html": [
       "<div id='1102'>\n",
       "\n",
       "\n",
       "\n",
       "\n",
       "\n",
       "  <div class=\"bk-root\" id=\"796fe1ad-0c56-4854-960a-9381276e7be5\" data-root-id=\"1102\"></div>\n",
       "</div>\n",
       "<script type=\"application/javascript\">(function(root) {\n",
       "  function embed_document(root) {\n",
       "    var docs_json = {\"b1581d16-2eef-4c93-938e-ab5cf3c52309\":{\"defs\":[],\"roots\":{\"references\":[{\"attributes\":{\"css_classes\":[\"alert\",\"alert-warning\",\"markdown\"],\"margin\":[0,0,25,0],\"name\":\"Alert00265\",\"sizing_mode\":\"stretch_width\",\"text\":\"&lt;h3&gt;warning&lt;/h3&gt;\\n&lt;hr&gt;\\n&lt;p&gt;Directory /home/christine/Documents/These/frangiPANeGIT/frangiPANe_rice/02-assembly_unmapped_reads/ already existed&lt;/p&gt;\"},\"id\":\"1102\",\"type\":\"panel.models.markup.HTML\"},{\"attributes\":{\"client_comm_id\":\"b238bf2fedd14cf0900935d0ca01a436\",\"comm_id\":\"6d99452e36254617b0102122f8ecdd5a\",\"plot_id\":\"1102\"},\"id\":\"1103\",\"type\":\"panel.models.comm_manager.CommManager\"}],\"root_ids\":[\"1102\",\"1103\"]},\"title\":\"Bokeh Application\",\"version\":\"2.3.3\"}};\n",
       "    var render_items = [{\"docid\":\"b1581d16-2eef-4c93-938e-ab5cf3c52309\",\"root_ids\":[\"1102\"],\"roots\":{\"1102\":\"796fe1ad-0c56-4854-960a-9381276e7be5\"}}];\n",
       "    root.Bokeh.embed.embed_items_notebook(docs_json, render_items);\n",
       "  }\n",
       "  if (root.Bokeh !== undefined && root.Bokeh.Panel !== undefined) {\n",
       "    embed_document(root);\n",
       "  } else {\n",
       "    var attempts = 0;\n",
       "    var timer = setInterval(function(root) {\n",
       "      if (root.Bokeh !== undefined && root.Bokeh.Panel !== undefined) {\n",
       "        clearInterval(timer);\n",
       "        embed_document(root);\n",
       "      } else if (document.readyState == \"complete\") {\n",
       "        attempts++;\n",
       "        if (attempts > 100) {\n",
       "          clearInterval(timer);\n",
       "          console.log(\"Bokeh: ERROR: Unable to run BokehJS code because BokehJS library is missing\");\n",
       "        }\n",
       "      }\n",
       "    }, 10, root)\n",
       "  }\n",
       "})(window);</script>"
      ],
      "text/plain": [
       "Alert(str, alert_type='warning', css_classes=['alert', 'alert-warning']...], margin=(0, 0, 25, 0), sizing_mode='stretch_width')"
      ]
     },
     "metadata": {
      "application/vnd.holoviews_exec.v0+json": {
       "id": "1102"
      }
     },
     "output_type": "display_data"
    },
    {
     "data": {},
     "metadata": {},
     "output_type": "display_data"
    },
    {
     "data": {
      "application/vnd.holoviews_exec.v0+json": "",
      "text/html": [
       "<div id='1104'>\n",
       "\n",
       "\n",
       "\n",
       "\n",
       "\n",
       "  <div class=\"bk-root\" id=\"e65c3886-1096-4c08-83ce-d624aafaf695\" data-root-id=\"1104\"></div>\n",
       "</div>\n",
       "<script type=\"application/javascript\">(function(root) {\n",
       "  function embed_document(root) {\n",
       "    var docs_json = {\"63439b99-16cd-4f4c-b417-1e3d319df5fa\":{\"defs\":[],\"roots\":{\"references\":[{\"attributes\":{\"css_classes\":[\"alert\",\"alert-warning\",\"markdown\"],\"margin\":[0,0,25,0],\"name\":\"Alert00269\",\"sizing_mode\":\"stretch_width\",\"text\":\"&lt;h3&gt;warning&lt;/h3&gt;\\n&lt;hr&gt;\\n&lt;p&gt;Directory /home/christine/Documents/These/frangiPANeGIT/frangiPANe_rice/02-assembly_unmapped_reads/bam_F0x2/ already existed&lt;/p&gt;\"},\"id\":\"1104\",\"type\":\"panel.models.markup.HTML\"},{\"attributes\":{\"client_comm_id\":\"f73cd72baaae432fa3fb4637a66a66b4\",\"comm_id\":\"d60ff7489ce6403faa3077c7243a8746\",\"plot_id\":\"1104\"},\"id\":\"1105\",\"type\":\"panel.models.comm_manager.CommManager\"}],\"root_ids\":[\"1104\",\"1105\"]},\"title\":\"Bokeh Application\",\"version\":\"2.3.3\"}};\n",
       "    var render_items = [{\"docid\":\"63439b99-16cd-4f4c-b417-1e3d319df5fa\",\"root_ids\":[\"1104\"],\"roots\":{\"1104\":\"e65c3886-1096-4c08-83ce-d624aafaf695\"}}];\n",
       "    root.Bokeh.embed.embed_items_notebook(docs_json, render_items);\n",
       "  }\n",
       "  if (root.Bokeh !== undefined && root.Bokeh.Panel !== undefined) {\n",
       "    embed_document(root);\n",
       "  } else {\n",
       "    var attempts = 0;\n",
       "    var timer = setInterval(function(root) {\n",
       "      if (root.Bokeh !== undefined && root.Bokeh.Panel !== undefined) {\n",
       "        clearInterval(timer);\n",
       "        embed_document(root);\n",
       "      } else if (document.readyState == \"complete\") {\n",
       "        attempts++;\n",
       "        if (attempts > 100) {\n",
       "          clearInterval(timer);\n",
       "          console.log(\"Bokeh: ERROR: Unable to run BokehJS code because BokehJS library is missing\");\n",
       "        }\n",
       "      }\n",
       "    }, 10, root)\n",
       "  }\n",
       "})(window);</script>"
      ],
      "text/plain": [
       "Alert(str, alert_type='warning', css_classes=['alert', 'alert-warning']...], margin=(0, 0, 25, 0), sizing_mode='stretch_width')"
      ]
     },
     "metadata": {
      "application/vnd.holoviews_exec.v0+json": {
       "id": "1104"
      }
     },
     "output_type": "display_data"
    }
   ],
   "source": [
    "bgc('LightBlue')\n",
    "\n",
    "output_assembly_dir = output_dir + \"/02-assembly_unmapped_reads/\"\n",
    "make_dir(output_assembly_dir)\n",
    "make_dir(output_assembly_dir + \"bam_F0x2/\")"
   ]
  },
  {
   "cell_type": "markdown",
   "metadata": {},
   "source": [
    "#### __Filtering .bam files with `samtools view`__ \n",
    "\n",
    "Options de samtools view : -b -h -F -@ -o"
   ]
  },
  {
   "cell_type": "code",
   "execution_count": 14,
   "metadata": {},
   "outputs": [
    {
     "data": {
      "text/html": [
       "<img src onerror=\"var cell = this.closest('.jp-CodeCell');var editor = cell.querySelector('.jp-Editor');editor.style.background='LightBlue';this.parentNode.removeChild(this)\">"
      ],
      "text/plain": [
       "<IPython.core.display.HTML object>"
      ]
     },
     "metadata": {},
     "output_type": "display_data"
    },
    {
     "data": {},
     "metadata": {},
     "output_type": "display_data"
    },
    {
     "data": {
      "application/vnd.holoviews_exec.v0+json": "",
      "text/html": [
       "<div id='1100'>\n",
       "\n",
       "\n",
       "\n",
       "\n",
       "\n",
       "  <div class=\"bk-root\" id=\"36a1c671-9ee3-4fc8-b7e0-671c4f96dc10\" data-root-id=\"1100\"></div>\n",
       "</div>\n",
       "<script type=\"application/javascript\">(function(root) {\n",
       "  function embed_document(root) {\n",
       "    var docs_json = {\"3bd295f3-4beb-46c5-b6ff-7b071a92e118\":{\"defs\":[],\"roots\":{\"references\":[{\"attributes\":{\"client_comm_id\":\"f35f25db5a2a4b5dabc1ec3e3032ce38\",\"comm_id\":\"a9692aa9646f4abcb58249031f8a16dd\",\"plot_id\":\"1100\"},\"id\":\"1101\",\"type\":\"panel.models.comm_manager.CommManager\"},{\"attributes\":{\"css_classes\":[\"alert\",\"alert-warning\",\"markdown\"],\"margin\":[0,0,25,0],\"name\":\"Alert00270\",\"sizing_mode\":\"stretch_width\",\"text\":\"&lt;p&gt;File /home/christine/Documents/These/frangiPANeGIT/frangiPANe_rice/02-assembly_unmapped_reads/bam_F0x2/AA_F0x2.bam already existed&lt;/p&gt;\"},\"id\":\"1100\",\"type\":\"panel.models.markup.HTML\"}],\"root_ids\":[\"1100\",\"1101\"]},\"title\":\"Bokeh Application\",\"version\":\"2.3.3\"}};\n",
       "    var render_items = [{\"docid\":\"3bd295f3-4beb-46c5-b6ff-7b071a92e118\",\"root_ids\":[\"1100\"],\"roots\":{\"1100\":\"36a1c671-9ee3-4fc8-b7e0-671c4f96dc10\"}}];\n",
       "    root.Bokeh.embed.embed_items_notebook(docs_json, render_items);\n",
       "  }\n",
       "  if (root.Bokeh !== undefined && root.Bokeh.Panel !== undefined) {\n",
       "    embed_document(root);\n",
       "  } else {\n",
       "    var attempts = 0;\n",
       "    var timer = setInterval(function(root) {\n",
       "      if (root.Bokeh !== undefined && root.Bokeh.Panel !== undefined) {\n",
       "        clearInterval(timer);\n",
       "        embed_document(root);\n",
       "      } else if (document.readyState == \"complete\") {\n",
       "        attempts++;\n",
       "        if (attempts > 100) {\n",
       "          clearInterval(timer);\n",
       "          console.log(\"Bokeh: ERROR: Unable to run BokehJS code because BokehJS library is missing\");\n",
       "        }\n",
       "      }\n",
       "    }, 10, root)\n",
       "  }\n",
       "})(window);</script>"
      ],
      "text/plain": [
       "Alert(str, alert_type='warning', css_classes=['alert', 'alert-warning']...], margin=(0, 0, 25, 0), sizing_mode='stretch_width')"
      ]
     },
     "metadata": {
      "application/vnd.holoviews_exec.v0+json": {
       "id": "1100"
      }
     },
     "output_type": "display_data"
    },
    {
     "data": {},
     "metadata": {},
     "output_type": "display_data"
    },
    {
     "data": {
      "application/vnd.holoviews_exec.v0+json": "",
      "text/html": [
       "<div id='1102'>\n",
       "\n",
       "\n",
       "\n",
       "\n",
       "\n",
       "  <div class=\"bk-root\" id=\"1d937000-2782-43f5-9c0c-6f7d775df1ba\" data-root-id=\"1102\"></div>\n",
       "</div>\n",
       "<script type=\"application/javascript\">(function(root) {\n",
       "  function embed_document(root) {\n",
       "    var docs_json = {\"9312878d-e74f-43a6-b0ef-fccc6db12b62\":{\"defs\":[],\"roots\":{\"references\":[{\"attributes\":{\"css_classes\":[\"alert\",\"alert-warning\",\"markdown\"],\"margin\":[0,0,25,0],\"name\":\"Alert00274\",\"sizing_mode\":\"stretch_width\",\"text\":\"&lt;p&gt;File /home/christine/Documents/These/frangiPANeGIT/frangiPANe_rice/02-assembly_unmapped_reads/bam_F0x2/AB_F0x2.bam already existed&lt;/p&gt;\"},\"id\":\"1102\",\"type\":\"panel.models.markup.HTML\"},{\"attributes\":{\"client_comm_id\":\"a3a0cfd80e884d21b79780f11ffe0064\",\"comm_id\":\"88235d2277884de1b3ad6d962325197a\",\"plot_id\":\"1102\"},\"id\":\"1103\",\"type\":\"panel.models.comm_manager.CommManager\"}],\"root_ids\":[\"1102\",\"1103\"]},\"title\":\"Bokeh Application\",\"version\":\"2.3.3\"}};\n",
       "    var render_items = [{\"docid\":\"9312878d-e74f-43a6-b0ef-fccc6db12b62\",\"root_ids\":[\"1102\"],\"roots\":{\"1102\":\"1d937000-2782-43f5-9c0c-6f7d775df1ba\"}}];\n",
       "    root.Bokeh.embed.embed_items_notebook(docs_json, render_items);\n",
       "  }\n",
       "  if (root.Bokeh !== undefined && root.Bokeh.Panel !== undefined) {\n",
       "    embed_document(root);\n",
       "  } else {\n",
       "    var attempts = 0;\n",
       "    var timer = setInterval(function(root) {\n",
       "      if (root.Bokeh !== undefined && root.Bokeh.Panel !== undefined) {\n",
       "        clearInterval(timer);\n",
       "        embed_document(root);\n",
       "      } else if (document.readyState == \"complete\") {\n",
       "        attempts++;\n",
       "        if (attempts > 100) {\n",
       "          clearInterval(timer);\n",
       "          console.log(\"Bokeh: ERROR: Unable to run BokehJS code because BokehJS library is missing\");\n",
       "        }\n",
       "      }\n",
       "    }, 10, root)\n",
       "  }\n",
       "})(window);</script>"
      ],
      "text/plain": [
       "Alert(str, alert_type='warning', css_classes=['alert', 'alert-warning']...], margin=(0, 0, 25, 0), sizing_mode='stretch_width')"
      ]
     },
     "metadata": {
      "application/vnd.holoviews_exec.v0+json": {
       "id": "1102"
      }
     },
     "output_type": "display_data"
    },
    {
     "data": {},
     "metadata": {},
     "output_type": "display_data"
    },
    {
     "data": {
      "application/vnd.holoviews_exec.v0+json": "",
      "text/html": [
       "<div id='1104'>\n",
       "\n",
       "\n",
       "\n",
       "\n",
       "\n",
       "  <div class=\"bk-root\" id=\"992ae325-83a3-405d-b54b-6768813f412d\" data-root-id=\"1104\"></div>\n",
       "</div>\n",
       "<script type=\"application/javascript\">(function(root) {\n",
       "  function embed_document(root) {\n",
       "    var docs_json = {\"f82b9dd8-252d-4502-9c1e-2807c0af6cf1\":{\"defs\":[],\"roots\":{\"references\":[{\"attributes\":{\"css_classes\":[\"alert\",\"alert-secondary\",\"markdown\"],\"margin\":[0,0,25,0],\"name\":\"Alert00278\",\"sizing_mode\":\"stretch_width\",\"text\":\"&lt;p&gt;FILTERING BAM FOR (/home/christine/Documents/These/frangiPANeGIT/frangiPANe_rice/01-mapping_against_reference/DT.bam)&amp;hellip; samtools view in progress&lt;/p&gt;\"},\"id\":\"1104\",\"type\":\"panel.models.markup.HTML\"},{\"attributes\":{\"client_comm_id\":\"36949fee85b24d618182ff00aafdfc6b\",\"comm_id\":\"e37a58e3f24544d7a0009d1e7ee4f6dd\",\"plot_id\":\"1104\"},\"id\":\"1105\",\"type\":\"panel.models.comm_manager.CommManager\"}],\"root_ids\":[\"1104\",\"1105\"]},\"title\":\"Bokeh Application\",\"version\":\"2.3.3\"}};\n",
       "    var render_items = [{\"docid\":\"f82b9dd8-252d-4502-9c1e-2807c0af6cf1\",\"root_ids\":[\"1104\"],\"roots\":{\"1104\":\"992ae325-83a3-405d-b54b-6768813f412d\"}}];\n",
       "    root.Bokeh.embed.embed_items_notebook(docs_json, render_items);\n",
       "  }\n",
       "  if (root.Bokeh !== undefined && root.Bokeh.Panel !== undefined) {\n",
       "    embed_document(root);\n",
       "  } else {\n",
       "    var attempts = 0;\n",
       "    var timer = setInterval(function(root) {\n",
       "      if (root.Bokeh !== undefined && root.Bokeh.Panel !== undefined) {\n",
       "        clearInterval(timer);\n",
       "        embed_document(root);\n",
       "      } else if (document.readyState == \"complete\") {\n",
       "        attempts++;\n",
       "        if (attempts > 100) {\n",
       "          clearInterval(timer);\n",
       "          console.log(\"Bokeh: ERROR: Unable to run BokehJS code because BokehJS library is missing\");\n",
       "        }\n",
       "      }\n",
       "    }, 10, root)\n",
       "  }\n",
       "})(window);</script>"
      ],
      "text/plain": [
       "Alert(str, alert_type='secondary', css_classes=['alert', 'alert-secondary...], margin=(0, 0, 25, 0), sizing_mode='stretch_width')"
      ]
     },
     "metadata": {
      "application/vnd.holoviews_exec.v0+json": {
       "id": "1104"
      }
     },
     "output_type": "display_data"
    },
    {
     "data": {},
     "metadata": {},
     "output_type": "display_data"
    },
    {
     "data": {
      "application/vnd.holoviews_exec.v0+json": "",
      "text/html": [
       "<div id='1106'>\n",
       "\n",
       "\n",
       "\n",
       "\n",
       "\n",
       "  <div class=\"bk-root\" id=\"5fd737a3-072d-431b-a3d6-de2d9bdabb66\" data-root-id=\"1106\"></div>\n",
       "</div>\n",
       "<script type=\"application/javascript\">(function(root) {\n",
       "  function embed_document(root) {\n",
       "    var docs_json = {\"950e1d79-82c4-445c-9609-7def09c5a9fc\":{\"defs\":[],\"roots\":{\"references\":[{\"attributes\":{\"client_comm_id\":\"7d6a0d82553a40ca8b9e86ea5c5ad906\",\"comm_id\":\"899cfa383fe54d68b657c9a9397dff8f\",\"plot_id\":\"1106\"},\"id\":\"1107\",\"type\":\"panel.models.comm_manager.CommManager\"},{\"attributes\":{\"css_classes\":[\"alert\",\"alert-danger\",\"markdown\"],\"margin\":[0,0,25,0],\"name\":\"Alert00282\",\"sizing_mode\":\"stretch_width\",\"text\":\"&lt;p&gt;FAILED EXECUTION : samtools view -b -h -F 0x2 -o /home/christine/Documents/These/frangiPANeGIT/frangiPANe_rice/02-assembly_unmapped_reads/bam_F0x2/DT_F0x2.bam -@ 6 /home/christine/Documents/These/frangiPANeGIT/frangiPANe_rice/01-mapping_against_reference/DT.bam&lt;/p&gt;\\n&lt;p&gt;[E::hts_open_format] Failed to open file &amp;ldquo;/home/christine/Documents/These/frangiPANeGIT/frangiPANe_rice/01-mapping_against_reference/DT.bam&amp;rdquo; : No such file or directory\\nsamtools view: failed to open &amp;ldquo;/home/christine/Documents/These/frangiPANeGIT/frangiPANe_rice/01-mapping_against_reference/DT.bam&amp;rdquo; for reading: No such file or directory&lt;/p&gt;\"},\"id\":\"1106\",\"type\":\"panel.models.markup.HTML\"}],\"root_ids\":[\"1106\",\"1107\"]},\"title\":\"Bokeh Application\",\"version\":\"2.3.3\"}};\n",
       "    var render_items = [{\"docid\":\"950e1d79-82c4-445c-9609-7def09c5a9fc\",\"root_ids\":[\"1106\"],\"roots\":{\"1106\":\"5fd737a3-072d-431b-a3d6-de2d9bdabb66\"}}];\n",
       "    root.Bokeh.embed.embed_items_notebook(docs_json, render_items);\n",
       "  }\n",
       "  if (root.Bokeh !== undefined && root.Bokeh.Panel !== undefined) {\n",
       "    embed_document(root);\n",
       "  } else {\n",
       "    var attempts = 0;\n",
       "    var timer = setInterval(function(root) {\n",
       "      if (root.Bokeh !== undefined && root.Bokeh.Panel !== undefined) {\n",
       "        clearInterval(timer);\n",
       "        embed_document(root);\n",
       "      } else if (document.readyState == \"complete\") {\n",
       "        attempts++;\n",
       "        if (attempts > 100) {\n",
       "          clearInterval(timer);\n",
       "          console.log(\"Bokeh: ERROR: Unable to run BokehJS code because BokehJS library is missing\");\n",
       "        }\n",
       "      }\n",
       "    }, 10, root)\n",
       "  }\n",
       "})(window);</script>"
      ],
      "text/plain": [
       "Alert(str, alert_type='danger', css_classes=['alert', 'alert-danger'], margin=(0, 0, 25, 0), sizing_mode='stretch_width')"
      ]
     },
     "metadata": {
      "application/vnd.holoviews_exec.v0+json": {
       "id": "1106"
      }
     },
     "output_type": "display_data"
    }
   ],
   "source": [
    "bgc('LightBlue')\n",
    "\n",
    "for id in id_dict : \n",
    "    bam_to_F0x2_bam(reference_genome=ref_file, \n",
    "                    bam_dir=output_mapping_dir, \n",
    "                    id=id, \n",
    "                    cpu=6, \n",
    "                    output_dir=output_assembly_dir + \"bam_F0x2/\", \n",
    "                    logger=logger)"
   ]
  },
  {
   "cell_type": "markdown",
   "metadata": {},
   "source": [
    "#### __Assembly with ABySS__"
   ]
  },
  {
   "cell_type": "markdown",
   "metadata": {
    "tags": []
   },
   "source": [
    "#### _Choosing optimal k_\n",
    "\n",
    "```control post form```"
   ]
  },
  {
   "cell_type": "code",
   "execution_count": 9,
   "metadata": {},
   "outputs": [
    {
     "data": {
      "text/html": [
       "<img src onerror=\"var cell = this.closest('.jp-CodeCell');var editor = cell.querySelector('.jp-Editor');editor.style.background='LightBlue';this.parentNode.removeChild(this)\">"
      ],
      "text/plain": [
       "<IPython.core.display.HTML object>"
      ]
     },
     "metadata": {},
     "output_type": "display_data"
    },
    {
     "data": {},
     "metadata": {},
     "output_type": "display_data"
    },
    {
     "data": {
      "application/vnd.holoviews_exec.v0+json": "",
      "text/html": [
       "<div id='1088'>\n",
       "\n",
       "\n",
       "\n",
       "\n",
       "\n",
       "  <div class=\"bk-root\" id=\"d2eecaa5-d119-4437-8b8e-662fe62f46c3\" data-root-id=\"1088\"></div>\n",
       "</div>\n",
       "<script type=\"application/javascript\">(function(root) {\n",
       "  function embed_document(root) {\n",
       "    var docs_json = {\"3ef6554c-f256-4610-bd29-90e1287058cc\":{\"defs\":[],\"roots\":{\"references\":[{\"attributes\":{\"margin\":[5,10,5,10],\"options\":[\"AA\",\"AB\",\"DT\"],\"title\":\"Accession\"},\"id\":\"1094\",\"type\":\"MultiSelect\"},{\"attributes\":{\"end\":92,\"margin\":[5,10,5,10],\"start\":24,\"step\":4,\"title\":\"K-mer length\",\"value\":[64,68]},\"id\":\"1092\",\"type\":\"RangeSlider\"},{\"attributes\":{\"children\":[{\"id\":\"1091\"},{\"id\":\"1094\"},{\"id\":\"1095\"},{\"id\":\"1096\"},{\"id\":\"1099\"}],\"margin\":[0,0,0,0],\"min_width\":800,\"name\":\"Column00259\",\"width\":800},\"id\":\"1090\",\"type\":\"Column\"},{\"attributes\":{\"button_type\":\"primary\",\"icon\":null,\"label\":\"SAVE\",\"margin\":[5,10,5,10],\"min_width\":100,\"subscribed_events\":[\"button_click\"],\"width\":100},\"id\":\"1097\",\"type\":\"Button\"},{\"attributes\":{\"client_comm_id\":\"c3c0a37bff9b4d53b05556702ec8d265\",\"comm_id\":\"a70a7308cca9490ab1839ef17f6d44ff\",\"plot_id\":\"1088\"},\"id\":\"1100\",\"type\":\"panel.models.comm_manager.CommManager\"},{\"attributes\":{\"high\":10,\"low\":1,\"margin\":[5,10,5,10],\"mode\":\"int\",\"placeholder\":\"0\",\"title\":\"Step\",\"value\":4,\"value_throttled\":4},\"id\":\"1093\",\"type\":\"Spinner\"},{\"attributes\":{\"children\":[{\"id\":\"1097\"},{\"id\":\"1098\"}],\"margin\":[0,0,0,0],\"name\":\"Row00257\"},\"id\":\"1096\",\"type\":\"Row\"},{\"attributes\":{\"css_classes\":[\"alert\",\"alert-warning\",\"markdown\"],\"height\":200,\"margin\":[0,0,25,0],\"name\":\"Alert00249\",\"sizing_mode\":\"stretch_width\",\"text\":\"&lt;p&gt;No filled&lt;/p&gt;\"},\"id\":\"1099\",\"type\":\"panel.models.markup.HTML\"},{\"attributes\":{\"children\":[{\"id\":\"1092\"},{\"id\":\"1093\"}],\"margin\":[0,0,0,0],\"name\":\"Row00258\"},\"id\":\"1091\",\"type\":\"Row\"},{\"attributes\":{\"button_type\":\"primary\",\"icon\":null,\"label\":\"INIT\",\"margin\":[5,10,5,10],\"min_width\":100,\"subscribed_events\":[\"button_click\"],\"width\":100},\"id\":\"1098\",\"type\":\"Button\"},{\"attributes\":{\"high\":10000,\"low\":100,\"margin\":[5,10,5,10],\"mode\":\"int\",\"placeholder\":\"0\",\"step\":100,\"title\":\"Minimal length to filter\",\"value\":300,\"value_throttled\":300},\"id\":\"1095\",\"type\":\"Spinner\"},{\"attributes\":{\"background\":\"#E3ECF1\",\"children\":[{\"id\":\"1089\"},{\"id\":\"1090\"}],\"css_classes\":[\"panel-widget-box\"],\"margin\":[5,5,5,5],\"name\":\"WidgetBox00262\"},\"id\":\"1088\",\"type\":\"Column\"},{\"attributes\":{\"css_classes\":[\"markdown\"],\"margin\":[5,5,5,5],\"name\":\"Markdown00260\",\"text\":\"&lt;h1&gt;INPUT FORM&lt;/h1&gt;\"},\"id\":\"1089\",\"type\":\"panel.models.markup.HTML\"}],\"root_ids\":[\"1088\",\"1100\"]},\"title\":\"Bokeh Application\",\"version\":\"2.3.3\"}};\n",
       "    var render_items = [{\"docid\":\"3ef6554c-f256-4610-bd29-90e1287058cc\",\"root_ids\":[\"1088\"],\"roots\":{\"1088\":\"d2eecaa5-d119-4437-8b8e-662fe62f46c3\"}}];\n",
       "    root.Bokeh.embed.embed_items_notebook(docs_json, render_items);\n",
       "  }\n",
       "  if (root.Bokeh !== undefined && root.Bokeh.Panel !== undefined) {\n",
       "    embed_document(root);\n",
       "  } else {\n",
       "    var attempts = 0;\n",
       "    var timer = setInterval(function(root) {\n",
       "      if (root.Bokeh !== undefined && root.Bokeh.Panel !== undefined) {\n",
       "        clearInterval(timer);\n",
       "        embed_document(root);\n",
       "      } else if (document.readyState == \"complete\") {\n",
       "        attempts++;\n",
       "        if (attempts > 100) {\n",
       "          clearInterval(timer);\n",
       "          console.log(\"Bokeh: ERROR: Unable to run BokehJS code because BokehJS library is missing\");\n",
       "        }\n",
       "      }\n",
       "    }, 10, root)\n",
       "  }\n",
       "})(window);</script>"
      ],
      "text/plain": [
       "WidgetBox(background='#E3ECF1')\n",
       "    [0] Markdown(str)\n",
       "    [1] Column(width=800)\n",
       "        [0] Row\n",
       "            [0] RangeSlider(end=92, name='K-mer length', start=24, step=4, value=(64, 68))\n",
       "            [1] IntInput(end=10, name='Step', start=1, value=4)\n",
       "        [1] MultiSelect(name='Accession', options=['AA', 'AB', 'DT'])\n",
       "        [2] IntInput(end=10000, name='Minimal length t..., start=100, step=100, value=300)\n",
       "        [3] Row\n",
       "            [0] Button(button_type='primary', name='SAVE', width=100)\n",
       "            [1] Button(button_type='primary', name='INIT', width=100)\n",
       "        [4] Alert(str, alert_type='warning', css_classes=['alert', 'alert-warning']...], height=200, margin=(0, 0, 25, 0), sizing_mode='stretch_width')"
      ]
     },
     "metadata": {
      "application/vnd.holoviews_exec.v0+json": {
       "id": "1088"
      }
     },
     "output_type": "display_data"
    }
   ],
   "source": [
    "bgc('LightBlue')\n",
    "\n",
    "k,step,accession,length = box_config_abyss(df_group)"
   ]
  },
  {
   "cell_type": "markdown",
   "metadata": {},
   "source": [
    "##### Execute Abyss with several k"
   ]
  },
  {
   "cell_type": "code",
   "execution_count": 12,
   "metadata": {
    "scrolled": true
   },
   "outputs": [
    {
     "data": {
      "text/html": [
       "<img src onerror=\"var cell = this.closest('.jp-CodeCell');var editor = cell.querySelector('.jp-Editor');editor.style.background='LightBlue';this.parentNode.removeChild(this)\">"
      ],
      "text/plain": [
       "<IPython.core.display.HTML object>"
      ]
     },
     "metadata": {},
     "output_type": "display_data"
    },
    {
     "data": {},
     "metadata": {},
     "output_type": "display_data"
    },
    {
     "data": {
      "application/vnd.holoviews_exec.v0+json": "",
      "text/html": [
       "<div id='1106'>\n",
       "\n",
       "\n",
       "\n",
       "\n",
       "\n",
       "  <div class=\"bk-root\" id=\"4e1bdc65-d485-446f-b22e-78cccdc97124\" data-root-id=\"1106\"></div>\n",
       "</div>\n",
       "<script type=\"application/javascript\">(function(root) {\n",
       "  function embed_document(root) {\n",
       "    var docs_json = {\"6258489a-5ffc-4eb9-9392-21a482948271\":{\"defs\":[],\"roots\":{\"references\":[{\"attributes\":{\"css_classes\":[\"alert\",\"alert-warning\",\"markdown\"],\"margin\":[0,0,25,0],\"name\":\"Alert00273\",\"sizing_mode\":\"stretch_width\",\"text\":\"&lt;h3&gt;warning&lt;/h3&gt;\\n&lt;hr&gt;\\n&lt;p&gt;Directory /home/christine/Documents/These/frangiPANeGIT/frangiPANe_rice/02-assembly_unmapped_reads/assembly_choosing_k/ already existed&lt;/p&gt;\"},\"id\":\"1106\",\"type\":\"panel.models.markup.HTML\"},{\"attributes\":{\"client_comm_id\":\"d139bed03a33467d944414c226a51b3e\",\"comm_id\":\"9b454902920042ba8ac5f957b1a8094d\",\"plot_id\":\"1106\"},\"id\":\"1107\",\"type\":\"panel.models.comm_manager.CommManager\"}],\"root_ids\":[\"1106\",\"1107\"]},\"title\":\"Bokeh Application\",\"version\":\"2.3.3\"}};\n",
       "    var render_items = [{\"docid\":\"6258489a-5ffc-4eb9-9392-21a482948271\",\"root_ids\":[\"1106\"],\"roots\":{\"1106\":\"4e1bdc65-d485-446f-b22e-78cccdc97124\"}}];\n",
       "    root.Bokeh.embed.embed_items_notebook(docs_json, render_items);\n",
       "  }\n",
       "  if (root.Bokeh !== undefined && root.Bokeh.Panel !== undefined) {\n",
       "    embed_document(root);\n",
       "  } else {\n",
       "    var attempts = 0;\n",
       "    var timer = setInterval(function(root) {\n",
       "      if (root.Bokeh !== undefined && root.Bokeh.Panel !== undefined) {\n",
       "        clearInterval(timer);\n",
       "        embed_document(root);\n",
       "      } else if (document.readyState == \"complete\") {\n",
       "        attempts++;\n",
       "        if (attempts > 100) {\n",
       "          clearInterval(timer);\n",
       "          console.log(\"Bokeh: ERROR: Unable to run BokehJS code because BokehJS library is missing\");\n",
       "        }\n",
       "      }\n",
       "    }, 10, root)\n",
       "  }\n",
       "})(window);</script>"
      ],
      "text/plain": [
       "Alert(str, alert_type='warning', css_classes=['alert', 'alert-warning']...], margin=(0, 0, 25, 0), sizing_mode='stretch_width')"
      ]
     },
     "metadata": {
      "application/vnd.holoviews_exec.v0+json": {
       "id": "1106"
      }
     },
     "output_type": "display_data"
    },
    {
     "data": {},
     "metadata": {},
     "output_type": "display_data"
    },
    {
     "data": {
      "application/vnd.holoviews_exec.v0+json": "",
      "text/html": [
       "<div id='1108'>\n",
       "\n",
       "\n",
       "\n",
       "\n",
       "\n",
       "  <div class=\"bk-root\" id=\"58cab802-bf76-4942-ae73-7d87be7aa662\" data-root-id=\"1108\"></div>\n",
       "</div>\n",
       "<script type=\"application/javascript\">(function(root) {\n",
       "  function embed_document(root) {\n",
       "    var docs_json = {\"ec7970dc-630d-400c-90fd-1f34e30e77a5\":{\"defs\":[],\"roots\":{\"references\":[{\"attributes\":{\"client_comm_id\":\"14a777326d354280a75836b692666167\",\"comm_id\":\"eb9fbbff0abc4603846d3e0c9e182d66\",\"plot_id\":\"1108\"},\"id\":\"1109\",\"type\":\"panel.models.comm_manager.CommManager\"},{\"attributes\":{\"css_classes\":[\"alert\",\"alert-warning\",\"markdown\"],\"margin\":[0,0,25,0],\"name\":\"Alert00277\",\"sizing_mode\":\"stretch_width\",\"text\":\"&lt;h3&gt;warning&lt;/h3&gt;\\n&lt;hr&gt;\\n&lt;p&gt;Directory /home/christine/Documents/These/frangiPANeGIT/frangiPANe_rice/02-assembly_unmapped_reads/assembly_choosing_k/abyss/ already existed&lt;/p&gt;\"},\"id\":\"1108\",\"type\":\"panel.models.markup.HTML\"}],\"root_ids\":[\"1108\",\"1109\"]},\"title\":\"Bokeh Application\",\"version\":\"2.3.3\"}};\n",
       "    var render_items = [{\"docid\":\"ec7970dc-630d-400c-90fd-1f34e30e77a5\",\"root_ids\":[\"1108\"],\"roots\":{\"1108\":\"58cab802-bf76-4942-ae73-7d87be7aa662\"}}];\n",
       "    root.Bokeh.embed.embed_items_notebook(docs_json, render_items);\n",
       "  }\n",
       "  if (root.Bokeh !== undefined && root.Bokeh.Panel !== undefined) {\n",
       "    embed_document(root);\n",
       "  } else {\n",
       "    var attempts = 0;\n",
       "    var timer = setInterval(function(root) {\n",
       "      if (root.Bokeh !== undefined && root.Bokeh.Panel !== undefined) {\n",
       "        clearInterval(timer);\n",
       "        embed_document(root);\n",
       "      } else if (document.readyState == \"complete\") {\n",
       "        attempts++;\n",
       "        if (attempts > 100) {\n",
       "          clearInterval(timer);\n",
       "          console.log(\"Bokeh: ERROR: Unable to run BokehJS code because BokehJS library is missing\");\n",
       "        }\n",
       "      }\n",
       "    }, 10, root)\n",
       "  }\n",
       "})(window);</script>"
      ],
      "text/plain": [
       "Alert(str, alert_type='warning', css_classes=['alert', 'alert-warning']...], margin=(0, 0, 25, 0), sizing_mode='stretch_width')"
      ]
     },
     "metadata": {
      "application/vnd.holoviews_exec.v0+json": {
       "id": "1108"
      }
     },
     "output_type": "display_data"
    },
    {
     "name": "stdout",
     "output_type": "stream",
     "text": [
      "AA\n",
      "AB\n",
      "AA\n",
      "AB\n",
      "AA\n",
      "AB\n"
     ]
    },
    {
     "data": {},
     "metadata": {},
     "output_type": "display_data"
    },
    {
     "data": {
      "application/vnd.holoviews_exec.v0+json": "",
      "text/html": [
       "<div id='1110'>\n",
       "\n",
       "\n",
       "\n",
       "\n",
       "\n",
       "  <div class=\"bk-root\" id=\"1c50d091-7e17-427f-9a3d-f122675da9a9\" data-root-id=\"1110\"></div>\n",
       "</div>\n",
       "<script type=\"application/javascript\">(function(root) {\n",
       "  function embed_document(root) {\n",
       "    var docs_json = {\"b08b6199-c5bf-4810-9302-8874ef70cdb5\":{\"defs\":[],\"roots\":{\"references\":[{\"attributes\":{\"css_classes\":[\"alert\",\"alert-warning\",\"markdown\"],\"margin\":[0,0,25,0],\"name\":\"Alert00281\",\"sizing_mode\":\"stretch_width\",\"text\":\"&lt;h3&gt;warning&lt;/h3&gt;\\n&lt;hr&gt;\\n&lt;p&gt;Directory /home/christine/Documents/These/frangiPANeGIT/frangiPANe_rice/02-assembly_unmapped_reads/assembly_choosing_k/fasta_test/ already existed&lt;/p&gt;\"},\"id\":\"1110\",\"type\":\"panel.models.markup.HTML\"},{\"attributes\":{\"client_comm_id\":\"ba92d324b18f47e983f0781911e6ca7d\",\"comm_id\":\"0a4a0d6504834e6ea25a04f766553c4b\",\"plot_id\":\"1110\"},\"id\":\"1111\",\"type\":\"panel.models.comm_manager.CommManager\"}],\"root_ids\":[\"1110\",\"1111\"]},\"title\":\"Bokeh Application\",\"version\":\"2.3.3\"}};\n",
       "    var render_items = [{\"docid\":\"b08b6199-c5bf-4810-9302-8874ef70cdb5\",\"root_ids\":[\"1110\"],\"roots\":{\"1110\":\"1c50d091-7e17-427f-9a3d-f122675da9a9\"}}];\n",
       "    root.Bokeh.embed.embed_items_notebook(docs_json, render_items);\n",
       "  }\n",
       "  if (root.Bokeh !== undefined && root.Bokeh.Panel !== undefined) {\n",
       "    embed_document(root);\n",
       "  } else {\n",
       "    var attempts = 0;\n",
       "    var timer = setInterval(function(root) {\n",
       "      if (root.Bokeh !== undefined && root.Bokeh.Panel !== undefined) {\n",
       "        clearInterval(timer);\n",
       "        embed_document(root);\n",
       "      } else if (document.readyState == \"complete\") {\n",
       "        attempts++;\n",
       "        if (attempts > 100) {\n",
       "          clearInterval(timer);\n",
       "          console.log(\"Bokeh: ERROR: Unable to run BokehJS code because BokehJS library is missing\");\n",
       "        }\n",
       "      }\n",
       "    }, 10, root)\n",
       "  }\n",
       "})(window);</script>"
      ],
      "text/plain": [
       "Alert(str, alert_type='warning', css_classes=['alert', 'alert-warning']...], margin=(0, 0, 25, 0), sizing_mode='stretch_width')"
      ]
     },
     "metadata": {
      "application/vnd.holoviews_exec.v0+json": {
       "id": "1110"
      }
     },
     "output_type": "display_data"
    },
    {
     "data": {
      "text/plain": [
       "'File /home/christine/Documents/These/frangiPANeGIT/frangiPANe_rice/02-assembly_unmapped_reads/assembly_choosing_k/fasta_test/AA_k60_thr300.fasta already existed'"
      ]
     },
     "metadata": {},
     "output_type": "display_data"
    },
    {
     "data": {
      "text/plain": [
       "'warning'"
      ]
     },
     "metadata": {},
     "output_type": "display_data"
    },
    {
     "data": {
      "text/plain": [
       "'File /home/christine/Documents/These/frangiPANeGIT/frangiPANe_rice/02-assembly_unmapped_reads/assembly_choosing_k/fasta_test/AB_k60_thr300.fasta already existed'"
      ]
     },
     "metadata": {},
     "output_type": "display_data"
    },
    {
     "data": {
      "text/plain": [
       "'warning'"
      ]
     },
     "metadata": {},
     "output_type": "display_data"
    },
    {
     "data": {
      "text/plain": [
       "'File /home/christine/Documents/These/frangiPANeGIT/frangiPANe_rice/02-assembly_unmapped_reads/assembly_choosing_k/fasta_test/AA_k64_thr300.fasta already existed'"
      ]
     },
     "metadata": {},
     "output_type": "display_data"
    },
    {
     "data": {
      "text/plain": [
       "'warning'"
      ]
     },
     "metadata": {},
     "output_type": "display_data"
    },
    {
     "data": {
      "text/plain": [
       "'File /home/christine/Documents/These/frangiPANeGIT/frangiPANe_rice/02-assembly_unmapped_reads/assembly_choosing_k/fasta_test/AB_k64_thr300.fasta already existed'"
      ]
     },
     "metadata": {},
     "output_type": "display_data"
    },
    {
     "data": {
      "text/plain": [
       "'warning'"
      ]
     },
     "metadata": {},
     "output_type": "display_data"
    },
    {
     "data": {
      "text/plain": [
       "'File /home/christine/Documents/These/frangiPANeGIT/frangiPANe_rice/02-assembly_unmapped_reads/assembly_choosing_k/fasta_test/AA_k68_thr300.fasta already existed'"
      ]
     },
     "metadata": {},
     "output_type": "display_data"
    },
    {
     "data": {
      "text/plain": [
       "'warning'"
      ]
     },
     "metadata": {},
     "output_type": "display_data"
    },
    {
     "data": {
      "text/plain": [
       "'File /home/christine/Documents/These/frangiPANeGIT/frangiPANe_rice/02-assembly_unmapped_reads/assembly_choosing_k/fasta_test/AB_k68_thr300.fasta already existed'"
      ]
     },
     "metadata": {},
     "output_type": "display_data"
    },
    {
     "data": {
      "text/plain": [
       "'warning'"
      ]
     },
     "metadata": {},
     "output_type": "display_data"
    }
   ],
   "source": [
    "bgc('LightBlue')\n",
    "\n",
    "make_dir(output_assembly_dir + \"assembly_choosing_k/\")\n",
    "make_dir(output_assembly_dir + \"assembly_choosing_k/abyss/\")\n",
    "\n",
    "kmin=int(k.value[0])\n",
    "kmax=int(k.value[1])\n",
    "st=step.value\n",
    "threshold =  length.value\n",
    "\n",
    "for k in range(kmin, kmax, step.value) :\n",
    "    for id in accession.value : ### INDIVIDUS TEST\n",
    "        print(id)\n",
    "        #abyss_pe(project_name=project_name.value, id=id, k=k, bam_dir=output_assembly_dir + \"bam_F0x2/\", \n",
    "        #        output_dir=output_assembly_dir + \"assembly_choosing_k/abyss/\", logger=logger) \n",
    "        \n",
    "\n",
    "make_dir(output_assembly_dir + \"assembly_choosing_k/fasta_test/\")\n",
    "logger.info(f\"FILTERING SEQUENCES >= THRESHOLD ({threshold})\")\n",
    "\n",
    "for k in range(kmin, kmax, step.value) :\n",
    "    for id in accession.value : \n",
    "        filter_fastq_threshold(file=output_assembly_dir + \"assembly_choosing_k/abyss/\" + id + \"_k\" + str(k) + \"/\" + project_name.value + \"_\" + id + \"_\" + str(k) + \"-contigs.fa\", \n",
    "                               threshold=threshold, \n",
    "                               output_file=output_assembly_dir + \"assembly_choosing_k/fasta_test/\" + id + \"_k\" + str(k) + \"_thr\" + str(threshold) + \".fasta\") "
   ]
  },
  {
   "cell_type": "markdown",
   "metadata": {},
   "source": [
    "##### Stats\n",
    "\n",
    "Using assembly-stats. NB : L50 is called n50n "
   ]
  },
  {
   "cell_type": "code",
   "execution_count": 13,
   "metadata": {},
   "outputs": [
    {
     "data": {},
     "metadata": {},
     "output_type": "display_data"
    },
    {
     "data": {
      "application/vnd.holoviews_exec.v0+json": "",
      "text/html": [
       "<div id='1112'>\n",
       "\n",
       "\n",
       "\n",
       "\n",
       "\n",
       "  <div class=\"bk-root\" id=\"20caec2b-b6b2-4384-8484-b257688570a0\" data-root-id=\"1112\"></div>\n",
       "</div>\n",
       "<script type=\"application/javascript\">(function(root) {\n",
       "  function embed_document(root) {\n",
       "    var docs_json = {\"5db5f0ec-2a72-488c-9a6a-2ce75ca5c54f\":{\"defs\":[],\"roots\":{\"references\":[{\"attributes\":{\"client_comm_id\":\"065f67f5503748b0b4c8cd435fa53106\",\"comm_id\":\"37a9eb84e5214b528ae865ab0c42c0ad\",\"plot_id\":\"1112\"},\"id\":\"1113\",\"type\":\"panel.models.comm_manager.CommManager\"},{\"attributes\":{\"css_classes\":[\"alert\",\"alert-warning\",\"markdown\"],\"margin\":[0,0,25,0],\"name\":\"Alert00285\",\"sizing_mode\":\"stretch_width\",\"text\":\"&lt;h3&gt;warning&lt;/h3&gt;\\n&lt;hr&gt;\\n&lt;p&gt;Directory /home/christine/Documents/These/frangiPANeGIT/frangiPANe_rice/02-assembly_unmapped_reads/assembly_choosing_k/plots/ already existed&lt;/p&gt;\"},\"id\":\"1112\",\"type\":\"panel.models.markup.HTML\"}],\"root_ids\":[\"1112\",\"1113\"]},\"title\":\"Bokeh Application\",\"version\":\"2.3.3\"}};\n",
       "    var render_items = [{\"docid\":\"5db5f0ec-2a72-488c-9a6a-2ce75ca5c54f\",\"root_ids\":[\"1112\"],\"roots\":{\"1112\":\"20caec2b-b6b2-4384-8484-b257688570a0\"}}];\n",
       "    root.Bokeh.embed.embed_items_notebook(docs_json, render_items);\n",
       "  }\n",
       "  if (root.Bokeh !== undefined && root.Bokeh.Panel !== undefined) {\n",
       "    embed_document(root);\n",
       "  } else {\n",
       "    var attempts = 0;\n",
       "    var timer = setInterval(function(root) {\n",
       "      if (root.Bokeh !== undefined && root.Bokeh.Panel !== undefined) {\n",
       "        clearInterval(timer);\n",
       "        embed_document(root);\n",
       "      } else if (document.readyState == \"complete\") {\n",
       "        attempts++;\n",
       "        if (attempts > 100) {\n",
       "          clearInterval(timer);\n",
       "          console.log(\"Bokeh: ERROR: Unable to run BokehJS code because BokehJS library is missing\");\n",
       "        }\n",
       "      }\n",
       "    }, 10, root)\n",
       "  }\n",
       "})(window);</script>"
      ],
      "text/plain": [
       "Alert(str, alert_type='warning', css_classes=['alert', 'alert-warning']...], margin=(0, 0, 25, 0), sizing_mode='stretch_width')"
      ]
     },
     "metadata": {
      "application/vnd.holoviews_exec.v0+json": {
       "id": "1112"
      }
     },
     "output_type": "display_data"
    },
    {
     "data": {},
     "metadata": {},
     "output_type": "display_data"
    },
    {
     "data": {
      "application/vnd.holoviews_exec.v0+json": "",
      "text/html": [
       "<div id='1114'>\n",
       "\n",
       "\n",
       "\n",
       "\n",
       "\n",
       "  <div class=\"bk-root\" id=\"1e025fc3-fe19-456a-b161-5391260eba07\" data-root-id=\"1114\"></div>\n",
       "</div>\n",
       "<script type=\"application/javascript\">(function(root) {\n",
       "  function embed_document(root) {\n",
       "    var docs_json = {\"bcc51cb9-01d5-4a3c-9cac-edef0d7dd64f\":{\"defs\":[],\"roots\":{\"references\":[{\"attributes\":{\"client_comm_id\":\"e6388b105da3451ea1f353c131b48e7a\",\"comm_id\":\"6688d9502b574058bfa6bc319cded4b3\",\"plot_id\":\"1114\"},\"id\":\"1115\",\"type\":\"panel.models.comm_manager.CommManager\"},{\"attributes\":{\"css_classes\":[\"alert\",\"alert-success\",\"markdown\"],\"margin\":[0,0,25,0],\"name\":\"Alert00289\",\"sizing_mode\":\"stretch_width\",\"text\":\"&lt;p&gt;SUCCESSFULL ASSEMBLY-STATS : assembly-stats -s /home/christine/Documents/These/frangiPANeGIT/frangiPANe_rice/02-assembly_unmapped_reads/assembly_choosing_k/fasta_test/AA_k60_thr300.fasta&lt;/p&gt;\"},\"id\":\"1114\",\"type\":\"panel.models.markup.HTML\"}],\"root_ids\":[\"1114\",\"1115\"]},\"title\":\"Bokeh Application\",\"version\":\"2.3.3\"}};\n",
       "    var render_items = [{\"docid\":\"bcc51cb9-01d5-4a3c-9cac-edef0d7dd64f\",\"root_ids\":[\"1114\"],\"roots\":{\"1114\":\"1e025fc3-fe19-456a-b161-5391260eba07\"}}];\n",
       "    root.Bokeh.embed.embed_items_notebook(docs_json, render_items);\n",
       "  }\n",
       "  if (root.Bokeh !== undefined && root.Bokeh.Panel !== undefined) {\n",
       "    embed_document(root);\n",
       "  } else {\n",
       "    var attempts = 0;\n",
       "    var timer = setInterval(function(root) {\n",
       "      if (root.Bokeh !== undefined && root.Bokeh.Panel !== undefined) {\n",
       "        clearInterval(timer);\n",
       "        embed_document(root);\n",
       "      } else if (document.readyState == \"complete\") {\n",
       "        attempts++;\n",
       "        if (attempts > 100) {\n",
       "          clearInterval(timer);\n",
       "          console.log(\"Bokeh: ERROR: Unable to run BokehJS code because BokehJS library is missing\");\n",
       "        }\n",
       "      }\n",
       "    }, 10, root)\n",
       "  }\n",
       "})(window);</script>"
      ],
      "text/plain": [
       "Alert(str, alert_type='success', css_classes=['alert', 'alert-success']...], margin=(0, 0, 25, 0), sizing_mode='stretch_width')"
      ]
     },
     "metadata": {
      "application/vnd.holoviews_exec.v0+json": {
       "id": "1114"
      }
     },
     "output_type": "display_data"
    },
    {
     "data": {},
     "metadata": {},
     "output_type": "display_data"
    },
    {
     "data": {
      "application/vnd.holoviews_exec.v0+json": "",
      "text/html": [
       "<div id='1116'>\n",
       "\n",
       "\n",
       "\n",
       "\n",
       "\n",
       "  <div class=\"bk-root\" id=\"c549d711-8350-44c6-8ad9-43f54c629e0b\" data-root-id=\"1116\"></div>\n",
       "</div>\n",
       "<script type=\"application/javascript\">(function(root) {\n",
       "  function embed_document(root) {\n",
       "    var docs_json = {\"2e97f9a2-42cd-4ebe-9c3e-83228e1f7036\":{\"defs\":[],\"roots\":{\"references\":[{\"attributes\":{\"css_classes\":[\"alert\",\"alert-success\",\"markdown\"],\"margin\":[0,0,25,0],\"name\":\"Alert00293\",\"sizing_mode\":\"stretch_width\",\"text\":\"&lt;p&gt;SUCCESSFULL ASSEMBLY-STATS : assembly-stats -s /home/christine/Documents/These/frangiPANeGIT/frangiPANe_rice/02-assembly_unmapped_reads/assembly_choosing_k/fasta_test/AB_k60_thr300.fasta&lt;/p&gt;\"},\"id\":\"1116\",\"type\":\"panel.models.markup.HTML\"},{\"attributes\":{\"client_comm_id\":\"2f5dbb774c8a4b0c958e3d7b4580d4f8\",\"comm_id\":\"a136796b10a74e03b15e160ff8000eb9\",\"plot_id\":\"1116\"},\"id\":\"1117\",\"type\":\"panel.models.comm_manager.CommManager\"}],\"root_ids\":[\"1116\",\"1117\"]},\"title\":\"Bokeh Application\",\"version\":\"2.3.3\"}};\n",
       "    var render_items = [{\"docid\":\"2e97f9a2-42cd-4ebe-9c3e-83228e1f7036\",\"root_ids\":[\"1116\"],\"roots\":{\"1116\":\"c549d711-8350-44c6-8ad9-43f54c629e0b\"}}];\n",
       "    root.Bokeh.embed.embed_items_notebook(docs_json, render_items);\n",
       "  }\n",
       "  if (root.Bokeh !== undefined && root.Bokeh.Panel !== undefined) {\n",
       "    embed_document(root);\n",
       "  } else {\n",
       "    var attempts = 0;\n",
       "    var timer = setInterval(function(root) {\n",
       "      if (root.Bokeh !== undefined && root.Bokeh.Panel !== undefined) {\n",
       "        clearInterval(timer);\n",
       "        embed_document(root);\n",
       "      } else if (document.readyState == \"complete\") {\n",
       "        attempts++;\n",
       "        if (attempts > 100) {\n",
       "          clearInterval(timer);\n",
       "          console.log(\"Bokeh: ERROR: Unable to run BokehJS code because BokehJS library is missing\");\n",
       "        }\n",
       "      }\n",
       "    }, 10, root)\n",
       "  }\n",
       "})(window);</script>"
      ],
      "text/plain": [
       "Alert(str, alert_type='success', css_classes=['alert', 'alert-success']...], margin=(0, 0, 25, 0), sizing_mode='stretch_width')"
      ]
     },
     "metadata": {
      "application/vnd.holoviews_exec.v0+json": {
       "id": "1116"
      }
     },
     "output_type": "display_data"
    },
    {
     "data": {},
     "metadata": {},
     "output_type": "display_data"
    },
    {
     "data": {
      "application/vnd.holoviews_exec.v0+json": "",
      "text/html": [
       "<div id='1118'>\n",
       "\n",
       "\n",
       "\n",
       "\n",
       "\n",
       "  <div class=\"bk-root\" id=\"d50cb9e2-eca2-44c1-bf52-baf741ae4f4f\" data-root-id=\"1118\"></div>\n",
       "</div>\n",
       "<script type=\"application/javascript\">(function(root) {\n",
       "  function embed_document(root) {\n",
       "    var docs_json = {\"c5f27782-a356-45ec-b1de-b38275c7011a\":{\"defs\":[],\"roots\":{\"references\":[{\"attributes\":{\"css_classes\":[\"alert\",\"alert-success\",\"markdown\"],\"margin\":[0,0,25,0],\"name\":\"Alert00297\",\"sizing_mode\":\"stretch_width\",\"text\":\"&lt;p&gt;SUCCESSFULL ASSEMBLY-STATS : assembly-stats -s /home/christine/Documents/These/frangiPANeGIT/frangiPANe_rice/02-assembly_unmapped_reads/assembly_choosing_k/fasta_test/AA_k64_thr300.fasta&lt;/p&gt;\"},\"id\":\"1118\",\"type\":\"panel.models.markup.HTML\"},{\"attributes\":{\"client_comm_id\":\"fad3296ce37c4e21867b16d52433710c\",\"comm_id\":\"b36b96317efb423a8fdc3a7cd0fd3c88\",\"plot_id\":\"1118\"},\"id\":\"1119\",\"type\":\"panel.models.comm_manager.CommManager\"}],\"root_ids\":[\"1118\",\"1119\"]},\"title\":\"Bokeh Application\",\"version\":\"2.3.3\"}};\n",
       "    var render_items = [{\"docid\":\"c5f27782-a356-45ec-b1de-b38275c7011a\",\"root_ids\":[\"1118\"],\"roots\":{\"1118\":\"d50cb9e2-eca2-44c1-bf52-baf741ae4f4f\"}}];\n",
       "    root.Bokeh.embed.embed_items_notebook(docs_json, render_items);\n",
       "  }\n",
       "  if (root.Bokeh !== undefined && root.Bokeh.Panel !== undefined) {\n",
       "    embed_document(root);\n",
       "  } else {\n",
       "    var attempts = 0;\n",
       "    var timer = setInterval(function(root) {\n",
       "      if (root.Bokeh !== undefined && root.Bokeh.Panel !== undefined) {\n",
       "        clearInterval(timer);\n",
       "        embed_document(root);\n",
       "      } else if (document.readyState == \"complete\") {\n",
       "        attempts++;\n",
       "        if (attempts > 100) {\n",
       "          clearInterval(timer);\n",
       "          console.log(\"Bokeh: ERROR: Unable to run BokehJS code because BokehJS library is missing\");\n",
       "        }\n",
       "      }\n",
       "    }, 10, root)\n",
       "  }\n",
       "})(window);</script>"
      ],
      "text/plain": [
       "Alert(str, alert_type='success', css_classes=['alert', 'alert-success']...], margin=(0, 0, 25, 0), sizing_mode='stretch_width')"
      ]
     },
     "metadata": {
      "application/vnd.holoviews_exec.v0+json": {
       "id": "1118"
      }
     },
     "output_type": "display_data"
    },
    {
     "data": {},
     "metadata": {},
     "output_type": "display_data"
    },
    {
     "data": {
      "application/vnd.holoviews_exec.v0+json": "",
      "text/html": [
       "<div id='1120'>\n",
       "\n",
       "\n",
       "\n",
       "\n",
       "\n",
       "  <div class=\"bk-root\" id=\"503a6eee-e91b-4d22-8691-c60668a6e9a2\" data-root-id=\"1120\"></div>\n",
       "</div>\n",
       "<script type=\"application/javascript\">(function(root) {\n",
       "  function embed_document(root) {\n",
       "    var docs_json = {\"7ebf9c21-84f6-429b-a4c3-c4a4c9ed1265\":{\"defs\":[],\"roots\":{\"references\":[{\"attributes\":{\"client_comm_id\":\"5d79495dcbc7496ebd34a2c15c6e0c76\",\"comm_id\":\"509c2dba84ea47e5ab8f3168d138d1e5\",\"plot_id\":\"1120\"},\"id\":\"1121\",\"type\":\"panel.models.comm_manager.CommManager\"},{\"attributes\":{\"css_classes\":[\"alert\",\"alert-success\",\"markdown\"],\"margin\":[0,0,25,0],\"name\":\"Alert00301\",\"sizing_mode\":\"stretch_width\",\"text\":\"&lt;p&gt;SUCCESSFULL ASSEMBLY-STATS : assembly-stats -s /home/christine/Documents/These/frangiPANeGIT/frangiPANe_rice/02-assembly_unmapped_reads/assembly_choosing_k/fasta_test/AB_k64_thr300.fasta&lt;/p&gt;\"},\"id\":\"1120\",\"type\":\"panel.models.markup.HTML\"}],\"root_ids\":[\"1120\",\"1121\"]},\"title\":\"Bokeh Application\",\"version\":\"2.3.3\"}};\n",
       "    var render_items = [{\"docid\":\"7ebf9c21-84f6-429b-a4c3-c4a4c9ed1265\",\"root_ids\":[\"1120\"],\"roots\":{\"1120\":\"503a6eee-e91b-4d22-8691-c60668a6e9a2\"}}];\n",
       "    root.Bokeh.embed.embed_items_notebook(docs_json, render_items);\n",
       "  }\n",
       "  if (root.Bokeh !== undefined && root.Bokeh.Panel !== undefined) {\n",
       "    embed_document(root);\n",
       "  } else {\n",
       "    var attempts = 0;\n",
       "    var timer = setInterval(function(root) {\n",
       "      if (root.Bokeh !== undefined && root.Bokeh.Panel !== undefined) {\n",
       "        clearInterval(timer);\n",
       "        embed_document(root);\n",
       "      } else if (document.readyState == \"complete\") {\n",
       "        attempts++;\n",
       "        if (attempts > 100) {\n",
       "          clearInterval(timer);\n",
       "          console.log(\"Bokeh: ERROR: Unable to run BokehJS code because BokehJS library is missing\");\n",
       "        }\n",
       "      }\n",
       "    }, 10, root)\n",
       "  }\n",
       "})(window);</script>"
      ],
      "text/plain": [
       "Alert(str, alert_type='success', css_classes=['alert', 'alert-success']...], margin=(0, 0, 25, 0), sizing_mode='stretch_width')"
      ]
     },
     "metadata": {
      "application/vnd.holoviews_exec.v0+json": {
       "id": "1120"
      }
     },
     "output_type": "display_data"
    },
    {
     "data": {},
     "metadata": {},
     "output_type": "display_data"
    },
    {
     "data": {
      "application/vnd.holoviews_exec.v0+json": "",
      "text/html": [
       "<div id='1122'>\n",
       "\n",
       "\n",
       "\n",
       "\n",
       "\n",
       "  <div class=\"bk-root\" id=\"13b772f0-3e53-42e3-b85d-a3a118ec97c1\" data-root-id=\"1122\"></div>\n",
       "</div>\n",
       "<script type=\"application/javascript\">(function(root) {\n",
       "  function embed_document(root) {\n",
       "    var docs_json = {\"7bbadc12-95d4-4a21-a7f2-4265364ae41e\":{\"defs\":[],\"roots\":{\"references\":[{\"attributes\":{\"css_classes\":[\"alert\",\"alert-success\",\"markdown\"],\"margin\":[0,0,25,0],\"name\":\"Alert00305\",\"sizing_mode\":\"stretch_width\",\"text\":\"&lt;p&gt;SUCCESSFULL ASSEMBLY-STATS : assembly-stats -s /home/christine/Documents/These/frangiPANeGIT/frangiPANe_rice/02-assembly_unmapped_reads/assembly_choosing_k/fasta_test/AA_k68_thr300.fasta&lt;/p&gt;\"},\"id\":\"1122\",\"type\":\"panel.models.markup.HTML\"},{\"attributes\":{\"client_comm_id\":\"6d3f8a9938544c3eb6df7155ac87a1f0\",\"comm_id\":\"40382a12b1004f7280514fa10d2a37bf\",\"plot_id\":\"1122\"},\"id\":\"1123\",\"type\":\"panel.models.comm_manager.CommManager\"}],\"root_ids\":[\"1122\",\"1123\"]},\"title\":\"Bokeh Application\",\"version\":\"2.3.3\"}};\n",
       "    var render_items = [{\"docid\":\"7bbadc12-95d4-4a21-a7f2-4265364ae41e\",\"root_ids\":[\"1122\"],\"roots\":{\"1122\":\"13b772f0-3e53-42e3-b85d-a3a118ec97c1\"}}];\n",
       "    root.Bokeh.embed.embed_items_notebook(docs_json, render_items);\n",
       "  }\n",
       "  if (root.Bokeh !== undefined && root.Bokeh.Panel !== undefined) {\n",
       "    embed_document(root);\n",
       "  } else {\n",
       "    var attempts = 0;\n",
       "    var timer = setInterval(function(root) {\n",
       "      if (root.Bokeh !== undefined && root.Bokeh.Panel !== undefined) {\n",
       "        clearInterval(timer);\n",
       "        embed_document(root);\n",
       "      } else if (document.readyState == \"complete\") {\n",
       "        attempts++;\n",
       "        if (attempts > 100) {\n",
       "          clearInterval(timer);\n",
       "          console.log(\"Bokeh: ERROR: Unable to run BokehJS code because BokehJS library is missing\");\n",
       "        }\n",
       "      }\n",
       "    }, 10, root)\n",
       "  }\n",
       "})(window);</script>"
      ],
      "text/plain": [
       "Alert(str, alert_type='success', css_classes=['alert', 'alert-success']...], margin=(0, 0, 25, 0), sizing_mode='stretch_width')"
      ]
     },
     "metadata": {
      "application/vnd.holoviews_exec.v0+json": {
       "id": "1122"
      }
     },
     "output_type": "display_data"
    },
    {
     "data": {},
     "metadata": {},
     "output_type": "display_data"
    },
    {
     "data": {
      "application/vnd.holoviews_exec.v0+json": "",
      "text/html": [
       "<div id='1124'>\n",
       "\n",
       "\n",
       "\n",
       "\n",
       "\n",
       "  <div class=\"bk-root\" id=\"787b7d0d-901e-4f50-80c0-9862313b270b\" data-root-id=\"1124\"></div>\n",
       "</div>\n",
       "<script type=\"application/javascript\">(function(root) {\n",
       "  function embed_document(root) {\n",
       "    var docs_json = {\"e3441dc6-d8bb-43af-8c8d-aad5ea5d91db\":{\"defs\":[],\"roots\":{\"references\":[{\"attributes\":{\"client_comm_id\":\"35c4590cd8df4dd185da0828c0933c61\",\"comm_id\":\"00effc04645d42e6a680036f50069d40\",\"plot_id\":\"1124\"},\"id\":\"1125\",\"type\":\"panel.models.comm_manager.CommManager\"},{\"attributes\":{\"css_classes\":[\"alert\",\"alert-success\",\"markdown\"],\"margin\":[0,0,25,0],\"name\":\"Alert00309\",\"sizing_mode\":\"stretch_width\",\"text\":\"&lt;p&gt;SUCCESSFULL ASSEMBLY-STATS : assembly-stats -s /home/christine/Documents/These/frangiPANeGIT/frangiPANe_rice/02-assembly_unmapped_reads/assembly_choosing_k/fasta_test/AB_k68_thr300.fasta&lt;/p&gt;\"},\"id\":\"1124\",\"type\":\"panel.models.markup.HTML\"}],\"root_ids\":[\"1124\",\"1125\"]},\"title\":\"Bokeh Application\",\"version\":\"2.3.3\"}};\n",
       "    var render_items = [{\"docid\":\"e3441dc6-d8bb-43af-8c8d-aad5ea5d91db\",\"root_ids\":[\"1124\"],\"roots\":{\"1124\":\"787b7d0d-901e-4f50-80c0-9862313b270b\"}}];\n",
       "    root.Bokeh.embed.embed_items_notebook(docs_json, render_items);\n",
       "  }\n",
       "  if (root.Bokeh !== undefined && root.Bokeh.Panel !== undefined) {\n",
       "    embed_document(root);\n",
       "  } else {\n",
       "    var attempts = 0;\n",
       "    var timer = setInterval(function(root) {\n",
       "      if (root.Bokeh !== undefined && root.Bokeh.Panel !== undefined) {\n",
       "        clearInterval(timer);\n",
       "        embed_document(root);\n",
       "      } else if (document.readyState == \"complete\") {\n",
       "        attempts++;\n",
       "        if (attempts > 100) {\n",
       "          clearInterval(timer);\n",
       "          console.log(\"Bokeh: ERROR: Unable to run BokehJS code because BokehJS library is missing\");\n",
       "        }\n",
       "      }\n",
       "    }, 10, root)\n",
       "  }\n",
       "})(window);</script>"
      ],
      "text/plain": [
       "Alert(str, alert_type='success', css_classes=['alert', 'alert-success']...], margin=(0, 0, 25, 0), sizing_mode='stretch_width')"
      ]
     },
     "metadata": {
      "application/vnd.holoviews_exec.v0+json": {
       "id": "1124"
      }
     },
     "output_type": "display_data"
    }
   ],
   "source": [
    "bgc('LightBlue')\n",
    "\n",
    "make_dir(output_assembly_dir + \"assembly_choosing_k/plots/\")\n",
    "\n",
    "stat_len, stats_N_hide, stats_N, stats_L_hide, stats_L, stats_gap, stats = def_stats()\n",
    "create_stats_files(stats=stats,\n",
    "                  output_dir=output_assembly_dir + \"assembly_choosing_k/plots/\")\n",
    "\n",
    "# for k in range(32, 97, 8) : \n",
    "for k in range(kmin, kmax, step.value) :\n",
    "    for id in accession.value :\n",
    "        fill_stats_files(input_dir=output_assembly_dir + \"assembly_choosing_k/fasta_test/\",\n",
    "                id=id,\n",
    "                k=k,\n",
    "                output_dir=output_assembly_dir + \"assembly_choosing_k/plots/\",\n",
    "                threshold=threshold,\n",
    "                logger=logger)"
   ]
  },
  {
   "cell_type": "markdown",
   "metadata": {},
   "source": [
    "How to choose k ? DASHBOARD\n",
    "   * total_length : +++\n",
    "   * N50 : +++\n",
    "   * L50 : ---"
   ]
  },
  {
   "cell_type": "code",
   "execution_count": 14,
   "metadata": {},
   "outputs": [
    {
     "data": {
      "image/png": "[encoded data removed]",
      "text/plain": [
       "<Figure size 815.75x360 with 2 Axes>"
      ]
     },
     "metadata": {},
     "output_type": "display_data"
    },
    {
     "data": {
      "image/png": "[encoded data removed]",
      "text/plain": [
       "<Figure size 796.875x360 with 2 Axes>"
      ]
     },
     "metadata": {},
     "output_type": "display_data"
    },
    {
     "data": {
      "image/png": "[encoded data removed]",
      "text/plain": [
       "<Figure size 794.875x360 with 2 Axes>"
      ]
     },
     "metadata": {},
     "output_type": "display_data"
    }
   ],
   "source": [
    "bgc('LightBlue')\n",
    "\n",
    "stat_len_df = pd.read_csv(output_assembly_dir + \"assembly_choosing_k/plots/assembly-stats-\" + stat_len[0] + \".csv\", sep='\\t')\n",
    "\n",
    "size = sns.relplot(x='k', y='value', hue='stat', data=stat_len_df, col='id', kind=\"line\")\n",
    "size.savefig(output_assembly_dir + \"assembly_choosing_k/plots/stat_len.png\")\n",
    "\n",
    "\n",
    "stats_N_files = []\n",
    "for stat in stats_N : \n",
    "    stats_N_files.append(output_assembly_dir + \"assembly_choosing_k/plots/assembly-stats-\" + stat + \".csv\")\n",
    "stats_N_df = pd.concat([pd.read_csv(f, sep='\\t') for f in stats_N_files], ignore_index = True)\n",
    "\n",
    "size = sns.relplot(x='k', y='value', hue='stat', data=stats_N_df, col='id', kind=\"line\")\n",
    "size.savefig(output_assembly_dir + \"assembly_choosing_k/plots/stat_N.png\")\n",
    "\n",
    "stats_L_files = []\n",
    "for stat in stats_L : \n",
    "    stats_L_files.append(output_assembly_dir + \"assembly_choosing_k/plots/assembly-stats-\" + stat + \".csv\")\n",
    "stats_L_df = pd.concat([pd.read_csv(f, sep='\\t') for f in stats_L_files], ignore_index = True)\n",
    "\n",
    "size = sns.relplot(x='k', y='value', hue='stat', data=stats_L_df, col='id', kind=\"line\")\n",
    "size.savefig(output_assembly_dir + \"assembly_choosing_k/plots/stat_L.png\")\n",
    "\n"
   ]
  },
  {
   "cell_type": "markdown",
   "metadata": {},
   "source": [
    "```PUT BOX TO SELECT k```"
   ]
  },
  {
   "cell_type": "code",
   "execution_count": null,
   "metadata": {},
   "outputs": [],
   "source": [
    "k = 64 ### box ?\n",
    "accession.value = ['AA','AB']"
   ]
  },
  {
   "cell_type": "markdown",
   "metadata": {},
   "source": [
    "KBOARD\n",
    "   * total_length : +++\n",
    "   * N50 : +++KBOARD\n",
    "   * total_length : +++\n",
    "   * N50 : +++KBOARD\n",
    "   * total_length : +++\n",
    "   * N50 : +++KBOARD\n",
    "   * total_length : +++\n",
    "   * N50 : +++KBOARD\n",
    "   * total_length : +++\n",
    "   * N50 : +++KBOARD\n",
    "   * total_length : +++\n",
    "   * N50 : +++KBOARD\n",
    "   * total_length : +++\n",
    "   * N50 : +++KBOARD\n",
    "   * total_length : +++\n",
    "   * N50 : +++KBOARD\n",
    "   * total_length : +++\n",
    "   * N50 : +++KBOARD\n",
    "   * total_length : +++\n",
    "   * N50 : +++#### Running ABySS for each individual"
   ]
  },
  {
   "cell_type": "code",
   "execution_count": 34,
   "metadata": {
    "scrolled": true,
    "tags": []
   },
   "outputs": [
    {
     "name": "stdout",
     "output_type": "stream",
     "text": [
      "cp: impossible d'évaluer '/home/christine/Documents/These/frangiPANeGIT/frangiPANe_rice/02-assembly_unmapped_reads/assembly_choosing_k/AA_k64/': Aucun fichier ou dossier de ce type\n",
      "cp: impossible d'évaluer '/home/christine/Documents/These/frangiPANeGIT/frangiPANe_rice/02-assembly_unmapped_reads/assembly_choosing_k/AB_k64/': Aucun fichier ou dossier de ce type\n"
     ]
    }
   ],
   "source": [
    "!mkdir $output_assembly_dir\"assembly_all_contigs/\"\n",
    "\n",
    "for id in ['AA','AB'] :\n",
    "    if id in accession.value :\n",
    "        id_folder = output_assembly_dir + \"assembly_choosing_k/\" + id + \"_k\" + str(k) + \"/\"\n",
    "        target_folder = output_assembly_dir + \"assembly_all_contigs/\"\n",
    "        !scp -r $id_folder $target_folder\n",
    "    else : \n",
    "        abyss_pe(project_name=project_name, \n",
    "                 id=id, \n",
    "                 k=k, \n",
    "                 bam_dir=output_assembly_dir + \"bam_F0x2/\", \n",
    "                 output_dir=output_assembly_dir + \"assembly_all_contigs/\", logger=logger) \n",
    "        \n",
    "# rm -r $output_assembly_dir\"assembly_choosing_k/abyss/\""
   ]
  },
  {
   "cell_type": "code",
   "execution_count": null,
   "metadata": {},
   "outputs": [],
   "source": [
    "!mkdir $output_assembly_dir\"assembly_all_contigs/\"\n",
    "\n",
    "for id in id_dict :\n",
    "    abyss_pe(project_name=project_name, \n",
    "                 id=id, \n",
    "                 k=k, \n",
    "                 bam_dir=output_assembly_dir + \"bam_F0x2/\", \n",
    "                 output_dir=output_assembly_dir + \"assembly_all_contigs/\",\n",
    "                logger=logger) \n",
    "        "
   ]
  },
  {
   "cell_type": "markdown",
   "metadata": {},
   "source": [
    "`TODO : PUT TABLE SYNTHESE`\n",
    "\n",
    "[<img src=\"Images/up-arrow.png\" alt=\"Top\" width=2% align=\"right\">](#home \"Go back to the top\")\n",
    "    \n",
    "### <span style=\"color: #919395\"> 4 - Removing contamination<a class=\"anchor\" id=\"contamination\"></a></span>"
   ]
  },
  {
   "cell_type": "markdown",
   "metadata": {},
   "source": [
    "#### __VecScreen__"
   ]
  },
  {
   "cell_type": "markdown",
   "metadata": {},
   "source": [
    "#### __BLASTn__"
   ]
  },
  {
   "cell_type": "markdown",
   "metadata": {},
   "source": [
    "#### __Control of the assembly with long reads (optionnal)__"
   ]
  },
  {
   "cell_type": "markdown",
   "metadata": {},
   "source": [
    "[<img src=\"Images/up-arrow.png\" alt=\"Top\" width=2% align=\"right\">](#home \"Go back to the top\")\n",
    "    \n",
    "### <span style=\"color: #919395\"> 5 - Reducing Sequence Redundancy<a class=\"anchor\" id=\"redundancy\"></a></span>\n",
    "\n",
    "frangiPANe uses CD-HIT to cluster sequences and to reduce sequence redundancy (inter and intra-species).\n",
    "\n",
    "#### __Create clustering directory__"
   ]
  },
  {
   "cell_type": "code",
   "execution_count": 30,
   "metadata": {},
   "outputs": [
    {
     "data": {},
     "metadata": {},
     "output_type": "display_data"
    },
    {
     "data": {
      "application/vnd.holoviews_exec.v0+json": "",
      "text/html": [
       "<div id='1705'>\n",
       "\n",
       "\n",
       "\n",
       "\n",
       "\n",
       "  <div class=\"bk-root\" id=\"22a5f7af-58eb-4655-8791-0c5d7a8e8ef4\" data-root-id=\"1705\"></div>\n",
       "</div>\n",
       "<script type=\"application/javascript\">(function(root) {\n",
       "  function embed_document(root) {\n",
       "    var docs_json = {\"93052ceb-babc-4aae-86eb-cba2b17d009f\":{\"defs\":[{\"extends\":null,\"module\":null,\"name\":\"DataModel\",\"overrides\":[],\"properties\":[]}],\"roots\":{\"references\":[{\"attributes\":{\"css_classes\":[\"alert\",\"alert-success\",\"markdown\"],\"margin\":[0,0,25,0],\"name\":\"Alert01481\",\"sizing_mode\":\"stretch_width\",\"text\":\"&lt;p&gt;Directory /home/christine/Documents/These/Book/yapluka/PANTOUM/frangiPANe_rice3/03-clustering/ created&lt;/p&gt;\"},\"id\":\"1705\",\"type\":\"panel.models.markup.HTML\"},{\"attributes\":{\"client_comm_id\":\"afe87c6c8f964309ab215a9782118c1b\",\"comm_id\":\"8a2ba2fa5a9a48ba8e51d33b0073a594\",\"plot_id\":\"1705\"},\"id\":\"1706\",\"type\":\"panel.models.comm_manager.CommManager\"}],\"root_ids\":[\"1705\",\"1706\"]},\"title\":\"Bokeh Application\",\"version\":\"2.3.0\"}};\n",
       "    var render_items = [{\"docid\":\"93052ceb-babc-4aae-86eb-cba2b17d009f\",\"root_ids\":[\"1705\"],\"roots\":{\"1705\":\"22a5f7af-58eb-4655-8791-0c5d7a8e8ef4\"}}];\n",
       "    root.Bokeh.embed.embed_items_notebook(docs_json, render_items);\n",
       "  }\n",
       "  if (root.Bokeh !== undefined && root.Bokeh.Panel !== undefined) {\n",
       "    embed_document(root);\n",
       "  } else {\n",
       "    var attempts = 0;\n",
       "    var timer = setInterval(function(root) {\n",
       "      if (root.Bokeh !== undefined && root.Bokeh.Panel !== undefined) {\n",
       "        clearInterval(timer);\n",
       "        embed_document(root);\n",
       "      } else if (document.readyState == \"complete\") {\n",
       "        attempts++;\n",
       "        if (attempts > 100) {\n",
       "          clearInterval(timer);\n",
       "          console.log(\"Bokeh: ERROR: Unable to run BokehJS code because BokehJS library is missing\");\n",
       "        }\n",
       "      }\n",
       "    }, 10, root)\n",
       "  }\n",
       "})(window);</script>"
      ],
      "text/plain": [
       "Alert(str, alert_type='success', css_classes=['alert', 'alert-success']...], margin=(0, 0, 25, 0), sizing_mode='stretch_width')"
      ]
     },
     "metadata": {
      "application/vnd.holoviews_exec.v0+json": {
       "id": "1705"
      }
     },
     "output_type": "display_data"
    }
   ],
   "source": [
    "output_clustering_dir = output_dir + \"03-clustering/\"\n",
    "make_dir(output_clustering_dir)"
   ]
  },
  {
   "cell_type": "markdown",
   "metadata": {},
   "source": [
    "#### __Merge all contigs__\n"
   ]
  },
  {
   "cell_type": "code",
   "execution_count": 7,
   "metadata": {},
   "outputs": [],
   "source": [
    "# TODO a remonter et definir dans la partie assemblage\n",
    "#output_assembly_dir = output_dir + \"/02-assembly_unmapped_reads/\"\n",
    "#output_clustering_dir = output_dir + \"03-clustering/\"\n",
    "output_assembly_contigs = output_assembly_dir + \"assembly_all_contigs\""
   ]
  },
  {
   "cell_type": "code",
   "execution_count": 18,
   "metadata": {},
   "outputs": [
    {
     "data": {},
     "metadata": {},
     "output_type": "display_data"
    },
    {
     "data": {
      "application/vnd.holoviews_exec.v0+json": "",
      "text/html": [
       "<div id='1080'>\n",
       "\n",
       "\n",
       "\n",
       "\n",
       "\n",
       "  <div class=\"bk-root\" id=\"6ade18fc-8446-475a-9a9c-8677e5775dc9\" data-root-id=\"1080\"></div>\n",
       "</div>\n",
       "<script type=\"application/javascript\">(function(root) {\n",
       "  function embed_document(root) {\n",
       "    var docs_json = {\"9baf2af7-68a0-45ec-9afa-fd1e53d40aae\":{\"defs\":[{\"extends\":null,\"module\":null,\"name\":\"DataModel\",\"overrides\":[],\"properties\":[]}],\"roots\":{\"references\":[{\"attributes\":{\"css_classes\":[\"alert\",\"alert-secondary\",\"markdown\"],\"margin\":[0,0,25,0],\"name\":\"Alert00237\",\"sizing_mode\":\"stretch_width\",\"text\":\"&lt;p&gt;Copying all contigs from each sample into dir_clustering on progress&amp;hellip;&lt;/p&gt;\"},\"id\":\"1080\",\"type\":\"panel.models.markup.HTML\"},{\"attributes\":{\"client_comm_id\":\"7b75d8a8000546568a7e3f8ac77a1f84\",\"comm_id\":\"3b22b50adcb746ae9285d02bbf87c319\",\"plot_id\":\"1080\"},\"id\":\"1081\",\"type\":\"panel.models.comm_manager.CommManager\"}],\"root_ids\":[\"1080\",\"1081\"]},\"title\":\"Bokeh Application\",\"version\":\"2.3.0\"}};\n",
       "    var render_items = [{\"docid\":\"9baf2af7-68a0-45ec-9afa-fd1e53d40aae\",\"root_ids\":[\"1080\"],\"roots\":{\"1080\":\"6ade18fc-8446-475a-9a9c-8677e5775dc9\"}}];\n",
       "    root.Bokeh.embed.embed_items_notebook(docs_json, render_items);\n",
       "  }\n",
       "  if (root.Bokeh !== undefined && root.Bokeh.Panel !== undefined) {\n",
       "    embed_document(root);\n",
       "  } else {\n",
       "    var attempts = 0;\n",
       "    var timer = setInterval(function(root) {\n",
       "      if (root.Bokeh !== undefined && root.Bokeh.Panel !== undefined) {\n",
       "        clearInterval(timer);\n",
       "        embed_document(root);\n",
       "      } else if (document.readyState == \"complete\") {\n",
       "        attempts++;\n",
       "        if (attempts > 100) {\n",
       "          clearInterval(timer);\n",
       "          console.log(\"Bokeh: ERROR: Unable to run BokehJS code because BokehJS library is missing\");\n",
       "        }\n",
       "      }\n",
       "    }, 10, root)\n",
       "  }\n",
       "})(window);</script>"
      ],
      "text/plain": [
       "Alert(str, alert_type='secondary', css_classes=['alert', 'alert-secondary...], margin=(0, 0, 25, 0), sizing_mode='stretch_width')"
      ]
     },
     "metadata": {
      "application/vnd.holoviews_exec.v0+json": {
       "id": "1080"
      }
     },
     "output_type": "display_data"
    },
    {
     "data": {},
     "metadata": {},
     "output_type": "display_data"
    },
    {
     "data": {
      "application/vnd.holoviews_exec.v0+json": "",
      "text/html": [
       "<div id='1082'>\n",
       "\n",
       "\n",
       "\n",
       "\n",
       "\n",
       "  <div class=\"bk-root\" id=\"9ff79bba-d230-4122-8f47-d2979bf64208\" data-root-id=\"1082\"></div>\n",
       "</div>\n",
       "<script type=\"application/javascript\">(function(root) {\n",
       "  function embed_document(root) {\n",
       "    var docs_json = {\"b117674e-160d-45c2-904b-04f4547a3366\":{\"defs\":[{\"extends\":null,\"module\":null,\"name\":\"DataModel\",\"overrides\":[],\"properties\":[]}],\"roots\":{\"references\":[{\"attributes\":{\"client_comm_id\":\"185a2b8013b1444faa45b0a51cd4e860\",\"comm_id\":\"bf9e1fe22c464d7692e1358ff210b3da\",\"plot_id\":\"1082\"},\"id\":\"1083\",\"type\":\"panel.models.comm_manager.CommManager\"},{\"attributes\":{\"css_classes\":[\"alert\",\"alert-info\",\"markdown\"],\"margin\":[0,0,25,0],\"name\":\"Alert00241\",\"sizing_mode\":\"stretch_width\",\"text\":\"&lt;p&gt;Copying all contigs into dir_clustering done&lt;/p&gt;\"},\"id\":\"1082\",\"type\":\"panel.models.markup.HTML\"}],\"root_ids\":[\"1082\",\"1083\"]},\"title\":\"Bokeh Application\",\"version\":\"2.3.0\"}};\n",
       "    var render_items = [{\"docid\":\"b117674e-160d-45c2-904b-04f4547a3366\",\"root_ids\":[\"1082\"],\"roots\":{\"1082\":\"9ff79bba-d230-4122-8f47-d2979bf64208\"}}];\n",
       "    root.Bokeh.embed.embed_items_notebook(docs_json, render_items);\n",
       "  }\n",
       "  if (root.Bokeh !== undefined && root.Bokeh.Panel !== undefined) {\n",
       "    embed_document(root);\n",
       "  } else {\n",
       "    var attempts = 0;\n",
       "    var timer = setInterval(function(root) {\n",
       "      if (root.Bokeh !== undefined && root.Bokeh.Panel !== undefined) {\n",
       "        clearInterval(timer);\n",
       "        embed_document(root);\n",
       "      } else if (document.readyState == \"complete\") {\n",
       "        attempts++;\n",
       "        if (attempts > 100) {\n",
       "          clearInterval(timer);\n",
       "          console.log(\"Bokeh: ERROR: Unable to run BokehJS code because BokehJS library is missing\");\n",
       "        }\n",
       "      }\n",
       "    }, 10, root)\n",
       "  }\n",
       "})(window);</script>"
      ],
      "text/plain": [
       "Alert(str, alert_type='info', css_classes=['alert', 'alert-info'], margin=(0, 0, 25, 0), sizing_mode='stretch_width')"
      ]
     },
     "metadata": {
      "application/vnd.holoviews_exec.v0+json": {
       "id": "1082"
      }
     },
     "output_type": "display_data"
    }
   ],
   "source": [
    "copy_cluster(output_assembly_contigs,output_clustering_dir)\n",
    "### ADD logger"
   ]
  },
  {
   "cell_type": "code",
   "execution_count": 8,
   "metadata": {},
   "outputs": [
    {
     "data": {},
     "metadata": {},
     "output_type": "display_data"
    },
    {
     "data": {
      "application/vnd.holoviews_exec.v0+json": "",
      "text/html": [
       "<div id='1011'>\n",
       "\n",
       "\n",
       "\n",
       "\n",
       "\n",
       "  <div class=\"bk-root\" id=\"e83a807d-c703-42d5-8cef-2f0516bc4d03\" data-root-id=\"1011\"></div>\n",
       "</div>\n",
       "<script type=\"application/javascript\">(function(root) {\n",
       "  function embed_document(root) {\n",
       "    var docs_json = {\"89c9f83c-5ad0-4cfa-9268-ff2b969a0fc0\":{\"defs\":[{\"extends\":null,\"module\":null,\"name\":\"DataModel\",\"overrides\":[],\"properties\":[]}],\"roots\":{\"references\":[{\"attributes\":{\"css_classes\":[\"alert\",\"alert-secondary\",\"markdown\"],\"margin\":[0,0,25,0],\"name\":\"Alert00116\",\"sizing_mode\":\"stretch_width\",\"text\":\"&lt;p&gt;Merging all contigs from each sample into one file&amp;hellip; on progress&lt;/p&gt;\"},\"id\":\"1011\",\"type\":\"panel.models.markup.HTML\"},{\"attributes\":{\"client_comm_id\":\"9ab85f78b96b4c8fb060510e15a6e512\",\"comm_id\":\"94573ce42f464386939b667812d5624a\",\"plot_id\":\"1011\"},\"id\":\"1012\",\"type\":\"panel.models.comm_manager.CommManager\"}],\"root_ids\":[\"1011\",\"1012\"]},\"title\":\"Bokeh Application\",\"version\":\"2.3.0\"}};\n",
       "    var render_items = [{\"docid\":\"89c9f83c-5ad0-4cfa-9268-ff2b969a0fc0\",\"root_ids\":[\"1011\"],\"roots\":{\"1011\":\"e83a807d-c703-42d5-8cef-2f0516bc4d03\"}}];\n",
       "    root.Bokeh.embed.embed_items_notebook(docs_json, render_items);\n",
       "  }\n",
       "  if (root.Bokeh !== undefined && root.Bokeh.Panel !== undefined) {\n",
       "    embed_document(root);\n",
       "  } else {\n",
       "    var attempts = 0;\n",
       "    var timer = setInterval(function(root) {\n",
       "      if (root.Bokeh !== undefined && root.Bokeh.Panel !== undefined) {\n",
       "        clearInterval(timer);\n",
       "        embed_document(root);\n",
       "      } else if (document.readyState == \"complete\") {\n",
       "        attempts++;\n",
       "        if (attempts > 100) {\n",
       "          clearInterval(timer);\n",
       "          console.log(\"Bokeh: ERROR: Unable to run BokehJS code because BokehJS library is missing\");\n",
       "        }\n",
       "      }\n",
       "    }, 10, root)\n",
       "  }\n",
       "})(window);</script>"
      ],
      "text/plain": [
       "Alert(str, alert_type='secondary', css_classes=['alert', 'alert-secondary...], margin=(0, 0, 25, 0), sizing_mode='stretch_width')"
      ]
     },
     "metadata": {
      "application/vnd.holoviews_exec.v0+json": {
       "id": "1011"
      }
     },
     "output_type": "display_data"
    },
    {
     "data": {},
     "metadata": {},
     "output_type": "display_data"
    },
    {
     "data": {
      "application/vnd.holoviews_exec.v0+json": "",
      "text/html": [
       "<div id='1013'>\n",
       "\n",
       "\n",
       "\n",
       "\n",
       "\n",
       "  <div class=\"bk-root\" id=\"be9c4164-c085-494b-9ee4-9e5f3a3ffa2d\" data-root-id=\"1013\"></div>\n",
       "</div>\n",
       "<script type=\"application/javascript\">(function(root) {\n",
       "  function embed_document(root) {\n",
       "    var docs_json = {\"96951dbd-3c5d-41a1-89cb-5c6fde2082f6\":{\"defs\":[{\"extends\":null,\"module\":null,\"name\":\"DataModel\",\"overrides\":[],\"properties\":[]}],\"roots\":{\"references\":[{\"attributes\":{\"client_comm_id\":\"c9a6583af8c0459697580a3f1295f7d3\",\"comm_id\":\"d0b09de0d8fd42a98ceed360c366d6eb\",\"plot_id\":\"1013\"},\"id\":\"1014\",\"type\":\"panel.models.comm_manager.CommManager\"},{\"attributes\":{\"css_classes\":[\"alert\",\"alert-success\",\"markdown\"],\"margin\":[0,0,25,0],\"name\":\"Alert00120\",\"sizing_mode\":\"stretch_width\",\"text\":\"&lt;p&gt;fasta file succesfully done /home/christine/Documents/These/Book/yapluka/PANTOUM/frangiPANe_rice3/03-clustering/rice3allContigs.fa&lt;/p&gt;\"},\"id\":\"1013\",\"type\":\"panel.models.markup.HTML\"}],\"root_ids\":[\"1013\",\"1014\"]},\"title\":\"Bokeh Application\",\"version\":\"2.3.0\"}};\n",
       "    var render_items = [{\"docid\":\"96951dbd-3c5d-41a1-89cb-5c6fde2082f6\",\"root_ids\":[\"1013\"],\"roots\":{\"1013\":\"be9c4164-c085-494b-9ee4-9e5f3a3ffa2d\"}}];\n",
       "    root.Bokeh.embed.embed_items_notebook(docs_json, render_items);\n",
       "  }\n",
       "  if (root.Bokeh !== undefined && root.Bokeh.Panel !== undefined) {\n",
       "    embed_document(root);\n",
       "  } else {\n",
       "    var attempts = 0;\n",
       "    var timer = setInterval(function(root) {\n",
       "      if (root.Bokeh !== undefined && root.Bokeh.Panel !== undefined) {\n",
       "        clearInterval(timer);\n",
       "        embed_document(root);\n",
       "      } else if (document.readyState == \"complete\") {\n",
       "        attempts++;\n",
       "        if (attempts > 100) {\n",
       "          clearInterval(timer);\n",
       "          console.log(\"Bokeh: ERROR: Unable to run BokehJS code because BokehJS library is missing\");\n",
       "        }\n",
       "      }\n",
       "    }, 10, root)\n",
       "  }\n",
       "})(window);</script>"
      ],
      "text/plain": [
       "Alert(str, alert_type='success', css_classes=['alert', 'alert-success']...], margin=(0, 0, 25, 0), sizing_mode='stretch_width')"
      ]
     },
     "metadata": {
      "application/vnd.holoviews_exec.v0+json": {
       "id": "1013"
      }
     },
     "output_type": "display_data"
    }
   ],
   "source": [
    "merged_contigs = output_clustering_dir+project_name+\"allContigs.fa\"    \n",
    "merging_cluster(output_clustering_dir,merged_contigs)\n",
    "\n",
    "# TODO CD : CHECK NB SEQUENCE OK ET PRINT DANS LE MSG + add logger"
   ]
  },
  {
   "cell_type": "markdown",
   "metadata": {},
   "source": [
    "#### __Run clustering__\n"
   ]
  },
  {
   "cell_type": "code",
   "execution_count": 34,
   "metadata": {},
   "outputs": [
    {
     "data": {},
     "metadata": {},
     "output_type": "display_data"
    },
    {
     "data": {
      "application/vnd.holoviews_exec.v0+json": "",
      "text/html": [
       "<div id='1715'>\n",
       "\n",
       "\n",
       "\n",
       "\n",
       "\n",
       "  <div class=\"bk-root\" id=\"b37cf984-331d-4026-af00-8e46693ea2dc\" data-root-id=\"1715\"></div>\n",
       "</div>\n",
       "<script type=\"application/javascript\">(function(root) {\n",
       "  function embed_document(root) {\n",
       "    var docs_json = {\"4e3c829f-2c1e-4c52-b5a4-af0dfe96403f\":{\"defs\":[{\"extends\":null,\"module\":null,\"name\":\"DataModel\",\"overrides\":[],\"properties\":[]}],\"roots\":{\"references\":[{\"attributes\":{\"client_comm_id\":\"c196040b2a984bac8ef5cb4ce3c77bf2\",\"comm_id\":\"19613d38e4304a7688a02f7422868cce\",\"plot_id\":\"1715\"},\"id\":\"1716\",\"type\":\"panel.models.comm_manager.CommManager\"},{\"attributes\":{\"css_classes\":[\"alert\",\"alert-secondary\",\"markdown\"],\"margin\":[0,0,25,0],\"name\":\"Alert01501\",\"sizing_mode\":\"stretch_width\",\"text\":\"&lt;p&gt;Clustering all contigs with cdhit-est.. on progress&lt;/p&gt;\"},\"id\":\"1715\",\"type\":\"panel.models.markup.HTML\"}],\"root_ids\":[\"1715\",\"1716\"]},\"title\":\"Bokeh Application\",\"version\":\"2.3.0\"}};\n",
       "    var render_items = [{\"docid\":\"4e3c829f-2c1e-4c52-b5a4-af0dfe96403f\",\"root_ids\":[\"1715\"],\"roots\":{\"1715\":\"b37cf984-331d-4026-af00-8e46693ea2dc\"}}];\n",
       "    root.Bokeh.embed.embed_items_notebook(docs_json, render_items);\n",
       "  }\n",
       "  if (root.Bokeh !== undefined && root.Bokeh.Panel !== undefined) {\n",
       "    embed_document(root);\n",
       "  } else {\n",
       "    var attempts = 0;\n",
       "    var timer = setInterval(function(root) {\n",
       "      if (root.Bokeh !== undefined && root.Bokeh.Panel !== undefined) {\n",
       "        clearInterval(timer);\n",
       "        embed_document(root);\n",
       "      } else if (document.readyState == \"complete\") {\n",
       "        attempts++;\n",
       "        if (attempts > 100) {\n",
       "          clearInterval(timer);\n",
       "          console.log(\"Bokeh: ERROR: Unable to run BokehJS code because BokehJS library is missing\");\n",
       "        }\n",
       "      }\n",
       "    }, 10, root)\n",
       "  }\n",
       "})(window);</script>"
      ],
      "text/plain": [
       "Alert(str, alert_type='secondary', css_classes=['alert', 'alert-secondary...], margin=(0, 0, 25, 0), sizing_mode='stretch_width')"
      ]
     },
     "metadata": {
      "application/vnd.holoviews_exec.v0+json": {
       "id": "1715"
      }
     },
     "output_type": "display_data"
    },
    {
     "data": {},
     "metadata": {},
     "output_type": "display_data"
    },
    {
     "data": {
      "application/vnd.holoviews_exec.v0+json": "",
      "text/html": [
       "<div id='1717'>\n",
       "\n",
       "\n",
       "\n",
       "\n",
       "\n",
       "  <div class=\"bk-root\" id=\"15e1a313-28d8-4637-8029-f06c12dd0ed0\" data-root-id=\"1717\"></div>\n",
       "</div>\n",
       "<script type=\"application/javascript\">(function(root) {\n",
       "  function embed_document(root) {\n",
       "    var docs_json = {\"ba4c61ea-02c8-45f3-b9ee-5a5f1691206d\":{\"defs\":[{\"extends\":null,\"module\":null,\"name\":\"DataModel\",\"overrides\":[],\"properties\":[]}],\"roots\":{\"references\":[{\"attributes\":{\"css_classes\":[\"alert\",\"alert-success\",\"markdown\"],\"margin\":[0,0,25,0],\"name\":\"Alert01505\",\"sizing_mode\":\"stretch_width\",\"text\":\"&lt;p&gt;Clustering successfully done !&lt;/p&gt;\"},\"id\":\"1717\",\"type\":\"panel.models.markup.HTML\"},{\"attributes\":{\"client_comm_id\":\"77cb2a5d0da34fb8bf116981a831ac48\",\"comm_id\":\"c4c00a0a67774e56926de6f92920b5f7\",\"plot_id\":\"1717\"},\"id\":\"1718\",\"type\":\"panel.models.comm_manager.CommManager\"}],\"root_ids\":[\"1717\",\"1718\"]},\"title\":\"Bokeh Application\",\"version\":\"2.3.0\"}};\n",
       "    var render_items = [{\"docid\":\"ba4c61ea-02c8-45f3-b9ee-5a5f1691206d\",\"root_ids\":[\"1717\"],\"roots\":{\"1717\":\"15e1a313-28d8-4637-8029-f06c12dd0ed0\"}}];\n",
       "    root.Bokeh.embed.embed_items_notebook(docs_json, render_items);\n",
       "  }\n",
       "  if (root.Bokeh !== undefined && root.Bokeh.Panel !== undefined) {\n",
       "    embed_document(root);\n",
       "  } else {\n",
       "    var attempts = 0;\n",
       "    var timer = setInterval(function(root) {\n",
       "      if (root.Bokeh !== undefined && root.Bokeh.Panel !== undefined) {\n",
       "        clearInterval(timer);\n",
       "        embed_document(root);\n",
       "      } else if (document.readyState == \"complete\") {\n",
       "        attempts++;\n",
       "        if (attempts > 100) {\n",
       "          clearInterval(timer);\n",
       "          console.log(\"Bokeh: ERROR: Unable to run BokehJS code because BokehJS library is missing\");\n",
       "        }\n",
       "      }\n",
       "    }, 10, root)\n",
       "  }\n",
       "})(window);</script>"
      ],
      "text/plain": [
       "Alert(str, alert_type='success', css_classes=['alert', 'alert-success']...], margin=(0, 0, 25, 0), sizing_mode='stretch_width')"
      ]
     },
     "metadata": {
      "application/vnd.holoviews_exec.v0+json": {
       "id": "1717"
      }
     },
     "output_type": "display_data"
    }
   ],
   "source": [
    "cdhit_fasta = output_clustering_dir+project_name+\"clusters.cdhit\"  \n",
    "cdhit(merged_contigs,0.8,0.95, cdhit_fasta, logger)"
   ]
  },
  {
   "cell_type": "markdown",
   "metadata": {},
   "source": [
    "#### __Analyzing cdhit results__"
   ]
  },
  {
   "cell_type": "code",
   "execution_count": 10,
   "metadata": {},
   "outputs": [],
   "source": [
    "cdhit_fasta = output_clustering_dir+project_name+\"clusters.cdhit\"  \n",
    "cdhit_cluster = cdhit_fasta + \".clstr\"\n",
    "cdhit_csv=cdhit_fasta + \".csv\"\n",
    "df_cdhit=parse_cdhit(cdhit_cluster, df_group, cdhit_csv)"
   ]
  },
  {
   "cell_type": "markdown",
   "metadata": {},
   "source": [
    "#### __Dasboard__\n"
   ]
  },
  {
   "cell_type": "code",
   "execution_count": 11,
   "metadata": {},
   "outputs": [
    {
     "data": {},
     "metadata": {},
     "output_type": "display_data"
    },
    {
     "data": {
      "application/vnd.holoviews_exec.v0+json": "",
      "text/html": [
       "<div id='1015'>\n",
       "\n",
       "\n",
       "\n",
       "\n",
       "\n",
       "  <div class=\"bk-root\" id=\"cc6dd142-1a0b-4580-95dd-7341ee7ab7f2\" data-root-id=\"1015\"></div>\n",
       "</div>\n",
       "<script type=\"application/javascript\">(function(root) {\n",
       "  function embed_document(root) {\n",
       "    var docs_json = {\"85317276-44b0-48b7-8ca4-74f43a2e8340\":{\"defs\":[{\"extends\":null,\"module\":null,\"name\":\"DataModel\",\"overrides\":[],\"properties\":[]}],\"roots\":{\"references\":[{\"attributes\":{\"css_classes\":[\"markdown\"],\"margin\":[5,5,5,5],\"name\":\"Markdown00126\",\"text\":\"&lt;h3&gt;6020 clusters&lt;/h3&gt;\\n&lt;ul&gt;\\n&lt;li&gt;min - max length : 64 bp - 25823 bp&lt;/li&gt;\\n&lt;li&gt;mean length : 285&lt;/li&gt;\\n&lt;li&gt;from 2 to  336&lt;/li&gt;\\n&lt;li&gt;with ~ 4 sequences&lt;/li&gt;\\n&lt;/ul&gt;\"},\"id\":\"1019\",\"type\":\"panel.models.markup.HTML\"},{\"attributes\":{\"height\":360,\"margin\":[5,5,5,5],\"name\":\"Matplotlib00137\",\"text\":\"&lt;img src=&quot;data:image/png;base64,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&quot; width=&quot;720px&quot; height=&quot;360px&quot; alt=&quot;&quot;&gt;&lt;/img&gt;\",\"width\":720},\"id\":\"1023\",\"type\":\"panel.models.markup.HTML\"},{\"attributes\":{\"css_classes\":[\"markdown\"],\"margin\":[5,5,5,5],\"name\":\"Markdown00128\",\"text\":\"&lt;h3&gt;32961 singletons&lt;/h3&gt;\\n&lt;ul&gt;\\n&lt;li&gt;min - max length : 64 bp -  23869 bp&lt;/li&gt;\\n&lt;li&gt;mean length : 520 bp&lt;/li&gt;\\n&lt;/ul&gt;\"},\"id\":\"1020\",\"type\":\"panel.models.markup.HTML\"},{\"attributes\":{\"client_comm_id\":\"8e50aa23ee68498580a553db5b864a7a\",\"comm_id\":\"9abdcb543897439f89661c261ffc508b\",\"plot_id\":\"1015\"},\"id\":\"1024\",\"type\":\"panel.models.comm_manager.CommManager\"},{\"attributes\":{\"height\":360,\"margin\":[5,5,5,5],\"name\":\"Matplotlib00133\",\"text\":\"&lt;img src=&quot;data:image/png;base64,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&quot; width=&quot;720px&quot; height=&quot;360px&quot; alt=&quot;&quot;&gt;&lt;/img&gt;\",\"width\":720},\"id\":\"1021\",\"type\":\"panel.models.markup.HTML\"},{\"attributes\":{\"css_classes\":[\"markdown\"],\"margin\":[5,5,5,5],\"name\":\"Markdown00124\",\"text\":\"&lt;h3&gt;38981 sequences&lt;/h3&gt;\\n&lt;ul&gt;\\n&lt;li&gt;min -  max length : 64 bp - 25823 bp&lt;/li&gt;\\n&lt;li&gt;mean length : 484 bp&lt;/li&gt;\\n&lt;/ul&gt;\"},\"id\":\"1017\",\"type\":\"panel.models.markup.HTML\"},{\"attributes\":{\"background\":\"WhiteSmoke\",\"children\":[{\"id\":\"1016\"},{\"id\":\"1017\"},{\"id\":\"1018\"},{\"id\":\"1021\"},{\"id\":\"1022\"},{\"id\":\"1023\"}],\"margin\":[0,0,0,0],\"name\":\"Column00139\",\"sizing_mode\":\"stretch_both\",\"width\":800},\"id\":\"1015\",\"type\":\"Column\"},{\"attributes\":{\"height\":360,\"margin\":[5,5,5,5],\"name\":\"Matplotlib00135\",\"text\":\"&lt;img src=&quot;data:image/png;base64,iVBORw0KGgoAAAANSUhEUgAABaAAAALQCAYAAABmJdeHAAAAOXRFWHRTb2Z0d2FyZQBNYXRwbG90bGliIHZlcnNpb24zLjMuNCwgaHR0cHM6Ly9tYXRwbG90bGliLm9yZy8QVMy6AAAACXBIWXMAABYlAAAWJQFJUiTwAABouklEQVR4nOz9e5glZXkv/H9vBmUUgUFEHSUJomjcRsXDJIoZRd0ajccovpqdRDzHeMjWYHZ2PCRoNDFbokQJumMSiZo3kJ8m+OJWc1ARFBNRdIjxiDKj4xaNwiBnOTy/P6oaFovVPd09XWtN93w+11VXzXrqearuWl29GL6r5qlqrQUAAAAAAFbaXrMuAAAAAACAtUkADQAAAADAIATQAAAAAAAMQgANAAAAAMAgBNAAAAAAAAxCAA0AAAAAwCAE0AAAAAAADEIADQAAAADAIATQAAAAAAAMQgANAAAAAMAgBNAAAAAAAAxCAA0AAAAAwCAE0AAAAAAADEIADQAAAADAIATQAAAAAAAMQgANAAAAAMAgBNAAAAAAAAxCAA0AAAAAwCAE0AAAAAAADEIADQAAAADAIATQAAAAAAAMQgANAAAAAMAgBNAAAAAAAAxCAA0AAAAAwCAE0AAAAAAADEIADQAAAADAIATQAAAAAAAMQgANAAAAAMAgBNAAAAAAAAxCAA0AAAAAwCAE0AAAAAAADEIADQAAAADAIATQAAAAAAAMQgANAAAAAMAgBNAAAAAAAAxCAA0AAAAAwCAE0AAAAAAADEIADQAAAADAIATQAAAAAAAMQgANAAAAAMAgBNAAAAAAAAxCAA0AAAAAwCAE0AAAAAAADEIADQAAAADAIATQAAAAAAAMQgANAAAAAMAgBNAAAAAAAAxCAA0AAAAAwCAE0AAAAAAADEIADQAAAADAIATQAAAAAAAMQgANAAAAAMAgBNAAAAAAAAxCAA0AAAAAwCAE0ADAmlRVR1VVq6qts65lXFWd0df2rLH23bbmZPevbwhV9ctV9emqurQ/91ZVR826LnYfe+jvxaFzvw+zrgUA2P3tPesCAABGVdXJSY4Za742yY+SXJzki0k+k+RvW2sXTKmmDUleliStteOmccxp68PwQ5Oc1lr7wkyL2U1U1a8keW//8pok3+v//OPZVATD679gOSrJF1prp82yFgBgbXAHNACwu5oL/L6X5KIkt05y1yRPSvKGJN+oqr+rqtvNM/6KJF9N8o0VqGVDkt/vl5XwrXS1XbJC+1sJz0p3fkcs0Gcl39PV4GX9+i1Jbt1au2O/nD3DmmBoR6X7LHjybMsAANYKd0ADALurs1trR4029HciPyhdWPq0fjmyqh7UWts+2re19pkkPz2VSpeotfbMWdewHLvzezqQe/Xrv2qtXTvTSgAAYJVyBzQAsGq01na01j7SWntGkscluSrJnZO8b7aVsUbdql9fNtMqAABgFRNAAwCrUmvtI0le0b/8uap6wuj2hR4MVlV7VdWzqurjVfXDqrqmqv6zqv6jqv6qqh4z0veMJBeMvG5jy3GjfeceLlhVG6rqj6vqK1V1RVXtmNRvoXOsqif0NV5cVZf1D8P7b/P03elDwSa9J32tLcnD+qZ3jZ3f1oXGTzjGw6vq76vqwqr6cb/+h6p6xAJj5o51aFX9ZFW9s6q2V9XVVXVBVR1fVfvP+0btRFXtX1XHVdWW/n28rKrOq6rXVtUBY30nvY8XjNR48hKO+7Cqel9/Lj+uqkuq6utVdVpV/XpVTfy7eFX9fFWdMvIe/LCq/qV/IGItcLw7VdWfV9V3quqqqvpmVb25vxaf1dd/xiLOd3y/i/m5/0z/u3NBf+wdVfWpqnphVd1iQv+bHLcff0p/vVzV/968pqpuOd8x+3EPqqp3V9XWftwPqurcqvqjqrrHPGMOraq3VdVX+9/NS6vqc1X1O1W170LHW67lHHNXfy+qal1Vvay/1q+s7jPug1X1kPH9j9TYcuNUQ8fUzT/vDp3nWMv6+QEAewZTcAAAq9k7k/xektsn+W9JTl/kuPf0/edckmT/JLdL8l/65SP9touS/KDfltz4ILo5k+6OPTjJ55IcluTqLOOhdVX1snRzD7e+vlulm37kQVV1ZGvtJUvd5zyuTHdOt01yi3QPe7xyZPt/LqHm1yd5Vf9yru7bp5tL9slV9cbW2u8usIv7JvmrvpZL090scWiSY5M8rD/vaxZbT1/T3ZL8S5Kf6puu6Nf37pdnVdV/ba19vW+/Ljf+jO/Qr3/QtyeLnLe7ql6Q5H+PNF2RZF2Su/XLk5L8dbq7+EfH/XGS/zHS9KMkByZ5ZL88sap+pbV2/di4eyb5RLprL0kuT3LHJC9P8oQkb19M3ctRVS9J8qe58eaWy5LcJsmR/fL0qnpca+2KecY/Oslp6a7xS9Jdh/dI8rokD8iEuYj7IP6Nufl7dcsk9+uXjemm6xkd95Qkf5Nkfd90RZJ9kty/X36lqh7VWhv/PV+2FTjmkn8v+tD/A0ke2zddm+7//R6X5Beq6hkTjjN37d8myb7prs3x6/268UHL+fkBAHsWd0ADAKtWa+3HST7av9y8mDFV9dB04fN16cK5/VtrG9KFQ3dKF1h9cuQYT0myaeT1HceW4ycc5vfShTCPTffwuv2TPHAJp3Zwkv+V5N1JNrbWDkwXgP9Jv/3FNc+d0EvVWju1tXbHJHMP1vvvY+e3aaHxc/pAay58PjHJ7fu6D07ytr79f1bVry6wm5OTfCHJvfv37DZJnpsuxH9gkucv/syS/u7L96cLn7+d5NH9Pm+T5L+mexjkTyb5h6raJ0laa9+eO/eRXW0aeT/++yKOe+vc+LP6qyQ/2Vrbt7V2myQHpbsu/jbJeIj839MFqt9L8oIkG1prB6QLA5+R5MJ+/Ttj426Rbhqag5N8M8nD+mPdJskTkxyQ7ppccVX15HQ/38v72g9ure2X7qGhj0ny9XQPtXvLArs5Nd2XR3fpfxf3T/K76b7EeFJV/eKEMa/IjeHzSUkOba0d0F83d0rywv7Yo7VuSnJKuiD2DUkOaa3tmy44PTLJZ9N9KfHuRb8BO7FCxzw5S/+9eHW66+y6dA/T3L//fTw03ZdrfzE+YO7aTzL3mXbqhM+7b0841nJ+fgDAnqS1ZrFYLBaLxbLbLOnClpbkjEX2nws6WpJbjLQf1bdtHev/P/r2Dy+hpkPnjrGTfmf0/X6c5GcW0e9ZY+1HjZzLPyWpBd6fr49uX0yN870nC9W0mPFJqq+nJfnbecb+v/32C5LsNbZt7py/mGSfCWPf1m//2BKvpV9b6OeR7iGDP+77PGfC9rm6Dl3icX+2H3dZknWLHLMh3d2tVya57zx9HpwutL4oyS0nnOfVSe4xYdzmkXM5Y2zbsq+bdHd0b+23/cI8Y++aLpy+Jt2XKTc77gLX+un99r8aa79dv8+W5A+X8HP5ZD/m1+fZftsk/7fv88Al7Heh36tlH3O5vxdJ9uuvvZbklRPG3SJdoD3x+k5yXN9+8gLnvOyfn8VisVgslj1vcQc0ALDaXTzy59suov+P+vXta545eFfAh1trX9zFffxRa23SvLxv6Nd3S/dP83cHR6SrJ0leP0+f1/brQ9MFtJO8ubV29YT20/r1zyyxrqP79Qcm/Txaa/+RGx9g+f8scd8LmbvGbpHujufFeGq6O1v/pbW2ZVKH1tqn0wX4B6ab2mDO3Hn+fWvtqxPGnZXkzEXWsRRHpbu7/IuttX+c1KG19o0k/5ruDuCj5tnPG+e51k/r1+M/96PT3WF9cZI/WEyhVXXXJA9JsiPJX85T60VJPty/fNRi9julYy719+LRuXEKjbdOOOY1Sd68QOlLtdSfHwCwhzEHNACwp/lourte75/kjKr683R3EP7fFTzGp3dx/DVJPjVpQ2vt61X13XTz294/3Z2Ms3b/fv2ffah7M621r1bVd5Lcue//rxO6nTPP/r/Trw9cZl0fX6DPx5L88kjflfD1fjk8yaer6sR0IeNX5wnqkm46hiR5RFVduMC+575k+YnceJ3N1f6JBcZ9IslDd1b4Es3VfPhOap570ONPzLN9qT/3B/Xrj7fWrszizNV6myTba/5nOd6mX89X61Ks1DGX+v7cr19/obU2aY76JDlrvmKWYaV/bwGANUYADQCsdqPhxkU769wHuL+Rbp7izf2Sqtqabm7UP2+tfX4Xa1r0g/vm8YPWzW89n++kC6APXqDPNM3V8Z0FeyXb0wXQ89V96Tztcw/qW+rfXRdT1/Z+fVBV1QIB8aK11q7r5+g+Ld2DKN/cLxdV1cfSPQTz9LFjbezXt+6XnRntM3eeC32JsrOfzXLM1bxPbnxg40ImnldrbWc/91uMtc8d61uLOOacuVr3zi7UukQrdcyl/l7MPTD1uwsca8W+cFvGzw8A2MOYggMAWO3u3a+39/+0fKdaa3+V5C7pHs71gSQ/TDc1xAuTfK6qXrmLNV23i+NXq/WzLmAeU6+rtfbZdHdA/2q6B8x9M93dy0enu+b+T1WtGxky9/fyP22t1SKWk6d4OvOZq/kDi6z5uN2g1i2LrPVZq/SYAAC7HQE0ALBqVdUtkzyyf7mkf1LeWvtea+1PW2tPTncH6c8m+Yd0D9T7g6q6z0rWukS3689tPnfq16N3Wl8794eqmi9wPWCe9l01V8fOpi04ZKz/0OaO85ML9Jmr6YcrcffzqNbala21v2mtHdNau2u6u6H/KN2D2R6b7guPOd9bRK3zmTvPOy3QZ75tu3Ld7ErNu2LuuD+1jDErMbXG7nzMJPlBv964QJ+FtgEArCgBNACwmj0/ye37P//NcnfSOuckeVq6KRn2SvLzI12un/tDLTCR6wq6RZIHT9pQVXfLjWHiuSObdoz8+ZBMtmmBY86d43LOb66Ofatq4gMGq+ru6abfGO0/tLnjPHyBPo8Y6zuY1toFrbVXJjm1b3rYyOa5+ZyPqqpbLXHXc7UvNMfzw+Zp3zHy56VeN3M136eq7jxPnyHMzR++lPdqrtbbVtXPDVDT7nLMJJmbQuiIqrrNPH02LzB+Vz4LAABuRgANAKxKVfULSd7Uv/x0a+3/LHLcvHcWt9auS/cAwKSb13bOj0b+vGEJZe6K350n7P7dfv311toX5hr7h41t7V8+aXxQVR2U5HkLHG/uHDcstdB0D0I8v//zfNOXHNevtyb5zDKOsRzv69ePrar7jW+sqnulmxIjSf5upQ66k7vXk2TuwXmj19j/L8nl6eY0/72d7H/8oW7/v379lKo6fEL/IzNPOL2L181Hk3w7ybrc+Lu42Jp3xfvSvYc7fa/mtNa+khuD6/9VVfPOS1xVt6qqfebbvlizOGbvn9JdS+uTvHjCsfZO8vIFxu/KZwEAwM0IoAGAVaOqDqiqX6iqv03yoSS3SheAHb3wyJv4w6p6X1U9uapuO7LvO1TVW9PNDd2S/PPcttbajtz40K5n7+JpLMYV6aYW+cuqun1f34aq+uMkz+n7HDdh3FyI+uqqemIfNKWqHpTkX5IsFIz+R79+SlUtaaqOfuqKV/cvn1RVb+uDy1TVQf37+stztbXWrp+0nwGcmuS8/s+nVdV/nQv1q+qR6a6hW6Q792XfQT/BL1bVp6vq+VV1wzQRVXXrqnp+kl/pm/5xbltr7Ye58cuF/1lV7+zvGp8be6uq2lxVb09y9tjxTk3ypXSB9oeq6uf7MXtV1eOS/H1u+iXKuGVdN/2c6y9J9/vyy1V1WlUdMVLzLarqgVX1v5JcsMDxl6S19oMkr+1f/s+qOrGqbpgGpKo2VtVvVdV4OP2bSa5OF8Z/tKp+vqr26sesq6p792O+mZWbomLqx+wfCviW/uXrq+qlc3eK9+/T+9J9zs1n7rPg5yd9oQEAsGStNYvFYrFYLJbdZklycrpA68dJLuyX76ULZdvIcn264O128+znqL7f1rH2E8b2c0m6cG607ZUT9vfake1zd41uTfKykT5n9NuftZNznNhvtOZ0D0icO8+L0j3YcO74J86z3wOTfGOk31V9rS3JtnQPxLvZe9KP/el0QVlLdxf4d/o6Prmz93Rk++tHjn3dhLr/aJ5xc9sPnWf7oXN9lnE93a0/j7ljXN4vc6+3Jbn7cupa4JhPHruerujfi+tH2v5Pkr0njH31WL/LJryPF0wY91+SfH+kz6W58Xfm60l+q//zGSt53fTjnz1y7cyd7w/TzS99w/uw1J/pQtdbuukh3jL2Pu9I9/s89/rkCeMe2/cbPdcfpPu8Gd3XTy3h5z1vnbtyzJ1dfwu9h+m+NPjHkX1ck+Ti3PjZ+ksj2zaOjb1Fun/RMPf58/3c+Hl3yEr8/CwWi8VisexZizugAYDd1S2S3KFfDkoX2nwzyf+X5FVJDmutPb11d0MuxVvS3ZX4gSRfSxdk7ZPuTupTkzy0tfaHE8a9LsnvpLujttI9AO2nMtA/U2+tnZDkiUk+ke5frV2V7p/z/2pr7SXzjLk4yZFJ/jzdHdt7pQsC35bk/unmt57veF9J8qgkH0kX4t0x3fnNNy/wpH28Ot2d2x9IF7Ddpj/+/5fkv7bWfneB4YNorZ2f5L7pfn5fHNn0xSR/kOQ+rbWvrfBhP5bk15L8dZJ/TxfI7pfuvfjnJM9M8oTW2rXjA1trr+/r/fN0wfFeSfZN8t10geL/yIT5e1trX0pyRJK/6PveIt2XN29JN4fzRfMVuyvXTT/+XUnuke7Lnf9IF5bv3+/jjCS/329fMa3z8nR3Fp+a7guTW6ULws9N8odJ3jBh3IeT3D3dlyXn9v03pPsS6uwkb0zygNbathWsdRbH/HGSxyU5Nt21fl26LwROT/eefXyk+46xsdek+z1+T7r39cDc+Hm390rVCADsOaq1NusaAACAAVXVs5K8K8knWmtHzbYaZq2fguZfkmxrrR0643IAgDXOHdAAAAB7lt/u1/+8YC8AgBUggAYAAFhD+gccvq+qHjP6UNGquldVvS/JL6SbF/qtMysSANhjmMMLAABgbakkT+2XVNWP0v2/36377dcneUlr7d9nUx4AsCcRQAMAAKwt1yV5Ubo7ne+d5PZJ1iXZluTMJCe01s6dXXkAwJ7EQwgBAAAAABiEOaABAAAAABiEABoAAAAAgEEIoAEAAAAAGIQAGgAAAACAQQigAQAAAAAYxN6zLgBWSlVdkGT/JFtnXAoAAADAWnFokh+11u4y60JYnQTQrCX73+pWt7rtPe95z9vOuhAAAACAteDLX/5yrrzyylmXwSomgGYt2XrPe97ztp/73OdmXQcAAADAmvCABzwg55577tZZ18HqZQ5oAAAAAAAGIYAGAAAAAGAQAmgAAAAAAAYhgAYAAAAAYBACaAAAAAAABiGABgAAAABgEAJoAAAAAAAGIYAGAAAAAGAQAmgAAAAAAAYhgAYAAAAAYBACaAAAAAAABiGABgAAAABgEAJoAAAAAAAGIYAGAAAAAGAQAmgAAAAAAAYhgAYAAAAAYBACaAAAAAAABiGABgAAAABgEAJoAAAAAAAGIYAGAAAAAGAQAmgAAAAAAAYhgAYAAAAAYBACaAAAAAAABrH3rAsAhnXVVVflnHPOuVn7pk2bsn79+hlUBAAAAMCeQgANa9w555yTl510WjYccrcb2nZsPz8nvCjZvHnzDCsDAAAAYK0TQMMeYMMhd8vBhx8x6zIAAAAA2MOYAxoAAAAAgEEIoAEAAAAAGIQAGgAAAACAQQigAQAAAAAYhAAaAAAAAIBBCKABAAAAABiEABoAAAAAgEEIoNegqvrjqvpoVX27qq6sqouq6vNV9ftVddBY30Orqi2wnLLAcY6pqs9U1WVVdUlVnVFVj1+g/7qqenlVnTdS14eq6siVPH8AAAAAYPew96wLYBAvT3Jukn9O8v0k+yZ5UJLjkrygqh7UWvv22JgtSU6bsK8vTjpAVR2f5Ngk25O8M8ktkzwjyelV9dLW2olj/SvJKUmOTvLVJCcmuW2Spyc5s6qe2lr7wJLPFAAAAADYbQmg16b9W2tXjTdW1RuSvDLJ7yZ50djmL7TWjlvMzvs7lo9N8o0km1prF/ftb0ryuSTHV9UHW2tbR4Y9I134fHaSR87VV1XvSPLJJO+sqo+11i5d9FkCAAAAALs1U3CsQZPC597f9evDd/EQL+zXb5gLn/vjbk3yZ0n2SfLssTG/0a9fPVpfa+2cJKcmOThdQA0AAAAArBEC6D3LE/r1eRO23amqfr2qXtmv77PAfh7Rrz8yYduHx/qkqtYnOTLJFUnOWswYAAAAAGD1MwXHGlZVr0hymyQHJHlgkp9PFz6/cUL3R/XL6PgzkhzTWvvWSNu+Se6c5LLW2ncn7Ofr/fruI213TbIuyTdba9cucsy8qupz82z66cWMBwAAAACmQwC9tr0iyR1GXn8kybNaa/850nZFkj9I9wDCb/Zt90n3wMKHJ/loVR3RWru833ZAv75knmPOtW8YaVvOGAAAAABglRNAr2GttTsmSVXdId0UGG9M8vmqenxr7dy+z/eT/N7Y0DOr6tHpHg74c0mel+RPp1b4TrTWHjCpvb8z+v5TLgcAAAAAmIc5oPcArbXvtdb+IcmjkxyU5N2LGHNtkr/oXz50ZNPc3coHZLK59h27OAYAAAAAWOUE0HuQ1tq2JF9Kcq+qut0ihsxN1bHvyD4uT/KdJLepqo0Txhzer7820vaNJNclOayqJt11P2kMAAAAALDKCaD3PHfq19ctou+D+vU3x9o/1q8fM2HMY8f6pLV2VZKzk9w6yebFjAEAAAAAVj8B9BpTVXevqptNdVFVe1XVG5LcPsnZrbWL+/b7V9XNroOqemSSl/cv3zu2+R39+lVVdeDImEOTvDjJ1UneNTbm7f369VW1fmTMpiRPT3e39fsXdZIAAAAAwKrgIYRrzy8m+aOq+mSSC5L8MMkdkjwsyWFJLkzy/JH+b05yeFWdnWR733afJI/o//ya1trZowdorZ1dVW9O8ltJzquq9yW5Zbog+bZJXtpa2zpW1ylJnpLk6HQPQjw93XzUT0+yLsnzW2s/2sVzBwAAAAB2IwLotedfktwtyc8nuV+SDUkuTze/8nuSvLW1dtFI//ck+aUkm9JNhXGLJN9L8ndJTmytnTXpIK21Y6vq39Pd8fyCJNcnOTfJm1prH5zQv1XVL6ebiuM5SV6a5KokZyZ5/XjIDQAAAACsfgLoNaa19sUkL1lC/79M8pfLPNbJSU5eQv9rk7ylXwAAAACANc4c0AAAAAAADEIADQAAAADAIATQAAAAAAAMQgANAAAAAMAgBNAAAAAAAAxCAA0AAAAAwCAE0AAAAAAADEIADQAAAADAIATQAAAAAAAMQgANAAAAAMAgBNAAAAAAAAxCAA0AAAAAwCAE0AAAAAAADEIADQAAAADAIATQAAAAAAAMQgANAAAAAMAgBNAAAAAAAAxCAA0AAAAAwCAE0AAAAAAADEIADQAAAADAIATQAAAAAAAMQgANAAAAAMAgBNAAAAAAAAxCAA0AAAAAwCAE0AAAAAAADEIADQAAAADAIATQAAAAAAAMQgANAAAAAMAgBNAAAAAAAAxCAA0AAAAAwCAE0AAAAAAADEIADQAAAADAIATQAAAAAAAMQgANAAAAAMAgBNAAAAAAAAxCAA0AAAAAwCAE0AAAAAAADEIADQAAAADAIATQAAAAAAAMQgANAAAAAMAgBNAAAAAAAAxCAA0AAAAAwCAE0AAAAAAADEIADQAAAADAIATQAAAAAAAMQgANAAAAAMAgBNAAAAAAAAxCAA0AAAAAwCAE0AAAAAAADEIADQAAAADAIATQAAAAAAAMQgANAAAAAMAgBNAAAAAAAAxCAA0AAAAAwCAE0AAAAAAADEIADQAAAADAIATQa1BV/XFVfbSqvl1VV1bVRVX1+ar6/ao6aJ4xR1bVh/q+V1bVeVX1sqpat8BxHl9VZ1TVJVV1WVX9W1Uds5Pajqmqz/T9L+nHP35Xz5mlue7aa7Jly5acddZZNyxXXXXVrMsCAAAAYI3Ze9YFMIiXJzk3yT8n+X6SfZM8KMlxSV5QVQ9qrX17rnNVPSnJ+5NcleTUJBcleUKStyR5SJKnjR+gql6S5G1JfpjkvUl+nOToJCdX1b1ba6+YMOb4JMcm2Z7knUlumeQZSU6vqpe21k5ciZNn5y69cFtOuuDKbNzWfb+wY/v5OeFFyebNm2dcGQAAAABriQB6bdq/tXaz21mr6g1JXpnkd5O8qG/bP10YfF2So1prn+3bX5PkY0mOrqpntNZOGdnPoUmOTxdUP7C1trVvf12Sc5IcW1Xvb619emTMkenC528k2dRau7hvf1OSzyU5vqo+OLcvhrffxsNy8OFHzLoMAAAAANYwU3CsQZPC597f9evDR9qOTnJwklPmwueRfby6f/kbY/t5TpJ9kpw4Ghj3ofIf9i9fODZm7vUb5sLnfszWJH/W7+/Z854UAAAAALDqCKD3LE/o1+eNtD2iX39kQv8zk1yR5Miq2meRYz481mdXxgAAAAAAq5gpONawqnpFktskOSDJA5P8fLrw+Y0j3e7Rr782Pr61dm1VXZDkXkkOS/LlRYz5blVdnuSQqrp1a+2Kqto3yZ2TXNZa++6EUr/er+++lPMDAAAAAHZvAui17RVJ7jDy+iNJntVa+8+RtgP69SXz7GOufcMSx+zb97timceYV1V9bp5NP72Y8QAAAADAdJiCYw1rrd2xtVZJ7pjkKenuYv58Vd1/tpUBAAAAAHsCd0DvAVpr30vyD1V1brppM96d5Gf6zXN3Hx8waexI+46RtkuS3K7f9sMFxlwytl7KMebVWnvApPb+zmjhOgAAAADsJtwBvQdprW1L8qUk96qq2/XNX+3XN5t/uar2TnKXJNcm+ebIpoXGbEw3/cb21toV/XEvT/KdJLfpt487vF/fbE5pAAAAAGD1EkDvee7Ur6/r1x/r14+Z0PehSW6d5OzW2tUj7QuNeexYn10ZAwAAAACsYgLoNaaq7l5VN5vqoqr2qqo3JLl9ukD54n7T+5L8IMkzquqBI/3XJ3l9//LtY7t7V5Krk7ykqg4dGXNgklf2L98xNmbu9av6fnNjDk3y4n5/71rkaQIAAAAAq4A5oNeeX0zyR1X1ySQXpJuj+Q5JHpbuIYQXJnn+XOfW2o+q6vnpgugzquqUJBcleWKSe/Ttp44eoLV2QVX9dpK3JvlsVZ2a5MdJjk5ySJI/aa19emzM2VX15iS/leS8qnpfklsmeXqS2yZ5aWtt60q+EQAAAADAbAmg155/SXK3JD+f5H5JNiS5PN38yu9J8tbW2kWjA1prp1XVw5K8KslTk6xPcn66sPitrbU2fpDW2tuqamuSVyR5Zrq76b+U5NWttb+eVFhr7diq+vd0dzy/IMn1Sc5N8qbW2gd37bQBAAAAgN2NAHqNaa19MclLljHuU+nunl7KmNOTnL7EMScnOXkpYwAAAACA1ckc0AAAAAAADEIADQAAAADAIATQAAAAAAAMQgANAAAAAMAgBNAAAAAAAAxCAA0AAAAAwCAE0AAAAAAADEIADQAAAADAIATQAAAAAAAMQgANAAAAAMAgBNAAAAAAAAxCAA0AAAAAwCAE0AAAAAAADGLvWRcA3NxVV12Vc84552btmzZtyvr162dQEQAAAAAsnQAadkPnnHNOXnbSadlwyN1uaNux/fyc8KJk8+bNM6wMAAAAABZPAA27qQ2H3C0HH37ErMsAAAAAgGUzBzQAAAAAAIMQQAMAAAAAMAgBNAAAAAAAgxBAAwAAAAAwCAE0AAAAAACDEEADAAAAADAIATQAAAAAAIMQQAMAAAAAMAgBNAAAAAAAgxBAAwAAAAAwCAE0AAAAAACDEEADAAAAADAIATQAAAAAAIMQQAMAAAAAMAgBNAAAAAAAgxBAAwAAAAAwCAE0AAAAAACDEEADAAAAADAIATQAAAAAAIMQQAMAAAAAMAgBNAAAAAAAgxBAAwAAAAAwCAE0AAAAAACDEEADAAAAADAIATQAAAAAAIMQQAMAAAAAMAgBNAAAAAAAgxBAAwAAAAAwCAE0AAAAAACDEEADAAAAADAIATQAAAAAAIMQQAMAAAAAMAgBNAAAAAAAgxBAAwAAAAAwCAE0AAAAAACDEEADAAAAADAIATQAAAAAAIMQQAMAAAAAMAgBNAAAAAAAgxBAAwAAAAAwCAE0AAAAAACDEECvMVV1UFU9r6r+oarOr6orq+qSqvpkVT23qvYa639oVbUFllMWONYxVfWZqrqsP8YZVfX4Bfqvq6qXV9V5fV0XVdWHqurIlXwPAAAAAIDdw96zLoAV97Qkb0/y3SQfT/KtJHdI8pQkf5HksVX1tNZaGxu3JclpE/b3xUkHqarjkxybZHuSdya5ZZJnJDm9ql7aWjtxrH8lOSXJ0Um+muTEJLdN8vQkZ1bVU1trH1jy2QIAAAAAuy0B9NrztSRPTPJ/WmvXzzVW1SuTfCbJU9OF0e8fG/eF1tpxizlAf8fysUm+kWRTa+3ivv1NST6X5Piq+mBrbevIsGekC5/PTvLI1tpV/Zh3JPlkkndW1cdaa5cu7XQBAAAAgN2VKTimqKquq6q/GfIYrbWPtdZOHw2f+/YLk7yjf3nULh7mhf36DXPhc3+MrUn+LMk+SZ49NuY3+vWr58Lnfsw5SU5NcnC6gBoAAAAAWCME0NN1abopMWblmn597YRtd6qqX6+qV/br+yywn0f0649M2PbhsT6pqvVJjkxyRZKzFjMGAAAAAFj9TMExXZ9P8l9mceCq2jvJM/uXk4LjR/XL6JgzkhzTWvvWSNu+Se6c5LLW2ncn7Ofr/fruI213TbIuyTdba5PC70ljAAAAAIBVTgA9XX+c7iF9j2qt/fOUj/3GJD+T5EOttX8cab8iyR+kewDhN/u2+yQ5LsnDk3y0qo5orV3ebzugX18yz3Hm2jeMtC1nzLyq6nPzbPrpxYwHAAAAAKZDAD1dt0939/GHq+q0JOckuTBJG+/YWnv3Sh20qn4z3UMDv5Lk18aO8/0kvzc25MyqenS6hwP+XJLnJfnTlaoHAAAAANgzCKCn6+R0YXMleUq/JDcNoKt/vSIBdFW9JF14/KUkj2ytXbSYca21a6vqL9IF0A/NjQH03N3KB0wceGP7jpG25YxZqLYHTGrv74y+/2L2AQAAAAAMTwA9Xc+e5sGq6mVJ3pLki+nC5+8vcRf/2a/3nWtorV1eVd9Jcueq2jhhHujD+/XXRtq+keS6JIdV1d4T5oGeNAYAAAAAWOUE0FPUWvvraR2rqn4n3bzPX0jyqNbaD5axmwf162+OtX8s3VQej0nyrrFtjx3pkyRprV1VVWcn2dwvH9/ZGAAAAABg9dtr1gWw8qrqNenC58+lu/N53vC5qu5fVTe7DqrqkUle3r9879jmd/TrV1XVgSNjDk3y4iRX5+bB9Nv79eurav3ImE1Jnp7ubuv3L3xmAAAAAMBq4g7oGaiqg5M8Nck9k+zbWnveSPtdkvx7a+3KZe77mCSvSzflxVlJfrOqxrttba2d3P/5zUkO7+9Q3t633SfJI/o/v6a1dvbo4Nba2VX15iS/leS8qnpfklumC5Jvm+SlrbWtY8c8Jd2c10cn+XxVnZ7koH7MuiTPb639aDnnDAAAAADsngTQU1ZVz03y1iTrc+MDB5/Xb75Dkk8neUGSv1zmIe7Sr9cledk8fT6R7oGISfKeJL+UZFO6qTBukeR7Sf4uyYmttbMm7aC1dmxV/Xu6O55fkOT6JOcmeVNr7YMT+req+uUkZyd5TpKXJrkqyZlJXj8ecgMAAAAAq58Aeoqq6lFJ/jzJeUl+P8kvJHnh3PbW2her6j+SPDnLDKBba8clOW4J/f9yF451cm4MshfT/9p0D0V8y3KOBwAAAACsLgLo6fqdJN9N8rDW2o+q6n4T+pyX5MHTLQsAAAAAYOV5COF0PTDJB3cy1/H2JHecUj0AAAAAAIMRQE/XLZNcvpM+G9I9QBAAAAAAYFUTQE/X1iQP2Emfn0vy1eFLAQAAAAAYlgB6uj6QZHNVPW3Sxqp6dpL7JHn/VKsCAAAAABiAhxBO1/9K8owkf1tVRyc5IEmq6iVJNid5SpKvJ3nbzCoEAAAAAFghAugpaq1dXFUPS/LuJKN3Qb+1X5+V5L+11nY2TzQAAAAAwG5PAD1lrbVvJTmqqu6T5MFJDkpySZJ/ba19bqbFAQAAAACsIAH0jLTWzkty3qzrAAAAAAAYigB6RqrqFknumW4e6EuSfLm1ds1sqwIAAAAAWDl7zbqAPU1VHVRV70yyI8nnk5zRr3dU1Tur6nYzLA8AAAAAYMW4A3qKquoOST6V5LB0dz1/JsmFSe6Y5Igkz03y8Kp6SGvte7OqEwAAAABgJbgDerr+MF34fEKSn2qtPby19suttYcn+akkf9pvf8PsSgQAAAAAWBnugJ6uxyc5q7X2W+MbWms/SvLyqnpgkidMvTIAAAAAgBXmDujp2i/JJ3fS56wkt5lCLQAAAAAAgxJAT9dXkmzcSZ+NSb46hVoAAAAAAAYlgJ6uP03y9Kq6z6SNVXVEkv8n3RzRAAAAAACrmjmgB1RVDx1ruiDJPyf5TFW9O8mZSb6X5A5JHpbk15J8OMnWKZYJAAAAADAIAfSwzkjSJrRXkuclee5YW5I8KckTk6wbtDIAAAAAgIEJoIf1ukwOoAEAAAAA1jwB9IBaa8fNugYAAAAAgFnxEEIAAAAAAAYhgAYAAAAAYBCm4JiyqjokycuTHJHkkCS3mNCttdbuOs26AAAAAABWmgB6iqrqqCQfSrI+ybVJvtevb9Z1elUBAAAAAAxDAD1d/yvJuiTPTPL/ttaun3E9AAAAAACDEUBP172T/G1r7b2zLgRGXXftNdmyZcvN2jdt2pT169fPoCIAAAAA1gIB9HRdnOSiWRcB4y69cFtOuuDKbNy27oa2HdvPzwkvSjZv3jzDygAAAABYzQTQ0/XBJA+bdREwyX4bD8vBhx8x6zIAAAAAWEP2mnUBe5hXJjmgqv6sqvaddTEAAAAAAENyB/QUtdZ+UFWPSfJvSZ5ZVV9Lcsnkru2R060OAAAAAGBlCaCnqKruleTjSQ7sm+43T9c2nYoAAAAAAIZjCo7penOSg5L8XpKfSnKL1tpeE5Z1C+8GAAAAAGD35w7o6Xpwkr9vrb1+1oUAAAAAAAzNHdDT9eMkW2ddBAAAAADANAigp+uMJD876yIAAAAAAKZBAD1d/yPJf6mq/1lVNetiAAAAAACGZA7o6Xp1ki8meUOS51fVF5JcMqFfa609d5qFAQAAAACsNAH0dD1r5M936ZdJWhIBNAAAAACwqgmgp2u+wBkAAAAAYM0RQE9Ra23brGsAAAAAAJgWDyEEAAAAAGAQ7oCeoqr6ycX2ba19a8haAAAAAACGJoCerq3pHjC4My1+NgAAAADAKifknK53Z3IAvSHJEUl+KskZScwVDQAAAACsegLoKWqtPWu+bVW1V5LXJHlhkmOmVRMAAAAAwFA8hHA30Vq7vrX22nTTdLxxxuUAAAAAAOwyAfTu5+wkj551EQAAAAAAu0oAvfu5bZJ9Z10EAAAAAMCuEkDvRqrqvyZ5epIvzroWAAAAAIBd5SGEU1RVH5tn095JfiLJT/avXzedigAAAAAAhiOAnq6j5mlvSS5O8o9Jjm+tzRdUAwAAAACsGgLoKWqtmfIEAAAAANhjCEQBAAAAABiEABoAAAAAgEGYgmMGquqBSX42yYFJ1k3o0lprfzDdqgAAAAAAVpYAeoqqav8kf5/k4Ulqga4tiQAaAAAAAFjVTMExXW9K8ogkn0zynCSPShdGjy+PWO4BquqgqnpeVf1DVZ1fVVdW1SVV9cmqem5VTfyZV9WRVfWhqrqoH3NeVb2sqibdoT035vFVdUa//8uq6t+q6pid1HdMVX2m739JP/7xyz1fAAAAAGD35Q7o6XpSknOTPLy1dv1Ax3hakrcn+W6Sjyf5VpI7JHlKkr9I8tiqelprrc0NqKonJXl/kquSnJrkoiRPSPKWJA/p93kTVfWSJG9L8sMk703y4yRHJzm5qu7dWnvFhDHHJzk2yfYk70xyyyTPSHJ6Vb20tXbiSrwBAAAAAMDuQQA9XQckec+A4XOSfC3JE5P8n9HjVNUrk3wmyVPThdHv79v3TxcGX5fkqNbaZ/v21yT5WJKjq+oZrbVTRvZ1aJLj0wXVD2ytbe3bX5fknCTHVtX7W2ufHhlzZLrw+RtJNrXWLu7b35Tkc0mOr6oPzu0LAAAAAFj9TMExXV9PdzfyYFprH2utnT4ecrfWLkzyjv7lUSObjk5ycJJT5sLnvv9VSV7dv/yNscM8J8k+SU4cDYz7UPkP+5cvHBsz9/oNc+FzP2Zrkj/r9/fsnZ8hAAAAALBaCKCn68+SPKGq7jyj41/Tr68daZubb/ojE/qfmeSKJEdW1T6LHPPhsT67MgYAAAAAWMVMwTFdH04Xsn6qql6bbuqJHZM6tta+tZIHrqq9kzyzfzkaAt+jX39tQg3XVtUFSe6V5LAkX17EmO9W1eVJDqmqW7fWrqiqfZPcOcllrbXvTijv6/367ks5JwAAAABg9yaAnq6tSVqSSvdAwPm0rPzP5o1JfibJh1pr/zjSfkC/vmSecXPtG5Y4Zt++3xXLPMa8qupz82z66cWMBwAAAACmQwA9Xe9OFy5PVVX9ZroHAH4lya9N+/isTtdde022bNlys/ZNmzZl/fr1M6gIAAAAgNVGAD1FrbVnTfuYVfWSJH+a5EtJHtlau2isy9zdxwdksrn2HWNjbtdv++ECYy4ZWy/lGPNqrT1gUnt/Z/T9F7MPdu7SC7flpAuuzMZt625o27H9/JzwomTz5s0zrAwAAACA1UIAvYZV1cuSvCXJF9OFz9+f0O2rSR6Ybv7lm0xt0c8bfZd0Dy385tiY2/VjPj02ZmO66Te2t9auSJLW2uVV9Z0kd66qjRPmgT68X99sTmlma7+Nh+Xgw4+YdRkAAAAArFJ7zboAhlFVv5MufP5CkofPEz4nycf69WMmbHtoklsnObu1dvUixzx2rM+ujAEAAAAAVjEB9BpUVa9J99DBz6W78/kHC3R/X5IfJHlGVT1wZB/rk7y+f/n2sTHvSnJ1kpdU1aEjYw5M8sr+5TvGxsy9flXfb27MoUle3O/vXTs7NwAAAABg9TAFxxpTVcckeV2S65KcleQ3q2q829bW2slJ0lr7UVU9P10QfUZVnZLkoiRPTHKPvv3U0cGttQuq6reTvDXJZ6vq1CQ/TnJ0kkOS/Elr7dNjY86uqjcn+a0k51XV+5LcMsnTk9w2yUtba1tX5E0AAAAAAHYLAui15y79el2Sl83T5xNJTp570Vo7raoeluRVSZ6aZH2S89OFxW9trbXxHbTW3lZVW5O8Iskz091N/6Ukr26t/fWkg7bWjq2qf093x/MLklyf5Nwkb2qtfXBJZwkAAAAA7PYE0GtMa+24JMctY9ynkvziEsecnuT0JY45OSPhNwAAAACwdpkDGgAAAACAQQigAQAAAAAYhAB6yqpqr6p6aVX9a1VdUlXXjmy7X1WdVFV3n2WNAAAAAAArQQA9RVV1yyT/nOSEJHdNcmmSGulyQZLnJPmVqRcHAAAAALDCBNDT9dtJHp7ktUnukOQvRje21nYkOTPJL0y9MgAAAACAFSaAnq5fSfKp1trrWmvXJ2kT+lyQ5CenWxYAAAAAwMoTQE/XXZL86076XJTktlOoBQAAAABgUALo6boqyYad9PnJJDsGrwQAAAAAYGAC6On6QpJH9w8jvJmqOiDd/M+fmWZRAAAAAABDEEBP158n+Ykkf1NV+49uqKoNSU5OcmCSd0y9MgAAAACAFbb3rAvYk7TW/raqHpXkWUmemOTiJKmqzya5V5J9kvxZa+1DMysSAAAAAGCFuAN6ylprz0nynCRfSnJwkkpy/yTnJ3lua+2lMywPAAAAAGDFuAN6BlprJyc5uapulW7KjUtaa5fPtioAAAAAgJUlgJ6h1tqVSa6cdR0AAAAAAEMwBccUVdUDqur3quoO82y/Y7/9iCmXBgAAAACw4gTQ03Vskucl+f4827+X5LlJfmtqFQEAAAAADEQAPV0PTvLx1lqbtLFv/1iSh0y1KgAAAACAAQigp+uOSbbvpM//TbJxCrUAAAAAAAxKAD1dVyQ5eCd9Dk5y9RRqAQAAAAAYlAB6ur6Q5ElVdZtJG6tq/yRP6vsBAAAAAKxqAujp+vN0dzj/c1XdZ3RDVd03yT8luV3fDwAAAABgVdt71gXsSVprp1bVY5M8M8nnq+p7Sb6T5M5J7pCkkry7tfa3MywTAAAAAGBFuAN6ylprz0rywiRfSvdQwgf06/9I8oJ+OwAAAADAqucO6Blorf15kj+vqlsn2ZBkR2vtitlWBQAAAACwsgTQM9SHzoJnAAAAAGBNMgUHAAAAAACDEEBPWVU9rKo+WFXfr6prquq6Ccu1s64TAAAAAGBXmYJjiqrqcUlOS7IuybeSfDWJsBkAAAAAWJME0NN1XJJrkjyutfZPM64FAAAAAGBQpuCYrp9JcqrwGQAAAADYEwigp+uyJBfNuggAAAAAgGkQQE/XR5M8eNZFAAAAAABMgwB6un4nyV2r6tVVVbMuBgAAAABgSB5COF2/n+Q/krw2yXOq6gtJdkzo11prz51iXQAAAAAAK04APV3PGvnzof0ySUsigAYAAAAAVjUB9HTdZdYFAAAAAABMiwB6ilpr22ZdAwAAAADAtHgIIQAAAAAAgxBAz0BVPaGqTqmqLVV1/kj7Pavqf1TVnWdZHwAAAADASjAFxxRVVSU5Ocmv9k1XJrnVSJeLk/xhkkryx1MtDgAAAABghQmgp+tFSX4tyV8lOTbJy5O8Zm5ja+3CqvpUksdFAM1u6Lprr8mWLVtu1r5p06asX79+BhUBAAAAsDsTQE/Xc5NsSfL81lqrqjahz9eT/MJ0y4LFufTCbTnpgiuzcdu6G9p2bD8/J7wo2bx58wwrAwAAAGB3JICernsk+d+ttUnB85zvJzl4SvXAku238bAcfPgRsy4DAAAAgFXAQwin69okO5un4M5JLptCLQAAAAAAgxJAT9eXkhzVP4zwZqpqfZJHJPn8VKsCAAAAABiAAHq63pPkp5O8papu8t5X1bokb05ypyQnT780AAAAAICVZQ7o6frfSZ6Y5DeTPC3JpUlSVe9L8qB04fMHWmt/M7MKAQAAAABWiDugp6i1dl2Sxyd5XZJ9ktw9SSV5SpJbJ/mDdME0AAAAAMCq5w7oKWutXZvkuKp6bboA+qAklyT5Sh9QAwAAAACsCQLoGWmttSRfnXUdAAAAAABDMQUHAAAAAACDcAf0FFXVxxbZtbXWHjloMQAAAAAAAxNAT9dRO9ne0j2UsA1fCgAAAADAsEzBMUWttb0mLUkOTPLoJF9IcmqSW86yTgAAAACAlSCA3g201i5prf1LkkcleViSY2dcEgAAAADALhNA70Zaaxcl+VCS5826FgAAAACAXSWA3v38KMlPzroIAAAAAIBdJYDejVTVrZI8Lsn3d3E/R1fV26rqrKr6UVW1qnrvPH0P7bfPt5yywHGOqarPVNVlVXVJVZ1RVY9foP+6qnp5VZ1XVVdW1UVV9aGqOnJXzhcAAAAA2D3tPesC9iRV9cx5Nu2d5CeS/Lckd0ty/C4e6tVJ7pvksiTbk/z0IsZsSXLahPYvTupcVcenm6t6e5J3pntw4jOSnF5VL22tnTjWv5KckuToJF9NcmKS2yZ5epIzq+qprbUPLKJOAAAAAGCVEEBP18lJ2oT26tfXJ3lvugB5V7w8XTB8frqHGn58EWO+0Fo7bjE77+9YPjbJN5Jsaq1d3Le/KcnnkhxfVR9srW0dGfaMdOHz2Uke2Vq7qh/zjiSfTPLOqvpYa+3SxdQAAAAAAOz+BNDT9ex52q9PcnGSz7bWLtzVg7TWbgicuxuPV9wL+/Ub5sLn/rhbq+rPkrwm3bn+/siY3+jXr54Ln/sx51TVqUl+LV1A/a4hCgYAAAAApk8APUWttb+edQ0LuFNV/XqSg5L8MMmnW2vnzdP3Ef36IxO2fThdAP2I9AF0Va1PcmSSK5KcNc+YX+vHCKABAAAAYI0QQDPnUf1yg6o6I8kxrbVvjbTtm+TOSS5rrX13wn6+3q/vPtJ21yTrknyztXbtIsfMq6o+N8+mxcx1DQAAAABMyV6zLoCZuyLJHyR5QJID+2Vu3uijkny0D53nHNCvL5lnf3PtG3ZxDAAAAACwyrkDeoqq6vpMfgjhzrTW2iA/q9ba95P83ljzmVX16HQPB/y5JM9L8qdDHH85WmsPmNTe3xl9/ymXAwAAAADMQwA9XWemu8v3PukePPjtJBcmuWOSn0h3R/p56R5IOFOttWur6i/SBdAPzY0B9NzdygdMHHhj+46RtuWMAQAAAABWOQH0dP1ykrOT/H2S326tXTC3oarukuT4JPdL8pjW2oWzKfEm/rNf3zAFR2vt8qr6TpI7V9XGCfNAH96vvzbS9o0k1yU5rKr2njAP9KQxAAAAAMAqZw7o6frjJBe31o4eDZ+TpH99dLq7hf94FsVN8KB+/c2x9o/168dMGPPYsT5prV2VLni/dZLNixkDAAAAAKx+Aujp+oUk/zjfxtZa67dPCnYHUVX3r6qbXQdV9cgkL+9fvnds8zv69auq6sCRMYcmeXGSq5O8a2zM2/v166tq/ciYTUmenu5u6/cv8zQAAAAAgN2QKTima7/MPw/ynAP6fstWVU9O8uT+5R379YOr6uT+zz9orb2i//ObkxxeVWcn2d633SfJI/o/v6a1dvbo/ltrZ1fVm5P8VpLzqup9SW6ZLki+bZKXtta2jpV1SpKnpLvL+/NVdXqSg/ox65I8v7X2o+WeMwAAAACw+xFAT9eXkzy9qv6otfbt8Y1V9VPpAtkv7eJxjkhyzFjbYf2SJNuSzAXQ70nyS0k2pZsK4xZJvpfk75Kc2Fo7a9IBWmvHVtW/p7vj+QXpHqp4bpI3tdY+OKF/q6q5ObCfk+SlSa5K92DG14+H3AAAAADA6ieAnq43Jfl/090B/NZ04ev3ktwhycPShbIH9P2WrbV2XJLjFtn3L5P85TKPc3KSk5fQ/9okb+kXAAAAAGCNE0BPUWvtlKramOSNSX5/bHMluSbJK1prp069OAAAAACAFSaAnrLW2luq6u+T/GqS+6W74/mSdNNX/E1rbdss6wMAAAAAWCkC6BnoQ+Y3zLoOAAAAAIAhCaBhlbju2muyZcuWm7Rt2rQp69evn1FFAAAAALAwAfSUVdVeSV6c5FeS3DPJvq21vftt90vy/CQntNa+Nrsq2R1deuG2nHTBldm4bV2SZMf283PCi5LNmzfPuDIAAAAAmEwAPUVVdcskH05yVJKLklya5DYjXS5I8pwk/5mbP6QQst/Gw3Lw4UfMuoybmHRnduLubAAAAAAE0NP220kenuS4JK9P8ntJXjO3sbW2o6rOTPILEUCzSozfmZ24OxsAAACAjgB6un4lyadaa69LkqpqE/pckOQJU60KdtHueGc2AAAAALO316wL2MPcJcm/7qTPRUluO4VaAAAAAAAGJYCerquSbNhJn59MsmPwSgAAAAAABiaAnq4vJHl0/zDCm6mqA9LN//yZaRYFAAAAADAEAfR0/XmSn0jyN1W1/+iGqtqQ5OQkByZ5x9QrAwAAAABYYR5COEWttb+tqkcleVaSJya5OEmq6rNJ7pVknyR/1lr70MyKBAAAAABYIe6AnrLW2nOSPCfJl5IcnKSS3D/J+Ume21p76QzLAwAAAABYMe6AnoHW2slJTq6qW6WbcuOS1trls60KAAAAAGBlCaBnqLV2ZZIrZ10HAAAAAMAQBNAzVlVPTPKIdFNxnNlae/+MSwIAAAAAWBHmgB5YVT2hqs6sqodN2PauJP+Q5DeTvDTJ31WVABoAAAAAWBME0MN7YrqHDP7baGNVPT7JMUmuSPL6JL+T5JtJnlxVvzztIgEAAAAAVpopOIb3s0nOaq1dNdb+nCQtybNba+9Lkqp6T5JvJPmVJH871SoBAAAAAFaYO6CHd8ck/zGh/aFJdiS5YcqN1tqFSf5PkvtNpTIAAAAAgAEJoId3YJIfjzZU1U8muW2ST7bW2lj/C5IcNKXaAAAAAAAGI4Ae3qVJDhlre0C//vw8Y8an6wAAAAAAWHUE0MP79ySPq6rbjLT9Urr5nz85of9dknx3GoUBAAAAAAxJAD28v0k3Dccnquo3q+rEdA8ZvDDJx0c7VlUl+fkkX5p6lQAAAAAAK2zvWRewB/jLJE9J8gtJjkhSSa5J8t9ba9eN9X1kuocW/ss0CwQAAAAAGIIAemCtteur6nFJfjnJkUl+mOTvW2tfmND9dkn+NMn/N70KAQAAAACGIYCegtba9emm4vibnfQ7JckpUykKAAAAAGBg5oAGAAAAAGAQAmgAAAAAAAYhgAYAAAAAYBACaAAAAAAABiGABgAAAABgEAJoAAAAAAAGIYAGAAAAAGAQe8+6AGDtue7aa7Jly5abtG3atCnr16+fUUUAAAAAzIIAGlhxl164LSddcGU2bluXJNmx/fyc8KJk8+bNM64MAAAAgGkSQAOD2G/jYTn48CNmXQYAAAAAM2QOaAAAAAAABiGABgAAAABgEAJoAAAAAAAGIYAGAAAAAGAQAmgAAAAAAAYhgAYAAAAAYBACaAAAAAAABiGABgAAAABgEAJoAAAAAAAGIYAGAAAAAGAQAmgAAAAAAAYhgAYAAAAAYBACaAAAAAAABiGABgAAAABgEAJoAAAAAAAGIYAGAAAAAGAQAmgAAAAAAAYhgAYAAAAAYBB7z7oAYO277tprsmXLlpu1b9q0KevXr59BRQAAAABMgwB6Daqqo5M8LMkRSe6bZL8kf9Na+9UFxhyZ5NVJHpTkVkm+nuSvkryttXbdPGMen+QVSe6XZF2S/0hyUmvtrxc4zjFJXpzkvyS5LsnnkxzfWvvg0s6S1eTSC7flpAuuzMZt625o27H9/JzwomTz5s0zrAwAAACAIQmg16ZXpwueL0uyPclPL9S5qp6U5P1JrkpyapKLkjwhyVuSPCTJ0yaMeUmStyX5YZL3JvlxkqOTnFxV926tvWLCmOOTHNvX9M4kt0zyjCSnV9VLW2snLudkWR3223hYDj78iFmXAQAAAMAUmQN6bXp5krsn2T/JbyzUsar2TxcGX5fkqNbac1trv53u7ulPJzm6qp4xNubQJMenC6of2Fp7cWvt5Unuk+QbSY6tqgePjTkyXfj8jST3aa29vLX24iQP6PdzfL9fAAAAAGCNEECvQa21j7fWvt5aa4vofnSSg5Oc0lr77Mg+rkp3J3Vy8xD7OUn2SXJia23ryJiLk/xh//KFY2PmXr+h7zc3ZmuSP+v39+xF1AsAAAAArBICaB7Rrz8yYduZSa5IcmRV7bPIMR8e67MrYwAAAACAVcwc0NyjX39tfENr7dqquiDJvZIcluTLixjz3aq6PMkhVXXr1toVVbVvkjsnuay19t0JNXy9X999MQVX1efm2bTgXNcAAAAAwHS5A5oD+vUl82yfa9+wjDEHjK2XcgwAAAAAYJVzBzSrTmvtAZPa+zuj7z/lcgAAAACAebgDmvG7lcfNte9YxphLxtZLOQYAAAAAsMoJoPlqv77Z/MtVtXeSuyS5Nsk3FzlmY5J9k2xvrV2RJK21y5N8J8lt+u3jDu/XN5tTGgAAAABYvQTQfKxfP2bCtocmuXWSs1trVy9yzGPH+uzKGAAAAABgFRNA874kP0jyjKp64FxjVa1P8vr+5dvHxrwrydVJXlJVh46MOTDJK/uX7xgbM/f6VX2/uTGHJnlxv7937cqJAAAAAAC7Fw8hXIOq6slJnty/vGO/fnBVndz/+QettVckSWvtR1X1/HRB9BlVdUqSi5I8Mck9+vZTR/ffWrugqn47yVuTfLaqTk3y4yRHJzkkyZ+01j49Nubsqnpzkt9Kcl5VvS/JLZM8Pcltk7y0tbZ1Rd4AAAAAAGC3IIBem45IcsxY22H9kiTbkrxibkNr7bSqeliSVyV5apL1Sc5PFxa/tbXWxg/QWntbVW3t9/PMdHfTfynJq1trfz2pqNbasVX17+nueH5BkuuTnJvkTa21Dy7rTAEAAACA3ZYAeg1qrR2X5LgljvlUkl9c4pjTk5y+xDEnJzl5KWMAAAAAgNVJAA2r1HXXXpMtW7bcrH3Tpk1Zv379DCoCAAAAgJsSQMMqdemF23LSBVdm47Z1N7Tt2H5+TnhRsnnz5hlWBgAAAAAdATSsYvttPCwHH37ErMsAAAAAgIn2mnUBAAAAAACsTQJoAAAAAAAGIYAGAAAAAGAQAmgAAAAAAAYhgAYAAAAAYBACaAAAAAAABiGABgAAAABgEAJoAAAAAAAGIYAGAAAAAGAQAmgAAAAAAAax96wLAPZM1117TbZs2XKTtquvvjpJss8++9ykfdOmTVm/fv3UagMAAABgZQiggZm49MJtOemCK7Nx27ob2rafe0bW7XdQNh5+7xvadmw/Pye8KNm8efMsygQAAABgFwiggZnZb+NhOfjwI254vWP7+dl7w8abtE26UzpxVzQAAADAaiCABnZrk+6Udlc0AAAAwOoggIY1ZNLdwlu2bMn116/u542O3ykNAAAAwOoggIY1ZPK8ymdlw903zbAqAAAAAPZUAmhYYybNqwwAAAAAs7C6/10+AAAAAAC7LQE0AAAAAACDEEADAAAAADAIATQAAAAAAIMQQAMAAAAAMAgBNAAAAAAAgxBAAwAAAAAwCAE0AAAAAACDEEADAAAAADAIATQAAAAAAIMQQAMAAAAAMAgBNAAAAAAAgxBAAwAAAAAwCAE0AAAAAACDEEADAAAAADCIvWddAMBSXXftNdmyZctN2jZt2pT169fPqCIAAAAAJhFAA6vOpRduy0kXXJmN29YlSXZsPz8nvCjZvHnzjCsDAAAAYJQAGliV9tt4WA4+/IhZlwEAAADAAswBDQAAAADAIATQAAAAAAAMQgANAAAAAMAgzAENrHrXXXtNtmzZcrP2TZs2Zf369TOoCAAAAIBEAA2sAZdeuC0nXXBlNm5bd0Pbju3n54QXJZs3b55hZQAAAAB7NgE0sCbst/GwHHz4EbMuAwAAAIAR5oAGAAAAAGAQAmgAAAAAAAYhgAYAAAAAYBACaAAAAAAABiGABgAAAABgEAJoAAAAAAAGIYAGAAAAAGAQAmgAAAAAAAYhgAYAAAAAYBB7z7oAgCFcd+012bJly83aN23alPXr18+gIgAAAIA9jwAaWJMuvXBbTrrgymzctu6Gth3bz88JL0o2b948w8oAAAAA9hwCaGDN2m/jYTn48CNmXQYAAADAHssc0AAAAAAADEIATZKkqrZWVZtnuXCeMUdW1Yeq6qKqurKqzquql1XVukn9+zGPr6ozquqSqrqsqv6tqo4Z7swAAAAAgFkxBQejLklywoT2y8YbqupJSd6f5Kokpya5KMkTkrwlyUOSPG3CmJckeVuSHyZ5b5IfJzk6yclVde/W2itW5CwAAAAAgN2CAJpRO1prx+2sU1Xtn+SdSa5LclRr7bN9+2uSfCzJ0VX1jNbaKSNjDk1yfLqg+oGtta19++uSnJPk2Kp6f2vt0yt6RgAAAADAzAigWY6jkxyc5N1z4XOStNauqqpXJ/lokt9IcsrImOck2SfJH8+Fz/2Yi6vqD5P8ZZIXJhFAM1VXXXVVzjnnnJu0bdq0KevXr59RRQAAAABrhwCaUftU1a8m+ckklyc5L8mZrbXrxvo9ol9/ZMI+zkxyRZIjq2qf1trVixjz4bE+MDXnnHNOXnbSadlwyN2SJDu2n58TXpRs3rx5xpUBAAAArH4CaEbdMcl7xtouqKpnt9Y+MdJ2j379tfEdtNauraoLktwryWFJvryIMd+tqsuTHFJVt26tXbFQkVX1uXk2/fRC42A+Gw65Ww4+/IhZlwEAAACw5gigmfOuJGcl+Y8kl6YLj1+S5AVJPlxVD26tben7HtCvL5lnX3PtG0baFjNm377fggE0DOm6a6/Jli1bbtZuWg4AAACApRNAkyRprb12rOmLSV5YVZclOTbJcUl+adp1TdJae8Ck9v7O6PtPuRxWkUnh8pYtW3L99Xvd8PrSC7flpAuuzMZt625oMy0HAAAAwPIIoNmZd6QLoB860jZ3F/MBN+9+k/YdY2Nu12/74QJj5rtDGnbZpHB5+7lnZcPdN92k334bDzMlBwAAAMAKEECzM//Zr/cdaftqkgcmuXuSm8zHXFV7J7lLkmuTfHNszO36MZ8eG7Ox3//2nc3/DLtqPFzesf382RUDAAAAsMbttfMu7OEe1K9Hw+SP9evHTOj/0CS3TnJ2a+3qRY557FgfAAAAAGANEECTqrpnVe07of3QJCf2L987sul9SX6Q5BlV9cCR/uuTvL5/+fax3b0rydVJXtLvd27MgUle2b98x/LPAgAAAADY3ZiCgyR5epJjq+rMJNuSXJrkrkkel2R9kg8lOX6uc2vtR1X1/HRB9BlVdUqSi5I8Mck9+vZTRw/QWrugqn47yVuTfLaqTk3y4yRHJzkkyZ+01m4yNQcAAAAAsLoJoEmSj6cLju+X5CHp5mPekeSTSd6T5D2ttTY6oLV2WlU9LMmrkjw1XVB9fpLfSvLW8f79mLdV1dYkr0jyzHR34H8pyatba389yJkBAAAAADMjgCattU8k+cQyxn0qyS8ucczpSU5f6rEAAAAAgNXHHNAAAAAAAAzCHdAAO3Hdtddky5YtN2vftGlT1q9fP4OKAAAAAFYHATTATlx64bacdMGV2bht3Q1tO7afnxNelGzevHmGlQEAAADs3gTQAIuw38bDcvDhR9zw2l3RAAAAADsngAZYBndFAwAAAOycABpgmcbvigYAAADgpgTQACvEtBwAAAAANyWABlghpuUAAAAAuCkBNMAKMi0HAAAAwI32mnUBAAAAAACsTQJoAAAAAAAGIYAGAAAAAGAQAmgAAAAAAAYhgAYAAAAAYBACaAAAAAAABrH3rAsA2JNcddVVOeecc27WvmnTpqxfv34GFQEAAAAMRwANMKDrrr0mW7ZsueH1li1b8lef/GYO/InDb2i7aNtX8tyHbsl973vfm4wVSgMAAACrnQAaYECXXrgtJ11wZTZuW5ck2X7uWdlw9005+PAjbuizY/v5OelfvnRDn7m2E16UbN68edolAwAAAKwYATTAwPbbeNgNgfOO7efvtA8AAADAWuEhhAAAAAAADEIADQAAAADAIEzBAbAbGn94YZJcffXVSZJ99tnnJu0eVggAAADsrgTQALuh8YcXJsn2c8/Iuv0OysbD731Dm4cVAgAAALszATTAbmr8wYQ7tp+fvTds9LBCAAAAYNUwBzQAAAAAAIMQQAMAAAAAMAgBNAAAAAAAgzAHNMAqdt2112TLli03adu0aVPWr19/w+urrroq55xzzk36XH311UmSffbZZ8GxAAAAALtCAA2wil164bacdMGV2bhtXZLuQYUnvCjZvHnzDX3OOeecvOyk07LhkLvd0Lb93DOybr+DsvHwe9/QNmksAAAAwK4QQAOscvttPCwHH37Egn02HHK3m/TZsf387L1h407HAQAAAOwKc0ADAAAAADAId0ADrCGT5oTesmVLrr/e940AAADA9AmgAdaQ8Tmhk2T7uWdlw9037XTseHjtQYUAAADArhJAA6wx43NC79h+/qLGjYfXHlQIAAAA7CoBNAA3GA2vPagQAAAA2FUmBQUAAAAAYBACaAAAAAAABmEKDgAWbfxBhXM8mBAAAACYRAANwKKNP6gwWf6DCa+66qqcc845N2sXZgMAAMDaIYAGYElGH1SYLP+u6HPOOScvO+m0bDjkbje0LTfMBgAAAHZPAmgAdsmku6Iv2vaVPPehW3Lf+973Jn3HQ+kNh9ztJmH2JMu9U9od1gAAADB7AmgAdtn4XdE7tp+fk/7lSwuG0lu2bMn119/0WbiT7qbesmVL/uqT38yBP3H4vPuaMxouu8MaAAAAZk8ADcAgdhZKbz/3rGy4+6abjJl0N/Vcv50F3JPC5cXcYQ0AAAAMRwANwNSMhtI7tp+/0z5L6QcAAADsfgTQAOzRJs0VffXVVydJ9tlnnxvazB0NAAAASyeABmCPNmmu6O3nnpF1+x2UjYffO4m5owEAAGC5BNAArAnjDzBcykMO97/TXW827cfeGzYuOMXHpDunk8XdKT1prDusAQAAWIsE0ACsCeMPMFzqQw4XMl9w/Vef/GYO/InDb2hb7J3S43ddu8MaAACAtUoADcCasZIPORy1UHA9uq9JQfWk+aQn3XUNAAAAa5EAGgAWYTHB9eSg+qbzSXdtO7/rGgAAANYCATQArKBJQfX4fNLj4fWkO6eTm88Lvdx5p3dlvmoAAADYFQJoAJixSXdOX7TtK3nuQ7fkvve97w1ti513ejxw3pX5qgEAAGBXCKABYDcw6c7pk/7lS8uad3o8cJ40bhJ3WAMAALDSBNAAsJta/rzTNw2cJ41bTHA9N3b0TulJYfOkcZPu4E6E0gAAAHsaATQArHKLCarHLSa4Tm4eVE8KmyeNm3QHt1AaAABgzyOABoA91HLusJ4vbF7s/hcTSgukAQAA1g4BNACwoNEgeTF3Vy92X3P7Gw2l3SUNAACwtgigmaqqOiTJ65I8JslBSb6b5LQkr22tXTzD0gCYkfGAe/wu6fF5qJm9SXOB7w5fEniQJgAA7H4E0ExNVd01ydlJbp/kA0m+kuRnk/z3JI+pqoe01n44wxIB2A2M3yU96YGJV199dZJkn332WXLbckPFoUPXxex/sUHp0IHqOeeck5eddFo2HHK3JLv2JcFK1jpeV7K4u+onjZt0TitZ6678LBdzvEnjxn8fJv1+LHb/AACwWAJopumkdOHzb7bW3jbXWFVvTvLyJG9I8sIZ1QbAbmryAxPPyLr9DsrGw++9pLZdCRXHQ8pdmS5k0jHHH/A4af+THgI56ZwWE6guJqBc6Jw2HHK3G74o2JUvCSad0/i5L7euufPe2dzjW7Zsyf53uutOv/hY7Ps/bjE/70l1Teq32Gt48gNDb/r7MOl3ZiWD98VeY8sNwnf1Gh6y1vH9reS+5hu73HGTxg5ppb8g213/RcZi7C5fKgLA0ATQTEV/9/Ojk2xN8mdjm38/yQuS/FpVHdtau3zK5QGwm5s0d/TeGzYuuW2xoeJ8QeBoSLnYhyouNnQdf8DjpP1PegjkfOe0s0B1MQHlQu/F9dfvdcPrXfuSYPKDLUfPfbl1zdnZ3ONzNYyafE47f/+X+/OeVNekfou9hufb/+jvw6TfmV35HRk/98VeY4v9+S53/7OodXx/K7mvSWOXOy5Z2S+nFjN2udfTfG2L+fJu6C8OlvsFw2L/1cauvGcr9cXErnxJs5i2lf5yZDX965GVvO52pY7lWItfjqzFc4LdgQCaaXl4v/6n1tr1oxtaa5dW1afSBdQPSvLRaRcHwJ5hsaHiQkHgqJ0Fm924xYeu4ybtfynntFC/xQSUu/peLPZLgknG5wZfbl3zWczDNZfz/u/Kz3sxx1zKNbwcu/Y7Mn6H9eKvscX9fJe//+nXevMvlFZqX5PGLndcsvJfTu38zvvlXU/zty3my7thvzhY7hcMk74sXMrPcmfnuStfTEyqdblf0iymbblfHs3XttwvJpb7r0dWstaVvMYmHXMlvzhY6S+Uhqx1sftf7jntDl8IwO6sWmuzroE9QFW9KckrkryitfYnE7afmOTFSV7UWnv7Tvb1uXk23fdWt7rVunve8567XO+sXXbZZfn2f+7I3re88T9eP77istRe63KL9bea+HpX2lZyX6t9/6upVu+F98J74b3YXfa/mmr1XqzOWr0Xw+7/+uuuy7pb3DJJcu3VV2bvfW615HGLHbs7vRc7q3+IWpf7Xi/3vVjOz2hWtS72Z1R7rVtU2/jPcrH7Wu41vJK1rtQ1NumYS6lrZ23zvV+78l4MVetS9r+cc5q0r+uvvSaH3vkOuc1tbpPV7stf/nKuvPLKi1prB826FlYnATRTUVV/nuT5SZ7fWvuLCdvfkOSVSV7ZWvujnexrvgD6Z5Jclm6aj2n56X79lSkeE3aFa5bVxPXKauOaZbVxzbLauGZZbdbKNXtokh+11u4y60JYnUzBwarTWnvArGuYMxeG7041wUJcs6wmrldWG9csq41rltXGNctq45qFzs2f0gLDuKRfHzDP9rn2HcOXAgAAAABMgwCaaflqv777PNvnZvj/2hRqAQAAAACmQADNtHy8Xz+6qm5y3VXVfkkekuSKJP867cIAAAAAgGEIoJmK1to3kvxTuonrXzy2+bVJ9k3yntba5VMuDQAAAAAYiIcQMk0vSnJ2krdW1SOTfDnJzyV5eLqpN141w9oAAAAAgBVWrbVZ18AepKp+IsnrkjwmyUFJvpvkH5K8trV28SxrAwAAAABWlgAaAAAAAIBBmAMaAAAAAIBBCKABAAAAABiEABoAAAAAgEEIoAEAAAAAGIQAGgAAAACAQQigAQAAAAAYhAAalqGqDqmqv6qq/1tVV1fV1qo6oaoOnHVtrG39tdbmWS6cZ8yRVfWhqrqoqq6sqvOq6mVVtW6B4zy+qs6oqkuq6rKq+reqOma4M2M1q6qjq+ptVXVWVf2ovx7fu5MxU7kuq+qYqvpM3/+Sfvzjl3uurA1LuWar6tAFPndbVZ2ywHGWdP1V1bqqenn/+3Bl//vxoao6ciXOm9Wpqg6qqudV1T9U1fn9tXFJVX2yqp5bVRP/n87nLLOy1GvW5yy7g6r646r6aFV9e+Ta+HxV/X5VHTTPGJ+zsEjVWpt1DbCqVNVdk5yd5PZJPpDkK0l+NsnDk3w1yUNaaz+cXYWsZVW1NcmGJCdM2HxZa+34sf5PSvL+JFclOTXJRUmekOQeSd7XWnvahGO8JMnbkvywH/PjJEcnOSTJn7TWXrEyZ8NaUVVfSHLfJJcl2Z7kp5P8TWvtV+fpP5XrsqqOT3JsX9P7ktwyyTOS3DbJS1trJy77pFnVlnLNVtWhSS5IsiXJaRN298XW2vsmjFvS9VdVleTv0l3XX01yet/36UnWJ3lqa+0DSz5ZVr2qemGStyf5bpKPJ/lWkjskeUqSA9J9nj6tjfyPnc9ZZmmp16zPWXYHVfXjJOcm+VKS7yfZN8mDkjwwyf9N8qDW2rdH+vuchaVorVksliUsSf4xSUv3YT/a/ua+/R2zrtGydpckW5NsXWTf/dP95enqJA8caV+f7kuUluQZY2MOTfeXqB8mOXSk/cAk5/djHjzr98Gyey3pvoA7PEklOaq/Tt47T9+pXJdJjuzbz09y4Ni+ftjv79BdOW/L6l2WeM0e2m8/eQn7X/L1l+SX+zGfSrJ+pH1T//vy/ST7zfq9s0x/SfKIdKHGXmPtd0wX7LV0wdlcu89Zy0yXZVyzPmctM19Gr4mx9jf0181JI20+Zy2WJS6m4IAl6O9+fnS6EPDPxjb/fpLLk/xaVe075dJgkqOTHJzklNbaZ+caW2tXJXl1//I3xsY8J8k+SU5srW0dGXNxkj/sX75wqIJZnVprH2+tfb21tph/VjWt63Lu9Rv6fnNjtqb7/N4nybMXUS9r0BKv2eVYzvU3d92/uv99mBtzTrq7pA5O9/vDHqa19rHW2umttevH2i9M8o7+5VEjm3zOMlPLuGaXw+csK2r0mhjzd/368JE2n7OwRAJoWJqH9+t/mvAXqkvTfZt+63T/VAeGsk9V/WpVvbKq/ntVPXyeecYe0a8/MmHbmUmuSHJkVe2zyDEfHusDyzGt69K1zEq7U1X9ev/Z++tVdZ8F+i7p+quq9enucroiyVmLGQO9a/r1tSNtPmfZnU26Zuf4nGV39IR+fd5Im89ZWKK9Z10ArDL36Ndfm2f719PdIX33JB+dSkXsie6Y5D1jbRdU1bNba58YaZv3em2tXVtVFyS5V5LDknx5EWO+W1WXJzmkqm7dWrtiV06CPdbg12X/r1DunG5e9O9OqOHr/fruu3Ae7Hke1S83qKozkhzTWvvWSNtyrr+7JlmX5JuttUmhjGuWm6mqvZM8s385Gk74nGW3tMA1O8fnLDNXVa9Icpt085U/MMnPpwuf3zjSzecsLJE7oGFpDujXl8yzfa59w/ClsId6V5JHpguh901y7yT/O908YB+uqvuO9F3O9brYMQfMsx12ZhrXpc9qVtIVSf4gyQPSzdN4YJKHpXuw1lFJPjo29daQ1/iGebazZ3pjkp9J8qHW2j+OtPucZXc13zXrc5bdySvSTa/5snTh80eSPLq19p8jfXzOwhIJoAFWkdbaa/t59b7XWruitfbF1toL0z0E81ZJjptthQBrS2vt+62132utndta29EvZ6b7F0//luRuSZ432yrZ01TVbyY5NslXkvzajMuBnVromvU5y+6ktXbH1lqlu+HnKenuYv58Vd1/tpXB6iaAhqXZ2d2fc+07hi8FbmLugS4PHWlbzvW62DHzfRMPOzON69JnNYPr/wn3X/Qvp/XZu2Oe7exBquolSf40yZeSPLy1dtFYF5+z7FYWcc1O5HOWWepv+PmHdF+EHJTk3SObfc7CEgmgYWm+2q/nm2dp7sm4880RDUOZ+ydho/88cd7rtZ+D7y7pHgDzzUWO2djvf7v5n9kFg1+XrbXLk3wnyW367eN8VrNSbvbZu8zr7xtJrktyWP97sJgx7IGq6mVJ3pbki+mCvAsndPM5y25jkdfsQnzOMlOttW3pvjy5V1Xdrm/2OQtLJICGpfl4v350Vd3k96eq9kvykHRzmP3rtAtjj/egfj36l5yP9evHTOj/0CS3TnJ2a+3qRY557FgfWI5pXZeuZaZh0mdvssTrr7V2VZKz013/mxczhj1PVf1Okrck+UK6IO/783T1OctuYQnX7EJ8zrI7uFO/vq5f+5yFpWqtWSyWJSxJ/jFJS/LSsfY39+3vmHWNlrW5JLlnkn0ntB+a7inILckrR9r3T3fXyNVJHjjSvj7dX8BbkmeM7esuSa5K8sMkh460H5jk/H7Mg2f9Xlh23yXdw4JakvfOs30q12WSI/v285McONJ+aL+fq0b3Zdlzl0Vcs/dPsteE9kf211FLcuTYtiVff0l+uR/zqSTrR9o39b8v30+y/6zfL8tsliSv6a+Pzya57U76+py1zHxZ4jXrc9Yy0yXdXckHTGjfK8kb5q6bkXafsxbLEpdqrQVYvKq6a7r/qNw+yQeSfDnJzyV5eLp//nJka+2Hs6uQtaqqjkv38JYzk2xLcmmSuyZ5XLq/7HwoyS+11n48MubJSd6X7i8npyS5KMkTk9yjb/9/2th/CKrqpUnemu4vNacm+XGSo5MckuRPWmuvGOocWZ366+zJ/cs7JvmFdHcqndW3/WD0upnWdVlVf5Lkt5Js7/d7yyRPTzeP30tbayfu0omzai3lmq2qM9L9M9ez011LSXKfJI/o//ya1trrJxxjSddfVVWSv0t3XX8lyel936en+4x/amvtA8s/a1arqjomycnp7rx7WyY/h2Fra+3kkTFPjs9ZZmSp16zPWWatnyrmj5J8MskF6T4H75DkYekeQnhhkke21r40MubJ8TkLizfrBNxiWY1Lkp9I8q4k3033H41tSU7IyLeSFstKL+n+AvS36f7CvCPJNem+ef/nJM9Mui8VJ4x7SLpw+uIkVyb59yQvT7JugWM9Ickn0oXclyc5J8kxs34PLLvnkuS4dHdnzLdsnTBmKtdlkmf1/S7vx30iyeNn/Z5ZZrss5ZpN8twkH0yyNcll6e52+la6/3HcvJPjLOn6S7J3/3vw7/3vxcX978mRK3HeltW5LOJ6bUnOmDDO56xlJstSr1mfs5ZZL0l+JsmJ6aaL+UG6+Zsv6a+t4zLPXfw+Zy2WxS/ugAYAAAAAYBAeQggAAAAAwCAE0AAAAAAADEIADQAAAADAIATQAAAAAAAMQgANAAD///buL9SysowD8O8ldSKC+VMhRIhBEKIhFohEWKZSEYESQWExKoShSCKBJFqSA0mBjBBBgeOMdJkKdhF50QxYEhYI1eSFVGKCSGmjiP8YfbvY69DmtM85jtuvPTXPA5t11re+71vv2leHH4t3AwAAQwigAQAAAAAYQgANAAAAAMAQAmgAAAAAAIYQQAMAAAAAMIQAGgAAAACAIQTQAAAAAAAMIYAGAID/M1W1v6q6qk5fdS0AAJzYBNAAAJxwpnC2V13Hm1VVt0zP8IlV1wIAAJsRQAMAAAAAMIQAGgAAAACAIQTQAACwhar6UlUdrKojVfVyVT1aVTdV1bYFc7uqDlXVu6vqx1X1VFW9UlWHq+qKDfbfNrXV+Ms0969VtWca76o6NDf38STfnk4PrrUT2ailSFVdVVV/mOp+eqpp+/LfCgAAbO2kVRcAAADHs6ral+SKJE8muSfJkSTnJbk1yYVVdXF3H123bEeSXyd5NclPk2xL8oUk+6rq9e4+MLd/Tft+NsljSX6Q5OQklyc5c0FJe5NckuTjSQ4keXyT8r+X5FNJfpbkgSQXJPlqkg8k+eRWzw4AAMsSQAMAwAaq6vLMwuf7klzW3S/NXbslszeRr0lyx7qlZye5M8lV3f3aNH9vkt8nuSGz4HjNlzMLnx9MclF3vzrN/1aS36yvqbv3VtWOzALo/d19aJNHOC/Jh7r7iWnPk5L8MskFVXVudz+81XcAAADL0IIDAAA29vUkR5NcOR8+T25N8kySyxasezHJ9Wvhc5J0958yeyv6jKp659zc3dPxprXweZp/ZLrHMr6zFj5Pex5Nctd0eu6SewMAwJa8AQ0AAAtU1Tsye5P5H0mum3XK+A+vJDljwfhj3f38gvG/TcedSV6Y/j4nyetJHlow/1fHUvMCv9uiBgAAGEoADQAAi+1MUknek3//6N8bdWSD8bVe0W+bG9ue5NkFfaST5OljvO8bqWNRDQAAMIQWHAAAsNhz0/GR7q7NPkve5/kku6b+zOuduuTeAACwUgJoAABYoLtfSHI4yZlVtWvgrR7J7P/yjy649rEN1qz1lvYWMwAAxzUBNAAAbOz2JKck2VdVO9ZfrKqdVfXhJe9x93TcU1WnzO29PcnNG6x5ZjqetuS9AQBgKD2gAQA4YVXV/k0uX93d+6rqI0muTvLnqvpFkieS7Ery/iTnJ7krydeWKOPuJF9M8ukkf6yq+5OcnOTzSX6b5IOZ/UjhvIPT2Her6qwk/0yS7t6zRB0AAPCWE0ADAHAi273JteuSvNjd11TVzzMLmS9KsiPJs5kF0d9P8pNlCujurqpLk9yY5CtJrk3yVJIDSX6Y5JLM+kTPr3m0qnYn+UZm4fjbp0sCaAAAjivV3auuAQAAWKCqLk7yQJLbuvubq64HAACOlR7QAACwYlX13gVj70py23R633+3IgAAeGtowQEAAKt3e1WdneShJH9P8r4kn8ms1/SPuvvhVRYHAABvlgAaAABW794kpyb5XGY9pl9OcjjJndMHAAD+J+kBDQAAAADAEHpAAwAAAAAwhAAaAAAAAIAhBNAAAAAAAAwhgAYAAAAAYAgBNAAAAAAAQwigAQAAAAAYQgANAAAAAMAQAmgAAAAAAIYQQAMAAAAAMIQAGgAAAACAIQTQAAAAAAAMIYAGAAAAAGAIATQAAAAAAEMIoAEAAAAAGEIADQAAAADAEAJoAAAAAACGEEADAAAAADCEABoAAAAAgCEE0AAAAAAADCGABgAAAABgCAE0AAAAAABDCKABAAAAABhCAA0AAAAAwBACaAAAAAAAhhBAAwAAAAAwhAAaAAAAAIAhBNAAAAAAAAwhgAYAAAAAYAgBNAAAAAAAQ/wLcQDueIKylgQAAAAASUVORK5CYII=&quot; width=&quot;720px&quot; height=&quot;360px&quot; alt=&quot;&quot;&gt;&lt;/img&gt;\",\"width\":720},\"id\":\"1022\",\"type\":\"panel.models.markup.HTML\"},{\"attributes\":{\"css_classes\":[\"markdown\"],\"margin\":[5,5,5,5],\"name\":\"Markdown00131\",\"text\":\"&lt;h1&gt;Some statistics about clustering step&lt;/h1&gt;\"},\"id\":\"1016\",\"type\":\"panel.models.markup.HTML\"},{\"attributes\":{\"children\":[{\"id\":\"1019\"},{\"id\":\"1020\"}],\"margin\":[0,0,0,0],\"name\":\"Row00130\"},\"id\":\"1018\",\"type\":\"Row\"}],\"root_ids\":[\"1015\",\"1024\"]},\"title\":\"Bokeh Application\",\"version\":\"2.3.0\"}};\n",
       "    var render_items = [{\"docid\":\"85317276-44b0-48b7-8ca4-74f43a2e8340\",\"root_ids\":[\"1015\"],\"roots\":{\"1015\":\"cc6dd142-1a0b-4580-95dd-7341ee7ab7f2\"}}];\n",
       "    root.Bokeh.embed.embed_items_notebook(docs_json, render_items);\n",
       "  }\n",
       "  if (root.Bokeh !== undefined && root.Bokeh.Panel !== undefined) {\n",
       "    embed_document(root);\n",
       "  } else {\n",
       "    var attempts = 0;\n",
       "    var timer = setInterval(function(root) {\n",
       "      if (root.Bokeh !== undefined && root.Bokeh.Panel !== undefined) {\n",
       "        clearInterval(timer);\n",
       "        embed_document(root);\n",
       "      } else if (document.readyState == \"complete\") {\n",
       "        attempts++;\n",
       "        if (attempts > 100) {\n",
       "          clearInterval(timer);\n",
       "          console.log(\"Bokeh: ERROR: Unable to run BokehJS code because BokehJS library is missing\");\n",
       "        }\n",
       "      }\n",
       "    }, 10, root)\n",
       "  }\n",
       "})(window);</script>"
      ],
      "text/plain": [
       "Column(background='WhiteSmoke', sizing_mode='stretch_both', width=800)\n",
       "    [0] Markdown(str)\n",
       "    [1] Markdown(str)\n",
       "    [2] Row\n",
       "        [0] Markdown(str)\n",
       "        [1] Markdown(str)\n",
       "    [3] Matplotlib(Figure)\n",
       "    [4] Matplotlib(Figure)\n",
       "    [5] Matplotlib(Figure)"
      ]
     },
     "metadata": {
      "application/vnd.holoviews_exec.v0+json": {
       "id": "1015"
      }
     },
     "output_type": "display_data"
    }
   ],
   "source": [
    "dashboard_cdhit(df_cdhit)"
   ]
  },
  {
   "cell_type": "markdown",
   "metadata": {},
   "source": [
    "[<img src=\"Images/up-arrow.png\" alt=\"Top\" width=2% align=\"right\">](#home \"Go back to the top\")\n",
    "    \n",
    "### <span style=\"color: #919395\"> 6 - Anchoring Clusters on Reference Genome<a class=\"anchor\" id=\"anchoring\"></a></span>\n",
    "\n",
    "#### __Generating panreference__\n",
    "\n",
    "#### __Mapping against panreference__\n",
    "\n",
    "#### __Anchoring contigs on reference genome__\n",
    "\n",
    "#### __Panreference dashboard__\n",
    "\n",
    "---\n"
   ]
  }
 ],
 "metadata": {
  "hide_input": false,
  "kernelspec": {
   "display_name": "Python 3 (ipykernel)",
   "language": "python",
   "name": "python3"
  },
  "language_info": {
   "codemirror_mode": {
    "name": "ipython",
    "version": 3
   },
   "file_extension": ".py",
   "mimetype": "text/x-python",
   "name": "python",
   "nbconvert_exporter": "python",
   "pygments_lexer": "ipython3",
   "version": "3.8.5"
  }
 },
 "nbformat": 4,
 "nbformat_minor": 4
}
