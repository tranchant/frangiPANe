{
 "cells": [
  {
   "cell_type": "markdown",
   "metadata": {},
   "source": [
    "<a class=\"anchor\" id=\"home\"><img src=\"Images/frangiPANe.png\" width=50% align=right></a>"
   ]
  },
  {
   "cell_type": "markdown",
   "metadata": {},
   "source": [
    "***\n",
    "\n",
    "# <span style=\"color: #3987C4;\">Table of contents</span>\n",
    "<a class=\"anchor\" id=\"home\"></a>\n",
    "\n",
    "[I - What is frangiPANe?](#whatabout)\n",
    "\n",
    "* [Map-then-assembly approach](#approach)\n",
    "* [Requirements](#requirements)\n",
    "* [Data test](#datatest)\n",
    "* [License](#license)\n",
    "    \n",
    "[II - Preparing frangiPANe analysis](#howtoconfigure)\n",
    "* [Import python packages used by frangiPANe](#importpackages)\n",
    "* [Definition of input data used by frangiPANe workflow](#configinput)\n",
    "* [Creating frangiPANe output directory](#outputdir)\n",
    "* [Creating log file](#logfile)\n",
    "* [Preparing Genome Reference for next analysis](#reference)\n",
    "* [Analyzing Group File](#group)\n",
    "    \n",
    "[III - Workflow](#workflow)\n",
    "* [1 - Stats about raw data](#rawdata)\n",
    "* [2 - Mapping the individuals reads against the reference genome](#mapping)\n",
    "* [3 - Assembly of the individuals' reads that do not map (properly paired) on the reference genome](#assembly)\n",
    "* [4 - Removing Contamination](#contamination)\n",
    "* [5 - Reducing Sequence Redundancy](#redundancy)\n",
    "* [6 - Anchoring Clusters on reference genome](#anchoring)\n",
    "\n",
    "***\n",
    "\n",
    "[<img src=\"Images/up-arrow.png\" alt=\"Top\" width=2% align=\"right\">](#home \"Go back to the top\")\n",
    "\n",
    "# <span style=\"color: #3987C4;\"> I - What is frangiPANe ?  <a class=\"anchor\" id=\"whatabout\"></a></span>\n",
    "\n",
    "This tool allows the generation of a linear panreference, from paired-end short-reads and a reference genome using a Map-Then-Assembly approach.\n",
    "\n",
    "<img src=\"Images/frangiPANe_overview.jpg\" width=70%>\n",
    "\n",
    "### <span style=\"color: #919395\"> _Map-then-assembly approach_ <a class=\"anchor\" id=\"approach\"></a></span>\n",
    "\n",
    "<img src=\"Images/approachMapThenAssembly.jpg\" width=80%>\n",
    "\n",
    "### <span style=\"color: #919395\"> _Data test_ <a class=\"anchor\" id=\"datatest\"></a></span>\n",
    "\n",
    "<details>\n",
    "\n",
    "\n",
    "#### __Rice__ \n",
    "\n",
    "##### _Illumina sequenced dataset_\n",
    "\n",
    "3 African Rice whole-genome sequences (Cubry and al., 2018) were used (paired-end illumina, 2x101bp, ~35X) :\n",
    "\n",
    "* AA, _O. barthii_ (African Rice wild)\n",
    "* AB, _O. barthii_ (African Rice wild)\n",
    "* DT, _O. glaberrima_ (African Rice cultivated)\n",
    "\n",
    "><sub><sup>Cubry P, Tranchant-Dubreuil C, Thuillet AC, Monat C, Ndjiondjop MN, Labadie K, Cruaud C, Engelen S, Scarcelli N, Rhoné B, Burgarella C, Dupuy C, Larmande P, Wincker P, François O, Sabot F, Vigouroux Y. The Rise and Fall of African Rice Cultivation Revealed by Analysis of 246 New Genomes. Curr Biol. 2018 Jul 23;28(14):2274-2282.e6. doi: 10.1016/j.cub.2018.05.066. Epub 2018 Jul 5. PMID: 29983312.</sub></sup>\n",
    "\n",
    "##### _Genome Reference_\n",
    "\n",
    "_Oryza glaberrima_ (OMAPv2 sequence, ref)\n",
    "\n",
    "</details>\n",
    "\n",
    "### <span style=\"color: #919395\">_Requirements_ <a class=\"anchor\" id=\"requirements\"></a></span>\n",
    "\n",
    "<details>\n",
    "\n",
    "* python version\n",
    "\n",
    "* Python modules used\n",
    "    * os, io, subprocess\n",
    "    * Ipython\n",
    "    * ipywidgets\n",
    "    * trailets\n",
    "    * tkinter\n",
    "    * numpy, pandas\n",
    "    * matplotlib\n",
    "    * seaborn\n",
    "    * panel\n",
    "    \n",
    "* Bioinformatics software (version)\n",
    "    * ea-utils (fastq-stats [doc] (https://expressionanalysis.github.io/ea-utils/)] : Command-line tools for processing biological sequencing data. \n",
    "    * BWA [[doc](http://bio-bwa.sourceforge.net/bwa.shtml), [github](https://github.com/lh3/bwa)] : software package for mapping DNA sequences against a large reference genome\n",
    "    * Samtools [[doc](http://www.htslib.org/doc/samtools.html)] : suite of programs for interacting with high-throughput sequencing data : http://www.htslib.org/download/\n",
    "    * ABySS [[github](https://github.com/bcgsc/abyss)] : de novo sequence assembler intended for short paired-end reads and large genomes\n",
    "    * assembly-stats [[github](https://github.com/sanger-pathogens/assembly-stats)] \n",
    "    * cd_hit [[github](https://github.com/weizhongli/cdhit/blob/master/doc/cdhit-user-guide.wiki)]\n",
    "\n",
    "</details>\n",
    "\n",
    "### <span style=\"color: #919395\">_License_ <a class=\"anchor\" id=\"license\"></a></span>\n",
    "\n",
    "* Licencied under CeCill-C (http://www.cecill.info/licences/Licence_CeCILL-C_V1-en.html) and GPLv3\n",
    "* Intellectual property belongs to IRD, ... and SouthGreen development platform\n",
    "* Written by Clothilde Chenal and Christine Tranchant-Dubreuil\n",
    "* Copyright 2021"
   ]
  },
  {
   "cell_type": "markdown",
   "metadata": {},
   "source": [
    "from IPython.display import Javascript\n",
    "Javascript(\"Jupyter.notebook.execute_cells([2])\")nts/These/frangiPANeGIT/ricents/These/frangiPANeGIT/ricents/These/frangiPANeGIT/rice***\n",
    "\n",
    "[<img src=\"Images/up-arrow.png\" alt=\"Top\" width=2% align=\"right\">](#home \"Go back to the top\")\n",
    "\n",
    "# <span style=\"color: #3987C4;\">II - Preparing frangiPANe analysis <a class=\"anchor\" id=\"howtoconfigure\"></a></span>\n",
    "\n",
    "### <span style=\"color: #919395\"> _Import python packages used by frangiPANe_ </span>"
   ]
  },
  {
   "cell_type": "code",
   "execution_count": 1,
   "metadata": {
    "tags": [
     "plotcell"
    ]
   },
   "outputs": [
    {
     "data": {
      "application/javascript": [
       "\n",
       "(function(root) {\n",
       "  function now() {\n",
       "    return new Date();\n",
       "  }\n",
       "\n",
       "  var force = true;\n",
       "\n",
       "  if (typeof root._bokeh_onload_callbacks === \"undefined\" || force === true) {\n",
       "    root._bokeh_onload_callbacks = [];\n",
       "    root._bokeh_is_loading = undefined;\n",
       "  }\n",
       "\n",
       "  if (typeof (root._bokeh_timeout) === \"undefined\" || force === true) {\n",
       "    root._bokeh_timeout = Date.now() + 5000;\n",
       "    root._bokeh_failed_load = false;\n",
       "  }\n",
       "\n",
       "  function run_callbacks() {\n",
       "    try {\n",
       "      root._bokeh_onload_callbacks.forEach(function(callback) {\n",
       "        if (callback != null)\n",
       "          callback();\n",
       "      });\n",
       "    } finally {\n",
       "      delete root._bokeh_onload_callbacks\n",
       "    }\n",
       "    console.debug(\"Bokeh: all callbacks have finished\");\n",
       "  }\n",
       "\n",
       "  function load_libs(css_urls, js_urls, js_modules, callback) {\n",
       "    if (css_urls == null) css_urls = [];\n",
       "    if (js_urls == null) js_urls = [];\n",
       "    if (js_modules == null) js_modules = [];\n",
       "\n",
       "    root._bokeh_onload_callbacks.push(callback);\n",
       "    if (root._bokeh_is_loading > 0) {\n",
       "      console.debug(\"Bokeh: BokehJS is being loaded, scheduling callback at\", now());\n",
       "      return null;\n",
       "    }\n",
       "    if (js_urls.length === 0 && js_modules.length === 0) {\n",
       "      run_callbacks();\n",
       "      return null;\n",
       "    }\n",
       "    console.debug(\"Bokeh: BokehJS not loaded, scheduling load and callback at\", now());\n",
       "    root._bokeh_is_loading = css_urls.length + js_urls.length + js_modules.length;\n",
       "\n",
       "    function on_load() {\n",
       "      root._bokeh_is_loading--;\n",
       "      if (root._bokeh_is_loading === 0) {\n",
       "        console.debug(\"Bokeh: all BokehJS libraries/stylesheets loaded\");\n",
       "        run_callbacks()\n",
       "      }\n",
       "    }\n",
       "\n",
       "    function on_error() {\n",
       "      console.error(\"failed to load \" + url);\n",
       "    }\n",
       "\n",
       "    for (var i = 0; i < css_urls.length; i++) {\n",
       "      var url = css_urls[i];\n",
       "      const element = document.createElement(\"link\");\n",
       "      element.onload = on_load;\n",
       "      element.onerror = on_error;\n",
       "      element.rel = \"stylesheet\";\n",
       "      element.type = \"text/css\";\n",
       "      element.href = url;\n",
       "      console.debug(\"Bokeh: injecting link tag for BokehJS stylesheet: \", url);\n",
       "      document.body.appendChild(element);\n",
       "    }\n",
       "\n",
       "    var skip = [];\n",
       "    if (window.requirejs) {\n",
       "      window.requirejs.config({'paths': {'tabulator': 'https://unpkg.com/tabulator-tables@4.9.3/dist/js/tabulator'}});\n",
       "      require([\"tabulator\"], function(Tabulator,) {\n",
       "        window.Tabulator = Tabulator;\n",
       "      })\n",
       "    }\n",
       "    if (((window['tabulator'] !== undefined) && (!(window['tabulator'] instanceof HTMLElement))) || window.requirejs) {\n",
       "      var urls = ['https://unpkg.com/tabulator-tables@4.9.3/dist/js/tabulator.js', 'https://unpkg.com/moment@2.27.0/moment.js'];\n",
       "      for (var i = 0; i < urls.length; i++) {\n",
       "        skip.push(urls[i])\n",
       "      }\n",
       "    }\n",
       "    for (var i = 0; i < js_urls.length; i++) {\n",
       "      var url = js_urls[i];\n",
       "      if (skip.indexOf(url) >= 0) { on_load(); continue; }\n",
       "      var element = document.createElement('script');\n",
       "      element.onload = on_load;\n",
       "      element.onerror = on_error;\n",
       "      element.async = false;\n",
       "      element.src = url;\n",
       "      console.debug(\"Bokeh: injecting script tag for BokehJS library: \", url);\n",
       "      document.head.appendChild(element);\n",
       "    }\n",
       "    for (var i = 0; i < js_modules.length; i++) {\n",
       "      var url = js_modules[i];\n",
       "      if (skip.indexOf(url) >= 0) { on_load(); continue; }\n",
       "      var element = document.createElement('script');\n",
       "      element.onload = on_load;\n",
       "      element.onerror = on_error;\n",
       "      element.async = false;\n",
       "      element.src = url;\n",
       "      element.type = \"module\";\n",
       "      console.debug(\"Bokeh: injecting script tag for BokehJS library: \", url);\n",
       "      document.head.appendChild(element);\n",
       "    }\n",
       "    if (!js_urls.length && !js_modules.length) {\n",
       "      on_load()\n",
       "    }\n",
       "  };\n",
       "\n",
       "  function inject_raw_css(css) {\n",
       "    const element = document.createElement(\"style\");\n",
       "    element.appendChild(document.createTextNode(css));\n",
       "    document.body.appendChild(element);\n",
       "  }\n",
       "\n",
       "  var js_urls = [\"https://unpkg.com/tabulator-tables@4.9.3/dist/js/tabulator.js\", \"https://unpkg.com/moment@2.27.0/moment.js\", \"https://cdn.bokeh.org/bokeh/release/bokeh-2.3.3.min.js\", \"https://cdn.bokeh.org/bokeh/release/bokeh-widgets-2.3.3.min.js\", \"https://cdn.bokeh.org/bokeh/release/bokeh-tables-2.3.3.min.js\", \"https://unpkg.com/@holoviz/panel@0.11.1/dist/panel.min.js\"];\n",
       "  var js_modules = [];\n",
       "  var css_urls = [\"https://unpkg.com/tabulator-tables@4.9.3/dist/css/tabulator_simple.min.css\", \"https://unpkg.com/@holoviz/panel@0.11.1/dist/css/widgets.css\", \"https://unpkg.com/@holoviz/panel@0.11.1/dist/css/loading.css\", \"https://unpkg.com/@holoviz/panel@0.11.1/dist/css/dataframe.css\", \"https://unpkg.com/@holoviz/panel@0.11.1/dist/css/alerts.css\", \"https://unpkg.com/@holoviz/panel@0.11.1/dist/css/markdown.css\", \"https://unpkg.com/@holoviz/panel@0.11.1/dist/css/json.css\", \"https://unpkg.com/@holoviz/panel@0.11.1/dist/css/card.css\"];\n",
       "  var inline_js = [\n",
       "    function(Bokeh) {\n",
       "      inject_raw_css(\"\\n    .bk.pn-loading.arcs:before {\\n      background-image: url(\\\"data:image/svg+xml;base64,PHN2ZyB4bWxucz0iaHR0cDovL3d3dy53My5vcmcvMjAwMC9zdmciIHhtbG5zOnhsaW5rPSJodHRwOi8vd3d3LnczLm9yZy8xOTk5L3hsaW5rIiBzdHlsZT0ibWFyZ2luOiBhdXRvOyBiYWNrZ3JvdW5kOiBub25lOyBkaXNwbGF5OiBibG9jazsgc2hhcGUtcmVuZGVyaW5nOiBhdXRvOyIgdmlld0JveD0iMCAwIDEwMCAxMDAiIHByZXNlcnZlQXNwZWN0UmF0aW89InhNaWRZTWlkIj4gIDxjaXJjbGUgY3g9IjUwIiBjeT0iNTAiIHI9IjMyIiBzdHJva2Utd2lkdGg9IjgiIHN0cm9rZT0iI2MzYzNjMyIgc3Ryb2tlLWRhc2hhcnJheT0iNTAuMjY1NDgyNDU3NDM2NjkgNTAuMjY1NDgyNDU3NDM2NjkiIGZpbGw9Im5vbmUiIHN0cm9rZS1saW5lY2FwPSJyb3VuZCI+ICAgIDxhbmltYXRlVHJhbnNmb3JtIGF0dHJpYnV0ZU5hbWU9InRyYW5zZm9ybSIgdHlwZT0icm90YXRlIiByZXBlYXRDb3VudD0iaW5kZWZpbml0ZSIgZHVyPSIxcyIga2V5VGltZXM9IjA7MSIgdmFsdWVzPSIwIDUwIDUwOzM2MCA1MCA1MCI+PC9hbmltYXRlVHJhbnNmb3JtPiAgPC9jaXJjbGU+PC9zdmc+\\\")\\n    }\\n    \");\n",
       "    },\n",
       "    function(Bokeh) {\n",
       "      Bokeh.set_log_level(\"info\");\n",
       "    },\n",
       "    function(Bokeh) {} // ensure no trailing comma for IE\n",
       "  ];\n",
       "\n",
       "  function run_inline_js() {\n",
       "    if ((root.Bokeh !== undefined) || (force === true)) {\n",
       "      for (var i = 0; i < inline_js.length; i++) {\n",
       "        inline_js[i].call(root, root.Bokeh);\n",
       "      }} else if (Date.now() < root._bokeh_timeout) {\n",
       "      setTimeout(run_inline_js, 100);\n",
       "    } else if (!root._bokeh_failed_load) {\n",
       "      console.log(\"Bokeh: BokehJS failed to load within specified timeout.\");\n",
       "      root._bokeh_failed_load = true;\n",
       "    }\n",
       "  }\n",
       "\n",
       "  if (root._bokeh_is_loading === 0) {\n",
       "    console.debug(\"Bokeh: BokehJS loaded, going straight to plotting\");\n",
       "    run_inline_js();\n",
       "  } else {\n",
       "    load_libs(css_urls, js_urls, js_modules, function() {\n",
       "      console.debug(\"Bokeh: BokehJS plotting callback run at\", now());\n",
       "      run_inline_js();\n",
       "    });\n",
       "  }\n",
       "}(window));"
      ],
      "application/vnd.holoviews_load.v0+json": "\n(function(root) {\n  function now() {\n    return new Date();\n  }\n\n  var force = true;\n\n  if (typeof root._bokeh_onload_callbacks === \"undefined\" || force === true) {\n    root._bokeh_onload_callbacks = [];\n    root._bokeh_is_loading = undefined;\n  }\n\n  if (typeof (root._bokeh_timeout) === \"undefined\" || force === true) {\n    root._bokeh_timeout = Date.now() + 5000;\n    root._bokeh_failed_load = false;\n  }\n\n  function run_callbacks() {\n    try {\n      root._bokeh_onload_callbacks.forEach(function(callback) {\n        if (callback != null)\n          callback();\n      });\n    } finally {\n      delete root._bokeh_onload_callbacks\n    }\n    console.debug(\"Bokeh: all callbacks have finished\");\n  }\n\n  function load_libs(css_urls, js_urls, js_modules, callback) {\n    if (css_urls == null) css_urls = [];\n    if (js_urls == null) js_urls = [];\n    if (js_modules == null) js_modules = [];\n\n    root._bokeh_onload_callbacks.push(callback);\n    if (root._bokeh_is_loading > 0) {\n      console.debug(\"Bokeh: BokehJS is being loaded, scheduling callback at\", now());\n      return null;\n    }\n    if (js_urls.length === 0 && js_modules.length === 0) {\n      run_callbacks();\n      return null;\n    }\n    console.debug(\"Bokeh: BokehJS not loaded, scheduling load and callback at\", now());\n    root._bokeh_is_loading = css_urls.length + js_urls.length + js_modules.length;\n\n    function on_load() {\n      root._bokeh_is_loading--;\n      if (root._bokeh_is_loading === 0) {\n        console.debug(\"Bokeh: all BokehJS libraries/stylesheets loaded\");\n        run_callbacks()\n      }\n    }\n\n    function on_error() {\n      console.error(\"failed to load \" + url);\n    }\n\n    for (var i = 0; i < css_urls.length; i++) {\n      var url = css_urls[i];\n      const element = document.createElement(\"link\");\n      element.onload = on_load;\n      element.onerror = on_error;\n      element.rel = \"stylesheet\";\n      element.type = \"text/css\";\n      element.href = url;\n      console.debug(\"Bokeh: injecting link tag for BokehJS stylesheet: \", url);\n      document.body.appendChild(element);\n    }\n\n    var skip = [];\n    if (window.requirejs) {\n      window.requirejs.config({'paths': {'tabulator': 'https://unpkg.com/tabulator-tables@4.9.3/dist/js/tabulator'}});\n      require([\"tabulator\"], function(Tabulator,) {\n        window.Tabulator = Tabulator;\n      })\n    }\n    if (((window['tabulator'] !== undefined) && (!(window['tabulator'] instanceof HTMLElement))) || window.requirejs) {\n      var urls = ['https://unpkg.com/tabulator-tables@4.9.3/dist/js/tabulator.js', 'https://unpkg.com/moment@2.27.0/moment.js'];\n      for (var i = 0; i < urls.length; i++) {\n        skip.push(urls[i])\n      }\n    }\n    for (var i = 0; i < js_urls.length; i++) {\n      var url = js_urls[i];\n      if (skip.indexOf(url) >= 0) { on_load(); continue; }\n      var element = document.createElement('script');\n      element.onload = on_load;\n      element.onerror = on_error;\n      element.async = false;\n      element.src = url;\n      console.debug(\"Bokeh: injecting script tag for BokehJS library: \", url);\n      document.head.appendChild(element);\n    }\n    for (var i = 0; i < js_modules.length; i++) {\n      var url = js_modules[i];\n      if (skip.indexOf(url) >= 0) { on_load(); continue; }\n      var element = document.createElement('script');\n      element.onload = on_load;\n      element.onerror = on_error;\n      element.async = false;\n      element.src = url;\n      element.type = \"module\";\n      console.debug(\"Bokeh: injecting script tag for BokehJS library: \", url);\n      document.head.appendChild(element);\n    }\n    if (!js_urls.length && !js_modules.length) {\n      on_load()\n    }\n  };\n\n  function inject_raw_css(css) {\n    const element = document.createElement(\"style\");\n    element.appendChild(document.createTextNode(css));\n    document.body.appendChild(element);\n  }\n\n  var js_urls = [\"https://unpkg.com/tabulator-tables@4.9.3/dist/js/tabulator.js\", \"https://unpkg.com/moment@2.27.0/moment.js\", \"https://cdn.bokeh.org/bokeh/release/bokeh-2.3.3.min.js\", \"https://cdn.bokeh.org/bokeh/release/bokeh-widgets-2.3.3.min.js\", \"https://cdn.bokeh.org/bokeh/release/bokeh-tables-2.3.3.min.js\", \"https://unpkg.com/@holoviz/panel@0.11.1/dist/panel.min.js\"];\n  var js_modules = [];\n  var css_urls = [\"https://unpkg.com/tabulator-tables@4.9.3/dist/css/tabulator_simple.min.css\", \"https://unpkg.com/@holoviz/panel@0.11.1/dist/css/widgets.css\", \"https://unpkg.com/@holoviz/panel@0.11.1/dist/css/loading.css\", \"https://unpkg.com/@holoviz/panel@0.11.1/dist/css/dataframe.css\", \"https://unpkg.com/@holoviz/panel@0.11.1/dist/css/alerts.css\", \"https://unpkg.com/@holoviz/panel@0.11.1/dist/css/markdown.css\", \"https://unpkg.com/@holoviz/panel@0.11.1/dist/css/json.css\", \"https://unpkg.com/@holoviz/panel@0.11.1/dist/css/card.css\"];\n  var inline_js = [\n    function(Bokeh) {\n      inject_raw_css(\"\\n    .bk.pn-loading.arcs:before {\\n      background-image: url(\\\"data:image/svg+xml;base64,PHN2ZyB4bWxucz0iaHR0cDovL3d3dy53My5vcmcvMjAwMC9zdmciIHhtbG5zOnhsaW5rPSJodHRwOi8vd3d3LnczLm9yZy8xOTk5L3hsaW5rIiBzdHlsZT0ibWFyZ2luOiBhdXRvOyBiYWNrZ3JvdW5kOiBub25lOyBkaXNwbGF5OiBibG9jazsgc2hhcGUtcmVuZGVyaW5nOiBhdXRvOyIgdmlld0JveD0iMCAwIDEwMCAxMDAiIHByZXNlcnZlQXNwZWN0UmF0aW89InhNaWRZTWlkIj4gIDxjaXJjbGUgY3g9IjUwIiBjeT0iNTAiIHI9IjMyIiBzdHJva2Utd2lkdGg9IjgiIHN0cm9rZT0iI2MzYzNjMyIgc3Ryb2tlLWRhc2hhcnJheT0iNTAuMjY1NDgyNDU3NDM2NjkgNTAuMjY1NDgyNDU3NDM2NjkiIGZpbGw9Im5vbmUiIHN0cm9rZS1saW5lY2FwPSJyb3VuZCI+ICAgIDxhbmltYXRlVHJhbnNmb3JtIGF0dHJpYnV0ZU5hbWU9InRyYW5zZm9ybSIgdHlwZT0icm90YXRlIiByZXBlYXRDb3VudD0iaW5kZWZpbml0ZSIgZHVyPSIxcyIga2V5VGltZXM9IjA7MSIgdmFsdWVzPSIwIDUwIDUwOzM2MCA1MCA1MCI+PC9hbmltYXRlVHJhbnNmb3JtPiAgPC9jaXJjbGU+PC9zdmc+\\\")\\n    }\\n    \");\n    },\n    function(Bokeh) {\n      Bokeh.set_log_level(\"info\");\n    },\n    function(Bokeh) {} // ensure no trailing comma for IE\n  ];\n\n  function run_inline_js() {\n    if ((root.Bokeh !== undefined) || (force === true)) {\n      for (var i = 0; i < inline_js.length; i++) {\n        inline_js[i].call(root, root.Bokeh);\n      }} else if (Date.now() < root._bokeh_timeout) {\n      setTimeout(run_inline_js, 100);\n    } else if (!root._bokeh_failed_load) {\n      console.log(\"Bokeh: BokehJS failed to load within specified timeout.\");\n      root._bokeh_failed_load = true;\n    }\n  }\n\n  if (root._bokeh_is_loading === 0) {\n    console.debug(\"Bokeh: BokehJS loaded, going straight to plotting\");\n    run_inline_js();\n  } else {\n    load_libs(css_urls, js_urls, js_modules, function() {\n      console.debug(\"Bokeh: BokehJS plotting callback run at\", now());\n      run_inline_js();\n    });\n  }\n}(window));"
     },
     "metadata": {},
     "output_type": "display_data"
    },
    {
     "data": {
      "application/javascript": [
       "\n",
       "if ((window.PyViz === undefined) || (window.PyViz instanceof HTMLElement)) {\n",
       "  window.PyViz = {comms: {}, comm_status:{}, kernels:{}, receivers: {}, plot_index: []}\n",
       "}\n",
       "\n",
       "\n",
       "    function JupyterCommManager() {\n",
       "    }\n",
       "\n",
       "    JupyterCommManager.prototype.register_target = function(plot_id, comm_id, msg_handler) {\n",
       "      if (window.comm_manager || ((window.Jupyter !== undefined) && (Jupyter.notebook.kernel != null))) {\n",
       "        var comm_manager = window.comm_manager || Jupyter.notebook.kernel.comm_manager;\n",
       "        comm_manager.register_target(comm_id, function(comm) {\n",
       "          comm.on_msg(msg_handler);\n",
       "        });\n",
       "      } else if ((plot_id in window.PyViz.kernels) && (window.PyViz.kernels[plot_id])) {\n",
       "        window.PyViz.kernels[plot_id].registerCommTarget(comm_id, function(comm) {\n",
       "          comm.onMsg = msg_handler;\n",
       "        });\n",
       "      } else if (typeof google != 'undefined' && google.colab.kernel != null) {\n",
       "        google.colab.kernel.comms.registerTarget(comm_id, (comm) => {\n",
       "          var messages = comm.messages[Symbol.asyncIterator]();\n",
       "          function processIteratorResult(result) {\n",
       "            var message = result.value;\n",
       "            console.log(message)\n",
       "            var content = {data: message.data, comm_id};\n",
       "            var buffers = []\n",
       "            for (var buffer of message.buffers || []) {\n",
       "              buffers.push(new DataView(buffer))\n",
       "            }\n",
       "            var metadata = message.metadata || {};\n",
       "            var msg = {content, buffers, metadata}\n",
       "            msg_handler(msg);\n",
       "            return messages.next().then(processIteratorResult);\n",
       "          }\n",
       "          return messages.next().then(processIteratorResult);\n",
       "        })\n",
       "      }\n",
       "    }\n",
       "\n",
       "    JupyterCommManager.prototype.get_client_comm = function(plot_id, comm_id, msg_handler) {\n",
       "      if (comm_id in window.PyViz.comms) {\n",
       "        return window.PyViz.comms[comm_id];\n",
       "      } else if (window.comm_manager || ((window.Jupyter !== undefined) && (Jupyter.notebook.kernel != null))) {\n",
       "        var comm_manager = window.comm_manager || Jupyter.notebook.kernel.comm_manager;\n",
       "        var comm = comm_manager.new_comm(comm_id, {}, {}, {}, comm_id);\n",
       "        if (msg_handler) {\n",
       "          comm.on_msg(msg_handler);\n",
       "        }\n",
       "      } else if ((plot_id in window.PyViz.kernels) && (window.PyViz.kernels[plot_id])) {\n",
       "        var comm = window.PyViz.kernels[plot_id].connectToComm(comm_id);\n",
       "        comm.open();\n",
       "        if (msg_handler) {\n",
       "          comm.onMsg = msg_handler;\n",
       "        }\n",
       "      } else if (typeof google != 'undefined' && google.colab.kernel != null) {\n",
       "        var comm_promise = google.colab.kernel.comms.open(comm_id)\n",
       "        comm_promise.then((comm) => {\n",
       "          window.PyViz.comms[comm_id] = comm;\n",
       "          if (msg_handler) {\n",
       "            var messages = comm.messages[Symbol.asyncIterator]();\n",
       "            function processIteratorResult(result) {\n",
       "              var message = result.value;\n",
       "              var content = {data: message.data};\n",
       "              var metadata = message.metadata || {comm_id};\n",
       "              var msg = {content, metadata}\n",
       "              msg_handler(msg);\n",
       "              return messages.next().then(processIteratorResult);\n",
       "            }\n",
       "            return messages.next().then(processIteratorResult);\n",
       "          }\n",
       "        }) \n",
       "        var sendClosure = (data, metadata, buffers, disposeOnDone) => {\n",
       "          return comm_promise.then((comm) => {\n",
       "            comm.send(data, metadata, buffers, disposeOnDone);\n",
       "          });\n",
       "        };\n",
       "        var comm = {\n",
       "          send: sendClosure\n",
       "        };\n",
       "      }\n",
       "      window.PyViz.comms[comm_id] = comm;\n",
       "      return comm;\n",
       "    }\n",
       "    window.PyViz.comm_manager = new JupyterCommManager();\n",
       "    \n",
       "\n",
       "\n",
       "var JS_MIME_TYPE = 'application/javascript';\n",
       "var HTML_MIME_TYPE = 'text/html';\n",
       "var EXEC_MIME_TYPE = 'application/vnd.holoviews_exec.v0+json';\n",
       "var CLASS_NAME = 'output';\n",
       "\n",
       "/**\n",
       " * Render data to the DOM node\n",
       " */\n",
       "function render(props, node) {\n",
       "  var div = document.createElement(\"div\");\n",
       "  var script = document.createElement(\"script\");\n",
       "  node.appendChild(div);\n",
       "  node.appendChild(script);\n",
       "}\n",
       "\n",
       "/**\n",
       " * Handle when a new output is added\n",
       " */\n",
       "function handle_add_output(event, handle) {\n",
       "  var output_area = handle.output_area;\n",
       "  var output = handle.output;\n",
       "  if ((output.data == undefined) || (!output.data.hasOwnProperty(EXEC_MIME_TYPE))) {\n",
       "    return\n",
       "  }\n",
       "  var id = output.metadata[EXEC_MIME_TYPE][\"id\"];\n",
       "  var toinsert = output_area.element.find(\".\" + CLASS_NAME.split(' ')[0]);\n",
       "  if (id !== undefined) {\n",
       "    var nchildren = toinsert.length;\n",
       "    var html_node = toinsert[nchildren-1].children[0];\n",
       "    html_node.innerHTML = output.data[HTML_MIME_TYPE];\n",
       "    var scripts = [];\n",
       "    var nodelist = html_node.querySelectorAll(\"script\");\n",
       "    for (var i in nodelist) {\n",
       "      if (nodelist.hasOwnProperty(i)) {\n",
       "        scripts.push(nodelist[i])\n",
       "      }\n",
       "    }\n",
       "\n",
       "    scripts.forEach( function (oldScript) {\n",
       "      var newScript = document.createElement(\"script\");\n",
       "      var attrs = [];\n",
       "      var nodemap = oldScript.attributes;\n",
       "      for (var j in nodemap) {\n",
       "        if (nodemap.hasOwnProperty(j)) {\n",
       "          attrs.push(nodemap[j])\n",
       "        }\n",
       "      }\n",
       "      attrs.forEach(function(attr) { newScript.setAttribute(attr.name, attr.value) });\n",
       "      newScript.appendChild(document.createTextNode(oldScript.innerHTML));\n",
       "      oldScript.parentNode.replaceChild(newScript, oldScript);\n",
       "    });\n",
       "    if (JS_MIME_TYPE in output.data) {\n",
       "      toinsert[nchildren-1].children[1].textContent = output.data[JS_MIME_TYPE];\n",
       "    }\n",
       "    output_area._hv_plot_id = id;\n",
       "    if ((window.Bokeh !== undefined) && (id in Bokeh.index)) {\n",
       "      window.PyViz.plot_index[id] = Bokeh.index[id];\n",
       "    } else {\n",
       "      window.PyViz.plot_index[id] = null;\n",
       "    }\n",
       "  } else if (output.metadata[EXEC_MIME_TYPE][\"server_id\"] !== undefined) {\n",
       "    var bk_div = document.createElement(\"div\");\n",
       "    bk_div.innerHTML = output.data[HTML_MIME_TYPE];\n",
       "    var script_attrs = bk_div.children[0].attributes;\n",
       "    for (var i = 0; i < script_attrs.length; i++) {\n",
       "      toinsert[toinsert.length - 1].childNodes[1].setAttribute(script_attrs[i].name, script_attrs[i].value);\n",
       "    }\n",
       "    // store reference to server id on output_area\n",
       "    output_area._bokeh_server_id = output.metadata[EXEC_MIME_TYPE][\"server_id\"];\n",
       "  }\n",
       "}\n",
       "\n",
       "/**\n",
       " * Handle when an output is cleared or removed\n",
       " */\n",
       "function handle_clear_output(event, handle) {\n",
       "  var id = handle.cell.output_area._hv_plot_id;\n",
       "  var server_id = handle.cell.output_area._bokeh_server_id;\n",
       "  if (((id === undefined) || !(id in PyViz.plot_index)) && (server_id !== undefined)) { return; }\n",
       "  var comm = window.PyViz.comm_manager.get_client_comm(\"hv-extension-comm\", \"hv-extension-comm\", function () {});\n",
       "  if (server_id !== null) {\n",
       "    comm.send({event_type: 'server_delete', 'id': server_id});\n",
       "    return;\n",
       "  } else if (comm !== null) {\n",
       "    comm.send({event_type: 'delete', 'id': id});\n",
       "  }\n",
       "  delete PyViz.plot_index[id];\n",
       "  if ((window.Bokeh !== undefined) & (id in window.Bokeh.index)) {\n",
       "    var doc = window.Bokeh.index[id].model.document\n",
       "    doc.clear();\n",
       "    const i = window.Bokeh.documents.indexOf(doc);\n",
       "    if (i > -1) {\n",
       "      window.Bokeh.documents.splice(i, 1);\n",
       "    }\n",
       "  }\n",
       "}\n",
       "\n",
       "/**\n",
       " * Handle kernel restart event\n",
       " */\n",
       "function handle_kernel_cleanup(event, handle) {\n",
       "  delete PyViz.comms[\"hv-extension-comm\"];\n",
       "  window.PyViz.plot_index = {}\n",
       "}\n",
       "\n",
       "/**\n",
       " * Handle update_display_data messages\n",
       " */\n",
       "function handle_update_output(event, handle) {\n",
       "  handle_clear_output(event, {cell: {output_area: handle.output_area}})\n",
       "  handle_add_output(event, handle)\n",
       "}\n",
       "\n",
       "function register_renderer(events, OutputArea) {\n",
       "  function append_mime(data, metadata, element) {\n",
       "    // create a DOM node to render to\n",
       "    var toinsert = this.create_output_subarea(\n",
       "    metadata,\n",
       "    CLASS_NAME,\n",
       "    EXEC_MIME_TYPE\n",
       "    );\n",
       "    this.keyboard_manager.register_events(toinsert);\n",
       "    // Render to node\n",
       "    var props = {data: data, metadata: metadata[EXEC_MIME_TYPE]};\n",
       "    render(props, toinsert[0]);\n",
       "    element.append(toinsert);\n",
       "    return toinsert\n",
       "  }\n",
       "\n",
       "  events.on('output_added.OutputArea', handle_add_output);\n",
       "  events.on('output_updated.OutputArea', handle_update_output);\n",
       "  events.on('clear_output.CodeCell', handle_clear_output);\n",
       "  events.on('delete.Cell', handle_clear_output);\n",
       "  events.on('kernel_ready.Kernel', handle_kernel_cleanup);\n",
       "\n",
       "  OutputArea.prototype.register_mime_type(EXEC_MIME_TYPE, append_mime, {\n",
       "    safe: true,\n",
       "    index: 0\n",
       "  });\n",
       "}\n",
       "\n",
       "if (window.Jupyter !== undefined) {\n",
       "  try {\n",
       "    var events = require('base/js/events');\n",
       "    var OutputArea = require('notebook/js/outputarea').OutputArea;\n",
       "    if (OutputArea.prototype.mime_types().indexOf(EXEC_MIME_TYPE) == -1) {\n",
       "      register_renderer(events, OutputArea);\n",
       "    }\n",
       "  } catch(err) {\n",
       "  }\n",
       "}\n"
      ],
      "application/vnd.holoviews_load.v0+json": "\nif ((window.PyViz === undefined) || (window.PyViz instanceof HTMLElement)) {\n  window.PyViz = {comms: {}, comm_status:{}, kernels:{}, receivers: {}, plot_index: []}\n}\n\n\n    function JupyterCommManager() {\n    }\n\n    JupyterCommManager.prototype.register_target = function(plot_id, comm_id, msg_handler) {\n      if (window.comm_manager || ((window.Jupyter !== undefined) && (Jupyter.notebook.kernel != null))) {\n        var comm_manager = window.comm_manager || Jupyter.notebook.kernel.comm_manager;\n        comm_manager.register_target(comm_id, function(comm) {\n          comm.on_msg(msg_handler);\n        });\n      } else if ((plot_id in window.PyViz.kernels) && (window.PyViz.kernels[plot_id])) {\n        window.PyViz.kernels[plot_id].registerCommTarget(comm_id, function(comm) {\n          comm.onMsg = msg_handler;\n        });\n      } else if (typeof google != 'undefined' && google.colab.kernel != null) {\n        google.colab.kernel.comms.registerTarget(comm_id, (comm) => {\n          var messages = comm.messages[Symbol.asyncIterator]();\n          function processIteratorResult(result) {\n            var message = result.value;\n            console.log(message)\n            var content = {data: message.data, comm_id};\n            var buffers = []\n            for (var buffer of message.buffers || []) {\n              buffers.push(new DataView(buffer))\n            }\n            var metadata = message.metadata || {};\n            var msg = {content, buffers, metadata}\n            msg_handler(msg);\n            return messages.next().then(processIteratorResult);\n          }\n          return messages.next().then(processIteratorResult);\n        })\n      }\n    }\n\n    JupyterCommManager.prototype.get_client_comm = function(plot_id, comm_id, msg_handler) {\n      if (comm_id in window.PyViz.comms) {\n        return window.PyViz.comms[comm_id];\n      } else if (window.comm_manager || ((window.Jupyter !== undefined) && (Jupyter.notebook.kernel != null))) {\n        var comm_manager = window.comm_manager || Jupyter.notebook.kernel.comm_manager;\n        var comm = comm_manager.new_comm(comm_id, {}, {}, {}, comm_id);\n        if (msg_handler) {\n          comm.on_msg(msg_handler);\n        }\n      } else if ((plot_id in window.PyViz.kernels) && (window.PyViz.kernels[plot_id])) {\n        var comm = window.PyViz.kernels[plot_id].connectToComm(comm_id);\n        comm.open();\n        if (msg_handler) {\n          comm.onMsg = msg_handler;\n        }\n      } else if (typeof google != 'undefined' && google.colab.kernel != null) {\n        var comm_promise = google.colab.kernel.comms.open(comm_id)\n        comm_promise.then((comm) => {\n          window.PyViz.comms[comm_id] = comm;\n          if (msg_handler) {\n            var messages = comm.messages[Symbol.asyncIterator]();\n            function processIteratorResult(result) {\n              var message = result.value;\n              var content = {data: message.data};\n              var metadata = message.metadata || {comm_id};\n              var msg = {content, metadata}\n              msg_handler(msg);\n              return messages.next().then(processIteratorResult);\n            }\n            return messages.next().then(processIteratorResult);\n          }\n        }) \n        var sendClosure = (data, metadata, buffers, disposeOnDone) => {\n          return comm_promise.then((comm) => {\n            comm.send(data, metadata, buffers, disposeOnDone);\n          });\n        };\n        var comm = {\n          send: sendClosure\n        };\n      }\n      window.PyViz.comms[comm_id] = comm;\n      return comm;\n    }\n    window.PyViz.comm_manager = new JupyterCommManager();\n    \n\n\nvar JS_MIME_TYPE = 'application/javascript';\nvar HTML_MIME_TYPE = 'text/html';\nvar EXEC_MIME_TYPE = 'application/vnd.holoviews_exec.v0+json';\nvar CLASS_NAME = 'output';\n\n/**\n * Render data to the DOM node\n */\nfunction render(props, node) {\n  var div = document.createElement(\"div\");\n  var script = document.createElement(\"script\");\n  node.appendChild(div);\n  node.appendChild(script);\n}\n\n/**\n * Handle when a new output is added\n */\nfunction handle_add_output(event, handle) {\n  var output_area = handle.output_area;\n  var output = handle.output;\n  if ((output.data == undefined) || (!output.data.hasOwnProperty(EXEC_MIME_TYPE))) {\n    return\n  }\n  var id = output.metadata[EXEC_MIME_TYPE][\"id\"];\n  var toinsert = output_area.element.find(\".\" + CLASS_NAME.split(' ')[0]);\n  if (id !== undefined) {\n    var nchildren = toinsert.length;\n    var html_node = toinsert[nchildren-1].children[0];\n    html_node.innerHTML = output.data[HTML_MIME_TYPE];\n    var scripts = [];\n    var nodelist = html_node.querySelectorAll(\"script\");\n    for (var i in nodelist) {\n      if (nodelist.hasOwnProperty(i)) {\n        scripts.push(nodelist[i])\n      }\n    }\n\n    scripts.forEach( function (oldScript) {\n      var newScript = document.createElement(\"script\");\n      var attrs = [];\n      var nodemap = oldScript.attributes;\n      for (var j in nodemap) {\n        if (nodemap.hasOwnProperty(j)) {\n          attrs.push(nodemap[j])\n        }\n      }\n      attrs.forEach(function(attr) { newScript.setAttribute(attr.name, attr.value) });\n      newScript.appendChild(document.createTextNode(oldScript.innerHTML));\n      oldScript.parentNode.replaceChild(newScript, oldScript);\n    });\n    if (JS_MIME_TYPE in output.data) {\n      toinsert[nchildren-1].children[1].textContent = output.data[JS_MIME_TYPE];\n    }\n    output_area._hv_plot_id = id;\n    if ((window.Bokeh !== undefined) && (id in Bokeh.index)) {\n      window.PyViz.plot_index[id] = Bokeh.index[id];\n    } else {\n      window.PyViz.plot_index[id] = null;\n    }\n  } else if (output.metadata[EXEC_MIME_TYPE][\"server_id\"] !== undefined) {\n    var bk_div = document.createElement(\"div\");\n    bk_div.innerHTML = output.data[HTML_MIME_TYPE];\n    var script_attrs = bk_div.children[0].attributes;\n    for (var i = 0; i < script_attrs.length; i++) {\n      toinsert[toinsert.length - 1].childNodes[1].setAttribute(script_attrs[i].name, script_attrs[i].value);\n    }\n    // store reference to server id on output_area\n    output_area._bokeh_server_id = output.metadata[EXEC_MIME_TYPE][\"server_id\"];\n  }\n}\n\n/**\n * Handle when an output is cleared or removed\n */\nfunction handle_clear_output(event, handle) {\n  var id = handle.cell.output_area._hv_plot_id;\n  var server_id = handle.cell.output_area._bokeh_server_id;\n  if (((id === undefined) || !(id in PyViz.plot_index)) && (server_id !== undefined)) { return; }\n  var comm = window.PyViz.comm_manager.get_client_comm(\"hv-extension-comm\", \"hv-extension-comm\", function () {});\n  if (server_id !== null) {\n    comm.send({event_type: 'server_delete', 'id': server_id});\n    return;\n  } else if (comm !== null) {\n    comm.send({event_type: 'delete', 'id': id});\n  }\n  delete PyViz.plot_index[id];\n  if ((window.Bokeh !== undefined) & (id in window.Bokeh.index)) {\n    var doc = window.Bokeh.index[id].model.document\n    doc.clear();\n    const i = window.Bokeh.documents.indexOf(doc);\n    if (i > -1) {\n      window.Bokeh.documents.splice(i, 1);\n    }\n  }\n}\n\n/**\n * Handle kernel restart event\n */\nfunction handle_kernel_cleanup(event, handle) {\n  delete PyViz.comms[\"hv-extension-comm\"];\n  window.PyViz.plot_index = {}\n}\n\n/**\n * Handle update_display_data messages\n */\nfunction handle_update_output(event, handle) {\n  handle_clear_output(event, {cell: {output_area: handle.output_area}})\n  handle_add_output(event, handle)\n}\n\nfunction register_renderer(events, OutputArea) {\n  function append_mime(data, metadata, element) {\n    // create a DOM node to render to\n    var toinsert = this.create_output_subarea(\n    metadata,\n    CLASS_NAME,\n    EXEC_MIME_TYPE\n    );\n    this.keyboard_manager.register_events(toinsert);\n    // Render to node\n    var props = {data: data, metadata: metadata[EXEC_MIME_TYPE]};\n    render(props, toinsert[0]);\n    element.append(toinsert);\n    return toinsert\n  }\n\n  events.on('output_added.OutputArea', handle_add_output);\n  events.on('output_updated.OutputArea', handle_update_output);\n  events.on('clear_output.CodeCell', handle_clear_output);\n  events.on('delete.Cell', handle_clear_output);\n  events.on('kernel_ready.Kernel', handle_kernel_cleanup);\n\n  OutputArea.prototype.register_mime_type(EXEC_MIME_TYPE, append_mime, {\n    safe: true,\n    index: 0\n  });\n}\n\nif (window.Jupyter !== undefined) {\n  try {\n    var events = require('base/js/events');\n    var OutputArea = require('notebook/js/outputarea').OutputArea;\n    if (OutputArea.prototype.mime_types().indexOf(EXEC_MIME_TYPE) == -1) {\n      register_renderer(events, OutputArea);\n    }\n  } catch(err) {\n  }\n}\n"
     },
     "metadata": {},
     "output_type": "display_data"
    },
    {
     "data": {},
     "metadata": {},
     "output_type": "display_data"
    },
    {
     "data": {
      "application/vnd.holoviews_exec.v0+json": "",
      "text/html": [
       "<div id='1002'>\n",
       "\n",
       "\n",
       "\n",
       "\n",
       "\n",
       "  <div class=\"bk-root\" id=\"cb5f595b-9d29-4d8e-bb9e-017bb907b456\" data-root-id=\"1002\"></div>\n",
       "</div>\n",
       "<script type=\"application/javascript\">(function(root) {\n",
       "  function embed_document(root) {\n",
       "    var docs_json = {\"0ea629b9-8deb-41c7-9935-4423d3d557da\":{\"defs\":[],\"roots\":{\"references\":[{\"attributes\":{\"reload\":false},\"id\":\"1004\",\"type\":\"panel.models.location.Location\"},{\"attributes\":{\"client_comm_id\":\"aa69de9aa4a64e4c817af3ba471c6e7e\",\"comm_id\":\"d48855520a6447ed91be2a1c7165ddf5\",\"plot_id\":\"1002\"},\"id\":\"1003\",\"type\":\"panel.models.comm_manager.CommManager\"},{\"attributes\":{\"css_classes\":[\"alert\",\"alert-success\",\"markdown\"],\"margin\":[0,0,25,0],\"name\":\"Alert00099\",\"sizing_mode\":\"stretch_width\",\"text\":\"&lt;p&gt;Import all python packages required successfully&lt;/p&gt;\"},\"id\":\"1002\",\"type\":\"panel.models.markup.HTML\"}],\"root_ids\":[\"1002\",\"1003\",\"1004\"]},\"title\":\"Bokeh Application\",\"version\":\"2.3.3\"}};\n",
       "    var render_items = [{\"docid\":\"0ea629b9-8deb-41c7-9935-4423d3d557da\",\"root_ids\":[\"1002\"],\"roots\":{\"1002\":\"cb5f595b-9d29-4d8e-bb9e-017bb907b456\"}}];\n",
       "    root.Bokeh.embed.embed_items_notebook(docs_json, render_items);\n",
       "  }\n",
       "  if (root.Bokeh !== undefined && root.Bokeh.Panel !== undefined) {\n",
       "    embed_document(root);\n",
       "  } else {\n",
       "    var attempts = 0;\n",
       "    var timer = setInterval(function(root) {\n",
       "      if (root.Bokeh !== undefined && root.Bokeh.Panel !== undefined) {\n",
       "        clearInterval(timer);\n",
       "        embed_document(root);\n",
       "      } else if (document.readyState == \"complete\") {\n",
       "        attempts++;\n",
       "        if (attempts > 100) {\n",
       "          clearInterval(timer);\n",
       "          console.log(\"Bokeh: ERROR: Unable to run BokehJS code because BokehJS library is missing\");\n",
       "        }\n",
       "      }\n",
       "    }, 10, root)\n",
       "  }\n",
       "})(window);</script>"
      ],
      "text/plain": [
       "Alert(str, alert_type='success', css_classes=['alert', 'alert-success']...], margin=(0, 0, 25, 0), sizing_mode='stretch_width')"
      ]
     },
     "metadata": {
      "application/vnd.holoviews_exec.v0+json": {
       "id": "1002"
      }
     },
     "output_type": "display_data"
    },
    {
     "data": {
      "text/html": [
       "<img src onerror=\"var cell = this.closest('.jp-CodeCell');var editor = cell.querySelector('.jp-Editor');editor.style.background='LightBlue';this.parentNode.removeChild(this)\">"
      ],
      "text/plain": [
       "<IPython.core.display.HTML object>"
      ]
     },
     "metadata": {},
     "output_type": "display_data"
    }
   ],
   "source": [
    "from tools.jupyter import *\n",
    "from tools.frangiPANe import *\n",
    "\n",
    "import panel as pn\n",
    "\n",
    "pn.extension()\n",
    "\n",
    "add_css()\n",
    "\n",
    "text = \"Import all python packages required successfully\"\n",
    "display_alert(text,\"success\")\n",
    "bgc('LightBlue')"
   ]
  },
  {
   "cell_type": "markdown",
   "metadata": {},
   "source": [
    "project_name, out_dir, ref_file, group_file, fastq_dir= box_config()\n",
    "bgc('LightBlue')### <span style=\"color: #919395\"> _Definition of input data used by frangiPANe workflow_  <a class=\"anchor\" id=\"configinput\"></a></span>\n",
    "\n",
    "<details>\n",
    "\n",
    "* __Project Name__ : the directory name that will contain all the results generated by this analysis\n",
    "* __Output Directory__ : the parent directory that will contain the __project_name__ directory\n",
    "* __Fastq Directory__ : the directory that contains .fastq files of all the individuals\n",
    "* __Reference File__ : the reference genome used to map all reads (fastq files). The reference genome have to be provided in a fasta format. The reference genome must be indexed by BWA for subsequent analyzes. The **REF**.amb, **REF**.ann, **REF**.bwt, **REF**.pac and **REF**.sa files are created.)\n",
    "* __Group File__ :  (It is common for several individuals to have different origins when building a pangenome. To exploit this diversity in the results, PANtoum needs a tabulated file (separator = tabulation, no header); the first column corresponds to the name of the individuals (should correspond to .fastq files) and the second to the group they belong. NB : It is possible to use only one group.)\n",
    "\n",
    "ex of samples with 2 groups : wild or cultivated\n",
    "    \n",
    "| sample  | group  |\n",
    "|---|---|\n",
    "| AA | wild | \n",
    "| AB  | wild | \n",
    "| CB  | cultivated |\n",
    "\n",
    "</details>\n",
    "\n",
    "Run the following cell and fill the parameters box"
   ]
  },
  {
   "cell_type": "code",
   "execution_count": 2,
   "metadata": {},
   "outputs": [
    {
     "data": {},
     "metadata": {},
     "output_type": "display_data"
    },
    {
     "data": {
      "application/vnd.holoviews_exec.v0+json": "",
      "text/html": [
       "<div id='1005'>\n",
       "\n",
       "\n",
       "\n",
       "\n",
       "\n",
       "  <div class=\"bk-root\" id=\"d70c9f5f-fd8e-4f41-9099-6897a9b5cecf\" data-root-id=\"1005\"></div>\n",
       "</div>\n",
       "<script type=\"application/javascript\">(function(root) {\n",
       "  function embed_document(root) {\n",
       "    var docs_json = {\"69861b85-cad7-48ca-867a-86529bcfca15\":{\"defs\":[],\"roots\":{\"references\":[{\"attributes\":{\"margin\":[5,10,5,10],\"max_length\":5000,\"placeholder\":\"Enter the file path here...\",\"title\":\"Reference file\"},\"id\":\"1013\",\"type\":\"TextInput\"},{\"attributes\":{\"children\":[{\"id\":\"1015\"},{\"id\":\"1016\"}],\"margin\":[0,0,0,0],\"name\":\"Row00113\"},\"id\":\"1014\",\"type\":\"Row\"},{\"attributes\":{\"margin\":[5,10,5,10],\"max_length\":5000,\"placeholder\":\"Enter the directory path here...\",\"title\":\"Output directory :\"},\"id\":\"1010\",\"type\":\"TextInput\"},{\"attributes\":{\"css_classes\":[\"alert\",\"alert-warning\",\"markdown\"],\"height\":200,\"margin\":[0,0,25,0],\"name\":\"Alert00104\",\"sizing_mode\":\"stretch_width\",\"text\":\"&lt;p&gt;No filled&lt;/p&gt;\"},\"id\":\"1017\",\"type\":\"panel.models.markup.HTML\"},{\"attributes\":{\"button_type\":\"primary\",\"icon\":null,\"label\":\"SAVE\",\"margin\":[5,10,5,10],\"min_width\":100,\"subscribed_events\":[\"button_click\"],\"width\":100},\"id\":\"1015\",\"type\":\"Button\"},{\"attributes\":{\"margin\":[5,10,5,10],\"max_length\":5000,\"placeholder\":\"Enter the directory path here...\",\"title\":\"Fastq directory\"},\"id\":\"1011\",\"type\":\"TextInput\"},{\"attributes\":{\"button_type\":\"primary\",\"icon\":null,\"label\":\"INIT\",\"margin\":[5,10,5,10],\"min_width\":100,\"subscribed_events\":[\"button_click\"],\"width\":100},\"id\":\"1016\",\"type\":\"Button\"},{\"attributes\":{\"client_comm_id\":\"6abbb6ed17384bf4b414a6c87b31abfa\",\"comm_id\":\"5dd0f6c8d11942a98d3b86d312d5e0d5\",\"plot_id\":\"1005\"},\"id\":\"1018\",\"type\":\"panel.models.comm_manager.CommManager\"},{\"attributes\":{\"children\":[{\"id\":\"1009\"},{\"id\":\"1010\"}],\"margin\":[0,0,0,0],\"name\":\"Row00114\"},\"id\":\"1008\",\"type\":\"Row\"},{\"attributes\":{\"css_classes\":[\"markdown\"],\"margin\":[5,5,5,5],\"name\":\"Markdown00116\",\"text\":\"&lt;h1&gt;INPUT FORM&lt;/h1&gt;\"},\"id\":\"1006\",\"type\":\"panel.models.markup.HTML\"},{\"attributes\":{\"margin\":[5,10,5,10],\"max_length\":5000,\"placeholder\":\"Enter the file path here...\",\"title\":\"Group file\"},\"id\":\"1012\",\"type\":\"TextInput\"},{\"attributes\":{\"background\":\"#E3ECF1\",\"children\":[{\"id\":\"1006\"},{\"id\":\"1007\"}],\"css_classes\":[\"panel-widget-box\"],\"margin\":[5,5,5,5],\"name\":\"WidgetBox00118\"},\"id\":\"1005\",\"type\":\"Column\"},{\"attributes\":{\"children\":[{\"id\":\"1008\"},{\"id\":\"1011\"},{\"id\":\"1012\"},{\"id\":\"1013\"},{\"id\":\"1014\"},{\"id\":\"1017\"}],\"margin\":[0,0,0,0],\"min_width\":800,\"name\":\"Column00115\",\"width\":800},\"id\":\"1007\",\"type\":\"Column\"},{\"attributes\":{\"margin\":[5,10,5,10],\"max_length\":5000,\"placeholder\":\"Enter the name here...\",\"title\":\"Project name :\"},\"id\":\"1009\",\"type\":\"TextInput\"}],\"root_ids\":[\"1005\",\"1018\"]},\"title\":\"Bokeh Application\",\"version\":\"2.3.3\"}};\n",
       "    var render_items = [{\"docid\":\"69861b85-cad7-48ca-867a-86529bcfca15\",\"root_ids\":[\"1005\"],\"roots\":{\"1005\":\"d70c9f5f-fd8e-4f41-9099-6897a9b5cecf\"}}];\n",
       "    root.Bokeh.embed.embed_items_notebook(docs_json, render_items);\n",
       "  }\n",
       "  if (root.Bokeh !== undefined && root.Bokeh.Panel !== undefined) {\n",
       "    embed_document(root);\n",
       "  } else {\n",
       "    var attempts = 0;\n",
       "    var timer = setInterval(function(root) {\n",
       "      if (root.Bokeh !== undefined && root.Bokeh.Panel !== undefined) {\n",
       "        clearInterval(timer);\n",
       "        embed_document(root);\n",
       "      } else if (document.readyState == \"complete\") {\n",
       "        attempts++;\n",
       "        if (attempts > 100) {\n",
       "          clearInterval(timer);\n",
       "          console.log(\"Bokeh: ERROR: Unable to run BokehJS code because BokehJS library is missing\");\n",
       "        }\n",
       "      }\n",
       "    }, 10, root)\n",
       "  }\n",
       "})(window);</script>"
      ],
      "text/plain": [
       "WidgetBox(background='#E3ECF1')\n",
       "    [0] Markdown(str)\n",
       "    [1] Column(width=800)\n",
       "        [0] Row\n",
       "            [0] TextInput(name='Project name :', placeholder='Enter the name here...')\n",
       "            [1] TextInput(name='Output directory :', placeholder='Enter the directory p...)\n",
       "        [1] TextInput(name='Fastq directory', placeholder='Enter the directory p...)\n",
       "        [2] TextInput(name='Group file', placeholder='Enter the file p...)\n",
       "        [3] TextInput(name='Reference file', placeholder='Enter the file p...)\n",
       "        [4] Row\n",
       "            [0] Button(button_type='primary', name='SAVE', width=100)\n",
       "            [1] Button(button_type='primary', name='INIT', width=100)\n",
       "        [5] Alert(str, alert_type='warning', css_classes=['alert', 'alert-warning']...], height=200, margin=(0, 0, 25, 0), sizing_mode='stretch_width')"
      ]
     },
     "metadata": {
      "application/vnd.holoviews_exec.v0+json": {
       "id": "1005"
      }
     },
     "output_type": "display_data"
    },
    {
     "data": {
      "text/html": [
       "<img src onerror=\"var cell = this.closest('.jp-CodeCell');var editor = cell.querySelector('.jp-Editor');editor.style.background='LightBlue';this.parentNode.removeChild(this)\">"
      ],
      "text/plain": [
       "<IPython.core.display.HTML object>"
      ]
     },
     "metadata": {},
     "output_type": "display_data"
    }
   ],
   "source": [
    "project_name, out_dir, ref_file, group_file, fastq_dir= box_config()\n",
    "bgc('LightBlue')"
   ]
  },
  {
   "cell_type": "markdown",
   "metadata": {},
   "source": [
    "### <span style=\"color: #919395\">_Creating frangiPANe output directory_<a class=\"anchor\" id=\"outputdirectory\"></a></span>\n",
    "\n",
    "<img src=\"Images/frangiPANe_output_tree.jpg\">\n",
    "\n",
    "Be careful : if the directory already exists, files and directory that were generated by previous analysis could be removed by new analysis steps\n",
    "\n",
    "In the log file,  all outputs generated by bioinformatics tools (eg: bwa index, mem, abyss) are saved"
   ]
  },
  {
   "cell_type": "code",
   "execution_count": 3,
   "metadata": {},
   "outputs": [
    {
     "data": {},
     "metadata": {},
     "output_type": "display_data"
    },
    {
     "data": {
      "application/vnd.holoviews_exec.v0+json": "",
      "text/html": [
       "<div id='1020'>\n",
       "\n",
       "\n",
       "\n",
       "\n",
       "\n",
       "  <div class=\"bk-root\" id=\"cf1691bd-a16d-4b70-913d-59e6f69bafba\" data-root-id=\"1020\"></div>\n",
       "</div>\n",
       "<script type=\"application/javascript\">(function(root) {\n",
       "  function embed_document(root) {\n",
       "    var docs_json = {\"408ff50c-6678-4a8c-ad1e-3612c4e2cce9\":{\"defs\":[],\"roots\":{\"references\":[{\"attributes\":{\"css_classes\":[\"alert\",\"alert-success\",\"markdown\"],\"margin\":[0,0,25,0],\"name\":\"Alert00121\",\"sizing_mode\":\"stretch_width\",\"text\":\"&lt;p&gt;Directory /home/christine/Documents/These/frangiPANeGIT/frangiPANe_rice created&lt;/p&gt;\"},\"id\":\"1020\",\"type\":\"panel.models.markup.HTML\"},{\"attributes\":{\"client_comm_id\":\"b4131491443c494db0a827c0b7937407\",\"comm_id\":\"13525c1ecd3942f9b3bddf626c4992d2\",\"plot_id\":\"1020\"},\"id\":\"1021\",\"type\":\"panel.models.comm_manager.CommManager\"}],\"root_ids\":[\"1020\",\"1021\"]},\"title\":\"Bokeh Application\",\"version\":\"2.3.3\"}};\n",
       "    var render_items = [{\"docid\":\"408ff50c-6678-4a8c-ad1e-3612c4e2cce9\",\"root_ids\":[\"1020\"],\"roots\":{\"1020\":\"cf1691bd-a16d-4b70-913d-59e6f69bafba\"}}];\n",
       "    root.Bokeh.embed.embed_items_notebook(docs_json, render_items);\n",
       "  }\n",
       "  if (root.Bokeh !== undefined && root.Bokeh.Panel !== undefined) {\n",
       "    embed_document(root);\n",
       "  } else {\n",
       "    var attempts = 0;\n",
       "    var timer = setInterval(function(root) {\n",
       "      if (root.Bokeh !== undefined && root.Bokeh.Panel !== undefined) {\n",
       "        clearInterval(timer);\n",
       "        embed_document(root);\n",
       "      } else if (document.readyState == \"complete\") {\n",
       "        attempts++;\n",
       "        if (attempts > 100) {\n",
       "          clearInterval(timer);\n",
       "          console.log(\"Bokeh: ERROR: Unable to run BokehJS code because BokehJS library is missing\");\n",
       "        }\n",
       "      }\n",
       "    }, 10, root)\n",
       "  }\n",
       "})(window);</script>"
      ],
      "text/plain": [
       "Alert(str, alert_type='success', css_classes=['alert', 'alert-success']...], margin=(0, 0, 25, 0), sizing_mode='stretch_width')"
      ]
     },
     "metadata": {
      "application/vnd.holoviews_exec.v0+json": {
       "id": "1020"
      }
     },
     "output_type": "display_data"
    },
    {
     "data": {},
     "metadata": {},
     "output_type": "display_data"
    },
    {
     "data": {
      "application/vnd.holoviews_exec.v0+json": "",
      "text/html": [
       "<div id='1022'>\n",
       "\n",
       "\n",
       "\n",
       "\n",
       "\n",
       "  <div class=\"bk-root\" id=\"def938a1-3293-4a54-ade3-99e41276e275\" data-root-id=\"1022\"></div>\n",
       "</div>\n",
       "<script type=\"application/javascript\">(function(root) {\n",
       "  function embed_document(root) {\n",
       "    var docs_json = {\"52fc2a61-6315-4830-b912-ea9b3f6edef4\":{\"defs\":[],\"roots\":{\"references\":[{\"attributes\":{\"css_classes\":[\"alert\",\"alert-success\",\"markdown\"],\"margin\":[0,0,25,0],\"name\":\"Alert00125\",\"sizing_mode\":\"stretch_width\",\"text\":\"&lt;p&gt;Log /home/christine/Documents/These/frangiPANeGIT/frangiPANe_rice/frangiPANe_rice-29-10-2021_18:00:57.log created&lt;/p&gt;\"},\"id\":\"1022\",\"type\":\"panel.models.markup.HTML\"},{\"attributes\":{\"client_comm_id\":\"38d4ec4421d74756827f65bbd8078cc8\",\"comm_id\":\"22735853e9a045c98faa318febcd7ff3\",\"plot_id\":\"1022\"},\"id\":\"1023\",\"type\":\"panel.models.comm_manager.CommManager\"}],\"root_ids\":[\"1022\",\"1023\"]},\"title\":\"Bokeh Application\",\"version\":\"2.3.3\"}};\n",
       "    var render_items = [{\"docid\":\"52fc2a61-6315-4830-b912-ea9b3f6edef4\",\"root_ids\":[\"1022\"],\"roots\":{\"1022\":\"def938a1-3293-4a54-ade3-99e41276e275\"}}];\n",
       "    root.Bokeh.embed.embed_items_notebook(docs_json, render_items);\n",
       "  }\n",
       "  if (root.Bokeh !== undefined && root.Bokeh.Panel !== undefined) {\n",
       "    embed_document(root);\n",
       "  } else {\n",
       "    var attempts = 0;\n",
       "    var timer = setInterval(function(root) {\n",
       "      if (root.Bokeh !== undefined && root.Bokeh.Panel !== undefined) {\n",
       "        clearInterval(timer);\n",
       "        embed_document(root);\n",
       "      } else if (document.readyState == \"complete\") {\n",
       "        attempts++;\n",
       "        if (attempts > 100) {\n",
       "          clearInterval(timer);\n",
       "          console.log(\"Bokeh: ERROR: Unable to run BokehJS code because BokehJS library is missing\");\n",
       "        }\n",
       "      }\n",
       "    }, 10, root)\n",
       "  }\n",
       "})(window);</script>"
      ],
      "text/plain": [
       "Alert(str, alert_type='success', css_classes=['alert', 'alert-success']...], margin=(0, 0, 25, 0), sizing_mode='stretch_width')"
      ]
     },
     "metadata": {
      "application/vnd.holoviews_exec.v0+json": {
       "id": "1022"
      }
     },
     "output_type": "display_data"
    },
    {
     "data": {
      "text/html": [
       "<img src onerror=\"var cell = this.closest('.jp-CodeCell');var editor = cell.querySelector('.jp-Editor');editor.style.background='LightBlue';this.parentNode.removeChild(this)\">"
      ],
      "text/plain": [
       "<IPython.core.display.HTML object>"
      ]
     },
     "metadata": {},
     "output_type": "display_data"
    }
   ],
   "source": [
    "output_dir = out_dir.value + \"/frangiPANe_\" + project_name.value\n",
    "make_dir(output_dir)\n",
    "logger = init_log(output_dir,project_name.value)\n",
    "bgc('LightBlue')"
   ]
  },
  {
   "cell_type": "markdown",
   "metadata": {},
   "source": [
    "### <span style=\"color: #919395\">_Preparing Genome Reference for next analysis_\n",
    "\n",
    "#### __Genome indexation__ and __Genome dashboard__\n",
    "\n",
    "This step is done with `bwa index` if index are absent. Indexation is required before performing reads mapping against genome reference."
   ]
  },
  {
   "cell_type": "code",
   "execution_count": 4,
   "metadata": {},
   "outputs": [
    {
     "data": {
      "text/html": [
       "<img src onerror=\"var cell = this.closest('.jp-CodeCell');var editor = cell.querySelector('.jp-Editor');editor.style.background='LightBlue';this.parentNode.removeChild(this)\">"
      ],
      "text/plain": [
       "<IPython.core.display.HTML object>"
      ]
     },
     "metadata": {},
     "output_type": "display_data"
    },
    {
     "data": {},
     "metadata": {},
     "output_type": "display_data"
    },
    {
     "data": {
      "application/vnd.holoviews_exec.v0+json": "",
      "text/html": [
       "<div id='1024'>\n",
       "\n",
       "\n",
       "\n",
       "\n",
       "\n",
       "  <div class=\"bk-root\" id=\"84a96e6a-a0de-483c-9010-66038a2bf8fa\" data-root-id=\"1024\"></div>\n",
       "</div>\n",
       "<script type=\"application/javascript\">(function(root) {\n",
       "  function embed_document(root) {\n",
       "    var docs_json = {\"447c2a11-39b6-4232-8be5-2f8ddd96a437\":{\"defs\":[],\"roots\":{\"references\":[{\"attributes\":{\"client_comm_id\":\"9dcd6d14eeb5465aa7b8a232692f9f22\",\"comm_id\":\"27b491fa3ca4449abbb1cac13ccdf296\",\"plot_id\":\"1024\"},\"id\":\"1025\",\"type\":\"panel.models.comm_manager.CommManager\"},{\"attributes\":{\"css_classes\":[\"alert\",\"alert-info\",\"markdown\"],\"margin\":[0,0,25,0],\"name\":\"Alert00129\",\"sizing_mode\":\"stretch_width\",\"text\":\"&lt;p&gt;Searching index files for reference file /home/christine/Documents/These/frangiPANeGIT/rice/OglaRS2ADWL02.12chronly.fa&lt;/p&gt;\"},\"id\":\"1024\",\"type\":\"panel.models.markup.HTML\"}],\"root_ids\":[\"1024\",\"1025\"]},\"title\":\"Bokeh Application\",\"version\":\"2.3.3\"}};\n",
       "    var render_items = [{\"docid\":\"447c2a11-39b6-4232-8be5-2f8ddd96a437\",\"root_ids\":[\"1024\"],\"roots\":{\"1024\":\"84a96e6a-a0de-483c-9010-66038a2bf8fa\"}}];\n",
       "    root.Bokeh.embed.embed_items_notebook(docs_json, render_items);\n",
       "  }\n",
       "  if (root.Bokeh !== undefined && root.Bokeh.Panel !== undefined) {\n",
       "    embed_document(root);\n",
       "  } else {\n",
       "    var attempts = 0;\n",
       "    var timer = setInterval(function(root) {\n",
       "      if (root.Bokeh !== undefined && root.Bokeh.Panel !== undefined) {\n",
       "        clearInterval(timer);\n",
       "        embed_document(root);\n",
       "      } else if (document.readyState == \"complete\") {\n",
       "        attempts++;\n",
       "        if (attempts > 100) {\n",
       "          clearInterval(timer);\n",
       "          console.log(\"Bokeh: ERROR: Unable to run BokehJS code because BokehJS library is missing\");\n",
       "        }\n",
       "      }\n",
       "    }, 10, root)\n",
       "  }\n",
       "})(window);</script>"
      ],
      "text/plain": [
       "Alert(str, alert_type='info', css_classes=['alert', 'alert-info'], margin=(0, 0, 25, 0), sizing_mode='stretch_width')"
      ]
     },
     "metadata": {
      "application/vnd.holoviews_exec.v0+json": {
       "id": "1024"
      }
     },
     "output_type": "display_data"
    },
    {
     "data": {},
     "metadata": {},
     "output_type": "display_data"
    },
    {
     "data": {
      "application/vnd.holoviews_exec.v0+json": "",
      "text/html": [
       "<div id='1026'>\n",
       "\n",
       "\n",
       "\n",
       "\n",
       "\n",
       "  <div class=\"bk-root\" id=\"9bc77b08-d4d9-4ec1-bf3b-9ed454962631\" data-root-id=\"1026\"></div>\n",
       "</div>\n",
       "<script type=\"application/javascript\">(function(root) {\n",
       "  function embed_document(root) {\n",
       "    var docs_json = {\"0c261cfb-bfa4-4fe1-902c-5410e013f611\":{\"defs\":[],\"roots\":{\"references\":[{\"attributes\":{\"css_classes\":[\"alert\",\"alert-warning\",\"markdown\"],\"margin\":[0,0,25,0],\"name\":\"Alert00133\",\"sizing_mode\":\"stretch_width\",\"text\":\"&lt;p&gt;Index files already available (/home/christine/Documents/These/frangiPANeGIT/rice/OglaRS2ADWL02.12chronly.fa).... Skip Indexation Step&lt;/p&gt;\"},\"id\":\"1026\",\"type\":\"panel.models.markup.HTML\"},{\"attributes\":{\"client_comm_id\":\"4e2a5e86909d411aaa8f78cf5328402f\",\"comm_id\":\"a228a473148f4a249012514e7041adb9\",\"plot_id\":\"1026\"},\"id\":\"1027\",\"type\":\"panel.models.comm_manager.CommManager\"}],\"root_ids\":[\"1026\",\"1027\"]},\"title\":\"Bokeh Application\",\"version\":\"2.3.3\"}};\n",
       "    var render_items = [{\"docid\":\"0c261cfb-bfa4-4fe1-902c-5410e013f611\",\"root_ids\":[\"1026\"],\"roots\":{\"1026\":\"9bc77b08-d4d9-4ec1-bf3b-9ed454962631\"}}];\n",
       "    root.Bokeh.embed.embed_items_notebook(docs_json, render_items);\n",
       "  }\n",
       "  if (root.Bokeh !== undefined && root.Bokeh.Panel !== undefined) {\n",
       "    embed_document(root);\n",
       "  } else {\n",
       "    var attempts = 0;\n",
       "    var timer = setInterval(function(root) {\n",
       "      if (root.Bokeh !== undefined && root.Bokeh.Panel !== undefined) {\n",
       "        clearInterval(timer);\n",
       "        embed_document(root);\n",
       "      } else if (document.readyState == \"complete\") {\n",
       "        attempts++;\n",
       "        if (attempts > 100) {\n",
       "          clearInterval(timer);\n",
       "          console.log(\"Bokeh: ERROR: Unable to run BokehJS code because BokehJS library is missing\");\n",
       "        }\n",
       "      }\n",
       "    }, 10, root)\n",
       "  }\n",
       "})(window);</script>"
      ],
      "text/plain": [
       "Alert(str, alert_type='warning', css_classes=['alert', 'alert-warning']...], margin=(0, 0, 25, 0), sizing_mode='stretch_width')"
      ]
     },
     "metadata": {
      "application/vnd.holoviews_exec.v0+json": {
       "id": "1026"
      }
     },
     "output_type": "display_data"
    },
    {
     "data": {},
     "metadata": {},
     "output_type": "display_data"
    },
    {
     "data": {
      "application/vnd.holoviews_exec.v0+json": "",
      "text/html": [
       "<div id='1028'>\n",
       "\n",
       "\n",
       "\n",
       "\n",
       "\n",
       "  <div class=\"bk-root\" id=\"8fb26433-7ed6-43b0-802f-8c78dfb9b125\" data-root-id=\"1028\"></div>\n",
       "</div>\n",
       "<script type=\"application/javascript\">(function(root) {\n",
       "  function embed_document(root) {\n",
       "    var docs_json = {\"f5d54ff4-1c43-4e46-a3ec-eeac8d042772\":{\"defs\":[],\"roots\":{\"references\":[{\"attributes\":{\"height\":432,\"margin\":[5,5,5,5],\"name\":\"Matplotlib00139\",\"text\":\"&lt;img src=&quot;data:image/png;base64,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&quot; width=&quot;576px&quot; height=&quot;432px&quot; alt=&quot;&quot;&gt;&lt;/img&gt;\",\"width\":576},\"id\":\"1032\",\"type\":\"panel.models.markup.HTML\"},{\"attributes\":{\"margin\":[5,5,5,5],\"name\":\"DataFrame00137\",\"text\":\"&lt;table border=&quot;0&quot; class=&quot;dataframe panel-df&quot;&gt;\\n  &lt;thead&gt;\\n    &lt;tr style=&quot;text-align: right;&quot;&gt;\\n      &lt;th&gt;&lt;/th&gt;\\n      &lt;th&gt;chr&lt;/th&gt;\\n      &lt;th&gt;size&lt;/th&gt;\\n    &lt;/tr&gt;\\n  &lt;/thead&gt;\\n  &lt;tbody&gt;\\n    &lt;tr&gt;\\n      &lt;th&gt;0&lt;/th&gt;\\n      &lt;td&gt;Chr01&lt;/td&gt;\\n      &lt;td&gt;39.66&lt;/td&gt;\\n    &lt;/tr&gt;\\n    &lt;tr&gt;\\n      &lt;th&gt;1&lt;/th&gt;\\n      &lt;td&gt;Chr02&lt;/td&gt;\\n      &lt;td&gt;34.45&lt;/td&gt;\\n    &lt;/tr&gt;\\n    &lt;tr&gt;\\n      &lt;th&gt;2&lt;/th&gt;\\n      &lt;td&gt;Chr03&lt;/td&gt;\\n      &lt;td&gt;35.53&lt;/td&gt;\\n    &lt;/tr&gt;\\n    &lt;tr&gt;\\n      &lt;th&gt;3&lt;/th&gt;\\n      &lt;td&gt;Chr04&lt;/td&gt;\\n      &lt;td&gt;31.57&lt;/td&gt;\\n    &lt;/tr&gt;\\n    &lt;tr&gt;\\n      &lt;th&gt;4&lt;/th&gt;\\n      &lt;td&gt;Chr05&lt;/td&gt;\\n      &lt;td&gt;26.27&lt;/td&gt;\\n    &lt;/tr&gt;\\n    &lt;tr&gt;\\n      &lt;th&gt;5&lt;/th&gt;\\n      &lt;td&gt;Chr06&lt;/td&gt;\\n      &lt;td&gt;29.28&lt;/td&gt;\\n    &lt;/tr&gt;\\n    &lt;tr&gt;\\n      &lt;th&gt;6&lt;/th&gt;\\n      &lt;td&gt;Chr07&lt;/td&gt;\\n      &lt;td&gt;26.60&lt;/td&gt;\\n    &lt;/tr&gt;\\n    &lt;tr&gt;\\n      &lt;th&gt;7&lt;/th&gt;\\n      &lt;td&gt;Chr08&lt;/td&gt;\\n      &lt;td&gt;25.47&lt;/td&gt;\\n    &lt;/tr&gt;\\n    &lt;tr&gt;\\n      &lt;th&gt;8&lt;/th&gt;\\n      &lt;td&gt;Chr09&lt;/td&gt;\\n      &lt;td&gt;21.80&lt;/td&gt;\\n    &lt;/tr&gt;\\n    &lt;tr&gt;\\n      &lt;th&gt;9&lt;/th&gt;\\n      &lt;td&gt;Chr10&lt;/td&gt;\\n      &lt;td&gt;22.42&lt;/td&gt;\\n    &lt;/tr&gt;\\n    &lt;tr&gt;\\n      &lt;th&gt;10&lt;/th&gt;\\n      &lt;td&gt;Chr11&lt;/td&gt;\\n      &lt;td&gt;26.39&lt;/td&gt;\\n    &lt;/tr&gt;\\n    &lt;tr&gt;\\n      &lt;th&gt;11&lt;/th&gt;\\n      &lt;td&gt;Chr12&lt;/td&gt;\\n      &lt;td&gt;25.02&lt;/td&gt;\\n    &lt;/tr&gt;\\n  &lt;/tbody&gt;\\n&lt;/table&gt;\"},\"id\":\"1033\",\"type\":\"panel.models.markup.HTML\"},{\"attributes\":{\"background\":\"WhiteSmoke\",\"children\":[{\"id\":\"1029\"},{\"id\":\"1030\"},{\"id\":\"1031\"}],\"margin\":[0,0,0,0],\"name\":\"Column00146\",\"sizing_mode\":\"stretch_both\"},\"id\":\"1028\",\"type\":\"Column\"},{\"attributes\":{\"css_classes\":[\"markdown\"],\"margin\":[5,5,5,5],\"name\":\"Markdown00144\",\"text\":\"&lt;h2&gt;Genome size (Mb) : 344.46&lt;/h2&gt;\"},\"id\":\"1030\",\"type\":\"panel.models.markup.HTML\"},{\"attributes\":{\"css_classes\":[\"markdown\"],\"margin\":[5,5,5,5],\"name\":\"Markdown00142\",\"text\":\"&lt;h1&gt;Reference genome file&lt;/h1&gt;\"},\"id\":\"1029\",\"type\":\"panel.models.markup.HTML\"},{\"attributes\":{\"children\":[{\"id\":\"1032\"},{\"id\":\"1033\"}],\"margin\":[0,0,0,0],\"name\":\"Row00141\"},\"id\":\"1031\",\"type\":\"Row\"},{\"attributes\":{\"client_comm_id\":\"284d806bc92f45cbaab2bc1d6f565d45\",\"comm_id\":\"63f3358962ff45ecb6a6e25a9676bb1a\",\"plot_id\":\"1028\"},\"id\":\"1034\",\"type\":\"panel.models.comm_manager.CommManager\"}],\"root_ids\":[\"1028\",\"1034\"]},\"title\":\"Bokeh Application\",\"version\":\"2.3.3\"}};\n",
       "    var render_items = [{\"docid\":\"f5d54ff4-1c43-4e46-a3ec-eeac8d042772\",\"root_ids\":[\"1028\"],\"roots\":{\"1028\":\"8fb26433-7ed6-43b0-802f-8c78dfb9b125\"}}];\n",
       "    root.Bokeh.embed.embed_items_notebook(docs_json, render_items);\n",
       "  }\n",
       "  if (root.Bokeh !== undefined && root.Bokeh.Panel !== undefined) {\n",
       "    embed_document(root);\n",
       "  } else {\n",
       "    var attempts = 0;\n",
       "    var timer = setInterval(function(root) {\n",
       "      if (root.Bokeh !== undefined && root.Bokeh.Panel !== undefined) {\n",
       "        clearInterval(timer);\n",
       "        embed_document(root);\n",
       "      } else if (document.readyState == \"complete\") {\n",
       "        attempts++;\n",
       "        if (attempts > 100) {\n",
       "          clearInterval(timer);\n",
       "          console.log(\"Bokeh: ERROR: Unable to run BokehJS code because BokehJS library is missing\");\n",
       "        }\n",
       "      }\n",
       "    }, 10, root)\n",
       "  }\n",
       "})(window);</script>"
      ],
      "text/plain": [
       "Column(background='WhiteSmoke', sizing_mode='stretch_both')\n",
       "    [0] Markdown(str)\n",
       "    [1] Markdown(str)\n",
       "    [2] Row\n",
       "        [0] Matplotlib(Figure)\n",
       "        [1] DataFrame(DataFrame)"
      ]
     },
     "metadata": {
      "application/vnd.holoviews_exec.v0+json": {
       "id": "1028"
      }
     },
     "output_type": "display_data"
    }
   ],
   "source": [
    "bgc('LightBlue')\n",
    "\n",
    "index_reference_genome(ref_file.value, logger)\n",
    "total_genome_size=dashboard_genome(ref_file.value)"
   ]
  },
  {
   "cell_type": "markdown",
   "metadata": {},
   "source": [
    "### <span style=\"color: #919395\">_Analyzing Group File_</span> "
   ]
  },
  {
   "cell_type": "code",
   "execution_count": 5,
   "metadata": {},
   "outputs": [
    {
     "data": {},
     "metadata": {},
     "output_type": "display_data"
    },
    {
     "data": {
      "application/vnd.holoviews_exec.v0+json": "",
      "text/html": [
       "<div id='1035'>\n",
       "\n",
       "\n",
       "\n",
       "\n",
       "\n",
       "  <div class=\"bk-root\" id=\"3fad80a2-c33d-4b17-91e2-ca01cbfec3c5\" data-root-id=\"1035\"></div>\n",
       "</div>\n",
       "<script type=\"application/javascript\">(function(root) {\n",
       "  function embed_document(root) {\n",
       "    var docs_json = {\"e7b5eeb6-3fac-4313-aeec-0be76f38f875\":{\"defs\":[],\"roots\":{\"references\":[{\"attributes\":{\"client_comm_id\":\"e5830e5dfde143239a1b650298abdf98\",\"comm_id\":\"755954a4364a406d99eda4d8b61366cf\",\"plot_id\":\"1035\"},\"id\":\"1036\",\"type\":\"panel.models.comm_manager.CommManager\"},{\"attributes\":{\"css_classes\":[\"alert\",\"alert-success\",\"markdown\"],\"margin\":[0,0,25,0],\"name\":\"Alert00149\",\"sizing_mode\":\"stretch_width\",\"text\":\"&lt;p&gt;Group file /home/christine/Documents/These/frangiPANeGIT/rice/rice_group.txt correctly read&lt;/p&gt;\"},\"id\":\"1035\",\"type\":\"panel.models.markup.HTML\"}],\"root_ids\":[\"1035\",\"1036\"]},\"title\":\"Bokeh Application\",\"version\":\"2.3.3\"}};\n",
       "    var render_items = [{\"docid\":\"e7b5eeb6-3fac-4313-aeec-0be76f38f875\",\"root_ids\":[\"1035\"],\"roots\":{\"1035\":\"3fad80a2-c33d-4b17-91e2-ca01cbfec3c5\"}}];\n",
       "    root.Bokeh.embed.embed_items_notebook(docs_json, render_items);\n",
       "  }\n",
       "  if (root.Bokeh !== undefined && root.Bokeh.Panel !== undefined) {\n",
       "    embed_document(root);\n",
       "  } else {\n",
       "    var attempts = 0;\n",
       "    var timer = setInterval(function(root) {\n",
       "      if (root.Bokeh !== undefined && root.Bokeh.Panel !== undefined) {\n",
       "        clearInterval(timer);\n",
       "        embed_document(root);\n",
       "      } else if (document.readyState == \"complete\") {\n",
       "        attempts++;\n",
       "        if (attempts > 100) {\n",
       "          clearInterval(timer);\n",
       "          console.log(\"Bokeh: ERROR: Unable to run BokehJS code because BokehJS library is missing\");\n",
       "        }\n",
       "      }\n",
       "    }, 10, root)\n",
       "  }\n",
       "})(window);</script>"
      ],
      "text/plain": [
       "Alert(str, alert_type='success', css_classes=['alert', 'alert-success']...], margin=(0, 0, 25, 0), sizing_mode='stretch_width')"
      ]
     },
     "metadata": {
      "application/vnd.holoviews_exec.v0+json": {
       "id": "1035"
      }
     },
     "output_type": "display_data"
    },
    {
     "data": {
      "application/javascript": [
       "\n",
       "(function(root) {\n",
       "  function now() {\n",
       "    return new Date();\n",
       "  }\n",
       "\n",
       "  var force = true;\n",
       "\n",
       "  if (typeof root._bokeh_onload_callbacks === \"undefined\" || force === true) {\n",
       "    root._bokeh_onload_callbacks = [];\n",
       "    root._bokeh_is_loading = undefined;\n",
       "  }\n",
       "\n",
       "  if (typeof (root._bokeh_timeout) === \"undefined\" || force === true) {\n",
       "    root._bokeh_timeout = Date.now() + 5000;\n",
       "    root._bokeh_failed_load = false;\n",
       "  }\n",
       "\n",
       "  function run_callbacks() {\n",
       "    try {\n",
       "      root._bokeh_onload_callbacks.forEach(function(callback) {\n",
       "        if (callback != null)\n",
       "          callback();\n",
       "      });\n",
       "    } finally {\n",
       "      delete root._bokeh_onload_callbacks\n",
       "    }\n",
       "    console.debug(\"Bokeh: all callbacks have finished\");\n",
       "  }\n",
       "\n",
       "  function load_libs(css_urls, js_urls, js_modules, callback) {\n",
       "    if (css_urls == null) css_urls = [];\n",
       "    if (js_urls == null) js_urls = [];\n",
       "    if (js_modules == null) js_modules = [];\n",
       "\n",
       "    root._bokeh_onload_callbacks.push(callback);\n",
       "    if (root._bokeh_is_loading > 0) {\n",
       "      console.debug(\"Bokeh: BokehJS is being loaded, scheduling callback at\", now());\n",
       "      return null;\n",
       "    }\n",
       "    if (js_urls.length === 0 && js_modules.length === 0) {\n",
       "      run_callbacks();\n",
       "      return null;\n",
       "    }\n",
       "    console.debug(\"Bokeh: BokehJS not loaded, scheduling load and callback at\", now());\n",
       "    root._bokeh_is_loading = css_urls.length + js_urls.length + js_modules.length;\n",
       "\n",
       "    function on_load() {\n",
       "      root._bokeh_is_loading--;\n",
       "      if (root._bokeh_is_loading === 0) {\n",
       "        console.debug(\"Bokeh: all BokehJS libraries/stylesheets loaded\");\n",
       "        run_callbacks()\n",
       "      }\n",
       "    }\n",
       "\n",
       "    function on_error() {\n",
       "      console.error(\"failed to load \" + url);\n",
       "    }\n",
       "\n",
       "    for (var i = 0; i < css_urls.length; i++) {\n",
       "      var url = css_urls[i];\n",
       "      const element = document.createElement(\"link\");\n",
       "      element.onload = on_load;\n",
       "      element.onerror = on_error;\n",
       "      element.rel = \"stylesheet\";\n",
       "      element.type = \"text/css\";\n",
       "      element.href = url;\n",
       "      console.debug(\"Bokeh: injecting link tag for BokehJS stylesheet: \", url);\n",
       "      document.body.appendChild(element);\n",
       "    }\n",
       "\n",
       "    var skip = [];\n",
       "    if (window.requirejs) {\n",
       "      window.requirejs.config({'paths': {'tabulator': 'https://unpkg.com/tabulator-tables@4.9.3/dist/js/tabulator'}});\n",
       "      require([], function() {\n",
       "      })\n",
       "    }\n",
       "    if (((window['tabulator'] !== undefined) && (!(window['tabulator'] instanceof HTMLElement))) || window.requirejs) {\n",
       "      var urls = ['https://unpkg.com/tabulator-tables@4.9.3/dist/js/tabulator.js', 'https://unpkg.com/moment@2.27.0/moment.js'];\n",
       "      for (var i = 0; i < urls.length; i++) {\n",
       "        skip.push(urls[i])\n",
       "      }\n",
       "    }\n",
       "    for (var i = 0; i < js_urls.length; i++) {\n",
       "      var url = js_urls[i];\n",
       "      if (skip.indexOf(url) >= 0) { on_load(); continue; }\n",
       "      var element = document.createElement('script');\n",
       "      element.onload = on_load;\n",
       "      element.onerror = on_error;\n",
       "      element.async = false;\n",
       "      element.src = url;\n",
       "      console.debug(\"Bokeh: injecting script tag for BokehJS library: \", url);\n",
       "      document.head.appendChild(element);\n",
       "    }\n",
       "    for (var i = 0; i < js_modules.length; i++) {\n",
       "      var url = js_modules[i];\n",
       "      if (skip.indexOf(url) >= 0) { on_load(); continue; }\n",
       "      var element = document.createElement('script');\n",
       "      element.onload = on_load;\n",
       "      element.onerror = on_error;\n",
       "      element.async = false;\n",
       "      element.src = url;\n",
       "      element.type = \"module\";\n",
       "      console.debug(\"Bokeh: injecting script tag for BokehJS library: \", url);\n",
       "      document.head.appendChild(element);\n",
       "    }\n",
       "    if (!js_urls.length && !js_modules.length) {\n",
       "      on_load()\n",
       "    }\n",
       "  };\n",
       "\n",
       "  function inject_raw_css(css) {\n",
       "    const element = document.createElement(\"style\");\n",
       "    element.appendChild(document.createTextNode(css));\n",
       "    document.body.appendChild(element);\n",
       "  }\n",
       "\n",
       "  var js_urls = [\"https://unpkg.com/tabulator-tables@4.9.3/dist/js/tabulator.js\", \"https://unpkg.com/moment@2.27.0/moment.js\", \"https://cdn.bokeh.org/bokeh/release/bokeh-2.3.3.min.js\", \"https://cdn.bokeh.org/bokeh/release/bokeh-widgets-2.3.3.min.js\", \"https://cdn.bokeh.org/bokeh/release/bokeh-tables-2.3.3.min.js\", \"https://unpkg.com/@holoviz/panel@0.11.1/dist/panel.min.js\"];\n",
       "  var js_modules = [];\n",
       "  var css_urls = [\"https://unpkg.com/tabulator-tables@4.9.3/dist/css/tabulator_simple.min.css\", \"https://unpkg.com/@holoviz/panel@0.11.1/dist/css/widgets.css\", \"https://unpkg.com/@holoviz/panel@0.11.1/dist/css/loading.css\", \"https://unpkg.com/@holoviz/panel@0.11.1/dist/css/dataframe.css\", \"https://unpkg.com/@holoviz/panel@0.11.1/dist/css/alerts.css\", \"https://unpkg.com/@holoviz/panel@0.11.1/dist/css/markdown.css\", \"https://unpkg.com/@holoviz/panel@0.11.1/dist/css/json.css\", \"https://unpkg.com/@holoviz/panel@0.11.1/dist/css/card.css\"];\n",
       "  var inline_js = [\n",
       "    function(Bokeh) {\n",
       "      inject_raw_css(\"\\n    .bk.pn-loading.arcs:before {\\n      background-image: url(\\\"data:image/svg+xml;base64,PHN2ZyB4bWxucz0iaHR0cDovL3d3dy53My5vcmcvMjAwMC9zdmciIHhtbG5zOnhsaW5rPSJodHRwOi8vd3d3LnczLm9yZy8xOTk5L3hsaW5rIiBzdHlsZT0ibWFyZ2luOiBhdXRvOyBiYWNrZ3JvdW5kOiBub25lOyBkaXNwbGF5OiBibG9jazsgc2hhcGUtcmVuZGVyaW5nOiBhdXRvOyIgdmlld0JveD0iMCAwIDEwMCAxMDAiIHByZXNlcnZlQXNwZWN0UmF0aW89InhNaWRZTWlkIj4gIDxjaXJjbGUgY3g9IjUwIiBjeT0iNTAiIHI9IjMyIiBzdHJva2Utd2lkdGg9IjgiIHN0cm9rZT0iI2MzYzNjMyIgc3Ryb2tlLWRhc2hhcnJheT0iNTAuMjY1NDgyNDU3NDM2NjkgNTAuMjY1NDgyNDU3NDM2NjkiIGZpbGw9Im5vbmUiIHN0cm9rZS1saW5lY2FwPSJyb3VuZCI+ICAgIDxhbmltYXRlVHJhbnNmb3JtIGF0dHJpYnV0ZU5hbWU9InRyYW5zZm9ybSIgdHlwZT0icm90YXRlIiByZXBlYXRDb3VudD0iaW5kZWZpbml0ZSIgZHVyPSIxcyIga2V5VGltZXM9IjA7MSIgdmFsdWVzPSIwIDUwIDUwOzM2MCA1MCA1MCI+PC9hbmltYXRlVHJhbnNmb3JtPiAgPC9jaXJjbGU+PC9zdmc+\\\")\\n    }\\n    \");\n",
       "    },\n",
       "    function(Bokeh) {\n",
       "      Bokeh.set_log_level(\"info\");\n",
       "    },\n",
       "    function(Bokeh) {} // ensure no trailing comma for IE\n",
       "  ];\n",
       "\n",
       "  function run_inline_js() {\n",
       "    if ((root.Bokeh !== undefined) || (force === true)) {\n",
       "      for (var i = 0; i < inline_js.length; i++) {\n",
       "        inline_js[i].call(root, root.Bokeh);\n",
       "      }} else if (Date.now() < root._bokeh_timeout) {\n",
       "      setTimeout(run_inline_js, 100);\n",
       "    } else if (!root._bokeh_failed_load) {\n",
       "      console.log(\"Bokeh: BokehJS failed to load within specified timeout.\");\n",
       "      root._bokeh_failed_load = true;\n",
       "    }\n",
       "  }\n",
       "\n",
       "  if (root._bokeh_is_loading === 0) {\n",
       "    console.debug(\"Bokeh: BokehJS loaded, going straight to plotting\");\n",
       "    run_inline_js();\n",
       "  } else {\n",
       "    load_libs(css_urls, js_urls, js_modules, function() {\n",
       "      console.debug(\"Bokeh: BokehJS plotting callback run at\", now());\n",
       "      run_inline_js();\n",
       "    });\n",
       "  }\n",
       "}(window));"
      ],
      "application/vnd.holoviews_load.v0+json": "\n(function(root) {\n  function now() {\n    return new Date();\n  }\n\n  var force = true;\n\n  if (typeof root._bokeh_onload_callbacks === \"undefined\" || force === true) {\n    root._bokeh_onload_callbacks = [];\n    root._bokeh_is_loading = undefined;\n  }\n\n  if (typeof (root._bokeh_timeout) === \"undefined\" || force === true) {\n    root._bokeh_timeout = Date.now() + 5000;\n    root._bokeh_failed_load = false;\n  }\n\n  function run_callbacks() {\n    try {\n      root._bokeh_onload_callbacks.forEach(function(callback) {\n        if (callback != null)\n          callback();\n      });\n    } finally {\n      delete root._bokeh_onload_callbacks\n    }\n    console.debug(\"Bokeh: all callbacks have finished\");\n  }\n\n  function load_libs(css_urls, js_urls, js_modules, callback) {\n    if (css_urls == null) css_urls = [];\n    if (js_urls == null) js_urls = [];\n    if (js_modules == null) js_modules = [];\n\n    root._bokeh_onload_callbacks.push(callback);\n    if (root._bokeh_is_loading > 0) {\n      console.debug(\"Bokeh: BokehJS is being loaded, scheduling callback at\", now());\n      return null;\n    }\n    if (js_urls.length === 0 && js_modules.length === 0) {\n      run_callbacks();\n      return null;\n    }\n    console.debug(\"Bokeh: BokehJS not loaded, scheduling load and callback at\", now());\n    root._bokeh_is_loading = css_urls.length + js_urls.length + js_modules.length;\n\n    function on_load() {\n      root._bokeh_is_loading--;\n      if (root._bokeh_is_loading === 0) {\n        console.debug(\"Bokeh: all BokehJS libraries/stylesheets loaded\");\n        run_callbacks()\n      }\n    }\n\n    function on_error() {\n      console.error(\"failed to load \" + url);\n    }\n\n    for (var i = 0; i < css_urls.length; i++) {\n      var url = css_urls[i];\n      const element = document.createElement(\"link\");\n      element.onload = on_load;\n      element.onerror = on_error;\n      element.rel = \"stylesheet\";\n      element.type = \"text/css\";\n      element.href = url;\n      console.debug(\"Bokeh: injecting link tag for BokehJS stylesheet: \", url);\n      document.body.appendChild(element);\n    }\n\n    var skip = [];\n    if (window.requirejs) {\n      window.requirejs.config({'paths': {'tabulator': 'https://unpkg.com/tabulator-tables@4.9.3/dist/js/tabulator'}});\n      require([], function() {\n      })\n    }\n    if (((window['tabulator'] !== undefined) && (!(window['tabulator'] instanceof HTMLElement))) || window.requirejs) {\n      var urls = ['https://unpkg.com/tabulator-tables@4.9.3/dist/js/tabulator.js', 'https://unpkg.com/moment@2.27.0/moment.js'];\n      for (var i = 0; i < urls.length; i++) {\n        skip.push(urls[i])\n      }\n    }\n    for (var i = 0; i < js_urls.length; i++) {\n      var url = js_urls[i];\n      if (skip.indexOf(url) >= 0) { on_load(); continue; }\n      var element = document.createElement('script');\n      element.onload = on_load;\n      element.onerror = on_error;\n      element.async = false;\n      element.src = url;\n      console.debug(\"Bokeh: injecting script tag for BokehJS library: \", url);\n      document.head.appendChild(element);\n    }\n    for (var i = 0; i < js_modules.length; i++) {\n      var url = js_modules[i];\n      if (skip.indexOf(url) >= 0) { on_load(); continue; }\n      var element = document.createElement('script');\n      element.onload = on_load;\n      element.onerror = on_error;\n      element.async = false;\n      element.src = url;\n      element.type = \"module\";\n      console.debug(\"Bokeh: injecting script tag for BokehJS library: \", url);\n      document.head.appendChild(element);\n    }\n    if (!js_urls.length && !js_modules.length) {\n      on_load()\n    }\n  };\n\n  function inject_raw_css(css) {\n    const element = document.createElement(\"style\");\n    element.appendChild(document.createTextNode(css));\n    document.body.appendChild(element);\n  }\n\n  var js_urls = [\"https://unpkg.com/tabulator-tables@4.9.3/dist/js/tabulator.js\", \"https://unpkg.com/moment@2.27.0/moment.js\", \"https://cdn.bokeh.org/bokeh/release/bokeh-2.3.3.min.js\", \"https://cdn.bokeh.org/bokeh/release/bokeh-widgets-2.3.3.min.js\", \"https://cdn.bokeh.org/bokeh/release/bokeh-tables-2.3.3.min.js\", \"https://unpkg.com/@holoviz/panel@0.11.1/dist/panel.min.js\"];\n  var js_modules = [];\n  var css_urls = [\"https://unpkg.com/tabulator-tables@4.9.3/dist/css/tabulator_simple.min.css\", \"https://unpkg.com/@holoviz/panel@0.11.1/dist/css/widgets.css\", \"https://unpkg.com/@holoviz/panel@0.11.1/dist/css/loading.css\", \"https://unpkg.com/@holoviz/panel@0.11.1/dist/css/dataframe.css\", \"https://unpkg.com/@holoviz/panel@0.11.1/dist/css/alerts.css\", \"https://unpkg.com/@holoviz/panel@0.11.1/dist/css/markdown.css\", \"https://unpkg.com/@holoviz/panel@0.11.1/dist/css/json.css\", \"https://unpkg.com/@holoviz/panel@0.11.1/dist/css/card.css\"];\n  var inline_js = [\n    function(Bokeh) {\n      inject_raw_css(\"\\n    .bk.pn-loading.arcs:before {\\n      background-image: url(\\\"data:image/svg+xml;base64,PHN2ZyB4bWxucz0iaHR0cDovL3d3dy53My5vcmcvMjAwMC9zdmciIHhtbG5zOnhsaW5rPSJodHRwOi8vd3d3LnczLm9yZy8xOTk5L3hsaW5rIiBzdHlsZT0ibWFyZ2luOiBhdXRvOyBiYWNrZ3JvdW5kOiBub25lOyBkaXNwbGF5OiBibG9jazsgc2hhcGUtcmVuZGVyaW5nOiBhdXRvOyIgdmlld0JveD0iMCAwIDEwMCAxMDAiIHByZXNlcnZlQXNwZWN0UmF0aW89InhNaWRZTWlkIj4gIDxjaXJjbGUgY3g9IjUwIiBjeT0iNTAiIHI9IjMyIiBzdHJva2Utd2lkdGg9IjgiIHN0cm9rZT0iI2MzYzNjMyIgc3Ryb2tlLWRhc2hhcnJheT0iNTAuMjY1NDgyNDU3NDM2NjkgNTAuMjY1NDgyNDU3NDM2NjkiIGZpbGw9Im5vbmUiIHN0cm9rZS1saW5lY2FwPSJyb3VuZCI+ICAgIDxhbmltYXRlVHJhbnNmb3JtIGF0dHJpYnV0ZU5hbWU9InRyYW5zZm9ybSIgdHlwZT0icm90YXRlIiByZXBlYXRDb3VudD0iaW5kZWZpbml0ZSIgZHVyPSIxcyIga2V5VGltZXM9IjA7MSIgdmFsdWVzPSIwIDUwIDUwOzM2MCA1MCA1MCI+PC9hbmltYXRlVHJhbnNmb3JtPiAgPC9jaXJjbGU+PC9zdmc+\\\")\\n    }\\n    \");\n    },\n    function(Bokeh) {\n      Bokeh.set_log_level(\"info\");\n    },\n    function(Bokeh) {} // ensure no trailing comma for IE\n  ];\n\n  function run_inline_js() {\n    if ((root.Bokeh !== undefined) || (force === true)) {\n      for (var i = 0; i < inline_js.length; i++) {\n        inline_js[i].call(root, root.Bokeh);\n      }} else if (Date.now() < root._bokeh_timeout) {\n      setTimeout(run_inline_js, 100);\n    } else if (!root._bokeh_failed_load) {\n      console.log(\"Bokeh: BokehJS failed to load within specified timeout.\");\n      root._bokeh_failed_load = true;\n    }\n  }\n\n  if (root._bokeh_is_loading === 0) {\n    console.debug(\"Bokeh: BokehJS loaded, going straight to plotting\");\n    run_inline_js();\n  } else {\n    load_libs(css_urls, js_urls, js_modules, function() {\n      console.debug(\"Bokeh: BokehJS plotting callback run at\", now());\n      run_inline_js();\n    });\n  }\n}(window));"
     },
     "metadata": {},
     "output_type": "display_data"
    },
    {
     "data": {
      "application/javascript": [
       "\n",
       "if ((window.PyViz === undefined) || (window.PyViz instanceof HTMLElement)) {\n",
       "  window.PyViz = {comms: {}, comm_status:{}, kernels:{}, receivers: {}, plot_index: []}\n",
       "}\n",
       "\n",
       "\n",
       "    function JupyterCommManager() {\n",
       "    }\n",
       "\n",
       "    JupyterCommManager.prototype.register_target = function(plot_id, comm_id, msg_handler) {\n",
       "      if (window.comm_manager || ((window.Jupyter !== undefined) && (Jupyter.notebook.kernel != null))) {\n",
       "        var comm_manager = window.comm_manager || Jupyter.notebook.kernel.comm_manager;\n",
       "        comm_manager.register_target(comm_id, function(comm) {\n",
       "          comm.on_msg(msg_handler);\n",
       "        });\n",
       "      } else if ((plot_id in window.PyViz.kernels) && (window.PyViz.kernels[plot_id])) {\n",
       "        window.PyViz.kernels[plot_id].registerCommTarget(comm_id, function(comm) {\n",
       "          comm.onMsg = msg_handler;\n",
       "        });\n",
       "      } else if (typeof google != 'undefined' && google.colab.kernel != null) {\n",
       "        google.colab.kernel.comms.registerTarget(comm_id, (comm) => {\n",
       "          var messages = comm.messages[Symbol.asyncIterator]();\n",
       "          function processIteratorResult(result) {\n",
       "            var message = result.value;\n",
       "            console.log(message)\n",
       "            var content = {data: message.data, comm_id};\n",
       "            var buffers = []\n",
       "            for (var buffer of message.buffers || []) {\n",
       "              buffers.push(new DataView(buffer))\n",
       "            }\n",
       "            var metadata = message.metadata || {};\n",
       "            var msg = {content, buffers, metadata}\n",
       "            msg_handler(msg);\n",
       "            return messages.next().then(processIteratorResult);\n",
       "          }\n",
       "          return messages.next().then(processIteratorResult);\n",
       "        })\n",
       "      }\n",
       "    }\n",
       "\n",
       "    JupyterCommManager.prototype.get_client_comm = function(plot_id, comm_id, msg_handler) {\n",
       "      if (comm_id in window.PyViz.comms) {\n",
       "        return window.PyViz.comms[comm_id];\n",
       "      } else if (window.comm_manager || ((window.Jupyter !== undefined) && (Jupyter.notebook.kernel != null))) {\n",
       "        var comm_manager = window.comm_manager || Jupyter.notebook.kernel.comm_manager;\n",
       "        var comm = comm_manager.new_comm(comm_id, {}, {}, {}, comm_id);\n",
       "        if (msg_handler) {\n",
       "          comm.on_msg(msg_handler);\n",
       "        }\n",
       "      } else if ((plot_id in window.PyViz.kernels) && (window.PyViz.kernels[plot_id])) {\n",
       "        var comm = window.PyViz.kernels[plot_id].connectToComm(comm_id);\n",
       "        comm.open();\n",
       "        if (msg_handler) {\n",
       "          comm.onMsg = msg_handler;\n",
       "        }\n",
       "      } else if (typeof google != 'undefined' && google.colab.kernel != null) {\n",
       "        var comm_promise = google.colab.kernel.comms.open(comm_id)\n",
       "        comm_promise.then((comm) => {\n",
       "          window.PyViz.comms[comm_id] = comm;\n",
       "          if (msg_handler) {\n",
       "            var messages = comm.messages[Symbol.asyncIterator]();\n",
       "            function processIteratorResult(result) {\n",
       "              var message = result.value;\n",
       "              var content = {data: message.data};\n",
       "              var metadata = message.metadata || {comm_id};\n",
       "              var msg = {content, metadata}\n",
       "              msg_handler(msg);\n",
       "              return messages.next().then(processIteratorResult);\n",
       "            }\n",
       "            return messages.next().then(processIteratorResult);\n",
       "          }\n",
       "        }) \n",
       "        var sendClosure = (data, metadata, buffers, disposeOnDone) => {\n",
       "          return comm_promise.then((comm) => {\n",
       "            comm.send(data, metadata, buffers, disposeOnDone);\n",
       "          });\n",
       "        };\n",
       "        var comm = {\n",
       "          send: sendClosure\n",
       "        };\n",
       "      }\n",
       "      window.PyViz.comms[comm_id] = comm;\n",
       "      return comm;\n",
       "    }\n",
       "    window.PyViz.comm_manager = new JupyterCommManager();\n",
       "    \n",
       "\n",
       "\n",
       "var JS_MIME_TYPE = 'application/javascript';\n",
       "var HTML_MIME_TYPE = 'text/html';\n",
       "var EXEC_MIME_TYPE = 'application/vnd.holoviews_exec.v0+json';\n",
       "var CLASS_NAME = 'output';\n",
       "\n",
       "/**\n",
       " * Render data to the DOM node\n",
       " */\n",
       "function render(props, node) {\n",
       "  var div = document.createElement(\"div\");\n",
       "  var script = document.createElement(\"script\");\n",
       "  node.appendChild(div);\n",
       "  node.appendChild(script);\n",
       "}\n",
       "\n",
       "/**\n",
       " * Handle when a new output is added\n",
       " */\n",
       "function handle_add_output(event, handle) {\n",
       "  var output_area = handle.output_area;\n",
       "  var output = handle.output;\n",
       "  if ((output.data == undefined) || (!output.data.hasOwnProperty(EXEC_MIME_TYPE))) {\n",
       "    return\n",
       "  }\n",
       "  var id = output.metadata[EXEC_MIME_TYPE][\"id\"];\n",
       "  var toinsert = output_area.element.find(\".\" + CLASS_NAME.split(' ')[0]);\n",
       "  if (id !== undefined) {\n",
       "    var nchildren = toinsert.length;\n",
       "    var html_node = toinsert[nchildren-1].children[0];\n",
       "    html_node.innerHTML = output.data[HTML_MIME_TYPE];\n",
       "    var scripts = [];\n",
       "    var nodelist = html_node.querySelectorAll(\"script\");\n",
       "    for (var i in nodelist) {\n",
       "      if (nodelist.hasOwnProperty(i)) {\n",
       "        scripts.push(nodelist[i])\n",
       "      }\n",
       "    }\n",
       "\n",
       "    scripts.forEach( function (oldScript) {\n",
       "      var newScript = document.createElement(\"script\");\n",
       "      var attrs = [];\n",
       "      var nodemap = oldScript.attributes;\n",
       "      for (var j in nodemap) {\n",
       "        if (nodemap.hasOwnProperty(j)) {\n",
       "          attrs.push(nodemap[j])\n",
       "        }\n",
       "      }\n",
       "      attrs.forEach(function(attr) { newScript.setAttribute(attr.name, attr.value) });\n",
       "      newScript.appendChild(document.createTextNode(oldScript.innerHTML));\n",
       "      oldScript.parentNode.replaceChild(newScript, oldScript);\n",
       "    });\n",
       "    if (JS_MIME_TYPE in output.data) {\n",
       "      toinsert[nchildren-1].children[1].textContent = output.data[JS_MIME_TYPE];\n",
       "    }\n",
       "    output_area._hv_plot_id = id;\n",
       "    if ((window.Bokeh !== undefined) && (id in Bokeh.index)) {\n",
       "      window.PyViz.plot_index[id] = Bokeh.index[id];\n",
       "    } else {\n",
       "      window.PyViz.plot_index[id] = null;\n",
       "    }\n",
       "  } else if (output.metadata[EXEC_MIME_TYPE][\"server_id\"] !== undefined) {\n",
       "    var bk_div = document.createElement(\"div\");\n",
       "    bk_div.innerHTML = output.data[HTML_MIME_TYPE];\n",
       "    var script_attrs = bk_div.children[0].attributes;\n",
       "    for (var i = 0; i < script_attrs.length; i++) {\n",
       "      toinsert[toinsert.length - 1].childNodes[1].setAttribute(script_attrs[i].name, script_attrs[i].value);\n",
       "    }\n",
       "    // store reference to server id on output_area\n",
       "    output_area._bokeh_server_id = output.metadata[EXEC_MIME_TYPE][\"server_id\"];\n",
       "  }\n",
       "}\n",
       "\n",
       "/**\n",
       " * Handle when an output is cleared or removed\n",
       " */\n",
       "function handle_clear_output(event, handle) {\n",
       "  var id = handle.cell.output_area._hv_plot_id;\n",
       "  var server_id = handle.cell.output_area._bokeh_server_id;\n",
       "  if (((id === undefined) || !(id in PyViz.plot_index)) && (server_id !== undefined)) { return; }\n",
       "  var comm = window.PyViz.comm_manager.get_client_comm(\"hv-extension-comm\", \"hv-extension-comm\", function () {});\n",
       "  if (server_id !== null) {\n",
       "    comm.send({event_type: 'server_delete', 'id': server_id});\n",
       "    return;\n",
       "  } else if (comm !== null) {\n",
       "    comm.send({event_type: 'delete', 'id': id});\n",
       "  }\n",
       "  delete PyViz.plot_index[id];\n",
       "  if ((window.Bokeh !== undefined) & (id in window.Bokeh.index)) {\n",
       "    var doc = window.Bokeh.index[id].model.document\n",
       "    doc.clear();\n",
       "    const i = window.Bokeh.documents.indexOf(doc);\n",
       "    if (i > -1) {\n",
       "      window.Bokeh.documents.splice(i, 1);\n",
       "    }\n",
       "  }\n",
       "}\n",
       "\n",
       "/**\n",
       " * Handle kernel restart event\n",
       " */\n",
       "function handle_kernel_cleanup(event, handle) {\n",
       "  delete PyViz.comms[\"hv-extension-comm\"];\n",
       "  window.PyViz.plot_index = {}\n",
       "}\n",
       "\n",
       "/**\n",
       " * Handle update_display_data messages\n",
       " */\n",
       "function handle_update_output(event, handle) {\n",
       "  handle_clear_output(event, {cell: {output_area: handle.output_area}})\n",
       "  handle_add_output(event, handle)\n",
       "}\n",
       "\n",
       "function register_renderer(events, OutputArea) {\n",
       "  function append_mime(data, metadata, element) {\n",
       "    // create a DOM node to render to\n",
       "    var toinsert = this.create_output_subarea(\n",
       "    metadata,\n",
       "    CLASS_NAME,\n",
       "    EXEC_MIME_TYPE\n",
       "    );\n",
       "    this.keyboard_manager.register_events(toinsert);\n",
       "    // Render to node\n",
       "    var props = {data: data, metadata: metadata[EXEC_MIME_TYPE]};\n",
       "    render(props, toinsert[0]);\n",
       "    element.append(toinsert);\n",
       "    return toinsert\n",
       "  }\n",
       "\n",
       "  events.on('output_added.OutputArea', handle_add_output);\n",
       "  events.on('output_updated.OutputArea', handle_update_output);\n",
       "  events.on('clear_output.CodeCell', handle_clear_output);\n",
       "  events.on('delete.Cell', handle_clear_output);\n",
       "  events.on('kernel_ready.Kernel', handle_kernel_cleanup);\n",
       "\n",
       "  OutputArea.prototype.register_mime_type(EXEC_MIME_TYPE, append_mime, {\n",
       "    safe: true,\n",
       "    index: 0\n",
       "  });\n",
       "}\n",
       "\n",
       "if (window.Jupyter !== undefined) {\n",
       "  try {\n",
       "    var events = require('base/js/events');\n",
       "    var OutputArea = require('notebook/js/outputarea').OutputArea;\n",
       "    if (OutputArea.prototype.mime_types().indexOf(EXEC_MIME_TYPE) == -1) {\n",
       "      register_renderer(events, OutputArea);\n",
       "    }\n",
       "  } catch(err) {\n",
       "  }\n",
       "}\n"
      ],
      "application/vnd.holoviews_load.v0+json": "\nif ((window.PyViz === undefined) || (window.PyViz instanceof HTMLElement)) {\n  window.PyViz = {comms: {}, comm_status:{}, kernels:{}, receivers: {}, plot_index: []}\n}\n\n\n    function JupyterCommManager() {\n    }\n\n    JupyterCommManager.prototype.register_target = function(plot_id, comm_id, msg_handler) {\n      if (window.comm_manager || ((window.Jupyter !== undefined) && (Jupyter.notebook.kernel != null))) {\n        var comm_manager = window.comm_manager || Jupyter.notebook.kernel.comm_manager;\n        comm_manager.register_target(comm_id, function(comm) {\n          comm.on_msg(msg_handler);\n        });\n      } else if ((plot_id in window.PyViz.kernels) && (window.PyViz.kernels[plot_id])) {\n        window.PyViz.kernels[plot_id].registerCommTarget(comm_id, function(comm) {\n          comm.onMsg = msg_handler;\n        });\n      } else if (typeof google != 'undefined' && google.colab.kernel != null) {\n        google.colab.kernel.comms.registerTarget(comm_id, (comm) => {\n          var messages = comm.messages[Symbol.asyncIterator]();\n          function processIteratorResult(result) {\n            var message = result.value;\n            console.log(message)\n            var content = {data: message.data, comm_id};\n            var buffers = []\n            for (var buffer of message.buffers || []) {\n              buffers.push(new DataView(buffer))\n            }\n            var metadata = message.metadata || {};\n            var msg = {content, buffers, metadata}\n            msg_handler(msg);\n            return messages.next().then(processIteratorResult);\n          }\n          return messages.next().then(processIteratorResult);\n        })\n      }\n    }\n\n    JupyterCommManager.prototype.get_client_comm = function(plot_id, comm_id, msg_handler) {\n      if (comm_id in window.PyViz.comms) {\n        return window.PyViz.comms[comm_id];\n      } else if (window.comm_manager || ((window.Jupyter !== undefined) && (Jupyter.notebook.kernel != null))) {\n        var comm_manager = window.comm_manager || Jupyter.notebook.kernel.comm_manager;\n        var comm = comm_manager.new_comm(comm_id, {}, {}, {}, comm_id);\n        if (msg_handler) {\n          comm.on_msg(msg_handler);\n        }\n      } else if ((plot_id in window.PyViz.kernels) && (window.PyViz.kernels[plot_id])) {\n        var comm = window.PyViz.kernels[plot_id].connectToComm(comm_id);\n        comm.open();\n        if (msg_handler) {\n          comm.onMsg = msg_handler;\n        }\n      } else if (typeof google != 'undefined' && google.colab.kernel != null) {\n        var comm_promise = google.colab.kernel.comms.open(comm_id)\n        comm_promise.then((comm) => {\n          window.PyViz.comms[comm_id] = comm;\n          if (msg_handler) {\n            var messages = comm.messages[Symbol.asyncIterator]();\n            function processIteratorResult(result) {\n              var message = result.value;\n              var content = {data: message.data};\n              var metadata = message.metadata || {comm_id};\n              var msg = {content, metadata}\n              msg_handler(msg);\n              return messages.next().then(processIteratorResult);\n            }\n            return messages.next().then(processIteratorResult);\n          }\n        }) \n        var sendClosure = (data, metadata, buffers, disposeOnDone) => {\n          return comm_promise.then((comm) => {\n            comm.send(data, metadata, buffers, disposeOnDone);\n          });\n        };\n        var comm = {\n          send: sendClosure\n        };\n      }\n      window.PyViz.comms[comm_id] = comm;\n      return comm;\n    }\n    window.PyViz.comm_manager = new JupyterCommManager();\n    \n\n\nvar JS_MIME_TYPE = 'application/javascript';\nvar HTML_MIME_TYPE = 'text/html';\nvar EXEC_MIME_TYPE = 'application/vnd.holoviews_exec.v0+json';\nvar CLASS_NAME = 'output';\n\n/**\n * Render data to the DOM node\n */\nfunction render(props, node) {\n  var div = document.createElement(\"div\");\n  var script = document.createElement(\"script\");\n  node.appendChild(div);\n  node.appendChild(script);\n}\n\n/**\n * Handle when a new output is added\n */\nfunction handle_add_output(event, handle) {\n  var output_area = handle.output_area;\n  var output = handle.output;\n  if ((output.data == undefined) || (!output.data.hasOwnProperty(EXEC_MIME_TYPE))) {\n    return\n  }\n  var id = output.metadata[EXEC_MIME_TYPE][\"id\"];\n  var toinsert = output_area.element.find(\".\" + CLASS_NAME.split(' ')[0]);\n  if (id !== undefined) {\n    var nchildren = toinsert.length;\n    var html_node = toinsert[nchildren-1].children[0];\n    html_node.innerHTML = output.data[HTML_MIME_TYPE];\n    var scripts = [];\n    var nodelist = html_node.querySelectorAll(\"script\");\n    for (var i in nodelist) {\n      if (nodelist.hasOwnProperty(i)) {\n        scripts.push(nodelist[i])\n      }\n    }\n\n    scripts.forEach( function (oldScript) {\n      var newScript = document.createElement(\"script\");\n      var attrs = [];\n      var nodemap = oldScript.attributes;\n      for (var j in nodemap) {\n        if (nodemap.hasOwnProperty(j)) {\n          attrs.push(nodemap[j])\n        }\n      }\n      attrs.forEach(function(attr) { newScript.setAttribute(attr.name, attr.value) });\n      newScript.appendChild(document.createTextNode(oldScript.innerHTML));\n      oldScript.parentNode.replaceChild(newScript, oldScript);\n    });\n    if (JS_MIME_TYPE in output.data) {\n      toinsert[nchildren-1].children[1].textContent = output.data[JS_MIME_TYPE];\n    }\n    output_area._hv_plot_id = id;\n    if ((window.Bokeh !== undefined) && (id in Bokeh.index)) {\n      window.PyViz.plot_index[id] = Bokeh.index[id];\n    } else {\n      window.PyViz.plot_index[id] = null;\n    }\n  } else if (output.metadata[EXEC_MIME_TYPE][\"server_id\"] !== undefined) {\n    var bk_div = document.createElement(\"div\");\n    bk_div.innerHTML = output.data[HTML_MIME_TYPE];\n    var script_attrs = bk_div.children[0].attributes;\n    for (var i = 0; i < script_attrs.length; i++) {\n      toinsert[toinsert.length - 1].childNodes[1].setAttribute(script_attrs[i].name, script_attrs[i].value);\n    }\n    // store reference to server id on output_area\n    output_area._bokeh_server_id = output.metadata[EXEC_MIME_TYPE][\"server_id\"];\n  }\n}\n\n/**\n * Handle when an output is cleared or removed\n */\nfunction handle_clear_output(event, handle) {\n  var id = handle.cell.output_area._hv_plot_id;\n  var server_id = handle.cell.output_area._bokeh_server_id;\n  if (((id === undefined) || !(id in PyViz.plot_index)) && (server_id !== undefined)) { return; }\n  var comm = window.PyViz.comm_manager.get_client_comm(\"hv-extension-comm\", \"hv-extension-comm\", function () {});\n  if (server_id !== null) {\n    comm.send({event_type: 'server_delete', 'id': server_id});\n    return;\n  } else if (comm !== null) {\n    comm.send({event_type: 'delete', 'id': id});\n  }\n  delete PyViz.plot_index[id];\n  if ((window.Bokeh !== undefined) & (id in window.Bokeh.index)) {\n    var doc = window.Bokeh.index[id].model.document\n    doc.clear();\n    const i = window.Bokeh.documents.indexOf(doc);\n    if (i > -1) {\n      window.Bokeh.documents.splice(i, 1);\n    }\n  }\n}\n\n/**\n * Handle kernel restart event\n */\nfunction handle_kernel_cleanup(event, handle) {\n  delete PyViz.comms[\"hv-extension-comm\"];\n  window.PyViz.plot_index = {}\n}\n\n/**\n * Handle update_display_data messages\n */\nfunction handle_update_output(event, handle) {\n  handle_clear_output(event, {cell: {output_area: handle.output_area}})\n  handle_add_output(event, handle)\n}\n\nfunction register_renderer(events, OutputArea) {\n  function append_mime(data, metadata, element) {\n    // create a DOM node to render to\n    var toinsert = this.create_output_subarea(\n    metadata,\n    CLASS_NAME,\n    EXEC_MIME_TYPE\n    );\n    this.keyboard_manager.register_events(toinsert);\n    // Render to node\n    var props = {data: data, metadata: metadata[EXEC_MIME_TYPE]};\n    render(props, toinsert[0]);\n    element.append(toinsert);\n    return toinsert\n  }\n\n  events.on('output_added.OutputArea', handle_add_output);\n  events.on('output_updated.OutputArea', handle_update_output);\n  events.on('clear_output.CodeCell', handle_clear_output);\n  events.on('delete.Cell', handle_clear_output);\n  events.on('kernel_ready.Kernel', handle_kernel_cleanup);\n\n  OutputArea.prototype.register_mime_type(EXEC_MIME_TYPE, append_mime, {\n    safe: true,\n    index: 0\n  });\n}\n\nif (window.Jupyter !== undefined) {\n  try {\n    var events = require('base/js/events');\n    var OutputArea = require('notebook/js/outputarea').OutputArea;\n    if (OutputArea.prototype.mime_types().indexOf(EXEC_MIME_TYPE) == -1) {\n      register_renderer(events, OutputArea);\n    }\n  } catch(err) {\n  }\n}\n"
     },
     "metadata": {},
     "output_type": "display_data"
    },
    {
     "data": {
      "application/vnd.holoviews_exec.v0+json": "",
      "text/html": [
       "<div id='1037'>\n",
       "\n",
       "\n",
       "\n",
       "\n",
       "\n",
       "  <div class=\"bk-root\" id=\"7e6c17bf-4d21-4603-a340-239e2f463f6d\" data-root-id=\"1037\"></div>\n",
       "</div>\n",
       "<script type=\"application/javascript\">(function(root) {\n",
       "  function embed_document(root) {\n",
       "    var docs_json = {\"0f4f618f-2158-4236-aa67-ad07f7326f10\":{\"defs\":[],\"roots\":{\"references\":[{\"attributes\":{\"children\":[{\"id\":\"1044\"},{\"id\":\"1045\"}],\"margin\":[5,5,5,5],\"min_width\":300,\"name\":\"\",\"width\":300},\"id\":\"1043\",\"type\":\"Column\"},{\"attributes\":{\"children\":[{\"id\":\"1042\"}],\"margin\":[0,0,0,0],\"name\":\"Row00161\"},\"id\":\"1041\",\"type\":\"Row\"},{\"attributes\":{\"background\":\"WhiteSmoke\",\"children\":[{\"id\":\"1038\"},{\"id\":\"1039\"},{\"id\":\"1043\"},{\"id\":\"1046\"}],\"css_classes\":[\"scrollable\"],\"margin\":[0,0,0,0],\"name\":\"Column00181\",\"sizing_mode\":\"stretch_both\",\"tags\":[\"embedded\"]},\"id\":\"1037\",\"type\":\"Column\"},{\"attributes\":{\"children\":[{\"id\":\"1040\"},{\"id\":\"1041\"}],\"margin\":[0,0,0,0],\"name\":\"Row00164\"},\"id\":\"1039\",\"type\":\"Row\"},{\"attributes\":{\"children\":[{\"id\":\"1047\"}],\"css_classes\":[\"scrollable\"],\"height\":400,\"margin\":[0,0,0,0],\"name\":\"Row00172\",\"sizing_mode\":\"fixed\",\"width\":800},\"id\":\"1046\",\"type\":\"Row\"},{\"attributes\":{\"css_classes\":[\"markdown\"],\"margin\":[5,5,5,5],\"name\":\"Markdown00155\",\"text\":\"&lt;h2&gt;Samples : 3&lt;/h2&gt;\\n&lt;h4&gt;Group : O. barthii O. glaberrima&lt;/h4&gt;\"},\"id\":\"1040\",\"type\":\"panel.models.markup.HTML\"},{\"attributes\":{\"height\":288,\"margin\":[5,5,5,5],\"name\":\"ParamMethod00157\",\"text\":\"&lt;img src=&quot;data:image/png;base64,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&quot; width=&quot;432px&quot; height=&quot;288px&quot; alt=&quot;&quot;&gt;&lt;/img&gt;\",\"width\":432},\"id\":\"1042\",\"type\":\"panel.models.markup.HTML\"},{\"attributes\":{\"children\":[{\"id\":\"1048\"}],\"margin\":[0,0,0,0],\"name\":\"Row00169\"},\"id\":\"1047\",\"type\":\"Row\"},{\"attributes\":{\"code\":\"\\nvar state = null\\nfor (var root of cb_obj.document.roots()) {\\n  if (root.id == '1049') {\\n    state = root;\\n    break;\\n  }\\n}\\nif (!state) { return; }\\nstate.set_state(cb_obj, cb_obj.value)\\n\"},\"id\":\"1050\",\"type\":\"CustomJS\"},{\"attributes\":{\"margin\":[5,10,5,10],\"name\":\"\",\"text\":\"<b></b>\"},\"id\":\"1044\",\"type\":\"Div\"},{\"attributes\":{\"js_property_callbacks\":{\"change:value\":[{\"id\":\"1050\"}]},\"margin\":[5,10,5,10],\"options\":[[\"O. barthii\",\"O. barthii\"],[\"O. glaberrima\",\"O. glaberrima\"]],\"title\":\"Species\",\"value\":\"O. barthii\"},\"id\":\"1045\",\"type\":\"Select\"},{\"attributes\":{\"margin\":[5,5,5,5],\"name\":\"ParamMethod00165\",\"text\":\"&lt;table border=&quot;0&quot; class=&quot;dataframe panel-df&quot;&gt;\\n  &lt;thead&gt;\\n    &lt;tr style=&quot;text-align: right;&quot;&gt;\\n      &lt;th&gt;&lt;/th&gt;\\n      &lt;th&gt;sample&lt;/th&gt;\\n      &lt;th&gt;Species&lt;/th&gt;\\n    &lt;/tr&gt;\\n  &lt;/thead&gt;\\n  &lt;tbody&gt;\\n    &lt;tr&gt;\\n      &lt;th&gt;0&lt;/th&gt;\\n      &lt;td&gt;AA&lt;/td&gt;\\n      &lt;td&gt;O. barthii&lt;/td&gt;\\n    &lt;/tr&gt;\\n    &lt;tr&gt;\\n      &lt;th&gt;1&lt;/th&gt;\\n      &lt;td&gt;AB&lt;/td&gt;\\n      &lt;td&gt;O. barthii&lt;/td&gt;\\n    &lt;/tr&gt;\\n  &lt;/tbody&gt;\\n&lt;/table&gt;\"},\"id\":\"1048\",\"type\":\"panel.models.markup.HTML\"},{\"attributes\":{\"state\":{\"O. barthii\":{\"content\":\"{\\\"events\\\": [{\\\"attr\\\": \\\"text\\\", \\\"kind\\\": \\\"ModelChanged\\\", \\\"model\\\": {\\\"id\\\": \\\"1048\\\"}, \\\"new\\\": \\\"&lt;table border=&quot;0&quot; class=&quot;dataframe panel-df&quot;&gt;\\\\n  &lt;thead&gt;\\\\n    &lt;tr style=&quot;text-align: right;&quot;&gt;\\\\n      &lt;th&gt;&lt;/th&gt;\\\\n      &lt;th&gt;sample&lt;/th&gt;\\\\n      &lt;th&gt;Species&lt;/th&gt;\\\\n    &lt;/tr&gt;\\\\n  &lt;/thead&gt;\\\\n  &lt;tbody&gt;\\\\n    &lt;tr&gt;\\\\n      &lt;th&gt;0&lt;/th&gt;\\\\n      &lt;td&gt;AA&lt;/td&gt;\\\\n      &lt;td&gt;O. barthii&lt;/td&gt;\\\\n    &lt;/tr&gt;\\\\n    &lt;tr&gt;\\\\n      &lt;th&gt;1&lt;/th&gt;\\\\n      &lt;td&gt;AB&lt;/td&gt;\\\\n      &lt;td&gt;O. barthii&lt;/td&gt;\\\\n    &lt;/tr&gt;\\\\n  &lt;/tbody&gt;\\\\n&lt;/table&gt;\\\"}], \\\"references\\\": []}\",\"header\":\"{\\\"msgid\\\": \\\"1052\\\", \\\"msgtype\\\": \\\"PATCH-DOC\\\"}\",\"metadata\":\"{}\"},\"O. glaberrima\":{\"content\":\"{\\\"events\\\": [{\\\"attr\\\": \\\"text\\\", \\\"kind\\\": \\\"ModelChanged\\\", \\\"model\\\": {\\\"id\\\": \\\"1048\\\"}, \\\"new\\\": \\\"&lt;table border=&quot;0&quot; class=&quot;dataframe panel-df&quot;&gt;\\\\n  &lt;thead&gt;\\\\n    &lt;tr style=&quot;text-align: right;&quot;&gt;\\\\n      &lt;th&gt;&lt;/th&gt;\\\\n      &lt;th&gt;sample&lt;/th&gt;\\\\n      &lt;th&gt;Species&lt;/th&gt;\\\\n    &lt;/tr&gt;\\\\n  &lt;/thead&gt;\\\\n  &lt;tbody&gt;\\\\n    &lt;tr&gt;\\\\n      &lt;th&gt;2&lt;/th&gt;\\\\n      &lt;td&gt;DT&lt;/td&gt;\\\\n      &lt;td&gt;O. glaberrima&lt;/td&gt;\\\\n    &lt;/tr&gt;\\\\n  &lt;/tbody&gt;\\\\n&lt;/table&gt;\\\"}], \\\"references\\\": []}\",\"header\":\"{\\\"msgid\\\": \\\"1051\\\", \\\"msgtype\\\": \\\"PATCH-DOC\\\"}\",\"metadata\":\"{}\"}},\"values\":[\"O. barthii\"],\"widgets\":{\"1045\":0}},\"id\":\"1049\",\"type\":\"panel.models.state.State\"},{\"attributes\":{\"css_classes\":[\"markdown\"],\"margin\":[5,5,5,5],\"name\":\"Markdown00173\",\"text\":\"&lt;h1&gt;Population Group&lt;/h1&gt;\"},\"id\":\"1038\",\"type\":\"panel.models.markup.HTML\"}],\"root_ids\":[\"1037\",\"1049\"]},\"title\":\"Bokeh Application\",\"version\":\"2.3.3\"}};\n",
       "    var render_items = [{\"docid\":\"0f4f618f-2158-4236-aa67-ad07f7326f10\",\"root_ids\":[\"1037\"],\"roots\":{\"1037\":\"7e6c17bf-4d21-4603-a340-239e2f463f6d\"}}];\n",
       "    root.Bokeh.embed.embed_items_notebook(docs_json, render_items);\n",
       "  }\n",
       "  if (root.Bokeh !== undefined && root.Bokeh.Panel !== undefined) {\n",
       "    embed_document(root);\n",
       "  } else {\n",
       "    var attempts = 0;\n",
       "    var timer = setInterval(function(root) {\n",
       "      if (root.Bokeh !== undefined && root.Bokeh.Panel !== undefined) {\n",
       "        clearInterval(timer);\n",
       "        embed_document(root);\n",
       "      } else if (document.readyState == \"complete\") {\n",
       "        attempts++;\n",
       "        if (attempts > 100) {\n",
       "          clearInterval(timer);\n",
       "          console.log(\"Bokeh: ERROR: Unable to run BokehJS code because BokehJS library is missing\");\n",
       "        }\n",
       "      }\n",
       "    }, 10, root)\n",
       "  }\n",
       "})(window);</script>"
      ]
     },
     "metadata": {
      "application/vnd.holoviews_exec.v0+json": {
       "id": "1037"
      }
     },
     "output_type": "display_data"
    },
    {
     "data": {
      "text/html": [
       "<img src onerror=\"var cell = this.closest('.jp-CodeCell');var editor = cell.querySelector('.jp-Editor');editor.style.background='LightBlue';this.parentNode.removeChild(this)\">"
      ],
      "text/plain": [
       "<IPython.core.display.HTML object>"
      ]
     },
     "metadata": {},
     "output_type": "display_data"
    }
   ],
   "source": [
    "# Reading group file\n",
    "id_dict, df_group = read_group_file(group_file.value,logger)\n",
    "# Group file dashboard\n",
    "dashboard_group(df_group)\n",
    "bgc('LightBlue')"
   ]
  },
  {
   "cell_type": "markdown",
   "metadata": {},
   "source": [
    "***\n",
    "\n",
    "[<img src=\"Images/up-arrow.png\" alt=\"Top\" width=2% align=\"right\">](#home \"Go back to the top\")\n",
    "\n",
    "\n",
    "# <span style=\"color: #3987C4;\">III - frangiPANe Workflow <a class=\"anchor\" id=\"workflow\"></a></span>\n",
    "\n",
    "<img src=\"Images/approachMapThenAssembly.jpg\" width=60%>\n",
    "\n"
   ]
  },
  {
   "cell_type": "markdown",
   "metadata": {},
   "source": [
    "Only fastq files corresponding to samples described in the group file (contained in fastq directory) will be used in this workflow.\n",
    "\n",
    "Fastq naming convention: \n",
    "* sample_code_1.fastq, sample_code_R1.fastq\n",
    "* sample_code_1.fq, sample_code_R1.fq\n",
    "* sample_code_2.fastq, sample_code_R2.fastq\n",
    "* sample_code_2.fq, sample_code_R2.fq\n",
    "\n",
    "with sample_code read from the group file (1st column)"
   ]
  },
  {
   "cell_type": "markdown",
   "metadata": {
    "tags": []
   },
   "source": [
    "### <span style=\"color: #919395\"> _1 - Stats about raw data (fastq files)_\n",
    "\n",
    "#### __Generating fastq statistics with `fastq_stats`__"
   ]
  },
  {
   "cell_type": "markdown",
   "metadata": {},
   "source": [
    "After this stat analysis, several files have been created and saved into 00_fastq_stats directory :\n",
    "* one file (fastq-stat) by fastq file\n",
    "* one file with all stats : all_fastq-stats.csv\n",
    "\n",
    "```\n",
    "TODO : \n",
    "* mB\n",
    "* tester si etape a deja tournée correctement\n",
    "```"
   ]
  },
  {
   "cell_type": "code",
   "execution_count": 6,
   "metadata": {},
   "outputs": [
    {
     "data": {
      "text/html": [
       "<img src onerror=\"var cell = this.closest('.jp-CodeCell');var editor = cell.querySelector('.jp-Editor');editor.style.background='LightBlue';this.parentNode.removeChild(this)\">"
      ],
      "text/plain": [
       "<IPython.core.display.HTML object>"
      ]
     },
     "metadata": {},
     "output_type": "display_data"
    },
    {
     "data": {},
     "metadata": {},
     "output_type": "display_data"
    },
    {
     "data": {
      "application/vnd.holoviews_exec.v0+json": "",
      "text/html": [
       "<div id='1053'>\n",
       "\n",
       "\n",
       "\n",
       "\n",
       "\n",
       "  <div class=\"bk-root\" id=\"a82af2f2-f3b7-4c46-9cd9-c7b1a901ca9f\" data-root-id=\"1053\"></div>\n",
       "</div>\n",
       "<script type=\"application/javascript\">(function(root) {\n",
       "  function embed_document(root) {\n",
       "    var docs_json = {\"15778c88-696a-4fb8-8261-32667c2108fa\":{\"defs\":[],\"roots\":{\"references\":[{\"attributes\":{\"client_comm_id\":\"c8b0cd9db84f4e8893941d47e27de6d0\",\"comm_id\":\"7121ca4afc444bdfb3a3213113d29622\",\"plot_id\":\"1053\"},\"id\":\"1054\",\"type\":\"panel.models.comm_manager.CommManager\"},{\"attributes\":{\"css_classes\":[\"alert\",\"alert-success\",\"markdown\"],\"margin\":[0,0,25,0],\"name\":\"Alert00183\",\"sizing_mode\":\"stretch_width\",\"text\":\"&lt;p&gt;Directory /home/christine/Documents/These/frangiPANeGIT/frangiPANe_rice/00-fastq_stats/ created&lt;/p&gt;\"},\"id\":\"1053\",\"type\":\"panel.models.markup.HTML\"}],\"root_ids\":[\"1053\",\"1054\"]},\"title\":\"Bokeh Application\",\"version\":\"2.3.3\"}};\n",
       "    var render_items = [{\"docid\":\"15778c88-696a-4fb8-8261-32667c2108fa\",\"root_ids\":[\"1053\"],\"roots\":{\"1053\":\"a82af2f2-f3b7-4c46-9cd9-c7b1a901ca9f\"}}];\n",
       "    root.Bokeh.embed.embed_items_notebook(docs_json, render_items);\n",
       "  }\n",
       "  if (root.Bokeh !== undefined && root.Bokeh.Panel !== undefined) {\n",
       "    embed_document(root);\n",
       "  } else {\n",
       "    var attempts = 0;\n",
       "    var timer = setInterval(function(root) {\n",
       "      if (root.Bokeh !== undefined && root.Bokeh.Panel !== undefined) {\n",
       "        clearInterval(timer);\n",
       "        embed_document(root);\n",
       "      } else if (document.readyState == \"complete\") {\n",
       "        attempts++;\n",
       "        if (attempts > 100) {\n",
       "          clearInterval(timer);\n",
       "          console.log(\"Bokeh: ERROR: Unable to run BokehJS code because BokehJS library is missing\");\n",
       "        }\n",
       "      }\n",
       "    }, 10, root)\n",
       "  }\n",
       "})(window);</script>"
      ],
      "text/plain": [
       "Alert(str, alert_type='success', css_classes=['alert', 'alert-success']...], margin=(0, 0, 25, 0), sizing_mode='stretch_width')"
      ]
     },
     "metadata": {
      "application/vnd.holoviews_exec.v0+json": {
       "id": "1053"
      }
     },
     "output_type": "display_data"
    },
    {
     "data": {},
     "metadata": {},
     "output_type": "display_data"
    },
    {
     "data": {
      "application/vnd.holoviews_exec.v0+json": "",
      "text/html": [
       "<div id='1055'>\n",
       "\n",
       "\n",
       "\n",
       "\n",
       "\n",
       "  <div class=\"bk-root\" id=\"2ebd97d8-3a11-4509-be64-c43fa3009f7d\" data-root-id=\"1055\"></div>\n",
       "</div>\n",
       "<script type=\"application/javascript\">(function(root) {\n",
       "  function embed_document(root) {\n",
       "    var docs_json = {\"4890bd02-738b-48a3-b573-d7de37f05418\":{\"defs\":[],\"roots\":{\"references\":[{\"attributes\":{\"css_classes\":[\"alert\",\"alert-info\",\"markdown\"],\"margin\":[0,0,25,0],\"name\":\"Alert00187\",\"sizing_mode\":\"stretch_width\",\"text\":\"&lt;p&gt;Generating some stat about raw data into (/home/christine/Documents/These/frangiPANeGIT/frangiPANe_rice/00-fastq_stats/)&amp;hellip;&lt;/p&gt;\"},\"id\":\"1055\",\"type\":\"panel.models.markup.HTML\"},{\"attributes\":{\"client_comm_id\":\"5fb83a7887db4fa8a7b04081ef1ddda3\",\"comm_id\":\"cc05bbfcc1454169a1737b74fce47dfe\",\"plot_id\":\"1055\"},\"id\":\"1056\",\"type\":\"panel.models.comm_manager.CommManager\"}],\"root_ids\":[\"1055\",\"1056\"]},\"title\":\"Bokeh Application\",\"version\":\"2.3.3\"}};\n",
       "    var render_items = [{\"docid\":\"4890bd02-738b-48a3-b573-d7de37f05418\",\"root_ids\":[\"1055\"],\"roots\":{\"1055\":\"2ebd97d8-3a11-4509-be64-c43fa3009f7d\"}}];\n",
       "    root.Bokeh.embed.embed_items_notebook(docs_json, render_items);\n",
       "  }\n",
       "  if (root.Bokeh !== undefined && root.Bokeh.Panel !== undefined) {\n",
       "    embed_document(root);\n",
       "  } else {\n",
       "    var attempts = 0;\n",
       "    var timer = setInterval(function(root) {\n",
       "      if (root.Bokeh !== undefined && root.Bokeh.Panel !== undefined) {\n",
       "        clearInterval(timer);\n",
       "        embed_document(root);\n",
       "      } else if (document.readyState == \"complete\") {\n",
       "        attempts++;\n",
       "        if (attempts > 100) {\n",
       "          clearInterval(timer);\n",
       "          console.log(\"Bokeh: ERROR: Unable to run BokehJS code because BokehJS library is missing\");\n",
       "        }\n",
       "      }\n",
       "    }, 10, root)\n",
       "  }\n",
       "})(window);</script>"
      ],
      "text/plain": [
       "Alert(str, alert_type='info', css_classes=['alert', 'alert-info'], margin=(0, 0, 25, 0), sizing_mode='stretch_width')"
      ]
     },
     "metadata": {
      "application/vnd.holoviews_exec.v0+json": {
       "id": "1055"
      }
     },
     "output_type": "display_data"
    },
    {
     "data": {},
     "metadata": {},
     "output_type": "display_data"
    },
    {
     "data": {
      "application/vnd.holoviews_exec.v0+json": "",
      "text/html": [
       "<div id='1057'>\n",
       "\n",
       "\n",
       "\n",
       "\n",
       "\n",
       "  <div class=\"bk-root\" id=\"2dbde1b7-148f-4b1a-b84e-a8b9fea1da62\" data-root-id=\"1057\"></div>\n",
       "</div>\n",
       "<script type=\"application/javascript\">(function(root) {\n",
       "  function embed_document(root) {\n",
       "    var docs_json = {\"ca442faf-cbd5-4233-a4a0-9a2fcb16ea85\":{\"defs\":[],\"roots\":{\"references\":[{\"attributes\":{\"css_classes\":[\"alert\",\"alert-info\",\"markdown\"],\"margin\":[0,0,25,0],\"name\":\"Alert00191\",\"sizing_mode\":\"stretch_width\",\"text\":\"&lt;p&gt;Reading fastq directory (/home/christine/Documents/These/frangiPANeGIT/rice/fastq2) and group file&amp;hellip;&lt;/p&gt;\"},\"id\":\"1057\",\"type\":\"panel.models.markup.HTML\"},{\"attributes\":{\"client_comm_id\":\"f65fae8b015943ddacf6eeeda95d95ff\",\"comm_id\":\"03ee293427c1468d96e10790d99b1860\",\"plot_id\":\"1057\"},\"id\":\"1058\",\"type\":\"panel.models.comm_manager.CommManager\"}],\"root_ids\":[\"1057\",\"1058\"]},\"title\":\"Bokeh Application\",\"version\":\"2.3.3\"}};\n",
       "    var render_items = [{\"docid\":\"ca442faf-cbd5-4233-a4a0-9a2fcb16ea85\",\"root_ids\":[\"1057\"],\"roots\":{\"1057\":\"2dbde1b7-148f-4b1a-b84e-a8b9fea1da62\"}}];\n",
       "    root.Bokeh.embed.embed_items_notebook(docs_json, render_items);\n",
       "  }\n",
       "  if (root.Bokeh !== undefined && root.Bokeh.Panel !== undefined) {\n",
       "    embed_document(root);\n",
       "  } else {\n",
       "    var attempts = 0;\n",
       "    var timer = setInterval(function(root) {\n",
       "      if (root.Bokeh !== undefined && root.Bokeh.Panel !== undefined) {\n",
       "        clearInterval(timer);\n",
       "        embed_document(root);\n",
       "      } else if (document.readyState == \"complete\") {\n",
       "        attempts++;\n",
       "        if (attempts > 100) {\n",
       "          clearInterval(timer);\n",
       "          console.log(\"Bokeh: ERROR: Unable to run BokehJS code because BokehJS library is missing\");\n",
       "        }\n",
       "      }\n",
       "    }, 10, root)\n",
       "  }\n",
       "})(window);</script>"
      ],
      "text/plain": [
       "Alert(str, alert_type='info', css_classes=['alert', 'alert-info'], margin=(0, 0, 25, 0), sizing_mode='stretch_width')"
      ]
     },
     "metadata": {
      "application/vnd.holoviews_exec.v0+json": {
       "id": "1057"
      }
     },
     "output_type": "display_data"
    },
    {
     "data": {},
     "metadata": {},
     "output_type": "display_data"
    },
    {
     "data": {
      "application/vnd.holoviews_exec.v0+json": "",
      "text/html": [
       "<div id='1059'>\n",
       "\n",
       "\n",
       "\n",
       "\n",
       "\n",
       "  <div class=\"bk-root\" id=\"a770ddd4-6dec-4f76-95f8-0fcafdbadbe8\" data-root-id=\"1059\"></div>\n",
       "</div>\n",
       "<script type=\"application/javascript\">(function(root) {\n",
       "  function embed_document(root) {\n",
       "    var docs_json = {\"b4ee79a3-e320-4dfb-b06f-3cc2f375d705\":{\"defs\":[],\"roots\":{\"references\":[{\"attributes\":{\"css_classes\":[\"alert\",\"alert-secondary\",\"markdown\"],\"margin\":[0,0,25,0],\"name\":\"Alert00195\",\"sizing_mode\":\"stretch_width\",\"text\":\"&lt;p&gt;In progress for AA_1.fastq.gz&amp;hellip;&lt;/p&gt;\"},\"id\":\"1059\",\"type\":\"panel.models.markup.HTML\"},{\"attributes\":{\"client_comm_id\":\"b1c27067f2474b82963306fbce86b564\",\"comm_id\":\"ba17759ac3a6480a95b2463734d870df\",\"plot_id\":\"1059\"},\"id\":\"1060\",\"type\":\"panel.models.comm_manager.CommManager\"}],\"root_ids\":[\"1059\",\"1060\"]},\"title\":\"Bokeh Application\",\"version\":\"2.3.3\"}};\n",
       "    var render_items = [{\"docid\":\"b4ee79a3-e320-4dfb-b06f-3cc2f375d705\",\"root_ids\":[\"1059\"],\"roots\":{\"1059\":\"a770ddd4-6dec-4f76-95f8-0fcafdbadbe8\"}}];\n",
       "    root.Bokeh.embed.embed_items_notebook(docs_json, render_items);\n",
       "  }\n",
       "  if (root.Bokeh !== undefined && root.Bokeh.Panel !== undefined) {\n",
       "    embed_document(root);\n",
       "  } else {\n",
       "    var attempts = 0;\n",
       "    var timer = setInterval(function(root) {\n",
       "      if (root.Bokeh !== undefined && root.Bokeh.Panel !== undefined) {\n",
       "        clearInterval(timer);\n",
       "        embed_document(root);\n",
       "      } else if (document.readyState == \"complete\") {\n",
       "        attempts++;\n",
       "        if (attempts > 100) {\n",
       "          clearInterval(timer);\n",
       "          console.log(\"Bokeh: ERROR: Unable to run BokehJS code because BokehJS library is missing\");\n",
       "        }\n",
       "      }\n",
       "    }, 10, root)\n",
       "  }\n",
       "})(window);</script>"
      ],
      "text/plain": [
       "Alert(str, alert_type='secondary', css_classes=['alert', 'alert-secondary...], margin=(0, 0, 25, 0), sizing_mode='stretch_width')"
      ]
     },
     "metadata": {
      "application/vnd.holoviews_exec.v0+json": {
       "id": "1059"
      }
     },
     "output_type": "display_data"
    },
    {
     "data": {},
     "metadata": {},
     "output_type": "display_data"
    },
    {
     "data": {
      "application/vnd.holoviews_exec.v0+json": "",
      "text/html": [
       "<div id='1061'>\n",
       "\n",
       "\n",
       "\n",
       "\n",
       "\n",
       "  <div class=\"bk-root\" id=\"04bda245-eb1d-4b32-a446-86e68cd31c65\" data-root-id=\"1061\"></div>\n",
       "</div>\n",
       "<script type=\"application/javascript\">(function(root) {\n",
       "  function embed_document(root) {\n",
       "    var docs_json = {\"09fb96d6-750f-4625-8c2d-d8b45479fd48\":{\"defs\":[],\"roots\":{\"references\":[{\"attributes\":{\"client_comm_id\":\"5358834aa12048c29a0a0499bb2734e3\",\"comm_id\":\"7d5512ddf7874eb689a56ff19b179c19\",\"plot_id\":\"1061\"},\"id\":\"1062\",\"type\":\"panel.models.comm_manager.CommManager\"},{\"attributes\":{\"css_classes\":[\"alert\",\"alert-success\",\"markdown\"],\"margin\":[0,0,25,0],\"name\":\"Alert00199\",\"sizing_mode\":\"stretch_width\",\"text\":\"&lt;p&gt;fastq_stats executed successfully (/home/christine/Documents/These/frangiPANeGIT/frangiPANe_rice/00-fastq_stats/AA_1.fastq.gz.fastqstat)&lt;/p&gt;\"},\"id\":\"1061\",\"type\":\"panel.models.markup.HTML\"}],\"root_ids\":[\"1061\",\"1062\"]},\"title\":\"Bokeh Application\",\"version\":\"2.3.3\"}};\n",
       "    var render_items = [{\"docid\":\"09fb96d6-750f-4625-8c2d-d8b45479fd48\",\"root_ids\":[\"1061\"],\"roots\":{\"1061\":\"04bda245-eb1d-4b32-a446-86e68cd31c65\"}}];\n",
       "    root.Bokeh.embed.embed_items_notebook(docs_json, render_items);\n",
       "  }\n",
       "  if (root.Bokeh !== undefined && root.Bokeh.Panel !== undefined) {\n",
       "    embed_document(root);\n",
       "  } else {\n",
       "    var attempts = 0;\n",
       "    var timer = setInterval(function(root) {\n",
       "      if (root.Bokeh !== undefined && root.Bokeh.Panel !== undefined) {\n",
       "        clearInterval(timer);\n",
       "        embed_document(root);\n",
       "      } else if (document.readyState == \"complete\") {\n",
       "        attempts++;\n",
       "        if (attempts > 100) {\n",
       "          clearInterval(timer);\n",
       "          console.log(\"Bokeh: ERROR: Unable to run BokehJS code because BokehJS library is missing\");\n",
       "        }\n",
       "      }\n",
       "    }, 10, root)\n",
       "  }\n",
       "})(window);</script>"
      ],
      "text/plain": [
       "Alert(str, alert_type='success', css_classes=['alert', 'alert-success']...], margin=(0, 0, 25, 0), sizing_mode='stretch_width')"
      ]
     },
     "metadata": {
      "application/vnd.holoviews_exec.v0+json": {
       "id": "1061"
      }
     },
     "output_type": "display_data"
    },
    {
     "data": {},
     "metadata": {},
     "output_type": "display_data"
    },
    {
     "data": {
      "application/vnd.holoviews_exec.v0+json": "",
      "text/html": [
       "<div id='1063'>\n",
       "\n",
       "\n",
       "\n",
       "\n",
       "\n",
       "  <div class=\"bk-root\" id=\"f6ff50ef-3236-4a61-9e44-c1922842db3d\" data-root-id=\"1063\"></div>\n",
       "</div>\n",
       "<script type=\"application/javascript\">(function(root) {\n",
       "  function embed_document(root) {\n",
       "    var docs_json = {\"cd2b0dd6-5bda-4301-b887-53e7bafb2f79\":{\"defs\":[],\"roots\":{\"references\":[{\"attributes\":{\"css_classes\":[\"alert\",\"alert-warning\",\"markdown\"],\"margin\":[0,0,25,0],\"name\":\"Alert00203\",\"sizing_mode\":\"stretch_width\",\"text\":\"&lt;p&gt;Read group AB0 in this file (AB0_1.fastq.gz) not in group file.... Skip fastq stats&lt;/p&gt;\"},\"id\":\"1063\",\"type\":\"panel.models.markup.HTML\"},{\"attributes\":{\"client_comm_id\":\"e77ed6b65e1c4a81820f9da9c488a5a8\",\"comm_id\":\"4bb68b95a03a4f56961b385401194573\",\"plot_id\":\"1063\"},\"id\":\"1064\",\"type\":\"panel.models.comm_manager.CommManager\"}],\"root_ids\":[\"1063\",\"1064\"]},\"title\":\"Bokeh Application\",\"version\":\"2.3.3\"}};\n",
       "    var render_items = [{\"docid\":\"cd2b0dd6-5bda-4301-b887-53e7bafb2f79\",\"root_ids\":[\"1063\"],\"roots\":{\"1063\":\"f6ff50ef-3236-4a61-9e44-c1922842db3d\"}}];\n",
       "    root.Bokeh.embed.embed_items_notebook(docs_json, render_items);\n",
       "  }\n",
       "  if (root.Bokeh !== undefined && root.Bokeh.Panel !== undefined) {\n",
       "    embed_document(root);\n",
       "  } else {\n",
       "    var attempts = 0;\n",
       "    var timer = setInterval(function(root) {\n",
       "      if (root.Bokeh !== undefined && root.Bokeh.Panel !== undefined) {\n",
       "        clearInterval(timer);\n",
       "        embed_document(root);\n",
       "      } else if (document.readyState == \"complete\") {\n",
       "        attempts++;\n",
       "        if (attempts > 100) {\n",
       "          clearInterval(timer);\n",
       "          console.log(\"Bokeh: ERROR: Unable to run BokehJS code because BokehJS library is missing\");\n",
       "        }\n",
       "      }\n",
       "    }, 10, root)\n",
       "  }\n",
       "})(window);</script>"
      ],
      "text/plain": [
       "Alert(str, alert_type='warning', css_classes=['alert', 'alert-warning']...], margin=(0, 0, 25, 0), sizing_mode='stretch_width')"
      ]
     },
     "metadata": {
      "application/vnd.holoviews_exec.v0+json": {
       "id": "1063"
      }
     },
     "output_type": "display_data"
    },
    {
     "data": {},
     "metadata": {},
     "output_type": "display_data"
    },
    {
     "data": {
      "application/vnd.holoviews_exec.v0+json": "",
      "text/html": [
       "<div id='1065'>\n",
       "\n",
       "\n",
       "\n",
       "\n",
       "\n",
       "  <div class=\"bk-root\" id=\"657f5e21-f661-4f58-9250-3eadfdab3993\" data-root-id=\"1065\"></div>\n",
       "</div>\n",
       "<script type=\"application/javascript\">(function(root) {\n",
       "  function embed_document(root) {\n",
       "    var docs_json = {\"c93c2cc0-c22c-4baf-99ed-c7960637ff50\":{\"defs\":[],\"roots\":{\"references\":[{\"attributes\":{\"client_comm_id\":\"065a98130f214cb6b3d756eed847acb6\",\"comm_id\":\"33ec75036e95443eb504a9ca0c63f146\",\"plot_id\":\"1065\"},\"id\":\"1066\",\"type\":\"panel.models.comm_manager.CommManager\"},{\"attributes\":{\"css_classes\":[\"alert\",\"alert-secondary\",\"markdown\"],\"margin\":[0,0,25,0],\"name\":\"Alert00207\",\"sizing_mode\":\"stretch_width\",\"text\":\"&lt;p&gt;In progress for DT_1.fastq.gz&amp;hellip;&lt;/p&gt;\"},\"id\":\"1065\",\"type\":\"panel.models.markup.HTML\"}],\"root_ids\":[\"1065\",\"1066\"]},\"title\":\"Bokeh Application\",\"version\":\"2.3.3\"}};\n",
       "    var render_items = [{\"docid\":\"c93c2cc0-c22c-4baf-99ed-c7960637ff50\",\"root_ids\":[\"1065\"],\"roots\":{\"1065\":\"657f5e21-f661-4f58-9250-3eadfdab3993\"}}];\n",
       "    root.Bokeh.embed.embed_items_notebook(docs_json, render_items);\n",
       "  }\n",
       "  if (root.Bokeh !== undefined && root.Bokeh.Panel !== undefined) {\n",
       "    embed_document(root);\n",
       "  } else {\n",
       "    var attempts = 0;\n",
       "    var timer = setInterval(function(root) {\n",
       "      if (root.Bokeh !== undefined && root.Bokeh.Panel !== undefined) {\n",
       "        clearInterval(timer);\n",
       "        embed_document(root);\n",
       "      } else if (document.readyState == \"complete\") {\n",
       "        attempts++;\n",
       "        if (attempts > 100) {\n",
       "          clearInterval(timer);\n",
       "          console.log(\"Bokeh: ERROR: Unable to run BokehJS code because BokehJS library is missing\");\n",
       "        }\n",
       "      }\n",
       "    }, 10, root)\n",
       "  }\n",
       "})(window);</script>"
      ],
      "text/plain": [
       "Alert(str, alert_type='secondary', css_classes=['alert', 'alert-secondary...], margin=(0, 0, 25, 0), sizing_mode='stretch_width')"
      ]
     },
     "metadata": {
      "application/vnd.holoviews_exec.v0+json": {
       "id": "1065"
      }
     },
     "output_type": "display_data"
    },
    {
     "data": {},
     "metadata": {},
     "output_type": "display_data"
    },
    {
     "data": {
      "application/vnd.holoviews_exec.v0+json": "",
      "text/html": [
       "<div id='1067'>\n",
       "\n",
       "\n",
       "\n",
       "\n",
       "\n",
       "  <div class=\"bk-root\" id=\"af77d400-465d-410d-a013-f7da32c83355\" data-root-id=\"1067\"></div>\n",
       "</div>\n",
       "<script type=\"application/javascript\">(function(root) {\n",
       "  function embed_document(root) {\n",
       "    var docs_json = {\"9aa06cfa-3bd7-4e2c-94f7-d957401ad6b3\":{\"defs\":[],\"roots\":{\"references\":[{\"attributes\":{\"client_comm_id\":\"729a6794ab90496e92b407095234ef31\",\"comm_id\":\"c4581b88381e47588df4162f9f825185\",\"plot_id\":\"1067\"},\"id\":\"1068\",\"type\":\"panel.models.comm_manager.CommManager\"},{\"attributes\":{\"css_classes\":[\"alert\",\"alert-success\",\"markdown\"],\"margin\":[0,0,25,0],\"name\":\"Alert00211\",\"sizing_mode\":\"stretch_width\",\"text\":\"&lt;p&gt;fastq_stats executed successfully (/home/christine/Documents/These/frangiPANeGIT/frangiPANe_rice/00-fastq_stats/DT_1.fastq.gz.fastqstat)&lt;/p&gt;\"},\"id\":\"1067\",\"type\":\"panel.models.markup.HTML\"}],\"root_ids\":[\"1067\",\"1068\"]},\"title\":\"Bokeh Application\",\"version\":\"2.3.3\"}};\n",
       "    var render_items = [{\"docid\":\"9aa06cfa-3bd7-4e2c-94f7-d957401ad6b3\",\"root_ids\":[\"1067\"],\"roots\":{\"1067\":\"af77d400-465d-410d-a013-f7da32c83355\"}}];\n",
       "    root.Bokeh.embed.embed_items_notebook(docs_json, render_items);\n",
       "  }\n",
       "  if (root.Bokeh !== undefined && root.Bokeh.Panel !== undefined) {\n",
       "    embed_document(root);\n",
       "  } else {\n",
       "    var attempts = 0;\n",
       "    var timer = setInterval(function(root) {\n",
       "      if (root.Bokeh !== undefined && root.Bokeh.Panel !== undefined) {\n",
       "        clearInterval(timer);\n",
       "        embed_document(root);\n",
       "      } else if (document.readyState == \"complete\") {\n",
       "        attempts++;\n",
       "        if (attempts > 100) {\n",
       "          clearInterval(timer);\n",
       "          console.log(\"Bokeh: ERROR: Unable to run BokehJS code because BokehJS library is missing\");\n",
       "        }\n",
       "      }\n",
       "    }, 10, root)\n",
       "  }\n",
       "})(window);</script>"
      ],
      "text/plain": [
       "Alert(str, alert_type='success', css_classes=['alert', 'alert-success']...], margin=(0, 0, 25, 0), sizing_mode='stretch_width')"
      ]
     },
     "metadata": {
      "application/vnd.holoviews_exec.v0+json": {
       "id": "1067"
      }
     },
     "output_type": "display_data"
    },
    {
     "data": {},
     "metadata": {},
     "output_type": "display_data"
    },
    {
     "data": {
      "application/vnd.holoviews_exec.v0+json": "",
      "text/html": [
       "<div id='1069'>\n",
       "\n",
       "\n",
       "\n",
       "\n",
       "\n",
       "  <div class=\"bk-root\" id=\"cdfe6ba1-7a94-42fa-959d-18683c6f5ffb\" data-root-id=\"1069\"></div>\n",
       "</div>\n",
       "<script type=\"application/javascript\">(function(root) {\n",
       "  function embed_document(root) {\n",
       "    var docs_json = {\"b40ea522-2ce1-4b36-b643-8200688a29e5\":{\"defs\":[],\"roots\":{\"references\":[{\"attributes\":{\"client_comm_id\":\"8f331898775944c8887e6933a966e0fd\",\"comm_id\":\"e2958b7001ab45699ce0657dd913f507\",\"plot_id\":\"1069\"},\"id\":\"1070\",\"type\":\"panel.models.comm_manager.CommManager\"},{\"attributes\":{\"css_classes\":[\"alert\",\"alert-warning\",\"markdown\"],\"margin\":[0,0,25,0],\"name\":\"Alert00215\",\"sizing_mode\":\"stretch_width\",\"text\":\"&lt;p&gt;Read group AB0 in this file (AB0_2.fastq.gz) not in group file.... Skip fastq stats&lt;/p&gt;\"},\"id\":\"1069\",\"type\":\"panel.models.markup.HTML\"}],\"root_ids\":[\"1069\",\"1070\"]},\"title\":\"Bokeh Application\",\"version\":\"2.3.3\"}};\n",
       "    var render_items = [{\"docid\":\"b40ea522-2ce1-4b36-b643-8200688a29e5\",\"root_ids\":[\"1069\"],\"roots\":{\"1069\":\"cdfe6ba1-7a94-42fa-959d-18683c6f5ffb\"}}];\n",
       "    root.Bokeh.embed.embed_items_notebook(docs_json, render_items);\n",
       "  }\n",
       "  if (root.Bokeh !== undefined && root.Bokeh.Panel !== undefined) {\n",
       "    embed_document(root);\n",
       "  } else {\n",
       "    var attempts = 0;\n",
       "    var timer = setInterval(function(root) {\n",
       "      if (root.Bokeh !== undefined && root.Bokeh.Panel !== undefined) {\n",
       "        clearInterval(timer);\n",
       "        embed_document(root);\n",
       "      } else if (document.readyState == \"complete\") {\n",
       "        attempts++;\n",
       "        if (attempts > 100) {\n",
       "          clearInterval(timer);\n",
       "          console.log(\"Bokeh: ERROR: Unable to run BokehJS code because BokehJS library is missing\");\n",
       "        }\n",
       "      }\n",
       "    }, 10, root)\n",
       "  }\n",
       "})(window);</script>"
      ],
      "text/plain": [
       "Alert(str, alert_type='warning', css_classes=['alert', 'alert-warning']...], margin=(0, 0, 25, 0), sizing_mode='stretch_width')"
      ]
     },
     "metadata": {
      "application/vnd.holoviews_exec.v0+json": {
       "id": "1069"
      }
     },
     "output_type": "display_data"
    },
    {
     "data": {},
     "metadata": {},
     "output_type": "display_data"
    },
    {
     "data": {
      "application/vnd.holoviews_exec.v0+json": "",
      "text/html": [
       "<div id='1071'>\n",
       "\n",
       "\n",
       "\n",
       "\n",
       "\n",
       "  <div class=\"bk-root\" id=\"8f5b43fb-fbbd-4e1d-9828-7aa7a686b527\" data-root-id=\"1071\"></div>\n",
       "</div>\n",
       "<script type=\"application/javascript\">(function(root) {\n",
       "  function embed_document(root) {\n",
       "    var docs_json = {\"1a5867a7-8cfb-4166-95c3-4a4f699bb050\":{\"defs\":[],\"roots\":{\"references\":[{\"attributes\":{\"client_comm_id\":\"5140f14d590c4bc7be810ee5b3099a67\",\"comm_id\":\"aa6d3198e70b4cc5b80ed028aecd6feb\",\"plot_id\":\"1071\"},\"id\":\"1072\",\"type\":\"panel.models.comm_manager.CommManager\"},{\"attributes\":{\"css_classes\":[\"alert\",\"alert-secondary\",\"markdown\"],\"margin\":[0,0,25,0],\"name\":\"Alert00219\",\"sizing_mode\":\"stretch_width\",\"text\":\"&lt;p&gt;In progress for DT_2.fastq.gz&amp;hellip;&lt;/p&gt;\"},\"id\":\"1071\",\"type\":\"panel.models.markup.HTML\"}],\"root_ids\":[\"1071\",\"1072\"]},\"title\":\"Bokeh Application\",\"version\":\"2.3.3\"}};\n",
       "    var render_items = [{\"docid\":\"1a5867a7-8cfb-4166-95c3-4a4f699bb050\",\"root_ids\":[\"1071\"],\"roots\":{\"1071\":\"8f5b43fb-fbbd-4e1d-9828-7aa7a686b527\"}}];\n",
       "    root.Bokeh.embed.embed_items_notebook(docs_json, render_items);\n",
       "  }\n",
       "  if (root.Bokeh !== undefined && root.Bokeh.Panel !== undefined) {\n",
       "    embed_document(root);\n",
       "  } else {\n",
       "    var attempts = 0;\n",
       "    var timer = setInterval(function(root) {\n",
       "      if (root.Bokeh !== undefined && root.Bokeh.Panel !== undefined) {\n",
       "        clearInterval(timer);\n",
       "        embed_document(root);\n",
       "      } else if (document.readyState == \"complete\") {\n",
       "        attempts++;\n",
       "        if (attempts > 100) {\n",
       "          clearInterval(timer);\n",
       "          console.log(\"Bokeh: ERROR: Unable to run BokehJS code because BokehJS library is missing\");\n",
       "        }\n",
       "      }\n",
       "    }, 10, root)\n",
       "  }\n",
       "})(window);</script>"
      ],
      "text/plain": [
       "Alert(str, alert_type='secondary', css_classes=['alert', 'alert-secondary...], margin=(0, 0, 25, 0), sizing_mode='stretch_width')"
      ]
     },
     "metadata": {
      "application/vnd.holoviews_exec.v0+json": {
       "id": "1071"
      }
     },
     "output_type": "display_data"
    },
    {
     "data": {},
     "metadata": {},
     "output_type": "display_data"
    },
    {
     "data": {
      "application/vnd.holoviews_exec.v0+json": "",
      "text/html": [
       "<div id='1073'>\n",
       "\n",
       "\n",
       "\n",
       "\n",
       "\n",
       "  <div class=\"bk-root\" id=\"0eff5f7d-d7e3-4aab-9244-f1f4a0290585\" data-root-id=\"1073\"></div>\n",
       "</div>\n",
       "<script type=\"application/javascript\">(function(root) {\n",
       "  function embed_document(root) {\n",
       "    var docs_json = {\"e594c497-cac6-4a05-8542-5d78dc4ecb86\":{\"defs\":[],\"roots\":{\"references\":[{\"attributes\":{\"client_comm_id\":\"f23c4f8b0a174157b496e6dd4b7e57b7\",\"comm_id\":\"c9b9b890360d41c7b10571f9a1715e34\",\"plot_id\":\"1073\"},\"id\":\"1074\",\"type\":\"panel.models.comm_manager.CommManager\"},{\"attributes\":{\"css_classes\":[\"alert\",\"alert-success\",\"markdown\"],\"margin\":[0,0,25,0],\"name\":\"Alert00223\",\"sizing_mode\":\"stretch_width\",\"text\":\"&lt;p&gt;fastq_stats executed successfully (/home/christine/Documents/These/frangiPANeGIT/frangiPANe_rice/00-fastq_stats/DT_2.fastq.gz.fastqstat)&lt;/p&gt;\"},\"id\":\"1073\",\"type\":\"panel.models.markup.HTML\"}],\"root_ids\":[\"1073\",\"1074\"]},\"title\":\"Bokeh Application\",\"version\":\"2.3.3\"}};\n",
       "    var render_items = [{\"docid\":\"e594c497-cac6-4a05-8542-5d78dc4ecb86\",\"root_ids\":[\"1073\"],\"roots\":{\"1073\":\"0eff5f7d-d7e3-4aab-9244-f1f4a0290585\"}}];\n",
       "    root.Bokeh.embed.embed_items_notebook(docs_json, render_items);\n",
       "  }\n",
       "  if (root.Bokeh !== undefined && root.Bokeh.Panel !== undefined) {\n",
       "    embed_document(root);\n",
       "  } else {\n",
       "    var attempts = 0;\n",
       "    var timer = setInterval(function(root) {\n",
       "      if (root.Bokeh !== undefined && root.Bokeh.Panel !== undefined) {\n",
       "        clearInterval(timer);\n",
       "        embed_document(root);\n",
       "      } else if (document.readyState == \"complete\") {\n",
       "        attempts++;\n",
       "        if (attempts > 100) {\n",
       "          clearInterval(timer);\n",
       "          console.log(\"Bokeh: ERROR: Unable to run BokehJS code because BokehJS library is missing\");\n",
       "        }\n",
       "      }\n",
       "    }, 10, root)\n",
       "  }\n",
       "})(window);</script>"
      ],
      "text/plain": [
       "Alert(str, alert_type='success', css_classes=['alert', 'alert-success']...], margin=(0, 0, 25, 0), sizing_mode='stretch_width')"
      ]
     },
     "metadata": {
      "application/vnd.holoviews_exec.v0+json": {
       "id": "1073"
      }
     },
     "output_type": "display_data"
    },
    {
     "data": {},
     "metadata": {},
     "output_type": "display_data"
    },
    {
     "data": {
      "application/vnd.holoviews_exec.v0+json": "",
      "text/html": [
       "<div id='1075'>\n",
       "\n",
       "\n",
       "\n",
       "\n",
       "\n",
       "  <div class=\"bk-root\" id=\"cb47baf9-4356-4c22-839a-482b7fb88210\" data-root-id=\"1075\"></div>\n",
       "</div>\n",
       "<script type=\"application/javascript\">(function(root) {\n",
       "  function embed_document(root) {\n",
       "    var docs_json = {\"392b1f83-0283-43e6-8d56-c450da0f0c0c\":{\"defs\":[],\"roots\":{\"references\":[{\"attributes\":{\"client_comm_id\":\"554b9d005f5c4b65876fdda86e046ca7\",\"comm_id\":\"0382972892e44a3bbe9253dd4a1dafb4\",\"plot_id\":\"1075\"},\"id\":\"1076\",\"type\":\"panel.models.comm_manager.CommManager\"},{\"attributes\":{\"css_classes\":[\"alert\",\"alert-secondary\",\"markdown\"],\"margin\":[0,0,25,0],\"name\":\"Alert00227\",\"sizing_mode\":\"stretch_width\",\"text\":\"&lt;p&gt;In progress for AB_1.fastq.gz&amp;hellip;&lt;/p&gt;\"},\"id\":\"1075\",\"type\":\"panel.models.markup.HTML\"}],\"root_ids\":[\"1075\",\"1076\"]},\"title\":\"Bokeh Application\",\"version\":\"2.3.3\"}};\n",
       "    var render_items = [{\"docid\":\"392b1f83-0283-43e6-8d56-c450da0f0c0c\",\"root_ids\":[\"1075\"],\"roots\":{\"1075\":\"cb47baf9-4356-4c22-839a-482b7fb88210\"}}];\n",
       "    root.Bokeh.embed.embed_items_notebook(docs_json, render_items);\n",
       "  }\n",
       "  if (root.Bokeh !== undefined && root.Bokeh.Panel !== undefined) {\n",
       "    embed_document(root);\n",
       "  } else {\n",
       "    var attempts = 0;\n",
       "    var timer = setInterval(function(root) {\n",
       "      if (root.Bokeh !== undefined && root.Bokeh.Panel !== undefined) {\n",
       "        clearInterval(timer);\n",
       "        embed_document(root);\n",
       "      } else if (document.readyState == \"complete\") {\n",
       "        attempts++;\n",
       "        if (attempts > 100) {\n",
       "          clearInterval(timer);\n",
       "          console.log(\"Bokeh: ERROR: Unable to run BokehJS code because BokehJS library is missing\");\n",
       "        }\n",
       "      }\n",
       "    }, 10, root)\n",
       "  }\n",
       "})(window);</script>"
      ],
      "text/plain": [
       "Alert(str, alert_type='secondary', css_classes=['alert', 'alert-secondary...], margin=(0, 0, 25, 0), sizing_mode='stretch_width')"
      ]
     },
     "metadata": {
      "application/vnd.holoviews_exec.v0+json": {
       "id": "1075"
      }
     },
     "output_type": "display_data"
    },
    {
     "data": {},
     "metadata": {},
     "output_type": "display_data"
    },
    {
     "data": {
      "application/vnd.holoviews_exec.v0+json": "",
      "text/html": [
       "<div id='1077'>\n",
       "\n",
       "\n",
       "\n",
       "\n",
       "\n",
       "  <div class=\"bk-root\" id=\"fcb72303-75a1-4902-83e3-88f655108962\" data-root-id=\"1077\"></div>\n",
       "</div>\n",
       "<script type=\"application/javascript\">(function(root) {\n",
       "  function embed_document(root) {\n",
       "    var docs_json = {\"07b3bc26-58b8-4d3c-9c54-5205c958130b\":{\"defs\":[],\"roots\":{\"references\":[{\"attributes\":{\"css_classes\":[\"alert\",\"alert-success\",\"markdown\"],\"margin\":[0,0,25,0],\"name\":\"Alert00231\",\"sizing_mode\":\"stretch_width\",\"text\":\"&lt;p&gt;fastq_stats executed successfully (/home/christine/Documents/These/frangiPANeGIT/frangiPANe_rice/00-fastq_stats/AB_1.fastq.gz.fastqstat)&lt;/p&gt;\"},\"id\":\"1077\",\"type\":\"panel.models.markup.HTML\"},{\"attributes\":{\"client_comm_id\":\"0a3571474c3348fead2be636a1c8cb11\",\"comm_id\":\"b65f00c96386411587d08926520bd83c\",\"plot_id\":\"1077\"},\"id\":\"1078\",\"type\":\"panel.models.comm_manager.CommManager\"}],\"root_ids\":[\"1077\",\"1078\"]},\"title\":\"Bokeh Application\",\"version\":\"2.3.3\"}};\n",
       "    var render_items = [{\"docid\":\"07b3bc26-58b8-4d3c-9c54-5205c958130b\",\"root_ids\":[\"1077\"],\"roots\":{\"1077\":\"fcb72303-75a1-4902-83e3-88f655108962\"}}];\n",
       "    root.Bokeh.embed.embed_items_notebook(docs_json, render_items);\n",
       "  }\n",
       "  if (root.Bokeh !== undefined && root.Bokeh.Panel !== undefined) {\n",
       "    embed_document(root);\n",
       "  } else {\n",
       "    var attempts = 0;\n",
       "    var timer = setInterval(function(root) {\n",
       "      if (root.Bokeh !== undefined && root.Bokeh.Panel !== undefined) {\n",
       "        clearInterval(timer);\n",
       "        embed_document(root);\n",
       "      } else if (document.readyState == \"complete\") {\n",
       "        attempts++;\n",
       "        if (attempts > 100) {\n",
       "          clearInterval(timer);\n",
       "          console.log(\"Bokeh: ERROR: Unable to run BokehJS code because BokehJS library is missing\");\n",
       "        }\n",
       "      }\n",
       "    }, 10, root)\n",
       "  }\n",
       "})(window);</script>"
      ],
      "text/plain": [
       "Alert(str, alert_type='success', css_classes=['alert', 'alert-success']...], margin=(0, 0, 25, 0), sizing_mode='stretch_width')"
      ]
     },
     "metadata": {
      "application/vnd.holoviews_exec.v0+json": {
       "id": "1077"
      }
     },
     "output_type": "display_data"
    },
    {
     "data": {},
     "metadata": {},
     "output_type": "display_data"
    },
    {
     "data": {
      "application/vnd.holoviews_exec.v0+json": "",
      "text/html": [
       "<div id='1079'>\n",
       "\n",
       "\n",
       "\n",
       "\n",
       "\n",
       "  <div class=\"bk-root\" id=\"ba256ca5-728e-4f31-adac-e6f17ee0448c\" data-root-id=\"1079\"></div>\n",
       "</div>\n",
       "<script type=\"application/javascript\">(function(root) {\n",
       "  function embed_document(root) {\n",
       "    var docs_json = {\"3891b7ef-bce7-4c93-a4f8-c9c0f5ba8659\":{\"defs\":[],\"roots\":{\"references\":[{\"attributes\":{\"client_comm_id\":\"81558eb97b5643b5916714d61606bd41\",\"comm_id\":\"c02fb123c54a44b3a9303e7f6f6347b2\",\"plot_id\":\"1079\"},\"id\":\"1080\",\"type\":\"panel.models.comm_manager.CommManager\"},{\"attributes\":{\"css_classes\":[\"alert\",\"alert-secondary\",\"markdown\"],\"margin\":[0,0,25,0],\"name\":\"Alert00235\",\"sizing_mode\":\"stretch_width\",\"text\":\"&lt;p&gt;In progress for AB_2.fastq.gz&amp;hellip;&lt;/p&gt;\"},\"id\":\"1079\",\"type\":\"panel.models.markup.HTML\"}],\"root_ids\":[\"1079\",\"1080\"]},\"title\":\"Bokeh Application\",\"version\":\"2.3.3\"}};\n",
       "    var render_items = [{\"docid\":\"3891b7ef-bce7-4c93-a4f8-c9c0f5ba8659\",\"root_ids\":[\"1079\"],\"roots\":{\"1079\":\"ba256ca5-728e-4f31-adac-e6f17ee0448c\"}}];\n",
       "    root.Bokeh.embed.embed_items_notebook(docs_json, render_items);\n",
       "  }\n",
       "  if (root.Bokeh !== undefined && root.Bokeh.Panel !== undefined) {\n",
       "    embed_document(root);\n",
       "  } else {\n",
       "    var attempts = 0;\n",
       "    var timer = setInterval(function(root) {\n",
       "      if (root.Bokeh !== undefined && root.Bokeh.Panel !== undefined) {\n",
       "        clearInterval(timer);\n",
       "        embed_document(root);\n",
       "      } else if (document.readyState == \"complete\") {\n",
       "        attempts++;\n",
       "        if (attempts > 100) {\n",
       "          clearInterval(timer);\n",
       "          console.log(\"Bokeh: ERROR: Unable to run BokehJS code because BokehJS library is missing\");\n",
       "        }\n",
       "      }\n",
       "    }, 10, root)\n",
       "  }\n",
       "})(window);</script>"
      ],
      "text/plain": [
       "Alert(str, alert_type='secondary', css_classes=['alert', 'alert-secondary...], margin=(0, 0, 25, 0), sizing_mode='stretch_width')"
      ]
     },
     "metadata": {
      "application/vnd.holoviews_exec.v0+json": {
       "id": "1079"
      }
     },
     "output_type": "display_data"
    },
    {
     "data": {},
     "metadata": {},
     "output_type": "display_data"
    },
    {
     "data": {
      "application/vnd.holoviews_exec.v0+json": "",
      "text/html": [
       "<div id='1081'>\n",
       "\n",
       "\n",
       "\n",
       "\n",
       "\n",
       "  <div class=\"bk-root\" id=\"df51f8c8-cf06-4a50-a276-62a79653bbef\" data-root-id=\"1081\"></div>\n",
       "</div>\n",
       "<script type=\"application/javascript\">(function(root) {\n",
       "  function embed_document(root) {\n",
       "    var docs_json = {\"b173ce07-6c51-4642-bf17-92dc476242bd\":{\"defs\":[],\"roots\":{\"references\":[{\"attributes\":{\"client_comm_id\":\"2c44ca987e7142a7af392d558260dcff\",\"comm_id\":\"29afbc9ded074086b8349f39a5d8a252\",\"plot_id\":\"1081\"},\"id\":\"1082\",\"type\":\"panel.models.comm_manager.CommManager\"},{\"attributes\":{\"css_classes\":[\"alert\",\"alert-success\",\"markdown\"],\"margin\":[0,0,25,0],\"name\":\"Alert00239\",\"sizing_mode\":\"stretch_width\",\"text\":\"&lt;p&gt;fastq_stats executed successfully (/home/christine/Documents/These/frangiPANeGIT/frangiPANe_rice/00-fastq_stats/AB_2.fastq.gz.fastqstat)&lt;/p&gt;\"},\"id\":\"1081\",\"type\":\"panel.models.markup.HTML\"}],\"root_ids\":[\"1081\",\"1082\"]},\"title\":\"Bokeh Application\",\"version\":\"2.3.3\"}};\n",
       "    var render_items = [{\"docid\":\"b173ce07-6c51-4642-bf17-92dc476242bd\",\"root_ids\":[\"1081\"],\"roots\":{\"1081\":\"df51f8c8-cf06-4a50-a276-62a79653bbef\"}}];\n",
       "    root.Bokeh.embed.embed_items_notebook(docs_json, render_items);\n",
       "  }\n",
       "  if (root.Bokeh !== undefined && root.Bokeh.Panel !== undefined) {\n",
       "    embed_document(root);\n",
       "  } else {\n",
       "    var attempts = 0;\n",
       "    var timer = setInterval(function(root) {\n",
       "      if (root.Bokeh !== undefined && root.Bokeh.Panel !== undefined) {\n",
       "        clearInterval(timer);\n",
       "        embed_document(root);\n",
       "      } else if (document.readyState == \"complete\") {\n",
       "        attempts++;\n",
       "        if (attempts > 100) {\n",
       "          clearInterval(timer);\n",
       "          console.log(\"Bokeh: ERROR: Unable to run BokehJS code because BokehJS library is missing\");\n",
       "        }\n",
       "      }\n",
       "    }, 10, root)\n",
       "  }\n",
       "})(window);</script>"
      ],
      "text/plain": [
       "Alert(str, alert_type='success', css_classes=['alert', 'alert-success']...], margin=(0, 0, 25, 0), sizing_mode='stretch_width')"
      ]
     },
     "metadata": {
      "application/vnd.holoviews_exec.v0+json": {
       "id": "1081"
      }
     },
     "output_type": "display_data"
    },
    {
     "data": {},
     "metadata": {},
     "output_type": "display_data"
    },
    {
     "data": {
      "application/vnd.holoviews_exec.v0+json": "",
      "text/html": [
       "<div id='1083'>\n",
       "\n",
       "\n",
       "\n",
       "\n",
       "\n",
       "  <div class=\"bk-root\" id=\"381da0cb-e646-495d-a536-032c355fbe32\" data-root-id=\"1083\"></div>\n",
       "</div>\n",
       "<script type=\"application/javascript\">(function(root) {\n",
       "  function embed_document(root) {\n",
       "    var docs_json = {\"0e0ba6ca-e26c-4c5c-abda-0e71e2a9b526\":{\"defs\":[],\"roots\":{\"references\":[{\"attributes\":{\"client_comm_id\":\"66a090f5c2fb4e8a85795c8add927330\",\"comm_id\":\"71cdd881e4ca41bda074d66f8fc9b71f\",\"plot_id\":\"1083\"},\"id\":\"1084\",\"type\":\"panel.models.comm_manager.CommManager\"},{\"attributes\":{\"css_classes\":[\"alert\",\"alert-secondary\",\"markdown\"],\"margin\":[0,0,25,0],\"name\":\"Alert00243\",\"sizing_mode\":\"stretch_width\",\"text\":\"&lt;p&gt;In progress for AA_2.fastq.gz&amp;hellip;&lt;/p&gt;\"},\"id\":\"1083\",\"type\":\"panel.models.markup.HTML\"}],\"root_ids\":[\"1083\",\"1084\"]},\"title\":\"Bokeh Application\",\"version\":\"2.3.3\"}};\n",
       "    var render_items = [{\"docid\":\"0e0ba6ca-e26c-4c5c-abda-0e71e2a9b526\",\"root_ids\":[\"1083\"],\"roots\":{\"1083\":\"381da0cb-e646-495d-a536-032c355fbe32\"}}];\n",
       "    root.Bokeh.embed.embed_items_notebook(docs_json, render_items);\n",
       "  }\n",
       "  if (root.Bokeh !== undefined && root.Bokeh.Panel !== undefined) {\n",
       "    embed_document(root);\n",
       "  } else {\n",
       "    var attempts = 0;\n",
       "    var timer = setInterval(function(root) {\n",
       "      if (root.Bokeh !== undefined && root.Bokeh.Panel !== undefined) {\n",
       "        clearInterval(timer);\n",
       "        embed_document(root);\n",
       "      } else if (document.readyState == \"complete\") {\n",
       "        attempts++;\n",
       "        if (attempts > 100) {\n",
       "          clearInterval(timer);\n",
       "          console.log(\"Bokeh: ERROR: Unable to run BokehJS code because BokehJS library is missing\");\n",
       "        }\n",
       "      }\n",
       "    }, 10, root)\n",
       "  }\n",
       "})(window);</script>"
      ],
      "text/plain": [
       "Alert(str, alert_type='secondary', css_classes=['alert', 'alert-secondary...], margin=(0, 0, 25, 0), sizing_mode='stretch_width')"
      ]
     },
     "metadata": {
      "application/vnd.holoviews_exec.v0+json": {
       "id": "1083"
      }
     },
     "output_type": "display_data"
    },
    {
     "data": {},
     "metadata": {},
     "output_type": "display_data"
    },
    {
     "data": {
      "application/vnd.holoviews_exec.v0+json": "",
      "text/html": [
       "<div id='1085'>\n",
       "\n",
       "\n",
       "\n",
       "\n",
       "\n",
       "  <div class=\"bk-root\" id=\"dd212ef4-067b-4660-a94b-b2ca109f9d35\" data-root-id=\"1085\"></div>\n",
       "</div>\n",
       "<script type=\"application/javascript\">(function(root) {\n",
       "  function embed_document(root) {\n",
       "    var docs_json = {\"4b79c546-ccba-4e18-ab95-0f750969cd9e\":{\"defs\":[],\"roots\":{\"references\":[{\"attributes\":{\"css_classes\":[\"alert\",\"alert-success\",\"markdown\"],\"margin\":[0,0,25,0],\"name\":\"Alert00247\",\"sizing_mode\":\"stretch_width\",\"text\":\"&lt;p&gt;fastq_stats executed successfully (/home/christine/Documents/These/frangiPANeGIT/frangiPANe_rice/00-fastq_stats/AA_2.fastq.gz.fastqstat)&lt;/p&gt;\"},\"id\":\"1085\",\"type\":\"panel.models.markup.HTML\"},{\"attributes\":{\"client_comm_id\":\"3949ed156e874ce4b6683092825b5169\",\"comm_id\":\"f4ddefe94d2d48a7b50ddb9464ee68c5\",\"plot_id\":\"1085\"},\"id\":\"1086\",\"type\":\"panel.models.comm_manager.CommManager\"}],\"root_ids\":[\"1085\",\"1086\"]},\"title\":\"Bokeh Application\",\"version\":\"2.3.3\"}};\n",
       "    var render_items = [{\"docid\":\"4b79c546-ccba-4e18-ab95-0f750969cd9e\",\"root_ids\":[\"1085\"],\"roots\":{\"1085\":\"dd212ef4-067b-4660-a94b-b2ca109f9d35\"}}];\n",
       "    root.Bokeh.embed.embed_items_notebook(docs_json, render_items);\n",
       "  }\n",
       "  if (root.Bokeh !== undefined && root.Bokeh.Panel !== undefined) {\n",
       "    embed_document(root);\n",
       "  } else {\n",
       "    var attempts = 0;\n",
       "    var timer = setInterval(function(root) {\n",
       "      if (root.Bokeh !== undefined && root.Bokeh.Panel !== undefined) {\n",
       "        clearInterval(timer);\n",
       "        embed_document(root);\n",
       "      } else if (document.readyState == \"complete\") {\n",
       "        attempts++;\n",
       "        if (attempts > 100) {\n",
       "          clearInterval(timer);\n",
       "          console.log(\"Bokeh: ERROR: Unable to run BokehJS code because BokehJS library is missing\");\n",
       "        }\n",
       "      }\n",
       "    }, 10, root)\n",
       "  }\n",
       "})(window);</script>"
      ],
      "text/plain": [
       "Alert(str, alert_type='success', css_classes=['alert', 'alert-success']...], margin=(0, 0, 25, 0), sizing_mode='stretch_width')"
      ]
     },
     "metadata": {
      "application/vnd.holoviews_exec.v0+json": {
       "id": "1085"
      }
     },
     "output_type": "display_data"
    },
    {
     "data": {},
     "metadata": {},
     "output_type": "display_data"
    },
    {
     "data": {
      "application/vnd.holoviews_exec.v0+json": "",
      "text/html": [
       "<div id='1087'>\n",
       "\n",
       "\n",
       "\n",
       "\n",
       "\n",
       "  <div class=\"bk-root\" id=\"c37e5789-283d-405c-9dd9-e8704b66e7c9\" data-root-id=\"1087\"></div>\n",
       "</div>\n",
       "<script type=\"application/javascript\">(function(root) {\n",
       "  function embed_document(root) {\n",
       "    var docs_json = {\"efd1a876-7bab-4c2e-87c1-a19bea8fc9b1\":{\"defs\":[],\"roots\":{\"references\":[{\"attributes\":{\"client_comm_id\":\"bc186ad99fcc49bfb32b780def5a4575\",\"comm_id\":\"58b0618f7d3241bd8b7208726fb66574\",\"plot_id\":\"1087\"},\"id\":\"1088\",\"type\":\"panel.models.comm_manager.CommManager\"},{\"attributes\":{\"css_classes\":[\"alert\",\"alert-success\",\"markdown\"],\"margin\":[0,0,25,0],\"name\":\"Alert00251\",\"sizing_mode\":\"stretch_width\",\"text\":\"&lt;h3&gt;All stat files generated successfully with fastq-stat&lt;/h3&gt;\\n&lt;hr&gt;\\n\\n&lt;ul&gt;\\n&lt;li&gt;FASTQ DIR : /home/christine/Documents/These/frangiPANeGIT/rice/fastq2&lt;/li&gt;\\n&lt;li&gt;STAT DIR : /home/christine/Documents/These/frangiPANeGIT/frangiPANe_rice/00-fastq_stats/&lt;/li&gt;\\n&lt;/ul&gt;\"},\"id\":\"1087\",\"type\":\"panel.models.markup.HTML\"}],\"root_ids\":[\"1087\",\"1088\"]},\"title\":\"Bokeh Application\",\"version\":\"2.3.3\"}};\n",
       "    var render_items = [{\"docid\":\"efd1a876-7bab-4c2e-87c1-a19bea8fc9b1\",\"root_ids\":[\"1087\"],\"roots\":{\"1087\":\"c37e5789-283d-405c-9dd9-e8704b66e7c9\"}}];\n",
       "    root.Bokeh.embed.embed_items_notebook(docs_json, render_items);\n",
       "  }\n",
       "  if (root.Bokeh !== undefined && root.Bokeh.Panel !== undefined) {\n",
       "    embed_document(root);\n",
       "  } else {\n",
       "    var attempts = 0;\n",
       "    var timer = setInterval(function(root) {\n",
       "      if (root.Bokeh !== undefined && root.Bokeh.Panel !== undefined) {\n",
       "        clearInterval(timer);\n",
       "        embed_document(root);\n",
       "      } else if (document.readyState == \"complete\") {\n",
       "        attempts++;\n",
       "        if (attempts > 100) {\n",
       "          clearInterval(timer);\n",
       "          console.log(\"Bokeh: ERROR: Unable to run BokehJS code because BokehJS library is missing\");\n",
       "        }\n",
       "      }\n",
       "    }, 10, root)\n",
       "  }\n",
       "})(window);</script>"
      ],
      "text/plain": [
       "Alert(str, alert_type='success', css_classes=['alert', 'alert-success']...], margin=(0, 0, 25, 0), sizing_mode='stretch_width')"
      ]
     },
     "metadata": {
      "application/vnd.holoviews_exec.v0+json": {
       "id": "1087"
      }
     },
     "output_type": "display_data"
    },
    {
     "data": {},
     "metadata": {},
     "output_type": "display_data"
    },
    {
     "data": {
      "application/vnd.holoviews_exec.v0+json": "",
      "text/html": [
       "<div id='1089'>\n",
       "\n",
       "\n",
       "\n",
       "\n",
       "\n",
       "  <div class=\"bk-root\" id=\"4655146c-7944-4aff-871e-59c0546990e9\" data-root-id=\"1089\"></div>\n",
       "</div>\n",
       "<script type=\"application/javascript\">(function(root) {\n",
       "  function embed_document(root) {\n",
       "    var docs_json = {\"416cafea-d7ec-4f95-b1c6-91bf156a87f1\":{\"defs\":[],\"roots\":{\"references\":[{\"attributes\":{\"children\":[{\"id\":\"1104\"},{\"id\":\"1105\"},{\"id\":\"1106\"}],\"margin\":[0,0,0,0],\"min_width\":800,\"name\":\"Row00279\",\"width\":800},\"id\":\"1103\",\"type\":\"Row\"},{\"attributes\":{\"margin\":[5,5,5,5],\"name\":\"Spacer00286\",\"sizing_mode\":\"stretch_both\",\"width\":100},\"id\":\"1113\",\"type\":\"Spacer\"},{\"attributes\":{\"height\":288,\"margin\":[5,5,5,5],\"name\":\"Matplotlib00265\",\"text\":\"&lt;img src=&quot;data:image/png;base64,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&quot; width=&quot;432px&quot; height=&quot;288px&quot; alt=&quot;&quot;&gt;&lt;/img&gt;\",\"width\":432},\"id\":\"1098\",\"type\":\"panel.models.markup.HTML\"},{\"attributes\":{\"margin\":[5,5,5,5],\"name\":\"Spacer00274\",\"sizing_mode\":\"stretch_both\",\"width\":100},\"id\":\"1105\",\"type\":\"Spacer\"},{\"attributes\":{\"css_classes\":[\"markdown\"],\"margin\":[5,5,5,5],\"name\":\"Markdown00257\",\"text\":\"&lt;table&gt;\\n&lt;thead&gt;\\n&lt;tr&gt;\\n&lt;th align=&quot;left&quot;&gt;Samples by group&lt;/th&gt;\\n&lt;th align=&quot;center&quot;&gt;&lt;/th&gt;\\n&lt;/tr&gt;\\n&lt;/thead&gt;\\n&lt;tbody&gt;\\n&lt;tr&gt;\\n&lt;td align=&quot;left&quot;&gt;O. barthii :&lt;/td&gt;\\n&lt;td align=&quot;center&quot;&gt;2 samples&lt;/td&gt;\\n&lt;/tr&gt;\\n&lt;tr&gt;\\n&lt;td align=&quot;left&quot;&gt;O. glaberrima :&lt;/td&gt;\\n&lt;td align=&quot;center&quot;&gt;1 samples&lt;/td&gt;\\n&lt;/tr&gt;\\n&lt;/tbody&gt;\\n&lt;/table&gt;\"},\"id\":\"1094\",\"type\":\"panel.models.markup.HTML\"},{\"attributes\":{\"children\":[{\"id\":\"1112\"},{\"id\":\"1113\"},{\"id\":\"1114\"}],\"margin\":[0,0,0,0],\"min_width\":800,\"name\":\"Row00291\",\"width\":800},\"id\":\"1111\",\"type\":\"Row\"},{\"attributes\":{\"css_classes\":[\"markdown\"],\"margin\":[5,5,5,5],\"name\":\"Markdown00262\",\"text\":\"&lt;table&gt;\\n&lt;thead&gt;\\n&lt;tr&gt;\\n&lt;th align=&quot;left&quot;&gt;Pb sequenced by groups&lt;/th&gt;\\n&lt;th align=&quot;center&quot;&gt;&lt;/th&gt;\\n&lt;/tr&gt;\\n&lt;/thead&gt;\\n&lt;tbody&gt;\\n&lt;tr&gt;\\n&lt;td align=&quot;left&quot;&gt;O. barthii :&lt;/td&gt;\\n&lt;td align=&quot;center&quot;&gt;1598 Mb&lt;/td&gt;\\n&lt;/tr&gt;\\n&lt;tr&gt;\\n&lt;td align=&quot;left&quot;&gt;O. glaberrima :&lt;/td&gt;\\n&lt;td align=&quot;center&quot;&gt;0 Mb&lt;/td&gt;\\n&lt;/tr&gt;\\n&lt;/tbody&gt;\\n&lt;/table&gt;\"},\"id\":\"1096\",\"type\":\"panel.models.markup.HTML\"},{\"attributes\":{\"css_classes\":[\"markdown\"],\"margin\":[5,5,5,5],\"name\":\"Markdown00294\",\"text\":\"&lt;h1&gt;Some statistics about fastq files&lt;/h1&gt;\"},\"id\":\"1090\",\"type\":\"panel.models.markup.HTML\"},{\"attributes\":{\"css_classes\":[\"markdown\"],\"margin\":[5,5,5,5],\"name\":\"Markdown00275\",\"text\":\"&lt;h3&gt;About read length&lt;/h3&gt;\\n&lt;ul&gt;\\n&lt;li&gt;Length read: 30 - 101&lt;/li&gt;\\n&lt;li&gt;Mean length read : 98.66&lt;/li&gt;\\n&lt;/ul&gt;\"},\"id\":\"1104\",\"type\":\"panel.models.markup.HTML\"},{\"attributes\":{\"height\":288,\"margin\":[5,5,5,5],\"name\":\"Matplotlib00289\",\"text\":\"&lt;img src=&quot;data:image/png;base64,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&quot; width=&quot;432px&quot; height=&quot;288px&quot; alt=&quot;&quot;&gt;&lt;/img&gt;\",\"width\":432},\"id\":\"1114\",\"type\":\"panel.models.markup.HTML\"},{\"attributes\":{\"css_classes\":[\"markdown\"],\"margin\":[5,5,5,5],\"name\":\"Markdown00259\",\"text\":\"&lt;h3&gt;About population&lt;/h3&gt;\\n&lt;ul&gt;\\n&lt;li&gt;3 samples&lt;/li&gt;\\n&lt;li&gt;Total base sequenced : 1598 Mb&lt;/li&gt;\\n&lt;/ul&gt;\"},\"id\":\"1092\",\"type\":\"panel.models.markup.HTML\"},{\"attributes\":{\"height\":288,\"margin\":[5,5,5,5],\"name\":\"Matplotlib00277\",\"text\":\"&lt;img src=&quot;data:image/png;base64,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&quot; width=&quot;432px&quot; height=&quot;288px&quot; alt=&quot;&quot;&gt;&lt;/img&gt;\",\"width\":432},\"id\":\"1106\",\"type\":\"panel.models.markup.HTML\"},{\"attributes\":{\"children\":[{\"id\":\"1100\"},{\"id\":\"1101\"},{\"id\":\"1102\"}],\"margin\":[0,0,0,0],\"min_width\":800,\"name\":\"Row00273\",\"width\":800},\"id\":\"1099\",\"type\":\"Row\"},{\"attributes\":{\"margin\":[5,5,5,5],\"name\":\"Spacer00268\",\"sizing_mode\":\"stretch_both\",\"width\":100},\"id\":\"1101\",\"type\":\"Spacer\"},{\"attributes\":{\"height\":288,\"margin\":[5,5,5,5],\"name\":\"Matplotlib00271\",\"text\":\"&lt;img src=&quot;data:image/png;base64,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&quot; width=&quot;432px&quot; height=&quot;288px&quot; alt=&quot;&quot;&gt;&lt;/img&gt;\",\"width\":432},\"id\":\"1102\",\"type\":\"panel.models.markup.HTML\"},{\"attributes\":{\"css_classes\":[\"markdown\"],\"margin\":[5,5,5,5],\"name\":\"Markdown00269\",\"text\":\"&lt;h3&gt;About Sequencing coverage&lt;/h3&gt;\\n&lt;ul&gt;\\n&lt;li&gt;x : 0 - 2 &lt;/li&gt;\\n&lt;li&gt;mean x : 1 &lt;/li&gt;\\n&lt;/ul&gt;\"},\"id\":\"1100\",\"type\":\"panel.models.markup.HTML\"},{\"attributes\":{\"margin\":[5,5,5,5],\"name\":\"Spacer00280\",\"sizing_mode\":\"stretch_both\",\"width\":100},\"id\":\"1109\",\"type\":\"Spacer\"},{\"attributes\":{\"css_classes\":[\"markdown\"],\"margin\":[5,5,5,5],\"name\":\"Markdown00281\",\"text\":\"&lt;h3&gt;About sequencing quality&lt;/h3&gt;\\n&lt;ul&gt;\\n&lt;li&gt;Quality: 2 - 41&lt;/li&gt;\\n&lt;li&gt;Mean quality : 37.4&lt;/li&gt;\\n&lt;/ul&gt;\"},\"id\":\"1108\",\"type\":\"panel.models.markup.HTML\"},{\"attributes\":{\"margin\":[5,5,5,5],\"name\":\"Spacer00264\",\"sizing_mode\":\"stretch_both\",\"width\":100},\"id\":\"1097\",\"type\":\"Spacer\"},{\"attributes\":{\"css_classes\":[\"markdown\"],\"margin\":[5,5,5,5],\"name\":\"Markdown00287\",\"text\":\"&lt;h3&gt;About base ratio&lt;/h3&gt;\"},\"id\":\"1112\",\"type\":\"panel.models.markup.HTML\"},{\"attributes\":{\"margin\":[5,5,5,5],\"name\":\"DataFrame00292\",\"text\":\"&lt;table border=&quot;0&quot; class=&quot;dataframe panel-df&quot;&gt;\\n  &lt;thead&gt;\\n    &lt;tr style=&quot;text-align: right;&quot;&gt;\\n      &lt;th&gt;&lt;/th&gt;\\n      &lt;th&gt;sample&lt;/th&gt;\\n      &lt;th&gt;file&lt;/th&gt;\\n      &lt;th&gt;reads&lt;/th&gt;\\n      &lt;th&gt;len_mean&lt;/th&gt;\\n      &lt;th&gt;qual_mean&lt;/th&gt;\\n      &lt;th&gt;%A&lt;/th&gt;\\n      &lt;th&gt;%C&lt;/th&gt;\\n      &lt;th&gt;%G&lt;/th&gt;\\n      &lt;th&gt;%T&lt;/th&gt;\\n      &lt;th&gt;%N&lt;/th&gt;\\n      &lt;th&gt;total_bases&lt;/th&gt;\\n    &lt;/tr&gt;\\n  &lt;/thead&gt;\\n  &lt;tbody&gt;\\n    &lt;tr&gt;\\n      &lt;th&gt;0&lt;/th&gt;\\n      &lt;td&gt;AA&lt;/td&gt;\\n      &lt;td&gt;AA_1&lt;/td&gt;\\n      &lt;td&gt;3626555&lt;/td&gt;\\n      &lt;td&gt;99.2708&lt;/td&gt;\\n      &lt;td&gt;37.4818&lt;/td&gt;\\n      &lt;td&gt;29.8366&lt;/td&gt;\\n      &lt;td&gt;20.2502&lt;/td&gt;\\n      &lt;td&gt;20.2295&lt;/td&gt;\\n      &lt;td&gt;29.6835&lt;/td&gt;\\n      &lt;td&gt;0.0002&lt;/td&gt;\\n      &lt;td&gt;360011192&lt;/td&gt;\\n    &lt;/tr&gt;\\n    &lt;tr&gt;\\n      &lt;th&gt;1&lt;/th&gt;\\n      &lt;td&gt;AA&lt;/td&gt;\\n      &lt;td&gt;AA_2&lt;/td&gt;\\n      &lt;td&gt;3626555&lt;/td&gt;\\n      &lt;td&gt;97.5486&lt;/td&gt;\\n      &lt;td&gt;36.8486&lt;/td&gt;\\n      &lt;td&gt;29.8488&lt;/td&gt;\\n      &lt;td&gt;20.2938&lt;/td&gt;\\n      &lt;td&gt;20.1847&lt;/td&gt;\\n      &lt;td&gt;29.6715&lt;/td&gt;\\n      &lt;td&gt;0.0013&lt;/td&gt;\\n      &lt;td&gt;353765544&lt;/td&gt;\\n    &lt;/tr&gt;\\n    &lt;tr&gt;\\n      &lt;th&gt;2&lt;/th&gt;\\n      &lt;td&gt;AB&lt;/td&gt;\\n      &lt;td&gt;AB_1&lt;/td&gt;\\n      &lt;td&gt;4479259&lt;/td&gt;\\n      &lt;td&gt;99.6406&lt;/td&gt;\\n      &lt;td&gt;37.7900&lt;/td&gt;\\n      &lt;td&gt;29.9176&lt;/td&gt;\\n      &lt;td&gt;20.0866&lt;/td&gt;\\n      &lt;td&gt;20.1322&lt;/td&gt;\\n      &lt;td&gt;29.8592&lt;/td&gt;\\n      &lt;td&gt;0.0044&lt;/td&gt;\\n      &lt;td&gt;446315929&lt;/td&gt;\\n    &lt;/tr&gt;\\n    &lt;tr&gt;\\n      &lt;th&gt;3&lt;/th&gt;\\n      &lt;td&gt;AB&lt;/td&gt;\\n      &lt;td&gt;AB_2&lt;/td&gt;\\n      &lt;td&gt;4479259&lt;/td&gt;\\n      &lt;td&gt;97.7883&lt;/td&gt;\\n      &lt;td&gt;37.1370&lt;/td&gt;\\n      &lt;td&gt;29.9797&lt;/td&gt;\\n      &lt;td&gt;20.1346&lt;/td&gt;\\n      &lt;td&gt;20.0694&lt;/td&gt;\\n      &lt;td&gt;29.8157&lt;/td&gt;\\n      &lt;td&gt;0.0007&lt;/td&gt;\\n      &lt;td&gt;438019045&lt;/td&gt;\\n    &lt;/tr&gt;\\n    &lt;tr&gt;\\n      &lt;th&gt;4&lt;/th&gt;\\n      &lt;td&gt;DT&lt;/td&gt;\\n      &lt;td&gt;DT_1&lt;/td&gt;\\n      &lt;td&gt;999&lt;/td&gt;\\n      &lt;td&gt;99.4234&lt;/td&gt;\\n      &lt;td&gt;37.8170&lt;/td&gt;\\n      &lt;td&gt;30.3492&lt;/td&gt;\\n      &lt;td&gt;19.9668&lt;/td&gt;\\n      &lt;td&gt;20.0583&lt;/td&gt;\\n      &lt;td&gt;29.6227&lt;/td&gt;\\n      &lt;td&gt;0.0029&lt;/td&gt;\\n      &lt;td&gt;99324&lt;/td&gt;\\n    &lt;/tr&gt;\\n    &lt;tr&gt;\\n      &lt;th&gt;5&lt;/th&gt;\\n      &lt;td&gt;DT&lt;/td&gt;\\n      &lt;td&gt;DT_2&lt;/td&gt;\\n      &lt;td&gt;999&lt;/td&gt;\\n      &lt;td&gt;98.2603&lt;/td&gt;\\n      &lt;td&gt;37.3333&lt;/td&gt;\\n      &lt;td&gt;30.2014&lt;/td&gt;\\n      &lt;td&gt;19.9588&lt;/td&gt;\\n      &lt;td&gt;19.6899&lt;/td&gt;\\n      &lt;td&gt;30.1499&lt;/td&gt;\\n      &lt;td&gt;0.0000&lt;/td&gt;\\n      &lt;td&gt;98162&lt;/td&gt;\\n    &lt;/tr&gt;\\n  &lt;/tbody&gt;\\n&lt;/table&gt;\",\"width\":800},\"id\":\"1115\",\"type\":\"panel.models.markup.HTML\"},{\"attributes\":{\"height\":288,\"margin\":[5,5,5,5],\"name\":\"Matplotlib00283\",\"text\":\"&lt;img src=&quot;data:image/png;base64,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&quot; width=&quot;432px&quot; height=&quot;288px&quot; alt=&quot;&quot;&gt;&lt;/img&gt;\",\"width\":432},\"id\":\"1110\",\"type\":\"panel.models.markup.HTML\"},{\"attributes\":{\"children\":[{\"id\":\"1108\"},{\"id\":\"1109\"},{\"id\":\"1110\"}],\"margin\":[0,0,0,0],\"min_width\":800,\"name\":\"Row00285\",\"width\":800},\"id\":\"1107\",\"type\":\"Row\"},{\"attributes\":{\"background\":\"WhiteSmoke\",\"children\":[{\"id\":\"1090\"},{\"id\":\"1091\"},{\"id\":\"1095\"},{\"id\":\"1099\"},{\"id\":\"1103\"},{\"id\":\"1107\"},{\"id\":\"1111\"},{\"id\":\"1115\"}],\"margin\":[0,0,0,0],\"name\":\"Column00296\",\"sizing_mode\":\"stretch_both\",\"width\":800},\"id\":\"1089\",\"type\":\"Column\"},{\"attributes\":{\"client_comm_id\":\"d9e1a568a5b84333916f486027fdef02\",\"comm_id\":\"b8d819adb5fc47cfb5d83c9bef6407b2\",\"plot_id\":\"1089\"},\"id\":\"1116\",\"type\":\"panel.models.comm_manager.CommManager\"},{\"attributes\":{\"margin\":[5,5,5,5],\"name\":\"Spacer00256\",\"sizing_mode\":\"stretch_both\",\"width\":100},\"id\":\"1093\",\"type\":\"Spacer\"},{\"attributes\":{\"children\":[{\"id\":\"1096\"},{\"id\":\"1097\"},{\"id\":\"1098\"}],\"margin\":[0,0,0,0],\"min_width\":800,\"name\":\"Row00267\",\"width\":800},\"id\":\"1095\",\"type\":\"Row\"},{\"attributes\":{\"children\":[{\"id\":\"1092\"},{\"id\":\"1093\"},{\"id\":\"1094\"}],\"margin\":[0,0,0,0],\"min_width\":800,\"name\":\"Row00261\",\"width\":800},\"id\":\"1091\",\"type\":\"Row\"}],\"root_ids\":[\"1089\",\"1116\"]},\"title\":\"Bokeh Application\",\"version\":\"2.3.3\"}};\n",
       "    var render_items = [{\"docid\":\"416cafea-d7ec-4f95-b1c6-91bf156a87f1\",\"root_ids\":[\"1089\"],\"roots\":{\"1089\":\"4655146c-7944-4aff-871e-59c0546990e9\"}}];\n",
       "    root.Bokeh.embed.embed_items_notebook(docs_json, render_items);\n",
       "  }\n",
       "  if (root.Bokeh !== undefined && root.Bokeh.Panel !== undefined) {\n",
       "    embed_document(root);\n",
       "  } else {\n",
       "    var attempts = 0;\n",
       "    var timer = setInterval(function(root) {\n",
       "      if (root.Bokeh !== undefined && root.Bokeh.Panel !== undefined) {\n",
       "        clearInterval(timer);\n",
       "        embed_document(root);\n",
       "      } else if (document.readyState == \"complete\") {\n",
       "        attempts++;\n",
       "        if (attempts > 100) {\n",
       "          clearInterval(timer);\n",
       "          console.log(\"Bokeh: ERROR: Unable to run BokehJS code because BokehJS library is missing\");\n",
       "        }\n",
       "      }\n",
       "    }, 10, root)\n",
       "  }\n",
       "})(window);</script>"
      ],
      "text/plain": [
       "Column(background='WhiteSmoke', sizing_mode='stretch_both', width=800)\n",
       "    [0] Markdown(str)\n",
       "    [1] Row(width=800)\n",
       "        [0] Markdown(str)\n",
       "        [1] Spacer(sizing_mode='stretch_both', width=100)\n",
       "        [2] Markdown(str)\n",
       "    [2] Row(width=800)\n",
       "        [0] Markdown(str)\n",
       "        [1] Spacer(sizing_mode='stretch_both', width=100)\n",
       "        [2] Matplotlib(Figure)\n",
       "    [3] Row(width=800)\n",
       "        [0] Markdown(str)\n",
       "        [1] Spacer(sizing_mode='stretch_both', width=100)\n",
       "        [2] Matplotlib(Figure)\n",
       "    [4] Row(width=800)\n",
       "        [0] Markdown(str)\n",
       "        [1] Spacer(sizing_mode='stretch_both', width=100)\n",
       "        [2] Matplotlib(Figure)\n",
       "    [5] Row(width=800)\n",
       "        [0] Markdown(str)\n",
       "        [1] Spacer(sizing_mode='stretch_both', width=100)\n",
       "        [2] Matplotlib(Figure)\n",
       "    [6] Row(width=800)\n",
       "        [0] Markdown(str)\n",
       "        [1] Spacer(sizing_mode='stretch_both', width=100)\n",
       "        [2] Matplotlib(Figure)\n",
       "    [7] DataFrame(DataFrame, width=800)"
      ]
     },
     "metadata": {
      "application/vnd.holoviews_exec.v0+json": {
       "id": "1089"
      }
     },
     "output_type": "display_data"
    }
   ],
   "source": [
    "bgc('LightBlue')\n",
    "\n",
    "# Creating directory\n",
    "stat_dir = output_dir + \"/00-fastq_stats/\"\n",
    "\n",
    "# run fastq_stats\n",
    "fastq_stats_dir(fastq_dir.value, stat_dir, df_group, logger)\n",
    "\n",
    "# merging all files generated by fastq_sample\n",
    "fastqstat_csv=stat_dir+\"all_fastq-stats.csv\"\n",
    "merge_fastqstat(fastqstat_csv, stat_dir,logger)\n",
    "\n",
    "#Raw data dashboard\n",
    "dashboard_fastq(fastqstat_csv,total_genome_size,df_group)"
   ]
  },
  {
   "cell_type": "markdown",
   "metadata": {
    "tags": []
   },
   "source": [
    "### <span style=\"color: #919395\">_2 - Mapping the individuals reads against the reference genome_  <a class=\"anchor\" id=\"mapping\"></a></span>\n"
   ]
  },
  {
   "cell_type": "markdown",
   "metadata": {},
   "source": [
    "#### __Mapping with `BWA mem` <a class=\"anchor\" id=\"mappingbwa\">__\n"
   ]
  },
  {
   "cell_type": "code",
   "execution_count": 7,
   "metadata": {
    "tags": []
   },
   "outputs": [
    {
     "data": {
      "text/html": [
       "<img src onerror=\"var cell = this.closest('.jp-CodeCell');var editor = cell.querySelector('.jp-Editor');editor.style.background='LightBlue';this.parentNode.removeChild(this)\">"
      ],
      "text/plain": [
       "<IPython.core.display.HTML object>"
      ]
     },
     "metadata": {},
     "output_type": "display_data"
    },
    {
     "data": {},
     "metadata": {},
     "output_type": "display_data"
    },
    {
     "data": {
      "application/vnd.holoviews_exec.v0+json": "",
      "text/html": [
       "<div id='1117'>\n",
       "\n",
       "\n",
       "\n",
       "\n",
       "\n",
       "  <div class=\"bk-root\" id=\"cc449465-122c-4075-b112-b3e1663c9f9d\" data-root-id=\"1117\"></div>\n",
       "</div>\n",
       "<script type=\"application/javascript\">(function(root) {\n",
       "  function embed_document(root) {\n",
       "    var docs_json = {\"5ec2496d-108b-491b-afc1-75698415e1ae\":{\"defs\":[],\"roots\":{\"references\":[{\"attributes\":{\"client_comm_id\":\"d24666af340d4f1187570c562f7308f6\",\"comm_id\":\"249bba9121bc428ca831489659614cd1\",\"plot_id\":\"1117\"},\"id\":\"1118\",\"type\":\"panel.models.comm_manager.CommManager\"},{\"attributes\":{\"css_classes\":[\"alert\",\"alert-success\",\"markdown\"],\"margin\":[0,0,25,0],\"name\":\"Alert00299\",\"sizing_mode\":\"stretch_width\",\"text\":\"&lt;p&gt;Directory /home/christine/Documents/These/frangiPANeGIT/frangiPANe_rice/01-mapping_against_reference/ created&lt;/p&gt;\"},\"id\":\"1117\",\"type\":\"panel.models.markup.HTML\"}],\"root_ids\":[\"1117\",\"1118\"]},\"title\":\"Bokeh Application\",\"version\":\"2.3.3\"}};\n",
       "    var render_items = [{\"docid\":\"5ec2496d-108b-491b-afc1-75698415e1ae\",\"root_ids\":[\"1117\"],\"roots\":{\"1117\":\"cc449465-122c-4075-b112-b3e1663c9f9d\"}}];\n",
       "    root.Bokeh.embed.embed_items_notebook(docs_json, render_items);\n",
       "  }\n",
       "  if (root.Bokeh !== undefined && root.Bokeh.Panel !== undefined) {\n",
       "    embed_document(root);\n",
       "  } else {\n",
       "    var attempts = 0;\n",
       "    var timer = setInterval(function(root) {\n",
       "      if (root.Bokeh !== undefined && root.Bokeh.Panel !== undefined) {\n",
       "        clearInterval(timer);\n",
       "        embed_document(root);\n",
       "      } else if (document.readyState == \"complete\") {\n",
       "        attempts++;\n",
       "        if (attempts > 100) {\n",
       "          clearInterval(timer);\n",
       "          console.log(\"Bokeh: ERROR: Unable to run BokehJS code because BokehJS library is missing\");\n",
       "        }\n",
       "      }\n",
       "    }, 10, root)\n",
       "  }\n",
       "})(window);</script>"
      ],
      "text/plain": [
       "Alert(str, alert_type='success', css_classes=['alert', 'alert-success']...], margin=(0, 0, 25, 0), sizing_mode='stretch_width')"
      ]
     },
     "metadata": {
      "application/vnd.holoviews_exec.v0+json": {
       "id": "1117"
      }
     },
     "output_type": "display_data"
    },
    {
     "data": {},
     "metadata": {},
     "output_type": "display_data"
    },
    {
     "data": {
      "application/vnd.holoviews_exec.v0+json": "",
      "text/html": [
       "<div id='1119'>\n",
       "\n",
       "\n",
       "\n",
       "\n",
       "\n",
       "  <div class=\"bk-root\" id=\"89ec8c94-8c04-48c9-9e02-fa140fd46446\" data-root-id=\"1119\"></div>\n",
       "</div>\n",
       "<script type=\"application/javascript\">(function(root) {\n",
       "  function embed_document(root) {\n",
       "    var docs_json = {\"331e0063-af14-4ac4-8ad8-df056d972842\":{\"defs\":[],\"roots\":{\"references\":[{\"attributes\":{\"css_classes\":[\"alert\",\"alert-info\",\"markdown\"],\"margin\":[0,0,25,0],\"name\":\"Alert00303\",\"sizing_mode\":\"stretch_width\",\"text\":\"&lt;p&gt;Starting mapping with bwa mem in /home/christine/Documents/These/frangiPANeGIT/frangiPANe_rice/01-mapping_against_reference/&amp;hellip;&lt;/p&gt;\"},\"id\":\"1119\",\"type\":\"panel.models.markup.HTML\"},{\"attributes\":{\"client_comm_id\":\"88adae5e21544413ab38680a57ade376\",\"comm_id\":\"f3e64aba3d5a4e6995059c1ff556bf35\",\"plot_id\":\"1119\"},\"id\":\"1120\",\"type\":\"panel.models.comm_manager.CommManager\"}],\"root_ids\":[\"1119\",\"1120\"]},\"title\":\"Bokeh Application\",\"version\":\"2.3.3\"}};\n",
       "    var render_items = [{\"docid\":\"331e0063-af14-4ac4-8ad8-df056d972842\",\"root_ids\":[\"1119\"],\"roots\":{\"1119\":\"89ec8c94-8c04-48c9-9e02-fa140fd46446\"}}];\n",
       "    root.Bokeh.embed.embed_items_notebook(docs_json, render_items);\n",
       "  }\n",
       "  if (root.Bokeh !== undefined && root.Bokeh.Panel !== undefined) {\n",
       "    embed_document(root);\n",
       "  } else {\n",
       "    var attempts = 0;\n",
       "    var timer = setInterval(function(root) {\n",
       "      if (root.Bokeh !== undefined && root.Bokeh.Panel !== undefined) {\n",
       "        clearInterval(timer);\n",
       "        embed_document(root);\n",
       "      } else if (document.readyState == \"complete\") {\n",
       "        attempts++;\n",
       "        if (attempts > 100) {\n",
       "          clearInterval(timer);\n",
       "          console.log(\"Bokeh: ERROR: Unable to run BokehJS code because BokehJS library is missing\");\n",
       "        }\n",
       "      }\n",
       "    }, 10, root)\n",
       "  }\n",
       "})(window);</script>"
      ],
      "text/plain": [
       "Alert(str, alert_type='info', css_classes=['alert', 'alert-info'], margin=(0, 0, 25, 0), sizing_mode='stretch_width')"
      ]
     },
     "metadata": {
      "application/vnd.holoviews_exec.v0+json": {
       "id": "1119"
      }
     },
     "output_type": "display_data"
    },
    {
     "data": {},
     "metadata": {},
     "output_type": "display_data"
    },
    {
     "data": {
      "application/vnd.holoviews_exec.v0+json": "",
      "text/html": [
       "<div id='1121'>\n",
       "\n",
       "\n",
       "\n",
       "\n",
       "\n",
       "  <div class=\"bk-root\" id=\"dd36b2cf-956f-404d-a508-abbd858c0324\" data-root-id=\"1121\"></div>\n",
       "</div>\n",
       "<script type=\"application/javascript\">(function(root) {\n",
       "  function embed_document(root) {\n",
       "    var docs_json = {\"ee6cc3ce-7edf-409e-ad26-d1b01ef8c4eb\":{\"defs\":[],\"roots\":{\"references\":[{\"attributes\":{\"client_comm_id\":\"3684565d359c4fcfa18d5bcf1c34eb0e\",\"comm_id\":\"dd3b69b674994f5ab9709a0c38a7bd2f\",\"plot_id\":\"1121\"},\"id\":\"1122\",\"type\":\"panel.models.comm_manager.CommManager\"},{\"attributes\":{\"css_classes\":[\"alert\",\"alert-secondary\",\"markdown\"],\"margin\":[0,0,25,0],\"name\":\"Alert00307\",\"sizing_mode\":\"stretch_width\",\"text\":\"&lt;p&gt;Mapping in progress for AA&amp;hellip;&lt;/p&gt;\"},\"id\":\"1121\",\"type\":\"panel.models.markup.HTML\"}],\"root_ids\":[\"1121\",\"1122\"]},\"title\":\"Bokeh Application\",\"version\":\"2.3.3\"}};\n",
       "    var render_items = [{\"docid\":\"ee6cc3ce-7edf-409e-ad26-d1b01ef8c4eb\",\"root_ids\":[\"1121\"],\"roots\":{\"1121\":\"dd36b2cf-956f-404d-a508-abbd858c0324\"}}];\n",
       "    root.Bokeh.embed.embed_items_notebook(docs_json, render_items);\n",
       "  }\n",
       "  if (root.Bokeh !== undefined && root.Bokeh.Panel !== undefined) {\n",
       "    embed_document(root);\n",
       "  } else {\n",
       "    var attempts = 0;\n",
       "    var timer = setInterval(function(root) {\n",
       "      if (root.Bokeh !== undefined && root.Bokeh.Panel !== undefined) {\n",
       "        clearInterval(timer);\n",
       "        embed_document(root);\n",
       "      } else if (document.readyState == \"complete\") {\n",
       "        attempts++;\n",
       "        if (attempts > 100) {\n",
       "          clearInterval(timer);\n",
       "          console.log(\"Bokeh: ERROR: Unable to run BokehJS code because BokehJS library is missing\");\n",
       "        }\n",
       "      }\n",
       "    }, 10, root)\n",
       "  }\n",
       "})(window);</script>"
      ],
      "text/plain": [
       "Alert(str, alert_type='secondary', css_classes=['alert', 'alert-secondary...], margin=(0, 0, 25, 0), sizing_mode='stretch_width')"
      ]
     },
     "metadata": {
      "application/vnd.holoviews_exec.v0+json": {
       "id": "1121"
      }
     },
     "output_type": "display_data"
    },
    {
     "data": {},
     "metadata": {},
     "output_type": "display_data"
    },
    {
     "data": {
      "application/vnd.holoviews_exec.v0+json": "",
      "text/html": [
       "<div id='1123'>\n",
       "\n",
       "\n",
       "\n",
       "\n",
       "\n",
       "  <div class=\"bk-root\" id=\"7d4a4b9d-2350-492a-bab2-a25c9d2cb665\" data-root-id=\"1123\"></div>\n",
       "</div>\n",
       "<script type=\"application/javascript\">(function(root) {\n",
       "  function embed_document(root) {\n",
       "    var docs_json = {\"45b451e6-f39f-4087-b944-cac648025d7d\":{\"defs\":[],\"roots\":{\"references\":[{\"attributes\":{\"client_comm_id\":\"f21433eec57d44a1917d695197ef7e07\",\"comm_id\":\"802126ef251d4cd79585da6dd060c1cf\",\"plot_id\":\"1123\"},\"id\":\"1124\",\"type\":\"panel.models.comm_manager.CommManager\"},{\"attributes\":{\"css_classes\":[\"alert\",\"alert-success\",\"markdown\"],\"margin\":[0,0,25,0],\"name\":\"Alert00311\",\"sizing_mode\":\"stretch_width\",\"text\":\"&lt;p&gt;bwa mem executed successfully (/home/christine/Documents/These/frangiPANeGIT/frangiPANe_rice/01-mapping_against_reference/AA.sam)&lt;/p&gt;\"},\"id\":\"1123\",\"type\":\"panel.models.markup.HTML\"}],\"root_ids\":[\"1123\",\"1124\"]},\"title\":\"Bokeh Application\",\"version\":\"2.3.3\"}};\n",
       "    var render_items = [{\"docid\":\"45b451e6-f39f-4087-b944-cac648025d7d\",\"root_ids\":[\"1123\"],\"roots\":{\"1123\":\"7d4a4b9d-2350-492a-bab2-a25c9d2cb665\"}}];\n",
       "    root.Bokeh.embed.embed_items_notebook(docs_json, render_items);\n",
       "  }\n",
       "  if (root.Bokeh !== undefined && root.Bokeh.Panel !== undefined) {\n",
       "    embed_document(root);\n",
       "  } else {\n",
       "    var attempts = 0;\n",
       "    var timer = setInterval(function(root) {\n",
       "      if (root.Bokeh !== undefined && root.Bokeh.Panel !== undefined) {\n",
       "        clearInterval(timer);\n",
       "        embed_document(root);\n",
       "      } else if (document.readyState == \"complete\") {\n",
       "        attempts++;\n",
       "        if (attempts > 100) {\n",
       "          clearInterval(timer);\n",
       "          console.log(\"Bokeh: ERROR: Unable to run BokehJS code because BokehJS library is missing\");\n",
       "        }\n",
       "      }\n",
       "    }, 10, root)\n",
       "  }\n",
       "})(window);</script>"
      ],
      "text/plain": [
       "Alert(str, alert_type='success', css_classes=['alert', 'alert-success']...], margin=(0, 0, 25, 0), sizing_mode='stretch_width')"
      ]
     },
     "metadata": {
      "application/vnd.holoviews_exec.v0+json": {
       "id": "1123"
      }
     },
     "output_type": "display_data"
    },
    {
     "data": {},
     "metadata": {},
     "output_type": "display_data"
    },
    {
     "data": {
      "application/vnd.holoviews_exec.v0+json": "",
      "text/html": [
       "<div id='1125'>\n",
       "\n",
       "\n",
       "\n",
       "\n",
       "\n",
       "  <div class=\"bk-root\" id=\"25ffa017-2f08-4e92-98be-80300eb9e0dd\" data-root-id=\"1125\"></div>\n",
       "</div>\n",
       "<script type=\"application/javascript\">(function(root) {\n",
       "  function embed_document(root) {\n",
       "    var docs_json = {\"ce337556-77b1-462b-904a-2635b65cb783\":{\"defs\":[],\"roots\":{\"references\":[{\"attributes\":{\"css_classes\":[\"alert\",\"alert-secondary\",\"markdown\"],\"margin\":[0,0,25,0],\"name\":\"Alert00315\",\"sizing_mode\":\"stretch_width\",\"text\":\"&lt;p&gt;Sort bam file in progress for AA&amp;hellip;&lt;/p&gt;\"},\"id\":\"1125\",\"type\":\"panel.models.markup.HTML\"},{\"attributes\":{\"client_comm_id\":\"6b85de7309084ffc9b726ec359a9ac96\",\"comm_id\":\"2e798f7718fa412295c2c1f3e2c31870\",\"plot_id\":\"1125\"},\"id\":\"1126\",\"type\":\"panel.models.comm_manager.CommManager\"}],\"root_ids\":[\"1125\",\"1126\"]},\"title\":\"Bokeh Application\",\"version\":\"2.3.3\"}};\n",
       "    var render_items = [{\"docid\":\"ce337556-77b1-462b-904a-2635b65cb783\",\"root_ids\":[\"1125\"],\"roots\":{\"1125\":\"25ffa017-2f08-4e92-98be-80300eb9e0dd\"}}];\n",
       "    root.Bokeh.embed.embed_items_notebook(docs_json, render_items);\n",
       "  }\n",
       "  if (root.Bokeh !== undefined && root.Bokeh.Panel !== undefined) {\n",
       "    embed_document(root);\n",
       "  } else {\n",
       "    var attempts = 0;\n",
       "    var timer = setInterval(function(root) {\n",
       "      if (root.Bokeh !== undefined && root.Bokeh.Panel !== undefined) {\n",
       "        clearInterval(timer);\n",
       "        embed_document(root);\n",
       "      } else if (document.readyState == \"complete\") {\n",
       "        attempts++;\n",
       "        if (attempts > 100) {\n",
       "          clearInterval(timer);\n",
       "          console.log(\"Bokeh: ERROR: Unable to run BokehJS code because BokehJS library is missing\");\n",
       "        }\n",
       "      }\n",
       "    }, 10, root)\n",
       "  }\n",
       "})(window);</script>"
      ],
      "text/plain": [
       "Alert(str, alert_type='secondary', css_classes=['alert', 'alert-secondary...], margin=(0, 0, 25, 0), sizing_mode='stretch_width')"
      ]
     },
     "metadata": {
      "application/vnd.holoviews_exec.v0+json": {
       "id": "1125"
      }
     },
     "output_type": "display_data"
    },
    {
     "data": {},
     "metadata": {},
     "output_type": "display_data"
    },
    {
     "data": {
      "application/vnd.holoviews_exec.v0+json": "",
      "text/html": [
       "<div id='1127'>\n",
       "\n",
       "\n",
       "\n",
       "\n",
       "\n",
       "  <div class=\"bk-root\" id=\"f1084ac3-4ae5-42c6-aa73-837165932c5d\" data-root-id=\"1127\"></div>\n",
       "</div>\n",
       "<script type=\"application/javascript\">(function(root) {\n",
       "  function embed_document(root) {\n",
       "    var docs_json = {\"7a926a8d-6cf0-4e2d-ba6c-687ca63e689a\":{\"defs\":[],\"roots\":{\"references\":[{\"attributes\":{\"client_comm_id\":\"86d8e5e2262e4990b8d1105bc13dc275\",\"comm_id\":\"4e2747d54ccb4d34b842a495d254c10c\",\"plot_id\":\"1127\"},\"id\":\"1128\",\"type\":\"panel.models.comm_manager.CommManager\"},{\"attributes\":{\"css_classes\":[\"alert\",\"alert-success\",\"markdown\"],\"margin\":[0,0,25,0],\"name\":\"Alert00319\",\"sizing_mode\":\"stretch_width\",\"text\":\"&lt;p&gt;Sort bam file executed successfully (/home/christine/Documents/These/frangiPANeGIT/frangiPANe_rice/01-mapping_against_reference/AA.bam)&lt;/p&gt;\"},\"id\":\"1127\",\"type\":\"panel.models.markup.HTML\"}],\"root_ids\":[\"1127\",\"1128\"]},\"title\":\"Bokeh Application\",\"version\":\"2.3.3\"}};\n",
       "    var render_items = [{\"docid\":\"7a926a8d-6cf0-4e2d-ba6c-687ca63e689a\",\"root_ids\":[\"1127\"],\"roots\":{\"1127\":\"f1084ac3-4ae5-42c6-aa73-837165932c5d\"}}];\n",
       "    root.Bokeh.embed.embed_items_notebook(docs_json, render_items);\n",
       "  }\n",
       "  if (root.Bokeh !== undefined && root.Bokeh.Panel !== undefined) {\n",
       "    embed_document(root);\n",
       "  } else {\n",
       "    var attempts = 0;\n",
       "    var timer = setInterval(function(root) {\n",
       "      if (root.Bokeh !== undefined && root.Bokeh.Panel !== undefined) {\n",
       "        clearInterval(timer);\n",
       "        embed_document(root);\n",
       "      } else if (document.readyState == \"complete\") {\n",
       "        attempts++;\n",
       "        if (attempts > 100) {\n",
       "          clearInterval(timer);\n",
       "          console.log(\"Bokeh: ERROR: Unable to run BokehJS code because BokehJS library is missing\");\n",
       "        }\n",
       "      }\n",
       "    }, 10, root)\n",
       "  }\n",
       "})(window);</script>"
      ],
      "text/plain": [
       "Alert(str, alert_type='success', css_classes=['alert', 'alert-success']...], margin=(0, 0, 25, 0), sizing_mode='stretch_width')"
      ]
     },
     "metadata": {
      "application/vnd.holoviews_exec.v0+json": {
       "id": "1127"
      }
     },
     "output_type": "display_data"
    },
    {
     "data": {},
     "metadata": {},
     "output_type": "display_data"
    },
    {
     "data": {
      "application/vnd.holoviews_exec.v0+json": "",
      "text/html": [
       "<div id='1129'>\n",
       "\n",
       "\n",
       "\n",
       "\n",
       "\n",
       "  <div class=\"bk-root\" id=\"62d64545-fa3a-48d5-bee3-62435d5212c9\" data-root-id=\"1129\"></div>\n",
       "</div>\n",
       "<script type=\"application/javascript\">(function(root) {\n",
       "  function embed_document(root) {\n",
       "    var docs_json = {\"3ddd070a-cd63-4109-bc95-5c9415b93007\":{\"defs\":[],\"roots\":{\"references\":[{\"attributes\":{\"css_classes\":[\"alert\",\"alert-secondary\",\"markdown\"],\"margin\":[0,0,25,0],\"name\":\"Alert00323\",\"sizing_mode\":\"stretch_width\",\"text\":\"&lt;p&gt;Mapping in progress for DT&amp;hellip;&lt;/p&gt;\"},\"id\":\"1129\",\"type\":\"panel.models.markup.HTML\"},{\"attributes\":{\"client_comm_id\":\"e3a201d6c6de43b192c91c5a9229ca6b\",\"comm_id\":\"ed3975584c284e9b8ee0b5708d46a9c2\",\"plot_id\":\"1129\"},\"id\":\"1130\",\"type\":\"panel.models.comm_manager.CommManager\"}],\"root_ids\":[\"1129\",\"1130\"]},\"title\":\"Bokeh Application\",\"version\":\"2.3.3\"}};\n",
       "    var render_items = [{\"docid\":\"3ddd070a-cd63-4109-bc95-5c9415b93007\",\"root_ids\":[\"1129\"],\"roots\":{\"1129\":\"62d64545-fa3a-48d5-bee3-62435d5212c9\"}}];\n",
       "    root.Bokeh.embed.embed_items_notebook(docs_json, render_items);\n",
       "  }\n",
       "  if (root.Bokeh !== undefined && root.Bokeh.Panel !== undefined) {\n",
       "    embed_document(root);\n",
       "  } else {\n",
       "    var attempts = 0;\n",
       "    var timer = setInterval(function(root) {\n",
       "      if (root.Bokeh !== undefined && root.Bokeh.Panel !== undefined) {\n",
       "        clearInterval(timer);\n",
       "        embed_document(root);\n",
       "      } else if (document.readyState == \"complete\") {\n",
       "        attempts++;\n",
       "        if (attempts > 100) {\n",
       "          clearInterval(timer);\n",
       "          console.log(\"Bokeh: ERROR: Unable to run BokehJS code because BokehJS library is missing\");\n",
       "        }\n",
       "      }\n",
       "    }, 10, root)\n",
       "  }\n",
       "})(window);</script>"
      ],
      "text/plain": [
       "Alert(str, alert_type='secondary', css_classes=['alert', 'alert-secondary...], margin=(0, 0, 25, 0), sizing_mode='stretch_width')"
      ]
     },
     "metadata": {
      "application/vnd.holoviews_exec.v0+json": {
       "id": "1129"
      }
     },
     "output_type": "display_data"
    },
    {
     "data": {},
     "metadata": {},
     "output_type": "display_data"
    },
    {
     "data": {
      "application/vnd.holoviews_exec.v0+json": "",
      "text/html": [
       "<div id='1131'>\n",
       "\n",
       "\n",
       "\n",
       "\n",
       "\n",
       "  <div class=\"bk-root\" id=\"99162cb8-89be-4917-b1d4-5f5f72d17c12\" data-root-id=\"1131\"></div>\n",
       "</div>\n",
       "<script type=\"application/javascript\">(function(root) {\n",
       "  function embed_document(root) {\n",
       "    var docs_json = {\"5e82e40d-ab34-4128-8d76-eb5c872a0a26\":{\"defs\":[],\"roots\":{\"references\":[{\"attributes\":{\"client_comm_id\":\"d8058135bcdc473e90599064cb5ba697\",\"comm_id\":\"4c1b326e86144b7b925f500ff907a938\",\"plot_id\":\"1131\"},\"id\":\"1132\",\"type\":\"panel.models.comm_manager.CommManager\"},{\"attributes\":{\"css_classes\":[\"alert\",\"alert-success\",\"markdown\"],\"margin\":[0,0,25,0],\"name\":\"Alert00327\",\"sizing_mode\":\"stretch_width\",\"text\":\"&lt;p&gt;bwa mem executed successfully (/home/christine/Documents/These/frangiPANeGIT/frangiPANe_rice/01-mapping_against_reference/DT.sam)&lt;/p&gt;\"},\"id\":\"1131\",\"type\":\"panel.models.markup.HTML\"}],\"root_ids\":[\"1131\",\"1132\"]},\"title\":\"Bokeh Application\",\"version\":\"2.3.3\"}};\n",
       "    var render_items = [{\"docid\":\"5e82e40d-ab34-4128-8d76-eb5c872a0a26\",\"root_ids\":[\"1131\"],\"roots\":{\"1131\":\"99162cb8-89be-4917-b1d4-5f5f72d17c12\"}}];\n",
       "    root.Bokeh.embed.embed_items_notebook(docs_json, render_items);\n",
       "  }\n",
       "  if (root.Bokeh !== undefined && root.Bokeh.Panel !== undefined) {\n",
       "    embed_document(root);\n",
       "  } else {\n",
       "    var attempts = 0;\n",
       "    var timer = setInterval(function(root) {\n",
       "      if (root.Bokeh !== undefined && root.Bokeh.Panel !== undefined) {\n",
       "        clearInterval(timer);\n",
       "        embed_document(root);\n",
       "      } else if (document.readyState == \"complete\") {\n",
       "        attempts++;\n",
       "        if (attempts > 100) {\n",
       "          clearInterval(timer);\n",
       "          console.log(\"Bokeh: ERROR: Unable to run BokehJS code because BokehJS library is missing\");\n",
       "        }\n",
       "      }\n",
       "    }, 10, root)\n",
       "  }\n",
       "})(window);</script>"
      ],
      "text/plain": [
       "Alert(str, alert_type='success', css_classes=['alert', 'alert-success']...], margin=(0, 0, 25, 0), sizing_mode='stretch_width')"
      ]
     },
     "metadata": {
      "application/vnd.holoviews_exec.v0+json": {
       "id": "1131"
      }
     },
     "output_type": "display_data"
    },
    {
     "data": {},
     "metadata": {},
     "output_type": "display_data"
    },
    {
     "data": {
      "application/vnd.holoviews_exec.v0+json": "",
      "text/html": [
       "<div id='1133'>\n",
       "\n",
       "\n",
       "\n",
       "\n",
       "\n",
       "  <div class=\"bk-root\" id=\"63acca80-61b1-4d7f-b86f-1169be45ad66\" data-root-id=\"1133\"></div>\n",
       "</div>\n",
       "<script type=\"application/javascript\">(function(root) {\n",
       "  function embed_document(root) {\n",
       "    var docs_json = {\"1c63b746-0acb-4d2a-a3bc-b7749b3fe9b7\":{\"defs\":[],\"roots\":{\"references\":[{\"attributes\":{\"client_comm_id\":\"8288fd41c9c94ccb81680fe4242884f9\",\"comm_id\":\"77ce660ad2cd450db5e4bbb0e848e733\",\"plot_id\":\"1133\"},\"id\":\"1134\",\"type\":\"panel.models.comm_manager.CommManager\"},{\"attributes\":{\"css_classes\":[\"alert\",\"alert-secondary\",\"markdown\"],\"margin\":[0,0,25,0],\"name\":\"Alert00331\",\"sizing_mode\":\"stretch_width\",\"text\":\"&lt;p&gt;Sort bam file in progress for DT&amp;hellip;&lt;/p&gt;\"},\"id\":\"1133\",\"type\":\"panel.models.markup.HTML\"}],\"root_ids\":[\"1133\",\"1134\"]},\"title\":\"Bokeh Application\",\"version\":\"2.3.3\"}};\n",
       "    var render_items = [{\"docid\":\"1c63b746-0acb-4d2a-a3bc-b7749b3fe9b7\",\"root_ids\":[\"1133\"],\"roots\":{\"1133\":\"63acca80-61b1-4d7f-b86f-1169be45ad66\"}}];\n",
       "    root.Bokeh.embed.embed_items_notebook(docs_json, render_items);\n",
       "  }\n",
       "  if (root.Bokeh !== undefined && root.Bokeh.Panel !== undefined) {\n",
       "    embed_document(root);\n",
       "  } else {\n",
       "    var attempts = 0;\n",
       "    var timer = setInterval(function(root) {\n",
       "      if (root.Bokeh !== undefined && root.Bokeh.Panel !== undefined) {\n",
       "        clearInterval(timer);\n",
       "        embed_document(root);\n",
       "      } else if (document.readyState == \"complete\") {\n",
       "        attempts++;\n",
       "        if (attempts > 100) {\n",
       "          clearInterval(timer);\n",
       "          console.log(\"Bokeh: ERROR: Unable to run BokehJS code because BokehJS library is missing\");\n",
       "        }\n",
       "      }\n",
       "    }, 10, root)\n",
       "  }\n",
       "})(window);</script>"
      ],
      "text/plain": [
       "Alert(str, alert_type='secondary', css_classes=['alert', 'alert-secondary...], margin=(0, 0, 25, 0), sizing_mode='stretch_width')"
      ]
     },
     "metadata": {
      "application/vnd.holoviews_exec.v0+json": {
       "id": "1133"
      }
     },
     "output_type": "display_data"
    },
    {
     "data": {},
     "metadata": {},
     "output_type": "display_data"
    },
    {
     "data": {
      "application/vnd.holoviews_exec.v0+json": "",
      "text/html": [
       "<div id='1135'>\n",
       "\n",
       "\n",
       "\n",
       "\n",
       "\n",
       "  <div class=\"bk-root\" id=\"5b014b30-f29c-4570-8e11-b575f6297f97\" data-root-id=\"1135\"></div>\n",
       "</div>\n",
       "<script type=\"application/javascript\">(function(root) {\n",
       "  function embed_document(root) {\n",
       "    var docs_json = {\"88f8ce97-9e98-4a6b-ab5e-e2e838569289\":{\"defs\":[],\"roots\":{\"references\":[{\"attributes\":{\"css_classes\":[\"alert\",\"alert-success\",\"markdown\"],\"margin\":[0,0,25,0],\"name\":\"Alert00335\",\"sizing_mode\":\"stretch_width\",\"text\":\"&lt;p&gt;Sort bam file executed successfully (/home/christine/Documents/These/frangiPANeGIT/frangiPANe_rice/01-mapping_against_reference/DT.bam)&lt;/p&gt;\"},\"id\":\"1135\",\"type\":\"panel.models.markup.HTML\"},{\"attributes\":{\"client_comm_id\":\"193c37e99c664c6db8398a29898139ae\",\"comm_id\":\"b64168bc429844deb84c0f7249243ccb\",\"plot_id\":\"1135\"},\"id\":\"1136\",\"type\":\"panel.models.comm_manager.CommManager\"}],\"root_ids\":[\"1135\",\"1136\"]},\"title\":\"Bokeh Application\",\"version\":\"2.3.3\"}};\n",
       "    var render_items = [{\"docid\":\"88f8ce97-9e98-4a6b-ab5e-e2e838569289\",\"root_ids\":[\"1135\"],\"roots\":{\"1135\":\"5b014b30-f29c-4570-8e11-b575f6297f97\"}}];\n",
       "    root.Bokeh.embed.embed_items_notebook(docs_json, render_items);\n",
       "  }\n",
       "  if (root.Bokeh !== undefined && root.Bokeh.Panel !== undefined) {\n",
       "    embed_document(root);\n",
       "  } else {\n",
       "    var attempts = 0;\n",
       "    var timer = setInterval(function(root) {\n",
       "      if (root.Bokeh !== undefined && root.Bokeh.Panel !== undefined) {\n",
       "        clearInterval(timer);\n",
       "        embed_document(root);\n",
       "      } else if (document.readyState == \"complete\") {\n",
       "        attempts++;\n",
       "        if (attempts > 100) {\n",
       "          clearInterval(timer);\n",
       "          console.log(\"Bokeh: ERROR: Unable to run BokehJS code because BokehJS library is missing\");\n",
       "        }\n",
       "      }\n",
       "    }, 10, root)\n",
       "  }\n",
       "})(window);</script>"
      ],
      "text/plain": [
       "Alert(str, alert_type='success', css_classes=['alert', 'alert-success']...], margin=(0, 0, 25, 0), sizing_mode='stretch_width')"
      ]
     },
     "metadata": {
      "application/vnd.holoviews_exec.v0+json": {
       "id": "1135"
      }
     },
     "output_type": "display_data"
    },
    {
     "data": {},
     "metadata": {},
     "output_type": "display_data"
    },
    {
     "data": {
      "application/vnd.holoviews_exec.v0+json": "",
      "text/html": [
       "<div id='1137'>\n",
       "\n",
       "\n",
       "\n",
       "\n",
       "\n",
       "  <div class=\"bk-root\" id=\"b98d0d68-db72-4088-a1ea-ab6162b8f02f\" data-root-id=\"1137\"></div>\n",
       "</div>\n",
       "<script type=\"application/javascript\">(function(root) {\n",
       "  function embed_document(root) {\n",
       "    var docs_json = {\"00c90a5c-df5b-48ca-9ebc-c27d9fd74232\":{\"defs\":[],\"roots\":{\"references\":[{\"attributes\":{\"css_classes\":[\"alert\",\"alert-secondary\",\"markdown\"],\"margin\":[0,0,25,0],\"name\":\"Alert00339\",\"sizing_mode\":\"stretch_width\",\"text\":\"&lt;p&gt;Mapping in progress for AB&amp;hellip;&lt;/p&gt;\"},\"id\":\"1137\",\"type\":\"panel.models.markup.HTML\"},{\"attributes\":{\"client_comm_id\":\"0c2e185525a04f21bccdfdceff66192a\",\"comm_id\":\"33081880ae1f4e719f2af113cfac29ff\",\"plot_id\":\"1137\"},\"id\":\"1138\",\"type\":\"panel.models.comm_manager.CommManager\"}],\"root_ids\":[\"1137\",\"1138\"]},\"title\":\"Bokeh Application\",\"version\":\"2.3.3\"}};\n",
       "    var render_items = [{\"docid\":\"00c90a5c-df5b-48ca-9ebc-c27d9fd74232\",\"root_ids\":[\"1137\"],\"roots\":{\"1137\":\"b98d0d68-db72-4088-a1ea-ab6162b8f02f\"}}];\n",
       "    root.Bokeh.embed.embed_items_notebook(docs_json, render_items);\n",
       "  }\n",
       "  if (root.Bokeh !== undefined && root.Bokeh.Panel !== undefined) {\n",
       "    embed_document(root);\n",
       "  } else {\n",
       "    var attempts = 0;\n",
       "    var timer = setInterval(function(root) {\n",
       "      if (root.Bokeh !== undefined && root.Bokeh.Panel !== undefined) {\n",
       "        clearInterval(timer);\n",
       "        embed_document(root);\n",
       "      } else if (document.readyState == \"complete\") {\n",
       "        attempts++;\n",
       "        if (attempts > 100) {\n",
       "          clearInterval(timer);\n",
       "          console.log(\"Bokeh: ERROR: Unable to run BokehJS code because BokehJS library is missing\");\n",
       "        }\n",
       "      }\n",
       "    }, 10, root)\n",
       "  }\n",
       "})(window);</script>"
      ],
      "text/plain": [
       "Alert(str, alert_type='secondary', css_classes=['alert', 'alert-secondary...], margin=(0, 0, 25, 0), sizing_mode='stretch_width')"
      ]
     },
     "metadata": {
      "application/vnd.holoviews_exec.v0+json": {
       "id": "1137"
      }
     },
     "output_type": "display_data"
    },
    {
     "data": {},
     "metadata": {},
     "output_type": "display_data"
    },
    {
     "data": {
      "application/vnd.holoviews_exec.v0+json": "",
      "text/html": [
       "<div id='1139'>\n",
       "\n",
       "\n",
       "\n",
       "\n",
       "\n",
       "  <div class=\"bk-root\" id=\"7380ddf2-46ee-41d2-bafa-923d8c732d70\" data-root-id=\"1139\"></div>\n",
       "</div>\n",
       "<script type=\"application/javascript\">(function(root) {\n",
       "  function embed_document(root) {\n",
       "    var docs_json = {\"a6d028e5-ab0d-4995-b927-c6e76dec61d8\":{\"defs\":[],\"roots\":{\"references\":[{\"attributes\":{\"css_classes\":[\"alert\",\"alert-success\",\"markdown\"],\"margin\":[0,0,25,0],\"name\":\"Alert00343\",\"sizing_mode\":\"stretch_width\",\"text\":\"&lt;p&gt;bwa mem executed successfully (/home/christine/Documents/These/frangiPANeGIT/frangiPANe_rice/01-mapping_against_reference/AB.sam)&lt;/p&gt;\"},\"id\":\"1139\",\"type\":\"panel.models.markup.HTML\"},{\"attributes\":{\"client_comm_id\":\"bdde4b1cbf064237853ad5b923539992\",\"comm_id\":\"604d8134aca6434a83e61ab7bdd24c0d\",\"plot_id\":\"1139\"},\"id\":\"1140\",\"type\":\"panel.models.comm_manager.CommManager\"}],\"root_ids\":[\"1139\",\"1140\"]},\"title\":\"Bokeh Application\",\"version\":\"2.3.3\"}};\n",
       "    var render_items = [{\"docid\":\"a6d028e5-ab0d-4995-b927-c6e76dec61d8\",\"root_ids\":[\"1139\"],\"roots\":{\"1139\":\"7380ddf2-46ee-41d2-bafa-923d8c732d70\"}}];\n",
       "    root.Bokeh.embed.embed_items_notebook(docs_json, render_items);\n",
       "  }\n",
       "  if (root.Bokeh !== undefined && root.Bokeh.Panel !== undefined) {\n",
       "    embed_document(root);\n",
       "  } else {\n",
       "    var attempts = 0;\n",
       "    var timer = setInterval(function(root) {\n",
       "      if (root.Bokeh !== undefined && root.Bokeh.Panel !== undefined) {\n",
       "        clearInterval(timer);\n",
       "        embed_document(root);\n",
       "      } else if (document.readyState == \"complete\") {\n",
       "        attempts++;\n",
       "        if (attempts > 100) {\n",
       "          clearInterval(timer);\n",
       "          console.log(\"Bokeh: ERROR: Unable to run BokehJS code because BokehJS library is missing\");\n",
       "        }\n",
       "      }\n",
       "    }, 10, root)\n",
       "  }\n",
       "})(window);</script>"
      ],
      "text/plain": [
       "Alert(str, alert_type='success', css_classes=['alert', 'alert-success']...], margin=(0, 0, 25, 0), sizing_mode='stretch_width')"
      ]
     },
     "metadata": {
      "application/vnd.holoviews_exec.v0+json": {
       "id": "1139"
      }
     },
     "output_type": "display_data"
    },
    {
     "data": {},
     "metadata": {},
     "output_type": "display_data"
    },
    {
     "data": {
      "application/vnd.holoviews_exec.v0+json": "",
      "text/html": [
       "<div id='1141'>\n",
       "\n",
       "\n",
       "\n",
       "\n",
       "\n",
       "  <div class=\"bk-root\" id=\"d7099c80-afec-43eb-bc71-ba26cffc2189\" data-root-id=\"1141\"></div>\n",
       "</div>\n",
       "<script type=\"application/javascript\">(function(root) {\n",
       "  function embed_document(root) {\n",
       "    var docs_json = {\"9b77740e-0d9c-4437-848d-7921a614544a\":{\"defs\":[],\"roots\":{\"references\":[{\"attributes\":{\"client_comm_id\":\"84e42e2ee42940a99579de5fff176c5b\",\"comm_id\":\"1cde8cbcbf75476cafd3bcea2f929ca9\",\"plot_id\":\"1141\"},\"id\":\"1142\",\"type\":\"panel.models.comm_manager.CommManager\"},{\"attributes\":{\"css_classes\":[\"alert\",\"alert-secondary\",\"markdown\"],\"margin\":[0,0,25,0],\"name\":\"Alert00347\",\"sizing_mode\":\"stretch_width\",\"text\":\"&lt;p&gt;Sort bam file in progress for AB&amp;hellip;&lt;/p&gt;\"},\"id\":\"1141\",\"type\":\"panel.models.markup.HTML\"}],\"root_ids\":[\"1141\",\"1142\"]},\"title\":\"Bokeh Application\",\"version\":\"2.3.3\"}};\n",
       "    var render_items = [{\"docid\":\"9b77740e-0d9c-4437-848d-7921a614544a\",\"root_ids\":[\"1141\"],\"roots\":{\"1141\":\"d7099c80-afec-43eb-bc71-ba26cffc2189\"}}];\n",
       "    root.Bokeh.embed.embed_items_notebook(docs_json, render_items);\n",
       "  }\n",
       "  if (root.Bokeh !== undefined && root.Bokeh.Panel !== undefined) {\n",
       "    embed_document(root);\n",
       "  } else {\n",
       "    var attempts = 0;\n",
       "    var timer = setInterval(function(root) {\n",
       "      if (root.Bokeh !== undefined && root.Bokeh.Panel !== undefined) {\n",
       "        clearInterval(timer);\n",
       "        embed_document(root);\n",
       "      } else if (document.readyState == \"complete\") {\n",
       "        attempts++;\n",
       "        if (attempts > 100) {\n",
       "          clearInterval(timer);\n",
       "          console.log(\"Bokeh: ERROR: Unable to run BokehJS code because BokehJS library is missing\");\n",
       "        }\n",
       "      }\n",
       "    }, 10, root)\n",
       "  }\n",
       "})(window);</script>"
      ],
      "text/plain": [
       "Alert(str, alert_type='secondary', css_classes=['alert', 'alert-secondary...], margin=(0, 0, 25, 0), sizing_mode='stretch_width')"
      ]
     },
     "metadata": {
      "application/vnd.holoviews_exec.v0+json": {
       "id": "1141"
      }
     },
     "output_type": "display_data"
    },
    {
     "data": {},
     "metadata": {},
     "output_type": "display_data"
    },
    {
     "data": {
      "application/vnd.holoviews_exec.v0+json": "",
      "text/html": [
       "<div id='1143'>\n",
       "\n",
       "\n",
       "\n",
       "\n",
       "\n",
       "  <div class=\"bk-root\" id=\"770e37b5-eedf-47b9-a826-2deac19281ce\" data-root-id=\"1143\"></div>\n",
       "</div>\n",
       "<script type=\"application/javascript\">(function(root) {\n",
       "  function embed_document(root) {\n",
       "    var docs_json = {\"5024066d-b014-4f28-9990-18d3c435cb13\":{\"defs\":[],\"roots\":{\"references\":[{\"attributes\":{\"css_classes\":[\"alert\",\"alert-success\",\"markdown\"],\"margin\":[0,0,25,0],\"name\":\"Alert00351\",\"sizing_mode\":\"stretch_width\",\"text\":\"&lt;p&gt;Sort bam file executed successfully (/home/christine/Documents/These/frangiPANeGIT/frangiPANe_rice/01-mapping_against_reference/AB.bam)&lt;/p&gt;\"},\"id\":\"1143\",\"type\":\"panel.models.markup.HTML\"},{\"attributes\":{\"client_comm_id\":\"9040ab10123742ba840c20c6f5a93e94\",\"comm_id\":\"a503a4dba4584523af2e6573967a73e1\",\"plot_id\":\"1143\"},\"id\":\"1144\",\"type\":\"panel.models.comm_manager.CommManager\"}],\"root_ids\":[\"1143\",\"1144\"]},\"title\":\"Bokeh Application\",\"version\":\"2.3.3\"}};\n",
       "    var render_items = [{\"docid\":\"5024066d-b014-4f28-9990-18d3c435cb13\",\"root_ids\":[\"1143\"],\"roots\":{\"1143\":\"770e37b5-eedf-47b9-a826-2deac19281ce\"}}];\n",
       "    root.Bokeh.embed.embed_items_notebook(docs_json, render_items);\n",
       "  }\n",
       "  if (root.Bokeh !== undefined && root.Bokeh.Panel !== undefined) {\n",
       "    embed_document(root);\n",
       "  } else {\n",
       "    var attempts = 0;\n",
       "    var timer = setInterval(function(root) {\n",
       "      if (root.Bokeh !== undefined && root.Bokeh.Panel !== undefined) {\n",
       "        clearInterval(timer);\n",
       "        embed_document(root);\n",
       "      } else if (document.readyState == \"complete\") {\n",
       "        attempts++;\n",
       "        if (attempts > 100) {\n",
       "          clearInterval(timer);\n",
       "          console.log(\"Bokeh: ERROR: Unable to run BokehJS code because BokehJS library is missing\");\n",
       "        }\n",
       "      }\n",
       "    }, 10, root)\n",
       "  }\n",
       "})(window);</script>"
      ],
      "text/plain": [
       "Alert(str, alert_type='success', css_classes=['alert', 'alert-success']...], margin=(0, 0, 25, 0), sizing_mode='stretch_width')"
      ]
     },
     "metadata": {
      "application/vnd.holoviews_exec.v0+json": {
       "id": "1143"
      }
     },
     "output_type": "display_data"
    },
    {
     "data": {},
     "metadata": {},
     "output_type": "display_data"
    },
    {
     "data": {
      "application/vnd.holoviews_exec.v0+json": "",
      "text/html": [
       "<div id='1145'>\n",
       "\n",
       "\n",
       "\n",
       "\n",
       "\n",
       "  <div class=\"bk-root\" id=\"d0573bae-7cc1-4983-a704-25b6c371782c\" data-root-id=\"1145\"></div>\n",
       "</div>\n",
       "<script type=\"application/javascript\">(function(root) {\n",
       "  function embed_document(root) {\n",
       "    var docs_json = {\"71366601-27f3-464a-b90b-96fc3c8ab5d7\":{\"defs\":[],\"roots\":{\"references\":[{\"attributes\":{\"client_comm_id\":\"229a879f8d9348de9b341eae57ef4508\",\"comm_id\":\"e285131770df4002ada17c745bcacf92\",\"plot_id\":\"1145\"},\"id\":\"1146\",\"type\":\"panel.models.comm_manager.CommManager\"},{\"attributes\":{\"css_classes\":[\"alert\",\"alert-success\",\"markdown\"],\"margin\":[0,0,25,0],\"name\":\"Alert00355\",\"sizing_mode\":\"stretch_width\",\"text\":\"&lt;h3&gt;Mapping step done with bwa mem and samtools sort&lt;/h3&gt;\\n&lt;hr&gt;\\n\\n&lt;ul&gt;\\n&lt;li&gt;FASTQ DIR : /home/christine/Documents/These/frangiPANeGIT/rice/fastq2&lt;/li&gt;\\n&lt;li&gt;BAM DIR : /home/christine/Documents/These/frangiPANeGIT/frangiPANe_rice/01-mapping_against_reference/&lt;/li&gt;\\n&lt;/ul&gt;\"},\"id\":\"1145\",\"type\":\"panel.models.markup.HTML\"}],\"root_ids\":[\"1145\",\"1146\"]},\"title\":\"Bokeh Application\",\"version\":\"2.3.3\"}};\n",
       "    var render_items = [{\"docid\":\"71366601-27f3-464a-b90b-96fc3c8ab5d7\",\"root_ids\":[\"1145\"],\"roots\":{\"1145\":\"d0573bae-7cc1-4983-a704-25b6c371782c\"}}];\n",
       "    root.Bokeh.embed.embed_items_notebook(docs_json, render_items);\n",
       "  }\n",
       "  if (root.Bokeh !== undefined && root.Bokeh.Panel !== undefined) {\n",
       "    embed_document(root);\n",
       "  } else {\n",
       "    var attempts = 0;\n",
       "    var timer = setInterval(function(root) {\n",
       "      if (root.Bokeh !== undefined && root.Bokeh.Panel !== undefined) {\n",
       "        clearInterval(timer);\n",
       "        embed_document(root);\n",
       "      } else if (document.readyState == \"complete\") {\n",
       "        attempts++;\n",
       "        if (attempts > 100) {\n",
       "          clearInterval(timer);\n",
       "          console.log(\"Bokeh: ERROR: Unable to run BokehJS code because BokehJS library is missing\");\n",
       "        }\n",
       "      }\n",
       "    }, 10, root)\n",
       "  }\n",
       "})(window);</script>"
      ],
      "text/plain": [
       "Alert(str, alert_type='success', css_classes=['alert', 'alert-success']...], margin=(0, 0, 25, 0), sizing_mode='stretch_width')"
      ]
     },
     "metadata": {
      "application/vnd.holoviews_exec.v0+json": {
       "id": "1145"
      }
     },
     "output_type": "display_data"
    }
   ],
   "source": [
    "bgc('LightBlue')\n",
    "\n",
    "# Creating directory\n",
    "cpu=6\n",
    "output_mapping_dir = output_dir + \"/01-mapping_against_reference/\"\n",
    "\n",
    "# Mapping\n",
    "fastq2bam_dir(ref_file.value, fastq_dir.value, df_group, cpu, output_mapping_dir, logger)"
   ]
  },
  {
   "cell_type": "markdown",
   "metadata": {
    "tags": []
   },
   "source": [
    "#### __Generating mapping stats <a class=\"anchor\" id=\"mappingstat\">__\n",
    "    \n",
    "Statistics are generated by `samtools flagstat` and they are saved into the directory _01_mapping-against_reference_ and the subdirectory _stat_\n",
    "\n",
    "* One \"flagtstat file\" is generated for each bam file (http://www.htslib.org/doc/samtools-flagstat.html).\n",
    "\n",
    "* _all_flagstat.csv_ file compiling all the stats\n"
   ]
  },
  {
   "cell_type": "code",
   "execution_count": 8,
   "metadata": {},
   "outputs": [
    {
     "data": {
      "text/html": [
       "<img src onerror=\"var cell = this.closest('.jp-CodeCell');var editor = cell.querySelector('.jp-Editor');editor.style.background='LightBlue';this.parentNode.removeChild(this)\">"
      ],
      "text/plain": [
       "<IPython.core.display.HTML object>"
      ]
     },
     "metadata": {},
     "output_type": "display_data"
    },
    {
     "data": {},
     "metadata": {},
     "output_type": "display_data"
    },
    {
     "data": {
      "application/vnd.holoviews_exec.v0+json": "",
      "text/html": [
       "<div id='1147'>\n",
       "\n",
       "\n",
       "\n",
       "\n",
       "\n",
       "  <div class=\"bk-root\" id=\"0c336344-69dc-42cf-9191-deb917ecc056\" data-root-id=\"1147\"></div>\n",
       "</div>\n",
       "<script type=\"application/javascript\">(function(root) {\n",
       "  function embed_document(root) {\n",
       "    var docs_json = {\"95cf9273-fc0c-49ca-836b-46057e583a54\":{\"defs\":[],\"roots\":{\"references\":[{\"attributes\":{\"client_comm_id\":\"f3ade93682944e3a8395924af2250117\",\"comm_id\":\"381c05784db54335872347b85eea1e68\",\"plot_id\":\"1147\"},\"id\":\"1148\",\"type\":\"panel.models.comm_manager.CommManager\"},{\"attributes\":{\"css_classes\":[\"alert\",\"alert-success\",\"markdown\"],\"margin\":[0,0,25,0],\"name\":\"Alert00359\",\"sizing_mode\":\"stretch_width\",\"text\":\"&lt;p&gt;Directory /home/christine/Documents/These/frangiPANeGIT/frangiPANe_rice/01-mapping_against_reference//stat/ created&lt;/p&gt;\"},\"id\":\"1147\",\"type\":\"panel.models.markup.HTML\"}],\"root_ids\":[\"1147\",\"1148\"]},\"title\":\"Bokeh Application\",\"version\":\"2.3.3\"}};\n",
       "    var render_items = [{\"docid\":\"95cf9273-fc0c-49ca-836b-46057e583a54\",\"root_ids\":[\"1147\"],\"roots\":{\"1147\":\"0c336344-69dc-42cf-9191-deb917ecc056\"}}];\n",
       "    root.Bokeh.embed.embed_items_notebook(docs_json, render_items);\n",
       "  }\n",
       "  if (root.Bokeh !== undefined && root.Bokeh.Panel !== undefined) {\n",
       "    embed_document(root);\n",
       "  } else {\n",
       "    var attempts = 0;\n",
       "    var timer = setInterval(function(root) {\n",
       "      if (root.Bokeh !== undefined && root.Bokeh.Panel !== undefined) {\n",
       "        clearInterval(timer);\n",
       "        embed_document(root);\n",
       "      } else if (document.readyState == \"complete\") {\n",
       "        attempts++;\n",
       "        if (attempts > 100) {\n",
       "          clearInterval(timer);\n",
       "          console.log(\"Bokeh: ERROR: Unable to run BokehJS code because BokehJS library is missing\");\n",
       "        }\n",
       "      }\n",
       "    }, 10, root)\n",
       "  }\n",
       "})(window);</script>"
      ],
      "text/plain": [
       "Alert(str, alert_type='success', css_classes=['alert', 'alert-success']...], margin=(0, 0, 25, 0), sizing_mode='stretch_width')"
      ]
     },
     "metadata": {
      "application/vnd.holoviews_exec.v0+json": {
       "id": "1147"
      }
     },
     "output_type": "display_data"
    },
    {
     "data": {},
     "metadata": {},
     "output_type": "display_data"
    },
    {
     "data": {
      "application/vnd.holoviews_exec.v0+json": "",
      "text/html": [
       "<div id='1149'>\n",
       "\n",
       "\n",
       "\n",
       "\n",
       "\n",
       "  <div class=\"bk-root\" id=\"ee2a9e1a-ce9d-4a66-97f1-1e8c17ab122f\" data-root-id=\"1149\"></div>\n",
       "</div>\n",
       "<script type=\"application/javascript\">(function(root) {\n",
       "  function embed_document(root) {\n",
       "    var docs_json = {\"1b0cdd4a-58f3-4211-9b20-789faf225256\":{\"defs\":[],\"roots\":{\"references\":[{\"attributes\":{\"client_comm_id\":\"6345a8cf24f042de88937a8a47a5906f\",\"comm_id\":\"236c3f2b5421461bb0254e549efc87e2\",\"plot_id\":\"1149\"},\"id\":\"1150\",\"type\":\"panel.models.comm_manager.CommManager\"},{\"attributes\":{\"css_classes\":[\"alert\",\"alert-secondary\",\"markdown\"],\"margin\":[0,0,25,0],\"name\":\"Alert00363\",\"sizing_mode\":\"stretch_width\",\"text\":\"&lt;p&gt;Generating mapping stat (with samtools flagstat) for AA.bam&amp;hellip;&lt;/p&gt;\"},\"id\":\"1149\",\"type\":\"panel.models.markup.HTML\"}],\"root_ids\":[\"1149\",\"1150\"]},\"title\":\"Bokeh Application\",\"version\":\"2.3.3\"}};\n",
       "    var render_items = [{\"docid\":\"1b0cdd4a-58f3-4211-9b20-789faf225256\",\"root_ids\":[\"1149\"],\"roots\":{\"1149\":\"ee2a9e1a-ce9d-4a66-97f1-1e8c17ab122f\"}}];\n",
       "    root.Bokeh.embed.embed_items_notebook(docs_json, render_items);\n",
       "  }\n",
       "  if (root.Bokeh !== undefined && root.Bokeh.Panel !== undefined) {\n",
       "    embed_document(root);\n",
       "  } else {\n",
       "    var attempts = 0;\n",
       "    var timer = setInterval(function(root) {\n",
       "      if (root.Bokeh !== undefined && root.Bokeh.Panel !== undefined) {\n",
       "        clearInterval(timer);\n",
       "        embed_document(root);\n",
       "      } else if (document.readyState == \"complete\") {\n",
       "        attempts++;\n",
       "        if (attempts > 100) {\n",
       "          clearInterval(timer);\n",
       "          console.log(\"Bokeh: ERROR: Unable to run BokehJS code because BokehJS library is missing\");\n",
       "        }\n",
       "      }\n",
       "    }, 10, root)\n",
       "  }\n",
       "})(window);</script>"
      ],
      "text/plain": [
       "Alert(str, alert_type='secondary', css_classes=['alert', 'alert-secondary...], margin=(0, 0, 25, 0), sizing_mode='stretch_width')"
      ]
     },
     "metadata": {
      "application/vnd.holoviews_exec.v0+json": {
       "id": "1149"
      }
     },
     "output_type": "display_data"
    },
    {
     "data": {},
     "metadata": {},
     "output_type": "display_data"
    },
    {
     "data": {
      "application/vnd.holoviews_exec.v0+json": "",
      "text/html": [
       "<div id='1151'>\n",
       "\n",
       "\n",
       "\n",
       "\n",
       "\n",
       "  <div class=\"bk-root\" id=\"cbb9dd66-e164-4a42-986a-6388df1eae1c\" data-root-id=\"1151\"></div>\n",
       "</div>\n",
       "<script type=\"application/javascript\">(function(root) {\n",
       "  function embed_document(root) {\n",
       "    var docs_json = {\"27669587-597f-4b97-a4a7-a81bafd6d665\":{\"defs\":[],\"roots\":{\"references\":[{\"attributes\":{\"client_comm_id\":\"ed2d26d39189420d8cdfed2a037152a7\",\"comm_id\":\"1072e510a0d14724a2715948f1219826\",\"plot_id\":\"1151\"},\"id\":\"1152\",\"type\":\"panel.models.comm_manager.CommManager\"},{\"attributes\":{\"css_classes\":[\"alert\",\"alert-success\",\"markdown\"],\"margin\":[0,0,25,0],\"name\":\"Alert00367\",\"sizing_mode\":\"stretch_width\",\"text\":\"&lt;p&gt;samtools flagstat executed successfully (AA.bam.samtoolsFlagstat)&lt;/p&gt;\"},\"id\":\"1151\",\"type\":\"panel.models.markup.HTML\"}],\"root_ids\":[\"1151\",\"1152\"]},\"title\":\"Bokeh Application\",\"version\":\"2.3.3\"}};\n",
       "    var render_items = [{\"docid\":\"27669587-597f-4b97-a4a7-a81bafd6d665\",\"root_ids\":[\"1151\"],\"roots\":{\"1151\":\"cbb9dd66-e164-4a42-986a-6388df1eae1c\"}}];\n",
       "    root.Bokeh.embed.embed_items_notebook(docs_json, render_items);\n",
       "  }\n",
       "  if (root.Bokeh !== undefined && root.Bokeh.Panel !== undefined) {\n",
       "    embed_document(root);\n",
       "  } else {\n",
       "    var attempts = 0;\n",
       "    var timer = setInterval(function(root) {\n",
       "      if (root.Bokeh !== undefined && root.Bokeh.Panel !== undefined) {\n",
       "        clearInterval(timer);\n",
       "        embed_document(root);\n",
       "      } else if (document.readyState == \"complete\") {\n",
       "        attempts++;\n",
       "        if (attempts > 100) {\n",
       "          clearInterval(timer);\n",
       "          console.log(\"Bokeh: ERROR: Unable to run BokehJS code because BokehJS library is missing\");\n",
       "        }\n",
       "      }\n",
       "    }, 10, root)\n",
       "  }\n",
       "})(window);</script>"
      ],
      "text/plain": [
       "Alert(str, alert_type='success', css_classes=['alert', 'alert-success']...], margin=(0, 0, 25, 0), sizing_mode='stretch_width')"
      ]
     },
     "metadata": {
      "application/vnd.holoviews_exec.v0+json": {
       "id": "1151"
      }
     },
     "output_type": "display_data"
    },
    {
     "data": {},
     "metadata": {},
     "output_type": "display_data"
    },
    {
     "data": {
      "application/vnd.holoviews_exec.v0+json": "",
      "text/html": [
       "<div id='1153'>\n",
       "\n",
       "\n",
       "\n",
       "\n",
       "\n",
       "  <div class=\"bk-root\" id=\"1a9db0f3-36da-4578-9c76-276c23f8a9f4\" data-root-id=\"1153\"></div>\n",
       "</div>\n",
       "<script type=\"application/javascript\">(function(root) {\n",
       "  function embed_document(root) {\n",
       "    var docs_json = {\"76508fe5-aee5-436e-84b7-1ea24f42d833\":{\"defs\":[],\"roots\":{\"references\":[{\"attributes\":{\"css_classes\":[\"alert\",\"alert-secondary\",\"markdown\"],\"margin\":[0,0,25,0],\"name\":\"Alert00371\",\"sizing_mode\":\"stretch_width\",\"text\":\"&lt;p&gt;Generating mapping stat (with samtools flagstat) for DT.bam&amp;hellip;&lt;/p&gt;\"},\"id\":\"1153\",\"type\":\"panel.models.markup.HTML\"},{\"attributes\":{\"client_comm_id\":\"9e61b9a24b724108897b9d0e357e2912\",\"comm_id\":\"93f93a124c014df1b5bb57cd35cc6e54\",\"plot_id\":\"1153\"},\"id\":\"1154\",\"type\":\"panel.models.comm_manager.CommManager\"}],\"root_ids\":[\"1153\",\"1154\"]},\"title\":\"Bokeh Application\",\"version\":\"2.3.3\"}};\n",
       "    var render_items = [{\"docid\":\"76508fe5-aee5-436e-84b7-1ea24f42d833\",\"root_ids\":[\"1153\"],\"roots\":{\"1153\":\"1a9db0f3-36da-4578-9c76-276c23f8a9f4\"}}];\n",
       "    root.Bokeh.embed.embed_items_notebook(docs_json, render_items);\n",
       "  }\n",
       "  if (root.Bokeh !== undefined && root.Bokeh.Panel !== undefined) {\n",
       "    embed_document(root);\n",
       "  } else {\n",
       "    var attempts = 0;\n",
       "    var timer = setInterval(function(root) {\n",
       "      if (root.Bokeh !== undefined && root.Bokeh.Panel !== undefined) {\n",
       "        clearInterval(timer);\n",
       "        embed_document(root);\n",
       "      } else if (document.readyState == \"complete\") {\n",
       "        attempts++;\n",
       "        if (attempts > 100) {\n",
       "          clearInterval(timer);\n",
       "          console.log(\"Bokeh: ERROR: Unable to run BokehJS code because BokehJS library is missing\");\n",
       "        }\n",
       "      }\n",
       "    }, 10, root)\n",
       "  }\n",
       "})(window);</script>"
      ],
      "text/plain": [
       "Alert(str, alert_type='secondary', css_classes=['alert', 'alert-secondary...], margin=(0, 0, 25, 0), sizing_mode='stretch_width')"
      ]
     },
     "metadata": {
      "application/vnd.holoviews_exec.v0+json": {
       "id": "1153"
      }
     },
     "output_type": "display_data"
    },
    {
     "data": {},
     "metadata": {},
     "output_type": "display_data"
    },
    {
     "data": {
      "application/vnd.holoviews_exec.v0+json": "",
      "text/html": [
       "<div id='1155'>\n",
       "\n",
       "\n",
       "\n",
       "\n",
       "\n",
       "  <div class=\"bk-root\" id=\"3accab8d-7944-48c7-b0be-3755f6b32c32\" data-root-id=\"1155\"></div>\n",
       "</div>\n",
       "<script type=\"application/javascript\">(function(root) {\n",
       "  function embed_document(root) {\n",
       "    var docs_json = {\"e4c3a970-5223-464c-b6e4-8fd3148831af\":{\"defs\":[],\"roots\":{\"references\":[{\"attributes\":{\"css_classes\":[\"alert\",\"alert-success\",\"markdown\"],\"margin\":[0,0,25,0],\"name\":\"Alert00375\",\"sizing_mode\":\"stretch_width\",\"text\":\"&lt;p&gt;samtools flagstat executed successfully (DT.bam.samtoolsFlagstat)&lt;/p&gt;\"},\"id\":\"1155\",\"type\":\"panel.models.markup.HTML\"},{\"attributes\":{\"client_comm_id\":\"01f799c7fc82488cae6b7e9fcec71efb\",\"comm_id\":\"67b2add6fbb141c79298e903a34a0308\",\"plot_id\":\"1155\"},\"id\":\"1156\",\"type\":\"panel.models.comm_manager.CommManager\"}],\"root_ids\":[\"1155\",\"1156\"]},\"title\":\"Bokeh Application\",\"version\":\"2.3.3\"}};\n",
       "    var render_items = [{\"docid\":\"e4c3a970-5223-464c-b6e4-8fd3148831af\",\"root_ids\":[\"1155\"],\"roots\":{\"1155\":\"3accab8d-7944-48c7-b0be-3755f6b32c32\"}}];\n",
       "    root.Bokeh.embed.embed_items_notebook(docs_json, render_items);\n",
       "  }\n",
       "  if (root.Bokeh !== undefined && root.Bokeh.Panel !== undefined) {\n",
       "    embed_document(root);\n",
       "  } else {\n",
       "    var attempts = 0;\n",
       "    var timer = setInterval(function(root) {\n",
       "      if (root.Bokeh !== undefined && root.Bokeh.Panel !== undefined) {\n",
       "        clearInterval(timer);\n",
       "        embed_document(root);\n",
       "      } else if (document.readyState == \"complete\") {\n",
       "        attempts++;\n",
       "        if (attempts > 100) {\n",
       "          clearInterval(timer);\n",
       "          console.log(\"Bokeh: ERROR: Unable to run BokehJS code because BokehJS library is missing\");\n",
       "        }\n",
       "      }\n",
       "    }, 10, root)\n",
       "  }\n",
       "})(window);</script>"
      ],
      "text/plain": [
       "Alert(str, alert_type='success', css_classes=['alert', 'alert-success']...], margin=(0, 0, 25, 0), sizing_mode='stretch_width')"
      ]
     },
     "metadata": {
      "application/vnd.holoviews_exec.v0+json": {
       "id": "1155"
      }
     },
     "output_type": "display_data"
    },
    {
     "data": {},
     "metadata": {},
     "output_type": "display_data"
    },
    {
     "data": {
      "application/vnd.holoviews_exec.v0+json": "",
      "text/html": [
       "<div id='1157'>\n",
       "\n",
       "\n",
       "\n",
       "\n",
       "\n",
       "  <div class=\"bk-root\" id=\"2ba79099-92ac-43d3-b6b7-a3bd395515e4\" data-root-id=\"1157\"></div>\n",
       "</div>\n",
       "<script type=\"application/javascript\">(function(root) {\n",
       "  function embed_document(root) {\n",
       "    var docs_json = {\"ac477ae3-86c0-4223-8e49-9126173b872c\":{\"defs\":[],\"roots\":{\"references\":[{\"attributes\":{\"css_classes\":[\"alert\",\"alert-secondary\",\"markdown\"],\"margin\":[0,0,25,0],\"name\":\"Alert00379\",\"sizing_mode\":\"stretch_width\",\"text\":\"&lt;p&gt;Generating mapping stat (with samtools flagstat) for AB.bam&amp;hellip;&lt;/p&gt;\"},\"id\":\"1157\",\"type\":\"panel.models.markup.HTML\"},{\"attributes\":{\"client_comm_id\":\"62de2fcc35fd4f41ba2b7b8bbeb0f5a8\",\"comm_id\":\"ce2d1b3d86444a4d8af78352a770c1d8\",\"plot_id\":\"1157\"},\"id\":\"1158\",\"type\":\"panel.models.comm_manager.CommManager\"}],\"root_ids\":[\"1157\",\"1158\"]},\"title\":\"Bokeh Application\",\"version\":\"2.3.3\"}};\n",
       "    var render_items = [{\"docid\":\"ac477ae3-86c0-4223-8e49-9126173b872c\",\"root_ids\":[\"1157\"],\"roots\":{\"1157\":\"2ba79099-92ac-43d3-b6b7-a3bd395515e4\"}}];\n",
       "    root.Bokeh.embed.embed_items_notebook(docs_json, render_items);\n",
       "  }\n",
       "  if (root.Bokeh !== undefined && root.Bokeh.Panel !== undefined) {\n",
       "    embed_document(root);\n",
       "  } else {\n",
       "    var attempts = 0;\n",
       "    var timer = setInterval(function(root) {\n",
       "      if (root.Bokeh !== undefined && root.Bokeh.Panel !== undefined) {\n",
       "        clearInterval(timer);\n",
       "        embed_document(root);\n",
       "      } else if (document.readyState == \"complete\") {\n",
       "        attempts++;\n",
       "        if (attempts > 100) {\n",
       "          clearInterval(timer);\n",
       "          console.log(\"Bokeh: ERROR: Unable to run BokehJS code because BokehJS library is missing\");\n",
       "        }\n",
       "      }\n",
       "    }, 10, root)\n",
       "  }\n",
       "})(window);</script>"
      ],
      "text/plain": [
       "Alert(str, alert_type='secondary', css_classes=['alert', 'alert-secondary...], margin=(0, 0, 25, 0), sizing_mode='stretch_width')"
      ]
     },
     "metadata": {
      "application/vnd.holoviews_exec.v0+json": {
       "id": "1157"
      }
     },
     "output_type": "display_data"
    },
    {
     "data": {},
     "metadata": {},
     "output_type": "display_data"
    },
    {
     "data": {
      "application/vnd.holoviews_exec.v0+json": "",
      "text/html": [
       "<div id='1159'>\n",
       "\n",
       "\n",
       "\n",
       "\n",
       "\n",
       "  <div class=\"bk-root\" id=\"a34474dd-371f-415d-b664-7e7da5ed36d8\" data-root-id=\"1159\"></div>\n",
       "</div>\n",
       "<script type=\"application/javascript\">(function(root) {\n",
       "  function embed_document(root) {\n",
       "    var docs_json = {\"355b96cf-4bc0-4ceb-a388-cb825a734c70\":{\"defs\":[],\"roots\":{\"references\":[{\"attributes\":{\"css_classes\":[\"alert\",\"alert-success\",\"markdown\"],\"margin\":[0,0,25,0],\"name\":\"Alert00383\",\"sizing_mode\":\"stretch_width\",\"text\":\"&lt;p&gt;samtools flagstat executed successfully (AB.bam.samtoolsFlagstat)&lt;/p&gt;\"},\"id\":\"1159\",\"type\":\"panel.models.markup.HTML\"},{\"attributes\":{\"client_comm_id\":\"cd81c0bdffde415897eea7787e8cc19d\",\"comm_id\":\"cb5fdf3c71f4461895c7618c92584808\",\"plot_id\":\"1159\"},\"id\":\"1160\",\"type\":\"panel.models.comm_manager.CommManager\"}],\"root_ids\":[\"1159\",\"1160\"]},\"title\":\"Bokeh Application\",\"version\":\"2.3.3\"}};\n",
       "    var render_items = [{\"docid\":\"355b96cf-4bc0-4ceb-a388-cb825a734c70\",\"root_ids\":[\"1159\"],\"roots\":{\"1159\":\"a34474dd-371f-415d-b664-7e7da5ed36d8\"}}];\n",
       "    root.Bokeh.embed.embed_items_notebook(docs_json, render_items);\n",
       "  }\n",
       "  if (root.Bokeh !== undefined && root.Bokeh.Panel !== undefined) {\n",
       "    embed_document(root);\n",
       "  } else {\n",
       "    var attempts = 0;\n",
       "    var timer = setInterval(function(root) {\n",
       "      if (root.Bokeh !== undefined && root.Bokeh.Panel !== undefined) {\n",
       "        clearInterval(timer);\n",
       "        embed_document(root);\n",
       "      } else if (document.readyState == \"complete\") {\n",
       "        attempts++;\n",
       "        if (attempts > 100) {\n",
       "          clearInterval(timer);\n",
       "          console.log(\"Bokeh: ERROR: Unable to run BokehJS code because BokehJS library is missing\");\n",
       "        }\n",
       "      }\n",
       "    }, 10, root)\n",
       "  }\n",
       "})(window);</script>"
      ],
      "text/plain": [
       "Alert(str, alert_type='success', css_classes=['alert', 'alert-success']...], margin=(0, 0, 25, 0), sizing_mode='stretch_width')"
      ]
     },
     "metadata": {
      "application/vnd.holoviews_exec.v0+json": {
       "id": "1159"
      }
     },
     "output_type": "display_data"
    },
    {
     "data": {},
     "metadata": {},
     "output_type": "display_data"
    },
    {
     "data": {
      "application/vnd.holoviews_exec.v0+json": "",
      "text/html": [
       "<div id='1161'>\n",
       "\n",
       "\n",
       "\n",
       "\n",
       "\n",
       "  <div class=\"bk-root\" id=\"c46fba08-72c7-46ac-b537-7be1f89caa7e\" data-root-id=\"1161\"></div>\n",
       "</div>\n",
       "<script type=\"application/javascript\">(function(root) {\n",
       "  function embed_document(root) {\n",
       "    var docs_json = {\"40db49ad-8488-4443-b9c6-6f2b5f0dcadd\":{\"defs\":[],\"roots\":{\"references\":[{\"attributes\":{\"client_comm_id\":\"f6957396438c48608a24869c4796fa04\",\"comm_id\":\"f78f5b3710e94759af89a3d0f9114b6d\",\"plot_id\":\"1161\"},\"id\":\"1162\",\"type\":\"panel.models.comm_manager.CommManager\"},{\"attributes\":{\"css_classes\":[\"alert\",\"alert-secondary\",\"markdown\"],\"margin\":[0,0,25,0],\"name\":\"Alert00387\",\"sizing_mode\":\"stretch_width\",\"text\":\"&lt;p&gt;Compiling mapping stat into an unique file&amp;hellip;&lt;/p&gt;\"},\"id\":\"1161\",\"type\":\"panel.models.markup.HTML\"}],\"root_ids\":[\"1161\",\"1162\"]},\"title\":\"Bokeh Application\",\"version\":\"2.3.3\"}};\n",
       "    var render_items = [{\"docid\":\"40db49ad-8488-4443-b9c6-6f2b5f0dcadd\",\"root_ids\":[\"1161\"],\"roots\":{\"1161\":\"c46fba08-72c7-46ac-b537-7be1f89caa7e\"}}];\n",
       "    root.Bokeh.embed.embed_items_notebook(docs_json, render_items);\n",
       "  }\n",
       "  if (root.Bokeh !== undefined && root.Bokeh.Panel !== undefined) {\n",
       "    embed_document(root);\n",
       "  } else {\n",
       "    var attempts = 0;\n",
       "    var timer = setInterval(function(root) {\n",
       "      if (root.Bokeh !== undefined && root.Bokeh.Panel !== undefined) {\n",
       "        clearInterval(timer);\n",
       "        embed_document(root);\n",
       "      } else if (document.readyState == \"complete\") {\n",
       "        attempts++;\n",
       "        if (attempts > 100) {\n",
       "          clearInterval(timer);\n",
       "          console.log(\"Bokeh: ERROR: Unable to run BokehJS code because BokehJS library is missing\");\n",
       "        }\n",
       "      }\n",
       "    }, 10, root)\n",
       "  }\n",
       "})(window);</script>"
      ],
      "text/plain": [
       "Alert(str, alert_type='secondary', css_classes=['alert', 'alert-secondary...], margin=(0, 0, 25, 0), sizing_mode='stretch_width')"
      ]
     },
     "metadata": {
      "application/vnd.holoviews_exec.v0+json": {
       "id": "1161"
      }
     },
     "output_type": "display_data"
    },
    {
     "data": {},
     "metadata": {},
     "output_type": "display_data"
    },
    {
     "data": {
      "application/vnd.holoviews_exec.v0+json": "",
      "text/html": [
       "<div id='1163'>\n",
       "\n",
       "\n",
       "\n",
       "\n",
       "\n",
       "  <div class=\"bk-root\" id=\"fa3e27ae-b536-49a0-ab42-250e5dbec966\" data-root-id=\"1163\"></div>\n",
       "</div>\n",
       "<script type=\"application/javascript\">(function(root) {\n",
       "  function embed_document(root) {\n",
       "    var docs_json = {\"02dd97b8-6d29-4fd2-8498-2a9c082d86d6\":{\"defs\":[],\"roots\":{\"references\":[{\"attributes\":{\"css_classes\":[\"alert\",\"alert-success\",\"markdown\"],\"margin\":[0,0,25,0],\"name\":\"Alert00391\",\"sizing_mode\":\"stretch_width\",\"text\":\"&lt;p&gt;Compiling successfully done. See /home/christine/Documents/These/frangiPANeGIT/frangiPANe_rice/01-mapping_against_reference//stat/all_flagstat.csv&lt;/p&gt;\"},\"id\":\"1163\",\"type\":\"panel.models.markup.HTML\"},{\"attributes\":{\"client_comm_id\":\"0471bd0d7e0f482890add92238618223\",\"comm_id\":\"b08ddbc9e7924c28884036f10479d44f\",\"plot_id\":\"1163\"},\"id\":\"1164\",\"type\":\"panel.models.comm_manager.CommManager\"}],\"root_ids\":[\"1163\",\"1164\"]},\"title\":\"Bokeh Application\",\"version\":\"2.3.3\"}};\n",
       "    var render_items = [{\"docid\":\"02dd97b8-6d29-4fd2-8498-2a9c082d86d6\",\"root_ids\":[\"1163\"],\"roots\":{\"1163\":\"fa3e27ae-b536-49a0-ab42-250e5dbec966\"}}];\n",
       "    root.Bokeh.embed.embed_items_notebook(docs_json, render_items);\n",
       "  }\n",
       "  if (root.Bokeh !== undefined && root.Bokeh.Panel !== undefined) {\n",
       "    embed_document(root);\n",
       "  } else {\n",
       "    var attempts = 0;\n",
       "    var timer = setInterval(function(root) {\n",
       "      if (root.Bokeh !== undefined && root.Bokeh.Panel !== undefined) {\n",
       "        clearInterval(timer);\n",
       "        embed_document(root);\n",
       "      } else if (document.readyState == \"complete\") {\n",
       "        attempts++;\n",
       "        if (attempts > 100) {\n",
       "          clearInterval(timer);\n",
       "          console.log(\"Bokeh: ERROR: Unable to run BokehJS code because BokehJS library is missing\");\n",
       "        }\n",
       "      }\n",
       "    }, 10, root)\n",
       "  }\n",
       "})(window);</script>"
      ],
      "text/plain": [
       "Alert(str, alert_type='success', css_classes=['alert', 'alert-success']...], margin=(0, 0, 25, 0), sizing_mode='stretch_width')"
      ]
     },
     "metadata": {
      "application/vnd.holoviews_exec.v0+json": {
       "id": "1163"
      }
     },
     "output_type": "display_data"
    },
    {
     "data": {},
     "metadata": {},
     "output_type": "display_data"
    },
    {
     "data": {
      "application/vnd.holoviews_exec.v0+json": "",
      "text/html": [
       "<div id='1165'>\n",
       "\n",
       "\n",
       "\n",
       "\n",
       "\n",
       "  <div class=\"bk-root\" id=\"007ed479-5807-4caf-9a4f-c222342adba4\" data-root-id=\"1165\"></div>\n",
       "</div>\n",
       "<script type=\"application/javascript\">(function(root) {\n",
       "  function embed_document(root) {\n",
       "    var docs_json = {\"033da0cc-a8a4-4b68-904f-851ea2f21f5c\":{\"defs\":[],\"roots\":{\"references\":[{\"attributes\":{\"client_comm_id\":\"bc322bf1140a42c38b278f9c3a698ede\",\"comm_id\":\"c4d4c449f77b4feaa0ce5a33e5cfc603\",\"plot_id\":\"1165\"},\"id\":\"1186\",\"type\":\"panel.models.comm_manager.CommManager\"},{\"attributes\":{\"css_classes\":[\"markdown\"],\"margin\":[5,5,5,5],\"name\":\"Markdown00406\",\"text\":\"&lt;p&gt;&lt;br /&gt;&lt;/p&gt;\\n&lt;ul&gt;\\n&lt;li&gt;min - max : 50.99 - 99.2 %&lt;/li&gt;\\n&lt;li&gt;mean : 68.46&lt;/li&gt;\\n&lt;/ul&gt;\"},\"id\":\"1174\",\"type\":\"panel.models.markup.HTML\"},{\"attributes\":{\"margin\":[5,5,5,5],\"name\":\"DataFrame00409\",\"text\":\"&lt;table border=&quot;0&quot; class=&quot;dataframe panel-df&quot;&gt;\\n  &lt;thead&gt;\\n    &lt;tr&gt;\\n      &lt;th&gt;&lt;/th&gt;\\n      &lt;th colspan=&quot;3&quot; halign=&quot;left&quot;&gt;UNMAPPED&lt;/th&gt;\\n    &lt;/tr&gt;\\n    &lt;tr&gt;\\n      &lt;th&gt;&lt;/th&gt;\\n      &lt;th&gt;mean&lt;/th&gt;\\n      &lt;th&gt;min&lt;/th&gt;\\n      &lt;th&gt;max&lt;/th&gt;\\n    &lt;/tr&gt;\\n    &lt;tr&gt;\\n      &lt;th&gt;Species&lt;/th&gt;\\n      &lt;th&gt;&lt;/th&gt;\\n      &lt;th&gt;&lt;/th&gt;\\n      &lt;th&gt;&lt;/th&gt;\\n    &lt;/tr&gt;\\n  &lt;/thead&gt;\\n  &lt;tbody&gt;\\n    &lt;tr&gt;\\n      &lt;th&gt;O. barthii&lt;/th&gt;\\n      &lt;td&gt;5.51&lt;/td&gt;\\n      &lt;td&gt;5.24&lt;/td&gt;\\n      &lt;td&gt;5.78&lt;/td&gt;\\n    &lt;/tr&gt;\\n    &lt;tr&gt;\\n      &lt;th&gt;O. glaberrima&lt;/th&gt;\\n      &lt;td&gt;0.00&lt;/td&gt;\\n      &lt;td&gt;0.00&lt;/td&gt;\\n      &lt;td&gt;0.00&lt;/td&gt;\\n    &lt;/tr&gt;\\n  &lt;/tbody&gt;\\n&lt;/table&gt;\",\"width\":400},\"id\":\"1179\",\"type\":\"panel.models.markup.HTML\"},{\"attributes\":{\"margin\":[0,20,0,0],\"options\":[\"O. barthii\",\"O. glaberrima\"],\"placeholder\":\"\",\"title\":\"Group\"},\"id\":\"1182\",\"type\":\"MultiChoice\"},{\"attributes\":{\"background\":\"WhiteSmoke\",\"children\":[{\"id\":\"1166\"},{\"id\":\"1167\"},{\"id\":\"1168\"},{\"id\":\"1169\"},{\"id\":\"1172\"},{\"id\":\"1173\"},{\"id\":\"1176\"},{\"id\":\"1177\"},{\"id\":\"1180\"},{\"id\":\"1181\"},{\"id\":\"1184\"}],\"margin\":[0,0,0,0],\"name\":\"Column00430\",\"sizing_mode\":\"stretch_both\",\"width\":800},\"id\":\"1165\",\"type\":\"Column\"},{\"attributes\":{\"css_classes\":[\"markdown\"],\"margin\":[5,5,5,5],\"name\":\"Markdown00424\",\"text\":\"&lt;p&gt;&lt;br /&gt;&lt;hr&gt;&lt;br /&gt;&lt;/p&gt;\\n&lt;h3&gt;Reads mapped properly paired&lt;/h3&gt;\"},\"id\":\"1172\",\"type\":\"panel.models.markup.HTML\"},{\"attributes\":{\"css_classes\":[\"markdown\"],\"margin\":[5,5,5,5],\"name\":\"Markdown00411\",\"text\":\"&lt;p&gt;&lt;br /&gt;&lt;/p&gt;\\n&lt;ul&gt;\\n&lt;li&gt;min - max : 0.0 - 5.78 %&lt;/li&gt;\\n&lt;li&gt;mean : 3.67&lt;/li&gt;\\n&lt;/ul&gt;\"},\"id\":\"1178\",\"type\":\"panel.models.markup.HTML\"},{\"attributes\":{\"children\":[{\"id\":\"1178\"},{\"id\":\"1179\"}],\"margin\":[0,0,0,0],\"name\":\"Row00413\"},\"id\":\"1177\",\"type\":\"Row\"},{\"attributes\":{\"children\":[{\"id\":\"1185\"}],\"margin\":[0,0,0,0],\"max_height\":400,\"min_width\":400,\"name\":\"Row00419\",\"width\":400},\"id\":\"1184\",\"type\":\"Row\"},{\"attributes\":{\"css_classes\":[\"markdown\"],\"margin\":[5,5,5,5],\"name\":\"Markdown00422\",\"text\":\"&lt;p&gt;&lt;br /&gt;&lt;hr&gt;&lt;br /&gt;&lt;/p&gt;\\n&lt;h3&gt;Reads mapped&lt;/h3&gt;\"},\"id\":\"1168\",\"type\":\"panel.models.markup.HTML\"},{\"attributes\":{\"css_classes\":[\"markdown\"],\"margin\":[5,5,5,5],\"name\":\"Markdown00426\",\"text\":\"&lt;p&gt;&lt;br /&gt;&lt;hr&gt;&lt;br /&gt;&lt;/p&gt;\\n&lt;h3&gt;Reads unmapped&lt;/h3&gt;\"},\"id\":\"1176\",\"type\":\"panel.models.markup.HTML\"},{\"attributes\":{\"margin\":[0,20,0,0],\"options\":[\"AA\",\"AB\",\"DT\"],\"placeholder\":\"\",\"title\":\"Sample\"},\"id\":\"1183\",\"type\":\"MultiChoice\"},{\"attributes\":{\"margin\":[5,5,5,5],\"name\":\"DataFrame00399\",\"text\":\"&lt;table border=&quot;0&quot; class=&quot;dataframe panel-df&quot;&gt;\\n  &lt;thead&gt;\\n    &lt;tr&gt;\\n      &lt;th&gt;&lt;/th&gt;\\n      &lt;th colspan=&quot;3&quot; halign=&quot;left&quot;&gt;MAPPED&lt;/th&gt;\\n    &lt;/tr&gt;\\n    &lt;tr&gt;\\n      &lt;th&gt;&lt;/th&gt;\\n      &lt;th&gt;mean&lt;/th&gt;\\n      &lt;th&gt;min&lt;/th&gt;\\n      &lt;th&gt;max&lt;/th&gt;\\n    &lt;/tr&gt;\\n    &lt;tr&gt;\\n      &lt;th&gt;Species&lt;/th&gt;\\n      &lt;th&gt;&lt;/th&gt;\\n      &lt;th&gt;&lt;/th&gt;\\n      &lt;th&gt;&lt;/th&gt;\\n    &lt;/tr&gt;\\n  &lt;/thead&gt;\\n  &lt;tbody&gt;\\n    &lt;tr&gt;\\n      &lt;th&gt;O. barthii&lt;/th&gt;\\n      &lt;td&gt;86.85&lt;/td&gt;\\n      &lt;td&gt;86.35&lt;/td&gt;\\n      &lt;td&gt;87.35&lt;/td&gt;\\n    &lt;/tr&gt;\\n    &lt;tr&gt;\\n      &lt;th&gt;O. glaberrima&lt;/th&gt;\\n      &lt;td&gt;100.00&lt;/td&gt;\\n      &lt;td&gt;100.00&lt;/td&gt;\\n      &lt;td&gt;100.00&lt;/td&gt;\\n    &lt;/tr&gt;\\n  &lt;/tbody&gt;\\n&lt;/table&gt;\",\"width\":400},\"id\":\"1171\",\"type\":\"panel.models.markup.HTML\"},{\"attributes\":{\"children\":[{\"id\":\"1174\"},{\"id\":\"1175\"}],\"margin\":[0,0,0,0],\"name\":\"Row00408\"},\"id\":\"1173\",\"type\":\"Row\"},{\"attributes\":{\"css_classes\":[\"markdown\"],\"margin\":[5,5,5,5],\"name\":\"Markdown00401\",\"text\":\"&lt;p&gt;&lt;br /&gt;&lt;/p&gt;\\n&lt;ul&gt;\\n&lt;li&gt;min - max : 86.35 - 100.0 %&lt;/li&gt;\\n&lt;li&gt;mean : 91.23&lt;/li&gt;\\n&lt;/ul&gt;\"},\"id\":\"1170\",\"type\":\"panel.models.markup.HTML\"},{\"attributes\":{\"height\":288,\"margin\":[5,5,5,5],\"name\":\"Matplotlib00428\",\"text\":\"&lt;img src=&quot;data:image/png;base64,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&quot; width=&quot;432px&quot; height=&quot;288px&quot; alt=&quot;&quot;&gt;&lt;/img&gt;\",\"width\":432},\"id\":\"1180\",\"type\":\"panel.models.markup.HTML\"},{\"attributes\":{\"margin\":[5,5,5,5],\"name\":\"DataFrame00404\",\"text\":\"&lt;table border=&quot;0&quot; class=&quot;dataframe panel-df&quot;&gt;\\n  &lt;thead&gt;\\n    &lt;tr&gt;\\n      &lt;th&gt;&lt;/th&gt;\\n      &lt;th colspan=&quot;3&quot; halign=&quot;left&quot;&gt;PAIRED&lt;/th&gt;\\n    &lt;/tr&gt;\\n    &lt;tr&gt;\\n      &lt;th&gt;&lt;/th&gt;\\n      &lt;th&gt;mean&lt;/th&gt;\\n      &lt;th&gt;min&lt;/th&gt;\\n      &lt;th&gt;max&lt;/th&gt;\\n    &lt;/tr&gt;\\n    &lt;tr&gt;\\n      &lt;th&gt;Species&lt;/th&gt;\\n      &lt;th&gt;&lt;/th&gt;\\n      &lt;th&gt;&lt;/th&gt;\\n      &lt;th&gt;&lt;/th&gt;\\n    &lt;/tr&gt;\\n  &lt;/thead&gt;\\n  &lt;tbody&gt;\\n    &lt;tr&gt;\\n      &lt;th&gt;O. barthii&lt;/th&gt;\\n      &lt;td&gt;53.09&lt;/td&gt;\\n      &lt;td&gt;50.99&lt;/td&gt;\\n      &lt;td&gt;55.19&lt;/td&gt;\\n    &lt;/tr&gt;\\n    &lt;tr&gt;\\n      &lt;th&gt;O. glaberrima&lt;/th&gt;\\n      &lt;td&gt;99.20&lt;/td&gt;\\n      &lt;td&gt;99.20&lt;/td&gt;\\n      &lt;td&gt;99.20&lt;/td&gt;\\n    &lt;/tr&gt;\\n  &lt;/tbody&gt;\\n&lt;/table&gt;\",\"width\":400},\"id\":\"1175\",\"type\":\"panel.models.markup.HTML\"},{\"attributes\":{\"children\":[{\"id\":\"1170\"},{\"id\":\"1171\"}],\"margin\":[0,0,0,0],\"name\":\"Row00403\"},\"id\":\"1169\",\"type\":\"Row\"},{\"attributes\":{\"css_classes\":[\"markdown\"],\"margin\":[5,5,5,5],\"name\":\"Markdown00397\",\"text\":\"&lt;table&gt;\\n&lt;thead&gt;\\n&lt;tr&gt;\\n&lt;th align=&quot;left&quot;&gt;Samples by group&lt;/th&gt;\\n&lt;th align=&quot;center&quot;&gt;&lt;/th&gt;\\n&lt;/tr&gt;\\n&lt;/thead&gt;\\n&lt;tbody&gt;\\n&lt;tr&gt;\\n&lt;td align=&quot;left&quot;&gt;O. barthii :&lt;/td&gt;\\n&lt;td align=&quot;center&quot;&gt;2 samples&lt;/td&gt;\\n&lt;/tr&gt;\\n&lt;tr&gt;\\n&lt;td align=&quot;left&quot;&gt;O. glaberrima :&lt;/td&gt;\\n&lt;td align=&quot;center&quot;&gt;1 samples&lt;/td&gt;\\n&lt;/tr&gt;\\n&lt;/tbody&gt;\\n&lt;/table&gt;\"},\"id\":\"1167\",\"type\":\"panel.models.markup.HTML\"},{\"attributes\":{\"margin\":[5,5,5,5],\"name\":\"Str00417\"},\"id\":\"1185\",\"type\":\"panel.models.markup.HTML\"},{\"attributes\":{\"children\":[{\"id\":\"1182\"},{\"id\":\"1183\"}],\"margin\":[0,0,0,0],\"name\":\"Row00414\"},\"id\":\"1181\",\"type\":\"Row\"},{\"attributes\":{\"css_classes\":[\"markdown\"],\"margin\":[5,5,5,5],\"name\":\"Markdown00420\",\"text\":\"&lt;h1&gt;Some statistics about mapping step&lt;/h1&gt;\"},\"id\":\"1166\",\"type\":\"panel.models.markup.HTML\"}],\"root_ids\":[\"1165\",\"1186\"]},\"title\":\"Bokeh Application\",\"version\":\"2.3.3\"}};\n",
       "    var render_items = [{\"docid\":\"033da0cc-a8a4-4b68-904f-851ea2f21f5c\",\"root_ids\":[\"1165\"],\"roots\":{\"1165\":\"007ed479-5807-4caf-9a4f-c222342adba4\"}}];\n",
       "    root.Bokeh.embed.embed_items_notebook(docs_json, render_items);\n",
       "  }\n",
       "  if (root.Bokeh !== undefined && root.Bokeh.Panel !== undefined) {\n",
       "    embed_document(root);\n",
       "  } else {\n",
       "    var attempts = 0;\n",
       "    var timer = setInterval(function(root) {\n",
       "      if (root.Bokeh !== undefined && root.Bokeh.Panel !== undefined) {\n",
       "        clearInterval(timer);\n",
       "        embed_document(root);\n",
       "      } else if (document.readyState == \"complete\") {\n",
       "        attempts++;\n",
       "        if (attempts > 100) {\n",
       "          clearInterval(timer);\n",
       "          console.log(\"Bokeh: ERROR: Unable to run BokehJS code because BokehJS library is missing\");\n",
       "        }\n",
       "      }\n",
       "    }, 10, root)\n",
       "  }\n",
       "})(window);</script>"
      ],
      "text/plain": [
       "Column(background='WhiteSmoke', sizing_mode='stretch_both', width=800)\n",
       "    [0] Markdown(str)\n",
       "    [1] Markdown(str)\n",
       "    [2] Markdown(str)\n",
       "    [3] Row\n",
       "        [0] Markdown(str)\n",
       "        [1] DataFrame(DataFrame, width=400)\n",
       "    [4] Markdown(str)\n",
       "    [5] Row\n",
       "        [0] Markdown(str)\n",
       "        [1] DataFrame(DataFrame, width=400)\n",
       "    [6] Markdown(str)\n",
       "    [7] Row\n",
       "        [0] Markdown(str)\n",
       "        [1] DataFrame(DataFrame, width=400)\n",
       "    [8] Matplotlib(Figure)\n",
       "    [9] Row\n",
       "        [0] MultiChoice(margin=(0, 20, 0, 0), name='Group', options=['O. barthii', ...])\n",
       "        [1] MultiChoice(margin=(0, 20, 0, 0), name='Sample', options=['AA', 'AB', 'DT'])\n",
       "    [10] ParamFunction(function, max_height=400, width=400)"
      ]
     },
     "metadata": {
      "application/vnd.holoviews_exec.v0+json": {
       "id": "1165"
      }
     },
     "output_type": "display_data"
    }
   ],
   "source": [
    "bgc('LightBlue')\n",
    "\n",
    "stat_dir = output_mapping_dir + \"/stat/\"\n",
    "make_dir(stat_dir)\n",
    "\n",
    "logger.info(f\"MAPPING STAT :\")\n",
    "logger.info(f\"\\t\\tMapping stat directory : {stat_dir}\")\n",
    "\n",
    "for file_name in os.listdir(output_mapping_dir):\n",
    "    if \".bam\" in file_name:\n",
    "        samtools_flagstat(os.path.join(output_mapping_dir,file_name), stat_dir,logger)\n",
    "\n",
    "#### __Compiling stats into a unique tabulated file__\n",
    "merge_flagstat(output_dir=stat_dir, logger=logger)\n",
    "\n",
    "### Dashboard\n",
    "stat_file = stat_dir + \"all_flagstat.csv\"\n",
    "dashboard_flagstat(stat_file,df_group)"
   ]
  },
  {
   "cell_type": "markdown",
   "metadata": {},
   "source": [
    "[<img src=\"Images/up-arrow.png\" alt=\"Top\" width=2% align=\"right\">](#home \"Go back to the top\")\n",
    "\n",
    "\n",
    "### <span style=\"color: #919395\">3 - Assembly of the individuals' reads that do not map (properly) on the reference genome <a class=\"anchor\" id=\"assembly\"></a></span>\n",
    "\n",
    "#### __Extracting unmapped reads with `samtools view`__ \n",
    "\n",
    "Options de samtools view : -b -h -F -@ -o"
   ]
  },
  {
   "cell_type": "code",
   "execution_count": 9,
   "metadata": {},
   "outputs": [
    {
     "data": {
      "text/html": [
       "<img src onerror=\"var cell = this.closest('.jp-CodeCell');var editor = cell.querySelector('.jp-Editor');editor.style.background='LightBlue';this.parentNode.removeChild(this)\">"
      ],
      "text/plain": [
       "<IPython.core.display.HTML object>"
      ]
     },
     "metadata": {},
     "output_type": "display_data"
    },
    {
     "data": {},
     "metadata": {},
     "output_type": "display_data"
    },
    {
     "data": {
      "application/vnd.holoviews_exec.v0+json": "",
      "text/html": [
       "<div id='1187'>\n",
       "\n",
       "\n",
       "\n",
       "\n",
       "\n",
       "  <div class=\"bk-root\" id=\"6b6decf9-5980-4816-af22-fd7d659bc492\" data-root-id=\"1187\"></div>\n",
       "</div>\n",
       "<script type=\"application/javascript\">(function(root) {\n",
       "  function embed_document(root) {\n",
       "    var docs_json = {\"6127eaa5-3fb4-4fe6-bf96-00b4093c0b67\":{\"defs\":[],\"roots\":{\"references\":[{\"attributes\":{\"css_classes\":[\"alert\",\"alert-success\",\"markdown\"],\"margin\":[0,0,25,0],\"name\":\"Alert00433\",\"sizing_mode\":\"stretch_width\",\"text\":\"&lt;p&gt;Directory /home/christine/Documents/These/frangiPANeGIT/frangiPANe_rice/02-assembly_unmapped_reads/ created&lt;/p&gt;\"},\"id\":\"1187\",\"type\":\"panel.models.markup.HTML\"},{\"attributes\":{\"client_comm_id\":\"9907e36756504d77b0059db230b2a98b\",\"comm_id\":\"d5427a221d874ac0815fc2f6be23f3ea\",\"plot_id\":\"1187\"},\"id\":\"1188\",\"type\":\"panel.models.comm_manager.CommManager\"}],\"root_ids\":[\"1187\",\"1188\"]},\"title\":\"Bokeh Application\",\"version\":\"2.3.3\"}};\n",
       "    var render_items = [{\"docid\":\"6127eaa5-3fb4-4fe6-bf96-00b4093c0b67\",\"root_ids\":[\"1187\"],\"roots\":{\"1187\":\"6b6decf9-5980-4816-af22-fd7d659bc492\"}}];\n",
       "    root.Bokeh.embed.embed_items_notebook(docs_json, render_items);\n",
       "  }\n",
       "  if (root.Bokeh !== undefined && root.Bokeh.Panel !== undefined) {\n",
       "    embed_document(root);\n",
       "  } else {\n",
       "    var attempts = 0;\n",
       "    var timer = setInterval(function(root) {\n",
       "      if (root.Bokeh !== undefined && root.Bokeh.Panel !== undefined) {\n",
       "        clearInterval(timer);\n",
       "        embed_document(root);\n",
       "      } else if (document.readyState == \"complete\") {\n",
       "        attempts++;\n",
       "        if (attempts > 100) {\n",
       "          clearInterval(timer);\n",
       "          console.log(\"Bokeh: ERROR: Unable to run BokehJS code because BokehJS library is missing\");\n",
       "        }\n",
       "      }\n",
       "    }, 10, root)\n",
       "  }\n",
       "})(window);</script>"
      ],
      "text/plain": [
       "Alert(str, alert_type='success', css_classes=['alert', 'alert-success']...], margin=(0, 0, 25, 0), sizing_mode='stretch_width')"
      ]
     },
     "metadata": {
      "application/vnd.holoviews_exec.v0+json": {
       "id": "1187"
      }
     },
     "output_type": "display_data"
    },
    {
     "data": {},
     "metadata": {},
     "output_type": "display_data"
    },
    {
     "data": {
      "application/vnd.holoviews_exec.v0+json": "",
      "text/html": [
       "<div id='1189'>\n",
       "\n",
       "\n",
       "\n",
       "\n",
       "\n",
       "  <div class=\"bk-root\" id=\"9f4b4cad-a528-4d1b-a053-347a8b26c492\" data-root-id=\"1189\"></div>\n",
       "</div>\n",
       "<script type=\"application/javascript\">(function(root) {\n",
       "  function embed_document(root) {\n",
       "    var docs_json = {\"6f31e361-bf0b-493e-9827-95fd2839e819\":{\"defs\":[],\"roots\":{\"references\":[{\"attributes\":{\"css_classes\":[\"alert\",\"alert-success\",\"markdown\"],\"margin\":[0,0,25,0],\"name\":\"Alert00437\",\"sizing_mode\":\"stretch_width\",\"text\":\"&lt;p&gt;Directory /home/christine/Documents/These/frangiPANeGIT/frangiPANe_rice/02-assembly_unmapped_reads/bam_F0x2/ created&lt;/p&gt;\"},\"id\":\"1189\",\"type\":\"panel.models.markup.HTML\"},{\"attributes\":{\"client_comm_id\":\"e17d27d2e0084f56b782466592b600ef\",\"comm_id\":\"9bd08946c36b44d6ae55d47eb3f08e18\",\"plot_id\":\"1189\"},\"id\":\"1190\",\"type\":\"panel.models.comm_manager.CommManager\"}],\"root_ids\":[\"1189\",\"1190\"]},\"title\":\"Bokeh Application\",\"version\":\"2.3.3\"}};\n",
       "    var render_items = [{\"docid\":\"6f31e361-bf0b-493e-9827-95fd2839e819\",\"root_ids\":[\"1189\"],\"roots\":{\"1189\":\"9f4b4cad-a528-4d1b-a053-347a8b26c492\"}}];\n",
       "    root.Bokeh.embed.embed_items_notebook(docs_json, render_items);\n",
       "  }\n",
       "  if (root.Bokeh !== undefined && root.Bokeh.Panel !== undefined) {\n",
       "    embed_document(root);\n",
       "  } else {\n",
       "    var attempts = 0;\n",
       "    var timer = setInterval(function(root) {\n",
       "      if (root.Bokeh !== undefined && root.Bokeh.Panel !== undefined) {\n",
       "        clearInterval(timer);\n",
       "        embed_document(root);\n",
       "      } else if (document.readyState == \"complete\") {\n",
       "        attempts++;\n",
       "        if (attempts > 100) {\n",
       "          clearInterval(timer);\n",
       "          console.log(\"Bokeh: ERROR: Unable to run BokehJS code because BokehJS library is missing\");\n",
       "        }\n",
       "      }\n",
       "    }, 10, root)\n",
       "  }\n",
       "})(window);</script>"
      ],
      "text/plain": [
       "Alert(str, alert_type='success', css_classes=['alert', 'alert-success']...], margin=(0, 0, 25, 0), sizing_mode='stretch_width')"
      ]
     },
     "metadata": {
      "application/vnd.holoviews_exec.v0+json": {
       "id": "1189"
      }
     },
     "output_type": "display_data"
    },
    {
     "data": {},
     "metadata": {},
     "output_type": "display_data"
    },
    {
     "data": {
      "application/vnd.holoviews_exec.v0+json": "",
      "text/html": [
       "<div id='1191'>\n",
       "\n",
       "\n",
       "\n",
       "\n",
       "\n",
       "  <div class=\"bk-root\" id=\"035c250b-f8e5-4720-a700-88f2e704e6fe\" data-root-id=\"1191\"></div>\n",
       "</div>\n",
       "<script type=\"application/javascript\">(function(root) {\n",
       "  function embed_document(root) {\n",
       "    var docs_json = {\"e8a1f4f7-35e7-4e98-b8db-650b2ca3b9b5\":{\"defs\":[],\"roots\":{\"references\":[{\"attributes\":{\"css_classes\":[\"alert\",\"alert-secondary\",\"markdown\"],\"margin\":[0,0,25,0],\"name\":\"Alert00441\",\"sizing_mode\":\"stretch_width\",\"text\":\"&lt;p&gt;Filtering /home/christine/Documents/These/frangiPANeGIT/frangiPANe_rice/01-mapping_against_reference/AA.bam in progress&amp;hellip;&lt;/p&gt;\"},\"id\":\"1191\",\"type\":\"panel.models.markup.HTML\"},{\"attributes\":{\"client_comm_id\":\"146dae8074c04b919566dfd15c2ddcbc\",\"comm_id\":\"736c406608674edbae697f6ab46501ac\",\"plot_id\":\"1191\"},\"id\":\"1192\",\"type\":\"panel.models.comm_manager.CommManager\"}],\"root_ids\":[\"1191\",\"1192\"]},\"title\":\"Bokeh Application\",\"version\":\"2.3.3\"}};\n",
       "    var render_items = [{\"docid\":\"e8a1f4f7-35e7-4e98-b8db-650b2ca3b9b5\",\"root_ids\":[\"1191\"],\"roots\":{\"1191\":\"035c250b-f8e5-4720-a700-88f2e704e6fe\"}}];\n",
       "    root.Bokeh.embed.embed_items_notebook(docs_json, render_items);\n",
       "  }\n",
       "  if (root.Bokeh !== undefined && root.Bokeh.Panel !== undefined) {\n",
       "    embed_document(root);\n",
       "  } else {\n",
       "    var attempts = 0;\n",
       "    var timer = setInterval(function(root) {\n",
       "      if (root.Bokeh !== undefined && root.Bokeh.Panel !== undefined) {\n",
       "        clearInterval(timer);\n",
       "        embed_document(root);\n",
       "      } else if (document.readyState == \"complete\") {\n",
       "        attempts++;\n",
       "        if (attempts > 100) {\n",
       "          clearInterval(timer);\n",
       "          console.log(\"Bokeh: ERROR: Unable to run BokehJS code because BokehJS library is missing\");\n",
       "        }\n",
       "      }\n",
       "    }, 10, root)\n",
       "  }\n",
       "})(window);</script>"
      ],
      "text/plain": [
       "Alert(str, alert_type='secondary', css_classes=['alert', 'alert-secondary...], margin=(0, 0, 25, 0), sizing_mode='stretch_width')"
      ]
     },
     "metadata": {
      "application/vnd.holoviews_exec.v0+json": {
       "id": "1191"
      }
     },
     "output_type": "display_data"
    },
    {
     "data": {},
     "metadata": {},
     "output_type": "display_data"
    },
    {
     "data": {
      "application/vnd.holoviews_exec.v0+json": "",
      "text/html": [
       "<div id='1193'>\n",
       "\n",
       "\n",
       "\n",
       "\n",
       "\n",
       "  <div class=\"bk-root\" id=\"b48f385f-86d1-4fe4-b7ed-1c1a920206c7\" data-root-id=\"1193\"></div>\n",
       "</div>\n",
       "<script type=\"application/javascript\">(function(root) {\n",
       "  function embed_document(root) {\n",
       "    var docs_json = {\"1822110d-413e-49b5-8e5f-a6bb66530086\":{\"defs\":[],\"roots\":{\"references\":[{\"attributes\":{\"client_comm_id\":\"1599741ad97b4983b28b1de427fa7be2\",\"comm_id\":\"1580cdf7cc3342179837c86d7760f563\",\"plot_id\":\"1193\"},\"id\":\"1194\",\"type\":\"panel.models.comm_manager.CommManager\"},{\"attributes\":{\"css_classes\":[\"alert\",\"alert-success\",\"markdown\"],\"margin\":[0,0,25,0],\"name\":\"Alert00445\",\"sizing_mode\":\"stretch_width\",\"text\":\"&lt;p&gt;Filtering bam executed sucessfully&lt;/p&gt;\"},\"id\":\"1193\",\"type\":\"panel.models.markup.HTML\"}],\"root_ids\":[\"1193\",\"1194\"]},\"title\":\"Bokeh Application\",\"version\":\"2.3.3\"}};\n",
       "    var render_items = [{\"docid\":\"1822110d-413e-49b5-8e5f-a6bb66530086\",\"root_ids\":[\"1193\"],\"roots\":{\"1193\":\"b48f385f-86d1-4fe4-b7ed-1c1a920206c7\"}}];\n",
       "    root.Bokeh.embed.embed_items_notebook(docs_json, render_items);\n",
       "  }\n",
       "  if (root.Bokeh !== undefined && root.Bokeh.Panel !== undefined) {\n",
       "    embed_document(root);\n",
       "  } else {\n",
       "    var attempts = 0;\n",
       "    var timer = setInterval(function(root) {\n",
       "      if (root.Bokeh !== undefined && root.Bokeh.Panel !== undefined) {\n",
       "        clearInterval(timer);\n",
       "        embed_document(root);\n",
       "      } else if (document.readyState == \"complete\") {\n",
       "        attempts++;\n",
       "        if (attempts > 100) {\n",
       "          clearInterval(timer);\n",
       "          console.log(\"Bokeh: ERROR: Unable to run BokehJS code because BokehJS library is missing\");\n",
       "        }\n",
       "      }\n",
       "    }, 10, root)\n",
       "  }\n",
       "})(window);</script>"
      ],
      "text/plain": [
       "Alert(str, alert_type='success', css_classes=['alert', 'alert-success']...], margin=(0, 0, 25, 0), sizing_mode='stretch_width')"
      ]
     },
     "metadata": {
      "application/vnd.holoviews_exec.v0+json": {
       "id": "1193"
      }
     },
     "output_type": "display_data"
    },
    {
     "data": {},
     "metadata": {},
     "output_type": "display_data"
    },
    {
     "data": {
      "application/vnd.holoviews_exec.v0+json": "",
      "text/html": [
       "<div id='1195'>\n",
       "\n",
       "\n",
       "\n",
       "\n",
       "\n",
       "  <div class=\"bk-root\" id=\"e7bb61a5-30b0-488b-8e0b-d09e0755d53b\" data-root-id=\"1195\"></div>\n",
       "</div>\n",
       "<script type=\"application/javascript\">(function(root) {\n",
       "  function embed_document(root) {\n",
       "    var docs_json = {\"347d324a-cb81-46f2-a081-70dfdbdf8e78\":{\"defs\":[],\"roots\":{\"references\":[{\"attributes\":{\"client_comm_id\":\"abc8867ac9a549bdb848931e026ff542\",\"comm_id\":\"2724b03e7bbf44e89b2c095d8c7d7cb1\",\"plot_id\":\"1195\"},\"id\":\"1196\",\"type\":\"panel.models.comm_manager.CommManager\"},{\"attributes\":{\"css_classes\":[\"alert\",\"alert-secondary\",\"markdown\"],\"margin\":[0,0,25,0],\"name\":\"Alert00449\",\"sizing_mode\":\"stretch_width\",\"text\":\"&lt;p&gt;Filtering /home/christine/Documents/These/frangiPANeGIT/frangiPANe_rice/01-mapping_against_reference/AB.bam in progress&amp;hellip;&lt;/p&gt;\"},\"id\":\"1195\",\"type\":\"panel.models.markup.HTML\"}],\"root_ids\":[\"1195\",\"1196\"]},\"title\":\"Bokeh Application\",\"version\":\"2.3.3\"}};\n",
       "    var render_items = [{\"docid\":\"347d324a-cb81-46f2-a081-70dfdbdf8e78\",\"root_ids\":[\"1195\"],\"roots\":{\"1195\":\"e7bb61a5-30b0-488b-8e0b-d09e0755d53b\"}}];\n",
       "    root.Bokeh.embed.embed_items_notebook(docs_json, render_items);\n",
       "  }\n",
       "  if (root.Bokeh !== undefined && root.Bokeh.Panel !== undefined) {\n",
       "    embed_document(root);\n",
       "  } else {\n",
       "    var attempts = 0;\n",
       "    var timer = setInterval(function(root) {\n",
       "      if (root.Bokeh !== undefined && root.Bokeh.Panel !== undefined) {\n",
       "        clearInterval(timer);\n",
       "        embed_document(root);\n",
       "      } else if (document.readyState == \"complete\") {\n",
       "        attempts++;\n",
       "        if (attempts > 100) {\n",
       "          clearInterval(timer);\n",
       "          console.log(\"Bokeh: ERROR: Unable to run BokehJS code because BokehJS library is missing\");\n",
       "        }\n",
       "      }\n",
       "    }, 10, root)\n",
       "  }\n",
       "})(window);</script>"
      ],
      "text/plain": [
       "Alert(str, alert_type='secondary', css_classes=['alert', 'alert-secondary...], margin=(0, 0, 25, 0), sizing_mode='stretch_width')"
      ]
     },
     "metadata": {
      "application/vnd.holoviews_exec.v0+json": {
       "id": "1195"
      }
     },
     "output_type": "display_data"
    },
    {
     "data": {},
     "metadata": {},
     "output_type": "display_data"
    },
    {
     "data": {
      "application/vnd.holoviews_exec.v0+json": "",
      "text/html": [
       "<div id='1197'>\n",
       "\n",
       "\n",
       "\n",
       "\n",
       "\n",
       "  <div class=\"bk-root\" id=\"65a261c6-881b-41f0-901b-35b313869f16\" data-root-id=\"1197\"></div>\n",
       "</div>\n",
       "<script type=\"application/javascript\">(function(root) {\n",
       "  function embed_document(root) {\n",
       "    var docs_json = {\"e7c6c08e-fe94-4b3b-9ea9-89ff375eaac7\":{\"defs\":[],\"roots\":{\"references\":[{\"attributes\":{\"css_classes\":[\"alert\",\"alert-success\",\"markdown\"],\"margin\":[0,0,25,0],\"name\":\"Alert00453\",\"sizing_mode\":\"stretch_width\",\"text\":\"&lt;p&gt;Filtering bam executed sucessfully&lt;/p&gt;\"},\"id\":\"1197\",\"type\":\"panel.models.markup.HTML\"},{\"attributes\":{\"client_comm_id\":\"25b5a8705aa643dda98615a71e0e0812\",\"comm_id\":\"70634e028fd04097ae3983edefb4e305\",\"plot_id\":\"1197\"},\"id\":\"1198\",\"type\":\"panel.models.comm_manager.CommManager\"}],\"root_ids\":[\"1197\",\"1198\"]},\"title\":\"Bokeh Application\",\"version\":\"2.3.3\"}};\n",
       "    var render_items = [{\"docid\":\"e7c6c08e-fe94-4b3b-9ea9-89ff375eaac7\",\"root_ids\":[\"1197\"],\"roots\":{\"1197\":\"65a261c6-881b-41f0-901b-35b313869f16\"}}];\n",
       "    root.Bokeh.embed.embed_items_notebook(docs_json, render_items);\n",
       "  }\n",
       "  if (root.Bokeh !== undefined && root.Bokeh.Panel !== undefined) {\n",
       "    embed_document(root);\n",
       "  } else {\n",
       "    var attempts = 0;\n",
       "    var timer = setInterval(function(root) {\n",
       "      if (root.Bokeh !== undefined && root.Bokeh.Panel !== undefined) {\n",
       "        clearInterval(timer);\n",
       "        embed_document(root);\n",
       "      } else if (document.readyState == \"complete\") {\n",
       "        attempts++;\n",
       "        if (attempts > 100) {\n",
       "          clearInterval(timer);\n",
       "          console.log(\"Bokeh: ERROR: Unable to run BokehJS code because BokehJS library is missing\");\n",
       "        }\n",
       "      }\n",
       "    }, 10, root)\n",
       "  }\n",
       "})(window);</script>"
      ],
      "text/plain": [
       "Alert(str, alert_type='success', css_classes=['alert', 'alert-success']...], margin=(0, 0, 25, 0), sizing_mode='stretch_width')"
      ]
     },
     "metadata": {
      "application/vnd.holoviews_exec.v0+json": {
       "id": "1197"
      }
     },
     "output_type": "display_data"
    },
    {
     "data": {},
     "metadata": {},
     "output_type": "display_data"
    },
    {
     "data": {
      "application/vnd.holoviews_exec.v0+json": "",
      "text/html": [
       "<div id='1199'>\n",
       "\n",
       "\n",
       "\n",
       "\n",
       "\n",
       "  <div class=\"bk-root\" id=\"438a5732-841a-43c0-b49b-0a0e416ce01a\" data-root-id=\"1199\"></div>\n",
       "</div>\n",
       "<script type=\"application/javascript\">(function(root) {\n",
       "  function embed_document(root) {\n",
       "    var docs_json = {\"70e56626-2e5a-4eca-944c-4817d3e42a5b\":{\"defs\":[],\"roots\":{\"references\":[{\"attributes\":{\"css_classes\":[\"alert\",\"alert-secondary\",\"markdown\"],\"margin\":[0,0,25,0],\"name\":\"Alert00457\",\"sizing_mode\":\"stretch_width\",\"text\":\"&lt;p&gt;Filtering /home/christine/Documents/These/frangiPANeGIT/frangiPANe_rice/01-mapping_against_reference/DT.bam in progress&amp;hellip;&lt;/p&gt;\"},\"id\":\"1199\",\"type\":\"panel.models.markup.HTML\"},{\"attributes\":{\"client_comm_id\":\"d9ed6b8f2bc343a8ab2d455c41ea4873\",\"comm_id\":\"e807254cd2b841f0a33392608fc021a1\",\"plot_id\":\"1199\"},\"id\":\"1200\",\"type\":\"panel.models.comm_manager.CommManager\"}],\"root_ids\":[\"1199\",\"1200\"]},\"title\":\"Bokeh Application\",\"version\":\"2.3.3\"}};\n",
       "    var render_items = [{\"docid\":\"70e56626-2e5a-4eca-944c-4817d3e42a5b\",\"root_ids\":[\"1199\"],\"roots\":{\"1199\":\"438a5732-841a-43c0-b49b-0a0e416ce01a\"}}];\n",
       "    root.Bokeh.embed.embed_items_notebook(docs_json, render_items);\n",
       "  }\n",
       "  if (root.Bokeh !== undefined && root.Bokeh.Panel !== undefined) {\n",
       "    embed_document(root);\n",
       "  } else {\n",
       "    var attempts = 0;\n",
       "    var timer = setInterval(function(root) {\n",
       "      if (root.Bokeh !== undefined && root.Bokeh.Panel !== undefined) {\n",
       "        clearInterval(timer);\n",
       "        embed_document(root);\n",
       "      } else if (document.readyState == \"complete\") {\n",
       "        attempts++;\n",
       "        if (attempts > 100) {\n",
       "          clearInterval(timer);\n",
       "          console.log(\"Bokeh: ERROR: Unable to run BokehJS code because BokehJS library is missing\");\n",
       "        }\n",
       "      }\n",
       "    }, 10, root)\n",
       "  }\n",
       "})(window);</script>"
      ],
      "text/plain": [
       "Alert(str, alert_type='secondary', css_classes=['alert', 'alert-secondary...], margin=(0, 0, 25, 0), sizing_mode='stretch_width')"
      ]
     },
     "metadata": {
      "application/vnd.holoviews_exec.v0+json": {
       "id": "1199"
      }
     },
     "output_type": "display_data"
    },
    {
     "data": {},
     "metadata": {},
     "output_type": "display_data"
    },
    {
     "data": {
      "application/vnd.holoviews_exec.v0+json": "",
      "text/html": [
       "<div id='1201'>\n",
       "\n",
       "\n",
       "\n",
       "\n",
       "\n",
       "  <div class=\"bk-root\" id=\"2fdd1b52-5f7d-4c12-a738-1829c18789c3\" data-root-id=\"1201\"></div>\n",
       "</div>\n",
       "<script type=\"application/javascript\">(function(root) {\n",
       "  function embed_document(root) {\n",
       "    var docs_json = {\"316b51b1-a90b-4479-b96a-20b6f2a265d4\":{\"defs\":[],\"roots\":{\"references\":[{\"attributes\":{\"client_comm_id\":\"55640aac4b47431b843a6139b00f61b5\",\"comm_id\":\"9d300b33f2da4ca8a80e313c4ca3a8b2\",\"plot_id\":\"1201\"},\"id\":\"1202\",\"type\":\"panel.models.comm_manager.CommManager\"},{\"attributes\":{\"css_classes\":[\"alert\",\"alert-success\",\"markdown\"],\"margin\":[0,0,25,0],\"name\":\"Alert00461\",\"sizing_mode\":\"stretch_width\",\"text\":\"&lt;p&gt;Filtering bam executed sucessfully&lt;/p&gt;\"},\"id\":\"1201\",\"type\":\"panel.models.markup.HTML\"}],\"root_ids\":[\"1201\",\"1202\"]},\"title\":\"Bokeh Application\",\"version\":\"2.3.3\"}};\n",
       "    var render_items = [{\"docid\":\"316b51b1-a90b-4479-b96a-20b6f2a265d4\",\"root_ids\":[\"1201\"],\"roots\":{\"1201\":\"2fdd1b52-5f7d-4c12-a738-1829c18789c3\"}}];\n",
       "    root.Bokeh.embed.embed_items_notebook(docs_json, render_items);\n",
       "  }\n",
       "  if (root.Bokeh !== undefined && root.Bokeh.Panel !== undefined) {\n",
       "    embed_document(root);\n",
       "  } else {\n",
       "    var attempts = 0;\n",
       "    var timer = setInterval(function(root) {\n",
       "      if (root.Bokeh !== undefined && root.Bokeh.Panel !== undefined) {\n",
       "        clearInterval(timer);\n",
       "        embed_document(root);\n",
       "      } else if (document.readyState == \"complete\") {\n",
       "        attempts++;\n",
       "        if (attempts > 100) {\n",
       "          clearInterval(timer);\n",
       "          console.log(\"Bokeh: ERROR: Unable to run BokehJS code because BokehJS library is missing\");\n",
       "        }\n",
       "      }\n",
       "    }, 10, root)\n",
       "  }\n",
       "})(window);</script>"
      ],
      "text/plain": [
       "Alert(str, alert_type='success', css_classes=['alert', 'alert-success']...], margin=(0, 0, 25, 0), sizing_mode='stretch_width')"
      ]
     },
     "metadata": {
      "application/vnd.holoviews_exec.v0+json": {
       "id": "1201"
      }
     },
     "output_type": "display_data"
    },
    {
     "data": {},
     "metadata": {},
     "output_type": "display_data"
    },
    {
     "data": {
      "application/vnd.holoviews_exec.v0+json": "",
      "text/html": [
       "<div id='1203'>\n",
       "\n",
       "\n",
       "\n",
       "\n",
       "\n",
       "  <div class=\"bk-root\" id=\"0cb5bb69-a489-4786-b1e5-0c6c1786a140\" data-root-id=\"1203\"></div>\n",
       "</div>\n",
       "<script type=\"application/javascript\">(function(root) {\n",
       "  function embed_document(root) {\n",
       "    var docs_json = {\"b186f81b-4b60-41bd-800c-50a6369ba124\":{\"defs\":[],\"roots\":{\"references\":[{\"attributes\":{\"client_comm_id\":\"0f457b70bf364c19b8b6b3d727138b1f\",\"comm_id\":\"3e9ed160d67e4ebaa94eecd616a6e860\",\"plot_id\":\"1203\"},\"id\":\"1204\",\"type\":\"panel.models.comm_manager.CommManager\"},{\"attributes\":{\"css_classes\":[\"alert\",\"alert-success\",\"markdown\"],\"margin\":[0,0,25,0],\"name\":\"Alert00465\",\"sizing_mode\":\"stretch_width\",\"text\":\"&lt;h3&gt;Extracting unmapped reads&lt;/h3&gt;\\n&lt;hr&gt;\\n\\n&lt;ul&gt;\\n&lt;li&gt;BAM DIR : /home/christine/Documents/These/frangiPANeGIT/frangiPANe_rice/01-mapping_against_reference/&lt;/li&gt;\\n&lt;li&gt;FILTERED BAM DIR : /home/christine/Documents/These/frangiPANeGIT/frangiPANe_rice/02-assembly_unmapped_reads/bam_F0x2/&lt;/li&gt;\\n&lt;/ul&gt;\"},\"id\":\"1203\",\"type\":\"panel.models.markup.HTML\"}],\"root_ids\":[\"1203\",\"1204\"]},\"title\":\"Bokeh Application\",\"version\":\"2.3.3\"}};\n",
       "    var render_items = [{\"docid\":\"b186f81b-4b60-41bd-800c-50a6369ba124\",\"root_ids\":[\"1203\"],\"roots\":{\"1203\":\"0cb5bb69-a489-4786-b1e5-0c6c1786a140\"}}];\n",
       "    root.Bokeh.embed.embed_items_notebook(docs_json, render_items);\n",
       "  }\n",
       "  if (root.Bokeh !== undefined && root.Bokeh.Panel !== undefined) {\n",
       "    embed_document(root);\n",
       "  } else {\n",
       "    var attempts = 0;\n",
       "    var timer = setInterval(function(root) {\n",
       "      if (root.Bokeh !== undefined && root.Bokeh.Panel !== undefined) {\n",
       "        clearInterval(timer);\n",
       "        embed_document(root);\n",
       "      } else if (document.readyState == \"complete\") {\n",
       "        attempts++;\n",
       "        if (attempts > 100) {\n",
       "          clearInterval(timer);\n",
       "          console.log(\"Bokeh: ERROR: Unable to run BokehJS code because BokehJS library is missing\");\n",
       "        }\n",
       "      }\n",
       "    }, 10, root)\n",
       "  }\n",
       "})(window);</script>"
      ],
      "text/plain": [
       "Alert(str, alert_type='success', css_classes=['alert', 'alert-success']...], margin=(0, 0, 25, 0), sizing_mode='stretch_width')"
      ]
     },
     "metadata": {
      "application/vnd.holoviews_exec.v0+json": {
       "id": "1203"
      }
     },
     "output_type": "display_data"
    }
   ],
   "source": [
    "bgc('LightBlue')\n",
    "\n",
    "# Creating assembly directory\n",
    "output_assembly_dir = output_dir + \"/02-assembly_unmapped_reads/\"\n",
    "make_dir(output_assembly_dir)\n",
    "\n",
    "output_filtered_bam = output_assembly_dir + \"bam_F0x2/\"\n",
    "make_dir(output_filtered_bam)\n",
    "\n",
    "# Extracted unmapped reads\n",
    "for id in id_dict : \n",
    "    bam_to_F0x2_bam(output_mapping_dir,id, cpu, output_filtered_bam, logger)\n",
    "\n",
    "text = f\"\"\"\n",
    "    ### Extracting unmapped reads\n",
    "    \n",
    "    <hr>\n",
    "\n",
    "    * BAM DIR : {output_mapping_dir}\n",
    "    * FILTERED BAM DIR : {output_filtered_bam}\n",
    "    \"\"\"\n",
    "\n",
    "display_alert(text, \"success\")"
   ]
  },
  {
   "cell_type": "markdown",
   "metadata": {},
   "source": [
    "#### __Assembly step 1 : ABYSS test to choose khmer value__"
   ]
  },
  {
   "cell_type": "markdown",
   "metadata": {
    "tags": []
   },
   "source": [
    "#### _Choosing optimal k_\n",
    "\n",
    "```control post form : select two first samples by default```"
   ]
  },
  {
   "cell_type": "code",
   "execution_count": 10,
   "metadata": {},
   "outputs": [
    {
     "data": {
      "text/html": [
       "<img src onerror=\"var cell = this.closest('.jp-CodeCell');var editor = cell.querySelector('.jp-Editor');editor.style.background='LightBlue';this.parentNode.removeChild(this)\">"
      ],
      "text/plain": [
       "<IPython.core.display.HTML object>"
      ]
     },
     "metadata": {},
     "output_type": "display_data"
    },
    {
     "data": {},
     "metadata": {},
     "output_type": "display_data"
    },
    {
     "data": {
      "application/vnd.holoviews_exec.v0+json": "",
      "text/html": [
       "<div id='1205'>\n",
       "\n",
       "\n",
       "\n",
       "\n",
       "\n",
       "  <div class=\"bk-root\" id=\"e23f5cdb-a8a6-4265-8ec5-82665d565e52\" data-root-id=\"1205\"></div>\n",
       "</div>\n",
       "<script type=\"application/javascript\">(function(root) {\n",
       "  function embed_document(root) {\n",
       "    var docs_json = {\"1edfb4f0-2de0-452c-ad19-c8982e7849f6\":{\"defs\":[],\"roots\":{\"references\":[{\"attributes\":{\"button_type\":\"primary\",\"icon\":null,\"label\":\"INIT\",\"margin\":[5,10,5,10],\"min_width\":100,\"subscribed_events\":[\"button_click\"],\"width\":100},\"id\":\"1215\",\"type\":\"Button\"},{\"attributes\":{\"background\":\"#E3ECF1\",\"children\":[{\"id\":\"1206\"},{\"id\":\"1207\"}],\"css_classes\":[\"panel-widget-box\"],\"margin\":[5,5,5,5],\"name\":\"WidgetBox00482\"},\"id\":\"1205\",\"type\":\"Column\"},{\"attributes\":{\"button_type\":\"primary\",\"icon\":null,\"label\":\"SAVE\",\"margin\":[5,10,5,10],\"min_width\":100,\"subscribed_events\":[\"button_click\"],\"width\":100},\"id\":\"1214\",\"type\":\"Button\"},{\"attributes\":{\"children\":[{\"id\":\"1208\"},{\"id\":\"1211\"},{\"id\":\"1212\"},{\"id\":\"1213\"},{\"id\":\"1216\"}],\"margin\":[0,0,0,0],\"min_width\":800,\"name\":\"Column00479\",\"width\":800},\"id\":\"1207\",\"type\":\"Column\"},{\"attributes\":{\"high\":10000,\"low\":100,\"margin\":[5,10,5,10],\"mode\":\"int\",\"placeholder\":\"0\",\"step\":100,\"title\":\"Minimal length to filter\",\"value\":300,\"value_throttled\":300},\"id\":\"1212\",\"type\":\"Spinner\"},{\"attributes\":{\"high\":10,\"low\":1,\"margin\":[5,10,5,10],\"mode\":\"int\",\"placeholder\":\"0\",\"title\":\"Step\",\"value\":4,\"value_throttled\":4},\"id\":\"1210\",\"type\":\"Spinner\"},{\"attributes\":{\"margin\":[5,10,5,10],\"options\":[\"AA\",\"AB\",\"DT\"],\"title\":\"Accession\"},\"id\":\"1211\",\"type\":\"MultiSelect\"},{\"attributes\":{\"css_classes\":[\"markdown\"],\"margin\":[5,5,5,5],\"name\":\"Markdown00480\",\"text\":\"&lt;h1&gt;INPUT FORM&lt;/h1&gt;\"},\"id\":\"1206\",\"type\":\"panel.models.markup.HTML\"},{\"attributes\":{\"end\":92,\"margin\":[5,10,5,10],\"start\":24,\"step\":4,\"title\":\"K-mer length\",\"value\":[64,68]},\"id\":\"1209\",\"type\":\"RangeSlider\"},{\"attributes\":{\"css_classes\":[\"alert\",\"alert-warning\",\"markdown\"],\"height\":200,\"margin\":[0,0,25,0],\"name\":\"Alert00469\",\"sizing_mode\":\"stretch_width\",\"text\":\"&lt;p&gt;No filled&lt;/p&gt;\"},\"id\":\"1216\",\"type\":\"panel.models.markup.HTML\"},{\"attributes\":{\"client_comm_id\":\"07159beb836145d1a37f33b296300034\",\"comm_id\":\"f2bc045f3b7c40448643a9090b6490db\",\"plot_id\":\"1205\"},\"id\":\"1217\",\"type\":\"panel.models.comm_manager.CommManager\"},{\"attributes\":{\"children\":[{\"id\":\"1214\"},{\"id\":\"1215\"}],\"margin\":[0,0,0,0],\"name\":\"Row00477\"},\"id\":\"1213\",\"type\":\"Row\"},{\"attributes\":{\"children\":[{\"id\":\"1209\"},{\"id\":\"1210\"}],\"margin\":[0,0,0,0],\"name\":\"Row00478\"},\"id\":\"1208\",\"type\":\"Row\"}],\"root_ids\":[\"1205\",\"1217\"]},\"title\":\"Bokeh Application\",\"version\":\"2.3.3\"}};\n",
       "    var render_items = [{\"docid\":\"1edfb4f0-2de0-452c-ad19-c8982e7849f6\",\"root_ids\":[\"1205\"],\"roots\":{\"1205\":\"e23f5cdb-a8a6-4265-8ec5-82665d565e52\"}}];\n",
       "    root.Bokeh.embed.embed_items_notebook(docs_json, render_items);\n",
       "  }\n",
       "  if (root.Bokeh !== undefined && root.Bokeh.Panel !== undefined) {\n",
       "    embed_document(root);\n",
       "  } else {\n",
       "    var attempts = 0;\n",
       "    var timer = setInterval(function(root) {\n",
       "      if (root.Bokeh !== undefined && root.Bokeh.Panel !== undefined) {\n",
       "        clearInterval(timer);\n",
       "        embed_document(root);\n",
       "      } else if (document.readyState == \"complete\") {\n",
       "        attempts++;\n",
       "        if (attempts > 100) {\n",
       "          clearInterval(timer);\n",
       "          console.log(\"Bokeh: ERROR: Unable to run BokehJS code because BokehJS library is missing\");\n",
       "        }\n",
       "      }\n",
       "    }, 10, root)\n",
       "  }\n",
       "})(window);</script>"
      ],
      "text/plain": [
       "WidgetBox(background='#E3ECF1')\n",
       "    [0] Markdown(str)\n",
       "    [1] Column(width=800)\n",
       "        [0] Row\n",
       "            [0] RangeSlider(end=92, name='K-mer length', start=24, step=4, value=(64, 68))\n",
       "            [1] IntInput(end=10, name='Step', start=1, value=4)\n",
       "        [1] MultiSelect(name='Accession', options=['AA', 'AB', 'DT'])\n",
       "        [2] IntInput(end=10000, name='Minimal length t..., start=100, step=100, value=300)\n",
       "        [3] Row\n",
       "            [0] Button(button_type='primary', name='SAVE', width=100)\n",
       "            [1] Button(button_type='primary', name='INIT', width=100)\n",
       "        [4] Alert(str, alert_type='warning', css_classes=['alert', 'alert-warning']...], height=200, margin=(0, 0, 25, 0), sizing_mode='stretch_width')"
      ]
     },
     "metadata": {
      "application/vnd.holoviews_exec.v0+json": {
       "id": "1205"
      }
     },
     "output_type": "display_data"
    }
   ],
   "source": [
    "bgc('LightBlue')\n",
    "\n",
    "k,step,accession,length = box_config_abyss(df_group)"
   ]
  },
  {
   "cell_type": "markdown",
   "metadata": {},
   "source": [
    "##### Execute Abyss with several k"
   ]
  },
  {
   "cell_type": "code",
   "execution_count": 15,
   "metadata": {
    "scrolled": true
   },
   "outputs": [
    {
     "data": {
      "text/html": [
       "<img src onerror=\"var cell = this.closest('.jp-CodeCell');var editor = cell.querySelector('.jp-Editor');editor.style.background='LightBlue';this.parentNode.removeChild(this)\">"
      ],
      "text/plain": [
       "<IPython.core.display.HTML object>"
      ]
     },
     "metadata": {},
     "output_type": "display_data"
    },
    {
     "data": {},
     "metadata": {},
     "output_type": "display_data"
    },
    {
     "data": {
      "application/vnd.holoviews_exec.v0+json": "",
      "text/html": [
       "<div id='1262'>\n",
       "\n",
       "\n",
       "\n",
       "\n",
       "\n",
       "  <div class=\"bk-root\" id=\"60c646df-73dc-450c-8262-23dc312f1ebe\" data-root-id=\"1262\"></div>\n",
       "</div>\n",
       "<script type=\"application/javascript\">(function(root) {\n",
       "  function embed_document(root) {\n",
       "    var docs_json = {\"fdabb40d-e6c2-41dc-af67-ba61b6376a3a\":{\"defs\":[],\"roots\":{\"references\":[{\"attributes\":{\"client_comm_id\":\"5a25be81ed384ffbb104c3bc23224348\",\"comm_id\":\"f5d45ec22142463db96f77e16e1df47f\",\"plot_id\":\"1262\"},\"id\":\"1263\",\"type\":\"panel.models.comm_manager.CommManager\"},{\"attributes\":{\"css_classes\":[\"alert\",\"alert-warning\",\"markdown\"],\"margin\":[0,0,25,0],\"name\":\"Alert00563\",\"sizing_mode\":\"stretch_width\",\"text\":\"&lt;h3&gt;warning&lt;/h3&gt;\\n&lt;hr&gt;\\n&lt;p&gt;Directory /home/christine/Documents/These/frangiPANeGIT/frangiPANe_rice/02-assembly_unmapped_reads/choosing_k/ already existed&lt;/p&gt;\"},\"id\":\"1262\",\"type\":\"panel.models.markup.HTML\"}],\"root_ids\":[\"1262\",\"1263\"]},\"title\":\"Bokeh Application\",\"version\":\"2.3.3\"}};\n",
       "    var render_items = [{\"docid\":\"fdabb40d-e6c2-41dc-af67-ba61b6376a3a\",\"root_ids\":[\"1262\"],\"roots\":{\"1262\":\"60c646df-73dc-450c-8262-23dc312f1ebe\"}}];\n",
       "    root.Bokeh.embed.embed_items_notebook(docs_json, render_items);\n",
       "  }\n",
       "  if (root.Bokeh !== undefined && root.Bokeh.Panel !== undefined) {\n",
       "    embed_document(root);\n",
       "  } else {\n",
       "    var attempts = 0;\n",
       "    var timer = setInterval(function(root) {\n",
       "      if (root.Bokeh !== undefined && root.Bokeh.Panel !== undefined) {\n",
       "        clearInterval(timer);\n",
       "        embed_document(root);\n",
       "      } else if (document.readyState == \"complete\") {\n",
       "        attempts++;\n",
       "        if (attempts > 100) {\n",
       "          clearInterval(timer);\n",
       "          console.log(\"Bokeh: ERROR: Unable to run BokehJS code because BokehJS library is missing\");\n",
       "        }\n",
       "      }\n",
       "    }, 10, root)\n",
       "  }\n",
       "})(window);</script>"
      ],
      "text/plain": [
       "Alert(str, alert_type='warning', css_classes=['alert', 'alert-warning']...], margin=(0, 0, 25, 0), sizing_mode='stretch_width')"
      ]
     },
     "metadata": {
      "application/vnd.holoviews_exec.v0+json": {
       "id": "1262"
      }
     },
     "output_type": "display_data"
    },
    {
     "data": {},
     "metadata": {},
     "output_type": "display_data"
    },
    {
     "data": {
      "application/vnd.holoviews_exec.v0+json": "",
      "text/html": [
       "<div id='1264'>\n",
       "\n",
       "\n",
       "\n",
       "\n",
       "\n",
       "  <div class=\"bk-root\" id=\"99f924e6-4a8c-48db-8360-f355465bed79\" data-root-id=\"1264\"></div>\n",
       "</div>\n",
       "<script type=\"application/javascript\">(function(root) {\n",
       "  function embed_document(root) {\n",
       "    var docs_json = {\"4213ffe2-1938-4f83-95a9-f5b185ff05bd\":{\"defs\":[],\"roots\":{\"references\":[{\"attributes\":{\"css_classes\":[\"alert\",\"alert-warning\",\"markdown\"],\"margin\":[0,0,25,0],\"name\":\"Alert00567\",\"sizing_mode\":\"stretch_width\",\"text\":\"&lt;h3&gt;warning&lt;/h3&gt;\\n&lt;hr&gt;\\n&lt;p&gt;Directory /home/christine/Documents/These/frangiPANeGIT/frangiPANe_rice/02-assembly_unmapped_reads/choosing_k/abyss/ already existed&lt;/p&gt;\"},\"id\":\"1264\",\"type\":\"panel.models.markup.HTML\"},{\"attributes\":{\"client_comm_id\":\"1e9f8d5e6aa440729c898c3a616016a0\",\"comm_id\":\"6f3704ded44245928f3088bfdbafdbc1\",\"plot_id\":\"1264\"},\"id\":\"1265\",\"type\":\"panel.models.comm_manager.CommManager\"}],\"root_ids\":[\"1264\",\"1265\"]},\"title\":\"Bokeh Application\",\"version\":\"2.3.3\"}};\n",
       "    var render_items = [{\"docid\":\"4213ffe2-1938-4f83-95a9-f5b185ff05bd\",\"root_ids\":[\"1264\"],\"roots\":{\"1264\":\"99f924e6-4a8c-48db-8360-f355465bed79\"}}];\n",
       "    root.Bokeh.embed.embed_items_notebook(docs_json, render_items);\n",
       "  }\n",
       "  if (root.Bokeh !== undefined && root.Bokeh.Panel !== undefined) {\n",
       "    embed_document(root);\n",
       "  } else {\n",
       "    var attempts = 0;\n",
       "    var timer = setInterval(function(root) {\n",
       "      if (root.Bokeh !== undefined && root.Bokeh.Panel !== undefined) {\n",
       "        clearInterval(timer);\n",
       "        embed_document(root);\n",
       "      } else if (document.readyState == \"complete\") {\n",
       "        attempts++;\n",
       "        if (attempts > 100) {\n",
       "          clearInterval(timer);\n",
       "          console.log(\"Bokeh: ERROR: Unable to run BokehJS code because BokehJS library is missing\");\n",
       "        }\n",
       "      }\n",
       "    }, 10, root)\n",
       "  }\n",
       "})(window);</script>"
      ],
      "text/plain": [
       "Alert(str, alert_type='warning', css_classes=['alert', 'alert-warning']...], margin=(0, 0, 25, 0), sizing_mode='stretch_width')"
      ]
     },
     "metadata": {
      "application/vnd.holoviews_exec.v0+json": {
       "id": "1264"
      }
     },
     "output_type": "display_data"
    },
    {
     "name": "stdout",
     "output_type": "stream",
     "text": [
      "AA\n",
      "AB\n",
      "AA\n",
      "AB\n"
     ]
    },
    {
     "data": {},
     "metadata": {},
     "output_type": "display_data"
    },
    {
     "data": {
      "application/vnd.holoviews_exec.v0+json": "",
      "text/html": [
       "<div id='1266'>\n",
       "\n",
       "\n",
       "\n",
       "\n",
       "\n",
       "  <div class=\"bk-root\" id=\"12e8251a-252c-469a-b5d8-6e37d03403a2\" data-root-id=\"1266\"></div>\n",
       "</div>\n",
       "<script type=\"application/javascript\">(function(root) {\n",
       "  function embed_document(root) {\n",
       "    var docs_json = {\"416a7c17-1a69-4de8-8200-af1e72dc1f11\":{\"defs\":[],\"roots\":{\"references\":[{\"attributes\":{\"css_classes\":[\"alert\",\"alert-warning\",\"markdown\"],\"margin\":[0,0,25,0],\"name\":\"Alert00571\",\"sizing_mode\":\"stretch_width\",\"text\":\"&lt;h3&gt;warning&lt;/h3&gt;\\n&lt;hr&gt;\\n&lt;p&gt;Directory /home/christine/Documents/These/frangiPANeGIT/frangiPANe_rice/02-assembly_unmapped_reads/choosing_k/fasta/ already existed&lt;/p&gt;\"},\"id\":\"1266\",\"type\":\"panel.models.markup.HTML\"},{\"attributes\":{\"client_comm_id\":\"fc1e4f31daa945d59d6af3014ba5e7b5\",\"comm_id\":\"6dc32a38b97946ee9c25acbc93174be9\",\"plot_id\":\"1266\"},\"id\":\"1267\",\"type\":\"panel.models.comm_manager.CommManager\"}],\"root_ids\":[\"1266\",\"1267\"]},\"title\":\"Bokeh Application\",\"version\":\"2.3.3\"}};\n",
       "    var render_items = [{\"docid\":\"416a7c17-1a69-4de8-8200-af1e72dc1f11\",\"root_ids\":[\"1266\"],\"roots\":{\"1266\":\"12e8251a-252c-469a-b5d8-6e37d03403a2\"}}];\n",
       "    root.Bokeh.embed.embed_items_notebook(docs_json, render_items);\n",
       "  }\n",
       "  if (root.Bokeh !== undefined && root.Bokeh.Panel !== undefined) {\n",
       "    embed_document(root);\n",
       "  } else {\n",
       "    var attempts = 0;\n",
       "    var timer = setInterval(function(root) {\n",
       "      if (root.Bokeh !== undefined && root.Bokeh.Panel !== undefined) {\n",
       "        clearInterval(timer);\n",
       "        embed_document(root);\n",
       "      } else if (document.readyState == \"complete\") {\n",
       "        attempts++;\n",
       "        if (attempts > 100) {\n",
       "          clearInterval(timer);\n",
       "          console.log(\"Bokeh: ERROR: Unable to run BokehJS code because BokehJS library is missing\");\n",
       "        }\n",
       "      }\n",
       "    }, 10, root)\n",
       "  }\n",
       "})(window);</script>"
      ],
      "text/plain": [
       "Alert(str, alert_type='warning', css_classes=['alert', 'alert-warning']...], margin=(0, 0, 25, 0), sizing_mode='stretch_width')"
      ]
     },
     "metadata": {
      "application/vnd.holoviews_exec.v0+json": {
       "id": "1266"
      }
     },
     "output_type": "display_data"
    }
   ],
   "source": [
    "bgc('LightBlue')\n",
    "\n",
    "output_assembly_test=output_assembly_dir + \"choosing_k/\"\n",
    "make_dir(output_assembly_test)\n",
    "\n",
    "output_assembly_testabyss = output_assembly_test + \"abyss/\" \n",
    "make_dir(output_assembly_testabyss)\n",
    "\n",
    "kmin=int(k.value[0])\n",
    "kmax=int(k.value[1])\n",
    "st=step.value\n",
    "threshold =  length.value\n",
    "\n",
    "for k in range(kmin, kmax, step.value) :\n",
    "    for id in accession.value : ### INDIVIDUS TEST\n",
    "        #print(id)\n",
    "        abyss_pe(project_name.value, id, k, output_filtered_bam, output_assembly_testabyss, logger) \n",
    "\n",
    "text = f\"\"\"\n",
    "    ### Abyss test\n",
    "    \n",
    "    <hr>\n",
    "\n",
    "    * BAM INPUT DIR : {output_filtered_bam}\n",
    "    * ABYSS DIR : {output_assembly}\n",
    "    \"\"\"\n",
    "\n",
    "display_alert(text, \"success\")\n",
    "\n",
    "\n",
    "\n",
    "output_assembly_fasta = output_assembly_test + \"fasta/\" \n",
    "make_dir(output_assembly_fasta)\n",
    "\n",
    "logger.info(f\"FILTERING SEQUENCES >= THRESHOLD ({threshold})\")\n",
    "\n",
    "for k in range(kmin, kmax, step.value) :\n",
    "    for id in accession.value : \n",
    "        filter_fastq_threshold(output_assembly_testabyss + id + \"_k\" + str(k) + \"/\" + project_name.value+ \"_\" + id + \"_\" + str(k) + \"-contigs.fa\", \n",
    "                               output_assembly_fasta + id + \"_k\" + str(k) + \"_thr\" + str(threshold) + \".fasta\", threshold) \n",
    "        \n",
    "    \n",
    "text = f\"\"\"\n",
    "    ### Extracting fasta sequences and filtering on length\n",
    "    \n",
    "    <hr>\n",
    "\n",
    "    * ABYSS DIR : {output_assembly}\n",
    "    * FASTA DIR : {output_assembly_fasta}\n",
    "    \"\"\"\n",
    "\n",
    "display_alert(text, \"success\")"
   ]
  },
  {
   "cell_type": "markdown",
   "metadata": {},
   "source": [
    "#### _Stats and plots of abyss test_"
   ]
  },
  {
   "cell_type": "code",
   "execution_count": 17,
   "metadata": {},
   "outputs": [
    {
     "data": {
      "text/html": [
       "<img src onerror=\"var cell = this.closest('.jp-CodeCell');var editor = cell.querySelector('.jp-Editor');editor.style.background='LightBlue';this.parentNode.removeChild(this)\">"
      ],
      "text/plain": [
       "<IPython.core.display.HTML object>"
      ]
     },
     "metadata": {},
     "output_type": "display_data"
    },
    {
     "data": {},
     "metadata": {},
     "output_type": "display_data"
    },
    {
     "data": {
      "application/vnd.holoviews_exec.v0+json": "",
      "text/html": [
       "<div id='1270'>\n",
       "\n",
       "\n",
       "\n",
       "\n",
       "\n",
       "  <div class=\"bk-root\" id=\"d245edd3-c22a-4399-8350-220987e65efe\" data-root-id=\"1270\"></div>\n",
       "</div>\n",
       "<script type=\"application/javascript\">(function(root) {\n",
       "  function embed_document(root) {\n",
       "    var docs_json = {\"5c263943-8741-4c37-9266-4743b88d967d\":{\"defs\":[],\"roots\":{\"references\":[{\"attributes\":{\"css_classes\":[\"alert\",\"alert-warning\",\"markdown\"],\"margin\":[0,0,25,0],\"name\":\"Alert00579\",\"sizing_mode\":\"stretch_width\",\"text\":\"&lt;h3&gt;warning&lt;/h3&gt;\\n&lt;hr&gt;\\n&lt;p&gt;Directory /home/christine/Documents/These/frangiPANeGIT/frangiPANe_rice/02-assembly_unmapped_reads/choosing_k/plots/ already existed&lt;/p&gt;\"},\"id\":\"1270\",\"type\":\"panel.models.markup.HTML\"},{\"attributes\":{\"client_comm_id\":\"ce33313a8c0d4913a2ad52d12c312df5\",\"comm_id\":\"8ecb6770e0034bf8b9e5d410c1ba4170\",\"plot_id\":\"1270\"},\"id\":\"1271\",\"type\":\"panel.models.comm_manager.CommManager\"}],\"root_ids\":[\"1270\",\"1271\"]},\"title\":\"Bokeh Application\",\"version\":\"2.3.3\"}};\n",
       "    var render_items = [{\"docid\":\"5c263943-8741-4c37-9266-4743b88d967d\",\"root_ids\":[\"1270\"],\"roots\":{\"1270\":\"d245edd3-c22a-4399-8350-220987e65efe\"}}];\n",
       "    root.Bokeh.embed.embed_items_notebook(docs_json, render_items);\n",
       "  }\n",
       "  if (root.Bokeh !== undefined && root.Bokeh.Panel !== undefined) {\n",
       "    embed_document(root);\n",
       "  } else {\n",
       "    var attempts = 0;\n",
       "    var timer = setInterval(function(root) {\n",
       "      if (root.Bokeh !== undefined && root.Bokeh.Panel !== undefined) {\n",
       "        clearInterval(timer);\n",
       "        embed_document(root);\n",
       "      } else if (document.readyState == \"complete\") {\n",
       "        attempts++;\n",
       "        if (attempts > 100) {\n",
       "          clearInterval(timer);\n",
       "          console.log(\"Bokeh: ERROR: Unable to run BokehJS code because BokehJS library is missing\");\n",
       "        }\n",
       "      }\n",
       "    }, 10, root)\n",
       "  }\n",
       "})(window);</script>"
      ],
      "text/plain": [
       "Alert(str, alert_type='warning', css_classes=['alert', 'alert-warning']...], margin=(0, 0, 25, 0), sizing_mode='stretch_width')"
      ]
     },
     "metadata": {
      "application/vnd.holoviews_exec.v0+json": {
       "id": "1270"
      }
     },
     "output_type": "display_data"
    },
    {
     "data": {},
     "metadata": {},
     "output_type": "display_data"
    },
    {
     "data": {
      "application/vnd.holoviews_exec.v0+json": "",
      "text/html": [
       "<div id='1272'>\n",
       "\n",
       "\n",
       "\n",
       "\n",
       "\n",
       "  <div class=\"bk-root\" id=\"b89b75f2-df66-4268-8fde-bb1c1f81caae\" data-root-id=\"1272\"></div>\n",
       "</div>\n",
       "<script type=\"application/javascript\">(function(root) {\n",
       "  function embed_document(root) {\n",
       "    var docs_json = {\"077b5e77-566c-4e59-8f88-7e3e453fb0fb\":{\"defs\":[],\"roots\":{\"references\":[{\"attributes\":{\"client_comm_id\":\"ac6265ce64a2474dbe7df528ba88ccf4\",\"comm_id\":\"84571c13e1b04a2b8e655f99b0c26caf\",\"plot_id\":\"1272\"},\"id\":\"1273\",\"type\":\"panel.models.comm_manager.CommManager\"},{\"attributes\":{\"css_classes\":[\"alert\",\"alert-success\",\"markdown\"],\"margin\":[0,0,25,0],\"name\":\"Alert00583\",\"sizing_mode\":\"stretch_width\",\"text\":\"&lt;p&gt;SUCCESSFULL ASSEMBLY-STATS : assembly-stats -s /home/christine/Documents/These/frangiPANeGIT/frangiPANe_rice/02-assembly_unmapped_reads/choosing_k/fasta/AA_k60_thr300.fasta&lt;/p&gt;\"},\"id\":\"1272\",\"type\":\"panel.models.markup.HTML\"}],\"root_ids\":[\"1272\",\"1273\"]},\"title\":\"Bokeh Application\",\"version\":\"2.3.3\"}};\n",
       "    var render_items = [{\"docid\":\"077b5e77-566c-4e59-8f88-7e3e453fb0fb\",\"root_ids\":[\"1272\"],\"roots\":{\"1272\":\"b89b75f2-df66-4268-8fde-bb1c1f81caae\"}}];\n",
       "    root.Bokeh.embed.embed_items_notebook(docs_json, render_items);\n",
       "  }\n",
       "  if (root.Bokeh !== undefined && root.Bokeh.Panel !== undefined) {\n",
       "    embed_document(root);\n",
       "  } else {\n",
       "    var attempts = 0;\n",
       "    var timer = setInterval(function(root) {\n",
       "      if (root.Bokeh !== undefined && root.Bokeh.Panel !== undefined) {\n",
       "        clearInterval(timer);\n",
       "        embed_document(root);\n",
       "      } else if (document.readyState == \"complete\") {\n",
       "        attempts++;\n",
       "        if (attempts > 100) {\n",
       "          clearInterval(timer);\n",
       "          console.log(\"Bokeh: ERROR: Unable to run BokehJS code because BokehJS library is missing\");\n",
       "        }\n",
       "      }\n",
       "    }, 10, root)\n",
       "  }\n",
       "})(window);</script>"
      ],
      "text/plain": [
       "Alert(str, alert_type='success', css_classes=['alert', 'alert-success']...], margin=(0, 0, 25, 0), sizing_mode='stretch_width')"
      ]
     },
     "metadata": {
      "application/vnd.holoviews_exec.v0+json": {
       "id": "1272"
      }
     },
     "output_type": "display_data"
    },
    {
     "data": {},
     "metadata": {},
     "output_type": "display_data"
    },
    {
     "data": {
      "application/vnd.holoviews_exec.v0+json": "",
      "text/html": [
       "<div id='1274'>\n",
       "\n",
       "\n",
       "\n",
       "\n",
       "\n",
       "  <div class=\"bk-root\" id=\"b391a65b-d0a7-48f2-8b2f-88afacc1fd0a\" data-root-id=\"1274\"></div>\n",
       "</div>\n",
       "<script type=\"application/javascript\">(function(root) {\n",
       "  function embed_document(root) {\n",
       "    var docs_json = {\"a49bac16-dc59-4e34-b80a-b273393db30d\":{\"defs\":[],\"roots\":{\"references\":[{\"attributes\":{\"css_classes\":[\"alert\",\"alert-success\",\"markdown\"],\"margin\":[0,0,25,0],\"name\":\"Alert00587\",\"sizing_mode\":\"stretch_width\",\"text\":\"&lt;p&gt;SUCCESSFULL ASSEMBLY-STATS : assembly-stats -s /home/christine/Documents/These/frangiPANeGIT/frangiPANe_rice/02-assembly_unmapped_reads/choosing_k/fasta/AB_k60_thr300.fasta&lt;/p&gt;\"},\"id\":\"1274\",\"type\":\"panel.models.markup.HTML\"},{\"attributes\":{\"client_comm_id\":\"7be06ba2a85b4aa3b906414054d8b692\",\"comm_id\":\"f638574433144b788664dde8d1be673c\",\"plot_id\":\"1274\"},\"id\":\"1275\",\"type\":\"panel.models.comm_manager.CommManager\"}],\"root_ids\":[\"1274\",\"1275\"]},\"title\":\"Bokeh Application\",\"version\":\"2.3.3\"}};\n",
       "    var render_items = [{\"docid\":\"a49bac16-dc59-4e34-b80a-b273393db30d\",\"root_ids\":[\"1274\"],\"roots\":{\"1274\":\"b391a65b-d0a7-48f2-8b2f-88afacc1fd0a\"}}];\n",
       "    root.Bokeh.embed.embed_items_notebook(docs_json, render_items);\n",
       "  }\n",
       "  if (root.Bokeh !== undefined && root.Bokeh.Panel !== undefined) {\n",
       "    embed_document(root);\n",
       "  } else {\n",
       "    var attempts = 0;\n",
       "    var timer = setInterval(function(root) {\n",
       "      if (root.Bokeh !== undefined && root.Bokeh.Panel !== undefined) {\n",
       "        clearInterval(timer);\n",
       "        embed_document(root);\n",
       "      } else if (document.readyState == \"complete\") {\n",
       "        attempts++;\n",
       "        if (attempts > 100) {\n",
       "          clearInterval(timer);\n",
       "          console.log(\"Bokeh: ERROR: Unable to run BokehJS code because BokehJS library is missing\");\n",
       "        }\n",
       "      }\n",
       "    }, 10, root)\n",
       "  }\n",
       "})(window);</script>"
      ],
      "text/plain": [
       "Alert(str, alert_type='success', css_classes=['alert', 'alert-success']...], margin=(0, 0, 25, 0), sizing_mode='stretch_width')"
      ]
     },
     "metadata": {
      "application/vnd.holoviews_exec.v0+json": {
       "id": "1274"
      }
     },
     "output_type": "display_data"
    },
    {
     "data": {},
     "metadata": {},
     "output_type": "display_data"
    },
    {
     "data": {
      "application/vnd.holoviews_exec.v0+json": "",
      "text/html": [
       "<div id='1276'>\n",
       "\n",
       "\n",
       "\n",
       "\n",
       "\n",
       "  <div class=\"bk-root\" id=\"898181b7-1c15-4fd9-8edb-1c2c7ba55a70\" data-root-id=\"1276\"></div>\n",
       "</div>\n",
       "<script type=\"application/javascript\">(function(root) {\n",
       "  function embed_document(root) {\n",
       "    var docs_json = {\"f36f0402-edca-43d5-b3a2-6fd72a06c663\":{\"defs\":[],\"roots\":{\"references\":[{\"attributes\":{\"client_comm_id\":\"aca8e2f350604c4392fcc0642dc07814\",\"comm_id\":\"8172c92d397f4712ab45c8dc95bd3882\",\"plot_id\":\"1276\"},\"id\":\"1277\",\"type\":\"panel.models.comm_manager.CommManager\"},{\"attributes\":{\"css_classes\":[\"alert\",\"alert-success\",\"markdown\"],\"margin\":[0,0,25,0],\"name\":\"Alert00591\",\"sizing_mode\":\"stretch_width\",\"text\":\"&lt;p&gt;SUCCESSFULL ASSEMBLY-STATS : assembly-stats -s /home/christine/Documents/These/frangiPANeGIT/frangiPANe_rice/02-assembly_unmapped_reads/choosing_k/fasta/AA_k64_thr300.fasta&lt;/p&gt;\"},\"id\":\"1276\",\"type\":\"panel.models.markup.HTML\"}],\"root_ids\":[\"1276\",\"1277\"]},\"title\":\"Bokeh Application\",\"version\":\"2.3.3\"}};\n",
       "    var render_items = [{\"docid\":\"f36f0402-edca-43d5-b3a2-6fd72a06c663\",\"root_ids\":[\"1276\"],\"roots\":{\"1276\":\"898181b7-1c15-4fd9-8edb-1c2c7ba55a70\"}}];\n",
       "    root.Bokeh.embed.embed_items_notebook(docs_json, render_items);\n",
       "  }\n",
       "  if (root.Bokeh !== undefined && root.Bokeh.Panel !== undefined) {\n",
       "    embed_document(root);\n",
       "  } else {\n",
       "    var attempts = 0;\n",
       "    var timer = setInterval(function(root) {\n",
       "      if (root.Bokeh !== undefined && root.Bokeh.Panel !== undefined) {\n",
       "        clearInterval(timer);\n",
       "        embed_document(root);\n",
       "      } else if (document.readyState == \"complete\") {\n",
       "        attempts++;\n",
       "        if (attempts > 100) {\n",
       "          clearInterval(timer);\n",
       "          console.log(\"Bokeh: ERROR: Unable to run BokehJS code because BokehJS library is missing\");\n",
       "        }\n",
       "      }\n",
       "    }, 10, root)\n",
       "  }\n",
       "})(window);</script>"
      ],
      "text/plain": [
       "Alert(str, alert_type='success', css_classes=['alert', 'alert-success']...], margin=(0, 0, 25, 0), sizing_mode='stretch_width')"
      ]
     },
     "metadata": {
      "application/vnd.holoviews_exec.v0+json": {
       "id": "1276"
      }
     },
     "output_type": "display_data"
    },
    {
     "data": {},
     "metadata": {},
     "output_type": "display_data"
    },
    {
     "data": {
      "application/vnd.holoviews_exec.v0+json": "",
      "text/html": [
       "<div id='1278'>\n",
       "\n",
       "\n",
       "\n",
       "\n",
       "\n",
       "  <div class=\"bk-root\" id=\"d3376c75-d35f-469d-8b63-5343b8f37199\" data-root-id=\"1278\"></div>\n",
       "</div>\n",
       "<script type=\"application/javascript\">(function(root) {\n",
       "  function embed_document(root) {\n",
       "    var docs_json = {\"cbe7d81a-2c01-4e93-a5eb-27f74faabdc9\":{\"defs\":[],\"roots\":{\"references\":[{\"attributes\":{\"css_classes\":[\"alert\",\"alert-success\",\"markdown\"],\"margin\":[0,0,25,0],\"name\":\"Alert00595\",\"sizing_mode\":\"stretch_width\",\"text\":\"&lt;p&gt;SUCCESSFULL ASSEMBLY-STATS : assembly-stats -s /home/christine/Documents/These/frangiPANeGIT/frangiPANe_rice/02-assembly_unmapped_reads/choosing_k/fasta/AB_k64_thr300.fasta&lt;/p&gt;\"},\"id\":\"1278\",\"type\":\"panel.models.markup.HTML\"},{\"attributes\":{\"client_comm_id\":\"5778c3a9bb984c8d82f26439f536d064\",\"comm_id\":\"c01f6a76ad9b4c4e9f0304bfba1c8355\",\"plot_id\":\"1278\"},\"id\":\"1279\",\"type\":\"panel.models.comm_manager.CommManager\"}],\"root_ids\":[\"1278\",\"1279\"]},\"title\":\"Bokeh Application\",\"version\":\"2.3.3\"}};\n",
       "    var render_items = [{\"docid\":\"cbe7d81a-2c01-4e93-a5eb-27f74faabdc9\",\"root_ids\":[\"1278\"],\"roots\":{\"1278\":\"d3376c75-d35f-469d-8b63-5343b8f37199\"}}];\n",
       "    root.Bokeh.embed.embed_items_notebook(docs_json, render_items);\n",
       "  }\n",
       "  if (root.Bokeh !== undefined && root.Bokeh.Panel !== undefined) {\n",
       "    embed_document(root);\n",
       "  } else {\n",
       "    var attempts = 0;\n",
       "    var timer = setInterval(function(root) {\n",
       "      if (root.Bokeh !== undefined && root.Bokeh.Panel !== undefined) {\n",
       "        clearInterval(timer);\n",
       "        embed_document(root);\n",
       "      } else if (document.readyState == \"complete\") {\n",
       "        attempts++;\n",
       "        if (attempts > 100) {\n",
       "          clearInterval(timer);\n",
       "          console.log(\"Bokeh: ERROR: Unable to run BokehJS code because BokehJS library is missing\");\n",
       "        }\n",
       "      }\n",
       "    }, 10, root)\n",
       "  }\n",
       "})(window);</script>"
      ],
      "text/plain": [
       "Alert(str, alert_type='success', css_classes=['alert', 'alert-success']...], margin=(0, 0, 25, 0), sizing_mode='stretch_width')"
      ]
     },
     "metadata": {
      "application/vnd.holoviews_exec.v0+json": {
       "id": "1278"
      }
     },
     "output_type": "display_data"
    },
    {
     "data": {
      "image/png": "[encoded data removed]",
      "text/plain": [
       "<Figure size 815.75x360 with 2 Axes>"
      ]
     },
     "metadata": {},
     "output_type": "display_data"
    },
    {
     "data": {
      "image/png": "[encoded data removed]",
      "text/plain": [
       "<Figure size 796.875x360 with 2 Axes>"
      ]
     },
     "metadata": {},
     "output_type": "display_data"
    },
    {
     "data": {
      "image/png": "[encoded data removed]",
      "text/plain": [
       "<Figure size 794.875x360 with 2 Axes>"
      ]
     },
     "metadata": {},
     "output_type": "display_data"
    }
   ],
   "source": [
    "bgc('LightBlue')\n",
    "\n",
    "#  create stats file\n",
    "output_assembly_testplots = output_assembly_test + \"plots/\" \n",
    "make_dir(output_assembly_testplots)\n",
    "\n",
    "stat_len, stats_N_hide, stats_N, stats_L_hide, stats_L, stats_gap, stats = def_stats()\n",
    "create_stats_files(stats, output_assembly_testplots)\n",
    "\n",
    "for k in range(kmin, kmax, step.value) :\n",
    "    for id in accession.value :\n",
    "        fill_stats_files(output_assembly_fasta, id, k, output_assembly_testplots, threshold, logger)\n",
    "        \n",
    "stat_len_df = pd.read_csv(output_assembly_testplots + \"assembly-stats-\" + stat_len[0] + \".csv\", sep='\\t')\n",
    "\n",
    "size = sns.relplot(x='k', y='value', hue='stat', data=stat_len_df, col='id', kind=\"line\")\n",
    "size.savefig(output_assembly_testplots + \"stat_len.png\")\n",
    "\n",
    "\n",
    "stats_N_files = []\n",
    "for stat in stats_N : \n",
    "    stats_N_files.append(output_assembly_testplots + \"assembly-stats-\" + stat + \".csv\")\n",
    "stats_N_df = pd.concat([pd.read_csv(f, sep='\\t') for f in stats_N_files], ignore_index = True)\n",
    "\n",
    "size = sns.relplot(x='k', y='value', hue='stat', data=stats_N_df, col='id', kind=\"line\")\n",
    "size.savefig(output_assembly_testplots + \"stat_N.png\")\n",
    "\n",
    "stats_L_files = []\n",
    "for stat in stats_L : \n",
    "    stats_L_files.append(output_assembly_testplots + \"assembly-stats-\" + stat + \".csv\")\n",
    "stats_L_df = pd.concat([pd.read_csv(f, sep='\\t') for f in stats_L_files], ignore_index = True)\n",
    "\n",
    "size = sns.relplot(x='k', y='value', hue='stat', data=stats_L_df, col='id', kind=\"line\")\n",
    "size.savefig(output_assembly_testplots + \"stat_L.png\")\n",
    "\n"
   ]
  },
  {
   "cell_type": "markdown",
   "metadata": {},
   "source": [
    "#### __Assembly step 2 : assembly with the final k value__\n",
    "\n",
    "### Running ABySS for each individual\n"
   ]
  },
  {
   "cell_type": "code",
   "execution_count": 18,
   "metadata": {},
   "outputs": [
    {
     "data": {
      "text/html": [
       "<img src onerror=\"var cell = this.closest('.jp-CodeCell');var editor = cell.querySelector('.jp-Editor');editor.style.background='LightBlue';this.parentNode.removeChild(this)\">"
      ],
      "text/plain": [
       "<IPython.core.display.HTML object>"
      ]
     },
     "metadata": {},
     "output_type": "display_data"
    },
    {
     "data": {},
     "metadata": {},
     "output_type": "display_data"
    },
    {
     "data": {
      "application/vnd.holoviews_exec.v0+json": "",
      "text/html": [
       "<div id='1280'>\n",
       "\n",
       "\n",
       "\n",
       "\n",
       "\n",
       "  <div class=\"bk-root\" id=\"b87ee956-f302-4bb2-80a2-5bee7fec0abb\" data-root-id=\"1280\"></div>\n",
       "</div>\n",
       "<script type=\"application/javascript\">(function(root) {\n",
       "  function embed_document(root) {\n",
       "    var docs_json = {\"c65d73ef-d423-44b7-a564-d1e35f104f38\":{\"defs\":[],\"roots\":{\"references\":[{\"attributes\":{\"children\":[{\"id\":\"1283\"},{\"id\":\"1284\"},{\"id\":\"1287\"}],\"margin\":[0,0,0,0],\"min_width\":800,\"name\":\"Column00605\",\"width\":800},\"id\":\"1282\",\"type\":\"Column\"},{\"attributes\":{\"css_classes\":[\"markdown\"],\"margin\":[5,5,5,5],\"name\":\"Markdown00606\",\"text\":\"&lt;h1&gt;INPUT FORM&lt;/h1&gt;\"},\"id\":\"1281\",\"type\":\"panel.models.markup.HTML\"},{\"attributes\":{\"background\":\"#E3ECF1\",\"children\":[{\"id\":\"1281\"},{\"id\":\"1282\"}],\"css_classes\":[\"panel-widget-box\"],\"margin\":[5,5,5,5],\"name\":\"WidgetBox00608\"},\"id\":\"1280\",\"type\":\"Column\"},{\"attributes\":{\"button_type\":\"primary\",\"icon\":null,\"label\":\"INIT\",\"margin\":[5,10,5,10],\"min_width\":100,\"subscribed_events\":[\"button_click\"],\"width\":100},\"id\":\"1286\",\"type\":\"Button\"},{\"attributes\":{\"children\":[{\"id\":\"1285\"},{\"id\":\"1286\"}],\"margin\":[0,0,0,0],\"name\":\"Row00604\"},\"id\":\"1284\",\"type\":\"Row\"},{\"attributes\":{\"high\":92,\"low\":24,\"margin\":[5,10,5,10],\"mode\":\"int\",\"placeholder\":\"0\",\"title\":\"K-mer length\",\"value\":64,\"value_throttled\":64},\"id\":\"1283\",\"type\":\"Spinner\"},{\"attributes\":{\"client_comm_id\":\"8d1ac9ff02c6425bb296fd893597c8c7\",\"comm_id\":\"22a09c065cfb46b59bb85021ca0f9707\",\"plot_id\":\"1280\"},\"id\":\"1288\",\"type\":\"panel.models.comm_manager.CommManager\"},{\"attributes\":{\"button_type\":\"primary\",\"icon\":null,\"label\":\"SAVE\",\"margin\":[5,10,5,10],\"min_width\":100,\"subscribed_events\":[\"button_click\"],\"width\":100},\"id\":\"1285\",\"type\":\"Button\"},{\"attributes\":{\"css_classes\":[\"alert\",\"alert-warning\",\"markdown\"],\"height\":200,\"margin\":[0,0,25,0],\"name\":\"Alert00599\",\"sizing_mode\":\"stretch_width\",\"text\":\"&lt;p&gt;No filled&lt;/p&gt;\"},\"id\":\"1287\",\"type\":\"panel.models.markup.HTML\"}],\"root_ids\":[\"1280\",\"1288\"]},\"title\":\"Bokeh Application\",\"version\":\"2.3.3\"}};\n",
       "    var render_items = [{\"docid\":\"c65d73ef-d423-44b7-a564-d1e35f104f38\",\"root_ids\":[\"1280\"],\"roots\":{\"1280\":\"b87ee956-f302-4bb2-80a2-5bee7fec0abb\"}}];\n",
       "    root.Bokeh.embed.embed_items_notebook(docs_json, render_items);\n",
       "  }\n",
       "  if (root.Bokeh !== undefined && root.Bokeh.Panel !== undefined) {\n",
       "    embed_document(root);\n",
       "  } else {\n",
       "    var attempts = 0;\n",
       "    var timer = setInterval(function(root) {\n",
       "      if (root.Bokeh !== undefined && root.Bokeh.Panel !== undefined) {\n",
       "        clearInterval(timer);\n",
       "        embed_document(root);\n",
       "      } else if (document.readyState == \"complete\") {\n",
       "        attempts++;\n",
       "        if (attempts > 100) {\n",
       "          clearInterval(timer);\n",
       "          console.log(\"Bokeh: ERROR: Unable to run BokehJS code because BokehJS library is missing\");\n",
       "        }\n",
       "      }\n",
       "    }, 10, root)\n",
       "  }\n",
       "})(window);</script>"
      ],
      "text/plain": [
       "WidgetBox(background='#E3ECF1')\n",
       "    [0] Markdown(str)\n",
       "    [1] Column(width=800)\n",
       "        [0] IntInput(end=92, name='K-mer length', start=24, value=64)\n",
       "        [1] Row\n",
       "            [0] Button(button_type='primary', name='SAVE', width=100)\n",
       "            [1] Button(button_type='primary', name='INIT', width=100)\n",
       "        [2] Alert(str, alert_type='warning', css_classes=['alert', 'alert-warning']...], height=200, margin=(0, 0, 25, 0), sizing_mode='stretch_width')"
      ]
     },
     "metadata": {
      "application/vnd.holoviews_exec.v0+json": {
       "id": "1280"
      }
     },
     "output_type": "display_data"
    }
   ],
   "source": [
    "bgc('LightBlue')\n",
    "k = box_config_abyss2()\n"
   ]
  },
  {
   "cell_type": "markdown",
   "metadata": {},
   "source": [
    "KBOARD\n",
    "   * total_length : +++\n",
    "   * N50 : +++#\n",
    "\n",
    "check group -> debug DT"
   ]
  },
  {
   "cell_type": "code",
   "execution_count": 23,
   "metadata": {},
   "outputs": [
    {
     "data": {
      "text/html": [
       "<img src onerror=\"var cell = this.closest('.jp-CodeCell');var editor = cell.querySelector('.jp-Editor');editor.style.background='LightBlue';this.parentNode.removeChild(this)\">"
      ],
      "text/plain": [
       "<IPython.core.display.HTML object>"
      ]
     },
     "metadata": {},
     "output_type": "display_data"
    },
    {
     "data": {},
     "metadata": {},
     "output_type": "display_data"
    },
    {
     "data": {
      "application/vnd.holoviews_exec.v0+json": "",
      "text/html": [
       "<div id='1296'>\n",
       "\n",
       "\n",
       "\n",
       "\n",
       "\n",
       "  <div class=\"bk-root\" id=\"9c73fc77-dfff-49c0-a1cc-4e6d7a56e584\" data-root-id=\"1296\"></div>\n",
       "</div>\n",
       "<script type=\"application/javascript\">(function(root) {\n",
       "  function embed_document(root) {\n",
       "    var docs_json = {\"679cc469-6df9-4e60-8f97-6bafe943cef6\":{\"defs\":[],\"roots\":{\"references\":[{\"attributes\":{\"client_comm_id\":\"38d28034a8c54c41829d9e750e514189\",\"comm_id\":\"cff7c4375ca849fca9fb264f70405307\",\"plot_id\":\"1296\"},\"id\":\"1297\",\"type\":\"panel.models.comm_manager.CommManager\"},{\"attributes\":{\"css_classes\":[\"alert\",\"alert-success\",\"markdown\"],\"margin\":[0,0,25,0],\"name\":\"Alert00623\",\"sizing_mode\":\"stretch_width\",\"text\":\"&lt;p&gt;Directory /home/christine/Documents/These/frangiPANeGIT/frangiPANe_rice/02-assembly_unmapped_reads/all_ctgs/ created&lt;/p&gt;\"},\"id\":\"1296\",\"type\":\"panel.models.markup.HTML\"}],\"root_ids\":[\"1296\",\"1297\"]},\"title\":\"Bokeh Application\",\"version\":\"2.3.3\"}};\n",
       "    var render_items = [{\"docid\":\"679cc469-6df9-4e60-8f97-6bafe943cef6\",\"root_ids\":[\"1296\"],\"roots\":{\"1296\":\"9c73fc77-dfff-49c0-a1cc-4e6d7a56e584\"}}];\n",
       "    root.Bokeh.embed.embed_items_notebook(docs_json, render_items);\n",
       "  }\n",
       "  if (root.Bokeh !== undefined && root.Bokeh.Panel !== undefined) {\n",
       "    embed_document(root);\n",
       "  } else {\n",
       "    var attempts = 0;\n",
       "    var timer = setInterval(function(root) {\n",
       "      if (root.Bokeh !== undefined && root.Bokeh.Panel !== undefined) {\n",
       "        clearInterval(timer);\n",
       "        embed_document(root);\n",
       "      } else if (document.readyState == \"complete\") {\n",
       "        attempts++;\n",
       "        if (attempts > 100) {\n",
       "          clearInterval(timer);\n",
       "          console.log(\"Bokeh: ERROR: Unable to run BokehJS code because BokehJS library is missing\");\n",
       "        }\n",
       "      }\n",
       "    }, 10, root)\n",
       "  }\n",
       "})(window);</script>"
      ],
      "text/plain": [
       "Alert(str, alert_type='success', css_classes=['alert', 'alert-success']...], margin=(0, 0, 25, 0), sizing_mode='stretch_width')"
      ]
     },
     "metadata": {
      "application/vnd.holoviews_exec.v0+json": {
       "id": "1296"
      }
     },
     "output_type": "display_data"
    },
    {
     "data": {},
     "metadata": {},
     "output_type": "display_data"
    },
    {
     "data": {
      "application/vnd.holoviews_exec.v0+json": "",
      "text/html": [
       "<div id='1298'>\n",
       "\n",
       "\n",
       "\n",
       "\n",
       "\n",
       "  <div class=\"bk-root\" id=\"5dfbeab0-1465-49f0-8663-75cbd7510c95\" data-root-id=\"1298\"></div>\n",
       "</div>\n",
       "<script type=\"application/javascript\">(function(root) {\n",
       "  function embed_document(root) {\n",
       "    var docs_json = {\"6a75081d-8108-401e-959f-5b0187614571\":{\"defs\":[],\"roots\":{\"references\":[{\"attributes\":{\"client_comm_id\":\"f807eafc210e48d4a11a6cf2515924e2\",\"comm_id\":\"56346a75542e4d339d1a507db39677d4\",\"plot_id\":\"1298\"},\"id\":\"1299\",\"type\":\"panel.models.comm_manager.CommManager\"},{\"attributes\":{\"css_classes\":[\"alert\",\"alert-success\",\"markdown\"],\"margin\":[0,0,25,0],\"name\":\"Alert00627\",\"sizing_mode\":\"stretch_width\",\"text\":\"&lt;h3&gt;Assembly with abyss and fixed khmer&lt;/h3&gt;\\n&lt;hr&gt;\\n\\n&lt;ul&gt;\\n&lt;li&gt;BAM DIR : /home/christine/Documents/These/frangiPANeGIT/frangiPANe_rice/02-assembly_unmapped_reads/bam_F0x2/&lt;/li&gt;\\n&lt;li&gt;ABYSS DIR : /home/christine/Documents/These/frangiPANeGIT/frangiPANe_rice/02-assembly_unmapped_reads/all_ctgs/&lt;/li&gt;\\n&lt;/ul&gt;\"},\"id\":\"1298\",\"type\":\"panel.models.markup.HTML\"}],\"root_ids\":[\"1298\",\"1299\"]},\"title\":\"Bokeh Application\",\"version\":\"2.3.3\"}};\n",
       "    var render_items = [{\"docid\":\"6a75081d-8108-401e-959f-5b0187614571\",\"root_ids\":[\"1298\"],\"roots\":{\"1298\":\"5dfbeab0-1465-49f0-8663-75cbd7510c95\"}}];\n",
       "    root.Bokeh.embed.embed_items_notebook(docs_json, render_items);\n",
       "  }\n",
       "  if (root.Bokeh !== undefined && root.Bokeh.Panel !== undefined) {\n",
       "    embed_document(root);\n",
       "  } else {\n",
       "    var attempts = 0;\n",
       "    var timer = setInterval(function(root) {\n",
       "      if (root.Bokeh !== undefined && root.Bokeh.Panel !== undefined) {\n",
       "        clearInterval(timer);\n",
       "        embed_document(root);\n",
       "      } else if (document.readyState == \"complete\") {\n",
       "        attempts++;\n",
       "        if (attempts > 100) {\n",
       "          clearInterval(timer);\n",
       "          console.log(\"Bokeh: ERROR: Unable to run BokehJS code because BokehJS library is missing\");\n",
       "        }\n",
       "      }\n",
       "    }, 10, root)\n",
       "  }\n",
       "})(window);</script>"
      ],
      "text/plain": [
       "Alert(str, alert_type='success', css_classes=['alert', 'alert-success']...], margin=(0, 0, 25, 0), sizing_mode='stretch_width')"
      ]
     },
     "metadata": {
      "application/vnd.holoviews_exec.v0+json": {
       "id": "1298"
      }
     },
     "output_type": "display_data"
    }
   ],
   "source": [
    "bgc('LightBlue')\n",
    "\n",
    "output_assembly_ctgs = output_assembly_dir + \"all_ctgs/\" \n",
    "make_dir(output_assembly_ctgs)\n",
    "\n",
    "#for id in df_group :\n",
    "for index, row in df_group.iterrows() :\n",
    "\n",
    "    id = row['sample']\n",
    "    if index==2 :\n",
    "        continue\n",
    "        \n",
    "    if id in accession.value :\n",
    "        id_folder = output_assembly_testabyss + id + \"_k\" + str(k.value) + \"/\"\n",
    "        \n",
    "        cmd = f\"scp -r { id_folder } { output_assembly_ctgs }\"\n",
    "        process = subprocess.run(cmd, shell=True, capture_output=True, text=True)\n",
    "\n",
    "        if process.returncode:\n",
    "            log = f'FAILED EXECUTION : {cmd}\\n{process.stdout}\\n{process.stderr}'\n",
    "            raise ValueError(log)\n",
    "        else:\n",
    "            logger.info(f\"\\t\\tLog : {process.stdout + process.stderr}\\n\")\n",
    "            \n",
    "    else : \n",
    "        abyss_pe(project_name, id, k.value, output_filtered_bam, output_assembly_ctgs, logger) \n",
    "        \n",
    "text = f\"\"\"\n",
    "    ### Assembly with abyss and fixed khmer\n",
    "    \n",
    "    <hr>\n",
    "\n",
    "    * BAM DIR : {output_filtered_bam}\n",
    "    * ABYSS DIR : {output_assembly_ctgs}\n",
    "    \"\"\"\n",
    "\n",
    "display_alert(text, \"success\")"
   ]
  },
  {
   "cell_type": "markdown",
   "metadata": {},
   "source": [
    "`TODO : PUT TABLE SYNTHESE`\n",
    "\n",
    "[<img src=\"Images/up-arrow.png\" alt=\"Top\" width=2% align=\"right\">](#home \"Go back to the top\")\n",
    "    \n",
    "### <span style=\"color: #919395\"> 4 - Removing contamination<a class=\"anchor\" id=\"contamination\"></a></span>"
   ]
  },
  {
   "cell_type": "markdown",
   "metadata": {},
   "source": [
    "#### __VecScreen__"
   ]
  },
  {
   "cell_type": "markdown",
   "metadata": {},
   "source": [
    "#### __BLASTn__"
   ]
  },
  {
   "cell_type": "markdown",
   "metadata": {},
   "source": [
    "[<img src=\"Images/up-arrow.png\" alt=\"Top\" width=2% align=\"right\">](#home \"Go back to the top\")\n",
    "    \n",
    "### <span style=\"color: #919395\"> 5 - Reducing Sequence Redundancy<a class=\"anchor\" id=\"redundancy\"></a></span>\n",
    "\n",
    "frangiPANe uses CD-HIT to cluster sequences and to reduce sequence redundancy (inter and intra-species).\n",
    "\n",
    "#### __Create clustering directory__"
   ]
  },
  {
   "cell_type": "code",
   "execution_count": 9,
   "metadata": {},
   "outputs": [
    {
     "data": {},
     "metadata": {},
     "output_type": "display_data"
    },
    {
     "data": {
      "application/vnd.holoviews_exec.v0+json": "",
      "text/html": [
       "<div id='1092'>\n",
       "\n",
       "\n",
       "\n",
       "\n",
       "\n",
       "  <div class=\"bk-root\" id=\"0c0e2bda-c39a-4094-bcfb-07dd68728bba\" data-root-id=\"1092\"></div>\n",
       "</div>\n",
       "<script type=\"application/javascript\">(function(root) {\n",
       "  function embed_document(root) {\n",
       "    var docs_json = {\"eea98506-2853-4733-82da-fc65565c6786\":{\"defs\":[],\"roots\":{\"references\":[{\"attributes\":{\"css_classes\":[\"alert\",\"alert-warning\",\"markdown\"],\"margin\":[0,0,25,0],\"name\":\"Alert00257\",\"sizing_mode\":\"stretch_width\",\"text\":\"&lt;h3&gt;warning&lt;/h3&gt;\\n&lt;hr&gt;\\n&lt;p&gt;Directory /home/christine/Documents/These/frangiPANeGIT/frangiPANe_rice03-clustering/ already existed&lt;/p&gt;\"},\"id\":\"1092\",\"type\":\"panel.models.markup.HTML\"},{\"attributes\":{\"client_comm_id\":\"eba07f2454494765adf3e77aadccf470\",\"comm_id\":\"ab8f7c54307644a2bcc7f1f49c025f8c\",\"plot_id\":\"1092\"},\"id\":\"1093\",\"type\":\"panel.models.comm_manager.CommManager\"}],\"root_ids\":[\"1092\",\"1093\"]},\"title\":\"Bokeh Application\",\"version\":\"2.3.3\"}};\n",
       "    var render_items = [{\"docid\":\"eea98506-2853-4733-82da-fc65565c6786\",\"root_ids\":[\"1092\"],\"roots\":{\"1092\":\"0c0e2bda-c39a-4094-bcfb-07dd68728bba\"}}];\n",
       "    root.Bokeh.embed.embed_items_notebook(docs_json, render_items);\n",
       "  }\n",
       "  if (root.Bokeh !== undefined && root.Bokeh.Panel !== undefined) {\n",
       "    embed_document(root);\n",
       "  } else {\n",
       "    var attempts = 0;\n",
       "    var timer = setInterval(function(root) {\n",
       "      if (root.Bokeh !== undefined && root.Bokeh.Panel !== undefined) {\n",
       "        clearInterval(timer);\n",
       "        embed_document(root);\n",
       "      } else if (document.readyState == \"complete\") {\n",
       "        attempts++;\n",
       "        if (attempts > 100) {\n",
       "          clearInterval(timer);\n",
       "          console.log(\"Bokeh: ERROR: Unable to run BokehJS code because BokehJS library is missing\");\n",
       "        }\n",
       "      }\n",
       "    }, 10, root)\n",
       "  }\n",
       "})(window);</script>"
      ],
      "text/plain": [
       "Alert(str, alert_type='warning', css_classes=['alert', 'alert-warning']...], margin=(0, 0, 25, 0), sizing_mode='stretch_width')"
      ]
     },
     "metadata": {
      "application/vnd.holoviews_exec.v0+json": {
       "id": "1092"
      }
     },
     "output_type": "display_data"
    }
   ],
   "source": [
    "output_clustering_dir = output_dir + \"03-clustering/\"\n",
    "make_dir(output_clustering_dir)"
   ]
  },
  {
   "cell_type": "markdown",
   "metadata": {},
   "source": [
    "#### __Merge all contigs__\n"
   ]
  },
  {
   "cell_type": "code",
   "execution_count": null,
   "metadata": {},
   "outputs": [],
   "source": [
    "# TODO a remonter et definir dans la partie assemblage\n",
    "#output_assembly_dir = output_dir + \"/02-assembly_unmapped_reads/\"\n",
    "#output_clustering_dir = output_dir + \"03-clustering/\"\n",
    "output_assembly_contigs = output_assembly_dir + \"assembly_all_contigs\""
   ]
  },
  {
   "cell_type": "code",
   "execution_count": 11,
   "metadata": {},
   "outputs": [
    {
     "data": {},
     "metadata": {},
     "output_type": "display_data"
    },
    {
     "data": {
      "application/vnd.holoviews_exec.v0+json": "",
      "text/html": [
       "<div id='1094'>\n",
       "\n",
       "\n",
       "\n",
       "\n",
       "\n",
       "  <div class=\"bk-root\" id=\"31ea6754-59ef-4ab4-94d2-9149e818a398\" data-root-id=\"1094\"></div>\n",
       "</div>\n",
       "<script type=\"application/javascript\">(function(root) {\n",
       "  function embed_document(root) {\n",
       "    var docs_json = {\"25d6ee13-34a7-4608-8fdd-27f6ccd72381\":{\"defs\":[],\"roots\":{\"references\":[{\"attributes\":{\"css_classes\":[\"alert\",\"alert-secondary\",\"markdown\"],\"margin\":[0,0,25,0],\"name\":\"Alert00261\",\"sizing_mode\":\"stretch_width\",\"text\":\"&lt;p&gt;Copying all contigs from each sample into dir_clustering on progress&amp;hellip;&lt;/p&gt;\"},\"id\":\"1094\",\"type\":\"panel.models.markup.HTML\"},{\"attributes\":{\"client_comm_id\":\"73be5c377b3c4588bbd9c74c3e31ad80\",\"comm_id\":\"1923aabbe83e47d9a00ec28a1528ee58\",\"plot_id\":\"1094\"},\"id\":\"1095\",\"type\":\"panel.models.comm_manager.CommManager\"}],\"root_ids\":[\"1094\",\"1095\"]},\"title\":\"Bokeh Application\",\"version\":\"2.3.3\"}};\n",
       "    var render_items = [{\"docid\":\"25d6ee13-34a7-4608-8fdd-27f6ccd72381\",\"root_ids\":[\"1094\"],\"roots\":{\"1094\":\"31ea6754-59ef-4ab4-94d2-9149e818a398\"}}];\n",
       "    root.Bokeh.embed.embed_items_notebook(docs_json, render_items);\n",
       "  }\n",
       "  if (root.Bokeh !== undefined && root.Bokeh.Panel !== undefined) {\n",
       "    embed_document(root);\n",
       "  } else {\n",
       "    var attempts = 0;\n",
       "    var timer = setInterval(function(root) {\n",
       "      if (root.Bokeh !== undefined && root.Bokeh.Panel !== undefined) {\n",
       "        clearInterval(timer);\n",
       "        embed_document(root);\n",
       "      } else if (document.readyState == \"complete\") {\n",
       "        attempts++;\n",
       "        if (attempts > 100) {\n",
       "          clearInterval(timer);\n",
       "          console.log(\"Bokeh: ERROR: Unable to run BokehJS code because BokehJS library is missing\");\n",
       "        }\n",
       "      }\n",
       "    }, 10, root)\n",
       "  }\n",
       "})(window);</script>"
      ],
      "text/plain": [
       "Alert(str, alert_type='secondary', css_classes=['alert', 'alert-secondary...], margin=(0, 0, 25, 0), sizing_mode='stretch_width')"
      ]
     },
     "metadata": {
      "application/vnd.holoviews_exec.v0+json": {
       "id": "1094"
      }
     },
     "output_type": "display_data"
    },
    {
     "data": {},
     "metadata": {},
     "output_type": "display_data"
    },
    {
     "data": {
      "application/vnd.holoviews_exec.v0+json": "",
      "text/html": [
       "<div id='1096'>\n",
       "\n",
       "\n",
       "\n",
       "\n",
       "\n",
       "  <div class=\"bk-root\" id=\"26371be9-c6fd-495e-9576-9e69d9a5ef6c\" data-root-id=\"1096\"></div>\n",
       "</div>\n",
       "<script type=\"application/javascript\">(function(root) {\n",
       "  function embed_document(root) {\n",
       "    var docs_json = {\"23a3d4e2-1268-4c73-ba2f-a34d47a36208\":{\"defs\":[],\"roots\":{\"references\":[{\"attributes\":{\"client_comm_id\":\"55900557c6874d639f026e848e8f73cf\",\"comm_id\":\"19fa3fc83c9b449dbd3f5ad61e455572\",\"plot_id\":\"1096\"},\"id\":\"1097\",\"type\":\"panel.models.comm_manager.CommManager\"},{\"attributes\":{\"css_classes\":[\"alert\",\"alert-info\",\"markdown\"],\"margin\":[0,0,25,0],\"name\":\"Alert00265\",\"sizing_mode\":\"stretch_width\",\"text\":\"&lt;p&gt;Copying all contigs into dir_clustering done&lt;/p&gt;\"},\"id\":\"1096\",\"type\":\"panel.models.markup.HTML\"}],\"root_ids\":[\"1096\",\"1097\"]},\"title\":\"Bokeh Application\",\"version\":\"2.3.3\"}};\n",
       "    var render_items = [{\"docid\":\"23a3d4e2-1268-4c73-ba2f-a34d47a36208\",\"root_ids\":[\"1096\"],\"roots\":{\"1096\":\"26371be9-c6fd-495e-9576-9e69d9a5ef6c\"}}];\n",
       "    root.Bokeh.embed.embed_items_notebook(docs_json, render_items);\n",
       "  }\n",
       "  if (root.Bokeh !== undefined && root.Bokeh.Panel !== undefined) {\n",
       "    embed_document(root);\n",
       "  } else {\n",
       "    var attempts = 0;\n",
       "    var timer = setInterval(function(root) {\n",
       "      if (root.Bokeh !== undefined && root.Bokeh.Panel !== undefined) {\n",
       "        clearInterval(timer);\n",
       "        embed_document(root);\n",
       "      } else if (document.readyState == \"complete\") {\n",
       "        attempts++;\n",
       "        if (attempts > 100) {\n",
       "          clearInterval(timer);\n",
       "          console.log(\"Bokeh: ERROR: Unable to run BokehJS code because BokehJS library is missing\");\n",
       "        }\n",
       "      }\n",
       "    }, 10, root)\n",
       "  }\n",
       "})(window);</script>"
      ],
      "text/plain": [
       "Alert(str, alert_type='info', css_classes=['alert', 'alert-info'], margin=(0, 0, 25, 0), sizing_mode='stretch_width')"
      ]
     },
     "metadata": {
      "application/vnd.holoviews_exec.v0+json": {
       "id": "1096"
      }
     },
     "output_type": "display_data"
    },
    {
     "data": {},
     "metadata": {},
     "output_type": "display_data"
    },
    {
     "data": {
      "application/vnd.holoviews_exec.v0+json": "",
      "text/html": [
       "<div id='1098'>\n",
       "\n",
       "\n",
       "\n",
       "\n",
       "\n",
       "  <div class=\"bk-root\" id=\"ecd6f7b1-8212-4b8c-8238-3dbbf8b63ddc\" data-root-id=\"1098\"></div>\n",
       "</div>\n",
       "<script type=\"application/javascript\">(function(root) {\n",
       "  function embed_document(root) {\n",
       "    var docs_json = {\"5a266e6f-4465-4319-85bd-2f3067ce0dd9\":{\"defs\":[],\"roots\":{\"references\":[{\"attributes\":{\"client_comm_id\":\"1aa5a873c65c409999d7af6ecfa4344c\",\"comm_id\":\"45c516d61246460d80adfda9e30e87d9\",\"plot_id\":\"1098\"},\"id\":\"1099\",\"type\":\"panel.models.comm_manager.CommManager\"},{\"attributes\":{\"css_classes\":[\"alert\",\"alert-secondary\",\"markdown\"],\"margin\":[0,0,25,0],\"name\":\"Alert00269\",\"sizing_mode\":\"stretch_width\",\"text\":\"&lt;p&gt;Merging all contigs from each sample into one file&amp;hellip; on progress&lt;/p&gt;\"},\"id\":\"1098\",\"type\":\"panel.models.markup.HTML\"}],\"root_ids\":[\"1098\",\"1099\"]},\"title\":\"Bokeh Application\",\"version\":\"2.3.3\"}};\n",
       "    var render_items = [{\"docid\":\"5a266e6f-4465-4319-85bd-2f3067ce0dd9\",\"root_ids\":[\"1098\"],\"roots\":{\"1098\":\"ecd6f7b1-8212-4b8c-8238-3dbbf8b63ddc\"}}];\n",
       "    root.Bokeh.embed.embed_items_notebook(docs_json, render_items);\n",
       "  }\n",
       "  if (root.Bokeh !== undefined && root.Bokeh.Panel !== undefined) {\n",
       "    embed_document(root);\n",
       "  } else {\n",
       "    var attempts = 0;\n",
       "    var timer = setInterval(function(root) {\n",
       "      if (root.Bokeh !== undefined && root.Bokeh.Panel !== undefined) {\n",
       "        clearInterval(timer);\n",
       "        embed_document(root);\n",
       "      } else if (document.readyState == \"complete\") {\n",
       "        attempts++;\n",
       "        if (attempts > 100) {\n",
       "          clearInterval(timer);\n",
       "          console.log(\"Bokeh: ERROR: Unable to run BokehJS code because BokehJS library is missing\");\n",
       "        }\n",
       "      }\n",
       "    }, 10, root)\n",
       "  }\n",
       "})(window);</script>"
      ],
      "text/plain": [
       "Alert(str, alert_type='secondary', css_classes=['alert', 'alert-secondary...], margin=(0, 0, 25, 0), sizing_mode='stretch_width')"
      ]
     },
     "metadata": {
      "application/vnd.holoviews_exec.v0+json": {
       "id": "1098"
      }
     },
     "output_type": "display_data"
    },
    {
     "data": {},
     "metadata": {},
     "output_type": "display_data"
    },
    {
     "data": {
      "application/vnd.holoviews_exec.v0+json": "",
      "text/html": [
       "<div id='1100'>\n",
       "\n",
       "\n",
       "\n",
       "\n",
       "\n",
       "  <div class=\"bk-root\" id=\"20b587e3-f90a-4cf3-ad56-ed8138bd88d9\" data-root-id=\"1100\"></div>\n",
       "</div>\n",
       "<script type=\"application/javascript\">(function(root) {\n",
       "  function embed_document(root) {\n",
       "    var docs_json = {\"c6fc1a0e-eb6a-4648-b506-74310dae86de\":{\"defs\":[],\"roots\":{\"references\":[{\"attributes\":{\"css_classes\":[\"alert\",\"alert-success\",\"markdown\"],\"margin\":[0,0,25,0],\"name\":\"Alert00273\",\"sizing_mode\":\"stretch_width\",\"text\":\"&lt;p&gt;fasta file succesfully done /home/christine/Documents/These/frangiPANeGIT/frangiPANe_rice03-clustering/riceallContigs.fa&lt;/p&gt;\"},\"id\":\"1100\",\"type\":\"panel.models.markup.HTML\"},{\"attributes\":{\"client_comm_id\":\"457aee1407114eee87e7a10a4d684baf\",\"comm_id\":\"3f853c9953a0413a96a1953695a4f1fc\",\"plot_id\":\"1100\"},\"id\":\"1101\",\"type\":\"panel.models.comm_manager.CommManager\"}],\"root_ids\":[\"1100\",\"1101\"]},\"title\":\"Bokeh Application\",\"version\":\"2.3.3\"}};\n",
       "    var render_items = [{\"docid\":\"c6fc1a0e-eb6a-4648-b506-74310dae86de\",\"root_ids\":[\"1100\"],\"roots\":{\"1100\":\"20b587e3-f90a-4cf3-ad56-ed8138bd88d9\"}}];\n",
       "    root.Bokeh.embed.embed_items_notebook(docs_json, render_items);\n",
       "  }\n",
       "  if (root.Bokeh !== undefined && root.Bokeh.Panel !== undefined) {\n",
       "    embed_document(root);\n",
       "  } else {\n",
       "    var attempts = 0;\n",
       "    var timer = setInterval(function(root) {\n",
       "      if (root.Bokeh !== undefined && root.Bokeh.Panel !== undefined) {\n",
       "        clearInterval(timer);\n",
       "        embed_document(root);\n",
       "      } else if (document.readyState == \"complete\") {\n",
       "        attempts++;\n",
       "        if (attempts > 100) {\n",
       "          clearInterval(timer);\n",
       "          console.log(\"Bokeh: ERROR: Unable to run BokehJS code because BokehJS library is missing\");\n",
       "        }\n",
       "      }\n",
       "    }, 10, root)\n",
       "  }\n",
       "})(window);</script>"
      ],
      "text/plain": [
       "Alert(str, alert_type='success', css_classes=['alert', 'alert-success']...], margin=(0, 0, 25, 0), sizing_mode='stretch_width')"
      ]
     },
     "metadata": {
      "application/vnd.holoviews_exec.v0+json": {
       "id": "1100"
      }
     },
     "output_type": "display_data"
    }
   ],
   "source": [
    "copy_cluster(output_assembly_contigs,output_clustering_dir)\n",
    "### ADD logger\n",
    "\n",
    "merged_contigs = output_clustering_dir+project_name+\"allContigs.fa\"    \n",
    "merging_cluster(output_clustering_dir,merged_contigs)\n",
    "\n",
    "# TODO CD : CHECK NB SEQUENCE OK ET PRINT DANS LE MSG + add logger"
   ]
  },
  {
   "cell_type": "markdown",
   "metadata": {},
   "source": [
    "#### __Run clustering__\n"
   ]
  },
  {
   "cell_type": "code",
   "execution_count": 12,
   "metadata": {},
   "outputs": [
    {
     "data": {},
     "metadata": {},
     "output_type": "display_data"
    },
    {
     "data": {
      "application/vnd.holoviews_exec.v0+json": "",
      "text/html": [
       "<div id='1102'>\n",
       "\n",
       "\n",
       "\n",
       "\n",
       "\n",
       "  <div class=\"bk-root\" id=\"918e35f0-e87e-4be9-80c9-f1b56ef8a8ae\" data-root-id=\"1102\"></div>\n",
       "</div>\n",
       "<script type=\"application/javascript\">(function(root) {\n",
       "  function embed_document(root) {\n",
       "    var docs_json = {\"37eb41b1-db9b-4ac4-84c6-f4c0f0f17ad7\":{\"defs\":[],\"roots\":{\"references\":[{\"attributes\":{\"css_classes\":[\"alert\",\"alert-secondary\",\"markdown\"],\"margin\":[0,0,25,0],\"name\":\"Alert00277\",\"sizing_mode\":\"stretch_width\",\"text\":\"&lt;p&gt;Clustering all contigs with cdhit-est.. on progress&lt;/p&gt;\"},\"id\":\"1102\",\"type\":\"panel.models.markup.HTML\"},{\"attributes\":{\"client_comm_id\":\"15c7cfcb7d7d433fbde3e73e5f32a740\",\"comm_id\":\"4b3502cef3bc4d388335766f42843cd6\",\"plot_id\":\"1102\"},\"id\":\"1103\",\"type\":\"panel.models.comm_manager.CommManager\"}],\"root_ids\":[\"1102\",\"1103\"]},\"title\":\"Bokeh Application\",\"version\":\"2.3.3\"}};\n",
       "    var render_items = [{\"docid\":\"37eb41b1-db9b-4ac4-84c6-f4c0f0f17ad7\",\"root_ids\":[\"1102\"],\"roots\":{\"1102\":\"918e35f0-e87e-4be9-80c9-f1b56ef8a8ae\"}}];\n",
       "    root.Bokeh.embed.embed_items_notebook(docs_json, render_items);\n",
       "  }\n",
       "  if (root.Bokeh !== undefined && root.Bokeh.Panel !== undefined) {\n",
       "    embed_document(root);\n",
       "  } else {\n",
       "    var attempts = 0;\n",
       "    var timer = setInterval(function(root) {\n",
       "      if (root.Bokeh !== undefined && root.Bokeh.Panel !== undefined) {\n",
       "        clearInterval(timer);\n",
       "        embed_document(root);\n",
       "      } else if (document.readyState == \"complete\") {\n",
       "        attempts++;\n",
       "        if (attempts > 100) {\n",
       "          clearInterval(timer);\n",
       "          console.log(\"Bokeh: ERROR: Unable to run BokehJS code because BokehJS library is missing\");\n",
       "        }\n",
       "      }\n",
       "    }, 10, root)\n",
       "  }\n",
       "})(window);</script>"
      ],
      "text/plain": [
       "Alert(str, alert_type='secondary', css_classes=['alert', 'alert-secondary...], margin=(0, 0, 25, 0), sizing_mode='stretch_width')"
      ]
     },
     "metadata": {
      "application/vnd.holoviews_exec.v0+json": {
       "id": "1102"
      }
     },
     "output_type": "display_data"
    },
    {
     "data": {},
     "metadata": {},
     "output_type": "display_data"
    },
    {
     "data": {
      "application/vnd.holoviews_exec.v0+json": "",
      "text/html": [
       "<div id='1104'>\n",
       "\n",
       "\n",
       "\n",
       "\n",
       "\n",
       "  <div class=\"bk-root\" id=\"d550b8db-e22d-4472-b7f4-2d7e4a6a4c01\" data-root-id=\"1104\"></div>\n",
       "</div>\n",
       "<script type=\"application/javascript\">(function(root) {\n",
       "  function embed_document(root) {\n",
       "    var docs_json = {\"8bc06f4a-7742-4e99-83be-30016963af49\":{\"defs\":[],\"roots\":{\"references\":[{\"attributes\":{\"css_classes\":[\"alert\",\"alert-success\",\"markdown\"],\"margin\":[0,0,25,0],\"name\":\"Alert00281\",\"sizing_mode\":\"stretch_width\",\"text\":\"&lt;p&gt;Clustering successfully done !&lt;/p&gt;\"},\"id\":\"1104\",\"type\":\"panel.models.markup.HTML\"},{\"attributes\":{\"client_comm_id\":\"7d6eb1de26894b3e9b400c8a6ca4cac9\",\"comm_id\":\"44fd96c69d1b4501b361ae020702d568\",\"plot_id\":\"1104\"},\"id\":\"1105\",\"type\":\"panel.models.comm_manager.CommManager\"}],\"root_ids\":[\"1104\",\"1105\"]},\"title\":\"Bokeh Application\",\"version\":\"2.3.3\"}};\n",
       "    var render_items = [{\"docid\":\"8bc06f4a-7742-4e99-83be-30016963af49\",\"root_ids\":[\"1104\"],\"roots\":{\"1104\":\"d550b8db-e22d-4472-b7f4-2d7e4a6a4c01\"}}];\n",
       "    root.Bokeh.embed.embed_items_notebook(docs_json, render_items);\n",
       "  }\n",
       "  if (root.Bokeh !== undefined && root.Bokeh.Panel !== undefined) {\n",
       "    embed_document(root);\n",
       "  } else {\n",
       "    var attempts = 0;\n",
       "    var timer = setInterval(function(root) {\n",
       "      if (root.Bokeh !== undefined && root.Bokeh.Panel !== undefined) {\n",
       "        clearInterval(timer);\n",
       "        embed_document(root);\n",
       "      } else if (document.readyState == \"complete\") {\n",
       "        attempts++;\n",
       "        if (attempts > 100) {\n",
       "          clearInterval(timer);\n",
       "          console.log(\"Bokeh: ERROR: Unable to run BokehJS code because BokehJS library is missing\");\n",
       "        }\n",
       "      }\n",
       "    }, 10, root)\n",
       "  }\n",
       "})(window);</script>"
      ],
      "text/plain": [
       "Alert(str, alert_type='success', css_classes=['alert', 'alert-success']...], margin=(0, 0, 25, 0), sizing_mode='stretch_width')"
      ]
     },
     "metadata": {
      "application/vnd.holoviews_exec.v0+json": {
       "id": "1104"
      }
     },
     "output_type": "display_data"
    }
   ],
   "source": [
    "cdhit_fasta = output_clustering_dir+project_name+\"clusters.cdhit\"  \n",
    "cdhit(merged_contigs,0.8,0.95, cdhit_fasta, logger)"
   ]
  },
  {
   "cell_type": "markdown",
   "metadata": {},
   "source": [
    "#### __Analyzing cdhit results__"
   ]
  },
  {
   "cell_type": "code",
   "execution_count": 13,
   "metadata": {},
   "outputs": [],
   "source": [
    "cdhit_fasta = output_clustering_dir+project_name+\"clusters.cdhit\"  \n",
    "cdhit_cluster = cdhit_fasta + \".clstr\"\n",
    "cdhit_csv=cdhit_fasta + \".csv\"\n",
    "df_cdhit=parse_cdhit(cdhit_cluster, df_group, cdhit_csv)\n",
    "\n",
    "#Dashboard\n",
    "dashboard_cdhit(df_cdhit)"
   ]
  },
  {
   "cell_type": "markdown",
   "metadata": {},
   "source": [
    "[<img src=\"Images/up-arrow.png\" alt=\"Top\" width=2% align=\"right\">](#home \"Go back to the top\")\n",
    "    \n",
    "### <span style=\"color: #919395\"> 6 - Anchoring Clusters on Reference Genome<a class=\"anchor\" id=\"anchoring\"></a></span>\n",
    "\n",
    "#### __Generating panreference__\n",
    "\n",
    "#### __Mapping against panreference__\n",
    "\n",
    "#### __Anchoring contigs on reference genome__\n",
    "\n",
    "#### __Panreference dashboard__\n",
    "\n",
    "---\n"
   ]
  }
 ],
 "metadata": {
  "hide_input": false,
  "kernelspec": {
   "display_name": "Python 3 (ipykernel)",
   "language": "python",
   "name": "python3"
  },
  "language_info": {
   "codemirror_mode": {
    "name": "ipython",
    "version": 3
   },
   "file_extension": ".py",
   "mimetype": "text/x-python",
   "name": "python",
   "nbconvert_exporter": "python",
   "pygments_lexer": "ipython3",
   "version": "3.8.5"
  }
 },
 "nbformat": 4,
 "nbformat_minor": 4
}
