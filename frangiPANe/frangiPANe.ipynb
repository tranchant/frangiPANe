{
 "cells": [
  {
   "cell_type": "markdown",
   "metadata": {},
   "source": [
    "<a class=\"anchor\" id=\"home\"><img src=\"Images/frangiPANe.png\" width=50% align=right></a>"
   ]
  },
  {
   "cell_type": "markdown",
   "metadata": {},
   "source": [
    "***\n",
    "\n",
    "# <span style=\"color: #3987C4;\">Table of contents</span>\n",
    "<a class=\"anchor\" id=\"home\"></a>\n",
    "\n",
    "[I - What is frangiPANe?](#whatabout)\n",
    "\n",
    "* [Map-then-assembly approach](#approach)\n",
    "* [Requirements](#requirements)\n",
    "* [Data test](#datatest)\n",
    "* [License](#license)\n",
    "    \n",
    "[II - Preparing frangiPANe analysis](#howtoconfigure)\n",
    "* [Import python packages used by frangiPANe](#importpackages)\n",
    "* [Definition of input data used by frangiPANe workflow](#configinput)\n",
    "* [Creating frangiPANe output directory](#outputdir)\n",
    "* [Creating log file](#logfile)\n",
    "* [Preparing Genome Reference for next analysis](#reference)\n",
    "* [Analyzing Group File](#group)\n",
    "    \n",
    "[III - Workflow](#workflow)\n",
    "* [1 - Stats about raw data](#rawdata)\n",
    "* [2 - Mapping the individuals reads against the reference genome](#mapping)\n",
    "* [3 - Assembly of the individuals' reads that do not map (properly paired) on the reference genome](#assembly)\n",
    "* [4 - Removing Contamination](#contamination)\n",
    "* [5 - Reducing Sequence Redundancy](#redundancy)\n",
    "* [6 - Anchoring Clusters on reference genome](#anchoring)\n",
    "\n",
    "***\n",
    "\n",
    "[<img src=\"Images/up-arrow.png\" alt=\"Top\" width=2% align=\"right\">](#home \"Go back to the top\")\n",
    "\n",
    "# <span style=\"color: #3987C4;\"> I - What is frangiPANe ?  <a class=\"anchor\" id=\"whatabout\"></a></span>\n",
    "\n",
    "This tool allows the generation of a linear panreference, from paired-end short-reads and a reference genome using a Map-Then-Assembly approach.\n",
    "\n",
    "<img src=\"Images/frangiPANe_overview.jpg\" width=70%>\n",
    "\n",
    "### <span style=\"color: #919395\"> _Map-then-assembly approach_ <a class=\"anchor\" id=\"approach\"></a></span>\n",
    "\n",
    "<img src=\"Images/approachMapThenAssembly.jpg\" width=80%>\n",
    "\n",
    "### <span style=\"color: #919395\"> _Data test_ <a class=\"anchor\" id=\"datatest\"></a></span>\n",
    "\n",
    "<details>\n",
    "\n",
    "\n",
    "#### __Rice__ \n",
    "\n",
    "##### _Illumina sequenced dataset_\n",
    "\n",
    "3 African Rice whole-genome sequences (Cubry and al., 2018) were used (paired-end illumina, 2x101bp, ~35X) :\n",
    "\n",
    "* AA, _O. barthii_ (African Rice wild)\n",
    "* AB, _O. barthii_ (African Rice wild)\n",
    "* DT, _O. glaberrima_ (African Rice cultivated)\n",
    "\n",
    "><sub><sup>Cubry P, Tranchant-Dubreuil C, Thuillet AC, Monat C, Ndjiondjop MN, Labadie K, Cruaud C, Engelen S, Scarcelli N, Rhoné B, Burgarella C, Dupuy C, Larmande P, Wincker P, François O, Sabot F, Vigouroux Y. The Rise and Fall of African Rice Cultivation Revealed by Analysis of 246 New Genomes. Curr Biol. 2018 Jul 23;28(14):2274-2282.e6. doi: 10.1016/j.cub.2018.05.066. Epub 2018 Jul 5. PMID: 29983312.</sub></sup>\n",
    "\n",
    "##### _Genome Reference_\n",
    "\n",
    "_Oryza glaberrima_ (OMAPv2 sequence, ref)\n",
    "\n",
    "</details>\n",
    "\n",
    "### <span style=\"color: #919395\">_Requirements_ <a class=\"anchor\" id=\"requirements\"></a></span>\n",
    "\n",
    "<details>\n",
    "\n",
    "* python version\n",
    "\n",
    "* Python modules used\n",
    "    * os, io, subprocess\n",
    "    * Ipython\n",
    "    * ipywidgets\n",
    "    * trailets\n",
    "    * tkinter\n",
    "    * numpy, pandas\n",
    "    * matplotlib\n",
    "    * seaborn\n",
    "    * panel\n",
    "    \n",
    "* Bioinformatics software (version)\n",
    "    * ea-utils (fastq-stats [doc] (https://expressionanalysis.github.io/ea-utils/)] : Command-line tools for processing biological sequencing data. \n",
    "    * BWA [[doc](http://bio-bwa.sourceforge.net/bwa.shtml), [github](https://github.com/lh3/bwa)] : software package for mapping DNA sequences against a large reference genome\n",
    "    * Samtools [[doc](http://www.htslib.org/doc/samtools.html)] : suite of programs for interacting with high-throughput sequencing data : http://www.htslib.org/download/\n",
    "    * ABySS [[github](https://github.com/bcgsc/abyss)] : de novo sequence assembler intended for short paired-end reads and large genomes\n",
    "    * assembly-stats [[github](https://github.com/sanger-pathogens/assembly-stats)] \n",
    "    * cd_hit [[github](https://github.com/weizhongli/cdhit/blob/master/doc/cdhit-user-guide.wiki)]\n",
    "\n",
    "</details>\n",
    "\n",
    "### <span style=\"color: #919395\">_License_ <a class=\"anchor\" id=\"license\"></a></span>\n",
    "\n",
    "* Licencied under CeCill-C (http://www.cecill.info/licences/Licence_CeCILL-C_V1-en.html) and GPLv3\n",
    "* Intellectual property belongs to IRD, ... and SouthGreen development platform\n",
    "* Written by Clothilde Chenal and Christine Tranchant-Dubreuil\n",
    "* Copyright 2021"
   ]
  },
  {
   "cell_type": "markdown",
   "metadata": {},
   "source": [
    "from IPython.display import Javascript\n",
    "Javascript(\"Jupyter.notebook.execute_cells([2])\")nts/These/frangiPANeGIT/ricents/These/frangiPANeGIT/ricents/These/frangiPANeGIT/rice***\n",
    "\n",
    "[<img src=\"Images/up-arrow.png\" alt=\"Top\" width=2% align=\"right\">](#home \"Go back to the top\")\n",
    "\n",
    "# <span style=\"color: #3987C4;\">II - Preparing frangiPANe analysis <a class=\"anchor\" id=\"howtoconfigure\"></a></span>\n",
    "\n",
    "### <span style=\"color: #919395\"> _Import python packages used by frangiPANe_ </span>"
   ]
  },
  {
   "cell_type": "code",
   "execution_count": 1,
   "metadata": {
    "tags": [
     "plotcell"
    ]
   },
   "outputs": [
    {
     "data": {
      "application/javascript": [
       "\n",
       "(function(root) {\n",
       "  function now() {\n",
       "    return new Date();\n",
       "  }\n",
       "\n",
       "  var force = true;\n",
       "\n",
       "  if (typeof root._bokeh_onload_callbacks === \"undefined\" || force === true) {\n",
       "    root._bokeh_onload_callbacks = [];\n",
       "    root._bokeh_is_loading = undefined;\n",
       "  }\n",
       "\n",
       "  if (typeof (root._bokeh_timeout) === \"undefined\" || force === true) {\n",
       "    root._bokeh_timeout = Date.now() + 5000;\n",
       "    root._bokeh_failed_load = false;\n",
       "  }\n",
       "\n",
       "  function run_callbacks() {\n",
       "    try {\n",
       "      root._bokeh_onload_callbacks.forEach(function(callback) {\n",
       "        if (callback != null)\n",
       "          callback();\n",
       "      });\n",
       "    } finally {\n",
       "      delete root._bokeh_onload_callbacks\n",
       "    }\n",
       "    console.debug(\"Bokeh: all callbacks have finished\");\n",
       "  }\n",
       "\n",
       "  function load_libs(css_urls, js_urls, js_modules, callback) {\n",
       "    if (css_urls == null) css_urls = [];\n",
       "    if (js_urls == null) js_urls = [];\n",
       "    if (js_modules == null) js_modules = [];\n",
       "\n",
       "    root._bokeh_onload_callbacks.push(callback);\n",
       "    if (root._bokeh_is_loading > 0) {\n",
       "      console.debug(\"Bokeh: BokehJS is being loaded, scheduling callback at\", now());\n",
       "      return null;\n",
       "    }\n",
       "    if (js_urls.length === 0 && js_modules.length === 0) {\n",
       "      run_callbacks();\n",
       "      return null;\n",
       "    }\n",
       "    console.debug(\"Bokeh: BokehJS not loaded, scheduling load and callback at\", now());\n",
       "    root._bokeh_is_loading = css_urls.length + js_urls.length + js_modules.length;\n",
       "\n",
       "    function on_load() {\n",
       "      root._bokeh_is_loading--;\n",
       "      if (root._bokeh_is_loading === 0) {\n",
       "        console.debug(\"Bokeh: all BokehJS libraries/stylesheets loaded\");\n",
       "        run_callbacks()\n",
       "      }\n",
       "    }\n",
       "\n",
       "    function on_error() {\n",
       "      console.error(\"failed to load \" + url);\n",
       "    }\n",
       "\n",
       "    for (var i = 0; i < css_urls.length; i++) {\n",
       "      var url = css_urls[i];\n",
       "      const element = document.createElement(\"link\");\n",
       "      element.onload = on_load;\n",
       "      element.onerror = on_error;\n",
       "      element.rel = \"stylesheet\";\n",
       "      element.type = \"text/css\";\n",
       "      element.href = url;\n",
       "      console.debug(\"Bokeh: injecting link tag for BokehJS stylesheet: \", url);\n",
       "      document.body.appendChild(element);\n",
       "    }\n",
       "\n",
       "    var skip = [];\n",
       "    if (window.requirejs) {\n",
       "      window.requirejs.config({'paths': {'tabulator': 'https://unpkg.com/tabulator-tables@4.9.3/dist/js/tabulator'}});\n",
       "      require([\"tabulator\"], function(Tabulator,) {\n",
       "        window.Tabulator = Tabulator;\n",
       "      })\n",
       "    }\n",
       "    if (((window['tabulator'] !== undefined) && (!(window['tabulator'] instanceof HTMLElement))) || window.requirejs) {\n",
       "      var urls = ['https://unpkg.com/tabulator-tables@4.9.3/dist/js/tabulator.js', 'https://unpkg.com/moment@2.27.0/moment.js'];\n",
       "      for (var i = 0; i < urls.length; i++) {\n",
       "        skip.push(urls[i])\n",
       "      }\n",
       "    }\n",
       "    for (var i = 0; i < js_urls.length; i++) {\n",
       "      var url = js_urls[i];\n",
       "      if (skip.indexOf(url) >= 0) { on_load(); continue; }\n",
       "      var element = document.createElement('script');\n",
       "      element.onload = on_load;\n",
       "      element.onerror = on_error;\n",
       "      element.async = false;\n",
       "      element.src = url;\n",
       "      console.debug(\"Bokeh: injecting script tag for BokehJS library: \", url);\n",
       "      document.head.appendChild(element);\n",
       "    }\n",
       "    for (var i = 0; i < js_modules.length; i++) {\n",
       "      var url = js_modules[i];\n",
       "      if (skip.indexOf(url) >= 0) { on_load(); continue; }\n",
       "      var element = document.createElement('script');\n",
       "      element.onload = on_load;\n",
       "      element.onerror = on_error;\n",
       "      element.async = false;\n",
       "      element.src = url;\n",
       "      element.type = \"module\";\n",
       "      console.debug(\"Bokeh: injecting script tag for BokehJS library: \", url);\n",
       "      document.head.appendChild(element);\n",
       "    }\n",
       "    if (!js_urls.length && !js_modules.length) {\n",
       "      on_load()\n",
       "    }\n",
       "  };\n",
       "\n",
       "  function inject_raw_css(css) {\n",
       "    const element = document.createElement(\"style\");\n",
       "    element.appendChild(document.createTextNode(css));\n",
       "    document.body.appendChild(element);\n",
       "  }\n",
       "\n",
       "  var js_urls = [\"https://unpkg.com/tabulator-tables@4.9.3/dist/js/tabulator.js\", \"https://unpkg.com/moment@2.27.0/moment.js\", \"https://cdn.bokeh.org/bokeh/release/bokeh-2.3.3.min.js\", \"https://cdn.bokeh.org/bokeh/release/bokeh-widgets-2.3.3.min.js\", \"https://cdn.bokeh.org/bokeh/release/bokeh-tables-2.3.3.min.js\", \"https://unpkg.com/@holoviz/panel@0.11.1/dist/panel.min.js\"];\n",
       "  var js_modules = [];\n",
       "  var css_urls = [\"https://unpkg.com/tabulator-tables@4.9.3/dist/css/tabulator_simple.min.css\", \"https://unpkg.com/@holoviz/panel@0.11.1/dist/css/widgets.css\", \"https://unpkg.com/@holoviz/panel@0.11.1/dist/css/loading.css\", \"https://unpkg.com/@holoviz/panel@0.11.1/dist/css/dataframe.css\", \"https://unpkg.com/@holoviz/panel@0.11.1/dist/css/alerts.css\", \"https://unpkg.com/@holoviz/panel@0.11.1/dist/css/markdown.css\", \"https://unpkg.com/@holoviz/panel@0.11.1/dist/css/json.css\", \"https://unpkg.com/@holoviz/panel@0.11.1/dist/css/card.css\"];\n",
       "  var inline_js = [\n",
       "    function(Bokeh) {\n",
       "      inject_raw_css(\"\\n    .bk.pn-loading.arcs:before {\\n      background-image: url(\\\"data:image/svg+xml;base64,PHN2ZyB4bWxucz0iaHR0cDovL3d3dy53My5vcmcvMjAwMC9zdmciIHhtbG5zOnhsaW5rPSJodHRwOi8vd3d3LnczLm9yZy8xOTk5L3hsaW5rIiBzdHlsZT0ibWFyZ2luOiBhdXRvOyBiYWNrZ3JvdW5kOiBub25lOyBkaXNwbGF5OiBibG9jazsgc2hhcGUtcmVuZGVyaW5nOiBhdXRvOyIgdmlld0JveD0iMCAwIDEwMCAxMDAiIHByZXNlcnZlQXNwZWN0UmF0aW89InhNaWRZTWlkIj4gIDxjaXJjbGUgY3g9IjUwIiBjeT0iNTAiIHI9IjMyIiBzdHJva2Utd2lkdGg9IjgiIHN0cm9rZT0iI2MzYzNjMyIgc3Ryb2tlLWRhc2hhcnJheT0iNTAuMjY1NDgyNDU3NDM2NjkgNTAuMjY1NDgyNDU3NDM2NjkiIGZpbGw9Im5vbmUiIHN0cm9rZS1saW5lY2FwPSJyb3VuZCI+ICAgIDxhbmltYXRlVHJhbnNmb3JtIGF0dHJpYnV0ZU5hbWU9InRyYW5zZm9ybSIgdHlwZT0icm90YXRlIiByZXBlYXRDb3VudD0iaW5kZWZpbml0ZSIgZHVyPSIxcyIga2V5VGltZXM9IjA7MSIgdmFsdWVzPSIwIDUwIDUwOzM2MCA1MCA1MCI+PC9hbmltYXRlVHJhbnNmb3JtPiAgPC9jaXJjbGU+PC9zdmc+\\\")\\n    }\\n    \");\n",
       "    },\n",
       "    function(Bokeh) {\n",
       "      Bokeh.set_log_level(\"info\");\n",
       "    },\n",
       "    function(Bokeh) {} // ensure no trailing comma for IE\n",
       "  ];\n",
       "\n",
       "  function run_inline_js() {\n",
       "    if ((root.Bokeh !== undefined) || (force === true)) {\n",
       "      for (var i = 0; i < inline_js.length; i++) {\n",
       "        inline_js[i].call(root, root.Bokeh);\n",
       "      }} else if (Date.now() < root._bokeh_timeout) {\n",
       "      setTimeout(run_inline_js, 100);\n",
       "    } else if (!root._bokeh_failed_load) {\n",
       "      console.log(\"Bokeh: BokehJS failed to load within specified timeout.\");\n",
       "      root._bokeh_failed_load = true;\n",
       "    }\n",
       "  }\n",
       "\n",
       "  if (root._bokeh_is_loading === 0) {\n",
       "    console.debug(\"Bokeh: BokehJS loaded, going straight to plotting\");\n",
       "    run_inline_js();\n",
       "  } else {\n",
       "    load_libs(css_urls, js_urls, js_modules, function() {\n",
       "      console.debug(\"Bokeh: BokehJS plotting callback run at\", now());\n",
       "      run_inline_js();\n",
       "    });\n",
       "  }\n",
       "}(window));"
      ],
      "application/vnd.holoviews_load.v0+json": "\n(function(root) {\n  function now() {\n    return new Date();\n  }\n\n  var force = true;\n\n  if (typeof root._bokeh_onload_callbacks === \"undefined\" || force === true) {\n    root._bokeh_onload_callbacks = [];\n    root._bokeh_is_loading = undefined;\n  }\n\n  if (typeof (root._bokeh_timeout) === \"undefined\" || force === true) {\n    root._bokeh_timeout = Date.now() + 5000;\n    root._bokeh_failed_load = false;\n  }\n\n  function run_callbacks() {\n    try {\n      root._bokeh_onload_callbacks.forEach(function(callback) {\n        if (callback != null)\n          callback();\n      });\n    } finally {\n      delete root._bokeh_onload_callbacks\n    }\n    console.debug(\"Bokeh: all callbacks have finished\");\n  }\n\n  function load_libs(css_urls, js_urls, js_modules, callback) {\n    if (css_urls == null) css_urls = [];\n    if (js_urls == null) js_urls = [];\n    if (js_modules == null) js_modules = [];\n\n    root._bokeh_onload_callbacks.push(callback);\n    if (root._bokeh_is_loading > 0) {\n      console.debug(\"Bokeh: BokehJS is being loaded, scheduling callback at\", now());\n      return null;\n    }\n    if (js_urls.length === 0 && js_modules.length === 0) {\n      run_callbacks();\n      return null;\n    }\n    console.debug(\"Bokeh: BokehJS not loaded, scheduling load and callback at\", now());\n    root._bokeh_is_loading = css_urls.length + js_urls.length + js_modules.length;\n\n    function on_load() {\n      root._bokeh_is_loading--;\n      if (root._bokeh_is_loading === 0) {\n        console.debug(\"Bokeh: all BokehJS libraries/stylesheets loaded\");\n        run_callbacks()\n      }\n    }\n\n    function on_error() {\n      console.error(\"failed to load \" + url);\n    }\n\n    for (var i = 0; i < css_urls.length; i++) {\n      var url = css_urls[i];\n      const element = document.createElement(\"link\");\n      element.onload = on_load;\n      element.onerror = on_error;\n      element.rel = \"stylesheet\";\n      element.type = \"text/css\";\n      element.href = url;\n      console.debug(\"Bokeh: injecting link tag for BokehJS stylesheet: \", url);\n      document.body.appendChild(element);\n    }\n\n    var skip = [];\n    if (window.requirejs) {\n      window.requirejs.config({'paths': {'tabulator': 'https://unpkg.com/tabulator-tables@4.9.3/dist/js/tabulator'}});\n      require([\"tabulator\"], function(Tabulator,) {\n        window.Tabulator = Tabulator;\n      })\n    }\n    if (((window['tabulator'] !== undefined) && (!(window['tabulator'] instanceof HTMLElement))) || window.requirejs) {\n      var urls = ['https://unpkg.com/tabulator-tables@4.9.3/dist/js/tabulator.js', 'https://unpkg.com/moment@2.27.0/moment.js'];\n      for (var i = 0; i < urls.length; i++) {\n        skip.push(urls[i])\n      }\n    }\n    for (var i = 0; i < js_urls.length; i++) {\n      var url = js_urls[i];\n      if (skip.indexOf(url) >= 0) { on_load(); continue; }\n      var element = document.createElement('script');\n      element.onload = on_load;\n      element.onerror = on_error;\n      element.async = false;\n      element.src = url;\n      console.debug(\"Bokeh: injecting script tag for BokehJS library: \", url);\n      document.head.appendChild(element);\n    }\n    for (var i = 0; i < js_modules.length; i++) {\n      var url = js_modules[i];\n      if (skip.indexOf(url) >= 0) { on_load(); continue; }\n      var element = document.createElement('script');\n      element.onload = on_load;\n      element.onerror = on_error;\n      element.async = false;\n      element.src = url;\n      element.type = \"module\";\n      console.debug(\"Bokeh: injecting script tag for BokehJS library: \", url);\n      document.head.appendChild(element);\n    }\n    if (!js_urls.length && !js_modules.length) {\n      on_load()\n    }\n  };\n\n  function inject_raw_css(css) {\n    const element = document.createElement(\"style\");\n    element.appendChild(document.createTextNode(css));\n    document.body.appendChild(element);\n  }\n\n  var js_urls = [\"https://unpkg.com/tabulator-tables@4.9.3/dist/js/tabulator.js\", \"https://unpkg.com/moment@2.27.0/moment.js\", \"https://cdn.bokeh.org/bokeh/release/bokeh-2.3.3.min.js\", \"https://cdn.bokeh.org/bokeh/release/bokeh-widgets-2.3.3.min.js\", \"https://cdn.bokeh.org/bokeh/release/bokeh-tables-2.3.3.min.js\", \"https://unpkg.com/@holoviz/panel@0.11.1/dist/panel.min.js\"];\n  var js_modules = [];\n  var css_urls = [\"https://unpkg.com/tabulator-tables@4.9.3/dist/css/tabulator_simple.min.css\", \"https://unpkg.com/@holoviz/panel@0.11.1/dist/css/widgets.css\", \"https://unpkg.com/@holoviz/panel@0.11.1/dist/css/loading.css\", \"https://unpkg.com/@holoviz/panel@0.11.1/dist/css/dataframe.css\", \"https://unpkg.com/@holoviz/panel@0.11.1/dist/css/alerts.css\", \"https://unpkg.com/@holoviz/panel@0.11.1/dist/css/markdown.css\", \"https://unpkg.com/@holoviz/panel@0.11.1/dist/css/json.css\", \"https://unpkg.com/@holoviz/panel@0.11.1/dist/css/card.css\"];\n  var inline_js = [\n    function(Bokeh) {\n      inject_raw_css(\"\\n    .bk.pn-loading.arcs:before {\\n      background-image: url(\\\"data:image/svg+xml;base64,PHN2ZyB4bWxucz0iaHR0cDovL3d3dy53My5vcmcvMjAwMC9zdmciIHhtbG5zOnhsaW5rPSJodHRwOi8vd3d3LnczLm9yZy8xOTk5L3hsaW5rIiBzdHlsZT0ibWFyZ2luOiBhdXRvOyBiYWNrZ3JvdW5kOiBub25lOyBkaXNwbGF5OiBibG9jazsgc2hhcGUtcmVuZGVyaW5nOiBhdXRvOyIgdmlld0JveD0iMCAwIDEwMCAxMDAiIHByZXNlcnZlQXNwZWN0UmF0aW89InhNaWRZTWlkIj4gIDxjaXJjbGUgY3g9IjUwIiBjeT0iNTAiIHI9IjMyIiBzdHJva2Utd2lkdGg9IjgiIHN0cm9rZT0iI2MzYzNjMyIgc3Ryb2tlLWRhc2hhcnJheT0iNTAuMjY1NDgyNDU3NDM2NjkgNTAuMjY1NDgyNDU3NDM2NjkiIGZpbGw9Im5vbmUiIHN0cm9rZS1saW5lY2FwPSJyb3VuZCI+ICAgIDxhbmltYXRlVHJhbnNmb3JtIGF0dHJpYnV0ZU5hbWU9InRyYW5zZm9ybSIgdHlwZT0icm90YXRlIiByZXBlYXRDb3VudD0iaW5kZWZpbml0ZSIgZHVyPSIxcyIga2V5VGltZXM9IjA7MSIgdmFsdWVzPSIwIDUwIDUwOzM2MCA1MCA1MCI+PC9hbmltYXRlVHJhbnNmb3JtPiAgPC9jaXJjbGU+PC9zdmc+\\\")\\n    }\\n    \");\n    },\n    function(Bokeh) {\n      Bokeh.set_log_level(\"info\");\n    },\n    function(Bokeh) {} // ensure no trailing comma for IE\n  ];\n\n  function run_inline_js() {\n    if ((root.Bokeh !== undefined) || (force === true)) {\n      for (var i = 0; i < inline_js.length; i++) {\n        inline_js[i].call(root, root.Bokeh);\n      }} else if (Date.now() < root._bokeh_timeout) {\n      setTimeout(run_inline_js, 100);\n    } else if (!root._bokeh_failed_load) {\n      console.log(\"Bokeh: BokehJS failed to load within specified timeout.\");\n      root._bokeh_failed_load = true;\n    }\n  }\n\n  if (root._bokeh_is_loading === 0) {\n    console.debug(\"Bokeh: BokehJS loaded, going straight to plotting\");\n    run_inline_js();\n  } else {\n    load_libs(css_urls, js_urls, js_modules, function() {\n      console.debug(\"Bokeh: BokehJS plotting callback run at\", now());\n      run_inline_js();\n    });\n  }\n}(window));"
     },
     "metadata": {},
     "output_type": "display_data"
    },
    {
     "data": {
      "application/javascript": [
       "\n",
       "if ((window.PyViz === undefined) || (window.PyViz instanceof HTMLElement)) {\n",
       "  window.PyViz = {comms: {}, comm_status:{}, kernels:{}, receivers: {}, plot_index: []}\n",
       "}\n",
       "\n",
       "\n",
       "    function JupyterCommManager() {\n",
       "    }\n",
       "\n",
       "    JupyterCommManager.prototype.register_target = function(plot_id, comm_id, msg_handler) {\n",
       "      if (window.comm_manager || ((window.Jupyter !== undefined) && (Jupyter.notebook.kernel != null))) {\n",
       "        var comm_manager = window.comm_manager || Jupyter.notebook.kernel.comm_manager;\n",
       "        comm_manager.register_target(comm_id, function(comm) {\n",
       "          comm.on_msg(msg_handler);\n",
       "        });\n",
       "      } else if ((plot_id in window.PyViz.kernels) && (window.PyViz.kernels[plot_id])) {\n",
       "        window.PyViz.kernels[plot_id].registerCommTarget(comm_id, function(comm) {\n",
       "          comm.onMsg = msg_handler;\n",
       "        });\n",
       "      } else if (typeof google != 'undefined' && google.colab.kernel != null) {\n",
       "        google.colab.kernel.comms.registerTarget(comm_id, (comm) => {\n",
       "          var messages = comm.messages[Symbol.asyncIterator]();\n",
       "          function processIteratorResult(result) {\n",
       "            var message = result.value;\n",
       "            console.log(message)\n",
       "            var content = {data: message.data, comm_id};\n",
       "            var buffers = []\n",
       "            for (var buffer of message.buffers || []) {\n",
       "              buffers.push(new DataView(buffer))\n",
       "            }\n",
       "            var metadata = message.metadata || {};\n",
       "            var msg = {content, buffers, metadata}\n",
       "            msg_handler(msg);\n",
       "            return messages.next().then(processIteratorResult);\n",
       "          }\n",
       "          return messages.next().then(processIteratorResult);\n",
       "        })\n",
       "      }\n",
       "    }\n",
       "\n",
       "    JupyterCommManager.prototype.get_client_comm = function(plot_id, comm_id, msg_handler) {\n",
       "      if (comm_id in window.PyViz.comms) {\n",
       "        return window.PyViz.comms[comm_id];\n",
       "      } else if (window.comm_manager || ((window.Jupyter !== undefined) && (Jupyter.notebook.kernel != null))) {\n",
       "        var comm_manager = window.comm_manager || Jupyter.notebook.kernel.comm_manager;\n",
       "        var comm = comm_manager.new_comm(comm_id, {}, {}, {}, comm_id);\n",
       "        if (msg_handler) {\n",
       "          comm.on_msg(msg_handler);\n",
       "        }\n",
       "      } else if ((plot_id in window.PyViz.kernels) && (window.PyViz.kernels[plot_id])) {\n",
       "        var comm = window.PyViz.kernels[plot_id].connectToComm(comm_id);\n",
       "        comm.open();\n",
       "        if (msg_handler) {\n",
       "          comm.onMsg = msg_handler;\n",
       "        }\n",
       "      } else if (typeof google != 'undefined' && google.colab.kernel != null) {\n",
       "        var comm_promise = google.colab.kernel.comms.open(comm_id)\n",
       "        comm_promise.then((comm) => {\n",
       "          window.PyViz.comms[comm_id] = comm;\n",
       "          if (msg_handler) {\n",
       "            var messages = comm.messages[Symbol.asyncIterator]();\n",
       "            function processIteratorResult(result) {\n",
       "              var message = result.value;\n",
       "              var content = {data: message.data};\n",
       "              var metadata = message.metadata || {comm_id};\n",
       "              var msg = {content, metadata}\n",
       "              msg_handler(msg);\n",
       "              return messages.next().then(processIteratorResult);\n",
       "            }\n",
       "            return messages.next().then(processIteratorResult);\n",
       "          }\n",
       "        }) \n",
       "        var sendClosure = (data, metadata, buffers, disposeOnDone) => {\n",
       "          return comm_promise.then((comm) => {\n",
       "            comm.send(data, metadata, buffers, disposeOnDone);\n",
       "          });\n",
       "        };\n",
       "        var comm = {\n",
       "          send: sendClosure\n",
       "        };\n",
       "      }\n",
       "      window.PyViz.comms[comm_id] = comm;\n",
       "      return comm;\n",
       "    }\n",
       "    window.PyViz.comm_manager = new JupyterCommManager();\n",
       "    \n",
       "\n",
       "\n",
       "var JS_MIME_TYPE = 'application/javascript';\n",
       "var HTML_MIME_TYPE = 'text/html';\n",
       "var EXEC_MIME_TYPE = 'application/vnd.holoviews_exec.v0+json';\n",
       "var CLASS_NAME = 'output';\n",
       "\n",
       "/**\n",
       " * Render data to the DOM node\n",
       " */\n",
       "function render(props, node) {\n",
       "  var div = document.createElement(\"div\");\n",
       "  var script = document.createElement(\"script\");\n",
       "  node.appendChild(div);\n",
       "  node.appendChild(script);\n",
       "}\n",
       "\n",
       "/**\n",
       " * Handle when a new output is added\n",
       " */\n",
       "function handle_add_output(event, handle) {\n",
       "  var output_area = handle.output_area;\n",
       "  var output = handle.output;\n",
       "  if ((output.data == undefined) || (!output.data.hasOwnProperty(EXEC_MIME_TYPE))) {\n",
       "    return\n",
       "  }\n",
       "  var id = output.metadata[EXEC_MIME_TYPE][\"id\"];\n",
       "  var toinsert = output_area.element.find(\".\" + CLASS_NAME.split(' ')[0]);\n",
       "  if (id !== undefined) {\n",
       "    var nchildren = toinsert.length;\n",
       "    var html_node = toinsert[nchildren-1].children[0];\n",
       "    html_node.innerHTML = output.data[HTML_MIME_TYPE];\n",
       "    var scripts = [];\n",
       "    var nodelist = html_node.querySelectorAll(\"script\");\n",
       "    for (var i in nodelist) {\n",
       "      if (nodelist.hasOwnProperty(i)) {\n",
       "        scripts.push(nodelist[i])\n",
       "      }\n",
       "    }\n",
       "\n",
       "    scripts.forEach( function (oldScript) {\n",
       "      var newScript = document.createElement(\"script\");\n",
       "      var attrs = [];\n",
       "      var nodemap = oldScript.attributes;\n",
       "      for (var j in nodemap) {\n",
       "        if (nodemap.hasOwnProperty(j)) {\n",
       "          attrs.push(nodemap[j])\n",
       "        }\n",
       "      }\n",
       "      attrs.forEach(function(attr) { newScript.setAttribute(attr.name, attr.value) });\n",
       "      newScript.appendChild(document.createTextNode(oldScript.innerHTML));\n",
       "      oldScript.parentNode.replaceChild(newScript, oldScript);\n",
       "    });\n",
       "    if (JS_MIME_TYPE in output.data) {\n",
       "      toinsert[nchildren-1].children[1].textContent = output.data[JS_MIME_TYPE];\n",
       "    }\n",
       "    output_area._hv_plot_id = id;\n",
       "    if ((window.Bokeh !== undefined) && (id in Bokeh.index)) {\n",
       "      window.PyViz.plot_index[id] = Bokeh.index[id];\n",
       "    } else {\n",
       "      window.PyViz.plot_index[id] = null;\n",
       "    }\n",
       "  } else if (output.metadata[EXEC_MIME_TYPE][\"server_id\"] !== undefined) {\n",
       "    var bk_div = document.createElement(\"div\");\n",
       "    bk_div.innerHTML = output.data[HTML_MIME_TYPE];\n",
       "    var script_attrs = bk_div.children[0].attributes;\n",
       "    for (var i = 0; i < script_attrs.length; i++) {\n",
       "      toinsert[toinsert.length - 1].childNodes[1].setAttribute(script_attrs[i].name, script_attrs[i].value);\n",
       "    }\n",
       "    // store reference to server id on output_area\n",
       "    output_area._bokeh_server_id = output.metadata[EXEC_MIME_TYPE][\"server_id\"];\n",
       "  }\n",
       "}\n",
       "\n",
       "/**\n",
       " * Handle when an output is cleared or removed\n",
       " */\n",
       "function handle_clear_output(event, handle) {\n",
       "  var id = handle.cell.output_area._hv_plot_id;\n",
       "  var server_id = handle.cell.output_area._bokeh_server_id;\n",
       "  if (((id === undefined) || !(id in PyViz.plot_index)) && (server_id !== undefined)) { return; }\n",
       "  var comm = window.PyViz.comm_manager.get_client_comm(\"hv-extension-comm\", \"hv-extension-comm\", function () {});\n",
       "  if (server_id !== null) {\n",
       "    comm.send({event_type: 'server_delete', 'id': server_id});\n",
       "    return;\n",
       "  } else if (comm !== null) {\n",
       "    comm.send({event_type: 'delete', 'id': id});\n",
       "  }\n",
       "  delete PyViz.plot_index[id];\n",
       "  if ((window.Bokeh !== undefined) & (id in window.Bokeh.index)) {\n",
       "    var doc = window.Bokeh.index[id].model.document\n",
       "    doc.clear();\n",
       "    const i = window.Bokeh.documents.indexOf(doc);\n",
       "    if (i > -1) {\n",
       "      window.Bokeh.documents.splice(i, 1);\n",
       "    }\n",
       "  }\n",
       "}\n",
       "\n",
       "/**\n",
       " * Handle kernel restart event\n",
       " */\n",
       "function handle_kernel_cleanup(event, handle) {\n",
       "  delete PyViz.comms[\"hv-extension-comm\"];\n",
       "  window.PyViz.plot_index = {}\n",
       "}\n",
       "\n",
       "/**\n",
       " * Handle update_display_data messages\n",
       " */\n",
       "function handle_update_output(event, handle) {\n",
       "  handle_clear_output(event, {cell: {output_area: handle.output_area}})\n",
       "  handle_add_output(event, handle)\n",
       "}\n",
       "\n",
       "function register_renderer(events, OutputArea) {\n",
       "  function append_mime(data, metadata, element) {\n",
       "    // create a DOM node to render to\n",
       "    var toinsert = this.create_output_subarea(\n",
       "    metadata,\n",
       "    CLASS_NAME,\n",
       "    EXEC_MIME_TYPE\n",
       "    );\n",
       "    this.keyboard_manager.register_events(toinsert);\n",
       "    // Render to node\n",
       "    var props = {data: data, metadata: metadata[EXEC_MIME_TYPE]};\n",
       "    render(props, toinsert[0]);\n",
       "    element.append(toinsert);\n",
       "    return toinsert\n",
       "  }\n",
       "\n",
       "  events.on('output_added.OutputArea', handle_add_output);\n",
       "  events.on('output_updated.OutputArea', handle_update_output);\n",
       "  events.on('clear_output.CodeCell', handle_clear_output);\n",
       "  events.on('delete.Cell', handle_clear_output);\n",
       "  events.on('kernel_ready.Kernel', handle_kernel_cleanup);\n",
       "\n",
       "  OutputArea.prototype.register_mime_type(EXEC_MIME_TYPE, append_mime, {\n",
       "    safe: true,\n",
       "    index: 0\n",
       "  });\n",
       "}\n",
       "\n",
       "if (window.Jupyter !== undefined) {\n",
       "  try {\n",
       "    var events = require('base/js/events');\n",
       "    var OutputArea = require('notebook/js/outputarea').OutputArea;\n",
       "    if (OutputArea.prototype.mime_types().indexOf(EXEC_MIME_TYPE) == -1) {\n",
       "      register_renderer(events, OutputArea);\n",
       "    }\n",
       "  } catch(err) {\n",
       "  }\n",
       "}\n"
      ],
      "application/vnd.holoviews_load.v0+json": "\nif ((window.PyViz === undefined) || (window.PyViz instanceof HTMLElement)) {\n  window.PyViz = {comms: {}, comm_status:{}, kernels:{}, receivers: {}, plot_index: []}\n}\n\n\n    function JupyterCommManager() {\n    }\n\n    JupyterCommManager.prototype.register_target = function(plot_id, comm_id, msg_handler) {\n      if (window.comm_manager || ((window.Jupyter !== undefined) && (Jupyter.notebook.kernel != null))) {\n        var comm_manager = window.comm_manager || Jupyter.notebook.kernel.comm_manager;\n        comm_manager.register_target(comm_id, function(comm) {\n          comm.on_msg(msg_handler);\n        });\n      } else if ((plot_id in window.PyViz.kernels) && (window.PyViz.kernels[plot_id])) {\n        window.PyViz.kernels[plot_id].registerCommTarget(comm_id, function(comm) {\n          comm.onMsg = msg_handler;\n        });\n      } else if (typeof google != 'undefined' && google.colab.kernel != null) {\n        google.colab.kernel.comms.registerTarget(comm_id, (comm) => {\n          var messages = comm.messages[Symbol.asyncIterator]();\n          function processIteratorResult(result) {\n            var message = result.value;\n            console.log(message)\n            var content = {data: message.data, comm_id};\n            var buffers = []\n            for (var buffer of message.buffers || []) {\n              buffers.push(new DataView(buffer))\n            }\n            var metadata = message.metadata || {};\n            var msg = {content, buffers, metadata}\n            msg_handler(msg);\n            return messages.next().then(processIteratorResult);\n          }\n          return messages.next().then(processIteratorResult);\n        })\n      }\n    }\n\n    JupyterCommManager.prototype.get_client_comm = function(plot_id, comm_id, msg_handler) {\n      if (comm_id in window.PyViz.comms) {\n        return window.PyViz.comms[comm_id];\n      } else if (window.comm_manager || ((window.Jupyter !== undefined) && (Jupyter.notebook.kernel != null))) {\n        var comm_manager = window.comm_manager || Jupyter.notebook.kernel.comm_manager;\n        var comm = comm_manager.new_comm(comm_id, {}, {}, {}, comm_id);\n        if (msg_handler) {\n          comm.on_msg(msg_handler);\n        }\n      } else if ((plot_id in window.PyViz.kernels) && (window.PyViz.kernels[plot_id])) {\n        var comm = window.PyViz.kernels[plot_id].connectToComm(comm_id);\n        comm.open();\n        if (msg_handler) {\n          comm.onMsg = msg_handler;\n        }\n      } else if (typeof google != 'undefined' && google.colab.kernel != null) {\n        var comm_promise = google.colab.kernel.comms.open(comm_id)\n        comm_promise.then((comm) => {\n          window.PyViz.comms[comm_id] = comm;\n          if (msg_handler) {\n            var messages = comm.messages[Symbol.asyncIterator]();\n            function processIteratorResult(result) {\n              var message = result.value;\n              var content = {data: message.data};\n              var metadata = message.metadata || {comm_id};\n              var msg = {content, metadata}\n              msg_handler(msg);\n              return messages.next().then(processIteratorResult);\n            }\n            return messages.next().then(processIteratorResult);\n          }\n        }) \n        var sendClosure = (data, metadata, buffers, disposeOnDone) => {\n          return comm_promise.then((comm) => {\n            comm.send(data, metadata, buffers, disposeOnDone);\n          });\n        };\n        var comm = {\n          send: sendClosure\n        };\n      }\n      window.PyViz.comms[comm_id] = comm;\n      return comm;\n    }\n    window.PyViz.comm_manager = new JupyterCommManager();\n    \n\n\nvar JS_MIME_TYPE = 'application/javascript';\nvar HTML_MIME_TYPE = 'text/html';\nvar EXEC_MIME_TYPE = 'application/vnd.holoviews_exec.v0+json';\nvar CLASS_NAME = 'output';\n\n/**\n * Render data to the DOM node\n */\nfunction render(props, node) {\n  var div = document.createElement(\"div\");\n  var script = document.createElement(\"script\");\n  node.appendChild(div);\n  node.appendChild(script);\n}\n\n/**\n * Handle when a new output is added\n */\nfunction handle_add_output(event, handle) {\n  var output_area = handle.output_area;\n  var output = handle.output;\n  if ((output.data == undefined) || (!output.data.hasOwnProperty(EXEC_MIME_TYPE))) {\n    return\n  }\n  var id = output.metadata[EXEC_MIME_TYPE][\"id\"];\n  var toinsert = output_area.element.find(\".\" + CLASS_NAME.split(' ')[0]);\n  if (id !== undefined) {\n    var nchildren = toinsert.length;\n    var html_node = toinsert[nchildren-1].children[0];\n    html_node.innerHTML = output.data[HTML_MIME_TYPE];\n    var scripts = [];\n    var nodelist = html_node.querySelectorAll(\"script\");\n    for (var i in nodelist) {\n      if (nodelist.hasOwnProperty(i)) {\n        scripts.push(nodelist[i])\n      }\n    }\n\n    scripts.forEach( function (oldScript) {\n      var newScript = document.createElement(\"script\");\n      var attrs = [];\n      var nodemap = oldScript.attributes;\n      for (var j in nodemap) {\n        if (nodemap.hasOwnProperty(j)) {\n          attrs.push(nodemap[j])\n        }\n      }\n      attrs.forEach(function(attr) { newScript.setAttribute(attr.name, attr.value) });\n      newScript.appendChild(document.createTextNode(oldScript.innerHTML));\n      oldScript.parentNode.replaceChild(newScript, oldScript);\n    });\n    if (JS_MIME_TYPE in output.data) {\n      toinsert[nchildren-1].children[1].textContent = output.data[JS_MIME_TYPE];\n    }\n    output_area._hv_plot_id = id;\n    if ((window.Bokeh !== undefined) && (id in Bokeh.index)) {\n      window.PyViz.plot_index[id] = Bokeh.index[id];\n    } else {\n      window.PyViz.plot_index[id] = null;\n    }\n  } else if (output.metadata[EXEC_MIME_TYPE][\"server_id\"] !== undefined) {\n    var bk_div = document.createElement(\"div\");\n    bk_div.innerHTML = output.data[HTML_MIME_TYPE];\n    var script_attrs = bk_div.children[0].attributes;\n    for (var i = 0; i < script_attrs.length; i++) {\n      toinsert[toinsert.length - 1].childNodes[1].setAttribute(script_attrs[i].name, script_attrs[i].value);\n    }\n    // store reference to server id on output_area\n    output_area._bokeh_server_id = output.metadata[EXEC_MIME_TYPE][\"server_id\"];\n  }\n}\n\n/**\n * Handle when an output is cleared or removed\n */\nfunction handle_clear_output(event, handle) {\n  var id = handle.cell.output_area._hv_plot_id;\n  var server_id = handle.cell.output_area._bokeh_server_id;\n  if (((id === undefined) || !(id in PyViz.plot_index)) && (server_id !== undefined)) { return; }\n  var comm = window.PyViz.comm_manager.get_client_comm(\"hv-extension-comm\", \"hv-extension-comm\", function () {});\n  if (server_id !== null) {\n    comm.send({event_type: 'server_delete', 'id': server_id});\n    return;\n  } else if (comm !== null) {\n    comm.send({event_type: 'delete', 'id': id});\n  }\n  delete PyViz.plot_index[id];\n  if ((window.Bokeh !== undefined) & (id in window.Bokeh.index)) {\n    var doc = window.Bokeh.index[id].model.document\n    doc.clear();\n    const i = window.Bokeh.documents.indexOf(doc);\n    if (i > -1) {\n      window.Bokeh.documents.splice(i, 1);\n    }\n  }\n}\n\n/**\n * Handle kernel restart event\n */\nfunction handle_kernel_cleanup(event, handle) {\n  delete PyViz.comms[\"hv-extension-comm\"];\n  window.PyViz.plot_index = {}\n}\n\n/**\n * Handle update_display_data messages\n */\nfunction handle_update_output(event, handle) {\n  handle_clear_output(event, {cell: {output_area: handle.output_area}})\n  handle_add_output(event, handle)\n}\n\nfunction register_renderer(events, OutputArea) {\n  function append_mime(data, metadata, element) {\n    // create a DOM node to render to\n    var toinsert = this.create_output_subarea(\n    metadata,\n    CLASS_NAME,\n    EXEC_MIME_TYPE\n    );\n    this.keyboard_manager.register_events(toinsert);\n    // Render to node\n    var props = {data: data, metadata: metadata[EXEC_MIME_TYPE]};\n    render(props, toinsert[0]);\n    element.append(toinsert);\n    return toinsert\n  }\n\n  events.on('output_added.OutputArea', handle_add_output);\n  events.on('output_updated.OutputArea', handle_update_output);\n  events.on('clear_output.CodeCell', handle_clear_output);\n  events.on('delete.Cell', handle_clear_output);\n  events.on('kernel_ready.Kernel', handle_kernel_cleanup);\n\n  OutputArea.prototype.register_mime_type(EXEC_MIME_TYPE, append_mime, {\n    safe: true,\n    index: 0\n  });\n}\n\nif (window.Jupyter !== undefined) {\n  try {\n    var events = require('base/js/events');\n    var OutputArea = require('notebook/js/outputarea').OutputArea;\n    if (OutputArea.prototype.mime_types().indexOf(EXEC_MIME_TYPE) == -1) {\n      register_renderer(events, OutputArea);\n    }\n  } catch(err) {\n  }\n}\n"
     },
     "metadata": {},
     "output_type": "display_data"
    },
    {
     "data": {},
     "metadata": {},
     "output_type": "display_data"
    },
    {
     "data": {
      "application/vnd.holoviews_exec.v0+json": "",
      "text/html": [
       "<div id='1002'>\n",
       "\n",
       "\n",
       "\n",
       "\n",
       "\n",
       "  <div class=\"bk-root\" id=\"dc3ced5d-1722-4d08-b027-34b99f050531\" data-root-id=\"1002\"></div>\n",
       "</div>\n",
       "<script type=\"application/javascript\">(function(root) {\n",
       "  function embed_document(root) {\n",
       "    var docs_json = {\"efbafec4-d391-4573-b481-9da3296e0f16\":{\"defs\":[],\"roots\":{\"references\":[{\"attributes\":{\"client_comm_id\":\"643adf64159c4b9bab8a2396f21f1934\",\"comm_id\":\"ca82b000877f4257b19996b77d16d418\",\"plot_id\":\"1002\"},\"id\":\"1003\",\"type\":\"panel.models.comm_manager.CommManager\"},{\"attributes\":{\"css_classes\":[\"alert\",\"alert-success\",\"markdown\"],\"margin\":[0,0,25,0],\"name\":\"Alert00099\",\"sizing_mode\":\"stretch_width\",\"text\":\"&lt;p&gt;Import all python packages required successfully&lt;/p&gt;\"},\"id\":\"1002\",\"type\":\"panel.models.markup.HTML\"},{\"attributes\":{\"reload\":false},\"id\":\"1004\",\"type\":\"panel.models.location.Location\"}],\"root_ids\":[\"1002\",\"1003\",\"1004\"]},\"title\":\"Bokeh Application\",\"version\":\"2.3.3\"}};\n",
       "    var render_items = [{\"docid\":\"efbafec4-d391-4573-b481-9da3296e0f16\",\"root_ids\":[\"1002\"],\"roots\":{\"1002\":\"dc3ced5d-1722-4d08-b027-34b99f050531\"}}];\n",
       "    root.Bokeh.embed.embed_items_notebook(docs_json, render_items);\n",
       "  }\n",
       "  if (root.Bokeh !== undefined && root.Bokeh.Panel !== undefined) {\n",
       "    embed_document(root);\n",
       "  } else {\n",
       "    var attempts = 0;\n",
       "    var timer = setInterval(function(root) {\n",
       "      if (root.Bokeh !== undefined && root.Bokeh.Panel !== undefined) {\n",
       "        clearInterval(timer);\n",
       "        embed_document(root);\n",
       "      } else if (document.readyState == \"complete\") {\n",
       "        attempts++;\n",
       "        if (attempts > 100) {\n",
       "          clearInterval(timer);\n",
       "          console.log(\"Bokeh: ERROR: Unable to run BokehJS code because BokehJS library is missing\");\n",
       "        }\n",
       "      }\n",
       "    }, 10, root)\n",
       "  }\n",
       "})(window);</script>"
      ],
      "text/plain": [
       "Alert(str, alert_type='success', css_classes=['alert', 'alert-success']...], margin=(0, 0, 25, 0), sizing_mode='stretch_width')"
      ]
     },
     "metadata": {
      "application/vnd.holoviews_exec.v0+json": {
       "id": "1002"
      }
     },
     "output_type": "display_data"
    },
    {
     "data": {
      "text/html": [
       "<img src onerror=\"var cell = this.closest('.jp-CodeCell');var editor = cell.querySelector('.jp-Editor');editor.style.background='LightBlue';this.parentNode.removeChild(this)\">"
      ],
      "text/plain": [
       "<IPython.core.display.HTML object>"
      ]
     },
     "metadata": {},
     "output_type": "display_data"
    }
   ],
   "source": [
    "from tools.jupyter import *\n",
    "from tools.frangiPANe import *\n",
    "\n",
    "import panel as pn\n",
    "\n",
    "pn.extension()\n",
    "\n",
    "add_css()\n",
    "\n",
    "file_saved=\"frangiPANe.p\"\n",
    "text = \"Import all python packages required successfully\"\n",
    "display_alert(text,\"success\")\n",
    "bgc('LightBlue')"
   ]
  },
  {
   "cell_type": "markdown",
   "metadata": {},
   "source": [
    "project_name, out_dir, ref_file, group_file, fastq_dir= box_config()\n",
    "bgc('LightBlue')### <span style=\"color: #919395\"> _Definition of input data used by frangiPANe workflow_  <a class=\"anchor\" id=\"configinput\"></a></span>\n",
    "\n",
    "<details>\n",
    "\n",
    "* __Project Name__ : the directory name that will contain all the results generated by this analysis\n",
    "* __Output Directory__ : the parent directory that will contain the __project_name__ directory\n",
    "* __Fastq Directory__ : the directory that contains .fastq files of all the individuals\n",
    "* __Reference File__ : the reference genome used to map all reads (fastq files). The reference genome have to be provided in a fasta format. The reference genome must be indexed by BWA for subsequent analyzes. The **REF**.amb, **REF**.ann, **REF**.bwt, **REF**.pac and **REF**.sa files are created.)\n",
    "* __Group File__ :  (It is common for several individuals to have different origins when building a pangenome. To exploit this diversity in the results, PANtoum needs a tabulated file (separator = tabulation, no header); the first column corresponds to the name of the individuals (should correspond to .fastq files) and the second to the group they belong. NB : It is possible to use only one group.)\n",
    "\n",
    "ex of samples with 2 groups : wild or cultivated\n",
    "    \n",
    "| sample  | group  |\n",
    "|---|---|\n",
    "| AA | wild | \n",
    "| AB  | wild | \n",
    "| CB  | cultivated |\n",
    "\n",
    "</details>\n",
    "\n",
    "Run the following cell and fill the parameters box"
   ]
  },
  {
   "cell_type": "code",
   "execution_count": 2,
   "metadata": {},
   "outputs": [
    {
     "data": {},
     "metadata": {},
     "output_type": "display_data"
    },
    {
     "data": {
      "application/vnd.holoviews_exec.v0+json": "",
      "text/html": [
       "<div id='1005'>\n",
       "\n",
       "\n",
       "\n",
       "\n",
       "\n",
       "  <div class=\"bk-root\" id=\"a9f63142-f3e9-4367-b159-c024e105c2b7\" data-root-id=\"1005\"></div>\n",
       "</div>\n",
       "<script type=\"application/javascript\">(function(root) {\n",
       "  function embed_document(root) {\n",
       "    var docs_json = {\"f22f44cc-c8a1-4a08-b702-15ef30d38505\":{\"defs\":[],\"roots\":{\"references\":[{\"attributes\":{\"end\":36,\"margin\":[5,10,5,10],\"start\":1,\"title\":\"CPU number\",\"value\":6},\"id\":\"1014\",\"type\":\"Slider\"},{\"attributes\":{\"margin\":[5,10,5,10],\"max_length\":5000,\"placeholder\":\"Enter the directory path here...\",\"title\":\"Fastq directory\"},\"id\":\"1011\",\"type\":\"TextInput\"},{\"attributes\":{\"margin\":[5,10,5,10],\"max_length\":5000,\"placeholder\":\"Enter the name here...\",\"title\":\"Project name :\"},\"id\":\"1009\",\"type\":\"TextInput\"},{\"attributes\":{\"button_type\":\"primary\",\"icon\":null,\"label\":\"LOAD\",\"margin\":[5,10,5,10],\"min_width\":100,\"subscribed_events\":[\"button_click\"],\"width\":100},\"id\":\"1017\",\"type\":\"Button\"},{\"attributes\":{\"css_classes\":[\"alert\",\"alert-warning\",\"markdown\"],\"height\":200,\"margin\":[0,0,25,0],\"name\":\"Alert00104\",\"sizing_mode\":\"stretch_width\",\"text\":\"&lt;p&gt;No filled&lt;/p&gt;\"},\"id\":\"1019\",\"type\":\"panel.models.markup.HTML\"},{\"attributes\":{\"button_type\":\"primary\",\"icon\":null,\"label\":\"INIT\",\"margin\":[5,10,5,10],\"min_width\":100,\"subscribed_events\":[\"button_click\"],\"width\":100},\"id\":\"1018\",\"type\":\"Button\"},{\"attributes\":{\"css_classes\":[\"markdown\"],\"margin\":[5,5,5,5],\"name\":\"Markdown00118\",\"text\":\"&lt;h1&gt;INPUT FORM&lt;/h1&gt;\"},\"id\":\"1006\",\"type\":\"panel.models.markup.HTML\"},{\"attributes\":{\"client_comm_id\":\"b2d48caa55c848af9446d9419e21bfc2\",\"comm_id\":\"9fbc0e9356bd4137b2f1133ed08eebdb\",\"plot_id\":\"1005\"},\"id\":\"1020\",\"type\":\"panel.models.comm_manager.CommManager\"},{\"attributes\":{\"background\":\"#E3ECF1\",\"children\":[{\"id\":\"1006\"},{\"id\":\"1007\"}],\"css_classes\":[\"panel-widget-box\"],\"margin\":[5,5,5,5],\"name\":\"WidgetBox00120\"},\"id\":\"1005\",\"type\":\"Column\"},{\"attributes\":{\"children\":[{\"id\":\"1008\"},{\"id\":\"1011\"},{\"id\":\"1012\"},{\"id\":\"1013\"},{\"id\":\"1014\"},{\"id\":\"1015\"},{\"id\":\"1019\"}],\"margin\":[0,0,0,0],\"min_width\":800,\"name\":\"Column00117\",\"width\":800},\"id\":\"1007\",\"type\":\"Column\"},{\"attributes\":{\"margin\":[5,10,5,10],\"max_length\":5000,\"placeholder\":\"Enter the directory path here...\",\"title\":\"Output directory :\"},\"id\":\"1010\",\"type\":\"TextInput\"},{\"attributes\":{\"margin\":[5,10,5,10],\"max_length\":5000,\"placeholder\":\"Enter the file path here...\",\"title\":\"Reference file\"},\"id\":\"1013\",\"type\":\"TextInput\"},{\"attributes\":{\"children\":[{\"id\":\"1009\"},{\"id\":\"1010\"}],\"margin\":[0,0,0,0],\"name\":\"Row00116\"},\"id\":\"1008\",\"type\":\"Row\"},{\"attributes\":{\"children\":[{\"id\":\"1016\"},{\"id\":\"1017\"},{\"id\":\"1018\"}],\"margin\":[0,0,0,0],\"name\":\"Row00115\"},\"id\":\"1015\",\"type\":\"Row\"},{\"attributes\":{\"margin\":[5,10,5,10],\"max_length\":5000,\"placeholder\":\"Enter the file path here...\",\"title\":\"Group file\"},\"id\":\"1012\",\"type\":\"TextInput\"},{\"attributes\":{\"button_type\":\"primary\",\"icon\":null,\"label\":\"SAVE\",\"margin\":[5,10,5,10],\"min_width\":100,\"subscribed_events\":[\"button_click\"],\"width\":100},\"id\":\"1016\",\"type\":\"Button\"}],\"root_ids\":[\"1005\",\"1020\"]},\"title\":\"Bokeh Application\",\"version\":\"2.3.3\"}};\n",
       "    var render_items = [{\"docid\":\"f22f44cc-c8a1-4a08-b702-15ef30d38505\",\"root_ids\":[\"1005\"],\"roots\":{\"1005\":\"a9f63142-f3e9-4367-b159-c024e105c2b7\"}}];\n",
       "    root.Bokeh.embed.embed_items_notebook(docs_json, render_items);\n",
       "  }\n",
       "  if (root.Bokeh !== undefined && root.Bokeh.Panel !== undefined) {\n",
       "    embed_document(root);\n",
       "  } else {\n",
       "    var attempts = 0;\n",
       "    var timer = setInterval(function(root) {\n",
       "      if (root.Bokeh !== undefined && root.Bokeh.Panel !== undefined) {\n",
       "        clearInterval(timer);\n",
       "        embed_document(root);\n",
       "      } else if (document.readyState == \"complete\") {\n",
       "        attempts++;\n",
       "        if (attempts > 100) {\n",
       "          clearInterval(timer);\n",
       "          console.log(\"Bokeh: ERROR: Unable to run BokehJS code because BokehJS library is missing\");\n",
       "        }\n",
       "      }\n",
       "    }, 10, root)\n",
       "  }\n",
       "})(window);</script>"
      ],
      "text/plain": [
       "WidgetBox(background='#E3ECF1')\n",
       "    [0] Markdown(str)\n",
       "    [1] Column(width=800)\n",
       "        [0] Row\n",
       "            [0] TextInput(name='Project name :', placeholder='Enter the name here...')\n",
       "            [1] TextInput(name='Output directory :', placeholder='Enter the directory p...)\n",
       "        [1] TextInput(name='Fastq directory', placeholder='Enter the directory p...)\n",
       "        [2] TextInput(name='Group file', placeholder='Enter the file p...)\n",
       "        [3] TextInput(name='Reference file', placeholder='Enter the file p...)\n",
       "        [4] IntSlider(end=36, name='CPU number', start=1, value=6)\n",
       "        [5] Row\n",
       "            [0] Button(button_type='primary', name='SAVE', width=100)\n",
       "            [1] Button(button_type='primary', name='LOAD', width=100)\n",
       "            [2] Button(button_type='primary', name='INIT', width=100)\n",
       "        [6] Alert(str, alert_type='warning', css_classes=['alert', 'alert-warning']...], height=200, margin=(0, 0, 25, 0), sizing_mode='stretch_width')"
      ]
     },
     "metadata": {
      "application/vnd.holoviews_exec.v0+json": {
       "id": "1005"
      }
     },
     "output_type": "display_data"
    },
    {
     "data": {
      "text/html": [
       "<img src onerror=\"var cell = this.closest('.jp-CodeCell');var editor = cell.querySelector('.jp-Editor');editor.style.background='LightBlue';this.parentNode.removeChild(this)\">"
      ],
      "text/plain": [
       "<IPython.core.display.HTML object>"
      ]
     },
     "metadata": {},
     "output_type": "display_data"
    }
   ],
   "source": [
    "project_name, out_dir, ref_file, group_file, fastq_dir,cpus = box_config()\n",
    "bgc('LightBlue')"
   ]
  },
  {
   "cell_type": "markdown",
   "metadata": {},
   "source": [
    "### <span style=\"color: #919395\">_Creating frangiPANe output directory_<a class=\"anchor\" id=\"outputdirectory\"></a></span>\n",
    "\n",
    "<img src=\"Images/frangiPANe_output_tree.jpg\">\n",
    "\n",
    "Be careful : if the directory already exists, files and directory that were generated by previous analysis could be removed by new analysis steps\n",
    "\n",
    "In the log file,  all outputs generated by bioinformatics tools (eg: bwa index, mem, abyss) are saved"
   ]
  },
  {
   "cell_type": "code",
   "execution_count": 13,
   "metadata": {},
   "outputs": [
    {
     "data": {},
     "metadata": {},
     "output_type": "display_data"
    },
    {
     "data": {
      "application/vnd.holoviews_exec.v0+json": "",
      "text/html": [
       "<div id='1042'>\n",
       "\n",
       "\n",
       "\n",
       "\n",
       "\n",
       "  <div class=\"bk-root\" id=\"3b8364ba-142e-4cbd-a7d6-49e4a2f144fc\" data-root-id=\"1042\"></div>\n",
       "</div>\n",
       "<script type=\"application/javascript\">(function(root) {\n",
       "  function embed_document(root) {\n",
       "    var docs_json = {\"8c1167b1-9fcd-4aa4-a208-1c4eace00d6a\":{\"defs\":[],\"roots\":{\"references\":[{\"attributes\":{\"client_comm_id\":\"9dd6a1328f994781ba67d4e95e58fb48\",\"comm_id\":\"d670ec536ce748caa6854447f44a8ece\",\"plot_id\":\"1042\"},\"id\":\"1043\",\"type\":\"panel.models.comm_manager.CommManager\"},{\"attributes\":{\"css_classes\":[\"alert\",\"alert-warning\",\"markdown\"],\"margin\":[0,0,25,0],\"name\":\"Alert00151\",\"sizing_mode\":\"stretch_width\",\"text\":\"&lt;h3&gt;warning&lt;/h3&gt;\\n&lt;hr&gt;\\n&lt;p&gt;Directory /home/christine/Documents/These/frangiPANeGIT2/frangiPANe_PANRice already existed&lt;/p&gt;\"},\"id\":\"1042\",\"type\":\"panel.models.markup.HTML\"}],\"root_ids\":[\"1042\",\"1043\"]},\"title\":\"Bokeh Application\",\"version\":\"2.3.3\"}};\n",
       "    var render_items = [{\"docid\":\"8c1167b1-9fcd-4aa4-a208-1c4eace00d6a\",\"root_ids\":[\"1042\"],\"roots\":{\"1042\":\"3b8364ba-142e-4cbd-a7d6-49e4a2f144fc\"}}];\n",
       "    root.Bokeh.embed.embed_items_notebook(docs_json, render_items);\n",
       "  }\n",
       "  if (root.Bokeh !== undefined && root.Bokeh.Panel !== undefined) {\n",
       "    embed_document(root);\n",
       "  } else {\n",
       "    var attempts = 0;\n",
       "    var timer = setInterval(function(root) {\n",
       "      if (root.Bokeh !== undefined && root.Bokeh.Panel !== undefined) {\n",
       "        clearInterval(timer);\n",
       "        embed_document(root);\n",
       "      } else if (document.readyState == \"complete\") {\n",
       "        attempts++;\n",
       "        if (attempts > 100) {\n",
       "          clearInterval(timer);\n",
       "          console.log(\"Bokeh: ERROR: Unable to run BokehJS code because BokehJS library is missing\");\n",
       "        }\n",
       "      }\n",
       "    }, 10, root)\n",
       "  }\n",
       "})(window);</script>"
      ],
      "text/plain": [
       "Alert(str, alert_type='warning', css_classes=['alert', 'alert-warning']...], margin=(0, 0, 25, 0), sizing_mode='stretch_width')"
      ]
     },
     "metadata": {
      "application/vnd.holoviews_exec.v0+json": {
       "id": "1042"
      }
     },
     "output_type": "display_data"
    },
    {
     "data": {},
     "metadata": {},
     "output_type": "display_data"
    },
    {
     "data": {
      "application/vnd.holoviews_exec.v0+json": "",
      "text/html": [
       "<div id='1044'>\n",
       "\n",
       "\n",
       "\n",
       "\n",
       "\n",
       "  <div class=\"bk-root\" id=\"bf9213b0-bb7c-49f4-a40e-057b83812ad2\" data-root-id=\"1044\"></div>\n",
       "</div>\n",
       "<script type=\"application/javascript\">(function(root) {\n",
       "  function embed_document(root) {\n",
       "    var docs_json = {\"7fe6e051-e791-4b55-914a-16bff3ff0aa3\":{\"defs\":[],\"roots\":{\"references\":[{\"attributes\":{\"client_comm_id\":\"2903e84413ec4a028e321e9bad55ed60\",\"comm_id\":\"8a20eeeec6a34a8d9d6021baa2eace2b\",\"plot_id\":\"1044\"},\"id\":\"1045\",\"type\":\"panel.models.comm_manager.CommManager\"},{\"attributes\":{\"css_classes\":[\"alert\",\"alert-success\",\"markdown\"],\"margin\":[0,0,25,0],\"name\":\"Alert00155\",\"sizing_mode\":\"stretch_width\",\"text\":\"&lt;p&gt;Log /home/christine/Documents/These/frangiPANeGIT2/frangiPANe_PANRice/frangiPANe_PANRice-18-01-2022_11:44:21.log created&lt;/p&gt;\"},\"id\":\"1044\",\"type\":\"panel.models.markup.HTML\"}],\"root_ids\":[\"1044\",\"1045\"]},\"title\":\"Bokeh Application\",\"version\":\"2.3.3\"}};\n",
       "    var render_items = [{\"docid\":\"7fe6e051-e791-4b55-914a-16bff3ff0aa3\",\"root_ids\":[\"1044\"],\"roots\":{\"1044\":\"bf9213b0-bb7c-49f4-a40e-057b83812ad2\"}}];\n",
       "    root.Bokeh.embed.embed_items_notebook(docs_json, render_items);\n",
       "  }\n",
       "  if (root.Bokeh !== undefined && root.Bokeh.Panel !== undefined) {\n",
       "    embed_document(root);\n",
       "  } else {\n",
       "    var attempts = 0;\n",
       "    var timer = setInterval(function(root) {\n",
       "      if (root.Bokeh !== undefined && root.Bokeh.Panel !== undefined) {\n",
       "        clearInterval(timer);\n",
       "        embed_document(root);\n",
       "      } else if (document.readyState == \"complete\") {\n",
       "        attempts++;\n",
       "        if (attempts > 100) {\n",
       "          clearInterval(timer);\n",
       "          console.log(\"Bokeh: ERROR: Unable to run BokehJS code because BokehJS library is missing\");\n",
       "        }\n",
       "      }\n",
       "    }, 10, root)\n",
       "  }\n",
       "})(window);</script>"
      ],
      "text/plain": [
       "Alert(str, alert_type='success', css_classes=['alert', 'alert-success']...], margin=(0, 0, 25, 0), sizing_mode='stretch_width')"
      ]
     },
     "metadata": {
      "application/vnd.holoviews_exec.v0+json": {
       "id": "1044"
      }
     },
     "output_type": "display_data"
    },
    {
     "data": {
      "text/html": [
       "<img src onerror=\"var cell = this.closest('.jp-CodeCell');var editor = cell.querySelector('.jp-Editor');editor.style.background='LightBlue';this.parentNode.removeChild(this)\">"
      ],
      "text/plain": [
       "<IPython.core.display.HTML object>"
      ]
     },
     "metadata": {},
     "output_type": "display_data"
    }
   ],
   "source": [
    "if not out_dir.value:\n",
    "    text = \"Fill the form in the previous cell !\"\n",
    "    display_alert(text,\"danger\")\n",
    "else:\n",
    "    cpu = cpus.value\n",
    "    output_dir = out_dir.value + \"/frangiPANe_\" + project_name.value\n",
    "    make_dir(output_dir)\n",
    "    logger = init_log(output_dir,project_name.value)\n",
    "    df_group = None\n",
    "    bgc('LightBlue')"
   ]
  },
  {
   "cell_type": "markdown",
   "metadata": {},
   "source": [
    "### <span style=\"color: #919395\">_Preparing Genome Reference for next analysis_\n",
    "\n",
    "#### __Genome indexation__ and __Genome dashboard__\n",
    "\n",
    "This step is done with `bwa index` if index are absent. Indexation is required before performing reads mapping against genome reference."
   ]
  },
  {
   "cell_type": "code",
   "execution_count": 16,
   "metadata": {},
   "outputs": [
    {
     "data": {},
     "metadata": {},
     "output_type": "display_data"
    },
    {
     "data": {
      "application/vnd.holoviews_exec.v0+json": "",
      "text/html": [
       "<div id='1054'>\n",
       "\n",
       "\n",
       "\n",
       "\n",
       "\n",
       "  <div class=\"bk-root\" id=\"839dbf83-a550-40f5-ac7f-58f9269ccb72\" data-root-id=\"1054\"></div>\n",
       "</div>\n",
       "<script type=\"application/javascript\">(function(root) {\n",
       "  function embed_document(root) {\n",
       "    var docs_json = {\"a98e25f7-76d7-499f-a034-5504072f7359\":{\"defs\":[],\"roots\":{\"references\":[{\"attributes\":{\"css_classes\":[\"alert\",\"alert-info\",\"markdown\"],\"margin\":[0,0,25,0],\"name\":\"Alert00175\",\"sizing_mode\":\"stretch_width\",\"text\":\"&lt;p&gt;Searching index files for reference file /home/christine/Documents/These/frangiPANeGIT/rice/OglaRS2ADWL02.12chronly.fa&lt;/p&gt;\"},\"id\":\"1054\",\"type\":\"panel.models.markup.HTML\"},{\"attributes\":{\"client_comm_id\":\"8b6ae966743643aea3150e83b8092a42\",\"comm_id\":\"300d0a3ae879431588183c7cf1a409da\",\"plot_id\":\"1054\"},\"id\":\"1055\",\"type\":\"panel.models.comm_manager.CommManager\"}],\"root_ids\":[\"1054\",\"1055\"]},\"title\":\"Bokeh Application\",\"version\":\"2.3.3\"}};\n",
       "    var render_items = [{\"docid\":\"a98e25f7-76d7-499f-a034-5504072f7359\",\"root_ids\":[\"1054\"],\"roots\":{\"1054\":\"839dbf83-a550-40f5-ac7f-58f9269ccb72\"}}];\n",
       "    root.Bokeh.embed.embed_items_notebook(docs_json, render_items);\n",
       "  }\n",
       "  if (root.Bokeh !== undefined && root.Bokeh.Panel !== undefined) {\n",
       "    embed_document(root);\n",
       "  } else {\n",
       "    var attempts = 0;\n",
       "    var timer = setInterval(function(root) {\n",
       "      if (root.Bokeh !== undefined && root.Bokeh.Panel !== undefined) {\n",
       "        clearInterval(timer);\n",
       "        embed_document(root);\n",
       "      } else if (document.readyState == \"complete\") {\n",
       "        attempts++;\n",
       "        if (attempts > 100) {\n",
       "          clearInterval(timer);\n",
       "          console.log(\"Bokeh: ERROR: Unable to run BokehJS code because BokehJS library is missing\");\n",
       "        }\n",
       "      }\n",
       "    }, 10, root)\n",
       "  }\n",
       "})(window);</script>"
      ],
      "text/plain": [
       "Alert(str, alert_type='info', css_classes=['alert', 'alert-info'], margin=(0, 0, 25, 0), sizing_mode='stretch_width')"
      ]
     },
     "metadata": {
      "application/vnd.holoviews_exec.v0+json": {
       "id": "1054"
      }
     },
     "output_type": "display_data"
    },
    {
     "data": {},
     "metadata": {},
     "output_type": "display_data"
    },
    {
     "data": {
      "application/vnd.holoviews_exec.v0+json": "",
      "text/html": [
       "<div id='1056'>\n",
       "\n",
       "\n",
       "\n",
       "\n",
       "\n",
       "  <div class=\"bk-root\" id=\"d1c867a9-7cd1-4d52-bdb2-6a11ece76942\" data-root-id=\"1056\"></div>\n",
       "</div>\n",
       "<script type=\"application/javascript\">(function(root) {\n",
       "  function embed_document(root) {\n",
       "    var docs_json = {\"f72de37c-4fbe-418f-a980-744ee5e4cc82\":{\"defs\":[],\"roots\":{\"references\":[{\"attributes\":{\"css_classes\":[\"alert\",\"alert-warning\",\"markdown\"],\"margin\":[0,0,25,0],\"name\":\"Alert00179\",\"sizing_mode\":\"stretch_width\",\"text\":\"&lt;p&gt;Index files already available (/home/christine/Documents/These/frangiPANeGIT/rice/OglaRS2ADWL02.12chronly.fa).... Skip Indexation Step&lt;/p&gt;\"},\"id\":\"1056\",\"type\":\"panel.models.markup.HTML\"},{\"attributes\":{\"client_comm_id\":\"11f76563c7934112a155140504d8d4b0\",\"comm_id\":\"4c3d3fba8eff4872a944db274d472f21\",\"plot_id\":\"1056\"},\"id\":\"1057\",\"type\":\"panel.models.comm_manager.CommManager\"}],\"root_ids\":[\"1056\",\"1057\"]},\"title\":\"Bokeh Application\",\"version\":\"2.3.3\"}};\n",
       "    var render_items = [{\"docid\":\"f72de37c-4fbe-418f-a980-744ee5e4cc82\",\"root_ids\":[\"1056\"],\"roots\":{\"1056\":\"d1c867a9-7cd1-4d52-bdb2-6a11ece76942\"}}];\n",
       "    root.Bokeh.embed.embed_items_notebook(docs_json, render_items);\n",
       "  }\n",
       "  if (root.Bokeh !== undefined && root.Bokeh.Panel !== undefined) {\n",
       "    embed_document(root);\n",
       "  } else {\n",
       "    var attempts = 0;\n",
       "    var timer = setInterval(function(root) {\n",
       "      if (root.Bokeh !== undefined && root.Bokeh.Panel !== undefined) {\n",
       "        clearInterval(timer);\n",
       "        embed_document(root);\n",
       "      } else if (document.readyState == \"complete\") {\n",
       "        attempts++;\n",
       "        if (attempts > 100) {\n",
       "          clearInterval(timer);\n",
       "          console.log(\"Bokeh: ERROR: Unable to run BokehJS code because BokehJS library is missing\");\n",
       "        }\n",
       "      }\n",
       "    }, 10, root)\n",
       "  }\n",
       "})(window);</script>"
      ],
      "text/plain": [
       "Alert(str, alert_type='warning', css_classes=['alert', 'alert-warning']...], margin=(0, 0, 25, 0), sizing_mode='stretch_width')"
      ]
     },
     "metadata": {
      "application/vnd.holoviews_exec.v0+json": {
       "id": "1056"
      }
     },
     "output_type": "display_data"
    },
    {
     "data": {},
     "metadata": {},
     "output_type": "display_data"
    },
    {
     "data": {
      "application/vnd.holoviews_exec.v0+json": "",
      "text/html": [
       "<div id='1058'>\n",
       "\n",
       "\n",
       "\n",
       "\n",
       "\n",
       "  <div class=\"bk-root\" id=\"c5f2af33-b9d0-4381-9ac1-1dda9fe752a9\" data-root-id=\"1058\"></div>\n",
       "</div>\n",
       "<script type=\"application/javascript\">(function(root) {\n",
       "  function embed_document(root) {\n",
       "    var docs_json = {\"94879d3c-e6ee-4fc4-b9cc-9f3d6c3667d7\":{\"defs\":[],\"roots\":{\"references\":[{\"attributes\":{\"css_classes\":[\"markdown\"],\"margin\":[5,5,5,5],\"name\":\"Markdown00188\",\"text\":\"&lt;h1&gt;Reference genome file&lt;/h1&gt;\"},\"id\":\"1059\",\"type\":\"panel.models.markup.HTML\"},{\"attributes\":{\"margin\":[5,5,5,5],\"name\":\"DataFrame00183\",\"text\":\"&lt;table border=&quot;0&quot; class=&quot;dataframe panel-df&quot;&gt;\\n  &lt;thead&gt;\\n    &lt;tr style=&quot;text-align: right;&quot;&gt;\\n      &lt;th&gt;&lt;/th&gt;\\n      &lt;th&gt;chr&lt;/th&gt;\\n      &lt;th&gt;size&lt;/th&gt;\\n    &lt;/tr&gt;\\n  &lt;/thead&gt;\\n  &lt;tbody&gt;\\n    &lt;tr&gt;\\n      &lt;th&gt;0&lt;/th&gt;\\n      &lt;td&gt;Chr01&lt;/td&gt;\\n      &lt;td&gt;39.66&lt;/td&gt;\\n    &lt;/tr&gt;\\n    &lt;tr&gt;\\n      &lt;th&gt;1&lt;/th&gt;\\n      &lt;td&gt;Chr02&lt;/td&gt;\\n      &lt;td&gt;34.45&lt;/td&gt;\\n    &lt;/tr&gt;\\n    &lt;tr&gt;\\n      &lt;th&gt;2&lt;/th&gt;\\n      &lt;td&gt;Chr03&lt;/td&gt;\\n      &lt;td&gt;35.53&lt;/td&gt;\\n    &lt;/tr&gt;\\n    &lt;tr&gt;\\n      &lt;th&gt;3&lt;/th&gt;\\n      &lt;td&gt;Chr04&lt;/td&gt;\\n      &lt;td&gt;31.57&lt;/td&gt;\\n    &lt;/tr&gt;\\n    &lt;tr&gt;\\n      &lt;th&gt;4&lt;/th&gt;\\n      &lt;td&gt;Chr05&lt;/td&gt;\\n      &lt;td&gt;26.27&lt;/td&gt;\\n    &lt;/tr&gt;\\n    &lt;tr&gt;\\n      &lt;th&gt;5&lt;/th&gt;\\n      &lt;td&gt;Chr06&lt;/td&gt;\\n      &lt;td&gt;29.28&lt;/td&gt;\\n    &lt;/tr&gt;\\n    &lt;tr&gt;\\n      &lt;th&gt;6&lt;/th&gt;\\n      &lt;td&gt;Chr07&lt;/td&gt;\\n      &lt;td&gt;26.60&lt;/td&gt;\\n    &lt;/tr&gt;\\n    &lt;tr&gt;\\n      &lt;th&gt;7&lt;/th&gt;\\n      &lt;td&gt;Chr08&lt;/td&gt;\\n      &lt;td&gt;25.47&lt;/td&gt;\\n    &lt;/tr&gt;\\n    &lt;tr&gt;\\n      &lt;th&gt;8&lt;/th&gt;\\n      &lt;td&gt;Chr09&lt;/td&gt;\\n      &lt;td&gt;21.80&lt;/td&gt;\\n    &lt;/tr&gt;\\n    &lt;tr&gt;\\n      &lt;th&gt;9&lt;/th&gt;\\n      &lt;td&gt;Chr10&lt;/td&gt;\\n      &lt;td&gt;22.42&lt;/td&gt;\\n    &lt;/tr&gt;\\n    &lt;tr&gt;\\n      &lt;th&gt;10&lt;/th&gt;\\n      &lt;td&gt;Chr11&lt;/td&gt;\\n      &lt;td&gt;26.39&lt;/td&gt;\\n    &lt;/tr&gt;\\n    &lt;tr&gt;\\n      &lt;th&gt;11&lt;/th&gt;\\n      &lt;td&gt;Chr12&lt;/td&gt;\\n      &lt;td&gt;25.02&lt;/td&gt;\\n    &lt;/tr&gt;\\n  &lt;/tbody&gt;\\n&lt;/table&gt;\"},\"id\":\"1063\",\"type\":\"panel.models.markup.HTML\"},{\"attributes\":{\"client_comm_id\":\"b9a8ac70a4bd4d2cb7e238845f5913de\",\"comm_id\":\"0d8b67521b9e4d51b95eb983fb939a0f\",\"plot_id\":\"1058\"},\"id\":\"1064\",\"type\":\"panel.models.comm_manager.CommManager\"},{\"attributes\":{\"background\":\"WhiteSmoke\",\"children\":[{\"id\":\"1059\"},{\"id\":\"1060\"},{\"id\":\"1061\"}],\"margin\":[0,0,0,0],\"name\":\"Column00192\",\"sizing_mode\":\"stretch_both\"},\"id\":\"1058\",\"type\":\"Column\"},{\"attributes\":{\"height\":432,\"margin\":[5,5,5,5],\"name\":\"Matplotlib00185\",\"text\":\"&lt;img src=&quot;data:image/png;base64,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&quot; width=&quot;576px&quot; height=&quot;432px&quot; alt=&quot;&quot;&gt;&lt;/img&gt;\",\"width\":576},\"id\":\"1062\",\"type\":\"panel.models.markup.HTML\"},{\"attributes\":{\"css_classes\":[\"markdown\"],\"margin\":[5,5,5,5],\"name\":\"Markdown00190\",\"text\":\"&lt;h2&gt;Genome size (Mb) : 344.46&lt;/h2&gt;\"},\"id\":\"1060\",\"type\":\"panel.models.markup.HTML\"},{\"attributes\":{\"children\":[{\"id\":\"1062\"},{\"id\":\"1063\"}],\"margin\":[0,0,0,0],\"name\":\"Row00187\"},\"id\":\"1061\",\"type\":\"Row\"}],\"root_ids\":[\"1058\",\"1064\"]},\"title\":\"Bokeh Application\",\"version\":\"2.3.3\"}};\n",
       "    var render_items = [{\"docid\":\"94879d3c-e6ee-4fc4-b9cc-9f3d6c3667d7\",\"root_ids\":[\"1058\"],\"roots\":{\"1058\":\"c5f2af33-b9d0-4381-9ac1-1dda9fe752a9\"}}];\n",
       "    root.Bokeh.embed.embed_items_notebook(docs_json, render_items);\n",
       "  }\n",
       "  if (root.Bokeh !== undefined && root.Bokeh.Panel !== undefined) {\n",
       "    embed_document(root);\n",
       "  } else {\n",
       "    var attempts = 0;\n",
       "    var timer = setInterval(function(root) {\n",
       "      if (root.Bokeh !== undefined && root.Bokeh.Panel !== undefined) {\n",
       "        clearInterval(timer);\n",
       "        embed_document(root);\n",
       "      } else if (document.readyState == \"complete\") {\n",
       "        attempts++;\n",
       "        if (attempts > 100) {\n",
       "          clearInterval(timer);\n",
       "          console.log(\"Bokeh: ERROR: Unable to run BokehJS code because BokehJS library is missing\");\n",
       "        }\n",
       "      }\n",
       "    }, 10, root)\n",
       "  }\n",
       "})(window);</script>"
      ],
      "text/plain": [
       "Column(background='WhiteSmoke', sizing_mode='stretch_both')\n",
       "    [0] Markdown(str)\n",
       "    [1] Markdown(str)\n",
       "    [2] Row\n",
       "        [0] Matplotlib(Figure)\n",
       "        [1] DataFrame(DataFrame)"
      ]
     },
     "metadata": {
      "application/vnd.holoviews_exec.v0+json": {
       "id": "1058"
      }
     },
     "output_type": "display_data"
    },
    {
     "data": {
      "text/html": [
       "<img src onerror=\"var cell = this.closest('.jp-CodeCell');var editor = cell.querySelector('.jp-Editor');editor.style.background='LightBlue';this.parentNode.removeChild(this)\">"
      ],
      "text/plain": [
       "<IPython.core.display.HTML object>"
      ]
     },
     "metadata": {},
     "output_type": "display_data"
    }
   ],
   "source": [
    "if not ref_file.value:\n",
    "    text = \"Fill the form with the reference file in the previous cell !\"\n",
    "    display_alert(text,\"danger\")\n",
    "elif not output_dir:\n",
    "    text = \"Creating frangiPANe output directory is required to continue !\"\n",
    "    display_alert(text,\"danger\")\n",
    "else:\n",
    "    index_reference_genome(ref_file.value, logger)\n",
    "    total_genome_size=dashboard_genome(ref_file.value)\n",
    "    bgc('LightBlue')"
   ]
  },
  {
   "cell_type": "markdown",
   "metadata": {},
   "source": [
    "### <span style=\"color: #919395\">_Analyzing Group File_</span> "
   ]
  },
  {
   "cell_type": "code",
   "execution_count": 18,
   "metadata": {},
   "outputs": [
    {
     "data": {},
     "metadata": {},
     "output_type": "display_data"
    },
    {
     "data": {
      "application/vnd.holoviews_exec.v0+json": "",
      "text/html": [
       "<div id='1067'>\n",
       "\n",
       "\n",
       "\n",
       "\n",
       "\n",
       "  <div class=\"bk-root\" id=\"3eecb036-84ce-4960-8cfd-5916c307a0b8\" data-root-id=\"1067\"></div>\n",
       "</div>\n",
       "<script type=\"application/javascript\">(function(root) {\n",
       "  function embed_document(root) {\n",
       "    var docs_json = {\"f2d1a1af-113e-45c6-a3aa-6ce428f8be07\":{\"defs\":[],\"roots\":{\"references\":[{\"attributes\":{\"css_classes\":[\"alert\",\"alert-success\",\"markdown\"],\"margin\":[0,0,25,0],\"name\":\"Alert00199\",\"sizing_mode\":\"stretch_width\",\"text\":\"&lt;p&gt;Group file /home/christine/Documents/These/frangiPANeGIT/rice/rice_group.txt correctly read&lt;/p&gt;\"},\"id\":\"1067\",\"type\":\"panel.models.markup.HTML\"},{\"attributes\":{\"client_comm_id\":\"b7b9a9fc70184c90a7d50da49b7730db\",\"comm_id\":\"75e2b8ef901d469fbd9336d16e6b8eac\",\"plot_id\":\"1067\"},\"id\":\"1068\",\"type\":\"panel.models.comm_manager.CommManager\"}],\"root_ids\":[\"1067\",\"1068\"]},\"title\":\"Bokeh Application\",\"version\":\"2.3.3\"}};\n",
       "    var render_items = [{\"docid\":\"f2d1a1af-113e-45c6-a3aa-6ce428f8be07\",\"root_ids\":[\"1067\"],\"roots\":{\"1067\":\"3eecb036-84ce-4960-8cfd-5916c307a0b8\"}}];\n",
       "    root.Bokeh.embed.embed_items_notebook(docs_json, render_items);\n",
       "  }\n",
       "  if (root.Bokeh !== undefined && root.Bokeh.Panel !== undefined) {\n",
       "    embed_document(root);\n",
       "  } else {\n",
       "    var attempts = 0;\n",
       "    var timer = setInterval(function(root) {\n",
       "      if (root.Bokeh !== undefined && root.Bokeh.Panel !== undefined) {\n",
       "        clearInterval(timer);\n",
       "        embed_document(root);\n",
       "      } else if (document.readyState == \"complete\") {\n",
       "        attempts++;\n",
       "        if (attempts > 100) {\n",
       "          clearInterval(timer);\n",
       "          console.log(\"Bokeh: ERROR: Unable to run BokehJS code because BokehJS library is missing\");\n",
       "        }\n",
       "      }\n",
       "    }, 10, root)\n",
       "  }\n",
       "})(window);</script>"
      ],
      "text/plain": [
       "Alert(str, alert_type='success', css_classes=['alert', 'alert-success']...], margin=(0, 0, 25, 0), sizing_mode='stretch_width')"
      ]
     },
     "metadata": {
      "application/vnd.holoviews_exec.v0+json": {
       "id": "1067"
      }
     },
     "output_type": "display_data"
    },
    {
     "data": {
      "application/javascript": [
       "\n",
       "(function(root) {\n",
       "  function now() {\n",
       "    return new Date();\n",
       "  }\n",
       "\n",
       "  var force = true;\n",
       "\n",
       "  if (typeof root._bokeh_onload_callbacks === \"undefined\" || force === true) {\n",
       "    root._bokeh_onload_callbacks = [];\n",
       "    root._bokeh_is_loading = undefined;\n",
       "  }\n",
       "\n",
       "  if (typeof (root._bokeh_timeout) === \"undefined\" || force === true) {\n",
       "    root._bokeh_timeout = Date.now() + 5000;\n",
       "    root._bokeh_failed_load = false;\n",
       "  }\n",
       "\n",
       "  function run_callbacks() {\n",
       "    try {\n",
       "      root._bokeh_onload_callbacks.forEach(function(callback) {\n",
       "        if (callback != null)\n",
       "          callback();\n",
       "      });\n",
       "    } finally {\n",
       "      delete root._bokeh_onload_callbacks\n",
       "    }\n",
       "    console.debug(\"Bokeh: all callbacks have finished\");\n",
       "  }\n",
       "\n",
       "  function load_libs(css_urls, js_urls, js_modules, callback) {\n",
       "    if (css_urls == null) css_urls = [];\n",
       "    if (js_urls == null) js_urls = [];\n",
       "    if (js_modules == null) js_modules = [];\n",
       "\n",
       "    root._bokeh_onload_callbacks.push(callback);\n",
       "    if (root._bokeh_is_loading > 0) {\n",
       "      console.debug(\"Bokeh: BokehJS is being loaded, scheduling callback at\", now());\n",
       "      return null;\n",
       "    }\n",
       "    if (js_urls.length === 0 && js_modules.length === 0) {\n",
       "      run_callbacks();\n",
       "      return null;\n",
       "    }\n",
       "    console.debug(\"Bokeh: BokehJS not loaded, scheduling load and callback at\", now());\n",
       "    root._bokeh_is_loading = css_urls.length + js_urls.length + js_modules.length;\n",
       "\n",
       "    function on_load() {\n",
       "      root._bokeh_is_loading--;\n",
       "      if (root._bokeh_is_loading === 0) {\n",
       "        console.debug(\"Bokeh: all BokehJS libraries/stylesheets loaded\");\n",
       "        run_callbacks()\n",
       "      }\n",
       "    }\n",
       "\n",
       "    function on_error() {\n",
       "      console.error(\"failed to load \" + url);\n",
       "    }\n",
       "\n",
       "    for (var i = 0; i < css_urls.length; i++) {\n",
       "      var url = css_urls[i];\n",
       "      const element = document.createElement(\"link\");\n",
       "      element.onload = on_load;\n",
       "      element.onerror = on_error;\n",
       "      element.rel = \"stylesheet\";\n",
       "      element.type = \"text/css\";\n",
       "      element.href = url;\n",
       "      console.debug(\"Bokeh: injecting link tag for BokehJS stylesheet: \", url);\n",
       "      document.body.appendChild(element);\n",
       "    }\n",
       "\n",
       "    var skip = [];\n",
       "    if (window.requirejs) {\n",
       "      window.requirejs.config({'paths': {'tabulator': 'https://unpkg.com/tabulator-tables@4.9.3/dist/js/tabulator'}});\n",
       "      require([], function() {\n",
       "      })\n",
       "    }\n",
       "    if (((window['tabulator'] !== undefined) && (!(window['tabulator'] instanceof HTMLElement))) || window.requirejs) {\n",
       "      var urls = ['https://unpkg.com/tabulator-tables@4.9.3/dist/js/tabulator.js', 'https://unpkg.com/moment@2.27.0/moment.js'];\n",
       "      for (var i = 0; i < urls.length; i++) {\n",
       "        skip.push(urls[i])\n",
       "      }\n",
       "    }\n",
       "    for (var i = 0; i < js_urls.length; i++) {\n",
       "      var url = js_urls[i];\n",
       "      if (skip.indexOf(url) >= 0) { on_load(); continue; }\n",
       "      var element = document.createElement('script');\n",
       "      element.onload = on_load;\n",
       "      element.onerror = on_error;\n",
       "      element.async = false;\n",
       "      element.src = url;\n",
       "      console.debug(\"Bokeh: injecting script tag for BokehJS library: \", url);\n",
       "      document.head.appendChild(element);\n",
       "    }\n",
       "    for (var i = 0; i < js_modules.length; i++) {\n",
       "      var url = js_modules[i];\n",
       "      if (skip.indexOf(url) >= 0) { on_load(); continue; }\n",
       "      var element = document.createElement('script');\n",
       "      element.onload = on_load;\n",
       "      element.onerror = on_error;\n",
       "      element.async = false;\n",
       "      element.src = url;\n",
       "      element.type = \"module\";\n",
       "      console.debug(\"Bokeh: injecting script tag for BokehJS library: \", url);\n",
       "      document.head.appendChild(element);\n",
       "    }\n",
       "    if (!js_urls.length && !js_modules.length) {\n",
       "      on_load()\n",
       "    }\n",
       "  };\n",
       "\n",
       "  function inject_raw_css(css) {\n",
       "    const element = document.createElement(\"style\");\n",
       "    element.appendChild(document.createTextNode(css));\n",
       "    document.body.appendChild(element);\n",
       "  }\n",
       "\n",
       "  var js_urls = [\"https://unpkg.com/tabulator-tables@4.9.3/dist/js/tabulator.js\", \"https://unpkg.com/moment@2.27.0/moment.js\", \"https://cdn.bokeh.org/bokeh/release/bokeh-2.3.3.min.js\", \"https://cdn.bokeh.org/bokeh/release/bokeh-widgets-2.3.3.min.js\", \"https://cdn.bokeh.org/bokeh/release/bokeh-tables-2.3.3.min.js\", \"https://unpkg.com/@holoviz/panel@0.11.1/dist/panel.min.js\"];\n",
       "  var js_modules = [];\n",
       "  var css_urls = [\"https://unpkg.com/tabulator-tables@4.9.3/dist/css/tabulator_simple.min.css\", \"https://unpkg.com/@holoviz/panel@0.11.1/dist/css/widgets.css\", \"https://unpkg.com/@holoviz/panel@0.11.1/dist/css/loading.css\", \"https://unpkg.com/@holoviz/panel@0.11.1/dist/css/dataframe.css\", \"https://unpkg.com/@holoviz/panel@0.11.1/dist/css/alerts.css\", \"https://unpkg.com/@holoviz/panel@0.11.1/dist/css/markdown.css\", \"https://unpkg.com/@holoviz/panel@0.11.1/dist/css/json.css\", \"https://unpkg.com/@holoviz/panel@0.11.1/dist/css/card.css\"];\n",
       "  var inline_js = [\n",
       "    function(Bokeh) {\n",
       "      inject_raw_css(\"\\n    .bk.pn-loading.arcs:before {\\n      background-image: url(\\\"data:image/svg+xml;base64,PHN2ZyB4bWxucz0iaHR0cDovL3d3dy53My5vcmcvMjAwMC9zdmciIHhtbG5zOnhsaW5rPSJodHRwOi8vd3d3LnczLm9yZy8xOTk5L3hsaW5rIiBzdHlsZT0ibWFyZ2luOiBhdXRvOyBiYWNrZ3JvdW5kOiBub25lOyBkaXNwbGF5OiBibG9jazsgc2hhcGUtcmVuZGVyaW5nOiBhdXRvOyIgdmlld0JveD0iMCAwIDEwMCAxMDAiIHByZXNlcnZlQXNwZWN0UmF0aW89InhNaWRZTWlkIj4gIDxjaXJjbGUgY3g9IjUwIiBjeT0iNTAiIHI9IjMyIiBzdHJva2Utd2lkdGg9IjgiIHN0cm9rZT0iI2MzYzNjMyIgc3Ryb2tlLWRhc2hhcnJheT0iNTAuMjY1NDgyNDU3NDM2NjkgNTAuMjY1NDgyNDU3NDM2NjkiIGZpbGw9Im5vbmUiIHN0cm9rZS1saW5lY2FwPSJyb3VuZCI+ICAgIDxhbmltYXRlVHJhbnNmb3JtIGF0dHJpYnV0ZU5hbWU9InRyYW5zZm9ybSIgdHlwZT0icm90YXRlIiByZXBlYXRDb3VudD0iaW5kZWZpbml0ZSIgZHVyPSIxcyIga2V5VGltZXM9IjA7MSIgdmFsdWVzPSIwIDUwIDUwOzM2MCA1MCA1MCI+PC9hbmltYXRlVHJhbnNmb3JtPiAgPC9jaXJjbGU+PC9zdmc+\\\")\\n    }\\n    \");\n",
       "    },\n",
       "    function(Bokeh) {\n",
       "      Bokeh.set_log_level(\"info\");\n",
       "    },\n",
       "    function(Bokeh) {} // ensure no trailing comma for IE\n",
       "  ];\n",
       "\n",
       "  function run_inline_js() {\n",
       "    if ((root.Bokeh !== undefined) || (force === true)) {\n",
       "      for (var i = 0; i < inline_js.length; i++) {\n",
       "        inline_js[i].call(root, root.Bokeh);\n",
       "      }} else if (Date.now() < root._bokeh_timeout) {\n",
       "      setTimeout(run_inline_js, 100);\n",
       "    } else if (!root._bokeh_failed_load) {\n",
       "      console.log(\"Bokeh: BokehJS failed to load within specified timeout.\");\n",
       "      root._bokeh_failed_load = true;\n",
       "    }\n",
       "  }\n",
       "\n",
       "  if (root._bokeh_is_loading === 0) {\n",
       "    console.debug(\"Bokeh: BokehJS loaded, going straight to plotting\");\n",
       "    run_inline_js();\n",
       "  } else {\n",
       "    load_libs(css_urls, js_urls, js_modules, function() {\n",
       "      console.debug(\"Bokeh: BokehJS plotting callback run at\", now());\n",
       "      run_inline_js();\n",
       "    });\n",
       "  }\n",
       "}(window));"
      ],
      "application/vnd.holoviews_load.v0+json": "\n(function(root) {\n  function now() {\n    return new Date();\n  }\n\n  var force = true;\n\n  if (typeof root._bokeh_onload_callbacks === \"undefined\" || force === true) {\n    root._bokeh_onload_callbacks = [];\n    root._bokeh_is_loading = undefined;\n  }\n\n  if (typeof (root._bokeh_timeout) === \"undefined\" || force === true) {\n    root._bokeh_timeout = Date.now() + 5000;\n    root._bokeh_failed_load = false;\n  }\n\n  function run_callbacks() {\n    try {\n      root._bokeh_onload_callbacks.forEach(function(callback) {\n        if (callback != null)\n          callback();\n      });\n    } finally {\n      delete root._bokeh_onload_callbacks\n    }\n    console.debug(\"Bokeh: all callbacks have finished\");\n  }\n\n  function load_libs(css_urls, js_urls, js_modules, callback) {\n    if (css_urls == null) css_urls = [];\n    if (js_urls == null) js_urls = [];\n    if (js_modules == null) js_modules = [];\n\n    root._bokeh_onload_callbacks.push(callback);\n    if (root._bokeh_is_loading > 0) {\n      console.debug(\"Bokeh: BokehJS is being loaded, scheduling callback at\", now());\n      return null;\n    }\n    if (js_urls.length === 0 && js_modules.length === 0) {\n      run_callbacks();\n      return null;\n    }\n    console.debug(\"Bokeh: BokehJS not loaded, scheduling load and callback at\", now());\n    root._bokeh_is_loading = css_urls.length + js_urls.length + js_modules.length;\n\n    function on_load() {\n      root._bokeh_is_loading--;\n      if (root._bokeh_is_loading === 0) {\n        console.debug(\"Bokeh: all BokehJS libraries/stylesheets loaded\");\n        run_callbacks()\n      }\n    }\n\n    function on_error() {\n      console.error(\"failed to load \" + url);\n    }\n\n    for (var i = 0; i < css_urls.length; i++) {\n      var url = css_urls[i];\n      const element = document.createElement(\"link\");\n      element.onload = on_load;\n      element.onerror = on_error;\n      element.rel = \"stylesheet\";\n      element.type = \"text/css\";\n      element.href = url;\n      console.debug(\"Bokeh: injecting link tag for BokehJS stylesheet: \", url);\n      document.body.appendChild(element);\n    }\n\n    var skip = [];\n    if (window.requirejs) {\n      window.requirejs.config({'paths': {'tabulator': 'https://unpkg.com/tabulator-tables@4.9.3/dist/js/tabulator'}});\n      require([], function() {\n      })\n    }\n    if (((window['tabulator'] !== undefined) && (!(window['tabulator'] instanceof HTMLElement))) || window.requirejs) {\n      var urls = ['https://unpkg.com/tabulator-tables@4.9.3/dist/js/tabulator.js', 'https://unpkg.com/moment@2.27.0/moment.js'];\n      for (var i = 0; i < urls.length; i++) {\n        skip.push(urls[i])\n      }\n    }\n    for (var i = 0; i < js_urls.length; i++) {\n      var url = js_urls[i];\n      if (skip.indexOf(url) >= 0) { on_load(); continue; }\n      var element = document.createElement('script');\n      element.onload = on_load;\n      element.onerror = on_error;\n      element.async = false;\n      element.src = url;\n      console.debug(\"Bokeh: injecting script tag for BokehJS library: \", url);\n      document.head.appendChild(element);\n    }\n    for (var i = 0; i < js_modules.length; i++) {\n      var url = js_modules[i];\n      if (skip.indexOf(url) >= 0) { on_load(); continue; }\n      var element = document.createElement('script');\n      element.onload = on_load;\n      element.onerror = on_error;\n      element.async = false;\n      element.src = url;\n      element.type = \"module\";\n      console.debug(\"Bokeh: injecting script tag for BokehJS library: \", url);\n      document.head.appendChild(element);\n    }\n    if (!js_urls.length && !js_modules.length) {\n      on_load()\n    }\n  };\n\n  function inject_raw_css(css) {\n    const element = document.createElement(\"style\");\n    element.appendChild(document.createTextNode(css));\n    document.body.appendChild(element);\n  }\n\n  var js_urls = [\"https://unpkg.com/tabulator-tables@4.9.3/dist/js/tabulator.js\", \"https://unpkg.com/moment@2.27.0/moment.js\", \"https://cdn.bokeh.org/bokeh/release/bokeh-2.3.3.min.js\", \"https://cdn.bokeh.org/bokeh/release/bokeh-widgets-2.3.3.min.js\", \"https://cdn.bokeh.org/bokeh/release/bokeh-tables-2.3.3.min.js\", \"https://unpkg.com/@holoviz/panel@0.11.1/dist/panel.min.js\"];\n  var js_modules = [];\n  var css_urls = [\"https://unpkg.com/tabulator-tables@4.9.3/dist/css/tabulator_simple.min.css\", \"https://unpkg.com/@holoviz/panel@0.11.1/dist/css/widgets.css\", \"https://unpkg.com/@holoviz/panel@0.11.1/dist/css/loading.css\", \"https://unpkg.com/@holoviz/panel@0.11.1/dist/css/dataframe.css\", \"https://unpkg.com/@holoviz/panel@0.11.1/dist/css/alerts.css\", \"https://unpkg.com/@holoviz/panel@0.11.1/dist/css/markdown.css\", \"https://unpkg.com/@holoviz/panel@0.11.1/dist/css/json.css\", \"https://unpkg.com/@holoviz/panel@0.11.1/dist/css/card.css\"];\n  var inline_js = [\n    function(Bokeh) {\n      inject_raw_css(\"\\n    .bk.pn-loading.arcs:before {\\n      background-image: url(\\\"data:image/svg+xml;base64,PHN2ZyB4bWxucz0iaHR0cDovL3d3dy53My5vcmcvMjAwMC9zdmciIHhtbG5zOnhsaW5rPSJodHRwOi8vd3d3LnczLm9yZy8xOTk5L3hsaW5rIiBzdHlsZT0ibWFyZ2luOiBhdXRvOyBiYWNrZ3JvdW5kOiBub25lOyBkaXNwbGF5OiBibG9jazsgc2hhcGUtcmVuZGVyaW5nOiBhdXRvOyIgdmlld0JveD0iMCAwIDEwMCAxMDAiIHByZXNlcnZlQXNwZWN0UmF0aW89InhNaWRZTWlkIj4gIDxjaXJjbGUgY3g9IjUwIiBjeT0iNTAiIHI9IjMyIiBzdHJva2Utd2lkdGg9IjgiIHN0cm9rZT0iI2MzYzNjMyIgc3Ryb2tlLWRhc2hhcnJheT0iNTAuMjY1NDgyNDU3NDM2NjkgNTAuMjY1NDgyNDU3NDM2NjkiIGZpbGw9Im5vbmUiIHN0cm9rZS1saW5lY2FwPSJyb3VuZCI+ICAgIDxhbmltYXRlVHJhbnNmb3JtIGF0dHJpYnV0ZU5hbWU9InRyYW5zZm9ybSIgdHlwZT0icm90YXRlIiByZXBlYXRDb3VudD0iaW5kZWZpbml0ZSIgZHVyPSIxcyIga2V5VGltZXM9IjA7MSIgdmFsdWVzPSIwIDUwIDUwOzM2MCA1MCA1MCI+PC9hbmltYXRlVHJhbnNmb3JtPiAgPC9jaXJjbGU+PC9zdmc+\\\")\\n    }\\n    \");\n    },\n    function(Bokeh) {\n      Bokeh.set_log_level(\"info\");\n    },\n    function(Bokeh) {} // ensure no trailing comma for IE\n  ];\n\n  function run_inline_js() {\n    if ((root.Bokeh !== undefined) || (force === true)) {\n      for (var i = 0; i < inline_js.length; i++) {\n        inline_js[i].call(root, root.Bokeh);\n      }} else if (Date.now() < root._bokeh_timeout) {\n      setTimeout(run_inline_js, 100);\n    } else if (!root._bokeh_failed_load) {\n      console.log(\"Bokeh: BokehJS failed to load within specified timeout.\");\n      root._bokeh_failed_load = true;\n    }\n  }\n\n  if (root._bokeh_is_loading === 0) {\n    console.debug(\"Bokeh: BokehJS loaded, going straight to plotting\");\n    run_inline_js();\n  } else {\n    load_libs(css_urls, js_urls, js_modules, function() {\n      console.debug(\"Bokeh: BokehJS plotting callback run at\", now());\n      run_inline_js();\n    });\n  }\n}(window));"
     },
     "metadata": {},
     "output_type": "display_data"
    },
    {
     "data": {
      "application/javascript": [
       "\n",
       "if ((window.PyViz === undefined) || (window.PyViz instanceof HTMLElement)) {\n",
       "  window.PyViz = {comms: {}, comm_status:{}, kernels:{}, receivers: {}, plot_index: []}\n",
       "}\n",
       "\n",
       "\n",
       "    function JupyterCommManager() {\n",
       "    }\n",
       "\n",
       "    JupyterCommManager.prototype.register_target = function(plot_id, comm_id, msg_handler) {\n",
       "      if (window.comm_manager || ((window.Jupyter !== undefined) && (Jupyter.notebook.kernel != null))) {\n",
       "        var comm_manager = window.comm_manager || Jupyter.notebook.kernel.comm_manager;\n",
       "        comm_manager.register_target(comm_id, function(comm) {\n",
       "          comm.on_msg(msg_handler);\n",
       "        });\n",
       "      } else if ((plot_id in window.PyViz.kernels) && (window.PyViz.kernels[plot_id])) {\n",
       "        window.PyViz.kernels[plot_id].registerCommTarget(comm_id, function(comm) {\n",
       "          comm.onMsg = msg_handler;\n",
       "        });\n",
       "      } else if (typeof google != 'undefined' && google.colab.kernel != null) {\n",
       "        google.colab.kernel.comms.registerTarget(comm_id, (comm) => {\n",
       "          var messages = comm.messages[Symbol.asyncIterator]();\n",
       "          function processIteratorResult(result) {\n",
       "            var message = result.value;\n",
       "            console.log(message)\n",
       "            var content = {data: message.data, comm_id};\n",
       "            var buffers = []\n",
       "            for (var buffer of message.buffers || []) {\n",
       "              buffers.push(new DataView(buffer))\n",
       "            }\n",
       "            var metadata = message.metadata || {};\n",
       "            var msg = {content, buffers, metadata}\n",
       "            msg_handler(msg);\n",
       "            return messages.next().then(processIteratorResult);\n",
       "          }\n",
       "          return messages.next().then(processIteratorResult);\n",
       "        })\n",
       "      }\n",
       "    }\n",
       "\n",
       "    JupyterCommManager.prototype.get_client_comm = function(plot_id, comm_id, msg_handler) {\n",
       "      if (comm_id in window.PyViz.comms) {\n",
       "        return window.PyViz.comms[comm_id];\n",
       "      } else if (window.comm_manager || ((window.Jupyter !== undefined) && (Jupyter.notebook.kernel != null))) {\n",
       "        var comm_manager = window.comm_manager || Jupyter.notebook.kernel.comm_manager;\n",
       "        var comm = comm_manager.new_comm(comm_id, {}, {}, {}, comm_id);\n",
       "        if (msg_handler) {\n",
       "          comm.on_msg(msg_handler);\n",
       "        }\n",
       "      } else if ((plot_id in window.PyViz.kernels) && (window.PyViz.kernels[plot_id])) {\n",
       "        var comm = window.PyViz.kernels[plot_id].connectToComm(comm_id);\n",
       "        comm.open();\n",
       "        if (msg_handler) {\n",
       "          comm.onMsg = msg_handler;\n",
       "        }\n",
       "      } else if (typeof google != 'undefined' && google.colab.kernel != null) {\n",
       "        var comm_promise = google.colab.kernel.comms.open(comm_id)\n",
       "        comm_promise.then((comm) => {\n",
       "          window.PyViz.comms[comm_id] = comm;\n",
       "          if (msg_handler) {\n",
       "            var messages = comm.messages[Symbol.asyncIterator]();\n",
       "            function processIteratorResult(result) {\n",
       "              var message = result.value;\n",
       "              var content = {data: message.data};\n",
       "              var metadata = message.metadata || {comm_id};\n",
       "              var msg = {content, metadata}\n",
       "              msg_handler(msg);\n",
       "              return messages.next().then(processIteratorResult);\n",
       "            }\n",
       "            return messages.next().then(processIteratorResult);\n",
       "          }\n",
       "        }) \n",
       "        var sendClosure = (data, metadata, buffers, disposeOnDone) => {\n",
       "          return comm_promise.then((comm) => {\n",
       "            comm.send(data, metadata, buffers, disposeOnDone);\n",
       "          });\n",
       "        };\n",
       "        var comm = {\n",
       "          send: sendClosure\n",
       "        };\n",
       "      }\n",
       "      window.PyViz.comms[comm_id] = comm;\n",
       "      return comm;\n",
       "    }\n",
       "    window.PyViz.comm_manager = new JupyterCommManager();\n",
       "    \n",
       "\n",
       "\n",
       "var JS_MIME_TYPE = 'application/javascript';\n",
       "var HTML_MIME_TYPE = 'text/html';\n",
       "var EXEC_MIME_TYPE = 'application/vnd.holoviews_exec.v0+json';\n",
       "var CLASS_NAME = 'output';\n",
       "\n",
       "/**\n",
       " * Render data to the DOM node\n",
       " */\n",
       "function render(props, node) {\n",
       "  var div = document.createElement(\"div\");\n",
       "  var script = document.createElement(\"script\");\n",
       "  node.appendChild(div);\n",
       "  node.appendChild(script);\n",
       "}\n",
       "\n",
       "/**\n",
       " * Handle when a new output is added\n",
       " */\n",
       "function handle_add_output(event, handle) {\n",
       "  var output_area = handle.output_area;\n",
       "  var output = handle.output;\n",
       "  if ((output.data == undefined) || (!output.data.hasOwnProperty(EXEC_MIME_TYPE))) {\n",
       "    return\n",
       "  }\n",
       "  var id = output.metadata[EXEC_MIME_TYPE][\"id\"];\n",
       "  var toinsert = output_area.element.find(\".\" + CLASS_NAME.split(' ')[0]);\n",
       "  if (id !== undefined) {\n",
       "    var nchildren = toinsert.length;\n",
       "    var html_node = toinsert[nchildren-1].children[0];\n",
       "    html_node.innerHTML = output.data[HTML_MIME_TYPE];\n",
       "    var scripts = [];\n",
       "    var nodelist = html_node.querySelectorAll(\"script\");\n",
       "    for (var i in nodelist) {\n",
       "      if (nodelist.hasOwnProperty(i)) {\n",
       "        scripts.push(nodelist[i])\n",
       "      }\n",
       "    }\n",
       "\n",
       "    scripts.forEach( function (oldScript) {\n",
       "      var newScript = document.createElement(\"script\");\n",
       "      var attrs = [];\n",
       "      var nodemap = oldScript.attributes;\n",
       "      for (var j in nodemap) {\n",
       "        if (nodemap.hasOwnProperty(j)) {\n",
       "          attrs.push(nodemap[j])\n",
       "        }\n",
       "      }\n",
       "      attrs.forEach(function(attr) { newScript.setAttribute(attr.name, attr.value) });\n",
       "      newScript.appendChild(document.createTextNode(oldScript.innerHTML));\n",
       "      oldScript.parentNode.replaceChild(newScript, oldScript);\n",
       "    });\n",
       "    if (JS_MIME_TYPE in output.data) {\n",
       "      toinsert[nchildren-1].children[1].textContent = output.data[JS_MIME_TYPE];\n",
       "    }\n",
       "    output_area._hv_plot_id = id;\n",
       "    if ((window.Bokeh !== undefined) && (id in Bokeh.index)) {\n",
       "      window.PyViz.plot_index[id] = Bokeh.index[id];\n",
       "    } else {\n",
       "      window.PyViz.plot_index[id] = null;\n",
       "    }\n",
       "  } else if (output.metadata[EXEC_MIME_TYPE][\"server_id\"] !== undefined) {\n",
       "    var bk_div = document.createElement(\"div\");\n",
       "    bk_div.innerHTML = output.data[HTML_MIME_TYPE];\n",
       "    var script_attrs = bk_div.children[0].attributes;\n",
       "    for (var i = 0; i < script_attrs.length; i++) {\n",
       "      toinsert[toinsert.length - 1].childNodes[1].setAttribute(script_attrs[i].name, script_attrs[i].value);\n",
       "    }\n",
       "    // store reference to server id on output_area\n",
       "    output_area._bokeh_server_id = output.metadata[EXEC_MIME_TYPE][\"server_id\"];\n",
       "  }\n",
       "}\n",
       "\n",
       "/**\n",
       " * Handle when an output is cleared or removed\n",
       " */\n",
       "function handle_clear_output(event, handle) {\n",
       "  var id = handle.cell.output_area._hv_plot_id;\n",
       "  var server_id = handle.cell.output_area._bokeh_server_id;\n",
       "  if (((id === undefined) || !(id in PyViz.plot_index)) && (server_id !== undefined)) { return; }\n",
       "  var comm = window.PyViz.comm_manager.get_client_comm(\"hv-extension-comm\", \"hv-extension-comm\", function () {});\n",
       "  if (server_id !== null) {\n",
       "    comm.send({event_type: 'server_delete', 'id': server_id});\n",
       "    return;\n",
       "  } else if (comm !== null) {\n",
       "    comm.send({event_type: 'delete', 'id': id});\n",
       "  }\n",
       "  delete PyViz.plot_index[id];\n",
       "  if ((window.Bokeh !== undefined) & (id in window.Bokeh.index)) {\n",
       "    var doc = window.Bokeh.index[id].model.document\n",
       "    doc.clear();\n",
       "    const i = window.Bokeh.documents.indexOf(doc);\n",
       "    if (i > -1) {\n",
       "      window.Bokeh.documents.splice(i, 1);\n",
       "    }\n",
       "  }\n",
       "}\n",
       "\n",
       "/**\n",
       " * Handle kernel restart event\n",
       " */\n",
       "function handle_kernel_cleanup(event, handle) {\n",
       "  delete PyViz.comms[\"hv-extension-comm\"];\n",
       "  window.PyViz.plot_index = {}\n",
       "}\n",
       "\n",
       "/**\n",
       " * Handle update_display_data messages\n",
       " */\n",
       "function handle_update_output(event, handle) {\n",
       "  handle_clear_output(event, {cell: {output_area: handle.output_area}})\n",
       "  handle_add_output(event, handle)\n",
       "}\n",
       "\n",
       "function register_renderer(events, OutputArea) {\n",
       "  function append_mime(data, metadata, element) {\n",
       "    // create a DOM node to render to\n",
       "    var toinsert = this.create_output_subarea(\n",
       "    metadata,\n",
       "    CLASS_NAME,\n",
       "    EXEC_MIME_TYPE\n",
       "    );\n",
       "    this.keyboard_manager.register_events(toinsert);\n",
       "    // Render to node\n",
       "    var props = {data: data, metadata: metadata[EXEC_MIME_TYPE]};\n",
       "    render(props, toinsert[0]);\n",
       "    element.append(toinsert);\n",
       "    return toinsert\n",
       "  }\n",
       "\n",
       "  events.on('output_added.OutputArea', handle_add_output);\n",
       "  events.on('output_updated.OutputArea', handle_update_output);\n",
       "  events.on('clear_output.CodeCell', handle_clear_output);\n",
       "  events.on('delete.Cell', handle_clear_output);\n",
       "  events.on('kernel_ready.Kernel', handle_kernel_cleanup);\n",
       "\n",
       "  OutputArea.prototype.register_mime_type(EXEC_MIME_TYPE, append_mime, {\n",
       "    safe: true,\n",
       "    index: 0\n",
       "  });\n",
       "}\n",
       "\n",
       "if (window.Jupyter !== undefined) {\n",
       "  try {\n",
       "    var events = require('base/js/events');\n",
       "    var OutputArea = require('notebook/js/outputarea').OutputArea;\n",
       "    if (OutputArea.prototype.mime_types().indexOf(EXEC_MIME_TYPE) == -1) {\n",
       "      register_renderer(events, OutputArea);\n",
       "    }\n",
       "  } catch(err) {\n",
       "  }\n",
       "}\n"
      ],
      "application/vnd.holoviews_load.v0+json": "\nif ((window.PyViz === undefined) || (window.PyViz instanceof HTMLElement)) {\n  window.PyViz = {comms: {}, comm_status:{}, kernels:{}, receivers: {}, plot_index: []}\n}\n\n\n    function JupyterCommManager() {\n    }\n\n    JupyterCommManager.prototype.register_target = function(plot_id, comm_id, msg_handler) {\n      if (window.comm_manager || ((window.Jupyter !== undefined) && (Jupyter.notebook.kernel != null))) {\n        var comm_manager = window.comm_manager || Jupyter.notebook.kernel.comm_manager;\n        comm_manager.register_target(comm_id, function(comm) {\n          comm.on_msg(msg_handler);\n        });\n      } else if ((plot_id in window.PyViz.kernels) && (window.PyViz.kernels[plot_id])) {\n        window.PyViz.kernels[plot_id].registerCommTarget(comm_id, function(comm) {\n          comm.onMsg = msg_handler;\n        });\n      } else if (typeof google != 'undefined' && google.colab.kernel != null) {\n        google.colab.kernel.comms.registerTarget(comm_id, (comm) => {\n          var messages = comm.messages[Symbol.asyncIterator]();\n          function processIteratorResult(result) {\n            var message = result.value;\n            console.log(message)\n            var content = {data: message.data, comm_id};\n            var buffers = []\n            for (var buffer of message.buffers || []) {\n              buffers.push(new DataView(buffer))\n            }\n            var metadata = message.metadata || {};\n            var msg = {content, buffers, metadata}\n            msg_handler(msg);\n            return messages.next().then(processIteratorResult);\n          }\n          return messages.next().then(processIteratorResult);\n        })\n      }\n    }\n\n    JupyterCommManager.prototype.get_client_comm = function(plot_id, comm_id, msg_handler) {\n      if (comm_id in window.PyViz.comms) {\n        return window.PyViz.comms[comm_id];\n      } else if (window.comm_manager || ((window.Jupyter !== undefined) && (Jupyter.notebook.kernel != null))) {\n        var comm_manager = window.comm_manager || Jupyter.notebook.kernel.comm_manager;\n        var comm = comm_manager.new_comm(comm_id, {}, {}, {}, comm_id);\n        if (msg_handler) {\n          comm.on_msg(msg_handler);\n        }\n      } else if ((plot_id in window.PyViz.kernels) && (window.PyViz.kernels[plot_id])) {\n        var comm = window.PyViz.kernels[plot_id].connectToComm(comm_id);\n        comm.open();\n        if (msg_handler) {\n          comm.onMsg = msg_handler;\n        }\n      } else if (typeof google != 'undefined' && google.colab.kernel != null) {\n        var comm_promise = google.colab.kernel.comms.open(comm_id)\n        comm_promise.then((comm) => {\n          window.PyViz.comms[comm_id] = comm;\n          if (msg_handler) {\n            var messages = comm.messages[Symbol.asyncIterator]();\n            function processIteratorResult(result) {\n              var message = result.value;\n              var content = {data: message.data};\n              var metadata = message.metadata || {comm_id};\n              var msg = {content, metadata}\n              msg_handler(msg);\n              return messages.next().then(processIteratorResult);\n            }\n            return messages.next().then(processIteratorResult);\n          }\n        }) \n        var sendClosure = (data, metadata, buffers, disposeOnDone) => {\n          return comm_promise.then((comm) => {\n            comm.send(data, metadata, buffers, disposeOnDone);\n          });\n        };\n        var comm = {\n          send: sendClosure\n        };\n      }\n      window.PyViz.comms[comm_id] = comm;\n      return comm;\n    }\n    window.PyViz.comm_manager = new JupyterCommManager();\n    \n\n\nvar JS_MIME_TYPE = 'application/javascript';\nvar HTML_MIME_TYPE = 'text/html';\nvar EXEC_MIME_TYPE = 'application/vnd.holoviews_exec.v0+json';\nvar CLASS_NAME = 'output';\n\n/**\n * Render data to the DOM node\n */\nfunction render(props, node) {\n  var div = document.createElement(\"div\");\n  var script = document.createElement(\"script\");\n  node.appendChild(div);\n  node.appendChild(script);\n}\n\n/**\n * Handle when a new output is added\n */\nfunction handle_add_output(event, handle) {\n  var output_area = handle.output_area;\n  var output = handle.output;\n  if ((output.data == undefined) || (!output.data.hasOwnProperty(EXEC_MIME_TYPE))) {\n    return\n  }\n  var id = output.metadata[EXEC_MIME_TYPE][\"id\"];\n  var toinsert = output_area.element.find(\".\" + CLASS_NAME.split(' ')[0]);\n  if (id !== undefined) {\n    var nchildren = toinsert.length;\n    var html_node = toinsert[nchildren-1].children[0];\n    html_node.innerHTML = output.data[HTML_MIME_TYPE];\n    var scripts = [];\n    var nodelist = html_node.querySelectorAll(\"script\");\n    for (var i in nodelist) {\n      if (nodelist.hasOwnProperty(i)) {\n        scripts.push(nodelist[i])\n      }\n    }\n\n    scripts.forEach( function (oldScript) {\n      var newScript = document.createElement(\"script\");\n      var attrs = [];\n      var nodemap = oldScript.attributes;\n      for (var j in nodemap) {\n        if (nodemap.hasOwnProperty(j)) {\n          attrs.push(nodemap[j])\n        }\n      }\n      attrs.forEach(function(attr) { newScript.setAttribute(attr.name, attr.value) });\n      newScript.appendChild(document.createTextNode(oldScript.innerHTML));\n      oldScript.parentNode.replaceChild(newScript, oldScript);\n    });\n    if (JS_MIME_TYPE in output.data) {\n      toinsert[nchildren-1].children[1].textContent = output.data[JS_MIME_TYPE];\n    }\n    output_area._hv_plot_id = id;\n    if ((window.Bokeh !== undefined) && (id in Bokeh.index)) {\n      window.PyViz.plot_index[id] = Bokeh.index[id];\n    } else {\n      window.PyViz.plot_index[id] = null;\n    }\n  } else if (output.metadata[EXEC_MIME_TYPE][\"server_id\"] !== undefined) {\n    var bk_div = document.createElement(\"div\");\n    bk_div.innerHTML = output.data[HTML_MIME_TYPE];\n    var script_attrs = bk_div.children[0].attributes;\n    for (var i = 0; i < script_attrs.length; i++) {\n      toinsert[toinsert.length - 1].childNodes[1].setAttribute(script_attrs[i].name, script_attrs[i].value);\n    }\n    // store reference to server id on output_area\n    output_area._bokeh_server_id = output.metadata[EXEC_MIME_TYPE][\"server_id\"];\n  }\n}\n\n/**\n * Handle when an output is cleared or removed\n */\nfunction handle_clear_output(event, handle) {\n  var id = handle.cell.output_area._hv_plot_id;\n  var server_id = handle.cell.output_area._bokeh_server_id;\n  if (((id === undefined) || !(id in PyViz.plot_index)) && (server_id !== undefined)) { return; }\n  var comm = window.PyViz.comm_manager.get_client_comm(\"hv-extension-comm\", \"hv-extension-comm\", function () {});\n  if (server_id !== null) {\n    comm.send({event_type: 'server_delete', 'id': server_id});\n    return;\n  } else if (comm !== null) {\n    comm.send({event_type: 'delete', 'id': id});\n  }\n  delete PyViz.plot_index[id];\n  if ((window.Bokeh !== undefined) & (id in window.Bokeh.index)) {\n    var doc = window.Bokeh.index[id].model.document\n    doc.clear();\n    const i = window.Bokeh.documents.indexOf(doc);\n    if (i > -1) {\n      window.Bokeh.documents.splice(i, 1);\n    }\n  }\n}\n\n/**\n * Handle kernel restart event\n */\nfunction handle_kernel_cleanup(event, handle) {\n  delete PyViz.comms[\"hv-extension-comm\"];\n  window.PyViz.plot_index = {}\n}\n\n/**\n * Handle update_display_data messages\n */\nfunction handle_update_output(event, handle) {\n  handle_clear_output(event, {cell: {output_area: handle.output_area}})\n  handle_add_output(event, handle)\n}\n\nfunction register_renderer(events, OutputArea) {\n  function append_mime(data, metadata, element) {\n    // create a DOM node to render to\n    var toinsert = this.create_output_subarea(\n    metadata,\n    CLASS_NAME,\n    EXEC_MIME_TYPE\n    );\n    this.keyboard_manager.register_events(toinsert);\n    // Render to node\n    var props = {data: data, metadata: metadata[EXEC_MIME_TYPE]};\n    render(props, toinsert[0]);\n    element.append(toinsert);\n    return toinsert\n  }\n\n  events.on('output_added.OutputArea', handle_add_output);\n  events.on('output_updated.OutputArea', handle_update_output);\n  events.on('clear_output.CodeCell', handle_clear_output);\n  events.on('delete.Cell', handle_clear_output);\n  events.on('kernel_ready.Kernel', handle_kernel_cleanup);\n\n  OutputArea.prototype.register_mime_type(EXEC_MIME_TYPE, append_mime, {\n    safe: true,\n    index: 0\n  });\n}\n\nif (window.Jupyter !== undefined) {\n  try {\n    var events = require('base/js/events');\n    var OutputArea = require('notebook/js/outputarea').OutputArea;\n    if (OutputArea.prototype.mime_types().indexOf(EXEC_MIME_TYPE) == -1) {\n      register_renderer(events, OutputArea);\n    }\n  } catch(err) {\n  }\n}\n"
     },
     "metadata": {},
     "output_type": "display_data"
    },
    {
     "data": {
      "application/vnd.holoviews_exec.v0+json": "",
      "text/html": [
       "<div id='1069'>\n",
       "\n",
       "\n",
       "\n",
       "\n",
       "\n",
       "  <div class=\"bk-root\" id=\"132d2c1c-c431-4b66-afc9-aa7233f8d8a8\" data-root-id=\"1069\"></div>\n",
       "</div>\n",
       "<script type=\"application/javascript\">(function(root) {\n",
       "  function embed_document(root) {\n",
       "    var docs_json = {\"7ec858af-0184-451c-a17c-300f5c867697\":{\"defs\":[],\"roots\":{\"references\":[{\"attributes\":{\"children\":[{\"id\":\"1074\"}],\"margin\":[0,0,0,0],\"name\":\"Row00211\"},\"id\":\"1073\",\"type\":\"Row\"},{\"attributes\":{\"children\":[{\"id\":\"1080\"}],\"margin\":[0,0,0,0],\"name\":\"Row00219\"},\"id\":\"1079\",\"type\":\"Row\"},{\"attributes\":{\"height\":288,\"margin\":[5,5,5,5],\"name\":\"ParamMethod00207\",\"text\":\"&lt;img src=&quot;data:image/png;base64,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&quot; width=&quot;432px&quot; height=&quot;288px&quot; alt=&quot;&quot;&gt;&lt;/img&gt;\",\"width\":432},\"id\":\"1074\",\"type\":\"panel.models.markup.HTML\"},{\"attributes\":{\"code\":\"\\nvar state = null\\nfor (var root of cb_obj.document.roots()) {\\n  if (root.id == '1081') {\\n    state = root;\\n    break;\\n  }\\n}\\nif (!state) { return; }\\nstate.set_state(cb_obj, cb_obj.value)\\n\"},\"id\":\"1082\",\"type\":\"CustomJS\"},{\"attributes\":{\"margin\":[5,5,5,5],\"name\":\"ParamMethod00215\",\"text\":\"&lt;table border=&quot;0&quot; class=&quot;dataframe panel-df&quot;&gt;\\n  &lt;thead&gt;\\n    &lt;tr style=&quot;text-align: right;&quot;&gt;\\n      &lt;th&gt;&lt;/th&gt;\\n      &lt;th&gt;sample&lt;/th&gt;\\n      &lt;th&gt;Species&lt;/th&gt;\\n    &lt;/tr&gt;\\n  &lt;/thead&gt;\\n  &lt;tbody&gt;\\n    &lt;tr&gt;\\n      &lt;th&gt;0&lt;/th&gt;\\n      &lt;td&gt;AA&lt;/td&gt;\\n      &lt;td&gt;O. barthii&lt;/td&gt;\\n    &lt;/tr&gt;\\n    &lt;tr&gt;\\n      &lt;th&gt;1&lt;/th&gt;\\n      &lt;td&gt;AB&lt;/td&gt;\\n      &lt;td&gt;O. barthii&lt;/td&gt;\\n    &lt;/tr&gt;\\n  &lt;/tbody&gt;\\n&lt;/table&gt;\"},\"id\":\"1080\",\"type\":\"panel.models.markup.HTML\"},{\"attributes\":{\"children\":[{\"id\":\"1072\"},{\"id\":\"1073\"}],\"margin\":[0,0,0,0],\"name\":\"Row00214\"},\"id\":\"1071\",\"type\":\"Row\"},{\"attributes\":{\"css_classes\":[\"markdown\"],\"margin\":[5,5,5,5],\"name\":\"Markdown00205\",\"text\":\"&lt;h2&gt;Samples : 3&lt;/h2&gt;\\n&lt;h4&gt;Group : O. barthii O. glaberrima&lt;/h4&gt;\"},\"id\":\"1072\",\"type\":\"panel.models.markup.HTML\"},{\"attributes\":{\"js_property_callbacks\":{\"change:value\":[{\"id\":\"1082\"}]},\"margin\":[5,10,5,10],\"options\":[[\"O. barthii\",\"O. barthii\"],[\"O. glaberrima\",\"O. glaberrima\"]],\"title\":\"Species\",\"value\":\"O. barthii\"},\"id\":\"1077\",\"type\":\"Select\"},{\"attributes\":{\"margin\":[5,10,5,10],\"name\":\"\",\"text\":\"<b></b>\"},\"id\":\"1076\",\"type\":\"Div\"},{\"attributes\":{\"state\":{\"O. barthii\":{\"content\":\"{\\\"events\\\": [{\\\"attr\\\": \\\"text\\\", \\\"kind\\\": \\\"ModelChanged\\\", \\\"model\\\": {\\\"id\\\": \\\"1080\\\"}, \\\"new\\\": \\\"&lt;table border=&quot;0&quot; class=&quot;dataframe panel-df&quot;&gt;\\\\n  &lt;thead&gt;\\\\n    &lt;tr style=&quot;text-align: right;&quot;&gt;\\\\n      &lt;th&gt;&lt;/th&gt;\\\\n      &lt;th&gt;sample&lt;/th&gt;\\\\n      &lt;th&gt;Species&lt;/th&gt;\\\\n    &lt;/tr&gt;\\\\n  &lt;/thead&gt;\\\\n  &lt;tbody&gt;\\\\n    &lt;tr&gt;\\\\n      &lt;th&gt;0&lt;/th&gt;\\\\n      &lt;td&gt;AA&lt;/td&gt;\\\\n      &lt;td&gt;O. barthii&lt;/td&gt;\\\\n    &lt;/tr&gt;\\\\n    &lt;tr&gt;\\\\n      &lt;th&gt;1&lt;/th&gt;\\\\n      &lt;td&gt;AB&lt;/td&gt;\\\\n      &lt;td&gt;O. barthii&lt;/td&gt;\\\\n    &lt;/tr&gt;\\\\n  &lt;/tbody&gt;\\\\n&lt;/table&gt;\\\"}], \\\"references\\\": []}\",\"header\":\"{\\\"msgid\\\": \\\"1084\\\", \\\"msgtype\\\": \\\"PATCH-DOC\\\"}\",\"metadata\":\"{}\"},\"O. glaberrima\":{\"content\":\"{\\\"events\\\": [{\\\"attr\\\": \\\"text\\\", \\\"kind\\\": \\\"ModelChanged\\\", \\\"model\\\": {\\\"id\\\": \\\"1080\\\"}, \\\"new\\\": \\\"&lt;table border=&quot;0&quot; class=&quot;dataframe panel-df&quot;&gt;\\\\n  &lt;thead&gt;\\\\n    &lt;tr style=&quot;text-align: right;&quot;&gt;\\\\n      &lt;th&gt;&lt;/th&gt;\\\\n      &lt;th&gt;sample&lt;/th&gt;\\\\n      &lt;th&gt;Species&lt;/th&gt;\\\\n    &lt;/tr&gt;\\\\n  &lt;/thead&gt;\\\\n  &lt;tbody&gt;\\\\n    &lt;tr&gt;\\\\n      &lt;th&gt;2&lt;/th&gt;\\\\n      &lt;td&gt;DT&lt;/td&gt;\\\\n      &lt;td&gt;O. glaberrima&lt;/td&gt;\\\\n    &lt;/tr&gt;\\\\n  &lt;/tbody&gt;\\\\n&lt;/table&gt;\\\"}], \\\"references\\\": []}\",\"header\":\"{\\\"msgid\\\": \\\"1083\\\", \\\"msgtype\\\": \\\"PATCH-DOC\\\"}\",\"metadata\":\"{}\"}},\"values\":[\"O. barthii\"],\"widgets\":{\"1077\":0}},\"id\":\"1081\",\"type\":\"panel.models.state.State\"},{\"attributes\":{\"background\":\"WhiteSmoke\",\"children\":[{\"id\":\"1070\"},{\"id\":\"1071\"},{\"id\":\"1075\"},{\"id\":\"1078\"}],\"css_classes\":[\"scrollable\"],\"margin\":[0,0,0,0],\"name\":\"Column00231\",\"sizing_mode\":\"stretch_both\",\"tags\":[\"embedded\"]},\"id\":\"1069\",\"type\":\"Column\"},{\"attributes\":{\"children\":[{\"id\":\"1079\"}],\"css_classes\":[\"scrollable\"],\"height\":400,\"margin\":[0,0,0,0],\"name\":\"Row00222\",\"sizing_mode\":\"fixed\",\"width\":800},\"id\":\"1078\",\"type\":\"Row\"},{\"attributes\":{\"children\":[{\"id\":\"1076\"},{\"id\":\"1077\"}],\"margin\":[5,5,5,5],\"min_width\":300,\"name\":\"\",\"width\":300},\"id\":\"1075\",\"type\":\"Column\"},{\"attributes\":{\"css_classes\":[\"markdown\"],\"margin\":[5,5,5,5],\"name\":\"Markdown00223\",\"text\":\"&lt;h1&gt;Population Group&lt;/h1&gt;\"},\"id\":\"1070\",\"type\":\"panel.models.markup.HTML\"}],\"root_ids\":[\"1069\",\"1081\"]},\"title\":\"Bokeh Application\",\"version\":\"2.3.3\"}};\n",
       "    var render_items = [{\"docid\":\"7ec858af-0184-451c-a17c-300f5c867697\",\"root_ids\":[\"1069\"],\"roots\":{\"1069\":\"132d2c1c-c431-4b66-afc9-aa7233f8d8a8\"}}];\n",
       "    root.Bokeh.embed.embed_items_notebook(docs_json, render_items);\n",
       "  }\n",
       "  if (root.Bokeh !== undefined && root.Bokeh.Panel !== undefined) {\n",
       "    embed_document(root);\n",
       "  } else {\n",
       "    var attempts = 0;\n",
       "    var timer = setInterval(function(root) {\n",
       "      if (root.Bokeh !== undefined && root.Bokeh.Panel !== undefined) {\n",
       "        clearInterval(timer);\n",
       "        embed_document(root);\n",
       "      } else if (document.readyState == \"complete\") {\n",
       "        attempts++;\n",
       "        if (attempts > 100) {\n",
       "          clearInterval(timer);\n",
       "          console.log(\"Bokeh: ERROR: Unable to run BokehJS code because BokehJS library is missing\");\n",
       "        }\n",
       "      }\n",
       "    }, 10, root)\n",
       "  }\n",
       "})(window);</script>"
      ]
     },
     "metadata": {
      "application/vnd.holoviews_exec.v0+json": {
       "id": "1069"
      }
     },
     "output_type": "display_data"
    },
    {
     "data": {
      "text/html": [
       "<img src onerror=\"var cell = this.closest('.jp-CodeCell');var editor = cell.querySelector('.jp-Editor');editor.style.background='LightBlue';this.parentNode.removeChild(this)\">"
      ],
      "text/plain": [
       "<IPython.core.display.HTML object>"
      ]
     },
     "metadata": {},
     "output_type": "display_data"
    }
   ],
   "source": [
    "if not group_file.value:\n",
    "    text = \"Fill the form with the group file in the previous cell !\"\n",
    "    display_alert(text,\"danger\")\n",
    "elif not output_dir:\n",
    "    text = \"Creating frangiPANe output directory is required to continue !\"\n",
    "    display_alert(text,\"danger\")\n",
    "else:\n",
    "    # Reading group file\n",
    "    id_dict, df_group = read_group_file(group_file.value,logger)\n",
    "    # Group file dashboard\n",
    "    dashboard_group(df_group)\n",
    "    bgc('LightBlue')"
   ]
  },
  {
   "cell_type": "markdown",
   "metadata": {},
   "source": [
    "***\n",
    "\n",
    "[<img src=\"Images/up-arrow.png\" alt=\"Top\" width=2% align=\"right\">](#home \"Go back to the top\")\n",
    "\n",
    "\n",
    "# <span style=\"color: #3987C4;\">III - frangiPANe Workflow <a class=\"anchor\" id=\"workflow\"></a></span>\n",
    "\n",
    "<img src=\"Images/approachMapThenAssembly.jpg\" width=60%>\n",
    "\n"
   ]
  },
  {
   "cell_type": "markdown",
   "metadata": {},
   "source": [
    "Only fastq files corresponding to samples described in the group file (contained in fastq directory) will be used in this workflow.\n",
    "\n",
    "Fastq naming convention: \n",
    "* sample_code_1.fastq, sample_code_R1.fastq\n",
    "* sample_code_1.fq, sample_code_R1.fq\n",
    "* sample_code_2.fastq, sample_code_R2.fastq\n",
    "* sample_code_2.fq, sample_code_R2.fq\n",
    "\n",
    "with sample_code read from the group file (1st column)"
   ]
  },
  {
   "cell_type": "markdown",
   "metadata": {
    "tags": []
   },
   "source": [
    "### <span style=\"color: #919395\"> _1 - Stats about raw data (fastq files)_\n",
    "\n",
    "#### __Generating fastq statistics with `fastq_stats`__"
   ]
  },
  {
   "cell_type": "markdown",
   "metadata": {},
   "source": [
    "After this stat analysis, several files have been created and saved into 00_fastq_stats directory :\n",
    "* one file (fastq-stat) by fastq file\n",
    "* one file with all stats : all_fastq-stats.csv"
   ]
  },
  {
   "cell_type": "code",
   "execution_count": 19,
   "metadata": {},
   "outputs": [
    {
     "data": {},
     "metadata": {},
     "output_type": "display_data"
    },
    {
     "data": {
      "application/vnd.holoviews_exec.v0+json": "",
      "text/html": [
       "<div id='1085'>\n",
       "\n",
       "\n",
       "\n",
       "\n",
       "\n",
       "  <div class=\"bk-root\" id=\"bdf94a68-1d2c-4793-82a9-127cf574ae89\" data-root-id=\"1085\"></div>\n",
       "</div>\n",
       "<script type=\"application/javascript\">(function(root) {\n",
       "  function embed_document(root) {\n",
       "    var docs_json = {\"215be28f-28f9-477e-9236-4fab50e1d1b7\":{\"defs\":[],\"roots\":{\"references\":[{\"attributes\":{\"client_comm_id\":\"bc243c865a6d47bb948aa6a95a66ecc7\",\"comm_id\":\"a63c5093712e42a2b6c322e71d74f3ca\",\"plot_id\":\"1085\"},\"id\":\"1086\",\"type\":\"panel.models.comm_manager.CommManager\"},{\"attributes\":{\"css_classes\":[\"alert\",\"alert-warning\",\"markdown\"],\"margin\":[0,0,25,0],\"name\":\"Alert00233\",\"sizing_mode\":\"stretch_width\",\"text\":\"&lt;h3&gt;warning&lt;/h3&gt;\\n&lt;hr&gt;\\n&lt;p&gt;Directory /home/christine/Documents/These/frangiPANeGIT2/frangiPANe_PANRice/00-fastq_stats/ already existed&lt;/p&gt;\"},\"id\":\"1085\",\"type\":\"panel.models.markup.HTML\"}],\"root_ids\":[\"1085\",\"1086\"]},\"title\":\"Bokeh Application\",\"version\":\"2.3.3\"}};\n",
       "    var render_items = [{\"docid\":\"215be28f-28f9-477e-9236-4fab50e1d1b7\",\"root_ids\":[\"1085\"],\"roots\":{\"1085\":\"bdf94a68-1d2c-4793-82a9-127cf574ae89\"}}];\n",
       "    root.Bokeh.embed.embed_items_notebook(docs_json, render_items);\n",
       "  }\n",
       "  if (root.Bokeh !== undefined && root.Bokeh.Panel !== undefined) {\n",
       "    embed_document(root);\n",
       "  } else {\n",
       "    var attempts = 0;\n",
       "    var timer = setInterval(function(root) {\n",
       "      if (root.Bokeh !== undefined && root.Bokeh.Panel !== undefined) {\n",
       "        clearInterval(timer);\n",
       "        embed_document(root);\n",
       "      } else if (document.readyState == \"complete\") {\n",
       "        attempts++;\n",
       "        if (attempts > 100) {\n",
       "          clearInterval(timer);\n",
       "          console.log(\"Bokeh: ERROR: Unable to run BokehJS code because BokehJS library is missing\");\n",
       "        }\n",
       "      }\n",
       "    }, 10, root)\n",
       "  }\n",
       "})(window);</script>"
      ],
      "text/plain": [
       "Alert(str, alert_type='warning', css_classes=['alert', 'alert-warning']...], margin=(0, 0, 25, 0), sizing_mode='stretch_width')"
      ]
     },
     "metadata": {
      "application/vnd.holoviews_exec.v0+json": {
       "id": "1085"
      }
     },
     "output_type": "display_data"
    },
    {
     "data": {},
     "metadata": {},
     "output_type": "display_data"
    },
    {
     "data": {
      "application/vnd.holoviews_exec.v0+json": "",
      "text/html": [
       "<div id='1087'>\n",
       "\n",
       "\n",
       "\n",
       "\n",
       "\n",
       "  <div class=\"bk-root\" id=\"ae1b70e4-5d6c-48ab-ba28-ed80a040c0d0\" data-root-id=\"1087\"></div>\n",
       "</div>\n",
       "<script type=\"application/javascript\">(function(root) {\n",
       "  function embed_document(root) {\n",
       "    var docs_json = {\"17d3b0e0-87f2-4f53-ad4a-d8329dbd7f43\":{\"defs\":[],\"roots\":{\"references\":[{\"attributes\":{\"client_comm_id\":\"b6482f37370a4afeb70f7c65186b2c65\",\"comm_id\":\"940e6a07fd1c42f8841777a05fd15681\",\"plot_id\":\"1087\"},\"id\":\"1088\",\"type\":\"panel.models.comm_manager.CommManager\"},{\"attributes\":{\"css_classes\":[\"alert\",\"alert-info\",\"markdown\"],\"margin\":[0,0,25,0],\"name\":\"Alert00237\",\"sizing_mode\":\"stretch_width\",\"text\":\"&lt;p&gt;Generating some stat about raw data into (/home/christine/Documents/These/frangiPANeGIT2/frangiPANe_PANRice/00-fastq_stats/)&amp;hellip;&lt;/p&gt;\"},\"id\":\"1087\",\"type\":\"panel.models.markup.HTML\"}],\"root_ids\":[\"1087\",\"1088\"]},\"title\":\"Bokeh Application\",\"version\":\"2.3.3\"}};\n",
       "    var render_items = [{\"docid\":\"17d3b0e0-87f2-4f53-ad4a-d8329dbd7f43\",\"root_ids\":[\"1087\"],\"roots\":{\"1087\":\"ae1b70e4-5d6c-48ab-ba28-ed80a040c0d0\"}}];\n",
       "    root.Bokeh.embed.embed_items_notebook(docs_json, render_items);\n",
       "  }\n",
       "  if (root.Bokeh !== undefined && root.Bokeh.Panel !== undefined) {\n",
       "    embed_document(root);\n",
       "  } else {\n",
       "    var attempts = 0;\n",
       "    var timer = setInterval(function(root) {\n",
       "      if (root.Bokeh !== undefined && root.Bokeh.Panel !== undefined) {\n",
       "        clearInterval(timer);\n",
       "        embed_document(root);\n",
       "      } else if (document.readyState == \"complete\") {\n",
       "        attempts++;\n",
       "        if (attempts > 100) {\n",
       "          clearInterval(timer);\n",
       "          console.log(\"Bokeh: ERROR: Unable to run BokehJS code because BokehJS library is missing\");\n",
       "        }\n",
       "      }\n",
       "    }, 10, root)\n",
       "  }\n",
       "})(window);</script>"
      ],
      "text/plain": [
       "Alert(str, alert_type='info', css_classes=['alert', 'alert-info'], margin=(0, 0, 25, 0), sizing_mode='stretch_width')"
      ]
     },
     "metadata": {
      "application/vnd.holoviews_exec.v0+json": {
       "id": "1087"
      }
     },
     "output_type": "display_data"
    },
    {
     "data": {},
     "metadata": {},
     "output_type": "display_data"
    },
    {
     "data": {
      "application/vnd.holoviews_exec.v0+json": "",
      "text/html": [
       "<div id='1089'>\n",
       "\n",
       "\n",
       "\n",
       "\n",
       "\n",
       "  <div class=\"bk-root\" id=\"f9acc9c4-6d8d-4aa3-b254-5235d2f883c2\" data-root-id=\"1089\"></div>\n",
       "</div>\n",
       "<script type=\"application/javascript\">(function(root) {\n",
       "  function embed_document(root) {\n",
       "    var docs_json = {\"0633a87f-d5ba-4b76-afe5-fa7349ae039a\":{\"defs\":[],\"roots\":{\"references\":[{\"attributes\":{\"client_comm_id\":\"d374c7fa111a4ce3a8e9d775260795a7\",\"comm_id\":\"97ab20d80f9a489bbed35e6a0b3d9e13\",\"plot_id\":\"1089\"},\"id\":\"1090\",\"type\":\"panel.models.comm_manager.CommManager\"},{\"attributes\":{\"css_classes\":[\"alert\",\"alert-info\",\"markdown\"],\"margin\":[0,0,25,0],\"name\":\"Alert00241\",\"sizing_mode\":\"stretch_width\",\"text\":\"&lt;p&gt;Reading fastq directory (/home/christine/Documents/These/frangiPANeGIT/rice/fastq2) and group file&amp;hellip;&lt;/p&gt;\"},\"id\":\"1089\",\"type\":\"panel.models.markup.HTML\"}],\"root_ids\":[\"1089\",\"1090\"]},\"title\":\"Bokeh Application\",\"version\":\"2.3.3\"}};\n",
       "    var render_items = [{\"docid\":\"0633a87f-d5ba-4b76-afe5-fa7349ae039a\",\"root_ids\":[\"1089\"],\"roots\":{\"1089\":\"f9acc9c4-6d8d-4aa3-b254-5235d2f883c2\"}}];\n",
       "    root.Bokeh.embed.embed_items_notebook(docs_json, render_items);\n",
       "  }\n",
       "  if (root.Bokeh !== undefined && root.Bokeh.Panel !== undefined) {\n",
       "    embed_document(root);\n",
       "  } else {\n",
       "    var attempts = 0;\n",
       "    var timer = setInterval(function(root) {\n",
       "      if (root.Bokeh !== undefined && root.Bokeh.Panel !== undefined) {\n",
       "        clearInterval(timer);\n",
       "        embed_document(root);\n",
       "      } else if (document.readyState == \"complete\") {\n",
       "        attempts++;\n",
       "        if (attempts > 100) {\n",
       "          clearInterval(timer);\n",
       "          console.log(\"Bokeh: ERROR: Unable to run BokehJS code because BokehJS library is missing\");\n",
       "        }\n",
       "      }\n",
       "    }, 10, root)\n",
       "  }\n",
       "})(window);</script>"
      ],
      "text/plain": [
       "Alert(str, alert_type='info', css_classes=['alert', 'alert-info'], margin=(0, 0, 25, 0), sizing_mode='stretch_width')"
      ]
     },
     "metadata": {
      "application/vnd.holoviews_exec.v0+json": {
       "id": "1089"
      }
     },
     "output_type": "display_data"
    },
    {
     "data": {},
     "metadata": {},
     "output_type": "display_data"
    },
    {
     "data": {
      "application/vnd.holoviews_exec.v0+json": "",
      "text/html": [
       "<div id='1091'>\n",
       "\n",
       "\n",
       "\n",
       "\n",
       "\n",
       "  <div class=\"bk-root\" id=\"30362254-f9d7-40e4-b5ec-9b88f9e4009f\" data-root-id=\"1091\"></div>\n",
       "</div>\n",
       "<script type=\"application/javascript\">(function(root) {\n",
       "  function embed_document(root) {\n",
       "    var docs_json = {\"5eccdd8a-4424-4053-ada3-3d8c1e52f915\":{\"defs\":[],\"roots\":{\"references\":[{\"attributes\":{\"client_comm_id\":\"38beaf14802b469f995e7d50122dd9e0\",\"comm_id\":\"82be6c45edb84c3fbe00c200e2f7294a\",\"plot_id\":\"1091\"},\"id\":\"1092\",\"type\":\"panel.models.comm_manager.CommManager\"},{\"attributes\":{\"css_classes\":[\"alert\",\"alert-warning\",\"markdown\"],\"margin\":[0,0,25,0],\"name\":\"Alert00245\",\"sizing_mode\":\"stretch_width\",\"text\":\"&lt;p&gt;Fastq stats previously runned for (/home/christine/Documents/These/frangiPANeGIT2/frangiPANe_PANRice/00-fastq_stats/AA_1.fastq.gz.fastqstat)&lt;/p&gt;\"},\"id\":\"1091\",\"type\":\"panel.models.markup.HTML\"}],\"root_ids\":[\"1091\",\"1092\"]},\"title\":\"Bokeh Application\",\"version\":\"2.3.3\"}};\n",
       "    var render_items = [{\"docid\":\"5eccdd8a-4424-4053-ada3-3d8c1e52f915\",\"root_ids\":[\"1091\"],\"roots\":{\"1091\":\"30362254-f9d7-40e4-b5ec-9b88f9e4009f\"}}];\n",
       "    root.Bokeh.embed.embed_items_notebook(docs_json, render_items);\n",
       "  }\n",
       "  if (root.Bokeh !== undefined && root.Bokeh.Panel !== undefined) {\n",
       "    embed_document(root);\n",
       "  } else {\n",
       "    var attempts = 0;\n",
       "    var timer = setInterval(function(root) {\n",
       "      if (root.Bokeh !== undefined && root.Bokeh.Panel !== undefined) {\n",
       "        clearInterval(timer);\n",
       "        embed_document(root);\n",
       "      } else if (document.readyState == \"complete\") {\n",
       "        attempts++;\n",
       "        if (attempts > 100) {\n",
       "          clearInterval(timer);\n",
       "          console.log(\"Bokeh: ERROR: Unable to run BokehJS code because BokehJS library is missing\");\n",
       "        }\n",
       "      }\n",
       "    }, 10, root)\n",
       "  }\n",
       "})(window);</script>"
      ],
      "text/plain": [
       "Alert(str, alert_type='warning', css_classes=['alert', 'alert-warning']...], margin=(0, 0, 25, 0), sizing_mode='stretch_width')"
      ]
     },
     "metadata": {
      "application/vnd.holoviews_exec.v0+json": {
       "id": "1091"
      }
     },
     "output_type": "display_data"
    },
    {
     "data": {},
     "metadata": {},
     "output_type": "display_data"
    },
    {
     "data": {
      "application/vnd.holoviews_exec.v0+json": "",
      "text/html": [
       "<div id='1093'>\n",
       "\n",
       "\n",
       "\n",
       "\n",
       "\n",
       "  <div class=\"bk-root\" id=\"d4a1917b-1e65-41d3-aa07-c5261f6097d6\" data-root-id=\"1093\"></div>\n",
       "</div>\n",
       "<script type=\"application/javascript\">(function(root) {\n",
       "  function embed_document(root) {\n",
       "    var docs_json = {\"f3bf3359-34ef-4a3a-9148-4fd3c12826ef\":{\"defs\":[],\"roots\":{\"references\":[{\"attributes\":{\"client_comm_id\":\"95118e9466c0401daaf832210f74ea24\",\"comm_id\":\"889ba429017a456db5fba6f62786e1e5\",\"plot_id\":\"1093\"},\"id\":\"1094\",\"type\":\"panel.models.comm_manager.CommManager\"},{\"attributes\":{\"css_classes\":[\"alert\",\"alert-warning\",\"markdown\"],\"margin\":[0,0,25,0],\"name\":\"Alert00249\",\"sizing_mode\":\"stretch_width\",\"text\":\"&lt;p&gt;Read group AB0 in this file (AB0_1.fastq.gz) not in group file.... Skip fastq stats&lt;/p&gt;\"},\"id\":\"1093\",\"type\":\"panel.models.markup.HTML\"}],\"root_ids\":[\"1093\",\"1094\"]},\"title\":\"Bokeh Application\",\"version\":\"2.3.3\"}};\n",
       "    var render_items = [{\"docid\":\"f3bf3359-34ef-4a3a-9148-4fd3c12826ef\",\"root_ids\":[\"1093\"],\"roots\":{\"1093\":\"d4a1917b-1e65-41d3-aa07-c5261f6097d6\"}}];\n",
       "    root.Bokeh.embed.embed_items_notebook(docs_json, render_items);\n",
       "  }\n",
       "  if (root.Bokeh !== undefined && root.Bokeh.Panel !== undefined) {\n",
       "    embed_document(root);\n",
       "  } else {\n",
       "    var attempts = 0;\n",
       "    var timer = setInterval(function(root) {\n",
       "      if (root.Bokeh !== undefined && root.Bokeh.Panel !== undefined) {\n",
       "        clearInterval(timer);\n",
       "        embed_document(root);\n",
       "      } else if (document.readyState == \"complete\") {\n",
       "        attempts++;\n",
       "        if (attempts > 100) {\n",
       "          clearInterval(timer);\n",
       "          console.log(\"Bokeh: ERROR: Unable to run BokehJS code because BokehJS library is missing\");\n",
       "        }\n",
       "      }\n",
       "    }, 10, root)\n",
       "  }\n",
       "})(window);</script>"
      ],
      "text/plain": [
       "Alert(str, alert_type='warning', css_classes=['alert', 'alert-warning']...], margin=(0, 0, 25, 0), sizing_mode='stretch_width')"
      ]
     },
     "metadata": {
      "application/vnd.holoviews_exec.v0+json": {
       "id": "1093"
      }
     },
     "output_type": "display_data"
    },
    {
     "data": {},
     "metadata": {},
     "output_type": "display_data"
    },
    {
     "data": {
      "application/vnd.holoviews_exec.v0+json": "",
      "text/html": [
       "<div id='1095'>\n",
       "\n",
       "\n",
       "\n",
       "\n",
       "\n",
       "  <div class=\"bk-root\" id=\"ed9ccd10-80d6-4f7b-9278-75183fae444f\" data-root-id=\"1095\"></div>\n",
       "</div>\n",
       "<script type=\"application/javascript\">(function(root) {\n",
       "  function embed_document(root) {\n",
       "    var docs_json = {\"1cb2d27b-a7d2-4bbd-9175-5e524ed41a55\":{\"defs\":[],\"roots\":{\"references\":[{\"attributes\":{\"client_comm_id\":\"0f00d0809ffa4e2cb93dd6de80805375\",\"comm_id\":\"f5f65cd81d134599a4ee492920c5b2ba\",\"plot_id\":\"1095\"},\"id\":\"1096\",\"type\":\"panel.models.comm_manager.CommManager\"},{\"attributes\":{\"css_classes\":[\"alert\",\"alert-warning\",\"markdown\"],\"margin\":[0,0,25,0],\"name\":\"Alert00253\",\"sizing_mode\":\"stretch_width\",\"text\":\"&lt;p&gt;Fastq stats previously runned for (/home/christine/Documents/These/frangiPANeGIT2/frangiPANe_PANRice/00-fastq_stats/DT_1.fastq.gz.fastqstat)&lt;/p&gt;\"},\"id\":\"1095\",\"type\":\"panel.models.markup.HTML\"}],\"root_ids\":[\"1095\",\"1096\"]},\"title\":\"Bokeh Application\",\"version\":\"2.3.3\"}};\n",
       "    var render_items = [{\"docid\":\"1cb2d27b-a7d2-4bbd-9175-5e524ed41a55\",\"root_ids\":[\"1095\"],\"roots\":{\"1095\":\"ed9ccd10-80d6-4f7b-9278-75183fae444f\"}}];\n",
       "    root.Bokeh.embed.embed_items_notebook(docs_json, render_items);\n",
       "  }\n",
       "  if (root.Bokeh !== undefined && root.Bokeh.Panel !== undefined) {\n",
       "    embed_document(root);\n",
       "  } else {\n",
       "    var attempts = 0;\n",
       "    var timer = setInterval(function(root) {\n",
       "      if (root.Bokeh !== undefined && root.Bokeh.Panel !== undefined) {\n",
       "        clearInterval(timer);\n",
       "        embed_document(root);\n",
       "      } else if (document.readyState == \"complete\") {\n",
       "        attempts++;\n",
       "        if (attempts > 100) {\n",
       "          clearInterval(timer);\n",
       "          console.log(\"Bokeh: ERROR: Unable to run BokehJS code because BokehJS library is missing\");\n",
       "        }\n",
       "      }\n",
       "    }, 10, root)\n",
       "  }\n",
       "})(window);</script>"
      ],
      "text/plain": [
       "Alert(str, alert_type='warning', css_classes=['alert', 'alert-warning']...], margin=(0, 0, 25, 0), sizing_mode='stretch_width')"
      ]
     },
     "metadata": {
      "application/vnd.holoviews_exec.v0+json": {
       "id": "1095"
      }
     },
     "output_type": "display_data"
    },
    {
     "data": {},
     "metadata": {},
     "output_type": "display_data"
    },
    {
     "data": {
      "application/vnd.holoviews_exec.v0+json": "",
      "text/html": [
       "<div id='1097'>\n",
       "\n",
       "\n",
       "\n",
       "\n",
       "\n",
       "  <div class=\"bk-root\" id=\"f1b3100d-f37b-40bf-aefd-27b9daef64fe\" data-root-id=\"1097\"></div>\n",
       "</div>\n",
       "<script type=\"application/javascript\">(function(root) {\n",
       "  function embed_document(root) {\n",
       "    var docs_json = {\"c64653ef-db50-4d44-9667-0dcbef7ea2a9\":{\"defs\":[],\"roots\":{\"references\":[{\"attributes\":{\"css_classes\":[\"alert\",\"alert-warning\",\"markdown\"],\"margin\":[0,0,25,0],\"name\":\"Alert00257\",\"sizing_mode\":\"stretch_width\",\"text\":\"&lt;p&gt;Read group AB0 in this file (AB0_2.fastq.gz) not in group file.... Skip fastq stats&lt;/p&gt;\"},\"id\":\"1097\",\"type\":\"panel.models.markup.HTML\"},{\"attributes\":{\"client_comm_id\":\"320b166acd7c44fcb35e623a37bb0556\",\"comm_id\":\"7218963fe33c4fce94855e79d92d018c\",\"plot_id\":\"1097\"},\"id\":\"1098\",\"type\":\"panel.models.comm_manager.CommManager\"}],\"root_ids\":[\"1097\",\"1098\"]},\"title\":\"Bokeh Application\",\"version\":\"2.3.3\"}};\n",
       "    var render_items = [{\"docid\":\"c64653ef-db50-4d44-9667-0dcbef7ea2a9\",\"root_ids\":[\"1097\"],\"roots\":{\"1097\":\"f1b3100d-f37b-40bf-aefd-27b9daef64fe\"}}];\n",
       "    root.Bokeh.embed.embed_items_notebook(docs_json, render_items);\n",
       "  }\n",
       "  if (root.Bokeh !== undefined && root.Bokeh.Panel !== undefined) {\n",
       "    embed_document(root);\n",
       "  } else {\n",
       "    var attempts = 0;\n",
       "    var timer = setInterval(function(root) {\n",
       "      if (root.Bokeh !== undefined && root.Bokeh.Panel !== undefined) {\n",
       "        clearInterval(timer);\n",
       "        embed_document(root);\n",
       "      } else if (document.readyState == \"complete\") {\n",
       "        attempts++;\n",
       "        if (attempts > 100) {\n",
       "          clearInterval(timer);\n",
       "          console.log(\"Bokeh: ERROR: Unable to run BokehJS code because BokehJS library is missing\");\n",
       "        }\n",
       "      }\n",
       "    }, 10, root)\n",
       "  }\n",
       "})(window);</script>"
      ],
      "text/plain": [
       "Alert(str, alert_type='warning', css_classes=['alert', 'alert-warning']...], margin=(0, 0, 25, 0), sizing_mode='stretch_width')"
      ]
     },
     "metadata": {
      "application/vnd.holoviews_exec.v0+json": {
       "id": "1097"
      }
     },
     "output_type": "display_data"
    },
    {
     "data": {},
     "metadata": {},
     "output_type": "display_data"
    },
    {
     "data": {
      "application/vnd.holoviews_exec.v0+json": "",
      "text/html": [
       "<div id='1099'>\n",
       "\n",
       "\n",
       "\n",
       "\n",
       "\n",
       "  <div class=\"bk-root\" id=\"ef15c675-c2b6-4d1e-a76c-92ca5ec6bd6a\" data-root-id=\"1099\"></div>\n",
       "</div>\n",
       "<script type=\"application/javascript\">(function(root) {\n",
       "  function embed_document(root) {\n",
       "    var docs_json = {\"34ad2543-1fac-402f-8293-8726f997a9e8\":{\"defs\":[],\"roots\":{\"references\":[{\"attributes\":{\"css_classes\":[\"alert\",\"alert-warning\",\"markdown\"],\"margin\":[0,0,25,0],\"name\":\"Alert00261\",\"sizing_mode\":\"stretch_width\",\"text\":\"&lt;p&gt;Fastq stats previously runned for (/home/christine/Documents/These/frangiPANeGIT2/frangiPANe_PANRice/00-fastq_stats/DT_2.fastq.gz.fastqstat)&lt;/p&gt;\"},\"id\":\"1099\",\"type\":\"panel.models.markup.HTML\"},{\"attributes\":{\"client_comm_id\":\"2f80cb3bb7b44ee2b8b0b33e50ddd824\",\"comm_id\":\"dd095de7be9843cda25157eb39886836\",\"plot_id\":\"1099\"},\"id\":\"1100\",\"type\":\"panel.models.comm_manager.CommManager\"}],\"root_ids\":[\"1099\",\"1100\"]},\"title\":\"Bokeh Application\",\"version\":\"2.3.3\"}};\n",
       "    var render_items = [{\"docid\":\"34ad2543-1fac-402f-8293-8726f997a9e8\",\"root_ids\":[\"1099\"],\"roots\":{\"1099\":\"ef15c675-c2b6-4d1e-a76c-92ca5ec6bd6a\"}}];\n",
       "    root.Bokeh.embed.embed_items_notebook(docs_json, render_items);\n",
       "  }\n",
       "  if (root.Bokeh !== undefined && root.Bokeh.Panel !== undefined) {\n",
       "    embed_document(root);\n",
       "  } else {\n",
       "    var attempts = 0;\n",
       "    var timer = setInterval(function(root) {\n",
       "      if (root.Bokeh !== undefined && root.Bokeh.Panel !== undefined) {\n",
       "        clearInterval(timer);\n",
       "        embed_document(root);\n",
       "      } else if (document.readyState == \"complete\") {\n",
       "        attempts++;\n",
       "        if (attempts > 100) {\n",
       "          clearInterval(timer);\n",
       "          console.log(\"Bokeh: ERROR: Unable to run BokehJS code because BokehJS library is missing\");\n",
       "        }\n",
       "      }\n",
       "    }, 10, root)\n",
       "  }\n",
       "})(window);</script>"
      ],
      "text/plain": [
       "Alert(str, alert_type='warning', css_classes=['alert', 'alert-warning']...], margin=(0, 0, 25, 0), sizing_mode='stretch_width')"
      ]
     },
     "metadata": {
      "application/vnd.holoviews_exec.v0+json": {
       "id": "1099"
      }
     },
     "output_type": "display_data"
    },
    {
     "data": {},
     "metadata": {},
     "output_type": "display_data"
    },
    {
     "data": {
      "application/vnd.holoviews_exec.v0+json": "",
      "text/html": [
       "<div id='1101'>\n",
       "\n",
       "\n",
       "\n",
       "\n",
       "\n",
       "  <div class=\"bk-root\" id=\"a5f2ea12-d5fb-49bf-98d4-48cfc1b84483\" data-root-id=\"1101\"></div>\n",
       "</div>\n",
       "<script type=\"application/javascript\">(function(root) {\n",
       "  function embed_document(root) {\n",
       "    var docs_json = {\"554895bb-7d9c-4627-b7dd-111071107ddf\":{\"defs\":[],\"roots\":{\"references\":[{\"attributes\":{\"client_comm_id\":\"57ff02aa4bbd4833bb29a9beb986a3bc\",\"comm_id\":\"77ed5cd947994a56bc86e337db282cbb\",\"plot_id\":\"1101\"},\"id\":\"1102\",\"type\":\"panel.models.comm_manager.CommManager\"},{\"attributes\":{\"css_classes\":[\"alert\",\"alert-warning\",\"markdown\"],\"margin\":[0,0,25,0],\"name\":\"Alert00265\",\"sizing_mode\":\"stretch_width\",\"text\":\"&lt;p&gt;Fastq stats previously runned for (/home/christine/Documents/These/frangiPANeGIT2/frangiPANe_PANRice/00-fastq_stats/AB_1.fastq.gz.fastqstat)&lt;/p&gt;\"},\"id\":\"1101\",\"type\":\"panel.models.markup.HTML\"}],\"root_ids\":[\"1101\",\"1102\"]},\"title\":\"Bokeh Application\",\"version\":\"2.3.3\"}};\n",
       "    var render_items = [{\"docid\":\"554895bb-7d9c-4627-b7dd-111071107ddf\",\"root_ids\":[\"1101\"],\"roots\":{\"1101\":\"a5f2ea12-d5fb-49bf-98d4-48cfc1b84483\"}}];\n",
       "    root.Bokeh.embed.embed_items_notebook(docs_json, render_items);\n",
       "  }\n",
       "  if (root.Bokeh !== undefined && root.Bokeh.Panel !== undefined) {\n",
       "    embed_document(root);\n",
       "  } else {\n",
       "    var attempts = 0;\n",
       "    var timer = setInterval(function(root) {\n",
       "      if (root.Bokeh !== undefined && root.Bokeh.Panel !== undefined) {\n",
       "        clearInterval(timer);\n",
       "        embed_document(root);\n",
       "      } else if (document.readyState == \"complete\") {\n",
       "        attempts++;\n",
       "        if (attempts > 100) {\n",
       "          clearInterval(timer);\n",
       "          console.log(\"Bokeh: ERROR: Unable to run BokehJS code because BokehJS library is missing\");\n",
       "        }\n",
       "      }\n",
       "    }, 10, root)\n",
       "  }\n",
       "})(window);</script>"
      ],
      "text/plain": [
       "Alert(str, alert_type='warning', css_classes=['alert', 'alert-warning']...], margin=(0, 0, 25, 0), sizing_mode='stretch_width')"
      ]
     },
     "metadata": {
      "application/vnd.holoviews_exec.v0+json": {
       "id": "1101"
      }
     },
     "output_type": "display_data"
    },
    {
     "data": {},
     "metadata": {},
     "output_type": "display_data"
    },
    {
     "data": {
      "application/vnd.holoviews_exec.v0+json": "",
      "text/html": [
       "<div id='1103'>\n",
       "\n",
       "\n",
       "\n",
       "\n",
       "\n",
       "  <div class=\"bk-root\" id=\"62ae6e3f-85d2-4fc0-951e-bac0a7d8e95e\" data-root-id=\"1103\"></div>\n",
       "</div>\n",
       "<script type=\"application/javascript\">(function(root) {\n",
       "  function embed_document(root) {\n",
       "    var docs_json = {\"49cebc6c-bb8b-428d-9b23-4bdc13585989\":{\"defs\":[],\"roots\":{\"references\":[{\"attributes\":{\"client_comm_id\":\"21b50c8bced24060a51c0b0f0ee9934b\",\"comm_id\":\"768e020550634c0bb2c40a10f7a333c9\",\"plot_id\":\"1103\"},\"id\":\"1104\",\"type\":\"panel.models.comm_manager.CommManager\"},{\"attributes\":{\"css_classes\":[\"alert\",\"alert-warning\",\"markdown\"],\"margin\":[0,0,25,0],\"name\":\"Alert00269\",\"sizing_mode\":\"stretch_width\",\"text\":\"&lt;p&gt;Fastq stats previously runned for (/home/christine/Documents/These/frangiPANeGIT2/frangiPANe_PANRice/00-fastq_stats/AB_2.fastq.gz.fastqstat)&lt;/p&gt;\"},\"id\":\"1103\",\"type\":\"panel.models.markup.HTML\"}],\"root_ids\":[\"1103\",\"1104\"]},\"title\":\"Bokeh Application\",\"version\":\"2.3.3\"}};\n",
       "    var render_items = [{\"docid\":\"49cebc6c-bb8b-428d-9b23-4bdc13585989\",\"root_ids\":[\"1103\"],\"roots\":{\"1103\":\"62ae6e3f-85d2-4fc0-951e-bac0a7d8e95e\"}}];\n",
       "    root.Bokeh.embed.embed_items_notebook(docs_json, render_items);\n",
       "  }\n",
       "  if (root.Bokeh !== undefined && root.Bokeh.Panel !== undefined) {\n",
       "    embed_document(root);\n",
       "  } else {\n",
       "    var attempts = 0;\n",
       "    var timer = setInterval(function(root) {\n",
       "      if (root.Bokeh !== undefined && root.Bokeh.Panel !== undefined) {\n",
       "        clearInterval(timer);\n",
       "        embed_document(root);\n",
       "      } else if (document.readyState == \"complete\") {\n",
       "        attempts++;\n",
       "        if (attempts > 100) {\n",
       "          clearInterval(timer);\n",
       "          console.log(\"Bokeh: ERROR: Unable to run BokehJS code because BokehJS library is missing\");\n",
       "        }\n",
       "      }\n",
       "    }, 10, root)\n",
       "  }\n",
       "})(window);</script>"
      ],
      "text/plain": [
       "Alert(str, alert_type='warning', css_classes=['alert', 'alert-warning']...], margin=(0, 0, 25, 0), sizing_mode='stretch_width')"
      ]
     },
     "metadata": {
      "application/vnd.holoviews_exec.v0+json": {
       "id": "1103"
      }
     },
     "output_type": "display_data"
    },
    {
     "data": {},
     "metadata": {},
     "output_type": "display_data"
    },
    {
     "data": {
      "application/vnd.holoviews_exec.v0+json": "",
      "text/html": [
       "<div id='1105'>\n",
       "\n",
       "\n",
       "\n",
       "\n",
       "\n",
       "  <div class=\"bk-root\" id=\"dff8b331-a39b-446d-8e56-e8c1c2a41605\" data-root-id=\"1105\"></div>\n",
       "</div>\n",
       "<script type=\"application/javascript\">(function(root) {\n",
       "  function embed_document(root) {\n",
       "    var docs_json = {\"2c5a432a-88ed-4f65-aea1-e199a6c5f8ee\":{\"defs\":[],\"roots\":{\"references\":[{\"attributes\":{\"client_comm_id\":\"eed46ed01ca84849af2fba61ae2a3ed2\",\"comm_id\":\"188b51dc5cb542c891595b909fb61f11\",\"plot_id\":\"1105\"},\"id\":\"1106\",\"type\":\"panel.models.comm_manager.CommManager\"},{\"attributes\":{\"css_classes\":[\"alert\",\"alert-warning\",\"markdown\"],\"margin\":[0,0,25,0],\"name\":\"Alert00273\",\"sizing_mode\":\"stretch_width\",\"text\":\"&lt;p&gt;Fastq stats previously runned for (/home/christine/Documents/These/frangiPANeGIT2/frangiPANe_PANRice/00-fastq_stats/AA_2.fastq.gz.fastqstat)&lt;/p&gt;\"},\"id\":\"1105\",\"type\":\"panel.models.markup.HTML\"}],\"root_ids\":[\"1105\",\"1106\"]},\"title\":\"Bokeh Application\",\"version\":\"2.3.3\"}};\n",
       "    var render_items = [{\"docid\":\"2c5a432a-88ed-4f65-aea1-e199a6c5f8ee\",\"root_ids\":[\"1105\"],\"roots\":{\"1105\":\"dff8b331-a39b-446d-8e56-e8c1c2a41605\"}}];\n",
       "    root.Bokeh.embed.embed_items_notebook(docs_json, render_items);\n",
       "  }\n",
       "  if (root.Bokeh !== undefined && root.Bokeh.Panel !== undefined) {\n",
       "    embed_document(root);\n",
       "  } else {\n",
       "    var attempts = 0;\n",
       "    var timer = setInterval(function(root) {\n",
       "      if (root.Bokeh !== undefined && root.Bokeh.Panel !== undefined) {\n",
       "        clearInterval(timer);\n",
       "        embed_document(root);\n",
       "      } else if (document.readyState == \"complete\") {\n",
       "        attempts++;\n",
       "        if (attempts > 100) {\n",
       "          clearInterval(timer);\n",
       "          console.log(\"Bokeh: ERROR: Unable to run BokehJS code because BokehJS library is missing\");\n",
       "        }\n",
       "      }\n",
       "    }, 10, root)\n",
       "  }\n",
       "})(window);</script>"
      ],
      "text/plain": [
       "Alert(str, alert_type='warning', css_classes=['alert', 'alert-warning']...], margin=(0, 0, 25, 0), sizing_mode='stretch_width')"
      ]
     },
     "metadata": {
      "application/vnd.holoviews_exec.v0+json": {
       "id": "1105"
      }
     },
     "output_type": "display_data"
    },
    {
     "data": {},
     "metadata": {},
     "output_type": "display_data"
    },
    {
     "data": {
      "application/vnd.holoviews_exec.v0+json": "",
      "text/html": [
       "<div id='1107'>\n",
       "\n",
       "\n",
       "\n",
       "\n",
       "\n",
       "  <div class=\"bk-root\" id=\"4eedc706-e739-4d3e-a92e-9817f2bf6035\" data-root-id=\"1107\"></div>\n",
       "</div>\n",
       "<script type=\"application/javascript\">(function(root) {\n",
       "  function embed_document(root) {\n",
       "    var docs_json = {\"d0facb37-9557-49d1-88aa-9dd3d11d9c59\":{\"defs\":[],\"roots\":{\"references\":[{\"attributes\":{\"css_classes\":[\"alert\",\"alert-success\",\"markdown\"],\"margin\":[0,0,25,0],\"name\":\"Alert00277\",\"sizing_mode\":\"stretch_width\",\"text\":\"&lt;h3&gt;All stat files generated successfully with fastq-stat&lt;/h3&gt;\\n&lt;hr&gt;\\n\\n&lt;ul&gt;\\n&lt;li&gt;FASTQ DIR : /home/christine/Documents/These/frangiPANeGIT/rice/fastq2&lt;/li&gt;\\n&lt;li&gt;STAT DIR : /home/christine/Documents/These/frangiPANeGIT2/frangiPANe_PANRice/00-fastq_stats/&lt;/li&gt;\\n&lt;/ul&gt;\"},\"id\":\"1107\",\"type\":\"panel.models.markup.HTML\"},{\"attributes\":{\"client_comm_id\":\"429195f9dcff4abc939c284cc3555e84\",\"comm_id\":\"edd93f539630446eb5386dd8fdc87687\",\"plot_id\":\"1107\"},\"id\":\"1108\",\"type\":\"panel.models.comm_manager.CommManager\"}],\"root_ids\":[\"1107\",\"1108\"]},\"title\":\"Bokeh Application\",\"version\":\"2.3.3\"}};\n",
       "    var render_items = [{\"docid\":\"d0facb37-9557-49d1-88aa-9dd3d11d9c59\",\"root_ids\":[\"1107\"],\"roots\":{\"1107\":\"4eedc706-e739-4d3e-a92e-9817f2bf6035\"}}];\n",
       "    root.Bokeh.embed.embed_items_notebook(docs_json, render_items);\n",
       "  }\n",
       "  if (root.Bokeh !== undefined && root.Bokeh.Panel !== undefined) {\n",
       "    embed_document(root);\n",
       "  } else {\n",
       "    var attempts = 0;\n",
       "    var timer = setInterval(function(root) {\n",
       "      if (root.Bokeh !== undefined && root.Bokeh.Panel !== undefined) {\n",
       "        clearInterval(timer);\n",
       "        embed_document(root);\n",
       "      } else if (document.readyState == \"complete\") {\n",
       "        attempts++;\n",
       "        if (attempts > 100) {\n",
       "          clearInterval(timer);\n",
       "          console.log(\"Bokeh: ERROR: Unable to run BokehJS code because BokehJS library is missing\");\n",
       "        }\n",
       "      }\n",
       "    }, 10, root)\n",
       "  }\n",
       "})(window);</script>"
      ],
      "text/plain": [
       "Alert(str, alert_type='success', css_classes=['alert', 'alert-success']...], margin=(0, 0, 25, 0), sizing_mode='stretch_width')"
      ]
     },
     "metadata": {
      "application/vnd.holoviews_exec.v0+json": {
       "id": "1107"
      }
     },
     "output_type": "display_data"
    },
    {
     "data": {},
     "metadata": {},
     "output_type": "display_data"
    },
    {
     "data": {
      "application/vnd.holoviews_exec.v0+json": "",
      "text/html": [
       "<div id='1109'>\n",
       "\n",
       "\n",
       "\n",
       "\n",
       "\n",
       "  <div class=\"bk-root\" id=\"aefc50f2-78d2-4c88-852e-5e448df0949b\" data-root-id=\"1109\"></div>\n",
       "</div>\n",
       "<script type=\"application/javascript\">(function(root) {\n",
       "  function embed_document(root) {\n",
       "    var docs_json = {\"cfabe78d-6969-4ecd-818a-7bd9cbcb443d\":{\"defs\":[],\"roots\":{\"references\":[{\"attributes\":{\"css_classes\":[\"markdown\"],\"margin\":[5,5,5,5],\"name\":\"Markdown00295\",\"text\":\"&lt;h3&gt;About Sequencing coverage&lt;/h3&gt;\\n&lt;ul&gt;\\n&lt;li&gt;x : 0 - 2 &lt;/li&gt;\\n&lt;li&gt;mean x : 1 &lt;/li&gt;\\n&lt;/ul&gt;\"},\"id\":\"1120\",\"type\":\"panel.models.markup.HTML\"},{\"attributes\":{\"children\":[{\"id\":\"1124\"},{\"id\":\"1125\"},{\"id\":\"1126\"}],\"margin\":[0,0,0,0],\"min_width\":800,\"name\":\"Row00305\",\"width\":800},\"id\":\"1123\",\"type\":\"Row\"},{\"attributes\":{\"margin\":[5,5,5,5],\"name\":\"Spacer00306\",\"sizing_mode\":\"stretch_both\",\"width\":100},\"id\":\"1129\",\"type\":\"Spacer\"},{\"attributes\":{\"client_comm_id\":\"82dfb1e501c447af901142ffc609b285\",\"comm_id\":\"3c5711336d3a4d1896f0edb9ad1527c3\",\"plot_id\":\"1109\"},\"id\":\"1136\",\"type\":\"panel.models.comm_manager.CommManager\"},{\"attributes\":{\"children\":[{\"id\":\"1116\"},{\"id\":\"1117\"},{\"id\":\"1118\"}],\"margin\":[0,0,0,0],\"min_width\":800,\"name\":\"Row00293\",\"width\":800},\"id\":\"1115\",\"type\":\"Row\"},{\"attributes\":{\"height\":288,\"margin\":[5,5,5,5],\"name\":\"Matplotlib00291\",\"text\":\"&lt;img src=&quot;data:image/png;base64,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&quot; width=&quot;432px&quot; height=&quot;288px&quot; alt=&quot;&quot;&gt;&lt;/img&gt;\",\"width\":432},\"id\":\"1118\",\"type\":\"panel.models.markup.HTML\"},{\"attributes\":{\"css_classes\":[\"markdown\"],\"margin\":[5,5,5,5],\"name\":\"Markdown00320\",\"text\":\"&lt;h1&gt;Some statistics about fastq files&lt;/h1&gt;\"},\"id\":\"1110\",\"type\":\"panel.models.markup.HTML\"},{\"attributes\":{\"children\":[{\"id\":\"1128\"},{\"id\":\"1129\"},{\"id\":\"1130\"}],\"margin\":[0,0,0,0],\"min_width\":800,\"name\":\"Row00311\",\"width\":800},\"id\":\"1127\",\"type\":\"Row\"},{\"attributes\":{\"css_classes\":[\"markdown\"],\"margin\":[5,5,5,5],\"name\":\"Markdown00301\",\"text\":\"&lt;h3&gt;About read length&lt;/h3&gt;\\n&lt;ul&gt;\\n&lt;li&gt;Length read: 30 - 101&lt;/li&gt;\\n&lt;li&gt;Mean length read : 98.66&lt;/li&gt;\\n&lt;/ul&gt;\"},\"id\":\"1124\",\"type\":\"panel.models.markup.HTML\"},{\"attributes\":{\"children\":[{\"id\":\"1120\"},{\"id\":\"1121\"},{\"id\":\"1122\"}],\"margin\":[0,0,0,0],\"min_width\":800,\"name\":\"Row00299\",\"width\":800},\"id\":\"1119\",\"type\":\"Row\"},{\"attributes\":{\"height\":288,\"margin\":[5,5,5,5],\"name\":\"Matplotlib00309\",\"text\":\"&lt;img src=&quot;data:image/png;base64,iVBORw0KGgoAAAANSUhEUgAAA2AAAAJACAYAAADrSQUmAAAAOXRFWHRTb2Z0d2FyZQBNYXRwbG90bGliIHZlcnNpb24zLjQuMywgaHR0cHM6Ly9tYXRwbG90bGliLm9yZy/MnkTPAAAACXBIWXMAABYlAAAWJQFJUiTwAABfiUlEQVR4nO3deXhTVeL/8U/atOlGKZsoRanCpCwKgsimoEgBFRSKCKIgzheXGVF0cBzAfVQUBxWVRXBhrDijoKyKIquyKPuuRREFCspSoNCFLmnu74/+mqEkQFva0zZ5v57H57H3nnPPuTkJySf33BObZVmWAAAAAADlLqiiOwAAAAAAgYIABgAAAACGEMAAAAAAwBACGAAAAAAYQgADAAAAAEMIYAAAAABgCAEMAAAAAAwhgAEAAACAIQQwAAAAADCEAAYAAAAAhhDAAAAAAMAQAhgAAAAAGEIAAwAAAABDCGAAAAAAYAgBDAAAAAAMIYABAAAAgCEEMAAAAAAwhAAGAAAAAIYQwAAAAADAEAIYAAAAABhCAAMAAAAAQwhgAAAAAGAIAQwAAAAADCGAAQAAAIAhBDAAAAAAMIQABgAAAACGEMAAAAAAwBACGAAAAAAYQgADAAAAAEMIYAAAAABgCAEMAAAAAAwhgAEAAACAIQQwAAAAADCEAAYAAAAAhhDAAAAAAMAQAhgAAAAAGEIAAwAAAABDCGAAcBY33HCD4uPjtWbNmiLb16xZo/j4eN1www0V1DMA52PQoEGKj4/XrFmzKrorAAKMvaI7ACAwpKWlafr06fr222+1Z88eHT9+XNHR0WrQoIGuv/569e/fXzExMRXdzTKxePFiJScnq02bNmrbtm1FdwcAAFQiXAEDUO4+//xzde3aVa+//ro2bNigo0ePKiIiQseOHdPGjRv1+uuvq1u3bvryyy8ruqvFFh4erksvvVQXX3yx177FixdrwoQJWrt2bQX0DAAAVGZcAQNQrj755BM999xzsixLzZo10yOPPKL27dsrNDRUeXl5Wr16td58801t27ZNw4cP18mTJ3XbbbdVdLfPqXnz5lqwYEFFdwMAAFQxXAEDUG5+/PFHvfjii7IsS126dNH06dN13XXXKTQ0VJIUEhKijh076pNPPlFCQoIsy9I///lP7dy5s4J7DgAAUD4IYADKzRtvvKG8vDxdcMEF+te//qWQkBCf5ex2u8aMGaM6deooJydH48eP9yoTHx+v+Ph47du3z+cx9u3b5ylzuszMTH311Vd67LHH1LNnT7Vu3VrNmzdX165d9fTTT2v37t0lPjdfi3AUbps9e7YkacKECZ4+ndq3wu19+vQ5axszZ85UfHy8rrvuOrnd7mL1a9asWYqPj9egQYMkSV988YXuuOMOtWrVSu3atdPQoUO1a9cuT/lDhw7phRde0A033KArrrhCXbt21TvvvKP8/PyztrN06VL99a9/1TXXXKPLL79c7du311/+8hetWLHijHW2bNmi1157Tf369VPHjh099YYMGXLWq4kjR45UfHy8xo8fr/z8fH3wwQe69dZb1aJFC7Vp00YPPPCAtm3bVqzH50wWLlyoIUOGqF27drr88svVqVMnPfbYY/rhhx+8ys6dO1fx8fG65pprzvo4bdq0SfHx8br88st17Ngxr/0///yzRo0a5XnsW7durTvuuEMff/yx8vLyvMqf/hzfvHmzhg0bpmuvvVZNmjTR6NGji32+ixcv1n333acOHTqoWbNmatOmjbp3767hw4f7nAqckpKiqVOnavDgwUX6269fP02dOlXZ2dk+2ynP5+Ppj8eGDRv0wAMPqF27dmrRooV69eqljz76qNivndO53W7NmTNHf/7znz3Pi2uvvVaPPvqotmzZcsZ6a9eu1bBhw9SpUyddfvnluuqqq9StWzc9+OCD+uSTT0rdHwD+gymIAMrFgQMHtHz5cknSwIEDFRUVddby1apV08CBAzVu3DgtWrRIhw8fVp06dcqkL7Nnz9YLL7zg+TsyMlJut1t79+7V3r179cUXX2jixInq0KHDebUTEhKi2rVrKz09XTk5OYqIiFBERIRXub59+2rixIn64Ycf9NNPP/kMjVJBAJOk3r17Kyio5N+XjR07Vu+9957sdrscDoeOHTumxYsXa/369frkk09ks9k0ePBgHThwQJGRkcrPz9fevXv12muv6Y8//tCzzz7rdcy8vDyNGjVKn3/+uWdbVFSUjh49qmXLlmnZsmUaMmSI/vGPfxSpl5mZqX79+hV5rEJDQ3X06FGtXLlSK1euVP/+/fX888+f8XxcLpceeOABrVixQiEhIQoJCdHx48f1zTff6Pvvv1dSUpJatmxZosfI7XZr1KhRmjNnjiQpODhYkZGROnjwoL744gt9+eWXevrpp3XnnXd66iQkJCg8PFypqan6/vvvde211/o89vz58yVJ11xzjWrUqFFk30cffaTRo0d7PoxHREQoKytLmzZt0qZNm/Tll1/qnXfeUXh4uM9jf/nll3r88cflcrlUrVo1BQcHF/ucx40bp8mTJ3v+joyMVHZ2tnbv3q3du3drzZo1uvnmm4vUeeSRRzxh1GazqVq1akpPT9eWLVu0ZcsWzZ8/X0lJSWd9nZfH87HQ119/reHDh8vlcik6Oloul0s7duzQCy+8oO+//15vvvmm7Pbif+TJyMjQww8/rO+++85zzpGRkTp8+LC++uorff3113ryySc1cODAIvWmT5+uZ555xvN3eHi43G639uzZoz179mjJkiVKTEyUw+Eodl8A+CELAMrB3LlzLafTaTmdTuuXX34pVp2dO3d66nz55ZdF9hVuT0lJ8Vk3JSXFU+Z0n3/+ufXCCy9YGzdutE6cOGFZlmW53W7rl19+sR577DHL6XRa7dq1szIzM73qdu7c2XI6ndbq1auLbF+9erXldDqtzp07e9UZMWKE5XQ6rbfeeuuM53rvvfdaTqfTeumll3zu3717t+V0Oq34+Hhrz549ZzzO6WbOnGk5nU7rqquuspo1a2Z98MEHVlZWlmVZlrVjxw6re/fultPptIYOHWr17dvX6t+/v5WcnGxZlmVlZWVZkyZN8rT7008/eR1/9OjRnvP+/PPPrYyMDMuyLCsjI8P65JNPrFatWllOp9P6/PPPi9TLysqy7rvvPuuLL76wDhw4YOXn51uWZVnHjx+3pk2bZl155ZU+x92y/vd4tm7d2mrTpo01f/58Kycnx7Isy0pOTrZ69uxpOZ1O67bbbiv241RoypQpnvOdOHGilZ6eblmWZR04cMAaNmyY5XQ6rcaNG1tr164tUu/RRx+1nE6nNXLkSJ/HdblcVocOHSyn02nNmzevyL5FixZZTqfTuvLKK63JkydbqamplmVZVm5urrVy5UrPGD399NNF6p36HL/yyiuthx9+2PN6yMvLO+Nr4/RjNG7c2HI6ndZrr71mHTlyxLMvNTXVWrBggTVq1Civek8++aT1wQcfWHv27PE89jk5OdaSJUusbt26WU6n03ruuee86pXn8/HUx+Oqq66yhgwZYu3du9eyLMvKzMy03n33Xc+5vv322159GzhwoOV0Oq2ZM2d67XvwwQctp9Np3XLLLdY333xjnTx50rKsgufr5MmTrWbNmlmNGze21q9f76mTlZXleR6PGjXK+v333z37jh07Zn377bfW8OHDPY8fgMBFAANQLl5//XXL6XRal19+uefD9rnk5+dbzZo1s5xOp/Xmm28W2Xc+Aexs3G63dc8991hOp9OaNWuW1/7yCmALFy70BL/c3Fyv/a+99prldDqtgQMHluh8Cj/wOp1Oa/z48V77161b59l/9dVXW8ePH/cqc/fdd/us/9tvv1mNGze2Wrdu7fmge7r58+dbTqfT6tGjR4n6PXv27DOeb+Hj6XQ6rXXr1nnt37Ztm2f/vn37it1mZmamJzC++uqrXvtdLpc1YMAAy+l0WnfeeWeRfYsXL7acTqfVqlUrKzs726vuqlWrLKfTabVo0aJIsHe5XJ7n1MKFC332a+/evdaVV15pNW3a1Dp48KBn+6nP8TvuuKPYr6tTFY7PjTfeWOK6Z7J3716radOmVosWLTzhqlB5Ph9PfTx69OjhM9i89dZbnnE6/QuWMwWwwrHr3LmzdezYMZ/n/M4771hOp9O6//77Pdu2bNniCccul8tnPQCwLMviHjAA5SItLU2SVL169WJPnwsKClL16tWL1C9vNptN1113nSRp48aNRtqUpM6dO6t27do6evSovvnmmyL7Cu89kVTqFSFDQkJ0zz33eG1v1aqVZ/rTgAEDFB0d7VWmffv2kuS1GMqcOXPkdruVkJDgc/l9SerWrZtCQ0O1c+dOHTp0qNj9LbyXbsuWLWe8r6p169Zq3bq11/bLL79cF154oSTpl19+KXabq1atUkZGhkJCQnTvvfd67Q8ODtaDDz4oSVq/fr0OHz7s2depUyfFxMQoIyND3377rVfdL774QpLUpUuXItNQ165dq/379ys2NlZdu3b12a+LL75YLVq0kMvlOuNPGfzf//1fqaalFk4RTE9P18mTJ0tc35eLL75YjRo10smTJ5WcnOyzTHk8H0/15z//2bO4z+nbHQ6HMjIyPNMJz6XwHs4+ffqc8bcJb7nlFkkF930WPl8jIyMlFUzTNfXvF4CqiXvAAJQLy7LOq56vRQjOx4EDBzRt2jR9//332rt3rzIzM71uhi9JYDhfdrtdvXv31nvvvaeZM2cW+TC+YsUKHTx4UFFRUerevXupjh8bG+vzfpygoCDVqFFDBw4c0J/+9CefdWvVqiVJOnHiRJHtmzZtkiQtWLDAc3+fLy6XS1LBY37BBRcU2T579mwtWLBAP/30k9LS0rzGOScnR8ePH1fNmjW9jnvFFVecsc26devqwIEDOn78+BnLnK7wnqbGjRt7gv/prr76atntdrlcLv3444+esB4SEqJu3bppxowZ+uKLL9StWzdPndzcXC1atEiS1LNnzyLHKwz5hw4d0jXXXHPGvqWnp0uS/vjjD5/7r7zyymKcobcWLVooJiZGhw8fVv/+/XXXXXepQ4cOZwzUp1q1apVmzpyprVu36vDhwz4X3jjTa6g8no+natOmjc/tUVFRatq0qTZt2qQffvhBCQkJZzxGocLn+QcffKCPP/74rGVPnjyptLQ01apVS3FxcYqLi9Pu3bvVv39/DRw4UB07dtRll10mm812znYBBA4CGIByUbjowPHjx+V2u4v1bb3b7fZ8yKpWrVqZ9WXt2rV64IEHlJWV5dlWrVo1zzfv2dnZysjIKLLfhNtvv13vvfeeVqxYodTUVNWuXVvS/xbf6NGjxxkXYTiXU4PP6QoXbDjTIieF+wuDVKHCK0BZWVnFeqxOvcKSmZmpIUOGeD7cSlJYWJiqVavmeW6kpqZ61TtV4RUGXwrH8vQ+n83Ro0clFYS3sx03JiZGqampnvKFevbsqRkzZuibb75RRkaGJ2AsX75cJ06cUExMjNcCHYWPYV5enud8z+ZMqwv6CqjFUb16df3rX//S3//+d/3000+eBSPq1Kmja665RrfddpvPMPPiiy9q2rRpnr9DQkIUExPjWdji+PHjysvLO+PYlcfz8VRnG8PCtk8fvzMpHKP09HRPED6bwnMODg7Wq6++qqFDhyolJUUvv/yyXn75ZcXExKht27bq1auXbrjhBsIYAAIYgPJx2WWXSSq4GvDbb7+pYcOG56zz66+/eq6IXHrppWXSj7y8PD3++OPKyspShw4dNHToUF1xxRVFViH79NNP9dRTT5VJeyURFxenNm3aaO3atZo7d66GDBmitLQ0LV26VFLppx+Wl8Irhk8++aTuvvvuEtWdNGmSNm3apBo1amjkyJHq2LGj58qGJOXn56tp06aSSn/1tLRyc3NLVa9Nmza68MILdeDAAS1atEiJiYmS/jf9sHv37l4/vVD4GHbt2lUTJkwodZ9Lsurh6a677jotXbpUX331lb777jtt2LBBhw4d0pw5czRnzhz169evyKqh3377raZNm+aZknnrrbfq4osvLhIk7rzzTm3YsMH42JWHwjGaNGmSunTpUqK6V1xxhRYuXKiFCxdq1apV2rBhg1JSUvT111/r66+/VqdOnTR58uTzGj8AVR/3gAEoF23btvV8QFu8eHGx6pxa7qqrriqyr/ADS05Ojs+6GRkZPrdv3rxZBw4cUExMjCZNmqTWrVt7LQF95MiRYvWvPPTt21dSwe8lSdK8efOUl5enRo0aqUWLFhXWL18Kr9CV5D6rQoW/8/X000+rd+/eRcKXpGJdDSprhVeRfv/99zOWycnJ8dzPc/pVJ5vN5lmuvTB0ZWZmeu7pK7xP6FTn8xiWpWrVqqlfv3564403tGLFCs2fP9/zMwGFV/UKFY5d37599dBDD+mSSy7xuopTka8h6ezThwv3FfeqYeEYnfr7ZCURFhamW2+9Va+88ooWL16sxYsX64EHHpDNZtPy5cv1ySeflOq4APwHAQxAubjwwgvVqVMnSQW/eXSmgFQoIyNDH330kaSCRRUKr6AVKpySePDgQZ/1z/RDvAcOHJBUcLXpTNP5intzfnEVfjgtztWAG2+8UdHR0frll1+0ZcsWTxCrbFe/pP/dd7Rs2bIS36NXOG5NmjTxuf/7778/r76VRrNmzSRJe/bsOePzat26dZ6pb4VX6E5VeI/X999/ryNHjmjJkiU6efKkLrroIp8LhhQ+hr/99ttZF5UwrVGjRnrhhRc8/Tt18Y/Cx8bX+UvS/v37tWfPnnLv49msW7fO5/aMjAz9+OOPkv433udS+Bh8/fXXZdK3iy++WMOHD/eE9TMtrAIgcBDAAJSbYcOGKSQkRIcOHdI//vGPM35od7lcGjFihOfei4cfftirjNPplCQtWbLEa19ubq6SkpJ8HrswuO3evdvn1bOVK1dqzZo1xTuhYiq8F+hsiwYUcjgcuvXWWyVJY8aMUXJyskJCQtSrV68y7VNZSExMVFBQkA4dOqQpU6actezpi2EUPiY///yzV9nMzEy9/fbbZdfRYrrmmmsUFRWlvLw8vffee1778/PzNWnSJEkFKzD6ukepWbNmuuyyy5Sfn68FCxZ4roTdfPPNPu/1ad++verVqydJevnll8+44qPk/RiWhXNNtyy8OnxqubONnSS9/vrrFT71cOrUqT7PLSkpSTk5OYqKijrroienKpxKun37ds9qpGdy6hiV5rEFEJgIYADKzeWXX65Ro0ZJKghOd9xxh5YvX+4JYi6XSytXrtSAAQM80w8HDBig66+/3utYN910k6SC6VEzZ870fIjZuXOn7rvvvjNOQWrVqpXCw8OVlpamf/zjH55y2dnZ+uyzz/Twww+fcanp0ipczW3FihXFWlnx9ttvl/S/FfKuv/56ryl6lUHDhg01ePBgSdL48eP1z3/+UykpKZ79mZmZWrVqlR5//HE98sgjReoWfvgdM2aM1q5d6/nAvnXrVt1zzz0Vsmx3RESEHnjgAUnStGnT9PbbbyszM1NSwVWf4cOHa8OGDQoKCtKjjz56xuP06NFDkvTJJ594rqb6mn4oFSxe8dRTT8lms2nVqlX6v//7P23ZssXzeLhcLm3fvl2vvvpqsVbsK6mPP/5YQ4YM0eeff17kuXnixAlNnjzZc3WmY8eOnn2FYzd9+nR99tlnntfe77//rhEjRmj+/PlnXEXSlD/++EMPPfSQ9u3bJ6lgYYx///vfmjhxoiTpvvvuK/aCNp06dfKsavnEE0/orbfeKvJYHT9+XIsXL9Zf//pXjRkzxrN9+fLl6t+/v2bMmKH9+/d7tp88eVIzZszQ559/LkleC7MACDwswgGgXN11112KjIzUiy++qO3bt+u+++5TUFCQoqOjlZ6eXuQKwKBBg/TEE0/4PM7tt9+uOXPmaMuWLXriiSf0zDPPKCwsTBkZGYqJidFLL72koUOHetWLjo7W8OHDNXr0aC1YsEALFixQtWrVdPLkSblcLjVp0kS33XabXnzxxTI754SEBL322mvavXu3rrvuOtWqVcvzG0WFC2ycqnHjxrr88su1fft2SZVz+mGhxx9/XNnZ2fr444/13//+V//9738VGRmp4OBgpaene4LE6SvpPfroo1q1apX++OMPDRo0SA6HQ8HBwcrKylJYWJgmTpyoIUOGGD+fIUOGaNeuXZozZ47eeOMNjR8/XlFRUTpx4oQsy1JQUJCeeuopXX311Wc8xi233KLx48d7rhA1bNjwjFMtpYLfBhs9erSeffZZrV69Wv369ZPD4VB4eLjXa6KsWZallStXauXKlZIKQqjdbi9ytbZ///6e5falgitCs2bN0ubNm/Xkk0/qmWeeUWRkpKfOsGHDtHr16gqdWjd69GgNHz5cXbp0UXR0tLKysjxTR7t06eLzd97O5pVXXpHb7dbixYs1ceJETZw4UdWqVZNlWUWmU/fp06dIvc2bN2vz5s2SCu4FczgcnueSVLAASv/+/c/jTAH4AwIYgHLXu3dvXXfddZo+fbq+/fZb7d69W2lpaZ7Vxux2u95991116NDhjMcICQnR1KlTNWnSJC1YsECHDh1SeHi4unXr5jN4neruu+/WRRddpKlTpyo5OVn5+fm67LLL1L17d91777368ssvy/R8a9asqaSkJE2cOFEbN27U0aNHz/mhulu3btq+fbvq1KnjuXeuMgoODtZzzz2nW265RZ988ok2bNigw4cPKy8vT/Xq1VPTpk2VkJDgtXrcxRdfrE8//VRvvfWWVq1a5VmmvUuXLnrggQfO+BtQJs7nlVde0Q033KAZM2Zo+/btyszMVJ06ddSmTRv9+c9/1uWXX37WYzRo0EDNmzfX1q1bJXn/9pcvt912m9q2basPP/xQ3333nfbv3+/5MqFRo0a6/vrrS/0bcGdzyy23KDIyUt99951++uknHT58WFlZWapTp46uuOIK9e3b12vsQkND9e9//1tvv/22vvrqKx04cEDBwcG65pprNGjQIHXu3FmrV68u876WRPfu3ZWUlKR3331XmzdvVnBwsBo1aqTbb79dd955Z4l/tDoiIkITJ07UN998o5kzZ2rLli06evSogoKC1KBBA11xxRXq1q1bkaDarl07/etf/9L333+vH374QYcOHfKMaZMmTdSrVy/deuutpfoBbQD+xWZV9MRtAAGr8AdL09LS1LVrV7355psBuzzzn//8Z3333Xe677779Pe//72iuwNUevv27fOExZ9++qmCewMAxcfXMAAqTFxcnN5++205HA4tWrRI//znPyu6SxViz549+v7772Wz2Tz3gwEAAP9EAANQoVq1aqVXXnlFNptN06dP1xtvvFHRXTIqMzNTL7zwgizL0vXXX68GDRpUdJcAAEA5YgoiAFSADz74QB9++KEOHz6s3NxcORwOzZo1S40aNarorgFVAlMQAVRVXAEDgAqQnp6u/fv3Kzg4WC1bttTUqVMJXwAABACugAEAAACAIVwBAwAAAABDCGAAAAAAYAgBDAAAAAAMIYABAAAAgCEEMAAAAAAwhAAGAAAAAIbYK7oDKBnLsuRyuY22abcX5HTT7cIsxjkwMM6BgXH2f4xxYKjIcbbbg2Sz2Yy3GwgIYFWMy+VWWlqW0TZjYiIkyXi7MItxDgyMc2BgnP0fYxwYKnKcY2IiFBISbLzdQMAURAAAAAAwhAAGAAAAAIYQwAAAAADAEAIYAAAAABhCAAMAAAAAQwhgAAAAAGAIAQwAAAAADCGAAQAAAIAhBDAAAAAAMIQABgAAAACG2Cu6AwAAACgeh8OusLAQ2e0F36HXqhUllytf2dl5yslxVXDvABQHAQwAAKCSczjsiooKU1CQrch2m00KDbUrNNQut9tSRkY2QQyo5JiCCAAAUIlFRIQqOjrcK3ydLijIpujocEVEhBrqGYDSIIABAABUUg6HXZGRjhLViYx0yOFgkhNQWRHAAAAAKqmoqDCj9QCUP74eAQAAqIQcDrvPaYdLkg9q4rJd2rovTc3rx2ho54bq0qRukTJBQTY5HHbuBwMqIa6AAQAAVEJhYSFe25YkH9SQpPXauPeYXG5LG/ce05Ck9VqSfLBY9QFUPAIYAABAJWS3B3ttm7hsl8+yk77x3u6rPoCK53dTEMeOHavt27dr9+7dOnbsmMLCwlSvXj0lJCTorrvuUo0aNTxlR44cqdmzZ5/1eO3atVNSUlKx2s7NzdWnn36q2bNnKyUlRbm5ubrwwgt1zTXX6M9//rNiY2PP69wAAEDgsPlY9HDrvjSfZX1t91UfQMXzuwCWlJSkpk2bqkOHDqpVq5ZOnjypzZs3a/z48Zo+fbpmzJihiy66SJKUkJBwxlA0d+5cpaSkqFOnTsVq1+VyafDgwdq4caMuu+wy9ezZU6Ghodq2bZumTZumOXPm6JNPPlGjRo3K7FwBAID/sizvENW8fow27j3mVbZ5/Rif9QFUPn4XwDZs2CCHw3u51nHjxmny5MmaMmWKnnvuOUkFASwhIcGr7IkTJ/Tee+8pJCREiYmJxWp30aJF2rhxo9q3b6+pU6cqKOh/szvfeustTZw4Ue+//75efvnl0p0YAAAIKC5XvkJDi35UG9q5oYYkrfcqO7Sz9xe8Lld+ufUNQOn53T1gvsKXJN10002SpD179pzzGHPnzlV2dra6deummjVrFqvdlJQUSdL1119fJHxJUpcuXSRJx455f2MFACY4HHZVrx4uuz1IdnuQatWKUvXq4fxWEFCJZWfneW3r0qSu3h/cWlc1qKGQYJuualBDU++5Wjc0vqBY9QFUvIB55126dKkkKT4+/pxlZ8yYIUnq169fsY//pz/9SZK0fPly3X333UVC2LJlyyRJ7du3L/bxAKAsOBx2RUWFeS1lbbNJoaF2hYba5XZbysjIZrlqoJLJyXHJ7ba8Xr9dmtT1Wnb+dG63xWsaqKT8NoC9//77ysrKUnp6urZv364NGzYoPj5e999//1nrbdq0ST///LPi4uLUrl27Yrd3/fXXq1u3blq4cKFuueUWtW/fXiEhIfrhhx+0ceNGDRo0SAMHDjzf0wKAYouICFVkpO9ZAacKCrIpOjpcmZk5ysrKNdAzAMWVkZGt6OjwUtUDUDn5bQCbOnWqUlNTPX937NhRY8aMOeeUwtJc/ZIkm83muddr0qRJ+uWXXzz72rdvr549eyo4+PyXg7XbgxQTE3Hexylpm5KMtwuzGGf/YrPZPGNaXJGRDjkcIbK4c7/K4/XsX/Lz3QoOLv7rOT/frfDwUIWHh5Zjr2BCRb6WS/oeguKzWX7+TpuamqpNmzbp1VdfVWZmpqZMmaJmzZr5LJuenq6OHTvK5XJp+fLlxb7/S5JycnL0j3/8Q8uXL9eIESPUpUsXhYeHa8OGDRo9erR+//13vfHGGz4X/SgJy7LkcrnP6xglVfgCNN0uzGKc/YvdHiRbKdagroh/Y1D2eD37H5vNpuBg21lf15ZlKT/f4ksUP1KRr+XSvo/g3Pw+gBXav3+/unfvrri4OH3xxRc+y/znP//R888/rx49euj1118v0fHHjx+vCRMm6Mknn9Tdd99dZN+OHTvUq1cvxcbGeu5FK628vHylpWWd1zFKqvBbF9PtwizG2X84HHafU5aWJB/UxGW7tHVfmprXj9HQzg193kdy4sRJ7h2p4ng9+y+Hw66wsBCFhBTMqrGsgtUOs7PzeN36oYp8LcfERHieZyhbAXNtMTY2Vo0aNdLOnTt19OhRn2UKpx/279+/xMcvXGijbdu2XvsaN26smJgY7d+/n5UQAZS7sLAQr21Lkg9qSNJ6bdx7TC63pY17j2lI0notST5YrPoAKoecHJeOHz8pl8stl8utI0cydPw4X5oAVUnABDBJOnTokCT5vBdry5Yt2rFjh+Li4nyGqHPJyytY6tVXuMvNzVVGRoYkKSSEDzYAypfd7v1v3MRlu3yWnfSN93Zf9QEAQNnwqwC2a9cuHT582Gu72+3WuHHjdOTIEbVs2VLVq1f3KjN9+nRJ5776lZ6erl27dnnCXKGrrrpKkjRlyhTl5hZdRWz8+PFyuVy64oorFBUVVaJzAoCS8jVlf+u+NJ9lfW1nyj8AAOXHr1ZBXLFihcaOHavWrVvrkksuUUxMjFJTU7Vu3TqlpKSoTp06evHFF73qZWRk6KuvvlJISIh69+591jYWLVqkUaNGKTExUWPGjPFs/+tf/6ply5bp+++/14033qiOHTsqLCxMGzdu1NatWxUWFqYnn3yyrE8ZALxYlneIal4/Rhv3ek+Bbl4/xmd9AABQPvwqgHXo0EH9+vXTxo0btWPHDqWnpys8PFxxcXHq1auXBg0apJiYGK968+bNU1ZWlnr06FGilQ9PVbduXc2ePVvvvvuuvvnmG82aNUuWZalOnTrq06eP7r33XjVs2PA8zxAAzs3lyldoaNF/3od2bqghSeu9yg7t3MhnfQAAUD4CZhVEf8EqiCgvjLP/ONsqiJO+OXUVxEa6ofEFXuVYBbHq4/Xs/xjjwMAqiP7Jr66AAQAKVklzuy0FBRWdh9ilSV2fy86fyu22CF8AAJQjv1qEAwBQICMj22g9AABQPAQwAPBDOTkuZWbmlKhOZmYOV78AAChnTEEEAD+VlZWr/Hy3oqLCvKYjnsrttpSRkU34AgDAAAIYAPixnByXcnIy5HDYFRYW4rmh2rIKVjvMzs4jeAEAYBABDAACQEEQc7FyGgAAFYx7wAAAAADAEAIYAAAAABhCAAMAAAAAQwhgAAAAAGAIAQwAAAAADCGAAQAAAIAhBDAAAAAAMIQABgAAAACGEMAAAAAAwBACGAAAAAAYQgADAAAAAEMIYAAAAABgCAEMAAAAAAwhgAEAAACAIQQwAAAAADCEAAYAAAAAhhDAAAAAAMAQAhgAAAAAGEIAAwAAAABDCGAAAAAAYAgBDAAAAAAMIYABAAAAgCEEMAAAAAAwhAAGAAAAAIYQwAAAAADAEAIYAAAAABhCAAMAAAAAQwhgAAAAAGAIAQwAAAAADCGAAQAAAIAhBDAAAAAAMIQABgAAAACGEMAAAAAAwBACGAAAAAAYQgADAAAAAEMIYAAAAABgCAEMAAAAAAwhgAEAAACAIQQwAAAAADCEAAYAAAAAhhDAAAAAAMAQAhgAAAAAGEIAAwAAAABDCGAAAAAAYAgBDAAAAAAMIYABAAAAgCEEMAAAAAAwhAAGAAAAAIYQwAAAAADAEAIYAAAAABhCAAMAAAAAQwhgAAAAAGAIAQwAAAAADCGAAQAAAIAhBDAAAAAAMIQABgAAAACGEMAAAAAAwBACGAAAAAAYQgADAAAAAEMIYAAAAABgCAEMAAAAAAyxV3QHytrYsWO1fft27d69W8eOHVNYWJjq1aunhIQE3XXXXapRo4an7MiRIzV79uyzHq9du3ZKSkoqdvuWZWnOnDmaNWuWfvrpJ2VnZ6t27dq64oor9Oijj+rSSy8t9bkBAAAAqNr8LoAlJSWpadOm6tChg2rVqqWTJ09q8+bNGj9+vKZPn64ZM2booosukiQlJCQoNjbW53Hmzp2rlJQUderUqdht5+Tk6JFHHtGyZct06aWXqmfPnoqMjNShQ4e0fv167d69mwAGAAAABDC/C2AbNmyQw+Hw2j5u3DhNnjxZU6ZM0XPPPSepIIAlJCR4lT1x4oTee+89hYSEKDExsdhtjxkzRsuWLdMDDzygRx99VEFBRWd45uXllexkAAAAAPgVv7sHzFf4kqSbbrpJkrRnz55zHmPu3LnKzs5Wt27dVLNmzWK1u3fvXn3yySe64oor9Le//c0rfElSSEhIsY4FAAAAwD/53RWwM1m6dKkkKT4+/pxlZ8yYIUnq169fsY//xRdfyO12KzExURkZGVq6dKkOHDigmJgYtWvXTg0aNChdxwEAAAD4Db8NYO+//76ysrKUnp6u7du3a8OGDYqPj9f9999/1nqbNm3Szz//rLi4OLVr167Y7W3btk2SlJ6eroSEBKWlpXn22Ww2DRgwQE899ZSCg4NLdT6F7PYgxcREnNcxStOmJOPtwizGOTAwzoGBcfZ/jHFgqMhxLmwbZc9vA9jUqVOVmprq+btjx44aM2bMOacUlubqlyQdPXpUkvTWW2+pffv2GjFihGJjY7V161Y9++yz+u9//6uaNWvq4YcfLuGZAAAAAPAXNsuyrIruRHlKTU3Vpk2b9OqrryozM1NTpkxRs2bNfJZNT09Xx44d5XK5tHz58mLf/yVJffv21bZt23ThhRfq66+/VlhYmGffjh07lJiYqPDwcK1evVqhoaGlPp+8vHylpWWVun5pFH7rYrpdmMU4BwbGOTAwzv6PMQ4MFTnOMTERCgk5v5lb8M3vry3Wrl1bXbt21dSpU5WWlqYRI0acsey8efN08uTJEi2+Uah69eqSCq60nRq+JKlx48aqX7++MjMz9euvv5b8JAAAAAD4Bb8PYIViY2PVqFEj7dy50zNd8HSF0w/79+9f4uMX/r5XtWrVfO6Pjo6WJGVnZ5f42AAAAAD8Q8AEMEk6dOiQJPlcCGPLli3asWOH4uLi1LZt2xIfu3DBjp07d3rty83N9Sx/f6YffgYAAADg//wqgO3atUuHDx/22u52uzVu3DgdOXJELVu29EwXPNX06dMlnfvqV3p6unbt2uUJc4U6deqkiy++WCtXrtSqVauK7Js4caLS09PVpk0b1alTp6SnBQAAAMBP+NUqiCtWrNDYsWPVunVrXXLJJYqJiVFqaqrWrVunlJQU1alTRy+++KJXvYyMDH311VcKCQlR7969z9rGokWLNGrUKCUmJmrMmDGe7aGhoRozZoyGDBmi++67TwkJCYqNjdW2bdu0bt061axZU88//3xZnzIAAACAKsSvAliHDh3Ur18/bdy4UTt27FB6errCw8MVFxenXr16adCgQYqJifGqN2/ePGVlZalHjx4lXnzjVK1bt9bMmTM1YcIErVmzRkuXLlWtWrXUv39/Pfjgg7rwwgvP4+wAAAAAVHV+vwy9v2EZepQXxjkwMM6BgXH2f4xxYGAZev/kV/eAAQAAAEBlRgADAAAAAEMIYAAAAABgCAEMAAAAAAwhgAEAAACAIQQwAAAAADCEAAYAAAAAhhDAAAAAAMAQAhgAAAAAGEIAAwAAAABDCGAAAAAAYAgBDAAAAAAMIYABAAAAgCEEMAAAAAAwhAAGAAAAAIYQwAAAAADAEAIYAAAAABhCAAMAAAAAQwhgAAAAAGAIAQwAAAAADCGAAQAAAIAhBDAAAAAAMIQABgAAAACGEMAAAAAAwBACGAAAAAAYQgADAAAAAEMIYAAAAABgCAEMAAAAAAwhgAEAAACAIQQwAAAAADCEAAYAAAAAhhDAAAAAAMAQe0V3AJWXw2FXWFiI7PaCnF6rVpRcrnxlZ+cpJ8dVwb0DAAAAqh4CGLw4HHZFRYUpKMhWZLvNJoWG2hUaapfbbSkjI5sgBgAAAJQAUxBRREREqKKjw73C1+mCgmyKjg5XRESooZ4BAAAAVR8BDB4Oh12RkY4S1YmMdMjh4EIqAAAAUBwEMHhERYUZrQcAAAAEGi5dQFLB1S9f0w6XJB/UxGW7tHVfmprXj9HQzg3VpUndImWCgmxyOOzcDwYAAACcA1fAIEkKCwvx2rYk+aCGJK3Xxr3H5HJb2rj3mIYkrdeS5IPFqg8AAACgKAIYJEl2e7DXtonLdvksO+kb7+2+6gMAAAAoigAGSQVLzJ9u6740n2V9bfdVHwAAAEBRBDBIkizLe1vz+jE+y/ra7qs+AAAAgKIIYJAkuVz5XtuGdm7os+zQzo2KVR8AAABAUQQwSJKys/O8tnVpUlfvD26tqxrUUEiwTVc1qKGp91ytGxpfUKz6AAAAAIpiGXpIknJyXHK7La+l6Ls0qeu17Pzp3G6LJegBAACAYuAKGDwyMrKN1gMAAAACDQEMHjk5LmVm5pSoTmZmDle/AAAAgGJiCiKKyMrKVX6+W1FRYV7TEU/ldlvKyMgmfAEAAAAlQACDl5wcl3JyMuRw2BUWFqKQkIIfWbasgtUOs7PzCF4AAABAKVRIAMvKylJ6erry830vXV6vXj3DPYIvBUHMpZiYCElSWlpWBfcIAAAAqNqMBrA5c+bovffe065du85Yxmaz6ccffzTYKwAAAAAww1gAmzVrlp544gkFBwerdevWuvDCC2W3MwMSAAAAQOAwloCmTp2q6tWr67///a8aNmxoqlkAAAAAqDSMLUO/Z88ede/enfAFAAAAIGAZC2DVq1dXaGioqeYAAAAAoNIxFsA6d+6stWvXyrIsU00CAAAAQKViLIANHz5cubm5evbZZ5WZmWmqWQAAAACoNIwtwvHII48oPDxcn376qT7//HPFxcWpWrVqXuVsNpuSkpJMdQsAAAAAjDEWwNauXev5/5MnTyo5OdlnOZvNZqpLAAAAAGCUsQC2Y8cOU00BAAAAQKVk7B4wAAAAAAh0BDAAAAAAMMTYFMRTHThwQAcPHlRubq7P/VdffbXhHgEAAABA+TMawFauXKmXX35Zv/7661nLnWmBDgAAAACoyoxNQdyyZYv+8pe/6MSJE7rrrrtkWZZat26t22+/XZdddpksy1Lnzp01dOhQU10CAAAAAKOMXQGbPHmyQkND9dlnn6lu3br66KOP1LZtWz300EOyLEvjx4/Xv//9b/3tb38z1SUAAAAAMMrYFbDNmzfrhhtuUN26dT3bLMuSVPDbX8OGDdNll12m8ePHm+oSAAAAABhl7ApYenq66tWr5/k7JCREWVlZRcq0atVKX3zxxXm1M3bsWG3fvl27d+/WsWPHFBYWpnr16ikhIUF33XWXatSo4Sk7cuRIzZ49+6zHa9eunZKSkkrVlyeeeEIzZ86UJC1cuFANGjQo1XEAAAAA+AdjAaxWrVo6fvx4kb9TUlKKlHG5XMrOzj6vdpKSktS0aVN16NBBtWrV0smTJ7V582aNHz9e06dP14wZM3TRRRdJkhISEhQbG+vzOHPnzlVKSoo6depUqn4sXbpUM2fOVEREhFfQBAAAABCYjAWwuLi4IoGrRYsWWr58uX777TddeumlOnz4sBYuXKi4uLjzamfDhg1yOBxe28eNG6fJkydrypQpeu655yQVBLCEhASvsidOnNB7772nkJAQJSYmlrgPR48e1dNPP62bb75ZqampWrt2bYmPAQAAAMD/GLsHrGPHjlq7dq3S0tIkSXfffbdycnKUmJio2267TTfddJOOHj2qwYMHn1c7vsKXJN10002SpD179pzzGHPnzlV2dra6deummjVrlrgPTz/9tCTpmWeeKXFdAAAAAP7LWAC744479J///Ed2e8FFt6uuukpvvvmm6tevr507d6pOnTp67rnn1Lt373Jpf+nSpZKk+Pj4c5adMWOGJKlfv34lbmfWrFlavHix/vnPfxa53wwAAAAAjE1BjIqKUosWLYps69q1q7p27Vou7b3//vvKyspSenq6tm/frg0bNig+Pl7333//Wett2rRJP//8s+Li4tSuXbsStbl//36NHj1at956q8+pjWXBbg9STExEuRz7bG1KMt4uzGKcAwPjHBgYZ//HGAeGihznwrZR9owFMNOmTp2q1NRUz98dO3bUmDFjzjmlsLRXv9xut0aOHKmIiAg99dRTJe8wAAAAAL9nPIAdPXpUX3/9tXbt2qWTJ09q9OjRnu379u2T0+lUWFjYebezatUqSVJqaqo2bdqkV199Vb1799aUKVPUrFkzn3XS09P11VdflWrxjQ8++EBr167VO++8o+rVq593/8/E5XIrLc3sqoqF37qYbhdmMc6BgXEODIyz/2OMA0NFjnNMTIRCQoKNtxsIjF5b/PTTT3XDDTfo+eef10cffaRZs2Z59qWmpqp///76/PPPy7TN2rVrq2vXrpo6darS0tI0YsSIM5adN2+eTp48WeLFN3bv3q1x48apT58+uu6668qi2wAAAAD8kLEAtmrVKj3zzDOKi4vThAkTNGDAgCL7nU6nGjVqpCVLlpRL+7GxsWrUqJF27typo0eP+ixTOP2wf//+JTr2L7/8otzcXM2aNUvx8fFF/itcgr5bt26Kj4/X4sWLz+9EAAAAAFRZxqYgvvvuu6pTp44++ugjRUVFKTk52atMfHy8Nm/eXG59OHTokCQpONj7cuqWLVu0Y8cOxcXFqW3btiU6bmxsrPr27etz37fffqvDhw/rxhtvVFRU1Bl/+BkAAACA/zMWwLZv366bb75ZUVFRZyxz4YUXFlk4o6R27dql6Oho1alTp8h2t9utN998U0eOHFHLli193qM1ffp0See++pWenq5Dhw6pWrVquuCCCyRJTZo08dzLdrpBgwbp8OHDGj58uBo0aFCa0wIAAADgJ4wFsLy8PEVEnH0JzRMnTigoqPSzIlesWKGxY8eqdevWuuSSSxQTE6PU1FStW7dOKSkpqlOnjl588UWvehkZGZ7FN871O2SLFi3SqFGjlJiYqDFjxpS6rwAAAAACj7EAFhsbqx9++OGsZbZu3apLL7201G106NBB/fr108aNG7Vjxw6lp6crPDxccXFx6tWrlwYNGqSYmBivevPmzVNWVpZ69OhRosU3AAAAAKAkjAWwLl266L333tNXX32lm266yWv/zJkz9dNPP+lvf/tbqdtwOp169tlnS1zvzjvv1J133lmssn369FGfPn2Kfexp06aVuD8AAAAA/JOxAHbvvfdq/vz5euyxx/T1118rPT1dkvTRRx9p/fr1WrRokRo0aKCBAwea6hIAAAAAGGWzLMsy1djvv/+uESNGaN26dV77Wrdurddee01169Y11Z0qKS8vnx9iRrlgnAMD4xwYGGf/xxgHBn6I2T8ZuwImSfXq1dO0adO0Y8cObd68WWlpaapWrZpatGihyy+/3GRXAAAAAMA4owGsUOPGjdW4ceOKaBoAAAAAKkzp13wHAAAAAJSI8StgS5cuVXJysg4ePKi8vDyv/TabTS+99JLpbgEAAABAuTMWwPbv36+//OUv+uWXX3S2dT8IYAAAAAD8lbEA9uKLL2rnzp267bbb1Lt3b9WtW1fBwaysAgAAACBwGAtgq1ev1rXXXqvRo0ebahIAAAAAKhVji3CEhITI6XSaag4AAAAAKh1jV8BatWqlnTt3mmoOAAAAqJIcDrvCwkJktxdcK6lVK0ouV76ys/OUk+Oq4N7hfBm7AjZs2DCtX79e8+fPN9UkAAAAUGU4HHbVqhWl6OhwhYbaZbPZZLPZFBRkU2ioXdHR4apVK0oOR4X8lC/KiLHRa9q0qT744APdf//9+uSTT9SsWTNFRUV5lbPZbBo6dKipbgEAAAAVLiIiVJGRjnOWCwqyKTo6XJmZOcrKyjXQM5Q1YwEsPT1dr732mo4fP65169Zp3bp1PssRwAAAABBIHA57scLXqSIjHcrPdzMlsQoyFsBeeuklrV27Vh06dNCtt97KMvQAAACApKiosFLXy8nJKOPeoLwZC2DffPONWrZsqalTp5pqEgAAAKjUHA67goJsXtuXJB/UxGW7tHVfmprXj9HQzg3VpUndImWCgmxyOOxcBatijC3CkZ2drZYtW5pqDgAAAKj0wsJCvLYtST6oIUnrtXHvMbncljbuPaYhSeu1JPlgseqjcjMWwJo2bap9+/aZag4AAACo9Ox271tyJi7b5bPspG+8t/uqj8rNWAB78MEHtXTpUq1fv95UkwAAAEClZvOefait+9J8lvW13Vd9VG7G7gE7fPiwOnfurHvuuUc9e/ZUs2bNVK1aNZ9le/fubapbAAAAQIWxLO8Q1bx+jDbuPeZVtnn9GJ/1UbXYLMvMsDVu3Fg2m02nNmc77dlmWZZsNpuSk5NNdKlKysvLV1paltE2Y2IiJMl4uzCLcQ4MjHNgYJz9H2PsP6pXL/jR5VMV3gN2uqn3XK0bGl9QZFturkvHj58s837FxEQoJITpjeXB2BWwl19+2VRTAAAAQJWQnZ3nFcC6NKmr9we31qRvTl0FsZFX+Cqsj6rFWABLTEw01RQAAABQJeTkuOR2W15L0XdpUtdr2fnTud0WS9BXQcYW4QAAAADgLSMj22g9VCwCGAAAAFCBcnJcyszMKVGdzMwcrn5VUcamIAIAAADwLSsrV/n5bkVFhXlNRzyV220pIyOb8FWFEcAAAACASiAnx6WcnAw5HHaFhYV4ViG0LMnlyld2dh7Byw8QwAAAAIBKpCCIufi5AT/FPWAAAAAAYAgBDAAAAAAMIYABAAAAgCHldg/YhAkTSlXPZrNp6NChZdwbAAAAAKh4BDAAAAAAMKTcAtiHH35YXocGAAAAgCqp3AJYmzZtyuvQAAAAAFAlsQgHAAAAABhCAAMAAAAAQ8ptCqIvhw4d0ttvv62VK1fq4MGDysvL8ypjs9n0448/muwWAAAAABhhLIAdPHhQffv21ZEjR9SoUSPl5uaqXr16Cg0N1b59++RyudSkSRNFRUWZ6hIAAAAAGGVsCuLEiROVmpqq9957T/PmzZMk9enTRwsWLNDixYt17bXXKjs7u9TL1wMAAABAZWcsgK1cuVIdO3ZUhw4dvPZdeOGFevPNN5WTk6Px48eb6hIAAAAAGGUsgB0+fFiNGjXy/B0cHKycnBzP35GRkerQoYOWLFliqksAAAAAYJSxABYVFVVk0Y3o6GgdPHiwSJlq1arp6NGjproEAAAAAEYZC2D16tXTgQMHPH83btxYq1ev1smTJyVJbrdbK1eu1IUXXmiqSwAAAABglLEA1r59e61Zs8ZzFax37946dOiQ7rjjDr3yyisaMGCAfvnlF910002mugQAAAAARhlbhr5v376Kjo7WsWPHdMEFF6hXr1764Ycf9NFHH+mnn36SJPXo0UN//etfTXUJAAAAAIyyWZZlVWQHjh49qpSUFMXGxqp27doV2ZUqIS8vX2lpWUbbjImJkCTj7cIsxjkwMM6BgXH2f4xxYKjIcY6JiVBISLDxdgOBsStgZ1KzZk3VrFmzorsBAAAAAOXO2D1gAAAAABDojF0BGzVqVLHK2Ww2vfTSS+XcGwAAAAAwz1gAmz179ln322w2WZZFAAMAAADgt4wFsCVLlvjcnp6erm3btmnSpElq2bKlHnvsMVNdAgAAAACjjAWw2NjYM+5r3Lixrr32Wt16661q3769br/9dlPdAgAAAABjKs0iHBdddJE6d+6sDz/8sKK7AgAAAADlotIEMEmqVauW9uzZU9HdAAAAAIByUWkCWH5+vtasWaNq1apVdFcAAAAAoFwYuwds3bp1Pre7XC4dOHBAs2bNUnJyMvd/AQAAAPBbxgLYoEGDZLPZzrjfsixdffXV+sc//mGqSwAAAABglLEANnToUJ8BzGazqXr16mrevLmaN29uqjsAAAAAYJyxAPbwww+bagoAAAAAKqVKswgHAAAAAPg7AhgAAAAAGGJsCmKXLl1KVc9ms2nx4sVl3BsAAAAAMM9YALMsS3l5eTp8+HBBw3a7YmJilJaWJpfLJUmqU6eOQkJCvOoBAAAAgD8wFsDmzZune+65R7GxsRo+fLhat26toKAgud1urVu3Tq+//rrcbrf+/e9/KyoqylS3AAAAAMAYY/eAjRs3Tunp6frwww/Vpk0bBQUVNB0UFKS2bdvqww8/1PHjx/XGG2+Y6hIAAAAAGGXsCtiiRYvUo0cPhYaG+tzvcDjUpUsXzZ8/X0899VSp2xk7dqy2b9+u3bt369ixYwoLC1O9evWUkJCgu+66SzVq1PCUHTlypGbPnn3W47Vr105JSUnnbHf37t1auHChVq5cqT179ujIkSOKjo5WixYtNHjwYLVr167U5wQAAADAPxgLYKfe63UmeXl5SktLO692kpKS1LRpU3Xo0EG1atXSyZMntXnzZo0fP17Tp0/XjBkzdNFFF0mSEhISFBsb6/M4c+fOVUpKijp16lSsdt988019+eWXatSoka677jpVr15dv/32m5YuXaqlS5fqySef1N13331e5wYAAACgarNZhla56Nmzp06cOKH58+erWrVqXvuPHz+unj17Kjo6WvPnzy91Ozk5OXI4HF7bx40bp8mTJ2vAgAF67rnnznqMEydOqGPHjsrPz9fy5ctVs2bNc7Y7a9YsNW7cWE2bNi2yfe3atfq///s/SdLSpUt1wQUXFP9kfMjLy1daWtZ5HaOkYmIiJMl4uzCLcQ4MjHNgYJz9H2McGCpynGNiIhQSEmy83UBg7B6wO+64Q4cOHVLfvn01Z84c7du3T9nZ2dq3b59mz56tfv36KTU1VXfeeed5teMrfEnSTTfdJEnas2fPOY8xd+5cZWdnq1u3bsUKX5LUp08fr/AlSW3atFGbNm2Ul5enTZs2FetYAAAAAPyTsSmIAwcO1O7du/XRRx9p1KhRXvsty9LAgQN11113lUv7S5culSTFx8efs+yMGTMkSf369SuTtu32goc5OJhvEQAAAIBAZiyASdJTTz2lHj16aObMmfrxxx+VkZGhqKgoNWvWTImJiWrVqlWZtfX+++8rKytL6enp2r59uzZs2KD4+Hjdf//9Z623adMm/fzzz4qLiyuThTP279+v77//XuHh4br66qvP+3gAAAAAqi6jAUySWrZsqZYtW5Z7O1OnTlVqaqrn744dO2rMmDHnnFJYlle/cnNz9fe//125ubl6/PHHVb169fM+pt0e5JkPbIrdXjBT1XS7MItxDgyMc2BgnP0fYxwYKnKcC9tG2TO2CEdFSU1N1aZNm/Tqq68qMzNTU6ZMUbNmzXyWTU9PV8eOHeVyuYq9+MaZ5Ofna/jw4VqwYIFuvvlmvf7667LZbKU+XiHLsuRyuc/7OCVR+AI03S7MYpwDA+McGBhn/8cYB4aKHGe7PahMPrvCm/ErYKbVrl1bXbt2VdOmTdW9e3eNGDFCX3zxhc+y8+bN08mTJ9WjR4/zDl+PP/64FixYoJtuukljx44tsyewy+VmFUSUC8Y5MDDOgYFx9n+McWBgFUT/FDDXFmNjY9WoUSPt3LlTR48e9VmmcPph//79S92Oy+XS8OHDNX/+fPXs2VOvvfaaZxEOAAAAAIEtYAKYJB06dEiS79UIt2zZoh07diguLk5t27Yt1fFzc3M1bNgwLViwQL1799bYsWNZ+RAAAACAh18FsF27dunw4cNe291ut8aNG6cjR46oZcuWPhfDmD59uqRzX/1KT0/Xrl27PGGuUG5urh566CEtWbJEffv21csvv6ygIL96eAEAAACcJ7+aG7dixQqNHTtWrVu31iWXXKKYmBilpqZq3bp1SklJUZ06dfTiiy961cvIyNBXX32lkJAQ9e7d+6xtLFq0SKNGjVJiYqLGjBnj2f7ss8/q22+/VY0aNVS3bl1NnDjRq26bNm1KfXUNAAAAQNXnVwGsQ4cO6tevnzZu3KgdO3YoPT1d4eHhiouLU69evTRo0CDFxMR41Zs3b56ysrLOa/GNffv2SZKOHTvmM3xJ0kMPPUQAAwAAAAKY3y9D72/y8vJZBRHlgnEODIxzYGCc/R9jHBhYBdE/cZMSAAAAABhCAAMAAAAAQwhgAAAAAGAIAQwAAAAADCGAAQAAAIAhBDAAAAAAMIQABgAAAACGEMAAAAAAwBACGAAAAAAYYq/oDgAAgLLhcNgVFhYiu73g+9VataLkcuUrOztPOTmuCu4dAEAigAEAUOU5HHZFRYUpKMhWZLvNJoWG2hUaapfbbSkjI5sgBgAVjCmIAABUYRERoYqODvcKX6cLCrIpOjpcERGhhnoGAPCFAAYAQBXlcNgVGekoUZ3ISIccDibAAEBFIYABAFBFRUWFGa0HADh/fAUGAEAV5HDYfU47XJJ8UBOX7dLWfWlqXj9GQzs3VJcmdYuUCQqyyeGwcz8YAFQAroABAFAFhYWFeG1bknxQQ5LWa+PeY3K5LW3ce0xDktZrSfLBYtUHAJQ/AhgAAFWQ3R7stW3isl0+y076xnu7r/oAgPJHAAMAoAqy+Vj0cOu+NJ9lfW33VR8AUP4IYAAAVEGW5b2tef0Yn2V9bfdVHwBQ/ghgAABUQS5Xvte2oZ0b+iw7tHOjYtUHAJQ/AhgAAFVQdnae17YuTerq/cGtdVWDGgoJtumqBjU09Z6rdUPjC4pVHwBQ/liGHgCAKignxyW32/Jair5Lk7pey86fzu22WIIeACoIV8AAAKiiMjKyjdYDAJw/AhgAAFVUTo5LmZk5JaqTmZnD1S8AqEBMQQQAoArLyspVfr5bUVFhXtMRT+V2W8rIyCZ8AUAFI4ABAFDF5eS4lJOTIYfDrrCwEIWEFPzIsmUVrHaYnZ1H8AKASoIABgCAnygIYi7FxERIktLSsiq4RwCA03EPGAAAAAAYQgADAAAAAEMIYAAAAABgCAEMAAAAAAwhgAEAAACAIQQwAAAAADCEAAYAAAAAhhDAAAAAAMAQAhgAAAAAGEIAAwAAAABDCGAAAAAAYAgBDAAAAAAMIYABAAAAgCEEMAAAAAAwhAAGAAAAAIYQwAAAAADAEAIYAAAAABhCAAMAAAAAQwhgAAAAAGAIAQwAAAAADCGAAQAAAIAhBDAAAAAAMIQABgAAAACGEMAAAAAAwBACGAAAAAAYQgADAAAAAEMIYAAAAABgCAEMAAAAAAwhgAEAAACAIQQwAAAAADCEAAYAAAAAhhDAAAAAAMAQAhgAAAAAGEIAAwAAAABDCGAAAAAAYAgBDAAAAAAMIYABAAAAgCEEMAAAAAAwhAAGAAAAAIYQwAAAAADAEHtFd6CsjR07Vtu3b9fu3bt17NgxhYWFqV69ekpISNBdd92lGjVqeMqOHDlSs2fPPuvx2rVrp6SkpGK3v3HjRr399tvasmWLcnJydMkll+i2227ToEGDFBwcXOrzAgAAAFD1+V0AS0pKUtOmTdWhQwfVqlVLJ0+e1ObNmzV+/HhNnz5dM2bM0EUXXSRJSkhIUGxsrM/jzJ07VykpKerUqVOx2168eLGGDRsmh8Ohm266SdWrV9eyZcv08ssva+PGjXrrrbfK5BwBAAAAVE02y7Ksiu5EWcrJyZHD4fDaPm7cOE2ePFkDBgzQc889d9ZjnDhxQh07dlR+fr6WL1+umjVrnrPdjIwMde3aVenp6fr44491xRVXePozePBgbdq0Sa+//rp69OhRqvMqlJeXr7S0rPM6RknFxERIkvF2YRbjHBgY58DAOPs/xjgwVOQ4x8REKCSE2Vvlwe/uAfMVviTppptukiTt2bPnnMeYO3eusrOz1a1bt2KFL0lasGCBjh49qh49enjCV2F/HnnkEUnSxx9/XKxjAQAAAPBPfhfAzmTp0qWSpPj4+HOWnTFjhiSpX79+xT7+6tWrJUkdO3b02nf11VcrPDxcmzZtUm5ubrGPCQAAAMC/+N09YIXef/99ZWVlKT09Xdu3b9eGDRsUHx+v+++//6z1Nm3apJ9//llxcXFq165dsdv77bffJElxcXFe++x2u+rXr6+dO3cqJSVFDRs2LNG5FD1WkOdytCl2e0FON90uzGKcAwPjHBgYZ//HGAeGihznwrZR9vw2gE2dOlWpqamevzt27KgxY8acc0phaa5+SQX3gElStWrVfO6PioqSVHB/GQAAAIDA5LcBbNWqVZKk1NRUbdq0Sa+++qp69+6tKVOmqFmzZj7rpKen66uvvlJISIgSExPLpV82m+286rtcbhbhQLlgnAMD4xwYGGf/xxgHBhbh8E9+f22xdu3a6tq1q6ZOnaq0tDSNGDHijGXnzZunkydPlmjxjUKFV7jS09N97j/XFTIAAAAA/s/vA1ih2NhYNWrUSDt37tTRo0d9limcfti/f/8SH//SSy+VJO3evdtrn8vl0r59+2S323XxxReX+NgAAAAA/EPABDBJOnTokCQpONj7cuqWLVu0Y8cOxcXFqW3btiU+duGCHStWrPDat27dOp08eVItW7ZUaGhoiY8NAAAAwD/4VQDbtWuXDh8+7LXd7XZr3LhxOnLkiFq2bKnq1at7lZk+fbqkc1/9Sk9P165duzxhrtCNN96oGjVqaP78+dq2bZtne05Ojt58801J0oABA0p8TgAAAAD8h18twrFixQqNHTtWrVu31iWXXKKYmBilpqZq3bp1SklJUZ06dfTiiy961cvIyPAsvtG7d++ztrFo0SKNGjVKiYmJGjNmjGd7VFSUXnzxRQ0bNkx33323br75ZlWvXl1Lly7Vb7/9pu7du+vmm28u61MGAAAAUIX4VQDr0KGD+vXrp40bN2rHjh1KT09XeHi44uLi1KtXLw0aNEgxMTFe9ebNm6esrCz16NGjxItvnCohIUHTpk3T5MmTtXDhQuXk5KhBgwYaNWqUBg0adN4rIAIAAACo2myWZVkV3QkUX15ePsvQo1wwzoGBcQ4MjLP/Y4wDA8vQ+ye/ugcMAAAAACozAhgAAAAAGEIAAwAAAABDCGAAAAAAYAgBDAAAAAAMIYABAAAAgCEEMAAAAAAwhAAGAAAAAIYQwAAAAADAEAIYAAAAABhCAAMAAAAAQwhgAAAAAGAIAQwAAAAADCGAAQAAAIAhBDAAAAAAMIQABgAAAACGEMAAAAAAwBACGAAAAAAYQgADAAAAAEMIYAAAAABgCAEMAAAAAAwhgAEAAACAIQQwAAAAADCEAAYAAAAAhhDAAAAAAMAQAhgAAAAAGEIAAwAAAABDCGAAAAAAYAgBDAAAAAAMIYABAAAAgCEEMAAAAAAwhAAGAAAAAIYQwAAAAADAEAIYAAAAABhCAAMAAAAAQwhgAAAAAGAIAQwAAAAADCGAAQAAAIAhBDAAAAAAMIQABgAAAACGEMAAAAAAwBACGAAAAAAYQgADAAAAAEMIYAAAAABgCAEMAAAAAAyxV3QHAFQsh8OusLAQ2e0F38fUqhUllytf2dl5yslxVXDvAAAA/AsBDAhQDoddUVFhCgqyFdlus0mhoXaFhtrldlvKyMgmiAEAAJQRpiACASgiIlTR0eFe4et0QUE2RUeHKyIi1FDPAAAA/BsBDAgwDoddkZGOEtWJjHTI4eCCOQAAwPkigAEBJioqzGg9AAAA/A9faQMBxOGw+5x2uCT5oCYu26Wt+9LUvH6MhnZuqC5N6hYpExRkk8Nh534wAACA88AVMCCAhIWFeG1bknxQQ5LWa+PeY3K5LW3ce0xDktZrSfLBYtUHAABA8RHAgABitwd7bZu4bJfPspO+8d7uqz4AAACKjwAGBBCbj0UPt+5L81nW13Zf9QEAAFB8BDAggFiW97bm9WN8lvW13Vd9AAAAFB8BDAggLle+17ahnRv6LDu0c6Ni1QcAAEDxEcCAAJKdnee1rUuTunp/cGtd1aCGQoJtuqpBDU2952rd0PiCYtUHAABA8bEMPRBAcnJccrstr6XouzSp67Xs/Oncbosl6AEAAM4TV8CAAJORkW20HgAAAP6HAAYEmJwclzIzc0pUJzMzh6tfAAAAZYApiEAAysrKVX6+W1FRYV7TEU/ldlvKyMgmfAEAAJQRAhgQoHJyXMrJyZDDYVdYWIhCQgp+ZNmyClY7zM7OI3gBAACUMQIYEOAKgphLMTERkqS0tKwK7hEAAID/4h4wAAAAADCEAAYAAAAAhhDAAAAAAMAQAhgAAAAAGEIAAwAAAABDCGAAAAAAYAgBDAAAAAAMIYABAAAAgCEEMAAAAAAwxGZZllXRnUDxWZYll8tttE27vSCnm24XZjHOgYFxDgyMs/9jjANDRY6z3R4km81mvN1AQAADAAAAAEOYgggAAAAAhhDAAAAAAMAQAhgAAAAAGEIAAwAAAABDCGAAAAAAYAgBDAAAAAAMIYABAAAAgCEEMAAAAAAwhAAGAAAAAIYQwAAAAADAEAIYAAAAABhCAAMAAAAAQwhgAAAAAGCIvaI7gPLx9ttv64033pAkffXVV7rsssvOWWfevHl6/PHHJUnvv/++rr322vPux6effqpt27YpOTlZP//8s7Kzs/WXv/xFf/vb38772Kgc43zw4EEtXLhQ3377rX799VcdOnRIkZGRatq0qQYMGKBu3bqd1/FRvHGeNWuWRo0a5bU9IiJCcXFx6t69uwYPHqzw8PBS9eHAgQOaPXu2kpOTlZycrJSUFFmWpYULF6pBgwalOiaKqgzjvGHDBi1ZskRr1qzR/v37lZGRoQsuuEDt27fX/fffz1iXQnx8fJG/Q0JCFBUVpYsuukhNmzZVt27ddO211yo4ONhTZuTIkZo9e3ax22jTpo2mTZtWon7x/ly2KuM48/5ceRHA/JBlWfrss89ks9lkWZY+/fRTjRgx4pz1ZsyY4akzY8aMMglgr7zyitLT01W9enVdcMEF2rt373kfEwUqyzhPmzZN7777rurXr6+2bduqdu3a+v3337Vw4UJ99913uueee3x+YETxlHScGzdurISEBEmS2+1Wamqqli1bpnHjxmnFihX68MMPi3wAKK7t27frjTfekM1mU/369VWtWjWdOHGi1OeFoirLOA8bNkxHjx5Vy5Ytdcstt8hut2vTpk367LPP9OWXX2rq1Klq2bJlqc8zkD300EOSpPz8fKWnp2vnzp2aO3euPvvsM11++eV69dVXdemll0qSEhISFBsbW6T+2rVrtXbtWrVp00Zt2rQpsu/0ssXB+3P5qEzjzPtzJWbB7yxfvtxyOp3WyJEjrQ4dOlht27a1cnJyzlpn165dltPptO655x4rMTHRatasmXX48OHz7su3335r7du3z7Isy5o5c6bldDqt119//byPi8ozzl9//bW1Zs0ar+2//PKL1apVK8vpdFrbtm07rzYCWXHHufD1NWLECK99x48ft6677jrL6XRaq1evLlU//vjjD2vdunVWenq6ZVmWNXDgQMvpdFq7d+8u1fFQVGUZ5ylTplgHDhzw2v72229bTqfT6tmzZ6mOG8icTqfldDp97jt8+LA1bNgwy+l0Wtddd52Vmpp6xuO89dZbltPptN56660y6Rfvz2WrMo4z78+VF/eA+aFPP/1UknT77bfrlltu0bFjx7R48eJi1enTp48SExOVl5enWbNmnXdfOnXqVKpv5nBulWWcu3Xr5vUtnSQ1bNhQN998s6SCb/RQOqUZ59NFR0friiuukCQdPXq0VP248MIL1bp1a0VFRZWqPs6usozz/fffr7p163ptv++++xQWFqaff/5Zx44dK9Wx4a127doaN26c2rRpoz/++EOTJ0821jbvz+ZU1Djz/lx5EcD8TGpqqpYuXaq4uDi1atVKffr0kSRNnz79jHVyc3M1e/ZsRUVFqWvXrurZs6dCQkL02WefybIsU11HCVSVcbbbC2Y5l2YqFEo3zr6kp6dr27ZtCgoKUtOmTcujqzgPVWGcbTab53XM67lsBQUF6cEHH5QkzZ8/n/ddP1XZxpn354rFPWB+ZtasWcrLy/O8gTudTjVr1kxr1qzRnj17fN5AvWjRIh07dkz9+/dXWFiYwsLC1LlzZy1cuFCrV69W+/btTZ8GzqEqjHNGRoYWLlwom81WJvcTBqLSjHNycrLGjx8vqeDeoCNHjmjZsmXKyMjQU089xSIKlVBVGOcFCxYoMzNTV155paKjo8v02JCuuuoq2e12HTlyRPv27dPFF19c0V1COags48z7c8XjCpgfsf7/jdtBQUHq3bu3Z3tiYqJnny+F37ImJiYWqSMVLNiAyqUqjLNlWXryySeVmpqqAQMGqGHDhmV6/EBQ2nHesWOHJkyYoAkTJmjSpEmaPn26Dh06pBtuuEHt2rUz1HsUV1UY55SUFL3wwguy2+3FWugHJRcaGqqYmBhJYoqnH6sM48z7c+VAAPMjq1ev1t69e9WhQ4cic/gLp5rNnj1beXl5Rers2bNHa9eu1aWXXlpkZatOnTqpdu3aWrRoUanvJUD5qArjPGbMGC1YsECtW7dmhaVSKs04SwUf3H/66SfPf6tWrdLYsWO1cuVK3X777frhhx9MngbOobKP85EjR3Tffffp6NGjeuKJJ9SqVasyOS68VfSUNJhR0ePM+3PlQADzI4VXOAqnsRSqUaOGbrjhBqWmpmrJkiVF9s2YMUOWZXnVsdvtuvXWW5WXl1ei36hA+avs4/zKK6/ogw8+0NVXX6133nlHoaGhZXLcQFOacfaldu3auvXWW/X3v/9dmZmZev3118ulvyidyjzOR44c0eDBg/Xbb7/pySef1F133XXex4RvOTk5On78uCSpZs2aFdwblJeKHmfenysP7gHzE0ePHvWsmDV8+HANHz7cZ7kZM2boxhtvlKQiH7pfe+01vfbaa2esM2TIkHLoNUqqso/zSy+9pKSkJLVt21ZTpkwp9Y/BBrrSjPO5NG/eXJK0devWsukkzltlHudDhw7pnnvu0a+//qpnnnmG8FXONmzYIJfLpdq1a6t+/foV3R2Uk4ocZ96fKxcCmJ8onKbSrFkzNWnSxGeZpUuX6rvvvlNKSoouvvhiLVmyREeOHNGll16qq666ymedNWvWaPfu3Z4fBUTFqqzjbFmWnn/+ef33v//VNddco0mTJiksLKzEx0GB0ozzuRT+aLLb7S7TvqL0Kus4HzhwQIMHD9aePXv0z3/+U/379y/1sXBubrdbb7/9tqSCqafwTxU1zrw/V04EMD9ReKP2c8895/kG9HRvvPGG3n77bX322Wf629/+5ll4YdiwYZ7fg/B13KeeekrTp08ngFUClXGcLcvS008/rU8//VSdOnXShAkT5HA4SnQMFFWacT6b/Px8ffjhh5LE67gSqYzj/Pvvv+vuu+/W/v37NXr0aN12222lOg6K58iRI3r++ee1du1a1atXTw888EBFdwnloKLGmffnyosA5gfWrFmj3377TU6n84xv4pLUt29fTZ48WTNnzlRiYqK+++471ahRQwkJCWes06NHD7388stauHCh0tLSPKv3FNenn36qDRs2SCpYCEKSli1bpoMHD0qSLrvsMt1///0lOmagqqzjPHHiRH366acKCwtTkyZN9M4773iVadKkyVnbx/+UZpwffvhhz/ZTlyeXCt74V69erd9++001atTQ448/Xuq+jRw50vP/v/76qyTp1VdfVWRkpKdPrVu3LvXxA0llHeeBAwdq//79atasmX7//fcibRRKTExkmlwpnPqzAenp6dq5c6c2bNigvLw8NW/eXK+++qrR+4J4fy4flWmceX+uvAhgfqDwCsftt99+1nL169dXhw4dtGrVKg0dOlSWZalXr15nvQkzIiJCPXr00IwZMzRnzhzdc889Jerbhg0bvBZ3KFy1Syr4lpZ/4Iunso7zvn37JEnZ2dmaMmWKzzKJiYn8A19MpRnnZcuWebbv2LFDO3bs8PztcDgUGxuru+++W/fee2+RlfZKytdCLQsXLvT8f5s2bQhgxVRZx3n//v2SpB9++OGMKym2adOGAFYKEyZMkCSFhIQoMjJSsbGx6t27t7p166Zrr71WQUFm10Xj/bl8VKZx5v258rJZFb0eJgAAAAAECJahBwAAAABDCGAAAAAAYAj3gKHYkpOTPb9Zcy6n3iyOqoVxDgyzZs3y3O9zNtygXbUxzoGBf7cDA+PsPwhgKLbk5GTPzaXnwgu/6mKcA8Ps2bO1du3ac5bjBu2qjXEODPy7HRgYZ//BIhwAAAAAYAj3gAEAAACAIQQwAAAAADCEAAYAAAAAhhDAAAAAAMAQAhgAAAAAGEIAAwAAAABDCGAAAAAAYAgBDABQ5Xz44Ye6+eab1bx5c8XHx+uDDz5QfHy8Bg0aVKTc+PHjFR8frzVr1lRQTwEAKMpe0R0AAKAk5s+fr9GjR6tp06YaPHiwQkNDdeWVV1Z0twAAKBYCGACgSlm2bJkkafLkyapbt65n+5dffqnw8PCK6hYAAMVCAAMAVCmHDh2SpCLhS5IaNmxYEd0BAKBECGAAgCph/PjxmjBhgufv+Ph4z///9NNPio+PV5s2bTRt2rRiHW/Xrl1699139f333+vIkSOKjo5W+/btNXToUF122WVl3n8AACQCGACgimjTpo0eeughzZ49W/v379dDDz1U6mMtX75cDz/8sFwulzp37qxLLrlEBw8e1MKFC/XNN9/oww8/VLNmzcqw9wAAFCCAAQCqhLZt26pt27Zau3at9u/fr4cffrhUxzl+/Lgee+wxhYWF6T//+Y8aNWrk2bdz507169dPTz31lGbPnl1WXQcAwINl6AEAAWXOnDk6ceKEhg0bViR8SdKf/vQn3X777frxxx/1yy+/VFAPAQD+jCtgAICAsnnzZknSjh07NH78eK/9u3fvllRwj9jpAQ0AgPNFAAMABJS0tDRJ0owZM85aLisry0BvAACBhgAGAAgo1apVkyTNnTtXjRs3ruDeAAACDfeAAQACSosWLSRJGzZsqOCeAAACEQEMABBQ+vTpo+joaE2YMEFbt2712u92u7VmzZoK6BkAIBAwBREAEFBq1Kiht956S0OHDlW/fv3Uvn17NWrUSEFBQfrjjz+0adMmpaWladu2bRXdVQCAHyKAAQACTvv27TVv3jxNnTpVK1eu1Pr16xUSEqILLrhA7dq1U/fu3Su6iwAAP2WzLMuq6E4AAAAAQCDgHjAAAAAAMIQABgAAAACGEMAAAAAAwBACGAAAAAAYQgADAAAAAEMIYAAAAABgCAEMAAAAAAwhgAEAAACAIQQwAAAAADCEAAYAAAAAhhDAAAAAAMAQAhgAAAAAGEIAAwAAAABDCGAAAAAAYAgBDAAAAAAM+X+ZN8AU/NfrXwAAAABJRU5ErkJggg==&quot; width=&quot;432px&quot; height=&quot;288px&quot; alt=&quot;&quot;&gt;&lt;/img&gt;\",\"width\":432},\"id\":\"1130\",\"type\":\"panel.models.markup.HTML\"},{\"attributes\":{\"margin\":[5,5,5,5],\"name\":\"Spacer00282\",\"sizing_mode\":\"stretch_both\",\"width\":100},\"id\":\"1113\",\"type\":\"Spacer\"},{\"attributes\":{\"css_classes\":[\"markdown\"],\"margin\":[5,5,5,5],\"name\":\"Markdown00285\",\"text\":\"&lt;h3&gt;About population&lt;/h3&gt;\\n&lt;ul&gt;\\n&lt;li&gt;3 samples&lt;/li&gt;\\n&lt;li&gt;Total base sequenced : 1598 Mb&lt;/li&gt;\\n&lt;/ul&gt;\"},\"id\":\"1112\",\"type\":\"panel.models.markup.HTML\"},{\"attributes\":{\"css_classes\":[\"markdown\"],\"margin\":[5,5,5,5],\"name\":\"Markdown00283\",\"text\":\"&lt;table&gt;\\n&lt;thead&gt;\\n&lt;tr&gt;\\n&lt;th align=&quot;left&quot;&gt;Samples by group&lt;/th&gt;\\n&lt;th align=&quot;center&quot;&gt;&lt;/th&gt;\\n&lt;/tr&gt;\\n&lt;/thead&gt;\\n&lt;tbody&gt;\\n&lt;tr&gt;\\n&lt;td align=&quot;left&quot;&gt;O. barthii :&lt;/td&gt;\\n&lt;td align=&quot;center&quot;&gt;2 samples&lt;/td&gt;\\n&lt;/tr&gt;\\n&lt;tr&gt;\\n&lt;td align=&quot;left&quot;&gt;O. glaberrima :&lt;/td&gt;\\n&lt;td align=&quot;center&quot;&gt;1 samples&lt;/td&gt;\\n&lt;/tr&gt;\\n&lt;/tbody&gt;\\n&lt;/table&gt;\"},\"id\":\"1114\",\"type\":\"panel.models.markup.HTML\"},{\"attributes\":{\"background\":\"WhiteSmoke\",\"children\":[{\"id\":\"1110\"},{\"id\":\"1111\"},{\"id\":\"1115\"},{\"id\":\"1119\"},{\"id\":\"1123\"},{\"id\":\"1127\"},{\"id\":\"1131\"},{\"id\":\"1135\"}],\"margin\":[0,0,0,0],\"name\":\"Column00322\",\"sizing_mode\":\"stretch_both\",\"width\":800},\"id\":\"1109\",\"type\":\"Column\"},{\"attributes\":{\"margin\":[5,5,5,5],\"name\":\"DataFrame00318\",\"text\":\"&lt;table border=&quot;0&quot; class=&quot;dataframe panel-df&quot;&gt;\\n  &lt;thead&gt;\\n    &lt;tr style=&quot;text-align: right;&quot;&gt;\\n      &lt;th&gt;&lt;/th&gt;\\n      &lt;th&gt;sample&lt;/th&gt;\\n      &lt;th&gt;file&lt;/th&gt;\\n      &lt;th&gt;reads&lt;/th&gt;\\n      &lt;th&gt;len_mean&lt;/th&gt;\\n      &lt;th&gt;qual_mean&lt;/th&gt;\\n      &lt;th&gt;%A&lt;/th&gt;\\n      &lt;th&gt;%C&lt;/th&gt;\\n      &lt;th&gt;%G&lt;/th&gt;\\n      &lt;th&gt;%T&lt;/th&gt;\\n      &lt;th&gt;%N&lt;/th&gt;\\n      &lt;th&gt;total_bases&lt;/th&gt;\\n    &lt;/tr&gt;\\n  &lt;/thead&gt;\\n  &lt;tbody&gt;\\n    &lt;tr&gt;\\n      &lt;th&gt;0&lt;/th&gt;\\n      &lt;td&gt;AA&lt;/td&gt;\\n      &lt;td&gt;AA_1&lt;/td&gt;\\n      &lt;td&gt;3626555&lt;/td&gt;\\n      &lt;td&gt;99.2708&lt;/td&gt;\\n      &lt;td&gt;37.4818&lt;/td&gt;\\n      &lt;td&gt;29.8366&lt;/td&gt;\\n      &lt;td&gt;20.2502&lt;/td&gt;\\n      &lt;td&gt;20.2295&lt;/td&gt;\\n      &lt;td&gt;29.6835&lt;/td&gt;\\n      &lt;td&gt;0.0002&lt;/td&gt;\\n      &lt;td&gt;360011192&lt;/td&gt;\\n    &lt;/tr&gt;\\n    &lt;tr&gt;\\n      &lt;th&gt;1&lt;/th&gt;\\n      &lt;td&gt;AA&lt;/td&gt;\\n      &lt;td&gt;AA_2&lt;/td&gt;\\n      &lt;td&gt;3626555&lt;/td&gt;\\n      &lt;td&gt;97.5486&lt;/td&gt;\\n      &lt;td&gt;36.8486&lt;/td&gt;\\n      &lt;td&gt;29.8488&lt;/td&gt;\\n      &lt;td&gt;20.2938&lt;/td&gt;\\n      &lt;td&gt;20.1847&lt;/td&gt;\\n      &lt;td&gt;29.6715&lt;/td&gt;\\n      &lt;td&gt;0.0013&lt;/td&gt;\\n      &lt;td&gt;353765544&lt;/td&gt;\\n    &lt;/tr&gt;\\n    &lt;tr&gt;\\n      &lt;th&gt;2&lt;/th&gt;\\n      &lt;td&gt;AB&lt;/td&gt;\\n      &lt;td&gt;AB_1&lt;/td&gt;\\n      &lt;td&gt;4479259&lt;/td&gt;\\n      &lt;td&gt;99.6406&lt;/td&gt;\\n      &lt;td&gt;37.7900&lt;/td&gt;\\n      &lt;td&gt;29.9176&lt;/td&gt;\\n      &lt;td&gt;20.0866&lt;/td&gt;\\n      &lt;td&gt;20.1322&lt;/td&gt;\\n      &lt;td&gt;29.8592&lt;/td&gt;\\n      &lt;td&gt;0.0044&lt;/td&gt;\\n      &lt;td&gt;446315929&lt;/td&gt;\\n    &lt;/tr&gt;\\n    &lt;tr&gt;\\n      &lt;th&gt;3&lt;/th&gt;\\n      &lt;td&gt;AB&lt;/td&gt;\\n      &lt;td&gt;AB_2&lt;/td&gt;\\n      &lt;td&gt;4479259&lt;/td&gt;\\n      &lt;td&gt;97.7883&lt;/td&gt;\\n      &lt;td&gt;37.1370&lt;/td&gt;\\n      &lt;td&gt;29.9797&lt;/td&gt;\\n      &lt;td&gt;20.1346&lt;/td&gt;\\n      &lt;td&gt;20.0694&lt;/td&gt;\\n      &lt;td&gt;29.8157&lt;/td&gt;\\n      &lt;td&gt;0.0007&lt;/td&gt;\\n      &lt;td&gt;438019045&lt;/td&gt;\\n    &lt;/tr&gt;\\n    &lt;tr&gt;\\n      &lt;th&gt;4&lt;/th&gt;\\n      &lt;td&gt;DT&lt;/td&gt;\\n      &lt;td&gt;DT_1&lt;/td&gt;\\n      &lt;td&gt;999&lt;/td&gt;\\n      &lt;td&gt;99.4234&lt;/td&gt;\\n      &lt;td&gt;37.8170&lt;/td&gt;\\n      &lt;td&gt;30.3492&lt;/td&gt;\\n      &lt;td&gt;19.9668&lt;/td&gt;\\n      &lt;td&gt;20.0583&lt;/td&gt;\\n      &lt;td&gt;29.6227&lt;/td&gt;\\n      &lt;td&gt;0.0029&lt;/td&gt;\\n      &lt;td&gt;99324&lt;/td&gt;\\n    &lt;/tr&gt;\\n    &lt;tr&gt;\\n      &lt;th&gt;5&lt;/th&gt;\\n      &lt;td&gt;DT&lt;/td&gt;\\n      &lt;td&gt;DT_2&lt;/td&gt;\\n      &lt;td&gt;999&lt;/td&gt;\\n      &lt;td&gt;98.2603&lt;/td&gt;\\n      &lt;td&gt;37.3333&lt;/td&gt;\\n      &lt;td&gt;30.2014&lt;/td&gt;\\n      &lt;td&gt;19.9588&lt;/td&gt;\\n      &lt;td&gt;19.6899&lt;/td&gt;\\n      &lt;td&gt;30.1499&lt;/td&gt;\\n      &lt;td&gt;0.0000&lt;/td&gt;\\n      &lt;td&gt;98162&lt;/td&gt;\\n    &lt;/tr&gt;\\n  &lt;/tbody&gt;\\n&lt;/table&gt;\",\"width\":800},\"id\":\"1135\",\"type\":\"panel.models.markup.HTML\"},{\"attributes\":{\"margin\":[5,5,5,5],\"name\":\"Spacer00290\",\"sizing_mode\":\"stretch_both\",\"width\":100},\"id\":\"1117\",\"type\":\"Spacer\"},{\"attributes\":{\"css_classes\":[\"markdown\"],\"margin\":[5,5,5,5],\"name\":\"Markdown00313\",\"text\":\"&lt;h3&gt;About base ratio&lt;/h3&gt;\"},\"id\":\"1132\",\"type\":\"panel.models.markup.HTML\"},{\"attributes\":{\"height\":288,\"margin\":[5,5,5,5],\"name\":\"Matplotlib00303\",\"text\":\"&lt;img src=&quot;data:image/png;base64,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&quot; width=&quot;432px&quot; height=&quot;288px&quot; alt=&quot;&quot;&gt;&lt;/img&gt;\",\"width\":432},\"id\":\"1126\",\"type\":\"panel.models.markup.HTML\"},{\"attributes\":{\"height\":288,\"margin\":[5,5,5,5],\"name\":\"Matplotlib00297\",\"text\":\"&lt;img src=&quot;data:image/png;base64,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&quot; width=&quot;432px&quot; height=&quot;288px&quot; alt=&quot;&quot;&gt;&lt;/img&gt;\",\"width\":432},\"id\":\"1122\",\"type\":\"panel.models.markup.HTML\"},{\"attributes\":{\"margin\":[5,5,5,5],\"name\":\"Spacer00312\",\"sizing_mode\":\"stretch_both\",\"width\":100},\"id\":\"1133\",\"type\":\"Spacer\"},{\"attributes\":{\"height\":288,\"margin\":[5,5,5,5],\"name\":\"Matplotlib00315\",\"text\":\"&lt;img src=&quot;data:image/png;base64,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&quot; width=&quot;432px&quot; height=&quot;288px&quot; alt=&quot;&quot;&gt;&lt;/img&gt;\",\"width\":432},\"id\":\"1134\",\"type\":\"panel.models.markup.HTML\"},{\"attributes\":{\"margin\":[5,5,5,5],\"name\":\"Spacer00300\",\"sizing_mode\":\"stretch_both\",\"width\":100},\"id\":\"1125\",\"type\":\"Spacer\"},{\"attributes\":{\"children\":[{\"id\":\"1132\"},{\"id\":\"1133\"},{\"id\":\"1134\"}],\"margin\":[0,0,0,0],\"min_width\":800,\"name\":\"Row00317\",\"width\":800},\"id\":\"1131\",\"type\":\"Row\"},{\"attributes\":{\"children\":[{\"id\":\"1112\"},{\"id\":\"1113\"},{\"id\":\"1114\"}],\"margin\":[0,0,0,0],\"min_width\":800,\"name\":\"Row00287\",\"width\":800},\"id\":\"1111\",\"type\":\"Row\"},{\"attributes\":{\"margin\":[5,5,5,5],\"name\":\"Spacer00294\",\"sizing_mode\":\"stretch_both\",\"width\":100},\"id\":\"1121\",\"type\":\"Spacer\"},{\"attributes\":{\"css_classes\":[\"markdown\"],\"margin\":[5,5,5,5],\"name\":\"Markdown00288\",\"text\":\"&lt;table&gt;\\n&lt;thead&gt;\\n&lt;tr&gt;\\n&lt;th align=&quot;left&quot;&gt;Pb sequenced by groups&lt;/th&gt;\\n&lt;th align=&quot;center&quot;&gt;&lt;/th&gt;\\n&lt;/tr&gt;\\n&lt;/thead&gt;\\n&lt;tbody&gt;\\n&lt;tr&gt;\\n&lt;td align=&quot;left&quot;&gt;O. barthii :&lt;/td&gt;\\n&lt;td align=&quot;center&quot;&gt;1598 Mb&lt;/td&gt;\\n&lt;/tr&gt;\\n&lt;tr&gt;\\n&lt;td align=&quot;left&quot;&gt;O. glaberrima :&lt;/td&gt;\\n&lt;td align=&quot;center&quot;&gt;0 Mb&lt;/td&gt;\\n&lt;/tr&gt;\\n&lt;/tbody&gt;\\n&lt;/table&gt;\"},\"id\":\"1116\",\"type\":\"panel.models.markup.HTML\"},{\"attributes\":{\"css_classes\":[\"markdown\"],\"margin\":[5,5,5,5],\"name\":\"Markdown00307\",\"text\":\"&lt;h3&gt;About sequencing quality&lt;/h3&gt;\\n&lt;ul&gt;\\n&lt;li&gt;Quality: 2 - 41&lt;/li&gt;\\n&lt;li&gt;Mean quality : 37.4&lt;/li&gt;\\n&lt;/ul&gt;\"},\"id\":\"1128\",\"type\":\"panel.models.markup.HTML\"}],\"root_ids\":[\"1109\",\"1136\"]},\"title\":\"Bokeh Application\",\"version\":\"2.3.3\"}};\n",
       "    var render_items = [{\"docid\":\"cfabe78d-6969-4ecd-818a-7bd9cbcb443d\",\"root_ids\":[\"1109\"],\"roots\":{\"1109\":\"aefc50f2-78d2-4c88-852e-5e448df0949b\"}}];\n",
       "    root.Bokeh.embed.embed_items_notebook(docs_json, render_items);\n",
       "  }\n",
       "  if (root.Bokeh !== undefined && root.Bokeh.Panel !== undefined) {\n",
       "    embed_document(root);\n",
       "  } else {\n",
       "    var attempts = 0;\n",
       "    var timer = setInterval(function(root) {\n",
       "      if (root.Bokeh !== undefined && root.Bokeh.Panel !== undefined) {\n",
       "        clearInterval(timer);\n",
       "        embed_document(root);\n",
       "      } else if (document.readyState == \"complete\") {\n",
       "        attempts++;\n",
       "        if (attempts > 100) {\n",
       "          clearInterval(timer);\n",
       "          console.log(\"Bokeh: ERROR: Unable to run BokehJS code because BokehJS library is missing\");\n",
       "        }\n",
       "      }\n",
       "    }, 10, root)\n",
       "  }\n",
       "})(window);</script>"
      ],
      "text/plain": [
       "Column(background='WhiteSmoke', sizing_mode='stretch_both', width=800)\n",
       "    [0] Markdown(str)\n",
       "    [1] Row(width=800)\n",
       "        [0] Markdown(str)\n",
       "        [1] Spacer(sizing_mode='stretch_both', width=100)\n",
       "        [2] Markdown(str)\n",
       "    [2] Row(width=800)\n",
       "        [0] Markdown(str)\n",
       "        [1] Spacer(sizing_mode='stretch_both', width=100)\n",
       "        [2] Matplotlib(Figure)\n",
       "    [3] Row(width=800)\n",
       "        [0] Markdown(str)\n",
       "        [1] Spacer(sizing_mode='stretch_both', width=100)\n",
       "        [2] Matplotlib(Figure)\n",
       "    [4] Row(width=800)\n",
       "        [0] Markdown(str)\n",
       "        [1] Spacer(sizing_mode='stretch_both', width=100)\n",
       "        [2] Matplotlib(Figure)\n",
       "    [5] Row(width=800)\n",
       "        [0] Markdown(str)\n",
       "        [1] Spacer(sizing_mode='stretch_both', width=100)\n",
       "        [2] Matplotlib(Figure)\n",
       "    [6] Row(width=800)\n",
       "        [0] Markdown(str)\n",
       "        [1] Spacer(sizing_mode='stretch_both', width=100)\n",
       "        [2] Matplotlib(Figure)\n",
       "    [7] DataFrame(DataFrame, width=800)"
      ]
     },
     "metadata": {
      "application/vnd.holoviews_exec.v0+json": {
       "id": "1109"
      }
     },
     "output_type": "display_data"
    },
    {
     "data": {
      "text/html": [
       "<img src onerror=\"var cell = this.closest('.jp-CodeCell');var editor = cell.querySelector('.jp-Editor');editor.style.background='LightBlue';this.parentNode.removeChild(this)\">"
      ],
      "text/plain": [
       "<IPython.core.display.HTML object>"
      ]
     },
     "metadata": {},
     "output_type": "display_data"
    }
   ],
   "source": [
    "if df_group is None:\n",
    "    text = \"Analyzing Group File is required to continue !\"\n",
    "    display_alert(text,\"danger\")\n",
    "    \n",
    "elif not fastq_dir.value:\n",
    "    text = \"Fill the form with the fastq directory in the previous cell !\"\n",
    "    display_alert(text,\"danger\")\n",
    "\n",
    "elif not output_dir:\n",
    "    text = \"Creating frangiPANe output directory is required to continue !\"\n",
    "    display_alert(text,\"danger\")\n",
    "\n",
    "else:\n",
    "    # Creating directory\n",
    "    stat_dir = output_dir + \"/00-fastq_stats/\"\n",
    "    fastqstat_csv=stat_dir+\"all_fastq-stats.csv\"\n",
    "    \n",
    "    # run fastq_stats\n",
    "    fastq_stats_dir(fastq_dir.value, stat_dir, df_group, logger)\n",
    "\n",
    "    # merging all files generated by fastq_sample\n",
    "    merge_fastqstat(fastqstat_csv, stat_dir,logger)\n",
    "\n",
    "    #Raw data dashboard\n",
    "    dashboard_fastq(fastqstat_csv,total_genome_size,df_group)\n",
    "\n",
    "    bgc('LightBlue')"
   ]
  },
  {
   "cell_type": "markdown",
   "metadata": {
    "tags": []
   },
   "source": [
    "### <span style=\"color: #919395\">_2 - Mapping the individuals reads against the reference genome_  <a class=\"anchor\" id=\"mapping\"></a></span>\n"
   ]
  },
  {
   "cell_type": "markdown",
   "metadata": {},
   "source": [
    "#### __Mapping with `BWA mem` <a class=\"anchor\" id=\"mappingbwa\">__\n"
   ]
  },
  {
   "cell_type": "code",
   "execution_count": 21,
   "metadata": {
    "tags": []
   },
   "outputs": [
    {
     "data": {},
     "metadata": {},
     "output_type": "display_data"
    },
    {
     "data": {
      "application/vnd.holoviews_exec.v0+json": "",
      "text/html": [
       "<div id='1137'>\n",
       "\n",
       "\n",
       "\n",
       "\n",
       "\n",
       "  <div class=\"bk-root\" id=\"8eef3858-ff36-4361-b03e-aab6baea59b4\" data-root-id=\"1137\"></div>\n",
       "</div>\n",
       "<script type=\"application/javascript\">(function(root) {\n",
       "  function embed_document(root) {\n",
       "    var docs_json = {\"a8e862f5-9f86-42e6-bcac-cab5bee343b1\":{\"defs\":[],\"roots\":{\"references\":[{\"attributes\":{\"client_comm_id\":\"04e69092dc064202a86b2a24f4db1d6a\",\"comm_id\":\"489894aa61d54e2ab3ab97ccd7cca4ea\",\"plot_id\":\"1137\"},\"id\":\"1138\",\"type\":\"panel.models.comm_manager.CommManager\"},{\"attributes\":{\"css_classes\":[\"alert\",\"alert-warning\",\"markdown\"],\"margin\":[0,0,25,0],\"name\":\"Alert00325\",\"sizing_mode\":\"stretch_width\",\"text\":\"&lt;h3&gt;warning&lt;/h3&gt;\\n&lt;hr&gt;\\n&lt;p&gt;Directory /home/christine/Documents/These/frangiPANeGIT2/frangiPANe_PANRice/01-mapping_against_reference/ already existed&lt;/p&gt;\"},\"id\":\"1137\",\"type\":\"panel.models.markup.HTML\"}],\"root_ids\":[\"1137\",\"1138\"]},\"title\":\"Bokeh Application\",\"version\":\"2.3.3\"}};\n",
       "    var render_items = [{\"docid\":\"a8e862f5-9f86-42e6-bcac-cab5bee343b1\",\"root_ids\":[\"1137\"],\"roots\":{\"1137\":\"8eef3858-ff36-4361-b03e-aab6baea59b4\"}}];\n",
       "    root.Bokeh.embed.embed_items_notebook(docs_json, render_items);\n",
       "  }\n",
       "  if (root.Bokeh !== undefined && root.Bokeh.Panel !== undefined) {\n",
       "    embed_document(root);\n",
       "  } else {\n",
       "    var attempts = 0;\n",
       "    var timer = setInterval(function(root) {\n",
       "      if (root.Bokeh !== undefined && root.Bokeh.Panel !== undefined) {\n",
       "        clearInterval(timer);\n",
       "        embed_document(root);\n",
       "      } else if (document.readyState == \"complete\") {\n",
       "        attempts++;\n",
       "        if (attempts > 100) {\n",
       "          clearInterval(timer);\n",
       "          console.log(\"Bokeh: ERROR: Unable to run BokehJS code because BokehJS library is missing\");\n",
       "        }\n",
       "      }\n",
       "    }, 10, root)\n",
       "  }\n",
       "})(window);</script>"
      ],
      "text/plain": [
       "Alert(str, alert_type='warning', css_classes=['alert', 'alert-warning']...], margin=(0, 0, 25, 0), sizing_mode='stretch_width')"
      ]
     },
     "metadata": {
      "application/vnd.holoviews_exec.v0+json": {
       "id": "1137"
      }
     },
     "output_type": "display_data"
    },
    {
     "data": {},
     "metadata": {},
     "output_type": "display_data"
    },
    {
     "data": {
      "application/vnd.holoviews_exec.v0+json": "",
      "text/html": [
       "<div id='1139'>\n",
       "\n",
       "\n",
       "\n",
       "\n",
       "\n",
       "  <div class=\"bk-root\" id=\"ed23a35e-5ce5-4be4-9bd1-f27e396c1286\" data-root-id=\"1139\"></div>\n",
       "</div>\n",
       "<script type=\"application/javascript\">(function(root) {\n",
       "  function embed_document(root) {\n",
       "    var docs_json = {\"49fe3515-7dee-458d-b70c-02ca2548d45d\":{\"defs\":[],\"roots\":{\"references\":[{\"attributes\":{\"client_comm_id\":\"8ae89e85a60549d595632ca97bebc629\",\"comm_id\":\"8fa9297ae57d4cffa424739f64eaf348\",\"plot_id\":\"1139\"},\"id\":\"1140\",\"type\":\"panel.models.comm_manager.CommManager\"},{\"attributes\":{\"css_classes\":[\"alert\",\"alert-info\",\"markdown\"],\"margin\":[0,0,25,0],\"name\":\"Alert00329\",\"sizing_mode\":\"stretch_width\",\"text\":\"&lt;p&gt;Starting mapping with bwa mem in /home/christine/Documents/These/frangiPANeGIT2/frangiPANe_PANRice/01-mapping_against_reference/&amp;hellip;&lt;/p&gt;\"},\"id\":\"1139\",\"type\":\"panel.models.markup.HTML\"}],\"root_ids\":[\"1139\",\"1140\"]},\"title\":\"Bokeh Application\",\"version\":\"2.3.3\"}};\n",
       "    var render_items = [{\"docid\":\"49fe3515-7dee-458d-b70c-02ca2548d45d\",\"root_ids\":[\"1139\"],\"roots\":{\"1139\":\"ed23a35e-5ce5-4be4-9bd1-f27e396c1286\"}}];\n",
       "    root.Bokeh.embed.embed_items_notebook(docs_json, render_items);\n",
       "  }\n",
       "  if (root.Bokeh !== undefined && root.Bokeh.Panel !== undefined) {\n",
       "    embed_document(root);\n",
       "  } else {\n",
       "    var attempts = 0;\n",
       "    var timer = setInterval(function(root) {\n",
       "      if (root.Bokeh !== undefined && root.Bokeh.Panel !== undefined) {\n",
       "        clearInterval(timer);\n",
       "        embed_document(root);\n",
       "      } else if (document.readyState == \"complete\") {\n",
       "        attempts++;\n",
       "        if (attempts > 100) {\n",
       "          clearInterval(timer);\n",
       "          console.log(\"Bokeh: ERROR: Unable to run BokehJS code because BokehJS library is missing\");\n",
       "        }\n",
       "      }\n",
       "    }, 10, root)\n",
       "  }\n",
       "})(window);</script>"
      ],
      "text/plain": [
       "Alert(str, alert_type='info', css_classes=['alert', 'alert-info'], margin=(0, 0, 25, 0), sizing_mode='stretch_width')"
      ]
     },
     "metadata": {
      "application/vnd.holoviews_exec.v0+json": {
       "id": "1139"
      }
     },
     "output_type": "display_data"
    },
    {
     "data": {},
     "metadata": {},
     "output_type": "display_data"
    },
    {
     "data": {
      "application/vnd.holoviews_exec.v0+json": "",
      "text/html": [
       "<div id='1141'>\n",
       "\n",
       "\n",
       "\n",
       "\n",
       "\n",
       "  <div class=\"bk-root\" id=\"2461d78a-054d-4bba-a609-db7c66272f7a\" data-root-id=\"1141\"></div>\n",
       "</div>\n",
       "<script type=\"application/javascript\">(function(root) {\n",
       "  function embed_document(root) {\n",
       "    var docs_json = {\"b971acaf-866a-4d16-8a7e-67b52e691b70\":{\"defs\":[],\"roots\":{\"references\":[{\"attributes\":{\"css_classes\":[\"alert\",\"alert-secondary\",\"markdown\"],\"margin\":[0,0,25,0],\"name\":\"Alert00333\",\"sizing_mode\":\"stretch_width\",\"text\":\"&lt;p&gt;Mapping in progress for AA&amp;hellip;&lt;/p&gt;\"},\"id\":\"1141\",\"type\":\"panel.models.markup.HTML\"},{\"attributes\":{\"client_comm_id\":\"3bd2b610415b4f318909d32110151665\",\"comm_id\":\"e451dcca70b8499080eb3353998bfc9a\",\"plot_id\":\"1141\"},\"id\":\"1142\",\"type\":\"panel.models.comm_manager.CommManager\"}],\"root_ids\":[\"1141\",\"1142\"]},\"title\":\"Bokeh Application\",\"version\":\"2.3.3\"}};\n",
       "    var render_items = [{\"docid\":\"b971acaf-866a-4d16-8a7e-67b52e691b70\",\"root_ids\":[\"1141\"],\"roots\":{\"1141\":\"2461d78a-054d-4bba-a609-db7c66272f7a\"}}];\n",
       "    root.Bokeh.embed.embed_items_notebook(docs_json, render_items);\n",
       "  }\n",
       "  if (root.Bokeh !== undefined && root.Bokeh.Panel !== undefined) {\n",
       "    embed_document(root);\n",
       "  } else {\n",
       "    var attempts = 0;\n",
       "    var timer = setInterval(function(root) {\n",
       "      if (root.Bokeh !== undefined && root.Bokeh.Panel !== undefined) {\n",
       "        clearInterval(timer);\n",
       "        embed_document(root);\n",
       "      } else if (document.readyState == \"complete\") {\n",
       "        attempts++;\n",
       "        if (attempts > 100) {\n",
       "          clearInterval(timer);\n",
       "          console.log(\"Bokeh: ERROR: Unable to run BokehJS code because BokehJS library is missing\");\n",
       "        }\n",
       "      }\n",
       "    }, 10, root)\n",
       "  }\n",
       "})(window);</script>"
      ],
      "text/plain": [
       "Alert(str, alert_type='secondary', css_classes=['alert', 'alert-secondary...], margin=(0, 0, 25, 0), sizing_mode='stretch_width')"
      ]
     },
     "metadata": {
      "application/vnd.holoviews_exec.v0+json": {
       "id": "1141"
      }
     },
     "output_type": "display_data"
    },
    {
     "data": {},
     "metadata": {},
     "output_type": "display_data"
    },
    {
     "data": {
      "application/vnd.holoviews_exec.v0+json": "",
      "text/html": [
       "<div id='1143'>\n",
       "\n",
       "\n",
       "\n",
       "\n",
       "\n",
       "  <div class=\"bk-root\" id=\"7f1bf619-0bf8-4fbe-8781-7115d42f21b4\" data-root-id=\"1143\"></div>\n",
       "</div>\n",
       "<script type=\"application/javascript\">(function(root) {\n",
       "  function embed_document(root) {\n",
       "    var docs_json = {\"fe3b9913-c551-4c93-990b-6b027b587a9d\":{\"defs\":[],\"roots\":{\"references\":[{\"attributes\":{\"client_comm_id\":\"9989b2a92f0342ad869a8331a5043114\",\"comm_id\":\"aae744b58188467ea0cf105c838f15cd\",\"plot_id\":\"1143\"},\"id\":\"1144\",\"type\":\"panel.models.comm_manager.CommManager\"},{\"attributes\":{\"css_classes\":[\"alert\",\"alert-warning\",\"markdown\"],\"margin\":[0,0,25,0],\"name\":\"Alert00337\",\"sizing_mode\":\"stretch_width\",\"text\":\"&lt;p&gt;Mapping previously runned for (/home/christine/Documents/These/frangiPANeGIT2/frangiPANe_PANRice/01-mapping_against_reference/AA.bam)&lt;/p&gt;\"},\"id\":\"1143\",\"type\":\"panel.models.markup.HTML\"}],\"root_ids\":[\"1143\",\"1144\"]},\"title\":\"Bokeh Application\",\"version\":\"2.3.3\"}};\n",
       "    var render_items = [{\"docid\":\"fe3b9913-c551-4c93-990b-6b027b587a9d\",\"root_ids\":[\"1143\"],\"roots\":{\"1143\":\"7f1bf619-0bf8-4fbe-8781-7115d42f21b4\"}}];\n",
       "    root.Bokeh.embed.embed_items_notebook(docs_json, render_items);\n",
       "  }\n",
       "  if (root.Bokeh !== undefined && root.Bokeh.Panel !== undefined) {\n",
       "    embed_document(root);\n",
       "  } else {\n",
       "    var attempts = 0;\n",
       "    var timer = setInterval(function(root) {\n",
       "      if (root.Bokeh !== undefined && root.Bokeh.Panel !== undefined) {\n",
       "        clearInterval(timer);\n",
       "        embed_document(root);\n",
       "      } else if (document.readyState == \"complete\") {\n",
       "        attempts++;\n",
       "        if (attempts > 100) {\n",
       "          clearInterval(timer);\n",
       "          console.log(\"Bokeh: ERROR: Unable to run BokehJS code because BokehJS library is missing\");\n",
       "        }\n",
       "      }\n",
       "    }, 10, root)\n",
       "  }\n",
       "})(window);</script>"
      ],
      "text/plain": [
       "Alert(str, alert_type='warning', css_classes=['alert', 'alert-warning']...], margin=(0, 0, 25, 0), sizing_mode='stretch_width')"
      ]
     },
     "metadata": {
      "application/vnd.holoviews_exec.v0+json": {
       "id": "1143"
      }
     },
     "output_type": "display_data"
    },
    {
     "data": {},
     "metadata": {},
     "output_type": "display_data"
    },
    {
     "data": {
      "application/vnd.holoviews_exec.v0+json": "",
      "text/html": [
       "<div id='1145'>\n",
       "\n",
       "\n",
       "\n",
       "\n",
       "\n",
       "  <div class=\"bk-root\" id=\"b245c0fa-1ea0-4dca-810a-891deb9f9d92\" data-root-id=\"1145\"></div>\n",
       "</div>\n",
       "<script type=\"application/javascript\">(function(root) {\n",
       "  function embed_document(root) {\n",
       "    var docs_json = {\"ce73461c-380b-4ee4-8122-ec046bd09cee\":{\"defs\":[],\"roots\":{\"references\":[{\"attributes\":{\"client_comm_id\":\"6b8f1a5ea74d42ac91798967ca4a820d\",\"comm_id\":\"f54080f640b34cb9b6c504a1076f81fb\",\"plot_id\":\"1145\"},\"id\":\"1146\",\"type\":\"panel.models.comm_manager.CommManager\"},{\"attributes\":{\"css_classes\":[\"alert\",\"alert-secondary\",\"markdown\"],\"margin\":[0,0,25,0],\"name\":\"Alert00341\",\"sizing_mode\":\"stretch_width\",\"text\":\"&lt;p&gt;Mapping in progress for DT&amp;hellip;&lt;/p&gt;\"},\"id\":\"1145\",\"type\":\"panel.models.markup.HTML\"}],\"root_ids\":[\"1145\",\"1146\"]},\"title\":\"Bokeh Application\",\"version\":\"2.3.3\"}};\n",
       "    var render_items = [{\"docid\":\"ce73461c-380b-4ee4-8122-ec046bd09cee\",\"root_ids\":[\"1145\"],\"roots\":{\"1145\":\"b245c0fa-1ea0-4dca-810a-891deb9f9d92\"}}];\n",
       "    root.Bokeh.embed.embed_items_notebook(docs_json, render_items);\n",
       "  }\n",
       "  if (root.Bokeh !== undefined && root.Bokeh.Panel !== undefined) {\n",
       "    embed_document(root);\n",
       "  } else {\n",
       "    var attempts = 0;\n",
       "    var timer = setInterval(function(root) {\n",
       "      if (root.Bokeh !== undefined && root.Bokeh.Panel !== undefined) {\n",
       "        clearInterval(timer);\n",
       "        embed_document(root);\n",
       "      } else if (document.readyState == \"complete\") {\n",
       "        attempts++;\n",
       "        if (attempts > 100) {\n",
       "          clearInterval(timer);\n",
       "          console.log(\"Bokeh: ERROR: Unable to run BokehJS code because BokehJS library is missing\");\n",
       "        }\n",
       "      }\n",
       "    }, 10, root)\n",
       "  }\n",
       "})(window);</script>"
      ],
      "text/plain": [
       "Alert(str, alert_type='secondary', css_classes=['alert', 'alert-secondary...], margin=(0, 0, 25, 0), sizing_mode='stretch_width')"
      ]
     },
     "metadata": {
      "application/vnd.holoviews_exec.v0+json": {
       "id": "1145"
      }
     },
     "output_type": "display_data"
    },
    {
     "data": {},
     "metadata": {},
     "output_type": "display_data"
    },
    {
     "data": {
      "application/vnd.holoviews_exec.v0+json": "",
      "text/html": [
       "<div id='1147'>\n",
       "\n",
       "\n",
       "\n",
       "\n",
       "\n",
       "  <div class=\"bk-root\" id=\"37a1f593-5bc1-43d1-80b2-1b477b9418ef\" data-root-id=\"1147\"></div>\n",
       "</div>\n",
       "<script type=\"application/javascript\">(function(root) {\n",
       "  function embed_document(root) {\n",
       "    var docs_json = {\"956d4183-08e1-4b7a-a2cb-da902de3f56a\":{\"defs\":[],\"roots\":{\"references\":[{\"attributes\":{\"client_comm_id\":\"352536c265284f7280ac775bf1d1b18d\",\"comm_id\":\"b488e1aa8a2d4c6ea5cb9b4014d341f3\",\"plot_id\":\"1147\"},\"id\":\"1148\",\"type\":\"panel.models.comm_manager.CommManager\"},{\"attributes\":{\"css_classes\":[\"alert\",\"alert-warning\",\"markdown\"],\"margin\":[0,0,25,0],\"name\":\"Alert00345\",\"sizing_mode\":\"stretch_width\",\"text\":\"&lt;p&gt;Mapping previously runned for (/home/christine/Documents/These/frangiPANeGIT2/frangiPANe_PANRice/01-mapping_against_reference/DT.bam)&lt;/p&gt;\"},\"id\":\"1147\",\"type\":\"panel.models.markup.HTML\"}],\"root_ids\":[\"1147\",\"1148\"]},\"title\":\"Bokeh Application\",\"version\":\"2.3.3\"}};\n",
       "    var render_items = [{\"docid\":\"956d4183-08e1-4b7a-a2cb-da902de3f56a\",\"root_ids\":[\"1147\"],\"roots\":{\"1147\":\"37a1f593-5bc1-43d1-80b2-1b477b9418ef\"}}];\n",
       "    root.Bokeh.embed.embed_items_notebook(docs_json, render_items);\n",
       "  }\n",
       "  if (root.Bokeh !== undefined && root.Bokeh.Panel !== undefined) {\n",
       "    embed_document(root);\n",
       "  } else {\n",
       "    var attempts = 0;\n",
       "    var timer = setInterval(function(root) {\n",
       "      if (root.Bokeh !== undefined && root.Bokeh.Panel !== undefined) {\n",
       "        clearInterval(timer);\n",
       "        embed_document(root);\n",
       "      } else if (document.readyState == \"complete\") {\n",
       "        attempts++;\n",
       "        if (attempts > 100) {\n",
       "          clearInterval(timer);\n",
       "          console.log(\"Bokeh: ERROR: Unable to run BokehJS code because BokehJS library is missing\");\n",
       "        }\n",
       "      }\n",
       "    }, 10, root)\n",
       "  }\n",
       "})(window);</script>"
      ],
      "text/plain": [
       "Alert(str, alert_type='warning', css_classes=['alert', 'alert-warning']...], margin=(0, 0, 25, 0), sizing_mode='stretch_width')"
      ]
     },
     "metadata": {
      "application/vnd.holoviews_exec.v0+json": {
       "id": "1147"
      }
     },
     "output_type": "display_data"
    },
    {
     "data": {},
     "metadata": {},
     "output_type": "display_data"
    },
    {
     "data": {
      "application/vnd.holoviews_exec.v0+json": "",
      "text/html": [
       "<div id='1149'>\n",
       "\n",
       "\n",
       "\n",
       "\n",
       "\n",
       "  <div class=\"bk-root\" id=\"5fdd9cc0-ca2b-4945-9a92-68660ba66c61\" data-root-id=\"1149\"></div>\n",
       "</div>\n",
       "<script type=\"application/javascript\">(function(root) {\n",
       "  function embed_document(root) {\n",
       "    var docs_json = {\"e0ed3657-c138-4649-ab67-fa0aa1095d41\":{\"defs\":[],\"roots\":{\"references\":[{\"attributes\":{\"css_classes\":[\"alert\",\"alert-secondary\",\"markdown\"],\"margin\":[0,0,25,0],\"name\":\"Alert00349\",\"sizing_mode\":\"stretch_width\",\"text\":\"&lt;p&gt;Mapping in progress for AB&amp;hellip;&lt;/p&gt;\"},\"id\":\"1149\",\"type\":\"panel.models.markup.HTML\"},{\"attributes\":{\"client_comm_id\":\"0d1f1eb084f440808f9c4d4349fba4fb\",\"comm_id\":\"cedd863e4bf5425483c725d45ea7e0b0\",\"plot_id\":\"1149\"},\"id\":\"1150\",\"type\":\"panel.models.comm_manager.CommManager\"}],\"root_ids\":[\"1149\",\"1150\"]},\"title\":\"Bokeh Application\",\"version\":\"2.3.3\"}};\n",
       "    var render_items = [{\"docid\":\"e0ed3657-c138-4649-ab67-fa0aa1095d41\",\"root_ids\":[\"1149\"],\"roots\":{\"1149\":\"5fdd9cc0-ca2b-4945-9a92-68660ba66c61\"}}];\n",
       "    root.Bokeh.embed.embed_items_notebook(docs_json, render_items);\n",
       "  }\n",
       "  if (root.Bokeh !== undefined && root.Bokeh.Panel !== undefined) {\n",
       "    embed_document(root);\n",
       "  } else {\n",
       "    var attempts = 0;\n",
       "    var timer = setInterval(function(root) {\n",
       "      if (root.Bokeh !== undefined && root.Bokeh.Panel !== undefined) {\n",
       "        clearInterval(timer);\n",
       "        embed_document(root);\n",
       "      } else if (document.readyState == \"complete\") {\n",
       "        attempts++;\n",
       "        if (attempts > 100) {\n",
       "          clearInterval(timer);\n",
       "          console.log(\"Bokeh: ERROR: Unable to run BokehJS code because BokehJS library is missing\");\n",
       "        }\n",
       "      }\n",
       "    }, 10, root)\n",
       "  }\n",
       "})(window);</script>"
      ],
      "text/plain": [
       "Alert(str, alert_type='secondary', css_classes=['alert', 'alert-secondary...], margin=(0, 0, 25, 0), sizing_mode='stretch_width')"
      ]
     },
     "metadata": {
      "application/vnd.holoviews_exec.v0+json": {
       "id": "1149"
      }
     },
     "output_type": "display_data"
    },
    {
     "data": {},
     "metadata": {},
     "output_type": "display_data"
    },
    {
     "data": {
      "application/vnd.holoviews_exec.v0+json": "",
      "text/html": [
       "<div id='1151'>\n",
       "\n",
       "\n",
       "\n",
       "\n",
       "\n",
       "  <div class=\"bk-root\" id=\"22b2e288-a8f1-4c7f-a4b3-e64f94efe115\" data-root-id=\"1151\"></div>\n",
       "</div>\n",
       "<script type=\"application/javascript\">(function(root) {\n",
       "  function embed_document(root) {\n",
       "    var docs_json = {\"058d8e85-24c2-4784-8396-b5ce9cbe4721\":{\"defs\":[],\"roots\":{\"references\":[{\"attributes\":{\"client_comm_id\":\"f9a5f4b8ec764ec082a23eba7797e040\",\"comm_id\":\"03c863783c164c0b8f55dc9ad8646b34\",\"plot_id\":\"1151\"},\"id\":\"1152\",\"type\":\"panel.models.comm_manager.CommManager\"},{\"attributes\":{\"css_classes\":[\"alert\",\"alert-warning\",\"markdown\"],\"margin\":[0,0,25,0],\"name\":\"Alert00353\",\"sizing_mode\":\"stretch_width\",\"text\":\"&lt;p&gt;Mapping previously runned for (/home/christine/Documents/These/frangiPANeGIT2/frangiPANe_PANRice/01-mapping_against_reference/AB.bam)&lt;/p&gt;\"},\"id\":\"1151\",\"type\":\"panel.models.markup.HTML\"}],\"root_ids\":[\"1151\",\"1152\"]},\"title\":\"Bokeh Application\",\"version\":\"2.3.3\"}};\n",
       "    var render_items = [{\"docid\":\"058d8e85-24c2-4784-8396-b5ce9cbe4721\",\"root_ids\":[\"1151\"],\"roots\":{\"1151\":\"22b2e288-a8f1-4c7f-a4b3-e64f94efe115\"}}];\n",
       "    root.Bokeh.embed.embed_items_notebook(docs_json, render_items);\n",
       "  }\n",
       "  if (root.Bokeh !== undefined && root.Bokeh.Panel !== undefined) {\n",
       "    embed_document(root);\n",
       "  } else {\n",
       "    var attempts = 0;\n",
       "    var timer = setInterval(function(root) {\n",
       "      if (root.Bokeh !== undefined && root.Bokeh.Panel !== undefined) {\n",
       "        clearInterval(timer);\n",
       "        embed_document(root);\n",
       "      } else if (document.readyState == \"complete\") {\n",
       "        attempts++;\n",
       "        if (attempts > 100) {\n",
       "          clearInterval(timer);\n",
       "          console.log(\"Bokeh: ERROR: Unable to run BokehJS code because BokehJS library is missing\");\n",
       "        }\n",
       "      }\n",
       "    }, 10, root)\n",
       "  }\n",
       "})(window);</script>"
      ],
      "text/plain": [
       "Alert(str, alert_type='warning', css_classes=['alert', 'alert-warning']...], margin=(0, 0, 25, 0), sizing_mode='stretch_width')"
      ]
     },
     "metadata": {
      "application/vnd.holoviews_exec.v0+json": {
       "id": "1151"
      }
     },
     "output_type": "display_data"
    },
    {
     "data": {},
     "metadata": {},
     "output_type": "display_data"
    },
    {
     "data": {
      "application/vnd.holoviews_exec.v0+json": "",
      "text/html": [
       "<div id='1153'>\n",
       "\n",
       "\n",
       "\n",
       "\n",
       "\n",
       "  <div class=\"bk-root\" id=\"2134f46d-2415-4c30-9786-fa002ccd8b0b\" data-root-id=\"1153\"></div>\n",
       "</div>\n",
       "<script type=\"application/javascript\">(function(root) {\n",
       "  function embed_document(root) {\n",
       "    var docs_json = {\"58d617ff-4a38-470b-9f94-ec1e3040cdf0\":{\"defs\":[],\"roots\":{\"references\":[{\"attributes\":{\"css_classes\":[\"alert\",\"alert-success\",\"markdown\"],\"margin\":[0,0,25,0],\"name\":\"Alert00357\",\"sizing_mode\":\"stretch_width\",\"text\":\"&lt;h3&gt;Mapping step done with bwa mem and samtools sort&lt;/h3&gt;\\n&lt;hr&gt;\\n\\n&lt;ul&gt;\\n&lt;li&gt;FASTQ DIR : /home/christine/Documents/These/frangiPANeGIT/rice/fastq2&lt;/li&gt;\\n&lt;li&gt;BAM DIR : /home/christine/Documents/These/frangiPANeGIT2/frangiPANe_PANRice/01-mapping_against_reference/&lt;/li&gt;\\n&lt;/ul&gt;\"},\"id\":\"1153\",\"type\":\"panel.models.markup.HTML\"},{\"attributes\":{\"client_comm_id\":\"5b715b8049f940c0bd4916162fe4f71d\",\"comm_id\":\"08c750423d54415cb962206d53de89a9\",\"plot_id\":\"1153\"},\"id\":\"1154\",\"type\":\"panel.models.comm_manager.CommManager\"}],\"root_ids\":[\"1153\",\"1154\"]},\"title\":\"Bokeh Application\",\"version\":\"2.3.3\"}};\n",
       "    var render_items = [{\"docid\":\"58d617ff-4a38-470b-9f94-ec1e3040cdf0\",\"root_ids\":[\"1153\"],\"roots\":{\"1153\":\"2134f46d-2415-4c30-9786-fa002ccd8b0b\"}}];\n",
       "    root.Bokeh.embed.embed_items_notebook(docs_json, render_items);\n",
       "  }\n",
       "  if (root.Bokeh !== undefined && root.Bokeh.Panel !== undefined) {\n",
       "    embed_document(root);\n",
       "  } else {\n",
       "    var attempts = 0;\n",
       "    var timer = setInterval(function(root) {\n",
       "      if (root.Bokeh !== undefined && root.Bokeh.Panel !== undefined) {\n",
       "        clearInterval(timer);\n",
       "        embed_document(root);\n",
       "      } else if (document.readyState == \"complete\") {\n",
       "        attempts++;\n",
       "        if (attempts > 100) {\n",
       "          clearInterval(timer);\n",
       "          console.log(\"Bokeh: ERROR: Unable to run BokehJS code because BokehJS library is missing\");\n",
       "        }\n",
       "      }\n",
       "    }, 10, root)\n",
       "  }\n",
       "})(window);</script>"
      ],
      "text/plain": [
       "Alert(str, alert_type='success', css_classes=['alert', 'alert-success']...], margin=(0, 0, 25, 0), sizing_mode='stretch_width')"
      ]
     },
     "metadata": {
      "application/vnd.holoviews_exec.v0+json": {
       "id": "1153"
      }
     },
     "output_type": "display_data"
    },
    {
     "data": {
      "text/html": [
       "<img src onerror=\"var cell = this.closest('.jp-CodeCell');var editor = cell.querySelector('.jp-Editor');editor.style.background='LightBlue';this.parentNode.removeChild(this)\">"
      ],
      "text/plain": [
       "<IPython.core.display.HTML object>"
      ]
     },
     "metadata": {},
     "output_type": "display_data"
    }
   ],
   "source": [
    "if not output_dir:\n",
    "    text = \"Creating frangiPANe output directory is required to continue !\"\n",
    "    display_alert(text,\"danger\")\n",
    "elif df_group is None:\n",
    "    text = \"Analyzing Group File is required to continue !\"\n",
    "    display_alert(text,\"danger\")\n",
    "elif not ref_file.value or not fastq_dir.value:\n",
    "    text = \"Fill the form with the group file in the previous cell !\"\n",
    "    display_alert(text,\"danger\")\n",
    "else:\n",
    "\n",
    "    # Creating directory\n",
    "    output_mapping_dir = output_dir + \"/01-mapping_against_reference/\"\n",
    "\n",
    "    # Mapping\n",
    "    fastq2bam_dir(ref_file.value, fastq_dir.value, df_group, cpu, output_mapping_dir, logger)\n",
    "    \n",
    "    bgc('LightBlue')"
   ]
  },
  {
   "cell_type": "markdown",
   "metadata": {
    "tags": []
   },
   "source": [
    "#### __Generating mapping stats <a class=\"anchor\" id=\"mappingstat\">__\n",
    "    \n",
    "Statistics are generated by `samtools flagstat` and they are saved into the directory _01_mapping-against_reference_ and the subdirectory _stat_\n",
    "\n",
    "* One \"flagtstat file\" is generated for each bam file (http://www.htslib.org/doc/samtools-flagstat.html).\n",
    "\n",
    "* _all_flagstat.csv_ file compiling all the stats\n"
   ]
  },
  {
   "cell_type": "code",
   "execution_count": 10,
   "metadata": {},
   "outputs": [
    {
     "data": {},
     "metadata": {},
     "output_type": "display_data"
    },
    {
     "data": {
      "application/vnd.holoviews_exec.v0+json": "",
      "text/html": [
       "<div id='1147'>\n",
       "\n",
       "\n",
       "\n",
       "\n",
       "\n",
       "  <div class=\"bk-root\" id=\"a2a50907-c89b-45d5-9925-c8d56ab0ea97\" data-root-id=\"1147\"></div>\n",
       "</div>\n",
       "<script type=\"application/javascript\">(function(root) {\n",
       "  function embed_document(root) {\n",
       "    var docs_json = {\"20aa6871-64da-4ed3-9efd-a9fd1790a6ec\":{\"defs\":[],\"roots\":{\"references\":[{\"attributes\":{\"css_classes\":[\"alert\",\"alert-warning\",\"markdown\"],\"margin\":[0,0,25,0],\"name\":\"Alert00348\",\"sizing_mode\":\"stretch_width\",\"text\":\"&lt;h3&gt;warning&lt;/h3&gt;\\n&lt;hr&gt;\\n&lt;p&gt;Directory /home/christine/Documents/These/frangiPANeGIT2/frangiPANe_PANRice/01-mapping_against_reference//stat/ already existed&lt;/p&gt;\"},\"id\":\"1147\",\"type\":\"panel.models.markup.HTML\"},{\"attributes\":{\"client_comm_id\":\"2df2c9ccb7a34de6be57a469993232e8\",\"comm_id\":\"b169046c75584b91a3600adc815371c8\",\"plot_id\":\"1147\"},\"id\":\"1148\",\"type\":\"panel.models.comm_manager.CommManager\"}],\"root_ids\":[\"1147\",\"1148\"]},\"title\":\"Bokeh Application\",\"version\":\"2.3.3\"}};\n",
       "    var render_items = [{\"docid\":\"20aa6871-64da-4ed3-9efd-a9fd1790a6ec\",\"root_ids\":[\"1147\"],\"roots\":{\"1147\":\"a2a50907-c89b-45d5-9925-c8d56ab0ea97\"}}];\n",
       "    root.Bokeh.embed.embed_items_notebook(docs_json, render_items);\n",
       "  }\n",
       "  if (root.Bokeh !== undefined && root.Bokeh.Panel !== undefined) {\n",
       "    embed_document(root);\n",
       "  } else {\n",
       "    var attempts = 0;\n",
       "    var timer = setInterval(function(root) {\n",
       "      if (root.Bokeh !== undefined && root.Bokeh.Panel !== undefined) {\n",
       "        clearInterval(timer);\n",
       "        embed_document(root);\n",
       "      } else if (document.readyState == \"complete\") {\n",
       "        attempts++;\n",
       "        if (attempts > 100) {\n",
       "          clearInterval(timer);\n",
       "          console.log(\"Bokeh: ERROR: Unable to run BokehJS code because BokehJS library is missing\");\n",
       "        }\n",
       "      }\n",
       "    }, 10, root)\n",
       "  }\n",
       "})(window);</script>"
      ],
      "text/plain": [
       "Alert(str, alert_type='warning', css_classes=['alert', 'alert-warning']...], margin=(0, 0, 25, 0), sizing_mode='stretch_width')"
      ]
     },
     "metadata": {
      "application/vnd.holoviews_exec.v0+json": {
       "id": "1147"
      }
     },
     "output_type": "display_data"
    },
    {
     "data": {},
     "metadata": {},
     "output_type": "display_data"
    },
    {
     "data": {
      "application/vnd.holoviews_exec.v0+json": "",
      "text/html": [
       "<div id='1149'>\n",
       "\n",
       "\n",
       "\n",
       "\n",
       "\n",
       "  <div class=\"bk-root\" id=\"8c346e02-c6c6-480f-bf27-6d6916edbaa9\" data-root-id=\"1149\"></div>\n",
       "</div>\n",
       "<script type=\"application/javascript\">(function(root) {\n",
       "  function embed_document(root) {\n",
       "    var docs_json = {\"b4a6166f-40bb-4b69-bfb6-61b22e80cd38\":{\"defs\":[],\"roots\":{\"references\":[{\"attributes\":{\"client_comm_id\":\"d84a253abb034bdd826811300c3c9b02\",\"comm_id\":\"03d6157b62484de0830c4e00e0643e65\",\"plot_id\":\"1149\"},\"id\":\"1150\",\"type\":\"panel.models.comm_manager.CommManager\"},{\"attributes\":{\"css_classes\":[\"alert\",\"alert-secondary\",\"markdown\"],\"margin\":[0,0,25,0],\"name\":\"Alert00352\",\"sizing_mode\":\"stretch_width\",\"text\":\"&lt;p&gt;Generating mapping stat (with samtools flagstat) for AA.bam&amp;hellip;&lt;/p&gt;\"},\"id\":\"1149\",\"type\":\"panel.models.markup.HTML\"}],\"root_ids\":[\"1149\",\"1150\"]},\"title\":\"Bokeh Application\",\"version\":\"2.3.3\"}};\n",
       "    var render_items = [{\"docid\":\"b4a6166f-40bb-4b69-bfb6-61b22e80cd38\",\"root_ids\":[\"1149\"],\"roots\":{\"1149\":\"8c346e02-c6c6-480f-bf27-6d6916edbaa9\"}}];\n",
       "    root.Bokeh.embed.embed_items_notebook(docs_json, render_items);\n",
       "  }\n",
       "  if (root.Bokeh !== undefined && root.Bokeh.Panel !== undefined) {\n",
       "    embed_document(root);\n",
       "  } else {\n",
       "    var attempts = 0;\n",
       "    var timer = setInterval(function(root) {\n",
       "      if (root.Bokeh !== undefined && root.Bokeh.Panel !== undefined) {\n",
       "        clearInterval(timer);\n",
       "        embed_document(root);\n",
       "      } else if (document.readyState == \"complete\") {\n",
       "        attempts++;\n",
       "        if (attempts > 100) {\n",
       "          clearInterval(timer);\n",
       "          console.log(\"Bokeh: ERROR: Unable to run BokehJS code because BokehJS library is missing\");\n",
       "        }\n",
       "      }\n",
       "    }, 10, root)\n",
       "  }\n",
       "})(window);</script>"
      ],
      "text/plain": [
       "Alert(str, alert_type='secondary', css_classes=['alert', 'alert-secondary...], margin=(0, 0, 25, 0), sizing_mode='stretch_width')"
      ]
     },
     "metadata": {
      "application/vnd.holoviews_exec.v0+json": {
       "id": "1149"
      }
     },
     "output_type": "display_data"
    },
    {
     "data": {},
     "metadata": {},
     "output_type": "display_data"
    },
    {
     "data": {
      "application/vnd.holoviews_exec.v0+json": "",
      "text/html": [
       "<div id='1151'>\n",
       "\n",
       "\n",
       "\n",
       "\n",
       "\n",
       "  <div class=\"bk-root\" id=\"8cf7c6ed-dc54-47cb-bf7c-f5960796f77d\" data-root-id=\"1151\"></div>\n",
       "</div>\n",
       "<script type=\"application/javascript\">(function(root) {\n",
       "  function embed_document(root) {\n",
       "    var docs_json = {\"ff18bb98-dc7d-4931-83f6-2229dd783746\":{\"defs\":[],\"roots\":{\"references\":[{\"attributes\":{\"css_classes\":[\"alert\",\"alert-warning\",\"markdown\"],\"margin\":[0,0,25,0],\"name\":\"Alert00356\",\"sizing_mode\":\"stretch_width\",\"text\":\"&lt;p&gt;Stat previously executed for (AA.bam)&lt;/p&gt;\"},\"id\":\"1151\",\"type\":\"panel.models.markup.HTML\"},{\"attributes\":{\"client_comm_id\":\"719dcaf742164054a0af11fa9ff860af\",\"comm_id\":\"54b540e4342241efad0d20e411fe26ac\",\"plot_id\":\"1151\"},\"id\":\"1152\",\"type\":\"panel.models.comm_manager.CommManager\"}],\"root_ids\":[\"1151\",\"1152\"]},\"title\":\"Bokeh Application\",\"version\":\"2.3.3\"}};\n",
       "    var render_items = [{\"docid\":\"ff18bb98-dc7d-4931-83f6-2229dd783746\",\"root_ids\":[\"1151\"],\"roots\":{\"1151\":\"8cf7c6ed-dc54-47cb-bf7c-f5960796f77d\"}}];\n",
       "    root.Bokeh.embed.embed_items_notebook(docs_json, render_items);\n",
       "  }\n",
       "  if (root.Bokeh !== undefined && root.Bokeh.Panel !== undefined) {\n",
       "    embed_document(root);\n",
       "  } else {\n",
       "    var attempts = 0;\n",
       "    var timer = setInterval(function(root) {\n",
       "      if (root.Bokeh !== undefined && root.Bokeh.Panel !== undefined) {\n",
       "        clearInterval(timer);\n",
       "        embed_document(root);\n",
       "      } else if (document.readyState == \"complete\") {\n",
       "        attempts++;\n",
       "        if (attempts > 100) {\n",
       "          clearInterval(timer);\n",
       "          console.log(\"Bokeh: ERROR: Unable to run BokehJS code because BokehJS library is missing\");\n",
       "        }\n",
       "      }\n",
       "    }, 10, root)\n",
       "  }\n",
       "})(window);</script>"
      ],
      "text/plain": [
       "Alert(str, alert_type='warning', css_classes=['alert', 'alert-warning']...], margin=(0, 0, 25, 0), sizing_mode='stretch_width')"
      ]
     },
     "metadata": {
      "application/vnd.holoviews_exec.v0+json": {
       "id": "1151"
      }
     },
     "output_type": "display_data"
    },
    {
     "data": {},
     "metadata": {},
     "output_type": "display_data"
    },
    {
     "data": {
      "application/vnd.holoviews_exec.v0+json": "",
      "text/html": [
       "<div id='1153'>\n",
       "\n",
       "\n",
       "\n",
       "\n",
       "\n",
       "  <div class=\"bk-root\" id=\"0eadc4b7-405e-4b1f-8c27-98a4c7ffa15e\" data-root-id=\"1153\"></div>\n",
       "</div>\n",
       "<script type=\"application/javascript\">(function(root) {\n",
       "  function embed_document(root) {\n",
       "    var docs_json = {\"3bd10e4f-7baf-4d70-8dd7-06818aaf51b0\":{\"defs\":[],\"roots\":{\"references\":[{\"attributes\":{\"css_classes\":[\"alert\",\"alert-secondary\",\"markdown\"],\"margin\":[0,0,25,0],\"name\":\"Alert00360\",\"sizing_mode\":\"stretch_width\",\"text\":\"&lt;p&gt;Generating mapping stat (with samtools flagstat) for DT.bam&amp;hellip;&lt;/p&gt;\"},\"id\":\"1153\",\"type\":\"panel.models.markup.HTML\"},{\"attributes\":{\"client_comm_id\":\"fc8971ceaf44483c9b281323117c47b2\",\"comm_id\":\"0842644b66e347d5b1cb64fc54b676b7\",\"plot_id\":\"1153\"},\"id\":\"1154\",\"type\":\"panel.models.comm_manager.CommManager\"}],\"root_ids\":[\"1153\",\"1154\"]},\"title\":\"Bokeh Application\",\"version\":\"2.3.3\"}};\n",
       "    var render_items = [{\"docid\":\"3bd10e4f-7baf-4d70-8dd7-06818aaf51b0\",\"root_ids\":[\"1153\"],\"roots\":{\"1153\":\"0eadc4b7-405e-4b1f-8c27-98a4c7ffa15e\"}}];\n",
       "    root.Bokeh.embed.embed_items_notebook(docs_json, render_items);\n",
       "  }\n",
       "  if (root.Bokeh !== undefined && root.Bokeh.Panel !== undefined) {\n",
       "    embed_document(root);\n",
       "  } else {\n",
       "    var attempts = 0;\n",
       "    var timer = setInterval(function(root) {\n",
       "      if (root.Bokeh !== undefined && root.Bokeh.Panel !== undefined) {\n",
       "        clearInterval(timer);\n",
       "        embed_document(root);\n",
       "      } else if (document.readyState == \"complete\") {\n",
       "        attempts++;\n",
       "        if (attempts > 100) {\n",
       "          clearInterval(timer);\n",
       "          console.log(\"Bokeh: ERROR: Unable to run BokehJS code because BokehJS library is missing\");\n",
       "        }\n",
       "      }\n",
       "    }, 10, root)\n",
       "  }\n",
       "})(window);</script>"
      ],
      "text/plain": [
       "Alert(str, alert_type='secondary', css_classes=['alert', 'alert-secondary...], margin=(0, 0, 25, 0), sizing_mode='stretch_width')"
      ]
     },
     "metadata": {
      "application/vnd.holoviews_exec.v0+json": {
       "id": "1153"
      }
     },
     "output_type": "display_data"
    },
    {
     "data": {},
     "metadata": {},
     "output_type": "display_data"
    },
    {
     "data": {
      "application/vnd.holoviews_exec.v0+json": "",
      "text/html": [
       "<div id='1155'>\n",
       "\n",
       "\n",
       "\n",
       "\n",
       "\n",
       "  <div class=\"bk-root\" id=\"112207d6-afff-4f79-b9f5-7e104be10424\" data-root-id=\"1155\"></div>\n",
       "</div>\n",
       "<script type=\"application/javascript\">(function(root) {\n",
       "  function embed_document(root) {\n",
       "    var docs_json = {\"a8863028-e49b-4ab7-b70b-28af8ee6cd46\":{\"defs\":[],\"roots\":{\"references\":[{\"attributes\":{\"client_comm_id\":\"fcc65b38b87e4dc7b2fab3e0ffbea07f\",\"comm_id\":\"ed382a6618a642bebfa3ee570990f58c\",\"plot_id\":\"1155\"},\"id\":\"1156\",\"type\":\"panel.models.comm_manager.CommManager\"},{\"attributes\":{\"css_classes\":[\"alert\",\"alert-warning\",\"markdown\"],\"margin\":[0,0,25,0],\"name\":\"Alert00364\",\"sizing_mode\":\"stretch_width\",\"text\":\"&lt;p&gt;Stat previously executed for (DT.bam)&lt;/p&gt;\"},\"id\":\"1155\",\"type\":\"panel.models.markup.HTML\"}],\"root_ids\":[\"1155\",\"1156\"]},\"title\":\"Bokeh Application\",\"version\":\"2.3.3\"}};\n",
       "    var render_items = [{\"docid\":\"a8863028-e49b-4ab7-b70b-28af8ee6cd46\",\"root_ids\":[\"1155\"],\"roots\":{\"1155\":\"112207d6-afff-4f79-b9f5-7e104be10424\"}}];\n",
       "    root.Bokeh.embed.embed_items_notebook(docs_json, render_items);\n",
       "  }\n",
       "  if (root.Bokeh !== undefined && root.Bokeh.Panel !== undefined) {\n",
       "    embed_document(root);\n",
       "  } else {\n",
       "    var attempts = 0;\n",
       "    var timer = setInterval(function(root) {\n",
       "      if (root.Bokeh !== undefined && root.Bokeh.Panel !== undefined) {\n",
       "        clearInterval(timer);\n",
       "        embed_document(root);\n",
       "      } else if (document.readyState == \"complete\") {\n",
       "        attempts++;\n",
       "        if (attempts > 100) {\n",
       "          clearInterval(timer);\n",
       "          console.log(\"Bokeh: ERROR: Unable to run BokehJS code because BokehJS library is missing\");\n",
       "        }\n",
       "      }\n",
       "    }, 10, root)\n",
       "  }\n",
       "})(window);</script>"
      ],
      "text/plain": [
       "Alert(str, alert_type='warning', css_classes=['alert', 'alert-warning']...], margin=(0, 0, 25, 0), sizing_mode='stretch_width')"
      ]
     },
     "metadata": {
      "application/vnd.holoviews_exec.v0+json": {
       "id": "1155"
      }
     },
     "output_type": "display_data"
    },
    {
     "data": {},
     "metadata": {},
     "output_type": "display_data"
    },
    {
     "data": {
      "application/vnd.holoviews_exec.v0+json": "",
      "text/html": [
       "<div id='1157'>\n",
       "\n",
       "\n",
       "\n",
       "\n",
       "\n",
       "  <div class=\"bk-root\" id=\"5ee0270e-7c71-485b-af7d-67f6eb29e835\" data-root-id=\"1157\"></div>\n",
       "</div>\n",
       "<script type=\"application/javascript\">(function(root) {\n",
       "  function embed_document(root) {\n",
       "    var docs_json = {\"061d8b2a-dcee-4caf-b833-e539ac4b55a4\":{\"defs\":[],\"roots\":{\"references\":[{\"attributes\":{\"css_classes\":[\"alert\",\"alert-secondary\",\"markdown\"],\"margin\":[0,0,25,0],\"name\":\"Alert00368\",\"sizing_mode\":\"stretch_width\",\"text\":\"&lt;p&gt;Generating mapping stat (with samtools flagstat) for AB.bam&amp;hellip;&lt;/p&gt;\"},\"id\":\"1157\",\"type\":\"panel.models.markup.HTML\"},{\"attributes\":{\"client_comm_id\":\"27f7e1bc7593415f98251336f5c63a45\",\"comm_id\":\"5cea6a19931b475080ce1799d525e5c6\",\"plot_id\":\"1157\"},\"id\":\"1158\",\"type\":\"panel.models.comm_manager.CommManager\"}],\"root_ids\":[\"1157\",\"1158\"]},\"title\":\"Bokeh Application\",\"version\":\"2.3.3\"}};\n",
       "    var render_items = [{\"docid\":\"061d8b2a-dcee-4caf-b833-e539ac4b55a4\",\"root_ids\":[\"1157\"],\"roots\":{\"1157\":\"5ee0270e-7c71-485b-af7d-67f6eb29e835\"}}];\n",
       "    root.Bokeh.embed.embed_items_notebook(docs_json, render_items);\n",
       "  }\n",
       "  if (root.Bokeh !== undefined && root.Bokeh.Panel !== undefined) {\n",
       "    embed_document(root);\n",
       "  } else {\n",
       "    var attempts = 0;\n",
       "    var timer = setInterval(function(root) {\n",
       "      if (root.Bokeh !== undefined && root.Bokeh.Panel !== undefined) {\n",
       "        clearInterval(timer);\n",
       "        embed_document(root);\n",
       "      } else if (document.readyState == \"complete\") {\n",
       "        attempts++;\n",
       "        if (attempts > 100) {\n",
       "          clearInterval(timer);\n",
       "          console.log(\"Bokeh: ERROR: Unable to run BokehJS code because BokehJS library is missing\");\n",
       "        }\n",
       "      }\n",
       "    }, 10, root)\n",
       "  }\n",
       "})(window);</script>"
      ],
      "text/plain": [
       "Alert(str, alert_type='secondary', css_classes=['alert', 'alert-secondary...], margin=(0, 0, 25, 0), sizing_mode='stretch_width')"
      ]
     },
     "metadata": {
      "application/vnd.holoviews_exec.v0+json": {
       "id": "1157"
      }
     },
     "output_type": "display_data"
    },
    {
     "data": {},
     "metadata": {},
     "output_type": "display_data"
    },
    {
     "data": {
      "application/vnd.holoviews_exec.v0+json": "",
      "text/html": [
       "<div id='1159'>\n",
       "\n",
       "\n",
       "\n",
       "\n",
       "\n",
       "  <div class=\"bk-root\" id=\"ea180eb2-bd9a-45d9-ade6-d3b427caf1fd\" data-root-id=\"1159\"></div>\n",
       "</div>\n",
       "<script type=\"application/javascript\">(function(root) {\n",
       "  function embed_document(root) {\n",
       "    var docs_json = {\"e5d6b4c9-e082-49b5-9782-9b8237d89237\":{\"defs\":[],\"roots\":{\"references\":[{\"attributes\":{\"client_comm_id\":\"ad4582ed70a3496785b4d7af0c6cbd82\",\"comm_id\":\"5281e088ab1746aa9b5e03f19ad855f1\",\"plot_id\":\"1159\"},\"id\":\"1160\",\"type\":\"panel.models.comm_manager.CommManager\"},{\"attributes\":{\"css_classes\":[\"alert\",\"alert-warning\",\"markdown\"],\"margin\":[0,0,25,0],\"name\":\"Alert00372\",\"sizing_mode\":\"stretch_width\",\"text\":\"&lt;p&gt;Stat previously executed for (AB.bam)&lt;/p&gt;\"},\"id\":\"1159\",\"type\":\"panel.models.markup.HTML\"}],\"root_ids\":[\"1159\",\"1160\"]},\"title\":\"Bokeh Application\",\"version\":\"2.3.3\"}};\n",
       "    var render_items = [{\"docid\":\"e5d6b4c9-e082-49b5-9782-9b8237d89237\",\"root_ids\":[\"1159\"],\"roots\":{\"1159\":\"ea180eb2-bd9a-45d9-ade6-d3b427caf1fd\"}}];\n",
       "    root.Bokeh.embed.embed_items_notebook(docs_json, render_items);\n",
       "  }\n",
       "  if (root.Bokeh !== undefined && root.Bokeh.Panel !== undefined) {\n",
       "    embed_document(root);\n",
       "  } else {\n",
       "    var attempts = 0;\n",
       "    var timer = setInterval(function(root) {\n",
       "      if (root.Bokeh !== undefined && root.Bokeh.Panel !== undefined) {\n",
       "        clearInterval(timer);\n",
       "        embed_document(root);\n",
       "      } else if (document.readyState == \"complete\") {\n",
       "        attempts++;\n",
       "        if (attempts > 100) {\n",
       "          clearInterval(timer);\n",
       "          console.log(\"Bokeh: ERROR: Unable to run BokehJS code because BokehJS library is missing\");\n",
       "        }\n",
       "      }\n",
       "    }, 10, root)\n",
       "  }\n",
       "})(window);</script>"
      ],
      "text/plain": [
       "Alert(str, alert_type='warning', css_classes=['alert', 'alert-warning']...], margin=(0, 0, 25, 0), sizing_mode='stretch_width')"
      ]
     },
     "metadata": {
      "application/vnd.holoviews_exec.v0+json": {
       "id": "1159"
      }
     },
     "output_type": "display_data"
    },
    {
     "data": {},
     "metadata": {},
     "output_type": "display_data"
    },
    {
     "data": {
      "application/vnd.holoviews_exec.v0+json": "",
      "text/html": [
       "<div id='1161'>\n",
       "\n",
       "\n",
       "\n",
       "\n",
       "\n",
       "  <div class=\"bk-root\" id=\"3dbc8360-583d-464c-b219-1863af1c0171\" data-root-id=\"1161\"></div>\n",
       "</div>\n",
       "<script type=\"application/javascript\">(function(root) {\n",
       "  function embed_document(root) {\n",
       "    var docs_json = {\"c8147ab9-ad20-4c8d-af0d-15d5b60e4f68\":{\"defs\":[],\"roots\":{\"references\":[{\"attributes\":{\"css_classes\":[\"alert\",\"alert-secondary\",\"markdown\"],\"margin\":[0,0,25,0],\"name\":\"Alert00376\",\"sizing_mode\":\"stretch_width\",\"text\":\"&lt;p&gt;Compiling mapping stat into an unique file&amp;hellip;&lt;/p&gt;\"},\"id\":\"1161\",\"type\":\"panel.models.markup.HTML\"},{\"attributes\":{\"client_comm_id\":\"fcb205f939ff4d85aaa98cd4500f8c49\",\"comm_id\":\"206f577b81724d25b5a75081aae6f46c\",\"plot_id\":\"1161\"},\"id\":\"1162\",\"type\":\"panel.models.comm_manager.CommManager\"}],\"root_ids\":[\"1161\",\"1162\"]},\"title\":\"Bokeh Application\",\"version\":\"2.3.3\"}};\n",
       "    var render_items = [{\"docid\":\"c8147ab9-ad20-4c8d-af0d-15d5b60e4f68\",\"root_ids\":[\"1161\"],\"roots\":{\"1161\":\"3dbc8360-583d-464c-b219-1863af1c0171\"}}];\n",
       "    root.Bokeh.embed.embed_items_notebook(docs_json, render_items);\n",
       "  }\n",
       "  if (root.Bokeh !== undefined && root.Bokeh.Panel !== undefined) {\n",
       "    embed_document(root);\n",
       "  } else {\n",
       "    var attempts = 0;\n",
       "    var timer = setInterval(function(root) {\n",
       "      if (root.Bokeh !== undefined && root.Bokeh.Panel !== undefined) {\n",
       "        clearInterval(timer);\n",
       "        embed_document(root);\n",
       "      } else if (document.readyState == \"complete\") {\n",
       "        attempts++;\n",
       "        if (attempts > 100) {\n",
       "          clearInterval(timer);\n",
       "          console.log(\"Bokeh: ERROR: Unable to run BokehJS code because BokehJS library is missing\");\n",
       "        }\n",
       "      }\n",
       "    }, 10, root)\n",
       "  }\n",
       "})(window);</script>"
      ],
      "text/plain": [
       "Alert(str, alert_type='secondary', css_classes=['alert', 'alert-secondary...], margin=(0, 0, 25, 0), sizing_mode='stretch_width')"
      ]
     },
     "metadata": {
      "application/vnd.holoviews_exec.v0+json": {
       "id": "1161"
      }
     },
     "output_type": "display_data"
    },
    {
     "data": {},
     "metadata": {},
     "output_type": "display_data"
    },
    {
     "data": {
      "application/vnd.holoviews_exec.v0+json": "",
      "text/html": [
       "<div id='1163'>\n",
       "\n",
       "\n",
       "\n",
       "\n",
       "\n",
       "  <div class=\"bk-root\" id=\"d692306a-3533-4cf0-9817-6a5742003ce0\" data-root-id=\"1163\"></div>\n",
       "</div>\n",
       "<script type=\"application/javascript\">(function(root) {\n",
       "  function embed_document(root) {\n",
       "    var docs_json = {\"3b916f84-0a00-4216-aae4-c49391eed943\":{\"defs\":[],\"roots\":{\"references\":[{\"attributes\":{\"client_comm_id\":\"429622d0e16d4a1498e7c4163f2c9400\",\"comm_id\":\"0f7f91a775344e9c9034e55be46c37ad\",\"plot_id\":\"1163\"},\"id\":\"1164\",\"type\":\"panel.models.comm_manager.CommManager\"},{\"attributes\":{\"css_classes\":[\"alert\",\"alert-success\",\"markdown\"],\"margin\":[0,0,25,0],\"name\":\"Alert00380\",\"sizing_mode\":\"stretch_width\",\"text\":\"&lt;p&gt;Compiling successfully done. See /home/christine/Documents/These/frangiPANeGIT2/frangiPANe_PANRice/01-mapping_against_reference//stat/all_flagstat.csv&lt;/p&gt;\"},\"id\":\"1163\",\"type\":\"panel.models.markup.HTML\"}],\"root_ids\":[\"1163\",\"1164\"]},\"title\":\"Bokeh Application\",\"version\":\"2.3.3\"}};\n",
       "    var render_items = [{\"docid\":\"3b916f84-0a00-4216-aae4-c49391eed943\",\"root_ids\":[\"1163\"],\"roots\":{\"1163\":\"d692306a-3533-4cf0-9817-6a5742003ce0\"}}];\n",
       "    root.Bokeh.embed.embed_items_notebook(docs_json, render_items);\n",
       "  }\n",
       "  if (root.Bokeh !== undefined && root.Bokeh.Panel !== undefined) {\n",
       "    embed_document(root);\n",
       "  } else {\n",
       "    var attempts = 0;\n",
       "    var timer = setInterval(function(root) {\n",
       "      if (root.Bokeh !== undefined && root.Bokeh.Panel !== undefined) {\n",
       "        clearInterval(timer);\n",
       "        embed_document(root);\n",
       "      } else if (document.readyState == \"complete\") {\n",
       "        attempts++;\n",
       "        if (attempts > 100) {\n",
       "          clearInterval(timer);\n",
       "          console.log(\"Bokeh: ERROR: Unable to run BokehJS code because BokehJS library is missing\");\n",
       "        }\n",
       "      }\n",
       "    }, 10, root)\n",
       "  }\n",
       "})(window);</script>"
      ],
      "text/plain": [
       "Alert(str, alert_type='success', css_classes=['alert', 'alert-success']...], margin=(0, 0, 25, 0), sizing_mode='stretch_width')"
      ]
     },
     "metadata": {
      "application/vnd.holoviews_exec.v0+json": {
       "id": "1163"
      }
     },
     "output_type": "display_data"
    },
    {
     "data": {},
     "metadata": {},
     "output_type": "display_data"
    },
    {
     "data": {
      "application/vnd.holoviews_exec.v0+json": "",
      "text/html": [
       "<div id='1165'>\n",
       "\n",
       "\n",
       "\n",
       "\n",
       "\n",
       "  <div class=\"bk-root\" id=\"f4d8f6fd-4eb7-42b7-bf04-a2832b7535ff\" data-root-id=\"1165\"></div>\n",
       "</div>\n",
       "<script type=\"application/javascript\">(function(root) {\n",
       "  function embed_document(root) {\n",
       "    var docs_json = {\"5980979d-138a-41de-920a-c357735c5e33\":{\"defs\":[],\"roots\":{\"references\":[{\"attributes\":{\"children\":[{\"id\":\"1178\"},{\"id\":\"1179\"}],\"margin\":[0,0,0,0],\"name\":\"Row00402\"},\"id\":\"1177\",\"type\":\"Row\"},{\"attributes\":{\"children\":[{\"id\":\"1174\"},{\"id\":\"1175\"}],\"margin\":[0,0,0,0],\"name\":\"Row00397\"},\"id\":\"1173\",\"type\":\"Row\"},{\"attributes\":{\"margin\":[5,5,5,5],\"name\":\"DataFrame00398\",\"text\":\"&lt;table border=&quot;0&quot; class=&quot;dataframe panel-df&quot;&gt;\\n  &lt;thead&gt;\\n    &lt;tr&gt;\\n      &lt;th&gt;&lt;/th&gt;\\n      &lt;th colspan=&quot;3&quot; halign=&quot;left&quot;&gt;UNMAPPED&lt;/th&gt;\\n    &lt;/tr&gt;\\n    &lt;tr&gt;\\n      &lt;th&gt;&lt;/th&gt;\\n      &lt;th&gt;mean&lt;/th&gt;\\n      &lt;th&gt;min&lt;/th&gt;\\n      &lt;th&gt;max&lt;/th&gt;\\n    &lt;/tr&gt;\\n    &lt;tr&gt;\\n      &lt;th&gt;Species&lt;/th&gt;\\n      &lt;th&gt;&lt;/th&gt;\\n      &lt;th&gt;&lt;/th&gt;\\n      &lt;th&gt;&lt;/th&gt;\\n    &lt;/tr&gt;\\n  &lt;/thead&gt;\\n  &lt;tbody&gt;\\n    &lt;tr&gt;\\n      &lt;th&gt;O. barthii&lt;/th&gt;\\n      &lt;td&gt;5.51&lt;/td&gt;\\n      &lt;td&gt;5.24&lt;/td&gt;\\n      &lt;td&gt;5.78&lt;/td&gt;\\n    &lt;/tr&gt;\\n    &lt;tr&gt;\\n      &lt;th&gt;O. glaberrima&lt;/th&gt;\\n      &lt;td&gt;0.00&lt;/td&gt;\\n      &lt;td&gt;0.00&lt;/td&gt;\\n      &lt;td&gt;0.00&lt;/td&gt;\\n    &lt;/tr&gt;\\n  &lt;/tbody&gt;\\n&lt;/table&gt;\",\"width\":400},\"id\":\"1179\",\"type\":\"panel.models.markup.HTML\"},{\"attributes\":{\"margin\":[5,5,5,5],\"name\":\"Str00406\"},\"id\":\"1185\",\"type\":\"panel.models.markup.HTML\"},{\"attributes\":{\"css_classes\":[\"markdown\"],\"margin\":[5,5,5,5],\"name\":\"Markdown00400\",\"text\":\"&lt;p&gt;&lt;br /&gt;&lt;/p&gt;\\n&lt;ul&gt;\\n&lt;li&gt;min - max : 0.0 - 5.78 %&lt;/li&gt;\\n&lt;li&gt;mean : 3.67&lt;/li&gt;\\n&lt;/ul&gt;\"},\"id\":\"1178\",\"type\":\"panel.models.markup.HTML\"},{\"attributes\":{\"css_classes\":[\"markdown\"],\"margin\":[5,5,5,5],\"name\":\"Markdown00411\",\"text\":\"&lt;p&gt;&lt;br /&gt;&lt;hr&gt;&lt;br /&gt;&lt;/p&gt;\\n&lt;h3&gt;Reads mapped&lt;/h3&gt;\"},\"id\":\"1168\",\"type\":\"panel.models.markup.HTML\"},{\"attributes\":{\"background\":\"WhiteSmoke\",\"children\":[{\"id\":\"1166\"},{\"id\":\"1167\"},{\"id\":\"1168\"},{\"id\":\"1169\"},{\"id\":\"1172\"},{\"id\":\"1173\"},{\"id\":\"1176\"},{\"id\":\"1177\"},{\"id\":\"1180\"},{\"id\":\"1181\"},{\"id\":\"1184\"}],\"margin\":[0,0,0,0],\"name\":\"Column00419\",\"sizing_mode\":\"stretch_both\",\"width\":800},\"id\":\"1165\",\"type\":\"Column\"},{\"attributes\":{\"css_classes\":[\"markdown\"],\"margin\":[5,5,5,5],\"name\":\"Markdown00415\",\"text\":\"&lt;p&gt;&lt;br /&gt;&lt;hr&gt;&lt;br /&gt;&lt;/p&gt;\\n&lt;h3&gt;Reads unmapped&lt;/h3&gt;\"},\"id\":\"1176\",\"type\":\"panel.models.markup.HTML\"},{\"attributes\":{\"css_classes\":[\"markdown\"],\"margin\":[5,5,5,5],\"name\":\"Markdown00413\",\"text\":\"&lt;p&gt;&lt;br /&gt;&lt;hr&gt;&lt;br /&gt;&lt;/p&gt;\\n&lt;h3&gt;Reads mapped properly paired&lt;/h3&gt;\"},\"id\":\"1172\",\"type\":\"panel.models.markup.HTML\"},{\"attributes\":{\"children\":[{\"id\":\"1185\"}],\"margin\":[0,0,0,0],\"max_height\":400,\"min_width\":400,\"name\":\"Row00408\",\"width\":400},\"id\":\"1184\",\"type\":\"Row\"},{\"attributes\":{\"css_classes\":[\"markdown\"],\"margin\":[5,5,5,5],\"name\":\"Markdown00409\",\"text\":\"&lt;h1&gt;Some statistics about mapping step&lt;/h1&gt;\"},\"id\":\"1166\",\"type\":\"panel.models.markup.HTML\"},{\"attributes\":{\"client_comm_id\":\"4ec6049ca6e74d279843a2f5c01937db\",\"comm_id\":\"b993d647c5884f03ba5f17ffb6ec842d\",\"plot_id\":\"1165\"},\"id\":\"1186\",\"type\":\"panel.models.comm_manager.CommManager\"},{\"attributes\":{\"css_classes\":[\"markdown\"],\"margin\":[5,5,5,5],\"name\":\"Markdown00386\",\"text\":\"&lt;table&gt;\\n&lt;thead&gt;\\n&lt;tr&gt;\\n&lt;th align=&quot;left&quot;&gt;Samples by group&lt;/th&gt;\\n&lt;th align=&quot;center&quot;&gt;&lt;/th&gt;\\n&lt;/tr&gt;\\n&lt;/thead&gt;\\n&lt;tbody&gt;\\n&lt;tr&gt;\\n&lt;td align=&quot;left&quot;&gt;O. barthii :&lt;/td&gt;\\n&lt;td align=&quot;center&quot;&gt;2 samples&lt;/td&gt;\\n&lt;/tr&gt;\\n&lt;tr&gt;\\n&lt;td align=&quot;left&quot;&gt;O. glaberrima :&lt;/td&gt;\\n&lt;td align=&quot;center&quot;&gt;1 samples&lt;/td&gt;\\n&lt;/tr&gt;\\n&lt;/tbody&gt;\\n&lt;/table&gt;\"},\"id\":\"1167\",\"type\":\"panel.models.markup.HTML\"},{\"attributes\":{\"margin\":[0,20,0,0],\"options\":[\"AA\",\"AB\",\"DT\"],\"placeholder\":\"\",\"title\":\"Sample\"},\"id\":\"1183\",\"type\":\"MultiChoice\"},{\"attributes\":{\"margin\":[5,5,5,5],\"name\":\"DataFrame00388\",\"text\":\"&lt;table border=&quot;0&quot; class=&quot;dataframe panel-df&quot;&gt;\\n  &lt;thead&gt;\\n    &lt;tr&gt;\\n      &lt;th&gt;&lt;/th&gt;\\n      &lt;th colspan=&quot;3&quot; halign=&quot;left&quot;&gt;MAPPED&lt;/th&gt;\\n    &lt;/tr&gt;\\n    &lt;tr&gt;\\n      &lt;th&gt;&lt;/th&gt;\\n      &lt;th&gt;mean&lt;/th&gt;\\n      &lt;th&gt;min&lt;/th&gt;\\n      &lt;th&gt;max&lt;/th&gt;\\n    &lt;/tr&gt;\\n    &lt;tr&gt;\\n      &lt;th&gt;Species&lt;/th&gt;\\n      &lt;th&gt;&lt;/th&gt;\\n      &lt;th&gt;&lt;/th&gt;\\n      &lt;th&gt;&lt;/th&gt;\\n    &lt;/tr&gt;\\n  &lt;/thead&gt;\\n  &lt;tbody&gt;\\n    &lt;tr&gt;\\n      &lt;th&gt;O. barthii&lt;/th&gt;\\n      &lt;td&gt;86.85&lt;/td&gt;\\n      &lt;td&gt;86.35&lt;/td&gt;\\n      &lt;td&gt;87.35&lt;/td&gt;\\n    &lt;/tr&gt;\\n    &lt;tr&gt;\\n      &lt;th&gt;O. glaberrima&lt;/th&gt;\\n      &lt;td&gt;100.00&lt;/td&gt;\\n      &lt;td&gt;100.00&lt;/td&gt;\\n      &lt;td&gt;100.00&lt;/td&gt;\\n    &lt;/tr&gt;\\n  &lt;/tbody&gt;\\n&lt;/table&gt;\",\"width\":400},\"id\":\"1171\",\"type\":\"panel.models.markup.HTML\"},{\"attributes\":{\"margin\":[5,5,5,5],\"name\":\"DataFrame00393\",\"text\":\"&lt;table border=&quot;0&quot; class=&quot;dataframe panel-df&quot;&gt;\\n  &lt;thead&gt;\\n    &lt;tr&gt;\\n      &lt;th&gt;&lt;/th&gt;\\n      &lt;th colspan=&quot;3&quot; halign=&quot;left&quot;&gt;PAIRED&lt;/th&gt;\\n    &lt;/tr&gt;\\n    &lt;tr&gt;\\n      &lt;th&gt;&lt;/th&gt;\\n      &lt;th&gt;mean&lt;/th&gt;\\n      &lt;th&gt;min&lt;/th&gt;\\n      &lt;th&gt;max&lt;/th&gt;\\n    &lt;/tr&gt;\\n    &lt;tr&gt;\\n      &lt;th&gt;Species&lt;/th&gt;\\n      &lt;th&gt;&lt;/th&gt;\\n      &lt;th&gt;&lt;/th&gt;\\n      &lt;th&gt;&lt;/th&gt;\\n    &lt;/tr&gt;\\n  &lt;/thead&gt;\\n  &lt;tbody&gt;\\n    &lt;tr&gt;\\n      &lt;th&gt;O. barthii&lt;/th&gt;\\n      &lt;td&gt;53.09&lt;/td&gt;\\n      &lt;td&gt;50.99&lt;/td&gt;\\n      &lt;td&gt;55.19&lt;/td&gt;\\n    &lt;/tr&gt;\\n    &lt;tr&gt;\\n      &lt;th&gt;O. glaberrima&lt;/th&gt;\\n      &lt;td&gt;99.20&lt;/td&gt;\\n      &lt;td&gt;99.20&lt;/td&gt;\\n      &lt;td&gt;99.20&lt;/td&gt;\\n    &lt;/tr&gt;\\n  &lt;/tbody&gt;\\n&lt;/table&gt;\",\"width\":400},\"id\":\"1175\",\"type\":\"panel.models.markup.HTML\"},{\"attributes\":{\"margin\":[0,20,0,0],\"options\":[\"O. barthii\",\"O. glaberrima\"],\"placeholder\":\"\",\"title\":\"Group\"},\"id\":\"1182\",\"type\":\"MultiChoice\"},{\"attributes\":{\"children\":[{\"id\":\"1182\"},{\"id\":\"1183\"}],\"margin\":[0,0,0,0],\"name\":\"Row00403\"},\"id\":\"1181\",\"type\":\"Row\"},{\"attributes\":{\"css_classes\":[\"markdown\"],\"margin\":[5,5,5,5],\"name\":\"Markdown00390\",\"text\":\"&lt;p&gt;&lt;br /&gt;&lt;/p&gt;\\n&lt;ul&gt;\\n&lt;li&gt;min - max : 86.35 - 100.0 %&lt;/li&gt;\\n&lt;li&gt;mean : 91.23&lt;/li&gt;\\n&lt;/ul&gt;\"},\"id\":\"1170\",\"type\":\"panel.models.markup.HTML\"},{\"attributes\":{\"css_classes\":[\"markdown\"],\"margin\":[5,5,5,5],\"name\":\"Markdown00395\",\"text\":\"&lt;p&gt;&lt;br /&gt;&lt;/p&gt;\\n&lt;ul&gt;\\n&lt;li&gt;min - max : 50.99 - 99.2 %&lt;/li&gt;\\n&lt;li&gt;mean : 68.46&lt;/li&gt;\\n&lt;/ul&gt;\"},\"id\":\"1174\",\"type\":\"panel.models.markup.HTML\"},{\"attributes\":{\"height\":288,\"margin\":[5,5,5,5],\"name\":\"Matplotlib00417\",\"text\":\"&lt;img src=&quot;data:image/png;base64,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&quot; width=&quot;432px&quot; height=&quot;288px&quot; alt=&quot;&quot;&gt;&lt;/img&gt;\",\"width\":432},\"id\":\"1180\",\"type\":\"panel.models.markup.HTML\"},{\"attributes\":{\"children\":[{\"id\":\"1170\"},{\"id\":\"1171\"}],\"margin\":[0,0,0,0],\"name\":\"Row00392\"},\"id\":\"1169\",\"type\":\"Row\"}],\"root_ids\":[\"1165\",\"1186\"]},\"title\":\"Bokeh Application\",\"version\":\"2.3.3\"}};\n",
       "    var render_items = [{\"docid\":\"5980979d-138a-41de-920a-c357735c5e33\",\"root_ids\":[\"1165\"],\"roots\":{\"1165\":\"f4d8f6fd-4eb7-42b7-bf04-a2832b7535ff\"}}];\n",
       "    root.Bokeh.embed.embed_items_notebook(docs_json, render_items);\n",
       "  }\n",
       "  if (root.Bokeh !== undefined && root.Bokeh.Panel !== undefined) {\n",
       "    embed_document(root);\n",
       "  } else {\n",
       "    var attempts = 0;\n",
       "    var timer = setInterval(function(root) {\n",
       "      if (root.Bokeh !== undefined && root.Bokeh.Panel !== undefined) {\n",
       "        clearInterval(timer);\n",
       "        embed_document(root);\n",
       "      } else if (document.readyState == \"complete\") {\n",
       "        attempts++;\n",
       "        if (attempts > 100) {\n",
       "          clearInterval(timer);\n",
       "          console.log(\"Bokeh: ERROR: Unable to run BokehJS code because BokehJS library is missing\");\n",
       "        }\n",
       "      }\n",
       "    }, 10, root)\n",
       "  }\n",
       "})(window);</script>"
      ],
      "text/plain": [
       "Column(background='WhiteSmoke', sizing_mode='stretch_both', width=800)\n",
       "    [0] Markdown(str)\n",
       "    [1] Markdown(str)\n",
       "    [2] Markdown(str)\n",
       "    [3] Row\n",
       "        [0] Markdown(str)\n",
       "        [1] DataFrame(DataFrame, width=400)\n",
       "    [4] Markdown(str)\n",
       "    [5] Row\n",
       "        [0] Markdown(str)\n",
       "        [1] DataFrame(DataFrame, width=400)\n",
       "    [6] Markdown(str)\n",
       "    [7] Row\n",
       "        [0] Markdown(str)\n",
       "        [1] DataFrame(DataFrame, width=400)\n",
       "    [8] Matplotlib(Figure)\n",
       "    [9] Row\n",
       "        [0] MultiChoice(margin=(0, 20, 0, 0), name='Group', options=['O. barthii', ...])\n",
       "        [1] MultiChoice(margin=(0, 20, 0, 0), name='Sample', options=['AA', 'AB', 'DT'])\n",
       "    [10] ParamFunction(function, max_height=400, width=400)"
      ]
     },
     "metadata": {
      "application/vnd.holoviews_exec.v0+json": {
       "id": "1165"
      }
     },
     "output_type": "display_data"
    },
    {
     "data": {
      "text/html": [
       "<img src onerror=\"var cell = this.closest('.jp-CodeCell');var editor = cell.querySelector('.jp-Editor');editor.style.background='LightBlue';this.parentNode.removeChild(this)\">"
      ],
      "text/plain": [
       "<IPython.core.display.HTML object>"
      ]
     },
     "metadata": {},
     "output_type": "display_data"
    }
   ],
   "source": [
    "stat_dir = output_mapping_dir + \"/stat/\"\n",
    "make_dir(stat_dir)\n",
    "\n",
    "\n",
    "logger.info(f\"MAPPING STAT :\")\n",
    "logger.info(f\"\\t\\tMapping stat directory : {stat_dir}\")\n",
    "\n",
    "for file_name in os.listdir(output_mapping_dir):\n",
    "    if \".bam\" in file_name:\n",
    "        samtools_flagstat(os.path.join(output_mapping_dir,file_name), stat_dir,logger)\n",
    "\n",
    "#### __Compiling stats into a unique tabulated file__\n",
    "merge_flagstat(output_dir=stat_dir, logger=logger)\n",
    "#add_variable(file,'dash_mappingStat',1)\n",
    "\n",
    "### Dashboard\n",
    "stat_file = stat_dir + \"all_flagstat.csv\"\n",
    "dashboard_flagstat(stat_file,df_group)\n",
    "\n",
    "bgc('LightBlue')"
   ]
  },
  {
   "cell_type": "markdown",
   "metadata": {},
   "source": [
    "[<img src=\"Images/up-arrow.png\" alt=\"Top\" width=2% align=\"right\">](#home \"Go back to the top\")\n",
    "\n",
    "\n",
    "### <span style=\"color: #919395\">3 - Assembly of the individuals' reads that do not map (properly) on the reference genome <a class=\"anchor\" id=\"assembly\"></a></span>\n",
    "\n",
    "#### __Extracting unmapped reads with `samtools view`__ \n",
    "\n",
    "Options de samtools view : -b -h -F -@ -o"
   ]
  },
  {
   "cell_type": "code",
   "execution_count": 11,
   "metadata": {},
   "outputs": [
    {
     "data": {},
     "metadata": {},
     "output_type": "display_data"
    },
    {
     "data": {
      "application/vnd.holoviews_exec.v0+json": "",
      "text/html": [
       "<div id='1187'>\n",
       "\n",
       "\n",
       "\n",
       "\n",
       "\n",
       "  <div class=\"bk-root\" id=\"e4339fbc-2971-4974-9436-67ed80de5e16\" data-root-id=\"1187\"></div>\n",
       "</div>\n",
       "<script type=\"application/javascript\">(function(root) {\n",
       "  function embed_document(root) {\n",
       "    var docs_json = {\"b6b4c0a6-9e79-42b5-bb68-5baaf0ac8baa\":{\"defs\":[],\"roots\":{\"references\":[{\"attributes\":{\"css_classes\":[\"alert\",\"alert-warning\",\"markdown\"],\"margin\":[0,0,25,0],\"name\":\"Alert00422\",\"sizing_mode\":\"stretch_width\",\"text\":\"&lt;h3&gt;warning&lt;/h3&gt;\\n&lt;hr&gt;\\n&lt;p&gt;Directory /home/christine/Documents/These/frangiPANeGIT2/frangiPANe_PANRice/02-assembly_unmapped_reads/ already existed&lt;/p&gt;\"},\"id\":\"1187\",\"type\":\"panel.models.markup.HTML\"},{\"attributes\":{\"client_comm_id\":\"522164cb242c4249b1ad88cf857eda56\",\"comm_id\":\"1349c45b46514243b1a323ca996e5f36\",\"plot_id\":\"1187\"},\"id\":\"1188\",\"type\":\"panel.models.comm_manager.CommManager\"}],\"root_ids\":[\"1187\",\"1188\"]},\"title\":\"Bokeh Application\",\"version\":\"2.3.3\"}};\n",
       "    var render_items = [{\"docid\":\"b6b4c0a6-9e79-42b5-bb68-5baaf0ac8baa\",\"root_ids\":[\"1187\"],\"roots\":{\"1187\":\"e4339fbc-2971-4974-9436-67ed80de5e16\"}}];\n",
       "    root.Bokeh.embed.embed_items_notebook(docs_json, render_items);\n",
       "  }\n",
       "  if (root.Bokeh !== undefined && root.Bokeh.Panel !== undefined) {\n",
       "    embed_document(root);\n",
       "  } else {\n",
       "    var attempts = 0;\n",
       "    var timer = setInterval(function(root) {\n",
       "      if (root.Bokeh !== undefined && root.Bokeh.Panel !== undefined) {\n",
       "        clearInterval(timer);\n",
       "        embed_document(root);\n",
       "      } else if (document.readyState == \"complete\") {\n",
       "        attempts++;\n",
       "        if (attempts > 100) {\n",
       "          clearInterval(timer);\n",
       "          console.log(\"Bokeh: ERROR: Unable to run BokehJS code because BokehJS library is missing\");\n",
       "        }\n",
       "      }\n",
       "    }, 10, root)\n",
       "  }\n",
       "})(window);</script>"
      ],
      "text/plain": [
       "Alert(str, alert_type='warning', css_classes=['alert', 'alert-warning']...], margin=(0, 0, 25, 0), sizing_mode='stretch_width')"
      ]
     },
     "metadata": {
      "application/vnd.holoviews_exec.v0+json": {
       "id": "1187"
      }
     },
     "output_type": "display_data"
    },
    {
     "data": {},
     "metadata": {},
     "output_type": "display_data"
    },
    {
     "data": {
      "application/vnd.holoviews_exec.v0+json": "",
      "text/html": [
       "<div id='1189'>\n",
       "\n",
       "\n",
       "\n",
       "\n",
       "\n",
       "  <div class=\"bk-root\" id=\"174f3181-d4fc-4cb3-ba9f-46e01cebe7e9\" data-root-id=\"1189\"></div>\n",
       "</div>\n",
       "<script type=\"application/javascript\">(function(root) {\n",
       "  function embed_document(root) {\n",
       "    var docs_json = {\"f3911902-c994-4fa8-8f42-cda9d8b224bc\":{\"defs\":[],\"roots\":{\"references\":[{\"attributes\":{\"css_classes\":[\"alert\",\"alert-warning\",\"markdown\"],\"margin\":[0,0,25,0],\"name\":\"Alert00426\",\"sizing_mode\":\"stretch_width\",\"text\":\"&lt;h3&gt;warning&lt;/h3&gt;\\n&lt;hr&gt;\\n&lt;p&gt;Directory /home/christine/Documents/These/frangiPANeGIT2/frangiPANe_PANRice/02-assembly_unmapped_reads/bam_F0x2/ already existed&lt;/p&gt;\"},\"id\":\"1189\",\"type\":\"panel.models.markup.HTML\"},{\"attributes\":{\"client_comm_id\":\"de1ea99d7cf64c5a947fd67bddf15415\",\"comm_id\":\"779bbf1e1123498bb94b77dd8ef21449\",\"plot_id\":\"1189\"},\"id\":\"1190\",\"type\":\"panel.models.comm_manager.CommManager\"}],\"root_ids\":[\"1189\",\"1190\"]},\"title\":\"Bokeh Application\",\"version\":\"2.3.3\"}};\n",
       "    var render_items = [{\"docid\":\"f3911902-c994-4fa8-8f42-cda9d8b224bc\",\"root_ids\":[\"1189\"],\"roots\":{\"1189\":\"174f3181-d4fc-4cb3-ba9f-46e01cebe7e9\"}}];\n",
       "    root.Bokeh.embed.embed_items_notebook(docs_json, render_items);\n",
       "  }\n",
       "  if (root.Bokeh !== undefined && root.Bokeh.Panel !== undefined) {\n",
       "    embed_document(root);\n",
       "  } else {\n",
       "    var attempts = 0;\n",
       "    var timer = setInterval(function(root) {\n",
       "      if (root.Bokeh !== undefined && root.Bokeh.Panel !== undefined) {\n",
       "        clearInterval(timer);\n",
       "        embed_document(root);\n",
       "      } else if (document.readyState == \"complete\") {\n",
       "        attempts++;\n",
       "        if (attempts > 100) {\n",
       "          clearInterval(timer);\n",
       "          console.log(\"Bokeh: ERROR: Unable to run BokehJS code because BokehJS library is missing\");\n",
       "        }\n",
       "      }\n",
       "    }, 10, root)\n",
       "  }\n",
       "})(window);</script>"
      ],
      "text/plain": [
       "Alert(str, alert_type='warning', css_classes=['alert', 'alert-warning']...], margin=(0, 0, 25, 0), sizing_mode='stretch_width')"
      ]
     },
     "metadata": {
      "application/vnd.holoviews_exec.v0+json": {
       "id": "1189"
      }
     },
     "output_type": "display_data"
    },
    {
     "data": {},
     "metadata": {},
     "output_type": "display_data"
    },
    {
     "data": {
      "application/vnd.holoviews_exec.v0+json": "",
      "text/html": [
       "<div id='1191'>\n",
       "\n",
       "\n",
       "\n",
       "\n",
       "\n",
       "  <div class=\"bk-root\" id=\"38dbf8d2-611b-4369-adcb-151f5bc6abf6\" data-root-id=\"1191\"></div>\n",
       "</div>\n",
       "<script type=\"application/javascript\">(function(root) {\n",
       "  function embed_document(root) {\n",
       "    var docs_json = {\"cd47460c-0697-4d54-ae96-d8db4474ddf5\":{\"defs\":[],\"roots\":{\"references\":[{\"attributes\":{\"client_comm_id\":\"87aa9a827bd44a1cb94908a86560f61a\",\"comm_id\":\"803d21f0317044fda50896340497e8ef\",\"plot_id\":\"1191\"},\"id\":\"1192\",\"type\":\"panel.models.comm_manager.CommManager\"},{\"attributes\":{\"css_classes\":[\"alert\",\"alert-warning\",\"markdown\"],\"margin\":[0,0,25,0],\"name\":\"Alert00430\",\"sizing_mode\":\"stretch_width\",\"text\":\"&lt;p&gt;File /home/christine/Documents/These/frangiPANeGIT2/frangiPANe_PANRice/02-assembly_unmapped_reads/bam_F0x2/AA_F0x2.bam already existed&lt;/p&gt;\"},\"id\":\"1191\",\"type\":\"panel.models.markup.HTML\"}],\"root_ids\":[\"1191\",\"1192\"]},\"title\":\"Bokeh Application\",\"version\":\"2.3.3\"}};\n",
       "    var render_items = [{\"docid\":\"cd47460c-0697-4d54-ae96-d8db4474ddf5\",\"root_ids\":[\"1191\"],\"roots\":{\"1191\":\"38dbf8d2-611b-4369-adcb-151f5bc6abf6\"}}];\n",
       "    root.Bokeh.embed.embed_items_notebook(docs_json, render_items);\n",
       "  }\n",
       "  if (root.Bokeh !== undefined && root.Bokeh.Panel !== undefined) {\n",
       "    embed_document(root);\n",
       "  } else {\n",
       "    var attempts = 0;\n",
       "    var timer = setInterval(function(root) {\n",
       "      if (root.Bokeh !== undefined && root.Bokeh.Panel !== undefined) {\n",
       "        clearInterval(timer);\n",
       "        embed_document(root);\n",
       "      } else if (document.readyState == \"complete\") {\n",
       "        attempts++;\n",
       "        if (attempts > 100) {\n",
       "          clearInterval(timer);\n",
       "          console.log(\"Bokeh: ERROR: Unable to run BokehJS code because BokehJS library is missing\");\n",
       "        }\n",
       "      }\n",
       "    }, 10, root)\n",
       "  }\n",
       "})(window);</script>"
      ],
      "text/plain": [
       "Alert(str, alert_type='warning', css_classes=['alert', 'alert-warning']...], margin=(0, 0, 25, 0), sizing_mode='stretch_width')"
      ]
     },
     "metadata": {
      "application/vnd.holoviews_exec.v0+json": {
       "id": "1191"
      }
     },
     "output_type": "display_data"
    },
    {
     "data": {},
     "metadata": {},
     "output_type": "display_data"
    },
    {
     "data": {
      "application/vnd.holoviews_exec.v0+json": "",
      "text/html": [
       "<div id='1193'>\n",
       "\n",
       "\n",
       "\n",
       "\n",
       "\n",
       "  <div class=\"bk-root\" id=\"a2bc8c24-a37e-4ad9-8fa3-b4d1e4a32794\" data-root-id=\"1193\"></div>\n",
       "</div>\n",
       "<script type=\"application/javascript\">(function(root) {\n",
       "  function embed_document(root) {\n",
       "    var docs_json = {\"e5bd8d5b-44b3-4e8b-ba32-7b279bb951e2\":{\"defs\":[],\"roots\":{\"references\":[{\"attributes\":{\"client_comm_id\":\"e619b057456744c5937f5c66a801a3d8\",\"comm_id\":\"efff1c0a20bd4dee9d5ea8c821267720\",\"plot_id\":\"1193\"},\"id\":\"1194\",\"type\":\"panel.models.comm_manager.CommManager\"},{\"attributes\":{\"css_classes\":[\"alert\",\"alert-warning\",\"markdown\"],\"margin\":[0,0,25,0],\"name\":\"Alert00434\",\"sizing_mode\":\"stretch_width\",\"text\":\"&lt;p&gt;File /home/christine/Documents/These/frangiPANeGIT2/frangiPANe_PANRice/02-assembly_unmapped_reads/bam_F0x2/AB_F0x2.bam already existed&lt;/p&gt;\"},\"id\":\"1193\",\"type\":\"panel.models.markup.HTML\"}],\"root_ids\":[\"1193\",\"1194\"]},\"title\":\"Bokeh Application\",\"version\":\"2.3.3\"}};\n",
       "    var render_items = [{\"docid\":\"e5bd8d5b-44b3-4e8b-ba32-7b279bb951e2\",\"root_ids\":[\"1193\"],\"roots\":{\"1193\":\"a2bc8c24-a37e-4ad9-8fa3-b4d1e4a32794\"}}];\n",
       "    root.Bokeh.embed.embed_items_notebook(docs_json, render_items);\n",
       "  }\n",
       "  if (root.Bokeh !== undefined && root.Bokeh.Panel !== undefined) {\n",
       "    embed_document(root);\n",
       "  } else {\n",
       "    var attempts = 0;\n",
       "    var timer = setInterval(function(root) {\n",
       "      if (root.Bokeh !== undefined && root.Bokeh.Panel !== undefined) {\n",
       "        clearInterval(timer);\n",
       "        embed_document(root);\n",
       "      } else if (document.readyState == \"complete\") {\n",
       "        attempts++;\n",
       "        if (attempts > 100) {\n",
       "          clearInterval(timer);\n",
       "          console.log(\"Bokeh: ERROR: Unable to run BokehJS code because BokehJS library is missing\");\n",
       "        }\n",
       "      }\n",
       "    }, 10, root)\n",
       "  }\n",
       "})(window);</script>"
      ],
      "text/plain": [
       "Alert(str, alert_type='warning', css_classes=['alert', 'alert-warning']...], margin=(0, 0, 25, 0), sizing_mode='stretch_width')"
      ]
     },
     "metadata": {
      "application/vnd.holoviews_exec.v0+json": {
       "id": "1193"
      }
     },
     "output_type": "display_data"
    },
    {
     "data": {},
     "metadata": {},
     "output_type": "display_data"
    },
    {
     "data": {
      "application/vnd.holoviews_exec.v0+json": "",
      "text/html": [
       "<div id='1195'>\n",
       "\n",
       "\n",
       "\n",
       "\n",
       "\n",
       "  <div class=\"bk-root\" id=\"5bfd6b3e-185f-4842-8af9-91649ed3944e\" data-root-id=\"1195\"></div>\n",
       "</div>\n",
       "<script type=\"application/javascript\">(function(root) {\n",
       "  function embed_document(root) {\n",
       "    var docs_json = {\"6e9e205b-96ff-4962-b31f-04f28153c462\":{\"defs\":[],\"roots\":{\"references\":[{\"attributes\":{\"css_classes\":[\"alert\",\"alert-warning\",\"markdown\"],\"margin\":[0,0,25,0],\"name\":\"Alert00438\",\"sizing_mode\":\"stretch_width\",\"text\":\"&lt;p&gt;File /home/christine/Documents/These/frangiPANeGIT2/frangiPANe_PANRice/02-assembly_unmapped_reads/bam_F0x2/DT_F0x2.bam already existed&lt;/p&gt;\"},\"id\":\"1195\",\"type\":\"panel.models.markup.HTML\"},{\"attributes\":{\"client_comm_id\":\"6d92675c9e5b479593c9024cee18655f\",\"comm_id\":\"636c119580b24a3594bbfdf2c53a58cd\",\"plot_id\":\"1195\"},\"id\":\"1196\",\"type\":\"panel.models.comm_manager.CommManager\"}],\"root_ids\":[\"1195\",\"1196\"]},\"title\":\"Bokeh Application\",\"version\":\"2.3.3\"}};\n",
       "    var render_items = [{\"docid\":\"6e9e205b-96ff-4962-b31f-04f28153c462\",\"root_ids\":[\"1195\"],\"roots\":{\"1195\":\"5bfd6b3e-185f-4842-8af9-91649ed3944e\"}}];\n",
       "    root.Bokeh.embed.embed_items_notebook(docs_json, render_items);\n",
       "  }\n",
       "  if (root.Bokeh !== undefined && root.Bokeh.Panel !== undefined) {\n",
       "    embed_document(root);\n",
       "  } else {\n",
       "    var attempts = 0;\n",
       "    var timer = setInterval(function(root) {\n",
       "      if (root.Bokeh !== undefined && root.Bokeh.Panel !== undefined) {\n",
       "        clearInterval(timer);\n",
       "        embed_document(root);\n",
       "      } else if (document.readyState == \"complete\") {\n",
       "        attempts++;\n",
       "        if (attempts > 100) {\n",
       "          clearInterval(timer);\n",
       "          console.log(\"Bokeh: ERROR: Unable to run BokehJS code because BokehJS library is missing\");\n",
       "        }\n",
       "      }\n",
       "    }, 10, root)\n",
       "  }\n",
       "})(window);</script>"
      ],
      "text/plain": [
       "Alert(str, alert_type='warning', css_classes=['alert', 'alert-warning']...], margin=(0, 0, 25, 0), sizing_mode='stretch_width')"
      ]
     },
     "metadata": {
      "application/vnd.holoviews_exec.v0+json": {
       "id": "1195"
      }
     },
     "output_type": "display_data"
    },
    {
     "data": {},
     "metadata": {},
     "output_type": "display_data"
    },
    {
     "data": {
      "application/vnd.holoviews_exec.v0+json": "",
      "text/html": [
       "<div id='1197'>\n",
       "\n",
       "\n",
       "\n",
       "\n",
       "\n",
       "  <div class=\"bk-root\" id=\"52eaecd4-8e9e-43cf-b762-84839edabe9f\" data-root-id=\"1197\"></div>\n",
       "</div>\n",
       "<script type=\"application/javascript\">(function(root) {\n",
       "  function embed_document(root) {\n",
       "    var docs_json = {\"8c6250df-cf12-4a3a-842e-39d8e25229f5\":{\"defs\":[],\"roots\":{\"references\":[{\"attributes\":{\"client_comm_id\":\"a5a043814b214fdd9dbdb8023ffceb4e\",\"comm_id\":\"78cb695b873843ebbeb42fe0beda5567\",\"plot_id\":\"1197\"},\"id\":\"1198\",\"type\":\"panel.models.comm_manager.CommManager\"},{\"attributes\":{\"css_classes\":[\"alert\",\"alert-success\",\"markdown\"],\"margin\":[0,0,25,0],\"name\":\"Alert00442\",\"sizing_mode\":\"stretch_width\",\"text\":\"&lt;h3&gt;Extracting unmapped reads&lt;/h3&gt;\\n&lt;hr&gt;\\n\\n&lt;ul&gt;\\n&lt;li&gt;BAM DIR : /home/christine/Documents/These/frangiPANeGIT2/frangiPANe_PANRice/01-mapping_against_reference/&lt;/li&gt;\\n&lt;li&gt;FILTERED BAM DIR : /home/christine/Documents/These/frangiPANeGIT2/frangiPANe_PANRice/02-assembly_unmapped_reads/bam_F0x2/&lt;/li&gt;\\n&lt;/ul&gt;\"},\"id\":\"1197\",\"type\":\"panel.models.markup.HTML\"}],\"root_ids\":[\"1197\",\"1198\"]},\"title\":\"Bokeh Application\",\"version\":\"2.3.3\"}};\n",
       "    var render_items = [{\"docid\":\"8c6250df-cf12-4a3a-842e-39d8e25229f5\",\"root_ids\":[\"1197\"],\"roots\":{\"1197\":\"52eaecd4-8e9e-43cf-b762-84839edabe9f\"}}];\n",
       "    root.Bokeh.embed.embed_items_notebook(docs_json, render_items);\n",
       "  }\n",
       "  if (root.Bokeh !== undefined && root.Bokeh.Panel !== undefined) {\n",
       "    embed_document(root);\n",
       "  } else {\n",
       "    var attempts = 0;\n",
       "    var timer = setInterval(function(root) {\n",
       "      if (root.Bokeh !== undefined && root.Bokeh.Panel !== undefined) {\n",
       "        clearInterval(timer);\n",
       "        embed_document(root);\n",
       "      } else if (document.readyState == \"complete\") {\n",
       "        attempts++;\n",
       "        if (attempts > 100) {\n",
       "          clearInterval(timer);\n",
       "          console.log(\"Bokeh: ERROR: Unable to run BokehJS code because BokehJS library is missing\");\n",
       "        }\n",
       "      }\n",
       "    }, 10, root)\n",
       "  }\n",
       "})(window);</script>"
      ],
      "text/plain": [
       "Alert(str, alert_type='success', css_classes=['alert', 'alert-success']...], margin=(0, 0, 25, 0), sizing_mode='stretch_width')"
      ]
     },
     "metadata": {
      "application/vnd.holoviews_exec.v0+json": {
       "id": "1197"
      }
     },
     "output_type": "display_data"
    },
    {
     "data": {
      "text/html": [
       "<img src onerror=\"var cell = this.closest('.jp-CodeCell');var editor = cell.querySelector('.jp-Editor');editor.style.background='LightBlue';this.parentNode.removeChild(this)\">"
      ],
      "text/plain": [
       "<IPython.core.display.HTML object>"
      ]
     },
     "metadata": {},
     "output_type": "display_data"
    }
   ],
   "source": [
    "# Creating assembly directory\n",
    "output_assembly_dir = output_dir + \"/02-assembly_unmapped_reads/\"\n",
    "make_dir(output_assembly_dir)\n",
    "\n",
    "output_filtered_bam = output_assembly_dir + \"bam_F0x2/\"\n",
    "make_dir(output_filtered_bam)\n",
    "\n",
    "\n",
    "# Extracted unmapped reads\n",
    "for id in id_dict : \n",
    "    bam_to_F0x2_bam(output_mapping_dir,id, cpu, output_filtered_bam, logger)\n",
    "\n",
    "text = f\"\"\"\n",
    "    ### Extracting unmapped reads\n",
    "    \n",
    "    <hr>\n",
    "\n",
    "    * BAM DIR : {output_mapping_dir}\n",
    "    * FILTERED BAM DIR : {output_filtered_bam}\n",
    "    \"\"\"\n",
    "\n",
    "display_alert(text, \"success\")\n",
    "\n",
    "bgc('LightBlue')"
   ]
  },
  {
   "cell_type": "markdown",
   "metadata": {},
   "source": [
    "#### __Assembly step 1 : ABYSS test to choose khmer value__"
   ]
  },
  {
   "cell_type": "markdown",
   "metadata": {
    "tags": []
   },
   "source": [
    "#### _Choosing optimal k_\n"
   ]
  },
  {
   "cell_type": "code",
   "execution_count": 15,
   "metadata": {},
   "outputs": [
    {
     "data": {},
     "metadata": {},
     "output_type": "display_data"
    },
    {
     "data": {
      "application/vnd.holoviews_exec.v0+json": "",
      "text/html": [
       "<div id='1119'>\n",
       "\n",
       "\n",
       "\n",
       "\n",
       "\n",
       "  <div class=\"bk-root\" id=\"c0ef2a00-0972-47e2-b90a-2a46369e5117\" data-root-id=\"1119\"></div>\n",
       "</div>\n",
       "<script type=\"application/javascript\">(function(root) {\n",
       "  function embed_document(root) {\n",
       "    var docs_json = {\"f81a4bcd-2ec9-4347-a2b9-d38d6df9bac6\":{\"defs\":[],\"roots\":{\"references\":[{\"attributes\":{\"css_classes\":[\"markdown\"],\"margin\":[5,5,5,5],\"name\":\"Markdown00303\",\"text\":\"&lt;h1&gt;INPUT FORM&lt;/h1&gt;\"},\"id\":\"1120\",\"type\":\"panel.models.markup.HTML\"},{\"attributes\":{\"children\":[{\"id\":\"1122\"},{\"id\":\"1125\"},{\"id\":\"1126\"},{\"id\":\"1127\"},{\"id\":\"1130\"}],\"margin\":[0,0,0,0],\"min_width\":800,\"name\":\"Column00302\",\"width\":800},\"id\":\"1121\",\"type\":\"Column\"},{\"attributes\":{\"css_classes\":[\"alert\",\"alert-warning\",\"markdown\"],\"height\":200,\"margin\":[0,0,25,0],\"name\":\"Alert00292\",\"sizing_mode\":\"stretch_width\",\"text\":\"&lt;p&gt;No filled&lt;/p&gt;\"},\"id\":\"1130\",\"type\":\"panel.models.markup.HTML\"},{\"attributes\":{\"high\":10000,\"low\":100,\"margin\":[5,10,5,10],\"mode\":\"int\",\"placeholder\":\"0\",\"step\":100,\"title\":\"Minimal length to filter\",\"value\":300,\"value_throttled\":300},\"id\":\"1126\",\"type\":\"Spinner\"},{\"attributes\":{\"button_type\":\"primary\",\"icon\":null,\"label\":\"INIT\",\"margin\":[5,10,5,10],\"min_width\":100,\"subscribed_events\":[\"button_click\"],\"width\":100},\"id\":\"1129\",\"type\":\"Button\"},{\"attributes\":{\"client_comm_id\":\"b72216ce5c88473a8def24c0ff3bc6ef\",\"comm_id\":\"4a01aa1a9f014fa191c09923d2901e46\",\"plot_id\":\"1119\"},\"id\":\"1131\",\"type\":\"panel.models.comm_manager.CommManager\"},{\"attributes\":{\"children\":[{\"id\":\"1123\"},{\"id\":\"1124\"}],\"margin\":[0,0,0,0],\"name\":\"Row00301\"},\"id\":\"1122\",\"type\":\"Row\"},{\"attributes\":{\"high\":10,\"low\":1,\"margin\":[5,10,5,10],\"mode\":\"int\",\"placeholder\":\"0\",\"title\":\"Step\",\"value\":4,\"value_throttled\":4},\"id\":\"1124\",\"type\":\"Spinner\"},{\"attributes\":{\"children\":[{\"id\":\"1128\"},{\"id\":\"1129\"}],\"margin\":[0,0,0,0],\"name\":\"Row00300\"},\"id\":\"1127\",\"type\":\"Row\"},{\"attributes\":{\"background\":\"#E3ECF1\",\"children\":[{\"id\":\"1120\"},{\"id\":\"1121\"}],\"css_classes\":[\"panel-widget-box\"],\"margin\":[5,5,5,5],\"name\":\"WidgetBox00305\"},\"id\":\"1119\",\"type\":\"Column\"},{\"attributes\":{\"margin\":[5,10,5,10],\"options\":[\"AA\",\"AB\",\"DT\"],\"title\":\"Accession\",\"value\":[\"AA\",\"AB\"]},\"id\":\"1125\",\"type\":\"MultiSelect\"},{\"attributes\":{\"button_type\":\"primary\",\"icon\":null,\"label\":\"SAVE\",\"margin\":[5,10,5,10],\"min_width\":100,\"subscribed_events\":[\"button_click\"],\"width\":100},\"id\":\"1128\",\"type\":\"Button\"},{\"attributes\":{\"end\":92,\"margin\":[5,10,5,10],\"start\":24,\"step\":4,\"title\":\"K-mer length\",\"value\":[64,68]},\"id\":\"1123\",\"type\":\"RangeSlider\"}],\"root_ids\":[\"1119\",\"1131\"]},\"title\":\"Bokeh Application\",\"version\":\"2.3.3\"}};\n",
       "    var render_items = [{\"docid\":\"f81a4bcd-2ec9-4347-a2b9-d38d6df9bac6\",\"root_ids\":[\"1119\"],\"roots\":{\"1119\":\"c0ef2a00-0972-47e2-b90a-2a46369e5117\"}}];\n",
       "    root.Bokeh.embed.embed_items_notebook(docs_json, render_items);\n",
       "  }\n",
       "  if (root.Bokeh !== undefined && root.Bokeh.Panel !== undefined) {\n",
       "    embed_document(root);\n",
       "  } else {\n",
       "    var attempts = 0;\n",
       "    var timer = setInterval(function(root) {\n",
       "      if (root.Bokeh !== undefined && root.Bokeh.Panel !== undefined) {\n",
       "        clearInterval(timer);\n",
       "        embed_document(root);\n",
       "      } else if (document.readyState == \"complete\") {\n",
       "        attempts++;\n",
       "        if (attempts > 100) {\n",
       "          clearInterval(timer);\n",
       "          console.log(\"Bokeh: ERROR: Unable to run BokehJS code because BokehJS library is missing\");\n",
       "        }\n",
       "      }\n",
       "    }, 10, root)\n",
       "  }\n",
       "})(window);</script>"
      ],
      "text/plain": [
       "WidgetBox(background='#E3ECF1')\n",
       "    [0] Markdown(str)\n",
       "    [1] Column(width=800)\n",
       "        [0] Row\n",
       "            [0] RangeSlider(end=92, name='K-mer length', start=24, step=4, value=(64, 68))\n",
       "            [1] IntInput(end=10, name='Step', start=1, value=4)\n",
       "        [1] MultiSelect(name='Accession', options=['AA', 'AB', 'DT'], value=['AA', 'AB'])\n",
       "        [2] IntInput(end=10000, name='Minimal length t..., start=100, step=100, value=300)\n",
       "        [3] Row\n",
       "            [0] Button(button_type='primary', name='SAVE', width=100)\n",
       "            [1] Button(button_type='primary', name='INIT', width=100)\n",
       "        [4] Alert(str, alert_type='warning', css_classes=['alert', 'alert-warning']...], height=200, margin=(0, 0, 25, 0), sizing_mode='stretch_width')"
      ]
     },
     "metadata": {
      "application/vnd.holoviews_exec.v0+json": {
       "id": "1119"
      }
     },
     "output_type": "display_data"
    },
    {
     "data": {
      "text/html": [
       "<img src onerror=\"var cell = this.closest('.jp-CodeCell');var editor = cell.querySelector('.jp-Editor');editor.style.background='LightBlue';this.parentNode.removeChild(this)\">"
      ],
      "text/plain": [
       "<IPython.core.display.HTML object>"
      ]
     },
     "metadata": {},
     "output_type": "display_data"
    }
   ],
   "source": [
    "k,step,accession,length = box_config_abyss(df_group)\n",
    "\n",
    "bgc('LightBlue')"
   ]
  },
  {
   "cell_type": "markdown",
   "metadata": {},
   "source": [
    "##### Execute Abyss with several k"
   ]
  },
  {
   "cell_type": "code",
   "execution_count": 69,
   "metadata": {
    "scrolled": true
   },
   "outputs": [
    {
     "data": {},
     "metadata": {},
     "output_type": "display_data"
    },
    {
     "data": {
      "application/vnd.holoviews_exec.v0+json": "",
      "text/html": [
       "<div id='1780'>\n",
       "\n",
       "\n",
       "\n",
       "\n",
       "\n",
       "  <div class=\"bk-root\" id=\"1f01239a-6c15-46f2-9fe2-d231438e27a1\" data-root-id=\"1780\"></div>\n",
       "</div>\n",
       "<script type=\"application/javascript\">(function(root) {\n",
       "  function embed_document(root) {\n",
       "    var docs_json = {\"12c27ede-49b4-4da1-bcb7-996fd4909718\":{\"defs\":[],\"roots\":{\"references\":[{\"attributes\":{\"css_classes\":[\"alert\",\"alert-warning\",\"markdown\"],\"margin\":[0,0,25,0],\"name\":\"Alert01514\",\"sizing_mode\":\"stretch_width\",\"text\":\"&lt;h3&gt;warning&lt;/h3&gt;\\n&lt;hr&gt;\\n&lt;p&gt;Directory /home/christine/Documents/These/frangiPANeGIT2/frangiPANe_PANRice/02-assembly_unmapped_reads/choosing_k/ already existed&lt;/p&gt;\"},\"id\":\"1780\",\"type\":\"panel.models.markup.HTML\"},{\"attributes\":{\"client_comm_id\":\"be5efacabad645b6a85dc70fd8782925\",\"comm_id\":\"e38e4d2c39c8425f82d8fefd2c0c9b8b\",\"plot_id\":\"1780\"},\"id\":\"1781\",\"type\":\"panel.models.comm_manager.CommManager\"}],\"root_ids\":[\"1780\",\"1781\"]},\"title\":\"Bokeh Application\",\"version\":\"2.3.3\"}};\n",
       "    var render_items = [{\"docid\":\"12c27ede-49b4-4da1-bcb7-996fd4909718\",\"root_ids\":[\"1780\"],\"roots\":{\"1780\":\"1f01239a-6c15-46f2-9fe2-d231438e27a1\"}}];\n",
       "    root.Bokeh.embed.embed_items_notebook(docs_json, render_items);\n",
       "  }\n",
       "  if (root.Bokeh !== undefined && root.Bokeh.Panel !== undefined) {\n",
       "    embed_document(root);\n",
       "  } else {\n",
       "    var attempts = 0;\n",
       "    var timer = setInterval(function(root) {\n",
       "      if (root.Bokeh !== undefined && root.Bokeh.Panel !== undefined) {\n",
       "        clearInterval(timer);\n",
       "        embed_document(root);\n",
       "      } else if (document.readyState == \"complete\") {\n",
       "        attempts++;\n",
       "        if (attempts > 100) {\n",
       "          clearInterval(timer);\n",
       "          console.log(\"Bokeh: ERROR: Unable to run BokehJS code because BokehJS library is missing\");\n",
       "        }\n",
       "      }\n",
       "    }, 10, root)\n",
       "  }\n",
       "})(window);</script>"
      ],
      "text/plain": [
       "Alert(str, alert_type='warning', css_classes=['alert', 'alert-warning']...], margin=(0, 0, 25, 0), sizing_mode='stretch_width')"
      ]
     },
     "metadata": {
      "application/vnd.holoviews_exec.v0+json": {
       "id": "1780"
      }
     },
     "output_type": "display_data"
    },
    {
     "data": {},
     "metadata": {},
     "output_type": "display_data"
    },
    {
     "data": {
      "application/vnd.holoviews_exec.v0+json": "",
      "text/html": [
       "<div id='1782'>\n",
       "\n",
       "\n",
       "\n",
       "\n",
       "\n",
       "  <div class=\"bk-root\" id=\"ec6f86c2-95b4-4058-a867-3cdb949670f4\" data-root-id=\"1782\"></div>\n",
       "</div>\n",
       "<script type=\"application/javascript\">(function(root) {\n",
       "  function embed_document(root) {\n",
       "    var docs_json = {\"e9d619e8-818f-476c-87a2-55c266f6ac89\":{\"defs\":[],\"roots\":{\"references\":[{\"attributes\":{\"client_comm_id\":\"dfee004114ba4918aa43f929439f3ca4\",\"comm_id\":\"eac3057ccd7447bcb9b5f0b4755de4c1\",\"plot_id\":\"1782\"},\"id\":\"1783\",\"type\":\"panel.models.comm_manager.CommManager\"},{\"attributes\":{\"css_classes\":[\"alert\",\"alert-warning\",\"markdown\"],\"margin\":[0,0,25,0],\"name\":\"Alert01518\",\"sizing_mode\":\"stretch_width\",\"text\":\"&lt;h3&gt;warning&lt;/h3&gt;\\n&lt;hr&gt;\\n&lt;p&gt;Directory /home/christine/Documents/These/frangiPANeGIT2/frangiPANe_PANRice/02-assembly_unmapped_reads/choosing_k/abyss/ already existed&lt;/p&gt;\"},\"id\":\"1782\",\"type\":\"panel.models.markup.HTML\"}],\"root_ids\":[\"1782\",\"1783\"]},\"title\":\"Bokeh Application\",\"version\":\"2.3.3\"}};\n",
       "    var render_items = [{\"docid\":\"e9d619e8-818f-476c-87a2-55c266f6ac89\",\"root_ids\":[\"1782\"],\"roots\":{\"1782\":\"ec6f86c2-95b4-4058-a867-3cdb949670f4\"}}];\n",
       "    root.Bokeh.embed.embed_items_notebook(docs_json, render_items);\n",
       "  }\n",
       "  if (root.Bokeh !== undefined && root.Bokeh.Panel !== undefined) {\n",
       "    embed_document(root);\n",
       "  } else {\n",
       "    var attempts = 0;\n",
       "    var timer = setInterval(function(root) {\n",
       "      if (root.Bokeh !== undefined && root.Bokeh.Panel !== undefined) {\n",
       "        clearInterval(timer);\n",
       "        embed_document(root);\n",
       "      } else if (document.readyState == \"complete\") {\n",
       "        attempts++;\n",
       "        if (attempts > 100) {\n",
       "          clearInterval(timer);\n",
       "          console.log(\"Bokeh: ERROR: Unable to run BokehJS code because BokehJS library is missing\");\n",
       "        }\n",
       "      }\n",
       "    }, 10, root)\n",
       "  }\n",
       "})(window);</script>"
      ],
      "text/plain": [
       "Alert(str, alert_type='warning', css_classes=['alert', 'alert-warning']...], margin=(0, 0, 25, 0), sizing_mode='stretch_width')"
      ]
     },
     "metadata": {
      "application/vnd.holoviews_exec.v0+json": {
       "id": "1782"
      }
     },
     "output_type": "display_data"
    },
    {
     "data": {},
     "metadata": {},
     "output_type": "display_data"
    },
    {
     "data": {
      "application/vnd.holoviews_exec.v0+json": "",
      "text/html": [
       "<div id='1784'>\n",
       "\n",
       "\n",
       "\n",
       "\n",
       "\n",
       "  <div class=\"bk-root\" id=\"df0963ae-ec0a-40ce-8426-37c9f6753f03\" data-root-id=\"1784\"></div>\n",
       "</div>\n",
       "<script type=\"application/javascript\">(function(root) {\n",
       "  function embed_document(root) {\n",
       "    var docs_json = {\"7e28d800-0b9e-47bf-911a-b944e994bb7c\":{\"defs\":[],\"roots\":{\"references\":[{\"attributes\":{\"css_classes\":[\"alert\",\"alert-success\",\"markdown\"],\"margin\":[0,0,25,0],\"name\":\"Alert01522\",\"sizing_mode\":\"stretch_width\",\"text\":\"&lt;h3&gt;Abyss test&lt;/h3&gt;\\n&lt;hr&gt;\\n\\n&lt;ul&gt;\\n&lt;li&gt;BAM INPUT DIR : /home/christine/Documents/These/frangiPANeGIT2/frangiPANe_PANRice/02-assembly_unmapped_reads/bam_F0x2/&lt;/li&gt;\\n&lt;li&gt;ABYSS DIR : /home/christine/Documents/These/frangiPANeGIT2/frangiPANe_PANRice/02-assembly_unmapped_reads/choosing_k/abyss/&lt;/li&gt;\\n&lt;/ul&gt;\"},\"id\":\"1784\",\"type\":\"panel.models.markup.HTML\"},{\"attributes\":{\"client_comm_id\":\"664cbce890fe48099cde93b8342a4659\",\"comm_id\":\"1051c3a848db45949a7f9435df7a7896\",\"plot_id\":\"1784\"},\"id\":\"1785\",\"type\":\"panel.models.comm_manager.CommManager\"}],\"root_ids\":[\"1784\",\"1785\"]},\"title\":\"Bokeh Application\",\"version\":\"2.3.3\"}};\n",
       "    var render_items = [{\"docid\":\"7e28d800-0b9e-47bf-911a-b944e994bb7c\",\"root_ids\":[\"1784\"],\"roots\":{\"1784\":\"df0963ae-ec0a-40ce-8426-37c9f6753f03\"}}];\n",
       "    root.Bokeh.embed.embed_items_notebook(docs_json, render_items);\n",
       "  }\n",
       "  if (root.Bokeh !== undefined && root.Bokeh.Panel !== undefined) {\n",
       "    embed_document(root);\n",
       "  } else {\n",
       "    var attempts = 0;\n",
       "    var timer = setInterval(function(root) {\n",
       "      if (root.Bokeh !== undefined && root.Bokeh.Panel !== undefined) {\n",
       "        clearInterval(timer);\n",
       "        embed_document(root);\n",
       "      } else if (document.readyState == \"complete\") {\n",
       "        attempts++;\n",
       "        if (attempts > 100) {\n",
       "          clearInterval(timer);\n",
       "          console.log(\"Bokeh: ERROR: Unable to run BokehJS code because BokehJS library is missing\");\n",
       "        }\n",
       "      }\n",
       "    }, 10, root)\n",
       "  }\n",
       "})(window);</script>"
      ],
      "text/plain": [
       "Alert(str, alert_type='success', css_classes=['alert', 'alert-success']...], margin=(0, 0, 25, 0), sizing_mode='stretch_width')"
      ]
     },
     "metadata": {
      "application/vnd.holoviews_exec.v0+json": {
       "id": "1784"
      }
     },
     "output_type": "display_data"
    },
    {
     "data": {},
     "metadata": {},
     "output_type": "display_data"
    },
    {
     "data": {
      "application/vnd.holoviews_exec.v0+json": "",
      "text/html": [
       "<div id='1786'>\n",
       "\n",
       "\n",
       "\n",
       "\n",
       "\n",
       "  <div class=\"bk-root\" id=\"af17f56c-77b4-447a-9a2f-25cf5fa778ad\" data-root-id=\"1786\"></div>\n",
       "</div>\n",
       "<script type=\"application/javascript\">(function(root) {\n",
       "  function embed_document(root) {\n",
       "    var docs_json = {\"215ec191-4e27-4246-be5c-69e55630de97\":{\"defs\":[],\"roots\":{\"references\":[{\"attributes\":{\"client_comm_id\":\"40ba568e819642dd843c16706465c0af\",\"comm_id\":\"f38495155ea044ba8251ecdf956ea47e\",\"plot_id\":\"1786\"},\"id\":\"1787\",\"type\":\"panel.models.comm_manager.CommManager\"},{\"attributes\":{\"css_classes\":[\"alert\",\"alert-warning\",\"markdown\"],\"margin\":[0,0,25,0],\"name\":\"Alert01526\",\"sizing_mode\":\"stretch_width\",\"text\":\"&lt;h3&gt;warning&lt;/h3&gt;\\n&lt;hr&gt;\\n&lt;p&gt;Directory /home/christine/Documents/These/frangiPANeGIT2/frangiPANe_PANRice/02-assembly_unmapped_reads/choosing_k/fasta/ already existed&lt;/p&gt;\"},\"id\":\"1786\",\"type\":\"panel.models.markup.HTML\"}],\"root_ids\":[\"1786\",\"1787\"]},\"title\":\"Bokeh Application\",\"version\":\"2.3.3\"}};\n",
       "    var render_items = [{\"docid\":\"215ec191-4e27-4246-be5c-69e55630de97\",\"root_ids\":[\"1786\"],\"roots\":{\"1786\":\"af17f56c-77b4-447a-9a2f-25cf5fa778ad\"}}];\n",
       "    root.Bokeh.embed.embed_items_notebook(docs_json, render_items);\n",
       "  }\n",
       "  if (root.Bokeh !== undefined && root.Bokeh.Panel !== undefined) {\n",
       "    embed_document(root);\n",
       "  } else {\n",
       "    var attempts = 0;\n",
       "    var timer = setInterval(function(root) {\n",
       "      if (root.Bokeh !== undefined && root.Bokeh.Panel !== undefined) {\n",
       "        clearInterval(timer);\n",
       "        embed_document(root);\n",
       "      } else if (document.readyState == \"complete\") {\n",
       "        attempts++;\n",
       "        if (attempts > 100) {\n",
       "          clearInterval(timer);\n",
       "          console.log(\"Bokeh: ERROR: Unable to run BokehJS code because BokehJS library is missing\");\n",
       "        }\n",
       "      }\n",
       "    }, 10, root)\n",
       "  }\n",
       "})(window);</script>"
      ],
      "text/plain": [
       "Alert(str, alert_type='warning', css_classes=['alert', 'alert-warning']...], margin=(0, 0, 25, 0), sizing_mode='stretch_width')"
      ]
     },
     "metadata": {
      "application/vnd.holoviews_exec.v0+json": {
       "id": "1786"
      }
     },
     "output_type": "display_data"
    },
    {
     "data": {},
     "metadata": {},
     "output_type": "display_data"
    },
    {
     "data": {
      "application/vnd.holoviews_exec.v0+json": "",
      "text/html": [
       "<div id='1788'>\n",
       "\n",
       "\n",
       "\n",
       "\n",
       "\n",
       "  <div class=\"bk-root\" id=\"649c10ed-42a9-4320-a431-c405eff86b60\" data-root-id=\"1788\"></div>\n",
       "</div>\n",
       "<script type=\"application/javascript\">(function(root) {\n",
       "  function embed_document(root) {\n",
       "    var docs_json = {\"7066cdfd-761a-4301-a525-c4aaec990327\":{\"defs\":[],\"roots\":{\"references\":[{\"attributes\":{\"client_comm_id\":\"14a1d8b7fea843239d577911fb6160b8\",\"comm_id\":\"d0f8238d9bb04f678684418228cbc849\",\"plot_id\":\"1788\"},\"id\":\"1789\",\"type\":\"panel.models.comm_manager.CommManager\"},{\"attributes\":{\"css_classes\":[\"alert\",\"alert-success\",\"markdown\"],\"margin\":[0,0,25,0],\"name\":\"Alert01530\",\"sizing_mode\":\"stretch_width\",\"text\":\"&lt;h3&gt;Extracting fasta sequences and filtering on length&lt;/h3&gt;\\n&lt;hr&gt;\\n\\n&lt;ul&gt;\\n&lt;li&gt;ABYSS DIR : /home/christine/Documents/These/frangiPANeGIT2/frangiPANe_PANRice/02-assembly_unmapped_reads/choosing_k/abyss/&lt;/li&gt;\\n&lt;li&gt;FASTA DIR : /home/christine/Documents/These/frangiPANeGIT2/frangiPANe_PANRice/02-assembly_unmapped_reads/choosing_k/fasta/&lt;/li&gt;\\n&lt;/ul&gt;\"},\"id\":\"1788\",\"type\":\"panel.models.markup.HTML\"}],\"root_ids\":[\"1788\",\"1789\"]},\"title\":\"Bokeh Application\",\"version\":\"2.3.3\"}};\n",
       "    var render_items = [{\"docid\":\"7066cdfd-761a-4301-a525-c4aaec990327\",\"root_ids\":[\"1788\"],\"roots\":{\"1788\":\"649c10ed-42a9-4320-a431-c405eff86b60\"}}];\n",
       "    root.Bokeh.embed.embed_items_notebook(docs_json, render_items);\n",
       "  }\n",
       "  if (root.Bokeh !== undefined && root.Bokeh.Panel !== undefined) {\n",
       "    embed_document(root);\n",
       "  } else {\n",
       "    var attempts = 0;\n",
       "    var timer = setInterval(function(root) {\n",
       "      if (root.Bokeh !== undefined && root.Bokeh.Panel !== undefined) {\n",
       "        clearInterval(timer);\n",
       "        embed_document(root);\n",
       "      } else if (document.readyState == \"complete\") {\n",
       "        attempts++;\n",
       "        if (attempts > 100) {\n",
       "          clearInterval(timer);\n",
       "          console.log(\"Bokeh: ERROR: Unable to run BokehJS code because BokehJS library is missing\");\n",
       "        }\n",
       "      }\n",
       "    }, 10, root)\n",
       "  }\n",
       "})(window);</script>"
      ],
      "text/plain": [
       "Alert(str, alert_type='success', css_classes=['alert', 'alert-success']...], margin=(0, 0, 25, 0), sizing_mode='stretch_width')"
      ]
     },
     "metadata": {
      "application/vnd.holoviews_exec.v0+json": {
       "id": "1788"
      }
     },
     "output_type": "display_data"
    },
    {
     "data": {
      "text/html": [
       "<img src onerror=\"var cell = this.closest('.jp-CodeCell');var editor = cell.querySelector('.jp-Editor');editor.style.background='LightBlue';this.parentNode.removeChild(this)\">"
      ],
      "text/plain": [
       "<IPython.core.display.HTML object>"
      ]
     },
     "metadata": {},
     "output_type": "display_data"
    }
   ],
   "source": [
    "output_assembly_test=output_assembly_dir + \"choosing_k/\"\n",
    "make_dir(output_assembly_test)\n",
    "\n",
    "output_assembly_testabyss = output_assembly_test + \"abyss/\" \n",
    "make_dir(output_assembly_testabyss)\n",
    "\n",
    "kmin=int(k.value[0])\n",
    "kmax=int(k.value[1])+1\n",
    "st=step.value\n",
    "threshold =  length.value\n",
    "\n",
    "\n",
    "    \n",
    "for k in range(kmin, kmax, step.value) :\n",
    "    for id in accession.value : ### INDIVIDUS TEST\n",
    "        abyss_pe(project_name.value, id, k, output_filtered_bam, output_assembly_testabyss, logger) \n",
    "\n",
    "text = f\"\"\"\n",
    "    ### Abyss test\n",
    "    \n",
    "    <hr>\n",
    "\n",
    "    * BAM INPUT DIR : {output_filtered_bam}\n",
    "    * ABYSS DIR : {output_assembly_testabyss}\n",
    "    \"\"\"\n",
    "\n",
    "display_alert(text, \"success\")\n",
    "\n",
    "\n",
    "output_assembly_fasta = output_assembly_test + \"fasta/\" \n",
    "make_dir(output_assembly_fasta)\n",
    "\n",
    "logger.info(f\"FILTERING SEQUENCES >= THRESHOLD ({threshold})\")\n",
    "\n",
    "for k in range(kmin, kmax, step.value) :\n",
    "    for id in accession.value : \n",
    "        filter_fastq_threshold(output_assembly_testabyss + id + \"_k\" + str(k) + \"/\" + project_name.value+ \"_\" + id + \"_\" + str(k) + \"-contigs.fa\", \n",
    "                               output_assembly_fasta + id + \"_k\" + str(k) + \"_thr\" + str(threshold) + \".fasta\", threshold) \n",
    "        \n",
    "    \n",
    "text = f\"\"\"\n",
    "    ### Extracting fasta sequences and filtering on length\n",
    "    \n",
    "    <hr>\n",
    "\n",
    "    * ABYSS DIR : {output_assembly_testabyss}\n",
    "    * FASTA DIR : {output_assembly_fasta}\n",
    "    \"\"\"\n",
    "\n",
    "display_alert(text, \"success\")\n",
    "        \n",
    "bgc('LightBlue')"
   ]
  },
  {
   "cell_type": "markdown",
   "metadata": {},
   "source": [
    "#### _Stats and plots of abyss test_"
   ]
  },
  {
   "cell_type": "code",
   "execution_count": 70,
   "metadata": {},
   "outputs": [
    {
     "data": {},
     "metadata": {},
     "output_type": "display_data"
    },
    {
     "data": {
      "application/vnd.holoviews_exec.v0+json": "",
      "text/html": [
       "<div id='1790'>\n",
       "\n",
       "\n",
       "\n",
       "\n",
       "\n",
       "  <div class=\"bk-root\" id=\"56441ff8-4f6e-4f84-8af1-401350cb6927\" data-root-id=\"1790\"></div>\n",
       "</div>\n",
       "<script type=\"application/javascript\">(function(root) {\n",
       "  function embed_document(root) {\n",
       "    var docs_json = {\"138cceb9-493c-4444-b259-0164971c4cf8\":{\"defs\":[],\"roots\":{\"references\":[{\"attributes\":{\"client_comm_id\":\"4aa535cd7e8842d88556a5567949e5d5\",\"comm_id\":\"6376792be71b49d5bd91feacd50f0d44\",\"plot_id\":\"1790\"},\"id\":\"1791\",\"type\":\"panel.models.comm_manager.CommManager\"},{\"attributes\":{\"css_classes\":[\"alert\",\"alert-warning\",\"markdown\"],\"margin\":[0,0,25,0],\"name\":\"Alert01534\",\"sizing_mode\":\"stretch_width\",\"text\":\"&lt;h3&gt;warning&lt;/h3&gt;\\n&lt;hr&gt;\\n&lt;p&gt;Directory /home/christine/Documents/These/frangiPANeGIT2/frangiPANe_PANRice/02-assembly_unmapped_reads/choosing_k/plots/ already existed&lt;/p&gt;\"},\"id\":\"1790\",\"type\":\"panel.models.markup.HTML\"}],\"root_ids\":[\"1790\",\"1791\"]},\"title\":\"Bokeh Application\",\"version\":\"2.3.3\"}};\n",
       "    var render_items = [{\"docid\":\"138cceb9-493c-4444-b259-0164971c4cf8\",\"root_ids\":[\"1790\"],\"roots\":{\"1790\":\"56441ff8-4f6e-4f84-8af1-401350cb6927\"}}];\n",
       "    root.Bokeh.embed.embed_items_notebook(docs_json, render_items);\n",
       "  }\n",
       "  if (root.Bokeh !== undefined && root.Bokeh.Panel !== undefined) {\n",
       "    embed_document(root);\n",
       "  } else {\n",
       "    var attempts = 0;\n",
       "    var timer = setInterval(function(root) {\n",
       "      if (root.Bokeh !== undefined && root.Bokeh.Panel !== undefined) {\n",
       "        clearInterval(timer);\n",
       "        embed_document(root);\n",
       "      } else if (document.readyState == \"complete\") {\n",
       "        attempts++;\n",
       "        if (attempts > 100) {\n",
       "          clearInterval(timer);\n",
       "          console.log(\"Bokeh: ERROR: Unable to run BokehJS code because BokehJS library is missing\");\n",
       "        }\n",
       "      }\n",
       "    }, 10, root)\n",
       "  }\n",
       "})(window);</script>"
      ],
      "text/plain": [
       "Alert(str, alert_type='warning', css_classes=['alert', 'alert-warning']...], margin=(0, 0, 25, 0), sizing_mode='stretch_width')"
      ]
     },
     "metadata": {
      "application/vnd.holoviews_exec.v0+json": {
       "id": "1790"
      }
     },
     "output_type": "display_data"
    },
    {
     "data": {
      "text/html": [
       "<img src onerror=\"var cell = this.closest('.jp-CodeCell');var editor = cell.querySelector('.jp-Editor');editor.style.background='LightBlue';this.parentNode.removeChild(this)\">"
      ],
      "text/plain": [
       "<IPython.core.display.HTML object>"
      ]
     },
     "metadata": {},
     "output_type": "display_data"
    },
    {
     "data": {
      "image/png": "[encoded data removed]",
      "text/plain": [
       "<Figure size 360x360 with 1 Axes>"
      ]
     },
     "metadata": {},
     "output_type": "display_data"
    },
    {
     "data": {
      "image/png": "[encoded data removed]",
      "text/plain": [
       "<Figure size 360x360 with 1 Axes>"
      ]
     },
     "metadata": {},
     "output_type": "display_data"
    },
    {
     "data": {
      "image/png": "[encoded data removed]",
      "text/plain": [
       "<Figure size 360x360 with 1 Axes>"
      ]
     },
     "metadata": {},
     "output_type": "display_data"
    }
   ],
   "source": [
    "#  create stats file\n",
    "output_assembly_testplots = output_assembly_test + \"plots/\" \n",
    "make_dir(output_assembly_testplots)\n",
    "\n",
    "stat_len, stats_N_hide, stats_N, stats_L_hide, stats_L, stats_gap, stats = def_stats()\n",
    "create_stats_files(stats, output_assembly_testplots)\n",
    "\n",
    "for k in range(kmin, kmax, step.value) :\n",
    "    for id in accession.value :\n",
    "        fill_stats_files(output_assembly_fasta, id, k, output_assembly_testplots, threshold, logger)\n",
    "        \n",
    "stat_len_df = pd.read_csv(output_assembly_testplots + \"assembly-stats-\" + stat_len[0] + \".csv\", sep='\\t')\n",
    "\n",
    "size = sns.relplot(x='k', y='value', hue='stat', data=stat_len_df, col='id', kind=\"line\")\n",
    "size.savefig(output_assembly_testplots + \"stat_len.png\")\n",
    "\n",
    "\n",
    "stats_N_files = []\n",
    "for stat in stats_N : \n",
    "    stats_N_files.append(output_assembly_testplots + \"assembly-stats-\" + stat + \".csv\")\n",
    "stats_N_df = pd.concat([pd.read_csv(f, sep='\\t') for f in stats_N_files], ignore_index = True)\n",
    "\n",
    "size = sns.relplot(x='k', y='value', hue='stat', data=stats_N_df, col='id', kind=\"line\")\n",
    "size.savefig(output_assembly_testplots + \"stat_N.png\")\n",
    "\n",
    "stats_L_files = []\n",
    "for stat in stats_L : \n",
    "    stats_L_files.append(output_assembly_testplots + \"assembly-stats-\" + stat + \".csv\")\n",
    "stats_L_df = pd.concat([pd.read_csv(f, sep='\\t') for f in stats_L_files], ignore_index = True)\n",
    "\n",
    "size = sns.relplot(x='k', y='value', hue='stat', data=stats_L_df, col='id', kind=\"line\")\n",
    "size.savefig(output_assembly_testplots + \"stat_L.png\")\n",
    "\n",
    "bgc('LightBlue')"
   ]
  },
  {
   "cell_type": "markdown",
   "metadata": {},
   "source": [
    "#### __Assembly step 2 : assembly with the final k value__\n",
    "\n",
    "### Running ABySS for each individual\n"
   ]
  },
  {
   "cell_type": "code",
   "execution_count": 72,
   "metadata": {},
   "outputs": [
    {
     "data": {},
     "metadata": {},
     "output_type": "display_data"
    },
    {
     "data": {
      "application/vnd.holoviews_exec.v0+json": "",
      "text/html": [
       "<div id='1792'>\n",
       "\n",
       "\n",
       "\n",
       "\n",
       "\n",
       "  <div class=\"bk-root\" id=\"ed731a85-42f7-422f-a298-bfbe4db16156\" data-root-id=\"1792\"></div>\n",
       "</div>\n",
       "<script type=\"application/javascript\">(function(root) {\n",
       "  function embed_document(root) {\n",
       "    var docs_json = {\"04ee5ac2-0857-4340-8a3d-40701d796681\":{\"defs\":[],\"roots\":{\"references\":[{\"attributes\":{\"button_type\":\"primary\",\"icon\":null,\"label\":\"INIT\",\"margin\":[5,10,5,10],\"min_width\":100,\"subscribed_events\":[\"button_click\"],\"width\":100},\"id\":\"1802\",\"type\":\"Button\"},{\"attributes\":{\"children\":[{\"id\":\"1801\"},{\"id\":\"1802\"}],\"margin\":[0,0,0,0],\"name\":\"Row01546\"},\"id\":\"1800\",\"type\":\"Row\"},{\"attributes\":{\"children\":[{\"id\":\"1796\"},{\"id\":\"1797\"}],\"margin\":[0,0,0,0],\"name\":\"Row01547\"},\"id\":\"1795\",\"type\":\"Row\"},{\"attributes\":{\"css_classes\":[\"markdown\"],\"margin\":[5,5,5,5],\"name\":\"Markdown01549\",\"text\":\"&lt;h1&gt;INPUT FORM&lt;/h1&gt;\"},\"id\":\"1793\",\"type\":\"panel.models.markup.HTML\"},{\"attributes\":{\"background\":\"#E3ECF1\",\"children\":[{\"id\":\"1793\"},{\"id\":\"1794\"}],\"css_classes\":[\"panel-widget-box\"],\"margin\":[5,5,5,5],\"name\":\"WidgetBox01551\"},\"id\":\"1792\",\"type\":\"Column\"},{\"attributes\":{\"high\":10,\"low\":1,\"margin\":[5,10,5,10],\"mode\":\"int\",\"placeholder\":\"0\",\"title\":\"Step\",\"value\":4,\"value_throttled\":4},\"id\":\"1797\",\"type\":\"Spinner\"},{\"attributes\":{\"button_type\":\"primary\",\"icon\":null,\"label\":\"SAVE\",\"margin\":[5,10,5,10],\"min_width\":100,\"subscribed_events\":[\"button_click\"],\"width\":100},\"id\":\"1801\",\"type\":\"Button\"},{\"attributes\":{\"client_comm_id\":\"a8caae26ab574ebd8f00d499cbbdbb6e\",\"comm_id\":\"4fb3da85b09d4a9e92cfdfd9023c13db\",\"plot_id\":\"1792\"},\"id\":\"1804\",\"type\":\"panel.models.comm_manager.CommManager\"},{\"attributes\":{\"margin\":[5,10,5,10],\"options\":[\"AA\",\"AB\",\"DT\"],\"title\":\"Accession\",\"value\":[\"AA\",\"AB\"]},\"id\":\"1798\",\"type\":\"MultiSelect\"},{\"attributes\":{\"children\":[{\"id\":\"1795\"},{\"id\":\"1798\"},{\"id\":\"1799\"},{\"id\":\"1800\"},{\"id\":\"1803\"}],\"margin\":[0,0,0,0],\"min_width\":800,\"name\":\"Column01548\",\"width\":800},\"id\":\"1794\",\"type\":\"Column\"},{\"attributes\":{\"high\":10000,\"low\":100,\"margin\":[5,10,5,10],\"mode\":\"int\",\"placeholder\":\"0\",\"step\":100,\"title\":\"Minimal length to filter\",\"value\":300,\"value_throttled\":300},\"id\":\"1799\",\"type\":\"Spinner\"},{\"attributes\":{\"css_classes\":[\"alert\",\"alert-warning\",\"markdown\"],\"height\":200,\"margin\":[0,0,25,0],\"name\":\"Alert01538\",\"sizing_mode\":\"stretch_width\",\"text\":\"&lt;p&gt;No filled&lt;/p&gt;\"},\"id\":\"1803\",\"type\":\"panel.models.markup.HTML\"},{\"attributes\":{\"end\":92,\"margin\":[5,10,5,10],\"start\":24,\"step\":4,\"title\":\"K-mer length\",\"value\":[64,68]},\"id\":\"1796\",\"type\":\"RangeSlider\"}],\"root_ids\":[\"1792\",\"1804\"]},\"title\":\"Bokeh Application\",\"version\":\"2.3.3\"}};\n",
       "    var render_items = [{\"docid\":\"04ee5ac2-0857-4340-8a3d-40701d796681\",\"root_ids\":[\"1792\"],\"roots\":{\"1792\":\"ed731a85-42f7-422f-a298-bfbe4db16156\"}}];\n",
       "    root.Bokeh.embed.embed_items_notebook(docs_json, render_items);\n",
       "  }\n",
       "  if (root.Bokeh !== undefined && root.Bokeh.Panel !== undefined) {\n",
       "    embed_document(root);\n",
       "  } else {\n",
       "    var attempts = 0;\n",
       "    var timer = setInterval(function(root) {\n",
       "      if (root.Bokeh !== undefined && root.Bokeh.Panel !== undefined) {\n",
       "        clearInterval(timer);\n",
       "        embed_document(root);\n",
       "      } else if (document.readyState == \"complete\") {\n",
       "        attempts++;\n",
       "        if (attempts > 100) {\n",
       "          clearInterval(timer);\n",
       "          console.log(\"Bokeh: ERROR: Unable to run BokehJS code because BokehJS library is missing\");\n",
       "        }\n",
       "      }\n",
       "    }, 10, root)\n",
       "  }\n",
       "})(window);</script>"
      ],
      "text/plain": [
       "WidgetBox(background='#E3ECF1')\n",
       "    [0] Markdown(str)\n",
       "    [1] Column(width=800)\n",
       "        [0] Row\n",
       "            [0] RangeSlider(end=92, name='K-mer length', start=24, step=4, value=(64, 68))\n",
       "            [1] IntInput(end=10, name='Step', start=1, value=4)\n",
       "        [1] MultiSelect(name='Accession', options=['AA', 'AB', 'DT'], value=['AA', 'AB'])\n",
       "        [2] IntInput(end=10000, name='Minimal length t..., start=100, step=100, value=300)\n",
       "        [3] Row\n",
       "            [0] Button(button_type='primary', name='SAVE', width=100)\n",
       "            [1] Button(button_type='primary', name='INIT', width=100)\n",
       "        [4] Alert(str, alert_type='warning', css_classes=['alert', 'alert-warning']...], height=200, margin=(0, 0, 25, 0), sizing_mode='stretch_width')"
      ]
     },
     "metadata": {
      "application/vnd.holoviews_exec.v0+json": {
       "id": "1792"
      }
     },
     "output_type": "display_data"
    },
    {
     "data": {
      "text/html": [
       "<img src onerror=\"var cell = this.closest('.jp-CodeCell');var editor = cell.querySelector('.jp-Editor');editor.style.background='LightBlue';this.parentNode.removeChild(this)\">"
      ],
      "text/plain": [
       "<IPython.core.display.HTML object>"
      ]
     },
     "metadata": {},
     "output_type": "display_data"
    }
   ],
   "source": [
    "k2 = box_config_abyss2()\n",
    "\n",
    "bgc('LightBlue')"
   ]
  },
  {
   "cell_type": "markdown",
   "metadata": {},
   "source": [
    "KBOARD\n",
    "   * total_length : +++\n",
    "   * N50 : +++#\n",
    "\n",
    "check group -> debug DT"
   ]
  },
  {
   "cell_type": "code",
   "execution_count": 73,
   "metadata": {},
   "outputs": [
    {
     "data": {},
     "metadata": {},
     "output_type": "display_data"
    },
    {
     "data": {
      "application/vnd.holoviews_exec.v0+json": "",
      "text/html": [
       "<div id='1805'>\n",
       "\n",
       "\n",
       "\n",
       "\n",
       "\n",
       "  <div class=\"bk-root\" id=\"5179fe86-b00b-4216-a5ef-039a3673f439\" data-root-id=\"1805\"></div>\n",
       "</div>\n",
       "<script type=\"application/javascript\">(function(root) {\n",
       "  function embed_document(root) {\n",
       "    var docs_json = {\"c2a18492-b221-4258-847c-5d23b9106782\":{\"defs\":[],\"roots\":{\"references\":[{\"attributes\":{\"client_comm_id\":\"b52df31504cf4c238b666e3ac1375521\",\"comm_id\":\"c5c7fef2b9194e7b966a6fba06333874\",\"plot_id\":\"1805\"},\"id\":\"1806\",\"type\":\"panel.models.comm_manager.CommManager\"},{\"attributes\":{\"css_classes\":[\"alert\",\"alert-warning\",\"markdown\"],\"margin\":[0,0,25,0],\"name\":\"Alert01554\",\"sizing_mode\":\"stretch_width\",\"text\":\"&lt;h3&gt;warning&lt;/h3&gt;\\n&lt;hr&gt;\\n&lt;p&gt;Directory /home/christine/Documents/These/frangiPANeGIT2/frangiPANe_PANRice/02-assembly_unmapped_reads/all_ctgs/ already existed&lt;/p&gt;\"},\"id\":\"1805\",\"type\":\"panel.models.markup.HTML\"}],\"root_ids\":[\"1805\",\"1806\"]},\"title\":\"Bokeh Application\",\"version\":\"2.3.3\"}};\n",
       "    var render_items = [{\"docid\":\"c2a18492-b221-4258-847c-5d23b9106782\",\"root_ids\":[\"1805\"],\"roots\":{\"1805\":\"5179fe86-b00b-4216-a5ef-039a3673f439\"}}];\n",
       "    root.Bokeh.embed.embed_items_notebook(docs_json, render_items);\n",
       "  }\n",
       "  if (root.Bokeh !== undefined && root.Bokeh.Panel !== undefined) {\n",
       "    embed_document(root);\n",
       "  } else {\n",
       "    var attempts = 0;\n",
       "    var timer = setInterval(function(root) {\n",
       "      if (root.Bokeh !== undefined && root.Bokeh.Panel !== undefined) {\n",
       "        clearInterval(timer);\n",
       "        embed_document(root);\n",
       "      } else if (document.readyState == \"complete\") {\n",
       "        attempts++;\n",
       "        if (attempts > 100) {\n",
       "          clearInterval(timer);\n",
       "          console.log(\"Bokeh: ERROR: Unable to run BokehJS code because BokehJS library is missing\");\n",
       "        }\n",
       "      }\n",
       "    }, 10, root)\n",
       "  }\n",
       "})(window);</script>"
      ],
      "text/plain": [
       "Alert(str, alert_type='warning', css_classes=['alert', 'alert-warning']...], margin=(0, 0, 25, 0), sizing_mode='stretch_width')"
      ]
     },
     "metadata": {
      "application/vnd.holoviews_exec.v0+json": {
       "id": "1805"
      }
     },
     "output_type": "display_data"
    },
    {
     "ename": "AttributeError",
     "evalue": "'tuple' object has no attribute 'value'",
     "output_type": "error",
     "traceback": [
      "\u001b[0;31m---------------------------------------------------------------------------\u001b[0m",
      "\u001b[0;31mAttributeError\u001b[0m                            Traceback (most recent call last)",
      "\u001b[0;32m/tmp/ipykernel_34560/2136845894.py\u001b[0m in \u001b[0;36m<module>\u001b[0;34m\u001b[0m\n\u001b[1;32m      2\u001b[0m \u001b[0mmake_dir\u001b[0m\u001b[0;34m(\u001b[0m\u001b[0moutput_assembly_ctgs\u001b[0m\u001b[0;34m)\u001b[0m\u001b[0;34m\u001b[0m\u001b[0;34m\u001b[0m\u001b[0m\n\u001b[1;32m      3\u001b[0m \u001b[0;34m\u001b[0m\u001b[0m\n\u001b[0;32m----> 4\u001b[0;31m \u001b[0mkfinal\u001b[0m \u001b[0;34m=\u001b[0m \u001b[0mint\u001b[0m\u001b[0;34m(\u001b[0m\u001b[0mk2\u001b[0m\u001b[0;34m.\u001b[0m\u001b[0mvalue\u001b[0m\u001b[0;34m)\u001b[0m\u001b[0;34m\u001b[0m\u001b[0;34m\u001b[0m\u001b[0m\n\u001b[0m\u001b[1;32m      5\u001b[0m \u001b[0;34m\u001b[0m\u001b[0m\n\u001b[1;32m      6\u001b[0m \u001b[0;31m#for id in df_group :\u001b[0m\u001b[0;34m\u001b[0m\u001b[0;34m\u001b[0m\u001b[0;34m\u001b[0m\u001b[0m\n",
      "\u001b[0;31mAttributeError\u001b[0m: 'tuple' object has no attribute 'value'"
     ]
    }
   ],
   "source": [
    "output_assembly_ctgs = output_assembly_dir + \"all_ctgs/\" \n",
    "make_dir(output_assembly_ctgs)\n",
    "\n",
    "kfinal = int(k2.value) \n",
    "\n",
    "#for id in df_group :\n",
    "for index, row in df_group.iterrows() :\n",
    "\n",
    "    id = row['sample']\n",
    "    if index==2 :\n",
    "        continue\n",
    "        \n",
    "    if id in accession.value :\n",
    "        id_folder = output_assembly_testabyss + id + \"_k\" + str(kfinal) + \"/\"\n",
    "        \n",
    "        cmd = f\"scp -r { id_folder } { output_assembly_ctgs }\"\n",
    "        process = subprocess.run(cmd, shell=True, capture_output=True, text=True)\n",
    "\n",
    "        if process.returncode:\n",
    "            log = f'FAILED EXECUTION : {cmd}\\n{process.stdout}\\n{process.stderr}'\n",
    "            raise ValueError(log)\n",
    "        else:\n",
    "            logger.info(f\"\\t\\tLog : {process.stdout + process.stderr}\\n\")\n",
    "            \n",
    "    else : \n",
    "        abyss_pe(project_name.value, id, kfinal, output_filtered_bam, output_assembly_ctgs, logger) \n",
    "        \n",
    "text = f\"\"\"\n",
    "    ### Assembly with abyss and fixed khmer\n",
    "    \n",
    "    <hr>\n",
    "\n",
    "    * BAM DIR : {output_filtered_bam}\n",
    "    * ABYSS DIR : {output_assembly_ctgs}\n",
    "    \"\"\"\n",
    "\n",
    "display_alert(text, \"success\")\n",
    "\n",
    "bgc('LightBlue')"
   ]
  },
  {
   "cell_type": "markdown",
   "metadata": {
    "tags": []
   },
   "source": [
    "`TODO : PUT TABLE SYNTHESE`\n",
    "\n",
    "[<img src=\"Images/up-arrow.png\" alt=\"Top\" width=2% align=\"right\">](#home \"Go back to the top\")\n",
    "    \n",
    "### <span style=\"color: #919395\"> 4 - Removing contamination<a class=\"anchor\" id=\"contamination\"></a></span>"
   ]
  },
  {
   "cell_type": "markdown",
   "metadata": {},
   "source": [
    "#### __VecScreen__"
   ]
  },
  {
   "cell_type": "markdown",
   "metadata": {},
   "source": [
    "#### __BLASTn__"
   ]
  },
  {
   "cell_type": "markdown",
   "metadata": {
    "tags": []
   },
   "source": [
    "[<img src=\"Images/up-arrow.png\" alt=\"Top\" width=2% align=\"right\">](#home \"Go back to the top\")\n",
    "    \n",
    "### <span style=\"color: #919395\"> 5 - Reducing Sequence Redundancy<a class=\"anchor\" id=\"redundancy\"></a></span>\n",
    "\n",
    "frangiPANe uses CD-HIT to cluster sequences and to reduce sequence redundancy (inter and intra-species).\n",
    "\n",
    "`pb count seq cluster`\n",
    "\n",
    "`msg dashboard, stat on progress`\n"
   ]
  },
  {
   "cell_type": "markdown",
   "metadata": {},
   "source": [
    "#### __Merge all contigs__\n"
   ]
  },
  {
   "cell_type": "code",
   "execution_count": 56,
   "metadata": {},
   "outputs": [
    {
     "data": {},
     "metadata": {},
     "output_type": "display_data"
    },
    {
     "data": {
      "application/vnd.holoviews_exec.v0+json": "",
      "text/html": [
       "<div id='1558'>\n",
       "\n",
       "\n",
       "\n",
       "\n",
       "\n",
       "  <div class=\"bk-root\" id=\"aa17384f-fabe-44ad-8f27-98318198709c\" data-root-id=\"1558\"></div>\n",
       "</div>\n",
       "<script type=\"application/javascript\">(function(root) {\n",
       "  function embed_document(root) {\n",
       "    var docs_json = {\"84a86a67-cfcc-4455-8477-1a59d6019fd2\":{\"defs\":[],\"roots\":{\"references\":[{\"attributes\":{\"client_comm_id\":\"f36c89b7ff1b469e97ae0f1f35d145bf\",\"comm_id\":\"b547559e966f4a179719f6409537eb06\",\"plot_id\":\"1558\"},\"id\":\"1559\",\"type\":\"panel.models.comm_manager.CommManager\"},{\"attributes\":{\"css_classes\":[\"alert\",\"alert-warning\",\"markdown\"],\"margin\":[0,0,25,0],\"name\":\"Alert01134\",\"sizing_mode\":\"stretch_width\",\"text\":\"&lt;h3&gt;warning&lt;/h3&gt;\\n&lt;hr&gt;\\n&lt;p&gt;Directory /home/christine/Documents/These/frangiPANeGIT2/frangiPANe_PANRice/03-clustering/ already existed&lt;/p&gt;\"},\"id\":\"1558\",\"type\":\"panel.models.markup.HTML\"}],\"root_ids\":[\"1558\",\"1559\"]},\"title\":\"Bokeh Application\",\"version\":\"2.3.3\"}};\n",
       "    var render_items = [{\"docid\":\"84a86a67-cfcc-4455-8477-1a59d6019fd2\",\"root_ids\":[\"1558\"],\"roots\":{\"1558\":\"aa17384f-fabe-44ad-8f27-98318198709c\"}}];\n",
       "    root.Bokeh.embed.embed_items_notebook(docs_json, render_items);\n",
       "  }\n",
       "  if (root.Bokeh !== undefined && root.Bokeh.Panel !== undefined) {\n",
       "    embed_document(root);\n",
       "  } else {\n",
       "    var attempts = 0;\n",
       "    var timer = setInterval(function(root) {\n",
       "      if (root.Bokeh !== undefined && root.Bokeh.Panel !== undefined) {\n",
       "        clearInterval(timer);\n",
       "        embed_document(root);\n",
       "      } else if (document.readyState == \"complete\") {\n",
       "        attempts++;\n",
       "        if (attempts > 100) {\n",
       "          clearInterval(timer);\n",
       "          console.log(\"Bokeh: ERROR: Unable to run BokehJS code because BokehJS library is missing\");\n",
       "        }\n",
       "      }\n",
       "    }, 10, root)\n",
       "  }\n",
       "})(window);</script>"
      ],
      "text/plain": [
       "Alert(str, alert_type='warning', css_classes=['alert', 'alert-warning']...], margin=(0, 0, 25, 0), sizing_mode='stretch_width')"
      ]
     },
     "metadata": {
      "application/vnd.holoviews_exec.v0+json": {
       "id": "1558"
      }
     },
     "output_type": "display_data"
    },
    {
     "data": {},
     "metadata": {},
     "output_type": "display_data"
    },
    {
     "data": {
      "application/vnd.holoviews_exec.v0+json": "",
      "text/html": [
       "<div id='1560'>\n",
       "\n",
       "\n",
       "\n",
       "\n",
       "\n",
       "  <div class=\"bk-root\" id=\"a7e786c3-c305-4e03-959e-0398add2b6ff\" data-root-id=\"1560\"></div>\n",
       "</div>\n",
       "<script type=\"application/javascript\">(function(root) {\n",
       "  function embed_document(root) {\n",
       "    var docs_json = {\"5020f8ed-b6d8-4f44-82fb-91cc8894df2c\":{\"defs\":[],\"roots\":{\"references\":[{\"attributes\":{\"client_comm_id\":\"9ed02232ef504fd490efe5ad3a710e18\",\"comm_id\":\"5acc36f40de042d59d17f91d3edd28d8\",\"plot_id\":\"1560\"},\"id\":\"1561\",\"type\":\"panel.models.comm_manager.CommManager\"},{\"attributes\":{\"css_classes\":[\"alert\",\"alert-secondary\",\"markdown\"],\"margin\":[0,0,25,0],\"name\":\"Alert01138\",\"sizing_mode\":\"stretch_width\",\"text\":\"&lt;p&gt;Copying all contigs from each sample into dir_clustering on progress&amp;hellip;&lt;/p&gt;\"},\"id\":\"1560\",\"type\":\"panel.models.markup.HTML\"}],\"root_ids\":[\"1560\",\"1561\"]},\"title\":\"Bokeh Application\",\"version\":\"2.3.3\"}};\n",
       "    var render_items = [{\"docid\":\"5020f8ed-b6d8-4f44-82fb-91cc8894df2c\",\"root_ids\":[\"1560\"],\"roots\":{\"1560\":\"a7e786c3-c305-4e03-959e-0398add2b6ff\"}}];\n",
       "    root.Bokeh.embed.embed_items_notebook(docs_json, render_items);\n",
       "  }\n",
       "  if (root.Bokeh !== undefined && root.Bokeh.Panel !== undefined) {\n",
       "    embed_document(root);\n",
       "  } else {\n",
       "    var attempts = 0;\n",
       "    var timer = setInterval(function(root) {\n",
       "      if (root.Bokeh !== undefined && root.Bokeh.Panel !== undefined) {\n",
       "        clearInterval(timer);\n",
       "        embed_document(root);\n",
       "      } else if (document.readyState == \"complete\") {\n",
       "        attempts++;\n",
       "        if (attempts > 100) {\n",
       "          clearInterval(timer);\n",
       "          console.log(\"Bokeh: ERROR: Unable to run BokehJS code because BokehJS library is missing\");\n",
       "        }\n",
       "      }\n",
       "    }, 10, root)\n",
       "  }\n",
       "})(window);</script>"
      ],
      "text/plain": [
       "Alert(str, alert_type='secondary', css_classes=['alert', 'alert-secondary...], margin=(0, 0, 25, 0), sizing_mode='stretch_width')"
      ]
     },
     "metadata": {
      "application/vnd.holoviews_exec.v0+json": {
       "id": "1560"
      }
     },
     "output_type": "display_data"
    },
    {
     "data": {},
     "metadata": {},
     "output_type": "display_data"
    },
    {
     "data": {
      "application/vnd.holoviews_exec.v0+json": "",
      "text/html": [
       "<div id='1562'>\n",
       "\n",
       "\n",
       "\n",
       "\n",
       "\n",
       "  <div class=\"bk-root\" id=\"a9f08fd3-1325-42a7-b6a2-efbd0d64701c\" data-root-id=\"1562\"></div>\n",
       "</div>\n",
       "<script type=\"application/javascript\">(function(root) {\n",
       "  function embed_document(root) {\n",
       "    var docs_json = {\"bcea5e8f-d0fc-4b80-ae0d-929681b64e6f\":{\"defs\":[],\"roots\":{\"references\":[{\"attributes\":{\"css_classes\":[\"alert\",\"alert-info\",\"markdown\"],\"margin\":[0,0,25,0],\"name\":\"Alert01142\",\"sizing_mode\":\"stretch_width\",\"text\":\"&lt;p&gt;Copying all contigs into dir_clustering done&lt;/p&gt;\"},\"id\":\"1562\",\"type\":\"panel.models.markup.HTML\"},{\"attributes\":{\"client_comm_id\":\"70a91fbda49a4bd59c42ea81a07462d4\",\"comm_id\":\"fd407e30a4a0403582c196313ab19d41\",\"plot_id\":\"1562\"},\"id\":\"1563\",\"type\":\"panel.models.comm_manager.CommManager\"}],\"root_ids\":[\"1562\",\"1563\"]},\"title\":\"Bokeh Application\",\"version\":\"2.3.3\"}};\n",
       "    var render_items = [{\"docid\":\"bcea5e8f-d0fc-4b80-ae0d-929681b64e6f\",\"root_ids\":[\"1562\"],\"roots\":{\"1562\":\"a9f08fd3-1325-42a7-b6a2-efbd0d64701c\"}}];\n",
       "    root.Bokeh.embed.embed_items_notebook(docs_json, render_items);\n",
       "  }\n",
       "  if (root.Bokeh !== undefined && root.Bokeh.Panel !== undefined) {\n",
       "    embed_document(root);\n",
       "  } else {\n",
       "    var attempts = 0;\n",
       "    var timer = setInterval(function(root) {\n",
       "      if (root.Bokeh !== undefined && root.Bokeh.Panel !== undefined) {\n",
       "        clearInterval(timer);\n",
       "        embed_document(root);\n",
       "      } else if (document.readyState == \"complete\") {\n",
       "        attempts++;\n",
       "        if (attempts > 100) {\n",
       "          clearInterval(timer);\n",
       "          console.log(\"Bokeh: ERROR: Unable to run BokehJS code because BokehJS library is missing\");\n",
       "        }\n",
       "      }\n",
       "    }, 10, root)\n",
       "  }\n",
       "})(window);</script>"
      ],
      "text/plain": [
       "Alert(str, alert_type='info', css_classes=['alert', 'alert-info'], margin=(0, 0, 25, 0), sizing_mode='stretch_width')"
      ]
     },
     "metadata": {
      "application/vnd.holoviews_exec.v0+json": {
       "id": "1562"
      }
     },
     "output_type": "display_data"
    },
    {
     "data": {},
     "metadata": {},
     "output_type": "display_data"
    },
    {
     "data": {
      "application/vnd.holoviews_exec.v0+json": "",
      "text/html": [
       "<div id='1564'>\n",
       "\n",
       "\n",
       "\n",
       "\n",
       "\n",
       "  <div class=\"bk-root\" id=\"339fa8a9-84f2-4292-8e92-ddf57f5503dc\" data-root-id=\"1564\"></div>\n",
       "</div>\n",
       "<script type=\"application/javascript\">(function(root) {\n",
       "  function embed_document(root) {\n",
       "    var docs_json = {\"fdb42c98-5d5a-4fde-832c-ae58f0c1ea53\":{\"defs\":[],\"roots\":{\"references\":[{\"attributes\":{\"css_classes\":[\"alert\",\"alert-secondary\",\"markdown\"],\"margin\":[0,0,25,0],\"name\":\"Alert01146\",\"sizing_mode\":\"stretch_width\",\"text\":\"&lt;p&gt;Merging all contigs from each sample into one file&amp;hellip; on progress&lt;/p&gt;\"},\"id\":\"1564\",\"type\":\"panel.models.markup.HTML\"},{\"attributes\":{\"client_comm_id\":\"040519b0d6404f6aaa09ed0f6ef29c72\",\"comm_id\":\"5a0069af9c7f4672956f2d293ca80dca\",\"plot_id\":\"1564\"},\"id\":\"1565\",\"type\":\"panel.models.comm_manager.CommManager\"}],\"root_ids\":[\"1564\",\"1565\"]},\"title\":\"Bokeh Application\",\"version\":\"2.3.3\"}};\n",
       "    var render_items = [{\"docid\":\"fdb42c98-5d5a-4fde-832c-ae58f0c1ea53\",\"root_ids\":[\"1564\"],\"roots\":{\"1564\":\"339fa8a9-84f2-4292-8e92-ddf57f5503dc\"}}];\n",
       "    root.Bokeh.embed.embed_items_notebook(docs_json, render_items);\n",
       "  }\n",
       "  if (root.Bokeh !== undefined && root.Bokeh.Panel !== undefined) {\n",
       "    embed_document(root);\n",
       "  } else {\n",
       "    var attempts = 0;\n",
       "    var timer = setInterval(function(root) {\n",
       "      if (root.Bokeh !== undefined && root.Bokeh.Panel !== undefined) {\n",
       "        clearInterval(timer);\n",
       "        embed_document(root);\n",
       "      } else if (document.readyState == \"complete\") {\n",
       "        attempts++;\n",
       "        if (attempts > 100) {\n",
       "          clearInterval(timer);\n",
       "          console.log(\"Bokeh: ERROR: Unable to run BokehJS code because BokehJS library is missing\");\n",
       "        }\n",
       "      }\n",
       "    }, 10, root)\n",
       "  }\n",
       "})(window);</script>"
      ],
      "text/plain": [
       "Alert(str, alert_type='secondary', css_classes=['alert', 'alert-secondary...], margin=(0, 0, 25, 0), sizing_mode='stretch_width')"
      ]
     },
     "metadata": {
      "application/vnd.holoviews_exec.v0+json": {
       "id": "1564"
      }
     },
     "output_type": "display_data"
    },
    {
     "data": {},
     "metadata": {},
     "output_type": "display_data"
    },
    {
     "data": {
      "application/vnd.holoviews_exec.v0+json": "",
      "text/html": [
       "<div id='1566'>\n",
       "\n",
       "\n",
       "\n",
       "\n",
       "\n",
       "  <div class=\"bk-root\" id=\"0663c6b3-ea19-4041-888e-820c188d38eb\" data-root-id=\"1566\"></div>\n",
       "</div>\n",
       "<script type=\"application/javascript\">(function(root) {\n",
       "  function embed_document(root) {\n",
       "    var docs_json = {\"6f3cf8fe-e890-4401-81e1-c873ae607ccb\":{\"defs\":[],\"roots\":{\"references\":[{\"attributes\":{\"css_classes\":[\"alert\",\"alert-success\",\"markdown\"],\"margin\":[0,0,25,0],\"name\":\"Alert01150\",\"sizing_mode\":\"stretch_width\",\"text\":\"&lt;p&gt;fasta file succesfully done /home/christine/Documents/These/frangiPANeGIT2/frangiPANe_PANRice/03-clustering/PANRice_allContigs.fa&lt;/p&gt;\"},\"id\":\"1566\",\"type\":\"panel.models.markup.HTML\"},{\"attributes\":{\"client_comm_id\":\"b5af8475dd064859af83f31d0aec49b9\",\"comm_id\":\"4de3a9ea0c0d44acaf47e1f14625befc\",\"plot_id\":\"1566\"},\"id\":\"1567\",\"type\":\"panel.models.comm_manager.CommManager\"}],\"root_ids\":[\"1566\",\"1567\"]},\"title\":\"Bokeh Application\",\"version\":\"2.3.3\"}};\n",
       "    var render_items = [{\"docid\":\"6f3cf8fe-e890-4401-81e1-c873ae607ccb\",\"root_ids\":[\"1566\"],\"roots\":{\"1566\":\"0663c6b3-ea19-4041-888e-820c188d38eb\"}}];\n",
       "    root.Bokeh.embed.embed_items_notebook(docs_json, render_items);\n",
       "  }\n",
       "  if (root.Bokeh !== undefined && root.Bokeh.Panel !== undefined) {\n",
       "    embed_document(root);\n",
       "  } else {\n",
       "    var attempts = 0;\n",
       "    var timer = setInterval(function(root) {\n",
       "      if (root.Bokeh !== undefined && root.Bokeh.Panel !== undefined) {\n",
       "        clearInterval(timer);\n",
       "        embed_document(root);\n",
       "      } else if (document.readyState == \"complete\") {\n",
       "        attempts++;\n",
       "        if (attempts > 100) {\n",
       "          clearInterval(timer);\n",
       "          console.log(\"Bokeh: ERROR: Unable to run BokehJS code because BokehJS library is missing\");\n",
       "        }\n",
       "      }\n",
       "    }, 10, root)\n",
       "  }\n",
       "})(window);</script>"
      ],
      "text/plain": [
       "Alert(str, alert_type='success', css_classes=['alert', 'alert-success']...], margin=(0, 0, 25, 0), sizing_mode='stretch_width')"
      ]
     },
     "metadata": {
      "application/vnd.holoviews_exec.v0+json": {
       "id": "1566"
      }
     },
     "output_type": "display_data"
    },
    {
     "data": {
      "text/html": [
       "<img src onerror=\"var cell = this.closest('.jp-CodeCell');var editor = cell.querySelector('.jp-Editor');editor.style.background='LightBlue';this.parentNode.removeChild(this)\">"
      ],
      "text/plain": [
       "<IPython.core.display.HTML object>"
      ]
     },
     "metadata": {},
     "output_type": "display_data"
    }
   ],
   "source": [
    "### create clustering directory\n",
    "output_clustering_dir = output_dir + \"/03-clustering/\"\n",
    "make_dir(output_clustering_dir)\n",
    "\n",
    "copy_cluster(output_assembly_ctgs,output_clustering_dir)\n",
    "### ADD logger\n",
    "\n",
    "merged_contigs = output_clustering_dir+project_name.value+\"_allContigs.fa\"    \n",
    "merging_cluster(output_clustering_dir,merged_contigs)\n",
    "\n",
    "bgc('LightBlue')"
   ]
  },
  {
   "cell_type": "code",
   "execution_count": null,
   "metadata": {},
   "outputs": [],
   "source": [
    "STAT"
   ]
  },
  {
   "cell_type": "code",
   "execution_count": 57,
   "metadata": {},
   "outputs": [
    {
     "data": {},
     "metadata": {},
     "output_type": "display_data"
    },
    {
     "data": {
      "application/vnd.holoviews_exec.v0+json": "",
      "text/html": [
       "<div id='1568'>\n",
       "\n",
       "\n",
       "\n",
       "\n",
       "\n",
       "  <div class=\"bk-root\" id=\"03f50c4c-9f6b-4d30-805d-8261723cc28d\" data-root-id=\"1568\"></div>\n",
       "</div>\n",
       "<script type=\"application/javascript\">(function(root) {\n",
       "  function embed_document(root) {\n",
       "    var docs_json = {\"9a9960b5-2e1e-4c39-b535-01d23f2ef28d\":{\"defs\":[],\"roots\":{\"references\":[{\"attributes\":{\"css_classes\":[\"alert\",\"alert-secondary\",\"markdown\"],\"margin\":[0,0,25,0],\"name\":\"Alert01154\",\"sizing_mode\":\"stretch_width\",\"text\":\"&lt;p&gt;Clustering all contigs with cdhit-est.. on progress&lt;/p&gt;\"},\"id\":\"1568\",\"type\":\"panel.models.markup.HTML\"},{\"attributes\":{\"client_comm_id\":\"15cb7652036b426b9147bb3efe0e867e\",\"comm_id\":\"e958bbcd01f745418a2810e3228374f2\",\"plot_id\":\"1568\"},\"id\":\"1569\",\"type\":\"panel.models.comm_manager.CommManager\"}],\"root_ids\":[\"1568\",\"1569\"]},\"title\":\"Bokeh Application\",\"version\":\"2.3.3\"}};\n",
       "    var render_items = [{\"docid\":\"9a9960b5-2e1e-4c39-b535-01d23f2ef28d\",\"root_ids\":[\"1568\"],\"roots\":{\"1568\":\"03f50c4c-9f6b-4d30-805d-8261723cc28d\"}}];\n",
       "    root.Bokeh.embed.embed_items_notebook(docs_json, render_items);\n",
       "  }\n",
       "  if (root.Bokeh !== undefined && root.Bokeh.Panel !== undefined) {\n",
       "    embed_document(root);\n",
       "  } else {\n",
       "    var attempts = 0;\n",
       "    var timer = setInterval(function(root) {\n",
       "      if (root.Bokeh !== undefined && root.Bokeh.Panel !== undefined) {\n",
       "        clearInterval(timer);\n",
       "        embed_document(root);\n",
       "      } else if (document.readyState == \"complete\") {\n",
       "        attempts++;\n",
       "        if (attempts > 100) {\n",
       "          clearInterval(timer);\n",
       "          console.log(\"Bokeh: ERROR: Unable to run BokehJS code because BokehJS library is missing\");\n",
       "        }\n",
       "      }\n",
       "    }, 10, root)\n",
       "  }\n",
       "})(window);</script>"
      ],
      "text/plain": [
       "Alert(str, alert_type='secondary', css_classes=['alert', 'alert-secondary...], margin=(0, 0, 25, 0), sizing_mode='stretch_width')"
      ]
     },
     "metadata": {
      "application/vnd.holoviews_exec.v0+json": {
       "id": "1568"
      }
     },
     "output_type": "display_data"
    },
    {
     "data": {},
     "metadata": {},
     "output_type": "display_data"
    },
    {
     "data": {
      "application/vnd.holoviews_exec.v0+json": "",
      "text/html": [
       "<div id='1570'>\n",
       "\n",
       "\n",
       "\n",
       "\n",
       "\n",
       "  <div class=\"bk-root\" id=\"ca6fc8b9-e5b5-4cbf-99f2-5d4de2233b46\" data-root-id=\"1570\"></div>\n",
       "</div>\n",
       "<script type=\"application/javascript\">(function(root) {\n",
       "  function embed_document(root) {\n",
       "    var docs_json = {\"e068abab-1fbd-41e2-9600-1903d92ba2fa\":{\"defs\":[],\"roots\":{\"references\":[{\"attributes\":{\"css_classes\":[\"alert\",\"alert-success\",\"markdown\"],\"margin\":[0,0,25,0],\"name\":\"Alert01158\",\"sizing_mode\":\"stretch_width\",\"text\":\"&lt;p&gt;Clustering successfully done !&lt;/p&gt;\"},\"id\":\"1570\",\"type\":\"panel.models.markup.HTML\"},{\"attributes\":{\"client_comm_id\":\"c88026b436694127ae86753dff6794c0\",\"comm_id\":\"dadcb10812354c35be53a1bc17a9a7a5\",\"plot_id\":\"1570\"},\"id\":\"1571\",\"type\":\"panel.models.comm_manager.CommManager\"}],\"root_ids\":[\"1570\",\"1571\"]},\"title\":\"Bokeh Application\",\"version\":\"2.3.3\"}};\n",
       "    var render_items = [{\"docid\":\"e068abab-1fbd-41e2-9600-1903d92ba2fa\",\"root_ids\":[\"1570\"],\"roots\":{\"1570\":\"ca6fc8b9-e5b5-4cbf-99f2-5d4de2233b46\"}}];\n",
       "    root.Bokeh.embed.embed_items_notebook(docs_json, render_items);\n",
       "  }\n",
       "  if (root.Bokeh !== undefined && root.Bokeh.Panel !== undefined) {\n",
       "    embed_document(root);\n",
       "  } else {\n",
       "    var attempts = 0;\n",
       "    var timer = setInterval(function(root) {\n",
       "      if (root.Bokeh !== undefined && root.Bokeh.Panel !== undefined) {\n",
       "        clearInterval(timer);\n",
       "        embed_document(root);\n",
       "      } else if (document.readyState == \"complete\") {\n",
       "        attempts++;\n",
       "        if (attempts > 100) {\n",
       "          clearInterval(timer);\n",
       "          console.log(\"Bokeh: ERROR: Unable to run BokehJS code because BokehJS library is missing\");\n",
       "        }\n",
       "      }\n",
       "    }, 10, root)\n",
       "  }\n",
       "})(window);</script>"
      ],
      "text/plain": [
       "Alert(str, alert_type='success', css_classes=['alert', 'alert-success']...], margin=(0, 0, 25, 0), sizing_mode='stretch_width')"
      ]
     },
     "metadata": {
      "application/vnd.holoviews_exec.v0+json": {
       "id": "1570"
      }
     },
     "output_type": "display_data"
    },
    {
     "data": {},
     "metadata": {},
     "output_type": "display_data"
    },
    {
     "data": {
      "application/vnd.holoviews_exec.v0+json": "",
      "text/html": [
       "<div id='1572'>\n",
       "\n",
       "\n",
       "\n",
       "\n",
       "\n",
       "  <div class=\"bk-root\" id=\"67ee8ccc-cb01-43b4-a597-5bede2d61ffa\" data-root-id=\"1572\"></div>\n",
       "</div>\n",
       "<script type=\"application/javascript\">(function(root) {\n",
       "  function embed_document(root) {\n",
       "    var docs_json = {\"6deb2f15-6fdc-4d28-ae6b-f11237c71930\":{\"defs\":[],\"roots\":{\"references\":[{\"attributes\":{\"children\":[{\"id\":\"1576\"},{\"id\":\"1577\"}],\"margin\":[0,0,0,0],\"name\":\"Row01168\"},\"id\":\"1575\",\"type\":\"Row\"},{\"attributes\":{\"css_classes\":[\"markdown\"],\"margin\":[5,5,5,5],\"name\":\"Markdown01166\",\"text\":\"&lt;h3&gt;23249 singletons&lt;/h3&gt;\\n&lt;ul&gt;\\n&lt;li&gt;min - max length : 64 bp -  24809 bp&lt;/li&gt;\\n&lt;li&gt;mean length : 530 bp&lt;/li&gt;\\n&lt;/ul&gt;\"},\"id\":\"1577\",\"type\":\"panel.models.markup.HTML\"},{\"attributes\":{\"height\":360,\"margin\":[5,5,5,5],\"name\":\"Matplotlib01171\",\"text\":\"&lt;img src=&quot;data:image/png;base64,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&quot; width=&quot;720px&quot; height=&quot;360px&quot; alt=&quot;&quot;&gt;&lt;/img&gt;\",\"width\":720},\"id\":\"1578\",\"type\":\"panel.models.markup.HTML\"},{\"attributes\":{\"css_classes\":[\"markdown\"],\"margin\":[5,5,5,5],\"name\":\"Markdown01164\",\"text\":\"&lt;h3&gt;2923 clusters&lt;/h3&gt;\\n&lt;ul&gt;\\n&lt;li&gt;min - max length : 64 bp - 25694 bp&lt;/li&gt;\\n&lt;li&gt;mean length : 255&lt;/li&gt;\\n&lt;li&gt;from 2 to  176&lt;/li&gt;\\n&lt;li&gt;with ~ 3 sequences&lt;/li&gt;\\n&lt;/ul&gt;\"},\"id\":\"1576\",\"type\":\"panel.models.markup.HTML\"},{\"attributes\":{\"height\":360,\"margin\":[5,5,5,5],\"name\":\"Matplotlib01173\",\"text\":\"&lt;img src=&quot;data:image/png;base64,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&quot; width=&quot;720px&quot; height=&quot;360px&quot; alt=&quot;&quot;&gt;&lt;/img&gt;\",\"width\":720},\"id\":\"1579\",\"type\":\"panel.models.markup.HTML\"},{\"attributes\":{\"height\":360,\"margin\":[5,5,5,5],\"name\":\"Matplotlib01175\",\"text\":\"&lt;img src=&quot;data:image/png;base64,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&quot; width=&quot;720px&quot; height=&quot;360px&quot; alt=&quot;&quot;&gt;&lt;/img&gt;\",\"width\":720},\"id\":\"1580\",\"type\":\"panel.models.markup.HTML\"},{\"attributes\":{\"background\":\"WhiteSmoke\",\"children\":[{\"id\":\"1573\"},{\"id\":\"1574\"},{\"id\":\"1575\"},{\"id\":\"1578\"},{\"id\":\"1579\"},{\"id\":\"1580\"}],\"margin\":[0,0,0,0],\"name\":\"Column01177\",\"sizing_mode\":\"stretch_both\",\"width\":800},\"id\":\"1572\",\"type\":\"Column\"},{\"attributes\":{\"css_classes\":[\"markdown\"],\"margin\":[5,5,5,5],\"name\":\"Markdown01169\",\"text\":\"&lt;h1&gt;Some statistics about clustering step&lt;/h1&gt;\"},\"id\":\"1573\",\"type\":\"panel.models.markup.HTML\"},{\"attributes\":{\"client_comm_id\":\"5e47a1d9fa9f4906bc73e7cef7360f59\",\"comm_id\":\"5d2a1bf77a894cc7a88d04bed2ac1070\",\"plot_id\":\"1572\"},\"id\":\"1581\",\"type\":\"panel.models.comm_manager.CommManager\"},{\"attributes\":{\"css_classes\":[\"markdown\"],\"margin\":[5,5,5,5],\"name\":\"Markdown01162\",\"text\":\"&lt;h3&gt;26172 sequences&lt;/h3&gt;\\n&lt;ul&gt;\\n&lt;li&gt;min -  max length : 64 bp - 25694 bp&lt;/li&gt;\\n&lt;li&gt;mean length : 499 bp&lt;/li&gt;\\n&lt;/ul&gt;\"},\"id\":\"1574\",\"type\":\"panel.models.markup.HTML\"}],\"root_ids\":[\"1572\",\"1581\"]},\"title\":\"Bokeh Application\",\"version\":\"2.3.3\"}};\n",
       "    var render_items = [{\"docid\":\"6deb2f15-6fdc-4d28-ae6b-f11237c71930\",\"root_ids\":[\"1572\"],\"roots\":{\"1572\":\"67ee8ccc-cb01-43b4-a597-5bede2d61ffa\"}}];\n",
       "    root.Bokeh.embed.embed_items_notebook(docs_json, render_items);\n",
       "  }\n",
       "  if (root.Bokeh !== undefined && root.Bokeh.Panel !== undefined) {\n",
       "    embed_document(root);\n",
       "  } else {\n",
       "    var attempts = 0;\n",
       "    var timer = setInterval(function(root) {\n",
       "      if (root.Bokeh !== undefined && root.Bokeh.Panel !== undefined) {\n",
       "        clearInterval(timer);\n",
       "        embed_document(root);\n",
       "      } else if (document.readyState == \"complete\") {\n",
       "        attempts++;\n",
       "        if (attempts > 100) {\n",
       "          clearInterval(timer);\n",
       "          console.log(\"Bokeh: ERROR: Unable to run BokehJS code because BokehJS library is missing\");\n",
       "        }\n",
       "      }\n",
       "    }, 10, root)\n",
       "  }\n",
       "})(window);</script>"
      ],
      "text/plain": [
       "Column(background='WhiteSmoke', sizing_mode='stretch_both', width=800)\n",
       "    [0] Markdown(str)\n",
       "    [1] Markdown(str)\n",
       "    [2] Row\n",
       "        [0] Markdown(str)\n",
       "        [1] Markdown(str)\n",
       "    [3] Matplotlib(Figure)\n",
       "    [4] Matplotlib(Figure)\n",
       "    [5] Matplotlib(Figure)"
      ]
     },
     "metadata": {
      "application/vnd.holoviews_exec.v0+json": {
       "id": "1572"
      }
     },
     "output_type": "display_data"
    },
    {
     "data": {
      "text/html": [
       "<img src onerror=\"var cell = this.closest('.jp-CodeCell');var editor = cell.querySelector('.jp-Editor');editor.style.background='LightBlue';this.parentNode.removeChild(this)\">"
      ],
      "text/plain": [
       "<IPython.core.display.HTML object>"
      ]
     },
     "metadata": {},
     "output_type": "display_data"
    }
   ],
   "source": [
    "\n",
    "# TODO CD : CHECK NB SEQUENCE OK ET PRINT DANS LE MSG + add logger\n",
    "\n",
    "# Run clustering\n",
    "cdhit_fasta = output_clustering_dir+project_name.value+\"_clusters.cdhit\"  \n",
    "cdhit(merged_contigs,0.8,0.95, cdhit_fasta, logger)\n",
    "\n",
    "# Analysing\n",
    "cdhit_cluster = cdhit_fasta + \".clstr\"\n",
    "cdhit_csv=cdhit_fasta + \".csv\"\n",
    "df_cdhit=parse_cdhit(cdhit_cluster, df_group, cdhit_csv)\n",
    "\n",
    "#Dashboard\n",
    "dashboard_cdhit(df_cdhit)\n",
    "\n",
    "bgc('LightBlue')"
   ]
  },
  {
   "cell_type": "markdown",
   "metadata": {},
   "source": [
    "[<img src=\"Images/up-arrow.png\" alt=\"Top\" width=2% align=\"right\">](#home \"Go back to the top\")\n",
    "    \n",
    "### <span style=\"color: #919395\"> 6 - Anchoring Clusters on Reference Genome<a class=\"anchor\" id=\"anchoring\"></a></span>\n",
    "\n",
    "#### __Generating panreference__\n",
    "\n",
    "---\n"
   ]
  },
  {
   "cell_type": "code",
   "execution_count": 58,
   "metadata": {},
   "outputs": [
    {
     "data": {},
     "metadata": {},
     "output_type": "display_data"
    },
    {
     "data": {
      "application/vnd.holoviews_exec.v0+json": "",
      "text/html": [
       "<div id='1582'>\n",
       "\n",
       "\n",
       "\n",
       "\n",
       "\n",
       "  <div class=\"bk-root\" id=\"da488be7-2ba6-4d24-9612-a36e79c75595\" data-root-id=\"1582\"></div>\n",
       "</div>\n",
       "<script type=\"application/javascript\">(function(root) {\n",
       "  function embed_document(root) {\n",
       "    var docs_json = {\"c1d992ed-c3bc-4fa2-a933-5ecf3c9a1e3d\":{\"defs\":[],\"roots\":{\"references\":[{\"attributes\":{\"css_classes\":[\"alert\",\"alert-success\",\"markdown\"],\"margin\":[0,0,25,0],\"name\":\"Alert01180\",\"sizing_mode\":\"stretch_width\",\"text\":\"&lt;p&gt;Directory /home/christine/Documents/These/frangiPANeGIT2/frangiPANe_PANRice/04-panreference/ created&lt;/p&gt;\"},\"id\":\"1582\",\"type\":\"panel.models.markup.HTML\"},{\"attributes\":{\"client_comm_id\":\"e848c47416b349f596b49946aca2e2c2\",\"comm_id\":\"ea310a5bc0ca4352bfa114b8bf2cc806\",\"plot_id\":\"1582\"},\"id\":\"1583\",\"type\":\"panel.models.comm_manager.CommManager\"}],\"root_ids\":[\"1582\",\"1583\"]},\"title\":\"Bokeh Application\",\"version\":\"2.3.3\"}};\n",
       "    var render_items = [{\"docid\":\"c1d992ed-c3bc-4fa2-a933-5ecf3c9a1e3d\",\"root_ids\":[\"1582\"],\"roots\":{\"1582\":\"da488be7-2ba6-4d24-9612-a36e79c75595\"}}];\n",
       "    root.Bokeh.embed.embed_items_notebook(docs_json, render_items);\n",
       "  }\n",
       "  if (root.Bokeh !== undefined && root.Bokeh.Panel !== undefined) {\n",
       "    embed_document(root);\n",
       "  } else {\n",
       "    var attempts = 0;\n",
       "    var timer = setInterval(function(root) {\n",
       "      if (root.Bokeh !== undefined && root.Bokeh.Panel !== undefined) {\n",
       "        clearInterval(timer);\n",
       "        embed_document(root);\n",
       "      } else if (document.readyState == \"complete\") {\n",
       "        attempts++;\n",
       "        if (attempts > 100) {\n",
       "          clearInterval(timer);\n",
       "          console.log(\"Bokeh: ERROR: Unable to run BokehJS code because BokehJS library is missing\");\n",
       "        }\n",
       "      }\n",
       "    }, 10, root)\n",
       "  }\n",
       "})(window);</script>"
      ],
      "text/plain": [
       "Alert(str, alert_type='success', css_classes=['alert', 'alert-success']...], margin=(0, 0, 25, 0), sizing_mode='stretch_width')"
      ]
     },
     "metadata": {
      "application/vnd.holoviews_exec.v0+json": {
       "id": "1582"
      }
     },
     "output_type": "display_data"
    },
    {
     "data": {},
     "metadata": {},
     "output_type": "display_data"
    },
    {
     "data": {
      "application/vnd.holoviews_exec.v0+json": "",
      "text/html": [
       "<div id='1584'>\n",
       "\n",
       "\n",
       "\n",
       "\n",
       "\n",
       "  <div class=\"bk-root\" id=\"15e73d9c-c25e-4084-9d42-67de02b480bf\" data-root-id=\"1584\"></div>\n",
       "</div>\n",
       "<script type=\"application/javascript\">(function(root) {\n",
       "  function embed_document(root) {\n",
       "    var docs_json = {\"bc1c2eca-2518-4015-8d22-0f74202929ce\":{\"defs\":[],\"roots\":{\"references\":[{\"attributes\":{\"client_comm_id\":\"1b5f57d6781049108df40ed73ce89675\",\"comm_id\":\"e89d84458dc540deb608dba9cfbb4816\",\"plot_id\":\"1584\"},\"id\":\"1585\",\"type\":\"panel.models.comm_manager.CommManager\"},{\"attributes\":{\"css_classes\":[\"alert\",\"alert-success\",\"markdown\"],\"margin\":[0,0,25,0],\"name\":\"Alert01184\",\"sizing_mode\":\"stretch_width\",\"text\":\"&lt;p&gt;Panreference file successfully created : /home/christine/Documents/These/frangiPANeGIT2/frangiPANe_PANRice/04-panreference/PANRice_panref.fasta&lt;/p&gt;\"},\"id\":\"1584\",\"type\":\"panel.models.markup.HTML\"}],\"root_ids\":[\"1584\",\"1585\"]},\"title\":\"Bokeh Application\",\"version\":\"2.3.3\"}};\n",
       "    var render_items = [{\"docid\":\"bc1c2eca-2518-4015-8d22-0f74202929ce\",\"root_ids\":[\"1584\"],\"roots\":{\"1584\":\"15e73d9c-c25e-4084-9d42-67de02b480bf\"}}];\n",
       "    root.Bokeh.embed.embed_items_notebook(docs_json, render_items);\n",
       "  }\n",
       "  if (root.Bokeh !== undefined && root.Bokeh.Panel !== undefined) {\n",
       "    embed_document(root);\n",
       "  } else {\n",
       "    var attempts = 0;\n",
       "    var timer = setInterval(function(root) {\n",
       "      if (root.Bokeh !== undefined && root.Bokeh.Panel !== undefined) {\n",
       "        clearInterval(timer);\n",
       "        embed_document(root);\n",
       "      } else if (document.readyState == \"complete\") {\n",
       "        attempts++;\n",
       "        if (attempts > 100) {\n",
       "          clearInterval(timer);\n",
       "          console.log(\"Bokeh: ERROR: Unable to run BokehJS code because BokehJS library is missing\");\n",
       "        }\n",
       "      }\n",
       "    }, 10, root)\n",
       "  }\n",
       "})(window);</script>"
      ],
      "text/plain": [
       "Alert(str, alert_type='success', css_classes=['alert', 'alert-success']...], margin=(0, 0, 25, 0), sizing_mode='stretch_width')"
      ]
     },
     "metadata": {
      "application/vnd.holoviews_exec.v0+json": {
       "id": "1584"
      }
     },
     "output_type": "display_data"
    },
    {
     "data": {},
     "metadata": {},
     "output_type": "display_data"
    },
    {
     "data": {
      "application/vnd.holoviews_exec.v0+json": "",
      "text/html": [
       "<div id='1586'>\n",
       "\n",
       "\n",
       "\n",
       "\n",
       "\n",
       "  <div class=\"bk-root\" id=\"f1e45ee4-2feb-4a82-8201-606ac2b979e8\" data-root-id=\"1586\"></div>\n",
       "</div>\n",
       "<script type=\"application/javascript\">(function(root) {\n",
       "  function embed_document(root) {\n",
       "    var docs_json = {\"f096bc92-d64f-4429-9a98-91aadfb8180d\":{\"defs\":[],\"roots\":{\"references\":[{\"attributes\":{\"css_classes\":[\"alert\",\"alert-info\",\"markdown\"],\"margin\":[0,0,25,0],\"name\":\"Alert01188\",\"sizing_mode\":\"stretch_width\",\"text\":\"&lt;p&gt;Searching index files for reference file /home/christine/Documents/These/frangiPANeGIT2/frangiPANe_PANRice/04-panreference/PANRice_panref.fasta&lt;/p&gt;\"},\"id\":\"1586\",\"type\":\"panel.models.markup.HTML\"},{\"attributes\":{\"client_comm_id\":\"f389b72ab5bd4953a0ebd75c1c1bf79c\",\"comm_id\":\"8285129d68be4e6da4da619ff3157529\",\"plot_id\":\"1586\"},\"id\":\"1587\",\"type\":\"panel.models.comm_manager.CommManager\"}],\"root_ids\":[\"1586\",\"1587\"]},\"title\":\"Bokeh Application\",\"version\":\"2.3.3\"}};\n",
       "    var render_items = [{\"docid\":\"f096bc92-d64f-4429-9a98-91aadfb8180d\",\"root_ids\":[\"1586\"],\"roots\":{\"1586\":\"f1e45ee4-2feb-4a82-8201-606ac2b979e8\"}}];\n",
       "    root.Bokeh.embed.embed_items_notebook(docs_json, render_items);\n",
       "  }\n",
       "  if (root.Bokeh !== undefined && root.Bokeh.Panel !== undefined) {\n",
       "    embed_document(root);\n",
       "  } else {\n",
       "    var attempts = 0;\n",
       "    var timer = setInterval(function(root) {\n",
       "      if (root.Bokeh !== undefined && root.Bokeh.Panel !== undefined) {\n",
       "        clearInterval(timer);\n",
       "        embed_document(root);\n",
       "      } else if (document.readyState == \"complete\") {\n",
       "        attempts++;\n",
       "        if (attempts > 100) {\n",
       "          clearInterval(timer);\n",
       "          console.log(\"Bokeh: ERROR: Unable to run BokehJS code because BokehJS library is missing\");\n",
       "        }\n",
       "      }\n",
       "    }, 10, root)\n",
       "  }\n",
       "})(window);</script>"
      ],
      "text/plain": [
       "Alert(str, alert_type='info', css_classes=['alert', 'alert-info'], margin=(0, 0, 25, 0), sizing_mode='stretch_width')"
      ]
     },
     "metadata": {
      "application/vnd.holoviews_exec.v0+json": {
       "id": "1586"
      }
     },
     "output_type": "display_data"
    },
    {
     "data": {},
     "metadata": {},
     "output_type": "display_data"
    },
    {
     "data": {
      "application/vnd.holoviews_exec.v0+json": "",
      "text/html": [
       "<div id='1588'>\n",
       "\n",
       "\n",
       "\n",
       "\n",
       "\n",
       "  <div class=\"bk-root\" id=\"8273784e-fff5-4017-8b8b-e7f1b746bc43\" data-root-id=\"1588\"></div>\n",
       "</div>\n",
       "<script type=\"application/javascript\">(function(root) {\n",
       "  function embed_document(root) {\n",
       "    var docs_json = {\"538cb2ea-7f80-481c-b935-b0ee5822cb55\":{\"defs\":[],\"roots\":{\"references\":[{\"attributes\":{\"client_comm_id\":\"c344113cc1ec4c1cad7f17d7794277ea\",\"comm_id\":\"6df6d3607b3b407ca78e73b1a0c3f5ff\",\"plot_id\":\"1588\"},\"id\":\"1589\",\"type\":\"panel.models.comm_manager.CommManager\"},{\"attributes\":{\"css_classes\":[\"alert\",\"alert-secondary\",\"markdown\"],\"margin\":[0,0,25,0],\"name\":\"Alert01192\",\"sizing_mode\":\"stretch_width\",\"text\":\"&lt;p&gt;Indexation in progress with bwa index&amp;hellip;&lt;/p&gt;\"},\"id\":\"1588\",\"type\":\"panel.models.markup.HTML\"}],\"root_ids\":[\"1588\",\"1589\"]},\"title\":\"Bokeh Application\",\"version\":\"2.3.3\"}};\n",
       "    var render_items = [{\"docid\":\"538cb2ea-7f80-481c-b935-b0ee5822cb55\",\"root_ids\":[\"1588\"],\"roots\":{\"1588\":\"8273784e-fff5-4017-8b8b-e7f1b746bc43\"}}];\n",
       "    root.Bokeh.embed.embed_items_notebook(docs_json, render_items);\n",
       "  }\n",
       "  if (root.Bokeh !== undefined && root.Bokeh.Panel !== undefined) {\n",
       "    embed_document(root);\n",
       "  } else {\n",
       "    var attempts = 0;\n",
       "    var timer = setInterval(function(root) {\n",
       "      if (root.Bokeh !== undefined && root.Bokeh.Panel !== undefined) {\n",
       "        clearInterval(timer);\n",
       "        embed_document(root);\n",
       "      } else if (document.readyState == \"complete\") {\n",
       "        attempts++;\n",
       "        if (attempts > 100) {\n",
       "          clearInterval(timer);\n",
       "          console.log(\"Bokeh: ERROR: Unable to run BokehJS code because BokehJS library is missing\");\n",
       "        }\n",
       "      }\n",
       "    }, 10, root)\n",
       "  }\n",
       "})(window);</script>"
      ],
      "text/plain": [
       "Alert(str, alert_type='secondary', css_classes=['alert', 'alert-secondary...], margin=(0, 0, 25, 0), sizing_mode='stretch_width')"
      ]
     },
     "metadata": {
      "application/vnd.holoviews_exec.v0+json": {
       "id": "1588"
      }
     },
     "output_type": "display_data"
    },
    {
     "data": {},
     "metadata": {},
     "output_type": "display_data"
    },
    {
     "data": {
      "application/vnd.holoviews_exec.v0+json": "",
      "text/html": [
       "<div id='1590'>\n",
       "\n",
       "\n",
       "\n",
       "\n",
       "\n",
       "  <div class=\"bk-root\" id=\"f631ba1a-34a7-4798-a01a-a4735947a422\" data-root-id=\"1590\"></div>\n",
       "</div>\n",
       "<script type=\"application/javascript\">(function(root) {\n",
       "  function embed_document(root) {\n",
       "    var docs_json = {\"5877f13f-3512-4db1-a507-bc80e6613106\":{\"defs\":[],\"roots\":{\"references\":[{\"attributes\":{\"client_comm_id\":\"0bf9179c20d2414db49245b2132f4f92\",\"comm_id\":\"18290ef363e24dbfb55b7345e2ba9b93\",\"plot_id\":\"1590\"},\"id\":\"1591\",\"type\":\"panel.models.comm_manager.CommManager\"},{\"attributes\":{\"css_classes\":[\"alert\",\"alert-success\",\"markdown\"],\"margin\":[0,0,25,0],\"name\":\"Alert01196\",\"sizing_mode\":\"stretch_width\",\"text\":\"&lt;h3&gt;indexation with bwa index Successful&lt;/h3&gt;\\n&lt;hr&gt;\\n\\n&lt;ul&gt;\\n&lt;li&gt;REFERENCE GENOME : /home/christine/Documents/These/frangiPANeGIT2/frangiPANe_PANRice/04-panreference/PANRice_panref.fasta&lt;/li&gt;\\n&lt;li&gt;COMMAND :  bwa index /home/christine/Documents/These/frangiPANeGIT2/frangiPANe_PANRice/04-panreference/PANRice_panref.fasta&lt;/li&gt;\\n&lt;li&gt;Log bwa into log file&lt;/li&gt;\\n&lt;/ul&gt;\"},\"id\":\"1590\",\"type\":\"panel.models.markup.HTML\"}],\"root_ids\":[\"1590\",\"1591\"]},\"title\":\"Bokeh Application\",\"version\":\"2.3.3\"}};\n",
       "    var render_items = [{\"docid\":\"5877f13f-3512-4db1-a507-bc80e6613106\",\"root_ids\":[\"1590\"],\"roots\":{\"1590\":\"f631ba1a-34a7-4798-a01a-a4735947a422\"}}];\n",
       "    root.Bokeh.embed.embed_items_notebook(docs_json, render_items);\n",
       "  }\n",
       "  if (root.Bokeh !== undefined && root.Bokeh.Panel !== undefined) {\n",
       "    embed_document(root);\n",
       "  } else {\n",
       "    var attempts = 0;\n",
       "    var timer = setInterval(function(root) {\n",
       "      if (root.Bokeh !== undefined && root.Bokeh.Panel !== undefined) {\n",
       "        clearInterval(timer);\n",
       "        embed_document(root);\n",
       "      } else if (document.readyState == \"complete\") {\n",
       "        attempts++;\n",
       "        if (attempts > 100) {\n",
       "          clearInterval(timer);\n",
       "          console.log(\"Bokeh: ERROR: Unable to run BokehJS code because BokehJS library is missing\");\n",
       "        }\n",
       "      }\n",
       "    }, 10, root)\n",
       "  }\n",
       "})(window);</script>"
      ],
      "text/plain": [
       "Alert(str, alert_type='success', css_classes=['alert', 'alert-success']...], margin=(0, 0, 25, 0), sizing_mode='stretch_width')"
      ]
     },
     "metadata": {
      "application/vnd.holoviews_exec.v0+json": {
       "id": "1590"
      }
     },
     "output_type": "display_data"
    },
    {
     "data": {
      "text/html": [
       "<img src onerror=\"var cell = this.closest('.jp-CodeCell');var editor = cell.querySelector('.jp-Editor');editor.style.background='LightBlue';this.parentNode.removeChild(this)\">"
      ],
      "text/plain": [
       "<IPython.core.display.HTML object>"
      ]
     },
     "metadata": {},
     "output_type": "display_data"
    }
   ],
   "source": [
    "### create  directory\n",
    "output_panref_dir = output_dir + \"/04-panreference/\"\n",
    "make_dir(output_panref_dir)\n",
    "\n",
    "panref_fasta = output_panref_dir + project_name.value+\"_panref.fasta\"\n",
    "filenames = [ref_file.value, cdhit_fasta]\n",
    "\n",
    "with open(panref_fasta, 'w') as outfile:\n",
    "    for fname in filenames:\n",
    "        with open(fname) as infile:\n",
    "            for line in infile:\n",
    "                outfile.write(line)\n",
    "\n",
    "display_alert(f\"Panreference file successfully created : {panref_fasta}\", \"success\")\n",
    "\n",
    "index_reference_genome(panref_fasta, logger)\n",
    "#total_genome_size=dashboard_genome(panref_fasta)\n",
    "\n",
    "bgc('LightBlue')"
   ]
  },
  {
   "cell_type": "markdown",
   "metadata": {},
   "source": [
    "#### __Mapping against panreference__\n"
   ]
  },
  {
   "cell_type": "code",
   "execution_count": 59,
   "metadata": {},
   "outputs": [
    {
     "data": {
      "text/html": [
       "<img src onerror=\"var cell = this.closest('.jp-CodeCell');var editor = cell.querySelector('.jp-Editor');editor.style.background='LightBlue';this.parentNode.removeChild(this)\">"
      ],
      "text/plain": [
       "<IPython.core.display.HTML object>"
      ]
     },
     "metadata": {},
     "output_type": "display_data"
    },
    {
     "data": {},
     "metadata": {},
     "output_type": "display_data"
    },
    {
     "data": {
      "application/vnd.holoviews_exec.v0+json": "",
      "text/html": [
       "<div id='1592'>\n",
       "\n",
       "\n",
       "\n",
       "\n",
       "\n",
       "  <div class=\"bk-root\" id=\"ad17d1ce-5b5f-48cf-96fe-8d7b1244a602\" data-root-id=\"1592\"></div>\n",
       "</div>\n",
       "<script type=\"application/javascript\">(function(root) {\n",
       "  function embed_document(root) {\n",
       "    var docs_json = {\"0a48d30c-4505-4518-b460-33710316edc1\":{\"defs\":[],\"roots\":{\"references\":[{\"attributes\":{\"css_classes\":[\"alert\",\"alert-success\",\"markdown\"],\"margin\":[0,0,25,0],\"name\":\"Alert01200\",\"sizing_mode\":\"stretch_width\",\"text\":\"&lt;p&gt;Directory /home/christine/Documents/These/frangiPANeGIT2/frangiPANe_PANRice/04-panreference//mapping/ created&lt;/p&gt;\"},\"id\":\"1592\",\"type\":\"panel.models.markup.HTML\"},{\"attributes\":{\"client_comm_id\":\"f54d4b831efe4d488f4fb05329987a7e\",\"comm_id\":\"aca153afd0c04c23a45fdd7d603a89a2\",\"plot_id\":\"1592\"},\"id\":\"1593\",\"type\":\"panel.models.comm_manager.CommManager\"}],\"root_ids\":[\"1592\",\"1593\"]},\"title\":\"Bokeh Application\",\"version\":\"2.3.3\"}};\n",
       "    var render_items = [{\"docid\":\"0a48d30c-4505-4518-b460-33710316edc1\",\"root_ids\":[\"1592\"],\"roots\":{\"1592\":\"ad17d1ce-5b5f-48cf-96fe-8d7b1244a602\"}}];\n",
       "    root.Bokeh.embed.embed_items_notebook(docs_json, render_items);\n",
       "  }\n",
       "  if (root.Bokeh !== undefined && root.Bokeh.Panel !== undefined) {\n",
       "    embed_document(root);\n",
       "  } else {\n",
       "    var attempts = 0;\n",
       "    var timer = setInterval(function(root) {\n",
       "      if (root.Bokeh !== undefined && root.Bokeh.Panel !== undefined) {\n",
       "        clearInterval(timer);\n",
       "        embed_document(root);\n",
       "      } else if (document.readyState == \"complete\") {\n",
       "        attempts++;\n",
       "        if (attempts > 100) {\n",
       "          clearInterval(timer);\n",
       "          console.log(\"Bokeh: ERROR: Unable to run BokehJS code because BokehJS library is missing\");\n",
       "        }\n",
       "      }\n",
       "    }, 10, root)\n",
       "  }\n",
       "})(window);</script>"
      ],
      "text/plain": [
       "Alert(str, alert_type='success', css_classes=['alert', 'alert-success']...], margin=(0, 0, 25, 0), sizing_mode='stretch_width')"
      ]
     },
     "metadata": {
      "application/vnd.holoviews_exec.v0+json": {
       "id": "1592"
      }
     },
     "output_type": "display_data"
    },
    {
     "data": {},
     "metadata": {},
     "output_type": "display_data"
    },
    {
     "data": {
      "application/vnd.holoviews_exec.v0+json": "",
      "text/html": [
       "<div id='1594'>\n",
       "\n",
       "\n",
       "\n",
       "\n",
       "\n",
       "  <div class=\"bk-root\" id=\"ca273515-99ff-4c6f-bdca-ca1111822cbc\" data-root-id=\"1594\"></div>\n",
       "</div>\n",
       "<script type=\"application/javascript\">(function(root) {\n",
       "  function embed_document(root) {\n",
       "    var docs_json = {\"fe9a4835-d6b1-4540-833f-b8527a389802\":{\"defs\":[],\"roots\":{\"references\":[{\"attributes\":{\"client_comm_id\":\"5662e975528c42a9a8f8f8696be6dd5a\",\"comm_id\":\"bbde97f02ff142219800cd87835612c3\",\"plot_id\":\"1594\"},\"id\":\"1595\",\"type\":\"panel.models.comm_manager.CommManager\"},{\"attributes\":{\"css_classes\":[\"alert\",\"alert-info\",\"markdown\"],\"margin\":[0,0,25,0],\"name\":\"Alert01204\",\"sizing_mode\":\"stretch_width\",\"text\":\"&lt;p&gt;Starting mapping with bwa mem in /home/christine/Documents/These/frangiPANeGIT2/frangiPANe_PANRice/04-panreference//mapping/&amp;hellip;&lt;/p&gt;\"},\"id\":\"1594\",\"type\":\"panel.models.markup.HTML\"}],\"root_ids\":[\"1594\",\"1595\"]},\"title\":\"Bokeh Application\",\"version\":\"2.3.3\"}};\n",
       "    var render_items = [{\"docid\":\"fe9a4835-d6b1-4540-833f-b8527a389802\",\"root_ids\":[\"1594\"],\"roots\":{\"1594\":\"ca273515-99ff-4c6f-bdca-ca1111822cbc\"}}];\n",
       "    root.Bokeh.embed.embed_items_notebook(docs_json, render_items);\n",
       "  }\n",
       "  if (root.Bokeh !== undefined && root.Bokeh.Panel !== undefined) {\n",
       "    embed_document(root);\n",
       "  } else {\n",
       "    var attempts = 0;\n",
       "    var timer = setInterval(function(root) {\n",
       "      if (root.Bokeh !== undefined && root.Bokeh.Panel !== undefined) {\n",
       "        clearInterval(timer);\n",
       "        embed_document(root);\n",
       "      } else if (document.readyState == \"complete\") {\n",
       "        attempts++;\n",
       "        if (attempts > 100) {\n",
       "          clearInterval(timer);\n",
       "          console.log(\"Bokeh: ERROR: Unable to run BokehJS code because BokehJS library is missing\");\n",
       "        }\n",
       "      }\n",
       "    }, 10, root)\n",
       "  }\n",
       "})(window);</script>"
      ],
      "text/plain": [
       "Alert(str, alert_type='info', css_classes=['alert', 'alert-info'], margin=(0, 0, 25, 0), sizing_mode='stretch_width')"
      ]
     },
     "metadata": {
      "application/vnd.holoviews_exec.v0+json": {
       "id": "1594"
      }
     },
     "output_type": "display_data"
    },
    {
     "data": {},
     "metadata": {},
     "output_type": "display_data"
    },
    {
     "data": {
      "application/vnd.holoviews_exec.v0+json": "",
      "text/html": [
       "<div id='1596'>\n",
       "\n",
       "\n",
       "\n",
       "\n",
       "\n",
       "  <div class=\"bk-root\" id=\"eeb1c8e8-6f70-4327-9f9c-885f9894d044\" data-root-id=\"1596\"></div>\n",
       "</div>\n",
       "<script type=\"application/javascript\">(function(root) {\n",
       "  function embed_document(root) {\n",
       "    var docs_json = {\"0ad32693-56c0-46bf-81d2-f19c6aa347cd\":{\"defs\":[],\"roots\":{\"references\":[{\"attributes\":{\"css_classes\":[\"alert\",\"alert-secondary\",\"markdown\"],\"margin\":[0,0,25,0],\"name\":\"Alert01208\",\"sizing_mode\":\"stretch_width\",\"text\":\"&lt;p&gt;Mapping in progress for AA&amp;hellip;&lt;/p&gt;\"},\"id\":\"1596\",\"type\":\"panel.models.markup.HTML\"},{\"attributes\":{\"client_comm_id\":\"d6a6f5bc4b654866a69c8ae592afe874\",\"comm_id\":\"b9205495193f4b4a887fb8545266d192\",\"plot_id\":\"1596\"},\"id\":\"1597\",\"type\":\"panel.models.comm_manager.CommManager\"}],\"root_ids\":[\"1596\",\"1597\"]},\"title\":\"Bokeh Application\",\"version\":\"2.3.3\"}};\n",
       "    var render_items = [{\"docid\":\"0ad32693-56c0-46bf-81d2-f19c6aa347cd\",\"root_ids\":[\"1596\"],\"roots\":{\"1596\":\"eeb1c8e8-6f70-4327-9f9c-885f9894d044\"}}];\n",
       "    root.Bokeh.embed.embed_items_notebook(docs_json, render_items);\n",
       "  }\n",
       "  if (root.Bokeh !== undefined && root.Bokeh.Panel !== undefined) {\n",
       "    embed_document(root);\n",
       "  } else {\n",
       "    var attempts = 0;\n",
       "    var timer = setInterval(function(root) {\n",
       "      if (root.Bokeh !== undefined && root.Bokeh.Panel !== undefined) {\n",
       "        clearInterval(timer);\n",
       "        embed_document(root);\n",
       "      } else if (document.readyState == \"complete\") {\n",
       "        attempts++;\n",
       "        if (attempts > 100) {\n",
       "          clearInterval(timer);\n",
       "          console.log(\"Bokeh: ERROR: Unable to run BokehJS code because BokehJS library is missing\");\n",
       "        }\n",
       "      }\n",
       "    }, 10, root)\n",
       "  }\n",
       "})(window);</script>"
      ],
      "text/plain": [
       "Alert(str, alert_type='secondary', css_classes=['alert', 'alert-secondary...], margin=(0, 0, 25, 0), sizing_mode='stretch_width')"
      ]
     },
     "metadata": {
      "application/vnd.holoviews_exec.v0+json": {
       "id": "1596"
      }
     },
     "output_type": "display_data"
    },
    {
     "data": {},
     "metadata": {},
     "output_type": "display_data"
    },
    {
     "data": {
      "application/vnd.holoviews_exec.v0+json": "",
      "text/html": [
       "<div id='1598'>\n",
       "\n",
       "\n",
       "\n",
       "\n",
       "\n",
       "  <div class=\"bk-root\" id=\"fb0cc2ea-ef9a-44ff-a987-0e673e83f7e0\" data-root-id=\"1598\"></div>\n",
       "</div>\n",
       "<script type=\"application/javascript\">(function(root) {\n",
       "  function embed_document(root) {\n",
       "    var docs_json = {\"9ee78434-1238-449b-b9f9-7c12a5616aa1\":{\"defs\":[],\"roots\":{\"references\":[{\"attributes\":{\"css_classes\":[\"alert\",\"alert-success\",\"markdown\"],\"margin\":[0,0,25,0],\"name\":\"Alert01212\",\"sizing_mode\":\"stretch_width\",\"text\":\"&lt;p&gt;bwa mem executed successfully (/home/christine/Documents/These/frangiPANeGIT2/frangiPANe_PANRice/04-panreference//mapping/AA.sam)&lt;/p&gt;\"},\"id\":\"1598\",\"type\":\"panel.models.markup.HTML\"},{\"attributes\":{\"client_comm_id\":\"d4756e1a0f2b4c4c9f73c208df88af62\",\"comm_id\":\"0244a307adad4ba8acddb45626003f8b\",\"plot_id\":\"1598\"},\"id\":\"1599\",\"type\":\"panel.models.comm_manager.CommManager\"}],\"root_ids\":[\"1598\",\"1599\"]},\"title\":\"Bokeh Application\",\"version\":\"2.3.3\"}};\n",
       "    var render_items = [{\"docid\":\"9ee78434-1238-449b-b9f9-7c12a5616aa1\",\"root_ids\":[\"1598\"],\"roots\":{\"1598\":\"fb0cc2ea-ef9a-44ff-a987-0e673e83f7e0\"}}];\n",
       "    root.Bokeh.embed.embed_items_notebook(docs_json, render_items);\n",
       "  }\n",
       "  if (root.Bokeh !== undefined && root.Bokeh.Panel !== undefined) {\n",
       "    embed_document(root);\n",
       "  } else {\n",
       "    var attempts = 0;\n",
       "    var timer = setInterval(function(root) {\n",
       "      if (root.Bokeh !== undefined && root.Bokeh.Panel !== undefined) {\n",
       "        clearInterval(timer);\n",
       "        embed_document(root);\n",
       "      } else if (document.readyState == \"complete\") {\n",
       "        attempts++;\n",
       "        if (attempts > 100) {\n",
       "          clearInterval(timer);\n",
       "          console.log(\"Bokeh: ERROR: Unable to run BokehJS code because BokehJS library is missing\");\n",
       "        }\n",
       "      }\n",
       "    }, 10, root)\n",
       "  }\n",
       "})(window);</script>"
      ],
      "text/plain": [
       "Alert(str, alert_type='success', css_classes=['alert', 'alert-success']...], margin=(0, 0, 25, 0), sizing_mode='stretch_width')"
      ]
     },
     "metadata": {
      "application/vnd.holoviews_exec.v0+json": {
       "id": "1598"
      }
     },
     "output_type": "display_data"
    },
    {
     "data": {},
     "metadata": {},
     "output_type": "display_data"
    },
    {
     "data": {
      "application/vnd.holoviews_exec.v0+json": "",
      "text/html": [
       "<div id='1600'>\n",
       "\n",
       "\n",
       "\n",
       "\n",
       "\n",
       "  <div class=\"bk-root\" id=\"7dd5fc51-e4e3-4278-8d52-85f1230cc116\" data-root-id=\"1600\"></div>\n",
       "</div>\n",
       "<script type=\"application/javascript\">(function(root) {\n",
       "  function embed_document(root) {\n",
       "    var docs_json = {\"98731b8f-421b-483d-9b2f-dc007a854259\":{\"defs\":[],\"roots\":{\"references\":[{\"attributes\":{\"client_comm_id\":\"c0f6709135ec43c1aacdcad183b0b873\",\"comm_id\":\"18ece13d7d2e4df0b7192bc4042987ff\",\"plot_id\":\"1600\"},\"id\":\"1601\",\"type\":\"panel.models.comm_manager.CommManager\"},{\"attributes\":{\"css_classes\":[\"alert\",\"alert-secondary\",\"markdown\"],\"margin\":[0,0,25,0],\"name\":\"Alert01216\",\"sizing_mode\":\"stretch_width\",\"text\":\"&lt;p&gt;Sort bam file in progress for AA&amp;hellip;&lt;/p&gt;\"},\"id\":\"1600\",\"type\":\"panel.models.markup.HTML\"}],\"root_ids\":[\"1600\",\"1601\"]},\"title\":\"Bokeh Application\",\"version\":\"2.3.3\"}};\n",
       "    var render_items = [{\"docid\":\"98731b8f-421b-483d-9b2f-dc007a854259\",\"root_ids\":[\"1600\"],\"roots\":{\"1600\":\"7dd5fc51-e4e3-4278-8d52-85f1230cc116\"}}];\n",
       "    root.Bokeh.embed.embed_items_notebook(docs_json, render_items);\n",
       "  }\n",
       "  if (root.Bokeh !== undefined && root.Bokeh.Panel !== undefined) {\n",
       "    embed_document(root);\n",
       "  } else {\n",
       "    var attempts = 0;\n",
       "    var timer = setInterval(function(root) {\n",
       "      if (root.Bokeh !== undefined && root.Bokeh.Panel !== undefined) {\n",
       "        clearInterval(timer);\n",
       "        embed_document(root);\n",
       "      } else if (document.readyState == \"complete\") {\n",
       "        attempts++;\n",
       "        if (attempts > 100) {\n",
       "          clearInterval(timer);\n",
       "          console.log(\"Bokeh: ERROR: Unable to run BokehJS code because BokehJS library is missing\");\n",
       "        }\n",
       "      }\n",
       "    }, 10, root)\n",
       "  }\n",
       "})(window);</script>"
      ],
      "text/plain": [
       "Alert(str, alert_type='secondary', css_classes=['alert', 'alert-secondary...], margin=(0, 0, 25, 0), sizing_mode='stretch_width')"
      ]
     },
     "metadata": {
      "application/vnd.holoviews_exec.v0+json": {
       "id": "1600"
      }
     },
     "output_type": "display_data"
    },
    {
     "data": {},
     "metadata": {},
     "output_type": "display_data"
    },
    {
     "data": {
      "application/vnd.holoviews_exec.v0+json": "",
      "text/html": [
       "<div id='1602'>\n",
       "\n",
       "\n",
       "\n",
       "\n",
       "\n",
       "  <div class=\"bk-root\" id=\"b890af8e-f455-4cfc-b11b-3d871b7e593c\" data-root-id=\"1602\"></div>\n",
       "</div>\n",
       "<script type=\"application/javascript\">(function(root) {\n",
       "  function embed_document(root) {\n",
       "    var docs_json = {\"7329ecdd-cace-477e-8875-0d66c443c0e7\":{\"defs\":[],\"roots\":{\"references\":[{\"attributes\":{\"client_comm_id\":\"4fe5007cdff44ce08a4aba6f27989540\",\"comm_id\":\"4a0653f850e241fda690f921875b98d6\",\"plot_id\":\"1602\"},\"id\":\"1603\",\"type\":\"panel.models.comm_manager.CommManager\"},{\"attributes\":{\"css_classes\":[\"alert\",\"alert-success\",\"markdown\"],\"margin\":[0,0,25,0],\"name\":\"Alert01220\",\"sizing_mode\":\"stretch_width\",\"text\":\"&lt;p&gt;Sort bam file  successfully executed (/home/christine/Documents/These/frangiPANeGIT2/frangiPANe_PANRice/04-panreference//mapping/AA.bam)&lt;/p&gt;\"},\"id\":\"1602\",\"type\":\"panel.models.markup.HTML\"}],\"root_ids\":[\"1602\",\"1603\"]},\"title\":\"Bokeh Application\",\"version\":\"2.3.3\"}};\n",
       "    var render_items = [{\"docid\":\"7329ecdd-cace-477e-8875-0d66c443c0e7\",\"root_ids\":[\"1602\"],\"roots\":{\"1602\":\"b890af8e-f455-4cfc-b11b-3d871b7e593c\"}}];\n",
       "    root.Bokeh.embed.embed_items_notebook(docs_json, render_items);\n",
       "  }\n",
       "  if (root.Bokeh !== undefined && root.Bokeh.Panel !== undefined) {\n",
       "    embed_document(root);\n",
       "  } else {\n",
       "    var attempts = 0;\n",
       "    var timer = setInterval(function(root) {\n",
       "      if (root.Bokeh !== undefined && root.Bokeh.Panel !== undefined) {\n",
       "        clearInterval(timer);\n",
       "        embed_document(root);\n",
       "      } else if (document.readyState == \"complete\") {\n",
       "        attempts++;\n",
       "        if (attempts > 100) {\n",
       "          clearInterval(timer);\n",
       "          console.log(\"Bokeh: ERROR: Unable to run BokehJS code because BokehJS library is missing\");\n",
       "        }\n",
       "      }\n",
       "    }, 10, root)\n",
       "  }\n",
       "})(window);</script>"
      ],
      "text/plain": [
       "Alert(str, alert_type='success', css_classes=['alert', 'alert-success']...], margin=(0, 0, 25, 0), sizing_mode='stretch_width')"
      ]
     },
     "metadata": {
      "application/vnd.holoviews_exec.v0+json": {
       "id": "1602"
      }
     },
     "output_type": "display_data"
    },
    {
     "data": {},
     "metadata": {},
     "output_type": "display_data"
    },
    {
     "data": {
      "application/vnd.holoviews_exec.v0+json": "",
      "text/html": [
       "<div id='1604'>\n",
       "\n",
       "\n",
       "\n",
       "\n",
       "\n",
       "  <div class=\"bk-root\" id=\"fbf1de95-6766-4adf-a5ea-3a57d6799df1\" data-root-id=\"1604\"></div>\n",
       "</div>\n",
       "<script type=\"application/javascript\">(function(root) {\n",
       "  function embed_document(root) {\n",
       "    var docs_json = {\"3fc28902-d003-433b-bbf3-d7c20fb53436\":{\"defs\":[],\"roots\":{\"references\":[{\"attributes\":{\"css_classes\":[\"alert\",\"alert-secondary\",\"markdown\"],\"margin\":[0,0,25,0],\"name\":\"Alert01224\",\"sizing_mode\":\"stretch_width\",\"text\":\"&lt;p&gt;Mapping in progress for DT&amp;hellip;&lt;/p&gt;\"},\"id\":\"1604\",\"type\":\"panel.models.markup.HTML\"},{\"attributes\":{\"client_comm_id\":\"8f682260d5334330b57dd2e6a8495394\",\"comm_id\":\"35374a2972254a3c98ded8a8d36f040f\",\"plot_id\":\"1604\"},\"id\":\"1605\",\"type\":\"panel.models.comm_manager.CommManager\"}],\"root_ids\":[\"1604\",\"1605\"]},\"title\":\"Bokeh Application\",\"version\":\"2.3.3\"}};\n",
       "    var render_items = [{\"docid\":\"3fc28902-d003-433b-bbf3-d7c20fb53436\",\"root_ids\":[\"1604\"],\"roots\":{\"1604\":\"fbf1de95-6766-4adf-a5ea-3a57d6799df1\"}}];\n",
       "    root.Bokeh.embed.embed_items_notebook(docs_json, render_items);\n",
       "  }\n",
       "  if (root.Bokeh !== undefined && root.Bokeh.Panel !== undefined) {\n",
       "    embed_document(root);\n",
       "  } else {\n",
       "    var attempts = 0;\n",
       "    var timer = setInterval(function(root) {\n",
       "      if (root.Bokeh !== undefined && root.Bokeh.Panel !== undefined) {\n",
       "        clearInterval(timer);\n",
       "        embed_document(root);\n",
       "      } else if (document.readyState == \"complete\") {\n",
       "        attempts++;\n",
       "        if (attempts > 100) {\n",
       "          clearInterval(timer);\n",
       "          console.log(\"Bokeh: ERROR: Unable to run BokehJS code because BokehJS library is missing\");\n",
       "        }\n",
       "      }\n",
       "    }, 10, root)\n",
       "  }\n",
       "})(window);</script>"
      ],
      "text/plain": [
       "Alert(str, alert_type='secondary', css_classes=['alert', 'alert-secondary...], margin=(0, 0, 25, 0), sizing_mode='stretch_width')"
      ]
     },
     "metadata": {
      "application/vnd.holoviews_exec.v0+json": {
       "id": "1604"
      }
     },
     "output_type": "display_data"
    },
    {
     "data": {},
     "metadata": {},
     "output_type": "display_data"
    },
    {
     "data": {
      "application/vnd.holoviews_exec.v0+json": "",
      "text/html": [
       "<div id='1606'>\n",
       "\n",
       "\n",
       "\n",
       "\n",
       "\n",
       "  <div class=\"bk-root\" id=\"9405e0e5-81f2-465b-9f27-75033801148c\" data-root-id=\"1606\"></div>\n",
       "</div>\n",
       "<script type=\"application/javascript\">(function(root) {\n",
       "  function embed_document(root) {\n",
       "    var docs_json = {\"4e777035-6efd-4662-be66-521b74de8264\":{\"defs\":[],\"roots\":{\"references\":[{\"attributes\":{\"css_classes\":[\"alert\",\"alert-success\",\"markdown\"],\"margin\":[0,0,25,0],\"name\":\"Alert01228\",\"sizing_mode\":\"stretch_width\",\"text\":\"&lt;p&gt;bwa mem executed successfully (/home/christine/Documents/These/frangiPANeGIT2/frangiPANe_PANRice/04-panreference//mapping/DT.sam)&lt;/p&gt;\"},\"id\":\"1606\",\"type\":\"panel.models.markup.HTML\"},{\"attributes\":{\"client_comm_id\":\"70e0a01766d94877bfa7d74879a8b86d\",\"comm_id\":\"6142fc5615cc4e24822c55b3acdb4451\",\"plot_id\":\"1606\"},\"id\":\"1607\",\"type\":\"panel.models.comm_manager.CommManager\"}],\"root_ids\":[\"1606\",\"1607\"]},\"title\":\"Bokeh Application\",\"version\":\"2.3.3\"}};\n",
       "    var render_items = [{\"docid\":\"4e777035-6efd-4662-be66-521b74de8264\",\"root_ids\":[\"1606\"],\"roots\":{\"1606\":\"9405e0e5-81f2-465b-9f27-75033801148c\"}}];\n",
       "    root.Bokeh.embed.embed_items_notebook(docs_json, render_items);\n",
       "  }\n",
       "  if (root.Bokeh !== undefined && root.Bokeh.Panel !== undefined) {\n",
       "    embed_document(root);\n",
       "  } else {\n",
       "    var attempts = 0;\n",
       "    var timer = setInterval(function(root) {\n",
       "      if (root.Bokeh !== undefined && root.Bokeh.Panel !== undefined) {\n",
       "        clearInterval(timer);\n",
       "        embed_document(root);\n",
       "      } else if (document.readyState == \"complete\") {\n",
       "        attempts++;\n",
       "        if (attempts > 100) {\n",
       "          clearInterval(timer);\n",
       "          console.log(\"Bokeh: ERROR: Unable to run BokehJS code because BokehJS library is missing\");\n",
       "        }\n",
       "      }\n",
       "    }, 10, root)\n",
       "  }\n",
       "})(window);</script>"
      ],
      "text/plain": [
       "Alert(str, alert_type='success', css_classes=['alert', 'alert-success']...], margin=(0, 0, 25, 0), sizing_mode='stretch_width')"
      ]
     },
     "metadata": {
      "application/vnd.holoviews_exec.v0+json": {
       "id": "1606"
      }
     },
     "output_type": "display_data"
    },
    {
     "data": {},
     "metadata": {},
     "output_type": "display_data"
    },
    {
     "data": {
      "application/vnd.holoviews_exec.v0+json": "",
      "text/html": [
       "<div id='1608'>\n",
       "\n",
       "\n",
       "\n",
       "\n",
       "\n",
       "  <div class=\"bk-root\" id=\"831b7086-bf60-4c14-8843-de217283bc08\" data-root-id=\"1608\"></div>\n",
       "</div>\n",
       "<script type=\"application/javascript\">(function(root) {\n",
       "  function embed_document(root) {\n",
       "    var docs_json = {\"f7a8fcc9-de59-4a65-98c8-d959504225b7\":{\"defs\":[],\"roots\":{\"references\":[{\"attributes\":{\"client_comm_id\":\"ac0268bc9c3943758ea89a1986ad01a8\",\"comm_id\":\"7f464eaac8184557a2378a2588531de8\",\"plot_id\":\"1608\"},\"id\":\"1609\",\"type\":\"panel.models.comm_manager.CommManager\"},{\"attributes\":{\"css_classes\":[\"alert\",\"alert-secondary\",\"markdown\"],\"margin\":[0,0,25,0],\"name\":\"Alert01232\",\"sizing_mode\":\"stretch_width\",\"text\":\"&lt;p&gt;Sort bam file in progress for DT&amp;hellip;&lt;/p&gt;\"},\"id\":\"1608\",\"type\":\"panel.models.markup.HTML\"}],\"root_ids\":[\"1608\",\"1609\"]},\"title\":\"Bokeh Application\",\"version\":\"2.3.3\"}};\n",
       "    var render_items = [{\"docid\":\"f7a8fcc9-de59-4a65-98c8-d959504225b7\",\"root_ids\":[\"1608\"],\"roots\":{\"1608\":\"831b7086-bf60-4c14-8843-de217283bc08\"}}];\n",
       "    root.Bokeh.embed.embed_items_notebook(docs_json, render_items);\n",
       "  }\n",
       "  if (root.Bokeh !== undefined && root.Bokeh.Panel !== undefined) {\n",
       "    embed_document(root);\n",
       "  } else {\n",
       "    var attempts = 0;\n",
       "    var timer = setInterval(function(root) {\n",
       "      if (root.Bokeh !== undefined && root.Bokeh.Panel !== undefined) {\n",
       "        clearInterval(timer);\n",
       "        embed_document(root);\n",
       "      } else if (document.readyState == \"complete\") {\n",
       "        attempts++;\n",
       "        if (attempts > 100) {\n",
       "          clearInterval(timer);\n",
       "          console.log(\"Bokeh: ERROR: Unable to run BokehJS code because BokehJS library is missing\");\n",
       "        }\n",
       "      }\n",
       "    }, 10, root)\n",
       "  }\n",
       "})(window);</script>"
      ],
      "text/plain": [
       "Alert(str, alert_type='secondary', css_classes=['alert', 'alert-secondary...], margin=(0, 0, 25, 0), sizing_mode='stretch_width')"
      ]
     },
     "metadata": {
      "application/vnd.holoviews_exec.v0+json": {
       "id": "1608"
      }
     },
     "output_type": "display_data"
    },
    {
     "data": {},
     "metadata": {},
     "output_type": "display_data"
    },
    {
     "data": {
      "application/vnd.holoviews_exec.v0+json": "",
      "text/html": [
       "<div id='1610'>\n",
       "\n",
       "\n",
       "\n",
       "\n",
       "\n",
       "  <div class=\"bk-root\" id=\"63fc91ce-a769-4abe-b728-1e523194720e\" data-root-id=\"1610\"></div>\n",
       "</div>\n",
       "<script type=\"application/javascript\">(function(root) {\n",
       "  function embed_document(root) {\n",
       "    var docs_json = {\"968063b0-e467-489a-a61a-2d5cc394bcf7\":{\"defs\":[],\"roots\":{\"references\":[{\"attributes\":{\"css_classes\":[\"alert\",\"alert-success\",\"markdown\"],\"margin\":[0,0,25,0],\"name\":\"Alert01236\",\"sizing_mode\":\"stretch_width\",\"text\":\"&lt;p&gt;Sort bam file  successfully executed (/home/christine/Documents/These/frangiPANeGIT2/frangiPANe_PANRice/04-panreference//mapping/DT.bam)&lt;/p&gt;\"},\"id\":\"1610\",\"type\":\"panel.models.markup.HTML\"},{\"attributes\":{\"client_comm_id\":\"24ce8d51add245eeb71fc215900a4038\",\"comm_id\":\"6b94a4070336406da23447f9c28f779b\",\"plot_id\":\"1610\"},\"id\":\"1611\",\"type\":\"panel.models.comm_manager.CommManager\"}],\"root_ids\":[\"1610\",\"1611\"]},\"title\":\"Bokeh Application\",\"version\":\"2.3.3\"}};\n",
       "    var render_items = [{\"docid\":\"968063b0-e467-489a-a61a-2d5cc394bcf7\",\"root_ids\":[\"1610\"],\"roots\":{\"1610\":\"63fc91ce-a769-4abe-b728-1e523194720e\"}}];\n",
       "    root.Bokeh.embed.embed_items_notebook(docs_json, render_items);\n",
       "  }\n",
       "  if (root.Bokeh !== undefined && root.Bokeh.Panel !== undefined) {\n",
       "    embed_document(root);\n",
       "  } else {\n",
       "    var attempts = 0;\n",
       "    var timer = setInterval(function(root) {\n",
       "      if (root.Bokeh !== undefined && root.Bokeh.Panel !== undefined) {\n",
       "        clearInterval(timer);\n",
       "        embed_document(root);\n",
       "      } else if (document.readyState == \"complete\") {\n",
       "        attempts++;\n",
       "        if (attempts > 100) {\n",
       "          clearInterval(timer);\n",
       "          console.log(\"Bokeh: ERROR: Unable to run BokehJS code because BokehJS library is missing\");\n",
       "        }\n",
       "      }\n",
       "    }, 10, root)\n",
       "  }\n",
       "})(window);</script>"
      ],
      "text/plain": [
       "Alert(str, alert_type='success', css_classes=['alert', 'alert-success']...], margin=(0, 0, 25, 0), sizing_mode='stretch_width')"
      ]
     },
     "metadata": {
      "application/vnd.holoviews_exec.v0+json": {
       "id": "1610"
      }
     },
     "output_type": "display_data"
    },
    {
     "data": {},
     "metadata": {},
     "output_type": "display_data"
    },
    {
     "data": {
      "application/vnd.holoviews_exec.v0+json": "",
      "text/html": [
       "<div id='1612'>\n",
       "\n",
       "\n",
       "\n",
       "\n",
       "\n",
       "  <div class=\"bk-root\" id=\"7c323bfe-3920-4d2f-a358-1ab7f347fafc\" data-root-id=\"1612\"></div>\n",
       "</div>\n",
       "<script type=\"application/javascript\">(function(root) {\n",
       "  function embed_document(root) {\n",
       "    var docs_json = {\"11f3d360-abfb-417f-8b25-92cea6c35f84\":{\"defs\":[],\"roots\":{\"references\":[{\"attributes\":{\"client_comm_id\":\"09c4b9323eaa4670953eb79315551a08\",\"comm_id\":\"107c177c0b3d47edb54087995b0e8124\",\"plot_id\":\"1612\"},\"id\":\"1613\",\"type\":\"panel.models.comm_manager.CommManager\"},{\"attributes\":{\"css_classes\":[\"alert\",\"alert-secondary\",\"markdown\"],\"margin\":[0,0,25,0],\"name\":\"Alert01240\",\"sizing_mode\":\"stretch_width\",\"text\":\"&lt;p&gt;Mapping in progress for AB&amp;hellip;&lt;/p&gt;\"},\"id\":\"1612\",\"type\":\"panel.models.markup.HTML\"}],\"root_ids\":[\"1612\",\"1613\"]},\"title\":\"Bokeh Application\",\"version\":\"2.3.3\"}};\n",
       "    var render_items = [{\"docid\":\"11f3d360-abfb-417f-8b25-92cea6c35f84\",\"root_ids\":[\"1612\"],\"roots\":{\"1612\":\"7c323bfe-3920-4d2f-a358-1ab7f347fafc\"}}];\n",
       "    root.Bokeh.embed.embed_items_notebook(docs_json, render_items);\n",
       "  }\n",
       "  if (root.Bokeh !== undefined && root.Bokeh.Panel !== undefined) {\n",
       "    embed_document(root);\n",
       "  } else {\n",
       "    var attempts = 0;\n",
       "    var timer = setInterval(function(root) {\n",
       "      if (root.Bokeh !== undefined && root.Bokeh.Panel !== undefined) {\n",
       "        clearInterval(timer);\n",
       "        embed_document(root);\n",
       "      } else if (document.readyState == \"complete\") {\n",
       "        attempts++;\n",
       "        if (attempts > 100) {\n",
       "          clearInterval(timer);\n",
       "          console.log(\"Bokeh: ERROR: Unable to run BokehJS code because BokehJS library is missing\");\n",
       "        }\n",
       "      }\n",
       "    }, 10, root)\n",
       "  }\n",
       "})(window);</script>"
      ],
      "text/plain": [
       "Alert(str, alert_type='secondary', css_classes=['alert', 'alert-secondary...], margin=(0, 0, 25, 0), sizing_mode='stretch_width')"
      ]
     },
     "metadata": {
      "application/vnd.holoviews_exec.v0+json": {
       "id": "1612"
      }
     },
     "output_type": "display_data"
    },
    {
     "data": {},
     "metadata": {},
     "output_type": "display_data"
    },
    {
     "data": {
      "application/vnd.holoviews_exec.v0+json": "",
      "text/html": [
       "<div id='1614'>\n",
       "\n",
       "\n",
       "\n",
       "\n",
       "\n",
       "  <div class=\"bk-root\" id=\"8ecb27e5-b5e5-4d83-9970-169f41c9594a\" data-root-id=\"1614\"></div>\n",
       "</div>\n",
       "<script type=\"application/javascript\">(function(root) {\n",
       "  function embed_document(root) {\n",
       "    var docs_json = {\"0ac2853d-a111-48e7-9db8-6dd281f6defe\":{\"defs\":[],\"roots\":{\"references\":[{\"attributes\":{\"css_classes\":[\"alert\",\"alert-success\",\"markdown\"],\"margin\":[0,0,25,0],\"name\":\"Alert01244\",\"sizing_mode\":\"stretch_width\",\"text\":\"&lt;p&gt;bwa mem executed successfully (/home/christine/Documents/These/frangiPANeGIT2/frangiPANe_PANRice/04-panreference//mapping/AB.sam)&lt;/p&gt;\"},\"id\":\"1614\",\"type\":\"panel.models.markup.HTML\"},{\"attributes\":{\"client_comm_id\":\"edc1d036ab2d4a76bd26e30ddea4f494\",\"comm_id\":\"f79b551ac8754f13a1869506bdd7b3b9\",\"plot_id\":\"1614\"},\"id\":\"1615\",\"type\":\"panel.models.comm_manager.CommManager\"}],\"root_ids\":[\"1614\",\"1615\"]},\"title\":\"Bokeh Application\",\"version\":\"2.3.3\"}};\n",
       "    var render_items = [{\"docid\":\"0ac2853d-a111-48e7-9db8-6dd281f6defe\",\"root_ids\":[\"1614\"],\"roots\":{\"1614\":\"8ecb27e5-b5e5-4d83-9970-169f41c9594a\"}}];\n",
       "    root.Bokeh.embed.embed_items_notebook(docs_json, render_items);\n",
       "  }\n",
       "  if (root.Bokeh !== undefined && root.Bokeh.Panel !== undefined) {\n",
       "    embed_document(root);\n",
       "  } else {\n",
       "    var attempts = 0;\n",
       "    var timer = setInterval(function(root) {\n",
       "      if (root.Bokeh !== undefined && root.Bokeh.Panel !== undefined) {\n",
       "        clearInterval(timer);\n",
       "        embed_document(root);\n",
       "      } else if (document.readyState == \"complete\") {\n",
       "        attempts++;\n",
       "        if (attempts > 100) {\n",
       "          clearInterval(timer);\n",
       "          console.log(\"Bokeh: ERROR: Unable to run BokehJS code because BokehJS library is missing\");\n",
       "        }\n",
       "      }\n",
       "    }, 10, root)\n",
       "  }\n",
       "})(window);</script>"
      ],
      "text/plain": [
       "Alert(str, alert_type='success', css_classes=['alert', 'alert-success']...], margin=(0, 0, 25, 0), sizing_mode='stretch_width')"
      ]
     },
     "metadata": {
      "application/vnd.holoviews_exec.v0+json": {
       "id": "1614"
      }
     },
     "output_type": "display_data"
    },
    {
     "data": {},
     "metadata": {},
     "output_type": "display_data"
    },
    {
     "data": {
      "application/vnd.holoviews_exec.v0+json": "",
      "text/html": [
       "<div id='1616'>\n",
       "\n",
       "\n",
       "\n",
       "\n",
       "\n",
       "  <div class=\"bk-root\" id=\"f1e6c150-bb5c-4c26-b920-403194da9f9d\" data-root-id=\"1616\"></div>\n",
       "</div>\n",
       "<script type=\"application/javascript\">(function(root) {\n",
       "  function embed_document(root) {\n",
       "    var docs_json = {\"372ad289-9547-4c31-8ee4-b1735a8e2873\":{\"defs\":[],\"roots\":{\"references\":[{\"attributes\":{\"client_comm_id\":\"75c109e763594d779fd3220243cd0834\",\"comm_id\":\"fb45af674e6647baa1aae27d5394d310\",\"plot_id\":\"1616\"},\"id\":\"1617\",\"type\":\"panel.models.comm_manager.CommManager\"},{\"attributes\":{\"css_classes\":[\"alert\",\"alert-secondary\",\"markdown\"],\"margin\":[0,0,25,0],\"name\":\"Alert01248\",\"sizing_mode\":\"stretch_width\",\"text\":\"&lt;p&gt;Sort bam file in progress for AB&amp;hellip;&lt;/p&gt;\"},\"id\":\"1616\",\"type\":\"panel.models.markup.HTML\"}],\"root_ids\":[\"1616\",\"1617\"]},\"title\":\"Bokeh Application\",\"version\":\"2.3.3\"}};\n",
       "    var render_items = [{\"docid\":\"372ad289-9547-4c31-8ee4-b1735a8e2873\",\"root_ids\":[\"1616\"],\"roots\":{\"1616\":\"f1e6c150-bb5c-4c26-b920-403194da9f9d\"}}];\n",
       "    root.Bokeh.embed.embed_items_notebook(docs_json, render_items);\n",
       "  }\n",
       "  if (root.Bokeh !== undefined && root.Bokeh.Panel !== undefined) {\n",
       "    embed_document(root);\n",
       "  } else {\n",
       "    var attempts = 0;\n",
       "    var timer = setInterval(function(root) {\n",
       "      if (root.Bokeh !== undefined && root.Bokeh.Panel !== undefined) {\n",
       "        clearInterval(timer);\n",
       "        embed_document(root);\n",
       "      } else if (document.readyState == \"complete\") {\n",
       "        attempts++;\n",
       "        if (attempts > 100) {\n",
       "          clearInterval(timer);\n",
       "          console.log(\"Bokeh: ERROR: Unable to run BokehJS code because BokehJS library is missing\");\n",
       "        }\n",
       "      }\n",
       "    }, 10, root)\n",
       "  }\n",
       "})(window);</script>"
      ],
      "text/plain": [
       "Alert(str, alert_type='secondary', css_classes=['alert', 'alert-secondary...], margin=(0, 0, 25, 0), sizing_mode='stretch_width')"
      ]
     },
     "metadata": {
      "application/vnd.holoviews_exec.v0+json": {
       "id": "1616"
      }
     },
     "output_type": "display_data"
    },
    {
     "data": {},
     "metadata": {},
     "output_type": "display_data"
    },
    {
     "data": {
      "application/vnd.holoviews_exec.v0+json": "",
      "text/html": [
       "<div id='1618'>\n",
       "\n",
       "\n",
       "\n",
       "\n",
       "\n",
       "  <div class=\"bk-root\" id=\"40f9b179-9d72-44e7-ade7-ca1002bed5d0\" data-root-id=\"1618\"></div>\n",
       "</div>\n",
       "<script type=\"application/javascript\">(function(root) {\n",
       "  function embed_document(root) {\n",
       "    var docs_json = {\"3de2edcb-5fdd-44d7-a3d8-2c02459d7f8a\":{\"defs\":[],\"roots\":{\"references\":[{\"attributes\":{\"client_comm_id\":\"6a5848ae87a845b7bc299c049f93169a\",\"comm_id\":\"e4009d15125342989a611715a55daca5\",\"plot_id\":\"1618\"},\"id\":\"1619\",\"type\":\"panel.models.comm_manager.CommManager\"},{\"attributes\":{\"css_classes\":[\"alert\",\"alert-success\",\"markdown\"],\"margin\":[0,0,25,0],\"name\":\"Alert01252\",\"sizing_mode\":\"stretch_width\",\"text\":\"&lt;p&gt;Sort bam file  successfully executed (/home/christine/Documents/These/frangiPANeGIT2/frangiPANe_PANRice/04-panreference//mapping/AB.bam)&lt;/p&gt;\"},\"id\":\"1618\",\"type\":\"panel.models.markup.HTML\"}],\"root_ids\":[\"1618\",\"1619\"]},\"title\":\"Bokeh Application\",\"version\":\"2.3.3\"}};\n",
       "    var render_items = [{\"docid\":\"3de2edcb-5fdd-44d7-a3d8-2c02459d7f8a\",\"root_ids\":[\"1618\"],\"roots\":{\"1618\":\"40f9b179-9d72-44e7-ade7-ca1002bed5d0\"}}];\n",
       "    root.Bokeh.embed.embed_items_notebook(docs_json, render_items);\n",
       "  }\n",
       "  if (root.Bokeh !== undefined && root.Bokeh.Panel !== undefined) {\n",
       "    embed_document(root);\n",
       "  } else {\n",
       "    var attempts = 0;\n",
       "    var timer = setInterval(function(root) {\n",
       "      if (root.Bokeh !== undefined && root.Bokeh.Panel !== undefined) {\n",
       "        clearInterval(timer);\n",
       "        embed_document(root);\n",
       "      } else if (document.readyState == \"complete\") {\n",
       "        attempts++;\n",
       "        if (attempts > 100) {\n",
       "          clearInterval(timer);\n",
       "          console.log(\"Bokeh: ERROR: Unable to run BokehJS code because BokehJS library is missing\");\n",
       "        }\n",
       "      }\n",
       "    }, 10, root)\n",
       "  }\n",
       "})(window);</script>"
      ],
      "text/plain": [
       "Alert(str, alert_type='success', css_classes=['alert', 'alert-success']...], margin=(0, 0, 25, 0), sizing_mode='stretch_width')"
      ]
     },
     "metadata": {
      "application/vnd.holoviews_exec.v0+json": {
       "id": "1618"
      }
     },
     "output_type": "display_data"
    },
    {
     "data": {},
     "metadata": {},
     "output_type": "display_data"
    },
    {
     "data": {
      "application/vnd.holoviews_exec.v0+json": "",
      "text/html": [
       "<div id='1620'>\n",
       "\n",
       "\n",
       "\n",
       "\n",
       "\n",
       "  <div class=\"bk-root\" id=\"362c25d7-bde4-4735-b3d9-fd7fa318bc6e\" data-root-id=\"1620\"></div>\n",
       "</div>\n",
       "<script type=\"application/javascript\">(function(root) {\n",
       "  function embed_document(root) {\n",
       "    var docs_json = {\"823cadb3-3f22-48a8-9d0b-c161f99b6267\":{\"defs\":[],\"roots\":{\"references\":[{\"attributes\":{\"client_comm_id\":\"759d576c231b4f32b0dbc30bbcbb802d\",\"comm_id\":\"8704c2763ae64eaea73946f23eca1477\",\"plot_id\":\"1620\"},\"id\":\"1621\",\"type\":\"panel.models.comm_manager.CommManager\"},{\"attributes\":{\"css_classes\":[\"alert\",\"alert-success\",\"markdown\"],\"margin\":[0,0,25,0],\"name\":\"Alert01256\",\"sizing_mode\":\"stretch_width\",\"text\":\"&lt;h3&gt;Mapping step done with bwa mem and samtools sort&lt;/h3&gt;\\n&lt;hr&gt;\\n\\n&lt;ul&gt;\\n&lt;li&gt;FASTQ DIR : /home/christine/Documents/These/frangiPANeGIT/rice/fastq2&lt;/li&gt;\\n&lt;li&gt;BAM DIR : /home/christine/Documents/These/frangiPANeGIT2/frangiPANe_PANRice/04-panreference//mapping/&lt;/li&gt;\\n&lt;/ul&gt;\"},\"id\":\"1620\",\"type\":\"panel.models.markup.HTML\"}],\"root_ids\":[\"1620\",\"1621\"]},\"title\":\"Bokeh Application\",\"version\":\"2.3.3\"}};\n",
       "    var render_items = [{\"docid\":\"823cadb3-3f22-48a8-9d0b-c161f99b6267\",\"root_ids\":[\"1620\"],\"roots\":{\"1620\":\"362c25d7-bde4-4735-b3d9-fd7fa318bc6e\"}}];\n",
       "    root.Bokeh.embed.embed_items_notebook(docs_json, render_items);\n",
       "  }\n",
       "  if (root.Bokeh !== undefined && root.Bokeh.Panel !== undefined) {\n",
       "    embed_document(root);\n",
       "  } else {\n",
       "    var attempts = 0;\n",
       "    var timer = setInterval(function(root) {\n",
       "      if (root.Bokeh !== undefined && root.Bokeh.Panel !== undefined) {\n",
       "        clearInterval(timer);\n",
       "        embed_document(root);\n",
       "      } else if (document.readyState == \"complete\") {\n",
       "        attempts++;\n",
       "        if (attempts > 100) {\n",
       "          clearInterval(timer);\n",
       "          console.log(\"Bokeh: ERROR: Unable to run BokehJS code because BokehJS library is missing\");\n",
       "        }\n",
       "      }\n",
       "    }, 10, root)\n",
       "  }\n",
       "})(window);</script>"
      ],
      "text/plain": [
       "Alert(str, alert_type='success', css_classes=['alert', 'alert-success']...], margin=(0, 0, 25, 0), sizing_mode='stretch_width')"
      ]
     },
     "metadata": {
      "application/vnd.holoviews_exec.v0+json": {
       "id": "1620"
      }
     },
     "output_type": "display_data"
    },
    {
     "data": {},
     "metadata": {},
     "output_type": "display_data"
    },
    {
     "data": {
      "application/vnd.holoviews_exec.v0+json": "",
      "text/html": [
       "<div id='1622'>\n",
       "\n",
       "\n",
       "\n",
       "\n",
       "\n",
       "  <div class=\"bk-root\" id=\"c5dba7f8-5ceb-46ed-8179-6acd3ce9f6a6\" data-root-id=\"1622\"></div>\n",
       "</div>\n",
       "<script type=\"application/javascript\">(function(root) {\n",
       "  function embed_document(root) {\n",
       "    var docs_json = {\"a046d188-97d4-4c60-9d5c-4eec45b1ec76\":{\"defs\":[],\"roots\":{\"references\":[{\"attributes\":{\"css_classes\":[\"alert\",\"alert-success\",\"markdown\"],\"margin\":[0,0,25,0],\"name\":\"Alert01260\",\"sizing_mode\":\"stretch_width\",\"text\":\"&lt;p&gt;Directory /home/christine/Documents/These/frangiPANeGIT2/frangiPANe_PANRice/04-panreference//mapping_stat/ created&lt;/p&gt;\"},\"id\":\"1622\",\"type\":\"panel.models.markup.HTML\"},{\"attributes\":{\"client_comm_id\":\"4d6e0431ea3749f59af9ca61004fb375\",\"comm_id\":\"919028bc7b57449ca3c66666c70acbdd\",\"plot_id\":\"1622\"},\"id\":\"1623\",\"type\":\"panel.models.comm_manager.CommManager\"}],\"root_ids\":[\"1622\",\"1623\"]},\"title\":\"Bokeh Application\",\"version\":\"2.3.3\"}};\n",
       "    var render_items = [{\"docid\":\"a046d188-97d4-4c60-9d5c-4eec45b1ec76\",\"root_ids\":[\"1622\"],\"roots\":{\"1622\":\"c5dba7f8-5ceb-46ed-8179-6acd3ce9f6a6\"}}];\n",
       "    root.Bokeh.embed.embed_items_notebook(docs_json, render_items);\n",
       "  }\n",
       "  if (root.Bokeh !== undefined && root.Bokeh.Panel !== undefined) {\n",
       "    embed_document(root);\n",
       "  } else {\n",
       "    var attempts = 0;\n",
       "    var timer = setInterval(function(root) {\n",
       "      if (root.Bokeh !== undefined && root.Bokeh.Panel !== undefined) {\n",
       "        clearInterval(timer);\n",
       "        embed_document(root);\n",
       "      } else if (document.readyState == \"complete\") {\n",
       "        attempts++;\n",
       "        if (attempts > 100) {\n",
       "          clearInterval(timer);\n",
       "          console.log(\"Bokeh: ERROR: Unable to run BokehJS code because BokehJS library is missing\");\n",
       "        }\n",
       "      }\n",
       "    }, 10, root)\n",
       "  }\n",
       "})(window);</script>"
      ],
      "text/plain": [
       "Alert(str, alert_type='success', css_classes=['alert', 'alert-success']...], margin=(0, 0, 25, 0), sizing_mode='stretch_width')"
      ]
     },
     "metadata": {
      "application/vnd.holoviews_exec.v0+json": {
       "id": "1622"
      }
     },
     "output_type": "display_data"
    },
    {
     "data": {},
     "metadata": {},
     "output_type": "display_data"
    },
    {
     "data": {
      "application/vnd.holoviews_exec.v0+json": "",
      "text/html": [
       "<div id='1624'>\n",
       "\n",
       "\n",
       "\n",
       "\n",
       "\n",
       "  <div class=\"bk-root\" id=\"f25d6688-d4a1-44f6-a18b-bf521c5cc044\" data-root-id=\"1624\"></div>\n",
       "</div>\n",
       "<script type=\"application/javascript\">(function(root) {\n",
       "  function embed_document(root) {\n",
       "    var docs_json = {\"0f4b7f16-663e-4593-9616-b4f47c925e54\":{\"defs\":[],\"roots\":{\"references\":[{\"attributes\":{\"client_comm_id\":\"8a503191297c4296887571fe14a7e7db\",\"comm_id\":\"ec6e6314e42f46718feccc45f6ebf8d5\",\"plot_id\":\"1624\"},\"id\":\"1625\",\"type\":\"panel.models.comm_manager.CommManager\"},{\"attributes\":{\"css_classes\":[\"alert\",\"alert-secondary\",\"markdown\"],\"margin\":[0,0,25,0],\"name\":\"Alert01264\",\"sizing_mode\":\"stretch_width\",\"text\":\"&lt;p&gt;Bam indexing AA.bam&amp;hellip;&lt;/p&gt;\"},\"id\":\"1624\",\"type\":\"panel.models.markup.HTML\"}],\"root_ids\":[\"1624\",\"1625\"]},\"title\":\"Bokeh Application\",\"version\":\"2.3.3\"}};\n",
       "    var render_items = [{\"docid\":\"0f4b7f16-663e-4593-9616-b4f47c925e54\",\"root_ids\":[\"1624\"],\"roots\":{\"1624\":\"f25d6688-d4a1-44f6-a18b-bf521c5cc044\"}}];\n",
       "    root.Bokeh.embed.embed_items_notebook(docs_json, render_items);\n",
       "  }\n",
       "  if (root.Bokeh !== undefined && root.Bokeh.Panel !== undefined) {\n",
       "    embed_document(root);\n",
       "  } else {\n",
       "    var attempts = 0;\n",
       "    var timer = setInterval(function(root) {\n",
       "      if (root.Bokeh !== undefined && root.Bokeh.Panel !== undefined) {\n",
       "        clearInterval(timer);\n",
       "        embed_document(root);\n",
       "      } else if (document.readyState == \"complete\") {\n",
       "        attempts++;\n",
       "        if (attempts > 100) {\n",
       "          clearInterval(timer);\n",
       "          console.log(\"Bokeh: ERROR: Unable to run BokehJS code because BokehJS library is missing\");\n",
       "        }\n",
       "      }\n",
       "    }, 10, root)\n",
       "  }\n",
       "})(window);</script>"
      ],
      "text/plain": [
       "Alert(str, alert_type='secondary', css_classes=['alert', 'alert-secondary...], margin=(0, 0, 25, 0), sizing_mode='stretch_width')"
      ]
     },
     "metadata": {
      "application/vnd.holoviews_exec.v0+json": {
       "id": "1624"
      }
     },
     "output_type": "display_data"
    },
    {
     "data": {},
     "metadata": {},
     "output_type": "display_data"
    },
    {
     "data": {
      "application/vnd.holoviews_exec.v0+json": "",
      "text/html": [
       "<div id='1626'>\n",
       "\n",
       "\n",
       "\n",
       "\n",
       "\n",
       "  <div class=\"bk-root\" id=\"59057656-4ce1-4732-9a39-814f46c4b568\" data-root-id=\"1626\"></div>\n",
       "</div>\n",
       "<script type=\"application/javascript\">(function(root) {\n",
       "  function embed_document(root) {\n",
       "    var docs_json = {\"a6a0ca01-7ef6-4d2e-b4c3-a6363f8ba495\":{\"defs\":[],\"roots\":{\"references\":[{\"attributes\":{\"client_comm_id\":\"7ee01d3bf74447618413ec9ff02e16f2\",\"comm_id\":\"10f2339781e8421fad0ad00267e80838\",\"plot_id\":\"1626\"},\"id\":\"1627\",\"type\":\"panel.models.comm_manager.CommManager\"},{\"attributes\":{\"css_classes\":[\"alert\",\"alert-success\",\"markdown\"],\"margin\":[0,0,25,0],\"name\":\"Alert01268\",\"sizing_mode\":\"stretch_width\",\"text\":\"&lt;p&gt;samtools index executed successfully)&lt;/p&gt;\"},\"id\":\"1626\",\"type\":\"panel.models.markup.HTML\"}],\"root_ids\":[\"1626\",\"1627\"]},\"title\":\"Bokeh Application\",\"version\":\"2.3.3\"}};\n",
       "    var render_items = [{\"docid\":\"a6a0ca01-7ef6-4d2e-b4c3-a6363f8ba495\",\"root_ids\":[\"1626\"],\"roots\":{\"1626\":\"59057656-4ce1-4732-9a39-814f46c4b568\"}}];\n",
       "    root.Bokeh.embed.embed_items_notebook(docs_json, render_items);\n",
       "  }\n",
       "  if (root.Bokeh !== undefined && root.Bokeh.Panel !== undefined) {\n",
       "    embed_document(root);\n",
       "  } else {\n",
       "    var attempts = 0;\n",
       "    var timer = setInterval(function(root) {\n",
       "      if (root.Bokeh !== undefined && root.Bokeh.Panel !== undefined) {\n",
       "        clearInterval(timer);\n",
       "        embed_document(root);\n",
       "      } else if (document.readyState == \"complete\") {\n",
       "        attempts++;\n",
       "        if (attempts > 100) {\n",
       "          clearInterval(timer);\n",
       "          console.log(\"Bokeh: ERROR: Unable to run BokehJS code because BokehJS library is missing\");\n",
       "        }\n",
       "      }\n",
       "    }, 10, root)\n",
       "  }\n",
       "})(window);</script>"
      ],
      "text/plain": [
       "Alert(str, alert_type='success', css_classes=['alert', 'alert-success']...], margin=(0, 0, 25, 0), sizing_mode='stretch_width')"
      ]
     },
     "metadata": {
      "application/vnd.holoviews_exec.v0+json": {
       "id": "1626"
      }
     },
     "output_type": "display_data"
    },
    {
     "data": {},
     "metadata": {},
     "output_type": "display_data"
    },
    {
     "data": {
      "application/vnd.holoviews_exec.v0+json": "",
      "text/html": [
       "<div id='1628'>\n",
       "\n",
       "\n",
       "\n",
       "\n",
       "\n",
       "  <div class=\"bk-root\" id=\"a863aeba-410c-4533-8374-988779dd46cb\" data-root-id=\"1628\"></div>\n",
       "</div>\n",
       "<script type=\"application/javascript\">(function(root) {\n",
       "  function embed_document(root) {\n",
       "    var docs_json = {\"36ba9aac-4f2c-48c5-8d81-91b08e743805\":{\"defs\":[],\"roots\":{\"references\":[{\"attributes\":{\"client_comm_id\":\"4ebcefcda2f0445491e6603c1da86b36\",\"comm_id\":\"12b09ea37f1246c0acc74470766d689d\",\"plot_id\":\"1628\"},\"id\":\"1629\",\"type\":\"panel.models.comm_manager.CommManager\"},{\"attributes\":{\"css_classes\":[\"alert\",\"alert-secondary\",\"markdown\"],\"margin\":[0,0,25,0],\"name\":\"Alert01272\",\"sizing_mode\":\"stretch_width\",\"text\":\"&lt;p&gt;Bam indexing DT.bam&amp;hellip;&lt;/p&gt;\"},\"id\":\"1628\",\"type\":\"panel.models.markup.HTML\"}],\"root_ids\":[\"1628\",\"1629\"]},\"title\":\"Bokeh Application\",\"version\":\"2.3.3\"}};\n",
       "    var render_items = [{\"docid\":\"36ba9aac-4f2c-48c5-8d81-91b08e743805\",\"root_ids\":[\"1628\"],\"roots\":{\"1628\":\"a863aeba-410c-4533-8374-988779dd46cb\"}}];\n",
       "    root.Bokeh.embed.embed_items_notebook(docs_json, render_items);\n",
       "  }\n",
       "  if (root.Bokeh !== undefined && root.Bokeh.Panel !== undefined) {\n",
       "    embed_document(root);\n",
       "  } else {\n",
       "    var attempts = 0;\n",
       "    var timer = setInterval(function(root) {\n",
       "      if (root.Bokeh !== undefined && root.Bokeh.Panel !== undefined) {\n",
       "        clearInterval(timer);\n",
       "        embed_document(root);\n",
       "      } else if (document.readyState == \"complete\") {\n",
       "        attempts++;\n",
       "        if (attempts > 100) {\n",
       "          clearInterval(timer);\n",
       "          console.log(\"Bokeh: ERROR: Unable to run BokehJS code because BokehJS library is missing\");\n",
       "        }\n",
       "      }\n",
       "    }, 10, root)\n",
       "  }\n",
       "})(window);</script>"
      ],
      "text/plain": [
       "Alert(str, alert_type='secondary', css_classes=['alert', 'alert-secondary...], margin=(0, 0, 25, 0), sizing_mode='stretch_width')"
      ]
     },
     "metadata": {
      "application/vnd.holoviews_exec.v0+json": {
       "id": "1628"
      }
     },
     "output_type": "display_data"
    },
    {
     "data": {},
     "metadata": {},
     "output_type": "display_data"
    },
    {
     "data": {
      "application/vnd.holoviews_exec.v0+json": "",
      "text/html": [
       "<div id='1630'>\n",
       "\n",
       "\n",
       "\n",
       "\n",
       "\n",
       "  <div class=\"bk-root\" id=\"b1d4e1a8-a4b6-4576-b53e-cbb887ae0b45\" data-root-id=\"1630\"></div>\n",
       "</div>\n",
       "<script type=\"application/javascript\">(function(root) {\n",
       "  function embed_document(root) {\n",
       "    var docs_json = {\"7474f01a-06a3-4419-bda4-c3947b36d0b8\":{\"defs\":[],\"roots\":{\"references\":[{\"attributes\":{\"css_classes\":[\"alert\",\"alert-success\",\"markdown\"],\"margin\":[0,0,25,0],\"name\":\"Alert01276\",\"sizing_mode\":\"stretch_width\",\"text\":\"&lt;p&gt;samtools index executed successfully)&lt;/p&gt;\"},\"id\":\"1630\",\"type\":\"panel.models.markup.HTML\"},{\"attributes\":{\"client_comm_id\":\"561404b50a944216bf2099df263d44c5\",\"comm_id\":\"71cd7dfbec07458ea7e83b7cb74c1ab1\",\"plot_id\":\"1630\"},\"id\":\"1631\",\"type\":\"panel.models.comm_manager.CommManager\"}],\"root_ids\":[\"1630\",\"1631\"]},\"title\":\"Bokeh Application\",\"version\":\"2.3.3\"}};\n",
       "    var render_items = [{\"docid\":\"7474f01a-06a3-4419-bda4-c3947b36d0b8\",\"root_ids\":[\"1630\"],\"roots\":{\"1630\":\"b1d4e1a8-a4b6-4576-b53e-cbb887ae0b45\"}}];\n",
       "    root.Bokeh.embed.embed_items_notebook(docs_json, render_items);\n",
       "  }\n",
       "  if (root.Bokeh !== undefined && root.Bokeh.Panel !== undefined) {\n",
       "    embed_document(root);\n",
       "  } else {\n",
       "    var attempts = 0;\n",
       "    var timer = setInterval(function(root) {\n",
       "      if (root.Bokeh !== undefined && root.Bokeh.Panel !== undefined) {\n",
       "        clearInterval(timer);\n",
       "        embed_document(root);\n",
       "      } else if (document.readyState == \"complete\") {\n",
       "        attempts++;\n",
       "        if (attempts > 100) {\n",
       "          clearInterval(timer);\n",
       "          console.log(\"Bokeh: ERROR: Unable to run BokehJS code because BokehJS library is missing\");\n",
       "        }\n",
       "      }\n",
       "    }, 10, root)\n",
       "  }\n",
       "})(window);</script>"
      ],
      "text/plain": [
       "Alert(str, alert_type='success', css_classes=['alert', 'alert-success']...], margin=(0, 0, 25, 0), sizing_mode='stretch_width')"
      ]
     },
     "metadata": {
      "application/vnd.holoviews_exec.v0+json": {
       "id": "1630"
      }
     },
     "output_type": "display_data"
    },
    {
     "data": {},
     "metadata": {},
     "output_type": "display_data"
    },
    {
     "data": {
      "application/vnd.holoviews_exec.v0+json": "",
      "text/html": [
       "<div id='1632'>\n",
       "\n",
       "\n",
       "\n",
       "\n",
       "\n",
       "  <div class=\"bk-root\" id=\"6b2a45ae-9833-413f-ad50-46f42a960cd0\" data-root-id=\"1632\"></div>\n",
       "</div>\n",
       "<script type=\"application/javascript\">(function(root) {\n",
       "  function embed_document(root) {\n",
       "    var docs_json = {\"4c5d6126-8ab6-4127-aeb4-13e8ae7a9631\":{\"defs\":[],\"roots\":{\"references\":[{\"attributes\":{\"css_classes\":[\"alert\",\"alert-secondary\",\"markdown\"],\"margin\":[0,0,25,0],\"name\":\"Alert01280\",\"sizing_mode\":\"stretch_width\",\"text\":\"&lt;p&gt;Bam indexing AB.bam&amp;hellip;&lt;/p&gt;\"},\"id\":\"1632\",\"type\":\"panel.models.markup.HTML\"},{\"attributes\":{\"client_comm_id\":\"79cc46da53f14a8890ba413c9fd59f40\",\"comm_id\":\"353594634a2a4ca4a6921c6aa6bdf2e2\",\"plot_id\":\"1632\"},\"id\":\"1633\",\"type\":\"panel.models.comm_manager.CommManager\"}],\"root_ids\":[\"1632\",\"1633\"]},\"title\":\"Bokeh Application\",\"version\":\"2.3.3\"}};\n",
       "    var render_items = [{\"docid\":\"4c5d6126-8ab6-4127-aeb4-13e8ae7a9631\",\"root_ids\":[\"1632\"],\"roots\":{\"1632\":\"6b2a45ae-9833-413f-ad50-46f42a960cd0\"}}];\n",
       "    root.Bokeh.embed.embed_items_notebook(docs_json, render_items);\n",
       "  }\n",
       "  if (root.Bokeh !== undefined && root.Bokeh.Panel !== undefined) {\n",
       "    embed_document(root);\n",
       "  } else {\n",
       "    var attempts = 0;\n",
       "    var timer = setInterval(function(root) {\n",
       "      if (root.Bokeh !== undefined && root.Bokeh.Panel !== undefined) {\n",
       "        clearInterval(timer);\n",
       "        embed_document(root);\n",
       "      } else if (document.readyState == \"complete\") {\n",
       "        attempts++;\n",
       "        if (attempts > 100) {\n",
       "          clearInterval(timer);\n",
       "          console.log(\"Bokeh: ERROR: Unable to run BokehJS code because BokehJS library is missing\");\n",
       "        }\n",
       "      }\n",
       "    }, 10, root)\n",
       "  }\n",
       "})(window);</script>"
      ],
      "text/plain": [
       "Alert(str, alert_type='secondary', css_classes=['alert', 'alert-secondary...], margin=(0, 0, 25, 0), sizing_mode='stretch_width')"
      ]
     },
     "metadata": {
      "application/vnd.holoviews_exec.v0+json": {
       "id": "1632"
      }
     },
     "output_type": "display_data"
    },
    {
     "data": {},
     "metadata": {},
     "output_type": "display_data"
    },
    {
     "data": {
      "application/vnd.holoviews_exec.v0+json": "",
      "text/html": [
       "<div id='1634'>\n",
       "\n",
       "\n",
       "\n",
       "\n",
       "\n",
       "  <div class=\"bk-root\" id=\"7a65358f-7f55-436b-873d-4fb0ab344e36\" data-root-id=\"1634\"></div>\n",
       "</div>\n",
       "<script type=\"application/javascript\">(function(root) {\n",
       "  function embed_document(root) {\n",
       "    var docs_json = {\"bc4ef665-5197-4329-9d4d-8a7a4040fba9\":{\"defs\":[],\"roots\":{\"references\":[{\"attributes\":{\"client_comm_id\":\"b6f059c0cc0644c0a8f4b6217a5a417c\",\"comm_id\":\"3332c70907294705a7e4ceb1c13d2eb9\",\"plot_id\":\"1634\"},\"id\":\"1635\",\"type\":\"panel.models.comm_manager.CommManager\"},{\"attributes\":{\"css_classes\":[\"alert\",\"alert-success\",\"markdown\"],\"margin\":[0,0,25,0],\"name\":\"Alert01284\",\"sizing_mode\":\"stretch_width\",\"text\":\"&lt;p&gt;samtools index executed successfully)&lt;/p&gt;\"},\"id\":\"1634\",\"type\":\"panel.models.markup.HTML\"}],\"root_ids\":[\"1634\",\"1635\"]},\"title\":\"Bokeh Application\",\"version\":\"2.3.3\"}};\n",
       "    var render_items = [{\"docid\":\"bc4ef665-5197-4329-9d4d-8a7a4040fba9\",\"root_ids\":[\"1634\"],\"roots\":{\"1634\":\"7a65358f-7f55-436b-873d-4fb0ab344e36\"}}];\n",
       "    root.Bokeh.embed.embed_items_notebook(docs_json, render_items);\n",
       "  }\n",
       "  if (root.Bokeh !== undefined && root.Bokeh.Panel !== undefined) {\n",
       "    embed_document(root);\n",
       "  } else {\n",
       "    var attempts = 0;\n",
       "    var timer = setInterval(function(root) {\n",
       "      if (root.Bokeh !== undefined && root.Bokeh.Panel !== undefined) {\n",
       "        clearInterval(timer);\n",
       "        embed_document(root);\n",
       "      } else if (document.readyState == \"complete\") {\n",
       "        attempts++;\n",
       "        if (attempts > 100) {\n",
       "          clearInterval(timer);\n",
       "          console.log(\"Bokeh: ERROR: Unable to run BokehJS code because BokehJS library is missing\");\n",
       "        }\n",
       "      }\n",
       "    }, 10, root)\n",
       "  }\n",
       "})(window);</script>"
      ],
      "text/plain": [
       "Alert(str, alert_type='success', css_classes=['alert', 'alert-success']...], margin=(0, 0, 25, 0), sizing_mode='stretch_width')"
      ]
     },
     "metadata": {
      "application/vnd.holoviews_exec.v0+json": {
       "id": "1634"
      }
     },
     "output_type": "display_data"
    }
   ],
   "source": [
    "bgc('LightBlue')\n",
    "\n",
    "output_panrefmapping_dir = output_panref_dir + \"/mapping/\"\n",
    "fastq2bam_dir(panref_fasta, fastq_dir.value, df_group, cpu, output_panrefmapping_dir, logger)\n",
    "\n",
    "stat2_dir = output_panref_dir + \"/mapping_stat/\"\n",
    "make_dir(stat2_dir)\n",
    "\n",
    "logger.info(f\"MAPPING STAT :\")\n",
    "logger.info(f\"\\t\\tMapping stat directory : {stat_dir}\")\n",
    "\n",
    "for file_name in os.listdir(output_panrefmapping_dir):\n",
    "    if \".bam\" in file_name:\n",
    "        samtools_index(os.path.join(output_panrefmapping_dir,file_name),logger)\n"
   ]
  },
  {
   "cell_type": "markdown",
   "metadata": {},
   "source": [
    "#### __Anchoring contigs on reference genome__\n",
    "\n",
    "#### __Panreference dashboard__"
   ]
  },
  {
   "cell_type": "code",
   "execution_count": 61,
   "metadata": {},
   "outputs": [
    {
     "data": {},
     "metadata": {},
     "output_type": "display_data"
    },
    {
     "data": {
      "application/vnd.holoviews_exec.v0+json": "",
      "text/html": [
       "<div id='1666'>\n",
       "\n",
       "\n",
       "\n",
       "\n",
       "\n",
       "  <div class=\"bk-root\" id=\"dc3406dc-4780-4886-8e70-d7da5d63990a\" data-root-id=\"1666\"></div>\n",
       "</div>\n",
       "<script type=\"application/javascript\">(function(root) {\n",
       "  function embed_document(root) {\n",
       "    var docs_json = {\"3f3f2bdb-7e03-49b8-91bd-bc63dde3f960\":{\"defs\":[],\"roots\":{\"references\":[{\"attributes\":{\"client_comm_id\":\"268339cb67c04d12abf8ecb108b9a6ba\",\"comm_id\":\"8a7df72d1fda41c28a84370207af7325\",\"plot_id\":\"1666\"},\"id\":\"1667\",\"type\":\"panel.models.comm_manager.CommManager\"},{\"attributes\":{\"css_classes\":[\"alert\",\"alert-warning\",\"markdown\"],\"margin\":[0,0,25,0],\"name\":\"Alert01348\",\"sizing_mode\":\"stretch_width\",\"text\":\"&lt;h3&gt;warning&lt;/h3&gt;\\n&lt;hr&gt;\\n&lt;p&gt;Directory /home/christine/Documents/These/frangiPANeGIT2/frangiPANe_PANRice/04-panreference//placement/ already existed&lt;/p&gt;\"},\"id\":\"1666\",\"type\":\"panel.models.markup.HTML\"}],\"root_ids\":[\"1666\",\"1667\"]},\"title\":\"Bokeh Application\",\"version\":\"2.3.3\"}};\n",
       "    var render_items = [{\"docid\":\"3f3f2bdb-7e03-49b8-91bd-bc63dde3f960\",\"root_ids\":[\"1666\"],\"roots\":{\"1666\":\"dc3406dc-4780-4886-8e70-d7da5d63990a\"}}];\n",
       "    root.Bokeh.embed.embed_items_notebook(docs_json, render_items);\n",
       "  }\n",
       "  if (root.Bokeh !== undefined && root.Bokeh.Panel !== undefined) {\n",
       "    embed_document(root);\n",
       "  } else {\n",
       "    var attempts = 0;\n",
       "    var timer = setInterval(function(root) {\n",
       "      if (root.Bokeh !== undefined && root.Bokeh.Panel !== undefined) {\n",
       "        clearInterval(timer);\n",
       "        embed_document(root);\n",
       "      } else if (document.readyState == \"complete\") {\n",
       "        attempts++;\n",
       "        if (attempts > 100) {\n",
       "          clearInterval(timer);\n",
       "          console.log(\"Bokeh: ERROR: Unable to run BokehJS code because BokehJS library is missing\");\n",
       "        }\n",
       "      }\n",
       "    }, 10, root)\n",
       "  }\n",
       "})(window);</script>"
      ],
      "text/plain": [
       "Alert(str, alert_type='warning', css_classes=['alert', 'alert-warning']...], margin=(0, 0, 25, 0), sizing_mode='stretch_width')"
      ]
     },
     "metadata": {
      "application/vnd.holoviews_exec.v0+json": {
       "id": "1666"
      }
     },
     "output_type": "display_data"
    },
    {
     "data": {},
     "metadata": {},
     "output_type": "display_data"
    },
    {
     "data": {
      "application/vnd.holoviews_exec.v0+json": "",
      "text/html": [
       "<div id='1668'>\n",
       "\n",
       "\n",
       "\n",
       "\n",
       "\n",
       "  <div class=\"bk-root\" id=\"1448112a-b6bd-4d8b-9053-46c163fda29e\" data-root-id=\"1668\"></div>\n",
       "</div>\n",
       "<script type=\"application/javascript\">(function(root) {\n",
       "  function embed_document(root) {\n",
       "    var docs_json = {\"c4b93517-33fa-4853-89f6-83be8338f63b\":{\"defs\":[],\"roots\":{\"references\":[{\"attributes\":{\"css_classes\":[\"alert\",\"alert-secondary\",\"markdown\"],\"margin\":[0,0,25,0],\"name\":\"Alert01352\",\"sizing_mode\":\"stretch_width\",\"text\":\"&lt;p&gt;Bam indexing AB.bam.bai&amp;hellip;&lt;/p&gt;\"},\"id\":\"1668\",\"type\":\"panel.models.markup.HTML\"},{\"attributes\":{\"client_comm_id\":\"b0ca99ca57f146fa8294ab0b26504212\",\"comm_id\":\"93689540e01a4ad4ad4dcabc06f4483a\",\"plot_id\":\"1668\"},\"id\":\"1669\",\"type\":\"panel.models.comm_manager.CommManager\"}],\"root_ids\":[\"1668\",\"1669\"]},\"title\":\"Bokeh Application\",\"version\":\"2.3.3\"}};\n",
       "    var render_items = [{\"docid\":\"c4b93517-33fa-4853-89f6-83be8338f63b\",\"root_ids\":[\"1668\"],\"roots\":{\"1668\":\"1448112a-b6bd-4d8b-9053-46c163fda29e\"}}];\n",
       "    root.Bokeh.embed.embed_items_notebook(docs_json, render_items);\n",
       "  }\n",
       "  if (root.Bokeh !== undefined && root.Bokeh.Panel !== undefined) {\n",
       "    embed_document(root);\n",
       "  } else {\n",
       "    var attempts = 0;\n",
       "    var timer = setInterval(function(root) {\n",
       "      if (root.Bokeh !== undefined && root.Bokeh.Panel !== undefined) {\n",
       "        clearInterval(timer);\n",
       "        embed_document(root);\n",
       "      } else if (document.readyState == \"complete\") {\n",
       "        attempts++;\n",
       "        if (attempts > 100) {\n",
       "          clearInterval(timer);\n",
       "          console.log(\"Bokeh: ERROR: Unable to run BokehJS code because BokehJS library is missing\");\n",
       "        }\n",
       "      }\n",
       "    }, 10, root)\n",
       "  }\n",
       "})(window);</script>"
      ],
      "text/plain": [
       "Alert(str, alert_type='secondary', css_classes=['alert', 'alert-secondary...], margin=(0, 0, 25, 0), sizing_mode='stretch_width')"
      ]
     },
     "metadata": {
      "application/vnd.holoviews_exec.v0+json": {
       "id": "1668"
      }
     },
     "output_type": "display_data"
    },
    {
     "data": {},
     "metadata": {},
     "output_type": "display_data"
    },
    {
     "data": {
      "application/vnd.holoviews_exec.v0+json": "",
      "text/html": [
       "<div id='1670'>\n",
       "\n",
       "\n",
       "\n",
       "\n",
       "\n",
       "  <div class=\"bk-root\" id=\"eff2eeb7-d1e3-4a00-93e6-d0cf459c6f14\" data-root-id=\"1670\"></div>\n",
       "</div>\n",
       "<script type=\"application/javascript\">(function(root) {\n",
       "  function embed_document(root) {\n",
       "    var docs_json = {\"58d66b89-8ad1-42fe-b802-fb82acb856bd\":{\"defs\":[],\"roots\":{\"references\":[{\"attributes\":{\"client_comm_id\":\"d3332f3ab9ba4bb49770e0f591d95600\",\"comm_id\":\"84db0eab07e54662bf7ff424b00e886d\",\"plot_id\":\"1670\"},\"id\":\"1671\",\"type\":\"panel.models.comm_manager.CommManager\"},{\"attributes\":{\"css_classes\":[\"alert\",\"alert-danger\",\"markdown\"],\"margin\":[0,0,25,0],\"name\":\"Alert01356\",\"sizing_mode\":\"stretch_width\",\"text\":\"&lt;p&gt;Failed execution (AB.bam.bai).... see log file, resolve the problem and try again&lt;/p&gt;\"},\"id\":\"1670\",\"type\":\"panel.models.markup.HTML\"}],\"root_ids\":[\"1670\",\"1671\"]},\"title\":\"Bokeh Application\",\"version\":\"2.3.3\"}};\n",
       "    var render_items = [{\"docid\":\"58d66b89-8ad1-42fe-b802-fb82acb856bd\",\"root_ids\":[\"1670\"],\"roots\":{\"1670\":\"eff2eeb7-d1e3-4a00-93e6-d0cf459c6f14\"}}];\n",
       "    root.Bokeh.embed.embed_items_notebook(docs_json, render_items);\n",
       "  }\n",
       "  if (root.Bokeh !== undefined && root.Bokeh.Panel !== undefined) {\n",
       "    embed_document(root);\n",
       "  } else {\n",
       "    var attempts = 0;\n",
       "    var timer = setInterval(function(root) {\n",
       "      if (root.Bokeh !== undefined && root.Bokeh.Panel !== undefined) {\n",
       "        clearInterval(timer);\n",
       "        embed_document(root);\n",
       "      } else if (document.readyState == \"complete\") {\n",
       "        attempts++;\n",
       "        if (attempts > 100) {\n",
       "          clearInterval(timer);\n",
       "          console.log(\"Bokeh: ERROR: Unable to run BokehJS code because BokehJS library is missing\");\n",
       "        }\n",
       "      }\n",
       "    }, 10, root)\n",
       "  }\n",
       "})(window);</script>"
      ],
      "text/plain": [
       "Alert(str, alert_type='danger', css_classes=['alert', 'alert-danger'], margin=(0, 0, 25, 0), sizing_mode='stretch_width')"
      ]
     },
     "metadata": {
      "application/vnd.holoviews_exec.v0+json": {
       "id": "1670"
      }
     },
     "output_type": "display_data"
    },
    {
     "data": {},
     "metadata": {},
     "output_type": "display_data"
    },
    {
     "data": {
      "application/vnd.holoviews_exec.v0+json": "",
      "text/html": [
       "<div id='1672'>\n",
       "\n",
       "\n",
       "\n",
       "\n",
       "\n",
       "  <div class=\"bk-root\" id=\"b832cdb1-fa1f-480a-8d99-50ecf6d4d2b2\" data-root-id=\"1672\"></div>\n",
       "</div>\n",
       "<script type=\"application/javascript\">(function(root) {\n",
       "  function embed_document(root) {\n",
       "    var docs_json = {\"f04411de-9fc9-466b-ac6b-67b79f709860\":{\"defs\":[],\"roots\":{\"references\":[{\"attributes\":{\"css_classes\":[\"alert\",\"alert-secondary\",\"markdown\"],\"margin\":[0,0,25,0],\"name\":\"Alert01360\",\"sizing_mode\":\"stretch_width\",\"text\":\"&lt;p&gt;Bam indexing AA.bam&amp;hellip;&lt;/p&gt;\"},\"id\":\"1672\",\"type\":\"panel.models.markup.HTML\"},{\"attributes\":{\"client_comm_id\":\"5209e427ee1f4d81a86bb9806e6a5dce\",\"comm_id\":\"cd1249247ece49ce9f32f4c41b0dbe17\",\"plot_id\":\"1672\"},\"id\":\"1673\",\"type\":\"panel.models.comm_manager.CommManager\"}],\"root_ids\":[\"1672\",\"1673\"]},\"title\":\"Bokeh Application\",\"version\":\"2.3.3\"}};\n",
       "    var render_items = [{\"docid\":\"f04411de-9fc9-466b-ac6b-67b79f709860\",\"root_ids\":[\"1672\"],\"roots\":{\"1672\":\"b832cdb1-fa1f-480a-8d99-50ecf6d4d2b2\"}}];\n",
       "    root.Bokeh.embed.embed_items_notebook(docs_json, render_items);\n",
       "  }\n",
       "  if (root.Bokeh !== undefined && root.Bokeh.Panel !== undefined) {\n",
       "    embed_document(root);\n",
       "  } else {\n",
       "    var attempts = 0;\n",
       "    var timer = setInterval(function(root) {\n",
       "      if (root.Bokeh !== undefined && root.Bokeh.Panel !== undefined) {\n",
       "        clearInterval(timer);\n",
       "        embed_document(root);\n",
       "      } else if (document.readyState == \"complete\") {\n",
       "        attempts++;\n",
       "        if (attempts > 100) {\n",
       "          clearInterval(timer);\n",
       "          console.log(\"Bokeh: ERROR: Unable to run BokehJS code because BokehJS library is missing\");\n",
       "        }\n",
       "      }\n",
       "    }, 10, root)\n",
       "  }\n",
       "})(window);</script>"
      ],
      "text/plain": [
       "Alert(str, alert_type='secondary', css_classes=['alert', 'alert-secondary...], margin=(0, 0, 25, 0), sizing_mode='stretch_width')"
      ]
     },
     "metadata": {
      "application/vnd.holoviews_exec.v0+json": {
       "id": "1672"
      }
     },
     "output_type": "display_data"
    },
    {
     "data": {},
     "metadata": {},
     "output_type": "display_data"
    },
    {
     "data": {
      "application/vnd.holoviews_exec.v0+json": "",
      "text/html": [
       "<div id='1674'>\n",
       "\n",
       "\n",
       "\n",
       "\n",
       "\n",
       "  <div class=\"bk-root\" id=\"5b963a18-29f0-426b-8c8b-6b9801875b8a\" data-root-id=\"1674\"></div>\n",
       "</div>\n",
       "<script type=\"application/javascript\">(function(root) {\n",
       "  function embed_document(root) {\n",
       "    var docs_json = {\"6f535693-265a-47c0-bf15-54ce25d1fea5\":{\"defs\":[],\"roots\":{\"references\":[{\"attributes\":{\"css_classes\":[\"alert\",\"alert-success\",\"markdown\"],\"margin\":[0,0,25,0],\"name\":\"Alert01364\",\"sizing_mode\":\"stretch_width\",\"text\":\"&lt;p&gt;samtools index executed successfully)&lt;/p&gt;\"},\"id\":\"1674\",\"type\":\"panel.models.markup.HTML\"},{\"attributes\":{\"client_comm_id\":\"eb5b9c2a7f614dd8a09f5fb0dfdf3bae\",\"comm_id\":\"14f836a279b14762bbdc5d4ddad3e326\",\"plot_id\":\"1674\"},\"id\":\"1675\",\"type\":\"panel.models.comm_manager.CommManager\"}],\"root_ids\":[\"1674\",\"1675\"]},\"title\":\"Bokeh Application\",\"version\":\"2.3.3\"}};\n",
       "    var render_items = [{\"docid\":\"6f535693-265a-47c0-bf15-54ce25d1fea5\",\"root_ids\":[\"1674\"],\"roots\":{\"1674\":\"5b963a18-29f0-426b-8c8b-6b9801875b8a\"}}];\n",
       "    root.Bokeh.embed.embed_items_notebook(docs_json, render_items);\n",
       "  }\n",
       "  if (root.Bokeh !== undefined && root.Bokeh.Panel !== undefined) {\n",
       "    embed_document(root);\n",
       "  } else {\n",
       "    var attempts = 0;\n",
       "    var timer = setInterval(function(root) {\n",
       "      if (root.Bokeh !== undefined && root.Bokeh.Panel !== undefined) {\n",
       "        clearInterval(timer);\n",
       "        embed_document(root);\n",
       "      } else if (document.readyState == \"complete\") {\n",
       "        attempts++;\n",
       "        if (attempts > 100) {\n",
       "          clearInterval(timer);\n",
       "          console.log(\"Bokeh: ERROR: Unable to run BokehJS code because BokehJS library is missing\");\n",
       "        }\n",
       "      }\n",
       "    }, 10, root)\n",
       "  }\n",
       "})(window);</script>"
      ],
      "text/plain": [
       "Alert(str, alert_type='success', css_classes=['alert', 'alert-success']...], margin=(0, 0, 25, 0), sizing_mode='stretch_width')"
      ]
     },
     "metadata": {
      "application/vnd.holoviews_exec.v0+json": {
       "id": "1674"
      }
     },
     "output_type": "display_data"
    },
    {
     "data": {},
     "metadata": {},
     "output_type": "display_data"
    },
    {
     "data": {
      "application/vnd.holoviews_exec.v0+json": "",
      "text/html": [
       "<div id='1676'>\n",
       "\n",
       "\n",
       "\n",
       "\n",
       "\n",
       "  <div class=\"bk-root\" id=\"a5f8d255-2a53-47db-967f-05bf93941932\" data-root-id=\"1676\"></div>\n",
       "</div>\n",
       "<script type=\"application/javascript\">(function(root) {\n",
       "  function embed_document(root) {\n",
       "    var docs_json = {\"543b9027-8c9f-4957-b5b1-cfccf9fdd360\":{\"defs\":[],\"roots\":{\"references\":[{\"attributes\":{\"client_comm_id\":\"c68ee31b51444c0b8f5266254ac96c26\",\"comm_id\":\"f365617d69044070be01baa6e4508846\",\"plot_id\":\"1676\"},\"id\":\"1677\",\"type\":\"panel.models.comm_manager.CommManager\"},{\"attributes\":{\"css_classes\":[\"alert\",\"alert-secondary\",\"markdown\"],\"margin\":[0,0,25,0],\"name\":\"Alert01368\",\"sizing_mode\":\"stretch_width\",\"text\":\"&lt;p&gt;Bam indexing DT.bam.bai&amp;hellip;&lt;/p&gt;\"},\"id\":\"1676\",\"type\":\"panel.models.markup.HTML\"}],\"root_ids\":[\"1676\",\"1677\"]},\"title\":\"Bokeh Application\",\"version\":\"2.3.3\"}};\n",
       "    var render_items = [{\"docid\":\"543b9027-8c9f-4957-b5b1-cfccf9fdd360\",\"root_ids\":[\"1676\"],\"roots\":{\"1676\":\"a5f8d255-2a53-47db-967f-05bf93941932\"}}];\n",
       "    root.Bokeh.embed.embed_items_notebook(docs_json, render_items);\n",
       "  }\n",
       "  if (root.Bokeh !== undefined && root.Bokeh.Panel !== undefined) {\n",
       "    embed_document(root);\n",
       "  } else {\n",
       "    var attempts = 0;\n",
       "    var timer = setInterval(function(root) {\n",
       "      if (root.Bokeh !== undefined && root.Bokeh.Panel !== undefined) {\n",
       "        clearInterval(timer);\n",
       "        embed_document(root);\n",
       "      } else if (document.readyState == \"complete\") {\n",
       "        attempts++;\n",
       "        if (attempts > 100) {\n",
       "          clearInterval(timer);\n",
       "          console.log(\"Bokeh: ERROR: Unable to run BokehJS code because BokehJS library is missing\");\n",
       "        }\n",
       "      }\n",
       "    }, 10, root)\n",
       "  }\n",
       "})(window);</script>"
      ],
      "text/plain": [
       "Alert(str, alert_type='secondary', css_classes=['alert', 'alert-secondary...], margin=(0, 0, 25, 0), sizing_mode='stretch_width')"
      ]
     },
     "metadata": {
      "application/vnd.holoviews_exec.v0+json": {
       "id": "1676"
      }
     },
     "output_type": "display_data"
    },
    {
     "data": {},
     "metadata": {},
     "output_type": "display_data"
    },
    {
     "data": {
      "application/vnd.holoviews_exec.v0+json": "",
      "text/html": [
       "<div id='1678'>\n",
       "\n",
       "\n",
       "\n",
       "\n",
       "\n",
       "  <div class=\"bk-root\" id=\"bec15656-de3c-4f15-bf0d-1069860ba2aa\" data-root-id=\"1678\"></div>\n",
       "</div>\n",
       "<script type=\"application/javascript\">(function(root) {\n",
       "  function embed_document(root) {\n",
       "    var docs_json = {\"99b7ca66-633f-45f6-bcf1-53b8ebef710b\":{\"defs\":[],\"roots\":{\"references\":[{\"attributes\":{\"css_classes\":[\"alert\",\"alert-danger\",\"markdown\"],\"margin\":[0,0,25,0],\"name\":\"Alert01372\",\"sizing_mode\":\"stretch_width\",\"text\":\"&lt;p&gt;Failed execution (DT.bam.bai).... see log file, resolve the problem and try again&lt;/p&gt;\"},\"id\":\"1678\",\"type\":\"panel.models.markup.HTML\"},{\"attributes\":{\"client_comm_id\":\"84f7903ee63141399eca0e4f4e59c8ed\",\"comm_id\":\"0671bfec81b6479e9c12d99134768c7c\",\"plot_id\":\"1678\"},\"id\":\"1679\",\"type\":\"panel.models.comm_manager.CommManager\"}],\"root_ids\":[\"1678\",\"1679\"]},\"title\":\"Bokeh Application\",\"version\":\"2.3.3\"}};\n",
       "    var render_items = [{\"docid\":\"99b7ca66-633f-45f6-bcf1-53b8ebef710b\",\"root_ids\":[\"1678\"],\"roots\":{\"1678\":\"bec15656-de3c-4f15-bf0d-1069860ba2aa\"}}];\n",
       "    root.Bokeh.embed.embed_items_notebook(docs_json, render_items);\n",
       "  }\n",
       "  if (root.Bokeh !== undefined && root.Bokeh.Panel !== undefined) {\n",
       "    embed_document(root);\n",
       "  } else {\n",
       "    var attempts = 0;\n",
       "    var timer = setInterval(function(root) {\n",
       "      if (root.Bokeh !== undefined && root.Bokeh.Panel !== undefined) {\n",
       "        clearInterval(timer);\n",
       "        embed_document(root);\n",
       "      } else if (document.readyState == \"complete\") {\n",
       "        attempts++;\n",
       "        if (attempts > 100) {\n",
       "          clearInterval(timer);\n",
       "          console.log(\"Bokeh: ERROR: Unable to run BokehJS code because BokehJS library is missing\");\n",
       "        }\n",
       "      }\n",
       "    }, 10, root)\n",
       "  }\n",
       "})(window);</script>"
      ],
      "text/plain": [
       "Alert(str, alert_type='danger', css_classes=['alert', 'alert-danger'], margin=(0, 0, 25, 0), sizing_mode='stretch_width')"
      ]
     },
     "metadata": {
      "application/vnd.holoviews_exec.v0+json": {
       "id": "1678"
      }
     },
     "output_type": "display_data"
    },
    {
     "data": {},
     "metadata": {},
     "output_type": "display_data"
    },
    {
     "data": {
      "application/vnd.holoviews_exec.v0+json": "",
      "text/html": [
       "<div id='1680'>\n",
       "\n",
       "\n",
       "\n",
       "\n",
       "\n",
       "  <div class=\"bk-root\" id=\"da70abc5-11f0-442b-911c-7f6f1c4ef31c\" data-root-id=\"1680\"></div>\n",
       "</div>\n",
       "<script type=\"application/javascript\">(function(root) {\n",
       "  function embed_document(root) {\n",
       "    var docs_json = {\"221805e1-ff8e-42b3-bdf8-78adce9a53a8\":{\"defs\":[],\"roots\":{\"references\":[{\"attributes\":{\"client_comm_id\":\"132417e0ebb941b8837e723126d24155\",\"comm_id\":\"aaa89733a0ef49069f5d5f8f555db546\",\"plot_id\":\"1680\"},\"id\":\"1681\",\"type\":\"panel.models.comm_manager.CommManager\"},{\"attributes\":{\"css_classes\":[\"alert\",\"alert-secondary\",\"markdown\"],\"margin\":[0,0,25,0],\"name\":\"Alert01376\",\"sizing_mode\":\"stretch_width\",\"text\":\"&lt;p&gt;Bam indexing DT.bam&amp;hellip;&lt;/p&gt;\"},\"id\":\"1680\",\"type\":\"panel.models.markup.HTML\"}],\"root_ids\":[\"1680\",\"1681\"]},\"title\":\"Bokeh Application\",\"version\":\"2.3.3\"}};\n",
       "    var render_items = [{\"docid\":\"221805e1-ff8e-42b3-bdf8-78adce9a53a8\",\"root_ids\":[\"1680\"],\"roots\":{\"1680\":\"da70abc5-11f0-442b-911c-7f6f1c4ef31c\"}}];\n",
       "    root.Bokeh.embed.embed_items_notebook(docs_json, render_items);\n",
       "  }\n",
       "  if (root.Bokeh !== undefined && root.Bokeh.Panel !== undefined) {\n",
       "    embed_document(root);\n",
       "  } else {\n",
       "    var attempts = 0;\n",
       "    var timer = setInterval(function(root) {\n",
       "      if (root.Bokeh !== undefined && root.Bokeh.Panel !== undefined) {\n",
       "        clearInterval(timer);\n",
       "        embed_document(root);\n",
       "      } else if (document.readyState == \"complete\") {\n",
       "        attempts++;\n",
       "        if (attempts > 100) {\n",
       "          clearInterval(timer);\n",
       "          console.log(\"Bokeh: ERROR: Unable to run BokehJS code because BokehJS library is missing\");\n",
       "        }\n",
       "      }\n",
       "    }, 10, root)\n",
       "  }\n",
       "})(window);</script>"
      ],
      "text/plain": [
       "Alert(str, alert_type='secondary', css_classes=['alert', 'alert-secondary...], margin=(0, 0, 25, 0), sizing_mode='stretch_width')"
      ]
     },
     "metadata": {
      "application/vnd.holoviews_exec.v0+json": {
       "id": "1680"
      }
     },
     "output_type": "display_data"
    },
    {
     "data": {},
     "metadata": {},
     "output_type": "display_data"
    },
    {
     "data": {
      "application/vnd.holoviews_exec.v0+json": "",
      "text/html": [
       "<div id='1682'>\n",
       "\n",
       "\n",
       "\n",
       "\n",
       "\n",
       "  <div class=\"bk-root\" id=\"e87fb104-6cba-4913-837a-7830eb7532ae\" data-root-id=\"1682\"></div>\n",
       "</div>\n",
       "<script type=\"application/javascript\">(function(root) {\n",
       "  function embed_document(root) {\n",
       "    var docs_json = {\"b371476c-5769-4a35-8146-311963564a92\":{\"defs\":[],\"roots\":{\"references\":[{\"attributes\":{\"css_classes\":[\"alert\",\"alert-success\",\"markdown\"],\"margin\":[0,0,25,0],\"name\":\"Alert01380\",\"sizing_mode\":\"stretch_width\",\"text\":\"&lt;p&gt;samtools index executed successfully)&lt;/p&gt;\"},\"id\":\"1682\",\"type\":\"panel.models.markup.HTML\"},{\"attributes\":{\"client_comm_id\":\"2e2313505db048cf8a52932c4a19466f\",\"comm_id\":\"037e5be62b8441ddb73d9e440fb588e7\",\"plot_id\":\"1682\"},\"id\":\"1683\",\"type\":\"panel.models.comm_manager.CommManager\"}],\"root_ids\":[\"1682\",\"1683\"]},\"title\":\"Bokeh Application\",\"version\":\"2.3.3\"}};\n",
       "    var render_items = [{\"docid\":\"b371476c-5769-4a35-8146-311963564a92\",\"root_ids\":[\"1682\"],\"roots\":{\"1682\":\"e87fb104-6cba-4913-837a-7830eb7532ae\"}}];\n",
       "    root.Bokeh.embed.embed_items_notebook(docs_json, render_items);\n",
       "  }\n",
       "  if (root.Bokeh !== undefined && root.Bokeh.Panel !== undefined) {\n",
       "    embed_document(root);\n",
       "  } else {\n",
       "    var attempts = 0;\n",
       "    var timer = setInterval(function(root) {\n",
       "      if (root.Bokeh !== undefined && root.Bokeh.Panel !== undefined) {\n",
       "        clearInterval(timer);\n",
       "        embed_document(root);\n",
       "      } else if (document.readyState == \"complete\") {\n",
       "        attempts++;\n",
       "        if (attempts > 100) {\n",
       "          clearInterval(timer);\n",
       "          console.log(\"Bokeh: ERROR: Unable to run BokehJS code because BokehJS library is missing\");\n",
       "        }\n",
       "      }\n",
       "    }, 10, root)\n",
       "  }\n",
       "})(window);</script>"
      ],
      "text/plain": [
       "Alert(str, alert_type='success', css_classes=['alert', 'alert-success']...], margin=(0, 0, 25, 0), sizing_mode='stretch_width')"
      ]
     },
     "metadata": {
      "application/vnd.holoviews_exec.v0+json": {
       "id": "1682"
      }
     },
     "output_type": "display_data"
    },
    {
     "data": {},
     "metadata": {},
     "output_type": "display_data"
    },
    {
     "data": {
      "application/vnd.holoviews_exec.v0+json": "",
      "text/html": [
       "<div id='1684'>\n",
       "\n",
       "\n",
       "\n",
       "\n",
       "\n",
       "  <div class=\"bk-root\" id=\"cd4122e3-0bdf-4fa9-be1b-91d75558f746\" data-root-id=\"1684\"></div>\n",
       "</div>\n",
       "<script type=\"application/javascript\">(function(root) {\n",
       "  function embed_document(root) {\n",
       "    var docs_json = {\"f6b5a248-9361-4c10-b1ca-920a758c871d\":{\"defs\":[],\"roots\":{\"references\":[{\"attributes\":{\"client_comm_id\":\"b8d016af82a94efd81ba613a50c07205\",\"comm_id\":\"1521e65522834862a273f50461b3abf8\",\"plot_id\":\"1684\"},\"id\":\"1685\",\"type\":\"panel.models.comm_manager.CommManager\"},{\"attributes\":{\"css_classes\":[\"alert\",\"alert-secondary\",\"markdown\"],\"margin\":[0,0,25,0],\"name\":\"Alert01384\",\"sizing_mode\":\"stretch_width\",\"text\":\"&lt;p&gt;Bam indexing AA.bam.bai&amp;hellip;&lt;/p&gt;\"},\"id\":\"1684\",\"type\":\"panel.models.markup.HTML\"}],\"root_ids\":[\"1684\",\"1685\"]},\"title\":\"Bokeh Application\",\"version\":\"2.3.3\"}};\n",
       "    var render_items = [{\"docid\":\"f6b5a248-9361-4c10-b1ca-920a758c871d\",\"root_ids\":[\"1684\"],\"roots\":{\"1684\":\"cd4122e3-0bdf-4fa9-be1b-91d75558f746\"}}];\n",
       "    root.Bokeh.embed.embed_items_notebook(docs_json, render_items);\n",
       "  }\n",
       "  if (root.Bokeh !== undefined && root.Bokeh.Panel !== undefined) {\n",
       "    embed_document(root);\n",
       "  } else {\n",
       "    var attempts = 0;\n",
       "    var timer = setInterval(function(root) {\n",
       "      if (root.Bokeh !== undefined && root.Bokeh.Panel !== undefined) {\n",
       "        clearInterval(timer);\n",
       "        embed_document(root);\n",
       "      } else if (document.readyState == \"complete\") {\n",
       "        attempts++;\n",
       "        if (attempts > 100) {\n",
       "          clearInterval(timer);\n",
       "          console.log(\"Bokeh: ERROR: Unable to run BokehJS code because BokehJS library is missing\");\n",
       "        }\n",
       "      }\n",
       "    }, 10, root)\n",
       "  }\n",
       "})(window);</script>"
      ],
      "text/plain": [
       "Alert(str, alert_type='secondary', css_classes=['alert', 'alert-secondary...], margin=(0, 0, 25, 0), sizing_mode='stretch_width')"
      ]
     },
     "metadata": {
      "application/vnd.holoviews_exec.v0+json": {
       "id": "1684"
      }
     },
     "output_type": "display_data"
    },
    {
     "data": {},
     "metadata": {},
     "output_type": "display_data"
    },
    {
     "data": {
      "application/vnd.holoviews_exec.v0+json": "",
      "text/html": [
       "<div id='1686'>\n",
       "\n",
       "\n",
       "\n",
       "\n",
       "\n",
       "  <div class=\"bk-root\" id=\"56831c45-fe98-4d81-98db-f1e17f5bf212\" data-root-id=\"1686\"></div>\n",
       "</div>\n",
       "<script type=\"application/javascript\">(function(root) {\n",
       "  function embed_document(root) {\n",
       "    var docs_json = {\"5bbb5435-dd77-4e05-b926-b9df93c44164\":{\"defs\":[],\"roots\":{\"references\":[{\"attributes\":{\"css_classes\":[\"alert\",\"alert-danger\",\"markdown\"],\"margin\":[0,0,25,0],\"name\":\"Alert01388\",\"sizing_mode\":\"stretch_width\",\"text\":\"&lt;p&gt;Failed execution (AA.bam.bai).... see log file, resolve the problem and try again&lt;/p&gt;\"},\"id\":\"1686\",\"type\":\"panel.models.markup.HTML\"},{\"attributes\":{\"client_comm_id\":\"457f3aabbd7146fa8dd10b556048970f\",\"comm_id\":\"194b8db6a8d14cb48079bca518d5e411\",\"plot_id\":\"1686\"},\"id\":\"1687\",\"type\":\"panel.models.comm_manager.CommManager\"}],\"root_ids\":[\"1686\",\"1687\"]},\"title\":\"Bokeh Application\",\"version\":\"2.3.3\"}};\n",
       "    var render_items = [{\"docid\":\"5bbb5435-dd77-4e05-b926-b9df93c44164\",\"root_ids\":[\"1686\"],\"roots\":{\"1686\":\"56831c45-fe98-4d81-98db-f1e17f5bf212\"}}];\n",
       "    root.Bokeh.embed.embed_items_notebook(docs_json, render_items);\n",
       "  }\n",
       "  if (root.Bokeh !== undefined && root.Bokeh.Panel !== undefined) {\n",
       "    embed_document(root);\n",
       "  } else {\n",
       "    var attempts = 0;\n",
       "    var timer = setInterval(function(root) {\n",
       "      if (root.Bokeh !== undefined && root.Bokeh.Panel !== undefined) {\n",
       "        clearInterval(timer);\n",
       "        embed_document(root);\n",
       "      } else if (document.readyState == \"complete\") {\n",
       "        attempts++;\n",
       "        if (attempts > 100) {\n",
       "          clearInterval(timer);\n",
       "          console.log(\"Bokeh: ERROR: Unable to run BokehJS code because BokehJS library is missing\");\n",
       "        }\n",
       "      }\n",
       "    }, 10, root)\n",
       "  }\n",
       "})(window);</script>"
      ],
      "text/plain": [
       "Alert(str, alert_type='danger', css_classes=['alert', 'alert-danger'], margin=(0, 0, 25, 0), sizing_mode='stretch_width')"
      ]
     },
     "metadata": {
      "application/vnd.holoviews_exec.v0+json": {
       "id": "1686"
      }
     },
     "output_type": "display_data"
    },
    {
     "data": {},
     "metadata": {},
     "output_type": "display_data"
    },
    {
     "data": {
      "application/vnd.holoviews_exec.v0+json": "",
      "text/html": [
       "<div id='1688'>\n",
       "\n",
       "\n",
       "\n",
       "\n",
       "\n",
       "  <div class=\"bk-root\" id=\"ebcca7f1-9083-48a0-8ecb-767cace52235\" data-root-id=\"1688\"></div>\n",
       "</div>\n",
       "<script type=\"application/javascript\">(function(root) {\n",
       "  function embed_document(root) {\n",
       "    var docs_json = {\"39548cac-daef-4128-963a-24b84958df47\":{\"defs\":[],\"roots\":{\"references\":[{\"attributes\":{\"client_comm_id\":\"8e3eda98dcf444a6a324d5d0a2cdb1de\",\"comm_id\":\"b61c144106824478a7aef64821c6be10\",\"plot_id\":\"1688\"},\"id\":\"1689\",\"type\":\"panel.models.comm_manager.CommManager\"},{\"attributes\":{\"css_classes\":[\"alert\",\"alert-secondary\",\"markdown\"],\"margin\":[0,0,25,0],\"name\":\"Alert01392\",\"sizing_mode\":\"stretch_width\",\"text\":\"&lt;p&gt;Bam indexing AB.bam&amp;hellip;&lt;/p&gt;\"},\"id\":\"1688\",\"type\":\"panel.models.markup.HTML\"}],\"root_ids\":[\"1688\",\"1689\"]},\"title\":\"Bokeh Application\",\"version\":\"2.3.3\"}};\n",
       "    var render_items = [{\"docid\":\"39548cac-daef-4128-963a-24b84958df47\",\"root_ids\":[\"1688\"],\"roots\":{\"1688\":\"ebcca7f1-9083-48a0-8ecb-767cace52235\"}}];\n",
       "    root.Bokeh.embed.embed_items_notebook(docs_json, render_items);\n",
       "  }\n",
       "  if (root.Bokeh !== undefined && root.Bokeh.Panel !== undefined) {\n",
       "    embed_document(root);\n",
       "  } else {\n",
       "    var attempts = 0;\n",
       "    var timer = setInterval(function(root) {\n",
       "      if (root.Bokeh !== undefined && root.Bokeh.Panel !== undefined) {\n",
       "        clearInterval(timer);\n",
       "        embed_document(root);\n",
       "      } else if (document.readyState == \"complete\") {\n",
       "        attempts++;\n",
       "        if (attempts > 100) {\n",
       "          clearInterval(timer);\n",
       "          console.log(\"Bokeh: ERROR: Unable to run BokehJS code because BokehJS library is missing\");\n",
       "        }\n",
       "      }\n",
       "    }, 10, root)\n",
       "  }\n",
       "})(window);</script>"
      ],
      "text/plain": [
       "Alert(str, alert_type='secondary', css_classes=['alert', 'alert-secondary...], margin=(0, 0, 25, 0), sizing_mode='stretch_width')"
      ]
     },
     "metadata": {
      "application/vnd.holoviews_exec.v0+json": {
       "id": "1688"
      }
     },
     "output_type": "display_data"
    },
    {
     "data": {},
     "metadata": {},
     "output_type": "display_data"
    },
    {
     "data": {
      "application/vnd.holoviews_exec.v0+json": "",
      "text/html": [
       "<div id='1690'>\n",
       "\n",
       "\n",
       "\n",
       "\n",
       "\n",
       "  <div class=\"bk-root\" id=\"6365a79c-bcf5-4243-9af5-a6f09251ef61\" data-root-id=\"1690\"></div>\n",
       "</div>\n",
       "<script type=\"application/javascript\">(function(root) {\n",
       "  function embed_document(root) {\n",
       "    var docs_json = {\"d9bf095a-8114-46db-8dc2-f64a3edbf192\":{\"defs\":[],\"roots\":{\"references\":[{\"attributes\":{\"client_comm_id\":\"69311282c4fe426994cfb7a64807394f\",\"comm_id\":\"d5de77398b6a4c249f6b1b6677a607ea\",\"plot_id\":\"1690\"},\"id\":\"1691\",\"type\":\"panel.models.comm_manager.CommManager\"},{\"attributes\":{\"css_classes\":[\"alert\",\"alert-success\",\"markdown\"],\"margin\":[0,0,25,0],\"name\":\"Alert01396\",\"sizing_mode\":\"stretch_width\",\"text\":\"&lt;p&gt;samtools index executed successfully)&lt;/p&gt;\"},\"id\":\"1690\",\"type\":\"panel.models.markup.HTML\"}],\"root_ids\":[\"1690\",\"1691\"]},\"title\":\"Bokeh Application\",\"version\":\"2.3.3\"}};\n",
       "    var render_items = [{\"docid\":\"d9bf095a-8114-46db-8dc2-f64a3edbf192\",\"root_ids\":[\"1690\"],\"roots\":{\"1690\":\"6365a79c-bcf5-4243-9af5-a6f09251ef61\"}}];\n",
       "    root.Bokeh.embed.embed_items_notebook(docs_json, render_items);\n",
       "  }\n",
       "  if (root.Bokeh !== undefined && root.Bokeh.Panel !== undefined) {\n",
       "    embed_document(root);\n",
       "  } else {\n",
       "    var attempts = 0;\n",
       "    var timer = setInterval(function(root) {\n",
       "      if (root.Bokeh !== undefined && root.Bokeh.Panel !== undefined) {\n",
       "        clearInterval(timer);\n",
       "        embed_document(root);\n",
       "      } else if (document.readyState == \"complete\") {\n",
       "        attempts++;\n",
       "        if (attempts > 100) {\n",
       "          clearInterval(timer);\n",
       "          console.log(\"Bokeh: ERROR: Unable to run BokehJS code because BokehJS library is missing\");\n",
       "        }\n",
       "      }\n",
       "    }, 10, root)\n",
       "  }\n",
       "})(window);</script>"
      ],
      "text/plain": [
       "Alert(str, alert_type='success', css_classes=['alert', 'alert-success']...], margin=(0, 0, 25, 0), sizing_mode='stretch_width')"
      ]
     },
     "metadata": {
      "application/vnd.holoviews_exec.v0+json": {
       "id": "1690"
      }
     },
     "output_type": "display_data"
    },
    {
     "data": {},
     "metadata": {},
     "output_type": "display_data"
    },
    {
     "data": {
      "application/vnd.holoviews_exec.v0+json": "",
      "text/html": [
       "<div id='1692'>\n",
       "\n",
       "\n",
       "\n",
       "\n",
       "\n",
       "  <div class=\"bk-root\" id=\"38288728-7055-472f-9d89-d241bf2e449f\" data-root-id=\"1692\"></div>\n",
       "</div>\n",
       "<script type=\"application/javascript\">(function(root) {\n",
       "  function embed_document(root) {\n",
       "    var docs_json = {\"191d063d-fe7e-45fa-82d7-e1776f8097ef\":{\"defs\":[],\"roots\":{\"references\":[{\"attributes\":{\"client_comm_id\":\"c65a2537b3044fd0b077d34eb8a29787\",\"comm_id\":\"114aca8770f04801935d341f21cabe93\",\"plot_id\":\"1692\"},\"id\":\"1693\",\"type\":\"panel.models.comm_manager.CommManager\"},{\"attributes\":{\"css_classes\":[\"alert\",\"alert-secondary\",\"markdown\"],\"margin\":[0,0,25,0],\"name\":\"Alert01400\",\"sizing_mode\":\"stretch_width\",\"text\":\"&lt;p&gt;Anchoring indexing&amp;hellip;&lt;/p&gt;\"},\"id\":\"1692\",\"type\":\"panel.models.markup.HTML\"}],\"root_ids\":[\"1692\",\"1693\"]},\"title\":\"Bokeh Application\",\"version\":\"2.3.3\"}};\n",
       "    var render_items = [{\"docid\":\"191d063d-fe7e-45fa-82d7-e1776f8097ef\",\"root_ids\":[\"1692\"],\"roots\":{\"1692\":\"38288728-7055-472f-9d89-d241bf2e449f\"}}];\n",
       "    root.Bokeh.embed.embed_items_notebook(docs_json, render_items);\n",
       "  }\n",
       "  if (root.Bokeh !== undefined && root.Bokeh.Panel !== undefined) {\n",
       "    embed_document(root);\n",
       "  } else {\n",
       "    var attempts = 0;\n",
       "    var timer = setInterval(function(root) {\n",
       "      if (root.Bokeh !== undefined && root.Bokeh.Panel !== undefined) {\n",
       "        clearInterval(timer);\n",
       "        embed_document(root);\n",
       "      } else if (document.readyState == \"complete\") {\n",
       "        attempts++;\n",
       "        if (attempts > 100) {\n",
       "          clearInterval(timer);\n",
       "          console.log(\"Bokeh: ERROR: Unable to run BokehJS code because BokehJS library is missing\");\n",
       "        }\n",
       "      }\n",
       "    }, 10, root)\n",
       "  }\n",
       "})(window);</script>"
      ],
      "text/plain": [
       "Alert(str, alert_type='secondary', css_classes=['alert', 'alert-secondary...], margin=(0, 0, 25, 0), sizing_mode='stretch_width')"
      ]
     },
     "metadata": {
      "application/vnd.holoviews_exec.v0+json": {
       "id": "1692"
      }
     },
     "output_type": "display_data"
    },
    {
     "data": {},
     "metadata": {},
     "output_type": "display_data"
    },
    {
     "data": {
      "application/vnd.holoviews_exec.v0+json": "",
      "text/html": [
       "<div id='1694'>\n",
       "\n",
       "\n",
       "\n",
       "\n",
       "\n",
       "  <div class=\"bk-root\" id=\"3ea741fb-9252-4c09-9e32-b8ee107392ca\" data-root-id=\"1694\"></div>\n",
       "</div>\n",
       "<script type=\"application/javascript\">(function(root) {\n",
       "  function embed_document(root) {\n",
       "    var docs_json = {\"c5db57e0-a892-4882-b950-555203ef3132\":{\"defs\":[],\"roots\":{\"references\":[{\"attributes\":{\"css_classes\":[\"alert\",\"alert-success\",\"markdown\"],\"margin\":[0,0,25,0],\"name\":\"Alert01404\",\"sizing_mode\":\"stretch_width\",\"text\":\"&lt;p&gt;script executed successfully)&lt;/p&gt;\"},\"id\":\"1694\",\"type\":\"panel.models.markup.HTML\"},{\"attributes\":{\"client_comm_id\":\"746eef0df1364045a686fc346e027aff\",\"comm_id\":\"13a63fcb3e6b4665948611ed3e0ead7b\",\"plot_id\":\"1694\"},\"id\":\"1695\",\"type\":\"panel.models.comm_manager.CommManager\"}],\"root_ids\":[\"1694\",\"1695\"]},\"title\":\"Bokeh Application\",\"version\":\"2.3.3\"}};\n",
       "    var render_items = [{\"docid\":\"c5db57e0-a892-4882-b950-555203ef3132\",\"root_ids\":[\"1694\"],\"roots\":{\"1694\":\"3ea741fb-9252-4c09-9e32-b8ee107392ca\"}}];\n",
       "    root.Bokeh.embed.embed_items_notebook(docs_json, render_items);\n",
       "  }\n",
       "  if (root.Bokeh !== undefined && root.Bokeh.Panel !== undefined) {\n",
       "    embed_document(root);\n",
       "  } else {\n",
       "    var attempts = 0;\n",
       "    var timer = setInterval(function(root) {\n",
       "      if (root.Bokeh !== undefined && root.Bokeh.Panel !== undefined) {\n",
       "        clearInterval(timer);\n",
       "        embed_document(root);\n",
       "      } else if (document.readyState == \"complete\") {\n",
       "        attempts++;\n",
       "        if (attempts > 100) {\n",
       "          clearInterval(timer);\n",
       "          console.log(\"Bokeh: ERROR: Unable to run BokehJS code because BokehJS library is missing\");\n",
       "        }\n",
       "      }\n",
       "    }, 10, root)\n",
       "  }\n",
       "})(window);</script>"
      ],
      "text/plain": [
       "Alert(str, alert_type='success', css_classes=['alert', 'alert-success']...], margin=(0, 0, 25, 0), sizing_mode='stretch_width')"
      ]
     },
     "metadata": {
      "application/vnd.holoviews_exec.v0+json": {
       "id": "1694"
      }
     },
     "output_type": "display_data"
    }
   ],
   "source": [
    "\n",
    "\n",
    "panrefposi_dir = output_panref_dir + \"/placement/\"\n",
    "make_dir(panrefposi_dir)\n",
    "\n",
    "panrefposi_file = panrefposi_dir + \"ctgs_on_ref.csv\"\n",
    "\n",
    "#logger.info(f\"MAPPING STAT :\")\n",
    "#logger.info(f\"\\t\\tMapping stat directory : {stat_dir}\")\n",
    "\n",
    "for file_name in os.listdir(output_panrefmapping_dir):\n",
    "    if \".bam\" in file_name and not os.pa:\n",
    "        samtools_index(os.path.join(output_panrefmapping_dir,file_name),logger)\n",
    "\n",
    "text=f\"Anchoring indexing...\"\n",
    "display_alert(text, \"secondary\")\n",
    "\n",
    "cmd = f'tools/parseBamv7.py -b {output_panrefmapping_dir} -d 15 -o {panrefposi_file}'\n",
    "process = subprocess.run(cmd, shell=True, capture_output=True, text=True)\n",
    "logger.info(f\"\\t\\t\\placement cmd : {cmd}\")\n",
    "\n",
    "if process.returncode:\n",
    "    text = f\"Failed execution.... see log file, resolve the problem and try again\"\n",
    "    at = 'danger'\n",
    "else:\n",
    "    at = 'success'\n",
    "    text = f\"script executed successfully)\"\n",
    "logger.info(f\"\\t\\t\\tLog : {process.stdout + process.stderr}\")\n",
    "display_alert(text, at)\n",
    "    "
   ]
  },
  {
   "cell_type": "code",
   "execution_count": null,
   "metadata": {},
   "outputs": [],
   "source": []
  }
 ],
 "metadata": {
  "hide_input": false,
  "kernelspec": {
   "display_name": "Python 3 (ipykernel)",
   "language": "python",
   "name": "python3"
  },
  "language_info": {
   "codemirror_mode": {
    "name": "ipython",
    "version": 3
   },
   "file_extension": ".py",
   "mimetype": "text/x-python",
   "name": "python",
   "nbconvert_exporter": "python",
   "pygments_lexer": "ipython3",
   "version": "3.8.5"
  }
 },
 "nbformat": 4,
 "nbformat_minor": 4
}
